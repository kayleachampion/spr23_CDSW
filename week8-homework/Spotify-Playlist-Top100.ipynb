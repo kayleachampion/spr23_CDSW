{
 "cells": [
  {
   "cell_type": "markdown",
   "id": "5145a033",
   "metadata": {},
   "source": [
    "Spotify Boiler Plate Spotify Top 100"
   ]
  },
  {
   "cell_type": "code",
   "execution_count": 3,
   "id": "f8bf4307",
   "metadata": {},
   "outputs": [],
   "source": [
    "import spotipy \n",
    "\n",
    "from spotify_authentication import SPOTIPY_CLIENT_ID\n",
    "from spotify_authentication import SPOTIPY_CLIENT_SECRET\n",
    "\n",
    "from spotipy.oauth2 import SpotifyClientCredentials "
   ]
  },
  {
   "cell_type": "code",
   "execution_count": 4,
   "id": "24cf48a2",
   "metadata": {},
   "outputs": [],
   "source": [
    "spotify = spotipy.Spotify(client_credentials_manager=SpotifyClientCredentials(client_id=SPOTIPY_CLIENT_ID, client_secret=SPOTIPY_CLIENT_SECRET))\n",
    "#This is the playlist API for Top 100 Tracks. \n",
    "results = spotify.playlist_tracks(\"5ABHKGoOzxkaa28ttQV9sE\")\n",
    "items = results['items']\n",
    "\n",
    "track_list = r\"C:\\Users\\Nicke\\OneDrive\\Desktop\\CommunityDataScience\\Top_100_playlist_ids.txt\"\n",
    "\n",
    "with open(track_list, 'w') as output_file:\n",
    "\n",
    "    for item in items:\n",
    "        track_data = item['track']\n",
    "        track_id = track_data['id']\n",
    "    \n",
    "        print(track_id, file=output_file)"
   ]
  },
  {
   "cell_type": "markdown",
   "id": "5ea73aea",
   "metadata": {},
   "source": [
    "Playlist Audio Features"
   ]
  },
  {
   "cell_type": "code",
   "execution_count": 5,
   "id": "3d19c05e",
   "metadata": {},
   "outputs": [],
   "source": [
    "import json\n",
    "spotify = spotipy.Spotify(client_credentials_manager=SpotifyClientCredentials(client_id=SPOTIPY_CLIENT_ID, client_secret=SPOTIPY_CLIENT_SECRET))\n",
    "\n",
    "#adding credentials \n",
    "\n",
    "track_ids = r\"C:\\Users\\Nicke\\OneDrive\\Desktop\\CommunityDataScience\\Top_100_playlist_ids.txt\"\n",
    "\n",
    "track_features = r\"C:\\Users\\Nicke\\OneDrive\\Desktop\\CommunityDataScience\\Top_100_playlist_audio_features.jsonl\"\n",
    "\n",
    "with open(track_features, 'w') as output_file:\n",
    "    \n",
    "    with open(track_ids, 'r') as f:\n",
    "\n",
    "        for id in f:\n",
    "            id = id.replace('\\n', '')   #taking off the appended new line in the list of id's\n",
    "        \n",
    "        #print(id)\n",
    "\n",
    "            results_features = spotify.audio_features(id)\n",
    "            \n",
    "            print(json.dumps(results_features), file = output_file)"
   ]
  },
  {
   "cell_type": "markdown",
   "id": "713990cb",
   "metadata": {},
   "source": [
    "Succesful File Upload"
   ]
  }
 ],
 "metadata": {
  "kernelspec": {
   "display_name": "Python 3 (ipykernel)",
   "language": "python",
   "name": "python3"
  },
  "language_info": {
   "codemirror_mode": {
    "name": "ipython",
    "version": 3
   },
   "file_extension": ".py",
   "mimetype": "text/x-python",
   "name": "python",
   "nbconvert_exporter": "python",
   "pygments_lexer": "ipython3",
   "version": "3.10.9"
  }
 },
 "nbformat": 4,
 "nbformat_minor": 5
}
