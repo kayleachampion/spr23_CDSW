{
 "cells": [
  {
   "cell_type": "code",
   "execution_count": 4,
   "id": "bdaccd6e",
   "metadata": {},
   "outputs": [
    {
     "name": "stdout",
     "output_type": "stream",
     "text": [
      "False\n"
     ]
    }
   ],
   "source": [
    "import csv\n",
    "import praw\n",
    "import datetime\n",
    "from config import CLIENT_ID, CLIENT_SECRET, USERNAME, PASSWORD, USER_AGENT\n",
    "\n",
    "# Initialize the Reddit API client. You need to create a token on Reddit to do this. see documentation.\n",
    "reddit = praw.Reddit(\n",
    "    client_id=CLIENT_ID,\n",
    "    client_secret=CLIENT_SECRET,\n",
    "    username=USERNAME,\n",
    "    password=PASSWORD,\n",
    "    user_agent=USER_AGENT,\n",
    ")\n",
    "\n",
    "print(reddit.read_only) # show whther or not i have the authenticated connection with the API"
   ]
  },
  {
   "cell_type": "code",
   "execution_count": 5,
   "id": "599fa3e3",
   "metadata": {},
   "outputs": [
    {
     "name": "stdout",
     "output_type": "stream",
     "text": [
      "covidvaccinated\n",
      "CovidVaccinated\n",
      "Vaccines are coming ! Many types, from may manufacturers, at different times, for different people and in different places. Lets talk about vaccination and vaccines\n"
     ]
    }
   ],
   "source": [
    "# Get your subreddit\n",
    "subreddit = reddit.subreddit(\"covidvaccinated\")\n",
    "\n",
    "#Just doublechecking the info... \n",
    "print(subreddit.display_name)\n",
    "# Output: redditdev\n",
    "print(subreddit.title)\n",
    "# Output: reddit development\n",
    "print(subreddit.description)\n",
    "# Output: a subreddit for discussion of ..."
   ]
  },
  {
   "cell_type": "code",
   "execution_count": 6,
   "id": "02e06b3c",
   "metadata": {},
   "outputs": [],
   "source": [
    "# Get all comments from the subreddit\n",
    "comments = list(subreddit.comments(limit=None))\n",
    "\n",
    "# Open the CSV file for writing\n",
    "csv_file = open('covidvaccinated_comments_praw.csv', 'w', newline='', encoding='utf-8')\n",
    "csv_writer = csv.writer(csv_file)\n",
    "csv_writer.writerow(['Comment', 'Timestamp', 'Deleted', 'Comment Author', 'Distinguished', 'Nest Level', 'Total Comments', 'Comment Score'])\n",
    "\n",
    "def write_comments(comments, nest_level, total_comments):\n",
    "    for comment in comments:\n",
    "        # Comment deleted?\n",
    "        deleted = (comment.author is None)\n",
    "\n",
    "        # Comment author\n",
    "        comment_author = str(comment.author) if comment.author else None\n",
    "\n",
    "        # Is Distinguished and if so, how?\n",
    "        distinguished = comment.distinguished if comment.distinguished else ''\n",
    "\n",
    "        # Convert the timestamp to a human-readable format!\n",
    "        timestamp = datetime.datetime.fromtimestamp(comment.created_utc).strftime('%Y-%m-%d %H:%M:%S')\n",
    "\n",
    "        # Write comment data to the CSV file\n",
    "        csv_writer.writerow([comment.body, timestamp, deleted, comment_author, distinguished, nest_level, total_comments, comment.score])\n",
    "\n",
    "        # Recursively write nested comments\n",
    "        if len(comment.replies) > 0:\n",
    "            write_comments(comment.replies, nest_level + 1, total_comments)\n",
    "\n",
    "# Write comments and their nested replies\n",
    "total_comments = len(comments)\n",
    "write_comments(comments, 0, total_comments)\n",
    "\n",
    "# Close the CSV file\n",
    "csv_file.close()\n"
   ]
  },
  {
   "cell_type": "code",
   "execution_count": null,
   "id": "1142eb0b",
   "metadata": {},
   "outputs": [],
   "source": []
  }
 ],
 "metadata": {
  "kernelspec": {
   "display_name": "Python 3 (ipykernel)",
   "language": "python",
   "name": "python3"
  },
  "language_info": {
   "codemirror_mode": {
    "name": "ipython",
    "version": 3
   },
   "file_extension": ".py",
   "mimetype": "text/x-python",
   "name": "python",
   "nbconvert_exporter": "python",
   "pygments_lexer": "ipython3",
   "version": "3.10.9"
  }
 },
 "nbformat": 4,
 "nbformat_minor": 5
}
