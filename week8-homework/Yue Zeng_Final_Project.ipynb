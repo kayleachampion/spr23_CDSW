{
 "cells": [
  {
   "cell_type": "code",
   "execution_count": 61,
   "id": "6f2c270c",
   "metadata": {},
   "outputs": [],
   "source": [
    "import requests"
   ]
  },
  {
   "cell_type": "code",
   "execution_count": 62,
   "id": "ee27659e",
   "metadata": {},
   "outputs": [],
   "source": [
    "# import api\n",
    "wp_api_url = \"http://en.wikipedia.org/w/api.php\"\n",
    "\n",
    "# dictionary\n",
    "parameters = {\n",
    "    'action': 'query',\n",
    "    'cmtitle': \"Category:Health\",\n",
    "    'list': 'categorymembers',\n",
    "    'cmlimit': 500,\n",
    "    'format': 'json',\n",
    "    'cmprop': 'ids|title|type',\n",
    "}\n",
    "\n",
    "# create empty lists\n",
    "pages = {\"Category:Health\": []}\n",
    "subcats = []\n",
    "# subcats = subcategories\n",
    "\n",
    "while True:\n",
    "    response = requests.get(wp_api_url, params = parameters)\n",
    "    data = response.json()\n",
    "    for wiki_item in data[\"query\"][\"categorymembers\"]:\n",
    "        if wiki_item[\"type\"] == \"page\":\n",
    "            pages[\"Category:Health\"].append(wiki_item[\"title\"])\n",
    "        elif wiki_item[\"type\"] == \"subcat\":\n",
    "            subcats.append(wiki_item[\"title\"])\n",
    "    if 'continue' in data.keys():\n",
    "        parameters.update(data[\"continue\"])\n",
    "    else:\n",
    "        break\n"
   ]
  },
  {
   "cell_type": "code",
   "execution_count": 53,
   "id": "06799166",
   "metadata": {},
   "outputs": [
    {
     "name": "stdout",
     "output_type": "stream",
     "text": [
      "Get Page for Category:Health by demographic\n",
      "Get Page for Category:Health by individual\n",
      "Get Page for Category:Health by location\n",
      "Get Page for Category:Health by period\n",
      "Get Page for Category:Health effects by subject\n",
      "Get Page for Category:Health care\n",
      "Get Page for Category:Health-related lists\n",
      "Get Page for Category:People in health professions\n",
      "Get Page for Category:Health activism\n",
      "Get Page for Category:Alcohol and health\n",
      "Get Page for Category:Animal health\n",
      "Get Page for Category:Death\n",
      "Get Page for Category:Determinants of health\n",
      "Get Page for Category:Disability\n",
      "Get Page for Category:Health disasters\n",
      "Get Page for Category:Diseases and disorders\n",
      "Get Page for Category:Health economics\n",
      "Get Page for Category:Education and health\n",
      "Get Page for Category:Environment and health\n",
      "Get Page for Category:Global health\n",
      "Get Page for Category:Healing\n",
      "Get Page for Category:Impact of the COVID-19 pandemic on other health issues\n",
      "Get Page for Category:Health informatics\n",
      "Get Page for Category:Health law\n",
      "Get Page for Category:Mental health\n",
      "Get Page for Category:Health and military\n",
      "Get Page for Category:Occupational safety and health\n",
      "Get Page for Category:Health paradoxes\n",
      "Get Page for Category:Physical fitness\n",
      "Get Page for Category:Health and politics\n",
      "Get Page for Category:Public health\n",
      "Get Page for Category:Quality of life\n",
      "Get Page for Category:Race and health\n",
      "Get Page for Category:Religion and health\n",
      "Get Page for Category:Health research\n",
      "Get Page for Category:Health risk\n",
      "Get Page for Category:Health sciences\n",
      "Get Page for Category:Sexual health\n",
      "Get Page for Category:Health and sports\n",
      "Get Page for Category:Health and transport\n",
      "Get Page for Category:Health and video gaming\n",
      "Get Page for Category:Works about health\n",
      "Get Page for Category:Health stubs\n"
     ]
    }
   ],
   "source": [
    "for subcat in subcats:\n",
    "    parameters = {\n",
    "        'action': 'query',\n",
    "        'cmtitle': subcat,\n",
    "        'list': 'categorymembers',\n",
    "        'cmlimit': 500,\n",
    "        'format': 'json',\n",
    "        'cmprop': 'ids|title|type',\n",
    "    }\n",
    "    print(f\"Get Page for {subcat}\")\n",
    "    pages[subcat] = []\n",
    "\n",
    "#  start of an infinite loop\n",
    "    while True:\n",
    "        response = requests.get(wp_api_url, params=parameters)\n",
    "        data = response.json()\n",
    "        for member in data[\"query\"][\"categorymembers\"]:\n",
    "            if member[\"type\"] == \"page\":\n",
    "                pages[subcat].append(member[\"title\"])\n",
    "        if 'continue' in data.keys():\n",
    "            # update parameters with continue parameter to fetch more data\n",
    "            parameters.update(data['continue'])\n",
    "        else:\n",
    "            break"
   ]
  },
  {
   "cell_type": "code",
   "execution_count": 84,
   "id": "194381c2",
   "metadata": {},
   "outputs": [
    {
     "name": "stdout",
     "output_type": "stream",
     "text": [
      "Get Health pageview\n",
      "Get Age of onset pageview\n",
      "Get Attachment and health pageview\n",
      "Get Behavioral medicine pageview\n",
      "Get Community diagnosis pageview\n",
      "Get Medical geography pageview\n",
      "Get Mens sana in corpore sano pageview\n",
      "Get Polyuria pageview\n",
      "Get Psychological impact of discrimination on health pageview\n",
      "Get Relationships and health pageview\n",
      "Get Sleep tracking pageview\n",
      "Get Trans-European Drug Information pageview\n",
      "Get Wellbeing Literacy pageview\n"
     ]
    }
   ],
   "source": [
    "project = \"en.wikipedia.org\"\n",
    "access = \"all-acess\"\n",
    "agent = \"all-agents\"\n",
    "\n",
    "pageviews = {}\n",
    "start_year = 2013\n",
    "end_year = 2023\n",
    "\n",
    "for category, title_list in pages.items():\n",
    "    for title in title_list:\n",
    "        print(f\"Get {title} pageview\")\n",
    "        url = f\"http://wikimedia.org/api/rest_v1/metrics/pageviews/per-article/{project}/{access}/{agent}/{title}/monthly/{start_year}010100/{end_year}123100\"\n",
    "        response = requests.get(url, headers={\"user-agent\": \"Mozilla/5.0 (Macintosh; Intel Mac OS X 10_15_7) AppleWebKit/537.36 (KHTML, like Gecko) Chrome/113.0.0.0 Safari/537.36\"})\n",
    "        if response.status_code == 200:\n",
    "            pageviews[(category, title)] = []\n",
    "            for year in rage(start_year, end_year + 1):\n",
    "                view = 0\n",
    "                for item in response.json()['items']:\n",
    "                    if item in response.json()['item']:\n",
    "                        if item[\"timestamp\"][:4] == str(year):\n",
    "                            view += item [\"views\"]\n",
    "                        pageviews[(category, title)].append(view)\n",
    "                else:\n",
    "                    print(f\"Get {title} pageview failed\")"
   ]
  },
  {
   "cell_type": "markdown",
   "id": "ac23dc95",
   "metadata": {},
   "source": []
  },
  {
   "cell_type": "code",
   "execution_count": 79,
   "id": "241932d3",
   "metadata": {},
   "outputs": [],
   "source": [
    "import datetime"
   ]
  },
  {
   "cell_type": "code",
   "execution_count": 80,
   "id": "87d158c5",
   "metadata": {},
   "outputs": [],
   "source": [
    "# generating a list of all dates within a given range of years\n",
    "all_dates = []\n",
    "date = datetime.datetime(start_year,1,1)\n",
    "# sets up a loop that will continue as long as date is less than or equal to December 31 of the end_year.\n",
    "while date <= datetime.datetime(end_year,12,31):\n",
    "#  adds the string representation of the current date\n",
    "    all_dates.append(date.strftime(\"%Y%m%d\"))\n",
    "#  represent a duration, the difference between two dates or times.\n",
    "    date += datetime.timedelta(days = 1)"
   ]
  },
  {
   "cell_type": "code",
   "execution_count": 82,
   "id": "ff66481c",
   "metadata": {},
   "outputs": [],
   "source": [
    "# create an empty set\n",
    "dates_monthly_set = set()\n",
    "# iterate over each date\n",
    "for date in all_dates:\n",
    "# add the first six characters of each date (YYYYMM) to the set\n",
    "    dates_monthly_set.add(date[:6])\n",
    "# convert the set to a list and sort it\n",
    "dates_monthly_list = sorted(dates_monthly_set)\n",
    "# create an empty dictionary\n",
    "dates_monthly = {}\n",
    "\n",
    "# sets up a loop that will iterate i over range(len(dates_monthly_list)), which is a length(from 0)\n",
    "for i in range(len(dates_monthly_list)):\n",
    "# assigns the i-th element of this list to the variable date\n",
    "    date = dates_monthly_list[i]\n",
    "# adds each date as a key in the dates_monthly dictionary and sets the corresponding value as the index i from the list\n",
    "    dates_monthly[date] = pageviews_monthly = {key: [0] * len(dates_monthly) for key in pageviews}\n",
    "# above all, creates a mapping from each unique year-month combination to its position in the sorted list\n",
    "\n",
    "for key in pageviews:\n",
    "    for date, view in pageviews[key].items():\n",
    "        pageviews_monthly[key][dates_monthly[date[:6]]] += view\n",
    "        \n",
    "with open(\"health_pageviews_monthly_in_wiki.tsv\", \"w\") as file_out:\n",
    "    file_out.write(\"category\\ttitle\\t\" + \"\\t\".join(sorted(dates_monthly.keys())) + \"\\n\")\n",
    "    for (category, title), views in pageviews_monthly.items():\n",
    "        file_out.write(category + \"\\t\" + title + \"\\t\" + \"\\t\".join(map(str, views)) + \"\\n\")"
   ]
  },
  {
   "cell_type": "code",
   "execution_count": null,
   "id": "931e5f99",
   "metadata": {},
   "outputs": [],
   "source": [
    "https://docs.google.com/spreadsheets/d/12NFSumjF0KLYi1kFJ9wxMWqEmRads0lcArWZJlq4ITU/edit?usp=sharing"
   ]
  }
 ],
 "metadata": {
  "kernelspec": {
   "display_name": "Python 3 (ipykernel)",
   "language": "python",
   "name": "python3"
  },
  "language_info": {
   "codemirror_mode": {
    "name": "ipython",
    "version": 3
   },
   "file_extension": ".py",
   "mimetype": "text/x-python",
   "name": "python",
   "nbconvert_exporter": "python",
   "pygments_lexer": "ipython3",
   "version": "3.10.9"
  }
 },
 "nbformat": 4,
 "nbformat_minor": 5
}
