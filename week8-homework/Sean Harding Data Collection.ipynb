{
 "cells": [
  {
   "cell_type": "code",
   "execution_count": null,
   "id": "95bc9742",
   "metadata": {},
   "outputs": [],
   "source": [
    "import requests\n",
    "import json"
   ]
  },
  {
   "cell_type": "code",
   "execution_count": null,
   "id": "2761320b",
   "metadata": {},
   "outputs": [],
   "source": [
    "with open(\"output_1.jsonl\", \"w\") as my_file:\n",
    "    article_counter = 0\n",
    "    while article_counter < 150000:\n",
    "        if article_counter / 10000 is int:\n",
    "            print(article_counter)\n",
    "        my_response = requests.get(f\"https://api.army.mil/api/v1/article/{article_counter}\")\n",
    "        if my_response.status_code == 200:\n",
    "            new_data = my_response.json()\n",
    "            print(new_data, file = my_file)\n",
    "            article_counter += 1\n",
    "        else:\n",
    "            article_counter += 1\n",
    "            \n",
    "if article_counter == 150000:\n",
    "    print(\"Data collection complete\")\n",
    "    print(article_counter)\n",
    "else:\n",
    "    print(\"Error\")\n",
    "    print(my_response.status_code)\n",
    "    print(article_counter)"
   ]
  },
  {
   "cell_type": "code",
   "execution_count": null,
   "id": "ab9cf4df",
   "metadata": {},
   "outputs": [],
   "source": [
    "with open(\"output_1.jsonl\", \"w\") as my_file:\n",
    "    article_counter = 0\n",
    "    while article_counter < 300000:\n",
    "        if article_counter / 10000 is int:\n",
    "            print(article_counter)\n",
    "        my_response = requests.get(f\"https://api.army.mil/api/v1/article/{article_counter}\")\n",
    "        if my_response.status_code == 200:\n",
    "            new_data = my_response.json()\n",
    "            print(new_data, file = my_file)\n",
    "            article_counter += 1\n",
    "        else:\n",
    "            article_counter += 1\n",
    "            \n",
    "if article_counter == 300000:\n",
    "    print(\"Data collection complete\")\n",
    "    print(article_counter)\n",
    "else:\n",
    "    print(\"Error\")\n",
    "    print(my_response.status_code)\n",
    "    print(article_counter)"
   ]
  }
 ],
 "metadata": {
  "kernelspec": {
   "display_name": "Python 3 (ipykernel)",
   "language": "python",
   "name": "python3"
  },
  "language_info": {
   "codemirror_mode": {
    "name": "ipython",
    "version": 3
   },
   "file_extension": ".py",
   "mimetype": "text/x-python",
   "name": "python",
   "nbconvert_exporter": "python",
   "pygments_lexer": "ipython3",
   "version": "3.10.9"
  }
 },
 "nbformat": 4,
 "nbformat_minor": 5
}
