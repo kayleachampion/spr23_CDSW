{
 "cells": [
  {
   "cell_type": "markdown",
   "id": "27a26da4",
   "metadata": {},
   "source": [
    "#SOS - Tiana @ 5/21 @ 7 pm\n",
    "\n",
    "Obviously this is my code and progress before pmaw died, so i'm sharing that to show that I was working on my data collection but did not have time to transition yet to a new option since yesterday. I also have a separate notebook for the comment collection but was working on this one first, so that one has no output and won't anymore clearly so figured it would be useless to share - its all the same as this stuff but for comments instead of submissions. "
   ]
  },
  {
   "cell_type": "markdown",
   "id": "0faa8b72",
   "metadata": {},
   "source": [
    "COM597 Kindness Subreddit SUBMISSION Collection\n",
    "\n",
    "(year by subreddit)"
   ]
  },
  {
   "cell_type": "markdown",
   "id": "5eead0d4",
   "metadata": {},
   "source": [
    "---"
   ]
  },
  {
   "cell_type": "code",
   "execution_count": 1,
   "id": "2099cc20",
   "metadata": {},
   "outputs": [],
   "source": [
    "from pmaw import PushshiftAPI\n",
    "import requests\n",
    "import json\n",
    "import time"
   ]
  },
  {
   "cell_type": "code",
   "execution_count": 2,
   "id": "ee1d69bf",
   "metadata": {},
   "outputs": [],
   "source": [
    "april_30_2023 = 1682812800\n",
    "april_30_2022 = 1651276800\n",
    "april_30_2021 = 1619740800\n",
    "april_30_2020 = 1588204800\n",
    "april_30_2019 = 1556582400\n",
    "april_30_2018 = 1525046400\n",
    "\n",
    "october_30_2022 = 1667088000\n",
    "october_30_2021 = 1635552000\n",
    "october_30_2020 = 1604016000\n",
    "october_30_2019 = 1572393600\n",
    "october_30_2018 = 1540857600"
   ]
  },
  {
   "cell_type": "code",
   "execution_count": 3,
   "id": "7fe6f139",
   "metadata": {},
   "outputs": [],
   "source": [
    "def get_submissions(subreddit):\n",
    "    api = PushshiftAPI()   \n",
    "    \n",
    "    before_time = insert_date\n",
    "\n",
    "    post_list = []\n",
    "\n",
    "    counter = 0\n",
    "    while True:\n",
    "        \n",
    "        try:\n",
    "            posts = api.search_submissions(subreddit = subreddit, limit = 100, sort = \"created_utc\", order = \"desc\", before = before_time)\n",
    "\n",
    "            new_post_list = [post for post in posts]\n",
    "\n",
    "            post_list.extend(new_post_list)\n",
    "\n",
    "            before_time = new_post_list[-1][\"created_utc\"]\n",
    "            print(f\"api call #{counter + 1} finished. start from epoch time:\", before_time)\n",
    "            if len(new_post_list) == 0:\n",
    "                break\n",
    "\n",
    "            if before_time < insert_date:\n",
    "                break\n",
    "\n",
    "            counter += 1\n",
    "            \n",
    "            last_known_good = before_time\n",
    "            \n",
    "        except IndexError: \n",
    "            \n",
    "            print(f\"IndexError caught, resuming at: {last_known_good}\")\n",
    "            time.sleep(1.1)\n",
    "\n",
    "            posts = api.search_submissions(subreddit = subreddit, limit = 100, sort = \"created_utc\", order = \"desc\", before = last_known_good)\n",
    "\n",
    "            new_post_list = [post for post in posts]\n",
    "\n",
    "            post_list.extend(new_post_list)\n",
    "\n",
    "            before_time = new_post_list[-1][\"created_utc\"]\n",
    "            print(f\"api call #{counter + 1} finished. start from epoch time:\", before_time)\n",
    "            if len(new_post_list) == 0:\n",
    "                break\n",
    "\n",
    "            if before_time < insert_date:\n",
    "                break\n",
    "\n",
    "            counter += 1\n",
    "    return post_list"
   ]
  },
  {
   "cell_type": "code",
   "execution_count": 4,
   "id": "722f6c3b",
   "metadata": {},
   "outputs": [],
   "source": [
    "def dedup_list(inposts):\n",
    "    dedup_post_list = []\n",
    "    for post in inposts:\n",
    "        if post in dedup_post_list:\n",
    "            continue\n",
    "        else:\n",
    "            dedup_post_list.append(post)\n",
    "    print(f\"dropped {len(inposts) - len(dedup_post_list)} duplicates\")\n",
    "    return dedup_post_list"
   ]
  },
  {
   "cell_type": "markdown",
   "id": "8d17b2a3",
   "metadata": {},
   "source": [
    "---"
   ]
  },
  {
   "cell_type": "markdown",
   "id": "9c0cbcd7",
   "metadata": {},
   "source": [
    "SUBREDDITS: (in ascending membership order)"
   ]
  },
  {
   "cell_type": "markdown",
   "id": "1ce960f4",
   "metadata": {},
   "source": [
    "r/kindness\n",
    "\n",
    "https://www.reddit.com/r/kindness/\n",
    "\n",
    "created: 2009\n",
    "\n",
    "members: ~5.5k"
   ]
  },
  {
   "cell_type": "markdown",
   "id": "2f5cd362",
   "metadata": {},
   "source": [
    "r/randomactsofkindness\n",
    "\n",
    "https://www.reddit.com/r/randomactsofkindness/\n",
    "\n",
    "created: 2010\n",
    "\n",
    "members: ~35.2k"
   ]
  },
  {
   "cell_type": "markdown",
   "id": "8b7ee69d",
   "metadata": {},
   "source": [
    "r/KindVoice\n",
    "\n",
    "https://www.reddit.com/r/KindVoice/\n",
    "\n",
    "created: 2013\n",
    "\n",
    "members: ~72k"
   ]
  },
  {
   "cell_type": "markdown",
   "id": "a6265b9e",
   "metadata": {},
   "source": [
    "r/RandomKindness\n",
    "\n",
    "https://www.reddit.com/r/RandomKindness/\n",
    "\n",
    "created: 2011\n",
    "\n",
    "members: ~312k"
   ]
  },
  {
   "cell_type": "markdown",
   "id": "238acff5",
   "metadata": {},
   "source": [
    "---"
   ]
  },
  {
   "cell_type": "markdown",
   "id": "adec389f",
   "metadata": {},
   "source": [
    "Actual submission collection period -\n",
    "\n",
    "for each of my four kindness subreddits (in ascending membership order)\n",
    "\n",
    "for each year in my 5 year span"
   ]
  },
  {
   "cell_type": "markdown",
   "id": "3f2a22a3",
   "metadata": {},
   "source": [
    "---"
   ]
  },
  {
   "cell_type": "markdown",
   "id": "8bcdad93",
   "metadata": {},
   "source": [
    "YEAR: 2022-2023"
   ]
  },
  {
   "cell_type": "code",
   "execution_count": 8,
   "id": "c1afdb96",
   "metadata": {},
   "outputs": [],
   "source": [
    "#2022-2023\n",
    "\n",
    "def get_submissions(subreddit):\n",
    "    api = PushshiftAPI()   \n",
    "    \n",
    "    before_time = april_30_2023\n",
    "\n",
    "    post_list = []\n",
    "\n",
    "    counter = 0\n",
    "    while True:\n",
    "        \n",
    "        try:\n",
    "            posts = api.search_submissions(subreddit = subreddit, limit = 100, sort = \"created_utc\", order = \"desc\", before = before_time)\n",
    "\n",
    "            new_post_list = [post for post in posts]\n",
    "\n",
    "            post_list.extend(new_post_list)\n",
    "\n",
    "            before_time = new_post_list[-1][\"created_utc\"]\n",
    "            print(f\"api call #{counter + 1} finished. start from epoch time:\", before_time)\n",
    "            if len(new_post_list) == 0:\n",
    "                break\n",
    "\n",
    "            if before_time < april_30_2022:\n",
    "                break\n",
    "\n",
    "            counter += 1\n",
    "            \n",
    "            last_known_good = before_time\n",
    "            \n",
    "        except IndexError: \n",
    "            \n",
    "            print(f\"IndexError caught, resuming at: {last_known_good}\")\n",
    "            time.sleep(1.1)\n",
    "\n",
    "            posts = api.search_submissions(subreddit = subreddit, limit = 100, sort = \"created_utc\", order = \"desc\", before = last_known_good)\n",
    "\n",
    "            new_post_list = [post for post in posts]\n",
    "\n",
    "            post_list.extend(new_post_list)\n",
    "\n",
    "            before_time = new_post_list[-1][\"created_utc\"]\n",
    "            print(f\"api call #{counter + 1} finished. start from epoch time:\", before_time)\n",
    "            if len(new_post_list) == 0:\n",
    "                break\n",
    "\n",
    "            if before_time < april_30_2022:\n",
    "                break\n",
    "\n",
    "            counter += 1\n",
    "    return post_list"
   ]
  },
  {
   "cell_type": "markdown",
   "id": "595ba701",
   "metadata": {},
   "source": [
    "---"
   ]
  },
  {
   "cell_type": "code",
   "execution_count": 6,
   "id": "0f536b82",
   "metadata": {},
   "outputs": [
    {
     "name": "stdout",
     "output_type": "stream",
     "text": [
      "api call #1 finished. start from epoch time: 1677060685\n",
      "api call #2 finished. start from epoch time: 1671438623\n",
      "api call #3 finished. start from epoch time: 1667369951\n",
      "api call #4 finished. start from epoch time: 1663282545\n",
      "api call #5 finished. start from epoch time: 1657616915\n",
      "api call #6 finished. start from epoch time: 1652854929\n",
      "api call #7 finished. start from epoch time: 1649197415\n"
     ]
    }
   ],
   "source": [
    "post_list = get_submissions(\"kindness\")"
   ]
  },
  {
   "cell_type": "code",
   "execution_count": 7,
   "id": "f13a4943",
   "metadata": {},
   "outputs": [
    {
     "data": {
      "text/plain": [
       "700"
      ]
     },
     "execution_count": 7,
     "metadata": {},
     "output_type": "execute_result"
    }
   ],
   "source": [
    "len(post_list)"
   ]
  },
  {
   "cell_type": "code",
   "execution_count": 8,
   "id": "914d669d",
   "metadata": {},
   "outputs": [
    {
     "name": "stdout",
     "output_type": "stream",
     "text": [
      "dropped 7 duplicates\n"
     ]
    }
   ],
   "source": [
    "dedup_post_list = dedup_list(post_list)"
   ]
  },
  {
   "cell_type": "code",
   "execution_count": 9,
   "id": "7c637b0f",
   "metadata": {},
   "outputs": [
    {
     "data": {
      "text/plain": [
       "693"
      ]
     },
     "execution_count": 9,
     "metadata": {},
     "output_type": "execute_result"
    }
   ],
   "source": [
    "len(dedup_post_list)"
   ]
  },
  {
   "cell_type": "code",
   "execution_count": 10,
   "id": "de4d5229",
   "metadata": {},
   "outputs": [],
   "source": [
    "with open(\"kindness_submission_data_22-23.jsonl\", 'w') as output_file:\n",
    "    for post in dedup_post_list:\n",
    "        line_string = json.dumps(post)\n",
    "        print(line_string, file = output_file)"
   ]
  },
  {
   "cell_type": "markdown",
   "id": "3c29e513",
   "metadata": {},
   "source": [
    "---"
   ]
  },
  {
   "cell_type": "code",
   "execution_count": 9,
   "id": "24561a4e",
   "metadata": {
    "scrolled": false
   },
   "outputs": [
    {
     "name": "stdout",
     "output_type": "stream",
     "text": [
      "api call #1 finished. start from epoch time: 1676828737\n",
      "api call #2 finished. start from epoch time: 1671285312\n",
      "api call #3 finished. start from epoch time: 1667799768\n",
      "api call #4 finished. start from epoch time: 1662478831\n"
     ]
    },
    {
     "name": "stderr",
     "output_type": "stream",
     "text": [
      "Not all PushShift shards are active. Query results may be incomplete.\n"
     ]
    },
    {
     "name": "stdout",
     "output_type": "stream",
     "text": [
      "IndexError caught, resuming at: 1662478831\n",
      "api call #5 finished. start from epoch time: 1661187646\n",
      "api call #6 finished. start from epoch time: 1659069883\n",
      "api call #7 finished. start from epoch time: 1653685120\n",
      "api call #8 finished. start from epoch time: 1649747598\n"
     ]
    }
   ],
   "source": [
    "post_list = get_submissions(\"randomactsofkindness\")"
   ]
  },
  {
   "cell_type": "code",
   "execution_count": 10,
   "id": "6bb3e6b7",
   "metadata": {},
   "outputs": [
    {
     "data": {
      "text/plain": [
       "800"
      ]
     },
     "execution_count": 10,
     "metadata": {},
     "output_type": "execute_result"
    }
   ],
   "source": [
    "len(post_list)"
   ]
  },
  {
   "cell_type": "code",
   "execution_count": 11,
   "id": "df136217",
   "metadata": {},
   "outputs": [
    {
     "name": "stdout",
     "output_type": "stream",
     "text": [
      "dropped 188 duplicates\n"
     ]
    }
   ],
   "source": [
    "dedup_post_list = dedup_list(post_list)"
   ]
  },
  {
   "cell_type": "code",
   "execution_count": 12,
   "id": "029f0476",
   "metadata": {},
   "outputs": [
    {
     "data": {
      "text/plain": [
       "612"
      ]
     },
     "execution_count": 12,
     "metadata": {},
     "output_type": "execute_result"
    }
   ],
   "source": [
    "len(dedup_post_list)"
   ]
  },
  {
   "cell_type": "code",
   "execution_count": 13,
   "id": "7aabf23b",
   "metadata": {},
   "outputs": [],
   "source": [
    "with open(\"randomactsofkindness_submission_data_22-23.jsonl\", 'w') as output_file:\n",
    "    for post in dedup_post_list:\n",
    "        line_string = json.dumps(post)\n",
    "        print(line_string, file = output_file)"
   ]
  },
  {
   "cell_type": "markdown",
   "id": "d89d34bf",
   "metadata": {},
   "source": [
    "---"
   ]
  },
  {
   "cell_type": "code",
   "execution_count": 14,
   "id": "01b45dab",
   "metadata": {},
   "outputs": [
    {
     "name": "stdout",
     "output_type": "stream",
     "text": [
      "api call #1 finished. start from epoch time: 1682212110\n",
      "api call #2 finished. start from epoch time: 1681340094\n",
      "api call #3 finished. start from epoch time: 1681336256\n",
      "api call #4 finished. start from epoch time: 1681313362\n",
      "api call #5 finished. start from epoch time: 1681291995\n",
      "api call #6 finished. start from epoch time: 1681272935\n",
      "api call #7 finished. start from epoch time: 1681267760\n",
      "api call #8 finished. start from epoch time: 1681245677\n",
      "api call #9 finished. start from epoch time: 1681227794\n",
      "api call #10 finished. start from epoch time: 1681196846\n",
      "api call #11 finished. start from epoch time: 1681185359\n",
      "api call #12 finished. start from epoch time: 1681176848\n",
      "api call #13 finished. start from epoch time: 1681174614\n",
      "api call #14 finished. start from epoch time: 1681161705\n",
      "api call #15 finished. start from epoch time: 1681152098\n"
     ]
    },
    {
     "name": "stderr",
     "output_type": "stream",
     "text": [
      "Not all PushShift shards are active. Query results may be incomplete.\n"
     ]
    },
    {
     "name": "stdout",
     "output_type": "stream",
     "text": [
      "IndexError caught, resuming at: 1681152098\n",
      "api call #16 finished. start from epoch time: 1681144611\n",
      "api call #17 finished. start from epoch time: 1681142081\n",
      "api call #18 finished. start from epoch time: 1681133949\n",
      "api call #19 finished. start from epoch time: 1681102792\n",
      "api call #20 finished. start from epoch time: 1681097861\n"
     ]
    },
    {
     "name": "stderr",
     "output_type": "stream",
     "text": [
      "Not all PushShift shards are active. Query results may be incomplete.\n"
     ]
    },
    {
     "name": "stdout",
     "output_type": "stream",
     "text": [
      "IndexError caught, resuming at: 1681097861\n",
      "api call #21 finished. start from epoch time: 1681059384\n",
      "api call #22 finished. start from epoch time: 1681029796\n",
      "api call #23 finished. start from epoch time: 1681001498\n",
      "api call #24 finished. start from epoch time: 1680979568\n",
      "api call #25 finished. start from epoch time: 1680974319\n",
      "api call #26 finished. start from epoch time: 1680963287\n",
      "api call #27 finished. start from epoch time: 1680954087\n",
      "api call #28 finished. start from epoch time: 1680935203\n",
      "api call #29 finished. start from epoch time: 1680925837\n",
      "api call #30 finished. start from epoch time: 1680918602\n",
      "api call #31 finished. start from epoch time: 1680918140\n",
      "api call #32 finished. start from epoch time: 1680913073\n",
      "api call #33 finished. start from epoch time: 1680910593\n",
      "api call #34 finished. start from epoch time: 1680903698\n",
      "api call #35 finished. start from epoch time: 1680899573\n",
      "api call #36 finished. start from epoch time: 1680891915\n",
      "api call #37 finished. start from epoch time: 1680889440\n",
      "api call #38 finished. start from epoch time: 1680884621\n",
      "api call #39 finished. start from epoch time: 1680883761\n",
      "api call #40 finished. start from epoch time: 1680873999\n",
      "api call #41 finished. start from epoch time: 1680845093\n",
      "api call #42 finished. start from epoch time: 1680830085\n",
      "api call #43 finished. start from epoch time: 1680805484\n",
      "api call #44 finished. start from epoch time: 1680805110\n",
      "api call #45 finished. start from epoch time: 1680802787\n",
      "api call #46 finished. start from epoch time: 1680794092\n",
      "api call #47 finished. start from epoch time: 1680791712\n",
      "api call #48 finished. start from epoch time: 1680780861\n",
      "api call #49 finished. start from epoch time: 1680751823\n",
      "api call #50 finished. start from epoch time: 1680737338\n",
      "api call #51 finished. start from epoch time: 1680736520\n",
      "api call #52 finished. start from epoch time: 1680713329\n",
      "api call #53 finished. start from epoch time: 1680705205\n"
     ]
    },
    {
     "name": "stderr",
     "output_type": "stream",
     "text": [
      "Not all PushShift shards are active. Query results may be incomplete.\n"
     ]
    },
    {
     "name": "stdout",
     "output_type": "stream",
     "text": [
      "IndexError caught, resuming at: 1680705205\n",
      "api call #54 finished. start from epoch time: 1679782048\n",
      "api call #55 finished. start from epoch time: 1679754259\n",
      "api call #56 finished. start from epoch time: 1679717157\n",
      "api call #57 finished. start from epoch time: 1679707085\n",
      "api call #58 finished. start from epoch time: 1679692866\n",
      "api call #59 finished. start from epoch time: 1679688864\n",
      "api call #60 finished. start from epoch time: 1679672075\n",
      "api call #61 finished. start from epoch time: 1679667692\n",
      "api call #62 finished. start from epoch time: 1679662096\n",
      "api call #63 finished. start from epoch time: 1679626311\n",
      "api call #64 finished. start from epoch time: 1679618665\n"
     ]
    },
    {
     "name": "stderr",
     "output_type": "stream",
     "text": [
      "Not all PushShift shards are active. Query results may be incomplete.\n"
     ]
    },
    {
     "name": "stdout",
     "output_type": "stream",
     "text": [
      "IndexError caught, resuming at: 1679618665\n",
      "api call #65 finished. start from epoch time: 1679610603\n",
      "api call #66 finished. start from epoch time: 1679604277\n"
     ]
    },
    {
     "name": "stderr",
     "output_type": "stream",
     "text": [
      "Not all PushShift shards are active. Query results may be incomplete.\n"
     ]
    },
    {
     "name": "stdout",
     "output_type": "stream",
     "text": [
      "IndexError caught, resuming at: 1679604277\n",
      "api call #67 finished. start from epoch time: 1679598403\n",
      "api call #68 finished. start from epoch time: 1679593007\n",
      "api call #69 finished. start from epoch time: 1679586951\n",
      "api call #70 finished. start from epoch time: 1679543805\n",
      "api call #71 finished. start from epoch time: 1679530423\n",
      "api call #72 finished. start from epoch time: 1679523831\n",
      "api call #73 finished. start from epoch time: 1679520199\n",
      "api call #74 finished. start from epoch time: 1679460806\n"
     ]
    },
    {
     "name": "stderr",
     "output_type": "stream",
     "text": [
      "Not all PushShift shards are active. Query results may be incomplete.\n"
     ]
    },
    {
     "name": "stdout",
     "output_type": "stream",
     "text": [
      "IndexError caught, resuming at: 1679460806\n",
      "api call #75 finished. start from epoch time: 1679460051\n",
      "api call #76 finished. start from epoch time: 1679443501\n",
      "api call #77 finished. start from epoch time: 1679441372\n",
      "api call #78 finished. start from epoch time: 1679433242\n",
      "api call #79 finished. start from epoch time: 1679429251\n",
      "api call #80 finished. start from epoch time: 1679424086\n",
      "api call #81 finished. start from epoch time: 1679420016\n",
      "api call #82 finished. start from epoch time: 1679394299\n",
      "api call #83 finished. start from epoch time: 1679391883\n",
      "api call #84 finished. start from epoch time: 1679368208\n",
      "api call #85 finished. start from epoch time: 1679363428\n",
      "api call #86 finished. start from epoch time: 1679356413\n",
      "api call #87 finished. start from epoch time: 1678543679\n",
      "api call #88 finished. start from epoch time: 1677831840\n",
      "api call #89 finished. start from epoch time: 1677820126\n",
      "api call #90 finished. start from epoch time: 1677795736\n",
      "api call #91 finished. start from epoch time: 1677795447\n",
      "api call #92 finished. start from epoch time: 1677794360\n",
      "api call #93 finished. start from epoch time: 1677792644\n",
      "api call #94 finished. start from epoch time: 1677782464\n",
      "api call #95 finished. start from epoch time: 1677778581\n",
      "api call #96 finished. start from epoch time: 1677739993\n",
      "api call #97 finished. start from epoch time: 1677013703\n",
      "api call #98 finished. start from epoch time: 1676389879\n",
      "api call #99 finished. start from epoch time: 1675649643\n",
      "api call #100 finished. start from epoch time: 1674870757\n",
      "api call #101 finished. start from epoch time: 1673902269\n",
      "api call #102 finished. start from epoch time: 1673901028\n",
      "api call #103 finished. start from epoch time: 1673892468\n",
      "api call #104 finished. start from epoch time: 1673878253\n",
      "api call #105 finished. start from epoch time: 1673865189\n",
      "api call #106 finished. start from epoch time: 1673864173\n",
      "api call #107 finished. start from epoch time: 1673861185\n"
     ]
    },
    {
     "name": "stderr",
     "output_type": "stream",
     "text": [
      "Not all PushShift shards are active. Query results may be incomplete.\n"
     ]
    },
    {
     "name": "stdout",
     "output_type": "stream",
     "text": [
      "IndexError caught, resuming at: 1673861185\n",
      "api call #108 finished. start from epoch time: 1673837807\n",
      "api call #109 finished. start from epoch time: 1673821809\n",
      "api call #110 finished. start from epoch time: 1673809340\n",
      "api call #111 finished. start from epoch time: 1673798243\n",
      "api call #112 finished. start from epoch time: 1673796958\n",
      "api call #113 finished. start from epoch time: 1673792206\n",
      "api call #114 finished. start from epoch time: 1673773396\n",
      "api call #115 finished. start from epoch time: 1673752426\n",
      "api call #116 finished. start from epoch time: 1673745535\n",
      "api call #117 finished. start from epoch time: 1673740926\n",
      "api call #118 finished. start from epoch time: 1673739985\n",
      "api call #119 finished. start from epoch time: 1673737218\n",
      "api call #120 finished. start from epoch time: 1673713787\n",
      "api call #121 finished. start from epoch time: 1673690779\n",
      "api call #122 finished. start from epoch time: 1673689446\n",
      "api call #123 finished. start from epoch time: 1673675482\n",
      "api call #124 finished. start from epoch time: 1673671178\n",
      "api call #125 finished. start from epoch time: 1673669655\n",
      "api call #126 finished. start from epoch time: 1673629110\n",
      "api call #127 finished. start from epoch time: 1673623321\n",
      "api call #128 finished. start from epoch time: 1673617310\n",
      "api call #129 finished. start from epoch time: 1673612355\n",
      "api call #130 finished. start from epoch time: 1673563561\n",
      "api call #131 finished. start from epoch time: 1672753759\n",
      "api call #132 finished. start from epoch time: 1672746990\n",
      "api call #133 finished. start from epoch time: 1672745457\n",
      "api call #134 finished. start from epoch time: 1672717433\n",
      "api call #135 finished. start from epoch time: 1672702904\n",
      "api call #136 finished. start from epoch time: 1671917930\n",
      "api call #137 finished. start from epoch time: 1671916253\n",
      "api call #138 finished. start from epoch time: 1671914370\n",
      "api call #139 finished. start from epoch time: 1671896806\n",
      "api call #140 finished. start from epoch time: 1671894895\n",
      "api call #141 finished. start from epoch time: 1671884218\n",
      "api call #142 finished. start from epoch time: 1671884114\n",
      "api call #143 finished. start from epoch time: 1671871491\n",
      "api call #144 finished. start from epoch time: 1671869243\n",
      "api call #145 finished. start from epoch time: 1671861449\n",
      "api call #146 finished. start from epoch time: 1671855082\n",
      "api call #147 finished. start from epoch time: 1671259585\n",
      "api call #148 finished. start from epoch time: 1670372068\n",
      "api call #149 finished. start from epoch time: 1669617823\n",
      "api call #150 finished. start from epoch time: 1668929370\n",
      "api call #151 finished. start from epoch time: 1668238791\n",
      "api call #152 finished. start from epoch time: 1667540139\n",
      "api call #153 finished. start from epoch time: 1666863698\n",
      "api call #154 finished. start from epoch time: 1666064078\n",
      "api call #155 finished. start from epoch time: 1665367119\n",
      "api call #156 finished. start from epoch time: 1664670650\n",
      "api call #157 finished. start from epoch time: 1663947505\n",
      "api call #158 finished. start from epoch time: 1663116927\n",
      "api call #159 finished. start from epoch time: 1662409295\n",
      "api call #160 finished. start from epoch time: 1661661856\n",
      "api call #161 finished. start from epoch time: 1661017319\n",
      "api call #162 finished. start from epoch time: 1661014009\n",
      "api call #163 finished. start from epoch time: 1661004545\n",
      "api call #164 finished. start from epoch time: 1661000614\n",
      "api call #165 finished. start from epoch time: 1660982665\n",
      "api call #166 finished. start from epoch time: 1660974665\n",
      "api call #167 finished. start from epoch time: 1660974262\n",
      "api call #168 finished. start from epoch time: 1660969656\n",
      "api call #169 finished. start from epoch time: 1660965854\n",
      "api call #170 finished. start from epoch time: 1660961647\n",
      "api call #171 finished. start from epoch time: 1660938056\n",
      "api call #172 finished. start from epoch time: 1660935689\n",
      "api call #173 finished. start from epoch time: 1660934938\n",
      "api call #174 finished. start from epoch time: 1660930212\n",
      "api call #175 finished. start from epoch time: 1660921858\n",
      "api call #176 finished. start from epoch time: 1660916667\n",
      "api call #177 finished. start from epoch time: 1660916181\n",
      "api call #178 finished. start from epoch time: 1660909190\n",
      "api call #179 finished. start from epoch time: 1660904472\n",
      "api call #180 finished. start from epoch time: 1660903055\n",
      "api call #181 finished. start from epoch time: 1660901520\n",
      "api call #182 finished. start from epoch time: 1660886303\n",
      "api call #183 finished. start from epoch time: 1660883856\n",
      "api call #184 finished. start from epoch time: 1660881478\n",
      "api call #185 finished. start from epoch time: 1660880760\n",
      "api call #186 finished. start from epoch time: 1660879683\n",
      "api call #187 finished. start from epoch time: 1660875026\n",
      "api call #188 finished. start from epoch time: 1660866892\n",
      "api call #189 finished. start from epoch time: 1660864782\n",
      "api call #190 finished. start from epoch time: 1660862796\n",
      "api call #191 finished. start from epoch time: 1660850243\n",
      "api call #192 finished. start from epoch time: 1660842561\n",
      "api call #193 finished. start from epoch time: 1660841125\n",
      "api call #194 finished. start from epoch time: 1660832084\n",
      "api call #195 finished. start from epoch time: 1660806385\n",
      "api call #196 finished. start from epoch time: 1660802613\n",
      "api call #197 finished. start from epoch time: 1660796519\n",
      "api call #198 finished. start from epoch time: 1660795299\n",
      "api call #199 finished. start from epoch time: 1660792790\n",
      "api call #200 finished. start from epoch time: 1660791163\n",
      "api call #201 finished. start from epoch time: 1660775861\n",
      "api call #202 finished. start from epoch time: 1660772544\n",
      "api call #203 finished. start from epoch time: 1660763369\n",
      "api call #204 finished. start from epoch time: 1660750222\n",
      "api call #205 finished. start from epoch time: 1660746560\n",
      "api call #206 finished. start from epoch time: 1660744207\n",
      "api call #207 finished. start from epoch time: 1660718104\n",
      "api call #208 finished. start from epoch time: 1660074982\n",
      "api call #209 finished. start from epoch time: 1659368676\n",
      "api call #210 finished. start from epoch time: 1659014654\n",
      "api call #211 finished. start from epoch time: 1658250018\n",
      "api call #212 finished. start from epoch time: 1657590231\n",
      "api call #213 finished. start from epoch time: 1656844471\n"
     ]
    },
    {
     "name": "stderr",
     "output_type": "stream",
     "text": [
      "Not all PushShift shards are active. Query results may be incomplete.\n"
     ]
    },
    {
     "name": "stdout",
     "output_type": "stream",
     "text": [
      "IndexError caught, resuming at: 1656844471\n",
      "api call #214 finished. start from epoch time: 1656308993\n",
      "api call #215 finished. start from epoch time: 1655696622\n",
      "api call #216 finished. start from epoch time: 1655143592\n",
      "api call #217 finished. start from epoch time: 1654544230\n",
      "api call #218 finished. start from epoch time: 1653805354\n",
      "api call #219 finished. start from epoch time: 1653191269\n",
      "api call #220 finished. start from epoch time: 1652898784\n",
      "api call #221 finished. start from epoch time: 1652265112\n",
      "api call #222 finished. start from epoch time: 1651627295\n",
      "api call #223 finished. start from epoch time: 1650952129\n"
     ]
    }
   ],
   "source": [
    "post_list = get_submissions(\"KindVoice\")"
   ]
  },
  {
   "cell_type": "code",
   "execution_count": 15,
   "id": "65aba7e4",
   "metadata": {},
   "outputs": [
    {
     "data": {
      "text/plain": [
       "22300"
      ]
     },
     "execution_count": 15,
     "metadata": {},
     "output_type": "execute_result"
    }
   ],
   "source": [
    "len(post_list)"
   ]
  },
  {
   "cell_type": "code",
   "execution_count": 16,
   "id": "e20987ac",
   "metadata": {},
   "outputs": [
    {
     "name": "stdout",
     "output_type": "stream",
     "text": [
      "dropped 17905 duplicates\n"
     ]
    }
   ],
   "source": [
    "dedup_post_list = dedup_list(post_list)"
   ]
  },
  {
   "cell_type": "code",
   "execution_count": 17,
   "id": "f6df0731",
   "metadata": {},
   "outputs": [
    {
     "data": {
      "text/plain": [
       "4395"
      ]
     },
     "execution_count": 17,
     "metadata": {},
     "output_type": "execute_result"
    }
   ],
   "source": [
    "len(dedup_post_list)"
   ]
  },
  {
   "cell_type": "code",
   "execution_count": 18,
   "id": "bfd0e4a7",
   "metadata": {},
   "outputs": [],
   "source": [
    "with open(\"KindVoice_submission_data_22-23.jsonl\", 'w') as output_file:\n",
    "    for post in dedup_post_list:\n",
    "        line_string = json.dumps(post)\n",
    "        print(line_string, file = output_file)"
   ]
  },
  {
   "cell_type": "markdown",
   "id": "47d3cb03",
   "metadata": {},
   "source": [
    "---"
   ]
  },
  {
   "cell_type": "code",
   "execution_count": 19,
   "id": "049f761b",
   "metadata": {},
   "outputs": [
    {
     "name": "stdout",
     "output_type": "stream",
     "text": [
      "api call #1 finished. start from epoch time: 1682029758\n",
      "api call #2 finished. start from epoch time: 1681270613\n",
      "api call #3 finished. start from epoch time: 1680422328\n",
      "api call #4 finished. start from epoch time: 1679576847\n",
      "api call #5 finished. start from epoch time: 1678908200\n"
     ]
    },
    {
     "name": "stderr",
     "output_type": "stream",
     "text": [
      "Not all PushShift shards are active. Query results may be incomplete.\n"
     ]
    },
    {
     "name": "stdout",
     "output_type": "stream",
     "text": [
      "IndexError caught, resuming at: 1678908200\n",
      "api call #6 finished. start from epoch time: 1677873513\n",
      "api call #7 finished. start from epoch time: 1677104615\n",
      "api call #8 finished. start from epoch time: 1676063105\n",
      "api call #9 finished. start from epoch time: 1675568264\n",
      "api call #10 finished. start from epoch time: 1674968468\n",
      "api call #11 finished. start from epoch time: 1674500114\n",
      "api call #12 finished. start from epoch time: 1673843377\n",
      "api call #13 finished. start from epoch time: 1673149159\n",
      "api call #14 finished. start from epoch time: 1672384735\n",
      "api call #15 finished. start from epoch time: 1671675594\n",
      "api call #16 finished. start from epoch time: 1671113398\n",
      "api call #17 finished. start from epoch time: 1670502124\n",
      "api call #18 finished. start from epoch time: 1670055429\n",
      "api call #19 finished. start from epoch time: 1669382644\n",
      "api call #20 finished. start from epoch time: 1668711011\n",
      "api call #21 finished. start from epoch time: 1668317541\n",
      "api call #22 finished. start from epoch time: 1668000391\n",
      "api call #23 finished. start from epoch time: 1667502771\n",
      "api call #24 finished. start from epoch time: 1666886462\n",
      "api call #25 finished. start from epoch time: 1666262430\n",
      "api call #26 finished. start from epoch time: 1665641363\n",
      "api call #27 finished. start from epoch time: 1665363594\n",
      "api call #28 finished. start from epoch time: 1664746114\n",
      "api call #29 finished. start from epoch time: 1664151578\n",
      "api call #30 finished. start from epoch time: 1663605763\n",
      "api call #31 finished. start from epoch time: 1662843044\n",
      "api call #32 finished. start from epoch time: 1662020691\n",
      "api call #33 finished. start from epoch time: 1661352560\n",
      "api call #34 finished. start from epoch time: 1660910131\n",
      "api call #35 finished. start from epoch time: 1660369831\n",
      "api call #36 finished. start from epoch time: 1659918622\n",
      "api call #37 finished. start from epoch time: 1659314478\n",
      "api call #38 finished. start from epoch time: 1658986911\n",
      "api call #39 finished. start from epoch time: 1658509294\n",
      "api call #40 finished. start from epoch time: 1658087218\n",
      "api call #41 finished. start from epoch time: 1657610990\n"
     ]
    },
    {
     "name": "stderr",
     "output_type": "stream",
     "text": [
      "Not all PushShift shards are active. Query results may be incomplete.\n"
     ]
    },
    {
     "name": "stdout",
     "output_type": "stream",
     "text": [
      "IndexError caught, resuming at: 1657610990\n",
      "api call #42 finished. start from epoch time: 1657150636\n"
     ]
    },
    {
     "name": "stderr",
     "output_type": "stream",
     "text": [
      "Not all PushShift shards are active. Query results may be incomplete.\n"
     ]
    },
    {
     "name": "stdout",
     "output_type": "stream",
     "text": [
      "IndexError caught, resuming at: 1657610990\n",
      "api call #43 finished. start from epoch time: 1657150636\n",
      "api call #44 finished. start from epoch time: 1656627381\n",
      "api call #45 finished. start from epoch time: 1655916066\n",
      "api call #46 finished. start from epoch time: 1655347101\n",
      "api call #47 finished. start from epoch time: 1654753841\n",
      "api call #48 finished. start from epoch time: 1654092168\n",
      "api call #49 finished. start from epoch time: 1653592310\n",
      "api call #50 finished. start from epoch time: 1653060095\n",
      "api call #51 finished. start from epoch time: 1652788564\n",
      "api call #52 finished. start from epoch time: 1652215252\n",
      "api call #53 finished. start from epoch time: 1651537920\n",
      "api call #54 finished. start from epoch time: 1650746271\n"
     ]
    }
   ],
   "source": [
    "post_list = get_submissions(\"RandomKindness\")"
   ]
  },
  {
   "cell_type": "code",
   "execution_count": 20,
   "id": "89261074",
   "metadata": {},
   "outputs": [
    {
     "data": {
      "text/plain": [
       "5348"
      ]
     },
     "execution_count": 20,
     "metadata": {},
     "output_type": "execute_result"
    }
   ],
   "source": [
    "len(post_list)"
   ]
  },
  {
   "cell_type": "code",
   "execution_count": 21,
   "id": "bc073d21",
   "metadata": {},
   "outputs": [
    {
     "name": "stdout",
     "output_type": "stream",
     "text": [
      "dropped 187 duplicates\n"
     ]
    }
   ],
   "source": [
    "dedup_post_list = dedup_list(post_list)"
   ]
  },
  {
   "cell_type": "code",
   "execution_count": 22,
   "id": "c2d9d753",
   "metadata": {},
   "outputs": [
    {
     "data": {
      "text/plain": [
       "5161"
      ]
     },
     "execution_count": 22,
     "metadata": {},
     "output_type": "execute_result"
    }
   ],
   "source": [
    "len(dedup_post_list)"
   ]
  },
  {
   "cell_type": "code",
   "execution_count": 23,
   "id": "50fbf786",
   "metadata": {},
   "outputs": [],
   "source": [
    "with open(\"RandomKindness_submission_data_22-23.jsonl\", 'w') as output_file:\n",
    "    for post in dedup_post_list:\n",
    "        line_string = json.dumps(post)\n",
    "        print(line_string, file = output_file)"
   ]
  },
  {
   "cell_type": "markdown",
   "id": "2a3a6875",
   "metadata": {},
   "source": [
    "---"
   ]
  },
  {
   "cell_type": "markdown",
   "id": "f2e09b9e",
   "metadata": {},
   "source": [
    "YEAR: 2021-2022"
   ]
  },
  {
   "cell_type": "code",
   "execution_count": 5,
   "id": "6088aed4",
   "metadata": {},
   "outputs": [],
   "source": [
    "#2021-2022\n",
    "\n",
    "def get_submissions(subreddit):\n",
    "    api = PushshiftAPI()   \n",
    "    \n",
    "    before_time = april_30_2022\n",
    "\n",
    "    post_list = []\n",
    "\n",
    "    counter = 0\n",
    "    while True:\n",
    "        \n",
    "        try:\n",
    "            posts = api.search_submissions(subreddit = subreddit, limit = 100, sort = \"created_utc\", order = \"desc\", before = before_time)\n",
    "\n",
    "            new_post_list = [post for post in posts]\n",
    "\n",
    "            post_list.extend(new_post_list)\n",
    "\n",
    "            before_time = new_post_list[-1][\"created_utc\"]\n",
    "            print(f\"api call #{counter + 1} finished. start from epoch time:\", before_time)\n",
    "            if len(new_post_list) == 0:\n",
    "                break\n",
    "\n",
    "            if before_time < april_30_2021:\n",
    "                break\n",
    "\n",
    "            counter += 1\n",
    "            \n",
    "            last_known_good = before_time\n",
    "            \n",
    "        except IndexError: \n",
    "            \n",
    "            print(f\"IndexError caught, resuming at: {last_known_good}\")\n",
    "            time.sleep(1.1)\n",
    "            \n",
    "            posts = api.search_submissions(subreddit = subreddit, limit = 100, sort = \"created_utc\", order = \"desc\", before = last_known_good)\n",
    "\n",
    "            new_post_list = [post for post in posts]\n",
    "\n",
    "            post_list.extend(new_post_list)\n",
    "\n",
    "            before_time = new_post_list[-1][\"created_utc\"]\n",
    "            print(f\"api call #{counter + 1} finished. start from epoch time:\", before_time)\n",
    "            if len(new_post_list) == 0:\n",
    "                break\n",
    "\n",
    "            if before_time < april_30_2021:\n",
    "                break\n",
    "\n",
    "            counter += 1\n",
    "    return post_list"
   ]
  },
  {
   "cell_type": "markdown",
   "id": "fccf6b4c",
   "metadata": {},
   "source": [
    "---"
   ]
  },
  {
   "cell_type": "code",
   "execution_count": 8,
   "id": "10d40b90",
   "metadata": {
    "scrolled": true
   },
   "outputs": [
    {
     "name": "stdout",
     "output_type": "stream",
     "text": [
      "api call #1 finished. start from epoch time: 1647080723\n",
      "IndexError caught, resuming at: 1647080723\n",
      "api call #2 finished. start from epoch time: 1642105354\n",
      "api call #3 finished. start from epoch time: 1637466212\n",
      "api call #4 finished. start from epoch time: 1632683790\n",
      "api call #5 finished. start from epoch time: 1628133178\n",
      "api call #6 finished. start from epoch time: 1624964795\n",
      "api call #7 finished. start from epoch time: 1624446161\n",
      "api call #8 finished. start from epoch time: 1621334628\n",
      "api call #9 finished. start from epoch time: 1618227945\n"
     ]
    }
   ],
   "source": [
    "post_list = get_submissions(\"kindness\")"
   ]
  },
  {
   "cell_type": "code",
   "execution_count": 9,
   "id": "bfb93468",
   "metadata": {},
   "outputs": [
    {
     "data": {
      "text/plain": [
       "872"
      ]
     },
     "execution_count": 9,
     "metadata": {},
     "output_type": "execute_result"
    }
   ],
   "source": [
    "len(post_list)"
   ]
  },
  {
   "cell_type": "code",
   "execution_count": 10,
   "id": "99c20e9a",
   "metadata": {},
   "outputs": [
    {
     "name": "stdout",
     "output_type": "stream",
     "text": [
      "dropped 86 duplicates\n"
     ]
    }
   ],
   "source": [
    "dedup_post_list = dedup_list(post_list)"
   ]
  },
  {
   "cell_type": "code",
   "execution_count": 11,
   "id": "26c86cbd",
   "metadata": {},
   "outputs": [
    {
     "data": {
      "text/plain": [
       "786"
      ]
     },
     "execution_count": 11,
     "metadata": {},
     "output_type": "execute_result"
    }
   ],
   "source": [
    "len(dedup_post_list)"
   ]
  },
  {
   "cell_type": "code",
   "execution_count": 12,
   "id": "4a2b8586",
   "metadata": {},
   "outputs": [],
   "source": [
    "with open(\"kindness_submission_data_21-22.jsonl\", 'w') as output_file:\n",
    "    for post in dedup_post_list:\n",
    "        line_string = json.dumps(post)\n",
    "        print(line_string, file = output_file)"
   ]
  },
  {
   "cell_type": "markdown",
   "id": "72e36927",
   "metadata": {},
   "source": [
    "---"
   ]
  },
  {
   "cell_type": "code",
   "execution_count": 30,
   "id": "0cfc512f",
   "metadata": {},
   "outputs": [
    {
     "name": "stdout",
     "output_type": "stream",
     "text": [
      "api call #1 finished. start from epoch time: 1645936946\n",
      "api call #2 finished. start from epoch time: 1640280440\n",
      "api call #3 finished. start from epoch time: 1635947256\n",
      "api call #4 finished. start from epoch time: 1631303613\n",
      "api call #5 finished. start from epoch time: 1627534253\n",
      "api call #6 finished. start from epoch time: 1627339068\n",
      "api call #7 finished. start from epoch time: 1624822955\n",
      "api call #8 finished. start from epoch time: 1624257851\n",
      "api call #9 finished. start from epoch time: 1621612525\n",
      "api call #10 finished. start from epoch time: 1617112276\n"
     ]
    }
   ],
   "source": [
    "post_list = get_submissions(\"randomactsofkindness\")"
   ]
  },
  {
   "cell_type": "code",
   "execution_count": 31,
   "id": "067aee71",
   "metadata": {},
   "outputs": [
    {
     "data": {
      "text/plain": [
       "1000"
      ]
     },
     "execution_count": 31,
     "metadata": {},
     "output_type": "execute_result"
    }
   ],
   "source": [
    "len(post_list)"
   ]
  },
  {
   "cell_type": "code",
   "execution_count": 32,
   "id": "f60aea10",
   "metadata": {},
   "outputs": [
    {
     "name": "stdout",
     "output_type": "stream",
     "text": [
      "dropped 300 duplicates\n"
     ]
    }
   ],
   "source": [
    "dedup_post_list = dedup_list(post_list)"
   ]
  },
  {
   "cell_type": "code",
   "execution_count": 33,
   "id": "92b71a53",
   "metadata": {},
   "outputs": [
    {
     "data": {
      "text/plain": [
       "700"
      ]
     },
     "execution_count": 33,
     "metadata": {},
     "output_type": "execute_result"
    }
   ],
   "source": [
    "len(dedup_post_list)"
   ]
  },
  {
   "cell_type": "code",
   "execution_count": 34,
   "id": "fca5c03b",
   "metadata": {},
   "outputs": [],
   "source": [
    "with open(\"randomactsofkindness_submission_data_21-22.jsonl\", 'w') as output_file:\n",
    "    for post in dedup_post_list:\n",
    "        line_string = json.dumps(post)\n",
    "        print(line_string, file = output_file)"
   ]
  },
  {
   "cell_type": "markdown",
   "id": "5f024df9",
   "metadata": {},
   "source": [
    "---"
   ]
  },
  {
   "cell_type": "code",
   "execution_count": 13,
   "id": "f168d216",
   "metadata": {
    "scrolled": true
   },
   "outputs": [
    {
     "name": "stdout",
     "output_type": "stream",
     "text": [
      "api call #1 finished. start from epoch time: 1650667911\n",
      "IndexError caught, resuming at: 1650667911\n",
      "api call #2 finished. start from epoch time: 1650061622\n",
      "api call #3 finished. start from epoch time: 1649313214\n",
      "api call #4 finished. start from epoch time: 1648639907\n",
      "api call #5 finished. start from epoch time: 1647907510\n",
      "api call #6 finished. start from epoch time: 1647305071\n",
      "api call #7 finished. start from epoch time: 1646666758\n",
      "api call #8 finished. start from epoch time: 1646095695\n",
      "api call #9 finished. start from epoch time: 1645506322\n",
      "api call #10 finished. start from epoch time: 1644824877\n",
      "api call #11 finished. start from epoch time: 1644184560\n",
      "api call #12 finished. start from epoch time: 1643612367\n",
      "api call #13 finished. start from epoch time: 1642967572\n",
      "api call #14 finished. start from epoch time: 1642378236\n",
      "api call #15 finished. start from epoch time: 1641844724\n",
      "api call #16 finished. start from epoch time: 1641259498\n",
      "api call #17 finished. start from epoch time: 1640739994\n",
      "api call #18 finished. start from epoch time: 1640275087\n",
      "api call #19 finished. start from epoch time: 1639581270\n",
      "api call #20 finished. start from epoch time: 1638889588\n",
      "api call #21 finished. start from epoch time: 1638282836\n",
      "api call #22 finished. start from epoch time: 1637675341\n",
      "api call #23 finished. start from epoch time: 1637028645\n",
      "api call #24 finished. start from epoch time: 1636572057\n",
      "api call #25 finished. start from epoch time: 1635970037\n",
      "api call #26 finished. start from epoch time: 1635405727\n",
      "api call #27 finished. start from epoch time: 1634795092\n",
      "api call #28 finished. start from epoch time: 1634133545\n"
     ]
    },
    {
     "name": "stderr",
     "output_type": "stream",
     "text": [
      "Not all PushShift shards are active. Query results may be incomplete.\n"
     ]
    },
    {
     "name": "stdout",
     "output_type": "stream",
     "text": [
      "IndexError caught, resuming at: 1634133545\n",
      "api call #29 finished. start from epoch time: 1633605069\n",
      "api call #30 finished. start from epoch time: 1633077132\n",
      "api call #31 finished. start from epoch time: 1632590904\n"
     ]
    },
    {
     "name": "stderr",
     "output_type": "stream",
     "text": [
      "Not all PushShift shards are active. Query results may be incomplete.\n"
     ]
    },
    {
     "name": "stdout",
     "output_type": "stream",
     "text": [
      "IndexError caught, resuming at: 1632590904\n",
      "api call #32 finished. start from epoch time: 1632097866\n",
      "api call #33 finished. start from epoch time: 1631567002\n",
      "api call #34 finished. start from epoch time: 1631026259\n",
      "api call #35 finished. start from epoch time: 1630624875\n",
      "api call #36 finished. start from epoch time: 1630159580\n",
      "api call #37 finished. start from epoch time: 1629638984\n",
      "api call #38 finished. start from epoch time: 1629224000\n",
      "api call #39 finished. start from epoch time: 1628835781\n",
      "api call #40 finished. start from epoch time: 1628382443\n",
      "api call #41 finished. start from epoch time: 1627861326\n",
      "api call #42 finished. start from epoch time: 1627403390\n",
      "api call #43 finished. start from epoch time: 1626865926\n",
      "api call #44 finished. start from epoch time: 1626442159\n",
      "api call #45 finished. start from epoch time: 1625948533\n",
      "api call #46 finished. start from epoch time: 1625533130\n",
      "api call #47 finished. start from epoch time: 1625067494\n",
      "api call #48 finished. start from epoch time: 1624600713\n",
      "api call #49 finished. start from epoch time: 1624210893\n",
      "api call #50 finished. start from epoch time: 1623753341\n",
      "api call #51 finished. start from epoch time: 1623253765\n",
      "api call #52 finished. start from epoch time: 1622876311\n",
      "api call #53 finished. start from epoch time: 1622420350\n",
      "api call #54 finished. start from epoch time: 1622028081\n",
      "api call #55 finished. start from epoch time: 1621662925\n",
      "api call #56 finished. start from epoch time: 1621294860\n",
      "api call #57 finished. start from epoch time: 1620927096\n",
      "api call #58 finished. start from epoch time: 1620508877\n",
      "api call #59 finished. start from epoch time: 1620067903\n",
      "api call #60 finished. start from epoch time: 1619636978\n"
     ]
    }
   ],
   "source": [
    "post_list = get_submissions(\"KindVoice\")"
   ]
  },
  {
   "cell_type": "code",
   "execution_count": 14,
   "id": "6af95a4a",
   "metadata": {},
   "outputs": [
    {
     "data": {
      "text/plain": [
       "6000"
      ]
     },
     "execution_count": 14,
     "metadata": {},
     "output_type": "execute_result"
    }
   ],
   "source": [
    "len(post_list)"
   ]
  },
  {
   "cell_type": "code",
   "execution_count": 15,
   "id": "c764a80d",
   "metadata": {},
   "outputs": [
    {
     "name": "stdout",
     "output_type": "stream",
     "text": [
      "dropped 0 duplicates\n"
     ]
    }
   ],
   "source": [
    "dedup_post_list = dedup_list(post_list)"
   ]
  },
  {
   "cell_type": "code",
   "execution_count": 16,
   "id": "2023dd27",
   "metadata": {},
   "outputs": [
    {
     "data": {
      "text/plain": [
       "6000"
      ]
     },
     "execution_count": 16,
     "metadata": {},
     "output_type": "execute_result"
    }
   ],
   "source": [
    "len(dedup_post_list)"
   ]
  },
  {
   "cell_type": "code",
   "execution_count": 17,
   "id": "8296ac8d",
   "metadata": {},
   "outputs": [],
   "source": [
    "with open(\"KindVoice_submission_data_21-22.jsonl\", 'w') as output_file:\n",
    "    for post in dedup_post_list:\n",
    "        line_string = json.dumps(post)\n",
    "        print(line_string, file = output_file)"
   ]
  },
  {
   "cell_type": "markdown",
   "id": "dfb52a69",
   "metadata": {},
   "source": [
    "---"
   ]
  },
  {
   "cell_type": "code",
   "execution_count": 6,
   "id": "153e94a3",
   "metadata": {},
   "outputs": [
    {
     "name": "stdout",
     "output_type": "stream",
     "text": [
      "api call #1 finished. start from epoch time: 1650547146\n",
      "api call #2 finished. start from epoch time: 1649841366\n",
      "api call #3 finished. start from epoch time: 1649094974\n",
      "api call #4 finished. start from epoch time: 1648590752\n",
      "api call #5 finished. start from epoch time: 1647900517\n",
      "api call #6 finished. start from epoch time: 1647265970\n",
      "IndexError caught, resuming at: 1647265970\n",
      "api call #7 finished. start from epoch time: 1647168220\n",
      "api call #8 finished. start from epoch time: 1646325501\n",
      "api call #9 finished. start from epoch time: 1645637339\n",
      "api call #10 finished. start from epoch time: 1645048187\n",
      "api call #11 finished. start from epoch time: 1644350823\n",
      "api call #12 finished. start from epoch time: 1643908165\n",
      "api call #13 finished. start from epoch time: 1643401520\n",
      "api call #14 finished. start from epoch time: 1642983539\n",
      "api call #15 finished. start from epoch time: 1642633822\n",
      "api call #16 finished. start from epoch time: 1642316479\n",
      "api call #17 finished. start from epoch time: 1641852638\n",
      "api call #18 finished. start from epoch time: 1641272264\n",
      "api call #19 finished. start from epoch time: 1640397281\n",
      "api call #20 finished. start from epoch time: 1639791411\n",
      "api call #21 finished. start from epoch time: 1639252361\n",
      "api call #22 finished. start from epoch time: 1639251157\n",
      "api call #23 finished. start from epoch time: 1639250167\n",
      "api call #24 finished. start from epoch time: 1639248721\n",
      "api call #25 finished. start from epoch time: 1639248601\n",
      "api call #26 finished. start from epoch time: 1639248467\n",
      "api call #27 finished. start from epoch time: 1639246845\n",
      "api call #28 finished. start from epoch time: 1639246696\n",
      "api call #29 finished. start from epoch time: 1639246305\n",
      "api call #30 finished. start from epoch time: 1639246220\n",
      "api call #31 finished. start from epoch time: 1639242962\n",
      "api call #32 finished. start from epoch time: 1639242663\n",
      "api call #33 finished. start from epoch time: 1639238353\n",
      "api call #34 finished. start from epoch time: 1639233786\n",
      "api call #35 finished. start from epoch time: 1639231888\n",
      "api call #36 finished. start from epoch time: 1639206464\n",
      "api call #37 finished. start from epoch time: 1639204305\n",
      "api call #38 finished. start from epoch time: 1639198874\n",
      "api call #39 finished. start from epoch time: 1639197821\n",
      "api call #40 finished. start from epoch time: 1639197598\n",
      "api call #41 finished. start from epoch time: 1639189009\n",
      "api call #42 finished. start from epoch time: 1639188910\n",
      "api call #43 finished. start from epoch time: 1639182952\n",
      "api call #44 finished. start from epoch time: 1639174001\n",
      "api call #45 finished. start from epoch time: 1639162571\n",
      "api call #46 finished. start from epoch time: 1638647506\n",
      "IndexError caught, resuming at: 1638647506\n",
      "api call #47 finished. start from epoch time: 1638222315\n",
      "api call #48 finished. start from epoch time: 1637806222\n",
      "api call #49 finished. start from epoch time: 1637395145\n",
      "api call #50 finished. start from epoch time: 1636943187\n",
      "api call #51 finished. start from epoch time: 1636467091\n",
      "api call #52 finished. start from epoch time: 1635993001\n",
      "api call #53 finished. start from epoch time: 1635521769\n",
      "api call #54 finished. start from epoch time: 1635069924\n",
      "api call #55 finished. start from epoch time: 1634537165\n",
      "api call #56 finished. start from epoch time: 1634206283\n",
      "api call #57 finished. start from epoch time: 1633889269\n",
      "api call #58 finished. start from epoch time: 1633470617\n",
      "api call #59 finished. start from epoch time: 1633087051\n",
      "api call #60 finished. start from epoch time: 1632683334\n",
      "api call #61 finished. start from epoch time: 1632118656\n",
      "api call #62 finished. start from epoch time: 1631534266\n"
     ]
    },
    {
     "name": "stderr",
     "output_type": "stream",
     "text": [
      "Not all PushShift shards are active. Query results may be incomplete.\n"
     ]
    },
    {
     "name": "stdout",
     "output_type": "stream",
     "text": [
      "IndexError caught, resuming at: 1631534266\n",
      "api call #63 finished. start from epoch time: 1630949270\n",
      "api call #64 finished. start from epoch time: 1630417255\n",
      "api call #65 finished. start from epoch time: 1629735579\n",
      "api call #66 finished. start from epoch time: 1629225490\n",
      "api call #67 finished. start from epoch time: 1628658735\n",
      "api call #68 finished. start from epoch time: 1628001998\n",
      "api call #69 finished. start from epoch time: 1627529539\n",
      "api call #70 finished. start from epoch time: 1627136211\n",
      "api call #71 finished. start from epoch time: 1626796459\n",
      "api call #72 finished. start from epoch time: 1626409871\n",
      "api call #73 finished. start from epoch time: 1626130538\n",
      "api call #74 finished. start from epoch time: 1625687996\n",
      "api call #75 finished. start from epoch time: 1625285628\n",
      "api call #76 finished. start from epoch time: 1624918383\n",
      "api call #77 finished. start from epoch time: 1624510248\n",
      "api call #78 finished. start from epoch time: 1623872419\n",
      "api call #79 finished. start from epoch time: 1623351607\n",
      "api call #80 finished. start from epoch time: 1622938997\n",
      "api call #81 finished. start from epoch time: 1622500093\n",
      "api call #82 finished. start from epoch time: 1622067184\n",
      "api call #83 finished. start from epoch time: 1621708118\n",
      "api call #84 finished. start from epoch time: 1621363990\n",
      "api call #85 finished. start from epoch time: 1621053596\n",
      "api call #86 finished. start from epoch time: 1620650092\n",
      "api call #87 finished. start from epoch time: 1620343461\n",
      "api call #88 finished. start from epoch time: 1620066896\n",
      "api call #89 finished. start from epoch time: 1619742040\n",
      "api call #90 finished. start from epoch time: 1619488375\n"
     ]
    }
   ],
   "source": [
    "post_list = get_submissions(\"RandomKindness\")"
   ]
  },
  {
   "cell_type": "code",
   "execution_count": 7,
   "id": "a6d83a5a",
   "metadata": {},
   "outputs": [
    {
     "data": {
      "text/plain": [
       "9000"
      ]
     },
     "execution_count": 7,
     "metadata": {},
     "output_type": "execute_result"
    }
   ],
   "source": [
    "len(post_list)"
   ]
  },
  {
   "cell_type": "code",
   "execution_count": 8,
   "id": "0d70a67f",
   "metadata": {},
   "outputs": [
    {
     "name": "stdout",
     "output_type": "stream",
     "text": [
      "dropped 2487 duplicates\n"
     ]
    }
   ],
   "source": [
    "dedup_post_list = dedup_list(post_list)"
   ]
  },
  {
   "cell_type": "code",
   "execution_count": 9,
   "id": "4c88a638",
   "metadata": {},
   "outputs": [
    {
     "data": {
      "text/plain": [
       "6513"
      ]
     },
     "execution_count": 9,
     "metadata": {},
     "output_type": "execute_result"
    }
   ],
   "source": [
    "len(dedup_post_list)"
   ]
  },
  {
   "cell_type": "code",
   "execution_count": 10,
   "id": "2bba3c6b",
   "metadata": {},
   "outputs": [],
   "source": [
    "with open(\"RandomKindness_submission_data_21-22.jsonl\", 'w') as output_file:\n",
    "    for post in dedup_post_list:\n",
    "        line_string = json.dumps(post)\n",
    "        print(line_string, file = output_file)"
   ]
  },
  {
   "cell_type": "markdown",
   "id": "cab9ae05",
   "metadata": {},
   "source": [
    "---"
   ]
  },
  {
   "cell_type": "markdown",
   "id": "871f61c4",
   "metadata": {},
   "source": [
    "YEAR: 2020-2021"
   ]
  },
  {
   "cell_type": "code",
   "execution_count": 23,
   "id": "c715883d",
   "metadata": {},
   "outputs": [],
   "source": [
    "#2020-2021\n",
    "\n",
    "def get_submissions(subreddit):\n",
    "    api = PushshiftAPI()   \n",
    "    \n",
    "    before_time = october_30_2020\n",
    "\n",
    "    post_list = []\n",
    "\n",
    "    counter = 0\n",
    "    while True:\n",
    "        \n",
    "        try:\n",
    "            posts = api.search_submissions(subreddit = subreddit, limit = 100, sort = \"created_utc\", order = \"desc\", before = before_time)\n",
    "\n",
    "            new_post_list = [post for post in posts]\n",
    "\n",
    "            post_list.extend(new_post_list)\n",
    "\n",
    "            before_time = new_post_list[-1][\"created_utc\"]\n",
    "            print(f\"api call #{counter + 1} finished. start from epoch time:\", before_time)\n",
    "            if len(new_post_list) == 0:\n",
    "                break\n",
    "\n",
    "            if before_time < april_30_2020:\n",
    "                break\n",
    "\n",
    "            counter += 1\n",
    "            \n",
    "            last_known_good = before_time\n",
    "            \n",
    "        except IndexError: \n",
    "            \n",
    "            print(f\"IndexError caught, resuming at: {last_known_good}\")\n",
    "            time.sleep(1.1)\n",
    "\n",
    "            posts = api.search_submissions(subreddit = subreddit, limit = 100, sort = \"created_utc\", order = \"desc\", before = last_known_good)\n",
    "\n",
    "            new_post_list = [post for post in posts]\n",
    "\n",
    "            post_list.extend(new_post_list)\n",
    "\n",
    "            before_time = new_post_list[-1][\"created_utc\"]\n",
    "            print(f\"api call #{counter + 1} finished. start from epoch time:\", before_time)\n",
    "            if len(new_post_list) == 0:\n",
    "                break\n",
    "\n",
    "            if before_time < april_30_2020:\n",
    "                break\n",
    "\n",
    "            counter += 1\n",
    "    return post_list"
   ]
  },
  {
   "cell_type": "code",
   "execution_count": 14,
   "id": "70a78da2",
   "metadata": {},
   "outputs": [
    {
     "name": "stdout",
     "output_type": "stream",
     "text": [
      "api call #1 finished. start from epoch time: 1616892243\n"
     ]
    },
    {
     "name": "stderr",
     "output_type": "stream",
     "text": [
      "Not all PushShift shards are active. Query results may be incomplete.\n"
     ]
    },
    {
     "name": "stdout",
     "output_type": "stream",
     "text": [
      "IndexError caught, resuming at: 1616892243\n",
      "api call #2 finished. start from epoch time: 1614723928\n",
      "api call #3 finished. start from epoch time: 1612034958\n",
      "IndexError caught, resuming at: 1612034958\n",
      "api call #4 finished. start from epoch time: 1608341092\n",
      "api call #5 finished. start from epoch time: 1603406732\n",
      "api call #6 finished. start from epoch time: 1598482384\n",
      "api call #7 finished. start from epoch time: 1592216003\n",
      "api call #8 finished. start from epoch time: 1588050001\n"
     ]
    }
   ],
   "source": [
    "post_list = get_submissions(\"kindness\")"
   ]
  },
  {
   "cell_type": "code",
   "execution_count": 15,
   "id": "47e0df19",
   "metadata": {},
   "outputs": [
    {
     "data": {
      "text/plain": [
       "800"
      ]
     },
     "execution_count": 15,
     "metadata": {},
     "output_type": "execute_result"
    }
   ],
   "source": [
    "len(post_list)"
   ]
  },
  {
   "cell_type": "code",
   "execution_count": 16,
   "id": "7e19a26f",
   "metadata": {},
   "outputs": [
    {
     "name": "stdout",
     "output_type": "stream",
     "text": [
      "dropped 38 duplicates\n"
     ]
    }
   ],
   "source": [
    "dedup_post_list = dedup_list(post_list)"
   ]
  },
  {
   "cell_type": "code",
   "execution_count": 17,
   "id": "d1a1e27a",
   "metadata": {},
   "outputs": [
    {
     "data": {
      "text/plain": [
       "762"
      ]
     },
     "execution_count": 17,
     "metadata": {},
     "output_type": "execute_result"
    }
   ],
   "source": [
    "len(dedup_post_list)"
   ]
  },
  {
   "cell_type": "code",
   "execution_count": 18,
   "id": "a85db77b",
   "metadata": {},
   "outputs": [],
   "source": [
    "with open(\"kindness_submission_data_20-21.jsonl\", 'w') as output_file:\n",
    "    for post in dedup_post_list:\n",
    "        line_string = json.dumps(post)\n",
    "        print(line_string, file = output_file)"
   ]
  },
  {
   "cell_type": "markdown",
   "id": "1c84e11a",
   "metadata": {},
   "source": [
    "---"
   ]
  },
  {
   "cell_type": "code",
   "execution_count": 19,
   "id": "2029817a",
   "metadata": {
    "scrolled": true
   },
   "outputs": [
    {
     "name": "stdout",
     "output_type": "stream",
     "text": [
      "api call #1 finished. start from epoch time: 1615440680\n",
      "api call #2 finished. start from epoch time: 1612227852\n",
      "api call #3 finished. start from epoch time: 1608570662\n",
      "api call #4 finished. start from epoch time: 1605727693\n",
      "api call #5 finished. start from epoch time: 1602381088\n",
      "api call #6 finished. start from epoch time: 1598140506\n",
      "api call #7 finished. start from epoch time: 1593025164\n",
      "api call #8 finished. start from epoch time: 1592863164\n",
      "api call #9 finished. start from epoch time: 1592088418\n",
      "api call #10 finished. start from epoch time: 1590769190\n",
      "api call #11 finished. start from epoch time: 1587932819\n"
     ]
    }
   ],
   "source": [
    "post_list = get_submissions(\"randomactsofkindness\")"
   ]
  },
  {
   "cell_type": "code",
   "execution_count": 20,
   "id": "e7cfea6c",
   "metadata": {},
   "outputs": [
    {
     "data": {
      "text/plain": [
       "1100"
      ]
     },
     "execution_count": 20,
     "metadata": {},
     "output_type": "execute_result"
    }
   ],
   "source": [
    "len(post_list)"
   ]
  },
  {
   "cell_type": "code",
   "execution_count": 21,
   "id": "e4f712cb",
   "metadata": {},
   "outputs": [
    {
     "name": "stdout",
     "output_type": "stream",
     "text": [
      "dropped 267 duplicates\n"
     ]
    }
   ],
   "source": [
    "dedup_post_list = dedup_list(post_list)"
   ]
  },
  {
   "cell_type": "code",
   "execution_count": 22,
   "id": "f12e6d80",
   "metadata": {},
   "outputs": [
    {
     "data": {
      "text/plain": [
       "833"
      ]
     },
     "execution_count": 22,
     "metadata": {},
     "output_type": "execute_result"
    }
   ],
   "source": [
    "len(dedup_post_list)"
   ]
  },
  {
   "cell_type": "code",
   "execution_count": 23,
   "id": "d0d6f778",
   "metadata": {},
   "outputs": [],
   "source": [
    "with open(\"randomactsofkindness_submission_data_20-21.jsonl\", 'w') as output_file:\n",
    "    for post in dedup_post_list:\n",
    "        line_string = json.dumps(post)\n",
    "        print(line_string, file = output_file)"
   ]
  },
  {
   "cell_type": "markdown",
   "id": "91aff096",
   "metadata": {},
   "source": [
    "---"
   ]
  },
  {
   "cell_type": "code",
   "execution_count": 18,
   "id": "ad3763da",
   "metadata": {
    "scrolled": true
   },
   "outputs": [
    {
     "name": "stdout",
     "output_type": "stream",
     "text": [
      "api call #1 finished. start from epoch time: 1619296226\n",
      "api call #2 finished. start from epoch time: 1618837976\n",
      "api call #3 finished. start from epoch time: 1618331231\n",
      "api call #4 finished. start from epoch time: 1617880619\n",
      "api call #5 finished. start from epoch time: 1617477547\n",
      "api call #6 finished. start from epoch time: 1617129883\n",
      "api call #7 finished. start from epoch time: 1616713671\n",
      "api call #8 finished. start from epoch time: 1616713275\n",
      "api call #9 finished. start from epoch time: 1616713004\n",
      "api call #10 finished. start from epoch time: 1616711601\n",
      "api call #11 finished. start from epoch time: 1616705013\n",
      "api call #12 finished. start from epoch time: 1616702283\n",
      "api call #13 finished. start from epoch time: 1616701463\n",
      "api call #14 finished. start from epoch time: 1616700947\n",
      "api call #15 finished. start from epoch time: 1616700413\n",
      "api call #16 finished. start from epoch time: 1616697666\n",
      "api call #17 finished. start from epoch time: 1616694597\n",
      "api call #18 finished. start from epoch time: 1616690333\n",
      "api call #19 finished. start from epoch time: 1616686148\n",
      "api call #20 finished. start from epoch time: 1616669917\n",
      "api call #21 finished. start from epoch time: 1616664013\n",
      "api call #22 finished. start from epoch time: 1616644561\n",
      "api call #23 finished. start from epoch time: 1616644098\n",
      "api call #24 finished. start from epoch time: 1616642709\n",
      "api call #25 finished. start from epoch time: 1616642380\n",
      "api call #26 finished. start from epoch time: 1616642229\n",
      "api call #27 finished. start from epoch time: 1616638883\n",
      "api call #28 finished. start from epoch time: 1616637391\n",
      "IndexError caught, resuming at: 1616637391\n",
      "api call #29 finished. start from epoch time: 1616633052\n",
      "api call #30 finished. start from epoch time: 1616632931\n",
      "api call #31 finished. start from epoch time: 1616631356\n",
      "api call #32 finished. start from epoch time: 1616627787\n",
      "api call #33 finished. start from epoch time: 1616625903\n",
      "api call #34 finished. start from epoch time: 1616625895\n",
      "api call #35 finished. start from epoch time: 1616624278\n",
      "api call #36 finished. start from epoch time: 1616618580\n",
      "api call #37 finished. start from epoch time: 1616618013\n",
      "api call #38 finished. start from epoch time: 1616617772\n",
      "api call #39 finished. start from epoch time: 1616614637\n",
      "api call #40 finished. start from epoch time: 1616612234\n",
      "api call #41 finished. start from epoch time: 1616600648\n",
      "api call #42 finished. start from epoch time: 1616600394\n",
      "api call #43 finished. start from epoch time: 1616596596\n",
      "api call #44 finished. start from epoch time: 1616596154\n",
      "api call #45 finished. start from epoch time: 1616592620\n",
      "api call #46 finished. start from epoch time: 1616583568\n",
      "api call #47 finished. start from epoch time: 1616578287\n",
      "api call #48 finished. start from epoch time: 1616574490\n",
      "api call #49 finished. start from epoch time: 1616571572\n",
      "api call #50 finished. start from epoch time: 1616568278\n",
      "api call #51 finished. start from epoch time: 1616566255\n",
      "api call #52 finished. start from epoch time: 1616560131\n",
      "api call #53 finished. start from epoch time: 1616043807\n",
      "api call #54 finished. start from epoch time: 1615591361\n",
      "api call #55 finished. start from epoch time: 1615130846\n",
      "api call #56 finished. start from epoch time: 1614711508\n",
      "api call #57 finished. start from epoch time: 1614175143\n",
      "api call #58 finished. start from epoch time: 1613630434\n",
      "api call #59 finished. start from epoch time: 1613172967\n",
      "api call #60 finished. start from epoch time: 1612731425\n",
      "api call #61 finished. start from epoch time: 1612359799\n",
      "api call #62 finished. start from epoch time: 1611945599\n",
      "api call #63 finished. start from epoch time: 1611944923\n",
      "api call #64 finished. start from epoch time: 1611943619\n",
      "api call #65 finished. start from epoch time: 1611937262\n",
      "api call #66 finished. start from epoch time: 1611937089\n",
      "api call #67 finished. start from epoch time: 1611935312\n",
      "api call #68 finished. start from epoch time: 1611924038\n",
      "api call #69 finished. start from epoch time: 1611916394\n",
      "api call #70 finished. start from epoch time: 1611908401\n",
      "api call #71 finished. start from epoch time: 1611906280\n",
      "api call #72 finished. start from epoch time: 1611903901\n",
      "api call #73 finished. start from epoch time: 1611899708\n",
      "api call #74 finished. start from epoch time: 1611891538\n",
      "api call #75 finished. start from epoch time: 1611889733\n",
      "api call #76 finished. start from epoch time: 1611882797\n",
      "api call #77 finished. start from epoch time: 1611876072\n",
      "api call #78 finished. start from epoch time: 1611872919\n",
      "api call #79 finished. start from epoch time: 1611872687\n",
      "api call #80 finished. start from epoch time: 1611868282\n",
      "api call #81 finished. start from epoch time: 1611861578\n",
      "api call #82 finished. start from epoch time: 1611860760\n",
      "api call #83 finished. start from epoch time: 1611857744\n",
      "api call #84 finished. start from epoch time: 1611855634\n",
      "api call #85 finished. start from epoch time: 1611853506\n",
      "api call #86 finished. start from epoch time: 1611852039\n",
      "api call #87 finished. start from epoch time: 1611849291\n",
      "api call #88 finished. start from epoch time: 1611443232\n",
      "api call #89 finished. start from epoch time: 1611064915\n",
      "api call #90 finished. start from epoch time: 1610681054\n",
      "api call #91 finished. start from epoch time: 1610343773\n",
      "api call #92 finished. start from epoch time: 1609957831\n",
      "api call #93 finished. start from epoch time: 1609594209\n",
      "api call #94 finished. start from epoch time: 1609145031\n",
      "api call #95 finished. start from epoch time: 1608610283\n",
      "api call #96 finished. start from epoch time: 1608130718\n",
      "api call #97 finished. start from epoch time: 1607655173\n",
      "api call #98 finished. start from epoch time: 1607275531\n",
      "api call #99 finished. start from epoch time: 1606851500\n",
      "api call #100 finished. start from epoch time: 1606487965\n",
      "api call #101 finished. start from epoch time: 1606112086\n",
      "api call #102 finished. start from epoch time: 1606106163\n",
      "api call #103 finished. start from epoch time: 1606103816\n",
      "api call #104 finished. start from epoch time: 1606093258\n",
      "api call #105 finished. start from epoch time: 1606092208\n",
      "api call #106 finished. start from epoch time: 1606091414\n",
      "api call #107 finished. start from epoch time: 1606089341\n",
      "api call #108 finished. start from epoch time: 1606089301\n",
      "api call #109 finished. start from epoch time: 1606087866\n",
      "api call #110 finished. start from epoch time: 1606085594\n",
      "api call #111 finished. start from epoch time: 1606078582\n",
      "api call #112 finished. start from epoch time: 1606073965\n",
      "api call #113 finished. start from epoch time: 1606062861\n",
      "api call #114 finished. start from epoch time: 1606062008\n",
      "api call #115 finished. start from epoch time: 1606060124\n",
      "api call #116 finished. start from epoch time: 1606057581\n",
      "api call #117 finished. start from epoch time: 1606043700\n",
      "api call #118 finished. start from epoch time: 1606031471\n",
      "api call #119 finished. start from epoch time: 1606020578\n",
      "api call #120 finished. start from epoch time: 1606020361\n",
      "api call #121 finished. start from epoch time: 1606019967\n",
      "api call #122 finished. start from epoch time: 1606018365\n",
      "api call #123 finished. start from epoch time: 1606017948\n",
      "api call #124 finished. start from epoch time: 1606016606\n",
      "api call #125 finished. start from epoch time: 1606013306\n",
      "api call #126 finished. start from epoch time: 1606004734\n",
      "api call #127 finished. start from epoch time: 1606004483\n",
      "api call #128 finished. start from epoch time: 1606001634\n",
      "api call #129 finished. start from epoch time: 1605996601\n",
      "api call #130 finished. start from epoch time: 1605992507\n",
      "api call #131 finished. start from epoch time: 1605984923\n",
      "api call #132 finished. start from epoch time: 1605983970\n",
      "api call #133 finished. start from epoch time: 1605979959\n",
      "api call #134 finished. start from epoch time: 1605969129\n",
      "api call #135 finished. start from epoch time: 1605944736\n",
      "api call #136 finished. start from epoch time: 1605943547\n",
      "api call #137 finished. start from epoch time: 1605942603\n",
      "api call #138 finished. start from epoch time: 1605940512\n",
      "api call #139 finished. start from epoch time: 1605934525\n",
      "api call #140 finished. start from epoch time: 1605931944\n",
      "api call #141 finished. start from epoch time: 1605920545\n",
      "api call #142 finished. start from epoch time: 1605911676\n",
      "api call #143 finished. start from epoch time: 1605905608\n"
     ]
    },
    {
     "name": "stdout",
     "output_type": "stream",
     "text": [
      "api call #144 finished. start from epoch time: 1605905548\n",
      "api call #145 finished. start from epoch time: 1605903962\n",
      "api call #146 finished. start from epoch time: 1605898794\n",
      "api call #147 finished. start from epoch time: 1605898005\n",
      "api call #148 finished. start from epoch time: 1605897448\n",
      "api call #149 finished. start from epoch time: 1605877257\n",
      "api call #150 finished. start from epoch time: 1605873990\n",
      "api call #151 finished. start from epoch time: 1605870066\n",
      "api call #152 finished. start from epoch time: 1605866547\n",
      "api call #153 finished. start from epoch time: 1605864325\n",
      "api call #154 finished. start from epoch time: 1605851714\n",
      "api call #155 finished. start from epoch time: 1605843750\n",
      "api call #156 finished. start from epoch time: 1605841139\n",
      "api call #157 finished. start from epoch time: 1605833195\n",
      "api call #158 finished. start from epoch time: 1605827052\n",
      "api call #159 finished. start from epoch time: 1605822555\n",
      "api call #160 finished. start from epoch time: 1605822472\n",
      "api call #161 finished. start from epoch time: 1605821155\n",
      "api call #162 finished. start from epoch time: 1605820968\n",
      "api call #163 finished. start from epoch time: 1605818548\n",
      "api call #164 finished. start from epoch time: 1605818412\n",
      "api call #165 finished. start from epoch time: 1605818390\n",
      "api call #166 finished. start from epoch time: 1605813253\n",
      "api call #167 finished. start from epoch time: 1605809863\n",
      "api call #168 finished. start from epoch time: 1605806857\n",
      "api call #169 finished. start from epoch time: 1605802466\n",
      "api call #170 finished. start from epoch time: 1605798982\n",
      "api call #171 finished. start from epoch time: 1605798711\n",
      "api call #172 finished. start from epoch time: 1605795118\n",
      "api call #173 finished. start from epoch time: 1605793970\n",
      "api call #174 finished. start from epoch time: 1605582588\n",
      "api call #175 finished. start from epoch time: 1605157236\n",
      "api call #176 finished. start from epoch time: 1604719000\n",
      "api call #177 finished. start from epoch time: 1604274017\n",
      "api call #178 finished. start from epoch time: 1603906284\n"
     ]
    }
   ],
   "source": [
    "post_list = get_submissions(\"KindVoice\")"
   ]
  },
  {
   "cell_type": "code",
   "execution_count": 19,
   "id": "0b277707",
   "metadata": {},
   "outputs": [
    {
     "data": {
      "text/plain": [
       "17800"
      ]
     },
     "execution_count": 19,
     "metadata": {},
     "output_type": "execute_result"
    }
   ],
   "source": [
    "len(post_list)"
   ]
  },
  {
   "cell_type": "code",
   "execution_count": 20,
   "id": "1f3a7efc",
   "metadata": {},
   "outputs": [
    {
     "name": "stdout",
     "output_type": "stream",
     "text": [
      "dropped 14092 duplicates\n"
     ]
    }
   ],
   "source": [
    "dedup_post_list = dedup_list(post_list)"
   ]
  },
  {
   "cell_type": "code",
   "execution_count": 21,
   "id": "3427c8c3",
   "metadata": {},
   "outputs": [
    {
     "data": {
      "text/plain": [
       "3708"
      ]
     },
     "execution_count": 21,
     "metadata": {},
     "output_type": "execute_result"
    }
   ],
   "source": [
    "len(dedup_post_list)"
   ]
  },
  {
   "cell_type": "code",
   "execution_count": 22,
   "id": "a6afe8f5",
   "metadata": {},
   "outputs": [],
   "source": [
    "with open(\"KindVoice_submission_data_6mo_p1_20-21.jsonl\", 'w') as output_file:\n",
    "    for post in dedup_post_list:\n",
    "        line_string = json.dumps(post)\n",
    "        print(line_string, file = output_file)"
   ]
  },
  {
   "cell_type": "code",
   "execution_count": 24,
   "id": "21358fa5",
   "metadata": {},
   "outputs": [
    {
     "name": "stdout",
     "output_type": "stream",
     "text": [
      "api call #1 finished. start from epoch time: 1603642059\n",
      "api call #2 finished. start from epoch time: 1603217777\n",
      "api call #3 finished. start from epoch time: 1602834431\n",
      "api call #4 finished. start from epoch time: 1602376989\n",
      "api call #5 finished. start from epoch time: 1601953727\n",
      "api call #6 finished. start from epoch time: 1601566916\n",
      "api call #7 finished. start from epoch time: 1601118108\n",
      "api call #8 finished. start from epoch time: 1600742680\n",
      "api call #9 finished. start from epoch time: 1600362173\n",
      "api call #10 finished. start from epoch time: 1600012499\n",
      "api call #11 finished. start from epoch time: 1599582347\n",
      "api call #12 finished. start from epoch time: 1599244766\n",
      "api call #13 finished. start from epoch time: 1598758924\n",
      "api call #14 finished. start from epoch time: 1598313302\n",
      "api call #15 finished. start from epoch time: 1597906454\n",
      "api call #16 finished. start from epoch time: 1597493525\n",
      "api call #17 finished. start from epoch time: 1597161516\n",
      "api call #18 finished. start from epoch time: 1596808879\n",
      "api call #19 finished. start from epoch time: 1596404359\n",
      "api call #20 finished. start from epoch time: 1596023020\n",
      "api call #21 finished. start from epoch time: 1595561789\n",
      "api call #22 finished. start from epoch time: 1595249668\n",
      "api call #23 finished. start from epoch time: 1594919942\n",
      "api call #24 finished. start from epoch time: 1594548151\n",
      "api call #25 finished. start from epoch time: 1594212713\n",
      "api call #26 finished. start from epoch time: 1593851980\n",
      "api call #27 finished. start from epoch time: 1593481111\n",
      "api call #28 finished. start from epoch time: 1593147063\n",
      "api call #29 finished. start from epoch time: 1592871435\n",
      "api call #30 finished. start from epoch time: 1592610889\n",
      "api call #31 finished. start from epoch time: 1592256741\n",
      "api call #32 finished. start from epoch time: 1591926214\n",
      "api call #33 finished. start from epoch time: 1591568701\n",
      "api call #34 finished. start from epoch time: 1591242521\n",
      "api call #35 finished. start from epoch time: 1590885966\n",
      "api call #36 finished. start from epoch time: 1590509064\n",
      "api call #37 finished. start from epoch time: 1590142170\n",
      "api call #38 finished. start from epoch time: 1590087219\n",
      "api call #39 finished. start from epoch time: 1589985031\n",
      "api call #40 finished. start from epoch time: 1589753017\n",
      "api call #41 finished. start from epoch time: 1589409218\n",
      "api call #42 finished. start from epoch time: 1589060999\n",
      "api call #43 finished. start from epoch time: 1588778923\n",
      "api call #44 finished. start from epoch time: 1588510317\n",
      "api call #45 finished. start from epoch time: 1588227518\n",
      "api call #46 finished. start from epoch time: 1587855758\n"
     ]
    }
   ],
   "source": [
    "post_list = get_submissions(\"KindVoice\")"
   ]
  },
  {
   "cell_type": "code",
   "execution_count": 25,
   "id": "fa95206f",
   "metadata": {},
   "outputs": [
    {
     "data": {
      "text/plain": [
       "4600"
      ]
     },
     "execution_count": 25,
     "metadata": {},
     "output_type": "execute_result"
    }
   ],
   "source": [
    "len(post_list)"
   ]
  },
  {
   "cell_type": "code",
   "execution_count": 26,
   "id": "a6cee842",
   "metadata": {},
   "outputs": [
    {
     "name": "stdout",
     "output_type": "stream",
     "text": [
      "dropped 160 duplicates\n"
     ]
    }
   ],
   "source": [
    "dedup_post_list = dedup_list(post_list)"
   ]
  },
  {
   "cell_type": "code",
   "execution_count": 27,
   "id": "27889598",
   "metadata": {},
   "outputs": [
    {
     "data": {
      "text/plain": [
       "4440"
      ]
     },
     "execution_count": 27,
     "metadata": {},
     "output_type": "execute_result"
    }
   ],
   "source": [
    "len(dedup_post_list)"
   ]
  },
  {
   "cell_type": "code",
   "execution_count": 28,
   "id": "2b117f2c",
   "metadata": {},
   "outputs": [],
   "source": [
    "with open(\"KindVoice_submission_data_6mo_p2_20-21.jsonl\", 'w') as output_file:\n",
    "    for post in dedup_post_list:\n",
    "        line_string = json.dumps(post)\n",
    "        print(line_string, file = output_file)"
   ]
  },
  {
   "cell_type": "markdown",
   "id": "87132487",
   "metadata": {},
   "source": [
    "---"
   ]
  },
  {
   "cell_type": "code",
   "execution_count": 11,
   "id": "e2e670a6",
   "metadata": {},
   "outputs": [
    {
     "name": "stdout",
     "output_type": "stream",
     "text": [
      "api call #1 finished. start from epoch time: 1619486517\n",
      "api call #2 finished. start from epoch time: 1619123081\n",
      "IndexError caught, resuming at: 1619123081\n",
      "api call #3 finished. start from epoch time: 1618812715\n",
      "api call #4 finished. start from epoch time: 1618375417\n",
      "IndexError caught, resuming at: 1618375417\n",
      "api call #5 finished. start from epoch time: 1617980443\n",
      "api call #6 finished. start from epoch time: 1617583136\n",
      "api call #7 finished. start from epoch time: 1617200714\n"
     ]
    },
    {
     "name": "stderr",
     "output_type": "stream",
     "text": [
      "Not all PushShift shards are active. Query results may be incomplete.\n"
     ]
    },
    {
     "name": "stdout",
     "output_type": "stream",
     "text": [
      "IndexError caught, resuming at: 1617200714\n",
      "api call #8 finished. start from epoch time: 1616740549\n",
      "api call #9 finished. start from epoch time: 1616391154\n",
      "api call #10 finished. start from epoch time: 1615957103\n",
      "api call #11 finished. start from epoch time: 1615495218\n",
      "api call #12 finished. start from epoch time: 1615088522\n",
      "api call #13 finished. start from epoch time: 1614796849\n",
      "api call #14 finished. start from epoch time: 1614440595\n",
      "api call #15 finished. start from epoch time: 1614049589\n",
      "api call #16 finished. start from epoch time: 1613621790\n",
      "api call #17 finished. start from epoch time: 1613256282\n",
      "IndexError caught, resuming at: 1613256282\n",
      "api call #18 finished. start from epoch time: 1612887999\n",
      "api call #19 finished. start from epoch time: 1612395978\n",
      "api call #20 finished. start from epoch time: 1611981691\n",
      "api call #21 finished. start from epoch time: 1611560464\n",
      "api call #22 finished. start from epoch time: 1611112176\n",
      "api call #23 finished. start from epoch time: 1610688761\n",
      "api call #24 finished. start from epoch time: 1610266908\n",
      "api call #25 finished. start from epoch time: 1609952399\n",
      "api call #26 finished. start from epoch time: 1609370256\n",
      "api call #27 finished. start from epoch time: 1608716684\n",
      "api call #28 finished. start from epoch time: 1608377538\n",
      "api call #29 finished. start from epoch time: 1607993838\n",
      "api call #30 finished. start from epoch time: 1607634869\n",
      "api call #31 finished. start from epoch time: 1607350549\n",
      "api call #32 finished. start from epoch time: 1606982274\n",
      "api call #33 finished. start from epoch time: 1606635025\n",
      "api call #34 finished. start from epoch time: 1606325507\n",
      "api call #35 finished. start from epoch time: 1605984702\n",
      "api call #36 finished. start from epoch time: 1605639880\n",
      "api call #37 finished. start from epoch time: 1605317234\n",
      "api call #38 finished. start from epoch time: 1605033400\n",
      "api call #39 finished. start from epoch time: 1604687099\n",
      "api call #40 finished. start from epoch time: 1604294398\n",
      "api call #41 finished. start from epoch time: 1603919712\n",
      "api call #42 finished. start from epoch time: 1603665539\n",
      "api call #43 finished. start from epoch time: 1603322779\n",
      "api call #44 finished. start from epoch time: 1602891182\n",
      "api call #45 finished. start from epoch time: 1602519679\n",
      "api call #46 finished. start from epoch time: 1602170382\n",
      "api call #47 finished. start from epoch time: 1602160025\n",
      "api call #48 finished. start from epoch time: 1602154614\n",
      "IndexError caught, resuming at: 1602154614\n",
      "api call #49 finished. start from epoch time: 1602140683\n",
      "api call #50 finished. start from epoch time: 1602133749\n"
     ]
    },
    {
     "name": "stderr",
     "output_type": "stream",
     "text": [
      "Not all PushShift shards are active. Query results may be incomplete.\n"
     ]
    },
    {
     "name": "stdout",
     "output_type": "stream",
     "text": [
      "IndexError caught, resuming at: 1602133749\n",
      "api call #51 finished. start from epoch time: 1602133535\n",
      "api call #52 finished. start from epoch time: 1602123935\n",
      "IndexError caught, resuming at: 1602123935\n",
      "api call #53 finished. start from epoch time: 1602122945\n",
      "api call #54 finished. start from epoch time: 1602122907\n",
      "api call #55 finished. start from epoch time: 1602121917\n",
      "api call #56 finished. start from epoch time: 1602121899\n",
      "api call #57 finished. start from epoch time: 1602118671\n",
      "api call #58 finished. start from epoch time: 1602115174\n",
      "api call #59 finished. start from epoch time: 1602108960\n",
      "api call #60 finished. start from epoch time: 1602107107\n",
      "api call #61 finished. start from epoch time: 1602106515\n",
      "api call #62 finished. start from epoch time: 1602100219\n",
      "api call #63 finished. start from epoch time: 1602099178\n",
      "IndexError caught, resuming at: 1602099178\n",
      "api call #64 finished. start from epoch time: 1602097197\n",
      "api call #65 finished. start from epoch time: 1602094677\n",
      "api call #66 finished. start from epoch time: 1602090357\n",
      "api call #67 finished. start from epoch time: 1602081765\n",
      "api call #68 finished. start from epoch time: 1601762232\n",
      "api call #69 finished. start from epoch time: 1601308820\n",
      "api call #70 finished. start from epoch time: 1600937790\n",
      "api call #71 finished. start from epoch time: 1600586640\n",
      "api call #72 finished. start from epoch time: 1600190002\n",
      "api call #73 finished. start from epoch time: 1599703291\n",
      "api call #74 finished. start from epoch time: 1599395892\n",
      "api call #75 finished. start from epoch time: 1599012672\n",
      "api call #76 finished. start from epoch time: 1598679046\n",
      "api call #77 finished. start from epoch time: 1598385636\n",
      "IndexError caught, resuming at: 1598385636\n"
     ]
    },
    {
     "name": "stderr",
     "output_type": "stream",
     "text": [
      "Not all PushShift shards are active. Query results may be incomplete.\n",
      "Not all PushShift shards are active. Query results may be incomplete.\n",
      "Not all PushShift shards are active. Query results may be incomplete.\n"
     ]
    },
    {
     "name": "stdout",
     "output_type": "stream",
     "text": [
      "api call #78 finished. start from epoch time: 1598062662\n"
     ]
    },
    {
     "name": "stderr",
     "output_type": "stream",
     "text": [
      "Not all PushShift shards are active. Query results may be incomplete.\n",
      "Not all PushShift shards are active. Query results may be incomplete.\n",
      "Not all PushShift shards are active. Query results may be incomplete.\n"
     ]
    },
    {
     "name": "stdout",
     "output_type": "stream",
     "text": [
      "api call #79 finished. start from epoch time: 1597756719\n"
     ]
    },
    {
     "name": "stderr",
     "output_type": "stream",
     "text": [
      "Not all PushShift shards are active. Query results may be incomplete.\n",
      "Not all PushShift shards are active. Query results may be incomplete.\n"
     ]
    },
    {
     "name": "stdout",
     "output_type": "stream",
     "text": [
      "IndexError caught, resuming at: 1597756719\n"
     ]
    },
    {
     "name": "stderr",
     "output_type": "stream",
     "text": [
      "Not all PushShift shards are active. Query results may be incomplete.\n",
      "Not all PushShift shards are active. Query results may be incomplete.\n",
      "Not all PushShift shards are active. Query results may be incomplete.\n",
      "Not all PushShift shards are active. Query results may be incomplete.\n",
      "Not all PushShift shards are active. Query results may be incomplete.\n"
     ]
    },
    {
     "name": "stdout",
     "output_type": "stream",
     "text": [
      "api call #80 finished. start from epoch time: 1597408960\n"
     ]
    },
    {
     "name": "stderr",
     "output_type": "stream",
     "text": [
      "Not all PushShift shards are active. Query results may be incomplete.\n"
     ]
    },
    {
     "name": "stdout",
     "output_type": "stream",
     "text": [
      "IndexError caught, resuming at: 1597756719\n",
      "api call #81 finished. start from epoch time: 1597408960\n",
      "api call #82 finished. start from epoch time: 1597091191\n",
      "api call #83 finished. start from epoch time: 1596810176\n",
      "api call #84 finished. start from epoch time: 1596374408\n",
      "api call #85 finished. start from epoch time: 1595999454\n",
      "api call #86 finished. start from epoch time: 1595696851\n"
     ]
    },
    {
     "name": "stderr",
     "output_type": "stream",
     "text": [
      "Not all PushShift shards are active. Query results may be incomplete.\n"
     ]
    },
    {
     "name": "stdout",
     "output_type": "stream",
     "text": [
      "IndexError caught, resuming at: 1595696851\n",
      "api call #87 finished. start from epoch time: 1595270245\n",
      "api call #88 finished. start from epoch time: 1594837180\n",
      "api call #89 finished. start from epoch time: 1594545994\n",
      "api call #90 finished. start from epoch time: 1594148794\n",
      "api call #91 finished. start from epoch time: 1593783028\n",
      "api call #92 finished. start from epoch time: 1593463310\n",
      "api call #93 finished. start from epoch time: 1593424189\n",
      "api call #94 finished. start from epoch time: 1593002393\n",
      "api call #95 finished. start from epoch time: 1592591814\n",
      "IndexError caught, resuming at: 1592591814\n",
      "api call #96 finished. start from epoch time: 1592178644\n",
      "api call #97 finished. start from epoch time: 1591815794\n",
      "api call #98 finished. start from epoch time: 1591353481\n",
      "api call #99 finished. start from epoch time: 1590972566\n",
      "api call #100 finished. start from epoch time: 1590565293\n",
      "api call #101 finished. start from epoch time: 1590246421\n",
      "api call #102 finished. start from epoch time: 1590216679\n",
      "api call #103 finished. start from epoch time: 1590158226\n",
      "api call #104 finished. start from epoch time: 1590024093\n",
      "api call #105 finished. start from epoch time: 1589728376\n",
      "api call #106 finished. start from epoch time: 1589360760\n",
      "api call #107 finished. start from epoch time: 1589033816\n",
      "api call #108 finished. start from epoch time: 1588621243\n",
      "api call #109 finished. start from epoch time: 1588328071\n",
      "api call #110 finished. start from epoch time: 1588050230\n"
     ]
    }
   ],
   "source": [
    "post_list = get_submissions(\"RandomKindness\")"
   ]
  },
  {
   "cell_type": "code",
   "execution_count": 12,
   "id": "f5b1bb9a",
   "metadata": {},
   "outputs": [
    {
     "data": {
      "text/plain": [
       "11000"
      ]
     },
     "execution_count": 12,
     "metadata": {},
     "output_type": "execute_result"
    }
   ],
   "source": [
    "len(post_list)"
   ]
  },
  {
   "cell_type": "code",
   "execution_count": 13,
   "id": "daedeb2c",
   "metadata": {},
   "outputs": [
    {
     "name": "stdout",
     "output_type": "stream",
     "text": [
      "dropped 2527 duplicates\n"
     ]
    }
   ],
   "source": [
    "dedup_post_list = dedup_list(post_list)"
   ]
  },
  {
   "cell_type": "code",
   "execution_count": 14,
   "id": "43b3fc12",
   "metadata": {},
   "outputs": [
    {
     "data": {
      "text/plain": [
       "8473"
      ]
     },
     "execution_count": 14,
     "metadata": {},
     "output_type": "execute_result"
    }
   ],
   "source": [
    "len(dedup_post_list)"
   ]
  },
  {
   "cell_type": "code",
   "execution_count": 15,
   "id": "d77931db",
   "metadata": {},
   "outputs": [],
   "source": [
    "with open(\"RandomKindness_submission_data_20-21.jsonl\", 'w') as output_file:\n",
    "    for post in dedup_post_list:\n",
    "        line_string = json.dumps(post)\n",
    "        print(line_string, file = output_file)"
   ]
  },
  {
   "cell_type": "markdown",
   "id": "f24e003d",
   "metadata": {},
   "source": [
    "---"
   ]
  },
  {
   "cell_type": "markdown",
   "id": "3b3c5eec",
   "metadata": {},
   "source": [
    "YEAR: 2019-2020"
   ]
  },
  {
   "cell_type": "code",
   "execution_count": 5,
   "id": "a1b416d4",
   "metadata": {},
   "outputs": [],
   "source": [
    "#2019-2020\n",
    "\n",
    "def get_submissions(subreddit):\n",
    "    api = PushshiftAPI()   \n",
    "    \n",
    "    before_time = april_30_2020\n",
    "\n",
    "    post_list = []\n",
    "\n",
    "    counter = 0\n",
    "    while True:\n",
    "        \n",
    "        try:\n",
    "            posts = api.search_submissions(subreddit = subreddit, limit = 100, sort = \"created_utc\", order = \"desc\", before = before_time)\n",
    "\n",
    "            new_post_list = [post for post in posts]\n",
    "\n",
    "            post_list.extend(new_post_list)\n",
    "\n",
    "            before_time = new_post_list[-1][\"created_utc\"]\n",
    "            print(f\"api call #{counter + 1} finished. start from epoch time:\", before_time)\n",
    "            if len(new_post_list) == 0:\n",
    "                break\n",
    "\n",
    "            if before_time < april_30_2019:\n",
    "                break\n",
    "\n",
    "            counter += 1\n",
    "            \n",
    "            last_known_good = before_time\n",
    "            \n",
    "        except IndexError: \n",
    "            \n",
    "            print(f\"IndexError caught, resuming at: {last_known_good}\")\n",
    "            time.sleep(1.1)\n",
    "\n",
    "            posts = api.search_submissions(subreddit = subreddit, limit = 100, sort = \"created_utc\", order = \"desc\", before = last_known_good)\n",
    "\n",
    "            new_post_list = [post for post in posts]\n",
    "\n",
    "            post_list.extend(new_post_list)\n",
    "\n",
    "            before_time = new_post_list[-1][\"created_utc\"]\n",
    "            print(f\"api call #{counter + 1} finished. start from epoch time:\", before_time)\n",
    "            if len(new_post_list) == 0:\n",
    "                break\n",
    "\n",
    "            if before_time < april_30_2019:\n",
    "                break\n",
    "\n",
    "            counter += 1\n",
    "    return post_list"
   ]
  },
  {
   "cell_type": "markdown",
   "id": "f7ed0f3c",
   "metadata": {},
   "source": [
    "---"
   ]
  },
  {
   "cell_type": "code",
   "execution_count": 30,
   "id": "cfe1d23f",
   "metadata": {},
   "outputs": [
    {
     "name": "stdout",
     "output_type": "stream",
     "text": [
      "api call #1 finished. start from epoch time: 1582651717\n",
      "api call #2 finished. start from epoch time: 1575154190\n",
      "api call #3 finished. start from epoch time: 1567720460\n",
      "api call #4 finished. start from epoch time: 1562816999\n",
      "api call #5 finished. start from epoch time: 1551662027\n"
     ]
    }
   ],
   "source": [
    "post_list = get_submissions(\"kindness\")"
   ]
  },
  {
   "cell_type": "code",
   "execution_count": 31,
   "id": "c967ca58",
   "metadata": {},
   "outputs": [
    {
     "data": {
      "text/plain": [
       "500"
      ]
     },
     "execution_count": 31,
     "metadata": {},
     "output_type": "execute_result"
    }
   ],
   "source": [
    "len(post_list)"
   ]
  },
  {
   "cell_type": "code",
   "execution_count": 32,
   "id": "dd31b26e",
   "metadata": {},
   "outputs": [
    {
     "name": "stdout",
     "output_type": "stream",
     "text": [
      "dropped 93 duplicates\n"
     ]
    }
   ],
   "source": [
    "dedup_post_list = dedup_list(post_list)"
   ]
  },
  {
   "cell_type": "code",
   "execution_count": 33,
   "id": "55e10de1",
   "metadata": {},
   "outputs": [
    {
     "data": {
      "text/plain": [
       "407"
      ]
     },
     "execution_count": 33,
     "metadata": {},
     "output_type": "execute_result"
    }
   ],
   "source": [
    "len(dedup_post_list)"
   ]
  },
  {
   "cell_type": "code",
   "execution_count": 34,
   "id": "a834d13a",
   "metadata": {},
   "outputs": [],
   "source": [
    "with open(\"kindness_submission_data_19-20.jsonl\", 'w') as output_file:\n",
    "    for post in dedup_post_list:\n",
    "        line_string = json.dumps(post)\n",
    "        print(line_string, file = output_file)"
   ]
  },
  {
   "cell_type": "markdown",
   "id": "8ae95b44",
   "metadata": {},
   "source": [
    "---"
   ]
  },
  {
   "cell_type": "code",
   "execution_count": 35,
   "id": "6da312b2",
   "metadata": {},
   "outputs": [
    {
     "name": "stdout",
     "output_type": "stream",
     "text": [
      "api call #1 finished. start from epoch time: 1585784564\n",
      "api call #2 finished. start from epoch time: 1583362806\n",
      "api call #3 finished. start from epoch time: 1580397662\n",
      "api call #4 finished. start from epoch time: 1576902736\n",
      "api call #5 finished. start from epoch time: 1574143282\n",
      "api call #6 finished. start from epoch time: 1570201681\n",
      "api call #7 finished. start from epoch time: 1566166861\n",
      "api call #8 finished. start from epoch time: 1561514748\n",
      "api call #9 finished. start from epoch time: 1558792765\n",
      "IndexError caught, resuming at: 1558792765\n",
      "api call #10 finished. start from epoch time: 1553539530\n"
     ]
    }
   ],
   "source": [
    "post_list = get_submissions(\"randomactsofkindness\")"
   ]
  },
  {
   "cell_type": "code",
   "execution_count": 36,
   "id": "55abab72",
   "metadata": {},
   "outputs": [
    {
     "data": {
      "text/plain": [
       "1000"
      ]
     },
     "execution_count": 36,
     "metadata": {},
     "output_type": "execute_result"
    }
   ],
   "source": [
    "len(post_list)"
   ]
  },
  {
   "cell_type": "code",
   "execution_count": 37,
   "id": "ee6b6259",
   "metadata": {},
   "outputs": [
    {
     "name": "stdout",
     "output_type": "stream",
     "text": [
      "dropped 56 duplicates\n"
     ]
    }
   ],
   "source": [
    "dedup_post_list = dedup_list(post_list)"
   ]
  },
  {
   "cell_type": "code",
   "execution_count": 38,
   "id": "aa0855e9",
   "metadata": {},
   "outputs": [
    {
     "data": {
      "text/plain": [
       "944"
      ]
     },
     "execution_count": 38,
     "metadata": {},
     "output_type": "execute_result"
    }
   ],
   "source": [
    "len(dedup_post_list)"
   ]
  },
  {
   "cell_type": "code",
   "execution_count": 39,
   "id": "927d47da",
   "metadata": {},
   "outputs": [],
   "source": [
    "with open(\"randomactsofkindness_submission_data_19-20.jsonl\", 'w') as output_file:\n",
    "    for post in dedup_post_list:\n",
    "        line_string = json.dumps(post)\n",
    "        print(line_string, file = output_file)"
   ]
  },
  {
   "cell_type": "markdown",
   "id": "6e222884",
   "metadata": {},
   "source": [
    "---"
   ]
  },
  {
   "cell_type": "code",
   "execution_count": 6,
   "id": "290acb36",
   "metadata": {},
   "outputs": [
    {
     "ename": "JSONDecodeError",
     "evalue": "Expecting value: line 1 column 1 (char 0)",
     "output_type": "error",
     "traceback": [
      "\u001b[0;31m---------------------------------------------------------------------------\u001b[0m",
      "\u001b[0;31mJSONDecodeError\u001b[0m                           Traceback (most recent call last)",
      "Cell \u001b[0;32mIn[6], line 1\u001b[0m\n\u001b[0;32m----> 1\u001b[0m post_list \u001b[38;5;241m=\u001b[39m \u001b[43mget_submissions\u001b[49m\u001b[43m(\u001b[49m\u001b[38;5;124;43m\"\u001b[39;49m\u001b[38;5;124;43mKindVoice\u001b[39;49m\u001b[38;5;124;43m\"\u001b[39;49m\u001b[43m)\u001b[49m\n",
      "Cell \u001b[0;32mIn[5], line 14\u001b[0m, in \u001b[0;36mget_submissions\u001b[0;34m(subreddit)\u001b[0m\n\u001b[1;32m     11\u001b[0m \u001b[38;5;28;01mwhile\u001b[39;00m \u001b[38;5;28;01mTrue\u001b[39;00m:\n\u001b[1;32m     13\u001b[0m     \u001b[38;5;28;01mtry\u001b[39;00m:\n\u001b[0;32m---> 14\u001b[0m         posts \u001b[38;5;241m=\u001b[39m \u001b[43mapi\u001b[49m\u001b[38;5;241;43m.\u001b[39;49m\u001b[43msearch_submissions\u001b[49m\u001b[43m(\u001b[49m\u001b[43msubreddit\u001b[49m\u001b[43m \u001b[49m\u001b[38;5;241;43m=\u001b[39;49m\u001b[43m \u001b[49m\u001b[43msubreddit\u001b[49m\u001b[43m,\u001b[49m\u001b[43m \u001b[49m\u001b[43mlimit\u001b[49m\u001b[43m \u001b[49m\u001b[38;5;241;43m=\u001b[39;49m\u001b[43m \u001b[49m\u001b[38;5;241;43m100\u001b[39;49m\u001b[43m,\u001b[49m\u001b[43m \u001b[49m\u001b[43msort\u001b[49m\u001b[43m \u001b[49m\u001b[38;5;241;43m=\u001b[39;49m\u001b[43m \u001b[49m\u001b[38;5;124;43m\"\u001b[39;49m\u001b[38;5;124;43mcreated_utc\u001b[39;49m\u001b[38;5;124;43m\"\u001b[39;49m\u001b[43m,\u001b[49m\u001b[43m \u001b[49m\u001b[43morder\u001b[49m\u001b[43m \u001b[49m\u001b[38;5;241;43m=\u001b[39;49m\u001b[43m \u001b[49m\u001b[38;5;124;43m\"\u001b[39;49m\u001b[38;5;124;43mdesc\u001b[39;49m\u001b[38;5;124;43m\"\u001b[39;49m\u001b[43m,\u001b[49m\u001b[43m \u001b[49m\u001b[43mbefore\u001b[49m\u001b[43m \u001b[49m\u001b[38;5;241;43m=\u001b[39;49m\u001b[43m \u001b[49m\u001b[43mbefore_time\u001b[49m\u001b[43m)\u001b[49m\n\u001b[1;32m     16\u001b[0m         new_post_list \u001b[38;5;241m=\u001b[39m [post \u001b[38;5;28;01mfor\u001b[39;00m post \u001b[38;5;129;01min\u001b[39;00m posts]\n\u001b[1;32m     18\u001b[0m         post_list\u001b[38;5;241m.\u001b[39mextend(new_post_list)\n",
      "File \u001b[0;32m~/anaconda3/lib/python3.10/site-packages/pmaw/PushshiftAPI.py:77\u001b[0m, in \u001b[0;36mPushshiftAPI.search_submissions\u001b[0;34m(self, **kwargs)\u001b[0m\n\u001b[1;32m     62\u001b[0m \u001b[38;5;28;01mdef\u001b[39;00m \u001b[38;5;21msearch_submissions\u001b[39m(\u001b[38;5;28mself\u001b[39m, \u001b[38;5;241m*\u001b[39m\u001b[38;5;241m*\u001b[39mkwargs):\n\u001b[1;32m     63\u001b[0m     \u001b[38;5;124;03m\"\"\"\u001b[39;00m\n\u001b[1;32m     64\u001b[0m \u001b[38;5;124;03m    Method for searching submissions, returns an array of submissions\u001b[39;00m\n\u001b[1;32m     65\u001b[0m \n\u001b[0;32m   (...)\u001b[0m\n\u001b[1;32m     75\u001b[0m \u001b[38;5;124;03m        Response generator object\u001b[39;00m\n\u001b[1;32m     76\u001b[0m \u001b[38;5;124;03m    \"\"\"\u001b[39;00m\n\u001b[0;32m---> 77\u001b[0m     \u001b[38;5;28;01mreturn\u001b[39;00m \u001b[38;5;28;43mself\u001b[39;49m\u001b[38;5;241;43m.\u001b[39;49m\u001b[43m_search\u001b[49m\u001b[43m(\u001b[49m\u001b[43mkind\u001b[49m\u001b[38;5;241;43m=\u001b[39;49m\u001b[38;5;124;43m\"\u001b[39;49m\u001b[38;5;124;43msubmission\u001b[39;49m\u001b[38;5;124;43m\"\u001b[39;49m\u001b[43m,\u001b[49m\u001b[43m \u001b[49m\u001b[38;5;241;43m*\u001b[39;49m\u001b[38;5;241;43m*\u001b[39;49m\u001b[43mkwargs\u001b[49m\u001b[43m)\u001b[49m\n",
      "File \u001b[0;32m~/anaconda3/lib/python3.10/site-packages/pmaw/PushshiftAPIBase.py:287\u001b[0m, in \u001b[0;36mPushshiftAPIBase._search\u001b[0;34m(self, kind, max_ids_per_request, max_results_per_request, mem_safe, search_window, dataset, safe_exit, cache_dir, filter_fn, **kwargs)\u001b[0m\n\u001b[1;32m    284\u001b[0m \u001b[38;5;28;01mif\u001b[39;00m \u001b[38;5;124m\"\u001b[39m\u001b[38;5;124mids\u001b[39m\u001b[38;5;124m\"\u001b[39m \u001b[38;5;129;01mnot\u001b[39;00m \u001b[38;5;129;01min\u001b[39;00m \u001b[38;5;28mself\u001b[39m\u001b[38;5;241m.\u001b[39mreq\u001b[38;5;241m.\u001b[39mpayload \u001b[38;5;129;01mand\u001b[39;00m \u001b[38;5;28mlen\u001b[39m(\u001b[38;5;28mself\u001b[39m\u001b[38;5;241m.\u001b[39mreq\u001b[38;5;241m.\u001b[39mreq_list) \u001b[38;5;241m==\u001b[39m \u001b[38;5;241m0\u001b[39m:\n\u001b[1;32m    285\u001b[0m     \u001b[38;5;66;03m# check to see how many results are remaining\u001b[39;00m\n\u001b[1;32m    286\u001b[0m     \u001b[38;5;28mself\u001b[39m\u001b[38;5;241m.\u001b[39mreq\u001b[38;5;241m.\u001b[39mreq_list\u001b[38;5;241m.\u001b[39mappendleft((url, \u001b[38;5;28mself\u001b[39m\u001b[38;5;241m.\u001b[39mreq\u001b[38;5;241m.\u001b[39mpayload))\n\u001b[0;32m--> 287\u001b[0m     \u001b[38;5;28;43mself\u001b[39;49m\u001b[38;5;241;43m.\u001b[39;49m\u001b[43m_multithread\u001b[49m\u001b[43m(\u001b[49m\u001b[43mcheck_total\u001b[49m\u001b[38;5;241;43m=\u001b[39;49m\u001b[38;5;28;43;01mTrue\u001b[39;49;00m\u001b[43m)\u001b[49m\n\u001b[1;32m    288\u001b[0m     total_avail \u001b[38;5;241m=\u001b[39m \u001b[38;5;28mself\u001b[39m\u001b[38;5;241m.\u001b[39mmeta\u001b[38;5;241m.\u001b[39mtotal_results\n\u001b[1;32m    290\u001b[0m     \u001b[38;5;28;01mif\u001b[39;00m \u001b[38;5;28mself\u001b[39m\u001b[38;5;241m.\u001b[39mreq\u001b[38;5;241m.\u001b[39mlimit \u001b[38;5;129;01mis\u001b[39;00m \u001b[38;5;28;01mNone\u001b[39;00m:\n",
      "File \u001b[0;32m~/anaconda3/lib/python3.10/site-packages/pmaw/PushshiftAPIBase.py:108\u001b[0m, in \u001b[0;36mPushshiftAPIBase._multithread\u001b[0;34m(self, check_total)\u001b[0m\n\u001b[1;32m    101\u001b[0m         reqs\u001b[38;5;241m.\u001b[39mappend(\u001b[38;5;28mself\u001b[39m\u001b[38;5;241m.\u001b[39mreq\u001b[38;5;241m.\u001b[39mreq_list\u001b[38;5;241m.\u001b[39mpopleft())\n\u001b[1;32m    103\u001b[0m futures \u001b[38;5;241m=\u001b[39m {\n\u001b[1;32m    104\u001b[0m     executor\u001b[38;5;241m.\u001b[39msubmit(\u001b[38;5;28mself\u001b[39m\u001b[38;5;241m.\u001b[39m_get, url_pay[\u001b[38;5;241m0\u001b[39m], url_pay[\u001b[38;5;241m1\u001b[39m]): url_pay\n\u001b[1;32m    105\u001b[0m     \u001b[38;5;28;01mfor\u001b[39;00m url_pay \u001b[38;5;129;01min\u001b[39;00m reqs\n\u001b[1;32m    106\u001b[0m }\n\u001b[0;32m--> 108\u001b[0m \u001b[38;5;28;43mself\u001b[39;49m\u001b[38;5;241;43m.\u001b[39;49m\u001b[43m_futures_handler\u001b[49m\u001b[43m(\u001b[49m\u001b[43mfutures\u001b[49m\u001b[43m,\u001b[49m\u001b[43m \u001b[49m\u001b[43mcheck_total\u001b[49m\u001b[43m)\u001b[49m\n\u001b[1;32m    110\u001b[0m \u001b[38;5;66;03m# reset attempts if no failures\u001b[39;00m\n\u001b[1;32m    111\u001b[0m \u001b[38;5;28mself\u001b[39m\u001b[38;5;241m.\u001b[39m_rate_limit\u001b[38;5;241m.\u001b[39m_check_fail()\n",
      "File \u001b[0;32m~/anaconda3/lib/python3.10/site-packages/pmaw/PushshiftAPIBase.py:143\u001b[0m, in \u001b[0;36mPushshiftAPIBase._futures_handler\u001b[0;34m(self, futures, check_total)\u001b[0m\n\u001b[1;32m    141\u001b[0m \u001b[38;5;28mself\u001b[39m\u001b[38;5;241m.\u001b[39mnum_req \u001b[38;5;241m+\u001b[39m\u001b[38;5;241m=\u001b[39m \u001b[38;5;28mint\u001b[39m(\u001b[38;5;129;01mnot\u001b[39;00m check_total)\n\u001b[1;32m    142\u001b[0m \u001b[38;5;28;01mtry\u001b[39;00m:\n\u001b[0;32m--> 143\u001b[0m     data \u001b[38;5;241m=\u001b[39m \u001b[43mfuture\u001b[49m\u001b[38;5;241;43m.\u001b[39;49m\u001b[43mresult\u001b[49m\u001b[43m(\u001b[49m\u001b[43m)\u001b[49m\n\u001b[1;32m    144\u001b[0m     \u001b[38;5;28mself\u001b[39m\u001b[38;5;241m.\u001b[39mnum_suc \u001b[38;5;241m+\u001b[39m\u001b[38;5;241m=\u001b[39m \u001b[38;5;28mint\u001b[39m(\u001b[38;5;129;01mnot\u001b[39;00m check_total)\n\u001b[1;32m    145\u001b[0m     url \u001b[38;5;241m=\u001b[39m url_pay[\u001b[38;5;241m0\u001b[39m]\n",
      "File \u001b[0;32m~/anaconda3/lib/python3.10/concurrent/futures/_base.py:451\u001b[0m, in \u001b[0;36mFuture.result\u001b[0;34m(self, timeout)\u001b[0m\n\u001b[1;32m    449\u001b[0m     \u001b[38;5;28;01mraise\u001b[39;00m CancelledError()\n\u001b[1;32m    450\u001b[0m \u001b[38;5;28;01melif\u001b[39;00m \u001b[38;5;28mself\u001b[39m\u001b[38;5;241m.\u001b[39m_state \u001b[38;5;241m==\u001b[39m FINISHED:\n\u001b[0;32m--> 451\u001b[0m     \u001b[38;5;28;01mreturn\u001b[39;00m \u001b[38;5;28;43mself\u001b[39;49m\u001b[38;5;241;43m.\u001b[39;49m\u001b[43m__get_result\u001b[49m\u001b[43m(\u001b[49m\u001b[43m)\u001b[49m\n\u001b[1;32m    453\u001b[0m \u001b[38;5;28mself\u001b[39m\u001b[38;5;241m.\u001b[39m_condition\u001b[38;5;241m.\u001b[39mwait(timeout)\n\u001b[1;32m    455\u001b[0m \u001b[38;5;28;01mif\u001b[39;00m \u001b[38;5;28mself\u001b[39m\u001b[38;5;241m.\u001b[39m_state \u001b[38;5;129;01min\u001b[39;00m [CANCELLED, CANCELLED_AND_NOTIFIED]:\n",
      "File \u001b[0;32m~/anaconda3/lib/python3.10/concurrent/futures/_base.py:403\u001b[0m, in \u001b[0;36mFuture.__get_result\u001b[0;34m(self)\u001b[0m\n\u001b[1;32m    401\u001b[0m \u001b[38;5;28;01mif\u001b[39;00m \u001b[38;5;28mself\u001b[39m\u001b[38;5;241m.\u001b[39m_exception:\n\u001b[1;32m    402\u001b[0m     \u001b[38;5;28;01mtry\u001b[39;00m:\n\u001b[0;32m--> 403\u001b[0m         \u001b[38;5;28;01mraise\u001b[39;00m \u001b[38;5;28mself\u001b[39m\u001b[38;5;241m.\u001b[39m_exception\n\u001b[1;32m    404\u001b[0m     \u001b[38;5;28;01mfinally\u001b[39;00m:\n\u001b[1;32m    405\u001b[0m         \u001b[38;5;66;03m# Break a reference cycle with the exception in self._exception\u001b[39;00m\n\u001b[1;32m    406\u001b[0m         \u001b[38;5;28mself\u001b[39m \u001b[38;5;241m=\u001b[39m \u001b[38;5;28;01mNone\u001b[39;00m\n",
      "File \u001b[0;32m~/anaconda3/lib/python3.10/concurrent/futures/thread.py:58\u001b[0m, in \u001b[0;36m_WorkItem.run\u001b[0;34m(self)\u001b[0m\n\u001b[1;32m     55\u001b[0m     \u001b[38;5;28;01mreturn\u001b[39;00m\n\u001b[1;32m     57\u001b[0m \u001b[38;5;28;01mtry\u001b[39;00m:\n\u001b[0;32m---> 58\u001b[0m     result \u001b[38;5;241m=\u001b[39m \u001b[38;5;28;43mself\u001b[39;49m\u001b[38;5;241;43m.\u001b[39;49m\u001b[43mfn\u001b[49m\u001b[43m(\u001b[49m\u001b[38;5;241;43m*\u001b[39;49m\u001b[38;5;28;43mself\u001b[39;49m\u001b[38;5;241;43m.\u001b[39;49m\u001b[43margs\u001b[49m\u001b[43m,\u001b[49m\u001b[43m \u001b[49m\u001b[38;5;241;43m*\u001b[39;49m\u001b[38;5;241;43m*\u001b[39;49m\u001b[38;5;28;43mself\u001b[39;49m\u001b[38;5;241;43m.\u001b[39;49m\u001b[43mkwargs\u001b[49m\u001b[43m)\u001b[49m\n\u001b[1;32m     59\u001b[0m \u001b[38;5;28;01mexcept\u001b[39;00m \u001b[38;5;167;01mBaseException\u001b[39;00m \u001b[38;5;28;01mas\u001b[39;00m exc:\n\u001b[1;32m     60\u001b[0m     \u001b[38;5;28mself\u001b[39m\u001b[38;5;241m.\u001b[39mfuture\u001b[38;5;241m.\u001b[39mset_exception(exc)\n",
      "File \u001b[0;32m~/anaconda3/lib/python3.10/site-packages/pmaw/PushshiftAPIBase.py:70\u001b[0m, in \u001b[0;36mPushshiftAPIBase._get\u001b[0;34m(self, url, payload)\u001b[0m\n\u001b[1;32m     67\u001b[0m reason \u001b[38;5;241m=\u001b[39m r\u001b[38;5;241m.\u001b[39mreason\n\u001b[1;32m     69\u001b[0m \u001b[38;5;28;01mif\u001b[39;00m status \u001b[38;5;241m==\u001b[39m \u001b[38;5;241m200\u001b[39m:\n\u001b[0;32m---> 70\u001b[0m     r \u001b[38;5;241m=\u001b[39m \u001b[43mjson\u001b[49m\u001b[38;5;241;43m.\u001b[39;49m\u001b[43mloads\u001b[49m\u001b[43m(\u001b[49m\u001b[43mr\u001b[49m\u001b[38;5;241;43m.\u001b[39;49m\u001b[43mtext\u001b[49m\u001b[43m)\u001b[49m\n\u001b[1;32m     72\u001b[0m     \u001b[38;5;66;03m# check if shards are down\u001b[39;00m\n\u001b[1;32m     73\u001b[0m     \u001b[38;5;28mself\u001b[39m\u001b[38;5;241m.\u001b[39mmeta \u001b[38;5;241m=\u001b[39m Metadata(r\u001b[38;5;241m.\u001b[39mget(\u001b[38;5;124m\"\u001b[39m\u001b[38;5;124mmetadata\u001b[39m\u001b[38;5;124m\"\u001b[39m, {}))\n",
      "File \u001b[0;32m~/anaconda3/lib/python3.10/json/__init__.py:346\u001b[0m, in \u001b[0;36mloads\u001b[0;34m(s, cls, object_hook, parse_float, parse_int, parse_constant, object_pairs_hook, **kw)\u001b[0m\n\u001b[1;32m    341\u001b[0m     s \u001b[38;5;241m=\u001b[39m s\u001b[38;5;241m.\u001b[39mdecode(detect_encoding(s), \u001b[38;5;124m'\u001b[39m\u001b[38;5;124msurrogatepass\u001b[39m\u001b[38;5;124m'\u001b[39m)\n\u001b[1;32m    343\u001b[0m \u001b[38;5;28;01mif\u001b[39;00m (\u001b[38;5;28mcls\u001b[39m \u001b[38;5;129;01mis\u001b[39;00m \u001b[38;5;28;01mNone\u001b[39;00m \u001b[38;5;129;01mand\u001b[39;00m object_hook \u001b[38;5;129;01mis\u001b[39;00m \u001b[38;5;28;01mNone\u001b[39;00m \u001b[38;5;129;01mand\u001b[39;00m\n\u001b[1;32m    344\u001b[0m         parse_int \u001b[38;5;129;01mis\u001b[39;00m \u001b[38;5;28;01mNone\u001b[39;00m \u001b[38;5;129;01mand\u001b[39;00m parse_float \u001b[38;5;129;01mis\u001b[39;00m \u001b[38;5;28;01mNone\u001b[39;00m \u001b[38;5;129;01mand\u001b[39;00m\n\u001b[1;32m    345\u001b[0m         parse_constant \u001b[38;5;129;01mis\u001b[39;00m \u001b[38;5;28;01mNone\u001b[39;00m \u001b[38;5;129;01mand\u001b[39;00m object_pairs_hook \u001b[38;5;129;01mis\u001b[39;00m \u001b[38;5;28;01mNone\u001b[39;00m \u001b[38;5;129;01mand\u001b[39;00m \u001b[38;5;129;01mnot\u001b[39;00m kw):\n\u001b[0;32m--> 346\u001b[0m     \u001b[38;5;28;01mreturn\u001b[39;00m \u001b[43m_default_decoder\u001b[49m\u001b[38;5;241;43m.\u001b[39;49m\u001b[43mdecode\u001b[49m\u001b[43m(\u001b[49m\u001b[43ms\u001b[49m\u001b[43m)\u001b[49m\n\u001b[1;32m    347\u001b[0m \u001b[38;5;28;01mif\u001b[39;00m \u001b[38;5;28mcls\u001b[39m \u001b[38;5;129;01mis\u001b[39;00m \u001b[38;5;28;01mNone\u001b[39;00m:\n\u001b[1;32m    348\u001b[0m     \u001b[38;5;28mcls\u001b[39m \u001b[38;5;241m=\u001b[39m JSONDecoder\n",
      "File \u001b[0;32m~/anaconda3/lib/python3.10/json/decoder.py:337\u001b[0m, in \u001b[0;36mJSONDecoder.decode\u001b[0;34m(self, s, _w)\u001b[0m\n\u001b[1;32m    332\u001b[0m \u001b[38;5;28;01mdef\u001b[39;00m \u001b[38;5;21mdecode\u001b[39m(\u001b[38;5;28mself\u001b[39m, s, _w\u001b[38;5;241m=\u001b[39mWHITESPACE\u001b[38;5;241m.\u001b[39mmatch):\n\u001b[1;32m    333\u001b[0m     \u001b[38;5;124;03m\"\"\"Return the Python representation of ``s`` (a ``str`` instance\u001b[39;00m\n\u001b[1;32m    334\u001b[0m \u001b[38;5;124;03m    containing a JSON document).\u001b[39;00m\n\u001b[1;32m    335\u001b[0m \n\u001b[1;32m    336\u001b[0m \u001b[38;5;124;03m    \"\"\"\u001b[39;00m\n\u001b[0;32m--> 337\u001b[0m     obj, end \u001b[38;5;241m=\u001b[39m \u001b[38;5;28;43mself\u001b[39;49m\u001b[38;5;241;43m.\u001b[39;49m\u001b[43mraw_decode\u001b[49m\u001b[43m(\u001b[49m\u001b[43ms\u001b[49m\u001b[43m,\u001b[49m\u001b[43m \u001b[49m\u001b[43midx\u001b[49m\u001b[38;5;241;43m=\u001b[39;49m\u001b[43m_w\u001b[49m\u001b[43m(\u001b[49m\u001b[43ms\u001b[49m\u001b[43m,\u001b[49m\u001b[43m \u001b[49m\u001b[38;5;241;43m0\u001b[39;49m\u001b[43m)\u001b[49m\u001b[38;5;241;43m.\u001b[39;49m\u001b[43mend\u001b[49m\u001b[43m(\u001b[49m\u001b[43m)\u001b[49m\u001b[43m)\u001b[49m\n\u001b[1;32m    338\u001b[0m     end \u001b[38;5;241m=\u001b[39m _w(s, end)\u001b[38;5;241m.\u001b[39mend()\n\u001b[1;32m    339\u001b[0m     \u001b[38;5;28;01mif\u001b[39;00m end \u001b[38;5;241m!=\u001b[39m \u001b[38;5;28mlen\u001b[39m(s):\n",
      "File \u001b[0;32m~/anaconda3/lib/python3.10/json/decoder.py:355\u001b[0m, in \u001b[0;36mJSONDecoder.raw_decode\u001b[0;34m(self, s, idx)\u001b[0m\n\u001b[1;32m    353\u001b[0m     obj, end \u001b[38;5;241m=\u001b[39m \u001b[38;5;28mself\u001b[39m\u001b[38;5;241m.\u001b[39mscan_once(s, idx)\n\u001b[1;32m    354\u001b[0m \u001b[38;5;28;01mexcept\u001b[39;00m \u001b[38;5;167;01mStopIteration\u001b[39;00m \u001b[38;5;28;01mas\u001b[39;00m err:\n\u001b[0;32m--> 355\u001b[0m     \u001b[38;5;28;01mraise\u001b[39;00m JSONDecodeError(\u001b[38;5;124m\"\u001b[39m\u001b[38;5;124mExpecting value\u001b[39m\u001b[38;5;124m\"\u001b[39m, s, err\u001b[38;5;241m.\u001b[39mvalue) \u001b[38;5;28;01mfrom\u001b[39;00m \u001b[38;5;28mNone\u001b[39m\n\u001b[1;32m    356\u001b[0m \u001b[38;5;28;01mreturn\u001b[39;00m obj, end\n",
      "\u001b[0;31mJSONDecodeError\u001b[0m: Expecting value: line 1 column 1 (char 0)"
     ]
    }
   ],
   "source": [
    "post_list = get_submissions(\"KindVoice\")"
   ]
  },
  {
   "cell_type": "code",
   "execution_count": 9,
   "id": "edbdf9f9",
   "metadata": {},
   "outputs": [],
   "source": [
    "#len(post_list)"
   ]
  },
  {
   "cell_type": "code",
   "execution_count": null,
   "id": "55344342",
   "metadata": {},
   "outputs": [],
   "source": [
    "#dedup_post_list = dedup_list(post_list)"
   ]
  },
  {
   "cell_type": "code",
   "execution_count": null,
   "id": "58f5ddfc",
   "metadata": {},
   "outputs": [],
   "source": [
    "#len(dedup_post_list)"
   ]
  },
  {
   "cell_type": "code",
   "execution_count": null,
   "id": "22333276",
   "metadata": {},
   "outputs": [],
   "source": [
    "#with open(\"KindVoice_submission_data_19-20.jsonl\", 'w') as output_file:\n",
    "#    for post in dedup_post_list:\n",
    "#        line_string = json.dumps(post)\n",
    "#        print(line_string, file = output_file)"
   ]
  },
  {
   "cell_type": "markdown",
   "id": "f4c9426f",
   "metadata": {},
   "source": [
    "---"
   ]
  },
  {
   "cell_type": "code",
   "execution_count": 26,
   "id": "e63afc24",
   "metadata": {},
   "outputs": [
    {
     "ename": "JSONDecodeError",
     "evalue": "Expecting value: line 1 column 1 (char 0)",
     "output_type": "error",
     "traceback": [
      "\u001b[0;31m---------------------------------------------------------------------------\u001b[0m",
      "\u001b[0;31mJSONDecodeError\u001b[0m                           Traceback (most recent call last)",
      "Cell \u001b[0;32mIn[26], line 1\u001b[0m\n\u001b[0;32m----> 1\u001b[0m post_list \u001b[38;5;241m=\u001b[39m \u001b[43mget_submissions\u001b[49m\u001b[43m(\u001b[49m\u001b[38;5;124;43m\"\u001b[39;49m\u001b[38;5;124;43mRandomKindness\u001b[39;49m\u001b[38;5;124;43m\"\u001b[39;49m\u001b[43m)\u001b[49m\n",
      "Cell \u001b[0;32mIn[6], line 14\u001b[0m, in \u001b[0;36mget_submissions\u001b[0;34m(subreddit)\u001b[0m\n\u001b[1;32m     11\u001b[0m \u001b[38;5;28;01mwhile\u001b[39;00m \u001b[38;5;28;01mTrue\u001b[39;00m:\n\u001b[1;32m     13\u001b[0m     \u001b[38;5;28;01mtry\u001b[39;00m:\n\u001b[0;32m---> 14\u001b[0m         posts \u001b[38;5;241m=\u001b[39m \u001b[43mapi\u001b[49m\u001b[38;5;241;43m.\u001b[39;49m\u001b[43msearch_submissions\u001b[49m\u001b[43m(\u001b[49m\u001b[43msubreddit\u001b[49m\u001b[43m \u001b[49m\u001b[38;5;241;43m=\u001b[39;49m\u001b[43m \u001b[49m\u001b[43msubreddit\u001b[49m\u001b[43m,\u001b[49m\u001b[43m \u001b[49m\u001b[43mlimit\u001b[49m\u001b[43m \u001b[49m\u001b[38;5;241;43m=\u001b[39;49m\u001b[43m \u001b[49m\u001b[38;5;241;43m100\u001b[39;49m\u001b[43m,\u001b[49m\u001b[43m \u001b[49m\u001b[43msort\u001b[49m\u001b[43m \u001b[49m\u001b[38;5;241;43m=\u001b[39;49m\u001b[43m \u001b[49m\u001b[38;5;124;43m\"\u001b[39;49m\u001b[38;5;124;43mcreated_utc\u001b[39;49m\u001b[38;5;124;43m\"\u001b[39;49m\u001b[43m,\u001b[49m\u001b[43m \u001b[49m\u001b[43morder\u001b[49m\u001b[43m \u001b[49m\u001b[38;5;241;43m=\u001b[39;49m\u001b[43m \u001b[49m\u001b[38;5;124;43m\"\u001b[39;49m\u001b[38;5;124;43mdesc\u001b[39;49m\u001b[38;5;124;43m\"\u001b[39;49m\u001b[43m,\u001b[49m\u001b[43m \u001b[49m\u001b[43mbefore\u001b[49m\u001b[43m \u001b[49m\u001b[38;5;241;43m=\u001b[39;49m\u001b[43m \u001b[49m\u001b[43mbefore_time\u001b[49m\u001b[43m)\u001b[49m\n\u001b[1;32m     16\u001b[0m         new_post_list \u001b[38;5;241m=\u001b[39m [post \u001b[38;5;28;01mfor\u001b[39;00m post \u001b[38;5;129;01min\u001b[39;00m posts]\n\u001b[1;32m     18\u001b[0m         post_list\u001b[38;5;241m.\u001b[39mextend(new_post_list)\n",
      "File \u001b[0;32m~/anaconda3/lib/python3.10/site-packages/pmaw/PushshiftAPI.py:77\u001b[0m, in \u001b[0;36mPushshiftAPI.search_submissions\u001b[0;34m(self, **kwargs)\u001b[0m\n\u001b[1;32m     62\u001b[0m \u001b[38;5;28;01mdef\u001b[39;00m \u001b[38;5;21msearch_submissions\u001b[39m(\u001b[38;5;28mself\u001b[39m, \u001b[38;5;241m*\u001b[39m\u001b[38;5;241m*\u001b[39mkwargs):\n\u001b[1;32m     63\u001b[0m     \u001b[38;5;124;03m\"\"\"\u001b[39;00m\n\u001b[1;32m     64\u001b[0m \u001b[38;5;124;03m    Method for searching submissions, returns an array of submissions\u001b[39;00m\n\u001b[1;32m     65\u001b[0m \n\u001b[0;32m   (...)\u001b[0m\n\u001b[1;32m     75\u001b[0m \u001b[38;5;124;03m        Response generator object\u001b[39;00m\n\u001b[1;32m     76\u001b[0m \u001b[38;5;124;03m    \"\"\"\u001b[39;00m\n\u001b[0;32m---> 77\u001b[0m     \u001b[38;5;28;01mreturn\u001b[39;00m \u001b[38;5;28;43mself\u001b[39;49m\u001b[38;5;241;43m.\u001b[39;49m\u001b[43m_search\u001b[49m\u001b[43m(\u001b[49m\u001b[43mkind\u001b[49m\u001b[38;5;241;43m=\u001b[39;49m\u001b[38;5;124;43m\"\u001b[39;49m\u001b[38;5;124;43msubmission\u001b[39;49m\u001b[38;5;124;43m\"\u001b[39;49m\u001b[43m,\u001b[49m\u001b[43m \u001b[49m\u001b[38;5;241;43m*\u001b[39;49m\u001b[38;5;241;43m*\u001b[39;49m\u001b[43mkwargs\u001b[49m\u001b[43m)\u001b[49m\n",
      "File \u001b[0;32m~/anaconda3/lib/python3.10/site-packages/pmaw/PushshiftAPIBase.py:287\u001b[0m, in \u001b[0;36mPushshiftAPIBase._search\u001b[0;34m(self, kind, max_ids_per_request, max_results_per_request, mem_safe, search_window, dataset, safe_exit, cache_dir, filter_fn, **kwargs)\u001b[0m\n\u001b[1;32m    284\u001b[0m \u001b[38;5;28;01mif\u001b[39;00m \u001b[38;5;124m\"\u001b[39m\u001b[38;5;124mids\u001b[39m\u001b[38;5;124m\"\u001b[39m \u001b[38;5;129;01mnot\u001b[39;00m \u001b[38;5;129;01min\u001b[39;00m \u001b[38;5;28mself\u001b[39m\u001b[38;5;241m.\u001b[39mreq\u001b[38;5;241m.\u001b[39mpayload \u001b[38;5;129;01mand\u001b[39;00m \u001b[38;5;28mlen\u001b[39m(\u001b[38;5;28mself\u001b[39m\u001b[38;5;241m.\u001b[39mreq\u001b[38;5;241m.\u001b[39mreq_list) \u001b[38;5;241m==\u001b[39m \u001b[38;5;241m0\u001b[39m:\n\u001b[1;32m    285\u001b[0m     \u001b[38;5;66;03m# check to see how many results are remaining\u001b[39;00m\n\u001b[1;32m    286\u001b[0m     \u001b[38;5;28mself\u001b[39m\u001b[38;5;241m.\u001b[39mreq\u001b[38;5;241m.\u001b[39mreq_list\u001b[38;5;241m.\u001b[39mappendleft((url, \u001b[38;5;28mself\u001b[39m\u001b[38;5;241m.\u001b[39mreq\u001b[38;5;241m.\u001b[39mpayload))\n\u001b[0;32m--> 287\u001b[0m     \u001b[38;5;28;43mself\u001b[39;49m\u001b[38;5;241;43m.\u001b[39;49m\u001b[43m_multithread\u001b[49m\u001b[43m(\u001b[49m\u001b[43mcheck_total\u001b[49m\u001b[38;5;241;43m=\u001b[39;49m\u001b[38;5;28;43;01mTrue\u001b[39;49;00m\u001b[43m)\u001b[49m\n\u001b[1;32m    288\u001b[0m     total_avail \u001b[38;5;241m=\u001b[39m \u001b[38;5;28mself\u001b[39m\u001b[38;5;241m.\u001b[39mmeta\u001b[38;5;241m.\u001b[39mtotal_results\n\u001b[1;32m    290\u001b[0m     \u001b[38;5;28;01mif\u001b[39;00m \u001b[38;5;28mself\u001b[39m\u001b[38;5;241m.\u001b[39mreq\u001b[38;5;241m.\u001b[39mlimit \u001b[38;5;129;01mis\u001b[39;00m \u001b[38;5;28;01mNone\u001b[39;00m:\n",
      "File \u001b[0;32m~/anaconda3/lib/python3.10/site-packages/pmaw/PushshiftAPIBase.py:108\u001b[0m, in \u001b[0;36mPushshiftAPIBase._multithread\u001b[0;34m(self, check_total)\u001b[0m\n\u001b[1;32m    101\u001b[0m         reqs\u001b[38;5;241m.\u001b[39mappend(\u001b[38;5;28mself\u001b[39m\u001b[38;5;241m.\u001b[39mreq\u001b[38;5;241m.\u001b[39mreq_list\u001b[38;5;241m.\u001b[39mpopleft())\n\u001b[1;32m    103\u001b[0m futures \u001b[38;5;241m=\u001b[39m {\n\u001b[1;32m    104\u001b[0m     executor\u001b[38;5;241m.\u001b[39msubmit(\u001b[38;5;28mself\u001b[39m\u001b[38;5;241m.\u001b[39m_get, url_pay[\u001b[38;5;241m0\u001b[39m], url_pay[\u001b[38;5;241m1\u001b[39m]): url_pay\n\u001b[1;32m    105\u001b[0m     \u001b[38;5;28;01mfor\u001b[39;00m url_pay \u001b[38;5;129;01min\u001b[39;00m reqs\n\u001b[1;32m    106\u001b[0m }\n\u001b[0;32m--> 108\u001b[0m \u001b[38;5;28;43mself\u001b[39;49m\u001b[38;5;241;43m.\u001b[39;49m\u001b[43m_futures_handler\u001b[49m\u001b[43m(\u001b[49m\u001b[43mfutures\u001b[49m\u001b[43m,\u001b[49m\u001b[43m \u001b[49m\u001b[43mcheck_total\u001b[49m\u001b[43m)\u001b[49m\n\u001b[1;32m    110\u001b[0m \u001b[38;5;66;03m# reset attempts if no failures\u001b[39;00m\n\u001b[1;32m    111\u001b[0m \u001b[38;5;28mself\u001b[39m\u001b[38;5;241m.\u001b[39m_rate_limit\u001b[38;5;241m.\u001b[39m_check_fail()\n",
      "File \u001b[0;32m~/anaconda3/lib/python3.10/site-packages/pmaw/PushshiftAPIBase.py:143\u001b[0m, in \u001b[0;36mPushshiftAPIBase._futures_handler\u001b[0;34m(self, futures, check_total)\u001b[0m\n\u001b[1;32m    141\u001b[0m \u001b[38;5;28mself\u001b[39m\u001b[38;5;241m.\u001b[39mnum_req \u001b[38;5;241m+\u001b[39m\u001b[38;5;241m=\u001b[39m \u001b[38;5;28mint\u001b[39m(\u001b[38;5;129;01mnot\u001b[39;00m check_total)\n\u001b[1;32m    142\u001b[0m \u001b[38;5;28;01mtry\u001b[39;00m:\n\u001b[0;32m--> 143\u001b[0m     data \u001b[38;5;241m=\u001b[39m \u001b[43mfuture\u001b[49m\u001b[38;5;241;43m.\u001b[39;49m\u001b[43mresult\u001b[49m\u001b[43m(\u001b[49m\u001b[43m)\u001b[49m\n\u001b[1;32m    144\u001b[0m     \u001b[38;5;28mself\u001b[39m\u001b[38;5;241m.\u001b[39mnum_suc \u001b[38;5;241m+\u001b[39m\u001b[38;5;241m=\u001b[39m \u001b[38;5;28mint\u001b[39m(\u001b[38;5;129;01mnot\u001b[39;00m check_total)\n\u001b[1;32m    145\u001b[0m     url \u001b[38;5;241m=\u001b[39m url_pay[\u001b[38;5;241m0\u001b[39m]\n",
      "File \u001b[0;32m~/anaconda3/lib/python3.10/concurrent/futures/_base.py:451\u001b[0m, in \u001b[0;36mFuture.result\u001b[0;34m(self, timeout)\u001b[0m\n\u001b[1;32m    449\u001b[0m     \u001b[38;5;28;01mraise\u001b[39;00m CancelledError()\n\u001b[1;32m    450\u001b[0m \u001b[38;5;28;01melif\u001b[39;00m \u001b[38;5;28mself\u001b[39m\u001b[38;5;241m.\u001b[39m_state \u001b[38;5;241m==\u001b[39m FINISHED:\n\u001b[0;32m--> 451\u001b[0m     \u001b[38;5;28;01mreturn\u001b[39;00m \u001b[38;5;28;43mself\u001b[39;49m\u001b[38;5;241;43m.\u001b[39;49m\u001b[43m__get_result\u001b[49m\u001b[43m(\u001b[49m\u001b[43m)\u001b[49m\n\u001b[1;32m    453\u001b[0m \u001b[38;5;28mself\u001b[39m\u001b[38;5;241m.\u001b[39m_condition\u001b[38;5;241m.\u001b[39mwait(timeout)\n\u001b[1;32m    455\u001b[0m \u001b[38;5;28;01mif\u001b[39;00m \u001b[38;5;28mself\u001b[39m\u001b[38;5;241m.\u001b[39m_state \u001b[38;5;129;01min\u001b[39;00m [CANCELLED, CANCELLED_AND_NOTIFIED]:\n",
      "File \u001b[0;32m~/anaconda3/lib/python3.10/concurrent/futures/_base.py:403\u001b[0m, in \u001b[0;36mFuture.__get_result\u001b[0;34m(self)\u001b[0m\n\u001b[1;32m    401\u001b[0m \u001b[38;5;28;01mif\u001b[39;00m \u001b[38;5;28mself\u001b[39m\u001b[38;5;241m.\u001b[39m_exception:\n\u001b[1;32m    402\u001b[0m     \u001b[38;5;28;01mtry\u001b[39;00m:\n\u001b[0;32m--> 403\u001b[0m         \u001b[38;5;28;01mraise\u001b[39;00m \u001b[38;5;28mself\u001b[39m\u001b[38;5;241m.\u001b[39m_exception\n\u001b[1;32m    404\u001b[0m     \u001b[38;5;28;01mfinally\u001b[39;00m:\n\u001b[1;32m    405\u001b[0m         \u001b[38;5;66;03m# Break a reference cycle with the exception in self._exception\u001b[39;00m\n\u001b[1;32m    406\u001b[0m         \u001b[38;5;28mself\u001b[39m \u001b[38;5;241m=\u001b[39m \u001b[38;5;28;01mNone\u001b[39;00m\n",
      "File \u001b[0;32m~/anaconda3/lib/python3.10/concurrent/futures/thread.py:58\u001b[0m, in \u001b[0;36m_WorkItem.run\u001b[0;34m(self)\u001b[0m\n\u001b[1;32m     55\u001b[0m     \u001b[38;5;28;01mreturn\u001b[39;00m\n\u001b[1;32m     57\u001b[0m \u001b[38;5;28;01mtry\u001b[39;00m:\n\u001b[0;32m---> 58\u001b[0m     result \u001b[38;5;241m=\u001b[39m \u001b[38;5;28;43mself\u001b[39;49m\u001b[38;5;241;43m.\u001b[39;49m\u001b[43mfn\u001b[49m\u001b[43m(\u001b[49m\u001b[38;5;241;43m*\u001b[39;49m\u001b[38;5;28;43mself\u001b[39;49m\u001b[38;5;241;43m.\u001b[39;49m\u001b[43margs\u001b[49m\u001b[43m,\u001b[49m\u001b[43m \u001b[49m\u001b[38;5;241;43m*\u001b[39;49m\u001b[38;5;241;43m*\u001b[39;49m\u001b[38;5;28;43mself\u001b[39;49m\u001b[38;5;241;43m.\u001b[39;49m\u001b[43mkwargs\u001b[49m\u001b[43m)\u001b[49m\n\u001b[1;32m     59\u001b[0m \u001b[38;5;28;01mexcept\u001b[39;00m \u001b[38;5;167;01mBaseException\u001b[39;00m \u001b[38;5;28;01mas\u001b[39;00m exc:\n\u001b[1;32m     60\u001b[0m     \u001b[38;5;28mself\u001b[39m\u001b[38;5;241m.\u001b[39mfuture\u001b[38;5;241m.\u001b[39mset_exception(exc)\n",
      "File \u001b[0;32m~/anaconda3/lib/python3.10/site-packages/pmaw/PushshiftAPIBase.py:70\u001b[0m, in \u001b[0;36mPushshiftAPIBase._get\u001b[0;34m(self, url, payload)\u001b[0m\n\u001b[1;32m     67\u001b[0m reason \u001b[38;5;241m=\u001b[39m r\u001b[38;5;241m.\u001b[39mreason\n\u001b[1;32m     69\u001b[0m \u001b[38;5;28;01mif\u001b[39;00m status \u001b[38;5;241m==\u001b[39m \u001b[38;5;241m200\u001b[39m:\n\u001b[0;32m---> 70\u001b[0m     r \u001b[38;5;241m=\u001b[39m \u001b[43mjson\u001b[49m\u001b[38;5;241;43m.\u001b[39;49m\u001b[43mloads\u001b[49m\u001b[43m(\u001b[49m\u001b[43mr\u001b[49m\u001b[38;5;241;43m.\u001b[39;49m\u001b[43mtext\u001b[49m\u001b[43m)\u001b[49m\n\u001b[1;32m     72\u001b[0m     \u001b[38;5;66;03m# check if shards are down\u001b[39;00m\n\u001b[1;32m     73\u001b[0m     \u001b[38;5;28mself\u001b[39m\u001b[38;5;241m.\u001b[39mmeta \u001b[38;5;241m=\u001b[39m Metadata(r\u001b[38;5;241m.\u001b[39mget(\u001b[38;5;124m\"\u001b[39m\u001b[38;5;124mmetadata\u001b[39m\u001b[38;5;124m\"\u001b[39m, {}))\n",
      "File \u001b[0;32m~/anaconda3/lib/python3.10/json/__init__.py:346\u001b[0m, in \u001b[0;36mloads\u001b[0;34m(s, cls, object_hook, parse_float, parse_int, parse_constant, object_pairs_hook, **kw)\u001b[0m\n\u001b[1;32m    341\u001b[0m     s \u001b[38;5;241m=\u001b[39m s\u001b[38;5;241m.\u001b[39mdecode(detect_encoding(s), \u001b[38;5;124m'\u001b[39m\u001b[38;5;124msurrogatepass\u001b[39m\u001b[38;5;124m'\u001b[39m)\n\u001b[1;32m    343\u001b[0m \u001b[38;5;28;01mif\u001b[39;00m (\u001b[38;5;28mcls\u001b[39m \u001b[38;5;129;01mis\u001b[39;00m \u001b[38;5;28;01mNone\u001b[39;00m \u001b[38;5;129;01mand\u001b[39;00m object_hook \u001b[38;5;129;01mis\u001b[39;00m \u001b[38;5;28;01mNone\u001b[39;00m \u001b[38;5;129;01mand\u001b[39;00m\n\u001b[1;32m    344\u001b[0m         parse_int \u001b[38;5;129;01mis\u001b[39;00m \u001b[38;5;28;01mNone\u001b[39;00m \u001b[38;5;129;01mand\u001b[39;00m parse_float \u001b[38;5;129;01mis\u001b[39;00m \u001b[38;5;28;01mNone\u001b[39;00m \u001b[38;5;129;01mand\u001b[39;00m\n\u001b[1;32m    345\u001b[0m         parse_constant \u001b[38;5;129;01mis\u001b[39;00m \u001b[38;5;28;01mNone\u001b[39;00m \u001b[38;5;129;01mand\u001b[39;00m object_pairs_hook \u001b[38;5;129;01mis\u001b[39;00m \u001b[38;5;28;01mNone\u001b[39;00m \u001b[38;5;129;01mand\u001b[39;00m \u001b[38;5;129;01mnot\u001b[39;00m kw):\n\u001b[0;32m--> 346\u001b[0m     \u001b[38;5;28;01mreturn\u001b[39;00m \u001b[43m_default_decoder\u001b[49m\u001b[38;5;241;43m.\u001b[39;49m\u001b[43mdecode\u001b[49m\u001b[43m(\u001b[49m\u001b[43ms\u001b[49m\u001b[43m)\u001b[49m\n\u001b[1;32m    347\u001b[0m \u001b[38;5;28;01mif\u001b[39;00m \u001b[38;5;28mcls\u001b[39m \u001b[38;5;129;01mis\u001b[39;00m \u001b[38;5;28;01mNone\u001b[39;00m:\n\u001b[1;32m    348\u001b[0m     \u001b[38;5;28mcls\u001b[39m \u001b[38;5;241m=\u001b[39m JSONDecoder\n",
      "File \u001b[0;32m~/anaconda3/lib/python3.10/json/decoder.py:337\u001b[0m, in \u001b[0;36mJSONDecoder.decode\u001b[0;34m(self, s, _w)\u001b[0m\n\u001b[1;32m    332\u001b[0m \u001b[38;5;28;01mdef\u001b[39;00m \u001b[38;5;21mdecode\u001b[39m(\u001b[38;5;28mself\u001b[39m, s, _w\u001b[38;5;241m=\u001b[39mWHITESPACE\u001b[38;5;241m.\u001b[39mmatch):\n\u001b[1;32m    333\u001b[0m     \u001b[38;5;124;03m\"\"\"Return the Python representation of ``s`` (a ``str`` instance\u001b[39;00m\n\u001b[1;32m    334\u001b[0m \u001b[38;5;124;03m    containing a JSON document).\u001b[39;00m\n\u001b[1;32m    335\u001b[0m \n\u001b[1;32m    336\u001b[0m \u001b[38;5;124;03m    \"\"\"\u001b[39;00m\n\u001b[0;32m--> 337\u001b[0m     obj, end \u001b[38;5;241m=\u001b[39m \u001b[38;5;28;43mself\u001b[39;49m\u001b[38;5;241;43m.\u001b[39;49m\u001b[43mraw_decode\u001b[49m\u001b[43m(\u001b[49m\u001b[43ms\u001b[49m\u001b[43m,\u001b[49m\u001b[43m \u001b[49m\u001b[43midx\u001b[49m\u001b[38;5;241;43m=\u001b[39;49m\u001b[43m_w\u001b[49m\u001b[43m(\u001b[49m\u001b[43ms\u001b[49m\u001b[43m,\u001b[49m\u001b[43m \u001b[49m\u001b[38;5;241;43m0\u001b[39;49m\u001b[43m)\u001b[49m\u001b[38;5;241;43m.\u001b[39;49m\u001b[43mend\u001b[49m\u001b[43m(\u001b[49m\u001b[43m)\u001b[49m\u001b[43m)\u001b[49m\n\u001b[1;32m    338\u001b[0m     end \u001b[38;5;241m=\u001b[39m _w(s, end)\u001b[38;5;241m.\u001b[39mend()\n\u001b[1;32m    339\u001b[0m     \u001b[38;5;28;01mif\u001b[39;00m end \u001b[38;5;241m!=\u001b[39m \u001b[38;5;28mlen\u001b[39m(s):\n",
      "File \u001b[0;32m~/anaconda3/lib/python3.10/json/decoder.py:355\u001b[0m, in \u001b[0;36mJSONDecoder.raw_decode\u001b[0;34m(self, s, idx)\u001b[0m\n\u001b[1;32m    353\u001b[0m     obj, end \u001b[38;5;241m=\u001b[39m \u001b[38;5;28mself\u001b[39m\u001b[38;5;241m.\u001b[39mscan_once(s, idx)\n\u001b[1;32m    354\u001b[0m \u001b[38;5;28;01mexcept\u001b[39;00m \u001b[38;5;167;01mStopIteration\u001b[39;00m \u001b[38;5;28;01mas\u001b[39;00m err:\n\u001b[0;32m--> 355\u001b[0m     \u001b[38;5;28;01mraise\u001b[39;00m JSONDecodeError(\u001b[38;5;124m\"\u001b[39m\u001b[38;5;124mExpecting value\u001b[39m\u001b[38;5;124m\"\u001b[39m, s, err\u001b[38;5;241m.\u001b[39mvalue) \u001b[38;5;28;01mfrom\u001b[39;00m \u001b[38;5;28mNone\u001b[39m\n\u001b[1;32m    356\u001b[0m \u001b[38;5;28;01mreturn\u001b[39;00m obj, end\n",
      "\u001b[0;31mJSONDecodeError\u001b[0m: Expecting value: line 1 column 1 (char 0)"
     ]
    }
   ],
   "source": [
    "post_list = get_submissions(\"RandomKindness\")"
   ]
  },
  {
   "cell_type": "code",
   "execution_count": null,
   "id": "a70db8fd",
   "metadata": {},
   "outputs": [],
   "source": [
    "#len(post_list)"
   ]
  },
  {
   "cell_type": "code",
   "execution_count": null,
   "id": "a10ed298",
   "metadata": {},
   "outputs": [],
   "source": [
    "#dedup_post_list = dedup_list(post_list)"
   ]
  },
  {
   "cell_type": "code",
   "execution_count": null,
   "id": "7b85b92d",
   "metadata": {},
   "outputs": [],
   "source": [
    "#len(dedup_post_list)"
   ]
  },
  {
   "cell_type": "code",
   "execution_count": null,
   "id": "bd281061",
   "metadata": {},
   "outputs": [],
   "source": [
    "#with open(\"RandomKindness_submission_data_19-20.jsonl\", 'w') as output_file:\n",
    "#    for post in dedup_post_list:\n",
    "#        line_string = json.dumps(post)\n",
    "#        print(line_string, file = output_file)"
   ]
  },
  {
   "cell_type": "markdown",
   "id": "318e6511",
   "metadata": {},
   "source": [
    "---"
   ]
  },
  {
   "cell_type": "markdown",
   "id": "488af7cc",
   "metadata": {},
   "source": [
    "year: 2018-2019"
   ]
  },
  {
   "cell_type": "code",
   "execution_count": 27,
   "id": "d28aa349",
   "metadata": {},
   "outputs": [],
   "source": [
    "#2018-2019\n",
    "\n",
    "def get_submissions(subreddit):\n",
    "    api = PushshiftAPI()   \n",
    "    \n",
    "    before_time = april_30_2019\n",
    "\n",
    "    post_list = []\n",
    "\n",
    "    counter = 0\n",
    "    while True:\n",
    "        \n",
    "        try:\n",
    "            posts = api.search_submissions(subreddit = subreddit, limit = 100, sort = \"created_utc\", order = \"desc\", before = before_time)\n",
    "\n",
    "            new_post_list = [post for post in posts]\n",
    "\n",
    "            post_list.extend(new_post_list)\n",
    "\n",
    "            before_time = new_post_list[-1][\"created_utc\"]\n",
    "            print(f\"api call #{counter + 1} finished. start from epoch time:\", before_time)\n",
    "            if len(new_post_list) == 0:\n",
    "                break\n",
    "\n",
    "            if before_time < april_30_2018:\n",
    "                break\n",
    "\n",
    "            counter += 1\n",
    "            \n",
    "            last_known_good = before_time\n",
    "            \n",
    "        except IndexError: \n",
    "            \n",
    "            print(f\"IndexError caught, resuming at: {last_known_good}\")\n",
    "            time.sleep(1.1)\n",
    "\n",
    "            posts = api.search_submissions(subreddit = subreddit, limit = 100, sort = \"created_utc\", order = \"desc\", before = last_known_good)\n",
    "\n",
    "            new_post_list = [post for post in posts]\n",
    "\n",
    "            post_list.extend(new_post_list)\n",
    "\n",
    "            before_time = new_post_list[-1][\"created_utc\"]\n",
    "            print(f\"api call #{counter + 1} finished. start from epoch time:\", before_time)\n",
    "            if len(new_post_list) == 0:\n",
    "                break\n",
    "\n",
    "            if before_time < april_30_2018:\n",
    "                break\n",
    "\n",
    "            counter += 1\n",
    "    return post_list"
   ]
  },
  {
   "cell_type": "markdown",
   "id": "6e5271f1",
   "metadata": {},
   "source": [
    "---"
   ]
  },
  {
   "cell_type": "code",
   "execution_count": 28,
   "id": "986c4431",
   "metadata": {},
   "outputs": [
    {
     "ename": "JSONDecodeError",
     "evalue": "Expecting value: line 1 column 1 (char 0)",
     "output_type": "error",
     "traceback": [
      "\u001b[0;31m---------------------------------------------------------------------------\u001b[0m",
      "\u001b[0;31mJSONDecodeError\u001b[0m                           Traceback (most recent call last)",
      "Cell \u001b[0;32mIn[28], line 1\u001b[0m\n\u001b[0;32m----> 1\u001b[0m post_list \u001b[38;5;241m=\u001b[39m \u001b[43mget_submissions\u001b[49m\u001b[43m(\u001b[49m\u001b[38;5;124;43m\"\u001b[39;49m\u001b[38;5;124;43mkindness\u001b[39;49m\u001b[38;5;124;43m\"\u001b[39;49m\u001b[43m)\u001b[49m\n",
      "Cell \u001b[0;32mIn[27], line 14\u001b[0m, in \u001b[0;36mget_submissions\u001b[0;34m(subreddit)\u001b[0m\n\u001b[1;32m     11\u001b[0m \u001b[38;5;28;01mwhile\u001b[39;00m \u001b[38;5;28;01mTrue\u001b[39;00m:\n\u001b[1;32m     13\u001b[0m     \u001b[38;5;28;01mtry\u001b[39;00m:\n\u001b[0;32m---> 14\u001b[0m         posts \u001b[38;5;241m=\u001b[39m \u001b[43mapi\u001b[49m\u001b[38;5;241;43m.\u001b[39;49m\u001b[43msearch_submissions\u001b[49m\u001b[43m(\u001b[49m\u001b[43msubreddit\u001b[49m\u001b[43m \u001b[49m\u001b[38;5;241;43m=\u001b[39;49m\u001b[43m \u001b[49m\u001b[43msubreddit\u001b[49m\u001b[43m,\u001b[49m\u001b[43m \u001b[49m\u001b[43mlimit\u001b[49m\u001b[43m \u001b[49m\u001b[38;5;241;43m=\u001b[39;49m\u001b[43m \u001b[49m\u001b[38;5;241;43m100\u001b[39;49m\u001b[43m,\u001b[49m\u001b[43m \u001b[49m\u001b[43msort\u001b[49m\u001b[43m \u001b[49m\u001b[38;5;241;43m=\u001b[39;49m\u001b[43m \u001b[49m\u001b[38;5;124;43m\"\u001b[39;49m\u001b[38;5;124;43mcreated_utc\u001b[39;49m\u001b[38;5;124;43m\"\u001b[39;49m\u001b[43m,\u001b[49m\u001b[43m \u001b[49m\u001b[43morder\u001b[49m\u001b[43m \u001b[49m\u001b[38;5;241;43m=\u001b[39;49m\u001b[43m \u001b[49m\u001b[38;5;124;43m\"\u001b[39;49m\u001b[38;5;124;43mdesc\u001b[39;49m\u001b[38;5;124;43m\"\u001b[39;49m\u001b[43m,\u001b[49m\u001b[43m \u001b[49m\u001b[43mbefore\u001b[49m\u001b[43m \u001b[49m\u001b[38;5;241;43m=\u001b[39;49m\u001b[43m \u001b[49m\u001b[43mbefore_time\u001b[49m\u001b[43m)\u001b[49m\n\u001b[1;32m     16\u001b[0m         new_post_list \u001b[38;5;241m=\u001b[39m [post \u001b[38;5;28;01mfor\u001b[39;00m post \u001b[38;5;129;01min\u001b[39;00m posts]\n\u001b[1;32m     18\u001b[0m         post_list\u001b[38;5;241m.\u001b[39mextend(new_post_list)\n",
      "File \u001b[0;32m~/anaconda3/lib/python3.10/site-packages/pmaw/PushshiftAPI.py:77\u001b[0m, in \u001b[0;36mPushshiftAPI.search_submissions\u001b[0;34m(self, **kwargs)\u001b[0m\n\u001b[1;32m     62\u001b[0m \u001b[38;5;28;01mdef\u001b[39;00m \u001b[38;5;21msearch_submissions\u001b[39m(\u001b[38;5;28mself\u001b[39m, \u001b[38;5;241m*\u001b[39m\u001b[38;5;241m*\u001b[39mkwargs):\n\u001b[1;32m     63\u001b[0m     \u001b[38;5;124;03m\"\"\"\u001b[39;00m\n\u001b[1;32m     64\u001b[0m \u001b[38;5;124;03m    Method for searching submissions, returns an array of submissions\u001b[39;00m\n\u001b[1;32m     65\u001b[0m \n\u001b[0;32m   (...)\u001b[0m\n\u001b[1;32m     75\u001b[0m \u001b[38;5;124;03m        Response generator object\u001b[39;00m\n\u001b[1;32m     76\u001b[0m \u001b[38;5;124;03m    \"\"\"\u001b[39;00m\n\u001b[0;32m---> 77\u001b[0m     \u001b[38;5;28;01mreturn\u001b[39;00m \u001b[38;5;28;43mself\u001b[39;49m\u001b[38;5;241;43m.\u001b[39;49m\u001b[43m_search\u001b[49m\u001b[43m(\u001b[49m\u001b[43mkind\u001b[49m\u001b[38;5;241;43m=\u001b[39;49m\u001b[38;5;124;43m\"\u001b[39;49m\u001b[38;5;124;43msubmission\u001b[39;49m\u001b[38;5;124;43m\"\u001b[39;49m\u001b[43m,\u001b[49m\u001b[43m \u001b[49m\u001b[38;5;241;43m*\u001b[39;49m\u001b[38;5;241;43m*\u001b[39;49m\u001b[43mkwargs\u001b[49m\u001b[43m)\u001b[49m\n",
      "File \u001b[0;32m~/anaconda3/lib/python3.10/site-packages/pmaw/PushshiftAPIBase.py:287\u001b[0m, in \u001b[0;36mPushshiftAPIBase._search\u001b[0;34m(self, kind, max_ids_per_request, max_results_per_request, mem_safe, search_window, dataset, safe_exit, cache_dir, filter_fn, **kwargs)\u001b[0m\n\u001b[1;32m    284\u001b[0m \u001b[38;5;28;01mif\u001b[39;00m \u001b[38;5;124m\"\u001b[39m\u001b[38;5;124mids\u001b[39m\u001b[38;5;124m\"\u001b[39m \u001b[38;5;129;01mnot\u001b[39;00m \u001b[38;5;129;01min\u001b[39;00m \u001b[38;5;28mself\u001b[39m\u001b[38;5;241m.\u001b[39mreq\u001b[38;5;241m.\u001b[39mpayload \u001b[38;5;129;01mand\u001b[39;00m \u001b[38;5;28mlen\u001b[39m(\u001b[38;5;28mself\u001b[39m\u001b[38;5;241m.\u001b[39mreq\u001b[38;5;241m.\u001b[39mreq_list) \u001b[38;5;241m==\u001b[39m \u001b[38;5;241m0\u001b[39m:\n\u001b[1;32m    285\u001b[0m     \u001b[38;5;66;03m# check to see how many results are remaining\u001b[39;00m\n\u001b[1;32m    286\u001b[0m     \u001b[38;5;28mself\u001b[39m\u001b[38;5;241m.\u001b[39mreq\u001b[38;5;241m.\u001b[39mreq_list\u001b[38;5;241m.\u001b[39mappendleft((url, \u001b[38;5;28mself\u001b[39m\u001b[38;5;241m.\u001b[39mreq\u001b[38;5;241m.\u001b[39mpayload))\n\u001b[0;32m--> 287\u001b[0m     \u001b[38;5;28;43mself\u001b[39;49m\u001b[38;5;241;43m.\u001b[39;49m\u001b[43m_multithread\u001b[49m\u001b[43m(\u001b[49m\u001b[43mcheck_total\u001b[49m\u001b[38;5;241;43m=\u001b[39;49m\u001b[38;5;28;43;01mTrue\u001b[39;49;00m\u001b[43m)\u001b[49m\n\u001b[1;32m    288\u001b[0m     total_avail \u001b[38;5;241m=\u001b[39m \u001b[38;5;28mself\u001b[39m\u001b[38;5;241m.\u001b[39mmeta\u001b[38;5;241m.\u001b[39mtotal_results\n\u001b[1;32m    290\u001b[0m     \u001b[38;5;28;01mif\u001b[39;00m \u001b[38;5;28mself\u001b[39m\u001b[38;5;241m.\u001b[39mreq\u001b[38;5;241m.\u001b[39mlimit \u001b[38;5;129;01mis\u001b[39;00m \u001b[38;5;28;01mNone\u001b[39;00m:\n",
      "File \u001b[0;32m~/anaconda3/lib/python3.10/site-packages/pmaw/PushshiftAPIBase.py:108\u001b[0m, in \u001b[0;36mPushshiftAPIBase._multithread\u001b[0;34m(self, check_total)\u001b[0m\n\u001b[1;32m    101\u001b[0m         reqs\u001b[38;5;241m.\u001b[39mappend(\u001b[38;5;28mself\u001b[39m\u001b[38;5;241m.\u001b[39mreq\u001b[38;5;241m.\u001b[39mreq_list\u001b[38;5;241m.\u001b[39mpopleft())\n\u001b[1;32m    103\u001b[0m futures \u001b[38;5;241m=\u001b[39m {\n\u001b[1;32m    104\u001b[0m     executor\u001b[38;5;241m.\u001b[39msubmit(\u001b[38;5;28mself\u001b[39m\u001b[38;5;241m.\u001b[39m_get, url_pay[\u001b[38;5;241m0\u001b[39m], url_pay[\u001b[38;5;241m1\u001b[39m]): url_pay\n\u001b[1;32m    105\u001b[0m     \u001b[38;5;28;01mfor\u001b[39;00m url_pay \u001b[38;5;129;01min\u001b[39;00m reqs\n\u001b[1;32m    106\u001b[0m }\n\u001b[0;32m--> 108\u001b[0m \u001b[38;5;28;43mself\u001b[39;49m\u001b[38;5;241;43m.\u001b[39;49m\u001b[43m_futures_handler\u001b[49m\u001b[43m(\u001b[49m\u001b[43mfutures\u001b[49m\u001b[43m,\u001b[49m\u001b[43m \u001b[49m\u001b[43mcheck_total\u001b[49m\u001b[43m)\u001b[49m\n\u001b[1;32m    110\u001b[0m \u001b[38;5;66;03m# reset attempts if no failures\u001b[39;00m\n\u001b[1;32m    111\u001b[0m \u001b[38;5;28mself\u001b[39m\u001b[38;5;241m.\u001b[39m_rate_limit\u001b[38;5;241m.\u001b[39m_check_fail()\n",
      "File \u001b[0;32m~/anaconda3/lib/python3.10/site-packages/pmaw/PushshiftAPIBase.py:143\u001b[0m, in \u001b[0;36mPushshiftAPIBase._futures_handler\u001b[0;34m(self, futures, check_total)\u001b[0m\n\u001b[1;32m    141\u001b[0m \u001b[38;5;28mself\u001b[39m\u001b[38;5;241m.\u001b[39mnum_req \u001b[38;5;241m+\u001b[39m\u001b[38;5;241m=\u001b[39m \u001b[38;5;28mint\u001b[39m(\u001b[38;5;129;01mnot\u001b[39;00m check_total)\n\u001b[1;32m    142\u001b[0m \u001b[38;5;28;01mtry\u001b[39;00m:\n\u001b[0;32m--> 143\u001b[0m     data \u001b[38;5;241m=\u001b[39m \u001b[43mfuture\u001b[49m\u001b[38;5;241;43m.\u001b[39;49m\u001b[43mresult\u001b[49m\u001b[43m(\u001b[49m\u001b[43m)\u001b[49m\n\u001b[1;32m    144\u001b[0m     \u001b[38;5;28mself\u001b[39m\u001b[38;5;241m.\u001b[39mnum_suc \u001b[38;5;241m+\u001b[39m\u001b[38;5;241m=\u001b[39m \u001b[38;5;28mint\u001b[39m(\u001b[38;5;129;01mnot\u001b[39;00m check_total)\n\u001b[1;32m    145\u001b[0m     url \u001b[38;5;241m=\u001b[39m url_pay[\u001b[38;5;241m0\u001b[39m]\n",
      "File \u001b[0;32m~/anaconda3/lib/python3.10/concurrent/futures/_base.py:451\u001b[0m, in \u001b[0;36mFuture.result\u001b[0;34m(self, timeout)\u001b[0m\n\u001b[1;32m    449\u001b[0m     \u001b[38;5;28;01mraise\u001b[39;00m CancelledError()\n\u001b[1;32m    450\u001b[0m \u001b[38;5;28;01melif\u001b[39;00m \u001b[38;5;28mself\u001b[39m\u001b[38;5;241m.\u001b[39m_state \u001b[38;5;241m==\u001b[39m FINISHED:\n\u001b[0;32m--> 451\u001b[0m     \u001b[38;5;28;01mreturn\u001b[39;00m \u001b[38;5;28;43mself\u001b[39;49m\u001b[38;5;241;43m.\u001b[39;49m\u001b[43m__get_result\u001b[49m\u001b[43m(\u001b[49m\u001b[43m)\u001b[49m\n\u001b[1;32m    453\u001b[0m \u001b[38;5;28mself\u001b[39m\u001b[38;5;241m.\u001b[39m_condition\u001b[38;5;241m.\u001b[39mwait(timeout)\n\u001b[1;32m    455\u001b[0m \u001b[38;5;28;01mif\u001b[39;00m \u001b[38;5;28mself\u001b[39m\u001b[38;5;241m.\u001b[39m_state \u001b[38;5;129;01min\u001b[39;00m [CANCELLED, CANCELLED_AND_NOTIFIED]:\n",
      "File \u001b[0;32m~/anaconda3/lib/python3.10/concurrent/futures/_base.py:403\u001b[0m, in \u001b[0;36mFuture.__get_result\u001b[0;34m(self)\u001b[0m\n\u001b[1;32m    401\u001b[0m \u001b[38;5;28;01mif\u001b[39;00m \u001b[38;5;28mself\u001b[39m\u001b[38;5;241m.\u001b[39m_exception:\n\u001b[1;32m    402\u001b[0m     \u001b[38;5;28;01mtry\u001b[39;00m:\n\u001b[0;32m--> 403\u001b[0m         \u001b[38;5;28;01mraise\u001b[39;00m \u001b[38;5;28mself\u001b[39m\u001b[38;5;241m.\u001b[39m_exception\n\u001b[1;32m    404\u001b[0m     \u001b[38;5;28;01mfinally\u001b[39;00m:\n\u001b[1;32m    405\u001b[0m         \u001b[38;5;66;03m# Break a reference cycle with the exception in self._exception\u001b[39;00m\n\u001b[1;32m    406\u001b[0m         \u001b[38;5;28mself\u001b[39m \u001b[38;5;241m=\u001b[39m \u001b[38;5;28;01mNone\u001b[39;00m\n",
      "File \u001b[0;32m~/anaconda3/lib/python3.10/concurrent/futures/thread.py:58\u001b[0m, in \u001b[0;36m_WorkItem.run\u001b[0;34m(self)\u001b[0m\n\u001b[1;32m     55\u001b[0m     \u001b[38;5;28;01mreturn\u001b[39;00m\n\u001b[1;32m     57\u001b[0m \u001b[38;5;28;01mtry\u001b[39;00m:\n\u001b[0;32m---> 58\u001b[0m     result \u001b[38;5;241m=\u001b[39m \u001b[38;5;28;43mself\u001b[39;49m\u001b[38;5;241;43m.\u001b[39;49m\u001b[43mfn\u001b[49m\u001b[43m(\u001b[49m\u001b[38;5;241;43m*\u001b[39;49m\u001b[38;5;28;43mself\u001b[39;49m\u001b[38;5;241;43m.\u001b[39;49m\u001b[43margs\u001b[49m\u001b[43m,\u001b[49m\u001b[43m \u001b[49m\u001b[38;5;241;43m*\u001b[39;49m\u001b[38;5;241;43m*\u001b[39;49m\u001b[38;5;28;43mself\u001b[39;49m\u001b[38;5;241;43m.\u001b[39;49m\u001b[43mkwargs\u001b[49m\u001b[43m)\u001b[49m\n\u001b[1;32m     59\u001b[0m \u001b[38;5;28;01mexcept\u001b[39;00m \u001b[38;5;167;01mBaseException\u001b[39;00m \u001b[38;5;28;01mas\u001b[39;00m exc:\n\u001b[1;32m     60\u001b[0m     \u001b[38;5;28mself\u001b[39m\u001b[38;5;241m.\u001b[39mfuture\u001b[38;5;241m.\u001b[39mset_exception(exc)\n",
      "File \u001b[0;32m~/anaconda3/lib/python3.10/site-packages/pmaw/PushshiftAPIBase.py:70\u001b[0m, in \u001b[0;36mPushshiftAPIBase._get\u001b[0;34m(self, url, payload)\u001b[0m\n\u001b[1;32m     67\u001b[0m reason \u001b[38;5;241m=\u001b[39m r\u001b[38;5;241m.\u001b[39mreason\n\u001b[1;32m     69\u001b[0m \u001b[38;5;28;01mif\u001b[39;00m status \u001b[38;5;241m==\u001b[39m \u001b[38;5;241m200\u001b[39m:\n\u001b[0;32m---> 70\u001b[0m     r \u001b[38;5;241m=\u001b[39m \u001b[43mjson\u001b[49m\u001b[38;5;241;43m.\u001b[39;49m\u001b[43mloads\u001b[49m\u001b[43m(\u001b[49m\u001b[43mr\u001b[49m\u001b[38;5;241;43m.\u001b[39;49m\u001b[43mtext\u001b[49m\u001b[43m)\u001b[49m\n\u001b[1;32m     72\u001b[0m     \u001b[38;5;66;03m# check if shards are down\u001b[39;00m\n\u001b[1;32m     73\u001b[0m     \u001b[38;5;28mself\u001b[39m\u001b[38;5;241m.\u001b[39mmeta \u001b[38;5;241m=\u001b[39m Metadata(r\u001b[38;5;241m.\u001b[39mget(\u001b[38;5;124m\"\u001b[39m\u001b[38;5;124mmetadata\u001b[39m\u001b[38;5;124m\"\u001b[39m, {}))\n",
      "File \u001b[0;32m~/anaconda3/lib/python3.10/json/__init__.py:346\u001b[0m, in \u001b[0;36mloads\u001b[0;34m(s, cls, object_hook, parse_float, parse_int, parse_constant, object_pairs_hook, **kw)\u001b[0m\n\u001b[1;32m    341\u001b[0m     s \u001b[38;5;241m=\u001b[39m s\u001b[38;5;241m.\u001b[39mdecode(detect_encoding(s), \u001b[38;5;124m'\u001b[39m\u001b[38;5;124msurrogatepass\u001b[39m\u001b[38;5;124m'\u001b[39m)\n\u001b[1;32m    343\u001b[0m \u001b[38;5;28;01mif\u001b[39;00m (\u001b[38;5;28mcls\u001b[39m \u001b[38;5;129;01mis\u001b[39;00m \u001b[38;5;28;01mNone\u001b[39;00m \u001b[38;5;129;01mand\u001b[39;00m object_hook \u001b[38;5;129;01mis\u001b[39;00m \u001b[38;5;28;01mNone\u001b[39;00m \u001b[38;5;129;01mand\u001b[39;00m\n\u001b[1;32m    344\u001b[0m         parse_int \u001b[38;5;129;01mis\u001b[39;00m \u001b[38;5;28;01mNone\u001b[39;00m \u001b[38;5;129;01mand\u001b[39;00m parse_float \u001b[38;5;129;01mis\u001b[39;00m \u001b[38;5;28;01mNone\u001b[39;00m \u001b[38;5;129;01mand\u001b[39;00m\n\u001b[1;32m    345\u001b[0m         parse_constant \u001b[38;5;129;01mis\u001b[39;00m \u001b[38;5;28;01mNone\u001b[39;00m \u001b[38;5;129;01mand\u001b[39;00m object_pairs_hook \u001b[38;5;129;01mis\u001b[39;00m \u001b[38;5;28;01mNone\u001b[39;00m \u001b[38;5;129;01mand\u001b[39;00m \u001b[38;5;129;01mnot\u001b[39;00m kw):\n\u001b[0;32m--> 346\u001b[0m     \u001b[38;5;28;01mreturn\u001b[39;00m \u001b[43m_default_decoder\u001b[49m\u001b[38;5;241;43m.\u001b[39;49m\u001b[43mdecode\u001b[49m\u001b[43m(\u001b[49m\u001b[43ms\u001b[49m\u001b[43m)\u001b[49m\n\u001b[1;32m    347\u001b[0m \u001b[38;5;28;01mif\u001b[39;00m \u001b[38;5;28mcls\u001b[39m \u001b[38;5;129;01mis\u001b[39;00m \u001b[38;5;28;01mNone\u001b[39;00m:\n\u001b[1;32m    348\u001b[0m     \u001b[38;5;28mcls\u001b[39m \u001b[38;5;241m=\u001b[39m JSONDecoder\n",
      "File \u001b[0;32m~/anaconda3/lib/python3.10/json/decoder.py:337\u001b[0m, in \u001b[0;36mJSONDecoder.decode\u001b[0;34m(self, s, _w)\u001b[0m\n\u001b[1;32m    332\u001b[0m \u001b[38;5;28;01mdef\u001b[39;00m \u001b[38;5;21mdecode\u001b[39m(\u001b[38;5;28mself\u001b[39m, s, _w\u001b[38;5;241m=\u001b[39mWHITESPACE\u001b[38;5;241m.\u001b[39mmatch):\n\u001b[1;32m    333\u001b[0m     \u001b[38;5;124;03m\"\"\"Return the Python representation of ``s`` (a ``str`` instance\u001b[39;00m\n\u001b[1;32m    334\u001b[0m \u001b[38;5;124;03m    containing a JSON document).\u001b[39;00m\n\u001b[1;32m    335\u001b[0m \n\u001b[1;32m    336\u001b[0m \u001b[38;5;124;03m    \"\"\"\u001b[39;00m\n\u001b[0;32m--> 337\u001b[0m     obj, end \u001b[38;5;241m=\u001b[39m \u001b[38;5;28;43mself\u001b[39;49m\u001b[38;5;241;43m.\u001b[39;49m\u001b[43mraw_decode\u001b[49m\u001b[43m(\u001b[49m\u001b[43ms\u001b[49m\u001b[43m,\u001b[49m\u001b[43m \u001b[49m\u001b[43midx\u001b[49m\u001b[38;5;241;43m=\u001b[39;49m\u001b[43m_w\u001b[49m\u001b[43m(\u001b[49m\u001b[43ms\u001b[49m\u001b[43m,\u001b[49m\u001b[43m \u001b[49m\u001b[38;5;241;43m0\u001b[39;49m\u001b[43m)\u001b[49m\u001b[38;5;241;43m.\u001b[39;49m\u001b[43mend\u001b[49m\u001b[43m(\u001b[49m\u001b[43m)\u001b[49m\u001b[43m)\u001b[49m\n\u001b[1;32m    338\u001b[0m     end \u001b[38;5;241m=\u001b[39m _w(s, end)\u001b[38;5;241m.\u001b[39mend()\n\u001b[1;32m    339\u001b[0m     \u001b[38;5;28;01mif\u001b[39;00m end \u001b[38;5;241m!=\u001b[39m \u001b[38;5;28mlen\u001b[39m(s):\n",
      "File \u001b[0;32m~/anaconda3/lib/python3.10/json/decoder.py:355\u001b[0m, in \u001b[0;36mJSONDecoder.raw_decode\u001b[0;34m(self, s, idx)\u001b[0m\n\u001b[1;32m    353\u001b[0m     obj, end \u001b[38;5;241m=\u001b[39m \u001b[38;5;28mself\u001b[39m\u001b[38;5;241m.\u001b[39mscan_once(s, idx)\n\u001b[1;32m    354\u001b[0m \u001b[38;5;28;01mexcept\u001b[39;00m \u001b[38;5;167;01mStopIteration\u001b[39;00m \u001b[38;5;28;01mas\u001b[39;00m err:\n\u001b[0;32m--> 355\u001b[0m     \u001b[38;5;28;01mraise\u001b[39;00m JSONDecodeError(\u001b[38;5;124m\"\u001b[39m\u001b[38;5;124mExpecting value\u001b[39m\u001b[38;5;124m\"\u001b[39m, s, err\u001b[38;5;241m.\u001b[39mvalue) \u001b[38;5;28;01mfrom\u001b[39;00m \u001b[38;5;28mNone\u001b[39m\n\u001b[1;32m    356\u001b[0m \u001b[38;5;28;01mreturn\u001b[39;00m obj, end\n",
      "\u001b[0;31mJSONDecodeError\u001b[0m: Expecting value: line 1 column 1 (char 0)"
     ]
    }
   ],
   "source": [
    "post_list = get_submissions(\"kindness\")"
   ]
  },
  {
   "cell_type": "code",
   "execution_count": null,
   "id": "857db89c",
   "metadata": {},
   "outputs": [],
   "source": [
    "#len(post_list)"
   ]
  },
  {
   "cell_type": "code",
   "execution_count": null,
   "id": "351cfc8c",
   "metadata": {},
   "outputs": [],
   "source": [
    "#dedup_post_list = dedup_list(post_list)"
   ]
  },
  {
   "cell_type": "code",
   "execution_count": null,
   "id": "c32ec85a",
   "metadata": {},
   "outputs": [],
   "source": [
    "#len(dedup_post_list)"
   ]
  },
  {
   "cell_type": "code",
   "execution_count": null,
   "id": "44747947",
   "metadata": {},
   "outputs": [],
   "source": [
    "#with open(\"kindness_submission_data_18-19.jsonl\", 'w') as output_file:\n",
    "#    for post in dedup_post_list:\n",
    "#        line_string = json.dumps(post)\n",
    "#        print(line_string, file = output_file)"
   ]
  },
  {
   "cell_type": "markdown",
   "id": "1d5d6ed4",
   "metadata": {},
   "source": [
    "---"
   ]
  },
  {
   "cell_type": "code",
   "execution_count": null,
   "id": "83c6d695",
   "metadata": {},
   "outputs": [],
   "source": [
    "#post_list = get_submissions(\"randomactsofkindness\")"
   ]
  },
  {
   "cell_type": "code",
   "execution_count": null,
   "id": "e0e98366",
   "metadata": {},
   "outputs": [],
   "source": [
    "#len(post_list)"
   ]
  },
  {
   "cell_type": "code",
   "execution_count": null,
   "id": "dc77cca8",
   "metadata": {},
   "outputs": [],
   "source": [
    "#dedup_post_list = dedup_list(post_list)"
   ]
  },
  {
   "cell_type": "code",
   "execution_count": null,
   "id": "f0a3db6e",
   "metadata": {},
   "outputs": [],
   "source": [
    "#len(dedup_post_list)"
   ]
  },
  {
   "cell_type": "code",
   "execution_count": null,
   "id": "22de1f63",
   "metadata": {},
   "outputs": [],
   "source": [
    "#with open(\"randomactsofkindness_submission_data_18-19.jsonl\", 'w') as output_file:\n",
    "#    for post in dedup_post_list:\n",
    "#        line_string = json.dumps(post)\n",
    "#        print(line_string, file = output_file)"
   ]
  },
  {
   "cell_type": "markdown",
   "id": "282f7c32",
   "metadata": {},
   "source": [
    "---"
   ]
  },
  {
   "cell_type": "code",
   "execution_count": null,
   "id": "6414a703",
   "metadata": {},
   "outputs": [],
   "source": [
    "#post_list = get_submissions(\"KindVoice\")"
   ]
  },
  {
   "cell_type": "code",
   "execution_count": null,
   "id": "3ebec5a0",
   "metadata": {},
   "outputs": [],
   "source": [
    "#len(post_list)"
   ]
  },
  {
   "cell_type": "code",
   "execution_count": null,
   "id": "1998d940",
   "metadata": {},
   "outputs": [],
   "source": [
    "#dedup_post_list = dedup_list(post_list)"
   ]
  },
  {
   "cell_type": "code",
   "execution_count": null,
   "id": "bcbb6060",
   "metadata": {},
   "outputs": [],
   "source": [
    "#len(dedup_post_list)"
   ]
  },
  {
   "cell_type": "code",
   "execution_count": null,
   "id": "58dae9e7",
   "metadata": {},
   "outputs": [],
   "source": [
    "#with open(\"KindVoice_submission_data_18-19.jsonl\", 'w') as output_file:\n",
    "#    for post in dedup_post_list:\n",
    "#        line_string = json.dumps(post)\n",
    "#        print(line_string, file = output_file)"
   ]
  },
  {
   "cell_type": "markdown",
   "id": "e482eafd",
   "metadata": {},
   "source": [
    "---"
   ]
  },
  {
   "cell_type": "code",
   "execution_count": null,
   "id": "5d432df5",
   "metadata": {},
   "outputs": [],
   "source": [
    "#post_list = get_submissions(\"RandomKindness\")"
   ]
  },
  {
   "cell_type": "code",
   "execution_count": null,
   "id": "c3e1706f",
   "metadata": {},
   "outputs": [],
   "source": [
    "#len(post_list)"
   ]
  },
  {
   "cell_type": "code",
   "execution_count": null,
   "id": "88883336",
   "metadata": {},
   "outputs": [],
   "source": [
    "#dedup_post_list = dedup_list(post_list)"
   ]
  },
  {
   "cell_type": "code",
   "execution_count": null,
   "id": "67fde1e8",
   "metadata": {},
   "outputs": [],
   "source": [
    "#len(dedup_post_list)"
   ]
  },
  {
   "cell_type": "code",
   "execution_count": null,
   "id": "c222f304",
   "metadata": {},
   "outputs": [],
   "source": [
    "#with open(\"RandomKindness_submission_data_18-19.jsonl\", 'w') as output_file:\n",
    "#    for post in dedup_post_list:\n",
    "#        line_string = json.dumps(post)\n",
    "#        print(line_string, file = output_file)"
   ]
  },
  {
   "cell_type": "markdown",
   "id": "f88f80e7",
   "metadata": {},
   "source": [
    "---"
   ]
  }
 ],
 "metadata": {
  "kernelspec": {
   "display_name": "Python 3 (ipykernel)",
   "language": "python",
   "name": "python3"
  },
  "language_info": {
   "codemirror_mode": {
    "name": "ipython",
    "version": 3
   },
   "file_extension": ".py",
   "mimetype": "text/x-python",
   "name": "python",
   "nbconvert_exporter": "python",
   "pygments_lexer": "ipython3",
   "version": "3.10.9"
  }
 },
 "nbformat": 4,
 "nbformat_minor": 5
}
