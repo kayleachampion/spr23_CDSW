{
 "cells": [
  {
   "cell_type": "code",
   "execution_count": 4,
   "id": "5ec57e85",
   "metadata": {},
   "outputs": [],
   "source": [
    "import spotipy \n",
    "\n",
    "from spotify_authentication import SPOTIPY_CLIENT_ID\n",
    "from spotify_authentication import SPOTIPY_CLIENT_SECRET\n",
    "\n",
    "from spotipy.oauth2 import SpotifyClientCredentials "
   ]
  },
  {
   "cell_type": "code",
   "execution_count": 5,
   "id": "c493a18e",
   "metadata": {},
   "outputs": [],
   "source": [
    "from retrieve_track_ids import *\n",
    "\n",
    "#creating variables\n",
    "\n",
    "spotify_playlist_id = \"37i9dQZF1DXe2bobNYDtW8\"  \n",
    "\n",
    "track_id_file_name = r\"C:\\Users\\Nicke\\OneDrive\\Desktop\\CommunityDataScience\\4018_playlist_ids.txt\"\n",
    "\n",
    "track_audio_features_file_name = r\"C:\\Users\\Nicke\\OneDrive\\Desktop\\CommunityDataScience\\4018_playlist_audio_features.jsonl\"\n",
    "\n",
    "retrieve_track_id(spotify_playlist_id, track_id_file_name)"
   ]
  },
  {
   "cell_type": "code",
   "execution_count": 6,
   "id": "f86a2993",
   "metadata": {},
   "outputs": [],
   "source": [
    "from retrieve_audio_features import * \n",
    "\n",
    "retrieve_audio_features(track_id_file_name, track_audio_features_file_name)"
   ]
  },
  {
   "cell_type": "code",
   "execution_count": null,
   "id": "bdce4d78",
   "metadata": {},
   "outputs": [],
   "source": []
  }
 ],
 "metadata": {
  "kernelspec": {
   "display_name": "Python 3 (ipykernel)",
   "language": "python",
   "name": "python3"
  },
  "language_info": {
   "codemirror_mode": {
    "name": "ipython",
    "version": 3
   },
   "file_extension": ".py",
   "mimetype": "text/x-python",
   "name": "python",
   "nbconvert_exporter": "python",
   "pygments_lexer": "ipython3",
   "version": "3.10.9"
  }
 },
 "nbformat": 4,
 "nbformat_minor": 5
}
