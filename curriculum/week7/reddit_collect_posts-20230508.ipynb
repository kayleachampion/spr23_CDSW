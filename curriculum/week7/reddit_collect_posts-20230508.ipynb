{
 "cells": [
  {
   "cell_type": "code",
   "execution_count": 28,
   "id": "d7417a86",
   "metadata": {},
   "outputs": [],
   "source": [
    "from pmaw import PushshiftAPI\n",
    "import json"
   ]
  },
  {
   "cell_type": "code",
   "execution_count": 24,
   "id": "e7952852",
   "metadata": {},
   "outputs": [
    {
     "name": "stdout",
     "output_type": "stream",
     "text": [
      "1000 posts retrieved from Pushshift\n"
     ]
    }
   ],
   "source": [
    "api = PushshiftAPI()\n",
    "posts = api.search_submissions(subreddit=\"climbing\", limit=1000)\n",
    "\n",
    "post_list = [post for post in posts]\n",
    "print(f'{len(post_list)} posts retrieved from Pushshift')"
   ]
  },
  {
   "cell_type": "code",
   "execution_count": 29,
   "id": "696ea7fd",
   "metadata": {},
   "outputs": [],
   "source": [
    "with open(\"climbing_post_data-20230508.jsonl\", 'w') as output_file:\n",
    "    for post in post_list:\n",
    "        line_string = json.dumps(post)\n",
    "        print(line_string, file=output_file)"
   ]
  }
 ],
 "metadata": {
  "kernelspec": {
   "display_name": "Python 3 (ipykernel)",
   "language": "python",
   "name": "python3"
  },
  "language_info": {
   "codemirror_mode": {
    "name": "ipython",
    "version": 3
   },
   "file_extension": ".py",
   "mimetype": "text/x-python",
   "name": "python",
   "nbconvert_exporter": "python",
   "pygments_lexer": "ipython3",
   "version": "3.11.2"
  }
 },
 "nbformat": 4,
 "nbformat_minor": 5
}
