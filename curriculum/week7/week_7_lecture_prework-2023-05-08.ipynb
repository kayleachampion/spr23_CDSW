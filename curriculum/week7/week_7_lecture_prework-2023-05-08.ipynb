{
 "cells": [
  {
   "cell_type": "code",
   "execution_count": 1,
   "id": "9a5af53f",
   "metadata": {},
   "outputs": [],
   "source": [
    "import pandas as pd\n",
    "import numpy as np"
   ]
  },
  {
   "cell_type": "code",
   "execution_count": 2,
   "id": "1d914566",
   "metadata": {},
   "outputs": [],
   "source": [
    "ice_cream = pd.Series([\"green tea\", \"rockyroad\", \"fudge\", \"green tea\"])"
   ]
  },
  {
   "cell_type": "code",
   "execution_count": 3,
   "id": "f5e71523",
   "metadata": {},
   "outputs": [],
   "source": [
    "ice_cream"
   ]
  },
  {
   "cell_type": "code",
   "execution_count": 4,
   "id": "fa367314",
   "metadata": {},
   "outputs": [],
   "source": [
    "ice_cream.index = [\"mako\", \"kaylea\", \"josh\", \"mika\"]"
   ]
  },
  {
   "cell_type": "code",
   "execution_count": 5,
   "id": "bc91d655",
   "metadata": {},
   "outputs": [],
   "source": [
    "ice_cream[\"mako\"]"
   ]
  },
  {
   "cell_type": "code",
   "execution_count": 6,
   "id": "a5af5847",
   "metadata": {},
   "outputs": [],
   "source": [
    "ice_cream.index = [\"mako\", \"mako\", \"josh\", \"mika\"]\n",
    "ice_cream"
   ]
  },
  {
   "cell_type": "code",
   "execution_count": 7,
   "id": "3f4a3e9e",
   "metadata": {},
   "outputs": [],
   "source": [
    "ice_cream.value_counts()"
   ]
  },
  {
   "cell_type": "code",
   "execution_count": 8,
   "id": "34552da6",
   "metadata": {},
   "outputs": [],
   "source": [
    "ice_cream_orders = pd.DataFrame({'person' : [\"mako\", \"kaylea\", \"josh\", \"mako\"],\n",
    "                                 'flavor' : ['green tea', 'rockyroad', 'fudge', 'fudge'],\n",
    "                                 'scoops' : [1,2,2,1]})"
   ]
  },
  {
   "cell_type": "code",
   "execution_count": 9,
   "id": "8f11eee3",
   "metadata": {},
   "outputs": [],
   "source": [
    "ice_cream_orders = pd.DataFrame([{'person' : 'mako', 'flavor' : 'green tea', 'scoops' : 1},\n",
    "                                 {'person' : 'kaylea', 'flavor' : 'rocky road', 'scoops' : 2},\n",
    "                                 {'person' : 'josh', 'flavor' : 'fudge', 'scoops' : 2},\n",
    "                                 {'person' : 'mako', 'flavor' : 'fudge', 'scoops' : 1}\n",
    "                                ])"
   ]
  },
  {
   "cell_type": "code",
   "execution_count": 10,
   "id": "f180ac2a",
   "metadata": {},
   "outputs": [],
   "source": [
    "ice_cream_orders"
   ]
  },
  {
   "cell_type": "code",
   "execution_count": 11,
   "id": "7a8e2b78",
   "metadata": {},
   "outputs": [],
   "source": [
    "rockband_revs = pd.read_csv(\"rock_bands_wp_revisions.tsv\", delimiter=\"\\t\")"
   ]
  },
  {
   "cell_type": "code",
   "execution_count": 12,
   "id": "1fe001d3",
   "metadata": {},
   "outputs": [],
   "source": [
    "rockband_revs"
   ]
  },
  {
   "cell_type": "code",
   "execution_count": 13,
   "id": "8571838f",
   "metadata": {},
   "outputs": [],
   "source": [
    "type(rockband_revs[\"title\"])"
   ]
  },
  {
   "cell_type": "code",
   "execution_count": 14,
   "id": "532ebc7a",
   "metadata": {},
   "outputs": [],
   "source": [
    "rockband_revs[[\"title\", \"timestamp\"]]"
   ]
  },
  {
   "cell_type": "code",
   "execution_count": 15,
   "id": "90469c25",
   "metadata": {},
   "outputs": [],
   "source": [
    "rockband_revs[rockband_revs[\"minor\"]]"
   ]
  },
  {
   "cell_type": "code",
   "execution_count": 16,
   "id": "d0efb228",
   "metadata": {},
   "outputs": [],
   "source": [
    "rockband_revs[rockband_revs[\"minor\"]][\"size\"].mean()"
   ]
  },
  {
   "cell_type": "code",
   "execution_count": 17,
   "id": "d8a4a884",
   "metadata": {},
   "outputs": [],
   "source": [
    "rockband_revs[rockband_revs[\"minor\"] == False][\"size\"].mean()"
   ]
  },
  {
   "cell_type": "code",
   "execution_count": 18,
   "id": "b12cfa51",
   "metadata": {},
   "outputs": [],
   "source": [
    "rockband_revs.iloc[0,0]\n"
   ]
  },
  {
   "cell_type": "code",
   "execution_count": 19,
   "id": "a96a547c",
   "metadata": {},
   "outputs": [],
   "source": [
    "# lets say i want to\n",
    "rockband_revs.groupby(\"title\")[\"size\"].mean()"
   ]
  },
  {
   "cell_type": "code",
   "execution_count": 20,
   "id": "96fe6adc",
   "metadata": {},
   "outputs": [],
   "source": [
    "rockband_revs.groupby(\"title\")[\"size\"].sum()"
   ]
  },
  {
   "cell_type": "code",
   "execution_count": 21,
   "id": "b1a840e2",
   "metadata": {},
   "outputs": [],
   "source": [
    "tmp = rockband_revs.groupby(\"title\")[\"size\"].count()"
   ]
  },
  {
   "cell_type": "code",
   "execution_count": 22,
   "id": "4109bf42",
   "metadata": {},
   "outputs": [],
   "source": [
    "new_df = pd.DataFrame({'edits' : rockband_revs.groupby(\"title\")[\"size\"].count(),\n",
    "                       'mean.size' : rockband_revs.groupby(\"title\")[\"size\"].mean()})"
   ]
  },
  {
   "cell_type": "code",
   "execution_count": 23,
   "id": "79d73e60",
   "metadata": {},
   "outputs": [],
   "source": [
    "new_df"
   ]
  },
  {
   "cell_type": "code",
   "execution_count": 24,
   "id": "3e20702e",
   "metadata": {},
   "outputs": [],
   "source": [
    "tmp = pd.DataFrame(tmp)\n",
    "tmp.reset_index(inplace=True)\n",
    "tmp"
   ]
  },
  {
   "cell_type": "code",
   "execution_count": 25,
   "id": "661acd6a",
   "metadata": {},
   "outputs": [],
   "source": [
    "type(rockband_revs[\"timestamp\"][0])"
   ]
  },
  {
   "cell_type": "code",
   "execution_count": 26,
   "id": "5829e356",
   "metadata": {},
   "outputs": [],
   "source": [
    "rockband_revs[\"timestamp\"] = pd.to_datetime(rockband_revs[\"timestamp\"])"
   ]
  },
  {
   "cell_type": "code",
   "execution_count": 27,
   "id": "94e97a89",
   "metadata": {},
   "outputs": [],
   "source": [
    "rockband_revs[\"timestamp\"][0].day_name()"
   ]
  },
  {
   "cell_type": "code",
   "execution_count": 28,
   "id": "6c6e3008",
   "metadata": {},
   "outputs": [],
   "source": [
    "rockband_revs[rockband_revs[\"title\"] == 'Nirvana (band)'].plot(x=\"timestamp\", y=\"size\")"
   ]
  },
  {
   "cell_type": "code",
   "execution_count": 29,
   "id": "298700ff",
   "metadata": {},
   "outputs": [],
   "source": [
    "rockbands_ts = rockband_revs[\"title\"]\n",
    "rockbands_ts.index = rockband_revs[\"timestamp\"]"
   ]
  },
  {
   "cell_type": "code",
   "execution_count": 30,
   "id": "a3dff25e",
   "metadata": {},
   "outputs": [],
   "source": [
    "rockbands_ts.resample(\"1D\").count()"
   ]
  },
  {
   "cell_type": "code",
   "execution_count": 31,
   "id": "0362a8cf",
   "metadata": {},
   "outputs": [],
   "source": [
    "rockbands_ts.resample(\"1D\").count().plot()"
   ]
  },
  {
   "cell_type": "code",
   "execution_count": 32,
   "id": "919e90d3",
   "metadata": {},
   "outputs": [],
   "source": [
    "rockbands_ts.resample(\"1W\").count().plot()"
   ]
  }
 ],
 "metadata": {
  "kernelspec": {
   "display_name": "Python 3 (ipykernel)",
   "language": "python",
   "name": "python3"
  },
  "language_info": {
   "codemirror_mode": {
    "name": "ipython",
    "version": 3
   },
   "file_extension": ".py",
   "mimetype": "text/x-python",
   "name": "python",
   "nbconvert_exporter": "python",
   "pygments_lexer": "ipython3",
   "version": "3.11.2"
  }
 },
 "nbformat": 4,
 "nbformat_minor": 5
}
