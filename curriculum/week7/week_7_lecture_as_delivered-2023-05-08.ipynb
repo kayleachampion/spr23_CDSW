{
 "cells": [
  {
   "cell_type": "code",
   "execution_count": 1,
   "id": "1be86d14",
   "metadata": {},
   "outputs": [],
   "source": [
    "import pandas as pd"
   ]
  },
  {
   "cell_type": "code",
   "execution_count": 2,
   "id": "f8822ea7",
   "metadata": {},
   "outputs": [],
   "source": [
    "ice_cream = pd.Series([\"green tea\", \"rockyroad\", \"fudge\", \"green tea\"])"
   ]
  },
  {
   "cell_type": "code",
   "execution_count": 3,
   "id": "bf0465d9",
   "metadata": {},
   "outputs": [
    {
     "data": {
      "text/plain": [
       "pandas.core.series.Series"
      ]
     },
     "execution_count": 3,
     "metadata": {},
     "output_type": "execute_result"
    }
   ],
   "source": [
    "type(ice_cream)"
   ]
  },
  {
   "cell_type": "code",
   "execution_count": 4,
   "id": "1518c061",
   "metadata": {},
   "outputs": [
    {
     "data": {
      "text/plain": [
       "4"
      ]
     },
     "execution_count": 4,
     "metadata": {},
     "output_type": "execute_result"
    }
   ],
   "source": [
    "len(ice_cream)"
   ]
  },
  {
   "cell_type": "code",
   "execution_count": 5,
   "id": "8d4faf30",
   "metadata": {},
   "outputs": [
    {
     "data": {
      "text/plain": [
       "0    green tea\n",
       "1    rockyroad\n",
       "dtype: object"
      ]
     },
     "execution_count": 5,
     "metadata": {},
     "output_type": "execute_result"
    }
   ],
   "source": [
    "ice_cream[0:2]"
   ]
  },
  {
   "cell_type": "code",
   "execution_count": 6,
   "id": "e5565d18",
   "metadata": {},
   "outputs": [
    {
     "data": {
      "text/plain": [
       "green tea    2\n",
       "rockyroad    1\n",
       "fudge        1\n",
       "Name: count, dtype: int64"
      ]
     },
     "execution_count": 6,
     "metadata": {},
     "output_type": "execute_result"
    }
   ],
   "source": [
    "ice_cream.value_counts()"
   ]
  },
  {
   "cell_type": "code",
   "execution_count": 7,
   "id": "92e813cd",
   "metadata": {},
   "outputs": [
    {
     "data": {
      "text/plain": [
       "<Axes: >"
      ]
     },
     "execution_count": 7,
     "metadata": {},
     "output_type": "execute_result"
    },
    {
     "data": {
      "image/png": "[encoded data removed]",
      "text/plain": [
       "<Figure size 640x480 with 1 Axes>"
      ]
     },
     "metadata": {},
     "output_type": "display_data"
    }
   ],
   "source": [
    "ice_cream.hist()"
   ]
  },
  {
   "cell_type": "code",
   "execution_count": null,
   "id": "434399ee",
   "metadata": {},
   "outputs": [],
   "source": []
  },
  {
   "cell_type": "code",
   "execution_count": 8,
   "id": "14f9da87",
   "metadata": {},
   "outputs": [],
   "source": [
    "ice_cream = pd.Series([\"green tea\", \"rockyroad\", \"fudge\", \"green tea\"])"
   ]
  },
  {
   "cell_type": "code",
   "execution_count": 9,
   "id": "b0e63022",
   "metadata": {},
   "outputs": [],
   "source": [
    "ice_cream.index = ['mako', 'kaylea', 'josh', 'jasmine']"
   ]
  },
  {
   "cell_type": "code",
   "execution_count": 10,
   "id": "4edce02e",
   "metadata": {},
   "outputs": [
    {
     "data": {
      "text/plain": [
       "mako       green tea\n",
       "kaylea     rockyroad\n",
       "josh           fudge\n",
       "jasmine    green tea\n",
       "dtype: object"
      ]
     },
     "execution_count": 10,
     "metadata": {},
     "output_type": "execute_result"
    }
   ],
   "source": [
    "ice_cream"
   ]
  },
  {
   "cell_type": "code",
   "execution_count": 11,
   "id": "79eae4ba",
   "metadata": {},
   "outputs": [
    {
     "data": {
      "text/plain": [
       "'green tea'"
      ]
     },
     "execution_count": 11,
     "metadata": {},
     "output_type": "execute_result"
    }
   ],
   "source": [
    "ice_cream[\"mako\"]"
   ]
  },
  {
   "cell_type": "code",
   "execution_count": 12,
   "id": "60453653",
   "metadata": {},
   "outputs": [
    {
     "data": {
      "text/plain": [
       "'green tea'"
      ]
     },
     "execution_count": 12,
     "metadata": {},
     "output_type": "execute_result"
    }
   ],
   "source": [
    "ice_cream[0]"
   ]
  },
  {
   "cell_type": "code",
   "execution_count": 13,
   "id": "1659fd5c",
   "metadata": {},
   "outputs": [],
   "source": [
    "ice_cream.index = ['mako', 'kaylea', 'josh', 'mako']"
   ]
  },
  {
   "cell_type": "code",
   "execution_count": 14,
   "id": "5441c17f",
   "metadata": {},
   "outputs": [
    {
     "data": {
      "text/plain": [
       "mako    green tea\n",
       "mako    green tea\n",
       "dtype: object"
      ]
     },
     "execution_count": 14,
     "metadata": {},
     "output_type": "execute_result"
    }
   ],
   "source": [
    "ice_cream[\"mako\"]"
   ]
  },
  {
   "cell_type": "code",
   "execution_count": 15,
   "id": "fdb754aa",
   "metadata": {},
   "outputs": [],
   "source": [
    "ice_cream = pd.Series([\"green tea\", \"rockyroad\", \"fudge\", \"mango\"],\n",
    "                      index = ['mako', 'kaylea', 'josh', 'mako'])"
   ]
  },
  {
   "cell_type": "code",
   "execution_count": 16,
   "id": "89280626",
   "metadata": {},
   "outputs": [
    {
     "data": {
      "text/plain": [
       "mako      green tea\n",
       "kaylea    rockyroad\n",
       "josh          fudge\n",
       "mako          mango\n",
       "dtype: object"
      ]
     },
     "execution_count": 16,
     "metadata": {},
     "output_type": "execute_result"
    }
   ],
   "source": [
    "ice_cream"
   ]
  },
  {
   "cell_type": "code",
   "execution_count": 17,
   "id": "69c47330",
   "metadata": {},
   "outputs": [
    {
     "data": {
      "text/plain": [
       "mako    green tea\n",
       "mako        mango\n",
       "dtype: object"
      ]
     },
     "execution_count": 17,
     "metadata": {},
     "output_type": "execute_result"
    }
   ],
   "source": [
    "ice_cream[\"mako\"]"
   ]
  },
  {
   "cell_type": "code",
   "execution_count": 18,
   "id": "603cb882",
   "metadata": {},
   "outputs": [
    {
     "data": {
      "text/plain": [
       "mako    green tea\n",
       "mako        mango\n",
       "dtype: object"
      ]
     },
     "execution_count": 18,
     "metadata": {},
     "output_type": "execute_result"
    }
   ],
   "source": [
    "ice_cream[\"mako\"]"
   ]
  },
  {
   "cell_type": "code",
   "execution_count": 19,
   "id": "e0b8668e",
   "metadata": {},
   "outputs": [
    {
     "data": {
      "text/plain": [
       "{'mako': 'mango'}"
      ]
     },
     "execution_count": 19,
     "metadata": {},
     "output_type": "execute_result"
    }
   ],
   "source": [
    "{'mako' : 'green tea', 'mako' : 'mango'}"
   ]
  },
  {
   "cell_type": "code",
   "execution_count": 20,
   "id": "9f4cf32a",
   "metadata": {},
   "outputs": [],
   "source": [
    "orders_dict = {'person' : ['mako', 'kaylea', 'josh', 'mako'],\n",
    "               'flavor' : ['green tea', 'rockyroad', 'fudge', 'mango'],\n",
    "               'scoops' : [1,2,2,1]}"
   ]
  },
  {
   "cell_type": "code",
   "execution_count": 21,
   "id": "ad128c90",
   "metadata": {},
   "outputs": [],
   "source": [
    "ice_cream_order = pd.DataFrame(orders_dict)"
   ]
  },
  {
   "cell_type": "code",
   "execution_count": 22,
   "id": "d90107f8",
   "metadata": {},
   "outputs": [
    {
     "data": {
      "text/html": [
       "<div>\n",
       "<style scoped>\n",
       "    .dataframe tbody tr th:only-of-type {\n",
       "        vertical-align: middle;\n",
       "    }\n",
       "\n",
       "    .dataframe tbody tr th {\n",
       "        vertical-align: top;\n",
       "    }\n",
       "\n",
       "    .dataframe thead th {\n",
       "        text-align: right;\n",
       "    }\n",
       "</style>\n",
       "<table border=\"1\" class=\"dataframe\">\n",
       "  <thead>\n",
       "    <tr style=\"text-align: right;\">\n",
       "      <th></th>\n",
       "      <th>person</th>\n",
       "      <th>flavor</th>\n",
       "      <th>scoops</th>\n",
       "    </tr>\n",
       "  </thead>\n",
       "  <tbody>\n",
       "    <tr>\n",
       "      <th>0</th>\n",
       "      <td>mako</td>\n",
       "      <td>green tea</td>\n",
       "      <td>1</td>\n",
       "    </tr>\n",
       "    <tr>\n",
       "      <th>1</th>\n",
       "      <td>kaylea</td>\n",
       "      <td>rockyroad</td>\n",
       "      <td>2</td>\n",
       "    </tr>\n",
       "    <tr>\n",
       "      <th>2</th>\n",
       "      <td>josh</td>\n",
       "      <td>fudge</td>\n",
       "      <td>2</td>\n",
       "    </tr>\n",
       "    <tr>\n",
       "      <th>3</th>\n",
       "      <td>mako</td>\n",
       "      <td>mango</td>\n",
       "      <td>1</td>\n",
       "    </tr>\n",
       "  </tbody>\n",
       "</table>\n",
       "</div>"
      ],
      "text/plain": [
       "   person     flavor  scoops\n",
       "0    mako  green tea       1\n",
       "1  kaylea  rockyroad       2\n",
       "2    josh      fudge       2\n",
       "3    mako      mango       1"
      ]
     },
     "execution_count": 22,
     "metadata": {},
     "output_type": "execute_result"
    }
   ],
   "source": [
    "ice_cream_order"
   ]
  },
  {
   "cell_type": "code",
   "execution_count": 23,
   "id": "2975ec2e",
   "metadata": {},
   "outputs": [
    {
     "data": {
      "text/plain": [
       "pandas.core.frame.DataFrame"
      ]
     },
     "execution_count": 23,
     "metadata": {},
     "output_type": "execute_result"
    }
   ],
   "source": [
    "type(ice_cream_order)"
   ]
  },
  {
   "cell_type": "code",
   "execution_count": 24,
   "id": "21239417",
   "metadata": {},
   "outputs": [],
   "source": [
    "ice_cream_orders = pd.DataFrame([{'person' : 'mako', 'flavor' : 'green tea', 'scoops' : 1},\n",
    "                                 {'person' : 'kaylea', 'flavor' : 'rocky road', 'scoops' : 2},\n",
    "                                 {'person' : 'josh', 'flavor' : 'fudge', 'scoops' : 2},\n",
    "                                 {'person' : 'mako', 'flavor' : 'fudge', 'scoops' : 1}\n",
    "                                ])"
   ]
  },
  {
   "cell_type": "code",
   "execution_count": 25,
   "id": "38ccc646",
   "metadata": {},
   "outputs": [
    {
     "data": {
      "text/html": [
       "<div>\n",
       "<style scoped>\n",
       "    .dataframe tbody tr th:only-of-type {\n",
       "        vertical-align: middle;\n",
       "    }\n",
       "\n",
       "    .dataframe tbody tr th {\n",
       "        vertical-align: top;\n",
       "    }\n",
       "\n",
       "    .dataframe thead th {\n",
       "        text-align: right;\n",
       "    }\n",
       "</style>\n",
       "<table border=\"1\" class=\"dataframe\">\n",
       "  <thead>\n",
       "    <tr style=\"text-align: right;\">\n",
       "      <th></th>\n",
       "      <th>person</th>\n",
       "      <th>flavor</th>\n",
       "      <th>scoops</th>\n",
       "    </tr>\n",
       "  </thead>\n",
       "  <tbody>\n",
       "    <tr>\n",
       "      <th>0</th>\n",
       "      <td>mako</td>\n",
       "      <td>green tea</td>\n",
       "      <td>1</td>\n",
       "    </tr>\n",
       "    <tr>\n",
       "      <th>1</th>\n",
       "      <td>kaylea</td>\n",
       "      <td>rocky road</td>\n",
       "      <td>2</td>\n",
       "    </tr>\n",
       "    <tr>\n",
       "      <th>2</th>\n",
       "      <td>josh</td>\n",
       "      <td>fudge</td>\n",
       "      <td>2</td>\n",
       "    </tr>\n",
       "    <tr>\n",
       "      <th>3</th>\n",
       "      <td>mako</td>\n",
       "      <td>fudge</td>\n",
       "      <td>1</td>\n",
       "    </tr>\n",
       "  </tbody>\n",
       "</table>\n",
       "</div>"
      ],
      "text/plain": [
       "   person      flavor  scoops\n",
       "0    mako   green tea       1\n",
       "1  kaylea  rocky road       2\n",
       "2    josh       fudge       2\n",
       "3    mako       fudge       1"
      ]
     },
     "execution_count": 25,
     "metadata": {},
     "output_type": "execute_result"
    }
   ],
   "source": [
    "ice_cream_orders"
   ]
  },
  {
   "cell_type": "code",
   "execution_count": 26,
   "id": "2a0b7b63",
   "metadata": {},
   "outputs": [],
   "source": [
    "rockband_revs = pd.read_csv(\"rock_bands_wp_revisions.tsv\", delimiter=\"\\t\")"
   ]
  },
  {
   "cell_type": "code",
   "execution_count": 27,
   "id": "79f5dbd3",
   "metadata": {},
   "outputs": [
    {
     "data": {
      "text/html": [
       "<div>\n",
       "<style scoped>\n",
       "    .dataframe tbody tr th:only-of-type {\n",
       "        vertical-align: middle;\n",
       "    }\n",
       "\n",
       "    .dataframe tbody tr th {\n",
       "        vertical-align: top;\n",
       "    }\n",
       "\n",
       "    .dataframe thead th {\n",
       "        text-align: right;\n",
       "    }\n",
       "</style>\n",
       "<table border=\"1\" class=\"dataframe\">\n",
       "  <thead>\n",
       "    <tr style=\"text-align: right;\">\n",
       "      <th></th>\n",
       "      <th>title</th>\n",
       "      <th>timestamp</th>\n",
       "      <th>user</th>\n",
       "      <th>minor</th>\n",
       "      <th>anon</th>\n",
       "      <th>size</th>\n",
       "    </tr>\n",
       "  </thead>\n",
       "  <tbody>\n",
       "    <tr>\n",
       "      <th>0</th>\n",
       "      <td>Nirvana (band)</td>\n",
       "      <td>2023-04-27 02:30:06</td>\n",
       "      <td>Sepguilherme</td>\n",
       "      <td>True</td>\n",
       "      <td>False</td>\n",
       "      <td>92419</td>\n",
       "    </tr>\n",
       "    <tr>\n",
       "      <th>1</th>\n",
       "      <td>Nirvana (band)</td>\n",
       "      <td>2023-04-18 06:20:57</td>\n",
       "      <td>Majash2020</td>\n",
       "      <td>True</td>\n",
       "      <td>False</td>\n",
       "      <td>92417</td>\n",
       "    </tr>\n",
       "    <tr>\n",
       "      <th>2</th>\n",
       "      <td>Nirvana (band)</td>\n",
       "      <td>2023-03-27 17:45:26</td>\n",
       "      <td>BoxxyBoy</td>\n",
       "      <td>False</td>\n",
       "      <td>False</td>\n",
       "      <td>92840</td>\n",
       "    </tr>\n",
       "    <tr>\n",
       "      <th>3</th>\n",
       "      <td>Nirvana (band)</td>\n",
       "      <td>2023-03-25 17:38:53</td>\n",
       "      <td>Popcornfud</td>\n",
       "      <td>False</td>\n",
       "      <td>False</td>\n",
       "      <td>92900</td>\n",
       "    </tr>\n",
       "    <tr>\n",
       "      <th>4</th>\n",
       "      <td>Nirvana (band)</td>\n",
       "      <td>2023-03-25 17:38:04</td>\n",
       "      <td>Popcornfud</td>\n",
       "      <td>False</td>\n",
       "      <td>False</td>\n",
       "      <td>92914</td>\n",
       "    </tr>\n",
       "    <tr>\n",
       "      <th>...</th>\n",
       "      <td>...</td>\n",
       "      <td>...</td>\n",
       "      <td>...</td>\n",
       "      <td>...</td>\n",
       "      <td>...</td>\n",
       "      <td>...</td>\n",
       "    </tr>\n",
       "    <tr>\n",
       "      <th>78863</th>\n",
       "      <td>Gun Outfit</td>\n",
       "      <td>2022-11-14 21:21:05</td>\n",
       "      <td>67.87.161.113</td>\n",
       "      <td>False</td>\n",
       "      <td>True</td>\n",
       "      <td>5373</td>\n",
       "    </tr>\n",
       "    <tr>\n",
       "      <th>78864</th>\n",
       "      <td>Gun Outfit</td>\n",
       "      <td>2021-11-10 11:27:09</td>\n",
       "      <td>Seemaba</td>\n",
       "      <td>False</td>\n",
       "      <td>False</td>\n",
       "      <td>5373</td>\n",
       "    </tr>\n",
       "    <tr>\n",
       "      <th>78865</th>\n",
       "      <td>Gun Outfit</td>\n",
       "      <td>2021-04-16 14:53:51</td>\n",
       "      <td>Lewishhh</td>\n",
       "      <td>False</td>\n",
       "      <td>False</td>\n",
       "      <td>5369</td>\n",
       "    </tr>\n",
       "    <tr>\n",
       "      <th>78866</th>\n",
       "      <td>Gun Outfit</td>\n",
       "      <td>2021-04-16 14:48:21</td>\n",
       "      <td>Lewishhh</td>\n",
       "      <td>False</td>\n",
       "      <td>False</td>\n",
       "      <td>5252</td>\n",
       "    </tr>\n",
       "    <tr>\n",
       "      <th>78867</th>\n",
       "      <td>Gun Outfit</td>\n",
       "      <td>2021-04-16 14:46:35</td>\n",
       "      <td>Lewishhh</td>\n",
       "      <td>False</td>\n",
       "      <td>False</td>\n",
       "      <td>5248</td>\n",
       "    </tr>\n",
       "  </tbody>\n",
       "</table>\n",
       "<p>78868 rows × 6 columns</p>\n",
       "</div>"
      ],
      "text/plain": [
       "                title            timestamp           user  minor   anon   size\n",
       "0      Nirvana (band)  2023-04-27 02:30:06   Sepguilherme   True  False  92419\n",
       "1      Nirvana (band)  2023-04-18 06:20:57     Majash2020   True  False  92417\n",
       "2      Nirvana (band)  2023-03-27 17:45:26       BoxxyBoy  False  False  92840\n",
       "3      Nirvana (band)  2023-03-25 17:38:53     Popcornfud  False  False  92900\n",
       "4      Nirvana (band)  2023-03-25 17:38:04     Popcornfud  False  False  92914\n",
       "...               ...                  ...            ...    ...    ...    ...\n",
       "78863      Gun Outfit  2022-11-14 21:21:05  67.87.161.113  False   True   5373\n",
       "78864      Gun Outfit  2021-11-10 11:27:09        Seemaba  False  False   5373\n",
       "78865      Gun Outfit  2021-04-16 14:53:51       Lewishhh  False  False   5369\n",
       "78866      Gun Outfit  2021-04-16 14:48:21       Lewishhh  False  False   5252\n",
       "78867      Gun Outfit  2021-04-16 14:46:35       Lewishhh  False  False   5248\n",
       "\n",
       "[78868 rows x 6 columns]"
      ]
     },
     "execution_count": 27,
     "metadata": {},
     "output_type": "execute_result"
    }
   ],
   "source": [
    "rockband_revs"
   ]
  },
  {
   "cell_type": "code",
   "execution_count": 28,
   "id": "eb3bb601",
   "metadata": {},
   "outputs": [
    {
     "data": {
      "text/plain": [
       "pandas.core.frame.DataFrame"
      ]
     },
     "execution_count": 28,
     "metadata": {},
     "output_type": "execute_result"
    }
   ],
   "source": [
    "type(rockband_revs)"
   ]
  },
  {
   "cell_type": "code",
   "execution_count": 29,
   "id": "25a14ea5",
   "metadata": {},
   "outputs": [
    {
     "data": {
      "text/html": [
       "<div>\n",
       "<style scoped>\n",
       "    .dataframe tbody tr th:only-of-type {\n",
       "        vertical-align: middle;\n",
       "    }\n",
       "\n",
       "    .dataframe tbody tr th {\n",
       "        vertical-align: top;\n",
       "    }\n",
       "\n",
       "    .dataframe thead th {\n",
       "        text-align: right;\n",
       "    }\n",
       "</style>\n",
       "<table border=\"1\" class=\"dataframe\">\n",
       "  <thead>\n",
       "    <tr style=\"text-align: right;\">\n",
       "      <th></th>\n",
       "      <th>title</th>\n",
       "      <th>size</th>\n",
       "    </tr>\n",
       "  </thead>\n",
       "  <tbody>\n",
       "    <tr>\n",
       "      <th>0</th>\n",
       "      <td>Nirvana (band)</td>\n",
       "      <td>92419</td>\n",
       "    </tr>\n",
       "    <tr>\n",
       "      <th>1</th>\n",
       "      <td>Nirvana (band)</td>\n",
       "      <td>92417</td>\n",
       "    </tr>\n",
       "    <tr>\n",
       "      <th>2</th>\n",
       "      <td>Nirvana (band)</td>\n",
       "      <td>92840</td>\n",
       "    </tr>\n",
       "    <tr>\n",
       "      <th>3</th>\n",
       "      <td>Nirvana (band)</td>\n",
       "      <td>92900</td>\n",
       "    </tr>\n",
       "    <tr>\n",
       "      <th>4</th>\n",
       "      <td>Nirvana (band)</td>\n",
       "      <td>92914</td>\n",
       "    </tr>\n",
       "    <tr>\n",
       "      <th>...</th>\n",
       "      <td>...</td>\n",
       "      <td>...</td>\n",
       "    </tr>\n",
       "    <tr>\n",
       "      <th>78863</th>\n",
       "      <td>Gun Outfit</td>\n",
       "      <td>5373</td>\n",
       "    </tr>\n",
       "    <tr>\n",
       "      <th>78864</th>\n",
       "      <td>Gun Outfit</td>\n",
       "      <td>5373</td>\n",
       "    </tr>\n",
       "    <tr>\n",
       "      <th>78865</th>\n",
       "      <td>Gun Outfit</td>\n",
       "      <td>5369</td>\n",
       "    </tr>\n",
       "    <tr>\n",
       "      <th>78866</th>\n",
       "      <td>Gun Outfit</td>\n",
       "      <td>5252</td>\n",
       "    </tr>\n",
       "    <tr>\n",
       "      <th>78867</th>\n",
       "      <td>Gun Outfit</td>\n",
       "      <td>5248</td>\n",
       "    </tr>\n",
       "  </tbody>\n",
       "</table>\n",
       "<p>78868 rows × 2 columns</p>\n",
       "</div>"
      ],
      "text/plain": [
       "                title   size\n",
       "0      Nirvana (band)  92419\n",
       "1      Nirvana (band)  92417\n",
       "2      Nirvana (band)  92840\n",
       "3      Nirvana (band)  92900\n",
       "4      Nirvana (band)  92914\n",
       "...               ...    ...\n",
       "78863      Gun Outfit   5373\n",
       "78864      Gun Outfit   5373\n",
       "78865      Gun Outfit   5369\n",
       "78866      Gun Outfit   5252\n",
       "78867      Gun Outfit   5248\n",
       "\n",
       "[78868 rows x 2 columns]"
      ]
     },
     "execution_count": 29,
     "metadata": {},
     "output_type": "execute_result"
    }
   ],
   "source": [
    "rockband_revs[[\"title\", \"size\"]]"
   ]
  },
  {
   "cell_type": "code",
   "execution_count": 30,
   "id": "ea974d79",
   "metadata": {},
   "outputs": [
    {
     "data": {
      "text/html": [
       "<div>\n",
       "<style scoped>\n",
       "    .dataframe tbody tr th:only-of-type {\n",
       "        vertical-align: middle;\n",
       "    }\n",
       "\n",
       "    .dataframe tbody tr th {\n",
       "        vertical-align: top;\n",
       "    }\n",
       "\n",
       "    .dataframe thead th {\n",
       "        text-align: right;\n",
       "    }\n",
       "</style>\n",
       "<table border=\"1\" class=\"dataframe\">\n",
       "  <thead>\n",
       "    <tr style=\"text-align: right;\">\n",
       "      <th></th>\n",
       "      <th>title</th>\n",
       "      <th>timestamp</th>\n",
       "      <th>user</th>\n",
       "      <th>minor</th>\n",
       "      <th>anon</th>\n",
       "      <th>size</th>\n",
       "    </tr>\n",
       "  </thead>\n",
       "  <tbody>\n",
       "    <tr>\n",
       "      <th>0</th>\n",
       "      <td>Nirvana (band)</td>\n",
       "      <td>2023-04-27 02:30:06</td>\n",
       "      <td>Sepguilherme</td>\n",
       "      <td>True</td>\n",
       "      <td>False</td>\n",
       "      <td>92419</td>\n",
       "    </tr>\n",
       "    <tr>\n",
       "      <th>1</th>\n",
       "      <td>Nirvana (band)</td>\n",
       "      <td>2023-04-18 06:20:57</td>\n",
       "      <td>Majash2020</td>\n",
       "      <td>True</td>\n",
       "      <td>False</td>\n",
       "      <td>92417</td>\n",
       "    </tr>\n",
       "    <tr>\n",
       "      <th>2</th>\n",
       "      <td>Nirvana (band)</td>\n",
       "      <td>2023-03-27 17:45:26</td>\n",
       "      <td>BoxxyBoy</td>\n",
       "      <td>False</td>\n",
       "      <td>False</td>\n",
       "      <td>92840</td>\n",
       "    </tr>\n",
       "    <tr>\n",
       "      <th>3</th>\n",
       "      <td>Nirvana (band)</td>\n",
       "      <td>2023-03-25 17:38:53</td>\n",
       "      <td>Popcornfud</td>\n",
       "      <td>False</td>\n",
       "      <td>False</td>\n",
       "      <td>92900</td>\n",
       "    </tr>\n",
       "    <tr>\n",
       "      <th>4</th>\n",
       "      <td>Nirvana (band)</td>\n",
       "      <td>2023-03-25 17:38:04</td>\n",
       "      <td>Popcornfud</td>\n",
       "      <td>False</td>\n",
       "      <td>False</td>\n",
       "      <td>92914</td>\n",
       "    </tr>\n",
       "  </tbody>\n",
       "</table>\n",
       "</div>"
      ],
      "text/plain": [
       "            title            timestamp          user  minor   anon   size\n",
       "0  Nirvana (band)  2023-04-27 02:30:06  Sepguilherme   True  False  92419\n",
       "1  Nirvana (band)  2023-04-18 06:20:57    Majash2020   True  False  92417\n",
       "2  Nirvana (band)  2023-03-27 17:45:26      BoxxyBoy  False  False  92840\n",
       "3  Nirvana (band)  2023-03-25 17:38:53    Popcornfud  False  False  92900\n",
       "4  Nirvana (band)  2023-03-25 17:38:04    Popcornfud  False  False  92914"
      ]
     },
     "execution_count": 30,
     "metadata": {},
     "output_type": "execute_result"
    }
   ],
   "source": [
    "rockband_revs.head()"
   ]
  },
  {
   "cell_type": "code",
   "execution_count": 31,
   "id": "9c4fc437",
   "metadata": {},
   "outputs": [
    {
     "data": {
      "text/html": [
       "<div>\n",
       "<style scoped>\n",
       "    .dataframe tbody tr th:only-of-type {\n",
       "        vertical-align: middle;\n",
       "    }\n",
       "\n",
       "    .dataframe tbody tr th {\n",
       "        vertical-align: top;\n",
       "    }\n",
       "\n",
       "    .dataframe thead th {\n",
       "        text-align: right;\n",
       "    }\n",
       "</style>\n",
       "<table border=\"1\" class=\"dataframe\">\n",
       "  <thead>\n",
       "    <tr style=\"text-align: right;\">\n",
       "      <th></th>\n",
       "      <th>title</th>\n",
       "      <th>timestamp</th>\n",
       "      <th>user</th>\n",
       "      <th>minor</th>\n",
       "      <th>anon</th>\n",
       "      <th>size</th>\n",
       "    </tr>\n",
       "  </thead>\n",
       "  <tbody>\n",
       "    <tr>\n",
       "      <th>78863</th>\n",
       "      <td>Gun Outfit</td>\n",
       "      <td>2022-11-14 21:21:05</td>\n",
       "      <td>67.87.161.113</td>\n",
       "      <td>False</td>\n",
       "      <td>True</td>\n",
       "      <td>5373</td>\n",
       "    </tr>\n",
       "    <tr>\n",
       "      <th>78864</th>\n",
       "      <td>Gun Outfit</td>\n",
       "      <td>2021-11-10 11:27:09</td>\n",
       "      <td>Seemaba</td>\n",
       "      <td>False</td>\n",
       "      <td>False</td>\n",
       "      <td>5373</td>\n",
       "    </tr>\n",
       "    <tr>\n",
       "      <th>78865</th>\n",
       "      <td>Gun Outfit</td>\n",
       "      <td>2021-04-16 14:53:51</td>\n",
       "      <td>Lewishhh</td>\n",
       "      <td>False</td>\n",
       "      <td>False</td>\n",
       "      <td>5369</td>\n",
       "    </tr>\n",
       "    <tr>\n",
       "      <th>78866</th>\n",
       "      <td>Gun Outfit</td>\n",
       "      <td>2021-04-16 14:48:21</td>\n",
       "      <td>Lewishhh</td>\n",
       "      <td>False</td>\n",
       "      <td>False</td>\n",
       "      <td>5252</td>\n",
       "    </tr>\n",
       "    <tr>\n",
       "      <th>78867</th>\n",
       "      <td>Gun Outfit</td>\n",
       "      <td>2021-04-16 14:46:35</td>\n",
       "      <td>Lewishhh</td>\n",
       "      <td>False</td>\n",
       "      <td>False</td>\n",
       "      <td>5248</td>\n",
       "    </tr>\n",
       "  </tbody>\n",
       "</table>\n",
       "</div>"
      ],
      "text/plain": [
       "            title            timestamp           user  minor   anon  size\n",
       "78863  Gun Outfit  2022-11-14 21:21:05  67.87.161.113  False   True  5373\n",
       "78864  Gun Outfit  2021-11-10 11:27:09        Seemaba  False  False  5373\n",
       "78865  Gun Outfit  2021-04-16 14:53:51       Lewishhh  False  False  5369\n",
       "78866  Gun Outfit  2021-04-16 14:48:21       Lewishhh  False  False  5252\n",
       "78867  Gun Outfit  2021-04-16 14:46:35       Lewishhh  False  False  5248"
      ]
     },
     "execution_count": 31,
     "metadata": {},
     "output_type": "execute_result"
    }
   ],
   "source": [
    "rockband_revs.tail()"
   ]
  },
  {
   "cell_type": "code",
   "execution_count": 32,
   "id": "dec0ff18",
   "metadata": {},
   "outputs": [
    {
     "data": {
      "text/plain": [
       "(78868, 6)"
      ]
     },
     "execution_count": 32,
     "metadata": {},
     "output_type": "execute_result"
    }
   ],
   "source": [
    "rockband_revs.shape"
   ]
  },
  {
   "cell_type": "code",
   "execution_count": 33,
   "id": "0e59bee4",
   "metadata": {},
   "outputs": [
    {
     "name": "stdout",
     "output_type": "stream",
     "text": [
      "<class 'pandas.core.frame.DataFrame'>\n",
      "RangeIndex: 78868 entries, 0 to 78867\n",
      "Data columns (total 6 columns):\n",
      " #   Column     Non-Null Count  Dtype \n",
      "---  ------     --------------  ----- \n",
      " 0   title      78868 non-null  object\n",
      " 1   timestamp  78868 non-null  object\n",
      " 2   user       78868 non-null  object\n",
      " 3   minor      78868 non-null  bool  \n",
      " 4   anon       78868 non-null  bool  \n",
      " 5   size       78868 non-null  int64 \n",
      "dtypes: bool(2), int64(1), object(3)\n",
      "memory usage: 2.6+ MB\n"
     ]
    }
   ],
   "source": [
    "rockband_revs.info()"
   ]
  },
  {
   "cell_type": "code",
   "execution_count": 34,
   "id": "50e9ae7a",
   "metadata": {},
   "outputs": [
    {
     "data": {
      "text/html": [
       "<div>\n",
       "<style scoped>\n",
       "    .dataframe tbody tr th:only-of-type {\n",
       "        vertical-align: middle;\n",
       "    }\n",
       "\n",
       "    .dataframe tbody tr th {\n",
       "        vertical-align: top;\n",
       "    }\n",
       "\n",
       "    .dataframe thead th {\n",
       "        text-align: right;\n",
       "    }\n",
       "</style>\n",
       "<table border=\"1\" class=\"dataframe\">\n",
       "  <thead>\n",
       "    <tr style=\"text-align: right;\">\n",
       "      <th></th>\n",
       "      <th>size</th>\n",
       "    </tr>\n",
       "  </thead>\n",
       "  <tbody>\n",
       "    <tr>\n",
       "      <th>count</th>\n",
       "      <td>78868.000000</td>\n",
       "    </tr>\n",
       "    <tr>\n",
       "      <th>mean</th>\n",
       "      <td>29310.207930</td>\n",
       "    </tr>\n",
       "    <tr>\n",
       "      <th>std</th>\n",
       "      <td>26246.487512</td>\n",
       "    </tr>\n",
       "    <tr>\n",
       "      <th>min</th>\n",
       "      <td>0.000000</td>\n",
       "    </tr>\n",
       "    <tr>\n",
       "      <th>25%</th>\n",
       "      <td>8915.750000</td>\n",
       "    </tr>\n",
       "    <tr>\n",
       "      <th>50%</th>\n",
       "      <td>21490.500000</td>\n",
       "    </tr>\n",
       "    <tr>\n",
       "      <th>75%</th>\n",
       "      <td>41061.000000</td>\n",
       "    </tr>\n",
       "    <tr>\n",
       "      <th>max</th>\n",
       "      <td>671831.000000</td>\n",
       "    </tr>\n",
       "  </tbody>\n",
       "</table>\n",
       "</div>"
      ],
      "text/plain": [
       "                size\n",
       "count   78868.000000\n",
       "mean    29310.207930\n",
       "std     26246.487512\n",
       "min         0.000000\n",
       "25%      8915.750000\n",
       "50%     21490.500000\n",
       "75%     41061.000000\n",
       "max    671831.000000"
      ]
     },
     "execution_count": 34,
     "metadata": {},
     "output_type": "execute_result"
    }
   ],
   "source": [
    "rockband_revs.describe()"
   ]
  },
  {
   "cell_type": "code",
   "execution_count": 35,
   "id": "eabcca20",
   "metadata": {},
   "outputs": [
    {
     "data": {
      "text/plain": [
       "<Axes: >"
      ]
     },
     "execution_count": 35,
     "metadata": {},
     "output_type": "execute_result"
    },
    {
     "data": {
      "image/png": "[encoded data removed]",
      "text/plain": [
       "<Figure size 640x480 with 1 Axes>"
      ]
     },
     "metadata": {},
     "output_type": "display_data"
    }
   ],
   "source": [
    "rockband_revs[\"size\"].hist(log=True)"
   ]
  },
  {
   "cell_type": "code",
   "execution_count": 36,
   "id": "b3e4a27b",
   "metadata": {},
   "outputs": [
    {
     "data": {
      "text/html": [
       "<div>\n",
       "<style scoped>\n",
       "    .dataframe tbody tr th:only-of-type {\n",
       "        vertical-align: middle;\n",
       "    }\n",
       "\n",
       "    .dataframe tbody tr th {\n",
       "        vertical-align: top;\n",
       "    }\n",
       "\n",
       "    .dataframe thead th {\n",
       "        text-align: right;\n",
       "    }\n",
       "</style>\n",
       "<table border=\"1\" class=\"dataframe\">\n",
       "  <thead>\n",
       "    <tr style=\"text-align: right;\">\n",
       "      <th></th>\n",
       "      <th>title</th>\n",
       "      <th>timestamp</th>\n",
       "      <th>user</th>\n",
       "      <th>minor</th>\n",
       "      <th>anon</th>\n",
       "      <th>size</th>\n",
       "    </tr>\n",
       "  </thead>\n",
       "  <tbody>\n",
       "    <tr>\n",
       "      <th>0</th>\n",
       "      <td>Nirvana (band)</td>\n",
       "      <td>2023-04-27 02:30:06</td>\n",
       "      <td>Sepguilherme</td>\n",
       "      <td>True</td>\n",
       "      <td>False</td>\n",
       "      <td>92419</td>\n",
       "    </tr>\n",
       "    <tr>\n",
       "      <th>1</th>\n",
       "      <td>Nirvana (band)</td>\n",
       "      <td>2023-04-18 06:20:57</td>\n",
       "      <td>Majash2020</td>\n",
       "      <td>True</td>\n",
       "      <td>False</td>\n",
       "      <td>92417</td>\n",
       "    </tr>\n",
       "    <tr>\n",
       "      <th>2</th>\n",
       "      <td>Nirvana (band)</td>\n",
       "      <td>2023-03-27 17:45:26</td>\n",
       "      <td>BoxxyBoy</td>\n",
       "      <td>False</td>\n",
       "      <td>False</td>\n",
       "      <td>92840</td>\n",
       "    </tr>\n",
       "    <tr>\n",
       "      <th>3</th>\n",
       "      <td>Nirvana (band)</td>\n",
       "      <td>2023-03-25 17:38:53</td>\n",
       "      <td>Popcornfud</td>\n",
       "      <td>False</td>\n",
       "      <td>False</td>\n",
       "      <td>92900</td>\n",
       "    </tr>\n",
       "    <tr>\n",
       "      <th>4</th>\n",
       "      <td>Nirvana (band)</td>\n",
       "      <td>2023-03-25 17:38:04</td>\n",
       "      <td>Popcornfud</td>\n",
       "      <td>False</td>\n",
       "      <td>False</td>\n",
       "      <td>92914</td>\n",
       "    </tr>\n",
       "    <tr>\n",
       "      <th>...</th>\n",
       "      <td>...</td>\n",
       "      <td>...</td>\n",
       "      <td>...</td>\n",
       "      <td>...</td>\n",
       "      <td>...</td>\n",
       "      <td>...</td>\n",
       "    </tr>\n",
       "    <tr>\n",
       "      <th>78863</th>\n",
       "      <td>Gun Outfit</td>\n",
       "      <td>2022-11-14 21:21:05</td>\n",
       "      <td>67.87.161.113</td>\n",
       "      <td>False</td>\n",
       "      <td>True</td>\n",
       "      <td>5373</td>\n",
       "    </tr>\n",
       "    <tr>\n",
       "      <th>78864</th>\n",
       "      <td>Gun Outfit</td>\n",
       "      <td>2021-11-10 11:27:09</td>\n",
       "      <td>Seemaba</td>\n",
       "      <td>False</td>\n",
       "      <td>False</td>\n",
       "      <td>5373</td>\n",
       "    </tr>\n",
       "    <tr>\n",
       "      <th>78865</th>\n",
       "      <td>Gun Outfit</td>\n",
       "      <td>2021-04-16 14:53:51</td>\n",
       "      <td>Lewishhh</td>\n",
       "      <td>False</td>\n",
       "      <td>False</td>\n",
       "      <td>5369</td>\n",
       "    </tr>\n",
       "    <tr>\n",
       "      <th>78866</th>\n",
       "      <td>Gun Outfit</td>\n",
       "      <td>2021-04-16 14:48:21</td>\n",
       "      <td>Lewishhh</td>\n",
       "      <td>False</td>\n",
       "      <td>False</td>\n",
       "      <td>5252</td>\n",
       "    </tr>\n",
       "    <tr>\n",
       "      <th>78867</th>\n",
       "      <td>Gun Outfit</td>\n",
       "      <td>2021-04-16 14:46:35</td>\n",
       "      <td>Lewishhh</td>\n",
       "      <td>False</td>\n",
       "      <td>False</td>\n",
       "      <td>5248</td>\n",
       "    </tr>\n",
       "  </tbody>\n",
       "</table>\n",
       "<p>78868 rows × 6 columns</p>\n",
       "</div>"
      ],
      "text/plain": [
       "                title            timestamp           user  minor   anon   size\n",
       "0      Nirvana (band)  2023-04-27 02:30:06   Sepguilherme   True  False  92419\n",
       "1      Nirvana (band)  2023-04-18 06:20:57     Majash2020   True  False  92417\n",
       "2      Nirvana (band)  2023-03-27 17:45:26       BoxxyBoy  False  False  92840\n",
       "3      Nirvana (band)  2023-03-25 17:38:53     Popcornfud  False  False  92900\n",
       "4      Nirvana (band)  2023-03-25 17:38:04     Popcornfud  False  False  92914\n",
       "...               ...                  ...            ...    ...    ...    ...\n",
       "78863      Gun Outfit  2022-11-14 21:21:05  67.87.161.113  False   True   5373\n",
       "78864      Gun Outfit  2021-11-10 11:27:09        Seemaba  False  False   5373\n",
       "78865      Gun Outfit  2021-04-16 14:53:51       Lewishhh  False  False   5369\n",
       "78866      Gun Outfit  2021-04-16 14:48:21       Lewishhh  False  False   5252\n",
       "78867      Gun Outfit  2021-04-16 14:46:35       Lewishhh  False  False   5248\n",
       "\n",
       "[78868 rows x 6 columns]"
      ]
     },
     "execution_count": 36,
     "metadata": {},
     "output_type": "execute_result"
    }
   ],
   "source": [
    "rockband_revs"
   ]
  },
  {
   "cell_type": "code",
   "execution_count": 37,
   "id": "72ba39f7",
   "metadata": {},
   "outputs": [
    {
     "data": {
      "text/plain": [
       "0        False\n",
       "1        False\n",
       "2        False\n",
       "3        False\n",
       "4        False\n",
       "         ...  \n",
       "78863     True\n",
       "78864     True\n",
       "78865     True\n",
       "78866     True\n",
       "78867     True\n",
       "Name: size, Length: 78868, dtype: bool"
      ]
     },
     "execution_count": 37,
     "metadata": {},
     "output_type": "execute_result"
    }
   ],
   "source": [
    "rockband_revs[\"size\"] < 10000"
   ]
  },
  {
   "cell_type": "code",
   "execution_count": 38,
   "id": "2f25465e",
   "metadata": {},
   "outputs": [
    {
     "data": {
      "text/html": [
       "<div>\n",
       "<style scoped>\n",
       "    .dataframe tbody tr th:only-of-type {\n",
       "        vertical-align: middle;\n",
       "    }\n",
       "\n",
       "    .dataframe tbody tr th {\n",
       "        vertical-align: top;\n",
       "    }\n",
       "\n",
       "    .dataframe thead th {\n",
       "        text-align: right;\n",
       "    }\n",
       "</style>\n",
       "<table border=\"1\" class=\"dataframe\">\n",
       "  <thead>\n",
       "    <tr style=\"text-align: right;\">\n",
       "      <th></th>\n",
       "      <th>title</th>\n",
       "      <th>timestamp</th>\n",
       "      <th>user</th>\n",
       "      <th>minor</th>\n",
       "      <th>anon</th>\n",
       "      <th>size</th>\n",
       "    </tr>\n",
       "  </thead>\n",
       "  <tbody>\n",
       "    <tr>\n",
       "      <th>6197</th>\n",
       "      <td>Nirvana (band)</td>\n",
       "      <td>2010-02-09 23:56:57</td>\n",
       "      <td>Bonvie94</td>\n",
       "      <td>False</td>\n",
       "      <td>False</td>\n",
       "      <td>0</td>\n",
       "    </tr>\n",
       "    <tr>\n",
       "      <th>6227</th>\n",
       "      <td>Nirvana (band)</td>\n",
       "      <td>2010-02-05 22:08:12</td>\n",
       "      <td>Aromatic hotdog</td>\n",
       "      <td>False</td>\n",
       "      <td>False</td>\n",
       "      <td>0</td>\n",
       "    </tr>\n",
       "    <tr>\n",
       "      <th>6719</th>\n",
       "      <td>Nirvana (band)</td>\n",
       "      <td>2009-10-20 14:23:47</td>\n",
       "      <td>67.186.47.96</td>\n",
       "      <td>False</td>\n",
       "      <td>True</td>\n",
       "      <td>0</td>\n",
       "    </tr>\n",
       "    <tr>\n",
       "      <th>6851</th>\n",
       "      <td>Nirvana (band)</td>\n",
       "      <td>2009-09-13 22:57:16</td>\n",
       "      <td>75.129.243.158</td>\n",
       "      <td>False</td>\n",
       "      <td>True</td>\n",
       "      <td>0</td>\n",
       "    </tr>\n",
       "    <tr>\n",
       "      <th>6913</th>\n",
       "      <td>Nirvana (band)</td>\n",
       "      <td>2009-09-01 00:38:42</td>\n",
       "      <td>68.28.168.245</td>\n",
       "      <td>False</td>\n",
       "      <td>True</td>\n",
       "      <td>0</td>\n",
       "    </tr>\n",
       "    <tr>\n",
       "      <th>...</th>\n",
       "      <td>...</td>\n",
       "      <td>...</td>\n",
       "      <td>...</td>\n",
       "      <td>...</td>\n",
       "      <td>...</td>\n",
       "      <td>...</td>\n",
       "    </tr>\n",
       "    <tr>\n",
       "      <th>68485</th>\n",
       "      <td>The Classic Crime</td>\n",
       "      <td>2018-10-31 08:44:00</td>\n",
       "      <td>1.152.111.6</td>\n",
       "      <td>False</td>\n",
       "      <td>True</td>\n",
       "      <td>0</td>\n",
       "    </tr>\n",
       "    <tr>\n",
       "      <th>69337</th>\n",
       "      <td>The Classic Crime</td>\n",
       "      <td>2007-08-14 03:42:52</td>\n",
       "      <td>72.161.186.254</td>\n",
       "      <td>False</td>\n",
       "      <td>True</td>\n",
       "      <td>0</td>\n",
       "    </tr>\n",
       "    <tr>\n",
       "      <th>71121</th>\n",
       "      <td>Shotty</td>\n",
       "      <td>2011-03-13 23:28:18</td>\n",
       "      <td>50.46.205.192</td>\n",
       "      <td>False</td>\n",
       "      <td>True</td>\n",
       "      <td>0</td>\n",
       "    </tr>\n",
       "    <tr>\n",
       "      <th>71125</th>\n",
       "      <td>Shotty</td>\n",
       "      <td>2011-03-13 23:19:41</td>\n",
       "      <td>50.46.205.192</td>\n",
       "      <td>False</td>\n",
       "      <td>True</td>\n",
       "      <td>0</td>\n",
       "    </tr>\n",
       "    <tr>\n",
       "      <th>73217</th>\n",
       "      <td>The Pharmacy</td>\n",
       "      <td>2007-11-26 18:02:35</td>\n",
       "      <td>98.203.141.228</td>\n",
       "      <td>False</td>\n",
       "      <td>True</td>\n",
       "      <td>0</td>\n",
       "    </tr>\n",
       "  </tbody>\n",
       "</table>\n",
       "<p>62 rows × 6 columns</p>\n",
       "</div>"
      ],
      "text/plain": [
       "                   title            timestamp             user  minor   anon   \n",
       "6197      Nirvana (band)  2010-02-09 23:56:57         Bonvie94  False  False  \\\n",
       "6227      Nirvana (band)  2010-02-05 22:08:12  Aromatic hotdog  False  False   \n",
       "6719      Nirvana (band)  2009-10-20 14:23:47     67.186.47.96  False   True   \n",
       "6851      Nirvana (band)  2009-09-13 22:57:16   75.129.243.158  False   True   \n",
       "6913      Nirvana (band)  2009-09-01 00:38:42    68.28.168.245  False   True   \n",
       "...                  ...                  ...              ...    ...    ...   \n",
       "68485  The Classic Crime  2018-10-31 08:44:00      1.152.111.6  False   True   \n",
       "69337  The Classic Crime  2007-08-14 03:42:52   72.161.186.254  False   True   \n",
       "71121             Shotty  2011-03-13 23:28:18    50.46.205.192  False   True   \n",
       "71125             Shotty  2011-03-13 23:19:41    50.46.205.192  False   True   \n",
       "73217       The Pharmacy  2007-11-26 18:02:35   98.203.141.228  False   True   \n",
       "\n",
       "       size  \n",
       "6197      0  \n",
       "6227      0  \n",
       "6719      0  \n",
       "6851      0  \n",
       "6913      0  \n",
       "...     ...  \n",
       "68485     0  \n",
       "69337     0  \n",
       "71121     0  \n",
       "71125     0  \n",
       "73217     0  \n",
       "\n",
       "[62 rows x 6 columns]"
      ]
     },
     "execution_count": 38,
     "metadata": {},
     "output_type": "execute_result"
    }
   ],
   "source": [
    "rockband_revs[rockband_revs[\"size\"] == 0]"
   ]
  },
  {
   "cell_type": "code",
   "execution_count": 39,
   "id": "fa172273",
   "metadata": {},
   "outputs": [],
   "source": [
    "blanked_revs = rockband_revs[rockband_revs[\"size\"] == 0]"
   ]
  },
  {
   "cell_type": "code",
   "execution_count": 40,
   "id": "b22a05ce",
   "metadata": {},
   "outputs": [
    {
     "data": {
      "text/plain": [
       "anon\n",
       "True     48\n",
       "False    14\n",
       "Name: count, dtype: int64"
      ]
     },
     "execution_count": 40,
     "metadata": {},
     "output_type": "execute_result"
    }
   ],
   "source": [
    "blanked_revs[\"anon\"].value_counts()"
   ]
  },
  {
   "cell_type": "code",
   "execution_count": 41,
   "id": "8bb7c9ae",
   "metadata": {},
   "outputs": [
    {
     "data": {
      "text/html": [
       "<div>\n",
       "<style scoped>\n",
       "    .dataframe tbody tr th:only-of-type {\n",
       "        vertical-align: middle;\n",
       "    }\n",
       "\n",
       "    .dataframe tbody tr th {\n",
       "        vertical-align: top;\n",
       "    }\n",
       "\n",
       "    .dataframe thead th {\n",
       "        text-align: right;\n",
       "    }\n",
       "</style>\n",
       "<table border=\"1\" class=\"dataframe\">\n",
       "  <thead>\n",
       "    <tr style=\"text-align: right;\">\n",
       "      <th></th>\n",
       "      <th>title</th>\n",
       "      <th>timestamp</th>\n",
       "      <th>user</th>\n",
       "      <th>minor</th>\n",
       "      <th>anon</th>\n",
       "      <th>size</th>\n",
       "    </tr>\n",
       "  </thead>\n",
       "  <tbody>\n",
       "    <tr>\n",
       "      <th>0</th>\n",
       "      <td>Nirvana (band)</td>\n",
       "      <td>2023-04-27 02:30:06</td>\n",
       "      <td>Sepguilherme</td>\n",
       "      <td>True</td>\n",
       "      <td>False</td>\n",
       "      <td>92419</td>\n",
       "    </tr>\n",
       "    <tr>\n",
       "      <th>1</th>\n",
       "      <td>Nirvana (band)</td>\n",
       "      <td>2023-04-18 06:20:57</td>\n",
       "      <td>Majash2020</td>\n",
       "      <td>True</td>\n",
       "      <td>False</td>\n",
       "      <td>92417</td>\n",
       "    </tr>\n",
       "    <tr>\n",
       "      <th>2</th>\n",
       "      <td>Nirvana (band)</td>\n",
       "      <td>2023-03-27 17:45:26</td>\n",
       "      <td>BoxxyBoy</td>\n",
       "      <td>False</td>\n",
       "      <td>False</td>\n",
       "      <td>92840</td>\n",
       "    </tr>\n",
       "    <tr>\n",
       "      <th>3</th>\n",
       "      <td>Nirvana (band)</td>\n",
       "      <td>2023-03-25 17:38:53</td>\n",
       "      <td>Popcornfud</td>\n",
       "      <td>False</td>\n",
       "      <td>False</td>\n",
       "      <td>92900</td>\n",
       "    </tr>\n",
       "    <tr>\n",
       "      <th>4</th>\n",
       "      <td>Nirvana (band)</td>\n",
       "      <td>2023-03-25 17:38:04</td>\n",
       "      <td>Popcornfud</td>\n",
       "      <td>False</td>\n",
       "      <td>False</td>\n",
       "      <td>92914</td>\n",
       "    </tr>\n",
       "    <tr>\n",
       "      <th>...</th>\n",
       "      <td>...</td>\n",
       "      <td>...</td>\n",
       "      <td>...</td>\n",
       "      <td>...</td>\n",
       "      <td>...</td>\n",
       "      <td>...</td>\n",
       "    </tr>\n",
       "    <tr>\n",
       "      <th>13653</th>\n",
       "      <td>Nirvana (band)</td>\n",
       "      <td>2002-02-23 00:43:21</td>\n",
       "      <td>Conversion script</td>\n",
       "      <td>True</td>\n",
       "      <td>False</td>\n",
       "      <td>1935</td>\n",
       "    </tr>\n",
       "    <tr>\n",
       "      <th>13654</th>\n",
       "      <td>Nirvana (band)</td>\n",
       "      <td>2001-10-08 18:11:05</td>\n",
       "      <td>Verloren</td>\n",
       "      <td>True</td>\n",
       "      <td>False</td>\n",
       "      <td>1838</td>\n",
       "    </tr>\n",
       "    <tr>\n",
       "      <th>13655</th>\n",
       "      <td>Nirvana (band)</td>\n",
       "      <td>2001-10-03 02:39:42</td>\n",
       "      <td>61.9.128.xxx</td>\n",
       "      <td>False</td>\n",
       "      <td>True</td>\n",
       "      <td>1846</td>\n",
       "    </tr>\n",
       "    <tr>\n",
       "      <th>13656</th>\n",
       "      <td>Nirvana (band)</td>\n",
       "      <td>2001-09-29 13:19:49</td>\n",
       "      <td>Css</td>\n",
       "      <td>True</td>\n",
       "      <td>False</td>\n",
       "      <td>1815</td>\n",
       "    </tr>\n",
       "    <tr>\n",
       "      <th>13657</th>\n",
       "      <td>Nirvana (band)</td>\n",
       "      <td>2001-04-22 22:43:19</td>\n",
       "      <td>Neeklamy</td>\n",
       "      <td>False</td>\n",
       "      <td>False</td>\n",
       "      <td>1403</td>\n",
       "    </tr>\n",
       "  </tbody>\n",
       "</table>\n",
       "<p>13658 rows × 6 columns</p>\n",
       "</div>"
      ],
      "text/plain": [
       "                title            timestamp               user  minor   anon   \n",
       "0      Nirvana (band)  2023-04-27 02:30:06       Sepguilherme   True  False  \\\n",
       "1      Nirvana (band)  2023-04-18 06:20:57         Majash2020   True  False   \n",
       "2      Nirvana (band)  2023-03-27 17:45:26           BoxxyBoy  False  False   \n",
       "3      Nirvana (band)  2023-03-25 17:38:53         Popcornfud  False  False   \n",
       "4      Nirvana (band)  2023-03-25 17:38:04         Popcornfud  False  False   \n",
       "...               ...                  ...                ...    ...    ...   \n",
       "13653  Nirvana (band)  2002-02-23 00:43:21  Conversion script   True  False   \n",
       "13654  Nirvana (band)  2001-10-08 18:11:05           Verloren   True  False   \n",
       "13655  Nirvana (band)  2001-10-03 02:39:42       61.9.128.xxx  False   True   \n",
       "13656  Nirvana (band)  2001-09-29 13:19:49                Css   True  False   \n",
       "13657  Nirvana (band)  2001-04-22 22:43:19           Neeklamy  False  False   \n",
       "\n",
       "        size  \n",
       "0      92419  \n",
       "1      92417  \n",
       "2      92840  \n",
       "3      92900  \n",
       "4      92914  \n",
       "...      ...  \n",
       "13653   1935  \n",
       "13654   1838  \n",
       "13655   1846  \n",
       "13656   1815  \n",
       "13657   1403  \n",
       "\n",
       "[13658 rows x 6 columns]"
      ]
     },
     "execution_count": 41,
     "metadata": {},
     "output_type": "execute_result"
    }
   ],
   "source": [
    "rockband_revs[rockband_revs[\"title\"] == \"Nirvana (band)\"]"
   ]
  },
  {
   "cell_type": "code",
   "execution_count": 42,
   "id": "9087f9e9",
   "metadata": {},
   "outputs": [
    {
     "data": {
      "text/plain": [
       "title\n",
       "764-HERO                     7021.047619\n",
       "A Gun That Shoots Knives     1845.388889\n",
       "Aqueduct (band)              2506.848837\n",
       "Band of Horses              16415.437001\n",
       "Bangs (band)                 3378.494253\n",
       "                                ...     \n",
       "Versing                      3126.333333\n",
       "Voyager One (band)           3337.830986\n",
       "Waxwing (band)               4338.166667\n",
       "Wellwater Conspiracy         4447.013274\n",
       "Western State Hurricanes     4943.683168\n",
       "Name: size, Length: 155, dtype: float64"
      ]
     },
     "execution_count": 42,
     "metadata": {},
     "output_type": "execute_result"
    }
   ],
   "source": [
    "rockband_revs.groupby(\"title\")[\"size\"].mean()"
   ]
  },
  {
   "cell_type": "code",
   "execution_count": 43,
   "id": "a5a70147",
   "metadata": {},
   "outputs": [
    {
     "data": {
      "text/plain": [
       "title\n",
       "764-HERO                      884652\n",
       "A Gun That Shoots Knives       66434\n",
       "Aqueduct (band)               215589\n",
       "Band of Horses              26707916\n",
       "Bangs (band)                  293929\n",
       "                              ...   \n",
       "Versing                         9379\n",
       "Voyager One (band)            236986\n",
       "Waxwing (band)                338377\n",
       "Wellwater Conspiracy         1005025\n",
       "Western State Hurricanes      499312\n",
       "Name: size, Length: 155, dtype: int64"
      ]
     },
     "execution_count": 43,
     "metadata": {},
     "output_type": "execute_result"
    }
   ],
   "source": [
    "rockband_revs.groupby(\"title\")[\"size\"].sum()"
   ]
  },
  {
   "cell_type": "code",
   "execution_count": 44,
   "id": "fbcab60e",
   "metadata": {},
   "outputs": [
    {
     "data": {
      "text/plain": [
       "title\n",
       "764-HERO                     126\n",
       "A Gun That Shoots Knives      36\n",
       "Aqueduct (band)               86\n",
       "Band of Horses              1627\n",
       "Bangs (band)                  87\n",
       "                            ... \n",
       "Versing                        3\n",
       "Voyager One (band)            71\n",
       "Waxwing (band)                78\n",
       "Wellwater Conspiracy         226\n",
       "Western State Hurricanes     101\n",
       "Name: size, Length: 155, dtype: int64"
      ]
     },
     "execution_count": 44,
     "metadata": {},
     "output_type": "execute_result"
    }
   ],
   "source": [
    "rockband_revs.groupby(\"title\")[\"size\"].count()"
   ]
  },
  {
   "cell_type": "code",
   "execution_count": 45,
   "id": "e18009ee",
   "metadata": {},
   "outputs": [],
   "source": [
    "rockband_articles = pd.DataFrame({'num_revisions' : rockband_revs.groupby(\"title\")[\"size\"].count(),\n",
    "                                  'avg_size' : rockband_revs.groupby(\"title\")[\"size\"].mean()})"
   ]
  },
  {
   "cell_type": "code",
   "execution_count": 46,
   "id": "acc3db9c",
   "metadata": {},
   "outputs": [
    {
     "data": {
      "text/html": [
       "<div>\n",
       "<style scoped>\n",
       "    .dataframe tbody tr th:only-of-type {\n",
       "        vertical-align: middle;\n",
       "    }\n",
       "\n",
       "    .dataframe tbody tr th {\n",
       "        vertical-align: top;\n",
       "    }\n",
       "\n",
       "    .dataframe thead th {\n",
       "        text-align: right;\n",
       "    }\n",
       "</style>\n",
       "<table border=\"1\" class=\"dataframe\">\n",
       "  <thead>\n",
       "    <tr style=\"text-align: right;\">\n",
       "      <th></th>\n",
       "      <th>num_revisions</th>\n",
       "      <th>avg_size</th>\n",
       "    </tr>\n",
       "    <tr>\n",
       "      <th>title</th>\n",
       "      <th></th>\n",
       "      <th></th>\n",
       "    </tr>\n",
       "  </thead>\n",
       "  <tbody>\n",
       "    <tr>\n",
       "      <th>764-HERO</th>\n",
       "      <td>126</td>\n",
       "      <td>7021.047619</td>\n",
       "    </tr>\n",
       "    <tr>\n",
       "      <th>A Gun That Shoots Knives</th>\n",
       "      <td>36</td>\n",
       "      <td>1845.388889</td>\n",
       "    </tr>\n",
       "    <tr>\n",
       "      <th>Aqueduct (band)</th>\n",
       "      <td>86</td>\n",
       "      <td>2506.848837</td>\n",
       "    </tr>\n",
       "    <tr>\n",
       "      <th>Band of Horses</th>\n",
       "      <td>1627</td>\n",
       "      <td>16415.437001</td>\n",
       "    </tr>\n",
       "    <tr>\n",
       "      <th>Bangs (band)</th>\n",
       "      <td>87</td>\n",
       "      <td>3378.494253</td>\n",
       "    </tr>\n",
       "    <tr>\n",
       "      <th>...</th>\n",
       "      <td>...</td>\n",
       "      <td>...</td>\n",
       "    </tr>\n",
       "    <tr>\n",
       "      <th>Versing</th>\n",
       "      <td>3</td>\n",
       "      <td>3126.333333</td>\n",
       "    </tr>\n",
       "    <tr>\n",
       "      <th>Voyager One (band)</th>\n",
       "      <td>71</td>\n",
       "      <td>3337.830986</td>\n",
       "    </tr>\n",
       "    <tr>\n",
       "      <th>Waxwing (band)</th>\n",
       "      <td>78</td>\n",
       "      <td>4338.166667</td>\n",
       "    </tr>\n",
       "    <tr>\n",
       "      <th>Wellwater Conspiracy</th>\n",
       "      <td>226</td>\n",
       "      <td>4447.013274</td>\n",
       "    </tr>\n",
       "    <tr>\n",
       "      <th>Western State Hurricanes</th>\n",
       "      <td>101</td>\n",
       "      <td>4943.683168</td>\n",
       "    </tr>\n",
       "  </tbody>\n",
       "</table>\n",
       "<p>155 rows × 2 columns</p>\n",
       "</div>"
      ],
      "text/plain": [
       "                          num_revisions      avg_size\n",
       "title                                                \n",
       "764-HERO                            126   7021.047619\n",
       "A Gun That Shoots Knives             36   1845.388889\n",
       "Aqueduct (band)                      86   2506.848837\n",
       "Band of Horses                     1627  16415.437001\n",
       "Bangs (band)                         87   3378.494253\n",
       "...                                 ...           ...\n",
       "Versing                               3   3126.333333\n",
       "Voyager One (band)                   71   3337.830986\n",
       "Waxwing (band)                       78   4338.166667\n",
       "Wellwater Conspiracy                226   4447.013274\n",
       "Western State Hurricanes            101   4943.683168\n",
       "\n",
       "[155 rows x 2 columns]"
      ]
     },
     "execution_count": 46,
     "metadata": {},
     "output_type": "execute_result"
    }
   ],
   "source": [
    "rockband_articles"
   ]
  },
  {
   "cell_type": "code",
   "execution_count": 47,
   "id": "66443518",
   "metadata": {},
   "outputs": [
    {
     "data": {
      "text/plain": [
       "'2023-04-27 02:30:06'"
      ]
     },
     "execution_count": 47,
     "metadata": {},
     "output_type": "execute_result"
    }
   ],
   "source": [
    "rockband_revs[\"timestamp\"][0]"
   ]
  },
  {
   "cell_type": "code",
   "execution_count": 48,
   "id": "9f263c35",
   "metadata": {},
   "outputs": [],
   "source": [
    "rockband_revs[\"timestamp_new\"] =  pd.to_datetime(rockband_revs[\"timestamp\"])"
   ]
  },
  {
   "cell_type": "code",
   "execution_count": 49,
   "id": "fc2d74ed",
   "metadata": {},
   "outputs": [
    {
     "data": {
      "text/html": [
       "<div>\n",
       "<style scoped>\n",
       "    .dataframe tbody tr th:only-of-type {\n",
       "        vertical-align: middle;\n",
       "    }\n",
       "\n",
       "    .dataframe tbody tr th {\n",
       "        vertical-align: top;\n",
       "    }\n",
       "\n",
       "    .dataframe thead th {\n",
       "        text-align: right;\n",
       "    }\n",
       "</style>\n",
       "<table border=\"1\" class=\"dataframe\">\n",
       "  <thead>\n",
       "    <tr style=\"text-align: right;\">\n",
       "      <th></th>\n",
       "      <th>title</th>\n",
       "      <th>timestamp</th>\n",
       "      <th>user</th>\n",
       "      <th>minor</th>\n",
       "      <th>anon</th>\n",
       "      <th>size</th>\n",
       "      <th>timestamp_new</th>\n",
       "    </tr>\n",
       "  </thead>\n",
       "  <tbody>\n",
       "    <tr>\n",
       "      <th>0</th>\n",
       "      <td>Nirvana (band)</td>\n",
       "      <td>2023-04-27 02:30:06</td>\n",
       "      <td>Sepguilherme</td>\n",
       "      <td>True</td>\n",
       "      <td>False</td>\n",
       "      <td>92419</td>\n",
       "      <td>2023-04-27 02:30:06</td>\n",
       "    </tr>\n",
       "    <tr>\n",
       "      <th>1</th>\n",
       "      <td>Nirvana (band)</td>\n",
       "      <td>2023-04-18 06:20:57</td>\n",
       "      <td>Majash2020</td>\n",
       "      <td>True</td>\n",
       "      <td>False</td>\n",
       "      <td>92417</td>\n",
       "      <td>2023-04-18 06:20:57</td>\n",
       "    </tr>\n",
       "    <tr>\n",
       "      <th>2</th>\n",
       "      <td>Nirvana (band)</td>\n",
       "      <td>2023-03-27 17:45:26</td>\n",
       "      <td>BoxxyBoy</td>\n",
       "      <td>False</td>\n",
       "      <td>False</td>\n",
       "      <td>92840</td>\n",
       "      <td>2023-03-27 17:45:26</td>\n",
       "    </tr>\n",
       "    <tr>\n",
       "      <th>3</th>\n",
       "      <td>Nirvana (band)</td>\n",
       "      <td>2023-03-25 17:38:53</td>\n",
       "      <td>Popcornfud</td>\n",
       "      <td>False</td>\n",
       "      <td>False</td>\n",
       "      <td>92900</td>\n",
       "      <td>2023-03-25 17:38:53</td>\n",
       "    </tr>\n",
       "    <tr>\n",
       "      <th>4</th>\n",
       "      <td>Nirvana (band)</td>\n",
       "      <td>2023-03-25 17:38:04</td>\n",
       "      <td>Popcornfud</td>\n",
       "      <td>False</td>\n",
       "      <td>False</td>\n",
       "      <td>92914</td>\n",
       "      <td>2023-03-25 17:38:04</td>\n",
       "    </tr>\n",
       "    <tr>\n",
       "      <th>...</th>\n",
       "      <td>...</td>\n",
       "      <td>...</td>\n",
       "      <td>...</td>\n",
       "      <td>...</td>\n",
       "      <td>...</td>\n",
       "      <td>...</td>\n",
       "      <td>...</td>\n",
       "    </tr>\n",
       "    <tr>\n",
       "      <th>78863</th>\n",
       "      <td>Gun Outfit</td>\n",
       "      <td>2022-11-14 21:21:05</td>\n",
       "      <td>67.87.161.113</td>\n",
       "      <td>False</td>\n",
       "      <td>True</td>\n",
       "      <td>5373</td>\n",
       "      <td>2022-11-14 21:21:05</td>\n",
       "    </tr>\n",
       "    <tr>\n",
       "      <th>78864</th>\n",
       "      <td>Gun Outfit</td>\n",
       "      <td>2021-11-10 11:27:09</td>\n",
       "      <td>Seemaba</td>\n",
       "      <td>False</td>\n",
       "      <td>False</td>\n",
       "      <td>5373</td>\n",
       "      <td>2021-11-10 11:27:09</td>\n",
       "    </tr>\n",
       "    <tr>\n",
       "      <th>78865</th>\n",
       "      <td>Gun Outfit</td>\n",
       "      <td>2021-04-16 14:53:51</td>\n",
       "      <td>Lewishhh</td>\n",
       "      <td>False</td>\n",
       "      <td>False</td>\n",
       "      <td>5369</td>\n",
       "      <td>2021-04-16 14:53:51</td>\n",
       "    </tr>\n",
       "    <tr>\n",
       "      <th>78866</th>\n",
       "      <td>Gun Outfit</td>\n",
       "      <td>2021-04-16 14:48:21</td>\n",
       "      <td>Lewishhh</td>\n",
       "      <td>False</td>\n",
       "      <td>False</td>\n",
       "      <td>5252</td>\n",
       "      <td>2021-04-16 14:48:21</td>\n",
       "    </tr>\n",
       "    <tr>\n",
       "      <th>78867</th>\n",
       "      <td>Gun Outfit</td>\n",
       "      <td>2021-04-16 14:46:35</td>\n",
       "      <td>Lewishhh</td>\n",
       "      <td>False</td>\n",
       "      <td>False</td>\n",
       "      <td>5248</td>\n",
       "      <td>2021-04-16 14:46:35</td>\n",
       "    </tr>\n",
       "  </tbody>\n",
       "</table>\n",
       "<p>78868 rows × 7 columns</p>\n",
       "</div>"
      ],
      "text/plain": [
       "                title            timestamp           user  minor   anon   \n",
       "0      Nirvana (band)  2023-04-27 02:30:06   Sepguilherme   True  False  \\\n",
       "1      Nirvana (band)  2023-04-18 06:20:57     Majash2020   True  False   \n",
       "2      Nirvana (band)  2023-03-27 17:45:26       BoxxyBoy  False  False   \n",
       "3      Nirvana (band)  2023-03-25 17:38:53     Popcornfud  False  False   \n",
       "4      Nirvana (band)  2023-03-25 17:38:04     Popcornfud  False  False   \n",
       "...               ...                  ...            ...    ...    ...   \n",
       "78863      Gun Outfit  2022-11-14 21:21:05  67.87.161.113  False   True   \n",
       "78864      Gun Outfit  2021-11-10 11:27:09        Seemaba  False  False   \n",
       "78865      Gun Outfit  2021-04-16 14:53:51       Lewishhh  False  False   \n",
       "78866      Gun Outfit  2021-04-16 14:48:21       Lewishhh  False  False   \n",
       "78867      Gun Outfit  2021-04-16 14:46:35       Lewishhh  False  False   \n",
       "\n",
       "        size       timestamp_new  \n",
       "0      92419 2023-04-27 02:30:06  \n",
       "1      92417 2023-04-18 06:20:57  \n",
       "2      92840 2023-03-27 17:45:26  \n",
       "3      92900 2023-03-25 17:38:53  \n",
       "4      92914 2023-03-25 17:38:04  \n",
       "...      ...                 ...  \n",
       "78863   5373 2022-11-14 21:21:05  \n",
       "78864   5373 2021-11-10 11:27:09  \n",
       "78865   5369 2021-04-16 14:53:51  \n",
       "78866   5252 2021-04-16 14:48:21  \n",
       "78867   5248 2021-04-16 14:46:35  \n",
       "\n",
       "[78868 rows x 7 columns]"
      ]
     },
     "execution_count": 49,
     "metadata": {},
     "output_type": "execute_result"
    }
   ],
   "source": [
    "rockband_revs"
   ]
  },
  {
   "cell_type": "code",
   "execution_count": 50,
   "id": "0832912e",
   "metadata": {},
   "outputs": [
    {
     "data": {
      "text/plain": [
       "'Thursday'"
      ]
     },
     "execution_count": 50,
     "metadata": {},
     "output_type": "execute_result"
    }
   ],
   "source": [
    "rockband_revs[\"timestamp_new\"][0].day_name()"
   ]
  },
  {
   "cell_type": "code",
   "execution_count": 51,
   "id": "79b3afa2",
   "metadata": {},
   "outputs": [
    {
     "data": {
      "text/plain": [
       "Timedelta('8 days 20:09:09')"
      ]
     },
     "execution_count": 51,
     "metadata": {},
     "output_type": "execute_result"
    }
   ],
   "source": [
    "rockband_revs[\"timestamp_new\"][0] - rockband_revs[\"timestamp_new\"][1]"
   ]
  },
  {
   "cell_type": "code",
   "execution_count": 52,
   "id": "a3efe4a8",
   "metadata": {},
   "outputs": [
    {
     "data": {
      "text/plain": [
       "<Axes: xlabel='timestamp_new'>"
      ]
     },
     "execution_count": 52,
     "metadata": {},
     "output_type": "execute_result"
    },
    {
     "data": {
      "image/png": "[encoded data removed]",
      "text/plain": [
       "<Figure size 640x480 with 1 Axes>"
      ]
     },
     "metadata": {},
     "output_type": "display_data"
    }
   ],
   "source": [
    "rockband_revs[rockband_revs[\"title\"] == \"Nirvana (band)\"].plot(x=\"timestamp_new\", y=\"size\")"
   ]
  },
  {
   "cell_type": "code",
   "execution_count": 53,
   "id": "4725f914",
   "metadata": {},
   "outputs": [],
   "source": [
    "rockband_ts = rockband_revs[\"title\"]"
   ]
  },
  {
   "cell_type": "code",
   "execution_count": 54,
   "id": "0d22fc1b",
   "metadata": {},
   "outputs": [],
   "source": [
    "rockband_ts.index = rockband_revs[\"timestamp_new\"]"
   ]
  },
  {
   "cell_type": "code",
   "execution_count": 55,
   "id": "ef20a2a4",
   "metadata": {},
   "outputs": [
    {
     "data": {
      "text/plain": [
       "timestamp_new\n",
       "2001-04-22    1\n",
       "2001-04-23    0\n",
       "2001-04-24    0\n",
       "2001-04-25    0\n",
       "2001-04-26    0\n",
       "             ..\n",
       "2023-04-30    2\n",
       "2023-05-01    2\n",
       "2023-05-02    2\n",
       "2023-05-03    2\n",
       "2023-05-04    1\n",
       "Freq: D, Name: title, Length: 8048, dtype: int64"
      ]
     },
     "execution_count": 55,
     "metadata": {},
     "output_type": "execute_result"
    }
   ],
   "source": [
    "rockband_ts.resample(\"1D\").count()"
   ]
  },
  {
   "cell_type": "code",
   "execution_count": 56,
   "id": "d876b01b",
   "metadata": {},
   "outputs": [
    {
     "data": {
      "text/plain": [
       "<Axes: xlabel='timestamp_new'>"
      ]
     },
     "execution_count": 56,
     "metadata": {},
     "output_type": "execute_result"
    },
    {
     "data": {
      "image/png": "[encoded data removed]",
      "text/plain": [
       "<Figure size 640x480 with 1 Axes>"
      ]
     },
     "metadata": {},
     "output_type": "display_data"
    }
   ],
   "source": [
    "rockband_ts.resample(\"7D\").count().plot()"
   ]
  }
 ],
 "metadata": {
  "kernelspec": {
   "display_name": "Python 3 (ipykernel)",
   "language": "python",
   "name": "python3"
  },
  "language_info": {
   "codemirror_mode": {
    "name": "ipython",
    "version": 3
   },
   "file_extension": ".py",
   "mimetype": "text/x-python",
   "name": "python",
   "nbconvert_exporter": "python",
   "pygments_lexer": "ipython3",
   "version": "3.11.2"
  }
 },
 "nbformat": 4,
 "nbformat_minor": 5
}
