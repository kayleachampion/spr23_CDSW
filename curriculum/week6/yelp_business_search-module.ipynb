{
 "cells": [
  {
   "cell_type": "code",
   "execution_count": 1,
   "id": "1159b2ec",
   "metadata": {},
   "outputs": [],
   "source": [
    "# in this case, we only need to import one things from the yelp api package\n",
    "# if you have not installed it, remember you need to do so with %run pip install yelpapi\n",
    "# details on the API package are online here: \n",
    "#   1: https://github.com/lanl/yelpapi\n",
    "#   2: https://pypi.org/project/yelpapi/\n",
    "from yelpapi import YelpAPI"
   ]
  },
  {
   "cell_type": "code",
   "execution_count": 2,
   "id": "a220cd3a",
   "metadata": {},
   "outputs": [],
   "source": [
    "# now we need to import the APIKEY\n",
    "from yelp_authentication import APIKEY"
   ]
  },
  {
   "cell_type": "code",
   "execution_count": 3,
   "id": "89d88430",
   "metadata": {},
   "outputs": [],
   "source": [
    "# this is same the code as before, but just converted to python arguments!\n",
    "with YelpAPI(APIKEY) as yelp_api:\n",
    "    search_results = yelp_api.search_query(term='pasta',\n",
    "                    limit=50, radius=10000, location = 'Seattle')"
   ]
  },
  {
   "cell_type": "code",
   "execution_count": 4,
   "id": "fa7ddb62",
   "metadata": {},
   "outputs": [
    {
     "name": "stdout",
     "output_type": "stream",
     "text": [
      "Due' Cucina Italiana - Capitol Hill's rating is 4.5\n",
      "The Pink Door's rating is 4.5\n",
      "Pasta Casalinga's rating is 4.5\n",
      "Cascina Spinasse's rating is 4.5\n",
      "Ristorante Machiavelli's rating is 4.0\n",
      "Tavolàta's rating is 4.0\n",
      "G.H. Pasta Co.'s rating is 4.5\n",
      "Cortina's rating is 4.0\n",
      "Tavolàta - Capitol Hill's rating is 4.0\n",
      "Brunello Ristorante's rating is 4.5\n",
      "Il Nido's rating is 4.5\n",
      "Barolo Ristorante's rating is 4.0\n",
      "Stella's rating is 4.0\n",
      "Il Terrazzo Carmine's rating is 4.5\n",
      "Bar Cotto's rating is 4.5\n",
      "Assaggio Ristorante's rating is 4.0\n",
      "Mamma Melina Ristorante + Pizzeria's rating is 4.0\n",
      "La Vita E Bella's rating is 4.0\n",
      "Lupo's rating is 4.5\n",
      "Pizza and Pasta Bar's rating is 4.0\n",
      "How To Cook a Wolf's rating is 4.0\n",
      "Artusi's rating is 4.0\n",
      "Mioposto's rating is 4.0\n",
      "Fiasco's rating is 4.0\n",
      "Carrello's rating is 4.0\n",
      "84 Yesler's rating is 4.5\n",
      "That's Amore! Italian Cafe's rating is 4.5\n",
      "Bar Del Corso's rating is 4.0\n",
      "La Pasta's rating is 5.0\n",
      "Grappa's rating is 4.0\n",
      "Cinque Terre Ristorante's rating is 4.0\n",
      "Dué Cucina Italiana - Roosevelt's rating is 4.0\n",
      "Rione XIII's rating is 4.0\n",
      "Di Fiora's rating is 4.5\n",
      "Salumi Artisan Cured Meats's rating is 4.5\n",
      "Rapport's rating is 4.0\n",
      "La Pasta's rating is 5.0\n",
      "San Fermo's rating is 4.0\n",
      "Little Lago's rating is 4.5\n",
      "Piatti's rating is 3.5\n",
      "Bizzarro Italian Cafe's rating is 4.0\n",
      "Luigi’s Italian Eatery's rating is 4.0\n",
      "Rocco's's rating is 4.0\n",
      "Mezzanotte's rating is 4.0\n",
      "Purple Café and Wine Bar's rating is 4.0\n",
      "Serious Pie Downtown's rating is 4.0\n",
      "Mioposto's rating is 4.0\n",
      "La Fontana Siciliana's rating is 4.0\n",
      "Mioposto's rating is 4.0\n",
      "Pizzeria La Rocca's rating is 4.5\n"
     ]
    }
   ],
   "source": [
    "# once again... For each business, print \"STORENAME's rating is RATING\" using \"id\" and \"rating\" of each business from above\n",
    "for business in search_results[\"businesses\"]:\n",
    "    print(f\"{business['name']}\\'s rating is {business['rating']}\")"
   ]
  },
  {
   "cell_type": "code",
   "execution_count": 5,
   "id": "88e5c716",
   "metadata": {},
   "outputs": [],
   "source": [
    "yelp_api.close()"
   ]
  }
 ],
 "metadata": {
  "kernelspec": {
   "display_name": "Python 3 (ipykernel)",
   "language": "python",
   "name": "python3"
  },
  "language_info": {
   "codemirror_mode": {
    "name": "ipython",
    "version": 3
   },
   "file_extension": ".py",
   "mimetype": "text/x-python",
   "name": "python",
   "nbconvert_exporter": "python",
   "pygments_lexer": "ipython3",
   "version": "3.11.2"
  }
 },
 "nbformat": 4,
 "nbformat_minor": 5
}
