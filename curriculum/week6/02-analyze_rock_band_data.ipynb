{
 "cells": [
  {
   "cell_type": "code",
   "execution_count": 1,
   "id": "3b74ec9f",
   "metadata": {},
   "outputs": [],
   "source": [
    "import json"
   ]
  },
  {
   "cell_type": "code",
   "execution_count": 2,
   "id": "c19e8c0a",
   "metadata": {},
   "outputs": [],
   "source": [
    "revisions = []\n",
    "\n",
    "with open(\"rock_band_wp_revisions.jsonl\", 'r') as input_file:\n",
    "    for line in input_file.readlines():\n",
    "        api_answer = json.loads(line)\n",
    "        \n",
    "        # get the list of pages from the json object\n",
    "        pages = api_answer[\"query\"][\"pages\"]\n",
    "\n",
    "        # for every page, (there should always be only one) get its revisions:\n",
    "        for page_id in pages.keys():\n",
    "            query_revisions = pages[page_id][\"revisions\"]\n",
    "            title = pages[page_id]['title']\n",
    "\n",
    "            # for every revision, first we do some cleaning up\n",
    "            for rev in query_revisions:\n",
    "                #print(rev)\n",
    "                # let's continue/skip this revision if the user is hidden\n",
    "                if \"userhidden\" in rev.keys():\n",
    "                    continue\n",
    "                \n",
    "                # 1: add a title field for the article because we're going to mix them together\n",
    "                rev[\"title\"] = title\n",
    "\n",
    "                # 2: let's \"recode\" anon so it's true or false instead of present/missing\n",
    "                if \"anon\" in rev.keys():\n",
    "                    rev[\"anon\"] = True\n",
    "                else:\n",
    "                    rev[\"anon\"] = False\n",
    "\n",
    "                # 3: let's recode \"minor\" in the same way\n",
    "                if \"minor\" in rev.keys():\n",
    "                    rev[\"minor\"] = True\n",
    "                else:\n",
    "                    rev[\"minor\"] = False\n",
    "\n",
    "                # we're going to change the timestamp to make it work a little better in excel/spreadsheets\n",
    "                rev[\"timestamp\"] = rev[\"timestamp\"].replace(\"T\", \" \")\n",
    "                rev[\"timestamp\"] = rev[\"timestamp\"].replace(\"Z\", \"\")\n",
    "\n",
    "                # finally, save the revisions we've seen to a varaible\n",
    "                revisions.append(rev)"
   ]
  },
  {
   "cell_type": "code",
   "execution_count": 3,
   "id": "947a8401",
   "metadata": {},
   "outputs": [
    {
     "data": {
      "text/plain": [
       "78864"
      ]
     },
     "execution_count": 3,
     "metadata": {},
     "output_type": "execute_result"
    }
   ],
   "source": [
    "num_edits = len(revisions)\n",
    "num_edits"
   ]
  },
  {
   "cell_type": "code",
   "execution_count": 4,
   "id": "55a5f1ba",
   "metadata": {},
   "outputs": [
    {
     "name": "stdout",
     "output_type": "stream",
     "text": [
      "total edits: 78864\n",
      "anon edits: 30668\n",
      "proportion anon: 0.38887198214648\n"
     ]
    }
   ],
   "source": [
    "# count the number of anonymous edits \n",
    "num_anon = 0\n",
    "\n",
    "for rev in revisions:\n",
    "    if rev[\"anon\"]:\n",
    "        num_anon = num_anon + 1\n",
    "\n",
    "prop_anon = num_anon / num_edits\n",
    "\n",
    "print(f\"total edits: {num_edits}\")\n",
    "print(f\"anon edits: {num_anon}\")\n",
    "print(f\"proportion anon: {prop_anon}\")"
   ]
  },
  {
   "cell_type": "code",
   "execution_count": 5,
   "id": "792de8fc",
   "metadata": {},
   "outputs": [],
   "source": [
    "# lets count the number of edits by day\n",
    "edits_by_day = {}\n",
    "for rev in revisions:\n",
    "    day_string = rev['timestamp'][0:10]\n",
    "\n",
    "    if day_string in edits_by_day.keys():\n",
    "        edits_by_day[day_string] = edits_by_day[day_string] + 1\n",
    "    else:\n",
    "        edits_by_day[day_string] = 1"
   ]
  },
  {
   "cell_type": "code",
   "execution_count": 6,
   "id": "4dacc583",
   "metadata": {},
   "outputs": [],
   "source": [
    "# write out a TSV file we could analyze in google docs\n",
    "with open(\"rock_bands_edits_by_day.tsv\", \"w\", encoding='utf-8') as output_file:\n",
    "    # write a header\n",
    "    print(\"date\\tedits\", file=output_file)\n",
    "\n",
    "    # iterate through every day and print out data into the file\n",
    "    for day_string in edits_by_day.keys():\n",
    "        print(\"\\t\".join([day_string, str(edits_by_day[day_string])]), file=output_file)"
   ]
  },
  {
   "cell_type": "code",
   "execution_count": 7,
   "id": "83e7b8d7",
   "metadata": {},
   "outputs": [],
   "source": [
    "# write out the rock bands full TSV if we wanted to load that up too!\n",
    "with open('rock_bands_wp_revisions.tsv', 'w', encoding='utf-8') as output_file:\n",
    "    print(\"title\\ttimestamp\\tuser\\tminor\\tanon\", file=output_file)\n",
    "    for rev in revisions:\n",
    "        print(f\"{rev['title']}\\t{rev['timestamp']}\\t{rev['user']}\\t{rev['minor']}\\t{rev['anon']}\", file=output_file)"
   ]
  }
 ],
 "metadata": {
  "kernelspec": {
   "display_name": "Python 3 (ipykernel)",
   "language": "python",
   "name": "python3"
  },
  "language_info": {
   "codemirror_mode": {
    "name": "ipython",
    "version": 3
   },
   "file_extension": ".py",
   "mimetype": "text/x-python",
   "name": "python",
   "nbconvert_exporter": "python",
   "pygments_lexer": "ipython3",
   "version": "3.11.2"
  }
 },
 "nbformat": 4,
 "nbformat_minor": 5
}
