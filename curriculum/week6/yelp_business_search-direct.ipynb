{
 "cells": [
  {
   "cell_type": "code",
   "execution_count": 1,
   "metadata": {},
   "outputs": [],
   "source": [
    "# 1. Import the modules\n",
    "import requests\n",
    "import json"
   ]
  },
  {
   "cell_type": "code",
   "execution_count": 2,
   "metadata": {},
   "outputs": [],
   "source": [
    "# and import the key form the file\n",
    "import yelp_authentication"
   ]
  },
  {
   "cell_type": "code",
   "execution_count": 3,
   "metadata": {},
   "outputs": [],
   "source": [
    "# 2. Define my API Key, my endpoint, and my header\n",
    "ENDPOINT = 'https://api.yelp.com/v3/businesses/search'\n",
    "HEADERS = {'Authorization': f\"bearer {yelp_authentication.APIKEY}\"}"
   ]
  },
  {
   "cell_type": "code",
   "execution_count": 4,
   "metadata": {},
   "outputs": [],
   "source": [
    "# 3. Define my parameters of the search\n",
    "#   In this example, we're asking for:\n",
    "#   up to 50 places ('limit') that match pasta ('term')\n",
    "#   within 10000m ('radius') of Seattle ('location').\n",
    "PARAMETERS = {'term': 'pasta',\n",
    "              'limit': 50,\n",
    "              'radius': 10000,\n",
    "              'location': 'Seattle'}\n",
    "\n",
    "# 4. Make a request to the Yelp API\n",
    "response = requests.get(url = ENDPOINT,\n",
    "                        params = PARAMETERS,\n",
    "                        headers = HEADERS)"
   ]
  },
  {
   "cell_type": "code",
   "execution_count": 5,
   "metadata": {},
   "outputs": [],
   "source": [
    "# 5. Print response\n",
    "#    Try print(response) and see what you get instead\n",
    "#    .json() converts the JSON data Yelp gives us to something more usable in Python (dictionary)\n",
    "pasta = response.json()"
   ]
  },
  {
   "cell_type": "code",
   "execution_count": 6,
   "metadata": {},
   "outputs": [
    {
     "name": "stdout",
     "output_type": "stream",
     "text": [
      "Due' Cucina Italiana - Capitol Hill's rating is 4.5\n",
      "The Pink Door's rating is 4.5\n",
      "Pasta Casalinga's rating is 4.5\n",
      "Cascina Spinasse's rating is 4.5\n",
      "Ristorante Machiavelli's rating is 4.0\n",
      "Tavolàta's rating is 4.0\n",
      "G.H. Pasta Co.'s rating is 4.5\n",
      "Cortina's rating is 4.0\n",
      "Tavolàta - Capitol Hill's rating is 4.0\n",
      "Brunello Ristorante's rating is 4.5\n",
      "Il Nido's rating is 4.5\n",
      "Barolo Ristorante's rating is 4.0\n",
      "Stella's rating is 4.0\n",
      "Il Terrazzo Carmine's rating is 4.5\n",
      "Bar Cotto's rating is 4.5\n",
      "Assaggio Ristorante's rating is 4.0\n",
      "Mamma Melina Ristorante + Pizzeria's rating is 4.0\n",
      "La Vita E Bella's rating is 4.0\n",
      "Lupo's rating is 4.5\n",
      "Pizza and Pasta Bar's rating is 4.0\n",
      "How To Cook a Wolf's rating is 4.0\n",
      "Artusi's rating is 4.0\n",
      "Mioposto's rating is 4.0\n",
      "Fiasco's rating is 4.0\n",
      "Carrello's rating is 4.0\n",
      "84 Yesler's rating is 4.5\n",
      "That's Amore! Italian Cafe's rating is 4.5\n",
      "Bar Del Corso's rating is 4.0\n",
      "La Pasta's rating is 5.0\n",
      "Grappa's rating is 4.0\n",
      "Cinque Terre Ristorante's rating is 4.0\n",
      "Dué Cucina Italiana - Roosevelt's rating is 4.0\n",
      "Rione XIII's rating is 4.0\n",
      "Di Fiora's rating is 4.5\n",
      "Salumi Artisan Cured Meats's rating is 4.5\n",
      "Rapport's rating is 4.0\n",
      "La Pasta's rating is 5.0\n",
      "San Fermo's rating is 4.0\n",
      "Little Lago's rating is 4.5\n",
      "Piatti's rating is 3.5\n",
      "Bizzarro Italian Cafe's rating is 4.0\n",
      "Luigi’s Italian Eatery's rating is 4.0\n",
      "Rocco's's rating is 4.0\n",
      "Mezzanotte's rating is 4.0\n",
      "Purple Café and Wine Bar's rating is 4.0\n",
      "Serious Pie Downtown's rating is 4.0\n",
      "Mioposto's rating is 4.0\n",
      "La Fontana Siciliana's rating is 4.0\n",
      "Mioposto's rating is 4.0\n",
      "Pizzeria La Rocca's rating is 4.5\n"
     ]
    }
   ],
   "source": [
    "# 6. For each business, print \"STORENAME's rating is RATING\" using \"id\" and \"rating\" of each business from above\n",
    "for business in pasta[\"businesses\"]:\n",
    "    print(f\"{business['name']}\\'s rating is {business['rating']}\")"
   ]
  },
  {
   "cell_type": "code",
   "execution_count": 7,
   "metadata": {},
   "outputs": [
    {
     "data": {
      "text/plain": [
       "'4997.0'"
      ]
     },
     "execution_count": 7,
     "metadata": {},
     "output_type": "execute_result"
    }
   ],
   "source": [
    "# print out the http headers which is a dictionary!\n",
    "# pay attention to the \"ratelimit-remaining\" key. it's value is the number of requests \n",
    "# to the Yelp API you have left today!\n",
    "response.headers['ratelimit-remaining']"
   ]
  }
 ],
 "metadata": {
  "kernelspec": {
   "display_name": "Python 3 (ipykernel)",
   "language": "python",
   "name": "python3"
  },
  "language_info": {
   "codemirror_mode": {
    "name": "ipython",
    "version": 3
   },
   "file_extension": ".py",
   "mimetype": "text/x-python",
   "name": "python",
   "nbconvert_exporter": "python",
   "pygments_lexer": "ipython3",
   "version": "3.11.2"
  }
 },
 "nbformat": 4,
 "nbformat_minor": 4
}
