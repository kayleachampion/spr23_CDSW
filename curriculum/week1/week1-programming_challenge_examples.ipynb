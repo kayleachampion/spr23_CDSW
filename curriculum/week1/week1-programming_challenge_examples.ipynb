{
 "cells": [
  {
   "cell_type": "markdown",
   "metadata": {},
   "source": [
    "# Homework 1 -- student examples\n",
    "## 1.1 Compute the total volume"
   ]
  },
  {
   "cell_type": "markdown",
   "metadata": {},
   "source": [
    "### Starring...Lori!"
   ]
  },
  {
   "cell_type": "code",
   "execution_count": 59,
   "metadata": {},
   "outputs": [
    {
     "name": "stdout",
     "output_type": "stream",
     "text": [
      "The total volume of the shortbread is 3.75 cups.\n"
     ]
    }
   ],
   "source": [
    "##1.1 Compute the total volume\n",
    "\n",
    "cups_of_flour=2+1/4\n",
    "cups_of_sugar=1/2\n",
    "cups_of_butter=1\n",
    "\n",
    "print(\"The total volume of the shortbread is \"+str(cups_of_flour+cups_of_sugar+cups_of_butter) +\" cups.\")\n"
   ]
  },
  {
   "cell_type": "markdown",
   "metadata": {},
   "source": [
    "### Takeaways"
   ]
  },
  {
   "cell_type": "markdown",
   "metadata": {},
   "source": [
    "Common troubles: \n",
    "    - mixing variable names and \"the thing I'm assigning to the variable\"\n",
    "    - trying to print without calling print\n",
    "    - not stringifying before printing\n",
    "    - not copying the numbers quite right -- python happily re-uses the numbers we give it\n",
    "    \n",
    "Alternate approaches:\n",
    "    - assign cups_of_flour + cups_of_sugar + cups_of_butter to a variable before printing, stringify before printing\n",
    "    - fancier string printing tools in python (OK to do, but outside scope)\n",
    "        - old way: print(\"the total volume is %s cups\" % total_volume)\n",
    "        - new way: print(f\"the total volume is {total_volume}\")"
   ]
  },
  {
   "cell_type": "markdown",
   "metadata": {},
   "source": [
    "\n",
    "## 1.2 Scale it up!\n"
   ]
  },
  {
   "cell_type": "markdown",
   "metadata": {},
   "source": [
    "### Starring....Baruni!"
   ]
  },
  {
   "cell_type": "code",
   "execution_count": null,
   "metadata": {},
   "outputs": [],
   "source": [
    "volume = cups_of_flour + cups_of_sugar + cups_of_butter\n",
    "print(\"the total volume is %f \" %volume + \"cups\")"
   ]
  },
  {
   "cell_type": "code",
   "execution_count": 5,
   "metadata": {},
   "outputs": [
    {
     "name": "stdout",
     "output_type": "stream",
     "text": [
      "1.875\n"
     ]
    }
   ],
   "source": [
    "number_of_batches = 0.5\n",
    "NewVolume1 = volume*number_of_batches\n",
    "print(NewVolume1)"
   ]
  },
  {
   "cell_type": "code",
   "execution_count": 6,
   "metadata": {},
   "outputs": [
    {
     "name": "stdout",
     "output_type": "stream",
     "text": [
      "11.25\n"
     ]
    }
   ],
   "source": [
    "number_of_batches = 3\n",
    "NewVolume2 = volume*number_of_batches\n",
    "print(NewVolume2)\n"
   ]
  },
  {
   "cell_type": "code",
   "execution_count": 7,
   "metadata": {},
   "outputs": [
    {
     "name": "stdout",
     "output_type": "stream",
     "text": [
      "18.75\n"
     ]
    }
   ],
   "source": [
    "number_of_batches = 5\n",
    "NewVolume3 = volume*number_of_batches\n",
    "print(NewVolume3)"
   ]
  },
  {
   "cell_type": "markdown",
   "metadata": {},
   "source": [
    "### Common troubles\n",
    "    - Analyzing the problem: Half volume is volume/2, not number of batches / volume"
   ]
  },
  {
   "cell_type": "markdown",
   "metadata": {},
   "source": [
    "## 1.3 Will it fit in my pans?"
   ]
  },
  {
   "cell_type": "markdown",
   "metadata": {},
   "source": [
    "### Starring....Yue!"
   ]
  },
  {
   "cell_type": "code",
   "execution_count": 13,
   "metadata": {},
   "outputs": [
    {
     "name": "stdout",
     "output_type": "stream",
     "text": [
      "0.500000 total amounts above will fit in 1 pan\n"
     ]
    }
   ],
   "source": [
    "##previously defined total volume, but I'm going to re-use my variable from above:\n",
    "total_volume = volume\n",
    "\n",
    "## Yue's code starts here:\n",
    "number_of_pans = 1\n",
    "total_hold = number_of_pans * 5\n",
    "number_of_batches = 0.5\n",
    "new_total_volume = number_of_batches * total_volume\n",
    "\n",
    "if total_hold >= new_total_volume:\n",
    "    print(\"%f total amounts above will fit in %d pan\" % \n",
    "          (number_of_batches, number_of_pans))\n",
    "else:\n",
    "    print(\"%f total amounts above will not fit in %d pan\" % \n",
    "          (number_of_batches, number_of_pans))\n",
    "\n",
    "    \n",
    "## What I like about Yue's code is that once the variables are assigned in lines 5-7,\n",
    "## we can read the rest as logical language\n",
    "## \n",
    "## changing the number of pans, total capacity, or number of batches can happen in\n",
    "## just one spot\n",
    "## without the % notation for printing, this would look like:\n",
    "##\n",
    "## if total_hold >= new_total_volume:\n",
    "##    print(str(number_of_batches) + \" total amounts above will fit in \" + str(number_of_pans) + \" pan\")\n",
    "##else:\n",
    "##    print(str(number_of_batches) + \" total amounts above will not fit in \" + str(number_of_pans) + \" pan\")\n",
    "\n",
    " "
   ]
  },
  {
   "cell_type": "markdown",
   "metadata": {},
   "source": [
    "### Takeaway"
   ]
  },
  {
   "cell_type": "markdown",
   "metadata": {},
   "source": [
    "Common troubles: \n",
    "    - Python spelling is not always English spelling...so it's if...elif...else (...not if....else if...else...) \n",
    "    - Math: let python keep track of ugly decimals for you....try to avoid rounding until it's time to display the number\n",
    "    - Style habits (not doing this might work today, but will bite you someday) \n",
    "        - make nicely named variables and use them\n",
    "        - challenge your brain to solve these problems in a general way\n",
    "        - try to avoid long chains of 'if / elif ' or specifying numbers in the condition checks\n",
    "    \n",
    "Check your answer -- the correct answer is....:\n",
    "    - Half batch fits in 1, 2, or 3 pans\n",
    "    - 3 batches will not fit in 1 or 2 pans but will fit in 3 pans\n",
    "    - 5 batches will not fit in 1, 2, or 3 pans.\n",
    "    "
   ]
  },
  {
   "cell_type": "markdown",
   "metadata": {},
   "source": [
    "## 2.1 Just the Length"
   ]
  },
  {
   "cell_type": "markdown",
   "metadata": {},
   "source": [
    "### Starring....Maniti"
   ]
  },
  {
   "cell_type": "code",
   "execution_count": 54,
   "metadata": {},
   "outputs": [
    {
     "data": {
      "text/plain": [
       "581"
      ]
     },
     "execution_count": 54,
     "metadata": {},
     "output_type": "execute_result"
    }
   ],
   "source": [
    "CourseDescription = str(\"This course will introduce basic programming and data science tools to give students the skills to use data to read, critique, and produce stories and insights. The class will cover the basics of the Python programming language, acquiring and processing public data, and basic tools and techniques for data analysis and visualization. We will focus on gaining access to data and basic data manipulation rather than complex statistical methods. The class will be built around student-designed independent projects and is targeted at students with no previous programming experience.\")\n",
    "len(CourseDescription)\n",
    "\n",
    "## could also have assigned the output of len to a variable, stringified, then printed"
   ]
  },
  {
   "cell_type": "markdown",
   "metadata": {},
   "source": [
    "## 2.2 Looking inside the text\n",
    "### Starring....Esteban!"
   ]
  },
  {
   "cell_type": "code",
   "execution_count": 55,
   "metadata": {},
   "outputs": [
    {
     "name": "stdout",
     "output_type": "stream",
     "text": [
      "The word python is not included in Catalog description\n",
      "The word python or statistics is not included in Catalog description\n",
      "The word python or statistics or visualization is included in Catalog description\n"
     ]
    }
   ],
   "source": [
    "## previously defined\n",
    "catalog_description = CourseDescription\n",
    "\n",
    "## Esteban's code starts here\n",
    "\n",
    "if \"python\" in catalog_description:\n",
    "    print (\"The word python is included in Catalog description\")\n",
    "else: \n",
    "    print (\"The word python is not included in Catalog description\")\n",
    "\n",
    "if \"python\" in catalog_description or \"statistics\" in catalog_description:\n",
    "    print (\"The word python or statistics is included in Catalog description\")\n",
    "else: \n",
    "    print (\"The word python or statistics is not included in Catalog description\")\n",
    "\n",
    "if \"python\" in catalog_description or \"statistics\" in catalog_description or \"visualization\" in catalog_description:\n",
    "    print (\"The word python or statistics or visualization is included in Catalog description\")\n",
    "else: \n",
    "    print (\"The word python or statistics or visualization is not included in Catalog description\")\n",
    "\n",
    "## what I like about this answer is that it spells out what it found in detail"
   ]
  },
  {
   "cell_type": "markdown",
   "metadata": {},
   "source": [
    "### Check your answer...many people got this wrong :).\n",
    "Correct answer: \n",
    "        - 'python' -- False (unless you checked for upper case Python) \n",
    "        - 'statistics' -- False (unless you checked for uppper case Python)\n",
    "        - 'visualization' -- True\n",
    "### But Kaylea! Why is my code giving me the wrong answer?"
   ]
  },
  {
   "cell_type": "code",
   "execution_count": 40,
   "metadata": {},
   "outputs": [
    {
     "name": "stdout",
     "output_type": "stream",
     "text": [
      "Found the word!\n"
     ]
    }
   ],
   "source": [
    "if \"python\" or \"statistics\" in \"this totally doesn't include the keywords\": ## wrong answer! eep! why!\n",
    "    print (\"Found the word!\")"
   ]
  },
  {
   "cell_type": "code",
   "execution_count": 51,
   "metadata": {},
   "outputs": [
    {
     "name": "stdout",
     "output_type": "stream",
     "text": [
      "because this is always true\n"
     ]
    }
   ],
   "source": [
    "if \"python\":\n",
    "    print (\"...because this is always true\")"
   ]
  },
  {
   "cell_type": "code",
   "execution_count": 50,
   "metadata": {},
   "outputs": [
    {
     "name": "stdout",
     "output_type": "stream",
     "text": [
      "Nope, didn't find the word\n"
     ]
    }
   ],
   "source": [
    "if \"python\" in CourseDescription or \"statistics\" in CourseDescription: ## This version works!\n",
    "    print (\"Found the word\")\n",
    "else:\n",
    "    print(\"Nope, didn't find the word\")"
   ]
  },
  {
   "cell_type": "markdown",
   "metadata": {},
   "source": [
    "### Takeaway\n",
    "Be super explicit and show where the logical groups are.\n",
    "\n",
    "    if \"python\" or \"statistics\" in Description:\n",
    "\n",
    "...fails because Python is breaking this apart into \n",
    "    \n",
    "    if (\"python\") OR (\"statistics\" in Description):\n"
   ]
  },
  {
   "cell_type": "markdown",
   "metadata": {},
   "source": [
    "## 3. A program that knows its limits"
   ]
  },
  {
   "cell_type": "markdown",
   "metadata": {},
   "source": [
    "### Starring....Julie!"
   ]
  },
  {
   "cell_type": "code",
   "execution_count": 58,
   "metadata": {},
   "outputs": [
    {
     "name": "stdout",
     "output_type": "stream",
     "text": [
      "cant do that math, srry\n"
     ]
    }
   ],
   "source": [
    "# 3 A program that knows its limits\n",
    "# create a variable called \"my_variable\". \n",
    "# If the value stored in teh variable is a number, print that value times 3. \n",
    "# Otherwise, print \"cant do it\"\n",
    "\n",
    "my_variable = \"schfifty-five\"\n",
    "\n",
    "what_type = type(my_variable)\n",
    "\n",
    "if what_type == int or what_type == float:\n",
    "    print(my_variable*3)\n",
    "if what_type == str:\n",
    "    print(\"cant do that math, srry\")\n"
   ]
  },
  {
   "cell_type": "markdown",
   "metadata": {},
   "source": [
    "### Takeaway\n",
    "- make sure to check a \"real\" if condition (test it! does it fail when you think it will?)\n",
    "    - if (\"python\"): ##is always true!\n",
    "    - if (type(str)): ##  will always return true, this probably isn't what you want\n",
    "    - if (type(\"my_variable\") == str: ## will always return true, probably also not what you want\n",
    "    - if (type(my_variable) == str): ## this will actually do the check and comparison you want\n",
    "- other approaches people took:\n",
    "    - isinstance()\n",
    "    - try/except"
   ]
  },
  {
   "cell_type": "code",
   "execution_count": null,
   "metadata": {},
   "outputs": [],
   "source": []
  }
 ],
 "metadata": {
  "kernelspec": {
   "display_name": "Python 3",
   "language": "python",
   "name": "python3"
  },
  "language_info": {
   "codemirror_mode": {
    "name": "ipython",
    "version": 3
   },
   "file_extension": ".py",
   "mimetype": "text/x-python",
   "name": "python",
   "nbconvert_exporter": "python",
   "pygments_lexer": "ipython3",
   "version": "3.9.2"
  }
 },
 "nbformat": 4,
 "nbformat_minor": 2
}
