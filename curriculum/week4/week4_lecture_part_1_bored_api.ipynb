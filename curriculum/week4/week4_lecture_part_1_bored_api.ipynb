{
 "cells": [
  {
   "cell_type": "code",
   "execution_count": 1,
   "id": "fc5605ca",
   "metadata": {},
   "outputs": [],
   "source": [
    "import requests"
   ]
  },
  {
   "cell_type": "code",
   "execution_count": 2,
   "id": "cd9664a8",
   "metadata": {},
   "outputs": [],
   "source": [
    "my_response = requests.get(\"http://www.boredapi.com/api/activity\")"
   ]
  },
  {
   "cell_type": "code",
   "execution_count": 3,
   "id": "2e81d0a5",
   "metadata": {},
   "outputs": [
    {
     "name": "stdout",
     "output_type": "stream",
     "text": [
      "200\n"
     ]
    }
   ],
   "source": [
    "print(my_response.status_code)"
   ]
  },
  {
   "cell_type": "code",
   "execution_count": 4,
   "id": "107d899a",
   "metadata": {},
   "outputs": [
    {
     "data": {
      "text/plain": [
       "'{\"activity\":\"Visit a nearby museum\",\"type\":\"recreational\",\"participants\":1,\"price\":0.2,\"link\":\"\",\"key\":\"5490351\",\"accessibility\":0.7}'"
      ]
     },
     "execution_count": 4,
     "metadata": {},
     "output_type": "execute_result"
    }
   ],
   "source": [
    "my_response.text"
   ]
  },
  {
   "cell_type": "code",
   "execution_count": 5,
   "id": "3514c21f",
   "metadata": {},
   "outputs": [
    {
     "data": {
      "text/plain": [
       "'{\"act'"
      ]
     },
     "execution_count": 5,
     "metadata": {},
     "output_type": "execute_result"
    }
   ],
   "source": [
    "my_response.text[0:5]"
   ]
  },
  {
   "cell_type": "code",
   "execution_count": 6,
   "id": "da1ed236",
   "metadata": {},
   "outputs": [
    {
     "name": "stdout",
     "output_type": "stream",
     "text": [
      "200\n"
     ]
    }
   ],
   "source": [
    "my_response2 = requests.get(\"https://mako.cc/\")\n",
    "print(my_response2.status_code)"
   ]
  },
  {
   "cell_type": "code",
   "execution_count": 7,
   "id": "ba63fac3",
   "metadata": {},
   "outputs": [
    {
     "data": {
      "text/plain": [
       "b'<!DOCTYPE html>\\n\\n<html>\\n  <head>\\n    <meta charset=\"UTF-8\" />\\n    <meta name=viewport content=\"width=device-width, initial-scale=1\">\\n    <title>Benjamin Mako Hill</title>\\n    <link rel=\"stylesheet\" type=\"text/css\" href=\"https://mako.cc//style.css\" />\\n\\n    <!-- Bootstrap -->\\n    <link href=\"https://mako.cc//bootstrap/css/bootstrap.min.css\" rel=\"stylesheet\" media=\"screen\" />\\n\\n    <!-- HTML5 shim and Respond.js IE8 support of HTML5 elements and media queries -->\\n    <!--[if lt IE 9]>\\n\\t<script src=\"../../assets/js/html5shiv.js\"></script>\\n\\t<script src=\"../../assets/js/respond.min.js\"></script>\\n\\t<![endif]-->\\n\\n    <link rel=\"shortcut icon\" href=\"https://mako.cc/favicon.ico\" />\\n    <link rel=\"openid.server\" href=\"https://mako.cc/simpleid/\" />\\n    <link rel=\"openid2.provider\" href=\"https://mako.cc/simpleid/\" />\\n\\n  </head>\\n\\n  <body>\\n    \\n    <!-- Fixed navbar -->\\n    <nav class=\"navbar navbar-expand-md navbar-dark fixed-top bg-dark\">\\n\\n      <button class=\"navbar-toggler\" type=\"button\" data-toggle=\"collapse\" data-target=\"#navbarCollapse\" aria-controls=\"navbarCollapse\" aria-expanded=\"false\" aria-label=\"Toggle navigation\">\\n        <span class=\"navbar-toggler-icon\"></span>\\n      </button>\\n      <div class=\"collapse navbar-collapse order-first\" id=\"navbarCollapse\">\\n        <ul class=\"navbar-nav mr-auto\">\\n          <li class=\"nav-item\">\\n            <a class=\"nav-link\" href=\"/copyrighteous\">Blog</a>\\n          </li>\\n          <li class=\"nav-item\">\\n            <a class=\"nav-link\" href=\"/academic\">Academic\\n          </a></li>\\n\\t  <li class=\"nav-item\">\\n            <a class=\"nav-link\" href=\"/talks\">Talks</a>\\n\\t  </li>\\n\\t  \\n\\t  <li class=\"nav-item dropdown\">\\n\\t    <a class=\"nav-link dropdown-toggle\" href=\"#\" id=\"dropdown-teaching\" data-toggle=\"dropdown\" aria-haspopup=\"true\" aria-expanded=\"false\">Teaching</a>\\n            <div class=\"dropdown-menu\" aria-labelledby=\"dropdown-teaching\">\\n\\t      <a class=\"dropdown-item\" href=\"/teaching/\">Teaching Overview and Classes</a>\\n\\t      <a class=\"dropdown-item\" href=\"https://wiki.communitydata.science/Assessment\">Assessment and Rubrics</a>\\n\\t      <div class=\"dropdown-divider\"></div>\\n\\t      <a class=\"dropdown-item\" href=\"https://wiki.communitydata.science/Building_Successful_Online_Communities_(Spring_2021)\">[COMMLD 570] Building Successful Online Communities</a>\\n\\t    </div>\\n\\t  </li>\\n\\t  <li class=\"nav-item\">\\n            <a class=\"nav-link\" href=\"/press/\">Press</a>\\n          </li>\\n\\t  \\n\\t  <li class=\"nav-item dropdown\">\\n\\t    <a class=\"nav-link dropdown-toggle\" href=\"#\" id=\"dropdown-personal\" data-toggle=\"dropdown\" aria-haspopup=\"true\" aria-expanded=\"false\">Personal</a>\\n\\t    <div class=\"dropdown-menu\" aria-labelledby=\"dropdown-personal\">\\n\\t      <a class=\"dropdown-item\" href=\"/writing/\">Writing</a>\\n\\t      <a class=\"dropdown-item\" href=\"/software/\">Software</a>\\n\\t      <a class=\"dropdown-item\" href=\"/fun/\">Art and Activism</a>\\n\\t    </div>\\n\\t  </li>\\n          <li class=\"nav-item\">\\n            <a class=\"nav-link\" href=\"/calendar/\">Calendar</a>\\n          </li>\\n          <li class=\"nav-item\">\\n            <a class=\"nav-link\" href=\"/contact/\">Contact</a>\\n          </li>\\n        </ul>\\n      </div>\\n      <a class=\"navbar-brand\" href=\"/\">Benjamin Mako Hill</a>\\n    </nav>\\n    \\n    <div id=\"content_box\">\\n      <div class=\"container mt-5\">\\t\\n\\t\\n\\n  <div class=\"row\">\\n    <div class=\"col-md-9\">\\n      <div id=\"content\">\\n   \\n\\t<h2>About Me</h2>\\n\\n\\t<p>I am a scholar, technologist and activist. In all three roles, I am passionate about understanding <em>why</em>, and <em>when</em> <a href=\"https://en.wikipedia.org/wiki/Peer_production\">peer production</a> succeeds. As a <a href=\"/academic/\">social scientist</a>, my research aims to explain why some attempts to create <a href=\"http://freedomdefined.org\">free culture</a> and <a href=\"https://www.gnu.org/philosophy/free-sw.html\">free software</a> result in large volunteer communities like Wikipedia and Linux\\xe2\\x80\\x94while the vast majority never attract even a second contributor. For most of my life, I have also participated in these communities. I spend most of my time consuming, and increasingly often producing, <a href=\"/academic/\">academic articles</a>, <a href=\"/software/\">software</a>, <a href=\"/copyrighteous/\">blog posts</a>, <a href=\"/writing/\">essays</a>, <a href=\"writing/#books\">books</a> and <a href=\"/talks/\">talks</a>.</p>\\n\\n\\t<p>You can follow my latest musings and projects on my weblog <a href=\"copyrighteous/\"><strong>Copyrighteous</strong></a>. I microblog infrequently as <a rel=\"me\" href=\"https://social.coop/@mako\">mako@social.coop in the Fediverse</a> and as <a href=\"https://twitter.com/makoshark\">@makoshark on Twitter</a>.</p>\\n\\n\\t<h2 class=\"flow\"><a name=\"orgs\"></a>Organizations and Affiliations</h2>\\n\\n\\t<p>My active affiliations include:</p>\\n\\n\\t<ul>\\n\\n\\t  <li><a href=\"https://wiki.communitydata.science/\">Community Data Science Collective</a>: I am a member of the Community Data Science Collective (CDSC). The CDSC is an interdisciplinary research group made of up <a href=\"https://wiki.communitydata.science/People\">an incredible team of researchers</a> at number of different universities and from the world beyond academe. The collective\\'s work is focused on the study of online communities. Our research is deeply interdisciplinary, most frequently consists of \\xe2\\x80\\x9cbig data\\xe2\\x80\\x9d quantitative analyses, and lies at the intersection of communication, sociology, and human-computer interaction. I founded the CDSC with <a href=\"http://aaronshaw.org/\">Aaron Shaw</a>.</li>\\n\\t  \\n\\t  <li><a href=\"http://www.washington.edu\">University of Washington</a>: I am an Associate Professor in the <a href=\"http://www.com.washington.edu\">University of Washington Department of Communication</a>. I am also an Adjunct Associate Professor in the Department of <a href=\"http://hcde.uw.edu/\">Human-Centered Design &amp; Engineering</a>, the <a href=\"https://www.cs.washington.edu/\">Paul G. Allen School of Computer Science &amp; Engineering</a>, and the <a href=\"https://ischool.uw.edu/\">Information School</a> and I am affiliated with a variety of centers, programs, and organizations at UW. Details about my research are on my <a href=\"/academic/\">academic page</a>. You can see my <a href=\"/teaching/\">teaching page</a> for information about on my courses, workshops, and lectures.</li>\\n\\n\\t  <li><a href=\"http://cyber.harvard.edu\">Berkman Klein Center for Internet and Society at Harvard University</a>: I am a Faculty Associate at the Berkman Klein Center where I am pursing my own <a href=\"/academic/\">research</a>. I helped coordinate the center\\'s <a href=\"http://cyber.law.harvard.edu/research/cooperation\">cooperation group</a> as a Fellow for several years.</li>\\n\\n\\t  <li><a href=\"http://www.debian.org\">The Debian GNU/Linux Project</a>: I am Debian Developer and maintain several packages and routinely sponsor the upload of several others. In the past, I have served on the Project Leader Team (AKA <em>Project Scud</em>) and acted as the <em>Hardware Donations Manager</em> (AKA <q>Project Quartermaster</q>) and <em>Accountant</em> tracking and managing funds and hardware internationally. My packaging work is <a href=\"http://qa.debian.org/developer.php?login=mako%40debian.org&comaint=yes\">documented here</a>.</li>\\n\\n\\t  <li><a href=\"http://www.ubuntu.com\">Ubuntu</a>: I am member of the Ubuntu project and was a core developer for the first 15 years of the project\\'s life. For six years, I served on Ubuntu\\'s <a href=\"http://www.ubuntu.com/community/processes/council\">Community Council</a> governance board. I was involved in issues related community, policy and governance as well as technical work. During the Ubuntu project\\'s first year, I worked for <a href=\"http://www.canonical.com\">Canonical Ltd.</a> doing Free Software activism and advocacy and helping build user and developer communities around the distribution.</li>\\n      \\n\\t  <li><a href=\"http://www.wikimedia.org\">Wikimedia/Wikipedia</a>: I am an active contributor to several Wikimedia projects where I add content and edit frequently. These include:\\n\\t    \\n\\t    <ul>\\n\\t      <li><a href=\"http://en.wikipedia.org\">English Wikipedia</a>: I edit Wikipedia articles on many topics and often incorporate Wikipedia into my teaching. Good places to learn more are </strong> <a href=\"http://en.wikipedia.org/wiki/User:Benjamin_Mako_Hill\">my English Wikipedia user page</a> and <a href=\"http://en.wikipedia.org/wiki/Special:Contributions/Benjamin_Mako_Hill\">contribution history</a></li>\\n\\n\\t      <li><a href=\"https://meta.wikimedia.org/wiki/Cascadia_Wikimedians\">Cascadia Wikimedians User Group</a>: I am an active participant in Wikimedia events in <a href=\"https://en.wikipedia.org/wiki/Cascadia_%28bioregion%29\">Cascadia</a>, I attend and sometimes help organize monthly meetups and other events in Seattle, and I am a board member of our (still inchoate) user group.</li>\\n\\n               <li><a href=\"http://wikimediafoundation.org\">Wikimedia Foundation</a> (WMF): For about a decade, I served on the <a href=\"http://wikimediafoundation.org/wiki/Advisory_Board\">advisory board</a> for the Wikimedia Foundation, the non-profit organization that supports Wikipedia and other Wikimedia projects. The board appears to have been disbanded but I still help out the WMF in whatever ways I can.</li>\\n\\n\\t      <li>I\\'ve helped out Wikmiania in many other ways over the years and contributed to many other Wikimedia projects. A more complete accounting can be found on <a href=\"https://meta.wikimedia.org/wiki/User:Benjamin_Mako_Hill\">my page on the Wikimedia Meta-Wiki</a>.</li>\\n\\n\\t    </ul>\\n\\t  </li>\\n\\t\\n          <li><a href=\"http://acawiki.org/Home\">AcaWiki</a>: I have written and published hundreds of freely licensed summaries of academic articles on this wiki dedicated to that purpose. <a href=\"http://acawiki.org/User:Benjamin_Mako_Hill\">My AcaWiki user page</a> contains more detail about my contributions and links to the summaries that I started.</li>\\n\\n\\t  <li><a href=\"http://freedomdefined.org\">Definition of Free Cultural Works</a>: Along with Erik Moeller from the Wikimedia Foundation, I founded this project to work with the free culture community to help provide a set of explicit goals to help the free culture movement development, inspire, and grow.</li>\\n\\n\\t</ul>\\n\\n\\t<p>Please see my <a href=\"more_affiliations.html\">Additional Affiliations Page</a> for a list of my old, dormant, minor, and more advisory affiliations.</p>\\n\\n\\t<h2><a name=\"other\"></a><a name=\"otherpages\"></a>Other Webpages</h2>\\n\\n\\t<ul>\\n\\n\\t  <li><a href=\"http://revealingerrors.com\"><strong>Revealing Errors</strong></a>: A weblog where I try to reveal the power and influence that technology has on our lives by unpacking and analyzing errors that reveal the frequently hidden technological systems around us.</li>\\n\\n\\t  <li><a href=\"http://en.wikipedia.org/wiki/User:Benjamin_Mako_Hill\">Wikipedia User Page</a>: My \"user page\" is similar to a homepage but it\\'s in more flux (it\\'s a wiki after all) and tends to focus on items that are interesting to me in Wikipedia.</li>\\n\\n\\t  <li><a href=\"http://www.advogato.org/person/mako/\">My Advogato Page</a> where I used to keep a (<em>very</em> infrequently updated) diary of my work on free software projects. <font color=\"#FF0000\">(no longer updated)</font></li>\\n\\t  \\n\\t  <li><a href=\"keys\">GPG Keys</a> for use in secure communication with me.</li>\\n\\t</ul>\\n\\n\\t<h2>Contact Information</h2>\\n\\t<p><strong>Email:</strong></p>\\n\\n\\t<blockquote>\\n\\t  General: <a href=\"mailto:mako@atdot.cc\">mako@atdot.cc</a><br />\\n\\t  \\n\\t  Research/Teaching: <a href=\"mailto:makohill@uw.edu\">makohill@uw.edu</a>\\n\\t</blockquote>\\n\\t\\t\\n\\t<p>Visit my <a href=\"contact.html\">contact information page</a> for information on how to reach me via snailmail, phone, email, IRC, or several flavors of instant messaging.</p>\\n\\n      </div>\\n\\n    </div>\\n    <div class=\"col-md-3\">\\n\\n      <div id=\"sidebar\">\\n\\n      <!-- <img class=\"img-fluid\" id=\"portrait\" src=\"../images/mako_commlead_2014-280px.png\" /> -->\\n\\t  <img class=\"img-fluid\" height=\"auto;\" id=\"portrait\" src=\"images/mako_commlead_2014-stop.jpg\" /> \\n\\n\\t<h3>Microblogging</h3>\\n<!--\\t<p align=\"left\"><img  style=\"vertical-align: middle\" src=\"images/statusnet-icon.png\" alt=\"Twitter Icon\"/><a href=\"https://identi.ca/mako/\"> <strong>@mako on Identi.ca</strong></a></p> -->\\n\\n\\t<p style=\"text-align: center\">\\n    <a href=\"https://social.coop/@mako\"><img style=\"vertical-align: middle\" src=\"images/social_coop.png\" alt=\"social.coop Icon\"/> \\n    <strong>@mako@social.coop on Mastodon</strong> </a> (i.e., OStatus, ActivityPub)\\n    <a href=\"https://social.coop/users/mako/remote_follow\">[Click to follow me!]</a>\\n    </p>\\n\\t\\n\\t<p style=\"text-align: center\">\\n    <a href=\"https://twitter.com/makoshark\"><img style=\"vertical-align: middle\" src=\"images/brand_name_microblogging.png\" alt=\"Twitter Icon\"/> \\n    <strong>@makoshark on Twitter</strong></a>\\n    <a href=\"https://twitter.com/intent/follow?screen_name=makoshark\">[Click to follow me!]</a>\\n    </p>\\n\\n\\t<h3>Affiliations</h3>\\n\\n\\t<ul class=\"affil-logos\">\\n\\t  <li><a href=\"https://communitydata.science/\"><img src=\"images/logos/communitydata.png\" alt=\"Community Data Science Collective\"></a></li>\\t  \\n\\t  <li><a href=\"http://www.washington.edu\"><img src=\"images/logos/uw.png\" alt=\"University of Washington\"></a></li>\\n\\t  <li><a href=\"http://www.com.washington.edu\"><img src=\"images/logos/uw_comm.png\" alt=\"UW Department of Communication\"></a></li>\\n\\t  <li><a href=\"http://cyber.law.harvard.edu\"><img src=\"images/logos/berkman-klein.png\" alt=\"Berkman Klein Center\"></a></li>\\n\\t  <li><a href=\"http://www.debian.org\"><img src=\"images/logos/debian.png\" alt=\"Debian\"></a></li>\\n\\t  <li><a href=\"http://www.ubuntu.com\"><img src=\"images/logos/ubuntu.png\" alt=\"Ubuntu\"></a></li>\\n\\t  <li><a href=\"http://www.wikimedia.org\"><img src=\"images/logos/wikimedia.png\" alt=\"Wikimedia\"></a></li>\\n\\t  <li><a href=\"http://freedomdefined.org\"><img src=\"images/logos/freedomdefined.png\" alt=\"Freedom Defined\"></a></li>\\n\\t  <li><a href=\"/consulting/\"><img src=\"images/logos/yukidoke.png\" alt=\"Yukidoke Consulting\"></a></li>\\n\\t  <li><a href=\"http://commlead.uw.edu/\"><img src=\"images/logos/commlead.png\" alt=\"Communication Leadership\"></a></li>\\n\\t  <li><a href=\"https://www.cs.washington.edu/\"><img src=\"images/logos/uw_cse.png\" alt=\"Paul G. Allen School of Computer Science & Engineering logo\"></a></li>\\n\\t  <li><a href=\"http://hcde.uw.edu/\"><img src=\"images/logos/hcde_logo.png\" alt=\"UW Human-Centered Design and Engineering logo\"></a></li>\\n\\t  <li><a href=\"https://ischool.uw.edu/\"><img src=\"images/logos/ischool_logo.png\" alt=\"UW iSchool logo\"></a></li>\\n\\n</ul>\\n\\n      </div>\\n    </div>\\n  </div>\\n\\n\\n      </div>\\n    </div>\\n   \\n    <div class=\"footer-copyright text-center py-3 bg-light\">\\n\\t    \\xc2\\xa9 1999-2020 <a href=\"/\">Benjamin Mako Hill</a> || Last modified: Wed Nov 23 21:43:41 2022\\n    </div>\\n      \\n\\t    <!-- Piwik -->\\n\\t    <script type=\"text/javascript\">\\n\\t      var pkBaseURL = ((\"https:\" == document.location.protocol) ? \"https://analytics.mako.cc/\" : \"http://analytics.mako.cc/\");\\n\\t      document.write(unescape(\"%3Cscript src=\\'\" + pkBaseURL + \"piwik.js\\' type=\\'text/javascript\\'%3E%3C/script%3E\"));\\n\\t    </script>\\n        <script type=\"text/javascript\">\\n\\t      try {\\n\\t      var piwikTracker = Piwik.getTracker(pkBaseURL + \"piwik.php\", 1);\\n\\t      piwikTracker.trackPageView();\\n\\t      piwikTracker.enableLinkTracking();\\n\\t      } catch( err ) {}\\n\\t    </script><noscript><p><img src=\"https://analytics.mako.cc/piwik.php?idsite=1\" style=\"border:0\" alt=\"\" /></p></noscript>\\n\\t    <!-- End Piwik Tracking Code -->\\n\\t  </div>\\n\\t</div>\\n      </div>\\n    </div>\\n\\n    <!-- jQuery (necessary for Bootstrap\\'s JavaScript plugins) -->\\n    <script src=\"https://code.jquery.com/jquery.js\"></script>\\n    <!-- Include all compiled plugins (below), or include individual files as needed -->\\n    <script src=\"https://mako.cc//bootstrap/js/bootstrap.min.js\"></script>\\n\\n    <script type=\"text/javascript\">\\n    var onResize = function() {\\n    // apply dynamic padding at the top of the body according to the fixed navbar height\\n    $(\"body\").css(\"padding-top\", $(\".navbar-fixed-top\").height() + 30);\\n    };\\n\\n    // attach the function to the window resize event\\n    $(window).resize(onResize);\\n\\n    // call it also when the page is ready after load or reload\\n    $(function() {\\n      onResize();\\n    });\\n    </script>\\n    \\n  </body>\\n</html>\\n\\n'"
      ]
     },
     "execution_count": 7,
     "metadata": {},
     "output_type": "execute_result"
    }
   ],
   "source": [
    "my_response2.content"
   ]
  },
  {
   "cell_type": "code",
   "execution_count": 8,
   "id": "f2e6f715",
   "metadata": {},
   "outputs": [
    {
     "data": {
      "text/plain": [
       "<Response [200]>"
      ]
     },
     "execution_count": 8,
     "metadata": {},
     "output_type": "execute_result"
    }
   ],
   "source": [
    "my_response"
   ]
  },
  {
   "cell_type": "code",
   "execution_count": 9,
   "id": "ecc72a28",
   "metadata": {},
   "outputs": [],
   "source": [
    "data = my_response.json()"
   ]
  },
  {
   "cell_type": "code",
   "execution_count": 10,
   "id": "a0295fe6",
   "metadata": {},
   "outputs": [
    {
     "data": {
      "text/plain": [
       "{'activity': 'Visit a nearby museum',\n",
       " 'type': 'recreational',\n",
       " 'participants': 1,\n",
       " 'price': 0.2,\n",
       " 'link': '',\n",
       " 'key': '5490351',\n",
       " 'accessibility': 0.7}"
      ]
     },
     "execution_count": 10,
     "metadata": {},
     "output_type": "execute_result"
    }
   ],
   "source": [
    "data"
   ]
  },
  {
   "cell_type": "code",
   "execution_count": 16,
   "id": "248c5b83",
   "metadata": {},
   "outputs": [
    {
     "data": {
      "text/plain": [
       "'Learn the Chinese erhu'"
      ]
     },
     "execution_count": 16,
     "metadata": {},
     "output_type": "execute_result"
    }
   ],
   "source": [
    "data['activity']"
   ]
  },
  {
   "cell_type": "code",
   "execution_count": 17,
   "id": "b66299a4",
   "metadata": {},
   "outputs": [
    {
     "name": "stdout",
     "output_type": "stream",
     "text": [
      "activity 1: Make a simple musical instrument\n",
      "activity 2: Listen to your favorite album\n",
      "activity 3: Learn the Chinese erhu\n",
      "activity 4: Make a simple musical instrument\n",
      "activity 5: Make a simple musical instrument\n"
     ]
    }
   ],
   "source": [
    "for number in [1,2,3,4,5]:\n",
    "    my_parameters = {'type' : 'music'}\n",
    "    response = requests.get(\"https://www.boredapi.com/api/activity\", params=my_parameters)\n",
    "    if response.status_code == 200:\n",
    "        data = response.json()\n",
    "        print(f\"activity {number}: {data['activity']}\")"
   ]
  },
  {
   "cell_type": "code",
   "execution_count": 18,
   "id": "aa69c278",
   "metadata": {},
   "outputs": [
    {
     "data": {
      "text/plain": [
       "'https://www.boredapi.com/api/activity?type=music'"
      ]
     },
     "execution_count": 18,
     "metadata": {},
     "output_type": "execute_result"
    }
   ],
   "source": [
    "response.url"
   ]
  },
  {
   "cell_type": "code",
   "execution_count": 22,
   "id": "6086e0cc",
   "metadata": {},
   "outputs": [
    {
     "data": {
      "text/plain": [
       "'[{\"place_id\":68854601,\"licence\":\"Data © OpenStreetMap contributors, ODbL 1.0. https://osm.org/copyright\",\"osm_type\":\"node\",\"osm_id\":6466038789,\"boundingbox\":[\"47.6127549\",\"47.6128549\",\"-122.300965\",\"-122.300865\"],\"lat\":\"47.6128049\",\"lon\":\"-122.300915\",\"display_name\":\"Lowrider Baking Company, 2407, East Union Street, Madison Valley, Central District, Seattle, King County, Washington, 98122, United States\",\"class\":\"shop\",\"type\":\"bakery\",\"importance\":0.20000999999999997,\"icon\":\"https://nominatim.openstreetmap.org/ui/mapicons/shopping_bakery.p.20.png\"},{\"place_id\":98131133,\"licence\":\"Data © OpenStreetMap contributors, ODbL 1.0. https://osm.org/copyright\",\"osm_type\":\"node\",\"osm_id\":9727684478,\"boundingbox\":[\"47.6130846\",\"47.6131846\",\"-122.3005605\",\"-122.3004605\"],\"lat\":\"47.6131346\",\"lon\":\"-122.3005105\",\"display_name\":\"Shikorina Pastries, 2418, East Union Street, Madison Valley, Central District, Seattle, King County, Washington, 98122, United States\",\"class\":\"shop\",\"type\":\"bakery\",\"importance\":0.20000999999999997,\"icon\":\"https://nominatim.openstreetmap.org/ui/mapicons/shopping_bakery.p.20.png\"},{\"place_id\":85990628,\"licence\":\"Data © OpenStreetMap contributors, ODbL 1.0. https://osm.org/copyright\",\"osm_type\":\"node\",\"osm_id\":8518740551,\"boundingbox\":[\"47.5984689\",\"47.5985689\",\"-122.305971\",\"-122.305871\"],\"lat\":\"47.5985189\",\"lon\":\"-122.305921\",\"display_name\":\"Franz Bakery Outlet, 2006, South Weller Street, Central District, Seattle, King County, Washington, 98144, United States\",\"class\":\"shop\",\"type\":\"bakery\",\"importance\":0.20000999999999997,\"icon\":\"https://nominatim.openstreetmap.org/ui/mapicons/shopping_bakery.p.20.png\"},{\"place_id\":48905639,\"licence\":\"Data © OpenStreetMap contributors, ODbL 1.0. https://osm.org/copyright\",\"osm_type\":\"node\",\"osm_id\":4320467197,\"boundingbox\":[\"47.6080399\",\"47.6081399\",\"-122.294482\",\"-122.294382\"],\"lat\":\"47.6080899\",\"lon\":\"-122.294432\",\"display_name\":\"Golden Wheat, 2908, East Cherry Street, Madrona, Seattle, King County, Washington, 98122, United States\",\"class\":\"shop\",\"type\":\"bakery\",\"importance\":0.20000999999999997,\"icon\":\"https://nominatim.openstreetmap.org/ui/mapicons/shopping_bakery.p.20.png\"},{\"place_id\":18705418,\"licence\":\"Data © OpenStreetMap contributors, ODbL 1.0. https://osm.org/copyright\",\"osm_type\":\"node\",\"osm_id\":2158750322,\"boundingbox\":[\"47.6194838\",\"47.6195838\",\"-122.312949\",\"-122.312849\"],\"lat\":\"47.6195338\",\"lon\":\"-122.312899\",\"display_name\":\"Bakery Nouveau, 137, 15th Avenue East, Madison Valley, Capitol Hill, Seattle, King County, Washington, 98112, United States\",\"class\":\"shop\",\"type\":\"bakery\",\"importance\":0.20000999999999997,\"icon\":\"https://nominatim.openstreetmap.org/ui/mapicons/shopping_bakery.p.20.png\"},{\"place_id\":41579400,\"licence\":\"Data © OpenStreetMap contributors, ODbL 1.0. https://osm.org/copyright\",\"osm_type\":\"node\",\"osm_id\":3374163593,\"boundingbox\":[\"47.61235\",\"47.61245\",\"-122.2895161\",\"-122.2894161\"],\"lat\":\"47.6124\",\"lon\":\"-122.2894661\",\"display_name\":\"Cookies With Tiffany, 1123, 34th Avenue, Madrona, Seattle, King County, Washington, 98122, United States\",\"class\":\"shop\",\"type\":\"bakery\",\"importance\":0.20000999999999997,\"icon\":\"https://nominatim.openstreetmap.org/ui/mapicons/shopping_bakery.p.20.png\"},{\"place_id\":21078065,\"licence\":\"Data © OpenStreetMap contributors, ODbL 1.0. https://osm.org/copyright\",\"osm_type\":\"node\",\"osm_id\":2375220578,\"boundingbox\":[\"47.6094903\",\"47.6095903\",\"-122.3166167\",\"-122.3165167\"],\"lat\":\"47.6095403\",\"lon\":\"-122.3165667\",\"display_name\":\"Batch Baking Company, 808, 12th Avenue, First Hill, Seattle, King County, Washington, 98122, United States\",\"class\":\"shop\",\"type\":\"bakery\",\"importance\":0.20000999999999997,\"icon\":\"https://nominatim.openstreetmap.org/ui/mapicons/shopping_bakery.p.20.png\"},{\"place_id\":21067438,\"licence\":\"Data © OpenStreetMap contributors, ODbL 1.0. https://osm.org/copyright\",\"osm_type\":\"node\",\"osm_id\":2375303500,\"boundingbox\":[\"47.6064217\",\"47.6065217\",\"-122.3156756\",\"-122.3155756\"],\"lat\":\"47.6064717\",\"lon\":\"-122.3156256\",\"display_name\":\"Cakes + Trees, 509, 13th Avenue, Yesler Terrace, Seattle, King County, Washington, 98122, United States\",\"class\":\"shop\",\"type\":\"bakery\",\"importance\":0.20000999999999997,\"icon\":\"https://nominatim.openstreetmap.org/ui/mapicons/shopping_bakery.p.20.png\"},{\"place_id\":18537622,\"licence\":\"Data © OpenStreetMap contributors, ODbL 1.0. https://osm.org/copyright\",\"osm_type\":\"node\",\"osm_id\":2131651280,\"boundingbox\":[\"47.622071\",\"47.622171\",\"-122.312879\",\"-122.312779\"],\"lat\":\"47.622121\",\"lon\":\"-122.312829\",\"display_name\":\"Rubinstein Bagels, 403, 15th Avenue East, Madison Valley, Capitol Hill, Seattle, King County, Washington, 98112, United States\",\"class\":\"shop\",\"type\":\"bakery\",\"importance\":0.20000999999999997,\"icon\":\"https://nominatim.openstreetmap.org/ui/mapicons/shopping_bakery.p.20.png\"},{\"place_id\":21354754,\"licence\":\"Data © OpenStreetMap contributors, ODbL 1.0. https://osm.org/copyright\",\"osm_type\":\"node\",\"osm_id\":2383892155,\"boundingbox\":[\"47.6238155\",\"47.6239155\",\"-122.312471\",\"-122.312371\"],\"lat\":\"47.6238655\",\"lon\":\"-122.312421\",\"display_name\":\"Nuflours Bakery, 518, 15th Avenue East, Madison Valley, Capitol Hill, Seattle, King County, Washington, 98112, United States\",\"class\":\"shop\",\"type\":\"bakery\",\"importance\":0.20000999999999997,\"icon\":\"https://nominatim.openstreetmap.org/ui/mapicons/shopping_bakery.p.20.png\"},{\"place_id\":18936417,\"licence\":\"Data © OpenStreetMap contributors, ODbL 1.0. https://osm.org/copyright\",\"osm_type\":\"node\",\"osm_id\":2158887262,\"boundingbox\":[\"47.6141536\",\"47.6142536\",\"-122.3213036\",\"-122.3212036\"],\"lat\":\"47.6142036\",\"lon\":\"-122.3212536\",\"display_name\":\"Cinnaholic, 816, East Pike Street, First Hill, Seattle, King County, Washington, 98122, United States\",\"class\":\"shop\",\"type\":\"bakery\",\"importance\":0.20000999999999997,\"icon\":\"https://nominatim.openstreetmap.org/ui/mapicons/shopping_bakery.p.20.png\"},{\"place_id\":44348743,\"licence\":\"Data © OpenStreetMap contributors, ODbL 1.0. https://osm.org/copyright\",\"osm_type\":\"node\",\"osm_id\":3696396469,\"boundingbox\":[\"47.6099245\",\"47.6100245\",\"-122.323181\",\"-122.323081\"],\"lat\":\"47.6099745\",\"lon\":\"-122.323131\",\"display_name\":\"Piroshki on Madison, 1219, Madison Street, First Hill, Seattle, King County, Washington, 98104, United States\",\"class\":\"shop\",\"type\":\"bakery\",\"importance\":0.20000999999999997,\"icon\":\"https://nominatim.openstreetmap.org/ui/mapicons/shopping_bakery.p.20.png\"},{\"place_id\":42004277,\"licence\":\"Data © OpenStreetMap contributors, ODbL 1.0. https://osm.org/copyright\",\"osm_type\":\"node\",\"osm_id\":3404835393,\"boundingbox\":[\"47.578715\",\"47.578815\",\"-122.3113017\",\"-122.3112017\"],\"lat\":\"47.578765\",\"lon\":\"-122.3112517\",\"display_name\":\"Fresh Flours, 1624, South McClellan Street, Beacon Hill, Seattle, King County, Washington, 98144, United States\",\"class\":\"shop\",\"type\":\"bakery\",\"importance\":0.20000999999999997,\"icon\":\"https://nominatim.openstreetmap.org/ui/mapicons/shopping_bakery.p.20.png\"},{\"place_id\":4283731,\"licence\":\"Data © OpenStreetMap contributors, ODbL 1.0. https://osm.org/copyright\",\"osm_type\":\"node\",\"osm_id\":581066571,\"boundingbox\":[\"47.5993043\",\"47.5994043\",\"-122.32475\",\"-122.32465\"],\"lat\":\"47.5993543\",\"lon\":\"-122.3247\",\"display_name\":\"Sun Bakery & Deli, 658, South Jackson Street, Little Saigon, International District/Chinatown, Seattle, King County, Washington, 98104, United States\",\"class\":\"shop\",\"type\":\"bakery\",\"importance\":0.20000999999999997,\"icon\":\"https://nominatim.openstreetmap.org/ui/mapicons/shopping_bakery.p.20.png\"},{\"place_id\":19186495,\"licence\":\"Data © OpenStreetMap contributors, ODbL 1.0. https://osm.org/copyright\",\"osm_type\":\"node\",\"osm_id\":2159322659,\"boundingbox\":[\"47.609125\",\"47.609225\",\"-122.3258994\",\"-122.3257994\"],\"lat\":\"47.609175\",\"lon\":\"-122.3258494\",\"display_name\":\"Sugar Bakery & Cafe, 1014, Madison Street, First Hill, Seattle, King County, Washington, 98104, United States\",\"class\":\"shop\",\"type\":\"bakery\",\"importance\":0.20000999999999997,\"icon\":\"https://nominatim.openstreetmap.org/ui/mapicons/shopping_bakery.p.20.png\"},{\"place_id\":197933982,\"licence\":\"Data © OpenStreetMap contributors, ODbL 1.0. https://osm.org/copyright\",\"osm_type\":\"way\",\"osm_id\":397567935,\"boundingbox\":[\"47.5792075\",\"47.5794048\",\"-122.3138359\",\"-122.3135331\"],\"lat\":\"47.579308299999994\",\"lon\":\"-122.31369357387851\",\"display_name\":\"Despi Delite Bakery, 1415, South Lander Street, Beacon Hill, Seattle, King County, Washington, 98144, United States\",\"class\":\"shop\",\"type\":\"bakery\",\"importance\":0.20000999999999997,\"icon\":\"https://nominatim.openstreetmap.org/ui/mapicons/shopping_bakery.p.20.png\"},{\"place_id\":21728703,\"licence\":\"Data © OpenStreetMap contributors, ODbL 1.0. https://osm.org/copyright\",\"osm_type\":\"node\",\"osm_id\":2434527326,\"boundingbox\":[\"47.5975834\",\"47.5976834\",\"-122.325482\",\"-122.325382\"],\"lat\":\"47.5976334\",\"lon\":\"-122.325432\",\"display_name\":\"Cake House, 620, South Weller Street, Little Saigon, International District/Chinatown, Seattle, King County, Washington, 98104, United States\",\"class\":\"shop\",\"type\":\"bakery\",\"importance\":0.20000999999999997,\"icon\":\"https://nominatim.openstreetmap.org/ui/mapicons/shopping_bakery.p.20.png\"},{\"place_id\":17085693,\"licence\":\"Data © OpenStreetMap contributors, ODbL 1.0. https://osm.org/copyright\",\"osm_type\":\"node\",\"osm_id\":1934502586,\"boundingbox\":[\"47.6177984\",\"47.6178984\",\"-122.3264288\",\"-122.3263288\"],\"lat\":\"47.6178484\",\"lon\":\"-122.3263788\",\"display_name\":\"Crumble & Flake Patisserie, 1500, East Olive Way, First Hill, Seattle, King County, Washington, 98122, United States\",\"class\":\"shop\",\"type\":\"bakery\",\"importance\":0.20000999999999997,\"icon\":\"https://nominatim.openstreetmap.org/ui/mapicons/shopping_bakery.p.20.png\"},{\"place_id\":21776529,\"licence\":\"Data © OpenStreetMap contributors, ODbL 1.0. https://osm.org/copyright\",\"osm_type\":\"node\",\"osm_id\":2434527296,\"boundingbox\":[\"47.597668\",\"47.597768\",\"-122.3262417\",\"-122.3261417\"],\"lat\":\"47.597718\",\"lon\":\"-122.3261917\",\"display_name\":\"Yummy House Bakery, 522, 6th Avenue South, Little Saigon, International District/Chinatown, Seattle, King County, Washington, 98104, United States\",\"class\":\"shop\",\"type\":\"bakery\",\"importance\":0.20000999999999997,\"icon\":\"https://nominatim.openstreetmap.org/ui/mapicons/shopping_bakery.p.20.png\"},{\"place_id\":21827375,\"licence\":\"Data © OpenStreetMap contributors, ODbL 1.0. https://osm.org/copyright\",\"osm_type\":\"node\",\"osm_id\":2434527303,\"boundingbox\":[\"47.5984172\",\"47.5985172\",\"-122.3265841\",\"-122.3264841\"],\"lat\":\"47.5984672\",\"lon\":\"-122.3265341\",\"display_name\":\"Fuji Bakery, 526, South King Street, Little Saigon, International District/Chinatown, Seattle, King County, Washington, 98104, United States\",\"class\":\"shop\",\"type\":\"bakery\",\"importance\":0.20000999999999997,\"icon\":\"https://nominatim.openstreetmap.org/ui/mapicons/shopping_bakery.p.20.png\"},{\"place_id\":78588031,\"licence\":\"Data © OpenStreetMap contributors, ODbL 1.0. https://osm.org/copyright\",\"osm_type\":\"node\",\"osm_id\":7654143179,\"boundingbox\":[\"47.5744137\",\"47.5745137\",\"-122.2964961\",\"-122.2963961\"],\"lat\":\"47.5744637\",\"lon\":\"-122.2964461\",\"display_name\":\"Baked from the Hart, South Hanford Street, Mount Baker, Seattle, King County, Washington, 98144, United States\",\"class\":\"shop\",\"type\":\"bakery\",\"importance\":0.20000999999999997,\"icon\":\"https://nominatim.openstreetmap.org/ui/mapicons/shopping_bakery.p.20.png\"},{\"place_id\":20188440,\"licence\":\"Data © OpenStreetMap contributors, ODbL 1.0. https://osm.org/copyright\",\"osm_type\":\"node\",\"osm_id\":2318756083,\"boundingbox\":[\"47.5984137\",\"47.5985137\",\"-122.3269516\",\"-122.3268516\"],\"lat\":\"47.5984637\",\"lon\":\"-122.3269016\",\"display_name\":\"Luosifen, 514-516, South King Street, Little Saigon, International District/Chinatown, Seattle, King County, Washington, 98104, United States\",\"class\":\"shop\",\"type\":\"bakery\",\"importance\":0.20000999999999997,\"icon\":\"https://nominatim.openstreetmap.org/ui/mapicons/shopping_bakery.p.20.png\"},{\"place_id\":341786113,\"licence\":\"Data © OpenStreetMap contributors, ODbL 1.0. https://osm.org/copyright\",\"osm_type\":\"node\",\"osm_id\":9993156969,\"boundingbox\":[\"47.5973511\",\"47.5974511\",\"-122.3280455\",\"-122.3279455\"],\"lat\":\"47.5974011\",\"lon\":\"-122.3279955\",\"display_name\":\"Tous Les Jours, 525, 5th Avenue South, International District/Chinatown, Seattle, King County, Washington, 98104, United States\",\"class\":\"shop\",\"type\":\"bakery\",\"importance\":0.20000999999999997,\"icon\":\"https://nominatim.openstreetmap.org/ui/mapicons/shopping_bakery.p.20.png\"},{\"place_id\":62841801,\"licence\":\"Data © OpenStreetMap contributors, ODbL 1.0. https://osm.org/copyright\",\"osm_type\":\"node\",\"osm_id\":5750021212,\"boundingbox\":[\"47.6056882\",\"47.6057882\",\"-122.333288\",\"-122.333188\"],\"lat\":\"47.6057382\",\"lon\":\"-122.333238\",\"display_name\":\"Belle Epicurean, 925, 4th Avenue, West Edge, First Hill, Seattle, King County, Washington, 98164, United States\",\"class\":\"shop\",\"type\":\"bakery\",\"importance\":0.20000999999999997,\"icon\":\"https://nominatim.openstreetmap.org/ui/mapicons/shopping_bakery.p.20.png\"},{\"place_id\":65222422,\"licence\":\"Data © OpenStreetMap contributors, ODbL 1.0. https://osm.org/copyright\",\"osm_type\":\"node\",\"osm_id\":5972433689,\"boundingbox\":[\"47.6345622\",\"47.6346622\",\"-122.3251072\",\"-122.3250072\"],\"lat\":\"47.6346122\",\"lon\":\"-122.3250572\",\"display_name\":\"Grand Central Bakery - Eastlake Avenue, Eastlake Avenue East, Eastlake, Capitol Hill, Seattle, King County, Washington, 98102, United States\",\"class\":\"shop\",\"type\":\"bakery\",\"importance\":0.20000999999999997,\"icon\":\"https://nominatim.openstreetmap.org/ui/mapicons/shopping_bakery.p.20.png\"},{\"place_id\":20551998,\"licence\":\"Data © OpenStreetMap contributors, ODbL 1.0. https://osm.org/copyright\",\"osm_type\":\"node\",\"osm_id\":2351695498,\"boundingbox\":[\"47.6009533\",\"47.6010533\",\"-122.3335074\",\"-122.3334074\"],\"lat\":\"47.6010033\",\"lon\":\"-122.3334574\",\"display_name\":\"Lady Yum, 116, South Washington Street, West Edge, International District/Chinatown, Seattle, King County, Washington, 98104, United States\",\"class\":\"shop\",\"type\":\"bakery\",\"importance\":0.20000999999999997,\"icon\":\"https://nominatim.openstreetmap.org/ui/mapicons/shopping_bakery.p.20.png\"},{\"place_id\":37550510,\"licence\":\"Data © OpenStreetMap contributors, ODbL 1.0. https://osm.org/copyright\",\"osm_type\":\"node\",\"osm_id\":3063958467,\"boundingbox\":[\"47.601425\",\"47.601525\",\"-122.3340125\",\"-122.3339125\"],\"lat\":\"47.601475\",\"lon\":\"-122.3339625\",\"display_name\":\"Cow Chip Cookies, 102, 1st Avenue South, West Edge, International District/Chinatown, Seattle, King County, Washington, 98104, United States\",\"class\":\"shop\",\"type\":\"bakery\",\"importance\":0.20000999999999997,\"icon\":\"https://nominatim.openstreetmap.org/ui/mapicons/shopping_bakery.p.20.png\"},{\"place_id\":50818750,\"licence\":\"Data © OpenStreetMap contributors, ODbL 1.0. https://osm.org/copyright\",\"osm_type\":\"node\",\"osm_id\":4458635049,\"boundingbox\":[\"47.6073021\",\"47.6074021\",\"-122.335408\",\"-122.335308\"],\"lat\":\"47.6073521\",\"lon\":\"-122.335358\",\"display_name\":\"World Fresh Bakery, 3rd Avenue, Central Business District, First Hill, Seattle, King County, Washington, 98161, United States\",\"class\":\"shop\",\"type\":\"bakery\",\"importance\":0.20000999999999997,\"icon\":\"https://nominatim.openstreetmap.org/ui/mapicons/shopping_bakery.p.20.png\"},{\"place_id\":56846643,\"licence\":\"Data © OpenStreetMap contributors, ODbL 1.0. https://osm.org/copyright\",\"osm_type\":\"node\",\"osm_id\":5080617721,\"boundingbox\":[\"47.6227002\",\"47.6228002\",\"-122.3341263\",\"-122.3340263\"],\"lat\":\"47.6227502\",\"lon\":\"-122.3340763\",\"display_name\":\"Trophy Cupcakes, 400, Fairview Avenue North, South Lake Union, Belltown, Seattle, King County, Washington, 98109, United States\",\"class\":\"shop\",\"type\":\"bakery\",\"importance\":0.20000999999999997,\"icon\":\"https://nominatim.openstreetmap.org/ui/mapicons/shopping_bakery.p.20.png\"},{\"place_id\":20384070,\"licence\":\"Data © OpenStreetMap contributors, ODbL 1.0. https://osm.org/copyright\",\"osm_type\":\"node\",\"osm_id\":2329620419,\"boundingbox\":[\"47.6359835\",\"47.6360835\",\"-122.2779968\",\"-122.2778968\"],\"lat\":\"47.6360335\",\"lon\":\"-122.2779468\",\"display_name\":\"Madison Park Bakery, 4214, East Madison Street, Edgewater Park, Madison Park, Seattle, King County, Washington, 98112, United States\",\"class\":\"shop\",\"type\":\"bakery\",\"importance\":0.20000999999999997,\"icon\":\"https://nominatim.openstreetmap.org/ui/mapicons/shopping_bakery.p.20.png\"},{\"place_id\":99055546,\"licence\":\"Data © OpenStreetMap contributors, ODbL 1.0. https://osm.org/copyright\",\"osm_type\":\"node\",\"osm_id\":9773263744,\"boundingbox\":[\"47.618682\",\"47.618782\",\"-122.3374572\",\"-122.3373572\"],\"lat\":\"47.618732\",\"lon\":\"-122.3374072\",\"display_name\":\"Tous Les Jours, Denny Way, South Lake Union, Belltown, Seattle, King County, Washington, 98191, United States\",\"class\":\"shop\",\"type\":\"bakery\",\"importance\":0.20000999999999997,\"icon\":\"https://nominatim.openstreetmap.org/ui/mapicons/shopping_bakery.p.20.png\"},{\"place_id\":62696135,\"licence\":\"Data © OpenStreetMap contributors, ODbL 1.0. https://osm.org/copyright\",\"osm_type\":\"node\",\"osm_id\":5799745554,\"boundingbox\":[\"47.6171691\",\"47.6172691\",\"-122.3380898\",\"-122.3379898\"],\"lat\":\"47.6172191\",\"lon\":\"-122.3380398\",\"display_name\":\"Princi, 2118, Westlake Avenue, South Lake Union, Belltown, Seattle, King County, Washington, 98191, United States\",\"class\":\"shop\",\"type\":\"bakery\",\"importance\":0.20000999999999997,\"icon\":\"https://nominatim.openstreetmap.org/ui/mapicons/shopping_bakery.p.20.png\"},{\"place_id\":33217142,\"licence\":\"Data © OpenStreetMap contributors, ODbL 1.0. https://osm.org/copyright\",\"osm_type\":\"node\",\"osm_id\":2869069301,\"boundingbox\":[\"47.5845282\",\"47.5846282\",\"-122.334546\",\"-122.334446\"],\"lat\":\"47.5845782\",\"lon\":\"-122.334496\",\"display_name\":\"Macrina Bakery - SODO, 1943, 1st Avenue South, International District/Chinatown, Seattle, King County, Washington, 98134, United States\",\"class\":\"shop\",\"type\":\"bakery\",\"importance\":0.20000999999999997,\"icon\":\"https://nominatim.openstreetmap.org/ui/mapicons/shopping_bakery.p.20.png\"},{\"place_id\":343693431,\"licence\":\"Data © OpenStreetMap contributors, ODbL 1.0. https://osm.org/copyright\",\"osm_type\":\"node\",\"osm_id\":7063828524,\"boundingbox\":[\"47.6151255\",\"47.6152255\",\"-122.3400613\",\"-122.3399613\"],\"lat\":\"47.6151755\",\"lon\":\"-122.3400113\",\"display_name\":\"Rubinstein Bagels, 2121, 6th Avenue, Central Business District, Belltown, Seattle, King County, Washington, 98121, United States\",\"class\":\"shop\",\"type\":\"bakery\",\"importance\":0.20000999999999997,\"icon\":\"https://nominatim.openstreetmap.org/ui/mapicons/shopping_bakery.p.20.png\"},{\"place_id\":81588670,\"licence\":\"Data © OpenStreetMap contributors, ODbL 1.0. https://osm.org/copyright\",\"osm_type\":\"node\",\"osm_id\":8017291016,\"boundingbox\":[\"47.6173282\",\"47.6174282\",\"-122.3398904\",\"-122.3397904\"],\"lat\":\"47.6173782\",\"lon\":\"-122.3398404\",\"display_name\":\"The Seattle Bakery, 2225, 8th Avenue, South Lake Union, Belltown, Seattle, King County, Washington, 98121, United States\",\"class\":\"shop\",\"type\":\"bakery\",\"importance\":0.20000999999999997,\"icon\":\"https://nominatim.openstreetmap.org/ui/mapicons/shopping_bakery.p.20.png\"},{\"place_id\":24972624,\"licence\":\"Data © OpenStreetMap contributors, ODbL 1.0. https://osm.org/copyright\",\"osm_type\":\"node\",\"osm_id\":2696312533,\"boundingbox\":[\"47.6130941\",\"47.6131941\",\"-122.3405754\",\"-122.3404754\"],\"lat\":\"47.6131441\",\"lon\":\"-122.3405254\",\"display_name\":\"Dahlia Bakery, 2001, 4th Avenue, Central Business District, Belltown, Seattle, King County, Washington, 98101, United States\",\"class\":\"shop\",\"type\":\"bakery\",\"importance\":0.20000999999999997,\"icon\":\"https://nominatim.openstreetmap.org/ui/mapicons/shopping_bakery.p.20.png\"},{\"place_id\":21305778,\"licence\":\"Data © OpenStreetMap contributors, ODbL 1.0. https://osm.org/copyright\",\"osm_type\":\"node\",\"osm_id\":2397485815,\"boundingbox\":[\"47.610072\",\"47.610172\",\"-122.3405926\",\"-122.3404926\"],\"lat\":\"47.610122\",\"lon\":\"-122.3405426\",\"display_name\":\"Cupcake Royale, 108, Pine Street, Central Business District, Belltown, Seattle, King County, Washington, 98101, United States\",\"class\":\"shop\",\"type\":\"bakery\",\"importance\":0.20000999999999997,\"icon\":\"https://nominatim.openstreetmap.org/ui/mapicons/shopping_bakery.p.20.png\"},{\"place_id\":21261441,\"licence\":\"Data © OpenStreetMap contributors, ODbL 1.0. https://osm.org/copyright\",\"osm_type\":\"node\",\"osm_id\":2397497097,\"boundingbox\":[\"47.6089557\",\"47.6090557\",\"-122.34092\",\"-122.34082\"],\"lat\":\"47.6090057\",\"lon\":\"-122.34087\",\"display_name\":\"Three Girls Bakery, 1514, Pike Place, West Edge, Belltown, Seattle, King County, Washington, 98101, United States\",\"class\":\"shop\",\"type\":\"bakery\",\"importance\":0.20000999999999997,\"icon\":\"https://nominatim.openstreetmap.org/ui/mapicons/shopping_bakery.p.20.png\"},{\"place_id\":21162345,\"licence\":\"Data © OpenStreetMap contributors, ODbL 1.0. https://osm.org/copyright\",\"osm_type\":\"node\",\"osm_id\":2397497110,\"boundingbox\":[\"47.6092572\",\"47.6093572\",\"-122.341415\",\"-122.341315\"],\"lat\":\"47.6093072\",\"lon\":\"-122.341365\",\"display_name\":\"Mee Sum Pastry, 1526, Pike Place, West Edge, Belltown, Seattle, King County, Washington, 98101, United States\",\"class\":\"shop\",\"type\":\"bakery\",\"importance\":0.20000999999999997,\"icon\":\"https://nominatim.openstreetmap.org/ui/mapicons/shopping_bakery.p.20.png\"},{\"place_id\":18928818,\"licence\":\"Data © OpenStreetMap contributors, ODbL 1.0. https://osm.org/copyright\",\"osm_type\":\"node\",\"osm_id\":2169065713,\"boundingbox\":[\"47.6093645\",\"47.6094645\",\"-122.3416068\",\"-122.3415068\"],\"lat\":\"47.6094145\",\"lon\":\"-122.3415568\",\"display_name\":\"Cinnamon Works, 1536, Pike Place, West Edge, Belltown, Seattle, King County, Washington, 98101, United States\",\"class\":\"shop\",\"type\":\"bakery\",\"importance\":0.20000999999999997,\"icon\":\"https://nominatim.openstreetmap.org/ui/mapicons/shopping_bakery.p.20.png\"},{\"place_id\":197650260,\"licence\":\"Data © OpenStreetMap contributors, ODbL 1.0. https://osm.org/copyright\",\"osm_type\":\"way\",\"osm_id\":396606875,\"boundingbox\":[\"47.6060771\",\"47.6062193\",\"-122.3413397\",\"-122.3411829\"],\"lat\":\"47.6061616\",\"lon\":\"-122.34126130000001\",\"display_name\":\"The Sourdough Bakery, 1301, Alaskan Way, West Edge, Belltown, Seattle, King County, Washington, 98101, United States\",\"class\":\"shop\",\"type\":\"bakery\",\"importance\":0.20000999999999997,\"icon\":\"https://nominatim.openstreetmap.org/ui/mapicons/shopping_bakery.p.20.png\"},{\"place_id\":18974599,\"licence\":\"Data © OpenStreetMap contributors, ODbL 1.0. https://osm.org/copyright\",\"osm_type\":\"node\",\"osm_id\":2169291687,\"boundingbox\":[\"47.6097759\",\"47.6098759\",\"-122.3423274\",\"-122.3422274\"],\"lat\":\"47.6098259\",\"lon\":\"-122.3422774\",\"display_name\":\"Le Panier, 1902, Pike Place, West Edge, Belltown, Seattle, King County, Washington, 98101, United States\",\"class\":\"shop\",\"type\":\"bakery\",\"importance\":0.20000999999999997,\"icon\":\"https://nominatim.openstreetmap.org/ui/mapicons/shopping_bakery.p.20.png\"},{\"place_id\":160430982,\"licence\":\"Data © OpenStreetMap contributors, ODbL 1.0. https://osm.org/copyright\",\"osm_type\":\"way\",\"osm_id\":223357451,\"boundingbox\":[\"47.6504453\",\"47.6506003\",\"-122.3131719\",\"-122.3129042\"],\"lat\":\"47.650522800000005\",\"lon\":\"-122.31303804999999\",\"display_name\":\"Saint Bread, 1421, Northeast Boat Street, South Campus, University District, Seattle, King County, Washington, 98105, United States\",\"class\":\"shop\",\"type\":\"bakery\",\"importance\":0.20000999999999997,\"icon\":\"https://nominatim.openstreetmap.org/ui/mapicons/shopping_bakery.p.20.png\"},{\"place_id\":49979460,\"licence\":\"Data © OpenStreetMap contributors, ODbL 1.0. https://osm.org/copyright\",\"osm_type\":\"node\",\"osm_id\":4415678579,\"boundingbox\":[\"47.6229746\",\"47.6230746\",\"-122.3409305\",\"-122.3408305\"],\"lat\":\"47.6230246\",\"lon\":\"-122.3408805\",\"display_name\":\"Fresh Flours, 432, 8th Avenue North, South Lake Union, Belltown, Seattle, King County, Washington, 98109, United States\",\"class\":\"shop\",\"type\":\"bakery\",\"importance\":0.20000999999999997,\"icon\":\"https://nominatim.openstreetmap.org/ui/mapicons/shopping_bakery.p.20.png\"},{\"place_id\":56939890,\"licence\":\"Data © OpenStreetMap contributors, ODbL 1.0. https://osm.org/copyright\",\"osm_type\":\"node\",\"osm_id\":5148653621,\"boundingbox\":[\"47.6096073\",\"47.6097073\",\"-122.3433201\",\"-122.3432201\"],\"lat\":\"47.6096573\",\"lon\":\"-122.3432701\",\"display_name\":\"Honest Biscuits, Western Avenue, West Edge, Belltown, Seattle, King County, Washington, 98181, United States\",\"class\":\"shop\",\"type\":\"bakery\",\"importance\":0.20000999999999997,\"icon\":\"https://nominatim.openstreetmap.org/ui/mapicons/shopping_bakery.p.20.png\"},{\"place_id\":65470454,\"licence\":\"Data © OpenStreetMap contributors, ODbL 1.0. https://osm.org/copyright\",\"osm_type\":\"node\",\"osm_id\":6056281490,\"boundingbox\":[\"47.6131728\",\"47.6132728\",\"-122.345978\",\"-122.345878\"],\"lat\":\"47.6132228\",\"lon\":\"-122.345928\",\"display_name\":\"Insomnia Cookies, 2224, 1st Avenue, Central Business District, Belltown, Seattle, King County, Washington, 98121, United States\",\"class\":\"shop\",\"type\":\"bakery\",\"importance\":0.20000999999999997,\"icon\":\"https://nominatim.openstreetmap.org/ui/mapicons/shopping_bakery.p.20.png\"},{\"place_id\":20319956,\"licence\":\"Data © OpenStreetMap contributors, ODbL 1.0. https://osm.org/copyright\",\"osm_type\":\"node\",\"osm_id\":2338569326,\"boundingbox\":[\"47.5581293\",\"47.5582293\",\"-122.2854876\",\"-122.2853876\"],\"lat\":\"47.5581793\",\"lon\":\"-122.2854376\",\"display_name\":\"Columbia City Bakery, 4865, Rainier Avenue South, Columbia City, Rainier Valley, Seattle, King County, Washington, 98118, United States\",\"class\":\"shop\",\"type\":\"bakery\",\"importance\":0.20000999999999997,\"icon\":\"https://nominatim.openstreetmap.org/ui/mapicons/shopping_bakery.p.20.png\"},{\"place_id\":20438830,\"licence\":\"Data © OpenStreetMap contributors, ODbL 1.0. https://osm.org/copyright\",\"osm_type\":\"node\",\"osm_id\":2327652050,\"boundingbox\":[\"47.6167402\",\"47.6168402\",\"-122.3467478\",\"-122.3466478\"],\"lat\":\"47.6167902\",\"lon\":\"-122.3466978\",\"display_name\":\"La Parisienne, 2507, 4th Avenue, Uptown, Belltown, Seattle, King County, Washington, 98121, United States\",\"class\":\"shop\",\"type\":\"bakery\",\"importance\":0.20000999999999997,\"icon\":\"https://nominatim.openstreetmap.org/ui/mapicons/shopping_bakery.p.20.png\"},{\"place_id\":20270823,\"licence\":\"Data © OpenStreetMap contributors, ODbL 1.0. https://osm.org/copyright\",\"osm_type\":\"node\",\"osm_id\":2327663076,\"boundingbox\":[\"47.613963\",\"47.614063\",\"-122.3473274\",\"-122.3472274\"],\"lat\":\"47.614013\",\"lon\":\"-122.3472774\",\"display_name\":\"Limoncello Belltown, 2326, 1st Avenue, Central Business District, Belltown, Seattle, King County, Washington, 98121, United States\",\"class\":\"shop\",\"type\":\"bakery\",\"importance\":0.20000999999999997,\"icon\":\"https://nominatim.openstreetmap.org/ui/mapicons/shopping_bakery.p.20.png\"},{\"place_id\":20364120,\"licence\":\"Data © OpenStreetMap contributors, ODbL 1.0. https://osm.org/copyright\",\"osm_type\":\"node\",\"osm_id\":2327652000,\"boundingbox\":[\"47.6144199\",\"47.6145199\",\"-122.3480303\",\"-122.3479303\"],\"lat\":\"47.6144699\",\"lon\":\"-122.3479803\",\"display_name\":\"Macrina Bakery - Belltown, 2408, 1st Avenue, Central Business District, Belltown, Seattle, King County, Washington, 98121, United States\",\"class\":\"shop\",\"type\":\"bakery\",\"importance\":0.20000999999999997,\"icon\":\"https://nominatim.openstreetmap.org/ui/mapicons/shopping_bakery.p.20.png\"}]'"
      ]
     },
     "execution_count": 22,
     "metadata": {},
     "output_type": "execute_result"
    }
   ],
   "source": [
    "response.text"
   ]
  },
  {
   "cell_type": "code",
   "execution_count": null,
   "id": "f0c4ce07",
   "metadata": {},
   "outputs": [],
   "source": []
  }
 ],
 "metadata": {
  "kernelspec": {
   "display_name": "Python 3",
   "language": "python",
   "name": "python3"
  },
  "language_info": {
   "codemirror_mode": {
    "name": "ipython",
    "version": 3
   },
   "file_extension": ".py",
   "mimetype": "text/x-python",
   "name": "python",
   "nbconvert_exporter": "python",
   "pygments_lexer": "ipython3",
   "version": "3.11.2"
  }
 },
 "nbformat": 4,
 "nbformat_minor": 5
}
