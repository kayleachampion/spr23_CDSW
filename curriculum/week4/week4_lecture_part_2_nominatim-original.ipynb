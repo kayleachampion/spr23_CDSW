{
 "cells": [
  {
   "cell_type": "code",
   "execution_count": 1,
   "id": "6bbdf1ae",
   "metadata": {},
   "outputs": [],
   "source": [
    "import requests"
   ]
  },
  {
   "cell_type": "code",
   "execution_count": 51,
   "id": "98d14e86",
   "metadata": {},
   "outputs": [],
   "source": [
    "url = \"https://nominatim.openstreetmap.org/search\"\n",
    "my_params = {'q' : \"[gas station]\",\n",
    "             'format' : 'jsonv2',\n",
    "             'viewbox' : '-121.51409,38.59500,-121.42371,38.55528',\n",
    "             'bounded' : 1,\n",
    "             'limit' : 50}\n",
    "\n",
    "response = requests.get(url, params=my_params)\n",
    "\n",
    "if response.status_code == 200:\n",
    "    data = response.json()\n",
    "else:\n",
    "    print(\"ERROR: request was not successfully\")"
   ]
  },
  {
   "cell_type": "code",
   "execution_count": 52,
   "id": "00bb3a79",
   "metadata": {},
   "outputs": [
    {
     "name": "stdout",
     "output_type": "stream",
     "text": [
      "Arco, 2100, Broadway, Oak Park, Land Park, Sacramento, Sacramento County, CAL Fire Northern Region, California, 95818, United States\n",
      "Valero, 3100, Broadway, Oak Park, Sacramento, Sacramento County, CAL Fire Northern Region, California, 95817, United States\n",
      "76, 2330, Broadway, Oak Park, Land Park, Sacramento, Sacramento County, CAL Fire Northern Region, California, 95818, United States\n",
      "76, P Street, Sacramento, Sacramento County, CAL Fire Northern Region, California, 95816, United States\n",
      "Valero, Broadway, Land Park, Sacramento, Sacramento County, CAL Fire Northern Region, California, 95818, United States\n",
      "Chevron, K Street, Sacramento, Sacramento County, CAL Fire Northern Region, California, 95816, United States\n",
      "Stop and Shop, Folsom Boulevard, Sacramento, Sacramento County, CAL Fire Northern Region, California, 95817, United States\n",
      "Shell, 730, 29th Street, Sacramento, Sacramento County, CAL Fire Northern Region, California, 95816, United States\n",
      "Arco, 2225, 16th Street, Land Park, Sacramento, Sacramento County, CAL Fire Northern Region, California, 95818, United States\n",
      "Arco, 2838, J Street, Sacramento, Sacramento County, CAL Fire Northern Region, California, 95816, United States\n",
      "One Stop Gas, 2401, 16th Street, Land Park, Sacramento, Sacramento County, CAL Fire Northern Region, California, 95818, United States\n",
      "Chevron, 1828, Broadway, Land Park, Sacramento, Sacramento County, CAL Fire Northern Region, California, 95818, United States\n",
      "Propel Fuel, Quinn Avenue, Land Park, Sacramento, Sacramento County, CAL Fire Northern Region, California, 95818, United States\n"
     ]
    }
   ],
   "source": [
    "for place in data:\n",
    "    print(place['display_name'])"
   ]
  },
  {
   "cell_type": "code",
   "execution_count": 46,
   "id": "c98fd38f",
   "metadata": {},
   "outputs": [
    {
     "data": {
      "text/plain": [
       "0"
      ]
     },
     "execution_count": 46,
     "metadata": {},
     "output_type": "execute_result"
    }
   ],
   "source": [
    "len(data)"
   ]
  },
  {
   "cell_type": "code",
   "execution_count": 23,
   "id": "67d930f9",
   "metadata": {},
   "outputs": [
    {
     "data": {
      "text/plain": [
       "'https://nominatim.openstreetmap.org/search?q=%5Bbakery%5D+in+seattle%2C+wa&format=jsonv2'"
      ]
     },
     "execution_count": 23,
     "metadata": {},
     "output_type": "execute_result"
    }
   ],
   "source": [
    "response.url"
   ]
  },
  {
   "cell_type": "code",
   "execution_count": null,
   "id": "0132bb03",
   "metadata": {},
   "outputs": [],
   "source": [
    "# -122.3151642712213, 47.667874124018766, "
   ]
  }
 ],
 "metadata": {
  "kernelspec": {
   "display_name": "Python 3",
   "language": "python",
   "name": "python3"
  },
  "language_info": {
   "codemirror_mode": {
    "name": "ipython",
    "version": 3
   },
   "file_extension": ".py",
   "mimetype": "text/x-python",
   "name": "python",
   "nbconvert_exporter": "python",
   "pygments_lexer": "ipython3",
   "version": "3.11.2"
  }
 },
 "nbformat": 4,
 "nbformat_minor": 5
}
