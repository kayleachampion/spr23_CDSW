{
 "cells": [
  {
   "cell_type": "code",
   "execution_count": 1,
   "id": "6bbdf1ae",
   "metadata": {},
   "outputs": [],
   "source": [
    "import requests"
   ]
  },
  {
   "cell_type": "markdown",
   "id": "7dd39665",
   "metadata": {},
   "source": [
    "first, lets just do a query for evey bakery; remember that we use \"[bakery]\" to look for bakeries but \"bakery\" to look for the term bakery but that [bakery] with the restriction only works if we are looking within a specific bounded area"
   ]
  },
  {
   "cell_type": "code",
   "execution_count": 2,
   "id": "98d14e86",
   "metadata": {},
   "outputs": [],
   "source": [
    "url = \"https://nominatim.openstreetmap.org/search\"\n",
    "my_params = {'q' : \"bakery\",\n",
    "             'format' : 'jsonv2',\n",
    "             'limit' : 50}\n",
    "\n",
    "response = requests.get(url, params=my_params)\n",
    "\n",
    "if response.status_code == 200:\n",
    "    data = response.json()\n",
    "else:\n",
    "    print(\"ERROR: request was not successfully\")"
   ]
  },
  {
   "cell_type": "code",
   "execution_count": 3,
   "id": "8b787fa4",
   "metadata": {},
   "outputs": [
    {
     "data": {
      "text/plain": [
       "'https://nominatim.openstreetmap.org/search?q=bakery&format=jsonv2&limit=50'"
      ]
     },
     "execution_count": 3,
     "metadata": {},
     "output_type": "execute_result"
    }
   ],
   "source": [
    "response.url"
   ]
  },
  {
   "cell_type": "markdown",
   "id": "c7c5e1d7",
   "metadata": {},
   "source": [
    "what type is it? lets play around with it and inspect ita  bit"
   ]
  },
  {
   "cell_type": "code",
   "execution_count": 4,
   "id": "ac4b9f6e",
   "metadata": {},
   "outputs": [
    {
     "data": {
      "text/plain": [
       "list"
      ]
     },
     "execution_count": 4,
     "metadata": {},
     "output_type": "execute_result"
    }
   ],
   "source": [
    "type(data)"
   ]
  },
  {
   "cell_type": "code",
   "execution_count": 5,
   "id": "9364f9c5",
   "metadata": {},
   "outputs": [
    {
     "data": {
      "text/plain": [
       "50"
      ]
     },
     "execution_count": 5,
     "metadata": {},
     "output_type": "execute_result"
    }
   ],
   "source": [
    "len(data)"
   ]
  },
  {
   "cell_type": "code",
   "execution_count": 6,
   "id": "dbadcb2d",
   "metadata": {},
   "outputs": [
    {
     "data": {
      "text/plain": [
       "{'place_id': 98007856,\n",
       " 'licence': 'Data © OpenStreetMap contributors, ODbL 1.0. https://osm.org/copyright',\n",
       " 'osm_type': 'node',\n",
       " 'osm_id': 9626426632,\n",
       " 'boundingbox': ['0.3225122', '0.3625122', '32.556213', '32.596213'],\n",
       " 'lat': '0.3425122',\n",
       " 'lon': '32.576213',\n",
       " 'display_name': 'Bakery, Kampala, Central Region, Uganda',\n",
       " 'place_rank': 19,\n",
       " 'category': 'place',\n",
       " 'type': 'village',\n",
       " 'importance': 0.375,\n",
       " 'icon': 'https://nominatim.openstreetmap.org/ui/mapicons/poi_place_village.p.20.png'}"
      ]
     },
     "execution_count": 6,
     "metadata": {},
     "output_type": "execute_result"
    }
   ],
   "source": [
    "data[0]"
   ]
  },
  {
   "cell_type": "code",
   "execution_count": 7,
   "id": "19a740a3",
   "metadata": {},
   "outputs": [
    {
     "name": "stdout",
     "output_type": "stream",
     "text": [
      "Bakery, Kampala, Central Region, Uganda\n",
      "bakery, Banjul, Kombo North/Saint Mary, Gambia\n",
      "Bakery, Köpetdag etraby, Aşgabat, Türkmenistan\n",
      "Bakery, Mabalacat, Pampanga, Central Luzon, Philippines\n",
      "Bakery, Bagong Silang I, Camarines Norte, Bicol Region, 4604, Philippines\n",
      "Хлібокомбінат, Баня Котівська, Борислав, Бориславська міська громада, Дрогобицький район, Львівська область, Україна\n",
      "bakery, Morin-Heights, Les Pays-d'en-Haut, Laurentides, Québec, J0R 1H0, Canada\n",
      "bakery, سیمای ایران, ایوانک, ناحیه ۷ منطقه ۲, منطقه ۲ شهر تهران, شهر تهران, بخش مرکزی شهرستان تهران, شهرستان تهران, 14667-13713, ایران\n",
      "bakery, Վահրամ Փափազյան փողոց, Արաբկիր, Երևան, 0012, Հայաստան\n",
      "bakery, Adoor - Vandiperiyar Highway, Ranni, Pathanamthitta, Kerala, 689662, India\n",
      "bakery, 4009. Sokak, Turgutreis, Bodrum, Muğla, Ege Bölgesi, 48960, Türkiye\n",
      "Bakery, Strada Ion Creangă, Centrul Nou, Brașov, Zona Metropolitană Brașov, Brașov, 500412, România\n",
      "Bakery, Zambezi Road, Lusaka, Lusaka District, Lusaka Province, Zambia\n",
      "Bakery, Sathy Main Road, Ward 46, North Zone, Coimbatore, Coimbatore North, Coimbatore District, Tamil Nadu, 641001, India\n",
      "BAKERY, Lubao Old National Road, Purok 1, Pulung Maligaya, Santo Tomas, Pampanga, Central Luzon, 2004, Philippines\n",
      "Bakery, شکوفه دوم, پونک جنوبی, پونک, منطقه ۵ شهر تهران, شهر تهران, بخش مرکزی شهرستان تهران, شهرستان تهران, 14767-19411, ایران\n",
      "Bakery, Տարոնցի փողոցի նրբանցք, Ներքին Շենգավիթ, Շենգավիթ, Երևան, 0055, Հայաստան\n",
      "Bakery, Hosahalli Main Road, Goripalya, Jagajivanaramnagar, West Zone, Bengaluru, Bangalore North, Bangalore Urban, Karnataka, 560104, India\n",
      "Bakery, Навруз улица, Pastdarhon, Sirg'ali tumani, Toshkent, 100000, Oʻzbekiston\n",
      "Bakery, شاہراہِ قائدِ اعظم, Zulfiqarabad, نگرال, گلگت, گلگت بلتستان, پاکستان\n",
      "Bakery, Sun Valley Drive, Sun Valley, Parañaque, Southern Manila District, Metro Manila, 1700, Philippines\n",
      "Bakery, Drumour Lodge, Trochry, Perth and Kinross, Alba / Scotland, PH8 0ED, United Kingdom\n",
      "Bakery, Palanas, Tanzang Luma VI, Bayan Luma VIII, Imus, Cavite, Calabarzon, 4103, Philippines\n",
      "Bakery, بلوار صیادی, مسکن مهر, شهر درگهان, بخش مرکزی شهرستان قشم, شهرستان قشم, استان هرمزگان, 79531-69120, ایران\n",
      "Bakery, البحر, ג'סר א-זרקא, נפת חדרה, מחוז חיפה, 3056502, ישראל\n",
      "Bakery, NH62, Nokha, Nagaur Tehsil, Nagaur District, Rajasthan, 341029, India\n",
      "Bakery, NH163, Ragunathpally mandal, Jangaon, Telangana, 506244, India\n",
      "Bakery, Geronimo Laurente Avenue, Marcelino Memije, General Mariano Alvarez, Cavite, Calabarzon, 4117, Philippines\n",
      "Bakery, Congressional Road, Gavino Maderan, General Mariano Alvarez, Cavite, Calabarzon, 4117, Philippines\n",
      "Bakery, Gutad-Santa Cruz Access Road, Sitio Centro, Santa Cruz, Pampanga, Central Luzon, 2005, Philippines\n",
      "Bakery, Quốc lộ 9 cũ, Thành phố Đông Hà, Cam Lộ, Tỉnh Quảng Trị, Việt Nam\n",
      "Skansens bageri, 49-51, Djurgårdsslätten, Djurgårdsstaden, Djurgården, Östermalms stadsdelsområde, Stockholms kommun, Stockholms län, 115 21, Sverige\n",
      "مخبز الفوانيس, شارع الغزاوة, حي بني وليد, جابر بن حيان, طرابلس, ليبيا\n",
      "مخبز سليم, شارع الصويعي الخيتوني, Alsreem, سيدي خليفة, الصريم, طرابلس, ليبيا\n",
      "بن رحال للخبز والحلويات, شارع علي بن أبي طالب, Ben Ashour, سيدي خليفة, فشلوم, طرابلس, ليبيا\n",
      "مخبز الشروي, شارع الهادي بن يونس, Alsreem, سيدي خليفة, الصريم, طرابلس, ليبيا\n",
      "خانه نان, خاقانی, مارنان, منطقه ۵, اصفهان, بخش مرکزی شهرستان اصفهان, شهرستان اصفهان, استان اصفهان, 81758-64891, ایران\n",
      "نانوایی خیام, بلوار خیام, زمرد, beik khorasani saipa, منطقه ۲, شهر مشهد, بخش مرکزی شهرستان مشهد, شهرستان مشهد, استان خراسان رضوی, 91848-45943, ایران\n",
      "مخبز الجزيرة, الطريق الدائري جنزور, جنزور, الجفارة, ليبيا\n",
      "مخبز الكامور, طريق الرابطة : بئر الغنم, الرابطة الشرقية, الرابطة, الجبل الغربي, ليبيا\n",
      "مخبز النهضة, طريق الرابطة : بئر الغنم, الرابطة الشرقية, الرابطة, الجبل الغربي, ليبيا\n",
      "مخبز البركة, شارع جمال عبدالناصر, حي الكويت, المشاشطة, الجفارة, ليبيا\n",
      "مخبز, شارع عمرو بن العاص, حي الكويت, جنزور, الجفارة, ليبيا\n",
      "مخبز البركة, طريق اولاد سويسي السراج, جنزور, الجفارة, ليبيا\n",
      "مخبز الشرقية, طريق المعاقين, جنزور, الجفارة, ليبيا\n",
      "مخبز, الطريق الساحلي, صياد, الجفارة, ليبيا\n",
      "مخبز ابوغرارة, شارع عبدالله بن مسعود, حي الكويت, جنزور, الجفارة, ليبيا\n",
      "مخبز جوهر, الطريق الدائري جنزور, المشاشطة, الجفارة, ليبيا\n",
      "المخبز التركي, طريق الرشاح النجيلة, الرشاح, المشاشطة, الجفارة, ليبيا\n",
      "مخبز القصيبة, شارع سليمان خاطر, حي الكويت, جنزور, الجفارة, ليبيا\n"
     ]
    }
   ],
   "source": [
    "for place in data:\n",
    "    print(place['display_name'])"
   ]
  },
  {
   "cell_type": "code",
   "execution_count": 8,
   "id": "627a21e5",
   "metadata": {},
   "outputs": [
    {
     "name": "stdout",
     "output_type": "stream",
     "text": [
      "Bakery, Kampala, Central Region, Uganda\n",
      "bakery, Banjul, Kombo North/Saint Mary, Gambia\n",
      "Bakery, Köpetdag etraby, Aşgabat, Türkmenistan\n",
      "Bakery, Mabalacat, Pampanga, Central Luzon, Philippines\n",
      "Bakery, Bagong Silang I, Camarines Norte, Bicol Region, 4604, Philippines\n",
      "Хлібокомбінат, Баня Котівська, Борислав, Бориславська міська громада, Дрогобицький район, Львівська область, Україна\n",
      "bakery, Morin-Heights, Les Pays-d'en-Haut, Laurentides, Québec, J0R 1H0, Canada\n",
      "bakery, سیمای ایران, ایوانک, ناحیه ۷ منطقه ۲, منطقه ۲ شهر تهران, شهر تهران, بخش مرکزی شهرستان تهران, شهرستان تهران, 14667-13713, ایران\n",
      "bakery, Վահրամ Փափազյան փողոց, Արաբկիր, Երևան, 0012, Հայաստան\n",
      "bakery, Adoor - Vandiperiyar Highway, Ranni, Pathanamthitta, Kerala, 689662, India\n",
      "bakery, 4009. Sokak, Turgutreis, Bodrum, Muğla, Ege Bölgesi, 48960, Türkiye\n",
      "Bakery, Strada Ion Creangă, Centrul Nou, Brașov, Zona Metropolitană Brașov, Brașov, 500412, România\n",
      "Bakery, Zambezi Road, Lusaka, Lusaka District, Lusaka Province, Zambia\n",
      "Bakery, Sathy Main Road, Ward 46, North Zone, Coimbatore, Coimbatore North, Coimbatore District, Tamil Nadu, 641001, India\n",
      "BAKERY, Lubao Old National Road, Purok 1, Pulung Maligaya, Santo Tomas, Pampanga, Central Luzon, 2004, Philippines\n",
      "Bakery, شکوفه دوم, پونک جنوبی, پونک, منطقه ۵ شهر تهران, شهر تهران, بخش مرکزی شهرستان تهران, شهرستان تهران, 14767-19411, ایران\n",
      "Bakery, Տարոնցի փողոցի նրբանցք, Ներքին Շենգավիթ, Շենգավիթ, Երևան, 0055, Հայաստան\n",
      "Bakery, Hosahalli Main Road, Goripalya, Jagajivanaramnagar, West Zone, Bengaluru, Bangalore North, Bangalore Urban, Karnataka, 560104, India\n",
      "Bakery, Навруз улица, Pastdarhon, Sirg'ali tumani, Toshkent, 100000, Oʻzbekiston\n",
      "Bakery, شاہراہِ قائدِ اعظم, Zulfiqarabad, نگرال, گلگت, گلگت بلتستان, پاکستان\n",
      "Bakery, Sun Valley Drive, Sun Valley, Parañaque, Southern Manila District, Metro Manila, 1700, Philippines\n",
      "Bakery, Drumour Lodge, Trochry, Perth and Kinross, Alba / Scotland, PH8 0ED, United Kingdom\n",
      "Bakery, Palanas, Tanzang Luma VI, Bayan Luma VIII, Imus, Cavite, Calabarzon, 4103, Philippines\n",
      "Bakery, بلوار صیادی, مسکن مهر, شهر درگهان, بخش مرکزی شهرستان قشم, شهرستان قشم, استان هرمزگان, 79531-69120, ایران\n",
      "Bakery, البحر, ג'סר א-זרקא, נפת חדרה, מחוז חיפה, 3056502, ישראל\n",
      "Bakery, NH62, Nokha, Nagaur Tehsil, Nagaur District, Rajasthan, 341029, India\n",
      "Bakery, NH163, Ragunathpally mandal, Jangaon, Telangana, 506244, India\n",
      "Bakery, Geronimo Laurente Avenue, Marcelino Memije, General Mariano Alvarez, Cavite, Calabarzon, 4117, Philippines\n",
      "Bakery, Congressional Road, Gavino Maderan, General Mariano Alvarez, Cavite, Calabarzon, 4117, Philippines\n",
      "Bakery, Gutad-Santa Cruz Access Road, Sitio Centro, Santa Cruz, Pampanga, Central Luzon, 2005, Philippines\n",
      "Bakery, Quốc lộ 9 cũ, Thành phố Đông Hà, Cam Lộ, Tỉnh Quảng Trị, Việt Nam\n",
      "Skansens bageri, 49-51, Djurgårdsslätten, Djurgårdsstaden, Djurgården, Östermalms stadsdelsområde, Stockholms kommun, Stockholms län, 115 21, Sverige\n",
      "مخبز الفوانيس, شارع الغزاوة, حي بني وليد, جابر بن حيان, طرابلس, ليبيا\n",
      "مخبز سليم, شارع الصويعي الخيتوني, Alsreem, سيدي خليفة, الصريم, طرابلس, ليبيا\n",
      "بن رحال للخبز والحلويات, شارع علي بن أبي طالب, Ben Ashour, سيدي خليفة, فشلوم, طرابلس, ليبيا\n",
      "مخبز الشروي, شارع الهادي بن يونس, Alsreem, سيدي خليفة, الصريم, طرابلس, ليبيا\n",
      "خانه نان, خاقانی, مارنان, منطقه ۵, اصفهان, بخش مرکزی شهرستان اصفهان, شهرستان اصفهان, استان اصفهان, 81758-64891, ایران\n",
      "نانوایی خیام, بلوار خیام, زمرد, beik khorasani saipa, منطقه ۲, شهر مشهد, بخش مرکزی شهرستان مشهد, شهرستان مشهد, استان خراسان رضوی, 91848-45943, ایران\n",
      "مخبز الجزيرة, الطريق الدائري جنزور, جنزور, الجفارة, ليبيا\n",
      "مخبز الكامور, طريق الرابطة : بئر الغنم, الرابطة الشرقية, الرابطة, الجبل الغربي, ليبيا\n",
      "مخبز النهضة, طريق الرابطة : بئر الغنم, الرابطة الشرقية, الرابطة, الجبل الغربي, ليبيا\n",
      "مخبز البركة, شارع جمال عبدالناصر, حي الكويت, المشاشطة, الجفارة, ليبيا\n",
      "مخبز, شارع عمرو بن العاص, حي الكويت, جنزور, الجفارة, ليبيا\n",
      "مخبز البركة, طريق اولاد سويسي السراج, جنزور, الجفارة, ليبيا\n",
      "مخبز الشرقية, طريق المعاقين, جنزور, الجفارة, ليبيا\n",
      "مخبز, الطريق الساحلي, صياد, الجفارة, ليبيا\n",
      "مخبز ابوغرارة, شارع عبدالله بن مسعود, حي الكويت, جنزور, الجفارة, ليبيا\n",
      "مخبز جوهر, الطريق الدائري جنزور, المشاشطة, الجفارة, ليبيا\n",
      "المخبز التركي, طريق الرشاح النجيلة, الرشاح, المشاشطة, الجفارة, ليبيا\n",
      "مخبز القصيبة, شارع سليمان خاطر, حي الكويت, جنزور, الجفارة, ليبيا\n"
     ]
    }
   ],
   "source": [
    "for place in data:\n",
    "    print(place['display_name'])"
   ]
  },
  {
   "cell_type": "markdown",
   "id": "0c1e39da",
   "metadata": {},
   "source": [
    "lets try to just search within seattle"
   ]
  },
  {
   "cell_type": "code",
   "execution_count": 9,
   "id": "ac000806",
   "metadata": {},
   "outputs": [],
   "source": [
    "url = \"https://nominatim.openstreetmap.org/search\"\n",
    "my_params = {'q' : \"bakery in seattle, wa\",\n",
    "             'format' : 'jsonv2',\n",
    "             'limit' : 10}\n",
    "\n",
    "response = requests.get(url, params=my_params)\n",
    "\n",
    "if response.status_code == 200:\n",
    "    data = response.json()\n",
    "else:\n",
    "    print(\"ERROR: request was not successfully\")"
   ]
  },
  {
   "cell_type": "code",
   "execution_count": 10,
   "id": "c35d229b",
   "metadata": {},
   "outputs": [
    {
     "data": {
      "text/plain": [
       "10"
      ]
     },
     "execution_count": 10,
     "metadata": {},
     "output_type": "execute_result"
    }
   ],
   "source": [
    "len(data)"
   ]
  },
  {
   "cell_type": "code",
   "execution_count": 11,
   "id": "00bb3a79",
   "metadata": {},
   "outputs": [
    {
     "name": "stdout",
     "output_type": "stream",
     "text": [
      "Sun Bakery & Deli, 658, South Jackson Street, Little Saigon, International District/Chinatown, Seattle, King County, Washington, 98104, United States\n",
      "Bakery Nouveau, 137, 15th Avenue East, Madison Valley, Capitol Hill, Seattle, King County, Washington, 98112, United States\n",
      "Sugar Bakery & Cafe, 1014, Madison Street, First Hill, Seattle, King County, Washington, 98104, United States\n",
      "Fuji Bakery, 1030, Elliott Avenue West, Queen Anne, Seattle, King County, Washington, 98119, United States\n",
      "Macrina Bakery - Belltown, 2408, 1st Avenue, Central Business District, Belltown, Seattle, King County, Washington, 98121, United States\n",
      "Three Girls Bakery, 1514, Pike Place, West Edge, Belltown, Seattle, King County, Washington, 98101, United States\n",
      "Crumble & Flake Patisserie, 1500, East Olive Way, First Hill, Seattle, King County, Washington, 98122, United States\n",
      "Rubinstein Bagels, 403, 15th Avenue East, Madison Valley, Capitol Hill, Seattle, King County, Washington, 98112, United States\n",
      "Cinnamon Works, 1536, Pike Place, West Edge, Belltown, Seattle, King County, Washington, 98101, United States\n",
      "Cinnaholic, 816, East Pike Street, First Hill, Seattle, King County, Washington, 98122, United States\n"
     ]
    }
   ],
   "source": [
    "for place in data:\n",
    "    print(place['display_name'])"
   ]
  },
  {
   "cell_type": "markdown",
   "id": "81a28b6e",
   "metadata": {},
   "source": [
    "now lets try to search for a gas station within a particular bounding box (just like I did in the video)\n",
    "\n",
    "remember that it has to be long1,lat1,long2,lat2 for the two points! this is what tripped me up in the lecture in class "
   ]
  },
  {
   "cell_type": "code",
   "execution_count": 12,
   "id": "ec28e381",
   "metadata": {},
   "outputs": [],
   "source": [
    "url = \"https://nominatim.openstreetmap.org/search\"\n",
    "my_params = {'q' : \"[gas station]\",\n",
    "             'format' : 'jsonv2',\n",
    "             'viewbox' : '-121.51409,38.59500,-121.42371,38.55528',\n",
    "             'bounded' : 1,\n",
    "             'limit' : 5}\n",
    "\n",
    "response = requests.get(url, params=my_params)\n",
    "\n",
    "if response.status_code == 200:\n",
    "    data = response.json()\n",
    "else:\n",
    "    print(\"ERROR: request was not successfully\")"
   ]
  },
  {
   "cell_type": "code",
   "execution_count": 13,
   "id": "c43ff514",
   "metadata": {},
   "outputs": [
    {
     "name": "stdout",
     "output_type": "stream",
     "text": [
      "Arco, 2100, Broadway, Oak Park, Land Park, Sacramento, Sacramento County, CAL Fire Northern Region, California, 95818, United States\n",
      "Valero, 3100, Broadway, Oak Park, Sacramento, Sacramento County, CAL Fire Northern Region, California, 95817, United States\n",
      "76, 2330, Broadway, Oak Park, Land Park, Sacramento, Sacramento County, CAL Fire Northern Region, California, 95818, United States\n",
      "76, P Street, Sacramento, Sacramento County, CAL Fire Northern Region, California, 95816, United States\n",
      "Valero, Broadway, Land Park, Sacramento, Sacramento County, CAL Fire Northern Region, California, 95818, United States\n"
     ]
    }
   ],
   "source": [
    "for place in data:\n",
    "    print(place['display_name'])"
   ]
  }
 ],
 "metadata": {
  "kernelspec": {
   "display_name": "Python 3",
   "language": "python",
   "name": "python3"
  },
  "language_info": {
   "codemirror_mode": {
    "name": "ipython",
    "version": 3
   },
   "file_extension": ".py",
   "mimetype": "text/x-python",
   "name": "python",
   "nbconvert_exporter": "python",
   "pygments_lexer": "ipython3",
   "version": "3.11.2"
  }
 },
 "nbformat": 4,
 "nbformat_minor": 5
}
