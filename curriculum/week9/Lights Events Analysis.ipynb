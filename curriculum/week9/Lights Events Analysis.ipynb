{
 "cells": [
  {
   "cell_type": "markdown",
   "metadata": {},
   "source": [
    "# Step 1: Load up data from the file"
   ]
  },
  {
   "cell_type": "code",
   "execution_count": 1,
   "metadata": {},
   "outputs": [],
   "source": [
    "import pandas as pd\n",
    "import numpy as np\n",
    "from datetime import datetime\n",
    "import dateutil.parser as dp\n",
    "import re\n",
    "import time\n",
    "import pytz"
   ]
  },
  {
   "cell_type": "code",
   "execution_count": 2,
   "metadata": {},
   "outputs": [],
   "source": [
    "import pickle\n",
    "import pathlib\n",
    "\n",
    "wu_data_cache_filename = './weatherunderground_data_cache.db'\n",
    "\n",
    "if pathlib.Path(wu_data_cache_filename).is_file():\n",
    "    wu_data = pickle.load(open(wu_data_cache_filename, 'rb'))"
   ]
  },
  {
   "cell_type": "code",
   "execution_count": 3,
   "metadata": {},
   "outputs": [],
   "source": [
    "with open('light_events', 'r') as f:\n",
    "    raw_events = [l.strip() for l in f]"
   ]
  },
  {
   "cell_type": "code",
   "execution_count": 4,
   "metadata": {},
   "outputs": [],
   "source": [
    "tz_data = {'PDT' : -7*3600, 'PST' : -8*3600}\n",
    "\n",
    "events = [re.match('^(switch|light) (.+)$', l).groups() for l in raw_events]\n",
    "events = [(dp.parse(ts, tzinfos=tz_data), ev) for ev, ts in events]"
   ]
  },
  {
   "cell_type": "code",
   "execution_count": 5,
   "metadata": {},
   "outputs": [],
   "source": [
    "def parse_events(events):\n",
    "    switchon = False\n",
    "    rv = {}\n",
    "    \n",
    "    for ts, ev in events:\n",
    "        if switchon:\n",
    "            if ev == 'light':\n",
    "                rv['light'] = ts\n",
    "                yield(rv)\n",
    "                rv = {}\n",
    "                switchon = False\n",
    "            else:\n",
    "                rv = {}\n",
    "        else:\n",
    "            rv['switch'] = ts\n",
    "            switchon = True\n",
    "            \n",
    "events = pd.DataFrame([x for x in parse_events(events)])"
   ]
  },
  {
   "cell_type": "code",
   "execution_count": 6,
   "metadata": {},
   "outputs": [],
   "source": [
    "events['minutes'] = events[['switch', 'light']].apply(lambda x: (x[1] - x[0]).seconds/60, axis=1)"
   ]
  },
  {
   "cell_type": "markdown",
   "metadata": {},
   "source": [
    "## Step 2: Merge in data from Weather Underground\n",
    "\n",
    "There is a maximum of 10 API calls per minutes so this can take some time."
   ]
  },
  {
   "cell_type": "code",
   "execution_count": 7,
   "metadata": {},
   "outputs": [],
   "source": [
    "import requests\n",
    "\n",
    "wu_api_key = 'FIXME'\n",
    "api_base = 'https://api.wunderground.com/api/{}/history_{}/q/WA/Seattle.json'"
   ]
  },
  {
   "cell_type": "code",
   "execution_count": 8,
   "metadata": {},
   "outputs": [],
   "source": [
    "# convert the wu date objects into datetimes\n",
    "def obs_to_datetime(x):\n",
    "    x = x['utcdate']\n",
    "    numbers = [int(i) for i in [x['year'], x['mon'], x['mday'], x['hour'], x['min']]]\n",
    "    date_obj = datetime(*numbers, tzinfo=pytz.UTC)\n",
    "    #date_obj = date_obj.replace(tzinfo=pytz.UTC)\n",
    "    return(date_obj)\n",
    "\n",
    "# fetch any addition data from the wu api\n",
    "first_fetch = True\n",
    "for date_string in [datetime.strftime(x, format='%Y%m%d') for x in pd.concat([events[\"light\"], events[\"switch\"]])]:\n",
    "    if ('wu_data' not in locals()) or (date_string not in wu_data['date_string'].unique()):\n",
    "        # wait 6 seconds if it's our first time through\n",
    "        if first_fetch:\n",
    "            first_fetch = False\n",
    "        else:\n",
    "            time.sleep(6)\n",
    "        \n",
    "        api_url = api_base.format(wu_api_key, date_string)\n",
    "\n",
    "        r = requests.get(api_url)\n",
    "        payload = r.json()\n",
    "\n",
    "        day_data = pd.DataFrame({'date_string' : date_string,\n",
    "                                 'time_stamp' : [obs_to_datetime(x) for x in payload['history']['observations']],\n",
    "                                 'temp_c' : [float(x['tempm']) for x in payload['history']['observations']]\n",
    "                                })\n",
    "        if 'wu_data' not in locals():\n",
    "            wu_data = day_data\n",
    "        else:\n",
    "            wu_data = wu_data.append(day_data)\n",
    "        \n",
    "        print(\"Fetching: \" + date_string)\n",
    "\n",
    "# sort and then save the current data to the pickle/cache\n",
    "wu_data = wu_data.sort_values(\"time_stamp\")\n",
    "pickle.dump(wu_data, open(wu_data_cache_filename, 'wb'))"
   ]
  },
  {
   "cell_type": "code",
   "execution_count": 9,
   "metadata": {},
   "outputs": [],
   "source": [
    "wu_data_indexed = wu_data.set_index('time_stamp')"
   ]
  },
  {
   "cell_type": "code",
   "execution_count": 10,
   "metadata": {},
   "outputs": [
    {
     "name": "stderr",
     "output_type": "stream",
     "text": [
      "/tmp/ipykernel_326982/892703484.py:3: FutureWarning: Passing method to DatetimeIndex.get_loc is deprecated and will raise in a future version. Use index.get_indexer([item], method=...) instead.\n",
      "  i = wu_data_indexed.index.get_loc(ts, method='nearest')\n"
     ]
    }
   ],
   "source": [
    "# add the temperature data\n",
    "def get_nearest_temp(ts):\n",
    "    i = wu_data_indexed.index.get_loc(ts, method='nearest')\n",
    "    return(wu_data_indexed.iloc[i]['temp_c'])\n",
    "\n",
    "events['temp_c'] = events['switch'].apply(get_nearest_temp)"
   ]
  },
  {
   "cell_type": "code",
   "execution_count": 11,
   "metadata": {},
   "outputs": [],
   "source": [
    "events['temp_k'] = events[\"temp_c\"] + 273.15"
   ]
  },
  {
   "cell_type": "code",
   "execution_count": 12,
   "metadata": {},
   "outputs": [
    {
     "data": {
      "text/html": [
       "<div>\n",
       "<style scoped>\n",
       "    .dataframe tbody tr th:only-of-type {\n",
       "        vertical-align: middle;\n",
       "    }\n",
       "\n",
       "    .dataframe tbody tr th {\n",
       "        vertical-align: top;\n",
       "    }\n",
       "\n",
       "    .dataframe thead th {\n",
       "        text-align: right;\n",
       "    }\n",
       "</style>\n",
       "<table border=\"1\" class=\"dataframe\">\n",
       "  <thead>\n",
       "    <tr style=\"text-align: right;\">\n",
       "      <th></th>\n",
       "      <th>switch</th>\n",
       "      <th>light</th>\n",
       "      <th>minutes</th>\n",
       "      <th>temp_c</th>\n",
       "      <th>temp_k</th>\n",
       "    </tr>\n",
       "  </thead>\n",
       "  <tbody>\n",
       "    <tr>\n",
       "      <th>0</th>\n",
       "      <td>2017-06-20 10:22:49-07:00</td>\n",
       "      <td>2017-06-20 11:53:10-07:00</td>\n",
       "      <td>90.350000</td>\n",
       "      <td>16.7</td>\n",
       "      <td>289.85</td>\n",
       "    </tr>\n",
       "    <tr>\n",
       "      <th>1</th>\n",
       "      <td>2017-06-21 17:03:12-07:00</td>\n",
       "      <td>2017-06-21 18:26:52-07:00</td>\n",
       "      <td>83.666667</td>\n",
       "      <td>19.4</td>\n",
       "      <td>292.55</td>\n",
       "    </tr>\n",
       "    <tr>\n",
       "      <th>2</th>\n",
       "      <td>2017-06-22 17:49:49-07:00</td>\n",
       "      <td>2017-06-22 18:44:27-07:00</td>\n",
       "      <td>54.633333</td>\n",
       "      <td>22.2</td>\n",
       "      <td>295.35</td>\n",
       "    </tr>\n",
       "    <tr>\n",
       "      <th>3</th>\n",
       "      <td>2017-06-23 17:03:34-07:00</td>\n",
       "      <td>2017-06-23 17:41:39-07:00</td>\n",
       "      <td>38.083333</td>\n",
       "      <td>25.6</td>\n",
       "      <td>298.75</td>\n",
       "    </tr>\n",
       "    <tr>\n",
       "      <th>4</th>\n",
       "      <td>2017-06-25 12:04:36-07:00</td>\n",
       "      <td>2017-06-25 12:32:36-07:00</td>\n",
       "      <td>28.000000</td>\n",
       "      <td>27.8</td>\n",
       "      <td>300.95</td>\n",
       "    </tr>\n",
       "    <tr>\n",
       "      <th>5</th>\n",
       "      <td>2017-06-26 17:39:02-07:00</td>\n",
       "      <td>2017-06-26 18:12:36-07:00</td>\n",
       "      <td>33.566667</td>\n",
       "      <td>22.2</td>\n",
       "      <td>295.35</td>\n",
       "    </tr>\n",
       "    <tr>\n",
       "      <th>6</th>\n",
       "      <td>2017-06-27 10:46:53-07:00</td>\n",
       "      <td>2017-06-27 11:37:43-07:00</td>\n",
       "      <td>50.833333</td>\n",
       "      <td>15.6</td>\n",
       "      <td>288.75</td>\n",
       "    </tr>\n",
       "    <tr>\n",
       "      <th>7</th>\n",
       "      <td>2017-07-02 17:29:02-07:00</td>\n",
       "      <td>2017-07-02 18:22:00-07:00</td>\n",
       "      <td>52.966667</td>\n",
       "      <td>23.9</td>\n",
       "      <td>297.05</td>\n",
       "    </tr>\n",
       "    <tr>\n",
       "      <th>8</th>\n",
       "      <td>2017-07-10 10:10:01-07:00</td>\n",
       "      <td>2017-07-10 10:57:42-07:00</td>\n",
       "      <td>47.683333</td>\n",
       "      <td>17.2</td>\n",
       "      <td>290.35</td>\n",
       "    </tr>\n",
       "    <tr>\n",
       "      <th>9</th>\n",
       "      <td>2017-07-10 22:14:36-07:00</td>\n",
       "      <td>2017-07-10 22:50:46-07:00</td>\n",
       "      <td>36.166667</td>\n",
       "      <td>16.7</td>\n",
       "      <td>289.85</td>\n",
       "    </tr>\n",
       "    <tr>\n",
       "      <th>10</th>\n",
       "      <td>2017-07-11 11:05:19-07:00</td>\n",
       "      <td>2017-07-11 12:01:22-07:00</td>\n",
       "      <td>56.050000</td>\n",
       "      <td>16.7</td>\n",
       "      <td>289.85</td>\n",
       "    </tr>\n",
       "    <tr>\n",
       "      <th>11</th>\n",
       "      <td>2017-07-12 18:28:48-07:00</td>\n",
       "      <td>2017-07-12 19:06:57-07:00</td>\n",
       "      <td>38.150000</td>\n",
       "      <td>23.9</td>\n",
       "      <td>297.05</td>\n",
       "    </tr>\n",
       "    <tr>\n",
       "      <th>12</th>\n",
       "      <td>2017-07-13 13:12:51-07:00</td>\n",
       "      <td>2017-07-13 14:00:34-07:00</td>\n",
       "      <td>47.716667</td>\n",
       "      <td>20.6</td>\n",
       "      <td>293.75</td>\n",
       "    </tr>\n",
       "    <tr>\n",
       "      <th>13</th>\n",
       "      <td>2017-07-15 00:07:50-07:00</td>\n",
       "      <td>2017-07-15 01:00:13-07:00</td>\n",
       "      <td>52.383333</td>\n",
       "      <td>17.2</td>\n",
       "      <td>290.35</td>\n",
       "    </tr>\n",
       "    <tr>\n",
       "      <th>14</th>\n",
       "      <td>2017-07-15 17:59:28-07:00</td>\n",
       "      <td>2017-07-15 18:46:11-07:00</td>\n",
       "      <td>46.716667</td>\n",
       "      <td>23.9</td>\n",
       "      <td>297.05</td>\n",
       "    </tr>\n",
       "    <tr>\n",
       "      <th>15</th>\n",
       "      <td>2017-07-15 23:01:58-07:00</td>\n",
       "      <td>2017-07-15 23:52:08-07:00</td>\n",
       "      <td>50.166667</td>\n",
       "      <td>17.8</td>\n",
       "      <td>290.95</td>\n",
       "    </tr>\n",
       "    <tr>\n",
       "      <th>16</th>\n",
       "      <td>2017-07-16 23:53:23-07:00</td>\n",
       "      <td>2017-07-17 00:48:00-07:00</td>\n",
       "      <td>54.616667</td>\n",
       "      <td>16.1</td>\n",
       "      <td>289.25</td>\n",
       "    </tr>\n",
       "    <tr>\n",
       "      <th>17</th>\n",
       "      <td>2017-07-17 17:13:07-07:00</td>\n",
       "      <td>2017-07-17 18:03:51-07:00</td>\n",
       "      <td>50.733333</td>\n",
       "      <td>24.4</td>\n",
       "      <td>297.55</td>\n",
       "    </tr>\n",
       "    <tr>\n",
       "      <th>18</th>\n",
       "      <td>2017-07-18 23:34:00-07:00</td>\n",
       "      <td>2017-07-19 00:21:29-07:00</td>\n",
       "      <td>47.483333</td>\n",
       "      <td>18.9</td>\n",
       "      <td>292.05</td>\n",
       "    </tr>\n",
       "    <tr>\n",
       "      <th>19</th>\n",
       "      <td>2017-07-19 17:48:06-07:00</td>\n",
       "      <td>2017-07-19 18:32:17-07:00</td>\n",
       "      <td>44.183333</td>\n",
       "      <td>25.0</td>\n",
       "      <td>298.15</td>\n",
       "    </tr>\n",
       "    <tr>\n",
       "      <th>20</th>\n",
       "      <td>2017-07-19 20:56:36-07:00</td>\n",
       "      <td>2017-07-19 21:42:16-07:00</td>\n",
       "      <td>45.666667</td>\n",
       "      <td>21.1</td>\n",
       "      <td>294.25</td>\n",
       "    </tr>\n",
       "    <tr>\n",
       "      <th>21</th>\n",
       "      <td>2017-07-20 18:10:54-07:00</td>\n",
       "      <td>2017-07-20 18:56:56-07:00</td>\n",
       "      <td>46.033333</td>\n",
       "      <td>22.8</td>\n",
       "      <td>295.95</td>\n",
       "    </tr>\n",
       "    <tr>\n",
       "      <th>22</th>\n",
       "      <td>2017-07-31 16:51:49-07:00</td>\n",
       "      <td>2017-07-31 17:40:31-07:00</td>\n",
       "      <td>48.700000</td>\n",
       "      <td>27.8</td>\n",
       "      <td>300.95</td>\n",
       "    </tr>\n",
       "    <tr>\n",
       "      <th>23</th>\n",
       "      <td>2017-08-01 00:25:17-07:00</td>\n",
       "      <td>2017-08-01 01:18:42-07:00</td>\n",
       "      <td>53.416667</td>\n",
       "      <td>19.4</td>\n",
       "      <td>292.55</td>\n",
       "    </tr>\n",
       "    <tr>\n",
       "      <th>24</th>\n",
       "      <td>2017-08-01 16:43:36-07:00</td>\n",
       "      <td>2017-08-01 17:24:24-07:00</td>\n",
       "      <td>40.800000</td>\n",
       "      <td>30.0</td>\n",
       "      <td>303.15</td>\n",
       "    </tr>\n",
       "    <tr>\n",
       "      <th>25</th>\n",
       "      <td>2017-08-02 16:01:53-07:00</td>\n",
       "      <td>2017-08-02 16:37:30-07:00</td>\n",
       "      <td>35.616667</td>\n",
       "      <td>29.4</td>\n",
       "      <td>302.55</td>\n",
       "    </tr>\n",
       "    <tr>\n",
       "      <th>26</th>\n",
       "      <td>2017-08-02 21:25:39-07:00</td>\n",
       "      <td>2017-08-02 21:55:47-07:00</td>\n",
       "      <td>30.133333</td>\n",
       "      <td>27.2</td>\n",
       "      <td>300.35</td>\n",
       "    </tr>\n",
       "    <tr>\n",
       "      <th>27</th>\n",
       "      <td>2017-08-03 17:54:29-07:00</td>\n",
       "      <td>2017-08-03 18:28:19-07:00</td>\n",
       "      <td>33.833333</td>\n",
       "      <td>32.2</td>\n",
       "      <td>305.35</td>\n",
       "    </tr>\n",
       "    <tr>\n",
       "      <th>28</th>\n",
       "      <td>2017-08-16 18:28:45-07:00</td>\n",
       "      <td>2017-08-16 19:15:32-07:00</td>\n",
       "      <td>46.783333</td>\n",
       "      <td>25.0</td>\n",
       "      <td>298.15</td>\n",
       "    </tr>\n",
       "    <tr>\n",
       "      <th>29</th>\n",
       "      <td>2017-08-17 16:28:23-07:00</td>\n",
       "      <td>2017-08-17 17:31:44-07:00</td>\n",
       "      <td>63.350000</td>\n",
       "      <td>24.4</td>\n",
       "      <td>297.55</td>\n",
       "    </tr>\n",
       "    <tr>\n",
       "      <th>30</th>\n",
       "      <td>2017-08-22 16:52:35-07:00</td>\n",
       "      <td>2017-08-22 17:33:45-07:00</td>\n",
       "      <td>41.166667</td>\n",
       "      <td>30.6</td>\n",
       "      <td>303.75</td>\n",
       "    </tr>\n",
       "    <tr>\n",
       "      <th>31</th>\n",
       "      <td>2017-08-25 18:06:40-07:00</td>\n",
       "      <td>2017-08-25 19:06:26-07:00</td>\n",
       "      <td>59.766667</td>\n",
       "      <td>23.3</td>\n",
       "      <td>296.45</td>\n",
       "    </tr>\n",
       "    <tr>\n",
       "      <th>32</th>\n",
       "      <td>2017-08-29 19:09:50-07:00</td>\n",
       "      <td>2017-08-29 19:46:47-07:00</td>\n",
       "      <td>36.950000</td>\n",
       "      <td>26.7</td>\n",
       "      <td>299.85</td>\n",
       "    </tr>\n",
       "    <tr>\n",
       "      <th>33</th>\n",
       "      <td>2017-08-30 18:00:02-07:00</td>\n",
       "      <td>2017-08-30 18:59:09-07:00</td>\n",
       "      <td>59.116667</td>\n",
       "      <td>24.4</td>\n",
       "      <td>297.55</td>\n",
       "    </tr>\n",
       "    <tr>\n",
       "      <th>34</th>\n",
       "      <td>2017-09-03 18:42:34-07:00</td>\n",
       "      <td>2017-09-03 19:25:11-07:00</td>\n",
       "      <td>42.616667</td>\n",
       "      <td>28.9</td>\n",
       "      <td>302.05</td>\n",
       "    </tr>\n",
       "    <tr>\n",
       "      <th>35</th>\n",
       "      <td>2017-09-05 18:13:23-07:00</td>\n",
       "      <td>2017-09-05 18:52:02-07:00</td>\n",
       "      <td>38.650000</td>\n",
       "      <td>26.1</td>\n",
       "      <td>299.25</td>\n",
       "    </tr>\n",
       "    <tr>\n",
       "      <th>36</th>\n",
       "      <td>2017-09-12 18:22:44-07:00</td>\n",
       "      <td>2017-09-12 19:28:39-07:00</td>\n",
       "      <td>65.916667</td>\n",
       "      <td>21.7</td>\n",
       "      <td>294.85</td>\n",
       "    </tr>\n",
       "    <tr>\n",
       "      <th>37</th>\n",
       "      <td>2017-09-13 17:34:47-07:00</td>\n",
       "      <td>2017-09-13 18:54:28-07:00</td>\n",
       "      <td>79.683333</td>\n",
       "      <td>20.0</td>\n",
       "      <td>293.15</td>\n",
       "    </tr>\n",
       "    <tr>\n",
       "      <th>38</th>\n",
       "      <td>2017-09-14 18:23:26-07:00</td>\n",
       "      <td>2017-09-14 19:31:14-07:00</td>\n",
       "      <td>67.800000</td>\n",
       "      <td>22.2</td>\n",
       "      <td>295.35</td>\n",
       "    </tr>\n",
       "    <tr>\n",
       "      <th>39</th>\n",
       "      <td>2017-09-15 17:20:08-07:00</td>\n",
       "      <td>2017-09-15 18:15:36-07:00</td>\n",
       "      <td>55.466667</td>\n",
       "      <td>23.9</td>\n",
       "      <td>297.05</td>\n",
       "    </tr>\n",
       "    <tr>\n",
       "      <th>40</th>\n",
       "      <td>2017-09-16 17:56:37-07:00</td>\n",
       "      <td>2017-09-16 18:59:43-07:00</td>\n",
       "      <td>63.100000</td>\n",
       "      <td>22.8</td>\n",
       "      <td>295.95</td>\n",
       "    </tr>\n",
       "    <tr>\n",
       "      <th>41</th>\n",
       "      <td>2017-09-17 13:06:17-07:00</td>\n",
       "      <td>2017-09-17 14:32:54-07:00</td>\n",
       "      <td>86.616667</td>\n",
       "      <td>17.8</td>\n",
       "      <td>290.95</td>\n",
       "    </tr>\n",
       "    <tr>\n",
       "      <th>42</th>\n",
       "      <td>2017-09-27 18:10:59-07:00</td>\n",
       "      <td>2017-09-27 18:52:14-07:00</td>\n",
       "      <td>41.250000</td>\n",
       "      <td>25.0</td>\n",
       "      <td>298.15</td>\n",
       "    </tr>\n",
       "    <tr>\n",
       "      <th>43</th>\n",
       "      <td>2017-09-28 17:22:28-07:00</td>\n",
       "      <td>2017-09-28 18:04:13-07:00</td>\n",
       "      <td>41.750000</td>\n",
       "      <td>30.0</td>\n",
       "      <td>303.15</td>\n",
       "    </tr>\n",
       "    <tr>\n",
       "      <th>44</th>\n",
       "      <td>2017-09-29 16:56:26-07:00</td>\n",
       "      <td>2017-09-29 18:07:34-07:00</td>\n",
       "      <td>71.133333</td>\n",
       "      <td>19.4</td>\n",
       "      <td>292.55</td>\n",
       "    </tr>\n",
       "    <tr>\n",
       "      <th>45</th>\n",
       "      <td>2017-09-30 18:23:24-07:00</td>\n",
       "      <td>2017-09-30 19:36:28-07:00</td>\n",
       "      <td>73.066667</td>\n",
       "      <td>14.4</td>\n",
       "      <td>287.55</td>\n",
       "    </tr>\n",
       "    <tr>\n",
       "      <th>46</th>\n",
       "      <td>2017-10-03 16:19:46-07:00</td>\n",
       "      <td>2017-10-03 17:35:03-07:00</td>\n",
       "      <td>75.283333</td>\n",
       "      <td>19.4</td>\n",
       "      <td>292.55</td>\n",
       "    </tr>\n",
       "    <tr>\n",
       "      <th>47</th>\n",
       "      <td>2017-10-05 17:22:16-07:00</td>\n",
       "      <td>2017-10-05 18:26:04-07:00</td>\n",
       "      <td>63.800000</td>\n",
       "      <td>20.0</td>\n",
       "      <td>293.15</td>\n",
       "    </tr>\n",
       "    <tr>\n",
       "      <th>48</th>\n",
       "      <td>2017-10-09 18:21:09-07:00</td>\n",
       "      <td>2017-10-09 19:41:55-07:00</td>\n",
       "      <td>80.766667</td>\n",
       "      <td>16.1</td>\n",
       "      <td>289.25</td>\n",
       "    </tr>\n",
       "  </tbody>\n",
       "</table>\n",
       "</div>"
      ],
      "text/plain": [
       "                      switch                     light    minutes  temp_c  \\\n",
       "0  2017-06-20 10:22:49-07:00 2017-06-20 11:53:10-07:00  90.350000    16.7   \n",
       "1  2017-06-21 17:03:12-07:00 2017-06-21 18:26:52-07:00  83.666667    19.4   \n",
       "2  2017-06-22 17:49:49-07:00 2017-06-22 18:44:27-07:00  54.633333    22.2   \n",
       "3  2017-06-23 17:03:34-07:00 2017-06-23 17:41:39-07:00  38.083333    25.6   \n",
       "4  2017-06-25 12:04:36-07:00 2017-06-25 12:32:36-07:00  28.000000    27.8   \n",
       "5  2017-06-26 17:39:02-07:00 2017-06-26 18:12:36-07:00  33.566667    22.2   \n",
       "6  2017-06-27 10:46:53-07:00 2017-06-27 11:37:43-07:00  50.833333    15.6   \n",
       "7  2017-07-02 17:29:02-07:00 2017-07-02 18:22:00-07:00  52.966667    23.9   \n",
       "8  2017-07-10 10:10:01-07:00 2017-07-10 10:57:42-07:00  47.683333    17.2   \n",
       "9  2017-07-10 22:14:36-07:00 2017-07-10 22:50:46-07:00  36.166667    16.7   \n",
       "10 2017-07-11 11:05:19-07:00 2017-07-11 12:01:22-07:00  56.050000    16.7   \n",
       "11 2017-07-12 18:28:48-07:00 2017-07-12 19:06:57-07:00  38.150000    23.9   \n",
       "12 2017-07-13 13:12:51-07:00 2017-07-13 14:00:34-07:00  47.716667    20.6   \n",
       "13 2017-07-15 00:07:50-07:00 2017-07-15 01:00:13-07:00  52.383333    17.2   \n",
       "14 2017-07-15 17:59:28-07:00 2017-07-15 18:46:11-07:00  46.716667    23.9   \n",
       "15 2017-07-15 23:01:58-07:00 2017-07-15 23:52:08-07:00  50.166667    17.8   \n",
       "16 2017-07-16 23:53:23-07:00 2017-07-17 00:48:00-07:00  54.616667    16.1   \n",
       "17 2017-07-17 17:13:07-07:00 2017-07-17 18:03:51-07:00  50.733333    24.4   \n",
       "18 2017-07-18 23:34:00-07:00 2017-07-19 00:21:29-07:00  47.483333    18.9   \n",
       "19 2017-07-19 17:48:06-07:00 2017-07-19 18:32:17-07:00  44.183333    25.0   \n",
       "20 2017-07-19 20:56:36-07:00 2017-07-19 21:42:16-07:00  45.666667    21.1   \n",
       "21 2017-07-20 18:10:54-07:00 2017-07-20 18:56:56-07:00  46.033333    22.8   \n",
       "22 2017-07-31 16:51:49-07:00 2017-07-31 17:40:31-07:00  48.700000    27.8   \n",
       "23 2017-08-01 00:25:17-07:00 2017-08-01 01:18:42-07:00  53.416667    19.4   \n",
       "24 2017-08-01 16:43:36-07:00 2017-08-01 17:24:24-07:00  40.800000    30.0   \n",
       "25 2017-08-02 16:01:53-07:00 2017-08-02 16:37:30-07:00  35.616667    29.4   \n",
       "26 2017-08-02 21:25:39-07:00 2017-08-02 21:55:47-07:00  30.133333    27.2   \n",
       "27 2017-08-03 17:54:29-07:00 2017-08-03 18:28:19-07:00  33.833333    32.2   \n",
       "28 2017-08-16 18:28:45-07:00 2017-08-16 19:15:32-07:00  46.783333    25.0   \n",
       "29 2017-08-17 16:28:23-07:00 2017-08-17 17:31:44-07:00  63.350000    24.4   \n",
       "30 2017-08-22 16:52:35-07:00 2017-08-22 17:33:45-07:00  41.166667    30.6   \n",
       "31 2017-08-25 18:06:40-07:00 2017-08-25 19:06:26-07:00  59.766667    23.3   \n",
       "32 2017-08-29 19:09:50-07:00 2017-08-29 19:46:47-07:00  36.950000    26.7   \n",
       "33 2017-08-30 18:00:02-07:00 2017-08-30 18:59:09-07:00  59.116667    24.4   \n",
       "34 2017-09-03 18:42:34-07:00 2017-09-03 19:25:11-07:00  42.616667    28.9   \n",
       "35 2017-09-05 18:13:23-07:00 2017-09-05 18:52:02-07:00  38.650000    26.1   \n",
       "36 2017-09-12 18:22:44-07:00 2017-09-12 19:28:39-07:00  65.916667    21.7   \n",
       "37 2017-09-13 17:34:47-07:00 2017-09-13 18:54:28-07:00  79.683333    20.0   \n",
       "38 2017-09-14 18:23:26-07:00 2017-09-14 19:31:14-07:00  67.800000    22.2   \n",
       "39 2017-09-15 17:20:08-07:00 2017-09-15 18:15:36-07:00  55.466667    23.9   \n",
       "40 2017-09-16 17:56:37-07:00 2017-09-16 18:59:43-07:00  63.100000    22.8   \n",
       "41 2017-09-17 13:06:17-07:00 2017-09-17 14:32:54-07:00  86.616667    17.8   \n",
       "42 2017-09-27 18:10:59-07:00 2017-09-27 18:52:14-07:00  41.250000    25.0   \n",
       "43 2017-09-28 17:22:28-07:00 2017-09-28 18:04:13-07:00  41.750000    30.0   \n",
       "44 2017-09-29 16:56:26-07:00 2017-09-29 18:07:34-07:00  71.133333    19.4   \n",
       "45 2017-09-30 18:23:24-07:00 2017-09-30 19:36:28-07:00  73.066667    14.4   \n",
       "46 2017-10-03 16:19:46-07:00 2017-10-03 17:35:03-07:00  75.283333    19.4   \n",
       "47 2017-10-05 17:22:16-07:00 2017-10-05 18:26:04-07:00  63.800000    20.0   \n",
       "48 2017-10-09 18:21:09-07:00 2017-10-09 19:41:55-07:00  80.766667    16.1   \n",
       "\n",
       "    temp_k  \n",
       "0   289.85  \n",
       "1   292.55  \n",
       "2   295.35  \n",
       "3   298.75  \n",
       "4   300.95  \n",
       "5   295.35  \n",
       "6   288.75  \n",
       "7   297.05  \n",
       "8   290.35  \n",
       "9   289.85  \n",
       "10  289.85  \n",
       "11  297.05  \n",
       "12  293.75  \n",
       "13  290.35  \n",
       "14  297.05  \n",
       "15  290.95  \n",
       "16  289.25  \n",
       "17  297.55  \n",
       "18  292.05  \n",
       "19  298.15  \n",
       "20  294.25  \n",
       "21  295.95  \n",
       "22  300.95  \n",
       "23  292.55  \n",
       "24  303.15  \n",
       "25  302.55  \n",
       "26  300.35  \n",
       "27  305.35  \n",
       "28  298.15  \n",
       "29  297.55  \n",
       "30  303.75  \n",
       "31  296.45  \n",
       "32  299.85  \n",
       "33  297.55  \n",
       "34  302.05  \n",
       "35  299.25  \n",
       "36  294.85  \n",
       "37  293.15  \n",
       "38  295.35  \n",
       "39  297.05  \n",
       "40  295.95  \n",
       "41  290.95  \n",
       "42  298.15  \n",
       "43  303.15  \n",
       "44  292.55  \n",
       "45  287.55  \n",
       "46  292.55  \n",
       "47  293.15  \n",
       "48  289.25  "
      ]
     },
     "execution_count": 12,
     "metadata": {},
     "output_type": "execute_result"
    }
   ],
   "source": [
    "events"
   ]
  },
  {
   "cell_type": "markdown",
   "metadata": {},
   "source": [
    "## Step 3: Graph and analyze data"
   ]
  },
  {
   "cell_type": "code",
   "execution_count": 13,
   "metadata": {},
   "outputs": [],
   "source": [
    "%matplotlib inline\n",
    "\n",
    "# import matplotlib.mlab as mlab\n",
    "import matplotlib.pyplot as plt"
   ]
  },
  {
   "cell_type": "markdown",
   "metadata": {},
   "source": [
    "Simple histographs and graphs over time"
   ]
  },
  {
   "cell_type": "code",
   "execution_count": 14,
   "metadata": {},
   "outputs": [
    {
     "data": {
      "text/plain": [
       "<AxesSubplot: >"
      ]
     },
     "execution_count": 14,
     "metadata": {},
     "output_type": "execute_result"
    },
    {
     "data": {
      "image/png": "[encoded data removed]",
      "text/plain": [
       "<Figure size 640x480 with 1 Axes>"
      ]
     },
     "metadata": {},
     "output_type": "display_data"
    }
   ],
   "source": [
    "events['minutes'].hist()"
   ]
  },
  {
   "cell_type": "code",
   "execution_count": 15,
   "metadata": {},
   "outputs": [
    {
     "data": {
      "text/plain": [
       "[<matplotlib.lines.Line2D at 0x7fc2f23031d0>]"
      ]
     },
     "execution_count": 15,
     "metadata": {},
     "output_type": "execute_result"
    },
    {
     "data": {
      "image/png": "[encoded data removed]",
      "text/plain": [
       "<Figure size 640x480 with 1 Axes>"
      ]
     },
     "metadata": {},
     "output_type": "display_data"
    }
   ],
   "source": [
    "plt.plot(events['switch'], events['minutes'])"
   ]
  },
  {
   "cell_type": "code",
   "execution_count": 16,
   "metadata": {
    "scrolled": false
   },
   "outputs": [
    {
     "data": {
      "text/plain": [
       "Text(0, 0.5, 'minutes')"
      ]
     },
     "execution_count": 16,
     "metadata": {},
     "output_type": "execute_result"
    },
    {
     "data": {
      "image/png": "[encoded data removed]",
      "text/plain": [
       "<Figure size 640x480 with 1 Axes>"
      ]
     },
     "metadata": {},
     "output_type": "display_data"
    }
   ],
   "source": [
    "plt.scatter(events['temp_c'], np.log(events['minutes']))\n",
    "plt.xlabel('temperature')\n",
    "plt.ylabel('minutes')"
   ]
  },
  {
   "cell_type": "code",
   "execution_count": 17,
   "metadata": {},
   "outputs": [
    {
     "data": {
      "text/plain": [
       "SignificanceResult(statistic=-0.6214984466030088, pvalue=1.8820956805749064e-06)"
      ]
     },
     "execution_count": 17,
     "metadata": {},
     "output_type": "execute_result"
    }
   ],
   "source": [
    "from scipy.stats import spearmanr\n",
    "\n",
    "spearmanr(events['minutes'], events['temp_c'], axis=None)"
   ]
  },
  {
   "cell_type": "code",
   "execution_count": 18,
   "metadata": {},
   "outputs": [],
   "source": [
    "#add a log version of minutes\n",
    "events[\"minutes_log\"] = np.log(events[\"minutes\"])"
   ]
  },
  {
   "cell_type": "code",
   "execution_count": 20,
   "metadata": {},
   "outputs": [
    {
     "name": "stdout",
     "output_type": "stream",
     "text": [
      "                            OLS Regression Results                            \n",
      "==============================================================================\n",
      "Dep. Variable:                minutes   R-squared:                       0.357\n",
      "Model:                            OLS   Adj. R-squared:                  0.343\n",
      "Method:                 Least Squares   F-statistic:                     26.05\n",
      "Date:                Wed, 24 May 2023   Prob (F-statistic):           5.92e-06\n",
      "Time:                        12:02:57   Log-Likelihood:                -192.28\n",
      "No. Observations:                  49   AIC:                             388.6\n",
      "Df Residuals:                      47   BIC:                             392.3\n",
      "Df Model:                           1                                         \n",
      "Covariance Type:            nonrobust                                         \n",
      "==============================================================================\n",
      "                 coef    std err          t      P>|t|      [0.025      0.975]\n",
      "------------------------------------------------------------------------------\n",
      "const         98.7251      9.154     10.785      0.000      80.310     117.140\n",
      "temp_c        -2.0340      0.399     -5.104      0.000      -2.836      -1.232\n",
      "==============================================================================\n",
      "Omnibus:                        0.635   Durbin-Watson:                   0.921\n",
      "Prob(Omnibus):                  0.728   Jarque-Bera (JB):                0.756\n",
      "Skew:                           0.191   Prob(JB):                        0.685\n",
      "Kurtosis:                       2.526   Cond. No.                         118.\n",
      "==============================================================================\n",
      "\n",
      "Notes:\n",
      "[1] Standard Errors assume that the covariance matrix of the errors is correctly specified.\n"
     ]
    }
   ],
   "source": [
    "import statsmodels.api as sm\n",
    "model = sm.OLS(events[\"minutes\"], sm.add_constant(events[\"temp_c\"]))\n",
    "\n",
    "print(model.fit().summary())"
   ]
  },
  {
   "cell_type": "code",
   "execution_count": 21,
   "metadata": {},
   "outputs": [
    {
     "name": "stdout",
     "output_type": "stream",
     "text": [
      "                            OLS Regression Results                            \n",
      "==============================================================================\n",
      "Dep. Variable:                minutes   R-squared:                       0.357\n",
      "Model:                            OLS   Adj. R-squared:                  0.343\n",
      "Method:                 Least Squares   F-statistic:                     26.05\n",
      "Date:                Wed, 24 May 2023   Prob (F-statistic):           5.92e-06\n",
      "Time:                        12:03:07   Log-Likelihood:                -192.28\n",
      "No. Observations:                  49   AIC:                             388.6\n",
      "Df Residuals:                      47   BIC:                             392.3\n",
      "Df Model:                           1                                         \n",
      "Covariance Type:            nonrobust                                         \n",
      "==============================================================================\n",
      "                 coef    std err          t      P>|t|      [0.025      0.975]\n",
      "------------------------------------------------------------------------------\n",
      "Intercept     98.7251      9.154     10.785      0.000      80.310     117.140\n",
      "temp_c        -2.0340      0.399     -5.104      0.000      -2.836      -1.232\n",
      "==============================================================================\n",
      "Omnibus:                        0.635   Durbin-Watson:                   0.921\n",
      "Prob(Omnibus):                  0.728   Jarque-Bera (JB):                0.756\n",
      "Skew:                           0.191   Prob(JB):                        0.685\n",
      "Kurtosis:                       2.526   Cond. No.                         118.\n",
      "==============================================================================\n",
      "\n",
      "Notes:\n",
      "[1] Standard Errors assume that the covariance matrix of the errors is correctly specified.\n"
     ]
    }
   ],
   "source": [
    "import statsmodels.formula.api as sm\n",
    "model = sm.ols(formula=\"minutes ~ temp_c\", data=events)\n",
    "\n",
    "print(model.fit().summary())"
   ]
  },
  {
   "cell_type": "markdown",
   "metadata": {},
   "source": [
    "Interpretation is that the a one degree change is associated with a (coef for temp_k is * 100) change in time."
   ]
  },
  {
   "cell_type": "code",
   "execution_count": 22,
   "metadata": {
    "scrolled": true
   },
   "outputs": [
    {
     "data": {
      "text/plain": [
       "Text(0, 0.5, 'log(minutes)')"
      ]
     },
     "execution_count": 22,
     "metadata": {},
     "output_type": "execute_result"
    },
    {
     "data": {
      "image/png": "[encoded data removed]",
      "text/plain": [
       "<Figure size 640x480 with 1 Axes>"
      ]
     },
     "metadata": {},
     "output_type": "display_data"
    }
   ],
   "source": [
    "fit = np.polyfit(events['temp_c'], events['minutes'].apply(np.log), deg=1)\n",
    "\n",
    "plt.scatter(events['temp_c'], events['minutes'].apply(np.log))\n",
    "plt.plot(events['temp_c'], fit[0] * events['temp_c'] + fit[1], color='red')\n",
    "\n",
    "plt.xlabel('temperature')\n",
    "plt.ylabel('log(minutes)')"
   ]
  },
  {
   "cell_type": "code",
   "execution_count": 23,
   "metadata": {},
   "outputs": [
    {
     "name": "stdout",
     "output_type": "stream",
     "text": [
      "                                 OLS Regression Results                                \n",
      "=======================================================================================\n",
      "Dep. Variable:                minutes   R-squared (uncentered):                   0.828\n",
      "Model:                            OLS   Adj. R-squared (uncentered):              0.825\n",
      "Method:                 Least Squares   F-statistic:                              231.3\n",
      "Date:                Wed, 24 May 2023   Prob (F-statistic):                    5.52e-20\n",
      "Time:                        12:03:12   Log-Likelihood:                         -222.80\n",
      "No. Observations:                  49   AIC:                                      447.6\n",
      "Df Residuals:                      48   BIC:                                      449.5\n",
      "Df Model:                           1                                                  \n",
      "Covariance Type:            nonrobust                                                  \n",
      "==============================================================================\n",
      "                 coef    std err          t      P>|t|      [0.025      0.975]\n",
      "------------------------------------------------------------------------------\n",
      "temp_c         2.1817      0.143     15.209      0.000       1.893       2.470\n",
      "==============================================================================\n",
      "Omnibus:                        1.638   Durbin-Watson:                   1.044\n",
      "Prob(Omnibus):                  0.441   Jarque-Bera (JB):                1.471\n",
      "Skew:                           0.292   Prob(JB):                        0.479\n",
      "Kurtosis:                       2.383   Cond. No.                         1.00\n",
      "==============================================================================\n",
      "\n",
      "Notes:\n",
      "[1] R² is computed without centering (uncentered) since the model does not contain a constant.\n",
      "[2] Standard Errors assume that the covariance matrix of the errors is correctly specified.\n"
     ]
    }
   ],
   "source": [
    "import statsmodels.api as sm\n",
    "model = sm.OLS(events[\"minutes\"], events[\"temp_c\"])\n",
    "\n",
    "print(model.fit().summary())"
   ]
  },
  {
   "cell_type": "code",
   "execution_count": 25,
   "metadata": {},
   "outputs": [
    {
     "name": "stderr",
     "output_type": "stream",
     "text": [
      "/tmp/ipykernel_326982/2842044647.py:1: FutureWarning: The default value of numeric_only in DataFrame.corr is deprecated. In a future version, it will default to False. Select only valid columns or specify the value of numeric_only to silence this warning.\n",
      "  events.corr()\n"
     ]
    },
    {
     "data": {
      "text/html": [
       "<div>\n",
       "<style scoped>\n",
       "    .dataframe tbody tr th:only-of-type {\n",
       "        vertical-align: middle;\n",
       "    }\n",
       "\n",
       "    .dataframe tbody tr th {\n",
       "        vertical-align: top;\n",
       "    }\n",
       "\n",
       "    .dataframe thead th {\n",
       "        text-align: right;\n",
       "    }\n",
       "</style>\n",
       "<table border=\"1\" class=\"dataframe\">\n",
       "  <thead>\n",
       "    <tr style=\"text-align: right;\">\n",
       "      <th></th>\n",
       "      <th>minutes</th>\n",
       "      <th>temp_c</th>\n",
       "      <th>temp_k</th>\n",
       "      <th>minutes_log</th>\n",
       "    </tr>\n",
       "  </thead>\n",
       "  <tbody>\n",
       "    <tr>\n",
       "      <th>minutes</th>\n",
       "      <td>1.000000</td>\n",
       "      <td>-0.597147</td>\n",
       "      <td>-0.597147</td>\n",
       "      <td>0.987181</td>\n",
       "    </tr>\n",
       "    <tr>\n",
       "      <th>temp_c</th>\n",
       "      <td>-0.597147</td>\n",
       "      <td>1.000000</td>\n",
       "      <td>1.000000</td>\n",
       "      <td>-0.612309</td>\n",
       "    </tr>\n",
       "    <tr>\n",
       "      <th>temp_k</th>\n",
       "      <td>-0.597147</td>\n",
       "      <td>1.000000</td>\n",
       "      <td>1.000000</td>\n",
       "      <td>-0.612309</td>\n",
       "    </tr>\n",
       "    <tr>\n",
       "      <th>minutes_log</th>\n",
       "      <td>0.987181</td>\n",
       "      <td>-0.612309</td>\n",
       "      <td>-0.612309</td>\n",
       "      <td>1.000000</td>\n",
       "    </tr>\n",
       "  </tbody>\n",
       "</table>\n",
       "</div>"
      ],
      "text/plain": [
       "              minutes    temp_c    temp_k  minutes_log\n",
       "minutes      1.000000 -0.597147 -0.597147     0.987181\n",
       "temp_c      -0.597147  1.000000  1.000000    -0.612309\n",
       "temp_k      -0.597147  1.000000  1.000000    -0.612309\n",
       "minutes_log  0.987181 -0.612309 -0.612309     1.000000"
      ]
     },
     "execution_count": 25,
     "metadata": {},
     "output_type": "execute_result"
    }
   ],
   "source": [
    "events.corr()"
   ]
  },
  {
   "cell_type": "code",
   "execution_count": 55,
   "metadata": {},
   "outputs": [
    {
     "data": {
      "text/html": [
       "<div>\n",
       "<style scoped>\n",
       "    .dataframe tbody tr th:only-of-type {\n",
       "        vertical-align: middle;\n",
       "    }\n",
       "\n",
       "    .dataframe tbody tr th {\n",
       "        vertical-align: top;\n",
       "    }\n",
       "\n",
       "    .dataframe thead th {\n",
       "        text-align: right;\n",
       "    }\n",
       "</style>\n",
       "<table border=\"1\" class=\"dataframe\">\n",
       "  <thead>\n",
       "    <tr style=\"text-align: right;\">\n",
       "      <th></th>\n",
       "      <th>minutes</th>\n",
       "      <th>temp_c</th>\n",
       "    </tr>\n",
       "  </thead>\n",
       "  <tbody>\n",
       "    <tr>\n",
       "      <th>minutes</th>\n",
       "      <td>1.000000</td>\n",
       "      <td>-0.597147</td>\n",
       "    </tr>\n",
       "    <tr>\n",
       "      <th>temp_c</th>\n",
       "      <td>-0.597147</td>\n",
       "      <td>1.000000</td>\n",
       "    </tr>\n",
       "  </tbody>\n",
       "</table>\n",
       "</div>"
      ],
      "text/plain": [
       "          minutes    temp_c\n",
       "minutes  1.000000 -0.597147\n",
       "temp_c  -0.597147  1.000000"
      ]
     },
     "execution_count": 55,
     "metadata": {},
     "output_type": "execute_result"
    }
   ],
   "source": [
    "events[[\"minutes\", \"temp_c\"]].corr()"
   ]
  },
  {
   "cell_type": "code",
   "execution_count": 26,
   "metadata": {},
   "outputs": [
    {
     "data": {
      "text/plain": [
       "<AxesSubplot: >"
      ]
     },
     "execution_count": 26,
     "metadata": {},
     "output_type": "execute_result"
    },
    {
     "data": {
      "image/png": "[encoded data removed]",
      "text/plain": [
       "<Figure size 640x480 with 1 Axes>"
      ]
     },
     "metadata": {},
     "output_type": "display_data"
    }
   ],
   "source": [
    "events.boxplot()"
   ]
  },
  {
   "cell_type": "code",
   "execution_count": null,
   "metadata": {},
   "outputs": [],
   "source": []
  }
 ],
 "metadata": {
  "kernelspec": {
   "display_name": "Python 3 (ipykernel)",
   "language": "python",
   "name": "python3"
  },
  "language_info": {
   "codemirror_mode": {
    "name": "ipython",
    "version": 3
   },
   "file_extension": ".py",
   "mimetype": "text/x-python",
   "name": "python",
   "nbconvert_exporter": "python",
   "pygments_lexer": "ipython3",
   "version": "3.11.2"
  }
 },
 "nbformat": 4,
 "nbformat_minor": 2
}
