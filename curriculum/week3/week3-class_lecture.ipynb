{
 "cells": [
  {
   "cell_type": "code",
   "execution_count": 1,
   "id": "strategic-avenue",
   "metadata": {},
   "outputs": [],
   "source": [
    "favorite_ice_creams = {}"
   ]
  },
  {
   "cell_type": "code",
   "execution_count": 2,
   "id": "planned-destiny",
   "metadata": {},
   "outputs": [
    {
     "data": {
      "text/plain": [
       "dict"
      ]
     },
     "execution_count": 2,
     "metadata": {},
     "output_type": "execute_result"
    }
   ],
   "source": [
    "type(favorite_ice_creams)"
   ]
  },
  {
   "cell_type": "code",
   "execution_count": 8,
   "id": "appreciated-office",
   "metadata": {},
   "outputs": [],
   "source": [
    "favorite_ice_creams = {'mako' : 'green tea', 'kaylea' : \"rocky road\", \"josh\" : \"vienna mocha chunk\"}"
   ]
  },
  {
   "cell_type": "code",
   "execution_count": 9,
   "id": "raising-doctrine",
   "metadata": {},
   "outputs": [
    {
     "data": {
      "text/plain": [
       "{'mako': 'green tea', 'kaylea': 'rocky road', 'josh': 'vienna mocha chunk'}"
      ]
     },
     "execution_count": 9,
     "metadata": {},
     "output_type": "execute_result"
    }
   ],
   "source": [
    "favorite_ice_creams"
   ]
  },
  {
   "cell_type": "code",
   "execution_count": 10,
   "id": "cross-netherlands",
   "metadata": {},
   "outputs": [
    {
     "data": {
      "text/plain": [
       "3"
      ]
     },
     "execution_count": 10,
     "metadata": {},
     "output_type": "execute_result"
    }
   ],
   "source": [
    "len(favorite_ice_creams)"
   ]
  },
  {
   "cell_type": "code",
   "execution_count": 6,
   "id": "weird-singing",
   "metadata": {},
   "outputs": [],
   "source": [
    "list_of_ice_creams = [\"green tea\"]"
   ]
  },
  {
   "cell_type": "code",
   "execution_count": 7,
   "id": "frequent-matthew",
   "metadata": {},
   "outputs": [
    {
     "data": {
      "text/plain": [
       "['green tea']"
      ]
     },
     "execution_count": 7,
     "metadata": {},
     "output_type": "execute_result"
    }
   ],
   "source": [
    "list_of_ice_creams"
   ]
  },
  {
   "cell_type": "code",
   "execution_count": 12,
   "id": "raising-little",
   "metadata": {},
   "outputs": [
    {
     "ename": "KeyError",
     "evalue": "'green tea'",
     "output_type": "error",
     "traceback": [
      "\u001b[0;31m---------------------------------------------------------------------------\u001b[0m",
      "\u001b[0;31mKeyError\u001b[0m                                  Traceback (most recent call last)",
      "\u001b[0;32m<ipython-input-12-946a2c9ddf82>\u001b[0m in \u001b[0;36m<module>\u001b[0;34m\u001b[0m\n\u001b[0;32m----> 1\u001b[0;31m \u001b[0mfavorite_ice_creams\u001b[0m\u001b[0;34m[\u001b[0m\u001b[0;34m\"green tea\"\u001b[0m\u001b[0;34m]\u001b[0m\u001b[0;34m\u001b[0m\u001b[0;34m\u001b[0m\u001b[0m\n\u001b[0m",
      "\u001b[0;31mKeyError\u001b[0m: 'green tea'"
     ]
    }
   ],
   "source": [
    "favorite_ice_creams[\"green tea\"]"
   ]
  },
  {
   "cell_type": "code",
   "execution_count": 13,
   "id": "signed-document",
   "metadata": {},
   "outputs": [],
   "source": [
    "favorite_ice_creams[\"maniti\"] = \"rocky road\""
   ]
  },
  {
   "cell_type": "code",
   "execution_count": 14,
   "id": "greenhouse-baptist",
   "metadata": {},
   "outputs": [
    {
     "data": {
      "text/plain": [
       "{'mako': 'green tea',\n",
       " 'kaylea': 'rocky road',\n",
       " 'josh': 'vienna mocha chunk',\n",
       " 'maniti': 'rocky road'}"
      ]
     },
     "execution_count": 14,
     "metadata": {},
     "output_type": "execute_result"
    }
   ],
   "source": [
    "favorite_ice_creams"
   ]
  },
  {
   "cell_type": "code",
   "execution_count": 15,
   "id": "nuclear-restriction",
   "metadata": {},
   "outputs": [],
   "source": [
    "favorite_ice_creams[\"mako\"] = \"cherry garcia\""
   ]
  },
  {
   "cell_type": "code",
   "execution_count": 16,
   "id": "documentary-montana",
   "metadata": {},
   "outputs": [
    {
     "data": {
      "text/plain": [
       "{'mako': 'cherry garcia',\n",
       " 'kaylea': 'rocky road',\n",
       " 'josh': 'vienna mocha chunk',\n",
       " 'maniti': 'rocky road'}"
      ]
     },
     "execution_count": 16,
     "metadata": {},
     "output_type": "execute_result"
    }
   ],
   "source": [
    "favorite_ice_creams"
   ]
  },
  {
   "cell_type": "code",
   "execution_count": 17,
   "id": "referenced-certificate",
   "metadata": {},
   "outputs": [
    {
     "data": {
      "text/plain": [
       "'cherry garcia'"
      ]
     },
     "execution_count": 17,
     "metadata": {},
     "output_type": "execute_result"
    }
   ],
   "source": [
    "favorite_ice_creams[\"mako\"]"
   ]
  },
  {
   "cell_type": "code",
   "execution_count": 21,
   "id": "global-dialogue",
   "metadata": {},
   "outputs": [
    {
     "data": {
      "text/plain": [
       "dict_keys(['mako', 'kaylea', 'josh', 'maniti'])"
      ]
     },
     "execution_count": 21,
     "metadata": {},
     "output_type": "execute_result"
    }
   ],
   "source": [
    "favorite_ice_creams.keys()"
   ]
  },
  {
   "cell_type": "code",
   "execution_count": 22,
   "id": "settled-individual",
   "metadata": {},
   "outputs": [
    {
     "data": {
      "text/plain": [
       "dict_values(['cherry garcia', 'rocky road', 'vienna mocha chunk', 'rocky road'])"
      ]
     },
     "execution_count": 22,
     "metadata": {},
     "output_type": "execute_result"
    }
   ],
   "source": [
    "favorite_ice_creams.values()"
   ]
  },
  {
   "cell_type": "code",
   "execution_count": 23,
   "id": "floating-table",
   "metadata": {},
   "outputs": [],
   "source": [
    "favorite_ice_creams[\"mako\"] = \"green tea\""
   ]
  },
  {
   "cell_type": "code",
   "execution_count": 29,
   "id": "governmental-diving",
   "metadata": {},
   "outputs": [
    {
     "data": {
      "text/plain": [
       "True"
      ]
     },
     "execution_count": 29,
     "metadata": {},
     "output_type": "execute_result"
    }
   ],
   "source": [
    "\"green tea\" in favorite_ice_creams.values()"
   ]
  },
  {
   "cell_type": "code",
   "execution_count": 19,
   "id": "higher-aspect",
   "metadata": {},
   "outputs": [
    {
     "data": {
      "text/plain": [
       "'green tea'"
      ]
     },
     "execution_count": 19,
     "metadata": {},
     "output_type": "execute_result"
    }
   ],
   "source": [
    "list_of_ice_creams[0]"
   ]
  },
  {
   "cell_type": "code",
   "execution_count": 77,
   "id": "furnished-spider",
   "metadata": {},
   "outputs": [],
   "source": [
    "from scrabble import wordlist \n",
    "words_with_first_letters = {}\n",
    "\n",
    "# temporary_wordlist = [\"mako\", \"kaylea\", \"josh\", \"maniti\"]\n",
    "\n",
    "for word in wordlist:\n",
    "    first_letter = word[0]\n",
    "    if first_letter in words_with_first_letters.keys():\n",
    "        words_with_first_letters[first_letter] += 1\n",
    "        \n",
    "    else:\n",
    "        words_with_first_letters[first_letter] = 1\n",
    "\n",
    "#words_with_first_letters"
   ]
  },
  {
   "cell_type": "code",
   "execution_count": 78,
   "id": "heated-arrangement",
   "metadata": {},
   "outputs": [
    {
     "data": {
      "text/plain": [
       "{'a': 15723,\n",
       " 'b': 14359,\n",
       " 'c': 24120,\n",
       " 'd': 15917,\n",
       " 'e': 11030,\n",
       " 'f': 10141,\n",
       " 'g': 8914,\n",
       " 'h': 10119,\n",
       " 'i': 9390,\n",
       " 'j': 2179,\n",
       " 'k': 3131,\n",
       " 'l': 7636,\n",
       " 'm': 15077,\n",
       " 'n': 6205,\n",
       " 'o': 8604,\n",
       " 'p': 23352,\n",
       " 'q': 1352,\n",
       " 'r': 14507,\n",
       " 's': 30575,\n",
       " 't': 13919,\n",
       " 'u': 9070,\n",
       " 'v': 4414,\n",
       " 'w': 5611,\n",
       " 'x': 303,\n",
       " 'y': 985,\n",
       " 'z': 1118}"
      ]
     },
     "execution_count": 78,
     "metadata": {},
     "output_type": "execute_result"
    }
   ],
   "source": [
    "words_with_first_letters"
   ]
  },
  {
   "cell_type": "code",
   "execution_count": 79,
   "id": "dying-spirit",
   "metadata": {},
   "outputs": [
    {
     "name": "stdout",
     "output_type": "stream",
     "text": [
      "there are 15723 words with the first letter a\n",
      "there are 14359 words with the first letter b\n",
      "there are 24120 words with the first letter c\n",
      "there are 15917 words with the first letter d\n",
      "there are 11030 words with the first letter e\n",
      "there are 10141 words with the first letter f\n",
      "there are 8914 words with the first letter g\n",
      "there are 10119 words with the first letter h\n",
      "there are 9390 words with the first letter i\n",
      "there are 2179 words with the first letter j\n",
      "there are 3131 words with the first letter k\n",
      "there are 7636 words with the first letter l\n",
      "there are 15077 words with the first letter m\n",
      "there are 6205 words with the first letter n\n",
      "there are 8604 words with the first letter o\n",
      "there are 23352 words with the first letter p\n",
      "there are 1352 words with the first letter q\n",
      "there are 14507 words with the first letter r\n",
      "there are 30575 words with the first letter s\n",
      "there are 13919 words with the first letter t\n",
      "there are 9070 words with the first letter u\n",
      "there are 4414 words with the first letter v\n",
      "there are 5611 words with the first letter w\n",
      "there are 303 words with the first letter x\n",
      "there are 985 words with the first letter y\n",
      "there are 1118 words with the first letter z\n"
     ]
    }
   ],
   "source": [
    "for letter in words_with_first_letters.keys():\n",
    "    print(f\"there are {words_with_first_letters[letter]} words with the first letter {letter}\")"
   ]
  },
  {
   "cell_type": "code",
   "execution_count": 44,
   "id": "judicial-client",
   "metadata": {},
   "outputs": [
    {
     "data": {
      "text/plain": [
       "2"
      ]
     },
     "execution_count": 44,
     "metadata": {},
     "output_type": "execute_result"
    }
   ],
   "source": [
    "words_with_first_letters[\"m\"]"
   ]
  },
  {
   "cell_type": "code",
   "execution_count": 52,
   "id": "initial-bullet",
   "metadata": {},
   "outputs": [],
   "source": [
    "del favorite_ice_creams[\"josh\"]"
   ]
  },
  {
   "cell_type": "code",
   "execution_count": 53,
   "id": "difficult-charleston",
   "metadata": {},
   "outputs": [
    {
     "data": {
      "text/plain": [
       "{'mako': 'green tea', 'kaylea': 'rocky road', 'maniti': 'rocky road'}"
      ]
     },
     "execution_count": 53,
     "metadata": {},
     "output_type": "execute_result"
    }
   ],
   "source": [
    "favorite_ice_creams"
   ]
  },
  {
   "cell_type": "code",
   "execution_count": 56,
   "id": "suffering-fields",
   "metadata": {},
   "outputs": [],
   "source": [
    "del list_of_ice_creams[0]"
   ]
  },
  {
   "cell_type": "code",
   "execution_count": 57,
   "id": "everyday-intranet",
   "metadata": {},
   "outputs": [
    {
     "data": {
      "text/plain": [
       "[]"
      ]
     },
     "execution_count": 57,
     "metadata": {},
     "output_type": "execute_result"
    }
   ],
   "source": [
    "list_of_ice_creams"
   ]
  },
  {
   "cell_type": "code",
   "execution_count": 58,
   "id": "bottom-exhibit",
   "metadata": {},
   "outputs": [],
   "source": [
    "favorite_ice_creams[\"josh\"] = \"vienna mocha fudge\""
   ]
  },
  {
   "cell_type": "code",
   "execution_count": 59,
   "id": "moderate-payroll",
   "metadata": {},
   "outputs": [
    {
     "data": {
      "text/plain": [
       "{'mako': 'green tea',\n",
       " 'kaylea': 'rocky road',\n",
       " 'maniti': 'rocky road',\n",
       " 'josh': 'vienna mocha fudge'}"
      ]
     },
     "execution_count": 59,
     "metadata": {},
     "output_type": "execute_result"
    }
   ],
   "source": [
    "favorite_ice_creams"
   ]
  },
  {
   "cell_type": "code",
   "execution_count": 73,
   "id": "wound-naples",
   "metadata": {
    "scrolled": true
   },
   "outputs": [
    {
     "name": "stdout",
     "output_type": "stream",
     "text": [
      "mako's favorite ice cream is green tea\n",
      "kaylea's favorite ice cream is rocky road\n",
      "maniti's favorite ice cream is rocky road\n",
      "josh's favorite ice cream is vienna mocha fudge\n"
     ]
    }
   ],
   "source": [
    "for person in favorite_ice_creams.keys():\n",
    "    print(f\"{person}'s favorite ice cream is {favorite_ice_creams[person]}\")"
   ]
  },
  {
   "cell_type": "code",
   "execution_count": 74,
   "id": "third-kenya",
   "metadata": {},
   "outputs": [
    {
     "data": {
      "text/plain": [
       "{}"
      ]
     },
     "execution_count": 74,
     "metadata": {},
     "output_type": "execute_result"
    }
   ],
   "source": [
    "words_with_first_letters"
   ]
  },
  {
   "cell_type": "code",
   "execution_count": 84,
   "id": "elegant-playback",
   "metadata": {},
   "outputs": [],
   "source": [
    "with open(\"makos_output_file.tsv\", \"w\") as my_file:\n",
    "    print(\"letter\\tcount\", file=my_file)\n",
    "    for letter in words_with_first_letters.keys():\n",
    "        print(f\"{letter}\\t{words_with_first_letters[letter]}\", file=my_file)"
   ]
  },
  {
   "cell_type": "code",
   "execution_count": null,
   "id": "healthy-drive",
   "metadata": {},
   "outputs": [],
   "source": []
  }
 ],
 "metadata": {
  "kernelspec": {
   "display_name": "Python 3",
   "language": "python",
   "name": "python3"
  },
  "language_info": {
   "codemirror_mode": {
    "name": "ipython",
    "version": 3
   },
   "file_extension": ".py",
   "mimetype": "text/x-python",
   "name": "python",
   "nbconvert_exporter": "python",
   "pygments_lexer": "ipython3",
   "version": "3.9.2"
  }
 },
 "nbformat": 4,
 "nbformat_minor": 5
}
