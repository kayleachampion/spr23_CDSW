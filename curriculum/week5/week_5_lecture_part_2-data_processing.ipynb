{
 "cells": [
  {
   "cell_type": "code",
   "execution_count": 1,
   "id": "f04423fe",
   "metadata": {},
   "outputs": [],
   "source": [
    "import json"
   ]
  },
  {
   "cell_type": "code",
   "execution_count": 2,
   "id": "19ef7d42",
   "metadata": {},
   "outputs": [],
   "source": [
    "with open(\"universities_uw_wp_pageviews.json\", 'r') as input_file:\n",
    "    input_data = input_file.read()"
   ]
  },
  {
   "cell_type": "code",
   "execution_count": 3,
   "id": "e711a38e",
   "metadata": {},
   "outputs": [
    {
     "data": {
      "text/plain": [
       "str"
      ]
     },
     "execution_count": 3,
     "metadata": {},
     "output_type": "execute_result"
    }
   ],
   "source": [
    "type(input_data)"
   ]
  },
  {
   "cell_type": "code",
   "execution_count": 4,
   "id": "6e6e8482",
   "metadata": {},
   "outputs": [],
   "source": [
    "new_data = json.loads(input_data)"
   ]
  },
  {
   "cell_type": "code",
   "execution_count": 5,
   "id": "60973a18",
   "metadata": {},
   "outputs": [
    {
     "data": {
      "text/plain": [
       "{'project': 'en.wikipedia',\n",
       " 'article': 'University_of_Washington',\n",
       " 'granularity': 'daily',\n",
       " 'timestamp': '2015070100',\n",
       " 'access': 'all-access',\n",
       " 'agent': 'user',\n",
       " 'views': 1178}"
      ]
     },
     "execution_count": 5,
     "metadata": {},
     "output_type": "execute_result"
    }
   ],
   "source": [
    "new_data['items'][0]"
   ]
  },
  {
   "cell_type": "code",
   "execution_count": 6,
   "id": "18008a17",
   "metadata": {},
   "outputs": [],
   "source": [
    "def clean_up_timestamp(day):\n",
    "    new_time_stamp = day[0:4] + \"-\" + day[4:6] + \"-\" + day[6:8]\n",
    "    return new_time_stamp"
   ]
  },
  {
   "cell_type": "code",
   "execution_count": 7,
   "id": "f4bb9893",
   "metadata": {},
   "outputs": [],
   "source": [
    "views_by_day = {}\n",
    "for day_dict in new_data['items']:\n",
    "    day = clean_up_timestamp(day_dict['timestamp'])\n",
    "    views_by_day[day] = day_dict['views']"
   ]
  },
  {
   "cell_type": "code",
   "execution_count": 8,
   "id": "7e95f39d",
   "metadata": {},
   "outputs": [],
   "source": [
    "# views_by_day"
   ]
  },
  {
   "cell_type": "code",
   "execution_count": 9,
   "id": "5c9d8ffe",
   "metadata": {},
   "outputs": [],
   "source": [
    "with open('view_by_day_uw.tsv', 'w') as output_file:\n",
    "    print(\"day\\tviews\", file=output_file)\n",
    "    for day in views_by_day:\n",
    "        print(f\"{day}\\t{views_by_day[day]}\", file=output_file)"
   ]
  },
  {
   "cell_type": "code",
   "execution_count": 10,
   "id": "d12252cd",
   "metadata": {},
   "outputs": [],
   "source": [
    "day_dicts = []\n",
    "with open(\"universities_combo_wp_pageviews.jsonl\", 'r') as input_file:\n",
    "    for line in input_file.readlines():\n",
    "        new_data = json.loads(line)\n",
    "        day_dicts = day_dicts + new_data['items']\n"
   ]
  },
  {
   "cell_type": "code",
   "execution_count": 11,
   "id": "e4991898",
   "metadata": {},
   "outputs": [
    {
     "data": {
      "text/plain": [
       "8565"
      ]
     },
     "execution_count": 11,
     "metadata": {},
     "output_type": "execute_result"
    }
   ],
   "source": [
    "len(day_dicts)"
   ]
  },
  {
   "cell_type": "code",
   "execution_count": 12,
   "id": "ba958bab",
   "metadata": {},
   "outputs": [
    {
     "data": {
      "text/plain": [
       "{'project': 'en.wikipedia',\n",
       " 'article': 'Washington_State_University',\n",
       " 'granularity': 'daily',\n",
       " 'timestamp': '2021051500',\n",
       " 'access': 'all-access',\n",
       " 'agent': 'user',\n",
       " 'views': 336}"
      ]
     },
     "execution_count": 12,
     "metadata": {},
     "output_type": "execute_result"
    }
   ],
   "source": [
    "day_dicts[5000]"
   ]
  },
  {
   "cell_type": "code",
   "execution_count": 13,
   "id": "1e802617",
   "metadata": {},
   "outputs": [],
   "source": [
    "total_views_by_day = {}\n",
    "\n",
    "for day_dict in day_dicts:\n",
    "    day = clean_up_timestamp(day_dict[\"timestamp\"])\n",
    "    \n",
    "    if day in total_views_by_day.keys():\n",
    "        total_views_by_day[day] = total_views_by_day[day] + day_dict[\"views\"]\n",
    "    else:\n",
    "        total_views_by_day[day] = day_dict['views']\n"
   ]
  },
  {
   "cell_type": "code",
   "execution_count": 14,
   "id": "f0e1f3e7",
   "metadata": {},
   "outputs": [],
   "source": [
    "with open('view_by_day_combo.tsv', 'w') as output_file:\n",
    "    print(\"day\\tviews\", file=output_file)\n",
    "    for day in total_views_by_day:\n",
    "        print(f\"{day}\\t{total_views_by_day[day]}\", file=output_file)"
   ]
  }
 ],
 "metadata": {
  "kernelspec": {
   "display_name": "Python 3 (ipykernel)",
   "language": "python",
   "name": "python3"
  },
  "language_info": {
   "codemirror_mode": {
    "name": "ipython",
    "version": 3
   },
   "file_extension": ".py",
   "mimetype": "text/x-python",
   "name": "python",
   "nbconvert_exporter": "python",
   "pygments_lexer": "ipython3",
   "version": "3.11.2"
  }
 },
 "nbformat": 4,
 "nbformat_minor": 5
}
