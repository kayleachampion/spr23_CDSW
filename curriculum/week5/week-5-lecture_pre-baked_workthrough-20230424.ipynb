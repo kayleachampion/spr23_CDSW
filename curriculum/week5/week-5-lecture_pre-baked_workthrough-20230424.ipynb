{
 "cells": [
  {
   "cell_type": "markdown",
   "id": "555ee1ab",
   "metadata": {},
   "source": [
    "## file 1, version 1: collect data and print it out"
   ]
  },
  {
   "cell_type": "code",
   "execution_count": 1,
   "id": "3f808e9f",
   "metadata": {},
   "outputs": [],
   "source": [
    "import requests\n",
    "import json\n",
    "import time"
   ]
  },
  {
   "cell_type": "code",
   "execution_count": 2,
   "id": "2c937dfc",
   "metadata": {},
   "outputs": [],
   "source": [
    "headers = {\n",
    "    'User-Agent': 'data collection from makohill@uw.edu for teaching'\n",
    "}\n",
    "\n",
    "url = \"https://wikimedia.org/api/rest_v1/metrics/pageviews/per-article/en.wikipedia.org/all-access/all-agents/University%20of%20Washington/daily/20010101/20230401\"\n",
    "    \n",
    "response = requests.get(url, headers=headers)\n",
    "if not response.status_code == 200:\n",
    "    print(\"ERROR! status was not 200\")\n",
    "    \n",
    "data = response.json()\n"
   ]
  },
  {
   "cell_type": "code",
   "execution_count": 3,
   "id": "3ddae8f3",
   "metadata": {},
   "outputs": [
    {
     "data": {
      "text/plain": [
       "2832"
      ]
     },
     "execution_count": 3,
     "metadata": {},
     "output_type": "execute_result"
    }
   ],
   "source": [
    "len(data[\"items\"])"
   ]
  },
  {
   "cell_type": "code",
   "execution_count": 4,
   "id": "93deb354",
   "metadata": {},
   "outputs": [],
   "source": [
    "with open(\"wp_uw_pageview_data.json\", 'w') as f:\n",
    "    data_string = json.dumps(data)\n",
    "    print(data_string, file=f)"
   ]
  },
  {
   "cell_type": "markdown",
   "id": "8d897144",
   "metadata": {},
   "source": [
    "## file 2, version 1: this will now read the data back in"
   ]
  },
  {
   "cell_type": "code",
   "execution_count": 5,
   "id": "805aea02",
   "metadata": {},
   "outputs": [],
   "source": [
    "import json"
   ]
  },
  {
   "cell_type": "code",
   "execution_count": 6,
   "id": "ccfdd285",
   "metadata": {},
   "outputs": [],
   "source": [
    "with open(\"wp_uw_pageview_data.json\", 'r') as f:\n",
    "    new_data_string = f.read()   "
   ]
  },
  {
   "cell_type": "code",
   "execution_count": 7,
   "id": "81ac71ae",
   "metadata": {},
   "outputs": [],
   "source": [
    "new_data = json.loads(new_data_string)"
   ]
  },
  {
   "cell_type": "code",
   "execution_count": 8,
   "id": "94d8f693",
   "metadata": {},
   "outputs": [],
   "source": [
    "def parse_wikimedia_timestamp (old_date_string):\n",
    "    new_date_string = f\"{old_date_string[0:4]}-{old_date_string[4:6]}-{old_date_string[6:8]}\"\n",
    "    return new_date_string"
   ]
  },
  {
   "cell_type": "code",
   "execution_count": 9,
   "id": "1680cd8e",
   "metadata": {},
   "outputs": [],
   "source": [
    "with open(\"views_by_day_uw.tsv\", \"w\") as f:\n",
    "    print(\"day\\tviews\", file=f)\n",
    "    \n",
    "    for day_dict in new_data[\"items\"]:\n",
    "        day = parse_wikimedia_timestamp(day_dict[\"timestamp\"])\n",
    "        views = day_dict[\"views\"]\n",
    "        print(day, \"\\t\", views, file=f)"
   ]
  },
  {
   "cell_type": "markdown",
   "id": "9bff5e2a",
   "metadata": {},
   "source": [
    "## file 1, version 2: data collection code extended to multiple things"
   ]
  },
  {
   "cell_type": "code",
   "execution_count": 10,
   "id": "3db09967",
   "metadata": {},
   "outputs": [],
   "source": [
    "def get_pageview_data (page_title):\n",
    "    \n",
    "    headers = {\n",
    "        'User-Agent': 'data collection from makohill@uw.edu for teaching'\n",
    "    }\n",
    "\n",
    "    url = f\"https://wikimedia.org/api/rest_v1/metrics/pageviews/per-article/en.wikipedia.org/all-access/all-agents/{page_title}/daily/20010101/20230401\"\n",
    "    \n",
    "    response = requests.get(url, headers=headers)\n",
    "    data = response.json()\n",
    "    return data"
   ]
  },
  {
   "cell_type": "code",
   "execution_count": 11,
   "id": "0eb1f77b",
   "metadata": {},
   "outputs": [],
   "source": [
    "# get_pageview_data(\"University of Washington\")"
   ]
  },
  {
   "cell_type": "code",
   "execution_count": 12,
   "id": "9cafa92d",
   "metadata": {},
   "outputs": [
    {
     "name": "stdout",
     "output_type": "stream",
     "text": [
      "University of Washington\n",
      "Washington State University\n",
      "Western Washington University\n"
     ]
    }
   ],
   "source": [
    "for title in [\"University of Washington\", \"Washington State University\", \"Western Washington University\"]:\n",
    "    data = get_pageview_data(title)\n",
    "    print(title)\n",
    "    time.sleep(1)\n",
    "    "
   ]
  },
  {
   "cell_type": "code",
   "execution_count": 13,
   "id": "097cd3df",
   "metadata": {},
   "outputs": [],
   "source": [
    "with open(\"wp_combo_pageview_data.jsonl\", 'w') as f:\n",
    "    for title in [\"University of Washington\", \"Washington State University\", \"Western Washington University\"]:\n",
    "        data = get_pageview_data(title)\n",
    "        data_string = json.dumps(data)\n",
    "        print(data_string, file=f)"
   ]
  },
  {
   "cell_type": "markdown",
   "id": "fd3f7d60",
   "metadata": {},
   "source": [
    "## file 2, version 2: data loading and reprinting data"
   ]
  },
  {
   "cell_type": "code",
   "execution_count": 14,
   "id": "32e1d9c1",
   "metadata": {},
   "outputs": [],
   "source": [
    "day_dicts = []\n",
    "with open(\"wp_combo_pageview_data.jsonl\", 'r') as f:\n",
    "    for line in f.readlines():\n",
    "        json_data = json.loads(line)\n",
    "        day_dicts.extend(json_data[\"items\"])"
   ]
  },
  {
   "cell_type": "code",
   "execution_count": 15,
   "id": "1f9264f6",
   "metadata": {},
   "outputs": [
    {
     "data": {
      "text/plain": [
       "8496"
      ]
     },
     "execution_count": 15,
     "metadata": {},
     "output_type": "execute_result"
    }
   ],
   "source": [
    "len(day_dicts)"
   ]
  },
  {
   "cell_type": "code",
   "execution_count": 16,
   "id": "e21b27e3",
   "metadata": {},
   "outputs": [],
   "source": [
    "total_views_by_day = {} \n",
    "\n",
    "for day_dict in day_dicts:\n",
    "    day = parse_wikimedia_timestamp(day_dict[\"timestamp\"])\n",
    "    if day in total_views_by_day:\n",
    "        total_views_by_day[day] = total_views_by_day[day] + day_dict['views']\n",
    "    else:\n",
    "        total_views_by_day[day] = day_dict[\"views\"]"
   ]
  },
  {
   "cell_type": "code",
   "execution_count": 17,
   "id": "ddf6249b",
   "metadata": {},
   "outputs": [
    {
     "name": "stdout",
     "output_type": "stream",
     "text": [
      "2832\n"
     ]
    }
   ],
   "source": [
    "print(len(total_views_by_day))\n",
    "# total_views_by_day"
   ]
  },
  {
   "cell_type": "code",
   "execution_count": 18,
   "id": "ffbb046e",
   "metadata": {},
   "outputs": [],
   "source": [
    "with open(\"views_by_day_combo.tsv\", \"w\") as f:\n",
    "    print(\"day\\ttotal_views\", file=f)\n",
    "    \n",
    "    for day in total_views_by_day.keys():\n",
    "        views = total_views_by_day[day]\n",
    "        print(day, \"\\t\", views, file=f)"
   ]
  }
 ],
 "metadata": {
  "kernelspec": {
   "display_name": "Python 3 (ipykernel)",
   "language": "python",
   "name": "python3"
  },
  "language_info": {
   "codemirror_mode": {
    "name": "ipython",
    "version": 3
   },
   "file_extension": ".py",
   "mimetype": "text/x-python",
   "name": "python",
   "nbconvert_exporter": "python",
   "pygments_lexer": "ipython3",
   "version": "3.11.2"
  }
 },
 "nbformat": 4,
 "nbformat_minor": 5
}
