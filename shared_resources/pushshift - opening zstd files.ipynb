{
 "cells": [
  {
   "cell_type": "markdown",
   "id": "e37eef21",
   "metadata": {},
   "source": [
    "# how to process an uncompressed file\n",
    "\n",
    "In this example, I uncompressed things on the command line using something:\n",
    "\n",
    "> $ zstd -d filename.zstd\n",
    "\n",
    "Typically this will make a file just called `filename`.\n",
    "\n"
   ]
  },
  {
   "cell_type": "code",
   "execution_count": 5,
   "id": "628c4956",
   "metadata": {},
   "outputs": [],
   "source": [
    "import json"
   ]
  },
  {
   "cell_type": "code",
   "execution_count": 6,
   "id": "82285149",
   "metadata": {},
   "outputs": [
    {
     "name": "stdout",
     "output_type": "stream",
     "text": [
      "{\"downs\":1,\"link_flair_text\":null,\"distinguished\":null,\"media\":null,\"url\":\"http://trendslidingdoors.com/sliding-french-doors-perfect-combination-of-design-and-style\",\"link_flair_css_class\":null,\"id\":\"nfzie\",\"edited\":false,\"num_reports\":null,\"created_utc\":1324093841,\"banned_by\":null,\"name\":\"t3_nfzie\",\"subreddit\":\"HomeDecorating\",\"title\":\"Sliding French Doors, Combination of Design and Style\",\"author_flair_text\":null,\"is_self\":false,\"author\":\"sleepyblogger\",\"media_embed\":{},\"permalink\":\"/r/HomeDecorating/comments/nfzie/sliding_french_doors_combination_of_design_and/\",\"author_flair_css_class\":null,\"selftext\":\"\",\"domain\":\"trendslidingdoors.com\",\"num_comments\":0,\"likes\":null,\"clicked\":false,\"thumbnail\":\"http://c.thumbs.redditmedia.com/aPXOEBGEDtIgl2u2.jpg\",\"saved\":false,\"subreddit_id\":\"t5_2t8de\",\"ups\":1,\"approved_by\":null,\"score\":0,\"selftext_html\":null,\"created\":1324093841,\"hidden\":false,\"over_18\":false}\n",
      "\n"
     ]
    }
   ],
   "source": [
    "with open(\"HomeDecorating_submissions\", 'r') as input_file:\n",
    "    for line in input_file:\n",
    "        print(line)\n",
    "        break"
   ]
  },
  {
   "cell_type": "markdown",
   "id": "c7a6854c",
   "metadata": {},
   "source": [
    "# how process a zstd compressed file"
   ]
  },
  {
   "cell_type": "code",
   "execution_count": 7,
   "id": "c0737279",
   "metadata": {},
   "outputs": [],
   "source": [
    "# you must install the zstandard python library here: https://pypi.org/project/zstandard/\n",
    "import zstandard\n",
    "import io"
   ]
  },
  {
   "cell_type": "code",
   "execution_count": 8,
   "id": "b6f00437",
   "metadata": {},
   "outputs": [
    {
     "name": "stdout",
     "output_type": "stream",
     "text": [
      "{\"downs\":1,\"link_flair_text\":null,\"distinguished\":null,\"media\":null,\"url\":\"http://trendslidingdoors.com/sliding-french-doors-perfect-combination-of-design-and-style\",\"link_flair_css_class\":null,\"id\":\"nfzie\",\"edited\":false,\"num_reports\":null,\"created_utc\":1324093841,\"banned_by\":null,\"name\":\"t3_nfzie\",\"subreddit\":\"HomeDecorating\",\"title\":\"Sliding French Doors, Combination of Design and Style\",\"author_flair_text\":null,\"is_self\":false,\"author\":\"sleepyblogger\",\"media_embed\":{},\"permalink\":\"/r/HomeDecorating/comments/nfzie/sliding_french_doors_combination_of_design_and/\",\"author_flair_css_class\":null,\"selftext\":\"\",\"domain\":\"trendslidingdoors.com\",\"num_comments\":0,\"likes\":null,\"clicked\":false,\"thumbnail\":\"http://c.thumbs.redditmedia.com/aPXOEBGEDtIgl2u2.jpg\",\"saved\":false,\"subreddit_id\":\"t5_2t8de\",\"ups\":1,\"approved_by\":null,\"score\":0,\"selftext_html\":null,\"created\":1324093841,\"hidden\":false,\"over_18\":false}\n",
      "\n"
     ]
    }
   ],
   "source": [
    "with open(\"HomeDecorating_submissions.zst\", 'rb') as fh:\n",
    "    dctx = zstandard.ZstdDecompressor()\n",
    "    stream_reader = dctx.stream_reader(fh)\n",
    "    text_stream = io.TextIOWrapper(stream_reader, encoding='utf-8')\n",
    "    for line in text_stream:\n",
    "        print(line)\n",
    "        break"
   ]
  }
 ],
 "metadata": {
  "kernelspec": {
   "display_name": "Python 3 (ipykernel)",
   "language": "python",
   "name": "python3"
  },
  "language_info": {
   "codemirror_mode": {
    "name": "ipython",
    "version": 3
   },
   "file_extension": ".py",
   "mimetype": "text/x-python",
   "name": "python",
   "nbconvert_exporter": "python",
   "pygments_lexer": "ipython3",
   "version": "3.11.2"
  }
 },
 "nbformat": 4,
 "nbformat_minor": 5
}
