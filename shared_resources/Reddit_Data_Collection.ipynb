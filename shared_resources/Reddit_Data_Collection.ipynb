{
 "cells": [
  {
   "cell_type": "code",
   "execution_count": 2,
   "id": "b2ad3cdc",
   "metadata": {},
   "outputs": [],
   "source": [
    "from pmaw import PushshiftAPI\n",
    "import json\n",
    "import time\n",
    "api = PushshiftAPI()"
   ]
  },
  {
   "cell_type": "code",
   "execution_count": 3,
   "id": "cb173d81",
   "metadata": {},
   "outputs": [],
   "source": [
    "dec_31st_2022_epoch = 1672444800\n",
    "jan_1st_2022_epoch = 1640995200"
   ]
  },
  {
   "cell_type": "markdown",
   "id": "4cf17e16",
   "metadata": {},
   "source": [
    "### This is the same function as before (A funtion to collect data from any subreddit of choice, for a particular time period. However, when I was running the code I kept running into an error - not all shards are active. This code will ignore that error, and loop again to give you your data)"
   ]
  },
  {
   "cell_type": "code",
   "execution_count": 4,
   "id": "ec0b08ce",
   "metadata": {},
   "outputs": [],
   "source": [
    "def get_submissions(subreddit):\n",
    "    before_time = dec_31st_2022_epoch\n",
    "\n",
    "    post_list = []\n",
    "\n",
    "    counter = 0\n",
    "    while True:\n",
    "        try:\n",
    "            posts = api.search_submissions(subreddit = subreddit,\n",
    "                                           limit = 100, sort = \"created_utc\",\n",
    "                                           order = \"desc\",\n",
    "                                           before = before_time)\n",
    "        except IndexError:\n",
    "            print(\"ERROR! Sleeping for 30 seconds...\")\n",
    "            time.sleep(30)\n",
    "            continue\n",
    "\n",
    "        new_post_list = [post for post in posts]\n",
    "\n",
    "        post_list.extend(new_post_list)\n",
    "\n",
    "        before_time = new_post_list[-1][\"created_utc\"]\n",
    "        print(f\"api call #{counter + 1} finished. start from epoch time:\", before_time)\n",
    "        if len(new_post_list) == 0:\n",
    "            break\n",
    "\n",
    "        #if len(post_list) >= 500:\n",
    "        #    break\n",
    "        if before_time < jan_1st_2022_epoch:\n",
    "            break\n",
    "\n",
    "        counter += 1\n",
    "    return post_list"
   ]
  },
  {
   "cell_type": "markdown",
   "id": "ad8ddddf",
   "metadata": {},
   "source": []
  },
  {
   "cell_type": "code",
   "execution_count": 5,
   "id": "3737bde1",
   "metadata": {},
   "outputs": [
    {
     "name": "stdout",
     "output_type": "stream",
     "text": [
      "api call #1 finished. start from epoch time: 1672385602\n",
      "api call #2 finished. start from epoch time: 1672353143\n",
      "api call #3 finished. start from epoch time: 1672325872\n",
      "api call #4 finished. start from epoch time: 1672270642\n",
      "api call #5 finished. start from epoch time: 1672270578\n",
      "api call #6 finished. start from epoch time: 1672269871\n",
      "api call #7 finished. start from epoch time: 1672268069\n",
      "api call #8 finished. start from epoch time: 1672235864\n"
     ]
    },
    {
     "name": "stderr",
     "output_type": "stream",
     "text": [
      "Not all PushShift shards are active. Query results may be incomplete.\n"
     ]
    },
    {
     "ename": "IndexError",
     "evalue": "list index out of range",
     "output_type": "error",
     "traceback": [
      "\u001b[0;31m---------------------------------------------------------------------------\u001b[0m",
      "\u001b[0;31mIndexError\u001b[0m                                Traceback (most recent call last)",
      "Cell \u001b[0;32mIn[5], line 1\u001b[0m\n\u001b[0;32m----> 1\u001b[0m post_list \u001b[38;5;241m=\u001b[39m \u001b[43mget_submissions\u001b[49m\u001b[43m(\u001b[49m\u001b[38;5;124;43m\"\u001b[39;49m\u001b[38;5;124;43mMakeupAddiction\u001b[39;49m\u001b[38;5;124;43m\"\u001b[39;49m\u001b[43m)\u001b[49m\n",
      "Cell \u001b[0;32mIn[4], line 22\u001b[0m, in \u001b[0;36mget_submissions\u001b[0;34m(subreddit)\u001b[0m\n\u001b[1;32m     18\u001b[0m new_post_list \u001b[38;5;241m=\u001b[39m [post \u001b[38;5;28;01mfor\u001b[39;00m post \u001b[38;5;129;01min\u001b[39;00m posts]\n\u001b[1;32m     20\u001b[0m post_list\u001b[38;5;241m.\u001b[39mextend(new_post_list)\n\u001b[0;32m---> 22\u001b[0m before_time \u001b[38;5;241m=\u001b[39m \u001b[43mnew_post_list\u001b[49m\u001b[43m[\u001b[49m\u001b[38;5;241;43m-\u001b[39;49m\u001b[38;5;241;43m1\u001b[39;49m\u001b[43m]\u001b[49m[\u001b[38;5;124m\"\u001b[39m\u001b[38;5;124mcreated_utc\u001b[39m\u001b[38;5;124m\"\u001b[39m]\n\u001b[1;32m     23\u001b[0m \u001b[38;5;28mprint\u001b[39m(\u001b[38;5;124mf\u001b[39m\u001b[38;5;124m\"\u001b[39m\u001b[38;5;124mapi call #\u001b[39m\u001b[38;5;132;01m{\u001b[39;00mcounter \u001b[38;5;241m+\u001b[39m \u001b[38;5;241m1\u001b[39m\u001b[38;5;132;01m}\u001b[39;00m\u001b[38;5;124m finished. start from epoch time:\u001b[39m\u001b[38;5;124m\"\u001b[39m, before_time)\n\u001b[1;32m     24\u001b[0m \u001b[38;5;28;01mif\u001b[39;00m \u001b[38;5;28mlen\u001b[39m(new_post_list) \u001b[38;5;241m==\u001b[39m \u001b[38;5;241m0\u001b[39m:\n",
      "\u001b[0;31mIndexError\u001b[0m: list index out of range"
     ]
    }
   ],
   "source": [
    "post_list = get_submissions(\"MakeupAddiction\")"
   ]
  },
  {
   "cell_type": "markdown",
   "id": "c0f91382",
   "metadata": {},
   "source": [
    "### Extracting all the data for the year took a lot of time, and space. Therefore we decided to extract data for particular time periods, and develop a function for the same. Use this function to get data from a subbreddit, for a particular time period."
   ]
  },
  {
   "cell_type": "code",
   "execution_count": 8,
   "id": "38a863cd",
   "metadata": {},
   "outputs": [],
   "source": [
    "def get_timed_submissions(subreddit,before_time,after_time):\n",
    "#     before_time = dec_31st_2022_epoch\n",
    "\n",
    "    post_list = []\n",
    "\n",
    "    counter = 0\n",
    "    while True:\n",
    "        posts = api.search_submissions(subreddit = subreddit,\n",
    "                                   limit = 100, sort = \"created_utc\",\n",
    "                                   order = \"desc\",\n",
    "                                   before = before_time)\n",
    "\n",
    "        new_post_list = [post for post in posts]\n",
    "\n",
    "        post_list.extend(new_post_list)\n",
    "\n",
    "        before_time = new_post_list[-1][\"created_utc\"]\n",
    "        print(f\"api call #{counter + 1} finished. start from epoch time:\", before_time)\n",
    "        if len(new_post_list) == 0:\n",
    "            break\n",
    "\n",
    "        #if len(post_list) >= 500:\n",
    "        #    break\n",
    "        if before_time < after_time:\n",
    "            break\n",
    "\n",
    "        counter += 1\n",
    "    return post_list"
   ]
  },
  {
   "cell_type": "code",
   "execution_count": 9,
   "id": "f4510ec7",
   "metadata": {},
   "outputs": [
    {
     "name": "stdout",
     "output_type": "stream",
     "text": [
      "api call #1 finished. start from epoch time: 1672385602\n",
      "api call #2 finished. start from epoch time: 1672353143\n",
      "api call #3 finished. start from epoch time: 1672325872\n",
      "api call #4 finished. start from epoch time: 1672270642\n",
      "api call #5 finished. start from epoch time: 1672270578\n",
      "api call #6 finished. start from epoch time: 1672269871\n",
      "api call #7 finished. start from epoch time: 1672268069\n"
     ]
    }
   ],
   "source": [
    "timed_posts = get_timed_submissions( subreddit = \"MakeupAddiction\",before_time = 1672444800, after_time = 1672269871)"
   ]
  },
  {
   "cell_type": "code",
   "execution_count": null,
   "id": "4e2a0ffa",
   "metadata": {},
   "outputs": [],
   "source": []
  }
 ],
 "metadata": {
  "kernelspec": {
   "display_name": "Python 3 (ipykernel)",
   "language": "python",
   "name": "python3"
  },
  "language_info": {
   "codemirror_mode": {
    "name": "ipython",
    "version": 3
   },
   "file_extension": ".py",
   "mimetype": "text/x-python",
   "name": "python",
   "nbconvert_exporter": "python",
   "pygments_lexer": "ipython3",
   "version": "3.10.9"
  }
 },
 "nbformat": 4,
 "nbformat_minor": 5
}
