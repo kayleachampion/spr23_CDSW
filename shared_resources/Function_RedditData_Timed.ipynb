{
 "cells": [
  {
   "cell_type": "markdown",
   "id": "49f29d5b",
   "metadata": {},
   "source": [
    "### Extracting all the data for the year took a lot of time, and space. Therefore we decided to extract data for particular time periods, and develop a function for the same. Use this function to get data from a subbreddit, for a particular time period"
   ]
  },
  {
   "cell_type": "code",
   "execution_count": 1,
   "id": "4d2d5d49",
   "metadata": {},
   "outputs": [],
   "source": [
    "def get_timed_submissions(subreddit,before_time,after_time):\n",
    "#     before_time = dec_31st_2022_epoch\n",
    "\n",
    "    post_list = []\n",
    "\n",
    "    counter = 0\n",
    "    while True:\n",
    "        posts = api.search_submissions(subreddit = subreddit,\n",
    "                                   limit = 100, sort = \"created_utc\",\n",
    "                                   order = \"desc\",\n",
    "                                   before = before_time)\n",
    "\n",
    "        new_post_list = [post for post in posts]\n",
    "\n",
    "        post_list.extend(new_post_list)\n",
    "\n",
    "        before_time = new_post_list[-1][\"created_utc\"]\n",
    "        print(f\"api call #{counter + 1} finished. start from epoch time:\", before_time)\n",
    "        if len(new_post_list) == 0:\n",
    "            break\n",
    "\n",
    "        #if len(post_list) >= 500:\n",
    "        #    break\n",
    "        if before_time < after_time:\n",
    "            break\n",
    "\n",
    "        counter += 1\n",
    "    return post_list"
   ]
  },
  {
   "cell_type": "code",
   "execution_count": null,
   "id": "869fc692",
   "metadata": {},
   "outputs": [],
   "source": []
  }
 ],
 "metadata": {
  "kernelspec": {
   "display_name": "Python 3 (ipykernel)",
   "language": "python",
   "name": "python3"
  },
  "language_info": {
   "codemirror_mode": {
    "name": "ipython",
    "version": 3
   },
   "file_extension": ".py",
   "mimetype": "text/x-python",
   "name": "python",
   "nbconvert_exporter": "python",
   "pygments_lexer": "ipython3",
   "version": "3.10.9"
  }
 },
 "nbformat": 4,
 "nbformat_minor": 5
}
