{
 "cells": [
  {
   "cell_type": "code",
   "execution_count": null,
   "id": "080d18ec",
   "metadata": {},
   "outputs": [],
   "source": [
    "1 / 2`"
   ]
  },
  {
   "cell_type": "code",
   "execution_count": 1,
   "id": "3e30199b",
   "metadata": {},
   "outputs": [
    {
     "data": {
      "text/plain": [
       "0.5"
      ]
     },
     "execution_count": 1,
     "metadata": {},
     "output_type": "execute_result"
    }
   ],
   "source": [
    "1/2"
   ]
  },
  {
   "cell_type": "code",
   "execution_count": 2,
   "id": "7ba494b1",
   "metadata": {},
   "outputs": [
    {
     "data": {
      "text/plain": [
       "2.0"
      ]
     },
     "execution_count": 2,
     "metadata": {},
     "output_type": "execute_result"
    }
   ],
   "source": [
    "4/2"
   ]
  },
  {
   "cell_type": "code",
   "execution_count": 3,
   "id": "bcd777f4",
   "metadata": {},
   "outputs": [
    {
     "data": {
      "text/plain": [
       "4"
      ]
     },
     "execution_count": 3,
     "metadata": {},
     "output_type": "execute_result"
    }
   ],
   "source": [
    "4"
   ]
  },
  {
   "cell_type": "code",
   "execution_count": 4,
   "id": "4f8aeafd",
   "metadata": {},
   "outputs": [],
   "source": [
    "x=4"
   ]
  },
  {
   "cell_type": "code",
   "execution_count": 5,
   "id": "98be02b1",
   "metadata": {},
   "outputs": [],
   "source": [
    "y=3"
   ]
  },
  {
   "cell_type": "code",
   "execution_count": 6,
   "id": "b3615ede",
   "metadata": {},
   "outputs": [
    {
     "data": {
      "text/plain": [
       "12"
      ]
     },
     "execution_count": 6,
     "metadata": {},
     "output_type": "execute_result"
    }
   ],
   "source": [
    "x*y"
   ]
  },
  {
   "cell_type": "code",
   "execution_count": 7,
   "id": "3010c8eb",
   "metadata": {},
   "outputs": [
    {
     "data": {
      "text/plain": [
       "11"
      ]
     },
     "execution_count": 7,
     "metadata": {},
     "output_type": "execute_result"
    }
   ],
   "source": [
    "2*x+1*y"
   ]
  },
  {
   "cell_type": "code",
   "execution_count": 9,
   "id": "3a86102e",
   "metadata": {},
   "outputs": [
    {
     "ename": "NameError",
     "evalue": "name 'hello' is not defined",
     "output_type": "error",
     "traceback": [
      "\u001b[1;31m---------------------------------------------------------------------------\u001b[0m",
      "\u001b[1;31mNameError\u001b[0m                                 Traceback (most recent call last)",
      "Cell \u001b[1;32mIn[9], line 1\u001b[0m\n\u001b[1;32m----> 1\u001b[0m \u001b[43mhello\u001b[49m\n",
      "\u001b[1;31mNameError\u001b[0m: name 'hello' is not defined"
     ]
    }
   ],
   "source": [
    "hello"
   ]
  },
  {
   "cell_type": "code",
   "execution_count": 10,
   "id": "7056698b",
   "metadata": {},
   "outputs": [
    {
     "data": {
      "text/plain": [
       "'hello'"
      ]
     },
     "execution_count": 10,
     "metadata": {},
     "output_type": "execute_result"
    }
   ],
   "source": [
    "\"hello\""
   ]
  },
  {
   "cell_type": "code",
   "execution_count": 11,
   "id": "2962eef8",
   "metadata": {},
   "outputs": [
    {
     "data": {
      "text/plain": [
       "'1'"
      ]
     },
     "execution_count": 11,
     "metadata": {},
     "output_type": "execute_result"
    }
   ],
   "source": [
    "\"1\""
   ]
  },
  {
   "cell_type": "code",
   "execution_count": 12,
   "id": "07e59433",
   "metadata": {},
   "outputs": [],
   "source": [
    "name = \"nick\""
   ]
  },
  {
   "cell_type": "code",
   "execution_count": 13,
   "id": "9ab72981",
   "metadata": {},
   "outputs": [
    {
     "data": {
      "text/plain": [
       "'hellonick'"
      ]
     },
     "execution_count": 13,
     "metadata": {},
     "output_type": "execute_result"
    }
   ],
   "source": [
    "\"hello\" + name"
   ]
  },
  {
   "cell_type": "code",
   "execution_count": 14,
   "id": "9c2ab6e6",
   "metadata": {},
   "outputs": [
    {
     "ename": "TypeError",
     "evalue": "can only concatenate str (not \"int\") to str",
     "output_type": "error",
     "traceback": [
      "\u001b[1;31m---------------------------------------------------------------------------\u001b[0m",
      "\u001b[1;31mTypeError\u001b[0m                                 Traceback (most recent call last)",
      "Cell \u001b[1;32mIn[14], line 1\u001b[0m\n\u001b[1;32m----> 1\u001b[0m \u001b[38;5;124;43m\"\u001b[39;49m\u001b[38;5;124;43mhello\u001b[39;49m\u001b[38;5;124;43m\"\u001b[39;49m\u001b[43m \u001b[49m\u001b[38;5;241;43m+\u001b[39;49m\u001b[43m \u001b[49m\u001b[38;5;241;43m1\u001b[39;49m\n",
      "\u001b[1;31mTypeError\u001b[0m: can only concatenate str (not \"int\") to str"
     ]
    }
   ],
   "source": [
    "\"hello\" + 1"
   ]
  },
  {
   "cell_type": "code",
   "execution_count": 15,
   "id": "bb99d056",
   "metadata": {},
   "outputs": [
    {
     "data": {
      "text/plain": [
       "'hello1'"
      ]
     },
     "execution_count": 15,
     "metadata": {},
     "output_type": "execute_result"
    }
   ],
   "source": [
    "\"hello\"+str(1)"
   ]
  },
  {
   "cell_type": "code",
   "execution_count": 16,
   "id": "620f03db",
   "metadata": {},
   "outputs": [
    {
     "ename": "SyntaxError",
     "evalue": "invalid syntax (767396775.py, line 1)",
     "output_type": "error",
     "traceback": [
      "\u001b[1;36m  Cell \u001b[1;32mIn[16], line 1\u001b[1;36m\u001b[0m\n\u001b[1;33m    len\"hello\"\u001b[0m\n\u001b[1;37m       ^\u001b[0m\n\u001b[1;31mSyntaxError\u001b[0m\u001b[1;31m:\u001b[0m invalid syntax\n"
     ]
    }
   ],
   "source": [
    "len\"hello\""
   ]
  },
  {
   "cell_type": "code",
   "execution_count": 17,
   "id": "97fa4723",
   "metadata": {},
   "outputs": [
    {
     "ename": "SyntaxError",
     "evalue": "unterminated string literal (detected at line 1) (525295467.py, line 1)",
     "output_type": "error",
     "traceback": [
      "\u001b[1;36m  Cell \u001b[1;32mIn[17], line 1\u001b[1;36m\u001b[0m\n\u001b[1;33m    'i'm happy'\u001b[0m\n\u001b[1;37m              ^\u001b[0m\n\u001b[1;31mSyntaxError\u001b[0m\u001b[1;31m:\u001b[0m unterminated string literal (detected at line 1)\n"
     ]
    }
   ],
   "source": [
    "'i'm happy'"
   ]
  },
  {
   "cell_type": "code",
   "execution_count": 18,
   "id": "08acf2c4",
   "metadata": {},
   "outputs": [
    {
     "data": {
      "text/plain": [
       "\"i'm happy\""
      ]
     },
     "execution_count": 18,
     "metadata": {},
     "output_type": "execute_result"
    }
   ],
   "source": [
    "\"i'm happy\""
   ]
  },
  {
   "cell_type": "code",
   "execution_count": 19,
   "id": "9f6453df",
   "metadata": {},
   "outputs": [
    {
     "data": {
      "text/plain": [
       "1.0"
      ]
     },
     "execution_count": 19,
     "metadata": {},
     "output_type": "execute_result"
    }
   ],
   "source": [
    "1.5-1/2"
   ]
  },
  {
   "cell_type": "code",
   "execution_count": 21,
   "id": "980c497a",
   "metadata": {},
   "outputs": [],
   "source": [
    "a=\"quick\"\n",
    "b=\"brown\"\n",
    "c=\"fox\""
   ]
  },
  {
   "cell_type": "code",
   "execution_count": 22,
   "id": "adb014ec",
   "metadata": {},
   "outputs": [
    {
     "data": {
      "text/plain": [
       "'quickbrownfox'"
      ]
     },
     "execution_count": 22,
     "metadata": {},
     "output_type": "execute_result"
    }
   ],
   "source": [
    "a+b+c"
   ]
  },
  {
   "cell_type": "code",
   "execution_count": 24,
   "id": "a2951a49",
   "metadata": {},
   "outputs": [
    {
     "data": {
      "text/plain": [
       "'thequickbrownfox'"
      ]
     },
     "execution_count": 24,
     "metadata": {},
     "output_type": "execute_result"
    }
   ],
   "source": [
    "\"the\"+a+b+c"
   ]
  },
  {
   "cell_type": "code",
   "execution_count": 27,
   "id": "5d568db0",
   "metadata": {},
   "outputs": [
    {
     "data": {
      "text/plain": [
       "'The quickquickquick brownbrownbrown fox'"
      ]
     },
     "execution_count": 27,
     "metadata": {},
     "output_type": "execute_result"
    }
   ],
   "source": [
    "(\"The \" +  a * 3 + \" \" +  b * 3 + \" \" + c)"
   ]
  },
  {
   "cell_type": "code",
   "execution_count": 30,
   "id": "da7c16ff",
   "metadata": {},
   "outputs": [
    {
     "name": "stdout",
     "output_type": "stream",
     "text": [
      "six is greater than five!\n"
     ]
    }
   ],
   "source": [
    "if 6 > 5 : \n",
    "    print(\"six is greater than five!\")"
   ]
  },
  {
   "cell_type": "code",
   "execution_count": 33,
   "id": "4995b55c",
   "metadata": {},
   "outputs": [],
   "source": [
    "if 0>2 :\n",
    "    print(\"zero is greater than two!\")"
   ]
  },
  {
   "cell_type": "code",
   "execution_count": 32,
   "id": "849e7422",
   "metadata": {},
   "outputs": [
    {
     "name": "stdout",
     "output_type": "stream",
     "text": [
      "I miss the 80s\n"
     ]
    }
   ],
   "source": [
    "if \"banana\" in \"bananarama\":\n",
    "    print(\"I miss the 80s\")"
   ]
  },
  {
   "cell_type": "code",
   "execution_count": 36,
   "id": "d74d1899",
   "metadata": {},
   "outputs": [
    {
     "name": "stdout",
     "output_type": "stream",
     "text": [
      "sister is older\n"
     ]
    }
   ],
   "source": [
    "sister_age = 15\n",
    "brother_age = 12\n",
    "if sister_age > brother_age:\n",
    "    print  (\"sister is older\")"
   ]
  },
  {
   "cell_type": "code",
   "execution_count": 38,
   "id": "05a64237",
   "metadata": {},
   "outputs": [
    {
     "name": "stdout",
     "output_type": "stream",
     "text": [
      "sister is older\n"
     ]
    }
   ],
   "source": [
    "sister_age = 15\n",
    "brother_age = 12\n",
    "if sister_age > brother_age:\n",
    "    print(\"sister is older\")\n",
    "else:\n",
    "    print(\"brother is older\")"
   ]
  },
  {
   "cell_type": "code",
   "execution_count": 39,
   "id": "f10c97e2",
   "metadata": {},
   "outputs": [
    {
     "data": {
      "text/plain": [
       "True"
      ]
     },
     "execution_count": 39,
     "metadata": {},
     "output_type": "execute_result"
    }
   ],
   "source": [
    "1>0 or 1<2"
   ]
  },
  {
   "cell_type": "code",
   "execution_count": 40,
   "id": "ed6c0014",
   "metadata": {},
   "outputs": [
    {
     "data": {
      "text/plain": [
       "False"
      ]
     },
     "execution_count": 40,
     "metadata": {},
     "output_type": "execute_result"
    }
   ],
   "source": [
    "1<2 and \"x\" in \"abc\""
   ]
  },
  {
   "cell_type": "code",
   "execution_count": 41,
   "id": "420e3990",
   "metadata": {},
   "outputs": [
    {
     "data": {
      "text/plain": [
       "True"
      ]
     },
     "execution_count": 41,
     "metadata": {},
     "output_type": "execute_result"
    }
   ],
   "source": [
    "\"a\" in \"hello\" or \"e\" in \"hello\""
   ]
  },
  {
   "cell_type": "code",
   "execution_count": 42,
   "id": "da79791b",
   "metadata": {},
   "outputs": [
    {
     "data": {
      "text/plain": [
       "False"
      ]
     },
     "execution_count": 42,
     "metadata": {},
     "output_type": "execute_result"
    }
   ],
   "source": [
    "1 <= 0 or \"a\" not in \"abc\""
   ]
  },
  {
   "cell_type": "code",
   "execution_count": 43,
   "id": "c99303bb",
   "metadata": {},
   "outputs": [
    {
     "name": "stdout",
     "output_type": "stream",
     "text": [
      "Too extreme for me.\n"
     ]
    }
   ],
   "source": [
    "temperature = 32\n",
    "if temperature > 60 and temperature < 75:\n",
    "    print (\"It's nice and cozy in here!\")\n",
    "else:\n",
    "    print(\"Too extreme for me.\")"
   ]
  },
  {
   "cell_type": "code",
   "execution_count": 44,
   "id": "61a89dc3",
   "metadata": {},
   "outputs": [
    {
     "name": "stdout",
     "output_type": "stream",
     "text": [
      "Welcome to the cheese shop!\n",
      "Can I interest you in some choice gouda?\n"
     ]
    }
   ],
   "source": [
    "hour = 11\n",
    "if hour < 7 or hour > 23:\n",
    "    print(\"Go away!\")\n",
    "    print(\"I'm sleeping!\")\n",
    "else:\n",
    "    print(\"Welcome to the cheese shop!\")\n",
    "    print(\"Can I interest you in some choice gouda?\")"
   ]
  },
  {
   "cell_type": "code",
   "execution_count": 46,
   "id": "f60b10b6",
   "metadata": {},
   "outputs": [
    {
     "name": "stdout",
     "output_type": "stream",
     "text": [
      "sister is older\n"
     ]
    }
   ],
   "source": [
    "sister_age = 15\n",
    "brother_age = 12\n",
    "if sister_age > brother_age:\n",
    "    print ('sister is older')\n",
    "elif sister_age == brother_age:\n",
    "    print (\"sister and brother are the same age\")\n",
    "else:\n",
    "    print ('brother is older')"
   ]
  },
  {
   "cell_type": "code",
   "execution_count": 48,
   "id": "322e3554",
   "metadata": {},
   "outputs": [
    {
     "name": "stdout",
     "output_type": "stream",
     "text": [
      "Halloween color!\n"
     ]
    }
   ],
   "source": [
    "color = \"orange\"\n",
    "if color == \"green\" or color == \"red\":\n",
    "  print(\"Christmas color!\")\n",
    "elif color == \"black\" or color == \"orange\":\n",
    "  print(\"Halloween color!\")\n",
    "elif color == \"pink\":\n",
    "  print(\"Valentine's Day color!\")"
   ]
  },
  {
   "cell_type": "code",
   "execution_count": 49,
   "id": "875369a1",
   "metadata": {},
   "outputs": [],
   "source": [
    "color = \"purple\"\n",
    "if color == \"green\" or color == \"red\":\n",
    "  print(\"Christmas color!\")\n",
    "elif color == \"black\" or color == \"orange\":\n",
    "  print(\"Halloween color!\")\n",
    "elif color == \"pink\":\n",
    "  print(\"Valentine's Day color!\")"
   ]
  },
  {
   "cell_type": "code",
   "execution_count": 50,
   "id": "81b7fc06",
   "metadata": {},
   "outputs": [
    {
     "data": {
      "text/plain": [
       "False"
      ]
     },
     "execution_count": 50,
     "metadata": {},
     "output_type": "execute_result"
    }
   ],
   "source": [
    "0==1"
   ]
  },
  {
   "cell_type": "code",
   "execution_count": 51,
   "id": "72cfa0c1",
   "metadata": {},
   "outputs": [
    {
     "data": {
      "text/plain": [
       "True"
      ]
     },
     "execution_count": 51,
     "metadata": {},
     "output_type": "execute_result"
    }
   ],
   "source": [
    "0==0"
   ]
  },
  {
   "cell_type": "code",
   "execution_count": 52,
   "id": "6e998248",
   "metadata": {},
   "outputs": [
    {
     "data": {
      "text/plain": [
       "False"
      ]
     },
     "execution_count": 52,
     "metadata": {},
     "output_type": "execute_result"
    }
   ],
   "source": [
    "\"a\" != \"a\""
   ]
  },
  {
   "cell_type": "code",
   "execution_count": 53,
   "id": "5ad27c87",
   "metadata": {},
   "outputs": [
    {
     "data": {
      "text/plain": [
       "True"
      ]
     },
     "execution_count": 53,
     "metadata": {},
     "output_type": "execute_result"
    }
   ],
   "source": [
    "\"a\" != \"A\""
   ]
  },
  {
   "cell_type": "code",
   "execution_count": 54,
   "id": "2491e186",
   "metadata": {},
   "outputs": [
    {
     "data": {
      "text/plain": [
       "True"
      ]
     },
     "execution_count": 54,
     "metadata": {},
     "output_type": "execute_result"
    }
   ],
   "source": [
    "1>0"
   ]
  },
  {
   "cell_type": "code",
   "execution_count": 55,
   "id": "35a577d7",
   "metadata": {},
   "outputs": [
    {
     "data": {
      "text/plain": [
       "True"
      ]
     },
     "execution_count": 55,
     "metadata": {},
     "output_type": "execute_result"
    }
   ],
   "source": [
    "2>=1"
   ]
  },
  {
   "cell_type": "code",
   "execution_count": 56,
   "id": "c86ddde5",
   "metadata": {},
   "outputs": [
    {
     "data": {
      "text/plain": [
       "False"
      ]
     },
     "execution_count": 56,
     "metadata": {},
     "output_type": "execute_result"
    }
   ],
   "source": [
    "2>=3"
   ]
  },
  {
   "cell_type": "code",
   "execution_count": 57,
   "id": "94e4f46a",
   "metadata": {},
   "outputs": [
    {
     "data": {
      "text/plain": [
       "-1"
      ]
     },
     "execution_count": 57,
     "metadata": {},
     "output_type": "execute_result"
    }
   ],
   "source": [
    "-1+0"
   ]
  },
  {
   "cell_type": "code",
   "execution_count": 59,
   "id": "346476ef",
   "metadata": {},
   "outputs": [
    {
     "data": {
      "text/plain": [
       "True"
      ]
     },
     "execution_count": 59,
     "metadata": {},
     "output_type": "execute_result"
    }
   ],
   "source": [
    "-1<0"
   ]
  },
  {
   "cell_type": "code",
   "execution_count": 61,
   "id": "f2b2aa2e",
   "metadata": {},
   "outputs": [
    {
     "data": {
      "text/plain": [
       "True"
      ]
     },
     "execution_count": 61,
     "metadata": {},
     "output_type": "execute_result"
    }
   ],
   "source": [
    ".5<=1"
   ]
  },
  {
   "cell_type": "code",
   "execution_count": 62,
   "id": "a9060bfc",
   "metadata": {},
   "outputs": [
    {
     "data": {
      "text/plain": [
       "False"
      ]
     },
     "execution_count": 62,
     "metadata": {},
     "output_type": "execute_result"
    }
   ],
   "source": [
    "\"H\" in \"hello\""
   ]
  },
  {
   "cell_type": "code",
   "execution_count": 63,
   "id": "731f55cf",
   "metadata": {},
   "outputs": [
    {
     "data": {
      "text/plain": [
       "False"
      ]
     },
     "execution_count": 63,
     "metadata": {},
     "output_type": "execute_result"
    }
   ],
   "source": [
    "\"X\" in \"hello\""
   ]
  },
  {
   "cell_type": "code",
   "execution_count": 64,
   "id": "6aa23bd6",
   "metadata": {},
   "outputs": [
    {
     "data": {
      "text/plain": [
       "False"
      ]
     },
     "execution_count": 64,
     "metadata": {},
     "output_type": "execute_result"
    }
   ],
   "source": [
    "\"a\" not in \"abcde\""
   ]
  },
  {
   "cell_type": "code",
   "execution_count": 65,
   "id": "8dd57984",
   "metadata": {},
   "outputs": [
    {
     "data": {
      "text/plain": [
       "True"
      ]
     },
     "execution_count": 65,
     "metadata": {},
     "output_type": "execute_result"
    }
   ],
   "source": [
    "\"Perl\" not in \"Python Workshop\""
   ]
  },
  {
   "cell_type": "code",
   "execution_count": null,
   "id": "370abc47",
   "metadata": {},
   "outputs": [],
   "source": []
  }
 ],
 "metadata": {
  "kernelspec": {
   "display_name": "Python 3 (ipykernel)",
   "language": "python",
   "name": "python3"
  },
  "language_info": {
   "codemirror_mode": {
    "name": "ipython",
    "version": 3
   },
   "file_extension": ".py",
   "mimetype": "text/x-python",
   "name": "python",
   "nbconvert_exporter": "python",
   "pygments_lexer": "ipython3",
   "version": "3.10.9"
  }
 },
 "nbformat": 4,
 "nbformat_minor": 5
}
