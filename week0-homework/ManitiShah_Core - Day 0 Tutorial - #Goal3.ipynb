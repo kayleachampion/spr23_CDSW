{
 "cells": [
  {
   "cell_type": "code",
   "execution_count": 1,
   "id": "39185a0f",
   "metadata": {},
   "outputs": [
    {
     "data": {
      "text/plain": [
       "4"
      ]
     },
     "execution_count": 1,
     "metadata": {},
     "output_type": "execute_result"
    }
   ],
   "source": [
    "2+2"
   ]
  },
  {
   "cell_type": "code",
   "execution_count": 2,
   "id": "764277cd",
   "metadata": {},
   "outputs": [
    {
     "data": {
      "text/plain": [
       "89"
      ]
     },
     "execution_count": 2,
     "metadata": {},
     "output_type": "execute_result"
    }
   ],
   "source": [
    "2+87"
   ]
  },
  {
   "cell_type": "code",
   "execution_count": 3,
   "id": "bf9a169b",
   "metadata": {},
   "outputs": [
    {
     "data": {
      "text/plain": [
       "3.75"
      ]
     },
     "execution_count": 3,
     "metadata": {},
     "output_type": "execute_result"
    }
   ],
   "source": [
    "1.5+2.25"
   ]
  },
  {
   "cell_type": "code",
   "execution_count": 4,
   "id": "ad45e2e1",
   "metadata": {},
   "outputs": [
    {
     "data": {
      "text/plain": [
       "2"
      ]
     },
     "execution_count": 4,
     "metadata": {},
     "output_type": "execute_result"
    }
   ],
   "source": [
    "4-2"
   ]
  },
  {
   "cell_type": "code",
   "execution_count": 5,
   "id": "812c5df9",
   "metadata": {},
   "outputs": [
    {
     "data": {
      "text/plain": [
       "99.5"
      ]
     },
     "execution_count": 5,
     "metadata": {},
     "output_type": "execute_result"
    }
   ],
   "source": [
    "100-.5"
   ]
  },
  {
   "cell_type": "code",
   "execution_count": 6,
   "id": "9592ccb0",
   "metadata": {},
   "outputs": [
    {
     "data": {
      "text/plain": [
       "-2"
      ]
     },
     "execution_count": 6,
     "metadata": {},
     "output_type": "execute_result"
    }
   ],
   "source": [
    "0-2"
   ]
  },
  {
   "cell_type": "code",
   "execution_count": 7,
   "id": "85698223",
   "metadata": {},
   "outputs": [
    {
     "data": {
      "text/plain": [
       "6"
      ]
     },
     "execution_count": 7,
     "metadata": {},
     "output_type": "execute_result"
    }
   ],
   "source": [
    "2*3"
   ]
  },
  {
   "cell_type": "code",
   "execution_count": 8,
   "id": "b10af26a",
   "metadata": {},
   "outputs": [
    {
     "data": {
      "text/plain": [
       "0.5"
      ]
     },
     "execution_count": 8,
     "metadata": {},
     "output_type": "execute_result"
    }
   ],
   "source": [
    "1/2"
   ]
  },
  {
   "cell_type": "code",
   "execution_count": 9,
   "id": "4883def4",
   "metadata": {},
   "outputs": [
    {
     "data": {
      "text/plain": [
       "2.0"
      ]
     },
     "execution_count": 9,
     "metadata": {},
     "output_type": "execute_result"
    }
   ],
   "source": [
    "4/2"
   ]
  },
  {
   "cell_type": "code",
   "execution_count": 10,
   "id": "7674323b",
   "metadata": {},
   "outputs": [
    {
     "data": {
      "text/plain": [
       "int"
      ]
     },
     "execution_count": 10,
     "metadata": {},
     "output_type": "execute_result"
    }
   ],
   "source": [
    "type(1)"
   ]
  },
  {
   "cell_type": "code",
   "execution_count": 12,
   "id": "addc8ca0",
   "metadata": {},
   "outputs": [
    {
     "data": {
      "text/plain": [
       "float"
      ]
     },
     "execution_count": 12,
     "metadata": {},
     "output_type": "execute_result"
    }
   ],
   "source": [
    "type(1.0)"
   ]
  },
  {
   "cell_type": "code",
   "execution_count": 13,
   "id": "3be2dfcb",
   "metadata": {},
   "outputs": [
    {
     "data": {
      "text/plain": [
       "float"
      ]
     },
     "execution_count": 13,
     "metadata": {},
     "output_type": "execute_result"
    }
   ],
   "source": [
    "type(8.73)"
   ]
  },
  {
   "cell_type": "code",
   "execution_count": 14,
   "id": "864af9ce",
   "metadata": {},
   "outputs": [
    {
     "data": {
      "text/plain": [
       "4"
      ]
     },
     "execution_count": 14,
     "metadata": {},
     "output_type": "execute_result"
    }
   ],
   "source": [
    "4"
   ]
  },
  {
   "cell_type": "code",
   "execution_count": 15,
   "id": "8db708c6",
   "metadata": {},
   "outputs": [],
   "source": [
    "x = 4"
   ]
  },
  {
   "cell_type": "code",
   "execution_count": 16,
   "id": "4f5dc66d",
   "metadata": {},
   "outputs": [
    {
     "data": {
      "text/plain": [
       "4"
      ]
     },
     "execution_count": 16,
     "metadata": {},
     "output_type": "execute_result"
    }
   ],
   "source": [
    "4"
   ]
  },
  {
   "cell_type": "code",
   "execution_count": 17,
   "id": "ea64e9a9",
   "metadata": {},
   "outputs": [
    {
     "data": {
      "text/plain": [
       "4"
      ]
     },
     "execution_count": 17,
     "metadata": {},
     "output_type": "execute_result"
    }
   ],
   "source": [
    "x"
   ]
  },
  {
   "cell_type": "code",
   "execution_count": 18,
   "id": "1ee1faac",
   "metadata": {},
   "outputs": [],
   "source": [
    "x = 5"
   ]
  },
  {
   "cell_type": "code",
   "execution_count": 19,
   "id": "123a70f0",
   "metadata": {},
   "outputs": [
    {
     "data": {
      "text/plain": [
       "5"
      ]
     },
     "execution_count": 19,
     "metadata": {},
     "output_type": "execute_result"
    }
   ],
   "source": [
    "x"
   ]
  },
  {
   "cell_type": "code",
   "execution_count": 20,
   "id": "715ea75d",
   "metadata": {},
   "outputs": [],
   "source": [
    "y = 4"
   ]
  },
  {
   "cell_type": "code",
   "execution_count": 21,
   "id": "0adee0ff",
   "metadata": {},
   "outputs": [
    {
     "data": {
      "text/plain": [
       "20"
      ]
     },
     "execution_count": 21,
     "metadata": {},
     "output_type": "execute_result"
    }
   ],
   "source": [
    "x * y"
   ]
  },
  {
   "cell_type": "code",
   "execution_count": 22,
   "id": "e562cf6a",
   "metadata": {},
   "outputs": [
    {
     "data": {
      "text/plain": [
       "25"
      ]
     },
     "execution_count": 22,
     "metadata": {},
     "output_type": "execute_result"
    }
   ],
   "source": [
    "x * x"
   ]
  },
  {
   "cell_type": "code",
   "execution_count": 23,
   "id": "f7b462d9",
   "metadata": {},
   "outputs": [
    {
     "data": {
      "text/plain": [
       "6"
      ]
     },
     "execution_count": 23,
     "metadata": {},
     "output_type": "execute_result"
    }
   ],
   "source": [
    " 2 * x - 1 * y"
   ]
  },
  {
   "cell_type": "code",
   "execution_count": 24,
   "id": "b6df07cc",
   "metadata": {},
   "outputs": [
    {
     "data": {
      "text/plain": [
       "6"
      ]
     },
     "execution_count": 24,
     "metadata": {},
     "output_type": "execute_result"
    }
   ],
   "source": [
    " (2 * x) - (1 * y)"
   ]
  },
  {
   "cell_type": "code",
   "execution_count": 25,
   "id": "c19bd74f",
   "metadata": {},
   "outputs": [
    {
     "data": {
      "text/plain": [
       "str"
      ]
     },
     "execution_count": 25,
     "metadata": {},
     "output_type": "execute_result"
    }
   ],
   "source": [
    "type(\"Hello\")"
   ]
  },
  {
   "cell_type": "code",
   "execution_count": 26,
   "id": "461b70be",
   "metadata": {},
   "outputs": [
    {
     "data": {
      "text/plain": [
       "int"
      ]
     },
     "execution_count": 26,
     "metadata": {},
     "output_type": "execute_result"
    }
   ],
   "source": [
    "type (1)"
   ]
  },
  {
   "cell_type": "code",
   "execution_count": 28,
   "id": "3134fc59",
   "metadata": {},
   "outputs": [
    {
     "data": {
      "text/plain": [
       "str"
      ]
     },
     "execution_count": 28,
     "metadata": {},
     "output_type": "execute_result"
    }
   ],
   "source": [
    "type (\"help\")"
   ]
  },
  {
   "cell_type": "code",
   "execution_count": 29,
   "id": "fb5159f6",
   "metadata": {},
   "outputs": [
    {
     "data": {
      "text/plain": [
       "'HelloWorld'"
      ]
     },
     "execution_count": 29,
     "metadata": {},
     "output_type": "execute_result"
    }
   ],
   "source": [
    "\"Hello\" + \"World\""
   ]
  },
  {
   "cell_type": "code",
   "execution_count": 31,
   "id": "c397b09e",
   "metadata": {},
   "outputs": [],
   "source": [
    "name = \"jessica\"\n",
    "\n"
   ]
  },
  {
   "cell_type": "code",
   "execution_count": 32,
   "id": "89b73f9b",
   "metadata": {},
   "outputs": [
    {
     "data": {
      "text/plain": [
       "'hellojessica'"
      ]
     },
     "execution_count": 32,
     "metadata": {},
     "output_type": "execute_result"
    }
   ],
   "source": [
    "\"hello\" + name "
   ]
  },
  {
   "cell_type": "code",
   "execution_count": 33,
   "id": "1f30b0cf",
   "metadata": {},
   "outputs": [
    {
     "ename": "TypeError",
     "evalue": "can only concatenate str (not \"int\") to str",
     "output_type": "error",
     "traceback": [
      "\u001b[0;31m---------------------------------------------------------------------------\u001b[0m",
      "\u001b[0;31mTypeError\u001b[0m                                 Traceback (most recent call last)",
      "Cell \u001b[0;32mIn[33], line 1\u001b[0m\n\u001b[0;32m----> 1\u001b[0m \u001b[38;5;124;43m\"\u001b[39;49m\u001b[38;5;124;43mHello\u001b[39;49m\u001b[38;5;124;43m\"\u001b[39;49m\u001b[38;5;241;43m+\u001b[39;49m\u001b[43m \u001b[49m\u001b[38;5;241;43m1\u001b[39;49m\n",
      "\u001b[0;31mTypeError\u001b[0m: can only concatenate str (not \"int\") to str"
     ]
    }
   ],
   "source": [
    "\"Hello\"+ 1\n"
   ]
  },
  {
   "cell_type": "code",
   "execution_count": 34,
   "id": "bfcc8c58",
   "metadata": {},
   "outputs": [
    {
     "ename": "TypeError",
     "evalue": "can only concatenate str (not \"int\") to str",
     "output_type": "error",
     "traceback": [
      "\u001b[0;31m---------------------------------------------------------------------------\u001b[0m",
      "\u001b[0;31mTypeError\u001b[0m                                 Traceback (most recent call last)",
      "Cell \u001b[0;32mIn[34], line 1\u001b[0m\n\u001b[0;32m----> 1\u001b[0m \u001b[38;5;124;43m\"\u001b[39;49m\u001b[38;5;124;43mhello\u001b[39;49m\u001b[38;5;124;43m\"\u001b[39;49m\u001b[43m \u001b[49m\u001b[38;5;241;43m+\u001b[39;49m\u001b[43m \u001b[49m\u001b[43mx\u001b[49m\n",
      "\u001b[0;31mTypeError\u001b[0m: can only concatenate str (not \"int\") to str"
     ]
    }
   ],
   "source": [
    "\"hello\" + x\n"
   ]
  },
  {
   "cell_type": "code",
   "execution_count": 35,
   "id": "7f3dc000",
   "metadata": {},
   "outputs": [
    {
     "data": {
      "text/plain": [
       "'Hello1'"
      ]
     },
     "execution_count": 35,
     "metadata": {},
     "output_type": "execute_result"
    }
   ],
   "source": [
    "\"Hello\" + str(1)"
   ]
  },
  {
   "cell_type": "code",
   "execution_count": 36,
   "id": "c9e90607",
   "metadata": {},
   "outputs": [
    {
     "data": {
      "text/plain": [
       "'Hello5'"
      ]
     },
     "execution_count": 36,
     "metadata": {},
     "output_type": "execute_result"
    }
   ],
   "source": [
    "\"Hello\" + str(x)"
   ]
  },
  {
   "cell_type": "code",
   "execution_count": 37,
   "id": "d6622c0a",
   "metadata": {},
   "outputs": [
    {
     "data": {
      "text/plain": [
       "5"
      ]
     },
     "execution_count": 37,
     "metadata": {},
     "output_type": "execute_result"
    }
   ],
   "source": [
    "len(\"Hello\")"
   ]
  },
  {
   "cell_type": "code",
   "execution_count": 38,
   "id": "a98fe386",
   "metadata": {},
   "outputs": [
    {
     "data": {
      "text/plain": [
       "0"
      ]
     },
     "execution_count": 38,
     "metadata": {},
     "output_type": "execute_result"
    }
   ],
   "source": [
    "len (\"\")"
   ]
  },
  {
   "cell_type": "code",
   "execution_count": 39,
   "id": "30235410",
   "metadata": {},
   "outputs": [],
   "source": [
    " fish = \"humuhumunukunukuapua'a\"\n"
   ]
  },
  {
   "cell_type": "code",
   "execution_count": 40,
   "id": "65e7fb77",
   "metadata": {},
   "outputs": [],
   "source": [
    "name_length = len(fish)\n"
   ]
  },
  {
   "cell_type": "code",
   "execution_count": 41,
   "id": "880f4c23",
   "metadata": {},
   "outputs": [
    {
     "data": {
      "text/plain": [
       "\"humuhumunukunukuapua'a is a Hawaiian fish whose name is 22 characters long.\""
      ]
     },
     "execution_count": 41,
     "metadata": {},
     "output_type": "execute_result"
    }
   ],
   "source": [
    "fish + \" is a Hawaiian fish whose name is \" + str(name_length) + \" characters long.\"\n"
   ]
  },
  {
   "cell_type": "code",
   "execution_count": 42,
   "id": "ceac91e3",
   "metadata": {},
   "outputs": [
    {
     "data": {
      "text/plain": [
       "'AAAAAAAAAAAAAAAAAAAAAAAAAAAAAAAAAAAAAAAA'"
      ]
     },
     "execution_count": 42,
     "metadata": {},
     "output_type": "execute_result"
    }
   ],
   "source": [
    "\"A\" * 40\n"
   ]
  },
  {
   "cell_type": "code",
   "execution_count": 43,
   "id": "d7f67905",
   "metadata": {},
   "outputs": [],
   "source": [
    "h = \"Happy\" "
   ]
  },
  {
   "cell_type": "code",
   "execution_count": 44,
   "id": "1c6bc83e",
   "metadata": {},
   "outputs": [],
   "source": [
    "b = \"Birthday\""
   ]
  },
  {
   "cell_type": "code",
   "execution_count": 45,
   "id": "ddfff89f",
   "metadata": {},
   "outputs": [
    {
     "data": {
      "text/plain": [
       "'HappyBirthdayHappyBirthdayHappyBirthdayHappyBirthdayHappyBirthdayHappyBirthdayHappyBirthdayHappyBirthdayHappyBirthdayHappyBirthday'"
      ]
     },
     "execution_count": 45,
     "metadata": {},
     "output_type": "execute_result"
    }
   ],
   "source": [
    "(h + b)* 10 "
   ]
  },
  {
   "cell_type": "code",
   "execution_count": 48,
   "id": "e2e4858f",
   "metadata": {},
   "outputs": [
    {
     "name": "stdout",
     "output_type": "stream",
     "text": [
      "<class 'float'>\n"
     ]
    }
   ],
   "source": [
    "total = 1.5 - 1/2\n",
    "total\n",
    "print(type(total))"
   ]
  },
  {
   "cell_type": "markdown",
   "id": "e0aac56c",
   "metadata": {},
   "source": [
    "1.5 - 1/2\n"
   ]
  },
  {
   "cell_type": "code",
   "execution_count": 49,
   "id": "75a2ea38",
   "metadata": {},
   "outputs": [
    {
     "data": {
      "text/plain": [
       "1.0"
      ]
     },
     "execution_count": 49,
     "metadata": {},
     "output_type": "execute_result"
    }
   ],
   "source": [
    "1.5 - 1/2"
   ]
  },
  {
   "cell_type": "code",
   "execution_count": 50,
   "id": "302b34d6",
   "metadata": {},
   "outputs": [
    {
     "name": "stdout",
     "output_type": "stream",
     "text": [
      "The quickquickquick brownbrownbrown fox jumps over the lazy dog\n"
     ]
    }
   ],
   "source": [
    " a = \"quick\"\n",
    " b =  \"brown\"\n",
    " c = \"fox jumps over the lazy dog\"\n",
    " print(\"The \" +  a * 3 + \" \" +  b * 3 + \" \" + c)"
   ]
  },
  {
   "cell_type": "code",
   "execution_count": 51,
   "id": "6ac3610b",
   "metadata": {},
   "outputs": [
    {
     "ename": "SyntaxError",
     "evalue": "expected ':' (768943580.py, line 1)",
     "output_type": "error",
     "traceback": [
      "\u001b[0;36m  Cell \u001b[0;32mIn[51], line 1\u001b[0;36m\u001b[0m\n\u001b[0;31m    if 6 > 5\u001b[0m\n\u001b[0m            ^\u001b[0m\n\u001b[0;31mSyntaxError\u001b[0m\u001b[0;31m:\u001b[0m expected ':'\n"
     ]
    }
   ],
   "source": [
    "if 6 > 5\n",
    "print (\"Six is greater than five!\")"
   ]
  },
  {
   "cell_type": "code",
   "execution_count": 52,
   "id": "50c2bc68",
   "metadata": {},
   "outputs": [
    {
     "name": "stdout",
     "output_type": "stream",
     "text": [
      "Six is greater than five!\n"
     ]
    }
   ],
   "source": [
    "if 6 > 5 :\n",
    "    print (\"Six is greater than five!\")\n"
   ]
  },
  {
   "cell_type": "code",
   "execution_count": 53,
   "id": "e15a999d",
   "metadata": {},
   "outputs": [],
   "source": [
    "if 0>2: \n",
    "    print (\"zero greater than 2\")"
   ]
  },
  {
   "cell_type": "code",
   "execution_count": 54,
   "id": "1e5be92e",
   "metadata": {},
   "outputs": [
    {
     "name": "stdout",
     "output_type": "stream",
     "text": [
      "I miss the 80s.\n"
     ]
    }
   ],
   "source": [
    "if \"banana\" in \"bananarama\":\n",
    "    print(\"I miss the 80s.\")"
   ]
  },
  {
   "cell_type": "code",
   "execution_count": 55,
   "id": "6b9471ba",
   "metadata": {},
   "outputs": [
    {
     "name": "stdout",
     "output_type": "stream",
     "text": [
      "sister is older\n"
     ]
    }
   ],
   "source": [
    "sister_age = 23\n",
    "brother_age = 14\n",
    "if sister_age > brother_age:\n",
    "    print(\"sister is older\")\n",
    "else:\n",
    "    print(\"brother is older\")"
   ]
  },
  {
   "cell_type": "code",
   "execution_count": 56,
   "id": "c64d443f",
   "metadata": {},
   "outputs": [
    {
     "name": "stdout",
     "output_type": "stream",
     "text": [
      "brother is older\n"
     ]
    }
   ],
   "source": [
    "sister_age = 14\n",
    "brother_age = 23\n",
    "if sister_age > brother_age:\n",
    "    print(\"sister is older\")\n",
    "else:\n",
    "    print(\"brother is older\")"
   ]
  },
  {
   "cell_type": "code",
   "execution_count": 57,
   "id": "caefdee5",
   "metadata": {},
   "outputs": [
    {
     "data": {
      "text/plain": [
       "True"
      ]
     },
     "execution_count": 57,
     "metadata": {},
     "output_type": "execute_result"
    }
   ],
   "source": [
    "1 > 0 and 1 < 2"
   ]
  },
  {
   "cell_type": "code",
   "execution_count": 58,
   "id": "8caa4915",
   "metadata": {},
   "outputs": [
    {
     "data": {
      "text/plain": [
       "False"
      ]
     },
     "execution_count": 58,
     "metadata": {},
     "output_type": "execute_result"
    }
   ],
   "source": [
    "1 < 2 and \"x\" in \"abc\""
   ]
  },
  {
   "cell_type": "code",
   "execution_count": 59,
   "id": "272555a9",
   "metadata": {},
   "outputs": [
    {
     "data": {
      "text/plain": [
       "True"
      ]
     },
     "execution_count": 59,
     "metadata": {},
     "output_type": "execute_result"
    }
   ],
   "source": [
    "1 < 2 or \"x\" in \"abc\""
   ]
  },
  {
   "cell_type": "code",
   "execution_count": 60,
   "id": "56c6c08e",
   "metadata": {},
   "outputs": [
    {
     "data": {
      "text/plain": [
       "True"
      ]
     },
     "execution_count": 60,
     "metadata": {},
     "output_type": "execute_result"
    }
   ],
   "source": [
    "\"a\" in \"hello\" or \"e\" in \"hello\""
   ]
  },
  {
   "cell_type": "code",
   "execution_count": 61,
   "id": "4ec282cc",
   "metadata": {},
   "outputs": [
    {
     "data": {
      "text/plain": [
       "False"
      ]
     },
     "execution_count": 61,
     "metadata": {},
     "output_type": "execute_result"
    }
   ],
   "source": [
    "1 <= 0 or \"a\" not in \"abc\""
   ]
  },
  {
   "cell_type": "code",
   "execution_count": 62,
   "id": "5398ce76",
   "metadata": {},
   "outputs": [
    {
     "name": "stdout",
     "output_type": "stream",
     "text": [
      "Too extreme for me.\n"
     ]
    }
   ],
   "source": [
    "temperature = 32\n",
    "if temperature > 60 and temperature < 75:\n",
    "    print(\"It's nice and cozy in here!\")\n",
    "else:\n",
    "    print(\"Too extreme for me.\")"
   ]
  },
  {
   "cell_type": "code",
   "execution_count": 63,
   "id": "c2a63b41",
   "metadata": {},
   "outputs": [
    {
     "name": "stdout",
     "output_type": "stream",
     "text": [
      "Welcome to the cheese shop!\n",
      "Can I interest you in some choice gouda?\n"
     ]
    }
   ],
   "source": [
    "hour = 11\n",
    "if hour < 7 or hour > 23:\n",
    "    print(\"Go away!\")\n",
    "    print(\"I'm sleeping!\")\n",
    "else:\n",
    "    print(\"Welcome to the cheese shop!\")\n",
    "    print(\"Can I interest you in some choice gouda?\")"
   ]
  },
  {
   "cell_type": "code",
   "execution_count": 64,
   "id": "bcc65d0b",
   "metadata": {},
   "outputs": [
    {
     "name": "stdout",
     "output_type": "stream",
     "text": [
      "Halloween color!\n"
     ]
    }
   ],
   "source": [
    "color = \"orange\"\n",
    "if color == \"green\" or color == \"red\":\n",
    "  print(\"Christmas color!\")\n",
    "elif color == \"black\" or color == \"orange\":\n",
    "  print(\"Halloween color!\")\n",
    "elif color == \"pink\":\n",
    "  print(\"Valentine's Day color!\")"
   ]
  },
  {
   "cell_type": "code",
   "execution_count": 65,
   "id": "f1cde1e5",
   "metadata": {},
   "outputs": [
    {
     "name": "stdout",
     "output_type": "stream",
     "text": [
      "sister is older\n"
     ]
    }
   ],
   "source": [
    "sister_age = 15\n",
    "brother_age = 12\n",
    "if sister_age > brother_age:\n",
    "    print(\"sister is older\")\n",
    "elif sister_age == brother_age:\n",
    "    print(\"sister and brother are the same age\")\n",
    "else:\n",
    "    print(\"brother is older\")"
   ]
  },
  {
   "cell_type": "code",
   "execution_count": 66,
   "id": "5b9bc13b",
   "metadata": {
    "scrolled": true
   },
   "outputs": [
    {
     "name": "stdout",
     "output_type": "stream",
     "text": [
      "sister and brother are the same age\n"
     ]
    }
   ],
   "source": [
    "sister_age = 15\n",
    "brother_age = 15\n",
    "if sister_age > brother_age:\n",
    "    print(\"sister is older\")\n",
    "elif sister_age == brother_age:\n",
    "    print(\"sister and brother are the same age\")\n",
    "else:\n",
    "    print(\"brother is older\")"
   ]
  },
  {
   "cell_type": "code",
   "execution_count": 67,
   "id": "e6a00404",
   "metadata": {},
   "outputs": [
    {
     "name": "stdout",
     "output_type": "stream",
     "text": [
      "Valentine's Day color!\n"
     ]
    }
   ],
   "source": [
    "color = \"pink\"\n",
    "if color == \"green\" or color == \"red\":\n",
    "  print(\"Christmas color!\")\n",
    "elif color == \"black\" or color == \"orange\":\n",
    "  print(\"Halloween color!\")\n",
    "elif color == \"pink\":\n",
    "  print(\"Valentine's Day color!\")"
   ]
  },
  {
   "cell_type": "code",
   "execution_count": 68,
   "id": "3207c79b",
   "metadata": {},
   "outputs": [
    {
     "name": "stdout",
     "output_type": "stream",
     "text": [
      "Valentine's Day color!\n"
     ]
    }
   ],
   "source": [
    "color = \"pink\"\n",
    "if color == \"green\" or color == \"red\":\n",
    "  print(\"Christmas color!\")\n",
    "elif color == \"black\" or color == \"orange\":\n",
    "  print(\"Halloween color!\")\n",
    "elif color == \"pink\":\n",
    "  print(\"Valentine's Day color!\")"
   ]
  },
  {
   "cell_type": "code",
   "execution_count": 2,
   "id": "64906379",
   "metadata": {},
   "outputs": [
    {
     "data": {
      "text/plain": [
       "bool"
      ]
     },
     "execution_count": 2,
     "metadata": {},
     "output_type": "execute_result"
    }
   ],
   "source": [
    "True\n",
    "\n",
    "type(True)\n",
    "\n",
    "False\n",
    "\n",
    "type(False)"
   ]
  },
  {
   "cell_type": "code",
   "execution_count": 3,
   "id": "84542b1f",
   "metadata": {},
   "outputs": [
    {
     "data": {
      "text/plain": [
       "True"
      ]
     },
     "execution_count": 3,
     "metadata": {},
     "output_type": "execute_result"
    }
   ],
   "source": [
    "0 == 0"
   ]
  },
  {
   "cell_type": "code",
   "execution_count": 4,
   "id": "d686e092",
   "metadata": {},
   "outputs": [
    {
     "data": {
      "text/plain": [
       "False"
      ]
     },
     "execution_count": 4,
     "metadata": {},
     "output_type": "execute_result"
    }
   ],
   "source": [
    "0 == 1\n"
   ]
  },
  {
   "cell_type": "code",
   "execution_count": 5,
   "id": "08ad1027",
   "metadata": {},
   "outputs": [
    {
     "data": {
      "text/plain": [
       "True"
      ]
     },
     "execution_count": 5,
     "metadata": {},
     "output_type": "execute_result"
    }
   ],
   "source": [
    "\"w\"== \"w\""
   ]
  },
  {
   "cell_type": "code",
   "execution_count": 6,
   "id": "20306138",
   "metadata": {},
   "outputs": [
    {
     "data": {
      "text/plain": [
       "False"
      ]
     },
     "execution_count": 6,
     "metadata": {},
     "output_type": "execute_result"
    }
   ],
   "source": [
    "\"w\" == \"W\""
   ]
  },
  {
   "cell_type": "code",
   "execution_count": 8,
   "id": "4acdff69",
   "metadata": {},
   "outputs": [
    {
     "data": {
      "text/plain": [
       "True"
      ]
     },
     "execution_count": 8,
     "metadata": {},
     "output_type": "execute_result"
    }
   ],
   "source": [
    "\"w\"!= \"W\""
   ]
  },
  {
   "cell_type": "code",
   "execution_count": 9,
   "id": "24aa77f1",
   "metadata": {},
   "outputs": [
    {
     "data": {
      "text/plain": [
       "True"
      ]
     },
     "execution_count": 9,
     "metadata": {},
     "output_type": "execute_result"
    }
   ],
   "source": [
    "1 > 0 "
   ]
  },
  {
   "cell_type": "code",
   "execution_count": 15,
   "id": "d4594120",
   "metadata": {},
   "outputs": [
    {
     "data": {
      "text/plain": [
       "True"
      ]
     },
     "execution_count": 15,
     "metadata": {},
     "output_type": "execute_result"
    }
   ],
   "source": [
    "1 >= (-5)"
   ]
  },
  {
   "cell_type": "code",
   "execution_count": 16,
   "id": "5ccfcbb9",
   "metadata": {},
   "outputs": [
    {
     "data": {
      "text/plain": [
       "True"
      ]
     },
     "execution_count": 16,
     "metadata": {},
     "output_type": "execute_result"
    }
   ],
   "source": [
    " .5 <= 1"
   ]
  },
  {
   "cell_type": "code",
   "execution_count": 17,
   "id": "e03c0fb5",
   "metadata": {},
   "outputs": [
    {
     "data": {
      "text/plain": [
       "True"
      ]
     },
     "execution_count": 17,
     "metadata": {},
     "output_type": "execute_result"
    }
   ],
   "source": [
    "\"F\" in \"Fello\""
   ]
  },
  {
   "cell_type": "code",
   "execution_count": 18,
   "id": "1cb4c1cb",
   "metadata": {},
   "outputs": [
    {
     "data": {
      "text/plain": [
       "False"
      ]
     },
     "execution_count": 18,
     "metadata": {},
     "output_type": "execute_result"
    }
   ],
   "source": [
    "\"H\" in \"Snow\""
   ]
  },
  {
   "cell_type": "code",
   "execution_count": 19,
   "id": "ffb3d78e",
   "metadata": {},
   "outputs": [
    {
     "data": {
      "text/plain": [
       "True"
      ]
     },
     "execution_count": 19,
     "metadata": {},
     "output_type": "execute_result"
    }
   ],
   "source": [
    "\"A\" not in \"abcde\""
   ]
  },
  {
   "cell_type": "code",
   "execution_count": 20,
   "id": "083318de",
   "metadata": {},
   "outputs": [
    {
     "data": {
      "text/plain": [
       "False"
      ]
     },
     "execution_count": 20,
     "metadata": {},
     "output_type": "execute_result"
    }
   ],
   "source": [
    "\"a\" not in \"abcde\""
   ]
  }
 ],
 "metadata": {
  "kernelspec": {
   "display_name": "Python 3 (ipykernel)",
   "language": "python",
   "name": "python3"
  },
  "language_info": {
   "codemirror_mode": {
    "name": "ipython",
    "version": 3
   },
   "file_extension": ".py",
   "mimetype": "text/x-python",
   "name": "python",
   "nbconvert_exporter": "python",
   "pygments_lexer": "ipython3",
   "version": "3.10.9"
  }
 },
 "nbformat": 4,
 "nbformat_minor": 5
}
