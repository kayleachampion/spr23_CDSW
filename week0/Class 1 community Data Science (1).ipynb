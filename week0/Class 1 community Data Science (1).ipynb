{
 "cells": [
  {
   "cell_type": "code",
   "execution_count": 3,
   "id": "f06252a6",
   "metadata": {},
   "outputs": [
    {
     "data": {
      "text/plain": [
       "4"
      ]
     },
     "execution_count": 3,
     "metadata": {},
     "output_type": "execute_result"
    }
   ],
   "source": [
    "2+2"
   ]
  },
  {
   "cell_type": "markdown",
   "id": "af95b673",
   "metadata": {},
   "source": []
  },
  {
   "cell_type": "code",
   "execution_count": 4,
   "id": "406b37a5",
   "metadata": {},
   "outputs": [
    {
     "data": {
      "text/plain": [
       "3.75"
      ]
     },
     "execution_count": 4,
     "metadata": {},
     "output_type": "execute_result"
    }
   ],
   "source": [
    "1.5+2.25"
   ]
  },
  {
   "cell_type": "code",
   "execution_count": 5,
   "id": "2a3e9ab9",
   "metadata": {},
   "outputs": [
    {
     "data": {
      "text/plain": [
       "2"
      ]
     },
     "execution_count": 5,
     "metadata": {},
     "output_type": "execute_result"
    }
   ],
   "source": [
    "4-2"
   ]
  },
  {
   "cell_type": "code",
   "execution_count": 6,
   "id": "12db3f96",
   "metadata": {},
   "outputs": [
    {
     "data": {
      "text/plain": [
       "99.5"
      ]
     },
     "execution_count": 6,
     "metadata": {},
     "output_type": "execute_result"
    }
   ],
   "source": [
    "100-.5"
   ]
  },
  {
   "cell_type": "code",
   "execution_count": 7,
   "id": "0791a50b",
   "metadata": {},
   "outputs": [
    {
     "data": {
      "text/plain": [
       "-2"
      ]
     },
     "execution_count": 7,
     "metadata": {},
     "output_type": "execute_result"
    }
   ],
   "source": [
    "0-2"
   ]
  },
  {
   "cell_type": "code",
   "execution_count": 8,
   "id": "8dec5423",
   "metadata": {},
   "outputs": [
    {
     "data": {
      "text/plain": [
       "6"
      ]
     },
     "execution_count": 8,
     "metadata": {},
     "output_type": "execute_result"
    }
   ],
   "source": [
    "2*3"
   ]
  },
  {
   "cell_type": "code",
   "execution_count": 9,
   "id": "cd42a253",
   "metadata": {},
   "outputs": [
    {
     "data": {
      "text/plain": [
       "0.5"
      ]
     },
     "execution_count": 9,
     "metadata": {},
     "output_type": "execute_result"
    }
   ],
   "source": [
    "1/2"
   ]
  },
  {
   "cell_type": "code",
   "execution_count": 105,
   "id": "b2ea75fe",
   "metadata": {},
   "outputs": [
    {
     "data": {
      "text/plain": [
       "2.0"
      ]
     },
     "execution_count": 105,
     "metadata": {},
     "output_type": "execute_result"
    }
   ],
   "source": [
    "4/2"
   ]
  },
  {
   "cell_type": "code",
   "execution_count": 11,
   "id": "b4b5f55b",
   "metadata": {},
   "outputs": [
    {
     "data": {
      "text/plain": [
       "int"
      ]
     },
     "execution_count": 11,
     "metadata": {},
     "output_type": "execute_result"
    }
   ],
   "source": [
    "type(1)"
   ]
  },
  {
   "cell_type": "code",
   "execution_count": 12,
   "id": "082ad3f0",
   "metadata": {},
   "outputs": [
    {
     "data": {
      "text/plain": [
       "float"
      ]
     },
     "execution_count": 12,
     "metadata": {},
     "output_type": "execute_result"
    }
   ],
   "source": [
    "type(1.0)"
   ]
  },
  {
   "cell_type": "code",
   "execution_count": 13,
   "id": "814acb4f",
   "metadata": {},
   "outputs": [
    {
     "data": {
      "text/plain": [
       "int"
      ]
     },
     "execution_count": 13,
     "metadata": {},
     "output_type": "execute_result"
    }
   ],
   "source": [
    "type(4)"
   ]
  },
  {
   "cell_type": "code",
   "execution_count": 14,
   "id": "4eb13cbd",
   "metadata": {},
   "outputs": [],
   "source": [
    "x=4"
   ]
  },
  {
   "cell_type": "code",
   "execution_count": 15,
   "id": "bc7002a7",
   "metadata": {},
   "outputs": [
    {
     "data": {
      "text/plain": [
       "int"
      ]
     },
     "execution_count": 15,
     "metadata": {},
     "output_type": "execute_result"
    }
   ],
   "source": [
    "type(x)"
   ]
  },
  {
   "cell_type": "code",
   "execution_count": 16,
   "id": "147c8fbd",
   "metadata": {},
   "outputs": [
    {
     "data": {
      "text/plain": [
       "8"
      ]
     },
     "execution_count": 16,
     "metadata": {},
     "output_type": "execute_result"
    }
   ],
   "source": [
    "2*x"
   ]
  },
  {
   "cell_type": "code",
   "execution_count": 17,
   "id": "c302e9d8",
   "metadata": {},
   "outputs": [
    {
     "ename": "NameError",
     "evalue": "name 'Gabriela' is not defined",
     "output_type": "error",
     "traceback": [
      "\u001b[0;31m---------------------------------------------------------------------------\u001b[0m",
      "\u001b[0;31mNameError\u001b[0m                                 Traceback (most recent call last)",
      "Cell \u001b[0;32mIn[17], line 3\u001b[0m\n\u001b[1;32m      1\u001b[0m magic_number\u001b[38;5;241m=\u001b[39m\u001b[38;5;241m1500\u001b[39m\n\u001b[1;32m      2\u001b[0m amountOfflour\u001b[38;5;241m=\u001b[39m\u001b[38;5;241m.75\u001b[39m\n\u001b[0;32m----> 3\u001b[0m my_name\u001b[38;5;241m=\u001b[39m\u001b[43mGabriela\u001b[49m\n",
      "\u001b[0;31mNameError\u001b[0m: name 'Gabriela' is not defined"
     ]
    }
   ],
   "source": [
    "magic_number=1500\n",
    "amountOfflour=.75\n",
    "my_name=Gabriela"
   ]
  },
  {
   "cell_type": "code",
   "execution_count": 21,
   "id": "dd957102",
   "metadata": {},
   "outputs": [
    {
     "data": {
      "text/plain": [
       "36"
      ]
     },
     "execution_count": 21,
     "metadata": {},
     "output_type": "execute_result"
    }
   ],
   "source": [
    "x=4\n",
    "y=9\n",
    "x*y\n"
   ]
  },
  {
   "cell_type": "code",
   "execution_count": 22,
   "id": "f48d338f",
   "metadata": {},
   "outputs": [
    {
     "data": {
      "text/plain": [
       "-1"
      ]
     },
     "execution_count": 22,
     "metadata": {},
     "output_type": "execute_result"
    }
   ],
   "source": [
    " (2 * x) - (1 * y)"
   ]
  },
  {
   "cell_type": "code",
   "execution_count": 23,
   "id": "3d4f4dc5",
   "metadata": {},
   "outputs": [
    {
     "ename": "NameError",
     "evalue": "name 'Hello' is not defined",
     "output_type": "error",
     "traceback": [
      "\u001b[0;31m---------------------------------------------------------------------------\u001b[0m",
      "\u001b[0;31mNameError\u001b[0m                                 Traceback (most recent call last)",
      "Cell \u001b[0;32mIn[23], line 1\u001b[0m\n\u001b[0;32m----> 1\u001b[0m \u001b[38;5;28mtype\u001b[39m(\u001b[43mHello\u001b[49m)\n",
      "\u001b[0;31mNameError\u001b[0m: name 'Hello' is not defined"
     ]
    }
   ],
   "source": [
    "type(Hello)"
   ]
  },
  {
   "cell_type": "code",
   "execution_count": 24,
   "id": "c57d6818",
   "metadata": {},
   "outputs": [
    {
     "data": {
      "text/plain": [
       "int"
      ]
     },
     "execution_count": 24,
     "metadata": {},
     "output_type": "execute_result"
    }
   ],
   "source": [
    "type(1)"
   ]
  },
  {
   "cell_type": "code",
   "execution_count": 26,
   "id": "558b1dd3",
   "metadata": {},
   "outputs": [
    {
     "data": {
      "text/plain": [
       "'helloworld'"
      ]
     },
     "execution_count": 26,
     "metadata": {},
     "output_type": "execute_result"
    }
   ],
   "source": [
    "\"hello\"+\"world\""
   ]
  },
  {
   "cell_type": "code",
   "execution_count": 29,
   "id": "9d46c65f",
   "metadata": {},
   "outputs": [
    {
     "data": {
      "text/plain": [
       "'helloGabriela'"
      ]
     },
     "execution_count": 29,
     "metadata": {},
     "output_type": "execute_result"
    }
   ],
   "source": [
    "name=\"Gabriela\"\n",
    "\"hello\"+name"
   ]
  },
  {
   "cell_type": "code",
   "execution_count": 30,
   "id": "9da6b48d",
   "metadata": {},
   "outputs": [
    {
     "ename": "TypeError",
     "evalue": "can only concatenate str (not \"int\") to str",
     "output_type": "error",
     "traceback": [
      "\u001b[0;31m---------------------------------------------------------------------------\u001b[0m",
      "\u001b[0;31mTypeError\u001b[0m                                 Traceback (most recent call last)",
      "Cell \u001b[0;32mIn[30], line 1\u001b[0m\n\u001b[0;32m----> 1\u001b[0m \u001b[38;5;124;43m\"\u001b[39;49m\u001b[38;5;124;43mhello\u001b[39;49m\u001b[38;5;124;43m\"\u001b[39;49m\u001b[38;5;241;43m+\u001b[39;49m\u001b[38;5;241;43m1\u001b[39;49m\n",
      "\u001b[0;31mTypeError\u001b[0m: can only concatenate str (not \"int\") to str"
     ]
    }
   ],
   "source": [
    "\"hello\"+1"
   ]
  },
  {
   "cell_type": "code",
   "execution_count": 31,
   "id": "217dab2a",
   "metadata": {},
   "outputs": [
    {
     "data": {
      "text/plain": [
       "'hello1'"
      ]
     },
     "execution_count": 31,
     "metadata": {},
     "output_type": "execute_result"
    }
   ],
   "source": [
    "\"hello\"+str(1)"
   ]
  },
  {
   "cell_type": "code",
   "execution_count": 35,
   "id": "c48fdb64",
   "metadata": {},
   "outputs": [
    {
     "name": "stdout",
     "output_type": "stream",
     "text": [
      "<class 'float'>\n"
     ]
    }
   ],
   "source": [
    " total = 1.5 - 1/2\n",
    " total\n",
    " print(type(total))"
   ]
  },
  {
   "cell_type": "code",
   "execution_count": 36,
   "id": "8e08990a",
   "metadata": {},
   "outputs": [
    {
     "name": "stdout",
     "output_type": "stream",
     "text": [
      "<class 'float'>\n"
     ]
    }
   ],
   "source": [
    " total = 1.5 - 1/2\n",
    " total\n",
    " print(type(total))"
   ]
  },
  {
   "cell_type": "code",
   "execution_count": 93,
   "id": "5e1d215c",
   "metadata": {},
   "outputs": [
    {
     "name": "stdout",
     "output_type": "stream",
     "text": [
      "The quickquickquick brownbrownbrown fox jumps over the lazy dog\n"
     ]
    }
   ],
   "source": [
    " a = \"quick\"\n",
    " b =  \"brown\"\n",
    " c = \"fox jumps over the lazy dog\"\n",
    " print(\"The \" +  a * 3 + \" \" +  b * 3 + \" \" + c)"
   ]
  },
  {
   "cell_type": "code",
   "execution_count": 38,
   "id": "01fae5d6",
   "metadata": {},
   "outputs": [
    {
     "name": "stdout",
     "output_type": "stream",
     "text": [
      "Six is greater than five!\n"
     ]
    }
   ],
   "source": [
    "if 6 > 5:\n",
    "    print(\"Six is greater than five!\")\n",
    "    "
   ]
  },
  {
   "cell_type": "code",
   "execution_count": 39,
   "id": "3e33aa39",
   "metadata": {},
   "outputs": [
    {
     "name": "stdout",
     "output_type": "stream",
     "text": [
      "Six is greater than five!\n"
     ]
    }
   ],
   "source": [
    "if 6 > 5:\n",
    "    print(\"Six is greater than five!\")"
   ]
  },
  {
   "cell_type": "code",
   "execution_count": 54,
   "id": "bb3b0ab3",
   "metadata": {},
   "outputs": [
    {
     "name": "stdout",
     "output_type": "stream",
     "text": [
      "123\n"
     ]
    }
   ],
   "source": [
    "if 0 > 2:\n",
    "     print(\"Zero is greater than two!\")\n",
    "else:\n",
    "     print(123)"
   ]
  },
  {
   "cell_type": "code",
   "execution_count": 48,
   "id": "b77ae8b2",
   "metadata": {},
   "outputs": [
    {
     "name": "stdout",
     "output_type": "stream",
     "text": [
      "I miss the 80s.\n"
     ]
    }
   ],
   "source": [
    "if \"banana\" in \"bananarama\":\n",
    "    print(\"I miss the 80s.\")"
   ]
  },
  {
   "cell_type": "code",
   "execution_count": 59,
   "id": "7683d9ce",
   "metadata": {},
   "outputs": [
    {
     "name": "stdout",
     "output_type": "stream",
     "text": [
      "sister is older\n"
     ]
    }
   ],
   "source": [
    "sister_age = 15\n",
    "brother_age = 12\n",
    "if ((sister_age > brother_age) or (sister_age == brother_age)):\n",
    "    print(\"sister is older\")\n",
    "else:\n",
    "    print(\"brother is older\")"
   ]
  },
  {
   "cell_type": "code",
   "execution_count": 63,
   "id": "a76441e9",
   "metadata": {},
   "outputs": [
    {
     "data": {
      "text/plain": [
       "True"
      ]
     },
     "execution_count": 63,
     "metadata": {},
     "output_type": "execute_result"
    }
   ],
   "source": [
    "1 > 0 and 1 < 2"
   ]
  },
  {
   "cell_type": "code",
   "execution_count": 64,
   "id": "fe34c731",
   "metadata": {},
   "outputs": [
    {
     "data": {
      "text/plain": [
       "False"
      ]
     },
     "execution_count": 64,
     "metadata": {},
     "output_type": "execute_result"
    }
   ],
   "source": [
    "1 < 2 and \"x\" in \"abc\""
   ]
  },
  {
   "cell_type": "code",
   "execution_count": 65,
   "id": "c355e05a",
   "metadata": {},
   "outputs": [
    {
     "data": {
      "text/plain": [
       "True"
      ]
     },
     "execution_count": 65,
     "metadata": {},
     "output_type": "execute_result"
    }
   ],
   "source": [
    "\"a\" in \"hello\" or \"e\" in \"hello\""
   ]
  },
  {
   "cell_type": "code",
   "execution_count": 66,
   "id": "9fafbb29",
   "metadata": {},
   "outputs": [
    {
     "data": {
      "text/plain": [
       "False"
      ]
     },
     "execution_count": 66,
     "metadata": {},
     "output_type": "execute_result"
    }
   ],
   "source": [
    "1 <= 0 or \"a\" not in \"abc\""
   ]
  },
  {
   "cell_type": "code",
   "execution_count": 71,
   "id": "38c2b782",
   "metadata": {},
   "outputs": [
    {
     "name": "stdout",
     "output_type": "stream",
     "text": [
      "yay\n"
     ]
    }
   ],
   "source": [
    "if \"a\" in \"alex\":\n",
    "    print (\"yay\")\n"
   ]
  },
  {
   "cell_type": "code",
   "execution_count": 72,
   "id": "6c55429c",
   "metadata": {},
   "outputs": [
    {
     "name": "stdout",
     "output_type": "stream",
     "text": [
      "Too extreme for me.\n"
     ]
    }
   ],
   "source": [
    "temperature = 32\n",
    "if temperature > 60 and temperature < 75:\n",
    "    print(\"It's nice and cozy in here!\")\n",
    "else:\n",
    "    print(\"Too extreme for me.\")"
   ]
  },
  {
   "cell_type": "code",
   "execution_count": 74,
   "id": "1e08ea9f",
   "metadata": {},
   "outputs": [
    {
     "name": "stdout",
     "output_type": "stream",
     "text": [
      "Welcome to the cheese shop!\n",
      "Can I interest you in some choice gouda?\n"
     ]
    }
   ],
   "source": [
    "hour = 11\n",
    "if hour < 7 or hour > 23:\n",
    "    print(\"Go away!\")\n",
    "    print(\"I'm sleeping!\")\n",
    "else:\n",
    "    print(\"Welcome to the cheese shop!\")\n",
    "    print(\"Can I interest you in some choice gouda?\")    "
   ]
  },
  {
   "cell_type": "code",
   "execution_count": 76,
   "id": "04c537ff",
   "metadata": {},
   "outputs": [
    {
     "name": "stdout",
     "output_type": "stream",
     "text": [
      "sister and brother are the same age\n"
     ]
    }
   ],
   "source": [
    "sister_age = 15\n",
    "brother_age = 15\n",
    "if sister_age > brother_age:\n",
    "    print(\"sister is older\")\n",
    "elif sister_age == brother_age:\n",
    "    print(\"sister and brother are the same age\")\n",
    "else:\n",
    "    print(\"brother is older\")"
   ]
  },
  {
   "cell_type": "code",
   "execution_count": 80,
   "id": "2815f03d",
   "metadata": {},
   "outputs": [
    {
     "name": "stdout",
     "output_type": "stream",
     "text": [
      "Christmas color!\n"
     ]
    }
   ],
   "source": [
    "color = \"red\"\n",
    "if color == \"green\" or color == \"red\":\n",
    "  print(\"Christmas color!\")\n",
    "elif color == \"black\" or color == \"orange\":\n",
    "  print(\"Halloween color!\")\n",
    "elif color == \"pink\":\n",
    "  print(\"Valentine's Day color!\")"
   ]
  },
  {
   "cell_type": "code",
   "execution_count": 87,
   "id": "90d42f87",
   "metadata": {},
   "outputs": [
    {
     "name": "stdout",
     "output_type": "stream",
     "text": [
      "Halloween color!\n"
     ]
    }
   ],
   "source": [
    "color = \"orange\"\n",
    "if color == \"green\" or color == \"red\":\n",
    "  print(\"Christmas color!\")\n",
    "if color == \"black\" or color == \"orange\":\n",
    "  print(\"Halloween color!\")\n",
    "if color == \"pink\":\n",
    "  print(\"Valentine's Day color!\")"
   ]
  },
  {
   "cell_type": "code",
   "execution_count": 90,
   "id": "53b7c75d",
   "metadata": {},
   "outputs": [
    {
     "name": "stdout",
     "output_type": "stream",
     "text": [
      "myBoolean:True\n"
     ]
    }
   ],
   "source": [
    "myBoolean = 0 == 0\n",
    "print(\"myBoolean:\"+str(myBoolean));"
   ]
  },
  {
   "cell_type": "code",
   "execution_count": 106,
   "id": "a7492ca8",
   "metadata": {},
   "outputs": [
    {
     "data": {
      "text/plain": [
       "True"
      ]
     },
     "execution_count": 106,
     "metadata": {},
     "output_type": "execute_result"
    }
   ],
   "source": [
    " \"a\" != \"a\"\n",
    "\n",
    " \"a\" != \"A\""
   ]
  },
  {
   "cell_type": "code",
   "execution_count": 107,
   "id": "66442629",
   "metadata": {},
   "outputs": [
    {
     "data": {
      "text/plain": [
       "True"
      ]
     },
     "execution_count": 107,
     "metadata": {},
     "output_type": "execute_result"
    }
   ],
   "source": [
    " 1 > 0\n",
    "\n",
    " 2 >= 3\n",
    "\n",
    " -1 < 0\n",
    "\n",
    " .5 <= 1"
   ]
  },
  {
   "cell_type": "code",
   "execution_count": 108,
   "id": "4f235d9e",
   "metadata": {},
   "outputs": [
    {
     "data": {
      "text/plain": [
       "False"
      ]
     },
     "execution_count": 108,
     "metadata": {},
     "output_type": "execute_result"
    }
   ],
   "source": [
    " \"H\" in \"Hello\"\n",
    "\n",
    " \"X\" in \"Hello\""
   ]
  },
  {
   "cell_type": "code",
   "execution_count": 118,
   "id": "5cfb625d",
   "metadata": {},
   "outputs": [
    {
     "data": {
      "text/plain": [
       "True"
      ]
     },
     "execution_count": 118,
     "metadata": {},
     "output_type": "execute_result"
    }
   ],
   "source": [
    " \"a\" not in \"abcde\"\n",
    "\n",
    " \"Perl\" not in \"Python Workshop\""
   ]
  },
  {
   "cell_type": "code",
   "execution_count": 119,
   "id": "508b4022",
   "metadata": {},
   "outputs": [
    {
     "name": "stdout",
     "output_type": "stream",
     "text": [
      "hello, world\n"
     ]
    }
   ],
   "source": [
    "print (\"hello, world\")"
   ]
  },
  {
   "cell_type": "code",
   "execution_count": 1,
   "id": "5087dbbf",
   "metadata": {},
   "outputs": [
    {
     "name": "stdout",
     "output_type": "stream",
     "text": [
      "You will learn Phyton\n"
     ]
    }
   ],
   "source": [
    "course_description=\"This course will introduce basic programming and data science tools to give students the skills to use data to read, critique, and produce stories and insights. The class will cover the basics of the Python programming language, acquiring and processing public data, and basic tools and techniques for data analysis and visualization. We will focus on gaining access to data and basic data manipulation rather than complex statistical methods. The class will be built around student-designed independent projects and is targeted at students with no previous programming experience.\"\n",
    "search_term = \"Python\"\n",
    "if search_term in course_description:\n",
    "    print(\"You will learn Phyton\")"
   ]
  },
  {
   "cell_type": "code",
   "execution_count": 3,
   "id": "9c16a7a5",
   "metadata": {},
   "outputs": [
    {
     "name": "stdout",
     "output_type": "stream",
     "text": [
      "Not a number\n"
     ]
    }
   ],
   "source": [
    "my_variable=2*3\n",
    "if my_variable == int:\n",
    "    print(\"Is a number\")\n",
    "else:\n",
    "    print(\"Not a number\")"
   ]
  },
  {
   "cell_type": "code",
   "execution_count": 9,
   "id": "5a502551",
   "metadata": {},
   "outputs": [
    {
     "name": "stdout",
     "output_type": "stream",
     "text": [
      "Is a number\n"
     ]
    }
   ],
   "source": [
    "my_variable=3*3\n",
    "if type(my_variable) == int:\n",
    "    print(\"Is a number\")\n",
    "else:\n",
    "    print(\"Not a number\")"
   ]
  },
  {
   "cell_type": "code",
   "execution_count": null,
   "id": "122e4b79",
   "metadata": {},
   "outputs": [],
   "source": []
  }
 ],
 "metadata": {
  "kernelspec": {
   "display_name": "Python 3 (ipykernel)",
   "language": "python",
   "name": "python3"
  },
  "language_info": {
   "codemirror_mode": {
    "name": "ipython",
    "version": 3
   },
   "file_extension": ".py",
   "mimetype": "text/x-python",
   "name": "python",
   "nbconvert_exporter": "python",
   "pygments_lexer": "ipython3",
   "version": "3.10.9"
  }
 },
 "nbformat": 4,
 "nbformat_minor": 5
}
