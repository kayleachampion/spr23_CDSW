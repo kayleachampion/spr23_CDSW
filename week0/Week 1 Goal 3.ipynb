{
 "cells": [
  {
   "cell_type": "code",
   "execution_count": 1,
   "id": "8be05b34",
   "metadata": {},
   "outputs": [
    {
     "data": {
      "text/plain": [
       "4"
      ]
     },
     "execution_count": 1,
     "metadata": {},
     "output_type": "execute_result"
    }
   ],
   "source": [
    "2+2"
   ]
  },
  {
   "cell_type": "code",
   "execution_count": 2,
   "id": "e9f7bc47",
   "metadata": {},
   "outputs": [
    {
     "data": {
      "text/plain": [
       "3.75"
      ]
     },
     "execution_count": 2,
     "metadata": {},
     "output_type": "execute_result"
    }
   ],
   "source": [
    "1.5+2.25"
   ]
  },
  {
   "cell_type": "code",
   "execution_count": 3,
   "id": "8b4f4515",
   "metadata": {},
   "outputs": [
    {
     "data": {
      "text/plain": [
       "2"
      ]
     },
     "execution_count": 3,
     "metadata": {},
     "output_type": "execute_result"
    }
   ],
   "source": [
    "4-2"
   ]
  },
  {
   "cell_type": "markdown",
   "id": "fe88f262",
   "metadata": {},
   "source": [
    "2*3"
   ]
  },
  {
   "cell_type": "code",
   "execution_count": 5,
   "id": "990116f1",
   "metadata": {},
   "outputs": [
    {
     "data": {
      "text/plain": [
       "0.5"
      ]
     },
     "execution_count": 5,
     "metadata": {},
     "output_type": "execute_result"
    }
   ],
   "source": [
    "1/2"
   ]
  },
  {
   "cell_type": "code",
   "execution_count": 6,
   "id": "0150278e",
   "metadata": {},
   "outputs": [
    {
     "data": {
      "text/plain": [
       "2.0"
      ]
     },
     "execution_count": 6,
     "metadata": {},
     "output_type": "execute_result"
    }
   ],
   "source": [
    "4/2"
   ]
  },
  {
   "cell_type": "code",
   "execution_count": 7,
   "id": "d0ff618f",
   "metadata": {},
   "outputs": [
    {
     "data": {
      "text/plain": [
       "int"
      ]
     },
     "execution_count": 7,
     "metadata": {},
     "output_type": "execute_result"
    }
   ],
   "source": [
    "type(1)"
   ]
  },
  {
   "cell_type": "code",
   "execution_count": 8,
   "id": "1d96deb0",
   "metadata": {},
   "outputs": [
    {
     "data": {
      "text/plain": [
       "float"
      ]
     },
     "execution_count": 8,
     "metadata": {},
     "output_type": "execute_result"
    }
   ],
   "source": [
    "type(1.0)"
   ]
  },
  {
   "cell_type": "code",
   "execution_count": 9,
   "id": "a549dcda",
   "metadata": {},
   "outputs": [
    {
     "data": {
      "text/plain": [
       "int"
      ]
     },
     "execution_count": 9,
     "metadata": {},
     "output_type": "execute_result"
    }
   ],
   "source": [
    "type(4)"
   ]
  },
  {
   "cell_type": "code",
   "execution_count": 10,
   "id": "7170e7e7",
   "metadata": {},
   "outputs": [],
   "source": [
    "x=4"
   ]
  },
  {
   "cell_type": "code",
   "execution_count": 11,
   "id": "a7a46cab",
   "metadata": {},
   "outputs": [
    {
     "data": {
      "text/plain": [
       "4"
      ]
     },
     "execution_count": 11,
     "metadata": {},
     "output_type": "execute_result"
    }
   ],
   "source": [
    "x"
   ]
  },
  {
   "cell_type": "code",
   "execution_count": 13,
   "id": "f50357fd",
   "metadata": {},
   "outputs": [
    {
     "data": {
      "text/plain": [
       "int"
      ]
     },
     "execution_count": 13,
     "metadata": {},
     "output_type": "execute_result"
    }
   ],
   "source": [
    "type(x)"
   ]
  },
  {
   "cell_type": "code",
   "execution_count": 14,
   "id": "d1a11752",
   "metadata": {},
   "outputs": [
    {
     "data": {
      "text/plain": [
       "8"
      ]
     },
     "execution_count": 14,
     "metadata": {},
     "output_type": "execute_result"
    }
   ],
   "source": [
    "2*x"
   ]
  },
  {
   "cell_type": "code",
   "execution_count": 15,
   "id": "4f88008a",
   "metadata": {},
   "outputs": [],
   "source": [
    "magic_number = 1500\n",
    "amountOfFlour = .75\n",
    "my_name = \"Jessica\""
   ]
  },
  {
   "cell_type": "code",
   "execution_count": 16,
   "id": "fee355bf",
   "metadata": {},
   "outputs": [
    {
     "data": {
      "text/plain": [
       "4"
      ]
     },
     "execution_count": 16,
     "metadata": {},
     "output_type": "execute_result"
    }
   ],
   "source": [
    "4"
   ]
  },
  {
   "cell_type": "code",
   "execution_count": 17,
   "id": "d3deab53",
   "metadata": {},
   "outputs": [],
   "source": [
    "x=4"
   ]
  },
  {
   "cell_type": "code",
   "execution_count": 18,
   "id": "cf6e099e",
   "metadata": {},
   "outputs": [
    {
     "data": {
      "text/plain": [
       "4"
      ]
     },
     "execution_count": 18,
     "metadata": {},
     "output_type": "execute_result"
    }
   ],
   "source": [
    "x"
   ]
  },
  {
   "cell_type": "code",
   "execution_count": 19,
   "id": "58303066",
   "metadata": {},
   "outputs": [],
   "source": [
    "x=5"
   ]
  },
  {
   "cell_type": "code",
   "execution_count": 20,
   "id": "a6f0789c",
   "metadata": {},
   "outputs": [
    {
     "data": {
      "text/plain": [
       "5"
      ]
     },
     "execution_count": 20,
     "metadata": {},
     "output_type": "execute_result"
    }
   ],
   "source": [
    "x"
   ]
  },
  {
   "cell_type": "code",
   "execution_count": 21,
   "id": "eeb8110c",
   "metadata": {},
   "outputs": [],
   "source": [
    "x=3"
   ]
  },
  {
   "cell_type": "code",
   "execution_count": 22,
   "id": "8b93adf1",
   "metadata": {},
   "outputs": [],
   "source": [
    "x=4"
   ]
  },
  {
   "cell_type": "code",
   "execution_count": 23,
   "id": "ccd2269f",
   "metadata": {},
   "outputs": [
    {
     "ename": "NameError",
     "evalue": "name 'y' is not defined",
     "output_type": "error",
     "traceback": [
      "\u001b[1;31m---------------------------------------------------------------------------\u001b[0m",
      "\u001b[1;31mNameError\u001b[0m                                 Traceback (most recent call last)",
      "Cell \u001b[1;32mIn[23], line 1\u001b[0m\n\u001b[1;32m----> 1\u001b[0m x\u001b[38;5;241m*\u001b[39m\u001b[43my\u001b[49m\n",
      "\u001b[1;31mNameError\u001b[0m: name 'y' is not defined"
     ]
    }
   ],
   "source": [
    "x*y"
   ]
  },
  {
   "cell_type": "code",
   "execution_count": 24,
   "id": "f1df515d",
   "metadata": {},
   "outputs": [
    {
     "data": {
      "text/plain": [
       "16"
      ]
     },
     "execution_count": 24,
     "metadata": {},
     "output_type": "execute_result"
    }
   ],
   "source": [
    "x*x"
   ]
  },
  {
   "cell_type": "code",
   "execution_count": 25,
   "id": "4465595d",
   "metadata": {},
   "outputs": [
    {
     "ename": "NameError",
     "evalue": "name 'y' is not defined",
     "output_type": "error",
     "traceback": [
      "\u001b[1;31m---------------------------------------------------------------------------\u001b[0m",
      "\u001b[1;31mNameError\u001b[0m                                 Traceback (most recent call last)",
      "Cell \u001b[1;32mIn[25], line 1\u001b[0m\n\u001b[1;32m----> 1\u001b[0m \u001b[38;5;241m2\u001b[39m\u001b[38;5;241m*\u001b[39mx\u001b[38;5;241m-\u001b[39m\u001b[38;5;241m1\u001b[39m\u001b[38;5;241m*\u001b[39m\u001b[43my\u001b[49m\n",
      "\u001b[1;31mNameError\u001b[0m: name 'y' is not defined"
     ]
    }
   ],
   "source": [
    "2*x-1*y"
   ]
  },
  {
   "cell_type": "code",
   "execution_count": 26,
   "id": "aa7986b4",
   "metadata": {},
   "outputs": [],
   "source": [
    "y=4"
   ]
  },
  {
   "cell_type": "code",
   "execution_count": 27,
   "id": "e40bab52",
   "metadata": {},
   "outputs": [
    {
     "data": {
      "text/plain": [
       "4"
      ]
     },
     "execution_count": 27,
     "metadata": {},
     "output_type": "execute_result"
    }
   ],
   "source": [
    "2*x-1*y"
   ]
  },
  {
   "cell_type": "code",
   "execution_count": 28,
   "id": "85eb4151",
   "metadata": {},
   "outputs": [
    {
     "data": {
      "text/plain": [
       "4"
      ]
     },
     "execution_count": 28,
     "metadata": {},
     "output_type": "execute_result"
    }
   ],
   "source": [
    "(2*x)-(1*y)"
   ]
  },
  {
   "cell_type": "code",
   "execution_count": 29,
   "id": "c3b973ae",
   "metadata": {},
   "outputs": [],
   "source": [
    "x=4"
   ]
  },
  {
   "cell_type": "code",
   "execution_count": 30,
   "id": "d45a37c8",
   "metadata": {},
   "outputs": [
    {
     "data": {
      "text/plain": [
       "'Hello'"
      ]
     },
     "execution_count": 30,
     "metadata": {},
     "output_type": "execute_result"
    }
   ],
   "source": [
    "\"Hello\""
   ]
  },
  {
   "cell_type": "code",
   "execution_count": 32,
   "id": "08da78b3",
   "metadata": {},
   "outputs": [
    {
     "data": {
      "text/plain": [
       "\"Python, I'm your number one fan!\""
      ]
     },
     "execution_count": 32,
     "metadata": {},
     "output_type": "execute_result"
    }
   ],
   "source": [
    "\"Python, I'm your number one fan!\""
   ]
  },
  {
   "cell_type": "code",
   "execution_count": 33,
   "id": "b94b4ce8",
   "metadata": {},
   "outputs": [
    {
     "data": {
      "text/plain": [
       "str"
      ]
     },
     "execution_count": 33,
     "metadata": {},
     "output_type": "execute_result"
    }
   ],
   "source": [
    "type (\"Hello\")"
   ]
  },
  {
   "cell_type": "code",
   "execution_count": 35,
   "id": "2128ac67",
   "metadata": {},
   "outputs": [
    {
     "data": {
      "text/plain": [
       "int"
      ]
     },
     "execution_count": 35,
     "metadata": {},
     "output_type": "execute_result"
    }
   ],
   "source": [
    "type(1)"
   ]
  },
  {
   "cell_type": "code",
   "execution_count": 36,
   "id": "4a855aee",
   "metadata": {},
   "outputs": [
    {
     "data": {
      "text/plain": [
       "str"
      ]
     },
     "execution_count": 36,
     "metadata": {},
     "output_type": "execute_result"
    }
   ],
   "source": [
    "type(\"1\")"
   ]
  },
  {
   "cell_type": "code",
   "execution_count": 38,
   "id": "e4356e9e",
   "metadata": {},
   "outputs": [
    {
     "data": {
      "text/plain": [
       "'HelloWorld'"
      ]
     },
     "execution_count": 38,
     "metadata": {},
     "output_type": "execute_result"
    }
   ],
   "source": [
    "\"Hello\"+\"World\""
   ]
  },
  {
   "cell_type": "code",
   "execution_count": 39,
   "id": "4bf90155",
   "metadata": {},
   "outputs": [],
   "source": [
    "name = \"Jessica\""
   ]
  },
  {
   "cell_type": "code",
   "execution_count": 40,
   "id": "367318e4",
   "metadata": {},
   "outputs": [
    {
     "data": {
      "text/plain": [
       "'HelloJessica'"
      ]
     },
     "execution_count": 40,
     "metadata": {},
     "output_type": "execute_result"
    }
   ],
   "source": [
    "\"Hello\" + name"
   ]
  },
  {
   "cell_type": "code",
   "execution_count": 41,
   "id": "ea088437",
   "metadata": {},
   "outputs": [
    {
     "ename": "TypeError",
     "evalue": "can only concatenate str (not \"int\") to str",
     "output_type": "error",
     "traceback": [
      "\u001b[1;31m---------------------------------------------------------------------------\u001b[0m",
      "\u001b[1;31mTypeError\u001b[0m                                 Traceback (most recent call last)",
      "Cell \u001b[1;32mIn[41], line 1\u001b[0m\n\u001b[1;32m----> 1\u001b[0m \u001b[38;5;124;43m\"\u001b[39;49m\u001b[38;5;124;43mHello\u001b[39;49m\u001b[38;5;124;43m\"\u001b[39;49m\u001b[43m \u001b[49m\u001b[38;5;241;43m+\u001b[39;49m\u001b[43m \u001b[49m\u001b[38;5;241;43m1\u001b[39;49m\n",
      "\u001b[1;31mTypeError\u001b[0m: can only concatenate str (not \"int\") to str"
     ]
    }
   ],
   "source": [
    "\"Hello\" + 1"
   ]
  },
  {
   "cell_type": "code",
   "execution_count": 42,
   "id": "06f6660a",
   "metadata": {},
   "outputs": [
    {
     "data": {
      "text/plain": [
       "'Hello1'"
      ]
     },
     "execution_count": 42,
     "metadata": {},
     "output_type": "execute_result"
    }
   ],
   "source": [
    "\"Hello\" + str(1)"
   ]
  },
  {
   "cell_type": "code",
   "execution_count": 43,
   "id": "babd5f4e",
   "metadata": {},
   "outputs": [
    {
     "ename": "NameError",
     "evalue": "name 'Hello' is not defined",
     "output_type": "error",
     "traceback": [
      "\u001b[1;31m---------------------------------------------------------------------------\u001b[0m",
      "\u001b[1;31mNameError\u001b[0m                                 Traceback (most recent call last)",
      "Cell \u001b[1;32mIn[43], line 1\u001b[0m\n\u001b[1;32m----> 1\u001b[0m \u001b[38;5;28mlen\u001b[39m(\u001b[43mHello\u001b[49m)\n",
      "\u001b[1;31mNameError\u001b[0m: name 'Hello' is not defined"
     ]
    }
   ],
   "source": [
    "len(Hello)"
   ]
  },
  {
   "cell_type": "code",
   "execution_count": 44,
   "id": "60724fc3",
   "metadata": {},
   "outputs": [
    {
     "ename": "SyntaxError",
     "evalue": "invalid syntax (3797815818.py, line 1)",
     "output_type": "error",
     "traceback": [
      "\u001b[1;36m  Cell \u001b[1;32mIn[44], line 1\u001b[1;36m\u001b[0m\n\u001b[1;33m    len\"\"\u001b[0m\n\u001b[1;37m       ^\u001b[0m\n\u001b[1;31mSyntaxError\u001b[0m\u001b[1;31m:\u001b[0m invalid syntax\n"
     ]
    }
   ],
   "source": [
    "len\"\""
   ]
  },
  {
   "cell_type": "code",
   "execution_count": 45,
   "id": "e51e59d8",
   "metadata": {},
   "outputs": [
    {
     "data": {
      "text/plain": [
       "5"
      ]
     },
     "execution_count": 45,
     "metadata": {},
     "output_type": "execute_result"
    }
   ],
   "source": [
    "len(\"Hello\")"
   ]
  },
  {
   "cell_type": "code",
   "execution_count": 46,
   "id": "b290cf2a",
   "metadata": {},
   "outputs": [
    {
     "data": {
      "text/plain": [
       "0"
      ]
     },
     "execution_count": 46,
     "metadata": {},
     "output_type": "execute_result"
    }
   ],
   "source": [
    "len(\"\")"
   ]
  },
  {
   "cell_type": "code",
   "execution_count": 47,
   "id": "9f93fba0",
   "metadata": {},
   "outputs": [],
   "source": [
    "fish = \"humuhumunukunukuapua'a\""
   ]
  },
  {
   "cell_type": "code",
   "execution_count": 50,
   "id": "a5145184",
   "metadata": {},
   "outputs": [],
   "source": [
    "name_length = len(fish)"
   ]
  },
  {
   "cell_type": "code",
   "execution_count": 53,
   "id": "113ec9d5",
   "metadata": {},
   "outputs": [
    {
     "data": {
      "text/plain": [
       "\"humuhumunukunukuapua'ais a Hawaiian fish whose name is 22 characters long\""
      ]
     },
     "execution_count": 53,
     "metadata": {},
     "output_type": "execute_result"
    }
   ],
   "source": [
    "fish + \"is a Hawaiian fish whose name is\" +\" \"+ str( name_length)+ \" characters long\""
   ]
  },
  {
   "cell_type": "code",
   "execution_count": 54,
   "id": "0b88ac49",
   "metadata": {},
   "outputs": [
    {
     "data": {
      "text/plain": [
       "'Hello'"
      ]
     },
     "execution_count": 54,
     "metadata": {},
     "output_type": "execute_result"
    }
   ],
   "source": [
    "'Hello'\n",
    "\"Hello\""
   ]
  },
  {
   "cell_type": "code",
   "execution_count": 55,
   "id": "d099f866",
   "metadata": {},
   "outputs": [
    {
     "ename": "SyntaxError",
     "evalue": "unterminated string literal (detected at line 1) (2118118592.py, line 1)",
     "output_type": "error",
     "traceback": [
      "\u001b[1;36m  Cell \u001b[1;32mIn[55], line 1\u001b[1;36m\u001b[0m\n\u001b[1;33m    'I'm a happy camper'\u001b[0m\n\u001b[1;37m                       ^\u001b[0m\n\u001b[1;31mSyntaxError\u001b[0m\u001b[1;31m:\u001b[0m unterminated string literal (detected at line 1)\n"
     ]
    }
   ],
   "source": [
    "'I'm a happy camper'"
   ]
  },
  {
   "cell_type": "code",
   "execution_count": 56,
   "id": "4591caf9",
   "metadata": {},
   "outputs": [
    {
     "data": {
      "text/plain": [
       "\"I'm a happy camper\""
      ]
     },
     "execution_count": 56,
     "metadata": {},
     "output_type": "execute_result"
    }
   ],
   "source": [
    "\"I'm a happy camper\""
   ]
  },
  {
   "cell_type": "code",
   "execution_count": 57,
   "id": "fa139907",
   "metadata": {},
   "outputs": [
    {
     "data": {
      "text/plain": [
       "'AAAAAAAAAAAAAAAAAAAAAAAAAAAAAAAAAAAAAAAA'"
      ]
     },
     "execution_count": 57,
     "metadata": {},
     "output_type": "execute_result"
    }
   ],
   "source": [
    "\"A\" * 40"
   ]
  },
  {
   "cell_type": "code",
   "execution_count": 58,
   "id": "ca129eb8",
   "metadata": {},
   "outputs": [
    {
     "data": {
      "text/plain": [
       "'ABCABCABCABCABCABCABCABCABCABCABCABC'"
      ]
     },
     "execution_count": 58,
     "metadata": {},
     "output_type": "execute_result"
    }
   ],
   "source": [
    "\"ABC\"*12"
   ]
  },
  {
   "cell_type": "code",
   "execution_count": 59,
   "id": "72edfaae",
   "metadata": {},
   "outputs": [
    {
     "data": {
      "text/plain": [
       "'HappyBirthdayHappyBirthdayHappyBirthdayHappyBirthdayHappyBirthdayHappyBirthdayHappyBirthdayHappyBirthdayHappyBirthdayHappyBirthday'"
      ]
     },
     "execution_count": 59,
     "metadata": {},
     "output_type": "execute_result"
    }
   ],
   "source": [
    "h= \"Happy\"\n",
    "b= \"Birthday\"\n",
    "(h+b)*10"
   ]
  },
  {
   "cell_type": "code",
   "execution_count": 60,
   "id": "43ac042f",
   "metadata": {},
   "outputs": [
    {
     "name": "stdout",
     "output_type": "stream",
     "text": [
      "<class 'float'>\n"
     ]
    }
   ],
   "source": [
    " total = 1.5 - 1/2\n",
    " total\n",
    " print(type(total))"
   ]
  },
  {
   "cell_type": "code",
   "execution_count": 61,
   "id": "f3348e71",
   "metadata": {},
   "outputs": [
    {
     "name": "stdout",
     "output_type": "stream",
     "text": [
      "The quickquickquick brownbrownbrown fox jumps over the lazy dog\n"
     ]
    }
   ],
   "source": [
    " a = \"quick\"\n",
    " b =  \"brown\"\n",
    " c = \"fox jumps over the lazy dog\"\n",
    " print(\"The \" +  a * 3 + \" \" +  b * 3 + \" \" + c)"
   ]
  },
  {
   "cell_type": "code",
   "execution_count": 64,
   "id": "7ded1773",
   "metadata": {},
   "outputs": [
    {
     "name": "stdout",
     "output_type": "stream",
     "text": [
      "Six is greater than five!\n"
     ]
    }
   ],
   "source": [
    "if 6>5:\n",
    "    print (\"Six is greater than five!\")"
   ]
  },
  {
   "cell_type": "code",
   "execution_count": 65,
   "id": "3a491260",
   "metadata": {},
   "outputs": [],
   "source": [
    "if 0>2:\n",
    "    print(\"Zero is greater than two!\")"
   ]
  },
  {
   "cell_type": "code",
   "execution_count": 66,
   "id": "7c53baa3",
   "metadata": {},
   "outputs": [
    {
     "name": "stdout",
     "output_type": "stream",
     "text": [
      "I miss the 80s.\n"
     ]
    }
   ],
   "source": [
    "if \"banana\" in \"bananarama\":\n",
    "    print(\"I miss the 80s.\")"
   ]
  },
  {
   "cell_type": "code",
   "execution_count": 67,
   "id": "f0cefe7c",
   "metadata": {},
   "outputs": [
    {
     "name": "stdout",
     "output_type": "stream",
     "text": [
      "sister is older\n"
     ]
    }
   ],
   "source": [
    "sister_age =15\n",
    "brother_age =12\n",
    "if sister_age>brother_age:\n",
    "    print(\"sister is older\")\n",
    "else: \n",
    "    print(\"brother is older\")"
   ]
  },
  {
   "cell_type": "code",
   "execution_count": 68,
   "id": "b3f6d0ae",
   "metadata": {},
   "outputs": [
    {
     "data": {
      "text/plain": [
       "True"
      ]
     },
     "execution_count": 68,
     "metadata": {},
     "output_type": "execute_result"
    }
   ],
   "source": [
    "1>0 and 1<2"
   ]
  },
  {
   "cell_type": "code",
   "execution_count": 69,
   "id": "8b9b69b7",
   "metadata": {},
   "outputs": [
    {
     "data": {
      "text/plain": [
       "False"
      ]
     },
     "execution_count": 69,
     "metadata": {},
     "output_type": "execute_result"
    }
   ],
   "source": [
    "1<2 and \"x\" in \"abc\""
   ]
  },
  {
   "cell_type": "code",
   "execution_count": 70,
   "id": "58bf457c",
   "metadata": {},
   "outputs": [
    {
     "data": {
      "text/plain": [
       "True"
      ]
     },
     "execution_count": 70,
     "metadata": {},
     "output_type": "execute_result"
    }
   ],
   "source": [
    "\"a\" in \"hello\" or \"e\" in \"hello\""
   ]
  },
  {
   "cell_type": "code",
   "execution_count": 72,
   "id": "9675157e",
   "metadata": {},
   "outputs": [
    {
     "data": {
      "text/plain": [
       "False"
      ]
     },
     "execution_count": 72,
     "metadata": {},
     "output_type": "execute_result"
    }
   ],
   "source": [
    "1 <= 0 or \"a\" not in \"abc\""
   ]
  },
  {
   "cell_type": "code",
   "execution_count": 80,
   "id": "667da97e",
   "metadata": {},
   "outputs": [
    {
     "name": "stdout",
     "output_type": "stream",
     "text": [
      "Too extreme for me.\n"
     ]
    }
   ],
   "source": [
    "temperature = 32\n",
    "if temperature > 60 and temperature <75:\n",
    "    print(\"It's nice and cozy in here!\")\n",
    "else:\n",
    "    print(\"Too extreme for me.\")"
   ]
  },
  {
   "cell_type": "code",
   "execution_count": 81,
   "id": "e7f9fae0",
   "metadata": {},
   "outputs": [
    {
     "name": "stdout",
     "output_type": "stream",
     "text": [
      "Welcome to the cheese shop\n",
      "Can I interest you in some choice gouda?\n"
     ]
    }
   ],
   "source": [
    "hour = 11\n",
    "if hour <7 or hour > 23:\n",
    "    print(\"Go away!\")\n",
    "    print(\"I'm sleeping!\")\n",
    "else:\n",
    "    print(\"Welcome to the cheese shop\")\n",
    "    print(\"Can I interest you in some choice gouda?\")"
   ]
  },
  {
   "cell_type": "code",
   "execution_count": 83,
   "id": "54b9b226",
   "metadata": {},
   "outputs": [
    {
     "name": "stdout",
     "output_type": "stream",
     "text": [
      "sister is older\n"
     ]
    }
   ],
   "source": [
    "sister_age = 15\n",
    "brother_age = 12\n",
    "if sister_age > brother_age:\n",
    "    print(\"sister is older\")\n",
    "elif sister_age == brother_age:\n",
    "    print(\"ise and brothr are the same age\")\n",
    "else:\n",
    "    print(\"brother is older\")"
   ]
  },
  {
   "cell_type": "code",
   "execution_count": 86,
   "id": "0d2977d0",
   "metadata": {},
   "outputs": [
    {
     "name": "stdout",
     "output_type": "stream",
     "text": [
      "Hallowen color!\n"
     ]
    }
   ],
   "source": [
    "color = \"orage\"\n",
    "if color == \"green\" or color == \"red\":\n",
    "    print(\"Christmas color!\")\n",
    "elif color == \"black\" or \"orange\":\n",
    "    print(\"Hallowen color!\")\n",
    "elif color == \"pink\":\n",
    "    print(\"Valentine's Day color!\")"
   ]
  },
  {
   "cell_type": "code",
   "execution_count": 88,
   "id": "a25df7b6",
   "metadata": {},
   "outputs": [
    {
     "data": {
      "text/plain": [
       "bool"
      ]
     },
     "execution_count": 88,
     "metadata": {},
     "output_type": "execute_result"
    }
   ],
   "source": [
    "True\n",
    "type(True)\n",
    "False\n",
    "type(False)"
   ]
  },
  {
   "cell_type": "code",
   "execution_count": 89,
   "id": "f09e97ad",
   "metadata": {},
   "outputs": [
    {
     "data": {
      "text/plain": [
       "False"
      ]
     },
     "execution_count": 89,
     "metadata": {},
     "output_type": "execute_result"
    }
   ],
   "source": [
    "0 == 0\n",
    "0 == 1"
   ]
  },
  {
   "cell_type": "code",
   "execution_count": 90,
   "id": "af825721",
   "metadata": {},
   "outputs": [
    {
     "data": {
      "text/plain": [
       "True"
      ]
     },
     "execution_count": 90,
     "metadata": {},
     "output_type": "execute_result"
    }
   ],
   "source": [
    "\"a\" != \"a\"\n",
    "\"a\" != \"A\""
   ]
  },
  {
   "cell_type": "code",
   "execution_count": 91,
   "id": "ec52d8ae",
   "metadata": {},
   "outputs": [
    {
     "data": {
      "text/plain": [
       "True"
      ]
     },
     "execution_count": 91,
     "metadata": {},
     "output_type": "execute_result"
    }
   ],
   "source": [
    "1>0\n",
    "2>=3\n",
    "-1<0\n",
    ".5<=1"
   ]
  },
  {
   "cell_type": "code",
   "execution_count": 92,
   "id": "54062da9",
   "metadata": {},
   "outputs": [
    {
     "data": {
      "text/plain": [
       "False"
      ]
     },
     "execution_count": 92,
     "metadata": {},
     "output_type": "execute_result"
    }
   ],
   "source": [
    "\"H\" in \"Hello\"\n",
    "\"X\" in \"Hello\""
   ]
  },
  {
   "cell_type": "code",
   "execution_count": 93,
   "id": "84977cad",
   "metadata": {},
   "outputs": [
    {
     "data": {
      "text/plain": [
       "True"
      ]
     },
     "execution_count": 93,
     "metadata": {},
     "output_type": "execute_result"
    }
   ],
   "source": [
    "\"a\" not in \"abcde\"\n",
    "\"Perl\" not in \"Python Workshop\""
   ]
  },
  {
   "cell_type": "code",
   "execution_count": null,
   "id": "5a4e6b2e",
   "metadata": {},
   "outputs": [],
   "source": []
  }
 ],
 "metadata": {
  "kernelspec": {
   "display_name": "Python 3 (ipykernel)",
   "language": "python",
   "name": "python3"
  },
  "language_info": {
   "codemirror_mode": {
    "name": "ipython",
    "version": 3
   },
   "file_extension": ".py",
   "mimetype": "text/x-python",
   "name": "python",
   "nbconvert_exporter": "python",
   "pygments_lexer": "ipython3",
   "version": "3.10.9"
  }
 },
 "nbformat": 4,
 "nbformat_minor": 5
}
