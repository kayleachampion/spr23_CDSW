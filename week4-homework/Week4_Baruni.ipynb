{
 "cells": [
  {
   "cell_type": "code",
   "execution_count": 1,
   "id": "cfbf538f",
   "metadata": {},
   "outputs": [],
   "source": [
    "import requests"
   ]
  },
  {
   "cell_type": "code",
   "execution_count": 2,
   "id": "6710dadb",
   "metadata": {},
   "outputs": [],
   "source": [
    "#BoredAPI\n",
    "my_response = requests.get(\"http://www.boredapi.com/api/activity\")"
   ]
  },
  {
   "cell_type": "code",
   "execution_count": 3,
   "id": "3f8f77a8",
   "metadata": {},
   "outputs": [
    {
     "name": "stdout",
     "output_type": "stream",
     "text": [
      "200\n"
     ]
    }
   ],
   "source": [
    "print(my_response.status_code)"
   ]
  },
  {
   "cell_type": "code",
   "execution_count": 4,
   "id": "44478fc7",
   "metadata": {},
   "outputs": [
    {
     "data": {
      "text/plain": [
       "'{\"activity\":\"Organize your dresser\",\"type\":\"busywork\",\"participants\":1,\"price\":0,\"link\":\"\",\"key\":\"7556665\",\"accessibility\":1}'"
      ]
     },
     "execution_count": 4,
     "metadata": {},
     "output_type": "execute_result"
    }
   ],
   "source": [
    "my_response.text"
   ]
  },
  {
   "cell_type": "code",
   "execution_count": 7,
   "id": "f60a0ef2",
   "metadata": {},
   "outputs": [
    {
     "name": "stdout",
     "output_type": "stream",
     "text": [
      "activity : Compliment someone, price : 0, accessibility : 0 \n"
     ]
    }
   ],
   "source": [
    "#Solution1\n",
    "my_parameters = {'participants' : 2 , 'price' : 0}\n",
    "response = requests.get(\"https://www.boredapi.com/api/activity\", params=my_parameters)\n",
    "if response.status_code == 200:\n",
    "    data = response.json()\n",
    "    print(f\"activity : {data['activity']}, price : {data['price']}, accessibility : {data['accessibility']} \")"
   ]
  },
  {
   "cell_type": "code",
   "execution_count": 10,
   "id": "efeddbc1",
   "metadata": {},
   "outputs": [
    {
     "name": "stdout",
     "output_type": "stream",
     "text": [
      "activity1 : Research a topic you're interested in, price : 0, accessibility : 0.9 \n",
      "activity2 : Go for a walk, price : 0, accessibility : 0.1 \n",
      "activity3 : Write a list of things you are grateful for, price : 0, accessibility : 0 \n",
      "activity4 : Make your own LEGO creation, price : 0, accessibility : 0.1 \n",
      "activity5 : Write a poem, price : 0, accessibility : 0 \n"
     ]
    }
   ],
   "source": [
    "for number in [1,2,3,4,5]:\n",
    "    my_parameters = {'price' : 0}\n",
    "    response = requests.get(\"https://www.boredapi.com/api/activity\", params=my_parameters)\n",
    "    if response.status_code == 200:\n",
    "        data = response.json()\n",
    "        print(f\"activity{number} : {data['activity']}, price : {data['price']}, accessibility : {data['accessibility']} \")"
   ]
  },
  {
   "cell_type": "code",
   "execution_count": 31,
   "id": "8063e590",
   "metadata": {},
   "outputs": [
    {
     "name": "stdout",
     "output_type": "stream",
     "text": [
      "activity1 : Compliment someone, price : 0, accessibility : 0 \n",
      "activity2 : Compliment someone, price : 0, accessibility : 0 \n",
      "activity3 : Compliment someone, price : 0, accessibility : 0 \n",
      "activity4 : Compliment someone, price : 0, accessibility : 0 \n",
      "activity5 : Compliment someone, price : 0, accessibility : 0 \n"
     ]
    }
   ],
   "source": [
    "for number in [1,2,3,4,5]:\n",
    "    my_parameters = {'participants' : 2, 'price' : 0}\n",
    "    response = requests.get(\"https://www.boredapi.com/api/activity\", params=my_parameters)\n",
    "    if response.status_code == 200:\n",
    "        data = response.json()\n",
    "        print(f\"activity{number} : {data['activity']}, price : {data['price']}, accessibility : {data['accessibility']} \")"
   ]
  },
  {
   "cell_type": "code",
   "execution_count": 32,
   "id": "ddec14c2",
   "metadata": {},
   "outputs": [
    {
     "data": {
      "text/plain": [
       "'{\"activity\":\"Organize your dresser\",\"type\":\"busywork\",\"participants\":1,\"price\":0,\"link\":\"\",\"key\":\"7556665\",\"accessibility\":1}'"
      ]
     },
     "execution_count": 32,
     "metadata": {},
     "output_type": "execute_result"
    }
   ],
   "source": [
    "#Solution2\n",
    "my_response.text"
   ]
  },
  {
   "cell_type": "code",
   "execution_count": 35,
   "id": "f7eaf73a",
   "metadata": {},
   "outputs": [
    {
     "name": "stdout",
     "output_type": "stream",
     "text": [
      "{'activity': 'Organize your dresser', 'type': 'busywork', 'participants': 1, 'price': 0, 'link': '', 'key': '7556665', 'accessibility': 1}\n",
      "The activity is Organize your dresser of the type busywork\n"
     ]
    }
   ],
   "source": [
    "activity = my_response.json()\n",
    "print(activity)\n",
    "print(\"The activity is\", activity['activity'], \"of the type\", activity['type'])"
   ]
  },
  {
   "cell_type": "code",
   "execution_count": 36,
   "id": "eb0a0fdc",
   "metadata": {},
   "outputs": [
    {
     "name": "stdout",
     "output_type": "stream",
     "text": [
      "The activity is Prepare a 72-hour kit of the type busywork\n"
     ]
    }
   ],
   "source": [
    "my_parameters = {'type' : 'busywork'}\n",
    "response = requests.get(\"https://www.boredapi.com/api/activity\", params=my_parameters)\n",
    "if response.status_code == 200:\n",
    "        newactivity = response.json()\n",
    "        print(\"The activity is\", newactivity['activity'], \"of the type\", newactivity['type'])"
   ]
  },
  {
   "cell_type": "code",
   "execution_count": 37,
   "id": "04d9e92c",
   "metadata": {},
   "outputs": [
    {
     "name": "stdout",
     "output_type": "stream",
     "text": [
      "activity : Read a formal research paper on an interesting subject, type : education \n",
      "activity : Learn and play a new card game, type : recreational \n",
      "activity : Go to a karaoke bar with some friends, type : social \n",
      "activity : Learn woodworking, type : diy \n",
      "activity : Pick up litter around your favorite park, type : charity \n",
      "activity : Make homemade ice cream, type : cooking \n",
      "activity : Teach your dog a new trick, type : relaxation \n",
      "activity : Make a simple musical instrument, type : music \n",
      "activity : Wash your car, type : busywork \n"
     ]
    }
   ],
   "source": [
    "#Solution 3\n",
    "#[\"education\", \"recreational\", \"social\", \"diy\", \"charity\", \"cooking\", \"relaxation\", \"music\", \"busywork\"]\n",
    "\n",
    "for type_of_activity in [\"education\", \"recreational\", \"social\", \"diy\", \"charity\", \"cooking\", \"relaxation\", \"music\", \"busywork\"]:\n",
    "    my_parameters = {'type' : type_of_activity}\n",
    "    response = requests.get(\"https://www.boredapi.com/api/activity\", params=my_parameters)\n",
    "    if response.status_code == 200:\n",
    "        allactivities = response.json()\n",
    "        print(f\"activity : {allactivities['activity']}, type : {allactivities['type']} \")"
   ]
  },
  {
   "cell_type": "code",
   "execution_count": 40,
   "id": "e86cfcfd",
   "metadata": {},
   "outputs": [],
   "source": [
    "#DogAPI\n",
    "\n",
    "my_dog = requests.get(\"https://dogapi.dog/api-docs/v2/swagger.json\")"
   ]
  },
  {
   "cell_type": "code",
   "execution_count": 41,
   "id": "a6e3dae8",
   "metadata": {},
   "outputs": [
    {
     "name": "stdout",
     "output_type": "stream",
     "text": [
      "200\n"
     ]
    }
   ],
   "source": [
    "print(my_dog.status_code)"
   ]
  },
  {
   "cell_type": "code",
   "execution_count": null,
   "id": "4b15383e",
   "metadata": {},
   "outputs": [],
   "source": [
    "#https://dogapi.dog/api/v2/facts?limit=1"
   ]
  },
  {
   "cell_type": "code",
   "execution_count": null,
   "id": "e5e4718d",
   "metadata": {},
   "outputs": [],
   "source": [
    "#https://dogapi.dog/api/v2/facts?limit=5"
   ]
  },
  {
   "cell_type": "code",
   "execution_count": 60,
   "id": "a6295cc2",
   "metadata": {},
   "outputs": [],
   "source": [
    "my_dogfact = requests.get(\"https://dogapi.dog/api/v2/facts?limit=1\")"
   ]
  },
  {
   "cell_type": "code",
   "execution_count": 80,
   "id": "73ed519d",
   "metadata": {},
   "outputs": [],
   "source": [
    "my_dogfact = requests.get(\"https://dogapi.dog/api/v2/facts?limit=1\", params=None)"
   ]
  },
  {
   "cell_type": "code",
   "execution_count": 76,
   "id": "2c8e3fe9",
   "metadata": {},
   "outputs": [],
   "source": [
    "my_parameters = {'limit' : \"1\"}\n",
    "my_dogfact = requests.get(\"https://dogapi.dog/api/v2/facts\", params=my_parameters)"
   ]
  },
  {
   "cell_type": "code",
   "execution_count": 81,
   "id": "20588274",
   "metadata": {},
   "outputs": [],
   "source": [
    "dogdata = my_dogfact.json()"
   ]
  },
  {
   "cell_type": "code",
   "execution_count": 82,
   "id": "3dfc5cba",
   "metadata": {},
   "outputs": [
    {
     "data": {
      "text/plain": [
       "{'data': [{'id': 'f352ef13-9553-4b05-8ed2-cda2b141ae2a',\n",
       "   'type': 'fact',\n",
       "   'attributes': {'body': 'The breed Lundehune has 6 toes and can close its ears.'}}]}"
      ]
     },
     "execution_count": 82,
     "metadata": {},
     "output_type": "execute_result"
    }
   ],
   "source": [
    "dogdata"
   ]
  },
  {
   "cell_type": "code",
   "execution_count": 83,
   "id": "e2d29733",
   "metadata": {},
   "outputs": [
    {
     "data": {
      "text/plain": [
       "'The breed Lundehune has 6 toes and can close its ears.'"
      ]
     },
     "execution_count": 83,
     "metadata": {},
     "output_type": "execute_result"
    }
   ],
   "source": [
    "dogdata['data'][0]['attributes']['body']"
   ]
  },
  {
   "cell_type": "code",
   "execution_count": 98,
   "id": "f45337e7",
   "metadata": {},
   "outputs": [],
   "source": [
    "count = 1\n",
    "with open(\"25dogfactsnew.tsv\", \"w\") as my_file:\n",
    "            print(\"ID of the dog fact \\t Fact\", file=my_file)\n",
    "for number in [1,2,3,4,5]:\n",
    "    for number in [1,2,3,4,5]:\n",
    "        my_parameters = {'limit' : \"1\"}\n",
    "        my_dogfact = requests.get(\"https://dogapi.dog/api/v2/facts\", params=my_parameters)\n",
    "        if my_dogfact.status_code == 200:\n",
    "            dogdata = my_dogfact.json()\n",
    "            with open(\"25dogfactsnew.tsv\", \"a\") as my_file:\n",
    "                print(file=my_file)\n",
    "                for fact in dogdata:\n",
    "                    print(f\"{count}\\t{dogdata['data'][0]['attributes']['body']}\", file=my_file)\n",
    "        count = count + 1"
   ]
  },
  {
   "cell_type": "code",
   "execution_count": 106,
   "id": "c9e400b7",
   "metadata": {},
   "outputs": [
    {
     "name": "stdout",
     "output_type": "stream",
     "text": [
      "[{'place_id': 153290354, 'licence': 'Data © OpenStreetMap contributors, ODbL 1.0. https://osm.org/copyright', 'osm_type': 'way', 'osm_id': 199701827, 'boundingbox': ['47.7395576', '47.7396892', '-121.9861596', '-121.9860561'], 'lat': '47.739623449999996', 'lon': '-121.98610785070282', 'display_name': 'Chevron, Northeast Ring Street, Duvall, King County, Washington, 98019, United States', 'place_rank': 30, 'category': 'amenity', 'type': 'fuel', 'importance': 0.31001, 'icon': 'https://nominatim.openstreetmap.org/ui/mapicons/transport_fuel.p.20.png'}, {'place_id': 217002461, 'licence': 'Data © OpenStreetMap contributors, ODbL 1.0. https://osm.org/copyright', 'osm_type': 'way', 'osm_id': 512964881, 'boundingbox': ['47.741998', '47.7423407', '-121.9865704', '-121.986061'], 'lat': '47.7421546', 'lon': '-121.98631736206208', 'display_name': 'Shell, 15729, Main Street Northeast, Duvall, King County, Washington, 98019, United States', 'place_rank': 30, 'category': 'amenity', 'type': 'fuel', 'importance': 0.31001, 'icon': 'https://nominatim.openstreetmap.org/ui/mapicons/transport_fuel.p.20.png'}, {'place_id': 136717883, 'licence': 'Data © OpenStreetMap contributors, ODbL 1.0. https://osm.org/copyright', 'osm_type': 'way', 'osm_id': 135091444, 'boundingbox': ['47.7274406', '47.7276029', '-121.9866578', '-121.9863299'], 'lat': '47.727541', 'lon': '-121.98649384923318', 'display_name': 'Safeway Fuel Station, 14020, Carnation-Duvall Road Northeast, King County, Washington, 98019, United States', 'place_rank': 30, 'category': 'amenity', 'type': 'fuel', 'importance': 0.30001, 'icon': 'https://nominatim.openstreetmap.org/ui/mapicons/transport_fuel.p.20.png'}]\n"
     ]
    }
   ],
   "source": [
    "#Solution 3 - Part 1 \n",
    "\n",
    "url = \"https://nominatim.openstreetmap.org/search\"\n",
    "my_params = {'q' : \"gas stations in Duvall, wa\",\n",
    "             'format' : 'jsonv2',}\n",
    "\n",
    "output = requests.get(url, params=my_params)\n",
    "\n",
    "if output.status_code == 200:\n",
    "    gasstations = output.json()\n",
    "    print(gasstations)\n",
    "else:\n",
    "    print(\"ERROR: request was not successfully\")"
   ]
  },
  {
   "cell_type": "code",
   "execution_count": 107,
   "id": "538a298c",
   "metadata": {},
   "outputs": [
    {
     "data": {
      "text/plain": [
       "3"
      ]
     },
     "execution_count": 107,
     "metadata": {},
     "output_type": "execute_result"
    }
   ],
   "source": [
    "len(gasstations)"
   ]
  },
  {
   "cell_type": "code",
   "execution_count": 108,
   "id": "9aa5df12",
   "metadata": {},
   "outputs": [
    {
     "name": "stdout",
     "output_type": "stream",
     "text": [
      "[{'place_id': 261118231, 'licence': 'Data © OpenStreetMap contributors, ODbL 1.0. https://osm.org/copyright', 'osm_type': 'way', 'osm_id': 796317737, 'boundingbox': ['47.6470049', '47.647116', '-121.9152655', '-121.9150508'], 'lat': '47.6470609', 'lon': '-121.91515808983786', 'display_name': 'Shell, Tolt Avenue, Carnation, King County, Washington, 98014, United States', 'place_rank': 30, 'category': 'amenity', 'type': 'fuel', 'importance': 0.31001, 'icon': 'https://nominatim.openstreetmap.org/ui/mapicons/transport_fuel.p.20.png'}, {'place_id': 76933812, 'licence': 'Data © OpenStreetMap contributors, ODbL 1.0. https://osm.org/copyright', 'osm_type': 'node', 'osm_id': 7368112232, 'boundingbox': ['47.6824711', '47.6825711', '-121.9196732', '-121.9195732'], 'lat': '47.6825211', 'lon': '-121.9196232', 'display_name': 'Carnation-Duvall Road Northeast, Stillwater, King County, Washington, 98014, United States', 'place_rank': 30, 'category': 'amenity', 'type': 'fuel', 'importance': 0.30010000000000003, 'icon': 'https://nominatim.openstreetmap.org/ui/mapicons/transport_fuel.p.20.png'}]\n"
     ]
    }
   ],
   "source": [
    "url = \"https://nominatim.openstreetmap.org/search\"\n",
    "my_params = {'q' : \"gas stations in Carnation, wa \",\n",
    "             'format' : 'jsonv2',}\n",
    "\n",
    "output = requests.get(url, params=my_params)\n",
    "\n",
    "if output.status_code == 200:\n",
    "    gasstations = output.json()\n",
    "    print(gasstations)\n",
    "else:\n",
    "    print(\"ERROR: request was not successfully\")"
   ]
  },
  {
   "cell_type": "code",
   "execution_count": 109,
   "id": "8f18fa3b",
   "metadata": {},
   "outputs": [
    {
     "data": {
      "text/plain": [
       "2"
      ]
     },
     "execution_count": 109,
     "metadata": {},
     "output_type": "execute_result"
    }
   ],
   "source": [
    "len(gasstations)\n",
    "#More gas stations in Duvall"
   ]
  },
  {
   "cell_type": "code",
   "execution_count": 115,
   "id": "40c7f218",
   "metadata": {},
   "outputs": [
    {
     "name": "stdout",
     "output_type": "stream",
     "text": [
      "[{'place_id': 13636959, 'licence': 'Data © OpenStreetMap contributors, ODbL 1.0. https://osm.org/copyright', 'osm_type': 'node', 'osm_id': 1411677375, 'boundingbox': ['47.6596661', '47.6597661', '-122.314124', '-122.314024'], 'lat': '47.6597161', 'lon': '-122.314074', 'display_name': 'Dr. Carey (Dentist), 1305, Northeast 43rd Street, West Campus, University District, Seattle, King County, Washington, 98105, United States', 'place_rank': 30, 'category': 'amenity', 'type': 'dentist', 'importance': 0.21000999999999997, 'icon': 'https://nominatim.openstreetmap.org/ui/mapicons/health_dentist.p.20.png'}, {'place_id': 21746922, 'licence': 'Data © OpenStreetMap contributors, ODbL 1.0. https://osm.org/copyright', 'osm_type': 'node', 'osm_id': 2430646553, 'boundingbox': ['47.665505', '47.665605', '-122.3014422', '-122.3013422'], 'lat': '47.665555', 'lon': '-122.3013922', 'display_name': 'Trailside Dentistry, Burke-Gilman Trail, University Park, University District, Seattle, King County, Washington, 98105, United States', 'place_rank': 30, 'category': 'amenity', 'type': 'dentist', 'importance': 0.21000999999999997, 'icon': 'https://nominatim.openstreetmap.org/ui/mapicons/health_dentist.p.20.png'}, {'place_id': 97140744, 'licence': 'Data © OpenStreetMap contributors, ODbL 1.0. https://osm.org/copyright', 'osm_type': 'node', 'osm_id': 9525617367, 'boundingbox': ['47.6623688', '47.6624688', '-122.293485', '-122.293385'], 'lat': '47.6624188', 'lon': '-122.293435', 'display_name': 'U-District Smiles, 4530, Union Bay Place Northeast, East Campus, University District, Seattle, King County, Washington, 98105, United States', 'place_rank': 30, 'category': 'amenity', 'type': 'dentist', 'importance': 0.21000999999999997, 'icon': 'https://nominatim.openstreetmap.org/ui/mapicons/health_dentist.p.20.png'}, {'place_id': 79687109, 'licence': 'Data © OpenStreetMap contributors, ODbL 1.0. https://osm.org/copyright', 'osm_type': 'node', 'osm_id': 7790374292, 'boundingbox': ['47.6610564', '47.6611564', '-122.3164363', '-122.3163363'], 'lat': '47.6611064', 'lon': '-122.3163863', 'display_name': '32 Good Reasons, 1107, Northeast 45th Street, West Campus, University District, Seattle, King County, Washington, 98015, United States', 'place_rank': 30, 'category': 'amenity', 'type': 'dentist', 'importance': 0.21000999999999997, 'icon': 'https://nominatim.openstreetmap.org/ui/mapicons/health_dentist.p.20.png'}, {'place_id': 20580826, 'licence': 'Data © OpenStreetMap contributors, ODbL 1.0. https://osm.org/copyright', 'osm_type': 'node', 'osm_id': 2323840309, 'boundingbox': ['47.6641997', '47.6642997', '-122.313287', '-122.313187'], 'lat': '47.6642497', 'lon': '-122.313237', 'display_name': \"Nicole O'Bryan DMD Denistry, 4741, University Way Northeast, University Heights, University District, Seattle, King County, Washington, 98105, United States\", 'place_rank': 30, 'category': 'amenity', 'type': 'dentist', 'importance': 0.21000999999999997, 'icon': 'https://nominatim.openstreetmap.org/ui/mapicons/health_dentist.p.20.png'}, {'place_id': 19927226, 'licence': 'Data © OpenStreetMap contributors, ODbL 1.0. https://osm.org/copyright', 'osm_type': 'node', 'osm_id': 2300443392, 'boundingbox': ['47.6481283', '47.6482283', '-122.323703', '-122.323603'], 'lat': '47.6481783', 'lon': '-122.323653', 'display_name': 'Urban Smiles Dentists, 2936, Eastlake Avenue East, Eastlake, Wallingford, Seattle, King County, Washington, 98102, United States', 'place_rank': 30, 'category': 'amenity', 'type': 'dentist', 'importance': 0.21000999999999997, 'icon': 'https://nominatim.openstreetmap.org/ui/mapicons/health_dentist.p.20.png'}, {'place_id': 163562169, 'licence': 'Data © OpenStreetMap contributors, ODbL 1.0. https://osm.org/copyright', 'osm_type': 'way', 'osm_id': 235382838, 'boundingbox': ['47.6723931', '47.672623', '-122.3179597', '-122.3175067'], 'lat': '47.6725081', 'lon': '-122.3177331039291', 'display_name': 'Ravenna Dental Clinic, 916, Northeast Ravenna Boulevard, University Heights, Green Lake, Seattle, King County, Washington, 98115, United States', 'place_rank': 30, 'category': 'amenity', 'type': 'dentist', 'importance': 0.21000999999999997, 'icon': 'https://nominatim.openstreetmap.org/ui/mapicons/health_dentist.p.20.png'}, {'place_id': 160690994, 'licence': 'Data © OpenStreetMap contributors, ODbL 1.0. https://osm.org/copyright', 'osm_type': 'way', 'osm_id': 220821050, 'boundingbox': ['47.6800016', '47.6803454', '-122.2901009', '-122.289931'], 'lat': '47.6801886', 'lon': '-122.29001691849672', 'display_name': '35th Avenue Northeast, Wedgwood, Seattle, King County, Washington, 98115, United States', 'place_rank': 30, 'category': 'amenity', 'type': 'dentist', 'importance': 0.11010000000000002, 'icon': 'https://nominatim.openstreetmap.org/ui/mapicons/health_dentist.p.20.png'}, {'place_id': 19928776, 'licence': 'Data © OpenStreetMap contributors, ODbL 1.0. https://osm.org/copyright', 'osm_type': 'node', 'osm_id': 2268903531, 'boundingbox': ['47.6454204', '47.6455204', '-122.326121', '-122.326021'], 'lat': '47.6454704', 'lon': '-122.326071', 'display_name': 'Puget Sound Periodontics, 2731, Eastlake Avenue East, Eastlake, Seattle, King County, Washington, 98102, United States', 'place_rank': 30, 'category': 'amenity', 'type': 'dentist', 'importance': 0.11000999999999997, 'icon': 'https://nominatim.openstreetmap.org/ui/mapicons/health_dentist.p.20.png'}, {'place_id': 21354144, 'licence': 'Data © OpenStreetMap contributors, ODbL 1.0. https://osm.org/copyright', 'osm_type': 'node', 'osm_id': 2383838310, 'boundingbox': ['47.6269118', '47.6270118', '-122.307555', '-122.307455'], 'lat': '47.6269618', 'lon': '-122.307505', 'display_name': 'Capitol Hill Montlake Dentistry, 901, 19th Avenue East, Madison Valley, Capitol Hill, Seattle, King County, Washington, 98112, United States', 'place_rank': 30, 'category': 'amenity', 'type': 'dentist', 'importance': 0.11000999999999997, 'icon': 'https://nominatim.openstreetmap.org/ui/mapicons/health_dentist.p.20.png'}, {'place_id': 81355906, 'licence': 'Data © OpenStreetMap contributors, ODbL 1.0. https://osm.org/copyright', 'osm_type': 'node', 'osm_id': 7949606807, 'boundingbox': ['47.6235584', '47.6236584', '-122.3071855', '-122.3070855'], 'lat': '47.6236084', 'lon': '-122.3071355', 'display_name': 'Country Doctor Dental Clinic, 510, 19th Avenue East, Madison Valley, Capitol Hill, Seattle, King County, Washington, 98112, United States', 'place_rank': 30, 'category': 'amenity', 'type': 'dentist', 'importance': 0.11000999999999997, 'icon': 'https://nominatim.openstreetmap.org/ui/mapicons/health_dentist.p.20.png'}, {'place_id': 18787708, 'licence': 'Data © OpenStreetMap contributors, ODbL 1.0. https://osm.org/copyright', 'osm_type': 'node', 'osm_id': 2134343266, 'boundingbox': ['47.6612003', '47.6613003', '-122.328521', '-122.328421'], 'lat': '47.6612503', 'lon': '-122.328471', 'display_name': 'Wallingford Smiles, 2507, North 45th Street, Wallingford, Seattle, King County, Washington, 98103, United States', 'place_rank': 30, 'category': 'amenity', 'type': 'dentist', 'importance': 0.11000999999999997, 'icon': 'https://nominatim.openstreetmap.org/ui/mapicons/health_dentist.p.20.png'}, {'place_id': 17923098, 'licence': 'Data © OpenStreetMap contributors, ODbL 1.0. https://osm.org/copyright', 'osm_type': 'node', 'osm_id': 2047481660, 'boundingbox': ['47.6477778', '47.6478778', '-122.33371', '-122.33361'], 'lat': '47.6478278', 'lon': '-122.33366', 'display_name': 'D. Andrew Lewis, DDS, 2101, North 34th Street, Wallingford, Seattle, King County, Washington, 98103, United States', 'place_rank': 30, 'category': 'amenity', 'type': 'dentist', 'importance': 0.11000999999999997, 'icon': 'https://nominatim.openstreetmap.org/ui/mapicons/health_dentist.p.20.png'}, {'place_id': 18905255, 'licence': 'Data © OpenStreetMap contributors, ODbL 1.0. https://osm.org/copyright', 'osm_type': 'node', 'osm_id': 2158667777, 'boundingbox': ['47.6239696', '47.6240696', '-122.321168', '-122.321068'], 'lat': '47.6240196', 'lon': '-122.321118', 'display_name': 'Gentle Dental, 535, Broadway East, Capitol Hill, Seattle, King County, Washington, 98102, United States', 'place_rank': 30, 'category': 'amenity', 'type': 'dentist', 'importance': 0.11000999999999997, 'icon': 'https://nominatim.openstreetmap.org/ui/mapicons/health_dentist.p.20.png'}, {'place_id': 57517026, 'licence': 'Data © OpenStreetMap contributors, ODbL 1.0. https://osm.org/copyright', 'osm_type': 'node', 'osm_id': 5236869919, 'boundingbox': ['47.6202422', '47.6203422', '-122.3146365', '-122.3145365'], 'lat': '47.6202922', 'lon': '-122.3145865', 'display_name': 'Sweet Tooth Family Dentist, 14th Avenue East, Madison Valley, Capitol Hill, Seattle, King County, Washington, 98122, United States', 'place_rank': 30, 'category': 'amenity', 'type': 'dentist', 'importance': 0.11000999999999997, 'icon': 'https://nominatim.openstreetmap.org/ui/mapicons/health_dentist.p.20.png'}, {'place_id': 12589908, 'licence': 'Data © OpenStreetMap contributors, ODbL 1.0. https://osm.org/copyright', 'osm_type': 'node', 'osm_id': 1292786454, 'boundingbox': ['47.6478804', '47.6479804', '-122.33684', '-122.33674'], 'lat': '47.6479304', 'lon': '-122.33679', 'display_name': 'Dr. Sunny Kim, DDS, 3333, Wallingford Avenue North, Wallingford, Seattle, King County, Washington, 98015, United States', 'place_rank': 30, 'category': 'amenity', 'type': 'dentist', 'importance': 0.11000999999999997, 'icon': 'https://nominatim.openstreetmap.org/ui/mapicons/health_dentist.p.20.png'}, {'place_id': 159010049, 'licence': 'Data © OpenStreetMap contributors, ODbL 1.0. https://osm.org/copyright', 'osm_type': 'way', 'osm_id': 216321416, 'boundingbox': ['47.6554929', '47.6555606', '-122.3367803', '-122.33638'], 'lat': '47.65552675', 'lon': '-122.33658015', 'display_name': 'Wallingford Dental Arts, 3941, Wallingford Avenue North, Wallingford, Seattle, King County, Washington, 98103, United States', 'place_rank': 30, 'category': 'amenity', 'type': 'dentist', 'importance': 0.11000999999999997, 'icon': 'https://nominatim.openstreetmap.org/ui/mapicons/health_dentist.p.20.png'}, {'place_id': 19021957, 'licence': 'Data © OpenStreetMap contributors, ODbL 1.0. https://osm.org/copyright', 'osm_type': 'node', 'osm_id': 2158667458, 'boundingbox': ['47.6214443', '47.6215443', '-122.321884', '-122.321784'], 'lat': '47.6214943', 'lon': '-122.321834', 'display_name': 'Zen Dental Center, 310, Harvard Avenue East, Capitol Hill, Seattle, King County, Washington, 98102, United States', 'place_rank': 30, 'category': 'amenity', 'type': 'dentist', 'importance': 0.11000999999999997, 'icon': 'https://nominatim.openstreetmap.org/ui/mapicons/health_dentist.p.20.png'}, {'place_id': 18973088, 'licence': 'Data © OpenStreetMap contributors, ODbL 1.0. https://osm.org/copyright', 'osm_type': 'node', 'osm_id': 2158750705, 'boundingbox': ['47.6205404', '47.6206404', '-122.3206889', '-122.3205889'], 'lat': '47.6205904', 'lon': '-122.3206389', 'display_name': '8to8, 220, Broadway East, Capitol Hill, Seattle, King County, Washington, 98102, United States', 'place_rank': 30, 'category': 'amenity', 'type': 'dentist', 'importance': 0.11000999999999997, 'icon': 'https://nominatim.openstreetmap.org/ui/mapicons/health_dentist.p.20.png'}]\n"
     ]
    }
   ],
   "source": [
    "#Solution part 2\n",
    "\n",
    "url = \"https://nominatim.openstreetmap.org/search\"\n",
    "my_params = {'q' : \"dentists near University of Washington\",\n",
    "             'format' : 'jsonv2',\n",
    "             'limit' : 50 }\n",
    "\n",
    "output = requests.get(url, params=my_params)\n",
    "\n",
    "if output.status_code == 200:\n",
    "    dentists = output.json()\n",
    "    print(dentists)\n",
    "else:\n",
    "    print(\"ERROR: request was not successful\")"
   ]
  },
  {
   "cell_type": "code",
   "execution_count": 116,
   "id": "d14db0dd",
   "metadata": {},
   "outputs": [
    {
     "data": {
      "text/plain": [
       "19"
      ]
     },
     "execution_count": 116,
     "metadata": {},
     "output_type": "execute_result"
    }
   ],
   "source": [
    "len(dentists)"
   ]
  },
  {
   "cell_type": "code",
   "execution_count": 132,
   "id": "afbaed81",
   "metadata": {},
   "outputs": [
    {
     "name": "stdout",
     "output_type": "stream",
     "text": [
      "[{'place_id': 20278480, 'licence': 'Data © OpenStreetMap contributors, ODbL 1.0. https://osm.org/copyright', 'osm_type': 'node', 'osm_id': 2327732111, 'boundingbox': ['47.6159727', '47.6160727', '-122.3382925', '-122.3381925'], 'lat': '47.6160227', 'lon': '-122.3382425', 'display_name': 'Dentist Downtown Seattle, 2045, Westlake Avenue, Central Business District, Belltown, Seattle, King County, Washington, 98121, United States', 'place_rank': 30, 'category': 'amenity', 'type': 'dentist', 'importance': 0.21000999999999997, 'icon': 'https://nominatim.openstreetmap.org/ui/mapicons/health_dentist.p.20.png'}, {'place_id': 339418855, 'licence': 'Data © OpenStreetMap contributors, ODbL 1.0. https://osm.org/copyright', 'osm_type': 'node', 'osm_id': 4358266495, 'boundingbox': ['47.6228806', '47.6229806', '-122.3382826', '-122.3381826'], 'lat': '47.6229306', 'lon': '-122.3382326', 'display_name': 'Seattle’s Downtown Dentist, 428, Westlake Avenue North, South Lake Union, Belltown, Seattle, King County, Washington, 98109, United States', 'place_rank': 30, 'category': 'amenity', 'type': 'dentist', 'importance': 0.21000999999999997, 'icon': 'https://nominatim.openstreetmap.org/ui/mapicons/health_dentist.p.20.png'}, {'place_id': 339422657, 'licence': 'Data © OpenStreetMap contributors, ODbL 1.0. https://osm.org/copyright', 'osm_type': 'node', 'osm_id': 9932849173, 'boundingbox': ['47.6234466', '47.6235466', '-122.3361251', '-122.3360251'], 'lat': '47.6234966', 'lon': '-122.3360751', 'display_name': 'The Downtown Seattle Dentist, Boren Avenue North, Amazon, Belltown, Seattle, King County, Washington, 98191, United States', 'place_rank': 30, 'category': 'amenity', 'type': 'dentist', 'importance': 0.21000999999999997, 'icon': 'https://nominatim.openstreetmap.org/ui/mapicons/health_dentist.p.20.png'}, {'place_id': 62283453, 'licence': 'Data © OpenStreetMap contributors, ODbL 1.0. https://osm.org/copyright', 'osm_type': 'node', 'osm_id': 5750021208, 'boundingbox': ['47.6055721', '47.6056721', '-122.3336032', '-122.3335032'], 'lat': '47.6056221', 'lon': '-122.3335532', 'display_name': 'Downtown Dentistry, Madison Street, West Edge, First Hill, Seattle, King County, Washington, 98154, United States', 'place_rank': 30, 'category': 'amenity', 'type': 'dentist', 'importance': 0.21000999999999997, 'icon': 'https://nominatim.openstreetmap.org/ui/mapicons/health_dentist.p.20.png'}, {'place_id': 37916614, 'licence': 'Data © OpenStreetMap contributors, ODbL 1.0. https://osm.org/copyright', 'osm_type': 'node', 'osm_id': 3089542565, 'boundingbox': ['47.6251904', '47.6252904', '-122.3545501', '-122.3544501'], 'lat': '47.6252404', 'lon': '-122.3545001', 'display_name': 'Dentists of Queen Anne, 620, 1st Avenue North, Uptown, Belltown, Seattle, King County, Washington, 98109, United States', 'place_rank': 30, 'category': 'amenity', 'type': 'dentist', 'importance': 0.21000999999999997, 'icon': 'https://nominatim.openstreetmap.org/ui/mapicons/health_dentist.p.20.png'}, {'place_id': 42088730, 'licence': 'Data © OpenStreetMap contributors, ODbL 1.0. https://osm.org/copyright', 'osm_type': 'node', 'osm_id': 3456076479, 'boundingbox': ['47.6275315', '47.6276315', '-122.3701506', '-122.3700506'], 'lat': '47.6275815', 'lon': '-122.3701006', 'display_name': 'Seattle Kids Dentistry, 945, Elliott Avenue West, Queen Anne, Seattle, King County, Washington, 98119, United States', 'place_rank': 30, 'category': 'amenity', 'type': 'dentist', 'importance': 0.11000999999999997, 'icon': 'https://nominatim.openstreetmap.org/ui/mapicons/health_dentist.p.20.png'}, {'place_id': 48025906, 'licence': 'Data © OpenStreetMap contributors, ODbL 1.0. https://osm.org/copyright', 'osm_type': 'node', 'osm_id': 4170543667, 'boundingbox': ['47.6159723', '47.6160723', '-122.337407', '-122.337307'], 'lat': '47.6160223', 'lon': '-122.337357', 'display_name': 'Avenue Smiles, 2001, 8th Avenue, Belltown, Seattle, King County, Washington, 98121, United States', 'place_rank': 30, 'category': 'amenity', 'type': 'dentist', 'importance': 0.11000999999999997, 'icon': 'https://nominatim.openstreetmap.org/ui/mapicons/health_dentist.p.20.png'}, {'place_id': 42523350, 'licence': 'Data © OpenStreetMap contributors, ODbL 1.0. https://osm.org/copyright', 'osm_type': 'node', 'osm_id': 3456076480, 'boundingbox': ['47.6274713', '47.6275713', '-122.3706266', '-122.3705266'], 'lat': '47.6275213', 'lon': '-122.3705766', 'display_name': 'Elliott Bay Dental, 945, Elliott Avenue West, Queen Anne, Seattle, King County, Washington, 98119, United States', 'place_rank': 30, 'category': 'amenity', 'type': 'dentist', 'importance': 0.11000999999999997, 'icon': 'https://nominatim.openstreetmap.org/ui/mapicons/health_dentist.p.20.png'}, {'place_id': 16008384, 'licence': 'Data © OpenStreetMap contributors, ODbL 1.0. https://osm.org/copyright', 'osm_type': 'node', 'osm_id': 1788030746, 'boundingbox': ['47.6494531', '47.6495531', '-122.350431', '-122.350331'], 'lat': '47.6495031', 'lon': '-122.350381', 'display_name': 'Parkside Dental, 601, North 34th Street, Fremont, Seattle, King County, Washington, 98103, United States', 'place_rank': 30, 'category': 'amenity', 'type': 'dentist', 'importance': 0.11000999999999997, 'icon': 'https://nominatim.openstreetmap.org/ui/mapicons/health_dentist.p.20.png'}, {'place_id': 18973088, 'licence': 'Data © OpenStreetMap contributors, ODbL 1.0. https://osm.org/copyright', 'osm_type': 'node', 'osm_id': 2158750705, 'boundingbox': ['47.6205404', '47.6206404', '-122.3206889', '-122.3205889'], 'lat': '47.6205904', 'lon': '-122.3206389', 'display_name': '8to8, 220, Broadway East, Capitol Hill, Seattle, King County, Washington, 98102, United States', 'place_rank': 30, 'category': 'amenity', 'type': 'dentist', 'importance': 0.11000999999999997, 'icon': 'https://nominatim.openstreetmap.org/ui/mapicons/health_dentist.p.20.png'}, {'place_id': 19021957, 'licence': 'Data © OpenStreetMap contributors, ODbL 1.0. https://osm.org/copyright', 'osm_type': 'node', 'osm_id': 2158667458, 'boundingbox': ['47.6214443', '47.6215443', '-122.321884', '-122.321784'], 'lat': '47.6214943', 'lon': '-122.321834', 'display_name': 'Zen Dental Center, 310, Harvard Avenue East, Capitol Hill, Seattle, King County, Washington, 98102, United States', 'place_rank': 30, 'category': 'amenity', 'type': 'dentist', 'importance': 0.11000999999999997, 'icon': 'https://nominatim.openstreetmap.org/ui/mapicons/health_dentist.p.20.png'}, {'place_id': 46077964, 'licence': 'Data © OpenStreetMap contributors, ODbL 1.0. https://osm.org/copyright', 'osm_type': 'node', 'osm_id': 3881573102, 'boundingbox': ['47.6178778', '47.6179778', '-122.337778', '-122.337678'], 'lat': '47.6179278', 'lon': '-122.337728', 'display_name': '2200 Westlake Dentistry, 900, Lenora Street, South Lake Union, Belltown, Seattle, King County, Washington, 98121, United States', 'place_rank': 30, 'category': 'amenity', 'type': 'dentist', 'importance': 0.11000999999999997, 'icon': 'https://nominatim.openstreetmap.org/ui/mapicons/health_dentist.p.20.png'}, {'place_id': 21376918, 'licence': 'Data © OpenStreetMap contributors, ODbL 1.0. https://osm.org/copyright', 'osm_type': 'node', 'osm_id': 2404211132, 'boundingbox': ['47.6128174', '47.6129174', '-122.3366307', '-122.3365307'], 'lat': '47.6128674', 'lon': '-122.3365807', 'display_name': 'Emergency Dental Care USA, 511, Olive Way, Central Business District, Belltown, Seattle, King County, Washington, 98101, United States', 'place_rank': 30, 'category': 'amenity', 'type': 'dentist', 'importance': 0.11000999999999997, 'icon': 'https://nominatim.openstreetmap.org/ui/mapicons/health_dentist.p.20.png'}, {'place_id': 18905255, 'licence': 'Data © OpenStreetMap contributors, ODbL 1.0. https://osm.org/copyright', 'osm_type': 'node', 'osm_id': 2158667777, 'boundingbox': ['47.6239696', '47.6240696', '-122.321168', '-122.321068'], 'lat': '47.6240196', 'lon': '-122.321118', 'display_name': 'Gentle Dental, 535, Broadway East, Capitol Hill, Seattle, King County, Washington, 98102, United States', 'place_rank': 30, 'category': 'amenity', 'type': 'dentist', 'importance': 0.11000999999999997, 'icon': 'https://nominatim.openstreetmap.org/ui/mapicons/health_dentist.p.20.png'}, {'place_id': 21213892, 'licence': 'Data © OpenStreetMap contributors, ODbL 1.0. https://osm.org/copyright', 'osm_type': 'node', 'osm_id': 2400039529, 'boundingbox': ['47.6205883', '47.6206883', '-122.3374428', '-122.3373428'], 'lat': '47.6206383', 'lon': '-122.3373928', 'display_name': 'Innovative Dentistry, 225, Terry Avenue North, South Lake Union, Belltown, Seattle, King County, Washington, 98109, United States', 'place_rank': 30, 'category': 'amenity', 'type': 'dentist', 'importance': 0.11000999999999997, 'icon': 'https://nominatim.openstreetmap.org/ui/mapicons/health_dentist.p.20.png'}, {'place_id': 57077065, 'licence': 'Data © OpenStreetMap contributors, ODbL 1.0. https://osm.org/copyright', 'osm_type': 'node', 'osm_id': 5152641324, 'boundingbox': ['47.6177764', '47.6178764', '-122.3172124', '-122.3171124'], 'lat': '47.6178264', 'lon': '-122.3171624', 'display_name': 'Fresh Smile Seattle, 1801, 12th Avenue, Capitol Hill, Seattle, King County, Washington, 98122, United States', 'place_rank': 30, 'category': 'amenity', 'type': 'dentist', 'importance': 0.11000999999999997, 'icon': 'https://nominatim.openstreetmap.org/ui/mapicons/health_dentist.p.20.png'}, {'place_id': 54364318, 'licence': 'Data © OpenStreetMap contributors, ODbL 1.0. https://osm.org/copyright', 'osm_type': 'node', 'osm_id': 4813783743, 'boundingbox': ['47.616577', '47.616677', '-122.3437893', '-122.3436893'], 'lat': '47.616627', 'lon': '-122.3437393', 'display_name': 'Belltown Modern Dentistry, 2326, 5th Avenue, South Lake Union, Belltown, Seattle, King County, Washington, 98121, United States', 'place_rank': 30, 'category': 'amenity', 'type': 'dentist', 'importance': 0.11000999999999997, 'icon': 'https://nominatim.openstreetmap.org/ui/mapicons/health_dentist.p.20.png'}, {'place_id': 162696198, 'licence': 'Data © OpenStreetMap contributors, ODbL 1.0. https://osm.org/copyright', 'osm_type': 'way', 'osm_id': 231664568, 'boundingbox': ['47.6194414', '47.6196318', '-122.3430141', '-122.3426061'], 'lat': '47.619580299999996', 'lon': '-122.34281011147071', 'display_name': 'Willamette Dental Group, 133, Dexter Avenue North, South Lake Union, Belltown, Seattle, King County, Washington, 98109, United States', 'place_rank': 30, 'category': 'amenity', 'type': 'dentist', 'importance': 0.11000999999999997, 'icon': 'https://nominatim.openstreetmap.org/ui/mapicons/health_dentist.p.20.png'}, {'place_id': 20265613, 'licence': 'Data © OpenStreetMap contributors, ODbL 1.0. https://osm.org/copyright', 'osm_type': 'node', 'osm_id': 2312090765, 'boundingbox': ['47.6221604', '47.6222604', '-122.340014', '-122.339914'], 'lat': '47.6222104', 'lon': '-122.339964', 'display_name': '888 Dentistry, Harrison Street, South Lake Union, Belltown, Seattle, King County, Washington, 98121, United States', 'place_rank': 30, 'category': 'amenity', 'type': 'dentist', 'importance': 0.11000999999999997, 'icon': 'https://nominatim.openstreetmap.org/ui/mapicons/health_dentist.p.20.png'}, {'place_id': 87745353, 'licence': 'Data © OpenStreetMap contributors, ODbL 1.0. https://osm.org/copyright', 'osm_type': 'node', 'osm_id': 8597651201, 'boundingbox': ['47.6126505', '47.6127505', '-122.322416', '-122.322316'], 'lat': '47.6127005', 'lon': '-122.322366', 'display_name': 'Seneca Dental, Seneca Street, First Hill, Seattle, King County, Washington, 98138, United States', 'place_rank': 30, 'category': 'amenity', 'type': 'dentist', 'importance': 0.11000999999999997, 'icon': 'https://nominatim.openstreetmap.org/ui/mapicons/health_dentist.p.20.png'}, {'place_id': 20555134, 'licence': 'Data © OpenStreetMap contributors, ODbL 1.0. https://osm.org/copyright', 'osm_type': 'node', 'osm_id': 2327716514, 'boundingbox': ['47.6133168', '47.6134168', '-122.344918', '-122.344818'], 'lat': '47.6133668', 'lon': '-122.344868', 'display_name': 'Omni Dental, 2207, 2nd Avenue, Central Business District, Belltown, Seattle, King County, Washington, 98121, United States', 'place_rank': 30, 'category': 'amenity', 'type': 'dentist', 'importance': 0.11000999999999997, 'icon': 'https://nominatim.openstreetmap.org/ui/mapicons/health_dentist.p.20.png'}, {'place_id': 57517026, 'licence': 'Data © OpenStreetMap contributors, ODbL 1.0. https://osm.org/copyright', 'osm_type': 'node', 'osm_id': 5236869919, 'boundingbox': ['47.6202422', '47.6203422', '-122.3146365', '-122.3145365'], 'lat': '47.6202922', 'lon': '-122.3145865', 'display_name': 'Sweet Tooth Family Dentist, 14th Avenue East, Madison Valley, Capitol Hill, Seattle, King County, Washington, 98122, United States', 'place_rank': 30, 'category': 'amenity', 'type': 'dentist', 'importance': 0.11000999999999997, 'icon': 'https://nominatim.openstreetmap.org/ui/mapicons/health_dentist.p.20.png'}, {'place_id': 51682782, 'licence': 'Data © OpenStreetMap contributors, ODbL 1.0. https://osm.org/copyright', 'osm_type': 'node', 'osm_id': 4544123298, 'boundingbox': ['47.6085322', '47.6086322', '-122.335772', '-122.335672'], 'lat': '47.6085822', 'lon': '-122.335722', 'display_name': 'Seattle Dental Associates, 1325, 4th Avenue, Central Business District, First Hill, Seattle, King County, Washington, 98101, United States', 'place_rank': 30, 'category': 'amenity', 'type': 'dentist', 'importance': 0.11000999999999997, 'icon': 'https://nominatim.openstreetmap.org/ui/mapicons/health_dentist.p.20.png'}, {'place_id': 339422655, 'licence': 'Data © OpenStreetMap contributors, ODbL 1.0. https://osm.org/copyright', 'osm_type': 'node', 'osm_id': 9932849171, 'boundingbox': ['47.6236975', '47.6237975', '-122.3361007', '-122.3360007'], 'lat': '47.6237475', 'lon': '-122.3360507', 'display_name': 'South Lake Union Dentist Office, 527, Boren Avenue North, Amazon, Belltown, Seattle, King County, Washington, 98109, United States', 'place_rank': 30, 'category': 'amenity', 'type': 'dentist', 'importance': 0.11000999999999997, 'icon': 'https://nominatim.openstreetmap.org/ui/mapicons/health_dentist.p.20.png'}, {'place_id': 69236177, 'licence': 'Data © OpenStreetMap contributors, ODbL 1.0. https://osm.org/copyright', 'osm_type': 'node', 'osm_id': 6483256385, 'boundingbox': ['47.617625', '47.617725', '-122.3303404', '-122.3302404'], 'lat': '47.617675', 'lon': '-122.3302904', 'display_name': 'Advanced Metropolitan Dentistry, 1220, Howell Street, South Lake Union, First Hill, Seattle, King County, Washington, 98101, United States', 'place_rank': 30, 'category': 'amenity', 'type': 'dentist', 'importance': 0.11000999999999997, 'icon': 'https://nominatim.openstreetmap.org/ui/mapicons/health_dentist.p.20.png'}, {'place_id': 56344799, 'licence': 'Data © OpenStreetMap contributors, ODbL 1.0. https://osm.org/copyright', 'osm_type': 'node', 'osm_id': 5063065553, 'boundingbox': ['47.648531', '47.648631', '-122.342171', '-122.342071'], 'lat': '47.648581', 'lon': '-122.342121', 'display_name': 'Endodontic Solutions, 3400, Stone Way North, Fremont, Seattle, King County, Washington, 98103, United States', 'place_rank': 30, 'category': 'amenity', 'type': 'dentist', 'importance': 0.11000999999999997, 'icon': 'https://nominatim.openstreetmap.org/ui/mapicons/health_dentist.p.20.png'}, {'place_id': 21583729, 'licence': 'Data © OpenStreetMap contributors, ODbL 1.0. https://osm.org/copyright', 'osm_type': 'node', 'osm_id': 2400039550, 'boundingbox': ['47.6204822', '47.6205822', '-122.330674', '-122.330574'], 'lat': '47.6205322', 'lon': '-122.330624', 'display_name': 'Revive Smiles Dentistry, 259, Yale Avenue North, South Lake Union, First Hill, Seattle, King County, Washington, 98109, United States', 'place_rank': 30, 'category': 'amenity', 'type': 'dentist', 'importance': 0.11000999999999997, 'icon': 'https://nominatim.openstreetmap.org/ui/mapicons/health_dentist.p.20.png'}, {'place_id': 47064476, 'licence': 'Data © OpenStreetMap contributors, ODbL 1.0. https://osm.org/copyright', 'osm_type': 'node', 'osm_id': 3996640537, 'boundingbox': ['47.6072084', '47.6073084', '-122.3342496', '-122.3341496'], 'lat': '47.6072584', 'lon': '-122.3341996', 'display_name': '4th and Seneca Dental, 4th Avenue Cycletrack, Central Business District, Belltown, Seattle, King County, Washington, 98161, United States', 'place_rank': 30, 'category': 'amenity', 'type': 'dentist', 'importance': 0.11000999999999997, 'icon': 'https://nominatim.openstreetmap.org/ui/mapicons/health_dentist.p.20.png'}, {'place_id': 43666530, 'licence': 'Data © OpenStreetMap contributors, ODbL 1.0. https://osm.org/copyright', 'osm_type': 'node', 'osm_id': 3645112130, 'boundingbox': ['47.6161214', '47.6162214', '-122.3488059', '-122.3487059'], 'lat': '47.6161714', 'lon': '-122.3487559', 'display_name': '2nd & Vine Dental, 200, Vine Street, Uptown, Belltown, Seattle, King County, Washington, 98121, United States', 'place_rank': 30, 'category': 'amenity', 'type': 'dentist', 'importance': 0.11000999999999997, 'icon': 'https://nominatim.openstreetmap.org/ui/mapicons/health_dentist.p.20.png'}, {'place_id': 49190159, 'licence': 'Data © OpenStreetMap contributors, ODbL 1.0. https://osm.org/copyright', 'osm_type': 'node', 'osm_id': 4281319390, 'boundingbox': ['47.6052627', '47.6053627', '-122.3375086', '-122.3374086'], 'lat': '47.6053127', 'lon': '-122.3374586', 'display_name': 'West Edge Dental, 1107, 1st Avenue, West Edge, Belltown, Seattle, King County, Washington, 98101, United States', 'place_rank': 30, 'category': 'amenity', 'type': 'dentist', 'importance': 0.11000999999999997, 'icon': 'https://nominatim.openstreetmap.org/ui/mapicons/health_dentist.p.20.png'}, {'place_id': 55910844, 'licence': 'Data © OpenStreetMap contributors, ODbL 1.0. https://osm.org/copyright', 'osm_type': 'node', 'osm_id': 5067774823, 'boundingbox': ['47.6161147', '47.6162147', '-122.34961', '-122.34951'], 'lat': '47.6161647', 'lon': '-122.34956', 'display_name': 'Bell Harbor Dental, 2621, 2nd Avenue, Uptown, Belltown, Seattle, King County, Washington, 98121, United States', 'place_rank': 30, 'category': 'amenity', 'type': 'dentist', 'importance': 0.11000999999999997, 'icon': 'https://nominatim.openstreetmap.org/ui/mapicons/health_dentist.p.20.png'}, {'place_id': 18962185, 'licence': 'Data © OpenStreetMap contributors, ODbL 1.0. https://osm.org/copyright', 'osm_type': 'node', 'osm_id': 2131726189, 'boundingbox': ['47.6589451', '47.6590451', '-122.342061', '-122.341961'], 'lat': '47.6589951', 'lon': '-122.342011', 'display_name': 'Greenlake Family Dentistry, 4230, Stone Way North, Wallingford, Seattle, King County, Washington, 98103, United States', 'place_rank': 30, 'category': 'amenity', 'type': 'dentist', 'importance': 0.11000999999999997, 'icon': 'https://nominatim.openstreetmap.org/ui/mapicons/health_dentist.p.20.png'}, {'place_id': 19194018, 'licence': 'Data © OpenStreetMap contributors, ODbL 1.0. https://osm.org/copyright', 'osm_type': 'node', 'osm_id': 2159323195, 'boundingbox': ['47.6084875', '47.6085875', '-122.325423', '-122.325323'], 'lat': '47.6085375', 'lon': '-122.325373', 'display_name': 'First Hill Dental Center, 901, Boren Avenue, First Hill, Seattle, King County, Washington, 98104, United States', 'place_rank': 30, 'category': 'amenity', 'type': 'dentist', 'importance': 0.11000999999999997, 'icon': 'https://nominatim.openstreetmap.org/ui/mapicons/health_dentist.p.20.png'}, {'place_id': 52006622, 'licence': 'Data © OpenStreetMap contributors, ODbL 1.0. https://osm.org/copyright', 'osm_type': 'node', 'osm_id': 4639109907, 'boundingbox': ['47.6049903', '47.6050903', '-122.3346196', '-122.3345196'], 'lat': '47.6050403', 'lon': '-122.3345696', 'display_name': 'Gateway Dental, 2nd Avenue Cycletrack, West Edge, International District/Chinatown, Seattle, King County, Washington, 98174, United States', 'place_rank': 30, 'category': 'amenity', 'type': 'dentist', 'importance': 0.11000999999999997, 'icon': 'https://nominatim.openstreetmap.org/ui/mapicons/health_dentist.p.20.png'}, {'place_id': 63821024, 'licence': 'Data © OpenStreetMap contributors, ODbL 1.0. https://osm.org/copyright', 'osm_type': 'node', 'osm_id': 5830451696, 'boundingbox': ['47.6050249', '47.6051249', '-122.3344335', '-122.3343335'], 'lat': '47.6050749', 'lon': '-122.3343835', 'display_name': 'Gateway Dental, Madison Street, West Edge, First Hill, Seattle, King County, Washington, 98174, United States', 'place_rank': 30, 'category': 'amenity', 'type': 'dentist', 'importance': 0.11000999999999997, 'icon': 'https://nominatim.openstreetmap.org/ui/mapicons/health_dentist.p.20.png'}, {'place_id': 52060635, 'licence': 'Data © OpenStreetMap contributors, ODbL 1.0. https://osm.org/copyright', 'osm_type': 'node', 'osm_id': 4639109912, 'boundingbox': ['47.6049582', '47.6050582', '-122.3345881', '-122.3344881'], 'lat': '47.6050082', 'lon': '-122.3345381', 'display_name': 'Leone Vaughn Davis Orthodonics, 2nd Avenue Cycletrack, West Edge, International District/Chinatown, Seattle, King County, Washington, 98174, United States', 'place_rank': 30, 'category': 'amenity', 'type': 'dentist', 'importance': 0.11000999999999997, 'icon': 'https://nominatim.openstreetmap.org/ui/mapicons/health_dentist.p.20.png'}, {'place_id': 75401537, 'licence': 'Data © OpenStreetMap contributors, ODbL 1.0. https://osm.org/copyright', 'osm_type': 'node', 'osm_id': 7127329681, 'boundingbox': ['47.6230719', '47.6231719', '-122.3582798', '-122.3581798'], 'lat': '47.6231219', 'lon': '-122.3582298', 'display_name': 'Seattle Dental Co, West Republican Street, Uptown, Belltown, Seattle, King County, Washington, 98109, United States', 'place_rank': 30, 'category': 'amenity', 'type': 'dentist', 'importance': 0.11000999999999997, 'icon': 'https://nominatim.openstreetmap.org/ui/mapicons/health_dentist.p.20.png'}, {'place_id': 20339362, 'licence': 'Data © OpenStreetMap contributors, ODbL 1.0. https://osm.org/copyright', 'osm_type': 'node', 'osm_id': 2332453483, 'boundingbox': ['47.6394037', '47.6395037', '-122.3654137', '-122.3653137'], 'lat': '47.6394537', 'lon': '-122.3653637', 'display_name': 'Queen Anne Hilltop Dental, 605, West McGraw Street, Queen Anne, Seattle, King County, Washington, 98119, United States', 'place_rank': 30, 'category': 'amenity', 'type': 'dentist', 'importance': 0.11000999999999997, 'icon': 'https://nominatim.openstreetmap.org/ui/mapicons/health_dentist.p.20.png'}, {'place_id': 70956489, 'licence': 'Data © OpenStreetMap contributors, ODbL 1.0. https://osm.org/copyright', 'osm_type': 'node', 'osm_id': 6615128586, 'boundingbox': ['47.6396551', '47.6397551', '-122.365418', '-122.365318'], 'lat': '47.6397051', 'lon': '-122.365368', 'display_name': 'Randy Weisz, DDS, West McGraw Street, Queen Anne, Seattle, King County, Washington, 98119, United States', 'place_rank': 30, 'category': 'amenity', 'type': 'dentist', 'importance': 0.11000999999999997, 'icon': 'https://nominatim.openstreetmap.org/ui/mapicons/health_dentist.p.20.png'}, {'place_id': 20787623, 'licence': 'Data © OpenStreetMap contributors, ODbL 1.0. https://osm.org/copyright', 'osm_type': 'node', 'osm_id': 2349855666, 'boundingbox': ['47.6383161', '47.6384161', '-122.3493647', '-122.3492647'], 'lat': '47.6383661', 'lon': '-122.3493147', 'display_name': 'Queen Anne Dental Group, 400, Boston Street, Queen Anne, Seattle, King County, Washington, 98109, United States', 'place_rank': 30, 'category': 'amenity', 'type': 'dentist', 'importance': 0.11000999999999997, 'icon': 'https://nominatim.openstreetmap.org/ui/mapicons/health_dentist.p.20.png'}, {'place_id': 70412374, 'licence': 'Data © OpenStreetMap contributors, ODbL 1.0. https://osm.org/copyright', 'osm_type': 'node', 'osm_id': 6614909810, 'boundingbox': ['47.6324472', '47.6325472', '-122.357263', '-122.357163'], 'lat': '47.6324972', 'lon': '-122.357213', 'display_name': 'Pure Dental Arts, 1503, Queen Anne Avenue North, Queen Anne, Seattle, King County, Washington, 98109, United States', 'place_rank': 30, 'category': 'amenity', 'type': 'dentist', 'importance': 0.11000999999999997, 'icon': 'https://nominatim.openstreetmap.org/ui/mapicons/health_dentist.p.20.png'}, {'place_id': 56845360, 'licence': 'Data © OpenStreetMap contributors, ODbL 1.0. https://osm.org/copyright', 'osm_type': 'node', 'osm_id': 5080134326, 'boundingbox': ['47.628426', '47.628526', '-122.331854', '-122.331754'], 'lat': '47.628476', 'lon': '-122.331804', 'display_name': 'Kois Dental, Fairview Avenue North, South Lake Union, Capitol Hill, Seattle, King County, Washington, 98102, United States', 'place_rank': 30, 'category': 'amenity', 'type': 'dentist', 'importance': 0.11000999999999997, 'icon': 'https://nominatim.openstreetmap.org/ui/mapicons/health_dentist.p.20.png'}, {'place_id': 361891289, 'licence': 'Data © OpenStreetMap contributors, ODbL 1.0. https://osm.org/copyright', 'osm_type': 'node', 'osm_id': 2015537730, 'boundingbox': ['47.6333135', '47.6334135', '-122.3572877', '-122.3571877'], 'lat': '47.6333635', 'lon': '-122.3572377', 'display_name': 'Avenue Orthodontics, 1531, Queen Anne Avenue North, Queen Anne, Seattle, King County, Washington, 98109, United States', 'place_rank': 30, 'category': 'amenity', 'type': 'dentist', 'importance': 0.11000999999999997, 'icon': 'https://nominatim.openstreetmap.org/ui/mapicons/health_dentist.p.20.png'}, {'place_id': 160578022, 'licence': 'Data © OpenStreetMap contributors, ODbL 1.0. https://osm.org/copyright', 'osm_type': 'way', 'osm_id': 224037634, 'boundingbox': ['47.6629445', '47.6630822', '-122.3441034', '-122.3438703'], 'lat': '47.663016299999995', 'lon': '-122.34395941490948', 'display_name': 'Greenlake Dental, 4701, Midvale Avenue North, Wallingford, Seattle, King County, Washington, 98103, United States', 'place_rank': 30, 'category': 'amenity', 'type': 'dentist', 'importance': 0.11000999999999997, 'icon': 'https://nominatim.openstreetmap.org/ui/mapicons/health_dentist.p.20.png'}, {'place_id': 12589908, 'licence': 'Data © OpenStreetMap contributors, ODbL 1.0. https://osm.org/copyright', 'osm_type': 'node', 'osm_id': 1292786454, 'boundingbox': ['47.6478804', '47.6479804', '-122.33684', '-122.33674'], 'lat': '47.6479304', 'lon': '-122.33679', 'display_name': 'Dr. Sunny Kim, DDS, 3333, Wallingford Avenue North, Wallingford, Seattle, King County, Washington, 98015, United States', 'place_rank': 30, 'category': 'amenity', 'type': 'dentist', 'importance': 0.11000999999999997, 'icon': 'https://nominatim.openstreetmap.org/ui/mapicons/health_dentist.p.20.png'}, {'place_id': 150656950, 'licence': 'Data © OpenStreetMap contributors, ODbL 1.0. https://osm.org/copyright', 'osm_type': 'way', 'osm_id': 191319393, 'boundingbox': ['47.6384921', '47.6385994', '-122.3562176', '-122.3560855'], 'lat': '47.63854445', 'lon': '-122.35615154999999', 'display_name': 'Queen Anne Family Dental, 14, Boston Street, Queen Anne, Seattle, King County, Washington, 98109, United States', 'place_rank': 30, 'category': 'amenity', 'type': 'dentist', 'importance': 0.11000999999999997, 'icon': 'https://nominatim.openstreetmap.org/ui/mapicons/health_dentist.p.20.png'}, {'place_id': 159010049, 'licence': 'Data © OpenStreetMap contributors, ODbL 1.0. https://osm.org/copyright', 'osm_type': 'way', 'osm_id': 216321416, 'boundingbox': ['47.6554929', '47.6555606', '-122.3367803', '-122.33638'], 'lat': '47.65552675', 'lon': '-122.33658015', 'display_name': 'Wallingford Dental Arts, 3941, Wallingford Avenue North, Wallingford, Seattle, King County, Washington, 98103, United States', 'place_rank': 30, 'category': 'amenity', 'type': 'dentist', 'importance': 0.11000999999999997, 'icon': 'https://nominatim.openstreetmap.org/ui/mapicons/health_dentist.p.20.png'}, {'place_id': 18625798, 'licence': 'Data © OpenStreetMap contributors, ODbL 1.0. https://osm.org/copyright', 'osm_type': 'node', 'osm_id': 2148525771, 'boundingbox': ['47.6363599', '47.6364599', '-122.357211', '-122.357111'], 'lat': '47.6364099', 'lon': '-122.357161', 'display_name': 'Queen Anne Dentistry, 1911, Queen Anne Avenue North, Queen Anne, Seattle, King County, Washington, 98109, United States', 'place_rank': 30, 'category': 'amenity', 'type': 'dentist', 'importance': 0.11000999999999997, 'icon': 'https://nominatim.openstreetmap.org/ui/mapicons/health_dentist.p.20.png'}, {'place_id': 81355906, 'licence': 'Data © OpenStreetMap contributors, ODbL 1.0. https://osm.org/copyright', 'osm_type': 'node', 'osm_id': 7949606807, 'boundingbox': ['47.6235584', '47.6236584', '-122.3071855', '-122.3070855'], 'lat': '47.6236084', 'lon': '-122.3071355', 'display_name': 'Country Doctor Dental Clinic, 510, 19th Avenue East, Madison Valley, Capitol Hill, Seattle, King County, Washington, 98112, United States', 'place_rank': 30, 'category': 'amenity', 'type': 'dentist', 'importance': 0.11000999999999997, 'icon': 'https://nominatim.openstreetmap.org/ui/mapicons/health_dentist.p.20.png'}, {'place_id': 160751626, 'licence': 'Data © OpenStreetMap contributors, ODbL 1.0. https://osm.org/copyright', 'osm_type': 'way', 'osm_id': 224037501, 'boundingbox': ['47.6615494', '47.6617451', '-122.3379222', '-122.3378136'], 'lat': '47.66161555', 'lon': '-122.33786787340982', 'display_name': 'Wallingford Family Dentistry, 1628, North 45th Street, Wallingford, Seattle, King County, Washington, 98103, United States', 'place_rank': 30, 'category': 'amenity', 'type': 'dentist', 'importance': 0.11000999999999997, 'icon': 'https://nominatim.openstreetmap.org/ui/mapicons/health_dentist.p.20.png'}]\n"
     ]
    }
   ],
   "source": [
    "url = \"https://nominatim.openstreetmap.org/search\"\n",
    "my_params = {'q' : \"dentists near Downtown Seattle\",\n",
    "             'format' : 'jsonv2',\n",
    "             'limit' : 50 }\n",
    "\n",
    "output = requests.get(url, params=my_params)\n",
    "\n",
    "if output.status_code == 200:\n",
    "    dentists = output.json()\n",
    "    print(dentists)\n",
    "else:\n",
    "    print(\"ERROR: request was not successful\")"
   ]
  },
  {
   "cell_type": "code",
   "execution_count": 118,
   "id": "3041f8cc",
   "metadata": {},
   "outputs": [
    {
     "data": {
      "text/plain": [
       "50"
      ]
     },
     "execution_count": 118,
     "metadata": {},
     "output_type": "execute_result"
    }
   ],
   "source": [
    "len(dentists)\n",
    "#more dentists neaar downtown. It can be more than 50 as well. "
   ]
  },
  {
   "cell_type": "code",
   "execution_count": 134,
   "id": "e2251f92",
   "metadata": {},
   "outputs": [
    {
     "name": "stdout",
     "output_type": "stream",
     "text": [
      "[{'place_id': 350259565, 'licence': 'Data © OpenStreetMap contributors, ODbL 1.0. https://osm.org/copyright', 'osm_type': 'way', 'osm_id': 80442501, 'boundingbox': ['28.5991855', '28.6011985', '77.225042', '77.228171'], 'lat': '28.6001354', 'lon': '77.22649064087364', 'display_name': 'Khan Market, Subramaniyam Bharti Marg, Rabindra Nagar, Chanakya Puri Tehsil, New Delhi, Delhi, 110003, India', 'place_rank': 30, 'category': 'tourism', 'type': 'attraction', 'importance': 0.001, 'icon': 'https://nominatim.openstreetmap.org/ui/mapicons/poi_point_of_interest.p.20.png'}]\n"
     ]
    }
   ],
   "source": [
    "#Solution 3\n",
    "#28.600096749369825, 77.2269107249279\n",
    "\n",
    "url = \"https://nominatim.openstreetmap.org/search\"\n",
    "my_params = {'q' : \"28.600096749369825 77.2269107249279\",\n",
    "             'format' : 'jsonv2' }\n",
    "\n",
    "output = requests.get(url, params=my_params)\n",
    "if output.status_code == 200:\n",
    "    fav_restaurant = output.json()\n",
    "    print(fav_restaurant)\n",
    "else:\n",
    "    print(\"ERROR: request was not successful\")"
   ]
  },
  {
   "cell_type": "code",
   "execution_count": 142,
   "id": "3cb7f0e0",
   "metadata": {},
   "outputs": [
    {
     "name": "stdout",
     "output_type": "stream",
     "text": [
      "[{'place_id': 279109110, 'licence': 'Data © OpenStreetMap contributors, ODbL 1.0. https://osm.org/copyright', 'osm_type': 'way', 'osm_id': 927851378, 'boundingbox': ['47.6894846', '47.689524', '-122.3173678', '-122.317017'], 'lat': '47.689524', 'lon': '-122.3173678', 'display_name': 'Roosevelt Way Northeast, Maple Leaf, Seattle, King County, Washington, 98115, United States', 'place_rank': 30, 'category': 'aerialway', 'type': 'zip_line', 'importance': 0.41009999999999996}, {'place_id': 276417939, 'licence': 'Data © OpenStreetMap contributors, ODbL 1.0. https://osm.org/copyright', 'osm_type': 'way', 'osm_id': 905634060, 'boundingbox': ['47.5786592', '47.578726', '-122.288848', '-122.288656'], 'lat': '47.578726', 'lon': '-122.288848', 'display_name': 'South McClellan Street, Mount Baker, Seattle, King County, Washington, 98144, United States', 'place_rank': 30, 'category': 'aerialway', 'type': 'zip_line', 'importance': 0.41009999999999996}]\n"
     ]
    }
   ],
   "source": [
    "url = \"https://nominatim.openstreetmap.org/search\"\n",
    "my_params = {'q' : \"[ziplines] in King County, Seattle\",\n",
    "             'format' : 'jsonv2',\n",
    "             'limit' : 50 }\n",
    "\n",
    "output = requests.get(url, params=my_params)\n",
    "\n",
    "if output.status_code == 200:\n",
    "    ziplines = output.json()\n",
    "    print(ziplines)\n",
    "else:\n",
    "    print(\"ERROR: request was not successful\")"
   ]
  },
  {
   "cell_type": "code",
   "execution_count": 141,
   "id": "1b8efad5",
   "metadata": {},
   "outputs": [
    {
     "data": {
      "text/plain": [
       "2"
      ]
     },
     "execution_count": 141,
     "metadata": {},
     "output_type": "execute_result"
    }
   ],
   "source": [
    "len(ziplines)"
   ]
  },
  {
   "cell_type": "code",
   "execution_count": 166,
   "id": "31b6a6f1",
   "metadata": {},
   "outputs": [
    {
     "data": {
      "text/plain": [
       "[{'place_id': 279109110,\n",
       "  'licence': 'Data © OpenStreetMap contributors, ODbL 1.0. https://osm.org/copyright',\n",
       "  'osm_type': 'way',\n",
       "  'osm_id': 927851378,\n",
       "  'boundingbox': ['47.6894846', '47.689524', '-122.3173678', '-122.317017'],\n",
       "  'lat': '47.689524',\n",
       "  'lon': '-122.3173678',\n",
       "  'display_name': 'Roosevelt Way Northeast, Maple Leaf, Seattle, King County, Washington, 98115, United States',\n",
       "  'place_rank': 30,\n",
       "  'category': 'aerialway',\n",
       "  'type': 'zip_line',\n",
       "  'importance': 0.41009999999999996},\n",
       " {'place_id': 276417939,\n",
       "  'licence': 'Data © OpenStreetMap contributors, ODbL 1.0. https://osm.org/copyright',\n",
       "  'osm_type': 'way',\n",
       "  'osm_id': 905634060,\n",
       "  'boundingbox': ['47.5786592', '47.578726', '-122.288848', '-122.288656'],\n",
       "  'lat': '47.578726',\n",
       "  'lon': '-122.288848',\n",
       "  'display_name': 'South McClellan Street, Mount Baker, Seattle, King County, Washington, 98144, United States',\n",
       "  'place_rank': 30,\n",
       "  'category': 'aerialway',\n",
       "  'type': 'zip_line',\n",
       "  'importance': 0.41009999999999996}]"
      ]
     },
     "execution_count": 166,
     "metadata": {},
     "output_type": "execute_result"
    }
   ],
   "source": [
    "ziplines"
   ]
  },
  {
   "cell_type": "code",
   "execution_count": 172,
   "id": "b8933c49",
   "metadata": {},
   "outputs": [
    {
     "name": "stdout",
     "output_type": "stream",
     "text": [
      "[{'place_id': 20070400, 'licence': 'Data © OpenStreetMap contributors, ODbL 1.0. https://osm.org/copyright', 'osm_type': 'node', 'osm_id': 2302550697, 'boundingbox': ['47.6922172', '47.6923172', '-122.3180505', '-122.3179505'], 'lat': '47.6922672', 'lon': '-122.3180005', 'display_name': 'Cloud City Coffee, 8801, Roosevelt Way Northeast, Maple Leaf, Seattle, King County, Washington, 98115, United States', 'place_rank': 30, 'category': 'amenity', 'type': 'cafe', 'importance': 1.3300100000000001, 'icon': 'https://nominatim.openstreetmap.org/ui/mapicons/food_cafe.p.20.png'}]\n",
      "[]\n"
     ]
    }
   ],
   "source": [
    "for zipline in ziplines:\n",
    "    address = str(zipline['display_name'])\n",
    "    my_params = {'q' : \"coffee \" + address,\n",
    "             'format' : 'jsonv2',\n",
    "             'limit' : 1 }\n",
    "    output = requests.get(url, params=my_params)\n",
    "\n",
    "    if output.status_code == 200:\n",
    "        nearest_coffee_shops = output.json()\n",
    "        print(nearest_coffee_shops)\n",
    "    else:\n",
    "        print(\"ERROR: request was not successful\")"
   ]
  },
  {
   "cell_type": "code",
   "execution_count": 144,
   "id": "3dfa0feb",
   "metadata": {},
   "outputs": [
    {
     "name": "stdout",
     "output_type": "stream",
     "text": [
      "[{'place_id': 299365566, 'licence': 'Data © OpenStreetMap contributors, ODbL 1.0. https://osm.org/copyright', 'osm_type': 'relation', 'osm_id': 9994114, 'boundingbox': ['47.6165074', '47.6184599', '-122.3369693', '-122.3344529'], 'lat': '47.61680045', 'lon': '-122.33586595', 'display_name': 'Cornish College of the Arts, Terry Avenue, South Lake Union, First Hill, Seattle, King County, Washington, 98191, United States', 'place_rank': 30, 'category': 'amenity', 'type': 'college', 'importance': 0.34987195748066746, 'icon': 'https://nominatim.openstreetmap.org/ui/mapicons/education_school.p.20.png'}, {'place_id': 119987411, 'licence': 'Data © OpenStreetMap contributors, ODbL 1.0. https://osm.org/copyright', 'osm_type': 'way', 'osm_id': 55696671, 'boundingbox': ['47.5817895', '47.5891018', '-122.153762', '-122.1429557'], 'lat': '47.585121599999994', 'lon': '-122.14695953894167', 'display_name': 'Bellevue College, 3000, Landerholm Circle Southeast, Eastgate, Bellevue, King County, Washington, 98007, United States', 'place_rank': 30, 'category': 'amenity', 'type': 'college', 'importance': 0.3193657532333713, 'icon': 'https://nominatim.openstreetmap.org/ui/mapicons/education_school.p.20.png'}, {'place_id': 298819040, 'licence': 'Data © OpenStreetMap contributors, ODbL 1.0. https://osm.org/copyright', 'osm_type': 'relation', 'osm_id': 5630067, 'boundingbox': ['47.7281837', '47.7331398', '-122.2531433', '-122.2452277'], 'lat': '47.730512899999994', 'lon': '-122.25029283292629', 'display_name': 'Bastyr University, Holmes Point Drive Northeast, Kenmore, King County, Washington, 98028, United States', 'place_rank': 30, 'category': 'amenity', 'type': 'college', 'importance': 0.294548847777872, 'icon': 'https://nominatim.openstreetmap.org/ui/mapicons/education_school.p.20.png'}, {'place_id': 21752165, 'licence': 'Data © OpenStreetMap contributors, ODbL 1.0. https://osm.org/copyright', 'osm_type': 'node', 'osm_id': 2439830827, 'boundingbox': ['47.6548977', '47.6549977', '-122.312439', '-122.312339'], 'lat': '47.6549477', 'lon': '-122.312389', 'display_name': 'UW College of Built Environments, 3949, 15th Avenue Northeast, West Campus, University District, Seattle, King County, Washington, 98105, United States', 'place_rank': 30, 'category': 'amenity', 'type': 'college', 'importance': 0.29190327427879, 'icon': 'https://nominatim.openstreetmap.org/ui/mapicons/education_school.p.20.png'}, {'place_id': 145418337, 'licence': 'Data © OpenStreetMap contributors, ODbL 1.0. https://osm.org/copyright', 'osm_type': 'way', 'osm_id': 169786833, 'boundingbox': ['47.6141657', '47.6181591', '-122.3233445', '-122.3201037'], 'lat': '47.61619055', 'lon': '-122.32149768795851', 'display_name': 'Seattle Central College, East Howell Street, Capitol Hill, Seattle, King County, Washington, 98191, United States', 'place_rank': 30, 'category': 'amenity', 'type': 'college', 'importance': 0.270074815609084, 'icon': 'https://nominatim.openstreetmap.org/ui/mapicons/education_school.p.20.png'}, {'place_id': 299018844, 'licence': 'Data © OpenStreetMap contributors, ODbL 1.0. https://osm.org/copyright', 'osm_type': 'relation', 'osm_id': 6038741, 'boundingbox': ['47.702388', '47.7076228', '-122.1701039', '-122.1645566'], 'lat': '47.7047684', 'lon': '-122.16732844735998', 'display_name': 'Lake Washington Institute of Technology, 11605, 132nd Avenue Northeast, Firloch, Kirkland, King County, Washington, 98034, United States', 'place_rank': 30, 'category': 'amenity', 'type': 'college', 'importance': 0.26851441835616036, 'icon': 'https://nominatim.openstreetmap.org/ui/mapicons/education_school.p.20.png'}, {'place_id': 20277018, 'licence': 'Data © OpenStreetMap contributors, ODbL 1.0. https://osm.org/copyright', 'osm_type': 'node', 'osm_id': 2327652090, 'boundingbox': ['47.6176584', '47.6177584', '-122.3445124', '-122.3444124'], 'lat': '47.6177084', 'lon': '-122.3444624', 'display_name': 'City University of Seattle, 521, Wall Street, South Lake Union, Belltown, Seattle, King County, Washington, 98121, United States', 'place_rank': 30, 'category': 'amenity', 'type': 'college', 'importance': 0.2582184742933953, 'icon': 'https://nominatim.openstreetmap.org/ui/mapicons/education_school.p.20.png'}, {'place_id': 103327928, 'licence': 'Data © OpenStreetMap contributors, ODbL 1.0. https://osm.org/copyright', 'osm_type': 'way', 'osm_id': 9408762, 'boundingbox': ['47.6959864', '47.7031582', '-122.3349353', '-122.3298541'], 'lat': '47.69870805', 'lon': '-122.33255180132647', 'display_name': 'North Seattle College, 9600, College Way North, Licton Springs, Maple Leaf, Seattle, King County, Washington, 98103, United States', 'place_rank': 30, 'category': 'amenity', 'type': 'college', 'importance': 0.25632194313709217, 'icon': 'https://nominatim.openstreetmap.org/ui/mapicons/education_school.p.20.png'}, {'place_id': 113207576, 'licence': 'Data © OpenStreetMap contributors, ODbL 1.0. https://osm.org/copyright', 'osm_type': 'way', 'osm_id': 31706483, 'boundingbox': ['47.5448765', '47.5518401', '-122.3546253', '-122.3492219'], 'lat': '47.548193299999994', 'lon': '-122.35233908228187', 'display_name': 'South Seattle College, 6000, 16th Avenue Southwest, Delridge, Seattle, King County, Washington, 98106, United States', 'place_rank': 30, 'category': 'amenity', 'type': 'college', 'importance': 0.24469861684138924, 'icon': 'https://nominatim.openstreetmap.org/ui/mapicons/education_school.p.20.png'}, {'place_id': 68745701, 'licence': 'Data © OpenStreetMap contributors, ODbL 1.0. https://osm.org/copyright', 'osm_type': 'node', 'osm_id': 6440063074, 'boundingbox': ['47.6217874', '47.6218874', '-122.3505871', '-122.3504871'], 'lat': '47.6218374', 'lon': '-122.3505371', 'display_name': 'Academy of Interactive Entertainment, 305, Harrison Street, Uptown, Belltown, Seattle, King County, Washington, 98109, United States', 'place_rank': 30, 'category': 'amenity', 'type': 'college', 'importance': 0.23729383463160691, 'icon': 'https://nominatim.openstreetmap.org/ui/mapicons/education_school.p.20.png'}, {'place_id': 188154379, 'licence': 'Data © OpenStreetMap contributors, ODbL 1.0. https://osm.org/copyright', 'osm_type': 'way', 'osm_id': 342786695, 'boundingbox': ['47.5994914', '47.6002831', '-122.3042098', '-122.3033733'], 'lat': '47.60002405', 'lon': '-122.30376308697222', 'display_name': 'Seattle Vocational Institute, 2120, South Jackson Street, Little Saigon, Central District, Seattle, King County, Washington, 98144, United States', 'place_rank': 30, 'category': 'amenity', 'type': 'college', 'importance': 0.23322868681886538, 'icon': 'https://nominatim.openstreetmap.org/ui/mapicons/education_school.p.20.png'}, {'place_id': 197735727, 'licence': 'Data © OpenStreetMap contributors, ODbL 1.0. https://osm.org/copyright', 'osm_type': 'way', 'osm_id': 397007181, 'boundingbox': ['47.6131121', '47.6135231', '-122.3512647', '-122.3506657'], 'lat': '47.6133176', 'lon': '-122.35096519999999', 'display_name': 'The Seattle School of Theology and Psychology, 2501, Elliott Avenue, Belltown, Seattle, King County, Washington, 98121, United States', 'place_rank': 30, 'category': 'amenity', 'type': 'college', 'importance': 0.181472839091896, 'icon': 'https://nominatim.openstreetmap.org/ui/mapicons/education_school.p.20.png'}, {'place_id': 44912351, 'licence': 'Data © OpenStreetMap contributors, ODbL 1.0. https://osm.org/copyright', 'osm_type': 'node', 'osm_id': 3771319445, 'boundingbox': ['47.6186433', '47.6187433', '-122.3465842', '-122.3464842'], 'lat': '47.6186933', 'lon': '-122.3465342', 'display_name': 'Emerald City School, Denny Way, Uptown, Belltown, Seattle, King County, Washington, 98121, United States', 'place_rank': 30, 'category': 'amenity', 'type': 'college', 'importance': 9.99999999995449e-06, 'icon': 'https://nominatim.openstreetmap.org/ui/mapicons/education_school.p.20.png'}, {'place_id': 99262947, 'licence': 'Data © OpenStreetMap contributors, ODbL 1.0. https://osm.org/copyright', 'osm_type': 'node', 'osm_id': 9837120513, 'boundingbox': ['47.6992497', '47.6993497', '-122.327443', '-122.327343'], 'lat': '47.6992997', 'lon': '-122.327393', 'display_name': 'Pima Medical Institute, 9709, 3rd Avenue Northeast, Maple Leaf, Seattle, King County, Washington, 98115, United States', 'place_rank': 30, 'category': 'amenity', 'type': 'college', 'importance': 9.99999999995449e-06, 'icon': 'https://nominatim.openstreetmap.org/ui/mapicons/education_school.p.20.png'}, {'place_id': 12668666, 'licence': 'Data © OpenStreetMap contributors, ODbL 1.0. https://osm.org/copyright', 'osm_type': 'node', 'osm_id': 1313743670, 'boundingbox': ['47.6475548', '47.6476548', '-122.3408849', '-122.3407849'], 'lat': '47.6476048', 'lon': '-122.3408349', 'display_name': 'Divers Institute of Technology, 1341, North Northlake Way, Fremont, Seattle, King County, Washington, 98103, United States', 'place_rank': 30, 'category': 'amenity', 'type': 'college', 'importance': 9.99999999995449e-06, 'icon': 'https://nominatim.openstreetmap.org/ui/mapicons/education_school.p.20.png'}, {'place_id': 10056907, 'licence': 'Data © OpenStreetMap contributors, ODbL 1.0. https://osm.org/copyright', 'osm_type': 'node', 'osm_id': 1099460871, 'boundingbox': ['47.6779951', '47.6780951', '-122.323528', '-122.323428'], 'lat': '47.6780451', 'lon': '-122.323478', 'display_name': 'Seattle Institute of Oriental Medicine, 444, Northeast Ravenna Boulevard, Meridian, Green Lake, Seattle, King County, Washington, 98115, United States', 'place_rank': 30, 'category': 'amenity', 'type': 'college', 'importance': 9.99999999995449e-06, 'icon': 'https://nominatim.openstreetmap.org/ui/mapicons/education_school.p.20.png'}, {'place_id': 186303931, 'licence': 'Data © OpenStreetMap contributors, ODbL 1.0. https://osm.org/copyright', 'osm_type': 'way', 'osm_id': 336485971, 'boundingbox': ['47.5965599', '47.5978044', '-122.3021181', '-122.3013024'], 'lat': '47.59718215', 'lon': '-122.3017103499598', 'display_name': 'Seattle Central College Wood Technology Center, 2310, South Lane Street, Central District, Seattle, King County, Washington, 98144, United States', 'place_rank': 30, 'category': 'amenity', 'type': 'college', 'importance': 9.99999999995449e-06, 'icon': 'https://nominatim.openstreetmap.org/ui/mapicons/education_school.p.20.png'}, {'place_id': 20101117, 'licence': 'Data © OpenStreetMap contributors, ODbL 1.0. https://osm.org/copyright', 'osm_type': 'node', 'osm_id': 2312065990, 'boundingbox': ['47.6229701', '47.6230701', '-122.3374046', '-122.3373046'], 'lat': '47.6230201', 'lon': '-122.3373546', 'display_name': 'Northeastern University, 401, Terry Avenue North, South Lake Union, Belltown, Seattle, King County, Washington, 98109, United States', 'place_rank': 30, 'category': 'amenity', 'type': 'college', 'importance': 9.99999999995449e-06, 'icon': 'https://nominatim.openstreetmap.org/ui/mapicons/education_school.p.20.png'}, {'place_id': 164983833, 'licence': 'Data © OpenStreetMap contributors, ODbL 1.0. https://osm.org/copyright', 'osm_type': 'way', 'osm_id': 239827006, 'boundingbox': ['47.61564', '47.6162752', '-122.3467899', '-122.3457922'], 'lat': '47.6159398', 'lon': '-122.3462752444464', 'display_name': 'Antioch University, 2400, 3rd Avenue, Uptown, Belltown, Seattle, King County, Washington, 98121, United States', 'place_rank': 30, 'category': 'amenity', 'type': 'college', 'importance': 9.99999999995449e-06, 'icon': 'https://nominatim.openstreetmap.org/ui/mapicons/education_school.p.20.png'}, {'place_id': 203132927, 'licence': 'Data © OpenStreetMap contributors, ODbL 1.0. https://osm.org/copyright', 'osm_type': 'way', 'osm_id': 430427474, 'boundingbox': ['47.5406943', '47.5436618', '-122.3278682', '-122.3231036'], 'lat': '47.5421533', 'lon': '-122.32476070599505', 'display_name': 'South Seattle Community College Georgetown Campus, 6737, Corson Avenue South, Van Asselt, Georgetown, Seattle, King County, Washington, 98108, United States', 'place_rank': 30, 'category': 'amenity', 'type': 'college', 'importance': 9.99999999995449e-06, 'icon': 'https://nominatim.openstreetmap.org/ui/mapicons/education_school.p.20.png'}, {'place_id': 58292313, 'licence': 'Data © OpenStreetMap contributors, ODbL 1.0. https://osm.org/copyright', 'osm_type': 'node', 'osm_id': 5366985027, 'boundingbox': ['47.6120172', '47.6121172', '-122.1903415', '-122.1902415'], 'lat': '47.6120672', 'lon': '-122.1902915', 'display_name': 'Washington Technology University, Northeast 2nd Street, Midlakes, Bellevue, King County, Washington, 98009, United States', 'place_rank': 30, 'category': 'amenity', 'type': 'college', 'importance': 9.99999999995449e-06, 'icon': 'https://nominatim.openstreetmap.org/ui/mapicons/education_school.p.20.png'}, {'place_id': 116794522, 'licence': 'Data © OpenStreetMap contributors, ODbL 1.0. https://osm.org/copyright', 'osm_type': 'way', 'osm_id': 42942843, 'boundingbox': ['47.6884198', '47.6893772', '-122.150986', '-122.1499626'], 'lat': '47.68889435', 'lon': '-122.15067316860838', 'display_name': 'Digipen Institute of Technology, 9931, Willows Road Northeast, Earlmont, Redmond, King County, Washington, 98052, United States', 'place_rank': 30, 'category': 'amenity', 'type': 'college', 'importance': 9.99999999995449e-06, 'icon': 'https://nominatim.openstreetmap.org/ui/mapicons/education_school.p.20.png'}]\n"
     ]
    }
   ],
   "source": [
    "#-122.60056,47.73844,-121.87271,47.51260 - Seattle\n",
    "\n",
    "url = \"https://nominatim.openstreetmap.org/search\"\n",
    "my_params = {'q' : \"[college]\",\n",
    "             'format' : 'jsonv2',\n",
    "             'viewbox' : '-122.60056,47.73844,-121.87271,47.51260',\n",
    "             'bounded' : 1,\n",
    "             'limit' : 50 }\n",
    "\n",
    "response = requests.get(url, params=my_params)\n",
    "\n",
    "if response.status_code == 200:\n",
    "    colleges = response.json()\n",
    "    print(colleges)\n",
    "else:\n",
    "    print(\"ERROR: request was not successfully\")"
   ]
  },
  {
   "cell_type": "code",
   "execution_count": 145,
   "id": "1126a187",
   "metadata": {},
   "outputs": [
    {
     "name": "stdout",
     "output_type": "stream",
     "text": [
      "Cornish College of the Arts, Terry Avenue, South Lake Union, First Hill, Seattle, King County, Washington, 98191, United States\n",
      "Bellevue College, 3000, Landerholm Circle Southeast, Eastgate, Bellevue, King County, Washington, 98007, United States\n",
      "Bastyr University, Holmes Point Drive Northeast, Kenmore, King County, Washington, 98028, United States\n",
      "UW College of Built Environments, 3949, 15th Avenue Northeast, West Campus, University District, Seattle, King County, Washington, 98105, United States\n",
      "Seattle Central College, East Howell Street, Capitol Hill, Seattle, King County, Washington, 98191, United States\n",
      "Lake Washington Institute of Technology, 11605, 132nd Avenue Northeast, Firloch, Kirkland, King County, Washington, 98034, United States\n",
      "City University of Seattle, 521, Wall Street, South Lake Union, Belltown, Seattle, King County, Washington, 98121, United States\n",
      "North Seattle College, 9600, College Way North, Licton Springs, Maple Leaf, Seattle, King County, Washington, 98103, United States\n",
      "South Seattle College, 6000, 16th Avenue Southwest, Delridge, Seattle, King County, Washington, 98106, United States\n",
      "Academy of Interactive Entertainment, 305, Harrison Street, Uptown, Belltown, Seattle, King County, Washington, 98109, United States\n",
      "Seattle Vocational Institute, 2120, South Jackson Street, Little Saigon, Central District, Seattle, King County, Washington, 98144, United States\n",
      "The Seattle School of Theology and Psychology, 2501, Elliott Avenue, Belltown, Seattle, King County, Washington, 98121, United States\n",
      "Emerald City School, Denny Way, Uptown, Belltown, Seattle, King County, Washington, 98121, United States\n",
      "Pima Medical Institute, 9709, 3rd Avenue Northeast, Maple Leaf, Seattle, King County, Washington, 98115, United States\n",
      "Divers Institute of Technology, 1341, North Northlake Way, Fremont, Seattle, King County, Washington, 98103, United States\n",
      "Seattle Institute of Oriental Medicine, 444, Northeast Ravenna Boulevard, Meridian, Green Lake, Seattle, King County, Washington, 98115, United States\n",
      "Seattle Central College Wood Technology Center, 2310, South Lane Street, Central District, Seattle, King County, Washington, 98144, United States\n",
      "Northeastern University, 401, Terry Avenue North, South Lake Union, Belltown, Seattle, King County, Washington, 98109, United States\n",
      "Antioch University, 2400, 3rd Avenue, Uptown, Belltown, Seattle, King County, Washington, 98121, United States\n",
      "South Seattle Community College Georgetown Campus, 6737, Corson Avenue South, Van Asselt, Georgetown, Seattle, King County, Washington, 98108, United States\n",
      "Washington Technology University, Northeast 2nd Street, Midlakes, Bellevue, King County, Washington, 98009, United States\n",
      "Digipen Institute of Technology, 9931, Willows Road Northeast, Earlmont, Redmond, King County, Washington, 98052, United States\n"
     ]
    }
   ],
   "source": [
    "for college in colleges:\n",
    "    print(college['display_name'])"
   ]
  },
  {
   "cell_type": "code",
   "execution_count": 146,
   "id": "efd118f7",
   "metadata": {},
   "outputs": [
    {
     "data": {
      "text/plain": [
       "22"
      ]
     },
     "execution_count": 146,
     "metadata": {},
     "output_type": "execute_result"
    }
   ],
   "source": [
    "len(colleges)"
   ]
  },
  {
   "cell_type": "code",
   "execution_count": 149,
   "id": "f1af7969",
   "metadata": {},
   "outputs": [
    {
     "name": "stdout",
     "output_type": "stream",
     "text": [
      "[{'place_id': 299365566, 'licence': 'Data © OpenStreetMap contributors, ODbL 1.0. https://osm.org/copyright', 'osm_type': 'relation', 'osm_id': 9994114, 'boundingbox': ['47.6165074', '47.6184599', '-122.3369693', '-122.3344529'], 'lat': '47.61680045', 'lon': '-122.33586595', 'display_name': 'Cornish College of the Arts, Terry Avenue, South Lake Union, First Hill, Seattle, King County, Washington, 98191, United States', 'place_rank': 30, 'category': 'amenity', 'type': 'college', 'importance': 0.34987195748066746, 'icon': 'https://nominatim.openstreetmap.org/ui/mapicons/education_school.p.20.png', 'address': {'amenity': 'Cornish College of the Arts', 'road': 'Terry Avenue', 'neighbourhood': 'South Lake Union', 'suburb': 'First Hill', 'city': 'Seattle', 'county': 'King County', 'state': 'Washington', 'ISO3166-2-lvl4': 'US-WA', 'postcode': '98191', 'country': 'United States', 'country_code': 'us'}}, {'place_id': 119987411, 'licence': 'Data © OpenStreetMap contributors, ODbL 1.0. https://osm.org/copyright', 'osm_type': 'way', 'osm_id': 55696671, 'boundingbox': ['47.5817895', '47.5891018', '-122.153762', '-122.1429557'], 'lat': '47.585121599999994', 'lon': '-122.14695953894167', 'display_name': 'Bellevue College, 3000, Landerholm Circle Southeast, Eastgate, Bellevue, King County, Washington, 98007, United States', 'place_rank': 30, 'category': 'amenity', 'type': 'college', 'importance': 0.3193657532333713, 'icon': 'https://nominatim.openstreetmap.org/ui/mapicons/education_school.p.20.png', 'address': {'amenity': 'Bellevue College', 'house_number': '3000', 'road': 'Landerholm Circle Southeast', 'suburb': 'Eastgate', 'city': 'Bellevue', 'county': 'King County', 'state': 'Washington', 'ISO3166-2-lvl4': 'US-WA', 'postcode': '98007', 'country': 'United States', 'country_code': 'us'}}, {'place_id': 298819040, 'licence': 'Data © OpenStreetMap contributors, ODbL 1.0. https://osm.org/copyright', 'osm_type': 'relation', 'osm_id': 5630067, 'boundingbox': ['47.7281837', '47.7331398', '-122.2531433', '-122.2452277'], 'lat': '47.730512899999994', 'lon': '-122.25029283292629', 'display_name': 'Bastyr University, Holmes Point Drive Northeast, Kenmore, King County, Washington, 98028, United States', 'place_rank': 30, 'category': 'amenity', 'type': 'college', 'importance': 0.294548847777872, 'icon': 'https://nominatim.openstreetmap.org/ui/mapicons/education_school.p.20.png', 'address': {'amenity': 'Bastyr University', 'road': 'Holmes Point Drive Northeast', 'town': 'Kenmore', 'county': 'King County', 'state': 'Washington', 'ISO3166-2-lvl4': 'US-WA', 'postcode': '98028', 'country': 'United States', 'country_code': 'us'}}, {'place_id': 21752165, 'licence': 'Data © OpenStreetMap contributors, ODbL 1.0. https://osm.org/copyright', 'osm_type': 'node', 'osm_id': 2439830827, 'boundingbox': ['47.6548977', '47.6549977', '-122.312439', '-122.312339'], 'lat': '47.6549477', 'lon': '-122.312389', 'display_name': 'UW College of Built Environments, 3949, 15th Avenue Northeast, West Campus, University District, Seattle, King County, Washington, 98105, United States', 'place_rank': 30, 'category': 'amenity', 'type': 'college', 'importance': 0.29190327427879, 'icon': 'https://nominatim.openstreetmap.org/ui/mapicons/education_school.p.20.png', 'address': {'amenity': 'UW College of Built Environments', 'house_number': '3949', 'road': '15th Avenue Northeast', 'neighbourhood': 'West Campus', 'suburb': 'University District', 'city': 'Seattle', 'county': 'King County', 'state': 'Washington', 'ISO3166-2-lvl4': 'US-WA', 'postcode': '98105', 'country': 'United States', 'country_code': 'us'}}, {'place_id': 145418337, 'licence': 'Data © OpenStreetMap contributors, ODbL 1.0. https://osm.org/copyright', 'osm_type': 'way', 'osm_id': 169786833, 'boundingbox': ['47.6141657', '47.6181591', '-122.3233445', '-122.3201037'], 'lat': '47.61619055', 'lon': '-122.32149768795851', 'display_name': 'Seattle Central College, East Howell Street, Capitol Hill, Seattle, King County, Washington, 98191, United States', 'place_rank': 30, 'category': 'amenity', 'type': 'college', 'importance': 0.270074815609084, 'icon': 'https://nominatim.openstreetmap.org/ui/mapicons/education_school.p.20.png', 'address': {'amenity': 'Seattle Central College', 'road': 'East Howell Street', 'suburb': 'Capitol Hill', 'city': 'Seattle', 'county': 'King County', 'state': 'Washington', 'ISO3166-2-lvl4': 'US-WA', 'postcode': '98191', 'country': 'United States', 'country_code': 'us'}}, {'place_id': 299018844, 'licence': 'Data © OpenStreetMap contributors, ODbL 1.0. https://osm.org/copyright', 'osm_type': 'relation', 'osm_id': 6038741, 'boundingbox': ['47.702388', '47.7076228', '-122.1701039', '-122.1645566'], 'lat': '47.7047684', 'lon': '-122.16732844735998', 'display_name': 'Lake Washington Institute of Technology, 11605, 132nd Avenue Northeast, Firloch, Kirkland, King County, Washington, 98034, United States', 'place_rank': 30, 'category': 'amenity', 'type': 'college', 'importance': 0.26851441835616036, 'icon': 'https://nominatim.openstreetmap.org/ui/mapicons/education_school.p.20.png', 'address': {'amenity': 'Lake Washington Institute of Technology', 'house_number': '11605', 'road': '132nd Avenue Northeast', 'hamlet': 'Firloch', 'town': 'Kirkland', 'county': 'King County', 'state': 'Washington', 'ISO3166-2-lvl4': 'US-WA', 'postcode': '98034', 'country': 'United States', 'country_code': 'us'}}, {'place_id': 20277018, 'licence': 'Data © OpenStreetMap contributors, ODbL 1.0. https://osm.org/copyright', 'osm_type': 'node', 'osm_id': 2327652090, 'boundingbox': ['47.6176584', '47.6177584', '-122.3445124', '-122.3444124'], 'lat': '47.6177084', 'lon': '-122.3444624', 'display_name': 'City University of Seattle, 521, Wall Street, South Lake Union, Belltown, Seattle, King County, Washington, 98121, United States', 'place_rank': 30, 'category': 'amenity', 'type': 'college', 'importance': 0.2582184742933953, 'icon': 'https://nominatim.openstreetmap.org/ui/mapicons/education_school.p.20.png', 'address': {'amenity': 'City University of Seattle', 'house_number': '521', 'road': 'Wall Street', 'neighbourhood': 'South Lake Union', 'suburb': 'Belltown', 'city': 'Seattle', 'county': 'King County', 'state': 'Washington', 'ISO3166-2-lvl4': 'US-WA', 'postcode': '98121', 'country': 'United States', 'country_code': 'us'}}, {'place_id': 103327928, 'licence': 'Data © OpenStreetMap contributors, ODbL 1.0. https://osm.org/copyright', 'osm_type': 'way', 'osm_id': 9408762, 'boundingbox': ['47.6959864', '47.7031582', '-122.3349353', '-122.3298541'], 'lat': '47.69870805', 'lon': '-122.33255180132647', 'display_name': 'North Seattle College, 9600, College Way North, Licton Springs, Maple Leaf, Seattle, King County, Washington, 98103, United States', 'place_rank': 30, 'category': 'amenity', 'type': 'college', 'importance': 0.25632194313709217, 'icon': 'https://nominatim.openstreetmap.org/ui/mapicons/education_school.p.20.png', 'address': {'amenity': 'North Seattle College', 'house_number': '9600', 'road': 'College Way North', 'neighbourhood': 'Licton Springs', 'suburb': 'Maple Leaf', 'city': 'Seattle', 'county': 'King County', 'state': 'Washington', 'ISO3166-2-lvl4': 'US-WA', 'postcode': '98103', 'country': 'United States', 'country_code': 'us'}}, {'place_id': 113207576, 'licence': 'Data © OpenStreetMap contributors, ODbL 1.0. https://osm.org/copyright', 'osm_type': 'way', 'osm_id': 31706483, 'boundingbox': ['47.5448765', '47.5518401', '-122.3546253', '-122.3492219'], 'lat': '47.548193299999994', 'lon': '-122.35233908228187', 'display_name': 'South Seattle College, 6000, 16th Avenue Southwest, Delridge, Seattle, King County, Washington, 98106, United States', 'place_rank': 30, 'category': 'amenity', 'type': 'college', 'importance': 0.24469861684138924, 'icon': 'https://nominatim.openstreetmap.org/ui/mapicons/education_school.p.20.png', 'address': {'amenity': 'South Seattle College', 'house_number': '6000', 'road': '16th Avenue Southwest', 'suburb': 'Delridge', 'city': 'Seattle', 'county': 'King County', 'state': 'Washington', 'ISO3166-2-lvl4': 'US-WA', 'postcode': '98106', 'country': 'United States', 'country_code': 'us'}}, {'place_id': 68745701, 'licence': 'Data © OpenStreetMap contributors, ODbL 1.0. https://osm.org/copyright', 'osm_type': 'node', 'osm_id': 6440063074, 'boundingbox': ['47.6217874', '47.6218874', '-122.3505871', '-122.3504871'], 'lat': '47.6218374', 'lon': '-122.3505371', 'display_name': 'Academy of Interactive Entertainment, 305, Harrison Street, Uptown, Belltown, Seattle, King County, Washington, 98109, United States', 'place_rank': 30, 'category': 'amenity', 'type': 'college', 'importance': 0.23729383463160691, 'icon': 'https://nominatim.openstreetmap.org/ui/mapicons/education_school.p.20.png', 'address': {'amenity': 'Academy of Interactive Entertainment', 'house_number': '305', 'road': 'Harrison Street', 'neighbourhood': 'Uptown', 'suburb': 'Belltown', 'city': 'Seattle', 'county': 'King County', 'state': 'Washington', 'ISO3166-2-lvl4': 'US-WA', 'postcode': '98109', 'country': 'United States', 'country_code': 'us'}}, {'place_id': 188154379, 'licence': 'Data © OpenStreetMap contributors, ODbL 1.0. https://osm.org/copyright', 'osm_type': 'way', 'osm_id': 342786695, 'boundingbox': ['47.5994914', '47.6002831', '-122.3042098', '-122.3033733'], 'lat': '47.60002405', 'lon': '-122.30376308697222', 'display_name': 'Seattle Vocational Institute, 2120, South Jackson Street, Little Saigon, Central District, Seattle, King County, Washington, 98144, United States', 'place_rank': 30, 'category': 'amenity', 'type': 'college', 'importance': 0.23322868681886538, 'icon': 'https://nominatim.openstreetmap.org/ui/mapicons/education_school.p.20.png', 'address': {'amenity': 'Seattle Vocational Institute', 'house_number': '2120', 'road': 'South Jackson Street', 'neighbourhood': 'Little Saigon', 'suburb': 'Central District', 'city': 'Seattle', 'county': 'King County', 'state': 'Washington', 'ISO3166-2-lvl4': 'US-WA', 'postcode': '98144', 'country': 'United States', 'country_code': 'us'}}, {'place_id': 197735727, 'licence': 'Data © OpenStreetMap contributors, ODbL 1.0. https://osm.org/copyright', 'osm_type': 'way', 'osm_id': 397007181, 'boundingbox': ['47.6131121', '47.6135231', '-122.3512647', '-122.3506657'], 'lat': '47.6133176', 'lon': '-122.35096519999999', 'display_name': 'The Seattle School of Theology and Psychology, 2501, Elliott Avenue, Belltown, Seattle, King County, Washington, 98121, United States', 'place_rank': 30, 'category': 'amenity', 'type': 'college', 'importance': 0.181472839091896, 'icon': 'https://nominatim.openstreetmap.org/ui/mapicons/education_school.p.20.png', 'address': {'amenity': 'The Seattle School of Theology and Psychology', 'house_number': '2501', 'road': 'Elliott Avenue', 'suburb': 'Belltown', 'city': 'Seattle', 'county': 'King County', 'state': 'Washington', 'ISO3166-2-lvl4': 'US-WA', 'postcode': '98121', 'country': 'United States', 'country_code': 'us'}}, {'place_id': 44912351, 'licence': 'Data © OpenStreetMap contributors, ODbL 1.0. https://osm.org/copyright', 'osm_type': 'node', 'osm_id': 3771319445, 'boundingbox': ['47.6186433', '47.6187433', '-122.3465842', '-122.3464842'], 'lat': '47.6186933', 'lon': '-122.3465342', 'display_name': 'Emerald City School, Denny Way, Uptown, Belltown, Seattle, King County, Washington, 98121, United States', 'place_rank': 30, 'category': 'amenity', 'type': 'college', 'importance': 9.99999999995449e-06, 'icon': 'https://nominatim.openstreetmap.org/ui/mapicons/education_school.p.20.png', 'address': {'amenity': 'Emerald City School', 'road': 'Denny Way', 'neighbourhood': 'Uptown', 'suburb': 'Belltown', 'city': 'Seattle', 'county': 'King County', 'state': 'Washington', 'ISO3166-2-lvl4': 'US-WA', 'postcode': '98121', 'country': 'United States', 'country_code': 'us'}}, {'place_id': 99262947, 'licence': 'Data © OpenStreetMap contributors, ODbL 1.0. https://osm.org/copyright', 'osm_type': 'node', 'osm_id': 9837120513, 'boundingbox': ['47.6992497', '47.6993497', '-122.327443', '-122.327343'], 'lat': '47.6992997', 'lon': '-122.327393', 'display_name': 'Pima Medical Institute, 9709, 3rd Avenue Northeast, Maple Leaf, Seattle, King County, Washington, 98115, United States', 'place_rank': 30, 'category': 'amenity', 'type': 'college', 'importance': 9.99999999995449e-06, 'icon': 'https://nominatim.openstreetmap.org/ui/mapicons/education_school.p.20.png', 'address': {'amenity': 'Pima Medical Institute', 'house_number': '9709', 'road': '3rd Avenue Northeast', 'suburb': 'Maple Leaf', 'city': 'Seattle', 'county': 'King County', 'state': 'Washington', 'ISO3166-2-lvl4': 'US-WA', 'postcode': '98115', 'country': 'United States', 'country_code': 'us'}}, {'place_id': 12668666, 'licence': 'Data © OpenStreetMap contributors, ODbL 1.0. https://osm.org/copyright', 'osm_type': 'node', 'osm_id': 1313743670, 'boundingbox': ['47.6475548', '47.6476548', '-122.3408849', '-122.3407849'], 'lat': '47.6476048', 'lon': '-122.3408349', 'display_name': 'Divers Institute of Technology, 1341, North Northlake Way, Fremont, Seattle, King County, Washington, 98103, United States', 'place_rank': 30, 'category': 'amenity', 'type': 'college', 'importance': 9.99999999995449e-06, 'icon': 'https://nominatim.openstreetmap.org/ui/mapicons/education_school.p.20.png', 'address': {'amenity': 'Divers Institute of Technology', 'house_number': '1341', 'road': 'North Northlake Way', 'suburb': 'Fremont', 'city': 'Seattle', 'county': 'King County', 'state': 'Washington', 'ISO3166-2-lvl4': 'US-WA', 'postcode': '98103', 'country': 'United States', 'country_code': 'us'}}, {'place_id': 10056907, 'licence': 'Data © OpenStreetMap contributors, ODbL 1.0. https://osm.org/copyright', 'osm_type': 'node', 'osm_id': 1099460871, 'boundingbox': ['47.6779951', '47.6780951', '-122.323528', '-122.323428'], 'lat': '47.6780451', 'lon': '-122.323478', 'display_name': 'Seattle Institute of Oriental Medicine, 444, Northeast Ravenna Boulevard, Meridian, Green Lake, Seattle, King County, Washington, 98115, United States', 'place_rank': 30, 'category': 'amenity', 'type': 'college', 'importance': 9.99999999995449e-06, 'icon': 'https://nominatim.openstreetmap.org/ui/mapicons/education_school.p.20.png', 'address': {'amenity': 'Seattle Institute of Oriental Medicine', 'house_number': '444', 'road': 'Northeast Ravenna Boulevard', 'neighbourhood': 'Meridian', 'suburb': 'Green Lake', 'city': 'Seattle', 'county': 'King County', 'state': 'Washington', 'ISO3166-2-lvl4': 'US-WA', 'postcode': '98115', 'country': 'United States', 'country_code': 'us'}}, {'place_id': 186303931, 'licence': 'Data © OpenStreetMap contributors, ODbL 1.0. https://osm.org/copyright', 'osm_type': 'way', 'osm_id': 336485971, 'boundingbox': ['47.5965599', '47.5978044', '-122.3021181', '-122.3013024'], 'lat': '47.59718215', 'lon': '-122.3017103499598', 'display_name': 'Seattle Central College Wood Technology Center, 2310, South Lane Street, Central District, Seattle, King County, Washington, 98144, United States', 'place_rank': 30, 'category': 'amenity', 'type': 'college', 'importance': 9.99999999995449e-06, 'icon': 'https://nominatim.openstreetmap.org/ui/mapicons/education_school.p.20.png', 'address': {'amenity': 'Seattle Central College Wood Technology Center', 'house_number': '2310', 'road': 'South Lane Street', 'suburb': 'Central District', 'city': 'Seattle', 'county': 'King County', 'state': 'Washington', 'ISO3166-2-lvl4': 'US-WA', 'postcode': '98144', 'country': 'United States', 'country_code': 'us'}}, {'place_id': 20101117, 'licence': 'Data © OpenStreetMap contributors, ODbL 1.0. https://osm.org/copyright', 'osm_type': 'node', 'osm_id': 2312065990, 'boundingbox': ['47.6229701', '47.6230701', '-122.3374046', '-122.3373046'], 'lat': '47.6230201', 'lon': '-122.3373546', 'display_name': 'Northeastern University, 401, Terry Avenue North, South Lake Union, Belltown, Seattle, King County, Washington, 98109, United States', 'place_rank': 30, 'category': 'amenity', 'type': 'college', 'importance': 9.99999999995449e-06, 'icon': 'https://nominatim.openstreetmap.org/ui/mapicons/education_school.p.20.png', 'address': {'amenity': 'Northeastern University', 'house_number': '401', 'road': 'Terry Avenue North', 'neighbourhood': 'South Lake Union', 'suburb': 'Belltown', 'city': 'Seattle', 'county': 'King County', 'state': 'Washington', 'ISO3166-2-lvl4': 'US-WA', 'postcode': '98109', 'country': 'United States', 'country_code': 'us'}}, {'place_id': 164983833, 'licence': 'Data © OpenStreetMap contributors, ODbL 1.0. https://osm.org/copyright', 'osm_type': 'way', 'osm_id': 239827006, 'boundingbox': ['47.61564', '47.6162752', '-122.3467899', '-122.3457922'], 'lat': '47.6159398', 'lon': '-122.3462752444464', 'display_name': 'Antioch University, 2400, 3rd Avenue, Uptown, Belltown, Seattle, King County, Washington, 98121, United States', 'place_rank': 30, 'category': 'amenity', 'type': 'college', 'importance': 9.99999999995449e-06, 'icon': 'https://nominatim.openstreetmap.org/ui/mapicons/education_school.p.20.png', 'address': {'amenity': 'Antioch University', 'house_number': '2400', 'road': '3rd Avenue', 'neighbourhood': 'Uptown', 'suburb': 'Belltown', 'city': 'Seattle', 'county': 'King County', 'state': 'Washington', 'ISO3166-2-lvl4': 'US-WA', 'postcode': '98121', 'country': 'United States', 'country_code': 'us'}}, {'place_id': 203132927, 'licence': 'Data © OpenStreetMap contributors, ODbL 1.0. https://osm.org/copyright', 'osm_type': 'way', 'osm_id': 430427474, 'boundingbox': ['47.5406943', '47.5436618', '-122.3278682', '-122.3231036'], 'lat': '47.5421533', 'lon': '-122.32476070599505', 'display_name': 'South Seattle Community College Georgetown Campus, 6737, Corson Avenue South, Van Asselt, Georgetown, Seattle, King County, Washington, 98108, United States', 'place_rank': 30, 'category': 'amenity', 'type': 'college', 'importance': 9.99999999995449e-06, 'icon': 'https://nominatim.openstreetmap.org/ui/mapicons/education_school.p.20.png', 'address': {'amenity': 'South Seattle Community College Georgetown Campus', 'house_number': '6737', 'road': 'Corson Avenue South', 'neighbourhood': 'Van Asselt', 'suburb': 'Georgetown', 'city': 'Seattle', 'county': 'King County', 'state': 'Washington', 'ISO3166-2-lvl4': 'US-WA', 'postcode': '98108', 'country': 'United States', 'country_code': 'us'}}, {'place_id': 58292313, 'licence': 'Data © OpenStreetMap contributors, ODbL 1.0. https://osm.org/copyright', 'osm_type': 'node', 'osm_id': 5366985027, 'boundingbox': ['47.6120172', '47.6121172', '-122.1903415', '-122.1902415'], 'lat': '47.6120672', 'lon': '-122.1902915', 'display_name': 'Washington Technology University, Northeast 2nd Street, Midlakes, Bellevue, King County, Washington, 98009, United States', 'place_rank': 30, 'category': 'amenity', 'type': 'college', 'importance': 9.99999999995449e-06, 'icon': 'https://nominatim.openstreetmap.org/ui/mapicons/education_school.p.20.png', 'address': {'amenity': 'Washington Technology University', 'road': 'Northeast 2nd Street', 'neighbourhood': 'Midlakes', 'city': 'Bellevue', 'county': 'King County', 'state': 'Washington', 'ISO3166-2-lvl4': 'US-WA', 'postcode': '98009', 'country': 'United States', 'country_code': 'us'}}, {'place_id': 116794522, 'licence': 'Data © OpenStreetMap contributors, ODbL 1.0. https://osm.org/copyright', 'osm_type': 'way', 'osm_id': 42942843, 'boundingbox': ['47.6884198', '47.6893772', '-122.150986', '-122.1499626'], 'lat': '47.68889435', 'lon': '-122.15067316860838', 'display_name': 'Digipen Institute of Technology, 9931, Willows Road Northeast, Earlmont, Redmond, King County, Washington, 98052, United States', 'place_rank': 30, 'category': 'amenity', 'type': 'college', 'importance': 9.99999999995449e-06, 'icon': 'https://nominatim.openstreetmap.org/ui/mapicons/education_school.p.20.png', 'address': {'amenity': 'Digipen Institute of Technology', 'house_number': '9931', 'road': 'Willows Road Northeast', 'hamlet': 'Earlmont', 'town': 'Redmond', 'county': 'King County', 'state': 'Washington', 'ISO3166-2-lvl4': 'US-WA', 'postcode': '98052', 'country': 'United States', 'country_code': 'us'}}]\n"
     ]
    }
   ],
   "source": [
    "#3.6.1\n",
    "url = \"https://nominatim.openstreetmap.org/search\"\n",
    "my_params = {'q' : \"[college]\",\n",
    "             'format' : 'jsonv2',\n",
    "             'viewbox' : '-122.60056,47.73844,-121.87271,47.51260',\n",
    "             'bounded' : 1,\n",
    "             'addressdetails' : 1,\n",
    "             'limit' : 50 }\n",
    "\n",
    "response = requests.get(url, params=my_params)\n",
    "\n",
    "if response.status_code == 200:\n",
    "    colleges = response.json()\n",
    "    print(colleges)\n",
    "else:\n",
    "    print(\"ERROR: request was not successfully\")"
   ]
  },
  {
   "cell_type": "code",
   "execution_count": 151,
   "id": "6bf4e69f",
   "metadata": {},
   "outputs": [
    {
     "name": "stdout",
     "output_type": "stream",
     "text": [
      "[{'place_id': 299365566, 'licence': 'Data © OpenStreetMap contributors, ODbL 1.0. https://osm.org/copyright', 'osm_type': 'relation', 'osm_id': 9994114, 'boundingbox': ['47.6165074', '47.6184599', '-122.3369693', '-122.3344529'], 'lat': '47.61680045', 'lon': '-122.33586595', 'display_name': 'Cornish College of the Arts, Terry Avenue, South Lake Union, First Hill, Seattle, King County, Washington, 98191, United States', 'place_rank': 30, 'category': 'amenity', 'type': 'college', 'importance': 0.34987195748066746, 'icon': 'https://nominatim.openstreetmap.org/ui/mapicons/education_school.p.20.png', 'address': {'amenity': 'Cornish College of the Arts', 'road': 'Terry Avenue', 'neighbourhood': 'South Lake Union', 'suburb': 'First Hill', 'city': 'Seattle', 'county': 'King County', 'state': 'Washington', 'ISO3166-2-lvl4': 'US-WA', 'postcode': '98191', 'country': 'United States', 'country_code': 'us'}}, {'place_id': 119987411, 'licence': 'Data © OpenStreetMap contributors, ODbL 1.0. https://osm.org/copyright', 'osm_type': 'way', 'osm_id': 55696671, 'boundingbox': ['47.5817895', '47.5891018', '-122.153762', '-122.1429557'], 'lat': '47.585121599999994', 'lon': '-122.14695953894167', 'display_name': 'Bellevue College, 3000, Landerholm Circle Southeast, Eastgate, Bellevue, King County, Washington, 98007, United States', 'place_rank': 30, 'category': 'amenity', 'type': 'college', 'importance': 0.3193657532333713, 'icon': 'https://nominatim.openstreetmap.org/ui/mapicons/education_school.p.20.png', 'address': {'amenity': 'Bellevue College', 'house_number': '3000', 'road': 'Landerholm Circle Southeast', 'suburb': 'Eastgate', 'city': 'Bellevue', 'county': 'King County', 'state': 'Washington', 'ISO3166-2-lvl4': 'US-WA', 'postcode': '98007', 'country': 'United States', 'country_code': 'us'}}, {'place_id': 298819040, 'licence': 'Data © OpenStreetMap contributors, ODbL 1.0. https://osm.org/copyright', 'osm_type': 'relation', 'osm_id': 5630067, 'boundingbox': ['47.7281837', '47.7331398', '-122.2531433', '-122.2452277'], 'lat': '47.730512899999994', 'lon': '-122.25029283292629', 'display_name': 'Bastyr University, Holmes Point Drive Northeast, Kenmore, King County, Washington, 98028, United States', 'place_rank': 30, 'category': 'amenity', 'type': 'college', 'importance': 0.294548847777872, 'icon': 'https://nominatim.openstreetmap.org/ui/mapicons/education_school.p.20.png', 'address': {'amenity': 'Bastyr University', 'road': 'Holmes Point Drive Northeast', 'town': 'Kenmore', 'county': 'King County', 'state': 'Washington', 'ISO3166-2-lvl4': 'US-WA', 'postcode': '98028', 'country': 'United States', 'country_code': 'us'}}, {'place_id': 21752165, 'licence': 'Data © OpenStreetMap contributors, ODbL 1.0. https://osm.org/copyright', 'osm_type': 'node', 'osm_id': 2439830827, 'boundingbox': ['47.6548977', '47.6549977', '-122.312439', '-122.312339'], 'lat': '47.6549477', 'lon': '-122.312389', 'display_name': 'UW College of Built Environments, 3949, 15th Avenue Northeast, West Campus, University District, Seattle, King County, Washington, 98105, United States', 'place_rank': 30, 'category': 'amenity', 'type': 'college', 'importance': 0.29190327427879, 'icon': 'https://nominatim.openstreetmap.org/ui/mapicons/education_school.p.20.png', 'address': {'amenity': 'UW College of Built Environments', 'house_number': '3949', 'road': '15th Avenue Northeast', 'neighbourhood': 'West Campus', 'suburb': 'University District', 'city': 'Seattle', 'county': 'King County', 'state': 'Washington', 'ISO3166-2-lvl4': 'US-WA', 'postcode': '98105', 'country': 'United States', 'country_code': 'us'}}, {'place_id': 145418337, 'licence': 'Data © OpenStreetMap contributors, ODbL 1.0. https://osm.org/copyright', 'osm_type': 'way', 'osm_id': 169786833, 'boundingbox': ['47.6141657', '47.6181591', '-122.3233445', '-122.3201037'], 'lat': '47.61619055', 'lon': '-122.32149768795851', 'display_name': 'Seattle Central College, East Howell Street, Capitol Hill, Seattle, King County, Washington, 98191, United States', 'place_rank': 30, 'category': 'amenity', 'type': 'college', 'importance': 0.270074815609084, 'icon': 'https://nominatim.openstreetmap.org/ui/mapicons/education_school.p.20.png', 'address': {'amenity': 'Seattle Central College', 'road': 'East Howell Street', 'suburb': 'Capitol Hill', 'city': 'Seattle', 'county': 'King County', 'state': 'Washington', 'ISO3166-2-lvl4': 'US-WA', 'postcode': '98191', 'country': 'United States', 'country_code': 'us'}}, {'place_id': 299018844, 'licence': 'Data © OpenStreetMap contributors, ODbL 1.0. https://osm.org/copyright', 'osm_type': 'relation', 'osm_id': 6038741, 'boundingbox': ['47.702388', '47.7076228', '-122.1701039', '-122.1645566'], 'lat': '47.7047684', 'lon': '-122.16732844735998', 'display_name': 'Lake Washington Institute of Technology, 11605, 132nd Avenue Northeast, Firloch, Kirkland, King County, Washington, 98034, United States', 'place_rank': 30, 'category': 'amenity', 'type': 'college', 'importance': 0.26851441835616036, 'icon': 'https://nominatim.openstreetmap.org/ui/mapicons/education_school.p.20.png', 'address': {'amenity': 'Lake Washington Institute of Technology', 'house_number': '11605', 'road': '132nd Avenue Northeast', 'hamlet': 'Firloch', 'town': 'Kirkland', 'county': 'King County', 'state': 'Washington', 'ISO3166-2-lvl4': 'US-WA', 'postcode': '98034', 'country': 'United States', 'country_code': 'us'}}, {'place_id': 20277018, 'licence': 'Data © OpenStreetMap contributors, ODbL 1.0. https://osm.org/copyright', 'osm_type': 'node', 'osm_id': 2327652090, 'boundingbox': ['47.6176584', '47.6177584', '-122.3445124', '-122.3444124'], 'lat': '47.6177084', 'lon': '-122.3444624', 'display_name': 'City University of Seattle, 521, Wall Street, South Lake Union, Belltown, Seattle, King County, Washington, 98121, United States', 'place_rank': 30, 'category': 'amenity', 'type': 'college', 'importance': 0.2582184742933953, 'icon': 'https://nominatim.openstreetmap.org/ui/mapicons/education_school.p.20.png', 'address': {'amenity': 'City University of Seattle', 'house_number': '521', 'road': 'Wall Street', 'neighbourhood': 'South Lake Union', 'suburb': 'Belltown', 'city': 'Seattle', 'county': 'King County', 'state': 'Washington', 'ISO3166-2-lvl4': 'US-WA', 'postcode': '98121', 'country': 'United States', 'country_code': 'us'}}, {'place_id': 103327928, 'licence': 'Data © OpenStreetMap contributors, ODbL 1.0. https://osm.org/copyright', 'osm_type': 'way', 'osm_id': 9408762, 'boundingbox': ['47.6959864', '47.7031582', '-122.3349353', '-122.3298541'], 'lat': '47.69870805', 'lon': '-122.33255180132647', 'display_name': 'North Seattle College, 9600, College Way North, Licton Springs, Maple Leaf, Seattle, King County, Washington, 98103, United States', 'place_rank': 30, 'category': 'amenity', 'type': 'college', 'importance': 0.25632194313709217, 'icon': 'https://nominatim.openstreetmap.org/ui/mapicons/education_school.p.20.png', 'address': {'amenity': 'North Seattle College', 'house_number': '9600', 'road': 'College Way North', 'neighbourhood': 'Licton Springs', 'suburb': 'Maple Leaf', 'city': 'Seattle', 'county': 'King County', 'state': 'Washington', 'ISO3166-2-lvl4': 'US-WA', 'postcode': '98103', 'country': 'United States', 'country_code': 'us'}}, {'place_id': 113207576, 'licence': 'Data © OpenStreetMap contributors, ODbL 1.0. https://osm.org/copyright', 'osm_type': 'way', 'osm_id': 31706483, 'boundingbox': ['47.5448765', '47.5518401', '-122.3546253', '-122.3492219'], 'lat': '47.548193299999994', 'lon': '-122.35233908228187', 'display_name': 'South Seattle College, 6000, 16th Avenue Southwest, Delridge, Seattle, King County, Washington, 98106, United States', 'place_rank': 30, 'category': 'amenity', 'type': 'college', 'importance': 0.24469861684138924, 'icon': 'https://nominatim.openstreetmap.org/ui/mapicons/education_school.p.20.png', 'address': {'amenity': 'South Seattle College', 'house_number': '6000', 'road': '16th Avenue Southwest', 'suburb': 'Delridge', 'city': 'Seattle', 'county': 'King County', 'state': 'Washington', 'ISO3166-2-lvl4': 'US-WA', 'postcode': '98106', 'country': 'United States', 'country_code': 'us'}}, {'place_id': 68745701, 'licence': 'Data © OpenStreetMap contributors, ODbL 1.0. https://osm.org/copyright', 'osm_type': 'node', 'osm_id': 6440063074, 'boundingbox': ['47.6217874', '47.6218874', '-122.3505871', '-122.3504871'], 'lat': '47.6218374', 'lon': '-122.3505371', 'display_name': 'Academy of Interactive Entertainment, 305, Harrison Street, Uptown, Belltown, Seattle, King County, Washington, 98109, United States', 'place_rank': 30, 'category': 'amenity', 'type': 'college', 'importance': 0.23729383463160691, 'icon': 'https://nominatim.openstreetmap.org/ui/mapicons/education_school.p.20.png', 'address': {'amenity': 'Academy of Interactive Entertainment', 'house_number': '305', 'road': 'Harrison Street', 'neighbourhood': 'Uptown', 'suburb': 'Belltown', 'city': 'Seattle', 'county': 'King County', 'state': 'Washington', 'ISO3166-2-lvl4': 'US-WA', 'postcode': '98109', 'country': 'United States', 'country_code': 'us'}}, {'place_id': 188154379, 'licence': 'Data © OpenStreetMap contributors, ODbL 1.0. https://osm.org/copyright', 'osm_type': 'way', 'osm_id': 342786695, 'boundingbox': ['47.5994914', '47.6002831', '-122.3042098', '-122.3033733'], 'lat': '47.60002405', 'lon': '-122.30376308697222', 'display_name': 'Seattle Vocational Institute, 2120, South Jackson Street, Little Saigon, Central District, Seattle, King County, Washington, 98144, United States', 'place_rank': 30, 'category': 'amenity', 'type': 'college', 'importance': 0.23322868681886538, 'icon': 'https://nominatim.openstreetmap.org/ui/mapicons/education_school.p.20.png', 'address': {'amenity': 'Seattle Vocational Institute', 'house_number': '2120', 'road': 'South Jackson Street', 'neighbourhood': 'Little Saigon', 'suburb': 'Central District', 'city': 'Seattle', 'county': 'King County', 'state': 'Washington', 'ISO3166-2-lvl4': 'US-WA', 'postcode': '98144', 'country': 'United States', 'country_code': 'us'}}, {'place_id': 197735727, 'licence': 'Data © OpenStreetMap contributors, ODbL 1.0. https://osm.org/copyright', 'osm_type': 'way', 'osm_id': 397007181, 'boundingbox': ['47.6131121', '47.6135231', '-122.3512647', '-122.3506657'], 'lat': '47.6133176', 'lon': '-122.35096519999999', 'display_name': 'The Seattle School of Theology and Psychology, 2501, Elliott Avenue, Belltown, Seattle, King County, Washington, 98121, United States', 'place_rank': 30, 'category': 'amenity', 'type': 'college', 'importance': 0.181472839091896, 'icon': 'https://nominatim.openstreetmap.org/ui/mapicons/education_school.p.20.png', 'address': {'amenity': 'The Seattle School of Theology and Psychology', 'house_number': '2501', 'road': 'Elliott Avenue', 'suburb': 'Belltown', 'city': 'Seattle', 'county': 'King County', 'state': 'Washington', 'ISO3166-2-lvl4': 'US-WA', 'postcode': '98121', 'country': 'United States', 'country_code': 'us'}}, {'place_id': 44912351, 'licence': 'Data © OpenStreetMap contributors, ODbL 1.0. https://osm.org/copyright', 'osm_type': 'node', 'osm_id': 3771319445, 'boundingbox': ['47.6186433', '47.6187433', '-122.3465842', '-122.3464842'], 'lat': '47.6186933', 'lon': '-122.3465342', 'display_name': 'Emerald City School, Denny Way, Uptown, Belltown, Seattle, King County, Washington, 98121, United States', 'place_rank': 30, 'category': 'amenity', 'type': 'college', 'importance': 9.99999999995449e-06, 'icon': 'https://nominatim.openstreetmap.org/ui/mapicons/education_school.p.20.png', 'address': {'amenity': 'Emerald City School', 'road': 'Denny Way', 'neighbourhood': 'Uptown', 'suburb': 'Belltown', 'city': 'Seattle', 'county': 'King County', 'state': 'Washington', 'ISO3166-2-lvl4': 'US-WA', 'postcode': '98121', 'country': 'United States', 'country_code': 'us'}}, {'place_id': 99262947, 'licence': 'Data © OpenStreetMap contributors, ODbL 1.0. https://osm.org/copyright', 'osm_type': 'node', 'osm_id': 9837120513, 'boundingbox': ['47.6992497', '47.6993497', '-122.327443', '-122.327343'], 'lat': '47.6992997', 'lon': '-122.327393', 'display_name': 'Pima Medical Institute, 9709, 3rd Avenue Northeast, Maple Leaf, Seattle, King County, Washington, 98115, United States', 'place_rank': 30, 'category': 'amenity', 'type': 'college', 'importance': 9.99999999995449e-06, 'icon': 'https://nominatim.openstreetmap.org/ui/mapicons/education_school.p.20.png', 'address': {'amenity': 'Pima Medical Institute', 'house_number': '9709', 'road': '3rd Avenue Northeast', 'suburb': 'Maple Leaf', 'city': 'Seattle', 'county': 'King County', 'state': 'Washington', 'ISO3166-2-lvl4': 'US-WA', 'postcode': '98115', 'country': 'United States', 'country_code': 'us'}}, {'place_id': 12668666, 'licence': 'Data © OpenStreetMap contributors, ODbL 1.0. https://osm.org/copyright', 'osm_type': 'node', 'osm_id': 1313743670, 'boundingbox': ['47.6475548', '47.6476548', '-122.3408849', '-122.3407849'], 'lat': '47.6476048', 'lon': '-122.3408349', 'display_name': 'Divers Institute of Technology, 1341, North Northlake Way, Fremont, Seattle, King County, Washington, 98103, United States', 'place_rank': 30, 'category': 'amenity', 'type': 'college', 'importance': 9.99999999995449e-06, 'icon': 'https://nominatim.openstreetmap.org/ui/mapicons/education_school.p.20.png', 'address': {'amenity': 'Divers Institute of Technology', 'house_number': '1341', 'road': 'North Northlake Way', 'suburb': 'Fremont', 'city': 'Seattle', 'county': 'King County', 'state': 'Washington', 'ISO3166-2-lvl4': 'US-WA', 'postcode': '98103', 'country': 'United States', 'country_code': 'us'}}, {'place_id': 10056907, 'licence': 'Data © OpenStreetMap contributors, ODbL 1.0. https://osm.org/copyright', 'osm_type': 'node', 'osm_id': 1099460871, 'boundingbox': ['47.6779951', '47.6780951', '-122.323528', '-122.323428'], 'lat': '47.6780451', 'lon': '-122.323478', 'display_name': 'Seattle Institute of Oriental Medicine, 444, Northeast Ravenna Boulevard, Meridian, Green Lake, Seattle, King County, Washington, 98115, United States', 'place_rank': 30, 'category': 'amenity', 'type': 'college', 'importance': 9.99999999995449e-06, 'icon': 'https://nominatim.openstreetmap.org/ui/mapicons/education_school.p.20.png', 'address': {'amenity': 'Seattle Institute of Oriental Medicine', 'house_number': '444', 'road': 'Northeast Ravenna Boulevard', 'neighbourhood': 'Meridian', 'suburb': 'Green Lake', 'city': 'Seattle', 'county': 'King County', 'state': 'Washington', 'ISO3166-2-lvl4': 'US-WA', 'postcode': '98115', 'country': 'United States', 'country_code': 'us'}}, {'place_id': 186303931, 'licence': 'Data © OpenStreetMap contributors, ODbL 1.0. https://osm.org/copyright', 'osm_type': 'way', 'osm_id': 336485971, 'boundingbox': ['47.5965599', '47.5978044', '-122.3021181', '-122.3013024'], 'lat': '47.59718215', 'lon': '-122.3017103499598', 'display_name': 'Seattle Central College Wood Technology Center, 2310, South Lane Street, Central District, Seattle, King County, Washington, 98144, United States', 'place_rank': 30, 'category': 'amenity', 'type': 'college', 'importance': 9.99999999995449e-06, 'icon': 'https://nominatim.openstreetmap.org/ui/mapicons/education_school.p.20.png', 'address': {'amenity': 'Seattle Central College Wood Technology Center', 'house_number': '2310', 'road': 'South Lane Street', 'suburb': 'Central District', 'city': 'Seattle', 'county': 'King County', 'state': 'Washington', 'ISO3166-2-lvl4': 'US-WA', 'postcode': '98144', 'country': 'United States', 'country_code': 'us'}}, {'place_id': 20101117, 'licence': 'Data © OpenStreetMap contributors, ODbL 1.0. https://osm.org/copyright', 'osm_type': 'node', 'osm_id': 2312065990, 'boundingbox': ['47.6229701', '47.6230701', '-122.3374046', '-122.3373046'], 'lat': '47.6230201', 'lon': '-122.3373546', 'display_name': 'Northeastern University, 401, Terry Avenue North, South Lake Union, Belltown, Seattle, King County, Washington, 98109, United States', 'place_rank': 30, 'category': 'amenity', 'type': 'college', 'importance': 9.99999999995449e-06, 'icon': 'https://nominatim.openstreetmap.org/ui/mapicons/education_school.p.20.png', 'address': {'amenity': 'Northeastern University', 'house_number': '401', 'road': 'Terry Avenue North', 'neighbourhood': 'South Lake Union', 'suburb': 'Belltown', 'city': 'Seattle', 'county': 'King County', 'state': 'Washington', 'ISO3166-2-lvl4': 'US-WA', 'postcode': '98109', 'country': 'United States', 'country_code': 'us'}}, {'place_id': 164983833, 'licence': 'Data © OpenStreetMap contributors, ODbL 1.0. https://osm.org/copyright', 'osm_type': 'way', 'osm_id': 239827006, 'boundingbox': ['47.61564', '47.6162752', '-122.3467899', '-122.3457922'], 'lat': '47.6159398', 'lon': '-122.3462752444464', 'display_name': 'Antioch University, 2400, 3rd Avenue, Uptown, Belltown, Seattle, King County, Washington, 98121, United States', 'place_rank': 30, 'category': 'amenity', 'type': 'college', 'importance': 9.99999999995449e-06, 'icon': 'https://nominatim.openstreetmap.org/ui/mapicons/education_school.p.20.png', 'address': {'amenity': 'Antioch University', 'house_number': '2400', 'road': '3rd Avenue', 'neighbourhood': 'Uptown', 'suburb': 'Belltown', 'city': 'Seattle', 'county': 'King County', 'state': 'Washington', 'ISO3166-2-lvl4': 'US-WA', 'postcode': '98121', 'country': 'United States', 'country_code': 'us'}}, {'place_id': 203132927, 'licence': 'Data © OpenStreetMap contributors, ODbL 1.0. https://osm.org/copyright', 'osm_type': 'way', 'osm_id': 430427474, 'boundingbox': ['47.5406943', '47.5436618', '-122.3278682', '-122.3231036'], 'lat': '47.5421533', 'lon': '-122.32476070599505', 'display_name': 'South Seattle Community College Georgetown Campus, 6737, Corson Avenue South, Van Asselt, Georgetown, Seattle, King County, Washington, 98108, United States', 'place_rank': 30, 'category': 'amenity', 'type': 'college', 'importance': 9.99999999995449e-06, 'icon': 'https://nominatim.openstreetmap.org/ui/mapicons/education_school.p.20.png', 'address': {'amenity': 'South Seattle Community College Georgetown Campus', 'house_number': '6737', 'road': 'Corson Avenue South', 'neighbourhood': 'Van Asselt', 'suburb': 'Georgetown', 'city': 'Seattle', 'county': 'King County', 'state': 'Washington', 'ISO3166-2-lvl4': 'US-WA', 'postcode': '98108', 'country': 'United States', 'country_code': 'us'}}, {'place_id': 58292313, 'licence': 'Data © OpenStreetMap contributors, ODbL 1.0. https://osm.org/copyright', 'osm_type': 'node', 'osm_id': 5366985027, 'boundingbox': ['47.6120172', '47.6121172', '-122.1903415', '-122.1902415'], 'lat': '47.6120672', 'lon': '-122.1902915', 'display_name': 'Washington Technology University, Northeast 2nd Street, Midlakes, Bellevue, King County, Washington, 98009, United States', 'place_rank': 30, 'category': 'amenity', 'type': 'college', 'importance': 9.99999999995449e-06, 'icon': 'https://nominatim.openstreetmap.org/ui/mapicons/education_school.p.20.png', 'address': {'amenity': 'Washington Technology University', 'road': 'Northeast 2nd Street', 'neighbourhood': 'Midlakes', 'city': 'Bellevue', 'county': 'King County', 'state': 'Washington', 'ISO3166-2-lvl4': 'US-WA', 'postcode': '98009', 'country': 'United States', 'country_code': 'us'}}, {'place_id': 116794522, 'licence': 'Data © OpenStreetMap contributors, ODbL 1.0. https://osm.org/copyright', 'osm_type': 'way', 'osm_id': 42942843, 'boundingbox': ['47.6884198', '47.6893772', '-122.150986', '-122.1499626'], 'lat': '47.68889435', 'lon': '-122.15067316860838', 'display_name': 'Digipen Institute of Technology, 9931, Willows Road Northeast, Earlmont, Redmond, King County, Washington, 98052, United States', 'place_rank': 30, 'category': 'amenity', 'type': 'college', 'importance': 9.99999999995449e-06, 'icon': 'https://nominatim.openstreetmap.org/ui/mapicons/education_school.p.20.png', 'address': {'amenity': 'Digipen Institute of Technology', 'house_number': '9931', 'road': 'Willows Road Northeast', 'hamlet': 'Earlmont', 'town': 'Redmond', 'county': 'King County', 'state': 'Washington', 'ISO3166-2-lvl4': 'US-WA', 'postcode': '98052', 'country': 'United States', 'country_code': 'us'}}]\n"
     ]
    }
   ],
   "source": [
    "#Check to see if type is college - 3.6.2\n",
    "url = \"https://nominatim.openstreetmap.org/search\"\n",
    "my_params = {'q' : \"[college]\",\n",
    "             'format' : 'jsonv2',\n",
    "             'type' : 'college',\n",
    "             'viewbox' : '-122.60056,47.73844,-121.87271,47.51260',\n",
    "             'bounded' : 1,\n",
    "             'addressdetails' : 1,\n",
    "             'limit' : 50 }\n",
    "\n",
    "response = requests.get(url, params=my_params)\n",
    "\n",
    "if response.status_code == 200:\n",
    "    colleges = response.json()\n",
    "    print(colleges)\n",
    "else:\n",
    "    print(\"ERROR: request was not successfully\")"
   ]
  },
  {
   "cell_type": "code",
   "execution_count": 152,
   "id": "01eac4b0",
   "metadata": {},
   "outputs": [
    {
     "data": {
      "text/plain": [
       "22"
      ]
     },
     "execution_count": 152,
     "metadata": {},
     "output_type": "execute_result"
    }
   ],
   "source": [
    "len(colleges)"
   ]
  },
  {
   "cell_type": "code",
   "execution_count": 160,
   "id": "f3e9d9e0",
   "metadata": {},
   "outputs": [],
   "source": [
    "#Print the list of colleges into a new TSV file with the following columns: osm_id (a unique ID that OSM uses), \n",
    "#the name of the college, latitude, and longitude\n",
    "#3.6.3\n",
    "\n",
    "with open(\"collegenames.tsv\", \"w\") as my_file:\n",
    "    print(\"osm_id\\tCollege Name\\tlatitude\\tlongitude\", file=my_file)\n",
    "    for college in colleges:\n",
    "        print(college['osm_id'],\"\\t\",college['display_name'],\"\\t\",college['lat'],\"\\t\",college['lon'],\"\\t\", file=my_file)"
   ]
  },
  {
   "cell_type": "code",
   "execution_count": null,
   "id": "0ed07a2b",
   "metadata": {},
   "outputs": [],
   "source": []
  }
 ],
 "metadata": {
  "kernelspec": {
   "display_name": "Python 3 (ipykernel)",
   "language": "python",
   "name": "python3"
  },
  "language_info": {
   "codemirror_mode": {
    "name": "ipython",
    "version": 3
   },
   "file_extension": ".py",
   "mimetype": "text/x-python",
   "name": "python",
   "nbconvert_exporter": "python",
   "pygments_lexer": "ipython3",
   "version": "3.10.9"
  }
 },
 "nbformat": 4,
 "nbformat_minor": 5
}
