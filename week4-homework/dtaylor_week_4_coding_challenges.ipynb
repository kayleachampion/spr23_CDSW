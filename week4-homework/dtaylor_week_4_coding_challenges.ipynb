{
 "cells": [
  {
   "cell_type": "markdown",
   "id": "77cd8914",
   "metadata": {},
   "source": [
    "# 1 - bored API"
   ]
  },
  {
   "cell_type": "code",
   "execution_count": 23,
   "id": "3204a594",
   "metadata": {},
   "outputs": [],
   "source": [
    "import requests"
   ]
  },
  {
   "cell_type": "code",
   "execution_count": 2,
   "id": "160366ee",
   "metadata": {},
   "outputs": [],
   "source": [
    "response = requests.get(\"http://www.boredapi.com/api/activity/\")"
   ]
  },
  {
   "cell_type": "code",
   "execution_count": 3,
   "id": "128f9eba",
   "metadata": {},
   "outputs": [
    {
     "name": "stdout",
     "output_type": "stream",
     "text": [
      "200\n"
     ]
    }
   ],
   "source": [
    "print(response.status_code)"
   ]
  },
  {
   "cell_type": "code",
   "execution_count": 4,
   "id": "cd6ac131",
   "metadata": {},
   "outputs": [],
   "source": [
    "activity_ideas = response.json()"
   ]
  },
  {
   "cell_type": "code",
   "execution_count": 5,
   "id": "8a203847",
   "metadata": {},
   "outputs": [
    {
     "name": "stdout",
     "output_type": "stream",
     "text": [
      "With your partner, you can Play a game of tennis with a friend for $0.1; with an accessibility level of: 0.4, with 0 being the most accessible and 1 being the least accessible\n"
     ]
    }
   ],
   "source": [
    "# 1 - free activity w/partner \n",
    "\n",
    "for number in [1]:\n",
    "    my_parameters = {'participants' : 2}\n",
    "    response = requests.get(\"http://www.boredapi.com/api/activity/\", params = my_parameters)\n",
    "    if response.status_code == 200:\n",
    "        activity_ideas = response.json()\n",
    "        print(f\"With your partner, you can {activity_ideas['activity']} for ${activity_ideas['price']}; with an accessibility level of: {activity_ideas['accessibility']}, with 0 being the most accessible and 1 being the least accessible\")"
   ]
  },
  {
   "cell_type": "code",
   "execution_count": 6,
   "id": "1d43c712",
   "metadata": {},
   "outputs": [
    {
     "name": "stdout",
     "output_type": "stream",
     "text": [
      "activity 1: Go swimming with a friend\n",
      "activity 2: Play a game of tennis with a friend\n",
      "activity 3: Text a friend you haven't talked to in a long time\n",
      "activity 4: Compliment someone\n",
      "activity 5: Catch up with a friend over a lunch date\n"
     ]
    }
   ],
   "source": [
    "# 1.1 - five free activities w/partner \n",
    "\n",
    "for number in [1,2,3,4,5]:\n",
    "    my_parameters = {'participants' : 2}\n",
    "    response = requests.get(\"http://www.boredapi.com/api/activity/\", params = my_parameters)\n",
    "    if response.status_code == 200:\n",
    "        activity_ideas = response.json()\n",
    "        print(f\"activity {number}: {activity_ideas['activity']}\")"
   ]
  },
  {
   "cell_type": "code",
   "execution_count": 7,
   "id": "5495050b",
   "metadata": {},
   "outputs": [
    {
     "name": "stdout",
     "output_type": "stream",
     "text": [
      "Random Activity: Prepare a dish from a foreign culture\n",
      "Type: cooking\n"
     ]
    }
   ],
   "source": [
    "# 2 - random activity \n",
    "\n",
    "response = requests.get(\"http://www.boredapi.com/api/activity/\")\n",
    "data = response.json()\n",
    "print(f\"Random Activity: {data['activity']}\")\n",
    "print(f\"Type: {data['type']}\")"
   ]
  },
  {
   "cell_type": "code",
   "execution_count": 46,
   "id": "04030d7d",
   "metadata": {},
   "outputs": [
    {
     "name": "stdout",
     "output_type": "stream",
     "text": [
      "Random Activity: Learn a new recipe, Type: cooking\n"
     ]
    }
   ],
   "source": [
    "# random activity of same type as above \n",
    "\n",
    "for number in [1]:\n",
    "    my_parameters = {'type' : 'cooking'}\n",
    "    response = requests.get(\"http://www.boredapi.com/api/activity/\", params=my_parameters)\n",
    "    if response.status_code == 200:\n",
    "        data = response.json()\n",
    "        print(f\"Random Activity: {data['activity']}, Type: {data['type']}\")"
   ]
  },
  {
   "cell_type": "code",
   "execution_count": 76,
   "id": "33d222f9",
   "metadata": {
    "scrolled": true
   },
   "outputs": [
    {
     "name": "stdout",
     "output_type": "stream",
     "text": [
      "Activity 1 (education): Learn Morse code\n",
      "Activity 2 (recreational): Buy a new house decoration\n",
      "Activity 3 (social): Play a game of Monopoly\n",
      "Activity 4 (diy): Learn woodworking\n",
      "Activity 5 (charity): Contribute code or a monetary donation to an open-source software project\n",
      "Activity 6 (cooking): Bake pastries for you and your neighbor\n",
      "Activity 7 (relaxation): Pot some plants and put them around your house\n",
      "Activity 8 (music): Write a song\n",
      "Activity 9 (busywork): Organize your movie collection\n"
     ]
    }
   ],
   "source": [
    "# 3 - random activity of each type \n",
    "\n",
    "activities = [\"education\", \"recreational\", \"social\", \"diy\", \"charity\", \"cooking\", \"relaxation\", \"music\", \"busywork\"]\n",
    "activity_ideas = {}\n",
    "counter = 1\n",
    "\n",
    "for activity in activities:\n",
    "    response = requests.get(f\"http://www.boredapi.com/api/activity?type={activity}\")\n",
    "    if response.status_code == 200:\n",
    "        activity_data = response.json()\n",
    "        activity_ideas[activity] = activity_data['activity']\n",
    "        print(f\"Activity {counter} ({activity}): {activity_data['activity']}\")\n",
    "        counter = counter + 1"
   ]
  },
  {
   "cell_type": "markdown",
   "id": "5e779ea4",
   "metadata": {},
   "source": [
    "# 2 - learning a new API"
   ]
  },
  {
   "cell_type": "code",
   "execution_count": 11,
   "id": "e77d4836",
   "metadata": {},
   "outputs": [
    {
     "data": {
      "text/plain": [
       "'https://dogapi.dog/api/v2/facts'"
      ]
     },
     "execution_count": 11,
     "metadata": {},
     "output_type": "execute_result"
    }
   ],
   "source": [
    "# 2 - single dog fact URL\n",
    "\n",
    "dog_facts = requests.get(\"https://dogapi.dog/api/v2/facts\")\n",
    "dog_facts.url"
   ]
  },
  {
   "cell_type": "code",
   "execution_count": 12,
   "id": "a85b9f25",
   "metadata": {},
   "outputs": [
    {
     "data": {
      "text/plain": [
       "'https://dogapi.dog/api/v2/facts?limit=5'"
      ]
     },
     "execution_count": 12,
     "metadata": {},
     "output_type": "execute_result"
    }
   ],
   "source": [
    "# 3 - 5 dog facts URL\n",
    "\n",
    "five_dog_facts = requests.get(\"https://dogapi.dog/api/v2/facts?limit=5\")\n",
    "five_dog_facts.url"
   ]
  },
  {
   "cell_type": "code",
   "execution_count": 13,
   "id": "1cf3ee7c",
   "metadata": {},
   "outputs": [],
   "source": [
    "# 4  - only the fact\n",
    "\n",
    "dog_facts = requests.get(\"https://dogapi.dog/api/v2/facts\")"
   ]
  },
  {
   "cell_type": "code",
   "execution_count": 14,
   "id": "c106940c",
   "metadata": {},
   "outputs": [],
   "source": [
    "doggo = dog_facts.json()"
   ]
  },
  {
   "cell_type": "code",
   "execution_count": 15,
   "id": "50800c25",
   "metadata": {},
   "outputs": [
    {
     "data": {
      "text/plain": [
       "{'data': [{'id': '0925e982-f659-417f-a83e-e685e64111db',\n",
       "   'type': 'fact',\n",
       "   'attributes': {'body': \"A dog's nose is wet because it helps to clean their face.\"}}]}"
      ]
     },
     "execution_count": 15,
     "metadata": {},
     "output_type": "execute_result"
    }
   ],
   "source": [
    "doggo"
   ]
  },
  {
   "cell_type": "code",
   "execution_count": 16,
   "id": "54ae1b26",
   "metadata": {},
   "outputs": [
    {
     "ename": "KeyError",
     "evalue": "'body'",
     "output_type": "error",
     "traceback": [
      "\u001b[0;31m---------------------------------------------------------------------------\u001b[0m",
      "\u001b[0;31mKeyError\u001b[0m                                  Traceback (most recent call last)",
      "Cell \u001b[0;32mIn[16], line 1\u001b[0m\n\u001b[0;32m----> 1\u001b[0m \u001b[43mdoggo\u001b[49m\u001b[43m[\u001b[49m\u001b[38;5;124;43m\"\u001b[39;49m\u001b[38;5;124;43mbody\u001b[39;49m\u001b[38;5;124;43m\"\u001b[39;49m\u001b[43m]\u001b[49m\n",
      "\u001b[0;31mKeyError\u001b[0m: 'body'"
     ]
    }
   ],
   "source": [
    "doggo[\"body\"]"
   ]
  },
  {
   "cell_type": "code",
   "execution_count": 17,
   "id": "84bc1c1c",
   "metadata": {},
   "outputs": [
    {
     "data": {
      "text/plain": [
       "1"
      ]
     },
     "execution_count": 17,
     "metadata": {},
     "output_type": "execute_result"
    }
   ],
   "source": [
    "len(doggo)"
   ]
  },
  {
   "cell_type": "code",
   "execution_count": 18,
   "id": "bc0967a7",
   "metadata": {},
   "outputs": [
    {
     "name": "stdout",
     "output_type": "stream",
     "text": [
      "Conservationists have used dogs to find bumblebee hives in order to protect endangered species.\n"
     ]
    }
   ],
   "source": [
    "for number in [1]:\n",
    "    dog_facts = requests.get(\"https://dogapi.dog/api/v2/facts\")\n",
    "    if dog_facts.status_code == 200:\n",
    "        doggo = dog_facts.json()\n",
    "        print(doggo['data'][0]['attributes']['body'])"
   ]
  },
  {
   "cell_type": "code",
   "execution_count": 166,
   "id": "357bedf9",
   "metadata": {},
   "outputs": [],
   "source": [
    "# 5  - 5 facts TSV file \n",
    "\n",
    "dog_fact_dict = {}\n",
    "\n",
    "for number in [1,2,3,4,5]:\n",
    "    dog_facts = requests.get(\"https://dogapi.dog/api/v2/facts\")\n",
    "    if dog_facts.status_code == 200:\n",
    "        doggo = dog_facts.json()\n",
    "        fact_id = doggo['data'][0]['id']\n",
    "        fact_body = doggo['data'][0]['attributes']['body']\n",
    "        dog_fact_dict.update({fact_id: fact_body})"
   ]
  },
  {
   "cell_type": "code",
   "execution_count": 168,
   "id": "fa2ec245",
   "metadata": {},
   "outputs": [
    {
     "data": {
      "text/plain": [
       "{'087b9086-186d-42d8-9e0e-b92937d410fc': 'Dogs cannot distinguish between red and green as these colors would appear as shades of grey to a dog.',\n",
       " '7f8a117c-4652-4ce8-a3c9-a01e70fe796d': 'Dog noses are also very cute and easy to boop.',\n",
       " '9e8743c8-a0a3-48b1-ac40-60fb90bf675c': 'The oldest dog on record was an Australian cattle dog named Bluey who lived 29 years and 5 months. In human years, that is more than 160 years old.',\n",
       " '7cd98f85-f901-466d-bb45-a4f7376f1a24': 'Stray dogs in Moscow have learned to ride the subway to find food.',\n",
       " '4c6b5f11-6b9e-4eb4-bcaa-ca69ba698931': \"Dogs have twice as many muscles to move their ears as humans, if you're looking for unusual facts about dogs!\"}"
      ]
     },
     "execution_count": 168,
     "metadata": {},
     "output_type": "execute_result"
    }
   ],
   "source": [
    "dog_fact_dict"
   ]
  },
  {
   "cell_type": "code",
   "execution_count": 169,
   "id": "d670b85e",
   "metadata": {},
   "outputs": [
    {
     "name": "stdout",
     "output_type": "stream",
     "text": [
      "https://docs.google.com/spreadsheets/d/1knRqLx1RyHInWpccfjYSdbpHMD_MBe4XiaGe86QeBAM/edit?usp=sharing\n"
     ]
    }
   ],
   "source": [
    "with open(\"dog_fact_dict.tsv\", \"w\") as my_file:\n",
    "    print(\"ID\\tFact\", file = my_file)\n",
    "    for item in dog_fact_dict.keys():\n",
    "        print(f\"{item}\\t{dog_fact_dict[item]}\", file=my_file)\n",
    "        \n",
    "print(\"https://docs.google.com/spreadsheets/d/1knRqLx1RyHInWpccfjYSdbpHMD_MBe4XiaGe86QeBAM/edit?usp=sharing\")"
   ]
  },
  {
   "cell_type": "markdown",
   "id": "9bc31565",
   "metadata": {},
   "source": [
    "# 3 - mapping"
   ]
  },
  {
   "cell_type": "code",
   "execution_count": 24,
   "id": "e2a9dfa4",
   "metadata": {},
   "outputs": [],
   "source": [
    "# 1 - gas stations \n",
    "\n",
    "url = \"https://nominatim.openstreetmap.org/search\"\n",
    "my_params = {'q' : \"gas station in duvall, wa\",\n",
    "             'format' : 'jsonv2',\n",
    "             'limit' : 50}\n",
    "\n",
    "response = requests.get(url, params=my_params)\n",
    "\n",
    "if response.status_code == 200:\n",
    "    data = response.json()\n",
    "else:\n",
    "    print(\"ERROR: request was not successfully\")\n"
   ]
  },
  {
   "cell_type": "code",
   "execution_count": 26,
   "id": "ea798c6b",
   "metadata": {
    "scrolled": false
   },
   "outputs": [
    {
     "name": "stdout",
     "output_type": "stream",
     "text": [
      "Safeway Fuel Station, 14020, Carnation-Duvall Road Northeast, King County, Washington, 98019, United States\n",
      "Chevron, Northeast Ring Street, Duvall, King County, Washington, 98019, United States\n",
      "Shell, 15729, Main Street Northeast, Duvall, King County, Washington, 98019, United States\n"
     ]
    }
   ],
   "source": [
    "for place in data:\n",
    "    print(place['display_name'])"
   ]
  },
  {
   "cell_type": "code",
   "execution_count": 27,
   "id": "5d968cbf",
   "metadata": {},
   "outputs": [],
   "source": [
    "url = \"https://nominatim.openstreetmap.org/search\"\n",
    "my_params = {'q' : \"gas station in carnation, wa\",\n",
    "             'format' : 'jsonv2',\n",
    "             'limit' : 50}\n",
    "\n",
    "response = requests.get(url, params=my_params)\n",
    "\n",
    "if response.status_code == 200:\n",
    "    datas = response.json()\n",
    "else:\n",
    "    print(\"ERROR: request was not successfully\")"
   ]
  },
  {
   "cell_type": "code",
   "execution_count": 28,
   "id": "c9bf2766",
   "metadata": {},
   "outputs": [
    {
     "name": "stdout",
     "output_type": "stream",
     "text": [
      "Carnation-Duvall Road Northeast, Stillwater, King County, Washington, 98014, United States\n",
      "Shell, Tolt Avenue, Carnation, King County, Washington, 98014, United States\n"
     ]
    }
   ],
   "source": [
    "for place in datas:\n",
    "    print(place['display_name'])\n",
    "    \n",
    "# i can see that i'm getting a result of a gas station that's not in carnation\n",
    "# looks like i am unable to mix and match q param with city & street without knowing exact address"
   ]
  },
  {
   "cell_type": "code",
   "execution_count": 29,
   "id": "d176b08b",
   "metadata": {},
   "outputs": [
    {
     "name": "stdout",
     "output_type": "stream",
     "text": [
      "there are more gas stations in duvall\n"
     ]
    }
   ],
   "source": [
    "if len(data) > len (datas):\n",
    "    print(\"there are more gas stations in duvall\")\n",
    "else:\n",
    "    print(\"there are more gas stations in carnation\")"
   ]
  },
  {
   "cell_type": "code",
   "execution_count": 30,
   "id": "16141bc9",
   "metadata": {},
   "outputs": [],
   "source": [
    "# 2 - dentists \n",
    "\n",
    "url = \"https://nominatim.openstreetmap.org/search\"\n",
    "my_params = {'q' : \"dentist in university district seattle\",\n",
    "             'format' : 'jsonv2',\n",
    "             'limit' : 50}\n",
    "\n",
    "response = requests.get(url, params=my_params)\n",
    "\n",
    "if response.status_code == 200:\n",
    "    new_data = response.json()\n",
    "else:\n",
    "    print(\"ERROR: request was not successfully\")"
   ]
  },
  {
   "cell_type": "code",
   "execution_count": 31,
   "id": "e3c5ff4b",
   "metadata": {
    "scrolled": true
   },
   "outputs": [
    {
     "name": "stdout",
     "output_type": "stream",
     "text": [
      "[{'place_id': 13636959, 'licence': 'Data © OpenStreetMap contributors, ODbL 1.0. https://osm.org/copyright', 'osm_type': 'node', 'osm_id': 1411677375, 'boundingbox': ['47.6596661', '47.6597661', '-122.314124', '-122.314024'], 'lat': '47.6597161', 'lon': '-122.314074', 'display_name': 'Dr. Carey (Dentist), 1305, Northeast 43rd Street, West Campus, University District, Seattle, King County, Washington, 98105, United States', 'place_rank': 30, 'category': 'amenity', 'type': 'dentist', 'importance': 0.50001, 'icon': 'https://nominatim.openstreetmap.org/ui/mapicons/health_dentist.p.20.png'}, {'place_id': 21746922, 'licence': 'Data © OpenStreetMap contributors, ODbL 1.0. https://osm.org/copyright', 'osm_type': 'node', 'osm_id': 2430646553, 'boundingbox': ['47.665505', '47.665605', '-122.3014422', '-122.3013422'], 'lat': '47.665555', 'lon': '-122.3013922', 'display_name': 'Trailside Dentistry, Burke-Gilman Trail, University Park, University District, Seattle, King County, Washington, 98105, United States', 'place_rank': 30, 'category': 'amenity', 'type': 'dentist', 'importance': 0.50001, 'icon': 'https://nominatim.openstreetmap.org/ui/mapicons/health_dentist.p.20.png'}, {'place_id': 20580826, 'licence': 'Data © OpenStreetMap contributors, ODbL 1.0. https://osm.org/copyright', 'osm_type': 'node', 'osm_id': 2323840309, 'boundingbox': ['47.6641997', '47.6642997', '-122.313287', '-122.313187'], 'lat': '47.6642497', 'lon': '-122.313237', 'display_name': \"Nicole O'Bryan DMD Denistry, 4741, University Way Northeast, University Heights, University District, Seattle, King County, Washington, 98105, United States\", 'place_rank': 30, 'category': 'amenity', 'type': 'dentist', 'importance': 0.40001, 'icon': 'https://nominatim.openstreetmap.org/ui/mapicons/health_dentist.p.20.png'}, {'place_id': 79687109, 'licence': 'Data © OpenStreetMap contributors, ODbL 1.0. https://osm.org/copyright', 'osm_type': 'node', 'osm_id': 7790374292, 'boundingbox': ['47.6610564', '47.6611564', '-122.3164363', '-122.3163363'], 'lat': '47.6611064', 'lon': '-122.3163863', 'display_name': '32 Good Reasons, 1107, Northeast 45th Street, West Campus, University District, Seattle, King County, Washington, 98015, United States', 'place_rank': 30, 'category': 'amenity', 'type': 'dentist', 'importance': 0.40001, 'icon': 'https://nominatim.openstreetmap.org/ui/mapicons/health_dentist.p.20.png'}, {'place_id': 97140744, 'licence': 'Data © OpenStreetMap contributors, ODbL 1.0. https://osm.org/copyright', 'osm_type': 'node', 'osm_id': 9525617367, 'boundingbox': ['47.6623688', '47.6624688', '-122.293485', '-122.293385'], 'lat': '47.6624188', 'lon': '-122.293435', 'display_name': 'U-District Smiles, 4530, Union Bay Place Northeast, East Campus, University District, Seattle, King County, Washington, 98105, United States', 'place_rank': 30, 'category': 'amenity', 'type': 'dentist', 'importance': 0.40001, 'icon': 'https://nominatim.openstreetmap.org/ui/mapicons/health_dentist.p.20.png'}, {'place_id': 163562169, 'licence': 'Data © OpenStreetMap contributors, ODbL 1.0. https://osm.org/copyright', 'osm_type': 'way', 'osm_id': 235382838, 'boundingbox': ['47.6723931', '47.672623', '-122.3179597', '-122.3175067'], 'lat': '47.6725081', 'lon': '-122.3177331039291', 'display_name': 'Ravenna Dental Clinic, 916, Northeast Ravenna Boulevard, University Heights, Green Lake, Seattle, King County, Washington, 98115, United States', 'place_rank': 30, 'category': 'amenity', 'type': 'dentist', 'importance': 0.30001, 'icon': 'https://nominatim.openstreetmap.org/ui/mapicons/health_dentist.p.20.png'}, {'place_id': 19927226, 'licence': 'Data © OpenStreetMap contributors, ODbL 1.0. https://osm.org/copyright', 'osm_type': 'node', 'osm_id': 2300443392, 'boundingbox': ['47.6481283', '47.6482283', '-122.323703', '-122.323603'], 'lat': '47.6481783', 'lon': '-122.323653', 'display_name': 'Urban Smiles Dentists, 2936, Eastlake Avenue East, Eastlake, Wallingford, Seattle, King County, Washington, 98102, United States', 'place_rank': 30, 'category': 'amenity', 'type': 'dentist', 'importance': 0.30001, 'icon': 'https://nominatim.openstreetmap.org/ui/mapicons/health_dentist.p.20.png'}, {'place_id': 41067486, 'licence': 'Data © OpenStreetMap contributors, ODbL 1.0. https://osm.org/copyright', 'osm_type': 'node', 'osm_id': 3311160766, 'boundingbox': ['47.6786947', '47.6787947', '-122.325299', '-122.325199'], 'lat': '47.6787447', 'lon': '-122.325249', 'display_name': 'Greenlake Kids Dentistry, 6900, East Green Lake Way North, Green Lake, Seattle, King County, Washington, 98115, United States', 'place_rank': 30, 'category': 'amenity', 'type': 'dentist', 'importance': 0.30001, 'icon': 'https://nominatim.openstreetmap.org/ui/mapicons/health_dentist.p.20.png'}, {'place_id': 160751626, 'licence': 'Data © OpenStreetMap contributors, ODbL 1.0. https://osm.org/copyright', 'osm_type': 'way', 'osm_id': 224037501, 'boundingbox': ['47.6615494', '47.6617451', '-122.3379222', '-122.3378136'], 'lat': '47.66161555', 'lon': '-122.33786787340982', 'display_name': 'Wallingford Family Dentistry, 1628, North 45th Street, Wallingford, Seattle, King County, Washington, 98103, United States', 'place_rank': 30, 'category': 'amenity', 'type': 'dentist', 'importance': 0.30001, 'icon': 'https://nominatim.openstreetmap.org/ui/mapicons/health_dentist.p.20.png'}, {'place_id': 18962185, 'licence': 'Data © OpenStreetMap contributors, ODbL 1.0. https://osm.org/copyright', 'osm_type': 'node', 'osm_id': 2131726189, 'boundingbox': ['47.6589451', '47.6590451', '-122.342061', '-122.341961'], 'lat': '47.6589951', 'lon': '-122.342011', 'display_name': 'Greenlake Family Dentistry, 4230, Stone Way North, Wallingford, Seattle, King County, Washington, 98103, United States', 'place_rank': 30, 'category': 'amenity', 'type': 'dentist', 'importance': 0.30001, 'icon': 'https://nominatim.openstreetmap.org/ui/mapicons/health_dentist.p.20.png'}, {'place_id': 21354144, 'licence': 'Data © OpenStreetMap contributors, ODbL 1.0. https://osm.org/copyright', 'osm_type': 'node', 'osm_id': 2383838310, 'boundingbox': ['47.6269118', '47.6270118', '-122.307555', '-122.307455'], 'lat': '47.6269618', 'lon': '-122.307505', 'display_name': 'Capitol Hill Montlake Dentistry, 901, 19th Avenue East, Madison Valley, Capitol Hill, Seattle, King County, Washington, 98112, United States', 'place_rank': 30, 'category': 'amenity', 'type': 'dentist', 'importance': 0.30001, 'icon': 'https://nominatim.openstreetmap.org/ui/mapicons/health_dentist.p.20.png'}, {'place_id': 160091846, 'licence': 'Data © OpenStreetMap contributors, ODbL 1.0. https://osm.org/copyright', 'osm_type': 'way', 'osm_id': 222581813, 'boundingbox': ['47.6874229', '47.6875884', '-122.3442193', '-122.3440038'], 'lat': '47.68753705', 'lon': '-122.34411194996555', 'display_name': 'Sound Care Implant & Cosmetic Dentistry, 8018, Aurora Avenue North, Greenwood, Seattle, King County, Washington, 98103, United States', 'place_rank': 30, 'category': 'amenity', 'type': 'dentist', 'importance': 0.30001, 'icon': 'https://nominatim.openstreetmap.org/ui/mapicons/health_dentist.p.20.png'}, {'place_id': 57517026, 'licence': 'Data © OpenStreetMap contributors, ODbL 1.0. https://osm.org/copyright', 'osm_type': 'node', 'osm_id': 5236869919, 'boundingbox': ['47.6202422', '47.6203422', '-122.3146365', '-122.3145365'], 'lat': '47.6202922', 'lon': '-122.3145865', 'display_name': 'Sweet Tooth Family Dentist, 14th Avenue East, Madison Valley, Capitol Hill, Seattle, King County, Washington, 98122, United States', 'place_rank': 30, 'category': 'amenity', 'type': 'dentist', 'importance': 0.30001, 'icon': 'https://nominatim.openstreetmap.org/ui/mapicons/health_dentist.p.20.png'}, {'place_id': 339422655, 'licence': 'Data © OpenStreetMap contributors, ODbL 1.0. https://osm.org/copyright', 'osm_type': 'node', 'osm_id': 9932849171, 'boundingbox': ['47.6236975', '47.6237975', '-122.3361007', '-122.3360007'], 'lat': '47.6237475', 'lon': '-122.3360507', 'display_name': 'South Lake Union Dentist Office, 527, Boren Avenue North, Amazon, Belltown, Seattle, King County, Washington, 98109, United States', 'place_rank': 30, 'category': 'amenity', 'type': 'dentist', 'importance': 0.30001, 'icon': 'https://nominatim.openstreetmap.org/ui/mapicons/health_dentist.p.20.png'}, {'place_id': 339422657, 'licence': 'Data © OpenStreetMap contributors, ODbL 1.0. https://osm.org/copyright', 'osm_type': 'node', 'osm_id': 9932849173, 'boundingbox': ['47.6234466', '47.6235466', '-122.3361251', '-122.3360251'], 'lat': '47.6234966', 'lon': '-122.3360751', 'display_name': 'The Downtown Seattle Dentist, Boren Avenue North, Amazon, Belltown, Seattle, King County, Washington, 98191, United States', 'place_rank': 30, 'category': 'amenity', 'type': 'dentist', 'importance': 0.30001, 'icon': 'https://nominatim.openstreetmap.org/ui/mapicons/health_dentist.p.20.png'}, {'place_id': 21583729, 'licence': 'Data © OpenStreetMap contributors, ODbL 1.0. https://osm.org/copyright', 'osm_type': 'node', 'osm_id': 2400039550, 'boundingbox': ['47.6204822', '47.6205822', '-122.330674', '-122.330574'], 'lat': '47.6205322', 'lon': '-122.330624', 'display_name': 'Revive Smiles Dentistry, 259, Yale Avenue North, South Lake Union, First Hill, Seattle, King County, Washington, 98109, United States', 'place_rank': 30, 'category': 'amenity', 'type': 'dentist', 'importance': 0.30001, 'icon': 'https://nominatim.openstreetmap.org/ui/mapicons/health_dentist.p.20.png'}, {'place_id': 339418855, 'licence': 'Data © OpenStreetMap contributors, ODbL 1.0. https://osm.org/copyright', 'osm_type': 'node', 'osm_id': 4358266495, 'boundingbox': ['47.6228806', '47.6229806', '-122.3382826', '-122.3381826'], 'lat': '47.6229306', 'lon': '-122.3382326', 'display_name': 'Seattle’s Downtown Dentist, 428, Westlake Avenue North, South Lake Union, Belltown, Seattle, King County, Washington, 98109, United States', 'place_rank': 30, 'category': 'amenity', 'type': 'dentist', 'importance': 0.30001, 'icon': 'https://nominatim.openstreetmap.org/ui/mapicons/health_dentist.p.20.png'}, {'place_id': 69236177, 'licence': 'Data © OpenStreetMap contributors, ODbL 1.0. https://osm.org/copyright', 'osm_type': 'node', 'osm_id': 6483256385, 'boundingbox': ['47.617625', '47.617725', '-122.3303404', '-122.3302404'], 'lat': '47.617675', 'lon': '-122.3302904', 'display_name': 'Advanced Metropolitan Dentistry, 1220, Howell Street, South Lake Union, First Hill, Seattle, King County, Washington, 98101, United States', 'place_rank': 30, 'category': 'amenity', 'type': 'dentist', 'importance': 0.30001, 'icon': 'https://nominatim.openstreetmap.org/ui/mapicons/health_dentist.p.20.png'}, {'place_id': 21213892, 'licence': 'Data © OpenStreetMap contributors, ODbL 1.0. https://osm.org/copyright', 'osm_type': 'node', 'osm_id': 2400039529, 'boundingbox': ['47.6205883', '47.6206883', '-122.3374428', '-122.3373428'], 'lat': '47.6206383', 'lon': '-122.3373928', 'display_name': 'Innovative Dentistry, 225, Terry Avenue North, South Lake Union, Belltown, Seattle, King County, Washington, 98109, United States', 'place_rank': 30, 'category': 'amenity', 'type': 'dentist', 'importance': 0.30001, 'icon': 'https://nominatim.openstreetmap.org/ui/mapicons/health_dentist.p.20.png'}, {'place_id': 20265613, 'licence': 'Data © OpenStreetMap contributors, ODbL 1.0. https://osm.org/copyright', 'osm_type': 'node', 'osm_id': 2312090765, 'boundingbox': ['47.6221604', '47.6222604', '-122.340014', '-122.339914'], 'lat': '47.6222104', 'lon': '-122.339964', 'display_name': '888 Dentistry, Harrison Street, South Lake Union, Belltown, Seattle, King County, Washington, 98121, United States', 'place_rank': 30, 'category': 'amenity', 'type': 'dentist', 'importance': 0.30001, 'icon': 'https://nominatim.openstreetmap.org/ui/mapicons/health_dentist.p.20.png'}, {'place_id': 46077964, 'licence': 'Data © OpenStreetMap contributors, ODbL 1.0. https://osm.org/copyright', 'osm_type': 'node', 'osm_id': 3881573102, 'boundingbox': ['47.6178778', '47.6179778', '-122.337778', '-122.337678'], 'lat': '47.6179278', 'lon': '-122.337728', 'display_name': '2200 Westlake Dentistry, 900, Lenora Street, South Lake Union, Belltown, Seattle, King County, Washington, 98121, United States', 'place_rank': 30, 'category': 'amenity', 'type': 'dentist', 'importance': 0.30001, 'icon': 'https://nominatim.openstreetmap.org/ui/mapicons/health_dentist.p.20.png'}, {'place_id': 160690994, 'licence': 'Data © OpenStreetMap contributors, ODbL 1.0. https://osm.org/copyright', 'osm_type': 'way', 'osm_id': 220821050, 'boundingbox': ['47.6800016', '47.6803454', '-122.2901009', '-122.289931'], 'lat': '47.6801886', 'lon': '-122.29001691849672', 'display_name': '35th Avenue Northeast, Wedgwood, Seattle, King County, Washington, 98115, United States', 'place_rank': 30, 'category': 'amenity', 'type': 'dentist', 'importance': 0.2001, 'icon': 'https://nominatim.openstreetmap.org/ui/mapicons/health_dentist.p.20.png'}, {'place_id': 21921066, 'licence': 'Data © OpenStreetMap contributors, ODbL 1.0. https://osm.org/copyright', 'osm_type': 'node', 'osm_id': 2463987781, 'boundingbox': ['47.6872215', '47.6873215', '-122.290335', '-122.290235'], 'lat': '47.6872715', 'lon': '-122.290285', 'display_name': '8022, 35th Avenue Northeast, Wedgwood, Seattle, King County, Washington, 98115, United States', 'place_rank': 30, 'category': 'amenity', 'type': 'dentist', 'importance': 0.2001, 'icon': 'https://nominatim.openstreetmap.org/ui/mapicons/health_dentist.p.20.png'}, {'place_id': 18787708, 'licence': 'Data © OpenStreetMap contributors, ODbL 1.0. https://osm.org/copyright', 'osm_type': 'node', 'osm_id': 2134343266, 'boundingbox': ['47.6612003', '47.6613003', '-122.328521', '-122.328421'], 'lat': '47.6612503', 'lon': '-122.328471', 'display_name': 'Wallingford Smiles, 2507, North 45th Street, Wallingford, Seattle, King County, Washington, 98103, United States', 'place_rank': 30, 'category': 'amenity', 'type': 'dentist', 'importance': 0.20000999999999997, 'icon': 'https://nominatim.openstreetmap.org/ui/mapicons/health_dentist.p.20.png'}, {'place_id': 19928776, 'licence': 'Data © OpenStreetMap contributors, ODbL 1.0. https://osm.org/copyright', 'osm_type': 'node', 'osm_id': 2268903531, 'boundingbox': ['47.6454204', '47.6455204', '-122.326121', '-122.326021'], 'lat': '47.6454704', 'lon': '-122.326071', 'display_name': 'Puget Sound Periodontics, 2731, Eastlake Avenue East, Eastlake, Seattle, King County, Washington, 98102, United States', 'place_rank': 30, 'category': 'amenity', 'type': 'dentist', 'importance': 0.20000999999999997, 'icon': 'https://nominatim.openstreetmap.org/ui/mapicons/health_dentist.p.20.png'}, {'place_id': 55699208, 'licence': 'Data © OpenStreetMap contributors, ODbL 1.0. https://osm.org/copyright', 'osm_type': 'node', 'osm_id': 4944421181, 'boundingbox': ['47.6686567', '47.6687567', '-122.3324387', '-122.3323387'], 'lat': '47.6687067', 'lon': '-122.3323887', 'display_name': 'Kenny To, DDS, 221, North 56th Street, Tangletown, Wallingford, Seattle, King County, Washington, 98103, United States', 'place_rank': 30, 'category': 'amenity', 'type': 'dentist', 'importance': 0.20000999999999997, 'icon': 'https://nominatim.openstreetmap.org/ui/mapicons/health_dentist.p.20.png'}, {'place_id': 21251132, 'licence': 'Data © OpenStreetMap contributors, ODbL 1.0. https://osm.org/copyright', 'osm_type': 'node', 'osm_id': 2403884620, 'boundingbox': ['47.6688015', '47.6689015', '-122.3327277', '-122.3326277'], 'lat': '47.6688515', 'lon': '-122.3326777', 'display_name': 'Keystone Dental, 2210, North 56th Street, Tangletown, Wallingford, Seattle, King County, Washington, 98103, United States', 'place_rank': 30, 'category': 'amenity', 'type': 'dentist', 'importance': 0.20000999999999997, 'icon': 'https://nominatim.openstreetmap.org/ui/mapicons/health_dentist.p.20.png'}, {'place_id': 159010049, 'licence': 'Data © OpenStreetMap contributors, ODbL 1.0. https://osm.org/copyright', 'osm_type': 'way', 'osm_id': 216321416, 'boundingbox': ['47.6554929', '47.6555606', '-122.3367803', '-122.33638'], 'lat': '47.65552675', 'lon': '-122.33658015', 'display_name': 'Wallingford Dental Arts, 3941, Wallingford Avenue North, Wallingford, Seattle, King County, Washington, 98103, United States', 'place_rank': 30, 'category': 'amenity', 'type': 'dentist', 'importance': 0.20000999999999997, 'icon': 'https://nominatim.openstreetmap.org/ui/mapicons/health_dentist.p.20.png'}, {'place_id': 17923098, 'licence': 'Data © OpenStreetMap contributors, ODbL 1.0. https://osm.org/copyright', 'osm_type': 'node', 'osm_id': 2047481660, 'boundingbox': ['47.6477778', '47.6478778', '-122.33371', '-122.33361'], 'lat': '47.6478278', 'lon': '-122.33366', 'display_name': 'D. Andrew Lewis, DDS, 2101, North 34th Street, Wallingford, Seattle, King County, Washington, 98103, United States', 'place_rank': 30, 'category': 'amenity', 'type': 'dentist', 'importance': 0.20000999999999997, 'icon': 'https://nominatim.openstreetmap.org/ui/mapicons/health_dentist.p.20.png'}, {'place_id': 50423909, 'licence': 'Data © OpenStreetMap contributors, ODbL 1.0. https://osm.org/copyright', 'osm_type': 'node', 'osm_id': 4416981294, 'boundingbox': ['47.6862762', '47.6863762', '-122.312007', '-122.311907'], 'lat': '47.6863262', 'lon': '-122.311957', 'display_name': 'Maple Leaf Dental, 7750, 15th Avenue Northeast, Green Lake, Seattle, King County, Washington, 98115, United States', 'place_rank': 30, 'category': 'amenity', 'type': 'dentist', 'importance': 0.20000999999999997, 'icon': 'https://nominatim.openstreetmap.org/ui/mapicons/health_dentist.p.20.png'}, {'place_id': 12589908, 'licence': 'Data © OpenStreetMap contributors, ODbL 1.0. https://osm.org/copyright', 'osm_type': 'node', 'osm_id': 1292786454, 'boundingbox': ['47.6478804', '47.6479804', '-122.33684', '-122.33674'], 'lat': '47.6479304', 'lon': '-122.33679', 'display_name': 'Dr. Sunny Kim, DDS, 3333, Wallingford Avenue North, Wallingford, Seattle, King County, Washington, 98015, United States', 'place_rank': 30, 'category': 'amenity', 'type': 'dentist', 'importance': 0.20000999999999997, 'icon': 'https://nominatim.openstreetmap.org/ui/mapicons/health_dentist.p.20.png'}, {'place_id': 40967377, 'licence': 'Data © OpenStreetMap contributors, ODbL 1.0. https://osm.org/copyright', 'osm_type': 'node', 'osm_id': 3247340561, 'boundingbox': ['47.6823037', '47.6824037', '-122.290699', '-122.290599'], 'lat': '47.6823537', 'lon': '-122.290649', 'display_name': 'Wedgwood Dental Center, 35th Avenue Northeast, Wedgwood, Seattle, King County, Washington, 98115, United States', 'place_rank': 30, 'category': 'amenity', 'type': 'dentist', 'importance': 0.20000999999999997, 'icon': 'https://nominatim.openstreetmap.org/ui/mapicons/health_dentist.p.20.png'}, {'place_id': 160578022, 'licence': 'Data © OpenStreetMap contributors, ODbL 1.0. https://osm.org/copyright', 'osm_type': 'way', 'osm_id': 224037634, 'boundingbox': ['47.6629445', '47.6630822', '-122.3441034', '-122.3438703'], 'lat': '47.663016299999995', 'lon': '-122.34395941490948', 'display_name': 'Greenlake Dental, 4701, Midvale Avenue North, Wallingford, Seattle, King County, Washington, 98103, United States', 'place_rank': 30, 'category': 'amenity', 'type': 'dentist', 'importance': 0.20000999999999997, 'icon': 'https://nominatim.openstreetmap.org/ui/mapicons/health_dentist.p.20.png'}, {'place_id': 42783855, 'licence': 'Data © OpenStreetMap contributors, ODbL 1.0. https://osm.org/copyright', 'osm_type': 'node', 'osm_id': 3529503609, 'boundingbox': ['47.6826332', '47.6827332', '-122.290869', '-122.290769'], 'lat': '47.6826832', 'lon': '-122.290819', 'display_name': 'Smiles on 35th, 7347, 35th Avenue Northeast, Wedgwood, Seattle, King County, Washington, 98115, United States', 'place_rank': 30, 'category': 'amenity', 'type': 'dentist', 'importance': 0.20000999999999997, 'icon': 'https://nominatim.openstreetmap.org/ui/mapicons/health_dentist.p.20.png'}, {'place_id': 56344799, 'licence': 'Data © OpenStreetMap contributors, ODbL 1.0. https://osm.org/copyright', 'osm_type': 'node', 'osm_id': 5063065553, 'boundingbox': ['47.648531', '47.648631', '-122.342171', '-122.342071'], 'lat': '47.648581', 'lon': '-122.342121', 'display_name': 'Endodontic Solutions, 3400, Stone Way North, Fremont, Seattle, King County, Washington, 98103, United States', 'place_rank': 30, 'category': 'amenity', 'type': 'dentist', 'importance': 0.20000999999999997, 'icon': 'https://nominatim.openstreetmap.org/ui/mapicons/health_dentist.p.20.png'}, {'place_id': 56845360, 'licence': 'Data © OpenStreetMap contributors, ODbL 1.0. https://osm.org/copyright', 'osm_type': 'node', 'osm_id': 5080134326, 'boundingbox': ['47.628426', '47.628526', '-122.331854', '-122.331754'], 'lat': '47.628476', 'lon': '-122.331804', 'display_name': 'Kois Dental, Fairview Avenue North, South Lake Union, Capitol Hill, Seattle, King County, Washington, 98102, United States', 'place_rank': 30, 'category': 'amenity', 'type': 'dentist', 'importance': 0.20000999999999997, 'icon': 'https://nominatim.openstreetmap.org/ui/mapicons/health_dentist.p.20.png'}, {'place_id': 18905255, 'licence': 'Data © OpenStreetMap contributors, ODbL 1.0. https://osm.org/copyright', 'osm_type': 'node', 'osm_id': 2158667777, 'boundingbox': ['47.6239696', '47.6240696', '-122.321168', '-122.321068'], 'lat': '47.6240196', 'lon': '-122.321118', 'display_name': 'Gentle Dental, 535, Broadway East, Capitol Hill, Seattle, King County, Washington, 98102, United States', 'place_rank': 30, 'category': 'amenity', 'type': 'dentist', 'importance': 0.20000999999999997, 'icon': 'https://nominatim.openstreetmap.org/ui/mapicons/health_dentist.p.20.png'}, {'place_id': 81355906, 'licence': 'Data © OpenStreetMap contributors, ODbL 1.0. https://osm.org/copyright', 'osm_type': 'node', 'osm_id': 7949606807, 'boundingbox': ['47.6235584', '47.6236584', '-122.3071855', '-122.3070855'], 'lat': '47.6236084', 'lon': '-122.3071355', 'display_name': 'Country Doctor Dental Clinic, 510, 19th Avenue East, Madison Valley, Capitol Hill, Seattle, King County, Washington, 98112, United States', 'place_rank': 30, 'category': 'amenity', 'type': 'dentist', 'importance': 0.20000999999999997, 'icon': 'https://nominatim.openstreetmap.org/ui/mapicons/health_dentist.p.20.png'}, {'place_id': 16008384, 'licence': 'Data © OpenStreetMap contributors, ODbL 1.0. https://osm.org/copyright', 'osm_type': 'node', 'osm_id': 1788030746, 'boundingbox': ['47.6494531', '47.6495531', '-122.350431', '-122.350331'], 'lat': '47.6495031', 'lon': '-122.350381', 'display_name': 'Parkside Dental, 601, North 34th Street, Fremont, Seattle, King County, Washington, 98103, United States', 'place_rank': 30, 'category': 'amenity', 'type': 'dentist', 'importance': 0.20000999999999997, 'icon': 'https://nominatim.openstreetmap.org/ui/mapicons/health_dentist.p.20.png'}, {'place_id': 19021957, 'licence': 'Data © OpenStreetMap contributors, ODbL 1.0. https://osm.org/copyright', 'osm_type': 'node', 'osm_id': 2158667458, 'boundingbox': ['47.6214443', '47.6215443', '-122.321884', '-122.321784'], 'lat': '47.6214943', 'lon': '-122.321834', 'display_name': 'Zen Dental Center, 310, Harvard Avenue East, Capitol Hill, Seattle, King County, Washington, 98102, United States', 'place_rank': 30, 'category': 'amenity', 'type': 'dentist', 'importance': 0.20000999999999997, 'icon': 'https://nominatim.openstreetmap.org/ui/mapicons/health_dentist.p.20.png'}, {'place_id': 18973088, 'licence': 'Data © OpenStreetMap contributors, ODbL 1.0. https://osm.org/copyright', 'osm_type': 'node', 'osm_id': 2158750705, 'boundingbox': ['47.6205404', '47.6206404', '-122.3206889', '-122.3205889'], 'lat': '47.6205904', 'lon': '-122.3206389', 'display_name': '8to8, 220, Broadway East, Capitol Hill, Seattle, King County, Washington, 98102, United States', 'place_rank': 30, 'category': 'amenity', 'type': 'dentist', 'importance': 0.20000999999999997, 'icon': 'https://nominatim.openstreetmap.org/ui/mapicons/health_dentist.p.20.png'}, {'place_id': 20787623, 'licence': 'Data © OpenStreetMap contributors, ODbL 1.0. https://osm.org/copyright', 'osm_type': 'node', 'osm_id': 2349855666, 'boundingbox': ['47.6383161', '47.6384161', '-122.3493647', '-122.3492647'], 'lat': '47.6383661', 'lon': '-122.3493147', 'display_name': 'Queen Anne Dental Group, 400, Boston Street, Queen Anne, Seattle, King County, Washington, 98109, United States', 'place_rank': 30, 'category': 'amenity', 'type': 'dentist', 'importance': 0.20000999999999997, 'icon': 'https://nominatim.openstreetmap.org/ui/mapicons/health_dentist.p.20.png'}, {'place_id': 21966754, 'licence': 'Data © OpenStreetMap contributors, ODbL 1.0. https://osm.org/copyright', 'osm_type': 'node', 'osm_id': 2462448968, 'boundingbox': ['47.6740632', '47.6741632', '-122.354209', '-122.354109'], 'lat': '47.6741132', 'lon': '-122.354159', 'display_name': 'Seattle Dental Arts, 6206, Phinney Avenue North, Phinney Ridge, Seattle, King County, Washington, 98103, United States', 'place_rank': 30, 'category': 'amenity', 'type': 'dentist', 'importance': 0.20000999999999997, 'icon': 'https://nominatim.openstreetmap.org/ui/mapicons/health_dentist.p.20.png'}, {'place_id': 21788795, 'licence': 'Data © OpenStreetMap contributors, ODbL 1.0. https://osm.org/copyright', 'osm_type': 'node', 'osm_id': 2462449047, 'boundingbox': ['47.6765047', '47.6766047', '-122.354054', '-122.353954'], 'lat': '47.6765547', 'lon': '-122.354004', 'display_name': 'Dento-Facial Fx Inc., 6514, Phinney Avenue North, Phinney Ridge, Seattle, King County, Washington, 98103, United States', 'place_rank': 30, 'category': 'amenity', 'type': 'dentist', 'importance': 0.20000999999999997, 'icon': 'https://nominatim.openstreetmap.org/ui/mapicons/health_dentist.p.20.png'}, {'place_id': 57077065, 'licence': 'Data © OpenStreetMap contributors, ODbL 1.0. https://osm.org/copyright', 'osm_type': 'node', 'osm_id': 5152641324, 'boundingbox': ['47.6177764', '47.6178764', '-122.3172124', '-122.3171124'], 'lat': '47.6178264', 'lon': '-122.3171624', 'display_name': 'Fresh Smile Seattle, 1801, 12th Avenue, Capitol Hill, Seattle, King County, Washington, 98122, United States', 'place_rank': 30, 'category': 'amenity', 'type': 'dentist', 'importance': 0.20000999999999997, 'icon': 'https://nominatim.openstreetmap.org/ui/mapicons/health_dentist.p.20.png'}, {'place_id': 345968775, 'licence': 'Data © OpenStreetMap contributors, ODbL 1.0. https://osm.org/copyright', 'osm_type': 'node', 'osm_id': 2995123613, 'boundingbox': ['47.6788068', '47.6789068', '-122.3551251', '-122.3550251'], 'lat': '47.6788568', 'lon': '-122.3550751', 'display_name': 'Urban Dental Group, 6800, Greenwood Avenue North, Phinney Ridge, Seattle, King County, Washington, 98103, United States', 'place_rank': 30, 'category': 'amenity', 'type': 'dentist', 'importance': 0.20000999999999997, 'icon': 'https://nominatim.openstreetmap.org/ui/mapicons/health_dentist.p.20.png'}, {'place_id': 22229795, 'licence': 'Data © OpenStreetMap contributors, ODbL 1.0. https://osm.org/copyright', 'osm_type': 'node', 'osm_id': 2462449079, 'boundingbox': ['47.6784378', '47.6785378', '-122.355547', '-122.355447'], 'lat': '47.6784878', 'lon': '-122.355497', 'display_name': 'Espresso Dental, 6725, Greenwood Avenue North, Phinney Ridge, Seattle, King County, Washington, 98103, United States', 'place_rank': 30, 'category': 'amenity', 'type': 'dentist', 'importance': 0.20000999999999997, 'icon': 'https://nominatim.openstreetmap.org/ui/mapicons/health_dentist.p.20.png'}, {'place_id': 160221766, 'licence': 'Data © OpenStreetMap contributors, ODbL 1.0. https://osm.org/copyright', 'osm_type': 'way', 'osm_id': 222407814, 'boundingbox': ['47.6805785', '47.6806611', '-122.3556945', '-122.3554865'], 'lat': '47.6806198', 'lon': '-122.35559074786325', 'display_name': 'Phinney Ridge Dental, 7109, Greenwood Avenue North, Phinney Ridge, Seattle, King County, Washington, 98103, United States', 'place_rank': 30, 'category': 'amenity', 'type': 'dentist', 'importance': 0.20000999999999997, 'icon': 'https://nominatim.openstreetmap.org/ui/mapicons/health_dentist.p.20.png'}, {'place_id': 66101207, 'licence': 'Data © OpenStreetMap contributors, ODbL 1.0. https://osm.org/copyright', 'osm_type': 'node', 'osm_id': 6139819010, 'boundingbox': ['47.7079443', '47.7080443', '-122.3264399', '-122.3263399'], 'lat': '47.7079943', 'lon': '-122.3263899', 'display_name': 'Bright Now! Dental, Northeast Northgate Way, Northgate, Seattle, King County, Washington, 98133, United States', 'place_rank': 30, 'category': 'amenity', 'type': 'dentist', 'importance': 0.20000999999999997, 'icon': 'https://nominatim.openstreetmap.org/ui/mapicons/health_dentist.p.20.png'}, {'place_id': 150656950, 'licence': 'Data © OpenStreetMap contributors, ODbL 1.0. https://osm.org/copyright', 'osm_type': 'way', 'osm_id': 191319393, 'boundingbox': ['47.6384921', '47.6385994', '-122.3562176', '-122.3560855'], 'lat': '47.63854445', 'lon': '-122.35615154999999', 'display_name': 'Queen Anne Family Dental, 14, Boston Street, Queen Anne, Seattle, King County, Washington, 98109, United States', 'place_rank': 30, 'category': 'amenity', 'type': 'dentist', 'importance': 0.20000999999999997, 'icon': 'https://nominatim.openstreetmap.org/ui/mapicons/health_dentist.p.20.png'}]\n"
     ]
    }
   ],
   "source": [
    "print(new_data)"
   ]
  },
  {
   "cell_type": "code",
   "execution_count": 32,
   "id": "7707256a",
   "metadata": {},
   "outputs": [
    {
     "name": "stdout",
     "output_type": "stream",
     "text": [
      "['Dr. Carey (Dentist), 1305, Northeast 43rd Street, West Campus, University District, Seattle, King County, Washington, 98105, United States', 'Trailside Dentistry, Burke-Gilman Trail, University Park, University District, Seattle, King County, Washington, 98105, United States', \"Nicole O'Bryan DMD Denistry, 4741, University Way Northeast, University Heights, University District, Seattle, King County, Washington, 98105, United States\", '32 Good Reasons, 1107, Northeast 45th Street, West Campus, University District, Seattle, King County, Washington, 98015, United States', 'U-District Smiles, 4530, Union Bay Place Northeast, East Campus, University District, Seattle, King County, Washington, 98105, United States']\n"
     ]
    }
   ],
   "source": [
    "university_dentist = []\n",
    "\n",
    "for places in range(50):\n",
    "    udis = new_data[places][\"display_name\"]\n",
    "    if \"University District\" in udis:\n",
    "        university_dentist.append(udis)\n",
    "    else:\n",
    "        pass\n",
    "    \n",
    "print(university_dentist)"
   ]
  },
  {
   "cell_type": "code",
   "execution_count": 33,
   "id": "66e7a066",
   "metadata": {},
   "outputs": [],
   "source": [
    "url = \"https://nominatim.openstreetmap.org/search\"\n",
    "my_params = {'q' : \"dentist in downtown seattle\",\n",
    "             'format' : 'jsonv2',\n",
    "             'limit' : 50}\n",
    "\n",
    "response = requests.get(url, params=my_params)\n",
    "\n",
    "if response.status_code == 200:\n",
    "    new_datas = response.json()\n",
    "else:\n",
    "    print(\"ERROR: request was not successfully\")"
   ]
  },
  {
   "cell_type": "code",
   "execution_count": 34,
   "id": "2e6bbd88",
   "metadata": {},
   "outputs": [
    {
     "data": {
      "text/plain": [
       "[{'place_id': 20278480,\n",
       "  'licence': 'Data © OpenStreetMap contributors, ODbL 1.0. https://osm.org/copyright',\n",
       "  'osm_type': 'node',\n",
       "  'osm_id': 2327732111,\n",
       "  'boundingbox': ['47.6159727', '47.6160727', '-122.3382925', '-122.3381925'],\n",
       "  'lat': '47.6160227',\n",
       "  'lon': '-122.3382425',\n",
       "  'display_name': 'Dentist Downtown Seattle, 2045, Westlake Avenue, Central Business District, Belltown, Seattle, King County, Washington, 98121, United States',\n",
       "  'place_rank': 30,\n",
       "  'category': 'amenity',\n",
       "  'type': 'dentist',\n",
       "  'importance': 0.40001,\n",
       "  'icon': 'https://nominatim.openstreetmap.org/ui/mapicons/health_dentist.p.20.png'},\n",
       " {'place_id': 339418855,\n",
       "  'licence': 'Data © OpenStreetMap contributors, ODbL 1.0. https://osm.org/copyright',\n",
       "  'osm_type': 'node',\n",
       "  'osm_id': 4358266495,\n",
       "  'boundingbox': ['47.6228806', '47.6229806', '-122.3382826', '-122.3381826'],\n",
       "  'lat': '47.6229306',\n",
       "  'lon': '-122.3382326',\n",
       "  'display_name': 'Seattle’s Downtown Dentist, 428, Westlake Avenue North, South Lake Union, Belltown, Seattle, King County, Washington, 98109, United States',\n",
       "  'place_rank': 30,\n",
       "  'category': 'amenity',\n",
       "  'type': 'dentist',\n",
       "  'importance': 0.40001,\n",
       "  'icon': 'https://nominatim.openstreetmap.org/ui/mapicons/health_dentist.p.20.png'},\n",
       " {'place_id': 339422657,\n",
       "  'licence': 'Data © OpenStreetMap contributors, ODbL 1.0. https://osm.org/copyright',\n",
       "  'osm_type': 'node',\n",
       "  'osm_id': 9932849173,\n",
       "  'boundingbox': ['47.6234466', '47.6235466', '-122.3361251', '-122.3360251'],\n",
       "  'lat': '47.6234966',\n",
       "  'lon': '-122.3360751',\n",
       "  'display_name': 'The Downtown Seattle Dentist, Boren Avenue North, Amazon, Belltown, Seattle, King County, Washington, 98191, United States',\n",
       "  'place_rank': 30,\n",
       "  'category': 'amenity',\n",
       "  'type': 'dentist',\n",
       "  'importance': 0.40001,\n",
       "  'icon': 'https://nominatim.openstreetmap.org/ui/mapicons/health_dentist.p.20.png'},\n",
       " {'place_id': 62283453,\n",
       "  'licence': 'Data © OpenStreetMap contributors, ODbL 1.0. https://osm.org/copyright',\n",
       "  'osm_type': 'node',\n",
       "  'osm_id': 5750021208,\n",
       "  'boundingbox': ['47.6055721', '47.6056721', '-122.3336032', '-122.3335032'],\n",
       "  'lat': '47.6056221',\n",
       "  'lon': '-122.3335532',\n",
       "  'display_name': 'Downtown Dentistry, Madison Street, West Edge, First Hill, Seattle, King County, Washington, 98154, United States',\n",
       "  'place_rank': 30,\n",
       "  'category': 'amenity',\n",
       "  'type': 'dentist',\n",
       "  'importance': 0.40001,\n",
       "  'icon': 'https://nominatim.openstreetmap.org/ui/mapicons/health_dentist.p.20.png'},\n",
       " {'place_id': 42088730,\n",
       "  'licence': 'Data © OpenStreetMap contributors, ODbL 1.0. https://osm.org/copyright',\n",
       "  'osm_type': 'node',\n",
       "  'osm_id': 3456076479,\n",
       "  'boundingbox': ['47.6275315', '47.6276315', '-122.3701506', '-122.3700506'],\n",
       "  'lat': '47.6275815',\n",
       "  'lon': '-122.3701006',\n",
       "  'display_name': 'Seattle Kids Dentistry, 945, Elliott Avenue West, Queen Anne, Seattle, King County, Washington, 98119, United States',\n",
       "  'place_rank': 30,\n",
       "  'category': 'amenity',\n",
       "  'type': 'dentist',\n",
       "  'importance': 0.30001,\n",
       "  'icon': 'https://nominatim.openstreetmap.org/ui/mapicons/health_dentist.p.20.png'},\n",
       " {'place_id': 46077964,\n",
       "  'licence': 'Data © OpenStreetMap contributors, ODbL 1.0. https://osm.org/copyright',\n",
       "  'osm_type': 'node',\n",
       "  'osm_id': 3881573102,\n",
       "  'boundingbox': ['47.6178778', '47.6179778', '-122.337778', '-122.337678'],\n",
       "  'lat': '47.6179278',\n",
       "  'lon': '-122.337728',\n",
       "  'display_name': '2200 Westlake Dentistry, 900, Lenora Street, South Lake Union, Belltown, Seattle, King County, Washington, 98121, United States',\n",
       "  'place_rank': 30,\n",
       "  'category': 'amenity',\n",
       "  'type': 'dentist',\n",
       "  'importance': 0.30001,\n",
       "  'icon': 'https://nominatim.openstreetmap.org/ui/mapicons/health_dentist.p.20.png'},\n",
       " {'place_id': 21213892,\n",
       "  'licence': 'Data © OpenStreetMap contributors, ODbL 1.0. https://osm.org/copyright',\n",
       "  'osm_type': 'node',\n",
       "  'osm_id': 2400039529,\n",
       "  'boundingbox': ['47.6205883', '47.6206883', '-122.3374428', '-122.3373428'],\n",
       "  'lat': '47.6206383',\n",
       "  'lon': '-122.3373928',\n",
       "  'display_name': 'Innovative Dentistry, 225, Terry Avenue North, South Lake Union, Belltown, Seattle, King County, Washington, 98109, United States',\n",
       "  'place_rank': 30,\n",
       "  'category': 'amenity',\n",
       "  'type': 'dentist',\n",
       "  'importance': 0.30001,\n",
       "  'icon': 'https://nominatim.openstreetmap.org/ui/mapicons/health_dentist.p.20.png'},\n",
       " {'place_id': 54364318,\n",
       "  'licence': 'Data © OpenStreetMap contributors, ODbL 1.0. https://osm.org/copyright',\n",
       "  'osm_type': 'node',\n",
       "  'osm_id': 4813783743,\n",
       "  'boundingbox': ['47.616577', '47.616677', '-122.3437893', '-122.3436893'],\n",
       "  'lat': '47.616627',\n",
       "  'lon': '-122.3437393',\n",
       "  'display_name': 'Belltown Modern Dentistry, 2326, 5th Avenue, South Lake Union, Belltown, Seattle, King County, Washington, 98121, United States',\n",
       "  'place_rank': 30,\n",
       "  'category': 'amenity',\n",
       "  'type': 'dentist',\n",
       "  'importance': 0.30001,\n",
       "  'icon': 'https://nominatim.openstreetmap.org/ui/mapicons/health_dentist.p.20.png'},\n",
       " {'place_id': 20265613,\n",
       "  'licence': 'Data © OpenStreetMap contributors, ODbL 1.0. https://osm.org/copyright',\n",
       "  'osm_type': 'node',\n",
       "  'osm_id': 2312090765,\n",
       "  'boundingbox': ['47.6221604', '47.6222604', '-122.340014', '-122.339914'],\n",
       "  'lat': '47.6222104',\n",
       "  'lon': '-122.339964',\n",
       "  'display_name': '888 Dentistry, Harrison Street, South Lake Union, Belltown, Seattle, King County, Washington, 98121, United States',\n",
       "  'place_rank': 30,\n",
       "  'category': 'amenity',\n",
       "  'type': 'dentist',\n",
       "  'importance': 0.30001,\n",
       "  'icon': 'https://nominatim.openstreetmap.org/ui/mapicons/health_dentist.p.20.png'},\n",
       " {'place_id': 57517026,\n",
       "  'licence': 'Data © OpenStreetMap contributors, ODbL 1.0. https://osm.org/copyright',\n",
       "  'osm_type': 'node',\n",
       "  'osm_id': 5236869919,\n",
       "  'boundingbox': ['47.6202422', '47.6203422', '-122.3146365', '-122.3145365'],\n",
       "  'lat': '47.6202922',\n",
       "  'lon': '-122.3145865',\n",
       "  'display_name': 'Sweet Tooth Family Dentist, 14th Avenue East, Madison Valley, Capitol Hill, Seattle, King County, Washington, 98122, United States',\n",
       "  'place_rank': 30,\n",
       "  'category': 'amenity',\n",
       "  'type': 'dentist',\n",
       "  'importance': 0.30001,\n",
       "  'icon': 'https://nominatim.openstreetmap.org/ui/mapicons/health_dentist.p.20.png'},\n",
       " {'place_id': 339422655,\n",
       "  'licence': 'Data © OpenStreetMap contributors, ODbL 1.0. https://osm.org/copyright',\n",
       "  'osm_type': 'node',\n",
       "  'osm_id': 9932849171,\n",
       "  'boundingbox': ['47.6236975', '47.6237975', '-122.3361007', '-122.3360007'],\n",
       "  'lat': '47.6237475',\n",
       "  'lon': '-122.3360507',\n",
       "  'display_name': 'South Lake Union Dentist Office, 527, Boren Avenue North, Amazon, Belltown, Seattle, King County, Washington, 98109, United States',\n",
       "  'place_rank': 30,\n",
       "  'category': 'amenity',\n",
       "  'type': 'dentist',\n",
       "  'importance': 0.30001,\n",
       "  'icon': 'https://nominatim.openstreetmap.org/ui/mapicons/health_dentist.p.20.png'},\n",
       " {'place_id': 69236177,\n",
       "  'licence': 'Data © OpenStreetMap contributors, ODbL 1.0. https://osm.org/copyright',\n",
       "  'osm_type': 'node',\n",
       "  'osm_id': 6483256385,\n",
       "  'boundingbox': ['47.617625', '47.617725', '-122.3303404', '-122.3302404'],\n",
       "  'lat': '47.617675',\n",
       "  'lon': '-122.3302904',\n",
       "  'display_name': 'Advanced Metropolitan Dentistry, 1220, Howell Street, South Lake Union, First Hill, Seattle, King County, Washington, 98101, United States',\n",
       "  'place_rank': 30,\n",
       "  'category': 'amenity',\n",
       "  'type': 'dentist',\n",
       "  'importance': 0.30001,\n",
       "  'icon': 'https://nominatim.openstreetmap.org/ui/mapicons/health_dentist.p.20.png'},\n",
       " {'place_id': 21583729,\n",
       "  'licence': 'Data © OpenStreetMap contributors, ODbL 1.0. https://osm.org/copyright',\n",
       "  'osm_type': 'node',\n",
       "  'osm_id': 2400039550,\n",
       "  'boundingbox': ['47.6204822', '47.6205822', '-122.330674', '-122.330574'],\n",
       "  'lat': '47.6205322',\n",
       "  'lon': '-122.330624',\n",
       "  'display_name': 'Revive Smiles Dentistry, 259, Yale Avenue North, South Lake Union, First Hill, Seattle, King County, Washington, 98109, United States',\n",
       "  'place_rank': 30,\n",
       "  'category': 'amenity',\n",
       "  'type': 'dentist',\n",
       "  'importance': 0.30001,\n",
       "  'icon': 'https://nominatim.openstreetmap.org/ui/mapicons/health_dentist.p.20.png'},\n",
       " {'place_id': 18962185,\n",
       "  'licence': 'Data © OpenStreetMap contributors, ODbL 1.0. https://osm.org/copyright',\n",
       "  'osm_type': 'node',\n",
       "  'osm_id': 2131726189,\n",
       "  'boundingbox': ['47.6589451', '47.6590451', '-122.342061', '-122.341961'],\n",
       "  'lat': '47.6589951',\n",
       "  'lon': '-122.342011',\n",
       "  'display_name': 'Greenlake Family Dentistry, 4230, Stone Way North, Wallingford, Seattle, King County, Washington, 98103, United States',\n",
       "  'place_rank': 30,\n",
       "  'category': 'amenity',\n",
       "  'type': 'dentist',\n",
       "  'importance': 0.30001,\n",
       "  'icon': 'https://nominatim.openstreetmap.org/ui/mapicons/health_dentist.p.20.png'},\n",
       " {'place_id': 18625798,\n",
       "  'licence': 'Data © OpenStreetMap contributors, ODbL 1.0. https://osm.org/copyright',\n",
       "  'osm_type': 'node',\n",
       "  'osm_id': 2148525771,\n",
       "  'boundingbox': ['47.6363599', '47.6364599', '-122.357211', '-122.357111'],\n",
       "  'lat': '47.6364099',\n",
       "  'lon': '-122.357161',\n",
       "  'display_name': 'Queen Anne Dentistry, 1911, Queen Anne Avenue North, Queen Anne, Seattle, King County, Washington, 98109, United States',\n",
       "  'place_rank': 30,\n",
       "  'category': 'amenity',\n",
       "  'type': 'dentist',\n",
       "  'importance': 0.30001,\n",
       "  'icon': 'https://nominatim.openstreetmap.org/ui/mapicons/health_dentist.p.20.png'},\n",
       " {'place_id': 37916614,\n",
       "  'licence': 'Data © OpenStreetMap contributors, ODbL 1.0. https://osm.org/copyright',\n",
       "  'osm_type': 'node',\n",
       "  'osm_id': 3089542565,\n",
       "  'boundingbox': ['47.6251904', '47.6252904', '-122.3545501', '-122.3544501'],\n",
       "  'lat': '47.6252404',\n",
       "  'lon': '-122.3545001',\n",
       "  'display_name': 'Dentists of Queen Anne, 620, 1st Avenue North, Uptown, Belltown, Seattle, King County, Washington, 98109, United States',\n",
       "  'place_rank': 30,\n",
       "  'category': 'amenity',\n",
       "  'type': 'dentist',\n",
       "  'importance': 0.30001,\n",
       "  'icon': 'https://nominatim.openstreetmap.org/ui/mapicons/health_dentist.p.20.png'},\n",
       " {'place_id': 160751626,\n",
       "  'licence': 'Data © OpenStreetMap contributors, ODbL 1.0. https://osm.org/copyright',\n",
       "  'osm_type': 'way',\n",
       "  'osm_id': 224037501,\n",
       "  'boundingbox': ['47.6615494', '47.6617451', '-122.3379222', '-122.3378136'],\n",
       "  'lat': '47.66161555',\n",
       "  'lon': '-122.33786787340982',\n",
       "  'display_name': 'Wallingford Family Dentistry, 1628, North 45th Street, Wallingford, Seattle, King County, Washington, 98103, United States',\n",
       "  'place_rank': 30,\n",
       "  'category': 'amenity',\n",
       "  'type': 'dentist',\n",
       "  'importance': 0.30001,\n",
       "  'icon': 'https://nominatim.openstreetmap.org/ui/mapicons/health_dentist.p.20.png'},\n",
       " {'place_id': 21354144,\n",
       "  'licence': 'Data © OpenStreetMap contributors, ODbL 1.0. https://osm.org/copyright',\n",
       "  'osm_type': 'node',\n",
       "  'osm_id': 2383838310,\n",
       "  'boundingbox': ['47.6269118', '47.6270118', '-122.307555', '-122.307455'],\n",
       "  'lat': '47.6269618',\n",
       "  'lon': '-122.307505',\n",
       "  'display_name': 'Capitol Hill Montlake Dentistry, 901, 19th Avenue East, Madison Valley, Capitol Hill, Seattle, King County, Washington, 98112, United States',\n",
       "  'place_rank': 30,\n",
       "  'category': 'amenity',\n",
       "  'type': 'dentist',\n",
       "  'importance': 0.30001,\n",
       "  'icon': 'https://nominatim.openstreetmap.org/ui/mapicons/health_dentist.p.20.png'},\n",
       " {'place_id': 70889045,\n",
       "  'licence': 'Data © OpenStreetMap contributors, ODbL 1.0. https://osm.org/copyright',\n",
       "  'osm_type': 'node',\n",
       "  'osm_id': 6737287587,\n",
       "  'boundingbox': ['47.5996746', '47.5997746', '-122.3266137', '-122.3265137'],\n",
       "  'lat': '47.5997246',\n",
       "  'lon': '-122.3265637',\n",
       "  'display_name': 'Sixth Avenue Dentistry - Nigel W. Saw, 6th Avenue South, Little Saigon, International District/Chinatown, Seattle, King County, Washington, 98104, United States',\n",
       "  'place_rank': 30,\n",
       "  'category': 'amenity',\n",
       "  'type': 'dentist',\n",
       "  'importance': 0.30001,\n",
       "  'icon': 'https://nominatim.openstreetmap.org/ui/mapicons/health_dentist.p.20.png'},\n",
       " {'place_id': 48025906,\n",
       "  'licence': 'Data © OpenStreetMap contributors, ODbL 1.0. https://osm.org/copyright',\n",
       "  'osm_type': 'node',\n",
       "  'osm_id': 4170543667,\n",
       "  'boundingbox': ['47.6159723', '47.6160723', '-122.337407', '-122.337307'],\n",
       "  'lat': '47.6160223',\n",
       "  'lon': '-122.337357',\n",
       "  'display_name': 'Avenue Smiles, 2001, 8th Avenue, Belltown, Seattle, King County, Washington, 98121, United States',\n",
       "  'place_rank': 30,\n",
       "  'category': 'amenity',\n",
       "  'type': 'dentist',\n",
       "  'importance': 0.20000999999999997,\n",
       "  'icon': 'https://nominatim.openstreetmap.org/ui/mapicons/health_dentist.p.20.png'},\n",
       " {'place_id': 42523350,\n",
       "  'licence': 'Data © OpenStreetMap contributors, ODbL 1.0. https://osm.org/copyright',\n",
       "  'osm_type': 'node',\n",
       "  'osm_id': 3456076480,\n",
       "  'boundingbox': ['47.6274713', '47.6275713', '-122.3706266', '-122.3705266'],\n",
       "  'lat': '47.6275213',\n",
       "  'lon': '-122.3705766',\n",
       "  'display_name': 'Elliott Bay Dental, 945, Elliott Avenue West, Queen Anne, Seattle, King County, Washington, 98119, United States',\n",
       "  'place_rank': 30,\n",
       "  'category': 'amenity',\n",
       "  'type': 'dentist',\n",
       "  'importance': 0.20000999999999997,\n",
       "  'icon': 'https://nominatim.openstreetmap.org/ui/mapicons/health_dentist.p.20.png'},\n",
       " {'place_id': 16008384,\n",
       "  'licence': 'Data © OpenStreetMap contributors, ODbL 1.0. https://osm.org/copyright',\n",
       "  'osm_type': 'node',\n",
       "  'osm_id': 1788030746,\n",
       "  'boundingbox': ['47.6494531', '47.6495531', '-122.350431', '-122.350331'],\n",
       "  'lat': '47.6495031',\n",
       "  'lon': '-122.350381',\n",
       "  'display_name': 'Parkside Dental, 601, North 34th Street, Fremont, Seattle, King County, Washington, 98103, United States',\n",
       "  'place_rank': 30,\n",
       "  'category': 'amenity',\n",
       "  'type': 'dentist',\n",
       "  'importance': 0.20000999999999997,\n",
       "  'icon': 'https://nominatim.openstreetmap.org/ui/mapicons/health_dentist.p.20.png'},\n",
       " {'place_id': 18973088,\n",
       "  'licence': 'Data © OpenStreetMap contributors, ODbL 1.0. https://osm.org/copyright',\n",
       "  'osm_type': 'node',\n",
       "  'osm_id': 2158750705,\n",
       "  'boundingbox': ['47.6205404', '47.6206404', '-122.3206889', '-122.3205889'],\n",
       "  'lat': '47.6205904',\n",
       "  'lon': '-122.3206389',\n",
       "  'display_name': '8to8, 220, Broadway East, Capitol Hill, Seattle, King County, Washington, 98102, United States',\n",
       "  'place_rank': 30,\n",
       "  'category': 'amenity',\n",
       "  'type': 'dentist',\n",
       "  'importance': 0.20000999999999997,\n",
       "  'icon': 'https://nominatim.openstreetmap.org/ui/mapicons/health_dentist.p.20.png'},\n",
       " {'place_id': 19021957,\n",
       "  'licence': 'Data © OpenStreetMap contributors, ODbL 1.0. https://osm.org/copyright',\n",
       "  'osm_type': 'node',\n",
       "  'osm_id': 2158667458,\n",
       "  'boundingbox': ['47.6214443', '47.6215443', '-122.321884', '-122.321784'],\n",
       "  'lat': '47.6214943',\n",
       "  'lon': '-122.321834',\n",
       "  'display_name': 'Zen Dental Center, 310, Harvard Avenue East, Capitol Hill, Seattle, King County, Washington, 98102, United States',\n",
       "  'place_rank': 30,\n",
       "  'category': 'amenity',\n",
       "  'type': 'dentist',\n",
       "  'importance': 0.20000999999999997,\n",
       "  'icon': 'https://nominatim.openstreetmap.org/ui/mapicons/health_dentist.p.20.png'},\n",
       " {'place_id': 21376918,\n",
       "  'licence': 'Data © OpenStreetMap contributors, ODbL 1.0. https://osm.org/copyright',\n",
       "  'osm_type': 'node',\n",
       "  'osm_id': 2404211132,\n",
       "  'boundingbox': ['47.6128174', '47.6129174', '-122.3366307', '-122.3365307'],\n",
       "  'lat': '47.6128674',\n",
       "  'lon': '-122.3365807',\n",
       "  'display_name': 'Emergency Dental Care USA, 511, Olive Way, Central Business District, Belltown, Seattle, King County, Washington, 98101, United States',\n",
       "  'place_rank': 30,\n",
       "  'category': 'amenity',\n",
       "  'type': 'dentist',\n",
       "  'importance': 0.20000999999999997,\n",
       "  'icon': 'https://nominatim.openstreetmap.org/ui/mapicons/health_dentist.p.20.png'},\n",
       " {'place_id': 18905255,\n",
       "  'licence': 'Data © OpenStreetMap contributors, ODbL 1.0. https://osm.org/copyright',\n",
       "  'osm_type': 'node',\n",
       "  'osm_id': 2158667777,\n",
       "  'boundingbox': ['47.6239696', '47.6240696', '-122.321168', '-122.321068'],\n",
       "  'lat': '47.6240196',\n",
       "  'lon': '-122.321118',\n",
       "  'display_name': 'Gentle Dental, 535, Broadway East, Capitol Hill, Seattle, King County, Washington, 98102, United States',\n",
       "  'place_rank': 30,\n",
       "  'category': 'amenity',\n",
       "  'type': 'dentist',\n",
       "  'importance': 0.20000999999999997,\n",
       "  'icon': 'https://nominatim.openstreetmap.org/ui/mapicons/health_dentist.p.20.png'},\n",
       " {'place_id': 57077065,\n",
       "  'licence': 'Data © OpenStreetMap contributors, ODbL 1.0. https://osm.org/copyright',\n",
       "  'osm_type': 'node',\n",
       "  'osm_id': 5152641324,\n",
       "  'boundingbox': ['47.6177764', '47.6178764', '-122.3172124', '-122.3171124'],\n",
       "  'lat': '47.6178264',\n",
       "  'lon': '-122.3171624',\n",
       "  'display_name': 'Fresh Smile Seattle, 1801, 12th Avenue, Capitol Hill, Seattle, King County, Washington, 98122, United States',\n",
       "  'place_rank': 30,\n",
       "  'category': 'amenity',\n",
       "  'type': 'dentist',\n",
       "  'importance': 0.20000999999999997,\n",
       "  'icon': 'https://nominatim.openstreetmap.org/ui/mapicons/health_dentist.p.20.png'},\n",
       " {'place_id': 162696198,\n",
       "  'licence': 'Data © OpenStreetMap contributors, ODbL 1.0. https://osm.org/copyright',\n",
       "  'osm_type': 'way',\n",
       "  'osm_id': 231664568,\n",
       "  'boundingbox': ['47.6194414', '47.6196318', '-122.3430141', '-122.3426061'],\n",
       "  'lat': '47.619580299999996',\n",
       "  'lon': '-122.34281011147071',\n",
       "  'display_name': 'Willamette Dental Group, 133, Dexter Avenue North, South Lake Union, Belltown, Seattle, King County, Washington, 98109, United States',\n",
       "  'place_rank': 30,\n",
       "  'category': 'amenity',\n",
       "  'type': 'dentist',\n",
       "  'importance': 0.20000999999999997,\n",
       "  'icon': 'https://nominatim.openstreetmap.org/ui/mapicons/health_dentist.p.20.png'},\n",
       " {'place_id': 87745353,\n",
       "  'licence': 'Data © OpenStreetMap contributors, ODbL 1.0. https://osm.org/copyright',\n",
       "  'osm_type': 'node',\n",
       "  'osm_id': 8597651201,\n",
       "  'boundingbox': ['47.6126505', '47.6127505', '-122.322416', '-122.322316'],\n",
       "  'lat': '47.6127005',\n",
       "  'lon': '-122.322366',\n",
       "  'display_name': 'Seneca Dental, Seneca Street, First Hill, Seattle, King County, Washington, 98138, United States',\n",
       "  'place_rank': 30,\n",
       "  'category': 'amenity',\n",
       "  'type': 'dentist',\n",
       "  'importance': 0.20000999999999997,\n",
       "  'icon': 'https://nominatim.openstreetmap.org/ui/mapicons/health_dentist.p.20.png'},\n",
       " {'place_id': 20555134,\n",
       "  'licence': 'Data © OpenStreetMap contributors, ODbL 1.0. https://osm.org/copyright',\n",
       "  'osm_type': 'node',\n",
       "  'osm_id': 2327716514,\n",
       "  'boundingbox': ['47.6133168', '47.6134168', '-122.344918', '-122.344818'],\n",
       "  'lat': '47.6133668',\n",
       "  'lon': '-122.344868',\n",
       "  'display_name': 'Omni Dental, 2207, 2nd Avenue, Central Business District, Belltown, Seattle, King County, Washington, 98121, United States',\n",
       "  'place_rank': 30,\n",
       "  'category': 'amenity',\n",
       "  'type': 'dentist',\n",
       "  'importance': 0.20000999999999997,\n",
       "  'icon': 'https://nominatim.openstreetmap.org/ui/mapicons/health_dentist.p.20.png'},\n",
       " {'place_id': 51682782,\n",
       "  'licence': 'Data © OpenStreetMap contributors, ODbL 1.0. https://osm.org/copyright',\n",
       "  'osm_type': 'node',\n",
       "  'osm_id': 4544123298,\n",
       "  'boundingbox': ['47.6085322', '47.6086322', '-122.335772', '-122.335672'],\n",
       "  'lat': '47.6085822',\n",
       "  'lon': '-122.335722',\n",
       "  'display_name': 'Seattle Dental Associates, 1325, 4th Avenue, Central Business District, First Hill, Seattle, King County, Washington, 98101, United States',\n",
       "  'place_rank': 30,\n",
       "  'category': 'amenity',\n",
       "  'type': 'dentist',\n",
       "  'importance': 0.20000999999999997,\n",
       "  'icon': 'https://nominatim.openstreetmap.org/ui/mapicons/health_dentist.p.20.png'},\n",
       " {'place_id': 56344799,\n",
       "  'licence': 'Data © OpenStreetMap contributors, ODbL 1.0. https://osm.org/copyright',\n",
       "  'osm_type': 'node',\n",
       "  'osm_id': 5063065553,\n",
       "  'boundingbox': ['47.648531', '47.648631', '-122.342171', '-122.342071'],\n",
       "  'lat': '47.648581',\n",
       "  'lon': '-122.342121',\n",
       "  'display_name': 'Endodontic Solutions, 3400, Stone Way North, Fremont, Seattle, King County, Washington, 98103, United States',\n",
       "  'place_rank': 30,\n",
       "  'category': 'amenity',\n",
       "  'type': 'dentist',\n",
       "  'importance': 0.20000999999999997,\n",
       "  'icon': 'https://nominatim.openstreetmap.org/ui/mapicons/health_dentist.p.20.png'},\n",
       " {'place_id': 47064476,\n",
       "  'licence': 'Data © OpenStreetMap contributors, ODbL 1.0. https://osm.org/copyright',\n",
       "  'osm_type': 'node',\n",
       "  'osm_id': 3996640537,\n",
       "  'boundingbox': ['47.6072084', '47.6073084', '-122.3342496', '-122.3341496'],\n",
       "  'lat': '47.6072584',\n",
       "  'lon': '-122.3341996',\n",
       "  'display_name': '4th and Seneca Dental, 4th Avenue Cycletrack, Central Business District, Belltown, Seattle, King County, Washington, 98161, United States',\n",
       "  'place_rank': 30,\n",
       "  'category': 'amenity',\n",
       "  'type': 'dentist',\n",
       "  'importance': 0.20000999999999997,\n",
       "  'icon': 'https://nominatim.openstreetmap.org/ui/mapicons/health_dentist.p.20.png'},\n",
       " {'place_id': 43666530,\n",
       "  'licence': 'Data © OpenStreetMap contributors, ODbL 1.0. https://osm.org/copyright',\n",
       "  'osm_type': 'node',\n",
       "  'osm_id': 3645112130,\n",
       "  'boundingbox': ['47.6161214', '47.6162214', '-122.3488059', '-122.3487059'],\n",
       "  'lat': '47.6161714',\n",
       "  'lon': '-122.3487559',\n",
       "  'display_name': '2nd & Vine Dental, 200, Vine Street, Uptown, Belltown, Seattle, King County, Washington, 98121, United States',\n",
       "  'place_rank': 30,\n",
       "  'category': 'amenity',\n",
       "  'type': 'dentist',\n",
       "  'importance': 0.20000999999999997,\n",
       "  'icon': 'https://nominatim.openstreetmap.org/ui/mapicons/health_dentist.p.20.png'},\n",
       " {'place_id': 49190159,\n",
       "  'licence': 'Data © OpenStreetMap contributors, ODbL 1.0. https://osm.org/copyright',\n",
       "  'osm_type': 'node',\n",
       "  'osm_id': 4281319390,\n",
       "  'boundingbox': ['47.6052627', '47.6053627', '-122.3375086', '-122.3374086'],\n",
       "  'lat': '47.6053127',\n",
       "  'lon': '-122.3374586',\n",
       "  'display_name': 'West Edge Dental, 1107, 1st Avenue, West Edge, Belltown, Seattle, King County, Washington, 98101, United States',\n",
       "  'place_rank': 30,\n",
       "  'category': 'amenity',\n",
       "  'type': 'dentist',\n",
       "  'importance': 0.20000999999999997,\n",
       "  'icon': 'https://nominatim.openstreetmap.org/ui/mapicons/health_dentist.p.20.png'},\n",
       " {'place_id': 55910844,\n",
       "  'licence': 'Data © OpenStreetMap contributors, ODbL 1.0. https://osm.org/copyright',\n",
       "  'osm_type': 'node',\n",
       "  'osm_id': 5067774823,\n",
       "  'boundingbox': ['47.6161147', '47.6162147', '-122.34961', '-122.34951'],\n",
       "  'lat': '47.6161647',\n",
       "  'lon': '-122.34956',\n",
       "  'display_name': 'Bell Harbor Dental, 2621, 2nd Avenue, Uptown, Belltown, Seattle, King County, Washington, 98121, United States',\n",
       "  'place_rank': 30,\n",
       "  'category': 'amenity',\n",
       "  'type': 'dentist',\n",
       "  'importance': 0.20000999999999997,\n",
       "  'icon': 'https://nominatim.openstreetmap.org/ui/mapicons/health_dentist.p.20.png'},\n",
       " {'place_id': 19194018,\n",
       "  'licence': 'Data © OpenStreetMap contributors, ODbL 1.0. https://osm.org/copyright',\n",
       "  'osm_type': 'node',\n",
       "  'osm_id': 2159323195,\n",
       "  'boundingbox': ['47.6084875', '47.6085875', '-122.325423', '-122.325323'],\n",
       "  'lat': '47.6085375',\n",
       "  'lon': '-122.325373',\n",
       "  'display_name': 'First Hill Dental Center, 901, Boren Avenue, First Hill, Seattle, King County, Washington, 98104, United States',\n",
       "  'place_rank': 30,\n",
       "  'category': 'amenity',\n",
       "  'type': 'dentist',\n",
       "  'importance': 0.20000999999999997,\n",
       "  'icon': 'https://nominatim.openstreetmap.org/ui/mapicons/health_dentist.p.20.png'},\n",
       " {'place_id': 52006622,\n",
       "  'licence': 'Data © OpenStreetMap contributors, ODbL 1.0. https://osm.org/copyright',\n",
       "  'osm_type': 'node',\n",
       "  'osm_id': 4639109907,\n",
       "  'boundingbox': ['47.6049903', '47.6050903', '-122.3346196', '-122.3345196'],\n",
       "  'lat': '47.6050403',\n",
       "  'lon': '-122.3345696',\n",
       "  'display_name': 'Gateway Dental, 2nd Avenue Cycletrack, West Edge, International District/Chinatown, Seattle, King County, Washington, 98174, United States',\n",
       "  'place_rank': 30,\n",
       "  'category': 'amenity',\n",
       "  'type': 'dentist',\n",
       "  'importance': 0.20000999999999997,\n",
       "  'icon': 'https://nominatim.openstreetmap.org/ui/mapicons/health_dentist.p.20.png'},\n",
       " {'place_id': 63821024,\n",
       "  'licence': 'Data © OpenStreetMap contributors, ODbL 1.0. https://osm.org/copyright',\n",
       "  'osm_type': 'node',\n",
       "  'osm_id': 5830451696,\n",
       "  'boundingbox': ['47.6050249', '47.6051249', '-122.3344335', '-122.3343335'],\n",
       "  'lat': '47.6050749',\n",
       "  'lon': '-122.3343835',\n",
       "  'display_name': 'Gateway Dental, Madison Street, West Edge, First Hill, Seattle, King County, Washington, 98174, United States',\n",
       "  'place_rank': 30,\n",
       "  'category': 'amenity',\n",
       "  'type': 'dentist',\n",
       "  'importance': 0.20000999999999997,\n",
       "  'icon': 'https://nominatim.openstreetmap.org/ui/mapicons/health_dentist.p.20.png'},\n",
       " {'place_id': 52060635,\n",
       "  'licence': 'Data © OpenStreetMap contributors, ODbL 1.0. https://osm.org/copyright',\n",
       "  'osm_type': 'node',\n",
       "  'osm_id': 4639109912,\n",
       "  'boundingbox': ['47.6049582', '47.6050582', '-122.3345881', '-122.3344881'],\n",
       "  'lat': '47.6050082',\n",
       "  'lon': '-122.3345381',\n",
       "  'display_name': 'Leone Vaughn Davis Orthodonics, 2nd Avenue Cycletrack, West Edge, International District/Chinatown, Seattle, King County, Washington, 98174, United States',\n",
       "  'place_rank': 30,\n",
       "  'category': 'amenity',\n",
       "  'type': 'dentist',\n",
       "  'importance': 0.20000999999999997,\n",
       "  'icon': 'https://nominatim.openstreetmap.org/ui/mapicons/health_dentist.p.20.png'},\n",
       " {'place_id': 75401537,\n",
       "  'licence': 'Data © OpenStreetMap contributors, ODbL 1.0. https://osm.org/copyright',\n",
       "  'osm_type': 'node',\n",
       "  'osm_id': 7127329681,\n",
       "  'boundingbox': ['47.6230719', '47.6231719', '-122.3582798', '-122.3581798'],\n",
       "  'lat': '47.6231219',\n",
       "  'lon': '-122.3582298',\n",
       "  'display_name': 'Seattle Dental Co, West Republican Street, Uptown, Belltown, Seattle, King County, Washington, 98109, United States',\n",
       "  'place_rank': 30,\n",
       "  'category': 'amenity',\n",
       "  'type': 'dentist',\n",
       "  'importance': 0.20000999999999997,\n",
       "  'icon': 'https://nominatim.openstreetmap.org/ui/mapicons/health_dentist.p.20.png'},\n",
       " {'place_id': 20339362,\n",
       "  'licence': 'Data © OpenStreetMap contributors, ODbL 1.0. https://osm.org/copyright',\n",
       "  'osm_type': 'node',\n",
       "  'osm_id': 2332453483,\n",
       "  'boundingbox': ['47.6394037', '47.6395037', '-122.3654137', '-122.3653137'],\n",
       "  'lat': '47.6394537',\n",
       "  'lon': '-122.3653637',\n",
       "  'display_name': 'Queen Anne Hilltop Dental, 605, West McGraw Street, Queen Anne, Seattle, King County, Washington, 98119, United States',\n",
       "  'place_rank': 30,\n",
       "  'category': 'amenity',\n",
       "  'type': 'dentist',\n",
       "  'importance': 0.20000999999999997,\n",
       "  'icon': 'https://nominatim.openstreetmap.org/ui/mapicons/health_dentist.p.20.png'},\n",
       " {'place_id': 70956489,\n",
       "  'licence': 'Data © OpenStreetMap contributors, ODbL 1.0. https://osm.org/copyright',\n",
       "  'osm_type': 'node',\n",
       "  'osm_id': 6615128586,\n",
       "  'boundingbox': ['47.6396551', '47.6397551', '-122.365418', '-122.365318'],\n",
       "  'lat': '47.6397051',\n",
       "  'lon': '-122.365368',\n",
       "  'display_name': 'Randy Weisz, DDS, West McGraw Street, Queen Anne, Seattle, King County, Washington, 98119, United States',\n",
       "  'place_rank': 30,\n",
       "  'category': 'amenity',\n",
       "  'type': 'dentist',\n",
       "  'importance': 0.20000999999999997,\n",
       "  'icon': 'https://nominatim.openstreetmap.org/ui/mapicons/health_dentist.p.20.png'},\n",
       " {'place_id': 20787623,\n",
       "  'licence': 'Data © OpenStreetMap contributors, ODbL 1.0. https://osm.org/copyright',\n",
       "  'osm_type': 'node',\n",
       "  'osm_id': 2349855666,\n",
       "  'boundingbox': ['47.6383161', '47.6384161', '-122.3493647', '-122.3492647'],\n",
       "  'lat': '47.6383661',\n",
       "  'lon': '-122.3493147',\n",
       "  'display_name': 'Queen Anne Dental Group, 400, Boston Street, Queen Anne, Seattle, King County, Washington, 98109, United States',\n",
       "  'place_rank': 30,\n",
       "  'category': 'amenity',\n",
       "  'type': 'dentist',\n",
       "  'importance': 0.20000999999999997,\n",
       "  'icon': 'https://nominatim.openstreetmap.org/ui/mapicons/health_dentist.p.20.png'},\n",
       " {'place_id': 70412374,\n",
       "  'licence': 'Data © OpenStreetMap contributors, ODbL 1.0. https://osm.org/copyright',\n",
       "  'osm_type': 'node',\n",
       "  'osm_id': 6614909810,\n",
       "  'boundingbox': ['47.6324472', '47.6325472', '-122.357263', '-122.357163'],\n",
       "  'lat': '47.6324972',\n",
       "  'lon': '-122.357213',\n",
       "  'display_name': 'Pure Dental Arts, 1503, Queen Anne Avenue North, Queen Anne, Seattle, King County, Washington, 98109, United States',\n",
       "  'place_rank': 30,\n",
       "  'category': 'amenity',\n",
       "  'type': 'dentist',\n",
       "  'importance': 0.20000999999999997,\n",
       "  'icon': 'https://nominatim.openstreetmap.org/ui/mapicons/health_dentist.p.20.png'},\n",
       " {'place_id': 56845360,\n",
       "  'licence': 'Data © OpenStreetMap contributors, ODbL 1.0. https://osm.org/copyright',\n",
       "  'osm_type': 'node',\n",
       "  'osm_id': 5080134326,\n",
       "  'boundingbox': ['47.628426', '47.628526', '-122.331854', '-122.331754'],\n",
       "  'lat': '47.628476',\n",
       "  'lon': '-122.331804',\n",
       "  'display_name': 'Kois Dental, Fairview Avenue North, South Lake Union, Capitol Hill, Seattle, King County, Washington, 98102, United States',\n",
       "  'place_rank': 30,\n",
       "  'category': 'amenity',\n",
       "  'type': 'dentist',\n",
       "  'importance': 0.20000999999999997,\n",
       "  'icon': 'https://nominatim.openstreetmap.org/ui/mapicons/health_dentist.p.20.png'},\n",
       " {'place_id': 361891289,\n",
       "  'licence': 'Data © OpenStreetMap contributors, ODbL 1.0. https://osm.org/copyright',\n",
       "  'osm_type': 'node',\n",
       "  'osm_id': 2015537730,\n",
       "  'boundingbox': ['47.6333135', '47.6334135', '-122.3572877', '-122.3571877'],\n",
       "  'lat': '47.6333635',\n",
       "  'lon': '-122.3572377',\n",
       "  'display_name': 'Avenue Orthodontics, 1531, Queen Anne Avenue North, Queen Anne, Seattle, King County, Washington, 98109, United States',\n",
       "  'place_rank': 30,\n",
       "  'category': 'amenity',\n",
       "  'type': 'dentist',\n",
       "  'importance': 0.20000999999999997,\n",
       "  'icon': 'https://nominatim.openstreetmap.org/ui/mapicons/health_dentist.p.20.png'},\n",
       " {'place_id': 160578022,\n",
       "  'licence': 'Data © OpenStreetMap contributors, ODbL 1.0. https://osm.org/copyright',\n",
       "  'osm_type': 'way',\n",
       "  'osm_id': 224037634,\n",
       "  'boundingbox': ['47.6629445', '47.6630822', '-122.3441034', '-122.3438703'],\n",
       "  'lat': '47.663016299999995',\n",
       "  'lon': '-122.34395941490948',\n",
       "  'display_name': 'Greenlake Dental, 4701, Midvale Avenue North, Wallingford, Seattle, King County, Washington, 98103, United States',\n",
       "  'place_rank': 30,\n",
       "  'category': 'amenity',\n",
       "  'type': 'dentist',\n",
       "  'importance': 0.20000999999999997,\n",
       "  'icon': 'https://nominatim.openstreetmap.org/ui/mapicons/health_dentist.p.20.png'},\n",
       " {'place_id': 12589908,\n",
       "  'licence': 'Data © OpenStreetMap contributors, ODbL 1.0. https://osm.org/copyright',\n",
       "  'osm_type': 'node',\n",
       "  'osm_id': 1292786454,\n",
       "  'boundingbox': ['47.6478804', '47.6479804', '-122.33684', '-122.33674'],\n",
       "  'lat': '47.6479304',\n",
       "  'lon': '-122.33679',\n",
       "  'display_name': 'Dr. Sunny Kim, DDS, 3333, Wallingford Avenue North, Wallingford, Seattle, King County, Washington, 98015, United States',\n",
       "  'place_rank': 30,\n",
       "  'category': 'amenity',\n",
       "  'type': 'dentist',\n",
       "  'importance': 0.20000999999999997,\n",
       "  'icon': 'https://nominatim.openstreetmap.org/ui/mapicons/health_dentist.p.20.png'},\n",
       " {'place_id': 150656950,\n",
       "  'licence': 'Data © OpenStreetMap contributors, ODbL 1.0. https://osm.org/copyright',\n",
       "  'osm_type': 'way',\n",
       "  'osm_id': 191319393,\n",
       "  'boundingbox': ['47.6384921', '47.6385994', '-122.3562176', '-122.3560855'],\n",
       "  'lat': '47.63854445',\n",
       "  'lon': '-122.35615154999999',\n",
       "  'display_name': 'Queen Anne Family Dental, 14, Boston Street, Queen Anne, Seattle, King County, Washington, 98109, United States',\n",
       "  'place_rank': 30,\n",
       "  'category': 'amenity',\n",
       "  'type': 'dentist',\n",
       "  'importance': 0.20000999999999997,\n",
       "  'icon': 'https://nominatim.openstreetmap.org/ui/mapicons/health_dentist.p.20.png'}]"
      ]
     },
     "execution_count": 34,
     "metadata": {},
     "output_type": "execute_result"
    }
   ],
   "source": [
    "new_datas"
   ]
  },
  {
   "cell_type": "code",
   "execution_count": 35,
   "id": "419e4ab3",
   "metadata": {
    "scrolled": true
   },
   "outputs": [
    {
     "name": "stdout",
     "output_type": "stream",
     "text": [
      "['Dentist Downtown Seattle, 2045, Westlake Avenue, Central Business District, Belltown, Seattle, King County, Washington, 98121, United States', 'Seattle’s Downtown Dentist, 428, Westlake Avenue North, South Lake Union, Belltown, Seattle, King County, Washington, 98109, United States', 'The Downtown Seattle Dentist, Boren Avenue North, Amazon, Belltown, Seattle, King County, Washington, 98191, United States', 'Downtown Dentistry, Madison Street, West Edge, First Hill, Seattle, King County, Washington, 98154, United States', '2200 Westlake Dentistry, 900, Lenora Street, South Lake Union, Belltown, Seattle, King County, Washington, 98121, United States', 'Innovative Dentistry, 225, Terry Avenue North, South Lake Union, Belltown, Seattle, King County, Washington, 98109, United States', 'Belltown Modern Dentistry, 2326, 5th Avenue, South Lake Union, Belltown, Seattle, King County, Washington, 98121, United States', '888 Dentistry, Harrison Street, South Lake Union, Belltown, Seattle, King County, Washington, 98121, United States', 'South Lake Union Dentist Office, 527, Boren Avenue North, Amazon, Belltown, Seattle, King County, Washington, 98109, United States', 'Advanced Metropolitan Dentistry, 1220, Howell Street, South Lake Union, First Hill, Seattle, King County, Washington, 98101, United States', 'Revive Smiles Dentistry, 259, Yale Avenue North, South Lake Union, First Hill, Seattle, King County, Washington, 98109, United States', 'Dentists of Queen Anne, 620, 1st Avenue North, Uptown, Belltown, Seattle, King County, Washington, 98109, United States', 'Avenue Smiles, 2001, 8th Avenue, Belltown, Seattle, King County, Washington, 98121, United States', 'Emergency Dental Care USA, 511, Olive Way, Central Business District, Belltown, Seattle, King County, Washington, 98101, United States', 'Willamette Dental Group, 133, Dexter Avenue North, South Lake Union, Belltown, Seattle, King County, Washington, 98109, United States', 'Seneca Dental, Seneca Street, First Hill, Seattle, King County, Washington, 98138, United States', 'Omni Dental, 2207, 2nd Avenue, Central Business District, Belltown, Seattle, King County, Washington, 98121, United States', 'Seattle Dental Associates, 1325, 4th Avenue, Central Business District, First Hill, Seattle, King County, Washington, 98101, United States', '4th and Seneca Dental, 4th Avenue Cycletrack, Central Business District, Belltown, Seattle, King County, Washington, 98161, United States', '2nd & Vine Dental, 200, Vine Street, Uptown, Belltown, Seattle, King County, Washington, 98121, United States', 'West Edge Dental, 1107, 1st Avenue, West Edge, Belltown, Seattle, King County, Washington, 98101, United States', 'Bell Harbor Dental, 2621, 2nd Avenue, Uptown, Belltown, Seattle, King County, Washington, 98121, United States', 'First Hill Dental Center, 901, Boren Avenue, First Hill, Seattle, King County, Washington, 98104, United States', 'Gateway Dental, Madison Street, West Edge, First Hill, Seattle, King County, Washington, 98174, United States', 'Seattle Dental Co, West Republican Street, Uptown, Belltown, Seattle, King County, Washington, 98109, United States']\n"
     ]
    }
   ],
   "source": [
    "downtown_dentist = []\n",
    "\n",
    "for place in range(50):\n",
    "    downtown = new_datas[place][\"display_name\"]\n",
    "    if \"Belltown\" in downtown or \"First Hill\" in downtown:\n",
    "        downtown_dentist.append(downtown)\n",
    "    else:\n",
    "        pass\n",
    "\n",
    "print(downtown_dentist)"
   ]
  },
  {
   "cell_type": "code",
   "execution_count": 36,
   "id": "20c9142e",
   "metadata": {},
   "outputs": [
    {
     "name": "stdout",
     "output_type": "stream",
     "text": [
      "there are more dentists near downtown\n"
     ]
    }
   ],
   "source": [
    "if len(university_dentist) > len(downtown_dentist):\n",
    "    print(\"there are more dentists near the university\")\n",
    "else:\n",
    "    print(\"there are more dentists near downtown\")"
   ]
  },
  {
   "cell_type": "code",
   "execution_count": 215,
   "id": "018eab94",
   "metadata": {},
   "outputs": [],
   "source": [
    "# 3  - lat and lon of my choice  \n",
    "\n",
    "url = \"https://nominatim.openstreetmap.org/search\"\n",
    "my_params = {'q' : '[cafe] in kittery maine',\n",
    "             'format' : 'jsonv2',\n",
    "             'viewbox' : '43.12305912154214,-70.78095063589583,43.07492752089949,-70.67040071660276',\n",
    "             'limit' : 10}\n",
    "\n",
    "response = requests.get(url, params=my_params)\n",
    "\n",
    "if response.status_code == 200:\n",
    "    cafes = response.json()\n",
    "else:\n",
    "    print(\"ERROR: request was not successfully\")"
   ]
  },
  {
   "cell_type": "code",
   "execution_count": 217,
   "id": "7253e916",
   "metadata": {},
   "outputs": [
    {
     "name": "stdout",
     "output_type": "stream",
     "text": [
      "The Black Birch, 2, Government Street, Kittery Foreside, Kittery, York County, Maine, 03904, United States\n",
      "The Wallingford Dram, 7, Wallingford Square, Kittery Foreside, Kittery, York County, Maine, 03904, United States\n",
      "The Corner Pub, 4, Wallingford Square, Kittery Foreside, Kittery, York County, Maine, 03904, United States\n",
      "Rudder's Public House, 70, Wallingford Square, Kittery Foreside, Kittery, York County, Maine, 03904, United States\n",
      "Tributary Brewing Company, 10, Shapleigh Road, Shepherds Hill, Kittery, York County, Maine, 03904, United States\n",
      "Woodland Farms Brewery, 306, Route 1, Kittery, York County, Maine, 03904, United States\n",
      "Take Away Cafe, 13, Hunter Avenue, Kittery Foreside, Kittery, York County, Maine, 03904, United States\n",
      "Beach Pea Baking Co., 53, State Road, Kittery Foreside, Kittery, York County, Maine, 03904, United States\n",
      "Lil's Cafe, 7, Wallingford Square, Kittery Foreside, Kittery, York County, Maine, 03904, United States\n",
      "Starbucks, 306, Route 1, Kittery, York County, Maine, 03904, United States\n"
     ]
    }
   ],
   "source": [
    "for cafe in cafes:\n",
    "    print(cafe['display_name'])"
   ]
  },
  {
   "cell_type": "code",
   "execution_count": 244,
   "id": "e1f45cdc",
   "metadata": {},
   "outputs": [],
   "source": [
    "# 4 - ziplines\n",
    "\n",
    "url = \"https://nominatim.openstreetmap.org/search\"\n",
    "my_params = {'q' : \"[zipline] in king county, wa\",\n",
    "             'format' : 'jsonv2',\n",
    "             'limit' : 50}\n",
    "\n",
    "response = requests.get(url, params=my_params)\n",
    "\n",
    "if response.status_code == 200:\n",
    "    zipline = response.json()\n",
    "else:\n",
    "    print(\"ERROR: request was not successfully\")"
   ]
  },
  {
   "cell_type": "code",
   "execution_count": 245,
   "id": "42464f86",
   "metadata": {},
   "outputs": [
    {
     "name": "stdout",
     "output_type": "stream",
     "text": [
      "there are 3 ziplines in king county that OSM knows about\n"
     ]
    }
   ],
   "source": [
    "print(f\"there are {len(zipline)} ziplines in king county that OSM knows about\")"
   ]
  },
  {
   "cell_type": "code",
   "execution_count": 284,
   "id": "d33ab999",
   "metadata": {},
   "outputs": [],
   "source": [
    "# 5 - coffee near zipline attempt\n",
    "\n",
    "loc_one = zipline[0]['boundingbox']\n",
    "loc_two = zipline[1]['boundingbox']\n",
    "loc_three = zipline[2]['boundingbox']\n",
    "\n",
    "url = \"https://nominatim.openstreetmap.org/search\"\n",
    "my_params = {'q' : f\"[coffee] {loc_one}\",\n",
    "             'format' : 'jsonv2',\n",
    "             'limit' : 50}\n",
    "\n",
    "response = requests.get(url, params=my_params)\n",
    "\n",
    "if response.status_code == 200:\n",
    "    coffee = response.json()\n",
    "else:\n",
    "    print(\"ERROR: request was not successfully\")"
   ]
  },
  {
   "cell_type": "code",
   "execution_count": 285,
   "id": "f0497ba1",
   "metadata": {},
   "outputs": [
    {
     "name": "stdout",
     "output_type": "stream",
     "text": [
      "just because your code didn't print 'error' doesn't mean it worked\n"
     ]
    }
   ],
   "source": [
    "if len(coffee) > 0:\n",
    "    print(\"yay!\")\n",
    "else:\n",
    "    print(\"just because your code didn't print 'error' doesn't mean it worked\")"
   ]
  },
  {
   "cell_type": "code",
   "execution_count": 289,
   "id": "92f7acc4",
   "metadata": {},
   "outputs": [
    {
     "name": "stdout",
     "output_type": "stream",
     "text": [
      "Bellevue Brewing Company, 1820, 130th Avenue Northeast, Bellevue, King County, Washington, 98005, United States\n",
      "\n",
      "Mustard Seed Grill & Pub, 5630, 119th Avenue Southeast, Lake Heights, Bellevue, King County, Washington, 98006, United States\n",
      "\n",
      "Mustard Seed Grill & Pub, 5630, 119th Avenue Southeast, Lake Heights, Bellevue, King County, Washington, 98006, United States\n",
      "\n"
     ]
    }
   ],
   "source": [
    "# 5 - coffee near zipline \n",
    "\n",
    "for zips in zipline:\n",
    "    near_here = zips['display_name']\n",
    "    url = (\"http://nominatim.openstreetmap.org/search\")\n",
    "    my_params = {'q' : f\"[cafe] {near_here}\",\n",
    "                 'format' : 'jsonv2',\n",
    "                 'limit' : 1}\n",
    "    \n",
    "    response = requests.get(url, params=my_params)\n",
    "    if response.status_code == 200:\n",
    "        please_work = response.json()\n",
    "        print(please_work[0]['display_name'])\n",
    "        print(\"\")"
   ]
  },
  {
   "cell_type": "code",
   "execution_count": 229,
   "id": "4d40126f",
   "metadata": {},
   "outputs": [],
   "source": [
    "# 6 - colleges \n",
    "\n",
    "url = \"https://nominatim.openstreetmap.org/search\"\n",
    "my_params = {'q' : \"[college]\",\n",
    "             'format' : 'jsonv2',\n",
    "             'viewbox' : '-122.37391098323732,47.733111473908394,-122.24022963853747,47.511055684636226',\n",
    "             'bounded' : 1,\n",
    "             'limit' : 50}\n",
    "\n",
    "response = requests.get(url, params=my_params)\n",
    "\n",
    "if response.status_code == 200:\n",
    "    colleges = response.json()\n",
    "else:\n",
    "    print(\"ERROR: request was not successfully\")\n",
    "\n",
    "url = \"https://nominatim.openstreetmap.org/search\"\n",
    "my_params = {'q' : \"[university]\",\n",
    "             'format' : 'jsonv2',\n",
    "             'viewbox' : '-122.37391098323732,47.733111473908394,-122.24022963853747,47.511055684636226',\n",
    "             'bounded' : 1,\n",
    "             'limit' : 50}\n",
    "\n",
    "response = requests.get(url, params=my_params)\n",
    "\n",
    "if response.status_code == 200:\n",
    "    universities = response.json()\n",
    "else:\n",
    "    print(\"ERROR: request was not successfully\")"
   ]
  },
  {
   "cell_type": "code",
   "execution_count": 295,
   "id": "ecaa49f3",
   "metadata": {},
   "outputs": [
    {
     "name": "stdout",
     "output_type": "stream",
     "text": [
      "Cornish College of the Arts, Terry Avenue, South Lake Union, First Hill, Seattle, King County, Washington, 98191, United States\n",
      "Bastyr University, Holmes Point Drive Northeast, Kenmore, King County, Washington, 98028, United States\n",
      "UW College of Built Environments, 3949, 15th Avenue Northeast, West Campus, University District, Seattle, King County, Washington, 98105, United States\n",
      "Seattle Central College, East Howell Street, Capitol Hill, Seattle, King County, Washington, 98191, United States\n",
      "City University of Seattle, 521, Wall Street, South Lake Union, Belltown, Seattle, King County, Washington, 98121, United States\n",
      "North Seattle College, 9600, College Way North, Licton Springs, Maple Leaf, Seattle, King County, Washington, 98103, United States\n",
      "South Seattle College, 6000, 16th Avenue Southwest, Delridge, Seattle, King County, Washington, 98106, United States\n",
      "Academy of Interactive Entertainment, 305, Harrison Street, Uptown, Belltown, Seattle, King County, Washington, 98109, United States\n",
      "Seattle Vocational Institute, 2120, South Jackson Street, Little Saigon, Central District, Seattle, King County, Washington, 98144, United States\n",
      "The Seattle School of Theology and Psychology, 2501, Elliott Avenue, Belltown, Seattle, King County, Washington, 98121, United States\n",
      "Emerald City School, Denny Way, Uptown, Belltown, Seattle, King County, Washington, 98121, United States\n",
      "Pima Medical Institute, 9709, 3rd Avenue Northeast, Maple Leaf, Seattle, King County, Washington, 98115, United States\n",
      "Divers Institute of Technology, 1341, North Northlake Way, Fremont, Seattle, King County, Washington, 98103, United States\n",
      "Seattle Institute of Oriental Medicine, 444, Northeast Ravenna Boulevard, Meridian, Green Lake, Seattle, King County, Washington, 98115, United States\n",
      "Seattle Central College Wood Technology Center, 2310, South Lane Street, Central District, Seattle, King County, Washington, 98144, United States\n",
      "Northeastern University, 401, Terry Avenue North, South Lake Union, Belltown, Seattle, King County, Washington, 98109, United States\n",
      "Antioch University, 2400, 3rd Avenue, Uptown, Belltown, Seattle, King County, Washington, 98121, United States\n",
      "South Seattle Community College Georgetown Campus, 6737, Corson Avenue South, Van Asselt, Georgetown, Seattle, King County, Washington, 98108, United States\n",
      "University of Washington, Northeast 40th Street, West Campus, University District, Seattle, King County, Washington, 98015, United States\n",
      "Seattle University, 12th Avenue, First Hill, Seattle, King County, Washington, 98122, United States\n",
      "Seattle Pacific University, West Bertona Street, Fremont, Seattle, King County, Washington, 98119, United States\n",
      "University of Washington - Professional & Continuing Education, 1325, 4th Avenue, Central Business District, First Hill, Seattle, King County, Washington, 98161, United States\n",
      "Center for Urban Horticulture, 3501, Northeast 41st Street, East Campus, Seattle, King County, Washington, 98105, United States\n"
     ]
    }
   ],
   "source": [
    "total_colleges = colleges + universities\n",
    "\n",
    "for college in total_colleges:\n",
    "    print(college['display_name'])"
   ]
  },
  {
   "cell_type": "code",
   "execution_count": 290,
   "id": "2b1f8933",
   "metadata": {},
   "outputs": [
    {
     "name": "stdout",
     "output_type": "stream",
     "text": [
      "[{'place_id': 298767081, 'licence': 'Data © OpenStreetMap contributors, ODbL 1.0. https://osm.org/copyright', 'osm_type': 'relation', 'osm_id': 5268488, 'boundingbox': ['47.647498', '47.6612001', '-122.3218398', '-122.2865938'], 'lat': '47.6543466', 'lon': '-122.30806059473039', 'display_name': 'University of Washington, Northeast 40th Street, West Campus, University District, Seattle, King County, Washington, 98015, United States', 'place_rank': 30, 'category': 'amenity', 'type': 'university', 'importance': 0.5984184230792569, 'icon': 'https://nominatim.openstreetmap.org/ui/mapicons/education_university.p.20.png', 'address': {'amenity': 'University of Washington', 'road': 'Northeast 40th Street', 'neighbourhood': 'West Campus', 'suburb': 'University District', 'city': 'Seattle', 'county': 'King County', 'state': 'Washington', 'ISO3166-2-lvl4': 'US-WA', 'postcode': '98015', 'country': 'United States', 'country_code': 'us'}}, {'place_id': 298965905, 'licence': 'Data © OpenStreetMap contributors, ODbL 1.0. https://osm.org/copyright', 'osm_type': 'relation', 'osm_id': 5282350, 'boundingbox': ['47.6061924', '47.6128274', '-122.3208162', '-122.3128474'], 'lat': '47.60950425', 'lon': '-122.318798295358', 'display_name': 'Seattle University, 12th Avenue, First Hill, Seattle, King County, Washington, 98122, United States', 'place_rank': 30, 'category': 'amenity', 'type': 'university', 'importance': 0.4289829310113359, 'icon': 'https://nominatim.openstreetmap.org/ui/mapicons/education_university.p.20.png', 'address': {'amenity': 'Seattle University', 'road': '12th Avenue', 'suburb': 'First Hill', 'city': 'Seattle', 'county': 'King County', 'state': 'Washington', 'ISO3166-2-lvl4': 'US-WA', 'postcode': '98122', 'country': 'United States', 'country_code': 'us'}}, {'place_id': 101887504, 'licence': 'Data © OpenStreetMap contributors, ODbL 1.0. https://osm.org/copyright', 'osm_type': 'way', 'osm_id': 6452560, 'boundingbox': ['47.6458088', '47.6521786', '-122.3662519', '-122.3573368'], 'lat': '47.64886755', 'lon': '-122.36196642187447', 'display_name': 'Seattle Pacific University, West Bertona Street, Fremont, Seattle, King County, Washington, 98119, United States', 'place_rank': 30, 'category': 'amenity', 'type': 'university', 'importance': 0.38496254669333574, 'icon': 'https://nominatim.openstreetmap.org/ui/mapicons/education_university.p.20.png', 'address': {'amenity': 'Seattle Pacific University', 'road': 'West Bertona Street', 'suburb': 'Fremont', 'city': 'Seattle', 'county': 'King County', 'state': 'Washington', 'ISO3166-2-lvl4': 'US-WA', 'postcode': '98119', 'country': 'United States', 'country_code': 'us'}}, {'place_id': 50274892, 'licence': 'Data © OpenStreetMap contributors, ODbL 1.0. https://osm.org/copyright', 'osm_type': 'node', 'osm_id': 4425878402, 'boundingbox': ['47.6086611', '47.6087611', '-122.3359109', '-122.3358109'], 'lat': '47.6087111', 'lon': '-122.3358609', 'display_name': 'University of Washington - Professional & Continuing Education, 1325, 4th Avenue, Central Business District, First Hill, Seattle, King County, Washington, 98161, United States', 'place_rank': 30, 'category': 'amenity', 'type': 'university', 'importance': 9.99999999995449e-06, 'icon': 'https://nominatim.openstreetmap.org/ui/mapicons/education_university.p.20.png', 'address': {'amenity': 'University of Washington - Professional & Continuing Education', 'house_number': '1325', 'road': '4th Avenue', 'neighbourhood': 'Central Business District', 'suburb': 'First Hill', 'city': 'Seattle', 'county': 'King County', 'state': 'Washington', 'ISO3166-2-lvl4': 'US-WA', 'postcode': '98161', 'country': 'United States', 'country_code': 'us'}}, {'place_id': 200304941, 'licence': 'Data © OpenStreetMap contributors, ODbL 1.0. https://osm.org/copyright', 'osm_type': 'way', 'osm_id': 412521866, 'boundingbox': ['47.6562462', '47.6588116', '-122.2925245', '-122.2883617'], 'lat': '47.65755875', 'lon': '-122.29021271045144', 'display_name': 'Center for Urban Horticulture, 3501, Northeast 41st Street, East Campus, Seattle, King County, Washington, 98105, United States', 'place_rank': 30, 'category': 'amenity', 'type': 'university', 'importance': 9.99999999995449e-06, 'icon': 'https://nominatim.openstreetmap.org/ui/mapicons/education_university.p.20.png', 'address': {'amenity': 'Center for Urban Horticulture', 'house_number': '3501', 'road': 'Northeast 41st Street', 'neighbourhood': 'East Campus', 'city': 'Seattle', 'county': 'King County', 'state': 'Washington', 'ISO3166-2-lvl4': 'US-WA', 'postcode': '98105', 'country': 'United States', 'country_code': 'us'}}]\n"
     ]
    }
   ],
   "source": [
    "# 6.1 - separate address details\n",
    "\n",
    "url = \"https://nominatim.openstreetmap.org/search\"\n",
    "my_params = {'q' : \"[university]\",\n",
    "             'addressdetails' : 1,\n",
    "             'format' : 'jsonv2',\n",
    "             'viewbox' : '-122.37391098323732,47.733111473908394,-122.24022963853747,47.511055684636226',\n",
    "             'bounded' : 1,\n",
    "             'limit' : 50}\n",
    "\n",
    "response = requests.get(url, params=my_params)\n",
    "\n",
    "if response.status_code == 200:\n",
    "    i_am_tired = response.json()\n",
    "    print(i_am_tired)\n",
    "    \n",
    "# i'll be honest i don't know what it's supposed to look like\n",
    "# did it work?"
   ]
  },
  {
   "cell_type": "code",
   "execution_count": 115,
   "id": "90337e8e",
   "metadata": {
    "scrolled": true
   },
   "outputs": [
    {
     "name": "stdout",
     "output_type": "stream",
     "text": [
      "university\n",
      "university\n",
      "university\n",
      "university\n",
      "university\n",
      "college\n",
      "college\n",
      "college\n",
      "college\n",
      "college\n",
      "college\n",
      "college\n",
      "college\n",
      "college\n",
      "college\n",
      "college\n",
      "college\n",
      "college\n",
      "college\n",
      "college\n",
      "college\n",
      "college\n",
      "college\n"
     ]
    }
   ],
   "source": [
    "# 6.2 - is it actually a college\n",
    "\n",
    "for place in universities:\n",
    "    print(place['type'])\n",
    "\n",
    "for place in colleges:\n",
    "    print(place['type'])\n",
    "    \n",
    "# i'm not sure if this is what this question was getting at but i figured if there's a type \"university\" \n",
    "# and a type \"college\" then they're probably correct? "
   ]
  },
  {
   "cell_type": "code",
   "execution_count": 165,
   "id": "a453f2ad",
   "metadata": {},
   "outputs": [
    {
     "name": "stdout",
     "output_type": "stream",
     "text": [
      "https://docs.google.com/spreadsheets/d/1QKJ_E88fkayIW1HlRXZXmZ8gbAMgB18L8Si9Ws29aPI/edit?usp=sharing\n"
     ]
    }
   ],
   "source": [
    "# 6.3 - college list TSV\n",
    "\n",
    "with open(\"total_colleges.tsv\", \"w\") as my_file:\n",
    "    print(\"OSM_ID\\tName\\tLatitutde\\tLongitude\", file = my_file)\n",
    "    for item in total_colleges:\n",
    "        print(f\"{item['place_id']}\\t{item['display_name']}\\t{item['lat']}\\t{item['lon']}\", file=my_file)\n",
    "        \n",
    "print(\"https://docs.google.com/spreadsheets/d/1QKJ_E88fkayIW1HlRXZXmZ8gbAMgB18L8Si9Ws29aPI/edit?usp=sharing\")"
   ]
  }
 ],
 "metadata": {
  "kernelspec": {
   "display_name": "Python 3 (ipykernel)",
   "language": "python",
   "name": "python3"
  },
  "language_info": {
   "codemirror_mode": {
    "name": "ipython",
    "version": 3
   },
   "file_extension": ".py",
   "mimetype": "text/x-python",
   "name": "python",
   "nbconvert_exporter": "python",
   "pygments_lexer": "ipython3",
   "version": "3.10.9"
  }
 },
 "nbformat": 4,
 "nbformat_minor": 5
}
