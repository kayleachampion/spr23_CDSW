{
 "cells": [
  {
   "cell_type": "code",
   "execution_count": 1,
   "metadata": {},
   "outputs": [],
   "source": [
    "import requests"
   ]
  },
  {
   "attachments": {},
   "cell_type": "markdown",
   "metadata": {},
   "source": [
    "# 1 Bored API"
   ]
  },
  {
   "cell_type": "code",
   "execution_count": 28,
   "metadata": {},
   "outputs": [
    {
     "name": "stdout",
     "output_type": "stream",
     "text": [
      "The activity is \"Compliment someone\", the accessibility is 0, the price is 0\n",
      "The activity is \"Compliment someone\", the accessibility is 0, the price is 0\n",
      "The activity is \"Compliment someone\", the accessibility is 0, the price is 0\n",
      "The activity is \"Compliment someone\", the accessibility is 0, the price is 0\n",
      "The activity is \"Compliment someone\", the accessibility is 0, the price is 0\n",
      "The activity is \"Compliment someone\", the accessibility is 0, the price is 0\n"
     ]
    }
   ],
   "source": [
    "url = \"https://www.boredapi.com/api/activity?price=0&participants=2\"\n",
    "response = requests.get(url, headers={\"Content-Type\": \"application/json\"})\n",
    "if response.status_code == 200:\n",
    "    data = response.json()\n",
    "    print(f\"The activity is \\\"{data['activity']}\\\", the accessibility is {data['accessibility']}, the price is {data['price']}\")\n",
    "else:\n",
    "    print(\"ERROR: request was not successfully\")\n",
    "for _ in range(5):\n",
    "    response = requests.get(url, headers={\"Content-Type\": \"application/json\"})\n",
    "    if response.status_code == 200:\n",
    "        data = response.json()\n",
    "        print(f\"The activity is \\\"{data['activity']}\\\", the accessibility is {data['accessibility']}, the price is {data['price']}\")\n",
    "    else:\n",
    "        print(\"ERROR: request was not successfully\")"
   ]
  },
  {
   "cell_type": "code",
   "execution_count": 29,
   "metadata": {},
   "outputs": [
    {
     "name": "stdout",
     "output_type": "stream",
     "text": [
      "The random activity is \"Catch up with a friend over a lunch date\", its activity type is social\n",
      "another activity that's of the same type as the first random activity is \"Surprise your significant other with something considerate\", type is social\n"
     ]
    }
   ],
   "source": [
    "activity_type = None\n",
    "url = \"https://www.boredapi.com/api/activity\"\n",
    "response = requests.get(url, headers={\"Content-Type\": \"application/json\"})\n",
    "if response.status_code == 200:\n",
    "    data = response.json()\n",
    "    activity_type = data['type']\n",
    "    print(f\"The random activity is \\\"{data['activity']}\\\", its activity type is {data['type']}\")\n",
    "else:\n",
    "    print(\"ERROR: request was not successfully\")\n",
    "\n",
    "if activity_type:\n",
    "    url = f\"https://www.boredapi.com/api/activity?type={activity_type}\"\n",
    "    response = requests.get(url, headers={\"Content-Type\": \"application/json\"})\n",
    "    if response.status_code == 200:\n",
    "        data = response.json()\n",
    "        print(f\"another activity that's of the same type as the first random activity is \\\"{data['activity']}\\\", type is {data['type']}\")\n",
    "    else:\n",
    "        print(\"ERROR: request was not successfully\")\n"
   ]
  },
  {
   "cell_type": "code",
   "execution_count": 30,
   "metadata": {},
   "outputs": [
    {
     "name": "stdout",
     "output_type": "stream",
     "text": [
      "One random activity of education is Learn calligraphy\n",
      "One random activity of recreational is Learn how to play a new sport\n",
      "One random activity of social is Surprise your significant other with something considerate\n",
      "One random activity of diy is Fix something that's broken in your house\n",
      "One random activity of charity is Donate to your local food bank\n",
      "One random activity of cooking is Bake a pie with some friends\n",
      "One random activity of relaxation is Go stargazing\n",
      "One random activity of music is Have a jam session with your friends\n",
      "One random activity of busywork is Organize your movie collection\n"
     ]
    }
   ],
   "source": [
    "type_list = [\"education\", \"recreational\", \"social\", \"diy\", \"charity\", \"cooking\", \"relaxation\", \"music\", \"busywork\"]\n",
    "for activity_type in type_list:\n",
    "    url = f\"https://www.boredapi.com/api/activity?type={activity_type}\"\n",
    "    response = requests.get(url, headers={\"Content-Type\": \"application/json\"})\n",
    "    if response.status_code == 200:\n",
    "        data = response.json()\n",
    "        print(f\"One random activity of {activity_type} is {data['activity']}\")\n",
    "    else:\n",
    "        print(\"ERROR: request was not successfully\")"
   ]
  },
  {
   "attachments": {},
   "cell_type": "markdown",
   "metadata": {},
   "source": [
    "# 2 Learning a new API"
   ]
  },
  {
   "attachments": {},
   "cell_type": "markdown",
   "metadata": {},
   "source": [
    "https://dogapi.dog/api/v2/facts"
   ]
  },
  {
   "attachments": {},
   "cell_type": "markdown",
   "metadata": {},
   "source": [
    "https://dogapi.dog/api/v2/facts?limit=5"
   ]
  },
  {
   "cell_type": "code",
   "execution_count": 33,
   "metadata": {},
   "outputs": [
    {
     "name": "stdout",
     "output_type": "stream",
     "text": [
      "The most popular dog breed in Canada, U.S., and Great Britain is the Labrador retriever.\n"
     ]
    }
   ],
   "source": [
    "url = \"https://dogapi.dog/api/v2/facts\"\n",
    "rsp = requests.get(url, headers={\"Content-Type\": \"application/json\"}, params={\"limit\": 1}).json()\n",
    "print(rsp['data'][0]['attributes']['body'])"
   ]
  },
  {
   "cell_type": "code",
   "execution_count": 34,
   "metadata": {},
   "outputs": [],
   "source": [
    "with open(\"dog.tsv\", \"w\") as out:\n",
    "    out.write(\"ID of the dog fact\\tthe fact itself\\n\")\n",
    "    for _ in range(5):\n",
    "        url = \"https://dogapi.dog/api/v2/facts\"\n",
    "        response = requests.get(url, headers={\"Content-Type\": \"application/json\"})\n",
    "        if response.status_code == 200:\n",
    "            data = response.json()\n",
    "            out.write(f\"{data['data'][0]['id']}\\t{data['data'][0]['attributes']['body']}\\n\")\n",
    "        else:\n",
    "            print(\"ERROR: request was not successfully\")"
   ]
  },
  {
   "attachments": {},
   "cell_type": "markdown",
   "metadata": {},
   "source": [
    "# 3 Mapping!"
   ]
  },
  {
   "cell_type": "code",
   "execution_count": 83,
   "metadata": {},
   "outputs": [
    {
     "name": "stdout",
     "output_type": "stream",
     "text": [
      "There are more gas stations in Duvall\n",
      "There are more gas stations in Carnation\n"
     ]
    }
   ],
   "source": [
    "url = \"https://nominatim.openstreetmap.org/search\"\n",
    "my_params = {\n",
    "    'q' : 'gas stations in Duvall',\n",
    "    'format': 'jsonv2',\n",
    "    'addressdetails': 1,\n",
    "    'limit': 10\n",
    "}\n",
    "response = requests.get(url, params=my_params, timeout=5)\n",
    "if response.status_code == 200:\n",
    "    data = response.json()\n",
    "    for place in data:\n",
    "        if place['address']['town'] == 'Duvall':\n",
    "            print('There are more gas stations in Duvall')\n",
    "            break\n",
    "    else:\n",
    "            print('There is no gas stations in Duvall')\n",
    "else:\n",
    "    print(\"ERROR: request was not successfully\")\n",
    "\n",
    "url = \"https://nominatim.openstreetmap.org/search\"\n",
    "my_params = {\n",
    "    'q' : 'gas stations in Carnation',\n",
    "    'format': 'jsonv2',\n",
    "    'addressdetails': 1,\n",
    "    'limit': 10\n",
    "}\n",
    "response = requests.get(url, params=my_params, timeout=5)\n",
    "if response.status_code == 200:\n",
    "    data = response.json()\n",
    "    for place in data:\n",
    "        if place['address']['town'] == 'Carnation':\n",
    "            print('There are more gas stations in Carnation')\n",
    "            break\n",
    "    else:\n",
    "            print('There is no gas stations in Carnation')\n",
    "else:\n",
    "    print(\"ERROR: request was not successfully\")"
   ]
  },
  {
   "cell_type": "code",
   "execution_count": 87,
   "metadata": {},
   "outputs": [
    {
     "name": "stdout",
     "output_type": "stream",
     "text": [
      "There are more dentists near the University\n",
      "There are more dentists near Downtown\n"
     ]
    }
   ],
   "source": [
    "url = \"https://nominatim.openstreetmap.org/search\"\n",
    "my_params = {\n",
    "    'q' : 'dentists near the University',\n",
    "    'format': 'jsonv2',\n",
    "    'addressdetails': 1,\n",
    "    'limit': 10\n",
    "}\n",
    "response = requests.get(url, params=my_params, timeout=5)\n",
    "if response.status_code == 200:\n",
    "    data = response.json()\n",
    "    if len(data) > 0:\n",
    "        print('There are more dentists near the University')\n",
    "    else:\n",
    "        print('There is no dentists near the University')\n",
    "else:\n",
    "    print(\"ERROR: request was not successfully\")\n",
    "\n",
    "url = \"https://nominatim.openstreetmap.org/search\"\n",
    "my_params = {\n",
    "    'q' : 'dentists near Downtown',\n",
    "    'format': 'jsonv2',\n",
    "    'addressdetails': 1,\n",
    "    'limit': 10\n",
    "}\n",
    "response = requests.get(url, params=my_params, timeout=5)\n",
    "if response.status_code == 200:\n",
    "    data = response.json()\n",
    "    if len(data) > 0:\n",
    "        print('There are more dentists near Downtown')\n",
    "    else:\n",
    "        print('There is no dentists near Downtown')\n",
    "else:\n",
    "    print(\"ERROR: request was not successfully\")\n"
   ]
  },
  {
   "cell_type": "code",
   "execution_count": 92,
   "metadata": {},
   "outputs": [
    {
     "name": "stdout",
     "output_type": "stream",
     "text": [
      "{'place_id': 116305583, 'licence': 'Data © OpenStreetMap contributors, ODbL 1.0. https://osm.org/copyright', 'osm_type': 'way', 'osm_id': 32965412, 'lat': '40.689253199999996', 'lon': '-74.04454817144321', 'place_rank': 30, 'category': 'tourism', 'type': 'attraction', 'importance': 0.571432408570777, 'addresstype': 'tourism', 'name': 'Statue of Liberty', 'display_name': 'Statue of Liberty, Flagpole Plaza, Manhattan Community Board 1, Manhattan, New York County, City of New York, New York, 10004, United States', 'address': {'tourism': 'Statue of Liberty', 'road': 'Flagpole Plaza', 'neighbourhood': 'Manhattan Community Board 1', 'suburb': 'Manhattan', 'county': 'New York County', 'city': 'City of New York', 'state': 'New York', 'ISO3166-2-lvl4': 'US-NY', 'postcode': '10004', 'country': 'United States', 'country_code': 'us'}, 'boundingbox': ['40.6888049', '40.6896741', '-74.0451069', '-74.0439637']}\n"
     ]
    }
   ],
   "source": [
    "url = \"https://nominatim.openstreetmap.org/reverse\"\n",
    "my_params = {\n",
    "    'lat': '40.689263936805716',\n",
    "    'lon': '-74.04449953905164',\n",
    "    'format': 'jsonv2',\n",
    "    'addressdetails': 1\n",
    "}\n",
    "response = requests.get(url, params=my_params, timeout=5)\n",
    "if response.status_code == 200:\n",
    "    data = response.json()\n",
    "    print(data)\n",
    "else:\n",
    "    print(\"ERROR: request was not successfully\")"
   ]
  },
  {
   "cell_type": "code",
   "execution_count": 129,
   "metadata": {},
   "outputs": [
    {
     "name": "stdout",
     "output_type": "stream",
     "text": [
      "Soaring Eagle Zipline, Milton Road South, Federal Way, King County, Washington, 98354, United States\n"
     ]
    }
   ],
   "source": [
    "url = \"https://nominatim.openstreetmap.org/search\"\n",
    "my_params = {\n",
    "    'format': 'jsonv2',\n",
    "    'county': 'King County',\n",
    "    'state': 'Washington',\n",
    "    'addressdetails': 1,\n",
    "    'limit': 10\n",
    "}\n",
    "response = requests.get(url, params=my_params, timeout=5)\n",
    "if response.status_code == 200:\n",
    "    data = response.json()\n",
    "    boundingbox = data[0]['boundingbox']\n",
    "else:\n",
    "    print(\"ERROR: request was not successfully\")\n",
    "\n",
    "viewbox = ','.join([boundingbox[2], boundingbox[0], boundingbox[3], boundingbox[1]])\n",
    "my_params = {\n",
    "    'q': 'zipline',\n",
    "    'format': 'jsonv2',\n",
    "    'viewbox': viewbox,\n",
    "    'bounded': 1,\n",
    "    'addressdetails': 1\n",
    "}\n",
    "response = requests.get(url, params=my_params, timeout=5)\n",
    "ziplines = []\n",
    "if response.status_code == 200:\n",
    "    data = response.json()\n",
    "    for place in data:\n",
    "        if place[\"address\"]['county'] == \"King County\":\n",
    "            ziplines.append(place)\n",
    "            print(place['display_name'])\n",
    "else:\n",
    "    print(\"ERROR: request was not successfully\")\n"
   ]
  },
  {
   "cell_type": "code",
   "execution_count": 137,
   "metadata": {},
   "outputs": [
    {
     "name": "stdout",
     "output_type": "stream",
     "text": [
      "The nearest cafe of \"Soaring Eagle Zipline, Milton Road South, Federal Way, King County, Washington, 98354, United States\" is \"Biscuits Cafe, Enchanted Parkway South, Federal Way, King County, Washington, 98354, United States\"\n"
     ]
    }
   ],
   "source": [
    "url = \"https://nominatim.openstreetmap.org/search\"\n",
    "for zipline in ziplines:\n",
    "    lat = float(zipline['lat'])\n",
    "    lon = float(zipline['lon'])\n",
    "    viewbox = ','.join([str(lon - 0.02), str(lat - 0.02), str(lon + 0.02), str(lat + 0.02)])\n",
    "    my_params = {\n",
    "        'q': 'cafe',\n",
    "        'format': 'jsonv2',\n",
    "        'viewbox': viewbox,\n",
    "        'bounded': 1,\n",
    "        'addressdetails': 1,\n",
    "        'limit': 100\n",
    "    }\n",
    "    response = requests.get(url, params=my_params, timeout=5)\n",
    "    if response.status_code == 200:\n",
    "        data = response.json()\n",
    "        min_distance = float(\"inf\")\n",
    "        nearest_cafe = -1\n",
    "        for place in data:\n",
    "            cafe_lat = float(place['lat'])\n",
    "            cafe_lon = float(place['lon'])\n",
    "            cafe_dis = ((lat - cafe_lat) ** 2 + (lon - cafe_lon) ** 2) ** 0.5\n",
    "            if cafe_dis < min_distance:\n",
    "                min_distance = cafe_dis\n",
    "                nearest_cafe = place\n",
    "        print(f\"The nearest cafe of \\\"{zipline['display_name']}\\\" is \\\"{nearest_cafe['display_name']}\\\"\")\n",
    "    else:\n",
    "        print(\"ERROR: request was not successfully\")\n"
   ]
  },
  {
   "cell_type": "code",
   "execution_count": 145,
   "metadata": {},
   "outputs": [
    {
     "name": "stdout",
     "output_type": "stream",
     "text": [
      "Cornish College of the Arts, Terry Avenue, South Lake Union, First Hill, Seattle, King County, Washington, 98191, United States\n",
      "UW College of Built Environments, 15th Avenue Northeast, West Campus, University District, Seattle, King County, Washington, 98195, United States\n",
      "Seattle Central College, East Pine Street, First Hill, Seattle, King County, Washington, 98191, United States\n",
      "North Seattle College, 9600, College Way North, Maple Leaf, Seattle, King County, Washington, 98103, United States\n",
      "South Seattle College, 6000, 16th Avenue Southwest, Delridge, Seattle, King County, Washington, 98106, United States\n",
      "City University of Seattle, 521, Wall Street, South Lake Union, Belltown, Seattle, King County, Washington, 98121, United States\n",
      "Academy of Interactive Entertainment, 305, Harrison Street, Uptown, Belltown, Seattle, King County, Washington, 98109, United States\n",
      "Seattle Vocational Institute, 2120, South Jackson Street, Little Saigon, Central District, Seattle, King County, Washington, 98144, United States\n",
      "The Seattle School of Theology and Psychology, 2501, Elliott Avenue, Belltown, Seattle, King County, Washington, 98121, United States\n"
     ]
    }
   ],
   "source": [
    "url = \"https://nominatim.openstreetmap.org/search\"\n",
    "my_params = {\n",
    "    'format': 'jsonv2',\n",
    "    'city': 'Seattle',\n",
    "    'limit': 10\n",
    "}\n",
    "response = requests.get(url, params=my_params, timeout=5)\n",
    "if response.status_code == 200:\n",
    "    data = response.json()\n",
    "    boundingbox = data[0]['boundingbox']\n",
    "else:\n",
    "    print(\"ERROR: request was not successfully\")\n",
    "\n",
    "viewbox = ','.join([boundingbox[2], boundingbox[0], boundingbox[3], boundingbox[1]])\n",
    "\n",
    "my_params = {\n",
    "    'q': 'college',\n",
    "    'format': 'jsonv2',\n",
    "    'viewbox': viewbox,\n",
    "    'bounded': 1,\n",
    "    'addressdetails': 1\n",
    "}\n",
    "response = requests.get(url, params=my_params, timeout=5)\n",
    "colleges = []\n",
    "if response.status_code == 200:\n",
    "    data = response.json()\n",
    "    for place in data:\n",
    "        if place[\"address\"].get('city') == \"Seattle\" and place['type'] == 'college':\n",
    "            colleges.append(place)\n",
    "            print(place['display_name'])\n",
    "else:\n",
    "    print(\"ERROR: request was not successfully\")\n",
    "with open(\"colleges.tsv\", \"w\") as out:\n",
    "    out.write(\"osm_id\\tname\\tlatitude\\tlongitude\")\n",
    "    for place in colleges:\n",
    "        out.write(f\"{place['osm_id']}\\t{place['display_name']}\\t{place['lat']}\\t{place['lon']}\\n\")\n"
   ]
  }
 ],
 "metadata": {
  "kernelspec": {
   "display_name": "Python 3",
   "language": "python",
   "name": "python3"
  },
  "language_info": {
   "codemirror_mode": {
    "name": "ipython",
    "version": 3
   },
   "file_extension": ".py",
   "mimetype": "text/x-python",
   "name": "python",
   "nbconvert_exporter": "python",
   "pygments_lexer": "ipython3",
   "version": "3.11.2"
  },
  "orig_nbformat": 4
 },
 "nbformat": 4,
 "nbformat_minor": 2
}
