{
 "cells": [
  {
   "cell_type": "code",
   "execution_count": 1,
   "id": "7eab478b",
   "metadata": {},
   "outputs": [],
   "source": [
    "import requests #enable requests"
   ]
  },
  {
   "cell_type": "markdown",
   "id": "2ab02b68",
   "metadata": {},
   "source": [
    "# #1 Bored API\n",
    "##### Write some Python code to use the API to get an activity that I could do with my partner. Turn the data from the API into a sentence that tells me the activity, its accessibility, and its price. (Note: this used to say \"free activity\"; we removed that because it's more boring that way.)\n",
    "##### Extend that code so that it gets me 5 activities and have it write a nicely formatted output."
   ]
  },
  {
   "cell_type": "code",
   "execution_count": 2,
   "id": "ca11fcea",
   "metadata": {},
   "outputs": [
    {
     "name": "stdout",
     "output_type": "stream",
     "text": [
      "activity 1: Compliment someone:. Price: 0: Accessibility: 0\n",
      "activity 2: Cook something together with someone:. Price: 0.3: Accessibility: 0.8\n",
      "activity 3: Go swimming with a friend:. Price: 0.1: Accessibility: 0.1\n",
      "activity 4: Go swimming with a friend:. Price: 0.1: Accessibility: 0.1\n",
      "activity 5: Text a friend you haven't talked to in a long time:. Price: 0.05: Accessibility: 0.2\n"
     ]
    }
   ],
   "source": [
    "for number in [1,2,3,4,5]:\n",
    "    response = requests.get(\"http://www.boredapi.com/api/activity?participants=2&price\") #2 participants for partner\n",
    "    if response.status_code == 200:\n",
    "        data = response.json()\n",
    "        print(f\"activity {number}: {data['activity']}:. Price: {data['price']}: Accessibility: {data['accessibility']}\")"
   ]
  },
  {
   "cell_type": "markdown",
   "id": "5b404820",
   "metadata": {},
   "source": [
    "##### Get a totally random activity from the API. Print it out, along with its activity type. Now get me another activity that's of the same type as the first random activity. Print it out too, plus its activity type (to check that they're the same).\n"
   ]
  },
  {
   "cell_type": "code",
   "execution_count": 3,
   "id": "5718387e",
   "metadata": {},
   "outputs": [
    {
     "name": "stdout",
     "output_type": "stream",
     "text": [
      "Just a random activity with type: Make homemade ice cream. type: cooking\n",
      "Another activity!: Make bread from scratch. type: cooking\n"
     ]
    }
   ],
   "source": [
    "response2 = requests.get(\"http://www.boredapi.com/api/activity\")\n",
    "data2 = response2.json()\n",
    "print(f\"Just a random activity with type: {data2['activity']}. type: {data2['type']}\")\n",
    "\n",
    "activity_type = data2['type'] #store the type in a var in case i need to use it again\n",
    "\n",
    "##Another activity that's the same type as the first random activity\n",
    "url = \"http://www.boredapi.com/api/activity\"\n",
    "my_params = {'type': activity_type}\n",
    "response3 = requests.get(url, params=my_params)\n",
    "\n",
    "response2 = requests.get(\"http://www.boredapi.com/api/activity\")\n",
    "data3 = response3.json()\n",
    "print(f\"Another activity!: {data3['activity']}. type: {data3['type']}\")"
   ]
  },
  {
   "cell_type": "markdown",
   "id": "c89f13df",
   "metadata": {},
   "source": [
    "##### Write a Python program that prints out one random activity of each type that the Bored API supports. (See if you can use a loop for this!)"
   ]
  },
  {
   "cell_type": "code",
   "execution_count": 4,
   "id": "66a185c6",
   "metadata": {},
   "outputs": [
    {
     "name": "stdout",
     "output_type": "stream",
     "text": [
      "activity: Learn calligraphy: type education\n",
      "activity: Try a food you don't like: type recreational\n",
      "activity: Have a bonfire with your close friends: type social\n",
      "activity: Create a compost pile: type diy\n",
      "activity: Find a charity and donate to it: type charity\n",
      "activity: Cook something together with someone: type cooking\n",
      "activity: Go to the library and find an interesting book: type relaxation\n",
      "activity: Write a song: type music\n",
      "activity: Create or update your resume: type busywork\n"
     ]
    }
   ],
   "source": [
    "#Create a list of all activity types. From API docs.\n",
    "all_types = [\"education\", \"recreational\", \"social\", \"diy\", \"charity\", \"cooking\", \"relaxation\", \"music\", \"busywork\"]\n",
    "\n",
    "#for each activity type in the all_types list, get the random activity URL, pass in parameter for activity_type, \n",
    "#which should, in a for loop, cycle through each of the types in all_types. this should return the first random \n",
    "#thing the API gets with each activity type. print the response.\n",
    "for activity_type in all_types:\n",
    "    response_random_each = requests.get(\"http://www.boredapi.com/api/activity\", params={\"type\": activity_type})\n",
    "    if response.status_code == 200:\n",
    "        dataaa = response_random_each.json()\n",
    "        print(f\"activity: {dataaa['activity']}: type {dataaa['type']}\")"
   ]
  },
  {
   "cell_type": "markdown",
   "id": "4513b591",
   "metadata": {},
   "source": [
    "## #2 Learning a new API\n"
   ]
  },
  {
   "cell_type": "markdown",
   "id": "31ff43b2",
   "metadata": {},
   "source": [
    "##### Write a URL that will return 5 dog facts at once (just the link is fine)\n"
   ]
  },
  {
   "cell_type": "code",
   "execution_count": 9,
   "id": "838787a2",
   "metadata": {},
   "outputs": [
    {
     "name": "stdout",
     "output_type": "stream",
     "text": [
      "<Response [200]>\n"
     ]
    }
   ],
   "source": [
    "dog_response = requests.get(\"https://dogapi.dog/api/v2/facts?limit=5\")\n",
    "# print(dog_response)"
   ]
  },
  {
   "cell_type": "markdown",
   "id": "b89d4434",
   "metadata": {},
   "source": [
    "##### Take your URL to request a single dog fact and put into a Python program that uses requests.get() and passes in parameters with the params= argument. Your program should just print out the fact itself and not the full JSON object\n"
   ]
  },
  {
   "cell_type": "code",
   "execution_count": 8,
   "id": "06374892",
   "metadata": {},
   "outputs": [
    {
     "name": "stdout",
     "output_type": "stream",
     "text": [
      "{'data': [{'id': 'fbdb6397-cc86-4375-9a26-8096ea43aa30', 'type': 'fact', 'attributes': {'body': 'A dog most likely interprets a smiling person as baring their teeth, which is an act of aggression.'}}, {'id': 'afede2e9-7840-4a16-9161-e0146f2f3e13', 'type': 'fact', 'attributes': {'body': 'The world’s smartest dogs are thought to be (1) the Border Collie, (2) the Poodle, and (3) the Golden Retriever and the dumbest dog is believed to be the Afghan Hound.'}}, {'id': 'ede4ea4f-a5b0-42d0-bb7f-ffec8fcf6a77', 'type': 'fact', 'attributes': {'body': \"A dog's sense of smell is so powerful that they can detect changes in a person's emotional state.\"}}, {'id': '582a3e81-d2e0-4699-8fb8-b7c2cefe35ee', 'type': 'fact', 'attributes': {'body': 'Some dogs have shown remarkable ability to detect certain cancers.'}}, {'id': '61d7c3d0-cb54-4e3b-9317-e275d31c7476', 'type': 'fact', 'attributes': {'body': \"Dogs aren't colorblind but their eyes don't have receptors for red. They see in shades of black and white and also in shades of blue and yellow.\"}}]}\n"
     ]
    }
   ],
   "source": [
    "dog_response_with_params = requests.get(\"https://dogapi.dog/api/v2/facts\", params={\"limit\":5})\n",
    "dog_data = dog_response_with_params.json()\n",
    "print(dog_data)"
   ]
  },
  {
   "cell_type": "markdown",
   "id": "18036e33",
   "metadata": {},
   "source": [
    "##### Finally, write a for loop that gets sets of 5 facts 5 times (you can just try something like for number in [1,2,3,4,5], downloads the lists of dog facts....."
   ]
  },
  {
   "cell_type": "code",
   "execution_count": 78,
   "id": "ad5074df",
   "metadata": {},
   "outputs": [
    {
     "data": {
      "text/plain": [
       "[{'id': 'eac78da5-3f7b-4f28-8035-de826e35a8ed',\n",
       "  'facts': 'One of Shakespeare’s most mischievous characters is Crab, the dog belonging to Launce in the Two Gentlemen of Verona. The word \"watchdog\" is first found in The Tempest.'},\n",
       " {'id': '23d75faa-9fdd-4e4c-9e5d-42bf39b91419',\n",
       "  'facts': 'Seventy percent of people sign their pet’s name on greeting and holiday cards.'},\n",
       " {'id': 'd89862cf-555b-46ac-aef3-40e90c4f4d08',\n",
       "  'facts': 'Every dog on earth likely descended from a species knows as the Tomarctus – a creature that roamed the earth over 15 million years ago.'},\n",
       " {'id': 'ba5e9d77-716f-4500-a9a5-6ca72af3d85a',\n",
       "  'facts': 'Within hours of the September 11, 2001, attack on the World Trade Center, specially trained dogs were on the scene, including German Shepherds, Labs, and even a few little Dachshunds.'},\n",
       " {'id': 'bea22eb3-c0e3-4426-8a4f-8d7fa793adf3',\n",
       "  'facts': 'The smallest dog on record was a matchbox-size Yorkshire Terrier. It was 2.5\" tall at the shoulder, 3.5\" from nose tip to tail, and weighed only 4 ounces.'},\n",
       " {'id': 'ee3c9ccb-4c3d-4bd5-86c2-b3d90b826661',\n",
       "  'facts': 'Most experts believe humans domesticated dogs before donkeys, horses, sheep, goats, cattle, cats, or chickens.'},\n",
       " {'id': '774e03ae-b97e-4c4c-b789-742ce5d63344',\n",
       "  'facts': 'Bloodhounds are prized for their ability to single out and identify a number of scents simultaneously.'},\n",
       " {'id': 'e4f18293-e33b-463c-bad5-58cc746ce720',\n",
       "  'facts': 'Weird dog laws include allowing police offers in Palding, Ohio, to bite a dog to quiet it. In Ventura County, California, cats and dogs are not allowed to have sex without a permit.'},\n",
       " {'id': '1a4b109e-993a-4636-9b0e-8f23de1cb8d8',\n",
       "  'facts': \"A dog's sense of smell is reduced by up to 40 percent when he's overheated and panting.\"},\n",
       " {'id': '8b7c8043-9558-47c5-9774-ce472a62c052',\n",
       "  'facts': 'Did you hear that? Sound frequency is measured in Hertz (Hz). The higher the Hertz, the higher-pitched the sound. Dogs hear best at 8,000 Hz, while humans hear best at around 2,000 Hz.'},\n",
       " {'id': '5862aa0b-bf97-4ac2-b7f4-e59a30ac49ec',\n",
       "  'facts': 'A bloodhound named Tigger holds the record for the longest ears, each measuring more than 13 inches.'},\n",
       " {'id': '52428685-38fc-4443-91d6-182dd38b7e0e',\n",
       "  'facts': 'The Beatles song \"A day in the Life\" has an extra high-pitched whistle, audible only to dogs. It\\xa0was recorded by Paul McCartney for the enjoyment of his Shetland sheepdog.'},\n",
       " {'id': '95f6138d-380d-44f9-8d9c-f6a178ecd78d',\n",
       "  'facts': 'Dalmatian puppies are born completely white.'},\n",
       " {'id': '8fa94033-0160-4f27-a6b0-009e77bef24c',\n",
       "  'facts': 'Dogs have lived with humans for over 14,000 years. Cats have lived with people for only 7,000 years.'},\n",
       " {'id': 'cb382e94-d7e2-415b-b943-085960f3819a',\n",
       "  'facts': 'Toto in The Wizard of Oz was played by a female Cairn Terrier named Terry.'},\n",
       " {'id': '36dd7f4d-f585-4387-8164-3c547f0027c6',\n",
       "  'facts': 'In ancient Greece, kennels of dogs were kept at the sanctuary of Asclepius at Epidaurus. Dogs were frequently sacrificed there because they were plentiful, inexpensive, and easy to control. During the July 25 celebration of the kunophontis (\"the massacre of dogs\"), dog sacrifices were performed to appease the ancestors of Apollo’s son, Linos, who was devoured by dogs..'},\n",
       " {'id': '80c35852-9057-4f4c-840f-392e5b09c26c',\n",
       "  'facts': 'A Beatles hit. It’s rumored that, at the end of the Beatles song, \"A Day in the Life,\" Paul McCartney recorded an ultrasonic whistle, audible only to dogs, just for his Shetland sheepdog.'},\n",
       " {'id': '34595792-cb20-47f7-85f0-1d48ed96a487',\n",
       "  'facts': 'Plato once said that \"a dog has the soul of a philosopher.\"'},\n",
       " {'id': '423993e7-f8a7-4d33-a11a-09145b513b6f',\n",
       "  'facts': 'In Old England, the word \"hound\" was used to refer to all types of dogs.'},\n",
       " {'id': 'bbbdc6e1-bc8e-42be-b266-5f32c0f590a7',\n",
       "  'facts': 'In early Christian tradition, Saint Christopher, the patron saint of travelers, is sometimes depicted with a dog’s head.'},\n",
       " {'id': 'b884ac7c-4567-4be0-8a50-747439bb123e',\n",
       "  'facts': 'Dogs are mentioned in the Bible more than 35 times.'},\n",
       " {'id': '035c13e1-fcd3-4cc0-b181-b2a4d79732b6',\n",
       "  'facts': 'Irish Wolfhounds, the tallest breed, are 30 to 35 inches tall.'},\n",
       " {'id': '7320a0b2-09df-47d5-ab12-05a6ea943cf1',\n",
       "  'facts': 'The earliest European images of dogs are found in cave paintings dating back 12,000 years ago in Spain.'},\n",
       " {'id': '54ae5b6c-b792-4f4a-8fa8-d44d5f986603',\n",
       "  'facts': 'At about 6 inches, the Chihuahua is the shortest breed.'},\n",
       " {'id': '66484127-b24e-49de-8a62-01b318bfbcfe',\n",
       "  'facts': 'The most popular male dog names are Max and Jake. The most popular female dog names are Maggie and Molly.'}]"
      ]
     },
     "execution_count": 78,
     "metadata": {},
     "output_type": "execute_result"
    }
   ],
   "source": [
    "dog_fax = []\n",
    "\n",
    "for number in [1,2,3,4,5]*5:\n",
    "    response = requests.get(\"https://dogapi.dog/api/v2/facts\")\n",
    "    if response.status_code == 200:\n",
    "        data = response.json()\n",
    "        content = data['data'][0]\n",
    "        dog_string1 = content['id'] \n",
    "        dog_string2 = content['attributes']['body']\n",
    "        dog_fax.append({\"id\":dog_string1,\"facts\":dog_string2})\n",
    "        #print(dog_string1, dog_string2)\n",
    "dog_fax"
   ]
  },
  {
   "cell_type": "markdown",
   "id": "7a4c537f",
   "metadata": {},
   "source": [
    "##### and then writes out a new tab-separated values (TSV) file with columns: (1) ID of the dog fact, and (2) the fact itself!"
   ]
  },
  {
   "cell_type": "code",
   "execution_count": 84,
   "id": "46809968",
   "metadata": {},
   "outputs": [],
   "source": [
    "import csv  \n",
    "\n",
    "tsvFileName = 'dog_facts.tsv'\n",
    "\n",
    "tsv_header_name = ['id', 'facts']\n",
    "\n",
    "with open(tsvFileName, 'w') as tsvfile:\n",
    "    #csv writer to write in tsv file\n",
    "    tsv_writer = csv.DictWriter(tsvfile, delimiter=',', fieldnames=tsv_header_name)\n",
    "    tsv_writer.writeheader()\n",
    "    #write rows\n",
    "    for row in dog_fax:\n",
    "        tsv_writer.writerow(row)\n",
    "    \n",
    "    #close csv file\n",
    "    tsvfile.close()"
   ]
  },
  {
   "cell_type": "markdown",
   "id": "69c393ed",
   "metadata": {},
   "source": [
    "## #3 Mapping!"
   ]
  },
  {
   "cell_type": "markdown",
   "id": "3a904d08",
   "metadata": {},
   "source": [
    "##### Are there more gas stations in Duvall or Carnation?"
   ]
  },
  {
   "cell_type": "code",
   "execution_count": 9,
   "id": "6c585b8c",
   "metadata": {},
   "outputs": [
    {
     "name": "stdout",
     "output_type": "stream",
     "text": [
      "there are more gas stations in duvall\n"
     ]
    }
   ],
   "source": [
    "#gas station in duvall\n",
    "url = \"https://nominatim.openstreetmap.org/search\" ##formatted response\n",
    "osm = {'q': \"gas station in duvall\", \n",
    "            'format': 'jsonv2'}\n",
    "\n",
    "response = requests.get(url, params=osm) ##make the request, put in var\n",
    "\n",
    "if response.status_code == 200:  #check to see if success\n",
    "    map_response_duvall = response.json()   ##if successful, throw in variable \"data\"\n",
    "else:  #otherwise, throw an error\n",
    "    print(\"error, that was not successful\")\n",
    "\n",
    "num_results_duvall = (len(map_response_duvall)) ##for duvall\n",
    "\n",
    "\n",
    "#gas station in carnation\n",
    "\n",
    "osm_carnation = {'q': \"gas station in carnation\", \n",
    "            'format': 'jsonv2'}\n",
    "\n",
    "response_carnation = requests.get(url, params=osm_carnation) ##make the request, put in var\n",
    "\n",
    "if response_carnation.status_code == 200:  #check to see if success\n",
    "    map_response_carnation = response_carnation.json()   ##if successful, throw in variable \"data\"\n",
    "else:  #otherwise, throw an error\n",
    "    print(\"error, that was not successful\")\n",
    "\n",
    "num_results_carnation = (len(map_response_carnation)) ##for carnation\n",
    "\n",
    "if num_results_duvall > num_results_carnation:\n",
    "    print (\"there are more gas stations in duvall\")\n",
    "else:\n",
    "    print (\"there are more gas stations in carnation\")"
   ]
  },
  {
   "cell_type": "markdown",
   "id": "47fdc17e",
   "metadata": {},
   "source": [
    "##### Are there more dentists near the University or near Downtown? (you will need to look at the limit on the number of returned items)\n"
   ]
  },
  {
   "cell_type": "code",
   "execution_count": 20,
   "id": "48c6f18e",
   "metadata": {},
   "outputs": [
    {
     "name": "stdout",
     "output_type": "stream",
     "text": [
      "there are more dentists in u-district\n"
     ]
    }
   ],
   "source": [
    "#dentists near UW\n",
    "url = \"https://nominatim.openstreetmap.org/search\" ##formatted response\n",
    "osm_dentists_uni = {'q': \"dentists near university university district\",\n",
    "        'limit': 30,\n",
    "        'format': 'jsonv2'}\n",
    "\n",
    "response_dentists_uni = requests.get(url, params=osm_dentists_uni) ##make the request, put in var\n",
    "\n",
    "if response_dentists_uni.status_code == 200:  #check to see if success\n",
    "    map_response_dentists_uni = response.json()   ##if successful, throw in variable \"data\"\n",
    "else:  #otherwise, throw an error\n",
    "    print(\"error, that was not successful\")\n",
    "\n",
    "num_results_uw = (len(map_response_dentists_uni)) ##for UW\n",
    "\n",
    "#dentists near UW\n",
    "url = \"https://nominatim.openstreetmap.org/search\" ##formatted response\n",
    "osm_dentists_uni_dt = {'q': \"dentists near university downtown seattle\",\n",
    "        'limit': 30,\n",
    "        'format': 'jsonv2'}\n",
    "\n",
    "response_dentists_uni_dt = requests.get(url, params=osm_dentists_uni_dt) ##make the request, put in var\n",
    "\n",
    "if response_dentists_uni_dt.status_code == 200:  #check to see if success\n",
    "    map_response_dentists_uni_dt = response.json()   ##if successful, throw in variable \"data\"\n",
    "else:  #otherwise, throw an error\n",
    "    print(\"error, that was not successful\")\n",
    "\n",
    "num_results_dt = (len(map_response_dentists_uni_dt)) ##for dt\n",
    "\n",
    "if num_results_uw >= num_results_dt:\n",
    "    print (\"there are more dentists in u-district\")\n",
    "else:\n",
    "    print (\"there are more dentists near downtown\")"
   ]
  },
  {
   "cell_type": "markdown",
   "id": "e9cfd894",
   "metadata": {},
   "source": [
    "##### Use the geocoding API endpoint in Nominatim to look up a specific latitude and longitude of your choice (try this building or your hometown).\n"
   ]
  },
  {
   "cell_type": "code",
   "execution_count": 95,
   "id": "a6f8b39f",
   "metadata": {},
   "outputs": [
    {
     "name": "stdout",
     "output_type": "stream",
     "text": [
      "lat/lon: 29.16941, -95.4318847\n"
     ]
    }
   ],
   "source": [
    "#hometown\n",
    "url = \"https://nominatim.openstreetmap.org/search\" ##formatted response\n",
    "osm_home = {'q': \"angleton, tx\",\n",
    "        'format': 'jsonv2'}\n",
    "\n",
    "response_home = requests.get(url, params=osm_home) ##make the request, put in var\n",
    "\n",
    "if response_home.status_code == 200:  #check to see if success\n",
    "    map_response_home = response_home.json()   ##if successful, throw in variable \"data\"\n",
    "else:  #otherwise, throw an error\n",
    "    print(\"error, that was not successful\")\n",
    "\n",
    "print(f\"lat/lon: {map_response_home[0]['lat']}, {map_response_home[0]['lon']}\")\n"
   ]
  },
  {
   "cell_type": "markdown",
   "id": "dd51bfa2",
   "metadata": {},
   "source": [
    "##### Write a program to find all the ziplines in King County, Washington (or at least all the ones that OSM knows about!).\n"
   ]
  },
  {
   "cell_type": "code",
   "execution_count": 45,
   "id": "662d775f",
   "metadata": {},
   "outputs": [
    {
     "name": "stdout",
     "output_type": "stream",
     "text": [
      "[{'place_id': 341719091, 'licence': 'Data © OpenStreetMap contributors, ODbL 1.0. https://osm.org/copyright', 'osm_type': 'way', 'osm_id': 1090854804, 'boundingbox': ['47.2734779', '47.2743027', '-122.3129653', '-122.3103506'], 'lat': '47.2743027', 'lon': '-122.3103506', 'display_name': 'Soaring Eagle Zipline, Milton Road South, Federal Way, King County, Washington, 98354, United States', 'place_rank': 30, 'category': 'aerialway', 'type': 'zip_line', 'importance': 0.40001}]\n",
      "341719091\n"
     ]
    },
    {
     "data": {
      "text/plain": [
       "str"
      ]
     },
     "execution_count": 45,
     "metadata": {},
     "output_type": "execute_result"
    }
   ],
   "source": [
    "#ziplines\n",
    "url = \"https://nominatim.openstreetmap.org/search\" ##formatted response\n",
    "osm_zip = {'q': \"zipline king county washington\",\n",
    "        'format': 'jsonv2'}\n",
    "\n",
    "response_zip = requests.get(url, params=osm_zip) ##make the request, put in var\n",
    "\n",
    "if response_zip.status_code == 200:  #check to see if success\n",
    "    map_response_zip = response_zip.json()   ##if successful, throw in variable \"data\"\n",
    "else:  #otherwise, throw an error\n",
    "    print(\"error, that was not successful\")\n",
    "\n",
    "print(map_response_zip)\n",
    "\n",
    "display_zip = str((map_response_zip[0]['place_id'])) #for the next question\n",
    "\n",
    "print(display_zip)\n",
    "type(display_zip)"
   ]
  },
  {
   "cell_type": "markdown",
   "id": "2472273a",
   "metadata": {},
   "source": [
    "##### It's important to be alert and well-caffeinated when ziplining! Once you've found a nearby zipline, have your program use that result to find the nearest cafe each of the ziplines you identify!\n"
   ]
  },
  {
   "cell_type": "code",
   "execution_count": 43,
   "id": "ee2ce274",
   "metadata": {},
   "outputs": [
    {
     "name": "stdout",
     "output_type": "stream",
     "text": [
      "[]\n"
     ]
    }
   ],
   "source": [
    "#coffee near zipline\n",
    "url = \"https://nominatim.openstreetmap.org/search\" ##formatted response\n",
    "osm_coffee_zip = {'q': \"coffee near\"+ display_zip,\n",
    "        'format': 'jsonv2'}\n",
    "\n",
    "response_coffee_zip = requests.get(url, params=osm_coffee_zip) ##make the request, put in var\n",
    "\n",
    "if response_coffee_zip.status_code == 200:  #check to see if success\n",
    "    map_response_coffee_zip = response_coffee_zip.json()   ##if successful, throw in variable \"data\"\n",
    "else:  #otherwise, throw an error\n",
    "    print(\"error, that was not successful\")\n",
    "\n",
    "print(map_response_coffee_zip) ##my searche in debug tool also turn up zero results?"
   ]
  },
  {
   "cell_type": "markdown",
   "id": "0d3d7c93",
   "metadata": {},
   "source": [
    "##### Craft a query using the search API to find colleges in Seattle. (Hint: you'll want to set bounded=1 and use the viewbox). Print the name and location of every college you find.\n"
   ]
  },
  {
   "cell_type": "code",
   "execution_count": 73,
   "id": "7a001360",
   "metadata": {},
   "outputs": [
    {
     "name": "stdout",
     "output_type": "stream",
     "text": [
      "[{'place_id': 21752165, 'licence': 'Data © OpenStreetMap contributors, ODbL 1.0. https://osm.org/copyright', 'osm_type': 'node', 'osm_id': 2439830827, 'boundingbox': ['47.6548977', '47.6549977', '-122.312439', '-122.312339'], 'lat': '47.6549477', 'lon': '-122.312389', 'display_name': 'UW College of Built Environments, 3949, 15th Avenue Northeast, West Campus, University District, Seattle, King County, Washington, 98105, United States', 'place_rank': 30, 'category': 'amenity', 'type': 'college', 'importance': 0.59190327427879, 'icon': 'https://nominatim.openstreetmap.org/ui/mapicons/education_school.p.20.png'}, {'place_id': 160018749, 'licence': 'Data © OpenStreetMap contributors, ODbL 1.0. https://osm.org/copyright', 'osm_type': 'way', 'osm_id': 222830382, 'boundingbox': ['47.6554244', '47.6555485', '-122.3131922', '-122.3127491'], 'lat': '47.655488899999995', 'lon': '-122.31297085374715', 'display_name': 'The College Inn, Northeast 40th Street, West Campus, University District, Seattle, King County, Washington, 98195, United States', 'place_rank': 30, 'category': 'building', 'type': 'yes', 'importance': 0.41993111144954753}, {'place_id': 21828000, 'licence': 'Data © OpenStreetMap contributors, ODbL 1.0. https://osm.org/copyright', 'osm_type': 'node', 'osm_id': 2464036021, 'boundingbox': ['47.6554783', '47.6555783', '-122.31313', '-122.31303'], 'lat': '47.6555283', 'lon': '-122.31308', 'display_name': 'College Inn Pub, 4006, University Way Northeast, West Campus, University District, Seattle, King County, Washington, 98105, United States', 'place_rank': 30, 'category': 'amenity', 'type': 'pub', 'importance': 0.30001, 'icon': 'https://nominatim.openstreetmap.org/ui/mapicons/food_pub.p.20.png'}, {'place_id': 22353059, 'licence': 'Data © OpenStreetMap contributors, ODbL 1.0. https://osm.org/copyright', 'osm_type': 'node', 'osm_id': 2464036010, 'boundingbox': ['47.6554008', '47.6555008', '-122.313056', '-122.312956'], 'lat': '47.6554508', 'lon': '-122.313006', 'display_name': 'College Inn, 4000, University Way Northeast, West Campus, University District, Seattle, King County, Washington, 98105, United States', 'place_rank': 30, 'category': 'tourism', 'type': 'hotel', 'importance': 0.30001, 'icon': 'https://nominatim.openstreetmap.org/ui/mapicons/accommodation_hotel2.p.20.png'}, {'place_id': 160177546, 'licence': 'Data © OpenStreetMap contributors, ODbL 1.0. https://osm.org/copyright', 'osm_type': 'way', 'osm_id': 223357549, 'boundingbox': ['47.6573333', '47.6579014', '-122.3170859', '-122.3168195'], 'lat': '47.65762655', 'lon': '-122.31694551090054', 'display_name': 'College Place Apartments, 4131, 11th Avenue Northeast, West Campus, University District, Seattle, King County, Washington, 98105, United States', 'place_rank': 30, 'category': 'building', 'type': 'yes', 'importance': 0.30001}, {'place_id': 348343470, 'licence': 'Data © OpenStreetMap contributors, ODbL 1.0. https://osm.org/copyright', 'osm_type': 'way', 'osm_id': 521700473, 'boundingbox': ['47.6489703', '47.6491292', '-122.3256193', '-122.3253275'], 'lat': '47.6490498', 'lon': '-122.32547342499998', 'display_name': 'College Club Seattle, 11, East Allison Street, Eastlake, Wallingford, Seattle, King County, Washington, 98102, United States', 'place_rank': 30, 'category': 'leisure', 'type': 'sports_centre', 'importance': 0.20000999999999997, 'icon': 'https://nominatim.openstreetmap.org/ui/mapicons/sport_leisure_centre.p.20.png'}]\n"
     ]
    }
   ],
   "source": [
    "#colleges in seattle\n",
    "url = \"https://nominatim.openstreetmap.org/search\" ##formatted response\n",
    "osm_colleges = {'q': \"college university seattle\",\n",
    "                'viewbox': \"-122.41138,47.65983,-122.22942,47.60627\",\n",
    "                'bounded':1,\n",
    "                  'format': 'jsonv2'}\n",
    "\n",
    "response_colleges = requests.get(url, params=osm_colleges) ##make the request, put in var\n",
    "\n",
    "if response_colleges.status_code == 200:  #check to see if success\n",
    "    map_response_colleges = response_colleges.json()   ##if successful, throw in variable \"data\"\n",
    "else:  #otherwise, throw an error\n",
    "    print(\"error, that was not successful\")\n",
    "\n",
    "print(map_response_colleges) #6 results\n",
    "\n",
    "#print(len(map_response_colleges))"
   ]
  },
  {
   "cell_type": "markdown",
   "id": "2082ca73",
   "metadata": {},
   "source": [
    "##### Modify your query so that you include the address details separated out (this is an API option you can find in the documentation)?\n"
   ]
  },
  {
   "cell_type": "code",
   "execution_count": 76,
   "id": "7daa8520",
   "metadata": {},
   "outputs": [
    {
     "name": "stdout",
     "output_type": "stream",
     "text": [
      "[{'place_id': 21752165, 'licence': 'Data © OpenStreetMap contributors, ODbL 1.0. https://osm.org/copyright', 'osm_type': 'node', 'osm_id': 2439830827, 'boundingbox': ['47.6548977', '47.6549977', '-122.312439', '-122.312339'], 'lat': '47.6549477', 'lon': '-122.312389', 'display_name': 'UW College of Built Environments, 3949, 15th Avenue Northeast, West Campus, University District, Seattle, King County, Washington, 98105, United States', 'place_rank': 30, 'category': 'amenity', 'type': 'college', 'importance': 0.59190327427879, 'icon': 'https://nominatim.openstreetmap.org/ui/mapicons/education_school.p.20.png', 'address': {'amenity': 'UW College of Built Environments', 'house_number': '3949', 'road': '15th Avenue Northeast', 'neighbourhood': 'West Campus', 'suburb': 'University District', 'city': 'Seattle', 'county': 'King County', 'state': 'Washington', 'ISO3166-2-lvl4': 'US-WA', 'postcode': '98105', 'country': 'United States', 'country_code': 'us'}}, {'place_id': 160018749, 'licence': 'Data © OpenStreetMap contributors, ODbL 1.0. https://osm.org/copyright', 'osm_type': 'way', 'osm_id': 222830382, 'boundingbox': ['47.6554244', '47.6555485', '-122.3131922', '-122.3127491'], 'lat': '47.655488899999995', 'lon': '-122.31297085374715', 'display_name': 'The College Inn, Northeast 40th Street, West Campus, University District, Seattle, King County, Washington, 98195, United States', 'place_rank': 30, 'category': 'building', 'type': 'yes', 'importance': 0.41993111144954753, 'address': {'building': 'The College Inn', 'road': 'Northeast 40th Street', 'neighbourhood': 'West Campus', 'suburb': 'University District', 'city': 'Seattle', 'county': 'King County', 'state': 'Washington', 'ISO3166-2-lvl4': 'US-WA', 'postcode': '98195', 'country': 'United States', 'country_code': 'us'}}, {'place_id': 21828000, 'licence': 'Data © OpenStreetMap contributors, ODbL 1.0. https://osm.org/copyright', 'osm_type': 'node', 'osm_id': 2464036021, 'boundingbox': ['47.6554783', '47.6555783', '-122.31313', '-122.31303'], 'lat': '47.6555283', 'lon': '-122.31308', 'display_name': 'College Inn Pub, 4006, University Way Northeast, West Campus, University District, Seattle, King County, Washington, 98105, United States', 'place_rank': 30, 'category': 'amenity', 'type': 'pub', 'importance': 0.30001, 'icon': 'https://nominatim.openstreetmap.org/ui/mapicons/food_pub.p.20.png', 'address': {'amenity': 'College Inn Pub', 'house_number': '4006', 'road': 'University Way Northeast', 'neighbourhood': 'West Campus', 'suburb': 'University District', 'city': 'Seattle', 'county': 'King County', 'state': 'Washington', 'ISO3166-2-lvl4': 'US-WA', 'postcode': '98105', 'country': 'United States', 'country_code': 'us'}}, {'place_id': 22353059, 'licence': 'Data © OpenStreetMap contributors, ODbL 1.0. https://osm.org/copyright', 'osm_type': 'node', 'osm_id': 2464036010, 'boundingbox': ['47.6554008', '47.6555008', '-122.313056', '-122.312956'], 'lat': '47.6554508', 'lon': '-122.313006', 'display_name': 'College Inn, 4000, University Way Northeast, West Campus, University District, Seattle, King County, Washington, 98105, United States', 'place_rank': 30, 'category': 'tourism', 'type': 'hotel', 'importance': 0.30001, 'icon': 'https://nominatim.openstreetmap.org/ui/mapicons/accommodation_hotel2.p.20.png', 'address': {'tourism': 'College Inn', 'house_number': '4000', 'road': 'University Way Northeast', 'neighbourhood': 'West Campus', 'suburb': 'University District', 'city': 'Seattle', 'county': 'King County', 'state': 'Washington', 'ISO3166-2-lvl4': 'US-WA', 'postcode': '98105', 'country': 'United States', 'country_code': 'us'}}, {'place_id': 160177546, 'licence': 'Data © OpenStreetMap contributors, ODbL 1.0. https://osm.org/copyright', 'osm_type': 'way', 'osm_id': 223357549, 'boundingbox': ['47.6573333', '47.6579014', '-122.3170859', '-122.3168195'], 'lat': '47.65762655', 'lon': '-122.31694551090054', 'display_name': 'College Place Apartments, 4131, 11th Avenue Northeast, West Campus, University District, Seattle, King County, Washington, 98105, United States', 'place_rank': 30, 'category': 'building', 'type': 'yes', 'importance': 0.30001, 'address': {'building': 'College Place Apartments', 'house_number': '4131', 'road': '11th Avenue Northeast', 'neighbourhood': 'West Campus', 'suburb': 'University District', 'city': 'Seattle', 'county': 'King County', 'state': 'Washington', 'ISO3166-2-lvl4': 'US-WA', 'postcode': '98105', 'country': 'United States', 'country_code': 'us'}}, {'place_id': 348343470, 'licence': 'Data © OpenStreetMap contributors, ODbL 1.0. https://osm.org/copyright', 'osm_type': 'way', 'osm_id': 521700473, 'boundingbox': ['47.6489703', '47.6491292', '-122.3256193', '-122.3253275'], 'lat': '47.6490498', 'lon': '-122.32547342499998', 'display_name': 'College Club Seattle, 11, East Allison Street, Eastlake, Wallingford, Seattle, King County, Washington, 98102, United States', 'place_rank': 30, 'category': 'leisure', 'type': 'sports_centre', 'importance': 0.20000999999999997, 'icon': 'https://nominatim.openstreetmap.org/ui/mapicons/sport_leisure_centre.p.20.png', 'address': {'leisure': 'College Club Seattle', 'house_number': '11', 'road': 'East Allison Street', 'neighbourhood': 'Eastlake', 'suburb': 'Wallingford', 'city': 'Seattle', 'county': 'King County', 'state': 'Washington', 'ISO3166-2-lvl4': 'US-WA', 'postcode': '98102', 'country': 'United States', 'country_code': 'us'}}]\n"
     ]
    }
   ],
   "source": [
    "#colleges in seattle. ALL THE THINGS SEPARATED OUT\n",
    "url = \"https://nominatim.openstreetmap.org/search\" ##formatted response\n",
    "osm_colleges = {'q': \"college university seattle\",\n",
    "                'viewbox': \"-122.41138,47.65983,-122.22942,47.60627\",\n",
    "                'bounded':1,\n",
    "                'addressdetails':1,\n",
    "                  'format': 'jsonv2'}\n",
    "\n",
    "response_colleges = requests.get(url, params=osm_colleges) ##make the request, put in var\n",
    "\n",
    "if response_colleges.status_code == 200:  #check to see if success\n",
    "    map_response_colleges = response_colleges.json()   ##if successful, throw in variable \"data\"\n",
    "else:  #otherwise, throw an error\n",
    "    print(\"error, that was not successful\")\n",
    "\n",
    "print(map_response_colleges) #6 results\n"
   ]
  },
  {
   "cell_type": "markdown",
   "id": "d8f40a75",
   "metadata": {},
   "source": [
    "##### How can you tell that a place returned by the API is in fact a college?\n"
   ]
  },
  {
   "cell_type": "code",
   "execution_count": null,
   "id": "f2ecd8ca",
   "metadata": {},
   "outputs": [],
   "source": [
    "# I don't think my query is perfect, but I can mostly tell by the Type:College tag that getes returned"
   ]
  },
  {
   "cell_type": "markdown",
   "id": "4e3ee02d",
   "metadata": {},
   "source": [
    "##### Print the list of colleges into a new TSV file with the following columns: osm_id (a unique ID that OSM uses), the name of the college, latitude, and longitude."
   ]
  },
  {
   "cell_type": "code",
   "execution_count": 81,
   "id": "1f6fa2b6",
   "metadata": {},
   "outputs": [],
   "source": [
    "import csv  \n",
    "\n",
    "tsvFileName = 'college_list.tsv'\n",
    "\n",
    "tsv_header_name = ['osm_id', 'display_name', \"lat\", \"lon\"]\n",
    "\n",
    "ignore_list = ['place_rank', 'type', 'osm_type', 'licence', 'boundingbox', 'importance', 'icon', 'category', 'address', 'place_id']\n",
    "\n",
    "with open(tsvFileName, 'w') as tsvfile:\n",
    "    #csv writer to write in tsv file\n",
    "    tsv_writer = csv.DictWriter(tsvfile, delimiter=',', fieldnames=tsv_header_name, extrasaction='ignore')\n",
    "    tsv_writer.writeheader()\n",
    "    #write rows\n",
    "    for row in map_response_colleges:\n",
    "        tsv_writer.writerow(row)\n",
    "    \n",
    "    #close csv file\n",
    "    tsvfile.close()"
   ]
  }
 ],
 "metadata": {
  "kernelspec": {
   "display_name": "Python 3 (ipykernel)",
   "language": "python",
   "name": "python3"
  },
  "language_info": {
   "codemirror_mode": {
    "name": "ipython",
    "version": 3
   },
   "file_extension": ".py",
   "mimetype": "text/x-python",
   "name": "python",
   "nbconvert_exporter": "python",
   "pygments_lexer": "ipython3",
   "version": "3.10.9"
  }
 },
 "nbformat": 4,
 "nbformat_minor": 5
}
