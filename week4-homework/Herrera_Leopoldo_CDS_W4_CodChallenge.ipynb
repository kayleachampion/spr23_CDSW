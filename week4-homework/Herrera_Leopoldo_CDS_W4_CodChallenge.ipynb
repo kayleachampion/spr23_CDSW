{
 "cells": [
  {
   "cell_type": "code",
   "execution_count": 10,
   "id": "a76f34c1",
   "metadata": {},
   "outputs": [],
   "source": [
    "import requests "
   ]
  },
  {
   "cell_type": "code",
   "execution_count": 14,
   "id": "78ac2982",
   "metadata": {},
   "outputs": [
    {
     "name": "stdout",
     "output_type": "stream",
     "text": [
      "activity 1: Play a game of tennis with a friend: Price: 0.1: Accessibility: 0.4\n",
      "activity 2: Compliment someone: Price: 0: Accessibility: 0\n",
      "activity 3: Catch up with a friend over a lunch date: Price: 0.2: Accessibility: 0.15\n",
      "activity 4: Compliment someone: Price: 0: Accessibility: 0\n",
      "activity 5: Text a friend you haven't talked to in a long time: Price: 0.05: Accessibility: 0.2\n"
     ]
    }
   ],
   "source": [
    "responses = [requests.get(\"http://www.boredapi.com/api/activity?participants=2&price\") for _ in range(5)]\n",
    "\n",
    "for i, response in enumerate(responses):\n",
    "    if response.status_code == 200:\n",
    "        data = response.json()\n",
    "        print(f\"activity {i+1}: {data['activity']}: Price: {data['price']}: Accessibility: {data['accessibility']}\")"
   ]
  },
  {
   "cell_type": "code",
   "execution_count": 19,
   "id": "847f160b",
   "metadata": {},
   "outputs": [],
   "source": [
    "#get a totally random activity from the API. Print it out, along with its activity type. Now get me another activity that's of the same type as the first random activity. Print it out too, plus its activity type (to check that they're the same).\""
   ]
  },
  {
   "cell_type": "code",
   "execution_count": 21,
   "id": "69ecb7b0",
   "metadata": {},
   "outputs": [
    {
     "name": "stdout",
     "output_type": "stream",
     "text": [
      "Just a random activity with type: Learn a new programming language. type: education\n",
      "Another activity!: Learn how to write in shorthand. type: education\n"
     ]
    }
   ],
   "source": [
    "import requests\n",
    "\n",
    "# Make the first API request to get a random activity and its type\n",
    "response = requests.get(\"http://www.boredapi.com/api/activity\")\n",
    "if response.status_code == 200:\n",
    "    data = response.json()\n",
    "    print(f\"Just a random activity with type: {data['activity']}. type: {data['type']}\")\n",
    "    activity_type = data['type']\n",
    "else:\n",
    "    print(\"Error getting random activity.\")\n",
    "\n",
    "# Make a second API request to get another activity of the same type\n",
    "params = {'type': activity_type}\n",
    "response = requests.get(\"http://www.boredapi.com/api/activity\", params=params)\n",
    "if response.status_code == 200:\n",
    "    data = response.json()\n",
    "    print(f\"Another activity!: {data['activity']}. type: {data['type']}\")\n",
    "else:\n",
    "    print(\"Error getting activity of same type.\")"
   ]
  },
  {
   "cell_type": "code",
   "execution_count": 22,
   "id": "43c9b8d7",
   "metadata": {},
   "outputs": [],
   "source": [
    "#Write a Python program that prints out one random activity of each type that the Bored API supports. (See if you can use a loop for this!)"
   ]
  },
  {
   "cell_type": "code",
   "execution_count": 23,
   "id": "6f6ffcdc",
   "metadata": {},
   "outputs": [
    {
     "name": "stdout",
     "output_type": "stream",
     "text": [
      "activity: Watch a Khan Academy lecture on a subject of your choosing: type education\n",
      "activity: Learn how to use a french press: type recreational\n",
      "activity: Write a thank you letter to an influential person in your life: type social\n",
      "activity: Fix something that's broken in your house: type diy\n",
      "activity: Contribute code or a monetary donation to an open-source software project: type charity\n",
      "activity: Cook something together with someone: type cooking\n",
      "activity: Write a list of things you are grateful for: type relaxation\n",
      "activity: Listen to music you haven't heard in a while: type music\n",
      "activity: Resolve a problem you've been putting off: type busywork\n"
     ]
    }
   ],
   "source": [
    "# Create a list of all activity types\n",
    "all_types = [\"education\", \"recreational\", \"social\", \"diy\", \"charity\", \"cooking\", \"relaxation\", \"music\", \"busywork\"]\n",
    "\n",
    "# Loop through each activity type and make an API request to get a random activity of that type\n",
    "for activity_type in all_types:\n",
    "    response = requests.get(\"http://www.boredapi.com/api/activity\", params={\"type\": activity_type})\n",
    "    if response.status_code == 200:\n",
    "        data = response.json()\n",
    "        print(f\"activity: {data['activity']}: type {data['type']}\")\n",
    "    else:\n",
    "        print(f\"Error getting activity for type {activity_type}.\")"
   ]
  },
  {
   "cell_type": "code",
   "execution_count": 24,
   "id": "70bf54b4",
   "metadata": {},
   "outputs": [],
   "source": [
    "#Write a URL that will return 5 dog facts at once (just the link is fine)"
   ]
  },
  {
   "cell_type": "code",
   "execution_count": 36,
   "id": "92dcb4cf",
   "metadata": {},
   "outputs": [],
   "source": [
    "dog_response = requests.get(\"https://dogapi.dog/api/v2/facts?limit=5\")\n"
   ]
  },
  {
   "cell_type": "code",
   "execution_count": 37,
   "id": "c8b8304e",
   "metadata": {},
   "outputs": [],
   "source": [
    "#Write a URL that will return 5 dog facts at once (just the link is fine)\n",
    "#Take your URL to request a single dog fact and put into a Python program that uses requests.get() and passes in parameters with the params= argument. Your program should just print out the fact itself and not the full JSON object"
   ]
  },
  {
   "cell_type": "code",
   "execution_count": 54,
   "id": "9d952339",
   "metadata": {},
   "outputs": [
    {
     "name": "stdout",
     "output_type": "stream",
     "text": [
      "{'data': [{'id': 'df8e590d-52bc-4d12-a64d-ce93dc133614', 'type': 'fact', 'attributes': {'body': 'One survey reports that 33% of dog owners admit they talk to their dogs on the phone or leave messages on answering machines while they are away..'}}, {'id': '6dbd4290-e1bd-4400-b019-8543f4a8c7e7', 'type': 'fact', 'attributes': {'body': 'Dogs have been bred for a variety of purposes, including hunting, guarding, and companionship.'}}, {'id': 'f62e0108-89b7-4778-a480-8e4fa3111f64', 'type': 'fact', 'attributes': {'body': 'Two Labradors, Lucky and Flo, were the first dogs known for sniffing out pirated DVDs.'}}, {'id': '081590a3-2888-4d3e-9a05-c02d6a803a65', 'type': 'fact', 'attributes': {'body': 'Dogs have no sense of time.'}}, {'id': '2d958f07-373a-4342-899e-6d2a9e159c37', 'type': 'fact', 'attributes': {'body': 'Dogs are natural pack animals.'}}]}\n"
     ]
    }
   ],
   "source": [
    "#https://dogapi.dog/api/v2/facts?limit=5\n",
    "# URL for the Dog API facts endpoint\n",
    "url = \"https://dogapi.dog/api/v2/facts\"\n",
    "\n",
    "# Define a dictionary of parameters to be passed to the API\n",
    "params = {\"limit\": 5}\n",
    "\n",
    "# Use the requests library to send a GET request to the API, passing in the URL and parameters\n",
    "response = requests.get(url, params=params)\n",
    "\n",
    "# Check if the response was successful (status code 200)\n",
    "if response.status_code == 200:\n",
    "    # Parse the response data as JSON\n",
    "    data = response.json()\n",
    "    # Print the first fact in the list\n",
    "    print(data)\n",
    "else:\n",
    "    # Print an error message if the response was not successful\n",
    "    print(f\"Error getting dog facts. Status code: {response.status_code}\")"
   ]
  },
  {
   "cell_type": "code",
   "execution_count": 74,
   "id": "fb65e795",
   "metadata": {},
   "outputs": [],
   "source": [
    "#Finally, write a for loop that gets sets of 5 facts 5 times (you can just try something like for number in [1,2,3,4,5], downloads the lists of dog facts, and then writes out a new tab-separated values (TSV) file with columns: (1) ID of the dog fact, and (2) the fact itself!"
   ]
  },
  {
   "cell_type": "code",
   "execution_count": 113,
   "id": "d66d9e0f",
   "metadata": {},
   "outputs": [
    {
     "data": {
      "text/plain": [
       "[{'id': '6375e51a-0876-4d62-a917-023895564aa2',\n",
       "  'facts': 'George Washington had 36 dogs–all Foxhounds–with one named Sweetlips.'},\n",
       " {'id': '97d8924b-98fd-496d-af74-60ea28be1db9',\n",
       "  'facts': 'With love and a little patience, dogs can learn to walk backwards, salute and bow.'},\n",
       " {'id': 'e69e45b2-7c4a-4927-9581-c4a98c9df442',\n",
       "  'facts': 'The heaviest breed, the Mastiff, weighs about 200 pounds.'},\n",
       " {'id': '2496b5b1-04e6-4c6c-863b-faab5d8714e3',\n",
       "  'facts': 'Chihuahuas are born with soft spots in their skulls, just like human babies.'},\n",
       " {'id': '2d5d5874-ef1c-4ef9-988e-f8f1e264fec8',\n",
       "  'facts': 'The Berger Picard, Miniature American Shepherd and Lagotto Romagnolo are the newest dog breeds recognized by the American Kennel Club in 2015.'},\n",
       " {'id': 'a4654dec-fbf1-4bee-94a4-8f1ffee918cd',\n",
       "  'facts': 'Dogs have a unique way of showing affection, called a \"butt wag,\" where they wag their tail and wiggle their rear end.'},\n",
       " {'id': '363004f2-3a6c-4181-8d8e-f81ee39e877c',\n",
       "  'facts': 'In 1969, Lassie was the first animal inducted into the Animal Hall of Fame.'},\n",
       " {'id': '9e90a387-9c9a-409b-943c-10fcff3b78c3',\n",
       "  'facts': 'Walt Disney\\'s family dog -- named Sunnee -- was the inspiration behind \"Lady and the Tramp.\"'},\n",
       " {'id': '377ff47a-5e0f-460a-a79f-3a88b55c7510',\n",
       "  'facts': 'Therapy dogs, who bring healing to individuals and families by visiting hospitals schools or retirement homes, differ from service dogs, who assist individuals who have disabilities.'},\n",
       " {'id': '182b0bf6-78f2-4e43-a0e3-1a97a9eb13ac',\n",
       "  'facts': 'The most dogs ever owned by one person were 5,000 Mastiffs owned by Kublai Khan.'},\n",
       " {'id': 'd60045f5-d55b-413e-8dbc-0908d7c1c4ee',\n",
       "  'facts': 'The most popular dog breed in Canada, U.S., and Great Britain is the Labrador retriever.'},\n",
       " {'id': '19d23085-5e4e-42df-950e-d994fc6e9fe1',\n",
       "  'facts': 'The U.S. has the highest dog population in the world. France has the second highest.'},\n",
       " {'id': '176c9bec-1b7e-46fd-afb9-2583bedc0be0',\n",
       "  'facts': 'Scholars have argued over the metaphysical interpretation of Dorothy’s pooch, Toto, in the Wizard of Oz. One theory postulates that Toto represents Anubis, the dog-headed Egyptian god of death, because Toto consistently keeps Dorothy from safely returning home.'},\n",
       " {'id': '7a910319-dde1-4804-a77b-154bc75ec386',\n",
       "  'facts': \"A dog's average body temperature is 101.2 degrees.\"},\n",
       " {'id': '1b5c357f-c1f0-480e-bb00-4a7ed2bca4e2',\n",
       "  'facts': 'Highly trainable dog breeds like Golden Retrievers, Labrador Retrievers, German Shepherds and Collies are more kid-friendly than some other breeds.'},\n",
       " {'id': '98a231c4-a020-4e86-b3a7-bcf1164b08ca',\n",
       "  'facts': 'A dog’s powerful sense of smell is frequently called upon to detect anything from mines and explosives to termites and bed bugs.'},\n",
       " {'id': '4a84fd63-66f2-45d2-a182-10e6aa80f616',\n",
       "  'facts': 'The grief suffered after a pet dog dies can be the same as that experienced after the death of a person.'},\n",
       " {'id': '082f9b07-1566-4cf5-863e-f17a00833311',\n",
       "  'facts': 'Basset Hounds cannot swim.'},\n",
       " {'id': '100c3f44-ac19-485a-a12c-1f750f7b49bd',\n",
       "  'facts': 'The current world record for a Flyball race is 14.413 seconds, set by the team \"Touch N Go\" of Las Vegas.'},\n",
       " {'id': '30ef01c0-f9d2-47dd-9abd-a8bf63189744',\n",
       "  'facts': 'A person standing still 300 yards away is almost invisible to a dog. But a dog can easily identify its owner standing a mile away if the owner is waving his arms.'},\n",
       " {'id': '249e3e48-8b1b-4dcb-94da-cf93468b9ba5',\n",
       "  'facts': 'Dog nose prints are as unique as human finger prints and can be used to identify them.'},\n",
       " {'id': '835010c5-c739-4bf8-91ef-1b71d12e49a6',\n",
       "  'facts': 'At the end of the Beatles’ song \"A Day in the Life,\" a high-pitched dog whistle was recorded by Paul McCartney for his sheepdog.'},\n",
       " {'id': '7c1b730a-3621-460f-980d-2d4a1727e949',\n",
       "  'facts': 'Dogs can count up to five and can perform simple mathematical calculations.'},\n",
       " {'id': 'bdf3411d-7639-49bd-926f-d024ef4ed2d3',\n",
       "  'facts': 'Dogs who bark the most: Miniature Schnauzers, Cairn Terriers, Yorkshire Terriers, Fox Terriers and West Highland White Terriers.'},\n",
       " {'id': 'a9b6ddf5-015c-45ef-9d2c-f2cda10c1e1b',\n",
       "  'facts': 'Dog’s don’t see in black-and-white, they have 2 color receptors, and can see yellow and blue.'},\n",
       " {'id': 'a43140d0-4430-4750-b2cf-7e10ccc564fc',\n",
       "  'facts': 'Dogs with a flesh colored nose is said to have a \"Dudley Nose.\"'},\n",
       " {'id': '8e1d5d12-c59c-4068-bbbd-e429daedde32',\n",
       "  'facts': 'There is a dog-shaped building in New Zealand.'},\n",
       " {'id': '8b7c8043-9558-47c5-9774-ce472a62c052',\n",
       "  'facts': 'Did you hear that? Sound frequency is measured in Hertz (Hz). The higher the Hertz, the higher-pitched the sound. Dogs hear best at 8,000 Hz, while humans hear best at around 2,000 Hz.'},\n",
       " {'id': '8049eadd-0891-4fe7-a87f-47c87885e452',\n",
       "  'facts': 'The term \"dog days of summer\" was coined by the ancient Greeks and Romans to describe the hottest days of summer that coincided with the rising of the Dog Star, Sirius.'},\n",
       " {'id': 'fa4fe360-f678-4cfe-84af-a37bbd77eb97',\n",
       "  'facts': 'One of the most famous Labrador Retrievers was \"Endal,\" an assistance dog recognized as the most decorated dog in the world.'},\n",
       " {'id': '0902cc2d-8b5e-43f7-96b6-b951f925011e',\n",
       "  'facts': 'Paul McCartney of the Beatles recorded a high pitched whistle at the end of \"A Day in the Life\" for his dog.'},\n",
       " {'id': '8cac6c90-3660-410e-a07c-4e0d675c68fd',\n",
       "  'facts': 'A Border Collie named Chaser has learned the names of 1,022 toys, and can retrieve each by name.'},\n",
       " {'id': 'c190c786-bb86-458f-9671-1422e572b7ec',\n",
       "  'facts': 'Most dogs have 42 teeth.'},\n",
       " {'id': 'ae864d9a-aae8-48ef-a2e5-67706f1b7831',\n",
       "  'facts': 'Dogs have a third eyelid called a nictitating membrane, which helps to protect their eyes and keep them moist.'},\n",
       " {'id': '23446baf-3f00-4981-8466-04b3bf13c616',\n",
       "  'facts': 'A puppy is born blind, deaf, and toothless.'},\n",
       " {'id': 'b49e3741-07d8-48ab-9b53-354ed3a1a7c4',\n",
       "  'facts': 'The average number of puppies in a litter is four to six.'},\n",
       " {'id': '95f6138d-380d-44f9-8d9c-f6a178ecd78d',\n",
       "  'facts': 'Dalmatian puppies are born completely white.'},\n",
       " {'id': 'a1083d65-fb6a-43c0-ab9d-eb02745ef89e',\n",
       "  'facts': 'Humans can detect sounds at 20,000 times per second, while dogs can sense frequencies of 30,000 times per second.'},\n",
       " {'id': '261a2465-c52a-4024-b17d-d873899a8543',\n",
       "  'facts': \"A dog's whiskers are used to help navigate and detect objects.\"},\n",
       " {'id': '4b050b7d-8b21-494d-9491-98b4630a2a03',\n",
       "  'facts': 'More than half of all U.S. presidents have owned dogs.'},\n",
       " {'id': 'ccd14249-cbc8-4eb4-ba48-09fe20503acb',\n",
       "  'facts': 'Dogs have twice as many muscles to move their ears as people.'},\n",
       " {'id': 'c9b4411b-4b50-46fc-b3ac-d0a0b5504f7e',\n",
       "  'facts': 'Puppies have 28 teeth and adult dogs have 42.'},\n",
       " {'id': '68a1122e-c1aa-4bb7-b503-b1ada470340d',\n",
       "  'facts': 'Analysis of the dog genome demonstrate only 4 major types of dogs: \"Old Lineage Dogs,\" \"Mastiff-type Dogs,\" \"Herding Dogs,\" and \"Modern Hunting Dogs.\"'},\n",
       " {'id': '38bfe0dc-f9a3-4593-bd62-9af36b176124',\n",
       "  'facts': 'A German Shepherd named Orient accompanied her blind owner Bill Irwin as he became the first blind person to through-hike the 2,100-mile Appalachian Trail in 1990.'},\n",
       " {'id': '34595792-cb20-47f7-85f0-1d48ed96a487',\n",
       "  'facts': 'Plato once said that \"a dog has the soul of a philosopher.\"'},\n",
       " {'id': '35638e7e-d2b7-453d-82d1-2a674de9db15',\n",
       "  'facts': 'Dogs can see in color, though they most likely see colors similar to a color-blind human. They can see better when the light is low.'},\n",
       " {'id': 'a58af5e3-15e9-4a12-a70d-5deadbf5cde2',\n",
       "  'facts': \"Dogs are pack animals -- they don't enjoy being alone.\"},\n",
       " {'id': '958a20ab-8319-48e7-a28e-adb45f3bce84',\n",
       "  'facts': 'Rin Tin Tin was the first Hollywood dog star.'},\n",
       " {'id': 'c409aa5b-8ba6-4507-bb68-35ea9b37c69d',\n",
       "  'facts': 'A group of puppies is called a litter.'},\n",
       " {'id': 'accd7ab2-8bf5-4269-ba8e-f5b29fd5ea31',\n",
       "  'facts': 'The first dog chapel was established in 2001. It was built in St. Johnsbury, Vermont, by Stephan Huneck, a children’s book author whose five dogs helped him recuperate from a serious illness.'},\n",
       " {'id': '30ef01c0-f9d2-47dd-9abd-a8bf63189744',\n",
       "  'facts': 'A person standing still 300 yards away is almost invisible to a dog. But a dog can easily identify its owner standing a mile away if the owner is waving his arms.'},\n",
       " {'id': '2a61597a-6a15-4bf9-8ff2-da3aa7560d87',\n",
       "  'facts': 'Dogs belong to a biological family called the Canidae, a member of this family is called a canid. This is the origin of the adjective \"canine\" which means \"of or like a dog, relating to or characteristic of dogs\".'},\n",
       " {'id': 'd60045f5-d55b-413e-8dbc-0908d7c1c4ee',\n",
       "  'facts': 'The most popular dog breed in Canada, U.S., and Great Britain is the Labrador retriever.'},\n",
       " {'id': '6a44a692-99ff-4c47-afd0-95cfb118fa10',\n",
       "  'facts': 'Americans love dogs! 44% of U.S. households have a dog, which equates to 55.3 million homes'},\n",
       " {'id': '574c4504-250f-4743-9ff2-124e5c61e79e',\n",
       "  'facts': 'Dogs live an average of 15 years.'},\n",
       " {'id': 'd5c18062-e979-484a-bef4-8b1dd3788f73',\n",
       "  'facts': 'Conservationists have used dogs to find bumblebee hives in order to protect endangered species.'},\n",
       " {'id': 'fcab25b8-da5b-4514-92ff-9d54f622841f',\n",
       "  'facts': 'Endal was the first dog to ride on the London Eye (the characteristic ferris wheel in London, England), and was also the first known dog to successfully use a ATM machine.'},\n",
       " {'id': 'a9b11a26-82cb-4fb7-aa7a-9ef556ad4712',\n",
       "  'facts': 'Chocolate is poisonous to dogs because it contains theobromine.'},\n",
       " {'id': '23e35eeb-5117-4774-afd9-09c48f7af127',\n",
       "  'facts': 'An estimated 1,000,000 dogs in the U.S. have been named as the primary beneficiaries in their owner’s will.'},\n",
       " {'id': 'af01c748-32b3-447f-abf1-756b7615c381',\n",
       "  'facts': 'The World Canine Organization recognizes 339 breeds of dogs.'},\n",
       " {'id': 'c75f961c-604b-493d-9c19-b07f94d932a6',\n",
       "  'facts': 'Many foot disorders in dogs are simply an issue of too-long toenails.'},\n",
       " {'id': 'e69e45b2-7c4a-4927-9581-c4a98c9df442',\n",
       "  'facts': 'The heaviest breed, the Mastiff, weighs about 200 pounds.'},\n",
       " {'id': '88fdaf01-4601-4b01-aa71-2cde34d7f00c',\n",
       "  'facts': 'Bingo is the name of the dog on the side of the Cracker Jack box.'},\n",
       " {'id': 'f2d0c080-4182-4334-90d4-d25f3268e33d',\n",
       "  'facts': 'Dogs in a pack are more likely to chase and hunt than a single dog on its own. Two dogs are enough to form a pack.'},\n",
       " {'id': '93c848b2-8360-47ed-9c98-1178ea003cdc',\n",
       "  'facts': \"A dog's nose is so sensitive that they can detect minute changes in the earth's magnetic field.\"},\n",
       " {'id': '36b5c1f2-5b4e-4dc6-9ffd-94e8344c0e11',\n",
       "  'facts': 'Gidget is the name of the Taco Bell dog.'},\n",
       " {'id': 'b816a0ba-2378-4537-9f33-fc982574cde3',\n",
       "  'facts': 'The Norwegian Lundehund is the only dog with six toes on each foot.'},\n",
       " {'id': '176c9bec-1b7e-46fd-afb9-2583bedc0be0',\n",
       "  'facts': 'Scholars have argued over the metaphysical interpretation of Dorothy’s pooch, Toto, in the Wizard of Oz. One theory postulates that Toto represents Anubis, the dog-headed Egyptian god of death, because Toto consistently keeps Dorothy from safely returning home.'},\n",
       " {'id': '2c93ae58-bdde-4cf8-9c3f-7d134b68a3b4',\n",
       "  'facts': 'The shape of a dog’s face suggests how long it will live. Dogs with sharp, pointed faces that look more like wolves typically live longer. Dogs with very flat faces, such as bulldogs, often have shorter lives.'},\n",
       " {'id': 'f8c269b9-734d-493f-abfc-b50dd9350d2b',\n",
       "  'facts': 'Dogs have a wet nose to collect more of the tiny droplets of smelling chemicals in the air.'},\n",
       " {'id': '574c4504-250f-4743-9ff2-124e5c61e79e',\n",
       "  'facts': 'Dogs live an average of 15 years.'},\n",
       " {'id': '74f852de-4520-4278-8293-640bf4dbfd00',\n",
       "  'facts': 'The Girl Scouts and Boy Scouts both offer merit badges in dog care.'},\n",
       " {'id': '494cdd52-3877-4108-97bd-f12bd6908ec8',\n",
       "  'facts': 'Dogs who have been spayed or neutered live longer than intact dogs.'},\n",
       " {'id': 'a4654dec-fbf1-4bee-94a4-8f1ffee918cd',\n",
       "  'facts': 'Dogs have a unique way of showing affection, called a \"butt wag,\" where they wag their tail and wiggle their rear end.'},\n",
       " {'id': 'cc4cfd75-a370-4a1b-b950-ace3330d5f12',\n",
       "  'facts': 'Tiger Woods stuttered as a child and used to talk to his dog until he fell asleep in an effort to get rid of it.'},\n",
       " {'id': '822e3818-0a4c-4916-838d-81edcc26d943',\n",
       "  'facts': 'Puppies can sleep 18 to 20 hours a day during that rapid body growth phase.'},\n",
       " {'id': '469910f2-ead5-4af1-9314-e1f3b8e66156',\n",
       "  'facts': 'The average lifespan of a dog is 10-13 years.'},\n",
       " {'id': 'dac09231-60b9-47ee-be6c-3d25c85ee805',\n",
       "  'facts': 'Dogs’ sense of hearing is more than ten times more acute than a human’s.'},\n",
       " {'id': '1e0a02e4-a345-414f-80bc-32d642ac60d9',\n",
       "  'facts': 'The Russians trained dogs during WWII to run suicide missions with mines strapped to their backs.'},\n",
       " {'id': '0a2422c3-c229-42f2-820b-703218afed6b',\n",
       "  'facts': 'About one-third of a dog’s brain is dedicated to smell.'},\n",
       " {'id': '824a1d79-70e8-4912-9390-a1536cbb6329',\n",
       "  'facts': 'Revolutionary War soldiers sometimes brought their dogs with them into battle. Such was the case with George Washington and his dog, Sweetlips.'},\n",
       " {'id': '5092b160-3010-4cb9-a6fb-71e456e0bba1',\n",
       "  'facts': 'Dogs evolved from an extinct wolf-like creature in Eurasia 40,000 years ago.'},\n",
       " {'id': '7d5e798c-2d3f-41f1-b168-525f221e2343',\n",
       "  'facts': 'In general, smaller breeds live longer than larger breeds.'},\n",
       " {'id': '61d7c3d0-cb54-4e3b-9317-e275d31c7476',\n",
       "  'facts': \"Dogs aren't colorblind but their eyes don't have receptors for red. They see in shades of black and white and also in shades of blue and yellow.\"},\n",
       " {'id': 'f988d165-5c62-4c83-9cfd-0327f2e3ae8e',\n",
       "  'facts': 'A dog’s sense of smell is more than 100,000 times stronger than that of a human.'},\n",
       " {'id': 'b6d87c7e-c81a-49cd-af9a-2e2e16dc7596',\n",
       "  'facts': \"Dogs don't enjoy being hugged as much as humans and other primates. Canines interpret putting a limb over another animal as a sign of dominance.\"},\n",
       " {'id': 'a9b11a26-82cb-4fb7-aa7a-9ef556ad4712',\n",
       "  'facts': 'Chocolate is poisonous to dogs because it contains theobromine.'},\n",
       " {'id': 'fbe49bdc-dff7-475d-b6dc-925b0d9762b7',\n",
       "  'facts': 'Seeing spots? Or not...  Dalmatian puppies are pure white when they are born and develop their spots as they grow older.'},\n",
       " {'id': '9e145bf0-dd70-40f1-a660-31586c7c948d',\n",
       "  'facts': 'Baks the blind boxer has a seeing eye goose named Buttons. Buttons the four-year-old goose leads her pup around everywhere either by hanging onto him with her neck, or by honking to tell him which way to go.'},\n",
       " {'id': 'bc098d66-6939-4fba-857f-2d9fe44c085d',\n",
       "  'facts': 'The phrase \"raining cats and dogs\" originated in seventeenth-century England. During heavy rainstorms, many homeless animals would drown and float down the streets, giving the appearance that it had actually rained cats and dogs.'},\n",
       " {'id': '42c1e006-3aef-42c6-9786-12c254be8bfa',\n",
       "  'facts': 'In Croatia, scientists discovered that lampposts were falling down because a chemical in the urine of male dogs was rotting the metal.'},\n",
       " {'id': 'e9099022-8486-4e13-bbe6-a32ca02282f2',\n",
       "  'facts': 'There are nearly 14,000 animal shelters and rescue groups across North America.'},\n",
       " {'id': 'd89862cf-555b-46ac-aef3-40e90c4f4d08',\n",
       "  'facts': 'Every dog on earth likely descended from a species knows as the Tomarctus – a creature that roamed the earth over 15 million years ago.'},\n",
       " {'id': 'ce484ebb-6834-4150-91bf-321cd4df6f31',\n",
       "  'facts': 'Is it a duck... or a dog? The Newfoundland breed has a water resistant coat and webbed feet. This dog was originally bred to help haul nets for fishermen and rescuing people at risk of drowning.'},\n",
       " {'id': 'ede4ea4f-a5b0-42d0-bb7f-ffec8fcf6a77',\n",
       "  'facts': \"A dog's sense of smell is so powerful that they can detect changes in a person's emotional state.\"},\n",
       " {'id': '2c217fcb-029f-493a-9fcb-7fe9540b5b60',\n",
       "  'facts': 'Wow, check out those choppers! Puppies have 28 teeth and normal adult dogs have 42.'},\n",
       " {'id': '2af0f6b4-5078-4c72-8b20-a6be363d7820',\n",
       "  'facts': 'The phrase \"raining cats and dogs\" originated in 17th century England when it is believed that many cats and dogs drowned during heavy periods of rain.'},\n",
       " {'id': '75ccd6b7-1ee8-4f7c-a9cf-1ca63d64927b',\n",
       "  'facts': 'Why are dogs’ noses so wet? Dogs’ noses secrete a thin layer of mucous that helps them absorb scent. They then lick their noses to sample the scent through their mouth.'},\n",
       " {'id': 'de4682e7-fc87-4ebc-96b8-cbac3110bf3d',\n",
       "  'facts': 'At the age of 4 weeks, most dogs have developed the majority of their vocalizations.'},\n",
       " {'id': 'e9bf5df0-2171-41a0-8760-5adb92ef0615',\n",
       "  'facts': 'Dogs have sweat glands on their paws to help regulate their body temperature.'},\n",
       " {'id': '1c00c0f4-a511-4e1f-92ea-4dd66fdd25c4',\n",
       "  'facts': 'Pugs and other dogs with short muzzles have a peculiar head-type known as \"Brachycephalic.\"'},\n",
       " {'id': '7320a0b2-09df-47d5-ab12-05a6ea943cf1',\n",
       "  'facts': 'The earliest European images of dogs are found in cave paintings dating back 12,000 years ago in Spain.'},\n",
       " {'id': '7aba3b34-3ad8-4575-9f55-56cf7120c71a',\n",
       "  'facts': 'The Labrador Retriever is the #1 favorite breed in the U.S., Canada, and the U.K.'},\n",
       " {'id': 'f988d165-5c62-4c83-9cfd-0327f2e3ae8e',\n",
       "  'facts': 'A dog’s sense of smell is more than 100,000 times stronger than that of a human.'},\n",
       " {'id': '900d8a97-974f-4024-9a7e-11abec36cd7b',\n",
       "  'facts': 'Dogs have sweat glands in between their paws.'},\n",
       " {'id': '423993e7-f8a7-4d33-a11a-09145b513b6f',\n",
       "  'facts': 'In Old England, the word \"hound\" was used to refer to all types of dogs.'},\n",
       " {'id': 'bea22eb3-c0e3-4426-8a4f-8d7fa793adf3',\n",
       "  'facts': 'The smallest dog on record was a matchbox-size Yorkshire Terrier. It was 2.5\" tall at the shoulder, 3.5\" from nose tip to tail, and weighed only 4 ounces.'},\n",
       " {'id': 'c6c0bb37-d110-4e28-ac72-7740dd4f8299',\n",
       "  'facts': 'Female dogs can get pregnant when their bodies undergo changes which make them receptive to male dogs. This is called being on heat or in estrus.'},\n",
       " {'id': '469910f2-ead5-4af1-9314-e1f3b8e66156',\n",
       "  'facts': 'The average lifespan of a dog is 10-13 years.'},\n",
       " {'id': '44a0da34-ce6e-4216-9cf2-0df635a4f5db',\n",
       "  'facts': 'Some Search and Rescue (SaR) Dogs are trained to sniff out humans 1/4 mile away or more.'},\n",
       " {'id': '4c6b5f11-6b9e-4eb4-bcaa-ca69ba698931',\n",
       "  'facts': \"Dogs have twice as many muscles to move their ears as humans, if you're looking for unusual facts about dogs!\"},\n",
       " {'id': '94c86a4f-1967-43f7-b6cb-8880c23222aa',\n",
       "  'facts': 'During the Renaissance, detailed portraits of the dog as a symbol of fidelity and loyalty appeared in mythological, allegorical, and religious art throughout Europe, including works by Leonardo da Vinci, Diego Velázquez, Jan van Eyck, and Albrecht Durer.'},\n",
       " {'id': 'db94e53e-96a9-4ba9-8d1f-80b04fd434d7',\n",
       "  'facts': \"The Border Collie, Poodle and Golden Retriever are considered the world's smartest dog breeds.\"},\n",
       " {'id': '9f9cb818-620c-4331-8850-e44fdf984e35',\n",
       "  'facts': 'The Boy Scouts and Girl Scouts both offer merit badges in dog care.'},\n",
       " {'id': 'ef8ef383-2aff-4bcd-b511-9a60ed529253',\n",
       "  'facts': 'The most intelligent breed of dog is the Border Collie.'},\n",
       " {'id': '52428685-38fc-4443-91d6-182dd38b7e0e',\n",
       "  'facts': 'The Beatles song \"A day in the Life\" has an extra high-pitched whistle, audible only to dogs. It\\xa0was recorded by Paul McCartney for the enjoyment of his Shetland sheepdog.'},\n",
       " {'id': 'd5c18062-e979-484a-bef4-8b1dd3788f73',\n",
       "  'facts': 'Conservationists have used dogs to find bumblebee hives in order to protect endangered species.'},\n",
       " {'id': 'd0c1c3d4-fde2-4476-94ac-5b3aeb2ae5a2',\n",
       "  'facts': 'Countess Karlotta Libenstein of Germany left approximately $106 million to her Alsatin, Gunther III, when she died in 1992.'},\n",
       " {'id': 'a264e88f-ef76-48b5-ab35-9a1c2e71cab9',\n",
       "  'facts': 'Fifty-eight percent of people put pets in family and holiday portraits.'},\n",
       " {'id': '9e145bf0-dd70-40f1-a660-31586c7c948d',\n",
       "  'facts': 'Baks the blind boxer has a seeing eye goose named Buttons. Buttons the four-year-old goose leads her pup around everywhere either by hanging onto him with her neck, or by honking to tell him which way to go.'},\n",
       " {'id': 'd5097a60-2554-48c5-94cf-51ea82ef3cc2',\n",
       "  'facts': 'Fifteen people die in the U.S. every year from dog bites.'},\n",
       " {'id': 'ce484ebb-6834-4150-91bf-321cd4df6f31',\n",
       "  'facts': 'Is it a duck... or a dog? The Newfoundland breed has a water resistant coat and webbed feet. This dog was originally bred to help haul nets for fishermen and rescuing people at risk of drowning.'},\n",
       " {'id': '0a2422c3-c229-42f2-820b-703218afed6b',\n",
       "  'facts': 'About one-third of a dog’s brain is dedicated to smell.'},\n",
       " {'id': '189dbca1-1c42-44ba-97ca-ce84374c5d7f',\n",
       "  'facts': 'The Basenji is the world’s only barkless dog.'},\n",
       " {'id': 'b49e3741-07d8-48ab-9b53-354ed3a1a7c4',\n",
       "  'facts': 'The average number of puppies in a litter is four to six.'}]"
      ]
     },
     "execution_count": 113,
     "metadata": {},
     "output_type": "execute_result"
    }
   ],
   "source": [
    "import requests\n",
    "\n",
    "dog_facts = []\n",
    "\n",
    "for i in range(5):\n",
    "    for number in [1, 2, 3, 4, 5]*5:\n",
    "        response = requests.get(\"https://dogapi.dog/api/v2/facts\")\n",
    "        if response.status_code == 200:\n",
    "            data = response.json()\n",
    "            content = data['data'][0]\n",
    "            dog_string1 = content['id']\n",
    "            dog_string2 = content['attributes']['body']\n",
    "            dog_facts.append({\"id\": dog_string1, \"facts\": dog_string2})\n",
    "\n",
    "dog_facts \n",
    "                       \n",
    "                 "
   ]
  },
  {
   "cell_type": "code",
   "execution_count": 114,
   "id": "072556ca",
   "metadata": {},
   "outputs": [],
   "source": [
    "import csv  \n",
    "\n",
    "tsvFileName = 'dog_facts.tsv'\n",
    "\n",
    "tsv_header_name = ['id', 'facts']\n",
    "\n",
    "with open(tsvFileName, 'w') as tsvfile:\n",
    "    #csv writer to write in tsv file\n",
    "    tsv_writer = csv.DictWriter(tsvfile, delimiter=',', fieldnames=tsv_header_name)\n",
    "    tsv_writer.writeheader()\n",
    "    #write rows\n",
    "    for row in dog_fax:\n",
    "        tsv_writer.writerow(row)\n",
    "    \n",
    "    #close csv file\n",
    "    tsvfile.close()"
   ]
  },
  {
   "cell_type": "code",
   "execution_count": 115,
   "id": "cecdadb6",
   "metadata": {},
   "outputs": [],
   "source": [
    "#Are there more gas stations in Duvall or Carnation?"
   ]
  },
  {
   "cell_type": "code",
   "execution_count": 116,
   "id": "533adffb",
   "metadata": {},
   "outputs": [
    {
     "name": "stdout",
     "output_type": "stream",
     "text": [
      "There are more gas stations in Duvall.\n"
     ]
    }
   ],
   "source": [
    "\n",
    "def count_gas_stations(location):\n",
    "    url = \"https://nominatim.openstreetmap.org/search\"\n",
    "    osm = {'q': f\"gas station in {location}\", 'format': 'jsonv2'}\n",
    "    response = requests.get(url, params=osm)\n",
    "    if response.status_code == 200:\n",
    "        map_response = response.json()\n",
    "        num_results = len(map_response)\n",
    "        return num_results\n",
    "    else:\n",
    "        print(\"Error: API request unsuccessful\")\n",
    "        return 0\n",
    "\n",
    "num_results_duvall = count_gas_stations(\"duvall\")\n",
    "num_results_carnation = count_gas_stations(\"carnation\")\n",
    "\n",
    "if num_results_duvall > num_results_carnation:\n",
    "    print(\"There are more gas stations in Duvall.\")\n",
    "else:\n",
    "    print(\"There are more gas stations in Carnation.\")"
   ]
  },
  {
   "cell_type": "code",
   "execution_count": 117,
   "id": "b3bcc080",
   "metadata": {},
   "outputs": [],
   "source": [
    "#Are there more dentists near the University or near Downtown? (you will need to look at the limit on the number of returned items)"
   ]
  },
  {
   "cell_type": "code",
   "execution_count": 119,
   "id": "50b9af07",
   "metadata": {},
   "outputs": [
    {
     "name": "stdout",
     "output_type": "stream",
     "text": [
      "There are more dentists near downtown Seattle.\n"
     ]
    }
   ],
   "source": [
    "url = \"https://nominatim.openstreetmap.org/search\"  # formatted response\n",
    "osm_dentists_uw = { 'q': \"dentists near university of washington seattle\",'format': 'jsonv2'}\n",
    "\n",
    "response_dentists_uw = requests.get(url, params=osm_dentists_uw)  # make the request, put in var\n",
    "\n",
    "if response_dentists_uw.status_code == 200:  # check to see if success\n",
    "    map_response_dentists_uw = response_dentists_uw.json()  # if successful, throw in variable \"data\"\n",
    "else:  # otherwise, throw an error\n",
    "    print(\"error, that was not successful\")\n",
    "\n",
    "num_results_uw = len(map_response_dentists_uw)  # for UW\n",
    "\n",
    "# dentists near downtown\n",
    "osm_dentists_dt = {'q': \"dentists near downtown seattle\", 'format': 'jsonv2'}\n",
    "\n",
    "response_dentists_dt = requests.get(url, params=osm_dentists_dt)  # make the request, put in var\n",
    "\n",
    "if response_dentists_dt.status_code == 200:  # check to see if success\n",
    "    map_response_dentists_dt = response_dentists_dt.json()  # if successful, throw in variable \"data\"\n",
    "else:  # otherwise, throw an error\n",
    "    print(\"error, that was not successful\")\n",
    "\n",
    "num_results_dt = len(map_response_dentists_dt)  # for downtown\n",
    "\n",
    "if num_results_uw >= num_results_dt:\n",
    "    print(\"There are more dentists near the University of Washington.\")\n",
    "else:\n",
    "    print(\"There are more dentists near downtown Seattle.\") "
   ]
  },
  {
   "cell_type": "code",
   "execution_count": 121,
   "id": "06cddb33",
   "metadata": {},
   "outputs": [],
   "source": [
    "#Casa"
   ]
  },
  {
   "cell_type": "code",
   "execution_count": 125,
   "id": "ffa15519",
   "metadata": {},
   "outputs": [
    {
     "name": "stdout",
     "output_type": "stream",
     "text": [
      "Latitude:  47.70350655\n",
      "Longitude:  -122.13237198431818\n"
     ]
    }
   ],
   "source": [
    "address = \"Redmond, Seattle\"\n",
    "\n",
    "url = \"https://nominatim.openstreetmap.org/search\"\n",
    "params = {'q': address, 'format': 'json'}\n",
    "\n",
    "response = requests.get(url, params=params)\n",
    "\n",
    "if response.status_code == 200:\n",
    "    data = response.json()\n",
    "    if len(data) > 0:\n",
    "        latitude = data[0]['lat']\n",
    "        longitude = data[0]['lon']\n",
    "        print(\"Latitude: \", latitude)\n",
    "        print(\"Longitude: \", longitude)\n",
    "    else:\n",
    "        print(\"No results found for that address.\")\n",
    "else:\n",
    "    print(\"Error: \", response.status_code)"
   ]
  },
  {
   "cell_type": "code",
   "execution_count": 126,
   "id": "a9b1cf48",
   "metadata": {},
   "outputs": [],
   "source": [
    "#Write a program to find all the ziplines in King County, Washington (or at least all the ones that OSM knows about!)."
   ]
  },
  {
   "cell_type": "code",
   "execution_count": 127,
   "id": "63d9938d",
   "metadata": {},
   "outputs": [
    {
     "name": "stdout",
     "output_type": "stream",
     "text": [
      "Number of ziplines in King County, Washington: 2\n"
     ]
    }
   ],
   "source": [
    "\n",
    "url = \"https://nominatim.openstreetmap.org/search\"\n",
    "\n",
    "osm_ziplines = {'q': 'ziplines in King County, Washington',\n",
    "                'format': 'jsonv2'}\n",
    "\n",
    "response = requests.get(url, params=osm_ziplines)\n",
    "\n",
    "if response.status_code == 200:\n",
    "    map_response = response.json()\n",
    "    print(f\"Number of ziplines in King County, Washington: {len(map_response)}\")\n",
    "else:\n",
    "    print(\"Error: Unable to retrieve data.\")"
   ]
  },
  {
   "cell_type": "code",
   "execution_count": 136,
   "id": "c0a26c4f",
   "metadata": {},
   "outputs": [
    {
     "name": "stdout",
     "output_type": "stream",
     "text": [
      "Soaring Eagle Zipline, Milton Road South, Federal Way, King County, Washington, 98354, United States\n"
     ]
    }
   ],
   "source": [
    "url = \"https://nominatim.openstreetmap.org/search\"\n",
    "osm_zip = {\n",
    "    'q': \"zipline king county washington\",\n",
    "    'format': 'jsonv2',\n",
    "    'addressdetails': 1  # include address details in the response\n",
    "}\n",
    "\n",
    "response_zip = requests.get(url, params=osm_zip)\n",
    "\n",
    "if response_zip.status_code == 200:\n",
    "    map_response_zip = response_zip.json()\n",
    "    for result in map_response_zip:\n",
    "        print(result['display_name'])\n",
    "else:\n",
    "    print(\"Error: unable to retrieve search results\")\n",
    "   "
   ]
  },
  {
   "cell_type": "code",
   "execution_count": 142,
   "id": "286956c5",
   "metadata": {},
   "outputs": [],
   "source": [
    "#near coffeshop"
   ]
  },
  {
   "cell_type": "code",
   "execution_count": 148,
   "id": "0b3c5640",
   "metadata": {},
   "outputs": [],
   "source": [
    "import requests\n",
    "\n",
    "# Define the parameters for the zipline search\n",
    "zipline_params = {\"q\": \"zipline King County Washington\",\"format\": \"jsonv2\"}\n",
    "\n",
    "# Define the parameters for the cafe search\n",
    "cafe_params = {\"format\": \"jsonv2\",\"amenity\": \"cafe\",\"limit\": 1,}\n",
    "\n",
    "# Define the Nominatim API URL\n",
    "url = \"https://nominatim.openstreetmap.org/search\"\n",
    "\n",
    "# Make the request to search for ziplines\n",
    "zipline_response = requests.get(url, params=zipline_params)\n",
    "\n",
    "if zipline_response.status_code == 200:\n",
    "    zipline_data = zipline_response.json()\n",
    "\n",
    "    # Iterate over the zipline results and find the nearest cafe to each one\n",
    "    for result in zipline_data:\n",
    "        if result.get(\"class\") == \"tourism\" and result.get(\"type\") == \"attraction\" and \"zipline\" in result.get(\"display_name\").lower():\n",
    "            # Get the latitude and longitude of the zipline\n",
    "            lat = result.get(\"lat\")\n",
    "            lon = result.get(\"lon\")\n",
    "\n",
    "            # Add the latitude and longitude to the cafe search parameters\n",
    "            cafe_params[\"lat\"] = lat\n",
    "            cafe_params[\"lon\"] = lon\n",
    "\n",
    "            # Make the request to search for cafes near the zipline\n",
    "            cafe_response = requests.get(url, params=cafe_params)\n",
    "\n",
    "            if cafe_response.status_code == 200:\n",
    "                cafe_data = cafe_response.json()\n",
    "\n",
    "                if len(cafe_data) > 0:\n",
    "                    # Get the name and address of the nearest cafe\n",
    "                    cafe_name = cafe_data[0].get(\"display_name\")\n",
    "                    cafe_address = cafe_data[0].get(\"address\").get(\"road\")\n",
    "\n",
    "                    # Print the name and address of the nearest cafe\n",
    "                    print(f\"Nearest cafe to {result.get('display_name')}: {cafe_name} ({cafe_address})\")\n",
    "                else:\n",
    "                    print(f\"No cafes found near {result.get('display_name')}.\")\n",
    "            else:\n",
    "                print(\"Error: the cafe search request was not successful.\")\n",
    "else:\n",
    "    print(\"Error: the zipline search request was not successful.\")"
   ]
  },
  {
   "cell_type": "code",
   "execution_count": 147,
   "id": "3b9ff9c0",
   "metadata": {},
   "outputs": [],
   "source": [
    "import requests\n",
    "url = \"https://nominatim.openstreetmap.org/search\"\n",
    "\n",
    "params = {\"q\": \"college seattle\",\"bounded\": 1,\"viewbox\": \"-122.437,47.495,-122.227,47.734\",  # bounding box coordinates for Seattle\n",
    "    \"format\": \"jsonv2\"}\n",
    "\n",
    "response = requests.get(url, params=params)\n",
    "\n",
    "if response.status_code == 200:\n",
    "    data = response.json()\n",
    "    for result in data:\n",
    "        if result.get(\"class\") == \"amenity\" and result.get(\"type\") == \"college\":\n",
    "            print(result.get(\"display_name\"), result.get(\"lat\"), result.get(\"lon\"))\n",
    "else:\n",
    "    print(\"Error: the request was not successful.\")"
   ]
  },
  {
   "cell_type": "code",
   "execution_count": 149,
   "id": "fc5e2d2d",
   "metadata": {},
   "outputs": [],
   "source": [
    "#I cant understand why is not running :("
   ]
  },
  {
   "cell_type": "code",
   "execution_count": 151,
   "id": "ae708a65",
   "metadata": {},
   "outputs": [
    {
     "name": "stdout",
     "output_type": "stream",
     "text": [
      "[{'place_id': 21752165, 'licence': 'Data © OpenStreetMap contributors, ODbL 1.0. https://osm.org/copyright', 'osm_type': 'node', 'osm_id': 2439830827, 'boundingbox': ['47.6548977', '47.6549977', '-122.312439', '-122.312339'], 'lat': '47.6549477', 'lon': '-122.312389', 'display_name': 'UW College of Built Environments, 3949, 15th Avenue Northeast, West Campus, University District, Seattle, King County, Washington, 98105, United States', 'place_rank': 30, 'category': 'amenity', 'type': 'college', 'importance': 0.59190327427879, 'icon': 'https://nominatim.openstreetmap.org/ui/mapicons/education_school.p.20.png'}, {'place_id': 160018749, 'licence': 'Data © OpenStreetMap contributors, ODbL 1.0. https://osm.org/copyright', 'osm_type': 'way', 'osm_id': 222830382, 'boundingbox': ['47.6554244', '47.6555485', '-122.3131922', '-122.3127491'], 'lat': '47.655488899999995', 'lon': '-122.31297085374715', 'display_name': 'The College Inn, Northeast 40th Street, West Campus, University District, Seattle, King County, Washington, 98195, United States', 'place_rank': 30, 'category': 'building', 'type': 'yes', 'importance': 0.41993111144954753}, {'place_id': 21828000, 'licence': 'Data © OpenStreetMap contributors, ODbL 1.0. https://osm.org/copyright', 'osm_type': 'node', 'osm_id': 2464036021, 'boundingbox': ['47.6554783', '47.6555783', '-122.31313', '-122.31303'], 'lat': '47.6555283', 'lon': '-122.31308', 'display_name': 'College Inn Pub, 4006, University Way Northeast, West Campus, University District, Seattle, King County, Washington, 98105, United States', 'place_rank': 30, 'category': 'amenity', 'type': 'pub', 'importance': 0.30001, 'icon': 'https://nominatim.openstreetmap.org/ui/mapicons/food_pub.p.20.png'}, {'place_id': 22353059, 'licence': 'Data © OpenStreetMap contributors, ODbL 1.0. https://osm.org/copyright', 'osm_type': 'node', 'osm_id': 2464036010, 'boundingbox': ['47.6554008', '47.6555008', '-122.313056', '-122.312956'], 'lat': '47.6554508', 'lon': '-122.313006', 'display_name': 'College Inn, 4000, University Way Northeast, West Campus, University District, Seattle, King County, Washington, 98105, United States', 'place_rank': 30, 'category': 'tourism', 'type': 'hotel', 'importance': 0.30001, 'icon': 'https://nominatim.openstreetmap.org/ui/mapicons/accommodation_hotel2.p.20.png'}, {'place_id': 160177546, 'licence': 'Data © OpenStreetMap contributors, ODbL 1.0. https://osm.org/copyright', 'osm_type': 'way', 'osm_id': 223357549, 'boundingbox': ['47.6573333', '47.6579014', '-122.3170859', '-122.3168195'], 'lat': '47.65762655', 'lon': '-122.31694551090054', 'display_name': 'College Place Apartments, 4131, 11th Avenue Northeast, West Campus, University District, Seattle, King County, Washington, 98105, United States', 'place_rank': 30, 'category': 'building', 'type': 'yes', 'importance': 0.30001}, {'place_id': 348343470, 'licence': 'Data © OpenStreetMap contributors, ODbL 1.0. https://osm.org/copyright', 'osm_type': 'way', 'osm_id': 521700473, 'boundingbox': ['47.6489703', '47.6491292', '-122.3256193', '-122.3253275'], 'lat': '47.6490498', 'lon': '-122.32547342499998', 'display_name': 'College Club Seattle, 11, East Allison Street, Eastlake, Wallingford, Seattle, King County, Washington, 98102, United States', 'place_rank': 30, 'category': 'leisure', 'type': 'sports_centre', 'importance': 0.20000999999999997, 'icon': 'https://nominatim.openstreetmap.org/ui/mapicons/sport_leisure_centre.p.20.png'}]\n"
     ]
    }
   ],
   "source": [
    "#colleges in seattle\n",
    "url = \"https://nominatim.openstreetmap.org/search\" ##formatted response\n",
    "osm_colleges = {'q': \"college university seattle\",'viewbox': \"-122.41138,47.65983,-122.22942,47.60627\",'bounded':1,'format': 'jsonv2'}\n",
    "\n",
    "response_colleges = requests.get(url, params=osm_colleges) ##make the request, put in var\n",
    "\n",
    "if response_colleges.status_code == 200:  #check to see if success\n",
    "    map_response_colleges = response_colleges.json()   ##if successful, throw in variable \"data\"\n",
    "else:  #otherwise, throw an error\n",
    "    print(\"error, that was not successful\")\n",
    "\n",
    "print(map_response_colleges) #6 results\n",
    "\n",
    "#print(len(map_response_colleges))"
   ]
  },
  {
   "cell_type": "code",
   "execution_count": 152,
   "id": "69917a25",
   "metadata": {},
   "outputs": [
    {
     "name": "stdout",
     "output_type": "stream",
     "text": [
      "[{'place_id': 21752165, 'licence': 'Data © OpenStreetMap contributors, ODbL 1.0. https://osm.org/copyright', 'osm_type': 'node', 'osm_id': 2439830827, 'boundingbox': ['47.6548977', '47.6549977', '-122.312439', '-122.312339'], 'lat': '47.6549477', 'lon': '-122.312389', 'display_name': 'UW College of Built Environments, 3949, 15th Avenue Northeast, West Campus, University District, Seattle, King County, Washington, 98105, United States', 'place_rank': 30, 'category': 'amenity', 'type': 'college', 'importance': 0.59190327427879, 'icon': 'https://nominatim.openstreetmap.org/ui/mapicons/education_school.p.20.png', 'address': {'amenity': 'UW College of Built Environments', 'house_number': '3949', 'road': '15th Avenue Northeast', 'neighbourhood': 'West Campus', 'suburb': 'University District', 'city': 'Seattle', 'county': 'King County', 'state': 'Washington', 'ISO3166-2-lvl4': 'US-WA', 'postcode': '98105', 'country': 'United States', 'country_code': 'us'}}, {'place_id': 160018749, 'licence': 'Data © OpenStreetMap contributors, ODbL 1.0. https://osm.org/copyright', 'osm_type': 'way', 'osm_id': 222830382, 'boundingbox': ['47.6554244', '47.6555485', '-122.3131922', '-122.3127491'], 'lat': '47.655488899999995', 'lon': '-122.31297085374715', 'display_name': 'The College Inn, Northeast 40th Street, West Campus, University District, Seattle, King County, Washington, 98195, United States', 'place_rank': 30, 'category': 'building', 'type': 'yes', 'importance': 0.41993111144954753, 'address': {'building': 'The College Inn', 'road': 'Northeast 40th Street', 'neighbourhood': 'West Campus', 'suburb': 'University District', 'city': 'Seattle', 'county': 'King County', 'state': 'Washington', 'ISO3166-2-lvl4': 'US-WA', 'postcode': '98195', 'country': 'United States', 'country_code': 'us'}}, {'place_id': 21828000, 'licence': 'Data © OpenStreetMap contributors, ODbL 1.0. https://osm.org/copyright', 'osm_type': 'node', 'osm_id': 2464036021, 'boundingbox': ['47.6554783', '47.6555783', '-122.31313', '-122.31303'], 'lat': '47.6555283', 'lon': '-122.31308', 'display_name': 'College Inn Pub, 4006, University Way Northeast, West Campus, University District, Seattle, King County, Washington, 98105, United States', 'place_rank': 30, 'category': 'amenity', 'type': 'pub', 'importance': 0.30001, 'icon': 'https://nominatim.openstreetmap.org/ui/mapicons/food_pub.p.20.png', 'address': {'amenity': 'College Inn Pub', 'house_number': '4006', 'road': 'University Way Northeast', 'neighbourhood': 'West Campus', 'suburb': 'University District', 'city': 'Seattle', 'county': 'King County', 'state': 'Washington', 'ISO3166-2-lvl4': 'US-WA', 'postcode': '98105', 'country': 'United States', 'country_code': 'us'}}, {'place_id': 22353059, 'licence': 'Data © OpenStreetMap contributors, ODbL 1.0. https://osm.org/copyright', 'osm_type': 'node', 'osm_id': 2464036010, 'boundingbox': ['47.6554008', '47.6555008', '-122.313056', '-122.312956'], 'lat': '47.6554508', 'lon': '-122.313006', 'display_name': 'College Inn, 4000, University Way Northeast, West Campus, University District, Seattle, King County, Washington, 98105, United States', 'place_rank': 30, 'category': 'tourism', 'type': 'hotel', 'importance': 0.30001, 'icon': 'https://nominatim.openstreetmap.org/ui/mapicons/accommodation_hotel2.p.20.png', 'address': {'tourism': 'College Inn', 'house_number': '4000', 'road': 'University Way Northeast', 'neighbourhood': 'West Campus', 'suburb': 'University District', 'city': 'Seattle', 'county': 'King County', 'state': 'Washington', 'ISO3166-2-lvl4': 'US-WA', 'postcode': '98105', 'country': 'United States', 'country_code': 'us'}}, {'place_id': 160177546, 'licence': 'Data © OpenStreetMap contributors, ODbL 1.0. https://osm.org/copyright', 'osm_type': 'way', 'osm_id': 223357549, 'boundingbox': ['47.6573333', '47.6579014', '-122.3170859', '-122.3168195'], 'lat': '47.65762655', 'lon': '-122.31694551090054', 'display_name': 'College Place Apartments, 4131, 11th Avenue Northeast, West Campus, University District, Seattle, King County, Washington, 98105, United States', 'place_rank': 30, 'category': 'building', 'type': 'yes', 'importance': 0.30001, 'address': {'building': 'College Place Apartments', 'house_number': '4131', 'road': '11th Avenue Northeast', 'neighbourhood': 'West Campus', 'suburb': 'University District', 'city': 'Seattle', 'county': 'King County', 'state': 'Washington', 'ISO3166-2-lvl4': 'US-WA', 'postcode': '98105', 'country': 'United States', 'country_code': 'us'}}, {'place_id': 348343470, 'licence': 'Data © OpenStreetMap contributors, ODbL 1.0. https://osm.org/copyright', 'osm_type': 'way', 'osm_id': 521700473, 'boundingbox': ['47.6489703', '47.6491292', '-122.3256193', '-122.3253275'], 'lat': '47.6490498', 'lon': '-122.32547342499998', 'display_name': 'College Club Seattle, 11, East Allison Street, Eastlake, Wallingford, Seattle, King County, Washington, 98102, United States', 'place_rank': 30, 'category': 'leisure', 'type': 'sports_centre', 'importance': 0.20000999999999997, 'icon': 'https://nominatim.openstreetmap.org/ui/mapicons/sport_leisure_centre.p.20.png', 'address': {'leisure': 'College Club Seattle', 'house_number': '11', 'road': 'East Allison Street', 'neighbourhood': 'Eastlake', 'suburb': 'Wallingford', 'city': 'Seattle', 'county': 'King County', 'state': 'Washington', 'ISO3166-2-lvl4': 'US-WA', 'postcode': '98102', 'country': 'United States', 'country_code': 'us'}}]\n"
     ]
    }
   ],
   "source": [
    "#Modify your query so that you include the address details separated out (this is an API option you can find in the documentation)?\n",
    "import requests\n",
    "\n",
    "url = \"https://nominatim.openstreetmap.org/search\"\n",
    "params = {\n",
    "    \"q\": \"college university seattle\",\n",
    "    \"viewbox\": \"-122.41138,47.65983,-122.22942,47.60627\",\n",
    "    \"bounded\": 1,\n",
    "    \"addressdetails\": 1,\n",
    "    \"format\": \"jsonv2\"\n",
    "}\n",
    "\n",
    "response = requests.get(url, params=params)\n",
    "\n",
    "if response.status_code == 200:\n",
    "    data = response.json()\n",
    "    print(data)\n",
    "else:\n",
    "    print(\"Error: the request was not successful.\")"
   ]
  },
  {
   "cell_type": "code",
   "execution_count": 153,
   "id": "eb80fe40",
   "metadata": {},
   "outputs": [
    {
     "ename": "SyntaxError",
     "evalue": "invalid syntax (3529444624.py, line 2)",
     "output_type": "error",
     "traceback": [
      "\u001b[1;36m  Cell \u001b[1;32mIn[153], line 2\u001b[1;36m\u001b[0m\n\u001b[1;33m    The API response contains a lot of information about each place, including its name, address, latitude and longitude, and other metadata. The response also contains a class and type field that can be used to identify the type of place returned by the API.\u001b[0m\n\u001b[1;37m        ^\u001b[0m\n\u001b[1;31mSyntaxError\u001b[0m\u001b[1;31m:\u001b[0m invalid syntax\n"
     ]
    }
   ],
   "source": [
    "#the query college university seattle is used to search for colleges and universities in Seattle. The Nominatim API is then used to retrieve information about these colleges and universities.\n",
    "The API response contains a lot of information about each place, including its name, address, latitude and longitude, and other metadata. The response also contains a class and type field that can be used to identify the type of place returned by the API.\n",
    "In the case of colleges and universities, the class field will be set to amenity and the type field will be set to university. You can check these fields for each place returned by the API to determine if it is in fact a college or university."
   ]
  },
  {
   "cell_type": "code",
   "execution_count": 154,
   "id": "99327d68",
   "metadata": {},
   "outputs": [],
   "source": [
    "import csv  \n",
    "\n",
    "tsvFileName = 'college_list.tsv'\n",
    "\n",
    "tsv_header_name = ['osm_id', 'display_name', \"lat\", \"lon\"]\n",
    "\n",
    "ignore_list = ['place_rank', 'type', 'osm_type', 'licence', 'boundingbox', 'importance', 'icon', 'category', 'address', 'place_id']\n",
    "\n",
    "with open(tsvFileName, 'w') as tsvfile:\n",
    "    #csv writer to write in tsv file\n",
    "    tsv_writer = csv.DictWriter(tsvfile, delimiter=',', fieldnames=tsv_header_name, extrasaction='ignore')\n",
    "    tsv_writer.writeheader()\n",
    "    #write rows\n",
    "    for row in map_response_colleges:\n",
    "        tsv_writer.writerow(row)\n",
    "    \n",
    "    #close csv file\n",
    "    tsvfile.close()"
   ]
  },
  {
   "cell_type": "code",
   "execution_count": null,
   "id": "f827d676",
   "metadata": {},
   "outputs": [],
   "source": []
  }
 ],
 "metadata": {
  "kernelspec": {
   "display_name": "Python 3 (ipykernel)",
   "language": "python",
   "name": "python3"
  },
  "language_info": {
   "codemirror_mode": {
    "name": "ipython",
    "version": 3
   },
   "file_extension": ".py",
   "mimetype": "text/x-python",
   "name": "python",
   "nbconvert_exporter": "python",
   "pygments_lexer": "ipython3",
   "version": "3.10.9"
  }
 },
 "nbformat": 4,
 "nbformat_minor": 5
}
