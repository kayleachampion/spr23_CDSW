{
 "cells": [
  {
   "cell_type": "markdown",
   "id": "785ab1be",
   "metadata": {},
   "source": [
    "# Bored API"
   ]
  },
  {
   "cell_type": "markdown",
   "id": "b2baaf99",
   "metadata": {},
   "source": [
    "### Write some Python code to use the API to get an activity that I could do with my partner. Turn the data from the API into a sentence that tells me the activity, its accessibility, and its price. (Note: this used to say \"free activity\"; we removed that because it's more boring that way.)\n",
    "\n",
    "### Extend that code so that it gets me 5 activities and have it write a nicely formatted output."
   ]
  },
  {
   "cell_type": "code",
   "execution_count": 43,
   "id": "743335d3",
   "metadata": {},
   "outputs": [
    {
     "name": "stdout",
     "output_type": "stream",
     "text": [
      "Why don't you try to Go swimming with a friend. It will cost you 0.1 and it's accessibility is 0.1\n",
      "\t\n",
      "Activity: Description of the queried activity\n",
      "Accessibility: A factor describing how possible an event is to do with zero being the most accessible\n",
      "Price: A factor describing the cost of the event with zero being free\n"
     ]
    }
   ],
   "source": [
    "import requests\n",
    "my_parameters = {'participants' : '2' }\n",
    "myresponse = requests.get(\"http://www.boredapi.com/api/activity\", params=my_parameters)\n",
    "if myresponse.status_code == 200 :\n",
    "\n",
    "    ListOfActivities = myresponse.json()\n",
    "\n",
    "    print(f\"Why don't you try to {ListOfActivities['activity']}. It will cost you {ListOfActivities['price']} and it's accessibility is {ListOfActivities['accessibility']}\")\n",
    "    print(\"\\t\")\n",
    "    print(\"Activity: Description of the queried activity\")\n",
    "    print(\"Accessibility: A factor describing how possible an event is to do with zero being the most accessible\")\n",
    "    print(\"Price: A factor describing the cost of the event with zero being free\")\n",
    "    "
   ]
  },
  {
   "cell_type": "code",
   "execution_count": 63,
   "id": "af5ff30f",
   "metadata": {},
   "outputs": [
    {
     "name": "stdout",
     "output_type": "stream",
     "text": [
      " Activity 1: Why don't you try to Text a friend you haven't talked to in a long time. \n",
      "  It will cost you 0.05 and  it's accessibility is 0.2\n",
      "\t\n",
      " Activity 2: Why don't you try to Compliment someone. \n",
      "  It will cost you 0 and  it's accessibility is 0\n",
      "\t\n",
      " Activity 3: Why don't you try to Cook something together with someone. \n",
      "  It will cost you 0.3 and  it's accessibility is 0.8\n",
      "\t\n",
      " Activity 4: Why don't you try to Go swimming with a friend. \n",
      "  It will cost you 0.1 and  it's accessibility is 0.1\n",
      "\t\n",
      " Activity 5: Why don't you try to Play a game of tennis with a friend. \n",
      "  It will cost you 0.1 and  it's accessibility is 0.4\n",
      "\t\n",
      "Activity: Description of the queried activity\n",
      "Accessibility: A factor describing how possible an event is to do with zero being the most accessible\n",
      "Price: A factor describing the cost of the event with zero being free\n"
     ]
    }
   ],
   "source": [
    "import requests\n",
    "    \n",
    "KeyList = []\n",
    "count = 0\n",
    "while len(KeyList) != 5 :\n",
    "    my_parameters = {'participants' : '2' }\n",
    "    myresponse = requests.get(\"http://www.boredapi.com/api/activity\", params=my_parameters)\n",
    "    if myresponse.status_code == 200 :\n",
    "        ListOfActivities = myresponse.json()\n",
    "        if ListOfActivities['key'] in KeyList :\n",
    "            continue \n",
    "        else :\n",
    "            KeyList.append(ListOfActivities['key'])\n",
    "            count += 1\n",
    "            print(f\" Activity {count}: Why don't you try to {ListOfActivities['activity']}. \\n \"\n",
    "                  f\" It will cost you {ListOfActivities['price']} and \"\n",
    "                  f\" it's accessibility is {ListOfActivities['accessibility']}\")\n",
    "            print(\"\\t\")\n",
    "\n",
    "print(\"Activity: Description of the queried activity\")\n",
    "print(\"Accessibility: A factor describing how possible an event is to do with zero being the most accessible\")\n",
    "print(\"Price: A factor describing the cost of the event with zero being free\")\n"
   ]
  },
  {
   "cell_type": "markdown",
   "id": "633db8fd",
   "metadata": {},
   "source": [
    "### First, get a totally random activity from the API. Print it out, along with its activity type. Now get me another activity that's of the same type as the first random activity. Print it out too, plus its activity type (to check that they're the same)"
   ]
  },
  {
   "cell_type": "code",
   "execution_count": 65,
   "id": "d430dce7",
   "metadata": {},
   "outputs": [
    {
     "name": "stdout",
     "output_type": "stream",
     "text": [
      "{'activity': 'Make bread from scratch', 'type': 'cooking', 'participants': 1, 'price': 0.2, 'link': '', 'key': '4809815', 'accessibility': 0.2}\n"
     ]
    }
   ],
   "source": [
    "import requests\n",
    "myresponse = requests.get(\"http://www.boredapi.com/api/activity\")\n",
    "if myresponse.status_code == 200 :\n",
    "    \n",
    "    ThingsToDo = myresponse.json()\n",
    "    \n",
    "    print(ThingsToDo)"
   ]
  },
  {
   "cell_type": "code",
   "execution_count": 72,
   "id": "21bb4e37",
   "metadata": {},
   "outputs": [
    {
     "name": "stdout",
     "output_type": "stream",
     "text": [
      " The activity is Learn a new recipe. It's type is cooking.\n"
     ]
    }
   ],
   "source": [
    "import requests\n",
    "my_parameters = {'type': 'cooking'}\n",
    "myresponse = requests.get(\"http://www.boredapi.com/api/activity\", params=my_parameters)\n",
    "if myresponse.status_code == 200 :\n",
    "    \n",
    "    SpecificThingsToDo = myresponse.json()\n",
    "    \n",
    "print(f\" The activity is {SpecificThingsToDo['activity']}. It's type is {SpecificThingsToDo['type']}.\")"
   ]
  },
  {
   "cell_type": "markdown",
   "id": "61f9ad91",
   "metadata": {},
   "source": [
    "### Write a Python program that prints out one random activity of each type that the Bored API supports. (See if you can use a loop for this!)"
   ]
  },
  {
   "cell_type": "code",
   "execution_count": 95,
   "id": "df00d979",
   "metadata": {},
   "outputs": [
    {
     "name": "stdout",
     "output_type": "stream",
     "text": [
      "The activity is Learn how to use a french press. Its type is recreational.\n",
      "The activity is Create a compost pile. Its type is diy.\n",
      "The activity is Do something nice for someone you care about. Its type is social.\n",
      "The activity is Organize your movie collection. Its type is busywork.\n",
      "The activity is Learn calligraphy. Its type is education.\n",
      "The activity is Do something you used to do as a kid. Its type is relaxation.\n",
      "The activity is Volunteer at your local food bank. Its type is charity.\n",
      "The activity is Bake something you've never tried before. Its type is cooking.\n",
      "The activity is Learn to play a new instrument. Its type is music.\n"
     ]
    }
   ],
   "source": [
    "import requests\n",
    "AllTypes = []\n",
    "while len(AllTypes) != 9 :\n",
    "    myresponse = requests.get(\"http://www.boredapi.com/api/activity\")\n",
    "#     print(myresponse.status_code)\n",
    "\n",
    "    if myresponse.status_code == 200 :\n",
    "        AllActivities = myresponse.json()\n",
    "        if AllActivities['type'] in AllTypes:\n",
    "            continue\n",
    "        else:\n",
    "            AllTypes.append(AllActivities['type'])\n",
    "            print(f\"The activity is {AllActivities['activity']}. Its type is {AllActivities['type']}.\")"
   ]
  },
  {
   "cell_type": "markdown",
   "id": "3fd4f81f",
   "metadata": {},
   "source": [
    "# Learning a new API"
   ]
  },
  {
   "cell_type": "markdown",
   "id": "fa203ae5",
   "metadata": {},
   "source": [
    "### Write a URL that will return a single dog fact (you don't need to turn in any python code for this! just the link is fine!)"
   ]
  },
  {
   "cell_type": "code",
   "execution_count": 96,
   "id": "e44e18b3",
   "metadata": {},
   "outputs": [
    {
     "name": "stdout",
     "output_type": "stream",
     "text": [
      "https://dogapi.dog/api/v2/facts\n"
     ]
    }
   ],
   "source": [
    "print(\"https://dogapi.dog/api/v2/facts\")"
   ]
  },
  {
   "cell_type": "markdown",
   "id": "d64753aa",
   "metadata": {},
   "source": [
    "### Write a URL that will return 5 dog facts at once (just the link is fine)"
   ]
  },
  {
   "cell_type": "code",
   "execution_count": 97,
   "id": "41175f08",
   "metadata": {
    "scrolled": true
   },
   "outputs": [
    {
     "name": "stdout",
     "output_type": "stream",
     "text": [
      "https://dogapi.dog/api/v2/facts?limit=5\n"
     ]
    }
   ],
   "source": [
    "print(\"https://dogapi.dog/api/v2/facts?limit=5\")"
   ]
  },
  {
   "cell_type": "markdown",
   "id": "93116a7f",
   "metadata": {},
   "source": [
    "### Take your URL to request a single dog fact and put into a Python program that uses requests.get() and passes in parameters with the params= argument. Your program should just print out the fact itself and not the full JSON object"
   ]
  },
  {
   "cell_type": "code",
   "execution_count": 126,
   "id": "2ee4bca7",
   "metadata": {},
   "outputs": [
    {
     "name": "stdout",
     "output_type": "stream",
     "text": [
      "The term \"dog days of summer\" was coined by the ancient Greeks and Romans to describe the hottest days of summer that coincided with the rising of the Dog Star, Sirius.\n"
     ]
    }
   ],
   "source": [
    "import requests\n",
    "mydoggo = requests.get(\"https://dogapi.dog/api/v2/facts\")\n",
    "if mydoggo.status_code == 200 :\n",
    "    \n",
    "    mydata = mydoggo.json()\n",
    "#     myfacts = mydata['data']\n",
    "    \n",
    "    print(mydata['data'][0]['attributes']['body'])"
   ]
  },
  {
   "cell_type": "markdown",
   "id": "870ba4b8",
   "metadata": {},
   "source": [
    "### Finally, write a for loop that gets sets of 5 facts 5 times (you can just try something like for number in [1,2,3,4,5], downloads the lists of dog facts, and then writes out a new tab-separated values (TSV) file with columns: (1) ID of the dog fact, and (2) the fact itself!"
   ]
  },
  {
   "cell_type": "code",
   "execution_count": 149,
   "id": "9181dab5",
   "metadata": {},
   "outputs": [],
   "source": [
    "import requests\n",
    "with open(\"DoggoFacts.tsv\", \"w\") as my_file:\n",
    "    print(\"ID\\tDogFact\", file=my_file)\n",
    "\n",
    "    for number in [1,2,3,4,5]:\n",
    "        mydoggo = requests.get(\"https://dogapi.dog/api/v2/facts?limit=5\")\n",
    "        if mydoggo.status_code == 200 :\n",
    "            mydata = mydoggo.json()\n",
    "        for i in range (5) :\n",
    "            print (f\"{mydata['data'][i]['id']}\\t{mydata['data'][i]['attributes']['body']}\", file=my_file) "
   ]
  },
  {
   "cell_type": "code",
   "execution_count": 150,
   "id": "ce41ce73",
   "metadata": {},
   "outputs": [
    {
     "name": "stdout",
     "output_type": "stream",
     "text": [
      "https://docs.google.com/spreadsheets/d/1gGJZtYud0aDlffYyX2Yd1r60eUl6ru7jX62Ec_HAgE0/edit?usp=sharing\n"
     ]
    }
   ],
   "source": [
    "print(\"https://docs.google.com/spreadsheets/d/1gGJZtYud0aDlffYyX2Yd1r60eUl6ru7jX62Ec_HAgE0/edit?usp=sharing\")"
   ]
  },
  {
   "cell_type": "markdown",
   "id": "13bb9a3a",
   "metadata": {},
   "source": [
    "# Mapping!"
   ]
  },
  {
   "cell_type": "markdown",
   "id": "46b69f35",
   "metadata": {},
   "source": [
    "### Are there more gas stations in Duvall or Carnation?"
   ]
  },
  {
   "cell_type": "code",
   "execution_count": 218,
   "id": "6cecd772",
   "metadata": {},
   "outputs": [
    {
     "name": "stdout",
     "output_type": "stream",
     "text": [
      "0\n",
      "12\n",
      "There are more gas stations in duvall, wa\n"
     ]
    }
   ],
   "source": [
    "import requests\n",
    "my_parameters = { 'q' : '[gas station] in carnation, wa',\n",
    "                'format' : 'jsonv2',\n",
    "                 'limit': '50'}\n",
    "myresponse = requests.get(\"https://nominatim.openstreetmap.org/search\", params=my_parameters)\n",
    "if myresponse.status_code == 200 :\n",
    "\n",
    "    cadata = myresponse.json()\n",
    "\n",
    "    print(len(cadata))\n",
    "    \n",
    "\n",
    "my_parameters = { 'q' : '[gas station] in duvall, wa',\n",
    "                'format' : 'jsonv2',\n",
    "                 'limit': '50'}\n",
    "myresponse = requests.get(\"https://nominatim.openstreetmap.org/search\", params=my_parameters)\n",
    "if myresponse.status_code == 200 :\n",
    "\n",
    "    dudata = myresponse.json()\n",
    "\n",
    "    print(len(dudata))\n",
    "    \n",
    "if (len(cadata) > len(dudata)) :\n",
    "    print (\"There are more gas stations in carnation, wa\") \n",
    "else :\n",
    "    print (\"There are more gas stations in duvall, wa\")\n"
   ]
  },
  {
   "cell_type": "markdown",
   "id": "01f66029",
   "metadata": {},
   "source": [
    "### Are there more dentists near the University or near Downtown? (you will need to look at the limit on the number of returned items)"
   ]
  },
  {
   "cell_type": "code",
   "execution_count": 171,
   "id": "63343b48",
   "metadata": {},
   "outputs": [
    {
     "name": "stdout",
     "output_type": "stream",
     "text": [
      "29\n",
      "3\n",
      "There are more dentists in downtown, seattle\n"
     ]
    }
   ],
   "source": [
    "import requests\n",
    "# Mapzoom : 16\n",
    "my_parameters = { 'q' : '[dentist]',\n",
    "                'format' : 'jsonv2',\n",
    "                 'limit' : '50',\n",
    "                'viewbox': '122.34057,47.60111,-122.31783,47.59405',\n",
    "                'bounded': 1}\n",
    "myresponse = requests.get(\"https://nominatim.openstreetmap.org/search\", params=my_parameters)\n",
    "if myresponse.status_code == 200 :\n",
    "\n",
    "    dodata = myresponse.json()\n",
    "\n",
    "    print(len(dodata))\n",
    "    \n",
    "\n",
    "my_parameters = { 'q' : '[dentist]',\n",
    "                'format' : 'jsonv2',\n",
    "                 'limit': '50',\n",
    "                'viewbox': '-122.32549,47.66618,-122.30274,47.65913',\n",
    "                'bounded' : 1}\n",
    "myresponse = requests.get(\"https://nominatim.openstreetmap.org/search\", params=my_parameters)\n",
    "if myresponse.status_code == 200 :\n",
    "\n",
    "    undata = myresponse.json()\n",
    "\n",
    "    print(len(undata))\n",
    "    \n",
    "if (len(dodata) > len(undata)) :\n",
    "    print (\"There are more dentists in downtown, seattle\") \n",
    "else :\n",
    "    print (\"There are more dentists in university district, seattle\") "
   ]
  },
  {
   "cell_type": "markdown",
   "id": "ab639c44",
   "metadata": {},
   "source": [
    "### Use the geocoding API endpoint in Nominatim to look up a specific latitude and longitude of your choice (try this building or your hometown)."
   ]
  },
  {
   "cell_type": "code",
   "execution_count": 182,
   "id": "d32a7185",
   "metadata": {},
   "outputs": [
    {
     "name": "stdout",
     "output_type": "stream",
     "text": [
      "[-74.04454817144321, 40.689253199999996]\n",
      " The coordinates of Statue of Liberty are [-74.04454817144321, 40.689253199999996]\n"
     ]
    }
   ],
   "source": [
    "import requests\n",
    "my_parameters = { 'q' : 'Statue of Liberty, Manhattan, New York',\n",
    "                'format' : 'geojson',\n",
    "                 'limit' : '50'}\n",
    "myresponse = requests.get(\"https://nominatim.openstreetmap.org/search\", params=my_parameters)\n",
    "\n",
    "if myresponse.status_code == 200 :\n",
    "\n",
    "    singledata = myresponse.json()\n",
    "    \n",
    "    print(singledata['features'][0]['geometry']['coordinates'][0:2])\n",
    "    \n",
    "    print (f\" The coordinates of Statue of Liberty are {singledata['features'][0]['geometry']['coordinates'][0:2]}\")"
   ]
  },
  {
   "cell_type": "markdown",
   "id": "4a6bdd2c",
   "metadata": {},
   "source": [
    "### Write a program to find all the ziplines in King County, Washington (or at least all the ones that OSM knows about!)."
   ]
  },
  {
   "cell_type": "code",
   "execution_count": 184,
   "id": "ec04fc31",
   "metadata": {},
   "outputs": [
    {
     "name": "stdout",
     "output_type": "stream",
     "text": [
      "[{'place_id': 340259502, 'licence': 'Data © OpenStreetMap contributors, ODbL 1.0. https://osm.org/copyright', 'osm_type': 'way', 'osm_id': 1086262198, 'boundingbox': ['47.6081042', '47.6081428', '-122.1743914', '-122.1742413'], 'lat': '47.6081042', 'lon': '-122.1742413', 'display_name': 'WIlburton Hill Park Trails, Belridge, Bellevue, King County, Washington, 98005, United States', 'place_rank': 30, 'category': 'aerialway', 'type': 'zip_line', 'importance': 0.4001}, {'place_id': 266604172, 'licence': 'Data © OpenStreetMap contributors, ODbL 1.0. https://osm.org/copyright', 'osm_type': 'way', 'osm_id': 831449302, 'boundingbox': ['47.5675978', '47.5685085', '-122.1486867', '-122.1460848'], 'lat': '47.5685085', 'lon': '-122.1472952', 'display_name': '146th Avenue Southeast, Eastgate, Bellevue, King County, Washington, 98006, United States', 'place_rank': 30, 'category': 'aerialway', 'type': 'zip_line', 'importance': 0.4001}, {'place_id': 266425130, 'licence': 'Data © OpenStreetMap contributors, ODbL 1.0. https://osm.org/copyright', 'osm_type': 'way', 'osm_id': 831449301, 'boundingbox': ['47.5676025', '47.5685007', '-122.1486472', '-122.1475391'], 'lat': '47.5682515', 'lon': '-122.1482035', 'display_name': '144th Avenue Southeast, Somerset, Bellevue, King County, Washington, 98006, United States', 'place_rank': 30, 'category': 'aerialway', 'type': 'zip_line', 'importance': 0.4001}]\n"
     ]
    }
   ],
   "source": [
    "import requests\n",
    "my_parameters = { 'q' : '[zipline] in king county, wa',\n",
    "                'format' : 'jsonv2',\n",
    "                 'limit' : '50'}\n",
    "myresponse = requests.get(\"https://nominatim.openstreetmap.org/search\", params=my_parameters)\n",
    "\n",
    "if myresponse.status_code == 200 :\n",
    "\n",
    "    zipdata = myresponse.json()\n",
    "    \n",
    "    print(zipdata)"
   ]
  },
  {
   "cell_type": "markdown",
   "id": "e58854de",
   "metadata": {},
   "source": [
    "### It's important to be alert and well-caffeinated when ziplining! Once you've found a nearby zipline, have your program use that result to find the nearest cafe each of the ziplines you identify!"
   ]
  },
  {
   "cell_type": "code",
   "execution_count": 215,
   "id": "bc778ced",
   "metadata": {},
   "outputs": [
    {
     "name": "stdout",
     "output_type": "stream",
     "text": [
      "['WIlburton Hill Park Trails, Belridge, Bellevue, King County, Washington, 98005, United States', '146th Avenue Southeast, Eastgate, Bellevue, King County, Washington, 98006, United States', '144th Avenue Southeast, Somerset, Bellevue, King County, Washington, 98006, United States']\n"
     ]
    }
   ],
   "source": [
    "ListOfZiplines = []\n",
    "\n",
    "ListOfZiplines = [ zipdata[0]['display_name'], zipdata[1]['display_name'], zipdata[2]['display_name']]\n",
    "\n",
    "print(ListOfZiplines)"
   ]
  },
  {
   "cell_type": "code",
   "execution_count": 265,
   "id": "818ac973",
   "metadata": {
    "scrolled": true
   },
   "outputs": [
    {
     "name": "stdout",
     "output_type": "stream",
     "text": [
      "[{'place_id': 72931280, 'licence': 'Data © OpenStreetMap contributors, ODbL 1.0. https://osm.org/copyright', 'osm_type': 'node', 'osm_id': 6873256477, 'boundingbox': ['47.626526', '47.626626', '-122.1662753', '-122.1661753'], 'lat': '47.626576', 'lon': '-122.1662253', 'display_name': 'Bellevue Brewing Company, 1820, 130th Avenue Northeast, Bellevue, King County, Washington, 98005, United States', 'place_rank': 30, 'category': 'amenity', 'type': 'pub', 'importance': 0.7300099999999999, 'icon': 'https://nominatim.openstreetmap.org/ui/mapicons/food_pub.p.20.png'}]\n",
      "[{'place_id': 6869087, 'licence': 'Data © OpenStreetMap contributors, ODbL 1.0. https://osm.org/copyright', 'osm_type': 'node', 'osm_id': 882563903, 'boundingbox': ['47.5517997', '47.5518997', '-122.1775329', '-122.1774329'], 'lat': '47.5518497', 'lon': '-122.1774829', 'display_name': 'Mustard Seed Grill & Pub, 5630, 119th Avenue Southeast, Lake Heights, Bellevue, King County, Washington, 98006, United States', 'place_rank': 30, 'category': 'amenity', 'type': 'pub', 'importance': 0.9300099999999999, 'icon': 'https://nominatim.openstreetmap.org/ui/mapicons/food_pub.p.20.png'}]\n",
      "[{'place_id': 6869087, 'licence': 'Data © OpenStreetMap contributors, ODbL 1.0. https://osm.org/copyright', 'osm_type': 'node', 'osm_id': 882563903, 'boundingbox': ['47.5517997', '47.5518997', '-122.1775329', '-122.1774329'], 'lat': '47.5518497', 'lon': '-122.1774829', 'display_name': 'Mustard Seed Grill & Pub, 5630, 119th Avenue Southeast, Lake Heights, Bellevue, King County, Washington, 98006, United States', 'place_rank': 30, 'category': 'amenity', 'type': 'pub', 'importance': 0.9300099999999999, 'icon': 'https://nominatim.openstreetmap.org/ui/mapicons/food_pub.p.20.png'}]\n"
     ]
    }
   ],
   "source": [
    "ListOfZiplines = []\n",
    "\n",
    "ListOfZiplines = [ zipdata[0]['display_name'], zipdata[1]['display_name'], zipdata[2]['display_name']]\n",
    "\n",
    "for everyplaceid in ListOfZiplines : \n",
    "\n",
    "    my_parameters = { 'q' : f\" [cafe] {everyplaceid}\",\n",
    "                    'format' : 'jsonv2',\n",
    "                     'limit' : '1',\n",
    "                    'type': 'cafe'}\n",
    "    myresponse = requests.get(\"https://nominatim.openstreetmap.org/search\", params=my_parameters)\n",
    "\n",
    "    if myresponse.status_code == 200 :\n",
    "\n",
    "        mycafe = myresponse.json()\n",
    "\n",
    "        print(mycafe)\n",
    "        \n",
    "#don't understand why it keeps returning pubs. Neither does 'near' as a command work. Stuck with this one\n",
    "#it works if you look for college, but then again, not with the word 'near' in the string"
   ]
  },
  {
   "cell_type": "markdown",
   "id": "c54def81",
   "metadata": {},
   "source": [
    "### Craft a query using the search API to find colleges in Seattle. (Hint: you'll want to set bounded=1 and use the viewbox). Print the name and location of every college you find.\n",
    "\n",
    "### Modify your query so that you include the address details separated out (this is an API option you can find in the documentation)?"
   ]
  },
  {
   "cell_type": "code",
   "execution_count": 243,
   "id": "8a14d89b",
   "metadata": {},
   "outputs": [
    {
     "name": "stdout",
     "output_type": "stream",
     "text": [
      "Prytanée National Militaire, Rue Henri IV, Sainte-Colombe, La Flèche, Sarthe, Pays de la Loire, France métropolitaine, 72200, France\n",
      "47.70259595\n",
      "-0.07649647686046515\n",
      "\n",
      "\n",
      "Agrocampus Ouest, Campus d'Angers, 2, Rue André Le Nôtre, Belle-Beille, Angers, Maine-et-Loire, Pays de la Loire, France métropolitaine, 49045, France\n",
      "47.4799426\n",
      "-0.607510160085879\n",
      "\n",
      "\n",
      "École supérieure des sciences commerciales d’Angers, 1, Rue Joseph Lakanal, Belle-Beille, Angers, Maine-et-Loire, Pays de la Loire, France métropolitaine, 49000, France\n",
      "47.4763409\n",
      "-0.6007217110890253\n",
      "\n",
      "\n",
      "ESEO, 10, Boulevard Jean Jeanneteau, La Gatelière, Hauts de Saint-Aubin, Angers, Maine-et-Loire, Pays de la Loire, France métropolitaine, 49107, France\n",
      "47.49371875\n",
      "-0.5504861355815185\n",
      "\n",
      "\n",
      "École Supérieure d'Agricultures, 55, Rue Rabelais, Justices - Madeleine - Saint-Léonard, Angers, Maine-et-Loire, Pays de la Loire, France métropolitaine, 49000, France\n",
      "47.459291300000004\n",
      "-0.5441803899948905\n",
      "\n",
      "\n",
      "École supérieure angevine en informatique et productique, Pont du 25 avril 1974, Saint-Barthélemy-d'Anjou, Angers, Maine-et-Loire, Pays de la Loire, France métropolitaine, 49124, France\n",
      "47.463830599999994\n",
      "-0.4975038699229326\n",
      "\n",
      "\n",
      "Institut universitaire de technologie de Vannes, 8, Rue Michel de Montaigne, Kercado, Campen, Vannes, Morbihan, Bretagne, France métropolitaine, 56000, France\n",
      "47.644416\n",
      "-2.777169799822394\n",
      "\n",
      "\n",
      "Institut Universitaire de Technologie de Lorient, 10, Rue Jean Zay, Kervaric, Lanveur, Lorient, Morbihan, Bretagne, France métropolitaine, 56100, France\n",
      "47.7443685\n",
      "-3.386995762970315\n",
      "\n",
      "\n",
      "Spokane Falls Community College, West Custer Drive, Spokane, Spokane County, Washington, 99205, United States\n",
      "47.67642995\n",
      "-117.46397619491665\n",
      "\n",
      "\n",
      "Minnesota North College – Hibbing, 1515, East 25th Street, Hibbing, Saint Louis County, Minnesota, 55746, United States\n",
      "47.4221372\n",
      "-92.92066863392921\n",
      "\n",
      "\n",
      "Spokane Community College, East Ermina Avenue, Chief Garry Park, Spokane, Spokane County, Washington, 99217, United States\n",
      "47.6747328\n",
      "-117.35922327683869\n",
      "\n",
      "\n",
      "ISTOM - École d'ingénieur d'agro-développement international, 4, Rue Joseph Lakanal, Belle-Beille, Angers, Maine-et-Loire, Pays de la Loire, France métropolitaine, 49000, France\n",
      "47.4776114\n",
      "-0.6005236472881786\n",
      "\n",
      "\n",
      "Faculté des sciences et sciences de l'ingénieur, Rue André Lwoff, Tohannic, Sud-Est, Vannes, Morbihan, Bretagne, France métropolitaine, 56000, France\n",
      "47.6451283\n",
      "-2.7455128\n",
      "\n",
      "\n",
      "École Nationale Supérieure d'Ingénieurs de Bretagne Sud, 17, Rue Flandres - Dunkerque 1940, Kerfichant, Lorient, Morbihan, Bretagne, France métropolitaine, 56100, France\n",
      "47.74789405\n",
      "-3.396459909888475\n",
      "\n",
      "\n",
      "Faculté des lettres, langues, sciences humaines et sociales, Rue Jean Zay, Kervaric, Lanveur, Lorient, Morbihan, Bretagne, France métropolitaine, 56100, France\n",
      "47.7429508\n",
      "-3.3854804817449757\n",
      "\n",
      "\n",
      "Polytech, Boulevard Daviers, Hauts de Saint-Aubin, Angers, Maine-et-Loire, Pays de la Loire, France métropolitaine, 49035, France\n",
      "47.4795755\n",
      "-0.5597609\n",
      "\n",
      "\n",
      "Profilsup Angers, 11, Rue de la Charnasserie, La Gatelière, Hauts de Saint-Aubin, Angers, Maine-et-Loire, Pays de la Loire, France métropolitaine, 49100, France\n",
      "47.4904866\n",
      "-0.5530834\n",
      "\n",
      "\n",
      "Institut des Métiers du Notariat, Boulevard Pierre de Coubertin, Justices - Madeleine - Saint-Léonard, Angers, Maine-et-Loire, Pays de la Loire, France métropolitaine, 49007, France\n",
      "47.4634571\n",
      "-0.5316536\n",
      "\n",
      "\n",
      "Ircom, Rue Édouard Guinel, Justices - Madeleine - Saint-Léonard, Les Ponts-de-Cé, Angers, Maine-et-Loire, Pays de la Loire, France métropolitaine, 49130, France\n",
      "47.44297695\n",
      "-0.5325313967127354\n",
      "\n",
      "\n",
      "École Supérieure d'Optique de l'Ouest, 10, Rue Alexandre Fleming, Belle-Beille, Angers, Maine-et-Loire, Pays de la Loire, France métropolitaine, 49000, France\n",
      "47.477103\n",
      "-0.6049972107843141\n",
      "\n",
      "\n",
      "École de sages-femmes René Rouchy et Internat, 4, Rue de Monteclair, Hauts de Saint-Aubin, Angers, Maine-et-Loire, Pays de la Loire, France métropolitaine, 49000, France\n",
      "47.48327825\n",
      "-0.5549800136002716\n",
      "\n",
      "\n",
      "Institut de formation, Rue des Écoles, Les Pannes, Hauts de Saint-Aubin, Angers, Maine-et-Loire, Pays de la Loire, France métropolitaine, 49055, France\n",
      "47.483799\n",
      "-0.5585670007425743\n",
      "\n",
      "\n",
      "Bâtiment dit \"Bariéty\" - Médecine du travail, école de puericulture, Rue des Capucins, La Perrière, Hauts de Saint-Aubin, Angers, Maine-et-Loire, Pays de la Loire, France métropolitaine, 49055, France\n",
      "47.485521500000004\n",
      "-0.5552988233333354\n",
      "\n",
      "\n",
      "UFR de santé - département pharmacie, Avenue de l'Hôtel Dieu, Hauts de Saint-Aubin, Angers, Maine-et-Loire, Pays de la Loire, France métropolitaine, 49035, France\n",
      "47.47997635\n",
      "-0.5586554987406818\n",
      "\n",
      "\n",
      "École de l'ADN, Boulevard Daviers, Hauts de Saint-Aubin, Angers, Maine-et-Loire, Pays de la Loire, France métropolitaine, 49035, France\n",
      "47.4797431\n",
      "-0.559494\n",
      "\n",
      "\n",
      "École technique supérieur de chimie de l'ouest, Rue Michelet, Justices - Madeleine - Saint-Léonard, Angers, Maine-et-Loire, Pays de la Loire, France métropolitaine, 49007, France\n",
      "47.462416\n",
      "-0.5452702\n",
      "\n",
      "\n",
      "Campus Academy Angers, 132, Avenue de Lattre de Tassigny, La Roseraie, Angers, Maine-et-Loire, Pays de la Loire, France métropolitaine, 49000, France\n",
      "47.4475648\n",
      "-0.5395284\n",
      "\n",
      "\n",
      "my city school, Rue de la Parcheminerie, Centre Ville - La Fayette - Eblé, Angers, Maine-et-Loire, Pays de la Loire, France métropolitaine, 49100, France\n",
      "47.4737951\n",
      "-0.552385\n",
      "\n",
      "\n",
      "Greta, Rue de Létanduère, Centre Ville - La Fayette - Eblé, Angers, Maine-et-Loire, Pays de la Loire, France métropolitaine, 49007, France\n",
      "47.4637566\n",
      "-0.555169\n",
      "\n",
      "\n",
      "Conservatoire national des arts et métiers Institut d’hygiène industrielle et de l’environnement, Rue des Oisonnières, Centre Ville - La Fayette - Eblé, Angers, Maine-et-Loire, Pays de la Loire, France métropolitaine, 49101, France\n",
      "47.45730425\n",
      "-0.5609333668346788\n",
      "\n",
      "\n",
      "École Supérieure de Commerce des Affaires et du Management, Rue Jude Blankaert, Le Petit Paradis, Le Bourgneuf, Lorient, Morbihan, Bretagne, France métropolitaine, 56100, France\n",
      "47.7625535\n",
      "-3.3953348\n",
      "\n",
      "\n",
      "CEFCM, Rue François Toullec, Keroman, Kervénanec, Lorient, Morbihan, Bretagne, France métropolitaine, 56100, France\n",
      "47.7318279\n",
      "-3.3790391032078\n",
      "\n",
      "\n",
      "Faculté des sciences et sciences de l'ingénieur, Rue Joseph Hénaff, Kervaric, Lanveur, Lorient, Morbihan, Bretagne, France métropolitaine, 56100, France\n",
      "47.74757865\n",
      "-3.3938157047268134\n",
      "\n",
      "\n",
      "Rond-Point de la Cardonnière, Kerletu, Lorient, Morbihan, Bretagne, France métropolitaine, 56100, France\n",
      "47.77238955\n",
      "-3.4050675925\n",
      "\n",
      "\n",
      "Institut de formation en soins infirmiers et aides-soignants CH Bretagne Atlantique, Rue André Lwoff, Tohannic, Sud-Est, Vannes, Morbihan, Bretagne, France métropolitaine, 56000, France\n",
      "47.6446277\n",
      "-2.7464087\n",
      "\n",
      "\n",
      "École supérieure de commerce et de management, 18, Boulevard de la Résistance, Les Hameaux de Bernus, Cliscouët, Campen, Vannes, Morbihan, Bretagne, France métropolitaine, 56000, France\n",
      "47.6508777\n",
      "-2.7837332\n",
      "\n",
      "\n",
      "Faculté de droit, de sciences économiques et de gestion, Rue André Lwoff, Tohannic, Sud-Est, Vannes, Morbihan, Bretagne, France métropolitaine, 56000, France\n",
      "47.6446458\n",
      "-2.7472026\n",
      "\n",
      "\n",
      "Institut national supérieur du professorat et de l'éducation de Bretagne - site de Vannes, Impasse Kerfer, Quartier de la Madeleine, Ouest, Vannes, Morbihan, Bretagne, France métropolitaine, 56000, France\n",
      "47.6596933\n",
      "-2.7690777\n",
      "\n",
      "\n",
      "CFA chambre de métiers du Morbihan, Boulevard des Îles, Les Hameaux de Bernus, Ouest, Campen, Vannes, Morbihan, Bretagne, France métropolitaine, 56000, France\n",
      "47.6527431\n",
      "-2.7863673\n",
      "\n",
      "\n",
      "Institut catholique d'arts et métiers- site de Bretagne - ICAM apprentissage, 9, Rue du Commandant Charcot, Kergypt, Kercado, Campen, Vannes, Morbihan, Bretagne, France métropolitaine, 56000, France\n",
      "47.6503687\n",
      "-2.781898314796864\n",
      "\n",
      "\n",
      "Spokane Community College - Adult Education Center, West Carlisle Avenue, Emerson, Spokane, Spokane County, Washington, 99205, United States\n",
      "47.6790265\n",
      "-117.42589643574766\n",
      "\n",
      "\n",
      "Mukogawa Ft. Wright Institute, West Custer Drive, Spokane, Spokane County, Washington, 99205, United States\n",
      "47.677058450000004\n",
      "-117.47342710360189\n",
      "\n",
      "\n",
      "NewTech Skill Center, 4141, North Regal Street, Hillyard, Spokane, Spokane County, Washington, 99207, United States\n",
      "47.695978049999994\n",
      "-117.36870685\n",
      "\n",
      "\n",
      "MFR Champigné, Rue du Stade, Champigné, Les Hauts-d'Anjou, Segré, Maine-et-Loire, Pays de la Loire, France métropolitaine, 49330, France\n",
      "47.6588877\n",
      "-0.5746499\n",
      "\n",
      "\n",
      "Keyin College, 644, Topsail Road, Cowan Heights, St. John's, Newfoundland, Newfoundland and Labrador, A1E 2C9, Canada\n",
      "47.5252742\n",
      "-52.7702802\n",
      "\n",
      "\n",
      "Centre de formation CLPS, Avenue des Nouies, Redon, Ille-et-Vilaine, Bretagne, France métropolitaine, 35600, France\n",
      "47.66368345\n",
      "-2.0747360665827053\n",
      "\n",
      "\n",
      "Institut de formation d'aides-soignants, Faubourg Saint-Michel, Malestroit, Vannes, Morbihan, Bretagne, France métropolitaine, 56140, France\n",
      "47.8123773\n",
      "-2.3858163\n",
      "\n",
      "\n",
      "Centre de formation en travail social Grimes, Rue de la Gare, Lesvellec, Saint-Avé, Vannes, Morbihan, Bretagne, France métropolitaine, 56890, France\n",
      "47.6994092\n",
      "-2.7533552\n",
      "\n",
      "\n",
      "Agrilia Formation, D 109, Les Trinottières, Soucelles, Montreuil-sur-Loir, Angers, Maine-et-Loire, Pays de la Loire, France métropolitaine, 49140, France\n",
      "47.578571\n",
      "-0.38226697272144416\n",
      "\n",
      "\n",
      "École supérieure en architecture intérieure, Rue Blaise Pascal, Le Goh Lenn, Plescop, Vannes, Morbihan, Bretagne, France métropolitaine, 56890, France\n",
      "47.67987855\n",
      "-2.8001560053701553\n",
      "\n",
      "\n"
     ]
    }
   ],
   "source": [
    "import requests\n",
    "my_parameters = { 'q' : '[college]',\n",
    "                'format' : 'jsonv2',\n",
    "                 'limit' : '100000',\n",
    "                'viewbox': 'viewbox: -123.07022,47.83344,-121.61453,47.38161',\n",
    "                'bounded': 1}\n",
    "myresponse = requests.get(\"https://nominatim.openstreetmap.org/search\", params=my_parameters)\n",
    "if myresponse.status_code == 200 :\n",
    "\n",
    "    collegedata = myresponse.json()\n",
    "\n",
    "    for i in range(len(collegedata)) :\n",
    "        print(collegedata[i]['display_name'])\n",
    "        print(collegedata[i]['lat'])\n",
    "        print(collegedata[i]['lon'])\n",
    "        print('\\n')"
   ]
  },
  {
   "cell_type": "markdown",
   "id": "73949c6a",
   "metadata": {},
   "source": [
    "### How can you tell that a place returned by the API is in fact a college?"
   ]
  },
  {
   "cell_type": "code",
   "execution_count": 248,
   "id": "8fcee7a0",
   "metadata": {},
   "outputs": [
    {
     "name": "stdout",
     "output_type": "stream",
     "text": [
      "true\n",
      "true\n",
      "true\n",
      "true\n",
      "true\n",
      "true\n",
      "true\n",
      "true\n",
      "true\n",
      "true\n",
      "true\n",
      "true\n",
      "true\n",
      "true\n",
      "true\n",
      "true\n",
      "true\n",
      "true\n",
      "true\n",
      "true\n",
      "true\n",
      "true\n",
      "true\n",
      "true\n",
      "true\n",
      "true\n",
      "true\n",
      "true\n",
      "true\n",
      "true\n",
      "true\n",
      "true\n",
      "true\n",
      "true\n",
      "true\n",
      "true\n",
      "true\n",
      "true\n",
      "true\n",
      "true\n",
      "true\n",
      "true\n",
      "true\n",
      "true\n",
      "true\n",
      "true\n",
      "true\n",
      "true\n",
      "true\n",
      "true\n"
     ]
    }
   ],
   "source": [
    "for everycollege in collegedata :\n",
    "    if (everycollege['type']) == \"college\" :\n",
    "        print(\"true\")\n",
    "    else :\n",
    "        print (\"false\")\n",
    "    "
   ]
  },
  {
   "cell_type": "markdown",
   "id": "27ef5b7a",
   "metadata": {},
   "source": [
    "### Print the list of colleges into a new TSV file with the following columns: osm_id (a unique ID that OSM uses), the name of the college, latitude, and longitude."
   ]
  },
  {
   "cell_type": "code",
   "execution_count": 253,
   "id": "791961ff",
   "metadata": {},
   "outputs": [],
   "source": [
    "with open(\"CollegeData.tsv\",\"w\") as my_college_file:\n",
    "    print(\"OSM ID\\tName of college\\tlatitude\\tlongitude\", file=my_college_file)\n",
    "          \n",
    "    for everycollege in collegedata:\n",
    "          print(f\" {everycollege['osm_id']}\\t{everycollege['display_name']}\\t{everycollege['lat']}\\t{everycollege['lon']}\", file=my_college_file)\n",
    "    "
   ]
  },
  {
   "cell_type": "code",
   "execution_count": 255,
   "id": "6a678b49",
   "metadata": {},
   "outputs": [
    {
     "name": "stdout",
     "output_type": "stream",
     "text": [
      "https://docs.google.com/spreadsheets/d/1lKfnAl5L3tHeE5hLmlKwjksVVZESgQjmLVCqk1mIkDo/edit?usp=sharing\n"
     ]
    }
   ],
   "source": [
    "print(\"https://docs.google.com/spreadsheets/d/1lKfnAl5L3tHeE5hLmlKwjksVVZESgQjmLVCqk1mIkDo/edit?usp=sharing\")"
   ]
  }
 ],
 "metadata": {
  "kernelspec": {
   "display_name": "Python 3 (ipykernel)",
   "language": "python",
   "name": "python3"
  },
  "language_info": {
   "codemirror_mode": {
    "name": "ipython",
    "version": 3
   },
   "file_extension": ".py",
   "mimetype": "text/x-python",
   "name": "python",
   "nbconvert_exporter": "python",
   "pygments_lexer": "ipython3",
   "version": "3.10.9"
  }
 },
 "nbformat": 4,
 "nbformat_minor": 5
}
