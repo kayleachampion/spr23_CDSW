{
 "cells": [
  {
   "cell_type": "code",
   "execution_count": 90,
   "id": "b62b3768",
   "metadata": {},
   "outputs": [],
   "source": [
    "import requests"
   ]
  },
  {
   "cell_type": "code",
   "execution_count": 98,
   "id": "da6950f2",
   "metadata": {},
   "outputs": [],
   "source": [
    "my_response = requests.get(\"http://www.boredapi.com/api/activity\")"
   ]
  },
  {
   "cell_type": "code",
   "execution_count": 99,
   "id": "aed14d82",
   "metadata": {},
   "outputs": [
    {
     "name": "stdout",
     "output_type": "stream",
     "text": [
      "200\n"
     ]
    }
   ],
   "source": [
    "print(my_response.status_code)"
   ]
  },
  {
   "cell_type": "code",
   "execution_count": 100,
   "id": "2ab3bd44",
   "metadata": {},
   "outputs": [
    {
     "data": {
      "text/plain": [
       "'{\"activity\":\"Hold a yard sale\",\"type\":\"social\",\"participants\":1,\"price\":0,\"link\":\"\",\"key\":\"1432113\",\"accessibility\":0.1}'"
      ]
     },
     "execution_count": 100,
     "metadata": {},
     "output_type": "execute_result"
    }
   ],
   "source": [
    "my_response.text"
   ]
  },
  {
   "cell_type": "code",
   "execution_count": 101,
   "id": "f59b873b",
   "metadata": {},
   "outputs": [
    {
     "data": {
      "text/plain": [
       "<Response [200]>"
      ]
     },
     "execution_count": 101,
     "metadata": {},
     "output_type": "execute_result"
    }
   ],
   "source": [
    "my_response"
   ]
  },
  {
   "cell_type": "code",
   "execution_count": 102,
   "id": "149db541",
   "metadata": {},
   "outputs": [],
   "source": [
    "data = my_response.json()"
   ]
  },
  {
   "cell_type": "code",
   "execution_count": 103,
   "id": "0b76cf88",
   "metadata": {},
   "outputs": [
    {
     "data": {
      "text/plain": [
       "{'activity': 'Hold a yard sale',\n",
       " 'type': 'social',\n",
       " 'participants': 1,\n",
       " 'price': 0,\n",
       " 'link': '',\n",
       " 'key': '1432113',\n",
       " 'accessibility': 0.1}"
      ]
     },
     "execution_count": 103,
     "metadata": {},
     "output_type": "execute_result"
    }
   ],
   "source": [
    "data"
   ]
  },
  {
   "cell_type": "code",
   "execution_count": 104,
   "id": "d6b84fc1",
   "metadata": {
    "scrolled": true
   },
   "outputs": [
    {
     "data": {
      "text/plain": [
       "'Hold a yard sale'"
      ]
     },
     "execution_count": 104,
     "metadata": {},
     "output_type": "execute_result"
    }
   ],
   "source": [
    "#5.1\n",
    "data['activity']"
   ]
  },
  {
   "cell_type": "code",
   "execution_count": 105,
   "id": "6832a4db",
   "metadata": {},
   "outputs": [
    {
     "data": {
      "text/plain": [
       "0.1"
      ]
     },
     "execution_count": 105,
     "metadata": {},
     "output_type": "execute_result"
    }
   ],
   "source": [
    "data['accessibility']"
   ]
  },
  {
   "cell_type": "code",
   "execution_count": 106,
   "id": "4cb959e2",
   "metadata": {},
   "outputs": [
    {
     "data": {
      "text/plain": [
       "0"
      ]
     },
     "execution_count": 106,
     "metadata": {},
     "output_type": "execute_result"
    }
   ],
   "source": [
    "data['price']"
   ]
  },
  {
   "cell_type": "code",
   "execution_count": 107,
   "id": "841baa3e",
   "metadata": {},
   "outputs": [
    {
     "name": "stdout",
     "output_type": "stream",
     "text": [
      "activity: Hold a yard sale, accessibility: 0.1, price: 0\n"
     ]
    }
   ],
   "source": [
    "print(f\"activity: {data['activity']}, accessibility: {data['accessibility']}, price: {data['price']}\")"
   ]
  },
  {
   "cell_type": "code",
   "execution_count": 108,
   "id": "418ea268",
   "metadata": {},
   "outputs": [
    {
     "name": "stdout",
     "output_type": "stream",
     "text": [
      "activity 1: Watch the sunset or the sunrise\n",
      "activity 2: Learn a new recipe\n",
      "activity 3: Create a compost pile\n",
      "activity 4: Take a bubble bath\n",
      "activity 5: Organize your basement\n"
     ]
    }
   ],
   "source": [
    "#1.1\n",
    "for number in [1,2,3,4,5]:\n",
    "    response = requests.get(\"https://www.boredapi.com/api/activity\")\n",
    "    if response.status_code == 200:\n",
    "        data = response.json()\n",
    "        print(f\"activity {number}: {data['activity']}\")"
   ]
  },
  {
   "cell_type": "code",
   "execution_count": 109,
   "id": "9009283f",
   "metadata": {},
   "outputs": [
    {
     "name": "stdout",
     "output_type": "stream",
     "text": [
      "activity: Take a spontaneous road trip with some friends, type: social\n",
      "activity: Have a bonfire with your close friends, type: social\n"
     ]
    }
   ],
   "source": [
    "#1.2\n",
    "response = requests.get(\"https://www.boredapi.com/api/activity\")\n",
    "if response.status_code == 200:\n",
    "        data = response.json()\n",
    "        print(f\"activity: {data['activity']}, type: {data['type']}\")\n",
    "\n",
    "        my_parameters = {'type' : data['type']}\n",
    "        response2 = requests.get(\"https://www.boredapi.com/api/activity\", params = my_parameters)\n",
    "        if response2.status_code == 200:\n",
    "            data2 = response2.json()\n",
    "            print(f\"activity: {data2['activity']}, type: {data2['type']}\")"
   ]
  },
  {
   "cell_type": "code",
   "execution_count": 110,
   "id": "3f69778f",
   "metadata": {},
   "outputs": [
    {
     "name": "stdout",
     "output_type": "stream",
     "text": [
      "activity: Learn the NATO phonetic alphabet, type: education\n",
      "activity: Learn and play a new card game, type: recreational\n",
      "activity: Have a picnic with some friends, type: social\n",
      "activity: Make a scrapbook with pictures of your favorite memories, type: diy\n",
      "activity: Volunteer at a local animal shelter, type: charity\n",
      "activity: Cook something together with someone, type: cooking\n",
      "activity: Take a bubble bath, type: relaxation\n",
      "activity: Listen to your favorite album, type: music\n",
      "activity: Organize a cluttered drawer, type: busywork\n"
     ]
    }
   ],
   "source": [
    "#1.3\n",
    "all_types = [\"education\", \"recreational\", \"social\", \"diy\", \"charity\", \"cooking\", \"relaxation\", \"music\", \"busywork\"]\n",
    "for typ in all_types:\n",
    "    my_parameters = {'type' : typ}\n",
    "    response = requests.get(\"https://www.boredapi.com/api/activity\", params=my_parameters)\n",
    "    if response.status_code == 200:\n",
    "        data = response.json()\n",
    "        print(f\"activity: {data['activity']}, type: {data['type']}\")"
   ]
  },
  {
   "cell_type": "code",
   "execution_count": 111,
   "id": "de6c26e2",
   "metadata": {},
   "outputs": [],
   "source": [
    "#2.2 2.3\n",
    "# https://dogapi.dog/api/v2/facts?limit=1\n",
    "# https://dogapi.dog/api/v2/facts?limit=5"
   ]
  },
  {
   "cell_type": "code",
   "execution_count": 112,
   "id": "cdb6c849",
   "metadata": {},
   "outputs": [
    {
     "name": "stdout",
     "output_type": "stream",
     "text": [
      "The name of the dog on the Cracker Jacks box is Bingo. The Taco Bell Chihuahua is a rescued dog named Gidget.\n"
     ]
    }
   ],
   "source": [
    "#2.4\n",
    "response = requests.get(\"https://dogapi.dog/api/v2/facts\",params = {\"limit\":1})\n",
    "if response.status_code == 200:\n",
    "    data = response.json()\n",
    "    print(data[\"data\"][0][\"attributes\"][\"body\"])"
   ]
  },
  {
   "cell_type": "code",
   "execution_count": 113,
   "id": "454b4c2a",
   "metadata": {},
   "outputs": [
    {
     "name": "stdout",
     "output_type": "stream",
     "text": [
      "After the fall of Rome, human survival often became more important than breeding and training dogs. Legends of werewolves emerged during this time as abandoned dogs traveling in packs commonly roamed streets and terrified villagers.\n",
      "Dogs can suffer from separation anxiety if they are left alone for long periods of time.\n",
      "More than 5,000,000 puppies are born in the U.S. every year.\n",
      "A dog's nose is wet because it helps them to absorb scents more easily.\n",
      "Puppies then take a year or more to gain the other half of their body weight.\n",
      "French poodles did not originate in France but in Germany (\"poodle\" comes from the German pudel or pudelhund, meaning \"splashing dog\"). Some scholars speculate the poodle’s puffs of hair evolved when hunters shaved the poodle for more efficient swimming, while leaving the pom-poms around the major joints to keep them warm.\n",
      "Seventy percent of people sign their pet’s name on greeting and holiday cards.\n",
      "If never spayed or neutered, a female dog, her mate, and their puppies could produce over 66,000 dogs in 6 years!\n",
      "Dogs can count up to five and can perform simple mathematical calculations.\n",
      "A puppy is born blind, deaf, and toothless.\n",
      "The average dog can run at speeds of up to 19mph.\n",
      "The border collie or sheep dog is often considered to be the most intelligent breed of dog some of them have been trained to recognize the words for up to 1,000 objects and retrieved them by verbal command.\n",
      "Boxers are so named because of their manner of playing using their front paws.\n",
      "The breed Lundehune has 6 toes and can close its ears.\n",
      "A group of puppies is called a litter.\n",
      "Puppies grow to half their body weight in the first four to five months!\n",
      "Pregnancy can be prevented by spaying the female dog, this involves removing both the ovaries and the uterus.\n",
      "Most dogs go in heat every 6 months and estrus lasts between 7 and 18 days.\n",
      "Dachshunds were originally bred to fight badgers.\n",
      "Paul McCartney of the Beatles recorded a high pitched whistle at the end of \"A Day in the Life\" for his dog.\n",
      "Some stray Russian dogs have figured out how to use the subway system in order to travel to more populated areas in search of food.\n",
      "Dogs have three eyelids to protect their eyes from debris.\n",
      "Many foot disorders in dogs are simply an issue of too-long toenails.\n",
      "In 1957, Laika became the first living being in space via an earth satellite and JFK’s terrier, Charlie, fathered 4 puppies with Laika’s daughter.\n",
      "Dogs can discriminate the emotional expressions of human faces.\n"
     ]
    }
   ],
   "source": [
    "#2.5\n",
    "for number in [1,2,3,4,5]:\n",
    "     for number in [1,2,3,4,5]:\n",
    "         response = requests.get(\"https://dogapi.dog/api/v2/facts\",params = {\"limit\":1})\n",
    "         if response.status_code == 200:\n",
    "             data = response.json()\n",
    "             print(data[\"data\"][0][\"attributes\"][\"body\"])"
   ]
  },
  {
   "cell_type": "code",
   "execution_count": 117,
   "id": "045cf450",
   "metadata": {},
   "outputs": [],
   "source": [
    "url = \"https://dogapi.dog/api/v2/facts\"\n",
    "params = {\"limit\": 5}\n",
    "\n",
    "output_file = \"dog_facts.tsv\"\n",
    "\n",
    "response = requests.get(url, params=params)\n",
    "\n",
    "if response.status_code == 200:\n",
    "    data = response.json()[\"data\"]\n",
    "    with open(output_file, \"w\") as f:\n",
    "        f.write(\"ID\\tFact\\n\")\n",
    "        for fact in data:\n",
    "            fact_id = fact[\"id\"]\n",
    "            fact_body = fact[\"attributes\"][\"body\"]\n",
    "            f.write(f\"{fact_id}\\t{fact_body}\\n\")\n",
    "else:\n",
    "    print(\"Error retrieving dog facts. HTTP status code:\", response.status_code)"
   ]
  },
  {
   "cell_type": "code",
   "execution_count": null,
   "id": "64dd37b0",
   "metadata": {},
   "outputs": [],
   "source": [
    "# https://docs.google.com/spreadsheets/d/1vxgLiu0nDpJ1Cp2zlJ4mAQFEOc_EHz7-9wMi6T74jik/edit#gid=12871713"
   ]
  },
  {
   "cell_type": "code",
   "execution_count": null,
   "id": "fca4cfa7",
   "metadata": {},
   "outputs": [],
   "source": [
    "#3 Mapping!"
   ]
  },
  {
   "cell_type": "code",
   "execution_count": null,
   "id": "bafce7c9",
   "metadata": {},
   "outputs": [],
   "source": [
    "# 3.1\n",
    "# https://nominatim.openstreetmap.org/ui/search.html?q=gas+station+in+Duvall"
   ]
  },
  {
   "cell_type": "code",
   "execution_count": null,
   "id": "3b47bcc3",
   "metadata": {},
   "outputs": [],
   "source": [
    "# https://nominatim.openstreetmap.org/ui/search.html?q=gas+station+in+Carnation"
   ]
  },
  {
   "cell_type": "code",
   "execution_count": null,
   "id": "d7cd7f16",
   "metadata": {},
   "outputs": [],
   "source": [
    "# 3.2\n",
    "# https://nominatim.openstreetmap.org/ui/search.html?q=dentist+near+university"
   ]
  },
  {
   "cell_type": "code",
   "execution_count": null,
   "id": "5e6fe040",
   "metadata": {},
   "outputs": [],
   "source": [
    "# https://nominatim.openstreetmap.org/ui/search.html?q=dentist+near+downtown"
   ]
  },
  {
   "cell_type": "code",
   "execution_count": null,
   "id": "ba93c55f",
   "metadata": {},
   "outputs": [],
   "source": [
    "# 10"
   ]
  },
  {
   "cell_type": "code",
   "execution_count": null,
   "id": "2cc1e3b4",
   "metadata": {},
   "outputs": [],
   "source": [
    "# 3.3\n",
    "#34.8516451,-82.3982806 Falls Park Dentistry\n",
    "#https://nominatim.openstreetmap.org/ui/search.html?q=34.8516451%2C-82.3982806"
   ]
  },
  {
   "cell_type": "code",
   "execution_count": 51,
   "id": "68b07212",
   "metadata": {},
   "outputs": [
    {
     "name": "stdout",
     "output_type": "stream",
     "text": [
      "[]\n"
     ]
    }
   ],
   "source": [
    "# 3.4\n",
    "\n",
    "# https://nominatim.openstreetmap.org/ui/search.html?q=zipline+kingcounty+washington\n",
    "# I can‘t search any zipline address on nominatim\n"
   ]
  },
  {
   "cell_type": "code",
   "execution_count": 118,
   "id": "b378ae89",
   "metadata": {},
   "outputs": [
    {
     "name": "stdout",
     "output_type": "stream",
     "text": [
      "[{'place_id': 345010810, 'licence': 'Data © OpenStreetMap contributors, ODbL 1.0. https://osm.org/copyright', 'osm_type': 'way', 'osm_id': 1101786516, 'boundingbox': ['38.5817972', '38.581917', '-121.4849228', '-121.4846969'], 'lat': '38.5818571', 'lon': '-121.48480985', 'display_name': '15th Street, Sacramento, Sacramento County, CAL Fire Northern Region, California, 95811, United States', 'place_rank': 30, 'category': 'amenity', 'type': 'cafe', 'importance': 0.0001, 'icon': 'https://nominatim.openstreetmap.org/ui/mapicons/food_cafe.p.20.png'}, {'place_id': 345010811, 'licence': 'Data © OpenStreetMap contributors, ODbL 1.0. https://osm.org/copyright', 'osm_type': 'way', 'osm_id': 1101786517, 'boundingbox': ['38.580037', '38.5801714', '-121.4797255', '-121.4795078'], 'lat': '38.58010415', 'lon': '-121.4796166549119', 'display_name': 'G Street, Sacramento, Sacramento County, CAL Fire Northern Region, California, 95816, United States', 'place_rank': 30, 'category': 'amenity', 'type': 'cafe', 'importance': 0.0001, 'icon': 'https://nominatim.openstreetmap.org/ui/mapicons/food_cafe.p.20.png'}, {'place_id': 345008149, 'licence': 'Data © OpenStreetMap contributors, ODbL 1.0. https://osm.org/copyright', 'osm_type': 'way', 'osm_id': 493924865, 'boundingbox': ['38.5705382', '38.5707935', '-121.4565675', '-121.4563068'], 'lat': '38.5706711', 'lon': '-121.45643808216103', 'display_name': '38th Street, Sacramento, Sacramento County, CAL Fire Northern Region, California, 95817, United States', 'place_rank': 30, 'category': 'amenity', 'type': 'cafe', 'importance': 0.0001, 'icon': 'https://nominatim.openstreetmap.org/ui/mapicons/food_cafe.p.20.png'}, {'place_id': 345008953, 'licence': 'Data © OpenStreetMap contributors, ODbL 1.0. https://osm.org/copyright', 'osm_type': 'way', 'osm_id': 1101780991, 'boundingbox': ['38.5627115', '38.5628017', '-121.4252527', '-121.4251369'], 'lat': '38.56276055', 'lon': '-121.42519464049731', 'display_name': 'Moraga Way, Sacramento, Sacramento County, CAL Fire Northern Region, California, 95819, United States', 'place_rank': 30, 'category': 'amenity', 'type': 'cafe', 'importance': 0.0001, 'icon': 'https://nominatim.openstreetmap.org/ui/mapicons/food_cafe.p.20.png'}, {'place_id': 345010813, 'licence': 'Data © OpenStreetMap contributors, ODbL 1.0. https://osm.org/copyright', 'osm_type': 'way', 'osm_id': 1101786519, 'boundingbox': ['38.5565157', '38.5566332', '-121.4269346', '-121.4267648'], 'lat': '38.55657445', 'lon': '-121.42684969999999', 'display_name': 'Elvas Avenue, Sacramento, Sacramento County, CAL Fire Northern Region, California, 95819, United States', 'place_rank': 30, 'category': 'amenity', 'type': 'cafe', 'importance': 0.0001, 'icon': 'https://nominatim.openstreetmap.org/ui/mapicons/food_cafe.p.20.png'}, {'place_id': 283941619, 'licence': 'Data © OpenStreetMap contributors, ODbL 1.0. https://osm.org/copyright', 'osm_type': 'way', 'osm_id': 959114825, 'boundingbox': ['38.5837567', '38.5838845', '-121.511248', '-121.5111353'], 'lat': '38.583820599999996', 'lon': '-121.51119165', 'display_name': 'Tree House Cafe West Sac, 630, 3rd Street, West Sacramento, Yolo County, California, 95605, United States', 'place_rank': 30, 'category': 'amenity', 'type': 'cafe', 'importance': 0.0001, 'icon': 'https://nominatim.openstreetmap.org/ui/mapicons/food_cafe.p.20.png'}, {'place_id': 44924256, 'licence': 'Data © OpenStreetMap contributors, ODbL 1.0. https://osm.org/copyright', 'osm_type': 'node', 'osm_id': 3748097674, 'boundingbox': ['38.5888857', '38.5889857', '-121.5117212', '-121.5116212'], 'lat': '38.5889357', 'lon': '-121.5116712', 'display_name': \"Sal's West, 400, C Street, Broderick, West Sacramento, Yolo County, California, 95605, United States\", 'place_rank': 30, 'category': 'amenity', 'type': 'cafe', 'importance': 0.0001, 'icon': 'https://nominatim.openstreetmap.org/ui/mapicons/food_cafe.p.20.png'}, {'place_id': 38156100, 'licence': 'Data © OpenStreetMap contributors, ODbL 1.0. https://osm.org/copyright', 'osm_type': 'node', 'osm_id': 3104175370, 'boundingbox': ['38.5731092', '38.5732092', '-121.4872218', '-121.4871218'], 'lat': '38.5731592', 'lon': '-121.4871718', 'display_name': \"Simon's Bar and Cafe, 1415, Neighbors Alley, Sacramento, Sacramento County, CAL Fire Northern Region, California, 95811, United States\", 'place_rank': 30, 'category': 'amenity', 'type': 'pub', 'importance': 9.99999999995449e-06, 'icon': 'https://nominatim.openstreetmap.org/ui/mapicons/food_pub.p.20.png'}, {'place_id': 32638274, 'licence': 'Data © OpenStreetMap contributors, ODbL 1.0. https://osm.org/copyright', 'osm_type': 'node', 'osm_id': 2853236259, 'boundingbox': ['38.5740809', '38.5741809', '-121.4753929', '-121.4752929'], 'lat': '38.5741309', 'lon': '-121.4753429', 'display_name': 'Der Biergarten, 2332, K Street, Sacramento, Sacramento County, CAL Fire Northern Region, California, 95816, United States', 'place_rank': 30, 'category': 'amenity', 'type': 'pub', 'importance': 9.99999999995449e-06, 'icon': 'https://nominatim.openstreetmap.org/ui/mapicons/food_pub.p.20.png'}, {'place_id': 32712296, 'licence': 'Data © OpenStreetMap contributors, ODbL 1.0. https://osm.org/copyright', 'osm_type': 'node', 'osm_id': 2854230060, 'boundingbox': ['38.5758867', '38.5759867', '-121.4804901', '-121.4803901'], 'lat': '38.5759367', 'lon': '-121.4804401', 'display_name': 'Block Butcher Bar, 1050, 20th Street, Sacramento, Sacramento County, CAL Fire Northern Region, California, 95811, United States', 'place_rank': 30, 'category': 'amenity', 'type': 'pub', 'importance': 9.99999999995449e-06, 'icon': 'https://nominatim.openstreetmap.org/ui/mapicons/food_pub.p.20.png'}, {'place_id': 81670287, 'licence': 'Data © OpenStreetMap contributors, ODbL 1.0. https://osm.org/copyright', 'osm_type': 'node', 'osm_id': 8147325722, 'boundingbox': ['38.5783376', '38.5784376', '-121.4811343', '-121.4810343'], 'lat': '38.5783876', 'lon': '-121.4810843', 'display_name': 'At Ease Brewing Company, 1825, I Street, Sacramento, Sacramento County, CAL Fire Northern Region, California, 95811, United States', 'place_rank': 30, 'category': 'amenity', 'type': 'pub', 'importance': 9.99999999995449e-06, 'icon': 'https://nominatim.openstreetmap.org/ui/mapicons/food_pub.p.20.png'}, {'place_id': 53003261, 'licence': 'Data © OpenStreetMap contributors, ODbL 1.0. https://osm.org/copyright', 'osm_type': 'node', 'osm_id': 4721334261, 'boundingbox': ['38.5732952', '38.5733952', '-121.4796858', '-121.4795858'], 'lat': '38.5733452', 'lon': '-121.4796358', 'display_name': 'Kupros Craft House, 1217, 21st Street, Sacramento, Sacramento County, CAL Fire Northern Region, California, 95811, United States', 'place_rank': 30, 'category': 'amenity', 'type': 'pub', 'importance': 9.99999999995449e-06, 'icon': 'https://nominatim.openstreetmap.org/ui/mapicons/food_pub.p.20.png'}, {'place_id': 49868283, 'licence': 'Data © OpenStreetMap contributors, ODbL 1.0. https://osm.org/copyright', 'osm_type': 'node', 'osm_id': 4430112631, 'boundingbox': ['38.5751741', '38.5752741', '-121.4842513', '-121.4841513'], 'lat': '38.5752241', 'lon': '-121.4842013', 'display_name': 'Big Stump Brewing, 1716, L Street, Sacramento, Sacramento County, CAL Fire Northern Region, California, 95811, United States', 'place_rank': 30, 'category': 'amenity', 'type': 'pub', 'importance': 9.99999999995449e-06, 'icon': 'https://nominatim.openstreetmap.org/ui/mapicons/food_pub.p.20.png'}, {'place_id': 41835585, 'licence': 'Data © OpenStreetMap contributors, ODbL 1.0. https://osm.org/copyright', 'osm_type': 'node', 'osm_id': 3384050136, 'boundingbox': ['38.5771223', '38.5772223', '-121.4823389', '-121.4822389'], 'lat': '38.5771723', 'lon': '-121.4822889', 'display_name': 'Streets of London Pub, J Street, Sacramento, Sacramento County, CAL Fire Northern Region, California, 95816, United States', 'place_rank': 30, 'category': 'amenity', 'type': 'pub', 'importance': 9.99999999995449e-06, 'icon': 'https://nominatim.openstreetmap.org/ui/mapicons/food_pub.p.20.png'}, {'place_id': 39367804, 'licence': 'Data © OpenStreetMap contributors, ODbL 1.0. https://osm.org/copyright', 'osm_type': 'node', 'osm_id': 3128223901, 'boundingbox': ['38.5607272', '38.5608272', '-121.4899898', '-121.4898898'], 'lat': '38.5607772', 'lon': '-121.4899398', 'display_name': 'New Helvetia Brewing, 1730, Broadway, Land Park, Sacramento, Sacramento County, CAL Fire Northern Region, California, 95818, United States', 'place_rank': 30, 'category': 'amenity', 'type': 'pub', 'importance': 9.99999999995449e-06, 'icon': 'https://nominatim.openstreetmap.org/ui/mapicons/food_pub.p.20.png'}, {'place_id': 41256899, 'licence': 'Data © OpenStreetMap contributors, ODbL 1.0. https://osm.org/copyright', 'osm_type': 'node', 'osm_id': 3284627748, 'boundingbox': ['38.5707939', '38.5708939', '-121.457507', '-121.457407'], 'lat': '38.5708439', 'lon': '-121.457457', 'display_name': 'Bonn Lair, 3651, J Street, Sacramento, Sacramento County, CAL Fire Northern Region, California, 95816, United States', 'place_rank': 30, 'category': 'amenity', 'type': 'pub', 'importance': 9.99999999995449e-06, 'icon': 'https://nominatim.openstreetmap.org/ui/mapicons/food_pub.p.20.png'}, {'place_id': 13549146, 'licence': 'Data © OpenStreetMap contributors, ODbL 1.0. https://osm.org/copyright', 'osm_type': 'node', 'osm_id': 1422620367, 'boundingbox': ['38.5715274', '38.5716274', '-121.4970233', '-121.4969233'], 'lat': '38.5715774', 'lon': '-121.4969733', 'display_name': 'Fox and Goose Public House, R Street, Sacramento, Sacramento County, CAL Fire Northern Region, California, 95811, United States', 'place_rank': 30, 'category': 'amenity', 'type': 'pub', 'importance': 9.99999999995449e-06, 'icon': 'https://nominatim.openstreetmap.org/ui/mapicons/food_pub.p.20.png'}, {'place_id': 13675648, 'licence': 'Data © OpenStreetMap contributors, ODbL 1.0. https://osm.org/copyright', 'osm_type': 'node', 'osm_id': 1408668921, 'boundingbox': ['38.5716096', '38.5717096', '-121.4882484', '-121.4881484'], 'lat': '38.5716596', 'lon': '-121.4881984', 'display_name': 'Karma Brew, 1530, 16th Street, Sacramento, Sacramento County, CAL Fire Northern Region, California, 95811, United States', 'place_rank': 30, 'category': 'amenity', 'type': 'pub', 'importance': 9.99999999995449e-06, 'icon': 'https://nominatim.openstreetmap.org/ui/mapicons/food_pub.p.20.png'}, {'place_id': 62764879, 'licence': 'Data © OpenStreetMap contributors, ODbL 1.0. https://osm.org/copyright', 'osm_type': 'node', 'osm_id': 5780635887, 'boundingbox': ['38.5650513', '38.5651513', '-121.4911323', '-121.4910323'], 'lat': '38.5651013', 'lon': '-121.4910823', 'display_name': 'Flame Club, V Street, Land Park, Sacramento, Sacramento County, CAL Fire Northern Region, California, 95811, United States', 'place_rank': 30, 'category': 'amenity', 'type': 'pub', 'importance': 9.99999999995449e-06, 'icon': 'https://nominatim.openstreetmap.org/ui/mapicons/food_pub.p.20.png'}, {'place_id': 95943921, 'licence': 'Data © OpenStreetMap contributors, ODbL 1.0. https://osm.org/copyright', 'osm_type': 'node', 'osm_id': 9376816352, 'boundingbox': ['38.5685959', '38.5686959', '-121.4885723', '-121.4884723'], 'lat': '38.5686459', 'lon': '-121.4885223', 'display_name': 'Device Brewing, Rice Alley, Sacramento, Sacramento County, CAL Fire Northern Region, California, 95811, United States', 'place_rank': 30, 'category': 'amenity', 'type': 'pub', 'importance': 9.99999999995449e-06, 'icon': 'https://nominatim.openstreetmap.org/ui/mapicons/food_pub.p.20.png'}, {'place_id': 41898386, 'licence': 'Data © OpenStreetMap contributors, ODbL 1.0. https://osm.org/copyright', 'osm_type': 'node', 'osm_id': 3382505786, 'boundingbox': ['38.5815466', '38.5816466', '-121.504658', '-121.504558'], 'lat': '38.5815966', 'lon': '-121.504608', 'display_name': \"O'Mally's Irish Pub, 1109, 2nd Street, Sacramento, Sacramento County, CAL Fire Northern Region, California, 95814, United States\", 'place_rank': 30, 'category': 'amenity', 'type': 'pub', 'importance': 9.99999999995449e-06, 'icon': 'https://nominatim.openstreetmap.org/ui/mapicons/food_pub.p.20.png'}, {'place_id': 184874466, 'licence': 'Data © OpenStreetMap contributors, ODbL 1.0. https://osm.org/copyright', 'osm_type': 'way', 'osm_id': 331299388, 'boundingbox': ['38.5700324', '38.5702754', '-121.49153', '-121.4912957'], 'lat': '38.5701539', 'lon': '-121.49141293094071', 'display_name': 'Shady Lady Saloon, 1409, R Street, Sacramento, Sacramento County, CAL Fire Northern Region, California, 95811, United States', 'place_rank': 30, 'category': 'amenity', 'type': 'pub', 'importance': 9.99999999995449e-06, 'icon': 'https://nominatim.openstreetmap.org/ui/mapicons/food_pub.p.20.png'}, {'place_id': 250795879, 'licence': 'Data © OpenStreetMap contributors, ODbL 1.0. https://osm.org/copyright', 'osm_type': 'way', 'osm_id': 736410833, 'boundingbox': ['38.5690315', '38.5692689', '-121.4711713', '-121.4709567'], 'lat': '38.5691494', 'lon': '-121.47106603544123', 'display_name': 'PARAGARY’S, 1401, 28th Street, Sacramento, Sacramento County, CAL Fire Northern Region, California, 95816, United States', 'place_rank': 30, 'category': 'amenity', 'type': 'pub', 'importance': 9.99999999995449e-06, 'icon': 'https://nominatim.openstreetmap.org/ui/mapicons/food_pub.p.20.png'}, {'place_id': 277874532, 'licence': 'Data © OpenStreetMap contributors, ODbL 1.0. https://osm.org/copyright', 'osm_type': 'way', 'osm_id': 918050374, 'boundingbox': ['38.5710218', '38.5714523', '-121.4814597', '-121.4811615'], 'lat': '38.57123705', 'lon': '-121.48131062291091', 'display_name': 'Larry’s Lounge, Neighbors Alley, Sacramento, Sacramento County, CAL Fire Northern Region, California, 95816, United States', 'place_rank': 30, 'category': 'amenity', 'type': 'pub', 'importance': 9.99999999995449e-06, 'icon': 'https://nominatim.openstreetmap.org/ui/mapicons/food_pub.p.20.png'}, {'place_id': 285704503, 'licence': 'Data © OpenStreetMap contributors, ODbL 1.0. https://osm.org/copyright', 'osm_type': 'way', 'osm_id': 980166690, 'boundingbox': ['38.5662249', '38.5664783', '-121.467915', '-121.4677378'], 'lat': '38.56634895', 'lon': '-121.46782639507958', 'display_name': 'Hawks Public House, 1525, Alhambra Boulevard, Sacramento, Sacramento County, CAL Fire Northern Region, California, 95816, United States', 'place_rank': 30, 'category': 'amenity', 'type': 'pub', 'importance': 9.99999999995449e-06, 'icon': 'https://nominatim.openstreetmap.org/ui/mapicons/food_pub.p.20.png'}, {'place_id': 286458455, 'licence': 'Data © OpenStreetMap contributors, ODbL 1.0. https://osm.org/copyright', 'osm_type': 'way', 'osm_id': 983226981, 'boundingbox': ['38.5638713', '38.5639865', '-121.4725091', '-121.4723452'], 'lat': '38.5639289', 'lon': '-121.47242715', 'display_name': 'Temple Coffee Roasters, 2829, S Street, Sacramento, Sacramento County, CAL Fire Northern Region, California, 95816, United States', 'place_rank': 30, 'category': 'amenity', 'type': 'cafe', 'importance': 9.99999999995449e-06, 'icon': 'https://nominatim.openstreetmap.org/ui/mapicons/food_cafe.p.20.png'}, {'place_id': 338706563, 'licence': 'Data © OpenStreetMap contributors, ODbL 1.0. https://osm.org/copyright', 'osm_type': 'way', 'osm_id': 1081981387, 'boundingbox': ['38.5714221', '38.5715717', '-121.4490807', '-121.4488181'], 'lat': '38.5714979', 'lon': '-121.44894353263535', 'display_name': 'Temple Coffee, 42nd Street, Sacramento, Sacramento County, CAL Fire Northern Region, California, 95819, United States', 'place_rank': 30, 'category': 'amenity', 'type': 'cafe', 'importance': 9.99999999995449e-06, 'icon': 'https://nominatim.openstreetmap.org/ui/mapicons/food_cafe.p.20.png'}, {'place_id': 338706674, 'licence': 'Data © OpenStreetMap contributors, ODbL 1.0. https://osm.org/copyright', 'osm_type': 'node', 'osm_id': 9916195410, 'boundingbox': ['38.5709778', '38.5710778', '-121.4881482', '-121.4880482'], 'lat': '38.5710278', 'lon': '-121.4880982', 'display_name': 'Temple Coffee, Powerhouse Alley, Sacramento, Sacramento County, CAL Fire Northern Region, California, 95811, United States', 'place_rank': 30, 'category': 'amenity', 'type': 'cafe', 'importance': 9.99999999995449e-06, 'icon': 'https://nominatim.openstreetmap.org/ui/mapicons/food_cafe.p.20.png'}, {'place_id': 345007819, 'licence': 'Data © OpenStreetMap contributors, ODbL 1.0. https://osm.org/copyright', 'osm_type': 'node', 'osm_id': 10082337181, 'boundingbox': ['38.5598112', '38.5599112', '-121.4239708', '-121.4238708'], 'lat': '38.5598612', 'lon': '-121.4239208', 'display_name': 'The Grumpy Mule, breezeway, Sacramento, Sacramento County, CAL Fire Northern Region, California, 95819, United States', 'place_rank': 30, 'category': 'amenity', 'type': 'cafe', 'importance': 9.99999999995449e-06, 'icon': 'https://nominatim.openstreetmap.org/ui/mapicons/food_cafe.p.20.png'}, {'place_id': 345008135, 'licence': 'Data © OpenStreetMap contributors, ODbL 1.0. https://osm.org/copyright', 'osm_type': 'node', 'osm_id': 10082332452, 'boundingbox': ['38.5618059', '38.5619059', '-121.4463611', '-121.4462611'], 'lat': '38.5618559', 'lon': '-121.4463111', 'display_name': 'Chocolate Fish Coffee Roasters, Folsom Boulevard, Sacramento, Sacramento County, CAL Fire Northern Region, California, 95819, United States', 'place_rank': 30, 'category': 'amenity', 'type': 'cafe', 'importance': 9.99999999995449e-06, 'icon': 'https://nominatim.openstreetmap.org/ui/mapicons/food_cafe.p.20.png'}, {'place_id': 345008137, 'licence': 'Data © OpenStreetMap contributors, ODbL 1.0. https://osm.org/copyright', 'osm_type': 'node', 'osm_id': 10082332454, 'boundingbox': ['38.5704299', '38.5705299', '-121.4574892', '-121.4573892'], 'lat': '38.5704799', 'lon': '-121.4574392', 'display_name': 'Pachamama Coffee Bar, J Street, Sacramento, Sacramento County, CAL Fire Northern Region, California, 95816, United States', 'place_rank': 30, 'category': 'amenity', 'type': 'cafe', 'importance': 9.99999999995449e-06, 'icon': 'https://nominatim.openstreetmap.org/ui/mapicons/food_cafe.p.20.png'}, {'place_id': 345008914, 'licence': 'Data © OpenStreetMap contributors, ODbL 1.0. https://osm.org/copyright', 'osm_type': 'node', 'osm_id': 10082375020, 'boundingbox': ['38.5627052', '38.5628052', '-121.4252467', '-121.4251467'], 'lat': '38.5627552', 'lon': '-121.4251967', 'display_name': 'Java City, Moraga Way, Sacramento, Sacramento County, CAL Fire Northern Region, California, 95819, United States', 'place_rank': 30, 'category': 'amenity', 'type': 'cafe', 'importance': 9.99999999995449e-06, 'icon': 'https://nominatim.openstreetmap.org/ui/mapicons/food_cafe.p.20.png'}, {'place_id': 345009994, 'licence': 'Data © OpenStreetMap contributors, ODbL 1.0. https://osm.org/copyright', 'osm_type': 'node', 'osm_id': 5795005467, 'boundingbox': ['38.5592593', '38.5593593', '-121.441224', '-121.441124'], 'lat': '38.5593093', 'lon': '-121.441174', 'display_name': 'Starbucks, Folsom Boulevard, Sacramento, Sacramento County, CAL Fire Northern Region, California, 95819, United States', 'place_rank': 30, 'category': 'amenity', 'type': 'cafe', 'importance': 9.99999999995449e-06, 'icon': 'https://nominatim.openstreetmap.org/ui/mapicons/food_cafe.p.20.png'}, {'place_id': 345010800, 'licence': 'Data © OpenStreetMap contributors, ODbL 1.0. https://osm.org/copyright', 'osm_type': 'node', 'osm_id': 10082392888, 'boundingbox': ['38.5770385', '38.5771385', '-121.4795248', '-121.4794248'], 'lat': '38.5770885', 'lon': '-121.4794748', 'display_name': 'Pachamama Coffee Roasters, Improv Alley, Sacramento, Sacramento County, CAL Fire Northern Region, California, 95816, United States', 'place_rank': 30, 'category': 'amenity', 'type': 'cafe', 'importance': 9.99999999995449e-06, 'icon': 'https://nominatim.openstreetmap.org/ui/mapicons/food_cafe.p.20.png'}, {'place_id': 345010802, 'licence': 'Data © OpenStreetMap contributors, ODbL 1.0. https://osm.org/copyright', 'osm_type': 'node', 'osm_id': 10082392900, 'boundingbox': ['38.556525', '38.556625', '-121.4268957', '-121.4267957'], 'lat': '38.556575', 'lon': '-121.4268457', 'display_name': 'The Mill, Elvas Avenue, Sacramento, Sacramento County, CAL Fire Northern Region, California, 95819, United States', 'place_rank': 30, 'category': 'amenity', 'type': 'cafe', 'importance': 9.99999999995449e-06, 'icon': 'https://nominatim.openstreetmap.org/ui/mapicons/food_cafe.p.20.png'}, {'place_id': 47714037, 'licence': 'Data © OpenStreetMap contributors, ODbL 1.0. https://osm.org/copyright', 'osm_type': 'node', 'osm_id': 4167777902, 'boundingbox': ['38.5787205', '38.5788205', '-121.4928796', '-121.4927796'], 'lat': '38.5787705', 'lon': '-121.4928296', 'display_name': 'Ambrosia Cafe, 1100, 11th Street, Sacramento, Sacramento County, CAL Fire Northern Region, California, 95814, United States', 'place_rank': 30, 'category': 'amenity', 'type': 'cafe', 'importance': 9.99999999995449e-06, 'icon': 'https://nominatim.openstreetmap.org/ui/mapicons/food_cafe.p.20.png'}, {'place_id': 35913794, 'licence': 'Data © OpenStreetMap contributors, ODbL 1.0. https://osm.org/copyright', 'osm_type': 'node', 'osm_id': 2968347794, 'boundingbox': ['38.5812605', '38.5813605', '-121.4947816', '-121.4946816'], 'lat': '38.5813105', 'lon': '-121.4947316', 'display_name': 'Starbucks, 980, 9th Street, Sacramento, Sacramento County, CAL Fire Northern Region, California, 95814, United States', 'place_rank': 30, 'category': 'amenity', 'type': 'cafe', 'importance': 9.99999999995449e-06, 'icon': 'https://nominatim.openstreetmap.org/ui/mapicons/food_cafe.p.20.png'}, {'place_id': 57794397, 'licence': 'Data © OpenStreetMap contributors, ODbL 1.0. https://osm.org/copyright', 'osm_type': 'node', 'osm_id': 5268108460, 'boundingbox': ['38.578311', '38.578411', '-121.4810516', '-121.4809516'], 'lat': '38.578361', 'lon': '-121.4810016', 'display_name': 'The Mill, 1827, I Street, Sacramento, Sacramento County, CAL Fire Northern Region, California, 95811, United States', 'place_rank': 30, 'category': 'amenity', 'type': 'cafe', 'importance': 9.99999999995449e-06, 'icon': 'https://nominatim.openstreetmap.org/ui/mapicons/food_cafe.p.20.png'}, {'place_id': 60990846, 'licence': 'Data © OpenStreetMap contributors, ODbL 1.0. https://osm.org/copyright', 'osm_type': 'node', 'osm_id': 5638635583, 'boundingbox': ['38.5781254', '38.5782254', '-121.4942849', '-121.4941849'], 'lat': '38.5781754', 'lon': '-121.4942349', 'display_name': 'Starbucks, 1003, L Street, Sacramento, Sacramento County, CAL Fire Northern Region, California, 95814, United States', 'place_rank': 30, 'category': 'amenity', 'type': 'cafe', 'importance': 9.99999999995449e-06, 'icon': 'https://nominatim.openstreetmap.org/ui/mapicons/food_cafe.p.20.png'}, {'place_id': 185066055, 'licence': 'Data © OpenStreetMap contributors, ODbL 1.0. https://osm.org/copyright', 'osm_type': 'way', 'osm_id': 331127152, 'boundingbox': ['38.5813309', '38.5814407', '-121.4947824', '-121.4946531'], 'lat': '38.5813858', 'lon': '-121.49471775', 'display_name': 'La Bou Bakery & Cafe, 900, 9th Street, Sacramento, Sacramento County, CAL Fire Northern Region, California, 95814, United States', 'place_rank': 30, 'category': 'amenity', 'type': 'cafe', 'importance': 9.99999999995449e-06, 'icon': 'https://nominatim.openstreetmap.org/ui/mapicons/food_cafe.p.20.png'}, {'place_id': 25255161, 'licence': 'Data © OpenStreetMap contributors, ODbL 1.0. https://osm.org/copyright', 'osm_type': 'node', 'osm_id': 2704677594, 'boundingbox': ['38.5733226', '38.5734226', '-121.4900832', '-121.4899832'], 'lat': '38.5733726', 'lon': '-121.4900332', 'display_name': \"Zia's, O Street, Sacramento, Sacramento County, CAL Fire Northern Region, California, 95816, United States\", 'place_rank': 30, 'category': 'amenity', 'type': 'cafe', 'importance': 9.99999999995449e-06, 'icon': 'https://nominatim.openstreetmap.org/ui/mapicons/food_cafe.p.20.png'}, {'place_id': 24070225, 'licence': 'Data © OpenStreetMap contributors, ODbL 1.0. https://osm.org/copyright', 'osm_type': 'node', 'osm_id': 2622424275, 'boundingbox': ['38.5750872', '38.5751872', '-121.4826487', '-121.4825487'], 'lat': '38.5751372', 'lon': '-121.4825987', 'display_name': 'Ginger Elizabeth Chocolates, 1801, L Street, Sacramento, Sacramento County, CAL Fire Northern Region, California, 95811, United States', 'place_rank': 30, 'category': 'amenity', 'type': 'cafe', 'importance': 9.99999999995449e-06, 'icon': 'https://nominatim.openstreetmap.org/ui/mapicons/food_cafe.p.20.png'}, {'place_id': 82479692, 'licence': 'Data © OpenStreetMap contributors, ODbL 1.0. https://osm.org/copyright', 'osm_type': 'node', 'osm_id': 8147301361, 'boundingbox': ['38.5771199', '38.5772199', '-121.4810546', '-121.4809546'], 'lat': '38.5771699', 'lon': '-121.4810046', 'display_name': 'Starbucks, 1901, J Street, Sacramento, Sacramento County, CAL Fire Northern Region, California, 95811, United States', 'place_rank': 30, 'category': 'amenity', 'type': 'cafe', 'importance': 9.99999999995449e-06, 'icon': 'https://nominatim.openstreetmap.org/ui/mapicons/food_cafe.p.20.png'}, {'place_id': 56357399, 'licence': 'Data © OpenStreetMap contributors, ODbL 1.0. https://osm.org/copyright', 'osm_type': 'node', 'osm_id': 5024779821, 'boundingbox': ['38.566606', '38.566706', '-121.4634742', '-121.4633742'], 'lat': '38.566656', 'lon': '-121.4634242', 'display_name': 'Coffee Works, 34th Street 35th Street Alley, Sacramento, Sacramento County, CAL Fire Northern Region, California, 95817, United States', 'place_rank': 30, 'category': 'amenity', 'type': 'cafe', 'importance': 9.99999999995449e-06, 'icon': 'https://nominatim.openstreetmap.org/ui/mapicons/food_cafe.p.20.png'}, {'place_id': 24164457, 'licence': 'Data © OpenStreetMap contributors, ODbL 1.0. https://osm.org/copyright', 'osm_type': 'node', 'osm_id': 2622424273, 'boundingbox': ['38.5750057', '38.5751057', '-121.4823752', '-121.4822752'], 'lat': '38.5750557', 'lon': '-121.4823252', 'display_name': 'Yogurtagogo, 1801, L Street, Sacramento, Sacramento County, CAL Fire Northern Region, California, 95811, United States', 'place_rank': 30, 'category': 'amenity', 'type': 'cafe', 'importance': 9.99999999995449e-06, 'icon': 'https://nominatim.openstreetmap.org/ui/mapicons/food_cafe.p.20.png'}, {'place_id': 51721612, 'licence': 'Data © OpenStreetMap contributors, ODbL 1.0. https://osm.org/copyright', 'osm_type': 'node', 'osm_id': 4558011242, 'boundingbox': ['38.5678871', '38.5679871', '-121.430784', '-121.430684'], 'lat': '38.5679371', 'lon': '-121.430734', 'display_name': 'Fremont Presbyterian Coffee Bar, H Street, Sacramento, Sacramento County, CAL Fire Northern Region, California, 95819, United States', 'place_rank': 30, 'category': 'amenity', 'type': 'cafe', 'importance': 9.99999999995449e-06, 'icon': 'https://nominatim.openstreetmap.org/ui/mapicons/food_cafe.p.20.png'}, {'place_id': 49448731, 'licence': 'Data © OpenStreetMap contributors, ODbL 1.0. https://osm.org/copyright', 'osm_type': 'node', 'osm_id': 4331400989, 'boundingbox': ['38.5747072', '38.5748072', '-121.4776443', '-121.4775443'], 'lat': '38.5747572', 'lon': '-121.4775943', 'display_name': 'Temple Coffee, 2200, K Street, Sacramento, Sacramento County, CAL Fire Northern Region, California, 95816, United States', 'place_rank': 30, 'category': 'amenity', 'type': 'cafe', 'importance': 9.99999999995449e-06, 'icon': 'https://nominatim.openstreetmap.org/ui/mapicons/food_cafe.p.20.png'}, {'place_id': 39102050, 'licence': 'Data © OpenStreetMap contributors, ODbL 1.0. https://osm.org/copyright', 'osm_type': 'node', 'osm_id': 3128413777, 'boundingbox': ['38.5747995', '38.5748995', '-121.4843664', '-121.4842664'], 'lat': '38.5748495', 'lon': '-121.4843164', 'display_name': 'Old Soul Coffee Co., Liestal Alley, Sacramento, Sacramento County, CAL Fire Northern Region, California, 95811, United States', 'place_rank': 30, 'category': 'amenity', 'type': 'cafe', 'importance': 9.99999999995449e-06, 'icon': 'https://nominatim.openstreetmap.org/ui/mapicons/food_cafe.p.20.png'}, {'place_id': 42980832, 'licence': 'Data © OpenStreetMap contributors, ODbL 1.0. https://osm.org/copyright', 'osm_type': 'node', 'osm_id': 3506153178, 'boundingbox': ['38.5798861', '38.5799861', '-121.493886', '-121.493786'], 'lat': '38.5799361', 'lon': '-121.493836', 'display_name': 'Insight Coffee, Jazz Alley, Sacramento, Sacramento County, CAL Fire Northern Region, California, 95814, United States', 'place_rank': 30, 'category': 'amenity', 'type': 'cafe', 'importance': 9.99999999995449e-06, 'icon': 'https://nominatim.openstreetmap.org/ui/mapicons/food_cafe.p.20.png'}, {'place_id': 41586245, 'licence': 'Data © OpenStreetMap contributors, ODbL 1.0. https://osm.org/copyright', 'osm_type': 'node', 'osm_id': 3382505780, 'boundingbox': ['38.5796004', '38.5797004', '-121.4951162', '-121.4950162'], 'lat': '38.5796504', 'lon': '-121.4950662', 'display_name': \"Estelle's Patisserie, 901, K Street, Sacramento, Sacramento County, CAL Fire Northern Region, California, 95814, United States\", 'place_rank': 30, 'category': 'amenity', 'type': 'cafe', 'importance': 9.99999999995449e-06, 'icon': 'https://nominatim.openstreetmap.org/ui/mapicons/food_cafe.p.20.png'}]\n"
     ]
    }
   ],
   "source": [
    "url = \"https://nominatim.openstreetmap.org/search\"\n",
    "my_params = {'q' : \"[cafe]\",\n",
    "             'format' : 'jsonv2',\n",
    "             'viewbox' : '-121.51409,38.59500,-121.42371,38.55528',\n",
    "             'bounded' : 1,\n",
    "             'limit' : 50}\n",
    "\n",
    "response = requests.get(url, params=my_params)\n",
    "\n",
    "if response.status_code == 200:\n",
    "    data = response.json()\n",
    "    \n",
    "    print(data)\n",
    "else:\n",
    "    print(\"ERROR: request was not successfully\")"
   ]
  },
  {
   "cell_type": "code",
   "execution_count": 121,
   "id": "03429334",
   "metadata": {},
   "outputs": [
    {
     "name": "stdout",
     "output_type": "stream",
     "text": [
      "[{'place_id': 211002162, 'licence': 'Data © OpenStreetMap contributors, ODbL 1.0. https://osm.org/copyright', 'osm_type': 'way', 'osm_id': 468831136, 'boundingbox': ['38.5519012', '38.5684285', '-121.4311', '-121.4153629'], 'lat': '38.5599044', 'lon': '-121.42408187463846', 'display_name': 'California State University - Sacramento, 6000, J Street, Sacramento, Sacramento County, CAL Fire Northern Region, California, 95819, United States', 'place_rank': 30, 'category': 'amenity', 'type': 'university', 'importance': 0.4547089835058039, 'icon': 'https://nominatim.openstreetmap.org/ui/mapicons/education_university.p.20.png'}, {'place_id': 168535717, 'licence': 'Data © OpenStreetMap contributors, ODbL 1.0. https://osm.org/copyright', 'osm_type': 'way', 'osm_id': 252838130, 'boundingbox': ['38.5801224', '38.5806585', '-121.5066974', '-121.5055089'], 'lat': '38.580382099999994', 'lon': '-121.50582289825674', 'display_name': 'Drexel University Sacramento, 1, Capitol Mall, Sacramento, Sacramento County, CAL Fire Northern Region, California, 95814, United States', 'place_rank': 30, 'category': 'amenity', 'type': 'university', 'importance': 9.99999999995449e-06, 'icon': 'https://nominatim.openstreetmap.org/ui/mapicons/education_university.p.20.png'}, {'place_id': 185118245, 'licence': 'Data © OpenStreetMap contributors, ODbL 1.0. https://osm.org/copyright', 'osm_type': 'way', 'osm_id': 331343907, 'boundingbox': ['38.5779011', '38.5783556', '-121.482189', '-121.4817504'], 'lat': '38.5781318', 'lon': '-121.48196239421537', 'display_name': 'State Capital Center, 1800, I Street, Sacramento, Sacramento County, CAL Fire Northern Region, California, 95811, United States', 'place_rank': 30, 'category': 'amenity', 'type': 'university', 'importance': 9.99999999995449e-06, 'icon': 'https://nominatim.openstreetmap.org/ui/mapicons/education_university.p.20.png'}]\n"
     ]
    }
   ],
   "source": [
    "url = \"https://nominatim.openstreetmap.org/search\"\n",
    "my_params = {'q' : \"[university]\",\n",
    "             'format' : 'jsonv2',\n",
    "             'viewbox' : '-121.51409,38.59500,-121.42371,38.55528',\n",
    "             'bounded' : 1,\n",
    "             'limit' : 50}\n",
    "\n",
    "response = requests.get(url, params=my_params)\n",
    "\n",
    "if response.status_code == 200:\n",
    "    data = response.json()\n",
    "    \n",
    "    print(data)\n",
    "else:\n",
    "    print(\"ERROR: request was not successfully\")\n",
    "    \n",
    "# when i type university i can have result , \n",
    "#so i think the code is correct,\n",
    "#but when i type 'college' it can not show any result"
   ]
  },
  {
   "cell_type": "code",
   "execution_count": 122,
   "id": "a30439ef",
   "metadata": {},
   "outputs": [
    {
     "name": "stdout",
     "output_type": "stream",
     "text": [
      "[]\n"
     ]
    }
   ],
   "source": [
    "url = \"https://nominatim.openstreetmap.org/search\"\n",
    "my_params = {'q' : \"[college]\",\n",
    "             'format' : 'jsonv2',\n",
    "             'viewbox' : '-121.51409,38.59500,-121.42371,38.55528',\n",
    "             'bounded' : 1,\n",
    "             'limit' : 50}\n",
    "\n",
    "response = requests.get(url, params=my_params)\n",
    "\n",
    "if response.status_code == 200:\n",
    "    data = response.json()\n",
    "    \n",
    "    print(data)\n",
    "else:\n",
    "    print(\"ERROR: request was not successfully\")"
   ]
  },
  {
   "cell_type": "code",
   "execution_count": 124,
   "id": "a9a3fa07",
   "metadata": {},
   "outputs": [],
   "source": [
    "import requests\n",
    "\n",
    "url = \"https://nominatim.openstreetmap.org/search\"\n",
    "\n",
    "params = {\n",
    "    \"q\": \"colleges in Seattle\",\n",
    "    \"bounded\": 1,\n",
    "    \"viewbox\": \"-122.453,47.485,-122.224,47.734\",\n",
    "    \"format\": \"jsonv2\",\n",
    "    \"limit\": 100\n",
    "}\n",
    "\n",
    "response = requests.get(url, params=params)\n",
    "\n",
    "if response.status_code == 200:\n",
    "    results = response.json()\n",
    "    for result in results:\n",
    "        if \"college\" in result[\"category\"]:\n",
    "            print(\"Name:\", result[\"display_name\"])\n",
    "            print(\"Location:\", result[\"lat\"], result[\"lon\"])"
   ]
  },
  {
   "cell_type": "code",
   "execution_count": 125,
   "id": "dcd30ecd",
   "metadata": {},
   "outputs": [],
   "source": [
    "import csv\n",
    "\n",
    "with open(\"colleges.tsv\", \"w\", newline=\"\") as f:\n",
    "    writer = csv.writer(f, delimiter=\"\\t\")\n",
    "    writer.writerow([\"osm_id\", \"name\", \"latitude\", \"longitude\"])\n",
    "    for result in results:\n",
    "        if \"college\" in result[\"category\"]:\n",
    "            writer.writerow([result[\"osm_id\"], result[\"display_name\"], result[\"lat\"], result[\"lon\"]])\n",
    "            \n",
    "            \n",
    "#https://docs.google.com/spreadsheets/d/1Co4pOvAS6kkZ2puWpH5AoWAr9uXwaKhsa9Iqhds1wzI/edit#gid=822449447"
   ]
  },
  {
   "cell_type": "code",
   "execution_count": null,
   "id": "442ef73a",
   "metadata": {},
   "outputs": [],
   "source": []
  }
 ],
 "metadata": {
  "kernelspec": {
   "display_name": "Python 3 (ipykernel)",
   "language": "python",
   "name": "python3"
  },
  "language_info": {
   "codemirror_mode": {
    "name": "ipython",
    "version": 3
   },
   "file_extension": ".py",
   "mimetype": "text/x-python",
   "name": "python",
   "nbconvert_exporter": "python",
   "pygments_lexer": "ipython3",
   "version": "3.10.9"
  }
 },
 "nbformat": 4,
 "nbformat_minor": 5
}
