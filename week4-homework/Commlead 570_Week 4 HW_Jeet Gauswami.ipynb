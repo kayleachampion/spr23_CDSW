{
 "cells": [
  {
   "cell_type": "code",
   "execution_count": 1,
   "id": "7f5c01d5",
   "metadata": {},
   "outputs": [],
   "source": [
    "import requests"
   ]
  },
  {
   "cell_type": "code",
   "execution_count": 2,
   "id": "a06a4b22",
   "metadata": {},
   "outputs": [],
   "source": [
    "my_response = requests.get(\"http://www.boredapi.com/api/activity\")"
   ]
  },
  {
   "cell_type": "code",
   "execution_count": 5,
   "id": "60829a23",
   "metadata": {},
   "outputs": [
    {
     "name": "stdout",
     "output_type": "stream",
     "text": [
      "200\n"
     ]
    }
   ],
   "source": [
    "print(my_response.status_code)"
   ]
  },
  {
   "cell_type": "code",
   "execution_count": 6,
   "id": "8bff41dd",
   "metadata": {},
   "outputs": [
    {
     "data": {
      "text/plain": [
       "'{\"activity\":\"Start a garden\",\"type\":\"recreational\",\"participants\":1,\"price\":0.3,\"link\":\"\",\"key\":\"1934228\",\"accessibility\":0.35}'"
      ]
     },
     "execution_count": 6,
     "metadata": {},
     "output_type": "execute_result"
    }
   ],
   "source": [
    "my_response.text"
   ]
  },
  {
   "cell_type": "code",
   "execution_count": 11,
   "id": "4c0b25ed",
   "metadata": {},
   "outputs": [
    {
     "data": {
      "text/plain": [
       "str"
      ]
     },
     "execution_count": 11,
     "metadata": {},
     "output_type": "execute_result"
    }
   ],
   "source": [
    "type(my_response.text)"
   ]
  },
  {
   "cell_type": "code",
   "execution_count": 12,
   "id": "30e9fb65",
   "metadata": {},
   "outputs": [
    {
     "data": {
      "text/plain": [
       "<Response [200]>"
      ]
     },
     "execution_count": 12,
     "metadata": {},
     "output_type": "execute_result"
    }
   ],
   "source": [
    "my_response"
   ]
  },
  {
   "cell_type": "code",
   "execution_count": 13,
   "id": "b76797de",
   "metadata": {},
   "outputs": [],
   "source": [
    "data = my_response.json()"
   ]
  },
  {
   "cell_type": "code",
   "execution_count": 15,
   "id": "424e23c2",
   "metadata": {},
   "outputs": [
    {
     "data": {
      "text/plain": [
       "{'activity': 'Start a garden',\n",
       " 'type': 'recreational',\n",
       " 'participants': 1,\n",
       " 'price': 0.3,\n",
       " 'link': '',\n",
       " 'key': '1934228',\n",
       " 'accessibility': 0.35}"
      ]
     },
     "execution_count": 15,
     "metadata": {},
     "output_type": "execute_result"
    }
   ],
   "source": [
    "data"
   ]
  },
  {
   "cell_type": "code",
   "execution_count": 16,
   "id": "d42e7ba4",
   "metadata": {},
   "outputs": [
    {
     "data": {
      "text/plain": [
       "dict"
      ]
     },
     "execution_count": 16,
     "metadata": {},
     "output_type": "execute_result"
    }
   ],
   "source": [
    "type(data)"
   ]
  },
  {
   "cell_type": "code",
   "execution_count": 18,
   "id": "1e566ce9",
   "metadata": {},
   "outputs": [
    {
     "data": {
      "text/plain": [
       "'Start a garden'"
      ]
     },
     "execution_count": 18,
     "metadata": {},
     "output_type": "execute_result"
    }
   ],
   "source": [
    "data[\"activity\"]"
   ]
  },
  {
   "cell_type": "code",
   "execution_count": 19,
   "id": "dc04591c",
   "metadata": {},
   "outputs": [
    {
     "data": {
      "text/plain": [
       "{'activity': 'Start a garden',\n",
       " 'type': 'recreational',\n",
       " 'participants': 1,\n",
       " 'price': 0.3,\n",
       " 'link': '',\n",
       " 'key': '1934228',\n",
       " 'accessibility': 0.35}"
      ]
     },
     "execution_count": 19,
     "metadata": {},
     "output_type": "execute_result"
    }
   ],
   "source": [
    "data"
   ]
  },
  {
   "cell_type": "code",
   "execution_count": 22,
   "id": "20a58a5f",
   "metadata": {},
   "outputs": [
    {
     "data": {
      "text/plain": [
       "'{\"activity\":\"Start a garden\",\"type\":\"recreational\",\"participants\":1,\"price\":0.3,\"link\":\"\",\"key\":\"1934228\",\"accessibility\":0.35}'"
      ]
     },
     "execution_count": 22,
     "metadata": {},
     "output_type": "execute_result"
    }
   ],
   "source": [
    "my_response.text"
   ]
  },
  {
   "cell_type": "code",
   "execution_count": 23,
   "id": "89931d2e",
   "metadata": {},
   "outputs": [],
   "source": [
    "#1 Bored API"
   ]
  },
  {
   "cell_type": "code",
   "execution_count": 25,
   "id": "694a013a",
   "metadata": {},
   "outputs": [],
   "source": [
    "#1.1 Write some Python code to use the API to get an activity that I could do with my partner. Turn the data from the API into a sentence that tells me the activity, its accessibility, and its price.\n"
   ]
  },
  {
   "cell_type": "code",
   "execution_count": 26,
   "id": "a893b1ef",
   "metadata": {},
   "outputs": [],
   "source": [
    "activity_for_2 = requests.get('https://www.boredapi.com/api/activity?participants=2')"
   ]
  },
  {
   "cell_type": "code",
   "execution_count": 29,
   "id": "07400e35",
   "metadata": {},
   "outputs": [],
   "source": [
    "activity_for_2_data = activity_for_2.json()"
   ]
  },
  {
   "cell_type": "code",
   "execution_count": 31,
   "id": "72f72b5a",
   "metadata": {},
   "outputs": [],
   "source": [
    "\n",
    "sentence = \"You and your partner could \" + activity_for_2_data['activity'] + \", which has an accessibility score of \" + str(activity_for_2_data['accessibility']) + \" and a price level of \" + str(activity_for_2_data['price']) + \".\"\n"
   ]
  },
  {
   "cell_type": "code",
   "execution_count": 32,
   "id": "3e618470",
   "metadata": {},
   "outputs": [
    {
     "name": "stdout",
     "output_type": "stream",
     "text": [
      "You and your partner could Catch up with a friend over a lunch date, which has an accessibility score of 0.15 and a price level of 0.2.\n"
     ]
    }
   ],
   "source": [
    "print(sentence)"
   ]
  },
  {
   "cell_type": "code",
   "execution_count": 33,
   "id": "ebb4549a",
   "metadata": {},
   "outputs": [],
   "source": [
    "#1.1.1 Extend that code so that it gets me 5 activities and have it write a nicely formatted output.\n"
   ]
  },
  {
   "cell_type": "code",
   "execution_count": 45,
   "id": "0ddc6aaa",
   "metadata": {},
   "outputs": [
    {
     "name": "stdout",
     "output_type": "stream",
     "text": [
      "Here's a list of activities that you can do with your partner:\n",
      "activity 1: Draw and color a Mandala >> accessibility: 0.1 >> price: 0.05\n",
      "activity 2: Play basketball with a group of friends >> accessibility: 0.7 >> price: 0\n",
      "activity 3: Buy a new house decoration >> accessibility: 0.3 >> price: 0.4\n",
      "activity 4: Read a formal research paper on an interesting subject >> accessibility: 0.1 >> price: 0\n",
      "activity 5: Sit in the dark and listen to your favorite music with no distractions >> accessibility: 1 >> price: 0\n"
     ]
    }
   ],
   "source": [
    "print(\"Here's a list of activities that you can do with your partner:\")\n",
    "\n",
    "for number in [1,2,3,4,5]:\n",
    "    my_parameters = {'participant' : '2'}\n",
    "    activities = requests.get(\"https://www.boredapi.com/api/activity\", params=my_parameters)\n",
    "    if activities.status_code == 200:\n",
    "        activities_data = activities.json()\n",
    "        print(f\"activity {number}: {activities_data['activity']}\" , \">> accessibility:\" , activities_data ['accessibility'] , \">> price:\" , activities_data['price'])\n",
    "        \n",
    "        \n",
    "        \n",
    "        "
   ]
  },
  {
   "cell_type": "code",
   "execution_count": 47,
   "id": "c5e22349",
   "metadata": {},
   "outputs": [],
   "source": [
    "#1.2 First, get a totally random activity from the API. \n",
    "#Print it out, along with its activity type. \n",
    "#Now get me another activity that's of the same type as the first random activity. \n",
    "#Print it out too, plus its activity type (to check that they're the same)."
   ]
  },
  {
   "cell_type": "code",
   "execution_count": 61,
   "id": "9b22b9e4",
   "metadata": {},
   "outputs": [],
   "source": [
    "random_activity = my_response.json()"
   ]
  },
  {
   "cell_type": "code",
   "execution_count": 62,
   "id": "42893411",
   "metadata": {},
   "outputs": [
    {
     "name": "stdout",
     "output_type": "stream",
     "text": [
      "Random activity:\n",
      "Start a garden\n",
      "Type: recreational\n"
     ]
    }
   ],
   "source": [
    "print(\"Random activity:\")\n",
    "print(random_activity['activity'])\n",
    "print(\"Type:\", random_activity['type'])"
   ]
  },
  {
   "cell_type": "code",
   "execution_count": 54,
   "id": "a799c464",
   "metadata": {},
   "outputs": [],
   "source": [
    "random_activity_of_same_type = requests.get(f'https://www.boredapi.com/api/activity?type={random_activity[\"type\"]}')"
   ]
  },
  {
   "cell_type": "code",
   "execution_count": 55,
   "id": "4b3d4bc9",
   "metadata": {},
   "outputs": [],
   "source": [
    "activity_of_same_type = random_activity_of_same_type.json()"
   ]
  },
  {
   "cell_type": "code",
   "execution_count": 63,
   "id": "55209563",
   "metadata": {},
   "outputs": [
    {
     "name": "stdout",
     "output_type": "stream",
     "text": [
      "Another recreational activity:\n",
      "Learn to write with your nondominant hand\n",
      "Type: recreational\n"
     ]
    }
   ],
   "source": [
    "print(f\"Another {random_activity['type']} activity:\")\n",
    "print(activity_of_same_type['activity'])\n",
    "print(\"Type:\", activity_of_same_type['type'])"
   ]
  },
  {
   "cell_type": "code",
   "execution_count": 64,
   "id": "4d1692a0",
   "metadata": {},
   "outputs": [],
   "source": [
    "#1.3 Write a Python program that prints out one random activity of each type that the Bored API supports. (See if you can use a loop for this!)\n"
   ]
  },
  {
   "cell_type": "code",
   "execution_count": 65,
   "id": "3f80f24f",
   "metadata": {},
   "outputs": [],
   "source": [
    "types = ['education', 'recreational', 'social', 'diy', 'charity', 'cooking', 'relaxation', 'music', 'busywork']"
   ]
  },
  {
   "cell_type": "code",
   "execution_count": 71,
   "id": "25674dd8",
   "metadata": {},
   "outputs": [
    {
     "name": "stdout",
     "output_type": "stream",
     "text": [
      "education activity:\n",
      "Learn how to fold a paper crane\n",
      "\n",
      "recreational activity:\n",
      "Start a blog for something you're passionate about\n",
      "\n",
      "social activity:\n",
      "Play a game of Monopoly\n",
      "\n",
      "diy activity:\n",
      "Make tie dye shirts\n",
      "\n",
      "charity activity:\n",
      "Volunteer at your local food bank\n",
      "\n",
      "cooking activity:\n",
      "Make homemade ice cream\n",
      "\n",
      "relaxation activity:\n",
      "Draw and color a Mandala\n",
      "\n",
      "music activity:\n",
      "Learn to play a new instrument\n",
      "\n",
      "busywork activity:\n",
      "Match your storage containers with their lids\n",
      "\n"
     ]
    }
   ],
   "source": [
    "for activity_type in types:\n",
    "    activity_of_each_type = requests.get(f'https://www.boredapi.com/api/activity?type={activity_type}')\n",
    "    activity_of_each_type_data = activity_of_each_type.json()\n",
    "    print(f\"{activity_type} activity:\")\n",
    "    print(activity_of_each_type_data['activity'])\n",
    "    print()"
   ]
  },
  {
   "cell_type": "code",
   "execution_count": 72,
   "id": "18027591",
   "metadata": {},
   "outputs": [],
   "source": [
    "#2 Learning a new API"
   ]
  },
  {
   "cell_type": "code",
   "execution_count": 73,
   "id": "acb5b35e",
   "metadata": {},
   "outputs": [],
   "source": [
    "#2.1 Write a URL that will return a single dog fact (you don't need to turn in any python code for this! just the link is fine!)"
   ]
  },
  {
   "cell_type": "code",
   "execution_count": 75,
   "id": "cc2a6c60",
   "metadata": {},
   "outputs": [],
   "source": [
    "\"https://dogapi.dog/api/v2/facts\""
   ]
  },
  {
   "cell_type": "code",
   "execution_count": 88,
   "id": "dd57ccaf",
   "metadata": {},
   "outputs": [],
   "source": [
    "#2.3 Write a URL that will return 5 dog facts at once (just the link is fine)"
   ]
  },
  {
   "cell_type": "code",
   "execution_count": 91,
   "id": "2226270e",
   "metadata": {},
   "outputs": [],
   "source": [
    "five_dog_facts = requests.get(\"https://dogapi.dog/api/v2/facts?limit=5\")"
   ]
  },
  {
   "cell_type": "code",
   "execution_count": 92,
   "id": "d8afee03",
   "metadata": {},
   "outputs": [],
   "source": [
    "five_dog_facts_data = five_dog_facts.json()"
   ]
  },
  {
   "cell_type": "code",
   "execution_count": 93,
   "id": "b56c7016",
   "metadata": {},
   "outputs": [
    {
     "name": "stdout",
     "output_type": "stream",
     "text": [
      "{'data': [{'id': '4bb52987-72a7-471c-85a0-41848ae9370e', 'type': 'fact', 'attributes': {'body': 'Puppies sleep 90% of the day for their first few weeks.'}}, {'id': '33c3b017-bf80-4666-9836-bf5adb3e00a1', 'type': 'fact', 'attributes': {'body': 'Dogs have three eyelids to protect their eyes from debris.'}}, {'id': 'e81bc895-6188-4b99-bed0-512ef38967e8', 'type': 'fact', 'attributes': {'body': 'Flyball, a dog sport consisting of relays, hurdles, and ball retrieving, was developed in the late 60s, and the first tournament was held in 1983.'}}, {'id': 'a714889e-30e4-471e-aa76-b77d01e88982', 'type': 'fact', 'attributes': {'body': 'Teddy Roosevelt’s dog, Pete, ripped a French ambassador’s pants off at the White House.'}}, {'id': '33e30136-c9e7-4533-af4a-e7f9e911bdc2', 'type': 'fact', 'attributes': {'body': 'A dog’s heart beats up to 120 times per minute, or 50% faster than the average human heartbeat of 80 times per minute'}}]}\n"
     ]
    }
   ],
   "source": [
    "print(five_dog_facts_data)"
   ]
  },
  {
   "cell_type": "code",
   "execution_count": 94,
   "id": "2f8abe3f",
   "metadata": {},
   "outputs": [],
   "source": [
    "#2.4 Take your URL to request a single dog fact and put into a Python program that uses requests.get() \n",
    "#and passes in parameters with the params= argument. Your program should just print out the fact itself \n",
    "#and not the full JSON object\n"
   ]
  },
  {
   "cell_type": "code",
   "execution_count": 97,
   "id": "c2945610",
   "metadata": {},
   "outputs": [],
   "source": [
    "params = {\"number\": 1}\n",
    "dog_fact = requests.get(\"https://dogapi.dog/api/v2/facts\", params=params)"
   ]
  },
  {
   "cell_type": "code",
   "execution_count": 98,
   "id": "fed2dde3",
   "metadata": {},
   "outputs": [],
   "source": [
    "dog_fact_data = dog_fact.json()"
   ]
  },
  {
   "cell_type": "code",
   "execution_count": 99,
   "id": "4d92bf2a",
   "metadata": {},
   "outputs": [
    {
     "name": "stdout",
     "output_type": "stream",
     "text": [
      "{'data': [{'id': 'ed181eb0-fecb-4c9a-92c5-c556aa55fe41', 'type': 'fact', 'attributes': {'body': 'Dogs can discriminate the emotional expressions of human faces.'}}]}\n"
     ]
    }
   ],
   "source": [
    "print(dog_fact_data)"
   ]
  },
  {
   "cell_type": "code",
   "execution_count": 166,
   "id": "f98a5d7a",
   "metadata": {},
   "outputs": [],
   "source": [
    "single_dog_fact = dog_fact_data['data'][0]"
   ]
  },
  {
   "cell_type": "code",
   "execution_count": 167,
   "id": "50bd2fa9",
   "metadata": {},
   "outputs": [
    {
     "name": "stdout",
     "output_type": "stream",
     "text": [
      "{'id': 'ed181eb0-fecb-4c9a-92c5-c556aa55fe41', 'type': 'fact', 'attributes': {'body': 'Dogs can discriminate the emotional expressions of human faces.'}}\n"
     ]
    }
   ],
   "source": [
    "print(single_dog_fact)"
   ]
  },
  {
   "cell_type": "code",
   "execution_count": 104,
   "id": "d314040a",
   "metadata": {},
   "outputs": [
    {
     "data": {
      "text/plain": [
       "dict"
      ]
     },
     "execution_count": 104,
     "metadata": {},
     "output_type": "execute_result"
    }
   ],
   "source": [
    "type(dog_fact_data)"
   ]
  },
  {
   "cell_type": "code",
   "execution_count": 105,
   "id": "71bb2803",
   "metadata": {},
   "outputs": [
    {
     "data": {
      "text/plain": [
       "1"
      ]
     },
     "execution_count": 105,
     "metadata": {},
     "output_type": "execute_result"
    }
   ],
   "source": [
    "len(dog_fact_data)"
   ]
  },
  {
   "cell_type": "code",
   "execution_count": 172,
   "id": "38e6c1fd",
   "metadata": {},
   "outputs": [
    {
     "name": "stdout",
     "output_type": "stream",
     "text": [
      "ed181eb0-fecb-4c9a-92c5-c556aa55fe41\n"
     ]
    }
   ],
   "source": [
    "print(dog_fact_data['data'][0]['id'])"
   ]
  },
  {
   "cell_type": "code",
   "execution_count": 110,
   "id": "6472602b",
   "metadata": {},
   "outputs": [
    {
     "name": "stdout",
     "output_type": "stream",
     "text": [
      "Dogs can discriminate the emotional expressions of human faces.\n"
     ]
    }
   ],
   "source": [
    "print(dog_fact_data['data'][0]['attributes']['body'])"
   ]
  },
  {
   "cell_type": "code",
   "execution_count": 111,
   "id": "5eb1edf8",
   "metadata": {},
   "outputs": [],
   "source": [
    "#2.5 Finally, write a for loop that gets sets of 5 facts 5 times (you can just try something like for \n",
    "#number in [1,2,3,4,5], downloads the lists of dog facts, and then writes out a new tab-separated values (TSV) file \n",
    "#with columns: (1) ID of the dog fact, and (2) the fact itself!\n"
   ]
  },
  {
   "cell_type": "code",
   "execution_count": 195,
   "id": "45f70b1d",
   "metadata": {
    "scrolled": true
   },
   "outputs": [],
   "source": [
    "with open(\"five_dog_facts_five_times.tsv\", \"w\") as dog_facts_file:\n",
    "    print(\"number\", \"\\t\",\"id\", \"\\t\", \"dog_fact\", file=dog_facts_file)\n",
    "    for number in [1,2,3,4,5]:\n",
    "        params = {'limit': 5}\n",
    "        five_dog_facts = requests.get(\"https://dogapi.dog/api/v2/facts\" , params = params)\n",
    "        if five_dog_facts.status_code == 200:\n",
    "            five_dog_facts_data = five_dog_facts.json()\n",
    "            for data in five_dog_facts_data['data']:\n",
    "                print(number, \"\\t\", data['id'], \"\\t\", data['attributes']['body'], file=dog_facts_file)\n",
    "        else:\n",
    "            print (\"Something's wrong!\")"
   ]
  },
  {
   "cell_type": "code",
   "execution_count": 196,
   "id": "5dc61bf7",
   "metadata": {},
   "outputs": [
    {
     "name": "stdout",
     "output_type": "stream",
     "text": [
      "{'data': [{'id': '98b5d54e-5131-47d1-a652-f2ccff709572', 'type': 'fact', 'attributes': {'body': 'President Franklin Roosevelt created a minor international incident when he claimed he sent a destroyer to the Aleutian Islands just to pick up his Scottish Terrier, Fala, who had been left behind.'}}, {'id': 'a984f986-21d9-413f-8491-d14befb5cac3', 'type': 'fact', 'attributes': {'body': 'Stroking dogs and gazing into their eyes releases the \"feel good\" hormone oxytocin for both people and dogs.'}}, {'id': 'f0db253c-9e8d-4907-ac8e-a7f898a040f7', 'type': 'fact', 'attributes': {'body': \"A dog's tail is an extension of their spine, and contains bones and muscles.\"}}, {'id': 'c2a3ebd7-8ab2-48df-b34a-3118bc6a4c0d', 'type': 'fact', 'attributes': {'body': 'Apple and pear seeds contain arsenic, which may be deadly to dogs.'}}, {'id': '5c7de21e-e352-484c-9cd3-d0a6773ea4db', 'type': 'fact', 'attributes': {'body': 'Dogs can be trained to detect cancer in humans.'}}]}\n"
     ]
    }
   ],
   "source": [
    "print(five_dog_facts_data)"
   ]
  },
  {
   "cell_type": "code",
   "execution_count": 197,
   "id": "42a40689",
   "metadata": {},
   "outputs": [],
   "source": [
    "#3 Mapping!"
   ]
  },
  {
   "cell_type": "code",
   "execution_count": 198,
   "id": "86127147",
   "metadata": {},
   "outputs": [],
   "source": [
    "#3.1 Are there more gas stations in Duvall or Carnation?\n"
   ]
  },
  {
   "cell_type": "code",
   "execution_count": 203,
   "id": "ce4e07ff",
   "metadata": {},
   "outputs": [
    {
     "name": "stdout",
     "output_type": "stream",
     "text": [
      "12\n"
     ]
    }
   ],
   "source": [
    "import requests\n",
    "my_params = {'q' : '[gas station] in duvall, wa','format' : 'jsonv2','limit': '50'}\n",
    "myresponse = requests.get(\"https://nominatim.openstreetmap.org/search\", params=my_params)\n",
    "\n",
    "if myresponse.status_code == 200:\n",
    "    gas_station_in_duvall = myresponse.json()\n",
    "    print(len(gas_station_in_duvall))"
   ]
  },
  {
   "cell_type": "code",
   "execution_count": 204,
   "id": "ade15260",
   "metadata": {},
   "outputs": [
    {
     "name": "stdout",
     "output_type": "stream",
     "text": [
      "0\n"
     ]
    }
   ],
   "source": [
    "import requests\n",
    "my_params = {'q' : '[gas station] in carnation, wa','format' : 'jsonv2','limit': '50'}\n",
    "myresponse = requests.get(\"https://nominatim.openstreetmap.org/search\", params=my_params)\n",
    "\n",
    "if myresponse.status_code == 200:\n",
    "    gas_station_in_carnation = myresponse.json()\n",
    "    print(len(gas_station_in_carnation))"
   ]
  },
  {
   "cell_type": "code",
   "execution_count": 205,
   "id": "217eba01",
   "metadata": {},
   "outputs": [
    {
     "name": "stdout",
     "output_type": "stream",
     "text": [
      "There are more gas stations in duvall, wa\n"
     ]
    }
   ],
   "source": [
    "if (len(gas_station_in_duvall) > len(gas_station_in_carnation)) :\n",
    "    print (\"There are more gas stations in duvall, wa\") \n",
    "else :\n",
    "    print (\"There are more gas stations in carnation, wa\")"
   ]
  },
  {
   "cell_type": "code",
   "execution_count": 206,
   "id": "156bd300",
   "metadata": {},
   "outputs": [],
   "source": [
    "#3.2 Are there more dentists near the University or near Downtown? \n",
    "#(you will need to look at the limit on the number of returned items)\n"
   ]
  },
  {
   "cell_type": "code",
   "execution_count": 207,
   "id": "e3d2be60",
   "metadata": {},
   "outputs": [
    {
     "name": "stdout",
     "output_type": "stream",
     "text": [
      "6\n"
     ]
    }
   ],
   "source": [
    "import requests\n",
    "my_params = {'q' : '[dentist]',\n",
    "              'viewbox' : '-122.33505,47.66845,-122.28857,47.65470',\n",
    "              'bounded' : 1,\n",
    "              'limit' : 50,\n",
    "              'format' : 'jsonv2'}\n",
    "myresponse = requests.get(\"https://nominatim.openstreetmap.org/search\", params=my_params)\n",
    "\n",
    "if myresponse.status_code == 200:\n",
    "    dentists_near_udistrict = myresponse.json()\n",
    "    print(len(dentists_near_udistrict))"
   ]
  },
  {
   "cell_type": "code",
   "execution_count": 208,
   "id": "90cd4258",
   "metadata": {},
   "outputs": [
    {
     "name": "stdout",
     "output_type": "stream",
     "text": [
      "19\n"
     ]
    }
   ],
   "source": [
    "import requests\n",
    "my_params = {'q' : '[dentist]',\n",
    "              'viewbox' : '-122.35986,47.61828,-122.31338,47.60451',\n",
    "              'bounded' : 1,\n",
    "              'limit' : 50,\n",
    "              'format' : 'jsonv2'}\n",
    "myresponse = requests.get(\"https://nominatim.openstreetmap.org/search\", params=my_params)\n",
    "\n",
    "if myresponse.status_code == 200:\n",
    "    dentists_near_downtown = myresponse.json()\n",
    "    print(len(dentists_near_downtown))"
   ]
  },
  {
   "cell_type": "code",
   "execution_count": 209,
   "id": "670f555d",
   "metadata": {},
   "outputs": [
    {
     "name": "stdout",
     "output_type": "stream",
     "text": [
      "There are more dentists near downtown.\n"
     ]
    }
   ],
   "source": [
    "if (len(dentists_near_downtown) > len(dentists_near_udistrict)) :\n",
    "    print (\"There are more dentists near downtown.\") \n",
    "else :\n",
    "    print (\"There are more dentists near udistrict.\")"
   ]
  },
  {
   "cell_type": "code",
   "execution_count": 210,
   "id": "5c7e2f85",
   "metadata": {},
   "outputs": [],
   "source": [
    "#3.3 Use the geocoding API endpoint in Nominatim to look up a specific latitude and longitude of your choice \n",
    "#(try this building or your hometown)."
   ]
  },
  {
   "cell_type": "code",
   "execution_count": 217,
   "id": "2fe5de53",
   "metadata": {},
   "outputs": [
    {
     "name": "stdout",
     "output_type": "stream",
     "text": [
      "[70.8028377, 22.3053263]\n",
      " The coordinates of Rajkot are [70.8028377, 22.3053263]\n"
     ]
    }
   ],
   "source": [
    "import requests\n",
    "my_parameters = { 'q' : 'Rajkot, Gujarat, India',\n",
    "                'format' : 'geojson',\n",
    "                 'limit' : '50'}\n",
    "myresponse = requests.get(\"https://nominatim.openstreetmap.org/search\", params=my_parameters)\n",
    "\n",
    "if myresponse.status_code == 200 :\n",
    "\n",
    "    Rajkot_data = myresponse.json()\n",
    "    print(Rajkot_data['features'][0]['geometry']['coordinates'][0:2])\n",
    "    \n",
    "print (f\" The coordinates of Rajkot are {Rajkot_data['features'][0]['geometry']['coordinates'][0:2]}\")"
   ]
  },
  {
   "cell_type": "code",
   "execution_count": 218,
   "id": "c8116ec2",
   "metadata": {},
   "outputs": [
    {
     "name": "stdout",
     "output_type": "stream",
     "text": [
      "{'type': 'FeatureCollection', 'licence': 'Data © OpenStreetMap contributors, ODbL 1.0. https://osm.org/copyright', 'features': [{'type': 'Feature', 'properties': {'place_id': 13406158, 'osm_type': 'node', 'osm_id': 1393852189, 'display_name': 'Rajkot, Rajkot Taluka, Rajkot, Gujarat, 360001, India', 'place_rank': 16, 'category': 'place', 'type': 'city', 'importance': 0.8239019652120148, 'icon': 'https://nominatim.openstreetmap.org/ui/mapicons/poi_place_city.p.20.png'}, 'bbox': [70.6428377, 22.1453263, 70.9628377, 22.4653263], 'geometry': {'type': 'Point', 'coordinates': [70.8028377, 22.3053263]}}, {'type': 'Feature', 'properties': {'place_id': 298361302, 'osm_type': 'relation', 'osm_id': 1953567, 'display_name': 'Rajkot, Gujarat, India', 'place_rank': 10, 'category': 'boundary', 'type': 'administrative', 'importance': 0.7496574298529842, 'icon': 'https://nominatim.openstreetmap.org/ui/mapicons/poi_boundary_administrative.p.20.png'}, 'bbox': [70.0316369, 21.5265834, 71.5090834, 22.6112269], 'geometry': {'type': 'Point', 'coordinates': [71.02964534617706, 22.068582900000003]}}, {'type': 'Feature', 'properties': {'place_id': 78392430, 'osm_type': 'node', 'osm_id': 7435095785, 'display_name': 'મહાત્મા ગાંધી મ્યુઝિયમ, રાજકોટ, Mahatma Gandhi Road, Rajkot, Rajkot Taluka, Rajkot, Gujarat, 360001, India', 'place_rank': 30, 'category': 'tourism', 'type': 'museum', 'importance': 0.33010000000000006, 'icon': 'https://nominatim.openstreetmap.org/ui/mapicons/tourist_museum.p.20.png'}, 'bbox': [70.8016275, 22.2987024, 70.8017275, 22.2988024], 'geometry': {'type': 'Point', 'coordinates': [70.8016775, 22.2987524]}}, {'type': 'Feature', 'properties': {'place_id': 73344745, 'osm_type': 'node', 'osm_id': 6978925837, 'display_name': 'Mangalam Hospital, Rajkot, Dr. Yagnik Road, Rajkot, Rajkot Taluka, Rajkot, Gujarat, 360001, India', 'place_rank': 30, 'category': 'amenity', 'type': 'hospital', 'importance': 0.33010000000000006, 'icon': 'https://nominatim.openstreetmap.org/ui/mapicons/health_hospital.p.20.png'}, 'bbox': [70.7952758, 22.287468, 70.7953758, 22.287568], 'geometry': {'type': 'Point', 'coordinates': [70.7953258, 22.287518]}}, {'type': 'Feature', 'properties': {'place_id': 73549439, 'osm_type': 'node', 'osm_id': 6970456285, 'display_name': 'N M Virani Wockhardt Hospital, Rajkot, Kalawad Road, Rajkot, Rajkot Taluka, Rajkot, Gujarat, 360001, India', 'place_rank': 30, 'category': 'amenity', 'type': 'hospital', 'importance': 0.33010000000000006, 'icon': 'https://nominatim.openstreetmap.org/ui/mapicons/health_hospital.p.20.png'}, 'bbox': [70.7741614, 22.2881492, 70.7742614, 22.2882492], 'geometry': {'type': 'Point', 'coordinates': [70.7742114, 22.2881992]}}, {'type': 'Feature', 'properties': {'place_id': 73139829, 'osm_type': 'node', 'osm_id': 6988280502, 'display_name': 'Centre For Sight, Rajkot, Raiya Road, Rajkot, Rajkot Taluka, Rajkot, Gujarat, 360001, India', 'place_rank': 30, 'category': 'amenity', 'type': 'hospital', 'importance': 0.33010000000000006, 'icon': 'https://nominatim.openstreetmap.org/ui/mapicons/health_hospital.p.20.png'}, 'bbox': [70.8008896, 22.3009102, 70.8009896, 22.3010102], 'geometry': {'type': 'Point', 'coordinates': [70.8009396, 22.3009602]}}, {'type': 'Feature', 'properties': {'place_id': 73648462, 'osm_type': 'node', 'osm_id': 6981891619, 'display_name': 'Dev Hospital, Rajkot, Dr. Yagnik Road, Rajkot, Rajkot Taluka, Rajkot, Gujarat, 360001, India', 'place_rank': 30, 'category': 'amenity', 'type': 'hospital', 'importance': 0.33010000000000006, 'icon': 'https://nominatim.openstreetmap.org/ui/mapicons/health_hospital.p.20.png'}, 'bbox': [70.7963527, 22.2884483, 70.7964527, 22.2885483], 'geometry': {'type': 'Point', 'coordinates': [70.7964027, 22.2884983]}}, {'type': 'Feature', 'properties': {'place_id': 73741383, 'osm_type': 'node', 'osm_id': 6975014004, 'display_name': 'Jain Hospital, Rajkot, Raiya Road, Rajkot, Rajkot Taluka, Rajkot, Gujarat, 360001, India', 'place_rank': 30, 'category': 'amenity', 'type': 'hospital', 'importance': 0.33010000000000006, 'icon': 'https://nominatim.openstreetmap.org/ui/mapicons/health_hospital.p.20.png'}, 'bbox': [70.7847246, 22.2981655, 70.7848246, 22.2982655], 'geometry': {'type': 'Point', 'coordinates': [70.7847746, 22.2982155]}}, {'type': 'Feature', 'properties': {'place_id': 72716909, 'osm_type': 'node', 'osm_id': 6970164353, 'display_name': 'Madhuram Hospital, Rajkot, Dhebar Road, Rajkot, Rajkot Taluka, Rajkot, Gujarat, 360002, India', 'place_rank': 30, 'category': 'amenity', 'type': 'hospital', 'importance': 0.33010000000000006, 'icon': 'https://nominatim.openstreetmap.org/ui/mapicons/health_hospital.p.20.png'}, 'bbox': [70.8000581, 22.2784668, 70.8001581, 22.2785668], 'geometry': {'type': 'Point', 'coordinates': [70.8001081, 22.2785168]}}, {'type': 'Feature', 'properties': {'place_id': 73101634, 'osm_type': 'node', 'osm_id': 6977175183, 'display_name': 'Aakar Hospital, Rajkot, Dr. Yagnik Road, Rajkot, Rajkot Taluka, Rajkot, Gujarat, 360002, India', 'place_rank': 30, 'category': 'amenity', 'type': 'hospital', 'importance': 0.33010000000000006, 'icon': 'https://nominatim.openstreetmap.org/ui/mapicons/health_hospital.p.20.png'}, 'bbox': [70.7923857, 22.2872555, 70.7924857, 22.2873555], 'geometry': {'type': 'Point', 'coordinates': [70.7924357, 22.2873055]}}, {'type': 'Feature', 'properties': {'place_id': 73123214, 'osm_type': 'node', 'osm_id': 6988347907, 'display_name': 'Shiv Hospital, Rajkot, Rajendra Prasat Road, Rajkot, Rajkot Taluka, Rajkot, Gujarat, 360001, India', 'place_rank': 30, 'category': 'amenity', 'type': 'hospital', 'importance': 0.33010000000000006, 'icon': 'https://nominatim.openstreetmap.org/ui/mapicons/health_hospital.p.20.png'}, 'bbox': [70.8039212, 22.2898753, 70.8040212, 22.2899753], 'geometry': {'type': 'Point', 'coordinates': [70.8039712, 22.2899253]}}, {'type': 'Feature', 'properties': {'place_id': 73799643, 'osm_type': 'node', 'osm_id': 6975854565, 'display_name': 'Sterling Hospital, Rajkot, Raiya Road, Rajkot, Rajkot Taluka, Rajkot, Gujarat, 360005, India', 'place_rank': 30, 'category': 'amenity', 'type': 'hospital', 'importance': 0.33010000000000006, 'icon': 'https://nominatim.openstreetmap.org/ui/mapicons/health_hospital.p.20.png'}, 'bbox': [70.7676396, 22.3067058, 70.7677396, 22.3068058], 'geometry': {'type': 'Point', 'coordinates': [70.7676896, 22.3067558]}}, {'type': 'Feature', 'properties': {'place_id': 72997224, 'osm_type': 'node', 'osm_id': 6975590828, 'display_name': 'Shivani Hospital, Rajkot, Dhebar Road, Rajkot, Rajkot Taluka, Rajkot, Gujarat, 360002, India', 'place_rank': 30, 'category': 'amenity', 'type': 'hospital', 'importance': 0.33010000000000006, 'icon': 'https://nominatim.openstreetmap.org/ui/mapicons/health_hospital.p.20.png'}, 'bbox': [70.7999267, 22.2753983, 70.8000267, 22.2754983], 'geometry': {'type': 'Point', 'coordinates': [70.7999767, 22.2754483]}}, {'type': 'Feature', 'properties': {'place_id': 73236878, 'osm_type': 'node', 'osm_id': 6986256252, 'display_name': 'Yash Hospital, Rajkot, Dr. Yagnik Road, Rajkot, Rajkot Taluka, Rajkot, Gujarat, 360002, India', 'place_rank': 30, 'category': 'amenity', 'type': 'hospital', 'importance': 0.33010000000000006, 'icon': 'https://nominatim.openstreetmap.org/ui/mapicons/health_hospital.p.20.png'}, 'bbox': [70.7965666, 22.2885234, 70.7966666, 22.2886234], 'geometry': {'type': 'Point', 'coordinates': [70.7966166, 22.2885734]}}, {'type': 'Feature', 'properties': {'place_id': 73254744, 'osm_type': 'node', 'osm_id': 6988519327, 'display_name': 'Shreyas Hospital, Rajkot, Dr. Yagnik Road, Rajkot, Rajkot Taluka, Rajkot, Gujarat, 360002, India', 'place_rank': 30, 'category': 'amenity', 'type': 'hospital', 'importance': 0.33010000000000006, 'icon': 'https://nominatim.openstreetmap.org/ui/mapicons/health_hospital.p.20.png'}, 'bbox': [70.7962172, 22.2885662, 70.7963172, 22.2886662], 'geometry': {'type': 'Point', 'coordinates': [70.7962672, 22.2886162]}}, {'type': 'Feature', 'properties': {'place_id': 73418796, 'osm_type': 'node', 'osm_id': 6975013954, 'display_name': 'Ashirwad Hospital, Rajkot, 40 ft. road, Rajkot, Rajkot Taluka, Rajkot, Gujarat, 360004, India', 'place_rank': 30, 'category': 'amenity', 'type': 'hospital', 'importance': 0.33010000000000006, 'icon': 'https://nominatim.openstreetmap.org/ui/mapicons/health_hospital.p.20.png'}, 'bbox': [70.7835881, 22.2632631, 70.7836881, 22.2633631], 'geometry': {'type': 'Point', 'coordinates': [70.7836381, 22.2633131]}}, {'type': 'Feature', 'properties': {'place_id': 73459586, 'osm_type': 'node', 'osm_id': 6982092234, 'display_name': 'Dr Gandhi Orthopaedic Hospital, Rajkot, Dr. Yagnik Road, Rajkot, Rajkot Taluka, Rajkot, Gujarat, 360001, India', 'place_rank': 30, 'category': 'amenity', 'type': 'hospital', 'importance': 0.33010000000000006, 'icon': 'https://nominatim.openstreetmap.org/ui/mapicons/health_hospital.p.20.png'}, 'bbox': [70.7954005, 22.2882038, 70.7955005, 22.2883038], 'geometry': {'type': 'Point', 'coordinates': [70.7954505, 22.2882538]}}, {'type': 'Feature', 'properties': {'place_id': 73915318, 'osm_type': 'node', 'osm_id': 6993975144, 'display_name': 'Subham Hospital, Rajkot, Rajendra Prasat Road, Rajkot, Rajkot Taluka, Rajkot, Gujarat, 360002, India', 'place_rank': 30, 'category': 'amenity', 'type': 'hospital', 'importance': 0.33010000000000006, 'icon': 'https://nominatim.openstreetmap.org/ui/mapicons/health_hospital.p.20.png'}, 'bbox': [70.8101191, 22.28172, 70.8102191, 22.28182], 'geometry': {'type': 'Point', 'coordinates': [70.8101691, 22.28177]}}, {'type': 'Feature', 'properties': {'place_id': 73951085, 'osm_type': 'node', 'osm_id': 6970656491, 'display_name': 'Raghuveer Hospital, Rajkot, Gondal Road, Rajkot, Rajkot Taluka, Rajkot, Gujarat, 360004, India', 'place_rank': 30, 'category': 'amenity', 'type': 'hospital', 'importance': 0.33010000000000006, 'icon': 'https://nominatim.openstreetmap.org/ui/mapicons/health_hospital.p.20.png'}, 'bbox': [70.7933412, 22.2723708, 70.7934412, 22.2724708], 'geometry': {'type': 'Point', 'coordinates': [70.7933912, 22.2724208]}}, {'type': 'Feature', 'properties': {'place_id': 74064171, 'osm_type': 'node', 'osm_id': 6982092211, 'display_name': 'Samarpan Hospital, Rajkot, Dhebar Road, Rajkot, Rajkot Taluka, Rajkot, Gujarat, 360002, India', 'place_rank': 30, 'category': 'amenity', 'type': 'hospital', 'importance': 0.33010000000000006, 'icon': 'https://nominatim.openstreetmap.org/ui/mapicons/health_hospital.p.20.png'}, 'bbox': [70.8008427, 22.2893418, 70.8009427, 22.2894418], 'geometry': {'type': 'Point', 'coordinates': [70.8008927, 22.2893918]}}, {'type': 'Feature', 'properties': {'place_id': 72301437, 'osm_type': 'node', 'osm_id': 6888389612, 'display_name': 'Nathani Voluntary Blood Bank, Rajkot, Dr. Yagnik Road, Rajkot, Rajkot Taluka, Rajkot, Gujarat, 360001, India', 'place_rank': 30, 'category': 'amenity', 'type': 'blood_bank', 'importance': 0.33010000000000006}, 'bbox': [70.7901541, 22.2941725, 70.7902541, 22.2942725], 'geometry': {'type': 'Point', 'coordinates': [70.7902041, 22.2942225]}}, {'type': 'Feature', 'properties': {'place_id': 72767505, 'osm_type': 'node', 'osm_id': 6888389575, 'display_name': 'Saurastra Voluntary Blood Bank, Rajkot, Raiya Road, Rajkot, Rajkot Taluka, Rajkot, Gujarat, 360002, India', 'place_rank': 30, 'category': 'amenity', 'type': 'blood_bank', 'importance': 0.33010000000000006}, 'bbox': [70.7758901, 22.2993331, 70.7759901, 22.2994331], 'geometry': {'type': 'Point', 'coordinates': [70.7759401, 22.2993831]}}, {'type': 'Feature', 'properties': {'place_id': 270545222, 'osm_type': 'way', 'osm_id': 860230553, 'display_name': 'Shri Labhubhai Trivedi Institute of Engineering & Technology, Rajkot, Nyari Dam 1 Road, Rajkot, Rajkot Taluka, Rajkot, Gujarat, 360001, India', 'place_rank': 30, 'category': 'building', 'type': 'college', 'importance': 0.33010000000000006}, 'bbox': [70.7379423, 22.2468231, 70.7408333, 22.2494555], 'geometry': {'type': 'Point', 'coordinates': [70.73934449581895, 22.2482418]}}, {'type': 'Feature', 'properties': {'place_id': 72245327, 'osm_type': 'node', 'osm_id': 6888389593, 'display_name': 'Nationality Development Foundation Blood Bank, Rajkot, Gondal Road, Rajkot, Rajkot Taluka, Rajkot, Gujarat, 360002, India', 'place_rank': 30, 'category': 'amenity', 'type': 'blood_bank', 'importance': 0.33010000000000006}, 'bbox': [70.7999106, 22.2839512, 70.8000106, 22.2840512], 'geometry': {'type': 'Point', 'coordinates': [70.7999606, 22.2840012]}}, {'type': 'Feature', 'properties': {'place_id': 72441981, 'osm_type': 'node', 'osm_id': 6888389603, 'display_name': 'Red Cross Blood Bank, Rajkot, Raiya Road, Rajkot, Rajkot Taluka, Rajkot, Gujarat, 360001, India', 'place_rank': 30, 'category': 'amenity', 'type': 'blood_bank', 'importance': 0.33010000000000006}, 'bbox': [70.7967805, 22.2954704, 70.7968805, 22.2955704], 'geometry': {'type': 'Point', 'coordinates': [70.7968305, 22.2955204]}}, {'type': 'Feature', 'properties': {'place_id': 270960231, 'osm_type': 'way', 'osm_id': 860231642, 'display_name': 'Government Engineering College, Rajkot, Ring Road -2, Rajkot, Rajkot Taluka, Rajkot, Gujarat, 360001, India', 'place_rank': 30, 'category': 'amenity', 'type': 'college', 'importance': 0.33010000000000006, 'icon': 'https://nominatim.openstreetmap.org/ui/mapicons/education_school.p.20.png'}, 'bbox': [70.7416651, 22.2446408, 70.7453931, 22.2480704], 'geometry': {'type': 'Point', 'coordinates': [70.74349287889761, 22.24638375]}}, {'type': 'Feature', 'properties': {'place_id': 73362561, 'osm_type': 'node', 'osm_id': 6993688698, 'display_name': 'Shree Ram Hospital, Rajkot, NH27, Shapar - Veraval, Kotda Sangani Taluka, Rajkot, Gujarat, 360024, India', 'place_rank': 30, 'category': 'amenity', 'type': 'hospital', 'importance': 0.33010000000000006, 'icon': 'https://nominatim.openstreetmap.org/ui/mapicons/health_hospital.p.20.png'}, 'bbox': [70.7925963, 22.1572828, 70.7926963, 22.1573828], 'geometry': {'type': 'Point', 'coordinates': [70.7926463, 22.1573328]}}, {'type': 'Feature', 'properties': {'place_id': 73757003, 'osm_type': 'node', 'osm_id': 6978857580, 'display_name': 'Nanavati Hospital, Rajkot, Jetpur, Jetpur Taluka, Rajkot, Gujarat, 360370, India', 'place_rank': 30, 'category': 'amenity', 'type': 'hospital', 'importance': 0.33010000000000006, 'icon': 'https://nominatim.openstreetmap.org/ui/mapicons/health_hospital.p.20.png'}, 'bbox': [70.6238317, 21.756859, 70.6239317, 21.756959], 'geometry': {'type': 'Point', 'coordinates': [70.6238817, 21.756909]}}, {'type': 'Feature', 'properties': {'place_id': 73986099, 'osm_type': 'node', 'osm_id': 6975823760, 'display_name': 'Sankalp Hospital, Rajkot, Dhebar Road, Rajkot, Rajkot Taluka, Rajkot, Gujarat, 360002, India', 'place_rank': 30, 'category': 'amenity', 'type': 'hospital', 'importance': 0.33001, 'icon': 'https://nominatim.openstreetmap.org/ui/mapicons/health_hospital.p.20.png'}, 'bbox': [70.8000146, 22.2788229, 70.8001146, 22.2789229], 'geometry': {'type': 'Point', 'coordinates': [70.8000646, 22.2788729]}}, {'type': 'Feature', 'properties': {'place_id': 73803786, 'osm_type': 'node', 'osm_id': 6974851991, 'display_name': 'Prabhat Hospital, Rajkot, SH25, Sindhi colony, Rajkot, Rajkot Taluka, Rajkot, Gujarat, 363641, India', 'place_rank': 30, 'category': 'amenity', 'type': 'hospital', 'importance': 0.33001, 'icon': 'https://nominatim.openstreetmap.org/ui/mapicons/health_hospital.p.20.png'}, 'bbox': [70.7958565, 22.3077865, 70.7959565, 22.3078865], 'geometry': {'type': 'Point', 'coordinates': [70.7959065, 22.3078365]}}]}\n"
     ]
    }
   ],
   "source": [
    "print(Rajkot_data)"
   ]
  },
  {
   "cell_type": "code",
   "execution_count": 219,
   "id": "9fbd2efc",
   "metadata": {},
   "outputs": [],
   "source": [
    "#3.4 Write a program to find all the ziplines in King County, Washington \n",
    "#(or at least all the ones that OSM knows about!).\n"
   ]
  },
  {
   "cell_type": "code",
   "execution_count": 221,
   "id": "3dcf91f7",
   "metadata": {},
   "outputs": [
    {
     "name": "stdout",
     "output_type": "stream",
     "text": [
      "[{'place_id': 340259502, 'licence': 'Data © OpenStreetMap contributors, ODbL 1.0. https://osm.org/copyright', 'osm_type': 'way', 'osm_id': 1086262198, 'boundingbox': ['47.6081042', '47.6081428', '-122.1743914', '-122.1742413'], 'lat': '47.6081042', 'lon': '-122.1742413', 'display_name': 'WIlburton Hill Park Trails, Belridge, Bellevue, King County, Washington, 98005, United States', 'place_rank': 30, 'category': 'aerialway', 'type': 'zip_line', 'importance': 0.4001}, {'place_id': 266604172, 'licence': 'Data © OpenStreetMap contributors, ODbL 1.0. https://osm.org/copyright', 'osm_type': 'way', 'osm_id': 831449302, 'boundingbox': ['47.5675978', '47.5685085', '-122.1486867', '-122.1460848'], 'lat': '47.5685085', 'lon': '-122.1472952', 'display_name': '146th Avenue Southeast, Eastgate, Bellevue, King County, Washington, 98006, United States', 'place_rank': 30, 'category': 'aerialway', 'type': 'zip_line', 'importance': 0.4001}, {'place_id': 266425130, 'licence': 'Data © OpenStreetMap contributors, ODbL 1.0. https://osm.org/copyright', 'osm_type': 'way', 'osm_id': 831449301, 'boundingbox': ['47.5676025', '47.5685007', '-122.1486472', '-122.1475391'], 'lat': '47.5682515', 'lon': '-122.1482035', 'display_name': '144th Avenue Southeast, Somerset, Bellevue, King County, Washington, 98006, United States', 'place_rank': 30, 'category': 'aerialway', 'type': 'zip_line', 'importance': 0.4001}]\n"
     ]
    }
   ],
   "source": [
    "import requests\n",
    "my_params = {'q' : '[ziplines] in king county, wa','format' : 'jsonv2','limit': '50'}\n",
    "myresponse = requests.get(\"https://nominatim.openstreetmap.org/search\", params=my_params)\n",
    "\n",
    "if myresponse.status_code == 200:\n",
    "    ziplines_in_king_county = myresponse.json()\n",
    "    print(ziplines_in_king_county)"
   ]
  },
  {
   "cell_type": "code",
   "execution_count": 222,
   "id": "9f00e43f",
   "metadata": {},
   "outputs": [],
   "source": [
    "#3.5 It's important to be alert and well-caffeinated when ziplining! Once you've found a nearby zipline, \n",
    "#have your program use that result to find the nearest cafe each of the ziplines you identify!\n"
   ]
  },
  {
   "cell_type": "code",
   "execution_count": 223,
   "id": "599fc827",
   "metadata": {},
   "outputs": [],
   "source": [
    "nearby_zipline = ziplines_in_king_county[0]"
   ]
  },
  {
   "cell_type": "code",
   "execution_count": 224,
   "id": "2b9e8cee",
   "metadata": {},
   "outputs": [
    {
     "name": "stdout",
     "output_type": "stream",
     "text": [
      "{'place_id': 340259502, 'licence': 'Data © OpenStreetMap contributors, ODbL 1.0. https://osm.org/copyright', 'osm_type': 'way', 'osm_id': 1086262198, 'boundingbox': ['47.6081042', '47.6081428', '-122.1743914', '-122.1742413'], 'lat': '47.6081042', 'lon': '-122.1742413', 'display_name': 'WIlburton Hill Park Trails, Belridge, Bellevue, King County, Washington, 98005, United States', 'place_rank': 30, 'category': 'aerialway', 'type': 'zip_line', 'importance': 0.4001}\n"
     ]
    }
   ],
   "source": [
    "print(nearby_zipline)"
   ]
  },
  {
   "cell_type": "code",
   "execution_count": 233,
   "id": "e04ecf94",
   "metadata": {},
   "outputs": [
    {
     "name": "stdout",
     "output_type": "stream",
     "text": [
      "{'place_id': 62695310, 'licence': 'Data © OpenStreetMap contributors, ODbL 1.0. https://osm.org/copyright', 'osm_type': 'node', 'osm_id': 5745923621, 'boundingbox': ['47.6090817', '47.6091817', '-122.179704', '-122.179604'], 'lat': '47.6091317', 'lon': '-122.179654', 'display_name': 'Copper Kettle Coffee Bar, Tateuchi Loop Trail, Midlakes, Bellevue, King County, Washington, 98009, United States', 'place_rank': 30, 'category': 'amenity', 'type': 'cafe', 'importance': 0.001, 'icon': 'https://nominatim.openstreetmap.org/ui/mapicons/food_cafe.p.20.png'}\n"
     ]
    }
   ],
   "source": [
    "import requests\n",
    "my_params = {'q' : f\"cafe near {nearby_zipline['lat']},{nearby_zipline['lon']}\",'format' : 'jsonv2','limit': '50'}\n",
    "myresponse = requests.get(\"https://nominatim.openstreetmap.org/search\", params=my_params)\n",
    "\n",
    "if myresponse.status_code == 200:\n",
    "    coffee_near_zipline = myresponse.json()\n",
    "    print(coffee_near_zipline[0])"
   ]
  },
  {
   "cell_type": "code",
   "execution_count": 234,
   "id": "d0ae7cea",
   "metadata": {},
   "outputs": [],
   "source": [
    "#3.6 Craft a query using the search API to find colleges in Seattle. \n",
    "#(Hint: you'll want to set bounded=1 and use the viewbox). Print the name and location of every college you find.\n"
   ]
  },
  {
   "cell_type": "code",
   "execution_count": 248,
   "id": "372ce583",
   "metadata": {},
   "outputs": [
    {
     "name": "stdout",
     "output_type": "stream",
     "text": [
      "[{'place_id': 299365566, 'licence': 'Data © OpenStreetMap contributors, ODbL 1.0. https://osm.org/copyright', 'osm_type': 'relation', 'osm_id': 9994114, 'boundingbox': ['47.6165074', '47.6184599', '-122.3369693', '-122.3344529'], 'lat': '47.61680045', 'lon': '-122.33586595', 'display_name': 'Cornish College of the Arts, Terry Avenue, South Lake Union, First Hill, Seattle, King County, Washington, 98191, United States', 'place_rank': 30, 'category': 'amenity', 'type': 'college', 'importance': 0.34987195748066746, 'icon': 'https://nominatim.openstreetmap.org/ui/mapicons/education_school.p.20.png', 'address': {'amenity': 'Cornish College of the Arts', 'road': 'Terry Avenue', 'neighbourhood': 'South Lake Union', 'suburb': 'First Hill', 'city': 'Seattle', 'county': 'King County', 'state': 'Washington', 'ISO3166-2-lvl4': 'US-WA', 'postcode': '98191', 'country': 'United States', 'country_code': 'us'}}, {'place_id': 119987411, 'licence': 'Data © OpenStreetMap contributors, ODbL 1.0. https://osm.org/copyright', 'osm_type': 'way', 'osm_id': 55696671, 'boundingbox': ['47.5817895', '47.5891018', '-122.153762', '-122.1429557'], 'lat': '47.585121599999994', 'lon': '-122.14695953894167', 'display_name': 'Bellevue College, 3000, Landerholm Circle Southeast, Eastgate, Bellevue, King County, Washington, 98007, United States', 'place_rank': 30, 'category': 'amenity', 'type': 'college', 'importance': 0.3193657532333713, 'icon': 'https://nominatim.openstreetmap.org/ui/mapicons/education_school.p.20.png', 'address': {'amenity': 'Bellevue College', 'house_number': '3000', 'road': 'Landerholm Circle Southeast', 'suburb': 'Eastgate', 'city': 'Bellevue', 'county': 'King County', 'state': 'Washington', 'ISO3166-2-lvl4': 'US-WA', 'postcode': '98007', 'country': 'United States', 'country_code': 'us'}}, {'place_id': 145418337, 'licence': 'Data © OpenStreetMap contributors, ODbL 1.0. https://osm.org/copyright', 'osm_type': 'way', 'osm_id': 169786833, 'boundingbox': ['47.6141657', '47.6181591', '-122.3233445', '-122.3201037'], 'lat': '47.61619055', 'lon': '-122.32149768795851', 'display_name': 'Seattle Central College, East Howell Street, Capitol Hill, Seattle, King County, Washington, 98191, United States', 'place_rank': 30, 'category': 'amenity', 'type': 'college', 'importance': 0.270074815609084, 'icon': 'https://nominatim.openstreetmap.org/ui/mapicons/education_school.p.20.png', 'address': {'amenity': 'Seattle Central College', 'road': 'East Howell Street', 'suburb': 'Capitol Hill', 'city': 'Seattle', 'county': 'King County', 'state': 'Washington', 'ISO3166-2-lvl4': 'US-WA', 'postcode': '98191', 'country': 'United States', 'country_code': 'us'}}, {'place_id': 20277018, 'licence': 'Data © OpenStreetMap contributors, ODbL 1.0. https://osm.org/copyright', 'osm_type': 'node', 'osm_id': 2327652090, 'boundingbox': ['47.6176584', '47.6177584', '-122.3445124', '-122.3444124'], 'lat': '47.6177084', 'lon': '-122.3444624', 'display_name': 'City University of Seattle, 521, Wall Street, South Lake Union, Belltown, Seattle, King County, Washington, 98121, United States', 'place_rank': 30, 'category': 'amenity', 'type': 'college', 'importance': 0.2582184742933953, 'icon': 'https://nominatim.openstreetmap.org/ui/mapicons/education_school.p.20.png', 'address': {'amenity': 'City University of Seattle', 'house_number': '521', 'road': 'Wall Street', 'neighbourhood': 'South Lake Union', 'suburb': 'Belltown', 'city': 'Seattle', 'county': 'King County', 'state': 'Washington', 'ISO3166-2-lvl4': 'US-WA', 'postcode': '98121', 'country': 'United States', 'country_code': 'us'}}, {'place_id': 113207576, 'licence': 'Data © OpenStreetMap contributors, ODbL 1.0. https://osm.org/copyright', 'osm_type': 'way', 'osm_id': 31706483, 'boundingbox': ['47.5448765', '47.5518401', '-122.3546253', '-122.3492219'], 'lat': '47.548193299999994', 'lon': '-122.35233908228187', 'display_name': 'South Seattle College, 6000, 16th Avenue Southwest, Delridge, Seattle, King County, Washington, 98106, United States', 'place_rank': 30, 'category': 'amenity', 'type': 'college', 'importance': 0.24469861684138924, 'icon': 'https://nominatim.openstreetmap.org/ui/mapicons/education_school.p.20.png', 'address': {'amenity': 'South Seattle College', 'house_number': '6000', 'road': '16th Avenue Southwest', 'suburb': 'Delridge', 'city': 'Seattle', 'county': 'King County', 'state': 'Washington', 'ISO3166-2-lvl4': 'US-WA', 'postcode': '98106', 'country': 'United States', 'country_code': 'us'}}, {'place_id': 68745701, 'licence': 'Data © OpenStreetMap contributors, ODbL 1.0. https://osm.org/copyright', 'osm_type': 'node', 'osm_id': 6440063074, 'boundingbox': ['47.6217874', '47.6218874', '-122.3505871', '-122.3504871'], 'lat': '47.6218374', 'lon': '-122.3505371', 'display_name': 'Academy of Interactive Entertainment, 305, Harrison Street, Uptown, Belltown, Seattle, King County, Washington, 98109, United States', 'place_rank': 30, 'category': 'amenity', 'type': 'college', 'importance': 0.23729383463160691, 'icon': 'https://nominatim.openstreetmap.org/ui/mapicons/education_school.p.20.png', 'address': {'amenity': 'Academy of Interactive Entertainment', 'house_number': '305', 'road': 'Harrison Street', 'neighbourhood': 'Uptown', 'suburb': 'Belltown', 'city': 'Seattle', 'county': 'King County', 'state': 'Washington', 'ISO3166-2-lvl4': 'US-WA', 'postcode': '98109', 'country': 'United States', 'country_code': 'us'}}, {'place_id': 188154379, 'licence': 'Data © OpenStreetMap contributors, ODbL 1.0. https://osm.org/copyright', 'osm_type': 'way', 'osm_id': 342786695, 'boundingbox': ['47.5994914', '47.6002831', '-122.3042098', '-122.3033733'], 'lat': '47.60002405', 'lon': '-122.30376308697222', 'display_name': 'Seattle Vocational Institute, 2120, South Jackson Street, Little Saigon, Central District, Seattle, King County, Washington, 98144, United States', 'place_rank': 30, 'category': 'amenity', 'type': 'college', 'importance': 0.23322868681886538, 'icon': 'https://nominatim.openstreetmap.org/ui/mapicons/education_school.p.20.png', 'address': {'amenity': 'Seattle Vocational Institute', 'house_number': '2120', 'road': 'South Jackson Street', 'neighbourhood': 'Little Saigon', 'suburb': 'Central District', 'city': 'Seattle', 'county': 'King County', 'state': 'Washington', 'ISO3166-2-lvl4': 'US-WA', 'postcode': '98144', 'country': 'United States', 'country_code': 'us'}}, {'place_id': 197735727, 'licence': 'Data © OpenStreetMap contributors, ODbL 1.0. https://osm.org/copyright', 'osm_type': 'way', 'osm_id': 397007181, 'boundingbox': ['47.6131121', '47.6135231', '-122.3512647', '-122.3506657'], 'lat': '47.6133176', 'lon': '-122.35096519999999', 'display_name': 'The Seattle School of Theology and Psychology, 2501, Elliott Avenue, Belltown, Seattle, King County, Washington, 98121, United States', 'place_rank': 30, 'category': 'amenity', 'type': 'college', 'importance': 0.181472839091896, 'icon': 'https://nominatim.openstreetmap.org/ui/mapicons/education_school.p.20.png', 'address': {'amenity': 'The Seattle School of Theology and Psychology', 'house_number': '2501', 'road': 'Elliott Avenue', 'suburb': 'Belltown', 'city': 'Seattle', 'county': 'King County', 'state': 'Washington', 'ISO3166-2-lvl4': 'US-WA', 'postcode': '98121', 'country': 'United States', 'country_code': 'us'}}, {'place_id': 44912351, 'licence': 'Data © OpenStreetMap contributors, ODbL 1.0. https://osm.org/copyright', 'osm_type': 'node', 'osm_id': 3771319445, 'boundingbox': ['47.6186433', '47.6187433', '-122.3465842', '-122.3464842'], 'lat': '47.6186933', 'lon': '-122.3465342', 'display_name': 'Emerald City School, Denny Way, Uptown, Belltown, Seattle, King County, Washington, 98121, United States', 'place_rank': 30, 'category': 'amenity', 'type': 'college', 'importance': 9.99999999995449e-06, 'icon': 'https://nominatim.openstreetmap.org/ui/mapicons/education_school.p.20.png', 'address': {'amenity': 'Emerald City School', 'road': 'Denny Way', 'neighbourhood': 'Uptown', 'suburb': 'Belltown', 'city': 'Seattle', 'county': 'King County', 'state': 'Washington', 'ISO3166-2-lvl4': 'US-WA', 'postcode': '98121', 'country': 'United States', 'country_code': 'us'}}, {'place_id': 12668666, 'licence': 'Data © OpenStreetMap contributors, ODbL 1.0. https://osm.org/copyright', 'osm_type': 'node', 'osm_id': 1313743670, 'boundingbox': ['47.6475548', '47.6476548', '-122.3408849', '-122.3407849'], 'lat': '47.6476048', 'lon': '-122.3408349', 'display_name': 'Divers Institute of Technology, 1341, North Northlake Way, Fremont, Seattle, King County, Washington, 98103, United States', 'place_rank': 30, 'category': 'amenity', 'type': 'college', 'importance': 9.99999999995449e-06, 'icon': 'https://nominatim.openstreetmap.org/ui/mapicons/education_school.p.20.png', 'address': {'amenity': 'Divers Institute of Technology', 'house_number': '1341', 'road': 'North Northlake Way', 'suburb': 'Fremont', 'city': 'Seattle', 'county': 'King County', 'state': 'Washington', 'ISO3166-2-lvl4': 'US-WA', 'postcode': '98103', 'country': 'United States', 'country_code': 'us'}}, {'place_id': 186303931, 'licence': 'Data © OpenStreetMap contributors, ODbL 1.0. https://osm.org/copyright', 'osm_type': 'way', 'osm_id': 336485971, 'boundingbox': ['47.5965599', '47.5978044', '-122.3021181', '-122.3013024'], 'lat': '47.59718215', 'lon': '-122.3017103499598', 'display_name': 'Seattle Central College Wood Technology Center, 2310, South Lane Street, Central District, Seattle, King County, Washington, 98144, United States', 'place_rank': 30, 'category': 'amenity', 'type': 'college', 'importance': 9.99999999995449e-06, 'icon': 'https://nominatim.openstreetmap.org/ui/mapicons/education_school.p.20.png', 'address': {'amenity': 'Seattle Central College Wood Technology Center', 'house_number': '2310', 'road': 'South Lane Street', 'suburb': 'Central District', 'city': 'Seattle', 'county': 'King County', 'state': 'Washington', 'ISO3166-2-lvl4': 'US-WA', 'postcode': '98144', 'country': 'United States', 'country_code': 'us'}}, {'place_id': 20101117, 'licence': 'Data © OpenStreetMap contributors, ODbL 1.0. https://osm.org/copyright', 'osm_type': 'node', 'osm_id': 2312065990, 'boundingbox': ['47.6229701', '47.6230701', '-122.3374046', '-122.3373046'], 'lat': '47.6230201', 'lon': '-122.3373546', 'display_name': 'Northeastern University, 401, Terry Avenue North, South Lake Union, Belltown, Seattle, King County, Washington, 98109, United States', 'place_rank': 30, 'category': 'amenity', 'type': 'college', 'importance': 9.99999999995449e-06, 'icon': 'https://nominatim.openstreetmap.org/ui/mapicons/education_school.p.20.png', 'address': {'amenity': 'Northeastern University', 'house_number': '401', 'road': 'Terry Avenue North', 'neighbourhood': 'South Lake Union', 'suburb': 'Belltown', 'city': 'Seattle', 'county': 'King County', 'state': 'Washington', 'ISO3166-2-lvl4': 'US-WA', 'postcode': '98109', 'country': 'United States', 'country_code': 'us'}}, {'place_id': 164983833, 'licence': 'Data © OpenStreetMap contributors, ODbL 1.0. https://osm.org/copyright', 'osm_type': 'way', 'osm_id': 239827006, 'boundingbox': ['47.61564', '47.6162752', '-122.3467899', '-122.3457922'], 'lat': '47.6159398', 'lon': '-122.3462752444464', 'display_name': 'Antioch University, 2400, 3rd Avenue, Uptown, Belltown, Seattle, King County, Washington, 98121, United States', 'place_rank': 30, 'category': 'amenity', 'type': 'college', 'importance': 9.99999999995449e-06, 'icon': 'https://nominatim.openstreetmap.org/ui/mapicons/education_school.p.20.png', 'address': {'amenity': 'Antioch University', 'house_number': '2400', 'road': '3rd Avenue', 'neighbourhood': 'Uptown', 'suburb': 'Belltown', 'city': 'Seattle', 'county': 'King County', 'state': 'Washington', 'ISO3166-2-lvl4': 'US-WA', 'postcode': '98121', 'country': 'United States', 'country_code': 'us'}}, {'place_id': 58292313, 'licence': 'Data © OpenStreetMap contributors, ODbL 1.0. https://osm.org/copyright', 'osm_type': 'node', 'osm_id': 5366985027, 'boundingbox': ['47.6120172', '47.6121172', '-122.1903415', '-122.1902415'], 'lat': '47.6120672', 'lon': '-122.1902915', 'display_name': 'Washington Technology University, Northeast 2nd Street, Midlakes, Bellevue, King County, Washington, 98009, United States', 'place_rank': 30, 'category': 'amenity', 'type': 'college', 'importance': 9.99999999995449e-06, 'icon': 'https://nominatim.openstreetmap.org/ui/mapicons/education_school.p.20.png', 'address': {'amenity': 'Washington Technology University', 'road': 'Northeast 2nd Street', 'neighbourhood': 'Midlakes', 'city': 'Bellevue', 'county': 'King County', 'state': 'Washington', 'ISO3166-2-lvl4': 'US-WA', 'postcode': '98009', 'country': 'United States', 'country_code': 'us'}}]\n"
     ]
    }
   ],
   "source": [
    "import requests\n",
    "my_params = {'q' : '[colleges]',\n",
    "              'viewbox' : '-122.49736,47.65680,-122.12555,47.54661',\n",
    "              'bounded' : 1,\n",
    "              'limit' : 50,\n",
    "              'format' : 'jsonv2',\n",
    "            'addressdetails' : 1}\n",
    "myresponse = requests.get(\"https://nominatim.openstreetmap.org/search\", params=my_params)\n",
    "\n",
    "if myresponse.status_code == 200:\n",
    "    colleges_in_seattle = myresponse.json()\n",
    "    print(colleges_in_seattle)"
   ]
  },
  {
   "cell_type": "code",
   "execution_count": 239,
   "id": "0715319f",
   "metadata": {},
   "outputs": [
    {
     "name": "stdout",
     "output_type": "stream",
     "text": [
      "- Cornish College of the Arts, Terry Avenue, South Lake Union, First Hill, Seattle, King County, Washington, 98191, United States\n",
      "- Bellevue College, 3000, Landerholm Circle Southeast, Eastgate, Bellevue, King County, Washington, 98007, United States\n",
      "- Seattle Central College, East Howell Street, Capitol Hill, Seattle, King County, Washington, 98191, United States\n",
      "- City University of Seattle, 521, Wall Street, South Lake Union, Belltown, Seattle, King County, Washington, 98121, United States\n",
      "- South Seattle College, 6000, 16th Avenue Southwest, Delridge, Seattle, King County, Washington, 98106, United States\n",
      "- Academy of Interactive Entertainment, 305, Harrison Street, Uptown, Belltown, Seattle, King County, Washington, 98109, United States\n",
      "- Seattle Vocational Institute, 2120, South Jackson Street, Little Saigon, Central District, Seattle, King County, Washington, 98144, United States\n",
      "- The Seattle School of Theology and Psychology, 2501, Elliott Avenue, Belltown, Seattle, King County, Washington, 98121, United States\n",
      "- Emerald City School, Denny Way, Uptown, Belltown, Seattle, King County, Washington, 98121, United States\n",
      "- Divers Institute of Technology, 1341, North Northlake Way, Fremont, Seattle, King County, Washington, 98103, United States\n",
      "- Seattle Central College Wood Technology Center, 2310, South Lane Street, Central District, Seattle, King County, Washington, 98144, United States\n",
      "- Northeastern University, 401, Terry Avenue North, South Lake Union, Belltown, Seattle, King County, Washington, 98109, United States\n",
      "- Antioch University, 2400, 3rd Avenue, Uptown, Belltown, Seattle, King County, Washington, 98121, United States\n",
      "- Washington Technology University, Northeast 2nd Street, Midlakes, Bellevue, King County, Washington, 98009, United States\n"
     ]
    }
   ],
   "source": [
    "for college in colleges_in_seattle:\n",
    "    print( \"-\", college['display_name'])"
   ]
  },
  {
   "cell_type": "code",
   "execution_count": 240,
   "id": "e509cef3",
   "metadata": {},
   "outputs": [],
   "source": [
    "#3.6.1 Modify your query so that you include the address details separated out \n",
    "#(this is an API option you can find in the documentation)?\n"
   ]
  },
  {
   "cell_type": "code",
   "execution_count": 249,
   "id": "ef276e54",
   "metadata": {},
   "outputs": [
    {
     "name": "stdout",
     "output_type": "stream",
     "text": [
      " Cornish College of the Arts\n",
      " {'amenity': 'Cornish College of the Arts', 'road': 'Terry Avenue', 'neighbourhood': 'South Lake Union', 'suburb': 'First Hill', 'city': 'Seattle', 'county': 'King County', 'state': 'Washington', 'ISO3166-2-lvl4': 'US-WA', 'postcode': '98191', 'country': 'United States', 'country_code': 'us'}\n",
      " Bellevue College\n",
      " {'amenity': 'Bellevue College', 'house_number': '3000', 'road': 'Landerholm Circle Southeast', 'suburb': 'Eastgate', 'city': 'Bellevue', 'county': 'King County', 'state': 'Washington', 'ISO3166-2-lvl4': 'US-WA', 'postcode': '98007', 'country': 'United States', 'country_code': 'us'}\n",
      " Seattle Central College\n",
      " {'amenity': 'Seattle Central College', 'road': 'East Howell Street', 'suburb': 'Capitol Hill', 'city': 'Seattle', 'county': 'King County', 'state': 'Washington', 'ISO3166-2-lvl4': 'US-WA', 'postcode': '98191', 'country': 'United States', 'country_code': 'us'}\n",
      " City University of Seattle\n",
      " {'amenity': 'City University of Seattle', 'house_number': '521', 'road': 'Wall Street', 'neighbourhood': 'South Lake Union', 'suburb': 'Belltown', 'city': 'Seattle', 'county': 'King County', 'state': 'Washington', 'ISO3166-2-lvl4': 'US-WA', 'postcode': '98121', 'country': 'United States', 'country_code': 'us'}\n",
      " South Seattle College\n",
      " {'amenity': 'South Seattle College', 'house_number': '6000', 'road': '16th Avenue Southwest', 'suburb': 'Delridge', 'city': 'Seattle', 'county': 'King County', 'state': 'Washington', 'ISO3166-2-lvl4': 'US-WA', 'postcode': '98106', 'country': 'United States', 'country_code': 'us'}\n",
      " Academy of Interactive Entertainment\n",
      " {'amenity': 'Academy of Interactive Entertainment', 'house_number': '305', 'road': 'Harrison Street', 'neighbourhood': 'Uptown', 'suburb': 'Belltown', 'city': 'Seattle', 'county': 'King County', 'state': 'Washington', 'ISO3166-2-lvl4': 'US-WA', 'postcode': '98109', 'country': 'United States', 'country_code': 'us'}\n",
      " Seattle Vocational Institute\n",
      " {'amenity': 'Seattle Vocational Institute', 'house_number': '2120', 'road': 'South Jackson Street', 'neighbourhood': 'Little Saigon', 'suburb': 'Central District', 'city': 'Seattle', 'county': 'King County', 'state': 'Washington', 'ISO3166-2-lvl4': 'US-WA', 'postcode': '98144', 'country': 'United States', 'country_code': 'us'}\n",
      " The Seattle School of Theology and Psychology\n",
      " {'amenity': 'The Seattle School of Theology and Psychology', 'house_number': '2501', 'road': 'Elliott Avenue', 'suburb': 'Belltown', 'city': 'Seattle', 'county': 'King County', 'state': 'Washington', 'ISO3166-2-lvl4': 'US-WA', 'postcode': '98121', 'country': 'United States', 'country_code': 'us'}\n",
      " Emerald City School\n",
      " {'amenity': 'Emerald City School', 'road': 'Denny Way', 'neighbourhood': 'Uptown', 'suburb': 'Belltown', 'city': 'Seattle', 'county': 'King County', 'state': 'Washington', 'ISO3166-2-lvl4': 'US-WA', 'postcode': '98121', 'country': 'United States', 'country_code': 'us'}\n",
      " Divers Institute of Technology\n",
      " {'amenity': 'Divers Institute of Technology', 'house_number': '1341', 'road': 'North Northlake Way', 'suburb': 'Fremont', 'city': 'Seattle', 'county': 'King County', 'state': 'Washington', 'ISO3166-2-lvl4': 'US-WA', 'postcode': '98103', 'country': 'United States', 'country_code': 'us'}\n",
      " Seattle Central College Wood Technology Center\n",
      " {'amenity': 'Seattle Central College Wood Technology Center', 'house_number': '2310', 'road': 'South Lane Street', 'suburb': 'Central District', 'city': 'Seattle', 'county': 'King County', 'state': 'Washington', 'ISO3166-2-lvl4': 'US-WA', 'postcode': '98144', 'country': 'United States', 'country_code': 'us'}\n",
      " Northeastern University\n",
      " {'amenity': 'Northeastern University', 'house_number': '401', 'road': 'Terry Avenue North', 'neighbourhood': 'South Lake Union', 'suburb': 'Belltown', 'city': 'Seattle', 'county': 'King County', 'state': 'Washington', 'ISO3166-2-lvl4': 'US-WA', 'postcode': '98109', 'country': 'United States', 'country_code': 'us'}\n",
      " Antioch University\n",
      " {'amenity': 'Antioch University', 'house_number': '2400', 'road': '3rd Avenue', 'neighbourhood': 'Uptown', 'suburb': 'Belltown', 'city': 'Seattle', 'county': 'King County', 'state': 'Washington', 'ISO3166-2-lvl4': 'US-WA', 'postcode': '98121', 'country': 'United States', 'country_code': 'us'}\n",
      " Washington Technology University\n",
      " {'amenity': 'Washington Technology University', 'road': 'Northeast 2nd Street', 'neighbourhood': 'Midlakes', 'city': 'Bellevue', 'county': 'King County', 'state': 'Washington', 'ISO3166-2-lvl4': 'US-WA', 'postcode': '98009', 'country': 'United States', 'country_code': 'us'}\n"
     ]
    }
   ],
   "source": [
    "for place in colleges_in_seattle:\n",
    "    detail = place.get('address', {})\n",
    "    amenity = detail.get('amenity')\n",
    "    if amenity:\n",
    "        print(f\" {amenity}\")\n",
    "    print(f\" {detail}\")"
   ]
  },
  {
   "cell_type": "code",
   "execution_count": 250,
   "id": "0f85e988",
   "metadata": {},
   "outputs": [],
   "source": [
    "#3.6.2 How can you tell that a place returned by the API is in fact a college?\n"
   ]
  },
  {
   "cell_type": "code",
   "execution_count": 254,
   "id": "e49bda29",
   "metadata": {},
   "outputs": [
    {
     "name": "stdout",
     "output_type": "stream",
     "text": [
      "true\n",
      "true\n",
      "true\n",
      "true\n",
      "true\n",
      "true\n",
      "true\n",
      "true\n",
      "true\n",
      "true\n",
      "true\n",
      "true\n",
      "true\n",
      "true\n"
     ]
    }
   ],
   "source": [
    "for collegetype in colleges_in_seattle :\n",
    "    if (collegetype['type']) == \"college\" :\n",
    "        print(\"true\")\n",
    "    else :\n",
    "        print (\"false\")"
   ]
  },
  {
   "cell_type": "code",
   "execution_count": 253,
   "id": "874c158c",
   "metadata": {},
   "outputs": [],
   "source": [
    "#3.6.3 Print the list of colleges into a new TSV file with the following columns: osm_id (a unique ID that OSM uses), \n",
    "#the name of the college, latitude, and longitude."
   ]
  },
  {
   "cell_type": "code",
   "execution_count": 255,
   "id": "ffb50307",
   "metadata": {},
   "outputs": [],
   "source": [
    "with open(\"CollegeData.tsv\",\"w\") as my_college_file:\n",
    "    print(\"OSM ID\\tName of college\\tlatitude\\tlongitude\", file=my_college_file)\n",
    "          \n",
    "    for college in colleges_in_seattle:\n",
    "          print(f\" {college['osm_id']}\\t{college['display_name']}\\t{college['lat']}\\t{college['lon']}\", file=my_college_file)\n"
   ]
  },
  {
   "cell_type": "code",
   "execution_count": null,
   "id": "9fa6ab1b",
   "metadata": {},
   "outputs": [],
   "source": []
  }
 ],
 "metadata": {
  "kernelspec": {
   "display_name": "Python 3 (ipykernel)",
   "language": "python",
   "name": "python3"
  },
  "language_info": {
   "codemirror_mode": {
    "name": "ipython",
    "version": 3
   },
   "file_extension": ".py",
   "mimetype": "text/x-python",
   "name": "python",
   "nbconvert_exporter": "python",
   "pygments_lexer": "ipython3",
   "version": "3.10.9"
  }
 },
 "nbformat": 4,
 "nbformat_minor": 5
}
