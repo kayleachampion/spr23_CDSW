{
 "cells": [
  {
   "cell_type": "markdown",
   "id": "1a22931e",
   "metadata": {},
   "source": [
    "# 1 Bored API"
   ]
  },
  {
   "cell_type": "markdown",
   "id": "906cbc63",
   "metadata": {},
   "source": [
    "# 1"
   ]
  },
  {
   "cell_type": "code",
   "execution_count": 25,
   "id": "4b4c1c89",
   "metadata": {},
   "outputs": [],
   "source": [
    "import requests"
   ]
  },
  {
   "cell_type": "code",
   "execution_count": 26,
   "id": "f259de38",
   "metadata": {},
   "outputs": [
    {
     "name": "stdout",
     "output_type": "stream",
     "text": [
      "Requesting activity...\n",
      ".\n",
      ".\n",
      ".\n",
      ".\n",
      ".\n",
      ".\n",
      ".\n",
      ".\n",
      ".\n",
      ".\n",
      ".\n",
      ".\n",
      ".\n",
      ".\n",
      ".\n",
      ".\n",
      ".\n",
      ".\n",
      ".\n",
      ".\n",
      ".\n",
      ".\n",
      ".\n",
      ".\n",
      ".\n",
      ".\n",
      ".\n",
      ".\n",
      ".\n",
      ".\n",
      ".\n",
      ".\n",
      ".\n",
      ".\n",
      ".\n",
      ".\n",
      ".\n",
      ".\n",
      ".\n",
      ".\n",
      ".\n",
      ".\n",
      ".\n",
      ".\n",
      ".\n",
      ".\n",
      ".\n",
      ".\n",
      ".\n",
      ".\n",
      ".\n",
      ".\n",
      ".\n",
      ".\n",
      ".\n",
      ".\n",
      ".\n",
      ".\n",
      ".\n",
      ".\n",
      ".\n",
      ".\n",
      ".\n",
      ".\n",
      ".\n",
      ".\n",
      ".\n",
      ".\n",
      ".\n",
      ".\n",
      ".\n",
      ".\n",
      ".\n",
      ".\n",
      ".\n",
      ".\n",
      ".\n",
      ".\n",
      ".\n",
      ".\n",
      ".\n",
      ".\n",
      ".\n",
      ".\n",
      ".\n",
      ".\n",
      ".\n",
      "Activity:Compliment someone\n",
      "Accessibility:0\n",
      "Price:0\n",
      "Participants:2\n"
     ]
    }
   ],
   "source": [
    "my_response = requests.get(\"https://www.boredapi.com/api/activity\") \n",
    "data = my_response.json()\n",
    "print(\"Requesting activity...\")\n",
    "while data[\"participants\"]!=2:\n",
    "    print(\".\")\n",
    "    my_response = requests.get(\"https://www.boredapi.com/api/activity\") \n",
    "    data = my_response.json()\n",
    "    \n",
    "print(\"Activity:\"+data['activity'])\n",
    "print(\"Accessibility:\"+str(data['accessibility']))\n",
    "print(\"Price:\"+str(data['price']))\n",
    "print(\"Participants:\"+str(data['participants']))"
   ]
  },
  {
   "cell_type": "markdown",
   "id": "f7219247",
   "metadata": {},
   "source": [
    "# 1.1"
   ]
  },
  {
   "cell_type": "code",
   "execution_count": 27,
   "id": "85d14d62",
   "metadata": {},
   "outputs": [
    {
     "name": "stdout",
     "output_type": "stream",
     "text": [
      "1\n",
      "Activity:Compliment someone\n",
      "\n",
      "Accessibility:0\n",
      "\n",
      "Price:0\n",
      "\n",
      "Participants:2\n",
      "\n",
      "2\n",
      "Activity:Text a friend you haven't talked to in a long time\n",
      "\n",
      "Accessibility:0.2\n",
      "\n",
      "Price:0.05\n",
      "\n",
      "Participants:2\n",
      "\n",
      "3\n",
      "Activity:Catch up with a friend over a lunch date\n",
      "\n",
      "Accessibility:0.15\n",
      "\n",
      "Price:0.2\n",
      "\n",
      "Participants:2\n",
      "\n",
      "4\n",
      "Activity:Text a friend you haven't talked to in a long time\n",
      "\n",
      "Accessibility:0.2\n",
      "\n",
      "Price:0.05\n",
      "\n",
      "Participants:2\n",
      "\n",
      "5\n",
      "Activity:Text a friend you haven't talked to in a long time\n",
      "\n",
      "Accessibility:0.2\n",
      "\n",
      "Price:0.05\n",
      "\n",
      "Participants:2\n",
      "\n"
     ]
    }
   ],
   "source": [
    "my_activities_list = []\n",
    "for contador in range(5):\n",
    "    my_response = requests.get(\"https://www.boredapi.com/api/activity?participants=2\")\n",
    "    print(contador+1)\n",
    "    data = my_response.json()\n",
    "    my_activities_list.append(data)\n",
    "    print(\"Activity:\"+str(data['activity']))\n",
    "    print(\"\")\n",
    "    print(\"Accessibility:\"+str(data['accessibility']))\n",
    "    print(\"\")\n",
    "    print(\"Price:\"+str(data['price']))\n",
    "    print(\"\")\n",
    "    print(\"Participants:\"+str(data['participants']))\n",
    "    print(\"\")\n",
    "\n"
   ]
  },
  {
   "cell_type": "markdown",
   "id": "bf0cf636",
   "metadata": {},
   "source": [
    "# 2"
   ]
  },
  {
   "cell_type": "code",
   "execution_count": 55,
   "id": "41a75458",
   "metadata": {},
   "outputs": [
    {
     "name": "stdout",
     "output_type": "stream",
     "text": [
      "Random activity: Match your storage containers with their lids\n",
      "Activity type: busywork\n",
      "\n",
      "Activity of the same type: Uninstall unused apps from your devices\n",
      "Activity type: busywork\n"
     ]
    }
   ],
   "source": [
    "my_response = requests.get(\"http://www.boredapi.com/api/activity\")\n",
    "data = my_response.json()4\n",
    "activity_type = data['type']\n",
    "activity_name = data['activity']\n",
    "print(f\"Random activity: {activity_name}\")\n",
    "print(f\"Activity type: {activity_type}\")\n",
    "print(\"\")\n",
    "same_type_response = requests.get(\"http://www.boredapi.com/api/activity?type=\"+activity_type)\n",
    "same_type_data = same_type_response.json()\n",
    "same_type_activity_name = same_type_data['activity']\n",
    "print(f\"Activity of the same type: {same_type_activity_name}\")\n",
    "print(f\"Activity type: {activity_type}\")\n"
   ]
  },
  {
   "cell_type": "code",
   "execution_count": 93,
   "id": "3ca9161f",
   "metadata": {},
   "outputs": [
    {
     "name": "stdout",
     "output_type": "stream",
     "text": [
      "education: Learn how to write in shorthand\n",
      "recreational: Practice coding in your favorite lanaguage\n",
      "social: Have a football scrimmage with some friends\n",
      "diy: Learn woodworking\n",
      "charity: Mow your neighbor's lawn\n",
      "cooking: Create a meal plan for the coming week\n",
      "relaxation: Go on a long drive with no music\n",
      "music: Make a simple musical instrument\n",
      "busywork: Make a budget\n"
     ]
    }
   ],
   "source": [
    "activity_types_list = [\"education\", \"recreational\", \"social\", \"diy\", \"charity\", \"cooking\", \"relaxation\", \"music\", \"busywork\"]\n",
    "\n",
    "for activity_type in activity_types_list:\n",
    "    response = requests.get(f'http://www.boredapi.com/api/activity?type={activity_type}')\n",
    "    activity = response.json()\n",
    "    ac_type = activity['type']\n",
    "    ac_activity = activity['activity']\n",
    "    print(f\"{ac_type}: {ac_activity}\")\n"
   ]
  },
  {
   "cell_type": "markdown",
   "id": "aee42d2d",
   "metadata": {},
   "source": [
    "# 2 Learning a new API"
   ]
  },
  {
   "cell_type": "markdown",
   "id": "fe647c97",
   "metadata": {},
   "source": [
    "# Single dog fact "
   ]
  },
  {
   "cell_type": "code",
   "execution_count": null,
   "id": "d7f53cd9",
   "metadata": {},
   "outputs": [],
   "source": [
    "#https://dogapi.dog/api/v2/facts"
   ]
  },
  {
   "cell_type": "markdown",
   "id": "b9afb9be",
   "metadata": {},
   "source": [
    "# 5 dog facts at once"
   ]
  },
  {
   "cell_type": "code",
   "execution_count": null,
   "id": "c28c4234",
   "metadata": {},
   "outputs": [],
   "source": [
    "#https://dogapi.dog/api/v2/facts?limit=5"
   ]
  },
  {
   "cell_type": "markdown",
   "id": "4425b713",
   "metadata": {},
   "source": [
    "# 4"
   ]
  },
  {
   "cell_type": "code",
   "execution_count": 224,
   "id": "6d9a451e",
   "metadata": {},
   "outputs": [
    {
     "name": "stdout",
     "output_type": "stream",
     "text": [
      "Fact:\n",
      "Baks the blind boxer has a seeing eye goose named Buttons. Buttons the four-year-old goose leads her pup around everywhere either by hanging onto him with her neck, or by honking to tell him which way to go.\n"
     ]
    }
   ],
   "source": [
    "url = 'https://dogapi.dog/api/v2/facts'\n",
    "params_dict = {}\n",
    "params_dict[\"limit\"] = 1\n",
    "#demonstrate how to use the 'params' parameter:\n",
    "response = requests.get(url, params_dict)\n",
    "data = response.json()\n",
    "#print(data)\n",
    "#print(\"\")\n",
    "fact_list = data['data']\n",
    "for my_fact in fact_list:\n",
    "    #print(\"my_fact:\")\n",
    "    #print(my_fact)\n",
    "    attributes = my_fact[\"attributes\"]\n",
    "    #print(\"attributes:\")\n",
    "    #print(attributes)\n",
    "    body = attributes[\"body\"]\n",
    "    print(\"Fact:\")\n",
    "    print(body)\n",
    "    #print(my_fact['attributes']['body'])\n",
    "    #print(my_fact)"
   ]
  },
  {
   "cell_type": "markdown",
   "id": "ff3c98c1",
   "metadata": {},
   "source": [
    "# 5"
   ]
  },
  {
   "cell_type": "code",
   "execution_count": 237,
   "id": "73312ccc",
   "metadata": {},
   "outputs": [
    {
     "name": "stdout",
     "output_type": "stream",
     "text": [
      "id: e54aedf6-02ab-4f6c-a819-43e2e649e458\n",
      "Fact: A dog can both sniff and breathe at the same time.\n",
      "id: ed7dd6b8-8aa9-4780-8e23-c44847d3c9e6\n",
      "Fact: All dogs can be traced back 40 million years ago to a weasel-like animal called the Miacis which dwelled in trees and dens. The Miacis later evolved into the Tomarctus, a direct forbear of the genus Canis, which includes the wolf and jackal as well as the dog.\n",
      "id: e74a2f13-52b0-4fbc-851b-fbac1e327036\n",
      "Fact: The average dog can run at speeds of up to 19mph.\n",
      "id: c60e61e1-0ba6-4413-99d0-997a17148ea9\n",
      "Fact: The largest dog was an English Mastiff who weighed 343 pounds.\n",
      "id: 35638e7e-d2b7-453d-82d1-2a674de9db15\n",
      "Fact: Dogs can see in color, though they most likely see colors similar to a color-blind human. They can see better when the light is low.\n",
      "id: 77a71d5c-6bad-4c14-b841-51f1b72840bc\n",
      "Fact: Wolves and dogs can mate to produce fertile offspring.\n",
      "id: 96cfbe1a-84bc-4844-a0f9-77dfcd966d83\n",
      "Fact: Puppies are sometimes rejected by their mother if they are born by cesarean and cleaned up before being given back to her.\n",
      "id: 58d82e49-0b2f-4911-bdde-0d686e092b72\n",
      "Fact: Dogs can see in color, but not as vividly as humans.\n",
      "id: de4682e7-fc87-4ebc-96b8-cbac3110bf3d\n",
      "Fact: At the age of 4 weeks, most dogs have developed the majority of their vocalizations.\n",
      "id: 377ff47a-5e0f-460a-a79f-3a88b55c7510\n",
      "Fact: Therapy dogs, who bring healing to individuals and families by visiting hospitals schools or retirement homes, differ from service dogs, who assist individuals who have disabilities.\n",
      "id: 2cd15e5a-1013-4f23-abd5-45cbdceba59c\n",
      "Fact: Female dogs carry puppies for about nine weeks before birth.\n",
      "id: f3175884-5bac-468e-8713-8dd8edeb0deb\n",
      "Fact: The ancient Chinese carried Pekingese puppies in the sleeves of their robes.\n",
      "id: 7aba3b34-3ad8-4575-9f55-56cf7120c71a\n",
      "Fact: The Labrador Retriever is the #1 favorite breed in the U.S., Canada, and the U.K.\n",
      "id: 846e6879-3acd-4017-86a1-6d76ab1f521a\n",
      "Fact: Bloodhound dogs have a keen sense of smell and have been used since the Middle Ages to track criminals.\n",
      "id: 1e0a02e4-a345-414f-80bc-32d642ac60d9\n",
      "Fact: The Russians trained dogs during WWII to run suicide missions with mines strapped to their backs.\n",
      "id: d2f4271f-15f3-4b27-a4da-b2cece51bb57\n",
      "Fact: Service dogs are trained to know when they are on duty. When their harness is on, they know it's business time. When you take it off, the pups immediately become playful and energetic.\n",
      "id: 96f49d0c-64d1-43f4-87e1-6f7e8796d89d\n",
      "Fact: There are 703 breeds of purebred dogs.\n",
      "id: 86270753-3d60-46b8-84a0-c192611be68f\n",
      "Fact: The oldest known breed is likely the Saluki, originally trained by Egyptians to help them track game.\n",
      "id: 115fabfe-ea24-42af-afde-2cdcad7a8502\n",
      "Fact: Tired puppies get cranky just like little kids. If you have a fussy puppy, try nap time.\n",
      "id: 05c42b25-b63c-4e74-926f-0a7d36c4a71f\n",
      "Fact: Eighty-seven percent of dog owners say their dog curls up beside them or at their feet while they watch T.V.\n",
      "id: 176c9bec-1b7e-46fd-afb9-2583bedc0be0\n",
      "Fact: Scholars have argued over the metaphysical interpretation of Dorothy’s pooch, Toto, in the Wizard of Oz. One theory postulates that Toto represents Anubis, the dog-headed Egyptian god of death, because Toto consistently keeps Dorothy from safely returning home.\n",
      "id: c0ce5c28-edf1-4250-874f-0aea880bc19b\n",
      "Fact: An American Animal Hospital Association poll found that 33% of dog owners admit to talking to their dogs on the phone and leaving answering machine messages for them while away.\n",
      "id: 9f9cb818-620c-4331-8850-e44fdf984e35\n",
      "Fact: The Boy Scouts and Girl Scouts both offer merit badges in dog care.\n",
      "id: 2a5523d2-d38e-4956-bb21-0d9124e232b8\n",
      "Fact: Dogs have a ligament in the neck which allows them to conserve energy while running long distances following scent trails with their nose to the ground. Many other species have a similar ligament and it is called a Paddywhack.\n",
      "id: 52daa494-7fd4-4a44-95c1-128afbfa0ab8\n",
      "Fact: The fastest breed, the Greyhound, can run up to 44 miles per hour.\n"
     ]
    }
   ],
   "source": [
    "url = 'https://dogapi.dog/api/v2/facts'\n",
    "params_dict = {}\n",
    "params_dict[\"limit\"] = 5\n",
    "fact_dict = {}\n",
    "\n",
    "#repetir 5 veces:\n",
    "for contador in range(5):\n",
    "    #1.-pedir request al API\n",
    "    my_response = requests.get(url, params_dict)\n",
    "    data = my_response.json()\n",
    "    #print(contador+1)\n",
    "    #2.-guardar esa informacion\n",
    "    fact_list = data['data']\n",
    "    for my_fact in fact_list:\n",
    "        fact_id = my_fact['id']\n",
    "        attributes = my_fact[\"attributes\"]\n",
    "        body = attributes[\"body\"]\n",
    "        #agregar al diccionario\n",
    "        fact_dict[fact_id] = body    \n",
    "#4.-clasificacion \n",
    "for key in fact_dict:\n",
    "    print(f\"id: {key}\")\n",
    "    print(f\"Fact: {fact_dict[key]}\")"
   ]
  },
  {
   "cell_type": "markdown",
   "id": "cc2c1c7e",
   "metadata": {},
   "source": [
    "# 3 Mapping!"
   ]
  },
  {
   "cell_type": "code",
   "execution_count": 241,
   "id": "81e98ee7",
   "metadata": {},
   "outputs": [
    {
     "name": "stdout",
     "output_type": "stream",
     "text": [
      "Gas stations in duvall:3\n",
      "Gas stations in carnation:2\n",
      "There are more gas stations in duvall\n"
     ]
    }
   ],
   "source": [
    "#Are there more gas stations in Duvall or Carnation?\n",
    "url = \"https://nominatim.openstreetmap.org/search\"\n",
    "my_params = {'q' : \"gas stations in duvall, wa\",\n",
    "             'format' : 'jsonv2'}\n",
    "\n",
    "response = requests.get(url, params=my_params)\n",
    "\n",
    "if response.status_code == 200:\n",
    "    data = response.json()\n",
    "else:\n",
    "    print(\"ERROR: request was not successfully\")\n",
    "    \n",
    "duvall_gas_stations = len(data)\n",
    "print(f\"Gas stations in duvall:{duvall_gas_stations}\")\n",
    "\n",
    "my_params = {'q' : \"gas stations in carnation, wa\",\n",
    "             'format' : 'jsonv2'}\n",
    "response = requests.get(url, params=my_params)\n",
    "\n",
    "if response.status_code == 200:\n",
    "    data = response.json()\n",
    "else:\n",
    "    print(\"ERROR: request was not successfully\")\n",
    "\n",
    "carnation_gas_stations = len(data)\n",
    "print(f\"Gas stations in carnation:{carnation_gas_stations}\")\n",
    "\n",
    "if carnation_gas_stations>duvall_gas_stations:\n",
    "    print(\"There are more gas stations in carnation\")\n",
    "elif duvall_gas_stations>carnation_gas_stations:\n",
    "    print(\"There are more gas stations in duvall\")\n",
    "else:\n",
    "    print(\"There are the same amount of gas stations on carnation and duvall\")"
   ]
  },
  {
   "cell_type": "code",
   "execution_count": 245,
   "id": "7f61203d",
   "metadata": {},
   "outputs": [
    {
     "name": "stdout",
     "output_type": "stream",
     "text": [
      "Dentists near university in Seattle:8\n",
      "Dentists near downtown Seattle:10\n",
      "There are more dentists in downtown area\n"
     ]
    }
   ],
   "source": [
    "#Are there more dentists near the University or near Downtown? (you will need to look at the limit on the number of returned items)\n",
    "url = \"https://nominatim.openstreetmap.org/search\"\n",
    "my_params = {'q' : \"dentists in university, seattle wa\",\n",
    "             'countrycodes':'US',\n",
    "             'format' : 'jsonv2'}\n",
    "\n",
    "response = requests.get(url, params=my_params)\n",
    "\n",
    "if response.status_code == 200:\n",
    "    data = response.json()\n",
    "else:\n",
    "    print(\"ERROR: request was not successfully\")\n",
    "    \n",
    "dentists_university = len(data)\n",
    "print(f\"Dentists near university in Seattle:{dentists_university}\")\n",
    "\n",
    "my_params = {'q' : \"dentists in downtown, seattle wa\",\n",
    "             'countrycodes':'US',\n",
    "             'format' : 'jsonv2'}\n",
    "\n",
    "response = requests.get(url, params=my_params)\n",
    "\n",
    "if response.status_code == 200:\n",
    "    data = response.json()\n",
    "else:\n",
    "    print(\"ERROR: request was not successfully\")\n",
    "\n",
    "dentists_downtown = len(data)\n",
    "print(f\"Dentists near downtown Seattle:{dentists_downtown}\")\n",
    "\n",
    "if dentists_downtown>dentists_university:\n",
    "    print(\"There are more dentists in downtown area\")\n",
    "elif dentists_university>dentists_downtown:\n",
    "    print(\"There are more dentists in university area\")\n",
    "else:\n",
    "    print(\"There are the same amount of dentists\")\n"
   ]
  },
  {
   "cell_type": "code",
   "execution_count": 258,
   "id": "98efc717",
   "metadata": {},
   "outputs": [
    {
     "ename": "JSONDecodeError",
     "evalue": "Expecting value: line 1 column 1 (char 0)",
     "output_type": "error",
     "traceback": [
      "\u001b[0;31m---------------------------------------------------------------------------\u001b[0m",
      "\u001b[0;31mJSONDecodeError\u001b[0m                           Traceback (most recent call last)",
      "File \u001b[0;32m~/anaconda3/lib/python3.10/site-packages/requests/models.py:971\u001b[0m, in \u001b[0;36mResponse.json\u001b[0;34m(self, **kwargs)\u001b[0m\n\u001b[1;32m    970\u001b[0m \u001b[38;5;28;01mtry\u001b[39;00m:\n\u001b[0;32m--> 971\u001b[0m     \u001b[38;5;28;01mreturn\u001b[39;00m \u001b[43mcomplexjson\u001b[49m\u001b[38;5;241;43m.\u001b[39;49m\u001b[43mloads\u001b[49m\u001b[43m(\u001b[49m\u001b[38;5;28;43mself\u001b[39;49m\u001b[38;5;241;43m.\u001b[39;49m\u001b[43mtext\u001b[49m\u001b[43m,\u001b[49m\u001b[43m \u001b[49m\u001b[38;5;241;43m*\u001b[39;49m\u001b[38;5;241;43m*\u001b[39;49m\u001b[43mkwargs\u001b[49m\u001b[43m)\u001b[49m\n\u001b[1;32m    972\u001b[0m \u001b[38;5;28;01mexcept\u001b[39;00m JSONDecodeError \u001b[38;5;28;01mas\u001b[39;00m e:\n\u001b[1;32m    973\u001b[0m     \u001b[38;5;66;03m# Catch JSON-related errors and raise as requests.JSONDecodeError\u001b[39;00m\n\u001b[1;32m    974\u001b[0m     \u001b[38;5;66;03m# This aliases json.JSONDecodeError and simplejson.JSONDecodeError\u001b[39;00m\n",
      "File \u001b[0;32m~/anaconda3/lib/python3.10/json/__init__.py:346\u001b[0m, in \u001b[0;36mloads\u001b[0;34m(s, cls, object_hook, parse_float, parse_int, parse_constant, object_pairs_hook, **kw)\u001b[0m\n\u001b[1;32m    343\u001b[0m \u001b[38;5;28;01mif\u001b[39;00m (\u001b[38;5;28mcls\u001b[39m \u001b[38;5;129;01mis\u001b[39;00m \u001b[38;5;28;01mNone\u001b[39;00m \u001b[38;5;129;01mand\u001b[39;00m object_hook \u001b[38;5;129;01mis\u001b[39;00m \u001b[38;5;28;01mNone\u001b[39;00m \u001b[38;5;129;01mand\u001b[39;00m\n\u001b[1;32m    344\u001b[0m         parse_int \u001b[38;5;129;01mis\u001b[39;00m \u001b[38;5;28;01mNone\u001b[39;00m \u001b[38;5;129;01mand\u001b[39;00m parse_float \u001b[38;5;129;01mis\u001b[39;00m \u001b[38;5;28;01mNone\u001b[39;00m \u001b[38;5;129;01mand\u001b[39;00m\n\u001b[1;32m    345\u001b[0m         parse_constant \u001b[38;5;129;01mis\u001b[39;00m \u001b[38;5;28;01mNone\u001b[39;00m \u001b[38;5;129;01mand\u001b[39;00m object_pairs_hook \u001b[38;5;129;01mis\u001b[39;00m \u001b[38;5;28;01mNone\u001b[39;00m \u001b[38;5;129;01mand\u001b[39;00m \u001b[38;5;129;01mnot\u001b[39;00m kw):\n\u001b[0;32m--> 346\u001b[0m     \u001b[38;5;28;01mreturn\u001b[39;00m \u001b[43m_default_decoder\u001b[49m\u001b[38;5;241;43m.\u001b[39;49m\u001b[43mdecode\u001b[49m\u001b[43m(\u001b[49m\u001b[43ms\u001b[49m\u001b[43m)\u001b[49m\n\u001b[1;32m    347\u001b[0m \u001b[38;5;28;01mif\u001b[39;00m \u001b[38;5;28mcls\u001b[39m \u001b[38;5;129;01mis\u001b[39;00m \u001b[38;5;28;01mNone\u001b[39;00m:\n",
      "File \u001b[0;32m~/anaconda3/lib/python3.10/json/decoder.py:337\u001b[0m, in \u001b[0;36mJSONDecoder.decode\u001b[0;34m(self, s, _w)\u001b[0m\n\u001b[1;32m    333\u001b[0m \u001b[38;5;124;03m\"\"\"Return the Python representation of ``s`` (a ``str`` instance\u001b[39;00m\n\u001b[1;32m    334\u001b[0m \u001b[38;5;124;03mcontaining a JSON document).\u001b[39;00m\n\u001b[1;32m    335\u001b[0m \n\u001b[1;32m    336\u001b[0m \u001b[38;5;124;03m\"\"\"\u001b[39;00m\n\u001b[0;32m--> 337\u001b[0m obj, end \u001b[38;5;241m=\u001b[39m \u001b[38;5;28;43mself\u001b[39;49m\u001b[38;5;241;43m.\u001b[39;49m\u001b[43mraw_decode\u001b[49m\u001b[43m(\u001b[49m\u001b[43ms\u001b[49m\u001b[43m,\u001b[49m\u001b[43m \u001b[49m\u001b[43midx\u001b[49m\u001b[38;5;241;43m=\u001b[39;49m\u001b[43m_w\u001b[49m\u001b[43m(\u001b[49m\u001b[43ms\u001b[49m\u001b[43m,\u001b[49m\u001b[43m \u001b[49m\u001b[38;5;241;43m0\u001b[39;49m\u001b[43m)\u001b[49m\u001b[38;5;241;43m.\u001b[39;49m\u001b[43mend\u001b[49m\u001b[43m(\u001b[49m\u001b[43m)\u001b[49m\u001b[43m)\u001b[49m\n\u001b[1;32m    338\u001b[0m end \u001b[38;5;241m=\u001b[39m _w(s, end)\u001b[38;5;241m.\u001b[39mend()\n",
      "File \u001b[0;32m~/anaconda3/lib/python3.10/json/decoder.py:355\u001b[0m, in \u001b[0;36mJSONDecoder.raw_decode\u001b[0;34m(self, s, idx)\u001b[0m\n\u001b[1;32m    354\u001b[0m \u001b[38;5;28;01mexcept\u001b[39;00m \u001b[38;5;167;01mStopIteration\u001b[39;00m \u001b[38;5;28;01mas\u001b[39;00m err:\n\u001b[0;32m--> 355\u001b[0m     \u001b[38;5;28;01mraise\u001b[39;00m JSONDecodeError(\u001b[38;5;124m\"\u001b[39m\u001b[38;5;124mExpecting value\u001b[39m\u001b[38;5;124m\"\u001b[39m, s, err\u001b[38;5;241m.\u001b[39mvalue) \u001b[38;5;28;01mfrom\u001b[39;00m \u001b[38;5;28mNone\u001b[39m\n\u001b[1;32m    356\u001b[0m \u001b[38;5;28;01mreturn\u001b[39;00m obj, end\n",
      "\u001b[0;31mJSONDecodeError\u001b[0m: Expecting value: line 1 column 1 (char 0)",
      "\nDuring handling of the above exception, another exception occurred:\n",
      "\u001b[0;31mJSONDecodeError\u001b[0m                           Traceback (most recent call last)",
      "Cell \u001b[0;32mIn[258], line 18\u001b[0m\n\u001b[1;32m     15\u001b[0m response \u001b[38;5;241m=\u001b[39m requests\u001b[38;5;241m.\u001b[39mget(url, params\u001b[38;5;241m=\u001b[39mmy_params)\n\u001b[1;32m     17\u001b[0m \u001b[38;5;28;01mif\u001b[39;00m response\u001b[38;5;241m.\u001b[39mstatus_code \u001b[38;5;241m==\u001b[39m \u001b[38;5;241m200\u001b[39m:\n\u001b[0;32m---> 18\u001b[0m     data \u001b[38;5;241m=\u001b[39m \u001b[43mresponse\u001b[49m\u001b[38;5;241;43m.\u001b[39;49m\u001b[43mjson\u001b[49m\u001b[43m(\u001b[49m\u001b[43m)\u001b[49m\n\u001b[1;32m     19\u001b[0m \u001b[38;5;28;01melse\u001b[39;00m:\n\u001b[1;32m     20\u001b[0m     \u001b[38;5;28mprint\u001b[39m(\u001b[38;5;124m\"\u001b[39m\u001b[38;5;124mERROR: request was not successfully\u001b[39m\u001b[38;5;124m\"\u001b[39m)\n",
      "File \u001b[0;32m~/anaconda3/lib/python3.10/site-packages/requests/models.py:975\u001b[0m, in \u001b[0;36mResponse.json\u001b[0;34m(self, **kwargs)\u001b[0m\n\u001b[1;32m    971\u001b[0m     \u001b[38;5;28;01mreturn\u001b[39;00m complexjson\u001b[38;5;241m.\u001b[39mloads(\u001b[38;5;28mself\u001b[39m\u001b[38;5;241m.\u001b[39mtext, \u001b[38;5;241m*\u001b[39m\u001b[38;5;241m*\u001b[39mkwargs)\n\u001b[1;32m    972\u001b[0m \u001b[38;5;28;01mexcept\u001b[39;00m JSONDecodeError \u001b[38;5;28;01mas\u001b[39;00m e:\n\u001b[1;32m    973\u001b[0m     \u001b[38;5;66;03m# Catch JSON-related errors and raise as requests.JSONDecodeError\u001b[39;00m\n\u001b[1;32m    974\u001b[0m     \u001b[38;5;66;03m# This aliases json.JSONDecodeError and simplejson.JSONDecodeError\u001b[39;00m\n\u001b[0;32m--> 975\u001b[0m     \u001b[38;5;28;01mraise\u001b[39;00m RequestsJSONDecodeError(e\u001b[38;5;241m.\u001b[39mmsg, e\u001b[38;5;241m.\u001b[39mdoc, e\u001b[38;5;241m.\u001b[39mpos)\n",
      "\u001b[0;31mJSONDecodeError\u001b[0m: Expecting value: line 1 column 1 (char 0)"
     ]
    }
   ],
   "source": [
    "#Use the geocoding API endpoint in Nominatim to look up a specific latitude and longitude \n",
    "#of your choice (try this building or your hometown).\n",
    "\n",
    "#[-88.5724372,20.6784192]\n",
    "#https://nominatim.openstreetmap.org/ui/search.html?\n",
    "#    q=chichen+itza%2C+mx&viewbox=-88.59160%2C20.69113%2C-88.54624%2C20.67471&bounded=1&countrycodes=MX\n",
    "\n",
    "url = \"https://nominatim.openstreetmap.org/search\"\n",
    "my_params = {'q' : \"chichen itza, mx\",\n",
    "             'viewbox' : '88.59160%2C20.69113%2C-88.54624%2C20.67471',\n",
    "             'bounded' : 1,\n",
    "             'countrycodes':'MX'\n",
    "            }\n",
    "\n",
    "response = requests.get(url, params=my_params)\n",
    "\n",
    "if response.status_code == 200:\n",
    "    data = response.json()\n",
    "else:\n",
    "    print(\"ERROR: request was not successfully\")"
   ]
  },
  {
   "cell_type": "code",
   "execution_count": 267,
   "id": "0d1fac9b",
   "metadata": {},
   "outputs": [
    {
     "name": "stdout",
     "output_type": "stream",
     "text": [
      "[{'place_id': 340259502, 'licence': 'Data © OpenStreetMap contributors, ODbL 1.0. https://osm.org/copyright', 'osm_type': 'way', 'osm_id': 1086262198, 'boundingbox': ['47.6081042', '47.6081428', '-122.1743914', '-122.1742413'], 'lat': '47.6081042', 'lon': '-122.1742413', 'display_name': 'WIlburton Hill Park Trails, Belridge, Bellevue, King County, Washington, 98005, United States', 'place_rank': 30, 'category': 'aerialway', 'type': 'zip_line', 'importance': 0.4001}, {'place_id': 266604172, 'licence': 'Data © OpenStreetMap contributors, ODbL 1.0. https://osm.org/copyright', 'osm_type': 'way', 'osm_id': 831449302, 'boundingbox': ['47.5675978', '47.5685085', '-122.1486867', '-122.1460848'], 'lat': '47.5685085', 'lon': '-122.1472952', 'display_name': '146th Avenue Southeast, Eastgate, Bellevue, King County, Washington, 98006, United States', 'place_rank': 30, 'category': 'aerialway', 'type': 'zip_line', 'importance': 0.4001}, {'place_id': 266425130, 'licence': 'Data © OpenStreetMap contributors, ODbL 1.0. https://osm.org/copyright', 'osm_type': 'way', 'osm_id': 831449301, 'boundingbox': ['47.5676025', '47.5685007', '-122.1486472', '-122.1475391'], 'lat': '47.5682515', 'lon': '-122.1482035', 'display_name': '144th Avenue Southeast, Somerset, Bellevue, King County, Washington, 98006, United States', 'place_rank': 30, 'category': 'aerialway', 'type': 'zip_line', 'importance': 0.4001}]\n"
     ]
    }
   ],
   "source": [
    "#Write a program to find all the ziplines in King County, Washington (or at least all the ones that OSM knows about!).\n",
    "\n",
    "url = \"https://nominatim.openstreetmap.org/search\"\n",
    "my_params = {'q' : \"[zipline] in king county,wa\",\n",
    "             'countrycodes':'US',\n",
    "             'format' : 'jsonv2'}\n",
    "\n",
    "response = requests.get(url, params=my_params)\n",
    "\n",
    "if response.status_code == 200:\n",
    "    data = response.json()\n",
    "    print(data)\n",
    "else:\n",
    "    print(\"ERROR: request was not successfully\")\n"
   ]
  },
  {
   "cell_type": "code",
   "execution_count": 278,
   "id": "f9647ac3",
   "metadata": {},
   "outputs": [
    {
     "name": "stdout",
     "output_type": "stream",
     "text": [
      "340259502\n",
      "[{'place_id': 111521513, 'licence': 'Data © OpenStreetMap contributors, ODbL 1.0. https://osm.org/copyright', 'osm_type': 'way', 'osm_id': 25638470, 'boundingbox': ['48.7782393', '48.778434', '11.4632772', '11.4635701'], 'lat': '48.7783366', 'lon': '11.463423640364985', 'display_name': 'Fort-Wrede-Stubn, 7, Fort-Wrede-Straße, Mailing (Fort Wrede), Mailing, Ingolstadt, Bayern, 85055, Deutschland', 'place_rank': 30, 'category': 'amenity', 'type': 'pub', 'importance': 0.10010000000000001, 'icon': 'https://nominatim.openstreetmap.org/ui/mapicons/food_pub.p.20.png'}]\n",
      "266604172\n",
      "[{'place_id': 111521513, 'licence': 'Data © OpenStreetMap contributors, ODbL 1.0. https://osm.org/copyright', 'osm_type': 'way', 'osm_id': 25638470, 'boundingbox': ['48.7782393', '48.778434', '11.4632772', '11.4635701'], 'lat': '48.7783366', 'lon': '11.463423640364985', 'display_name': 'Fort-Wrede-Stubn, 7, Fort-Wrede-Straße, Mailing (Fort Wrede), Mailing, Ingolstadt, Bayern, 85055, Deutschland', 'place_rank': 30, 'category': 'amenity', 'type': 'pub', 'importance': 0.10010000000000001, 'icon': 'https://nominatim.openstreetmap.org/ui/mapicons/food_pub.p.20.png'}]\n",
      "266425130\n",
      "[{'place_id': 111521513, 'licence': 'Data © OpenStreetMap contributors, ODbL 1.0. https://osm.org/copyright', 'osm_type': 'way', 'osm_id': 25638470, 'boundingbox': ['48.7782393', '48.778434', '11.4632772', '11.4635701'], 'lat': '48.7783366', 'lon': '11.463423640364985', 'display_name': 'Fort-Wrede-Stubn, 7, Fort-Wrede-Straße, Mailing (Fort Wrede), Mailing, Ingolstadt, Bayern, 85055, Deutschland', 'place_rank': 30, 'category': 'amenity', 'type': 'pub', 'importance': 0.10010000000000001, 'icon': 'https://nominatim.openstreetmap.org/ui/mapicons/food_pub.p.20.png'}]\n"
     ]
    }
   ],
   "source": [
    "#It's important to be alert and well-caffeinated when ziplining! Once you've found a nearby zipline, \n",
    "#have your program use that result to find the nearest cafe each of the ziplines you identify!\n",
    "\n",
    "url = \"https://nominatim.openstreetmap.org/search\"\n",
    "my_params = {'q' : \"[zipline] in king county,wa\",\n",
    "             'countrycodes':'US',\n",
    "             'format' : 'jsonv2'}\n",
    "\n",
    "response = requests.get(url, params=my_params)\n",
    "\n",
    "if response.status_code == 200:\n",
    "    data = response.json()\n",
    "    #print(data)\n",
    "    for zipline in data:\n",
    "        coffee_params = {\n",
    "            'q' : f\"[cafe] in {zipline['place_id']}\",\n",
    "            'format' : 'jsonv2',\n",
    "            'amenity':'cafe',\n",
    "            'limit':1\n",
    "                        }\n",
    "        print(zipline['place_id'])\n",
    "        coffee_request = requests.get(url,coffee_params)\n",
    "        coffee_data = coffee_request.json()\n",
    "        print(coffee_data)\n",
    "\n",
    "else:\n",
    "    print(\"ERROR: request was not successfully\")\n"
   ]
  },
  {
   "cell_type": "code",
   "execution_count": 280,
   "id": "800333d3",
   "metadata": {},
   "outputs": [
    {
     "name": "stdout",
     "output_type": "stream",
     "text": [
      "Colleges in Seattle:\n",
      "47.61680045\n",
      "-122.33586595\n",
      "Cornish College of the Arts, Terry Avenue, South Lake Union, First Hill, Seattle, King County, Washington, 98191, United States is located at : lat 47.61680045 , lon -122.33586595\n",
      "47.6549477\n",
      "-122.312389\n",
      "UW College of Built Environments, 3949, 15th Avenue Northeast, West Campus, University District, Seattle, King County, Washington, 98105, United States is located at : lat 47.6549477 , lon -122.312389\n",
      "47.61619055\n",
      "-122.32149768795851\n",
      "Seattle Central College, East Howell Street, Capitol Hill, Seattle, King County, Washington, 98191, United States is located at : lat 47.61619055 , lon -122.32149768795851\n",
      "47.6177084\n",
      "-122.3444624\n",
      "City University of Seattle, 521, Wall Street, South Lake Union, Belltown, Seattle, King County, Washington, 98121, United States is located at : lat 47.6177084 , lon -122.3444624\n",
      "47.6218374\n",
      "-122.3505371\n",
      "Academy of Interactive Entertainment, 305, Harrison Street, Uptown, Belltown, Seattle, King County, Washington, 98109, United States is located at : lat 47.6218374 , lon -122.3505371\n",
      "47.60002405\n",
      "-122.30376308697222\n",
      "Seattle Vocational Institute, 2120, South Jackson Street, Little Saigon, Central District, Seattle, King County, Washington, 98144, United States is located at : lat 47.60002405 , lon -122.30376308697222\n",
      "48.005767000000006\n",
      "-122.20262859522254\n",
      "Everett Community College, 10th Street, Northwest Everett, Everett, Snohomish County, Washington, 98201, United States is located at : lat 48.005767000000006 , lon -122.20262859522254\n",
      "47.6133176\n",
      "-122.35096519999999\n",
      "The Seattle School of Theology and Psychology, 2501, Elliott Avenue, Belltown, Seattle, King County, Washington, 98121, United States is located at : lat 47.6133176 , lon -122.35096519999999\n",
      "47.59718215\n",
      "-122.3017103499598\n",
      "Seattle Central College Wood Technology Center, 2310, South Lane Street, Central District, Seattle, King County, Washington, 98144, United States is located at : lat 47.59718215 , lon -122.3017103499598\n",
      "47.6780451\n",
      "-122.323478\n",
      "Seattle Institute of Oriental Medicine, 444, Northeast Ravenna Boulevard, Meridian, Green Lake, Seattle, King County, Washington, 98115, United States is located at : lat 47.6780451 , lon -122.323478\n"
     ]
    }
   ],
   "source": [
    "#Craft a query using the search API to find colleges in Seattle. (Hint: you'll want to set bounded=1 and use the viewbox). \n",
    "#Print the name and location of every college you find.\n",
    "\n",
    "#https://nominatim.openstreetmap.org/ui/search.html?addressdetails=1&q=college+in+seattle\n",
    "    \n",
    "url = \"https://nominatim.openstreetmap.org/search\"\n",
    "my_params = {'q' : \"[college] in seattle,wa\",\n",
    "             'countrycodes':'US',\n",
    "             'format' : 'jsonv2',\n",
    "             'addressdetails':1\n",
    "            }\n",
    "\n",
    "response = requests.get(url, params=my_params)\n",
    "college_list = []\n",
    "if response.status_code == 200:\n",
    "    print(\"Colleges in Seattle:\")\n",
    "    data = response.json()\n",
    "    #print(data)\n",
    "    for college in data:\n",
    "        print(college['lat'])\n",
    "        print(college['lon'])\n",
    "        print(f\"{college['display_name']} is located at : lat {college['lat']} , lon {college['lon']}\")\n",
    "        college_list.append(college)\n",
    "\n",
    "else:\n",
    "    print(\"ERROR: request was not successfully\")"
   ]
  },
  {
   "cell_type": "code",
   "execution_count": 281,
   "id": "ce442034",
   "metadata": {},
   "outputs": [
    {
     "name": "stdout",
     "output_type": "stream",
     "text": [
      "college\n",
      "college\n",
      "college\n",
      "college\n",
      "college\n",
      "college\n",
      "college\n",
      "college\n",
      "college\n",
      "college\n"
     ]
    }
   ],
   "source": [
    "#How can you tell that a place returned by the API is in fact a college?\n",
    "for college in college_list:\n",
    "    print(college['type'])"
   ]
  },
  {
   "cell_type": "code",
   "execution_count": 284,
   "id": "6ae461e8",
   "metadata": {},
   "outputs": [],
   "source": [
    "#Print the list of colleges into a new TSV file with the following columns: \n",
    "#osm_id (a unique ID that OSM uses), the name of the college, latitude, and longitude.\n",
    "\n",
    "with open(\"colleges_in_seattle.tsv\", \"w\") as my_file:\n",
    "    for college in college_list:\n",
    "        print(f\"{college['osm_id']}\\t{college['display_name']}\\t{college['lat']}\\t{college['lon']}\", file=my_file)\n",
    "\n",
    "#print(college_list)"
   ]
  },
  {
   "cell_type": "code",
   "execution_count": null,
   "id": "35c2b321",
   "metadata": {},
   "outputs": [],
   "source": [
    "https://docs.google.com/spreadsheets/d/11k6hnpKyQ4K1Kv0UsyZtXwqtk5g9wu9ZYr1Sjlh0JC0/edit#gid=1019114651"
   ]
  }
 ],
 "metadata": {
  "kernelspec": {
   "display_name": "Python 3 (ipykernel)",
   "language": "python",
   "name": "python3"
  },
  "language_info": {
   "codemirror_mode": {
    "name": "ipython",
    "version": 3
   },
   "file_extension": ".py",
   "mimetype": "text/x-python",
   "name": "python",
   "nbconvert_exporter": "python",
   "pygments_lexer": "ipython3",
   "version": "3.10.9"
  }
 },
 "nbformat": 4,
 "nbformat_minor": 5
}
