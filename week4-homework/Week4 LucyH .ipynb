{
 "cells": [
  {
   "cell_type": "code",
   "execution_count": 34,
   "id": "0571d3df",
   "metadata": {},
   "outputs": [],
   "source": [
    "import requests"
   ]
  },
  {
   "cell_type": "code",
   "execution_count": 35,
   "id": "f772efbb",
   "metadata": {},
   "outputs": [],
   "source": [
    "my_response = requests.get(\"http://www.boredapi.com/api/activity\")"
   ]
  },
  {
   "cell_type": "code",
   "execution_count": 36,
   "id": "7e11b86a",
   "metadata": {},
   "outputs": [
    {
     "name": "stdout",
     "output_type": "stream",
     "text": [
      "200\n"
     ]
    }
   ],
   "source": [
    "print(my_response.status_code)"
   ]
  },
  {
   "cell_type": "code",
   "execution_count": 37,
   "id": "eabf3d2b",
   "metadata": {},
   "outputs": [
    {
     "data": {
      "text/plain": [
       "'{\"activity\":\"Do a jigsaw puzzle\",\"type\":\"recreational\",\"participants\":1,\"price\":0.1,\"link\":\"https://en.wikipedia.org/wiki/Jigsaw_puzzle\",\"key\":\"8550768\",\"accessibility\":1}'"
      ]
     },
     "execution_count": 37,
     "metadata": {},
     "output_type": "execute_result"
    }
   ],
   "source": [
    "my_response.text"
   ]
  },
  {
   "cell_type": "code",
   "execution_count": 38,
   "id": "126779c6",
   "metadata": {},
   "outputs": [
    {
     "data": {
      "text/plain": [
       "'{\"act'"
      ]
     },
     "execution_count": 38,
     "metadata": {},
     "output_type": "execute_result"
    }
   ],
   "source": [
    "my_response.text[0:5]"
   ]
  },
  {
   "cell_type": "code",
   "execution_count": 39,
   "id": "b1b41ace",
   "metadata": {},
   "outputs": [
    {
     "name": "stdout",
     "output_type": "stream",
     "text": [
      "200\n"
     ]
    }
   ],
   "source": [
    "my_response2 = requests.get(\"https://mako.cc/\")\n",
    "print(my_response2.status_code)"
   ]
  },
  {
   "cell_type": "code",
   "execution_count": 40,
   "id": "578f6397",
   "metadata": {},
   "outputs": [
    {
     "data": {
      "text/plain": [
       "b'<!DOCTYPE html>\\n\\n<html>\\n  <head>\\n    <meta charset=\"UTF-8\" />\\n    <meta name=viewport content=\"width=device-width, initial-scale=1\">\\n    <title>Benjamin Mako Hill</title>\\n    <link rel=\"stylesheet\" type=\"text/css\" href=\"https://mako.cc//style.css\" />\\n\\n    <!-- Bootstrap -->\\n    <link href=\"https://mako.cc//bootstrap/css/bootstrap.min.css\" rel=\"stylesheet\" media=\"screen\" />\\n\\n    <!-- HTML5 shim and Respond.js IE8 support of HTML5 elements and media queries -->\\n    <!--[if lt IE 9]>\\n\\t<script src=\"../../assets/js/html5shiv.js\"></script>\\n\\t<script src=\"../../assets/js/respond.min.js\"></script>\\n\\t<![endif]-->\\n\\n    <link rel=\"shortcut icon\" href=\"https://mako.cc/favicon.ico\" />\\n    <link rel=\"openid.server\" href=\"https://mako.cc/simpleid/\" />\\n    <link rel=\"openid2.provider\" href=\"https://mako.cc/simpleid/\" />\\n\\n  </head>\\n\\n  <body>\\n    \\n    <!-- Fixed navbar -->\\n    <nav class=\"navbar navbar-expand-md navbar-dark fixed-top bg-dark\">\\n\\n      <button class=\"navbar-toggler\" type=\"button\" data-toggle=\"collapse\" data-target=\"#navbarCollapse\" aria-controls=\"navbarCollapse\" aria-expanded=\"false\" aria-label=\"Toggle navigation\">\\n        <span class=\"navbar-toggler-icon\"></span>\\n      </button>\\n      <div class=\"collapse navbar-collapse order-first\" id=\"navbarCollapse\">\\n        <ul class=\"navbar-nav mr-auto\">\\n          <li class=\"nav-item\">\\n            <a class=\"nav-link\" href=\"/copyrighteous\">Blog</a>\\n          </li>\\n          <li class=\"nav-item\">\\n            <a class=\"nav-link\" href=\"/academic\">Academic\\n          </a></li>\\n\\t  <li class=\"nav-item\">\\n            <a class=\"nav-link\" href=\"/talks\">Talks</a>\\n\\t  </li>\\n\\t  \\n\\t  <li class=\"nav-item dropdown\">\\n\\t    <a class=\"nav-link dropdown-toggle\" href=\"#\" id=\"dropdown-teaching\" data-toggle=\"dropdown\" aria-haspopup=\"true\" aria-expanded=\"false\">Teaching</a>\\n            <div class=\"dropdown-menu\" aria-labelledby=\"dropdown-teaching\">\\n\\t      <a class=\"dropdown-item\" href=\"/teaching/\">Teaching Overview and Classes</a>\\n\\t      <a class=\"dropdown-item\" href=\"https://wiki.communitydata.science/Assessment\">Assessment and Rubrics</a>\\n\\t      <div class=\"dropdown-divider\"></div>\\n\\t      <a class=\"dropdown-item\" href=\"https://wiki.communitydata.science/Building_Successful_Online_Communities_(Spring_2021)\">[COMMLD 570] Building Successful Online Communities</a>\\n\\t    </div>\\n\\t  </li>\\n\\t  <li class=\"nav-item\">\\n            <a class=\"nav-link\" href=\"/press/\">Press</a>\\n          </li>\\n\\t  \\n\\t  <li class=\"nav-item dropdown\">\\n\\t    <a class=\"nav-link dropdown-toggle\" href=\"#\" id=\"dropdown-personal\" data-toggle=\"dropdown\" aria-haspopup=\"true\" aria-expanded=\"false\">Personal</a>\\n\\t    <div class=\"dropdown-menu\" aria-labelledby=\"dropdown-personal\">\\n\\t      <a class=\"dropdown-item\" href=\"/writing/\">Writing</a>\\n\\t      <a class=\"dropdown-item\" href=\"/software/\">Software</a>\\n\\t      <a class=\"dropdown-item\" href=\"/fun/\">Art and Activism</a>\\n\\t    </div>\\n\\t  </li>\\n          <li class=\"nav-item\">\\n            <a class=\"nav-link\" href=\"/calendar/\">Calendar</a>\\n          </li>\\n          <li class=\"nav-item\">\\n            <a class=\"nav-link\" href=\"/contact/\">Contact</a>\\n          </li>\\n        </ul>\\n      </div>\\n      <a class=\"navbar-brand\" href=\"/\">Benjamin Mako Hill</a>\\n    </nav>\\n    \\n    <div id=\"content_box\">\\n      <div class=\"container mt-5\">\\t\\n\\t\\n\\n  <div class=\"row\">\\n    <div class=\"col-md-9\">\\n      <div id=\"content\">\\n   \\n\\t<h2>About Me</h2>\\n\\n\\t<p>I am a scholar, technologist and activist. In all three roles, I am passionate about understanding <em>why</em>, and <em>when</em> <a href=\"https://en.wikipedia.org/wiki/Peer_production\">peer production</a> succeeds. As a <a href=\"/academic/\">social scientist</a>, my research aims to explain why some attempts to create <a href=\"http://freedomdefined.org\">free culture</a> and <a href=\"https://www.gnu.org/philosophy/free-sw.html\">free software</a> result in large volunteer communities like Wikipedia and Linux\\xe2\\x80\\x94while the vast majority never attract even a second contributor. For most of my life, I have also participated in these communities. I spend most of my time consuming, and increasingly often producing, <a href=\"/academic/\">academic articles</a>, <a href=\"/software/\">software</a>, <a href=\"/copyrighteous/\">blog posts</a>, <a href=\"/writing/\">essays</a>, <a href=\"writing/#books\">books</a> and <a href=\"/talks/\">talks</a>.</p>\\n\\n\\t<p>You can follow my latest musings and projects on my weblog <a href=\"copyrighteous/\"><strong>Copyrighteous</strong></a>. I microblog infrequently as <a rel=\"me\" href=\"https://social.coop/@mako\">mako@social.coop in the Fediverse</a> and as <a href=\"https://twitter.com/makoshark\">@makoshark on Twitter</a>.</p>\\n\\n\\t<h2 class=\"flow\"><a name=\"orgs\"></a>Organizations and Affiliations</h2>\\n\\n\\t<p>My active affiliations include:</p>\\n\\n\\t<ul>\\n\\n\\t  <li><a href=\"https://wiki.communitydata.science/\">Community Data Science Collective</a>: I am a member of the Community Data Science Collective (CDSC). The CDSC is an interdisciplinary research group made of up <a href=\"https://wiki.communitydata.science/People\">an incredible team of researchers</a> at number of different universities and from the world beyond academe. The collective\\'s work is focused on the study of online communities. Our research is deeply interdisciplinary, most frequently consists of \\xe2\\x80\\x9cbig data\\xe2\\x80\\x9d quantitative analyses, and lies at the intersection of communication, sociology, and human-computer interaction. I founded the CDSC with <a href=\"http://aaronshaw.org/\">Aaron Shaw</a>.</li>\\n\\t  \\n\\t  <li><a href=\"http://www.washington.edu\">University of Washington</a>: I am an Associate Professor in the <a href=\"http://www.com.washington.edu\">University of Washington Department of Communication</a>. I am also an Adjunct Associate Professor in the Department of <a href=\"http://hcde.uw.edu/\">Human-Centered Design &amp; Engineering</a>, the <a href=\"https://www.cs.washington.edu/\">Paul G. Allen School of Computer Science &amp; Engineering</a>, and the <a href=\"https://ischool.uw.edu/\">Information School</a> and I am affiliated with a variety of centers, programs, and organizations at UW. Details about my research are on my <a href=\"/academic/\">academic page</a>. You can see my <a href=\"/teaching/\">teaching page</a> for information about on my courses, workshops, and lectures.</li>\\n\\n\\t  <li><a href=\"http://cyber.harvard.edu\">Berkman Klein Center for Internet and Society at Harvard University</a>: I am a Faculty Associate at the Berkman Klein Center where I am pursing my own <a href=\"/academic/\">research</a>. I helped coordinate the center\\'s <a href=\"http://cyber.law.harvard.edu/research/cooperation\">cooperation group</a> as a Fellow for several years.</li>\\n\\n\\t  <li><a href=\"http://www.debian.org\">The Debian GNU/Linux Project</a>: I am Debian Developer and maintain several packages and routinely sponsor the upload of several others. In the past, I have served on the Project Leader Team (AKA <em>Project Scud</em>) and acted as the <em>Hardware Donations Manager</em> (AKA <q>Project Quartermaster</q>) and <em>Accountant</em> tracking and managing funds and hardware internationally. My packaging work is <a href=\"http://qa.debian.org/developer.php?login=mako%40debian.org&comaint=yes\">documented here</a>.</li>\\n\\n\\t  <li><a href=\"http://www.ubuntu.com\">Ubuntu</a>: I am member of the Ubuntu project and was a core developer for the first 15 years of the project\\'s life. For six years, I served on Ubuntu\\'s <a href=\"http://www.ubuntu.com/community/processes/council\">Community Council</a> governance board. I was involved in issues related community, policy and governance as well as technical work. During the Ubuntu project\\'s first year, I worked for <a href=\"http://www.canonical.com\">Canonical Ltd.</a> doing Free Software activism and advocacy and helping build user and developer communities around the distribution.</li>\\n      \\n\\t  <li><a href=\"http://www.wikimedia.org\">Wikimedia/Wikipedia</a>: I am an active contributor to several Wikimedia projects where I add content and edit frequently. These include:\\n\\t    \\n\\t    <ul>\\n\\t      <li><a href=\"http://en.wikipedia.org\">English Wikipedia</a>: I edit Wikipedia articles on many topics and often incorporate Wikipedia into my teaching. Good places to learn more are </strong> <a href=\"http://en.wikipedia.org/wiki/User:Benjamin_Mako_Hill\">my English Wikipedia user page</a> and <a href=\"http://en.wikipedia.org/wiki/Special:Contributions/Benjamin_Mako_Hill\">contribution history</a></li>\\n\\n\\t      <li><a href=\"https://meta.wikimedia.org/wiki/Cascadia_Wikimedians\">Cascadia Wikimedians User Group</a>: I am an active participant in Wikimedia events in <a href=\"https://en.wikipedia.org/wiki/Cascadia_%28bioregion%29\">Cascadia</a>, I attend and sometimes help organize monthly meetups and other events in Seattle, and I am a board member of our (still inchoate) user group.</li>\\n\\n               <li><a href=\"http://wikimediafoundation.org\">Wikimedia Foundation</a> (WMF): For about a decade, I served on the <a href=\"http://wikimediafoundation.org/wiki/Advisory_Board\">advisory board</a> for the Wikimedia Foundation, the non-profit organization that supports Wikipedia and other Wikimedia projects. The board appears to have been disbanded but I still help out the WMF in whatever ways I can.</li>\\n\\n\\t      <li>I\\'ve helped out Wikmiania in many other ways over the years and contributed to many other Wikimedia projects. A more complete accounting can be found on <a href=\"https://meta.wikimedia.org/wiki/User:Benjamin_Mako_Hill\">my page on the Wikimedia Meta-Wiki</a>.</li>\\n\\n\\t    </ul>\\n\\t  </li>\\n\\t\\n          <li><a href=\"http://acawiki.org/Home\">AcaWiki</a>: I have written and published hundreds of freely licensed summaries of academic articles on this wiki dedicated to that purpose. <a href=\"http://acawiki.org/User:Benjamin_Mako_Hill\">My AcaWiki user page</a> contains more detail about my contributions and links to the summaries that I started.</li>\\n\\n\\t  <li><a href=\"http://freedomdefined.org\">Definition of Free Cultural Works</a>: Along with Erik Moeller from the Wikimedia Foundation, I founded this project to work with the free culture community to help provide a set of explicit goals to help the free culture movement development, inspire, and grow.</li>\\n\\n\\t</ul>\\n\\n\\t<p>Please see my <a href=\"more_affiliations.html\">Additional Affiliations Page</a> for a list of my old, dormant, minor, and more advisory affiliations.</p>\\n\\n\\t<h2><a name=\"other\"></a><a name=\"otherpages\"></a>Other Webpages</h2>\\n\\n\\t<ul>\\n\\n\\t  <li><a href=\"http://revealingerrors.com\"><strong>Revealing Errors</strong></a>: A weblog where I try to reveal the power and influence that technology has on our lives by unpacking and analyzing errors that reveal the frequently hidden technological systems around us.</li>\\n\\n\\t  <li><a href=\"http://en.wikipedia.org/wiki/User:Benjamin_Mako_Hill\">Wikipedia User Page</a>: My \"user page\" is similar to a homepage but it\\'s in more flux (it\\'s a wiki after all) and tends to focus on items that are interesting to me in Wikipedia.</li>\\n\\n\\t  <li><a href=\"http://www.advogato.org/person/mako/\">My Advogato Page</a> where I used to keep a (<em>very</em> infrequently updated) diary of my work on free software projects. <font color=\"#FF0000\">(no longer updated)</font></li>\\n\\t  \\n\\t  <li><a href=\"keys\">GPG Keys</a> for use in secure communication with me.</li>\\n\\t</ul>\\n\\n\\t<h2>Contact Information</h2>\\n\\t<p><strong>Email:</strong></p>\\n\\n\\t<blockquote>\\n\\t  General: <a href=\"mailto:mako@atdot.cc\">mako@atdot.cc</a><br />\\n\\t  \\n\\t  Research/Teaching: <a href=\"mailto:makohill@uw.edu\">makohill@uw.edu</a>\\n\\t</blockquote>\\n\\t\\t\\n\\t<p>Visit my <a href=\"contact.html\">contact information page</a> for information on how to reach me via snailmail, phone, email, IRC, or several flavors of instant messaging.</p>\\n\\n      </div>\\n\\n    </div>\\n    <div class=\"col-md-3\">\\n\\n      <div id=\"sidebar\">\\n\\n      <!-- <img class=\"img-fluid\" id=\"portrait\" src=\"../images/mako_commlead_2014-280px.png\" /> -->\\n\\t  <img class=\"img-fluid\" height=\"auto;\" id=\"portrait\" src=\"images/mako_commlead_2014-stop.jpg\" /> \\n\\n\\t<h3>Microblogging</h3>\\n<!--\\t<p align=\"left\"><img  style=\"vertical-align: middle\" src=\"images/statusnet-icon.png\" alt=\"Twitter Icon\"/><a href=\"https://identi.ca/mako/\"> <strong>@mako on Identi.ca</strong></a></p> -->\\n\\n\\t<p style=\"text-align: center\">\\n    <a href=\"https://social.coop/@mako\"><img style=\"vertical-align: middle\" src=\"images/social_coop.png\" alt=\"social.coop Icon\"/> \\n    <strong>@mako@social.coop on Mastodon</strong> </a> (i.e., OStatus, ActivityPub)\\n    <a href=\"https://social.coop/users/mako/remote_follow\">[Click to follow me!]</a>\\n    </p>\\n\\t\\n\\t<p style=\"text-align: center\">\\n    <a href=\"https://twitter.com/makoshark\"><img style=\"vertical-align: middle\" src=\"images/brand_name_microblogging.png\" alt=\"Twitter Icon\"/> \\n    <strong>@makoshark on Twitter</strong></a>\\n    <a href=\"https://twitter.com/intent/follow?screen_name=makoshark\">[Click to follow me!]</a>\\n    </p>\\n\\n\\t<h3>Affiliations</h3>\\n\\n\\t<ul class=\"affil-logos\">\\n\\t  <li><a href=\"https://communitydata.science/\"><img src=\"images/logos/communitydata.png\" alt=\"Community Data Science Collective\"></a></li>\\t  \\n\\t  <li><a href=\"http://www.washington.edu\"><img src=\"images/logos/uw.png\" alt=\"University of Washington\"></a></li>\\n\\t  <li><a href=\"http://www.com.washington.edu\"><img src=\"images/logos/uw_comm.png\" alt=\"UW Department of Communication\"></a></li>\\n\\t  <li><a href=\"http://cyber.law.harvard.edu\"><img src=\"images/logos/berkman-klein.png\" alt=\"Berkman Klein Center\"></a></li>\\n\\t  <li><a href=\"http://www.debian.org\"><img src=\"images/logos/debian.png\" alt=\"Debian\"></a></li>\\n\\t  <li><a href=\"http://www.ubuntu.com\"><img src=\"images/logos/ubuntu.png\" alt=\"Ubuntu\"></a></li>\\n\\t  <li><a href=\"http://www.wikimedia.org\"><img src=\"images/logos/wikimedia.png\" alt=\"Wikimedia\"></a></li>\\n\\t  <li><a href=\"http://freedomdefined.org\"><img src=\"images/logos/freedomdefined.png\" alt=\"Freedom Defined\"></a></li>\\n\\t  <li><a href=\"/consulting/\"><img src=\"images/logos/yukidoke.png\" alt=\"Yukidoke Consulting\"></a></li>\\n\\t  <li><a href=\"http://commlead.uw.edu/\"><img src=\"images/logos/commlead.png\" alt=\"Communication Leadership\"></a></li>\\n\\t  <li><a href=\"https://www.cs.washington.edu/\"><img src=\"images/logos/uw_cse.png\" alt=\"Paul G. Allen School of Computer Science & Engineering logo\"></a></li>\\n\\t  <li><a href=\"http://hcde.uw.edu/\"><img src=\"images/logos/hcde_logo.png\" alt=\"UW Human-Centered Design and Engineering logo\"></a></li>\\n\\t  <li><a href=\"https://ischool.uw.edu/\"><img src=\"images/logos/ischool_logo.png\" alt=\"UW iSchool logo\"></a></li>\\n\\n</ul>\\n\\n      </div>\\n    </div>\\n  </div>\\n\\n\\n      </div>\\n    </div>\\n   \\n    <div class=\"footer-copyright text-center py-3 bg-light\">\\n\\t    \\xc2\\xa9 1999-2020 <a href=\"/\">Benjamin Mako Hill</a> || Last modified: Wed Nov 23 21:43:41 2022\\n    </div>\\n      \\n\\t    <!-- Piwik -->\\n\\t    <script type=\"text/javascript\">\\n\\t      var pkBaseURL = ((\"https:\" == document.location.protocol) ? \"https://analytics.mako.cc/\" : \"http://analytics.mako.cc/\");\\n\\t      document.write(unescape(\"%3Cscript src=\\'\" + pkBaseURL + \"piwik.js\\' type=\\'text/javascript\\'%3E%3C/script%3E\"));\\n\\t    </script>\\n        <script type=\"text/javascript\">\\n\\t      try {\\n\\t      var piwikTracker = Piwik.getTracker(pkBaseURL + \"piwik.php\", 1);\\n\\t      piwikTracker.trackPageView();\\n\\t      piwikTracker.enableLinkTracking();\\n\\t      } catch( err ) {}\\n\\t    </script><noscript><p><img src=\"https://analytics.mako.cc/piwik.php?idsite=1\" style=\"border:0\" alt=\"\" /></p></noscript>\\n\\t    <!-- End Piwik Tracking Code -->\\n\\t  </div>\\n\\t</div>\\n      </div>\\n    </div>\\n\\n    <!-- jQuery (necessary for Bootstrap\\'s JavaScript plugins) -->\\n    <script src=\"https://code.jquery.com/jquery.js\"></script>\\n    <!-- Include all compiled plugins (below), or include individual files as needed -->\\n    <script src=\"https://mako.cc//bootstrap/js/bootstrap.min.js\"></script>\\n\\n    <script type=\"text/javascript\">\\n    var onResize = function() {\\n    // apply dynamic padding at the top of the body according to the fixed navbar height\\n    $(\"body\").css(\"padding-top\", $(\".navbar-fixed-top\").height() + 30);\\n    };\\n\\n    // attach the function to the window resize event\\n    $(window).resize(onResize);\\n\\n    // call it also when the page is ready after load or reload\\n    $(function() {\\n      onResize();\\n    });\\n    </script>\\n    \\n  </body>\\n</html>\\n\\n'"
      ]
     },
     "execution_count": 40,
     "metadata": {},
     "output_type": "execute_result"
    }
   ],
   "source": [
    "my_response2.content"
   ]
  },
  {
   "cell_type": "code",
   "execution_count": 41,
   "id": "f9ab07a6",
   "metadata": {},
   "outputs": [
    {
     "data": {
      "text/plain": [
       "<Response [200]>"
      ]
     },
     "execution_count": 41,
     "metadata": {},
     "output_type": "execute_result"
    }
   ],
   "source": [
    "my_response"
   ]
  },
  {
   "cell_type": "code",
   "execution_count": 42,
   "id": "b6bb6fde",
   "metadata": {},
   "outputs": [],
   "source": [
    "data = my_response.json()"
   ]
  },
  {
   "cell_type": "code",
   "execution_count": 43,
   "id": "06c1c941",
   "metadata": {},
   "outputs": [
    {
     "data": {
      "text/plain": [
       "{'activity': 'Do a jigsaw puzzle',\n",
       " 'type': 'recreational',\n",
       " 'participants': 1,\n",
       " 'price': 0.1,\n",
       " 'link': 'https://en.wikipedia.org/wiki/Jigsaw_puzzle',\n",
       " 'key': '8550768',\n",
       " 'accessibility': 1}"
      ]
     },
     "execution_count": 43,
     "metadata": {},
     "output_type": "execute_result"
    }
   ],
   "source": [
    "data"
   ]
  },
  {
   "cell_type": "code",
   "execution_count": 44,
   "id": "f2a46555",
   "metadata": {},
   "outputs": [
    {
     "data": {
      "text/plain": [
       "'Do a jigsaw puzzle'"
      ]
     },
     "execution_count": 44,
     "metadata": {},
     "output_type": "execute_result"
    }
   ],
   "source": [
    "data['activity']"
   ]
  },
  {
   "cell_type": "code",
   "execution_count": 45,
   "id": "30253fca",
   "metadata": {},
   "outputs": [
    {
     "name": "stdout",
     "output_type": "stream",
     "text": [
      "activity 1: Learn the Chinese erhu\n",
      "activity 2: Listen to your favorite album\n",
      "activity 3: Have a jam session with your friends\n",
      "activity 4: Listen to your favorite album\n",
      "activity 5: Learn to play a new instrument\n"
     ]
    }
   ],
   "source": [
    "for number in [1,2,3,4,5]:\n",
    "    my_parameters = {'type' : 'music'}\n",
    "    response = requests.get(\"https://www.boredapi.com/api/activity\", params=my_parameters)\n",
    "    if response.status_code == 200:\n",
    "        data = response.json()\n",
    "        print(f\"activity {number}: {data['activity']}\")"
   ]
  },
  {
   "cell_type": "code",
   "execution_count": 46,
   "id": "c8128792",
   "metadata": {},
   "outputs": [
    {
     "data": {
      "text/plain": [
       "'https://www.boredapi.com/api/activity?type=music'"
      ]
     },
     "execution_count": 46,
     "metadata": {},
     "output_type": "execute_result"
    }
   ],
   "source": [
    "response.url"
   ]
  },
  {
   "cell_type": "code",
   "execution_count": 47,
   "id": "de7025d0",
   "metadata": {},
   "outputs": [
    {
     "data": {
      "text/plain": [
       "'{\"activity\":\"Learn to play a new instrument\",\"type\":\"music\",\"participants\":1,\"price\":0.55,\"link\":\"\",\"key\":\"3192099\",\"accessibility\":0.6}'"
      ]
     },
     "execution_count": 47,
     "metadata": {},
     "output_type": "execute_result"
    }
   ],
   "source": [
    "response.text"
   ]
  },
  {
   "cell_type": "markdown",
   "id": "610937e4",
   "metadata": {},
   "source": [
    "# 1 Bored API"
   ]
  },
  {
   "cell_type": "markdown",
   "id": "ffe324ec",
   "metadata": {},
   "source": [
    "Write some Python code to use the API to get a free activity that I could do with my partner. Turn the data from the API into a sentence that tells me the activity, its accessibility, and its price.\n",
    "Extend that code so that it gets me 5 activities and have it write a nicely formatted output."
   ]
  },
  {
   "cell_type": "code",
   "execution_count": 48,
   "id": "3646f0fc",
   "metadata": {},
   "outputs": [
    {
     "data": {
      "text/plain": [
       "'Learn to play a new instrument'"
      ]
     },
     "execution_count": 48,
     "metadata": {},
     "output_type": "execute_result"
    }
   ],
   "source": [
    "data['activity']"
   ]
  },
  {
   "cell_type": "code",
   "execution_count": 49,
   "id": "52627927",
   "metadata": {},
   "outputs": [
    {
     "name": "stdout",
     "output_type": "stream",
     "text": [
      "My partner and I can Learn to play a new instrument with 0.55 price and its accessibility is 0.6\n"
     ]
    }
   ],
   "source": [
    "print(f\"My partner and I can {data['activity']} with {data['price']} price and its accessibility is {data['accessibility']}\")"
   ]
  },
  {
   "cell_type": "code",
   "execution_count": 50,
   "id": "5b60072f",
   "metadata": {},
   "outputs": [
    {
     "name": "stdout",
     "output_type": "stream",
     "text": [
      "My partner and I can Create and follow a savings plan with 0 price and its accessibility is 0.2\n"
     ]
    }
   ],
   "source": [
    "for number in [1]:\n",
    "    my_parameters = {'activity' : 'partner'}\n",
    "    response = requests.get(\"https://www.boredapi.com/api/activity\", params=my_parameters)\n",
    "    if response.status_code == 200:\n",
    "        data = response.json()\n",
    "        print(f\"My partner and I can {data['activity']} with {data['price']} price and its accessibility is {data['accessibility']}\")"
   ]
  },
  {
   "cell_type": "code",
   "execution_count": 51,
   "id": "c84ad0eb",
   "metadata": {},
   "outputs": [
    {
     "name": "stdout",
     "output_type": "stream",
     "text": [
      "My partner and I can Make your own LEGO creation with 0 price and its accessibility is 0.1\n",
      "My partner and I can Clean out your garage with 0 price and its accessibility is 0.1\n",
      "My partner and I can Configure two-factor authentication on your accounts with 0 price and its accessibility is 0\n",
      "My partner and I can Clean out your refrigerator with 0 price and its accessibility is 0\n",
      "My partner and I can Bake something you've never tried before with 0.4 price and its accessibility is 0.3\n"
     ]
    }
   ],
   "source": [
    "for number in [1,2,3,4,5]:\n",
    "    my_parameters = {'activity' : 'partner'}\n",
    "    response = requests.get(\"https://www.boredapi.com/api/activity\", params=my_parameters)\n",
    "    if response.status_code == 200:\n",
    "        data = response.json()\n",
    "        print(f\"My partner and I can {data['activity']} with {data['price']} price and its accessibility is {data['accessibility']}\")"
   ]
  },
  {
   "cell_type": "markdown",
   "id": "f06c9ec3",
   "metadata": {},
   "source": [
    "First, get a totally random activity from the API. Print it out, along with its activity type. Now get me another activity that's of the same type as the first random activity. Print it out too, plus its activity type (to check that they're the same)."
   ]
  },
  {
   "cell_type": "code",
   "execution_count": 52,
   "id": "fcb46948",
   "metadata": {},
   "outputs": [
    {
     "data": {
      "text/plain": [
       "\"Bake something you've never tried before\""
      ]
     },
     "execution_count": 52,
     "metadata": {},
     "output_type": "execute_result"
    }
   ],
   "source": [
    "data['activity']"
   ]
  },
  {
   "cell_type": "code",
   "execution_count": 53,
   "id": "281bf191",
   "metadata": {},
   "outputs": [
    {
     "data": {
      "text/plain": [
       "{'activity': \"Bake something you've never tried before\",\n",
       " 'type': 'cooking',\n",
       " 'participants': 1,\n",
       " 'price': 0.4,\n",
       " 'link': '',\n",
       " 'key': '5665663',\n",
       " 'accessibility': 0.3}"
      ]
     },
     "execution_count": 53,
     "metadata": {},
     "output_type": "execute_result"
    }
   ],
   "source": [
    "data"
   ]
  },
  {
   "cell_type": "code",
   "execution_count": 61,
   "id": "2c97f3cd",
   "metadata": {},
   "outputs": [
    {
     "name": "stdout",
     "output_type": "stream",
     "text": [
      "Actibity: Create a cookbook with your favorite recipes / Activity type: cooking\n"
     ]
    }
   ],
   "source": [
    "for number in [1]:\n",
    "    my_parameters = {'type' : 'cooking'}\n",
    "    response = requests.get(\"https://www.boredapi.com/api/activity\", params=my_parameters)\n",
    "    if response.status_code == 200:\n",
    "        data = response.json()\n",
    "        print(f\"Actibity: {data['activity']} / Activity type: {data['type']}\")"
   ]
  },
  {
   "cell_type": "markdown",
   "id": "2132066c",
   "metadata": {},
   "source": [
    "Write a Python program that prints out one random activity of each type that the Bored API supports. (See if you can use a loop for this!)"
   ]
  },
  {
   "cell_type": "code",
   "execution_count": 65,
   "id": "899d80ac",
   "metadata": {},
   "outputs": [],
   "source": [
    "import requests\n",
    "import random\n",
    "\n",
    "activity_types = ['education', 'recreational', 'social', 'diy', 'charity', 'cooking', 'relaxation', 'music', 'busywork']"
   ]
  },
  {
   "cell_type": "code",
   "execution_count": 67,
   "id": "ec024043",
   "metadata": {},
   "outputs": [
    {
     "name": "stdout",
     "output_type": "stream",
     "text": [
      "Activity type: education / Activity: Learn Express.js\n",
      "Activity type: recreational / Activity: Visit a nearby museum\n",
      "Activity type: social / Activity: Write a note of appreciation to someone\n",
      "Activity type: diy / Activity: Learn woodworking\n",
      "Activity type: charity / Activity: Donate blood at a local blood center\n",
      "Activity type: cooking / Activity: Bake pastries for you and your neighbor\n",
      "Activity type: relaxation / Activity: Go stargazing\n",
      "Activity type: music / Activity: Have a jam session with your friends\n",
      "Activity type: busywork / Activity: Organize your dresser\n"
     ]
    }
   ],
   "source": [
    "for activity_type in activity_types:\n",
    "    response = requests.get(f\"https://www.boredapi.com/api/activity?type={activity_type}\")\n",
    "    if response.status_code == 200:\n",
    "        data = response.json()\n",
    "        print(f\"Activity type: {data['type']} / Activity: {data['activity']}\")"
   ]
  },
  {
   "cell_type": "markdown",
   "id": "bd888ac4",
   "metadata": {},
   "source": [
    "# 2 Learning a new API"
   ]
  },
  {
   "cell_type": "markdown",
   "id": "87fc0e6e",
   "metadata": {},
   "source": [
    "In this exercise, I want to you to practice learning to use a new API and practice reading some API documentation. We're going to start with the Dog API which is online at: https://dogapi.dog\n",
    "\n",
    "Visit the Dog API website and read the API documentation\n"
   ]
  },
  {
   "cell_type": "markdown",
   "id": "7a3ff8ee",
   "metadata": {},
   "source": [
    "Write a URL that will return a single dog fact (you don't need to turn in any python code for this! just the link is fine!)\n"
   ]
  },
  {
   "cell_type": "code",
   "execution_count": 5,
   "id": "af8f4555",
   "metadata": {},
   "outputs": [],
   "source": [
    "#https://dogapi.dog/api/v2/facts"
   ]
  },
  {
   "cell_type": "code",
   "execution_count": null,
   "id": "2107e6cb",
   "metadata": {},
   "outputs": [],
   "source": [
    "#https://dogapi.dog/api/v2/facts?limit=5"
   ]
  },
  {
   "cell_type": "code",
   "execution_count": 16,
   "id": "e5fd1e49",
   "metadata": {},
   "outputs": [
    {
     "name": "stdout",
     "output_type": "stream",
     "text": [
      "Express yourself. Dogs’ ears are extremely expressive. It’s no wonder! There are more than a dozen separate muscles that control a dog’s ear movements.\n"
     ]
    }
   ],
   "source": [
    "import requests\n",
    "my_response3 = requests.get (\"https://dogapi.dog/api/v2/facts\")\n",
    "data = my_response3.json()\n",
    "print(data['data'][0]['attributes']['body'])"
   ]
  },
  {
   "cell_type": "code",
   "execution_count": 17,
   "id": "242eb9c4",
   "metadata": {},
   "outputs": [
    {
     "name": "stdout",
     "output_type": "stream",
     "text": [
      "Fact: Puppies grow to half their body weight in the first four to five months!\n",
      "Fact: Dogs know from which nostril a smell has entered.\n",
      "Fact: A Beatles hit. It’s rumored that, at the end of the Beatles song, \"A Day in the Life,\" Paul McCartney recorded an ultrasonic whistle, audible only to dogs, just for his Shetland sheepdog.\n",
      "Fact: The grief suffered after a pet dog dies can be the same as that experienced after the death of a person.\n",
      "Fact: Franklin Roosevelt spent $15,000 for a destroyer to pick up his Scottie in the Aleutian Islands.\n"
     ]
    }
   ],
   "source": [
    "for number in [1,2,3,4,5]:\n",
    "    my_response3 = requests.get('https://dogapi.dog/api/v2/facts')\n",
    "    if my_response3.status_code == 200:\n",
    "        data = my_response3.json()\n",
    "        print(\"Fact: \" + data['data'][0]['attributes']['body'])"
   ]
  },
  {
   "cell_type": "code",
   "execution_count": 18,
   "id": "a816276c",
   "metadata": {},
   "outputs": [
    {
     "name": "stdout",
     "output_type": "stream",
     "text": [
      "A group of puppies is called a litter.\n"
     ]
    }
   ],
   "source": [
    "url = \"https://dogapi.dog/api/v2/facts\"\n",
    "params = {'type' : 'fact','attributes' : 'body'}\n",
    "\n",
    "my_response4 = requests.get(url, params)\n",
    "\n",
    "if my_response4.status_code == 200:\n",
    "    data = my_response4.json()\n",
    "print(data['data'][0]['attributes']['body'])"
   ]
  },
  {
   "cell_type": "code",
   "execution_count": 25,
   "id": "fec5fb1a",
   "metadata": {},
   "outputs": [
    {
     "name": "stdout",
     "output_type": "stream",
     "text": [
      "Most dogs have 18 or more muscles to tilt, rotate, and move their ears.\n",
      "The origin of amputating a dog’s tail may go back to the Roman writer Lucius Columella’s (A.D. 4-70) assertion that tail docking prevented rabies.\n",
      "A dog's sense of smell is reduced by up to 40 percent when he's overheated and panting.\n",
      "In 1969, Lassie was the first animal inducted into the Animal Hall of Fame.\n",
      "A person standing still 300 yards away is almost invisible to a dog. But a dog can easily identify its owner standing a mile away if the owner is waving his arms.\n"
     ]
    }
   ],
   "source": [
    "for number in [1,2,3,4,5]:\n",
    "    my_parameters = {'type' : 'fact'}\n",
    "    response = requests.get(\"https://dogapi.dog/api/v2/facts\", params=my_parameters)\n",
    "    if response.status_code == 200:\n",
    "        data = response.json()\n",
    "        print(data['data'][0]['attributes']['body'])"
   ]
  },
  {
   "cell_type": "markdown",
   "id": "d384ab31",
   "metadata": {},
   "source": [
    "# 3 Mapping!"
   ]
  },
  {
   "cell_type": "markdown",
   "id": "fa890813",
   "metadata": {},
   "source": [
    "Are there more gas stations in Duvall or Carnation?"
   ]
  },
  {
   "cell_type": "code",
   "execution_count": 40,
   "id": "16acd286",
   "metadata": {},
   "outputs": [
    {
     "name": "stdout",
     "output_type": "stream",
     "text": [
      "2\n"
     ]
    }
   ],
   "source": [
    "import requests\n",
    "url = \"https://nominatim.openstreetmap.org/search\"\n",
    "parameters = { 'q' : 'gas station in carnation, wa',\n",
    "                'format' : 'jsonv2',\n",
    "                 'limit': '50'}\n",
    "\n",
    "map_response1 = requests.get(url, params= parameters)\n",
    "\n",
    "if map_response1.status_code == 200:\n",
    "    data = map_response1.json()\n",
    "    print (len(data))"
   ]
  },
  {
   "cell_type": "code",
   "execution_count": 39,
   "id": "d21755d7",
   "metadata": {},
   "outputs": [
    {
     "name": "stdout",
     "output_type": "stream",
     "text": [
      "3\n"
     ]
    }
   ],
   "source": [
    "import requests\n",
    "url = \"https://nominatim.openstreetmap.org/search\"\n",
    "parameters = { 'q' : 'gas station in duvall, wa',\n",
    "                'format' : 'jsonv2',\n",
    "                 'limit': '50'}\n",
    "\n",
    "map_response1 = requests.get(url, params= parameters)\n",
    "\n",
    "if map_response1.status_code == 200:\n",
    "    data = map_response1.json()\n",
    "    print (len(data))"
   ]
  },
  {
   "cell_type": "code",
   "execution_count": null,
   "id": "6498cfb8",
   "metadata": {},
   "outputs": [],
   "source": [
    "#More gas stations in duvall"
   ]
  },
  {
   "cell_type": "markdown",
   "id": "109fbc78",
   "metadata": {},
   "source": [
    "Are there more dentists near the University or near Downtown? (you will need to look at the limit on the number of returned items)"
   ]
  },
  {
   "cell_type": "code",
   "execution_count": 54,
   "id": "a22b1d99",
   "metadata": {},
   "outputs": [
    {
     "name": "stdout",
     "output_type": "stream",
     "text": [
      "19\n"
     ]
    }
   ],
   "source": [
    "import requests\n",
    "parameters = {'q' : '[dentist] university of washington, wa',\n",
    "             'format' : 'jsonv2',\n",
    "             'limit' : 50}\n",
    "\n",
    "map_response2 = requests.get(\"https://nominatim.openstreetmap.org/search\", params=parameters)\n",
    "if map_response2.status_code == 200 :\n",
    "\n",
    "    data = map_response2.json()\n",
    "\n",
    "    print(len(data))"
   ]
  },
  {
   "cell_type": "code",
   "execution_count": 56,
   "id": "1f1ce363",
   "metadata": {},
   "outputs": [
    {
     "name": "stdout",
     "output_type": "stream",
     "text": [
      "50\n"
     ]
    }
   ],
   "source": [
    "parameters = {'q' : '[dentist] downtown seattle, wa',\n",
    "                 'format' : 'jsonv2',\n",
    "                 'limit' : 50}\n",
    "\n",
    "map_response2 = requests.get(\"https://nominatim.openstreetmap.org/search\", params=parameters)\n",
    "if map_response2.status_code == 200 :\n",
    "\n",
    "    data = map_response2.json()\n",
    "\n",
    "    print(len(data))"
   ]
  },
  {
   "cell_type": "code",
   "execution_count": null,
   "id": "7064477f",
   "metadata": {},
   "outputs": [],
   "source": [
    "#More dentist near downtown seattle"
   ]
  },
  {
   "cell_type": "markdown",
   "id": "70ea3407",
   "metadata": {},
   "source": [
    "Use the geocoding API endpoint in Nominatim to look up a specific latitude and longitude of your choice (try this building or your hometown)."
   ]
  },
  {
   "cell_type": "code",
   "execution_count": 63,
   "id": "65041500",
   "metadata": {},
   "outputs": [
    {
     "name": "stdout",
     "output_type": "stream",
     "text": [
      "[-122.30721309999998, 47.6572845]\n"
     ]
    }
   ],
   "source": [
    "import requests\n",
    "parameters = { 'q' : 'the quad, seattle, wa',\n",
    "                'format' : 'geojson',\n",
    "                 'limit' : 50}\n",
    "\n",
    "map_response3 = requests.get(\"https://nominatim.openstreetmap.org/search\", params=parameters)\n",
    "if map_response3.status_code == 200 :\n",
    "\n",
    "    data = map_response3.json()\n",
    "    \n",
    "    print(data['features'][0]['geometry']['coordinates'])"
   ]
  },
  {
   "cell_type": "markdown",
   "id": "3e642dae",
   "metadata": {},
   "source": [
    "Write a program to find all the ziplines in King County, Washington (or at least all the ones that OSM knows about!)."
   ]
  },
  {
   "cell_type": "code",
   "execution_count": 108,
   "id": "82f0da7a",
   "metadata": {},
   "outputs": [
    {
     "name": "stdout",
     "output_type": "stream",
     "text": [
      "WIlburton Hill Park Trails, Belridge, Bellevue, King County, Washington, 98005, United States\n",
      "146th Avenue Southeast, Eastgate, Bellevue, King County, Washington, 98006, United States\n",
      "144th Avenue Southeast, Somerset, Bellevue, King County, Washington, 98006, United States\n"
     ]
    }
   ],
   "source": [
    "import requests\n",
    "parameters = {'q' : '[zipline] in king county, wa',\n",
    "             'format' : 'jsonv2',\n",
    "             'limit' : '50'}\n",
    "\n",
    "map_response4 = requests.get(\"https://nominatim.openstreetmap.org/search\", params=parameters)\n",
    "\n",
    "if map_response4.status_code == 200:\n",
    "    data = map_response4.json()\n",
    "    for place in data:\n",
    "        print(place['display_name'])"
   ]
  },
  {
   "cell_type": "code",
   "execution_count": 109,
   "id": "924a75b9",
   "metadata": {},
   "outputs": [
    {
     "name": "stdout",
     "output_type": "stream",
     "text": [
      "['47.6081042', '47.6081428', '-122.1743914', '-122.1742413']\n",
      "['47.5675978', '47.5685085', '-122.1486867', '-122.1460848']\n",
      "['47.5676025', '47.5685007', '-122.1486472', '-122.1475391']\n"
     ]
    }
   ],
   "source": [
    "    for place in data:\n",
    "        print(place['boundingbox'])"
   ]
  },
  {
   "cell_type": "markdown",
   "id": "30b3e159",
   "metadata": {},
   "source": [
    "It's important to be alert and well-caffeinated when ziplining! Once you've found a nearby zipline, have your program use that result to find the nearest cafe each of the ziplines you identify!\n"
   ]
  },
  {
   "cell_type": "code",
   "execution_count": 113,
   "id": "486fb58d",
   "metadata": {},
   "outputs": [
    {
     "name": "stdout",
     "output_type": "stream",
     "text": [
      "[{'place_id': 58011356, 'licence': 'Data © OpenStreetMap contributors, ODbL 1.0. https://osm.org/copyright', 'osm_type': 'node', 'osm_id': 5299598762, 'boundingbox': ['47.5753364', '47.5754364', '-122.168476', '-122.168376'], 'lat': '47.5753864', 'lon': '-122.168426', 'display_name': 'Over The Rainbow Tea Bar, 3900, Factoria Boulevard Southeast, Factoria, Bellevue, King County, Washington, 98006, United States', 'place_rank': 30, 'category': 'amenity', 'type': 'cafe', 'importance': 1.7600099999999999, 'icon': 'https://nominatim.openstreetmap.org/ui/mapicons/food_cafe.p.20.png'}]\n",
      "[{'place_id': 15293841, 'licence': 'Data © OpenStreetMap contributors, ODbL 1.0. https://osm.org/copyright', 'osm_type': 'node', 'osm_id': 1657290052, 'boundingbox': ['47.5783117', '47.5784117', '-122.167536', '-122.167436'], 'lat': '47.5783617', 'lon': '-122.167486', 'display_name': 'Starbucks, 3560C, Factoria Boulevard Southeast, Factoria, Bellevue, King County, Washington, 98006, United States', 'place_rank': 30, 'category': 'amenity', 'type': 'cafe', 'importance': 1.2600099999999999, 'icon': 'https://nominatim.openstreetmap.org/ui/mapicons/food_cafe.p.20.png'}]\n",
      "[{'place_id': 15293841, 'licence': 'Data © OpenStreetMap contributors, ODbL 1.0. https://osm.org/copyright', 'osm_type': 'node', 'osm_id': 1657290052, 'boundingbox': ['47.5783117', '47.5784117', '-122.167536', '-122.167436'], 'lat': '47.5783617', 'lon': '-122.167486', 'display_name': 'Starbucks, 3560C, Factoria Boulevard Southeast, Factoria, Bellevue, King County, Washington, 98006, United States', 'place_rank': 30, 'category': 'amenity', 'type': 'cafe', 'importance': 1.3700100000000002, 'icon': 'https://nominatim.openstreetmap.org/ui/mapicons/food_cafe.p.20.png'}]\n",
      "[{'place_id': 97002832, 'licence': 'Data © OpenStreetMap contributors, ODbL 1.0. https://osm.org/copyright', 'osm_type': 'node', 'osm_id': 9480378422, 'boundingbox': ['47.573868', '47.573968', '-122.1719633', '-122.1718633'], 'lat': '47.573918', 'lon': '-122.1719133', 'display_name': 'Mr. Green Bubble, Factoria Square Mall Southeast, Marketplace at Factoria, Factoria, Bellevue, King County, Washington, 98006, United States', 'place_rank': 30, 'category': 'amenity', 'type': 'cafe', 'importance': 1.8600100000000004, 'icon': 'https://nominatim.openstreetmap.org/ui/mapicons/food_cafe.p.20.png'}]\n",
      "[{'place_id': 78999507, 'licence': 'Data © OpenStreetMap contributors, ODbL 1.0. https://osm.org/copyright', 'osm_type': 'node', 'osm_id': 7555197256, 'boundingbox': ['47.5741486', '47.5742486', '-122.1729742', '-122.1728742'], 'lat': '47.5741986', 'lon': '-122.1729242', 'display_name': 'Starbucks, 124th Avenue Southeast, Factoria, Bellevue, King County, Washington, 98006, United States', 'place_rank': 30, 'category': 'amenity', 'type': 'cafe', 'importance': 1.25001, 'icon': 'https://nominatim.openstreetmap.org/ui/mapicons/food_cafe.p.20.png'}]\n",
      "[{'place_id': 6869087, 'licence': 'Data © OpenStreetMap contributors, ODbL 1.0. https://osm.org/copyright', 'osm_type': 'node', 'osm_id': 882563903, 'boundingbox': ['47.5517997', '47.5518997', '-122.1775329', '-122.1774329'], 'lat': '47.5518497', 'lon': '-122.1774829', 'display_name': 'Mustard Seed Grill & Pub, 5630, 119th Avenue Southeast, Lake Heights, Bellevue, King County, Washington, 98006, United States', 'place_rank': 30, 'category': 'amenity', 'type': 'pub', 'importance': 1.7400099999999998, 'icon': 'https://nominatim.openstreetmap.org/ui/mapicons/food_pub.p.20.png'}]\n",
      "[{'place_id': 24258598, 'licence': 'Data © OpenStreetMap contributors, ODbL 1.0. https://osm.org/copyright', 'osm_type': 'node', 'osm_id': 2647021852, 'boundingbox': ['47.5832127', '47.5833127', '-122.1538052', '-122.1537052'], 'lat': '47.5832627', 'lon': '-122.1537552', 'display_name': \"Sister's cafe, 139th Avenue Southeast, Eastgate, Bellevue, King County, Washington, 98006, United States\", 'place_rank': 30, 'category': 'amenity', 'type': 'cafe', 'importance': 1.44001, 'icon': 'https://nominatim.openstreetmap.org/ui/mapicons/food_cafe.p.20.png'}]\n",
      "[{'place_id': 57839710, 'licence': 'Data © OpenStreetMap contributors, ODbL 1.0. https://osm.org/copyright', 'osm_type': 'node', 'osm_id': 5312838203, 'boundingbox': ['47.5395318', '47.5396318', '-122.1647862', '-122.1646862'], 'lat': '47.5395818', 'lon': '-122.1647362', 'display_name': 'Zoe Yogurt, Coal Creek Parkway Southeast, Newcastle, King County, Washington, 98006, United States', 'place_rank': 30, 'category': 'amenity', 'type': 'cafe', 'importance': 1.3300100000000001, 'icon': 'https://nominatim.openstreetmap.org/ui/mapicons/food_cafe.p.20.png'}]\n",
      "[{'place_id': 19638032, 'licence': 'Data © OpenStreetMap contributors, ODbL 1.0. https://osm.org/copyright', 'osm_type': 'node', 'osm_id': 2273073536, 'boundingbox': ['47.538217', '47.538317', '-122.166535', '-122.166435'], 'lat': '47.538267', 'lon': '-122.166485', 'display_name': 'Starbucks, 6977, Coal Creek Parkway Southeast, Newcastle, King County, Washington, 98006, United States', 'place_rank': 30, 'category': 'amenity', 'type': 'cafe', 'importance': 1.3500100000000002, 'icon': 'https://nominatim.openstreetmap.org/ui/mapicons/food_cafe.p.20.png'}]\n",
      "[{'place_id': 76941751, 'licence': 'Data © OpenStreetMap contributors, ODbL 1.0. https://osm.org/copyright', 'osm_type': 'node', 'osm_id': 7298554210, 'boundingbox': ['47.538216', '47.538316', '-122.166693', '-122.166593'], 'lat': '47.538266', 'lon': '-122.166643', 'display_name': 'DIY Tea Lab, Newcastle Way, Newport Hills, Newcastle, King County, Washington, 98006, United States', 'place_rank': 30, 'category': 'amenity', 'type': 'cafe', 'importance': 1.44001, 'icon': 'https://nominatim.openstreetmap.org/ui/mapicons/food_cafe.p.20.png'}]\n",
      "[{'place_id': 65340044, 'licence': 'Data © OpenStreetMap contributors, ODbL 1.0. https://osm.org/copyright', 'osm_type': 'node', 'osm_id': 6055740727, 'boundingbox': ['47.5440523', '47.5441523', '-122.1639047', '-122.1638047'], 'lat': '47.5441023', 'lon': '-122.1638547', 'display_name': 'Starbucks, Newcastle Commons Drive, Newcastle Commons, Newcastle, King County, Washington, 98006, United States', 'place_rank': 30, 'category': 'amenity', 'type': 'cafe', 'importance': 1.36001, 'icon': 'https://nominatim.openstreetmap.org/ui/mapicons/food_cafe.p.20.png'}]\n",
      "[{'place_id': 57872781, 'licence': 'Data © OpenStreetMap contributors, ODbL 1.0. https://osm.org/copyright', 'osm_type': 'node', 'osm_id': 5312838198, 'boundingbox': ['47.5377751', '47.5378751', '-122.1655134', '-122.1654134'], 'lat': '47.5378251', 'lon': '-122.1654634', 'display_name': 'Java Jolt, Newcastle Way, Newcastle, King County, Washington, 98006, United States', 'place_rank': 30, 'category': 'amenity', 'type': 'cafe', 'importance': 1.1400099999999997, 'icon': 'https://nominatim.openstreetmap.org/ui/mapicons/food_cafe.p.20.png'}]\n"
     ]
    }
   ],
   "source": [
    "for place in data:\n",
    "    address = place['display_name']\n",
    "\n",
    "    \n",
    "    parameters = {'q' : f\"[cafe] {address}\",\n",
    "                 'format' : 'jsonv2',\n",
    "                 'limit' : '1'}\n",
    "    \n",
    "    map_response5 = requests.get(\"http://nominatim.openstreetmap.org/search\", params=parameters)\n",
    "    if map_response5.status_code == 200:\n",
    "        data = map_response5.json()\n",
    "        print (data)"
   ]
  },
  {
   "cell_type": "markdown",
   "id": "f5c290af",
   "metadata": {},
   "source": [
    "Craft a query using the search API to find colleges in Seattle. (Hint: you'll want to set bounded=1 and use the viewbox). Print the name and location of every college you find."
   ]
  },
  {
   "cell_type": "code",
   "execution_count": 123,
   "id": "4bc6ddb7",
   "metadata": {},
   "outputs": [
    {
     "name": "stdout",
     "output_type": "stream",
     "text": [
      "[{'place_id': 299365566, 'licence': 'Data © OpenStreetMap contributors, ODbL 1.0. https://osm.org/copyright', 'osm_type': 'relation', 'osm_id': 9994114, 'boundingbox': ['47.6165074', '47.6184599', '-122.3369693', '-122.3344529'], 'lat': '47.61680045', 'lon': '-122.33586595', 'display_name': 'Cornish College of the Arts, Terry Avenue, South Lake Union, First Hill, Seattle, King County, Washington, 98191, United States', 'place_rank': 30, 'category': 'amenity', 'type': 'college', 'importance': 0.6498719574806675, 'icon': 'https://nominatim.openstreetmap.org/ui/mapicons/education_school.p.20.png'}, {'place_id': 21752165, 'licence': 'Data © OpenStreetMap contributors, ODbL 1.0. https://osm.org/copyright', 'osm_type': 'node', 'osm_id': 2439830827, 'boundingbox': ['47.6548977', '47.6549977', '-122.312439', '-122.312339'], 'lat': '47.6549477', 'lon': '-122.312389', 'display_name': 'UW College of Built Environments, 3949, 15th Avenue Northeast, West Campus, University District, Seattle, King County, Washington, 98105, United States', 'place_rank': 30, 'category': 'amenity', 'type': 'college', 'importance': 0.59190327427879, 'icon': 'https://nominatim.openstreetmap.org/ui/mapicons/education_school.p.20.png'}, {'place_id': 145418337, 'licence': 'Data © OpenStreetMap contributors, ODbL 1.0. https://osm.org/copyright', 'osm_type': 'way', 'osm_id': 169786833, 'boundingbox': ['47.6141657', '47.6181591', '-122.3233445', '-122.3201037'], 'lat': '47.61619055', 'lon': '-122.32149768795851', 'display_name': 'Seattle Central College, East Howell Street, Capitol Hill, Seattle, King County, Washington, 98191, United States', 'place_rank': 30, 'category': 'amenity', 'type': 'college', 'importance': 0.570074815609084, 'icon': 'https://nominatim.openstreetmap.org/ui/mapicons/education_school.p.20.png'}, {'place_id': 20277018, 'licence': 'Data © OpenStreetMap contributors, ODbL 1.0. https://osm.org/copyright', 'osm_type': 'node', 'osm_id': 2327652090, 'boundingbox': ['47.6176584', '47.6177584', '-122.3445124', '-122.3444124'], 'lat': '47.6177084', 'lon': '-122.3444624', 'display_name': 'City University of Seattle, 521, Wall Street, South Lake Union, Belltown, Seattle, King County, Washington, 98121, United States', 'place_rank': 30, 'category': 'amenity', 'type': 'college', 'importance': 0.5582184742933953, 'icon': 'https://nominatim.openstreetmap.org/ui/mapicons/education_school.p.20.png'}, {'place_id': 103327928, 'licence': 'Data © OpenStreetMap contributors, ODbL 1.0. https://osm.org/copyright', 'osm_type': 'way', 'osm_id': 9408762, 'boundingbox': ['47.6959864', '47.7031582', '-122.3349353', '-122.3298541'], 'lat': '47.69870805', 'lon': '-122.33255180132647', 'display_name': 'North Seattle College, 9600, College Way North, Licton Springs, Maple Leaf, Seattle, King County, Washington, 98103, United States', 'place_rank': 30, 'category': 'amenity', 'type': 'college', 'importance': 0.5563219431370923, 'icon': 'https://nominatim.openstreetmap.org/ui/mapicons/education_school.p.20.png'}, {'place_id': 113207576, 'licence': 'Data © OpenStreetMap contributors, ODbL 1.0. https://osm.org/copyright', 'osm_type': 'way', 'osm_id': 31706483, 'boundingbox': ['47.5448765', '47.5518401', '-122.3546253', '-122.3492219'], 'lat': '47.548193299999994', 'lon': '-122.35233908228187', 'display_name': 'South Seattle College, 6000, 16th Avenue Southwest, Delridge, Seattle, King County, Washington, 98106, United States', 'place_rank': 30, 'category': 'amenity', 'type': 'college', 'importance': 0.5446986168413893, 'icon': 'https://nominatim.openstreetmap.org/ui/mapicons/education_school.p.20.png'}, {'place_id': 68745701, 'licence': 'Data © OpenStreetMap contributors, ODbL 1.0. https://osm.org/copyright', 'osm_type': 'node', 'osm_id': 6440063074, 'boundingbox': ['47.6217874', '47.6218874', '-122.3505871', '-122.3504871'], 'lat': '47.6218374', 'lon': '-122.3505371', 'display_name': 'Academy of Interactive Entertainment, 305, Harrison Street, Uptown, Belltown, Seattle, King County, Washington, 98109, United States', 'place_rank': 30, 'category': 'amenity', 'type': 'college', 'importance': 0.537293834631607, 'icon': 'https://nominatim.openstreetmap.org/ui/mapicons/education_school.p.20.png'}, {'place_id': 188154379, 'licence': 'Data © OpenStreetMap contributors, ODbL 1.0. https://osm.org/copyright', 'osm_type': 'way', 'osm_id': 342786695, 'boundingbox': ['47.5994914', '47.6002831', '-122.3042098', '-122.3033733'], 'lat': '47.60002405', 'lon': '-122.30376308697222', 'display_name': 'Seattle Vocational Institute, 2120, South Jackson Street, Little Saigon, Central District, Seattle, King County, Washington, 98144, United States', 'place_rank': 30, 'category': 'amenity', 'type': 'college', 'importance': 0.5332286868188654, 'icon': 'https://nominatim.openstreetmap.org/ui/mapicons/education_school.p.20.png'}, {'place_id': 193508482, 'licence': 'Data © OpenStreetMap contributors, ODbL 1.0. https://osm.org/copyright', 'osm_type': 'way', 'osm_id': 372877046, 'boundingbox': ['48.0041801', '48.0076205', '-122.2064658', '-122.1985194'], 'lat': '48.005767000000006', 'lon': '-122.20262859522254', 'display_name': 'Everett Community College, 10th Street, Northwest Everett, Everett, Snohomish County, Washington, 98201, United States', 'place_rank': 30, 'category': 'amenity', 'type': 'college', 'importance': 0.5207354184749959, 'icon': 'https://nominatim.openstreetmap.org/ui/mapicons/education_school.p.20.png'}, {'place_id': 197735727, 'licence': 'Data © OpenStreetMap contributors, ODbL 1.0. https://osm.org/copyright', 'osm_type': 'way', 'osm_id': 397007181, 'boundingbox': ['47.6131121', '47.6135231', '-122.3512647', '-122.3506657'], 'lat': '47.6133176', 'lon': '-122.35096519999999', 'display_name': 'The Seattle School of Theology and Psychology, 2501, Elliott Avenue, Belltown, Seattle, King County, Washington, 98121, United States', 'place_rank': 30, 'category': 'amenity', 'type': 'college', 'importance': 0.48147283909189603, 'icon': 'https://nominatim.openstreetmap.org/ui/mapicons/education_school.p.20.png'}, {'place_id': 186303931, 'licence': 'Data © OpenStreetMap contributors, ODbL 1.0. https://osm.org/copyright', 'osm_type': 'way', 'osm_id': 336485971, 'boundingbox': ['47.5965599', '47.5978044', '-122.3021181', '-122.3013024'], 'lat': '47.59718215', 'lon': '-122.3017103499598', 'display_name': 'Seattle Central College Wood Technology Center, 2310, South Lane Street, Central District, Seattle, King County, Washington, 98144, United States', 'place_rank': 30, 'category': 'amenity', 'type': 'college', 'importance': 0.30001, 'icon': 'https://nominatim.openstreetmap.org/ui/mapicons/education_school.p.20.png'}, {'place_id': 10056907, 'licence': 'Data © OpenStreetMap contributors, ODbL 1.0. https://osm.org/copyright', 'osm_type': 'node', 'osm_id': 1099460871, 'boundingbox': ['47.6779951', '47.6780951', '-122.323528', '-122.323428'], 'lat': '47.6780451', 'lon': '-122.323478', 'display_name': 'Seattle Institute of Oriental Medicine, 444, Northeast Ravenna Boulevard, Meridian, Green Lake, Seattle, King County, Washington, 98115, United States', 'place_rank': 30, 'category': 'amenity', 'type': 'college', 'importance': 0.30001, 'icon': 'https://nominatim.openstreetmap.org/ui/mapicons/education_school.p.20.png'}, {'place_id': 164983833, 'licence': 'Data © OpenStreetMap contributors, ODbL 1.0. https://osm.org/copyright', 'osm_type': 'way', 'osm_id': 239827006, 'boundingbox': ['47.61564', '47.6162752', '-122.3467899', '-122.3457922'], 'lat': '47.6159398', 'lon': '-122.3462752444464', 'display_name': 'Antioch University, 2400, 3rd Avenue, Uptown, Belltown, Seattle, King County, Washington, 98121, United States', 'place_rank': 30, 'category': 'amenity', 'type': 'college', 'importance': 0.30001, 'icon': 'https://nominatim.openstreetmap.org/ui/mapicons/education_school.p.20.png'}, {'place_id': 44912351, 'licence': 'Data © OpenStreetMap contributors, ODbL 1.0. https://osm.org/copyright', 'osm_type': 'node', 'osm_id': 3771319445, 'boundingbox': ['47.6186433', '47.6187433', '-122.3465842', '-122.3464842'], 'lat': '47.6186933', 'lon': '-122.3465342', 'display_name': 'Emerald City School, Denny Way, Uptown, Belltown, Seattle, King County, Washington, 98121, United States', 'place_rank': 30, 'category': 'amenity', 'type': 'college', 'importance': 0.30001, 'icon': 'https://nominatim.openstreetmap.org/ui/mapicons/education_school.p.20.png'}, {'place_id': 99262947, 'licence': 'Data © OpenStreetMap contributors, ODbL 1.0. https://osm.org/copyright', 'osm_type': 'node', 'osm_id': 9837120513, 'boundingbox': ['47.6992497', '47.6993497', '-122.327443', '-122.327343'], 'lat': '47.6992997', 'lon': '-122.327393', 'display_name': 'Pima Medical Institute, 9709, 3rd Avenue Northeast, Maple Leaf, Seattle, King County, Washington, 98115, United States', 'place_rank': 30, 'category': 'amenity', 'type': 'college', 'importance': 0.30001, 'icon': 'https://nominatim.openstreetmap.org/ui/mapicons/education_school.p.20.png'}, {'place_id': 12668666, 'licence': 'Data © OpenStreetMap contributors, ODbL 1.0. https://osm.org/copyright', 'osm_type': 'node', 'osm_id': 1313743670, 'boundingbox': ['47.6475548', '47.6476548', '-122.3408849', '-122.3407849'], 'lat': '47.6476048', 'lon': '-122.3408349', 'display_name': 'Divers Institute of Technology, 1341, North Northlake Way, Fremont, Seattle, King County, Washington, 98103, United States', 'place_rank': 30, 'category': 'amenity', 'type': 'college', 'importance': 0.30001, 'icon': 'https://nominatim.openstreetmap.org/ui/mapicons/education_school.p.20.png'}, {'place_id': 20101117, 'licence': 'Data © OpenStreetMap contributors, ODbL 1.0. https://osm.org/copyright', 'osm_type': 'node', 'osm_id': 2312065990, 'boundingbox': ['47.6229701', '47.6230701', '-122.3374046', '-122.3373046'], 'lat': '47.6230201', 'lon': '-122.3373546', 'display_name': 'Northeastern University, 401, Terry Avenue North, South Lake Union, Belltown, Seattle, King County, Washington, 98109, United States', 'place_rank': 30, 'category': 'amenity', 'type': 'college', 'importance': 0.30001, 'icon': 'https://nominatim.openstreetmap.org/ui/mapicons/education_school.p.20.png'}, {'place_id': 186174416, 'licence': 'Data © OpenStreetMap contributors, ODbL 1.0. https://osm.org/copyright', 'osm_type': 'way', 'osm_id': 336022276, 'boundingbox': ['48.004381', '48.0052424', '-122.195692', '-122.194697'], 'lat': '48.00496075', 'lon': '-122.1949948074967', 'display_name': 'AMTEC, 909, North Broadway Avenue, Northwest Everett, Everett, Snohomish County, Washington, 98201, United States', 'place_rank': 30, 'category': 'amenity', 'type': 'college', 'importance': 0.2001, 'icon': 'https://nominatim.openstreetmap.org/ui/mapicons/education_school.p.20.png'}, {'place_id': 43536412, 'licence': 'Data © OpenStreetMap contributors, ODbL 1.0. https://osm.org/copyright', 'osm_type': 'node', 'osm_id': 3599775988, 'boundingbox': ['48.0013724', '48.0014724', '-122.2170453', '-122.2169453'], 'lat': '48.0014224', 'lon': '-122.2169953', 'display_name': 'Ocean Research College Academy (ORCA), Suite 203, Millwright Loop North, Northwest Everett, Everett, Snohomish County, Washington, 98201, United States', 'place_rank': 30, 'category': 'amenity', 'type': 'college', 'importance': 0.2001, 'icon': 'https://nominatim.openstreetmap.org/ui/mapicons/education_school.p.20.png'}]\n"
     ]
    }
   ],
   "source": [
    "parameters = {'q' : '[college] in seattle, wa',\n",
    "             'format' : 'jsonv2',\n",
    "             'limit' : '50'}\n",
    "\n",
    "map_response6 = requests.get(\"http://nominatim.openstreetmap.org/search\", params=parameters)\n",
    "\n",
    "if map_response6.status_code == 200:\n",
    "    data = map_response6.json()\n",
    "    print(data)"
   ]
  },
  {
   "cell_type": "markdown",
   "id": "33c9499c",
   "metadata": {},
   "source": [
    "How can you tell that a place returned by the API is in fact a college?\n"
   ]
  },
  {
   "cell_type": "code",
   "execution_count": 124,
   "id": "3b940b2b",
   "metadata": {},
   "outputs": [
    {
     "name": "stdout",
     "output_type": "stream",
     "text": [
      "college\n",
      "college\n",
      "college\n",
      "college\n",
      "college\n",
      "college\n",
      "college\n",
      "college\n",
      "college\n",
      "college\n",
      "college\n",
      "college\n",
      "college\n",
      "college\n",
      "college\n",
      "college\n",
      "college\n",
      "college\n",
      "college\n"
     ]
    }
   ],
   "source": [
    "for place in data:\n",
    "    print(place['type']) "
   ]
  },
  {
   "cell_type": "markdown",
   "id": "eed92b68",
   "metadata": {},
   "source": [
    "Print the list of colleges into a new TSV file with the following columns: osm_id (a unique ID that OSM uses), the name of the college, latitude, and longitude.\n"
   ]
  },
  {
   "cell_type": "code",
   "execution_count": 134,
   "id": "a5027c4f",
   "metadata": {},
   "outputs": [
    {
     "name": "stdout",
     "output_type": "stream",
     "text": [
      "9994114 Cornish College of the Arts, Terry Avenue, South Lake Union, First Hill, Seattle, King County, Washington, 98191, United States 47.61680045 -122.33586595\n",
      "2439830827 UW College of Built Environments, 3949, 15th Avenue Northeast, West Campus, University District, Seattle, King County, Washington, 98105, United States 47.6549477 -122.312389\n",
      "169786833 Seattle Central College, East Howell Street, Capitol Hill, Seattle, King County, Washington, 98191, United States 47.61619055 -122.32149768795851\n",
      "2327652090 City University of Seattle, 521, Wall Street, South Lake Union, Belltown, Seattle, King County, Washington, 98121, United States 47.6177084 -122.3444624\n",
      "9408762 North Seattle College, 9600, College Way North, Licton Springs, Maple Leaf, Seattle, King County, Washington, 98103, United States 47.69870805 -122.33255180132647\n",
      "31706483 South Seattle College, 6000, 16th Avenue Southwest, Delridge, Seattle, King County, Washington, 98106, United States 47.548193299999994 -122.35233908228187\n",
      "6440063074 Academy of Interactive Entertainment, 305, Harrison Street, Uptown, Belltown, Seattle, King County, Washington, 98109, United States 47.6218374 -122.3505371\n",
      "342786695 Seattle Vocational Institute, 2120, South Jackson Street, Little Saigon, Central District, Seattle, King County, Washington, 98144, United States 47.60002405 -122.30376308697222\n",
      "372877046 Everett Community College, 10th Street, Northwest Everett, Everett, Snohomish County, Washington, 98201, United States 48.005767000000006 -122.20262859522254\n",
      "397007181 The Seattle School of Theology and Psychology, 2501, Elliott Avenue, Belltown, Seattle, King County, Washington, 98121, United States 47.6133176 -122.35096519999999\n",
      "336485971 Seattle Central College Wood Technology Center, 2310, South Lane Street, Central District, Seattle, King County, Washington, 98144, United States 47.59718215 -122.3017103499598\n",
      "1099460871 Seattle Institute of Oriental Medicine, 444, Northeast Ravenna Boulevard, Meridian, Green Lake, Seattle, King County, Washington, 98115, United States 47.6780451 -122.323478\n",
      "239827006 Antioch University, 2400, 3rd Avenue, Uptown, Belltown, Seattle, King County, Washington, 98121, United States 47.6159398 -122.3462752444464\n",
      "3771319445 Emerald City School, Denny Way, Uptown, Belltown, Seattle, King County, Washington, 98121, United States 47.6186933 -122.3465342\n",
      "9837120513 Pima Medical Institute, 9709, 3rd Avenue Northeast, Maple Leaf, Seattle, King County, Washington, 98115, United States 47.6992997 -122.327393\n",
      "1313743670 Divers Institute of Technology, 1341, North Northlake Way, Fremont, Seattle, King County, Washington, 98103, United States 47.6476048 -122.3408349\n",
      "2312065990 Northeastern University, 401, Terry Avenue North, South Lake Union, Belltown, Seattle, King County, Washington, 98109, United States 47.6230201 -122.3373546\n",
      "336022276 AMTEC, 909, North Broadway Avenue, Northwest Everett, Everett, Snohomish County, Washington, 98201, United States 48.00496075 -122.1949948074967\n",
      "3599775988 Ocean Research College Academy (ORCA), Suite 203, Millwright Loop North, Northwest Everett, Everett, Snohomish County, Washington, 98201, United States 48.0014224 -122.2169953\n"
     ]
    }
   ],
   "source": [
    "for place in data:\n",
    "    print(place['osm_id'], place['display_name'], place['lat'], place['lon'])"
   ]
  },
  {
   "cell_type": "code",
   "execution_count": 137,
   "id": "859cb94d",
   "metadata": {},
   "outputs": [],
   "source": [
    "with open(\"college_list.file.tsv\", \"w\") as my_file:\n",
    "    print(\"osm_id\\tcollege_name\\tlat\\tlon\", file = my_file)\n",
    "    for place in data:\n",
    "        print(f\"{place['osm_id']}\\t{place['display_name']}\\t{place['lat']}\\t{place['lon']}\", file=my_file)"
   ]
  },
  {
   "cell_type": "code",
   "execution_count": null,
   "id": "86ef4175",
   "metadata": {},
   "outputs": [],
   "source": []
  },
  {
   "cell_type": "code",
   "execution_count": null,
   "id": "2cac43d6",
   "metadata": {},
   "outputs": [],
   "source": [
    "#other notes"
   ]
  },
  {
   "cell_type": "code",
   "execution_count": 20,
   "id": "cffaf64c",
   "metadata": {},
   "outputs": [],
   "source": [
    "import requests"
   ]
  },
  {
   "cell_type": "code",
   "execution_count": 21,
   "id": "fe39ae14",
   "metadata": {},
   "outputs": [],
   "source": [
    "url = \"https://nominatim.openstreetmap.org/search\"\n",
    "my_params = {'q' : \"bakery\",\n",
    "             'format' : 'jsonv2',\n",
    "             'limit' : 50}\n",
    "\n",
    "response = requests.get(url, params=my_params)\n",
    "\n",
    "if response.status_code == 200:\n",
    "    data = response.json()\n",
    "else:\n",
    "    print(\"ERROR: request was not successfully\")"
   ]
  },
  {
   "cell_type": "code",
   "execution_count": 22,
   "id": "d0b77f7a",
   "metadata": {},
   "outputs": [
    {
     "data": {
      "text/plain": [
       "'https://nominatim.openstreetmap.org/search?q=bakery&format=jsonv2&limit=50'"
      ]
     },
     "execution_count": 22,
     "metadata": {},
     "output_type": "execute_result"
    }
   ],
   "source": [
    "response.url"
   ]
  },
  {
   "cell_type": "code",
   "execution_count": 23,
   "id": "a2d33a73",
   "metadata": {},
   "outputs": [
    {
     "data": {
      "text/plain": [
       "list"
      ]
     },
     "execution_count": 23,
     "metadata": {},
     "output_type": "execute_result"
    }
   ],
   "source": [
    "type(data)"
   ]
  },
  {
   "cell_type": "code",
   "execution_count": 24,
   "id": "970f5645",
   "metadata": {},
   "outputs": [
    {
     "data": {
      "text/plain": [
       "50"
      ]
     },
     "execution_count": 24,
     "metadata": {},
     "output_type": "execute_result"
    }
   ],
   "source": [
    "len(data)"
   ]
  },
  {
   "cell_type": "code",
   "execution_count": 25,
   "id": "fda698bf",
   "metadata": {},
   "outputs": [
    {
     "data": {
      "text/plain": [
       "{'place_id': 98007856,\n",
       " 'licence': 'Data © OpenStreetMap contributors, ODbL 1.0. https://osm.org/copyright',\n",
       " 'osm_type': 'node',\n",
       " 'osm_id': 9626426632,\n",
       " 'boundingbox': ['0.3225122', '0.3625122', '32.556213', '32.596213'],\n",
       " 'lat': '0.3425122',\n",
       " 'lon': '32.576213',\n",
       " 'display_name': 'Bakery, Kampala, Central Region, Uganda',\n",
       " 'place_rank': 19,\n",
       " 'category': 'place',\n",
       " 'type': 'village',\n",
       " 'importance': 0.375,\n",
       " 'icon': 'https://nominatim.openstreetmap.org/ui/mapicons/poi_place_village.p.20.png'}"
      ]
     },
     "execution_count": 25,
     "metadata": {},
     "output_type": "execute_result"
    }
   ],
   "source": [
    "data[0]"
   ]
  },
  {
   "cell_type": "code",
   "execution_count": 26,
   "id": "543c8e61",
   "metadata": {},
   "outputs": [
    {
     "name": "stdout",
     "output_type": "stream",
     "text": [
      "Bakery, Kampala, Central Region, Uganda\n",
      "bakery, Banjul, Kombo North/Saint Mary, Gambia\n",
      "Bakery, Köpetdag etraby, Aşgabat, Türkmenistan\n",
      "Bakery, Mabalacat, Pampanga, Central Luzon, Philippines\n",
      "Bakery, Bagong Silang I, Camarines Norte, Bicol Region, 4604, Philippines\n",
      "Хлібокомбінат, Баня Котівська, Борислав, Бориславська міська громада, Дрогобицький район, Львівська область, Україна\n",
      "bakery, Morin-Heights, Les Pays-d'en-Haut, Laurentides, Québec, J0R 1H0, Canada\n",
      "bakery, سیمای ایران, ایوانک, ناحیه ۷ منطقه ۲, منطقه ۲ شهر تهران, شهر تهران, بخش مرکزی شهرستان تهران, شهرستان تهران, 14667-13713, ایران\n",
      "bakery, Վահրամ Փափազյան փողոց, Արաբկիր, Երևան, 0012, Հայաստան\n",
      "bakery, Adoor - Vandiperiyar Highway, Ranni, Pathanamthitta, Kerala, 689662, India\n",
      "bakery, 4009. Sokak, Turgutreis, Bodrum, Muğla, Ege Bölgesi, 48960, Türkiye\n",
      "Bakery, Strada Ion Creangă, Centrul Nou, Brașov, Zona Metropolitană Brașov, Brașov, 500412, România\n",
      "Bakery, Zambezi Road, Lusaka, Lusaka District, Lusaka Province, Zambia\n",
      "Bakery, Sathy Main Road, Ward 46, North Zone, Coimbatore, Coimbatore North, Coimbatore District, Tamil Nadu, 641001, India\n",
      "BAKERY, Lubao Old National Road, Purok 1, Pulung Maligaya, Santo Tomas, Pampanga, Central Luzon, 2004, Philippines\n",
      "Bakery, شکوفه دوم, پونک جنوبی, پونک, منطقه ۵ شهر تهران, شهر تهران, بخش مرکزی شهرستان تهران, شهرستان تهران, 14767-19411, ایران\n",
      "Bakery, Տարոնցի փողոցի նրբանցք, Ներքին Շենգավիթ, Շենգավիթ, Երևան, 0055, Հայաստան\n",
      "Bakery, Hosahalli Main Road, Goripalya, Jagajivanaramnagar, West Zone, Bengaluru, Bangalore North, Bangalore Urban, Karnataka, 560104, India\n",
      "Bakery, Навруз улица, Pastdarhon, Sirg'ali tumani, Toshkent, 100000, Oʻzbekiston\n",
      "Bakery, شاہراہِ قائدِ اعظم, Zulfiqarabad, نگرال, گلگت, گلگت بلتستان, پاکستان\n",
      "Bakery, Sun Valley Drive, Sun Valley, Parañaque, Southern Manila District, Metro Manila, 1700, Philippines\n",
      "Bakery, Drumour Lodge, Trochry, Perth and Kinross, Alba / Scotland, PH8 0ED, United Kingdom\n",
      "Bakery, Palanas, Tanzang Luma VI, Bayan Luma VIII, Imus, Cavite, Calabarzon, 4103, Philippines\n",
      "Bakery, بلوار صیادی, مسکن مهر, شهر درگهان, بخش مرکزی شهرستان قشم, شهرستان قشم, استان هرمزگان, 79531-69120, ایران\n",
      "Bakery, البحر, ג'סר א-זרקא, נפת חדרה, מחוז חיפה, 3056502, ישראל\n",
      "Bakery, NH62, Nokha, Nagaur Tehsil, Nagaur District, Rajasthan, 341029, India\n",
      "Bakery, NH163, Ragunathpally mandal, Jangaon, Telangana, 506244, India\n",
      "Bakery, Geronimo Laurente Avenue, Marcelino Memije, General Mariano Alvarez, Cavite, Calabarzon, 4117, Philippines\n",
      "Bakery, Congressional Road, Gavino Maderan, General Mariano Alvarez, Cavite, Calabarzon, 4117, Philippines\n",
      "Bakery, Gutad-Santa Cruz Access Road, Sitio Centro, Santa Cruz, Pampanga, Central Luzon, 2005, Philippines\n",
      "Bakery, Quốc lộ 9 cũ, Thành phố Đông Hà, Cam Lộ, Tỉnh Quảng Trị, Việt Nam\n",
      "Skansens bageri, 49-51, Djurgårdsslätten, Djurgårdsstaden, Djurgården, Östermalms stadsdelsområde, Stockholms kommun, Stockholms län, 115 21, Sverige\n",
      "مخبز الفوانيس, شارع الغزاوة, حي بني وليد, جابر بن حيان, طرابلس, ليبيا\n",
      "مخبز سليم, شارع الصويعي الخيتوني, Alsreem, سيدي خليفة, الصريم, طرابلس, ليبيا\n",
      "بن رحال للخبز والحلويات, شارع علي بن أبي طالب, Ben Ashour, سيدي خليفة, فشلوم, طرابلس, ليبيا\n",
      "مخبز الشروي, شارع الهادي بن يونس, Alsreem, سيدي خليفة, الصريم, طرابلس, ليبيا\n",
      "خانه نان, خاقانی, مارنان, منطقه ۵, اصفهان, بخش مرکزی شهرستان اصفهان, شهرستان اصفهان, استان اصفهان, 81758-64891, ایران\n",
      "نانوایی خیام, بلوار خیام, زمرد, beik khorasani saipa, منطقه ۲, شهر مشهد, بخش مرکزی شهرستان مشهد, شهرستان مشهد, استان خراسان رضوی, 91848-45943, ایران\n",
      "مخبز الجزيرة, الطريق الدائري جنزور, جنزور, الجفارة, ليبيا\n",
      "مخبز الكامور, طريق الرابطة : بئر الغنم, الرابطة الشرقية, الرابطة, الجبل الغربي, ليبيا\n",
      "مخبز النهضة, طريق الرابطة : بئر الغنم, الرابطة الشرقية, الرابطة, الجبل الغربي, ليبيا\n",
      "مخبز البركة, شارع جمال عبدالناصر, حي الكويت, المشاشطة, الجفارة, ليبيا\n",
      "مخبز, شارع عمرو بن العاص, حي الكويت, جنزور, الجفارة, ليبيا\n",
      "مخبز البركة, طريق اولاد سويسي السراج, جنزور, الجفارة, ليبيا\n",
      "مخبز الشرقية, طريق المعاقين, جنزور, الجفارة, ليبيا\n",
      "مخبز, الطريق الساحلي, صياد, الجفارة, ليبيا\n",
      "مخبز ابوغرارة, شارع عبدالله بن مسعود, حي الكويت, جنزور, الجفارة, ليبيا\n",
      "مخبز جوهر, الطريق الدائري جنزور, المشاشطة, الجفارة, ليبيا\n",
      "المخبز التركي, طريق الرشاح النجيلة, الرشاح, المشاشطة, الجفارة, ليبيا\n",
      "مخبز القصيبة, شارع سليمان خاطر, حي الكويت, جنزور, الجفارة, ليبيا\n"
     ]
    }
   ],
   "source": [
    "for place in data:\n",
    "    print(place['display_name'])"
   ]
  },
  {
   "cell_type": "code",
   "execution_count": 27,
   "id": "a03c38a0",
   "metadata": {},
   "outputs": [],
   "source": [
    "url = \"https://nominatim.openstreetmap.org/search\"\n",
    "my_params = {'q' : \"bakery in seattle, wa\",\n",
    "             'format' : 'jsonv2',\n",
    "             'limit' : 10}\n",
    "\n",
    "response = requests.get(url, params=my_params)\n",
    "\n",
    "if response.status_code == 200:\n",
    "    data = response.json()\n",
    "else:\n",
    "    print(\"ERROR: request was not successfully\")"
   ]
  },
  {
   "cell_type": "code",
   "execution_count": 28,
   "id": "9884f2cc",
   "metadata": {},
   "outputs": [
    {
     "data": {
      "text/plain": [
       "10"
      ]
     },
     "execution_count": 28,
     "metadata": {},
     "output_type": "execute_result"
    }
   ],
   "source": [
    "len(data)"
   ]
  },
  {
   "cell_type": "code",
   "execution_count": 29,
   "id": "916b7a48",
   "metadata": {},
   "outputs": [
    {
     "name": "stdout",
     "output_type": "stream",
     "text": [
      "Sun Bakery & Deli, 658, South Jackson Street, Little Saigon, International District/Chinatown, Seattle, King County, Washington, 98104, United States\n",
      "Bakery Nouveau, 137, 15th Avenue East, Madison Valley, Capitol Hill, Seattle, King County, Washington, 98112, United States\n",
      "Sugar Bakery & Cafe, 1014, Madison Street, First Hill, Seattle, King County, Washington, 98104, United States\n",
      "Fuji Bakery, 1030, Elliott Avenue West, Queen Anne, Seattle, King County, Washington, 98119, United States\n",
      "Macrina Bakery - Belltown, 2408, 1st Avenue, Central Business District, Belltown, Seattle, King County, Washington, 98121, United States\n",
      "Three Girls Bakery, 1514, Pike Place, West Edge, Belltown, Seattle, King County, Washington, 98101, United States\n",
      "Crumble & Flake Patisserie, 1500, East Olive Way, First Hill, Seattle, King County, Washington, 98122, United States\n",
      "Rubinstein Bagels, 403, 15th Avenue East, Madison Valley, Capitol Hill, Seattle, King County, Washington, 98112, United States\n",
      "Cinnamon Works, 1536, Pike Place, West Edge, Belltown, Seattle, King County, Washington, 98101, United States\n",
      "Cinnaholic, 816, East Pike Street, First Hill, Seattle, King County, Washington, 98122, United States\n"
     ]
    }
   ],
   "source": [
    "for place in data:\n",
    "    print(place['display_name'])"
   ]
  },
  {
   "cell_type": "code",
   "execution_count": 30,
   "id": "1b437680",
   "metadata": {},
   "outputs": [],
   "source": [
    "url = \"https://nominatim.openstreetmap.org/search\"\n",
    "my_params = {'q' : \"[gas station]\",\n",
    "             'format' : 'jsonv2',\n",
    "             'viewbox' : '-121.51409,38.59500,-121.42371,38.55528',\n",
    "             'bounded' : 1,\n",
    "             'limit' : 5}\n",
    "\n",
    "response = requests.get(url, params=my_params)\n",
    "\n",
    "if response.status_code == 200:\n",
    "    data = response.json()\n",
    "else:\n",
    "    print(\"ERROR: request was not successfully\")"
   ]
  },
  {
   "cell_type": "code",
   "execution_count": 31,
   "id": "2bcdd2bb",
   "metadata": {},
   "outputs": [
    {
     "name": "stdout",
     "output_type": "stream",
     "text": [
      "Arco, 2100, Broadway, Oak Park, Land Park, Sacramento, Sacramento County, CAL Fire Northern Region, California, 95818, United States\n",
      "Valero, 3100, Broadway, Oak Park, Sacramento, Sacramento County, CAL Fire Northern Region, California, 95817, United States\n",
      "76, 2330, Broadway, Oak Park, Land Park, Sacramento, Sacramento County, CAL Fire Northern Region, California, 95818, United States\n",
      "76, P Street, Sacramento, Sacramento County, CAL Fire Northern Region, California, 95816, United States\n",
      "Valero, Broadway, Land Park, Sacramento, Sacramento County, CAL Fire Northern Region, California, 95818, United States\n"
     ]
    }
   ],
   "source": [
    "for place in data:\n",
    "    print(place['display_name'])"
   ]
  },
  {
   "cell_type": "code",
   "execution_count": 32,
   "id": "ba9ab2e1",
   "metadata": {},
   "outputs": [],
   "source": [
    "#1 Bored API"
   ]
  },
  {
   "cell_type": "code",
   "execution_count": null,
   "id": "c7ce47ea",
   "metadata": {},
   "outputs": [],
   "source": []
  }
 ],
 "metadata": {
  "kernelspec": {
   "display_name": "Python 3 (ipykernel)",
   "language": "python",
   "name": "python3"
  },
  "language_info": {
   "codemirror_mode": {
    "name": "ipython",
    "version": 3
   },
   "file_extension": ".py",
   "mimetype": "text/x-python",
   "name": "python",
   "nbconvert_exporter": "python",
   "pygments_lexer": "ipython3",
   "version": "3.10.9"
  }
 },
 "nbformat": 4,
 "nbformat_minor": 5
}
