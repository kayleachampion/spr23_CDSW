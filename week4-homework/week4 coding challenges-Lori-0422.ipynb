{
 "cells": [
  {
   "cell_type": "code",
   "execution_count": 1,
   "id": "6b402ec4",
   "metadata": {},
   "outputs": [],
   "source": [
    "#1 Bored API"
   ]
  },
  {
   "cell_type": "code",
   "execution_count": 2,
   "id": "f6d9ee07",
   "metadata": {},
   "outputs": [],
   "source": [
    "import requests"
   ]
  },
  {
   "cell_type": "code",
   "execution_count": 3,
   "id": "03ad2079",
   "metadata": {
    "scrolled": true
   },
   "outputs": [
    {
     "name": "stdout",
     "output_type": "stream",
     "text": [
      "How about Play a game of tennis with a friend? It has an accessibility score of 0.4 out of 1.0 and a price level of 0.1 out of 1.0.\n"
     ]
    }
   ],
   "source": [
    "##1.1 Write some Python code to use the API to get an activity that I could do with my partner. Turn the data from the API into a sentence that tells me the activity, its accessibility, and its price. (Note: this used to say \"free activity\"; we removed that because it's more boring that way.)\n",
    "response = requests.get(\"http://www.boredapi.com/api/activity?participants=2\")\n",
    "if response.status_code == 200:\n",
    "    data = response.json()\n",
    "    activity = data['activity']\n",
    "    accessibility = data['accessibility']\n",
    "    price = data['price']\n",
    "    suggestion = f\"How about {activity}? It has an accessibility score of {accessibility} out of 1.0 and a price level of {price} out of 1.0.\"\n",
    "    print(suggestion)\n",
    "\n",
    "else:\n",
    "    print(\"No activity meets.\")"
   ]
  },
  {
   "cell_type": "code",
   "execution_count": 30,
   "id": "91c61955",
   "metadata": {},
   "outputs": [
    {
     "name": "stdout",
     "output_type": "stream",
     "text": [
      "activity1:Go swimming with a friend; price: 0.1; accessibility: 0.1\n",
      "activity2:Go swimming with a friend; price: 0.1; accessibility: 0.1\n",
      "activity3:Go swimming with a friend; price: 0.1; accessibility: 0.1\n",
      "activity4:Go swimming with a friend; price: 0.1; accessibility: 0.1\n",
      "activity5:Go swimming with a friend; price: 0.1; accessibility: 0.1\n"
     ]
    }
   ],
   "source": [
    "##1.2 Extend that code so that it gets me 5 activities and have it write a nicely formatted output.\n",
    "response = requests.get(\"http://www.boredapi.com/api/activity?participants=2\")\n",
    "if response.status_code == 200:\n",
    "    data = response.json()\n",
    "    activity = data['activity']\n",
    "    accessibility = data['accessibility']\n",
    "    price = data['price']\n",
    "    \n",
    "for n in range(1, 6):\n",
    "        print(f\"activity{n}:{activity}; price: {price}; accessibility: {accessibility}\")\n",
    "\n",
    "        \n",
    "   "
   ]
  },
  {
   "cell_type": "code",
   "execution_count": 7,
   "id": "379b54a3",
   "metadata": {},
   "outputs": [
    {
     "name": "stdout",
     "output_type": "stream",
     "text": [
      "Random activity: Practice coding in your favorite lanaguage (recreational)\n",
      "Another random activity: Practice coding in your favorite lanaguage (recreational)\n",
      "same\n"
     ]
    }
   ],
   "source": [
    "##1.3 First, get a totally random activity from the API. Print it out, along with its activity type. Now get me another activity that's of the same type as the first random activity. Print it out too, plus its activity type (to check that they're the same).\n",
    "import requests\n",
    "\n",
    "\n",
    "response = requests.get(\"http://www.boredapi.com/api/activity?type=recreational\")\n",
    "if response.status_code == 200:\n",
    "    data = response.json()\n",
    "    activity = data[\"activity\"]\n",
    "    activity_type = data[\"type\"]\n",
    "\n",
    "\n",
    "response2 = requests.get(f\"http://www.boredapi.com/api/activity?type={activity_type}\")\n",
    "if response2.status_code == 200:\n",
    "        data2 = response2.json()\n",
    "        activity2 = data2[\"activity\"]\n",
    "        activity_type2 = data2[\"type\"]\n",
    "\n",
    "        print(f\"Random activity: {activity} ({activity_type})\")\n",
    "        print(f\"Another random activity: {activity} ({activity_type})\")\n",
    "if activity==activity:\n",
    "    print(\"same\")\n",
    "    ###not correct"
   ]
  },
  {
   "cell_type": "code",
   "execution_count": 67,
   "id": "63104d24",
   "metadata": {},
   "outputs": [
    {
     "name": "stdout",
     "output_type": "stream",
     "text": [
      "education activity: Learn how the internet works\n",
      "recreational activity: Play a video game\n",
      "social activity: Write a handwritten letter to somebody\n",
      "diy activity: Learn woodworking\n",
      "charity activity: Find a charity and donate to it\n",
      "cooking activity: Make bread from scratch\n",
      "relaxation activity: Sit in the dark and listen to your favorite music with no distractions\n",
      "music activity: Write a song\n",
      "busywork activity: Clean out your garage\n"
     ]
    }
   ],
   "source": [
    "##1.4 Write a Python program that prints out one random activity of each type that the Bored API supports. (See if you can use a loop for this!)\n",
    "import requests\n",
    "\n",
    "activity_types = ['education', 'recreational', 'social', 'diy', 'charity', 'cooking', 'relaxation', 'music', 'busywork']\n",
    "\n",
    "for activity_type in activity_types:\n",
    "    response = requests.get(f\"http://www.boredapi.com/api/activity?type={activity_type}\")\n",
    "    if response.status_code == 200:\n",
    "        data = response.json()\n",
    "        activity = data[\"activity\"]\n",
    "        print(f\"{activity_type} activity: {activity}\")\n",
    "    else:\n",
    "        print(f\"Unable to retrieve {activity_type} activity.\")"
   ]
  },
  {
   "cell_type": "code",
   "execution_count": null,
   "id": "662d6d0c",
   "metadata": {},
   "outputs": [],
   "source": []
  },
  {
   "cell_type": "code",
   "execution_count": 32,
   "id": "658e8672",
   "metadata": {},
   "outputs": [],
   "source": [
    "#2 Learning a new API"
   ]
  },
  {
   "cell_type": "code",
   "execution_count": 25,
   "id": "b75c3859",
   "metadata": {},
   "outputs": [
    {
     "name": "stdout",
     "output_type": "stream",
     "text": [
      "Powered by Stratonauts Dog API\n"
     ]
    }
   ],
   "source": [
    "##2.2 Write a URL that will return a single dog fact (you don't need to turn in any python code for this! just the link is fine!)\n",
    "print(\"Powered by Stratonauts Dog API\")\n",
    "#https://dogapi.dog/api/v2/facts"
   ]
  },
  {
   "cell_type": "code",
   "execution_count": 24,
   "id": "a9269f49",
   "metadata": {},
   "outputs": [
    {
     "name": "stdout",
     "output_type": "stream",
     "text": [
      "Powered by Stratonauts Dog API\n"
     ]
    }
   ],
   "source": [
    "##2.3\n",
    "print(\"Powered by Stratonauts Dog API\")\n",
    "\n",
    "##https://dogapi.dog/api/v2/facts?limit=5"
   ]
  },
  {
   "cell_type": "code",
   "execution_count": 56,
   "id": "19f13eaa",
   "metadata": {
    "scrolled": true
   },
   "outputs": [
    {
     "name": "stdout",
     "output_type": "stream",
     "text": [
      "While not the best when it comes to sight, dogs have a keen sense of hearing, and can hear sounds at 4 times the distance of humans.\n"
     ]
    }
   ],
   "source": [
    "##2.4\n",
    "import requests\n",
    "\n",
    "response = requests.get(\"https://dogapi.dog/api/v2/facts\", params={\"limit\": 1})\n",
    "fact = response.json()[\"data\"][0]['attributes']['body']\n",
    "print(fact)\n",
    "    "
   ]
  },
  {
   "cell_type": "code",
   "execution_count": 108,
   "id": "5c85496a",
   "metadata": {
    "scrolled": true
   },
   "outputs": [
    {
     "name": "stdout",
     "output_type": "stream",
     "text": [
      "https://docs.google.com/spreadsheets/d/1YX7V5u-pCmFpHLfHRel9lxq5iSAOnP16YN5E1UbmtGQ/edit?usp=sharing\n"
     ]
    }
   ],
   "source": [
    "##2.5 Finally, write a for loop that gets sets of 5 facts 5 times (you can just try something like for number in [1,2,3,4,5], downloads the lists of dog facts, and then writes out a new tab-separated values (TSV) file with columns: (1) ID of the dog fact, and (2) the fact itself!\n",
    "    \n",
    "with open(\"dog_facts.tsv\", \"w\") as myfile:\n",
    "    myfile.write(\"ID\\tFact\\n\")\n",
    "    for i in [1,2,3,4,5]:\n",
    "        response = requests.get(\"https://dogapi.dog/api/v2/facts\", params={\"limit\": 5})\n",
    "        ID=response.json()[\"data\"][0]['id']\n",
    "        Fact = response.json()[\"data\"]\n",
    "        for fact in Fact:\n",
    "            fact_id = fact[\"id\"]\n",
    "            fact_body = fact[\"attributes\"][\"body\"]\n",
    "            myfile.write(f\"{fact_id}\\t{fact_body}\\n\")\n",
    "print(\"https://docs.google.com/spreadsheets/d/1YX7V5u-pCmFpHLfHRel9lxq5iSAOnP16YN5E1UbmtGQ/edit?usp=sharing\")\n"
   ]
  },
  {
   "cell_type": "code",
   "execution_count": 10,
   "id": "94504bf1",
   "metadata": {},
   "outputs": [],
   "source": [
    "#3 Mapping!"
   ]
  },
  {
   "cell_type": "code",
   "execution_count": 13,
   "id": "5241dfb3",
   "metadata": {},
   "outputs": [
    {
     "name": "stdout",
     "output_type": "stream",
     "text": [
      "There are more gas stations in Duvall.\n"
     ]
    }
   ],
   "source": [
    "##3.1 Are there more gas stations in Duvall or Carnation?\n",
    "import requests\n",
    "Duvall_gasstation=requests.get(\"https://nominatim.openstreetmap.org/search\", params={\"q\": \"gas station in Duvall, WA\", \"format\": \"json\"})\n",
    "Carnation_gasstation=requests.get(\"https://nominatim.openstreetmap.org/search\", params={\"q\": \"gas station in Carnation, WA\", \"format\": \"json\"})\n",
    "amountD=len(Duvall_gasstation.json())\n",
    "amountC=len(Carnation_gasstation.json())\n",
    "\n",
    "if amountD > amountC:\n",
    "    print(\"There are more gas stations in Duvall.\")\n",
    "elif amountD < amountC:\n",
    "    print(\"There are more gas stations in Carnation.\")\n",
    "else:\n",
    "    print(\"There are an equal number of gas stations in Duvall and Carnation.\")"
   ]
  },
  {
   "cell_type": "code",
   "execution_count": 14,
   "id": "6738608c",
   "metadata": {},
   "outputs": [
    {
     "name": "stdout",
     "output_type": "stream",
     "text": [
      "There are more dentists near Downtown Seattle.\n"
     ]
    }
   ],
   "source": [
    "##3.2 Are there more dentists near the University or near Downtown? (you will need to look at the limit on the number of returned items)\n",
    "\n",
    "\n",
    "university_dentists = requests.get(\"https://nominatim.openstreetmap.org/search\", params={\"q\": \"dentist near University of Washington, Seattle\", \"format\": \"json\", \"limit\": 100})\n",
    "\n",
    "downtown_dentists = requests.get(\"https://nominatim.openstreetmap.org/search\", params={\"q\": \"dentist near Downtown Seattle\", \"format\": \"json\", \"limit\": 100})\n",
    "\n",
    "\n",
    "university_dentists_amount = len(university_dentists.json())\n",
    "downtown_dentists_amount = len(downtown_dentists.json())\n",
    "\n",
    "\n",
    "if university_dentists_amount > downtown_dentists_amount:\n",
    "    print(\"There are more dentists near the University of Washington.\")\n",
    "elif university_dentists_amount < downtown_dentists_amount:\n",
    "    print(\"There are more dentists near Downtown Seattle.\")\n",
    "else:\n",
    "    print(\"There are an equal number of dentists near the University of Washington and near Downtown Seattle.\")"
   ]
  },
  {
   "cell_type": "code",
   "execution_count": 16,
   "id": "9b596fe1",
   "metadata": {},
   "outputs": [
    {
     "name": "stdout",
     "output_type": "stream",
     "text": [
      "Address information for location (47.664291, -122.304207):\n",
      "Street: 22nd Avenue Northeast\n",
      "City: Seattle\n",
      "State: Washington\n",
      "Country: United States\n"
     ]
    }
   ],
   "source": [
    "##3.3Use the geocoding API endpoint in Nominatim to look up a specific latitude and longitude of your choice (try this building or your hometown).\n",
    "import requests\n",
    "\n",
    "latitude = 47.664291\n",
    "longitude = -122.304207\n",
    "\n",
    "response = requests.get(\"https://nominatim.openstreetmap.org/reverse\", params={\"lat\": latitude, \"lon\": longitude, \"format\": \"json\"})\n",
    "\n",
    "data = response.json()\n",
    "\n",
    "# Print out the address information for the location\n",
    "print(\"Address information for location ({}, {}):\".format(latitude, longitude))\n",
    "print(\"Street: {}\".format(data[\"address\"].get(\"road\", \"N/A\")))\n",
    "print(\"City: {}\".format(data[\"address\"].get(\"city\", \"N/A\")))\n",
    "print(\"State: {}\".format(data[\"address\"].get(\"state\", \"N/A\")))\n",
    "print(\"Country: {}\".format(data[\"address\"].get(\"country\", \"N/A\")))"
   ]
  },
  {
   "cell_type": "code",
   "execution_count": 22,
   "id": "43645897",
   "metadata": {
    "scrolled": true
   },
   "outputs": [
    {
     "name": "stdout",
     "output_type": "stream",
     "text": [
      "[{'place_id': 340259502, 'licence': 'Data © OpenStreetMap contributors, ODbL 1.0. https://osm.org/copyright', 'osm_type': 'way', 'osm_id': 1086262198, 'boundingbox': ['47.6081042', '47.6081428', '-122.1743914', '-122.1742413'], 'lat': '47.6081042', 'lon': '-122.1742413', 'display_name': 'WIlburton Hill Park Trails, Belridge, Bellevue, King County, Washington, 98005, United States', 'class': 'aerialway', 'type': 'zip_line', 'importance': 0.4001}, {'place_id': 266604172, 'licence': 'Data © OpenStreetMap contributors, ODbL 1.0. https://osm.org/copyright', 'osm_type': 'way', 'osm_id': 831449302, 'boundingbox': ['47.5675978', '47.5685085', '-122.1486867', '-122.1460848'], 'lat': '47.5685085', 'lon': '-122.1472952', 'display_name': '146th Avenue Southeast, Eastgate, Bellevue, King County, Washington, 98006, United States', 'class': 'aerialway', 'type': 'zip_line', 'importance': 0.4001}, {'place_id': 266425130, 'licence': 'Data © OpenStreetMap contributors, ODbL 1.0. https://osm.org/copyright', 'osm_type': 'way', 'osm_id': 831449301, 'boundingbox': ['47.5676025', '47.5685007', '-122.1486472', '-122.1475391'], 'lat': '47.5682515', 'lon': '-122.1482035', 'display_name': '144th Avenue Southeast, Somerset, Bellevue, King County, Washington, 98006, United States', 'class': 'aerialway', 'type': 'zip_line', 'importance': 0.4001}]\n",
      "3\n"
     ]
    }
   ],
   "source": [
    "##3.4 Write a program to find all the ziplines in King County, Washington (or at least all the ones that OSM knows about!).\n",
    "my_params = {'q' : '[zipline] in king county, wa',\n",
    "             'format' : 'json'}\n",
    "\n",
    "response = requests.get(\"http://nominatim.openstreetmap.org/search\", params=my_params)\n",
    "\n",
    "if response.status_code == 200:\n",
    "    ziplines = response.json()\n",
    "    \n",
    "    print(ziplines)\n",
    "    print(len(ziplines))\n",
    "   "
   ]
  },
  {
   "cell_type": "code",
   "execution_count": 81,
   "id": "0c14d5c6",
   "metadata": {},
   "outputs": [],
   "source": [
    "##3.5 It's important to be alert and well-caffeinated when ziplining! Once you've found a nearby zipline, have your program use that result to find the nearest cafe each of the ziplines you identify!\n",
    "for locations in ziplines:\n",
    "    lat = locations['lat']\n",
    "    lon = locations['lon']\n",
    "    cafe_params = {'lat': lat,\n",
    "                   'lon': lon,\n",
    "                   'tag': 'amenity=cafe',}\n",
    "    cafe_response = requests.get(\"https://overpass-api.de/api/interpreter\", params=cafe_params)\n",
    "    if cafe_response.status_code == 200:\n",
    "        cafes = cafe_response.json()[\"elements\"]\n",
    "        name = cafes.get(\"tags\", {}).get(\"name\", \"unknown\")\n",
    "        print(f\"The nearest cafe to the zipline at {lat}, {lon} is {name}.\")"
   ]
  },
  {
   "cell_type": "code",
   "execution_count": 82,
   "id": "961bbe0e",
   "metadata": {},
   "outputs": [
    {
     "name": "stdout",
     "output_type": "stream",
     "text": [
      "Cornish College of the Arts, Terry Avenue, South Lake Union, First Hill, Seattle, King County, Washington, 98191, United States\n",
      "Latitude: 47.61680045\n",
      "Longitude: -122.33586595\n",
      "\n",
      "Seattle Central College, East Howell Street, Capitol Hill, Seattle, King County, Washington, 98191, United States\n",
      "Latitude: 47.61619055\n",
      "Longitude: -122.32149768795851\n",
      "\n",
      "City University of Seattle, 521, Wall Street, South Lake Union, Belltown, Seattle, King County, Washington, 98121, United States\n",
      "Latitude: 47.6177084\n",
      "Longitude: -122.3444624\n",
      "\n",
      "Academy of Interactive Entertainment, 305, Harrison Street, Uptown, Belltown, Seattle, King County, Washington, 98109, United States\n",
      "Latitude: 47.6218374\n",
      "Longitude: -122.3505371\n",
      "\n",
      "Seattle Vocational Institute, 2120, South Jackson Street, Little Saigon, Central District, Seattle, King County, Washington, 98144, United States\n",
      "Latitude: 47.60002405\n",
      "Longitude: -122.30376308697222\n",
      "\n",
      "The Seattle School of Theology and Psychology, 2501, Elliott Avenue, Belltown, Seattle, King County, Washington, 98121, United States\n",
      "Latitude: 47.6133176\n",
      "Longitude: -122.35096519999999\n",
      "\n",
      "Seattle Central College Wood Technology Center, 2310, South Lane Street, Central District, Seattle, King County, Washington, 98144, United States\n",
      "Latitude: 47.59718215\n",
      "Longitude: -122.3017103499598\n",
      "\n",
      "Divers Institute of Technology, 1341, North Northlake Way, Fremont, Seattle, King County, Washington, 98103, United States\n",
      "Latitude: 47.6476048\n",
      "Longitude: -122.3408349\n",
      "\n",
      "Northeastern University, 401, Terry Avenue North, South Lake Union, Belltown, Seattle, King County, Washington, 98109, United States\n",
      "Latitude: 47.6230201\n",
      "Longitude: -122.3373546\n",
      "\n",
      "Emerald City School, Denny Way, Uptown, Belltown, Seattle, King County, Washington, 98121, United States\n",
      "Latitude: 47.6186933\n",
      "Longitude: -122.3465342\n",
      "\n"
     ]
    }
   ],
   "source": [
    "##3.6\n",
    "import requests\n",
    "\n",
    "my_params = {\"q\": \"college in Seattle\",\"bounded\": 1,\"viewbox\": \"-122.4471,47.4818,-122.2466,47.7341\",\"format\": \"json\"}\n",
    "\n",
    "response = requests.get(\"https://nominatim.openstreetmap.org/search\", params=my_params)\n",
    "\n",
    "if response.status_code == 200:\n",
    "    results = response.json()\n",
    "    for result in results:\n",
    "        if \"college\" in result[\"type\"]:\n",
    "            print(result[\"display_name\"])\n",
    "            print(\"Latitude:\", result[\"lat\"])\n",
    "            print(\"Longitude:\", result[\"lon\"])\n",
    "            print()\n"
   ]
  },
  {
   "cell_type": "code",
   "execution_count": 110,
   "id": "9a466a38",
   "metadata": {},
   "outputs": [
    {
     "name": "stdout",
     "output_type": "stream",
     "text": [
      "Cornish College of the Arts, Terry Avenue, South Lake Union, First Hill, Seattle, King County, Washington, 98191, United States\n",
      "47.61680045 -122.33586595\n",
      "Terry Avenue Seattle Washington\n",
      "Seattle Central College, East Howell Street, Capitol Hill, Seattle, King County, Washington, 98191, United States\n",
      "47.61619055 -122.32149768795851\n",
      "East Howell Street Seattle Washington\n",
      "City University of Seattle, 521, Wall Street, South Lake Union, Belltown, Seattle, King County, Washington, 98121, United States\n",
      "47.6177084 -122.3444624\n",
      "Wall Street Seattle Washington\n",
      "Academy of Interactive Entertainment, 305, Harrison Street, Uptown, Belltown, Seattle, King County, Washington, 98109, United States\n",
      "47.6218374 -122.3505371\n",
      "Harrison Street Seattle Washington\n",
      "Seattle Vocational Institute, 2120, South Jackson Street, Little Saigon, Central District, Seattle, King County, Washington, 98144, United States\n",
      "47.60002405 -122.30376308697222\n",
      "South Jackson Street Seattle Washington\n",
      "The Seattle School of Theology and Psychology, 2501, Elliott Avenue, Belltown, Seattle, King County, Washington, 98121, United States\n",
      "47.6133176 -122.35096519999999\n",
      "Elliott Avenue Seattle Washington\n",
      "Seattle Central College Wood Technology Center, 2310, South Lane Street, Central District, Seattle, King County, Washington, 98144, United States\n",
      "47.59718215 -122.3017103499598\n",
      "South Lane Street Seattle Washington\n",
      "Divers Institute of Technology, 1341, North Northlake Way, Fremont, Seattle, King County, Washington, 98103, United States\n",
      "47.6476048 -122.3408349\n",
      "North Northlake Way Seattle Washington\n",
      "Northeastern University, 401, Terry Avenue North, South Lake Union, Belltown, Seattle, King County, Washington, 98109, United States\n",
      "47.6230201 -122.3373546\n",
      "Terry Avenue North Seattle Washington\n",
      "Emerald City School, Denny Way, Uptown, Belltown, Seattle, King County, Washington, 98121, United States\n",
      "47.6186933 -122.3465342\n",
      "Denny Way Seattle Washington\n"
     ]
    }
   ],
   "source": [
    "##3.6.1 Modify your query so that you include the address details separated out (this is an API option you can find in the documentation)?\n",
    "import requests\n",
    "\n",
    "params = {'q': 'college in Seattle',\n",
    "    'bounded': 1,\n",
    "    'viewbox': '-122.45329,47.48100,-122.20346,47.73414',\n",
    "    'format': 'jsonv2',\n",
    "    'addressdetails': 1}\n",
    "\n",
    "response = requests.get('https://nominatim.openstreetmap.org/search', params=params)\n",
    "\n",
    "if response.status_code == 200:\n",
    "    data = response.json()\n",
    "    for result in data:\n",
    "        if 'college' in result['type']:\n",
    "            print(result['display_name'])\n",
    "            print(result['lat'], result['lon'])\n",
    "            address = result['address']\n",
    "            print(address['road'],address['city'], address['state'])\n",
    "            "
   ]
  },
  {
   "cell_type": "code",
   "execution_count": 121,
   "id": "489200da",
   "metadata": {},
   "outputs": [
    {
     "ename": "KeyError",
     "evalue": "'amenity'",
     "output_type": "error",
     "traceback": [
      "\u001b[0;31m---------------------------------------------------------------------------\u001b[0m",
      "\u001b[0;31mKeyError\u001b[0m                                  Traceback (most recent call last)",
      "Cell \u001b[0;32mIn[121], line 4\u001b[0m\n\u001b[1;32m      2\u001b[0m \u001b[38;5;28;01mfor\u001b[39;00m result \u001b[38;5;129;01min\u001b[39;00m results:\n\u001b[1;32m      3\u001b[0m     osm_type \u001b[38;5;241m=\u001b[39m result[\u001b[38;5;124m\"\u001b[39m\u001b[38;5;124mosm_type\u001b[39m\u001b[38;5;124m\"\u001b[39m]\n\u001b[0;32m----> 4\u001b[0m     \u001b[38;5;28;01mif\u001b[39;00m osm_type \u001b[38;5;241m==\u001b[39m \u001b[38;5;124m\"\u001b[39m\u001b[38;5;124mnode\u001b[39m\u001b[38;5;124m\"\u001b[39m \u001b[38;5;129;01mand\u001b[39;00m \u001b[43mresult\u001b[49m\u001b[43m[\u001b[49m\u001b[38;5;124;43m'\u001b[39;49m\u001b[38;5;124;43mamenity\u001b[39;49m\u001b[38;5;124;43m'\u001b[39;49m\u001b[43m]\u001b[49m \u001b[38;5;241m==\u001b[39m \u001b[38;5;124m\"\u001b[39m\u001b[38;5;124mcollege\u001b[39m\u001b[38;5;124m\"\u001b[39m:\n\u001b[1;32m      5\u001b[0m             name \u001b[38;5;241m=\u001b[39m result[\u001b[38;5;124m\"\u001b[39m\u001b[38;5;124mdisplay_name\u001b[39m\u001b[38;5;124m\"\u001b[39m]\n\u001b[1;32m      6\u001b[0m             lat \u001b[38;5;241m=\u001b[39m result[\u001b[38;5;124m\"\u001b[39m\u001b[38;5;124mlat\u001b[39m\u001b[38;5;124m\"\u001b[39m]\n",
      "\u001b[0;31mKeyError\u001b[0m: 'amenity'"
     ]
    }
   ],
   "source": [
    "##3.6.2\n",
    "for result in results:\n",
    "    osm_type = result[\"osm_type\"]\n",
    "    if osm_type == \"node\" and result['amenity'] == \"college\":\n",
    "            name = result[\"display_name\"]\n",
    "            lat = result[\"lat\"]\n",
    "            lon = result[\"lon\"]\n",
    "            print(f\"{name}\\nLat: {lat}\\nLon: {lon}\\n\")"
   ]
  },
  {
   "cell_type": "code",
   "execution_count": 127,
   "id": "13f0c640",
   "metadata": {},
   "outputs": [],
   "source": [
    "##3.6.3 Print the list of colleges into a new TSV file with the following columns: osm_id (a unique ID that OSM uses), the name of the college, latitude, and longitude.\n",
    "with open(\"colleges.tsv\", \"w\") as myfile:\n",
    "    myfile.write(\"osm_id\\tname\\tlat\\tlon\\n\")\n",
    "    for result in results:\n",
    "        if \"college\" in result[\"type\"]:\n",
    "            osm_id = result[\"osm_id\"]\n",
    "            name = result[\"display_name\"].split(\",\")[0]\n",
    "            lat = result[\"lat\"]\n",
    "            lon = result[\"lon\"]"
   ]
  },
  {
   "cell_type": "code",
   "execution_count": null,
   "id": "e3ec62bc",
   "metadata": {},
   "outputs": [],
   "source": []
  }
 ],
 "metadata": {
  "kernelspec": {
   "display_name": "Python 3 (ipykernel)",
   "language": "python",
   "name": "python3"
  },
  "language_info": {
   "codemirror_mode": {
    "name": "ipython",
    "version": 3
   },
   "file_extension": ".py",
   "mimetype": "text/x-python",
   "name": "python",
   "nbconvert_exporter": "python",
   "pygments_lexer": "ipython3",
   "version": "3.10.9"
  }
 },
 "nbformat": 4,
 "nbformat_minor": 5
}
