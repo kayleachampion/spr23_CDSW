{
 "cells": [
  {
   "cell_type": "markdown",
   "metadata": {},
   "source": [
    "## 0 Notes and Thoughts From Kaylea"
   ]
  },
  {
   "cell_type": "markdown",
   "metadata": {},
   "source": [
    "### So. Much. Progress!"
   ]
  },
  {
   "cell_type": "code",
   "execution_count": 9,
   "metadata": {},
   "outputs": [],
   "source": [
    "import requests"
   ]
  },
  {
   "cell_type": "code",
   "execution_count": 10,
   "metadata": {},
   "outputs": [
    {
     "name": "stdout",
     "output_type": "stream",
     "text": [
      "200\n"
     ]
    }
   ],
   "source": [
    "my_response = requests.get(\"http://www.boredapi.com/api/activity\")\n",
    "print(my_response.status_code)"
   ]
  },
  {
   "cell_type": "markdown",
   "metadata": {},
   "source": [
    "## 1 Write some Python code to use the API to get an activity that I could do with my partner. Turn the data from the API into a sentence that tells me the activity, its accessibility, and its price.  Starring...Dionna!"
   ]
  },
  {
   "cell_type": "code",
   "execution_count": 11,
   "metadata": {},
   "outputs": [
    {
     "name": "stdout",
     "output_type": "stream",
     "text": [
      "With your partner, you can Catch up with a friend over a lunch date for $0.2; with an accessibility level of: 0.15, with 0 being the most accessible and 1 being the least accessible\n"
     ]
    }
   ],
   "source": [
    "\n",
    "for number in [1]:\n",
    "    my_parameters = {'participants' : 2}\n",
    "    response = requests.get(\"http://www.boredapi.com/api/activity/\", params = my_parameters)\n",
    "    if response.status_code == 200:\n",
    "        activity_ideas = response.json()\n",
    "        print(f\"With your partner, you can {activity_ideas['activity']} for ${activity_ideas['price']}; with an accessibility level of: {activity_ideas['accessibility']}, with 0 being the most accessible and 1 being the least accessible\")\n"
   ]
  },
  {
   "cell_type": "markdown",
   "metadata": {},
   "source": [
    "### Now get 5 activities...also starring Dionna!"
   ]
  },
  {
   "cell_type": "code",
   "execution_count": 12,
   "metadata": {},
   "outputs": [
    {
     "name": "stdout",
     "output_type": "stream",
     "text": [
      "activity 1: Cook something together with someone\n",
      "activity 2: Go swimming with a friend\n",
      "activity 3: Go swimming with a friend\n",
      "activity 4: Play a game of tennis with a friend\n",
      "activity 5: Play a game of tennis with a friend\n"
     ]
    }
   ],
   "source": [
    "for number in [1,2,3,4,5]:\n",
    "    my_parameters = {'participants' : 2}\n",
    "    response = requests.get(\"http://www.boredapi.com/api/activity/\", params = my_parameters)\n",
    "    if response.status_code == 200:\n",
    "        activity_ideas = response.json()\n",
    "        print(f\"activity {number}: {activity_ideas['activity']}\")\n"
   ]
  },
  {
   "cell_type": "markdown",
   "metadata": {},
   "source": [
    "## Activity Pairing....Starring....Gabriela!"
   ]
  },
  {
   "cell_type": "markdown",
   "metadata": {},
   "source": [
    "First, get a totally random activity from the API. Print it out, along with its activity type. Now get me another activity that's of the same type as the first random activity. Print it out too, plus its activity type (to check that they're the same)."
   ]
  },
  {
   "cell_type": "code",
   "execution_count": 14,
   "metadata": {},
   "outputs": [
    {
     "name": "stdout",
     "output_type": "stream",
     "text": [
      "Random activity: Make a bucket list\n",
      "Activity type: busywork\n",
      "\n",
      "Activity of the same type: Rearrange and organize your room\n",
      "Activity type: busywork\n"
     ]
    }
   ],
   "source": [
    "my_response = requests.get(\"http://www.boredapi.com/api/activity\")\n",
    "data = my_response.json()\n",
    "activity_type = data['type']\n",
    "activity_name = data['activity']\n",
    "print(f\"Random activity: {activity_name}\")\n",
    "print(f\"Activity type: {activity_type}\")\n",
    "print(\"\")\n",
    "same_type_response = requests.get(\"http://www.boredapi.com/api/activity?type=\"+activity_type)\n",
    "same_type_data = same_type_response.json()\n",
    "same_type_activity_name = same_type_data['activity']\n",
    "print(f\"Activity of the same type: {same_type_activity_name}\")\n",
    "print(f\"Activity type: {activity_type}\")"
   ]
  },
  {
   "cell_type": "markdown",
   "metadata": {},
   "source": [
    "## Activity Types...Starring....Jasmine!"
   ]
  },
  {
   "cell_type": "code",
   "execution_count": 15,
   "metadata": {},
   "outputs": [
    {
     "name": "stdout",
     "output_type": "stream",
     "text": [
      "type education: Study a foreign language\n",
      "type recreational: Make a couch fort\n",
      "type social: Pull a harmless prank on one of your friends\n",
      "type diy: Create a compost pile\n",
      "type charity: Clean out your closet and donate the clothes you've outgrown\n",
      "type cooking: Create a meal plan for the coming week\n",
      "type relaxation: Shop at support your local farmers market\n",
      "type music: Start a band\n",
      "type busywork: Mow your lawn\n"
     ]
    }
   ],
   "source": [
    "#Write a Python program that prints out one random activity of each type that the Bored API supports. \n",
    "#(See if you can use a loop for this!)\n",
    "\n",
    "types = ['education', 'recreational', 'social', 'diy', 'charity', 'cooking', 'relaxation', 'music', 'busywork']\n",
    "\n",
    "for option in types:\n",
    "    my_parameters = {'type' : {option}}\n",
    "    response = requests.get(\"https://www.boredapi.com/api/activity\", params=my_parameters)\n",
    "    if response.status_code == 200:\n",
    "        data = response.json()\n",
    "        print(f\"type {option}: {data['activity']}\")"
   ]
  },
  {
   "cell_type": "markdown",
   "metadata": {},
   "source": [
    "# Learning a New API -- the Dog API!"
   ]
  },
  {
   "cell_type": "markdown",
   "metadata": {},
   "source": [
    "#2 -- Starring...Pragati! https://dogapi.dog/api/v2/facts"
   ]
  },
  {
   "cell_type": "markdown",
   "metadata": {},
   "source": [
    "#3 -- Starring...Pragati! https://dogapi.dog/api/v2/facts?limit=5"
   ]
  },
  {
   "cell_type": "markdown",
   "metadata": {},
   "source": [
    "### Step 4 -- Time to call the API. Starring....Yue!"
   ]
  },
  {
   "cell_type": "code",
   "execution_count": 16,
   "metadata": {},
   "outputs": [
    {
     "name": "stdout",
     "output_type": "stream",
     "text": [
      "Stray dogs in Moscow have learned to ride the subway to find food.\n"
     ]
    }
   ],
   "source": [
    "url = \"https://dogapi.dog/api/v2/facts\"\n",
    "rsp = requests.get(url, headers={\"Content-Type\": \"application/json\"}, params={\"limit\": 1}).json()\n",
    "print(rsp['data'][0]['attributes']['body'])\n"
   ]
  },
  {
   "cell_type": "code",
   "execution_count": 17,
   "metadata": {},
   "outputs": [],
   "source": [
    "with open(\"dog.tsv\", \"w\") as out:\n",
    "    out.write(\"ID of the dog fact\\tthe fact itself\\n\")\n",
    "    for _ in range(5):\n",
    "        url = \"https://dogapi.dog/api/v2/facts\"\n",
    "        response = requests.get(url, headers={\"Content-Type\": \"application/json\"})\n",
    "        if response.status_code == 200:\n",
    "            data = response.json()\n",
    "            out.write(f\"{data['data'][0]['id']}\\t{data['data'][0]['attributes']['body']}\\n\")\n",
    "        else:\n",
    "            print(\"ERROR: request was not successfully\")"
   ]
  },
  {
   "cell_type": "markdown",
   "metadata": {},
   "source": [
    "### How do we modify this to give 5 facts 5 times?"
   ]
  },
  {
   "cell_type": "markdown",
   "metadata": {},
   "source": [
    "### But Kaylea! How do we know how to dig the data out of the ginormous json object?\n",
    "#### Walk it out!"
   ]
  },
  {
   "cell_type": "code",
   "execution_count": 18,
   "metadata": {},
   "outputs": [
    {
     "name": "stdout",
     "output_type": "stream",
     "text": [
      "{'data': [{'id': '498e10e0-46e3-4ff4-b756-10fc5f5ea9f6', 'type': 'fact', 'attributes': {'body': 'Dogs’ only sweat glands are between their paw pads.'}}]}\n"
     ]
    }
   ],
   "source": [
    "my_params = {} #nothing for now\n",
    "my_response = requests.get(\"https://dogapi.dog/api/v2/facts\", params=my_params)\n",
    "if my_response.status_code != 200:\n",
    "        print(my_response.status_code)\n",
    "print(my_response.json()) #peeling away layers, watch this\n"
   ]
  },
  {
   "cell_type": "code",
   "execution_count": 19,
   "metadata": {},
   "outputs": [
    {
     "name": "stdout",
     "output_type": "stream",
     "text": [
      "[{'id': '498e10e0-46e3-4ff4-b756-10fc5f5ea9f6', 'type': 'fact', 'attributes': {'body': 'Dogs’ only sweat glands are between their paw pads.'}}]\n"
     ]
    }
   ],
   "source": [
    "data = my_response.json()['data'] #inside data is a list\n",
    "print(data)\n"
   ]
  },
  {
   "cell_type": "code",
   "execution_count": 20,
   "metadata": {},
   "outputs": [
    {
     "name": "stdout",
     "output_type": "stream",
     "text": [
      "{'id': '498e10e0-46e3-4ff4-b756-10fc5f5ea9f6', 'type': 'fact', 'attributes': {'body': 'Dogs’ only sweat glands are between their paw pads.'}}\n"
     ]
    }
   ],
   "source": [
    "entry = data[0] #inside the list are items\n",
    "print(entry)\n"
   ]
  },
  {
   "cell_type": "code",
   "execution_count": 21,
   "metadata": {},
   "outputs": [
    {
     "name": "stdout",
     "output_type": "stream",
     "text": [
      "{'body': 'Dogs’ only sweat glands are between their paw pads.'}\n"
     ]
    }
   ],
   "source": [
    "core = entry['attributes'] #inside the list is an item I want\n",
    "print(core) #it's a dictionary\n"
   ]
  },
  {
   "cell_type": "code",
   "execution_count": 22,
   "metadata": {},
   "outputs": [
    {
     "name": "stdout",
     "output_type": "stream",
     "text": [
      "Here's a dog fact: Dogs’ only sweat glands are between their paw pads.\n"
     ]
    }
   ],
   "source": [
    "print(f\"Here's a dog fact: {core['body']}\") #finally, I'm in!"
   ]
  },
  {
   "cell_type": "markdown",
   "metadata": {},
   "source": [
    "## Mapping!"
   ]
  },
  {
   "cell_type": "markdown",
   "metadata": {},
   "source": [
    "### 3.1 Are there more gas stations in Duvall or Carnation? Starring....Julie!"
   ]
  },
  {
   "cell_type": "code",
   "execution_count": 23,
   "metadata": {},
   "outputs": [
    {
     "name": "stdout",
     "output_type": "stream",
     "text": [
      "there are more gas stations in duvall\n"
     ]
    }
   ],
   "source": [
    "#gas station in duvall\n",
    "url = \"https://nominatim.openstreetmap.org/search\" ##formatted response\n",
    "osm = {'q': \"gas station in duvall\", \n",
    "            'format': 'jsonv2'}\n",
    "\n",
    "response = requests.get(url, params=osm) ##make the request, put in var\n",
    "\n",
    "if response.status_code == 200:  #check to see if success\n",
    "    map_response_duvall = response.json()   ##if successful, throw in variable \"data\"\n",
    "else:  #otherwise, throw an error\n",
    "    print(\"error, that was not successful\")\n",
    "\n",
    "num_results_duvall = (len(map_response_duvall)) ##for duvall\n",
    "\n",
    "\n",
    "#gas station in carnation\n",
    "\n",
    "osm_carnation = {'q': \"gas station in carnation\", \n",
    "            'format': 'jsonv2'}\n",
    "\n",
    "response_carnation = requests.get(url, params=osm_carnation) ##make the request, put in var\n",
    "\n",
    "if response_carnation.status_code == 200:  #check to see if success\n",
    "    map_response_carnation = response_carnation.json()   ##if successful, throw in variable \"data\"\n",
    "else:  #otherwise, throw an error\n",
    "    print(\"error, that was not successful\")\n",
    "\n",
    "num_results_carnation = (len(map_response_carnation)) ##for carnation\n",
    "\n",
    "if num_results_duvall > num_results_carnation:\n",
    "    print (\"there are more gas stations in duvall\")\n",
    "else:\n",
    "    print (\"there are more gas stations in carnation\")\n",
    "\n"
   ]
  },
  {
   "cell_type": "markdown",
   "metadata": {},
   "source": [
    "### 3.2 Are there more dentists near the University or near Downtown? (you will need to look at the limit on the number of returned items). Starring....Julie!"
   ]
  },
  {
   "cell_type": "code",
   "execution_count": 24,
   "metadata": {},
   "outputs": [
    {
     "name": "stdout",
     "output_type": "stream",
     "text": [
      "there are more dentists in u-district\n"
     ]
    }
   ],
   "source": [
    "#dentists near UW\n",
    "url = \"https://nominatim.openstreetmap.org/search\" ##formatted response\n",
    "osm_dentists_uni = {'q': \"dentists near university university district\",\n",
    "        'limit': 30,\n",
    "        'format': 'jsonv2'}\n",
    "\n",
    "response_dentists_uni = requests.get(url, params=osm_dentists_uni) ##make the request, put in var\n",
    "\n",
    "if response_dentists_uni.status_code == 200:  #check to see if success\n",
    "    map_response_dentists_uni = response.json()   ##if successful, throw in variable \"data\"\n",
    "else:  #otherwise, throw an error\n",
    "    print(\"error, that was not successful\")\n",
    "\n",
    "num_results_uw = (len(map_response_dentists_uni)) ##for UW\n",
    "\n",
    "#dentists near UW\n",
    "url = \"https://nominatim.openstreetmap.org/search\" ##formatted response\n",
    "osm_dentists_uni_dt = {'q': \"dentists near university downtown seattle\",\n",
    "        'limit': 30,\n",
    "        'format': 'jsonv2'}\n",
    "\n",
    "response_dentists_uni_dt = requests.get(url, params=osm_dentists_uni_dt) ##make the request, put in var\n",
    "\n",
    "if response_dentists_uni_dt.status_code == 200:  #check to see if success\n",
    "    map_response_dentists_uni_dt = response.json()   ##if successful, throw in variable \"data\"\n",
    "else:  #otherwise, throw an error\n",
    "    print(\"error, that was not successful\")\n",
    "\n",
    "num_results_dt = (len(map_response_dentists_uni_dt)) ##for dt\n",
    "\n",
    "if num_results_uw >= num_results_dt:\n",
    "    print (\"there are more dentists in u-district\")\n",
    "else:\n",
    "    print (\"there are more dentists near downtown\")\n"
   ]
  },
  {
   "cell_type": "markdown",
   "metadata": {},
   "source": [
    "### 3.3 Use the geocoding API endpoint in Nominatim to look up a specific latitude and longitude of your choice (try this building or your hometown). Starring...Baruni!"
   ]
  },
  {
   "cell_type": "code",
   "execution_count": 25,
   "metadata": {},
   "outputs": [
    {
     "name": "stdout",
     "output_type": "stream",
     "text": [
      "[{'place_id': 350259565, 'licence': 'Data © OpenStreetMap contributors, ODbL 1.0. https://osm.org/copyright', 'osm_type': 'way', 'osm_id': 80442501, 'boundingbox': ['28.5991855', '28.6011985', '77.225042', '77.228171'], 'lat': '28.6001354', 'lon': '77.22649064087364', 'display_name': 'Khan Market, Subramaniyam Bharti Marg, Rabindra Nagar, Chanakya Puri Tehsil, New Delhi, Delhi, 110003, India', 'place_rank': 30, 'category': 'tourism', 'type': 'attraction', 'importance': 0.001, 'icon': 'https://nominatim.openstreetmap.org/ui/mapicons/poi_point_of_interest.p.20.png'}]\n"
     ]
    }
   ],
   "source": [
    "#Solution 3\n",
    "#28.600096749369825, 77.2269107249279\n",
    "\n",
    "url = \"https://nominatim.openstreetmap.org/search\"\n",
    "my_params = {'q' : \"28.600096749369825 77.2269107249279\",\n",
    "             'format' : 'jsonv2' }\n",
    "\n",
    "output = requests.get(url, params=my_params)\n",
    "if output.status_code == 200:\n",
    "    fav_restaurant = output.json()\n",
    "    print(fav_restaurant)\n",
    "else:\n",
    "    print(\"ERROR: request was not successful\")"
   ]
  },
  {
   "cell_type": "markdown",
   "metadata": {},
   "source": [
    "Let's check it on google maps: https://maps.google.com"
   ]
  },
  {
   "cell_type": "markdown",
   "metadata": {},
   "source": [
    "### 3.4 Write a program to find all the ziplines in King County, Washington (or at least all the ones that OSM knows about!). Starring....Lori!"
   ]
  },
  {
   "cell_type": "code",
   "execution_count": 26,
   "metadata": {},
   "outputs": [
    {
     "name": "stdout",
     "output_type": "stream",
     "text": [
      "[{'place_id': 340259502, 'licence': 'Data © OpenStreetMap contributors, ODbL 1.0. https://osm.org/copyright', 'osm_type': 'way', 'osm_id': 1086262198, 'boundingbox': ['47.6081042', '47.6081428', '-122.1743914', '-122.1742413'], 'lat': '47.6081042', 'lon': '-122.1742413', 'display_name': 'WIlburton Hill Park Trails, Belridge, Bellevue, King County, Washington, 98005, United States', 'class': 'aerialway', 'type': 'zip_line', 'importance': 0.4001}, {'place_id': 266604172, 'licence': 'Data © OpenStreetMap contributors, ODbL 1.0. https://osm.org/copyright', 'osm_type': 'way', 'osm_id': 831449302, 'boundingbox': ['47.5675978', '47.5685085', '-122.1486867', '-122.1460848'], 'lat': '47.5685085', 'lon': '-122.1472952', 'display_name': '146th Avenue Southeast, Eastgate, Bellevue, King County, Washington, 98006, United States', 'class': 'aerialway', 'type': 'zip_line', 'importance': 0.4001}, {'place_id': 266425130, 'licence': 'Data © OpenStreetMap contributors, ODbL 1.0. https://osm.org/copyright', 'osm_type': 'way', 'osm_id': 831449301, 'boundingbox': ['47.5676025', '47.5685007', '-122.1486472', '-122.1475391'], 'lat': '47.5682515', 'lon': '-122.1482035', 'display_name': '144th Avenue Southeast, Somerset, Bellevue, King County, Washington, 98006, United States', 'class': 'aerialway', 'type': 'zip_line', 'importance': 0.4001}]\n",
      "3\n"
     ]
    }
   ],
   "source": [
    "my_params = {'q' : '[zipline] in king county, wa',\n",
    "             'format' : 'json'}\n",
    "\n",
    "response = requests.get(\"http://nominatim.openstreetmap.org/search\", params=my_params)\n",
    "\n",
    "if response.status_code == 200:\n",
    "    ziplines = response.json()\n",
    "    \n",
    "    print(ziplines)\n",
    "    print(len(ziplines))\n",
    "   \n"
   ]
  },
  {
   "cell_type": "markdown",
   "metadata": {},
   "source": [
    "### Numbers for this question were widely varied! What's going on?"
   ]
  },
  {
   "cell_type": "markdown",
   "metadata": {},
   "source": [
    "### 3.5 It's important to be alert and well-caffeinated when ziplining! Once you've found a nearby zipline, have your program use that result to find the nearest cafe each of the ziplines you identify! Starring.....Lori!"
   ]
  },
  {
   "cell_type": "code",
   "execution_count": 27,
   "metadata": {},
   "outputs": [],
   "source": [
    "for locations in ziplines:\n",
    "    lat = locations['lat']\n",
    "    lon = locations['lon']\n",
    "    cafe_params = {'lat': lat,\n",
    "                   'lon': lon,\n",
    "                   'tag': 'amenity=cafe',}\n",
    "    cafe_response = requests.get(\"https://overpass-api.de/api/interpreter\", params=cafe_params)\n",
    "    if cafe_response.status_code == 200:\n",
    "        cafes = cafe_response.json()[\"elements\"]\n",
    "        name = cafes.get(\"tags\", {}).get(\"name\", \"unknown\")\n",
    "        print(f\"The nearest cafe to the zipline at {lat}, {lon} is {name}.\")"
   ]
  },
  {
   "cell_type": "markdown",
   "metadata": {},
   "source": [
    "### 3.6 Craft a query using the search API to find colleges in Seattle. (Hint: you'll want to set bounded=1 and use the viewbox). Print the name and location of every college you find.  Starring....Leopoldo!"
   ]
  },
  {
   "cell_type": "code",
   "execution_count": 32,
   "metadata": {},
   "outputs": [
    {
     "name": "stdout",
     "output_type": "stream",
     "text": [
      "[{'place_id': 21752165, 'licence': 'Data © OpenStreetMap contributors, ODbL 1.0. https://osm.org/copyright', 'osm_type': 'node', 'osm_id': 2439830827, 'boundingbox': ['47.6548977', '47.6549977', '-122.312439', '-122.312339'], 'lat': '47.6549477', 'lon': '-122.312389', 'display_name': 'UW College of Built Environments, 3949, 15th Avenue Northeast, West Campus, University District, Seattle, King County, Washington, 98105, United States', 'place_rank': 30, 'category': 'amenity', 'type': 'college', 'importance': 0.59190327427879, 'icon': 'https://nominatim.openstreetmap.org/ui/mapicons/education_school.p.20.png'}, {'place_id': 160018749, 'licence': 'Data © OpenStreetMap contributors, ODbL 1.0. https://osm.org/copyright', 'osm_type': 'way', 'osm_id': 222830382, 'boundingbox': ['47.6554244', '47.6555485', '-122.3131922', '-122.3127491'], 'lat': '47.655488899999995', 'lon': '-122.31297085374715', 'display_name': 'The College Inn, Northeast 40th Street, West Campus, University District, Seattle, King County, Washington, 98195, United States', 'place_rank': 30, 'category': 'building', 'type': 'yes', 'importance': 0.41993111144954753}, {'place_id': 21828000, 'licence': 'Data © OpenStreetMap contributors, ODbL 1.0. https://osm.org/copyright', 'osm_type': 'node', 'osm_id': 2464036021, 'boundingbox': ['47.6554783', '47.6555783', '-122.31313', '-122.31303'], 'lat': '47.6555283', 'lon': '-122.31308', 'display_name': 'College Inn Pub, 4006, University Way Northeast, West Campus, University District, Seattle, King County, Washington, 98105, United States', 'place_rank': 30, 'category': 'amenity', 'type': 'pub', 'importance': 0.30001, 'icon': 'https://nominatim.openstreetmap.org/ui/mapicons/food_pub.p.20.png'}, {'place_id': 22353059, 'licence': 'Data © OpenStreetMap contributors, ODbL 1.0. https://osm.org/copyright', 'osm_type': 'node', 'osm_id': 2464036010, 'boundingbox': ['47.6554008', '47.6555008', '-122.313056', '-122.312956'], 'lat': '47.6554508', 'lon': '-122.313006', 'display_name': 'College Inn, 4000, University Way Northeast, West Campus, University District, Seattle, King County, Washington, 98105, United States', 'place_rank': 30, 'category': 'tourism', 'type': 'hotel', 'importance': 0.30001, 'icon': 'https://nominatim.openstreetmap.org/ui/mapicons/accommodation_hotel2.p.20.png'}, {'place_id': 160177546, 'licence': 'Data © OpenStreetMap contributors, ODbL 1.0. https://osm.org/copyright', 'osm_type': 'way', 'osm_id': 223357549, 'boundingbox': ['47.6573333', '47.6579014', '-122.3170859', '-122.3168195'], 'lat': '47.65762655', 'lon': '-122.31694551090054', 'display_name': 'College Place Apartments, 4131, 11th Avenue Northeast, West Campus, University District, Seattle, King County, Washington, 98105, United States', 'place_rank': 30, 'category': 'building', 'type': 'yes', 'importance': 0.30001}, {'place_id': 348343470, 'licence': 'Data © OpenStreetMap contributors, ODbL 1.0. https://osm.org/copyright', 'osm_type': 'way', 'osm_id': 521700473, 'boundingbox': ['47.6489703', '47.6491292', '-122.3256193', '-122.3253275'], 'lat': '47.6490498', 'lon': '-122.32547342499998', 'display_name': 'College Club Seattle, 11, East Allison Street, Eastlake, Wallingford, Seattle, King County, Washington, 98102, United States', 'place_rank': 30, 'category': 'leisure', 'type': 'sports_centre', 'importance': 0.20000999999999997, 'icon': 'https://nominatim.openstreetmap.org/ui/mapicons/sport_leisure_centre.p.20.png'}]\n"
     ]
    }
   ],
   "source": [
    "url = \"https://nominatim.openstreetmap.org/search\" ##formatted response\n",
    "osm_colleges = {'q': \"college university seattle\",'viewbox': \"-122.41138,47.65983,-122.22942,47.60627\",'bounded':1,'format': 'jsonv2'}\n",
    "\n",
    "response_colleges = requests.get(url, params=osm_colleges) ##make the request, put in var\n",
    "\n",
    "if response_colleges.status_code == 200:  #check to see if success\n",
    "    map_response_colleges = response_colleges.json()   ##if successful, throw in variable \"data\"\n",
    "else:  #otherwise, throw an error\n",
    "    print(\"error, that was not successful\")\n",
    "\n",
    "print(map_response_colleges) #6 results\n"
   ]
  },
  {
   "cell_type": "markdown",
   "metadata": {},
   "source": [
    "#### 3.6.1 Modify your query so that you include the address details separated out (this is an API option you can find in the documentation)? (Leopoldo)"
   ]
  },
  {
   "cell_type": "code",
   "execution_count": 33,
   "metadata": {},
   "outputs": [
    {
     "name": "stdout",
     "output_type": "stream",
     "text": [
      "[{'place_id': 21752165, 'licence': 'Data © OpenStreetMap contributors, ODbL 1.0. https://osm.org/copyright', 'osm_type': 'node', 'osm_id': 2439830827, 'boundingbox': ['47.6548977', '47.6549977', '-122.312439', '-122.312339'], 'lat': '47.6549477', 'lon': '-122.312389', 'display_name': 'UW College of Built Environments, 3949, 15th Avenue Northeast, West Campus, University District, Seattle, King County, Washington, 98105, United States', 'place_rank': 30, 'category': 'amenity', 'type': 'college', 'importance': 0.59190327427879, 'icon': 'https://nominatim.openstreetmap.org/ui/mapicons/education_school.p.20.png', 'address': {'amenity': 'UW College of Built Environments', 'house_number': '3949', 'road': '15th Avenue Northeast', 'neighbourhood': 'West Campus', 'suburb': 'University District', 'city': 'Seattle', 'county': 'King County', 'state': 'Washington', 'ISO3166-2-lvl4': 'US-WA', 'postcode': '98105', 'country': 'United States', 'country_code': 'us'}}, {'place_id': 160018749, 'licence': 'Data © OpenStreetMap contributors, ODbL 1.0. https://osm.org/copyright', 'osm_type': 'way', 'osm_id': 222830382, 'boundingbox': ['47.6554244', '47.6555485', '-122.3131922', '-122.3127491'], 'lat': '47.655488899999995', 'lon': '-122.31297085374715', 'display_name': 'The College Inn, Northeast 40th Street, West Campus, University District, Seattle, King County, Washington, 98195, United States', 'place_rank': 30, 'category': 'building', 'type': 'yes', 'importance': 0.41993111144954753, 'address': {'building': 'The College Inn', 'road': 'Northeast 40th Street', 'neighbourhood': 'West Campus', 'suburb': 'University District', 'city': 'Seattle', 'county': 'King County', 'state': 'Washington', 'ISO3166-2-lvl4': 'US-WA', 'postcode': '98195', 'country': 'United States', 'country_code': 'us'}}, {'place_id': 21828000, 'licence': 'Data © OpenStreetMap contributors, ODbL 1.0. https://osm.org/copyright', 'osm_type': 'node', 'osm_id': 2464036021, 'boundingbox': ['47.6554783', '47.6555783', '-122.31313', '-122.31303'], 'lat': '47.6555283', 'lon': '-122.31308', 'display_name': 'College Inn Pub, 4006, University Way Northeast, West Campus, University District, Seattle, King County, Washington, 98105, United States', 'place_rank': 30, 'category': 'amenity', 'type': 'pub', 'importance': 0.30001, 'icon': 'https://nominatim.openstreetmap.org/ui/mapicons/food_pub.p.20.png', 'address': {'amenity': 'College Inn Pub', 'house_number': '4006', 'road': 'University Way Northeast', 'neighbourhood': 'West Campus', 'suburb': 'University District', 'city': 'Seattle', 'county': 'King County', 'state': 'Washington', 'ISO3166-2-lvl4': 'US-WA', 'postcode': '98105', 'country': 'United States', 'country_code': 'us'}}, {'place_id': 22353059, 'licence': 'Data © OpenStreetMap contributors, ODbL 1.0. https://osm.org/copyright', 'osm_type': 'node', 'osm_id': 2464036010, 'boundingbox': ['47.6554008', '47.6555008', '-122.313056', '-122.312956'], 'lat': '47.6554508', 'lon': '-122.313006', 'display_name': 'College Inn, 4000, University Way Northeast, West Campus, University District, Seattle, King County, Washington, 98105, United States', 'place_rank': 30, 'category': 'tourism', 'type': 'hotel', 'importance': 0.30001, 'icon': 'https://nominatim.openstreetmap.org/ui/mapicons/accommodation_hotel2.p.20.png', 'address': {'tourism': 'College Inn', 'house_number': '4000', 'road': 'University Way Northeast', 'neighbourhood': 'West Campus', 'suburb': 'University District', 'city': 'Seattle', 'county': 'King County', 'state': 'Washington', 'ISO3166-2-lvl4': 'US-WA', 'postcode': '98105', 'country': 'United States', 'country_code': 'us'}}, {'place_id': 160177546, 'licence': 'Data © OpenStreetMap contributors, ODbL 1.0. https://osm.org/copyright', 'osm_type': 'way', 'osm_id': 223357549, 'boundingbox': ['47.6573333', '47.6579014', '-122.3170859', '-122.3168195'], 'lat': '47.65762655', 'lon': '-122.31694551090054', 'display_name': 'College Place Apartments, 4131, 11th Avenue Northeast, West Campus, University District, Seattle, King County, Washington, 98105, United States', 'place_rank': 30, 'category': 'building', 'type': 'yes', 'importance': 0.30001, 'address': {'building': 'College Place Apartments', 'house_number': '4131', 'road': '11th Avenue Northeast', 'neighbourhood': 'West Campus', 'suburb': 'University District', 'city': 'Seattle', 'county': 'King County', 'state': 'Washington', 'ISO3166-2-lvl4': 'US-WA', 'postcode': '98105', 'country': 'United States', 'country_code': 'us'}}, {'place_id': 348343470, 'licence': 'Data © OpenStreetMap contributors, ODbL 1.0. https://osm.org/copyright', 'osm_type': 'way', 'osm_id': 521700473, 'boundingbox': ['47.6489703', '47.6491292', '-122.3256193', '-122.3253275'], 'lat': '47.6490498', 'lon': '-122.32547342499998', 'display_name': 'College Club Seattle, 11, East Allison Street, Eastlake, Wallingford, Seattle, King County, Washington, 98102, United States', 'place_rank': 30, 'category': 'leisure', 'type': 'sports_centre', 'importance': 0.20000999999999997, 'icon': 'https://nominatim.openstreetmap.org/ui/mapicons/sport_leisure_centre.p.20.png', 'address': {'leisure': 'College Club Seattle', 'house_number': '11', 'road': 'East Allison Street', 'neighbourhood': 'Eastlake', 'suburb': 'Wallingford', 'city': 'Seattle', 'county': 'King County', 'state': 'Washington', 'ISO3166-2-lvl4': 'US-WA', 'postcode': '98102', 'country': 'United States', 'country_code': 'us'}}]\n"
     ]
    }
   ],
   "source": [
    "import requests\n",
    "\n",
    "url = \"https://nominatim.openstreetmap.org/search\"\n",
    "params = {\n",
    "    \"q\": \"college university seattle\",\n",
    "    \"viewbox\": \"-122.41138,47.65983,-122.22942,47.60627\",\n",
    "    \"bounded\": 1,\n",
    "    \"addressdetails\": 1,\n",
    "    \"format\": \"jsonv2\"\n",
    "}\n",
    "\n",
    "response = requests.get(url, params=params)\n",
    "\n",
    "if response.status_code == 200:\n",
    "    data = response.json()\n",
    "    print(data)\n",
    "else:\n",
    "    print(\"Error: the request was not successful.\")"
   ]
  },
  {
   "cell_type": "markdown",
   "metadata": {},
   "source": [
    "#### 3.6.2 How can you tell that a place returned by the API is in fact a college? (Leopoldo continued)"
   ]
  },
  {
   "cell_type": "markdown",
   "metadata": {},
   "source": [
    "The query college university seattle is used to search for colleges and universities in Seattle. The Nominatim API is then used to retrieve information about these colleges and universities.\n",
    "\n",
    "The API response contains a lot of information about each place, including its name, address, latitude and longitude, and other metadata. The response also contains a class and type field that can be used to identify the type of place returned by the API.\n",
    "\n",
    "In the case of colleges and universities, the class field will be set to amenity and the type field will be set to university. You can check these fields for each place returned by the API to determine if it is in fact a college or university.\n"
   ]
  },
  {
   "cell_type": "markdown",
   "metadata": {},
   "source": [
    "#### 3.6.3 Print the list of colleges into a new TSV file with the following columns: osm_id (a unique ID that OSM uses), the name of the college, latitude, and longitude. Starring...Nick!"
   ]
  },
  {
   "cell_type": "code",
   "execution_count": 41,
   "metadata": {},
   "outputs": [
    {
     "name": "stdout",
     "output_type": "stream",
     "text": [
      "[{'place_id': 47032009, 'licence': 'Data © OpenStreetMap contributors, ODbL 1.0. https://osm.org/copyright', 'osm_type': 'node', 'osm_id': 4005935323, 'boundingbox': ['45.5168347', '45.5169347', '-122.679586', '-122.679486'], 'lat': '45.5168847', 'lon': '-122.679536', 'display_name': 'Gentle Dental, 1001, Southwest 5th Avenue, University District, Downtown, Portland, Multnomah County, Oregon, 97204, United States', 'place_rank': 30, 'category': 'amenity', 'type': 'dentist', 'importance': 0.11010000000000002, 'icon': 'https://nominatim.openstreetmap.org/ui/mapicons/health_dentist.p.20.png', 'address': {'amenity': 'Gentle Dental', 'house_number': '1001', 'road': 'Southwest 5th Avenue', 'neighbourhood': 'University District', 'suburb': 'Downtown', 'city': 'Portland', 'county': 'Multnomah County', 'state': 'Oregon', 'ISO3166-2-lvl4': 'US-OR', 'postcode': '97204', 'country': 'United States', 'country_code': 'us'}}, {'place_id': 4074003, 'licence': 'Data © OpenStreetMap contributors, ODbL 1.0. https://osm.org/copyright', 'osm_type': 'node', 'osm_id': 550547167, 'boundingbox': ['34.8515951', '34.8516951', '-82.3983306', '-82.3982306'], 'lat': '34.8516451', 'lon': '-82.3982806', 'display_name': 'Falls Park Dentistry, East Coffee Street, Downtown, Greenville, Greenville County, South Carolina, 29601, United States', 'place_rank': 30, 'category': 'amenity', 'type': 'dentist', 'importance': 0.11010000000000002, 'icon': 'https://nominatim.openstreetmap.org/ui/mapicons/health_dentist.p.20.png', 'address': {'amenity': 'Falls Park Dentistry', 'road': 'East Coffee Street', 'suburb': 'Downtown', 'city': 'Greenville', 'county': 'Greenville County', 'state': 'South Carolina', 'ISO3166-2-lvl4': 'US-SC', 'postcode': '29601', 'country': 'United States', 'country_code': 'us'}}, {'place_id': 73767072, 'licence': 'Data © OpenStreetMap contributors, ODbL 1.0. https://osm.org/copyright', 'osm_type': 'node', 'osm_id': 7034714420, 'boundingbox': ['45.9616923', '45.9617923', '-66.6448061', '-66.6447061'], 'lat': '45.9617423', 'lon': '-66.6447561', 'display_name': \"Capital Dental Clinic, York Street, Garrison District, Downtown, Fredericton, York County / Comté d'York, New Brunswick / Nouveau-Brunswick, E3B 3N4, Canada\", 'place_rank': 30, 'category': 'amenity', 'type': 'dentist', 'importance': 0.11010000000000002, 'icon': 'https://nominatim.openstreetmap.org/ui/mapicons/health_dentist.p.20.png', 'address': {'amenity': 'Capital Dental Clinic', 'road': 'York Street', 'neighbourhood': 'Garrison District', 'suburb': 'Downtown', 'city': 'Fredericton', 'county': \"York County / Comté d'York\", 'state': 'New Brunswick / Nouveau-Brunswick', 'ISO3166-2-lvl4': 'CA-NB', 'postcode': 'E3B 3N4', 'country': 'Canada', 'country_code': 'ca'}}, {'place_id': 73368922, 'licence': 'Data © OpenStreetMap contributors, ODbL 1.0. https://osm.org/copyright', 'osm_type': 'node', 'osm_id': 6983252302, 'boundingbox': ['43.8379863', '43.8380863', '-66.1199566', '-66.1198566'], 'lat': '43.8380363', 'lon': '-66.1199066', 'display_name': 'H.T. LeBlanc Dental Inc., 203-396, Main Street, Downtown, Yarmouth, Town of Yarmouth, Yarmouth County, Nova Scotia, B5A 1H6, Canada', 'place_rank': 30, 'category': 'amenity', 'type': 'dentist', 'importance': 0.11010000000000002, 'icon': 'https://nominatim.openstreetmap.org/ui/mapicons/health_dentist.p.20.png', 'address': {'amenity': 'H.T. LeBlanc Dental Inc.', 'house_number': '203-396', 'road': 'Main Street', 'suburb': 'Downtown', 'city_district': 'Yarmouth', 'town': 'Town of Yarmouth', 'county': 'Yarmouth County', 'state': 'Nova Scotia', 'ISO3166-2-lvl4': 'CA-NS', 'postcode': 'B5A 1H6', 'country': 'Canada', 'country_code': 'ca'}}, {'place_id': 244495851, 'licence': 'Data © OpenStreetMap contributors, ODbL 1.0. https://osm.org/copyright', 'osm_type': 'way', 'osm_id': 698704403, 'boundingbox': ['35.298203', '35.2983869', '-81.0172988', '-81.0170708'], 'lat': '35.298298200000005', 'lon': '-81.0171831483243', 'display_name': 'Mount Holly Dentistry, 126, West Charlotte Avenue, Downtown, Mount Holly, Gaston County, North Carolina, 28120, United States', 'place_rank': 30, 'category': 'amenity', 'type': 'dentist', 'importance': 0.11010000000000002, 'icon': 'https://nominatim.openstreetmap.org/ui/mapicons/health_dentist.p.20.png', 'address': {'amenity': 'Mount Holly Dentistry', 'house_number': '126', 'road': 'West Charlotte Avenue', 'suburb': 'Downtown', 'town': 'Mount Holly', 'county': 'Gaston County', 'state': 'North Carolina', 'ISO3166-2-lvl4': 'US-NC', 'postcode': '28120', 'country': 'United States', 'country_code': 'us'}}, {'place_id': 248886632, 'licence': 'Data © OpenStreetMap contributors, ODbL 1.0. https://osm.org/copyright', 'osm_type': 'way', 'osm_id': 724646551, 'boundingbox': ['45.7227135', '45.722836', '-65.5110576', '-65.5109253'], 'lat': '45.72277015', 'lon': '-65.51099192532311', 'display_name': 'Brunswick Denture Clinic, 24, Park Street, Downtown, Sussex, Sussex Parish, Kings County, New Brunswick / Nouveau-Brunswick, E4E 2N5, Canada', 'place_rank': 30, 'category': 'amenity', 'type': 'dentist', 'importance': 0.11010000000000002, 'icon': 'https://nominatim.openstreetmap.org/ui/mapicons/health_dentist.p.20.png', 'address': {'amenity': 'Brunswick Denture Clinic', 'house_number': '24', 'road': 'Park Street', 'suburb': 'Downtown', 'town': 'Sussex', 'county': 'Sussex Parish', 'state': 'New Brunswick / Nouveau-Brunswick', 'ISO3166-2-lvl4': 'CA-NB', 'postcode': 'E4E 2N5', 'country': 'Canada', 'country_code': 'ca'}}, {'place_id': 44437419, 'licence': 'Data © OpenStreetMap contributors, ODbL 1.0. https://osm.org/copyright', 'osm_type': 'node', 'osm_id': 3750146184, 'boundingbox': ['45.5082042', '45.5083042', '-122.6792672', '-122.6791672'], 'lat': '45.5082542', 'lon': '-122.6792172', 'display_name': 'Bravo Smile, 2075, Southwest 1st Avenue, University District, Downtown, Portland, Multnomah County, Oregon, 97201, United States', 'place_rank': 30, 'category': 'amenity', 'type': 'dentist', 'importance': 0.11000999999999997, 'icon': 'https://nominatim.openstreetmap.org/ui/mapicons/health_dentist.p.20.png', 'address': {'amenity': 'Bravo Smile', 'house_number': '2075', 'road': 'Southwest 1st Avenue', 'neighbourhood': 'University District', 'suburb': 'Downtown', 'city': 'Portland', 'county': 'Multnomah County', 'state': 'Oregon', 'ISO3166-2-lvl4': 'US-OR', 'postcode': '97201', 'country': 'United States', 'country_code': 'us'}}, {'place_id': 44727287, 'licence': 'Data © OpenStreetMap contributors, ODbL 1.0. https://osm.org/copyright', 'osm_type': 'node', 'osm_id': 3750146193, 'boundingbox': ['45.508282', '45.508382', '-122.6792567', '-122.6791567'], 'lat': '45.508332', 'lon': '-122.6792067', 'display_name': 'Thomas J. Flath, 2075, Southwest 1st Avenue, University District, Downtown, Portland, Multnomah County, Oregon, 97201, United States', 'place_rank': 30, 'category': 'amenity', 'type': 'dentist', 'importance': 0.11000999999999997, 'icon': 'https://nominatim.openstreetmap.org/ui/mapicons/health_dentist.p.20.png', 'address': {'amenity': 'Thomas J. Flath', 'house_number': '2075', 'road': 'Southwest 1st Avenue', 'neighbourhood': 'University District', 'suburb': 'Downtown', 'city': 'Portland', 'county': 'Multnomah County', 'state': 'Oregon', 'ISO3166-2-lvl4': 'US-OR', 'postcode': '97201', 'country': 'United States', 'country_code': 'us'}}, {'place_id': 44751534, 'licence': 'Data © OpenStreetMap contributors, ODbL 1.0. https://osm.org/copyright', 'osm_type': 'node', 'osm_id': 3750146191, 'boundingbox': ['45.5081479', '45.5082479', '-122.6793335', '-122.6792335'], 'lat': '45.5081979', 'lon': '-122.6792835', 'display_name': 'Michael K. Setter, 2075, Southwest 1st Avenue, American Plaza Towers, Downtown, Portland, Multnomah County, Oregon, 97201, United States', 'place_rank': 30, 'category': 'amenity', 'type': 'dentist', 'importance': 0.11000999999999997, 'icon': 'https://nominatim.openstreetmap.org/ui/mapicons/health_dentist.p.20.png', 'address': {'amenity': 'Michael K. Setter', 'house_number': '2075', 'road': 'Southwest 1st Avenue', 'residential': 'American Plaza Towers', 'suburb': 'Downtown', 'city': 'Portland', 'county': 'Multnomah County', 'state': 'Oregon', 'ISO3166-2-lvl4': 'US-OR', 'postcode': '97201', 'country': 'United States', 'country_code': 'us'}}, {'place_id': 63249002, 'licence': 'Data © OpenStreetMap contributors, ODbL 1.0. https://osm.org/copyright', 'osm_type': 'node', 'osm_id': 5891504463, 'boundingbox': ['45.5223009', '45.5224009', '-122.6759907', '-122.6758907'], 'lat': '45.5223509', 'lon': '-122.6759407', 'display_name': 'Five Pines Dental, Southwest 5th Avenue, Downtown, Portland, Multnomah County, Oregon, 97240, United States', 'place_rank': 30, 'category': 'amenity', 'type': 'dentist', 'importance': 0.11000999999999997, 'icon': 'https://nominatim.openstreetmap.org/ui/mapicons/health_dentist.p.20.png', 'address': {'amenity': 'Five Pines Dental', 'road': 'Southwest 5th Avenue', 'suburb': 'Downtown', 'city': 'Portland', 'county': 'Multnomah County', 'state': 'Oregon', 'ISO3166-2-lvl4': 'US-OR', 'postcode': '97240', 'country': 'United States', 'country_code': 'us'}}]\n",
      "[{'place_id': 299365566, 'licence': 'Data © OpenStreetMap contributors, ODbL 1.0. https://osm.org/copyright', 'osm_type': 'relation', 'osm_id': 9994114, 'boundingbox': ['47.6165074', '47.6184599', '-122.3369693', '-122.3344529'], 'lat': '47.61680045', 'lon': '-122.33586595', 'display_name': 'Cornish College of the Arts, Terry Avenue, South Lake Union, First Hill, Seattle, King County, Washington, 98191, United States', 'place_rank': 30, 'category': 'amenity', 'type': 'college', 'importance': 0.34987195748066746, 'icon': 'https://nominatim.openstreetmap.org/ui/mapicons/education_school.p.20.png', 'address': {'amenity': 'Cornish College of the Arts', 'road': 'Terry Avenue', 'neighbourhood': 'South Lake Union', 'suburb': 'First Hill', 'city': 'Seattle', 'county': 'King County', 'state': 'Washington', 'ISO3166-2-lvl4': 'US-WA', 'postcode': '98191', 'country': 'United States', 'country_code': 'us'}}, {'place_id': 298819040, 'licence': 'Data © OpenStreetMap contributors, ODbL 1.0. https://osm.org/copyright', 'osm_type': 'relation', 'osm_id': 5630067, 'boundingbox': ['47.7281837', '47.7331398', '-122.2531433', '-122.2452277'], 'lat': '47.730512899999994', 'lon': '-122.25029283292629', 'display_name': 'Bastyr University, Holmes Point Drive Northeast, Kenmore, King County, Washington, 98028, United States', 'place_rank': 30, 'category': 'amenity', 'type': 'college', 'importance': 0.294548847777872, 'icon': 'https://nominatim.openstreetmap.org/ui/mapicons/education_school.p.20.png', 'address': {'amenity': 'Bastyr University', 'road': 'Holmes Point Drive Northeast', 'town': 'Kenmore', 'county': 'King County', 'state': 'Washington', 'ISO3166-2-lvl4': 'US-WA', 'postcode': '98028', 'country': 'United States', 'country_code': 'us'}}, {'place_id': 21752165, 'licence': 'Data © OpenStreetMap contributors, ODbL 1.0. https://osm.org/copyright', 'osm_type': 'node', 'osm_id': 2439830827, 'boundingbox': ['47.6548977', '47.6549977', '-122.312439', '-122.312339'], 'lat': '47.6549477', 'lon': '-122.312389', 'display_name': 'UW College of Built Environments, 3949, 15th Avenue Northeast, West Campus, University District, Seattle, King County, Washington, 98105, United States', 'place_rank': 30, 'category': 'amenity', 'type': 'college', 'importance': 0.29190327427879, 'icon': 'https://nominatim.openstreetmap.org/ui/mapicons/education_school.p.20.png', 'address': {'amenity': 'UW College of Built Environments', 'house_number': '3949', 'road': '15th Avenue Northeast', 'neighbourhood': 'West Campus', 'suburb': 'University District', 'city': 'Seattle', 'county': 'King County', 'state': 'Washington', 'ISO3166-2-lvl4': 'US-WA', 'postcode': '98105', 'country': 'United States', 'country_code': 'us'}}, {'place_id': 209672309, 'licence': 'Data © OpenStreetMap contributors, ODbL 1.0. https://osm.org/copyright', 'osm_type': 'way', 'osm_id': 468494753, 'boundingbox': ['47.5727873', '47.577453', '-122.6377683', '-122.6328993'], 'lat': '47.57523315', 'lon': '-122.63534018666812', 'display_name': 'Olympic College, 1600, Chester Avenue, Bremerton, Kitsap County, Washington, 98337, United States', 'place_rank': 30, 'category': 'amenity', 'type': 'college', 'importance': 0.27084044532284773, 'icon': 'https://nominatim.openstreetmap.org/ui/mapicons/education_school.p.20.png', 'address': {'amenity': 'Olympic College', 'house_number': '1600', 'road': 'Chester Avenue', 'city': 'Bremerton', 'county': 'Kitsap County', 'state': 'Washington', 'ISO3166-2-lvl4': 'US-WA', 'postcode': '98337', 'country': 'United States', 'country_code': 'us'}}, {'place_id': 145418337, 'licence': 'Data © OpenStreetMap contributors, ODbL 1.0. https://osm.org/copyright', 'osm_type': 'way', 'osm_id': 169786833, 'boundingbox': ['47.6141657', '47.6181591', '-122.3233445', '-122.3201037'], 'lat': '47.61619055', 'lon': '-122.32149768795851', 'display_name': 'Seattle Central College, East Howell Street, Capitol Hill, Seattle, King County, Washington, 98191, United States', 'place_rank': 30, 'category': 'amenity', 'type': 'college', 'importance': 0.270074815609084, 'icon': 'https://nominatim.openstreetmap.org/ui/mapicons/education_school.p.20.png', 'address': {'amenity': 'Seattle Central College', 'road': 'East Howell Street', 'suburb': 'Capitol Hill', 'city': 'Seattle', 'county': 'King County', 'state': 'Washington', 'ISO3166-2-lvl4': 'US-WA', 'postcode': '98191', 'country': 'United States', 'country_code': 'us'}}, {'place_id': 20277018, 'licence': 'Data © OpenStreetMap contributors, ODbL 1.0. https://osm.org/copyright', 'osm_type': 'node', 'osm_id': 2327652090, 'boundingbox': ['47.6176584', '47.6177584', '-122.3445124', '-122.3444124'], 'lat': '47.6177084', 'lon': '-122.3444624', 'display_name': 'City University of Seattle, 521, Wall Street, South Lake Union, Belltown, Seattle, King County, Washington, 98121, United States', 'place_rank': 30, 'category': 'amenity', 'type': 'college', 'importance': 0.2582184742933953, 'icon': 'https://nominatim.openstreetmap.org/ui/mapicons/education_school.p.20.png', 'address': {'amenity': 'City University of Seattle', 'house_number': '521', 'road': 'Wall Street', 'neighbourhood': 'South Lake Union', 'suburb': 'Belltown', 'city': 'Seattle', 'county': 'King County', 'state': 'Washington', 'ISO3166-2-lvl4': 'US-WA', 'postcode': '98121', 'country': 'United States', 'country_code': 'us'}}, {'place_id': 103327928, 'licence': 'Data © OpenStreetMap contributors, ODbL 1.0. https://osm.org/copyright', 'osm_type': 'way', 'osm_id': 9408762, 'boundingbox': ['47.6959864', '47.7031582', '-122.3349353', '-122.3298541'], 'lat': '47.69870805', 'lon': '-122.33255180132647', 'display_name': 'North Seattle College, 9600, College Way North, Licton Springs, Maple Leaf, Seattle, King County, Washington, 98103, United States', 'place_rank': 30, 'category': 'amenity', 'type': 'college', 'importance': 0.25632194313709217, 'icon': 'https://nominatim.openstreetmap.org/ui/mapicons/education_school.p.20.png', 'address': {'amenity': 'North Seattle College', 'house_number': '9600', 'road': 'College Way North', 'neighbourhood': 'Licton Springs', 'suburb': 'Maple Leaf', 'city': 'Seattle', 'county': 'King County', 'state': 'Washington', 'ISO3166-2-lvl4': 'US-WA', 'postcode': '98103', 'country': 'United States', 'country_code': 'us'}}, {'place_id': 113207576, 'licence': 'Data © OpenStreetMap contributors, ODbL 1.0. https://osm.org/copyright', 'osm_type': 'way', 'osm_id': 31706483, 'boundingbox': ['47.5448765', '47.5518401', '-122.3546253', '-122.3492219'], 'lat': '47.548193299999994', 'lon': '-122.35233908228187', 'display_name': 'South Seattle College, 6000, 16th Avenue Southwest, Delridge, Seattle, King County, Washington, 98106, United States', 'place_rank': 30, 'category': 'amenity', 'type': 'college', 'importance': 0.24469861684138924, 'icon': 'https://nominatim.openstreetmap.org/ui/mapicons/education_school.p.20.png', 'address': {'amenity': 'South Seattle College', 'house_number': '6000', 'road': '16th Avenue Southwest', 'suburb': 'Delridge', 'city': 'Seattle', 'county': 'King County', 'state': 'Washington', 'ISO3166-2-lvl4': 'US-WA', 'postcode': '98106', 'country': 'United States', 'country_code': 'us'}}, {'place_id': 68745701, 'licence': 'Data © OpenStreetMap contributors, ODbL 1.0. https://osm.org/copyright', 'osm_type': 'node', 'osm_id': 6440063074, 'boundingbox': ['47.6217874', '47.6218874', '-122.3505871', '-122.3504871'], 'lat': '47.6218374', 'lon': '-122.3505371', 'display_name': 'Academy of Interactive Entertainment, 305, Harrison Street, Uptown, Belltown, Seattle, King County, Washington, 98109, United States', 'place_rank': 30, 'category': 'amenity', 'type': 'college', 'importance': 0.23729383463160691, 'icon': 'https://nominatim.openstreetmap.org/ui/mapicons/education_school.p.20.png', 'address': {'amenity': 'Academy of Interactive Entertainment', 'house_number': '305', 'road': 'Harrison Street', 'neighbourhood': 'Uptown', 'suburb': 'Belltown', 'city': 'Seattle', 'county': 'King County', 'state': 'Washington', 'ISO3166-2-lvl4': 'US-WA', 'postcode': '98109', 'country': 'United States', 'country_code': 'us'}}, {'place_id': 188154379, 'licence': 'Data © OpenStreetMap contributors, ODbL 1.0. https://osm.org/copyright', 'osm_type': 'way', 'osm_id': 342786695, 'boundingbox': ['47.5994914', '47.6002831', '-122.3042098', '-122.3033733'], 'lat': '47.60002405', 'lon': '-122.30376308697222', 'display_name': 'Seattle Vocational Institute, 2120, South Jackson Street, Little Saigon, Central District, Seattle, King County, Washington, 98144, United States', 'place_rank': 30, 'category': 'amenity', 'type': 'college', 'importance': 0.23322868681886538, 'icon': 'https://nominatim.openstreetmap.org/ui/mapicons/education_school.p.20.png', 'address': {'amenity': 'Seattle Vocational Institute', 'house_number': '2120', 'road': 'South Jackson Street', 'neighbourhood': 'Little Saigon', 'suburb': 'Central District', 'city': 'Seattle', 'county': 'King County', 'state': 'Washington', 'ISO3166-2-lvl4': 'US-WA', 'postcode': '98144', 'country': 'United States', 'country_code': 'us'}}, {'place_id': 197735727, 'licence': 'Data © OpenStreetMap contributors, ODbL 1.0. https://osm.org/copyright', 'osm_type': 'way', 'osm_id': 397007181, 'boundingbox': ['47.6131121', '47.6135231', '-122.3512647', '-122.3506657'], 'lat': '47.6133176', 'lon': '-122.35096519999999', 'display_name': 'The Seattle School of Theology and Psychology, 2501, Elliott Avenue, Belltown, Seattle, King County, Washington, 98121, United States', 'place_rank': 30, 'category': 'amenity', 'type': 'college', 'importance': 0.181472839091896, 'icon': 'https://nominatim.openstreetmap.org/ui/mapicons/education_school.p.20.png', 'address': {'amenity': 'The Seattle School of Theology and Psychology', 'house_number': '2501', 'road': 'Elliott Avenue', 'suburb': 'Belltown', 'city': 'Seattle', 'county': 'King County', 'state': 'Washington', 'ISO3166-2-lvl4': 'US-WA', 'postcode': '98121', 'country': 'United States', 'country_code': 'us'}}, {'place_id': 18556102, 'licence': 'Data © OpenStreetMap contributors, ODbL 1.0. https://osm.org/copyright', 'osm_type': 'node', 'osm_id': 2129614086, 'boundingbox': ['47.7109289', '47.7110289', '-122.6038403', '-122.6037403'], 'lat': '47.7109789', 'lon': '-122.6037903', 'display_name': 'Northwest College of Art and Design, Creative Drive Northeast, Port Madison Indian Reservation, Kitsap County, Washington, 98345, United States', 'place_rank': 30, 'category': 'amenity', 'type': 'college', 'importance': 0.08544064771236405, 'icon': 'https://nominatim.openstreetmap.org/ui/mapicons/education_school.p.20.png', 'address': {'amenity': 'Northwest College of Art and Design', 'road': 'Creative Drive Northeast', 'town': 'Port Madison Indian Reservation', 'county': 'Kitsap County', 'state': 'Washington', 'ISO3166-2-lvl4': 'US-WA', 'postcode': '98345', 'country': 'United States', 'country_code': 'us'}}, {'place_id': 44912351, 'licence': 'Data © OpenStreetMap contributors, ODbL 1.0. https://osm.org/copyright', 'osm_type': 'node', 'osm_id': 3771319445, 'boundingbox': ['47.6186433', '47.6187433', '-122.3465842', '-122.3464842'], 'lat': '47.6186933', 'lon': '-122.3465342', 'display_name': 'Emerald City School, Denny Way, Uptown, Belltown, Seattle, King County, Washington, 98121, United States', 'place_rank': 30, 'category': 'amenity', 'type': 'college', 'importance': 9.99999999995449e-06, 'icon': 'https://nominatim.openstreetmap.org/ui/mapicons/education_school.p.20.png', 'address': {'amenity': 'Emerald City School', 'road': 'Denny Way', 'neighbourhood': 'Uptown', 'suburb': 'Belltown', 'city': 'Seattle', 'county': 'King County', 'state': 'Washington', 'ISO3166-2-lvl4': 'US-WA', 'postcode': '98121', 'country': 'United States', 'country_code': 'us'}}, {'place_id': 99262947, 'licence': 'Data © OpenStreetMap contributors, ODbL 1.0. https://osm.org/copyright', 'osm_type': 'node', 'osm_id': 9837120513, 'boundingbox': ['47.6992497', '47.6993497', '-122.327443', '-122.327343'], 'lat': '47.6992997', 'lon': '-122.327393', 'display_name': 'Pima Medical Institute, 9709, 3rd Avenue Northeast, Maple Leaf, Seattle, King County, Washington, 98115, United States', 'place_rank': 30, 'category': 'amenity', 'type': 'college', 'importance': 9.99999999995449e-06, 'icon': 'https://nominatim.openstreetmap.org/ui/mapicons/education_school.p.20.png', 'address': {'amenity': 'Pima Medical Institute', 'house_number': '9709', 'road': '3rd Avenue Northeast', 'suburb': 'Maple Leaf', 'city': 'Seattle', 'county': 'King County', 'state': 'Washington', 'ISO3166-2-lvl4': 'US-WA', 'postcode': '98115', 'country': 'United States', 'country_code': 'us'}}, {'place_id': 12668666, 'licence': 'Data © OpenStreetMap contributors, ODbL 1.0. https://osm.org/copyright', 'osm_type': 'node', 'osm_id': 1313743670, 'boundingbox': ['47.6475548', '47.6476548', '-122.3408849', '-122.3407849'], 'lat': '47.6476048', 'lon': '-122.3408349', 'display_name': 'Divers Institute of Technology, 1341, North Northlake Way, Fremont, Seattle, King County, Washington, 98103, United States', 'place_rank': 30, 'category': 'amenity', 'type': 'college', 'importance': 9.99999999995449e-06, 'icon': 'https://nominatim.openstreetmap.org/ui/mapicons/education_school.p.20.png', 'address': {'amenity': 'Divers Institute of Technology', 'house_number': '1341', 'road': 'North Northlake Way', 'suburb': 'Fremont', 'city': 'Seattle', 'county': 'King County', 'state': 'Washington', 'ISO3166-2-lvl4': 'US-WA', 'postcode': '98103', 'country': 'United States', 'country_code': 'us'}}, {'place_id': 10056907, 'licence': 'Data © OpenStreetMap contributors, ODbL 1.0. https://osm.org/copyright', 'osm_type': 'node', 'osm_id': 1099460871, 'boundingbox': ['47.6779951', '47.6780951', '-122.323528', '-122.323428'], 'lat': '47.6780451', 'lon': '-122.323478', 'display_name': 'Seattle Institute of Oriental Medicine, 444, Northeast Ravenna Boulevard, Meridian, Green Lake, Seattle, King County, Washington, 98115, United States', 'place_rank': 30, 'category': 'amenity', 'type': 'college', 'importance': 9.99999999995449e-06, 'icon': 'https://nominatim.openstreetmap.org/ui/mapicons/education_school.p.20.png', 'address': {'amenity': 'Seattle Institute of Oriental Medicine', 'house_number': '444', 'road': 'Northeast Ravenna Boulevard', 'neighbourhood': 'Meridian', 'suburb': 'Green Lake', 'city': 'Seattle', 'county': 'King County', 'state': 'Washington', 'ISO3166-2-lvl4': 'US-WA', 'postcode': '98115', 'country': 'United States', 'country_code': 'us'}}, {'place_id': 186303931, 'licence': 'Data © OpenStreetMap contributors, ODbL 1.0. https://osm.org/copyright', 'osm_type': 'way', 'osm_id': 336485971, 'boundingbox': ['47.5965599', '47.5978044', '-122.3021181', '-122.3013024'], 'lat': '47.59718215', 'lon': '-122.3017103499598', 'display_name': 'Seattle Central College Wood Technology Center, 2310, South Lane Street, Central District, Seattle, King County, Washington, 98144, United States', 'place_rank': 30, 'category': 'amenity', 'type': 'college', 'importance': 9.99999999995449e-06, 'icon': 'https://nominatim.openstreetmap.org/ui/mapicons/education_school.p.20.png', 'address': {'amenity': 'Seattle Central College Wood Technology Center', 'house_number': '2310', 'road': 'South Lane Street', 'suburb': 'Central District', 'city': 'Seattle', 'county': 'King County', 'state': 'Washington', 'ISO3166-2-lvl4': 'US-WA', 'postcode': '98144', 'country': 'United States', 'country_code': 'us'}}, {'place_id': 20101117, 'licence': 'Data © OpenStreetMap contributors, ODbL 1.0. https://osm.org/copyright', 'osm_type': 'node', 'osm_id': 2312065990, 'boundingbox': ['47.6229701', '47.6230701', '-122.3374046', '-122.3373046'], 'lat': '47.6230201', 'lon': '-122.3373546', 'display_name': 'Northeastern University, 401, Terry Avenue North, South Lake Union, Belltown, Seattle, King County, Washington, 98109, United States', 'place_rank': 30, 'category': 'amenity', 'type': 'college', 'importance': 9.99999999995449e-06, 'icon': 'https://nominatim.openstreetmap.org/ui/mapicons/education_school.p.20.png', 'address': {'amenity': 'Northeastern University', 'house_number': '401', 'road': 'Terry Avenue North', 'neighbourhood': 'South Lake Union', 'suburb': 'Belltown', 'city': 'Seattle', 'county': 'King County', 'state': 'Washington', 'ISO3166-2-lvl4': 'US-WA', 'postcode': '98109', 'country': 'United States', 'country_code': 'us'}}, {'place_id': 164983833, 'licence': 'Data © OpenStreetMap contributors, ODbL 1.0. https://osm.org/copyright', 'osm_type': 'way', 'osm_id': 239827006, 'boundingbox': ['47.61564', '47.6162752', '-122.3467899', '-122.3457922'], 'lat': '47.6159398', 'lon': '-122.3462752444464', 'display_name': 'Antioch University, 2400, 3rd Avenue, Uptown, Belltown, Seattle, King County, Washington, 98121, United States', 'place_rank': 30, 'category': 'amenity', 'type': 'college', 'importance': 9.99999999995449e-06, 'icon': 'https://nominatim.openstreetmap.org/ui/mapicons/education_school.p.20.png', 'address': {'amenity': 'Antioch University', 'house_number': '2400', 'road': '3rd Avenue', 'neighbourhood': 'Uptown', 'suburb': 'Belltown', 'city': 'Seattle', 'county': 'King County', 'state': 'Washington', 'ISO3166-2-lvl4': 'US-WA', 'postcode': '98121', 'country': 'United States', 'country_code': 'us'}}, {'place_id': 203132927, 'licence': 'Data © OpenStreetMap contributors, ODbL 1.0. https://osm.org/copyright', 'osm_type': 'way', 'osm_id': 430427474, 'boundingbox': ['47.5406943', '47.5436618', '-122.3278682', '-122.3231036'], 'lat': '47.5421533', 'lon': '-122.32476070599505', 'display_name': 'South Seattle Community College Georgetown Campus, 6737, Corson Avenue South, Van Asselt, Georgetown, Seattle, King County, Washington, 98108, United States', 'place_rank': 30, 'category': 'amenity', 'type': 'college', 'importance': 9.99999999995449e-06, 'icon': 'https://nominatim.openstreetmap.org/ui/mapicons/education_school.p.20.png', 'address': {'amenity': 'South Seattle Community College Georgetown Campus', 'house_number': '6737', 'road': 'Corson Avenue South', 'neighbourhood': 'Van Asselt', 'suburb': 'Georgetown', 'city': 'Seattle', 'county': 'King County', 'state': 'Washington', 'ISO3166-2-lvl4': 'US-WA', 'postcode': '98108', 'country': 'United States', 'country_code': 'us'}}]\n"
     ]
    }
   ],
   "source": [
    "### setup from previous questions\n",
    "my_params = {'q' : \"[colleges]\",'country':'us',\n",
    "             'format' : 'jsonv2',\n",
    "             'viewbox' : '-122.96791,47.73517,-122.19063,47.51488',\n",
    "             'bounded' : 1,\n",
    "             'limit' : 50,\n",
    "             'addressdetails': 1}\n",
    "\n",
    "my_map_response = requests.get(url, params = my_params)    \n",
    "\n",
    "if my_map_response.status_code == 200:\n",
    "    data = response.json()\n",
    "    print(data)\n",
    "else:\n",
    "    print(\"Error: the request was not successful.\")\n",
    "    \n",
    "my_map_json = my_map_response.json()\n",
    "\n",
    "###Begin answer to this question\n",
    "    \n",
    "with open(\"nicks_college_list.file.tsv\", \"w\") as nicks_file:\n",
    "    print(\"osm_id\\tname\\tlat\\tlon\", file=nicks_file)\n",
    "        \n",
    "    for place in my_map_json:\n",
    "    \n",
    "        detail = place['address']                \n",
    "        place_name = detail['amenity']\n",
    "        print(f\"{place['osm_id']}\\t{place_name}\\t{place['lat']}\\t{place['lon']}\", file=nicks_file)"
   ]
  },
  {
   "cell_type": "markdown",
   "metadata": {},
   "source": [
    "#### I saw many different answers to this question too! What's going on?"
   ]
  },
  {
   "cell_type": "markdown",
   "metadata": {},
   "source": [
    "## Spot the Bug"
   ]
  },
  {
   "cell_type": "markdown",
   "metadata": {},
   "source": [
    "Bug #1:"
   ]
  },
  {
   "cell_type": "code",
   "execution_count": 37,
   "metadata": {
    "scrolled": true
   },
   "outputs": [
    {
     "ename": "SyntaxError",
     "evalue": "invalid syntax (<ipython-input-37-f93f5845dbe2>, line 1)",
     "output_type": "error",
     "traceback": [
      "\u001b[0;36m  File \u001b[0;32m\"<ipython-input-37-f93f5845dbe2>\"\u001b[0;36m, line \u001b[0;32m1\u001b[0m\n\u001b[0;31m    https://dogapi.dog/api/v2/facts\u001b[0m\n\u001b[0m           ^\u001b[0m\n\u001b[0;31mSyntaxError\u001b[0m\u001b[0;31m:\u001b[0m invalid syntax\n"
     ]
    }
   ],
   "source": [
    "https://dogapi.dog/api/v2/facts"
   ]
  },
  {
   "cell_type": "markdown",
   "metadata": {},
   "source": [
    "Bug #2 Why is this printing the same thing over and over?"
   ]
  },
  {
   "cell_type": "code",
   "execution_count": null,
   "metadata": {},
   "outputs": [],
   "source": [
    "response = requests.get(\"http://www.boredapi.com/api/activity?participants=2\")\n",
    "if response.status_code == 200:\n",
    "    data = response.json()\n",
    "    activity = data['activity']\n",
    "    accessibility = data['accessibility']\n",
    "    price = data['price']\n",
    "    \n",
    "for n in range(1, 6):\n",
    "        print(f\"activity{n}:{activity}; price: {price}; accessibility: {accessibility}\")\n"
   ]
  },
  {
   "cell_type": "markdown",
   "metadata": {},
   "source": [
    "Bug #3: Why did this code return a bored API response?"
   ]
  },
  {
   "cell_type": "markdown",
   "metadata": {},
   "source": [
    "import requests\n",
    "\n",
    "dog_api = requests.get (\"https://dogapi.dog/docs/api-v1\")\n",
    "\n",
    "print (dog_api)\n",
    "\n",
    "dog_api = response.json()\n",
    "\n",
    "dog_api\n",
    "\n",
    "{'activity': 'Rearrange and organize your room',\n",
    " 'type': 'busywork',\n",
    " 'participants': 1,\n",
    " 'price': 0,\n",
    " 'link': '',\n",
    " 'key': '6197243',\n",
    " 'accessibility': 0.15}\n",
    "\n"
   ]
  },
  {
   "cell_type": "markdown",
   "metadata": {},
   "source": [
    "Bug #4"
   ]
  },
  {
   "cell_type": "code",
   "execution_count": 38,
   "metadata": {},
   "outputs": [
    {
     "name": "stdout",
     "output_type": "stream",
     "text": [
      "There are more dentists near the University\n",
      "There are more dentists near Downtown\n"
     ]
    }
   ],
   "source": [
    "url = \"https://nominatim.openstreetmap.org/search\"\n",
    "my_params = {\n",
    "    'q' : 'dentists near the University',\n",
    "    'format': 'jsonv2',\n",
    "    'addressdetails': 1,\n",
    "    'limit': 10\n",
    "}\n",
    "response = requests.get(url, params=my_params, timeout=5)\n",
    "if response.status_code == 200:\n",
    "    data = response.json()\n",
    "    if len(data) > 0:\n",
    "        print('There are more dentists near the University')\n",
    "    else:\n",
    "        print('There is no dentists near the University')\n",
    "else:\n",
    "    print(\"ERROR: request was not successfully\")\n",
    "\n",
    "url = \"https://nominatim.openstreetmap.org/search\"\n",
    "my_params = {\n",
    "    'q' : 'dentists near Downtown',\n",
    "    'format': 'jsonv2',\n",
    "    'addressdetails': 1,\n",
    "    'limit': 10\n",
    "}\n",
    "response = requests.get(url, params=my_params, timeout=5)\n",
    "if response.status_code == 200:\n",
    "    data = response.json()\n",
    "    if len(data) > 0:\n",
    "        print('There are more dentists near Downtown')\n",
    "    else:\n",
    "        print('There is no dentists near Downtown')\n",
    "else:\n",
    "    print(\"ERROR: request was not successfully\")"
   ]
  },
  {
   "cell_type": "code",
   "execution_count": null,
   "metadata": {},
   "outputs": [],
   "source": []
  }
 ],
 "metadata": {
  "kernelspec": {
   "display_name": "Python 3",
   "language": "python",
   "name": "python3"
  },
  "language_info": {
   "codemirror_mode": {
    "name": "ipython",
    "version": 3
   },
   "file_extension": ".py",
   "mimetype": "text/x-python",
   "name": "python",
   "nbconvert_exporter": "python",
   "pygments_lexer": "ipython3",
   "version": "3.7.4"
  }
 },
 "nbformat": 4,
 "nbformat_minor": 2
}
