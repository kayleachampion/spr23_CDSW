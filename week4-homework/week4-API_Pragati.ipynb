{
 "cells": [
  {
   "cell_type": "code",
   "execution_count": 1,
   "id": "70533d4f",
   "metadata": {},
   "outputs": [],
   "source": [
    "import requests"
   ]
  },
  {
   "cell_type": "code",
   "execution_count": 2,
   "id": "de04a45b",
   "metadata": {},
   "outputs": [],
   "source": [
    "my_response = requests.get(\"http://www.boredapi.com/api/activity\")"
   ]
  },
  {
   "cell_type": "code",
   "execution_count": 3,
   "id": "120c0edb",
   "metadata": {},
   "outputs": [
    {
     "name": "stdout",
     "output_type": "stream",
     "text": [
      "200\n"
     ]
    }
   ],
   "source": [
    "print(my_response.status_code)"
   ]
  },
  {
   "cell_type": "code",
   "execution_count": 4,
   "id": "b3ea7324",
   "metadata": {},
   "outputs": [
    {
     "data": {
      "text/plain": [
       "'{\"activity\":\"Learn how to iceskate or rollerskate\",\"type\":\"recreational\",\"participants\":1,\"price\":0.1,\"link\":\"\",\"key\":\"5947957\",\"accessibility\":0.25}'"
      ]
     },
     "execution_count": 4,
     "metadata": {},
     "output_type": "execute_result"
    }
   ],
   "source": [
    "my_response.text"
   ]
  },
  {
   "cell_type": "code",
   "execution_count": 5,
   "id": "0e03b638",
   "metadata": {},
   "outputs": [],
   "source": [
    "data = my_response.json()"
   ]
  },
  {
   "cell_type": "code",
   "execution_count": 6,
   "id": "242723af",
   "metadata": {},
   "outputs": [
    {
     "data": {
      "text/plain": [
       "{'activity': 'Learn how to iceskate or rollerskate',\n",
       " 'type': 'recreational',\n",
       " 'participants': 1,\n",
       " 'price': 0.1,\n",
       " 'link': '',\n",
       " 'key': '5947957',\n",
       " 'accessibility': 0.25}"
      ]
     },
     "execution_count": 6,
     "metadata": {},
     "output_type": "execute_result"
    }
   ],
   "source": [
    "data"
   ]
  },
  {
   "cell_type": "code",
   "execution_count": 7,
   "id": "2126bbd0",
   "metadata": {},
   "outputs": [
    {
     "data": {
      "text/plain": [
       "'Learn how to iceskate or rollerskate'"
      ]
     },
     "execution_count": 7,
     "metadata": {},
     "output_type": "execute_result"
    }
   ],
   "source": [
    "data['activity']"
   ]
  },
  {
   "cell_type": "code",
   "execution_count": 8,
   "id": "9b3c1eb6",
   "metadata": {},
   "outputs": [],
   "source": [
    "# Q1.1 "
   ]
  },
  {
   "cell_type": "code",
   "execution_count": null,
   "id": "3805583d",
   "metadata": {},
   "outputs": [],
   "source": []
  },
  {
   "cell_type": "code",
   "execution_count": 23,
   "id": "3481e97a",
   "metadata": {},
   "outputs": [
    {
     "name": "stdout",
     "output_type": "stream",
     "text": [
      "activity 1: Draw something interesting\n"
     ]
    }
   ],
   "source": [
    "for number in [1]:\n",
    "    response = requests.get(\"https://www.boredapi.com/api/activity\")\n",
    "    if response.status_code == 200:\n",
    "        data = response.json()\n",
    "        print(f\"activity {number}: {data['activity']}\" )"
   ]
  },
  {
   "cell_type": "code",
   "execution_count": 22,
   "id": "6dae97f2",
   "metadata": {},
   "outputs": [
    {
     "name": "stdout",
     "output_type": "stream",
     "text": [
      "activity 2: Go swimming with a friend\n"
     ]
    }
   ],
   "source": [
    "for number in [2]:\n",
    "    response = requests.get(\"https://www.boredapi.com/api/activity\")\n",
    "    if response.status_code == 200:\n",
    "        data = response.json()\n",
    "        print(f\"activity {number}: {data['activity']}\" ) "
   ]
  },
  {
   "cell_type": "code",
   "execution_count": 21,
   "id": "dfae6418",
   "metadata": {},
   "outputs": [
    {
     "name": "stdout",
     "output_type": "stream",
     "text": [
      "activity 3: Prepare a 72-hour kit\n"
     ]
    }
   ],
   "source": [
    "for number in [3]:\n",
    "    response = requests.get(\"https://www.boredapi.com/api/activity\")\n",
    "    if response.status_code == 200:\n",
    "        data = response.json()\n",
    "        print(f\"activity {number}: {data['activity']}\")"
   ]
  },
  {
   "cell_type": "code",
   "execution_count": 20,
   "id": "a7b4d327",
   "metadata": {},
   "outputs": [
    {
     "name": "stdout",
     "output_type": "stream",
     "text": [
      "activity 4: Go on a fishing trip with some friends\n"
     ]
    }
   ],
   "source": [
    "for number in [4]:\n",
    "    response = requests.get(\"https://www.boredapi.com/api/activity\")\n",
    "    if response.status_code == 200:\n",
    "        data = response.json()\n",
    "        print(f\"activity {number}: {data['activity']}\" ) "
   ]
  },
  {
   "cell_type": "code",
   "execution_count": 19,
   "id": "9f0c3b3d",
   "metadata": {},
   "outputs": [
    {
     "name": "stdout",
     "output_type": "stream",
     "text": [
      "activity 5: Teach your dog a new trick\n"
     ]
    }
   ],
   "source": [
    "for number in [5]:\n",
    "    response = requests.get(\"https://www.boredapi.com/api/activity\")\n",
    "    if response.status_code == 200:\n",
    "        data = response.json()\n",
    "        print (f\"activity {number}: {data['activity']}\")                   "
   ]
  },
  {
   "cell_type": "code",
   "execution_count": 24,
   "id": "cae2cdeb",
   "metadata": {},
   "outputs": [],
   "source": [
    "#Q1.2"
   ]
  },
  {
   "cell_type": "code",
   "execution_count": 25,
   "id": "715bd9c8",
   "metadata": {},
   "outputs": [],
   "source": [
    "response = requests.get(\"https://www.boredapi.com/api/activity\")\n",
    "data = response.json()"
   ]
  },
  {
   "cell_type": "code",
   "execution_count": 26,
   "id": "09e3eeb7",
   "metadata": {},
   "outputs": [],
   "source": [
    "#Q2.2\n"
   ]
  },
  {
   "cell_type": "code",
   "execution_count": 27,
   "id": "790a36fa",
   "metadata": {},
   "outputs": [
    {
     "ename": "SyntaxError",
     "evalue": "invalid syntax (4170958583.py, line 1)",
     "output_type": "error",
     "traceback": [
      "\u001b[1;36m  Cell \u001b[1;32mIn[27], line 1\u001b[1;36m\u001b[0m\n\u001b[1;33m    https://dogapi.dog/api/v2/facts\u001b[0m\n\u001b[1;37m          ^\u001b[0m\n\u001b[1;31mSyntaxError\u001b[0m\u001b[1;31m:\u001b[0m invalid syntax\n"
     ]
    }
   ],
   "source": [
    "https://dogapi.dog/api/v2/facts\n"
   ]
  },
  {
   "cell_type": "code",
   "execution_count": 28,
   "id": "f68b6541",
   "metadata": {},
   "outputs": [
    {
     "ename": "SyntaxError",
     "evalue": "invalid syntax (2394179204.py, line 1)",
     "output_type": "error",
     "traceback": [
      "\u001b[1;36m  Cell \u001b[1;32mIn[28], line 1\u001b[1;36m\u001b[0m\n\u001b[1;33m    https://dogapi.dog/api/v2/facts?limit=5\u001b[0m\n\u001b[1;37m          ^\u001b[0m\n\u001b[1;31mSyntaxError\u001b[0m\u001b[1;31m:\u001b[0m invalid syntax\n"
     ]
    }
   ],
   "source": [
    "https://dogapi.dog/api/v2/facts?limit=5"
   ]
  },
  {
   "cell_type": "code",
   "execution_count": null,
   "id": "667f6ed2",
   "metadata": {},
   "outputs": [],
   "source": []
  }
 ],
 "metadata": {
  "kernelspec": {
   "display_name": "Python 3 (ipykernel)",
   "language": "python",
   "name": "python3"
  },
  "language_info": {
   "codemirror_mode": {
    "name": "ipython",
    "version": 3
   },
   "file_extension": ".py",
   "mimetype": "text/x-python",
   "name": "python",
   "nbconvert_exporter": "python",
   "pygments_lexer": "ipython3",
   "version": "3.10.9"
  }
 },
 "nbformat": 4,
 "nbformat_minor": 5
}
