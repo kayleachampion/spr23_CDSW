{
 "cells": [
  {
   "cell_type": "code",
   "execution_count": 285,
   "id": "5f135a1a",
   "metadata": {},
   "outputs": [],
   "source": [
    "import requests"
   ]
  },
  {
   "cell_type": "code",
   "execution_count": 286,
   "id": "cdac356f",
   "metadata": {},
   "outputs": [],
   "source": [
    "my_parameters = {\"participants\":\"2\"}"
   ]
  },
  {
   "cell_type": "code",
   "execution_count": 287,
   "id": "f3134151",
   "metadata": {},
   "outputs": [],
   "source": [
    "my_response = requests.get(\"http://www.boredapi.com/api/activity\", params = my_parameters)"
   ]
  },
  {
   "cell_type": "code",
   "execution_count": 288,
   "id": "c8fd032b",
   "metadata": {},
   "outputs": [
    {
     "name": "stdout",
     "output_type": "stream",
     "text": [
      "200\n"
     ]
    }
   ],
   "source": [
    "print(my_response.status_code)"
   ]
  },
  {
   "cell_type": "code",
   "execution_count": 289,
   "id": "58da6726",
   "metadata": {},
   "outputs": [
    {
     "data": {
      "text/plain": [
       "'{\"activity\":\"Text a friend you haven\\'t talked to in a long time\",\"type\":\"social\",\"participants\":2,\"price\":0.05,\"link\":\"\",\"key\":\"6081071\",\"accessibility\":0.2}'"
      ]
     },
     "execution_count": 289,
     "metadata": {},
     "output_type": "execute_result"
    }
   ],
   "source": [
    "my_response.text"
   ]
  },
  {
   "cell_type": "code",
   "execution_count": 290,
   "id": "b302ab82",
   "metadata": {},
   "outputs": [],
   "source": [
    "data = my_response.json()"
   ]
  },
  {
   "cell_type": "code",
   "execution_count": 291,
   "id": "d59b941e",
   "metadata": {},
   "outputs": [
    {
     "data": {
      "text/plain": [
       "{'activity': \"Text a friend you haven't talked to in a long time\",\n",
       " 'type': 'social',\n",
       " 'participants': 2,\n",
       " 'price': 0.05,\n",
       " 'link': '',\n",
       " 'key': '6081071',\n",
       " 'accessibility': 0.2}"
      ]
     },
     "execution_count": 291,
     "metadata": {},
     "output_type": "execute_result"
    }
   ],
   "source": [
    "data"
   ]
  },
  {
   "cell_type": "code",
   "execution_count": 292,
   "id": "b6f66876",
   "metadata": {},
   "outputs": [
    {
     "data": {
      "text/plain": [
       "0.2"
      ]
     },
     "execution_count": 292,
     "metadata": {},
     "output_type": "execute_result"
    }
   ],
   "source": [
    "data['accessibility']"
   ]
  },
  {
   "cell_type": "code",
   "execution_count": 293,
   "id": "5dc36f78",
   "metadata": {},
   "outputs": [
    {
     "name": "stdout",
     "output_type": "stream",
     "text": [
      "Text a friend you haven't talked to in a long time, 0.05, 0.2\n"
     ]
    }
   ],
   "source": [
    "print(f\"{data['activity']}, {data['price']}, {data['accessibility']}\")"
   ]
  },
  {
   "cell_type": "code",
   "execution_count": 294,
   "id": "18512382",
   "metadata": {},
   "outputs": [
    {
     "name": "stdout",
     "output_type": "stream",
     "text": [
      "Text a friend you haven't talked to in a long time , 0.05 0.2\n"
     ]
    }
   ],
   "source": [
    "print(data['activity'], \",\", data['price'], data['accessibility'])"
   ]
  },
  {
   "cell_type": "markdown",
   "id": "fdae8df5",
   "metadata": {},
   "source": [
    "1.1"
   ]
  },
  {
   "cell_type": "code",
   "execution_count": 295,
   "id": "d1b58412",
   "metadata": {},
   "outputs": [
    {
     "name": "stdout",
     "output_type": "stream",
     "text": [
      "The activity 'Text a friend you haven't talked to in a long time', costs approximately 0.05, and has an accesibility score of 0.20\n"
     ]
    }
   ],
   "source": [
    "print(f\"The activity '{data['activity']}', costs approximately {data['price']:.2f}, and has an accesibility score of {data['accessibility']:.2f}\") #generic"
   ]
  },
  {
   "cell_type": "code",
   "execution_count": 296,
   "id": "e1fb5dd7",
   "metadata": {},
   "outputs": [
    {
     "name": "stdout",
     "output_type": "stream",
     "text": [
      "List of five activities to do with a partner\n",
      "Text a friend you haven't talked to in a long time\n",
      "Cook something together with someone\n",
      "Play a game of tennis with a friend\n",
      "Compliment someone\n",
      "Go swimming with a friend\n"
     ]
    }
   ],
   "source": [
    "valid_activities = []\n",
    "print(\"List of five activities to do with a partner\")\n",
    "while len(valid_activities) < 5:\n",
    "    my_response = requests.get(\"http://www.boredapi.com/api/activity\", params = my_parameters)\n",
    "    \n",
    "    data = my_response.json()\n",
    "    \n",
    "    key = data['key']\n",
    "    \n",
    "    if key not in valid_activities:       #if we havent saved the key before\n",
    "        valid_activities.append(key)\n",
    "        print(data['activity'])"
   ]
  },
  {
   "cell_type": "markdown",
   "id": "69232b73",
   "metadata": {},
   "source": [
    "1.2"
   ]
  },
  {
   "cell_type": "code",
   "execution_count": 297,
   "id": "03c496cb",
   "metadata": {},
   "outputs": [
    {
     "name": "stdout",
     "output_type": "stream",
     "text": [
      "Watch a classic movie , recreational\n",
      "Explore a park you have never been to before , recreational\n"
     ]
    }
   ],
   "source": [
    "my_response = requests.get(\"http://www.boredapi.com/api/activity\")\n",
    "\n",
    "data = my_response.json()\n",
    "\n",
    "activity_type = data['type']\n",
    "\n",
    "print(data[\"activity\"], \",\", activity_type)\n",
    "\n",
    "my_second_response = requests.get(\"http://www.boredapi.com/api/activity?type=\" + activity_type)\n",
    "\n",
    "data = my_second_response.json()\n",
    "\n",
    "activity_type = data['type']\n",
    "\n",
    "print(data[\"activity\"], \",\", activity_type)"
   ]
  },
  {
   "cell_type": "markdown",
   "id": "1b3edcb8",
   "metadata": {},
   "source": [
    "1.3"
   ]
  },
  {
   "cell_type": "code",
   "execution_count": 298,
   "id": "1ddf8434",
   "metadata": {},
   "outputs": [
    {
     "name": "stdout",
     "output_type": "stream",
     "text": [
      "social\n",
      "education\n",
      "busywork\n",
      "relaxation\n",
      "diy\n",
      "recreational\n",
      "charity\n",
      "cooking\n",
      "12\n"
     ]
    }
   ],
   "source": [
    "activity_dict = dict()\n",
    "dup_count = 0\n",
    "\n",
    "for i in range(20):\n",
    "    my_response = requests.get(\"http://www.boredapi.com/api/activity\")\n",
    "\n",
    "    activity = my_response.json()\n",
    "\n",
    "    activity_type = activity['type']\n",
    "    \n",
    "    if activity_type not in activity_dict.keys():\n",
    "        activity_dict[activity_type] = activity\n",
    "    else:\n",
    "        dup_count += 1\n",
    "\n",
    "for type in activity_dict.keys():\n",
    "    print(type)\n",
    "print(dup_count)"
   ]
  },
  {
   "cell_type": "code",
   "execution_count": 299,
   "id": "ca27396b",
   "metadata": {},
   "outputs": [
    {
     "name": "stdout",
     "output_type": "stream",
     "text": [
      "Catch up on world news\n",
      "Study a foreign language\n",
      "Volunteer at your local food bank\n",
      "Take a spontaneous road trip with some friends\n",
      "Clean out your garage\n",
      "Start a book you've never gotten around to reading\n",
      "Make a scrapbook with pictures of your favorite memories\n",
      "Bake a pie with some friends\n"
     ]
    }
   ],
   "source": [
    "activity_dict = dict()\n",
    "consecutive_dup_count = 0\n",
    "\n",
    "while consecutive_dup_count < 20:                   #tried increasing range, 20 worked\n",
    "    \n",
    "    my_response = requests.get(\"http://www.boredapi.com/api/activity\")\n",
    "\n",
    "    activity = my_response.json()\n",
    "\n",
    "    activity_type = activity['type']\n",
    "    \n",
    "    if activity_type not in activity_dict.keys():\n",
    "        activity_dict[activity_type] = activity\n",
    "        consecutive_dup_count = 0\n",
    "    else:\n",
    "        consecutive_dup_count += 1\n",
    "\n",
    "for act in activity_dict.values():\n",
    "    print(act['activity'])"
   ]
  },
  {
   "cell_type": "markdown",
   "id": "7eb52b57",
   "metadata": {},
   "source": [
    "2.0 "
   ]
  },
  {
   "cell_type": "markdown",
   "id": "24b75011",
   "metadata": {},
   "source": [
    "2.2"
   ]
  },
  {
   "cell_type": "markdown",
   "id": "41faab56",
   "metadata": {},
   "source": [
    "https://dogapi.dog/api/v2/facts"
   ]
  },
  {
   "cell_type": "markdown",
   "id": "9923de5f",
   "metadata": {},
   "source": [
    "2.3"
   ]
  },
  {
   "cell_type": "markdown",
   "id": "13ac12f8",
   "metadata": {},
   "source": [
    "https://dogapi.dog/api/v2/facts?limit=5"
   ]
  },
  {
   "cell_type": "markdown",
   "id": "69c7eeac",
   "metadata": {},
   "source": [
    "2.4"
   ]
  },
  {
   "cell_type": "code",
   "execution_count": 300,
   "id": "2c50e199",
   "metadata": {},
   "outputs": [
    {
     "name": "stdout",
     "output_type": "stream",
     "text": [
      "A dog's sense of smell is 10,000 times stronger than a human's.\n"
     ]
    }
   ],
   "source": [
    "import requests\n",
    "my_parameters = {\"limit\" : \"1\"}\n",
    "dog_response = requests.get(\"https://dogapi.dog/api/v2/facts\", params = my_parameters)\n",
    "\n",
    "my_data = dog_response.json()\n",
    "\n",
    "data_level = my_data['data']\n",
    "\n",
    "attribute_level = data_level[0]\n",
    "\n",
    "body_level = attribute_level['attributes']\n",
    "\n",
    "print(body_level['body'])"
   ]
  },
  {
   "cell_type": "markdown",
   "id": "a14ee27f",
   "metadata": {},
   "source": [
    "2.5"
   ]
  },
  {
   "cell_type": "code",
   "execution_count": 301,
   "id": "5cc7dd5e",
   "metadata": {},
   "outputs": [
    {
     "name": "stdout",
     "output_type": "stream",
     "text": [
      "<Response [200]>\n"
     ]
    }
   ],
   "source": [
    "import requests\n",
    "my_parameters = {\"limit\" : \"5\"}\n",
    "\n",
    "for n in range (1):\n",
    "    \n",
    "    dog_response = requests.get(\"https://dogapi.dog/api/v2/facts\", params = my_parameters)\n",
    "    \n",
    "    print(dog_response)              #skipping for the time\n"
   ]
  },
  {
   "cell_type": "markdown",
   "id": "99ca1773",
   "metadata": {},
   "source": [
    "3.0"
   ]
  },
  {
   "cell_type": "code",
   "execution_count": 302,
   "id": "99ff5694",
   "metadata": {},
   "outputs": [
    {
     "name": "stdout",
     "output_type": "stream",
     "text": [
      "Gas stations in duvall 3\n"
     ]
    }
   ],
   "source": [
    "import requests\n",
    "url = \"https://nominatim.openstreetmap.org/search\"\n",
    "\n",
    "my_params = {'q' : \"gas stations in duvall, wa\", 'format' : 'jsonv2'}\n",
    "\n",
    "my_map_response = requests.get(url, params = my_params)\n",
    "\n",
    "my_map_json = my_map_response.json()\n",
    "\n",
    "print('Gas stations in duvall', len(my_map_json))"
   ]
  },
  {
   "cell_type": "code",
   "execution_count": 303,
   "id": "85e7ba50",
   "metadata": {},
   "outputs": [
    {
     "name": "stdout",
     "output_type": "stream",
     "text": [
      "Gas stations in carnation 2\n"
     ]
    }
   ],
   "source": [
    "my_params = {'q' : \"gas stations in carnation, wa\", 'format' : 'jsonv2'}\n",
    "\n",
    "my_map_response = requests.get(url, params = my_params)\n",
    "\n",
    "my_map_json = my_map_response.json()\n",
    "\n",
    "print('Gas stations in carnation', len(my_map_json))"
   ]
  },
  {
   "cell_type": "markdown",
   "id": "06ef3308",
   "metadata": {},
   "source": [
    "There are more gas stations in Duvall. "
   ]
  },
  {
   "cell_type": "markdown",
   "id": "baedd228",
   "metadata": {},
   "source": [
    "3.2"
   ]
  },
  {
   "cell_type": "code",
   "execution_count": 304,
   "id": "634827ff",
   "metadata": {},
   "outputs": [
    {
     "name": "stdout",
     "output_type": "stream",
     "text": [
      "[{'place_id': 302606835, 'licence': 'Data © OpenStreetMap contributors, ODbL 1.0. https://osm.org/copyright', 'boundingbox': ['47.504603648607', '47.824603648607', '-122.45920351452', '-122.13920351452'], 'lat': '47.664603648606686', 'lon': '-122.29920351452031', 'display_name': 'Seattle, King County, Washington, 98105, United States', 'place_rank': 21, 'category': 'place', 'type': 'postcode', 'importance': 0.33499999999999996}]\n"
     ]
    }
   ],
   "source": [
    "my_params = {'country':'us', 'postalcode': '98105', \n",
    "             'format' : 'jsonv2', 'limit' : 50}\n",
    "\n",
    "my_map_response = requests.get(url, params = my_params)\n",
    "\n",
    "my_map_json = my_map_response.json()\n",
    "\n",
    "print(my_map_json)\n",
    "\n",
    "#print('dentist', len(my_map_json))"
   ]
  },
  {
   "cell_type": "code",
   "execution_count": 305,
   "id": "fb6ea61c",
   "metadata": {},
   "outputs": [
    {
     "name": "stdout",
     "output_type": "stream",
     "text": [
      "50\n"
     ]
    }
   ],
   "source": [
    "my_params = {'q' : \"[dentist]\",'country':'us', 'postalcode': '98105',\n",
    "             'format' : 'jsonv2',\n",
    "             'viewbox' : '-122.45920351452,47.504603648607,-122.13920351452,47.824603648607',\n",
    "             'bounded' : 1,\n",
    "             'limit' : 50}\n",
    "my_map_response = requests.get(url, params = my_params)\n",
    "\n",
    "my_map_json = my_map_response.json()\n",
    "\n",
    "print(len(my_map_json))"
   ]
  },
  {
   "cell_type": "markdown",
   "id": "77001076",
   "metadata": {},
   "source": [
    "3.3   "
   ]
  },
  {
   "cell_type": "code",
   "execution_count": 308,
   "id": "ad37f13f",
   "metadata": {},
   "outputs": [
    {
     "name": "stdout",
     "output_type": "stream",
     "text": [
      "latitude 47.656469799999996 longitude -122.31270835458191 of the Schmitz building on campus\n"
     ]
    }
   ],
   "source": [
    "my_params = {'street' : \"[1410 ne campus parkway]\",'city':'seattle', 'state': 'washington', 'country' : 'us',\n",
    "             'format' : 'jsonv2',\n",
    "             'limit' : 50}\n",
    "my_map_response = requests.get(url, params = my_params)\n",
    "\n",
    "my_map_json = my_map_response.json()\n",
    "\n",
    "place = my_map_json[0]\n",
    "\n",
    "print('latitude', place['lat'], 'longitude', place['lon'], 'of the Schmitz building on campus')"
   ]
  },
  {
   "cell_type": "markdown",
   "id": "054a3cd1",
   "metadata": {},
   "source": [
    "3.4  https://nominatim.openstreetmap.org/ui/search.html?county=King+County&state=Washington&country=US"
   ]
  },
  {
   "cell_type": "code",
   "execution_count": 316,
   "id": "a40a27de",
   "metadata": {},
   "outputs": [
    {
     "name": "stdout",
     "output_type": "stream",
     "text": [
      "South McClellan Street, Mount Baker, Seattle, King County, Washington, 98144, United States\n",
      "Roosevelt Way Northeast, Maple Leaf, Seattle, King County, Washington, 98115, United States\n",
      "144th Avenue Southeast, Somerset, Bellevue, King County, Washington, 98006, United States\n",
      "146th Avenue Southeast, Eastgate, Bellevue, King County, Washington, 98006, United States\n",
      "WIlburton Hill Park Trails, Belridge, Bellevue, King County, Washington, 98005, United States\n",
      "Soaring Eagle Zipline, Milton Road South, Federal Way, King County, Washington, 98354, United States\n"
     ]
    }
   ],
   "source": [
    "my_params = {'q' : \"[ziplines]\",'country':'us',\n",
    "             'format' : 'jsonv2',\n",
    "             'viewbox' : '-122.52914,47.69592,-120.97458,47.25409',\n",
    "             'bounded' : 1,\n",
    "             'limit' : 50}\n",
    "\n",
    "my_map_response = requests.get(url, params = my_params)    \n",
    "\n",
    "my_map_json = my_map_response.json()\n",
    "\n",
    "for place in my_map_json:\n",
    "    print(place['display_name'])"
   ]
  },
  {
   "cell_type": "markdown",
   "id": "9d8d0e8c",
   "metadata": {},
   "source": [
    "3.5"
   ]
  },
  {
   "cell_type": "markdown",
   "id": "501ea3b9",
   "metadata": {},
   "source": [
    "3.6"
   ]
  },
  {
   "cell_type": "code",
   "execution_count": 330,
   "id": "3001a85a",
   "metadata": {},
   "outputs": [
    {
     "name": "stdout",
     "output_type": "stream",
     "text": [
      "Cornish College of the Arts\n",
      "{'amenity': 'Cornish College of the Arts', 'road': 'Terry Avenue', 'neighbourhood': 'South Lake Union', 'suburb': 'First Hill', 'city': 'Seattle', 'county': 'King County', 'state': 'Washington', 'ISO3166-2-lvl4': 'US-WA', 'postcode': '98191', 'country': 'United States', 'country_code': 'us'}\n",
      "Bastyr University\n",
      "{'amenity': 'Bastyr University', 'road': 'Holmes Point Drive Northeast', 'town': 'Kenmore', 'county': 'King County', 'state': 'Washington', 'ISO3166-2-lvl4': 'US-WA', 'postcode': '98028', 'country': 'United States', 'country_code': 'us'}\n",
      "UW College of Built Environments\n",
      "{'amenity': 'UW College of Built Environments', 'house_number': '3949', 'road': '15th Avenue Northeast', 'neighbourhood': 'West Campus', 'suburb': 'University District', 'city': 'Seattle', 'county': 'King County', 'state': 'Washington', 'ISO3166-2-lvl4': 'US-WA', 'postcode': '98105', 'country': 'United States', 'country_code': 'us'}\n",
      "Olympic College\n",
      "{'amenity': 'Olympic College', 'house_number': '1600', 'road': 'Chester Avenue', 'city': 'Bremerton', 'county': 'Kitsap County', 'state': 'Washington', 'ISO3166-2-lvl4': 'US-WA', 'postcode': '98337', 'country': 'United States', 'country_code': 'us'}\n",
      "Seattle Central College\n",
      "{'amenity': 'Seattle Central College', 'road': 'East Howell Street', 'suburb': 'Capitol Hill', 'city': 'Seattle', 'county': 'King County', 'state': 'Washington', 'ISO3166-2-lvl4': 'US-WA', 'postcode': '98191', 'country': 'United States', 'country_code': 'us'}\n",
      "City University of Seattle\n",
      "{'amenity': 'City University of Seattle', 'house_number': '521', 'road': 'Wall Street', 'neighbourhood': 'South Lake Union', 'suburb': 'Belltown', 'city': 'Seattle', 'county': 'King County', 'state': 'Washington', 'ISO3166-2-lvl4': 'US-WA', 'postcode': '98121', 'country': 'United States', 'country_code': 'us'}\n",
      "North Seattle College\n",
      "{'amenity': 'North Seattle College', 'house_number': '9600', 'road': 'College Way North', 'neighbourhood': 'Licton Springs', 'suburb': 'Maple Leaf', 'city': 'Seattle', 'county': 'King County', 'state': 'Washington', 'ISO3166-2-lvl4': 'US-WA', 'postcode': '98103', 'country': 'United States', 'country_code': 'us'}\n",
      "South Seattle College\n",
      "{'amenity': 'South Seattle College', 'house_number': '6000', 'road': '16th Avenue Southwest', 'suburb': 'Delridge', 'city': 'Seattle', 'county': 'King County', 'state': 'Washington', 'ISO3166-2-lvl4': 'US-WA', 'postcode': '98106', 'country': 'United States', 'country_code': 'us'}\n",
      "Academy of Interactive Entertainment\n",
      "{'amenity': 'Academy of Interactive Entertainment', 'house_number': '305', 'road': 'Harrison Street', 'neighbourhood': 'Uptown', 'suburb': 'Belltown', 'city': 'Seattle', 'county': 'King County', 'state': 'Washington', 'ISO3166-2-lvl4': 'US-WA', 'postcode': '98109', 'country': 'United States', 'country_code': 'us'}\n",
      "Seattle Vocational Institute\n",
      "{'amenity': 'Seattle Vocational Institute', 'house_number': '2120', 'road': 'South Jackson Street', 'neighbourhood': 'Little Saigon', 'suburb': 'Central District', 'city': 'Seattle', 'county': 'King County', 'state': 'Washington', 'ISO3166-2-lvl4': 'US-WA', 'postcode': '98144', 'country': 'United States', 'country_code': 'us'}\n",
      "The Seattle School of Theology and Psychology\n",
      "{'amenity': 'The Seattle School of Theology and Psychology', 'house_number': '2501', 'road': 'Elliott Avenue', 'suburb': 'Belltown', 'city': 'Seattle', 'county': 'King County', 'state': 'Washington', 'ISO3166-2-lvl4': 'US-WA', 'postcode': '98121', 'country': 'United States', 'country_code': 'us'}\n",
      "Northwest College of Art and Design\n",
      "{'amenity': 'Northwest College of Art and Design', 'road': 'Creative Drive Northeast', 'town': 'Port Madison Indian Reservation', 'county': 'Kitsap County', 'state': 'Washington', 'ISO3166-2-lvl4': 'US-WA', 'postcode': '98345', 'country': 'United States', 'country_code': 'us'}\n",
      "Emerald City School\n",
      "{'amenity': 'Emerald City School', 'road': 'Denny Way', 'neighbourhood': 'Uptown', 'suburb': 'Belltown', 'city': 'Seattle', 'county': 'King County', 'state': 'Washington', 'ISO3166-2-lvl4': 'US-WA', 'postcode': '98121', 'country': 'United States', 'country_code': 'us'}\n",
      "Pima Medical Institute\n",
      "{'amenity': 'Pima Medical Institute', 'house_number': '9709', 'road': '3rd Avenue Northeast', 'suburb': 'Maple Leaf', 'city': 'Seattle', 'county': 'King County', 'state': 'Washington', 'ISO3166-2-lvl4': 'US-WA', 'postcode': '98115', 'country': 'United States', 'country_code': 'us'}\n",
      "Divers Institute of Technology\n",
      "{'amenity': 'Divers Institute of Technology', 'house_number': '1341', 'road': 'North Northlake Way', 'suburb': 'Fremont', 'city': 'Seattle', 'county': 'King County', 'state': 'Washington', 'ISO3166-2-lvl4': 'US-WA', 'postcode': '98103', 'country': 'United States', 'country_code': 'us'}\n",
      "Seattle Institute of Oriental Medicine\n",
      "{'amenity': 'Seattle Institute of Oriental Medicine', 'house_number': '444', 'road': 'Northeast Ravenna Boulevard', 'neighbourhood': 'Meridian', 'suburb': 'Green Lake', 'city': 'Seattle', 'county': 'King County', 'state': 'Washington', 'ISO3166-2-lvl4': 'US-WA', 'postcode': '98115', 'country': 'United States', 'country_code': 'us'}\n",
      "Seattle Central College Wood Technology Center\n",
      "{'amenity': 'Seattle Central College Wood Technology Center', 'house_number': '2310', 'road': 'South Lane Street', 'suburb': 'Central District', 'city': 'Seattle', 'county': 'King County', 'state': 'Washington', 'ISO3166-2-lvl4': 'US-WA', 'postcode': '98144', 'country': 'United States', 'country_code': 'us'}\n",
      "Northeastern University\n",
      "{'amenity': 'Northeastern University', 'house_number': '401', 'road': 'Terry Avenue North', 'neighbourhood': 'South Lake Union', 'suburb': 'Belltown', 'city': 'Seattle', 'county': 'King County', 'state': 'Washington', 'ISO3166-2-lvl4': 'US-WA', 'postcode': '98109', 'country': 'United States', 'country_code': 'us'}\n",
      "Antioch University\n",
      "{'amenity': 'Antioch University', 'house_number': '2400', 'road': '3rd Avenue', 'neighbourhood': 'Uptown', 'suburb': 'Belltown', 'city': 'Seattle', 'county': 'King County', 'state': 'Washington', 'ISO3166-2-lvl4': 'US-WA', 'postcode': '98121', 'country': 'United States', 'country_code': 'us'}\n",
      "South Seattle Community College Georgetown Campus\n",
      "{'amenity': 'South Seattle Community College Georgetown Campus', 'house_number': '6737', 'road': 'Corson Avenue South', 'neighbourhood': 'Van Asselt', 'suburb': 'Georgetown', 'city': 'Seattle', 'county': 'King County', 'state': 'Washington', 'ISO3166-2-lvl4': 'US-WA', 'postcode': '98108', 'country': 'United States', 'country_code': 'us'}\n"
     ]
    }
   ],
   "source": [
    "my_params = {'q' : \"[colleges]\",'country':'us',\n",
    "             'format' : 'jsonv2',\n",
    "             'viewbox' : '-122.96791,47.73517,-122.19063,47.51488',\n",
    "             'bounded' : 1,\n",
    "             'limit' : 50,\n",
    "             'addressdetails': 1}\n",
    "\n",
    "my_map_response = requests.get(url, params = my_params)    \n",
    "\n",
    "my_map_json = my_map_response.json()\n",
    "\n",
    "for place in my_map_json:\n",
    "    detail = place['address']                #how to nevigate the city/town aspect. If the city is a town how do you parse?\n",
    "    print(detail['amenity'])\n",
    "    print(detail)"
   ]
  },
  {
   "cell_type": "markdown",
   "id": "d504e2c6",
   "metadata": {},
   "source": [
    "3.5-2"
   ]
  },
  {
   "cell_type": "code",
   "execution_count": 332,
   "id": "4f30613d",
   "metadata": {},
   "outputs": [
    {
     "name": "stdout",
     "output_type": "stream",
     "text": [
      "college\n",
      "college\n",
      "college\n",
      "college\n",
      "college\n",
      "college\n",
      "college\n",
      "college\n",
      "college\n",
      "college\n",
      "college\n",
      "college\n",
      "college\n",
      "college\n",
      "college\n",
      "college\n",
      "college\n",
      "college\n",
      "college\n",
      "college\n"
     ]
    }
   ],
   "source": [
    "for place in my_map_json:\n",
    "    print(place['type'])       #we know becuase all types are colleges"
   ]
  },
  {
   "cell_type": "markdown",
   "id": "4b0a7c01",
   "metadata": {},
   "source": [
    "3.5-3"
   ]
  },
  {
   "cell_type": "code",
   "execution_count": 336,
   "id": "31da5616",
   "metadata": {},
   "outputs": [
    {
     "name": "stdout",
     "output_type": "stream",
     "text": [
      "9994114 Cornish College of the Arts 47.61680045 -122.33586595\n",
      "5630067 Bastyr University 47.730512899999994 -122.25029283292629\n",
      "2439830827 UW College of Built Environments 47.6549477 -122.312389\n",
      "468494753 Olympic College 47.57523315 -122.63534018666812\n",
      "169786833 Seattle Central College 47.61619055 -122.32149768795851\n",
      "2327652090 City University of Seattle 47.6177084 -122.3444624\n",
      "9408762 North Seattle College 47.69870805 -122.33255180132647\n",
      "31706483 South Seattle College 47.548193299999994 -122.35233908228187\n",
      "6440063074 Academy of Interactive Entertainment 47.6218374 -122.3505371\n",
      "342786695 Seattle Vocational Institute 47.60002405 -122.30376308697222\n",
      "397007181 The Seattle School of Theology and Psychology 47.6133176 -122.35096519999999\n",
      "2129614086 Northwest College of Art and Design 47.7109789 -122.6037903\n",
      "3771319445 Emerald City School 47.6186933 -122.3465342\n",
      "9837120513 Pima Medical Institute 47.6992997 -122.327393\n",
      "1313743670 Divers Institute of Technology 47.6476048 -122.3408349\n",
      "1099460871 Seattle Institute of Oriental Medicine 47.6780451 -122.323478\n",
      "336485971 Seattle Central College Wood Technology Center 47.59718215 -122.3017103499598\n",
      "2312065990 Northeastern University 47.6230201 -122.3373546\n",
      "239827006 Antioch University 47.6159398 -122.3462752444464\n",
      "430427474 South Seattle Community College Georgetown Campus 47.5421533 -122.32476070599505\n"
     ]
    }
   ],
   "source": [
    "for place in my_map_json:\n",
    "    \n",
    "    detail = place['address']                \n",
    "    place_name = detail['amenity']\n",
    "    print(place['osm_id'], place_name, place['lat'], place['lon'])"
   ]
  },
  {
   "cell_type": "code",
   "execution_count": 340,
   "id": "ce834571",
   "metadata": {},
   "outputs": [],
   "source": [
    "with open(\"nicks_college_list.file.tsv\", \"w\") as nicks_file:\n",
    "    print(\"osm_id\\tname\\tlat\\tlon\", file=nicks_file)\n",
    "        \n",
    "    for place in my_map_json:\n",
    "    \n",
    "        detail = place['address']                \n",
    "        place_name = detail['amenity']\n",
    "        print(f\"{place['osm_id']}\\t{place_name}\\t{place['lat']}\\t{place['lon']}\", file=nicks_file)"
   ]
  },
  {
   "cell_type": "code",
   "execution_count": null,
   "id": "2f9854be",
   "metadata": {},
   "outputs": [],
   "source": []
  }
 ],
 "metadata": {
  "kernelspec": {
   "display_name": "Python 3 (ipykernel)",
   "language": "python",
   "name": "python3"
  },
  "language_info": {
   "codemirror_mode": {
    "name": "ipython",
    "version": 3
   },
   "file_extension": ".py",
   "mimetype": "text/x-python",
   "name": "python",
   "nbconvert_exporter": "python",
   "pygments_lexer": "ipython3",
   "version": "3.10.9"
  }
 },
 "nbformat": 4,
 "nbformat_minor": 5
}
