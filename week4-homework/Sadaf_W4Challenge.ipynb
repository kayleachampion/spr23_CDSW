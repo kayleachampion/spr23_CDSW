{
 "cells": [
  {
   "cell_type": "markdown",
   "id": "b6235436",
   "metadata": {},
   "source": [
    "BORED API"
   ]
  },
  {
   "cell_type": "code",
   "execution_count": 179,
   "id": "3c6ceff4",
   "metadata": {},
   "outputs": [
    {
     "data": {
      "text/plain": [
       "{'activity': 'Plant a tree',\n",
       " 'type': 'recreational',\n",
       " 'participants': 1,\n",
       " 'price': 0.3,\n",
       " 'link': '',\n",
       " 'key': '1942393',\n",
       " 'accessibility': 0.3}"
      ]
     },
     "execution_count": 179,
     "metadata": {},
     "output_type": "execute_result"
    }
   ],
   "source": [
    "#1\n",
    "import requests\n",
    "response = requests.get ('http://www.boredapi.com/api/activity/')\n",
    "response.status_code\n",
    "response.json()\n"
   ]
  },
  {
   "cell_type": "code",
   "execution_count": 181,
   "id": "6194131a",
   "metadata": {},
   "outputs": [
    {
     "data": {
      "text/plain": [
       "'recreationalPlant a tree'"
      ]
     },
     "execution_count": 181,
     "metadata": {},
     "output_type": "execute_result"
    }
   ],
   "source": [
    "data = response.json()\n",
    "data['type' ] + data[ 'activity']"
   ]
  },
  {
   "cell_type": "code",
   "execution_count": 182,
   "id": "8f236c78",
   "metadata": {},
   "outputs": [
    {
     "name": "stdout",
     "output_type": "stream",
     "text": [
      "acivity 1 : Compliment someone\n",
      "acivity 2 : Resolve a problem you've been putting off\n",
      "acivity 3 : Learn how the internet works\n",
      "acivity 4 : Learn how to beatbox\n",
      "acivity 5 : Learn how to iceskate or rollerskate\n"
     ]
    }
   ],
   "source": [
    "#1.1\n",
    "for number in [1,2,3,4,5]:\n",
    "    response = requests.get('http://www.boredapi.com/api/activity/')\n",
    "    if response.status_code == 200:\n",
    "        data = response.json()\n",
    "        print (f\"acivity {number} : {data['activity']}\")"
   ]
  },
  {
   "cell_type": "code",
   "execution_count": 189,
   "id": "3fc84639",
   "metadata": {},
   "outputs": [
    {
     "name": "stdout",
     "output_type": "stream",
     "text": [
      "activity 1: type: recreational, Learn how to play a new sport \n",
      "activity 1: type: recreational, Text a friend you haven't talked to in a long time\n"
     ]
    }
   ],
   "source": [
    "#1.2\n",
    "\n",
    "responseI = requests.get(\"http://www.boredapi.com/api/activity/\")\n",
    "n=0\n",
    "\n",
    "if responseI.status_code == 200:\n",
    "        data = responseI.json()\n",
    "        print(f\"activity {str(n+1)}: type: {data['type']}, {data['activity']} \")\n",
    "        activityType = data['type']\n",
    "       # n += 1\n",
    "\n",
    "responseII = requests.get(f\"http://www.boredapi.com/api/activity?type={activity_type}\")\n",
    "if responseII.status_code == 200:\n",
    "    dataII = responseII.json()\n",
    "    print(f\"activity {str(n+1)}: type: {data['type']}, {dataII['activity']}\")\n",
    "    #n += 1"
   ]
  },
  {
   "cell_type": "code",
   "execution_count": 183,
   "id": "5cdae728",
   "metadata": {
    "scrolled": true
   },
   "outputs": [
    {
     "name": "stdout",
     "output_type": "stream",
     "text": [
      "type: education, Study a foreign language\n",
      "type: recreational, Paint the first thing you see\n",
      "type: social, Go to a concert with some friends\n",
      "type: diy, Fix something that's broken in your house\n",
      "type: charity, Mow your neighbor's lawn\n",
      "type: cooking, Learn a new recipe\n",
      "type: relaxation, Look at pictures and videos of cute animals\n",
      "type: music, Have a jam session with your friends\n",
      "type: busywork, Clean out your refrigerator\n"
     ]
    }
   ],
   "source": [
    "#1.3\n",
    "activities = ['education','recreational','social','diy','charity','cooking','relaxation','music','busywork']\n",
    "n = 0\n",
    "\n",
    "for activity in activities:\n",
    "    response = requests.get(f\"http://www.boredapi.com/api/activity?type={activity}\")\n",
    "    if response.status_code == 200:\n",
    "        data = response.json()\n",
    "        print(f\"type: {data['type']}, {data['activity']}\")\n",
    "        n += 1\n"
   ]
  },
  {
   "cell_type": "markdown",
   "id": "f0aee5d1",
   "metadata": {},
   "source": [
    "LEARNING A NEW API"
   ]
  },
  {
   "cell_type": "code",
   "execution_count": 190,
   "id": "6e50aaaf",
   "metadata": {
    "scrolled": true
   },
   "outputs": [
    {
     "name": "stdout",
     "output_type": "stream",
     "text": [
      "Max, Jake, Maggie and Molly are the most popular dog names.\n"
     ]
    }
   ],
   "source": [
    "#2.2\n",
    "\n",
    "dogResponse = requests.get (\"https://dogapi.dog/api/v2/facts\")\n",
    "data = dogResponse.json()\n",
    "print(data['data'][0]['attributes']['body'])"
   ]
  },
  {
   "cell_type": "code",
   "execution_count": 191,
   "id": "dddfd4ea",
   "metadata": {},
   "outputs": [
    {
     "name": "stdout",
     "output_type": "stream",
     "text": [
      "All breeds of dog have been found to attack livestock, from 3-month-old puppies to 13-year-old poodles.\n",
      "Rock star Ozzy Osborne saved his wife Sharon’s Pomeranian from a coyote by tackling and wresting the coyote until it released the dog.\n",
      "Tiger Woods stuttered as a child and used to talk to his dog until he fell asleep in an effort to get rid of it.\n",
      "A dog’s mouth exerts 150–200 pounds of pressure per square inch with some dogs exerting up to 450 pounds per square inch.\n",
      "When dogs were evolving, bone marrow could sometimes form an important part of their diet.\n"
     ]
    }
   ],
   "source": [
    "#2.3\n",
    "for number in [1,2,3,4,5]:\n",
    "    response = requests.get('https://dogapi.dog/api/v2/facts')\n",
    "    if response.status_code == 200:\n",
    "        data = response.json()\n",
    "        print(data['data'][0]['attributes']['body'])"
   ]
  },
  {
   "cell_type": "code",
   "execution_count": 192,
   "id": "3279700c",
   "metadata": {},
   "outputs": [
    {
     "name": "stdout",
     "output_type": "stream",
     "text": [
      "One of Shakespeare’s most mischievous characters is Crab, the dog belonging to Launce in the Two Gentlemen of Verona. The word \"watchdog\" is first found in The Tempest.\n"
     ]
    }
   ],
   "source": [
    "#2.4\n",
    "url = \"https://dogapi.dog/api/v2/facts\"\n",
    "myParams = {'type' : 'fact','attributes' : 'body'}\n",
    "\n",
    "dogResponseII = requests.get(url, myParams)\n",
    "\n",
    "if dogResponseII.status_code == 200:\n",
    "    data = dogResponseII.json()\n",
    "print(data['data'][0]['attributes']['body'])\n"
   ]
  },
  {
   "cell_type": "code",
   "execution_count": 90,
   "id": "5e2c97b7",
   "metadata": {},
   "outputs": [
    {
     "name": "stdout",
     "output_type": "stream",
     "text": [
      "{'data': [{'id': '1f8d7dcf-100f-4bc2-8fb8-0d4c9e00ddea', 'type': 'fact', 'attributes': {'body': 'In Egypt, a person bitten by a rabid dog was encouraged to eat the roasted liver of a dog infected with rabies to avoid contracting the disease. The tooth of a dog infected with rabies would also be put in a band tied to the arm of the person bitten. The menstrual blood of a female dog was used for hair removal, while dog genitals were used for preventing the whitening of hair.'}}]}\n",
      "{'data': [{'id': 'b884ac7c-4567-4be0-8a50-747439bb123e', 'type': 'fact', 'attributes': {'body': 'Dogs are mentioned in the Bible more than 35 times.'}}]}\n",
      "{'data': [{'id': 'ee3c9ccb-4c3d-4bd5-86c2-b3d90b826661', 'type': 'fact', 'attributes': {'body': 'Most experts believe humans domesticated dogs before donkeys, horses, sheep, goats, cattle, cats, or chickens.'}}]}\n",
      "{'data': [{'id': '6dbd4290-e1bd-4400-b019-8543f4a8c7e7', 'type': 'fact', 'attributes': {'body': 'Dogs have been bred for a variety of purposes, including hunting, guarding, and companionship.'}}]}\n",
      "{'data': [{'id': 'f8c269b9-734d-493f-abfc-b50dd9350d2b', 'type': 'fact', 'attributes': {'body': 'Dogs have a wet nose to collect more of the tiny droplets of smelling chemicals in the air.'}}]}\n"
     ]
    }
   ],
   "source": [
    "#2.5\n",
    "with open(\"Dogs0.tsv\", \"w\") as my_file:\n",
    "    print(\"Dog Fact\\n\", file = my_file)\n",
    "    \n",
    "for number in [1,2,3,4,5]:\n",
    "    response = requests.get('https://dogapi.dog/api/v2/facts')\n",
    "    if response.status_code == 200:\n",
    "        data = response.json()\n",
    "        print(data)\n",
    "        with open(\"Dogs0.tsv\", \"a\") as my_file:\n",
    "            print(f\"{data['data'][0]['attributes']['body']}\", file = my_file)\n",
    "            "
   ]
  },
  {
   "cell_type": "markdown",
   "id": "47b37b56",
   "metadata": {},
   "source": [
    "MAPPING"
   ]
  },
  {
   "cell_type": "code",
   "execution_count": 193,
   "id": "e888793e",
   "metadata": {},
   "outputs": [
    {
     "name": "stdout",
     "output_type": "stream",
     "text": [
      "12\n",
      "0\n",
      "There are more gas stations in Duvall\n"
     ]
    }
   ],
   "source": [
    "#3.1\n",
    "\n",
    "url = (\"http://nominatim.openstreetmap.org/search\")\n",
    "myParams = {'q' : '[gas station] in duvall, wa',\n",
    "             'format' : 'jsonv2',\n",
    "             'limit' : '50'}\n",
    "\n",
    "response = requests.get(url, params=myParams)\n",
    "if response.status_code == 200:\n",
    "    data = response.json()\n",
    "    print(len(data))   \n",
    "    \n",
    "url = (\"http://nominatim.openstreetmap.org/search\")\n",
    "myParamsII = {'q' : '[gas station] in carnation, wa',\n",
    "             'format' : 'jsonv2',\n",
    "             'limit' : '50'}\n",
    "\n",
    "response = requests.get(url, params=myParamsII)\n",
    "if response.status_code == 200:\n",
    "    dataII = response.json()\n",
    "    print(len(dataII))\n",
    "    \n",
    "if data > dataII:\n",
    "    print ('There are more gas stations in Duvall')\n",
    "else:\n",
    "    print ('There are more gas stations in Carnation')"
   ]
  },
  {
   "cell_type": "code",
   "execution_count": 99,
   "id": "a0a9a553",
   "metadata": {},
   "outputs": [
    {
     "name": "stdout",
     "output_type": "stream",
     "text": [
      "32\n",
      "0\n",
      "There are more dentists near the University than downtown\n"
     ]
    }
   ],
   "source": [
    "#3.2\n",
    "\n",
    "url = (\"http://nominatim.openstreetmap.org/search\")\n",
    "myParams = {'q' : '[dentist] in university seattle, wa',\n",
    "             'format' : 'jsonv2',\n",
    "             'limit' : '50'}\n",
    "\n",
    "response = requests.get(url, params=myParams)\n",
    "\n",
    "if response.status_code == 200:\n",
    "    universityDent = response.json()\n",
    "    print(len(universityDent))\n",
    "    \n",
    "url = (\"http://nominatim.openstreetmap.org/search\")\n",
    "myParams = {'q' : '[dentist] near downtown seattle, wa',\n",
    "             'format' : 'jsonv2',\n",
    "             'limit' : '50'}\n",
    "\n",
    "response = requests.get(url, params=myParams)\n",
    "\n",
    "if response.status_code == 200:\n",
    "    downtownDent = response.json()\n",
    "    print(len(downtownDent))\n",
    "     \n",
    "if universityDent > downtownDent:\n",
    "    print(\"There are more dentists near the University than downtown\")\n",
    "else:\n",
    "    print(\"There are more dentists downtown than near the University\")\n"
   ]
  },
  {
   "cell_type": "code",
   "execution_count": 116,
   "id": "a5d938f2",
   "metadata": {},
   "outputs": [],
   "source": [
    "#3.3\n",
    "url = \"https://nominatim.openstreetmap.org/search\"\n",
    "myPrams = {'q' : '[bakery]',\n",
    "             'format' : 'jsonv2',\n",
    "             'viewbox' : '51.37730863451928, 35.77163839036851',\n",
    "             'bounded' : 1,\n",
    "             'limit' : 5}\n",
    "\n",
    "response = requests.get(url, params=myPrams)\n",
    "\n",
    "if response.status_code == 200:\n",
    "    data = response.json()"
   ]
  },
  {
   "cell_type": "code",
   "execution_count": 135,
   "id": "e414f157",
   "metadata": {},
   "outputs": [
    {
     "name": "stdout",
     "output_type": "stream",
     "text": [
      "WIlburton Hill Park Trails, Belridge, Bellevue, King County, Washington, 98005, United States\n",
      "146th Avenue Southeast, Eastgate, Bellevue, King County, Washington, 98006, United States\n",
      "144th Avenue Southeast, Somerset, Bellevue, King County, Washington, 98006, United States\n"
     ]
    }
   ],
   "source": [
    "for place in data:\n",
    "    print(place['display_name'])\n",
    "  "
   ]
  },
  {
   "cell_type": "code",
   "execution_count": 142,
   "id": "c5926ad0",
   "metadata": {},
   "outputs": [
    {
     "name": "stdout",
     "output_type": "stream",
     "text": [
      "3\n"
     ]
    }
   ],
   "source": [
    "#3.4\n",
    "url = (\"http://nominatim.openstreetmap.org/search\")\n",
    "myParams = {'q' : '[zipline] in king county, wa',\n",
    "             'format' : 'jsonv2',\n",
    "             'limit' : '50'}\n",
    "\n",
    "response = requests.get(url, params=myParams)\n",
    "\n",
    "if response.status_code == 200:\n",
    "    data = response.json()\n",
    "    print(len(data))"
   ]
  },
  {
   "cell_type": "code",
   "execution_count": 143,
   "id": "ef99131d",
   "metadata": {},
   "outputs": [
    {
     "name": "stdout",
     "output_type": "stream",
     "text": [
      "WIlburton Hill Park Trails, Belridge, Bellevue, King County, Washington, 98005, United States\n",
      "['47.6081042', '47.6081428', '-122.1743914', '-122.1742413']\n",
      "146th Avenue Southeast, Eastgate, Bellevue, King County, Washington, 98006, United States\n",
      "['47.5675978', '47.5685085', '-122.1486867', '-122.1460848']\n",
      "144th Avenue Southeast, Somerset, Bellevue, King County, Washington, 98006, United States\n",
      "['47.5676025', '47.5685007', '-122.1486472', '-122.1475391']\n"
     ]
    }
   ],
   "source": [
    "for item in data:\n",
    "    print(item['display_name'])\n",
    "    print (item['boundingbox'])\n",
    "    "
   ]
  },
  {
   "cell_type": "code",
   "execution_count": 194,
   "id": "4cc503a4",
   "metadata": {},
   "outputs": [
    {
     "name": "stdout",
     "output_type": "stream",
     "text": [
      "[{'place_id': 68574401, 'licence': 'Data © OpenStreetMap contributors, ODbL 1.0. https://osm.org/copyright', 'osm_type': 'node', 'osm_id': 6437396178, 'boundingbox': ['47.6169026', '47.6170026', '-122.332446', '-122.332346'], 'lat': '47.6169526', 'lon': '-122.332396', 'display_name': 'Mighty O Donuts, Boren Avenue, South Lake Union, First Hill, Seattle, King County, Washington, 98191, United States', 'place_rank': 30, 'category': 'amenity', 'type': 'cafe', 'importance': 1.3300100000000001, 'icon': 'https://nominatim.openstreetmap.org/ui/mapicons/food_cafe.p.20.png'}]\n",
      "[{'place_id': 68574401, 'licence': 'Data © OpenStreetMap contributors, ODbL 1.0. https://osm.org/copyright', 'osm_type': 'node', 'osm_id': 6437396178, 'boundingbox': ['47.6169026', '47.6170026', '-122.332446', '-122.332346'], 'lat': '47.6169526', 'lon': '-122.332396', 'display_name': 'Mighty O Donuts, Boren Avenue, South Lake Union, First Hill, Seattle, King County, Washington, 98191, United States', 'place_rank': 30, 'category': 'amenity', 'type': 'cafe', 'importance': 1.3300100000000001, 'icon': 'https://nominatim.openstreetmap.org/ui/mapicons/food_cafe.p.20.png'}]\n",
      "[{'place_id': 68574401, 'licence': 'Data © OpenStreetMap contributors, ODbL 1.0. https://osm.org/copyright', 'osm_type': 'node', 'osm_id': 6437396178, 'boundingbox': ['47.6169026', '47.6170026', '-122.332446', '-122.332346'], 'lat': '47.6169526', 'lon': '-122.332396', 'display_name': 'Mighty O Donuts, Boren Avenue, South Lake Union, First Hill, Seattle, King County, Washington, 98191, United States', 'place_rank': 30, 'category': 'amenity', 'type': 'cafe', 'importance': 1.3300100000000001, 'icon': 'https://nominatim.openstreetmap.org/ui/mapicons/food_cafe.p.20.png'}]\n",
      "[{'place_id': 68574401, 'licence': 'Data © OpenStreetMap contributors, ODbL 1.0. https://osm.org/copyright', 'osm_type': 'node', 'osm_id': 6437396178, 'boundingbox': ['47.6169026', '47.6170026', '-122.332446', '-122.332346'], 'lat': '47.6169526', 'lon': '-122.332396', 'display_name': 'Mighty O Donuts, Boren Avenue, South Lake Union, First Hill, Seattle, King County, Washington, 98191, United States', 'place_rank': 30, 'category': 'amenity', 'type': 'cafe', 'importance': 1.3300100000000001, 'icon': 'https://nominatim.openstreetmap.org/ui/mapicons/food_cafe.p.20.png'}]\n",
      "[{'place_id': 68574401, 'licence': 'Data © OpenStreetMap contributors, ODbL 1.0. https://osm.org/copyright', 'osm_type': 'node', 'osm_id': 6437396178, 'boundingbox': ['47.6169026', '47.6170026', '-122.332446', '-122.332346'], 'lat': '47.6169526', 'lon': '-122.332396', 'display_name': 'Mighty O Donuts, Boren Avenue, South Lake Union, First Hill, Seattle, King County, Washington, 98191, United States', 'place_rank': 30, 'category': 'amenity', 'type': 'cafe', 'importance': 1.3300100000000001, 'icon': 'https://nominatim.openstreetmap.org/ui/mapicons/food_cafe.p.20.png'}]\n",
      "[{'place_id': 68574401, 'licence': 'Data © OpenStreetMap contributors, ODbL 1.0. https://osm.org/copyright', 'osm_type': 'node', 'osm_id': 6437396178, 'boundingbox': ['47.6169026', '47.6170026', '-122.332446', '-122.332346'], 'lat': '47.6169526', 'lon': '-122.332396', 'display_name': 'Mighty O Donuts, Boren Avenue, South Lake Union, First Hill, Seattle, King County, Washington, 98191, United States', 'place_rank': 30, 'category': 'amenity', 'type': 'cafe', 'importance': 1.3300100000000001, 'icon': 'https://nominatim.openstreetmap.org/ui/mapicons/food_cafe.p.20.png'}]\n",
      "[{'place_id': 68574401, 'licence': 'Data © OpenStreetMap contributors, ODbL 1.0. https://osm.org/copyright', 'osm_type': 'node', 'osm_id': 6437396178, 'boundingbox': ['47.6169026', '47.6170026', '-122.332446', '-122.332346'], 'lat': '47.6169526', 'lon': '-122.332396', 'display_name': 'Mighty O Donuts, Boren Avenue, South Lake Union, First Hill, Seattle, King County, Washington, 98191, United States', 'place_rank': 30, 'category': 'amenity', 'type': 'cafe', 'importance': 1.3300100000000001, 'icon': 'https://nominatim.openstreetmap.org/ui/mapicons/food_cafe.p.20.png'}]\n",
      "[{'place_id': 68574401, 'licence': 'Data © OpenStreetMap contributors, ODbL 1.0. https://osm.org/copyright', 'osm_type': 'node', 'osm_id': 6437396178, 'boundingbox': ['47.6169026', '47.6170026', '-122.332446', '-122.332346'], 'lat': '47.6169526', 'lon': '-122.332396', 'display_name': 'Mighty O Donuts, Boren Avenue, South Lake Union, First Hill, Seattle, King County, Washington, 98191, United States', 'place_rank': 30, 'category': 'amenity', 'type': 'cafe', 'importance': 1.3300100000000001, 'icon': 'https://nominatim.openstreetmap.org/ui/mapicons/food_cafe.p.20.png'}]\n",
      "[{'place_id': 68574401, 'licence': 'Data © OpenStreetMap contributors, ODbL 1.0. https://osm.org/copyright', 'osm_type': 'node', 'osm_id': 6437396178, 'boundingbox': ['47.6169026', '47.6170026', '-122.332446', '-122.332346'], 'lat': '47.6169526', 'lon': '-122.332396', 'display_name': 'Mighty O Donuts, Boren Avenue, South Lake Union, First Hill, Seattle, King County, Washington, 98191, United States', 'place_rank': 30, 'category': 'amenity', 'type': 'cafe', 'importance': 1.3300100000000001, 'icon': 'https://nominatim.openstreetmap.org/ui/mapicons/food_cafe.p.20.png'}]\n",
      "[{'place_id': 68574401, 'licence': 'Data © OpenStreetMap contributors, ODbL 1.0. https://osm.org/copyright', 'osm_type': 'node', 'osm_id': 6437396178, 'boundingbox': ['47.6169026', '47.6170026', '-122.332446', '-122.332346'], 'lat': '47.6169526', 'lon': '-122.332396', 'display_name': 'Mighty O Donuts, Boren Avenue, South Lake Union, First Hill, Seattle, King County, Washington, 98191, United States', 'place_rank': 30, 'category': 'amenity', 'type': 'cafe', 'importance': 1.3300100000000001, 'icon': 'https://nominatim.openstreetmap.org/ui/mapicons/food_cafe.p.20.png'}]\n",
      "[{'place_id': 68574401, 'licence': 'Data © OpenStreetMap contributors, ODbL 1.0. https://osm.org/copyright', 'osm_type': 'node', 'osm_id': 6437396178, 'boundingbox': ['47.6169026', '47.6170026', '-122.332446', '-122.332346'], 'lat': '47.6169526', 'lon': '-122.332396', 'display_name': 'Mighty O Donuts, Boren Avenue, South Lake Union, First Hill, Seattle, King County, Washington, 98191, United States', 'place_rank': 30, 'category': 'amenity', 'type': 'cafe', 'importance': 1.3300100000000001, 'icon': 'https://nominatim.openstreetmap.org/ui/mapicons/food_cafe.p.20.png'}]\n",
      "[{'place_id': 68574401, 'licence': 'Data © OpenStreetMap contributors, ODbL 1.0. https://osm.org/copyright', 'osm_type': 'node', 'osm_id': 6437396178, 'boundingbox': ['47.6169026', '47.6170026', '-122.332446', '-122.332346'], 'lat': '47.6169526', 'lon': '-122.332396', 'display_name': 'Mighty O Donuts, Boren Avenue, South Lake Union, First Hill, Seattle, King County, Washington, 98191, United States', 'place_rank': 30, 'category': 'amenity', 'type': 'cafe', 'importance': 1.3300100000000001, 'icon': 'https://nominatim.openstreetmap.org/ui/mapicons/food_cafe.p.20.png'}]\n"
     ]
    }
   ],
   "source": [
    "#3.5\n",
    "for item in data:\n",
    "    address = place['display_name']\n",
    "    url = (\"http://nominatim.openstreetmap.org/search\")\n",
    "    myParams = {'q' : f\"[cafe] {address}\",\n",
    "                 'format' : 'jsonv2',\n",
    "                 'limit' : '1'}\n",
    "    response = requests.get(url, params=myParams)\n",
    "    if response.status_code == 200:\n",
    "        data = response.json()\n",
    "        print (data)"
   ]
  },
  {
   "cell_type": "code",
   "execution_count": 195,
   "id": "cb08a924",
   "metadata": {},
   "outputs": [
    {
     "name": "stdout",
     "output_type": "stream",
     "text": [
      "[{'place_id': 299365566, 'licence': 'Data © OpenStreetMap contributors, ODbL 1.0. https://osm.org/copyright', 'osm_type': 'relation', 'osm_id': 9994114, 'boundingbox': ['47.6165074', '47.6184599', '-122.3369693', '-122.3344529'], 'lat': '47.61680045', 'lon': '-122.33586595', 'display_name': 'Cornish College of the Arts, Terry Avenue, South Lake Union, First Hill, Seattle, King County, Washington, 98191, United States', 'place_rank': 30, 'category': 'amenity', 'type': 'college', 'importance': 0.6498719574806675, 'icon': 'https://nominatim.openstreetmap.org/ui/mapicons/education_school.p.20.png'}, {'place_id': 21752165, 'licence': 'Data © OpenStreetMap contributors, ODbL 1.0. https://osm.org/copyright', 'osm_type': 'node', 'osm_id': 2439830827, 'boundingbox': ['47.6548977', '47.6549977', '-122.312439', '-122.312339'], 'lat': '47.6549477', 'lon': '-122.312389', 'display_name': 'UW College of Built Environments, 3949, 15th Avenue Northeast, West Campus, University District, Seattle, King County, Washington, 98105, United States', 'place_rank': 30, 'category': 'amenity', 'type': 'college', 'importance': 0.59190327427879, 'icon': 'https://nominatim.openstreetmap.org/ui/mapicons/education_school.p.20.png'}, {'place_id': 145418337, 'licence': 'Data © OpenStreetMap contributors, ODbL 1.0. https://osm.org/copyright', 'osm_type': 'way', 'osm_id': 169786833, 'boundingbox': ['47.6141657', '47.6181591', '-122.3233445', '-122.3201037'], 'lat': '47.61619055', 'lon': '-122.32149768795851', 'display_name': 'Seattle Central College, East Howell Street, Capitol Hill, Seattle, King County, Washington, 98191, United States', 'place_rank': 30, 'category': 'amenity', 'type': 'college', 'importance': 0.570074815609084, 'icon': 'https://nominatim.openstreetmap.org/ui/mapicons/education_school.p.20.png'}, {'place_id': 20277018, 'licence': 'Data © OpenStreetMap contributors, ODbL 1.0. https://osm.org/copyright', 'osm_type': 'node', 'osm_id': 2327652090, 'boundingbox': ['47.6176584', '47.6177584', '-122.3445124', '-122.3444124'], 'lat': '47.6177084', 'lon': '-122.3444624', 'display_name': 'City University of Seattle, 521, Wall Street, South Lake Union, Belltown, Seattle, King County, Washington, 98121, United States', 'place_rank': 30, 'category': 'amenity', 'type': 'college', 'importance': 0.5582184742933953, 'icon': 'https://nominatim.openstreetmap.org/ui/mapicons/education_school.p.20.png'}, {'place_id': 103327928, 'licence': 'Data © OpenStreetMap contributors, ODbL 1.0. https://osm.org/copyright', 'osm_type': 'way', 'osm_id': 9408762, 'boundingbox': ['47.6959864', '47.7031582', '-122.3349353', '-122.3298541'], 'lat': '47.69870805', 'lon': '-122.33255180132647', 'display_name': 'North Seattle College, 9600, College Way North, Licton Springs, Maple Leaf, Seattle, King County, Washington, 98103, United States', 'place_rank': 30, 'category': 'amenity', 'type': 'college', 'importance': 0.5563219431370923, 'icon': 'https://nominatim.openstreetmap.org/ui/mapicons/education_school.p.20.png'}, {'place_id': 113207576, 'licence': 'Data © OpenStreetMap contributors, ODbL 1.0. https://osm.org/copyright', 'osm_type': 'way', 'osm_id': 31706483, 'boundingbox': ['47.5448765', '47.5518401', '-122.3546253', '-122.3492219'], 'lat': '47.548193299999994', 'lon': '-122.35233908228187', 'display_name': 'South Seattle College, 6000, 16th Avenue Southwest, Delridge, Seattle, King County, Washington, 98106, United States', 'place_rank': 30, 'category': 'amenity', 'type': 'college', 'importance': 0.5446986168413893, 'icon': 'https://nominatim.openstreetmap.org/ui/mapicons/education_school.p.20.png'}, {'place_id': 68745701, 'licence': 'Data © OpenStreetMap contributors, ODbL 1.0. https://osm.org/copyright', 'osm_type': 'node', 'osm_id': 6440063074, 'boundingbox': ['47.6217874', '47.6218874', '-122.3505871', '-122.3504871'], 'lat': '47.6218374', 'lon': '-122.3505371', 'display_name': 'Academy of Interactive Entertainment, 305, Harrison Street, Uptown, Belltown, Seattle, King County, Washington, 98109, United States', 'place_rank': 30, 'category': 'amenity', 'type': 'college', 'importance': 0.537293834631607, 'icon': 'https://nominatim.openstreetmap.org/ui/mapicons/education_school.p.20.png'}, {'place_id': 188154379, 'licence': 'Data © OpenStreetMap contributors, ODbL 1.0. https://osm.org/copyright', 'osm_type': 'way', 'osm_id': 342786695, 'boundingbox': ['47.5994914', '47.6002831', '-122.3042098', '-122.3033733'], 'lat': '47.60002405', 'lon': '-122.30376308697222', 'display_name': 'Seattle Vocational Institute, 2120, South Jackson Street, Little Saigon, Central District, Seattle, King County, Washington, 98144, United States', 'place_rank': 30, 'category': 'amenity', 'type': 'college', 'importance': 0.5332286868188654, 'icon': 'https://nominatim.openstreetmap.org/ui/mapicons/education_school.p.20.png'}, {'place_id': 193508482, 'licence': 'Data © OpenStreetMap contributors, ODbL 1.0. https://osm.org/copyright', 'osm_type': 'way', 'osm_id': 372877046, 'boundingbox': ['48.0041801', '48.0076205', '-122.2064658', '-122.1985194'], 'lat': '48.005767000000006', 'lon': '-122.20262859522254', 'display_name': 'Everett Community College, 10th Street, Northwest Everett, Everett, Snohomish County, Washington, 98201, United States', 'place_rank': 30, 'category': 'amenity', 'type': 'college', 'importance': 0.5207354184749959, 'icon': 'https://nominatim.openstreetmap.org/ui/mapicons/education_school.p.20.png'}, {'place_id': 197735727, 'licence': 'Data © OpenStreetMap contributors, ODbL 1.0. https://osm.org/copyright', 'osm_type': 'way', 'osm_id': 397007181, 'boundingbox': ['47.6131121', '47.6135231', '-122.3512647', '-122.3506657'], 'lat': '47.6133176', 'lon': '-122.35096519999999', 'display_name': 'The Seattle School of Theology and Psychology, 2501, Elliott Avenue, Belltown, Seattle, King County, Washington, 98121, United States', 'place_rank': 30, 'category': 'amenity', 'type': 'college', 'importance': 0.48147283909189603, 'icon': 'https://nominatim.openstreetmap.org/ui/mapicons/education_school.p.20.png'}, {'place_id': 186303931, 'licence': 'Data © OpenStreetMap contributors, ODbL 1.0. https://osm.org/copyright', 'osm_type': 'way', 'osm_id': 336485971, 'boundingbox': ['47.5965599', '47.5978044', '-122.3021181', '-122.3013024'], 'lat': '47.59718215', 'lon': '-122.3017103499598', 'display_name': 'Seattle Central College Wood Technology Center, 2310, South Lane Street, Central District, Seattle, King County, Washington, 98144, United States', 'place_rank': 30, 'category': 'amenity', 'type': 'college', 'importance': 0.30001, 'icon': 'https://nominatim.openstreetmap.org/ui/mapicons/education_school.p.20.png'}, {'place_id': 10056907, 'licence': 'Data © OpenStreetMap contributors, ODbL 1.0. https://osm.org/copyright', 'osm_type': 'node', 'osm_id': 1099460871, 'boundingbox': ['47.6779951', '47.6780951', '-122.323528', '-122.323428'], 'lat': '47.6780451', 'lon': '-122.323478', 'display_name': 'Seattle Institute of Oriental Medicine, 444, Northeast Ravenna Boulevard, Meridian, Green Lake, Seattle, King County, Washington, 98115, United States', 'place_rank': 30, 'category': 'amenity', 'type': 'college', 'importance': 0.30001, 'icon': 'https://nominatim.openstreetmap.org/ui/mapicons/education_school.p.20.png'}, {'place_id': 164983833, 'licence': 'Data © OpenStreetMap contributors, ODbL 1.0. https://osm.org/copyright', 'osm_type': 'way', 'osm_id': 239827006, 'boundingbox': ['47.61564', '47.6162752', '-122.3467899', '-122.3457922'], 'lat': '47.6159398', 'lon': '-122.3462752444464', 'display_name': 'Antioch University, 2400, 3rd Avenue, Uptown, Belltown, Seattle, King County, Washington, 98121, United States', 'place_rank': 30, 'category': 'amenity', 'type': 'college', 'importance': 0.30001, 'icon': 'https://nominatim.openstreetmap.org/ui/mapicons/education_school.p.20.png'}, {'place_id': 44912351, 'licence': 'Data © OpenStreetMap contributors, ODbL 1.0. https://osm.org/copyright', 'osm_type': 'node', 'osm_id': 3771319445, 'boundingbox': ['47.6186433', '47.6187433', '-122.3465842', '-122.3464842'], 'lat': '47.6186933', 'lon': '-122.3465342', 'display_name': 'Emerald City School, Denny Way, Uptown, Belltown, Seattle, King County, Washington, 98121, United States', 'place_rank': 30, 'category': 'amenity', 'type': 'college', 'importance': 0.30001, 'icon': 'https://nominatim.openstreetmap.org/ui/mapicons/education_school.p.20.png'}, {'place_id': 99262947, 'licence': 'Data © OpenStreetMap contributors, ODbL 1.0. https://osm.org/copyright', 'osm_type': 'node', 'osm_id': 9837120513, 'boundingbox': ['47.6992497', '47.6993497', '-122.327443', '-122.327343'], 'lat': '47.6992997', 'lon': '-122.327393', 'display_name': 'Pima Medical Institute, 9709, 3rd Avenue Northeast, Maple Leaf, Seattle, King County, Washington, 98115, United States', 'place_rank': 30, 'category': 'amenity', 'type': 'college', 'importance': 0.30001, 'icon': 'https://nominatim.openstreetmap.org/ui/mapicons/education_school.p.20.png'}, {'place_id': 12668666, 'licence': 'Data © OpenStreetMap contributors, ODbL 1.0. https://osm.org/copyright', 'osm_type': 'node', 'osm_id': 1313743670, 'boundingbox': ['47.6475548', '47.6476548', '-122.3408849', '-122.3407849'], 'lat': '47.6476048', 'lon': '-122.3408349', 'display_name': 'Divers Institute of Technology, 1341, North Northlake Way, Fremont, Seattle, King County, Washington, 98103, United States', 'place_rank': 30, 'category': 'amenity', 'type': 'college', 'importance': 0.30001, 'icon': 'https://nominatim.openstreetmap.org/ui/mapicons/education_school.p.20.png'}, {'place_id': 20101117, 'licence': 'Data © OpenStreetMap contributors, ODbL 1.0. https://osm.org/copyright', 'osm_type': 'node', 'osm_id': 2312065990, 'boundingbox': ['47.6229701', '47.6230701', '-122.3374046', '-122.3373046'], 'lat': '47.6230201', 'lon': '-122.3373546', 'display_name': 'Northeastern University, 401, Terry Avenue North, South Lake Union, Belltown, Seattle, King County, Washington, 98109, United States', 'place_rank': 30, 'category': 'amenity', 'type': 'college', 'importance': 0.30001, 'icon': 'https://nominatim.openstreetmap.org/ui/mapicons/education_school.p.20.png'}, {'place_id': 186174416, 'licence': 'Data © OpenStreetMap contributors, ODbL 1.0. https://osm.org/copyright', 'osm_type': 'way', 'osm_id': 336022276, 'boundingbox': ['48.004381', '48.0052424', '-122.195692', '-122.194697'], 'lat': '48.00496075', 'lon': '-122.1949948074967', 'display_name': 'AMTEC, 909, North Broadway Avenue, Northwest Everett, Everett, Snohomish County, Washington, 98201, United States', 'place_rank': 30, 'category': 'amenity', 'type': 'college', 'importance': 0.2001, 'icon': 'https://nominatim.openstreetmap.org/ui/mapicons/education_school.p.20.png'}, {'place_id': 43536412, 'licence': 'Data © OpenStreetMap contributors, ODbL 1.0. https://osm.org/copyright', 'osm_type': 'node', 'osm_id': 3599775988, 'boundingbox': ['48.0013724', '48.0014724', '-122.2170453', '-122.2169453'], 'lat': '48.0014224', 'lon': '-122.2169953', 'display_name': 'Ocean Research College Academy (ORCA), Suite 203, Millwright Loop North, Northwest Everett, Everett, Snohomish County, Washington, 98201, United States', 'place_rank': 30, 'category': 'amenity', 'type': 'college', 'importance': 0.2001, 'icon': 'https://nominatim.openstreetmap.org/ui/mapicons/education_school.p.20.png'}]\n"
     ]
    }
   ],
   "source": [
    "#3.6\n",
    "\n",
    "url = (\"http://nominatim.openstreetmap.org/search\")\n",
    "\n",
    "myParams = {'q' : '[college] in seattle, wa',\n",
    "             'format' : 'jsonv2',\n",
    "             'limit' : '50'}\n",
    "\n",
    "response = requests.get(url, params=myParams)\n",
    "\n",
    "if response.status_code == 200:\n",
    "    data = response.json()\n",
    "    print(data)\n"
   ]
  },
  {
   "cell_type": "code",
   "execution_count": 196,
   "id": "a0e9298a",
   "metadata": {},
   "outputs": [
    {
     "name": "stdout",
     "output_type": "stream",
     "text": [
      "Cornish College of the Arts, Terry Avenue, South Lake Union, First Hill, Seattle, King County, Washington, 98191, United States\n",
      "UW College of Built Environments, 3949, 15th Avenue Northeast, West Campus, University District, Seattle, King County, Washington, 98105, United States\n",
      "Seattle Central College, East Howell Street, Capitol Hill, Seattle, King County, Washington, 98191, United States\n",
      "City University of Seattle, 521, Wall Street, South Lake Union, Belltown, Seattle, King County, Washington, 98121, United States\n",
      "North Seattle College, 9600, College Way North, Licton Springs, Maple Leaf, Seattle, King County, Washington, 98103, United States\n",
      "South Seattle College, 6000, 16th Avenue Southwest, Delridge, Seattle, King County, Washington, 98106, United States\n",
      "Academy of Interactive Entertainment, 305, Harrison Street, Uptown, Belltown, Seattle, King County, Washington, 98109, United States\n",
      "Seattle Vocational Institute, 2120, South Jackson Street, Little Saigon, Central District, Seattle, King County, Washington, 98144, United States\n",
      "Everett Community College, 10th Street, Northwest Everett, Everett, Snohomish County, Washington, 98201, United States\n",
      "The Seattle School of Theology and Psychology, 2501, Elliott Avenue, Belltown, Seattle, King County, Washington, 98121, United States\n",
      "Seattle Central College Wood Technology Center, 2310, South Lane Street, Central District, Seattle, King County, Washington, 98144, United States\n",
      "Seattle Institute of Oriental Medicine, 444, Northeast Ravenna Boulevard, Meridian, Green Lake, Seattle, King County, Washington, 98115, United States\n",
      "Antioch University, 2400, 3rd Avenue, Uptown, Belltown, Seattle, King County, Washington, 98121, United States\n",
      "Emerald City School, Denny Way, Uptown, Belltown, Seattle, King County, Washington, 98121, United States\n",
      "Pima Medical Institute, 9709, 3rd Avenue Northeast, Maple Leaf, Seattle, King County, Washington, 98115, United States\n",
      "Divers Institute of Technology, 1341, North Northlake Way, Fremont, Seattle, King County, Washington, 98103, United States\n",
      "Northeastern University, 401, Terry Avenue North, South Lake Union, Belltown, Seattle, King County, Washington, 98109, United States\n",
      "AMTEC, 909, North Broadway Avenue, Northwest Everett, Everett, Snohomish County, Washington, 98201, United States\n",
      "Ocean Research College Academy (ORCA), Suite 203, Millwright Loop North, Northwest Everett, Everett, Snohomish County, Washington, 98201, United States\n"
     ]
    }
   ],
   "source": [
    "for item in data:\n",
    "    print(item['display_name'])"
   ]
  },
  {
   "cell_type": "code",
   "execution_count": 168,
   "id": "d1ec20cd",
   "metadata": {},
   "outputs": [
    {
     "name": "stdout",
     "output_type": "stream",
     "text": [
      "[{'place_id': 299365566, 'licence': 'Data © OpenStreetMap contributors, ODbL 1.0. https://osm.org/copyright', 'osm_type': 'relation', 'osm_id': 9994114, 'boundingbox': ['47.6165074', '47.6184599', '-122.3369693', '-122.3344529'], 'lat': '47.61680045', 'lon': '-122.33586595', 'display_name': 'Cornish College of the Arts, Terry Avenue, South Lake Union, First Hill, Seattle, King County, Washington, 98191, United States', 'place_rank': 30, 'category': 'amenity', 'type': 'college', 'importance': 0.6498719574806675, 'icon': 'https://nominatim.openstreetmap.org/ui/mapicons/education_school.p.20.png', 'address': {'amenity': 'Cornish College of the Arts', 'road': 'Terry Avenue', 'neighbourhood': 'South Lake Union', 'suburb': 'First Hill', 'city': 'Seattle', 'county': 'King County', 'state': 'Washington', 'ISO3166-2-lvl4': 'US-WA', 'postcode': '98191', 'country': 'United States', 'country_code': 'us'}}, {'place_id': 21752165, 'licence': 'Data © OpenStreetMap contributors, ODbL 1.0. https://osm.org/copyright', 'osm_type': 'node', 'osm_id': 2439830827, 'boundingbox': ['47.6548977', '47.6549977', '-122.312439', '-122.312339'], 'lat': '47.6549477', 'lon': '-122.312389', 'display_name': 'UW College of Built Environments, 3949, 15th Avenue Northeast, West Campus, University District, Seattle, King County, Washington, 98105, United States', 'place_rank': 30, 'category': 'amenity', 'type': 'college', 'importance': 0.59190327427879, 'icon': 'https://nominatim.openstreetmap.org/ui/mapicons/education_school.p.20.png', 'address': {'amenity': 'UW College of Built Environments', 'house_number': '3949', 'road': '15th Avenue Northeast', 'neighbourhood': 'West Campus', 'suburb': 'University District', 'city': 'Seattle', 'county': 'King County', 'state': 'Washington', 'ISO3166-2-lvl4': 'US-WA', 'postcode': '98105', 'country': 'United States', 'country_code': 'us'}}, {'place_id': 145418337, 'licence': 'Data © OpenStreetMap contributors, ODbL 1.0. https://osm.org/copyright', 'osm_type': 'way', 'osm_id': 169786833, 'boundingbox': ['47.6141657', '47.6181591', '-122.3233445', '-122.3201037'], 'lat': '47.61619055', 'lon': '-122.32149768795851', 'display_name': 'Seattle Central College, East Howell Street, Capitol Hill, Seattle, King County, Washington, 98191, United States', 'place_rank': 30, 'category': 'amenity', 'type': 'college', 'importance': 0.570074815609084, 'icon': 'https://nominatim.openstreetmap.org/ui/mapicons/education_school.p.20.png', 'address': {'amenity': 'Seattle Central College', 'road': 'East Howell Street', 'suburb': 'Capitol Hill', 'city': 'Seattle', 'county': 'King County', 'state': 'Washington', 'ISO3166-2-lvl4': 'US-WA', 'postcode': '98191', 'country': 'United States', 'country_code': 'us'}}, {'place_id': 20277018, 'licence': 'Data © OpenStreetMap contributors, ODbL 1.0. https://osm.org/copyright', 'osm_type': 'node', 'osm_id': 2327652090, 'boundingbox': ['47.6176584', '47.6177584', '-122.3445124', '-122.3444124'], 'lat': '47.6177084', 'lon': '-122.3444624', 'display_name': 'City University of Seattle, 521, Wall Street, South Lake Union, Belltown, Seattle, King County, Washington, 98121, United States', 'place_rank': 30, 'category': 'amenity', 'type': 'college', 'importance': 0.5582184742933953, 'icon': 'https://nominatim.openstreetmap.org/ui/mapicons/education_school.p.20.png', 'address': {'amenity': 'City University of Seattle', 'house_number': '521', 'road': 'Wall Street', 'neighbourhood': 'South Lake Union', 'suburb': 'Belltown', 'city': 'Seattle', 'county': 'King County', 'state': 'Washington', 'ISO3166-2-lvl4': 'US-WA', 'postcode': '98121', 'country': 'United States', 'country_code': 'us'}}, {'place_id': 103327928, 'licence': 'Data © OpenStreetMap contributors, ODbL 1.0. https://osm.org/copyright', 'osm_type': 'way', 'osm_id': 9408762, 'boundingbox': ['47.6959864', '47.7031582', '-122.3349353', '-122.3298541'], 'lat': '47.69870805', 'lon': '-122.33255180132647', 'display_name': 'North Seattle College, 9600, College Way North, Licton Springs, Maple Leaf, Seattle, King County, Washington, 98103, United States', 'place_rank': 30, 'category': 'amenity', 'type': 'college', 'importance': 0.5563219431370923, 'icon': 'https://nominatim.openstreetmap.org/ui/mapicons/education_school.p.20.png', 'address': {'amenity': 'North Seattle College', 'house_number': '9600', 'road': 'College Way North', 'neighbourhood': 'Licton Springs', 'suburb': 'Maple Leaf', 'city': 'Seattle', 'county': 'King County', 'state': 'Washington', 'ISO3166-2-lvl4': 'US-WA', 'postcode': '98103', 'country': 'United States', 'country_code': 'us'}}, {'place_id': 113207576, 'licence': 'Data © OpenStreetMap contributors, ODbL 1.0. https://osm.org/copyright', 'osm_type': 'way', 'osm_id': 31706483, 'boundingbox': ['47.5448765', '47.5518401', '-122.3546253', '-122.3492219'], 'lat': '47.548193299999994', 'lon': '-122.35233908228187', 'display_name': 'South Seattle College, 6000, 16th Avenue Southwest, Delridge, Seattle, King County, Washington, 98106, United States', 'place_rank': 30, 'category': 'amenity', 'type': 'college', 'importance': 0.5446986168413893, 'icon': 'https://nominatim.openstreetmap.org/ui/mapicons/education_school.p.20.png', 'address': {'amenity': 'South Seattle College', 'house_number': '6000', 'road': '16th Avenue Southwest', 'suburb': 'Delridge', 'city': 'Seattle', 'county': 'King County', 'state': 'Washington', 'ISO3166-2-lvl4': 'US-WA', 'postcode': '98106', 'country': 'United States', 'country_code': 'us'}}, {'place_id': 68745701, 'licence': 'Data © OpenStreetMap contributors, ODbL 1.0. https://osm.org/copyright', 'osm_type': 'node', 'osm_id': 6440063074, 'boundingbox': ['47.6217874', '47.6218874', '-122.3505871', '-122.3504871'], 'lat': '47.6218374', 'lon': '-122.3505371', 'display_name': 'Academy of Interactive Entertainment, 305, Harrison Street, Uptown, Belltown, Seattle, King County, Washington, 98109, United States', 'place_rank': 30, 'category': 'amenity', 'type': 'college', 'importance': 0.537293834631607, 'icon': 'https://nominatim.openstreetmap.org/ui/mapicons/education_school.p.20.png', 'address': {'amenity': 'Academy of Interactive Entertainment', 'house_number': '305', 'road': 'Harrison Street', 'neighbourhood': 'Uptown', 'suburb': 'Belltown', 'city': 'Seattle', 'county': 'King County', 'state': 'Washington', 'ISO3166-2-lvl4': 'US-WA', 'postcode': '98109', 'country': 'United States', 'country_code': 'us'}}, {'place_id': 188154379, 'licence': 'Data © OpenStreetMap contributors, ODbL 1.0. https://osm.org/copyright', 'osm_type': 'way', 'osm_id': 342786695, 'boundingbox': ['47.5994914', '47.6002831', '-122.3042098', '-122.3033733'], 'lat': '47.60002405', 'lon': '-122.30376308697222', 'display_name': 'Seattle Vocational Institute, 2120, South Jackson Street, Little Saigon, Central District, Seattle, King County, Washington, 98144, United States', 'place_rank': 30, 'category': 'amenity', 'type': 'college', 'importance': 0.5332286868188654, 'icon': 'https://nominatim.openstreetmap.org/ui/mapicons/education_school.p.20.png', 'address': {'amenity': 'Seattle Vocational Institute', 'house_number': '2120', 'road': 'South Jackson Street', 'neighbourhood': 'Little Saigon', 'suburb': 'Central District', 'city': 'Seattle', 'county': 'King County', 'state': 'Washington', 'ISO3166-2-lvl4': 'US-WA', 'postcode': '98144', 'country': 'United States', 'country_code': 'us'}}, {'place_id': 193508482, 'licence': 'Data © OpenStreetMap contributors, ODbL 1.0. https://osm.org/copyright', 'osm_type': 'way', 'osm_id': 372877046, 'boundingbox': ['48.0041801', '48.0076205', '-122.2064658', '-122.1985194'], 'lat': '48.005767000000006', 'lon': '-122.20262859522254', 'display_name': 'Everett Community College, 10th Street, Northwest Everett, Everett, Snohomish County, Washington, 98201, United States', 'place_rank': 30, 'category': 'amenity', 'type': 'college', 'importance': 0.5207354184749959, 'icon': 'https://nominatim.openstreetmap.org/ui/mapicons/education_school.p.20.png', 'address': {'amenity': 'Everett Community College', 'road': '10th Street', 'suburb': 'Northwest Everett', 'city': 'Everett', 'county': 'Snohomish County', 'state': 'Washington', 'ISO3166-2-lvl4': 'US-WA', 'postcode': '98201', 'country': 'United States', 'country_code': 'us'}}, {'place_id': 197735727, 'licence': 'Data © OpenStreetMap contributors, ODbL 1.0. https://osm.org/copyright', 'osm_type': 'way', 'osm_id': 397007181, 'boundingbox': ['47.6131121', '47.6135231', '-122.3512647', '-122.3506657'], 'lat': '47.6133176', 'lon': '-122.35096519999999', 'display_name': 'The Seattle School of Theology and Psychology, 2501, Elliott Avenue, Belltown, Seattle, King County, Washington, 98121, United States', 'place_rank': 30, 'category': 'amenity', 'type': 'college', 'importance': 0.48147283909189603, 'icon': 'https://nominatim.openstreetmap.org/ui/mapicons/education_school.p.20.png', 'address': {'amenity': 'The Seattle School of Theology and Psychology', 'house_number': '2501', 'road': 'Elliott Avenue', 'suburb': 'Belltown', 'city': 'Seattle', 'county': 'King County', 'state': 'Washington', 'ISO3166-2-lvl4': 'US-WA', 'postcode': '98121', 'country': 'United States', 'country_code': 'us'}}, {'place_id': 186303931, 'licence': 'Data © OpenStreetMap contributors, ODbL 1.0. https://osm.org/copyright', 'osm_type': 'way', 'osm_id': 336485971, 'boundingbox': ['47.5965599', '47.5978044', '-122.3021181', '-122.3013024'], 'lat': '47.59718215', 'lon': '-122.3017103499598', 'display_name': 'Seattle Central College Wood Technology Center, 2310, South Lane Street, Central District, Seattle, King County, Washington, 98144, United States', 'place_rank': 30, 'category': 'amenity', 'type': 'college', 'importance': 0.30001, 'icon': 'https://nominatim.openstreetmap.org/ui/mapicons/education_school.p.20.png', 'address': {'amenity': 'Seattle Central College Wood Technology Center', 'house_number': '2310', 'road': 'South Lane Street', 'suburb': 'Central District', 'city': 'Seattle', 'county': 'King County', 'state': 'Washington', 'ISO3166-2-lvl4': 'US-WA', 'postcode': '98144', 'country': 'United States', 'country_code': 'us'}}, {'place_id': 10056907, 'licence': 'Data © OpenStreetMap contributors, ODbL 1.0. https://osm.org/copyright', 'osm_type': 'node', 'osm_id': 1099460871, 'boundingbox': ['47.6779951', '47.6780951', '-122.323528', '-122.323428'], 'lat': '47.6780451', 'lon': '-122.323478', 'display_name': 'Seattle Institute of Oriental Medicine, 444, Northeast Ravenna Boulevard, Meridian, Green Lake, Seattle, King County, Washington, 98115, United States', 'place_rank': 30, 'category': 'amenity', 'type': 'college', 'importance': 0.30001, 'icon': 'https://nominatim.openstreetmap.org/ui/mapicons/education_school.p.20.png', 'address': {'amenity': 'Seattle Institute of Oriental Medicine', 'house_number': '444', 'road': 'Northeast Ravenna Boulevard', 'neighbourhood': 'Meridian', 'suburb': 'Green Lake', 'city': 'Seattle', 'county': 'King County', 'state': 'Washington', 'ISO3166-2-lvl4': 'US-WA', 'postcode': '98115', 'country': 'United States', 'country_code': 'us'}}, {'place_id': 164983833, 'licence': 'Data © OpenStreetMap contributors, ODbL 1.0. https://osm.org/copyright', 'osm_type': 'way', 'osm_id': 239827006, 'boundingbox': ['47.61564', '47.6162752', '-122.3467899', '-122.3457922'], 'lat': '47.6159398', 'lon': '-122.3462752444464', 'display_name': 'Antioch University, 2400, 3rd Avenue, Uptown, Belltown, Seattle, King County, Washington, 98121, United States', 'place_rank': 30, 'category': 'amenity', 'type': 'college', 'importance': 0.30001, 'icon': 'https://nominatim.openstreetmap.org/ui/mapicons/education_school.p.20.png', 'address': {'amenity': 'Antioch University', 'house_number': '2400', 'road': '3rd Avenue', 'neighbourhood': 'Uptown', 'suburb': 'Belltown', 'city': 'Seattle', 'county': 'King County', 'state': 'Washington', 'ISO3166-2-lvl4': 'US-WA', 'postcode': '98121', 'country': 'United States', 'country_code': 'us'}}, {'place_id': 44912351, 'licence': 'Data © OpenStreetMap contributors, ODbL 1.0. https://osm.org/copyright', 'osm_type': 'node', 'osm_id': 3771319445, 'boundingbox': ['47.6186433', '47.6187433', '-122.3465842', '-122.3464842'], 'lat': '47.6186933', 'lon': '-122.3465342', 'display_name': 'Emerald City School, Denny Way, Uptown, Belltown, Seattle, King County, Washington, 98121, United States', 'place_rank': 30, 'category': 'amenity', 'type': 'college', 'importance': 0.30001, 'icon': 'https://nominatim.openstreetmap.org/ui/mapicons/education_school.p.20.png', 'address': {'amenity': 'Emerald City School', 'road': 'Denny Way', 'neighbourhood': 'Uptown', 'suburb': 'Belltown', 'city': 'Seattle', 'county': 'King County', 'state': 'Washington', 'ISO3166-2-lvl4': 'US-WA', 'postcode': '98121', 'country': 'United States', 'country_code': 'us'}}, {'place_id': 99262947, 'licence': 'Data © OpenStreetMap contributors, ODbL 1.0. https://osm.org/copyright', 'osm_type': 'node', 'osm_id': 9837120513, 'boundingbox': ['47.6992497', '47.6993497', '-122.327443', '-122.327343'], 'lat': '47.6992997', 'lon': '-122.327393', 'display_name': 'Pima Medical Institute, 9709, 3rd Avenue Northeast, Maple Leaf, Seattle, King County, Washington, 98115, United States', 'place_rank': 30, 'category': 'amenity', 'type': 'college', 'importance': 0.30001, 'icon': 'https://nominatim.openstreetmap.org/ui/mapicons/education_school.p.20.png', 'address': {'amenity': 'Pima Medical Institute', 'house_number': '9709', 'road': '3rd Avenue Northeast', 'suburb': 'Maple Leaf', 'city': 'Seattle', 'county': 'King County', 'state': 'Washington', 'ISO3166-2-lvl4': 'US-WA', 'postcode': '98115', 'country': 'United States', 'country_code': 'us'}}, {'place_id': 12668666, 'licence': 'Data © OpenStreetMap contributors, ODbL 1.0. https://osm.org/copyright', 'osm_type': 'node', 'osm_id': 1313743670, 'boundingbox': ['47.6475548', '47.6476548', '-122.3408849', '-122.3407849'], 'lat': '47.6476048', 'lon': '-122.3408349', 'display_name': 'Divers Institute of Technology, 1341, North Northlake Way, Fremont, Seattle, King County, Washington, 98103, United States', 'place_rank': 30, 'category': 'amenity', 'type': 'college', 'importance': 0.30001, 'icon': 'https://nominatim.openstreetmap.org/ui/mapicons/education_school.p.20.png', 'address': {'amenity': 'Divers Institute of Technology', 'house_number': '1341', 'road': 'North Northlake Way', 'suburb': 'Fremont', 'city': 'Seattle', 'county': 'King County', 'state': 'Washington', 'ISO3166-2-lvl4': 'US-WA', 'postcode': '98103', 'country': 'United States', 'country_code': 'us'}}, {'place_id': 20101117, 'licence': 'Data © OpenStreetMap contributors, ODbL 1.0. https://osm.org/copyright', 'osm_type': 'node', 'osm_id': 2312065990, 'boundingbox': ['47.6229701', '47.6230701', '-122.3374046', '-122.3373046'], 'lat': '47.6230201', 'lon': '-122.3373546', 'display_name': 'Northeastern University, 401, Terry Avenue North, South Lake Union, Belltown, Seattle, King County, Washington, 98109, United States', 'place_rank': 30, 'category': 'amenity', 'type': 'college', 'importance': 0.30001, 'icon': 'https://nominatim.openstreetmap.org/ui/mapicons/education_school.p.20.png', 'address': {'amenity': 'Northeastern University', 'house_number': '401', 'road': 'Terry Avenue North', 'neighbourhood': 'South Lake Union', 'suburb': 'Belltown', 'city': 'Seattle', 'county': 'King County', 'state': 'Washington', 'ISO3166-2-lvl4': 'US-WA', 'postcode': '98109', 'country': 'United States', 'country_code': 'us'}}, {'place_id': 186174416, 'licence': 'Data © OpenStreetMap contributors, ODbL 1.0. https://osm.org/copyright', 'osm_type': 'way', 'osm_id': 336022276, 'boundingbox': ['48.004381', '48.0052424', '-122.195692', '-122.194697'], 'lat': '48.00496075', 'lon': '-122.1949948074967', 'display_name': 'AMTEC, 909, North Broadway Avenue, Northwest Everett, Everett, Snohomish County, Washington, 98201, United States', 'place_rank': 30, 'category': 'amenity', 'type': 'college', 'importance': 0.2001, 'icon': 'https://nominatim.openstreetmap.org/ui/mapicons/education_school.p.20.png', 'address': {'amenity': 'AMTEC', 'house_number': '909', 'road': 'North Broadway Avenue', 'suburb': 'Northwest Everett', 'city': 'Everett', 'county': 'Snohomish County', 'state': 'Washington', 'ISO3166-2-lvl4': 'US-WA', 'postcode': '98201', 'country': 'United States', 'country_code': 'us'}}, {'place_id': 43536412, 'licence': 'Data © OpenStreetMap contributors, ODbL 1.0. https://osm.org/copyright', 'osm_type': 'node', 'osm_id': 3599775988, 'boundingbox': ['48.0013724', '48.0014724', '-122.2170453', '-122.2169453'], 'lat': '48.0014224', 'lon': '-122.2169953', 'display_name': 'Ocean Research College Academy (ORCA), Suite 203, Millwright Loop North, Northwest Everett, Everett, Snohomish County, Washington, 98201, United States', 'place_rank': 30, 'category': 'amenity', 'type': 'college', 'importance': 0.2001, 'icon': 'https://nominatim.openstreetmap.org/ui/mapicons/education_school.p.20.png', 'address': {'amenity': 'Ocean Research College Academy (ORCA)', 'house_number': 'Suite 203', 'road': 'Millwright Loop North', 'suburb': 'Northwest Everett', 'city': 'Everett', 'county': 'Snohomish County', 'state': 'Washington', 'ISO3166-2-lvl4': 'US-WA', 'postcode': '98201', 'country': 'United States', 'country_code': 'us'}}]\n"
     ]
    }
   ],
   "source": [
    "#3.6\n",
    "url = (\"http://nominatim.openstreetmap.org/search\")\n",
    "\n",
    "my_params = {'q' : '[college] in seattle, wa',\n",
    "             'addressdetails' : '1',\n",
    "             'format' : 'jsonv2',\n",
    "             'limit' : '50'}\n",
    "\n",
    "response = requests.get(url, params=my_params)\n",
    "\n",
    "if response.status_code == 200:\n",
    "    data = response.json()\n",
    "    print(data)"
   ]
  },
  {
   "cell_type": "code",
   "execution_count": 175,
   "id": "2c8388dd",
   "metadata": {},
   "outputs": [
    {
     "ename": "NameError",
     "evalue": "name 'country_code' is not defined",
     "output_type": "error",
     "traceback": [
      "\u001b[0;31m---------------------------------------------------------------------------\u001b[0m",
      "\u001b[0;31mNameError\u001b[0m                                 Traceback (most recent call last)",
      "Cell \u001b[0;32mIn[175], line 2\u001b[0m\n\u001b[1;32m      1\u001b[0m \u001b[38;5;28;01mfor\u001b[39;00m item \u001b[38;5;129;01min\u001b[39;00m data:\n\u001b[0;32m----> 2\u001b[0m     \u001b[38;5;28mprint\u001b[39m(item[\u001b[43mcountry_code\u001b[49m])\n",
      "\u001b[0;31mNameError\u001b[0m: name 'country_code' is not defined"
     ]
    }
   ],
   "source": [
    "3.6-2"
   ]
  },
  {
   "cell_type": "code",
   "execution_count": 176,
   "id": "d82d8e81",
   "metadata": {},
   "outputs": [],
   "source": [
    "with open(\"college_locations.tsv\", \"w\") as my_file:\n",
    "    print(\"College\\tLatitude\\tLongitude\", file=my_file)\n",
    "    for college in data:\n",
    "        print(college['display_name'],college['lat'],college['lon'], file =my_file)\n",
    "\n",
    "\n"
   ]
  },
  {
   "cell_type": "code",
   "execution_count": null,
   "id": "f855a278",
   "metadata": {},
   "outputs": [],
   "source": []
  }
 ],
 "metadata": {
  "kernelspec": {
   "display_name": "Python 3 (ipykernel)",
   "language": "python",
   "name": "python3"
  },
  "language_info": {
   "codemirror_mode": {
    "name": "ipython",
    "version": 3
   },
   "file_extension": ".py",
   "mimetype": "text/x-python",
   "name": "python",
   "nbconvert_exporter": "python",
   "pygments_lexer": "ipython3",
   "version": "3.10.9"
  }
 },
 "nbformat": 4,
 "nbformat_minor": 5
}
