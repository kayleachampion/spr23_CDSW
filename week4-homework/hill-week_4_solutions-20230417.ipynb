{
 "cells": [
  {
   "cell_type": "code",
   "execution_count": 1,
   "id": "7103fe30",
   "metadata": {},
   "outputs": [],
   "source": [
    "import requests"
   ]
  },
  {
   "cell_type": "markdown",
   "id": "fb199c27",
   "metadata": {},
   "source": [
    "## 1 Bored API\n",
    "\n",
    "###  Write some Python code to use the API to get a free activity that I could do with my partner. Turn the data from the API into a sentence that tells me the activity, its accessibility, and its price."
   ]
  },
  {
   "cell_type": "code",
   "execution_count": 2,
   "id": "8456e7a2",
   "metadata": {},
   "outputs": [
    {
     "name": "stdout",
     "output_type": "stream",
     "text": [
      "You could try: 'Play a game of tennis with a friend' which has a price score of 0.1 and an accessibility score of 0.1'.\n"
     ]
    }
   ],
   "source": [
    "url = \"https://www.boredapi.com/api/activity/\"\n",
    "parameters = {'participants' : 2}\n",
    "\n",
    "response = requests.get(url, params=parameters)\n",
    "if response.status_code == 200:\n",
    "    data = response.json()\n",
    "    print(f\"You could try: '{data['activity']}' which has a price score of {data['price']} and an accessibility score of {data['price']}'.\")\n",
    "else:\n",
    "    print(\"ERROR: request was not successful\")"
   ]
  },
  {
   "cell_type": "markdown",
   "id": "e4954c6c",
   "metadata": {},
   "source": [
    "### Extend that code so that it gets me 5 activities and have it write a nicely formatted output."
   ]
  },
  {
   "cell_type": "code",
   "execution_count": 3,
   "id": "55a976f4",
   "metadata": {},
   "outputs": [
    {
     "name": "stdout",
     "output_type": "stream",
     "text": [
      "{'activity': 'Cook something together with someone', 'type': 'cooking', 'participants': 2, 'price': 0.3, 'link': '', 'key': '1799120', 'accessibility': 0.8}\n",
      "You could try: 'Cook something together with someone' which has a price score of 0.3 and an accessibility score of 0.3'.\n",
      "{'activity': 'Catch up with a friend over a lunch date', 'type': 'social', 'participants': 2, 'price': 0.2, 'link': '', 'key': '5590133', 'accessibility': 0.15}\n",
      "You could try: 'Catch up with a friend over a lunch date' which has a price score of 0.2 and an accessibility score of 0.2'.\n",
      "{'activity': 'Go swimming with a friend', 'type': 'social', 'participants': 2, 'price': 0.1, 'link': '', 'key': '1505028', 'accessibility': 0.1}\n",
      "You could try: 'Go swimming with a friend' which has a price score of 0.1 and an accessibility score of 0.1'.\n",
      "{'activity': 'Compliment someone', 'type': 'social', 'participants': 2, 'price': 0, 'link': '', 'key': '9149470', 'accessibility': 0}\n",
      "You could try: 'Compliment someone' which has a price score of 0 and an accessibility score of 0'.\n",
      "{'activity': \"Text a friend you haven't talked to in a long time\", 'type': 'social', 'participants': 2, 'price': 0.05, 'link': '', 'key': '6081071', 'accessibility': 0.2}\n",
      "You could try: 'Text a friend you haven't talked to in a long time' which has a price score of 0.05 and an accessibility score of 0.05'.\n"
     ]
    }
   ],
   "source": [
    "for i in [1,2,3,4,5]:\n",
    "    response = requests.get(url, params=parameters)\n",
    "    if response.status_code == 200:\n",
    "        data = response.json()\n",
    "        print(data)\n",
    "        print(f\"You could try: '{data['activity']}' which has a price score of {data['price']} and an accessibility score of {data['price']}'.\")\n",
    "    else:\n",
    "        print(\"ERROR: request was not successful\")"
   ]
  },
  {
   "cell_type": "markdown",
   "id": "4a2efb65",
   "metadata": {},
   "source": [
    "### First, get a totally random activity from the API. Print it out, along with its activity type. Now get me another activity that's of the same type as the first random activity. Print it out too, plus its activity type (to check that they're the same)."
   ]
  },
  {
   "cell_type": "code",
   "execution_count": 4,
   "id": "8c71c4d6",
   "metadata": {},
   "outputs": [
    {
     "name": "stdout",
     "output_type": "stream",
     "text": [
      "Binge watch a trending series : recreational\n",
      "Make your own LEGO creation : recreational\n"
     ]
    }
   ],
   "source": [
    "parameters = {}\n",
    "response = requests.get(url, params=parameters)\n",
    "if response.status_code == 200:\n",
    "    data = response.json()\n",
    "    print(data['activity'], \":\", data['type'])\n",
    "else:\n",
    "    print(\"ERROR: request was not successful\")\n",
    "\n",
    "parameters['type'] = data['type']\n",
    "response = requests.get(url, params=parameters)\n",
    "if response.status_code == 200:\n",
    "    data = response.json()\n",
    "    print(data['activity'], \":\", data['type'])\n",
    "else:\n",
    "    print(\"ERROR: request was not successful\")\n"
   ]
  },
  {
   "cell_type": "markdown",
   "id": "88ae2c57",
   "metadata": {},
   "source": [
    "### Write a Python program that prints out one random activity of each type that the Bored API supports. (See if you can use a loop for this!)"
   ]
  },
  {
   "cell_type": "code",
   "execution_count": 5,
   "id": "969e15f6",
   "metadata": {},
   "outputs": [
    {
     "name": "stdout",
     "output_type": "stream",
     "text": [
      "Start a webinar on a topic of your choice : education\n",
      "Fill out a basketball bracket : recreational\n",
      "Have a picnic with some friends : social\n",
      "Fix something that's broken in your house : diy\n",
      "Contribute code or a monetary donation to an open-source software project : charity\n",
      "Create a meal plan for the coming week : cooking\n",
      "Meditate for five minutes : relaxation\n",
      "Write a song : music\n",
      "Resolve a problem you've been putting off : busywork\n"
     ]
    }
   ],
   "source": [
    "all_types = [\"education\", \"recreational\", \"social\", \"diy\", \"charity\", \"cooking\", \"relaxation\", \"music\", \"busywork\"]\n",
    "\n",
    "parameters = {}\n",
    "for index in [0,1,2,3,4,5,6,7,8]:\n",
    "    parameters['type'] = all_types[index]\n",
    "    response = requests.get(url, params=parameters)\n",
    "    if response.status_code == 200:\n",
    "        data = response.json()\n",
    "        print(data['activity'], \":\", data['type'])\n",
    "    else:\n",
    "        print(\"ERROR: request was not successful\")"
   ]
  },
  {
   "cell_type": "markdown",
   "id": "901b5d88",
   "metadata": {},
   "source": [
    "## 2 Learning a new API\n",
    "\n",
    "In this exercise, I want to you to practice learning to use a new API and practice reading some API documentation. We're going to start with the Dog API which is online at: https://dogapi.dog\n",
    "\n",
    "### Visit the Dog API website and read the API documentation\n",
    "### Write a URL that will return a dog fact"
   ]
  },
  {
   "cell_type": "code",
   "execution_count": 6,
   "id": "41e4aa9a",
   "metadata": {},
   "outputs": [
    {
     "name": "stdout",
     "output_type": "stream",
     "text": [
      "{'data': [{'id': 'ff606311-a8a3-438f-8891-eef2113152a0', 'type': 'fact', 'attributes': {'body': 'There are about 400 million dogs in the world.'}}]}\n"
     ]
    }
   ],
   "source": [
    "url = \"https://dogapi.dog/api/v2/facts\"\n",
    "\n",
    "response = requests.get(url)\n",
    "if response.status_code == 200:\n",
    "    data = response.json()\n",
    "    print(data)\n",
    "else:\n",
    "    print(\"ERROR: request was not successful\")"
   ]
  },
  {
   "cell_type": "code",
   "execution_count": 7,
   "id": "08841167",
   "metadata": {},
   "outputs": [
    {
     "name": "stdout",
     "output_type": "stream",
     "text": [
      "There are about 400 million dogs in the world.\n"
     ]
    }
   ],
   "source": [
    "# lets print it in a cleaned up form\n",
    "print(data['data'][0]['attributes']['body'])"
   ]
  },
  {
   "cell_type": "markdown",
   "id": "b674561e",
   "metadata": {},
   "source": [
    "### Write a single URL that will return 5 dog facts"
   ]
  },
  {
   "cell_type": "code",
   "execution_count": 8,
   "id": "fdf71a64",
   "metadata": {},
   "outputs": [
    {
     "name": "stdout",
     "output_type": "stream",
     "text": [
      "dog fact #1:  Dogs can be taught to count and solve simple math problems.\n",
      "dog fact #2:  Dog nose prints are as unique as human finger prints and can be used to identify them.\n",
      "dog fact #3:  The largest breed of dog is the Irish Wolfhound.\n",
      "dog fact #4:  The world’s smallest dog breed is the Chihuahua.\n",
      "dog fact #5:  The world's smallest dog was a Chihuahua named Miracle Milly, who weighed only 1.1 pounds.\n"
     ]
    }
   ],
   "source": [
    "url = \"https://dogapi.dog/api/v2/facts?limit=5\"\n",
    "\n",
    "response = requests.get(url)\n",
    "if response.status_code == 200:\n",
    "    data = response.json()\n",
    "    counter = 1\n",
    "    for dog_fact in data['data']:\n",
    "        print(f\"dog fact #{counter}: \", dog_fact['attributes']['body'])\n",
    "        counter += 1\n",
    "else:\n",
    "    print(\"ERROR: request was not successful\")"
   ]
  },
  {
   "cell_type": "markdown",
   "id": "ea228af2",
   "metadata": {},
   "source": [
    "### Take your code to request a single dog fact and put into a Python program that uses requests.get() and passes in parameters with the params= argument."
   ]
  },
  {
   "cell_type": "code",
   "execution_count": 9,
   "id": "e9d203ae",
   "metadata": {},
   "outputs": [
    {
     "name": "stdout",
     "output_type": "stream",
     "text": [
      "dog fact #1:  Dogs often bury bones so that they can dig them up at some moment in the future when they are hungry.\n"
     ]
    }
   ],
   "source": [
    "url = \"https://dogapi.dog/api/v2/facts\"\n",
    "parameters = { 'limit' : 1}\n",
    "\n",
    "response = requests.get(url, params=parameters)\n",
    "if response.status_code == 200:\n",
    "    data = response.json()\n",
    "    counter = 1\n",
    "    for dog_fact in data['data']:\n",
    "        print(f\"dog fact #{counter}: \", dog_fact['attributes']['body'])\n",
    "        counter += 1\n",
    "else:\n",
    "    print(\"ERROR: request was not successful\")"
   ]
  },
  {
   "cell_type": "markdown",
   "id": "1466f690",
   "metadata": {},
   "source": [
    "### Finally, write a for loop that gets 5 sets of facts 5 times (you can just try something like for number in [1,2,3,4,5], downloads the lists of dog facts, and then writes out a new tab-separated values (TSV) file with columns: (1) ID of the dog fact, and (2) the fact itself!"
   ]
  },
  {
   "cell_type": "code",
   "execution_count": 10,
   "id": "c818e560",
   "metadata": {},
   "outputs": [],
   "source": [
    "url = \"https://dogapi.dog/api/v2/facts\"\n",
    "parameters = { 'limit' : 5}\n",
    "counter = 1\n",
    "\n",
    "with open(\"dog_facts.tsv\", \"w\") as dog_facts_file:\n",
    "    print(\"id\", \"\\t\", \"dog_fact\", file=dog_facts_file)      \n",
    "    for index in [1,2,3,4,5]:\n",
    "        response = requests.get(url, params=parameters)\n",
    "        if response.status_code == 200:\n",
    "            data = response.json()\n",
    "            for dog_fact in data['data']:\n",
    "                print(dog_fact['id'], \"\\t\", dog_fact['attributes']['body'], file=dog_facts_file)\n",
    "                counter += 1\n",
    "        else:\n",
    "            print(\"ERROR: request was not successful\")"
   ]
  },
  {
   "cell_type": "markdown",
   "id": "f681d422",
   "metadata": {},
   "source": [
    "## 3 Mapping!\n",
    "\n",
    "This set of questions will all require the the Nominatim API. As always, API documentation is online.\n",
    "\n",
    "###  Are there more gas stations in Duvall or Carnation?"
   ]
  },
  {
   "cell_type": "code",
   "execution_count": 11,
   "id": "51b8ce9b",
   "metadata": {},
   "outputs": [],
   "source": [
    "url = \"https://nominatim.openstreetmap.org/search\"\n",
    "parameters = {'q' : '[fuel]',\n",
    "              'viewbox' : '-122.00618,47.76345,-121.94155,47.70884', #duvall\n",
    "              'bounded' : 1,\n",
    "              'addressdetails' : 1,\n",
    "              'limit' : 50,\n",
    "              'format' : 'jsonv2'}\n",
    "\n",
    "response = requests.get(url, params=parameters)\n",
    "if not response.status_code == 200:\n",
    "    print(\"ERROR: request was not successful\")\n",
    "else:\n",
    "    data = response.json()"
   ]
  },
  {
   "cell_type": "markdown",
   "id": "6857eb6b",
   "metadata": {},
   "source": [
    "I drew a bigger box than necessary with viewbox. It seems that some results are not really in the city though even then so I'm going to check in addressdetails and count which ones are actually in Duvall..."
   ]
  },
  {
   "cell_type": "code",
   "execution_count": 12,
   "id": "d4b4f509",
   "metadata": {},
   "outputs": [
    {
     "name": "stdout",
     "output_type": "stream",
     "text": [
      "there are 2 gas stations in Duvall\n"
     ]
    }
   ],
   "source": [
    "counter = 0\n",
    "for place in data:\n",
    "        if \"town\" in place[\"address\"].keys():\n",
    "            if place[\"address\"][\"town\"] == \"Duvall\":\n",
    "                counter += 1\n",
    "print(f\"there are {counter} gas stations in Duvall\")"
   ]
  },
  {
   "cell_type": "code",
   "execution_count": 13,
   "id": "e995bc07",
   "metadata": {},
   "outputs": [],
   "source": [
    "parameters = {'q' : '[fuel]',\n",
    "              'viewbox' : \"-121.92730,47.66712,-121.86267,47.61241\", # carnation\n",
    "              'bounded' : 1,\n",
    "              'addressdetails' : 1,\n",
    "              'limit' : 50,\n",
    "              'format' : 'jsonv2'}\n",
    "\n",
    "response = requests.get(url, params=parameters)\n",
    "if not response.status_code == 200:\n",
    "    print(\"ERROR: request was not successful\")\n",
    "else:\n",
    "    data = response.json()"
   ]
  },
  {
   "cell_type": "code",
   "execution_count": 14,
   "id": "57de16f7",
   "metadata": {},
   "outputs": [
    {
     "name": "stdout",
     "output_type": "stream",
     "text": [
      "there are 1 gas stations in Duvall\n"
     ]
    }
   ],
   "source": [
    "counter = 0\n",
    "for place in data:\n",
    "        if \"town\" in place[\"address\"].keys():\n",
    "            if place[\"address\"][\"town\"] == \"Carnation\":\n",
    "                counter += 1\n",
    "print(f\"there are {counter} gas stations in Duvall\")"
   ]
  },
  {
   "cell_type": "markdown",
   "id": "0d322793",
   "metadata": {},
   "source": [
    "### Are there more dentists near the University or near Downtown? (you will need to look at the limit on the number of returned items)\n",
    "\n",
    "The concept \"near\" seems subjective so I'm going to draw some boxes around what looks like near to me..."
   ]
  },
  {
   "cell_type": "code",
   "execution_count": 15,
   "id": "edff7201",
   "metadata": {},
   "outputs": [
    {
     "data": {
      "text/plain": [
       "7"
      ]
     },
     "execution_count": 15,
     "metadata": {},
     "output_type": "execute_result"
    }
   ],
   "source": [
    "parameters = {'q' : '[dentist]',\n",
    "              'viewbox' : '-122.32864,47.67481,-122.29633,47.64747' , # university distrinct (i guess?)\n",
    "              'bounded' : 1,\n",
    "              'limit' : 50,\n",
    "              'format' : 'jsonv2'}\n",
    "\n",
    "response = requests.get(url, params=parameters)\n",
    "if not response.status_code == 200:\n",
    "    print(\"ERROR: request was not successful\")\n",
    "else:\n",
    "    data = response.json()\n",
    "len(data)"
   ]
  },
  {
   "cell_type": "code",
   "execution_count": 16,
   "id": "59f15f13",
   "metadata": {},
   "outputs": [
    {
     "data": {
      "text/plain": [
       "19"
      ]
     },
     "execution_count": 16,
     "metadata": {},
     "output_type": "execute_result"
    }
   ],
   "source": [
    "parameters['viewbox'] = ' -122.35521,47.62034,-122.32290,47.59297' , # downtown (i guess?)\n",
    "\n",
    "response = requests.get(url, params=parameters)\n",
    "if not response.status_code == 200:\n",
    "    print(\"ERROR: request was not successful\")\n",
    "else:\n",
    "    data = response.json()\n",
    "len(data)"
   ]
  },
  {
   "cell_type": "markdown",
   "id": "00b705ff",
   "metadata": {},
   "source": [
    "### Use the geocoding API endpoint in Nominatim to look up a specific latitude and longitude of your choice (try this building or your hometown)."
   ]
  },
  {
   "cell_type": "code",
   "execution_count": 17,
   "id": "a1e9b2c7",
   "metadata": {},
   "outputs": [
    {
     "name": "stdout",
     "output_type": "stream",
     "text": [
      "{'place_id': 309715047, 'licence': 'Data © OpenStreetMap contributors, ODbL 1.0. https://osm.org/copyright', 'osm_type': 'way', 'osm_id': 6338946, 'lat': '47.58175218837503', 'lon': '-122.24743866737437', 'place_rank': 30, 'category': 'place', 'type': 'house', 'importance': -1.15, 'addresstype': 'place', 'name': None, 'display_name': '6811, Southeast 32nd Street, Mercer Island, King County, Washington, 98040, United States', 'address': {'house_number': '6811', 'road': 'Southeast 32nd Street', 'town': 'Mercer Island', 'county': 'King County', 'state': 'Washington', 'ISO3166-2-lvl4': 'US-WA', 'postcode': '98040', 'country': 'United States', 'country_code': 'us'}, 'boundingbox': ['47.581702188375', '47.581802188375', '-122.24748866737', '-122.24738866737']}\n"
     ]
    }
   ],
   "source": [
    "# 47.58156105275823, -122.24744652581543\n",
    "rev_url = 'https://nominatim.openstreetmap.org/reverse'\n",
    "rev_parameters = {'lat' : 47.58156105275823,\n",
    "                  'lon' : -122.24744652581543,\n",
    "                   'format' : 'jsonv2'}\n",
    "\n",
    "response = requests.get(rev_url, params=rev_parameters)\n",
    "if not response.status_code == 200:\n",
    "    print(\"ERROR: request was not successful\")\n",
    "else:\n",
    "    data = response.json()\n",
    "print(data)"
   ]
  },
  {
   "cell_type": "markdown",
   "id": "189e2801",
   "metadata": {},
   "source": [
    "### Write a program to find all the ziplines in King County, Washington (or at least all the ones that OSM knows about!)."
   ]
  },
  {
   "cell_type": "code",
   "execution_count": 18,
   "id": "407de1ac",
   "metadata": {},
   "outputs": [
    {
     "data": {
      "text/plain": [
       "3"
      ]
     },
     "execution_count": 18,
     "metadata": {},
     "output_type": "execute_result"
    }
   ],
   "source": [
    "parameters = {'q' : '[zip_line] in king county, wa',\n",
    "              'limit' : 50,\n",
    "              'format' : 'jsonv2'}\n",
    "\n",
    "response = requests.get(url, params=parameters)\n",
    "if not response.status_code == 200:\n",
    "    print(\"ERROR: request was not successful\")\n",
    "else:\n",
    "    data = response.json()\n",
    "len(data)"
   ]
  },
  {
   "cell_type": "code",
   "execution_count": 19,
   "id": "ad6c3138",
   "metadata": {},
   "outputs": [
    {
     "data": {
      "text/plain": [
       "{'place_id': 340259502,\n",
       " 'licence': 'Data © OpenStreetMap contributors, ODbL 1.0. https://osm.org/copyright',\n",
       " 'osm_type': 'way',\n",
       " 'osm_id': 1086262198,\n",
       " 'boundingbox': ['47.6081042', '47.6081428', '-122.1743914', '-122.1742413'],\n",
       " 'lat': '47.6081042',\n",
       " 'lon': '-122.1742413',\n",
       " 'display_name': 'WIlburton Hill Park Trails, Belridge, Bellevue, King County, Washington, 98005, United States',\n",
       " 'place_rank': 30,\n",
       " 'category': 'aerialway',\n",
       " 'type': 'zip_line',\n",
       " 'importance': 0.4001}"
      ]
     },
     "execution_count": 19,
     "metadata": {},
     "output_type": "execute_result"
    }
   ],
   "source": [
    "selected_zipline = data[0]\n",
    "selected_zipline"
   ]
  },
  {
   "cell_type": "markdown",
   "id": "d50ae496",
   "metadata": {},
   "source": [
    "### It's important to be alert and well-caffeinated when ziplining! Once you've found a nearby zipline, have your program use that result to find the nearest cafe each of the ziplines you identify!"
   ]
  },
  {
   "cell_type": "markdown",
   "id": "5a48fa48",
   "metadata": {},
   "source": [
    "looks like this one is pretty close, i'm going to search using the lat long with a custom query string"
   ]
  },
  {
   "cell_type": "code",
   "execution_count": 20,
   "id": "050222f8",
   "metadata": {},
   "outputs": [
    {
     "name": "stdout",
     "output_type": "stream",
     "text": [
      "{'place_id': 62695310, 'licence': 'Data © OpenStreetMap contributors, ODbL 1.0. https://osm.org/copyright', 'osm_type': 'node', 'osm_id': 5745923621, 'boundingbox': ['47.6090817', '47.6091817', '-122.179704', '-122.179604'], 'lat': '47.6091317', 'lon': '-122.179654', 'display_name': 'Copper Kettle Coffee Bar, Tateuchi Loop Trail, Midlakes, Bellevue, King County, Washington, 98009, United States', 'place_rank': 30, 'category': 'amenity', 'type': 'cafe', 'importance': 0.001, 'icon': 'https://nominatim.openstreetmap.org/ui/mapicons/food_cafe.p.20.png'}\n"
     ]
    }
   ],
   "source": [
    "parameters['q'] = f\"cafe near {selected_zipline['lat']},{selected_zipline['lon']}\"\n",
    "\n",
    "response = requests.get(url, params=parameters)\n",
    "if not response.status_code == 200:\n",
    "    print(\"ERROR: request was not successful\")\n",
    "else:\n",
    "    data = response.json()\n",
    "\n",
    "print(data[0])"
   ]
  },
  {
   "cell_type": "markdown",
   "id": "569f4372",
   "metadata": {},
   "source": [
    "### Craft a query using the search API to find colleges in Seattle. (Hint: you'll want to set bounded=1 and use the viewbox). Print the name and location of every college you find."
   ]
  },
  {
   "cell_type": "code",
   "execution_count": 21,
   "id": "fd2d0aeb",
   "metadata": {},
   "outputs": [
    {
     "data": {
      "text/plain": [
       "33"
      ]
     },
     "execution_count": 21,
     "metadata": {},
     "output_type": "execute_result"
    }
   ],
   "source": [
    "parameters = {'q' : '[college]',\n",
    "              'viewbox' : '-122.60056,47.82606,-122.08351,47.38812',\n",
    "              'bounded' : 1,\n",
    "              'limit' : 50,\n",
    "              'format' : 'jsonv2'}\n",
    "\n",
    "response = requests.get(url, params=parameters)\n",
    "if not response.status_code == 200:\n",
    "    print(\"ERROR: request was not successful\")\n",
    "else:\n",
    "    data = response.json()\n",
    "len(data)"
   ]
  },
  {
   "cell_type": "code",
   "execution_count": 22,
   "id": "527a5f52",
   "metadata": {},
   "outputs": [
    {
     "name": "stdout",
     "output_type": "stream",
     "text": [
      "Cornish College of the Arts, Terry Avenue, South Lake Union, First Hill, Seattle, King County, Washington, 98191, United States\n",
      "Bellevue College, 3000, Landerholm Circle Southeast, Eastgate, Bellevue, King County, Washington, 98007, United States\n",
      "Bastyr University, Holmes Point Drive Northeast, Kenmore, King County, Washington, 98028, United States\n",
      "UW College of Built Environments, 3949, 15th Avenue Northeast, West Campus, University District, Seattle, King County, Washington, 98105, United States\n",
      "Shoreline Community College, Northwest Innis Arden Way, Shoreline, King County, Washington, 98133, United States\n",
      "Seattle Central College, East Howell Street, Capitol Hill, Seattle, King County, Washington, 98191, United States\n",
      "Lake Washington Institute of Technology, 11605, 132nd Avenue Northeast, Firloch, Kirkland, King County, Washington, 98034, United States\n",
      "City University of Seattle, 521, Wall Street, South Lake Union, Belltown, Seattle, King County, Washington, 98121, United States\n",
      "North Seattle College, 9600, College Way North, Licton Springs, Maple Leaf, Seattle, King County, Washington, 98103, United States\n",
      "Renton Technical College, Jefferson Avenue Northeast, Liberty Ridge, Renton, King County, Washington, 98056, United States\n",
      "South Seattle College, 6000, 16th Avenue Southwest, Delridge, Seattle, King County, Washington, 98106, United States\n",
      "Academy of Interactive Entertainment, 305, Harrison Street, Uptown, Belltown, Seattle, King County, Washington, 98109, United States\n",
      "Seattle Vocational Institute, 2120, South Jackson Street, Little Saigon, Central District, Seattle, King County, Washington, 98144, United States\n",
      "The Seattle School of Theology and Psychology, 2501, Elliott Avenue, Belltown, Seattle, King County, Washington, 98121, United States\n",
      "Highline College, 2400, South 240th Street, Highline, Des Moines, King County, Washington, 98198, United States\n",
      "Central Washington University, 20000, 68th Avenue West, Seattle Heights, Lynnwood, Snohomish County, Washington, 98026, United States\n",
      "Edmonds Community College North Campus Complex, 196th Street Southwest, Lynnwood, Snohomish County, Washington, 98026, United States\n",
      "Emerald City School, Denny Way, Uptown, Belltown, Seattle, King County, Washington, 98121, United States\n",
      "Pima Medical Institute, 9709, 3rd Avenue Northeast, Maple Leaf, Seattle, King County, Washington, 98115, United States\n",
      "Divers Institute of Technology, 1341, North Northlake Way, Fremont, Seattle, King County, Washington, 98103, United States\n",
      "Seattle Institute of Oriental Medicine, 444, Northeast Ravenna Boulevard, Meridian, Green Lake, Seattle, King County, Washington, 98115, United States\n",
      "Seattle Central College Wood Technology Center, 2310, South Lane Street, Central District, Seattle, King County, Washington, 98144, United States\n",
      "Northeastern University, 401, Terry Avenue North, South Lake Union, Belltown, Seattle, King County, Washington, 98109, United States\n",
      "Antioch University, 2400, 3rd Avenue, Uptown, Belltown, Seattle, King County, Washington, 98121, United States\n",
      "South Seattle Community College Georgetown Campus, 6737, Corson Avenue South, Van Asselt, Georgetown, Seattle, King County, Washington, 98108, United States\n",
      "Washington Technology University, Northeast 2nd Street, Midlakes, Bellevue, King County, Washington, 98009, United States\n",
      "Digipen Institute of Technology, 9931, Willows Road Northeast, Earlmont, Redmond, King County, Washington, 98052, United States\n",
      "Everest College, 981, Powell Avenue Southwest, Renton, King County, Washington, 98057, United States\n",
      "CityUniversity Seattle, South Renton Village Place, Renton, King County, Washington, 98057, United States\n",
      "Evergreen Beauty College, North 183rd Street, Meridian Park, Richmond Highlands, Shoreline, King County, Washington, 98155, United States\n",
      "Nursing Assistant Training Institute, North 183rd Street, Meridian Park, Richmond Highlands, Shoreline, King County, Washington, 98155, United States\n",
      "Edmonds College, 20000, 68th Avenue West, Lynnwood, Snohomish County, Washington, 98026, United States\n",
      "Washington State Criminal Justice Training Center, 1st Avenue South, Burien, King County, Washington, 98148, United States\n"
     ]
    }
   ],
   "source": [
    "for place in data:\n",
    "    print(place['display_name'])"
   ]
  },
  {
   "cell_type": "markdown",
   "id": "4cb5e361",
   "metadata": {},
   "source": [
    "#### Modify your query so that you include the address details separated out (this is an API option you can find in the documentation)?\n",
    "\n",
    "I'm going to use this opportunity to make sure we restrict it to Seattle as well!"
   ]
  },
  {
   "cell_type": "code",
   "execution_count": 23,
   "id": "4ac096c3",
   "metadata": {},
   "outputs": [
    {
     "name": "stdout",
     "output_type": "stream",
     "text": [
      "Cornish College of the Arts, Terry Avenue, South Lake Union, First Hill, Seattle, King County, Washington, 98191, United States\n",
      "Bellevue College, 3000, Landerholm Circle Southeast, Eastgate, Bellevue, King County, Washington, 98007, United States\n",
      "Bastyr University, Holmes Point Drive Northeast, Kenmore, King County, Washington, 98028, United States\n",
      "UW College of Built Environments, 3949, 15th Avenue Northeast, West Campus, University District, Seattle, King County, Washington, 98105, United States\n",
      "Shoreline Community College, Northwest Innis Arden Way, Shoreline, King County, Washington, 98133, United States\n",
      "Seattle Central College, East Howell Street, Capitol Hill, Seattle, King County, Washington, 98191, United States\n",
      "Lake Washington Institute of Technology, 11605, 132nd Avenue Northeast, Firloch, Kirkland, King County, Washington, 98034, United States\n",
      "City University of Seattle, 521, Wall Street, South Lake Union, Belltown, Seattle, King County, Washington, 98121, United States\n",
      "North Seattle College, 9600, College Way North, Licton Springs, Maple Leaf, Seattle, King County, Washington, 98103, United States\n",
      "Renton Technical College, Jefferson Avenue Northeast, Liberty Ridge, Renton, King County, Washington, 98056, United States\n",
      "South Seattle College, 6000, 16th Avenue Southwest, Delridge, Seattle, King County, Washington, 98106, United States\n",
      "Academy of Interactive Entertainment, 305, Harrison Street, Uptown, Belltown, Seattle, King County, Washington, 98109, United States\n",
      "Seattle Vocational Institute, 2120, South Jackson Street, Little Saigon, Central District, Seattle, King County, Washington, 98144, United States\n",
      "The Seattle School of Theology and Psychology, 2501, Elliott Avenue, Belltown, Seattle, King County, Washington, 98121, United States\n",
      "Highline College, 2400, South 240th Street, Highline, Des Moines, King County, Washington, 98198, United States\n",
      "Central Washington University, 20000, 68th Avenue West, Seattle Heights, Lynnwood, Snohomish County, Washington, 98026, United States\n",
      "Edmonds Community College North Campus Complex, 196th Street Southwest, Lynnwood, Snohomish County, Washington, 98026, United States\n",
      "Emerald City School, Denny Way, Uptown, Belltown, Seattle, King County, Washington, 98121, United States\n",
      "Pima Medical Institute, 9709, 3rd Avenue Northeast, Maple Leaf, Seattle, King County, Washington, 98115, United States\n",
      "Divers Institute of Technology, 1341, North Northlake Way, Fremont, Seattle, King County, Washington, 98103, United States\n",
      "Seattle Institute of Oriental Medicine, 444, Northeast Ravenna Boulevard, Meridian, Green Lake, Seattle, King County, Washington, 98115, United States\n",
      "Seattle Central College Wood Technology Center, 2310, South Lane Street, Central District, Seattle, King County, Washington, 98144, United States\n",
      "Northeastern University, 401, Terry Avenue North, South Lake Union, Belltown, Seattle, King County, Washington, 98109, United States\n",
      "Antioch University, 2400, 3rd Avenue, Uptown, Belltown, Seattle, King County, Washington, 98121, United States\n",
      "South Seattle Community College Georgetown Campus, 6737, Corson Avenue South, Van Asselt, Georgetown, Seattle, King County, Washington, 98108, United States\n",
      "Washington Technology University, Northeast 2nd Street, Midlakes, Bellevue, King County, Washington, 98009, United States\n",
      "Digipen Institute of Technology, 9931, Willows Road Northeast, Earlmont, Redmond, King County, Washington, 98052, United States\n",
      "Everest College, 981, Powell Avenue Southwest, Renton, King County, Washington, 98057, United States\n",
      "CityUniversity Seattle, South Renton Village Place, Renton, King County, Washington, 98057, United States\n",
      "Evergreen Beauty College, North 183rd Street, Meridian Park, Richmond Highlands, Shoreline, King County, Washington, 98155, United States\n",
      "Nursing Assistant Training Institute, North 183rd Street, Meridian Park, Richmond Highlands, Shoreline, King County, Washington, 98155, United States\n",
      "Edmonds College, 20000, 68th Avenue West, Lynnwood, Snohomish County, Washington, 98026, United States\n",
      "Washington State Criminal Justice Training Center, 1st Avenue South, Burien, King County, Washington, 98148, United States\n"
     ]
    }
   ],
   "source": [
    "for place in data:\n",
    "    print(place['display_name'])"
   ]
  },
  {
   "cell_type": "code",
   "execution_count": 24,
   "id": "1d3e932c",
   "metadata": {},
   "outputs": [
    {
     "data": {
      "text/plain": [
       "17"
      ]
     },
     "execution_count": 24,
     "metadata": {},
     "output_type": "execute_result"
    }
   ],
   "source": [
    "parameters['addressdetails'] = 1\n",
    "response = requests.get(url, params=parameters)\n",
    "if not response.status_code == 200:\n",
    "    print(\"ERROR: request was not successful\")\n",
    "else:\n",
    "    data = response.json()\n",
    "\n",
    "\n",
    "old_data = data\n",
    "data = []\n",
    "\n",
    "for place in old_data:\n",
    "    if 'city' in place['address'].keys() and place['address']['city'] == 'Seattle':\n",
    "        data.append(place)\n",
    "\n",
    "len(data)"
   ]
  },
  {
   "cell_type": "code",
   "execution_count": 25,
   "id": "e8ef8d30",
   "metadata": {},
   "outputs": [
    {
     "name": "stdout",
     "output_type": "stream",
     "text": [
      "Cornish College of the Arts\n",
      "UW College of Built Environments\n",
      "Seattle Central College\n",
      "City University of Seattle\n",
      "North Seattle College\n",
      "South Seattle College\n",
      "Academy of Interactive Entertainment\n",
      "Seattle Vocational Institute\n",
      "The Seattle School of Theology and Psychology\n",
      "Emerald City School\n",
      "Pima Medical Institute\n",
      "Divers Institute of Technology\n",
      "Seattle Institute of Oriental Medicine\n",
      "Seattle Central College Wood Technology Center\n",
      "Northeastern University\n",
      "Antioch University\n",
      "South Seattle Community College Georgetown Campus\n"
     ]
    }
   ],
   "source": [
    "for place in data:\n",
    "    print(place['address']['amenity'])"
   ]
  },
  {
   "cell_type": "markdown",
   "id": "3bdcef78",
   "metadata": {},
   "source": [
    "#### How can you tell that a place returned by the API is in fact a college?"
   ]
  },
  {
   "cell_type": "code",
   "execution_count": 26,
   "id": "7cce3997",
   "metadata": {},
   "outputs": [
    {
     "data": {
      "text/plain": [
       "'college'"
      ]
     },
     "execution_count": 26,
     "metadata": {},
     "output_type": "execute_result"
    }
   ],
   "source": [
    "place['type']"
   ]
  },
  {
   "cell_type": "markdown",
   "id": "2f11dee7",
   "metadata": {},
   "source": [
    "#### Print the list of colleges into a new TSV file with the following columns: osm_id (a unique ID that OSM uses), the name of the college, latitude, and longitude."
   ]
  },
  {
   "cell_type": "code",
   "execution_count": 27,
   "id": "979abaff",
   "metadata": {},
   "outputs": [],
   "source": [
    "with open('seattle_college_place_data.tsv', 'w') as college_file:\n",
    "    print(\"osm_id\", \"\\t\", \"name\", \"\\t\" \"lat\", \"\\t\" \"lon\", file=college_file)\n",
    "    for place in data:\n",
    "        print(place['osm_id'], \"\\t\",\n",
    "              place['address']['amenity'], \"\\t\",\n",
    "              place['lat'], \"\\t\",\n",
    "              place['lon'],\n",
    "              file=college_file)"
   ]
  }
 ],
 "metadata": {
  "kernelspec": {
   "display_name": "Python 3 (ipykernel)",
   "language": "python",
   "name": "python3"
  },
  "language_info": {
   "codemirror_mode": {
    "name": "ipython",
    "version": 3
   },
   "file_extension": ".py",
   "mimetype": "text/x-python",
   "name": "python",
   "nbconvert_exporter": "python",
   "pygments_lexer": "ipython3",
   "version": "3.11.2"
  }
 },
 "nbformat": 4,
 "nbformat_minor": 5
}
