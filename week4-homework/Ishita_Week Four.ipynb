{
 "cells": [
  {
   "cell_type": "markdown",
   "id": "792a92cf",
   "metadata": {},
   "source": [
    "# 1"
   ]
  },
  {
   "cell_type": "markdown",
   "id": "e4460f82",
   "metadata": {},
   "source": [
    "# 1.1"
   ]
  },
  {
   "cell_type": "code",
   "execution_count": 4,
   "id": "16fe3f86",
   "metadata": {},
   "outputs": [],
   "source": [
    "import requests"
   ]
  },
  {
   "cell_type": "code",
   "execution_count": 5,
   "id": "0e6fceaf",
   "metadata": {},
   "outputs": [],
   "source": [
    "response = requests.get (\"http://www.boredapi.com/api/activity/\")"
   ]
  },
  {
   "cell_type": "code",
   "execution_count": 6,
   "id": "a3687d40",
   "metadata": {},
   "outputs": [
    {
     "data": {
      "text/plain": [
       "requests.models.Response"
      ]
     },
     "execution_count": 6,
     "metadata": {},
     "output_type": "execute_result"
    }
   ],
   "source": [
    "type (response)"
   ]
  },
  {
   "cell_type": "code",
   "execution_count": 7,
   "id": "88ca4fd9",
   "metadata": {},
   "outputs": [
    {
     "name": "stdout",
     "output_type": "stream",
     "text": [
      "<Response [200]>\n"
     ]
    }
   ],
   "source": [
    "print(response)"
   ]
  },
  {
   "cell_type": "code",
   "execution_count": 8,
   "id": "72c5b119",
   "metadata": {},
   "outputs": [
    {
     "data": {
      "text/plain": [
       "'{\"activity\":\"Contribute code or a monetary donation to an open-source software project\",\"type\":\"charity\",\"participants\":1,\"price\":0.1,\"link\":\"https://github.com/explore\",\"key\":\"7687030\",\"accessibility\":0}'"
      ]
     },
     "execution_count": 8,
     "metadata": {},
     "output_type": "execute_result"
    }
   ],
   "source": [
    "response.text"
   ]
  },
  {
   "cell_type": "code",
   "execution_count": 9,
   "id": "3d1a49c3",
   "metadata": {},
   "outputs": [
    {
     "name": "stdout",
     "output_type": "stream",
     "text": [
      "activity 1: Listen to a new music genre\n",
      "activity 2: Listen to music you haven't heard in a while\n",
      "activity 3: Write a song\n",
      "activity 4: Start a band\n",
      "activity 5: Learn the Chinese erhu\n"
     ]
    }
   ],
   "source": [
    "for number in [1,2,3,4,5]:\n",
    "    my_parameters = {'type' : 'music'}\n",
    "    response = requests.get(\"https://www.boredapi.com/api/activity\", params=my_parameters)\n",
    "    if response.status_code == 200:\n",
    "        data = response.json()\n",
    "        print(f\"activity {number}: {data['activity']}\")"
   ]
  },
  {
   "cell_type": "markdown",
   "id": "261c198f",
   "metadata": {},
   "source": [
    "# 1.2"
   ]
  },
  {
   "cell_type": "code",
   "execution_count": 10,
   "id": "1198e1e1",
   "metadata": {},
   "outputs": [
    {
     "name": "stdout",
     "output_type": "stream",
     "text": [
      "random activity: Learn to play a new instrument\n",
      "type: music\n"
     ]
    }
   ],
   "source": [
    "response = requests.get(\"http://www.boredapi.com/api/activity/\")\n",
    "data = response.json()\n",
    "\n",
    "print(f\"random activity: {data['activity']}\")\n",
    "print(f\"type: {data['type']}\")"
   ]
  },
  {
   "cell_type": "markdown",
   "id": "91866496",
   "metadata": {},
   "source": [
    "# 1.3"
   ]
  },
  {
   "cell_type": "code",
   "execution_count": 20,
   "id": "9afaeb0c",
   "metadata": {},
   "outputs": [
    {
     "name": "stdout",
     "output_type": "stream",
     "text": [
      "activity 1 + diy: Create a compost pile\n",
      "activity 2 + recreational: Learn how to iceskate or rollerskate\n",
      "activity 3 + social: Compliment someone\n",
      "activity 4 + relaxation: Take a nap\n",
      "activity 5 + charity: Volunteer and help out at a senior center\n",
      "activity 6 + cooking: Bake a pie with some friends\n",
      "activity 7 + music: Have a jam session with your friends\n",
      "activity 8 + education: Memorize the fifty states and their capitals\n",
      "activity 9 + busywork: Rearrange and organize your room\n"
     ]
    }
   ],
   "source": [
    "activities = [\"diy\", \"recreational\", \"social\", \"relaxation\", \"charity\", \"cooking\", \"music\", \"education\", \"busywork\"]\n",
    "activity_ideas = {}\n",
    "counter = 1\n",
    "\n",
    "for activity in activities:\n",
    "    response = requests.get(f\"http://www.boredapi.com/api/activity?type={activity}\")\n",
    "    if response.status_code == 200:\n",
    "        activity_data = response.json()\n",
    "        activity_ideas[activity] = activity_data['activity']\n",
    "        print(f\"activity {counter} + {activity}: {activity_data['activity']}\")\n",
    "        counter = counter + 1"
   ]
  },
  {
   "cell_type": "markdown",
   "id": "368615d0",
   "metadata": {},
   "source": [
    "# 2"
   ]
  },
  {
   "cell_type": "markdown",
   "id": "f26abfed",
   "metadata": {},
   "source": [
    "# 2.2"
   ]
  },
  {
   "cell_type": "code",
   "execution_count": 11,
   "id": "5f1bb28b",
   "metadata": {},
   "outputs": [],
   "source": [
    "import requests"
   ]
  },
  {
   "cell_type": "code",
   "execution_count": 21,
   "id": "34186058",
   "metadata": {},
   "outputs": [],
   "source": [
    "dog_api = requests.get (\"https://dogapi.dog/docs/api-v1\")"
   ]
  },
  {
   "cell_type": "code",
   "execution_count": 22,
   "id": "d81c81fd",
   "metadata": {},
   "outputs": [
    {
     "name": "stdout",
     "output_type": "stream",
     "text": [
      "<Response [200]>\n"
     ]
    }
   ],
   "source": [
    "print (dog_api)"
   ]
  },
  {
   "cell_type": "code",
   "execution_count": 25,
   "id": "61f187b6",
   "metadata": {},
   "outputs": [],
   "source": [
    "dog_api = response.json()"
   ]
  },
  {
   "cell_type": "code",
   "execution_count": 26,
   "id": "bd40530c",
   "metadata": {},
   "outputs": [
    {
     "data": {
      "text/plain": [
       "{'activity': 'Rearrange and organize your room',\n",
       " 'type': 'busywork',\n",
       " 'participants': 1,\n",
       " 'price': 0,\n",
       " 'link': '',\n",
       " 'key': '6197243',\n",
       " 'accessibility': 0.15}"
      ]
     },
     "execution_count": 26,
     "metadata": {},
     "output_type": "execute_result"
    }
   ],
   "source": [
    "dog_api"
   ]
  },
  {
   "cell_type": "markdown",
   "id": "cf7c894d",
   "metadata": {},
   "source": [
    "# 2.3"
   ]
  },
  {
   "cell_type": "code",
   "execution_count": 27,
   "id": "fcbfb4c2",
   "metadata": {},
   "outputs": [
    {
     "name": "stdout",
     "output_type": "stream",
     "text": [
      "A dog can both sniff and breathe at the same time.\n",
      "The wetness of a dog's nose is essential for determining what direction a smell is coming from.\n",
      "The oldest known breed is likely the Saluki, originally trained by Egyptians to help them track game.\n",
      "Dogs sometimes appear to smile -- much like humans -- with open mouth grinning. This may indicate a relaxed, submissive state.\n",
      "Dogs can be trained to detect epileptic seizures in humans.\n"
     ]
    }
   ],
   "source": [
    "for number in [1,2,3,4,5]:\n",
    "    response = requests.get('https://dogapi.dog/api/v2/facts')\n",
    "    if response.status_code == 200:\n",
    "        data = response.json()\n",
    "        print(data['data'][0]['attributes']['body'])"
   ]
  },
  {
   "cell_type": "markdown",
   "id": "4863bc01",
   "metadata": {},
   "source": [
    "# 2.4"
   ]
  },
  {
   "cell_type": "code",
   "execution_count": 36,
   "id": "d3e7123a",
   "metadata": {},
   "outputs": [
    {
     "name": "stdout",
     "output_type": "stream",
     "text": [
      "At the end of WWI, the German government trained the first guide dogs for war-blinded soldiers.\n"
     ]
    }
   ],
   "source": [
    "import requests\n",
    "\n",
    "url = \"https://dogapi.dog/api/v2/facts\"\n",
    "\n",
    "parameters = {'type' : 'fact','attributes' : 'body'}\n",
    "\n",
    "dog_api = requests.get(url, parameters)\n",
    "\n",
    "if dog_api.status_code == 200:\n",
    "    data = dog_api.json()\n",
    "    \n",
    "print(data['data'][0]['attributes']['body'])"
   ]
  },
  {
   "cell_type": "markdown",
   "id": "302971ab",
   "metadata": {},
   "source": [
    "# 2.5"
   ]
  },
  {
   "cell_type": "code",
   "execution_count": 78,
   "id": "76a9ee06",
   "metadata": {},
   "outputs": [
    {
     "name": "stdout",
     "output_type": "stream",
     "text": [
      "{'data': [{'id': '8fa94033-0160-4f27-a6b0-009e77bef24c', 'type': 'fact', 'attributes': {'body': 'Dogs have lived with humans for over 14,000 years. Cats have lived with people for only 7,000 years.'}}]}\n",
      "{'data': [{'id': '59ffecd5-0e42-4fac-8d54-d9e79c09f61d', 'type': 'fact', 'attributes': {'body': 'All dogs are identical in anatomy, with 321 bones and 42 permanent teeth.'}}]}\n",
      "{'data': [{'id': '239e3b29-d812-467a-addd-b82ad0385819', 'type': 'fact', 'attributes': {'body': 'Why do they do that? When dogs kick after going to the bathroom, they are using the scent glands on their paws to further mark their territory.'}}]}\n",
      "{'data': [{'id': '88fdaf01-4601-4b01-aa71-2cde34d7f00c', 'type': 'fact', 'attributes': {'body': 'Bingo is the name of the dog on the side of the Cracker Jack box.'}}]}\n",
      "{'data': [{'id': 'ba5e9d77-716f-4500-a9a5-6ca72af3d85a', 'type': 'fact', 'attributes': {'body': 'Within hours of the September 11, 2001, attack on the World Trade Center, specially trained dogs were on the scene, including German Shepherds, Labs, and even a few little Dachshunds.'}}]}\n"
     ]
    }
   ],
   "source": [
    "with open(\"dog_api.tsv\", \"w\") as my_file:\n",
    "    print(\"dog_api\\n\", file = my_file)\n",
    "    \n",
    "for number in [1,2,3,4,5]:\n",
    "    response = requests.get('https://dogapi.dog/api/v2/facts')\n",
    "    if response.status_code == 200:\n",
    "        data = response.json()\n",
    "        print(data)\n",
    "        with open(\"dog_api.tsv\", \"a\") as my_file:\n",
    "            print(f\"{data['data'][0]['attributes']['body']}\", file = my_file)"
   ]
  },
  {
   "cell_type": "markdown",
   "id": "534de4c9",
   "metadata": {},
   "source": [
    "google docs: https://docs.google.com/spreadsheets/d/1VO1SkAfAXhrbnAtXcWDDmzm8Mj_41Fr-b94jS20ASmw/edit?usp=sharing"
   ]
  },
  {
   "cell_type": "markdown",
   "id": "812724fb",
   "metadata": {},
   "source": [
    "# 3"
   ]
  },
  {
   "cell_type": "markdown",
   "id": "e2260256",
   "metadata": {},
   "source": [
    "# 3.1"
   ]
  },
  {
   "cell_type": "code",
   "execution_count": 37,
   "id": "002546b9",
   "metadata": {},
   "outputs": [],
   "source": [
    "import requests"
   ]
  },
  {
   "cell_type": "code",
   "execution_count": 39,
   "id": "66244e5e",
   "metadata": {},
   "outputs": [],
   "source": [
    "url = \"https://nominatim.openstreetmap.org/search\"\n",
    "parameters = {'q' : \"gas+station+in+Duvall\",\n",
    "             'format' : 'jsonv2',\n",
    "             'limit' : 50}\n",
    "\n",
    "response = requests.get(url, params= parameters)\n",
    "\n",
    "if response.status_code == 200:\n",
    "    data = response.json()\n",
    "else:\n",
    "    print(\"ERROR: request was not successfully\")"
   ]
  },
  {
   "cell_type": "code",
   "execution_count": 41,
   "id": "ed31e8a6",
   "metadata": {},
   "outputs": [
    {
     "name": "stdout",
     "output_type": "stream",
     "text": [
      "Safeway Fuel Station, 14020, Carnation-Duvall Road Northeast, King County, Washington, 98019, United States\n",
      "Chevron, Northeast Ring Street, Duvall, King County, Washington, 98019, United States\n",
      "Shell, 15729, Main Street Northeast, Duvall, King County, Washington, 98019, United States\n",
      "Sunoco, McConnelsville Road, Olive Green, Sharon, Noble County, Ohio, 43724, United States\n",
      "Marathon, McConnelsville Road, Olive Green, Sharon, Noble County, Ohio, 43724, United States\n",
      "Pilot, McConnelsville Road, Olive Green, Sharon, Noble County, Ohio, 43724, United States\n",
      "Food Center Marathon, 100, Olive Street, Caldwell, Noble County, Ohio, 43724, United States\n",
      "Marathon, 14264, Ashville Pike, Ashville, Pickaway County, Ohio, 43103, United States\n"
     ]
    }
   ],
   "source": [
    "for gas_station in data:\n",
    "    print (gas_station ['display_name'])"
   ]
  },
  {
   "cell_type": "markdown",
   "id": "70b1a337",
   "metadata": {},
   "source": [
    "# 3.2"
   ]
  },
  {
   "cell_type": "code",
   "execution_count": 83,
   "id": "4cd73614",
   "metadata": {},
   "outputs": [],
   "source": [
    "url = \"https://nominatim.openstreetmap.org/search\"\n",
    "parameters = {'q' : \"dentists+university+district+seattle\",\n",
    "             'format' : 'jsonv2',\n",
    "             'limit' : 50}\n",
    "\n",
    "response = requests.get(url, params= parameters)\n",
    "\n",
    "if response.status_code == 200:\n",
    "    data = response.json()\n",
    "else:\n",
    "    print(\"ERROR: request was not successfully\")"
   ]
  },
  {
   "cell_type": "code",
   "execution_count": 84,
   "id": "c8becef0",
   "metadata": {},
   "outputs": [
    {
     "name": "stdout",
     "output_type": "stream",
     "text": [
      "Urban Smiles Dentists, 2936, Eastlake Avenue East, Eastlake, Wallingford, Seattle, King County, Washington, 98102, United States\n"
     ]
    }
   ],
   "source": [
    "for dentist_university in data:\n",
    "    print (dentist_university ['display_name'])"
   ]
  },
  {
   "cell_type": "code",
   "execution_count": 54,
   "id": "e2da9481",
   "metadata": {},
   "outputs": [
    {
     "name": "stdout",
     "output_type": "stream",
     "text": [
      "13\n"
     ]
    }
   ],
   "source": [
    "print (len (dentist_university))"
   ]
  },
  {
   "cell_type": "code",
   "execution_count": 82,
   "id": "9be66c3f",
   "metadata": {},
   "outputs": [],
   "source": [
    "url = \"https://nominatim.openstreetmap.org/search\"\n",
    "parameters = {'q' : \"dentists+downtown+seattle\",\n",
    "             'format' : 'jsonv2',\n",
    "             'limit' : 50}\n",
    "\n",
    "response = requests.get(url, params= parameters)\n",
    "\n",
    "if response.status_code == 200:\n",
    "    data = response.json()\n",
    "else:\n",
    "    print(\"ERROR: request was not successfully\")"
   ]
  },
  {
   "cell_type": "code",
   "execution_count": 50,
   "id": "043eebb5",
   "metadata": {},
   "outputs": [
    {
     "name": "stdout",
     "output_type": "stream",
     "text": [
      "Dentist Downtown Seattle, 2045, Westlake Avenue, Central Business District, Belltown, Seattle, King County, Washington, 98121, United States\n",
      "Downtown Dentistry, Madison Street, West Edge, First Hill, Seattle, King County, Washington, 98154, United States\n"
     ]
    }
   ],
   "source": [
    "for dentist_downtown in data:\n",
    "    print (dentist_downtown ['display_name'])"
   ]
  },
  {
   "cell_type": "code",
   "execution_count": 74,
   "id": "cbf9f50e",
   "metadata": {},
   "outputs": [
    {
     "name": "stdout",
     "output_type": "stream",
     "text": [
      "13\n"
     ]
    }
   ],
   "source": [
    "print (len(dentist_downtown))"
   ]
  },
  {
   "cell_type": "markdown",
   "id": "bfc98491",
   "metadata": {},
   "source": [
    "# 3.3"
   ]
  },
  {
   "cell_type": "code",
   "execution_count": 58,
   "id": "714a16b6",
   "metadata": {},
   "outputs": [
    {
     "name": "stdout",
     "output_type": "stream",
     "text": [
      "Latitude: 47.656469799999996, Longitude: -122.31270835458191 of the Schmitz building on campus\n"
     ]
    }
   ],
   "source": [
    "#sourced from ChatGPT\n",
    "\n",
    "import requests\n",
    "\n",
    "url = \"http://nominatim.openstreetmap.org/search\"\n",
    "\n",
    "my_params = {\n",
    "    'street': '1410 NE Campus Parkway',\n",
    "    'city': 'Seattle',\n",
    "    'state': 'Washington',\n",
    "    'country': 'US',\n",
    "    'format': 'jsonv2',\n",
    "    'limit': 50}\n",
    "\n",
    "my_map_response = requests.get(url, params=my_params)\n",
    "\n",
    "if my_map_response.status_code == 200:\n",
    "    my_map_json = my_map_response.json()\n",
    "    place = my_map_json[0]\n",
    "    print(f\"Latitude: {place['lat']}, Longitude: {place['lon']} of the Schmitz building on campus\")\n",
    "else:\n",
    "    print(\"Error: Unable to retrieve mapping data\")"
   ]
  },
  {
   "cell_type": "markdown",
   "id": "d9b9c8ad",
   "metadata": {},
   "source": [
    "# 3.4"
   ]
  },
  {
   "cell_type": "code",
   "execution_count": 105,
   "id": "8e3dcb78",
   "metadata": {},
   "outputs": [
    {
     "name": "stdout",
     "output_type": "stream",
     "text": [
      "Soaring Eagle Zipline, Milton Road South, Federal Way, King County, Washington, 98354, United States\n",
      "Soaring Eagle Zipline, Milton Road South, Federal Way, King County, Washington, 98354, United States\n",
      "Soaring Eagle Zipline, Milton Road South, Federal Way, King County, Washington, 98354, United States\n",
      "Soaring Eagle Zipline, Milton Road South, Federal Way, King County, Washington, 98354, United States\n",
      "Soaring Eagle Zipline, Milton Road South, Federal Way, King County, Washington, 98354, United States\n",
      "Soaring Eagle Zipline, Milton Road South, Federal Way, King County, Washington, 98354, United States\n"
     ]
    }
   ],
   "source": [
    "parameters = {'q' : \"ziplines\",'united+states':'king+county',\n",
    "             'format' : 'jsonv2',\n",
    "             'limit' : 50}\n",
    "\n",
    "response_ziplines = requests.get(url, params = parameters)    \n",
    "\n",
    "json_ziplines = response_ziplines.json()\n",
    "\n",
    "for ziplines in json:\n",
    "    print(place['display_name'])"
   ]
  },
  {
   "cell_type": "markdown",
   "id": "07b96be4",
   "metadata": {},
   "source": [
    "# 3.5"
   ]
  },
  {
   "cell_type": "code",
   "execution_count": 127,
   "id": "0253ec49",
   "metadata": {},
   "outputs": [
    {
     "name": "stdout",
     "output_type": "stream",
     "text": [
      "[]\n"
     ]
    }
   ],
   "source": [
    "url = \"https://nominatim.openstreetmap.org/search\"\n",
    "parameters = {'q' : 'cafe' + 'Milton+Road+South',\n",
    "             'format' : 'jsonv2',\n",
    "             'limit' : 50}\n",
    "\n",
    "response = requests.get(url, params= parameters)\n",
    "\n",
    "if response.status_code == 200:\n",
    "    data = response.json()\n",
    "    print (data)"
   ]
  },
  {
   "cell_type": "code",
   "execution_count": 125,
   "id": "9f2d19db",
   "metadata": {},
   "outputs": [],
   "source": [
    "for cafe_zipline in data:\n",
    "    print (cafe_zipline ['display_name'])"
   ]
  },
  {
   "cell_type": "code",
   "execution_count": null,
   "id": "675d0aed",
   "metadata": {},
   "outputs": [],
   "source": []
  },
  {
   "cell_type": "markdown",
   "id": "14f3b2b9",
   "metadata": {},
   "source": [
    "# 3.6"
   ]
  },
  {
   "cell_type": "code",
   "execution_count": 73,
   "id": "d3c02748",
   "metadata": {},
   "outputs": [
    {
     "name": "stdout",
     "output_type": "stream",
     "text": [
      " Cornish College of the Arts\n",
      " {'amenity': 'Cornish College of the Arts', 'road': 'Terry Avenue', 'neighbourhood': 'South Lake Union', 'suburb': 'First Hill', 'city': 'Seattle', 'county': 'King County', 'state': 'Washington', 'ISO3166-2-lvl4': 'US-WA', 'postcode': '98191', 'country': 'United States', 'country_code': 'us'}\n",
      " Bastyr University\n",
      " {'amenity': 'Bastyr University', 'road': 'Holmes Point Drive Northeast', 'town': 'Kenmore', 'county': 'King County', 'state': 'Washington', 'ISO3166-2-lvl4': 'US-WA', 'postcode': '98028', 'country': 'United States', 'country_code': 'us'}\n",
      " UW College of Built Environments\n",
      " {'amenity': 'UW College of Built Environments', 'house_number': '3949', 'road': '15th Avenue Northeast', 'neighbourhood': 'West Campus', 'suburb': 'University District', 'city': 'Seattle', 'county': 'King County', 'state': 'Washington', 'ISO3166-2-lvl4': 'US-WA', 'postcode': '98105', 'country': 'United States', 'country_code': 'us'}\n",
      " Olympic College\n",
      " {'amenity': 'Olympic College', 'house_number': '1600', 'road': 'Chester Avenue', 'city': 'Bremerton', 'county': 'Kitsap County', 'state': 'Washington', 'ISO3166-2-lvl4': 'US-WA', 'postcode': '98337', 'country': 'United States', 'country_code': 'us'}\n",
      " Seattle Central College\n",
      " {'amenity': 'Seattle Central College', 'road': 'East Howell Street', 'suburb': 'Capitol Hill', 'city': 'Seattle', 'county': 'King County', 'state': 'Washington', 'ISO3166-2-lvl4': 'US-WA', 'postcode': '98191', 'country': 'United States', 'country_code': 'us'}\n",
      " City University of Seattle\n",
      " {'amenity': 'City University of Seattle', 'house_number': '521', 'road': 'Wall Street', 'neighbourhood': 'South Lake Union', 'suburb': 'Belltown', 'city': 'Seattle', 'county': 'King County', 'state': 'Washington', 'ISO3166-2-lvl4': 'US-WA', 'postcode': '98121', 'country': 'United States', 'country_code': 'us'}\n",
      " North Seattle College\n",
      " {'amenity': 'North Seattle College', 'house_number': '9600', 'road': 'College Way North', 'neighbourhood': 'Licton Springs', 'suburb': 'Maple Leaf', 'city': 'Seattle', 'county': 'King County', 'state': 'Washington', 'ISO3166-2-lvl4': 'US-WA', 'postcode': '98103', 'country': 'United States', 'country_code': 'us'}\n",
      " South Seattle College\n",
      " {'amenity': 'South Seattle College', 'house_number': '6000', 'road': '16th Avenue Southwest', 'suburb': 'Delridge', 'city': 'Seattle', 'county': 'King County', 'state': 'Washington', 'ISO3166-2-lvl4': 'US-WA', 'postcode': '98106', 'country': 'United States', 'country_code': 'us'}\n",
      " Academy of Interactive Entertainment\n",
      " {'amenity': 'Academy of Interactive Entertainment', 'house_number': '305', 'road': 'Harrison Street', 'neighbourhood': 'Uptown', 'suburb': 'Belltown', 'city': 'Seattle', 'county': 'King County', 'state': 'Washington', 'ISO3166-2-lvl4': 'US-WA', 'postcode': '98109', 'country': 'United States', 'country_code': 'us'}\n",
      " Seattle Vocational Institute\n",
      " {'amenity': 'Seattle Vocational Institute', 'house_number': '2120', 'road': 'South Jackson Street', 'neighbourhood': 'Little Saigon', 'suburb': 'Central District', 'city': 'Seattle', 'county': 'King County', 'state': 'Washington', 'ISO3166-2-lvl4': 'US-WA', 'postcode': '98144', 'country': 'United States', 'country_code': 'us'}\n",
      " The Seattle School of Theology and Psychology\n",
      " {'amenity': 'The Seattle School of Theology and Psychology', 'house_number': '2501', 'road': 'Elliott Avenue', 'suburb': 'Belltown', 'city': 'Seattle', 'county': 'King County', 'state': 'Washington', 'ISO3166-2-lvl4': 'US-WA', 'postcode': '98121', 'country': 'United States', 'country_code': 'us'}\n",
      " Northwest College of Art and Design\n",
      " {'amenity': 'Northwest College of Art and Design', 'road': 'Creative Drive Northeast', 'town': 'Port Madison Indian Reservation', 'county': 'Kitsap County', 'state': 'Washington', 'ISO3166-2-lvl4': 'US-WA', 'postcode': '98345', 'country': 'United States', 'country_code': 'us'}\n",
      " Emerald City School\n",
      " {'amenity': 'Emerald City School', 'road': 'Denny Way', 'neighbourhood': 'Uptown', 'suburb': 'Belltown', 'city': 'Seattle', 'county': 'King County', 'state': 'Washington', 'ISO3166-2-lvl4': 'US-WA', 'postcode': '98121', 'country': 'United States', 'country_code': 'us'}\n",
      " Pima Medical Institute\n",
      " {'amenity': 'Pima Medical Institute', 'house_number': '9709', 'road': '3rd Avenue Northeast', 'suburb': 'Maple Leaf', 'city': 'Seattle', 'county': 'King County', 'state': 'Washington', 'ISO3166-2-lvl4': 'US-WA', 'postcode': '98115', 'country': 'United States', 'country_code': 'us'}\n",
      " Divers Institute of Technology\n",
      " {'amenity': 'Divers Institute of Technology', 'house_number': '1341', 'road': 'North Northlake Way', 'suburb': 'Fremont', 'city': 'Seattle', 'county': 'King County', 'state': 'Washington', 'ISO3166-2-lvl4': 'US-WA', 'postcode': '98103', 'country': 'United States', 'country_code': 'us'}\n",
      " Seattle Institute of Oriental Medicine\n",
      " {'amenity': 'Seattle Institute of Oriental Medicine', 'house_number': '444', 'road': 'Northeast Ravenna Boulevard', 'neighbourhood': 'Meridian', 'suburb': 'Green Lake', 'city': 'Seattle', 'county': 'King County', 'state': 'Washington', 'ISO3166-2-lvl4': 'US-WA', 'postcode': '98115', 'country': 'United States', 'country_code': 'us'}\n",
      " Seattle Central College Wood Technology Center\n",
      " {'amenity': 'Seattle Central College Wood Technology Center', 'house_number': '2310', 'road': 'South Lane Street', 'suburb': 'Central District', 'city': 'Seattle', 'county': 'King County', 'state': 'Washington', 'ISO3166-2-lvl4': 'US-WA', 'postcode': '98144', 'country': 'United States', 'country_code': 'us'}\n",
      " Northeastern University\n",
      " {'amenity': 'Northeastern University', 'house_number': '401', 'road': 'Terry Avenue North', 'neighbourhood': 'South Lake Union', 'suburb': 'Belltown', 'city': 'Seattle', 'county': 'King County', 'state': 'Washington', 'ISO3166-2-lvl4': 'US-WA', 'postcode': '98109', 'country': 'United States', 'country_code': 'us'}\n",
      " Antioch University\n",
      " {'amenity': 'Antioch University', 'house_number': '2400', 'road': '3rd Avenue', 'neighbourhood': 'Uptown', 'suburb': 'Belltown', 'city': 'Seattle', 'county': 'King County', 'state': 'Washington', 'ISO3166-2-lvl4': 'US-WA', 'postcode': '98121', 'country': 'United States', 'country_code': 'us'}\n",
      " South Seattle Community College Georgetown Campus\n",
      " {'amenity': 'South Seattle Community College Georgetown Campus', 'house_number': '6737', 'road': 'Corson Avenue South', 'neighbourhood': 'Van Asselt', 'suburb': 'Georgetown', 'city': 'Seattle', 'county': 'King County', 'state': 'Washington', 'ISO3166-2-lvl4': 'US-WA', 'postcode': '98108', 'country': 'United States', 'country_code': 'us'}\n"
     ]
    }
   ],
   "source": [
    "#sourced from ChatGPT\n",
    "\n",
    "import requests\n",
    "\n",
    "parameters = {\n",
    "    'q': 'colleges',\n",
    "    'country': 'us',\n",
    "    'format': 'jsonv2',\n",
    "    'viewbox': '-122.96791,47.73517,-122.19063,47.51488',\n",
    "    'bounded': '1',\n",
    "    'limit': '50',\n",
    "    'addressdetails': '1'}\n",
    "\n",
    "response = requests.get(url, params=parameters)\n",
    "\n",
    "if response.status_code == 200:\n",
    "    data = response.json()\n",
    "    for place in data:\n",
    "        detail = place.get('address', {})\n",
    "        amenity = detail.get('amenity')\n",
    "        if amenity:\n",
    "            print(f\" {amenity}\")\n",
    "        print(f\" {detail}\")\n",
    "else:\n",
    "    print(\"Error\")"
   ]
  }
 ],
 "metadata": {
  "kernelspec": {
   "display_name": "Python 3 (ipykernel)",
   "language": "python",
   "name": "python3"
  },
  "language_info": {
   "codemirror_mode": {
    "name": "ipython",
    "version": 3
   },
   "file_extension": ".py",
   "mimetype": "text/x-python",
   "name": "python",
   "nbconvert_exporter": "python",
   "pygments_lexer": "ipython3",
   "version": "3.10.9"
  }
 },
 "nbformat": 4,
 "nbformat_minor": 5
}
