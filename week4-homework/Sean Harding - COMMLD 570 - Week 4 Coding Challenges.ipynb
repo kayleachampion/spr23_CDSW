{
 "cells": [
  {
   "cell_type": "code",
   "execution_count": 1,
   "id": "e4c34249",
   "metadata": {},
   "outputs": [],
   "source": [
    "#Question 1.1"
   ]
  },
  {
   "cell_type": "code",
   "execution_count": 2,
   "id": "54c3864d",
   "metadata": {},
   "outputs": [],
   "source": [
    "import requests"
   ]
  },
  {
   "cell_type": "code",
   "execution_count": 3,
   "id": "ad2ddde7",
   "metadata": {},
   "outputs": [
    {
     "name": "stdout",
     "output_type": "stream",
     "text": [
      "activity: Cook something together with someone; pirce: 0.3; accessibility: 0.8\n"
     ]
    }
   ],
   "source": [
    "my_response = requests.get(\"http://www.boredapi.com/api/activity?participants=2\")\n",
    "if my_response.status_code == 200:\n",
    "    data = my_response.json()\n",
    "    print(f\"activity: {data['activity']}; pirce: {data['price']}; accessibility: {data['accessibility']}\")"
   ]
  },
  {
   "cell_type": "code",
   "execution_count": 4,
   "id": "e591920b",
   "metadata": {},
   "outputs": [],
   "source": [
    "#Question 1.1.1"
   ]
  },
  {
   "cell_type": "code",
   "execution_count": 5,
   "id": "4afa8a64",
   "metadata": {},
   "outputs": [
    {
     "name": "stdout",
     "output_type": "stream",
     "text": [
      "activity 1: Play a game of tennis with a friend; price: 0.1; accessibility: 0.4\n",
      "activity 2: Cook something together with someone; price: 0.3; accessibility: 0.8\n",
      "activity 3: Cook something together with someone; price: 0.3; accessibility: 0.8\n",
      "activity 4: Cook something together with someone; price: 0.3; accessibility: 0.8\n",
      "activity 5: Cook something together with someone; price: 0.3; accessibility: 0.8\n"
     ]
    }
   ],
   "source": [
    "n = 0\n",
    "while n < 5:\n",
    "    my_response = requests.get(\"http://www.boredapi.com/api/activity?participants=2\")\n",
    "    if my_response.status_code == 200:\n",
    "        data = my_response.json()\n",
    "        print(f\"activity {str(n+1)}: {data['activity']}; price: {data['price']}; accessibility: {data['accessibility']}\")\n",
    "        n += 1\n",
    "    "
   ]
  },
  {
   "cell_type": "code",
   "execution_count": 6,
   "id": "fd748abd",
   "metadata": {},
   "outputs": [],
   "source": [
    "#Question 1.2"
   ]
  },
  {
   "cell_type": "code",
   "execution_count": 7,
   "id": "dfabbe42",
   "metadata": {},
   "outputs": [
    {
     "name": "stdout",
     "output_type": "stream",
     "text": [
      "activity 1: Make bread from scratch; price: 0.2; accessibility: 0.2 type: cooking\n",
      "activity 2: Bake a pie with some friends; price: 0.3; accessibility: 0.3 type: cooking\n"
     ]
    }
   ],
   "source": [
    "my_response = requests.get(\"http://www.boredapi.com/api/activity/\")\n",
    "n=0\n",
    "\n",
    "if my_response.status_code == 200:\n",
    "        data = my_response.json()\n",
    "        print(f\"activity {str(n+1)}: {data['activity']}; price: {data['price']}; accessibility: {data['accessibility']} type: {data['type']}\")\n",
    "        activity_type = data['type']\n",
    "        n += 1\n",
    "\n",
    "next_response = requests.get(f\"http://www.boredapi.com/api/activity?type={activity_type}\")\n",
    "if next_response.status_code == 200:\n",
    "    next_data = next_response.json()\n",
    "    print(f\"activity {str(n+1)}: {next_data['activity']}; price: {next_data['price']}; accessibility: {next_data['accessibility']} type: {data['type']}\")\n",
    "    n += 1"
   ]
  },
  {
   "cell_type": "code",
   "execution_count": 8,
   "id": "70cbae9e",
   "metadata": {},
   "outputs": [],
   "source": [
    "#Question 1.3"
   ]
  },
  {
   "cell_type": "code",
   "execution_count": 9,
   "id": "83feb797",
   "metadata": {},
   "outputs": [
    {
     "name": "stdout",
     "output_type": "stream",
     "text": [
      "activity 1: Learn to sew on a button; price: 0.05; accessibility: 0.1 type: education\n",
      "activity 2: Write a short story; price: 0; accessibility: 0.1 type: recreational\n",
      "activity 3: Take a spontaneous road trip with some friends; price: 0.2; accessibility: 0.3 type: social\n",
      "activity 4: Learn woodworking; price: 0.3; accessibility: 0.3 type: diy\n",
      "activity 5: Pick up litter around your favorite park; price: 0; accessibility: 0.05 type: charity\n",
      "activity 6: Learn a new recipe; price: 0; accessibility: 0.05 type: cooking\n",
      "activity 7: Watch a movie you'd never usually watch; price: 0.15; accessibility: 0.15 type: relaxation\n",
      "activity 8: Listen to a new music genre; price: 0; accessibility: 0 type: music\n",
      "activity 9: Organize your pantry; price: 0; accessibility: 0 type: busywork\n"
     ]
    }
   ],
   "source": [
    "activity_types = ['education','recreational','social','diy','charity','cooking','relaxation','music','busywork']\n",
    "n = 0\n",
    "\n",
    "for activity in activity_types:\n",
    "    my_response = requests.get(f\"http://www.boredapi.com/api/activity?type={activity}\")\n",
    "    if my_response.status_code == 200:\n",
    "        data = my_response.json()\n",
    "        print(f\"activity {str(n+1)}: {data['activity']}; price: {data['price']}; accessibility: {data['accessibility']} type: {data['type']}\")\n",
    "        n += 1"
   ]
  },
  {
   "cell_type": "code",
   "execution_count": 10,
   "id": "684a7a82",
   "metadata": {},
   "outputs": [],
   "source": [
    "#Question 2.1"
   ]
  },
  {
   "cell_type": "code",
   "execution_count": 11,
   "id": "0cb2221e",
   "metadata": {},
   "outputs": [],
   "source": [
    "#https://dogapi.dog/docs"
   ]
  },
  {
   "cell_type": "code",
   "execution_count": 12,
   "id": "59b7d5c3",
   "metadata": {},
   "outputs": [],
   "source": [
    "#Question 2.2"
   ]
  },
  {
   "cell_type": "code",
   "execution_count": 13,
   "id": "d935dd60",
   "metadata": {},
   "outputs": [],
   "source": [
    "#https://dogapi.dog/api/v2/facts"
   ]
  },
  {
   "cell_type": "code",
   "execution_count": 14,
   "id": "67575d7c",
   "metadata": {},
   "outputs": [],
   "source": [
    "#Question 2.3"
   ]
  },
  {
   "cell_type": "code",
   "execution_count": 15,
   "id": "b3e9439f",
   "metadata": {},
   "outputs": [],
   "source": [
    "#https://dogapi.dog/api/v2/facts?limit=5"
   ]
  },
  {
   "cell_type": "code",
   "execution_count": 16,
   "id": "50c970ec",
   "metadata": {},
   "outputs": [],
   "source": [
    "#Question 2.4"
   ]
  },
  {
   "cell_type": "code",
   "execution_count": 17,
   "id": "7547b35b",
   "metadata": {
    "scrolled": true
   },
   "outputs": [
    {
     "name": "stdout",
     "output_type": "stream",
     "text": [
      "Dogs are about as smart as a two- or three-year-old child. This means they can understand about 150-200 words, including signals and hand movements with the same meaning as words.\n"
     ]
    }
   ],
   "source": [
    "my_response = requests.get('https://dogapi.dog/api/v2/facts')\n",
    "if my_response.status_code == 200:\n",
    "        data = my_response.json()\n",
    "        print(data['data'][0]['attributes']['body'])\n",
    "       # print(f\"Dog fact: {data['attributes']['body']}\")"
   ]
  },
  {
   "cell_type": "code",
   "execution_count": 18,
   "id": "1d42624d",
   "metadata": {},
   "outputs": [],
   "source": [
    "#Question 2.5"
   ]
  },
  {
   "cell_type": "code",
   "execution_count": 19,
   "id": "56b04730",
   "metadata": {},
   "outputs": [],
   "source": [
    "with open(\"dog_facts.tsv\", \"w\") as my_file:\n",
    "    print(\"ID\\t\\t\\t\\t\\tDog Fact\\n\", file = my_file)\n",
    "\n",
    "n = 0\n",
    "\n",
    "while n < 5:\n",
    "    my_response = requests.get('https://dogapi.dog/api/v2/facts')\n",
    "    if my_response.status_code == 200:\n",
    "        data = my_response.json()\n",
    "        with open(\"dog_facts.tsv\", \"a\") as my_file:\n",
    "            print(f\"{data['data'][0]['id']}, {data['data'][0]['attributes']['body']}\", file = my_file)\n",
    "        n += 1\n",
    "        \n",
    "    #for letter in sorted_boy_initials.keys():\n",
    "     #   print(f\"{letter}\\t{boy_initials[letter]}\", file =my_file)"
   ]
  },
  {
   "cell_type": "code",
   "execution_count": 20,
   "id": "19f485a9",
   "metadata": {},
   "outputs": [],
   "source": [
    "#Question 3.1"
   ]
  },
  {
   "cell_type": "code",
   "execution_count": 21,
   "id": "6bd3da1d",
   "metadata": {
    "scrolled": true
   },
   "outputs": [
    {
     "name": "stdout",
     "output_type": "stream",
     "text": [
      "12\n",
      "\n",
      "[{'place_id': 269145050, 'licence': 'Data © OpenStreetMap contributors, ODbL 1.0. https://osm.org/copyright', 'osm_type': 'way', 'osm_id': 849311238, 'boundingbox': ['47.7546825', '47.754782', '-122.1524294', '-122.1521115'], 'lat': '47.7547323', 'lon': '-122.1522704507272', 'display_name': '76, Northeast Woodinville Duvall Road, Woodinville, King County, Washington, 98072, United States', 'place_rank': 30, 'category': 'amenity', 'type': 'fuel', 'importance': 0.30001, 'icon': 'https://nominatim.openstreetmap.org/ui/mapicons/transport_fuel.p.20.png'}, {'place_id': 251921274, 'licence': 'Data © OpenStreetMap contributors, ODbL 1.0. https://osm.org/copyright', 'osm_type': 'way', 'osm_id': 742071361, 'boundingbox': ['47.7616998', '47.7618512', '-122.1324639', '-122.1323305'], 'lat': '47.761775549999996', 'lon': '-122.13239719990092', 'display_name': 'Arco, Northeast Woodinville Duvall Road, Woodinville, King County, Washington, 98072, United States', 'place_rank': 30, 'category': 'amenity', 'type': 'fuel', 'importance': 0.30001, 'icon': 'https://nominatim.openstreetmap.org/ui/mapicons/transport_fuel.p.20.png'}, {'place_id': 254691787, 'licence': 'Data © OpenStreetMap contributors, ODbL 1.0. https://osm.org/copyright', 'osm_type': 'way', 'osm_id': 742071362, 'boundingbox': ['47.7617842', '47.7618617', '-122.1312967', '-122.1308501'], 'lat': '47.76182295', 'lon': '-122.13107339999999', 'display_name': 'Shell, Northeast Woodinville Duvall Road, Woodinville, King County, Washington, 98072, United States', 'place_rank': 30, 'category': 'amenity', 'type': 'fuel', 'importance': 0.30001, 'icon': 'https://nominatim.openstreetmap.org/ui/mapicons/transport_fuel.p.20.png'}, {'place_id': 145082265, 'licence': 'Data © OpenStreetMap contributors, ODbL 1.0. https://osm.org/copyright', 'osm_type': 'way', 'osm_id': 165342085, 'boundingbox': ['47.7805877', '47.7808574', '-122.1467391', '-122.1461942'], 'lat': '47.7806942', 'lon': '-122.14650933338545', 'display_name': 'Costco Gasoline, Snohomish Woodinville Road, North Creek, Snohomish County, Washington, 98072, United States', 'place_rank': 30, 'category': 'amenity', 'type': 'fuel', 'importance': 0.2001, 'icon': 'https://nominatim.openstreetmap.org/ui/mapicons/transport_fuel.p.20.png'}, {'place_id': 217819538, 'licence': 'Data © OpenStreetMap contributors, ODbL 1.0. https://osm.org/copyright', 'osm_type': 'way', 'osm_id': 521946669, 'boundingbox': ['47.743931', '47.7440846', '-122.1841256', '-122.1839454'], 'lat': '47.744007749999994', 'lon': '-122.18403550006511', 'display_name': 'Shell, Northeast 160th Street, Queensgate, Bothell, King County, Washington, 98011, United States', 'place_rank': 30, 'category': 'amenity', 'type': 'fuel', 'importance': 0.20000999999999997, 'icon': 'https://nominatim.openstreetmap.org/ui/mapicons/transport_fuel.p.20.png'}, {'place_id': 236163252, 'licence': 'Data © OpenStreetMap contributors, ODbL 1.0. https://osm.org/copyright', 'osm_type': 'way', 'osm_id': 651820424, 'boundingbox': ['47.7433057', '47.7435584', '-122.1846056', '-122.1841838'], 'lat': '47.743431799999996', 'lon': '-122.18439470435723', 'display_name': 'Chevron, 15900, 116th Avenue Northeast, Verdeaux, Bothell, King County, Washington, 98011, United States', 'place_rank': 30, 'category': 'amenity', 'type': 'fuel', 'importance': 0.20000999999999997, 'icon': 'https://nominatim.openstreetmap.org/ui/mapicons/transport_fuel.p.20.png'}, {'place_id': 195867363, 'licence': 'Data © OpenStreetMap contributors, ODbL 1.0. https://osm.org/copyright', 'osm_type': 'way', 'osm_id': 386714332, 'boundingbox': ['47.7684593', '47.7685838', '-122.1856339', '-122.1853774'], 'lat': '47.76852155', 'lon': '-122.18550565000001', 'display_name': 'North Creek Parkway, North Creek, Bothell, King County, Washington, 19811, United States', 'place_rank': 30, 'category': 'amenity', 'type': 'fuel', 'importance': 0.20000999999999997, 'icon': 'https://nominatim.openstreetmap.org/ui/mapicons/transport_fuel.p.20.png'}, {'place_id': 216305403, 'licence': 'Data © OpenStreetMap contributors, ODbL 1.0. https://osm.org/copyright', 'osm_type': 'way', 'osm_id': 509895201, 'boundingbox': ['47.7333612', '47.7334498', '-122.1952542', '-122.1951212'], 'lat': '47.7334055', 'lon': '-122.19518769999999', 'display_name': '7-Eleven, Juanita-Woodinville Way Northeast, Bothell, King County, Washington, 98034, United States', 'place_rank': 30, 'category': 'amenity', 'type': 'fuel', 'importance': 0.20000999999999997, 'icon': 'https://nominatim.openstreetmap.org/ui/mapicons/transport_fuel.p.20.png'}, {'place_id': 814586, 'licence': 'Data © OpenStreetMap contributors, ODbL 1.0. https://osm.org/copyright', 'osm_type': 'node', 'osm_id': 287496337, 'boundingbox': ['47.7546098', '47.7547098', '-122.1595472', '-122.1594472'], 'lat': '47.7546598', 'lon': '-122.1594972', 'display_name': 'Chevron, Northeast 175th Street, Woodinville Junction, Woodinville, King County, Washington, 98072, United States', 'place_rank': 30, 'category': 'amenity', 'type': 'fuel', 'importance': 0.20000999999999997, 'icon': 'https://nominatim.openstreetmap.org/ui/mapicons/transport_fuel.p.20.png'}, {'place_id': 134926498, 'licence': 'Data © OpenStreetMap contributors, ODbL 1.0. https://osm.org/copyright', 'osm_type': 'way', 'osm_id': 125114366, 'boundingbox': ['47.7546262', '47.754804', '-122.1647623', '-122.1646139'], 'lat': '47.75474975', 'lon': '-122.16468655612584', 'display_name': 'Shell, 13106, Northeast 175th Street, Woodinville Junction, Woodinville, King County, Washington, 98072, United States', 'place_rank': 30, 'category': 'amenity', 'type': 'fuel', 'importance': 0.20000999999999997, 'icon': 'https://nominatim.openstreetmap.org/ui/mapicons/transport_fuel.p.20.png'}, {'place_id': 810430, 'licence': 'Data © OpenStreetMap contributors, ODbL 1.0. https://osm.org/copyright', 'osm_type': 'node', 'osm_id': 287496330, 'boundingbox': ['47.7541281', '47.7542281', '-122.165897', '-122.165797'], 'lat': '47.7541781', 'lon': '-122.165847', 'display_name': 'Arco, 13023, Northeast 175th Street, Woodinville Junction, Woodinville, King County, Washington, 98072, United States', 'place_rank': 30, 'category': 'amenity', 'type': 'fuel', 'importance': 0.20000999999999997, 'icon': 'https://nominatim.openstreetmap.org/ui/mapicons/transport_fuel.p.20.png'}, {'place_id': 184622732, 'licence': 'Data © OpenStreetMap contributors, ODbL 1.0. https://osm.org/copyright', 'osm_type': 'way', 'osm_id': 327338915, 'boundingbox': ['47.7328662', '47.7329709', '-122.1753087', '-122.174857'], 'lat': '47.73291695', 'lon': '-122.17508283940775', 'display_name': 'Safeway Fuel Station, 14444, 124th Avenue Northeast, Kirkland, King County, Washington, 98034, United States', 'place_rank': 30, 'category': 'amenity', 'type': 'fuel', 'importance': 0.20000999999999997, 'icon': 'https://nominatim.openstreetmap.org/ui/mapicons/transport_fuel.p.20.png'}]\n",
      "0\n",
      "\n",
      "[]\n"
     ]
    }
   ],
   "source": [
    "#There are 12 gas stations in Duvall, and none in Carnation!\n",
    "\n",
    "url = (\"http://nominatim.openstreetmap.org/search\")\n",
    "my_params = {'q' : '[gas station] in duvall, wa',\n",
    "             'format' : 'jsonv2',\n",
    "             'limit' : '50'}\n",
    "             #'city' : 'duvall',\n",
    "             #'state' : 'wa',\n",
    "             #'country' : 'united states'}\n",
    "\n",
    "response = requests.get(url, params=my_params)\n",
    "\n",
    "if response.status_code == 200:\n",
    "    data = response.json()\n",
    "    print(len(data))\n",
    "    print()\n",
    "    print(data)\n",
    "    \n",
    "url = (\"http://nominatim.openstreetmap.org/search\")\n",
    "my_params = {'q' : '[gas station] in carnation, wa',\n",
    "             'format' : 'jsonv2',\n",
    "             'limit' : '50'}\n",
    "             #'city' : 'duvall',\n",
    "             #'state' : 'wa',\n",
    "             #'country' : 'united states'}\n",
    "\n",
    "response = requests.get(url, params=my_params)\n",
    "\n",
    "if response.status_code == 200:\n",
    "    data = response.json()\n",
    "    print(len(data))\n",
    "    print()\n",
    "    print(data)"
   ]
  },
  {
   "cell_type": "code",
   "execution_count": 22,
   "id": "823b229e",
   "metadata": {},
   "outputs": [],
   "source": [
    "#Question 3.2"
   ]
  },
  {
   "cell_type": "code",
   "execution_count": 23,
   "id": "f8faed2a",
   "metadata": {},
   "outputs": [
    {
     "name": "stdout",
     "output_type": "stream",
     "text": [
      "32\n",
      "\n",
      "[{'place_id': 79687109, 'licence': 'Data © OpenStreetMap contributors, ODbL 1.0. https://osm.org/copyright', 'osm_type': 'node', 'osm_id': 7790374292, 'boundingbox': ['47.6610564', '47.6611564', '-122.3164363', '-122.3163363'], 'lat': '47.6611064', 'lon': '-122.3163863', 'display_name': '32 Good Reasons, 1107, Northeast 45th Street, West Campus, University District, Seattle, King County, Washington, 98015, United States', 'place_rank': 30, 'category': 'amenity', 'type': 'dentist', 'importance': 0.40001, 'icon': 'https://nominatim.openstreetmap.org/ui/mapicons/health_dentist.p.20.png'}, {'place_id': 163562169, 'licence': 'Data © OpenStreetMap contributors, ODbL 1.0. https://osm.org/copyright', 'osm_type': 'way', 'osm_id': 235382838, 'boundingbox': ['47.6723931', '47.672623', '-122.3179597', '-122.3175067'], 'lat': '47.6725081', 'lon': '-122.3177331039291', 'display_name': 'Ravenna Dental Clinic, 916, Northeast Ravenna Boulevard, University Heights, Green Lake, Seattle, King County, Washington, 98115, United States', 'place_rank': 30, 'category': 'amenity', 'type': 'dentist', 'importance': 0.40001, 'icon': 'https://nominatim.openstreetmap.org/ui/mapicons/health_dentist.p.20.png'}, {'place_id': 13636959, 'licence': 'Data © OpenStreetMap contributors, ODbL 1.0. https://osm.org/copyright', 'osm_type': 'node', 'osm_id': 1411677375, 'boundingbox': ['47.6596661', '47.6597661', '-122.314124', '-122.314024'], 'lat': '47.6597161', 'lon': '-122.314074', 'display_name': 'Dr. Carey (Dentist), 1305, Northeast 43rd Street, West Campus, University District, Seattle, King County, Washington, 98105, United States', 'place_rank': 30, 'category': 'amenity', 'type': 'dentist', 'importance': 0.40001, 'icon': 'https://nominatim.openstreetmap.org/ui/mapicons/health_dentist.p.20.png'}, {'place_id': 20580826, 'licence': 'Data © OpenStreetMap contributors, ODbL 1.0. https://osm.org/copyright', 'osm_type': 'node', 'osm_id': 2323840309, 'boundingbox': ['47.6641997', '47.6642997', '-122.313287', '-122.313187'], 'lat': '47.6642497', 'lon': '-122.313237', 'display_name': \"Nicole O'Bryan DMD Denistry, 4741, University Way Northeast, University Heights, University District, Seattle, King County, Washington, 98105, United States\", 'place_rank': 30, 'category': 'amenity', 'type': 'dentist', 'importance': 0.40001, 'icon': 'https://nominatim.openstreetmap.org/ui/mapicons/health_dentist.p.20.png'}, {'place_id': 21746922, 'licence': 'Data © OpenStreetMap contributors, ODbL 1.0. https://osm.org/copyright', 'osm_type': 'node', 'osm_id': 2430646553, 'boundingbox': ['47.665505', '47.665605', '-122.3014422', '-122.3013422'], 'lat': '47.665555', 'lon': '-122.3013922', 'display_name': 'Trailside Dentistry, Burke-Gilman Trail, University Park, University District, Seattle, King County, Washington, 98105, United States', 'place_rank': 30, 'category': 'amenity', 'type': 'dentist', 'importance': 0.40001, 'icon': 'https://nominatim.openstreetmap.org/ui/mapicons/health_dentist.p.20.png'}, {'place_id': 97140744, 'licence': 'Data © OpenStreetMap contributors, ODbL 1.0. https://osm.org/copyright', 'osm_type': 'node', 'osm_id': 9525617367, 'boundingbox': ['47.6623688', '47.6624688', '-122.293485', '-122.293385'], 'lat': '47.6624188', 'lon': '-122.293435', 'display_name': 'U-District Smiles, 4530, Union Bay Place Northeast, East Campus, University District, Seattle, King County, Washington, 98105, United States', 'place_rank': 30, 'category': 'amenity', 'type': 'dentist', 'importance': 0.40001, 'icon': 'https://nominatim.openstreetmap.org/ui/mapicons/health_dentist.p.20.png'}, {'place_id': 160690994, 'licence': 'Data © OpenStreetMap contributors, ODbL 1.0. https://osm.org/copyright', 'osm_type': 'way', 'osm_id': 220821050, 'boundingbox': ['47.6800016', '47.6803454', '-122.2901009', '-122.289931'], 'lat': '47.6801886', 'lon': '-122.29001691849672', 'display_name': '35th Avenue Northeast, Wedgwood, Seattle, King County, Washington, 98115, United States', 'place_rank': 30, 'category': 'amenity', 'type': 'dentist', 'importance': 0.30010000000000003, 'icon': 'https://nominatim.openstreetmap.org/ui/mapicons/health_dentist.p.20.png'}, {'place_id': 21921066, 'licence': 'Data © OpenStreetMap contributors, ODbL 1.0. https://osm.org/copyright', 'osm_type': 'node', 'osm_id': 2463987781, 'boundingbox': ['47.6872215', '47.6873215', '-122.290335', '-122.290235'], 'lat': '47.6872715', 'lon': '-122.290285', 'display_name': '8022, 35th Avenue Northeast, Wedgwood, Seattle, King County, Washington, 98115, United States', 'place_rank': 30, 'category': 'amenity', 'type': 'dentist', 'importance': 0.30010000000000003, 'icon': 'https://nominatim.openstreetmap.org/ui/mapicons/health_dentist.p.20.png'}, {'place_id': 18787708, 'licence': 'Data © OpenStreetMap contributors, ODbL 1.0. https://osm.org/copyright', 'osm_type': 'node', 'osm_id': 2134343266, 'boundingbox': ['47.6612003', '47.6613003', '-122.328521', '-122.328421'], 'lat': '47.6612503', 'lon': '-122.328471', 'display_name': 'Wallingford Smiles, 2507, North 45th Street, Wallingford, Seattle, King County, Washington, 98103, United States', 'place_rank': 30, 'category': 'amenity', 'type': 'dentist', 'importance': 0.30001, 'icon': 'https://nominatim.openstreetmap.org/ui/mapicons/health_dentist.p.20.png'}, {'place_id': 41067486, 'licence': 'Data © OpenStreetMap contributors, ODbL 1.0. https://osm.org/copyright', 'osm_type': 'node', 'osm_id': 3311160766, 'boundingbox': ['47.6786947', '47.6787947', '-122.325299', '-122.325199'], 'lat': '47.6787447', 'lon': '-122.325249', 'display_name': 'Greenlake Kids Dentistry, 6900, East Green Lake Way North, Green Lake, Seattle, King County, Washington, 98115, United States', 'place_rank': 30, 'category': 'amenity', 'type': 'dentist', 'importance': 0.30001, 'icon': 'https://nominatim.openstreetmap.org/ui/mapicons/health_dentist.p.20.png'}, {'place_id': 55699208, 'licence': 'Data © OpenStreetMap contributors, ODbL 1.0. https://osm.org/copyright', 'osm_type': 'node', 'osm_id': 4944421181, 'boundingbox': ['47.6686567', '47.6687567', '-122.3324387', '-122.3323387'], 'lat': '47.6687067', 'lon': '-122.3323887', 'display_name': 'Kenny To, DDS, 221, North 56th Street, Tangletown, Wallingford, Seattle, King County, Washington, 98103, United States', 'place_rank': 30, 'category': 'amenity', 'type': 'dentist', 'importance': 0.30001, 'icon': 'https://nominatim.openstreetmap.org/ui/mapicons/health_dentist.p.20.png'}, {'place_id': 21251132, 'licence': 'Data © OpenStreetMap contributors, ODbL 1.0. https://osm.org/copyright', 'osm_type': 'node', 'osm_id': 2403884620, 'boundingbox': ['47.6688015', '47.6689015', '-122.3327277', '-122.3326277'], 'lat': '47.6688515', 'lon': '-122.3326777', 'display_name': 'Keystone Dental, 2210, North 56th Street, Tangletown, Wallingford, Seattle, King County, Washington, 98103, United States', 'place_rank': 30, 'category': 'amenity', 'type': 'dentist', 'importance': 0.30001, 'icon': 'https://nominatim.openstreetmap.org/ui/mapicons/health_dentist.p.20.png'}, {'place_id': 160751626, 'licence': 'Data © OpenStreetMap contributors, ODbL 1.0. https://osm.org/copyright', 'osm_type': 'way', 'osm_id': 224037501, 'boundingbox': ['47.6615494', '47.6617451', '-122.3379222', '-122.3378136'], 'lat': '47.66161555', 'lon': '-122.33786787340982', 'display_name': 'Wallingford Family Dentistry, 1628, North 45th Street, Wallingford, Seattle, King County, Washington, 98103, United States', 'place_rank': 30, 'category': 'amenity', 'type': 'dentist', 'importance': 0.30001, 'icon': 'https://nominatim.openstreetmap.org/ui/mapicons/health_dentist.p.20.png'}, {'place_id': 19927226, 'licence': 'Data © OpenStreetMap contributors, ODbL 1.0. https://osm.org/copyright', 'osm_type': 'node', 'osm_id': 2300443392, 'boundingbox': ['47.6481283', '47.6482283', '-122.323703', '-122.323603'], 'lat': '47.6481783', 'lon': '-122.323653', 'display_name': 'Urban Smiles Dentists, 2936, Eastlake Avenue East, Eastlake, Wallingford, Seattle, King County, Washington, 98102, United States', 'place_rank': 30, 'category': 'amenity', 'type': 'dentist', 'importance': 0.30001, 'icon': 'https://nominatim.openstreetmap.org/ui/mapicons/health_dentist.p.20.png'}, {'place_id': 159010049, 'licence': 'Data © OpenStreetMap contributors, ODbL 1.0. https://osm.org/copyright', 'osm_type': 'way', 'osm_id': 216321416, 'boundingbox': ['47.6554929', '47.6555606', '-122.3367803', '-122.33638'], 'lat': '47.65552675', 'lon': '-122.33658015', 'display_name': 'Wallingford Dental Arts, 3941, Wallingford Avenue North, Wallingford, Seattle, King County, Washington, 98103, United States', 'place_rank': 30, 'category': 'amenity', 'type': 'dentist', 'importance': 0.30001, 'icon': 'https://nominatim.openstreetmap.org/ui/mapicons/health_dentist.p.20.png'}, {'place_id': 50423909, 'licence': 'Data © OpenStreetMap contributors, ODbL 1.0. https://osm.org/copyright', 'osm_type': 'node', 'osm_id': 4416981294, 'boundingbox': ['47.6862762', '47.6863762', '-122.312007', '-122.311907'], 'lat': '47.6863262', 'lon': '-122.311957', 'display_name': 'Maple Leaf Dental, 7750, 15th Avenue Northeast, Green Lake, Seattle, King County, Washington, 98115, United States', 'place_rank': 30, 'category': 'amenity', 'type': 'dentist', 'importance': 0.30001, 'icon': 'https://nominatim.openstreetmap.org/ui/mapicons/health_dentist.p.20.png'}, {'place_id': 19928776, 'licence': 'Data © OpenStreetMap contributors, ODbL 1.0. https://osm.org/copyright', 'osm_type': 'node', 'osm_id': 2268903531, 'boundingbox': ['47.6454204', '47.6455204', '-122.326121', '-122.326021'], 'lat': '47.6454704', 'lon': '-122.326071', 'display_name': 'Puget Sound Periodontics, 2731, Eastlake Avenue East, Eastlake, Seattle, King County, Washington, 98102, United States', 'place_rank': 30, 'category': 'amenity', 'type': 'dentist', 'importance': 0.30001, 'icon': 'https://nominatim.openstreetmap.org/ui/mapicons/health_dentist.p.20.png'}, {'place_id': 18962185, 'licence': 'Data © OpenStreetMap contributors, ODbL 1.0. https://osm.org/copyright', 'osm_type': 'node', 'osm_id': 2131726189, 'boundingbox': ['47.6589451', '47.6590451', '-122.342061', '-122.341961'], 'lat': '47.6589951', 'lon': '-122.342011', 'display_name': 'Greenlake Family Dentistry, 4230, Stone Way North, Wallingford, Seattle, King County, Washington, 98103, United States', 'place_rank': 30, 'category': 'amenity', 'type': 'dentist', 'importance': 0.30001, 'icon': 'https://nominatim.openstreetmap.org/ui/mapicons/health_dentist.p.20.png'}, {'place_id': 17923098, 'licence': 'Data © OpenStreetMap contributors, ODbL 1.0. https://osm.org/copyright', 'osm_type': 'node', 'osm_id': 2047481660, 'boundingbox': ['47.6477778', '47.6478778', '-122.33371', '-122.33361'], 'lat': '47.6478278', 'lon': '-122.33366', 'display_name': 'D. Andrew Lewis, DDS, 2101, North 34th Street, Wallingford, Seattle, King County, Washington, 98103, United States', 'place_rank': 30, 'category': 'amenity', 'type': 'dentist', 'importance': 0.30001, 'icon': 'https://nominatim.openstreetmap.org/ui/mapicons/health_dentist.p.20.png'}, {'place_id': 12589908, 'licence': 'Data © OpenStreetMap contributors, ODbL 1.0. https://osm.org/copyright', 'osm_type': 'node', 'osm_id': 1292786454, 'boundingbox': ['47.6478804', '47.6479804', '-122.33684', '-122.33674'], 'lat': '47.6479304', 'lon': '-122.33679', 'display_name': 'Dr. Sunny Kim, DDS, 3333, Wallingford Avenue North, Wallingford, Seattle, King County, Washington, 98015, United States', 'place_rank': 30, 'category': 'amenity', 'type': 'dentist', 'importance': 0.30001, 'icon': 'https://nominatim.openstreetmap.org/ui/mapicons/health_dentist.p.20.png'}, {'place_id': 160578022, 'licence': 'Data © OpenStreetMap contributors, ODbL 1.0. https://osm.org/copyright', 'osm_type': 'way', 'osm_id': 224037634, 'boundingbox': ['47.6629445', '47.6630822', '-122.3441034', '-122.3438703'], 'lat': '47.663016299999995', 'lon': '-122.34395941490948', 'display_name': 'Greenlake Dental, 4701, Midvale Avenue North, Wallingford, Seattle, King County, Washington, 98103, United States', 'place_rank': 30, 'category': 'amenity', 'type': 'dentist', 'importance': 0.30001, 'icon': 'https://nominatim.openstreetmap.org/ui/mapicons/health_dentist.p.20.png'}, {'place_id': 56344799, 'licence': 'Data © OpenStreetMap contributors, ODbL 1.0. https://osm.org/copyright', 'osm_type': 'node', 'osm_id': 5063065553, 'boundingbox': ['47.648531', '47.648631', '-122.342171', '-122.342071'], 'lat': '47.648581', 'lon': '-122.342121', 'display_name': 'Endodontic Solutions, 3400, Stone Way North, Fremont, Seattle, King County, Washington, 98103, United States', 'place_rank': 30, 'category': 'amenity', 'type': 'dentist', 'importance': 0.30001, 'icon': 'https://nominatim.openstreetmap.org/ui/mapicons/health_dentist.p.20.png'}, {'place_id': 16008384, 'licence': 'Data © OpenStreetMap contributors, ODbL 1.0. https://osm.org/copyright', 'osm_type': 'node', 'osm_id': 1788030746, 'boundingbox': ['47.6494531', '47.6495531', '-122.350431', '-122.350331'], 'lat': '47.6495031', 'lon': '-122.350381', 'display_name': 'Parkside Dental, 601, North 34th Street, Fremont, Seattle, King County, Washington, 98103, United States', 'place_rank': 30, 'category': 'amenity', 'type': 'dentist', 'importance': 0.30001, 'icon': 'https://nominatim.openstreetmap.org/ui/mapicons/health_dentist.p.20.png'}, {'place_id': 21354144, 'licence': 'Data © OpenStreetMap contributors, ODbL 1.0. https://osm.org/copyright', 'osm_type': 'node', 'osm_id': 2383838310, 'boundingbox': ['47.6269118', '47.6270118', '-122.307555', '-122.307455'], 'lat': '47.6269618', 'lon': '-122.307505', 'display_name': 'Capitol Hill Montlake Dentistry, 901, 19th Avenue East, Madison Valley, Capitol Hill, Seattle, King County, Washington, 98112, United States', 'place_rank': 30, 'category': 'amenity', 'type': 'dentist', 'importance': 0.30001, 'icon': 'https://nominatim.openstreetmap.org/ui/mapicons/health_dentist.p.20.png'}, {'place_id': 42783855, 'licence': 'Data © OpenStreetMap contributors, ODbL 1.0. https://osm.org/copyright', 'osm_type': 'node', 'osm_id': 3529503609, 'boundingbox': ['47.6826332', '47.6827332', '-122.290869', '-122.290769'], 'lat': '47.6826832', 'lon': '-122.290819', 'display_name': 'Smiles on 35th, 7347, 35th Avenue Northeast, Wedgwood, Seattle, King County, Washington, 98115, United States', 'place_rank': 30, 'category': 'amenity', 'type': 'dentist', 'importance': 0.30001, 'icon': 'https://nominatim.openstreetmap.org/ui/mapicons/health_dentist.p.20.png'}, {'place_id': 40967377, 'licence': 'Data © OpenStreetMap contributors, ODbL 1.0. https://osm.org/copyright', 'osm_type': 'node', 'osm_id': 3247340561, 'boundingbox': ['47.6823037', '47.6824037', '-122.290699', '-122.290599'], 'lat': '47.6823537', 'lon': '-122.290649', 'display_name': 'Wedgwood Dental Center, 35th Avenue Northeast, Wedgwood, Seattle, King County, Washington, 98115, United States', 'place_rank': 30, 'category': 'amenity', 'type': 'dentist', 'importance': 0.30001, 'icon': 'https://nominatim.openstreetmap.org/ui/mapicons/health_dentist.p.20.png'}, {'place_id': 160091846, 'licence': 'Data © OpenStreetMap contributors, ODbL 1.0. https://osm.org/copyright', 'osm_type': 'way', 'osm_id': 222581813, 'boundingbox': ['47.6874229', '47.6875884', '-122.3442193', '-122.3440038'], 'lat': '47.68753705', 'lon': '-122.34411194996555', 'display_name': 'Sound Care Implant & Cosmetic Dentistry, 8018, Aurora Avenue North, Greenwood, Seattle, King County, Washington, 98103, United States', 'place_rank': 30, 'category': 'amenity', 'type': 'dentist', 'importance': 0.30001, 'icon': 'https://nominatim.openstreetmap.org/ui/mapicons/health_dentist.p.20.png'}, {'place_id': 21966754, 'licence': 'Data © OpenStreetMap contributors, ODbL 1.0. https://osm.org/copyright', 'osm_type': 'node', 'osm_id': 2462448968, 'boundingbox': ['47.6740632', '47.6741632', '-122.354209', '-122.354109'], 'lat': '47.6741132', 'lon': '-122.354159', 'display_name': 'Seattle Dental Arts, 6206, Phinney Avenue North, Phinney Ridge, Seattle, King County, Washington, 98103, United States', 'place_rank': 30, 'category': 'amenity', 'type': 'dentist', 'importance': 0.30001, 'icon': 'https://nominatim.openstreetmap.org/ui/mapicons/health_dentist.p.20.png'}, {'place_id': 18905255, 'licence': 'Data © OpenStreetMap contributors, ODbL 1.0. https://osm.org/copyright', 'osm_type': 'node', 'osm_id': 2158667777, 'boundingbox': ['47.6239696', '47.6240696', '-122.321168', '-122.321068'], 'lat': '47.6240196', 'lon': '-122.321118', 'display_name': 'Gentle Dental, 535, Broadway East, Capitol Hill, Seattle, King County, Washington, 98102, United States', 'place_rank': 30, 'category': 'amenity', 'type': 'dentist', 'importance': 0.30001, 'icon': 'https://nominatim.openstreetmap.org/ui/mapicons/health_dentist.p.20.png'}, {'place_id': 56845360, 'licence': 'Data © OpenStreetMap contributors, ODbL 1.0. https://osm.org/copyright', 'osm_type': 'node', 'osm_id': 5080134326, 'boundingbox': ['47.628426', '47.628526', '-122.331854', '-122.331754'], 'lat': '47.628476', 'lon': '-122.331804', 'display_name': 'Kois Dental, Fairview Avenue North, South Lake Union, Capitol Hill, Seattle, King County, Washington, 98102, United States', 'place_rank': 30, 'category': 'amenity', 'type': 'dentist', 'importance': 0.30001, 'icon': 'https://nominatim.openstreetmap.org/ui/mapicons/health_dentist.p.20.png'}, {'place_id': 21788795, 'licence': 'Data © OpenStreetMap contributors, ODbL 1.0. https://osm.org/copyright', 'osm_type': 'node', 'osm_id': 2462449047, 'boundingbox': ['47.6765047', '47.6766047', '-122.354054', '-122.353954'], 'lat': '47.6765547', 'lon': '-122.354004', 'display_name': 'Dento-Facial Fx Inc., 6514, Phinney Avenue North, Phinney Ridge, Seattle, King County, Washington, 98103, United States', 'place_rank': 30, 'category': 'amenity', 'type': 'dentist', 'importance': 0.30001, 'icon': 'https://nominatim.openstreetmap.org/ui/mapicons/health_dentist.p.20.png'}, {'place_id': 81355906, 'licence': 'Data © OpenStreetMap contributors, ODbL 1.0. https://osm.org/copyright', 'osm_type': 'node', 'osm_id': 7949606807, 'boundingbox': ['47.6235584', '47.6236584', '-122.3071855', '-122.3070855'], 'lat': '47.6236084', 'lon': '-122.3071355', 'display_name': 'Country Doctor Dental Clinic, 510, 19th Avenue East, Madison Valley, Capitol Hill, Seattle, King County, Washington, 98112, United States', 'place_rank': 30, 'category': 'amenity', 'type': 'dentist', 'importance': 0.30001, 'icon': 'https://nominatim.openstreetmap.org/ui/mapicons/health_dentist.p.20.png'}]\n"
     ]
    },
    {
     "name": "stdout",
     "output_type": "stream",
     "text": [
      "0\n",
      "\n",
      "[]\n",
      "There are more dentists near the University than downtown\n"
     ]
    }
   ],
   "source": [
    "\n",
    "\n",
    "url = (\"http://nominatim.openstreetmap.org/search\")\n",
    "my_params = {'q' : '[dentist] in university seattle, wa',\n",
    "             'format' : 'jsonv2',\n",
    "             'limit' : '50'}\n",
    "\n",
    "response = requests.get(url, params=my_params)\n",
    "\n",
    "if response.status_code == 200:\n",
    "    dentists_near_university = response.json()\n",
    "    print(len(dentists_near_university))\n",
    "    print()\n",
    "    print(dentists_near_university)\n",
    "    \n",
    "    \n",
    "url = (\"http://nominatim.openstreetmap.org/search\")\n",
    "my_params = {'q' : '[dentist] near downtown seattle, wa',\n",
    "             'format' : 'jsonv2',\n",
    "             'limit' : '50'}\n",
    "\n",
    "response = requests.get(url, params=my_params)\n",
    "\n",
    "if response.status_code == 200:\n",
    "    dentists_near_downtown = response.json()\n",
    "    print(len(dentists_near_downtown))\n",
    "    print()\n",
    "    print(dentists_near_downtown)\n",
    "    \n",
    "    \n",
    "if dentists_near_university > dentists_near_downtown:\n",
    "    print(\"There are more dentists near the University than downtown\")\n",
    "elif dentists_near_downtown > dentists_near_university:\n",
    "    print(\"There are more dentists downtown than near the University\")\n",
    "else:\n",
    "    (\"There are about the same number of dentists downtown than near the university\")"
   ]
  },
  {
   "cell_type": "code",
   "execution_count": 24,
   "id": "f73b6380",
   "metadata": {},
   "outputs": [
    {
     "data": {
      "text/plain": [
       "0"
      ]
     },
     "execution_count": 24,
     "metadata": {},
     "output_type": "execute_result"
    }
   ],
   "source": [
    "len(data)"
   ]
  },
  {
   "cell_type": "code",
   "execution_count": 25,
   "id": "a2ccbd82",
   "metadata": {},
   "outputs": [],
   "source": [
    "#Question 3.3"
   ]
  },
  {
   "cell_type": "code",
   "execution_count": 26,
   "id": "d96ad71a",
   "metadata": {
    "scrolled": true
   },
   "outputs": [
    {
     "name": "stdout",
     "output_type": "stream",
     "text": [
      "15\n",
      "\n",
      "{'place_id': 362325685, 'licence': 'Data © OpenStreetMap contributors, ODbL 1.0. https://osm.org/copyright', 'osm_type': 'way', 'osm_id': 157188389, 'lat': '38.00931945', 'lon': '-78.45235508168108', 'place_rank': 30, 'category': 'leisure', 'type': 'garden', 'importance': 9.99999999995449e-06, 'addresstype': 'leisure', 'name': 'Monticello Vegetable Garden', 'display_name': 'Monticello Vegetable Garden, Monticello Loop, Albemarle County, Virginia, 22909, United States', 'address': {'leisure': 'Monticello Vegetable Garden', 'road': 'Monticello Loop', 'county': 'Albemarle County', 'state': 'Virginia', 'ISO3166-2-lvl4': 'US-VA', 'postcode': '22909', 'country': 'United States', 'country_code': 'us'}, 'boundingbox': ['38.0087732', '38.0098354', '-78.4538658', '-78.4508959']}\n"
     ]
    }
   ],
   "source": [
    "url = (\"https://nominatim.openstreetmap.org/reverse?\")\n",
    "my_params = {'lat' : '38.00878179408448',\n",
    "             'lon' : '-78.45307065797664',\n",
    "              'format' : 'jsonv2'}\n",
    "\n",
    "#38.01032505634779, -78.45234109716237\n",
    "\n",
    "response = requests.get(url, params=my_params)\n",
    "\n",
    "if response.status_code == 200:\n",
    "    data = response.json()\n",
    "    print(len(data))\n",
    "    print()\n",
    "    print(data)"
   ]
  },
  {
   "cell_type": "code",
   "execution_count": 27,
   "id": "a5ffd461",
   "metadata": {},
   "outputs": [],
   "source": [
    "#Question 4.4"
   ]
  },
  {
   "cell_type": "code",
   "execution_count": 28,
   "id": "f698bda2",
   "metadata": {},
   "outputs": [
    {
     "name": "stdout",
     "output_type": "stream",
     "text": [
      "3\n",
      "\n",
      "[{'place_id': 340259502, 'licence': 'Data © OpenStreetMap contributors, ODbL 1.0. https://osm.org/copyright', 'osm_type': 'way', 'osm_id': 1086262198, 'boundingbox': ['47.6081042', '47.6081428', '-122.1743914', '-122.1742413'], 'lat': '47.6081042', 'lon': '-122.1742413', 'display_name': 'WIlburton Hill Park Trails, Belridge, Bellevue, King County, Washington, 98005, United States', 'place_rank': 30, 'category': 'aerialway', 'type': 'zip_line', 'importance': 0.4001}, {'place_id': 266604172, 'licence': 'Data © OpenStreetMap contributors, ODbL 1.0. https://osm.org/copyright', 'osm_type': 'way', 'osm_id': 831449302, 'boundingbox': ['47.5675978', '47.5685085', '-122.1486867', '-122.1460848'], 'lat': '47.5685085', 'lon': '-122.1472952', 'display_name': '146th Avenue Southeast, Eastgate, Bellevue, King County, Washington, 98006, United States', 'place_rank': 30, 'category': 'aerialway', 'type': 'zip_line', 'importance': 0.4001}, {'place_id': 266425130, 'licence': 'Data © OpenStreetMap contributors, ODbL 1.0. https://osm.org/copyright', 'osm_type': 'way', 'osm_id': 831449301, 'boundingbox': ['47.5676025', '47.5685007', '-122.1486472', '-122.1475391'], 'lat': '47.5682515', 'lon': '-122.1482035', 'display_name': '144th Avenue Southeast, Somerset, Bellevue, King County, Washington, 98006, United States', 'place_rank': 30, 'category': 'aerialway', 'type': 'zip_line', 'importance': 0.4001}]\n"
     ]
    }
   ],
   "source": [
    "url = (\"http://nominatim.openstreetmap.org/search\")\n",
    "my_params = {'q' : '[zipline] in king county, wa',\n",
    "             'format' : 'jsonv2',\n",
    "             'limit' : '50'}\n",
    "\n",
    "response = requests.get(url, params=my_params)\n",
    "\n",
    "if response.status_code == 200:\n",
    "    ziplines = response.json()\n",
    "    print(len(ziplines))\n",
    "    print()\n",
    "    print(ziplines)\n",
    "    \n",
    "#Three zip lines in King County!"
   ]
  },
  {
   "cell_type": "code",
   "execution_count": 29,
   "id": "198d661f",
   "metadata": {},
   "outputs": [],
   "source": [
    "#Question 4.5"
   ]
  },
  {
   "cell_type": "code",
   "execution_count": 65,
   "id": "0ca86af5",
   "metadata": {
    "scrolled": true
   },
   "outputs": [
    {
     "name": "stdout",
     "output_type": "stream",
     "text": [
      "WIlburton Hill Park Trails, Belridge, Bellevue, King County, Washington, 98005, United States\n",
      "1\n",
      "\n",
      "[{'place_id': 72931280, 'licence': 'Data © OpenStreetMap contributors, ODbL 1.0. https://osm.org/copyright', 'osm_type': 'node', 'osm_id': 6873256477, 'boundingbox': ['47.626526', '47.626626', '-122.1662753', '-122.1661753'], 'lat': '47.626576', 'lon': '-122.1662253', 'display_name': 'Bellevue Brewing Company, 1820, 130th Avenue Northeast, Bellevue, King County, Washington, 98005, United States', 'place_rank': 30, 'category': 'amenity', 'type': 'pub', 'importance': 0.7300099999999999, 'icon': 'https://nominatim.openstreetmap.org/ui/mapicons/food_pub.p.20.png'}]\n",
      "146th Avenue Southeast, Eastgate, Bellevue, King County, Washington, 98006, United States\n",
      "1\n",
      "\n",
      "[{'place_id': 6869087, 'licence': 'Data © OpenStreetMap contributors, ODbL 1.0. https://osm.org/copyright', 'osm_type': 'node', 'osm_id': 882563903, 'boundingbox': ['47.5517997', '47.5518997', '-122.1775329', '-122.1774329'], 'lat': '47.5518497', 'lon': '-122.1774829', 'display_name': 'Mustard Seed Grill & Pub, 5630, 119th Avenue Southeast, Lake Heights, Bellevue, King County, Washington, 98006, United States', 'place_rank': 30, 'category': 'amenity', 'type': 'pub', 'importance': 0.9300099999999999, 'icon': 'https://nominatim.openstreetmap.org/ui/mapicons/food_pub.p.20.png'}]\n",
      "144th Avenue Southeast, Somerset, Bellevue, King County, Washington, 98006, United States\n",
      "1\n",
      "\n",
      "[{'place_id': 6869087, 'licence': 'Data © OpenStreetMap contributors, ODbL 1.0. https://osm.org/copyright', 'osm_type': 'node', 'osm_id': 882563903, 'boundingbox': ['47.5517997', '47.5518997', '-122.1775329', '-122.1774329'], 'lat': '47.5518497', 'lon': '-122.1774829', 'display_name': 'Mustard Seed Grill & Pub, 5630, 119th Avenue Southeast, Lake Heights, Bellevue, King County, Washington, 98006, United States', 'place_rank': 30, 'category': 'amenity', 'type': 'pub', 'importance': 0.9300099999999999, 'icon': 'https://nominatim.openstreetmap.org/ui/mapicons/food_pub.p.20.png'}]\n"
     ]
    }
   ],
   "source": [
    "#for place in ziplines:\n",
    " #   lat = place['lat']\n",
    "#    lon = place['lon']\n",
    "#    print(lat)\n",
    "#    print(lon)\n",
    "#    url = (\"https://nominatim.openstreetmap.org/reverse?\")\n",
    "#    my_params = {'q' : '[coffee]',\n",
    "#               'lat' : str(lat),\n",
    "#                'lon' : str(lon),\n",
    "#                'format' : 'jsonv2'}\n",
    "    \n",
    "for place in ziplines:\n",
    "    address = place['display_name']\n",
    "    print(address)\n",
    "    url = (\"http://nominatim.openstreetmap.org/search\")\n",
    "    my_params = {'q' : f\"[cafe] {address}\",\n",
    "                 'format' : 'jsonv2',\n",
    "                 'limit' : '1'}\n",
    "    response = requests.get(url, params=my_params)\n",
    "    if response.status_code == 200:\n",
    "        data = response.json()\n",
    "        print(len(data))\n",
    "        print()\n",
    "        print(data)"
   ]
  },
  {
   "cell_type": "code",
   "execution_count": 66,
   "id": "fd1898b1",
   "metadata": {},
   "outputs": [
    {
     "data": {
      "text/plain": [
       "'146th Avenue Southeast, Eastgate, Bellevue, King County, Washington, 98006, United States'"
      ]
     },
     "execution_count": 66,
     "metadata": {},
     "output_type": "execute_result"
    }
   ],
   "source": [
    "#Question 3.6"
   ]
  },
  {
   "cell_type": "code",
   "execution_count": 116,
   "id": "f6bfcc5d",
   "metadata": {},
   "outputs": [
    {
     "ename": "JSONDecodeError",
     "evalue": "Expecting value: line 1 column 1 (char 0)",
     "output_type": "error",
     "traceback": [
      "\u001b[0;31m---------------------------------------------------------------------------\u001b[0m",
      "\u001b[0;31mJSONDecodeError\u001b[0m                           Traceback (most recent call last)",
      "File \u001b[0;32m~/anaconda3/lib/python3.10/site-packages/requests/models.py:971\u001b[0m, in \u001b[0;36mResponse.json\u001b[0;34m(self, **kwargs)\u001b[0m\n\u001b[1;32m    970\u001b[0m \u001b[38;5;28;01mtry\u001b[39;00m:\n\u001b[0;32m--> 971\u001b[0m     \u001b[38;5;28;01mreturn\u001b[39;00m \u001b[43mcomplexjson\u001b[49m\u001b[38;5;241;43m.\u001b[39;49m\u001b[43mloads\u001b[49m\u001b[43m(\u001b[49m\u001b[38;5;28;43mself\u001b[39;49m\u001b[38;5;241;43m.\u001b[39;49m\u001b[43mtext\u001b[49m\u001b[43m,\u001b[49m\u001b[43m \u001b[49m\u001b[38;5;241;43m*\u001b[39;49m\u001b[38;5;241;43m*\u001b[39;49m\u001b[43mkwargs\u001b[49m\u001b[43m)\u001b[49m\n\u001b[1;32m    972\u001b[0m \u001b[38;5;28;01mexcept\u001b[39;00m JSONDecodeError \u001b[38;5;28;01mas\u001b[39;00m e:\n\u001b[1;32m    973\u001b[0m     \u001b[38;5;66;03m# Catch JSON-related errors and raise as requests.JSONDecodeError\u001b[39;00m\n\u001b[1;32m    974\u001b[0m     \u001b[38;5;66;03m# This aliases json.JSONDecodeError and simplejson.JSONDecodeError\u001b[39;00m\n",
      "File \u001b[0;32m~/anaconda3/lib/python3.10/json/__init__.py:346\u001b[0m, in \u001b[0;36mloads\u001b[0;34m(s, cls, object_hook, parse_float, parse_int, parse_constant, object_pairs_hook, **kw)\u001b[0m\n\u001b[1;32m    343\u001b[0m \u001b[38;5;28;01mif\u001b[39;00m (\u001b[38;5;28mcls\u001b[39m \u001b[38;5;129;01mis\u001b[39;00m \u001b[38;5;28;01mNone\u001b[39;00m \u001b[38;5;129;01mand\u001b[39;00m object_hook \u001b[38;5;129;01mis\u001b[39;00m \u001b[38;5;28;01mNone\u001b[39;00m \u001b[38;5;129;01mand\u001b[39;00m\n\u001b[1;32m    344\u001b[0m         parse_int \u001b[38;5;129;01mis\u001b[39;00m \u001b[38;5;28;01mNone\u001b[39;00m \u001b[38;5;129;01mand\u001b[39;00m parse_float \u001b[38;5;129;01mis\u001b[39;00m \u001b[38;5;28;01mNone\u001b[39;00m \u001b[38;5;129;01mand\u001b[39;00m\n\u001b[1;32m    345\u001b[0m         parse_constant \u001b[38;5;129;01mis\u001b[39;00m \u001b[38;5;28;01mNone\u001b[39;00m \u001b[38;5;129;01mand\u001b[39;00m object_pairs_hook \u001b[38;5;129;01mis\u001b[39;00m \u001b[38;5;28;01mNone\u001b[39;00m \u001b[38;5;129;01mand\u001b[39;00m \u001b[38;5;129;01mnot\u001b[39;00m kw):\n\u001b[0;32m--> 346\u001b[0m     \u001b[38;5;28;01mreturn\u001b[39;00m \u001b[43m_default_decoder\u001b[49m\u001b[38;5;241;43m.\u001b[39;49m\u001b[43mdecode\u001b[49m\u001b[43m(\u001b[49m\u001b[43ms\u001b[49m\u001b[43m)\u001b[49m\n\u001b[1;32m    347\u001b[0m \u001b[38;5;28;01mif\u001b[39;00m \u001b[38;5;28mcls\u001b[39m \u001b[38;5;129;01mis\u001b[39;00m \u001b[38;5;28;01mNone\u001b[39;00m:\n",
      "File \u001b[0;32m~/anaconda3/lib/python3.10/json/decoder.py:337\u001b[0m, in \u001b[0;36mJSONDecoder.decode\u001b[0;34m(self, s, _w)\u001b[0m\n\u001b[1;32m    333\u001b[0m \u001b[38;5;124;03m\"\"\"Return the Python representation of ``s`` (a ``str`` instance\u001b[39;00m\n\u001b[1;32m    334\u001b[0m \u001b[38;5;124;03mcontaining a JSON document).\u001b[39;00m\n\u001b[1;32m    335\u001b[0m \n\u001b[1;32m    336\u001b[0m \u001b[38;5;124;03m\"\"\"\u001b[39;00m\n\u001b[0;32m--> 337\u001b[0m obj, end \u001b[38;5;241m=\u001b[39m \u001b[38;5;28;43mself\u001b[39;49m\u001b[38;5;241;43m.\u001b[39;49m\u001b[43mraw_decode\u001b[49m\u001b[43m(\u001b[49m\u001b[43ms\u001b[49m\u001b[43m,\u001b[49m\u001b[43m \u001b[49m\u001b[43midx\u001b[49m\u001b[38;5;241;43m=\u001b[39;49m\u001b[43m_w\u001b[49m\u001b[43m(\u001b[49m\u001b[43ms\u001b[49m\u001b[43m,\u001b[49m\u001b[43m \u001b[49m\u001b[38;5;241;43m0\u001b[39;49m\u001b[43m)\u001b[49m\u001b[38;5;241;43m.\u001b[39;49m\u001b[43mend\u001b[49m\u001b[43m(\u001b[49m\u001b[43m)\u001b[49m\u001b[43m)\u001b[49m\n\u001b[1;32m    338\u001b[0m end \u001b[38;5;241m=\u001b[39m _w(s, end)\u001b[38;5;241m.\u001b[39mend()\n",
      "File \u001b[0;32m~/anaconda3/lib/python3.10/json/decoder.py:355\u001b[0m, in \u001b[0;36mJSONDecoder.raw_decode\u001b[0;34m(self, s, idx)\u001b[0m\n\u001b[1;32m    354\u001b[0m \u001b[38;5;28;01mexcept\u001b[39;00m \u001b[38;5;167;01mStopIteration\u001b[39;00m \u001b[38;5;28;01mas\u001b[39;00m err:\n\u001b[0;32m--> 355\u001b[0m     \u001b[38;5;28;01mraise\u001b[39;00m JSONDecodeError(\u001b[38;5;124m\"\u001b[39m\u001b[38;5;124mExpecting value\u001b[39m\u001b[38;5;124m\"\u001b[39m, s, err\u001b[38;5;241m.\u001b[39mvalue) \u001b[38;5;28;01mfrom\u001b[39;00m \u001b[38;5;28mNone\u001b[39m\n\u001b[1;32m    356\u001b[0m \u001b[38;5;28;01mreturn\u001b[39;00m obj, end\n",
      "\u001b[0;31mJSONDecodeError\u001b[0m: Expecting value: line 1 column 1 (char 0)",
      "\nDuring handling of the above exception, another exception occurred:\n",
      "\u001b[0;31mJSONDecodeError\u001b[0m                           Traceback (most recent call last)",
      "Cell \u001b[0;32mIn[116], line 12\u001b[0m\n\u001b[1;32m      9\u001b[0m response \u001b[38;5;241m=\u001b[39m requests\u001b[38;5;241m.\u001b[39mget(url, params\u001b[38;5;241m=\u001b[39mmy_params)\n\u001b[1;32m     11\u001b[0m \u001b[38;5;28;01mif\u001b[39;00m response\u001b[38;5;241m.\u001b[39mstatus_code \u001b[38;5;241m==\u001b[39m \u001b[38;5;241m200\u001b[39m:\n\u001b[0;32m---> 12\u001b[0m     data \u001b[38;5;241m=\u001b[39m \u001b[43mresponse\u001b[49m\u001b[38;5;241;43m.\u001b[39;49m\u001b[43mjson\u001b[49m\u001b[43m(\u001b[49m\u001b[43m)\u001b[49m\n\u001b[1;32m     13\u001b[0m     \u001b[38;5;28mprint\u001b[39m(\u001b[38;5;28mlen\u001b[39m(data))\n\u001b[1;32m     14\u001b[0m     \u001b[38;5;28mprint\u001b[39m()\n",
      "File \u001b[0;32m~/anaconda3/lib/python3.10/site-packages/requests/models.py:975\u001b[0m, in \u001b[0;36mResponse.json\u001b[0;34m(self, **kwargs)\u001b[0m\n\u001b[1;32m    971\u001b[0m     \u001b[38;5;28;01mreturn\u001b[39;00m complexjson\u001b[38;5;241m.\u001b[39mloads(\u001b[38;5;28mself\u001b[39m\u001b[38;5;241m.\u001b[39mtext, \u001b[38;5;241m*\u001b[39m\u001b[38;5;241m*\u001b[39mkwargs)\n\u001b[1;32m    972\u001b[0m \u001b[38;5;28;01mexcept\u001b[39;00m JSONDecodeError \u001b[38;5;28;01mas\u001b[39;00m e:\n\u001b[1;32m    973\u001b[0m     \u001b[38;5;66;03m# Catch JSON-related errors and raise as requests.JSONDecodeError\u001b[39;00m\n\u001b[1;32m    974\u001b[0m     \u001b[38;5;66;03m# This aliases json.JSONDecodeError and simplejson.JSONDecodeError\u001b[39;00m\n\u001b[0;32m--> 975\u001b[0m     \u001b[38;5;28;01mraise\u001b[39;00m RequestsJSONDecodeError(e\u001b[38;5;241m.\u001b[39mmsg, e\u001b[38;5;241m.\u001b[39mdoc, e\u001b[38;5;241m.\u001b[39mpos)\n",
      "\u001b[0;31mJSONDecodeError\u001b[0m: Expecting value: line 1 column 1 (char 0)"
     ]
    }
   ],
   "source": [
    "url = (\"http://nominatim.openstreetmap.org/search\")\n",
    "my_params =  {'q' : '[college]',\n",
    "             'viewbox' : '-123.02902,47.78363,-121.65573,47.43180',\n",
    "             'bounded' : '1',\n",
    "             'amenity : college'\n",
    "             'format' : 'jsonv2',\n",
    "             'limit' : '50'}\n",
    "\n",
    "response = requests.get(url, params=my_params)\n",
    "\n",
    "if response.status_code == 200:\n",
    "    data = response.json()\n",
    "    print(len(data))\n",
    "    print()\n",
    "    print(data)\n",
    "\n",
    "\n",
    "    "
   ]
  },
  {
   "cell_type": "code",
   "execution_count": 111,
   "id": "e7258a42",
   "metadata": {},
   "outputs": [
    {
     "name": "stdout",
     "output_type": "stream",
     "text": [
      "Bellevue College, 3000, Landerholm Circle Southeast, Eastgate, Bellevue, King County, Washington, 98007, United States\n"
     ]
    }
   ],
   "source": [
    "print (data[1]['display_name'])"
   ]
  },
  {
   "cell_type": "code",
   "execution_count": null,
   "id": "ca967806",
   "metadata": {},
   "outputs": [],
   "source": [
    "#Question 3.6.1"
   ]
  },
  {
   "cell_type": "code",
   "execution_count": 100,
   "id": "9a567de5",
   "metadata": {},
   "outputs": [
    {
     "name": "stdout",
     "output_type": "stream",
     "text": [
      "32\n",
      "\n",
      "[{'place_id': 299365566, 'licence': 'Data © OpenStreetMap contributors, ODbL 1.0. https://osm.org/copyright', 'osm_type': 'relation', 'osm_id': 9994114, 'boundingbox': ['47.6165074', '47.6184599', '-122.3369693', '-122.3344529'], 'lat': '47.61680045', 'lon': '-122.33586595', 'display_name': 'Cornish College of the Arts, Terry Avenue, South Lake Union, First Hill, Seattle, King County, Washington, 98191, United States', 'place_rank': 30, 'category': 'amenity', 'type': 'college', 'importance': 0.34987195748066746, 'icon': 'https://nominatim.openstreetmap.org/ui/mapicons/education_school.p.20.png'}, {'place_id': 119987411, 'licence': 'Data © OpenStreetMap contributors, ODbL 1.0. https://osm.org/copyright', 'osm_type': 'way', 'osm_id': 55696671, 'boundingbox': ['47.5817895', '47.5891018', '-122.153762', '-122.1429557'], 'lat': '47.585121599999994', 'lon': '-122.14695953894167', 'display_name': 'Bellevue College, 3000, Landerholm Circle Southeast, Eastgate, Bellevue, King County, Washington, 98007, United States', 'place_rank': 30, 'category': 'amenity', 'type': 'college', 'importance': 0.3193657532333713, 'icon': 'https://nominatim.openstreetmap.org/ui/mapicons/education_school.p.20.png'}, {'place_id': 298819040, 'licence': 'Data © OpenStreetMap contributors, ODbL 1.0. https://osm.org/copyright', 'osm_type': 'relation', 'osm_id': 5630067, 'boundingbox': ['47.7281837', '47.7331398', '-122.2531433', '-122.2452277'], 'lat': '47.730512899999994', 'lon': '-122.25029283292629', 'display_name': 'Bastyr University, Holmes Point Drive Northeast, Kenmore, King County, Washington, 98028, United States', 'place_rank': 30, 'category': 'amenity', 'type': 'college', 'importance': 0.294548847777872, 'icon': 'https://nominatim.openstreetmap.org/ui/mapicons/education_school.p.20.png'}, {'place_id': 21752165, 'licence': 'Data © OpenStreetMap contributors, ODbL 1.0. https://osm.org/copyright', 'osm_type': 'node', 'osm_id': 2439830827, 'boundingbox': ['47.6548977', '47.6549977', '-122.312439', '-122.312339'], 'lat': '47.6549477', 'lon': '-122.312389', 'display_name': 'UW College of Built Environments, 3949, 15th Avenue Northeast, West Campus, University District, Seattle, King County, Washington, 98105, United States', 'place_rank': 30, 'category': 'amenity', 'type': 'college', 'importance': 0.29190327427879, 'icon': 'https://nominatim.openstreetmap.org/ui/mapicons/education_school.p.20.png'}, {'place_id': 194889249, 'licence': 'Data © OpenStreetMap contributors, ODbL 1.0. https://osm.org/copyright', 'osm_type': 'way', 'osm_id': 382602831, 'boundingbox': ['47.7455863', '47.7523384', '-122.3637623', '-122.3557926'], 'lat': '47.748975200000004', 'lon': '-122.35988494489598', 'display_name': 'Shoreline Community College, Northwest Innis Arden Way, Shoreline, King County, Washington, 98133, United States', 'place_rank': 30, 'category': 'amenity', 'type': 'college', 'importance': 0.2862449547378125, 'icon': 'https://nominatim.openstreetmap.org/ui/mapicons/education_school.p.20.png'}, {'place_id': 209672309, 'licence': 'Data © OpenStreetMap contributors, ODbL 1.0. https://osm.org/copyright', 'osm_type': 'way', 'osm_id': 468494753, 'boundingbox': ['47.5727873', '47.577453', '-122.6377683', '-122.6328993'], 'lat': '47.57523315', 'lon': '-122.63534018666812', 'display_name': 'Olympic College, 1600, Chester Avenue, Bremerton, Kitsap County, Washington, 98337, United States', 'place_rank': 30, 'category': 'amenity', 'type': 'college', 'importance': 0.27084044532284773, 'icon': 'https://nominatim.openstreetmap.org/ui/mapicons/education_school.p.20.png'}, {'place_id': 145418337, 'licence': 'Data © OpenStreetMap contributors, ODbL 1.0. https://osm.org/copyright', 'osm_type': 'way', 'osm_id': 169786833, 'boundingbox': ['47.6141657', '47.6181591', '-122.3233445', '-122.3201037'], 'lat': '47.61619055', 'lon': '-122.32149768795851', 'display_name': 'Seattle Central College, East Howell Street, Capitol Hill, Seattle, King County, Washington, 98191, United States', 'place_rank': 30, 'category': 'amenity', 'type': 'college', 'importance': 0.270074815609084, 'icon': 'https://nominatim.openstreetmap.org/ui/mapicons/education_school.p.20.png'}, {'place_id': 299018844, 'licence': 'Data © OpenStreetMap contributors, ODbL 1.0. https://osm.org/copyright', 'osm_type': 'relation', 'osm_id': 6038741, 'boundingbox': ['47.702388', '47.7076228', '-122.1701039', '-122.1645566'], 'lat': '47.7047684', 'lon': '-122.16732844735998', 'display_name': 'Lake Washington Institute of Technology, 11605, 132nd Avenue Northeast, Firloch, Kirkland, King County, Washington, 98034, United States', 'place_rank': 30, 'category': 'amenity', 'type': 'college', 'importance': 0.26851441835616036, 'icon': 'https://nominatim.openstreetmap.org/ui/mapicons/education_school.p.20.png'}, {'place_id': 20277018, 'licence': 'Data © OpenStreetMap contributors, ODbL 1.0. https://osm.org/copyright', 'osm_type': 'node', 'osm_id': 2327652090, 'boundingbox': ['47.6176584', '47.6177584', '-122.3445124', '-122.3444124'], 'lat': '47.6177084', 'lon': '-122.3444624', 'display_name': 'City University of Seattle, 521, Wall Street, South Lake Union, Belltown, Seattle, King County, Washington, 98121, United States', 'place_rank': 30, 'category': 'amenity', 'type': 'college', 'importance': 0.2582184742933953, 'icon': 'https://nominatim.openstreetmap.org/ui/mapicons/education_school.p.20.png'}, {'place_id': 103327928, 'licence': 'Data © OpenStreetMap contributors, ODbL 1.0. https://osm.org/copyright', 'osm_type': 'way', 'osm_id': 9408762, 'boundingbox': ['47.6959864', '47.7031582', '-122.3349353', '-122.3298541'], 'lat': '47.69870805', 'lon': '-122.33255180132647', 'display_name': 'North Seattle College, 9600, College Way North, Licton Springs, Maple Leaf, Seattle, King County, Washington, 98103, United States', 'place_rank': 30, 'category': 'amenity', 'type': 'college', 'importance': 0.25632194313709217, 'icon': 'https://nominatim.openstreetmap.org/ui/mapicons/education_school.p.20.png'}, {'place_id': 197315882, 'licence': 'Data © OpenStreetMap contributors, ODbL 1.0. https://osm.org/copyright', 'osm_type': 'way', 'osm_id': 396479077, 'boundingbox': ['47.4885008', '47.495106', '-122.1786869', '-122.1750069'], 'lat': '47.491597', 'lon': '-122.17613681834234', 'display_name': 'Renton Technical College, Jefferson Avenue Northeast, Liberty Ridge, Renton, King County, Washington, 98056, United States', 'place_rank': 30, 'category': 'amenity', 'type': 'college', 'importance': 0.24698155929085722, 'icon': 'https://nominatim.openstreetmap.org/ui/mapicons/education_school.p.20.png'}, {'place_id': 113207576, 'licence': 'Data © OpenStreetMap contributors, ODbL 1.0. https://osm.org/copyright', 'osm_type': 'way', 'osm_id': 31706483, 'boundingbox': ['47.5448765', '47.5518401', '-122.3546253', '-122.3492219'], 'lat': '47.548193299999994', 'lon': '-122.35233908228187', 'display_name': 'South Seattle College, 6000, 16th Avenue Southwest, Delridge, Seattle, King County, Washington, 98106, United States', 'place_rank': 30, 'category': 'amenity', 'type': 'college', 'importance': 0.24469861684138924, 'icon': 'https://nominatim.openstreetmap.org/ui/mapicons/education_school.p.20.png'}, {'place_id': 68745701, 'licence': 'Data © OpenStreetMap contributors, ODbL 1.0. https://osm.org/copyright', 'osm_type': 'node', 'osm_id': 6440063074, 'boundingbox': ['47.6217874', '47.6218874', '-122.3505871', '-122.3504871'], 'lat': '47.6218374', 'lon': '-122.3505371', 'display_name': 'Academy of Interactive Entertainment, 305, Harrison Street, Uptown, Belltown, Seattle, King County, Washington, 98109, United States', 'place_rank': 30, 'category': 'amenity', 'type': 'college', 'importance': 0.23729383463160691, 'icon': 'https://nominatim.openstreetmap.org/ui/mapicons/education_school.p.20.png'}, {'place_id': 188154379, 'licence': 'Data © OpenStreetMap contributors, ODbL 1.0. https://osm.org/copyright', 'osm_type': 'way', 'osm_id': 342786695, 'boundingbox': ['47.5994914', '47.6002831', '-122.3042098', '-122.3033733'], 'lat': '47.60002405', 'lon': '-122.30376308697222', 'display_name': 'Seattle Vocational Institute, 2120, South Jackson Street, Little Saigon, Central District, Seattle, King County, Washington, 98144, United States', 'place_rank': 30, 'category': 'amenity', 'type': 'college', 'importance': 0.23322868681886538, 'icon': 'https://nominatim.openstreetmap.org/ui/mapicons/education_school.p.20.png'}, {'place_id': 197735727, 'licence': 'Data © OpenStreetMap contributors, ODbL 1.0. https://osm.org/copyright', 'osm_type': 'way', 'osm_id': 397007181, 'boundingbox': ['47.6131121', '47.6135231', '-122.3512647', '-122.3506657'], 'lat': '47.6133176', 'lon': '-122.35096519999999', 'display_name': 'The Seattle School of Theology and Psychology, 2501, Elliott Avenue, Belltown, Seattle, King County, Washington, 98121, United States', 'place_rank': 30, 'category': 'amenity', 'type': 'college', 'importance': 0.181472839091896, 'icon': 'https://nominatim.openstreetmap.org/ui/mapicons/education_school.p.20.png'}, {'place_id': 18556102, 'licence': 'Data © OpenStreetMap contributors, ODbL 1.0. https://osm.org/copyright', 'osm_type': 'node', 'osm_id': 2129614086, 'boundingbox': ['47.7109289', '47.7110289', '-122.6038403', '-122.6037403'], 'lat': '47.7109789', 'lon': '-122.6037903', 'display_name': 'Northwest College of Art and Design, Creative Drive Northeast, Port Madison Indian Reservation, Kitsap County, Washington, 98345, United States', 'place_rank': 30, 'category': 'amenity', 'type': 'college', 'importance': 0.08544064771236405, 'icon': 'https://nominatim.openstreetmap.org/ui/mapicons/education_school.p.20.png'}, {'place_id': 299226910, 'licence': 'Data © OpenStreetMap contributors, ODbL 1.0. https://osm.org/copyright', 'osm_type': 'relation', 'osm_id': 5362125, 'boundingbox': ['47.7644334', '47.7662399', '-122.6651998', '-122.6598268'], 'lat': '47.765344400000004', 'lon': '-122.66251231548574', 'display_name': 'Olympic College - Poulsbo Campus, Olympic College Way Northwest, Poulsbo, Kitsap County, Washington, 98730, United States', 'place_rank': 30, 'category': 'amenity', 'type': 'college', 'importance': 0.0001, 'icon': 'https://nominatim.openstreetmap.org/ui/mapicons/education_school.p.20.png'}, {'place_id': 44912351, 'licence': 'Data © OpenStreetMap contributors, ODbL 1.0. https://osm.org/copyright', 'osm_type': 'node', 'osm_id': 3771319445, 'boundingbox': ['47.6186433', '47.6187433', '-122.3465842', '-122.3464842'], 'lat': '47.6186933', 'lon': '-122.3465342', 'display_name': 'Emerald City School, Denny Way, Uptown, Belltown, Seattle, King County, Washington, 98121, United States', 'place_rank': 30, 'category': 'amenity', 'type': 'college', 'importance': 9.99999999995449e-06, 'icon': 'https://nominatim.openstreetmap.org/ui/mapicons/education_school.p.20.png'}, {'place_id': 99262947, 'licence': 'Data © OpenStreetMap contributors, ODbL 1.0. https://osm.org/copyright', 'osm_type': 'node', 'osm_id': 9837120513, 'boundingbox': ['47.6992497', '47.6993497', '-122.327443', '-122.327343'], 'lat': '47.6992997', 'lon': '-122.327393', 'display_name': 'Pima Medical Institute, 9709, 3rd Avenue Northeast, Maple Leaf, Seattle, King County, Washington, 98115, United States', 'place_rank': 30, 'category': 'amenity', 'type': 'college', 'importance': 9.99999999995449e-06, 'icon': 'https://nominatim.openstreetmap.org/ui/mapicons/education_school.p.20.png'}, {'place_id': 12668666, 'licence': 'Data © OpenStreetMap contributors, ODbL 1.0. https://osm.org/copyright', 'osm_type': 'node', 'osm_id': 1313743670, 'boundingbox': ['47.6475548', '47.6476548', '-122.3408849', '-122.3407849'], 'lat': '47.6476048', 'lon': '-122.3408349', 'display_name': 'Divers Institute of Technology, 1341, North Northlake Way, Fremont, Seattle, King County, Washington, 98103, United States', 'place_rank': 30, 'category': 'amenity', 'type': 'college', 'importance': 9.99999999995449e-06, 'icon': 'https://nominatim.openstreetmap.org/ui/mapicons/education_school.p.20.png'}, {'place_id': 10056907, 'licence': 'Data © OpenStreetMap contributors, ODbL 1.0. https://osm.org/copyright', 'osm_type': 'node', 'osm_id': 1099460871, 'boundingbox': ['47.6779951', '47.6780951', '-122.323528', '-122.323428'], 'lat': '47.6780451', 'lon': '-122.323478', 'display_name': 'Seattle Institute of Oriental Medicine, 444, Northeast Ravenna Boulevard, Meridian, Green Lake, Seattle, King County, Washington, 98115, United States', 'place_rank': 30, 'category': 'amenity', 'type': 'college', 'importance': 9.99999999995449e-06, 'icon': 'https://nominatim.openstreetmap.org/ui/mapicons/education_school.p.20.png'}, {'place_id': 186303931, 'licence': 'Data © OpenStreetMap contributors, ODbL 1.0. https://osm.org/copyright', 'osm_type': 'way', 'osm_id': 336485971, 'boundingbox': ['47.5965599', '47.5978044', '-122.3021181', '-122.3013024'], 'lat': '47.59718215', 'lon': '-122.3017103499598', 'display_name': 'Seattle Central College Wood Technology Center, 2310, South Lane Street, Central District, Seattle, King County, Washington, 98144, United States', 'place_rank': 30, 'category': 'amenity', 'type': 'college', 'importance': 9.99999999995449e-06, 'icon': 'https://nominatim.openstreetmap.org/ui/mapicons/education_school.p.20.png'}, {'place_id': 20101117, 'licence': 'Data © OpenStreetMap contributors, ODbL 1.0. https://osm.org/copyright', 'osm_type': 'node', 'osm_id': 2312065990, 'boundingbox': ['47.6229701', '47.6230701', '-122.3374046', '-122.3373046'], 'lat': '47.6230201', 'lon': '-122.3373546', 'display_name': 'Northeastern University, 401, Terry Avenue North, South Lake Union, Belltown, Seattle, King County, Washington, 98109, United States', 'place_rank': 30, 'category': 'amenity', 'type': 'college', 'importance': 9.99999999995449e-06, 'icon': 'https://nominatim.openstreetmap.org/ui/mapicons/education_school.p.20.png'}, {'place_id': 164983833, 'licence': 'Data © OpenStreetMap contributors, ODbL 1.0. https://osm.org/copyright', 'osm_type': 'way', 'osm_id': 239827006, 'boundingbox': ['47.61564', '47.6162752', '-122.3467899', '-122.3457922'], 'lat': '47.6159398', 'lon': '-122.3462752444464', 'display_name': 'Antioch University, 2400, 3rd Avenue, Uptown, Belltown, Seattle, King County, Washington, 98121, United States', 'place_rank': 30, 'category': 'amenity', 'type': 'college', 'importance': 9.99999999995449e-06, 'icon': 'https://nominatim.openstreetmap.org/ui/mapicons/education_school.p.20.png'}, {'place_id': 203132927, 'licence': 'Data © OpenStreetMap contributors, ODbL 1.0. https://osm.org/copyright', 'osm_type': 'way', 'osm_id': 430427474, 'boundingbox': ['47.5406943', '47.5436618', '-122.3278682', '-122.3231036'], 'lat': '47.5421533', 'lon': '-122.32476070599505', 'display_name': 'South Seattle Community College Georgetown Campus, 6737, Corson Avenue South, Van Asselt, Georgetown, Seattle, King County, Washington, 98108, United States', 'place_rank': 30, 'category': 'amenity', 'type': 'college', 'importance': 9.99999999995449e-06, 'icon': 'https://nominatim.openstreetmap.org/ui/mapicons/education_school.p.20.png'}, {'place_id': 58292313, 'licence': 'Data © OpenStreetMap contributors, ODbL 1.0. https://osm.org/copyright', 'osm_type': 'node', 'osm_id': 5366985027, 'boundingbox': ['47.6120172', '47.6121172', '-122.1903415', '-122.1902415'], 'lat': '47.6120672', 'lon': '-122.1902915', 'display_name': 'Washington Technology University, Northeast 2nd Street, Midlakes, Bellevue, King County, Washington, 98009, United States', 'place_rank': 30, 'category': 'amenity', 'type': 'college', 'importance': 9.99999999995449e-06, 'icon': 'https://nominatim.openstreetmap.org/ui/mapicons/education_school.p.20.png'}, {'place_id': 116794522, 'licence': 'Data © OpenStreetMap contributors, ODbL 1.0. https://osm.org/copyright', 'osm_type': 'way', 'osm_id': 42942843, 'boundingbox': ['47.6884198', '47.6893772', '-122.150986', '-122.1499626'], 'lat': '47.68889435', 'lon': '-122.15067316860838', 'display_name': 'Digipen Institute of Technology, 9931, Willows Road Northeast, Earlmont, Redmond, King County, Washington, 98052, United States', 'place_rank': 30, 'category': 'amenity', 'type': 'college', 'importance': 9.99999999995449e-06, 'icon': 'https://nominatim.openstreetmap.org/ui/mapicons/education_school.p.20.png'}, {'place_id': 36097469, 'licence': 'Data © OpenStreetMap contributors, ODbL 1.0. https://osm.org/copyright', 'osm_type': 'node', 'osm_id': 2968207780, 'boundingbox': ['47.4695664', '47.4696664', '-122.2315624', '-122.2314624'], 'lat': '47.4696164', 'lon': '-122.2315124', 'display_name': 'Everest College, 981, Powell Avenue Southwest, Renton, King County, Washington, 98057, United States', 'place_rank': 30, 'category': 'amenity', 'type': 'college', 'importance': 9.99999999995449e-06, 'icon': 'https://nominatim.openstreetmap.org/ui/mapicons/education_school.p.20.png'}, {'place_id': 48587855, 'licence': 'Data © OpenStreetMap contributors, ODbL 1.0. https://osm.org/copyright', 'osm_type': 'node', 'osm_id': 4236837477, 'boundingbox': ['47.4691164', '47.4692164', '-122.2116711', '-122.2115711'], 'lat': '47.4691664', 'lon': '-122.2116211', 'display_name': 'CityUniversity Seattle, South Renton Village Place, Renton, King County, Washington, 98057, United States', 'place_rank': 30, 'category': 'amenity', 'type': 'college', 'importance': 9.99999999995449e-06, 'icon': 'https://nominatim.openstreetmap.org/ui/mapicons/education_school.p.20.png'}, {'place_id': 81168141, 'licence': 'Data © OpenStreetMap contributors, ODbL 1.0. https://osm.org/copyright', 'osm_type': 'node', 'osm_id': 7857247871, 'boundingbox': ['47.7616719', '47.7617719', '-122.3446577', '-122.3445577'], 'lat': '47.7617219', 'lon': '-122.3446077', 'display_name': 'Evergreen Beauty College, North 183rd Street, Meridian Park, Richmond Highlands, Shoreline, King County, Washington, 98155, United States', 'place_rank': 30, 'category': 'amenity', 'type': 'college', 'importance': 9.99999999995449e-06, 'icon': 'https://nominatim.openstreetmap.org/ui/mapicons/education_school.p.20.png'}, {'place_id': 81290036, 'licence': 'Data © OpenStreetMap contributors, ODbL 1.0. https://osm.org/copyright', 'osm_type': 'node', 'osm_id': 7857247870, 'boundingbox': ['47.7615836', '47.7616836', '-122.344854', '-122.344754'], 'lat': '47.7616336', 'lon': '-122.344804', 'display_name': 'Nursing Assistant Training Institute, North 183rd Street, Meridian Park, Richmond Highlands, Shoreline, King County, Washington, 98155, United States', 'place_rank': 30, 'category': 'amenity', 'type': 'college', 'importance': 9.99999999995449e-06, 'icon': 'https://nominatim.openstreetmap.org/ui/mapicons/education_school.p.20.png'}, {'place_id': 146861571, 'licence': 'Data © OpenStreetMap contributors, ODbL 1.0. https://osm.org/copyright', 'osm_type': 'way', 'osm_id': 172710540, 'boundingbox': ['47.4313319', '47.4345615', '-122.335604', '-122.3300819'], 'lat': '47.43332315', 'lon': '-122.33277929822987', 'display_name': 'Washington State Criminal Justice Training Center, 1st Avenue South, Burien, King County, Washington, 98148, United States', 'place_rank': 30, 'category': 'amenity', 'type': 'college', 'importance': 9.99999999995449e-06, 'icon': 'https://nominatim.openstreetmap.org/ui/mapicons/education_school.p.20.png'}]\n"
     ]
    }
   ],
   "source": [
    "url = (\"http://nominatim.openstreetmap.org/search\")\n",
    "my_params =  {'q' : '[college]',\n",
    "             'viewbox' : '-123.02902,47.78363,-121.65573,47.43180',\n",
    "             'bounded' : '1',\n",
    "             'amenity : college'\n",
    "             'addressdetails' : '1',\n",
    "             'format' : 'jsonv2',\n",
    "             'limit' : '50'}\n",
    "\n",
    "response = requests.get(url, params=my_params)\n",
    "\n",
    "if response.status_code == 200:\n",
    "    data = response.json()\n",
    "    print(len(data))\n",
    "    print()\n",
    "    print(data)"
   ]
  },
  {
   "cell_type": "code",
   "execution_count": null,
   "id": "f0203eb2",
   "metadata": {},
   "outputs": [],
   "source": [
    "#Question 3.6.2"
   ]
  },
  {
   "cell_type": "code",
   "execution_count": null,
   "id": "229ffe10",
   "metadata": {},
   "outputs": [],
   "source": [
    "#Check to see if the amenity/type is set to 'college'"
   ]
  },
  {
   "cell_type": "code",
   "execution_count": null,
   "id": "ccc55a2e",
   "metadata": {},
   "outputs": [],
   "source": [
    "#Quesiton 3.6.3"
   ]
  },
  {
   "cell_type": "code",
   "execution_count": 126,
   "id": "55d254e5",
   "metadata": {},
   "outputs": [],
   "source": [
    "with open(\"college_locations.tsv\", \"w\") as my_file:\n",
    "    print(\"College\\tLatitude\\tLongitude\", file=my_file)\n",
    "    for college in data:\n",
    "        print(college['display_name'],college['lat'],college['lon'], file =my_file)"
   ]
  },
  {
   "cell_type": "code",
   "execution_count": 124,
   "id": "bc2f4040",
   "metadata": {},
   "outputs": [
    {
     "name": "stdout",
     "output_type": "stream",
     "text": [
      "Washington State Criminal Justice Training Center, 1st Avenue South, Burien, King County, Washington, 98148, United States 47.43332315 -122.33277929822987\n"
     ]
    }
   ],
   "source": [
    "print(college['display_name'],college['lat'],college['lon'])"
   ]
  },
  {
   "cell_type": "code",
   "execution_count": null,
   "id": "58203d41",
   "metadata": {},
   "outputs": [],
   "source": []
  }
 ],
 "metadata": {
  "kernelspec": {
   "display_name": "Python 3 (ipykernel)",
   "language": "python",
   "name": "python3"
  },
  "language_info": {
   "codemirror_mode": {
    "name": "ipython",
    "version": 3
   },
   "file_extension": ".py",
   "mimetype": "text/x-python",
   "name": "python",
   "nbconvert_exporter": "python",
   "pygments_lexer": "ipython3",
   "version": "3.10.9"
  }
 },
 "nbformat": 4,
 "nbformat_minor": 5
}
