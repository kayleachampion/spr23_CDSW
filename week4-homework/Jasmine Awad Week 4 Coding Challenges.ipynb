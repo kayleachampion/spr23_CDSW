{
 "cells": [
  {
   "cell_type": "code",
   "execution_count": 2,
   "id": "8fa57df5",
   "metadata": {},
   "outputs": [],
   "source": [
    "#1 Bored API"
   ]
  },
  {
   "cell_type": "code",
   "execution_count": 9,
   "id": "22a2ebad",
   "metadata": {},
   "outputs": [
    {
     "name": "stdout",
     "output_type": "stream",
     "text": [
      "You and your partner can Bake pastries for you and your neighbor- which scores a 0.3 in the accessibility scale, and scores a 0.4 on the price scale.\n"
     ]
    }
   ],
   "source": [
    "#Write some Python code to use the API to get an activity that I could do with my partner. \n",
    "#Turn the data from the API into a sentence that tells me the activity, its accessibility, and its price. \n",
    "#(Note: this used to say \"free activity\"; we removed that because it's more boring that way.)\n",
    "\n",
    "import requests #import this module, it is one of the ways python can interact with things on the web (not just APIs)\n",
    "response = requests.get(\"http://www.boredapi.com/api/activity/\")\n",
    "response = response.json() #will return  a dictionary\n",
    "print(f\"You and your partner can {response['activity']}- which scores a {response['accessibility']} in the accessibility scale, and scores a {response['price']} on the price scale.\")"
   ]
  },
  {
   "cell_type": "code",
   "execution_count": 11,
   "id": "40b8377f",
   "metadata": {},
   "outputs": [
    {
     "name": "stdout",
     "output_type": "stream",
     "text": [
      "You and your partner can Wash your car- which scores a 0.15 in the accessibility scale, and scores a 0.05 on the price scale.\n",
      "You and your partner can Practice coding in your favorite lanaguage- which scores a 0.1 in the accessibility scale, and scores a 0 on the price scale.\n",
      "You and your partner can Explore a park you have never been to before- which scores a 0 in the accessibility scale, and scores a 0 on the price scale.\n",
      "You and your partner can Meditate for five minutes- which scores a 0.05 in the accessibility scale, and scores a 0 on the price scale.\n",
      "You and your partner can Make a simple musical instrument- which scores a 0.25 in the accessibility scale, and scores a 0.4 on the price scale.\n"
     ]
    }
   ],
   "source": [
    "#Extend that code so that it gets me 5 activities and have it write a nicely formatted output.\n",
    "for number in [1,2,3,4,5]:\n",
    "    response = requests.get(\"http://www.boredapi.com/api/activity/\")\n",
    "    if response.status_code == 200:\n",
    "        data = response.json()\n",
    "        print(f\"You and your partner can {data['activity']}- which scores a {data['accessibility']} in the accessibility scale, and scores a {data['price']} on the price scale.\")"
   ]
  },
  {
   "cell_type": "code",
   "execution_count": 23,
   "id": "779656c1",
   "metadata": {},
   "outputs": [
    {
     "name": "stdout",
     "output_type": "stream",
     "text": [
      "First activity: Sit in the dark and listen to your favorite music with no distractions - relaxation\n",
      "Second activity: Write a list of things you are grateful for - relaxation\n"
     ]
    }
   ],
   "source": [
    "#First, get a totally random activity from the API. Print it out, along with its activity type. \n",
    "#Now get me another activity that's of the same type as the first random activity. \n",
    "#Print it out too, plus its activity type (to check that they're the same).\n",
    "\n",
    "import requests #import this module, it is one of the ways python can interact with things on the web (not just APIs)\n",
    "response = requests.get(\"http://www.boredapi.com/api/activity/\")\n",
    "firstData = response.json() #will return  a dictionary\n",
    "firstDataType= firstData['type']\n",
    "print(f\"First activity: {firstData['activity']} - {firstData['type']}\")\n",
    "for number in [1]:\n",
    "    my_parameters = {'type': firstDataType}\n",
    "    response = requests.get(\"https://www.boredapi.com/api/activity\", params=my_parameters)\n",
    "    if response.status_code == 200:\n",
    "        data = response.json()\n",
    "        print(f\"Second activity: {data['activity']} - {data['type']}\")"
   ]
  },
  {
   "cell_type": "code",
   "execution_count": 25,
   "id": "c6457c38",
   "metadata": {},
   "outputs": [
    {
     "name": "stdout",
     "output_type": "stream",
     "text": [
      "type education: Learn origami\n",
      "type recreational: Create a personal website\n",
      "type social: Go to a music festival with some friends\n",
      "type diy: Create a compost pile\n",
      "type charity: Mow your neighbor's lawn\n",
      "type cooking: Bake pastries for you and your neighbor\n",
      "type relaxation: Take your cat on a walk\n",
      "type music: Have a jam session with your friends\n",
      "type busywork: Organize your pantry\n"
     ]
    }
   ],
   "source": [
    "#Write a Python program that prints out one random activity of each type that the Bored API supports. \n",
    "#(See if you can use a loop for this!)\n",
    "\n",
    "types = ['education', 'recreational', 'social', 'diy', 'charity', 'cooking', 'relaxation', 'music', 'busywork']\n",
    "\n",
    "for option in types:\n",
    "    my_parameters = {'type' : {option}}\n",
    "    response = requests.get(\"https://www.boredapi.com/api/activity\", params=my_parameters)\n",
    "    if response.status_code == 200:\n",
    "        data = response.json()\n",
    "        print(f\"type {option}: {data['activity']}\")"
   ]
  },
  {
   "cell_type": "code",
   "execution_count": 26,
   "id": "03eddccf",
   "metadata": {},
   "outputs": [],
   "source": [
    "#2 Learning a new API"
   ]
  },
  {
   "cell_type": "code",
   "execution_count": 28,
   "id": "4e0a4618",
   "metadata": {},
   "outputs": [],
   "source": [
    "#In this exercise, I want to you to practice learning to use a new API and practice reading some API documentation. \n",
    "#We're going to start with the Dog API which is online at: https://dogapi.dog\n",
    "#Visit the Dog API website and read the API documentation\n",
    "#Write a URL that will return a single dog fact (you don't need to turn in any python code for this! just the link is fine!)\n",
    "\n",
    "#https://dogapi.dog/api/v1/facts"
   ]
  },
  {
   "cell_type": "code",
   "execution_count": 29,
   "id": "4c5046e7",
   "metadata": {},
   "outputs": [],
   "source": [
    "#Write a URL that will return 5 dog facts at once (just the link is fine)\n",
    "\n",
    "#https://dogapi.dog/api/v1/facts?number=5"
   ]
  },
  {
   "cell_type": "code",
   "execution_count": 35,
   "id": "ba47c9e6",
   "metadata": {},
   "outputs": [
    {
     "name": "stdout",
     "output_type": "stream",
     "text": [
      "['Dogs have three eyelids. The third lid, called a nictitating membrane or \"haw,\" keeps the eye lubricated and protected.']\n"
     ]
    }
   ],
   "source": [
    "#Take your URL to request a single dog fact and put into a Python program that uses requests.get() and passes \n",
    "#in parameters with the params= argument. Your program should just print out the fact itself and not the full \n",
    "#JSON object\n",
    "\n",
    "import requests #import this module, it is one of the ways python can interact with things on the web (not just APIs)\n",
    "response = requests.get(\"https://dogapi.dog/api/v1/facts\", params= 'facts')\n",
    "response = response.json() #will return  a dictionary\n",
    "response = response['facts']\n",
    "print(response)"
   ]
  },
  {
   "cell_type": "code",
   "execution_count": 50,
   "id": "fd55abd0",
   "metadata": {},
   "outputs": [
    {
     "name": "stdout",
     "output_type": "stream",
     "text": [
      "1\t['Female wolves have been known to travel great distances to regurgitate full meals for their hungry pups.', 'A dog’s vision is not fully developed until after the first month.', 'The U.S. has the highest dog population in the world.', 'Conservationists have used dogs to find bumblebee hives in order to protect endangered species.', 'Dalmatians are completely white at birth.']\n",
      "2\t['The Akita is one of the most challenging dogs to own. Some insurance companies have even characterized it as the #1 \"bad dog\" and may even raise an Akita owner’s homeowner insurance costs.', \"A dog's nose is so sensitive that they can detect minute changes in the earth's magnetic field.\", 'The world’s smartest dogs are thought to be (1) the Border Collie, (2) the Poodle, and (3) the Golden Retriever and the dumbest dog is believed to be the Afghan Hound.', 'The earliest European images of dogs are found in cave paintings dating back 12,000 years ago in Spain.', \"A dog's sense of smell is 10,000 times stronger than a human's.\"]\n",
      "3\t['Puppies have 28 teeth and adult dogs have 42.', 'A dog can both sniff and breathe at the same time.', 'Apple and pear seeds contain arsenic, which may be deadly to dogs.', 'A Border Collie named Chaser has learned the names of 1,022 toys, and can retrieve each by name.', 'Here’s looking at you. Dogs have three eyelids, an upper lid, a lower lid and the third lid, called a nictitating membrane or \"haw,\" which helps keep the eye moist and protected.']\n",
      "4\t['The St. Bernard is the heaviest dog breed.', 'Dogs in a pack are more likely to chase and hunt than a single dog on its own. Two dogs are enough to form a pack.', 'Pregnancy can be prevented by spaying the female dog, this involves removing both the ovaries and the uterus.', 'The oldest dog on record – a Queensland Heeler named Bluey – was 29 years, 5 months old.', 'Dogs engage in rapid-eye-movement when they sleep, and have dreams just like humans do.']\n",
      "5\t['A group of puppies is called a litter.', 'A dog most likely interprets a smiling person as baring their teeth, which is an act of aggression.', 'The Mayans and Aztecs symbolized every tenth day with the dog, and those born under this sign were believed to have outstanding leadership skills.', 'The average city dog lives 3 years longer than a country dog.', 'Average body temperature for a dog is 101.2 degrees.']\n"
     ]
    }
   ],
   "source": [
    "for number in [1,2,3,4,5]:\n",
    "            response = requests.get(\"https://dogapi.dog/api/v1/facts?number=5\")\n",
    "            if response.status_code == 200:\n",
    "                data = response.json()\n",
    "            print(f\"{number}\\t{data['facts']}\")"
   ]
  },
  {
   "cell_type": "code",
   "execution_count": 51,
   "id": "e4714e6f",
   "metadata": {
    "scrolled": true
   },
   "outputs": [],
   "source": [
    "#Finally, write a for loop that gets sets of 5 facts 5 times (you can just try something like for number in [1,2,3,4,5], downloads the lists of dog facts, and then writes out a new tab-separated values (TSV) file with columns: (1) ID of the dog fact, and \n",
    "#(2) the fact itself!\n",
    "\n",
    "\n",
    "with open('FiveDogFacts.tsv', 'w') as my_file: #tab separated values better than csv because commas are common\n",
    "    print(\"factSet\\tfacts\", file = my_file) #prints the header for your file\n",
    "    for number in [1,2,3,4,5]:\n",
    "            response = requests.get(\"https://dogapi.dog/api/v1/facts?number=5\")\n",
    "            if response.status_code == 200:\n",
    "                data = response.json()\n",
    "            print(f\"{number}\\t{data['facts']}\", file = my_file) #will print out letters and then number associated with letters into the file\n",
    "    "
   ]
  },
  {
   "cell_type": "code",
   "execution_count": null,
   "id": "ad43fe05",
   "metadata": {},
   "outputs": [],
   "source": [
    "#3 Mapping!"
   ]
  },
  {
   "cell_type": "code",
   "execution_count": 52,
   "id": "59c8235d",
   "metadata": {},
   "outputs": [],
   "source": [
    "#Are there more gas stations in Duvall or Carnation?"
   ]
  },
  {
   "cell_type": "code",
   "execution_count": 53,
   "id": "c17e2729",
   "metadata": {},
   "outputs": [],
   "source": [
    "#Are there more dentists near the University or near Downtown? (you will need to look at the limit on the number of \n",
    "#returned items)\n"
   ]
  },
  {
   "cell_type": "code",
   "execution_count": 54,
   "id": "2a4d7823",
   "metadata": {},
   "outputs": [],
   "source": [
    "#Use the geocoding API endpoint in Nominatim to look up a specific latitude and longitude of your choice \n",
    "#(try this building or your hometown)."
   ]
  },
  {
   "cell_type": "code",
   "execution_count": 55,
   "id": "edb5c4f5",
   "metadata": {},
   "outputs": [],
   "source": [
    "#Write a program to find all the ziplines in King County, Washington (or at least all the ones that OSM knows about!)."
   ]
  },
  {
   "cell_type": "code",
   "execution_count": 56,
   "id": "eb133d89",
   "metadata": {},
   "outputs": [],
   "source": [
    "#It's important to be alert and well-caffeinated when ziplining! Once you've found a nearby zipline, \n",
    "#have your program use that result to find the nearest cafe each of the ziplines you identify!"
   ]
  },
  {
   "cell_type": "code",
   "execution_count": 57,
   "id": "d0b5bcbd",
   "metadata": {},
   "outputs": [],
   "source": [
    "#Craft a query using the search API to find colleges in Seattle. (Hint: you'll want to set bounded=1 and use the viewbox). \n",
    "#Print the name and location of every college you find."
   ]
  },
  {
   "cell_type": "code",
   "execution_count": 58,
   "id": "08688ece",
   "metadata": {},
   "outputs": [],
   "source": [
    "#Modify your query so that you include the address details separated out (this is an API option you can find in the \n",
    "#documentation)?"
   ]
  },
  {
   "cell_type": "code",
   "execution_count": 59,
   "id": "78a7aac4",
   "metadata": {},
   "outputs": [],
   "source": [
    "#How can you tell that a place returned by the API is in fact a college?"
   ]
  },
  {
   "cell_type": "code",
   "execution_count": null,
   "id": "a82da05b",
   "metadata": {},
   "outputs": [],
   "source": [
    "#Print the list of colleges into a new TSV file with the following columns: osm_id (a unique ID that OSM uses), \n",
    "#the name of the college, latitude, and longitude."
   ]
  }
 ],
 "metadata": {
  "kernelspec": {
   "display_name": "Python 3 (ipykernel)",
   "language": "python",
   "name": "python3"
  },
  "language_info": {
   "codemirror_mode": {
    "name": "ipython",
    "version": 3
   },
   "file_extension": ".py",
   "mimetype": "text/x-python",
   "name": "python",
   "nbconvert_exporter": "python",
   "pygments_lexer": "ipython3",
   "version": "3.10.9"
  }
 },
 "nbformat": 4,
 "nbformat_minor": 5
}
