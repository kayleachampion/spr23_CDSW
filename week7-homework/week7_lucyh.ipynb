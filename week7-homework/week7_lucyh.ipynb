{
 "cells": [
  {
   "cell_type": "markdown",
   "id": "9756b026",
   "metadata": {},
   "source": [
    "# 1. Getting started with pandas and Seattle \"complaint\" data"
   ]
  },
  {
   "cell_type": "markdown",
   "id": "aaaaa4b3",
   "metadata": {},
   "source": [
    "Go to data.seattle.gov and download the dataset on code complaints and violations. (It is, by the way, also available in an API!) In this case, just go to Export→CSV and download the file. It should be about 80 megabytes."
   ]
  },
  {
   "cell_type": "markdown",
   "id": "7b5950fa",
   "metadata": {},
   "source": [
    "As is always the case, spend some time poking around the website and reading documentation to get a sense of what kind of data this is, where it coming from, who generated it, and so on."
   ]
  },
  {
   "cell_type": "markdown",
   "id": "ece4285b",
   "metadata": {},
   "source": [
    "Put the CSV file into a directory and create a new Jupyter notebook in the same directory (remember that it is comma-separated, not tab-separated). Load that into Python as a pandas DataFrame."
   ]
  },
  {
   "cell_type": "markdown",
   "id": "1f863b15",
   "metadata": {},
   "source": [
    "Show some parts of the dataframe and make sure your load command worked."
   ]
  },
  {
   "cell_type": "markdown",
   "id": "c7c465fe",
   "metadata": {},
   "source": [
    "Print out the number of rows and the number of columns to get a sense of how much data you're working with."
   ]
  },
  {
   "cell_type": "code",
   "execution_count": 7,
   "id": "3439556a",
   "metadata": {},
   "outputs": [],
   "source": [
    "import pandas as pd"
   ]
  },
  {
   "cell_type": "code",
   "execution_count": 8,
   "id": "3ae4417a",
   "metadata": {},
   "outputs": [],
   "source": [
    "data = pd.read_csv('Code_Complaints_and_Violations.csv')"
   ]
  },
  {
   "cell_type": "code",
   "execution_count": 18,
   "id": "657057ad",
   "metadata": {},
   "outputs": [
    {
     "name": "stdout",
     "output_type": "stream",
     "text": [
      "     RecordNum RecordType RecordTypeMapped   RecordTypeDesc  \\\n",
      "0  001001-03CP  Complaint          Request     Construction   \n",
      "1  001002-03CP  Complaint          Request     Construction   \n",
      "2  001003-03CP  Complaint          Request  Vacant Building   \n",
      "3  001004-03CP  Complaint          Request         Land Use   \n",
      "4  001005-03CP  Complaint          Request         Land Use   \n",
      "\n",
      "                                         Description    OpenDate  \\\n",
      "0  Elevator gets stuck at least 3 times a week, f...  2003-11-10   \n",
      "1  Concerned about RV pumpout that is currently b...  2003-11-10   \n",
      "2  The vacant red apple building and adjacent bui...  2003-11-10   \n",
      "3  Trailor and camper parked in back yard.  Peopl...  2003-11-10   \n",
      "4  Illegal use of property.\"Hawkers\" or vendors (...  2003-11-10   \n",
      "\n",
      "                        LastInspDate LastInspResult StatusCurrent  \\\n",
      "0  POINT (-122.33582172 47.60642293)      Completed     Completed   \n",
      "1  POINT (-122.35191884 47.68639169)      Completed     Completed   \n",
      "2  POINT (-122.31388805 47.61559829)      Completed     Completed   \n",
      "3  POINT (-122.36215164 47.69226044)      Completed     Completed   \n",
      "4  POINT (-122.33832038 47.60911773)      Completed     Completed   \n",
      "\n",
      "  OriginalAddress1 OriginalCity OriginalState  OriginalZip  \\\n",
      "0     1100 2ND AVE      SEATTLE            WA      98101.0   \n",
      "1    512 N 79TH ST      SEATTLE            WA      98103.0   \n",
      "2   1400 E PINE ST      SEATTLE            WA      98122.0   \n",
      "3   332 NW 87TH ST      SEATTLE            WA      98117.0   \n",
      "4     1430 2ND AVE      SEATTLE            WA      98101.0   \n",
      "\n",
      "                                                Link   Latitude   Longitude  \\\n",
      "0  https://cosaccela.seattle.gov/portal/customize...  47.606423 -122.335822   \n",
      "1  https://cosaccela.seattle.gov/portal/customize...  47.686392 -122.351919   \n",
      "2  https://cosaccela.seattle.gov/portal/customize...  47.615598 -122.313888   \n",
      "3  https://cosaccela.seattle.gov/portal/customize...  47.692260 -122.362152   \n",
      "4  https://cosaccela.seattle.gov/portal/customize...  47.609118 -122.338320   \n",
      "\n",
      "                      Location1  \n",
      "0  (47.60642293, -122.33582172)  \n",
      "1  (47.68639169, -122.35191884)  \n",
      "2  (47.61559829, -122.31388805)  \n",
      "3  (47.69226044, -122.36215164)  \n",
      "4  (47.60911773, -122.33832038)  \n"
     ]
    }
   ],
   "source": [
    "print(data.head())"
   ]
  },
  {
   "cell_type": "code",
   "execution_count": 19,
   "id": "b25b0085",
   "metadata": {},
   "outputs": [
    {
     "data": {
      "text/html": [
       "<div>\n",
       "<style scoped>\n",
       "    .dataframe tbody tr th:only-of-type {\n",
       "        vertical-align: middle;\n",
       "    }\n",
       "\n",
       "    .dataframe tbody tr th {\n",
       "        vertical-align: top;\n",
       "    }\n",
       "\n",
       "    .dataframe thead th {\n",
       "        text-align: right;\n",
       "    }\n",
       "</style>\n",
       "<table border=\"1\" class=\"dataframe\">\n",
       "  <thead>\n",
       "    <tr style=\"text-align: right;\">\n",
       "      <th></th>\n",
       "      <th>RecordNum</th>\n",
       "      <th>RecordType</th>\n",
       "      <th>RecordTypeMapped</th>\n",
       "      <th>RecordTypeDesc</th>\n",
       "      <th>Description</th>\n",
       "      <th>OpenDate</th>\n",
       "      <th>LastInspDate</th>\n",
       "      <th>LastInspResult</th>\n",
       "      <th>StatusCurrent</th>\n",
       "      <th>OriginalAddress1</th>\n",
       "      <th>OriginalCity</th>\n",
       "      <th>OriginalState</th>\n",
       "      <th>OriginalZip</th>\n",
       "      <th>Link</th>\n",
       "      <th>Latitude</th>\n",
       "      <th>Longitude</th>\n",
       "      <th>Location1</th>\n",
       "    </tr>\n",
       "  </thead>\n",
       "  <tbody>\n",
       "    <tr>\n",
       "      <th>0</th>\n",
       "      <td>001001-03CP</td>\n",
       "      <td>Complaint</td>\n",
       "      <td>Request</td>\n",
       "      <td>Construction</td>\n",
       "      <td>Elevator gets stuck at least 3 times a week, f...</td>\n",
       "      <td>2003-11-10</td>\n",
       "      <td>POINT (-122.33582172 47.60642293)</td>\n",
       "      <td>Completed</td>\n",
       "      <td>Completed</td>\n",
       "      <td>1100 2ND AVE</td>\n",
       "      <td>SEATTLE</td>\n",
       "      <td>WA</td>\n",
       "      <td>98101.0</td>\n",
       "      <td>https://cosaccela.seattle.gov/portal/customize...</td>\n",
       "      <td>47.606423</td>\n",
       "      <td>-122.335822</td>\n",
       "      <td>(47.60642293, -122.33582172)</td>\n",
       "    </tr>\n",
       "    <tr>\n",
       "      <th>1</th>\n",
       "      <td>001002-03CP</td>\n",
       "      <td>Complaint</td>\n",
       "      <td>Request</td>\n",
       "      <td>Construction</td>\n",
       "      <td>Concerned about RV pumpout that is currently b...</td>\n",
       "      <td>2003-11-10</td>\n",
       "      <td>POINT (-122.35191884 47.68639169)</td>\n",
       "      <td>Completed</td>\n",
       "      <td>Completed</td>\n",
       "      <td>512 N 79TH ST</td>\n",
       "      <td>SEATTLE</td>\n",
       "      <td>WA</td>\n",
       "      <td>98103.0</td>\n",
       "      <td>https://cosaccela.seattle.gov/portal/customize...</td>\n",
       "      <td>47.686392</td>\n",
       "      <td>-122.351919</td>\n",
       "      <td>(47.68639169, -122.35191884)</td>\n",
       "    </tr>\n",
       "    <tr>\n",
       "      <th>2</th>\n",
       "      <td>001003-03CP</td>\n",
       "      <td>Complaint</td>\n",
       "      <td>Request</td>\n",
       "      <td>Vacant Building</td>\n",
       "      <td>The vacant red apple building and adjacent bui...</td>\n",
       "      <td>2003-11-10</td>\n",
       "      <td>POINT (-122.31388805 47.61559829)</td>\n",
       "      <td>Completed</td>\n",
       "      <td>Completed</td>\n",
       "      <td>1400 E PINE ST</td>\n",
       "      <td>SEATTLE</td>\n",
       "      <td>WA</td>\n",
       "      <td>98122.0</td>\n",
       "      <td>https://cosaccela.seattle.gov/portal/customize...</td>\n",
       "      <td>47.615598</td>\n",
       "      <td>-122.313888</td>\n",
       "      <td>(47.61559829, -122.31388805)</td>\n",
       "    </tr>\n",
       "    <tr>\n",
       "      <th>3</th>\n",
       "      <td>001004-03CP</td>\n",
       "      <td>Complaint</td>\n",
       "      <td>Request</td>\n",
       "      <td>Land Use</td>\n",
       "      <td>Trailor and camper parked in back yard.  Peopl...</td>\n",
       "      <td>2003-11-10</td>\n",
       "      <td>POINT (-122.36215164 47.69226044)</td>\n",
       "      <td>Completed</td>\n",
       "      <td>Completed</td>\n",
       "      <td>332 NW 87TH ST</td>\n",
       "      <td>SEATTLE</td>\n",
       "      <td>WA</td>\n",
       "      <td>98117.0</td>\n",
       "      <td>https://cosaccela.seattle.gov/portal/customize...</td>\n",
       "      <td>47.692260</td>\n",
       "      <td>-122.362152</td>\n",
       "      <td>(47.69226044, -122.36215164)</td>\n",
       "    </tr>\n",
       "    <tr>\n",
       "      <th>4</th>\n",
       "      <td>001005-03CP</td>\n",
       "      <td>Complaint</td>\n",
       "      <td>Request</td>\n",
       "      <td>Land Use</td>\n",
       "      <td>Illegal use of property.\"Hawkers\" or vendors (...</td>\n",
       "      <td>2003-11-10</td>\n",
       "      <td>POINT (-122.33832038 47.60911773)</td>\n",
       "      <td>Completed</td>\n",
       "      <td>Completed</td>\n",
       "      <td>1430 2ND AVE</td>\n",
       "      <td>SEATTLE</td>\n",
       "      <td>WA</td>\n",
       "      <td>98101.0</td>\n",
       "      <td>https://cosaccela.seattle.gov/portal/customize...</td>\n",
       "      <td>47.609118</td>\n",
       "      <td>-122.338320</td>\n",
       "      <td>(47.60911773, -122.33832038)</td>\n",
       "    </tr>\n",
       "    <tr>\n",
       "      <th>...</th>\n",
       "      <td>...</td>\n",
       "      <td>...</td>\n",
       "      <td>...</td>\n",
       "      <td>...</td>\n",
       "      <td>...</td>\n",
       "      <td>...</td>\n",
       "      <td>...</td>\n",
       "      <td>...</td>\n",
       "      <td>...</td>\n",
       "      <td>...</td>\n",
       "      <td>...</td>\n",
       "      <td>...</td>\n",
       "      <td>...</td>\n",
       "      <td>...</td>\n",
       "      <td>...</td>\n",
       "      <td>...</td>\n",
       "      <td>...</td>\n",
       "    </tr>\n",
       "    <tr>\n",
       "      <th>188238</th>\n",
       "      <td>1055989-VI</td>\n",
       "      <td>Notice of Violation</td>\n",
       "      <td>Case</td>\n",
       "      <td>NaN</td>\n",
       "      <td>LEAK AND RELOCATIONPROBLEMS WITH LANDLORD** PE...</td>\n",
       "      <td>2023-05-12</td>\n",
       "      <td>POINT (-122.34042542 47.61531295)</td>\n",
       "      <td>Completed</td>\n",
       "      <td>Initiated</td>\n",
       "      <td>2121 6TH AVE</td>\n",
       "      <td>SEATTLE</td>\n",
       "      <td>WA</td>\n",
       "      <td>98121.0</td>\n",
       "      <td>https://cosaccela.seattle.gov/portal/customize...</td>\n",
       "      <td>47.615313</td>\n",
       "      <td>-122.340425</td>\n",
       "      <td>(47.61531295, -122.34042542)</td>\n",
       "    </tr>\n",
       "    <tr>\n",
       "      <th>188239</th>\n",
       "      <td>004989-23CP</td>\n",
       "      <td>Complaint</td>\n",
       "      <td>Request</td>\n",
       "      <td>NaN</td>\n",
       "      <td>More a question than a complaint. Can you conf...</td>\n",
       "      <td>2023-05-12</td>\n",
       "      <td>POINT (-122.35094367 47.69013401)</td>\n",
       "      <td>NaN</td>\n",
       "      <td>Initiated</td>\n",
       "      <td>536 N 84TH ST</td>\n",
       "      <td>SEATTLE</td>\n",
       "      <td>WA</td>\n",
       "      <td>98103.0</td>\n",
       "      <td>https://cosaccela.seattle.gov/portal/customize...</td>\n",
       "      <td>47.690134</td>\n",
       "      <td>-122.350944</td>\n",
       "      <td>(47.69013401, -122.35094367)</td>\n",
       "    </tr>\n",
       "    <tr>\n",
       "      <th>188240</th>\n",
       "      <td>1055990-VI</td>\n",
       "      <td>Notice of Violation</td>\n",
       "      <td>Case</td>\n",
       "      <td>NaN</td>\n",
       "      <td>Per Online;Ant infestation notified by owner a...</td>\n",
       "      <td>2023-05-12</td>\n",
       "      <td>POINT (-122.34590721 47.63057331)</td>\n",
       "      <td>Completed</td>\n",
       "      <td>Initiated</td>\n",
       "      <td>1226 TAYLOR AVE N</td>\n",
       "      <td>SEATTLE</td>\n",
       "      <td>WA</td>\n",
       "      <td>98109.0</td>\n",
       "      <td>https://cosaccela.seattle.gov/portal/customize...</td>\n",
       "      <td>47.630573</td>\n",
       "      <td>-122.345907</td>\n",
       "      <td>(47.63057331, -122.34590721)</td>\n",
       "    </tr>\n",
       "    <tr>\n",
       "      <th>188241</th>\n",
       "      <td>004990-23CP</td>\n",
       "      <td>Complaint</td>\n",
       "      <td>Request</td>\n",
       "      <td>NaN</td>\n",
       "      <td>Graffiti on building, fence is falling over, s...</td>\n",
       "      <td>2023-05-12</td>\n",
       "      <td>POINT (-122.34271301 47.63710517)</td>\n",
       "      <td>NaN</td>\n",
       "      <td>Initiated</td>\n",
       "      <td>2012 DEXTER AVE N</td>\n",
       "      <td>SEATTLE</td>\n",
       "      <td>WA</td>\n",
       "      <td>98109.0</td>\n",
       "      <td>https://cosaccela.seattle.gov/portal/customize...</td>\n",
       "      <td>47.637105</td>\n",
       "      <td>-122.342713</td>\n",
       "      <td>(47.63710517, -122.34271301)</td>\n",
       "    </tr>\n",
       "    <tr>\n",
       "      <th>188242</th>\n",
       "      <td>004991-23CP</td>\n",
       "      <td>Complaint</td>\n",
       "      <td>Request</td>\n",
       "      <td>NaN</td>\n",
       "      <td>Continual backup beeping from earthmover start...</td>\n",
       "      <td>2023-05-12</td>\n",
       "      <td>POINT (-122.32101771 47.54414459)</td>\n",
       "      <td>NaN</td>\n",
       "      <td>Initiated</td>\n",
       "      <td>901 S WARSAW ST</td>\n",
       "      <td>SEATTLE</td>\n",
       "      <td>WA</td>\n",
       "      <td>98108.0</td>\n",
       "      <td>https://cosaccela.seattle.gov/portal/customize...</td>\n",
       "      <td>47.544145</td>\n",
       "      <td>-122.321018</td>\n",
       "      <td>(47.54414459, -122.32101771)</td>\n",
       "    </tr>\n",
       "  </tbody>\n",
       "</table>\n",
       "<p>188243 rows × 17 columns</p>\n",
       "</div>"
      ],
      "text/plain": [
       "          RecordNum           RecordType RecordTypeMapped   RecordTypeDesc  \\\n",
       "0       001001-03CP            Complaint          Request     Construction   \n",
       "1       001002-03CP            Complaint          Request     Construction   \n",
       "2       001003-03CP            Complaint          Request  Vacant Building   \n",
       "3       001004-03CP            Complaint          Request         Land Use   \n",
       "4       001005-03CP            Complaint          Request         Land Use   \n",
       "...             ...                  ...              ...              ...   \n",
       "188238   1055989-VI  Notice of Violation             Case              NaN   \n",
       "188239  004989-23CP            Complaint          Request              NaN   \n",
       "188240   1055990-VI  Notice of Violation             Case              NaN   \n",
       "188241  004990-23CP            Complaint          Request              NaN   \n",
       "188242  004991-23CP            Complaint          Request              NaN   \n",
       "\n",
       "                                              Description    OpenDate  \\\n",
       "0       Elevator gets stuck at least 3 times a week, f...  2003-11-10   \n",
       "1       Concerned about RV pumpout that is currently b...  2003-11-10   \n",
       "2       The vacant red apple building and adjacent bui...  2003-11-10   \n",
       "3       Trailor and camper parked in back yard.  Peopl...  2003-11-10   \n",
       "4       Illegal use of property.\"Hawkers\" or vendors (...  2003-11-10   \n",
       "...                                                   ...         ...   \n",
       "188238  LEAK AND RELOCATIONPROBLEMS WITH LANDLORD** PE...  2023-05-12   \n",
       "188239  More a question than a complaint. Can you conf...  2023-05-12   \n",
       "188240  Per Online;Ant infestation notified by owner a...  2023-05-12   \n",
       "188241  Graffiti on building, fence is falling over, s...  2023-05-12   \n",
       "188242  Continual backup beeping from earthmover start...  2023-05-12   \n",
       "\n",
       "                             LastInspDate LastInspResult StatusCurrent  \\\n",
       "0       POINT (-122.33582172 47.60642293)      Completed     Completed   \n",
       "1       POINT (-122.35191884 47.68639169)      Completed     Completed   \n",
       "2       POINT (-122.31388805 47.61559829)      Completed     Completed   \n",
       "3       POINT (-122.36215164 47.69226044)      Completed     Completed   \n",
       "4       POINT (-122.33832038 47.60911773)      Completed     Completed   \n",
       "...                                   ...            ...           ...   \n",
       "188238  POINT (-122.34042542 47.61531295)      Completed     Initiated   \n",
       "188239  POINT (-122.35094367 47.69013401)            NaN     Initiated   \n",
       "188240  POINT (-122.34590721 47.63057331)      Completed     Initiated   \n",
       "188241  POINT (-122.34271301 47.63710517)            NaN     Initiated   \n",
       "188242  POINT (-122.32101771 47.54414459)            NaN     Initiated   \n",
       "\n",
       "         OriginalAddress1 OriginalCity OriginalState  OriginalZip  \\\n",
       "0            1100 2ND AVE      SEATTLE            WA      98101.0   \n",
       "1           512 N 79TH ST      SEATTLE            WA      98103.0   \n",
       "2          1400 E PINE ST      SEATTLE            WA      98122.0   \n",
       "3          332 NW 87TH ST      SEATTLE            WA      98117.0   \n",
       "4            1430 2ND AVE      SEATTLE            WA      98101.0   \n",
       "...                   ...          ...           ...          ...   \n",
       "188238       2121 6TH AVE      SEATTLE            WA      98121.0   \n",
       "188239      536 N 84TH ST      SEATTLE            WA      98103.0   \n",
       "188240  1226 TAYLOR AVE N      SEATTLE            WA      98109.0   \n",
       "188241  2012 DEXTER AVE N      SEATTLE            WA      98109.0   \n",
       "188242    901 S WARSAW ST      SEATTLE            WA      98108.0   \n",
       "\n",
       "                                                     Link   Latitude  \\\n",
       "0       https://cosaccela.seattle.gov/portal/customize...  47.606423   \n",
       "1       https://cosaccela.seattle.gov/portal/customize...  47.686392   \n",
       "2       https://cosaccela.seattle.gov/portal/customize...  47.615598   \n",
       "3       https://cosaccela.seattle.gov/portal/customize...  47.692260   \n",
       "4       https://cosaccela.seattle.gov/portal/customize...  47.609118   \n",
       "...                                                   ...        ...   \n",
       "188238  https://cosaccela.seattle.gov/portal/customize...  47.615313   \n",
       "188239  https://cosaccela.seattle.gov/portal/customize...  47.690134   \n",
       "188240  https://cosaccela.seattle.gov/portal/customize...  47.630573   \n",
       "188241  https://cosaccela.seattle.gov/portal/customize...  47.637105   \n",
       "188242  https://cosaccela.seattle.gov/portal/customize...  47.544145   \n",
       "\n",
       "         Longitude                     Location1  \n",
       "0      -122.335822  (47.60642293, -122.33582172)  \n",
       "1      -122.351919  (47.68639169, -122.35191884)  \n",
       "2      -122.313888  (47.61559829, -122.31388805)  \n",
       "3      -122.362152  (47.69226044, -122.36215164)  \n",
       "4      -122.338320  (47.60911773, -122.33832038)  \n",
       "...            ...                           ...  \n",
       "188238 -122.340425  (47.61531295, -122.34042542)  \n",
       "188239 -122.350944  (47.69013401, -122.35094367)  \n",
       "188240 -122.345907  (47.63057331, -122.34590721)  \n",
       "188241 -122.342713  (47.63710517, -122.34271301)  \n",
       "188242 -122.321018  (47.54414459, -122.32101771)  \n",
       "\n",
       "[188243 rows x 17 columns]"
      ]
     },
     "execution_count": 19,
     "metadata": {},
     "output_type": "execute_result"
    }
   ],
   "source": [
    "data"
   ]
  },
  {
   "cell_type": "code",
   "execution_count": 20,
   "id": "3073c1a0",
   "metadata": {},
   "outputs": [
    {
     "data": {
      "text/plain": [
       "(188243, 17)"
      ]
     },
     "execution_count": 20,
     "metadata": {},
     "output_type": "execute_result"
    }
   ],
   "source": [
    "data.shape"
   ]
  },
  {
   "cell_type": "code",
   "execution_count": 21,
   "id": "a9e9dc49",
   "metadata": {},
   "outputs": [
    {
     "name": "stdout",
     "output_type": "stream",
     "text": [
      "Number of rows: 188243\n"
     ]
    }
   ],
   "source": [
    "print(\"Number of rows:\", data.shape[0])"
   ]
  },
  {
   "cell_type": "code",
   "execution_count": 22,
   "id": "c6f80ea8",
   "metadata": {},
   "outputs": [
    {
     "name": "stdout",
     "output_type": "stream",
     "text": [
      "Number of columns: 17\n"
     ]
    }
   ],
   "source": [
    "print(\"Number of columns:\", data.shape[1])"
   ]
  },
  {
   "cell_type": "code",
   "execution_count": null,
   "id": "85813ec5",
   "metadata": {},
   "outputs": [],
   "source": []
  },
  {
   "cell_type": "markdown",
   "id": "80e86aba",
   "metadata": {},
   "source": [
    "# 2 You know the type"
   ]
  },
  {
   "cell_type": "markdown",
   "id": "7d3f737e",
   "metadata": {},
   "source": [
    "1.Take a look at the \"RecordType\" column which describes the kinds of complaints that come in. What are the types of categories? How many are in each category? Show both with numbers and with a simple visualization (a histogram, perhaps?). For each category, print out the \"Description\" of several examples. What kinds of things are included?"
   ]
  },
  {
   "cell_type": "markdown",
   "id": "1b9ed67d",
   "metadata": {},
   "source": [
    "2.Build a new dataset that includes only the \"RecordType\" and \"OriginalZip\" columns."
   ]
  },
  {
   "cell_type": "markdown",
   "id": "98cd5df4",
   "metadata": {},
   "source": [
    "3.Use this second dataset to filter the dataset down to just rows from your zipcode. If you don't live in Seattle, you can just use my zip code (98112) which covers north Capitol Hill and Montlake or you can pick an area you think is interesting from this map."
   ]
  },
  {
   "cell_type": "markdown",
   "id": "7c8510f0",
   "metadata": {},
   "source": [
    "- Now look at the number and proportion of different types of records in this subset.\n",
    "- Be ready to explain if the distribution in this zipcode different than the distribution in Seattle overall? If not, how is it different?\n",
    "- Once again, print out the \"Description\" of several examples from each category. What kinds of things are included?"
   ]
  },
  {
   "cell_type": "markdown",
   "id": "effef2a0",
   "metadata": {},
   "source": [
    "4.Use pandas to write out the two-column dataset to TSV (with tabs instead of commas)."
   ]
  },
  {
   "cell_type": "code",
   "execution_count": 26,
   "id": "4d307455",
   "metadata": {},
   "outputs": [
    {
     "data": {
      "text/plain": [
       "Complaint              137226\n",
       "Notice of Violation     28464\n",
       "Citation                18598\n",
       "Tenant Relocation        3639\n",
       "Unfit Building            316\n",
       "Name: RecordType, dtype: int64"
      ]
     },
     "execution_count": 26,
     "metadata": {},
     "output_type": "execute_result"
    }
   ],
   "source": [
    "data[\"RecordType\"].value_counts()"
   ]
  },
  {
   "cell_type": "code",
   "execution_count": 27,
   "id": "59714a8c",
   "metadata": {},
   "outputs": [
    {
     "data": {
      "text/plain": [
       "<Axes: >"
      ]
     },
     "execution_count": 27,
     "metadata": {},
     "output_type": "execute_result"
    },
    {
     "data": {
      "image/png": "[encoded data removed]",
      "text/plain": [
       "<Figure size 640x480 with 1 Axes>"
      ]
     },
     "metadata": {},
     "output_type": "display_data"
    }
   ],
   "source": [
    "data[\"RecordType\"].hist()"
   ]
  },
  {
   "cell_type": "code",
   "execution_count": 42,
   "id": "6cbbc4c4",
   "metadata": {},
   "outputs": [
    {
     "name": "stdout",
     "output_type": "stream",
     "text": [
      "Complaint\n",
      "0    Elevator gets stuck at least 3 times a week, f...\n",
      "1    Concerned about RV pumpout that is currently b...\n",
      "2    The vacant red apple building and adjacent bui...\n",
      "3    Trailor and camper parked in back yard.  Peopl...\n",
      "4    Illegal use of property.\"Hawkers\" or vendors (...\n",
      "Name: Description, dtype: object\n",
      "Notice of Violation\n",
      "462                                                  NaN\n",
      "463    Someone living in camper in northeast corner o...\n",
      "464    Work w/o permit.Windows being replaced on the ...\n",
      "465    Observed while re-inspecting adjacent property...\n",
      "467    Caller states that adjacent property is being ...\n",
      "Name: Description, dtype: object\n",
      "Unfit Building\n",
      "466     FIRE DAMAGED HOUSE- OWNER IS APPLYING FOR UNFI...\n",
      "610                     Burned out single family building\n",
      "4750              Three unit condo damamged by 1996 slide\n",
      "4768                        zoning junk storage violation\n",
      "4887                          unfit building and premises\n",
      "Name: Description, dtype: object\n",
      "Citation\n",
      "472    Parking in req'd yard and unpermitted outdoor ...\n",
      "481                             observed hbmc violations\n",
      "482    Parking a vehicle in the required front yard -...\n",
      "485              Observed viol, inops, junk and parking.\n",
      "487    Parking pick-up truck in required front yard -...\n",
      "Name: Description, dtype: object\n",
      "Tenant Relocation\n",
      "476    Application for Tenant Relocation License\n",
      "478    Application for Tenant Relocation License\n",
      "490    Application for Tenant Relocation License\n",
      "512    Application for tenant relocation license\n",
      "513    Application for Tenant Relocation License\n",
      "Name: Description, dtype: object\n"
     ]
    }
   ],
   "source": [
    "category = [\"Complaint\", \"Notice of Violation\", \"Unfit Building\", \"Citation\", \"Tenant Relocation\"]\n",
    "\n",
    "for complaints in category:\n",
    "    print(complaints)\n",
    "    print(data[data[\"RecordType\"] == complaints][\"Description\"].head())"
   ]
  },
  {
   "cell_type": "code",
   "execution_count": 44,
   "id": "68137c90",
   "metadata": {},
   "outputs": [],
   "source": [
    "new_data = data[[\"RecordType\", \"OriginalZip\", \"Description\"]]"
   ]
  },
  {
   "cell_type": "code",
   "execution_count": 45,
   "id": "bd23f172",
   "metadata": {},
   "outputs": [
    {
     "data": {
      "text/html": [
       "<div>\n",
       "<style scoped>\n",
       "    .dataframe tbody tr th:only-of-type {\n",
       "        vertical-align: middle;\n",
       "    }\n",
       "\n",
       "    .dataframe tbody tr th {\n",
       "        vertical-align: top;\n",
       "    }\n",
       "\n",
       "    .dataframe thead th {\n",
       "        text-align: right;\n",
       "    }\n",
       "</style>\n",
       "<table border=\"1\" class=\"dataframe\">\n",
       "  <thead>\n",
       "    <tr style=\"text-align: right;\">\n",
       "      <th></th>\n",
       "      <th>RecordType</th>\n",
       "      <th>OriginalZip</th>\n",
       "      <th>Description</th>\n",
       "    </tr>\n",
       "  </thead>\n",
       "  <tbody>\n",
       "    <tr>\n",
       "      <th>0</th>\n",
       "      <td>Complaint</td>\n",
       "      <td>98101.0</td>\n",
       "      <td>Elevator gets stuck at least 3 times a week, f...</td>\n",
       "    </tr>\n",
       "    <tr>\n",
       "      <th>1</th>\n",
       "      <td>Complaint</td>\n",
       "      <td>98103.0</td>\n",
       "      <td>Concerned about RV pumpout that is currently b...</td>\n",
       "    </tr>\n",
       "    <tr>\n",
       "      <th>2</th>\n",
       "      <td>Complaint</td>\n",
       "      <td>98122.0</td>\n",
       "      <td>The vacant red apple building and adjacent bui...</td>\n",
       "    </tr>\n",
       "    <tr>\n",
       "      <th>3</th>\n",
       "      <td>Complaint</td>\n",
       "      <td>98117.0</td>\n",
       "      <td>Trailor and camper parked in back yard.  Peopl...</td>\n",
       "    </tr>\n",
       "    <tr>\n",
       "      <th>4</th>\n",
       "      <td>Complaint</td>\n",
       "      <td>98101.0</td>\n",
       "      <td>Illegal use of property.\"Hawkers\" or vendors (...</td>\n",
       "    </tr>\n",
       "    <tr>\n",
       "      <th>...</th>\n",
       "      <td>...</td>\n",
       "      <td>...</td>\n",
       "      <td>...</td>\n",
       "    </tr>\n",
       "    <tr>\n",
       "      <th>188238</th>\n",
       "      <td>Notice of Violation</td>\n",
       "      <td>98121.0</td>\n",
       "      <td>LEAK AND RELOCATIONPROBLEMS WITH LANDLORD** PE...</td>\n",
       "    </tr>\n",
       "    <tr>\n",
       "      <th>188239</th>\n",
       "      <td>Complaint</td>\n",
       "      <td>98103.0</td>\n",
       "      <td>More a question than a complaint. Can you conf...</td>\n",
       "    </tr>\n",
       "    <tr>\n",
       "      <th>188240</th>\n",
       "      <td>Notice of Violation</td>\n",
       "      <td>98109.0</td>\n",
       "      <td>Per Online;Ant infestation notified by owner a...</td>\n",
       "    </tr>\n",
       "    <tr>\n",
       "      <th>188241</th>\n",
       "      <td>Complaint</td>\n",
       "      <td>98109.0</td>\n",
       "      <td>Graffiti on building, fence is falling over, s...</td>\n",
       "    </tr>\n",
       "    <tr>\n",
       "      <th>188242</th>\n",
       "      <td>Complaint</td>\n",
       "      <td>98108.0</td>\n",
       "      <td>Continual backup beeping from earthmover start...</td>\n",
       "    </tr>\n",
       "  </tbody>\n",
       "</table>\n",
       "<p>188243 rows × 3 columns</p>\n",
       "</div>"
      ],
      "text/plain": [
       "                 RecordType  OriginalZip  \\\n",
       "0                 Complaint      98101.0   \n",
       "1                 Complaint      98103.0   \n",
       "2                 Complaint      98122.0   \n",
       "3                 Complaint      98117.0   \n",
       "4                 Complaint      98101.0   \n",
       "...                     ...          ...   \n",
       "188238  Notice of Violation      98121.0   \n",
       "188239            Complaint      98103.0   \n",
       "188240  Notice of Violation      98109.0   \n",
       "188241            Complaint      98109.0   \n",
       "188242            Complaint      98108.0   \n",
       "\n",
       "                                              Description  \n",
       "0       Elevator gets stuck at least 3 times a week, f...  \n",
       "1       Concerned about RV pumpout that is currently b...  \n",
       "2       The vacant red apple building and adjacent bui...  \n",
       "3       Trailor and camper parked in back yard.  Peopl...  \n",
       "4       Illegal use of property.\"Hawkers\" or vendors (...  \n",
       "...                                                   ...  \n",
       "188238  LEAK AND RELOCATIONPROBLEMS WITH LANDLORD** PE...  \n",
       "188239  More a question than a complaint. Can you conf...  \n",
       "188240  Per Online;Ant infestation notified by owner a...  \n",
       "188241  Graffiti on building, fence is falling over, s...  \n",
       "188242  Continual backup beeping from earthmover start...  \n",
       "\n",
       "[188243 rows x 3 columns]"
      ]
     },
     "execution_count": 45,
     "metadata": {},
     "output_type": "execute_result"
    }
   ],
   "source": [
    "new_data"
   ]
  },
  {
   "cell_type": "code",
   "execution_count": 46,
   "id": "bf2c5768",
   "metadata": {},
   "outputs": [],
   "source": [
    "#zipcode 98105"
   ]
  },
  {
   "cell_type": "code",
   "execution_count": 47,
   "id": "eda57ea7",
   "metadata": {},
   "outputs": [],
   "source": [
    "zipcode = new_data[new_data[\"OriginalZip\"] == 98105] "
   ]
  },
  {
   "cell_type": "code",
   "execution_count": 48,
   "id": "f33daccb",
   "metadata": {},
   "outputs": [
    {
     "data": {
      "text/html": [
       "<div>\n",
       "<style scoped>\n",
       "    .dataframe tbody tr th:only-of-type {\n",
       "        vertical-align: middle;\n",
       "    }\n",
       "\n",
       "    .dataframe tbody tr th {\n",
       "        vertical-align: top;\n",
       "    }\n",
       "\n",
       "    .dataframe thead th {\n",
       "        text-align: right;\n",
       "    }\n",
       "</style>\n",
       "<table border=\"1\" class=\"dataframe\">\n",
       "  <thead>\n",
       "    <tr style=\"text-align: right;\">\n",
       "      <th></th>\n",
       "      <th>RecordType</th>\n",
       "      <th>OriginalZip</th>\n",
       "      <th>Description</th>\n",
       "    </tr>\n",
       "  </thead>\n",
       "  <tbody>\n",
       "    <tr>\n",
       "      <th>30</th>\n",
       "      <td>Complaint</td>\n",
       "      <td>98105.0</td>\n",
       "      <td>Cars parked on the front lawn.</td>\n",
       "    </tr>\n",
       "    <tr>\n",
       "      <th>33</th>\n",
       "      <td>Complaint</td>\n",
       "      <td>98105.0</td>\n",
       "      <td>This is the frat that had the two members over...</td>\n",
       "    </tr>\n",
       "    <tr>\n",
       "      <th>40</th>\n",
       "      <td>Complaint</td>\n",
       "      <td>98105.0</td>\n",
       "      <td>permit condition of permit #714425 prohibited ...</td>\n",
       "    </tr>\n",
       "    <tr>\n",
       "      <th>121</th>\n",
       "      <td>Complaint</td>\n",
       "      <td>98105.0</td>\n",
       "      <td>Cars parked on the front lawn.</td>\n",
       "    </tr>\n",
       "    <tr>\n",
       "      <th>122</th>\n",
       "      <td>Complaint</td>\n",
       "      <td>98105.0</td>\n",
       "      <td>Cars parked on the front lawn.</td>\n",
       "    </tr>\n",
       "    <tr>\n",
       "      <th>...</th>\n",
       "      <td>...</td>\n",
       "      <td>...</td>\n",
       "      <td>...</td>\n",
       "    </tr>\n",
       "    <tr>\n",
       "      <th>188121</th>\n",
       "      <td>Complaint</td>\n",
       "      <td>98105.0</td>\n",
       "      <td>Overgrown vegetation obstructing half the widt...</td>\n",
       "    </tr>\n",
       "    <tr>\n",
       "      <th>188122</th>\n",
       "      <td>Complaint</td>\n",
       "      <td>98105.0</td>\n",
       "      <td>EDRA HELPFAX ISSUES</td>\n",
       "    </tr>\n",
       "    <tr>\n",
       "      <th>188149</th>\n",
       "      <td>Complaint</td>\n",
       "      <td>98105.0</td>\n",
       "      <td>denied lease renewal by landlordno double occu...</td>\n",
       "    </tr>\n",
       "    <tr>\n",
       "      <th>188150</th>\n",
       "      <td>Complaint</td>\n",
       "      <td>98105.0</td>\n",
       "      <td>Very large overgrown tree/bush blocking sidewalk</td>\n",
       "    </tr>\n",
       "    <tr>\n",
       "      <th>188213</th>\n",
       "      <td>Complaint</td>\n",
       "      <td>98105.0</td>\n",
       "      <td>Overgrown bushes blocking more than 50% of the...</td>\n",
       "    </tr>\n",
       "  </tbody>\n",
       "</table>\n",
       "<p>9334 rows × 3 columns</p>\n",
       "</div>"
      ],
      "text/plain": [
       "       RecordType  OriginalZip  \\\n",
       "30      Complaint      98105.0   \n",
       "33      Complaint      98105.0   \n",
       "40      Complaint      98105.0   \n",
       "121     Complaint      98105.0   \n",
       "122     Complaint      98105.0   \n",
       "...           ...          ...   \n",
       "188121  Complaint      98105.0   \n",
       "188122  Complaint      98105.0   \n",
       "188149  Complaint      98105.0   \n",
       "188150  Complaint      98105.0   \n",
       "188213  Complaint      98105.0   \n",
       "\n",
       "                                              Description  \n",
       "30                         Cars parked on the front lawn.  \n",
       "33      This is the frat that had the two members over...  \n",
       "40      permit condition of permit #714425 prohibited ...  \n",
       "121                        Cars parked on the front lawn.  \n",
       "122                        Cars parked on the front lawn.  \n",
       "...                                                   ...  \n",
       "188121  Overgrown vegetation obstructing half the widt...  \n",
       "188122                                EDRA HELPFAX ISSUES  \n",
       "188149  denied lease renewal by landlordno double occu...  \n",
       "188150   Very large overgrown tree/bush blocking sidewalk  \n",
       "188213  Overgrown bushes blocking more than 50% of the...  \n",
       "\n",
       "[9334 rows x 3 columns]"
      ]
     },
     "execution_count": 48,
     "metadata": {},
     "output_type": "execute_result"
    }
   ],
   "source": [
    "zipcode"
   ]
  },
  {
   "cell_type": "code",
   "execution_count": 61,
   "id": "1b74520d",
   "metadata": {},
   "outputs": [
    {
     "data": {
      "text/plain": [
       "Complaint              6687\n",
       "Notice of Violation    1574\n",
       "Citation                827\n",
       "Tenant Relocation       228\n",
       "Unfit Building           18\n",
       "Name: RecordType, dtype: int64"
      ]
     },
     "execution_count": 61,
     "metadata": {},
     "output_type": "execute_result"
    }
   ],
   "source": [
    "zipcode[\"RecordType\"].value_counts()"
   ]
  },
  {
   "cell_type": "code",
   "execution_count": 62,
   "id": "e0a4e5ad",
   "metadata": {},
   "outputs": [],
   "source": [
    "zipcode_num = zipcode[\"RecordType\"].value_counts()"
   ]
  },
  {
   "cell_type": "code",
   "execution_count": 63,
   "id": "8eacb457",
   "metadata": {},
   "outputs": [
    {
     "data": {
      "text/plain": [
       "Complaint              0.716413\n",
       "Notice of Violation    0.168631\n",
       "Citation               0.088601\n",
       "Tenant Relocation      0.024427\n",
       "Unfit Building         0.001928\n",
       "Name: RecordType, dtype: float64"
      ]
     },
     "execution_count": 63,
     "metadata": {},
     "output_type": "execute_result"
    }
   ],
   "source": [
    "zipcode_num / zipcode_num.sum()"
   ]
  },
  {
   "cell_type": "code",
   "execution_count": 64,
   "id": "e46bd956",
   "metadata": {},
   "outputs": [
    {
     "data": {
      "text/plain": [
       "Complaint              137226\n",
       "Notice of Violation     28464\n",
       "Citation                18598\n",
       "Tenant Relocation        3639\n",
       "Unfit Building            316\n",
       "Name: RecordType, dtype: int64"
      ]
     },
     "execution_count": 64,
     "metadata": {},
     "output_type": "execute_result"
    }
   ],
   "source": [
    "data_num = data[\"RecordType\"].value_counts()\n",
    "data_num"
   ]
  },
  {
   "cell_type": "code",
   "execution_count": 65,
   "id": "90fb25b9",
   "metadata": {},
   "outputs": [
    {
     "data": {
      "text/plain": [
       "Complaint              0.728983\n",
       "Notice of Violation    0.151209\n",
       "Citation               0.098798\n",
       "Tenant Relocation      0.019331\n",
       "Unfit Building         0.001679\n",
       "Name: RecordType, dtype: float64"
      ]
     },
     "execution_count": 65,
     "metadata": {},
     "output_type": "execute_result"
    }
   ],
   "source": [
    "data_num / data_num.sum()"
   ]
  },
  {
   "cell_type": "code",
   "execution_count": 66,
   "id": "d9a05353",
   "metadata": {},
   "outputs": [],
   "source": [
    "zipcode.to_csv(\"Lucy_zipcode.tsv\", sep = \"\\t\")"
   ]
  },
  {
   "cell_type": "markdown",
   "id": "b32a5cde",
   "metadata": {},
   "source": [
    "# 3 It's about time"
   ]
  },
  {
   "cell_type": "markdown",
   "id": "00a84f11",
   "metadata": {},
   "source": [
    "Create a new timeseries (use a pandas Series) that contains zip code and that uses the \"OpenDate\" column as the index. Be sure to check the type of the \"OriginalZip\" column and make sure it's in the pandas datetime format."
   ]
  },
  {
   "cell_type": "markdown",
   "id": "b1269d85",
   "metadata": {},
   "source": [
    "Use the .resample() function associated with your pandas time series so that it shows the number of complaints per week overall and visualize this with a time series plot."
   ]
  },
  {
   "cell_type": "code",
   "execution_count": 67,
   "id": "c1fe869e",
   "metadata": {
    "scrolled": true
   },
   "outputs": [
    {
     "data": {
      "text/plain": [
       "0         2003-11-10\n",
       "1         2003-11-10\n",
       "2         2003-11-10\n",
       "3         2003-11-10\n",
       "4         2003-11-10\n",
       "             ...    \n",
       "188238    2023-05-12\n",
       "188239    2023-05-12\n",
       "188240    2023-05-12\n",
       "188241    2023-05-12\n",
       "188242    2023-05-12\n",
       "Name: OpenDate, Length: 188243, dtype: object"
      ]
     },
     "execution_count": 67,
     "metadata": {},
     "output_type": "execute_result"
    }
   ],
   "source": [
    "data[\"OpenDate\"]"
   ]
  },
  {
   "cell_type": "code",
   "execution_count": 71,
   "id": "bab7e4ef",
   "metadata": {},
   "outputs": [
    {
     "data": {
      "text/plain": [
       "0         98101.0\n",
       "1         98103.0\n",
       "2         98122.0\n",
       "3         98117.0\n",
       "4         98101.0\n",
       "           ...   \n",
       "188238    98121.0\n",
       "188239    98103.0\n",
       "188240    98109.0\n",
       "188241    98109.0\n",
       "188242    98108.0\n",
       "Name: OriginalZip, Length: 188243, dtype: float64"
      ]
     },
     "execution_count": 71,
     "metadata": {},
     "output_type": "execute_result"
    }
   ],
   "source": [
    "data[\"OriginalZip\"]"
   ]
  },
  {
   "cell_type": "code",
   "execution_count": 76,
   "id": "1b59a597",
   "metadata": {},
   "outputs": [],
   "source": [
    "data3 = data[[\"OpenDate\",\"OriginalZip\"]]\n",
    "data3.index = pd.to_datetime(data[\"OpenDate\"])"
   ]
  },
  {
   "cell_type": "code",
   "execution_count": 81,
   "id": "bd644197",
   "metadata": {},
   "outputs": [
    {
     "data": {
      "text/html": [
       "<div>\n",
       "<style scoped>\n",
       "    .dataframe tbody tr th:only-of-type {\n",
       "        vertical-align: middle;\n",
       "    }\n",
       "\n",
       "    .dataframe tbody tr th {\n",
       "        vertical-align: top;\n",
       "    }\n",
       "\n",
       "    .dataframe thead th {\n",
       "        text-align: right;\n",
       "    }\n",
       "</style>\n",
       "<table border=\"1\" class=\"dataframe\">\n",
       "  <thead>\n",
       "    <tr style=\"text-align: right;\">\n",
       "      <th></th>\n",
       "      <th>OpenDate</th>\n",
       "      <th>OriginalZip</th>\n",
       "    </tr>\n",
       "    <tr>\n",
       "      <th>OpenDate</th>\n",
       "      <th></th>\n",
       "      <th></th>\n",
       "    </tr>\n",
       "  </thead>\n",
       "  <tbody>\n",
       "    <tr>\n",
       "      <th>2003-11-10</th>\n",
       "      <td>2003-11-10</td>\n",
       "      <td>98101.0</td>\n",
       "    </tr>\n",
       "    <tr>\n",
       "      <th>2003-11-10</th>\n",
       "      <td>2003-11-10</td>\n",
       "      <td>98103.0</td>\n",
       "    </tr>\n",
       "    <tr>\n",
       "      <th>2003-11-10</th>\n",
       "      <td>2003-11-10</td>\n",
       "      <td>98122.0</td>\n",
       "    </tr>\n",
       "    <tr>\n",
       "      <th>2003-11-10</th>\n",
       "      <td>2003-11-10</td>\n",
       "      <td>98117.0</td>\n",
       "    </tr>\n",
       "    <tr>\n",
       "      <th>2003-11-10</th>\n",
       "      <td>2003-11-10</td>\n",
       "      <td>98101.0</td>\n",
       "    </tr>\n",
       "    <tr>\n",
       "      <th>...</th>\n",
       "      <td>...</td>\n",
       "      <td>...</td>\n",
       "    </tr>\n",
       "    <tr>\n",
       "      <th>2023-05-12</th>\n",
       "      <td>2023-05-12</td>\n",
       "      <td>98121.0</td>\n",
       "    </tr>\n",
       "    <tr>\n",
       "      <th>2023-05-12</th>\n",
       "      <td>2023-05-12</td>\n",
       "      <td>98103.0</td>\n",
       "    </tr>\n",
       "    <tr>\n",
       "      <th>2023-05-12</th>\n",
       "      <td>2023-05-12</td>\n",
       "      <td>98109.0</td>\n",
       "    </tr>\n",
       "    <tr>\n",
       "      <th>2023-05-12</th>\n",
       "      <td>2023-05-12</td>\n",
       "      <td>98109.0</td>\n",
       "    </tr>\n",
       "    <tr>\n",
       "      <th>2023-05-12</th>\n",
       "      <td>2023-05-12</td>\n",
       "      <td>98108.0</td>\n",
       "    </tr>\n",
       "  </tbody>\n",
       "</table>\n",
       "<p>188243 rows × 2 columns</p>\n",
       "</div>"
      ],
      "text/plain": [
       "              OpenDate  OriginalZip\n",
       "OpenDate                           \n",
       "2003-11-10  2003-11-10      98101.0\n",
       "2003-11-10  2003-11-10      98103.0\n",
       "2003-11-10  2003-11-10      98122.0\n",
       "2003-11-10  2003-11-10      98117.0\n",
       "2003-11-10  2003-11-10      98101.0\n",
       "...                ...          ...\n",
       "2023-05-12  2023-05-12      98121.0\n",
       "2023-05-12  2023-05-12      98103.0\n",
       "2023-05-12  2023-05-12      98109.0\n",
       "2023-05-12  2023-05-12      98109.0\n",
       "2023-05-12  2023-05-12      98108.0\n",
       "\n",
       "[188243 rows x 2 columns]"
      ]
     },
     "execution_count": 81,
     "metadata": {},
     "output_type": "execute_result"
    }
   ],
   "source": [
    "data3"
   ]
  },
  {
   "cell_type": "code",
   "execution_count": 82,
   "id": "acca43f1",
   "metadata": {},
   "outputs": [
    {
     "data": {
      "text/plain": [
       "<Axes: xlabel='OpenDate'>"
      ]
     },
     "execution_count": 82,
     "metadata": {},
     "output_type": "execute_result"
    },
    {
     "data": {
      "image/png": "[encoded data removed]",
      "text/plain": [
       "<Figure size 640x480 with 1 Axes>"
      ]
     },
     "metadata": {},
     "output_type": "display_data"
    }
   ],
   "source": [
    "data3.resample(\"7d\").count().plot()"
   ]
  },
  {
   "cell_type": "markdown",
   "id": "fed6e4c2",
   "metadata": {},
   "source": [
    "# 4 You've got questions, you've got answers"
   ]
  },
  {
   "cell_type": "code",
   "execution_count": 93,
   "id": "82cd56da",
   "metadata": {},
   "outputs": [],
   "source": [
    "#over time"
   ]
  },
  {
   "cell_type": "code",
   "execution_count": 96,
   "id": "f2b5ab75",
   "metadata": {},
   "outputs": [
    {
     "name": "stdout",
     "output_type": "stream",
     "text": [
      "RecordType  Citation  Complaint  Notice of Violation  Tenant Relocation  \\\n",
      "Month                                                                     \n",
      "1               1145       9924                 2083                268   \n",
      "2               1344       9463                 2226                315   \n",
      "3               1538      11583                 2575                339   \n",
      "4               1483      10895                 2392                315   \n",
      "5               1463      12231                 2362                312   \n",
      "6               1913      14117                 2443                330   \n",
      "7               2106      14346                 2399                327   \n",
      "8               1900      14220                 2693                287   \n",
      "9               1596      12406                 2454                286   \n",
      "10              1790      11084                 2604                321   \n",
      "11              1205       8556                 1993                260   \n",
      "12              1115       8401                 2240                279   \n",
      "\n",
      "RecordType  Unfit Building  \n",
      "Month                       \n",
      "1                       19  \n",
      "2                       26  \n",
      "3                       41  \n",
      "4                       36  \n",
      "5                       27  \n",
      "6                       33  \n",
      "7                       20  \n",
      "8                       26  \n",
      "9                       18  \n",
      "10                      22  \n",
      "11                      23  \n",
      "12                      25  \n"
     ]
    }
   ],
   "source": [
    "data['OpenDate'] = pd.to_datetime(data['OpenDate'])\n",
    "data['Month'] = data['OpenDate'].dt.month\n",
    "monthly_counts = data.groupby(['Month', 'RecordType']).size()\n",
    "monthly_counts = monthly_counts.reset_index().pivot(index='Month', columns='RecordType', values=0)\n",
    "print(monthly_counts)"
   ]
  },
  {
   "cell_type": "code",
   "execution_count": 103,
   "id": "1e376e78",
   "metadata": {},
   "outputs": [],
   "source": [
    "import matplotlib.pyplot as plt"
   ]
  },
  {
   "cell_type": "code",
   "execution_count": 104,
   "id": "0380dd27",
   "metadata": {},
   "outputs": [
    {
     "data": {
      "image/png": "[encoded data removed]",
      "text/plain": [
       "<Figure size 1000x600 with 1 Axes>"
      ]
     },
     "metadata": {},
     "output_type": "display_data"
    }
   ],
   "source": [
    "monthly_counts.plot(kind='bar', stacked=True, figsize=(10, 6))\n",
    "\n",
    "# Set plot attributes\n",
    "plt.xlabel('Month')\n",
    "plt.ylabel('Count')\n",
    "plt.title('Distribution of Record Types over Each Month')\n",
    "plt.legend(loc='upper right')\n",
    "\n",
    "# Display the chart\n",
    "plt.show()"
   ]
  },
  {
   "cell_type": "code",
   "execution_count": null,
   "id": "99a483a9",
   "metadata": {},
   "outputs": [],
   "source": []
  },
  {
   "cell_type": "code",
   "execution_count": null,
   "id": "2b672c9e",
   "metadata": {},
   "outputs": [],
   "source": []
  }
 ],
 "metadata": {
  "kernelspec": {
   "display_name": "Python 3 (ipykernel)",
   "language": "python",
   "name": "python3"
  },
  "language_info": {
   "codemirror_mode": {
    "name": "ipython",
    "version": 3
   },
   "file_extension": ".py",
   "mimetype": "text/x-python",
   "name": "python",
   "nbconvert_exporter": "python",
   "pygments_lexer": "ipython3",
   "version": "3.10.9"
  }
 },
 "nbformat": 4,
 "nbformat_minor": 5
}
