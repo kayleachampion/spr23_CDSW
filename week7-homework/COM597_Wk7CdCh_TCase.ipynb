{
 "cells": [
  {
   "cell_type": "markdown",
   "id": "f712e275",
   "metadata": {},
   "source": [
    "COM597 Week 7 Coding Challenges: Tiana Case"
   ]
  },
  {
   "cell_type": "markdown",
   "id": "0dc31e05",
   "metadata": {},
   "source": [
    "---"
   ]
  },
  {
   "cell_type": "markdown",
   "id": "65e4e40b",
   "metadata": {},
   "source": [
    "Checklist:\n",
    "\n",
    "#1 - pandas + complaints - done\n",
    "\n",
    "#2 - you know the type - done\n",
    "\n",
    "#3 - it's about time - done\n",
    "\n",
    "#4 questions & answers - done\n"
   ]
  },
  {
   "cell_type": "markdown",
   "id": "eaf610e1",
   "metadata": {},
   "source": [
    "---"
   ]
  },
  {
   "cell_type": "markdown",
   "id": "68dbd221",
   "metadata": {},
   "source": [
    "#1 Getting started with pandas and Seattle \"complaint\" data"
   ]
  },
  {
   "cell_type": "markdown",
   "id": "31e81200",
   "metadata": {},
   "source": [
    "1. Go to data.seattle.gov and download the dataset on code complaints and violations. (It is, by the way, also available in an API!) In this case, just go to Export→CSV and download the file. It should be about 80 megabytes"
   ]
  },
  {
   "cell_type": "markdown",
   "id": "5083ce48",
   "metadata": {},
   "source": [
    "2. As is always the case, spend some time poking around the website and reading documentation to get a sense of what kind of data this is, where it coming from, who generated it, and so on."
   ]
  },
  {
   "cell_type": "markdown",
   "id": "0e51b939",
   "metadata": {},
   "source": [
    "3. Put the CSV file into a directory and create a new Jupyter notebook in the same directory (remember that it is comma-separated, not tab-separated). Load that into Python as a pandas DataFrame."
   ]
  },
  {
   "cell_type": "code",
   "execution_count": 1,
   "id": "98951519",
   "metadata": {},
   "outputs": [],
   "source": [
    "import pandas as pd"
   ]
  },
  {
   "cell_type": "code",
   "execution_count": 2,
   "id": "4d2105ee",
   "metadata": {},
   "outputs": [],
   "source": [
    "SEA_complaints = pd.read_csv(\"Code_Complaints_and_Violations.csv\")"
   ]
  },
  {
   "cell_type": "code",
   "execution_count": 3,
   "id": "88be7a60",
   "metadata": {
    "scrolled": true
   },
   "outputs": [
    {
     "data": {
      "text/html": [
       "<div>\n",
       "<style scoped>\n",
       "    .dataframe tbody tr th:only-of-type {\n",
       "        vertical-align: middle;\n",
       "    }\n",
       "\n",
       "    .dataframe tbody tr th {\n",
       "        vertical-align: top;\n",
       "    }\n",
       "\n",
       "    .dataframe thead th {\n",
       "        text-align: right;\n",
       "    }\n",
       "</style>\n",
       "<table border=\"1\" class=\"dataframe\">\n",
       "  <thead>\n",
       "    <tr style=\"text-align: right;\">\n",
       "      <th></th>\n",
       "      <th>RecordNum</th>\n",
       "      <th>RecordType</th>\n",
       "      <th>RecordTypeMapped</th>\n",
       "      <th>RecordTypeDesc</th>\n",
       "      <th>Description</th>\n",
       "      <th>OpenDate</th>\n",
       "      <th>LastInspDate</th>\n",
       "      <th>LastInspResult</th>\n",
       "      <th>StatusCurrent</th>\n",
       "      <th>OriginalAddress1</th>\n",
       "      <th>OriginalCity</th>\n",
       "      <th>OriginalState</th>\n",
       "      <th>OriginalZip</th>\n",
       "      <th>Link</th>\n",
       "      <th>Latitude</th>\n",
       "      <th>Longitude</th>\n",
       "      <th>Location1</th>\n",
       "    </tr>\n",
       "  </thead>\n",
       "  <tbody>\n",
       "    <tr>\n",
       "      <th>0</th>\n",
       "      <td>001001-03CP</td>\n",
       "      <td>Complaint</td>\n",
       "      <td>Request</td>\n",
       "      <td>Construction</td>\n",
       "      <td>Elevator gets stuck at least 3 times a week, f...</td>\n",
       "      <td>2003-11-10</td>\n",
       "      <td>POINT (-122.33582172 47.60642293)</td>\n",
       "      <td>Completed</td>\n",
       "      <td>Completed</td>\n",
       "      <td>1100 2ND AVE</td>\n",
       "      <td>SEATTLE</td>\n",
       "      <td>WA</td>\n",
       "      <td>98101.0</td>\n",
       "      <td>https://cosaccela.seattle.gov/portal/customize...</td>\n",
       "      <td>47.606423</td>\n",
       "      <td>-122.335822</td>\n",
       "      <td>(47.60642293, -122.33582172)</td>\n",
       "    </tr>\n",
       "    <tr>\n",
       "      <th>1</th>\n",
       "      <td>001002-03CP</td>\n",
       "      <td>Complaint</td>\n",
       "      <td>Request</td>\n",
       "      <td>Construction</td>\n",
       "      <td>Concerned about RV pumpout that is currently b...</td>\n",
       "      <td>2003-11-10</td>\n",
       "      <td>POINT (-122.35191884 47.68639169)</td>\n",
       "      <td>Completed</td>\n",
       "      <td>Completed</td>\n",
       "      <td>512 N 79TH ST</td>\n",
       "      <td>SEATTLE</td>\n",
       "      <td>WA</td>\n",
       "      <td>98103.0</td>\n",
       "      <td>https://cosaccela.seattle.gov/portal/customize...</td>\n",
       "      <td>47.686392</td>\n",
       "      <td>-122.351919</td>\n",
       "      <td>(47.68639169, -122.35191884)</td>\n",
       "    </tr>\n",
       "    <tr>\n",
       "      <th>2</th>\n",
       "      <td>001003-03CP</td>\n",
       "      <td>Complaint</td>\n",
       "      <td>Request</td>\n",
       "      <td>Vacant Building</td>\n",
       "      <td>The vacant red apple building and adjacent bui...</td>\n",
       "      <td>2003-11-10</td>\n",
       "      <td>POINT (-122.31388805 47.61559829)</td>\n",
       "      <td>Completed</td>\n",
       "      <td>Completed</td>\n",
       "      <td>1400 E PINE ST</td>\n",
       "      <td>SEATTLE</td>\n",
       "      <td>WA</td>\n",
       "      <td>98122.0</td>\n",
       "      <td>https://cosaccela.seattle.gov/portal/customize...</td>\n",
       "      <td>47.615598</td>\n",
       "      <td>-122.313888</td>\n",
       "      <td>(47.61559829, -122.31388805)</td>\n",
       "    </tr>\n",
       "    <tr>\n",
       "      <th>3</th>\n",
       "      <td>001004-03CP</td>\n",
       "      <td>Complaint</td>\n",
       "      <td>Request</td>\n",
       "      <td>Land Use</td>\n",
       "      <td>Trailor and camper parked in back yard.  Peopl...</td>\n",
       "      <td>2003-11-10</td>\n",
       "      <td>POINT (-122.36215164 47.69226044)</td>\n",
       "      <td>Completed</td>\n",
       "      <td>Completed</td>\n",
       "      <td>332 NW 87TH ST</td>\n",
       "      <td>SEATTLE</td>\n",
       "      <td>WA</td>\n",
       "      <td>98117.0</td>\n",
       "      <td>https://cosaccela.seattle.gov/portal/customize...</td>\n",
       "      <td>47.692260</td>\n",
       "      <td>-122.362152</td>\n",
       "      <td>(47.69226044, -122.36215164)</td>\n",
       "    </tr>\n",
       "    <tr>\n",
       "      <th>4</th>\n",
       "      <td>001005-03CP</td>\n",
       "      <td>Complaint</td>\n",
       "      <td>Request</td>\n",
       "      <td>Land Use</td>\n",
       "      <td>Illegal use of property.\"Hawkers\" or vendors (...</td>\n",
       "      <td>2003-11-10</td>\n",
       "      <td>POINT (-122.33832038 47.60911773)</td>\n",
       "      <td>Completed</td>\n",
       "      <td>Completed</td>\n",
       "      <td>1430 2ND AVE</td>\n",
       "      <td>SEATTLE</td>\n",
       "      <td>WA</td>\n",
       "      <td>98101.0</td>\n",
       "      <td>https://cosaccela.seattle.gov/portal/customize...</td>\n",
       "      <td>47.609118</td>\n",
       "      <td>-122.338320</td>\n",
       "      <td>(47.60911773, -122.33832038)</td>\n",
       "    </tr>\n",
       "    <tr>\n",
       "      <th>...</th>\n",
       "      <td>...</td>\n",
       "      <td>...</td>\n",
       "      <td>...</td>\n",
       "      <td>...</td>\n",
       "      <td>...</td>\n",
       "      <td>...</td>\n",
       "      <td>...</td>\n",
       "      <td>...</td>\n",
       "      <td>...</td>\n",
       "      <td>...</td>\n",
       "      <td>...</td>\n",
       "      <td>...</td>\n",
       "      <td>...</td>\n",
       "      <td>...</td>\n",
       "      <td>...</td>\n",
       "      <td>...</td>\n",
       "      <td>...</td>\n",
       "    </tr>\n",
       "    <tr>\n",
       "      <th>187975</th>\n",
       "      <td>004749-23CP</td>\n",
       "      <td>Complaint</td>\n",
       "      <td>Request</td>\n",
       "      <td>NaN</td>\n",
       "      <td>Impassable sidewalk due to overgrown weeds fro...</td>\n",
       "      <td>2023-05-08</td>\n",
       "      <td>POINT (-122.30558344 47.60662842)</td>\n",
       "      <td>NaN</td>\n",
       "      <td>Initiated</td>\n",
       "      <td>515 21ST AVE</td>\n",
       "      <td>SEATTLE</td>\n",
       "      <td>WA</td>\n",
       "      <td>98122.0</td>\n",
       "      <td>https://cosaccela.seattle.gov/portal/customize...</td>\n",
       "      <td>47.606628</td>\n",
       "      <td>-122.305583</td>\n",
       "      <td>(47.60662842, -122.30558344)</td>\n",
       "    </tr>\n",
       "    <tr>\n",
       "      <th>187976</th>\n",
       "      <td>004750-23CP</td>\n",
       "      <td>Complaint</td>\n",
       "      <td>Request</td>\n",
       "      <td>NaN</td>\n",
       "      <td>Low tree branches from street tree in front of...</td>\n",
       "      <td>2023-05-08</td>\n",
       "      <td>POINT (-122.30537433 47.60679197)</td>\n",
       "      <td>NaN</td>\n",
       "      <td>Initiated</td>\n",
       "      <td>521 21ST AVE</td>\n",
       "      <td>SEATTLE</td>\n",
       "      <td>WA</td>\n",
       "      <td>98122.0</td>\n",
       "      <td>https://cosaccela.seattle.gov/portal/customize...</td>\n",
       "      <td>47.606792</td>\n",
       "      <td>-122.305374</td>\n",
       "      <td>(47.60679197, -122.30537433)</td>\n",
       "    </tr>\n",
       "    <tr>\n",
       "      <th>187977</th>\n",
       "      <td>004751-23CP</td>\n",
       "      <td>Complaint</td>\n",
       "      <td>Request</td>\n",
       "      <td>NaN</td>\n",
       "      <td>In 2021, the HOA of the Athena condominiums en...</td>\n",
       "      <td>2023-05-08</td>\n",
       "      <td>POINT (-122.35702584 47.62181749)</td>\n",
       "      <td>NaN</td>\n",
       "      <td>Initiated</td>\n",
       "      <td>323 QUEEN ANNE AVE N</td>\n",
       "      <td>SEATTLE</td>\n",
       "      <td>WA</td>\n",
       "      <td>98109.0</td>\n",
       "      <td>https://cosaccela.seattle.gov/portal/customize...</td>\n",
       "      <td>47.621817</td>\n",
       "      <td>-122.357026</td>\n",
       "      <td>(47.62181749, -122.35702584)</td>\n",
       "    </tr>\n",
       "    <tr>\n",
       "      <th>187978</th>\n",
       "      <td>004752-23CP</td>\n",
       "      <td>Complaint</td>\n",
       "      <td>Request</td>\n",
       "      <td>NaN</td>\n",
       "      <td>The landlord has left several large holes in t...</td>\n",
       "      <td>2023-05-08</td>\n",
       "      <td>POINT (-122.31918355 47.60407509)</td>\n",
       "      <td>NaN</td>\n",
       "      <td>Initiated</td>\n",
       "      <td>216 10TH AVE</td>\n",
       "      <td>SEATTLE</td>\n",
       "      <td>WA</td>\n",
       "      <td>98122.0</td>\n",
       "      <td>https://cosaccela.seattle.gov/portal/customize...</td>\n",
       "      <td>47.604075</td>\n",
       "      <td>-122.319184</td>\n",
       "      <td>(47.60407509, -122.31918355)</td>\n",
       "    </tr>\n",
       "    <tr>\n",
       "      <th>187979</th>\n",
       "      <td>1055961-VI</td>\n",
       "      <td>Notice of Violation</td>\n",
       "      <td>Case</td>\n",
       "      <td>Vacant Building</td>\n",
       "      <td>Abandoned home burglarized and now taken over ...</td>\n",
       "      <td>2023-05-08</td>\n",
       "      <td>POINT (-122.34321746 47.63386204)</td>\n",
       "      <td>NaN</td>\n",
       "      <td>Initiated</td>\n",
       "      <td>1608 AURORA AVE N</td>\n",
       "      <td>SEATTLE</td>\n",
       "      <td>WA</td>\n",
       "      <td>98109.0</td>\n",
       "      <td>https://cosaccela.seattle.gov/portal/customize...</td>\n",
       "      <td>47.633862</td>\n",
       "      <td>-122.343217</td>\n",
       "      <td>(47.63386204, -122.34321746)</td>\n",
       "    </tr>\n",
       "  </tbody>\n",
       "</table>\n",
       "<p>187980 rows × 17 columns</p>\n",
       "</div>"
      ],
      "text/plain": [
       "          RecordNum           RecordType RecordTypeMapped   RecordTypeDesc  \\\n",
       "0       001001-03CP            Complaint          Request     Construction   \n",
       "1       001002-03CP            Complaint          Request     Construction   \n",
       "2       001003-03CP            Complaint          Request  Vacant Building   \n",
       "3       001004-03CP            Complaint          Request         Land Use   \n",
       "4       001005-03CP            Complaint          Request         Land Use   \n",
       "...             ...                  ...              ...              ...   \n",
       "187975  004749-23CP            Complaint          Request              NaN   \n",
       "187976  004750-23CP            Complaint          Request              NaN   \n",
       "187977  004751-23CP            Complaint          Request              NaN   \n",
       "187978  004752-23CP            Complaint          Request              NaN   \n",
       "187979   1055961-VI  Notice of Violation             Case  Vacant Building   \n",
       "\n",
       "                                              Description    OpenDate  \\\n",
       "0       Elevator gets stuck at least 3 times a week, f...  2003-11-10   \n",
       "1       Concerned about RV pumpout that is currently b...  2003-11-10   \n",
       "2       The vacant red apple building and adjacent bui...  2003-11-10   \n",
       "3       Trailor and camper parked in back yard.  Peopl...  2003-11-10   \n",
       "4       Illegal use of property.\"Hawkers\" or vendors (...  2003-11-10   \n",
       "...                                                   ...         ...   \n",
       "187975  Impassable sidewalk due to overgrown weeds fro...  2023-05-08   \n",
       "187976  Low tree branches from street tree in front of...  2023-05-08   \n",
       "187977  In 2021, the HOA of the Athena condominiums en...  2023-05-08   \n",
       "187978  The landlord has left several large holes in t...  2023-05-08   \n",
       "187979  Abandoned home burglarized and now taken over ...  2023-05-08   \n",
       "\n",
       "                             LastInspDate LastInspResult StatusCurrent  \\\n",
       "0       POINT (-122.33582172 47.60642293)      Completed     Completed   \n",
       "1       POINT (-122.35191884 47.68639169)      Completed     Completed   \n",
       "2       POINT (-122.31388805 47.61559829)      Completed     Completed   \n",
       "3       POINT (-122.36215164 47.69226044)      Completed     Completed   \n",
       "4       POINT (-122.33832038 47.60911773)      Completed     Completed   \n",
       "...                                   ...            ...           ...   \n",
       "187975  POINT (-122.30558344 47.60662842)            NaN     Initiated   \n",
       "187976  POINT (-122.30537433 47.60679197)            NaN     Initiated   \n",
       "187977  POINT (-122.35702584 47.62181749)            NaN     Initiated   \n",
       "187978  POINT (-122.31918355 47.60407509)            NaN     Initiated   \n",
       "187979  POINT (-122.34321746 47.63386204)            NaN     Initiated   \n",
       "\n",
       "            OriginalAddress1 OriginalCity OriginalState  OriginalZip  \\\n",
       "0               1100 2ND AVE      SEATTLE            WA      98101.0   \n",
       "1              512 N 79TH ST      SEATTLE            WA      98103.0   \n",
       "2             1400 E PINE ST      SEATTLE            WA      98122.0   \n",
       "3             332 NW 87TH ST      SEATTLE            WA      98117.0   \n",
       "4               1430 2ND AVE      SEATTLE            WA      98101.0   \n",
       "...                      ...          ...           ...          ...   \n",
       "187975          515 21ST AVE      SEATTLE            WA      98122.0   \n",
       "187976          521 21ST AVE      SEATTLE            WA      98122.0   \n",
       "187977  323 QUEEN ANNE AVE N      SEATTLE            WA      98109.0   \n",
       "187978          216 10TH AVE      SEATTLE            WA      98122.0   \n",
       "187979     1608 AURORA AVE N      SEATTLE            WA      98109.0   \n",
       "\n",
       "                                                     Link   Latitude  \\\n",
       "0       https://cosaccela.seattle.gov/portal/customize...  47.606423   \n",
       "1       https://cosaccela.seattle.gov/portal/customize...  47.686392   \n",
       "2       https://cosaccela.seattle.gov/portal/customize...  47.615598   \n",
       "3       https://cosaccela.seattle.gov/portal/customize...  47.692260   \n",
       "4       https://cosaccela.seattle.gov/portal/customize...  47.609118   \n",
       "...                                                   ...        ...   \n",
       "187975  https://cosaccela.seattle.gov/portal/customize...  47.606628   \n",
       "187976  https://cosaccela.seattle.gov/portal/customize...  47.606792   \n",
       "187977  https://cosaccela.seattle.gov/portal/customize...  47.621817   \n",
       "187978  https://cosaccela.seattle.gov/portal/customize...  47.604075   \n",
       "187979  https://cosaccela.seattle.gov/portal/customize...  47.633862   \n",
       "\n",
       "         Longitude                     Location1  \n",
       "0      -122.335822  (47.60642293, -122.33582172)  \n",
       "1      -122.351919  (47.68639169, -122.35191884)  \n",
       "2      -122.313888  (47.61559829, -122.31388805)  \n",
       "3      -122.362152  (47.69226044, -122.36215164)  \n",
       "4      -122.338320  (47.60911773, -122.33832038)  \n",
       "...            ...                           ...  \n",
       "187975 -122.305583  (47.60662842, -122.30558344)  \n",
       "187976 -122.305374  (47.60679197, -122.30537433)  \n",
       "187977 -122.357026  (47.62181749, -122.35702584)  \n",
       "187978 -122.319184  (47.60407509, -122.31918355)  \n",
       "187979 -122.343217  (47.63386204, -122.34321746)  \n",
       "\n",
       "[187980 rows x 17 columns]"
      ]
     },
     "execution_count": 3,
     "metadata": {},
     "output_type": "execute_result"
    }
   ],
   "source": [
    "SEA_complaints"
   ]
  },
  {
   "cell_type": "code",
   "execution_count": 5,
   "id": "29c2de58",
   "metadata": {},
   "outputs": [
    {
     "data": {
      "text/plain": [
       "(187980, 17)"
      ]
     },
     "execution_count": 5,
     "metadata": {},
     "output_type": "execute_result"
    }
   ],
   "source": [
    "SEA_complaints.shape"
   ]
  },
  {
   "cell_type": "code",
   "execution_count": 10,
   "id": "79d67f78",
   "metadata": {
    "scrolled": true
   },
   "outputs": [
    {
     "data": {
      "text/plain": [
       "187980"
      ]
     },
     "execution_count": 10,
     "metadata": {},
     "output_type": "execute_result"
    }
   ],
   "source": [
    "SEA_complaints.shape[0]"
   ]
  },
  {
   "cell_type": "code",
   "execution_count": 16,
   "id": "20653f77",
   "metadata": {},
   "outputs": [
    {
     "data": {
      "text/plain": [
       "17"
      ]
     },
     "execution_count": 16,
     "metadata": {},
     "output_type": "execute_result"
    }
   ],
   "source": [
    "SEA_complaints.shape[1]"
   ]
  },
  {
   "cell_type": "markdown",
   "id": "04e1fb1c",
   "metadata": {},
   "source": [
    "4. Show some parts of the dataframe and make sure your load command worked.\n"
   ]
  },
  {
   "cell_type": "code",
   "execution_count": 18,
   "id": "ea819abe",
   "metadata": {
    "scrolled": true
   },
   "outputs": [
    {
     "data": {
      "text/plain": [
       "0         2003-11-10\n",
       "1         2003-11-10\n",
       "2         2003-11-10\n",
       "3         2003-11-10\n",
       "4         2003-11-10\n",
       "             ...    \n",
       "187975    2023-05-08\n",
       "187976    2023-05-08\n",
       "187977    2023-05-08\n",
       "187978    2023-05-08\n",
       "187979    2023-05-08\n",
       "Name: OpenDate, Length: 187980, dtype: object"
      ]
     },
     "execution_count": 18,
     "metadata": {},
     "output_type": "execute_result"
    }
   ],
   "source": [
    "SEA_complaints[\"OpenDate\"]"
   ]
  },
  {
   "cell_type": "code",
   "execution_count": 22,
   "id": "235cc798",
   "metadata": {
    "scrolled": true
   },
   "outputs": [
    {
     "data": {
      "text/plain": [
       "0         Elevator gets stuck at least 3 times a week, f...\n",
       "1         Concerned about RV pumpout that is currently b...\n",
       "2         The vacant red apple building and adjacent bui...\n",
       "3         Trailor and camper parked in back yard.  Peopl...\n",
       "4         Illegal use of property.\"Hawkers\" or vendors (...\n",
       "                                ...                        \n",
       "187975    Impassable sidewalk due to overgrown weeds fro...\n",
       "187976    Low tree branches from street tree in front of...\n",
       "187977    In 2021, the HOA of the Athena condominiums en...\n",
       "187978    The landlord has left several large holes in t...\n",
       "187979    Abandoned home burglarized and now taken over ...\n",
       "Name: Description, Length: 187980, dtype: object"
      ]
     },
     "execution_count": 22,
     "metadata": {},
     "output_type": "execute_result"
    }
   ],
   "source": [
    "SEA_complaints[\"Description\"]"
   ]
  },
  {
   "cell_type": "markdown",
   "id": "6307facc",
   "metadata": {},
   "source": [
    "5. Print out the number of rows and the number of columns to get a sense of how much data you're working with.\n"
   ]
  },
  {
   "cell_type": "code",
   "execution_count": 20,
   "id": "56ed2398",
   "metadata": {
    "scrolled": false
   },
   "outputs": [
    {
     "name": "stdout",
     "output_type": "stream",
     "text": [
      "rows: 187980, columns: 17\n"
     ]
    }
   ],
   "source": [
    "print(f\"rows: {SEA_complaints.shape[0]}, columns: {SEA_complaints.shape[1]}\")"
   ]
  },
  {
   "cell_type": "markdown",
   "id": "8e07ae0e",
   "metadata": {},
   "source": [
    "---"
   ]
  },
  {
   "cell_type": "markdown",
   "id": "bb732962",
   "metadata": {},
   "source": [
    "#2 You know the type"
   ]
  },
  {
   "cell_type": "markdown",
   "id": "7367067c",
   "metadata": {},
   "source": [
    "1. Take a look at the \"RecordType\" column which describes the kinds of complaints that come in. What are the types of categories? How many are in each category? Show both with numbers and with a simple visualization (a histogram, perhaps?). For each category, print out the \"Description\" of several examples. What kinds of things are included?\n"
   ]
  },
  {
   "cell_type": "code",
   "execution_count": 23,
   "id": "c8c525ae",
   "metadata": {
    "scrolled": true
   },
   "outputs": [
    {
     "data": {
      "text/plain": [
       "0                   Complaint\n",
       "1                   Complaint\n",
       "2                   Complaint\n",
       "3                   Complaint\n",
       "4                   Complaint\n",
       "                 ...         \n",
       "187975              Complaint\n",
       "187976              Complaint\n",
       "187977              Complaint\n",
       "187978              Complaint\n",
       "187979    Notice of Violation\n",
       "Name: RecordType, Length: 187980, dtype: object"
      ]
     },
     "execution_count": 23,
     "metadata": {},
     "output_type": "execute_result"
    }
   ],
   "source": [
    "SEA_complaints[\"RecordType\"]"
   ]
  },
  {
   "cell_type": "code",
   "execution_count": 24,
   "id": "e4641b7b",
   "metadata": {
    "scrolled": false
   },
   "outputs": [
    {
     "data": {
      "text/plain": [
       "Complaint              136987\n",
       "Notice of Violation     28446\n",
       "Citation                18592\n",
       "Tenant Relocation        3639\n",
       "Unfit Building            316\n",
       "Name: RecordType, dtype: int64"
      ]
     },
     "execution_count": 24,
     "metadata": {},
     "output_type": "execute_result"
    }
   ],
   "source": [
    "SEA_complaints[\"RecordType\"].value_counts()"
   ]
  },
  {
   "cell_type": "code",
   "execution_count": 27,
   "id": "52a2de20",
   "metadata": {
    "scrolled": false
   },
   "outputs": [
    {
     "data": {
      "text/plain": [
       "<pandas.core.groupby.generic.DataFrameGroupBy object at 0x7fb11a503f40>"
      ]
     },
     "execution_count": 27,
     "metadata": {},
     "output_type": "execute_result"
    }
   ],
   "source": [
    "SEA_complaints.groupby(\"RecordType\")"
   ]
  },
  {
   "cell_type": "code",
   "execution_count": 28,
   "id": "fa345ba9",
   "metadata": {
    "scrolled": true
   },
   "outputs": [
    {
     "data": {
      "text/plain": [
       "5"
      ]
     },
     "execution_count": 28,
     "metadata": {},
     "output_type": "execute_result"
    }
   ],
   "source": [
    "len(SEA_complaints.groupby(\"RecordType\"))"
   ]
  },
  {
   "cell_type": "code",
   "execution_count": 31,
   "id": "7acb2130",
   "metadata": {
    "scrolled": false
   },
   "outputs": [
    {
     "data": {
      "text/plain": [
       "RecordType\n",
       "Citation                18592\n",
       "Complaint              136987\n",
       "Notice of Violation     28446\n",
       "Tenant Relocation        3639\n",
       "Unfit Building            316\n",
       "dtype: int64"
      ]
     },
     "execution_count": 31,
     "metadata": {},
     "output_type": "execute_result"
    }
   ],
   "source": [
    "SEA_complaints.groupby('RecordType').size()"
   ]
  },
  {
   "cell_type": "code",
   "execution_count": 25,
   "id": "a183642d",
   "metadata": {
    "scrolled": true
   },
   "outputs": [
    {
     "data": {
      "text/plain": [
       "<Axes: >"
      ]
     },
     "execution_count": 25,
     "metadata": {},
     "output_type": "execute_result"
    },
    {
     "data": {
      "image/png": "[encoded data removed]",
      "text/plain": [
       "<Figure size 640x480 with 1 Axes>"
      ]
     },
     "metadata": {},
     "output_type": "display_data"
    }
   ],
   "source": [
    "SEA_complaints[\"RecordType\"].hist()"
   ]
  },
  {
   "cell_type": "code",
   "execution_count": 57,
   "id": "a1a00940",
   "metadata": {
    "scrolled": true
   },
   "outputs": [
    {
     "name": "stdout",
     "output_type": "stream",
     "text": [
      "Complaint\n",
      "0    Elevator gets stuck at least 3 times a week, f...\n",
      "1    Concerned about RV pumpout that is currently b...\n",
      "2    The vacant red apple building and adjacent bui...\n",
      "3    Trailor and camper parked in back yard.  Peopl...\n",
      "4    Illegal use of property.\"Hawkers\" or vendors (...\n",
      "Name: Description, dtype: object\n",
      "\n",
      "Notice of Violation\n",
      "462                                                  NaN\n",
      "463    Someone living in camper in northeast corner o...\n",
      "464    Work w/o permit.Windows being replaced on the ...\n",
      "465    Observed while re-inspecting adjacent property...\n",
      "467    Caller states that adjacent property is being ...\n",
      "Name: Description, dtype: object\n",
      "\n",
      "Unfit Building\n",
      "466     FIRE DAMAGED HOUSE- OWNER IS APPLYING FOR UNFI...\n",
      "610                     Burned out single family building\n",
      "4750              Three unit condo damamged by 1996 slide\n",
      "4768                        zoning junk storage violation\n",
      "4887                          unfit building and premises\n",
      "Name: Description, dtype: object\n",
      "\n",
      "Citation\n",
      "472    Parking in req'd yard and unpermitted outdoor ...\n",
      "481                             observed hbmc violations\n",
      "482    Parking a vehicle in the required front yard -...\n",
      "485              Observed viol, inops, junk and parking.\n",
      "487    Parking pick-up truck in required front yard -...\n",
      "Name: Description, dtype: object\n",
      "\n",
      "Tenant Relocation\n",
      "476    Application for Tenant Relocation License\n",
      "478    Application for Tenant Relocation License\n",
      "490    Application for Tenant Relocation License\n",
      "512    Application for tenant relocation license\n",
      "513    Application for Tenant Relocation License\n",
      "Name: Description, dtype: object\n",
      "\n"
     ]
    }
   ],
   "source": [
    "types = [\"Complaint\", \"Notice of Violation\", \"Unfit Building\", \"Citation\", \"Tenant Relocation\"]\n",
    "\n",
    "for type in types:\n",
    "    print(type)\n",
    "    print(SEA_complaints[SEA_complaints[\"RecordType\"] == type][\"Description\"].head())\n",
    "    print()"
   ]
  },
  {
   "cell_type": "code",
   "execution_count": 41,
   "id": "9daa3079",
   "metadata": {
    "scrolled": true
   },
   "outputs": [
    {
     "data": {
      "text/plain": [
       "0    Elevator gets stuck at least 3 times a week, f...\n",
       "1    Concerned about RV pumpout that is currently b...\n",
       "2    The vacant red apple building and adjacent bui...\n",
       "3    Trailor and camper parked in back yard.  Peopl...\n",
       "4    Illegal use of property.\"Hawkers\" or vendors (...\n",
       "Name: Description, dtype: object"
      ]
     },
     "execution_count": 41,
     "metadata": {},
     "output_type": "execute_result"
    }
   ],
   "source": [
    "SEA_complaints[SEA_complaints[\"RecordType\"] == \"Complaint\"][\"Description\"].head()"
   ]
  },
  {
   "cell_type": "code",
   "execution_count": 38,
   "id": "5c6f2d82",
   "metadata": {},
   "outputs": [
    {
     "data": {
      "text/plain": [
       "187980"
      ]
     },
     "execution_count": 38,
     "metadata": {},
     "output_type": "execute_result"
    }
   ],
   "source": [
    "len(SEA_complaints[\"RecordType\"] == \"Complaint\")"
   ]
  },
  {
   "cell_type": "code",
   "execution_count": 39,
   "id": "3bec2267",
   "metadata": {},
   "outputs": [
    {
     "name": "stdout",
     "output_type": "stream",
     "text": [
      "0          True\n",
      "1          True\n",
      "2          True\n",
      "3          True\n",
      "4          True\n",
      "          ...  \n",
      "187975     True\n",
      "187976     True\n",
      "187977     True\n",
      "187978     True\n",
      "187979    False\n",
      "Name: RecordType, Length: 187980, dtype: bool\n"
     ]
    }
   ],
   "source": [
    "print(SEA_complaints[\"RecordType\"] == \"Complaint\")"
   ]
  },
  {
   "cell_type": "markdown",
   "id": "07a0c9ef",
   "metadata": {},
   "source": [
    "parking issues, damages, safety concerns"
   ]
  },
  {
   "cell_type": "markdown",
   "id": "bd44e3c5",
   "metadata": {},
   "source": [
    "2. Build a new dataset that includes only the \"RecordType\" and \"OriginalZip\" columns.\n"
   ]
  },
  {
   "cell_type": "code",
   "execution_count": 59,
   "id": "725b016a",
   "metadata": {},
   "outputs": [],
   "source": [
    "SEA_complaints_p2 = SEA_complaints[[\"RecordType\", \"OriginalZip\", \"Description\"]]"
   ]
  },
  {
   "cell_type": "code",
   "execution_count": 60,
   "id": "78f5de3d",
   "metadata": {
    "scrolled": true
   },
   "outputs": [
    {
     "data": {
      "text/html": [
       "<div>\n",
       "<style scoped>\n",
       "    .dataframe tbody tr th:only-of-type {\n",
       "        vertical-align: middle;\n",
       "    }\n",
       "\n",
       "    .dataframe tbody tr th {\n",
       "        vertical-align: top;\n",
       "    }\n",
       "\n",
       "    .dataframe thead th {\n",
       "        text-align: right;\n",
       "    }\n",
       "</style>\n",
       "<table border=\"1\" class=\"dataframe\">\n",
       "  <thead>\n",
       "    <tr style=\"text-align: right;\">\n",
       "      <th></th>\n",
       "      <th>RecordType</th>\n",
       "      <th>OriginalZip</th>\n",
       "      <th>Description</th>\n",
       "    </tr>\n",
       "  </thead>\n",
       "  <tbody>\n",
       "    <tr>\n",
       "      <th>0</th>\n",
       "      <td>Complaint</td>\n",
       "      <td>98101.0</td>\n",
       "      <td>Elevator gets stuck at least 3 times a week, f...</td>\n",
       "    </tr>\n",
       "    <tr>\n",
       "      <th>1</th>\n",
       "      <td>Complaint</td>\n",
       "      <td>98103.0</td>\n",
       "      <td>Concerned about RV pumpout that is currently b...</td>\n",
       "    </tr>\n",
       "    <tr>\n",
       "      <th>2</th>\n",
       "      <td>Complaint</td>\n",
       "      <td>98122.0</td>\n",
       "      <td>The vacant red apple building and adjacent bui...</td>\n",
       "    </tr>\n",
       "    <tr>\n",
       "      <th>3</th>\n",
       "      <td>Complaint</td>\n",
       "      <td>98117.0</td>\n",
       "      <td>Trailor and camper parked in back yard.  Peopl...</td>\n",
       "    </tr>\n",
       "    <tr>\n",
       "      <th>4</th>\n",
       "      <td>Complaint</td>\n",
       "      <td>98101.0</td>\n",
       "      <td>Illegal use of property.\"Hawkers\" or vendors (...</td>\n",
       "    </tr>\n",
       "    <tr>\n",
       "      <th>...</th>\n",
       "      <td>...</td>\n",
       "      <td>...</td>\n",
       "      <td>...</td>\n",
       "    </tr>\n",
       "    <tr>\n",
       "      <th>187975</th>\n",
       "      <td>Complaint</td>\n",
       "      <td>98122.0</td>\n",
       "      <td>Impassable sidewalk due to overgrown weeds fro...</td>\n",
       "    </tr>\n",
       "    <tr>\n",
       "      <th>187976</th>\n",
       "      <td>Complaint</td>\n",
       "      <td>98122.0</td>\n",
       "      <td>Low tree branches from street tree in front of...</td>\n",
       "    </tr>\n",
       "    <tr>\n",
       "      <th>187977</th>\n",
       "      <td>Complaint</td>\n",
       "      <td>98109.0</td>\n",
       "      <td>In 2021, the HOA of the Athena condominiums en...</td>\n",
       "    </tr>\n",
       "    <tr>\n",
       "      <th>187978</th>\n",
       "      <td>Complaint</td>\n",
       "      <td>98122.0</td>\n",
       "      <td>The landlord has left several large holes in t...</td>\n",
       "    </tr>\n",
       "    <tr>\n",
       "      <th>187979</th>\n",
       "      <td>Notice of Violation</td>\n",
       "      <td>98109.0</td>\n",
       "      <td>Abandoned home burglarized and now taken over ...</td>\n",
       "    </tr>\n",
       "  </tbody>\n",
       "</table>\n",
       "<p>187980 rows × 3 columns</p>\n",
       "</div>"
      ],
      "text/plain": [
       "                 RecordType  OriginalZip  \\\n",
       "0                 Complaint      98101.0   \n",
       "1                 Complaint      98103.0   \n",
       "2                 Complaint      98122.0   \n",
       "3                 Complaint      98117.0   \n",
       "4                 Complaint      98101.0   \n",
       "...                     ...          ...   \n",
       "187975            Complaint      98122.0   \n",
       "187976            Complaint      98122.0   \n",
       "187977            Complaint      98109.0   \n",
       "187978            Complaint      98122.0   \n",
       "187979  Notice of Violation      98109.0   \n",
       "\n",
       "                                              Description  \n",
       "0       Elevator gets stuck at least 3 times a week, f...  \n",
       "1       Concerned about RV pumpout that is currently b...  \n",
       "2       The vacant red apple building and adjacent bui...  \n",
       "3       Trailor and camper parked in back yard.  Peopl...  \n",
       "4       Illegal use of property.\"Hawkers\" or vendors (...  \n",
       "...                                                   ...  \n",
       "187975  Impassable sidewalk due to overgrown weeds fro...  \n",
       "187976  Low tree branches from street tree in front of...  \n",
       "187977  In 2021, the HOA of the Athena condominiums en...  \n",
       "187978  The landlord has left several large holes in t...  \n",
       "187979  Abandoned home burglarized and now taken over ...  \n",
       "\n",
       "[187980 rows x 3 columns]"
      ]
     },
     "execution_count": 60,
     "metadata": {},
     "output_type": "execute_result"
    }
   ],
   "source": [
    "SEA_complaints_p2"
   ]
  },
  {
   "cell_type": "markdown",
   "id": "b0069336",
   "metadata": {},
   "source": [
    "3. Use this second dataset to filter the dataset down to just rows from your zipcode. If you don't live in Seattle, you can just use my zip code (98112) which covers north Capitol Hill and Montlake or you can pick an area you think is interesting from this map.\n"
   ]
  },
  {
   "cell_type": "code",
   "execution_count": 61,
   "id": "dd9367f3",
   "metadata": {},
   "outputs": [],
   "source": [
    "Tiana_zip = SEA_complaints_p2[SEA_complaints_p2[\"OriginalZip\"] == 98115]"
   ]
  },
  {
   "cell_type": "code",
   "execution_count": 62,
   "id": "b82d5af3",
   "metadata": {
    "scrolled": true
   },
   "outputs": [
    {
     "data": {
      "text/html": [
       "<div>\n",
       "<style scoped>\n",
       "    .dataframe tbody tr th:only-of-type {\n",
       "        vertical-align: middle;\n",
       "    }\n",
       "\n",
       "    .dataframe tbody tr th {\n",
       "        vertical-align: top;\n",
       "    }\n",
       "\n",
       "    .dataframe thead th {\n",
       "        text-align: right;\n",
       "    }\n",
       "</style>\n",
       "<table border=\"1\" class=\"dataframe\">\n",
       "  <thead>\n",
       "    <tr style=\"text-align: right;\">\n",
       "      <th></th>\n",
       "      <th>RecordType</th>\n",
       "      <th>OriginalZip</th>\n",
       "      <th>Description</th>\n",
       "    </tr>\n",
       "  </thead>\n",
       "  <tbody>\n",
       "    <tr>\n",
       "      <th>48</th>\n",
       "      <td>Complaint</td>\n",
       "      <td>98115.0</td>\n",
       "      <td>Excavating and pouring foundation/concrete wit...</td>\n",
       "    </tr>\n",
       "    <tr>\n",
       "      <th>51</th>\n",
       "      <td>Complaint</td>\n",
       "      <td>98115.0</td>\n",
       "      <td>Removal of tree w/o permit in ECA. See attache...</td>\n",
       "    </tr>\n",
       "    <tr>\n",
       "      <th>53</th>\n",
       "      <td>Complaint</td>\n",
       "      <td>98115.0</td>\n",
       "      <td>Concrete garage/bunker being built in front ya...</td>\n",
       "    </tr>\n",
       "    <tr>\n",
       "      <th>54</th>\n",
       "      <td>Complaint</td>\n",
       "      <td>98115.0</td>\n",
       "      <td>Concrete garage/bunker being built in front ya...</td>\n",
       "    </tr>\n",
       "    <tr>\n",
       "      <th>85</th>\n",
       "      <td>Complaint</td>\n",
       "      <td>98115.0</td>\n",
       "      <td>House has been vacant for several years.  The ...</td>\n",
       "    </tr>\n",
       "    <tr>\n",
       "      <th>...</th>\n",
       "      <td>...</td>\n",
       "      <td>...</td>\n",
       "      <td>...</td>\n",
       "    </tr>\n",
       "    <tr>\n",
       "      <th>187898</th>\n",
       "      <td>Complaint</td>\n",
       "      <td>98115.0</td>\n",
       "      <td>Junk car, overgrown vegetation on yard and dri...</td>\n",
       "    </tr>\n",
       "    <tr>\n",
       "      <th>187912</th>\n",
       "      <td>Complaint</td>\n",
       "      <td>98115.0</td>\n",
       "      <td>Vacant home with large piles of garbage and de...</td>\n",
       "    </tr>\n",
       "    <tr>\n",
       "      <th>187945</th>\n",
       "      <td>Complaint</td>\n",
       "      <td>98115.0</td>\n",
       "      <td>RENT INCREASE</td>\n",
       "    </tr>\n",
       "    <tr>\n",
       "      <th>187956</th>\n",
       "      <td>Complaint</td>\n",
       "      <td>98115.0</td>\n",
       "      <td>Overgrown sidewalk, second request</td>\n",
       "    </tr>\n",
       "    <tr>\n",
       "      <th>187969</th>\n",
       "      <td>Complaint</td>\n",
       "      <td>98115.0</td>\n",
       "      <td>HOLE IN CEILINGAND LEAK</td>\n",
       "    </tr>\n",
       "  </tbody>\n",
       "</table>\n",
       "<p>11012 rows × 3 columns</p>\n",
       "</div>"
      ],
      "text/plain": [
       "       RecordType  OriginalZip  \\\n",
       "48      Complaint      98115.0   \n",
       "51      Complaint      98115.0   \n",
       "53      Complaint      98115.0   \n",
       "54      Complaint      98115.0   \n",
       "85      Complaint      98115.0   \n",
       "...           ...          ...   \n",
       "187898  Complaint      98115.0   \n",
       "187912  Complaint      98115.0   \n",
       "187945  Complaint      98115.0   \n",
       "187956  Complaint      98115.0   \n",
       "187969  Complaint      98115.0   \n",
       "\n",
       "                                              Description  \n",
       "48      Excavating and pouring foundation/concrete wit...  \n",
       "51      Removal of tree w/o permit in ECA. See attache...  \n",
       "53      Concrete garage/bunker being built in front ya...  \n",
       "54      Concrete garage/bunker being built in front ya...  \n",
       "85      House has been vacant for several years.  The ...  \n",
       "...                                                   ...  \n",
       "187898  Junk car, overgrown vegetation on yard and dri...  \n",
       "187912  Vacant home with large piles of garbage and de...  \n",
       "187945                                      RENT INCREASE  \n",
       "187956                 Overgrown sidewalk, second request  \n",
       "187969                            HOLE IN CEILINGAND LEAK  \n",
       "\n",
       "[11012 rows x 3 columns]"
      ]
     },
     "execution_count": 62,
     "metadata": {},
     "output_type": "execute_result"
    }
   ],
   "source": [
    "Tiana_zip"
   ]
  },
  {
   "cell_type": "markdown",
   "id": "6c6cfa68",
   "metadata": {},
   "source": [
    "3.1 Now look at the number and proportion of different types of records in this subset.\n"
   ]
  },
  {
   "cell_type": "code",
   "execution_count": 66,
   "id": "26525323",
   "metadata": {
    "scrolled": false
   },
   "outputs": [
    {
     "data": {
      "text/plain": [
       "Complaint              7922\n",
       "Notice of Violation    1624\n",
       "Citation               1269\n",
       "Tenant Relocation       178\n",
       "Unfit Building           19\n",
       "Name: RecordType, dtype: int64"
      ]
     },
     "execution_count": 66,
     "metadata": {},
     "output_type": "execute_result"
    }
   ],
   "source": [
    "Tiana_zip[\"RecordType\"].value_counts()"
   ]
  },
  {
   "cell_type": "markdown",
   "id": "0ccc9985",
   "metadata": {},
   "source": [
    "3.2 Be ready to explain if the distribution in this zipcode different than the distribution in Seattle overall? If not, how is it different?\n"
   ]
  },
  {
   "cell_type": "code",
   "execution_count": 80,
   "id": "57391fd5",
   "metadata": {},
   "outputs": [
    {
     "name": "stdout",
     "output_type": "stream",
     "text": [
      "Seattle overall\n",
      "Complaint              136987\n",
      "Notice of Violation     28446\n",
      "Citation                18592\n",
      "Tenant Relocation        3639\n",
      "Unfit Building            316\n",
      "Name: RecordType, dtype: int64\n",
      "\n",
      "Tiana - 98115\n",
      "Complaint              7922\n",
      "Notice of Violation    1624\n",
      "Citation               1269\n",
      "Tenant Relocation       178\n",
      "Unfit Building           19\n",
      "Name: RecordType, dtype: int64\n"
     ]
    }
   ],
   "source": [
    "print(\"Seattle overall\")\n",
    "print(SEA_complaints[\"RecordType\"].value_counts())\n",
    "print()\n",
    "print(\"Tiana - 98115\")\n",
    "print(Tiana_zip[\"RecordType\"].value_counts())"
   ]
  },
  {
   "cell_type": "markdown",
   "id": "6b2c0361",
   "metadata": {},
   "source": [
    "3.3 Once again, print out the \"Description\" of several examples from each category. What kinds of things are included?\n"
   ]
  },
  {
   "cell_type": "code",
   "execution_count": 81,
   "id": "443e1bc3",
   "metadata": {},
   "outputs": [
    {
     "name": "stdout",
     "output_type": "stream",
     "text": [
      "Complaint\n",
      "48    Excavating and pouring foundation/concrete wit...\n",
      "51    Removal of tree w/o permit in ECA. See attache...\n",
      "53    Concrete garage/bunker being built in front ya...\n",
      "54    Concrete garage/bunker being built in front ya...\n",
      "85    House has been vacant for several years.  The ...\n",
      "Name: Description, dtype: object\n",
      "\n",
      "Notice of Violation\n",
      "494     House has been vacant for several years.  The ...\n",
      "608     Water damage in the wall in the basement. Also...\n",
      "627                                                   NaN\n",
      "4717    Junk storage in backyard and \"junk vehicles\" s...\n",
      "4760    Abandoned building.  Broken window on west sid...\n",
      "Name: Description, dtype: object\n",
      "\n",
      "Unfit Building\n",
      "6414     delapidated garage; roof collapsing; dry rot- ...\n",
      "6534              Remodel abandoned house vacant and open.\n",
      "12023    inspection shows violations of Land Use Code, ...\n",
      "19523                              Single family structure\n",
      "20819                       Burned single family structure\n",
      "Name: Description, dtype: object\n",
      "\n",
      "Citation\n",
      "625        observed housing violations and citation items\n",
      "632     initial inspection-red sedan, two flat tires, ...\n",
      "637     initial inspection-7 vehicles in rear yard, 2 ...\n",
      "4789              parking,home occupation,outdoor storage\n",
      "4983    inspection shows driveway full of household ru...\n",
      "Name: Description, dtype: object\n",
      "\n",
      "Tenant Relocation\n",
      "4765    application for Tenant Relocation License\n",
      "5197                              No Displacement\n",
      "5307     Tenant Relocation Assistance License App\n",
      "5531                  No Displacement Certificate\n",
      "5535                  No Displacement Certificate\n",
      "Name: Description, dtype: object\n",
      "\n"
     ]
    }
   ],
   "source": [
    "types = [\"Complaint\", \"Notice of Violation\", \"Unfit Building\", \"Citation\", \"Tenant Relocation\"]\n",
    "\n",
    "for type in types:\n",
    "    print(type)\n",
    "    print(Tiana_zip[Tiana_zip[\"RecordType\"] == type][\"Description\"].head())\n",
    "    print()"
   ]
  },
  {
   "cell_type": "markdown",
   "id": "db883d40",
   "metadata": {},
   "source": [
    "4. Use pandas to write out the two-column dataset to TSV (with tabs instead of commas).\n"
   ]
  },
  {
   "cell_type": "code",
   "execution_count": 82,
   "id": "21036f5b",
   "metadata": {},
   "outputs": [],
   "source": [
    "Tiana_zip.to_csv(\"COM597_Tianazip.tsv\", sep = \"\\t\")"
   ]
  },
  {
   "cell_type": "markdown",
   "id": "f5b9699a",
   "metadata": {},
   "source": [
    "---"
   ]
  },
  {
   "cell_type": "markdown",
   "id": "0db47027",
   "metadata": {},
   "source": [
    "#3 It's about time"
   ]
  },
  {
   "cell_type": "markdown",
   "id": "0da10933",
   "metadata": {},
   "source": [
    "1. Create a new timeseries (use a pandas Series) that contains zip code and that uses the \"OpenDate\" column as the index. Be sure to check the type of the \"OriginalZip\" column and make sure it's in the pandas datetime format.\n"
   ]
  },
  {
   "cell_type": "code",
   "execution_count": 98,
   "id": "7754e2a8",
   "metadata": {
    "scrolled": false
   },
   "outputs": [
    {
     "data": {
      "text/plain": [
       "0        2003-11-10\n",
       "1        2003-11-10\n",
       "2        2003-11-10\n",
       "3        2003-11-10\n",
       "4        2003-11-10\n",
       "            ...    \n",
       "187975   2023-05-08\n",
       "187976   2023-05-08\n",
       "187977   2023-05-08\n",
       "187978   2023-05-08\n",
       "187979   2023-05-08\n",
       "Name: OpenDate, Length: 187980, dtype: datetime64[ns]"
      ]
     },
     "execution_count": 98,
     "metadata": {},
     "output_type": "execute_result"
    }
   ],
   "source": [
    "pd.to_datetime(SEA_complaints[\"OpenDate\"])"
   ]
  },
  {
   "cell_type": "code",
   "execution_count": 102,
   "id": "006bf1df",
   "metadata": {
    "scrolled": true
   },
   "outputs": [],
   "source": [
    "SEA_complaints_p3.index = pd.to_datetime(SEA_complaints[\"OpenDate\"])"
   ]
  },
  {
   "cell_type": "code",
   "execution_count": 103,
   "id": "e9b56ccf",
   "metadata": {
    "scrolled": true
   },
   "outputs": [
    {
     "data": {
      "text/plain": [
       "OpenDate\n",
       "2003-11-10   2003-11-10\n",
       "2003-11-10   2003-11-10\n",
       "2003-11-10   2003-11-10\n",
       "2003-11-10   2003-11-10\n",
       "2003-11-10   2003-11-10\n",
       "                ...    \n",
       "2023-05-08   2023-05-08\n",
       "2023-05-08   2023-05-08\n",
       "2023-05-08   2023-05-08\n",
       "2023-05-08   2023-05-08\n",
       "2023-05-08   2023-05-08\n",
       "Name: OpenDate, Length: 187980, dtype: datetime64[ns]"
      ]
     },
     "execution_count": 103,
     "metadata": {},
     "output_type": "execute_result"
    }
   ],
   "source": [
    "SEA_complaints_p3"
   ]
  },
  {
   "cell_type": "markdown",
   "id": "56cca689",
   "metadata": {},
   "source": [
    "2. Use the .resample() function associated with your pandas time series so that it shows the number of complaints per week overall and visualize this with a time series plot.\n"
   ]
  },
  {
   "cell_type": "code",
   "execution_count": 104,
   "id": "38e9f9f1",
   "metadata": {
    "scrolled": true
   },
   "outputs": [
    {
     "data": {
      "text/plain": [
       "<pandas.core.resample.DatetimeIndexResampler object at 0x7fb0ffaad9f0>"
      ]
     },
     "execution_count": 104,
     "metadata": {},
     "output_type": "execute_result"
    }
   ],
   "source": [
    "SEA_complaints_p3.resample(\"7D\")"
   ]
  },
  {
   "cell_type": "code",
   "execution_count": 105,
   "id": "739d2cb7",
   "metadata": {
    "scrolled": true
   },
   "outputs": [
    {
     "data": {
      "text/plain": [
       "OpenDate\n",
       "2003-11-10     97\n",
       "2003-11-17    103\n",
       "2003-11-24     50\n",
       "2003-12-01     88\n",
       "2003-12-08     90\n",
       "             ... \n",
       "2023-04-10    264\n",
       "2023-04-17    229\n",
       "2023-04-24    347\n",
       "2023-05-01    299\n",
       "2023-05-08     33\n",
       "Freq: 7D, Name: OpenDate, Length: 1018, dtype: int64"
      ]
     },
     "execution_count": 105,
     "metadata": {},
     "output_type": "execute_result"
    }
   ],
   "source": [
    "SEA_complaints_p3.resample(\"7D\").count()"
   ]
  },
  {
   "cell_type": "code",
   "execution_count": 106,
   "id": "7ee908ee",
   "metadata": {},
   "outputs": [
    {
     "data": {
      "text/plain": [
       "<Axes: xlabel='OpenDate'>"
      ]
     },
     "execution_count": 106,
     "metadata": {},
     "output_type": "execute_result"
    },
    {
     "data": {
      "image/png": "[encoded data removed]",
      "text/plain": [
       "<Figure size 640x480 with 1 Axes>"
      ]
     },
     "metadata": {},
     "output_type": "display_data"
    }
   ],
   "source": [
    "SEA_complaints_p3.resample(\"7D\").count().plot()"
   ]
  },
  {
   "cell_type": "markdown",
   "id": "ff2b1a73",
   "metadata": {},
   "source": [
    "---"
   ]
  },
  {
   "cell_type": "markdown",
   "id": "39bcfae5",
   "metadata": {},
   "source": [
    "#4 You've got questions, you've got answers"
   ]
  },
  {
   "cell_type": "markdown",
   "id": "99936219",
   "metadata": {},
   "source": [
    "Ask and answer a question not on this list using this data. Be sure to:\n",
    "\n"
   ]
  },
  {
   "cell_type": "markdown",
   "id": "2110ec48",
   "metadata": {},
   "source": [
    "1. Explicitly state the question\n"
   ]
  },
  {
   "cell_type": "markdown",
   "id": "5c315bd5",
   "metadata": {},
   "source": [
    "2. Include the pandas code to answer it\n"
   ]
  },
  {
   "cell_type": "markdown",
   "id": "de8a47b3",
   "metadata": {},
   "source": [
    "3. Write a sentence or two explaining what you found and interpret the finding."
   ]
  },
  {
   "cell_type": "code",
   "execution_count": 107,
   "id": "9733b712",
   "metadata": {},
   "outputs": [
    {
     "data": {
      "text/html": [
       "<div>\n",
       "<style scoped>\n",
       "    .dataframe tbody tr th:only-of-type {\n",
       "        vertical-align: middle;\n",
       "    }\n",
       "\n",
       "    .dataframe tbody tr th {\n",
       "        vertical-align: top;\n",
       "    }\n",
       "\n",
       "    .dataframe thead th {\n",
       "        text-align: right;\n",
       "    }\n",
       "</style>\n",
       "<table border=\"1\" class=\"dataframe\">\n",
       "  <thead>\n",
       "    <tr style=\"text-align: right;\">\n",
       "      <th></th>\n",
       "      <th>RecordNum</th>\n",
       "      <th>RecordType</th>\n",
       "      <th>RecordTypeMapped</th>\n",
       "      <th>RecordTypeDesc</th>\n",
       "      <th>Description</th>\n",
       "      <th>OpenDate</th>\n",
       "      <th>LastInspDate</th>\n",
       "      <th>LastInspResult</th>\n",
       "      <th>StatusCurrent</th>\n",
       "      <th>OriginalAddress1</th>\n",
       "      <th>OriginalCity</th>\n",
       "      <th>OriginalState</th>\n",
       "      <th>OriginalZip</th>\n",
       "      <th>Link</th>\n",
       "      <th>Latitude</th>\n",
       "      <th>Longitude</th>\n",
       "      <th>Location1</th>\n",
       "    </tr>\n",
       "  </thead>\n",
       "  <tbody>\n",
       "    <tr>\n",
       "      <th>0</th>\n",
       "      <td>001001-03CP</td>\n",
       "      <td>Complaint</td>\n",
       "      <td>Request</td>\n",
       "      <td>Construction</td>\n",
       "      <td>Elevator gets stuck at least 3 times a week, f...</td>\n",
       "      <td>2003-11-10</td>\n",
       "      <td>POINT (-122.33582172 47.60642293)</td>\n",
       "      <td>Completed</td>\n",
       "      <td>Completed</td>\n",
       "      <td>1100 2ND AVE</td>\n",
       "      <td>SEATTLE</td>\n",
       "      <td>WA</td>\n",
       "      <td>98101.0</td>\n",
       "      <td>https://cosaccela.seattle.gov/portal/customize...</td>\n",
       "      <td>47.606423</td>\n",
       "      <td>-122.335822</td>\n",
       "      <td>(47.60642293, -122.33582172)</td>\n",
       "    </tr>\n",
       "    <tr>\n",
       "      <th>1</th>\n",
       "      <td>001002-03CP</td>\n",
       "      <td>Complaint</td>\n",
       "      <td>Request</td>\n",
       "      <td>Construction</td>\n",
       "      <td>Concerned about RV pumpout that is currently b...</td>\n",
       "      <td>2003-11-10</td>\n",
       "      <td>POINT (-122.35191884 47.68639169)</td>\n",
       "      <td>Completed</td>\n",
       "      <td>Completed</td>\n",
       "      <td>512 N 79TH ST</td>\n",
       "      <td>SEATTLE</td>\n",
       "      <td>WA</td>\n",
       "      <td>98103.0</td>\n",
       "      <td>https://cosaccela.seattle.gov/portal/customize...</td>\n",
       "      <td>47.686392</td>\n",
       "      <td>-122.351919</td>\n",
       "      <td>(47.68639169, -122.35191884)</td>\n",
       "    </tr>\n",
       "    <tr>\n",
       "      <th>2</th>\n",
       "      <td>001003-03CP</td>\n",
       "      <td>Complaint</td>\n",
       "      <td>Request</td>\n",
       "      <td>Vacant Building</td>\n",
       "      <td>The vacant red apple building and adjacent bui...</td>\n",
       "      <td>2003-11-10</td>\n",
       "      <td>POINT (-122.31388805 47.61559829)</td>\n",
       "      <td>Completed</td>\n",
       "      <td>Completed</td>\n",
       "      <td>1400 E PINE ST</td>\n",
       "      <td>SEATTLE</td>\n",
       "      <td>WA</td>\n",
       "      <td>98122.0</td>\n",
       "      <td>https://cosaccela.seattle.gov/portal/customize...</td>\n",
       "      <td>47.615598</td>\n",
       "      <td>-122.313888</td>\n",
       "      <td>(47.61559829, -122.31388805)</td>\n",
       "    </tr>\n",
       "    <tr>\n",
       "      <th>3</th>\n",
       "      <td>001004-03CP</td>\n",
       "      <td>Complaint</td>\n",
       "      <td>Request</td>\n",
       "      <td>Land Use</td>\n",
       "      <td>Trailor and camper parked in back yard.  Peopl...</td>\n",
       "      <td>2003-11-10</td>\n",
       "      <td>POINT (-122.36215164 47.69226044)</td>\n",
       "      <td>Completed</td>\n",
       "      <td>Completed</td>\n",
       "      <td>332 NW 87TH ST</td>\n",
       "      <td>SEATTLE</td>\n",
       "      <td>WA</td>\n",
       "      <td>98117.0</td>\n",
       "      <td>https://cosaccela.seattle.gov/portal/customize...</td>\n",
       "      <td>47.692260</td>\n",
       "      <td>-122.362152</td>\n",
       "      <td>(47.69226044, -122.36215164)</td>\n",
       "    </tr>\n",
       "    <tr>\n",
       "      <th>4</th>\n",
       "      <td>001005-03CP</td>\n",
       "      <td>Complaint</td>\n",
       "      <td>Request</td>\n",
       "      <td>Land Use</td>\n",
       "      <td>Illegal use of property.\"Hawkers\" or vendors (...</td>\n",
       "      <td>2003-11-10</td>\n",
       "      <td>POINT (-122.33832038 47.60911773)</td>\n",
       "      <td>Completed</td>\n",
       "      <td>Completed</td>\n",
       "      <td>1430 2ND AVE</td>\n",
       "      <td>SEATTLE</td>\n",
       "      <td>WA</td>\n",
       "      <td>98101.0</td>\n",
       "      <td>https://cosaccela.seattle.gov/portal/customize...</td>\n",
       "      <td>47.609118</td>\n",
       "      <td>-122.338320</td>\n",
       "      <td>(47.60911773, -122.33832038)</td>\n",
       "    </tr>\n",
       "    <tr>\n",
       "      <th>...</th>\n",
       "      <td>...</td>\n",
       "      <td>...</td>\n",
       "      <td>...</td>\n",
       "      <td>...</td>\n",
       "      <td>...</td>\n",
       "      <td>...</td>\n",
       "      <td>...</td>\n",
       "      <td>...</td>\n",
       "      <td>...</td>\n",
       "      <td>...</td>\n",
       "      <td>...</td>\n",
       "      <td>...</td>\n",
       "      <td>...</td>\n",
       "      <td>...</td>\n",
       "      <td>...</td>\n",
       "      <td>...</td>\n",
       "      <td>...</td>\n",
       "    </tr>\n",
       "    <tr>\n",
       "      <th>187975</th>\n",
       "      <td>004749-23CP</td>\n",
       "      <td>Complaint</td>\n",
       "      <td>Request</td>\n",
       "      <td>NaN</td>\n",
       "      <td>Impassable sidewalk due to overgrown weeds fro...</td>\n",
       "      <td>2023-05-08</td>\n",
       "      <td>POINT (-122.30558344 47.60662842)</td>\n",
       "      <td>NaN</td>\n",
       "      <td>Initiated</td>\n",
       "      <td>515 21ST AVE</td>\n",
       "      <td>SEATTLE</td>\n",
       "      <td>WA</td>\n",
       "      <td>98122.0</td>\n",
       "      <td>https://cosaccela.seattle.gov/portal/customize...</td>\n",
       "      <td>47.606628</td>\n",
       "      <td>-122.305583</td>\n",
       "      <td>(47.60662842, -122.30558344)</td>\n",
       "    </tr>\n",
       "    <tr>\n",
       "      <th>187976</th>\n",
       "      <td>004750-23CP</td>\n",
       "      <td>Complaint</td>\n",
       "      <td>Request</td>\n",
       "      <td>NaN</td>\n",
       "      <td>Low tree branches from street tree in front of...</td>\n",
       "      <td>2023-05-08</td>\n",
       "      <td>POINT (-122.30537433 47.60679197)</td>\n",
       "      <td>NaN</td>\n",
       "      <td>Initiated</td>\n",
       "      <td>521 21ST AVE</td>\n",
       "      <td>SEATTLE</td>\n",
       "      <td>WA</td>\n",
       "      <td>98122.0</td>\n",
       "      <td>https://cosaccela.seattle.gov/portal/customize...</td>\n",
       "      <td>47.606792</td>\n",
       "      <td>-122.305374</td>\n",
       "      <td>(47.60679197, -122.30537433)</td>\n",
       "    </tr>\n",
       "    <tr>\n",
       "      <th>187977</th>\n",
       "      <td>004751-23CP</td>\n",
       "      <td>Complaint</td>\n",
       "      <td>Request</td>\n",
       "      <td>NaN</td>\n",
       "      <td>In 2021, the HOA of the Athena condominiums en...</td>\n",
       "      <td>2023-05-08</td>\n",
       "      <td>POINT (-122.35702584 47.62181749)</td>\n",
       "      <td>NaN</td>\n",
       "      <td>Initiated</td>\n",
       "      <td>323 QUEEN ANNE AVE N</td>\n",
       "      <td>SEATTLE</td>\n",
       "      <td>WA</td>\n",
       "      <td>98109.0</td>\n",
       "      <td>https://cosaccela.seattle.gov/portal/customize...</td>\n",
       "      <td>47.621817</td>\n",
       "      <td>-122.357026</td>\n",
       "      <td>(47.62181749, -122.35702584)</td>\n",
       "    </tr>\n",
       "    <tr>\n",
       "      <th>187978</th>\n",
       "      <td>004752-23CP</td>\n",
       "      <td>Complaint</td>\n",
       "      <td>Request</td>\n",
       "      <td>NaN</td>\n",
       "      <td>The landlord has left several large holes in t...</td>\n",
       "      <td>2023-05-08</td>\n",
       "      <td>POINT (-122.31918355 47.60407509)</td>\n",
       "      <td>NaN</td>\n",
       "      <td>Initiated</td>\n",
       "      <td>216 10TH AVE</td>\n",
       "      <td>SEATTLE</td>\n",
       "      <td>WA</td>\n",
       "      <td>98122.0</td>\n",
       "      <td>https://cosaccela.seattle.gov/portal/customize...</td>\n",
       "      <td>47.604075</td>\n",
       "      <td>-122.319184</td>\n",
       "      <td>(47.60407509, -122.31918355)</td>\n",
       "    </tr>\n",
       "    <tr>\n",
       "      <th>187979</th>\n",
       "      <td>1055961-VI</td>\n",
       "      <td>Notice of Violation</td>\n",
       "      <td>Case</td>\n",
       "      <td>Vacant Building</td>\n",
       "      <td>Abandoned home burglarized and now taken over ...</td>\n",
       "      <td>2023-05-08</td>\n",
       "      <td>POINT (-122.34321746 47.63386204)</td>\n",
       "      <td>NaN</td>\n",
       "      <td>Initiated</td>\n",
       "      <td>1608 AURORA AVE N</td>\n",
       "      <td>SEATTLE</td>\n",
       "      <td>WA</td>\n",
       "      <td>98109.0</td>\n",
       "      <td>https://cosaccela.seattle.gov/portal/customize...</td>\n",
       "      <td>47.633862</td>\n",
       "      <td>-122.343217</td>\n",
       "      <td>(47.63386204, -122.34321746)</td>\n",
       "    </tr>\n",
       "  </tbody>\n",
       "</table>\n",
       "<p>187980 rows × 17 columns</p>\n",
       "</div>"
      ],
      "text/plain": [
       "          RecordNum           RecordType RecordTypeMapped   RecordTypeDesc  \\\n",
       "0       001001-03CP            Complaint          Request     Construction   \n",
       "1       001002-03CP            Complaint          Request     Construction   \n",
       "2       001003-03CP            Complaint          Request  Vacant Building   \n",
       "3       001004-03CP            Complaint          Request         Land Use   \n",
       "4       001005-03CP            Complaint          Request         Land Use   \n",
       "...             ...                  ...              ...              ...   \n",
       "187975  004749-23CP            Complaint          Request              NaN   \n",
       "187976  004750-23CP            Complaint          Request              NaN   \n",
       "187977  004751-23CP            Complaint          Request              NaN   \n",
       "187978  004752-23CP            Complaint          Request              NaN   \n",
       "187979   1055961-VI  Notice of Violation             Case  Vacant Building   \n",
       "\n",
       "                                              Description    OpenDate  \\\n",
       "0       Elevator gets stuck at least 3 times a week, f...  2003-11-10   \n",
       "1       Concerned about RV pumpout that is currently b...  2003-11-10   \n",
       "2       The vacant red apple building and adjacent bui...  2003-11-10   \n",
       "3       Trailor and camper parked in back yard.  Peopl...  2003-11-10   \n",
       "4       Illegal use of property.\"Hawkers\" or vendors (...  2003-11-10   \n",
       "...                                                   ...         ...   \n",
       "187975  Impassable sidewalk due to overgrown weeds fro...  2023-05-08   \n",
       "187976  Low tree branches from street tree in front of...  2023-05-08   \n",
       "187977  In 2021, the HOA of the Athena condominiums en...  2023-05-08   \n",
       "187978  The landlord has left several large holes in t...  2023-05-08   \n",
       "187979  Abandoned home burglarized and now taken over ...  2023-05-08   \n",
       "\n",
       "                             LastInspDate LastInspResult StatusCurrent  \\\n",
       "0       POINT (-122.33582172 47.60642293)      Completed     Completed   \n",
       "1       POINT (-122.35191884 47.68639169)      Completed     Completed   \n",
       "2       POINT (-122.31388805 47.61559829)      Completed     Completed   \n",
       "3       POINT (-122.36215164 47.69226044)      Completed     Completed   \n",
       "4       POINT (-122.33832038 47.60911773)      Completed     Completed   \n",
       "...                                   ...            ...           ...   \n",
       "187975  POINT (-122.30558344 47.60662842)            NaN     Initiated   \n",
       "187976  POINT (-122.30537433 47.60679197)            NaN     Initiated   \n",
       "187977  POINT (-122.35702584 47.62181749)            NaN     Initiated   \n",
       "187978  POINT (-122.31918355 47.60407509)            NaN     Initiated   \n",
       "187979  POINT (-122.34321746 47.63386204)            NaN     Initiated   \n",
       "\n",
       "            OriginalAddress1 OriginalCity OriginalState  OriginalZip  \\\n",
       "0               1100 2ND AVE      SEATTLE            WA      98101.0   \n",
       "1              512 N 79TH ST      SEATTLE            WA      98103.0   \n",
       "2             1400 E PINE ST      SEATTLE            WA      98122.0   \n",
       "3             332 NW 87TH ST      SEATTLE            WA      98117.0   \n",
       "4               1430 2ND AVE      SEATTLE            WA      98101.0   \n",
       "...                      ...          ...           ...          ...   \n",
       "187975          515 21ST AVE      SEATTLE            WA      98122.0   \n",
       "187976          521 21ST AVE      SEATTLE            WA      98122.0   \n",
       "187977  323 QUEEN ANNE AVE N      SEATTLE            WA      98109.0   \n",
       "187978          216 10TH AVE      SEATTLE            WA      98122.0   \n",
       "187979     1608 AURORA AVE N      SEATTLE            WA      98109.0   \n",
       "\n",
       "                                                     Link   Latitude  \\\n",
       "0       https://cosaccela.seattle.gov/portal/customize...  47.606423   \n",
       "1       https://cosaccela.seattle.gov/portal/customize...  47.686392   \n",
       "2       https://cosaccela.seattle.gov/portal/customize...  47.615598   \n",
       "3       https://cosaccela.seattle.gov/portal/customize...  47.692260   \n",
       "4       https://cosaccela.seattle.gov/portal/customize...  47.609118   \n",
       "...                                                   ...        ...   \n",
       "187975  https://cosaccela.seattle.gov/portal/customize...  47.606628   \n",
       "187976  https://cosaccela.seattle.gov/portal/customize...  47.606792   \n",
       "187977  https://cosaccela.seattle.gov/portal/customize...  47.621817   \n",
       "187978  https://cosaccela.seattle.gov/portal/customize...  47.604075   \n",
       "187979  https://cosaccela.seattle.gov/portal/customize...  47.633862   \n",
       "\n",
       "         Longitude                     Location1  \n",
       "0      -122.335822  (47.60642293, -122.33582172)  \n",
       "1      -122.351919  (47.68639169, -122.35191884)  \n",
       "2      -122.313888  (47.61559829, -122.31388805)  \n",
       "3      -122.362152  (47.69226044, -122.36215164)  \n",
       "4      -122.338320  (47.60911773, -122.33832038)  \n",
       "...            ...                           ...  \n",
       "187975 -122.305583  (47.60662842, -122.30558344)  \n",
       "187976 -122.305374  (47.60679197, -122.30537433)  \n",
       "187977 -122.357026  (47.62181749, -122.35702584)  \n",
       "187978 -122.319184  (47.60407509, -122.31918355)  \n",
       "187979 -122.343217  (47.63386204, -122.34321746)  \n",
       "\n",
       "[187980 rows x 17 columns]"
      ]
     },
     "execution_count": 107,
     "metadata": {},
     "output_type": "execute_result"
    }
   ],
   "source": [
    "SEA_complaints"
   ]
  },
  {
   "cell_type": "markdown",
   "id": "d44cd1aa",
   "metadata": {},
   "source": [
    "How many complaints occur at my apt complex?\n",
    "\n",
    "ie. all complaints at specific same \"OriginalAddress1\""
   ]
  },
  {
   "cell_type": "code",
   "execution_count": 142,
   "id": "1c048736",
   "metadata": {},
   "outputs": [
    {
     "data": {
      "text/plain": [
       "0                 1100 2ND AVE\n",
       "1                512 N 79TH ST\n",
       "2               1400 E PINE ST\n",
       "3               332 NW 87TH ST\n",
       "4                 1430 2ND AVE\n",
       "                  ...         \n",
       "187975            515 21ST AVE\n",
       "187976            521 21ST AVE\n",
       "187977    323 QUEEN ANNE AVE N\n",
       "187978            216 10TH AVE\n",
       "187979       1608 AURORA AVE N\n",
       "Name: OriginalAddress1, Length: 187980, dtype: object"
      ]
     },
     "execution_count": 142,
     "metadata": {},
     "output_type": "execute_result"
    }
   ],
   "source": [
    "SEA_complaints[\"OriginalAddress1\"]"
   ]
  },
  {
   "cell_type": "code",
   "execution_count": 144,
   "id": "63061dc8",
   "metadata": {},
   "outputs": [
    {
     "data": {
      "text/plain": [
       "'1100 2ND AVE'"
      ]
     },
     "execution_count": 144,
     "metadata": {},
     "output_type": "execute_result"
    }
   ],
   "source": [
    "SEA_complaints[\"OriginalAddress1\"][0]"
   ]
  },
  {
   "cell_type": "code",
   "execution_count": 145,
   "id": "4a6ebed4",
   "metadata": {
    "scrolled": false
   },
   "outputs": [
    {
     "data": {
      "text/plain": [
       "array(['1100 2ND AVE', '512 N 79TH ST', '1400 E PINE ST', ...,\n",
       "       '323 QUEEN ANNE AVE N', '216 10TH AVE', '1608 AURORA AVE N'],\n",
       "      dtype=object)"
      ]
     },
     "execution_count": 145,
     "metadata": {},
     "output_type": "execute_result"
    }
   ],
   "source": [
    "SEA_complaints[\"OriginalAddress1\"].values"
   ]
  },
  {
   "cell_type": "code",
   "execution_count": 149,
   "id": "04175847",
   "metadata": {
    "scrolled": false
   },
   "outputs": [
    {
     "data": {
      "text/plain": [
       "308 4TH AVE S             129\n",
       "3621 33RD AVE S            96\n",
       "9061 SEWARD PARK AVE S     80\n",
       "1102 8TH AVE               76\n",
       "1727 SUMMIT AVE            69\n",
       "                         ... \n",
       "4927 51ST AVE S             1\n",
       "3642 DAYTON AVE N           1\n",
       "6917 FAUNTLEROY WAY SW      1\n",
       "6555 A 34TH AVE SW          1\n",
       "521 21ST AVE                1\n",
       "Name: OriginalAddress1, Length: 64178, dtype: int64"
      ]
     },
     "execution_count": 149,
     "metadata": {},
     "output_type": "execute_result"
    }
   ],
   "source": [
    "SEA_complaints[\"OriginalAddress1\"].value_counts()"
   ]
  },
  {
   "cell_type": "code",
   "execution_count": 154,
   "id": "cec4d84f",
   "metadata": {
    "scrolled": true
   },
   "outputs": [
    {
     "data": {
      "text/html": [
       "<div>\n",
       "<style scoped>\n",
       "    .dataframe tbody tr th:only-of-type {\n",
       "        vertical-align: middle;\n",
       "    }\n",
       "\n",
       "    .dataframe tbody tr th {\n",
       "        vertical-align: top;\n",
       "    }\n",
       "\n",
       "    .dataframe thead th {\n",
       "        text-align: right;\n",
       "    }\n",
       "</style>\n",
       "<table border=\"1\" class=\"dataframe\">\n",
       "  <thead>\n",
       "    <tr style=\"text-align: right;\">\n",
       "      <th></th>\n",
       "      <th>RecordNum</th>\n",
       "      <th>RecordType</th>\n",
       "      <th>RecordTypeMapped</th>\n",
       "      <th>RecordTypeDesc</th>\n",
       "      <th>Description</th>\n",
       "      <th>OpenDate</th>\n",
       "      <th>LastInspDate</th>\n",
       "      <th>LastInspResult</th>\n",
       "      <th>StatusCurrent</th>\n",
       "      <th>OriginalAddress1</th>\n",
       "      <th>OriginalCity</th>\n",
       "      <th>OriginalState</th>\n",
       "      <th>OriginalZip</th>\n",
       "      <th>Link</th>\n",
       "      <th>Latitude</th>\n",
       "      <th>Longitude</th>\n",
       "      <th>Location1</th>\n",
       "    </tr>\n",
       "  </thead>\n",
       "  <tbody>\n",
       "  </tbody>\n",
       "</table>\n",
       "</div>"
      ],
      "text/plain": [
       "Empty DataFrame\n",
       "Columns: [RecordNum, RecordType, RecordTypeMapped, RecordTypeDesc, Description, OpenDate, LastInspDate, LastInspResult, StatusCurrent, OriginalAddress1, OriginalCity, OriginalState, OriginalZip, Link, Latitude, Longitude, Location1]\n",
       "Index: []"
      ]
     },
     "execution_count": 154,
     "metadata": {},
     "output_type": "execute_result"
    }
   ],
   "source": [
    "SEA_complaints[SEA_complaints[\"OriginalAddress1\"] == \"6150 NE RADFORD DR\"]"
   ]
  },
  {
   "cell_type": "code",
   "execution_count": 155,
   "id": "7b753dbd",
   "metadata": {
    "scrolled": true
   },
   "outputs": [
    {
     "data": {
      "text/html": [
       "<div>\n",
       "<style scoped>\n",
       "    .dataframe tbody tr th:only-of-type {\n",
       "        vertical-align: middle;\n",
       "    }\n",
       "\n",
       "    .dataframe tbody tr th {\n",
       "        vertical-align: top;\n",
       "    }\n",
       "\n",
       "    .dataframe thead th {\n",
       "        text-align: right;\n",
       "    }\n",
       "</style>\n",
       "<table border=\"1\" class=\"dataframe\">\n",
       "  <thead>\n",
       "    <tr style=\"text-align: right;\">\n",
       "      <th></th>\n",
       "      <th>RecordNum</th>\n",
       "      <th>RecordType</th>\n",
       "      <th>RecordTypeMapped</th>\n",
       "      <th>RecordTypeDesc</th>\n",
       "      <th>Description</th>\n",
       "      <th>OpenDate</th>\n",
       "      <th>LastInspDate</th>\n",
       "      <th>LastInspResult</th>\n",
       "      <th>StatusCurrent</th>\n",
       "      <th>OriginalAddress1</th>\n",
       "      <th>OriginalCity</th>\n",
       "      <th>OriginalState</th>\n",
       "      <th>OriginalZip</th>\n",
       "      <th>Link</th>\n",
       "      <th>Latitude</th>\n",
       "      <th>Longitude</th>\n",
       "      <th>Location1</th>\n",
       "    </tr>\n",
       "  </thead>\n",
       "  <tbody>\n",
       "    <tr>\n",
       "      <th>3596</th>\n",
       "      <td>003948-04CP</td>\n",
       "      <td>Complaint</td>\n",
       "      <td>Request</td>\n",
       "      <td>NaN</td>\n",
       "      <td>HAS NO HOT WATER IN KITCHEN SINK.</td>\n",
       "      <td>2004-09-03</td>\n",
       "      <td>POINT (-122.32851868 47.59982559)</td>\n",
       "      <td>Completed</td>\n",
       "      <td>Completed</td>\n",
       "      <td>308 4TH AVE S</td>\n",
       "      <td>SEATTLE</td>\n",
       "      <td>WA</td>\n",
       "      <td>98104.0</td>\n",
       "      <td>https://cosaccela.seattle.gov/portal/customize...</td>\n",
       "      <td>47.599826</td>\n",
       "      <td>-122.328519</td>\n",
       "      <td>(47.59982559, -122.32851868)</td>\n",
       "    </tr>\n",
       "    <tr>\n",
       "      <th>6844</th>\n",
       "      <td>1003449-VI</td>\n",
       "      <td>Notice of Violation</td>\n",
       "      <td>Case</td>\n",
       "      <td>NaN</td>\n",
       "      <td>HAS NO HOT WATER IN KITCHEN SINK.</td>\n",
       "      <td>2004-09-17</td>\n",
       "      <td>POINT (-122.32851868 47.59982559)</td>\n",
       "      <td>Compliance Achieved</td>\n",
       "      <td>Completed</td>\n",
       "      <td>308 4TH AVE S</td>\n",
       "      <td>SEATTLE</td>\n",
       "      <td>WA</td>\n",
       "      <td>98104.0</td>\n",
       "      <td>https://cosaccela.seattle.gov/portal/customize...</td>\n",
       "      <td>47.599826</td>\n",
       "      <td>-122.328519</td>\n",
       "      <td>(47.59982559, -122.32851868)</td>\n",
       "    </tr>\n",
       "    <tr>\n",
       "      <th>9493</th>\n",
       "      <td>002896-05CP</td>\n",
       "      <td>Complaint</td>\n",
       "      <td>Request</td>\n",
       "      <td>NaN</td>\n",
       "      <td>Roach infestation in unit. Rodent and roach in...</td>\n",
       "      <td>2005-06-21</td>\n",
       "      <td>POINT (-122.32851868 47.59982559)</td>\n",
       "      <td>NaN</td>\n",
       "      <td>Completed</td>\n",
       "      <td>308 4TH AVE S</td>\n",
       "      <td>SEATTLE</td>\n",
       "      <td>WA</td>\n",
       "      <td>98104.0</td>\n",
       "      <td>https://cosaccela.seattle.gov/portal/customize...</td>\n",
       "      <td>47.599826</td>\n",
       "      <td>-122.328519</td>\n",
       "      <td>(47.59982559, -122.32851868)</td>\n",
       "    </tr>\n",
       "    <tr>\n",
       "      <th>11751</th>\n",
       "      <td>005154-05CP</td>\n",
       "      <td>Complaint</td>\n",
       "      <td>Request</td>\n",
       "      <td>NaN</td>\n",
       "      <td>No heat in the apartment. Told by management t...</td>\n",
       "      <td>2005-12-15</td>\n",
       "      <td>POINT (-122.32851868 47.59982559)</td>\n",
       "      <td>NaN</td>\n",
       "      <td>Completed</td>\n",
       "      <td>308 4TH AVE S</td>\n",
       "      <td>SEATTLE</td>\n",
       "      <td>WA</td>\n",
       "      <td>98104.0</td>\n",
       "      <td>https://cosaccela.seattle.gov/portal/customize...</td>\n",
       "      <td>47.599826</td>\n",
       "      <td>-122.328519</td>\n",
       "      <td>(47.59982559, -122.32851868)</td>\n",
       "    </tr>\n",
       "    <tr>\n",
       "      <th>24964</th>\n",
       "      <td>003132-07CP</td>\n",
       "      <td>Complaint</td>\n",
       "      <td>Request</td>\n",
       "      <td>Weeds</td>\n",
       "      <td>Laurel Hedge growing over the sidewalk. It is ...</td>\n",
       "      <td>2007-06-12</td>\n",
       "      <td>POINT (-122.32851868 47.59982559)</td>\n",
       "      <td>Completed</td>\n",
       "      <td>Completed</td>\n",
       "      <td>308 4TH AVE S</td>\n",
       "      <td>SEATTLE</td>\n",
       "      <td>WA</td>\n",
       "      <td>98104.0</td>\n",
       "      <td>https://cosaccela.seattle.gov/portal/customize...</td>\n",
       "      <td>47.599826</td>\n",
       "      <td>-122.328519</td>\n",
       "      <td>(47.59982559, -122.32851868)</td>\n",
       "    </tr>\n",
       "    <tr>\n",
       "      <th>...</th>\n",
       "      <td>...</td>\n",
       "      <td>...</td>\n",
       "      <td>...</td>\n",
       "      <td>...</td>\n",
       "      <td>...</td>\n",
       "      <td>...</td>\n",
       "      <td>...</td>\n",
       "      <td>...</td>\n",
       "      <td>...</td>\n",
       "      <td>...</td>\n",
       "      <td>...</td>\n",
       "      <td>...</td>\n",
       "      <td>...</td>\n",
       "      <td>...</td>\n",
       "      <td>...</td>\n",
       "      <td>...</td>\n",
       "      <td>...</td>\n",
       "    </tr>\n",
       "    <tr>\n",
       "      <th>185854</th>\n",
       "      <td>002857-23CP</td>\n",
       "      <td>Complaint</td>\n",
       "      <td>Request</td>\n",
       "      <td>LandLord/Tenant</td>\n",
       "      <td>Accused of being delinquent in rent although p...</td>\n",
       "      <td>2023-03-17</td>\n",
       "      <td>POINT (-122.32851868 47.59982559)</td>\n",
       "      <td>NaN</td>\n",
       "      <td>Closed</td>\n",
       "      <td>308 4TH AVE S</td>\n",
       "      <td>SEATTLE</td>\n",
       "      <td>WA</td>\n",
       "      <td>98104.0</td>\n",
       "      <td>https://cosaccela.seattle.gov/portal/customize...</td>\n",
       "      <td>47.599826</td>\n",
       "      <td>-122.328519</td>\n",
       "      <td>(47.59982559, -122.32851868)</td>\n",
       "    </tr>\n",
       "    <tr>\n",
       "      <th>185905</th>\n",
       "      <td>002900-23CP</td>\n",
       "      <td>Complaint</td>\n",
       "      <td>Request</td>\n",
       "      <td>LandLord/Tenant</td>\n",
       "      <td>30 day eviction</td>\n",
       "      <td>2023-03-21</td>\n",
       "      <td>POINT (-122.32851868 47.59982559)</td>\n",
       "      <td>NaN</td>\n",
       "      <td>Closed</td>\n",
       "      <td>308 4TH AVE S</td>\n",
       "      <td>SEATTLE</td>\n",
       "      <td>WA</td>\n",
       "      <td>98104.0</td>\n",
       "      <td>https://cosaccela.seattle.gov/portal/customize...</td>\n",
       "      <td>47.599826</td>\n",
       "      <td>-122.328519</td>\n",
       "      <td>(47.59982559, -122.32851868)</td>\n",
       "    </tr>\n",
       "    <tr>\n",
       "      <th>187708</th>\n",
       "      <td>004512-23CP</td>\n",
       "      <td>Complaint</td>\n",
       "      <td>Request</td>\n",
       "      <td>LandLord/Tenant</td>\n",
       "      <td>Constant chirping from unit 628 or 629.  One o...</td>\n",
       "      <td>2023-04-27</td>\n",
       "      <td>POINT (-122.32851868 47.59982559)</td>\n",
       "      <td>NaN</td>\n",
       "      <td>Under Investigation</td>\n",
       "      <td>308 4TH AVE S</td>\n",
       "      <td>SEATTLE</td>\n",
       "      <td>WA</td>\n",
       "      <td>98104.0</td>\n",
       "      <td>https://cosaccela.seattle.gov/portal/customize...</td>\n",
       "      <td>47.599826</td>\n",
       "      <td>-122.328519</td>\n",
       "      <td>(47.59982559, -122.32851868)</td>\n",
       "    </tr>\n",
       "    <tr>\n",
       "      <th>187758</th>\n",
       "      <td>004558-23CP</td>\n",
       "      <td>Complaint</td>\n",
       "      <td>Request</td>\n",
       "      <td>NaN</td>\n",
       "      <td>010666-22CP ISSUES STILL A PROBLEM:radiator va...</td>\n",
       "      <td>2023-05-02</td>\n",
       "      <td>POINT (-122.32851868 47.59982559)</td>\n",
       "      <td>NaN</td>\n",
       "      <td>Under Investigation</td>\n",
       "      <td>308 4TH AVE S</td>\n",
       "      <td>SEATTLE</td>\n",
       "      <td>WA</td>\n",
       "      <td>98104.0</td>\n",
       "      <td>https://cosaccela.seattle.gov/portal/customize...</td>\n",
       "      <td>47.599826</td>\n",
       "      <td>-122.328519</td>\n",
       "      <td>(47.59982559, -122.32851868)</td>\n",
       "    </tr>\n",
       "    <tr>\n",
       "      <th>187958</th>\n",
       "      <td>004733-23CP</td>\n",
       "      <td>Complaint</td>\n",
       "      <td>Request</td>\n",
       "      <td>NaN</td>\n",
       "      <td>CEILING LEAKING</td>\n",
       "      <td>2023-05-08</td>\n",
       "      <td>POINT (-122.32851868 47.59982559)</td>\n",
       "      <td>NaN</td>\n",
       "      <td>Under Investigation</td>\n",
       "      <td>308 4TH AVE S</td>\n",
       "      <td>SEATTLE</td>\n",
       "      <td>WA</td>\n",
       "      <td>98104.0</td>\n",
       "      <td>https://cosaccela.seattle.gov/portal/customize...</td>\n",
       "      <td>47.599826</td>\n",
       "      <td>-122.328519</td>\n",
       "      <td>(47.59982559, -122.32851868)</td>\n",
       "    </tr>\n",
       "  </tbody>\n",
       "</table>\n",
       "<p>129 rows × 17 columns</p>\n",
       "</div>"
      ],
      "text/plain": [
       "          RecordNum           RecordType RecordTypeMapped   RecordTypeDesc  \\\n",
       "3596    003948-04CP            Complaint          Request              NaN   \n",
       "6844     1003449-VI  Notice of Violation             Case              NaN   \n",
       "9493    002896-05CP            Complaint          Request              NaN   \n",
       "11751   005154-05CP            Complaint          Request              NaN   \n",
       "24964   003132-07CP            Complaint          Request            Weeds   \n",
       "...             ...                  ...              ...              ...   \n",
       "185854  002857-23CP            Complaint          Request  LandLord/Tenant   \n",
       "185905  002900-23CP            Complaint          Request  LandLord/Tenant   \n",
       "187708  004512-23CP            Complaint          Request  LandLord/Tenant   \n",
       "187758  004558-23CP            Complaint          Request              NaN   \n",
       "187958  004733-23CP            Complaint          Request              NaN   \n",
       "\n",
       "                                              Description    OpenDate  \\\n",
       "3596                    HAS NO HOT WATER IN KITCHEN SINK.  2004-09-03   \n",
       "6844                    HAS NO HOT WATER IN KITCHEN SINK.  2004-09-17   \n",
       "9493    Roach infestation in unit. Rodent and roach in...  2005-06-21   \n",
       "11751   No heat in the apartment. Told by management t...  2005-12-15   \n",
       "24964   Laurel Hedge growing over the sidewalk. It is ...  2007-06-12   \n",
       "...                                                   ...         ...   \n",
       "185854  Accused of being delinquent in rent although p...  2023-03-17   \n",
       "185905                                    30 day eviction  2023-03-21   \n",
       "187708  Constant chirping from unit 628 or 629.  One o...  2023-04-27   \n",
       "187758  010666-22CP ISSUES STILL A PROBLEM:radiator va...  2023-05-02   \n",
       "187958                                    CEILING LEAKING  2023-05-08   \n",
       "\n",
       "                             LastInspDate       LastInspResult  \\\n",
       "3596    POINT (-122.32851868 47.59982559)            Completed   \n",
       "6844    POINT (-122.32851868 47.59982559)  Compliance Achieved   \n",
       "9493    POINT (-122.32851868 47.59982559)                  NaN   \n",
       "11751   POINT (-122.32851868 47.59982559)                  NaN   \n",
       "24964   POINT (-122.32851868 47.59982559)            Completed   \n",
       "...                                   ...                  ...   \n",
       "185854  POINT (-122.32851868 47.59982559)                  NaN   \n",
       "185905  POINT (-122.32851868 47.59982559)                  NaN   \n",
       "187708  POINT (-122.32851868 47.59982559)                  NaN   \n",
       "187758  POINT (-122.32851868 47.59982559)                  NaN   \n",
       "187958  POINT (-122.32851868 47.59982559)                  NaN   \n",
       "\n",
       "              StatusCurrent OriginalAddress1 OriginalCity OriginalState  \\\n",
       "3596              Completed    308 4TH AVE S      SEATTLE            WA   \n",
       "6844              Completed    308 4TH AVE S      SEATTLE            WA   \n",
       "9493              Completed    308 4TH AVE S      SEATTLE            WA   \n",
       "11751             Completed    308 4TH AVE S      SEATTLE            WA   \n",
       "24964             Completed    308 4TH AVE S      SEATTLE            WA   \n",
       "...                     ...              ...          ...           ...   \n",
       "185854               Closed    308 4TH AVE S      SEATTLE            WA   \n",
       "185905               Closed    308 4TH AVE S      SEATTLE            WA   \n",
       "187708  Under Investigation    308 4TH AVE S      SEATTLE            WA   \n",
       "187758  Under Investigation    308 4TH AVE S      SEATTLE            WA   \n",
       "187958  Under Investigation    308 4TH AVE S      SEATTLE            WA   \n",
       "\n",
       "        OriginalZip                                               Link  \\\n",
       "3596        98104.0  https://cosaccela.seattle.gov/portal/customize...   \n",
       "6844        98104.0  https://cosaccela.seattle.gov/portal/customize...   \n",
       "9493        98104.0  https://cosaccela.seattle.gov/portal/customize...   \n",
       "11751       98104.0  https://cosaccela.seattle.gov/portal/customize...   \n",
       "24964       98104.0  https://cosaccela.seattle.gov/portal/customize...   \n",
       "...             ...                                                ...   \n",
       "185854      98104.0  https://cosaccela.seattle.gov/portal/customize...   \n",
       "185905      98104.0  https://cosaccela.seattle.gov/portal/customize...   \n",
       "187708      98104.0  https://cosaccela.seattle.gov/portal/customize...   \n",
       "187758      98104.0  https://cosaccela.seattle.gov/portal/customize...   \n",
       "187958      98104.0  https://cosaccela.seattle.gov/portal/customize...   \n",
       "\n",
       "         Latitude   Longitude                     Location1  \n",
       "3596    47.599826 -122.328519  (47.59982559, -122.32851868)  \n",
       "6844    47.599826 -122.328519  (47.59982559, -122.32851868)  \n",
       "9493    47.599826 -122.328519  (47.59982559, -122.32851868)  \n",
       "11751   47.599826 -122.328519  (47.59982559, -122.32851868)  \n",
       "24964   47.599826 -122.328519  (47.59982559, -122.32851868)  \n",
       "...           ...         ...                           ...  \n",
       "185854  47.599826 -122.328519  (47.59982559, -122.32851868)  \n",
       "185905  47.599826 -122.328519  (47.59982559, -122.32851868)  \n",
       "187708  47.599826 -122.328519  (47.59982559, -122.32851868)  \n",
       "187758  47.599826 -122.328519  (47.59982559, -122.32851868)  \n",
       "187958  47.599826 -122.328519  (47.59982559, -122.32851868)  \n",
       "\n",
       "[129 rows x 17 columns]"
      ]
     },
     "execution_count": 155,
     "metadata": {},
     "output_type": "execute_result"
    }
   ],
   "source": [
    "SEA_complaints[SEA_complaints[\"OriginalAddress1\"] == \"308 4TH AVE S\"]"
   ]
  },
  {
   "cell_type": "code",
   "execution_count": 162,
   "id": "e69cf33f",
   "metadata": {},
   "outputs": [
    {
     "data": {
      "text/plain": [
       "(47.59982559, -122.32851868)    135\n",
       "(47.57108137, -122.29161815)    118\n",
       "(47.52175647, -122.26467712)     83\n",
       "(47.60892711, -122.32897271)     82\n",
       "(47.60501319, -122.32989532)     78\n",
       "                               ... \n",
       "(47.5558797, -122.3902918)        1\n",
       "(47.54060111, -122.39465734)      1\n",
       "(47.58104243, -122.38897114)      1\n",
       "(47.64576828, -122.41226813)      1\n",
       "(47.60679197, -122.30537433)      1\n",
       "Name: Location1, Length: 57614, dtype: int64"
      ]
     },
     "execution_count": 162,
     "metadata": {},
     "output_type": "execute_result"
    }
   ],
   "source": [
    "SEA_complaints[\"Location1\"].value_counts()"
   ]
  },
  {
   "cell_type": "code",
   "execution_count": 159,
   "id": "53f450e9",
   "metadata": {
    "scrolled": false
   },
   "outputs": [
    {
     "data": {
      "text/html": [
       "<div>\n",
       "<style scoped>\n",
       "    .dataframe tbody tr th:only-of-type {\n",
       "        vertical-align: middle;\n",
       "    }\n",
       "\n",
       "    .dataframe tbody tr th {\n",
       "        vertical-align: top;\n",
       "    }\n",
       "\n",
       "    .dataframe thead th {\n",
       "        text-align: right;\n",
       "    }\n",
       "</style>\n",
       "<table border=\"1\" class=\"dataframe\">\n",
       "  <thead>\n",
       "    <tr style=\"text-align: right;\">\n",
       "      <th></th>\n",
       "      <th>RecordNum</th>\n",
       "      <th>RecordType</th>\n",
       "      <th>RecordTypeMapped</th>\n",
       "      <th>RecordTypeDesc</th>\n",
       "      <th>Description</th>\n",
       "      <th>OpenDate</th>\n",
       "      <th>LastInspDate</th>\n",
       "      <th>LastInspResult</th>\n",
       "      <th>StatusCurrent</th>\n",
       "      <th>OriginalAddress1</th>\n",
       "      <th>OriginalCity</th>\n",
       "      <th>OriginalState</th>\n",
       "      <th>OriginalZip</th>\n",
       "      <th>Link</th>\n",
       "      <th>Latitude</th>\n",
       "      <th>Longitude</th>\n",
       "      <th>Location1</th>\n",
       "    </tr>\n",
       "  </thead>\n",
       "  <tbody>\n",
       "  </tbody>\n",
       "</table>\n",
       "</div>"
      ],
      "text/plain": [
       "Empty DataFrame\n",
       "Columns: [RecordNum, RecordType, RecordTypeMapped, RecordTypeDesc, Description, OpenDate, LastInspDate, LastInspResult, StatusCurrent, OriginalAddress1, OriginalCity, OriginalState, OriginalZip, Link, Latitude, Longitude, Location1]\n",
       "Index: []"
      ]
     },
     "execution_count": 159,
     "metadata": {},
     "output_type": "execute_result"
    }
   ],
   "source": [
    "SEA_complaints[SEA_complaints[\"Location1\"] == \"(47.675320, -122.261800)\"]"
   ]
  },
  {
   "cell_type": "code",
   "execution_count": 163,
   "id": "18c70a05",
   "metadata": {
    "scrolled": true
   },
   "outputs": [
    {
     "data": {
      "text/html": [
       "<div>\n",
       "<style scoped>\n",
       "    .dataframe tbody tr th:only-of-type {\n",
       "        vertical-align: middle;\n",
       "    }\n",
       "\n",
       "    .dataframe tbody tr th {\n",
       "        vertical-align: top;\n",
       "    }\n",
       "\n",
       "    .dataframe thead th {\n",
       "        text-align: right;\n",
       "    }\n",
       "</style>\n",
       "<table border=\"1\" class=\"dataframe\">\n",
       "  <thead>\n",
       "    <tr style=\"text-align: right;\">\n",
       "      <th></th>\n",
       "      <th>RecordNum</th>\n",
       "      <th>RecordType</th>\n",
       "      <th>RecordTypeMapped</th>\n",
       "      <th>RecordTypeDesc</th>\n",
       "      <th>Description</th>\n",
       "      <th>OpenDate</th>\n",
       "      <th>LastInspDate</th>\n",
       "      <th>LastInspResult</th>\n",
       "      <th>StatusCurrent</th>\n",
       "      <th>OriginalAddress1</th>\n",
       "      <th>OriginalCity</th>\n",
       "      <th>OriginalState</th>\n",
       "      <th>OriginalZip</th>\n",
       "      <th>Link</th>\n",
       "      <th>Latitude</th>\n",
       "      <th>Longitude</th>\n",
       "      <th>Location1</th>\n",
       "    </tr>\n",
       "  </thead>\n",
       "  <tbody>\n",
       "    <tr>\n",
       "      <th>3596</th>\n",
       "      <td>003948-04CP</td>\n",
       "      <td>Complaint</td>\n",
       "      <td>Request</td>\n",
       "      <td>NaN</td>\n",
       "      <td>HAS NO HOT WATER IN KITCHEN SINK.</td>\n",
       "      <td>2004-09-03</td>\n",
       "      <td>POINT (-122.32851868 47.59982559)</td>\n",
       "      <td>Completed</td>\n",
       "      <td>Completed</td>\n",
       "      <td>308 4TH AVE S</td>\n",
       "      <td>SEATTLE</td>\n",
       "      <td>WA</td>\n",
       "      <td>98104.0</td>\n",
       "      <td>https://cosaccela.seattle.gov/portal/customize...</td>\n",
       "      <td>47.599826</td>\n",
       "      <td>-122.328519</td>\n",
       "      <td>(47.59982559, -122.32851868)</td>\n",
       "    </tr>\n",
       "    <tr>\n",
       "      <th>6844</th>\n",
       "      <td>1003449-VI</td>\n",
       "      <td>Notice of Violation</td>\n",
       "      <td>Case</td>\n",
       "      <td>NaN</td>\n",
       "      <td>HAS NO HOT WATER IN KITCHEN SINK.</td>\n",
       "      <td>2004-09-17</td>\n",
       "      <td>POINT (-122.32851868 47.59982559)</td>\n",
       "      <td>Compliance Achieved</td>\n",
       "      <td>Completed</td>\n",
       "      <td>308 4TH AVE S</td>\n",
       "      <td>SEATTLE</td>\n",
       "      <td>WA</td>\n",
       "      <td>98104.0</td>\n",
       "      <td>https://cosaccela.seattle.gov/portal/customize...</td>\n",
       "      <td>47.599826</td>\n",
       "      <td>-122.328519</td>\n",
       "      <td>(47.59982559, -122.32851868)</td>\n",
       "    </tr>\n",
       "    <tr>\n",
       "      <th>9493</th>\n",
       "      <td>002896-05CP</td>\n",
       "      <td>Complaint</td>\n",
       "      <td>Request</td>\n",
       "      <td>NaN</td>\n",
       "      <td>Roach infestation in unit. Rodent and roach in...</td>\n",
       "      <td>2005-06-21</td>\n",
       "      <td>POINT (-122.32851868 47.59982559)</td>\n",
       "      <td>NaN</td>\n",
       "      <td>Completed</td>\n",
       "      <td>308 4TH AVE S</td>\n",
       "      <td>SEATTLE</td>\n",
       "      <td>WA</td>\n",
       "      <td>98104.0</td>\n",
       "      <td>https://cosaccela.seattle.gov/portal/customize...</td>\n",
       "      <td>47.599826</td>\n",
       "      <td>-122.328519</td>\n",
       "      <td>(47.59982559, -122.32851868)</td>\n",
       "    </tr>\n",
       "    <tr>\n",
       "      <th>11751</th>\n",
       "      <td>005154-05CP</td>\n",
       "      <td>Complaint</td>\n",
       "      <td>Request</td>\n",
       "      <td>NaN</td>\n",
       "      <td>No heat in the apartment. Told by management t...</td>\n",
       "      <td>2005-12-15</td>\n",
       "      <td>POINT (-122.32851868 47.59982559)</td>\n",
       "      <td>NaN</td>\n",
       "      <td>Completed</td>\n",
       "      <td>308 4TH AVE S</td>\n",
       "      <td>SEATTLE</td>\n",
       "      <td>WA</td>\n",
       "      <td>98104.0</td>\n",
       "      <td>https://cosaccela.seattle.gov/portal/customize...</td>\n",
       "      <td>47.599826</td>\n",
       "      <td>-122.328519</td>\n",
       "      <td>(47.59982559, -122.32851868)</td>\n",
       "    </tr>\n",
       "    <tr>\n",
       "      <th>24964</th>\n",
       "      <td>003132-07CP</td>\n",
       "      <td>Complaint</td>\n",
       "      <td>Request</td>\n",
       "      <td>Weeds</td>\n",
       "      <td>Laurel Hedge growing over the sidewalk. It is ...</td>\n",
       "      <td>2007-06-12</td>\n",
       "      <td>POINT (-122.32851868 47.59982559)</td>\n",
       "      <td>Completed</td>\n",
       "      <td>Completed</td>\n",
       "      <td>308 4TH AVE S</td>\n",
       "      <td>SEATTLE</td>\n",
       "      <td>WA</td>\n",
       "      <td>98104.0</td>\n",
       "      <td>https://cosaccela.seattle.gov/portal/customize...</td>\n",
       "      <td>47.599826</td>\n",
       "      <td>-122.328519</td>\n",
       "      <td>(47.59982559, -122.32851868)</td>\n",
       "    </tr>\n",
       "    <tr>\n",
       "      <th>...</th>\n",
       "      <td>...</td>\n",
       "      <td>...</td>\n",
       "      <td>...</td>\n",
       "      <td>...</td>\n",
       "      <td>...</td>\n",
       "      <td>...</td>\n",
       "      <td>...</td>\n",
       "      <td>...</td>\n",
       "      <td>...</td>\n",
       "      <td>...</td>\n",
       "      <td>...</td>\n",
       "      <td>...</td>\n",
       "      <td>...</td>\n",
       "      <td>...</td>\n",
       "      <td>...</td>\n",
       "      <td>...</td>\n",
       "      <td>...</td>\n",
       "    </tr>\n",
       "    <tr>\n",
       "      <th>185854</th>\n",
       "      <td>002857-23CP</td>\n",
       "      <td>Complaint</td>\n",
       "      <td>Request</td>\n",
       "      <td>LandLord/Tenant</td>\n",
       "      <td>Accused of being delinquent in rent although p...</td>\n",
       "      <td>2023-03-17</td>\n",
       "      <td>POINT (-122.32851868 47.59982559)</td>\n",
       "      <td>NaN</td>\n",
       "      <td>Closed</td>\n",
       "      <td>308 4TH AVE S</td>\n",
       "      <td>SEATTLE</td>\n",
       "      <td>WA</td>\n",
       "      <td>98104.0</td>\n",
       "      <td>https://cosaccela.seattle.gov/portal/customize...</td>\n",
       "      <td>47.599826</td>\n",
       "      <td>-122.328519</td>\n",
       "      <td>(47.59982559, -122.32851868)</td>\n",
       "    </tr>\n",
       "    <tr>\n",
       "      <th>185905</th>\n",
       "      <td>002900-23CP</td>\n",
       "      <td>Complaint</td>\n",
       "      <td>Request</td>\n",
       "      <td>LandLord/Tenant</td>\n",
       "      <td>30 day eviction</td>\n",
       "      <td>2023-03-21</td>\n",
       "      <td>POINT (-122.32851868 47.59982559)</td>\n",
       "      <td>NaN</td>\n",
       "      <td>Closed</td>\n",
       "      <td>308 4TH AVE S</td>\n",
       "      <td>SEATTLE</td>\n",
       "      <td>WA</td>\n",
       "      <td>98104.0</td>\n",
       "      <td>https://cosaccela.seattle.gov/portal/customize...</td>\n",
       "      <td>47.599826</td>\n",
       "      <td>-122.328519</td>\n",
       "      <td>(47.59982559, -122.32851868)</td>\n",
       "    </tr>\n",
       "    <tr>\n",
       "      <th>187708</th>\n",
       "      <td>004512-23CP</td>\n",
       "      <td>Complaint</td>\n",
       "      <td>Request</td>\n",
       "      <td>LandLord/Tenant</td>\n",
       "      <td>Constant chirping from unit 628 or 629.  One o...</td>\n",
       "      <td>2023-04-27</td>\n",
       "      <td>POINT (-122.32851868 47.59982559)</td>\n",
       "      <td>NaN</td>\n",
       "      <td>Under Investigation</td>\n",
       "      <td>308 4TH AVE S</td>\n",
       "      <td>SEATTLE</td>\n",
       "      <td>WA</td>\n",
       "      <td>98104.0</td>\n",
       "      <td>https://cosaccela.seattle.gov/portal/customize...</td>\n",
       "      <td>47.599826</td>\n",
       "      <td>-122.328519</td>\n",
       "      <td>(47.59982559, -122.32851868)</td>\n",
       "    </tr>\n",
       "    <tr>\n",
       "      <th>187758</th>\n",
       "      <td>004558-23CP</td>\n",
       "      <td>Complaint</td>\n",
       "      <td>Request</td>\n",
       "      <td>NaN</td>\n",
       "      <td>010666-22CP ISSUES STILL A PROBLEM:radiator va...</td>\n",
       "      <td>2023-05-02</td>\n",
       "      <td>POINT (-122.32851868 47.59982559)</td>\n",
       "      <td>NaN</td>\n",
       "      <td>Under Investigation</td>\n",
       "      <td>308 4TH AVE S</td>\n",
       "      <td>SEATTLE</td>\n",
       "      <td>WA</td>\n",
       "      <td>98104.0</td>\n",
       "      <td>https://cosaccela.seattle.gov/portal/customize...</td>\n",
       "      <td>47.599826</td>\n",
       "      <td>-122.328519</td>\n",
       "      <td>(47.59982559, -122.32851868)</td>\n",
       "    </tr>\n",
       "    <tr>\n",
       "      <th>187958</th>\n",
       "      <td>004733-23CP</td>\n",
       "      <td>Complaint</td>\n",
       "      <td>Request</td>\n",
       "      <td>NaN</td>\n",
       "      <td>CEILING LEAKING</td>\n",
       "      <td>2023-05-08</td>\n",
       "      <td>POINT (-122.32851868 47.59982559)</td>\n",
       "      <td>NaN</td>\n",
       "      <td>Under Investigation</td>\n",
       "      <td>308 4TH AVE S</td>\n",
       "      <td>SEATTLE</td>\n",
       "      <td>WA</td>\n",
       "      <td>98104.0</td>\n",
       "      <td>https://cosaccela.seattle.gov/portal/customize...</td>\n",
       "      <td>47.599826</td>\n",
       "      <td>-122.328519</td>\n",
       "      <td>(47.59982559, -122.32851868)</td>\n",
       "    </tr>\n",
       "  </tbody>\n",
       "</table>\n",
       "<p>135 rows × 17 columns</p>\n",
       "</div>"
      ],
      "text/plain": [
       "          RecordNum           RecordType RecordTypeMapped   RecordTypeDesc  \\\n",
       "3596    003948-04CP            Complaint          Request              NaN   \n",
       "6844     1003449-VI  Notice of Violation             Case              NaN   \n",
       "9493    002896-05CP            Complaint          Request              NaN   \n",
       "11751   005154-05CP            Complaint          Request              NaN   \n",
       "24964   003132-07CP            Complaint          Request            Weeds   \n",
       "...             ...                  ...              ...              ...   \n",
       "185854  002857-23CP            Complaint          Request  LandLord/Tenant   \n",
       "185905  002900-23CP            Complaint          Request  LandLord/Tenant   \n",
       "187708  004512-23CP            Complaint          Request  LandLord/Tenant   \n",
       "187758  004558-23CP            Complaint          Request              NaN   \n",
       "187958  004733-23CP            Complaint          Request              NaN   \n",
       "\n",
       "                                              Description    OpenDate  \\\n",
       "3596                    HAS NO HOT WATER IN KITCHEN SINK.  2004-09-03   \n",
       "6844                    HAS NO HOT WATER IN KITCHEN SINK.  2004-09-17   \n",
       "9493    Roach infestation in unit. Rodent and roach in...  2005-06-21   \n",
       "11751   No heat in the apartment. Told by management t...  2005-12-15   \n",
       "24964   Laurel Hedge growing over the sidewalk. It is ...  2007-06-12   \n",
       "...                                                   ...         ...   \n",
       "185854  Accused of being delinquent in rent although p...  2023-03-17   \n",
       "185905                                    30 day eviction  2023-03-21   \n",
       "187708  Constant chirping from unit 628 or 629.  One o...  2023-04-27   \n",
       "187758  010666-22CP ISSUES STILL A PROBLEM:radiator va...  2023-05-02   \n",
       "187958                                    CEILING LEAKING  2023-05-08   \n",
       "\n",
       "                             LastInspDate       LastInspResult  \\\n",
       "3596    POINT (-122.32851868 47.59982559)            Completed   \n",
       "6844    POINT (-122.32851868 47.59982559)  Compliance Achieved   \n",
       "9493    POINT (-122.32851868 47.59982559)                  NaN   \n",
       "11751   POINT (-122.32851868 47.59982559)                  NaN   \n",
       "24964   POINT (-122.32851868 47.59982559)            Completed   \n",
       "...                                   ...                  ...   \n",
       "185854  POINT (-122.32851868 47.59982559)                  NaN   \n",
       "185905  POINT (-122.32851868 47.59982559)                  NaN   \n",
       "187708  POINT (-122.32851868 47.59982559)                  NaN   \n",
       "187758  POINT (-122.32851868 47.59982559)                  NaN   \n",
       "187958  POINT (-122.32851868 47.59982559)                  NaN   \n",
       "\n",
       "              StatusCurrent OriginalAddress1 OriginalCity OriginalState  \\\n",
       "3596              Completed    308 4TH AVE S      SEATTLE            WA   \n",
       "6844              Completed    308 4TH AVE S      SEATTLE            WA   \n",
       "9493              Completed    308 4TH AVE S      SEATTLE            WA   \n",
       "11751             Completed    308 4TH AVE S      SEATTLE            WA   \n",
       "24964             Completed    308 4TH AVE S      SEATTLE            WA   \n",
       "...                     ...              ...          ...           ...   \n",
       "185854               Closed    308 4TH AVE S      SEATTLE            WA   \n",
       "185905               Closed    308 4TH AVE S      SEATTLE            WA   \n",
       "187708  Under Investigation    308 4TH AVE S      SEATTLE            WA   \n",
       "187758  Under Investigation    308 4TH AVE S      SEATTLE            WA   \n",
       "187958  Under Investigation    308 4TH AVE S      SEATTLE            WA   \n",
       "\n",
       "        OriginalZip                                               Link  \\\n",
       "3596        98104.0  https://cosaccela.seattle.gov/portal/customize...   \n",
       "6844        98104.0  https://cosaccela.seattle.gov/portal/customize...   \n",
       "9493        98104.0  https://cosaccela.seattle.gov/portal/customize...   \n",
       "11751       98104.0  https://cosaccela.seattle.gov/portal/customize...   \n",
       "24964       98104.0  https://cosaccela.seattle.gov/portal/customize...   \n",
       "...             ...                                                ...   \n",
       "185854      98104.0  https://cosaccela.seattle.gov/portal/customize...   \n",
       "185905      98104.0  https://cosaccela.seattle.gov/portal/customize...   \n",
       "187708      98104.0  https://cosaccela.seattle.gov/portal/customize...   \n",
       "187758      98104.0  https://cosaccela.seattle.gov/portal/customize...   \n",
       "187958      98104.0  https://cosaccela.seattle.gov/portal/customize...   \n",
       "\n",
       "         Latitude   Longitude                     Location1  \n",
       "3596    47.599826 -122.328519  (47.59982559, -122.32851868)  \n",
       "6844    47.599826 -122.328519  (47.59982559, -122.32851868)  \n",
       "9493    47.599826 -122.328519  (47.59982559, -122.32851868)  \n",
       "11751   47.599826 -122.328519  (47.59982559, -122.32851868)  \n",
       "24964   47.599826 -122.328519  (47.59982559, -122.32851868)  \n",
       "...           ...         ...                           ...  \n",
       "185854  47.599826 -122.328519  (47.59982559, -122.32851868)  \n",
       "185905  47.599826 -122.328519  (47.59982559, -122.32851868)  \n",
       "187708  47.599826 -122.328519  (47.59982559, -122.32851868)  \n",
       "187758  47.599826 -122.328519  (47.59982559, -122.32851868)  \n",
       "187958  47.599826 -122.328519  (47.59982559, -122.32851868)  \n",
       "\n",
       "[135 rows x 17 columns]"
      ]
     },
     "execution_count": 163,
     "metadata": {},
     "output_type": "execute_result"
    }
   ],
   "source": [
    "SEA_complaints[SEA_complaints[\"Location1\"] == \"(47.59982559, -122.32851868)\"]"
   ]
  },
  {
   "cell_type": "markdown",
   "id": "b696f2a7",
   "metadata": {},
   "source": [
    "It looks like there has been no reported complaint data from my apartment complex - I checked with both the address and coordinates, but there were no results for mine. I double checked with other locations from the list that I knew would work! I'm not mad about the findings - this doesn't indicate that there are no problems or complaints here, but they are likely handled more internally I would imagine than with Seattle's system. Anyways, good to know that my apt isn't on the higher end of the list!"
   ]
  },
  {
   "cell_type": "markdown",
   "id": "54d8d954",
   "metadata": {},
   "source": [
    "---"
   ]
  }
 ],
 "metadata": {
  "kernelspec": {
   "display_name": "Python 3 (ipykernel)",
   "language": "python",
   "name": "python3"
  },
  "language_info": {
   "codemirror_mode": {
    "name": "ipython",
    "version": 3
   },
   "file_extension": ".py",
   "mimetype": "text/x-python",
   "name": "python",
   "nbconvert_exporter": "python",
   "pygments_lexer": "ipython3",
   "version": "3.10.9"
  }
 },
 "nbformat": 4,
 "nbformat_minor": 5
}
