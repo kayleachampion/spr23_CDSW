{
 "cells": [
  {
   "cell_type": "code",
   "execution_count": 93,
   "id": "5149d22c",
   "metadata": {},
   "outputs": [],
   "source": [
    "import pandas as pd\n",
    "import matplotlib\n",
    "import csv"
   ]
  },
  {
   "cell_type": "code",
   "execution_count": 2,
   "id": "15ea8cec",
   "metadata": {},
   "outputs": [],
   "source": [
    "df = pd.read_csv(\"Code_Complaints_and_Violations.csv\")"
   ]
  },
  {
   "cell_type": "code",
   "execution_count": 3,
   "id": "6eff9052",
   "metadata": {},
   "outputs": [
    {
     "data": {
      "text/html": [
       "<div>\n",
       "<style scoped>\n",
       "    .dataframe tbody tr th:only-of-type {\n",
       "        vertical-align: middle;\n",
       "    }\n",
       "\n",
       "    .dataframe tbody tr th {\n",
       "        vertical-align: top;\n",
       "    }\n",
       "\n",
       "    .dataframe thead th {\n",
       "        text-align: right;\n",
       "    }\n",
       "</style>\n",
       "<table border=\"1\" class=\"dataframe\">\n",
       "  <thead>\n",
       "    <tr style=\"text-align: right;\">\n",
       "      <th></th>\n",
       "      <th>RecordNum</th>\n",
       "      <th>RecordType</th>\n",
       "      <th>RecordTypeMapped</th>\n",
       "      <th>RecordTypeDesc</th>\n",
       "      <th>Description</th>\n",
       "      <th>OpenDate</th>\n",
       "      <th>LastInspDate</th>\n",
       "      <th>LastInspResult</th>\n",
       "      <th>StatusCurrent</th>\n",
       "      <th>OriginalAddress1</th>\n",
       "      <th>OriginalCity</th>\n",
       "      <th>OriginalState</th>\n",
       "      <th>OriginalZip</th>\n",
       "      <th>Link</th>\n",
       "      <th>Latitude</th>\n",
       "      <th>Longitude</th>\n",
       "      <th>Location1</th>\n",
       "    </tr>\n",
       "  </thead>\n",
       "  <tbody>\n",
       "    <tr>\n",
       "      <th>0</th>\n",
       "      <td>001001-03CP</td>\n",
       "      <td>Complaint</td>\n",
       "      <td>Request</td>\n",
       "      <td>Construction</td>\n",
       "      <td>Elevator gets stuck at least 3 times a week, f...</td>\n",
       "      <td>2003-11-10</td>\n",
       "      <td>POINT (-122.33582172 47.60642293)</td>\n",
       "      <td>Completed</td>\n",
       "      <td>Completed</td>\n",
       "      <td>1100 2ND AVE</td>\n",
       "      <td>SEATTLE</td>\n",
       "      <td>WA</td>\n",
       "      <td>98101.0</td>\n",
       "      <td>https://cosaccela.seattle.gov/portal/customize...</td>\n",
       "      <td>47.606423</td>\n",
       "      <td>-122.335822</td>\n",
       "      <td>(47.60642293, -122.33582172)</td>\n",
       "    </tr>\n",
       "    <tr>\n",
       "      <th>1</th>\n",
       "      <td>001002-03CP</td>\n",
       "      <td>Complaint</td>\n",
       "      <td>Request</td>\n",
       "      <td>Construction</td>\n",
       "      <td>Concerned about RV pumpout that is currently b...</td>\n",
       "      <td>2003-11-10</td>\n",
       "      <td>POINT (-122.35191884 47.68639169)</td>\n",
       "      <td>Completed</td>\n",
       "      <td>Completed</td>\n",
       "      <td>512 N 79TH ST</td>\n",
       "      <td>SEATTLE</td>\n",
       "      <td>WA</td>\n",
       "      <td>98103.0</td>\n",
       "      <td>https://cosaccela.seattle.gov/portal/customize...</td>\n",
       "      <td>47.686392</td>\n",
       "      <td>-122.351919</td>\n",
       "      <td>(47.68639169, -122.35191884)</td>\n",
       "    </tr>\n",
       "    <tr>\n",
       "      <th>2</th>\n",
       "      <td>001003-03CP</td>\n",
       "      <td>Complaint</td>\n",
       "      <td>Request</td>\n",
       "      <td>Vacant Building</td>\n",
       "      <td>The vacant red apple building and adjacent bui...</td>\n",
       "      <td>2003-11-10</td>\n",
       "      <td>POINT (-122.31388805 47.61559829)</td>\n",
       "      <td>Completed</td>\n",
       "      <td>Completed</td>\n",
       "      <td>1400 E PINE ST</td>\n",
       "      <td>SEATTLE</td>\n",
       "      <td>WA</td>\n",
       "      <td>98122.0</td>\n",
       "      <td>https://cosaccela.seattle.gov/portal/customize...</td>\n",
       "      <td>47.615598</td>\n",
       "      <td>-122.313888</td>\n",
       "      <td>(47.61559829, -122.31388805)</td>\n",
       "    </tr>\n",
       "    <tr>\n",
       "      <th>3</th>\n",
       "      <td>001004-03CP</td>\n",
       "      <td>Complaint</td>\n",
       "      <td>Request</td>\n",
       "      <td>Land Use</td>\n",
       "      <td>Trailor and camper parked in back yard.  Peopl...</td>\n",
       "      <td>2003-11-10</td>\n",
       "      <td>POINT (-122.36215164 47.69226044)</td>\n",
       "      <td>Completed</td>\n",
       "      <td>Completed</td>\n",
       "      <td>332 NW 87TH ST</td>\n",
       "      <td>SEATTLE</td>\n",
       "      <td>WA</td>\n",
       "      <td>98117.0</td>\n",
       "      <td>https://cosaccela.seattle.gov/portal/customize...</td>\n",
       "      <td>47.692260</td>\n",
       "      <td>-122.362152</td>\n",
       "      <td>(47.69226044, -122.36215164)</td>\n",
       "    </tr>\n",
       "    <tr>\n",
       "      <th>4</th>\n",
       "      <td>001005-03CP</td>\n",
       "      <td>Complaint</td>\n",
       "      <td>Request</td>\n",
       "      <td>Land Use</td>\n",
       "      <td>Illegal use of property.\"Hawkers\" or vendors (...</td>\n",
       "      <td>2003-11-10</td>\n",
       "      <td>POINT (-122.33832038 47.60911773)</td>\n",
       "      <td>Completed</td>\n",
       "      <td>Completed</td>\n",
       "      <td>1430 2ND AVE</td>\n",
       "      <td>SEATTLE</td>\n",
       "      <td>WA</td>\n",
       "      <td>98101.0</td>\n",
       "      <td>https://cosaccela.seattle.gov/portal/customize...</td>\n",
       "      <td>47.609118</td>\n",
       "      <td>-122.338320</td>\n",
       "      <td>(47.60911773, -122.33832038)</td>\n",
       "    </tr>\n",
       "  </tbody>\n",
       "</table>\n",
       "</div>"
      ],
      "text/plain": [
       "     RecordNum RecordType RecordTypeMapped   RecordTypeDesc  \\\n",
       "0  001001-03CP  Complaint          Request     Construction   \n",
       "1  001002-03CP  Complaint          Request     Construction   \n",
       "2  001003-03CP  Complaint          Request  Vacant Building   \n",
       "3  001004-03CP  Complaint          Request         Land Use   \n",
       "4  001005-03CP  Complaint          Request         Land Use   \n",
       "\n",
       "                                         Description    OpenDate  \\\n",
       "0  Elevator gets stuck at least 3 times a week, f...  2003-11-10   \n",
       "1  Concerned about RV pumpout that is currently b...  2003-11-10   \n",
       "2  The vacant red apple building and adjacent bui...  2003-11-10   \n",
       "3  Trailor and camper parked in back yard.  Peopl...  2003-11-10   \n",
       "4  Illegal use of property.\"Hawkers\" or vendors (...  2003-11-10   \n",
       "\n",
       "                        LastInspDate LastInspResult StatusCurrent  \\\n",
       "0  POINT (-122.33582172 47.60642293)      Completed     Completed   \n",
       "1  POINT (-122.35191884 47.68639169)      Completed     Completed   \n",
       "2  POINT (-122.31388805 47.61559829)      Completed     Completed   \n",
       "3  POINT (-122.36215164 47.69226044)      Completed     Completed   \n",
       "4  POINT (-122.33832038 47.60911773)      Completed     Completed   \n",
       "\n",
       "  OriginalAddress1 OriginalCity OriginalState  OriginalZip  \\\n",
       "0     1100 2ND AVE      SEATTLE            WA      98101.0   \n",
       "1    512 N 79TH ST      SEATTLE            WA      98103.0   \n",
       "2   1400 E PINE ST      SEATTLE            WA      98122.0   \n",
       "3   332 NW 87TH ST      SEATTLE            WA      98117.0   \n",
       "4     1430 2ND AVE      SEATTLE            WA      98101.0   \n",
       "\n",
       "                                                Link   Latitude   Longitude  \\\n",
       "0  https://cosaccela.seattle.gov/portal/customize...  47.606423 -122.335822   \n",
       "1  https://cosaccela.seattle.gov/portal/customize...  47.686392 -122.351919   \n",
       "2  https://cosaccela.seattle.gov/portal/customize...  47.615598 -122.313888   \n",
       "3  https://cosaccela.seattle.gov/portal/customize...  47.692260 -122.362152   \n",
       "4  https://cosaccela.seattle.gov/portal/customize...  47.609118 -122.338320   \n",
       "\n",
       "                      Location1  \n",
       "0  (47.60642293, -122.33582172)  \n",
       "1  (47.68639169, -122.35191884)  \n",
       "2  (47.61559829, -122.31388805)  \n",
       "3  (47.69226044, -122.36215164)  \n",
       "4  (47.60911773, -122.33832038)  "
      ]
     },
     "execution_count": 3,
     "metadata": {},
     "output_type": "execute_result"
    }
   ],
   "source": [
    "df.head() #shows me the header row and \"top\" of the dataframe"
   ]
  },
  {
   "cell_type": "code",
   "execution_count": 5,
   "id": "3dfe45fe",
   "metadata": {},
   "outputs": [
    {
     "name": "stdout",
     "output_type": "stream",
     "text": [
      "Number of columns: 17\n"
     ]
    }
   ],
   "source": [
    "print(\"Number of columns:\", df.shape[1]) #1 shows me number of columns"
   ]
  },
  {
   "cell_type": "code",
   "execution_count": 22,
   "id": "df06f4d7",
   "metadata": {},
   "outputs": [
    {
     "name": "stdout",
     "output_type": "stream",
     "text": [
      "Number of rows: 188243\n"
     ]
    }
   ],
   "source": [
    "print(\"Number of rows:\", df.shape[0]) #0 shows me the num of rows"
   ]
  },
  {
   "cell_type": "markdown",
   "id": "7f6ba473",
   "metadata": {},
   "source": [
    "##### Take a look at the \"RecordType\" column which describes the kinds of complaints that come in. What are the types of categories? How many are in each category?"
   ]
  },
  {
   "cell_type": "code",
   "execution_count": 23,
   "id": "7a1b3442",
   "metadata": {},
   "outputs": [
    {
     "name": "stdout",
     "output_type": "stream",
     "text": [
      "Complaint              137226\n",
      "Notice of Violation     28464\n",
      "Citation                18598\n",
      "Tenant Relocation        3639\n",
      "Unfit Building            316\n",
      "Name: RecordType, dtype: int64\n"
     ]
    }
   ],
   "source": [
    "record_type = df[\"RecordType\"].value_counts()\n",
    "print(record_type)"
   ]
  },
  {
   "cell_type": "markdown",
   "id": "a1e9be26",
   "metadata": {},
   "source": [
    "###### Show both with numbers and with a simple visualization (a histogram, perhaps?)."
   ]
  },
  {
   "cell_type": "code",
   "execution_count": 24,
   "id": "6684caaf",
   "metadata": {},
   "outputs": [
    {
     "data": {
      "text/plain": [
       "<Axes: >"
      ]
     },
     "execution_count": 24,
     "metadata": {},
     "output_type": "execute_result"
    },
    {
     "data": {
      "image/png": "[encoded data removed]",
      "text/plain": [
       "<Figure size 640x480 with 1 Axes>"
      ]
     },
     "metadata": {},
     "output_type": "display_data"
    }
   ],
   "source": [
    "df[\"RecordType\"].hist()"
   ]
  },
  {
   "cell_type": "markdown",
   "id": "4e149272",
   "metadata": {},
   "source": [
    "###### For each category, print out the \"Description\" of several examples. What kinds of things are included?"
   ]
  },
  {
   "cell_type": "code",
   "execution_count": null,
   "id": "cf62cb55",
   "metadata": {},
   "outputs": [],
   "source": [
    "df[df[\"RecordType\"] == \"Citation\"][\"Description\"][:5] \n",
    "#this filters record type for \"citation\" and then pulls description field and gives the first 5 descriptions\n",
    "\n",
    "#Looks like unpermitted outdoor things, reports of junk, parking cars in yards.. "
   ]
  },
  {
   "cell_type": "markdown",
   "id": "41b6f3de",
   "metadata": {},
   "source": [
    "###### Build a new dataset that includes only the \"RecordType\", \"OriginalZip\", and \"Description\" columns."
   ]
  },
  {
   "cell_type": "code",
   "execution_count": 74,
   "id": "720d4855",
   "metadata": {},
   "outputs": [
    {
     "data": {
      "text/html": [
       "<div>\n",
       "<style scoped>\n",
       "    .dataframe tbody tr th:only-of-type {\n",
       "        vertical-align: middle;\n",
       "    }\n",
       "\n",
       "    .dataframe tbody tr th {\n",
       "        vertical-align: top;\n",
       "    }\n",
       "\n",
       "    .dataframe thead th {\n",
       "        text-align: right;\n",
       "    }\n",
       "</style>\n",
       "<table border=\"1\" class=\"dataframe\">\n",
       "  <thead>\n",
       "    <tr style=\"text-align: right;\">\n",
       "      <th></th>\n",
       "      <th>RecordType</th>\n",
       "      <th>OriginalZip</th>\n",
       "      <th>Description</th>\n",
       "    </tr>\n",
       "  </thead>\n",
       "  <tbody>\n",
       "    <tr>\n",
       "      <th>0</th>\n",
       "      <td>Complaint</td>\n",
       "      <td>98101.0</td>\n",
       "      <td>Elevator gets stuck at least 3 times a week, f...</td>\n",
       "    </tr>\n",
       "    <tr>\n",
       "      <th>1</th>\n",
       "      <td>Complaint</td>\n",
       "      <td>98103.0</td>\n",
       "      <td>Concerned about RV pumpout that is currently b...</td>\n",
       "    </tr>\n",
       "    <tr>\n",
       "      <th>2</th>\n",
       "      <td>Complaint</td>\n",
       "      <td>98122.0</td>\n",
       "      <td>The vacant red apple building and adjacent bui...</td>\n",
       "    </tr>\n",
       "    <tr>\n",
       "      <th>3</th>\n",
       "      <td>Complaint</td>\n",
       "      <td>98117.0</td>\n",
       "      <td>Trailor and camper parked in back yard.  Peopl...</td>\n",
       "    </tr>\n",
       "    <tr>\n",
       "      <th>4</th>\n",
       "      <td>Complaint</td>\n",
       "      <td>98101.0</td>\n",
       "      <td>Illegal use of property.\"Hawkers\" or vendors (...</td>\n",
       "    </tr>\n",
       "  </tbody>\n",
       "</table>\n",
       "</div>"
      ],
      "text/plain": [
       "  RecordType  OriginalZip                                        Description\n",
       "0  Complaint      98101.0  Elevator gets stuck at least 3 times a week, f...\n",
       "1  Complaint      98103.0  Concerned about RV pumpout that is currently b...\n",
       "2  Complaint      98122.0  The vacant red apple building and adjacent bui...\n",
       "3  Complaint      98117.0  Trailor and camper parked in back yard.  Peopl...\n",
       "4  Complaint      98101.0  Illegal use of property.\"Hawkers\" or vendors (..."
      ]
     },
     "execution_count": 74,
     "metadata": {},
     "output_type": "execute_result"
    }
   ],
   "source": [
    "new_df = df.loc[:, [\"RecordType\", \"OriginalZip\", \"Description\"]]\n",
    "new_df.head()"
   ]
  },
  {
   "cell_type": "markdown",
   "id": "e10702e2",
   "metadata": {},
   "source": [
    "###### Use this second dataset to filter the dataset down to just rows from your zipcode."
   ]
  },
  {
   "cell_type": "code",
   "execution_count": 80,
   "id": "10c87de9",
   "metadata": {},
   "outputs": [],
   "source": [
    "#My zip is also 98112!\n",
    "second_df = new_df.loc[new_df[\"OriginalZip\"] == 98112] # Filters to my zip"
   ]
  },
  {
   "cell_type": "code",
   "execution_count": 81,
   "id": "2d664a74",
   "metadata": {},
   "outputs": [
    {
     "data": {
      "text/html": [
       "<div>\n",
       "<style scoped>\n",
       "    .dataframe tbody tr th:only-of-type {\n",
       "        vertical-align: middle;\n",
       "    }\n",
       "\n",
       "    .dataframe tbody tr th {\n",
       "        vertical-align: top;\n",
       "    }\n",
       "\n",
       "    .dataframe thead th {\n",
       "        text-align: right;\n",
       "    }\n",
       "</style>\n",
       "<table border=\"1\" class=\"dataframe\">\n",
       "  <thead>\n",
       "    <tr style=\"text-align: right;\">\n",
       "      <th></th>\n",
       "      <th>RecordType</th>\n",
       "      <th>OriginalZip</th>\n",
       "      <th>Description</th>\n",
       "    </tr>\n",
       "  </thead>\n",
       "  <tbody>\n",
       "    <tr>\n",
       "      <th>17</th>\n",
       "      <td>Complaint</td>\n",
       "      <td>98112.0</td>\n",
       "      <td>5-6 cats on the property in a SF5 zone.</td>\n",
       "    </tr>\n",
       "    <tr>\n",
       "      <th>21</th>\n",
       "      <td>Complaint</td>\n",
       "      <td>98112.0</td>\n",
       "      <td>Built 12 ft x 12 ft attached addition to west ...</td>\n",
       "    </tr>\n",
       "    <tr>\n",
       "      <th>23</th>\n",
       "      <td>Complaint</td>\n",
       "      <td>98112.0</td>\n",
       "      <td>light fixture in stairwell of duplex does not ...</td>\n",
       "    </tr>\n",
       "    <tr>\n",
       "      <th>31</th>\n",
       "      <td>Complaint</td>\n",
       "      <td>98112.0</td>\n",
       "      <td>NaN</td>\n",
       "    </tr>\n",
       "    <tr>\n",
       "      <th>69</th>\n",
       "      <td>Complaint</td>\n",
       "      <td>98112.0</td>\n",
       "      <td>Building a fence over 6 ft high in the require...</td>\n",
       "    </tr>\n",
       "  </tbody>\n",
       "</table>\n",
       "</div>"
      ],
      "text/plain": [
       "   RecordType  OriginalZip                                        Description\n",
       "17  Complaint      98112.0            5-6 cats on the property in a SF5 zone.\n",
       "21  Complaint      98112.0  Built 12 ft x 12 ft attached addition to west ...\n",
       "23  Complaint      98112.0  light fixture in stairwell of duplex does not ...\n",
       "31  Complaint      98112.0                                                NaN\n",
       "69  Complaint      98112.0  Building a fence over 6 ft high in the require..."
      ]
     },
     "execution_count": 81,
     "metadata": {},
     "output_type": "execute_result"
    }
   ],
   "source": [
    "second_df.head() # complaints seem extremely characteristic of 98112."
   ]
  },
  {
   "cell_type": "markdown",
   "id": "9496a921",
   "metadata": {},
   "source": [
    "###### Now look at the number and proportion of different types of records in this subset."
   ]
  },
  {
   "cell_type": "code",
   "execution_count": 82,
   "id": "3bf1ccaa",
   "metadata": {},
   "outputs": [
    {
     "data": {
      "text/plain": [
       "<Axes: >"
      ]
     },
     "execution_count": 82,
     "metadata": {},
     "output_type": "execute_result"
    },
    {
     "data": {
      "image/png": "[encoded data removed]",
      "text/plain": [
       "<Figure size 640x480 with 1 Axes>"
      ]
     },
     "metadata": {},
     "output_type": "display_data"
    }
   ],
   "source": [
    "second_df[\"RecordType\"].hist()"
   ]
  },
  {
   "cell_type": "code",
   "execution_count": 86,
   "id": "159b0dec",
   "metadata": {},
   "outputs": [
    {
     "name": "stdout",
     "output_type": "stream",
     "text": [
      "Complaint              4148\n",
      "Notice of Violation     830\n",
      "Citation                504\n",
      "Tenant Relocation       113\n",
      "Unfit Building           13\n",
      "Name: RecordType, dtype: int64\n"
     ]
    }
   ],
   "source": [
    "record_counts = second_df[\"RecordType\"].value_counts() #look at the frequency of types of complaints in 98112\n",
    "print (record_counts)"
   ]
  },
  {
   "cell_type": "code",
   "execution_count": 88,
   "id": "b460cfd7",
   "metadata": {},
   "outputs": [
    {
     "name": "stdout",
     "output_type": "stream",
     "text": [
      "Complaint              0.739658\n",
      "Notice of Violation    0.148003\n",
      "Citation               0.089872\n",
      "Tenant Relocation      0.020150\n",
      "Unfit Building         0.002318\n",
      "Name: RecordType, dtype: float64\n"
     ]
    }
   ],
   "source": [
    "record_proportions = record_counts / len(second_df) #proportion of complaints in 98112\n",
    "print (record_proportions)"
   ]
  },
  {
   "cell_type": "code",
   "execution_count": 90,
   "id": "851f1d94",
   "metadata": {},
   "outputs": [
    {
     "name": "stdout",
     "output_type": "stream",
     "text": [
      "Complaint              0.728983\n",
      "Notice of Violation    0.151209\n",
      "Citation               0.098798\n",
      "Tenant Relocation      0.019331\n",
      "Unfit Building         0.001679\n",
      "Name: RecordType, dtype: float64\n"
     ]
    }
   ],
   "source": [
    "record_proportions_all = (df[\"RecordType\"].value_counts()) / len(df) #proportion of complaints, all zips\n",
    "print (record_proportions_all)\n",
    "\n",
    "#Proportions appear to be very similar to what is recorded in seattle overall. "
   ]
  },
  {
   "cell_type": "markdown",
   "id": "c367eddb",
   "metadata": {},
   "source": [
    "###### Once again, print out the \"Description\" of several examples from each category. What kinds of things are included?"
   ]
  },
  {
   "cell_type": "code",
   "execution_count": 92,
   "id": "20b3b6de",
   "metadata": {},
   "outputs": [
    {
     "data": {
      "text/plain": [
       "614     Did not observe cats or small animals.I will m...\n",
       "4797                               junk storage violation\n",
       "4839                    minor outdoor storage violations.\n",
       "4936    Parking and storage of vehicles in rear yard. ...\n",
       "4952    Items stored in south driveway side yard and p...\n",
       "Name: Description, dtype: object"
      ]
     },
     "execution_count": 92,
     "metadata": {},
     "output_type": "execute_result"
    }
   ],
   "source": [
    "second_df[second_df[\"RecordType\"] == \"Citation\"][\"Description\"][:5] \n",
    "#this filters record type for \"citation\" and then pulls description field and gives the first 5 descriptions\n",
    "\n",
    "#No cats observed! "
   ]
  },
  {
   "cell_type": "code",
   "execution_count": 94,
   "id": "0231afe1",
   "metadata": {},
   "outputs": [],
   "source": [
    "second_df.to_csv(\"filtered_data.tsv\", sep='\\t', index=False)"
   ]
  },
  {
   "cell_type": "markdown",
   "id": "c8d8cbf2",
   "metadata": {},
   "source": [
    "###### It's About Time\n",
    "Create a new timeseries (use a pandas Series) that contains zip code and that uses the \"OpenDate\" column as the index. Be sure to check the type of the \"OpenDate\" column and make sure it's in the pandas datetime format."
   ]
  },
  {
   "cell_type": "code",
   "execution_count": 96,
   "id": "af9a03d1",
   "metadata": {},
   "outputs": [],
   "source": [
    "df[\"OpenDate\"] = pd.to_datetime(df[\"OpenDate\"]) # this just sets OpenDate as the index"
   ]
  },
  {
   "cell_type": "code",
   "execution_count": 97,
   "id": "f59c54e6",
   "metadata": {},
   "outputs": [
    {
     "name": "stdout",
     "output_type": "stream",
     "text": [
      "OpenDate\n",
      "2003-11-10    98101.0\n",
      "2003-11-10    98103.0\n",
      "2003-11-10    98122.0\n",
      "2003-11-10    98117.0\n",
      "2003-11-10    98101.0\n",
      "               ...   \n",
      "2023-05-12    98121.0\n",
      "2023-05-12    98103.0\n",
      "2023-05-12    98109.0\n",
      "2023-05-12    98109.0\n",
      "2023-05-12    98108.0\n",
      "Length: 188243, dtype: float64\n"
     ]
    }
   ],
   "source": [
    "time_series = pd.Series(df[\"OriginalZip\"].values, index=df[\"OpenDate\"]) #makes OpenDate as the key\n",
    "print(time_series)"
   ]
  },
  {
   "cell_type": "markdown",
   "id": "be7e9fce",
   "metadata": {},
   "source": [
    "###### Use the .resample() function associated with your pandas time series so that it shows the number of complaints per week overall and visualize this with a time series plot."
   ]
  },
  {
   "cell_type": "code",
   "execution_count": 104,
   "id": "f0783cc3",
   "metadata": {},
   "outputs": [],
   "source": [
    "complaints_per_week = df.resample(\"W\", on=\"OpenDate\")[\"OriginalZip\"].count()"
   ]
  },
  {
   "cell_type": "code",
   "execution_count": 105,
   "id": "1adbfa53",
   "metadata": {},
   "outputs": [
    {
     "data": {
      "text/plain": [
       "<Axes: xlabel='OpenDate'>"
      ]
     },
     "execution_count": 105,
     "metadata": {},
     "output_type": "execute_result"
    },
    {
     "data": {
      "image/png": "[encoded data removed]",
      "text/plain": [
       "<Figure size 640x480 with 1 Axes>"
      ]
     },
     "metadata": {},
     "output_type": "display_data"
    }
   ],
   "source": [
    "#PLOT! Also, WTF happened after 2012. Easier to make complaints? Economic factors? \n",
    "complaints_per_week.plot()"
   ]
  },
  {
   "cell_type": "code",
   "execution_count": 129,
   "id": "622d0a88",
   "metadata": {},
   "outputs": [],
   "source": [
    "### Ok lets look at the types of complaints from RecordType over time... but lets look at everything all at once.\n",
    "\n",
    "# Convert openDate\n",
    "df[\"OpenDate\"] = pd.to_datetime(df[\"OpenDate\"])\n",
    "\n",
    "# Grouping by RecordType and OpenDate, these are my axes. Then doing a transform, which applies to EACH GROUP.\n",
    "# Then it counts how many things are in each group.\n",
    "df[\"ComplaintNum\"] = df.groupby([\"RecordType\", \"OpenDate\"])[\"RecordType\"].transform(\"count\") #transform!! \n",
    "\n",
    "# Group the data by \"RecordType\" and \"OpenDate\" and sum the \"ComplaintNum\" for each group\n",
    "complaints_by_type_and_date = df.groupby([\"RecordType\", \"OpenDate\"]).sum(numeric_only=True)[\"ComplaintNum\"]\n",
    "\n",
    "# Reshape the data to wide format using the \"unstack\" method\n",
    "complaints_by_type_and_date = complaints_by_type_and_date.unstack(level=0)\n"
   ]
  },
  {
   "cell_type": "code",
   "execution_count": 130,
   "id": "374452cb",
   "metadata": {},
   "outputs": [
    {
     "data": {
      "text/plain": [
       "<Axes: xlabel='OpenDate'>"
      ]
     },
     "execution_count": 130,
     "metadata": {},
     "output_type": "execute_result"
    },
    {
     "data": {
      "image/png": "[encoded data removed]",
      "text/plain": [
       "<Figure size 640x480 with 1 Axes>"
      ]
     },
     "metadata": {},
     "output_type": "display_data"
    }
   ],
   "source": [
    "complaints_by_type_and_date.plot() #ok not great, but i'll take it"
   ]
  },
  {
   "cell_type": "code",
   "execution_count": null,
   "id": "1763f36a",
   "metadata": {},
   "outputs": [],
   "source": []
  }
 ],
 "metadata": {
  "kernelspec": {
   "display_name": "Python 3 (ipykernel)",
   "language": "python",
   "name": "python3"
  },
  "language_info": {
   "codemirror_mode": {
    "name": "ipython",
    "version": 3
   },
   "file_extension": ".py",
   "mimetype": "text/x-python",
   "name": "python",
   "nbconvert_exporter": "python",
   "pygments_lexer": "ipython3",
   "version": "3.10.9"
  }
 },
 "nbformat": 4,
 "nbformat_minor": 5
}
