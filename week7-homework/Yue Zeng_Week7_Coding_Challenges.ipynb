{
 "cells": [
  {
   "cell_type": "code",
   "execution_count": 93,
   "id": "3deb664e",
   "metadata": {},
   "outputs": [],
   "source": [
    "import pandas as pd\n",
    "import numpy as np"
   ]
  },
  {
   "cell_type": "markdown",
   "id": "ca8cdbf4",
   "metadata": {},
   "source": [
    "# Getting started with pandas and Seattle \"complaint\" data"
   ]
  },
  {
   "cell_type": "code",
   "execution_count": 94,
   "id": "29e9065f",
   "metadata": {},
   "outputs": [
    {
     "name": "stdout",
     "output_type": "stream",
     "text": [
      "     RecordNum RecordType RecordTypeMapped   RecordTypeDesc  \\\n",
      "0  001001-03CP  Complaint          Request     Construction   \n",
      "1  001002-03CP  Complaint          Request     Construction   \n",
      "2  001003-03CP  Complaint          Request  Vacant Building   \n",
      "3  001004-03CP  Complaint          Request         Land Use   \n",
      "4  001005-03CP  Complaint          Request         Land Use   \n",
      "\n",
      "                                         Description   OpenDate  \\\n",
      "0  Elevator gets stuck at least 3 times a week, f... 2003-11-10   \n",
      "1  Concerned about RV pumpout that is currently b... 2003-11-10   \n",
      "2  The vacant red apple building and adjacent bui... 2003-11-10   \n",
      "3  Trailor and camper parked in back yard.  Peopl... 2003-11-10   \n",
      "4  Illegal use of property.\"Hawkers\" or vendors (... 2003-11-10   \n",
      "\n",
      "                        LastInspDate LastInspResult StatusCurrent  \\\n",
      "0  POINT (-122.33582172 47.60642293)      Completed     Completed   \n",
      "1  POINT (-122.35191884 47.68639169)      Completed     Completed   \n",
      "2  POINT (-122.31388805 47.61559829)      Completed     Completed   \n",
      "3  POINT (-122.36215164 47.69226044)      Completed     Completed   \n",
      "4  POINT (-122.33832038 47.60911773)      Completed     Completed   \n",
      "\n",
      "  OriginalAddress1 OriginalCity OriginalState OriginalZip  \\\n",
      "0     1100 2ND AVE      SEATTLE            WA       98101   \n",
      "1    512 N 79TH ST      SEATTLE            WA       98103   \n",
      "2   1400 E PINE ST      SEATTLE            WA       98122   \n",
      "3   332 NW 87TH ST      SEATTLE            WA       98117   \n",
      "4     1430 2ND AVE      SEATTLE            WA       98101   \n",
      "\n",
      "                                                Link   Latitude   Longitude  \\\n",
      "0  https://cosaccela.seattle.gov/portal/customize...  47.606423 -122.335822   \n",
      "1  https://cosaccela.seattle.gov/portal/customize...  47.686392 -122.351919   \n",
      "2  https://cosaccela.seattle.gov/portal/customize...  47.615598 -122.313888   \n",
      "3  https://cosaccela.seattle.gov/portal/customize...  47.692260 -122.362152   \n",
      "4  https://cosaccela.seattle.gov/portal/customize...  47.609118 -122.338320   \n",
      "\n",
      "                      Location1  \n",
      "0  (47.60642293, -122.33582172)  \n",
      "1  (47.68639169, -122.35191884)  \n",
      "2  (47.61559829, -122.31388805)  \n",
      "3  (47.69226044, -122.36215164)  \n",
      "4  (47.60911773, -122.33832038)  \n"
     ]
    }
   ],
   "source": [
    "df = pd.read_csv('desktop/week7/Code_Complaints_and_Violations.csv', dtype={\"OriginalZip\": \"str\"}, parse_dates=[\"OpenDate\"])\n",
    "print(df.head())"
   ]
  },
  {
   "cell_type": "code",
   "execution_count": 95,
   "id": "0abc426a",
   "metadata": {},
   "outputs": [
    {
     "name": "stdout",
     "output_type": "stream",
     "text": [
      "          RecordNum RecordType RecordTypeMapped RecordTypeDesc  \\\n",
      "188247  004996-23CP  Complaint          Request            NaN   \n",
      "188248  004997-23CP  Complaint          Request            NaN   \n",
      "188249  004998-23CP  Complaint          Request            NaN   \n",
      "188250  004999-23CP  Complaint          Request            NaN   \n",
      "188251  005000-23CP  Complaint          Request            NaN   \n",
      "\n",
      "                                              Description   OpenDate  \\\n",
      "188247  They are building a DADU construction started ... 2023-05-13   \n",
      "188248  49th side of street overgrown weeds, sidewalk ... 2023-05-13   \n",
      "188249  I would like newly installed smoke detectors r... 2023-05-13   \n",
      "188250               overgrown shrubs on 35th and bertona 2023-05-13   \n",
      "188251  I am reaching out about the very loud impact c... 2023-05-13   \n",
      "\n",
      "                             LastInspDate LastInspResult StatusCurrent  \\\n",
      "188247  POINT (-122.31643107 47.55404946)            NaN     Initiated   \n",
      "188248  POINT (-122.35567404 47.66417279)            NaN     Initiated   \n",
      "188249  POINT (-122.32631118 47.62481907)            NaN     Initiated   \n",
      "188250  POINT (-122.40202329 47.65063787)            NaN     Initiated   \n",
      "188251  POINT (-122.33681078 47.60480378)            NaN     Initiated   \n",
      "\n",
      "            OriginalAddress1 OriginalCity OriginalState OriginalZip  \\\n",
      "188247       5403 13TH AVE S      SEATTLE            WA       98108   \n",
      "188248  4817 GREENWOOD AVE N      SEATTLE            WA       98103   \n",
      "188249    616 BELLEVUE AVE E      SEATTLE            WA       98102   \n",
      "188250     3420 W BERTONA ST      SEATTLE            WA       98199   \n",
      "188251          1007 1ST AVE      SEATTLE            WA       98104   \n",
      "\n",
      "                                                     Link   Latitude  \\\n",
      "188247  https://cosaccela.seattle.gov/portal/customize...  47.554049   \n",
      "188248  https://cosaccela.seattle.gov/portal/customize...  47.664173   \n",
      "188249  https://cosaccela.seattle.gov/portal/customize...  47.624819   \n",
      "188250  https://cosaccela.seattle.gov/portal/customize...  47.650638   \n",
      "188251  https://cosaccela.seattle.gov/portal/customize...  47.604804   \n",
      "\n",
      "         Longitude                     Location1  \n",
      "188247 -122.316431  (47.55404946, -122.31643107)  \n",
      "188248 -122.355674  (47.66417279, -122.35567404)  \n",
      "188249 -122.326311  (47.62481907, -122.32631118)  \n",
      "188250 -122.402023  (47.65063787, -122.40202329)  \n",
      "188251 -122.336811  (47.60480378, -122.33681078)  \n"
     ]
    }
   ],
   "source": [
    "print(df.tail())"
   ]
  },
  {
   "cell_type": "code",
   "execution_count": 96,
   "id": "a145f75b",
   "metadata": {},
   "outputs": [
    {
     "name": "stdout",
     "output_type": "stream",
     "text": [
      "          RecordNum           RecordType RecordTypeMapped RecordTypeDesc  \\\n",
      "158093  002652-21CP            Complaint          Request            NaN   \n",
      "82977    1031437-CT             Citation             Case       Land Use   \n",
      "31274    1014116-VI  Notice of Violation             Case   Construction   \n",
      "129103   1045821-VI  Notice of Violation             Case   Construction   \n",
      "28355    1011107-VI  Notice of Violation             Case            NaN   \n",
      "\n",
      "                                              Description   OpenDate  \\\n",
      "158093  Per Online; Insecure mailboxOur mailbox at thi... 2021-04-12   \n",
      "82977      Land Use Code Violation - outdoor junk storage 2014-02-25   \n",
      "31274   they are jacking up the house and digging up t... 2007-11-13   \n",
      "129103  Unpermitted construction of separate garage st... 2019-01-29   \n",
      "28355   DRAIN PIPE FROM KITCHEN SINK LEAKS--LANDLORD H... 2007-02-16   \n",
      "\n",
      "                             LastInspDate       LastInspResult StatusCurrent  \\\n",
      "158093  POINT (-122.30414684 47.66728544)                  NaN        Closed   \n",
      "82977   POINT (-122.39789635 47.65947241)  Compliance Achieved     Completed   \n",
      "31274   POINT (-122.25563371 47.51025544)                  NaN     Completed   \n",
      "129103  POINT (-122.38085916 47.68026912)            Completed     Completed   \n",
      "28355   POINT (-122.37587423 47.64005798)  Compliance Achieved     Completed   \n",
      "\n",
      "        OriginalAddress1 OriginalCity OriginalState OriginalZip  \\\n",
      "158093  5226 22ND AVE NE      SEATTLE            WA       98105   \n",
      "82977    4334 32ND AVE W      SEATTLE            WA       98199   \n",
      "31274   10048 62ND AVE S      SEATTLE            WA       98178   \n",
      "129103  7024 19th AVE NW      SEATTLE            WA         NaN   \n",
      "28355    2246 15TH AVE W      SEATTLE            WA       98119   \n",
      "\n",
      "                                                     Link   Latitude  \\\n",
      "158093  https://cosaccela.seattle.gov/portal/customize...  47.667285   \n",
      "82977   https://cosaccela.seattle.gov/portal/customize...  47.659472   \n",
      "31274   https://cosaccela.seattle.gov/portal/customize...  47.510255   \n",
      "129103  https://cosaccela.seattle.gov/portal/customize...  47.680269   \n",
      "28355   https://cosaccela.seattle.gov/portal/customize...  47.640058   \n",
      "\n",
      "         Longitude                     Location1  \n",
      "158093 -122.304147  (47.66728544, -122.30414684)  \n",
      "82977  -122.397896  (47.65947241, -122.39789635)  \n",
      "31274  -122.255634  (47.51025544, -122.25563371)  \n",
      "129103 -122.380859  (47.68026912, -122.38085916)  \n",
      "28355  -122.375874  (47.64005798, -122.37587423)  \n"
     ]
    }
   ],
   "source": [
    "print(df.sample(5))"
   ]
  },
  {
   "cell_type": "code",
   "execution_count": 97,
   "id": "559030ee",
   "metadata": {},
   "outputs": [
    {
     "name": "stdout",
     "output_type": "stream",
     "text": [
      "Number of rows:  188252\n",
      "Number of columns:  17\n"
     ]
    }
   ],
   "source": [
    "print(\"Number of rows: \", df.shape[0])\n",
    "print(\"Number of columns: \", df.shape[1])"
   ]
  },
  {
   "cell_type": "markdown",
   "id": "fe5cef61",
   "metadata": {},
   "source": [
    "# You know the type "
   ]
  },
  {
   "cell_type": "code",
   "execution_count": 98,
   "id": "cf7d35da",
   "metadata": {},
   "outputs": [
    {
     "name": "stdout",
     "output_type": "stream",
     "text": [
      "the types of categories are object\n",
      "Complaint              137235\n",
      "Notice of Violation     28464\n",
      "Citation                18598\n",
      "Tenant Relocation        3639\n",
      "Unfit Building            316\n",
      "Name: RecordType, dtype: int64\n"
     ]
    }
   ],
   "source": [
    "record_type = df['RecordType']\n",
    "print(f\"the types of categories are {record_type.dtype}\")\n",
    "print(record_type.value_counts())\n"
   ]
  },
  {
   "cell_type": "code",
   "execution_count": 99,
   "id": "7674e14f",
   "metadata": {},
   "outputs": [
    {
     "data": {
      "image/png": "[encoded data removed]",
      "text/plain": [
       "<Figure size 640x480 with 1 Axes>"
      ]
     },
     "metadata": {},
     "output_type": "display_data"
    }
   ],
   "source": [
    "import matplotlib.pyplot as plt\n",
    "\n",
    "record_type_value_counts = record_type.value_counts()\n",
    "plt.bar(record_type_value_counts.index, record_type_value_counts.values)\n",
    "plt.xlabel('RecordType')\n",
    "plt.ylabel('Count')\n",
    "plt.show()"
   ]
  },
  {
   "cell_type": "code",
   "execution_count": 100,
   "id": "0620e9ca",
   "metadata": {},
   "outputs": [
    {
     "name": "stdout",
     "output_type": "stream",
     "text": [
      "Category: Complaint\n",
      "['Construction without permits and change usage. See attached documents & pictures'\n",
      " 'FOUNDATION ANDSLOPE CONCERNSWITH CURRENT PROJECTTO NEIGHBORING PROPERTY'\n",
      " 'Inop vehicle vehicle on lot'\n",
      " 'Junk storage: contents of house in yard for 2+ weeks'\n",
      " 'Per online complaint, \"Vegetation overgrowth. This is a corner lots with several units. Tall weeds and grasses starting to creep out onto sidewalk.\"']\n",
      "\n",
      "Category: Notice of Violation\n",
      "['Tenant says there is repeated junk and garbage that is left in what he describes as an awning. Mgmt is aware of this and has refused to clean it up. Junk is very toxic and tenant is not able to open window due to the smell. You have permission to view from his unit.'\n",
      " \"Boats pumping sewage into Lake Washington (rec'd via referral from WA Dept. of Ecology).\"\n",
      " 'Junk storage on the doorsteps of the property at the portion located on 15th the Eastside of the building. The debris can be viewed from the public sidewalk.'\n",
      " 'large accumulation of junk, including discard appliance, furniture, household items, in rear parking lot'\n",
      " 'Anonymous caller says that there are wrecked vehicles and equipment in the front and side yard. She has observed cars, trucks, a flatbed, a propane tank in the garage and he also does welding jobs.']\n",
      "\n",
      "Category: Citation\n",
      "['VIOLATION OF THE SEATTLE WEEDS AND VEGETATION ORDINANCE  OBSERVED (OVER GROWTH OBSTRUCTING PUBLIC USE OF SIDEWALK ALONG S HILL ST AND ALONG 24TH AVE S.'\n",
      " 'Inspection shows vegetation encroaching into the street.'\n",
      " 'VIOLATION OF THE SEATTLE LAND USE AND ZONING CODE OBSERVED(PLASTIC BAGS, PILLOWS AND OTHER MATERIALS IN YARD)'\n",
      " 'A small trailer is in the required front/side yard.'\n",
      " 'Inspected property, observed violation of Weeds and Vegetation Ordinance. PR']\n",
      "\n",
      "Category: Tenant Relocation\n",
      "['Application for a Tenant Relocation License. Total units: 3; Total units occupied: 3. Demolition.'\n",
      " 'Application for a Tenant Relocation License. Total units:2; total units occupied: 2. Demolition.'\n",
      " 'Application for a Tenant Relocation License.  Total units: 3; total units occupied: 3.  Demolition.'\n",
      " 'Application for Tenant Relocation License. Total units: 17; total units occupied: 17. Demolition.'\n",
      " 'Application for a Tenant Relocation License.  Total units 1; total units occupied: 0.  Demolition.']\n",
      "\n",
      "Category: Unfit Building\n",
      "['This house has no roof structure and is open to the weather. I forwarded this complaint to our abatement inspector.'\n",
      " 'requested abatement' 'unfit, partially collapsed'\n",
      " 'ABATEMENT INSPECTION REQUEST' 'Unfit apt building11 units']\n",
      "\n"
     ]
    }
   ],
   "source": [
    "for category in categories.index:\n",
    "    print(f\"Category: {category}\")\n",
    "    examples = df[df['RecordType'] == category]['Description'].sample(5)\n",
    "    print(examples.values)\n",
    "    print()"
   ]
  },
  {
   "cell_type": "code",
   "execution_count": 101,
   "id": "e21e78be",
   "metadata": {},
   "outputs": [
    {
     "name": "stdout",
     "output_type": "stream",
     "text": [
      "Category: Complaint\n",
      "162773    PER CSB: from 13528 42nd ave ne, downhill to 1...\n",
      "132717    PER CSB: On top of garage located on alley. An...\n",
      "112037    Per online complaint: Construction of new buil...\n",
      "104825    PER PHONE COMPLAINT: Tenant has not had heat s...\n",
      "105535    Per 2/20/17 online complaint: \"Construct subst...\n",
      "Name: Description, dtype: object\n",
      "Category: Notice of Violation\n",
      "94064             Living in RV on vacant lot for 45+ days.\n",
      "56537    Landslide on Sunday took down a power pole at ...\n",
      "76279    Large laurel hedge blocking sidewalk completel...\n",
      "14712    LARGE TREE ON PRIVATE PROPERTY BLOCKING STREET...\n",
      "37078    Per Online Complaint:\"This is not the actual a...\n",
      "Name: Description, dtype: object\n",
      "Category: Citation\n",
      "5872      OBSERVED VIOLATION OF THE SEATTLE LAND USE AND...\n",
      "102173    1/22/16 rf Observed outdoor junk storage of va...\n",
      "92811     04/03/15 DW Observed outdoor storage in the re...\n",
      "55435     Weeds and vegetation encroahcing into the side...\n",
      "21372                  Many housing issues to be addressed.\n",
      "Name: Description, dtype: object\n",
      "Category: Tenant Relocation\n",
      "56131     Application for a Tenant Relocation License. T...\n",
      "166191    Owner's Certification of No Discplacement. Tot...\n",
      "21036             Application for Tenant Relocation License\n",
      "12448     Issuance of an \"Owner's Certification of Occup...\n",
      "82709     Application for a Tenant Relocation License.To...\n",
      "Name: Description, dtype: object\n",
      "Category: Unfit Building\n",
      "69156                                        Unfit building\n",
      "104673    6/8/17 - Unfit building was initiated but did ...\n",
      "149207                                                   UB\n",
      "128642                                                  NaN\n",
      "6534               Remodel abandoned house vacant and open.\n",
      "Name: Description, dtype: object\n"
     ]
    }
   ],
   "source": [
    "for category in record_type_value_counts.index:\n",
    "    print(f\"Category: {category}\")\n",
    "    examples = df[df['RecordType'] == category]['Description'].sample(5)\n",
    "    print(examples)\n"
   ]
  },
  {
   "cell_type": "code",
   "execution_count": 102,
   "id": "31ecaf61",
   "metadata": {},
   "outputs": [
    {
     "name": "stdout",
     "output_type": "stream",
     "text": [
      "    RecordType  OriginalZip                                        Description\n",
      "30   Complaint      98105.0                     Cars parked on the front lawn.\n",
      "33   Complaint      98105.0  This is the frat that had the two members over...\n",
      "40   Complaint      98105.0  permit condition of permit #714425 prohibited ...\n",
      "121  Complaint      98105.0                     Cars parked on the front lawn.\n",
      "122  Complaint      98105.0                     Cars parked on the front lawn.\n"
     ]
    }
   ],
   "source": [
    "filtered_df = new_df[new_df['OriginalZip'] == 98105]\n",
    "print(filtered_df.head())"
   ]
  },
  {
   "cell_type": "code",
   "execution_count": 103,
   "id": "815f2d17",
   "metadata": {},
   "outputs": [
    {
     "name": "stdout",
     "output_type": "stream",
     "text": [
      "Complaint              6687\n",
      "Notice of Violation    1574\n",
      "Citation                827\n",
      "Tenant Relocation       228\n",
      "Unfit Building           18\n",
      "Name: RecordType, dtype: int64\n"
     ]
    }
   ],
   "source": [
    "fitered_record_type_value_count = filtered_df['RecordType'].value_counts()\n",
    "print(fitered_record_type_value_count)"
   ]
  },
  {
   "cell_type": "code",
   "execution_count": 104,
   "id": "1ba632e2",
   "metadata": {},
   "outputs": [
    {
     "name": "stdout",
     "output_type": "stream",
     "text": [
      "Category: Complaint\n",
      "Seattle overall: 0.73\n",
      "Zip code 98105: 0.72\n",
      "\n",
      "Category: Notice of Violation\n",
      "Seattle overall: 0.15\n",
      "Zip code 98105: 0.17\n",
      "\n",
      "Category: Citation\n",
      "Seattle overall: 0.10\n",
      "Zip code 98105: 0.09\n",
      "\n",
      "Category: Tenant Relocation\n",
      "Seattle overall: 0.02\n",
      "Zip code 98105: 0.02\n",
      "\n",
      "Category: Unfit Building\n",
      "Seattle overall: 0.00\n",
      "Zip code 98105: 0.00\n",
      "\n"
     ]
    }
   ],
   "source": [
    "record_type_value_count = df['RecordType'].value_counts(normalize=True)\n",
    "fitered_record_type_value_count = filtered_df['RecordType'].value_counts(normalize=True)\n",
    "\n",
    "for category in record_type_value_count.index:\n",
    "    print(f\"Category: {category}\")\n",
    "    print(f\"Seattle overall: {record_type_value_count[category]:.2f}\")\n",
    "    print(f\"Zip code 98105: {fitered_record_type_value_count.get(category, 0):.2f}\")\n",
    "    print()"
   ]
  },
  {
   "cell_type": "code",
   "execution_count": 105,
   "id": "37f184fa",
   "metadata": {},
   "outputs": [
    {
     "name": "stdout",
     "output_type": "stream",
     "text": [
      "Category: Complaint\n",
      "99411                online: parking in required front yard\n",
      "27153     per online complaint dated on 10/22/2007-\"the ...\n",
      "110947          PER CSB #1090-17 COMPLAINT: Parked in yard.\n",
      "73841     Copied from 10/7/13 online complaint:\"The owne...\n",
      "18944     Per online complaint dated on 11/6/2006-\"Vario...\n",
      "Name: Description, dtype: object\n",
      "Category: Notice of Violation\n",
      "128114    Concerns about rat abatement plan for project....\n",
      "103574    House has been remodeled recently. A new struc...\n",
      "19741     Water damaged ceiling - crack in ceiling - fun...\n",
      "62954                    OFF-PREMISES ADVERTISING DISPLAYED\n",
      "12704     TALL HEDGE BLOCKING ACCESS AND MAKING IT DIFFI...\n",
      "Name: Description, dtype: object\n",
      "Category: Citation\n",
      "12626     Inspections shows violations of Housing Code a...\n",
      "39891     Inspected property, observed violation of Land...\n",
      "14296     Observed illegal dwelling unit.  Housing viola...\n",
      "138223                                       POTA - DEPOSIT\n",
      "56427     zoning-large amounts of construction debris, d...\n",
      "Name: Description, dtype: object\n",
      "Category: Tenant Relocation\n",
      "5550                         No Displacement Certification.\n",
      "124026    Application for a Tenant Relocation License. T...\n",
      "84498     Application for a Tenant Relocation License.  ...\n",
      "93956     Application for a Tenant Relocation License.  ...\n",
      "103252    Issuance of an \"Owner's Certification of Exemp...\n",
      "Name: Description, dtype: object\n",
      "Category: Unfit Building\n",
      "6523                             unfit bldg paid inspection\n",
      "128124    BLDG UNFIT FOR HUMAN HABITATION03/30/18-VS-Ver...\n",
      "12625                                                Duplex\n",
      "127438                 Building Unfit for Human Habitation.\n",
      "12624                               Single family structure\n",
      "Name: Description, dtype: object\n"
     ]
    }
   ],
   "source": [
    "for category in fitered_record_type_value_count.index:\n",
    "    print(f\"Category: {category}\")\n",
    "    examples = filtered_df[filtered_df['RecordType'] == category]['Description'].sample(5)\n",
    "    print(examples)"
   ]
  },
  {
   "cell_type": "code",
   "execution_count": 106,
   "id": "f84adf6f",
   "metadata": {},
   "outputs": [],
   "source": [
    "new_df.to_csv('Code_Complaints_and_Violations_three_column.tsv', sep='\\t', index=False)\n"
   ]
  },
  {
   "cell_type": "markdown",
   "id": "0fa1899f",
   "metadata": {},
   "source": [
    "# It's about time"
   ]
  },
  {
   "cell_type": "code",
   "execution_count": 107,
   "id": "ce178ab8",
   "metadata": {},
   "outputs": [
    {
     "name": "stdout",
     "output_type": "stream",
     "text": [
      "           OriginalZip\n",
      "OpenDate              \n",
      "2003-11-10       98101\n",
      "2003-11-10       98103\n",
      "2003-11-10       98122\n",
      "2003-11-10       98117\n",
      "2003-11-10       98101\n",
      "...                ...\n",
      "2023-05-13       98108\n",
      "2023-05-13       98103\n",
      "2023-05-13       98102\n",
      "2023-05-13       98199\n",
      "2023-05-13       98104\n",
      "\n",
      "[188252 rows x 1 columns]\n"
     ]
    }
   ],
   "source": [
    "timeseries = df[[\"OpenDate\", \"OriginalZip\"]].set_index(\"OpenDate\")\n",
    "\n",
    "print(timeseries)"
   ]
  },
  {
   "cell_type": "code",
   "execution_count": 113,
   "id": "a99eee6a",
   "metadata": {},
   "outputs": [
    {
     "data": {
      "text/plain": [
       "'1.5.3'"
      ]
     },
     "execution_count": 113,
     "metadata": {},
     "output_type": "execute_result"
    }
   ],
   "source": [
    " pd.__version__"
   ]
  },
  {
   "cell_type": "code",
   "execution_count": 109,
   "id": "a0e569ce",
   "metadata": {},
   "outputs": [
    {
     "data": {
      "image/png": "[encoded data removed]",
      "text/plain": [
       "<Figure size 640x480 with 1 Axes>"
      ]
     },
     "metadata": {},
     "output_type": "display_data"
    }
   ],
   "source": [
    "plt.figure()\n",
    "plt.plot(timeseries.resample(\"W\").count())\n",
    "plt.show()"
   ]
  },
  {
   "cell_type": "markdown",
   "id": "d6f7b2b2",
   "metadata": {},
   "source": [
    "# You've got questions, you've got answers"
   ]
  },
  {
   "cell_type": "code",
   "execution_count": 110,
   "id": "7fef0770",
   "metadata": {},
   "outputs": [
    {
     "name": "stdout",
     "output_type": "stream",
     "text": [
      "Latitude: 47.46675965 ~ 47.75813624\n",
      "Longitude: -122.42010337 ~ -122.22616852\n"
     ]
    }
   ],
   "source": [
    "# What is the latitude and longitude range of all records\n",
    "\n",
    "print(f\"Latitude: {df['Latitude'].min()} ~ {df['Latitude'].max()}\")\n",
    "print(f\"Longitude: {df['Longitude'].min()} ~ {df['Longitude'].max()}\")"
   ]
  }
 ],
 "metadata": {
  "kernelspec": {
   "display_name": "Python 3 (ipykernel)",
   "language": "python",
   "name": "python3"
  },
  "language_info": {
   "codemirror_mode": {
    "name": "ipython",
    "version": 3
   },
   "file_extension": ".py",
   "mimetype": "text/x-python",
   "name": "python",
   "nbconvert_exporter": "python",
   "pygments_lexer": "ipython3",
   "version": "3.10.9"
  }
 },
 "nbformat": 4,
 "nbformat_minor": 5
}
