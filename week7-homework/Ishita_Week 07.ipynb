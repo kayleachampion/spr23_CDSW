{
 "cells": [
  {
   "cell_type": "markdown",
   "id": "a39ae6ec",
   "metadata": {},
   "source": [
    "# Getting started with pandas and Seattle \"complaint\" data"
   ]
  },
  {
   "cell_type": "code",
   "execution_count": 1,
   "id": "713c4d78",
   "metadata": {},
   "outputs": [],
   "source": [
    "import json \n",
    "import pandas as pd"
   ]
  },
  {
   "cell_type": "code",
   "execution_count": 2,
   "id": "c5e6ecca",
   "metadata": {},
   "outputs": [
    {
     "name": "stdout",
     "output_type": "stream",
     "text": [
      "     RecordNum RecordType RecordTypeMapped   RecordTypeDesc  \\\n",
      "0  001001-03CP  Complaint          Request     Construction   \n",
      "1  001002-03CP  Complaint          Request     Construction   \n",
      "2  001003-03CP  Complaint          Request  Vacant Building   \n",
      "3  001004-03CP  Complaint          Request         Land Use   \n",
      "4  001005-03CP  Complaint          Request         Land Use   \n",
      "\n",
      "                                         Description    OpenDate  \\\n",
      "0  Elevator gets stuck at least 3 times a week, f...  2003-11-10   \n",
      "1  Concerned about RV pumpout that is currently b...  2003-11-10   \n",
      "2  The vacant red apple building and adjacent bui...  2003-11-10   \n",
      "3  Trailor and camper parked in back yard.  Peopl...  2003-11-10   \n",
      "4  Illegal use of property.\"Hawkers\" or vendors (...  2003-11-10   \n",
      "\n",
      "                        LastInspDate LastInspResult StatusCurrent  \\\n",
      "0  POINT (-122.33582172 47.60642293)      Completed     Completed   \n",
      "1  POINT (-122.35191884 47.68639169)      Completed     Completed   \n",
      "2  POINT (-122.31388805 47.61559829)      Completed     Completed   \n",
      "3  POINT (-122.36215164 47.69226044)      Completed     Completed   \n",
      "4  POINT (-122.33832038 47.60911773)      Completed     Completed   \n",
      "\n",
      "  OriginalAddress1 OriginalCity OriginalState  OriginalZip  \\\n",
      "0     1100 2ND AVE      SEATTLE            WA      98101.0   \n",
      "1    512 N 79TH ST      SEATTLE            WA      98103.0   \n",
      "2   1400 E PINE ST      SEATTLE            WA      98122.0   \n",
      "3   332 NW 87TH ST      SEATTLE            WA      98117.0   \n",
      "4     1430 2ND AVE      SEATTLE            WA      98101.0   \n",
      "\n",
      "                                                Link   Latitude   Longitude  \\\n",
      "0  https://cosaccela.seattle.gov/portal/customize...  47.606423 -122.335822   \n",
      "1  https://cosaccela.seattle.gov/portal/customize...  47.686392 -122.351919   \n",
      "2  https://cosaccela.seattle.gov/portal/customize...  47.615598 -122.313888   \n",
      "3  https://cosaccela.seattle.gov/portal/customize...  47.692260 -122.362152   \n",
      "4  https://cosaccela.seattle.gov/portal/customize...  47.609118 -122.338320   \n",
      "\n",
      "                      Location1  \n",
      "0  (47.60642293, -122.33582172)  \n",
      "1  (47.68639169, -122.35191884)  \n",
      "2  (47.61559829, -122.31388805)  \n",
      "3  (47.69226044, -122.36215164)  \n",
      "4  (47.60911773, -122.33832038)  \n"
     ]
    }
   ],
   "source": [
    "data_frame = pd.read_csv(\"Code_Complaints_and_Violations.csv\")\n",
    "print (data_frame.head())"
   ]
  },
  {
   "cell_type": "code",
   "execution_count": 3,
   "id": "c119f17a",
   "metadata": {},
   "outputs": [
    {
     "name": "stdout",
     "output_type": "stream",
     "text": [
      "Columns:\n",
      "Index(['RecordNum', 'RecordType', 'RecordTypeMapped', 'RecordTypeDesc',\n",
      "       'Description', 'OpenDate', 'LastInspDate', 'LastInspResult',\n",
      "       'StatusCurrent', 'OriginalAddress1', 'OriginalCity', 'OriginalState',\n",
      "       'OriginalZip', 'Link', 'Latitude', 'Longitude', 'Location1'],\n",
      "      dtype='object')\n",
      "First few rows:\n",
      "     RecordNum RecordType RecordTypeMapped   RecordTypeDesc  \\\n",
      "0  001001-03CP  Complaint          Request     Construction   \n",
      "1  001002-03CP  Complaint          Request     Construction   \n",
      "2  001003-03CP  Complaint          Request  Vacant Building   \n",
      "3  001004-03CP  Complaint          Request         Land Use   \n",
      "4  001005-03CP  Complaint          Request         Land Use   \n",
      "\n",
      "                                         Description    OpenDate  \\\n",
      "0  Elevator gets stuck at least 3 times a week, f...  2003-11-10   \n",
      "1  Concerned about RV pumpout that is currently b...  2003-11-10   \n",
      "2  The vacant red apple building and adjacent bui...  2003-11-10   \n",
      "3  Trailor and camper parked in back yard.  Peopl...  2003-11-10   \n",
      "4  Illegal use of property.\"Hawkers\" or vendors (...  2003-11-10   \n",
      "\n",
      "                        LastInspDate LastInspResult StatusCurrent  \\\n",
      "0  POINT (-122.33582172 47.60642293)      Completed     Completed   \n",
      "1  POINT (-122.35191884 47.68639169)      Completed     Completed   \n",
      "2  POINT (-122.31388805 47.61559829)      Completed     Completed   \n",
      "3  POINT (-122.36215164 47.69226044)      Completed     Completed   \n",
      "4  POINT (-122.33832038 47.60911773)      Completed     Completed   \n",
      "\n",
      "  OriginalAddress1 OriginalCity OriginalState  OriginalZip  \\\n",
      "0     1100 2ND AVE      SEATTLE            WA      98101.0   \n",
      "1    512 N 79TH ST      SEATTLE            WA      98103.0   \n",
      "2   1400 E PINE ST      SEATTLE            WA      98122.0   \n",
      "3   332 NW 87TH ST      SEATTLE            WA      98117.0   \n",
      "4     1430 2ND AVE      SEATTLE            WA      98101.0   \n",
      "\n",
      "                                                Link   Latitude   Longitude  \\\n",
      "0  https://cosaccela.seattle.gov/portal/customize...  47.606423 -122.335822   \n",
      "1  https://cosaccela.seattle.gov/portal/customize...  47.686392 -122.351919   \n",
      "2  https://cosaccela.seattle.gov/portal/customize...  47.615598 -122.313888   \n",
      "3  https://cosaccela.seattle.gov/portal/customize...  47.692260 -122.362152   \n",
      "4  https://cosaccela.seattle.gov/portal/customize...  47.609118 -122.338320   \n",
      "\n",
      "                      Location1  \n",
      "0  (47.60642293, -122.33582172)  \n",
      "1  (47.68639169, -122.35191884)  \n",
      "2  (47.61559829, -122.31388805)  \n",
      "3  (47.69226044, -122.36215164)  \n",
      "4  (47.60911773, -122.33832038)  \n",
      "Last few rows:\n",
      "          RecordNum           RecordType RecordTypeMapped   RecordTypeDesc  \\\n",
      "188125  004881-23CP            Complaint          Request  LandLord/Tenant   \n",
      "188126   1055984-VI  Notice of Violation             Case              NaN   \n",
      "188127  004882-23CP            Complaint          Request              NaN   \n",
      "188128  004883-23CP            Complaint          Request              NaN   \n",
      "188129  004884-23CP            Complaint          Request              NaN   \n",
      "\n",
      "                                              Description    OpenDate  \\\n",
      "188125  NOTICE OF INTENT TO ENTERAND PRESUMED ABANDONMENT  2023-05-10   \n",
      "188126  COMPLY OR VACATEMOLD, CEILING LEAKPER PIPE PRO...  2023-05-10   \n",
      "188127  The person residing at 1235 S. Donovan Street ...  2023-05-10   \n",
      "188128  The General contractor Iliya Kovalev doesn't w...  2023-05-10   \n",
      "188129  The traffic rush hour on Fairview and Denny Wa...  2023-05-10   \n",
      "\n",
      "                             LastInspDate LastInspResult        StatusCurrent  \\\n",
      "188125  POINT (-122.34702054 47.73157296)            NaN  Under Investigation   \n",
      "188126  POINT (-122.34224721 47.61513867)            NaN            Initiated   \n",
      "188127  POINT (-122.31613662 47.52543336)            NaN            Initiated   \n",
      "188128  POINT (-122.39165973 47.68630858)            NaN            Initiated   \n",
      "188129  POINT (-122.33510728 47.61913747)            NaN            Initiated   \n",
      "\n",
      "          OriginalAddress1 OriginalCity OriginalState  OriginalZip  \\\n",
      "188125  14100 LINDEN AVE N      SEATTLE            WA      98133.0   \n",
      "188126    420 BLANCHARD ST      SEATTLE            WA      98121.0   \n",
      "188127   1235 S DONOVAN ST      SEATTLE            WA      98108.0   \n",
      "188128    7744 EARL AVE NW      SEATTLE            WA      98117.0   \n",
      "188129  111 Fairview AVE N          NaN           NaN          NaN   \n",
      "\n",
      "                                                     Link   Latitude  \\\n",
      "188125  https://cosaccela.seattle.gov/portal/customize...  47.731573   \n",
      "188126  https://cosaccela.seattle.gov/portal/customize...  47.615139   \n",
      "188127  https://cosaccela.seattle.gov/portal/customize...  47.525433   \n",
      "188128  https://cosaccela.seattle.gov/portal/customize...  47.686309   \n",
      "188129  https://cosaccela.seattle.gov/portal/customize...  47.619137   \n",
      "\n",
      "         Longitude                     Location1  \n",
      "188125 -122.347021  (47.73157296, -122.34702054)  \n",
      "188126 -122.342247  (47.61513867, -122.34224721)  \n",
      "188127 -122.316137  (47.52543336, -122.31613662)  \n",
      "188128 -122.391660  (47.68630858, -122.39165973)  \n",
      "188129 -122.335107  (47.61913747, -122.33510728)  \n"
     ]
    }
   ],
   "source": [
    "data_frame = pd.read_csv(\"Code_Complaints_and_Violations.csv\")\n",
    "\n",
    "print(\"Columns:\")\n",
    "print(data_frame.columns)\n",
    "\n",
    "# Print the first few rows\n",
    "print(\"First few rows:\")\n",
    "print(data_frame.head())\n",
    "\n",
    "# Print the last few rows\n",
    "print(\"Last few rows:\")\n",
    "print(data_frame.tail())"
   ]
  },
  {
   "cell_type": "code",
   "execution_count": 4,
   "id": "3a199688",
   "metadata": {},
   "outputs": [
    {
     "name": "stdout",
     "output_type": "stream",
     "text": [
      "Number of columns: 17\n",
      "Number of rows: 188130\n"
     ]
    }
   ],
   "source": [
    "num_columns = len(data_frame.columns)\n",
    "print(\"Number of columns:\", num_columns)\n",
    "\n",
    "num_rows = len(data_frame)\n",
    "print(\"Number of rows:\", num_rows)"
   ]
  },
  {
   "cell_type": "code",
   "execution_count": 5,
   "id": "c04ffc3d",
   "metadata": {},
   "outputs": [
    {
     "data": {
      "text/html": [
       "<div>\n",
       "<style scoped>\n",
       "    .dataframe tbody tr th:only-of-type {\n",
       "        vertical-align: middle;\n",
       "    }\n",
       "\n",
       "    .dataframe tbody tr th {\n",
       "        vertical-align: top;\n",
       "    }\n",
       "\n",
       "    .dataframe thead th {\n",
       "        text-align: right;\n",
       "    }\n",
       "</style>\n",
       "<table border=\"1\" class=\"dataframe\">\n",
       "  <thead>\n",
       "    <tr style=\"text-align: right;\">\n",
       "      <th></th>\n",
       "      <th>RecordNum</th>\n",
       "      <th>RecordType</th>\n",
       "      <th>RecordTypeMapped</th>\n",
       "      <th>RecordTypeDesc</th>\n",
       "      <th>Description</th>\n",
       "      <th>OpenDate</th>\n",
       "      <th>LastInspDate</th>\n",
       "      <th>LastInspResult</th>\n",
       "      <th>StatusCurrent</th>\n",
       "      <th>OriginalAddress1</th>\n",
       "      <th>OriginalCity</th>\n",
       "      <th>OriginalState</th>\n",
       "      <th>OriginalZip</th>\n",
       "      <th>Link</th>\n",
       "      <th>Latitude</th>\n",
       "      <th>Longitude</th>\n",
       "      <th>Location1</th>\n",
       "    </tr>\n",
       "  </thead>\n",
       "  <tbody>\n",
       "    <tr>\n",
       "      <th>0</th>\n",
       "      <td>001001-03CP</td>\n",
       "      <td>Complaint</td>\n",
       "      <td>Request</td>\n",
       "      <td>Construction</td>\n",
       "      <td>Elevator gets stuck at least 3 times a week, f...</td>\n",
       "      <td>2003-11-10</td>\n",
       "      <td>POINT (-122.33582172 47.60642293)</td>\n",
       "      <td>Completed</td>\n",
       "      <td>Completed</td>\n",
       "      <td>1100 2ND AVE</td>\n",
       "      <td>SEATTLE</td>\n",
       "      <td>WA</td>\n",
       "      <td>98101.0</td>\n",
       "      <td>https://cosaccela.seattle.gov/portal/customize...</td>\n",
       "      <td>47.606423</td>\n",
       "      <td>-122.335822</td>\n",
       "      <td>(47.60642293, -122.33582172)</td>\n",
       "    </tr>\n",
       "    <tr>\n",
       "      <th>1</th>\n",
       "      <td>001002-03CP</td>\n",
       "      <td>Complaint</td>\n",
       "      <td>Request</td>\n",
       "      <td>Construction</td>\n",
       "      <td>Concerned about RV pumpout that is currently b...</td>\n",
       "      <td>2003-11-10</td>\n",
       "      <td>POINT (-122.35191884 47.68639169)</td>\n",
       "      <td>Completed</td>\n",
       "      <td>Completed</td>\n",
       "      <td>512 N 79TH ST</td>\n",
       "      <td>SEATTLE</td>\n",
       "      <td>WA</td>\n",
       "      <td>98103.0</td>\n",
       "      <td>https://cosaccela.seattle.gov/portal/customize...</td>\n",
       "      <td>47.686392</td>\n",
       "      <td>-122.351919</td>\n",
       "      <td>(47.68639169, -122.35191884)</td>\n",
       "    </tr>\n",
       "    <tr>\n",
       "      <th>2</th>\n",
       "      <td>001003-03CP</td>\n",
       "      <td>Complaint</td>\n",
       "      <td>Request</td>\n",
       "      <td>Vacant Building</td>\n",
       "      <td>The vacant red apple building and adjacent bui...</td>\n",
       "      <td>2003-11-10</td>\n",
       "      <td>POINT (-122.31388805 47.61559829)</td>\n",
       "      <td>Completed</td>\n",
       "      <td>Completed</td>\n",
       "      <td>1400 E PINE ST</td>\n",
       "      <td>SEATTLE</td>\n",
       "      <td>WA</td>\n",
       "      <td>98122.0</td>\n",
       "      <td>https://cosaccela.seattle.gov/portal/customize...</td>\n",
       "      <td>47.615598</td>\n",
       "      <td>-122.313888</td>\n",
       "      <td>(47.61559829, -122.31388805)</td>\n",
       "    </tr>\n",
       "    <tr>\n",
       "      <th>3</th>\n",
       "      <td>001004-03CP</td>\n",
       "      <td>Complaint</td>\n",
       "      <td>Request</td>\n",
       "      <td>Land Use</td>\n",
       "      <td>Trailor and camper parked in back yard.  Peopl...</td>\n",
       "      <td>2003-11-10</td>\n",
       "      <td>POINT (-122.36215164 47.69226044)</td>\n",
       "      <td>Completed</td>\n",
       "      <td>Completed</td>\n",
       "      <td>332 NW 87TH ST</td>\n",
       "      <td>SEATTLE</td>\n",
       "      <td>WA</td>\n",
       "      <td>98117.0</td>\n",
       "      <td>https://cosaccela.seattle.gov/portal/customize...</td>\n",
       "      <td>47.692260</td>\n",
       "      <td>-122.362152</td>\n",
       "      <td>(47.69226044, -122.36215164)</td>\n",
       "    </tr>\n",
       "    <tr>\n",
       "      <th>4</th>\n",
       "      <td>001005-03CP</td>\n",
       "      <td>Complaint</td>\n",
       "      <td>Request</td>\n",
       "      <td>Land Use</td>\n",
       "      <td>Illegal use of property.\"Hawkers\" or vendors (...</td>\n",
       "      <td>2003-11-10</td>\n",
       "      <td>POINT (-122.33832038 47.60911773)</td>\n",
       "      <td>Completed</td>\n",
       "      <td>Completed</td>\n",
       "      <td>1430 2ND AVE</td>\n",
       "      <td>SEATTLE</td>\n",
       "      <td>WA</td>\n",
       "      <td>98101.0</td>\n",
       "      <td>https://cosaccela.seattle.gov/portal/customize...</td>\n",
       "      <td>47.609118</td>\n",
       "      <td>-122.338320</td>\n",
       "      <td>(47.60911773, -122.33832038)</td>\n",
       "    </tr>\n",
       "    <tr>\n",
       "      <th>...</th>\n",
       "      <td>...</td>\n",
       "      <td>...</td>\n",
       "      <td>...</td>\n",
       "      <td>...</td>\n",
       "      <td>...</td>\n",
       "      <td>...</td>\n",
       "      <td>...</td>\n",
       "      <td>...</td>\n",
       "      <td>...</td>\n",
       "      <td>...</td>\n",
       "      <td>...</td>\n",
       "      <td>...</td>\n",
       "      <td>...</td>\n",
       "      <td>...</td>\n",
       "      <td>...</td>\n",
       "      <td>...</td>\n",
       "      <td>...</td>\n",
       "    </tr>\n",
       "    <tr>\n",
       "      <th>188125</th>\n",
       "      <td>004881-23CP</td>\n",
       "      <td>Complaint</td>\n",
       "      <td>Request</td>\n",
       "      <td>LandLord/Tenant</td>\n",
       "      <td>NOTICE OF INTENT TO ENTERAND PRESUMED ABANDONMENT</td>\n",
       "      <td>2023-05-10</td>\n",
       "      <td>POINT (-122.34702054 47.73157296)</td>\n",
       "      <td>NaN</td>\n",
       "      <td>Under Investigation</td>\n",
       "      <td>14100 LINDEN AVE N</td>\n",
       "      <td>SEATTLE</td>\n",
       "      <td>WA</td>\n",
       "      <td>98133.0</td>\n",
       "      <td>https://cosaccela.seattle.gov/portal/customize...</td>\n",
       "      <td>47.731573</td>\n",
       "      <td>-122.347021</td>\n",
       "      <td>(47.73157296, -122.34702054)</td>\n",
       "    </tr>\n",
       "    <tr>\n",
       "      <th>188126</th>\n",
       "      <td>1055984-VI</td>\n",
       "      <td>Notice of Violation</td>\n",
       "      <td>Case</td>\n",
       "      <td>NaN</td>\n",
       "      <td>COMPLY OR VACATEMOLD, CEILING LEAKPER PIPE PRO...</td>\n",
       "      <td>2023-05-10</td>\n",
       "      <td>POINT (-122.34224721 47.61513867)</td>\n",
       "      <td>NaN</td>\n",
       "      <td>Initiated</td>\n",
       "      <td>420 BLANCHARD ST</td>\n",
       "      <td>SEATTLE</td>\n",
       "      <td>WA</td>\n",
       "      <td>98121.0</td>\n",
       "      <td>https://cosaccela.seattle.gov/portal/customize...</td>\n",
       "      <td>47.615139</td>\n",
       "      <td>-122.342247</td>\n",
       "      <td>(47.61513867, -122.34224721)</td>\n",
       "    </tr>\n",
       "    <tr>\n",
       "      <th>188127</th>\n",
       "      <td>004882-23CP</td>\n",
       "      <td>Complaint</td>\n",
       "      <td>Request</td>\n",
       "      <td>NaN</td>\n",
       "      <td>The person residing at 1235 S. Donovan Street ...</td>\n",
       "      <td>2023-05-10</td>\n",
       "      <td>POINT (-122.31613662 47.52543336)</td>\n",
       "      <td>NaN</td>\n",
       "      <td>Initiated</td>\n",
       "      <td>1235 S DONOVAN ST</td>\n",
       "      <td>SEATTLE</td>\n",
       "      <td>WA</td>\n",
       "      <td>98108.0</td>\n",
       "      <td>https://cosaccela.seattle.gov/portal/customize...</td>\n",
       "      <td>47.525433</td>\n",
       "      <td>-122.316137</td>\n",
       "      <td>(47.52543336, -122.31613662)</td>\n",
       "    </tr>\n",
       "    <tr>\n",
       "      <th>188128</th>\n",
       "      <td>004883-23CP</td>\n",
       "      <td>Complaint</td>\n",
       "      <td>Request</td>\n",
       "      <td>NaN</td>\n",
       "      <td>The General contractor Iliya Kovalev doesn't w...</td>\n",
       "      <td>2023-05-10</td>\n",
       "      <td>POINT (-122.39165973 47.68630858)</td>\n",
       "      <td>NaN</td>\n",
       "      <td>Initiated</td>\n",
       "      <td>7744 EARL AVE NW</td>\n",
       "      <td>SEATTLE</td>\n",
       "      <td>WA</td>\n",
       "      <td>98117.0</td>\n",
       "      <td>https://cosaccela.seattle.gov/portal/customize...</td>\n",
       "      <td>47.686309</td>\n",
       "      <td>-122.391660</td>\n",
       "      <td>(47.68630858, -122.39165973)</td>\n",
       "    </tr>\n",
       "    <tr>\n",
       "      <th>188129</th>\n",
       "      <td>004884-23CP</td>\n",
       "      <td>Complaint</td>\n",
       "      <td>Request</td>\n",
       "      <td>NaN</td>\n",
       "      <td>The traffic rush hour on Fairview and Denny Wa...</td>\n",
       "      <td>2023-05-10</td>\n",
       "      <td>POINT (-122.33510728 47.61913747)</td>\n",
       "      <td>NaN</td>\n",
       "      <td>Initiated</td>\n",
       "      <td>111 Fairview AVE N</td>\n",
       "      <td>NaN</td>\n",
       "      <td>NaN</td>\n",
       "      <td>NaN</td>\n",
       "      <td>https://cosaccela.seattle.gov/portal/customize...</td>\n",
       "      <td>47.619137</td>\n",
       "      <td>-122.335107</td>\n",
       "      <td>(47.61913747, -122.33510728)</td>\n",
       "    </tr>\n",
       "  </tbody>\n",
       "</table>\n",
       "<p>188130 rows × 17 columns</p>\n",
       "</div>"
      ],
      "text/plain": [
       "          RecordNum           RecordType RecordTypeMapped   RecordTypeDesc  \\\n",
       "0       001001-03CP            Complaint          Request     Construction   \n",
       "1       001002-03CP            Complaint          Request     Construction   \n",
       "2       001003-03CP            Complaint          Request  Vacant Building   \n",
       "3       001004-03CP            Complaint          Request         Land Use   \n",
       "4       001005-03CP            Complaint          Request         Land Use   \n",
       "...             ...                  ...              ...              ...   \n",
       "188125  004881-23CP            Complaint          Request  LandLord/Tenant   \n",
       "188126   1055984-VI  Notice of Violation             Case              NaN   \n",
       "188127  004882-23CP            Complaint          Request              NaN   \n",
       "188128  004883-23CP            Complaint          Request              NaN   \n",
       "188129  004884-23CP            Complaint          Request              NaN   \n",
       "\n",
       "                                              Description    OpenDate  \\\n",
       "0       Elevator gets stuck at least 3 times a week, f...  2003-11-10   \n",
       "1       Concerned about RV pumpout that is currently b...  2003-11-10   \n",
       "2       The vacant red apple building and adjacent bui...  2003-11-10   \n",
       "3       Trailor and camper parked in back yard.  Peopl...  2003-11-10   \n",
       "4       Illegal use of property.\"Hawkers\" or vendors (...  2003-11-10   \n",
       "...                                                   ...         ...   \n",
       "188125  NOTICE OF INTENT TO ENTERAND PRESUMED ABANDONMENT  2023-05-10   \n",
       "188126  COMPLY OR VACATEMOLD, CEILING LEAKPER PIPE PRO...  2023-05-10   \n",
       "188127  The person residing at 1235 S. Donovan Street ...  2023-05-10   \n",
       "188128  The General contractor Iliya Kovalev doesn't w...  2023-05-10   \n",
       "188129  The traffic rush hour on Fairview and Denny Wa...  2023-05-10   \n",
       "\n",
       "                             LastInspDate LastInspResult        StatusCurrent  \\\n",
       "0       POINT (-122.33582172 47.60642293)      Completed            Completed   \n",
       "1       POINT (-122.35191884 47.68639169)      Completed            Completed   \n",
       "2       POINT (-122.31388805 47.61559829)      Completed            Completed   \n",
       "3       POINT (-122.36215164 47.69226044)      Completed            Completed   \n",
       "4       POINT (-122.33832038 47.60911773)      Completed            Completed   \n",
       "...                                   ...            ...                  ...   \n",
       "188125  POINT (-122.34702054 47.73157296)            NaN  Under Investigation   \n",
       "188126  POINT (-122.34224721 47.61513867)            NaN            Initiated   \n",
       "188127  POINT (-122.31613662 47.52543336)            NaN            Initiated   \n",
       "188128  POINT (-122.39165973 47.68630858)            NaN            Initiated   \n",
       "188129  POINT (-122.33510728 47.61913747)            NaN            Initiated   \n",
       "\n",
       "          OriginalAddress1 OriginalCity OriginalState  OriginalZip  \\\n",
       "0             1100 2ND AVE      SEATTLE            WA      98101.0   \n",
       "1            512 N 79TH ST      SEATTLE            WA      98103.0   \n",
       "2           1400 E PINE ST      SEATTLE            WA      98122.0   \n",
       "3           332 NW 87TH ST      SEATTLE            WA      98117.0   \n",
       "4             1430 2ND AVE      SEATTLE            WA      98101.0   \n",
       "...                    ...          ...           ...          ...   \n",
       "188125  14100 LINDEN AVE N      SEATTLE            WA      98133.0   \n",
       "188126    420 BLANCHARD ST      SEATTLE            WA      98121.0   \n",
       "188127   1235 S DONOVAN ST      SEATTLE            WA      98108.0   \n",
       "188128    7744 EARL AVE NW      SEATTLE            WA      98117.0   \n",
       "188129  111 Fairview AVE N          NaN           NaN          NaN   \n",
       "\n",
       "                                                     Link   Latitude  \\\n",
       "0       https://cosaccela.seattle.gov/portal/customize...  47.606423   \n",
       "1       https://cosaccela.seattle.gov/portal/customize...  47.686392   \n",
       "2       https://cosaccela.seattle.gov/portal/customize...  47.615598   \n",
       "3       https://cosaccela.seattle.gov/portal/customize...  47.692260   \n",
       "4       https://cosaccela.seattle.gov/portal/customize...  47.609118   \n",
       "...                                                   ...        ...   \n",
       "188125  https://cosaccela.seattle.gov/portal/customize...  47.731573   \n",
       "188126  https://cosaccela.seattle.gov/portal/customize...  47.615139   \n",
       "188127  https://cosaccela.seattle.gov/portal/customize...  47.525433   \n",
       "188128  https://cosaccela.seattle.gov/portal/customize...  47.686309   \n",
       "188129  https://cosaccela.seattle.gov/portal/customize...  47.619137   \n",
       "\n",
       "         Longitude                     Location1  \n",
       "0      -122.335822  (47.60642293, -122.33582172)  \n",
       "1      -122.351919  (47.68639169, -122.35191884)  \n",
       "2      -122.313888  (47.61559829, -122.31388805)  \n",
       "3      -122.362152  (47.69226044, -122.36215164)  \n",
       "4      -122.338320  (47.60911773, -122.33832038)  \n",
       "...            ...                           ...  \n",
       "188125 -122.347021  (47.73157296, -122.34702054)  \n",
       "188126 -122.342247  (47.61513867, -122.34224721)  \n",
       "188127 -122.316137  (47.52543336, -122.31613662)  \n",
       "188128 -122.391660  (47.68630858, -122.39165973)  \n",
       "188129 -122.335107  (47.61913747, -122.33510728)  \n",
       "\n",
       "[188130 rows x 17 columns]"
      ]
     },
     "execution_count": 5,
     "metadata": {},
     "output_type": "execute_result"
    }
   ],
   "source": [
    "data_frame.columns\n",
    "data_frame"
   ]
  },
  {
   "cell_type": "markdown",
   "id": "b25dc73c",
   "metadata": {},
   "source": [
    "# You know the type"
   ]
  },
  {
   "cell_type": "code",
   "execution_count": 83,
   "id": "d7da9297",
   "metadata": {},
   "outputs": [
    {
     "data": {
      "text/plain": [
       "1         Complaint\n",
       "29        Complaint\n",
       "65        Complaint\n",
       "78        Complaint\n",
       "95        Complaint\n",
       "            ...    \n",
       "188095    Complaint\n",
       "188103    Complaint\n",
       "188104    Complaint\n",
       "188111    Complaint\n",
       "188119    Complaint\n",
       "Name: RecordType, Length: 12298, dtype: object"
      ]
     },
     "execution_count": 83,
     "metadata": {},
     "output_type": "execute_result"
    }
   ],
   "source": [
    "data_frame['RecordType']"
   ]
  },
  {
   "cell_type": "code",
   "execution_count": 84,
   "id": "86538f73",
   "metadata": {},
   "outputs": [
    {
     "data": {
      "text/plain": [
       "<pandas.core.groupby.generic.DataFrameGroupBy object at 0x7f7ee2149330>"
      ]
     },
     "execution_count": 84,
     "metadata": {},
     "output_type": "execute_result"
    }
   ],
   "source": [
    "data_frame.groupby ('RecordType')"
   ]
  },
  {
   "cell_type": "code",
   "execution_count": 85,
   "id": "ea39123f",
   "metadata": {},
   "outputs": [
    {
     "data": {
      "text/plain": [
       "5"
      ]
     },
     "execution_count": 85,
     "metadata": {},
     "output_type": "execute_result"
    }
   ],
   "source": [
    "len(data_frame.groupby('RecordType'))"
   ]
  },
  {
   "cell_type": "code",
   "execution_count": 86,
   "id": "056f2162",
   "metadata": {},
   "outputs": [
    {
     "data": {
      "text/plain": [
       "RecordType\n",
       "Citation               1150\n",
       "Complaint              8914\n",
       "Notice of Violation    1894\n",
       "Tenant Relocation       325\n",
       "Unfit Building           15\n",
       "dtype: int64"
      ]
     },
     "execution_count": 86,
     "metadata": {},
     "output_type": "execute_result"
    }
   ],
   "source": [
    "data_frame.groupby('RecordType').size()"
   ]
  },
  {
   "cell_type": "code",
   "execution_count": 87,
   "id": "66530889",
   "metadata": {},
   "outputs": [
    {
     "data": {
      "text/plain": [
       "Complaint              8914\n",
       "Notice of Violation    1894\n",
       "Citation               1150\n",
       "Tenant Relocation       325\n",
       "Unfit Building           15\n",
       "Name: RecordType, dtype: int64"
      ]
     },
     "execution_count": 87,
     "metadata": {},
     "output_type": "execute_result"
    }
   ],
   "source": [
    "data_frame['RecordType'].value_counts()"
   ]
  },
  {
   "cell_type": "code",
   "execution_count": 88,
   "id": "547d313a",
   "metadata": {},
   "outputs": [
    {
     "data": {
      "text/plain": [
       "<Axes: >"
      ]
     },
     "execution_count": 88,
     "metadata": {},
     "output_type": "execute_result"
    },
    {
     "data": {
      "image/png": "[encoded data removed]",
      "text/plain": [
       "<Figure size 640x480 with 1 Axes>"
      ]
     },
     "metadata": {},
     "output_type": "display_data"
    }
   ],
   "source": [
    "data_frame['RecordType'].hist()"
   ]
  },
  {
   "cell_type": "code",
   "execution_count": 89,
   "id": "fa54199e",
   "metadata": {},
   "outputs": [
    {
     "data": {
      "text/plain": [
       "1     Concerned about RV pumpout that is currently b...\n",
       "29    Dragging an extra sewer line for the R.V. park...\n",
       "65     Parking in req'd yards and people living in RVs.\n",
       "78    Bushes are blocking sidewalk and tree's are ha...\n",
       "95    Complaintant is a walk in. Lives in basment un...\n",
       "Name: Description, dtype: object"
      ]
     },
     "execution_count": 89,
     "metadata": {},
     "output_type": "execute_result"
    }
   ],
   "source": [
    "data_frame[data_frame[\"RecordType\"] == \"Complaint\"]['Description'].head()"
   ]
  },
  {
   "cell_type": "code",
   "execution_count": 90,
   "id": "76e6124b",
   "metadata": {},
   "outputs": [
    {
     "data": {
      "text/plain": [
       "492    Bushes are blocking sidewalk and tree's are ha...\n",
       "510     Parking in req'd yards and people living in RVs.\n",
       "520     Parking in req'd yards and people living in RVs.\n",
       "530    Complaintant is a walk in. Lives in basment un...\n",
       "532    Complaintant is a walk in. Lives in basment un...\n",
       "Name: Description, dtype: object"
      ]
     },
     "execution_count": 90,
     "metadata": {},
     "output_type": "execute_result"
    }
   ],
   "source": [
    "data_frame[data_frame[\"RecordType\"] == \"Notice of Violation\"]['Description'].head()"
   ]
  },
  {
   "cell_type": "code",
   "execution_count": 91,
   "id": "e19ca840",
   "metadata": {},
   "outputs": [
    {
     "data": {
      "text/plain": [
       "522     Parking of inoperable vehicle in req'd front y...\n",
       "531                           observed housing violations\n",
       "4807                           OBSERVED ZONING VIOLATIONS\n",
       "4846    front yard parking violation.gave warning to t...\n",
       "4928              Unpermitted outdoor storage in SF zone.\n",
       "Name: Description, dtype: object"
      ]
     },
     "execution_count": 91,
     "metadata": {},
     "output_type": "execute_result"
    }
   ],
   "source": [
    "data_frame[data_frame[\"RecordType\"] == \"Citation\"]['Description'].head()"
   ]
  },
  {
   "cell_type": "code",
   "execution_count": 92,
   "id": "982f90d5",
   "metadata": {},
   "outputs": [
    {
     "data": {
      "text/plain": [
       "514             Application for Tenant Relocation License\n",
       "584             Application for Tenant Relocation License\n",
       "4826                            Tenant Relocation License\n",
       "4956     Application made for a Tenant Relocation License\n",
       "4963    Issued \"Owner's Certification of Occupancy or ...\n",
       "Name: Description, dtype: object"
      ]
     },
     "execution_count": 92,
     "metadata": {},
     "output_type": "execute_result"
    }
   ],
   "source": [
    "data_frame[data_frame[\"RecordType\"] == \"Tenant Relocation\"]['Description'].head()"
   ]
  },
  {
   "cell_type": "code",
   "execution_count": 93,
   "id": "624c1a2b",
   "metadata": {},
   "outputs": [
    {
     "data": {
      "text/plain": [
       "4768                          zoning junk storage violation\n",
       "4916         Single Family structure over commercial space.\n",
       "5057                                Single family structure\n",
       "7429                                Single family structure\n",
       "12925                                       8 unit building\n",
       "13155            Vacant building being used by drug dealers\n",
       "20352     Single family structure with contaminated soil...\n",
       "28732                                       Unfit building.\n",
       "37842                                                 unfit\n",
       "39715                           Requested abatement- duplex\n",
       "39716                            4 unit building demolition\n",
       "47619     unfit single family residenceCollapsed roof; u...\n",
       "47861     unfit commercial structure and accessory struc...\n",
       "62140                        unfit single family residence.\n",
       "178680                                                  NaN\n",
       "Name: Description, dtype: object"
      ]
     },
     "execution_count": 93,
     "metadata": {},
     "output_type": "execute_result"
    }
   ],
   "source": [
    "data_frame[data_frame[\"RecordType\"] == \"Unfit Building\"]['Description']"
   ]
  },
  {
   "cell_type": "code",
   "execution_count": 94,
   "id": "ea1203be",
   "metadata": {},
   "outputs": [
    {
     "data": {
      "text/html": [
       "<div>\n",
       "<style scoped>\n",
       "    .dataframe tbody tr th:only-of-type {\n",
       "        vertical-align: middle;\n",
       "    }\n",
       "\n",
       "    .dataframe tbody tr th {\n",
       "        vertical-align: top;\n",
       "    }\n",
       "\n",
       "    .dataframe thead th {\n",
       "        text-align: right;\n",
       "    }\n",
       "</style>\n",
       "<table border=\"1\" class=\"dataframe\">\n",
       "  <thead>\n",
       "    <tr style=\"text-align: right;\">\n",
       "      <th></th>\n",
       "      <th>RecordType</th>\n",
       "      <th>OriginalZip</th>\n",
       "    </tr>\n",
       "  </thead>\n",
       "  <tbody>\n",
       "    <tr>\n",
       "      <th>1</th>\n",
       "      <td>Complaint</td>\n",
       "      <td>98103.0</td>\n",
       "    </tr>\n",
       "    <tr>\n",
       "      <th>29</th>\n",
       "      <td>Complaint</td>\n",
       "      <td>98103.0</td>\n",
       "    </tr>\n",
       "    <tr>\n",
       "      <th>65</th>\n",
       "      <td>Complaint</td>\n",
       "      <td>98103.0</td>\n",
       "    </tr>\n",
       "    <tr>\n",
       "      <th>78</th>\n",
       "      <td>Complaint</td>\n",
       "      <td>98103.0</td>\n",
       "    </tr>\n",
       "    <tr>\n",
       "      <th>95</th>\n",
       "      <td>Complaint</td>\n",
       "      <td>98103.0</td>\n",
       "    </tr>\n",
       "    <tr>\n",
       "      <th>...</th>\n",
       "      <td>...</td>\n",
       "      <td>...</td>\n",
       "    </tr>\n",
       "    <tr>\n",
       "      <th>188095</th>\n",
       "      <td>Complaint</td>\n",
       "      <td>98103.0</td>\n",
       "    </tr>\n",
       "    <tr>\n",
       "      <th>188103</th>\n",
       "      <td>Complaint</td>\n",
       "      <td>98103.0</td>\n",
       "    </tr>\n",
       "    <tr>\n",
       "      <th>188104</th>\n",
       "      <td>Complaint</td>\n",
       "      <td>98103.0</td>\n",
       "    </tr>\n",
       "    <tr>\n",
       "      <th>188111</th>\n",
       "      <td>Complaint</td>\n",
       "      <td>98103.0</td>\n",
       "    </tr>\n",
       "    <tr>\n",
       "      <th>188119</th>\n",
       "      <td>Complaint</td>\n",
       "      <td>98103.0</td>\n",
       "    </tr>\n",
       "  </tbody>\n",
       "</table>\n",
       "<p>12298 rows × 2 columns</p>\n",
       "</div>"
      ],
      "text/plain": [
       "       RecordType  OriginalZip\n",
       "1       Complaint      98103.0\n",
       "29      Complaint      98103.0\n",
       "65      Complaint      98103.0\n",
       "78      Complaint      98103.0\n",
       "95      Complaint      98103.0\n",
       "...           ...          ...\n",
       "188095  Complaint      98103.0\n",
       "188103  Complaint      98103.0\n",
       "188104  Complaint      98103.0\n",
       "188111  Complaint      98103.0\n",
       "188119  Complaint      98103.0\n",
       "\n",
       "[12298 rows x 2 columns]"
      ]
     },
     "execution_count": 94,
     "metadata": {},
     "output_type": "execute_result"
    }
   ],
   "source": [
    "data_frame[[\"RecordType\", \"OriginalZip\"]]"
   ]
  },
  {
   "cell_type": "code",
   "execution_count": 95,
   "id": "cd702f15",
   "metadata": {},
   "outputs": [],
   "source": [
    "zip_code = data_frame[[\"RecordType\", \"OriginalZip\", \"Description\"]]"
   ]
  },
  {
   "cell_type": "code",
   "execution_count": 96,
   "id": "f1e1f7d6",
   "metadata": {},
   "outputs": [
    {
     "data": {
      "text/html": [
       "<div>\n",
       "<style scoped>\n",
       "    .dataframe tbody tr th:only-of-type {\n",
       "        vertical-align: middle;\n",
       "    }\n",
       "\n",
       "    .dataframe tbody tr th {\n",
       "        vertical-align: top;\n",
       "    }\n",
       "\n",
       "    .dataframe thead th {\n",
       "        text-align: right;\n",
       "    }\n",
       "</style>\n",
       "<table border=\"1\" class=\"dataframe\">\n",
       "  <thead>\n",
       "    <tr style=\"text-align: right;\">\n",
       "      <th></th>\n",
       "      <th>RecordType</th>\n",
       "      <th>OriginalZip</th>\n",
       "      <th>Description</th>\n",
       "    </tr>\n",
       "  </thead>\n",
       "  <tbody>\n",
       "    <tr>\n",
       "      <th>1</th>\n",
       "      <td>Complaint</td>\n",
       "      <td>98103.0</td>\n",
       "      <td>Concerned about RV pumpout that is currently b...</td>\n",
       "    </tr>\n",
       "    <tr>\n",
       "      <th>29</th>\n",
       "      <td>Complaint</td>\n",
       "      <td>98103.0</td>\n",
       "      <td>Dragging an extra sewer line for the R.V. park...</td>\n",
       "    </tr>\n",
       "    <tr>\n",
       "      <th>65</th>\n",
       "      <td>Complaint</td>\n",
       "      <td>98103.0</td>\n",
       "      <td>Parking in req'd yards and people living in RVs.</td>\n",
       "    </tr>\n",
       "    <tr>\n",
       "      <th>78</th>\n",
       "      <td>Complaint</td>\n",
       "      <td>98103.0</td>\n",
       "      <td>Bushes are blocking sidewalk and tree's are ha...</td>\n",
       "    </tr>\n",
       "    <tr>\n",
       "      <th>95</th>\n",
       "      <td>Complaint</td>\n",
       "      <td>98103.0</td>\n",
       "      <td>Complaintant is a walk in. Lives in basment un...</td>\n",
       "    </tr>\n",
       "    <tr>\n",
       "      <th>...</th>\n",
       "      <td>...</td>\n",
       "      <td>...</td>\n",
       "      <td>...</td>\n",
       "    </tr>\n",
       "    <tr>\n",
       "      <th>188095</th>\n",
       "      <td>Complaint</td>\n",
       "      <td>98103.0</td>\n",
       "      <td>Parking strip is very high with weeds. Waist h...</td>\n",
       "    </tr>\n",
       "    <tr>\n",
       "      <th>188103</th>\n",
       "      <td>Complaint</td>\n",
       "      <td>98103.0</td>\n",
       "      <td>Unauthorized encampment on private property. G...</td>\n",
       "    </tr>\n",
       "    <tr>\n",
       "      <th>188104</th>\n",
       "      <td>Complaint</td>\n",
       "      <td>98103.0</td>\n",
       "      <td>The fuse box in the back corner of the garage ...</td>\n",
       "    </tr>\n",
       "    <tr>\n",
       "      <th>188111</th>\n",
       "      <td>Complaint</td>\n",
       "      <td>98103.0</td>\n",
       "      <td>Caller has questions regarding the end of tena...</td>\n",
       "    </tr>\n",
       "    <tr>\n",
       "      <th>188119</th>\n",
       "      <td>Complaint</td>\n",
       "      <td>98103.0</td>\n",
       "      <td>Vegetation growing on sidewalk</td>\n",
       "    </tr>\n",
       "  </tbody>\n",
       "</table>\n",
       "<p>12298 rows × 3 columns</p>\n",
       "</div>"
      ],
      "text/plain": [
       "       RecordType  OriginalZip  \\\n",
       "1       Complaint      98103.0   \n",
       "29      Complaint      98103.0   \n",
       "65      Complaint      98103.0   \n",
       "78      Complaint      98103.0   \n",
       "95      Complaint      98103.0   \n",
       "...           ...          ...   \n",
       "188095  Complaint      98103.0   \n",
       "188103  Complaint      98103.0   \n",
       "188104  Complaint      98103.0   \n",
       "188111  Complaint      98103.0   \n",
       "188119  Complaint      98103.0   \n",
       "\n",
       "                                              Description  \n",
       "1       Concerned about RV pumpout that is currently b...  \n",
       "29      Dragging an extra sewer line for the R.V. park...  \n",
       "65       Parking in req'd yards and people living in RVs.  \n",
       "78      Bushes are blocking sidewalk and tree's are ha...  \n",
       "95      Complaintant is a walk in. Lives in basment un...  \n",
       "...                                                   ...  \n",
       "188095  Parking strip is very high with weeds. Waist h...  \n",
       "188103  Unauthorized encampment on private property. G...  \n",
       "188104  The fuse box in the back corner of the garage ...  \n",
       "188111  Caller has questions regarding the end of tena...  \n",
       "188119                     Vegetation growing on sidewalk  \n",
       "\n",
       "[12298 rows x 3 columns]"
      ]
     },
     "execution_count": 96,
     "metadata": {},
     "output_type": "execute_result"
    }
   ],
   "source": [
    "zip_code[zip_code[\"OriginalZip\"] == 98103]"
   ]
  },
  {
   "cell_type": "code",
   "execution_count": 97,
   "id": "6659cac0",
   "metadata": {},
   "outputs": [],
   "source": [
    "new_data = zip_code[zip_code[\"OriginalZip\"]== 98103]"
   ]
  },
  {
   "cell_type": "code",
   "execution_count": 98,
   "id": "ea5c7f9c",
   "metadata": {},
   "outputs": [
    {
     "data": {
      "text/plain": [
       "1     Concerned about RV pumpout that is currently b...\n",
       "29    Dragging an extra sewer line for the R.V. park...\n",
       "65     Parking in req'd yards and people living in RVs.\n",
       "78    Bushes are blocking sidewalk and tree's are ha...\n",
       "95    Complaintant is a walk in. Lives in basment un...\n",
       "Name: Description, dtype: object"
      ]
     },
     "execution_count": 98,
     "metadata": {},
     "output_type": "execute_result"
    }
   ],
   "source": [
    "new_data[new_data[\"RecordType\"] == \"Complaint\"]['Description'].head()\n"
   ]
  },
  {
   "cell_type": "code",
   "execution_count": 99,
   "id": "86c68a5b",
   "metadata": {},
   "outputs": [
    {
     "data": {
      "text/plain": [
       "492    Bushes are blocking sidewalk and tree's are ha...\n",
       "510     Parking in req'd yards and people living in RVs.\n",
       "520     Parking in req'd yards and people living in RVs.\n",
       "530    Complaintant is a walk in. Lives in basment un...\n",
       "532    Complaintant is a walk in. Lives in basment un...\n",
       "Name: Description, dtype: object"
      ]
     },
     "execution_count": 99,
     "metadata": {},
     "output_type": "execute_result"
    }
   ],
   "source": [
    "new_data[new_data[\"RecordType\"] == \"Notice of Violation\"]['Description'].head()"
   ]
  },
  {
   "cell_type": "code",
   "execution_count": 100,
   "id": "594bc62d",
   "metadata": {},
   "outputs": [
    {
     "data": {
      "text/plain": [
       "522     Parking of inoperable vehicle in req'd front y...\n",
       "531                           observed housing violations\n",
       "4807                           OBSERVED ZONING VIOLATIONS\n",
       "4846    front yard parking violation.gave warning to t...\n",
       "4928              Unpermitted outdoor storage in SF zone.\n",
       "Name: Description, dtype: object"
      ]
     },
     "execution_count": 100,
     "metadata": {},
     "output_type": "execute_result"
    }
   ],
   "source": [
    "new_data[new_data[\"RecordType\"] == \"Citation\"]['Description'].head()\n"
   ]
  },
  {
   "cell_type": "code",
   "execution_count": 101,
   "id": "6aba9ab9",
   "metadata": {},
   "outputs": [
    {
     "data": {
      "text/plain": [
       "514             Application for Tenant Relocation License\n",
       "584             Application for Tenant Relocation License\n",
       "4826                            Tenant Relocation License\n",
       "4956     Application made for a Tenant Relocation License\n",
       "4963    Issued \"Owner's Certification of Occupancy or ...\n",
       "Name: Description, dtype: object"
      ]
     },
     "execution_count": 101,
     "metadata": {},
     "output_type": "execute_result"
    }
   ],
   "source": [
    "new_data[new_data[\"RecordType\"] == \"Tenant Relocation\"]['Description'].head()\n"
   ]
  },
  {
   "cell_type": "code",
   "execution_count": 102,
   "id": "71056dca",
   "metadata": {},
   "outputs": [
    {
     "data": {
      "text/plain": [
       "4768                      zoning junk storage violation\n",
       "4916     Single Family structure over commercial space.\n",
       "5057                            Single family structure\n",
       "7429                            Single family structure\n",
       "12925                                   8 unit building\n",
       "Name: Description, dtype: object"
      ]
     },
     "execution_count": 102,
     "metadata": {},
     "output_type": "execute_result"
    }
   ],
   "source": [
    "new_data[new_data[\"RecordType\"] == \"Unfit Building\"]['Description'].head()\n"
   ]
  },
  {
   "cell_type": "code",
   "execution_count": 103,
   "id": "74d26e9b",
   "metadata": {},
   "outputs": [],
   "source": [
    "zip_code.to_csv(\"data_set.tsv\", sep=\"\\t\")"
   ]
  },
  {
   "cell_type": "markdown",
   "id": "1b576070",
   "metadata": {},
   "source": [
    "# It's about time"
   ]
  },
  {
   "cell_type": "code",
   "execution_count": 109,
   "id": "bedd9d8f",
   "metadata": {},
   "outputs": [
    {
     "data": {
      "text/html": [
       "<div>\n",
       "<style scoped>\n",
       "    .dataframe tbody tr th:only-of-type {\n",
       "        vertical-align: middle;\n",
       "    }\n",
       "\n",
       "    .dataframe tbody tr th {\n",
       "        vertical-align: top;\n",
       "    }\n",
       "\n",
       "    .dataframe thead th {\n",
       "        text-align: right;\n",
       "    }\n",
       "</style>\n",
       "<table border=\"1\" class=\"dataframe\">\n",
       "  <thead>\n",
       "    <tr style=\"text-align: right;\">\n",
       "      <th></th>\n",
       "      <th>RecordType</th>\n",
       "      <th>OriginalZip</th>\n",
       "      <th>Description</th>\n",
       "    </tr>\n",
       "  </thead>\n",
       "  <tbody>\n",
       "    <tr>\n",
       "      <th>1</th>\n",
       "      <td>Complaint</td>\n",
       "      <td>98103.0</td>\n",
       "      <td>Concerned about RV pumpout that is currently b...</td>\n",
       "    </tr>\n",
       "    <tr>\n",
       "      <th>29</th>\n",
       "      <td>Complaint</td>\n",
       "      <td>98103.0</td>\n",
       "      <td>Dragging an extra sewer line for the R.V. park...</td>\n",
       "    </tr>\n",
       "    <tr>\n",
       "      <th>65</th>\n",
       "      <td>Complaint</td>\n",
       "      <td>98103.0</td>\n",
       "      <td>Parking in req'd yards and people living in RVs.</td>\n",
       "    </tr>\n",
       "    <tr>\n",
       "      <th>78</th>\n",
       "      <td>Complaint</td>\n",
       "      <td>98103.0</td>\n",
       "      <td>Bushes are blocking sidewalk and tree's are ha...</td>\n",
       "    </tr>\n",
       "    <tr>\n",
       "      <th>95</th>\n",
       "      <td>Complaint</td>\n",
       "      <td>98103.0</td>\n",
       "      <td>Complaintant is a walk in. Lives in basment un...</td>\n",
       "    </tr>\n",
       "    <tr>\n",
       "      <th>...</th>\n",
       "      <td>...</td>\n",
       "      <td>...</td>\n",
       "      <td>...</td>\n",
       "    </tr>\n",
       "    <tr>\n",
       "      <th>188095</th>\n",
       "      <td>Complaint</td>\n",
       "      <td>98103.0</td>\n",
       "      <td>Parking strip is very high with weeds. Waist h...</td>\n",
       "    </tr>\n",
       "    <tr>\n",
       "      <th>188103</th>\n",
       "      <td>Complaint</td>\n",
       "      <td>98103.0</td>\n",
       "      <td>Unauthorized encampment on private property. G...</td>\n",
       "    </tr>\n",
       "    <tr>\n",
       "      <th>188104</th>\n",
       "      <td>Complaint</td>\n",
       "      <td>98103.0</td>\n",
       "      <td>The fuse box in the back corner of the garage ...</td>\n",
       "    </tr>\n",
       "    <tr>\n",
       "      <th>188111</th>\n",
       "      <td>Complaint</td>\n",
       "      <td>98103.0</td>\n",
       "      <td>Caller has questions regarding the end of tena...</td>\n",
       "    </tr>\n",
       "    <tr>\n",
       "      <th>188119</th>\n",
       "      <td>Complaint</td>\n",
       "      <td>98103.0</td>\n",
       "      <td>Vegetation growing on sidewalk</td>\n",
       "    </tr>\n",
       "  </tbody>\n",
       "</table>\n",
       "<p>12298 rows × 3 columns</p>\n",
       "</div>"
      ],
      "text/plain": [
       "       RecordType  OriginalZip  \\\n",
       "1       Complaint      98103.0   \n",
       "29      Complaint      98103.0   \n",
       "65      Complaint      98103.0   \n",
       "78      Complaint      98103.0   \n",
       "95      Complaint      98103.0   \n",
       "...           ...          ...   \n",
       "188095  Complaint      98103.0   \n",
       "188103  Complaint      98103.0   \n",
       "188104  Complaint      98103.0   \n",
       "188111  Complaint      98103.0   \n",
       "188119  Complaint      98103.0   \n",
       "\n",
       "                                              Description  \n",
       "1       Concerned about RV pumpout that is currently b...  \n",
       "29      Dragging an extra sewer line for the R.V. park...  \n",
       "65       Parking in req'd yards and people living in RVs.  \n",
       "78      Bushes are blocking sidewalk and tree's are ha...  \n",
       "95      Complaintant is a walk in. Lives in basment un...  \n",
       "...                                                   ...  \n",
       "188095  Parking strip is very high with weeds. Waist h...  \n",
       "188103  Unauthorized encampment on private property. G...  \n",
       "188104  The fuse box in the back corner of the garage ...  \n",
       "188111  Caller has questions regarding the end of tena...  \n",
       "188119                     Vegetation growing on sidewalk  \n",
       "\n",
       "[12298 rows x 3 columns]"
      ]
     },
     "execution_count": 109,
     "metadata": {},
     "output_type": "execute_result"
    }
   ],
   "source": [
    "data_frame"
   ]
  },
  {
   "cell_type": "code",
   "execution_count": 115,
   "id": "8b36a54f",
   "metadata": {},
   "outputs": [
    {
     "ename": "KeyError",
     "evalue": "'OpenDate'",
     "output_type": "error",
     "traceback": [
      "\u001b[0;31m---------------------------------------------------------------------------\u001b[0m",
      "\u001b[0;31mKeyError\u001b[0m                                  Traceback (most recent call last)",
      "File \u001b[0;32m~/anaconda3/lib/python3.10/site-packages/pandas/core/indexes/base.py:3802\u001b[0m, in \u001b[0;36mIndex.get_loc\u001b[0;34m(self, key, method, tolerance)\u001b[0m\n\u001b[1;32m   3801\u001b[0m \u001b[38;5;28;01mtry\u001b[39;00m:\n\u001b[0;32m-> 3802\u001b[0m     \u001b[38;5;28;01mreturn\u001b[39;00m \u001b[38;5;28;43mself\u001b[39;49m\u001b[38;5;241;43m.\u001b[39;49m\u001b[43m_engine\u001b[49m\u001b[38;5;241;43m.\u001b[39;49m\u001b[43mget_loc\u001b[49m\u001b[43m(\u001b[49m\u001b[43mcasted_key\u001b[49m\u001b[43m)\u001b[49m\n\u001b[1;32m   3803\u001b[0m \u001b[38;5;28;01mexcept\u001b[39;00m \u001b[38;5;167;01mKeyError\u001b[39;00m \u001b[38;5;28;01mas\u001b[39;00m err:\n",
      "File \u001b[0;32m~/anaconda3/lib/python3.10/site-packages/pandas/_libs/index.pyx:138\u001b[0m, in \u001b[0;36mpandas._libs.index.IndexEngine.get_loc\u001b[0;34m()\u001b[0m\n",
      "File \u001b[0;32m~/anaconda3/lib/python3.10/site-packages/pandas/_libs/index.pyx:165\u001b[0m, in \u001b[0;36mpandas._libs.index.IndexEngine.get_loc\u001b[0;34m()\u001b[0m\n",
      "File \u001b[0;32mpandas/_libs/hashtable_class_helper.pxi:5745\u001b[0m, in \u001b[0;36mpandas._libs.hashtable.PyObjectHashTable.get_item\u001b[0;34m()\u001b[0m\n",
      "File \u001b[0;32mpandas/_libs/hashtable_class_helper.pxi:5753\u001b[0m, in \u001b[0;36mpandas._libs.hashtable.PyObjectHashTable.get_item\u001b[0;34m()\u001b[0m\n",
      "\u001b[0;31mKeyError\u001b[0m: 'OpenDate'",
      "\nThe above exception was the direct cause of the following exception:\n",
      "\u001b[0;31mKeyError\u001b[0m                                  Traceback (most recent call last)",
      "Cell \u001b[0;32mIn[115], line 3\u001b[0m\n\u001b[1;32m      1\u001b[0m \u001b[38;5;28;01mimport\u001b[39;00m \u001b[38;5;21;01mpandas\u001b[39;00m \u001b[38;5;28;01mas\u001b[39;00m \u001b[38;5;21;01mpd\u001b[39;00m\n\u001b[0;32m----> 3\u001b[0m pd\u001b[38;5;241m.\u001b[39mto_datetime(\u001b[43mdata_frame\u001b[49m\u001b[43m[\u001b[49m\u001b[38;5;124;43m\"\u001b[39;49m\u001b[38;5;124;43mOpenDate\u001b[39;49m\u001b[38;5;124;43m\"\u001b[39;49m\u001b[43m]\u001b[49m)\n",
      "File \u001b[0;32m~/anaconda3/lib/python3.10/site-packages/pandas/core/frame.py:3807\u001b[0m, in \u001b[0;36mDataFrame.__getitem__\u001b[0;34m(self, key)\u001b[0m\n\u001b[1;32m   3805\u001b[0m \u001b[38;5;28;01mif\u001b[39;00m \u001b[38;5;28mself\u001b[39m\u001b[38;5;241m.\u001b[39mcolumns\u001b[38;5;241m.\u001b[39mnlevels \u001b[38;5;241m>\u001b[39m \u001b[38;5;241m1\u001b[39m:\n\u001b[1;32m   3806\u001b[0m     \u001b[38;5;28;01mreturn\u001b[39;00m \u001b[38;5;28mself\u001b[39m\u001b[38;5;241m.\u001b[39m_getitem_multilevel(key)\n\u001b[0;32m-> 3807\u001b[0m indexer \u001b[38;5;241m=\u001b[39m \u001b[38;5;28;43mself\u001b[39;49m\u001b[38;5;241;43m.\u001b[39;49m\u001b[43mcolumns\u001b[49m\u001b[38;5;241;43m.\u001b[39;49m\u001b[43mget_loc\u001b[49m\u001b[43m(\u001b[49m\u001b[43mkey\u001b[49m\u001b[43m)\u001b[49m\n\u001b[1;32m   3808\u001b[0m \u001b[38;5;28;01mif\u001b[39;00m is_integer(indexer):\n\u001b[1;32m   3809\u001b[0m     indexer \u001b[38;5;241m=\u001b[39m [indexer]\n",
      "File \u001b[0;32m~/anaconda3/lib/python3.10/site-packages/pandas/core/indexes/base.py:3804\u001b[0m, in \u001b[0;36mIndex.get_loc\u001b[0;34m(self, key, method, tolerance)\u001b[0m\n\u001b[1;32m   3802\u001b[0m     \u001b[38;5;28;01mreturn\u001b[39;00m \u001b[38;5;28mself\u001b[39m\u001b[38;5;241m.\u001b[39m_engine\u001b[38;5;241m.\u001b[39mget_loc(casted_key)\n\u001b[1;32m   3803\u001b[0m \u001b[38;5;28;01mexcept\u001b[39;00m \u001b[38;5;167;01mKeyError\u001b[39;00m \u001b[38;5;28;01mas\u001b[39;00m err:\n\u001b[0;32m-> 3804\u001b[0m     \u001b[38;5;28;01mraise\u001b[39;00m \u001b[38;5;167;01mKeyError\u001b[39;00m(key) \u001b[38;5;28;01mfrom\u001b[39;00m \u001b[38;5;21;01merr\u001b[39;00m\n\u001b[1;32m   3805\u001b[0m \u001b[38;5;28;01mexcept\u001b[39;00m \u001b[38;5;167;01mTypeError\u001b[39;00m:\n\u001b[1;32m   3806\u001b[0m     \u001b[38;5;66;03m# If we have a listlike key, _check_indexing_error will raise\u001b[39;00m\n\u001b[1;32m   3807\u001b[0m     \u001b[38;5;66;03m#  InvalidIndexError. Otherwise we fall through and re-raise\u001b[39;00m\n\u001b[1;32m   3808\u001b[0m     \u001b[38;5;66;03m#  the TypeError.\u001b[39;00m\n\u001b[1;32m   3809\u001b[0m     \u001b[38;5;28mself\u001b[39m\u001b[38;5;241m.\u001b[39m_check_indexing_error(key)\n",
      "\u001b[0;31mKeyError\u001b[0m: 'OpenDate'"
     ]
    }
   ],
   "source": [
    "import pandas as pd\n",
    "\n",
    "pd.to_datetime(data_frame[\"OpenDate\"])"
   ]
  },
  {
   "cell_type": "code",
   "execution_count": 70,
   "id": "c5e6ae25",
   "metadata": {},
   "outputs": [],
   "source": [
    "data_frame[\"OpenDate_new\"] = pd.to_datetime(data_frame[\"OpenDate\"])"
   ]
  },
  {
   "cell_type": "code",
   "execution_count": 71,
   "id": "d2816fd9",
   "metadata": {},
   "outputs": [
    {
     "name": "stdout",
     "output_type": "stream",
     "text": [
      "<class 'pandas.core.frame.DataFrame'>\n",
      "RangeIndex: 188130 entries, 0 to 188129\n",
      "Data columns (total 18 columns):\n",
      " #   Column            Non-Null Count   Dtype         \n",
      "---  ------            --------------   -----         \n",
      " 0   RecordNum         188130 non-null  object        \n",
      " 1   RecordType        188130 non-null  object        \n",
      " 2   RecordTypeMapped  188130 non-null  object        \n",
      " 3   RecordTypeDesc    161299 non-null  object        \n",
      " 4   Description       184009 non-null  object        \n",
      " 5   OpenDate          188130 non-null  object        \n",
      " 6   LastInspDate      185258 non-null  object        \n",
      " 7   LastInspResult    125347 non-null  object        \n",
      " 8   StatusCurrent     188130 non-null  object        \n",
      " 9   OriginalAddress1  186982 non-null  object        \n",
      " 10  OriginalCity      179291 non-null  object        \n",
      " 11  OriginalState     179730 non-null  object        \n",
      " 12  OriginalZip       173265 non-null  float64       \n",
      " 13  Link              188130 non-null  object        \n",
      " 14  Latitude          185258 non-null  float64       \n",
      " 15  Longitude         185258 non-null  float64       \n",
      " 16  Location1         185258 non-null  object        \n",
      " 17  OpenDate_new      188130 non-null  datetime64[ns]\n",
      "dtypes: datetime64[ns](1), float64(3), object(14)\n",
      "memory usage: 25.8+ MB\n"
     ]
    }
   ],
   "source": [
    "data_frame.info()"
   ]
  },
  {
   "cell_type": "code",
   "execution_count": 72,
   "id": "e6870d37",
   "metadata": {},
   "outputs": [
    {
     "data": {
      "text/html": [
       "<div>\n",
       "<style scoped>\n",
       "    .dataframe tbody tr th:only-of-type {\n",
       "        vertical-align: middle;\n",
       "    }\n",
       "\n",
       "    .dataframe tbody tr th {\n",
       "        vertical-align: top;\n",
       "    }\n",
       "\n",
       "    .dataframe thead th {\n",
       "        text-align: right;\n",
       "    }\n",
       "</style>\n",
       "<table border=\"1\" class=\"dataframe\">\n",
       "  <thead>\n",
       "    <tr style=\"text-align: right;\">\n",
       "      <th></th>\n",
       "      <th>OpenDate_new</th>\n",
       "      <th>OriginalZip</th>\n",
       "    </tr>\n",
       "  </thead>\n",
       "  <tbody>\n",
       "    <tr>\n",
       "      <th>0</th>\n",
       "      <td>2003-11-10</td>\n",
       "      <td>98101.0</td>\n",
       "    </tr>\n",
       "    <tr>\n",
       "      <th>1</th>\n",
       "      <td>2003-11-10</td>\n",
       "      <td>98103.0</td>\n",
       "    </tr>\n",
       "    <tr>\n",
       "      <th>2</th>\n",
       "      <td>2003-11-10</td>\n",
       "      <td>98122.0</td>\n",
       "    </tr>\n",
       "    <tr>\n",
       "      <th>3</th>\n",
       "      <td>2003-11-10</td>\n",
       "      <td>98117.0</td>\n",
       "    </tr>\n",
       "    <tr>\n",
       "      <th>4</th>\n",
       "      <td>2003-11-10</td>\n",
       "      <td>98101.0</td>\n",
       "    </tr>\n",
       "    <tr>\n",
       "      <th>...</th>\n",
       "      <td>...</td>\n",
       "      <td>...</td>\n",
       "    </tr>\n",
       "    <tr>\n",
       "      <th>188125</th>\n",
       "      <td>2023-05-10</td>\n",
       "      <td>98133.0</td>\n",
       "    </tr>\n",
       "    <tr>\n",
       "      <th>188126</th>\n",
       "      <td>2023-05-10</td>\n",
       "      <td>98121.0</td>\n",
       "    </tr>\n",
       "    <tr>\n",
       "      <th>188127</th>\n",
       "      <td>2023-05-10</td>\n",
       "      <td>98108.0</td>\n",
       "    </tr>\n",
       "    <tr>\n",
       "      <th>188128</th>\n",
       "      <td>2023-05-10</td>\n",
       "      <td>98117.0</td>\n",
       "    </tr>\n",
       "    <tr>\n",
       "      <th>188129</th>\n",
       "      <td>2023-05-10</td>\n",
       "      <td>NaN</td>\n",
       "    </tr>\n",
       "  </tbody>\n",
       "</table>\n",
       "<p>188130 rows × 2 columns</p>\n",
       "</div>"
      ],
      "text/plain": [
       "       OpenDate_new  OriginalZip\n",
       "0        2003-11-10      98101.0\n",
       "1        2003-11-10      98103.0\n",
       "2        2003-11-10      98122.0\n",
       "3        2003-11-10      98117.0\n",
       "4        2003-11-10      98101.0\n",
       "...             ...          ...\n",
       "188125   2023-05-10      98133.0\n",
       "188126   2023-05-10      98121.0\n",
       "188127   2023-05-10      98108.0\n",
       "188128   2023-05-10      98117.0\n",
       "188129   2023-05-10          NaN\n",
       "\n",
       "[188130 rows x 2 columns]"
      ]
     },
     "execution_count": 72,
     "metadata": {},
     "output_type": "execute_result"
    }
   ],
   "source": [
    "data_frame[[\"OpenDate_new\", \"OriginalZip\"]]"
   ]
  },
  {
   "cell_type": "code",
   "execution_count": 73,
   "id": "7c6dffb7",
   "metadata": {},
   "outputs": [],
   "source": [
    "data_frame_ts = data_frame[\"OriginalZip\"]"
   ]
  },
  {
   "cell_type": "code",
   "execution_count": 74,
   "id": "3cc23e90",
   "metadata": {},
   "outputs": [],
   "source": [
    "data_frame_ts.index = data_frame[\"OpenDate_new\"]"
   ]
  },
  {
   "cell_type": "code",
   "execution_count": 76,
   "id": "b121819d",
   "metadata": {},
   "outputs": [
    {
     "data": {
      "text/plain": [
       "OpenDate_new\n",
       "2003-11-10     92\n",
       "2003-11-17     97\n",
       "2003-11-24     47\n",
       "2003-12-01     84\n",
       "2003-12-08     85\n",
       "             ... \n",
       "2023-04-10    229\n",
       "2023-04-17    200\n",
       "2023-04-24    318\n",
       "2023-05-01    271\n",
       "2023-05-08    143\n",
       "Freq: 7D, Name: OriginalZip, Length: 1018, dtype: int64"
      ]
     },
     "execution_count": 76,
     "metadata": {},
     "output_type": "execute_result"
    }
   ],
   "source": [
    "data_frame_ts.resample(\"7D\").count()"
   ]
  },
  {
   "cell_type": "code",
   "execution_count": 77,
   "id": "41ed845b",
   "metadata": {},
   "outputs": [
    {
     "data": {
      "text/plain": [
       "<Axes: xlabel='OpenDate_new'>"
      ]
     },
     "execution_count": 77,
     "metadata": {},
     "output_type": "execute_result"
    },
    {
     "data": {
      "image/png": "[encoded data removed]",
      "text/plain": [
       "<Figure size 640x480 with 1 Axes>"
      ]
     },
     "metadata": {},
     "output_type": "display_data"
    }
   ],
   "source": [
    "data_frame_ts.resample(\"7D\").count().plot()"
   ]
  },
  {
   "cell_type": "markdown",
   "id": "29e638bc",
   "metadata": {},
   "source": [
    "# You've got questions, you've got answers\n"
   ]
  },
  {
   "cell_type": "code",
   "execution_count": 81,
   "id": "50c2ae4c",
   "metadata": {},
   "outputs": [
    {
     "ename": "KeyError",
     "evalue": "'OpenDate_new'",
     "output_type": "error",
     "traceback": [
      "\u001b[0;31m---------------------------------------------------------------------------\u001b[0m",
      "\u001b[0;31mKeyError\u001b[0m                                  Traceback (most recent call last)",
      "File \u001b[0;32m~/anaconda3/lib/python3.10/site-packages/pandas/core/indexes/base.py:3802\u001b[0m, in \u001b[0;36mIndex.get_loc\u001b[0;34m(self, key, method, tolerance)\u001b[0m\n\u001b[1;32m   3801\u001b[0m \u001b[38;5;28;01mtry\u001b[39;00m:\n\u001b[0;32m-> 3802\u001b[0m     \u001b[38;5;28;01mreturn\u001b[39;00m \u001b[38;5;28;43mself\u001b[39;49m\u001b[38;5;241;43m.\u001b[39;49m\u001b[43m_engine\u001b[49m\u001b[38;5;241;43m.\u001b[39;49m\u001b[43mget_loc\u001b[49m\u001b[43m(\u001b[49m\u001b[43mcasted_key\u001b[49m\u001b[43m)\u001b[49m\n\u001b[1;32m   3803\u001b[0m \u001b[38;5;28;01mexcept\u001b[39;00m \u001b[38;5;167;01mKeyError\u001b[39;00m \u001b[38;5;28;01mas\u001b[39;00m err:\n",
      "File \u001b[0;32m~/anaconda3/lib/python3.10/site-packages/pandas/_libs/index.pyx:138\u001b[0m, in \u001b[0;36mpandas._libs.index.IndexEngine.get_loc\u001b[0;34m()\u001b[0m\n",
      "File \u001b[0;32m~/anaconda3/lib/python3.10/site-packages/pandas/_libs/index.pyx:165\u001b[0m, in \u001b[0;36mpandas._libs.index.IndexEngine.get_loc\u001b[0;34m()\u001b[0m\n",
      "File \u001b[0;32mpandas/_libs/hashtable_class_helper.pxi:5745\u001b[0m, in \u001b[0;36mpandas._libs.hashtable.PyObjectHashTable.get_item\u001b[0;34m()\u001b[0m\n",
      "File \u001b[0;32mpandas/_libs/hashtable_class_helper.pxi:5753\u001b[0m, in \u001b[0;36mpandas._libs.hashtable.PyObjectHashTable.get_item\u001b[0;34m()\u001b[0m\n",
      "\u001b[0;31mKeyError\u001b[0m: 'OpenDate_new'",
      "\nThe above exception was the direct cause of the following exception:\n",
      "\u001b[0;31mKeyError\u001b[0m                                  Traceback (most recent call last)",
      "Cell \u001b[0;32mIn[81], line 6\u001b[0m\n\u001b[1;32m      3\u001b[0m data_frame \u001b[38;5;241m=\u001b[39m new_data\n\u001b[1;32m      5\u001b[0m \u001b[38;5;66;03m# Convert the date column to datetime format\u001b[39;00m\n\u001b[0;32m----> 6\u001b[0m data_frame[\u001b[38;5;124m'\u001b[39m\u001b[38;5;124mOpenDate_new\u001b[39m\u001b[38;5;124m'\u001b[39m] \u001b[38;5;241m=\u001b[39m pd\u001b[38;5;241m.\u001b[39mto_datetime(\u001b[43mdata_frame\u001b[49m\u001b[43m[\u001b[49m\u001b[38;5;124;43m'\u001b[39;49m\u001b[38;5;124;43mOpenDate_new\u001b[39;49m\u001b[38;5;124;43m'\u001b[39;49m\u001b[43m]\u001b[49m)\n\u001b[1;32m      8\u001b[0m \u001b[38;5;66;03m# Extract the year from the OpenDate column\u001b[39;00m\n\u001b[1;32m      9\u001b[0m data_frame[\u001b[38;5;124m'\u001b[39m\u001b[38;5;124mYear\u001b[39m\u001b[38;5;124m'\u001b[39m] \u001b[38;5;241m=\u001b[39m data_frame[\u001b[38;5;124m'\u001b[39m\u001b[38;5;124mOpenDate_new\u001b[39m\u001b[38;5;124m'\u001b[39m]\u001b[38;5;241m.\u001b[39mdt\u001b[38;5;241m.\u001b[39myear\n",
      "File \u001b[0;32m~/anaconda3/lib/python3.10/site-packages/pandas/core/frame.py:3807\u001b[0m, in \u001b[0;36mDataFrame.__getitem__\u001b[0;34m(self, key)\u001b[0m\n\u001b[1;32m   3805\u001b[0m \u001b[38;5;28;01mif\u001b[39;00m \u001b[38;5;28mself\u001b[39m\u001b[38;5;241m.\u001b[39mcolumns\u001b[38;5;241m.\u001b[39mnlevels \u001b[38;5;241m>\u001b[39m \u001b[38;5;241m1\u001b[39m:\n\u001b[1;32m   3806\u001b[0m     \u001b[38;5;28;01mreturn\u001b[39;00m \u001b[38;5;28mself\u001b[39m\u001b[38;5;241m.\u001b[39m_getitem_multilevel(key)\n\u001b[0;32m-> 3807\u001b[0m indexer \u001b[38;5;241m=\u001b[39m \u001b[38;5;28;43mself\u001b[39;49m\u001b[38;5;241;43m.\u001b[39;49m\u001b[43mcolumns\u001b[49m\u001b[38;5;241;43m.\u001b[39;49m\u001b[43mget_loc\u001b[49m\u001b[43m(\u001b[49m\u001b[43mkey\u001b[49m\u001b[43m)\u001b[49m\n\u001b[1;32m   3808\u001b[0m \u001b[38;5;28;01mif\u001b[39;00m is_integer(indexer):\n\u001b[1;32m   3809\u001b[0m     indexer \u001b[38;5;241m=\u001b[39m [indexer]\n",
      "File \u001b[0;32m~/anaconda3/lib/python3.10/site-packages/pandas/core/indexes/base.py:3804\u001b[0m, in \u001b[0;36mIndex.get_loc\u001b[0;34m(self, key, method, tolerance)\u001b[0m\n\u001b[1;32m   3802\u001b[0m     \u001b[38;5;28;01mreturn\u001b[39;00m \u001b[38;5;28mself\u001b[39m\u001b[38;5;241m.\u001b[39m_engine\u001b[38;5;241m.\u001b[39mget_loc(casted_key)\n\u001b[1;32m   3803\u001b[0m \u001b[38;5;28;01mexcept\u001b[39;00m \u001b[38;5;167;01mKeyError\u001b[39;00m \u001b[38;5;28;01mas\u001b[39;00m err:\n\u001b[0;32m-> 3804\u001b[0m     \u001b[38;5;28;01mraise\u001b[39;00m \u001b[38;5;167;01mKeyError\u001b[39;00m(key) \u001b[38;5;28;01mfrom\u001b[39;00m \u001b[38;5;21;01merr\u001b[39;00m\n\u001b[1;32m   3805\u001b[0m \u001b[38;5;28;01mexcept\u001b[39;00m \u001b[38;5;167;01mTypeError\u001b[39;00m:\n\u001b[1;32m   3806\u001b[0m     \u001b[38;5;66;03m# If we have a listlike key, _check_indexing_error will raise\u001b[39;00m\n\u001b[1;32m   3807\u001b[0m     \u001b[38;5;66;03m#  InvalidIndexError. Otherwise we fall through and re-raise\u001b[39;00m\n\u001b[1;32m   3808\u001b[0m     \u001b[38;5;66;03m#  the TypeError.\u001b[39;00m\n\u001b[1;32m   3809\u001b[0m     \u001b[38;5;28mself\u001b[39m\u001b[38;5;241m.\u001b[39m_check_indexing_error(key)\n",
      "\u001b[0;31mKeyError\u001b[0m: 'OpenDate_new'"
     ]
    }
   ],
   "source": [
    "data_frame = new_data\n",
    "\n",
    "data_frame['OpenDate_new'] = pd.to_datetime(data_frame['OpenDate_new'])\n",
    "\n",
    "data_frame['Year'] = data_frame['OpenDate_new'].dt.year\n",
    "\n",
    "complaints_per_year = data_frame.groupby('Year')['OpenDate_new'].count()\n",
    "\n",
    "max_complaints_year = complaints_per_year.idxmax()\n",
    "\n",
    "# Print the result\n",
    "print(\"Year with the most complaints filed:\", max_complaints_year)"
   ]
  },
  {
   "cell_type": "code",
   "execution_count": null,
   "id": "de18ab22",
   "metadata": {},
   "outputs": [],
   "source": []
  }
 ],
 "metadata": {
  "kernelspec": {
   "display_name": "Python 3 (ipykernel)",
   "language": "python",
   "name": "python3"
  },
  "language_info": {
   "codemirror_mode": {
    "name": "ipython",
    "version": 3
   },
   "file_extension": ".py",
   "mimetype": "text/x-python",
   "name": "python",
   "nbconvert_exporter": "python",
   "pygments_lexer": "ipython3",
   "version": "3.10.9"
  }
 },
 "nbformat": 4,
 "nbformat_minor": 5
}
