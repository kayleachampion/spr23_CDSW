{
 "cells": [
  {
   "cell_type": "markdown",
   "id": "66b89f75",
   "metadata": {},
   "source": [
    "# 1 - Getting started with pandas and Seattle \"complaint\" data"
   ]
  },
  {
   "cell_type": "code",
   "execution_count": 1,
   "id": "0cbc17ee",
   "metadata": {},
   "outputs": [],
   "source": [
    "import pandas as pd"
   ]
  },
  {
   "cell_type": "code",
   "execution_count": 11,
   "id": "f7811e6c",
   "metadata": {},
   "outputs": [],
   "source": [
    "# 1.3 - pandas dataframe"
   ]
  },
  {
   "cell_type": "code",
   "execution_count": 7,
   "id": "1de897d1",
   "metadata": {},
   "outputs": [],
   "source": [
    "complaints = pd.read_csv(\"Code_Complaints_and_Violations.csv\", delimiter=\",\")"
   ]
  },
  {
   "cell_type": "code",
   "execution_count": 12,
   "id": "271134d5",
   "metadata": {},
   "outputs": [],
   "source": [
    "# 1.4 - parts of the dataframe"
   ]
  },
  {
   "cell_type": "code",
   "execution_count": 9,
   "id": "1836a975",
   "metadata": {},
   "outputs": [
    {
     "data": {
      "text/html": [
       "<div>\n",
       "<style scoped>\n",
       "    .dataframe tbody tr th:only-of-type {\n",
       "        vertical-align: middle;\n",
       "    }\n",
       "\n",
       "    .dataframe tbody tr th {\n",
       "        vertical-align: top;\n",
       "    }\n",
       "\n",
       "    .dataframe thead th {\n",
       "        text-align: right;\n",
       "    }\n",
       "</style>\n",
       "<table border=\"1\" class=\"dataframe\">\n",
       "  <thead>\n",
       "    <tr style=\"text-align: right;\">\n",
       "      <th></th>\n",
       "      <th>RecordNum</th>\n",
       "      <th>RecordType</th>\n",
       "      <th>RecordTypeMapped</th>\n",
       "      <th>RecordTypeDesc</th>\n",
       "      <th>Description</th>\n",
       "      <th>OpenDate</th>\n",
       "      <th>LastInspDate</th>\n",
       "      <th>LastInspResult</th>\n",
       "      <th>StatusCurrent</th>\n",
       "      <th>OriginalAddress1</th>\n",
       "      <th>OriginalCity</th>\n",
       "      <th>OriginalState</th>\n",
       "      <th>OriginalZip</th>\n",
       "      <th>Link</th>\n",
       "      <th>Latitude</th>\n",
       "      <th>Longitude</th>\n",
       "      <th>Location1</th>\n",
       "    </tr>\n",
       "  </thead>\n",
       "  <tbody>\n",
       "    <tr>\n",
       "      <th>0</th>\n",
       "      <td>001001-03CP</td>\n",
       "      <td>Complaint</td>\n",
       "      <td>Request</td>\n",
       "      <td>Construction</td>\n",
       "      <td>Elevator gets stuck at least 3 times a week, f...</td>\n",
       "      <td>2003-11-10</td>\n",
       "      <td>POINT (-122.33582172 47.60642293)</td>\n",
       "      <td>Completed</td>\n",
       "      <td>Completed</td>\n",
       "      <td>1100 2ND AVE</td>\n",
       "      <td>SEATTLE</td>\n",
       "      <td>WA</td>\n",
       "      <td>98101.0</td>\n",
       "      <td>https://cosaccela.seattle.gov/portal/customize...</td>\n",
       "      <td>47.606423</td>\n",
       "      <td>-122.335822</td>\n",
       "      <td>(47.60642293, -122.33582172)</td>\n",
       "    </tr>\n",
       "    <tr>\n",
       "      <th>1</th>\n",
       "      <td>001002-03CP</td>\n",
       "      <td>Complaint</td>\n",
       "      <td>Request</td>\n",
       "      <td>Construction</td>\n",
       "      <td>Concerned about RV pumpout that is currently b...</td>\n",
       "      <td>2003-11-10</td>\n",
       "      <td>POINT (-122.35191884 47.68639169)</td>\n",
       "      <td>Completed</td>\n",
       "      <td>Completed</td>\n",
       "      <td>512 N 79TH ST</td>\n",
       "      <td>SEATTLE</td>\n",
       "      <td>WA</td>\n",
       "      <td>98103.0</td>\n",
       "      <td>https://cosaccela.seattle.gov/portal/customize...</td>\n",
       "      <td>47.686392</td>\n",
       "      <td>-122.351919</td>\n",
       "      <td>(47.68639169, -122.35191884)</td>\n",
       "    </tr>\n",
       "    <tr>\n",
       "      <th>2</th>\n",
       "      <td>001003-03CP</td>\n",
       "      <td>Complaint</td>\n",
       "      <td>Request</td>\n",
       "      <td>Vacant Building</td>\n",
       "      <td>The vacant red apple building and adjacent bui...</td>\n",
       "      <td>2003-11-10</td>\n",
       "      <td>POINT (-122.31388805 47.61559829)</td>\n",
       "      <td>Completed</td>\n",
       "      <td>Completed</td>\n",
       "      <td>1400 E PINE ST</td>\n",
       "      <td>SEATTLE</td>\n",
       "      <td>WA</td>\n",
       "      <td>98122.0</td>\n",
       "      <td>https://cosaccela.seattle.gov/portal/customize...</td>\n",
       "      <td>47.615598</td>\n",
       "      <td>-122.313888</td>\n",
       "      <td>(47.61559829, -122.31388805)</td>\n",
       "    </tr>\n",
       "    <tr>\n",
       "      <th>3</th>\n",
       "      <td>001004-03CP</td>\n",
       "      <td>Complaint</td>\n",
       "      <td>Request</td>\n",
       "      <td>Land Use</td>\n",
       "      <td>Trailor and camper parked in back yard.  Peopl...</td>\n",
       "      <td>2003-11-10</td>\n",
       "      <td>POINT (-122.36215164 47.69226044)</td>\n",
       "      <td>Completed</td>\n",
       "      <td>Completed</td>\n",
       "      <td>332 NW 87TH ST</td>\n",
       "      <td>SEATTLE</td>\n",
       "      <td>WA</td>\n",
       "      <td>98117.0</td>\n",
       "      <td>https://cosaccela.seattle.gov/portal/customize...</td>\n",
       "      <td>47.692260</td>\n",
       "      <td>-122.362152</td>\n",
       "      <td>(47.69226044, -122.36215164)</td>\n",
       "    </tr>\n",
       "    <tr>\n",
       "      <th>4</th>\n",
       "      <td>001005-03CP</td>\n",
       "      <td>Complaint</td>\n",
       "      <td>Request</td>\n",
       "      <td>Land Use</td>\n",
       "      <td>Illegal use of property.\"Hawkers\" or vendors (...</td>\n",
       "      <td>2003-11-10</td>\n",
       "      <td>POINT (-122.33832038 47.60911773)</td>\n",
       "      <td>Completed</td>\n",
       "      <td>Completed</td>\n",
       "      <td>1430 2ND AVE</td>\n",
       "      <td>SEATTLE</td>\n",
       "      <td>WA</td>\n",
       "      <td>98101.0</td>\n",
       "      <td>https://cosaccela.seattle.gov/portal/customize...</td>\n",
       "      <td>47.609118</td>\n",
       "      <td>-122.338320</td>\n",
       "      <td>(47.60911773, -122.33832038)</td>\n",
       "    </tr>\n",
       "    <tr>\n",
       "      <th>...</th>\n",
       "      <td>...</td>\n",
       "      <td>...</td>\n",
       "      <td>...</td>\n",
       "      <td>...</td>\n",
       "      <td>...</td>\n",
       "      <td>...</td>\n",
       "      <td>...</td>\n",
       "      <td>...</td>\n",
       "      <td>...</td>\n",
       "      <td>...</td>\n",
       "      <td>...</td>\n",
       "      <td>...</td>\n",
       "      <td>...</td>\n",
       "      <td>...</td>\n",
       "      <td>...</td>\n",
       "      <td>...</td>\n",
       "      <td>...</td>\n",
       "    </tr>\n",
       "    <tr>\n",
       "      <th>188125</th>\n",
       "      <td>004881-23CP</td>\n",
       "      <td>Complaint</td>\n",
       "      <td>Request</td>\n",
       "      <td>LandLord/Tenant</td>\n",
       "      <td>NOTICE OF INTENT TO ENTERAND PRESUMED ABANDONMENT</td>\n",
       "      <td>2023-05-10</td>\n",
       "      <td>POINT (-122.34702054 47.73157296)</td>\n",
       "      <td>NaN</td>\n",
       "      <td>Under Investigation</td>\n",
       "      <td>14100 LINDEN AVE N</td>\n",
       "      <td>SEATTLE</td>\n",
       "      <td>WA</td>\n",
       "      <td>98133.0</td>\n",
       "      <td>https://cosaccela.seattle.gov/portal/customize...</td>\n",
       "      <td>47.731573</td>\n",
       "      <td>-122.347021</td>\n",
       "      <td>(47.73157296, -122.34702054)</td>\n",
       "    </tr>\n",
       "    <tr>\n",
       "      <th>188126</th>\n",
       "      <td>1055984-VI</td>\n",
       "      <td>Notice of Violation</td>\n",
       "      <td>Case</td>\n",
       "      <td>NaN</td>\n",
       "      <td>COMPLY OR VACATEMOLD, CEILING LEAKPER PIPE PRO...</td>\n",
       "      <td>2023-05-10</td>\n",
       "      <td>POINT (-122.34224721 47.61513867)</td>\n",
       "      <td>NaN</td>\n",
       "      <td>Initiated</td>\n",
       "      <td>420 BLANCHARD ST</td>\n",
       "      <td>SEATTLE</td>\n",
       "      <td>WA</td>\n",
       "      <td>98121.0</td>\n",
       "      <td>https://cosaccela.seattle.gov/portal/customize...</td>\n",
       "      <td>47.615139</td>\n",
       "      <td>-122.342247</td>\n",
       "      <td>(47.61513867, -122.34224721)</td>\n",
       "    </tr>\n",
       "    <tr>\n",
       "      <th>188127</th>\n",
       "      <td>004882-23CP</td>\n",
       "      <td>Complaint</td>\n",
       "      <td>Request</td>\n",
       "      <td>NaN</td>\n",
       "      <td>The person residing at 1235 S. Donovan Street ...</td>\n",
       "      <td>2023-05-10</td>\n",
       "      <td>POINT (-122.31613662 47.52543336)</td>\n",
       "      <td>NaN</td>\n",
       "      <td>Initiated</td>\n",
       "      <td>1235 S DONOVAN ST</td>\n",
       "      <td>SEATTLE</td>\n",
       "      <td>WA</td>\n",
       "      <td>98108.0</td>\n",
       "      <td>https://cosaccela.seattle.gov/portal/customize...</td>\n",
       "      <td>47.525433</td>\n",
       "      <td>-122.316137</td>\n",
       "      <td>(47.52543336, -122.31613662)</td>\n",
       "    </tr>\n",
       "    <tr>\n",
       "      <th>188128</th>\n",
       "      <td>004883-23CP</td>\n",
       "      <td>Complaint</td>\n",
       "      <td>Request</td>\n",
       "      <td>NaN</td>\n",
       "      <td>The General contractor Iliya Kovalev doesn't w...</td>\n",
       "      <td>2023-05-10</td>\n",
       "      <td>POINT (-122.39165973 47.68630858)</td>\n",
       "      <td>NaN</td>\n",
       "      <td>Initiated</td>\n",
       "      <td>7744 EARL AVE NW</td>\n",
       "      <td>SEATTLE</td>\n",
       "      <td>WA</td>\n",
       "      <td>98117.0</td>\n",
       "      <td>https://cosaccela.seattle.gov/portal/customize...</td>\n",
       "      <td>47.686309</td>\n",
       "      <td>-122.391660</td>\n",
       "      <td>(47.68630858, -122.39165973)</td>\n",
       "    </tr>\n",
       "    <tr>\n",
       "      <th>188129</th>\n",
       "      <td>004884-23CP</td>\n",
       "      <td>Complaint</td>\n",
       "      <td>Request</td>\n",
       "      <td>NaN</td>\n",
       "      <td>The traffic rush hour on Fairview and Denny Wa...</td>\n",
       "      <td>2023-05-10</td>\n",
       "      <td>POINT (-122.33510728 47.61913747)</td>\n",
       "      <td>NaN</td>\n",
       "      <td>Initiated</td>\n",
       "      <td>111 Fairview AVE N</td>\n",
       "      <td>NaN</td>\n",
       "      <td>NaN</td>\n",
       "      <td>NaN</td>\n",
       "      <td>https://cosaccela.seattle.gov/portal/customize...</td>\n",
       "      <td>47.619137</td>\n",
       "      <td>-122.335107</td>\n",
       "      <td>(47.61913747, -122.33510728)</td>\n",
       "    </tr>\n",
       "  </tbody>\n",
       "</table>\n",
       "<p>188130 rows × 17 columns</p>\n",
       "</div>"
      ],
      "text/plain": [
       "          RecordNum           RecordType RecordTypeMapped   RecordTypeDesc  \\\n",
       "0       001001-03CP            Complaint          Request     Construction   \n",
       "1       001002-03CP            Complaint          Request     Construction   \n",
       "2       001003-03CP            Complaint          Request  Vacant Building   \n",
       "3       001004-03CP            Complaint          Request         Land Use   \n",
       "4       001005-03CP            Complaint          Request         Land Use   \n",
       "...             ...                  ...              ...              ...   \n",
       "188125  004881-23CP            Complaint          Request  LandLord/Tenant   \n",
       "188126   1055984-VI  Notice of Violation             Case              NaN   \n",
       "188127  004882-23CP            Complaint          Request              NaN   \n",
       "188128  004883-23CP            Complaint          Request              NaN   \n",
       "188129  004884-23CP            Complaint          Request              NaN   \n",
       "\n",
       "                                              Description    OpenDate  \\\n",
       "0       Elevator gets stuck at least 3 times a week, f...  2003-11-10   \n",
       "1       Concerned about RV pumpout that is currently b...  2003-11-10   \n",
       "2       The vacant red apple building and adjacent bui...  2003-11-10   \n",
       "3       Trailor and camper parked in back yard.  Peopl...  2003-11-10   \n",
       "4       Illegal use of property.\"Hawkers\" or vendors (...  2003-11-10   \n",
       "...                                                   ...         ...   \n",
       "188125  NOTICE OF INTENT TO ENTERAND PRESUMED ABANDONMENT  2023-05-10   \n",
       "188126  COMPLY OR VACATEMOLD, CEILING LEAKPER PIPE PRO...  2023-05-10   \n",
       "188127  The person residing at 1235 S. Donovan Street ...  2023-05-10   \n",
       "188128  The General contractor Iliya Kovalev doesn't w...  2023-05-10   \n",
       "188129  The traffic rush hour on Fairview and Denny Wa...  2023-05-10   \n",
       "\n",
       "                             LastInspDate LastInspResult        StatusCurrent  \\\n",
       "0       POINT (-122.33582172 47.60642293)      Completed            Completed   \n",
       "1       POINT (-122.35191884 47.68639169)      Completed            Completed   \n",
       "2       POINT (-122.31388805 47.61559829)      Completed            Completed   \n",
       "3       POINT (-122.36215164 47.69226044)      Completed            Completed   \n",
       "4       POINT (-122.33832038 47.60911773)      Completed            Completed   \n",
       "...                                   ...            ...                  ...   \n",
       "188125  POINT (-122.34702054 47.73157296)            NaN  Under Investigation   \n",
       "188126  POINT (-122.34224721 47.61513867)            NaN            Initiated   \n",
       "188127  POINT (-122.31613662 47.52543336)            NaN            Initiated   \n",
       "188128  POINT (-122.39165973 47.68630858)            NaN            Initiated   \n",
       "188129  POINT (-122.33510728 47.61913747)            NaN            Initiated   \n",
       "\n",
       "          OriginalAddress1 OriginalCity OriginalState  OriginalZip  \\\n",
       "0             1100 2ND AVE      SEATTLE            WA      98101.0   \n",
       "1            512 N 79TH ST      SEATTLE            WA      98103.0   \n",
       "2           1400 E PINE ST      SEATTLE            WA      98122.0   \n",
       "3           332 NW 87TH ST      SEATTLE            WA      98117.0   \n",
       "4             1430 2ND AVE      SEATTLE            WA      98101.0   \n",
       "...                    ...          ...           ...          ...   \n",
       "188125  14100 LINDEN AVE N      SEATTLE            WA      98133.0   \n",
       "188126    420 BLANCHARD ST      SEATTLE            WA      98121.0   \n",
       "188127   1235 S DONOVAN ST      SEATTLE            WA      98108.0   \n",
       "188128    7744 EARL AVE NW      SEATTLE            WA      98117.0   \n",
       "188129  111 Fairview AVE N          NaN           NaN          NaN   \n",
       "\n",
       "                                                     Link   Latitude  \\\n",
       "0       https://cosaccela.seattle.gov/portal/customize...  47.606423   \n",
       "1       https://cosaccela.seattle.gov/portal/customize...  47.686392   \n",
       "2       https://cosaccela.seattle.gov/portal/customize...  47.615598   \n",
       "3       https://cosaccela.seattle.gov/portal/customize...  47.692260   \n",
       "4       https://cosaccela.seattle.gov/portal/customize...  47.609118   \n",
       "...                                                   ...        ...   \n",
       "188125  https://cosaccela.seattle.gov/portal/customize...  47.731573   \n",
       "188126  https://cosaccela.seattle.gov/portal/customize...  47.615139   \n",
       "188127  https://cosaccela.seattle.gov/portal/customize...  47.525433   \n",
       "188128  https://cosaccela.seattle.gov/portal/customize...  47.686309   \n",
       "188129  https://cosaccela.seattle.gov/portal/customize...  47.619137   \n",
       "\n",
       "         Longitude                     Location1  \n",
       "0      -122.335822  (47.60642293, -122.33582172)  \n",
       "1      -122.351919  (47.68639169, -122.35191884)  \n",
       "2      -122.313888  (47.61559829, -122.31388805)  \n",
       "3      -122.362152  (47.69226044, -122.36215164)  \n",
       "4      -122.338320  (47.60911773, -122.33832038)  \n",
       "...            ...                           ...  \n",
       "188125 -122.347021  (47.73157296, -122.34702054)  \n",
       "188126 -122.342247  (47.61513867, -122.34224721)  \n",
       "188127 -122.316137  (47.52543336, -122.31613662)  \n",
       "188128 -122.391660  (47.68630858, -122.39165973)  \n",
       "188129 -122.335107  (47.61913747, -122.33510728)  \n",
       "\n",
       "[188130 rows x 17 columns]"
      ]
     },
     "execution_count": 9,
     "metadata": {},
     "output_type": "execute_result"
    }
   ],
   "source": [
    "complaints"
   ]
  },
  {
   "cell_type": "code",
   "execution_count": 16,
   "id": "c0aeb569",
   "metadata": {},
   "outputs": [
    {
     "data": {
      "text/plain": [
       "0         2003-11-10\n",
       "1         2003-11-10\n",
       "2         2003-11-10\n",
       "3         2003-11-10\n",
       "4         2003-11-10\n",
       "             ...    \n",
       "188125    2023-05-10\n",
       "188126    2023-05-10\n",
       "188127    2023-05-10\n",
       "188128    2023-05-10\n",
       "188129    2023-05-10\n",
       "Name: OpenDate, Length: 188130, dtype: object"
      ]
     },
     "execution_count": 16,
     "metadata": {},
     "output_type": "execute_result"
    }
   ],
   "source": [
    "complaints['OpenDate']"
   ]
  },
  {
   "cell_type": "code",
   "execution_count": null,
   "id": "d47ed249",
   "metadata": {},
   "outputs": [],
   "source": [
    "# 1.5 - rows and columns"
   ]
  },
  {
   "cell_type": "code",
   "execution_count": 17,
   "id": "f44329d9",
   "metadata": {},
   "outputs": [
    {
     "data": {
      "text/plain": [
       "(188130, 17)"
      ]
     },
     "execution_count": 17,
     "metadata": {},
     "output_type": "execute_result"
    }
   ],
   "source": [
    "complaints.shape"
   ]
  },
  {
   "cell_type": "markdown",
   "id": "5f4b85aa",
   "metadata": {},
   "source": [
    "# 2 - You know the type"
   ]
  },
  {
   "cell_type": "code",
   "execution_count": 28,
   "id": "1e66a038",
   "metadata": {},
   "outputs": [],
   "source": [
    "# 2.1 - RecordType"
   ]
  },
  {
   "cell_type": "code",
   "execution_count": 18,
   "id": "4b68ffb5",
   "metadata": {},
   "outputs": [
    {
     "data": {
      "text/plain": [
       "0                   Complaint\n",
       "1                   Complaint\n",
       "2                   Complaint\n",
       "3                   Complaint\n",
       "4                   Complaint\n",
       "                 ...         \n",
       "188125              Complaint\n",
       "188126    Notice of Violation\n",
       "188127              Complaint\n",
       "188128              Complaint\n",
       "188129              Complaint\n",
       "Name: RecordType, Length: 188130, dtype: object"
      ]
     },
     "execution_count": 18,
     "metadata": {},
     "output_type": "execute_result"
    }
   ],
   "source": [
    "complaints['RecordType']"
   ]
  },
  {
   "cell_type": "code",
   "execution_count": 20,
   "id": "2da900dc",
   "metadata": {},
   "outputs": [
    {
     "data": {
      "text/plain": [
       "<pandas.core.groupby.generic.DataFrameGroupBy object at 0x7fcb4cba8970>"
      ]
     },
     "execution_count": 20,
     "metadata": {},
     "output_type": "execute_result"
    }
   ],
   "source": [
    "complaints.groupby('RecordType')"
   ]
  },
  {
   "cell_type": "code",
   "execution_count": 22,
   "id": "9cca7966",
   "metadata": {},
   "outputs": [
    {
     "data": {
      "text/plain": [
       "5"
      ]
     },
     "execution_count": 22,
     "metadata": {},
     "output_type": "execute_result"
    }
   ],
   "source": [
    "len(complaints.groupby('RecordType'))"
   ]
  },
  {
   "cell_type": "code",
   "execution_count": 46,
   "id": "bb84145e",
   "metadata": {},
   "outputs": [
    {
     "data": {
      "text/plain": [
       "RecordType\n",
       "Citation                18597\n",
       "Complaint              137119\n",
       "Notice of Violation     28459\n",
       "Tenant Relocation        3639\n",
       "Unfit Building            316\n",
       "dtype: int64"
      ]
     },
     "execution_count": 46,
     "metadata": {},
     "output_type": "execute_result"
    }
   ],
   "source": [
    "complaints.groupby('RecordType').size()"
   ]
  },
  {
   "cell_type": "code",
   "execution_count": 48,
   "id": "af50c599",
   "metadata": {},
   "outputs": [
    {
     "data": {
      "text/plain": [
       "Complaint              137119\n",
       "Notice of Violation     28459\n",
       "Citation                18597\n",
       "Tenant Relocation        3639\n",
       "Unfit Building            316\n",
       "Name: RecordType, dtype: int64"
      ]
     },
     "execution_count": 48,
     "metadata": {},
     "output_type": "execute_result"
    }
   ],
   "source": [
    "complaints['RecordType'].value_counts()"
   ]
  },
  {
   "cell_type": "code",
   "execution_count": 25,
   "id": "9c196b15",
   "metadata": {},
   "outputs": [
    {
     "data": {
      "text/plain": [
       "<Axes: >"
      ]
     },
     "execution_count": 25,
     "metadata": {},
     "output_type": "execute_result"
    },
    {
     "data": {
      "image/png": "[encoded data removed]",
      "text/plain": [
       "<Figure size 640x480 with 1 Axes>"
      ]
     },
     "metadata": {},
     "output_type": "display_data"
    }
   ],
   "source": [
    "complaints['RecordType'].hist()"
   ]
  },
  {
   "cell_type": "code",
   "execution_count": 45,
   "id": "fb0fc252",
   "metadata": {},
   "outputs": [],
   "source": [
    "# description per category"
   ]
  },
  {
   "cell_type": "code",
   "execution_count": 39,
   "id": "7ccfb09a",
   "metadata": {},
   "outputs": [
    {
     "data": {
      "text/plain": [
       "0    Elevator gets stuck at least 3 times a week, f...\n",
       "1    Concerned about RV pumpout that is currently b...\n",
       "2    The vacant red apple building and adjacent bui...\n",
       "3    Trailor and camper parked in back yard.  Peopl...\n",
       "4    Illegal use of property.\"Hawkers\" or vendors (...\n",
       "Name: Description, dtype: object"
      ]
     },
     "execution_count": 39,
     "metadata": {},
     "output_type": "execute_result"
    }
   ],
   "source": [
    "complaints[complaints[\"RecordType\"] == \"Complaint\"]['Description'].head()"
   ]
  },
  {
   "cell_type": "code",
   "execution_count": 40,
   "id": "7f00f477",
   "metadata": {},
   "outputs": [
    {
     "data": {
      "text/plain": [
       "462                                                  NaN\n",
       "463    Someone living in camper in northeast corner o...\n",
       "464    Work w/o permit.Windows being replaced on the ...\n",
       "465    Observed while re-inspecting adjacent property...\n",
       "467    Caller states that adjacent property is being ...\n",
       "Name: Description, dtype: object"
      ]
     },
     "execution_count": 40,
     "metadata": {},
     "output_type": "execute_result"
    }
   ],
   "source": [
    "complaints[complaints[\"RecordType\"] == \"Notice of Violation\"]['Description'].head()"
   ]
  },
  {
   "cell_type": "code",
   "execution_count": 41,
   "id": "47cf6dac",
   "metadata": {},
   "outputs": [
    {
     "data": {
      "text/plain": [
       "466     FIRE DAMAGED HOUSE- OWNER IS APPLYING FOR UNFI...\n",
       "610                     Burned out single family building\n",
       "4750              Three unit condo damamged by 1996 slide\n",
       "4768                        zoning junk storage violation\n",
       "4887                          unfit building and premises\n",
       "Name: Description, dtype: object"
      ]
     },
     "execution_count": 41,
     "metadata": {},
     "output_type": "execute_result"
    }
   ],
   "source": [
    "complaints[complaints[\"RecordType\"] == \"Unfit Building\"]['Description'].head()"
   ]
  },
  {
   "cell_type": "code",
   "execution_count": 42,
   "id": "4bf4dea7",
   "metadata": {},
   "outputs": [
    {
     "data": {
      "text/plain": [
       "472    Parking in req'd yard and unpermitted outdoor ...\n",
       "481                             observed hbmc violations\n",
       "482    Parking a vehicle in the required front yard -...\n",
       "485              Observed viol, inops, junk and parking.\n",
       "487    Parking pick-up truck in required front yard -...\n",
       "Name: Description, dtype: object"
      ]
     },
     "execution_count": 42,
     "metadata": {},
     "output_type": "execute_result"
    }
   ],
   "source": [
    "complaints[complaints[\"RecordType\"] == \"Citation\"]['Description'].head()"
   ]
  },
  {
   "cell_type": "code",
   "execution_count": 44,
   "id": "8c97f3e1",
   "metadata": {},
   "outputs": [
    {
     "data": {
      "text/plain": [
       "476    Application for Tenant Relocation License\n",
       "478    Application for Tenant Relocation License\n",
       "490    Application for Tenant Relocation License\n",
       "512    Application for tenant relocation license\n",
       "513    Application for Tenant Relocation License\n",
       "Name: Description, dtype: object"
      ]
     },
     "execution_count": 44,
     "metadata": {},
     "output_type": "execute_result"
    }
   ],
   "source": [
    "complaints[complaints[\"RecordType\"] == \"Tenant Relocation\"]['Description'].head()"
   ]
  },
  {
   "cell_type": "markdown",
   "id": "ac761457",
   "metadata": {},
   "source": [
    "Things included:\n",
    "- Complaint - things that concern people\n",
    "- Notive of Violation - things that are breaking rules\n",
    "- Unfit Building - things that are unsafe about a building\n",
    "- Citation - parking violations\n",
    "- Tenant Relocation - applications for tenant relocation licenses"
   ]
  },
  {
   "cell_type": "code",
   "execution_count": 49,
   "id": "ee69b3b4",
   "metadata": {},
   "outputs": [],
   "source": [
    "# 2.2 - \"RecordType\" and \"OriginalZip\""
   ]
  },
  {
   "cell_type": "code",
   "execution_count": 50,
   "id": "7fdac5a0",
   "metadata": {},
   "outputs": [
    {
     "data": {
      "text/html": [
       "<div>\n",
       "<style scoped>\n",
       "    .dataframe tbody tr th:only-of-type {\n",
       "        vertical-align: middle;\n",
       "    }\n",
       "\n",
       "    .dataframe tbody tr th {\n",
       "        vertical-align: top;\n",
       "    }\n",
       "\n",
       "    .dataframe thead th {\n",
       "        text-align: right;\n",
       "    }\n",
       "</style>\n",
       "<table border=\"1\" class=\"dataframe\">\n",
       "  <thead>\n",
       "    <tr style=\"text-align: right;\">\n",
       "      <th></th>\n",
       "      <th>RecordType</th>\n",
       "      <th>OriginalZip</th>\n",
       "    </tr>\n",
       "  </thead>\n",
       "  <tbody>\n",
       "    <tr>\n",
       "      <th>0</th>\n",
       "      <td>Complaint</td>\n",
       "      <td>98101.0</td>\n",
       "    </tr>\n",
       "    <tr>\n",
       "      <th>1</th>\n",
       "      <td>Complaint</td>\n",
       "      <td>98103.0</td>\n",
       "    </tr>\n",
       "    <tr>\n",
       "      <th>2</th>\n",
       "      <td>Complaint</td>\n",
       "      <td>98122.0</td>\n",
       "    </tr>\n",
       "    <tr>\n",
       "      <th>3</th>\n",
       "      <td>Complaint</td>\n",
       "      <td>98117.0</td>\n",
       "    </tr>\n",
       "    <tr>\n",
       "      <th>4</th>\n",
       "      <td>Complaint</td>\n",
       "      <td>98101.0</td>\n",
       "    </tr>\n",
       "    <tr>\n",
       "      <th>...</th>\n",
       "      <td>...</td>\n",
       "      <td>...</td>\n",
       "    </tr>\n",
       "    <tr>\n",
       "      <th>188125</th>\n",
       "      <td>Complaint</td>\n",
       "      <td>98133.0</td>\n",
       "    </tr>\n",
       "    <tr>\n",
       "      <th>188126</th>\n",
       "      <td>Notice of Violation</td>\n",
       "      <td>98121.0</td>\n",
       "    </tr>\n",
       "    <tr>\n",
       "      <th>188127</th>\n",
       "      <td>Complaint</td>\n",
       "      <td>98108.0</td>\n",
       "    </tr>\n",
       "    <tr>\n",
       "      <th>188128</th>\n",
       "      <td>Complaint</td>\n",
       "      <td>98117.0</td>\n",
       "    </tr>\n",
       "    <tr>\n",
       "      <th>188129</th>\n",
       "      <td>Complaint</td>\n",
       "      <td>NaN</td>\n",
       "    </tr>\n",
       "  </tbody>\n",
       "</table>\n",
       "<p>188130 rows × 2 columns</p>\n",
       "</div>"
      ],
      "text/plain": [
       "                 RecordType  OriginalZip\n",
       "0                 Complaint      98101.0\n",
       "1                 Complaint      98103.0\n",
       "2                 Complaint      98122.0\n",
       "3                 Complaint      98117.0\n",
       "4                 Complaint      98101.0\n",
       "...                     ...          ...\n",
       "188125            Complaint      98133.0\n",
       "188126  Notice of Violation      98121.0\n",
       "188127            Complaint      98108.0\n",
       "188128            Complaint      98117.0\n",
       "188129            Complaint          NaN\n",
       "\n",
       "[188130 rows x 2 columns]"
      ]
     },
     "execution_count": 50,
     "metadata": {},
     "output_type": "execute_result"
    }
   ],
   "source": [
    "complaints[[\"RecordType\", \"OriginalZip\"]]"
   ]
  },
  {
   "cell_type": "code",
   "execution_count": 51,
   "id": "19655036",
   "metadata": {},
   "outputs": [],
   "source": [
    "# 2.3 - filter by zipcode"
   ]
  },
  {
   "cell_type": "code",
   "execution_count": 52,
   "id": "c37a2f72",
   "metadata": {},
   "outputs": [],
   "source": [
    "zipcode = complaints[[\"RecordType\", \"OriginalZip\"]]"
   ]
  },
  {
   "cell_type": "code",
   "execution_count": 57,
   "id": "2167fb47",
   "metadata": {},
   "outputs": [
    {
     "data": {
      "text/html": [
       "<div>\n",
       "<style scoped>\n",
       "    .dataframe tbody tr th:only-of-type {\n",
       "        vertical-align: middle;\n",
       "    }\n",
       "\n",
       "    .dataframe tbody tr th {\n",
       "        vertical-align: top;\n",
       "    }\n",
       "\n",
       "    .dataframe thead th {\n",
       "        text-align: right;\n",
       "    }\n",
       "</style>\n",
       "<table border=\"1\" class=\"dataframe\">\n",
       "  <thead>\n",
       "    <tr style=\"text-align: right;\">\n",
       "      <th></th>\n",
       "      <th>RecordType</th>\n",
       "      <th>OriginalZip</th>\n",
       "    </tr>\n",
       "  </thead>\n",
       "  <tbody>\n",
       "    <tr>\n",
       "      <th>30</th>\n",
       "      <td>Complaint</td>\n",
       "      <td>98105.0</td>\n",
       "    </tr>\n",
       "    <tr>\n",
       "      <th>33</th>\n",
       "      <td>Complaint</td>\n",
       "      <td>98105.0</td>\n",
       "    </tr>\n",
       "    <tr>\n",
       "      <th>40</th>\n",
       "      <td>Complaint</td>\n",
       "      <td>98105.0</td>\n",
       "    </tr>\n",
       "    <tr>\n",
       "      <th>121</th>\n",
       "      <td>Complaint</td>\n",
       "      <td>98105.0</td>\n",
       "    </tr>\n",
       "    <tr>\n",
       "      <th>122</th>\n",
       "      <td>Complaint</td>\n",
       "      <td>98105.0</td>\n",
       "    </tr>\n",
       "    <tr>\n",
       "      <th>...</th>\n",
       "      <td>...</td>\n",
       "      <td>...</td>\n",
       "    </tr>\n",
       "    <tr>\n",
       "      <th>188057</th>\n",
       "      <td>Complaint</td>\n",
       "      <td>98105.0</td>\n",
       "    </tr>\n",
       "    <tr>\n",
       "      <th>188100</th>\n",
       "      <td>Complaint</td>\n",
       "      <td>98105.0</td>\n",
       "    </tr>\n",
       "    <tr>\n",
       "      <th>188105</th>\n",
       "      <td>Notice of Violation</td>\n",
       "      <td>98105.0</td>\n",
       "    </tr>\n",
       "    <tr>\n",
       "      <th>188121</th>\n",
       "      <td>Complaint</td>\n",
       "      <td>98105.0</td>\n",
       "    </tr>\n",
       "    <tr>\n",
       "      <th>188122</th>\n",
       "      <td>Complaint</td>\n",
       "      <td>98105.0</td>\n",
       "    </tr>\n",
       "  </tbody>\n",
       "</table>\n",
       "<p>9331 rows × 2 columns</p>\n",
       "</div>"
      ],
      "text/plain": [
       "                 RecordType  OriginalZip\n",
       "30                Complaint      98105.0\n",
       "33                Complaint      98105.0\n",
       "40                Complaint      98105.0\n",
       "121               Complaint      98105.0\n",
       "122               Complaint      98105.0\n",
       "...                     ...          ...\n",
       "188057            Complaint      98105.0\n",
       "188100            Complaint      98105.0\n",
       "188105  Notice of Violation      98105.0\n",
       "188121            Complaint      98105.0\n",
       "188122            Complaint      98105.0\n",
       "\n",
       "[9331 rows x 2 columns]"
      ]
     },
     "execution_count": 57,
     "metadata": {},
     "output_type": "execute_result"
    }
   ],
   "source": [
    "zipcode[zipcode[\"OriginalZip\"] == 98105]"
   ]
  },
  {
   "cell_type": "code",
   "execution_count": 58,
   "id": "2c63ae19",
   "metadata": {},
   "outputs": [],
   "source": [
    "# 2.3.1 - number and proportion of different types of records"
   ]
  },
  {
   "cell_type": "code",
   "execution_count": 59,
   "id": "14a785bf",
   "metadata": {},
   "outputs": [],
   "source": [
    "myzip = zipcode[zipcode[\"OriginalZip\"] == 98105]"
   ]
  },
  {
   "cell_type": "code",
   "execution_count": 61,
   "id": "d1a22375",
   "metadata": {},
   "outputs": [
    {
     "data": {
      "text/plain": [
       "<pandas.core.groupby.generic.DataFrameGroupBy object at 0x7fcb4e1a5b40>"
      ]
     },
     "execution_count": 61,
     "metadata": {},
     "output_type": "execute_result"
    }
   ],
   "source": [
    "myzip.groupby('RecordType')"
   ]
  },
  {
   "cell_type": "code",
   "execution_count": 62,
   "id": "77c95b01",
   "metadata": {},
   "outputs": [
    {
     "data": {
      "text/plain": [
       "Complaint              6684\n",
       "Notice of Violation    1574\n",
       "Citation                827\n",
       "Tenant Relocation       228\n",
       "Unfit Building           18\n",
       "Name: RecordType, dtype: int64"
      ]
     },
     "execution_count": 62,
     "metadata": {},
     "output_type": "execute_result"
    }
   ],
   "source": [
    "myzip['RecordType'].value_counts()"
   ]
  },
  {
   "cell_type": "code",
   "execution_count": 63,
   "id": "48fd3ccd",
   "metadata": {},
   "outputs": [],
   "source": [
    "# 2.3.2 - myzip compared to seattle overall"
   ]
  },
  {
   "cell_type": "code",
   "execution_count": 66,
   "id": "ad45af91",
   "metadata": {},
   "outputs": [
    {
     "data": {
      "text/plain": [
       "<Axes: >"
      ]
     },
     "execution_count": 66,
     "metadata": {},
     "output_type": "execute_result"
    },
    {
     "data": {
      "image/png": "[encoded data removed]",
      "text/plain": [
       "<Figure size 640x480 with 1 Axes>"
      ]
     },
     "metadata": {},
     "output_type": "display_data"
    }
   ],
   "source": [
    "myzip['RecordType'].hist()"
   ]
  },
  {
   "cell_type": "code",
   "execution_count": 68,
   "id": "5bb70fe4",
   "metadata": {},
   "outputs": [
    {
     "data": {
      "text/plain": [
       "<Axes: >"
      ]
     },
     "execution_count": 68,
     "metadata": {},
     "output_type": "execute_result"
    },
    {
     "data": {
      "image/png": "[encoded data removed]",
      "text/plain": [
       "<Figure size 640x480 with 1 Axes>"
      ]
     },
     "metadata": {},
     "output_type": "display_data"
    }
   ],
   "source": [
    "complaints['RecordType'].hist()"
   ]
  },
  {
   "cell_type": "markdown",
   "id": "a7c62275",
   "metadata": {},
   "source": [
    "Same distribution:\n",
    "- #1. Complaints\n",
    "- #2. NoV\n",
    "- #3. Citation\n",
    "- #4. Tenant Relocation\n",
    "- #5. Unfit Building"
   ]
  },
  {
   "cell_type": "code",
   "execution_count": 69,
   "id": "b334a7bc",
   "metadata": {},
   "outputs": [
    {
     "data": {
      "text/plain": [
       "Complaint              137119\n",
       "Notice of Violation     28459\n",
       "Citation                18597\n",
       "Tenant Relocation        3639\n",
       "Unfit Building            316\n",
       "Name: RecordType, dtype: int64"
      ]
     },
     "execution_count": 69,
     "metadata": {},
     "output_type": "execute_result"
    }
   ],
   "source": [
    "complaints['RecordType'].value_counts()"
   ]
  },
  {
   "cell_type": "code",
   "execution_count": 70,
   "id": "8a9038b3",
   "metadata": {},
   "outputs": [
    {
     "data": {
      "text/plain": [
       "Complaint              6684\n",
       "Notice of Violation    1574\n",
       "Citation                827\n",
       "Tenant Relocation       228\n",
       "Unfit Building           18\n",
       "Name: RecordType, dtype: int64"
      ]
     },
     "execution_count": 70,
     "metadata": {},
     "output_type": "execute_result"
    }
   ],
   "source": [
    "myzip['RecordType'].value_counts()"
   ]
  },
  {
   "cell_type": "code",
   "execution_count": 71,
   "id": "a7eeacb6",
   "metadata": {},
   "outputs": [],
   "source": [
    "# 2.3.3 - description from every category"
   ]
  },
  {
   "cell_type": "code",
   "execution_count": 73,
   "id": "7b2bd282",
   "metadata": {},
   "outputs": [
    {
     "data": {
      "text/html": [
       "<div>\n",
       "<style scoped>\n",
       "    .dataframe tbody tr th:only-of-type {\n",
       "        vertical-align: middle;\n",
       "    }\n",
       "\n",
       "    .dataframe tbody tr th {\n",
       "        vertical-align: top;\n",
       "    }\n",
       "\n",
       "    .dataframe thead th {\n",
       "        text-align: right;\n",
       "    }\n",
       "</style>\n",
       "<table border=\"1\" class=\"dataframe\">\n",
       "  <thead>\n",
       "    <tr style=\"text-align: right;\">\n",
       "      <th></th>\n",
       "      <th>RecordType</th>\n",
       "      <th>OriginalZip</th>\n",
       "      <th>Description</th>\n",
       "    </tr>\n",
       "  </thead>\n",
       "  <tbody>\n",
       "    <tr>\n",
       "      <th>0</th>\n",
       "      <td>Complaint</td>\n",
       "      <td>98101.0</td>\n",
       "      <td>Elevator gets stuck at least 3 times a week, f...</td>\n",
       "    </tr>\n",
       "    <tr>\n",
       "      <th>1</th>\n",
       "      <td>Complaint</td>\n",
       "      <td>98103.0</td>\n",
       "      <td>Concerned about RV pumpout that is currently b...</td>\n",
       "    </tr>\n",
       "    <tr>\n",
       "      <th>2</th>\n",
       "      <td>Complaint</td>\n",
       "      <td>98122.0</td>\n",
       "      <td>The vacant red apple building and adjacent bui...</td>\n",
       "    </tr>\n",
       "    <tr>\n",
       "      <th>3</th>\n",
       "      <td>Complaint</td>\n",
       "      <td>98117.0</td>\n",
       "      <td>Trailor and camper parked in back yard.  Peopl...</td>\n",
       "    </tr>\n",
       "    <tr>\n",
       "      <th>4</th>\n",
       "      <td>Complaint</td>\n",
       "      <td>98101.0</td>\n",
       "      <td>Illegal use of property.\"Hawkers\" or vendors (...</td>\n",
       "    </tr>\n",
       "    <tr>\n",
       "      <th>...</th>\n",
       "      <td>...</td>\n",
       "      <td>...</td>\n",
       "      <td>...</td>\n",
       "    </tr>\n",
       "    <tr>\n",
       "      <th>188125</th>\n",
       "      <td>Complaint</td>\n",
       "      <td>98133.0</td>\n",
       "      <td>NOTICE OF INTENT TO ENTERAND PRESUMED ABANDONMENT</td>\n",
       "    </tr>\n",
       "    <tr>\n",
       "      <th>188126</th>\n",
       "      <td>Notice of Violation</td>\n",
       "      <td>98121.0</td>\n",
       "      <td>COMPLY OR VACATEMOLD, CEILING LEAKPER PIPE PRO...</td>\n",
       "    </tr>\n",
       "    <tr>\n",
       "      <th>188127</th>\n",
       "      <td>Complaint</td>\n",
       "      <td>98108.0</td>\n",
       "      <td>The person residing at 1235 S. Donovan Street ...</td>\n",
       "    </tr>\n",
       "    <tr>\n",
       "      <th>188128</th>\n",
       "      <td>Complaint</td>\n",
       "      <td>98117.0</td>\n",
       "      <td>The General contractor Iliya Kovalev doesn't w...</td>\n",
       "    </tr>\n",
       "    <tr>\n",
       "      <th>188129</th>\n",
       "      <td>Complaint</td>\n",
       "      <td>NaN</td>\n",
       "      <td>The traffic rush hour on Fairview and Denny Wa...</td>\n",
       "    </tr>\n",
       "  </tbody>\n",
       "</table>\n",
       "<p>188130 rows × 3 columns</p>\n",
       "</div>"
      ],
      "text/plain": [
       "                 RecordType  OriginalZip  \\\n",
       "0                 Complaint      98101.0   \n",
       "1                 Complaint      98103.0   \n",
       "2                 Complaint      98122.0   \n",
       "3                 Complaint      98117.0   \n",
       "4                 Complaint      98101.0   \n",
       "...                     ...          ...   \n",
       "188125            Complaint      98133.0   \n",
       "188126  Notice of Violation      98121.0   \n",
       "188127            Complaint      98108.0   \n",
       "188128            Complaint      98117.0   \n",
       "188129            Complaint          NaN   \n",
       "\n",
       "                                              Description  \n",
       "0       Elevator gets stuck at least 3 times a week, f...  \n",
       "1       Concerned about RV pumpout that is currently b...  \n",
       "2       The vacant red apple building and adjacent bui...  \n",
       "3       Trailor and camper parked in back yard.  Peopl...  \n",
       "4       Illegal use of property.\"Hawkers\" or vendors (...  \n",
       "...                                                   ...  \n",
       "188125  NOTICE OF INTENT TO ENTERAND PRESUMED ABANDONMENT  \n",
       "188126  COMPLY OR VACATEMOLD, CEILING LEAKPER PIPE PRO...  \n",
       "188127  The person residing at 1235 S. Donovan Street ...  \n",
       "188128  The General contractor Iliya Kovalev doesn't w...  \n",
       "188129  The traffic rush hour on Fairview and Denny Wa...  \n",
       "\n",
       "[188130 rows x 3 columns]"
      ]
     },
     "execution_count": 73,
     "metadata": {},
     "output_type": "execute_result"
    }
   ],
   "source": [
    "complaints[[\"RecordType\", \"OriginalZip\", \"Description\"]]"
   ]
  },
  {
   "cell_type": "code",
   "execution_count": 74,
   "id": "700bd85b",
   "metadata": {},
   "outputs": [],
   "source": [
    "ammended_zip = complaints[[\"RecordType\", \"OriginalZip\", \"Description\"]]"
   ]
  },
  {
   "cell_type": "code",
   "execution_count": 75,
   "id": "6fdcf6ce",
   "metadata": {},
   "outputs": [
    {
     "data": {
      "text/html": [
       "<div>\n",
       "<style scoped>\n",
       "    .dataframe tbody tr th:only-of-type {\n",
       "        vertical-align: middle;\n",
       "    }\n",
       "\n",
       "    .dataframe tbody tr th {\n",
       "        vertical-align: top;\n",
       "    }\n",
       "\n",
       "    .dataframe thead th {\n",
       "        text-align: right;\n",
       "    }\n",
       "</style>\n",
       "<table border=\"1\" class=\"dataframe\">\n",
       "  <thead>\n",
       "    <tr style=\"text-align: right;\">\n",
       "      <th></th>\n",
       "      <th>RecordType</th>\n",
       "      <th>OriginalZip</th>\n",
       "      <th>Description</th>\n",
       "    </tr>\n",
       "  </thead>\n",
       "  <tbody>\n",
       "    <tr>\n",
       "      <th>30</th>\n",
       "      <td>Complaint</td>\n",
       "      <td>98105.0</td>\n",
       "      <td>Cars parked on the front lawn.</td>\n",
       "    </tr>\n",
       "    <tr>\n",
       "      <th>33</th>\n",
       "      <td>Complaint</td>\n",
       "      <td>98105.0</td>\n",
       "      <td>This is the frat that had the two members over...</td>\n",
       "    </tr>\n",
       "    <tr>\n",
       "      <th>40</th>\n",
       "      <td>Complaint</td>\n",
       "      <td>98105.0</td>\n",
       "      <td>permit condition of permit #714425 prohibited ...</td>\n",
       "    </tr>\n",
       "    <tr>\n",
       "      <th>121</th>\n",
       "      <td>Complaint</td>\n",
       "      <td>98105.0</td>\n",
       "      <td>Cars parked on the front lawn.</td>\n",
       "    </tr>\n",
       "    <tr>\n",
       "      <th>122</th>\n",
       "      <td>Complaint</td>\n",
       "      <td>98105.0</td>\n",
       "      <td>Cars parked on the front lawn.</td>\n",
       "    </tr>\n",
       "    <tr>\n",
       "      <th>...</th>\n",
       "      <td>...</td>\n",
       "      <td>...</td>\n",
       "      <td>...</td>\n",
       "    </tr>\n",
       "    <tr>\n",
       "      <th>188057</th>\n",
       "      <td>Complaint</td>\n",
       "      <td>98105.0</td>\n",
       "      <td>The retaining walls along 50th look unsound. T...</td>\n",
       "    </tr>\n",
       "    <tr>\n",
       "      <th>188100</th>\n",
       "      <td>Complaint</td>\n",
       "      <td>98105.0</td>\n",
       "      <td>Overgrown vegetation blocking sidewalk</td>\n",
       "    </tr>\n",
       "    <tr>\n",
       "      <th>188105</th>\n",
       "      <td>Notice of Violation</td>\n",
       "      <td>98105.0</td>\n",
       "      <td>NaN</td>\n",
       "    </tr>\n",
       "    <tr>\n",
       "      <th>188121</th>\n",
       "      <td>Complaint</td>\n",
       "      <td>98105.0</td>\n",
       "      <td>Overgrown vegetation obstructing half the widt...</td>\n",
       "    </tr>\n",
       "    <tr>\n",
       "      <th>188122</th>\n",
       "      <td>Complaint</td>\n",
       "      <td>98105.0</td>\n",
       "      <td>EDRA HELPFAX ISSUES</td>\n",
       "    </tr>\n",
       "  </tbody>\n",
       "</table>\n",
       "<p>9331 rows × 3 columns</p>\n",
       "</div>"
      ],
      "text/plain": [
       "                 RecordType  OriginalZip  \\\n",
       "30                Complaint      98105.0   \n",
       "33                Complaint      98105.0   \n",
       "40                Complaint      98105.0   \n",
       "121               Complaint      98105.0   \n",
       "122               Complaint      98105.0   \n",
       "...                     ...          ...   \n",
       "188057            Complaint      98105.0   \n",
       "188100            Complaint      98105.0   \n",
       "188105  Notice of Violation      98105.0   \n",
       "188121            Complaint      98105.0   \n",
       "188122            Complaint      98105.0   \n",
       "\n",
       "                                              Description  \n",
       "30                         Cars parked on the front lawn.  \n",
       "33      This is the frat that had the two members over...  \n",
       "40      permit condition of permit #714425 prohibited ...  \n",
       "121                        Cars parked on the front lawn.  \n",
       "122                        Cars parked on the front lawn.  \n",
       "...                                                   ...  \n",
       "188057  The retaining walls along 50th look unsound. T...  \n",
       "188100             Overgrown vegetation blocking sidewalk  \n",
       "188105                                                NaN  \n",
       "188121  Overgrown vegetation obstructing half the widt...  \n",
       "188122                                EDRA HELPFAX ISSUES  \n",
       "\n",
       "[9331 rows x 3 columns]"
      ]
     },
     "execution_count": 75,
     "metadata": {},
     "output_type": "execute_result"
    }
   ],
   "source": [
    "ammended_zip[ammended_zip[\"OriginalZip\"] == 98105]"
   ]
  },
  {
   "cell_type": "code",
   "execution_count": 77,
   "id": "6af6df2a",
   "metadata": {},
   "outputs": [],
   "source": [
    "new_data = ammended_zip[ammended_zip[\"OriginalZip\"] == 98105]"
   ]
  },
  {
   "cell_type": "code",
   "execution_count": 78,
   "id": "2a0746a7",
   "metadata": {},
   "outputs": [
    {
     "data": {
      "text/plain": [
       "30                        Cars parked on the front lawn.\n",
       "33     This is the frat that had the two members over...\n",
       "40     permit condition of permit #714425 prohibited ...\n",
       "121                       Cars parked on the front lawn.\n",
       "122                       Cars parked on the front lawn.\n",
       "Name: Description, dtype: object"
      ]
     },
     "execution_count": 78,
     "metadata": {},
     "output_type": "execute_result"
    }
   ],
   "source": [
    "new_data[new_data[\"RecordType\"] == \"Complaint\"]['Description'].head()"
   ]
  },
  {
   "cell_type": "code",
   "execution_count": 79,
   "id": "cd55a5e7",
   "metadata": {},
   "outputs": [
    {
     "data": {
      "text/plain": [
       "479     This is the frat that had the two members over...\n",
       "504     main breaker installed incorrectly under expir...\n",
       "570     Light fixture out in common area on ground lev...\n",
       "4766    Water dripping onto light fixtures inside vaca...\n",
       "4907    LARGE CRACK IN BEDROOM WALL, MOLD & MILDEW AND...\n",
       "Name: Description, dtype: object"
      ]
     },
     "execution_count": 79,
     "metadata": {},
     "output_type": "execute_result"
    }
   ],
   "source": [
    "new_data[new_data[\"RecordType\"] == \"Notice of Violation\"]['Description'].head()"
   ]
  },
  {
   "cell_type": "code",
   "execution_count": 80,
   "id": "5d1f2a2b",
   "metadata": {},
   "outputs": [
    {
     "data": {
      "text/plain": [
       "5292                  Single Family Residence\n",
       "5586                  Single Family structure\n",
       "6523               unfit bldg paid inspection\n",
       "6773          requested unfit bldg inspection\n",
       "12494    Requested action for unfit buildings\n",
       "Name: Description, dtype: object"
      ]
     },
     "execution_count": 80,
     "metadata": {},
     "output_type": "execute_result"
    }
   ],
   "source": [
    "new_data[new_data[\"RecordType\"] == \"Unfit Building\"]['Description'].head()"
   ]
  },
  {
   "cell_type": "code",
   "execution_count": 81,
   "id": "f2613e78",
   "metadata": {},
   "outputs": [
    {
     "data": {
      "text/plain": [
       "482    Parking a vehicle in the required front yard -...\n",
       "487    Parking pick-up truck in required front yard -...\n",
       "488    Parking of vehicle in partially paved required...\n",
       "501    Initial inspection - observed several housing ...\n",
       "535                  outdoor junk storage in front yard.\n",
       "Name: Description, dtype: object"
      ]
     },
     "execution_count": 81,
     "metadata": {},
     "output_type": "execute_result"
    }
   ],
   "source": [
    "new_data[new_data[\"RecordType\"] == \"Citation\"]['Description'].head()"
   ]
  },
  {
   "cell_type": "code",
   "execution_count": 82,
   "id": "86e1187a",
   "metadata": {},
   "outputs": [
    {
     "data": {
      "text/plain": [
       "527            Application for Tenant Relocation License\n",
       "5550                      No Displacement Certification.\n",
       "5593                       No Displacement Certification\n",
       "5755               Tenant Relocation License Application\n",
       "6198    Tenant Relocation Assistance License Application\n",
       "Name: Description, dtype: object"
      ]
     },
     "execution_count": 82,
     "metadata": {},
     "output_type": "execute_result"
    }
   ],
   "source": [
    "new_data[new_data[\"RecordType\"] == \"Tenant Relocation\"]['Description'].head()"
   ]
  },
  {
   "cell_type": "markdown",
   "id": "3ec2bfc6",
   "metadata": {},
   "source": [
    "Things included:\n",
    "- Complaint - cars parked where they shouldn't be \n",
    "- Notive of Violation - things wrong with walls/light/water\n",
    "- Unfit Building - requests for inspection regarding presumable (?) unfit building \n",
    "- Citation - parking violations\n",
    "- Tenant Relocation - applications for tenant relocation licenses + no displacement certification"
   ]
  },
  {
   "cell_type": "code",
   "execution_count": 91,
   "id": "1f50e1b8",
   "metadata": {},
   "outputs": [],
   "source": [
    "# 2.4 - TSV file"
   ]
  },
  {
   "cell_type": "code",
   "execution_count": 90,
   "id": "5c239fb6",
   "metadata": {},
   "outputs": [],
   "source": [
    "ammended_zip.to_csv(\"three_columns.tsv\", sep=\"\\t\")"
   ]
  },
  {
   "cell_type": "markdown",
   "id": "3d6bf49a",
   "metadata": {},
   "source": [
    "# 3 - It's about time"
   ]
  },
  {
   "cell_type": "code",
   "execution_count": 93,
   "id": "2843247b",
   "metadata": {},
   "outputs": [
    {
     "data": {
      "text/html": [
       "<div>\n",
       "<style scoped>\n",
       "    .dataframe tbody tr th:only-of-type {\n",
       "        vertical-align: middle;\n",
       "    }\n",
       "\n",
       "    .dataframe tbody tr th {\n",
       "        vertical-align: top;\n",
       "    }\n",
       "\n",
       "    .dataframe thead th {\n",
       "        text-align: right;\n",
       "    }\n",
       "</style>\n",
       "<table border=\"1\" class=\"dataframe\">\n",
       "  <thead>\n",
       "    <tr style=\"text-align: right;\">\n",
       "      <th></th>\n",
       "      <th>RecordNum</th>\n",
       "      <th>RecordType</th>\n",
       "      <th>RecordTypeMapped</th>\n",
       "      <th>RecordTypeDesc</th>\n",
       "      <th>Description</th>\n",
       "      <th>OpenDate</th>\n",
       "      <th>LastInspDate</th>\n",
       "      <th>LastInspResult</th>\n",
       "      <th>StatusCurrent</th>\n",
       "      <th>OriginalAddress1</th>\n",
       "      <th>OriginalCity</th>\n",
       "      <th>OriginalState</th>\n",
       "      <th>OriginalZip</th>\n",
       "      <th>Link</th>\n",
       "      <th>Latitude</th>\n",
       "      <th>Longitude</th>\n",
       "      <th>Location1</th>\n",
       "    </tr>\n",
       "  </thead>\n",
       "  <tbody>\n",
       "    <tr>\n",
       "      <th>0</th>\n",
       "      <td>001001-03CP</td>\n",
       "      <td>Complaint</td>\n",
       "      <td>Request</td>\n",
       "      <td>Construction</td>\n",
       "      <td>Elevator gets stuck at least 3 times a week, f...</td>\n",
       "      <td>2003-11-10</td>\n",
       "      <td>POINT (-122.33582172 47.60642293)</td>\n",
       "      <td>Completed</td>\n",
       "      <td>Completed</td>\n",
       "      <td>1100 2ND AVE</td>\n",
       "      <td>SEATTLE</td>\n",
       "      <td>WA</td>\n",
       "      <td>98101.0</td>\n",
       "      <td>https://cosaccela.seattle.gov/portal/customize...</td>\n",
       "      <td>47.606423</td>\n",
       "      <td>-122.335822</td>\n",
       "      <td>(47.60642293, -122.33582172)</td>\n",
       "    </tr>\n",
       "    <tr>\n",
       "      <th>1</th>\n",
       "      <td>001002-03CP</td>\n",
       "      <td>Complaint</td>\n",
       "      <td>Request</td>\n",
       "      <td>Construction</td>\n",
       "      <td>Concerned about RV pumpout that is currently b...</td>\n",
       "      <td>2003-11-10</td>\n",
       "      <td>POINT (-122.35191884 47.68639169)</td>\n",
       "      <td>Completed</td>\n",
       "      <td>Completed</td>\n",
       "      <td>512 N 79TH ST</td>\n",
       "      <td>SEATTLE</td>\n",
       "      <td>WA</td>\n",
       "      <td>98103.0</td>\n",
       "      <td>https://cosaccela.seattle.gov/portal/customize...</td>\n",
       "      <td>47.686392</td>\n",
       "      <td>-122.351919</td>\n",
       "      <td>(47.68639169, -122.35191884)</td>\n",
       "    </tr>\n",
       "    <tr>\n",
       "      <th>2</th>\n",
       "      <td>001003-03CP</td>\n",
       "      <td>Complaint</td>\n",
       "      <td>Request</td>\n",
       "      <td>Vacant Building</td>\n",
       "      <td>The vacant red apple building and adjacent bui...</td>\n",
       "      <td>2003-11-10</td>\n",
       "      <td>POINT (-122.31388805 47.61559829)</td>\n",
       "      <td>Completed</td>\n",
       "      <td>Completed</td>\n",
       "      <td>1400 E PINE ST</td>\n",
       "      <td>SEATTLE</td>\n",
       "      <td>WA</td>\n",
       "      <td>98122.0</td>\n",
       "      <td>https://cosaccela.seattle.gov/portal/customize...</td>\n",
       "      <td>47.615598</td>\n",
       "      <td>-122.313888</td>\n",
       "      <td>(47.61559829, -122.31388805)</td>\n",
       "    </tr>\n",
       "    <tr>\n",
       "      <th>3</th>\n",
       "      <td>001004-03CP</td>\n",
       "      <td>Complaint</td>\n",
       "      <td>Request</td>\n",
       "      <td>Land Use</td>\n",
       "      <td>Trailor and camper parked in back yard.  Peopl...</td>\n",
       "      <td>2003-11-10</td>\n",
       "      <td>POINT (-122.36215164 47.69226044)</td>\n",
       "      <td>Completed</td>\n",
       "      <td>Completed</td>\n",
       "      <td>332 NW 87TH ST</td>\n",
       "      <td>SEATTLE</td>\n",
       "      <td>WA</td>\n",
       "      <td>98117.0</td>\n",
       "      <td>https://cosaccela.seattle.gov/portal/customize...</td>\n",
       "      <td>47.692260</td>\n",
       "      <td>-122.362152</td>\n",
       "      <td>(47.69226044, -122.36215164)</td>\n",
       "    </tr>\n",
       "    <tr>\n",
       "      <th>4</th>\n",
       "      <td>001005-03CP</td>\n",
       "      <td>Complaint</td>\n",
       "      <td>Request</td>\n",
       "      <td>Land Use</td>\n",
       "      <td>Illegal use of property.\"Hawkers\" or vendors (...</td>\n",
       "      <td>2003-11-10</td>\n",
       "      <td>POINT (-122.33832038 47.60911773)</td>\n",
       "      <td>Completed</td>\n",
       "      <td>Completed</td>\n",
       "      <td>1430 2ND AVE</td>\n",
       "      <td>SEATTLE</td>\n",
       "      <td>WA</td>\n",
       "      <td>98101.0</td>\n",
       "      <td>https://cosaccela.seattle.gov/portal/customize...</td>\n",
       "      <td>47.609118</td>\n",
       "      <td>-122.338320</td>\n",
       "      <td>(47.60911773, -122.33832038)</td>\n",
       "    </tr>\n",
       "    <tr>\n",
       "      <th>...</th>\n",
       "      <td>...</td>\n",
       "      <td>...</td>\n",
       "      <td>...</td>\n",
       "      <td>...</td>\n",
       "      <td>...</td>\n",
       "      <td>...</td>\n",
       "      <td>...</td>\n",
       "      <td>...</td>\n",
       "      <td>...</td>\n",
       "      <td>...</td>\n",
       "      <td>...</td>\n",
       "      <td>...</td>\n",
       "      <td>...</td>\n",
       "      <td>...</td>\n",
       "      <td>...</td>\n",
       "      <td>...</td>\n",
       "      <td>...</td>\n",
       "    </tr>\n",
       "    <tr>\n",
       "      <th>188125</th>\n",
       "      <td>004881-23CP</td>\n",
       "      <td>Complaint</td>\n",
       "      <td>Request</td>\n",
       "      <td>LandLord/Tenant</td>\n",
       "      <td>NOTICE OF INTENT TO ENTERAND PRESUMED ABANDONMENT</td>\n",
       "      <td>2023-05-10</td>\n",
       "      <td>POINT (-122.34702054 47.73157296)</td>\n",
       "      <td>NaN</td>\n",
       "      <td>Under Investigation</td>\n",
       "      <td>14100 LINDEN AVE N</td>\n",
       "      <td>SEATTLE</td>\n",
       "      <td>WA</td>\n",
       "      <td>98133.0</td>\n",
       "      <td>https://cosaccela.seattle.gov/portal/customize...</td>\n",
       "      <td>47.731573</td>\n",
       "      <td>-122.347021</td>\n",
       "      <td>(47.73157296, -122.34702054)</td>\n",
       "    </tr>\n",
       "    <tr>\n",
       "      <th>188126</th>\n",
       "      <td>1055984-VI</td>\n",
       "      <td>Notice of Violation</td>\n",
       "      <td>Case</td>\n",
       "      <td>NaN</td>\n",
       "      <td>COMPLY OR VACATEMOLD, CEILING LEAKPER PIPE PRO...</td>\n",
       "      <td>2023-05-10</td>\n",
       "      <td>POINT (-122.34224721 47.61513867)</td>\n",
       "      <td>NaN</td>\n",
       "      <td>Initiated</td>\n",
       "      <td>420 BLANCHARD ST</td>\n",
       "      <td>SEATTLE</td>\n",
       "      <td>WA</td>\n",
       "      <td>98121.0</td>\n",
       "      <td>https://cosaccela.seattle.gov/portal/customize...</td>\n",
       "      <td>47.615139</td>\n",
       "      <td>-122.342247</td>\n",
       "      <td>(47.61513867, -122.34224721)</td>\n",
       "    </tr>\n",
       "    <tr>\n",
       "      <th>188127</th>\n",
       "      <td>004882-23CP</td>\n",
       "      <td>Complaint</td>\n",
       "      <td>Request</td>\n",
       "      <td>NaN</td>\n",
       "      <td>The person residing at 1235 S. Donovan Street ...</td>\n",
       "      <td>2023-05-10</td>\n",
       "      <td>POINT (-122.31613662 47.52543336)</td>\n",
       "      <td>NaN</td>\n",
       "      <td>Initiated</td>\n",
       "      <td>1235 S DONOVAN ST</td>\n",
       "      <td>SEATTLE</td>\n",
       "      <td>WA</td>\n",
       "      <td>98108.0</td>\n",
       "      <td>https://cosaccela.seattle.gov/portal/customize...</td>\n",
       "      <td>47.525433</td>\n",
       "      <td>-122.316137</td>\n",
       "      <td>(47.52543336, -122.31613662)</td>\n",
       "    </tr>\n",
       "    <tr>\n",
       "      <th>188128</th>\n",
       "      <td>004883-23CP</td>\n",
       "      <td>Complaint</td>\n",
       "      <td>Request</td>\n",
       "      <td>NaN</td>\n",
       "      <td>The General contractor Iliya Kovalev doesn't w...</td>\n",
       "      <td>2023-05-10</td>\n",
       "      <td>POINT (-122.39165973 47.68630858)</td>\n",
       "      <td>NaN</td>\n",
       "      <td>Initiated</td>\n",
       "      <td>7744 EARL AVE NW</td>\n",
       "      <td>SEATTLE</td>\n",
       "      <td>WA</td>\n",
       "      <td>98117.0</td>\n",
       "      <td>https://cosaccela.seattle.gov/portal/customize...</td>\n",
       "      <td>47.686309</td>\n",
       "      <td>-122.391660</td>\n",
       "      <td>(47.68630858, -122.39165973)</td>\n",
       "    </tr>\n",
       "    <tr>\n",
       "      <th>188129</th>\n",
       "      <td>004884-23CP</td>\n",
       "      <td>Complaint</td>\n",
       "      <td>Request</td>\n",
       "      <td>NaN</td>\n",
       "      <td>The traffic rush hour on Fairview and Denny Wa...</td>\n",
       "      <td>2023-05-10</td>\n",
       "      <td>POINT (-122.33510728 47.61913747)</td>\n",
       "      <td>NaN</td>\n",
       "      <td>Initiated</td>\n",
       "      <td>111 Fairview AVE N</td>\n",
       "      <td>NaN</td>\n",
       "      <td>NaN</td>\n",
       "      <td>NaN</td>\n",
       "      <td>https://cosaccela.seattle.gov/portal/customize...</td>\n",
       "      <td>47.619137</td>\n",
       "      <td>-122.335107</td>\n",
       "      <td>(47.61913747, -122.33510728)</td>\n",
       "    </tr>\n",
       "  </tbody>\n",
       "</table>\n",
       "<p>188130 rows × 17 columns</p>\n",
       "</div>"
      ],
      "text/plain": [
       "          RecordNum           RecordType RecordTypeMapped   RecordTypeDesc  \\\n",
       "0       001001-03CP            Complaint          Request     Construction   \n",
       "1       001002-03CP            Complaint          Request     Construction   \n",
       "2       001003-03CP            Complaint          Request  Vacant Building   \n",
       "3       001004-03CP            Complaint          Request         Land Use   \n",
       "4       001005-03CP            Complaint          Request         Land Use   \n",
       "...             ...                  ...              ...              ...   \n",
       "188125  004881-23CP            Complaint          Request  LandLord/Tenant   \n",
       "188126   1055984-VI  Notice of Violation             Case              NaN   \n",
       "188127  004882-23CP            Complaint          Request              NaN   \n",
       "188128  004883-23CP            Complaint          Request              NaN   \n",
       "188129  004884-23CP            Complaint          Request              NaN   \n",
       "\n",
       "                                              Description    OpenDate  \\\n",
       "0       Elevator gets stuck at least 3 times a week, f...  2003-11-10   \n",
       "1       Concerned about RV pumpout that is currently b...  2003-11-10   \n",
       "2       The vacant red apple building and adjacent bui...  2003-11-10   \n",
       "3       Trailor and camper parked in back yard.  Peopl...  2003-11-10   \n",
       "4       Illegal use of property.\"Hawkers\" or vendors (...  2003-11-10   \n",
       "...                                                   ...         ...   \n",
       "188125  NOTICE OF INTENT TO ENTERAND PRESUMED ABANDONMENT  2023-05-10   \n",
       "188126  COMPLY OR VACATEMOLD, CEILING LEAKPER PIPE PRO...  2023-05-10   \n",
       "188127  The person residing at 1235 S. Donovan Street ...  2023-05-10   \n",
       "188128  The General contractor Iliya Kovalev doesn't w...  2023-05-10   \n",
       "188129  The traffic rush hour on Fairview and Denny Wa...  2023-05-10   \n",
       "\n",
       "                             LastInspDate LastInspResult        StatusCurrent  \\\n",
       "0       POINT (-122.33582172 47.60642293)      Completed            Completed   \n",
       "1       POINT (-122.35191884 47.68639169)      Completed            Completed   \n",
       "2       POINT (-122.31388805 47.61559829)      Completed            Completed   \n",
       "3       POINT (-122.36215164 47.69226044)      Completed            Completed   \n",
       "4       POINT (-122.33832038 47.60911773)      Completed            Completed   \n",
       "...                                   ...            ...                  ...   \n",
       "188125  POINT (-122.34702054 47.73157296)            NaN  Under Investigation   \n",
       "188126  POINT (-122.34224721 47.61513867)            NaN            Initiated   \n",
       "188127  POINT (-122.31613662 47.52543336)            NaN            Initiated   \n",
       "188128  POINT (-122.39165973 47.68630858)            NaN            Initiated   \n",
       "188129  POINT (-122.33510728 47.61913747)            NaN            Initiated   \n",
       "\n",
       "          OriginalAddress1 OriginalCity OriginalState  OriginalZip  \\\n",
       "0             1100 2ND AVE      SEATTLE            WA      98101.0   \n",
       "1            512 N 79TH ST      SEATTLE            WA      98103.0   \n",
       "2           1400 E PINE ST      SEATTLE            WA      98122.0   \n",
       "3           332 NW 87TH ST      SEATTLE            WA      98117.0   \n",
       "4             1430 2ND AVE      SEATTLE            WA      98101.0   \n",
       "...                    ...          ...           ...          ...   \n",
       "188125  14100 LINDEN AVE N      SEATTLE            WA      98133.0   \n",
       "188126    420 BLANCHARD ST      SEATTLE            WA      98121.0   \n",
       "188127   1235 S DONOVAN ST      SEATTLE            WA      98108.0   \n",
       "188128    7744 EARL AVE NW      SEATTLE            WA      98117.0   \n",
       "188129  111 Fairview AVE N          NaN           NaN          NaN   \n",
       "\n",
       "                                                     Link   Latitude  \\\n",
       "0       https://cosaccela.seattle.gov/portal/customize...  47.606423   \n",
       "1       https://cosaccela.seattle.gov/portal/customize...  47.686392   \n",
       "2       https://cosaccela.seattle.gov/portal/customize...  47.615598   \n",
       "3       https://cosaccela.seattle.gov/portal/customize...  47.692260   \n",
       "4       https://cosaccela.seattle.gov/portal/customize...  47.609118   \n",
       "...                                                   ...        ...   \n",
       "188125  https://cosaccela.seattle.gov/portal/customize...  47.731573   \n",
       "188126  https://cosaccela.seattle.gov/portal/customize...  47.615139   \n",
       "188127  https://cosaccela.seattle.gov/portal/customize...  47.525433   \n",
       "188128  https://cosaccela.seattle.gov/portal/customize...  47.686309   \n",
       "188129  https://cosaccela.seattle.gov/portal/customize...  47.619137   \n",
       "\n",
       "         Longitude                     Location1  \n",
       "0      -122.335822  (47.60642293, -122.33582172)  \n",
       "1      -122.351919  (47.68639169, -122.35191884)  \n",
       "2      -122.313888  (47.61559829, -122.31388805)  \n",
       "3      -122.362152  (47.69226044, -122.36215164)  \n",
       "4      -122.338320  (47.60911773, -122.33832038)  \n",
       "...            ...                           ...  \n",
       "188125 -122.347021  (47.73157296, -122.34702054)  \n",
       "188126 -122.342247  (47.61513867, -122.34224721)  \n",
       "188127 -122.316137  (47.52543336, -122.31613662)  \n",
       "188128 -122.391660  (47.68630858, -122.39165973)  \n",
       "188129 -122.335107  (47.61913747, -122.33510728)  \n",
       "\n",
       "[188130 rows x 17 columns]"
      ]
     },
     "execution_count": 93,
     "metadata": {},
     "output_type": "execute_result"
    }
   ],
   "source": [
    "complaints"
   ]
  },
  {
   "cell_type": "code",
   "execution_count": 102,
   "id": "1e18155a",
   "metadata": {},
   "outputs": [],
   "source": [
    "# 3.1 - new timeseries"
   ]
  },
  {
   "cell_type": "code",
   "execution_count": 99,
   "id": "0542cc81",
   "metadata": {},
   "outputs": [
    {
     "data": {
      "text/plain": [
       "0        2003-11-10\n",
       "1        2003-11-10\n",
       "2        2003-11-10\n",
       "3        2003-11-10\n",
       "4        2003-11-10\n",
       "            ...    \n",
       "188125   2023-05-10\n",
       "188126   2023-05-10\n",
       "188127   2023-05-10\n",
       "188128   2023-05-10\n",
       "188129   2023-05-10\n",
       "Name: OpenDate, Length: 188130, dtype: datetime64[ns]"
      ]
     },
     "execution_count": 99,
     "metadata": {},
     "output_type": "execute_result"
    }
   ],
   "source": [
    "pd.to_datetime(complaints[\"OpenDate\"])"
   ]
  },
  {
   "cell_type": "code",
   "execution_count": 100,
   "id": "64b976ee",
   "metadata": {},
   "outputs": [],
   "source": [
    "complaints[\"OpenDate_new\"] = pd.to_datetime(complaints[\"OpenDate\"])"
   ]
  },
  {
   "cell_type": "code",
   "execution_count": 105,
   "id": "3b5ed8fa",
   "metadata": {},
   "outputs": [
    {
     "name": "stdout",
     "output_type": "stream",
     "text": [
      "<class 'pandas.core.frame.DataFrame'>\n",
      "RangeIndex: 188130 entries, 0 to 188129\n",
      "Data columns (total 18 columns):\n",
      " #   Column            Non-Null Count   Dtype         \n",
      "---  ------            --------------   -----         \n",
      " 0   RecordNum         188130 non-null  object        \n",
      " 1   RecordType        188130 non-null  object        \n",
      " 2   RecordTypeMapped  188130 non-null  object        \n",
      " 3   RecordTypeDesc    161299 non-null  object        \n",
      " 4   Description       184009 non-null  object        \n",
      " 5   OpenDate          188130 non-null  object        \n",
      " 6   LastInspDate      185258 non-null  object        \n",
      " 7   LastInspResult    125347 non-null  object        \n",
      " 8   StatusCurrent     188130 non-null  object        \n",
      " 9   OriginalAddress1  186982 non-null  object        \n",
      " 10  OriginalCity      179291 non-null  object        \n",
      " 11  OriginalState     179730 non-null  object        \n",
      " 12  OriginalZip       173265 non-null  float64       \n",
      " 13  Link              188130 non-null  object        \n",
      " 14  Latitude          185258 non-null  float64       \n",
      " 15  Longitude         185258 non-null  float64       \n",
      " 16  Location1         185258 non-null  object        \n",
      " 17  OpenDate_new      188130 non-null  datetime64[ns]\n",
      "dtypes: datetime64[ns](1), float64(3), object(14)\n",
      "memory usage: 25.8+ MB\n"
     ]
    }
   ],
   "source": [
    "complaints.info()"
   ]
  },
  {
   "cell_type": "code",
   "execution_count": 110,
   "id": "daca9bf8",
   "metadata": {},
   "outputs": [],
   "source": [
    "# 3.2 - resample"
   ]
  },
  {
   "cell_type": "code",
   "execution_count": 106,
   "id": "8849a381",
   "metadata": {},
   "outputs": [
    {
     "data": {
      "text/html": [
       "<div>\n",
       "<style scoped>\n",
       "    .dataframe tbody tr th:only-of-type {\n",
       "        vertical-align: middle;\n",
       "    }\n",
       "\n",
       "    .dataframe tbody tr th {\n",
       "        vertical-align: top;\n",
       "    }\n",
       "\n",
       "    .dataframe thead th {\n",
       "        text-align: right;\n",
       "    }\n",
       "</style>\n",
       "<table border=\"1\" class=\"dataframe\">\n",
       "  <thead>\n",
       "    <tr style=\"text-align: right;\">\n",
       "      <th></th>\n",
       "      <th>OpenDate_new</th>\n",
       "      <th>OriginalZip</th>\n",
       "    </tr>\n",
       "  </thead>\n",
       "  <tbody>\n",
       "    <tr>\n",
       "      <th>0</th>\n",
       "      <td>2003-11-10</td>\n",
       "      <td>98101.0</td>\n",
       "    </tr>\n",
       "    <tr>\n",
       "      <th>1</th>\n",
       "      <td>2003-11-10</td>\n",
       "      <td>98103.0</td>\n",
       "    </tr>\n",
       "    <tr>\n",
       "      <th>2</th>\n",
       "      <td>2003-11-10</td>\n",
       "      <td>98122.0</td>\n",
       "    </tr>\n",
       "    <tr>\n",
       "      <th>3</th>\n",
       "      <td>2003-11-10</td>\n",
       "      <td>98117.0</td>\n",
       "    </tr>\n",
       "    <tr>\n",
       "      <th>4</th>\n",
       "      <td>2003-11-10</td>\n",
       "      <td>98101.0</td>\n",
       "    </tr>\n",
       "    <tr>\n",
       "      <th>...</th>\n",
       "      <td>...</td>\n",
       "      <td>...</td>\n",
       "    </tr>\n",
       "    <tr>\n",
       "      <th>188125</th>\n",
       "      <td>2023-05-10</td>\n",
       "      <td>98133.0</td>\n",
       "    </tr>\n",
       "    <tr>\n",
       "      <th>188126</th>\n",
       "      <td>2023-05-10</td>\n",
       "      <td>98121.0</td>\n",
       "    </tr>\n",
       "    <tr>\n",
       "      <th>188127</th>\n",
       "      <td>2023-05-10</td>\n",
       "      <td>98108.0</td>\n",
       "    </tr>\n",
       "    <tr>\n",
       "      <th>188128</th>\n",
       "      <td>2023-05-10</td>\n",
       "      <td>98117.0</td>\n",
       "    </tr>\n",
       "    <tr>\n",
       "      <th>188129</th>\n",
       "      <td>2023-05-10</td>\n",
       "      <td>NaN</td>\n",
       "    </tr>\n",
       "  </tbody>\n",
       "</table>\n",
       "<p>188130 rows × 2 columns</p>\n",
       "</div>"
      ],
      "text/plain": [
       "       OpenDate_new  OriginalZip\n",
       "0        2003-11-10      98101.0\n",
       "1        2003-11-10      98103.0\n",
       "2        2003-11-10      98122.0\n",
       "3        2003-11-10      98117.0\n",
       "4        2003-11-10      98101.0\n",
       "...             ...          ...\n",
       "188125   2023-05-10      98133.0\n",
       "188126   2023-05-10      98121.0\n",
       "188127   2023-05-10      98108.0\n",
       "188128   2023-05-10      98117.0\n",
       "188129   2023-05-10          NaN\n",
       "\n",
       "[188130 rows x 2 columns]"
      ]
     },
     "execution_count": 106,
     "metadata": {},
     "output_type": "execute_result"
    }
   ],
   "source": [
    "complaints[[\"OpenDate_new\", \"OriginalZip\"]]"
   ]
  },
  {
   "cell_type": "code",
   "execution_count": 107,
   "id": "25573802",
   "metadata": {},
   "outputs": [],
   "source": [
    "complaints_ts = complaints[\"OriginalZip\"]"
   ]
  },
  {
   "cell_type": "code",
   "execution_count": 108,
   "id": "1c9d98c3",
   "metadata": {},
   "outputs": [],
   "source": [
    "complaints_ts.index = complaints[\"OpenDate_new\"]"
   ]
  },
  {
   "cell_type": "code",
   "execution_count": 111,
   "id": "569dad2c",
   "metadata": {},
   "outputs": [
    {
     "data": {
      "text/plain": [
       "OpenDate_new\n",
       "2003-11-10     92\n",
       "2003-11-17     97\n",
       "2003-11-24     47\n",
       "2003-12-01     84\n",
       "2003-12-08     85\n",
       "             ... \n",
       "2023-04-10    229\n",
       "2023-04-17    200\n",
       "2023-04-24    318\n",
       "2023-05-01    271\n",
       "2023-05-08    143\n",
       "Freq: 7D, Name: OriginalZip, Length: 1018, dtype: int64"
      ]
     },
     "execution_count": 111,
     "metadata": {},
     "output_type": "execute_result"
    }
   ],
   "source": [
    "complaints_ts.resample(\"7D\").count()"
   ]
  },
  {
   "cell_type": "code",
   "execution_count": 112,
   "id": "b19304ac",
   "metadata": {},
   "outputs": [
    {
     "data": {
      "text/plain": [
       "<Axes: xlabel='OpenDate_new'>"
      ]
     },
     "execution_count": 112,
     "metadata": {},
     "output_type": "execute_result"
    },
    {
     "data": {
      "image/png": "[encoded data removed]",
      "text/plain": [
       "<Figure size 640x480 with 1 Axes>"
      ]
     },
     "metadata": {},
     "output_type": "display_data"
    }
   ],
   "source": [
    "complaints_ts.resample(\"7D\").count().plot()"
   ]
  },
  {
   "cell_type": "markdown",
   "id": "06093de5",
   "metadata": {},
   "source": [
    "# 4 - You've got questions, you've got answers"
   ]
  },
  {
   "cell_type": "code",
   "execution_count": 125,
   "id": "e23c359d",
   "metadata": {},
   "outputs": [
    {
     "data": {
      "text/html": [
       "<div>\n",
       "<style scoped>\n",
       "    .dataframe tbody tr th:only-of-type {\n",
       "        vertical-align: middle;\n",
       "    }\n",
       "\n",
       "    .dataframe tbody tr th {\n",
       "        vertical-align: top;\n",
       "    }\n",
       "\n",
       "    .dataframe thead th {\n",
       "        text-align: right;\n",
       "    }\n",
       "</style>\n",
       "<table border=\"1\" class=\"dataframe\">\n",
       "  <thead>\n",
       "    <tr style=\"text-align: right;\">\n",
       "      <th></th>\n",
       "      <th>RecordNum</th>\n",
       "      <th>RecordType</th>\n",
       "      <th>RecordTypeMapped</th>\n",
       "      <th>RecordTypeDesc</th>\n",
       "      <th>Description</th>\n",
       "      <th>OpenDate</th>\n",
       "      <th>LastInspDate</th>\n",
       "      <th>LastInspResult</th>\n",
       "      <th>StatusCurrent</th>\n",
       "      <th>OriginalAddress1</th>\n",
       "      <th>OriginalCity</th>\n",
       "      <th>OriginalState</th>\n",
       "      <th>OriginalZip</th>\n",
       "      <th>Link</th>\n",
       "      <th>Latitude</th>\n",
       "      <th>Longitude</th>\n",
       "      <th>Location1</th>\n",
       "      <th>OpenDate_new</th>\n",
       "    </tr>\n",
       "  </thead>\n",
       "  <tbody>\n",
       "    <tr>\n",
       "      <th>0</th>\n",
       "      <td>001001-03CP</td>\n",
       "      <td>Complaint</td>\n",
       "      <td>Request</td>\n",
       "      <td>Construction</td>\n",
       "      <td>Elevator gets stuck at least 3 times a week, f...</td>\n",
       "      <td>2003-11-10</td>\n",
       "      <td>POINT (-122.33582172 47.60642293)</td>\n",
       "      <td>Completed</td>\n",
       "      <td>Completed</td>\n",
       "      <td>1100 2ND AVE</td>\n",
       "      <td>SEATTLE</td>\n",
       "      <td>WA</td>\n",
       "      <td>98101.0</td>\n",
       "      <td>https://cosaccela.seattle.gov/portal/customize...</td>\n",
       "      <td>47.606423</td>\n",
       "      <td>-122.335822</td>\n",
       "      <td>(47.60642293, -122.33582172)</td>\n",
       "      <td>2003-11-10</td>\n",
       "    </tr>\n",
       "    <tr>\n",
       "      <th>1</th>\n",
       "      <td>001002-03CP</td>\n",
       "      <td>Complaint</td>\n",
       "      <td>Request</td>\n",
       "      <td>Construction</td>\n",
       "      <td>Concerned about RV pumpout that is currently b...</td>\n",
       "      <td>2003-11-10</td>\n",
       "      <td>POINT (-122.35191884 47.68639169)</td>\n",
       "      <td>Completed</td>\n",
       "      <td>Completed</td>\n",
       "      <td>512 N 79TH ST</td>\n",
       "      <td>SEATTLE</td>\n",
       "      <td>WA</td>\n",
       "      <td>98103.0</td>\n",
       "      <td>https://cosaccela.seattle.gov/portal/customize...</td>\n",
       "      <td>47.686392</td>\n",
       "      <td>-122.351919</td>\n",
       "      <td>(47.68639169, -122.35191884)</td>\n",
       "      <td>2003-11-10</td>\n",
       "    </tr>\n",
       "    <tr>\n",
       "      <th>2</th>\n",
       "      <td>001003-03CP</td>\n",
       "      <td>Complaint</td>\n",
       "      <td>Request</td>\n",
       "      <td>Vacant Building</td>\n",
       "      <td>The vacant red apple building and adjacent bui...</td>\n",
       "      <td>2003-11-10</td>\n",
       "      <td>POINT (-122.31388805 47.61559829)</td>\n",
       "      <td>Completed</td>\n",
       "      <td>Completed</td>\n",
       "      <td>1400 E PINE ST</td>\n",
       "      <td>SEATTLE</td>\n",
       "      <td>WA</td>\n",
       "      <td>98122.0</td>\n",
       "      <td>https://cosaccela.seattle.gov/portal/customize...</td>\n",
       "      <td>47.615598</td>\n",
       "      <td>-122.313888</td>\n",
       "      <td>(47.61559829, -122.31388805)</td>\n",
       "      <td>2003-11-10</td>\n",
       "    </tr>\n",
       "    <tr>\n",
       "      <th>3</th>\n",
       "      <td>001004-03CP</td>\n",
       "      <td>Complaint</td>\n",
       "      <td>Request</td>\n",
       "      <td>Land Use</td>\n",
       "      <td>Trailor and camper parked in back yard.  Peopl...</td>\n",
       "      <td>2003-11-10</td>\n",
       "      <td>POINT (-122.36215164 47.69226044)</td>\n",
       "      <td>Completed</td>\n",
       "      <td>Completed</td>\n",
       "      <td>332 NW 87TH ST</td>\n",
       "      <td>SEATTLE</td>\n",
       "      <td>WA</td>\n",
       "      <td>98117.0</td>\n",
       "      <td>https://cosaccela.seattle.gov/portal/customize...</td>\n",
       "      <td>47.692260</td>\n",
       "      <td>-122.362152</td>\n",
       "      <td>(47.69226044, -122.36215164)</td>\n",
       "      <td>2003-11-10</td>\n",
       "    </tr>\n",
       "    <tr>\n",
       "      <th>4</th>\n",
       "      <td>001005-03CP</td>\n",
       "      <td>Complaint</td>\n",
       "      <td>Request</td>\n",
       "      <td>Land Use</td>\n",
       "      <td>Illegal use of property.\"Hawkers\" or vendors (...</td>\n",
       "      <td>2003-11-10</td>\n",
       "      <td>POINT (-122.33832038 47.60911773)</td>\n",
       "      <td>Completed</td>\n",
       "      <td>Completed</td>\n",
       "      <td>1430 2ND AVE</td>\n",
       "      <td>SEATTLE</td>\n",
       "      <td>WA</td>\n",
       "      <td>98101.0</td>\n",
       "      <td>https://cosaccela.seattle.gov/portal/customize...</td>\n",
       "      <td>47.609118</td>\n",
       "      <td>-122.338320</td>\n",
       "      <td>(47.60911773, -122.33832038)</td>\n",
       "      <td>2003-11-10</td>\n",
       "    </tr>\n",
       "    <tr>\n",
       "      <th>...</th>\n",
       "      <td>...</td>\n",
       "      <td>...</td>\n",
       "      <td>...</td>\n",
       "      <td>...</td>\n",
       "      <td>...</td>\n",
       "      <td>...</td>\n",
       "      <td>...</td>\n",
       "      <td>...</td>\n",
       "      <td>...</td>\n",
       "      <td>...</td>\n",
       "      <td>...</td>\n",
       "      <td>...</td>\n",
       "      <td>...</td>\n",
       "      <td>...</td>\n",
       "      <td>...</td>\n",
       "      <td>...</td>\n",
       "      <td>...</td>\n",
       "      <td>...</td>\n",
       "    </tr>\n",
       "    <tr>\n",
       "      <th>188125</th>\n",
       "      <td>004881-23CP</td>\n",
       "      <td>Complaint</td>\n",
       "      <td>Request</td>\n",
       "      <td>LandLord/Tenant</td>\n",
       "      <td>NOTICE OF INTENT TO ENTERAND PRESUMED ABANDONMENT</td>\n",
       "      <td>2023-05-10</td>\n",
       "      <td>POINT (-122.34702054 47.73157296)</td>\n",
       "      <td>NaN</td>\n",
       "      <td>Under Investigation</td>\n",
       "      <td>14100 LINDEN AVE N</td>\n",
       "      <td>SEATTLE</td>\n",
       "      <td>WA</td>\n",
       "      <td>98133.0</td>\n",
       "      <td>https://cosaccela.seattle.gov/portal/customize...</td>\n",
       "      <td>47.731573</td>\n",
       "      <td>-122.347021</td>\n",
       "      <td>(47.73157296, -122.34702054)</td>\n",
       "      <td>2023-05-10</td>\n",
       "    </tr>\n",
       "    <tr>\n",
       "      <th>188126</th>\n",
       "      <td>1055984-VI</td>\n",
       "      <td>Notice of Violation</td>\n",
       "      <td>Case</td>\n",
       "      <td>NaN</td>\n",
       "      <td>COMPLY OR VACATEMOLD, CEILING LEAKPER PIPE PRO...</td>\n",
       "      <td>2023-05-10</td>\n",
       "      <td>POINT (-122.34224721 47.61513867)</td>\n",
       "      <td>NaN</td>\n",
       "      <td>Initiated</td>\n",
       "      <td>420 BLANCHARD ST</td>\n",
       "      <td>SEATTLE</td>\n",
       "      <td>WA</td>\n",
       "      <td>98121.0</td>\n",
       "      <td>https://cosaccela.seattle.gov/portal/customize...</td>\n",
       "      <td>47.615139</td>\n",
       "      <td>-122.342247</td>\n",
       "      <td>(47.61513867, -122.34224721)</td>\n",
       "      <td>2023-05-10</td>\n",
       "    </tr>\n",
       "    <tr>\n",
       "      <th>188127</th>\n",
       "      <td>004882-23CP</td>\n",
       "      <td>Complaint</td>\n",
       "      <td>Request</td>\n",
       "      <td>NaN</td>\n",
       "      <td>The person residing at 1235 S. Donovan Street ...</td>\n",
       "      <td>2023-05-10</td>\n",
       "      <td>POINT (-122.31613662 47.52543336)</td>\n",
       "      <td>NaN</td>\n",
       "      <td>Initiated</td>\n",
       "      <td>1235 S DONOVAN ST</td>\n",
       "      <td>SEATTLE</td>\n",
       "      <td>WA</td>\n",
       "      <td>98108.0</td>\n",
       "      <td>https://cosaccela.seattle.gov/portal/customize...</td>\n",
       "      <td>47.525433</td>\n",
       "      <td>-122.316137</td>\n",
       "      <td>(47.52543336, -122.31613662)</td>\n",
       "      <td>2023-05-10</td>\n",
       "    </tr>\n",
       "    <tr>\n",
       "      <th>188128</th>\n",
       "      <td>004883-23CP</td>\n",
       "      <td>Complaint</td>\n",
       "      <td>Request</td>\n",
       "      <td>NaN</td>\n",
       "      <td>The General contractor Iliya Kovalev doesn't w...</td>\n",
       "      <td>2023-05-10</td>\n",
       "      <td>POINT (-122.39165973 47.68630858)</td>\n",
       "      <td>NaN</td>\n",
       "      <td>Initiated</td>\n",
       "      <td>7744 EARL AVE NW</td>\n",
       "      <td>SEATTLE</td>\n",
       "      <td>WA</td>\n",
       "      <td>98117.0</td>\n",
       "      <td>https://cosaccela.seattle.gov/portal/customize...</td>\n",
       "      <td>47.686309</td>\n",
       "      <td>-122.391660</td>\n",
       "      <td>(47.68630858, -122.39165973)</td>\n",
       "      <td>2023-05-10</td>\n",
       "    </tr>\n",
       "    <tr>\n",
       "      <th>188129</th>\n",
       "      <td>004884-23CP</td>\n",
       "      <td>Complaint</td>\n",
       "      <td>Request</td>\n",
       "      <td>NaN</td>\n",
       "      <td>The traffic rush hour on Fairview and Denny Wa...</td>\n",
       "      <td>2023-05-10</td>\n",
       "      <td>POINT (-122.33510728 47.61913747)</td>\n",
       "      <td>NaN</td>\n",
       "      <td>Initiated</td>\n",
       "      <td>111 Fairview AVE N</td>\n",
       "      <td>NaN</td>\n",
       "      <td>NaN</td>\n",
       "      <td>NaN</td>\n",
       "      <td>https://cosaccela.seattle.gov/portal/customize...</td>\n",
       "      <td>47.619137</td>\n",
       "      <td>-122.335107</td>\n",
       "      <td>(47.61913747, -122.33510728)</td>\n",
       "      <td>2023-05-10</td>\n",
       "    </tr>\n",
       "  </tbody>\n",
       "</table>\n",
       "<p>188130 rows × 18 columns</p>\n",
       "</div>"
      ],
      "text/plain": [
       "          RecordNum           RecordType RecordTypeMapped   RecordTypeDesc  \\\n",
       "0       001001-03CP            Complaint          Request     Construction   \n",
       "1       001002-03CP            Complaint          Request     Construction   \n",
       "2       001003-03CP            Complaint          Request  Vacant Building   \n",
       "3       001004-03CP            Complaint          Request         Land Use   \n",
       "4       001005-03CP            Complaint          Request         Land Use   \n",
       "...             ...                  ...              ...              ...   \n",
       "188125  004881-23CP            Complaint          Request  LandLord/Tenant   \n",
       "188126   1055984-VI  Notice of Violation             Case              NaN   \n",
       "188127  004882-23CP            Complaint          Request              NaN   \n",
       "188128  004883-23CP            Complaint          Request              NaN   \n",
       "188129  004884-23CP            Complaint          Request              NaN   \n",
       "\n",
       "                                              Description    OpenDate  \\\n",
       "0       Elevator gets stuck at least 3 times a week, f...  2003-11-10   \n",
       "1       Concerned about RV pumpout that is currently b...  2003-11-10   \n",
       "2       The vacant red apple building and adjacent bui...  2003-11-10   \n",
       "3       Trailor and camper parked in back yard.  Peopl...  2003-11-10   \n",
       "4       Illegal use of property.\"Hawkers\" or vendors (...  2003-11-10   \n",
       "...                                                   ...         ...   \n",
       "188125  NOTICE OF INTENT TO ENTERAND PRESUMED ABANDONMENT  2023-05-10   \n",
       "188126  COMPLY OR VACATEMOLD, CEILING LEAKPER PIPE PRO...  2023-05-10   \n",
       "188127  The person residing at 1235 S. Donovan Street ...  2023-05-10   \n",
       "188128  The General contractor Iliya Kovalev doesn't w...  2023-05-10   \n",
       "188129  The traffic rush hour on Fairview and Denny Wa...  2023-05-10   \n",
       "\n",
       "                             LastInspDate LastInspResult        StatusCurrent  \\\n",
       "0       POINT (-122.33582172 47.60642293)      Completed            Completed   \n",
       "1       POINT (-122.35191884 47.68639169)      Completed            Completed   \n",
       "2       POINT (-122.31388805 47.61559829)      Completed            Completed   \n",
       "3       POINT (-122.36215164 47.69226044)      Completed            Completed   \n",
       "4       POINT (-122.33832038 47.60911773)      Completed            Completed   \n",
       "...                                   ...            ...                  ...   \n",
       "188125  POINT (-122.34702054 47.73157296)            NaN  Under Investigation   \n",
       "188126  POINT (-122.34224721 47.61513867)            NaN            Initiated   \n",
       "188127  POINT (-122.31613662 47.52543336)            NaN            Initiated   \n",
       "188128  POINT (-122.39165973 47.68630858)            NaN            Initiated   \n",
       "188129  POINT (-122.33510728 47.61913747)            NaN            Initiated   \n",
       "\n",
       "          OriginalAddress1 OriginalCity OriginalState  OriginalZip  \\\n",
       "0             1100 2ND AVE      SEATTLE            WA      98101.0   \n",
       "1            512 N 79TH ST      SEATTLE            WA      98103.0   \n",
       "2           1400 E PINE ST      SEATTLE            WA      98122.0   \n",
       "3           332 NW 87TH ST      SEATTLE            WA      98117.0   \n",
       "4             1430 2ND AVE      SEATTLE            WA      98101.0   \n",
       "...                    ...          ...           ...          ...   \n",
       "188125  14100 LINDEN AVE N      SEATTLE            WA      98133.0   \n",
       "188126    420 BLANCHARD ST      SEATTLE            WA      98121.0   \n",
       "188127   1235 S DONOVAN ST      SEATTLE            WA      98108.0   \n",
       "188128    7744 EARL AVE NW      SEATTLE            WA      98117.0   \n",
       "188129  111 Fairview AVE N          NaN           NaN          NaN   \n",
       "\n",
       "                                                     Link   Latitude  \\\n",
       "0       https://cosaccela.seattle.gov/portal/customize...  47.606423   \n",
       "1       https://cosaccela.seattle.gov/portal/customize...  47.686392   \n",
       "2       https://cosaccela.seattle.gov/portal/customize...  47.615598   \n",
       "3       https://cosaccela.seattle.gov/portal/customize...  47.692260   \n",
       "4       https://cosaccela.seattle.gov/portal/customize...  47.609118   \n",
       "...                                                   ...        ...   \n",
       "188125  https://cosaccela.seattle.gov/portal/customize...  47.731573   \n",
       "188126  https://cosaccela.seattle.gov/portal/customize...  47.615139   \n",
       "188127  https://cosaccela.seattle.gov/portal/customize...  47.525433   \n",
       "188128  https://cosaccela.seattle.gov/portal/customize...  47.686309   \n",
       "188129  https://cosaccela.seattle.gov/portal/customize...  47.619137   \n",
       "\n",
       "         Longitude                     Location1 OpenDate_new  \n",
       "0      -122.335822  (47.60642293, -122.33582172)   2003-11-10  \n",
       "1      -122.351919  (47.68639169, -122.35191884)   2003-11-10  \n",
       "2      -122.313888  (47.61559829, -122.31388805)   2003-11-10  \n",
       "3      -122.362152  (47.69226044, -122.36215164)   2003-11-10  \n",
       "4      -122.338320  (47.60911773, -122.33832038)   2003-11-10  \n",
       "...            ...                           ...          ...  \n",
       "188125 -122.347021  (47.73157296, -122.34702054)   2023-05-10  \n",
       "188126 -122.342247  (47.61513867, -122.34224721)   2023-05-10  \n",
       "188127 -122.316137  (47.52543336, -122.31613662)   2023-05-10  \n",
       "188128 -122.391660  (47.68630858, -122.39165973)   2023-05-10  \n",
       "188129 -122.335107  (47.61913747, -122.33510728)   2023-05-10  \n",
       "\n",
       "[188130 rows x 18 columns]"
      ]
     },
     "execution_count": 125,
     "metadata": {},
     "output_type": "execute_result"
    }
   ],
   "source": [
    "complaints"
   ]
  },
  {
   "cell_type": "code",
   "execution_count": 142,
   "id": "1008fa24",
   "metadata": {},
   "outputs": [],
   "source": [
    "# 4.1 - Question"
   ]
  },
  {
   "cell_type": "markdown",
   "id": "cc854265",
   "metadata": {},
   "source": [
    "How many submissions have been completed?"
   ]
  },
  {
   "cell_type": "code",
   "execution_count": 143,
   "id": "55fe5c22",
   "metadata": {},
   "outputs": [],
   "source": [
    "# 4.2 - pandas code"
   ]
  },
  {
   "cell_type": "code",
   "execution_count": 139,
   "id": "fabe72bd",
   "metadata": {},
   "outputs": [
    {
     "data": {
      "text/plain": [
       "<pandas.core.groupby.generic.DataFrameGroupBy object at 0x7fcb2a3d6020>"
      ]
     },
     "execution_count": 139,
     "metadata": {},
     "output_type": "execute_result"
    }
   ],
   "source": [
    "complaints.groupby(\"StatusCurrent\")"
   ]
  },
  {
   "cell_type": "code",
   "execution_count": 140,
   "id": "7ff7ec5b",
   "metadata": {},
   "outputs": [
    {
     "data": {
      "text/plain": [
       "Completed                         167622\n",
       "Closed                             13298\n",
       "Under Investigation                 3580\n",
       "NOV Issued                          1164\n",
       "Initiated                            892\n",
       "Open Duplicate                       300\n",
       "Warning                              259\n",
       "Referred to Law                      210\n",
       "Citation Issued                      209\n",
       "Reviews Completed                    124\n",
       "Issued                                88\n",
       "EO Vacate Close Issued                85\n",
       "EO Repair Restore Issued              65\n",
       "Compliance Achieved                   61\n",
       "Reviews In Process                    54\n",
       "Hazard Correction Order Issued        38\n",
       "Application Completed                 32\n",
       "Withdrawn                             29\n",
       "Stop Work Issued                      20\n",
       "Name: StatusCurrent, dtype: int64"
      ]
     },
     "execution_count": 140,
     "metadata": {},
     "output_type": "execute_result"
    }
   ],
   "source": [
    "complaints['StatusCurrent'].value_counts()"
   ]
  },
  {
   "cell_type": "code",
   "execution_count": 144,
   "id": "8c262372",
   "metadata": {},
   "outputs": [],
   "source": [
    "# 4.3 - explaining what i found"
   ]
  },
  {
   "cell_type": "markdown",
   "id": "77390b75",
   "metadata": {},
   "source": [
    "Since 2003, 167622 of the complaints and violations that have been submitted to the city of Seattle have been completed. The documentation states that \"StatusCurrent\" refers to the \"current status in the complaint/review/inspection life cycle\" - therefore, I presume if a submission is not marked as \"completed\" it is likely in the review/inspection part of the cycle. Though, I am interested in the difference betweeen \"closed\" and \"completed\" - I couldn't find anything specific in the documentation though I think \"closed\" is likely to be related to duplicates or general submissions not requiring cti"
   ]
  },
  {
   "cell_type": "code",
   "execution_count": null,
   "id": "aa9fbb12",
   "metadata": {},
   "outputs": [],
   "source": []
  }
 ],
 "metadata": {
  "kernelspec": {
   "display_name": "Python 3 (ipykernel)",
   "language": "python",
   "name": "python3"
  },
  "language_info": {
   "codemirror_mode": {
    "name": "ipython",
    "version": 3
   },
   "file_extension": ".py",
   "mimetype": "text/x-python",
   "name": "python",
   "nbconvert_exporter": "python",
   "pygments_lexer": "ipython3",
   "version": "3.10.9"
  }
 },
 "nbformat": 4,
 "nbformat_minor": 5
}
