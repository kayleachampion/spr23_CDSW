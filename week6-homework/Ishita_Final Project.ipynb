{
 "cells": [
  {
   "cell_type": "markdown",
   "id": "ca2e38d6",
   "metadata": {},
   "source": [
    "What is your proposed unit of analysis? In other words, if/when you end up building something like a spreadsheet, what are rows going to represent?\n",
    "\n",
    "\n",
    "A dataset focused on a specific keyword would shed light on how YouTube's recommendation algorithm operates. Specifically, I'm curious about how YouTube recommends similar content based on the initial keyword used in a video, and at what point in the view count does it start to make such recommendations. Does the algorithm prioritize the usage of the keyword, or does it prioritize popularity? Which of these factors carries more weight in YouTube's decision-making process for recommendations?"
   ]
  },
  {
   "cell_type": "markdown",
   "id": "1ecfacc5",
   "metadata": {},
   "source": [
    "What specific measures associated with each unit do you want to collect? In other words, what are the columns in the spreadsheet going to be?\n",
    "\n",
    "1. type of video (keywords)\n",
    "2. duration (frequency of time at which each video was played)\n",
    "3. suggestion (comparing based on keywords or popularity) "
   ]
  },
  {
   "cell_type": "markdown",
   "id": "c9cd543a",
   "metadata": {},
   "source": [
    "ell us what you've learned about the API:\n",
    "Are you going to be able to get the data you want with one API call or many? If more than one, how many?\n",
    "If it's more than one call, how will you know when you have collected all your data?\n",
    "\n",
    "\n",
    "\n",
    "I need to find this out yet. "
   ]
  },
  {
   "cell_type": "markdown",
   "id": "e5851ccf",
   "metadata": {},
   "source": [
    "Make one API call and save the output to your desk in either a .json or .jsonl file. Be sure to share the code you used to do this. Be sure not to include any API keys in your notebook!\n",
    "How big is the JSON file that you saved on your disk (i.e., in bytes or kilobytes)? If it is not your full dataset, what is your estimate for how much larger the full dataset will be? How big will the total dataset be? Is that a problem?\n",
    "\n",
    "\n",
    "I will figure this out by this week. "
   ]
  }
 ],
 "metadata": {
  "kernelspec": {
   "display_name": "Python 3 (ipykernel)",
   "language": "python",
   "name": "python3"
  },
  "language_info": {
   "codemirror_mode": {
    "name": "ipython",
    "version": 3
   },
   "file_extension": ".py",
   "mimetype": "text/x-python",
   "name": "python",
   "nbconvert_exporter": "python",
   "pygments_lexer": "ipython3",
   "version": "3.10.9"
  }
 },
 "nbformat": 4,
 "nbformat_minor": 5
}
