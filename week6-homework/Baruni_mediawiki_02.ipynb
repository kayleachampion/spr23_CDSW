{
 "cells": [
  {
   "cell_type": "code",
   "execution_count": 47,
   "id": "e64e70b4",
   "metadata": {},
   "outputs": [],
   "source": [
    "import json"
   ]
  },
  {
   "cell_type": "code",
   "execution_count": 48,
   "id": "bcd2dd91",
   "metadata": {},
   "outputs": [],
   "source": [
    "revisions = []\n",
    "\n",
    "with open(\"Starwars_articles_revisions.jsonl\", 'r') as input_file:\n",
    "    for line in input_file.readlines():\n",
    "        api_answer = json.loads(line)\n",
    "        \n",
    "        # get the list of pages from the json object\n",
    "        pages = api_answer[\"query\"][\"pages\"]\n",
    "\n",
    "        # for every page, (there should always be only one) get its revisions:\n",
    "        for page_id in pages.keys():\n",
    "            query_revisions = pages[page_id][\"revisions\"]\n",
    "            title = pages[page_id]['title']\n",
    "\n",
    "            # for every revision, first we do some cleaning up\n",
    "            for rev in query_revisions:\n",
    "                #print(rev)\n",
    "                # let's continue/skip this revision if the user is hidden\n",
    "                if \"userhidden\" in rev.keys():\n",
    "                    continue\n",
    "                \n",
    "                # 1: add a title field for the article because we're going to mix them together\n",
    "                rev[\"title\"] = title\n",
    "\n",
    "                # 2: let's \"recode\" anon so it's true or false instead of present/missing\n",
    "                if \"anon\" in rev.keys():\n",
    "                    rev[\"anon\"] = True\n",
    "                else:\n",
    "                    rev[\"anon\"] = False\n",
    "\n",
    "                # 3: let's recode \"minor\" in the same way\n",
    "                if \"minor\" in rev.keys():\n",
    "                    rev[\"minor\"] = True\n",
    "                else:\n",
    "                    rev[\"minor\"] = False\n",
    "\n",
    "                # we're going to change the timestamp to make it work a little better in excel/spreadsheets\n",
    "                rev[\"timestamp\"] = rev[\"timestamp\"].replace(\"T\", \" \")\n",
    "                rev[\"timestamp\"] = rev[\"timestamp\"].replace(\"Z\", \"\")\n",
    "\n",
    "                # finally, save the revisions we've seen to a varaible\n",
    "                revisions.append(rev)"
   ]
  },
  {
   "cell_type": "code",
   "execution_count": 49,
   "id": "15430ce4",
   "metadata": {},
   "outputs": [
    {
     "data": {
      "text/plain": [
       "43914"
      ]
     },
     "execution_count": 49,
     "metadata": {},
     "output_type": "execute_result"
    }
   ],
   "source": [
    "num_edits = len(revisions)\n",
    "num_edits"
   ]
  },
  {
   "cell_type": "code",
   "execution_count": 50,
   "id": "97ad29fe",
   "metadata": {},
   "outputs": [
    {
     "name": "stdout",
     "output_type": "stream",
     "text": [
      "total edits: 43914\n",
      "anon edits: 15804\n",
      "proportion anon: 0.359885230222708\n"
     ]
    }
   ],
   "source": [
    "num_anon = 0\n",
    "\n",
    "for rev in revisions:\n",
    "    if rev[\"anon\"]:\n",
    "        num_anon = num_anon + 1\n",
    "\n",
    "prop_anon = num_anon / num_edits\n",
    "\n",
    "print(f\"total edits: {num_edits}\")\n",
    "print(f\"anon edits: {num_anon}\")\n",
    "print(f\"proportion anon: {prop_anon}\")"
   ]
  },
  {
   "cell_type": "code",
   "execution_count": 51,
   "id": "cbfb1a12",
   "metadata": {},
   "outputs": [
    {
     "name": "stdout",
     "output_type": "stream",
     "text": [
      "total edits: 43914\n",
      "minor edits: 10200\n",
      "proportion minor: 0.23227216832900668\n"
     ]
    }
   ],
   "source": [
    "num_minor = 0\n",
    "\n",
    "for rev in revisions:\n",
    "    if rev[\"minor\"]:\n",
    "        num_minor = num_minor + 1\n",
    "\n",
    "prop_minor = num_minor / num_edits\n",
    "\n",
    "print(f\"total edits: {num_edits}\")\n",
    "print(f\"minor edits: {num_minor}\")\n",
    "print(f\"proportion minor: {prop_minor}\")"
   ]
  },
  {
   "cell_type": "code",
   "execution_count": 52,
   "id": "9ea883fb",
   "metadata": {},
   "outputs": [],
   "source": [
    "edits_by_day = {}\n",
    "for rev in revisions:\n",
    "    day_string = rev['timestamp'][0:10]\n",
    "\n",
    "    if day_string in edits_by_day.keys():\n",
    "        edits_by_day[day_string] = edits_by_day[day_string] + 1\n",
    "    else:\n",
    "        edits_by_day[day_string] = 1"
   ]
  },
  {
   "cell_type": "code",
   "execution_count": 53,
   "id": "c95a02ac",
   "metadata": {},
   "outputs": [],
   "source": [
    "with open(\"Starwars_editbyday.tsv\", \"w\", encoding='utf-8') as output_file:\n",
    "    # write a header\n",
    "    print(\"date\\tedits\", file=output_file)\n",
    "\n",
    "    # iterate through every day and print out data into the file\n",
    "    for day_string in edits_by_day.keys():\n",
    "        print(\"\\t\".join([day_string, str(edits_by_day[day_string])]), file=output_file)"
   ]
  },
  {
   "cell_type": "markdown",
   "id": "67bee56e",
   "metadata": {},
   "source": [
    "https://docs.google.com/spreadsheets/d/1PkxUCjd3PoxPuCbu58FnsK5f81nwnmVXoO5bE8aktEY/edit#gid=0"
   ]
  },
  {
   "cell_type": "code",
   "execution_count": 54,
   "id": "490e4a95",
   "metadata": {},
   "outputs": [],
   "source": [
    "revisionsfandom = []\n",
    "\n",
    "with open(\"FandomStarwars_articles_revisions.jsonl\", 'r') as input_file:\n",
    "    for line in input_file.readlines():\n",
    "        api_answer = json.loads(line)\n",
    "        \n",
    "        # get the list of pages from the json object\n",
    "        pages = api_answer[\"query\"][\"pages\"]\n",
    "      \n",
    "\n",
    "        # for every page, (there should always be only one) get its revisions:\n",
    "        for page_id in pages.keys():\n",
    "            query_revisions = pages[page_id][\"revisions\"]\n",
    "            title = pages[page_id]['title']\n",
    "\n",
    "            # for every revision, first we do some cleaning up\n",
    "            for rev in query_revisions:\n",
    "               \n",
    "                if \"userhidden\" in rev.keys():\n",
    "                    continue\n",
    "                \n",
    "                # 1: add a title field for the article because we're going to mix them together\n",
    "                rev[\"title\"] = title\n",
    "\n",
    "                # 2: let's \"recode\" anon so it's true or false instead of present/missing\n",
    "                if \"anon\" in rev.keys():\n",
    "                    rev[\"anon\"] = True\n",
    "                else:\n",
    "                    rev[\"anon\"] = False\n",
    "\n",
    "                # 3: let's recode \"minor\" in the same way\n",
    "                if \"minor\" in rev.keys():\n",
    "                    rev[\"minor\"] = True\n",
    "                else:\n",
    "                    rev[\"minor\"] = False\n",
    "\n",
    "                # we're going to change the timestamp to make it work a little better in excel/spreadsheets\n",
    "                rev[\"timestamp\"] = rev[\"timestamp\"].replace(\"T\", \" \")\n",
    "                rev[\"timestamp\"] = rev[\"timestamp\"].replace(\"Z\", \"\")\n",
    "\n",
    "                # finally, save the revisions we've seen to a varaible\n",
    "                revisionsfandom.append(rev)"
   ]
  },
  {
   "cell_type": "code",
   "execution_count": 55,
   "id": "994913f5",
   "metadata": {},
   "outputs": [
    {
     "data": {
      "text/plain": [
       "4752"
      ]
     },
     "execution_count": 55,
     "metadata": {},
     "output_type": "execute_result"
    }
   ],
   "source": [
    "num_edits = len(revisionsfandom)\n",
    "num_edits"
   ]
  },
  {
   "cell_type": "code",
   "execution_count": 56,
   "id": "87fc73b3",
   "metadata": {},
   "outputs": [
    {
     "name": "stdout",
     "output_type": "stream",
     "text": [
      "total edits: 4752\n",
      "anon edits: 179\n",
      "proportion anon: 0.03766835016835017\n"
     ]
    }
   ],
   "source": [
    "num_anon = 0\n",
    "\n",
    "for rev in revisionsfandom:\n",
    "    if rev[\"anon\"]:\n",
    "        num_anon = num_anon + 1\n",
    "\n",
    "prop_anon = num_anon / num_edits\n",
    "\n",
    "print(f\"total edits: {num_edits}\")\n",
    "print(f\"anon edits: {num_anon}\")\n",
    "print(f\"proportion anon: {prop_anon}\")"
   ]
  },
  {
   "cell_type": "code",
   "execution_count": 58,
   "id": "3788773e",
   "metadata": {},
   "outputs": [
    {
     "name": "stdout",
     "output_type": "stream",
     "text": [
      "total edits: 4752\n",
      "minor edits: 1546\n",
      "proportion minor: 0.3253367003367003\n"
     ]
    }
   ],
   "source": [
    "num_minor = 0\n",
    "\n",
    "for rev in revisionsfandom:\n",
    "    if rev[\"minor\"]:\n",
    "        num_minor = num_minor + 1\n",
    "\n",
    "prop_minor = num_minor / num_edits\n",
    "\n",
    "print(f\"total edits: {num_edits}\")\n",
    "print(f\"minor edits: {num_minor}\")\n",
    "print(f\"proportion minor: {prop_minor}\")"
   ]
  },
  {
   "cell_type": "code",
   "execution_count": 59,
   "id": "bedb8f51",
   "metadata": {},
   "outputs": [],
   "source": [
    "edits_by_day = {}\n",
    "for rev in revisionsfandom:\n",
    "    day_string = rev['timestamp'][0:10]\n",
    "\n",
    "    if day_string in edits_by_day.keys():\n",
    "        edits_by_day[day_string] = edits_by_day[day_string] + 1\n",
    "    else:\n",
    "        edits_by_day[day_string] = 1"
   ]
  },
  {
   "cell_type": "code",
   "execution_count": 60,
   "id": "d36c429c",
   "metadata": {},
   "outputs": [],
   "source": [
    "with open(\"fandomStarwars_editbyday.tsv\", \"w\", encoding='utf-8') as output_file:\n",
    "    # write a header\n",
    "    print(\"date\\tedits\", file=output_file)\n",
    "\n",
    "    # iterate through every day and print out data into the file\n",
    "    for day_string in edits_by_day.keys():\n",
    "        print(\"\\t\".join([day_string, str(edits_by_day[day_string])]), file=output_file)"
   ]
  },
  {
   "cell_type": "markdown",
   "id": "1f08a6ee",
   "metadata": {},
   "source": [
    "https://docs.google.com/spreadsheets/d/1PkxUCjd3PoxPuCbu58FnsK5f81nwnmVXoO5bE8aktEY/edit#gid=0"
   ]
  },
  {
   "cell_type": "code",
   "execution_count": 71,
   "id": "46ac354e",
   "metadata": {},
   "outputs": [],
   "source": [
    "with open(\"starwars_sizebyday.tsv\", \"w\", encoding='utf-8') as output_file:\n",
    "    size_by_day = {}\n",
    "    # write a header\n",
    "    print(\"article\\tdate\\tsize\", file=output_file)\n",
    "    for rev in revisions:\n",
    "        if type(rev['title']) == str:\n",
    "            day_string = rev['timestamp'][0:10]\n",
    "            print(\"\\t\".join([rev['title'], day_string, str(rev['size'])]), file=output_file)"
   ]
  },
  {
   "cell_type": "markdown",
   "id": "6278045a",
   "metadata": {},
   "source": [
    "https://docs.google.com/spreadsheets/d/1PkxUCjd3PoxPuCbu58FnsK5f81nwnmVXoO5bE8aktEY/edit#gid=1699429451"
   ]
  }
 ],
 "metadata": {
  "kernelspec": {
   "display_name": "Python 3 (ipykernel)",
   "language": "python",
   "name": "python3"
  },
  "language_info": {
   "codemirror_mode": {
    "name": "ipython",
    "version": 3
   },
   "file_extension": ".py",
   "mimetype": "text/x-python",
   "name": "python",
   "nbconvert_exporter": "python",
   "pygments_lexer": "ipython3",
   "version": "3.10.9"
  }
 },
 "nbformat": 4,
 "nbformat_minor": 5
}
