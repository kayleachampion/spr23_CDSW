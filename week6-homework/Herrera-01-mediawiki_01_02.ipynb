{
 "cells": [
  {
   "cell_type": "code",
   "execution_count": 13,
   "id": "1f9d49bb",
   "metadata": {},
   "outputs": [],
   "source": [
    "import requests\n",
    "import json"
   ]
  },
  {
   "cell_type": "markdown",
   "id": "ed8dec68",
   "metadata": {},
   "source": [
    "#Sons of Anarchy\n",
    "#Setting endpoints parameters"
   ]
  },
  {
   "cell_type": "code",
   "execution_count": 14,
   "id": "404f0775",
   "metadata": {},
   "outputs": [],
   "source": [
    "url = \"https://en.wikipedia.org/w/api.php\"\n",
    "params = {\n",
    "    \"action\": \"query\",\n",
    "    \"format\": \"json\",\n",
    "    \"prop\": \"revisions\",\n",
    "    \"rvprop\": \"timestamp|user|comment|flags|size\",\n",
    "    \"rvdir\": \"newer\",\n",
    "    \"rvstart\": \"2022-01-01T00:00:00Z\",\n",
    "    \"rvend\": \"2022-12-31T23:59:59Z\",\n",
    "    \"rvlimit\": \"max\"\n",
    "}"
   ]
  },
  {
   "cell_type": "code",
   "execution_count": 15,
   "id": "00dcd7f5",
   "metadata": {},
   "outputs": [
    {
     "name": "stdout",
     "output_type": "stream",
     "text": [
      "Revisions data for Sons_of_Anarchy:\n",
      "[{'user': '71.69.169.33', 'anon': '', 'timestamp': '2022-01-08T06:06:34Z', 'size': 100753, 'comment': '/* Series overview */'}, {'user': 'DocWatson42', 'timestamp': '2022-01-08T11:18:18Z', 'size': 100765, 'comment': '/* Series overview */Performed minor cleanup.'}, {'user': '174.255.1.8', 'anon': '', 'timestamp': '2022-01-18T13:04:21Z', 'size': 100817, 'comment': '/* Season 4 (2011) */'}, {'minor': '', 'user': 'ClueBot NG', 'timestamp': '2022-01-18T13:04:30Z', 'size': 100765, 'comment': 'Reverting possible vandalism by [[Special:Contribs/174.255.1.8|174.255.1.8]] to version by DocWatson42. [[WP:CBFP|Report False Positive?]] Thanks, [[WP:CBNG|ClueBot NG]]. (4111031) (Bot)'}, {'user': 'Meatsgains', 'timestamp': '2022-01-19T22:34:57Z', 'size': 101225, 'comment': '/* Potential prequel */ expand on prequel'}, {'user': 'Meatsgains', 'timestamp': '2022-01-19T22:35:32Z', 'size': 101225, 'comment': '/* Potential prequel */'}, {'user': 'Meatsgains', 'timestamp': '2022-01-19T22:36:11Z', 'size': 101234, 'comment': '/* Potential prequel */ improve grammar'}, {'user': 'Meatsgains', 'timestamp': '2022-01-19T22:39:40Z', 'size': 100988, 'comment': '/* Attire */ remove unsourced content'}, {'user': 'Citation bot', 'timestamp': '2022-01-26T09:54:55Z', 'size': 101350, 'comment': 'Alter: template type. Add: magazine, website, title, date. Changed bare reference to CS1/2. Removed parameters. Some additions/deletions were parameter name changes. | [[WP:UCB|Use this bot]]. [[WP:DBUG|Report bugs]]. | Suggested by BrownHairedGirl | Linked from User:BrownHairedGirl/Articles_with_new_bare_URL_refs | #UCB_webform_linked 1850/2177'}, {'user': '2804:14D:7E27:8310:89BA:555B:6CEC:E19C', 'anon': '', 'timestamp': '2022-01-31T14:12:22Z', 'size': 101373, 'comment': 'Added content'}, {'user': '118.42.104.43', 'anon': '', 'timestamp': '2022-02-02T14:40:43Z', 'size': 101374, 'comment': ''}, {'user': '2804:14C:5B41:89C8:4C9C:CD4A:9EDD:237C', 'anon': '', 'timestamp': '2022-02-11T02:45:34Z', 'size': 101405, 'comment': '/* External links */'}, {'user': '2804:14C:5B41:89C8:4C9C:CD4A:9EDD:237C', 'anon': '', 'timestamp': '2022-02-11T03:32:14Z', 'size': 101435, 'comment': '/* External links */'}, {'user': 'ScanCom', 'timestamp': '2022-02-15T20:54:10Z', 'size': 97274, 'comment': \"/* Sons of Anarchy: The Prospect */ doesn't make sense\"}, {'user': '2804:14D:8E86:89C4:F9C5:A413:776:DD60', 'anon': '', 'timestamp': '2022-02-20T00:58:06Z', 'size': 97307, 'comment': ''}, {'user': '2804:14D:8E86:89C4:F9C5:A413:776:DD60', 'anon': '', 'timestamp': '2022-02-20T00:58:28Z', 'size': 97270, 'comment': ''}, {'user': '2A00:23C7:1F20:E601:69EF:3925:5176:51CB', 'anon': '', 'timestamp': '2022-02-28T23:38:40Z', 'size': 97531, 'comment': 'The new more accurate description'}, {'minor': '', 'user': 'JPxG', 'timestamp': '2022-02-28T23:39:13Z', 'size': 97270, 'comment': 'Reverted edits by [[Special:Contributions/2A00:23C7:1F20:E601:69EF:3925:5176:51CB|2A00:23C7:1F20:E601:69EF:3925:5176:51CB]] ([[User talk:2A00:23C7:1F20:E601:69EF:3925:5176:51CB|talk]]) ([[WP:HG|HG]]) (3.4.11)'}, {'minor': '', 'user': 'Cramer92', 'timestamp': '2022-03-02T20:06:36Z', 'size': 97270, 'comment': 'Improved table background contrast'}, {'minor': '', 'user': 'Dracotheruss', 'timestamp': '2022-03-03T16:49:05Z', 'size': 97276, 'comment': '/* Characters */'}, {'minor': '', 'user': 'Dracotheruss', 'timestamp': '2022-03-03T16:49:59Z', 'size': 97270, 'comment': '/* Characters */'}, {'user': '115.64.16.138', 'anon': '', 'timestamp': '2022-03-04T23:31:07Z', 'size': 97235, 'comment': '/* Broadcast */ irrelevant and expired'}, {'user': '115.64.16.138', 'anon': '', 'timestamp': '2022-03-04T23:31:27Z', 'size': 97234, 'comment': '/* Broadcast */'}, {'user': '2804:14C:5B41:89C8:1936:570C:4E2A:A758', 'anon': '', 'timestamp': '2022-03-18T14:38:37Z', 'size': 97265, 'comment': '/* External links */'}, {'user': '2804:14D:8E86:89C4:4D77:F96F:68DA:63E0', 'anon': '', 'timestamp': '2022-03-19T23:15:35Z', 'size': 97256, 'comment': ''}, {'minor': '', 'user': 'PrimeBOT', 'timestamp': '2022-04-01T20:16:56Z', 'size': 97231, 'comment': '[[User:PrimeBOT/30|Task 30]]: removal of deprecated infobox parameters'}, {'user': 'AndrewRCM', 'timestamp': '2022-04-21T06:47:10Z', 'size': 97271, 'comment': '/* Spin-off */Added update to spin off section'}, {'user': 'AndrewRCM', 'timestamp': '2022-04-21T06:47:51Z', 'size': 97272, 'comment': '/* Spin-off */'}, {'user': '2600:8800:5105:4800:D520:E10:5496:9843', 'anon': '', 'timestamp': '2022-04-22T01:32:30Z', 'size': 97266, 'comment': '/* Activities and affiliates */'}, {'user': 'Hydro-Molecular Dude', 'timestamp': '2022-04-29T06:47:15Z', 'size': 97250, 'comment': ''}, {'user': '90.255.24.100', 'anon': '', 'timestamp': '2022-05-27T13:30:15Z', 'size': 97250, 'comment': '/* Recurring */'}, {'minor': '', 'user': 'Butlerblog', 'timestamp': '2022-05-28T15:20:32Z', 'size': 97246, 'comment': 'format infobox params per [[:Template:Infobox television]]'}, {'user': '109.77.192.199', 'anon': '', 'timestamp': '2022-06-03T15:33:18Z', 'size': 96835, 'comment': 'Remove reference to [[WP:WEGOTTHISCOVERED]]. Why does the lead section have so many references anyway? [[WP:LEAD]] Not normally needed. (Add a better reference if you really think it is necessary but please do not restore unnecessary references to wegothiscovered.com)'}, {'user': '109.77.192.199', 'anon': '', 'timestamp': '2022-06-03T15:35:08Z', 'size': 96903, 'comment': '/* Reception */ proper references needed.'}, {'user': '109.77.192.199', 'anon': '', 'timestamp': '2022-06-03T15:38:18Z', 'size': 96929, 'comment': 'Dead link.'}, {'minor': '', 'user': 'AnomieBOT', 'timestamp': '2022-06-03T17:38:58Z', 'size': 97004, 'comment': 'Dating maintenance tags: {{Dead link}} {{Citation needed}}'}, {'user': '109.77.192.199', 'anon': '', 'timestamp': '2022-06-03T18:28:35Z', 'size': 95654, 'comment': 'Metacritic score should include the number of reviews counted for context. Merge duplicate references.'}, {'user': '109.77.192.199', 'anon': '', 'timestamp': '2022-06-03T18:30:29Z', 'size': 95445, 'comment': '[[MOS:COLORS]] overcolored'}, {'user': '109.77.192.199', 'anon': '', 'timestamp': '2022-06-03T18:37:38Z', 'size': 95485, 'comment': 'Avoid unnecessary abbreviations or acronyms. (Repeating the word club over and over is not ideal but that should be solved by rephrasing not acronyms.)'}, {'user': '109.77.192.199', 'anon': '', 'timestamp': '2022-06-03T18:39:48Z', 'size': 95476, 'comment': 'commonly? a generalization like that requires more than just one source, and the source provided only says \"SOA reportedly started out as “Hamlet on Harleys,”\" which refers to the writers possible intentions, not that people actually \"commonly\" call it that.'}, {'minor': '', 'user': 'AnomieBOT', 'timestamp': '2022-06-03T20:39:53Z', 'size': 95506, 'comment': 'Dating maintenance tags: {{By whom}} {{Citation needed}}'}, {'user': 'GreenC bot', 'timestamp': '2022-06-10T22:28:21Z', 'size': 95509, 'comment': 'Rescued 1 archive link. [[User:GreenC/WaybackMedic_2.5|Wayback Medic 2.5]]'}, {'user': '49.181.221.243', 'anon': '', 'timestamp': '2022-06-26T17:12:28Z', 'size': 95463, 'comment': ''}, {'user': '49.181.221.243', 'anon': '', 'timestamp': '2022-06-26T17:14:20Z', 'size': 94904, 'comment': ''}, {'user': 'TAnthony', 'timestamp': '2022-06-30T13:57:27Z', 'size': 94904, 'comment': '/* Season three */Update links to [[The A.V. Club]] (spacing, missing punctuation), consolidate citations, and genfixes'}, {'user': 'Butlerblog', 'timestamp': '2022-07-03T21:25:21Z', 'size': 94947, 'comment': 'added [[Category:Neo-Western television series]] using [[WP:HC|HotCat]]'}, {'user': 'Boynamedsue', 'timestamp': '2022-07-05T09:55:33Z', 'size': 94929, 'comment': '/* Series overview */ resolve \"by whom\" citation still needed'}, {'user': 'Citation bot', 'timestamp': '2022-07-06T19:32:40Z', 'size': 95004, 'comment': 'Alter: template type. Add: magazine, date. Removed parameters. Some additions/deletions were parameter name changes. | [[WP:UCB|Use this bot]]. [[WP:DBUG|Report bugs]]. | Suggested by Abductive | #UCB_toolbar'}, {'user': '129.194.0.219', 'anon': '', 'timestamp': '2022-07-21T22:10:02Z', 'size': 100723, 'comment': '/* Accolades */'}, {'user': 'Kaltenmeyer', 'timestamp': '2022-07-24T03:35:23Z', 'size': 100516, 'comment': 'removed extraneous text in reference, [[WP:AWB/T|typo(s) fixed]]: September 10, 2013 → September 10, 2013, (5)'}, {'user': 'Rockchalk717', 'timestamp': '2022-08-08T17:39:57Z', 'size': 100576, 'comment': \"/* Spin-off */ Update EZ's standing in Mayans. He was patched in at the end of season 2 I believe it was and become president at the end of the most recent season\"}, {'user': '70.36.241.149', 'anon': '', 'timestamp': '2022-08-11T18:56:36Z', 'size': 100631, 'comment': '/* Spin-off */'}, {'user': '2601:58C:4300:7EC0:77:B06B:662F:E462', 'anon': '', 'timestamp': '2022-08-16T17:53:19Z', 'size': 100622, 'comment': '/* Season 1 (2008) */Fixed an incorrect item'}, {'minor': '', 'user': 'BattyBot', 'timestamp': '2022-08-23T17:00:25Z', 'size': 100505, 'comment': '/* Accolades */Removed/fixed incorrect author parameter(s), performed [[WP:AWB/GF|general fixes]]'}, {'user': 'Citation bot', 'timestamp': '2022-09-06T00:14:30Z', 'size': 100554, 'comment': 'Alter: template type, url, title. URLs might have been anonymized. Add: archive-date, archive-url, magazine. Removed parameters. Some additions/deletions were parameter name changes. | [[WP:UCB|Use this bot]]. [[WP:DBUG|Report bugs]]. | Suggested by Whoop whoop pull up | [[Category:Works based on Hamlet]] | #UCB_Category 6/19'}, {'user': '222.120.130.130', 'anon': '', 'timestamp': '2022-09-23T12:24:43Z', 'size': 100556, 'comment': ''}, {'user': '14.54.110.240', 'anon': '', 'timestamp': '2022-09-25T10:26:07Z', 'size': 100561, 'comment': ''}, {'user': '14.54.110.240', 'anon': '', 'timestamp': '2022-09-25T10:27:50Z', 'size': 100559, 'comment': '/* Recurring */'}, {'user': '14.54.110.240', 'anon': '', 'timestamp': '2022-09-25T10:36:09Z', 'size': 100559, 'comment': ''}, {'user': '14.54.110.240', 'anon': '', 'timestamp': '2022-09-25T15:47:26Z', 'size': 100565, 'comment': ''}, {'user': 'Blake Halpert', 'timestamp': '2022-09-26T23:06:24Z', 'size': 100568, 'comment': ''}, {'user': 'XThePerfection', 'timestamp': '2022-09-29T18:19:03Z', 'size': 100570, 'comment': '/* Accolades */'}, {'user': 'StarTrekker', 'timestamp': '2022-10-01T14:39:08Z', 'size': 100574, 'comment': '/* Potential prequel */'}, {'minor': '', 'user': 'Butlerblog', 'timestamp': '2022-10-03T11:42:39Z', 'size': 100509, 'comment': 'remove unnecessary name param; ({{infobox television}} handles this automatically)'}, {'minor': '', 'user': 'WildStar', 'timestamp': '2022-10-03T16:22:09Z', 'size': 100996, 'comment': '/* Series overview */ Cleanup, added source'}, {'minor': '', 'user': 'TreToro335', 'timestamp': '2022-10-04T20:26:17Z', 'size': 100996, 'comment': '/* Recurring */'}, {'user': '14.54.110.240', 'anon': '', 'timestamp': '2022-10-11T08:27:04Z', 'size': 100987, 'comment': ''}, {'user': 'Benevolent Prawn', 'timestamp': '2022-10-17T15:18:17Z', 'size': 100986, 'comment': '/* Sons of Anarchy: The Prospect */'}, {'user': '2A00:20:C047:4F69:CAE7:8094:7BEE:74C1', 'anon': '', 'timestamp': '2022-11-07T15:58:38Z', 'size': 100990, 'comment': \"/* top */linked an actor's Wikipedia page to this article\"}, {'user': '86.15.93.32', 'anon': '', 'timestamp': '2022-11-20T19:06:05Z', 'size': 101046, 'comment': '/* External links */'}, {'user': '189.79.19.165', 'anon': '', 'timestamp': '2022-11-23T11:58:40Z', 'size': 101030, 'comment': ''}, {'user': '189.79.19.165', 'anon': '', 'timestamp': '2022-11-23T12:00:00Z', 'size': 101093, 'comment': ''}, {'user': '189.79.19.165', 'anon': '', 'timestamp': '2022-11-23T12:01:00Z', 'size': 101104, 'comment': ''}, {'user': 'ProspectofArts', 'timestamp': '2022-12-16T04:30:15Z', 'size': 101119, 'comment': '/* Cast and characters */'}, {'user': 'Ratfae', 'timestamp': '2022-12-25T13:27:48Z', 'size': 101123, 'comment': 'I connected this page with pre-existing wiki page'}, {'user': 'Ratfae', 'timestamp': '2022-12-25T15:26:27Z', 'size': 101149, 'comment': ''}, {'user': 'Ratfae', 'timestamp': '2022-12-26T10:13:11Z', 'size': 100863, 'comment': 'I added links with pre-existing wiki pages'}, {'user': 'Ratfae', 'timestamp': '2022-12-26T11:20:20Z', 'size': 100867, 'comment': 'I connected this page with pre-existing wiki page'}]\n",
      "--------------------------------------------------------\n"
     ]
    },
    {
     "name": "stdout",
     "output_type": "stream",
     "text": [
      "Revisions data for Jax_Teller:\n",
      "[{'user': '217.97.100.100', 'anon': '', 'timestamp': '2022-01-22T10:54:56Z', 'size': 20806, 'comment': ''}, {'user': 'Jjiza', 'timestamp': '2022-02-20T21:21:44Z', 'size': 20806, 'comment': '/* Season 7 */'}, {'user': '2600:8800:5105:4800:4C6C:5971:89E5:6C1', 'anon': '', 'timestamp': '2022-04-07T05:09:36Z', 'size': 20851, 'comment': ''}, {'user': '2600:1000:B11E:F540:711F:C94A:4C02:37EA', 'anon': '', 'timestamp': '2022-04-20T08:02:32Z', 'size': 20849, 'comment': '/* Season 1 */Fixed incorrect character.'}, {'user': 'The Optimistic One', 'timestamp': '2022-05-08T14:02:25Z', 'size': 20862, 'comment': '/* Character */Added full date'}, {'user': 'The Optimistic One', 'timestamp': '2022-05-08T14:10:27Z', 'size': 20862, 'comment': '/* Character */'}, {'user': 'The Optimistic One', 'timestamp': '2022-05-08T14:14:53Z', 'size': 20848, 'comment': ''}, {'user': 'The Optimistic One', 'timestamp': '2022-05-08T14:15:54Z', 'size': 20850, 'comment': '/* Origins and critical response */'}, {'minor': '', 'user': 'JJMC89 bot III', 'timestamp': '2022-06-29T03:49:08Z', 'size': 20820, 'comment': 'Removing [[:Category:Fictional bikers]] per [[Wikipedia:Categories for discussion/Log/2022 May 20#Category:Fictional bikers]]'}, {'user': 'The Optimistic One', 'timestamp': '2022-09-23T19:24:36Z', 'size': 20819, 'comment': '/* Character */'}, {'user': 'WildStar', 'timestamp': '2022-10-17T21:59:58Z', 'size': 20814, 'comment': '/* Season 6 */ Cleanup, grammar'}, {'user': '79.169.211.61', 'anon': '', 'timestamp': '2022-10-27T21:02:06Z', 'size': 20798, 'comment': ''}, {'user': 'The Optimistic One', 'timestamp': '2022-11-18T09:49:33Z', 'size': 20799, 'comment': ''}, {'minor': '', 'user': 'JJMC89 bot III', 'timestamp': '2022-11-29T12:55:01Z', 'size': 20768, 'comment': 'Removing [[:Category:Fictional smokers]] per [[Wikipedia:Categories for discussion/Log/2022 November 19#Category:Fictional smokers]]'}, {'user': '2605:8D80:4A0:F505:379F:618F:C1B3:418F', 'anon': '', 'timestamp': '2022-12-13T09:08:43Z', 'size': 20769, 'comment': '/* Season 1 */'}]\n",
      "--------------------------------------------------------\n",
      "Revisions data for Gemma_Teller_Morrow:\n",
      "[{'user': '217.97.100.100', 'anon': '', 'timestamp': '2022-01-22T10:55:37Z', 'size': 24618, 'comment': ''}, {'minor': '', 'user': 'WikiCleanerBot', 'timestamp': '2022-01-25T00:03:18Z', 'size': 24579, 'comment': 'v2.04b - [[User:WikiCleanerBot#T5|Bot T5 CW#17]] - Fix errors for [[WP:WCW|CW project]] (Category duplication)'}, {'user': 'Aldebaran69', 'timestamp': '2022-02-12T11:56:03Z', 'size': 24717, 'comment': 'adding references'}, {'user': '2600:8800:5105:4800:4C6C:5971:89E5:6C1', 'anon': '', 'timestamp': '2022-04-07T05:10:29Z', 'size': 24762, 'comment': ''}, {'user': 'The Optimistic One', 'timestamp': '2022-04-30T19:23:04Z', 'size': 24761, 'comment': 'Singular'}, {'user': '2603:6080:4F00:3A00:6082:F03B:FCFD:1B0C', 'anon': '', 'timestamp': '2022-05-21T10:29:58Z', 'size': 24766, 'comment': '/* Biography */'}, {'user': '2603:7000:2143:8500:9140:ADA3:E2BF:57D', 'anon': '', 'timestamp': '2022-05-25T01:25:13Z', 'size': 24770, 'comment': 'ce'}, {'user': 'HPfan4', 'timestamp': '2022-06-26T21:21:30Z', 'size': 24806, 'comment': '/* External links */'}, {'user': 'Kidd.18', 'timestamp': '2022-10-07T22:47:38Z', 'size': 24802, 'comment': '/* Biography */Fixed typo'}, {'user': 'The Optimistic One', 'timestamp': '2022-11-18T14:52:32Z', 'size': 24802, 'comment': 'Moved source'}, {'user': 'Chaheel Riens', 'timestamp': '2022-12-24T17:53:56Z', 'size': 24873, 'comment': '/* Season 1 */ is this a euphemism for sex, or a euphemism for talking?'}, {'minor': '', 'user': 'AnomieBOT', 'timestamp': '2022-12-24T18:14:03Z', 'size': 24892, 'comment': 'Dating maintenance tags: {{Clarify}}'}]\n",
      "--------------------------------------------------------\n",
      "Revisions data for Tig_Trager:\n",
      "[{'user': '2601:447:C980:3D70:0:0:0:6260', 'anon': '', 'timestamp': '2022-05-05T17:58:11Z', 'size': 32164, 'comment': '/* Biography */'}, {'user': 'The Optimistic One', 'timestamp': '2022-05-05T23:38:19Z', 'size': 32139, 'comment': 'He will appear in Mayans'}, {'minor': '', 'user': 'Vkt183', 'timestamp': '2022-05-17T01:30:41Z', 'size': 32140, 'comment': '/* Season 2 */'}, {'user': 'DocWatson42', 'timestamp': '2022-05-25T05:17:29Z', 'size': 32223, 'comment': 'Adding local [[Wikipedia:Short description|short description]]: \"Fictional character in the television series Sons of Anarchy\", overriding Wikidata description \"fictional character in the FX television series Sons of Anarchy\" ([[Wikipedia:Shortdesc helper|Shortdesc helper]])'}, {'minor': '', 'user': 'DocWatson42', 'timestamp': '2022-05-25T05:19:19Z', 'size': 32234, 'comment': '/* top */ Performed minor cleanup.'}, {'user': '2601:545:4403:8340:9078:5175:E360:938B', 'anon': '', 'timestamp': '2022-06-21T22:52:10Z', 'size': 32238, 'comment': '/* Mayans M.C. */'}, {'minor': '', 'user': 'JJMC89 bot III', 'timestamp': '2022-06-29T03:49:16Z', 'size': 32208, 'comment': 'Removing [[:Category:Fictional bikers]] per [[Wikipedia:Categories for discussion/Log/2022 May 20#Category:Fictional bikers]]'}, {'user': 'The Optimistic One', 'timestamp': '2022-09-10T17:50:01Z', 'size': 32257, 'comment': 'Added series'}, {'user': 'The Optimistic One', 'timestamp': '2022-09-10T17:51:26Z', 'size': 32288, 'comment': ''}, {'user': 'The Optimistic One', 'timestamp': '2022-10-11T10:50:44Z', 'size': 32342, 'comment': '/* Season 4 */'}, {'user': 'Piotrus', 'timestamp': '2022-11-10T14:27:03Z', 'size': 32364, 'comment': '{{notability|fiction}}'}, {'user': 'Piotrus', 'timestamp': '2022-11-10T14:27:14Z', 'size': 33048, 'comment': 'Proposing article for deletion per [[WP:PROD]].'}, {'minor': '', 'user': 'AnomieBOT', 'timestamp': '2022-11-10T14:47:25Z', 'size': 33067, 'comment': 'Dating maintenance tags: {{Notability}}'}, {'user': 'The Optimistic One', 'timestamp': '2022-11-10T16:57:14Z', 'size': 32383, 'comment': 'I’ve merged the necessary info from this article and expand Tigs section in the article for all characters. This should be redirected instead of deleted, which is something I can’t do since I’m editing on my phone'}, {'user': 'Piotrus', 'timestamp': '2022-11-11T02:45:52Z', 'size': 75, 'comment': 'redirecting per previous edit summary'}]\n",
      "--------------------------------------------------------\n",
      "Revisions data for Opie_Winston:\n",
      "[{'user': '23.118.121.147', 'anon': '', 'timestamp': '2022-03-17T14:45:30Z', 'size': 10512, 'comment': '/* Season 1 */'}, {'minor': '', 'user': 'JJMC89 bot III', 'timestamp': '2022-06-29T03:49:26Z', 'size': 10482, 'comment': 'Removing [[:Category:Fictional bikers]] per [[Wikipedia:Categories for discussion/Log/2022 May 20#Category:Fictional bikers]]'}, {'user': 'The Optimistic One', 'timestamp': '2022-10-11T10:47:57Z', 'size': 10451, 'comment': '/* Season 4 */'}, {'user': 'The Optimistic One', 'timestamp': '2022-11-18T15:01:26Z', 'size': 10450, 'comment': ''}, {'user': 'The Optimistic One', 'timestamp': '2022-11-18T15:02:48Z', 'size': 10858, 'comment': '/* Development and reception */Added important content'}, {'user': 'The Optimistic One', 'timestamp': '2022-11-18T15:03:49Z', 'size': 10862, 'comment': '/* Development and reception */'}, {'user': 'The Optimistic One', 'timestamp': '2022-11-18T15:05:14Z', 'size': 11138, 'comment': '/* Development and reception */Added source'}, {'user': 'The Optimistic One', 'timestamp': '2022-11-18T15:07:08Z', 'size': 11153, 'comment': '/* Development and reception */Rephrased'}]\n",
      "--------------------------------------------------------\n"
     ]
    }
   ],
   "source": [
    "articles = [\"Sons_of_Anarchy\", \"Jax_Teller\", \"Gemma_Teller_Morrow\", \"Tig_Trager\", \"Opie_Winston\"]\n",
    "\n",
    "for article in articles:\n",
    "    # set the title of the article in the API request\n",
    "    params[\"titles\"] = article\n",
    "\n",
    "    # make the API request and retrieve the revisions data\n",
    "    response = requests.get(url=url, params=params)\n",
    "    data = json.loads(response.text)\n",
    "    pages = data['query']['pages']\n",
    "    pageid = list(pages.keys())[0]\n",
    "    revisions = pages[pageid]['revisions']\n",
    "\n",
    "    # print the revision data\n",
    "    print(f\"Revisions data for {article}:\")\n",
    "    print(revisions)\n",
    "    print(\"--------------------------------------------------------\")"
   ]
  },
  {
   "cell_type": "code",
   "execution_count": 20,
   "id": "19cfde8a",
   "metadata": {},
   "outputs": [
    {
     "name": "stdout",
     "output_type": "stream",
     "text": [
      "Proportion of anon edits: 39.06%\n",
      "Proportion of minor edits: 0.00%\n"
     ]
    }
   ],
   "source": [
    "articles = [\"Sons_of_Anarchy\", \"Jax_Teller\", \"Gemma_Teller_Morrow\", \"Tig_Trager\", \"Opie_Winston\"]\n",
    "\n",
    "# initialize counters\n",
    "total_edits = 0\n",
    "anon_edits = 0\n",
    "minor_edits = 0\n",
    "\n",
    "for article in articles:\n",
    "    # set the title of the article in the API request\n",
    "    params[\"titles\"] = article\n",
    "\n",
    "    # make the API request and retrieve the revisions data\n",
    "    response = requests.get(url=url, params=params)\n",
    "    data = json.loads(response.text)\n",
    "    pages = data['query']['pages']\n",
    "    pageid = list(pages.keys())[0]\n",
    "    revisions = pages[pageid]['revisions']\n",
    "\n",
    "    # count the revisions\n",
    "    for rev in revisions:\n",
    "        total_edits += 1\n",
    "        if 'anon' in rev:\n",
    "            anon_edits += 1\n",
    "        if 'minor' in rev.get('flags', []):\n",
    "            minor_edits += 1\n",
    "\n",
    "# calculate proportions\n",
    "prop_anon = anon_edits / total_edits\n",
    "prop_minor = minor_edits / total_edits\n",
    "\n",
    "# print the results\n",
    "print(f\"Proportion of anon edits: {prop_anon:.2%}\")\n",
    "print(f\"Proportion of minor edits: {prop_minor:.2%}\")\n"
   ]
  },
  {
   "cell_type": "markdown",
   "id": "fb8adc38",
   "metadata": {},
   "source": [
    "# initialize a dictionary to store the revision data\n",
    "total_edits = {}\n",
    "\n",
    "# make the API request and retrieve the revisions data\n",
    "response = requests.get(url=url, params=params)\n",
    "data = json.loads(response.text)\n",
    "pages = data['query']['pages']\n",
    "\n",
    "# loop through the pages and revisions, counting the total number of revisions for each date\n",
    "for page in pages.values():\n",
    "    revisions = page['revisions']\n",
    "    for rev in revisions:\n",
    "        rev_date = rev['timestamp'][:10]\n",
    "        if rev_date in total_edits:\n",
    "            total_edits[rev_date] += 1\n",
    "        else:\n",
    "            total_edits[rev_date] = 1\n",
    "\n",
    "# write the revision data to a TSV file\n",
    "with open(\"edits.tsv\", \"w\") as tsv_file:\n",
    "    # write the header row\n",
    "    tsv_file.write(\"date\\ttotal_edits\\n\")\n",
    "    # loop through the total_edits dictionary and write each date and count to the file\n",
    "    for date, count in total_edits.items():\n",
    "        tsv_file.write(f\"{date}\\t{count}\\n\")"
   ]
  },
  {
   "cell_type": "markdown",
   "id": "82339bd5",
   "metadata": {},
   "source": [
    "# https://docs.google.com/spreadsheets/d/1GReDva_1zNND__txCpMB0IWe54gzB8D7vlrYR8eodqI/edit?usp=sharing"
   ]
  },
  {
   "cell_type": "markdown",
   "id": "bcce5144",
   "metadata": {},
   "source": [
    "Now working with Fandom"
   ]
  },
  {
   "cell_type": "code",
   "execution_count": 35,
   "id": "40768260",
   "metadata": {},
   "outputs": [],
   "source": [
    "import requests\n",
    "import json\n",
    "import csv\n",
    "\n",
    "url = \"https://sonsofanarchy.fandom.com/api.php\"\n",
    "params = {\n",
    "    \"action\": \"query\",\n",
    "    \"format\": \"json\",\n",
    "    \"prop\": \"revisions\",\n",
    "    \"rvprop\": \"timestamp|user|comment|flags|size\",\n",
    "    \"rvdir\": \"newer\",\n",
    "    \"rvstart\": \"2022-01-01T00:00:00Z\",\n",
    "    \"rvend\": \"2022-12-31T23:59:59Z\",\n",
    "    \"rvlimit\": \"max\"\n",
    "}\n",
    "\n"
   ]
  },
  {
   "cell_type": "code",
   "execution_count": 38,
   "id": "dfb8f61f",
   "metadata": {},
   "outputs": [
    {
     "name": "stdout",
     "output_type": "stream",
     "text": [
      "Revisions data for Sons_of_Anarchy:\n",
      "[{'user': '23.118.121.147', 'anon': '', 'timestamp': '2022-03-17T14:45:30Z', 'size': 10512, 'comment': '/* Season 1 */'}, {'minor': '', 'user': 'JJMC89 bot III', 'timestamp': '2022-06-29T03:49:26Z', 'size': 10482, 'comment': 'Removing [[:Category:Fictional bikers]] per [[Wikipedia:Categories for discussion/Log/2022 May 20#Category:Fictional bikers]]'}, {'user': 'The Optimistic One', 'timestamp': '2022-10-11T10:47:57Z', 'size': 10451, 'comment': '/* Season 4 */'}, {'user': 'The Optimistic One', 'timestamp': '2022-11-18T15:01:26Z', 'size': 10450, 'comment': ''}, {'user': 'The Optimistic One', 'timestamp': '2022-11-18T15:02:48Z', 'size': 10858, 'comment': '/* Development and reception */Added important content'}, {'user': 'The Optimistic One', 'timestamp': '2022-11-18T15:03:49Z', 'size': 10862, 'comment': '/* Development and reception */'}, {'user': 'The Optimistic One', 'timestamp': '2022-11-18T15:05:14Z', 'size': 11138, 'comment': '/* Development and reception */Added source'}, {'user': 'The Optimistic One', 'timestamp': '2022-11-18T15:07:08Z', 'size': 11153, 'comment': '/* Development and reception */Rephrased'}]\n",
      "--------------------------------------------------------\n"
     ]
    }
   ],
   "source": [
    "articles = [\"Sons_of_Anarchy\"]\n",
    "\n",
    "for article in articles:\n",
    "    # set the title of the article in the API request\n",
    "    params[\"titles\"] = article\n",
    "\n",
    "    # print the revision data\n",
    "    print(f\"Revisions data for {article}:\")\n",
    "    print(revisions)\n",
    "    print(\"--------------------------------------------------------\")\n",
    "\n",
    "\n"
   ]
  },
  {
   "cell_type": "code",
   "execution_count": 40,
   "id": "443c4722",
   "metadata": {},
   "outputs": [
    {
     "name": "stdout",
     "output_type": "stream",
     "text": [
      "Proportion of anon edits: 12.50%\n",
      "Proportion of minor edits: 0.00%\n"
     ]
    }
   ],
   "source": [
    "articles = [\"Sons_of_Anarchy\"]\n",
    "\n",
    "# initialize counters\n",
    "total_edits = 0\n",
    "anon_edits = 0\n",
    "minor_edits = 0\n",
    "\n",
    "for article in articles:\n",
    "    # set the title of the article in the API request\n",
    "    params[\"titles\"] = article\n",
    "\n",
    "    # count the revisions\n",
    "    for rev in revisions:\n",
    "        total_edits += 1\n",
    "        if 'anon' in rev:\n",
    "            anon_edits += 1\n",
    "        if 'minor' in rev.get('flags', []):\n",
    "            minor_edits += 1\n",
    "\n",
    "# calculate proportions\n",
    "prop_anon = anon_edits / total_edits\n",
    "prop_minor = minor_edits / total_edits\n",
    "\n",
    "# print the results\n",
    "print(f\"Proportion of anon edits: {prop_anon:.2%}\")\n",
    "print(f\"Proportion of minor edits: {prop_minor:.2%}\")"
   ]
  },
  {
   "cell_type": "code",
   "execution_count": null,
   "id": "8cecd2a4",
   "metadata": {},
   "outputs": [],
   "source": []
  }
 ],
 "metadata": {
  "kernelspec": {
   "display_name": "Python 3 (ipykernel)",
   "language": "python",
   "name": "python3"
  },
  "language_info": {
   "codemirror_mode": {
    "name": "ipython",
    "version": 3
   },
   "file_extension": ".py",
   "mimetype": "text/x-python",
   "name": "python",
   "nbconvert_exporter": "python",
   "pygments_lexer": "ipython3",
   "version": "3.10.9"
  }
 },
 "nbformat": 4,
 "nbformat_minor": 5
}
