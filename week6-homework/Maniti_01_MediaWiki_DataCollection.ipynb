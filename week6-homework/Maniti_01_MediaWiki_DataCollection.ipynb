{
 "cells": [
  {
   "cell_type": "code",
   "execution_count": 2,
   "id": "5309aa05",
   "metadata": {},
   "outputs": [],
   "source": [
    "import requests\n",
    "import json"
   ]
  },
  {
   "cell_type": "markdown",
   "id": "a783e7cf",
   "metadata": {},
   "source": [
    "### Let's make a function that can get us the revisions from Wikipedia"
   ]
  },
  {
   "cell_type": "code",
   "execution_count": 3,
   "id": "03843c7b",
   "metadata": {},
   "outputs": [],
   "source": [
    "def get_page_revisions_wikipedia(title):\n",
    "    WikiApiData = []\n",
    "\n",
    "    WikiApiUrl = \"http://en.wikipedia.org/w/api.php/\"\n",
    "\n",
    "    parameters = {'action': \"query\",\n",
    "                  'titles' : title,\n",
    "                  'prop'   : 'revisions',\n",
    "                  'rvprop' : 'flags|timestamp|user|size|ids',\n",
    "                  'rvlimit': 500,\n",
    "                  'format' : 'json'}\n",
    "\n",
    "    while True :\n",
    "    \n",
    "        call = requests.get(WikiApiUrl, params=parameters)\n",
    "        api_answer = call.json()\n",
    "\n",
    "        WikiApiData.append(api_answer)\n",
    "        \n",
    "        if 'continue' in api_answer.keys() :\n",
    "            print(\"I am going ahead\")\n",
    "            parameters.update(api_answer['continue'])\n",
    "        else:\n",
    "            break\n",
    "            \n",
    "    return(WikiApiData)"
   ]
  },
  {
   "cell_type": "markdown",
   "id": "6a7fe658",
   "metadata": {},
   "source": [
    "### Getting Data from Twilight and related pages from Wikipedia "
   ]
  },
  {
   "cell_type": "code",
   "execution_count": 4,
   "id": "177ea312",
   "metadata": {},
   "outputs": [
    {
     "name": "stdout",
     "output_type": "stream",
     "text": [
      "The_Twilight_Saga_(film_series)\n",
      "I am going ahead\n",
      "I am going ahead\n",
      "I am going ahead\n",
      "I am going ahead\n",
      "I am going ahead\n",
      "I am going ahead\n",
      "I am going ahead\n",
      "I am going ahead\n",
      "Twilight_(novel_series)\n",
      "I am going ahead\n",
      "I am going ahead\n",
      "I am going ahead\n",
      "I am going ahead\n",
      "I am going ahead\n",
      "I am going ahead\n",
      "I am going ahead\n",
      "Bella_Swan\n",
      "I am going ahead\n",
      "I am going ahead\n",
      "I am going ahead\n",
      "I am going ahead\n",
      "I am going ahead\n",
      "I am going ahead\n",
      "I am going ahead\n",
      "I am going ahead\n",
      "I am going ahead\n",
      "I am going ahead\n",
      "I am going ahead\n",
      "I am going ahead\n",
      "New_Moon_(novel)\n",
      "I am going ahead\n",
      "I am going ahead\n",
      "I am going ahead\n",
      "I am going ahead\n",
      "I am going ahead\n",
      "I am going ahead\n",
      "I am going ahead\n",
      "Jacob_Black\n",
      "I am going ahead\n",
      "I am going ahead\n",
      "I am going ahead\n",
      "I am going ahead\n",
      "I am going ahead\n",
      "I am going ahead\n",
      "I am going ahead\n",
      "I am going ahead\n",
      "I am going ahead\n",
      "I am going ahead\n"
     ]
    }
   ],
   "source": [
    "#Let's do Twilight\n",
    "\n",
    "ListOfWikipediaPages = ['The_Twilight_Saga_(film_series)', 'Twilight_(novel_series)', 'Bella_Swan', 'New_Moon_(novel)', 'Jacob_Black']\n",
    "TwilightWikiData = []\n",
    "\n",
    "with open('WikiData.jsonl', 'w') as output_file:\n",
    "    for title in ListOfWikipediaPages :\n",
    "        print(title)\n",
    "        x = get_page_revisions_wikipedia(title)\n",
    "        for answer in x:\n",
    "            print(json.dumps(answer), file = output_file)"
   ]
  },
  {
   "cell_type": "markdown",
   "id": "0c977366",
   "metadata": {},
   "source": [
    "### Let's make a function that can get us the revisions from Fandom.com"
   ]
  },
  {
   "cell_type": "code",
   "execution_count": 6,
   "id": "4f28b1af",
   "metadata": {},
   "outputs": [],
   "source": [
    "def get_page_revisions_fandom(title):\n",
    "    FandomApiData = []\n",
    "\n",
    "    FandomApiUrl = \"https://twilightsaga.fandom.com/api.php\"\n",
    "\n",
    "    parameters = {'action': \"query\",\n",
    "                  'titles' : title,\n",
    "                  'prop'   : 'revisions',\n",
    "                  'rvprop' : 'flags|timestamp|user|size|ids',\n",
    "                  'rvlimit': 500,\n",
    "                  'format' : 'json'}\n",
    "\n",
    "    while True :\n",
    "    \n",
    "        call = requests.get(FandomApiUrl, params=parameters)\n",
    "        api_answer = call.json()\n",
    "\n",
    "        FandomApiData.append(api_answer)\n",
    "        \n",
    "        if 'continue' in api_answer.keys() :\n",
    "            print(\"I am going ahead\")\n",
    "            parameters.update(api_answer['continue'])\n",
    "        else:\n",
    "            break\n",
    "            \n",
    "    return(FandomApiData)\n"
   ]
  },
  {
   "cell_type": "markdown",
   "id": "38b8787c",
   "metadata": {},
   "source": [
    "### Getting Data from Twilight and related pages from Fandom.com "
   ]
  },
  {
   "cell_type": "code",
   "execution_count": 7,
   "id": "354b10ec",
   "metadata": {},
   "outputs": [
    {
     "name": "stdout",
     "output_type": "stream",
     "text": [
      "Stephenie_Meyer\n",
      "I am going ahead\n",
      "Twilight\n",
      "I am going ahead\n",
      "Bella_Swan\n",
      "I am going ahead\n",
      "I am going ahead\n",
      "I am going ahead\n",
      "I am going ahead\n",
      "I am going ahead\n",
      "I am going ahead\n",
      "I am going ahead\n",
      "Edward_Cullen\n",
      "I am going ahead\n",
      "I am going ahead\n",
      "I am going ahead\n",
      "I am going ahead\n",
      "I am going ahead\n",
      "I am going ahead\n",
      "Jacob_Black\n",
      "I am going ahead\n",
      "I am going ahead\n",
      "I am going ahead\n",
      "I am going ahead\n"
     ]
    }
   ],
   "source": [
    "#Let's do Twilight\n",
    "\n",
    "ListOfFandomPages = ['Stephenie_Meyer', 'Twilight', 'Bella_Swan', 'Edward_Cullen', 'Jacob_Black']\n",
    "TwilightFandomData = []\n",
    "\n",
    "with open('FandomData.jsonl', 'w') as output_file:\n",
    "    for title in ListOfFandomPages:\n",
    "        print(title)\n",
    "        y = get_page_revisions_fandom(title)\n",
    "        for answer in y:\n",
    "            print(json.dumps(answer), file = output_file)"
   ]
  },
  {
   "cell_type": "code",
   "execution_count": null,
   "id": "49cb93ab",
   "metadata": {},
   "outputs": [],
   "source": []
  }
 ],
 "metadata": {
  "kernelspec": {
   "display_name": "Python 3 (ipykernel)",
   "language": "python",
   "name": "python3"
  },
  "language_info": {
   "codemirror_mode": {
    "name": "ipython",
    "version": 3
   },
   "file_extension": ".py",
   "mimetype": "text/x-python",
   "name": "python",
   "nbconvert_exporter": "python",
   "pygments_lexer": "ipython3",
   "version": "3.10.9"
  }
 },
 "nbformat": 4,
 "nbformat_minor": 5
}
