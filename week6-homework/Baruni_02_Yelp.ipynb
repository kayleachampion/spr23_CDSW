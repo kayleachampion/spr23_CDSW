{
 "cells": [
  {
   "cell_type": "code",
   "execution_count": 2,
   "id": "ecb7ce2b",
   "metadata": {},
   "outputs": [
    {
     "name": "stdout",
     "output_type": "stream",
     "text": [
      "Collecting yelpapi\n",
      "  Downloading yelpapi-2.5.0-py3-none-any.whl (7.4 kB)\n",
      "Requirement already satisfied: requests in /Users/barunigoel/anaconda3/lib/python3.10/site-packages (from yelpapi) (2.28.1)\n",
      "Requirement already satisfied: certifi>=2017.4.17 in /Users/barunigoel/anaconda3/lib/python3.10/site-packages (from requests->yelpapi) (2022.12.7)\n",
      "Requirement already satisfied: charset-normalizer<3,>=2 in /Users/barunigoel/anaconda3/lib/python3.10/site-packages (from requests->yelpapi) (2.0.4)\n",
      "Requirement already satisfied: idna<4,>=2.5 in /Users/barunigoel/anaconda3/lib/python3.10/site-packages (from requests->yelpapi) (3.4)\n",
      "Requirement already satisfied: urllib3<1.27,>=1.21.1 in /Users/barunigoel/anaconda3/lib/python3.10/site-packages (from requests->yelpapi) (1.26.14)\n",
      "Installing collected packages: yelpapi\n",
      "Successfully installed yelpapi-2.5.0\n",
      "Note: you may need to restart the kernel to use updated packages.\n"
     ]
    }
   ],
   "source": [
    "%pip install yelpapi"
   ]
  },
  {
   "cell_type": "code",
   "execution_count": 21,
   "id": "3ee232bb",
   "metadata": {},
   "outputs": [],
   "source": [
    "import yelpapi\n",
    "import requests\n",
    "import json"
   ]
  },
  {
   "cell_type": "code",
   "execution_count": 13,
   "id": "b1db4d80",
   "metadata": {},
   "outputs": [],
   "source": [
    "clientid = \"redacted\"\n",
    "apikey = \"redacted\""
   ]
  },
  {
   "cell_type": "code",
   "execution_count": 18,
   "id": "f3e7a88b",
   "metadata": {},
   "outputs": [],
   "source": [
    "ENDPOINT = 'https://api.yelp.com/v3/businesses/search'\n",
    "HEADERS = {'Authorization': f\"bearer {apikey}\"}"
   ]
  },
  {
   "cell_type": "code",
   "execution_count": 22,
   "id": "09cbed03",
   "metadata": {},
   "outputs": [],
   "source": [
    "PARAMETERS = {'term': 'coffee',\n",
    "              'limit': 50,\n",
    "              'radius': 10000,\n",
    "              'location': 'Seattle'}\n",
    "\n",
    "# 4. Make a request to the Yelp API\n",
    "response = requests.get(url = ENDPOINT,\n",
    "                        params = PARAMETERS,\n",
    "                        headers = HEADERS)"
   ]
  },
  {
   "cell_type": "code",
   "execution_count": 23,
   "id": "cd9b1512",
   "metadata": {},
   "outputs": [],
   "source": [
    "coffee = response.json()"
   ]
  },
  {
   "cell_type": "code",
   "execution_count": 24,
   "id": "82aa3800",
   "metadata": {},
   "outputs": [
    {
     "name": "stdout",
     "output_type": "stream",
     "text": [
      "Anchorhead Coffee's rating is 4.5\n",
      "Storyville Coffee Company's rating is 4.5\n",
      "Victrola Coffee Roasters's rating is 4.5\n",
      "Starbucks Reserve Roastery Seattle's rating is 4.5\n",
      "Monorail Espresso's rating is 4.5\n",
      "Moore Coffee Shop's rating is 4.5\n",
      "Sugar Bakery & Coffeehouse's rating is 4.5\n",
      "203° Farenheit Coffee's rating is 4.5\n",
      "Seattle Coffee Works's rating is 4.5\n",
      "Hello Em Viet Coffee & Roastery's rating is 4.5\n",
      "Ghost Note Coffee's rating is 4.5\n",
      "Himalayan Java Coffee's rating is 4.5\n",
      "Squirrel Chops's rating is 4.5\n",
      "Coffeeholic House's rating is 4.5\n",
      "Kaladi Brothers Coffee's rating is 4.5\n",
      "Hood Famous's rating is 4.5\n",
      "Rapha - Seattle's rating is 4.5\n",
      "Top Pot Doughnuts's rating is 4.0\n",
      "Caffe Ladro's rating is 4.0\n",
      "Espresso Vivace Roasteria's rating is 4.0\n",
      "Aroom Coffee's rating is 4.5\n",
      "Cafe Cosmos's rating is 4.5\n",
      "The Brim Coffee Shop's rating is 4.0\n",
      "Caffe Vita at KEXP's rating is 4.5\n",
      "URL Coffee's rating is 5.0\n",
      "Overcast Coffee Bar's rating is 4.5\n",
      "Espresso Vivace Alley 24's rating is 4.0\n",
      "Sip House's rating is 4.5\n",
      "Milstead's rating is 4.5\n",
      "Fulcrum Café's rating is 4.0\n",
      "Sankaku Onigiri Cafe & Bar's rating is 4.5\n",
      "Atulea's rating is 4.5\n",
      "Caffe Umbria's rating is 4.5\n",
      "Hagen Coffee Roasters's rating is 4.5\n",
      "Sound & Fog's rating is 4.5\n",
      "Le Panier's rating is 4.5\n",
      "Analog Coffee's rating is 4.0\n",
      "Heard Coffee's rating is 4.0\n",
      "203ºF Coffee's rating is 4.0\n",
      "Evoke Cafe Bar's rating is 5.0\n",
      "Ghost Alley Espresso's rating is 4.5\n",
      "Armistice Coffee Roaster's rating is 4.5\n",
      "Victrola Coffee & Art's rating is 4.0\n",
      "Grumpy Bean's rating is 4.5\n",
      "Overcast Coffee Company's rating is 5.0\n",
      "Elm Coffee Roasters's rating is 4.0\n",
      "Ada's Technical Books and Cafe's rating is 4.5\n",
      "Herkimer Coffee's rating is 4.0\n",
      "General Porpoise's rating is 4.0\n",
      "Avole Ethiopian Coffee's rating is 5.0\n"
     ]
    }
   ],
   "source": [
    "for business in coffee[\"businesses\"]:\n",
    "    print(f\"{business['name']}\\'s rating is {business['rating']}\")"
   ]
  },
  {
   "cell_type": "code",
   "execution_count": 26,
   "id": "fefd772f",
   "metadata": {},
   "outputs": [],
   "source": [
    "with open(\"seattlecoffee_places.jsonl\", 'w') as my_file:\n",
    "    data_string = json.dumps(coffee)\n",
    "    print(data_string, file=my_file)"
   ]
  },
  {
   "cell_type": "code",
   "execution_count": 28,
   "id": "0085a7c5",
   "metadata": {},
   "outputs": [
    {
     "name": "stdout",
     "output_type": "stream",
     "text": [
      "{'id': 'K-X3rRAVbeMZ0VIDWuPX_Q', 'alias': 'anchorhead-coffee-seattle', 'name': 'Anchorhead Coffee', 'image_url': 'https://s3-media2.fl.yelpcdn.com/bphoto/4A3VOKxZmkGDBsv5b6spFw/o.jpg', 'is_closed': False, 'url': 'https://www.yelp.com/biz/anchorhead-coffee-seattle?adjust_creative=tb70bH-EdFO6hdUEdaZt5Q&utm_campaign=yelp_api_v3&utm_medium=api_v3_business_search&utm_source=tb70bH-EdFO6hdUEdaZt5Q', 'review_count': 736, 'categories': [{'alias': 'coffee', 'title': 'Coffee & Tea'}, {'alias': 'bakeries', 'title': 'Bakeries'}], 'rating': 4.5, 'coordinates': {'latitude': 47.6133808022766, 'longitude': -122.334691182469}, 'transactions': ['delivery'], 'price': '$$', 'location': {'address1': '1600 7th Ave', 'address2': 'Ste 105', 'address3': None, 'city': 'Seattle', 'zip_code': '98101', 'country': 'US', 'state': 'WA', 'display_address': ['1600 7th Ave', 'Ste 105', 'Seattle, WA 98101']}, 'phone': '+12062222222', 'display_phone': '(206) 222-2222', 'distance': 365.3186554767419}\n"
     ]
    }
   ],
   "source": [
    "with open(\"seattlecoffee_places.jsonl\", 'r') as input_file:\n",
    "    input_data = input_file.read()\n",
    "    new_data = json.loads(input_data)\n",
    "    print(new_data['businesses'][0])"
   ]
  },
  {
   "cell_type": "code",
   "execution_count": 29,
   "id": "8555b649",
   "metadata": {},
   "outputs": [
    {
     "name": "stdout",
     "output_type": "stream",
     "text": [
      "dict_keys(['businesses', 'total', 'region'])\n"
     ]
    }
   ],
   "source": [
    "print(new_data.keys())"
   ]
  },
  {
   "cell_type": "code",
   "execution_count": 35,
   "id": "00de6243",
   "metadata": {},
   "outputs": [],
   "source": [
    "with open('seattle_coffeeplaces_facts.tsv', 'w') as output_file:\n",
    "    print(\"Name\\tRating\\tPhone\\tAddress\\tReview_count\", file=output_file)\n",
    "    for business in new_data['businesses']:\n",
    "        print(\"\\t\".join([business['name'], str(business['rating']), business['phone'], \" \".join(business['location']['display_address']), str(business['review_count'])]), file=output_file)"
   ]
  },
  {
   "cell_type": "code",
   "execution_count": null,
   "id": "403cfce5",
   "metadata": {},
   "outputs": [],
   "source": []
  }
 ],
 "metadata": {
  "kernelspec": {
   "display_name": "Python 3 (ipykernel)",
   "language": "python",
   "name": "python3"
  },
  "language_info": {
   "codemirror_mode": {
    "name": "ipython",
    "version": 3
   },
   "file_extension": ".py",
   "mimetype": "text/x-python",
   "name": "python",
   "nbconvert_exporter": "python",
   "pygments_lexer": "ipython3",
   "version": "3.10.9"
  }
 },
 "nbformat": 4,
 "nbformat_minor": 5
}
