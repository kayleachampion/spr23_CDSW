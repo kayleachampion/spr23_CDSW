{
 "cells": [
  {
   "cell_type": "code",
   "execution_count": 41,
   "id": "3db635da",
   "metadata": {},
   "outputs": [],
   "source": [
    "import json"
   ]
  },
  {
   "cell_type": "code",
   "execution_count": 42,
   "id": "cc166db8",
   "metadata": {},
   "outputs": [],
   "source": [
    "with open ('RawCafeData.json', 'r') as input_file :\n",
    "    master = input_file.readlines()"
   ]
  },
  {
   "cell_type": "code",
   "execution_count": 47,
   "id": "859569b2",
   "metadata": {},
   "outputs": [
    {
     "data": {
      "text/plain": [
       "{'id': 'FVzl8rDPiTWEtrNEuCu-Xg',\n",
       " 'alias': 'storyville-coffee-company-seattle-9',\n",
       " 'name': 'Storyville Coffee Company',\n",
       " 'image_url': 'https://s3-media3.fl.yelpcdn.com/bphoto/TecGMknBtZNXGSey2DnFyQ/o.jpg',\n",
       " 'is_closed': False,\n",
       " 'url': 'https://www.yelp.com/biz/storyville-coffee-company-seattle-9?adjust_creative=CXf7-xLtPr5Lv1-WcG8fWw&utm_campaign=yelp_api_v3&utm_medium=api_v3_business_search&utm_source=CXf7-xLtPr5Lv1-WcG8fWw',\n",
       " 'review_count': 2186,\n",
       " 'categories': [{'alias': 'coffee', 'title': 'Coffee & Tea'},\n",
       "  {'alias': 'bakeries', 'title': 'Bakeries'}],\n",
       " 'rating': 4.5,\n",
       " 'coordinates': {'latitude': 47.60895949363687,\n",
       "  'longitude': -122.34043157053927},\n",
       " 'transactions': ['delivery', 'pickup'],\n",
       " 'price': '$$',\n",
       " 'location': {'address1': '94 Pike St',\n",
       "  'address2': 'Ste 34',\n",
       "  'address3': '',\n",
       "  'city': 'Seattle',\n",
       "  'zip_code': '98101',\n",
       "  'country': 'US',\n",
       "  'state': 'WA',\n",
       "  'display_address': ['94 Pike St', 'Ste 34', 'Seattle, WA 98101']},\n",
       " 'phone': '+12067805777',\n",
       " 'display_phone': '(206) 780-5777',\n",
       " 'distance': 981.6291569198944}"
      ]
     },
     "execution_count": 47,
     "metadata": {},
     "output_type": "execute_result"
    }
   ],
   "source": [
    "for datachunk in master:\n",
    "    data = json.loads(datachunk)\n",
    "    \n",
    "data[0]"
   ]
  },
  {
   "cell_type": "code",
   "execution_count": 53,
   "id": "99802ca2",
   "metadata": {},
   "outputs": [],
   "source": [
    "with open ('CleanCafeData.tsv', 'w') as output_file:\n",
    "    print (\"Name\\tAddress\\tPrice\\tRating\\tPhone\", file=output_file)\n",
    "    for everycafe in data:\n",
    "        if 'price' in everycafe.keys():\n",
    "            print (f\" {everycafe['name']}\\t{everycafe['location']['display_address']}\\t{everycafe['price']}\\t{everycafe['rating']}\\t{everycafe['phone']}\", file=output_file)\n",
    "        else:\n",
    "            print (f\" {everycafe['name']}\\t{everycafe['location']['display_address']}\\tnull\\t{everycafe['rating']}\\t{everycafe['phone']}\", file=output_file) "
   ]
  },
  {
   "cell_type": "code",
   "execution_count": 54,
   "id": "9a3c1c25",
   "metadata": {},
   "outputs": [
    {
     "name": "stdout",
     "output_type": "stream",
     "text": [
      "https://docs.google.com/spreadsheets/d/1Dbo2xXtnrCZYrcoEUhy0cInLT93bRi1ymdcqlMsgBSE/edit#gid=343368556\n"
     ]
    }
   ],
   "source": [
    "print (\"https://docs.google.com/spreadsheets/d/1Dbo2xXtnrCZYrcoEUhy0cInLT93bRi1ymdcqlMsgBSE/edit#gid=343368556\")"
   ]
  },
  {
   "cell_type": "code",
   "execution_count": null,
   "id": "57d80a4c",
   "metadata": {},
   "outputs": [],
   "source": []
  }
 ],
 "metadata": {
  "kernelspec": {
   "display_name": "Python 3 (ipykernel)",
   "language": "python",
   "name": "python3"
  },
  "language_info": {
   "codemirror_mode": {
    "name": "ipython",
    "version": 3
   },
   "file_extension": ".py",
   "mimetype": "text/x-python",
   "name": "python",
   "nbconvert_exporter": "python",
   "pygments_lexer": "ipython3",
   "version": "3.10.9"
  }
 },
 "nbformat": 4,
 "nbformat_minor": 5
}
