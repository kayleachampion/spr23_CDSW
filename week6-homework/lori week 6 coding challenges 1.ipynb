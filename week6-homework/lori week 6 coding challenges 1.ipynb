{
 "cells": [
  {
   "cell_type": "markdown",
   "id": "1530791d",
   "metadata": {},
   "source": [
    "#1 MediaWiki API\n",
    "Identify a movie, television, video game, or other media property that has both (a) 5 or more related articles on Wikipedia and (b) 5 or more other articles on the same topic on a Fandom.com website. Any large entertainment franchise will definitely work but feel free to get creative! For example, you might choose 5 Wikipedia articles about the anime Naruto and 5 articles (pages) from the naruto.fandom.com site. You may notice that fandom.com has a top layer with staff-produced video content, but once you dig down into a particular fandom's wiki, you'll start to see a more familiar wiki style page. For example, compare the fandom.com page about the SpongeBob pilot episode 'Help Wanted' and the Wikipedia page about the same pilot episode.\n",
    "\n",
    "First modify the code from first sets of notebooks I used in the Community Data Science Course (Spring 2023)/Week 6 lecture to download data (and metadata) about revisions to the 5 articles you chose from Wikipedia. Be ready to share:\n",
    "\n",
    "(i) what proportion of those edits were made by users without accounts (\"anon\"),\n",
    "(ii) what proportion of those edits were marked as \"minor\", and\n",
    "(iii) make and share a visualization of the total number of edits across those 5 articles over time (I didn't do this \n",
    "\n",
    "\n",
    "in class but I made the TSV file would allow this).\n",
    "Now grab data for the 5 articles you chose from the Fandom.com wiki you identified and grab revision/edit data from there. (Hint: Your wikipedia work will give you lots of clues here: for example, the fandom API endpoint for The Wire is https://thewire.fandom.com/api.php and the Fandom API, as I said in class, is the same as the Wikipedia API). Produce answers to the same three questions (i, ii, and iii) above but using this dataset.\n",
    "Finally, choose either your Wikipedia or Fandom datasets as the data source for a visualization that shows how each of those articles have grown in length (as measured in characters or \"bytes\") over time. (Hint: you'll need to return \"size\" as one of the revision properties (rvprop) if you are not doing it already.)\n",
    "\n"
   ]
  },
  {
   "cell_type": "code",
   "execution_count": 1,
   "id": "edf205e6",
   "metadata": {},
   "outputs": [],
   "source": [
    "import requests\n",
    "import json"
   ]
  },
  {
   "cell_type": "code",
   "execution_count": 10,
   "id": "602bb81b",
   "metadata": {},
   "outputs": [
    {
     "name": "stdout",
     "output_type": "stream",
     "text": [
      "Proportion of anonymous edits: 35.94%\n"
     ]
    }
   ],
   "source": [
    "#1.1\n",
    "def get_article_revision_json(title):\n",
    "    api_answers = []\n",
    "\n",
    "    wp_api_url = \"http://en.wikipedia.org/w/api.php/\"\n",
    "\n",
    "    parameters = {'action' : 'query',\n",
    "                  'titles' : title,\n",
    "                  'prop' : 'revisions',\n",
    "                  'rvprop' : 'flags|timestamp|user|size|ids',\n",
    "                  'rvlimit' : 500,\n",
    "                  'format' : 'json',\n",
    "                   }\n",
    "\n",
    "    while True:\n",
    "        call = requests.get(wp_api_url, params=parameters)\n",
    "        api_answer = call.json()\n",
    "        \n",
    "        api_answers.append(api_answer)\n",
    "\n",
    "        if 'continue' in api_answer.keys():\n",
    "            parameters.update(api_answer['continue'])\n",
    "        else:\n",
    "            break\n",
    "        \n",
    "    return(api_answers)\n",
    "\n",
    "# Wikipedia article titles\n",
    "article_titles = [\n",
    "    \"Rick and Morty\",\n",
    "    \"List of Rick and Morty episodes\",\n",
    "    \"List of Rick and Morty characters\",\n",
    "    \"The Ricklantis Mixup\",\n",
    "    \"Tales from the Citadel\"\n",
    "]\n",
    "\n",
    "# Get revisions for each article\n",
    "revisions_data = []\n",
    "for title in article_titles:\n",
    "    revisions_data.extend(get_article_revision_json(title))\n",
    "    \n",
    "\n",
    "# Calculate the proportion of anonymous edits\n",
    "total_edits = 0\n",
    "anon_edits = 0\n",
    "\n",
    "for data in revisions_data:\n",
    "    pages = data['query']['pages']\n",
    "    for page_id in pages:\n",
    "        revisions = pages[page_id]['revisions']\n",
    "        for revision in revisions:\n",
    "            total_edits += 1\n",
    "            if 'anon' in revision:\n",
    "                anon_edits += 1\n",
    "\n",
    "with open(\"revisions_data.json\", \"w\") as outfile:\n",
    "    json.dump(revisions_data, outfile)\n",
    "\n",
    "\n",
    "anon_edit_proportion = anon_edits / total_edits\n",
    "print(f\"Proportion of anonymous edits: {anon_edit_proportion:.2%}\")\n"
   ]
  },
  {
   "cell_type": "code",
   "execution_count": 12,
   "id": "fd3a159b",
   "metadata": {},
   "outputs": [
    {
     "name": "stdout",
     "output_type": "stream",
     "text": [
      "Proportion of minor edits: 17.02%\n"
     ]
    }
   ],
   "source": [
    "total_edits = 0\n",
    "minor_edits = 0\n",
    "\n",
    "for data in revisions_data:\n",
    "    pages = data['query']['pages']\n",
    "    for page_id in pages:\n",
    "        revisions = pages[page_id]['revisions']\n",
    "        for revision in revisions:\n",
    "            total_edits += 1\n",
    "            if 'minor' in revision:\n",
    "                minor_edits += 1\n",
    "\n",
    "minor_edit_proportion = minor_edits / total_edits\n",
    "print(f\"Proportion of minor edits: {minor_edit_proportion:.2%}\")"
   ]
  },
  {
   "cell_type": "code",
   "execution_count": 15,
   "id": "2bae744e",
   "metadata": {},
   "outputs": [],
   "source": [
    "with open(\"edits_over_time.tsv\", \"w\") as tsvfile:\n",
    "    tsvfile.write(\"timestamp\\ttitle\\n\")\n",
    "    for data in revisions_data:\n",
    "        pages = data['query']['pages']\n",
    "        for page_id in pages:\n",
    "            title = pages[page_id]['title']\n",
    "            revisions = pages[page_id]['revisions']\n",
    "            for revision in revisions:\n",
    "                timestamp = revision['timestamp']\n",
    "                timestamp = timestamp.replace(\"T\", \" \").replace(\"Z\", \"\")\n",
    "                tsvfile.write(f\"{timestamp}\\t{title}\\n\")"
   ]
  },
  {
   "cell_type": "code",
   "execution_count": 16,
   "id": "d4cbee87",
   "metadata": {},
   "outputs": [],
   "source": [
    "#https://docs.google.com/spreadsheets/d/1ERXWFttbGKxzZpSbpG5refz0d-WYTYc-TEi26-_bcBo/edit?usp=sharing"
   ]
  },
  {
   "cell_type": "code",
   "execution_count": 24,
   "id": "74918aaa",
   "metadata": {},
   "outputs": [],
   "source": [
    "#1.2\n",
    "def get_f_article_revision_json(title, fandom_url):\n",
    "    api_answers = []\n",
    "\n",
    "    wp_api_url = f\"{fandom_url}/api.php\"\n",
    "\n",
    "    parameters = {'action' : 'query',\n",
    "                  'titles' : title,\n",
    "                  'prop' : 'revisions',\n",
    "                  'rvprop' : 'flags|timestamp|user|size|ids',\n",
    "                  'rvlimit' : 500,\n",
    "                  'format' : 'json',\n",
    "                   }\n",
    "\n",
    "    while True:\n",
    "        call = requests.get(wp_api_url, params=parameters)\n",
    "        api_answer = call.json()\n",
    "        \n",
    "        api_answers.append(api_answer)\n",
    "\n",
    "        if 'continue' in api_answer.keys():\n",
    "            parameters.update(api_answer['continue'])\n",
    "        else:\n",
    "            break\n",
    "        \n",
    "    return(api_answers)\n",
    "\n",
    "fandom_url = \"https://rickandmorty.fandom.com\"\n",
    "\n",
    "fandom_article_titles = [\n",
    "    \"Rick_and_Morty_(comic_series)\",\n",
    "    \"A_Rick_in_King_Mortur's_Mort\",\n",
    "    \"Rick_Sanchez_(C-132)\",\n",
    "    \"Morty_Smith_(C-132)\",\n",
    "    \"Clackspire_Labyrinth\"\n",
    "]\n",
    "\n",
    "fandom_revisions_data = []\n",
    "for title in fandom_article_titles:\n",
    "    fandom_revisions_data.extend(get_f_article_revision_json(title, fandom_url))\n",
    "\n",
    "# Save Fandom revisions data to a JSON file\n",
    "with open(\"fandom_revisions_data.json\", \"w\") as outfile:\n",
    "    json.dump(fandom_revisions_data, outfile)\n"
   ]
  },
  {
   "cell_type": "code",
   "execution_count": 44,
   "id": "c42dd4d6",
   "metadata": {},
   "outputs": [
    {
     "name": "stdout",
     "output_type": "stream",
     "text": [
      "Proportion of anon edits in Fandom.com wiki: 0.00%\n",
      "Proportion of minor edits in Fandom.com wiki: 14.47%\n"
     ]
    }
   ],
   "source": [
    "# Calculate the proportion of anon edits and minor edits in the Fandom.com wiki\n",
    "total_fandom_edits = 0\n",
    "anon_fandom_edits = 0\n",
    "minor_fandom_edits = 0\n",
    "\n",
    "for data in fandom_revisions_data:\n",
    "    pages = data['query']['pages']\n",
    "    for page_id in pages:\n",
    "        revisions = pages[page_id]['revisions']\n",
    "        for revision in revisions:\n",
    "            total_fandom_edits += 1\n",
    "            if 'anon' in revision:\n",
    "                anon_fandom_edits += 1\n",
    "            if 'minor' in revision:\n",
    "                minor_fandom_edits += 1\n",
    "\n",
    "anon_fandom_edit_proportion = anon_fandom_edits / total_fandom_edits\n",
    "minor_fandom_edit_proportion = minor_fandom_edits / total_fandom_edits\n",
    "\n",
    "print(f\"Proportion of anon edits in Fandom.com wiki: {anon_fandom_edit_proportion:.2%}\")\n",
    "print(f\"Proportion of minor edits in Fandom.com wiki: {minor_fandom_edit_proportion:.2%}\")\n"
   ]
  },
  {
   "cell_type": "code",
   "execution_count": 47,
   "id": "d9b6cb27",
   "metadata": {},
   "outputs": [
    {
     "name": "stdout",
     "output_type": "stream",
     "text": [
      "Rick and Morty (comic series): 1\n",
      "A Rick in King Mortur's Mort: 44\n",
      "Rick Sanchez (C-132): 60\n",
      "Morty Smith (C-132): 34\n",
      "Clackspire Labyrinth: 13\n"
     ]
    }
   ],
   "source": [
    "# Create a TSV file with timestamp, title, and count of each Fandom.com wiki edit\n",
    "title_counts = {}\n",
    "\n",
    "# Count edits for each title\n",
    "for data in fandom_revisions_data:\n",
    "    pages = data['query']['pages']\n",
    "    for page_id in pages:\n",
    "        title = pages[page_id]['title']\n",
    "        revisions = pages[page_id]['revisions']\n",
    "        for revision in revisions:\n",
    "            if title in title_counts:\n",
    "                title_counts[title] += 1\n",
    "            else:\n",
    "                title_counts[title] = 1\n",
    "\n",
    "with open(\"fandom_edits_over_time.tsv\", \"w\") as myfile:\n",
    "    myfile.write(\"timestamp\\ttitle\\tcount\\n\")\n",
    "    for data in fandom_revisions_data:\n",
    "        pages = data['query']['pages']\n",
    "        for page_id in pages:\n",
    "            title = pages[page_id]['title']\n",
    "            revisions = pages[page_id]['revisions']\n",
    "            for revision in revisions:\n",
    "                timestamp = revision['timestamp']\n",
    "                timestamp = timestamp.replace(\"T\", \" \").replace(\"Z\", \"\")\n",
    "                myfile.write(f\"{timestamp}\\t{title}\\t{title_counts[title]}\\n\")\n",
    "\n",
    "\n",
    "for title, count in title_counts.items():\n",
    "    print(f\"{title}: {count}\")\n"
   ]
  },
  {
   "cell_type": "code",
   "execution_count": 48,
   "id": "aa2b02d9",
   "metadata": {},
   "outputs": [],
   "source": [
    "#https://docs.google.com/spreadsheets/d/1msaDIZqGzwKdqpQdwIThL5y1oiEMfJ4ZpMWmhfVWeWA/edit?usp=sharing\n"
   ]
  },
  {
   "cell_type": "code",
   "execution_count": null,
   "id": "e4b04730",
   "metadata": {},
   "outputs": [],
   "source": []
  }
 ],
 "metadata": {
  "kernelspec": {
   "display_name": "Python 3 (ipykernel)",
   "language": "python",
   "name": "python3"
  },
  "language_info": {
   "codemirror_mode": {
    "name": "ipython",
    "version": 3
   },
   "file_extension": ".py",
   "mimetype": "text/x-python",
   "name": "python",
   "nbconvert_exporter": "python",
   "pygments_lexer": "ipython3",
   "version": "3.10.9"
  }
 },
 "nbformat": 4,
 "nbformat_minor": 5
}
