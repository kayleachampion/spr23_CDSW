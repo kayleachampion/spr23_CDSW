{
 "cells": [
  {
   "cell_type": "code",
   "execution_count": 4,
   "id": "50278769",
   "metadata": {},
   "outputs": [
    {
     "name": "stdout",
     "output_type": "stream",
     "text": [
      "Requirement already satisfied: yelpapi in ./opt/anaconda3/lib/python3.9/site-packages (2.5.0)\r\n",
      "Requirement already satisfied: requests in ./opt/anaconda3/lib/python3.9/site-packages (from yelpapi) (2.28.1)\r\n",
      "Requirement already satisfied: certifi>=2017.4.17 in ./opt/anaconda3/lib/python3.9/site-packages (from requests->yelpapi) (2022.9.24)\r\n",
      "Requirement already satisfied: charset-normalizer<3,>=2 in ./opt/anaconda3/lib/python3.9/site-packages (from requests->yelpapi) (2.0.4)\r\n",
      "Requirement already satisfied: urllib3<1.27,>=1.21.1 in ./opt/anaconda3/lib/python3.9/site-packages (from requests->yelpapi) (1.26.11)\r\n",
      "Requirement already satisfied: idna<4,>=2.5 in ./opt/anaconda3/lib/python3.9/site-packages (from requests->yelpapi) (3.3)\r\n"
     ]
    }
   ],
   "source": [
    "!pip install yelpapi"
   ]
  },
  {
   "cell_type": "code",
   "execution_count": 5,
   "id": "f592fb62",
   "metadata": {},
   "outputs": [
    {
     "ename": "ModuleNotFoundError",
     "evalue": "No module named 'yelpapi'",
     "output_type": "error",
     "traceback": [
      "\u001b[0;31m---------------------------------------------------------------------------\u001b[0m",
      "\u001b[0;31mModuleNotFoundError\u001b[0m                       Traceback (most recent call last)",
      "Cell \u001b[0;32mIn[5], line 6\u001b[0m\n\u001b[1;32m      1\u001b[0m \u001b[38;5;66;03m# in this case, we only need to import one things from the yelp api package\u001b[39;00m\n\u001b[1;32m      2\u001b[0m \u001b[38;5;66;03m# if you have not installed it, remember you need to do so with %run pip install yelpapi\u001b[39;00m\n\u001b[1;32m      3\u001b[0m \u001b[38;5;66;03m# details on the API package are online here: \u001b[39;00m\n\u001b[1;32m      4\u001b[0m \u001b[38;5;66;03m#   1: https://github.com/lanl/yelpapi\u001b[39;00m\n\u001b[1;32m      5\u001b[0m \u001b[38;5;66;03m#   2: https://pypi.org/project/yelpapi/\u001b[39;00m\n\u001b[0;32m----> 6\u001b[0m \u001b[38;5;28;01mfrom\u001b[39;00m \u001b[38;5;21;01myelpapi\u001b[39;00m \u001b[38;5;28;01mimport\u001b[39;00m YelpAPI\n",
      "\u001b[0;31mModuleNotFoundError\u001b[0m: No module named 'yelpapi'"
     ]
    }
   ],
   "source": [
    "# in this case, we only need to import one things from the yelp api package\n",
    "# if you have not installed it, remember you need to do so with %run pip install yelpapi\n",
    "# details on the API package are online here: \n",
    "#   1: https://github.com/lanl/yelpapi\n",
    "#   2: https://pypi.org/project/yelpapi/\n",
    "from yelpapi import YelpAPI"
   ]
  },
  {
   "cell_type": "code",
   "execution_count": 6,
   "id": "e05cc021",
   "metadata": {},
   "outputs": [
    {
     "ename": "ModuleNotFoundError",
     "evalue": "No module named 'yelp_authentication'",
     "output_type": "error",
     "traceback": [
      "\u001b[0;31m---------------------------------------------------------------------------\u001b[0m",
      "\u001b[0;31mModuleNotFoundError\u001b[0m                       Traceback (most recent call last)",
      "Cell \u001b[0;32mIn[6], line 2\u001b[0m\n\u001b[1;32m      1\u001b[0m \u001b[38;5;66;03m# now we need to import the APIKEY\u001b[39;00m\n\u001b[0;32m----> 2\u001b[0m \u001b[38;5;28;01mfrom\u001b[39;00m \u001b[38;5;21;01myelp_authentication\u001b[39;00m \u001b[38;5;28;01mimport\u001b[39;00m APIKEY\n",
      "\u001b[0;31mModuleNotFoundError\u001b[0m: No module named 'yelp_authentication'"
     ]
    }
   ],
   "source": [
    "# now we need to import the APIKEY\n",
    "from yelp_authentication import APIKEY"
   ]
  },
  {
   "cell_type": "code",
   "execution_count": 7,
   "id": "e19ae8d0",
   "metadata": {},
   "outputs": [
    {
     "ename": "NameError",
     "evalue": "name 'YelpAPI' is not defined",
     "output_type": "error",
     "traceback": [
      "\u001b[0;31m---------------------------------------------------------------------------\u001b[0m",
      "\u001b[0;31mNameError\u001b[0m                                 Traceback (most recent call last)",
      "Cell \u001b[0;32mIn[7], line 2\u001b[0m\n\u001b[1;32m      1\u001b[0m \u001b[38;5;66;03m# this is same the code as before, but just converted to python arguments!\u001b[39;00m\n\u001b[0;32m----> 2\u001b[0m \u001b[38;5;28;01mwith\u001b[39;00m \u001b[43mYelpAPI\u001b[49m(APIKEY, timeout_s\u001b[38;5;241m=\u001b[39m\u001b[38;5;241m3\u001b[39m) \u001b[38;5;28;01mas\u001b[39;00m yelp_api:\n\u001b[1;32m      3\u001b[0m     search_results \u001b[38;5;241m=\u001b[39m yelp_api\u001b[38;5;241m.\u001b[39msearch_query(term\u001b[38;5;241m=\u001b[39m\u001b[38;5;124m'\u001b[39m\u001b[38;5;124mpasta\u001b[39m\u001b[38;5;124m'\u001b[39m, limit\u001b[38;5;241m=\u001b[39m\u001b[38;5;241m50\u001b[39m, radius\u001b[38;5;241m=\u001b[39m\u001b[38;5;241m10000\u001b[39m, location \u001b[38;5;241m=\u001b[39m \u001b[38;5;124m'\u001b[39m\u001b[38;5;124mSeattle\u001b[39m\u001b[38;5;124m'\u001b[39m)\n",
      "\u001b[0;31mNameError\u001b[0m: name 'YelpAPI' is not defined"
     ]
    }
   ],
   "source": [
    "# this is same the code as before, but just converted to python arguments!\n",
    "with YelpAPI(APIKEY, timeout_s=3) as yelp_api:\n",
    "    search_results = yelp_api.search_query(term='pasta', limit=50, radius=10000, location = 'Seattle')"
   ]
  },
  {
   "cell_type": "code",
   "execution_count": 8,
   "id": "a14d4621",
   "metadata": {},
   "outputs": [
    {
     "ename": "NameError",
     "evalue": "name 'search_results' is not defined",
     "output_type": "error",
     "traceback": [
      "\u001b[0;31m---------------------------------------------------------------------------\u001b[0m",
      "\u001b[0;31mNameError\u001b[0m                                 Traceback (most recent call last)",
      "Cell \u001b[0;32mIn[8], line 4\u001b[0m\n\u001b[1;32m      1\u001b[0m \u001b[38;5;28;01mimport\u001b[39;00m \u001b[38;5;21;01mjson\u001b[39;00m\n\u001b[1;32m      3\u001b[0m \u001b[38;5;28;01mwith\u001b[39;00m \u001b[38;5;28mopen\u001b[39m(\u001b[38;5;124m\"\u001b[39m\u001b[38;5;124mpasta in Seattle.jsonl\u001b[39m\u001b[38;5;124m\"\u001b[39m, \u001b[38;5;124m\"\u001b[39m\u001b[38;5;124mw\u001b[39m\u001b[38;5;124m\"\u001b[39m) \u001b[38;5;28;01mas\u001b[39;00m out:\n\u001b[0;32m----> 4\u001b[0m     \u001b[38;5;28;01mfor\u001b[39;00m business \u001b[38;5;129;01min\u001b[39;00m \u001b[43msearch_results\u001b[49m[\u001b[38;5;124m\"\u001b[39m\u001b[38;5;124mbusinesses\u001b[39m\u001b[38;5;124m\"\u001b[39m]:\n\u001b[1;32m      5\u001b[0m         out\u001b[38;5;241m.\u001b[39mwrite(json\u001b[38;5;241m.\u001b[39mdumps(business) \u001b[38;5;241m+\u001b[39m \u001b[38;5;124m\"\u001b[39m\u001b[38;5;130;01m\\n\u001b[39;00m\u001b[38;5;124m\"\u001b[39m)\n",
      "\u001b[0;31mNameError\u001b[0m: name 'search_results' is not defined"
     ]
    }
   ],
   "source": [
    "import json\n",
    "\n",
    "with open(\"pasta in Seattle.jsonl\", \"w\") as out:\n",
    "    for business in search_results[\"businesses\"]:\n",
    "        out.write(json.dumps(business) + \"\\n\")"
   ]
  },
  {
   "cell_type": "code",
   "execution_count": 9,
   "id": "c00d56b9",
   "metadata": {},
   "outputs": [
    {
     "ename": "NameError",
     "evalue": "name 'yelp_api' is not defined",
     "output_type": "error",
     "traceback": [
      "\u001b[0;31m---------------------------------------------------------------------------\u001b[0m",
      "\u001b[0;31mNameError\u001b[0m                                 Traceback (most recent call last)",
      "Cell \u001b[0;32mIn[9], line 1\u001b[0m\n\u001b[0;32m----> 1\u001b[0m \u001b[43myelp_api\u001b[49m\u001b[38;5;241m.\u001b[39mclose()\n",
      "\u001b[0;31mNameError\u001b[0m: name 'yelp_api' is not defined"
     ]
    }
   ],
   "source": [
    "yelp_api.close()"
   ]
  },
  {
   "cell_type": "code",
   "execution_count": null,
   "id": "cca0d3d6",
   "metadata": {},
   "outputs": [],
   "source": []
  }
 ],
 "metadata": {
  "kernelspec": {
   "display_name": "Python 3 (ipykernel)",
   "language": "python",
   "name": "python3"
  },
  "language_info": {
   "codemirror_mode": {
    "name": "ipython",
    "version": 3
   },
   "file_extension": ".py",
   "mimetype": "text/x-python",
   "name": "python",
   "nbconvert_exporter": "python",
   "pygments_lexer": "ipython3",
   "version": "3.10.9"
  }
 },
 "nbformat": 4,
 "nbformat_minor": 5
}
