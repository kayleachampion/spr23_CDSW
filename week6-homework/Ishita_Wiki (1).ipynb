{
 "cells": [
  {
   "cell_type": "markdown",
   "id": "e74aa882",
   "metadata": {},
   "source": [
    "# 1.1"
   ]
  },
  {
   "cell_type": "code",
   "execution_count": 1,
   "id": "cc7c7b00",
   "metadata": {},
   "outputs": [],
   "source": [
    "import requests\n",
    "import json\n",
    "import time "
   ]
  },
  {
   "cell_type": "code",
   "execution_count": 2,
   "id": "fecb4bc1",
   "metadata": {},
   "outputs": [],
   "source": [
    "def get_article_revision_json(title):\n",
    "    api_answers = []\n",
    "    \n",
    "    wp_api_url = \"http://en.wikipedia.org/w/api.php/\" \n",
    "    \n",
    "    parameters = {'action' : 'query',\n",
    "                  'titles' : title,\n",
    "                  'prop' : 'revisions',\n",
    "                  'rvprop' : 'flags|timestamp|user|size|ids',\n",
    "                  'rvlimit' : 500,\n",
    "                  'format' : 'json'\n",
    "                   }\n",
    "    \n",
    "    while True: \n",
    "        \n",
    "        call = requests.get(wp_api_url, params=parameters)\n",
    "        api_answer = call.json()\n",
    "        \n",
    "        api_answers.append(api_answer)\n",
    "        \n",
    "        if 'continue' in api_answer.keys():\n",
    "            parameters.update(api_answer['continue'])\n",
    "        else:\n",
    "            break\n",
    "\n",
    "    return(api_answers)"
   ]
  },
  {
   "cell_type": "code",
   "execution_count": 10,
   "id": "6740c0c4",
   "metadata": {},
   "outputs": [
    {
     "name": "stdout",
     "output_type": "stream",
     "text": [
      "titanic\n"
     ]
    }
   ],
   "source": [
    "wiki_titanic = [\"titanic\"]\n",
    "with open(\"titanic.jsonl\", 'w') as output_file:\n",
    "    \n",
    "    for title in wiki_titanic:\n",
    "        print (title)\n",
    "        x = get_article_revision_json(title)\n",
    "        for answer in x:\n",
    "            print (json.dumps(answer), file = output_file)\n",
    "       "
   ]
  },
  {
   "cell_type": "code",
   "execution_count": 17,
   "id": "08ca8872",
   "metadata": {},
   "outputs": [],
   "source": [
    "def get_page_revisions_fandom(title):\n",
    "    fandom_api_data = []\n",
    "\n",
    "    fandom_api_url = \"https://titanic.fandom.com/api.php\"\n",
    "\n",
    "    parameters = {'action': \"query\",\n",
    "                  'titles' : title,\n",
    "                  'prop'   : 'revisions',\n",
    "                  'rvprop' : 'flags|timestamp|user|size|ids',\n",
    "                  'rvlimit': 500,\n",
    "                  'format' : 'json'}\n",
    "\n",
    "    while True :\n",
    "    \n",
    "        call = requests.get(fandom_api_url, params=parameters)\n",
    "        api_answer = call.json()\n",
    "\n",
    "        fandom_api_data.append(api_answer)\n",
    "        \n",
    "        if 'continue' in api_answer.keys() :\n",
    "            print(\"working well\")\n",
    "            parameters.update(api_answer['continue'])\n",
    "        else:\n",
    "            break\n",
    "            \n",
    "    return(fandom_api_data)"
   ]
  },
  {
   "cell_type": "code",
   "execution_count": 21,
   "id": "2ff99023",
   "metadata": {},
   "outputs": [
    {
     "name": "stdout",
     "output_type": "stream",
     "text": [
      "titanic\n"
     ]
    }
   ],
   "source": [
    "fandom_titanic = ['titanic']\n",
    "fandom_data = []\n",
    "\n",
    "with open('fandomtitanic.jsonl', 'w') as output_file:\n",
    "    for title in fandom_titanic:\n",
    "        print(title)\n",
    "        x1 = get_page_revisions_fandom(title)\n",
    "        for answer in x1:\n",
    "            print(json.dumps(answer), file = output_file)"
   ]
  },
  {
   "cell_type": "code",
   "execution_count": null,
   "id": "3200c916",
   "metadata": {},
   "outputs": [],
   "source": []
  },
  {
   "cell_type": "code",
   "execution_count": null,
   "id": "f49a9f86",
   "metadata": {},
   "outputs": [],
   "source": []
  }
 ],
 "metadata": {
  "kernelspec": {
   "display_name": "Python 3 (ipykernel)",
   "language": "python",
   "name": "python3"
  },
  "language_info": {
   "codemirror_mode": {
    "name": "ipython",
    "version": 3
   },
   "file_extension": ".py",
   "mimetype": "text/x-python",
   "name": "python",
   "nbconvert_exporter": "python",
   "pygments_lexer": "ipython3",
   "version": "3.10.9"
  }
 },
 "nbformat": 4,
 "nbformat_minor": 5
}
