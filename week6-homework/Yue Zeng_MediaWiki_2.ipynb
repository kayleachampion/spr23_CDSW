{
 "cells": [
  {
   "cell_type": "code",
   "execution_count": 1,
   "id": "7f9aaa6b",
   "metadata": {},
   "outputs": [],
   "source": [
    "# 2. Now grab data for the 5 articles you chose from the Fandom.com wiki you identified and grab revision/edit data from there. (Hint: Your wikipedia work will give you lots of clues here: for example, the fandom API endpoint for The Wire is https://thewire.fandom.com/api.php and the Fandom API, as I said in class, is the same as the Wikipedia API). Produce answers to the same three questions (i, ii, and iii) above but using this dataset.\n",
    "import requests\n",
    "\n",
    "\n",
    "def get_article_revision_json_from_fandom(wiki, title):\n",
    "    api_answers = []\n",
    "    # create a base URL for the WIKI API\n",
    "    wp_api_url = f\"https://{wiki}.fandom.com/api.php\"\n",
    "    # API parameters to get revision data\n",
    "    parameters = {\n",
    "        'action': 'query',\n",
    "        'titles': title,\n",
    "        'prop': 'revisions',\n",
    "        'rvprop': 'flags|timestamp|user|size|ids',\n",
    "        'rvlimit': 5,\n",
    "        'format': 'json'\n",
    "    }\n",
    "    while True:\n",
    "        # make API request\n",
    "        call = requests.get(wp_api_url, params=parameters)\n",
    "        # convert API response to JSON\n",
    "        api_answer = call.json()\n",
    "        # append revision data to list\n",
    "        api_answers.append(api_answer)\n",
    "        # 'continue' tells us there's more revisions to add\n",
    "        if 'continue' in api_answer.keys():\n",
    "            # update parameters with continue parameter to fetch more data\n",
    "            parameters.update(api_answer['continue'])\n",
    "        else:\n",
    "            break\n",
    "    return api_answers\n",
    "\n",
    "\n",
    "article_titles = [\n",
    "    'Avatar (2009 film)',\n",
    "    'Avatar: The Last Airbender',\n",
    "    'Avatar: The Last Airbender (season 1)',\n",
    "    'Avatar: The Last Airbender (season 2)',\n",
    "    'Avatar: The Last Airbender (season 3)'\n",
    "]\n",
    "\n",
    "article_revisions_from_fandom = {}\n",
    "\n",
    "# loop through article titles and download revision data\n",
    "for title in article_titles:\n",
    "    article_revisions_from_fandom[title] = get_article_revision_json_from_fandom(\"the-jh-movie-collection-official\", title)"
   ]
  },
  {
   "cell_type": "code",
   "execution_count": null,
   "id": "c355351b",
   "metadata": {},
   "outputs": [],
   "source": []
  }
 ],
 "metadata": {
  "kernelspec": {
   "display_name": "Python 3 (ipykernel)",
   "language": "python",
   "name": "python3"
  },
  "language_info": {
   "codemirror_mode": {
    "name": "ipython",
    "version": 3
   },
   "file_extension": ".py",
   "mimetype": "text/x-python",
   "name": "python",
   "nbconvert_exporter": "python",
   "pygments_lexer": "ipython3",
   "version": "3.10.9"
  }
 },
 "nbformat": 4,
 "nbformat_minor": 5
}
