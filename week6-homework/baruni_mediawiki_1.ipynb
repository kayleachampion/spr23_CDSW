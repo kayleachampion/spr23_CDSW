{
 "cells": [
  {
   "cell_type": "code",
   "execution_count": 1,
   "id": "e8347f68",
   "metadata": {},
   "outputs": [],
   "source": [
    "import requests\n",
    "import json"
   ]
  },
  {
   "cell_type": "code",
   "execution_count": 2,
   "id": "cb54af47",
   "metadata": {},
   "outputs": [],
   "source": [
    "def get_article_revision_json(title):\n",
    "    api_answers = []\n",
    "\n",
    "    \n",
    "    # f\"http://en.wikipedia.org/w/api.php/?action=query&titles={title}&prop=revisions&rvprop=flags|timestamp|user|size|ids&rvlimit=500&format=json&continue=\"\n",
    "    # e.g.: http://en.wikipedia.org/w/api.php/?action=query&titles=Soundgarden&prop=revisions&rvprop=flags|timestamp|user|size|ids&rvlimit=500&format=json\n",
    "    wp_api_url = \"http://en.wikipedia.org/w/api.php/\"\n",
    "\n",
    "    parameters = {'action' : 'query',\n",
    "                  'titles' : title,\n",
    "                  'prop' : 'revisions',\n",
    "                  'rvprop' : 'flags|timestamp|user|size|ids',\n",
    "                  'rvlimit' : 500,\n",
    "                  'format' : 'json',\n",
    "                   }\n",
    "\n",
    "   \n",
    "    while True:\n",
    "        # this will wait for one second\n",
    "        # time.sleep(1)\n",
    "        \n",
    "        # the first line open the urls but also handles unicode urls\n",
    "        call = requests.get(wp_api_url, params=parameters)\n",
    "        api_answer = call.json()\n",
    "        \n",
    "        # now we'll add this to whatever we are tracking\n",
    "        api_answers.append(api_answer)\n",
    "        \n",
    "        # 'continue' tells us there's more revisions to add\n",
    "        if 'continue' in api_answer.keys():\n",
    "            # replace the 'continue' parameter with the contents of the\n",
    "            # api_answer dictionary.\n",
    "            parameters.update(api_answer['continue'])\n",
    "        else:\n",
    "            break\n",
    "        \n",
    "    return(api_answers)"
   ]
  },
  {
   "cell_type": "code",
   "execution_count": 4,
   "id": "ec3de605",
   "metadata": {},
   "outputs": [
    {
     "name": "stdout",
     "output_type": "stream",
     "text": [
      "now working on: Star_Wars\n",
      "now working on: Death_Star\n",
      "now working on: Jedi\n",
      "now working on: Luke_Skywalker\n",
      "now working on: Yoda\n"
     ]
    }
   ],
   "source": [
    "with open('5_Starwars_articles.jsonl.txt', 'r') as input_file,\\\n",
    "    open(\"Starwars_articles_revisions.jsonl\", 'w') as output_file:\n",
    "    \n",
    "    for line in input_file.readlines():\n",
    "        line_dict = json.loads(line)\n",
    "        page_title = line_dict[\"page_title\"]\n",
    "        \n",
    "        print(f\"now working on: {page_title}\")\n",
    "        api_answers = get_article_revision_json(page_title)\n",
    "        for api_answer in api_answers:\n",
    "            print(json.dumps(api_answer), file=output_file)"
   ]
  },
  {
   "cell_type": "code",
   "execution_count": 10,
   "id": "8943d088",
   "metadata": {},
   "outputs": [
    {
     "name": "stdout",
     "output_type": "stream",
     "text": [
      "now working on: Main_Page\n",
      "now working on: Star_Wars_Jedi:_Survivor\n",
      "now working on: Star_Wars_saga\n",
      "now working on: Star_Wars:_The_High_Republic\n",
      "now working on: The_Acolyte\n"
     ]
    }
   ],
   "source": [
    "with open('5_FandomStarwars_articles.jsonl.txt', 'r') as input_file,\\\n",
    "    open(\"FandomStarwars_articles_revisions.jsonl\", 'w') as output_file:\n",
    "    \n",
    "    for line in input_file.readlines():\n",
    "        line_dict = json.loads(line)\n",
    "        page_title = line_dict[\"page_title\"]\n",
    "        \n",
    "        print(f\"now working on: {page_title}\")\n",
    "        api_answers = get_article_revision_json(page_title)\n",
    "        for api_answer in api_answers:\n",
    "            print(json.dumps(api_answer), file=output_file)"
   ]
  },
  {
   "cell_type": "markdown",
   "id": "5880a5f7",
   "metadata": {},
   "source": []
  }
 ],
 "metadata": {
  "kernelspec": {
   "display_name": "Python 3 (ipykernel)",
   "language": "python",
   "name": "python3"
  },
  "language_info": {
   "codemirror_mode": {
    "name": "ipython",
    "version": 3
   },
   "file_extension": ".py",
   "mimetype": "text/x-python",
   "name": "python",
   "nbconvert_exporter": "python",
   "pygments_lexer": "ipython3",
   "version": "3.10.9"
  }
 },
 "nbformat": 4,
 "nbformat_minor": 5
}
