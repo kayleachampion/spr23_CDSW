{
 "cells": [
  {
   "cell_type": "code",
   "execution_count": 5,
   "id": "6a714365",
   "metadata": {},
   "outputs": [
    {
     "name": "stdout",
     "output_type": "stream",
     "text": [
      "Requirement already satisfied: yelpapi in /Users/daisy/anaconda3/lib/python3.10/site-packages (2.5.0)\n",
      "Requirement already satisfied: requests in /Users/daisy/anaconda3/lib/python3.10/site-packages (from yelpapi) (2.28.1)\n",
      "Requirement already satisfied: certifi>=2017.4.17 in /Users/daisy/anaconda3/lib/python3.10/site-packages (from requests->yelpapi) (2022.12.7)\n",
      "Requirement already satisfied: urllib3<1.27,>=1.21.1 in /Users/daisy/anaconda3/lib/python3.10/site-packages (from requests->yelpapi) (1.26.14)\n",
      "Requirement already satisfied: charset-normalizer<3,>=2 in /Users/daisy/anaconda3/lib/python3.10/site-packages (from requests->yelpapi) (2.0.4)\n",
      "Requirement already satisfied: idna<4,>=2.5 in /Users/daisy/anaconda3/lib/python3.10/site-packages (from requests->yelpapi) (3.4)\n",
      "Note: you may need to restart the kernel to use updated packages.\n"
     ]
    }
   ],
   "source": [
    "pip install yelpapi"
   ]
  },
  {
   "cell_type": "code",
   "execution_count": 8,
   "id": "9dcabf94",
   "metadata": {},
   "outputs": [
    {
     "name": "stdout",
     "output_type": "stream",
     "text": [
      "Storyville Coffee Company's rating is 4.5\n",
      "Anchorhead Coffee's rating is 4.5\n",
      "Moore Coffee Shop's rating is 4.5\n",
      "Starbucks Reserve Roastery Seattle's rating is 4.5\n",
      "Hello Em Viet Coffee & Roastery's rating is 4.5\n",
      "Seattle Coffee Works's rating is 4.5\n",
      "Ghost Note Coffee's rating is 4.5\n",
      "Victrola Coffee Roasters's rating is 4.5\n",
      "Coffeeholic House's rating is 4.5\n",
      "Hood Famous's rating is 4.5\n",
      "Monorail Espresso's rating is 4.5\n",
      "Sugar Bakery & Coffeehouse's rating is 4.5\n",
      "Aroom Coffee's rating is 4.5\n",
      "Milstead's rating is 4.5\n",
      "URL Coffee's rating is 5.0\n",
      "Overcast Coffee Bar's rating is 4.5\n",
      "203° Farenheit Coffee's rating is 4.5\n",
      "Caffe Umbria's rating is 4.5\n",
      "Hagen Coffee Roasters's rating is 4.5\n",
      "Le Panier's rating is 4.5\n",
      "Evoke Cafe Bar's rating is 5.0\n",
      "Squirrel Chops's rating is 4.5\n",
      "Ghost Alley Espresso's rating is 4.5\n",
      "Overcast Coffee Company's rating is 5.0\n",
      "Top Pot Doughnuts's rating is 4.0\n",
      "Armistice Coffee Roaster's rating is 4.5\n",
      "Espresso Vivace Roasteria's rating is 4.0\n",
      "Santo Coffee's rating is 5.0\n",
      "Caffe Ladro's rating is 4.0\n",
      "Elm Coffee Roasters's rating is 4.0\n",
      "General Porpoise's rating is 4.0\n",
      "Grumpy Bean's rating is 4.5\n",
      "Avole Ethiopian Coffee's rating is 5.0\n",
      "Herkimer Coffee's rating is 4.0\n",
      "Phin's rating is 4.5\n",
      "Broadcast Coffee Roasters's rating is 4.0\n",
      "Cafe An'Clair's rating is 4.5\n",
      "Himalayan Java Coffee's rating is 4.5\n",
      "Kaladi Brothers Coffee's rating is 4.5\n",
      "Cafe Cosmos's rating is 4.5\n",
      "Rapha - Seattle's rating is 4.5\n",
      "Realfine Coffee's rating is 4.5\n",
      "The Brim Coffee Shop's rating is 4.0\n",
      "Caffe Ladro's rating is 4.5\n",
      "Dahlia Bakery's rating is 4.5\n",
      "Cherry Street Coffee House's rating is 4.0\n",
      "Anchorhead Coffee's rating is 4.5\n",
      "Cafe Canuc's rating is 4.0\n",
      "Fresh Flours's rating is 4.0\n",
      "Cascade Coffee Works's rating is 4.0\n"
     ]
    }
   ],
   "source": [
    "from yelpapi import YelpAPI\n",
    "# now we need to import the APIKEY\n",
    "from yelp_authentication import APIKEY\n",
    "# this is same the code as before, but just converted to python arguments!\n",
    "with YelpAPI(APIKEY) as yelp_api:\n",
    "    search_results = yelp_api.search_query(term='coffee',\n",
    "                    limit=50, radius=10000, location = 'Seattle')\n",
    "# once again... For each business, print \"STORENAME's rating is RATING\" using \"id\" and \"rating\" of each business from above\n",
    "for business in search_results[\"businesses\"]:\n",
    "    print(f\"{business['name']}\\'s rating is {business['rating']}\")"
   ]
  },
  {
   "cell_type": "code",
   "execution_count": 9,
   "id": "56167f51",
   "metadata": {},
   "outputs": [],
   "source": [
    "import json\n",
    "with open(\"seattle_hotpot.json\", 'w') as output_file:\n",
    "    data_string = json.dumps(search_results) \n",
    "    print(data_string, file=output_file)"
   ]
  },
  {
   "cell_type": "code",
   "execution_count": null,
   "id": "7260f876",
   "metadata": {},
   "outputs": [],
   "source": []
  }
 ],
 "metadata": {
  "kernelspec": {
   "display_name": "Python 3 (ipykernel)",
   "language": "python",
   "name": "python3"
  },
  "language_info": {
   "codemirror_mode": {
    "name": "ipython",
    "version": 3
   },
   "file_extension": ".py",
   "mimetype": "text/x-python",
   "name": "python",
   "nbconvert_exporter": "python",
   "pygments_lexer": "ipython3",
   "version": "3.10.9"
  }
 },
 "nbformat": 4,
 "nbformat_minor": 5
}
