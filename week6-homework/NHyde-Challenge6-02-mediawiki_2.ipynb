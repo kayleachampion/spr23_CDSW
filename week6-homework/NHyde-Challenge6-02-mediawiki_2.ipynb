{
 "cells": [
  {
   "cell_type": "markdown",
   "id": "e0e66ec1",
   "metadata": {},
   "source": [
    "2.0"
   ]
  },
  {
   "cell_type": "code",
   "execution_count": 2,
   "id": "a2a5a871",
   "metadata": {},
   "outputs": [],
   "source": [
    "import requests\n",
    "import json\n",
    "\n",
    "def get_article_revision_json(title):\n",
    "    api_answers = []\n",
    "\n",
    "    # create a base url for the api and then a normal url which is initially\n",
    "    # just a copy of it\n",
    "    # The following line is what the requests call is doing, basically.\n",
    "    # f\"http://en.wikipedia.org/w/api.php/?action=query&titles={title}&prop=revisions&rvprop=flags|timestamp|user|size|ids&rvlimit=500&format=json&continue=\"\n",
    "    # e.g.: http://en.wikipedia.org/w/api.php/?action=query&titles=Soundgarden&prop=revisions&rvprop=flags|timestamp|user|size|ids&rvlimit=500&format=json\n",
    "    wp_api_url = \"https://lotr.fandom.com/api.php\"\n",
    "\n",
    "    parameters = {'action' : 'query',\n",
    "                  'titles' : title,\n",
    "                  'prop' : 'revisions',\n",
    "                  'rvprop' : 'flags|timestamp|user|size|ids',\n",
    "                  'rvlimit' : 500,\n",
    "                  'format' : 'json',\n",
    "                   }\n",
    "\n",
    "    # we'll repeat this forever (i.e., we'll only stop when we find\n",
    "    # the \"break\" command)\n",
    "    while True:\n",
    "        # this will wait for one second\n",
    "        # time.sleep(1)\n",
    "        \n",
    "        # the first line open the urls but also handles unicode urls\n",
    "        call = requests.get(wp_api_url, params=parameters)\n",
    "        api_answer = call.json()\n",
    "        \n",
    "        # now we'll add this to whatever we are tracking\n",
    "        api_answers.append(api_answer)\n",
    "        \n",
    "        # 'continue' tells us there's more revisions to add\n",
    "        if 'continue' in api_answer.keys():\n",
    "            # replace the 'continue' parameter with the contents of the\n",
    "            # api_answer dictionary.\n",
    "            parameters.update(api_answer['continue'])\n",
    "        else:\n",
    "            break\n",
    "        \n",
    "    return(api_answers)"
   ]
  },
  {
   "cell_type": "code",
   "execution_count": 4,
   "id": "98d46ffa",
   "metadata": {},
   "outputs": [
    {
     "name": "stdout",
     "output_type": "stream",
     "text": [
      "done\n"
     ]
    }
   ],
   "source": [
    "page_titles = ['Gandalf', 'The_Council_of_Elrond', 'Sauron', 'Mordor', 'Aragorn']\n",
    "\n",
    "lotr_fandom_file = r\"C:\\Users\\Nicke\\OneDrive\\Desktop\\CommunityDataScience\\LOTRFandom.jsonl\"\n",
    "\n",
    "with open(lotr_fandom_file, 'w') as output_file:\n",
    "\n",
    "    for page_title in page_titles:\n",
    "        api_answers = get_article_revision_json(page_title)\n",
    "        for api_answer in api_answers:\n",
    "        \n",
    "            print(json.dumps(api_answer), file=output_file)\n",
    "            \n",
    "print(\"done\")"
   ]
  },
  {
   "cell_type": "code",
   "execution_count": 5,
   "id": "9927d244",
   "metadata": {},
   "outputs": [],
   "source": [
    "revisions = []\n",
    "\n",
    "with open(lotr_fandom_file, 'r') as input_file:\n",
    "    for line in input_file.readlines():\n",
    "        api_answer = json.loads(line)\n",
    "        \n",
    "        # get the list of pages from the json object\n",
    "        pages = api_answer[\"query\"][\"pages\"]\n",
    "\n",
    "        # for every page, (there should always be only one) get its revisions:\n",
    "        for page_id in pages.keys():\n",
    "            query_revisions = pages[page_id][\"revisions\"]\n",
    "            title = pages[page_id]['title']\n",
    "            \n",
    "            for rev in query_revisions:\n",
    "                #print(rev)\n",
    "                # let's continue/skip this revision if the user is hidden\n",
    "                if \"userhidden\" in rev.keys():\n",
    "                    continue\n",
    "                \n",
    "                # 1: add a title field for the article because we're going to mix them together\n",
    "                rev[\"title\"] = title\n",
    "\n",
    "                # 2: let's \"recode\" anon so it's true or false instead of present/missing\n",
    "                if \"anon\" in rev.keys():\n",
    "                    rev[\"anon\"] = True\n",
    "                else:\n",
    "                    rev[\"anon\"] = False\n",
    "\n",
    "                # 3: let's recode \"minor\" in the same way\n",
    "                if \"minor\" in rev.keys():\n",
    "                    rev[\"minor\"] = True\n",
    "                else:\n",
    "                    rev[\"minor\"] = False\n",
    "\n",
    "                # we're going to change the timestamp to make it work a little better in excel/spreadsheets\n",
    "                rev[\"timestamp\"] = rev[\"timestamp\"].replace(\"T\", \" \")\n",
    "                rev[\"timestamp\"] = rev[\"timestamp\"].replace(\"Z\", \"\")\n",
    "\n",
    "                # finally, save the revisions we've seen to a varaible\n",
    "                revisions.append(rev)"
   ]
  },
  {
   "cell_type": "markdown",
   "id": "ad6fe130",
   "metadata": {},
   "source": [
    "2.1"
   ]
  },
  {
   "cell_type": "code",
   "execution_count": 7,
   "id": "54557b07",
   "metadata": {},
   "outputs": [
    {
     "name": "stdout",
     "output_type": "stream",
     "text": [
      "Gandalf Revisions 859 - Gandalf Anon Count 137 - Gandalf % Anon 15.95\n",
      "The Council of ELrond Revisions 1 - The Council of Elrond Anon Count 0 - The Council of Elrond % Anon 0.00\n",
      "Sauron Revisions 1659 - Sauron Anon Count 513 - Sauron % Anon 30.92\n",
      "Mordor Revisions 859 - Mordor_revision_count 155 - Mordor % Anon 39.24\n",
      "Aragorn Revisions 10 - Aragorn Anon Count 3 - Aragorn % Anon 30.00\n"
     ]
    }
   ],
   "source": [
    "Gandalf_revision_count = 0\n",
    "The_Council_revision_count = 0\n",
    "Sauron_revison_count = 0\n",
    "Mordor_revision_count = 0\n",
    "Aragorn_revision_count = 0\n",
    "\n",
    "Gandalf_anon_count = 0\n",
    "The_Council_anon_count = 0\n",
    "Sauron_anon_count = 0\n",
    "Mordor_anon_count = 0\n",
    "Aragorn_anon_count = 0\n",
    "\n",
    "\n",
    "for revision in revisions:\n",
    "    if revision['title'] == \"Gandalf\":\n",
    "        Gandalf_revision_count += 1\n",
    "        if revision['anon'] == True:\n",
    "            Gandalf_anon_count += 1\n",
    "        \n",
    "    if revision['title'] == \"The Council of Elrond\":\n",
    "        The_Council_revision_count += 1\n",
    "        if revision['anon'] == True:\n",
    "            The_Council_anon_count += 1\n",
    "\n",
    "    if revision['title'] == \"Sauron\":\n",
    "            Sauron_revison_count += 1\n",
    "            if revision['anon'] == True:\n",
    "                Sauron_anon_count += 1\n",
    "                \n",
    "    if revision['title'] == \"Mordor\":\n",
    "            Mordor_revision_count += 1\n",
    "            if revision['anon'] == True:\n",
    "                Mordor_anon_count += 1\n",
    "                \n",
    "    if revision['title'] == \"Aragorn\":\n",
    "            Aragorn_revision_count += 1\n",
    "            if revision['anon'] == True:\n",
    "                Aragorn_anon_count += 1\n",
    "                \n",
    "Gandalf_percent = (Gandalf_anon_count / Gandalf_revision_count) * 100\n",
    "Council_percent = (The_Council_anon_count / The_Council_revision_count) * 100\n",
    "Sauron_percent = (Sauron_anon_count / Sauron_revison_count) * 100\n",
    "Mordor_percent = (Mordor_anon_count / Mordor_revision_count) * 100\n",
    "Aragorn_percent = (Aragorn_anon_count / Aragorn_revision_count) * 100\n",
    "          \n",
    "print(\"Gandalf Revisions\", Gandalf_revision_count, \"- Gandalf Anon Count\", Gandalf_anon_count, \"- Gandalf % Anon\", \"%.2f\" % Gandalf_percent)\n",
    "print(\"The Council of ELrond Revisions\", The_Council_revision_count, \"- The Council of Elrond Anon Count\", The_Council_anon_count, \"- The Council of Elrond % Anon\", \"%.2f\" % Council_percent)\n",
    "print(\"Sauron Revisions\", Sauron_revison_count, \"- Sauron Anon Count\", Sauron_anon_count, \"- Sauron % Anon\", \"%.2f\" % Sauron_percent)\n",
    "print(\"Mordor Revisions\", Gandalf_revision_count, \"- Mordor_revision_count\", Mordor_anon_count, \"- Mordor % Anon\", \"%.2f\" % Mordor_percent)\n",
    "print(\"Aragorn Revisions\", Aragorn_revision_count, \"- Aragorn Anon Count\", Aragorn_anon_count, \"- Aragorn % Anon\", \"%.2f\" % Aragorn_percent)"
   ]
  },
  {
   "cell_type": "markdown",
   "id": "f528d704",
   "metadata": {},
   "source": [
    "2.2"
   ]
  },
  {
   "cell_type": "code",
   "execution_count": 8,
   "id": "48b00a8f",
   "metadata": {},
   "outputs": [
    {
     "name": "stdout",
     "output_type": "stream",
     "text": [
      "Gandalf Revisions 859 - Gandalf Minor Count 131 - Gandalf % Minor 15.25\n",
      "The Council of ELrond Revisions 1 - The Council of Elrond Minor Count 0 - The Council of Elrond % Minor 0.00\n",
      "Sauron Revisions 1659 - Sauron Minor Count 213 - Sauron % Minor 12.84\n",
      "Mordor Revisions 859 - Mordor_revision_count 67 - Mordor % Minor 16.96\n",
      "Aragorn Revisions 10 - Aragorn Minor Count 2 - Aragorn % Minor 20.00\n"
     ]
    }
   ],
   "source": [
    "Gandalf_revision_count = 0\n",
    "The_Council_revision_count = 0\n",
    "Sauron_revison_count = 0\n",
    "Mordor_revision_count = 0\n",
    "Aragorn_revision_count = 0\n",
    "\n",
    "Gandalf_minor_count = 0\n",
    "The_Council_minor_count = 0\n",
    "Sauron_minor_count = 0\n",
    "Mordor_minor_count = 0\n",
    "Aragorn_minor_count = 0\n",
    "\n",
    "\n",
    "for revision in revisions:\n",
    "    if revision['title'] == \"Gandalf\":\n",
    "        Gandalf_revision_count += 1\n",
    "        if revision['minor'] == True:\n",
    "            Gandalf_minor_count += 1\n",
    "        \n",
    "    if revision['title'] == \"The Council of Elrond\":\n",
    "        The_Council_revision_count += 1\n",
    "        if revision['minor'] == True:\n",
    "            The_Council_minor_count += 1\n",
    "\n",
    "    if revision['title'] == \"Sauron\":\n",
    "            Sauron_revison_count += 1\n",
    "            if revision['minor'] == True:\n",
    "                Sauron_minor_count += 1\n",
    "                \n",
    "    if revision['title'] == \"Mordor\":\n",
    "            Mordor_revision_count += 1\n",
    "            if revision['minor'] == True:\n",
    "                Mordor_minor_count += 1\n",
    "                \n",
    "    if revision['title'] == \"Aragorn\":\n",
    "            Aragorn_revision_count += 1\n",
    "            if revision['minor'] == True:\n",
    "                Aragorn_minor_count += 1\n",
    "                \n",
    "Gandalf_percent = (Gandalf_minor_count / Gandalf_revision_count) * 100\n",
    "Council_percent = (The_Council_minor_count / The_Council_revision_count) * 100\n",
    "Sauron_percent = (Sauron_minor_count / Sauron_revison_count) * 100\n",
    "Mordor_percent = (Mordor_minor_count / Mordor_revision_count) * 100\n",
    "Aragorn_percent = (Aragorn_minor_count / Aragorn_revision_count) * 100\n",
    "          \n",
    "print(\"Gandalf Revisions\", Gandalf_revision_count, \"- Gandalf Minor Count\", Gandalf_minor_count, \"- Gandalf % Minor\", \"%.2f\" % Gandalf_percent)\n",
    "print(\"The Council of ELrond Revisions\", The_Council_revision_count, \"- The Council of Elrond Minor Count\", The_Council_minor_count, \"- The Council of Elrond % Minor\", \"%.2f\" % Council_percent)\n",
    "print(\"Sauron Revisions\", Sauron_revison_count, \"- Sauron Minor Count\", Sauron_minor_count, \"- Sauron % Minor\", \"%.2f\" % Sauron_percent)\n",
    "print(\"Mordor Revisions\", Gandalf_revision_count, \"- Mordor_revision_count\", Mordor_minor_count, \"- Mordor % Minor\", \"%.2f\" % Mordor_percent)\n",
    "print(\"Aragorn Revisions\", Aragorn_revision_count, \"- Aragorn Minor Count\", Aragorn_minor_count, \"- Aragorn % Minor\", \"%.2f\" % Aragorn_percent)"
   ]
  },
  {
   "cell_type": "markdown",
   "id": "bbde89f1",
   "metadata": {},
   "source": [
    "2.3"
   ]
  },
  {
   "cell_type": "code",
   "execution_count": 9,
   "id": "673c0759",
   "metadata": {},
   "outputs": [],
   "source": [
    "edits_by_month = {}\n",
    "for rev in revisions:\n",
    "    month_string = rev['timestamp'][0:7]\n",
    "\n",
    "    if month_string in edits_by_month.keys():\n",
    "        edits_by_month[month_string] = edits_by_month[month_string] + 1\n",
    "    else:\n",
    "        edits_by_month[month_string] = 1\n",
    "        \n",
    "# write out a TSV file we could analyze in google docs\n",
    "with open(r\"C:\\Users\\Nicke\\OneDrive\\Desktop\\CommunityDataScience\\lotr_fandom_monthly_summary_data.tsv\", \"w\", encoding='utf-8') as lotr_file:\n",
    "    \n",
    "    print(\"date\\trevisions\", file=lotr_file)\n",
    "\n",
    "    # iterate through every day and print out data into the file\n",
    "    for month_string in edits_by_month.keys():\n",
    "        print(f\"{month_string}-01\\t{edits_by_month[month_string]}\", file=lotr_file)"
   ]
  },
  {
   "cell_type": "markdown",
   "id": "57c1b2f7",
   "metadata": {},
   "source": [
    "Excel Worksheet https://1drv.ms/x/s!Ag-V2XcGZQo8h03jvFZLm9YA3O3k?e=Pe6AxV"
   ]
  }
 ],
 "metadata": {
  "kernelspec": {
   "display_name": "Python 3 (ipykernel)",
   "language": "python",
   "name": "python3"
  },
  "language_info": {
   "codemirror_mode": {
    "name": "ipython",
    "version": 3
   },
   "file_extension": ".py",
   "mimetype": "text/x-python",
   "name": "python",
   "nbconvert_exporter": "python",
   "pygments_lexer": "ipython3",
   "version": "3.10.9"
  }
 },
 "nbformat": 4,
 "nbformat_minor": 5
}
