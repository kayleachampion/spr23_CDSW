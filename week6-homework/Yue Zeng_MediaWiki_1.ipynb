{
 "cells": [
  {
   "cell_type": "code",
   "execution_count": 1,
   "id": "c0b9e9de",
   "metadata": {},
   "outputs": [],
   "source": [
    "import json\n",
    "import requests\n",
    "\n",
    "\n",
    "def get_article_revision_json_from_wikipedia(title):\n",
    "    api_answers = []\n",
    "    # create a base URL for the WIKI API\n",
    "    wp_api_url = \"http://en.wikipedia.org/w/api.php\"\n",
    "    # API parameters to get revision data\n",
    "    parameters = {\n",
    "        'action': 'query',\n",
    "        'titles': title,\n",
    "        'prop': 'revisions',\n",
    "        'rvprop': 'flags|timestamp|user|size|ids',\n",
    "        'rvlimit': 500,\n",
    "        'format': 'json'\n",
    "    }\n",
    "    while True:\n",
    "        # make API request\n",
    "        call = requests.get(wp_api_url, params=parameters)\n",
    "        # convert API response to JSON\n",
    "        api_answer = call.json()\n",
    "        # append revision data to list\n",
    "        api_answers.append(api_answer)\n",
    "        # 'continue' tells us there's more revisions to add\n",
    "        if 'continue' in api_answer.keys():\n",
    "            # update parameters with continue parameter to fetch more data\n",
    "            parameters.update(api_answer['continue'])\n",
    "        else:\n",
    "            break\n",
    "    return api_answers\n",
    "\n",
    "\n",
    "# list of Avatar-related article titles\n",
    "article_titles = [\n",
    "    'Avatar (2009 film)',\n",
    "    'Avatar: The Last Airbender',\n",
    "    'Avatar: The Last Airbender (season 1)',\n",
    "    'Avatar: The Last Airbender (season 2)',\n",
    "    'Avatar: The Last Airbender (season 3)'\n",
    "]\n",
    "\n",
    "article_revisions_from_wikipedia = {}\n",
    "\n",
    "# loop through article titles and download revision data\n",
    "for title in article_titles:\n",
    "    article_revisions_from_wikipedia[title] = get_article_revision_json_from_wikipedia(title)\n",
    "\n",
    "with open(\"article_revisions_from_wikipedia.json\", \"w\") as file_out:\n",
    "    json.dump(article_revisions_from_wikipedia, file_out)"
   ]
  },
  {
   "cell_type": "code",
   "execution_count": 2,
   "id": "66f3a8cc",
   "metadata": {},
   "outputs": [
    {
     "name": "stdout",
     "output_type": "stream",
     "text": [
      "Avatar (2009 film): Proportion of edits made by anonymous users: 0.12\n",
      "Avatar: The Last Airbender: Proportion of edits made by anonymous users: 0.49\n",
      "Avatar: The Last Airbender (season 1): Proportion of edits made by anonymous users: 0.35\n",
      "Avatar: The Last Airbender (season 2): Proportion of edits made by anonymous users: 0.33\n",
      "Avatar: The Last Airbender (season 3): Proportion of edits made by anonymous users: 0.40\n"
     ]
    }
   ],
   "source": [
    "# 1.1 what proportion of those edits were made by users without accounts (\"anon\"),\n",
    "for title in article_titles:\n",
    "    total_edits = 0\n",
    "    anon_edits = 0\n",
    "    # loop through revision data and count edits by user type\n",
    "    for revision in article_revisions_from_wikipedia[title]:\n",
    "        for page in revision['query']['pages'].values():\n",
    "            revisions = page['revisions']\n",
    "            for rev in revisions:\n",
    "                total_edits += 1\n",
    "                if 'anon' in rev:\n",
    "                    anon_edits += 1\n",
    "    # calculate proportion of edits made by anonymous users\n",
    "    if total_edits > 0:\n",
    "        anon_prop = anon_edits / total_edits\n",
    "    else:\n",
    "        anon_prop = 0\n",
    "    # print results for the current article\n",
    "    print(f\"{title}: Proportion of edits made by anonymous users: {anon_prop:.2f}\")\n"
   ]
  },
  {
   "cell_type": "code",
   "execution_count": 8,
   "id": "a40fd35c",
   "metadata": {},
   "outputs": [
    {
     "name": "stdout",
     "output_type": "stream",
     "text": [
      "Avatar (2009 film): Proportion of edits marked as minor: 0.25\n",
      "Avatar: The Last Airbender: Proportion of edits marked as minor: 0.16\n",
      "Avatar: The Last Airbender (season 1): Proportion of edits marked as minor: 0.15\n",
      "Avatar: The Last Airbender (season 2): Proportion of edits marked as minor: 0.16\n",
      "Avatar: The Last Airbender (season 3): Proportion of edits marked as minor: 0.15\n"
     ]
    }
   ],
   "source": [
    "# 1.2 what proportion of those edits were marked as \"minor\"\n",
    "for title in article_titles:\n",
    "    # initialize variables to count total number of edits and number of minor edits\n",
    "    total_edits = 0\n",
    "    minor_edits = 0\n",
    "\n",
    "    # loop through revision data and count edits by type\n",
    "    for revision in article_revisions_from_wikipedia[title]:\n",
    "        for page in revision['query']['pages'].values():\n",
    "            revisions = page['revisions']\n",
    "            for rev in revisions:\n",
    "                total_edits += 1\n",
    "                if 'minor' in rev:\n",
    "                    minor_edits += 1\n",
    "\n",
    "    # calculate proportion of edits marked as minor\n",
    "    if total_edits > 0:\n",
    "        minor_prop = minor_edits / total_edits\n",
    "    else:\n",
    "        minor_prop = 0\n",
    "\n",
    "    # print results for the current article\n",
    "    print(f\"{title}: Proportion of edits marked as minor: {minor_prop:.2f}\")\n"
   ]
  },
  {
   "cell_type": "code",
   "execution_count": 10,
   "id": "d73b68c3",
   "metadata": {},
   "outputs": [],
   "source": [
    "# 1.3 make and share a visualization of the total number of edits across those 5 articles over time\n",
    "edits_by_datetime = {title: {} for title in article_titles}\n",
    "for title in article_titles:\n",
    "    for revision in article_revisions_from_wikipedia[title]:\n",
    "        for page_id, page_data in revision['query']['pages'].items():\n",
    "            for rev in page_data.get('revisions', []):\n",
    "                timestamp = rev['timestamp']\n",
    "                edits_by_datetime[title][timestamp] = edits_by_datetime[title].get(timestamp, 0) + 1\n",
    "\n",
    "all_dates = sorted({date for edits in edits_by_datetime.values() for date in edits.keys()})\n",
    "\n",
    "with open('avatar_edits_from_wikipedia.tsv', 'w') as f:\n",
    "    buffer = \"\\t\".join(article_titles)\n",
    "    f.write(f\"date\\t{buffer}\\n\")\n",
    "    for date in all_dates:\n",
    "        buffer = \"\\t\".join([str(edits_by_datetime[title].get(date, 0)) for title in article_titles])\n",
    "        f.write(f\"{date}\\t{buffer}\\n\")"
   ]
  },
  {
   "cell_type": "code",
   "execution_count": null,
   "id": "e6db6182",
   "metadata": {},
   "outputs": [],
   "source": []
  }
 ],
 "metadata": {
  "kernelspec": {
   "display_name": "Python 3 (ipykernel)",
   "language": "python",
   "name": "python3"
  },
  "language_info": {
   "codemirror_mode": {
    "name": "ipython",
    "version": 3
   },
   "file_extension": ".py",
   "mimetype": "text/x-python",
   "name": "python",
   "nbconvert_exporter": "python",
   "pygments_lexer": "ipython3",
   "version": "3.10.9"
  }
 },
 "nbformat": 4,
 "nbformat_minor": 5
}
