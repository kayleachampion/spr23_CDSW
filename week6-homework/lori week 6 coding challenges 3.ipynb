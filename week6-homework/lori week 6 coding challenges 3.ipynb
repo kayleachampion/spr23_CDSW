{
 "cells": [
  {
   "cell_type": "markdown",
   "id": "d8ce0254",
   "metadata": {},
   "source": [
    "#3 Progress on your final project\n",
    "Answer these questions using markdown cells in a notebook. Check out the notes I left about this in the Community Data Science Course (Spring 2023)/Week 5 coding challenges (the third paragraph) or think back to Kaylea's comments during the Week 6 assignment recap video.\n",
    "\n",
    "Let us know:\n",
    "\n",
    "What is your proposed unit of analysis? In other words, if/when you end up building something like a spreadsheet, what are rows going to represent?\n",
    "\n",
    "What specific measures associated with each unit do you want to collect? In other words, what are the columns in the spreadsheet going to be?\n",
    "\n",
    "Tell us what you've learned about the API:\n",
    "Are you going to be able to get the data you want with one API call or many? If more than one, how many?\n",
    "If it's more than one call, how will you know when you have collected all your data?\n",
    "\n",
    "Make one API call and save the output to your desk in either a .json or .jsonl file. \n",
    "\n",
    "Be sure to share the code you used to do this. Be sure not to include any API keys in your notebook!\n",
    "\n",
    "How big is the JSON file that you saved on your disk (i.e., in bytes or kilobytes)? If it is not your full dataset, what is your estimate for how much larger the full dataset will be? How big will the total dataset be? Is that a problem?"
   ]
  },
  {
   "cell_type": "markdown",
   "id": "aa0d7a2f",
   "metadata": {},
   "source": [
    "----------------------------------------------------------------------------------------------------------------------\n",
    "The questions I wanna develop includes:\n",
    "Before and after Covid\n",
    "#What are the trends in the labor market, including employment rates, job growth, and wage levels in different regions and industries? \n",
    "#What are the most in-demand skills and qualifications for different types of jobs, and how have they evolved or changed over time? \n",
    "#How do educational attainment and demographic factors, such as age, gender, and race, influence employment outcomes and wage levels? \n",
    "#How have AI advancements affected the workforce, and what are the implications for job growth and skill requirements in the future?\n"
   ]
  },
  {
   "cell_type": "markdown",
   "id": "c71c2ed9",
   "metadata": {},
   "source": [
    "----------------------------------------------------------------------------------------------------------------------\n",
    "#3.1Based on the the data available through the BLS API(Until 2020)\n",
    "\n",
    "1.Regional Employment Analysis:\n",
    "Unit of analysis: regions (states, metropolitan areas, or counties)\n",
    "\n",
    "2.In-demand Occupations and Skills:\n",
    "Unit of analysis: Occupations or job title\n",
    "\n",
    "3.Wage Disparities:\n",
    "Unit of analysis: Demographic info (education level, gender, race, age, etc.)\n",
    "\n",
    "4.Job Projections:\n",
    "Unit of analysis: Occupations or industries\n",
    "\n",
    "5.Impact of Economic Events on Employment:\n",
    "Unit of analysis: Time periods(before and after covid) or economic events (recessions, recoveries, etc.)\n",
    "\n",
    "6.Work modes:\n",
    "Unit of analysis: Work arrangements (freelancing, part-time, remote work, etc.)"
   ]
  },
  {
   "cell_type": "markdown",
   "id": "c4addefb",
   "metadata": {},
   "source": [
    "----------------------------------------------------------------------------------------------------------------------\n",
    "Based on the the data available through the reddit API(Until 2020)\n",
    "Unit of analysis: Reddit posts or comments\n",
    "\n",
    "1.Job Search Experiences and Strategies:\n",
    "Each row represents a post or comment related to job search experiences or strategies\n",
    "\n",
    "2.Industry Insights and Workplace Culture:\n",
    "Each row represents a post or comment related to industry insights or workplace culture\n",
    "\n",
    "3.Career Transitions and Skill Development:\n",
    "Each row represents a specific post or comment related to career transitions or skill development\n",
    "\n",
    "4.Remote Work and Work-Life Balance:\n",
    "Each row represents a specific post or comment related to remote work or work-life balance\n",
    "\n",
    "5.Job Satisfaction and Employer Reviews:\n",
    "Each row represents a specific post or comment related to job satisfaction or employer reviews\n",
    "\n",
    "6.Impact of AI and Automation on Employment:\n",
    "Each row represents a specific post or comment related to the impact of AI and automation on employment"
   ]
  },
  {
   "cell_type": "markdown",
   "id": "df6b3cde",
   "metadata": {},
   "source": [
    "----------------------------------------------------------------------------------------------------------------------\n",
    "Combine these two:\n",
    "\n",
    "analyze trends, challenges, and opportunities in the labor market from both a quantitative (BLS data) and qualitative (Reddit data) perspective.\n"
   ]
  },
  {
   "cell_type": "markdown",
   "id": "ef8a6816",
   "metadata": {},
   "source": [
    "----------------------------------------------------------------------------------------------------------------------\n",
    "#3.2 Columns\n",
    "\n",
    "Occupation (or Industry) Name\n",
    "\n",
    "BLS:\n",
    "Employment level\n",
    "Median wage\n",
    "Job growth rate\n",
    "Projected job growth\n",
    "Employment by demographic info (e.g., age, gender, race, etc.)\n",
    "\n",
    "Reddit:\n",
    "Number of posts or comments discussing the occupation (or industry)\n",
    "Average sentiment of posts or comments about the occupation (or industry)\n",
    "Most frequently mentioned skills or qualifications related to the occupation (or industry)\n",
    "Most frequently mentioned challenges or opportunities related to the occupation (or industry)\n",
    "Other relevant information\n",
    "(e.g., top subreddits discussing the occupation/industry, the most upvoted posts, etc.)"
   ]
  },
  {
   "cell_type": "markdown",
   "id": "1c4b5d5c",
   "metadata": {},
   "source": [
    "----------------------------------------------------------------------------------------------------------------------\n",
    "#3.3\n",
    "I wanna use 3, BLS, Reddit and maybe one more\n",
    "Bls(until 2022), Reddit (until 2022)"
   ]
  },
  {
   "cell_type": "code",
   "execution_count": 26,
   "id": "8ecdc0f6",
   "metadata": {},
   "outputs": [],
   "source": [
    "#3.4 \n",
    "import requests\n",
    "import json\n",
    "\n",
    "from Final_Authentication_keys import BLS_api_key\n",
    "headers = {\n",
    "    \"Content-type\": \"application/json\",\n",
    "}\n",
    "\n",
    "data = json.dumps({\n",
    "    \"seriesid\": [\"CUUR0000SA0\"],  # All items in U.S. city average, all urban consumers\n",
    "    \"startyear\": \"2020\",\n",
    "    \"endyear\": \"2021\",\n",
    "    \"registrationkey\": BLS_api_key\n",
    "})\n",
    "\n",
    "response = requests.post(\n",
    "    \"https://api.bls.gov/publicAPI/v2/timeseries/data/\",\n",
    "    data=data,\n",
    "    headers=headers\n",
    ")\n",
    "\n",
    "with open(\"bls_data.json\", \"w\") as outfile:\n",
    "    json.dump(response.json(), outfile)\n",
    "\n",
    "   "
   ]
  },
  {
   "cell_type": "code",
   "execution_count": 27,
   "id": "9db24eac",
   "metadata": {},
   "outputs": [
    {
     "name": "stdout",
     "output_type": "stream",
     "text": [
      "{\"status\": \"REQUEST_SUCCEEDED\", \"responseTime\": 178, \"message\": [], \"Results\": {\"series\": [{\"seriesID\": \"CUUR0000SA0\", \"data\": [{\"year\": \"2021\", \"period\": \"M12\", \"periodName\": \"December\", \"value\": \"278.802\", \"footnotes\": [{}]}, {\"year\": \"2021\", \"period\": \"M11\", \"periodName\": \"November\", \"value\": \"277.948\", \"footnotes\": [{}]}, {\"year\": \"2021\", \"period\": \"M10\", \"periodName\": \"October\", \"value\": \"276.589\", \"footnotes\": [{}]}, {\"year\": \"2021\", \"period\": \"M09\", \"periodName\": \"September\", \"value\": \"274.310\", \"footnotes\": [{}]}, {\"year\": \"2021\", \"period\": \"M08\", \"periodName\": \"August\", \"value\": \"273.567\", \"footnotes\": [{}]}, {\"year\": \"2021\", \"period\": \"M07\", \"periodName\": \"July\", \"value\": \"273.003\", \"footnotes\": [{}]}, {\"year\": \"2021\", \"period\": \"M06\", \"periodName\": \"June\", \"value\": \"271.696\", \"footnotes\": [{}]}, {\"year\": \"2021\", \"period\": \"M05\", \"periodName\": \"May\", \"value\": \"269.195\", \"footnotes\": [{}]}, {\"year\": \"2021\", \"period\": \"M04\", \"periodName\": \"April\", \"value\": \"267.054\", \"footnotes\": [{}]}, {\"year\": \"2021\", \"period\": \"M03\", \"periodName\": \"March\", \"value\": \"264.877\", \"footnotes\": [{}]}, {\"year\": \"2021\", \"period\": \"M02\", \"periodName\": \"February\", \"value\": \"263.014\", \"footnotes\": [{}]}, {\"year\": \"2021\", \"period\": \"M01\", \"periodName\": \"January\", \"value\": \"261.582\", \"footnotes\": [{}]}, {\"year\": \"2020\", \"period\": \"M12\", \"periodName\": \"December\", \"value\": \"260.474\", \"footnotes\": [{}]}, {\"year\": \"2020\", \"period\": \"M11\", \"periodName\": \"November\", \"value\": \"260.229\", \"footnotes\": [{}]}, {\"year\": \"2020\", \"period\": \"M10\", \"periodName\": \"October\", \"value\": \"260.388\", \"footnotes\": [{}]}, {\"year\": \"2020\", \"period\": \"M09\", \"periodName\": \"September\", \"value\": \"260.280\", \"footnotes\": [{}]}, {\"year\": \"2020\", \"period\": \"M08\", \"periodName\": \"August\", \"value\": \"259.918\", \"footnotes\": [{}]}, {\"year\": \"2020\", \"period\": \"M07\", \"periodName\": \"July\", \"value\": \"259.101\", \"footnotes\": [{}]}, {\"year\": \"2020\", \"period\": \"M06\", \"periodName\": \"June\", \"value\": \"257.797\", \"footnotes\": [{}]}, {\"year\": \"2020\", \"period\": \"M05\", \"periodName\": \"May\", \"value\": \"256.394\", \"footnotes\": [{}]}, {\"year\": \"2020\", \"period\": \"M04\", \"periodName\": \"April\", \"value\": \"256.389\", \"footnotes\": [{}]}, {\"year\": \"2020\", \"period\": \"M03\", \"periodName\": \"March\", \"value\": \"258.115\", \"footnotes\": [{}]}, {\"year\": \"2020\", \"period\": \"M02\", \"periodName\": \"February\", \"value\": \"258.678\", \"footnotes\": [{}]}, {\"year\": \"2020\", \"period\": \"M01\", \"periodName\": \"January\", \"value\": \"257.971\", \"footnotes\": [{}]}]}]}}\n"
     ]
    }
   ],
   "source": [
    "with open(\"bls_data.json\", \"r\") as inputfile:\n",
    "    json_data = json.load(inputfile)\n",
    "    print(json.dumps(json_data))"
   ]
  },
  {
   "cell_type": "code",
   "execution_count": 28,
   "id": "c6817eb6",
   "metadata": {},
   "outputs": [
    {
     "name": "stdout",
     "output_type": "stream",
     "text": [
      "ERROR\n",
      "Request failed with status code 422\n"
     ]
    }
   ],
   "source": [
    "import requests\n",
    "import json\n",
    "\n",
    "url = \"https://api.pushshift.io/reddit/search/submission\"\n",
    "\n",
    "params = {\n",
    "    \"subreddit\": \"laid off\",\n",
    "    \"size\": 100,\n",
    "    \"sort\": \"desc\",\n",
    "    \"sort_type\": \"num_comments\",\n",
    "    \"before\": \"30d\"  # Posts from the last 30 days\n",
    "}\n",
    "\n",
    "response = requests.get(url, params=params)\n",
    "\n",
    "if response.status_code == 200:\n",
    "    with open(\"pushshift_data.json\", \"w\") as outfile:\n",
    "        json.dump(response.json(), outfile)\n",
    "else:\n",
    "    print(\"ERROR\")\n",
    "    print(f\"Request failed with status code {response.status_code}\")\n"
   ]
  },
  {
   "cell_type": "code",
   "execution_count": 29,
   "id": "a9b8c6c8",
   "metadata": {},
   "outputs": [
    {
     "ename": "FileNotFoundError",
     "evalue": "[Errno 2] No such file or directory: 'pushshift_data.json'",
     "output_type": "error",
     "traceback": [
      "\u001b[0;31m---------------------------------------------------------------------------\u001b[0m",
      "\u001b[0;31mFileNotFoundError\u001b[0m                         Traceback (most recent call last)",
      "Cell \u001b[0;32mIn[29], line 1\u001b[0m\n\u001b[0;32m----> 1\u001b[0m \u001b[38;5;28;01mwith\u001b[39;00m \u001b[38;5;28;43mopen\u001b[39;49m\u001b[43m(\u001b[49m\u001b[38;5;124;43m\"\u001b[39;49m\u001b[38;5;124;43mpushshift_data.json\u001b[39;49m\u001b[38;5;124;43m\"\u001b[39;49m\u001b[43m,\u001b[49m\u001b[43m \u001b[49m\u001b[38;5;124;43m\"\u001b[39;49m\u001b[38;5;124;43mr\u001b[39;49m\u001b[38;5;124;43m\"\u001b[39;49m\u001b[43m)\u001b[49m \u001b[38;5;28;01mas\u001b[39;00m inputfile:\n\u001b[1;32m      2\u001b[0m     Pushift_json_data \u001b[38;5;241m=\u001b[39m json\u001b[38;5;241m.\u001b[39mload(inputfile)\n\u001b[1;32m      3\u001b[0m     \u001b[38;5;28mprint\u001b[39m(json\u001b[38;5;241m.\u001b[39mdumps(Pushift_json_data))\n",
      "File \u001b[0;32m~/anaconda3/lib/python3.10/site-packages/IPython/core/interactiveshell.py:282\u001b[0m, in \u001b[0;36m_modified_open\u001b[0;34m(file, *args, **kwargs)\u001b[0m\n\u001b[1;32m    275\u001b[0m \u001b[38;5;28;01mif\u001b[39;00m file \u001b[38;5;129;01min\u001b[39;00m {\u001b[38;5;241m0\u001b[39m, \u001b[38;5;241m1\u001b[39m, \u001b[38;5;241m2\u001b[39m}:\n\u001b[1;32m    276\u001b[0m     \u001b[38;5;28;01mraise\u001b[39;00m \u001b[38;5;167;01mValueError\u001b[39;00m(\n\u001b[1;32m    277\u001b[0m         \u001b[38;5;124mf\u001b[39m\u001b[38;5;124m\"\u001b[39m\u001b[38;5;124mIPython won\u001b[39m\u001b[38;5;124m'\u001b[39m\u001b[38;5;124mt let you open fd=\u001b[39m\u001b[38;5;132;01m{\u001b[39;00mfile\u001b[38;5;132;01m}\u001b[39;00m\u001b[38;5;124m by default \u001b[39m\u001b[38;5;124m\"\u001b[39m\n\u001b[1;32m    278\u001b[0m         \u001b[38;5;124m\"\u001b[39m\u001b[38;5;124mas it is likely to crash IPython. If you know what you are doing, \u001b[39m\u001b[38;5;124m\"\u001b[39m\n\u001b[1;32m    279\u001b[0m         \u001b[38;5;124m\"\u001b[39m\u001b[38;5;124myou can use builtins\u001b[39m\u001b[38;5;124m'\u001b[39m\u001b[38;5;124m open.\u001b[39m\u001b[38;5;124m\"\u001b[39m\n\u001b[1;32m    280\u001b[0m     )\n\u001b[0;32m--> 282\u001b[0m \u001b[38;5;28;01mreturn\u001b[39;00m \u001b[43mio_open\u001b[49m\u001b[43m(\u001b[49m\u001b[43mfile\u001b[49m\u001b[43m,\u001b[49m\u001b[43m \u001b[49m\u001b[38;5;241;43m*\u001b[39;49m\u001b[43margs\u001b[49m\u001b[43m,\u001b[49m\u001b[43m \u001b[49m\u001b[38;5;241;43m*\u001b[39;49m\u001b[38;5;241;43m*\u001b[39;49m\u001b[43mkwargs\u001b[49m\u001b[43m)\u001b[49m\n",
      "\u001b[0;31mFileNotFoundError\u001b[0m: [Errno 2] No such file or directory: 'pushshift_data.json'"
     ]
    }
   ],
   "source": [
    "with open(\"pushshift_data.json\", \"r\") as inputfile:\n",
    "    Pushift_json_data = json.load(inputfile)\n",
    "    print(json.dumps(Pushift_json_data))"
   ]
  },
  {
   "cell_type": "code",
   "execution_count": 30,
   "id": "7e360b51",
   "metadata": {},
   "outputs": [],
   "source": [
    "import requests\n",
    "import json\n",
    "from Final_Authentication_keys import BLS_api_key\n",
    "\n",
    "\n",
    "url = \"https://api.bls.gov/publicAPI/v2/timeseries/data/\"\n",
    "\n",
    "series_id = \"CES0000000001\"  # All Employees, Thousands, Total Nonfarm\n",
    "\n",
    "start_year = 2022\n",
    "end_year = 2022\n",
    "\n",
    "params = {\n",
    "    \"seriesid\": [series_id],\n",
    "    \"startyear\": start_year,\n",
    "    \"endyear\": end_year,\n",
    "    \"registrationkey\": BLS_api_key\n",
    "}\n",
    "\n",
    "headers = {\n",
    "    \"Content-Type\": \"application/json\"\n",
    "}\n",
    "\n",
    "response = requests.post(url, data=json.dumps(params), headers=headers)\n",
    "\n",
    "if response.status_code == 200:\n",
    "    with open(\"bls_employment_data.json\", \"w\") as outfile:\n",
    "        json.dump(response.json(), outfile)\n",
    "else:\n",
    "    print(f\"Request failed with status code {response.status_code}\")\n"
   ]
  },
  {
   "cell_type": "code",
   "execution_count": 31,
   "id": "e4ecd706",
   "metadata": {},
   "outputs": [],
   "source": [
    "import json\n",
    "import csv\n",
    "\n",
    "# Load the JSON data\n",
    "with open(\"bls_employment_data.json\", \"r\") as infile:\n",
    "    data = json.load(infile)\n",
    "\n",
    "# Extract the series data\n",
    "series_data = data[\"Results\"][\"series\"][0][\"data\"]\n",
    "\n",
    "# Create a CSV file\n",
    "with open(\"bls_employment_data.csv\", \"w\", newline=\"\") as csvfile:\n",
    "    fieldnames = [\"year\", \"period_name\", \"value\"]\n",
    "    writer = csv.DictWriter(csvfile, fieldnames=fieldnames)\n",
    "\n",
    "    # Write the header\n",
    "    writer.writeheader()\n",
    "\n",
    "    # Write the rows\n",
    "    for item in series_data:\n",
    "        writer.writerow({\n",
    "            \"year\": item[\"year\"],\n",
    "            \"period_name\": item[\"periodName\"],\n",
    "            \"value\": item[\"value\"]\n",
    "        })\n"
   ]
  },
  {
   "cell_type": "code",
   "execution_count": null,
   "id": "0b6489cc",
   "metadata": {},
   "outputs": [],
   "source": [
    "## Sorry, I need more time to figure them out then answer the #3.4 and #3.5, absolutely I did not save all data I need."
   ]
  }
 ],
 "metadata": {
  "kernelspec": {
   "display_name": "Python 3 (ipykernel)",
   "language": "python",
   "name": "python3"
  },
  "language_info": {
   "codemirror_mode": {
    "name": "ipython",
    "version": 3
   },
   "file_extension": ".py",
   "mimetype": "text/x-python",
   "name": "python",
   "nbconvert_exporter": "python",
   "pygments_lexer": "ipython3",
   "version": "3.10.9"
  }
 },
 "nbformat": 4,
 "nbformat_minor": 5
}
