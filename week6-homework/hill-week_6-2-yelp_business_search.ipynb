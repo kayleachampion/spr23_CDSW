{
 "cells": [
  {
   "cell_type": "code",
   "execution_count": 1,
   "id": "1159b2ec",
   "metadata": {},
   "outputs": [],
   "source": [
    "from yelpapi import YelpAPI\n",
    "import json"
   ]
  },
  {
   "cell_type": "code",
   "execution_count": 2,
   "id": "a220cd3a",
   "metadata": {},
   "outputs": [],
   "source": [
    "# now we need to import the APIKEY\n",
    "from yelp_authentication import APIKEY"
   ]
  },
  {
   "cell_type": "code",
   "execution_count": 3,
   "id": "89d88430",
   "metadata": {},
   "outputs": [],
   "source": [
    "# this is same the code as before, but just converted to python arguments!\n",
    "with YelpAPI(APIKEY) as yelp_api:\n",
    "    search_results = yelp_api.search_query(term='stationary',\n",
    "                    limit=50, radius=10000, location = 'New York City')"
   ]
  },
  {
   "cell_type": "code",
   "execution_count": 4,
   "id": "fa7ddb62",
   "metadata": {},
   "outputs": [
    {
     "name": "stdout",
     "output_type": "stream",
     "text": [
      "Goods for the Study's rating is 4.0\n",
      "Kinokuniya Bookstore - New York's rating is 4.5\n",
      "Yoseka Stationery's rating is 5.0\n",
      "UNI 28's rating is 5.0\n",
      "Paper Source's rating is 4.0\n",
      "Niconeco Zakkaya's rating is 5.0\n",
      "Greenwich Letterpress's rating is 4.0\n",
      "McNally Jackson Store's rating is 4.0\n",
      "Essex Card Shop's rating is 4.5\n",
      "Koryo Bookstore's rating is 4.0\n",
      "Goods For The Study's rating is 3.5\n",
      "Yours Truly, Brooklyn's rating is 5.0\n",
      "Bowne & Co Stationers's rating is 4.5\n",
      "Pink Olive's rating is 4.5\n",
      "Bluestockings's rating is 4.5\n",
      "City Papery's rating is 3.5\n",
      "Boyar Gifts's rating is 4.5\n",
      "Paper Source's rating is 4.0\n",
      "Cornershop - Brooklyn's rating is 4.5\n",
      "Usagi NY's rating is 4.5\n",
      "Exit 9 Gift Emporium's rating is 4.0\n",
      "Sesame Letterpress's rating is 5.0\n",
      "Measure Twice's rating is 5.0\n",
      "Red Pearl's rating is 3.5\n",
      "Good Field Trading Company's rating is 4.0\n",
      "Pink Olive's rating is 4.5\n",
      "MUJI's rating is 3.5\n",
      "Spoonbill & Sugartown Booksellers's rating is 3.5\n",
      "Casey Rubber Stamps's rating is 4.5\n",
      "McNally Jackson's rating is 4.5\n",
      "Annie's Blue Ribbon General Store's rating is 4.5\n",
      "New University Pen And Stationery's rating is 2.5\n",
      "Delphinium Home's rating is 4.5\n",
      "Bookoff - New York's rating is 4.0\n",
      "Quimby's Bookstore NYC's rating is 5.0\n",
      "Burson & Reynolds's rating is 4.0\n",
      "Stevdan Stationers's rating is 4.0\n",
      "Rumi's rating is 4.5\n",
      "Exit 9 Gift Emporium's rating is 4.0\n",
      "Elizabeth Center Gift Shops's rating is 3.5\n",
      "PIQ's rating is 4.0\n",
      "Strand Bookstore's rating is 4.5\n",
      "Ipanema Press's rating is 5.0\n",
      "Line Friends's rating is 4.5\n",
      "The Modern Chemist - DOMINO's rating is 3.5\n",
      "Phil's Stationery's rating is 4.5\n",
      "WORD's rating is 4.5\n",
      "Greenlight Bookstore's rating is 4.0\n",
      "Green in BKLYN's rating is 4.5\n",
      "Paper Source's rating is 4.0\n"
     ]
    }
   ],
   "source": [
    "# once again... For each business, print \"STORENAME's rating is RATING\" using \"id\" and \"rating\" of each business from above\n",
    "for business in search_results[\"businesses\"]:\n",
    "    print(f\"{business['name']}\\'s rating is {business['rating']}\")"
   ]
  },
  {
   "cell_type": "code",
   "execution_count": 5,
   "id": "88e5c716",
   "metadata": {},
   "outputs": [],
   "source": [
    "yelp_api.close()"
   ]
  },
  {
   "cell_type": "code",
   "execution_count": 6,
   "id": "61e86a33",
   "metadata": {},
   "outputs": [],
   "source": [
    "with open('yelp_data-20230508.json', 'w') as output_file:\n",
    "    print(json.dumps(search_results), file=output_file)"
   ]
  }
 ],
 "metadata": {
  "kernelspec": {
   "display_name": "Python 3 (ipykernel)",
   "language": "python",
   "name": "python3"
  },
  "language_info": {
   "codemirror_mode": {
    "name": "ipython",
    "version": 3
   },
   "file_extension": ".py",
   "mimetype": "text/x-python",
   "name": "python",
   "nbconvert_exporter": "python",
   "pygments_lexer": "ipython3",
   "version": "3.11.2"
  }
 },
 "nbformat": 4,
 "nbformat_minor": 5
}
