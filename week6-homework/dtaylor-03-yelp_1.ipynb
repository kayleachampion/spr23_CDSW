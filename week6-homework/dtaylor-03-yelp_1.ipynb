{
 "cells": [
  {
   "cell_type": "markdown",
   "id": "f79a25c9",
   "metadata": {},
   "source": [
    "# 2 - Yelp API"
   ]
  },
  {
   "cell_type": "code",
   "execution_count": 5,
   "id": "a246f07d",
   "metadata": {},
   "outputs": [],
   "source": [
    "# 2.2 - install yelp module"
   ]
  },
  {
   "cell_type": "code",
   "execution_count": 6,
   "id": "53feae4a",
   "metadata": {},
   "outputs": [
    {
     "name": "stdout",
     "output_type": "stream",
     "text": [
      "Requirement already satisfied: yelpapi in /Users/dionnataylor/anaconda3/lib/python3.10/site-packages (2.5.0)\n",
      "Requirement already satisfied: requests in /Users/dionnataylor/anaconda3/lib/python3.10/site-packages (from yelpapi) (2.28.1)\n",
      "Requirement already satisfied: certifi>=2017.4.17 in /Users/dionnataylor/anaconda3/lib/python3.10/site-packages (from requests->yelpapi) (2022.12.7)\n",
      "Requirement already satisfied: idna<4,>=2.5 in /Users/dionnataylor/anaconda3/lib/python3.10/site-packages (from requests->yelpapi) (3.4)\n",
      "Requirement already satisfied: charset-normalizer<3,>=2 in /Users/dionnataylor/anaconda3/lib/python3.10/site-packages (from requests->yelpapi) (2.0.4)\n",
      "Requirement already satisfied: urllib3<1.27,>=1.21.1 in /Users/dionnataylor/anaconda3/lib/python3.10/site-packages (from requests->yelpapi) (1.26.14)\n",
      "Note: you may need to restart the kernel to use updated packages.\n"
     ]
    }
   ],
   "source": [
    "pip install yelpapi"
   ]
  },
  {
   "cell_type": "code",
   "execution_count": 8,
   "id": "cc83fcef",
   "metadata": {},
   "outputs": [],
   "source": [
    "from yelpapi import YelpAPI"
   ]
  },
  {
   "cell_type": "code",
   "execution_count": 9,
   "id": "d4a700b2",
   "metadata": {},
   "outputs": [],
   "source": [
    "# 2.3 - store key in separate .py file"
   ]
  },
  {
   "cell_type": "code",
   "execution_count": 10,
   "id": "f494b8cc",
   "metadata": {},
   "outputs": [],
   "source": [
    "from yelp_authentication import APIKEY"
   ]
  },
  {
   "cell_type": "code",
   "execution_count": 11,
   "id": "b5cdb1cc",
   "metadata": {},
   "outputs": [],
   "source": [
    "# 2.4 - 50 businesses "
   ]
  },
  {
   "cell_type": "code",
   "execution_count": 12,
   "id": "e8212ae9",
   "metadata": {},
   "outputs": [],
   "source": [
    "with YelpAPI(APIKEY) as yelp_api:\n",
    "    search_results = yelp_api.search_query(term='bookstore',\n",
    "                    limit=50, radius=10000, location = 'Seattle')"
   ]
  },
  {
   "cell_type": "code",
   "execution_count": 13,
   "id": "1907b633",
   "metadata": {},
   "outputs": [
    {
     "name": "stdout",
     "output_type": "stream",
     "text": [
      "The Elliott Bay Book Company\n",
      "Left Bank Books Collective\n",
      "Kinokuniya Bookstore - Seattle\n",
      "Twice Sold Tales\n",
      "Lion Heart Book Store\n",
      "Ada's Technical Books and Cafe\n",
      "Magus Books\n",
      "Lamplight Books\n",
      "BLMF Literary Saloon\n",
      "The Globe Bookstore\n",
      "Mercer Street Books\n",
      "Arundel Books\n",
      "Ophelia's Books\n",
      "White Horse Tavern\n",
      "Queen Anne Book Company\n",
      "Third Place Books\n",
      "Quest Bookshop\n",
      "Nook & Cranny Books\n",
      "Phinney Books\n",
      "Book Larder\n",
      "Horizon Books\n",
      "University Book Store\n",
      "Drink Books\n",
      "Big Little News\n",
      "Third Place Books - Seward Park\n",
      "Metsker Maps\n",
      "Pegasus Book Exchange\n",
      "Madison Books\n",
      "Secret Garden Bookshop\n",
      "Open Books: A Poem Emporium\n",
      "Estelita's Library\n",
      "Edge of the Circle Books\n",
      "Paper Boat Booksellers\n",
      "Laughing Elephant\n",
      "Phantom Quartz\n",
      "Peter Miller Architecture and Design Books\n",
      "The Wise Owl Books and Music\n",
      "Twice Sold Tales\n",
      "FriendShop in The Seattle Public Library\n",
      "Gambia International\n",
      "Phoenix Comics and Games\n",
      "Couth Buzzard Books Espresso Buono\n",
      "Magnolia's Bookstore\n",
      "Bulldog News\n",
      "Silver Platters\n",
      "Jive Time Records\n",
      "Empire Roasters & Records\n",
      "Continent Books & Music - Russian language bookstore\n",
      "Archie McPhee\n",
      "Seattle University Campus Store\n"
     ]
    }
   ],
   "source": [
    "for business in search_results[\"businesses\"]:\n",
    "    print(f\"{business['name']}\")"
   ]
  },
  {
   "cell_type": "code",
   "execution_count": null,
   "id": "43c90e97",
   "metadata": {},
   "outputs": [],
   "source": [
    "# 2.5 - saving raw output to json"
   ]
  },
  {
   "cell_type": "code",
   "execution_count": 15,
   "id": "03fd969d",
   "metadata": {},
   "outputs": [],
   "source": [
    "import json"
   ]
  },
  {
   "cell_type": "code",
   "execution_count": 16,
   "id": "4d79f723",
   "metadata": {},
   "outputs": [],
   "source": [
    "with open(\"seattle_bookstores.json\", 'w') as my_file:\n",
    "    data_string = json.dumps(search_results) \n",
    "    print(data_string, file=my_file)"
   ]
  },
  {
   "cell_type": "code",
   "execution_count": null,
   "id": "98ac0f0a",
   "metadata": {},
   "outputs": [],
   "source": []
  }
 ],
 "metadata": {
  "kernelspec": {
   "display_name": "Python 3 (ipykernel)",
   "language": "python",
   "name": "python3"
  },
  "language_info": {
   "codemirror_mode": {
    "name": "ipython",
    "version": 3
   },
   "file_extension": ".py",
   "mimetype": "text/x-python",
   "name": "python",
   "nbconvert_exporter": "python",
   "pygments_lexer": "ipython3",
   "version": "3.10.9"
  }
 },
 "nbformat": 4,
 "nbformat_minor": 5
}
