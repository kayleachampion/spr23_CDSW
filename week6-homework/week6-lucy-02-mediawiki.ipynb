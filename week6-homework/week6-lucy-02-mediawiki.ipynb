{
 "cells": [
  {
   "cell_type": "code",
   "execution_count": 63,
   "id": "772bb5b9",
   "metadata": {},
   "outputs": [],
   "source": [
    "import json"
   ]
  },
  {
   "cell_type": "code",
   "execution_count": 64,
   "id": "b054a46e",
   "metadata": {},
   "outputs": [],
   "source": [
    "with open(\"HPwikipedia_revision_data.json\", 'r') as wikipedia_file:\n",
    "    wikipedia_data = wikipedia_file.read() "
   ]
  },
  {
   "cell_type": "code",
   "execution_count": 65,
   "id": "6f7795bb",
   "metadata": {},
   "outputs": [],
   "source": [
    "data = json.loads(wikipedia_data)"
   ]
  },
  {
   "cell_type": "code",
   "execution_count": 73,
   "id": "6516aeab",
   "metadata": {},
   "outputs": [],
   "source": [
    "Wikipedia_pages = [\"harry_potter_and_the_philosopher's_stone\", \n",
    "                    \"harry_potter_and_the_chamber_of_secrets\", \n",
    "                    \"harry_potter_and_the_cursed_child\", \n",
    "                    \"harry_potter_and_the_order_of_the_phoenix \", \n",
    "                    \"harry_potter_and_the_goblet_of_fire\"]"
   ]
  },
  {
   "cell_type": "code",
   "execution_count": 46,
   "id": "25cfb0e8",
   "metadata": {},
   "outputs": [
    {
     "data": {
      "text/plain": [
       "[{'batchcomplete': '',\n",
       "  'query': {'normalized': [{'from': \"harry_potter_and_the_philosopher's_stone\",\n",
       "     'to': \"Harry potter and the philosopher's stone\"}],\n",
       "   'pages': {'1870283': {'pageid': 1870283,\n",
       "     'ns': 0,\n",
       "     'title': \"Harry potter and the philosopher's stone\",\n",
       "     'revisions': [{'revid': 175057329,\n",
       "       'parentid': 17507363,\n",
       "       'minor': '',\n",
       "       'user': 'BOTijo',\n",
       "       'timestamp': '2007-12-01T14:40:09Z',\n",
       "       'size': 86},\n",
       "      {'revid': 17507363,\n",
       "       'parentid': 0,\n",
       "       'user': 'Stevey7788',\n",
       "       'timestamp': '2005-05-11T06:38:03Z',\n",
       "       'size': 54}]}}}},\n",
       " {'batchcomplete': '',\n",
       "  'query': {'normalized': [{'from': 'harry_potter_and_the_chamber_of_secrets',\n",
       "     'to': 'Harry potter and the chamber of secrets'}],\n",
       "   'pages': {'1870274': {'pageid': 1870274,\n",
       "     'ns': 0,\n",
       "     'title': 'Harry potter and the chamber of secrets',\n",
       "     'revisions': [{'revid': 175057311,\n",
       "       'parentid': 17507354,\n",
       "       'minor': '',\n",
       "       'user': 'BOTijo',\n",
       "       'timestamp': '2007-12-01T14:40:04Z',\n",
       "       'size': 85},\n",
       "      {'revid': 17507354,\n",
       "       'parentid': 0,\n",
       "       'user': 'Stevey7788',\n",
       "       'timestamp': '2005-05-11T06:35:51Z',\n",
       "       'size': 53}]}}}},\n",
       " {'batchcomplete': '',\n",
       "  'query': {'normalized': [{'from': 'harry_potter_and_the_cursed_child',\n",
       "     'to': 'Harry potter and the cursed child'}],\n",
       "   'pages': {'-1': {'ns': 0,\n",
       "     'title': 'Harry potter and the cursed child',\n",
       "     'missing': ''}}}},\n",
       " {'batchcomplete': '',\n",
       "  'query': {'normalized': [{'from': 'harry_potter_and_the_order_of_the_phoenix ',\n",
       "     'to': 'Harry potter and the order of the phoenix'}],\n",
       "   'pages': {'1870263': {'pageid': 1870263,\n",
       "     'ns': 0,\n",
       "     'title': 'Harry potter and the order of the phoenix',\n",
       "     'revisions': [{'revid': 175057324,\n",
       "       'parentid': 17507343,\n",
       "       'minor': '',\n",
       "       'user': 'BOTijo',\n",
       "       'timestamp': '2007-12-01T14:40:08Z',\n",
       "       'size': 87},\n",
       "      {'revid': 17507343,\n",
       "       'parentid': 0,\n",
       "       'user': 'Stevey7788',\n",
       "       'timestamp': '2005-05-11T06:31:43Z',\n",
       "       'size': 55}]}}}},\n",
       " {'batchcomplete': '',\n",
       "  'query': {'normalized': [{'from': 'harry_potter_and_the_goblet_of_fire',\n",
       "     'to': 'Harry potter and the goblet of fire'}],\n",
       "   'pages': {'1870276': {'pageid': 1870276,\n",
       "     'ns': 0,\n",
       "     'title': 'Harry potter and the goblet of fire',\n",
       "     'revisions': [{'revid': 175057318,\n",
       "       'parentid': 17507356,\n",
       "       'minor': '',\n",
       "       'user': 'BOTijo',\n",
       "       'timestamp': '2007-12-01T14:40:06Z',\n",
       "       'size': 81},\n",
       "      {'revid': 17507356,\n",
       "       'parentid': 0,\n",
       "       'user': 'Stevey7788',\n",
       "       'timestamp': '2005-05-11T06:36:23Z',\n",
       "       'size': 49}]}}}}]"
      ]
     },
     "execution_count": 46,
     "metadata": {},
     "output_type": "execute_result"
    }
   ],
   "source": [
    "data"
   ]
  },
  {
   "cell_type": "code",
   "execution_count": 76,
   "id": "b365d882",
   "metadata": {
    "scrolled": true
   },
   "outputs": [
    {
     "data": {
      "text/plain": [
       "list"
      ]
     },
     "execution_count": 76,
     "metadata": {},
     "output_type": "execute_result"
    }
   ],
   "source": [
    "type(data)"
   ]
  },
  {
   "cell_type": "code",
   "execution_count": 77,
   "id": "d7543988",
   "metadata": {},
   "outputs": [
    {
     "ename": "KeyError",
     "evalue": "'revisions'",
     "output_type": "error",
     "traceback": [
      "\u001b[1;31m---------------------------------------------------------------------------\u001b[0m",
      "\u001b[1;31mKeyError\u001b[0m                                  Traceback (most recent call last)",
      "Cell \u001b[1;32mIn[77], line 7\u001b[0m\n\u001b[0;32m      5\u001b[0m     \u001b[38;5;28;01mfor\u001b[39;00m page_id, page_data \u001b[38;5;129;01min\u001b[39;00m page_info\u001b[38;5;241m.\u001b[39mitems():\n\u001b[0;32m      6\u001b[0m         title \u001b[38;5;241m=\u001b[39m page_data[\u001b[38;5;124m'\u001b[39m\u001b[38;5;124mtitle\u001b[39m\u001b[38;5;124m'\u001b[39m]\n\u001b[1;32m----> 7\u001b[0m         revisions \u001b[38;5;241m=\u001b[39m \u001b[43mpage_data\u001b[49m\u001b[43m[\u001b[49m\u001b[38;5;124;43m'\u001b[39;49m\u001b[38;5;124;43mrevisions\u001b[39;49m\u001b[38;5;124;43m'\u001b[39;49m\u001b[43m]\u001b[49m\n\u001b[0;32m      9\u001b[0m         cleaned_data[title] \u001b[38;5;241m=\u001b[39m {\n\u001b[0;32m     10\u001b[0m             \u001b[38;5;124m'\u001b[39m\u001b[38;5;124mpageid\u001b[39m\u001b[38;5;124m'\u001b[39m: page_id,\n\u001b[0;32m     11\u001b[0m             \u001b[38;5;124m'\u001b[39m\u001b[38;5;124mrevisions\u001b[39m\u001b[38;5;124m'\u001b[39m: revisions\n\u001b[0;32m     12\u001b[0m         }\n\u001b[0;32m     14\u001b[0m \u001b[38;5;28mprint\u001b[39m(cleaned_data)\n",
      "\u001b[1;31mKeyError\u001b[0m: 'revisions'"
     ]
    }
   ],
   "source": [
    "cleaned_data = {}\n",
    "\n",
    "for article in data:\n",
    "    page_info = article['query']['pages']\n",
    "    for page_id, page_data in page_info.items():\n",
    "        title = page_data['title']\n",
    "        revisions = page_data['revisions']\n",
    "        \n",
    "        cleaned_data[title] = {\n",
    "            'pageid': page_id,\n",
    "            'revisions': revisions\n",
    "        }\n",
    "\n",
    "print(cleaned_data)"
   ]
  },
  {
   "cell_type": "code",
   "execution_count": null,
   "id": "59ae919c",
   "metadata": {},
   "outputs": [],
   "source": []
  },
  {
   "cell_type": "code",
   "execution_count": null,
   "id": "6974d87d",
   "metadata": {},
   "outputs": [],
   "source": []
  },
  {
   "cell_type": "code",
   "execution_count": 78,
   "id": "e87385dd",
   "metadata": {},
   "outputs": [],
   "source": [
    "with open(\"HPWIKI_edits_by_day.tsv\", \"w\", encoding='utf-8') as output_file:\n",
    "    print(\"date\\tedits\", file=output_file)\n",
    "\n",
    "    for day_string in fandom_edits_by_day.keys():\n",
    "        print(\"\\t\".join([day_string, str(edits_by_day[day_string])]), file=output_file)"
   ]
  },
  {
   "cell_type": "code",
   "execution_count": 79,
   "id": "cf7830de",
   "metadata": {},
   "outputs": [
    {
     "data": {
      "text/plain": [
       "85"
      ]
     },
     "execution_count": 79,
     "metadata": {},
     "output_type": "execute_result"
    }
   ],
   "source": [
    "revisions[0]['size']"
   ]
  },
  {
   "cell_type": "code",
   "execution_count": null,
   "id": "53a35c89",
   "metadata": {},
   "outputs": [],
   "source": [
    "import requests\n",
    "import json\n",
    "import matplotlib.pyplot as plt\n",
    "\n",
    "# Wikipedia API endpoint and parameters\n",
    "wiki_url = \"https://en.wikipedia.org/w/api.php\"\n",
    "wiki_params = {\n",
    "    \"action\": \"query\",\n",
    "    \"prop\": \"revisions\",\n",
    "    \"titles\": \"Naruto, Naruto Uzumaki, Sasuke Uchiha, Sakura Haruno, Kakashi Hatake\",\n",
    "    \"rvprop\": \"user|userid|comment|size|tags|timestamp|flags\",\n",
    "    \"rvlimit\": \"max\",\n",
    "    \"format\": \"json\"\n",
    "}\n",
    "\n",
    "# Fandom API endpoint and parameters\n",
    "fandom_url = \"https://example.fandom.com/api.php\"\n",
    "fandom_params = {\n",
    "    \"action\": \"query\",\n",
    "    \"prop\": \"revisions\",\n",
    "    \"titles\": \"Article1, Article2, Article3, Article4, Article5\",\n",
    "    \"rvprop\": \"user|userid|comment|size|tags|timestamp|flags\",\n",
    "    \"rvlimit\": \"max\",\n",
    "    \"format\": \"json\"\n",
    "}\n",
    "\n",
    "# Make the Wikipedia API call\n",
    "wiki_response = requests.get(wiki_url, params=wiki_params)\n",
    "\n",
    "# Check if the request was successful (status code 200)\n",
    "if wiki_response.status_code == 200:\n",
    "    # Parse the response as JSON\n",
    "    wiki_data = json.loads(wiki_response.content)\n",
    "\n",
    "    # Calculate the total number of edits\n",
    "    total_edits = 0\n",
    "    anon_edits = 0\n",
    "    minor_edits = 0\n",
    "\n",
    "    for page in wiki_data[\"query\"][\"pages\"].values():\n",
    "        for revision in page[\"revisions\"]:\n",
    "            total_edits += 1\n",
    "            if \"anon\" in revision:\n",
    "                anon_edits += 1\n",
    "            if \"minor\" in revision[\"flags\"]:\n",
    "                minor_edits += 1\n",
    "\n",
    "    # Calculate the proportions\n",
    "    anon_proportion = anon_edits / total_edits\n",
    "    minor_proportion = minor_edits / total_edits\n",
    "\n",
    "    # Print the results\n",
    "    print(\"Wikipedia revisions:\")\n",
    "    print(\"Proportion of anon edits:\", anon_proportion)\n",
    "    print(\"Proportion of minor edits:\", minor_proportion)\n",
    "\n",
    "    # Visualize the total number of edits over time\n",
    "    revisions_by_date = {}\n",
    "    for page in wiki_data[\"query\"][\"pages\"].values():\n",
    "        for revision in page[\"revisions\"]:\n",
    "            date = revision[\"timestamp\"][:10]\n",
    "            if date not in revisions_by_date:\n",
    "                revisions_by_date[date] = 0\n",
    "            revisions_by_date[date] += 1\n",
    "\n",
    "    dates = list(revisions_by_date.keys())\n",
    "    dates.sort()\n",
    "    edits_by_date = [revisions_by_date[date] for date in dates]\n",
    "\n",
    "    plt.plot(dates, edits_by_date)\n",
    "    plt.xlabel(\"Date\")\n",
    "    plt.ylabel(\"Number of edits\")\n",
    "    plt.title(\"Wikipedia revisions over time\")\n",
    "    plt.show()\n",
    "else:\n",
    "    print(\"Wikipedia API request failed with status code\", wiki_response.status_code)\n"
   ]
  }
 ],
 "metadata": {
  "kernelspec": {
   "display_name": "Python 3 (ipykernel)",
   "language": "python",
   "name": "python3"
  },
  "language_info": {
   "codemirror_mode": {
    "name": "ipython",
    "version": 3
   },
   "file_extension": ".py",
   "mimetype": "text/x-python",
   "name": "python",
   "nbconvert_exporter": "python",
   "pygments_lexer": "ipython3",
   "version": "3.10.9"
  }
 },
 "nbformat": 4,
 "nbformat_minor": 5
}
