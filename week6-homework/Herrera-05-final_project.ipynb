{
 "cells": [
  {
   "cell_type": "markdown",
   "id": "d3bdfcfb",
   "metadata": {},
   "source": [
    "What is your proposed unit of analysis? In other words, if/when you end up building something like a spreadsheet, what are rows going to represent?\n",
    "\n",
    "Numbers / Location \n",
    "\n",
    "\n"
   ]
  },
  {
   "cell_type": "markdown",
   "id": "ba99fc78",
   "metadata": {},
   "source": [
    "What specific measures associated with each unit do you want to collect? In other words, what are the columns in the spreadsheet going to be?\n",
    "\n",
    "Column Name\tDescription\n",
    "\n",
    "Property ID\tUnique identifier for each property\n",
    "Address\tStreet address of the property\n",
    "City\tCity in which the property is located\n",
    "State\tState in which the property is located\n",
    "Zip Code\tPostal code of the property\n",
    "Latitude\tLatitude coordinates of the property\n",
    "Longitude\tLongitude coordinates of the property\n",
    "Property Type\tType of property (e.g., single-family home, apartment)\n",
    "Square Footage\tTotal square footage of the property\n",
    "Number of Bedrooms\tNumber of bedrooms in the property\n",
    "Number of Bathrooms\tNumber of bathrooms in the property\n",
    "Year Built\tYear the property was built\n",
    "Zestimate\tEstimated market value of the property\n",
    "Rent Zestimate\tEstimated monthly rent for the property\n",
    "Last Sold Date\tDate the property was last sold\n",
    "Last Sold Price\tPrice the property was last sold for\n",
    "Days on Zillow\tNumber of days the property has been listed on Zillow\n",
    "Views on Zillow\tNumber of views the property has received on Zillow\n",
    "Saves on Zillow\tNumber of times the property has been saved by users on Zillow\n",
    "This is just a sample structure and it can be modified based on the specific needs of your project.\n",
    "\n",
    "\n"
   ]
  },
  {
   "cell_type": "markdown",
   "id": "0a907874",
   "metadata": {},
   "source": [
    "Tell us what you've learned about the API:\n",
    "Are you going to be able to get the data you want with one API call or many? If more than one, how many?\n",
    "If it's more than one call, how will you know when you have collected all your data?\n",
    "\n",
    "From my research, it seems that the Zillow API provides a lot of valuable data for real estate analysis, such as property values, rental estimates, and sales trends. However, it does appear that in order to get a complete picture of a specific property or area, it may require multiple API calls to collect all the necessary data.\n",
    "\n",
    "For example, if I want to get information on a specific property's value, it may require multiple API calls to get information on the property's history, comparable properties in the area, and any recent sales in the neighborhood. Additionally, if I want to gather data on multiple properties in a given area, it may require even more API calls.\n",
    "\n",
    "To keep track of the data that I have collected, I would likely use some form of data management tool or database to store the results of each API call. This would allow me to easily compare and analyze the data, and also ensure that I don't miss any important information.\n",
    "\n",
    "Overall, while the Zillow API does provide a lot of valuable data, it does require some effort to collect all the necessary information. However, with proper planning and data management, I believe it can be a useful resource for real estate analysis.\n"
   ]
  },
  {
   "cell_type": "code",
   "execution_count": null,
   "id": "a2a0d5fc",
   "metadata": {},
   "outputs": [],
   "source": []
  }
 ],
 "metadata": {
  "kernelspec": {
   "display_name": "Python 3 (ipykernel)",
   "language": "python",
   "name": "python3"
  },
  "language_info": {
   "codemirror_mode": {
    "name": "ipython",
    "version": 3
   },
   "file_extension": ".py",
   "mimetype": "text/x-python",
   "name": "python",
   "nbconvert_exporter": "python",
   "pygments_lexer": "ipython3",
   "version": "3.10.9"
  }
 },
 "nbformat": 4,
 "nbformat_minor": 5
}
