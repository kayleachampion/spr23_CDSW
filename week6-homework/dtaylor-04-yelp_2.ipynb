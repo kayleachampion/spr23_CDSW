{
 "cells": [
  {
   "cell_type": "code",
   "execution_count": 1,
   "id": "f203d60e",
   "metadata": {},
   "outputs": [],
   "source": [
    "# 2.6 - output file"
   ]
  },
  {
   "cell_type": "code",
   "execution_count": 2,
   "id": "a076673c",
   "metadata": {},
   "outputs": [],
   "source": [
    "import json"
   ]
  },
  {
   "cell_type": "code",
   "execution_count": 3,
   "id": "ec1c67ad",
   "metadata": {},
   "outputs": [],
   "source": [
    "with open(\"seattle_bookstores.json\", 'r') as input_file:\n",
    "    input_data = input_file.read() "
   ]
  },
  {
   "cell_type": "code",
   "execution_count": 4,
   "id": "0df3b69f",
   "metadata": {},
   "outputs": [],
   "source": [
    "new_data = json.loads(input_data)"
   ]
  },
  {
   "cell_type": "code",
   "execution_count": 5,
   "id": "7c1d422c",
   "metadata": {},
   "outputs": [
    {
     "data": {
      "text/plain": [
       "'The Elliott Bay Book Company'"
      ]
     },
     "execution_count": 5,
     "metadata": {},
     "output_type": "execute_result"
    }
   ],
   "source": [
    "new_data['businesses'][0]['name']"
   ]
  },
  {
   "cell_type": "code",
   "execution_count": 6,
   "id": "f658ef4d",
   "metadata": {},
   "outputs": [
    {
     "data": {
      "text/plain": [
       "4.5"
      ]
     },
     "execution_count": 6,
     "metadata": {},
     "output_type": "execute_result"
    }
   ],
   "source": [
    "new_data['businesses'][0]['rating']"
   ]
  },
  {
   "cell_type": "code",
   "execution_count": 7,
   "id": "0b1668bd",
   "metadata": {},
   "outputs": [
    {
     "data": {
      "text/plain": [
       "641"
      ]
     },
     "execution_count": 7,
     "metadata": {},
     "output_type": "execute_result"
    }
   ],
   "source": [
    "new_data['businesses'][0]['review_count']"
   ]
  },
  {
   "cell_type": "code",
   "execution_count": 8,
   "id": "be9ecdf0",
   "metadata": {},
   "outputs": [
    {
     "data": {
      "text/plain": [
       "'+12066246600'"
      ]
     },
     "execution_count": 8,
     "metadata": {},
     "output_type": "execute_result"
    }
   ],
   "source": [
    "new_data['businesses'][0]['phone']"
   ]
  },
  {
   "cell_type": "code",
   "execution_count": 9,
   "id": "cc8e6901",
   "metadata": {},
   "outputs": [
    {
     "data": {
      "text/plain": [
       "{'id': '2kyC2EM-YHkhrG-0JWmTHA',\n",
       " 'alias': 'the-elliott-bay-book-company-seattle',\n",
       " 'name': 'The Elliott Bay Book Company',\n",
       " 'image_url': 'https://s3-media1.fl.yelpcdn.com/bphoto/RnRmW8km1Nhf3XpAVPeTng/o.jpg',\n",
       " 'is_closed': False,\n",
       " 'url': 'https://www.yelp.com/biz/the-elliott-bay-book-company-seattle?adjust_creative=ncp9cxXt3WIAtG74remX0g&utm_campaign=yelp_api_v3&utm_medium=api_v3_business_search&utm_source=ncp9cxXt3WIAtG74remX0g',\n",
       " 'review_count': 641,\n",
       " 'categories': [{'alias': 'bookstores', 'title': 'Bookstores'},\n",
       "  {'alias': 'stationery', 'title': 'Cards & Stationery'}],\n",
       " 'rating': 4.5,\n",
       " 'coordinates': {'latitude': 47.61466, 'longitude': -122.31983},\n",
       " 'transactions': [],\n",
       " 'price': '$$',\n",
       " 'location': {'address1': '1521 10th Ave',\n",
       "  'address2': '',\n",
       "  'address3': '',\n",
       "  'city': 'Seattle',\n",
       "  'zip_code': '98122',\n",
       "  'country': 'US',\n",
       "  'state': 'WA',\n",
       "  'display_address': ['1521 10th Ave', 'Seattle, WA 98122']},\n",
       " 'phone': '+12066246600',\n",
       " 'display_phone': '(206) 624-6600',\n",
       " 'distance': 767.4891647876615}"
      ]
     },
     "execution_count": 9,
     "metadata": {},
     "output_type": "execute_result"
    }
   ],
   "source": [
    "new_data['businesses'][0]"
   ]
  },
  {
   "cell_type": "code",
   "execution_count": 10,
   "id": "5a6bfa4c",
   "metadata": {},
   "outputs": [],
   "source": [
    "store_info = {}\n",
    "\n",
    "for store in new_data['businesses']:\n",
    "    store_info[store[\"name\"]] = store['rating']"
   ]
  },
  {
   "cell_type": "code",
   "execution_count": 11,
   "id": "9ad66638",
   "metadata": {},
   "outputs": [
    {
     "data": {
      "text/plain": [
       "{'The Elliott Bay Book Company': 4.5,\n",
       " 'Left Bank Books Collective': 4.5,\n",
       " 'Kinokuniya Bookstore - Seattle': 4.5,\n",
       " 'Twice Sold Tales': 4.5,\n",
       " 'Lion Heart Book Store': 5.0,\n",
       " \"Ada's Technical Books and Cafe\": 4.5,\n",
       " 'Magus Books': 4.5,\n",
       " 'Lamplight Books': 4.5,\n",
       " 'BLMF Literary Saloon': 5.0,\n",
       " 'The Globe Bookstore': 4.5,\n",
       " 'Mercer Street Books': 4.5,\n",
       " 'Arundel Books': 4.0,\n",
       " \"Ophelia's Books\": 4.5,\n",
       " 'White Horse Tavern': 4.0,\n",
       " 'Queen Anne Book Company': 4.5,\n",
       " 'Third Place Books': 4.0,\n",
       " 'Quest Bookshop': 5.0,\n",
       " 'Nook & Cranny Books': 5.0,\n",
       " 'Phinney Books': 4.5,\n",
       " 'Book Larder': 5.0,\n",
       " 'Horizon Books': 4.0,\n",
       " 'University Book Store': 4.0,\n",
       " 'Drink Books': 5.0,\n",
       " 'Big Little News': 5.0,\n",
       " 'Third Place Books - Seward Park': 4.5,\n",
       " 'Metsker Maps': 5.0,\n",
       " 'Pegasus Book Exchange': 4.5,\n",
       " 'Madison Books': 5.0,\n",
       " 'Secret Garden Bookshop': 4.0,\n",
       " 'Open Books: A Poem Emporium': 5.0,\n",
       " \"Estelita's Library\": 5.0,\n",
       " 'Edge of the Circle Books': 4.5,\n",
       " 'Paper Boat Booksellers': 5.0,\n",
       " 'Laughing Elephant': 5.0,\n",
       " 'Phantom Quartz': 5.0,\n",
       " 'Peter Miller Architecture and Design Books': 4.0,\n",
       " 'The Wise Owl Books and Music': 5.0,\n",
       " 'FriendShop in The Seattle Public Library': 4.0,\n",
       " 'Gambia International': 4.0,\n",
       " 'Phoenix Comics and Games': 4.5,\n",
       " 'Couth Buzzard Books Espresso Buono': 4.0,\n",
       " \"Magnolia's Bookstore\": 4.5,\n",
       " 'Bulldog News': 4.5,\n",
       " 'Silver Platters': 4.0,\n",
       " 'Jive Time Records': 4.5,\n",
       " 'Empire Roasters & Records': 4.5,\n",
       " 'Continent Books & Music - Russian language bookstore': 5.0,\n",
       " 'Archie McPhee': 4.5,\n",
       " 'Seattle University Campus Store': 3.5}"
      ]
     },
     "execution_count": 11,
     "metadata": {},
     "output_type": "execute_result"
    }
   ],
   "source": [
    "store_info"
   ]
  },
  {
   "cell_type": "code",
   "execution_count": 12,
   "id": "8b8edf79",
   "metadata": {},
   "outputs": [],
   "source": [
    "with open('store_info.tsv', 'w') as output_file:\n",
    "    print(\"bookstore\\taverage rating\\tnumber of reviews\\tphone number\\tprice\", file=output_file)\n",
    "    for store in new_data['businesses']:\n",
    "        print(f\"{store['name']}\\t{store['rating']}\\t{store['review_count']}\\t{store['phone']}\\t{store.get('price', 'N/A')}\", file=output_file)"
   ]
  },
  {
   "cell_type": "code",
   "execution_count": 13,
   "id": "f462edc9",
   "metadata": {},
   "outputs": [
    {
     "name": "stdout",
     "output_type": "stream",
     "text": [
      "https://docs.google.com/spreadsheets/d/13iPAsbdhiM_zaqEpae982H8sSERClXzOrBVbdmtyKKc/edit?usp=sharing\n"
     ]
    }
   ],
   "source": [
    "print(\"https://docs.google.com/spreadsheets/d/13iPAsbdhiM_zaqEpae982H8sSERClXzOrBVbdmtyKKc/edit?usp=sharing\")"
   ]
  },
  {
   "cell_type": "code",
   "execution_count": null,
   "id": "079176ae",
   "metadata": {},
   "outputs": [],
   "source": []
  }
 ],
 "metadata": {
  "kernelspec": {
   "display_name": "Python 3 (ipykernel)",
   "language": "python",
   "name": "python3"
  },
  "language_info": {
   "codemirror_mode": {
    "name": "ipython",
    "version": 3
   },
   "file_extension": ".py",
   "mimetype": "text/x-python",
   "name": "python",
   "nbconvert_exporter": "python",
   "pygments_lexer": "ipython3",
   "version": "3.10.9"
  }
 },
 "nbformat": 4,
 "nbformat_minor": 5
}
