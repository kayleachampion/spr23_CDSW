{
 "cells": [
  {
   "cell_type": "markdown",
   "id": "e277b84c",
   "metadata": {},
   "source": [
    "#2 Yelp API\n",
    "Get set up on the Yelp Fusion API. I've put some details on how to do that on the page on a Yelp Authentication setup page which will likely be very useful!\n",
    "\n",
    "Install the yelpapi module which is online: there's both a documentation page on the the Python Package Index (PyPI) website and a Github page with some documentation. As I said in class, you can either do this by (a) opening a terminal on your system and running pip install yelpapi or you can try running pip install yelpapi in your Jupyter notebook. Reach on out teams or in open lab sessions if you run into trouble.\n",
    "\n",
    "Create a new .py file (e.g., I called mine yelp_authentication.py) in the same directory as your Yelp notebooks are using and add your API key to it. Then use the import command to use your API key in a notebook without having the key itself visible in the notebook!\n",
    "\n",
    "Once you've done this, use your yelp data collection notebook to grab a list of 50 businesses of any kind (your choice!), in any city (again, your choice!) using Yelp and the yelpapi module. This should be easy if you modify the notebook from the Community Data Science Course (Spring 2023)/Week 6 lecture.\n",
    "\n",
    "Once you have done this, add some code so that you save the \"raw\" JSON output to a .json or .jsonl file (whichever is appropriate).\n",
    "\n",
    "Now create a second notebook that opens up that file, reads the data, and outputs a TSV file with the the name of the business, the average rating, and at least three other pieces or metadata that are available in the Yelp API."
   ]
  },
  {
   "cell_type": "code",
   "execution_count": 4,
   "id": "817737e3",
   "metadata": {},
   "outputs": [
    {
     "name": "stdout",
     "output_type": "stream",
     "text": [
      "Requirement already satisfied: yelpapi in /Users/loricai/anaconda3/lib/python3.10/site-packages (2.5.0)\n",
      "Requirement already satisfied: requests in /Users/loricai/anaconda3/lib/python3.10/site-packages (from yelpapi) (2.28.1)\n",
      "Requirement already satisfied: urllib3<1.27,>=1.21.1 in /Users/loricai/anaconda3/lib/python3.10/site-packages (from requests->yelpapi) (1.26.14)\n",
      "Requirement already satisfied: charset-normalizer<3,>=2 in /Users/loricai/anaconda3/lib/python3.10/site-packages (from requests->yelpapi) (2.0.4)\n",
      "Requirement already satisfied: idna<4,>=2.5 in /Users/loricai/anaconda3/lib/python3.10/site-packages (from requests->yelpapi) (3.4)\n",
      "Requirement already satisfied: certifi>=2017.4.17 in /Users/loricai/anaconda3/lib/python3.10/site-packages (from requests->yelpapi) (2022.12.7)\n",
      "Note: you may need to restart the kernel to use updated packages.\n"
     ]
    }
   ],
   "source": [
    "pip install yelpapi"
   ]
  },
  {
   "cell_type": "code",
   "execution_count": 18,
   "id": "e2cbab21",
   "metadata": {},
   "outputs": [],
   "source": [
    "from YELP_AUTHENTICATION import APIKEY"
   ]
  },
  {
   "cell_type": "code",
   "execution_count": 20,
   "id": "682197df",
   "metadata": {},
   "outputs": [],
   "source": [
    "from yelpapi import YelpAPI\n",
    "import json\n",
    "\n",
    "yelp_api = YelpAPI(APIKEY)\n",
    "\n",
    "response = yelp_api.search_query(term='ice cream', location='seattle', limit=50)\n",
    "\n",
    "# Save the raw JSON output to a file\n",
    "with open(\"yelp_data.json\", \"w\") as json_file:\n",
    "    json.dump(response, json_file)\n"
   ]
  },
  {
   "cell_type": "code",
   "execution_count": 21,
   "id": "cd5132d9",
   "metadata": {},
   "outputs": [],
   "source": [
    "with open(\"yelp_data.jsonl\", \"w\") as jsonl_file:\n",
    "    for business in response['businesses']:\n",
    "        jsonl_file.write(json.dumps(business) + '\\n')\n"
   ]
  },
  {
   "cell_type": "code",
   "execution_count": null,
   "id": "de5b3a6a",
   "metadata": {},
   "outputs": [],
   "source": []
  }
 ],
 "metadata": {
  "kernelspec": {
   "display_name": "Python 3 (ipykernel)",
   "language": "python",
   "name": "python3"
  },
  "language_info": {
   "codemirror_mode": {
    "name": "ipython",
    "version": 3
   },
   "file_extension": ".py",
   "mimetype": "text/x-python",
   "name": "python",
   "nbconvert_exporter": "python",
   "pygments_lexer": "ipython3",
   "version": "3.10.9"
  }
 },
 "nbformat": 4,
 "nbformat_minor": 5
}
