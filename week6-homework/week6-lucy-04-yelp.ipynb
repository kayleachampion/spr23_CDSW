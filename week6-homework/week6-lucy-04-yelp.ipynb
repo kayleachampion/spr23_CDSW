{
 "cells": [
  {
   "cell_type": "code",
   "execution_count": 1,
   "id": "08419a64",
   "metadata": {},
   "outputs": [],
   "source": [
    "# 2.6 - output file"
   ]
  },
  {
   "cell_type": "code",
   "execution_count": 119,
   "id": "48cee189",
   "metadata": {},
   "outputs": [],
   "source": [
    "import json"
   ]
  },
  {
   "cell_type": "code",
   "execution_count": 120,
   "id": "56619759",
   "metadata": {},
   "outputs": [],
   "source": [
    "with open(\"seattle_hotpot.json\", 'r') as input_file:\n",
    "    input_data = input_file.read() "
   ]
  },
  {
   "cell_type": "code",
   "execution_count": 121,
   "id": "e771de57",
   "metadata": {},
   "outputs": [],
   "source": [
    "data = json.loads(input_data)"
   ]
  },
  {
   "cell_type": "code",
   "execution_count": 122,
   "id": "59571d1a",
   "metadata": {},
   "outputs": [
    {
     "data": {
      "text/plain": [
       "{'id': 'cDoFLe0IU1uc7CCPpje0oA',\n",
       " 'alias': 'chengdu-memory-seattle',\n",
       " 'name': 'Chengdu Memory',\n",
       " 'image_url': 'https://s3-media3.fl.yelpcdn.com/bphoto/CpGu9GjVC1m6OoIKYsJnsg/o.jpg',\n",
       " 'is_closed': False,\n",
       " 'url': 'https://www.yelp.com/biz/chengdu-memory-seattle?adjust_creative=8bna1UVRYP_iYX37m_qiIA&utm_campaign=yelp_api_v3&utm_medium=api_v3_business_search&utm_source=8bna1UVRYP_iYX37m_qiIA',\n",
       " 'review_count': 421,\n",
       " 'categories': [{'alias': 'hotpot', 'title': 'Hot Pot'},\n",
       "  {'alias': 'soup', 'title': 'Soup'}],\n",
       " 'rating': 4.5,\n",
       " 'coordinates': {'latitude': 47.59939, 'longitude': -122.32673},\n",
       " 'transactions': ['delivery'],\n",
       " 'price': '$$$',\n",
       " 'location': {'address1': '520 S Jackson St',\n",
       "  'address2': None,\n",
       "  'address3': '',\n",
       "  'city': 'Seattle',\n",
       "  'zip_code': '98104',\n",
       "  'country': 'US',\n",
       "  'state': 'WA',\n",
       "  'display_address': ['520 S Jackson St', 'Seattle, WA 98104']},\n",
       " 'phone': '+12066246289',\n",
       " 'display_phone': '(206) 624-6289',\n",
       " 'distance': 1682.6844182472344}"
      ]
     },
     "execution_count": 122,
     "metadata": {},
     "output_type": "execute_result"
    }
   ],
   "source": [
    "data['businesses'][0]"
   ]
  },
  {
   "cell_type": "code",
   "execution_count": 123,
   "id": "9c9422de",
   "metadata": {},
   "outputs": [
    {
     "data": {
      "text/plain": [
       "'Chengdu Memory'"
      ]
     },
     "execution_count": 123,
     "metadata": {},
     "output_type": "execute_result"
    }
   ],
   "source": [
    "data['businesses'][0]['name']"
   ]
  },
  {
   "cell_type": "code",
   "execution_count": 124,
   "id": "8f68048e",
   "metadata": {},
   "outputs": [
    {
     "data": {
      "text/plain": [
       "4.5"
      ]
     },
     "execution_count": 124,
     "metadata": {},
     "output_type": "execute_result"
    }
   ],
   "source": [
    "data['businesses'][0]['rating']"
   ]
  },
  {
   "cell_type": "code",
   "execution_count": 125,
   "id": "6cd9d837",
   "metadata": {},
   "outputs": [
    {
     "data": {
      "text/plain": [
       "421"
      ]
     },
     "execution_count": 125,
     "metadata": {},
     "output_type": "execute_result"
    }
   ],
   "source": [
    "data['businesses'][0]['review_count']"
   ]
  },
  {
   "cell_type": "code",
   "execution_count": 126,
   "id": "c02ce98f",
   "metadata": {},
   "outputs": [
    {
     "data": {
      "text/plain": [
       "'+12066246289'"
      ]
     },
     "execution_count": 126,
     "metadata": {},
     "output_type": "execute_result"
    }
   ],
   "source": [
    "data['businesses'][0]['phone']"
   ]
  },
  {
   "cell_type": "code",
   "execution_count": 127,
   "id": "e4ec811a",
   "metadata": {},
   "outputs": [
    {
     "data": {
      "text/plain": [
       "1682.6844182472344"
      ]
     },
     "execution_count": 127,
     "metadata": {},
     "output_type": "execute_result"
    }
   ],
   "source": [
    "data['businesses'][0]['distance']"
   ]
  },
  {
   "cell_type": "code",
   "execution_count": 128,
   "id": "42bf8812",
   "metadata": {},
   "outputs": [],
   "source": [
    "output_data = []\n",
    "\n",
    "for businesses in new_data[\"businesses\"]:\n",
    "    hotpot = businesses[\"name\"]\n",
    "    rating = businesses[\"rating\"]\n",
    "    number_reviews = businesses[\"review_count\"]\n",
    "    phone = businesses[\"phone\"]\n",
    "    distance = businesses[\"distance\"]\n",
    "    output_data.append([hotpot, rating, number_reviews, phone, distance])"
   ]
  },
  {
   "cell_type": "code",
   "execution_count": 130,
   "id": "1f052fd6",
   "metadata": {
    "scrolled": true
   },
   "outputs": [],
   "source": [
    "with open('seattle_hotpot_ratings.tsv', 'w', encoding='utf-8') as output_file:\n",
    "    print(\"hotpot\\taverage rating\\tnumber of reviews\\tphone\\tdistance\", file=output_file)\n",
    "    for restaurant in new_data['businesses']:\n",
    "        print(f\"{restaurant['name']}\\t{restaurant['rating']}\\t{restaurant['review_count']}\\t{restaurant['phone']}\\t{restaurant['distance']}\", file=output_file)\n"
   ]
  },
  {
   "cell_type": "code",
   "execution_count": 131,
   "id": "f2afbc71",
   "metadata": {},
   "outputs": [
    {
     "name": "stdout",
     "output_type": "stream",
     "text": [
      "https://docs.google.com/spreadsheets/d/11JroWTSNdAt15XEx52YrCLZysg4c2l5ilIia1tjBGNo/edit?usp=sharing\n"
     ]
    }
   ],
   "source": [
    "print (\"https://docs.google.com/spreadsheets/d/11JroWTSNdAt15XEx52YrCLZysg4c2l5ilIia1tjBGNo/edit?usp=sharing\")"
   ]
  },
  {
   "cell_type": "code",
   "execution_count": 103,
   "id": "e1c0b3f3",
   "metadata": {},
   "outputs": [],
   "source": []
  },
  {
   "cell_type": "code",
   "execution_count": null,
   "id": "41308b8a",
   "metadata": {},
   "outputs": [],
   "source": []
  },
  {
   "cell_type": "code",
   "execution_count": null,
   "id": "98213fed",
   "metadata": {},
   "outputs": [],
   "source": []
  }
 ],
 "metadata": {
  "kernelspec": {
   "display_name": "Python 3 (ipykernel)",
   "language": "python",
   "name": "python3"
  },
  "language_info": {
   "codemirror_mode": {
    "name": "ipython",
    "version": 3
   },
   "file_extension": ".py",
   "mimetype": "text/x-python",
   "name": "python",
   "nbconvert_exporter": "python",
   "pygments_lexer": "ipython3",
   "version": "3.10.9"
  }
 },
 "nbformat": 4,
 "nbformat_minor": 5
}
