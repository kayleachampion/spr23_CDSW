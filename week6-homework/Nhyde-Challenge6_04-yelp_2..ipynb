{
 "cells": [
  {
   "cell_type": "markdown",
   "id": "20ebb5df",
   "metadata": {},
   "source": [
    "2.6 Yelp"
   ]
  },
  {
   "cell_type": "code",
   "execution_count": 15,
   "id": "4d9c79b0",
   "metadata": {},
   "outputs": [
    {
     "name": "stdout",
     "output_type": "stream",
     "text": [
      "Serious Pie Downtown's rating is 4.0\n",
      "Rocco's's rating is 4.0\n",
      "Hot Mama's Pizza's rating is 4.0\n",
      "Dantini Pizza's rating is 4.5\n",
      "Cornelly's rating is 4.5\n",
      "Johnny Mo's Pizzeria's rating is 4.5\n",
      "Moto's rating is 4.5\n",
      "Bar Cotto's rating is 4.5\n",
      "Seattle Pizza and Bar's rating is 4.5\n",
      "Lupo's rating is 4.5\n",
      "West of Chicago Pizza Company's rating is 4.5\n",
      "Humble Pie's rating is 4.0\n",
      "Italian Family Pizza's rating is 4.0\n",
      "My Friend Derek's's rating is 5.0\n",
      "Pagliacci Pizza's rating is 4.0\n",
      "Nine Pies Pizzeria's rating is 4.5\n",
      "Kōbo Pizza's rating is 4.0\n",
      "Pizzeria La Rocca's rating is 4.5\n",
      "Blotto's rating is 4.5\n",
      "Slices's rating is 3.5\n",
      "Numero Uno Pizza's rating is 4.5\n",
      "Old Stove Brewing's rating is 4.5\n",
      "Alibi Room's rating is 4.0\n",
      "Guerilla Pizza Kitchen's rating is 5.0\n",
      "The Independent Pizzeria's rating is 4.0\n",
      "Via Tribunali - Capitol Hill's rating is 4.0\n",
      "Razzís Pizzería's rating is 4.0\n",
      "Varlamos Pizzeria's rating is 4.0\n",
      "Windy City Pie's rating is 4.0\n",
      "Sunny Hill's rating is 4.5\n",
      "Breezy Town Pizza's rating is 4.0\n",
      "Zeeks Pizza's rating is 3.5\n",
      "Romio's Pizza Pub's rating is 4.0\n",
      "Petoskey's's rating is 4.0\n",
      "Tutta Bella Neapolitan Pizzeria - South Lake Union's rating is 4.0\n",
      "Pizzeria Credo's rating is 4.5\n",
      "Mioposto's rating is 4.0\n",
      "Cyberpizza's rating is 5.0\n",
      "The Pink Door's rating is 4.5\n",
      "Delancey's rating is 4.0\n",
      "Delfino's Chicago Style Pizza's rating is 3.5\n",
      "Dino's Tomato Pie's rating is 3.5\n",
      "Andare Kitchen & Bar's rating is 3.5\n",
      "Big Mario's New York Style Pizza's rating is 3.5\n",
      "Coltiva Pizzeria e Barra's rating is 4.0\n",
      "Mioposto's rating is 4.0\n",
      "Supreme's rating is 4.0\n",
      "Fiasco's rating is 4.0\n",
      "Von's 1000 Spirits's rating is 4.5\n",
      "Serious Pie Ballard's rating is 4.0\n"
     ]
    }
   ],
   "source": [
    "import json\n",
    "\n",
    "with open(r\"C:\\Users\\Nicke\\OneDrive\\Desktop\\CommunityDataScience\\seattle_pizza.jsonl\", 'r') as input_file:\n",
    "    \n",
    "    yelp_dict = json.load(input_file)\n",
    "    for business in yelp_dict[\"businesses\"]:\n",
    "        print(f\"{business['name']}\\'s rating is {business['rating']}\")"
   ]
  },
  {
   "cell_type": "markdown",
   "id": "6a21fd00",
   "metadata": {},
   "source": [
    "2.6"
   ]
  },
  {
   "cell_type": "code",
   "execution_count": 26,
   "id": "cace0648",
   "metadata": {},
   "outputs": [],
   "source": [
    "with open(r\"C:\\Users\\Nicke\\OneDrive\\Desktop\\CommunityDataScience\\seattle_pizza.jsonl\", 'r') as input_file:\n",
    "    \n",
    "    with open(r\"C:\\Users\\Nicke\\OneDrive\\Desktop\\CommunityDataScience\\seattle_pizza.tsv\", \"w\", encoding='utf-8') as yelp_file:\n",
    "    \n",
    "        print('name\\trating\\tcoordinates\\ttransactions\\tphone#', file=yelp_file)\n",
    "    \n",
    "        yelp_dict = json.load(input_file)\n",
    "        for business in yelp_dict[\"businesses\"]:\n",
    "            print(f\"{business['name']}\\t{business['rating']}\\t{business['coordinates']}\\t{business['transactions']}\\t{business['display_phone']}\", file=yelp_file)"
   ]
  },
  {
   "cell_type": "code",
   "execution_count": null,
   "id": "77adfa05",
   "metadata": {},
   "outputs": [],
   "source": []
  }
 ],
 "metadata": {
  "kernelspec": {
   "display_name": "Python 3 (ipykernel)",
   "language": "python",
   "name": "python3"
  },
  "language_info": {
   "codemirror_mode": {
    "name": "ipython",
    "version": 3
   },
   "file_extension": ".py",
   "mimetype": "text/x-python",
   "name": "python",
   "nbconvert_exporter": "python",
   "pygments_lexer": "ipython3",
   "version": "3.10.9"
  }
 },
 "nbformat": 4,
 "nbformat_minor": 5
}
