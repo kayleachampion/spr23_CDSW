{
 "cells": [
  {
   "cell_type": "markdown",
   "id": "656a9353",
   "metadata": {},
   "source": [
    "# 1 - MediaWiki API"
   ]
  },
  {
   "cell_type": "code",
   "execution_count": 1,
   "id": "7cbf1a48",
   "metadata": {},
   "outputs": [],
   "source": [
    "# 1.1 - wikipedia data collection "
   ]
  },
  {
   "cell_type": "code",
   "execution_count": 2,
   "id": "1cf0f2bb",
   "metadata": {},
   "outputs": [],
   "source": [
    "import requests\n",
    "import json\n",
    "import time"
   ]
  },
  {
   "cell_type": "code",
   "execution_count": 3,
   "id": "149f4297",
   "metadata": {},
   "outputs": [],
   "source": [
    "def get_article_revision_json(title):\n",
    "    api_answers = []\n",
    "    \n",
    "    wp_api_url = \"http://en.wikipedia.org/w/api.php/\" \n",
    "    \n",
    "    parameters = {'action' : 'query',\n",
    "                  'titles' : title,\n",
    "                  'prop' : 'revisions',\n",
    "                  'rvprop' : 'flags|timestamp|user|size|ids',\n",
    "                  'rvlimit' : 500,\n",
    "                  'format' : 'json'\n",
    "                   }\n",
    "    \n",
    "    while True: \n",
    "        \n",
    "        call = requests.get(wp_api_url, params=parameters)\n",
    "        api_answer = call.json()\n",
    "        \n",
    "        api_answers.append(api_answer)\n",
    "        \n",
    "        if 'continue' in api_answer.keys():\n",
    "            parameters.update(api_answer['continue'])\n",
    "        else:\n",
    "            break\n",
    "\n",
    "    return(api_answers)"
   ]
  },
  {
   "cell_type": "code",
   "execution_count": 4,
   "id": "f54efb4a",
   "metadata": {},
   "outputs": [
    {
     "name": "stdout",
     "output_type": "stream",
     "text": [
      "now working on: The_Heirs_of_the_Dragon\n",
      "now working on: The_Rogue_Prince\n",
      "now working on: Second_of_His_Name\n",
      "now working on: King_of_the_Narrow_Sea\n",
      "now working on: We_Light_the_Way\n"
     ]
    }
   ],
   "source": [
    "with open('hotd.jsonl.txt', 'r') as input_file,\\\n",
    "    open(\"hotd_wp_revisions.jsonl\", 'w') as output_file:\n",
    "    \n",
    "    for line in input_file.readlines():\n",
    "        line_dict = json.loads(line)\n",
    "        page_title = line_dict[\"page_title\"]\n",
    "        \n",
    "        print(f\"now working on: {page_title}\")\n",
    "        api_answers = get_article_revision_json(page_title)\n",
    "        for api_answer in api_answers:\n",
    "            print(json.dumps(api_answer), file=output_file)"
   ]
  },
  {
   "cell_type": "code",
   "execution_count": 5,
   "id": "39259cce",
   "metadata": {},
   "outputs": [],
   "source": [
    "# 1.2 - fandom data collection"
   ]
  },
  {
   "cell_type": "code",
   "execution_count": 8,
   "id": "01a8845e",
   "metadata": {},
   "outputs": [],
   "source": [
    "def get_article_revision_json(title):\n",
    "    api2_answers = []\n",
    "    \n",
    "    fandom_api_url = \"https://gameofthrones.fandom.com/api.php\" \n",
    "    \n",
    "    parameters = {'action' : 'query',\n",
    "                  'titles' : title,\n",
    "                  'prop' : 'revisions',\n",
    "                  'rvprop' : 'flags|timestamp|user|size|ids',\n",
    "                  'rvlimit' : 500,\n",
    "                  'format' : 'json'\n",
    "                   }\n",
    "    \n",
    "    while True: \n",
    "        \n",
    "        call = requests.get(fandom_api_url, params=parameters)\n",
    "        api2_answer = call.json()\n",
    "        \n",
    "        api2_answers.append(api2_answer)\n",
    "        \n",
    "        if 'continue' in api2_answer.keys():\n",
    "            parameters.update(api2_answer['continue'])\n",
    "        else:\n",
    "            break\n",
    "\n",
    "    return(api2_answers)"
   ]
  },
  {
   "cell_type": "code",
   "execution_count": 9,
   "id": "6fe1c673",
   "metadata": {},
   "outputs": [
    {
     "name": "stdout",
     "output_type": "stream",
     "text": [
      "now working on: The_Heirs_of_the_Dragon\n",
      "now working on: The_Rogue_Prince\n",
      "now working on: Second_of_His_Name\n",
      "now working on: King_of_the_Narrow_Sea\n",
      "now working on: We_Light_the_Way\n"
     ]
    }
   ],
   "source": [
    "with open('hotd.fandom.jsonl.txt', 'r') as input_file,\\\n",
    "    open(\"hotd_fandom_revisions.jsonl\", 'w') as output_file:\n",
    "    \n",
    "    for line in input_file.readlines():\n",
    "        line_dict = json.loads(line)\n",
    "        page_title = line_dict[\"page_title\"]\n",
    "        \n",
    "        print(f\"now working on: {page_title}\")\n",
    "        api2_answers = get_article_revision_json(page_title)\n",
    "        for api2_answer in api2_answers:\n",
    "            print(json.dumps(api2_answer), file=output_file)"
   ]
  },
  {
   "cell_type": "code",
   "execution_count": null,
   "id": "5b445ed1",
   "metadata": {},
   "outputs": [],
   "source": []
  }
 ],
 "metadata": {
  "kernelspec": {
   "display_name": "Python 3 (ipykernel)",
   "language": "python",
   "name": "python3"
  },
  "language_info": {
   "codemirror_mode": {
    "name": "ipython",
    "version": 3
   },
   "file_extension": ".py",
   "mimetype": "text/x-python",
   "name": "python",
   "nbconvert_exporter": "python",
   "pygments_lexer": "ipython3",
   "version": "3.10.9"
  }
 },
 "nbformat": 4,
 "nbformat_minor": 5
}
