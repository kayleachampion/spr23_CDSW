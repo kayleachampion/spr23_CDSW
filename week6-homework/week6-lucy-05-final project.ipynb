{
 "cells": [
  {
   "cell_type": "markdown",
   "id": "dc6c0e76",
   "metadata": {},
   "source": [
    "#Youtube api"
   ]
  },
  {
   "cell_type": "code",
   "execution_count": 56,
   "id": "2ee20a0e",
   "metadata": {},
   "outputs": [
    {
     "name": "stdout",
     "output_type": "stream",
     "text": [
      "Requirement already satisfied: google-api-python-client in c:\\users\\hujin\\anaconda3\\lib\\site-packages (2.86.0)Note: you may need to restart the kernel to use updated packages.\n",
      "\n",
      "Requirement already satisfied: uritemplate<5,>=3.0.1 in c:\\users\\hujin\\anaconda3\\lib\\site-packages (from google-api-python-client) (4.1.1)\n",
      "Requirement already satisfied: google-auth-httplib2>=0.1.0 in c:\\users\\hujin\\anaconda3\\lib\\site-packages (from google-api-python-client) (0.1.0)\n",
      "Requirement already satisfied: google-api-core!=2.0.*,!=2.1.*,!=2.2.*,!=2.3.0,<3.0.0dev,>=1.31.5 in c:\\users\\hujin\\anaconda3\\lib\\site-packages (from google-api-python-client) (2.11.0)\n",
      "Requirement already satisfied: google-auth<3.0.0dev,>=1.19.0 in c:\\users\\hujin\\anaconda3\\lib\\site-packages (from google-api-python-client) (2.17.3)\n",
      "Requirement already satisfied: httplib2<1dev,>=0.15.0 in c:\\users\\hujin\\anaconda3\\lib\\site-packages (from google-api-python-client) (0.22.0)\n",
      "Requirement already satisfied: requests<3.0.0dev,>=2.18.0 in c:\\users\\hujin\\anaconda3\\lib\\site-packages (from google-api-core!=2.0.*,!=2.1.*,!=2.2.*,!=2.3.0,<3.0.0dev,>=1.31.5->google-api-python-client) (2.28.1)\n",
      "Requirement already satisfied: googleapis-common-protos<2.0dev,>=1.56.2 in c:\\users\\hujin\\anaconda3\\lib\\site-packages (from google-api-core!=2.0.*,!=2.1.*,!=2.2.*,!=2.3.0,<3.0.0dev,>=1.31.5->google-api-python-client) (1.59.0)\n",
      "Requirement already satisfied: protobuf!=3.20.0,!=3.20.1,!=4.21.0,!=4.21.1,!=4.21.2,!=4.21.3,!=4.21.4,!=4.21.5,<5.0.0dev,>=3.19.5 in c:\\users\\hujin\\anaconda3\\lib\\site-packages (from google-api-core!=2.0.*,!=2.1.*,!=2.2.*,!=2.3.0,<3.0.0dev,>=1.31.5->google-api-python-client) (4.22.4)\n",
      "Requirement already satisfied: six>=1.9.0 in c:\\users\\hujin\\anaconda3\\lib\\site-packages (from google-auth<3.0.0dev,>=1.19.0->google-api-python-client) (1.16.0)\n",
      "Requirement already satisfied: pyasn1-modules>=0.2.1 in c:\\users\\hujin\\anaconda3\\lib\\site-packages (from google-auth<3.0.0dev,>=1.19.0->google-api-python-client) (0.2.8)\n",
      "Requirement already satisfied: rsa<5,>=3.1.4 in c:\\users\\hujin\\anaconda3\\lib\\site-packages (from google-auth<3.0.0dev,>=1.19.0->google-api-python-client) (4.9)\n",
      "Requirement already satisfied: cachetools<6.0,>=2.0.0 in c:\\users\\hujin\\anaconda3\\lib\\site-packages (from google-auth<3.0.0dev,>=1.19.0->google-api-python-client) (5.3.0)\n",
      "Requirement already satisfied: pyparsing!=3.0.0,!=3.0.1,!=3.0.2,!=3.0.3,<4,>=2.4.2 in c:\\users\\hujin\\anaconda3\\lib\\site-packages (from httplib2<1dev,>=0.15.0->google-api-python-client) (3.0.9)\n",
      "Requirement already satisfied: pyasn1<0.5.0,>=0.4.6 in c:\\users\\hujin\\anaconda3\\lib\\site-packages (from pyasn1-modules>=0.2.1->google-auth<3.0.0dev,>=1.19.0->google-api-python-client) (0.4.8)\n",
      "Requirement already satisfied: charset-normalizer<3,>=2 in c:\\users\\hujin\\anaconda3\\lib\\site-packages (from requests<3.0.0dev,>=2.18.0->google-api-core!=2.0.*,!=2.1.*,!=2.2.*,!=2.3.0,<3.0.0dev,>=1.31.5->google-api-python-client) (2.0.4)\n",
      "Requirement already satisfied: idna<4,>=2.5 in c:\\users\\hujin\\anaconda3\\lib\\site-packages (from requests<3.0.0dev,>=2.18.0->google-api-core!=2.0.*,!=2.1.*,!=2.2.*,!=2.3.0,<3.0.0dev,>=1.31.5->google-api-python-client) (3.4)\n",
      "Requirement already satisfied: certifi>=2017.4.17 in c:\\users\\hujin\\anaconda3\\lib\\site-packages (from requests<3.0.0dev,>=2.18.0->google-api-core!=2.0.*,!=2.1.*,!=2.2.*,!=2.3.0,<3.0.0dev,>=1.31.5->google-api-python-client) (2022.12.7)\n",
      "Requirement already satisfied: urllib3<1.27,>=1.21.1 in c:\\users\\hujin\\anaconda3\\lib\\site-packages (from requests<3.0.0dev,>=2.18.0->google-api-core!=2.0.*,!=2.1.*,!=2.2.*,!=2.3.0,<3.0.0dev,>=1.31.5->google-api-python-client) (1.26.14)\n"
     ]
    }
   ],
   "source": [
    "%pip install --upgrade google-api-python-client"
   ]
  },
  {
   "cell_type": "code",
   "execution_count": 63,
   "id": "76f454ad",
   "metadata": {},
   "outputs": [],
   "source": [
    "from googleapiclient.discovery import build  \n",
    "import pandas as pd"
   ]
  },
  {
   "cell_type": "code",
   "execution_count": 64,
   "id": "62316b7c",
   "metadata": {},
   "outputs": [],
   "source": [
    "api_key = '#'"
   ]
  },
  {
   "cell_type": "code",
   "execution_count": 65,
   "id": "2285f468",
   "metadata": {},
   "outputs": [],
   "source": [
    "channel_ids = [\"@user-gn4hw7dh7t\",\n",
    "               #more channels if needed\n",
    "               ]"
   ]
  },
  {
   "cell_type": "code",
   "execution_count": 66,
   "id": "82d8dee7",
   "metadata": {},
   "outputs": [],
   "source": [
    "api_service_name = \"youtube\"\n",
    "api_version = \"v3\"\n",
    "\n",
    "# Get credentials and create an API client\n",
    "youtube = build(api_service_name, api_version, developerKey=api_key)\n"
   ]
  },
  {
   "cell_type": "code",
   "execution_count": 67,
   "id": "e6cabe06",
   "metadata": {},
   "outputs": [],
   "source": [
    "def get_channel_stats(youtube,channel_ids):\n",
    "    \n",
    "    all_data = []\n",
    "    \n",
    "    request = youtube.channels().list(part=\"snippet,contentDetails,statistics\",id = \",\".join(channel_ids))\n",
    "    response = request.execute()\n",
    "\n",
    "    print (response)\n",
    "    \n",
    "    #loop through items\n",
    "    for item in response['items']:\n",
    "        data = {'channelName': item['smippet']['title'],\n",
    "                'subscribers': item['statistics']['subscriberCount'],\n",
    "                'views': item['statistics']['viewCount'],\n",
    "                'totalVideos': item['statistics']['videoCount'],\n",
    "                'playlistid': item['contentDetails']['relatedPlaylists']['uploads']}\n",
    "        \n",
    "        all_data.append(data)\n",
    "        \n",
    "    return(pd.DataFrame(all_data))\n",
    "        "
   ]
  },
  {
   "cell_type": "code",
   "execution_count": 68,
   "id": "7c300d72",
   "metadata": {},
   "outputs": [
    {
     "name": "stdout",
     "output_type": "stream",
     "text": [
      "{'kind': 'youtube#channelListResponse', 'etag': 'RuuXzTIr0OoDqI4S0RU6n4FqKEM', 'pageInfo': {'totalResults': 0, 'resultsPerPage': 5}}\n"
     ]
    },
    {
     "ename": "KeyError",
     "evalue": "'items'",
     "output_type": "error",
     "traceback": [
      "\u001b[1;31m---------------------------------------------------------------------------\u001b[0m",
      "\u001b[1;31mKeyError\u001b[0m                                  Traceback (most recent call last)",
      "Cell \u001b[1;32mIn[68], line 1\u001b[0m\n\u001b[1;32m----> 1\u001b[0m channel_stats \u001b[38;5;241m=\u001b[39m \u001b[43mget_channel_stats\u001b[49m\u001b[43m(\u001b[49m\u001b[43myoutube\u001b[49m\u001b[43m,\u001b[49m\u001b[43mchannel_ids\u001b[49m\u001b[43m)\u001b[49m\n",
      "Cell \u001b[1;32mIn[67], line 11\u001b[0m, in \u001b[0;36mget_channel_stats\u001b[1;34m(youtube, channel_ids)\u001b[0m\n\u001b[0;32m      8\u001b[0m \u001b[38;5;28mprint\u001b[39m (response)\n\u001b[0;32m     10\u001b[0m \u001b[38;5;66;03m#loop through items\u001b[39;00m\n\u001b[1;32m---> 11\u001b[0m \u001b[38;5;28;01mfor\u001b[39;00m item \u001b[38;5;129;01min\u001b[39;00m \u001b[43mresponse\u001b[49m\u001b[43m[\u001b[49m\u001b[38;5;124;43m'\u001b[39;49m\u001b[38;5;124;43mitems\u001b[39;49m\u001b[38;5;124;43m'\u001b[39;49m\u001b[43m]\u001b[49m:\n\u001b[0;32m     12\u001b[0m     data \u001b[38;5;241m=\u001b[39m {\u001b[38;5;124m'\u001b[39m\u001b[38;5;124mchannelName\u001b[39m\u001b[38;5;124m'\u001b[39m: item[\u001b[38;5;124m'\u001b[39m\u001b[38;5;124msmippet\u001b[39m\u001b[38;5;124m'\u001b[39m][\u001b[38;5;124m'\u001b[39m\u001b[38;5;124mtitle\u001b[39m\u001b[38;5;124m'\u001b[39m],\n\u001b[0;32m     13\u001b[0m             \u001b[38;5;124m'\u001b[39m\u001b[38;5;124msubscribers\u001b[39m\u001b[38;5;124m'\u001b[39m: item[\u001b[38;5;124m'\u001b[39m\u001b[38;5;124mstatistics\u001b[39m\u001b[38;5;124m'\u001b[39m][\u001b[38;5;124m'\u001b[39m\u001b[38;5;124msubscriberCount\u001b[39m\u001b[38;5;124m'\u001b[39m],\n\u001b[0;32m     14\u001b[0m             \u001b[38;5;124m'\u001b[39m\u001b[38;5;124mviews\u001b[39m\u001b[38;5;124m'\u001b[39m: item[\u001b[38;5;124m'\u001b[39m\u001b[38;5;124mstatistics\u001b[39m\u001b[38;5;124m'\u001b[39m][\u001b[38;5;124m'\u001b[39m\u001b[38;5;124mviewCount\u001b[39m\u001b[38;5;124m'\u001b[39m],\n\u001b[0;32m     15\u001b[0m             \u001b[38;5;124m'\u001b[39m\u001b[38;5;124mtotalVideos\u001b[39m\u001b[38;5;124m'\u001b[39m: item[\u001b[38;5;124m'\u001b[39m\u001b[38;5;124mstatistics\u001b[39m\u001b[38;5;124m'\u001b[39m][\u001b[38;5;124m'\u001b[39m\u001b[38;5;124mvideoCount\u001b[39m\u001b[38;5;124m'\u001b[39m],\n\u001b[0;32m     16\u001b[0m             \u001b[38;5;124m'\u001b[39m\u001b[38;5;124mplaylistid\u001b[39m\u001b[38;5;124m'\u001b[39m: item[\u001b[38;5;124m'\u001b[39m\u001b[38;5;124mcontentDetails\u001b[39m\u001b[38;5;124m'\u001b[39m][\u001b[38;5;124m'\u001b[39m\u001b[38;5;124mrelatedPlaylists\u001b[39m\u001b[38;5;124m'\u001b[39m][\u001b[38;5;124m'\u001b[39m\u001b[38;5;124muploads\u001b[39m\u001b[38;5;124m'\u001b[39m]}\n\u001b[0;32m     18\u001b[0m     all_data\u001b[38;5;241m.\u001b[39mappend(data)\n",
      "\u001b[1;31mKeyError\u001b[0m: 'items'"
     ]
    }
   ],
   "source": [
    "channel_stats = get_channel_stats(youtube,channel_ids)"
   ]
  },
  {
   "cell_type": "code",
   "execution_count": null,
   "id": "779baf71",
   "metadata": {},
   "outputs": [],
   "source": [
    "channel_stats"
   ]
  },
  {
   "cell_type": "markdown",
   "id": "24df1906",
   "metadata": {},
   "source": [
    "What is your proposed unit of analysis? In other words, if/when you end up building something like a spreadsheet, what are rows going to represent?"
   ]
  },
  {
   "cell_type": "code",
   "execution_count": 69,
   "id": "aa030f94",
   "metadata": {},
   "outputs": [],
   "source": [
    "#The rows represent different videos from the same channel"
   ]
  },
  {
   "cell_type": "markdown",
   "id": "03d90e60",
   "metadata": {},
   "source": [
    "What specific measures associated with each unit do you want to collect? In other words, what are the columns in the spreadsheet going to be?"
   ]
  },
  {
   "cell_type": "code",
   "execution_count": null,
   "id": "49e8b18d",
   "metadata": {},
   "outputs": [],
   "source": [
    "#columns should contain:\n",
    "\n",
    "#Video Title: The title of each video on the channel.\n",
    "#Video URL: The URL or link to each video.\n",
    "#Video Duration: The length of each video in minutes or seconds.\n",
    "#Views: The number of views each video has received.\n",
    "#Likes: The number of likes received by each video.\n",
    "#Comments: The number of comments left on each video.\n",
    "#Engagement Rate: The overall engagement rate for each video, calculated as a percentage based on likes, dislikes, comments, and shares.\n",
    "#Date Published: The date when each video was published.\n",
    "#maybe Category: The category or genre of each video (e.g., comedy, music, tutorial, gaming).\n",
    "\n",
    "#To have these data, it will help me to understand the performace of each video and how they are compared with each other. \n",
    "\n"
   ]
  },
  {
   "cell_type": "markdown",
   "id": "f0194de9",
   "metadata": {},
   "source": [
    "Tell us what you've learned about the API:\n",
    "Are you going to be able to get the data you want with one API call or many? If more than one, how many?\n",
    "If it's more than one call, how will you know when you have collected all your data?\n"
   ]
  },
  {
   "cell_type": "code",
   "execution_count": null,
   "id": "c5f2b702",
   "metadata": {},
   "outputs": [],
   "source": [
    "#so far, i think one API call will be enough to analysis all the videos from one channel"
   ]
  },
  {
   "cell_type": "markdown",
   "id": "4d081a7a",
   "metadata": {},
   "source": [
    "Make one API call and save the output to your desk in either a .json or .jsonl file. Be sure to share the code you used to do this. Be sure not to include any API keys in your notebook!"
   ]
  },
  {
   "cell_type": "markdown",
   "id": "0e0207ec",
   "metadata": {},
   "source": [
    "How big is the JSON file that you saved on your disk (i.e., in bytes or kilobytes)? If it is not your full dataset, what is your estimate for how much larger the full dataset will be? How big will the total dataset be? Is that a problem?"
   ]
  },
  {
   "cell_type": "code",
   "execution_count": null,
   "id": "17a9680a",
   "metadata": {},
   "outputs": [],
   "source": [
    "#I am still managing to get the data file but i think it is not gonna be a problem . Tho I may change my mind to analysize multiple channels which might be a problem?\n"
   ]
  },
  {
   "cell_type": "code",
   "execution_count": null,
   "id": "998f21fa",
   "metadata": {},
   "outputs": [],
   "source": []
  },
  {
   "cell_type": "code",
   "execution_count": null,
   "id": "79e7fc37",
   "metadata": {},
   "outputs": [],
   "source": []
  },
  {
   "cell_type": "code",
   "execution_count": null,
   "id": "f87064b7",
   "metadata": {},
   "outputs": [],
   "source": []
  }
 ],
 "metadata": {
  "kernelspec": {
   "display_name": "Python 3 (ipykernel)",
   "language": "python",
   "name": "python3"
  },
  "language_info": {
   "codemirror_mode": {
    "name": "ipython",
    "version": 3
   },
   "file_extension": ".py",
   "mimetype": "text/x-python",
   "name": "python",
   "nbconvert_exporter": "python",
   "pygments_lexer": "ipython3",
   "version": "3.10.9"
  }
 },
 "nbformat": 4,
 "nbformat_minor": 5
}
