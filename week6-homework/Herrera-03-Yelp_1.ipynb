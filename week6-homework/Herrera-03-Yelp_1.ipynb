{
 "cells": [
  {
   "cell_type": "code",
   "execution_count": 1,
   "id": "343a9b6f",
   "metadata": {},
   "outputs": [],
   "source": [
    "import requests\n",
    "import json\n",
    "import csv\n",
    " "
   ]
  },
  {
   "cell_type": "code",
   "execution_count": 91,
   "id": "123e6d91",
   "metadata": {},
   "outputs": [],
   "source": [
    "import yelpapi \n",
    "import Yelpchecktest"
   ]
  },
  {
   "cell_type": "code",
   "execution_count": 92,
   "id": "ad65fc8d",
   "metadata": {},
   "outputs": [],
   "source": [
    "from yelpapi import YelpAPI\n",
    "\n",
    "# load API key from file or define it directly here\n",
    "with open(\"Yelpchecktest.py\", \"r\") as f:\n",
    "    api_key = f.read().strip()\n",
    "    \n",
    "    "
   ]
  },
  {
   "cell_type": "code",
   "execution_count": 100,
   "id": "d58e5ac5",
   "metadata": {},
   "outputs": [],
   "source": [
    "from Yelpchecktest import Key"
   ]
  },
  {
   "cell_type": "code",
   "execution_count": 103,
   "id": "7f4da4eb",
   "metadata": {},
   "outputs": [],
   "source": [
    "with YelpAPI(Key) as yelp_api:\n",
    "    search_results = yelp_api.search_query(term='pizza',\n",
    "                    limit=50, radius=10000, location = 'Seattle')\n"
   ]
  },
  {
   "cell_type": "code",
   "execution_count": 104,
   "id": "d0194c9f",
   "metadata": {},
   "outputs": [
    {
     "name": "stdout",
     "output_type": "stream",
     "text": [
      "Serious Pie Downtown's rating is 4.0\n",
      "Rocco's's rating is 4.0\n",
      "Hot Mama's Pizza's rating is 4.0\n",
      "Moto's rating is 4.5\n",
      "Johnny Mo's Pizzeria's rating is 4.5\n",
      "Seattle Pizza and Bar's rating is 4.5\n",
      "Italian Family Pizza's rating is 4.0\n",
      "My Friend Derek's's rating is 5.0\n",
      "Dantini Pizza's rating is 4.5\n",
      "Lupo's rating is 4.5\n",
      "Pagliacci Pizza's rating is 4.0\n",
      "Nine Pies Pizzeria's rating is 4.5\n",
      "Bar Cotto's rating is 4.5\n",
      "Cornelly's rating is 4.5\n",
      "Blotto's rating is 4.5\n",
      "Humble Pie's rating is 4.0\n",
      "West of Chicago Pizza Company's rating is 4.5\n",
      "Guerilla Pizza Kitchen's rating is 5.0\n",
      "Slices's rating is 3.5\n",
      "Numero Uno Pizza's rating is 4.5\n",
      "Old Stove Brewing's rating is 4.5\n",
      "Razzís Pizzería's rating is 4.0\n",
      "Zeeks Pizza's rating is 3.5\n",
      "Petoskey's's rating is 4.0\n",
      "Tutta Bella Neapolitan Pizzeria - South Lake Union's rating is 4.0\n",
      "Pizza and Pasta Bar's rating is 4.0\n",
      "Mioposto's rating is 4.0\n",
      "Romio's Pizza Pub's rating is 4.0\n",
      "Cyberpizza's rating is 5.0\n",
      "The Pink Door's rating is 4.5\n",
      "Slice Box Pizza's rating is 4.5\n",
      "Delfino's Chicago Style Pizza's rating is 3.5\n",
      "Bar Del Corso's rating is 4.0\n",
      "Windy City Pie's rating is 4.0\n",
      "Kōbo Pizza's rating is 4.0\n",
      "Stella Fiore Wood Fired Pizza's rating is 4.5\n",
      "Breezy Town Pizza's rating is 4.0\n",
      "The Independent Pizzeria's rating is 4.0\n",
      "Mioposto's rating is 4.0\n",
      "Supreme's rating is 4.0\n",
      "Fiasco's rating is 4.0\n",
      "Von's 1000 Spirits's rating is 4.5\n",
      "Pizzeria La Rocca's rating is 4.5\n",
      "Via Tribunali - Capitol Hill's rating is 4.0\n",
      "Sunny Hill's rating is 4.5\n",
      "Ian’s Pizza on the Hill's rating is 4.0\n",
      "Alibi Room's rating is 4.0\n",
      "Big Mario's New York Style Pizza's rating is 3.5\n",
      "A Pizza Mart - Downtown's rating is 3.0\n",
      "Varlamos Pizzeria's rating is 4.0\n"
     ]
    }
   ],
   "source": [
    "for business in search_results[\"businesses\"]:\n",
    "    print(f\"{business['name']}\\'s rating is {business['rating']}\")"
   ]
  },
  {
   "cell_type": "code",
   "execution_count": null,
   "id": "eaf501b5",
   "metadata": {},
   "outputs": [],
   "source": []
  }
 ],
 "metadata": {
  "kernelspec": {
   "display_name": "Python 3 (ipykernel)",
   "language": "python",
   "name": "python3"
  },
  "language_info": {
   "codemirror_mode": {
    "name": "ipython",
    "version": 3
   },
   "file_extension": ".py",
   "mimetype": "text/x-python",
   "name": "python",
   "nbconvert_exporter": "python",
   "pygments_lexer": "ipython3",
   "version": "3.10.9"
  }
 },
 "nbformat": 4,
 "nbformat_minor": 5
}
