{
 "cells": [
  {
   "cell_type": "code",
   "execution_count": 6,
   "id": "8f3e5f06",
   "metadata": {},
   "outputs": [],
   "source": [
    "import json\n",
    "import yelpapi\n",
    "from yelpapi import YelpAPI\n",
    "import whatever\n",
    "from whatever import APIKEY"
   ]
  },
  {
   "cell_type": "code",
   "execution_count": 7,
   "id": "dc49a17d",
   "metadata": {},
   "outputs": [],
   "source": [
    "with YelpAPI(APIKEY) as yelp_api:\n",
    "    search_results = yelp_api.search_query(term='alcohol',\n",
    "                    limit=50, radius=10000, location = 'San Francisco')"
   ]
  },
  {
   "cell_type": "code",
   "execution_count": 8,
   "id": "7acecbc6",
   "metadata": {},
   "outputs": [
    {
     "name": "stdout",
     "output_type": "stream",
     "text": [
      "K & L Wine Merchants's rating is 4.5\n",
      "Healthy Spirits's rating is 4.5\n",
      "Swirl on Castro's rating is 4.5\n",
      "Castro Liquor & Wine's rating is 2.5\n",
      "BevMo!'s rating is 3.5\n",
      "St Clair's Liquors's rating is 4.5\n",
      "Haight & Cole Liquors's rating is 4.5\n",
      "Judah Ninth Avenue Liquors's rating is 4.5\n",
      "Mr. Liquor's rating is 4.5\n",
      "BevMo!'s rating is 3.5\n",
      "Healthy Spirits's rating is 4.5\n",
      "Food 24 Hour Convenience Market's rating is 4.0\n",
      "Wilking Liquor's rating is 4.0\n",
      "Michaelis Wine & Spirits's rating is 4.5\n",
      "Healthy Spirits's rating is 4.5\n",
      "Third World Market's rating is 4.0\n",
      "Blackwell's Wines & Spirits's rating is 4.5\n",
      "Drink Liquor's rating is 4.0\n",
      "Golden Bear Trading Company's rating is 4.5\n",
      "Limoncello's rating is 5.0\n",
      "Val De Cole Wines & Spirits's rating is 3.5\n",
      "S & A Liquor's rating is 4.0\n",
      "BevMo!'s rating is 3.5\n",
      "Gino's Grocery Company's rating is 4.0\n",
      "Dolores Outpost's rating is 4.0\n",
      "New Star-Ell Liquor's rating is 4.0\n",
      "Safeway's rating is 3.0\n",
      "The Whisky Shop's rating is 4.5\n",
      "Bi-Rite Market's rating is 4.5\n",
      "PlumpJack Wines's rating is 3.5\n",
      "Nopa Corner Market's rating is 4.5\n",
      "Gemini Bottle's rating is 4.5\n",
      "D & M Wine & Liquor Company's rating is 4.5\n",
      "Royal Cuckoo Market's rating is 4.5\n",
      "Quick Pick Market's rating is 4.5\n",
      "UC Market's rating is 4.5\n",
      "Park Presidio Liquors's rating is 4.0\n",
      "City Beer Store's rating is 4.5\n",
      "Cityscape Lounge's rating is 4.0\n",
      "Safeway's rating is 2.0\n",
      "J Mart & Liquor's rating is 3.0\n",
      "Nijiya Market - San Francisco's rating is 4.0\n",
      "Hillside Market's rating is 4.0\n",
      "Superette Market's rating is 3.5\n",
      "Golden Gate Market Deli & Liquor's rating is 4.5\n",
      "Fulton Food Shop's rating is 3.0\n",
      "The Epicurean Trader's rating is 4.5\n",
      "Walgreens's rating is 3.5\n",
      "Distillery No. 209's rating is 4.5\n",
      "Nineteenth Ave Liquors's rating is 4.0\n"
     ]
    }
   ],
   "source": [
    "for business in search_results[\"businesses\"]:\n",
    "    print(f\"{business['name']}\\'s rating is {business['rating']}\")"
   ]
  },
  {
   "cell_type": "code",
   "execution_count": 9,
   "id": "3511b106",
   "metadata": {},
   "outputs": [],
   "source": [
    "with open(\"SFalcohol.json\", 'w') as my_file:\n",
    "    data_string = json.dumps(search_results) \n",
    "    print(data_string, file=my_file)"
   ]
  },
  {
   "cell_type": "code",
   "execution_count": null,
   "id": "88a4d9df",
   "metadata": {},
   "outputs": [],
   "source": []
  }
 ],
 "metadata": {
  "kernelspec": {
   "display_name": "Python 3 (ipykernel)",
   "language": "python",
   "name": "python3"
  },
  "language_info": {
   "codemirror_mode": {
    "name": "ipython",
    "version": 3
   },
   "file_extension": ".py",
   "mimetype": "text/x-python",
   "name": "python",
   "nbconvert_exporter": "python",
   "pygments_lexer": "ipython3",
   "version": "3.10.9"
  }
 },
 "nbformat": 4,
 "nbformat_minor": 5
}
