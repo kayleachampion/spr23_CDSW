{
 "cells": [
  {
   "cell_type": "markdown",
   "id": "c4d1a6e6",
   "metadata": {},
   "source": [
    "# 1 - MediaWiki API"
   ]
  },
  {
   "cell_type": "code",
   "execution_count": 38,
   "id": "54191172",
   "metadata": {},
   "outputs": [],
   "source": [
    "# 1.1 - wikipedia data processing"
   ]
  },
  {
   "cell_type": "code",
   "execution_count": 39,
   "id": "b87321cc",
   "metadata": {},
   "outputs": [],
   "source": [
    "import json"
   ]
  },
  {
   "cell_type": "code",
   "execution_count": 40,
   "id": "06582c58",
   "metadata": {},
   "outputs": [],
   "source": [
    "revisions = []\n",
    "\n",
    "with open(\"hotd_wp_revisions.jsonl\", 'r') as input_file:\n",
    "    for line in input_file.readlines():\n",
    "        api_answer = json.loads(line)\n",
    "        \n",
    "        pages = api_answer[\"query\"][\"pages\"]\n",
    "        \n",
    "        for page_id in pages.keys():\n",
    "            query_revisions = pages[page_id][\"revisions\"]\n",
    "            title = pages[page_id]['title']\n",
    "            \n",
    "            for rev in query_revisions:\n",
    "                if \"userhidden\" in rev:\n",
    "                    continue\n",
    "                    \n",
    "                rev[\"title\"] = title # add a key called title \n",
    "                \n",
    "                if \"anon\" in rev:\n",
    "                    rev[\"anon\"] = True\n",
    "                else:\n",
    "                    rev[\"anon\"] = False\n",
    "                    \n",
    "                if \"minor\" in rev:\n",
    "                    rev[\"minor\"] = True\n",
    "                else:\n",
    "                    rev[\"minor\"] = False\n",
    "                    \n",
    "                rev[\"timestamp\"] = rev[\"timestamp\"].replace(\"T\", \"\")\n",
    "                rev[\"timestamp\"] = rev[\"timestamp\"].replace(\"Z\", \"\")\n",
    "                \n",
    "                revisions.append(rev)"
   ]
  },
  {
   "cell_type": "code",
   "execution_count": 41,
   "id": "7f03ffff",
   "metadata": {},
   "outputs": [
    {
     "data": {
      "text/plain": [
       "767"
      ]
     },
     "execution_count": 41,
     "metadata": {},
     "output_type": "execute_result"
    }
   ],
   "source": [
    "num_edits = len(revisions)\n",
    "num_edits"
   ]
  },
  {
   "cell_type": "code",
   "execution_count": 64,
   "id": "5c0d2274",
   "metadata": {},
   "outputs": [
    {
     "name": "stdout",
     "output_type": "stream",
     "text": [
      "0.19295958279009126% of the edits were made by users without accounts\n"
     ]
    }
   ],
   "source": [
    "# 1.1.1 - anon edits \n",
    "\n",
    "num_anon = 0\n",
    "\n",
    "for rev in revisions:\n",
    "    if rev[\"anon\"]:\n",
    "        num_anon = num_anon + 1\n",
    "        \n",
    "prop_anon = num_anon / num_edits\n",
    "\n",
    "print(f\"{prop_anon}% of the edits were made by users without accounts\")"
   ]
  },
  {
   "cell_type": "code",
   "execution_count": 43,
   "id": "90f4231f",
   "metadata": {},
   "outputs": [
    {
     "name": "stdout",
     "output_type": "stream",
     "text": [
      "0.0847457627118644% of the edits were minor\n"
     ]
    }
   ],
   "source": [
    "# 1.1.2 - minor edits \n",
    "\n",
    "num_minor = 0\n",
    "\n",
    "for rev in revisions:\n",
    "    if rev[\"minor\"]:\n",
    "        num_minor = num_minor + 1\n",
    "        \n",
    "prop_minor = num_minor / num_edits\n",
    "\n",
    "print(f\"{prop_minor}% of the edits were minor\")"
   ]
  },
  {
   "cell_type": "code",
   "execution_count": 44,
   "id": "aa9fff5d",
   "metadata": {},
   "outputs": [],
   "source": [
    "# 1.1.3 - visualization of edits over timee\n",
    "\n",
    "edits_by_day = {}\n",
    "for rev in revisions:\n",
    "    day_string = rev['timestamp'][0:10]\n",
    "\n",
    "    if day_string in edits_by_day.keys():\n",
    "        edits_by_day[day_string] = edits_by_day[day_string] + 1\n",
    "    else:\n",
    "        edits_by_day[day_string] = 1"
   ]
  },
  {
   "cell_type": "code",
   "execution_count": 45,
   "id": "10082888",
   "metadata": {},
   "outputs": [],
   "source": [
    "with open(\"hotd_wp_edits_by_day.tsv\", \"w\", encoding='utf-8') as output_file:\n",
    "    print(\"date\\tedits\", file=output_file)\n",
    "\n",
    "    for day_string in edits_by_day.keys():\n",
    "        print(\"\\t\".join([day_string, str(edits_by_day[day_string])]), file=output_file)"
   ]
  },
  {
   "cell_type": "code",
   "execution_count": 46,
   "id": "b3fda5dd",
   "metadata": {},
   "outputs": [
    {
     "name": "stdout",
     "output_type": "stream",
     "text": [
      "https://docs.google.com/spreadsheets/d/1lv-hDbgbmvNrH5fPzN_gqK-0YzrLiEmcJeTVG3-UIMo/edit?usp=sharing\n"
     ]
    }
   ],
   "source": [
    "print(\"https://docs.google.com/spreadsheets/d/1lv-hDbgbmvNrH5fPzN_gqK-0YzrLiEmcJeTVG3-UIMo/edit?usp=sharing\")"
   ]
  },
  {
   "cell_type": "code",
   "execution_count": 47,
   "id": "cb9960ed",
   "metadata": {},
   "outputs": [],
   "source": [
    "# 1.2 - fandom data processing"
   ]
  },
  {
   "cell_type": "code",
   "execution_count": 48,
   "id": "1ce3335c",
   "metadata": {},
   "outputs": [],
   "source": [
    "fandom_revisions = []\n",
    "\n",
    "with open(\"hotd_fandom_revisions.jsonl\", 'r') as input_file:\n",
    "    for line in input_file.readlines():\n",
    "        api2_answer = json.loads(line)\n",
    "        \n",
    "        pages = api2_answer[\"query\"][\"pages\"]\n",
    "        \n",
    "        for page_id in pages.keys():\n",
    "            query_revisions = pages[page_id][\"revisions\"]\n",
    "            title = pages[page_id]['title']\n",
    "            \n",
    "            for rev in query_revisions:\n",
    "                if \"userhidden\" in rev:\n",
    "                    continue\n",
    "                    \n",
    "                rev[\"title\"] = title # add a key called title \n",
    "                \n",
    "                if \"anon\" in rev:\n",
    "                    rev[\"anon\"] = True\n",
    "                else:\n",
    "                    rev[\"anon\"] = False\n",
    "                    \n",
    "                if \"minor\" in rev:\n",
    "                    rev[\"minor\"] = True\n",
    "                else:\n",
    "                    rev[\"minor\"] = False\n",
    "                    \n",
    "                rev[\"timestamp\"] = rev[\"timestamp\"].replace(\"T\", \"\")\n",
    "                rev[\"timestamp\"] = rev[\"timestamp\"].replace(\"Z\", \"\")\n",
    "                \n",
    "                fandom_revisions.append(rev)"
   ]
  },
  {
   "cell_type": "code",
   "execution_count": 49,
   "id": "b10b9efc",
   "metadata": {},
   "outputs": [
    {
     "data": {
      "text/plain": [
       "1085"
      ]
     },
     "execution_count": 49,
     "metadata": {},
     "output_type": "execute_result"
    }
   ],
   "source": [
    "fandom_edits = len(fandom_revisions)\n",
    "fandom_edits"
   ]
  },
  {
   "cell_type": "code",
   "execution_count": 61,
   "id": "0a5d0f2c",
   "metadata": {},
   "outputs": [
    {
     "name": "stdout",
     "output_type": "stream",
     "text": [
      "0.0% of the edits were made by users without accounts\n"
     ]
    }
   ],
   "source": [
    "# 1.2.1 - anon edits\n",
    "\n",
    "fandom_anon = 0\n",
    "\n",
    "for item in fandom_revisions:\n",
    "    if item[\"anon\"]:\n",
    "        fandom_anon = fandom_anon + 1\n",
    "        \n",
    "fandom_prop_anon = fandom_anon / fandom_edits\n",
    "\n",
    "print(f\"{fandom_prop_anon}% of the edits were made by users without accounts\")"
   ]
  },
  {
   "cell_type": "code",
   "execution_count": 51,
   "id": "34910f6e",
   "metadata": {},
   "outputs": [
    {
     "name": "stdout",
     "output_type": "stream",
     "text": [
      "0.030414746543778803% of the edits were minor\n"
     ]
    }
   ],
   "source": [
    "# 1.2.2 - minor edits\n",
    "\n",
    "fandom_minor = 0\n",
    "\n",
    "for rev in fandom_revisions:\n",
    "    if rev[\"minor\"]:\n",
    "        fandom_minor = fandom_minor + 1\n",
    "        \n",
    "fandom_prop_minor = fandom_minor / fandom_edits\n",
    "\n",
    "print(f\"{fandom_prop_minor}% of the edits were minor\")"
   ]
  },
  {
   "cell_type": "code",
   "execution_count": 52,
   "id": "d362b5c5",
   "metadata": {},
   "outputs": [],
   "source": [
    "# 1.2.3 - visualization of edits over timee\n",
    "\n",
    "fandom_edits_by_day = {}\n",
    "for rev in fandom_revisions:\n",
    "    fandom_day_string = rev['timestamp'][0:10]\n",
    "\n",
    "    if fandom_day_string in fandom_edits_by_day.keys():\n",
    "        fandom_edits_by_day[fandom_day_string] = fandom_edits_by_day[fandom_day_string] + 1\n",
    "    else:\n",
    "        fandom_edits_by_day[fandom_day_string] = 1"
   ]
  },
  {
   "cell_type": "code",
   "execution_count": 53,
   "id": "c578bee6",
   "metadata": {},
   "outputs": [],
   "source": [
    "with open(\"hotd_fandom_edits_by_day.tsv\", \"w\", encoding='utf-8') as output_file:\n",
    "    print(\"date\\tedits\", file=output_file)\n",
    "\n",
    "    for fandom_day_string in fandom_edits_by_day.keys():\n",
    "        print(\"\\t\".join([fandom_day_string, str(fandom_edits_by_day[fandom_day_string])]), file=output_file)"
   ]
  },
  {
   "cell_type": "code",
   "execution_count": 54,
   "id": "768b7d7d",
   "metadata": {},
   "outputs": [
    {
     "name": "stdout",
     "output_type": "stream",
     "text": [
      "https://docs.google.com/spreadsheets/d/1lv-hDbgbmvNrH5fPzN_gqK-0YzrLiEmcJeTVG3-UIMo/edit?usp=sharing\n"
     ]
    }
   ],
   "source": [
    "print(\"https://docs.google.com/spreadsheets/d/1lv-hDbgbmvNrH5fPzN_gqK-0YzrLiEmcJeTVG3-UIMo/edit?usp=sharing\")"
   ]
  },
  {
   "cell_type": "code",
   "execution_count": 55,
   "id": "a7038a31",
   "metadata": {},
   "outputs": [],
   "source": [
    "# 1.3 - wiki size"
   ]
  },
  {
   "cell_type": "code",
   "execution_count": 57,
   "id": "3247dbb9",
   "metadata": {},
   "outputs": [
    {
     "data": {
      "text/plain": [
       "'2023-04-28'"
      ]
     },
     "execution_count": 57,
     "metadata": {},
     "output_type": "execute_result"
    }
   ],
   "source": [
    "revisions[0]['timestamp'][0:10]"
   ]
  },
  {
   "cell_type": "code",
   "execution_count": 58,
   "id": "6529c919",
   "metadata": {},
   "outputs": [
    {
     "data": {
      "text/plain": [
       "20107"
      ]
     },
     "execution_count": 58,
     "metadata": {},
     "output_type": "execute_result"
    }
   ],
   "source": [
    "revisions[0]['size']"
   ]
  },
  {
   "cell_type": "code",
   "execution_count": 59,
   "id": "fb2a9ebf",
   "metadata": {},
   "outputs": [],
   "source": [
    "with open('revision_size.tsv', 'w') as output_file:\n",
    "    print(\"date\\tsize\", file=output_file)\n",
    "    for item in revisions:\n",
    "        print(f\"{item['timestamp'][0:10]}\\t{item['size']}\", file=output_file)"
   ]
  },
  {
   "cell_type": "code",
   "execution_count": 60,
   "id": "ade8a545",
   "metadata": {},
   "outputs": [
    {
     "name": "stdout",
     "output_type": "stream",
     "text": [
      "https://docs.google.com/spreadsheets/d/1lv-hDbgbmvNrH5fPzN_gqK-0YzrLiEmcJeTVG3-UIMo/edit?usp=sharing\n"
     ]
    }
   ],
   "source": [
    "print(\"https://docs.google.com/spreadsheets/d/1lv-hDbgbmvNrH5fPzN_gqK-0YzrLiEmcJeTVG3-UIMo/edit?usp=sharing\")"
   ]
  },
  {
   "cell_type": "code",
   "execution_count": null,
   "id": "106adc56",
   "metadata": {},
   "outputs": [],
   "source": []
  }
 ],
 "metadata": {
  "kernelspec": {
   "display_name": "Python 3 (ipykernel)",
   "language": "python",
   "name": "python3"
  },
  "language_info": {
   "codemirror_mode": {
    "name": "ipython",
    "version": 3
   },
   "file_extension": ".py",
   "mimetype": "text/x-python",
   "name": "python",
   "nbconvert_exporter": "python",
   "pygments_lexer": "ipython3",
   "version": "3.10.9"
  }
 },
 "nbformat": 4,
 "nbformat_minor": 5
}
