{
 "cells": [
  {
   "cell_type": "markdown",
   "id": "23ef2da2",
   "metadata": {},
   "source": [
    "I think the rows will be different song tracks (mapped to their ids) and they will be scored on liveliness, instrumentalness, mode, etc. (i.e. the way spotify scores different aspects of a song)"
   ]
  },
  {
   "cell_type": "markdown",
   "id": "c085882c",
   "metadata": {},
   "source": [
    "The column will have different aspects of a song like liveliness, instrumentalness, mode, etc and the value will be \n",
    "a score that spotify gives to each song. "
   ]
  },
  {
   "cell_type": "markdown",
   "id": "fc4ce4ea",
   "metadata": {},
   "source": [
    "I will be able to get the data with one API. I will use the get track features endpoint from the API. I will check this data againt the listening histories of people who have shared their individual spotify data with me. "
   ]
  },
  {
   "cell_type": "markdown",
   "id": "ac346c2a",
   "metadata": {},
   "source": [
    "I did a rough calculation with Mako in the last class and found that my code will take roughly 1.5 days to run. "
   ]
  },
  {
   "cell_type": "code",
   "execution_count": null,
   "id": "1c264905",
   "metadata": {},
   "outputs": [],
   "source": [
    "I am not making an api call right now, because first i need to collect data from everyone and then start working on it. "
   ]
  }
 ],
 "metadata": {
  "kernelspec": {
   "display_name": "Python 3 (ipykernel)",
   "language": "python",
   "name": "python3"
  },
  "language_info": {
   "codemirror_mode": {
    "name": "ipython",
    "version": 3
   },
   "file_extension": ".py",
   "mimetype": "text/x-python",
   "name": "python",
   "nbconvert_exporter": "python",
   "pygments_lexer": "ipython3",
   "version": "3.10.9"
  }
 },
 "nbformat": 4,
 "nbformat_minor": 5
}
