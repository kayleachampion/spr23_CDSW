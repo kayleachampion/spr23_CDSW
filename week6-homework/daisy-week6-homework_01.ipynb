{
 "cells": [
  {
   "cell_type": "code",
   "execution_count": 2,
   "id": "870e6280",
   "metadata": {},
   "outputs": [],
   "source": [
    "#1 MediaWiki API"
   ]
  },
  {
   "cell_type": "code",
   "execution_count": 3,
   "id": "fb3fc715",
   "metadata": {},
   "outputs": [],
   "source": [
    "import requests\n",
    "import json"
   ]
  },
  {
   "cell_type": "code",
   "execution_count": 4,
   "id": "aa1f998c",
   "metadata": {},
   "outputs": [],
   "source": [
    "def get_article_revision_json(title):\n",
    "    api_answers = []\n",
    "\n",
    "    # create a base url for the api and then a normal url which is initially\n",
    "    # just a copy of it\n",
    "    # The following line is what the requests call is doing, basically.\n",
    "    # f\"http://en.wikipedia.org/w/api.php/?action=query&titles={title}&prop=revisions&rvprop=flags|timestamp|user|size|ids&rvlimit=500&format=json&continue=\"\n",
    "    # e.g.: http://en.wikipedia.org/w/api.php/?action=query&titles=Soundgarden&prop=revisions&rvprop=flags|timestamp|user|size|ids&rvlimit=500&format=json\n",
    "    wp_api_url = \"http://en.wikipedia.org/w/api.php/\"\n",
    "\n",
    "    parameters = {'action' : 'query',\n",
    "                  'titles' : title,\n",
    "                  'prop' : 'revisions',\n",
    "                  'rvprop' : 'flags|timestamp|user|size|ids',\n",
    "                  'rvlimit' : 500,\n",
    "                  'format' : 'json',\n",
    "                   }\n",
    "\n",
    "    # we'll repeat this forever (i.e., we'll only stop when we find\n",
    "    # the \"break\" command)\n",
    "    while True:\n",
    "        # this will wait for one second\n",
    "        # time.sleep(1)\n",
    "        \n",
    "        # the first line open the urls but also handles unicode urls\n",
    "        call = requests.get(wp_api_url, params=parameters)\n",
    "        api_answer = call.json()\n",
    "        \n",
    "        # now we'll add this to whatever we are tracking\n",
    "        api_answers.append(api_answer)\n",
    "        \n",
    "        # 'continue' tells us there's more revisions to add\n",
    "        if 'continue' in api_answer.keys():\n",
    "            # replace the 'continue' parameter with the contents of the\n",
    "            # api_answer dictionary.\n",
    "            parameters.update(api_answer['continue'])\n",
    "        else:\n",
    "            break\n",
    "        \n",
    "    return(api_answers)"
   ]
  },
  {
   "cell_type": "code",
   "execution_count": 5,
   "id": "91aa619e",
   "metadata": {},
   "outputs": [],
   "source": [
    "def getListOfRevs(searchStr):\n",
    "    ax = get_article_revision_json(searchStr)\n",
    "    al = ax[0]['query']['pages']\n",
    "    al = al[list(al.keys())[0]]['revisions']\n",
    "    return al\n",
    "\n",
    "def getAnonMinorStats(listOfRevisions):\n",
    "    countAnon = 0\n",
    "    countMinor = 0\n",
    "    for a in listOfRevisions:\n",
    "        if (\"anon\" in a):\n",
    "            countAnon += 1\n",
    "        if (\"minor\" in a):\n",
    "            countMinor += 1\n",
    "    return (countAnon/len(listOfRevisions),countMinor/len(listOfRevisions))"
   ]
  },
  {
   "cell_type": "code",
   "execution_count": 6,
   "id": "991addd4",
   "metadata": {},
   "outputs": [],
   "source": [
    "## Percentage by anon, minor "
   ]
  },
  {
   "cell_type": "code",
   "execution_count": 7,
   "id": "9d55fb4b",
   "metadata": {},
   "outputs": [
    {
     "name": "stdout",
     "output_type": "stream",
     "text": [
      "Keyword: A Miss Mallard Mystery, Percentage of Anon 0.2692307692307692, Percentage of Minor 0.2076923076923077\n",
      "Keyword: Mona the Vampire, Percentage of Anon 0.476, Percentage of Minor 0.168\n",
      "Keyword: As Told by Ginger, Percentage of Anon 0.368, Percentage of Minor 0.252\n",
      "Keyword: Martin Morning, Percentage of Anon 0.4375, Percentage of Minor 0.2897727272727273\n",
      "Keyword: Postman Pat, Percentage of Anon 0.504, Percentage of Minor 0.172\n"
     ]
    }
   ],
   "source": [
    "for k in [\"A Miss Mallard Mystery\",\"Mona the Vampire\",\"As Told by Ginger\",\"Martin Morning\",\"Postman Pat\"]:\n",
    "    a1 = getAnonMinorStats(getListOfRevs(k))\n",
    "    print( \"Keyword: {}, Percentage of Anon {}, Percentage of Minor {}\".format(k,a1[0],a1[1]))"
   ]
  },
  {
   "cell_type": "code",
   "execution_count": 11,
   "id": "c06bfade",
   "metadata": {},
   "outputs": [
    {
     "ename": "NameError",
     "evalue": "name 'output_data' is not defined",
     "output_type": "error",
     "traceback": [
      "\u001b[0;31m---------------------------------------------------------------------------\u001b[0m",
      "\u001b[0;31mNameError\u001b[0m                                 Traceback (most recent call last)",
      "Cell \u001b[0;32mIn[11], line 6\u001b[0m\n\u001b[1;32m      4\u001b[0m writer \u001b[38;5;241m=\u001b[39m csv\u001b[38;5;241m.\u001b[39mwriter(f, delimiter\u001b[38;5;241m=\u001b[39m\u001b[38;5;124m\"\u001b[39m\u001b[38;5;130;01m\\t\u001b[39;00m\u001b[38;5;124m\"\u001b[39m)\n\u001b[1;32m      5\u001b[0m writer\u001b[38;5;241m.\u001b[39mwriterow([\u001b[38;5;124m\"\u001b[39m\u001b[38;5;124mKeyword\u001b[39m\u001b[38;5;124m\"\u001b[39m,\u001b[38;5;124m\"\u001b[39m\u001b[38;5;124mPercentage of Anon\u001b[39m\u001b[38;5;124m\"\u001b[39m,\u001b[38;5;124m\"\u001b[39m\u001b[38;5;124mPercentage of Minor\u001b[39m\u001b[38;5;124m\"\u001b[39m])\n\u001b[0;32m----> 6\u001b[0m writer\u001b[38;5;241m.\u001b[39mwriterows(\u001b[43moutput_data\u001b[49m)\n",
      "\u001b[0;31mNameError\u001b[0m: name 'output_data' is not defined"
     ]
    }
   ],
   "source": [
    "import csv\n",
    "\n",
    "with open(\"wiki_animation.tsv\", \"w\", newline=\"\", encoding=\"utf-8\") as f:\n",
    "    writer = csv.writer(f, delimiter=\"\\t\")\n",
    "    writer.writerow([\"Keyword\",\"Percentage of Anon\",\"Percentage of Minor\"])\n",
    "    writer.writerows(output_data)"
   ]
  },
  {
   "cell_type": "code",
   "execution_count": null,
   "id": "c7e10ac2",
   "metadata": {},
   "outputs": [],
   "source": [
    "##2"
   ]
  },
  {
   "cell_type": "code",
   "execution_count": null,
   "id": "ba8f1da0",
   "metadata": {},
   "outputs": [],
   "source": [
    "import requests\n",
    "import json"
   ]
  },
  {
   "cell_type": "code",
   "execution_count": null,
   "id": "7a5445b0",
   "metadata": {},
   "outputs": [],
   "source": [
    "def get_article_revision_json(title):\n",
    "    api_answers = []\n",
    "\n",
    "    # create a base url for the api and then a normal url which is initially\n",
    "    # just a copy of it\n",
    "    # The following line is what the requests call is doing, basically.\n",
    "    # f\"https://{title}.fandom.com/api.php?action=query&prop=revisions&rvprop=timestamp|user|comment|content&rvlimit=max&format=json&continue=\"\n",
    "    # e.g.: https://thewire.fandom.com/api.php?action=query&prop=revisions&rvprop=timestamp|user|comment|content&rvlimit=max&format=json&continue=\n",
    "    wp_api_url = f\"https://{title}.fandom.com/api.php/\"\n",
    "\n",
    "    parameters = {'action' : 'query',\n",
    "                  'prop' : 'revisions',\n",
    "                  'rvprop' : 'timestamp|user|comment|content',\n",
    "                  'rvlimit' : 'max',\n",
    "                  'format' : 'json',\n",
    "                   }\n",
    "\n",
    "    # we'll repeat this forever (i.e., we'll only stop when we find\n",
    "    # the \"break\" command)\n",
    "    while True:\n",
    "        # this will wait for one second\n",
    "        # time.sleep(1)\n",
    "        \n",
    "        # the first line open the urls but also handles unicode urls\n",
    "        call = requests.get(wp_api_url, params=parameters)\n",
    "        api_answer = call.json()\n",
    "        \n",
    "        # now we'll add this to whatever we are tracking\n",
    "        api_answers.append(api_answer)\n",
    "        \n",
    "        # 'continue' tells us there's more revisions to add\n",
    "        if 'continue' in api_answer.keys():\n",
    "            # replace the 'continue' parameter with the contents of the\n",
    "            # api_answer dictionary.\n",
    "            parameters.update(api_answer['continue'])\n",
    "        else:\n",
    "            break\n",
    "        \n",
    "    return(api_answers)\n"
   ]
  },
  {
   "cell_type": "code",
   "execution_count": null,
   "id": "eb3913db",
   "metadata": {},
   "outputs": [],
   "source": [
    "def getListOfRevs(searchStr):\n",
    "    az = get_article_revision_json(searchStr)\n",
    "    ac = az[0]['query']['pages']\n",
    "    ac = ac[list(ac.keys())[0]]['revisions']\n",
    "    return ac\n",
    "\n",
    "def getAnonMinorStats(listOfRevisions):\n",
    "    countAnon = 0\n",
    "    countMinor = 0\n",
    "    for a in listOfRevisions:\n",
    "        if (\"anon\" in a):\n",
    "            countAnon += 1\n",
    "        if (\"minor\" in a):\n",
    "            countMinor += 1\n",
    "    return (countAnon/len(listOfRevisions),countMinor/len(listOfRevisions))"
   ]
  },
  {
   "cell_type": "code",
   "execution_count": null,
   "id": "73e875a4",
   "metadata": {},
   "outputs": [],
   "source": [
    "for z in [\"A Miss Mallard Mystery\",\"Mona the Vampire\",\"As Told by Ginger\",\"Martin Morning\",\"Postman Pat\"]:\n",
    "    ac = getAnonMinorStats(getListOfRevs(z))\n",
    "    print(\"Keyword: {}, Percentage of Anon {}, Percentage of Minor {}\".format(z, ac[0], ac[1]))\n"
   ]
  },
  {
   "cell_type": "code",
   "execution_count": null,
   "id": "82ac55e0",
   "metadata": {},
   "outputs": [],
   "source": [
    "import requests\n",
    "import matplotlib.pyplot as plt\n",
    "\n",
    "# set up API parameters\n",
    "base_url = \"https://community.fandom.com/api.php\"\n",
    "api_params = {\n",
    "    \"action\": \"query\",\n",
    "    \"format\": \"json\",\n",
    "    \"prop\": \"revisions\",\n",
    "    \"titles\": \"Article_title\",\n",
    "    \"rvprop\": \"size|timestamp\",\n",
    "    \"rvlimit\": \"max\",\n",
    "    \"formatversion\": \"2\",\n",
    "    \"utf8\": \"1\",\n",
    "    \"continue\": \"\",\n",
    "    \"formatversion\": \"2\",\n",
    "    \"utf8\": \"1\",\n",
    "    \"continue\": \"\"\n",
    "}\n",
    "\n",
    "# make API request\n",
    "response = requests.get(base_url, params=api_params)\n",
    "data = response.json()\n",
    "\n",
    "# extract revision lengths and timestamps\n",
    "revision_lengths = []\n",
    "timestamps = []\n",
    "for rev in data[\"query\"][\"pages\"][0][\"revisions\"]:\n",
    "    revision_lengths.append(int(rev[\"size\"]))\n",
    "    timestamps.append(rev[\"timestamp\"])\n",
    "\n",
    "# plot revision lengths over time\n",
    "plt.plot(timestamps, revision_lengths)\n",
    "plt.xlabel(\"Timestamp\")\n",
    "plt.ylabel(\"Bytes\")\n",
    "plt.title(\"Article Title\")\n",
    "plt.show()\n"
   ]
  },
  {
   "cell_type": "code",
   "execution_count": null,
   "id": "c12f64cc",
   "metadata": {},
   "outputs": [],
   "source": []
  }
 ],
 "metadata": {
  "kernelspec": {
   "display_name": "Python 3 (ipykernel)",
   "language": "python",
   "name": "python3"
  },
  "language_info": {
   "codemirror_mode": {
    "name": "ipython",
    "version": 3
   },
   "file_extension": ".py",
   "mimetype": "text/x-python",
   "name": "python",
   "nbconvert_exporter": "python",
   "pygments_lexer": "ipython3",
   "version": "3.10.9"
  }
 },
 "nbformat": 4,
 "nbformat_minor": 5
}
