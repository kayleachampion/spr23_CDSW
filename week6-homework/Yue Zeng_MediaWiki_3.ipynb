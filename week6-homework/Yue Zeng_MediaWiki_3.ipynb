{
 "cells": [
  {
   "cell_type": "code",
   "execution_count": 1,
   "id": "4443b1f6",
   "metadata": {},
   "outputs": [],
   "source": [
    "# 3. Finally, choose either your Wikipedia or Fandom datasets as the data source for a visualization that shows how each of those articles have grown in length (as measured in characters or \"bytes\") over time. (Hint: you'll need to return \"size\" as one of the revision properties (rvprop) if you are not doing it already.)\n",
    "import json\n",
    "\n",
    "article_titles = [\n",
    "    'Avatar (2009 film)',\n",
    "    'Avatar: The Last Airbender',\n",
    "    'Avatar: The Last Airbender (season 1)',\n",
    "    'Avatar: The Last Airbender (season 2)',\n",
    "    'Avatar: The Last Airbender (season 3)'\n",
    "]\n",
    "\n",
    "with open(\"article_revisions_from_wikipedia.json\", \"r\") as file_in:\n",
    "    article_revisions_from_wikipedia = json.load(file_in)\n",
    "\n",
    "size_by_datetime = {title: {} for title in article_titles}\n",
    "for title in article_titles:\n",
    "    for revision in article_revisions_from_wikipedia[title]:\n",
    "        for page_id, page_data in revision['query']['pages'].items():\n",
    "            for rev in page_data.get('revisions', []):\n",
    "                timestamp = rev['timestamp']\n",
    "                size_by_datetime[title][timestamp] = rev[\"size\"]\n",
    "\n",
    "all_datetime = sorted({date for sizes in size_by_datetime.values() for date in sizes.keys()})\n",
    "last_size = {}\n",
    "\n",
    "with open('avatar_size_from_wikipedia.tsv', 'w') as f:\n",
    "    buffer = \"\\t\".join(article_titles)\n",
    "    f.write(f\"date\\t{buffer}\\n\")\n",
    "    for date in all_datetime:\n",
    "        last_size = {title: size_by_datetime[title].get(date, last_size.get(title, 0)) for title in article_titles}\n",
    "        buffer = \"\\t\".join([str(last_size[title]) for title in article_titles])\n",
    "        f.write(f\"{date}\\t{buffer}\\n\")"
   ]
  },
  {
   "cell_type": "code",
   "execution_count": null,
   "id": "a5ce07ad",
   "metadata": {},
   "outputs": [],
   "source": [
    "https://docs.google.com/spreadsheets/d/1XNKTA-9XFz23T4Dsd6gFRWMrLbxPmO6v3GMRdNihpUM/edit?usp=sharing"
   ]
  }
 ],
 "metadata": {
  "kernelspec": {
   "display_name": "Python 3 (ipykernel)",
   "language": "python",
   "name": "python3"
  },
  "language_info": {
   "codemirror_mode": {
    "name": "ipython",
    "version": 3
   },
   "file_extension": ".py",
   "mimetype": "text/x-python",
   "name": "python",
   "nbconvert_exporter": "python",
   "pygments_lexer": "ipython3",
   "version": "3.10.9"
  }
 },
 "nbformat": 4,
 "nbformat_minor": 5
}
