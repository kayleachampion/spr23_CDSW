{
 "cells": [
  {
   "cell_type": "code",
   "execution_count": 23,
   "id": "e18cb44b",
   "metadata": {},
   "outputs": [],
   "source": [
    "import requests\n",
    "import json"
   ]
  },
  {
   "cell_type": "code",
   "execution_count": 24,
   "id": "780543be",
   "metadata": {},
   "outputs": [],
   "source": [
    "from yelpapi import YelpAPI"
   ]
  },
  {
   "cell_type": "code",
   "execution_count": 25,
   "id": "4a452cbd",
   "metadata": {},
   "outputs": [],
   "source": [
    "from yelp_authentication import APIKEY"
   ]
  },
  {
   "cell_type": "code",
   "execution_count": 26,
   "id": "4b1d96e6",
   "metadata": {},
   "outputs": [],
   "source": [
    "with YelpAPI(APIKEY) as yelp_api:\n",
    "    search_results = yelp_api.search_query(term='guitar',\n",
    "                    limit=50, radius=10000, location = 'Seattle')"
   ]
  },
  {
   "cell_type": "code",
   "execution_count": 20,
   "id": "ca7a7a08",
   "metadata": {},
   "outputs": [
    {
     "name": "stdout",
     "output_type": "stream",
     "text": [
      "Emerald City Guitars's rating is 4.5\n",
      "Mike & Mike's Guitar Bar's rating is 4.5\n",
      "Walker Guitar Lessons's rating is 5.0\n",
      "Thunder Road Guitars's rating is 4.5\n",
      "The Trading Musician's rating is 4.0\n",
      "Dusty Strings's rating is 4.5\n",
      "American Music's rating is 4.0\n",
      "archtop.com's rating is 2.5\n",
      "Soul Cat Guitars's rating is 3.5\n",
      "Ted Brown Music's rating is 4.0\n",
      "Susan Palmer's Guitar Studio: Lead Cat Press, LLC's rating is 5.0\n",
      "The Music Factory's rating is 4.5\n",
      "Andrews Guitars's rating is 5.0\n",
      "Guitar Center's rating is 4.0\n",
      "Rosewood Guitar's rating is 4.0\n",
      "Sound Music School's rating is 5.0\n",
      "Silesia Guitars's rating is 4.5\n",
      "Smithway Guitars's rating is 5.0\n",
      "Patchwerks's rating is 5.0\n",
      "Monster Hands Music's rating is 5.0\n",
      "Crossroads Music's rating is 5.0\n",
      "Hillman Guitar Instruction's rating is 5.0\n",
      "Supertonic Guitar's rating is 5.0\n",
      "School of Rock's rating is 5.0\n",
      "Off the Wall School of Music's rating is 5.0\n",
      "Seattle Symphony Music Discovery Center's rating is 4.0\n",
      "School of Rock's rating is 5.0\n",
      "North Seattle Guitar Lessons's rating is 5.0\n",
      "Bischofberger Violins's rating is 5.0\n",
      "Meter Music School - Central District's rating is 5.0\n",
      "Bob Crow's rating is 5.0\n",
      "Jonny Akamu Music Lesson's rating is 5.0\n",
      "Quinn Fitzpatrick's rating is 5.0\n",
      "Seattle Guitar Teacher's rating is 5.0\n",
      "Peel Studios's rating is 4.0\n",
      "Lasley Violins's rating is 4.5\n",
      "Fingerprint Music School's rating is 5.0\n",
      "Guitar Voice Instruction's rating is 5.0\n",
      "West Coast Drum Shop's rating is 5.0\n",
      "Creative Music Adventures's rating is 5.0\n",
      "JT Phillips Guitar's rating is 5.0\n",
      "Suzuki Institute of Seattle's rating is 3.5\n",
      "Mode Music Studios's rating is 4.0\n",
      "Guitar Lessons With Dan's rating is 5.0\n",
      "The Bass Church's rating is 3.5\n",
      "Greg Glassman Guitar Lessons's rating is 5.0\n",
      "Lessons in Your Home's rating is 5.0\n",
      "Guitar and Songwriting Instruction's rating is 5.0\n",
      "String Lark Lessons's rating is 5.0\n",
      "Julian Catford's rating is 5.0\n"
     ]
    }
   ],
   "source": [
    "for business in search_results[\"businesses\"]:\n",
    "    print(f\"{business['name']}\\'s rating is {business['rating']}\")"
   ]
  },
  {
   "cell_type": "code",
   "execution_count": 28,
   "id": "8adc687b",
   "metadata": {},
   "outputs": [],
   "source": [
    "with open(\"guitar_stores_seattle.json\", 'w') as my_file:\n",
    "    data_string = json.dumps(search_results)\n",
    "    print(data_string, file=my_file)"
   ]
  },
  {
   "cell_type": "code",
   "execution_count": 30,
   "id": "bd41b218",
   "metadata": {},
   "outputs": [],
   "source": [
    "with open(\"guitar_stores_seattle.json\", 'r') as input_file:\n",
    "    input_data = input_file.read()\n",
    "    \n",
    "new_data = json.loads(input_data)"
   ]
  },
  {
   "cell_type": "code",
   "execution_count": 55,
   "id": "6174a3bb",
   "metadata": {},
   "outputs": [
    {
     "name": "stdout",
     "output_type": "stream",
     "text": [
      "Emerald City Guitars\n",
      "Mike & Mike's Guitar Bar\n",
      "Walker Guitar Lessons\n",
      "Thunder Road Guitars\n",
      "The Trading Musician\n",
      "Dusty Strings\n",
      "American Music\n",
      "archtop.com\n",
      "Soul Cat Guitars\n",
      "Ted Brown Music\n",
      "Susan Palmer's Guitar Studio: Lead Cat Press, LLC\n",
      "The Music Factory\n",
      "Andrews Guitars\n",
      "Guitar Center\n",
      "Rosewood Guitar\n",
      "Sound Music School\n",
      "Silesia Guitars\n",
      "Smithway Guitars\n",
      "Patchwerks\n",
      "Monster Hands Music\n",
      "Crossroads Music\n",
      "Hillman Guitar Instruction\n",
      "Supertonic Guitar\n",
      "School of Rock\n",
      "Off the Wall School of Music\n",
      "Seattle Symphony Music Discovery Center\n",
      "School of Rock\n",
      "North Seattle Guitar Lessons\n",
      "Bischofberger Violins\n",
      "Meter Music School - Central District\n",
      "Bob Crow\n",
      "Jonny Akamu Music Lesson\n",
      "Quinn Fitzpatrick\n",
      "Seattle Guitar Teacher\n",
      "Peel Studios\n",
      "Lasley Violins\n",
      "Fingerprint Music School\n",
      "Guitar Voice Instruction\n",
      "West Coast Drum Shop\n",
      "Creative Music Adventures\n",
      "JT Phillips Guitar\n",
      "Suzuki Institute of Seattle\n",
      "Mode Music Studios\n",
      "Guitar Lessons With Dan\n",
      "The Bass Church\n",
      "Greg Glassman Guitar Lessons\n",
      "Lessons in Your Home\n",
      "Guitar and Songwriting Instruction\n",
      "String Lark Lessons\n",
      "Julian Catford\n"
     ]
    }
   ],
   "source": [
    "for store in new_data['businesses']:\n",
    "    print(store['name'])"
   ]
  },
  {
   "cell_type": "code",
   "execution_count": 67,
   "id": "43fc0116",
   "metadata": {},
   "outputs": [],
   "source": [
    "#for store in new_data['businesses']:\n",
    "    #print(store['location']['zip_code'])"
   ]
  },
  {
   "cell_type": "code",
   "execution_count": 66,
   "id": "1d237224",
   "metadata": {},
   "outputs": [],
   "source": [
    "with open('guitar_stores_seattle.json.tsv', 'w') as output_file:\n",
    "    print(\"name\\treviews\\trating\\tZIP\\tphone\", file=output_file)\n",
    "    for store in new_data['businesses']:\n",
    "        print(f\"{store['name']}\\t{store['review_count']}\\t{store['rating']}\\t{store['location']['zip_code']}\\t{store['phone']}\", file=output_file)"
   ]
  },
  {
   "cell_type": "code",
   "execution_count": null,
   "id": "ee5fda81",
   "metadata": {},
   "outputs": [],
   "source": []
  }
 ],
 "metadata": {
  "kernelspec": {
   "display_name": "Python 3 (ipykernel)",
   "language": "python",
   "name": "python3"
  },
  "language_info": {
   "codemirror_mode": {
    "name": "ipython",
    "version": 3
   },
   "file_extension": ".py",
   "mimetype": "text/x-python",
   "name": "python",
   "nbconvert_exporter": "python",
   "pygments_lexer": "ipython3",
   "version": "3.10.9"
  }
 },
 "nbformat": 4,
 "nbformat_minor": 5
}
