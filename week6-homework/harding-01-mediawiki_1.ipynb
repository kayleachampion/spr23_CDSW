{
 "cells": [
  {
   "cell_type": "code",
   "execution_count": 1,
   "id": "49440712",
   "metadata": {},
   "outputs": [],
   "source": [
    "import requests\n",
    "import json"
   ]
  },
  {
   "cell_type": "code",
   "execution_count": 2,
   "id": "3d132409",
   "metadata": {},
   "outputs": [],
   "source": [
    "def get_article_revision_json(title):\n",
    "    api_answers = []\n",
    "\n",
    "    # create a base url for the api and then a normal url which is initially\n",
    "    # just a copy of it\n",
    "    # The following line is what the requests call is doing, basically.\n",
    "    # f\"http://en.wikipedia.org/w/api.php/?action=query&titles={title}&prop=revisions&rvprop=flags|timestamp|user|size|ids&rvlimit=500&format=json&continue=\"\n",
    "    # e.g.: http://en.wikipedia.org/w/api.php/?action=query&titles=Soundgarden&prop=revisions&rvprop=flags|timestamp|user|size|ids&rvlimit=500&format=json\n",
    "    wp_api_url = \"http://en.wikipedia.org/w/api.php/\"\n",
    "\n",
    "    parameters = {'action' : 'query',\n",
    "                  'titles' : title,\n",
    "                  'prop' : 'revisions',\n",
    "                  'rvprop' : 'flags|timestamp|user|size|ids',\n",
    "                  'rvlimit' : 500,\n",
    "                  'format' : 'json',\n",
    "                   }\n",
    "\n",
    "    # we'll repeat this forever (i.e., we'll only stop when we find\n",
    "    # the \"break\" command)\n",
    "    while True:\n",
    "        # this will wait for one second\n",
    "        # time.sleep(1)\n",
    "        \n",
    "        # the first line open the urls but also handles unicode urls\n",
    "        call = requests.get(wp_api_url, params=parameters)\n",
    "        api_answer = call.json()\n",
    "        \n",
    "        # now we'll add this to whatever we are tracking\n",
    "        api_answers.append(api_answer)\n",
    "        \n",
    "        # 'continue' tells us there's more revisions to add\n",
    "        if 'continue' in api_answer.keys():\n",
    "            # replace the 'continue' parameter with the contents of the\n",
    "            # api_answer dictionary.\n",
    "            parameters.update(api_answer['continue'])\n",
    "        else:\n",
    "            break\n",
    "        \n",
    "    return(api_answers)"
   ]
  },
  {
   "cell_type": "code",
   "execution_count": 3,
   "id": "fc1edae1",
   "metadata": {},
   "outputs": [
    {
     "name": "stdout",
     "output_type": "stream",
     "text": [
      "now working on: Lost_(TV_series)\n",
      "now working on: List_of_Lost_characters\n",
      "now working on: List_of_Lost_episodes\n",
      "now working on: Mythology_of_Lost\n",
      "now working on: Lost_Original_Television_Soundtracks\n"
     ]
    }
   ],
   "source": [
    "lost_articles = ['Lost_(TV_series)','List_of_Lost_characters','List_of_Lost_episodes','Mythology_of_Lost','Lost_Original_Television_Soundtracks']\n",
    "#with open('list_of_washington_alternative_rocks_bands_wikipedia-2023-04-25.jsonl', 'r') as input_file,\\\n",
    "with open(\"Lost_wp_revisions.jsonl\", 'w') as output_file:\n",
    "    for article in lost_articles:\n",
    "        page_title = article\n",
    "        print(f\"now working on: {page_title}\")\n",
    "        api_answers = get_article_revision_json(page_title)\n",
    "        for api_answer in api_answers:\n",
    "            print(json.dumps(api_answer), file=output_file)"
   ]
  },
  {
   "cell_type": "code",
   "execution_count": 4,
   "id": "45dac803",
   "metadata": {},
   "outputs": [],
   "source": [
    "revisions = []\n",
    "\n",
    "with open(\"Lost_wp_revisions.jsonl\", 'r') as input_file:\n",
    "    for line in input_file.readlines():\n",
    "        api_answer = json.loads(line)\n",
    "        \n",
    "        # get the list of pages from the json object\n",
    "        pages = api_answer[\"query\"][\"pages\"]\n",
    "\n",
    "        # for every page, (there should always be only one) get its revisions:\n",
    "        for page_id in pages.keys():\n",
    "            query_revisions = pages[page_id][\"revisions\"]\n",
    "            title = pages[page_id]['title']\n",
    "\n",
    "            # for every revision, first we do some cleaning up\n",
    "            for rev in query_revisions:\n",
    "                #print(rev)\n",
    "                # let's continue/skip this revision if the user is hidden\n",
    "                if \"userhidden\" in rev.keys():\n",
    "                    continue\n",
    "                \n",
    "                # 1: add a title field for the article because we're going to mix them together\n",
    "                rev[\"title\"] = title\n",
    "\n",
    "                # 2: let's \"recode\" anon so it's true or false instead of present/missing\n",
    "                if \"anon\" in rev.keys():\n",
    "                    rev[\"anon\"] = True\n",
    "                else:\n",
    "                    rev[\"anon\"] = False\n",
    "\n",
    "                # 3: let's recode \"minor\" in the same way\n",
    "                if \"minor\" in rev.keys():\n",
    "                    rev[\"minor\"] = True\n",
    "                else:\n",
    "                    rev[\"minor\"] = False\n",
    "\n",
    "                # we're going to change the timestamp to make it work a little better in excel/spreadsheets\n",
    "                rev[\"timestamp\"] = rev[\"timestamp\"].replace(\"T\", \" \")\n",
    "                rev[\"timestamp\"] = rev[\"timestamp\"].replace(\"Z\", \"\")\n",
    "\n",
    "                # finally, save the revisions we've seen to a varaible\n",
    "                revisions.append(rev)"
   ]
  },
  {
   "cell_type": "code",
   "execution_count": 5,
   "id": "4557a15a",
   "metadata": {},
   "outputs": [
    {
     "data": {
      "text/plain": [
       "32816"
      ]
     },
     "execution_count": 5,
     "metadata": {},
     "output_type": "execute_result"
    }
   ],
   "source": [
    "num_edits = len(revisions)\n",
    "num_edits"
   ]
  },
  {
   "cell_type": "code",
   "execution_count": 6,
   "id": "89ad357d",
   "metadata": {},
   "outputs": [
    {
     "name": "stdout",
     "output_type": "stream",
     "text": [
      "total edits: 32816\n",
      "anon edits: 12928\n",
      "proportion anon: 0.393954168698196\n"
     ]
    }
   ],
   "source": [
    "# count the number of anonymous edits \n",
    "num_anon = 0\n",
    "\n",
    "for rev in revisions:\n",
    "    if rev[\"anon\"]:\n",
    "        num_anon = num_anon + 1\n",
    "\n",
    "prop_anon = num_anon / num_edits\n",
    "\n",
    "print(f\"total edits: {num_edits}\")\n",
    "print(f\"anon edits: {num_anon}\")\n",
    "print(f\"proportion anon: {prop_anon}\")"
   ]
  },
  {
   "cell_type": "code",
   "execution_count": 7,
   "id": "8b963c71",
   "metadata": {},
   "outputs": [],
   "source": [
    "# lets count the number of edits by day\n",
    "edits_by_day = {}\n",
    "for rev in revisions:\n",
    "    day_string = rev['timestamp'][0:10]\n",
    "\n",
    "    if day_string in edits_by_day.keys():\n",
    "        edits_by_day[day_string] = edits_by_day[day_string] + 1\n",
    "    else:\n",
    "        edits_by_day[day_string] = 1"
   ]
  },
  {
   "cell_type": "code",
   "execution_count": 8,
   "id": "1fd55c83",
   "metadata": {},
   "outputs": [],
   "source": [
    "# write out a TSV file we could analyze in google docs\n",
    "with open(\"Lost_edits_by_day.tsv\", \"w\", encoding='utf-8') as output_file:\n",
    "    # write a header\n",
    "    print(\"date\\tedits\", file=output_file)\n",
    "\n",
    "    # iterate through every day and print out data into the file\n",
    "    for day_string in edits_by_day.keys():\n",
    "        print(\"\\t\".join([day_string, str(edits_by_day[day_string])]), file=output_file)"
   ]
  },
  {
   "cell_type": "code",
   "execution_count": 9,
   "id": "bd1327a0",
   "metadata": {},
   "outputs": [],
   "source": [
    "# write out the rock bands full TSV if we wanted to load that up too!\n",
    "with open('Lost_wp_revisions.tsv', 'w', encoding='utf-8') as output_file:\n",
    "    print(\"title\\ttimestamp\\tuser\\tminor\\tanon\", file=output_file)\n",
    "    for rev in revisions:\n",
    "        print(f\"{rev['title']}\\t{rev['timestamp']}\\t{rev['user']}\\t{rev['minor']}\\t{rev['anon']}\", file=output_file)"
   ]
  },
  {
   "cell_type": "code",
   "execution_count": 10,
   "id": "f9b71121",
   "metadata": {},
   "outputs": [
    {
     "name": "stdout",
     "output_type": "stream",
     "text": [
      "2007-01-29\n"
     ]
    }
   ],
   "source": [
    "print(day_string)"
   ]
  },
  {
   "cell_type": "code",
   "execution_count": 11,
   "id": "da38f388",
   "metadata": {},
   "outputs": [
    {
     "name": "stdout",
     "output_type": "stream",
     "text": [
      "0.393954168698196\n"
     ]
    }
   ],
   "source": [
    "porportion_anon = num_anon / len(revisions)\n",
    "print(porportion_anon)"
   ]
  },
  {
   "cell_type": "code",
   "execution_count": 12,
   "id": "f22ee735",
   "metadata": {},
   "outputs": [
    {
     "name": "stdout",
     "output_type": "stream",
     "text": [
      "total edits: 32816\n",
      "minor edits: 6933\n",
      "proportion minor: 0.21126889322281814\n"
     ]
    }
   ],
   "source": [
    "# count the number of minor edits \n",
    "num_minor = 0\n",
    "\n",
    "for rev in revisions:\n",
    "    if rev[\"minor\"]:\n",
    "        num_minor = num_minor + 1\n",
    "\n",
    "prop_minor = num_minor / num_edits\n",
    "\n",
    "print(f\"total edits: {num_edits}\")\n",
    "print(f\"minor edits: {num_minor}\")\n",
    "print(f\"proportion minor: {prop_minor}\")"
   ]
  },
  {
   "cell_type": "code",
   "execution_count": 13,
   "id": "03a9a159",
   "metadata": {},
   "outputs": [],
   "source": [
    "#Chart: https://docs.google.com/spreadsheets/d/1oNLHzboH6MreKBzO7iuBG2nfaxInNEwDq-N1YzTG0QA/edit?usp=sharing"
   ]
  }
 ],
 "metadata": {
  "kernelspec": {
   "display_name": "Python 3 (ipykernel)",
   "language": "python",
   "name": "python3"
  },
  "language_info": {
   "codemirror_mode": {
    "name": "ipython",
    "version": 3
   },
   "file_extension": ".py",
   "mimetype": "text/x-python",
   "name": "python",
   "nbconvert_exporter": "python",
   "pygments_lexer": "ipython3",
   "version": "3.10.9"
  }
 },
 "nbformat": 4,
 "nbformat_minor": 5
}
