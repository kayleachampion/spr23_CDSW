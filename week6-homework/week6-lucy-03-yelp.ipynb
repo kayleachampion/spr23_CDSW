{
 "cells": [
  {
   "cell_type": "code",
   "execution_count": 32,
   "id": "00eda0ff",
   "metadata": {},
   "outputs": [],
   "source": [
    "#install yelp module - "
   ]
  },
  {
   "cell_type": "code",
   "execution_count": 38,
   "id": "9805af43",
   "metadata": {},
   "outputs": [
    {
     "name": "stdout",
     "output_type": "stream",
     "text": [
      "Requirement already satisfied: yelpapi in c:\\users\\hujin\\anaconda3\\lib\\site-packages (2.5.0)\n",
      "Requirement already satisfied: requests in c:\\users\\hujin\\anaconda3\\lib\\site-packages (from yelpapi) (2.28.1)\n",
      "Requirement already satisfied: charset-normalizer<3,>=2 in c:\\users\\hujin\\anaconda3\\lib\\site-packages (from requests->yelpapi) (2.0.4)\n",
      "Requirement already satisfied: certifi>=2017.4.17 in c:\\users\\hujin\\anaconda3\\lib\\site-packages (from requests->yelpapi) (2022.12.7)\n",
      "Requirement already satisfied: idna<4,>=2.5 in c:\\users\\hujin\\anaconda3\\lib\\site-packages (from requests->yelpapi) (3.4)\n",
      "Requirement already satisfied: urllib3<1.27,>=1.21.1 in c:\\users\\hujin\\anaconda3\\lib\\site-packages (from requests->yelpapi) (1.26.14)\n",
      "Note: you may need to restart the kernel to use updated packages.\n"
     ]
    }
   ],
   "source": [
    "pip install yelpapi"
   ]
  },
  {
   "cell_type": "code",
   "execution_count": null,
   "id": "4ddc15c9",
   "metadata": {},
   "outputs": [],
   "source": [
    "#2.2  /  #2.3"
   ]
  },
  {
   "cell_type": "code",
   "execution_count": null,
   "id": "45ee80b9",
   "metadata": {},
   "outputs": [],
   "source": [
    "#import yelp api key - "
   ]
  },
  {
   "cell_type": "code",
   "execution_count": 39,
   "id": "52d14c74",
   "metadata": {},
   "outputs": [],
   "source": [
    "from yelpapi import YelpAPI"
   ]
  },
  {
   "cell_type": "code",
   "execution_count": 40,
   "id": "0c7e61b7",
   "metadata": {},
   "outputs": [],
   "source": [
    "from yelp_authentication import APIKey"
   ]
  },
  {
   "cell_type": "code",
   "execution_count": null,
   "id": "6520d880",
   "metadata": {},
   "outputs": [],
   "source": [
    "#2.4 list of 50 businesses - hotpot"
   ]
  },
  {
   "cell_type": "code",
   "execution_count": 44,
   "id": "d0aa98b7",
   "metadata": {},
   "outputs": [],
   "source": [
    "# this is same the code as before, but just converted to python arguments!\n",
    "with YelpAPI(APIKey) as yelp_api:\n",
    "    search_results = yelp_api.search_query(term='hotpot',\n",
    "                    limit=50, radius=10000, location = 'Seattle')"
   ]
  },
  {
   "cell_type": "code",
   "execution_count": 45,
   "id": "eb67aba9",
   "metadata": {},
   "outputs": [
    {
     "name": "stdout",
     "output_type": "stream",
     "text": [
      "Chengdu Memory's rating is 4.5\n",
      "Pipa Mountain Hot Pot's rating is 4.5\n",
      "Haidilao Hot Pot - Seattle's rating is 4.5\n",
      "Happy Lamb Hot Pot's rating is 4.5\n",
      "Crazy Monk Hot Pot's rating is 4.5\n",
      "Morfire's rating is 4.5\n",
      "Boiling Point's rating is 3.5\n",
      "Gourmet Noodle Bowl's rating is 4.0\n",
      "Chengdu Taste 滋味成都's rating is 4.0\n",
      "Sizzling Pot King's rating is 4.0\n",
      "Sichuanese Cuisine's rating is 4.0\n",
      "19 GOLD's rating is 4.5\n",
      "Biang Biang Noodles's rating is 4.5\n",
      "Sichuan Hot Pot's rating is 4.0\n",
      "YangGuoFu YGF MalaTang's rating is 4.0\n",
      "Kedai Makan's rating is 4.0\n",
      "Meet Korean BBQ's rating is 4.5\n",
      "Hanok's rating is 4.5\n",
      "Rocking Wok Taiwanese Cuisine's rating is 4.0\n",
      "Kin Len Thai Night Bites's rating is 4.5\n",
      "Xi'an Noodles's rating is 4.5\n",
      "Hong Kong Bistro's rating is 3.5\n",
      "Tyger Tyger's rating is 4.0\n",
      "Huong Duong's rating is 4.5\n",
      "Bugis's rating is 4.5\n",
      "King Noodle's rating is 4.0\n",
      "Stone Korean Restaurant's rating is 4.0\n",
      "Ooink's rating is 4.0\n",
      "Maneki's rating is 4.0\n",
      "Gan Bei's rating is 4.0\n",
      "Tamarind Tree Restaurant's rating is 4.0\n",
      "Pho Bac Súp Shop's rating is 4.0\n",
      "Isarn Thai Soul Kitchen's rating is 4.5\n",
      "Korean Bamboo's rating is 4.0\n",
      "Harbor City Restaurant's rating is 4.0\n",
      "Flavor Lao Bowl's rating is 4.5\n",
      "Red Pepper's rating is 3.5\n",
      "Rainier Restaurant's rating is 4.0\n",
      "Paju's rating is 4.5\n",
      "Shiki Japanese Restaurant's rating is 4.0\n",
      "Bite Of China's rating is 5.0\n",
      "Japonessa Sushi Cocina's rating is 4.0\n",
      "Uwajimaya's rating is 4.5\n",
      "Revel's rating is 3.5\n",
      "Noi Thai Cuisine - Downtown Seattle's rating is 4.0\n",
      "Din Tai Fung's rating is 4.0\n",
      "Taste of Xi'an - Seattle's rating is 4.0\n",
      "Broadway Wok's rating is 4.0\n",
      "Kobuta And Ookami's rating is 4.0\n",
      "Kimchi House's rating is 4.5\n"
     ]
    }
   ],
   "source": [
    "# once again... For each business, print \"STORENAME's rating is RATING\" using \"id\" and \"rating\" of each business from above\n",
    "for business in search_results[\"businesses\"]:\n",
    "    print(f\"{business['name']}\\'s rating is {business['rating']}\")"
   ]
  },
  {
   "cell_type": "code",
   "execution_count": 46,
   "id": "3b56dfed",
   "metadata": {},
   "outputs": [],
   "source": [
    "# 2.5 - saving data to json"
   ]
  },
  {
   "cell_type": "code",
   "execution_count": 47,
   "id": "1b95b91b",
   "metadata": {},
   "outputs": [],
   "source": [
    "import json\n",
    "with open(\"seattle_hotpot.json\", 'w') as output_file:\n",
    "    data_string = json.dumps(search_results) \n",
    "    print(data_string, file=output_file)"
   ]
  },
  {
   "cell_type": "markdown",
   "id": "76a896a9",
   "metadata": {},
   "source": [
    "Done"
   ]
  },
  {
   "cell_type": "code",
   "execution_count": null,
   "id": "a07b5f67",
   "metadata": {},
   "outputs": [],
   "source": []
  }
 ],
 "metadata": {
  "kernelspec": {
   "display_name": "Python 3 (ipykernel)",
   "language": "python",
   "name": "python3"
  },
  "language_info": {
   "codemirror_mode": {
    "name": "ipython",
    "version": 3
   },
   "file_extension": ".py",
   "mimetype": "text/x-python",
   "name": "python",
   "nbconvert_exporter": "python",
   "pygments_lexer": "ipython3",
   "version": "3.10.9"
  }
 },
 "nbformat": 4,
 "nbformat_minor": 5
}
