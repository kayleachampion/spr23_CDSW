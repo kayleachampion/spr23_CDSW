{
 "cells": [
  {
   "cell_type": "code",
   "execution_count": 1,
   "id": "966bf363",
   "metadata": {},
   "outputs": [],
   "source": [
    "import json"
   ]
  },
  {
   "cell_type": "code",
   "execution_count": 11,
   "id": "71368c64",
   "metadata": {},
   "outputs": [],
   "source": [
    "revisions = []\n",
    "\n",
    "with open ('titanic.jsonl', 'r') as input_file:\n",
    "    data1 = input_file.readlines()"
   ]
  },
  {
   "cell_type": "code",
   "execution_count": 12,
   "id": "ed3a53da",
   "metadata": {},
   "outputs": [
    {
     "name": "stdout",
     "output_type": "stream",
     "text": [
      "2\n",
      "0\n",
      "0\n"
     ]
    }
   ],
   "source": [
    "titanic = {}\n",
    "anoncount = 0\n",
    "revisioncount = 0 \n",
    "minorcount = 0\n",
    "\n",
    "for dataset in data1:\n",
    "    data = json.loads(dataset)\n",
    "\n",
    "    pages = data['query']['pages']\n",
    "\n",
    "    for page_id in pages:\n",
    "        title = pages[page_id]['title']\n",
    "        revisions = pages[page_id]['revisions']\n",
    "       \n",
    "        for singlerevision in revisions:\n",
    "            revision = singlerevision['revid']\n",
    "            revisioncount += 1\n",
    "            user = singlerevision['user']\n",
    "            size = singlerevision['size']\n",
    "            time = singlerevision['timestamp']\n",
    "            \n",
    "            if title not in titanic.keys():\n",
    "                titanic [title] = [singlerevision]\n",
    "            else:\n",
    "                titanic [title].append(singlerevision)\n",
    "            \n",
    "            \n",
    "            if 'anon' in singlerevision.keys():\n",
    "                anoncount += 1\n",
    "                \n",
    "            if 'minor' in singlerevision.keys():\n",
    "                minorcount += 1\n",
    "                \n",
    "\n",
    "print(revisioncount)\n",
    "print(anoncount)\n",
    "print(minorcount)           "
   ]
  },
  {
   "cell_type": "code",
   "execution_count": 13,
   "id": "6ae54e4b",
   "metadata": {},
   "outputs": [],
   "source": [
    "def clean_up_timestamp(timestamp): \n",
    "    return (timestamp.split(\"T\")[0])"
   ]
  },
  {
   "cell_type": "code",
   "execution_count": 14,
   "id": "e136d395",
   "metadata": {},
   "outputs": [],
   "source": [
    "with open ('cleantitanic.tsv', 'w') as output_file :\n",
    "    print (\"title\\tRevision Id\\tsize\\ttimestamp\\tuser\", file=output_file)\n",
    "    for title in titanic.keys():\n",
    "           for revisions in titanic[title]:\n",
    "                if 'anon' in revisions.keys():\n",
    "                    user = 'ANON'\n",
    "                else:\n",
    "                    user = 'NOT ANON'\n",
    "                print(f\"{title}\\t{revisions['revid']}\\t{revisions['size']}\\t{clean_up_timestamp(revisions['timestamp'])}\\t{user}\", file=output_file)"
   ]
  },
  {
   "cell_type": "code",
   "execution_count": 15,
   "id": "1f9fe6c7",
   "metadata": {},
   "outputs": [
    {
     "name": "stdout",
     "output_type": "stream",
     "text": [
      "total edits: 2\n",
      "anon edits: 0\n",
      "proportion anon: 0.0\n"
     ]
    }
   ],
   "source": [
    "prop_anon = anoncount / revisioncount \n",
    "\n",
    "print(f\"total edits: {revisioncount}\")\n",
    "print(f\"anon edits: {anoncount}\")\n",
    "print(f\"proportion anon: {prop_anon}\")"
   ]
  },
  {
   "cell_type": "code",
   "execution_count": 16,
   "id": "3ca3d0a2",
   "metadata": {},
   "outputs": [
    {
     "data": {
      "text/plain": [
       "['{\"batchcomplete\": \"\", \"query\": {\"normalized\": [{\"from\": \"titanic\", \"to\": \"Titanic\"}], \"pages\": {\"8270\": {\"pageid\": 8270, \"ns\": 0, \"title\": \"Titanic\", \"revisions\": [{\"revid\": 39300, \"parentid\": 2937, \"user\": \"Mr Taz\", \"timestamp\": \"2020-05-07T13:44:05Z\", \"size\": 48}, {\"revid\": 2937, \"parentid\": 0, \"user\": \"BradRousse\", \"timestamp\": \"2009-06-02T03:46:00Z\", \"size\": 25}]}}}}\\n']"
      ]
     },
     "execution_count": 16,
     "metadata": {},
     "output_type": "execute_result"
    }
   ],
   "source": [
    "with open ('fandom_titanic.jsonl', 'r') as input_file :\n",
    "    fandommaster = input_file.readlines()\n",
    "    \n",
    "fandommaster"
   ]
  },
  {
   "cell_type": "code",
   "execution_count": 17,
   "id": "cb13b6c7",
   "metadata": {},
   "outputs": [],
   "source": [
    "def clean_up_timestamp(timestamp): \n",
    "    return (timestamp.split(\"T\")[0])"
   ]
  },
  {
   "cell_type": "code",
   "execution_count": 36,
   "id": "4c84e8f4",
   "metadata": {},
   "outputs": [
    {
     "ename": "NameError",
     "evalue": "name 'fandomtitanic' is not defined",
     "output_type": "error",
     "traceback": [
      "\u001b[0;31m---------------------------------------------------------------------------\u001b[0m",
      "\u001b[0;31mNameError\u001b[0m                                 Traceback (most recent call last)",
      "Cell \u001b[0;32mIn[36], line 3\u001b[0m\n\u001b[1;32m      1\u001b[0m \u001b[38;5;28;01mwith\u001b[39;00m \u001b[38;5;28mopen\u001b[39m(\u001b[38;5;124m'\u001b[39m\u001b[38;5;124mcleanfandomtitanic.tsv\u001b[39m\u001b[38;5;124m'\u001b[39m, \u001b[38;5;124m'\u001b[39m\u001b[38;5;124mw\u001b[39m\u001b[38;5;124m'\u001b[39m) \u001b[38;5;28;01mas\u001b[39;00m output_file:\n\u001b[1;32m      2\u001b[0m     \u001b[38;5;28mprint\u001b[39m(\u001b[38;5;124m\"\u001b[39m\u001b[38;5;124mtitle\u001b[39m\u001b[38;5;130;01m\\t\u001b[39;00m\u001b[38;5;124mRevision Id\u001b[39m\u001b[38;5;130;01m\\t\u001b[39;00m\u001b[38;5;124msize\u001b[39m\u001b[38;5;130;01m\\t\u001b[39;00m\u001b[38;5;124mtimestamp\u001b[39m\u001b[38;5;130;01m\\t\u001b[39;00m\u001b[38;5;124muser\u001b[39m\u001b[38;5;124m\"\u001b[39m, file\u001b[38;5;241m=\u001b[39moutput_file)\n\u001b[0;32m----> 3\u001b[0m     \u001b[38;5;28;01mfor\u001b[39;00m title, revisions \u001b[38;5;129;01min\u001b[39;00m \u001b[43mfandomtitanic\u001b[49m\u001b[38;5;241m.\u001b[39mitems():\n\u001b[1;32m      4\u001b[0m         \u001b[38;5;28;01mfor\u001b[39;00m revision \u001b[38;5;129;01min\u001b[39;00m revisions:\n\u001b[1;32m      5\u001b[0m             \u001b[38;5;28;01mif\u001b[39;00m \u001b[38;5;124m'\u001b[39m\u001b[38;5;124manon\u001b[39m\u001b[38;5;124m'\u001b[39m \u001b[38;5;129;01min\u001b[39;00m revision[\u001b[38;5;124m'\u001b[39m\u001b[38;5;124muser\u001b[39m\u001b[38;5;124m'\u001b[39m]:\n",
      "\u001b[0;31mNameError\u001b[0m: name 'fandomtitanic' is not defined"
     ]
    }
   ],
   "source": [
    "with open('cleanfandomtitanic.tsv', 'w') as output_file:\n",
    "    print(\"title\\tRevision Id\\tsize\\ttimestamp\\tuser\", file=output_file)\n",
    "    for title, revisions in fandomtitanic.items():\n",
    "        for revision in revisions:\n",
    "            if 'anon' in revision['user']:\n",
    "                user = 'ANON'\n",
    "            else:\n",
    "                user = 'NOT ANON'\n",
    "            print(f\"{title}\\t{revision['revid']}\\t{revision['size']}\\t{clean_up_timestamp(revision['timestamp'])}\\t{user}\", file=output_file)\n"
   ]
  },
  {
   "cell_type": "code",
   "execution_count": null,
   "id": "720ad906",
   "metadata": {},
   "outputs": [],
   "source": []
  }
 ],
 "metadata": {
  "kernelspec": {
   "display_name": "Python 3 (ipykernel)",
   "language": "python",
   "name": "python3"
  },
  "language_info": {
   "codemirror_mode": {
    "name": "ipython",
    "version": 3
   },
   "file_extension": ".py",
   "mimetype": "text/x-python",
   "name": "python",
   "nbconvert_exporter": "python",
   "pygments_lexer": "ipython3",
   "version": "3.10.9"
  }
 },
 "nbformat": 4,
 "nbformat_minor": 5
}
