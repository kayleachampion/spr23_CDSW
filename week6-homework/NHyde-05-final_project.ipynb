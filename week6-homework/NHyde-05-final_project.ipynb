{
 "cells": [
  {
   "cell_type": "markdown",
   "id": "0bb4cdc8",
   "metadata": {},
   "source": [
    "3.1"
   ]
  },
  {
   "cell_type": "markdown",
   "id": "a8f05ba7",
   "metadata": {},
   "source": [
    "Proposed Unit of Analysis\n",
    "-Tracks (songs/ tracks that will represent other parameters that I will be looking at.)"
   ]
  },
  {
   "cell_type": "markdown",
   "id": "ad8ff7b1",
   "metadata": {},
   "source": [
    "3.2"
   ]
  },
  {
   "cell_type": "code",
   "execution_count": 17,
   "id": "14d2fcb1",
   "metadata": {},
   "outputs": [
    {
     "ename": "SyntaxError",
     "evalue": "invalid syntax (4118616670.py, line 1)",
     "output_type": "error",
     "traceback": [
      "\u001b[1;36m  Cell \u001b[1;32mIn[17], line 1\u001b[1;36m\u001b[0m\n\u001b[1;33m    Specific measures include\u001b[0m\n\u001b[1;37m             ^\u001b[0m\n\u001b[1;31mSyntaxError\u001b[0m\u001b[1;31m:\u001b[0m invalid syntax\n"
     ]
    }
   ],
   "source": [
    "Specific measures include\n",
    "Playlists - acousticness - danceability - energy - key - liveliness - mode - tempo - valience - time signature."
   ]
  },
  {
   "cell_type": "markdown",
   "id": "f833c81b",
   "metadata": {},
   "source": [
    "3.3"
   ]
  },
  {
   "cell_type": "markdown",
   "id": "efe6ca9e",
   "metadata": {},
   "source": [
    "1. I will have to make multiple calls to Spotify API. In order to download tracks from Playlist's I can only get 50 at a time.\n",
    "Than I do an offset where I can pull another 50. I would like to do this to several several different playlist so could start me at probaby 5-6 API calls. Than with that list of tracks I will need to make an API call to get the track's audio analysis, which could mean that I will have to make an API for each track.\n",
    "2. I will know when I have enough when Ifeel like I have acheived a diverse lift of tracks that has a diverse and intersectional set of audio features. "
   ]
  },
  {
   "cell_type": "markdown",
   "id": "8a7002f1",
   "metadata": {},
   "source": [
    "4.0"
   ]
  },
  {
   "cell_type": "code",
   "execution_count": null,
   "id": "420123c1",
   "metadata": {},
   "outputs": [],
   "source": [
    "import spotipy "
   ]
  },
  {
   "cell_type": "code",
   "execution_count": null,
   "id": "3dea02c8",
   "metadata": {},
   "outputs": [],
   "source": [
    "from spotify_authentication import SPOTIPY_CLIENT_ID\n",
    "from spotify_authentication import SPOTIPY_CLIENT_SECRET"
   ]
  },
  {
   "cell_type": "code",
   "execution_count": 18,
   "id": "550e7618",
   "metadata": {},
   "outputs": [
    {
     "name": "stdout",
     "output_type": "stream",
     "text": [
      "Laughing with Liza\n",
      "Divine Symmetry\n",
      "Moonage Daydream – A Brett Morgen Film\n",
      "Toy (Toy:Box)\n",
      "Brilliant Adventure (1992 – 2001)\n",
      "At The Kit Kat Klub (Live New York 99)\n",
      "Something In The Air (Live Paris 99)\n",
      "Look At The Moon! (Live Phoenix Festival 97)\n",
      "I'm Only Dancing (The Soul Tour 74) [Live]\n",
      "No Trendy Réchauffé (Live Birmingham 95)\n",
      "The Width Of A Circle\n",
      "ChangesNowBowie\n",
      "Ouvrez Le Chien (Live Dallas 95)\n",
      "Liveandwell.com (2020 Remaster)\n",
      "Metrobolist (aka The Man Who Sold The World) [2020 Mix]\n",
      "Conversation Piece\n",
      "Space Oddity (2019 Mix)\n",
      "The 'Mercury' Demos (with John 'Hutch' Hutchinson)\n",
      "Dance\n",
      "Serious Moonlight (Live '83, 2018 Remaster)\n",
      "Glastonbury 2000 (Live)\n",
      "ライヴ・イン・モントリオール1983 (Live)\n",
      "Welcome To The Blackout (Live London '78)\n",
      "Stage (2017) [Live]\n",
      "Cracked Actor (Live, Los Angeles '74)\n",
      "Live In Berlin (1978)\n",
      "Blackstar\n",
      "The Next Day\n",
      "A Reality Tour (Live)\n",
      "VH1 Storytellers (Live)\n",
      "Glass Spider (Live Montreal '87, 2018 Remaster)\n",
      "Reality\n",
      "Heathen\n",
      "Heathen\n",
      "Heathen\n",
      "Hours...\n",
      "Hours... (Expanded Edition)\n",
      "The Deram Anthology 1966 - 1968\n",
      "Earthling\n",
      "Earthling (Expanded Edition)\n",
      "1. Outside (The Nathan Adler Diaries: A Hyper Cycle)\n",
      "1. Outside (The Nathan Adler Diaries: A Hyper Cycle) [Expanded Edition]\n",
      "London Boy\n",
      "Live in Santa Monica '72\n",
      "Buddha of Suburbia\n",
      "Black Tie White Noise\n",
      "Black Tie White Noise (Extras)\n",
      "Japan 1992\n",
      "Peter & The Wolf\n",
      "David Bowie Narrates Peter And The Wolf\n",
      "Never Let Me Down (2018 Remaster)\n",
      "Never Let Me Down [(Remaster) [Japanese Version]]\n",
      "Labyrinth (From The Original Soundtrack Of The Jim Henson Film)\n",
      "Tonight (2018 Remaster)\n",
      "Ziggy Stardust and the Spiders from Mars (The Motion Picture Soundtrack)\n",
      "Let's Dance (2018 Remaster)\n",
      "Montreal 1983\n",
      "Scary Monsters (And Super Creeps) [2017 Remaster]\n",
      "Lodger (2017 Remaster)\n",
      "David Bowie narrates Prokofiev's Peter and the Wolf & The Young Person's Guide to the Orchestra\n",
      "\"Heroes\" (2017 Remaster)\n",
      "Low (2017 Remaster)\n",
      "Station to Station (2016 Remaster)\n",
      "Live Nassau Coliseum '76\n",
      "Young Americans (2016 Remaster)\n",
      "David Live (2005 Mix, Remastered Version)\n",
      "Diamond Dogs (2016 Remaster)\n",
      "Pinups (2015 Remaster)\n",
      "Aladdin Sane (2013 Remaster)\n",
      "The Rise and Fall of Ziggy Stardust and the Spiders from Mars (2012 Remaster)\n",
      "Hunky Dory (2015 Remaster)\n",
      "The Man Who Sold the World (2015 Remaster)\n",
      "Space Oddity (2019 Mix)\n",
      "David Bowie (aka Space Oddity) [2015 Remaster]\n",
      "David Bowie\n"
     ]
    }
   ],
   "source": [
    "from spotipy.oauth2 import SpotifyClientCredentials\n",
    "\n",
    "uri = 'spotify:artist:0oSGxfWSnnOXhD2fKuz2Gy'\n",
    "spotify = spotipy.Spotify(client_credentials_manager=SpotifyClientCredentials(client_id=SPOTIPY_CLIENT_ID, client_secret=SPOTIPY_CLIENT_SECRET))\n",
    "\n",
    "results = spotify.artist_albums(uri, album_type='album')\n",
    "albums = results['items']\n",
    "while results['next']:\n",
    "    results = spotify.next(results)\n",
    "    albums.extend(results['items'])\n",
    "\n",
    "for album in albums:\n",
    "    print(album['name'])"
   ]
  },
  {
   "cell_type": "code",
   "execution_count": 21,
   "id": "8740aa93",
   "metadata": {},
   "outputs": [],
   "source": [
    "import json\n",
    "bowie_file = r\"C:\\Users\\Nicke\\OneDrive\\Desktop\\CommunityDataScience\\bowie_albums.jsonl\"\n",
    "\n",
    "with open(bowie_file, 'w') as output_file:\n",
    "    \n",
    "    print(json.dumps(albums), file=output_file)\n"
   ]
  },
  {
   "cell_type": "markdown",
   "id": "8f8c0b03",
   "metadata": {},
   "source": [
    "Bowie Albums JSON File is 152 KB\n",
    "\n",
    "I beileve that I will need data on around 200-500 tracks of popular songs in order to get a reasonable dataset to work with. \n",
    "Or two - three playlist of 50-100 songs.\n",
    "It is a problem in the sense that it is alot if API calls slo I need to start pulling data right away. "
   ]
  }
 ],
 "metadata": {
  "kernelspec": {
   "display_name": "Python 3 (ipykernel)",
   "language": "python",
   "name": "python3"
  },
  "language_info": {
   "codemirror_mode": {
    "name": "ipython",
    "version": 3
   },
   "file_extension": ".py",
   "mimetype": "text/x-python",
   "name": "python",
   "nbconvert_exporter": "python",
   "pygments_lexer": "ipython3",
   "version": "3.10.9"
  }
 },
 "nbformat": 4,
 "nbformat_minor": 5
}
