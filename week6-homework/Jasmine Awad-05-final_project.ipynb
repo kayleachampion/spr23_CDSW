{
 "cells": [
  {
   "cell_type": "markdown",
   "id": "2b224d56",
   "metadata": {},
   "source": [
    "<b><u>Progress on your final project </b></u>"
   ]
  },
  {
   "cell_type": "markdown",
   "id": "c23bcec0",
   "metadata": {},
   "source": [
    "Answer these questions using markdown cells in a notebook. Check out the notes I left about this in the Community Data Science Course (Spring 2023)/Week 5 coding challenges (the third paragraph) or think back to Kaylea's comments during the Week 6 assignment recap video."
   ]
  },
  {
   "cell_type": "markdown",
   "id": "39fa1ab2",
   "metadata": {},
   "source": [
    "<b>let us know: <br>\n",
    "<b>1. What is your proposed unit of analysis? In other words, if/when you end up building something like a spreadsheet, what are rows going to represent?"
   ]
  },
  {
   "cell_type": "markdown",
   "id": "324c7d19",
   "metadata": {},
   "source": [
    "I will be using my Amrican Sign Language demographcs survey for my data. My rows are going to be representing each participant in my study."
   ]
  },
  {
   "cell_type": "markdown",
   "id": "e539977c",
   "metadata": {},
   "source": [
    "<b> 2. What specific measures associated with each unit do you want to collect? In other words, what are the columns in the spreadsheet going to be?"
   ]
  },
  {
   "cell_type": "markdown",
   "id": "bc4eafee",
   "metadata": {},
   "source": [
    "The columns are going to be representing demographic information on my participants collected from the survey in redCap. Some examples of the row information will be: Hearing status, Signing Status, Aquiring ASL age, Aquiring English Age, Aquiring SEE age, ASL Fluency, Frequency of ASL usage, English Fluency, Frequency of English Usage, SEE Fluency, Frequency of SEE usage, Primary Caretaker's Native Language, etc..."
   ]
  },
  {
   "cell_type": "markdown",
   "id": "0e7a678e",
   "metadata": {},
   "source": [
    "<b> 3. Tell us what you've learned about the API:<br>\n",
    "<pre><b>(i) Are you going to be able to get the data you want with one API call or many? If more than one, how many? <br>\n",
    "(ii) If it's more than one call, how will you know when you have collected all your data?<br>"
   ]
  },
  {
   "cell_type": "markdown",
   "id": "1a22836e",
   "metadata": {},
   "source": [
    "I should be able to get the data I want with one API call, since I do not have that much data yet (about 40 people's surveys).\n",
    "I'll run the single call again once I have reached at least 80 people (20 CODAs, 20 Deaf/HH, 20 Non Signing Hearing, 20 Student Signers)."
   ]
  },
  {
   "cell_type": "markdown",
   "id": "ab8fb3bd",
   "metadata": {},
   "source": [
    "<b>4. Make one API call and save the output to your desk in either a .json or .jsonl file. Be sure to share the code you used to do this. Be sure not to include any API keys in your notebook!"
   ]
  },
  {
   "cell_type": "markdown",
   "id": "e5ac54e3",
   "metadata": {},
   "source": [
    "I got the following message when trying to get my API token for my surveys: \"Your API token request was successfully sent to a REDCap administrator. You will receive an email notification when they have approved your request. Thank you!\" so I will wait"
   ]
  },
  {
   "cell_type": "markdown",
   "id": "9664baf7",
   "metadata": {},
   "source": [
    "<b> 5. How big is the JSON file that you saved on your disk (i.e., in bytes or kilobytes)? If it is not your full dataset, what is your estimate for how much larger the full dataset will be? How big will the total dataset be? Is that a problem?"
   ]
  },
  {
   "cell_type": "markdown",
   "id": "31c7b864",
   "metadata": {},
   "source": [
    "I believe this dataset will be in bytes and smaller than the datasets we will see in our class since it will be collected from about 80 people."
   ]
  },
  {
   "cell_type": "code",
   "execution_count": null,
   "id": "d46550d4",
   "metadata": {},
   "outputs": [],
   "source": []
  }
 ],
 "metadata": {
  "kernelspec": {
   "display_name": "Python 3 (ipykernel)",
   "language": "python",
   "name": "python3"
  },
  "language_info": {
   "codemirror_mode": {
    "name": "ipython",
    "version": 3
   },
   "file_extension": ".py",
   "mimetype": "text/x-python",
   "name": "python",
   "nbconvert_exporter": "python",
   "pygments_lexer": "ipython3",
   "version": "3.10.9"
  }
 },
 "nbformat": 4,
 "nbformat_minor": 5
}
