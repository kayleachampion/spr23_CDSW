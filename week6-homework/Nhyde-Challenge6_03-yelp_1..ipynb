{
 "cells": [
  {
   "cell_type": "code",
   "execution_count": 7,
   "id": "a6ef04c1",
   "metadata": {},
   "outputs": [],
   "source": [
    "from yelpapi import YelpAPI\n",
    "from yelp_authentication import APIkey"
   ]
  },
  {
   "cell_type": "code",
   "execution_count": 10,
   "id": "599a05b2",
   "metadata": {},
   "outputs": [],
   "source": [
    "with YelpAPI(APIkey) as yelp_api:\n",
    "    search_results = yelp_api.search_query(term='pizza',\n",
    "                    limit=50, radius=10000, location = 'Seattle')"
   ]
  },
  {
   "cell_type": "markdown",
   "id": "e1caf530",
   "metadata": {},
   "source": [
    "2.5"
   ]
  },
  {
   "cell_type": "code",
   "execution_count": 14,
   "id": "a5a597ec",
   "metadata": {},
   "outputs": [
    {
     "name": "stdout",
     "output_type": "stream",
     "text": [
      "done\n"
     ]
    }
   ],
   "source": [
    "import json\n",
    "seattle_pizza_file = r\"C:\\Users\\Nicke\\OneDrive\\Desktop\\CommunityDataScience\\seattle_pizza.jsonl\"\n",
    "\n",
    "with open(seattle_pizza_file, 'w') as output_file:\n",
    "    \n",
    "    print(json.dumps(search_results), file=output_file)"
   ]
  },
  {
   "cell_type": "code",
   "execution_count": null,
   "id": "c66f9844",
   "metadata": {},
   "outputs": [],
   "source": []
  }
 ],
 "metadata": {
  "kernelspec": {
   "display_name": "Python 3 (ipykernel)",
   "language": "python",
   "name": "python3"
  },
  "language_info": {
   "codemirror_mode": {
    "name": "ipython",
    "version": 3
   },
   "file_extension": ".py",
   "mimetype": "text/x-python",
   "name": "python",
   "nbconvert_exporter": "python",
   "pygments_lexer": "ipython3",
   "version": "3.10.9"
  }
 },
 "nbformat": 4,
 "nbformat_minor": 5
}
