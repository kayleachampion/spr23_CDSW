{
 "cells": [
  {
   "cell_type": "markdown",
   "id": "f7593de1",
   "metadata": {},
   "source": [
    "## 1. MediaWiki API\n",
    "##### \"\"People Keep Asking If I'm Back, And I Haven't Really Had An Answer. But Now, Yeah! I'm Thinking I'm Back!\" -- John Wick"
   ]
  },
  {
   "cell_type": "markdown",
   "id": "9e10d47c",
   "metadata": {},
   "source": [
    "#### 5 articles from Wikipedia + size in bytes, total revisions, minor revs, anon revs"
   ]
  },
  {
   "cell_type": "code",
   "execution_count": 26,
   "id": "c9585846",
   "metadata": {},
   "outputs": [],
   "source": [
    "import requests\n",
    "import json\n",
    "import csv\n",
    "from datetime import datetime, timedelta\n",
    "\n",
    "# set up the API endpoint and parameters\n",
    "url = \"https://en.wikipedia.org/w/api.php\"\n",
    "params = {\n",
    "    \"action\": \"query\",\n",
    "    \"format\": \"json\",\n",
    "    \"prop\": \"revisions\",\n",
    "    \"titles\": \"Excommunication\",\n",
    "    \"rvprop\": \"timestamp|user|comment|flags|size\", # add \"size\" property\n",
    "    \"rvdir\": \"newer\",\n",
    "    \"rvstart\": \"2022-01-01T00:00:00Z\",\n",
    "    \"rvend\": \"2022-12-31T23:59:59Z\",\n",
    "    \"rvlimit\": \"max\"\n",
    "}\n",
    "\n",
    "# make the API request and retrieve the revisions data\n",
    "response = requests.get(url=url, params=params)\n",
    "data = json.loads(response.text)\n",
    "pages = data['query']['pages']\n",
    "pageid = list(pages.keys())[0]\n",
    "revisions = pages[pageid]['revisions']\n",
    "\n",
    "# initialize the dictionaries to store the revision data\n",
    "total_revisions_by_day = {}\n",
    "minor_revisions_by_day = {}\n",
    "anon_revisions_by_day = {}\n",
    "size_by_day = {} # initialize dictionary to store size of article by day\n",
    "\n",
    "# iterate through the revisions data and store the data by day\n",
    "for rev in revisions:\n",
    "    timestamp = datetime.strptime(rev['timestamp'], \"%Y-%m-%dT%H:%M:%SZ\")\n",
    "    if timestamp < datetime(2022, 1, 1) or timestamp > datetime(2022, 12, 31):\n",
    "        continue\n",
    "    day = timestamp.strftime(\"%Y-%m-%d\")\n",
    "    if day not in total_revisions_by_day:\n",
    "        total_revisions_by_day[day] = 0\n",
    "        minor_revisions_by_day[day] = 0\n",
    "        anon_revisions_by_day[day] = 0\n",
    "        size_by_day[day] = rev['size'] # initialize size of article for the day\n",
    "    total_revisions_by_day[day] += 1\n",
    "    if 'minor' in rev:\n",
    "        minor_revisions_by_day[day] += 1\n",
    "    if 'anon' in rev:\n",
    "        anon_revisions_by_day[day] += 1\n",
    "    size_by_day[day] = rev['size'] # update size of article for the day\n",
    "\n",
    "# write the data into a .tsv file\n",
    "with open(\"john_wick_excommunication_revisions_2022.tsv\", mode=\"w\", newline='') as file:\n",
    "    writer = csv.writer(file, delimiter=\"\\t\")\n",
    "    writer.writerow([\"Day\", \"Total Revisions\", \"Minor Revisions\", \"Anon Revisions\", \"Size (bytes)\"]) # add size column header\n",
    "    for day in sorted(total_revisions_by_day.keys()):\n",
    "        writer.writerow([day, total_revisions_by_day[day], minor_revisions_by_day[day], anon_revisions_by_day[day], size_by_day[day]]) # add size value for the day\n"
   ]
  },
  {
   "cell_type": "markdown",
   "id": "8b4d468f",
   "metadata": {},
   "source": [
    "#### 5 articles from Fandom + size in bytes, total revisions, minor revs, anon revs"
   ]
  },
  {
   "cell_type": "code",
   "execution_count": 32,
   "id": "18c9888f",
   "metadata": {},
   "outputs": [],
   "source": [
    "import requests\n",
    "import json\n",
    "import csv\n",
    "from datetime import datetime, timedelta\n",
    "\n",
    "# set up the API endpoint and parameters\n",
    "url = \"https://johnwick.fandom.com/api.php\"\n",
    "params = {\n",
    "    \"action\": \"query\",\n",
    "    \"format\": \"json\",\n",
    "    \"prop\": \"revisions\",\n",
    "    \"titles\": \"Excommunicado\",\n",
    "    \"rvprop\": \"timestamp|user|comment|flags|size\", # add \"size\" property\n",
    "    \"rvdir\": \"newer\",\n",
    "    \"rvstart\": \"2022-01-01T00:00:00Z\",\n",
    "    \"rvend\": \"2022-12-31T23:59:59Z\",\n",
    "    \"rvlimit\": \"max\"\n",
    "}\n",
    "\n",
    "# make the API request and retrieve the revisions data\n",
    "response = requests.get(url=url, params=params)\n",
    "data = json.loads(response.text)\n",
    "pages = data['query']['pages']\n",
    "pageid = list(pages.keys())[0]\n",
    "revisions = pages[pageid]['revisions']\n",
    "\n",
    "# initialize the dictionaries to store the revision data\n",
    "total_revisions_by_day = {}\n",
    "minor_revisions_by_day = {}\n",
    "anon_revisions_by_day = {}\n",
    "size_by_day = {} # initialize dictionary to store size of article by day\n",
    "\n",
    "# iterate through the revisions data and store the data by day\n",
    "for rev in revisions:\n",
    "    timestamp = datetime.strptime(rev['timestamp'], \"%Y-%m-%dT%H:%M:%SZ\")\n",
    "    if timestamp < datetime(2022, 1, 1) or timestamp > datetime(2022, 12, 31):\n",
    "        continue\n",
    "    day = timestamp.strftime(\"%Y-%m-%d\")\n",
    "    if day not in total_revisions_by_day:\n",
    "        total_revisions_by_day[day] = 0\n",
    "        minor_revisions_by_day[day] = 0\n",
    "        anon_revisions_by_day[day] = 0\n",
    "        size_by_day[day] = rev['size'] # initialize size of article for the day\n",
    "    total_revisions_by_day[day] += 1\n",
    "    if 'minor' in rev:\n",
    "        minor_revisions_by_day[day] += 1\n",
    "    if 'anon' in rev:\n",
    "        anon_revisions_by_day[day] += 1\n",
    "    size_by_day[day] = rev['size'] # update size of article for the day\n",
    "\n",
    "# write the data into a .tsv file\n",
    "with open(\"john_wick_excommunicado_revisions_2022_fandom.tsv\", mode=\"w\", newline='') as file:\n",
    "    writer = csv.writer(file, delimiter=\"\\t\")\n",
    "    writer.writerow([\"Day\", \"Total Revisions\", \"Minor Revisions\", \"Anon Revisions\", \"Size (bytes)\"]) # add size column header\n",
    "    for day in sorted(total_revisions_by_day.keys()):\n",
    "        writer.writerow([day, total_revisions_by_day[day], minor_revisions_by_day[day], anon_revisions_by_day[day], size_by_day[day]]) # add size value for the day\n"
   ]
  },
  {
   "cell_type": "code",
   "execution_count": null,
   "id": "95ea4da8",
   "metadata": {},
   "outputs": [],
   "source": [
    "#GDocs Notebook: https://docs.google.com/spreadsheets/d/1hf3-Ikv0BeLL6LYSSgDkr1Q9jK7jJMtsWiznXt9vvwo/edit?usp=sharing"
   ]
  },
  {
   "cell_type": "code",
   "execution_count": null,
   "id": "81a52dbf",
   "metadata": {},
   "outputs": [],
   "source": [
    "# 43% of edits in all John Wick pages sampled were made by anons. surprising?\n",
    "# 13% of all edits were considered minor"
   ]
  },
  {
   "cell_type": "markdown",
   "id": "2505a0d5",
   "metadata": {},
   "source": [
    "All pages:\n",
    "\n",
    "Wiki:\n",
    "https://en.wikipedia.org/wiki/John_Wick\n",
    "https://en.wikipedia.org/wiki/John_Wick:_Chapter_2\n",
    "https://en.wikipedia.org/wiki/John_Wick:_Chapter_3_-_Parabellum\n",
    "https://en.wikipedia.org/wiki/John_Wick:_Chapter_4\n",
    "https://en.wikipedia.org/wiki/Excommunication\n",
    "\n",
    "Fandom:\n",
    "https://johnwick.fandom.com/wiki/John_Wick\n",
    "https://johnwick.fandom.com/wiki/John_Wick:_Chapter_2\n",
    "https://johnwick.fandom.com/wiki/John_Wick:_Chapter_3_-_Parabellum\n",
    "https://johnwick.fandom.com/wiki/John_Wick:_Chapter_4\n",
    "https://johnwick.fandom.com/wiki/Excommunicado"
   ]
  }
 ],
 "metadata": {
  "kernelspec": {
   "display_name": "Python 3 (ipykernel)",
   "language": "python",
   "name": "python3"
  },
  "language_info": {
   "codemirror_mode": {
    "name": "ipython",
    "version": 3
   },
   "file_extension": ".py",
   "mimetype": "text/x-python",
   "name": "python",
   "nbconvert_exporter": "python",
   "pygments_lexer": "ipython3",
   "version": "3.10.9"
  }
 },
 "nbformat": 4,
 "nbformat_minor": 5
}
