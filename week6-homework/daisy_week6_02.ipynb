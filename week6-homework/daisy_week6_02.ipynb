{
 "cells": [
  {
   "cell_type": "code",
   "execution_count": 4,
   "id": "a44195a1",
   "metadata": {},
   "outputs": [],
   "source": [
    "import json\n",
    "\n",
    "with open(\"seattle_coffee.json\") as f:\n",
    "    data = json.load(f)"
   ]
  },
  {
   "cell_type": "code",
   "execution_count": 6,
   "id": "085b07bf",
   "metadata": {},
   "outputs": [],
   "source": [
    "output_data = []\n",
    "\n",
    "for business in data[\"businesses\"]:\n",
    "    name = business[\"name\"]\n",
    "    rating = business[\"rating\"]\n",
    "    num_reviews = business[\"review_count\"]\n",
    "    categories = \", \".join([category[\"title\"] for category in business[\"categories\"]])\n",
    "    location = \", \".join([business[\"location\"][\"address1\"], business[\"location\"][\"city\"], business[\"location\"][\"state\"], business[\"location\"][\"zip_code\"]])\n",
    "    output_data.append([name, rating, num_reviews, categories, location])\n"
   ]
  },
  {
   "cell_type": "code",
   "execution_count": 2,
   "id": "04f1120a",
   "metadata": {},
   "outputs": [],
   "source": [
    "import csv\n",
    "\n",
    "with open(\"wiki_animation.tsv\", \"w\", newline=\"\", encoding=\"utf-8\") as f:\n",
    "    writer = csv.writer(f, delimiter=\"\\t\")\n",
    "    writer.writerow([\"Keyword\",\"Percentage of Anon\",\"Percentage of Minor\"])\n"
   ]
  },
  {
   "cell_type": "code",
   "execution_count": null,
   "id": "e9a4a3de",
   "metadata": {},
   "outputs": [],
   "source": [
    "##https://docs.google.com/spreadsheets/d/1r8Y0qN-DvjJp84nrqZzSgqtsFSKhQV2ZiN1ic30WPJ0/edit#gid=1804314978"
   ]
  },
  {
   "cell_type": "code",
   "execution_count": null,
   "id": "92b560a0",
   "metadata": {},
   "outputs": [],
   "source": [
    "## What is your proposed unit of analysis? In other words, if/when you end up building something like a spreadsheet, what are rows going to represent?"
   ]
  },
  {
   "cell_type": "code",
   "execution_count": null,
   "id": "b321aa7a",
   "metadata": {},
   "outputs": [],
   "source": [
    "##1.2.Each row will represent a single business,like a coffee store's specific information.\n",
    "##The columns in the spreadsheet will include the name of the business,rating, sum of reviews, categories, location"
   ]
  },
  {
   "cell_type": "code",
   "execution_count": null,
   "id": "3d3e1b52",
   "metadata": {},
   "outputs": [],
   "source": [
    "##I learned that it requires an API key to use, \n",
    "##which is different for everyone and can't be told to anyone else, \n",
    "##and can be accessed 500 times per day, but that was perfectly adequate for our final project."
   ]
  },
  {
   "cell_type": "code",
   "execution_count": null,
   "id": "d572029e",
   "metadata": {},
   "outputs": [],
   "source": [
    "##If we want to get data for multiple businesses, we will need to make multiple API calls, one for each business. We can use the business ID to make the calls for each business.\n",
    "##To know when we have collected all the data, we can keep track of the number of businesses we want to get data from and the number of API calls we have made. Once we have made API calls for all the businesses, we can collect all the data."
   ]
  },
  {
   "cell_type": "code",
   "execution_count": null,
   "id": "535916fc",
   "metadata": {},
   "outputs": [],
   "source": [
    "##My jason file is 10,105 bytes (12 KB on disk)\n",
    "##My actual file will be bigger that this, because it only include 50 stores. I think the size should be ok? because seattle probably has no more than 1000 coffee stores. "
   ]
  }
 ],
 "metadata": {
  "kernelspec": {
   "display_name": "Python 3 (ipykernel)",
   "language": "python",
   "name": "python3"
  },
  "language_info": {
   "codemirror_mode": {
    "name": "ipython",
    "version": 3
   },
   "file_extension": ".py",
   "mimetype": "text/x-python",
   "name": "python",
   "nbconvert_exporter": "python",
   "pygments_lexer": "ipython3",
   "version": "3.10.9"
  }
 },
 "nbformat": 4,
 "nbformat_minor": 5
}
