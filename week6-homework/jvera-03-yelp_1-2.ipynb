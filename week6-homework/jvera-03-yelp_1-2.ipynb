{
 "cells": [
  {
   "cell_type": "code",
   "execution_count": 11,
   "id": "5ac8c96a",
   "metadata": {
    "scrolled": true
   },
   "outputs": [],
   "source": [
    "import requests\n",
    "import json\n",
    "import csv"
   ]
  },
  {
   "cell_type": "code",
   "execution_count": 2,
   "id": "6ad57ea9",
   "metadata": {},
   "outputs": [],
   "source": [
    "#API keys. OK! I couldn't get this to work using the technique in the examples. Hard-coded these instead.\n",
    "client_id = 'XX'\n",
    "api_key = 'XX'"
   ]
  },
  {
   "cell_type": "code",
   "execution_count": 3,
   "id": "0d726d02",
   "metadata": {},
   "outputs": [],
   "source": [
    "# 2. Define my API Key, my endpoint, and my header\n",
    "ENDPOINT = 'https://api.yelp.com/v3/businesses/search'\n",
    "HEADERS = {'Authorization': f\"bearer {api_key}\"}"
   ]
  },
  {
   "cell_type": "code",
   "execution_count": 4,
   "id": "cd8221f5",
   "metadata": {},
   "outputs": [],
   "source": [
    "# 3. Define my parameters of the search\n",
    "#   In this example, we're asking for:\n",
    "#   up to 50 places ('limit') that match taiyaki ('term')\n",
    "#   within 10000m ('radius') of Boston ('location').\n",
    "PARAMETERS = {'term': 'taiyaki',\n",
    "              'limit': 50,\n",
    "              'radius': 10000,\n",
    "              'location': 'Boston'}\n",
    "\n",
    "# 4. Make a request to the Yelp API\n",
    "response = requests.get(url = ENDPOINT,\n",
    "                        params = PARAMETERS,\n",
    "                        headers = HEADERS)"
   ]
  },
  {
   "cell_type": "code",
   "execution_count": 5,
   "id": "769a86ba",
   "metadata": {},
   "outputs": [],
   "source": [
    "# 5. Print response\n",
    "#    Try print(response) and see what you get instead\n",
    "#    .json() converts the JSON data Yelp gives us to something more usable in Python (dictionary)\n",
    "taiyaki = response.json()"
   ]
  },
  {
   "cell_type": "code",
   "execution_count": 6,
   "id": "e6fe780e",
   "metadata": {},
   "outputs": [
    {
     "name": "stdout",
     "output_type": "stream",
     "text": [
      "{'businesses': [{'id': '_LUnyOwSpo8N5783rceT5Q', 'alias': 'taiyaki-nyc-boston-boston', 'name': 'Taiyaki NYC - Boston', 'image_url': 'https://s3-media2.fl.yelpcdn.com/bphoto/h2PangQeXg66A2vgYWR8nQ/o.jpg', 'is_closed': False, 'url': 'https://www.yelp.com/biz/taiyaki-nyc-boston-boston?adjust_creative=S7TDQktTJzffzCNjjfZLcw&utm_campaign=yelp_api_v3&utm_medium=api_v3_business_search&utm_source=S7TDQktTJzffzCNjjfZLcw', 'review_count': 649, 'categories': [{'alias': 'icecream', 'title': 'Ice Cream & Frozen Yogurt'}, {'alias': 'desserts', 'title': 'Desserts'}, {'alias': 'japanese', 'title': 'Japanese'}], 'rating': 4.0, 'coordinates': {'latitude': 42.351006, 'longitude': -71.0447803}, 'transactions': ['pickup', 'delivery'], 'price': '$', 'location': {'address1': '119 Seaport Blvd', 'address2': 'Ste B', 'address3': '', 'city': 'Boston', 'zip_code': '02210', 'country': 'US', 'state': 'MA', 'display_address': ['119 Seaport Blvd', 'Ste B', 'Boston, MA 02210']}, 'phone': '+16175313514', 'display_phone': '(617) 531-3514', 'distance': 2202.9700983968064}, {'id': 'k6r5Z8dhJo2nujidfoI8Mg', 'alias': 'taiyaki-nyc-x-the-dough-club-cambridge-cambridge', 'name': 'Taiyaki NYC x The Dough Club - Cambridge', 'image_url': 'https://s3-media2.fl.yelpcdn.com/bphoto/QYtLjjkXwXiuseITPh7oPA/o.jpg', 'is_closed': False, 'url': 'https://www.yelp.com/biz/taiyaki-nyc-x-the-dough-club-cambridge-cambridge?adjust_creative=S7TDQktTJzffzCNjjfZLcw&utm_campaign=yelp_api_v3&utm_medium=api_v3_business_search&utm_source=S7TDQktTJzffzCNjjfZLcw', 'review_count': 29, 'categories': [{'alias': 'desserts', 'title': 'Desserts'}, {'alias': 'icecream', 'title': 'Ice Cream & Frozen Yogurt'}, {'alias': 'donuts', 'title': 'Donuts'}], 'rating': 4.5, 'coordinates': {'latitude': 42.37414, 'longitude': -71.11927}, 'transactions': [], 'location': {'address1': '6 Church St', 'address2': None, 'address3': '', 'city': 'Cambridge', 'zip_code': '02138', 'country': 'US', 'state': 'MA', 'display_address': ['6 Church St', 'Cambridge, MA 02138']}, 'phone': '+16179450983', 'display_phone': '(617) 945-0983', 'distance': 4920.630688604771}, {'id': 'NS9It1fuETA-gbDI6GafLQ', 'alias': 'sweet-waffles-boba-boston-2', 'name': 'Sweet Waffles + Boba', 'image_url': 'https://s3-media3.fl.yelpcdn.com/bphoto/uBFAo5nrv81OSoI9BGxHUA/o.jpg', 'is_closed': False, 'url': 'https://www.yelp.com/biz/sweet-waffles-boba-boston-2?adjust_creative=S7TDQktTJzffzCNjjfZLcw&utm_campaign=yelp_api_v3&utm_medium=api_v3_business_search&utm_source=S7TDQktTJzffzCNjjfZLcw', 'review_count': 225, 'categories': [{'alias': 'bubbletea', 'title': 'Bubble Tea'}, {'alias': 'coffee', 'title': 'Coffee & Tea'}, {'alias': 'desserts', 'title': 'Desserts'}], 'rating': 4.5, 'coordinates': {'latitude': 42.3505, 'longitude': -71.05995}, 'transactions': ['delivery'], 'price': '$$', 'location': {'address1': '18 Hudson St', 'address2': None, 'address3': '', 'city': 'Boston', 'zip_code': '02111', 'country': 'US', 'state': 'MA', 'display_address': ['18 Hudson St', 'Boston, MA 02111']}, 'phone': '', 'display_phone': '', 'distance': 976.8870278241593}, {'id': 'jTpZ75QFludbirSJv6Qvfw', 'alias': 'matcha-café-maiko-boston', 'name': 'Matcha Café Maiko', 'image_url': 'https://s3-media4.fl.yelpcdn.com/bphoto/c0R05YpCCHLfF1hRoFSxew/o.jpg', 'is_closed': False, 'url': 'https://www.yelp.com/biz/matcha-caf%C3%A9-maiko-boston?adjust_creative=S7TDQktTJzffzCNjjfZLcw&utm_campaign=yelp_api_v3&utm_medium=api_v3_business_search&utm_source=S7TDQktTJzffzCNjjfZLcw', 'review_count': 187, 'categories': [{'alias': 'bubbletea', 'title': 'Bubble Tea'}, {'alias': 'icecream', 'title': 'Ice Cream & Frozen Yogurt'}], 'rating': 4.5, 'coordinates': {'latitude': 42.34266, 'longitude': -71.09711}, 'transactions': ['pickup', 'delivery'], 'price': '$$', 'location': {'address1': '115 Jersey St', 'address2': None, 'address3': '', 'city': 'Boston', 'zip_code': '02215', 'country': 'US', 'state': 'MA', 'display_address': ['115 Jersey St', 'Boston, MA 02215']}, 'phone': '+16173225360', 'display_phone': '(617) 322-5360', 'distance': 2203.0455738353944}, {'id': 'Z7T8HSOTIBnOxgazKqMt5w', 'alias': 'yotopia-cambridge', 'name': 'Yotopia', 'image_url': 'https://s3-media3.fl.yelpcdn.com/bphoto/P9f497bERZygrE_s6psyTw/o.jpg', 'is_closed': False, 'url': 'https://www.yelp.com/biz/yotopia-cambridge?adjust_creative=S7TDQktTJzffzCNjjfZLcw&utm_campaign=yelp_api_v3&utm_medium=api_v3_business_search&utm_source=S7TDQktTJzffzCNjjfZLcw', 'review_count': 30, 'categories': [{'alias': 'desserts', 'title': 'Desserts'}, {'alias': 'bubbletea', 'title': 'Bubble Tea'}, {'alias': 'icecream', 'title': 'Ice Cream & Frozen Yogurt'}], 'rating': 4.0, 'coordinates': {'latitude': 42.3872183441831, 'longitude': -71.1184215738075}, 'transactions': ['pickup', 'delivery'], 'price': '$', 'location': {'address1': '1815 Massachusetts Ave', 'address2': '', 'address3': '', 'city': 'Cambridge', 'zip_code': '02140', 'country': 'US', 'state': 'MA', 'display_address': ['1815 Massachusetts Ave', 'Cambridge, MA 02140']}, 'phone': '', 'display_phone': '', 'distance': 5847.553245295522}, {'id': '_YB5QIVgxTUO0MHQWkm8rA', 'alias': 'teamoji-boston-2', 'name': 'TeaMoji', 'image_url': 'https://s3-media3.fl.yelpcdn.com/bphoto/oj1CT_JjyJML2esFjUOZKw/o.jpg', 'is_closed': False, 'url': 'https://www.yelp.com/biz/teamoji-boston-2?adjust_creative=S7TDQktTJzffzCNjjfZLcw&utm_campaign=yelp_api_v3&utm_medium=api_v3_business_search&utm_source=S7TDQktTJzffzCNjjfZLcw', 'review_count': 162, 'categories': [{'alias': 'bubbletea', 'title': 'Bubble Tea'}, {'alias': 'coffee', 'title': 'Coffee & Tea'}, {'alias': 'sandwiches', 'title': 'Sandwiches'}], 'rating': 4.0, 'coordinates': {'latitude': 42.35378, 'longitude': -71.13746}, 'transactions': ['pickup', 'delivery'], 'price': '$', 'location': {'address1': '3 N Beacon St', 'address2': '', 'address3': None, 'city': 'Boston', 'zip_code': '02134', 'country': 'US', 'state': 'MA', 'display_address': ['3 N Beacon St', 'Boston, MA 02134']}, 'phone': '+16179033496', 'display_phone': '(617) 903-3496', 'distance': 5484.948289813707}, {'id': 'UOh7UdNocP9q5tPwAXipAg', 'alias': 'gyu-kaku-japanese-bbq-brookline', 'name': 'Gyu-Kaku Japanese BBQ', 'image_url': 'https://s3-media1.fl.yelpcdn.com/bphoto/mNBn4z67oAdw4loOKs8MZg/o.jpg', 'is_closed': False, 'url': 'https://www.yelp.com/biz/gyu-kaku-japanese-bbq-brookline?adjust_creative=S7TDQktTJzffzCNjjfZLcw&utm_campaign=yelp_api_v3&utm_medium=api_v3_business_search&utm_source=S7TDQktTJzffzCNjjfZLcw', 'review_count': 898, 'categories': [{'alias': 'japanese', 'title': 'Japanese'}, {'alias': 'bbq', 'title': 'Barbeque'}, {'alias': 'asianfusion', 'title': 'Asian Fusion'}], 'rating': 4.0, 'coordinates': {'latitude': 42.3464102, 'longitude': -71.1070482}, 'transactions': ['pickup', 'delivery'], 'price': '$$$', 'location': {'address1': '1002 Beacon St', 'address2': '', 'address3': '', 'city': 'Brookline', 'zip_code': '02446', 'country': 'US', 'state': 'MA', 'display_address': ['1002 Beacon St', 'Brookline, MA 02446']}, 'phone': '+16172646190', 'display_phone': '(617) 264-6190', 'distance': 2946.8055717938546}, {'id': 'Q8g68ZDAt93h_n_wTbwshA', 'alias': 'shōjō-boston-boston-2', 'name': 'Shōjō-Boston', 'image_url': 'https://s3-media1.fl.yelpcdn.com/bphoto/CSSmYu9DFH0IXz5n0Mx-3g/o.jpg', 'is_closed': False, 'url': 'https://www.yelp.com/biz/sh%C5%8Dj%C5%8D-boston-boston-2?adjust_creative=S7TDQktTJzffzCNjjfZLcw&utm_campaign=yelp_api_v3&utm_medium=api_v3_business_search&utm_source=S7TDQktTJzffzCNjjfZLcw', 'review_count': 974, 'categories': [{'alias': 'asianfusion', 'title': 'Asian Fusion'}, {'alias': 'cocktailbars', 'title': 'Cocktail Bars'}, {'alias': 'japanese', 'title': 'Japanese'}], 'rating': 4.0, 'coordinates': {'latitude': 42.35113, 'longitude': -71.06077}, 'transactions': ['pickup', 'delivery'], 'price': '$$', 'location': {'address1': '9A Tyler St', 'address2': None, 'address3': '', 'city': 'Boston', 'zip_code': '02111', 'country': 'US', 'state': 'MA', 'display_address': ['9A Tyler St', 'Boston, MA 02111']}, 'phone': '+16174237888', 'display_phone': '(617) 423-7888', 'distance': 932.457880665299}, {'id': 'UKCwWu4CZkNnR9dGbfi7CQ', 'alias': 'limered-tea-house-boston', 'name': 'LimeRed Tea House', 'image_url': 'https://s3-media2.fl.yelpcdn.com/bphoto/mqdXeIazqLI2nfOam1nw_A/o.jpg', 'is_closed': False, 'url': 'https://www.yelp.com/biz/limered-tea-house-boston?adjust_creative=S7TDQktTJzffzCNjjfZLcw&utm_campaign=yelp_api_v3&utm_medium=api_v3_business_search&utm_source=S7TDQktTJzffzCNjjfZLcw', 'review_count': 231, 'categories': [{'alias': 'coffee', 'title': 'Coffee & Tea'}, {'alias': 'bubbletea', 'title': 'Bubble Tea'}, {'alias': 'icecream', 'title': 'Ice Cream & Frozen Yogurt'}], 'rating': 4.5, 'coordinates': {'latitude': 42.3519480363484, 'longitude': -71.1240853720588}, 'transactions': ['pickup', 'delivery'], 'price': '$', 'location': {'address1': '1092 Commonwealth Ave', 'address2': '', 'address3': None, 'city': 'Boston', 'zip_code': '02215', 'country': 'US', 'state': 'MA', 'display_address': ['1092 Commonwealth Ave', 'Boston, MA 02215']}, 'phone': '+16172490020', 'display_phone': '(617) 249-0020', 'distance': 4366.393067717438}, {'id': 'NJsT9kBEOW3uyPcvmZrfJA', 'alias': 'yume-ga-arukara-cambridge-2', 'name': 'Yume Ga Arukara', 'image_url': 'https://s3-media3.fl.yelpcdn.com/bphoto/UWr0QxmHftdsZGsyGXd46Q/o.jpg', 'is_closed': False, 'url': 'https://www.yelp.com/biz/yume-ga-arukara-cambridge-2?adjust_creative=S7TDQktTJzffzCNjjfZLcw&utm_campaign=yelp_api_v3&utm_medium=api_v3_business_search&utm_source=S7TDQktTJzffzCNjjfZLcw', 'review_count': 611, 'categories': [{'alias': 'japanese', 'title': 'Japanese'}, {'alias': 'noodles', 'title': 'Noodles'}], 'rating': 4.5, 'coordinates': {'latitude': 42.387225, 'longitude': -71.118534}, 'transactions': ['delivery'], 'price': '$$', 'location': {'address1': '1815 Massachusetts Ave', 'address2': '', 'address3': None, 'city': 'Cambridge', 'zip_code': '02140', 'country': 'US', 'state': 'MA', 'display_address': ['1815 Massachusetts Ave', 'Cambridge, MA 02140']}, 'phone': '', 'display_phone': '', 'distance': 5854.2329178607215}, {'id': '9BmP5aQyuvbT-xwpcej1Yw', 'alias': 'futago-udon-boston', 'name': 'Futago Udon', 'image_url': 'https://s3-media3.fl.yelpcdn.com/bphoto/nPBcDd-IbGiYeDikR6CzeA/o.jpg', 'is_closed': False, 'url': 'https://www.yelp.com/biz/futago-udon-boston?adjust_creative=S7TDQktTJzffzCNjjfZLcw&utm_campaign=yelp_api_v3&utm_medium=api_v3_business_search&utm_source=S7TDQktTJzffzCNjjfZLcw', 'review_count': 447, 'categories': [{'alias': 'japanese', 'title': 'Japanese'}], 'rating': 4.5, 'coordinates': {'latitude': 42.34772, 'longitude': -71.10582}, 'transactions': ['pickup', 'delivery'], 'price': '$$', 'location': {'address1': '508 Park Dr', 'address2': '', 'address3': None, 'city': 'Boston', 'zip_code': '02215', 'country': 'US', 'state': 'MA', 'display_address': ['508 Park Dr', 'Boston, MA 02215']}, 'phone': '+16175056157', 'display_phone': '(617) 505-6157', 'distance': 2840.957193262645}, {'id': 'mNjI-BGs-FMaZCdwgP_8uA', 'alias': 'hokkaido-ramen-santouka-harvard-square-cambridge', 'name': 'Hokkaido Ramen Santouka - Harvard Square', 'image_url': 'https://s3-media3.fl.yelpcdn.com/bphoto/pfbU5nHXmjAmuf9RZ4fNLg/o.jpg', 'is_closed': False, 'url': 'https://www.yelp.com/biz/hokkaido-ramen-santouka-harvard-square-cambridge?adjust_creative=S7TDQktTJzffzCNjjfZLcw&utm_campaign=yelp_api_v3&utm_medium=api_v3_business_search&utm_source=S7TDQktTJzffzCNjjfZLcw', 'review_count': 1452, 'categories': [{'alias': 'ramen', 'title': 'Ramen'}], 'rating': 4.0, 'coordinates': {'latitude': 42.372147794887894, 'longitude': -71.11589760870915}, 'transactions': ['pickup', 'delivery'], 'price': '$$', 'location': {'address1': '1 Bow St', 'address2': None, 'address3': 'Boston Harvard Square', 'city': 'Cambridge', 'zip_code': '02138', 'country': 'US', 'state': 'MA', 'display_address': ['1 Bow St', 'Boston Harvard Square', 'Cambridge, MA 02138']}, 'phone': '+16179451460', 'display_phone': '(617) 945-1460', 'distance': 4557.0042687212635}, {'id': 'MtK4TGhPmTqPYQOPSGPSiw', 'alias': 'yoki-express-boston', 'name': 'Yoki Express', 'image_url': 'https://s3-media1.fl.yelpcdn.com/bphoto/px8-ckEEBRUiNkRHjaIWWg/o.jpg', 'is_closed': False, 'url': 'https://www.yelp.com/biz/yoki-express-boston?adjust_creative=S7TDQktTJzffzCNjjfZLcw&utm_campaign=yelp_api_v3&utm_medium=api_v3_business_search&utm_source=S7TDQktTJzffzCNjjfZLcw', 'review_count': 166, 'categories': [{'alias': 'sushi', 'title': 'Sushi Bars'}, {'alias': 'japanese', 'title': 'Japanese'}, {'alias': 'poke', 'title': 'Poke'}], 'rating': 4.0, 'coordinates': {'latitude': 42.3508518924201, 'longitude': -71.0462842608361}, 'transactions': ['pickup', 'delivery'], 'price': '$$', 'location': {'address1': '53 Boston Wharf Rd', 'address2': '', 'address3': None, 'city': 'Boston', 'zip_code': '02210', 'country': 'US', 'state': 'MA', 'display_address': ['53 Boston Wharf Rd', 'Boston, MA 02210']}, 'phone': '+18572637418', 'display_phone': '(857) 263-7418', 'distance': 2135.088087461252}, {'id': '-HcDOeP2HR29aFt3j4cfnA', 'alias': 'maruichi-japanese-food-and-deli-brookline', 'name': 'Maruichi Japanese Food & Deli', 'image_url': 'https://s3-media1.fl.yelpcdn.com/bphoto/A5x-OL6YmjGMM18e1MIZbw/o.jpg', 'is_closed': False, 'url': 'https://www.yelp.com/biz/maruichi-japanese-food-and-deli-brookline?adjust_creative=S7TDQktTJzffzCNjjfZLcw&utm_campaign=yelp_api_v3&utm_medium=api_v3_business_search&utm_source=S7TDQktTJzffzCNjjfZLcw', 'review_count': 92, 'categories': [{'alias': 'intlgrocery', 'title': 'International Grocery'}], 'rating': 4.5, 'coordinates': {'latitude': 42.34296050744319, 'longitude': -71.12295893411802}, 'transactions': [], 'price': '$$', 'location': {'address1': '306 Harvard St', 'address2': '', 'address3': None, 'city': 'Brookline', 'zip_code': '02446', 'country': 'US', 'state': 'MA', 'display_address': ['306 Harvard St', 'Brookline, MA 02446']}, 'phone': '+16175055009', 'display_phone': '(617) 505-5009', 'distance': 4284.704957839524}, {'id': 'KZSt5cGH8qqpdSai-U98Hg', 'alias': 'ben-and-jerry-s-boston-3', 'name': 'Ben & Jerry’s', 'image_url': 'https://s3-media4.fl.yelpcdn.com/bphoto/vFgEePmbF-KEN0Q2TPzMxQ/o.jpg', 'is_closed': False, 'url': 'https://www.yelp.com/biz/ben-and-jerry-s-boston-3?adjust_creative=S7TDQktTJzffzCNjjfZLcw&utm_campaign=yelp_api_v3&utm_medium=api_v3_business_search&utm_source=S7TDQktTJzffzCNjjfZLcw', 'review_count': 29, 'categories': [{'alias': 'icecream', 'title': 'Ice Cream & Frozen Yogurt'}, {'alias': 'customcakes', 'title': 'Custom Cakes'}, {'alias': 'catering', 'title': 'Caterers'}], 'rating': 3.0, 'coordinates': {'latitude': 42.3519312668835, 'longitude': -71.046370682209}, 'transactions': ['pickup', 'delivery'], 'price': '$$', 'location': {'address1': '83 Seaport Blvd', 'address2': '', 'address3': None, 'city': 'Boston', 'zip_code': '02110', 'country': 'US', 'state': 'MA', 'display_address': ['83 Seaport Blvd', 'Boston, MA 02110']}, 'phone': '+18572335600', 'display_phone': '(857) 233-5600', 'distance': 2093.953151597254}, {'id': 'cuFnppYt1KYfiiCtSaZX6g', 'alias': 'izakaya-ittoku-cambridge', 'name': 'Izakaya Ittoku', 'image_url': 'https://s3-media2.fl.yelpcdn.com/bphoto/NeiDKm5yhAvyMTw9jYC_TQ/o.jpg', 'is_closed': False, 'url': 'https://www.yelp.com/biz/izakaya-ittoku-cambridge?adjust_creative=S7TDQktTJzffzCNjjfZLcw&utm_campaign=yelp_api_v3&utm_medium=api_v3_business_search&utm_source=S7TDQktTJzffzCNjjfZLcw', 'review_count': 584, 'categories': [{'alias': 'sushi', 'title': 'Sushi Bars'}, {'alias': 'tapasmallplates', 'title': 'Tapas/Small Plates'}, {'alias': 'izakaya', 'title': 'Izakaya'}], 'rating': 4.0, 'coordinates': {'latitude': 42.38727, 'longitude': -71.11866}, 'transactions': ['pickup', 'delivery'], 'price': '$$', 'location': {'address1': '1815 Massachusetts Ave', 'address2': '', 'address3': '', 'city': 'Cambridge', 'zip_code': '02140', 'country': 'US', 'state': 'MA', 'display_address': ['1815 Massachusetts Ave', 'Cambridge, MA 02140']}, 'phone': '+16176083630', 'display_phone': '(617) 608-3630', 'distance': 5870.146023419302}, {'id': 'KK8qc4_6pTe9pMTHxi8DSg', 'alias': 'zuru-zuru-ramen-and-donburi-malden-2', 'name': 'Zuru Zuru Ramen And Donburi', 'image_url': 'https://s3-media4.fl.yelpcdn.com/bphoto/J3bdBC4aeoEhVl5yPnJyvg/o.jpg', 'is_closed': False, 'url': 'https://www.yelp.com/biz/zuru-zuru-ramen-and-donburi-malden-2?adjust_creative=S7TDQktTJzffzCNjjfZLcw&utm_campaign=yelp_api_v3&utm_medium=api_v3_business_search&utm_source=S7TDQktTJzffzCNjjfZLcw', 'review_count': 119, 'categories': [{'alias': 'ramen', 'title': 'Ramen'}, {'alias': 'japacurry', 'title': 'Japanese Curry'}], 'rating': 4.5, 'coordinates': {'latitude': 42.4266715, 'longitude': -71.0693551}, 'transactions': ['pickup', 'delivery'], 'price': '$$', 'location': {'address1': '74 Pleasant St', 'address2': None, 'address3': '', 'city': 'Malden', 'zip_code': '02148', 'country': 'US', 'state': 'MA', 'display_address': ['74 Pleasant St', 'Malden, MA 02148']}, 'phone': '+17816053773', 'display_phone': '(781) 605-3773', 'distance': 8779.684771869606}, {'id': 'SB6IVbyTvTWRAF3sQgklPQ', 'alias': 'ruka-restobar-boston', 'name': 'RUKA Restobar', 'image_url': 'https://s3-media3.fl.yelpcdn.com/bphoto/nFxZkZ6ifCH77OKn6EweFQ/o.jpg', 'is_closed': False, 'url': 'https://www.yelp.com/biz/ruka-restobar-boston?adjust_creative=S7TDQktTJzffzCNjjfZLcw&utm_campaign=yelp_api_v3&utm_medium=api_v3_business_search&utm_source=S7TDQktTJzffzCNjjfZLcw', 'review_count': 681, 'categories': [{'alias': 'sushi', 'title': 'Sushi Bars'}, {'alias': 'latin', 'title': 'Latin American'}, {'alias': 'peruvian', 'title': 'Peruvian'}], 'rating': 4.0, 'coordinates': {'latitude': 42.35454, 'longitude': -71.06173}, 'transactions': ['delivery'], 'price': '$$', 'location': {'address1': '505 Washington St', 'address2': None, 'address3': '', 'city': 'Boston', 'zip_code': '02111', 'country': 'US', 'state': 'MA', 'display_address': ['505 Washington St', 'Boston, MA 02111']}, 'phone': '+16172660102', 'display_phone': '(617) 266-0102', 'distance': 1097.1101507219119}, {'id': 'n0NNUVwW-wEKc433oKZX5A', 'alias': 'kura-revolving-sushi-bar-watertown', 'name': 'Kura Revolving Sushi Bar', 'image_url': 'https://s3-media2.fl.yelpcdn.com/bphoto/hOnPwg2Y7IQfqUhlSMYP7Q/o.jpg', 'is_closed': False, 'url': 'https://www.yelp.com/biz/kura-revolving-sushi-bar-watertown?adjust_creative=S7TDQktTJzffzCNjjfZLcw&utm_campaign=yelp_api_v3&utm_medium=api_v3_business_search&utm_source=S7TDQktTJzffzCNjjfZLcw', 'review_count': 248, 'categories': [{'alias': 'sushi', 'title': 'Sushi Bars'}, {'alias': 'conveyorsushi', 'title': 'Conveyor Belt Sushi'}], 'rating': 4.0, 'coordinates': {'latitude': 42.36195, 'longitude': -71.15849139013413}, 'transactions': [], 'price': '$$', 'location': {'address1': '101 Bond Square', 'address2': '', 'address3': None, 'city': 'Watertown', 'zip_code': '02472', 'country': 'US', 'state': 'MA', 'display_address': ['101 Bond Square', 'Watertown, MA 02472']}, 'phone': '+16176757575', 'display_phone': '(617) 675-7575', 'distance': 7338.9287460031055}, {'id': '3HaFIZvFNf_v6A-d5dXNZg', 'alias': 'gyu-kaku-japanese-bbq-dorchester', 'name': 'Gyu-Kaku Japanese BBQ', 'image_url': 'https://s3-media1.fl.yelpcdn.com/bphoto/700HtTg1NmPmRqZHvvV0qw/o.jpg', 'is_closed': False, 'url': 'https://www.yelp.com/biz/gyu-kaku-japanese-bbq-dorchester?adjust_creative=S7TDQktTJzffzCNjjfZLcw&utm_campaign=yelp_api_v3&utm_medium=api_v3_business_search&utm_source=S7TDQktTJzffzCNjjfZLcw', 'review_count': 240, 'categories': [{'alias': 'japanese', 'title': 'Japanese'}, {'alias': 'bbq', 'title': 'Barbeque'}, {'alias': 'asianfusion', 'title': 'Asian Fusion'}], 'rating': 4.0, 'coordinates': {'latitude': 42.31762, 'longitude': -71.0567}, 'transactions': ['pickup', 'delivery'], 'price': '$$$', 'location': {'address1': '23 District Ave', 'address2': '', 'address3': None, 'city': 'Dorchester', 'zip_code': '02125', 'country': 'US', 'state': 'MA', 'display_address': ['23 District Ave', 'Dorchester, MA 02125']}, 'phone': '+18573093812', 'display_phone': '(857) 309-3812', 'distance': 2616.954432682701}, {'id': '1nBaLt_PZQZr4QaBK2KZlg', 'alias': 'gyu-kaku-japanese-bbq-cambridge', 'name': 'Gyu-Kaku Japanese BBQ', 'image_url': 'https://s3-media4.fl.yelpcdn.com/bphoto/ql4wSbZ3KZc_XgA6PtCerg/o.jpg', 'is_closed': False, 'url': 'https://www.yelp.com/biz/gyu-kaku-japanese-bbq-cambridge?adjust_creative=S7TDQktTJzffzCNjjfZLcw&utm_campaign=yelp_api_v3&utm_medium=api_v3_business_search&utm_source=S7TDQktTJzffzCNjjfZLcw', 'review_count': 443, 'categories': [{'alias': 'japanese', 'title': 'Japanese'}, {'alias': 'bbq', 'title': 'Barbeque'}, {'alias': 'asianfusion', 'title': 'Asian Fusion'}], 'rating': 3.5, 'coordinates': {'latitude': 42.3721018972539, 'longitude': -71.1213581938705}, 'transactions': ['pickup', 'delivery'], 'price': '$$$', 'location': {'address1': '16-18 Eliot St', 'address2': 'Fl 2', 'address3': '', 'city': 'Cambridge', 'zip_code': '02138', 'country': 'US', 'state': 'MA', 'display_address': ['16-18 Eliot St', 'Fl 2', 'Cambridge, MA 02138']}, 'phone': '+18572596666', 'display_phone': '(857) 259-6666', 'distance': 4922.638805730922}, {'id': 'Oj5Seggqo_2FfKSjcAg7yw', 'alias': 'empire-boston-5', 'name': 'Empire', 'image_url': 'https://s3-media2.fl.yelpcdn.com/bphoto/T5wwfB6_RsuasfZX-H6Vpg/o.jpg', 'is_closed': False, 'url': 'https://www.yelp.com/biz/empire-boston-5?adjust_creative=S7TDQktTJzffzCNjjfZLcw&utm_campaign=yelp_api_v3&utm_medium=api_v3_business_search&utm_source=S7TDQktTJzffzCNjjfZLcw', 'review_count': 655, 'categories': [{'alias': 'lounges', 'title': 'Lounges'}, {'alias': 'asianfusion', 'title': 'Asian Fusion'}, {'alias': 'sushi', 'title': 'Sushi Bars'}], 'rating': 3.0, 'coordinates': {'latitude': 42.3529147863218, 'longitude': -71.0455799102783}, 'transactions': ['pickup', 'delivery'], 'price': '$$$', 'location': {'address1': '1 Marina Park Dr', 'address2': None, 'address3': None, 'city': 'Boston', 'zip_code': '02210', 'country': 'US', 'state': 'MA', 'display_address': ['1 Marina Park Dr', 'Boston, MA 02210']}, 'phone': '+16172950001', 'display_phone': '(617) 295-0001', 'distance': 2183.0867601513382}, {'id': 'b6Qq-pDnLwMOfw7V2Fklcg', 'alias': 'fuki-japanese-cuisine-somerville-5', 'name': 'Fuki Japanese Cuisine', 'image_url': 'https://s3-media2.fl.yelpcdn.com/bphoto/kt7QGhs5JJ4TOldCi-fYEA/o.jpg', 'is_closed': False, 'url': 'https://www.yelp.com/biz/fuki-japanese-cuisine-somerville-5?adjust_creative=S7TDQktTJzffzCNjjfZLcw&utm_campaign=yelp_api_v3&utm_medium=api_v3_business_search&utm_source=S7TDQktTJzffzCNjjfZLcw', 'review_count': 57, 'categories': [{'alias': 'sushi', 'title': 'Sushi Bars'}, {'alias': 'cocktailbars', 'title': 'Cocktail Bars'}, {'alias': 'japanese', 'title': 'Japanese'}], 'rating': 4.5, 'coordinates': {'latitude': 42.380695, 'longitude': -71.097212}, 'transactions': ['pickup', 'delivery', 'restaurant_reservation'], 'location': {'address1': '16 Bow St', 'address2': None, 'address3': '', 'city': 'Somerville', 'zip_code': '02143', 'country': 'US', 'state': 'MA', 'display_address': ['16 Bow St', 'Somerville, MA 02143']}, 'phone': '+16177645182', 'display_phone': '(617) 764-5182', 'distance': 4231.960994523637}, {'id': 'ySxXkE2lE7KA08LbMaxbOg', 'alias': 'ebisuya-japanese-market-medford', 'name': 'Ebisuya Japanese Market', 'image_url': 'https://s3-media4.fl.yelpcdn.com/bphoto/HrpEkk53Kbnt2cY_9DtcmQ/o.jpg', 'is_closed': False, 'url': 'https://www.yelp.com/biz/ebisuya-japanese-market-medford?adjust_creative=S7TDQktTJzffzCNjjfZLcw&utm_campaign=yelp_api_v3&utm_medium=api_v3_business_search&utm_source=S7TDQktTJzffzCNjjfZLcw', 'review_count': 179, 'categories': [{'alias': 'intlgrocery', 'title': 'International Grocery'}, {'alias': 'seafoodmarkets', 'title': 'Seafood Markets'}], 'rating': 4.0, 'coordinates': {'latitude': 42.4174797298413, 'longitude': -71.1073463230722}, 'transactions': ['pickup', 'delivery'], 'price': '$$', 'location': {'address1': '65 Riverside Ave', 'address2': '', 'address3': '', 'city': 'Medford', 'zip_code': '02155', 'country': 'US', 'state': 'MA', 'display_address': ['65 Riverside Ave', 'Medford, MA 02155']}, 'phone': '+17813910012', 'display_phone': '(781) 391-0012', 'distance': 8296.332978499848}, {'id': '2BEZNv3Jfo5PAecB6K0P3Q', 'alias': 'i-love-sushi-cambridge-2', 'name': 'I Love Sushi', 'image_url': 'https://s3-media3.fl.yelpcdn.com/bphoto/MGH5s9uXL67jOmWTyg1e7Q/o.jpg', 'is_closed': False, 'url': 'https://www.yelp.com/biz/i-love-sushi-cambridge-2?adjust_creative=S7TDQktTJzffzCNjjfZLcw&utm_campaign=yelp_api_v3&utm_medium=api_v3_business_search&utm_source=S7TDQktTJzffzCNjjfZLcw', 'review_count': 111, 'categories': [{'alias': 'sushi', 'title': 'Sushi Bars'}], 'rating': 3.5, 'coordinates': {'latitude': 42.38714785819408, 'longitude': -71.11869820018806}, 'transactions': ['pickup', 'delivery'], 'price': '$$', 'location': {'address1': '1815 Massachusetts Ave', 'address2': '', 'address3': '', 'city': 'Cambridge', 'zip_code': '02140', 'country': 'US', 'state': 'MA', 'display_address': ['1815 Massachusetts Ave', 'Cambridge, MA 02140']}, 'phone': '+16174924655', 'display_phone': '(617) 492-4655', 'distance': 5856.79177504369}], 'total': 27, 'region': {'center': {'longitude': -71.07124328613281, 'latitude': 42.34784169448538}}}\n"
     ]
    }
   ],
   "source": [
    "print(taiyaki)"
   ]
  },
  {
   "cell_type": "code",
   "execution_count": 7,
   "id": "5433b264",
   "metadata": {},
   "outputs": [],
   "source": [
    "\n",
    "# write the data to a jsonl file\n",
    "with open('taiyaki.jsonl', 'w') as f:\n",
    "    for business in taiyaki[\"businesses\"]:\n",
    "        json.dump(business, f)\n",
    "        f.write('\\n')"
   ]
  },
  {
   "cell_type": "code",
   "execution_count": 8,
   "id": "47d82281",
   "metadata": {},
   "outputs": [
    {
     "name": "stdout",
     "output_type": "stream",
     "text": [
      "Taiyaki NYC - Boston has 649 reviews with an average rating of 4.0. Make a reservation at (617) 531-3514. Price: $ \n"
     ]
    },
    {
     "ename": "KeyError",
     "evalue": "'price'",
     "output_type": "error",
     "traceback": [
      "\u001b[0;31m---------------------------------------------------------------------------\u001b[0m",
      "\u001b[0;31mKeyError\u001b[0m                                  Traceback (most recent call last)",
      "Cell \u001b[0;32mIn[8], line 3\u001b[0m\n\u001b[1;32m      1\u001b[0m \u001b[38;5;66;03m# 6. For each business, print \"STORENAME's rating is RATING\" using \"id\" and \"rating\" of each business from above\u001b[39;00m\n\u001b[1;32m      2\u001b[0m \u001b[38;5;28;01mfor\u001b[39;00m business \u001b[38;5;129;01min\u001b[39;00m taiyaki[\u001b[38;5;124m\"\u001b[39m\u001b[38;5;124mbusinesses\u001b[39m\u001b[38;5;124m\"\u001b[39m]:\n\u001b[0;32m----> 3\u001b[0m     \u001b[38;5;28mprint\u001b[39m(\u001b[38;5;124mf\u001b[39m\u001b[38;5;124m\"\u001b[39m\u001b[38;5;132;01m{\u001b[39;00mbusiness[\u001b[38;5;124m'\u001b[39m\u001b[38;5;124mname\u001b[39m\u001b[38;5;124m'\u001b[39m]\u001b[38;5;132;01m}\u001b[39;00m\u001b[38;5;124m has \u001b[39m\u001b[38;5;132;01m{\u001b[39;00mbusiness[\u001b[38;5;124m'\u001b[39m\u001b[38;5;124mreview_count\u001b[39m\u001b[38;5;124m'\u001b[39m]\u001b[38;5;132;01m}\u001b[39;00m\u001b[38;5;124m reviews with an average rating of \u001b[39m\u001b[38;5;132;01m{\u001b[39;00mbusiness[\u001b[38;5;124m'\u001b[39m\u001b[38;5;124mrating\u001b[39m\u001b[38;5;124m'\u001b[39m]\u001b[38;5;132;01m}\u001b[39;00m\u001b[38;5;124m. Make a reservation at \u001b[39m\u001b[38;5;132;01m{\u001b[39;00mbusiness[\u001b[38;5;124m'\u001b[39m\u001b[38;5;124mdisplay_phone\u001b[39m\u001b[38;5;124m'\u001b[39m]\u001b[38;5;132;01m}\u001b[39;00m\u001b[38;5;124m. Price: \u001b[39m\u001b[38;5;132;01m{\u001b[39;00mbusiness[\u001b[38;5;124m'\u001b[39m\u001b[38;5;124mprice\u001b[39m\u001b[38;5;124m'\u001b[39m]\u001b[38;5;132;01m}\u001b[39;00m\u001b[38;5;124m \u001b[39m\u001b[38;5;124m\"\u001b[39m)\n",
      "\u001b[0;31mKeyError\u001b[0m: 'price'"
     ]
    }
   ],
   "source": [
    "# 6. For each business, print \"STORENAME's rating is RATING\" using \"id\" and \"rating\" of each business from above\n",
    "for business in taiyaki[\"businesses\"]:\n",
    "    print(f\"{business['name']} has {business['review_count']} reviews with an average rating of {business['rating']}. Make a reservation at {business['display_phone']}. Price: {business['price']} \")\n",
    "    \n",
    "# This throws an error on Price, but the file it writes is fine? Might be because some entries are missing a price."
   ]
  },
  {
   "cell_type": "code",
   "execution_count": 9,
   "id": "64bea7bd",
   "metadata": {},
   "outputs": [],
   "source": [
    "#7. Write a file\n",
    "\n",
    "with open('taiyaki_shops_boston.tsv', mode='w', newline='') as tsv_file:\n",
    "    writer = csv.writer(tsv_file, delimiter='\\t')\n",
    "    writer.writerow(['Business Name', 'Number of reviews', 'Rating', 'Phone Number', 'Price'])\n",
    "\n",
    "    # Write each business to the .tsv file\n",
    "    for business in taiyaki[\"businesses\"]:\n",
    "        writer.writerow([business['name'], business['review_count'], business['rating'], business['display_phone'], business.get('price', '-')])"
   ]
  },
  {
   "cell_type": "code",
   "execution_count": null,
   "id": "939ef05f",
   "metadata": {},
   "outputs": [],
   "source": []
  }
 ],
 "metadata": {
  "kernelspec": {
   "display_name": "Python 3 (ipykernel)",
   "language": "python",
   "name": "python3"
  },
  "language_info": {
   "codemirror_mode": {
    "name": "ipython",
    "version": 3
   },
   "file_extension": ".py",
   "mimetype": "text/x-python",
   "name": "python",
   "nbconvert_exporter": "python",
   "pygments_lexer": "ipython3",
   "version": "3.10.9"
  }
 },
 "nbformat": 4,
 "nbformat_minor": 5
}
