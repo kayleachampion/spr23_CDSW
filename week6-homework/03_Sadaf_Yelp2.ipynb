{
 "cells": [
  {
   "cell_type": "code",
   "execution_count": 1,
   "id": "0cca06fe",
   "metadata": {},
   "outputs": [],
   "source": [
    "import json"
   ]
  },
  {
   "cell_type": "code",
   "execution_count": 3,
   "id": "02ecf330",
   "metadata": {
    "scrolled": true
   },
   "outputs": [],
   "source": [
    "with open(\"SFalcohol.json\", 'r') as input_file:\n",
    "    input_data = input_file.read() "
   ]
  },
  {
   "cell_type": "code",
   "execution_count": 4,
   "id": "56dcd003",
   "metadata": {},
   "outputs": [],
   "source": [
    "new_data = json.loads(input_data)"
   ]
  },
  {
   "cell_type": "code",
   "execution_count": 5,
   "id": "0269c468",
   "metadata": {},
   "outputs": [
    {
     "data": {
      "text/plain": [
       "'Val De Cole Wines & Spirits'"
      ]
     },
     "execution_count": 5,
     "metadata": {},
     "output_type": "execute_result"
    }
   ],
   "source": [
    "new_data['businesses'][20]['name']"
   ]
  },
  {
   "cell_type": "code",
   "execution_count": 6,
   "id": "326b739f",
   "metadata": {},
   "outputs": [
    {
     "data": {
      "text/plain": [
       "3.5"
      ]
     },
     "execution_count": 6,
     "metadata": {},
     "output_type": "execute_result"
    }
   ],
   "source": [
    "new_data['businesses'][20]['rating']"
   ]
  },
  {
   "cell_type": "code",
   "execution_count": 7,
   "id": "fa992801",
   "metadata": {},
   "outputs": [
    {
     "data": {
      "text/plain": [
       "{'latitude': 37.7655699, 'longitude': -122.44969}"
      ]
     },
     "execution_count": 7,
     "metadata": {},
     "output_type": "execute_result"
    }
   ],
   "source": [
    "new_data['businesses'][20]['coordinates']"
   ]
  },
  {
   "cell_type": "code",
   "execution_count": 9,
   "id": "71c9853c",
   "metadata": {
    "scrolled": true
   },
   "outputs": [
    {
     "data": {
      "text/plain": [
       "1279.1303527937148"
      ]
     },
     "execution_count": 9,
     "metadata": {},
     "output_type": "execute_result"
    }
   ],
   "source": [
    "new_data['businesses'][20]['distance']"
   ]
  },
  {
   "cell_type": "code",
   "execution_count": 10,
   "id": "ea7ea882",
   "metadata": {},
   "outputs": [
    {
     "data": {
      "text/plain": [
       "48"
      ]
     },
     "execution_count": 10,
     "metadata": {},
     "output_type": "execute_result"
    }
   ],
   "source": [
    "new_data['businesses'][20]['review_count']"
   ]
  },
  {
   "cell_type": "code",
   "execution_count": 11,
   "id": "8dac3d1e",
   "metadata": {},
   "outputs": [],
   "source": [
    "storeRating = {}\n",
    "\n",
    "for store in new_data['businesses']:\n",
    "    storeRating[store[\"name\"]] = store['rating']"
   ]
  },
  {
   "cell_type": "code",
   "execution_count": 12,
   "id": "8a8f3621",
   "metadata": {},
   "outputs": [
    {
     "data": {
      "text/plain": [
       "{'K & L Wine Merchants': 4.5,\n",
       " 'Healthy Spirits': 4.5,\n",
       " 'Swirl on Castro': 4.5,\n",
       " 'Castro Liquor & Wine': 2.5,\n",
       " 'BevMo!': 3.5,\n",
       " \"St Clair's Liquors\": 4.5,\n",
       " 'Haight & Cole Liquors': 4.5,\n",
       " 'Judah Ninth Avenue Liquors': 4.5,\n",
       " 'Mr. Liquor': 4.5,\n",
       " 'Food 24 Hour Convenience Market': 4.0,\n",
       " 'Wilking Liquor': 4.0,\n",
       " 'Michaelis Wine & Spirits': 4.5,\n",
       " 'Third World Market': 4.0,\n",
       " \"Blackwell's Wines & Spirits\": 4.5,\n",
       " 'Drink Liquor': 4.0,\n",
       " 'Golden Bear Trading Company': 4.5,\n",
       " 'Limoncello': 5.0,\n",
       " 'Val De Cole Wines & Spirits': 3.5,\n",
       " 'S & A Liquor': 4.0,\n",
       " \"Gino's Grocery Company\": 4.0,\n",
       " 'Dolores Outpost': 4.0,\n",
       " 'New Star-Ell Liquor': 4.0,\n",
       " 'Safeway': 2.0,\n",
       " 'The Whisky Shop': 4.5,\n",
       " 'Bi-Rite Market': 4.5,\n",
       " 'PlumpJack Wines': 3.5,\n",
       " 'Nopa Corner Market': 4.5,\n",
       " 'Gemini Bottle': 4.5,\n",
       " 'D & M Wine & Liquor Company': 4.5,\n",
       " 'Royal Cuckoo Market': 4.5,\n",
       " 'Quick Pick Market': 4.5,\n",
       " 'UC Market': 4.5,\n",
       " 'Park Presidio Liquors': 4.0,\n",
       " 'City Beer Store': 4.5,\n",
       " 'Cityscape Lounge': 4.0,\n",
       " 'J Mart & Liquor': 3.0,\n",
       " 'Nijiya Market - San Francisco': 4.0,\n",
       " 'Hillside Market': 4.0,\n",
       " 'Superette Market': 3.5,\n",
       " 'Golden Gate Market Deli & Liquor': 4.5,\n",
       " 'Fulton Food Shop': 3.0,\n",
       " 'The Epicurean Trader': 4.5,\n",
       " 'Walgreens': 3.5,\n",
       " 'Distillery No. 209': 4.5,\n",
       " 'Nineteenth Ave Liquors': 4.0}"
      ]
     },
     "execution_count": 12,
     "metadata": {},
     "output_type": "execute_result"
    }
   ],
   "source": [
    "storeRating"
   ]
  },
  {
   "cell_type": "code",
   "execution_count": 13,
   "id": "d7111f6a",
   "metadata": {},
   "outputs": [],
   "source": [
    "with open('storeRating.tsv', 'w') as output_file:\n",
    "    print(\"bookstore\\taverage rating\\tnumber of reviews\\tphone number\\tprice\", file=output_file)\n",
    "    for store in new_data['businesses']:\n",
    "        print(f\"{store['name']}\\t{store['rating']}\\t{store['review_count']}\\t{store['phone']}\\t{store.get('price', 'N/A')}\", file=output_file)"
   ]
  },
  {
   "cell_type": "code",
   "execution_count": null,
   "id": "0a70f031",
   "metadata": {},
   "outputs": [],
   "source": [
    "#https://docs.google.com/spreadsheets/d/1tAD02i2IQvuj4rKXceOBdT-1vt37oTMFxUwurZgKP8E/edit?usp=sharing"
   ]
  }
 ],
 "metadata": {
  "kernelspec": {
   "display_name": "Python 3 (ipykernel)",
   "language": "python",
   "name": "python3"
  },
  "language_info": {
   "codemirror_mode": {
    "name": "ipython",
    "version": 3
   },
   "file_extension": ".py",
   "mimetype": "text/x-python",
   "name": "python",
   "nbconvert_exporter": "python",
   "pygments_lexer": "ipython3",
   "version": "3.10.9"
  }
 },
 "nbformat": 4,
 "nbformat_minor": 5
}
