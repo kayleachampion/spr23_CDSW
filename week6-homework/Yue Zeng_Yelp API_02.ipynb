{
 "cells": [
  {
   "cell_type": "code",
   "execution_count": null,
   "id": "1338c78d",
   "metadata": {},
   "outputs": [],
   "source": [
    "import json\n",
    "\n",
    "\n",
    "with open(\"pasta in Seattle.jsonl\", \"r\") as file_in, open(\"pasta in Seattle.tsv\", \"w\") as file_out:\n",
    "    file_out.write(\"name\\trating\\treview_count\\tlatitude\\tlongitude\\n\")\n",
    "    for line in file_in:\n",
    "        business = json.loads(line)\n",
    "        file_out.write(f\"{business['name']}\\t{business['rating']}\\t{business['review_count']}\\t{business['coordinates']['latitude']}\\t{business['coordinates']['longitude']}\\n\")"
   ]
  }
 ],
 "metadata": {
  "kernelspec": {
   "display_name": "Python 3 (ipykernel)",
   "language": "python",
   "name": "python3"
  },
  "language_info": {
   "codemirror_mode": {
    "name": "ipython",
    "version": 3
   },
   "file_extension": ".py",
   "mimetype": "text/x-python",
   "name": "python",
   "nbconvert_exporter": "python",
   "pygments_lexer": "ipython3",
   "version": "3.10.9"
  }
 },
 "nbformat": 4,
 "nbformat_minor": 5
}
