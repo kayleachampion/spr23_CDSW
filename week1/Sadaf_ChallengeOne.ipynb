{
 "cells": [
  {
   "cell_type": "code",
   "execution_count": 1,
   "id": "0ec78dba",
   "metadata": {},
   "outputs": [],
   "source": [
    "# 1.1 Compute The Total Volume\n",
    "\n",
    "CupsOfFlour = 2.25\n",
    "CupsOfSugar = .5\n",
    "CupsOfButter = 1 "
   ]
  },
  {
   "cell_type": "code",
   "execution_count": 5,
   "id": "6a037772",
   "metadata": {},
   "outputs": [
    {
     "name": "stdout",
     "output_type": "stream",
     "text": [
      "The volume of the dough is 3.75 cups!\n"
     ]
    }
   ],
   "source": [
    "doughVolume = CupsOfFlour + CupsOfSugar + CupsOfButter\n",
    "print (\"The volume of the dough is \" + str (doughVolume) + \" cups!\")"
   ]
  },
  {
   "cell_type": "code",
   "execution_count": 7,
   "id": "2d480f9c",
   "metadata": {},
   "outputs": [
    {
     "name": "stdout",
     "output_type": "stream",
     "text": [
      "The Volume of Half of the Batch is 1.875\n",
      "3 times of the Batch Volume is 11.25\n",
      "5 times of the Batch Volume is 18.75\n"
     ]
    }
   ],
   "source": [
    "# 1.2 Scale It Up \n",
    "\n",
    "NumberOfBatches = 1\n",
    "Volume = (CupsOfFlour + CupsOfSugar + CupsOfButter) * NumberOfBatches\n",
    "print (\"The Volume of Half of the Batch is \" + str(.5 * Volume))\n",
    "print (\"3 times of the Batch Volume is \" + str(3 * Volume))\n",
    "print (\"5 times of the Batch Volume is \" + str(5 * Volume))"
   ]
  },
  {
   "cell_type": "code",
   "execution_count": 10,
   "id": "4586ec1c",
   "metadata": {},
   "outputs": [
    {
     "name": "stdout",
     "output_type": "stream",
     "text": [
      "Bread fits in one pan!\n"
     ]
    }
   ],
   "source": [
    "#1.3 Will It Fit In My Pans\n",
    "\n",
    "Half = Volume * .5 \n",
    "\n",
    "if Half < 5:\n",
    "    print (\"Bread fits in one pan!\")\n",
    "elif 5 < Half < 10:\n",
    "    print (\"Bread fits in two pans!!\")\n",
    "elif 10 < Half < 15: \n",
    "    print (\"Bread fits in three pans!!!\")\n",
    "else: \n",
    "    print(\"I will have extra dough!!!!\")"
   ]
  },
  {
   "cell_type": "code",
   "execution_count": 11,
   "id": "a7b40a4a",
   "metadata": {},
   "outputs": [
    {
     "name": "stdout",
     "output_type": "stream",
     "text": [
      "Bread fits in three pans!!!\n"
     ]
    }
   ],
   "source": [
    " ThreeTimesDough = Volume * 3\n",
    "    \n",
    "if ThreeTimesDough < 5:\n",
    "    print (\"Bread fits in one pan!\")\n",
    "elif 5 < ThreeTimesDough < 10:\n",
    "    print (\"Bread fits in two pans!!\")\n",
    "elif 10 < ThreeTimesDough < 15: \n",
    "    print (\"Bread fits in three pans!!!\")\n",
    "else: \n",
    "    print(\"I will have extra dough!!!!\")"
   ]
  },
  {
   "cell_type": "code",
   "execution_count": 12,
   "id": "3990ead9",
   "metadata": {},
   "outputs": [
    {
     "name": "stdout",
     "output_type": "stream",
     "text": [
      "I will have extra dough!!!!\n"
     ]
    }
   ],
   "source": [
    "FiveTimesDough = Volume * 5\n",
    "\n",
    "if FiveTimesDough < 5:\n",
    "    print (\"Bread fits in one pan!\")\n",
    "elif 5 < FiveTimesDough < 10:\n",
    "    print (\"Bread fits in two pans!!\")\n",
    "elif 10 < FiveTimesDough < 15: \n",
    "    print (\"Bread fits in three pans!!!\")\n",
    "else: \n",
    "    print(\"I will have extra dough!!!!\")"
   ]
  },
  {
   "cell_type": "code",
   "execution_count": 17,
   "id": "c04b0a89",
   "metadata": {},
   "outputs": [
    {
     "data": {
      "text/plain": [
       "581"
      ]
     },
     "execution_count": 17,
     "metadata": {},
     "output_type": "execute_result"
    }
   ],
   "source": [
    "Description = \"This course will introduce basic programming and data science tools to give students the skills to use data to read, critique, and produce stories and insights. The class will cover the basics of the Python programming language, acquiring and processing public data, and basic tools and techniques for data analysis and visualization. We will focus on gaining access to data and basic data manipulation rather than complex statistical methods. The class will be built around student-designed independent projects and is targeted at students with no previous programming experience.\"\n",
    "len (Description)"
   ]
  },
  {
   "cell_type": "code",
   "execution_count": 19,
   "id": "fde6f365",
   "metadata": {},
   "outputs": [
    {
     "name": "stdout",
     "output_type": "stream",
     "text": [
      "I couldn't find python in the description!\n"
     ]
    }
   ],
   "source": [
    "if \"python\" in Description:\n",
    "    print (\"I found python in the description\")\n",
    "else:\n",
    "    print (\"I couldn't find python in the description!\")"
   ]
  },
  {
   "cell_type": "code",
   "execution_count": 36,
   "id": "672cf8c8",
   "metadata": {},
   "outputs": [
    {
     "name": "stdout",
     "output_type": "stream",
     "text": [
      "I think I see at least one of them!\n"
     ]
    }
   ],
   "source": [
    "if \"python\" or \"statistics\" in Description:\n",
    "    print (\"I think I see at least one of them!\")"
   ]
  },
  {
   "cell_type": "code",
   "execution_count": 22,
   "id": "00f90f58",
   "metadata": {},
   "outputs": [
    {
     "name": "stdout",
     "output_type": "stream",
     "text": [
      "YES, I can see some of these words in there!\n"
     ]
    }
   ],
   "source": [
    "if \"python\" or \"statistics\" or \"visualization\" in Description:\n",
    "    print (\"YES, I can see some of these words in there!\")"
   ]
  },
  {
   "cell_type": "code",
   "execution_count": 26,
   "id": "46fc758b",
   "metadata": {},
   "outputs": [
    {
     "name": "stdout",
     "output_type": "stream",
     "text": [
      "Hmmm, I'm Confused!Hmmm, I'm Confused!Hmmm, I'm Confused!\n"
     ]
    }
   ],
   "source": [
    "#3 A PROGRAM THAT KNOWS ITS LIMITS\n",
    "\n",
    "myVariable = \"Hmmm, I'm Confused!\"\n",
    "type(myVariable)\n",
    "if type(\"myVariable\") == (float) or (int):\n",
    "    print (myVariable * 3)\n",
    "else:\n",
    "    print (\"Not Gonna Happen!\")"
   ]
  },
  {
   "cell_type": "code",
   "execution_count": 35,
   "id": "26a4a1ff",
   "metadata": {},
   "outputs": [
    {
     "name": "stdout",
     "output_type": "stream",
     "text": [
      "Not Gonna Happen!\n"
     ]
    }
   ],
   "source": [
    "myVariable = \"Hmmm, I'm Confused!\"\n",
    "This = type(myVariable)\n",
    "\n",
    "if This == float or This == int:\n",
    "    print (myVariable * 3)\n",
    "if This == str:\n",
    "    print (\"Not Gonna Happen!\")"
   ]
  }
 ],
 "metadata": {
  "kernelspec": {
   "display_name": "Python 3 (ipykernel)",
   "language": "python",
   "name": "python3"
  },
  "language_info": {
   "codemirror_mode": {
    "name": "ipython",
    "version": 3
   },
   "file_extension": ".py",
   "mimetype": "text/x-python",
   "name": "python",
   "nbconvert_exporter": "python",
   "pygments_lexer": "ipython3",
   "version": "3.10.9"
  }
 },
 "nbformat": 4,
 "nbformat_minor": 5
}
