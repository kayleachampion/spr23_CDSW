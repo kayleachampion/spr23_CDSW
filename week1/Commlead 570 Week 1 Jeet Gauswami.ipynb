{
 "cells": [
  {
   "cell_type": "code",
   "execution_count": 1,
   "id": "0f1abcdb",
   "metadata": {},
   "outputs": [],
   "source": [
    "#1.1 Compute the total volume"
   ]
  },
  {
   "cell_type": "code",
   "execution_count": 2,
   "id": "33d0af32",
   "metadata": {},
   "outputs": [],
   "source": [
    "cups_of_flour = 2.25"
   ]
  },
  {
   "cell_type": "code",
   "execution_count": 3,
   "id": "75503277",
   "metadata": {},
   "outputs": [],
   "source": [
    "cups_of_sugar = 0.5"
   ]
  },
  {
   "cell_type": "code",
   "execution_count": 4,
   "id": "ff02cd99",
   "metadata": {},
   "outputs": [],
   "source": [
    "cups_of_butter = 1"
   ]
  },
  {
   "cell_type": "code",
   "execution_count": 6,
   "id": "b8debf1b",
   "metadata": {},
   "outputs": [
    {
     "name": "stdout",
     "output_type": "stream",
     "text": [
      "the total volume is 3.75 cups\n"
     ]
    }
   ],
   "source": [
    "print(\"the total volume is\" , (cups_of_flour + cups_of_sugar + cups_of_butter) , \"cups\")"
   ]
  },
  {
   "cell_type": "code",
   "execution_count": 7,
   "id": "919f6fbb",
   "metadata": {},
   "outputs": [],
   "source": [
    "#1.2 Scale it up!"
   ]
  },
  {
   "cell_type": "code",
   "execution_count": 8,
   "id": "b8b7231c",
   "metadata": {},
   "outputs": [],
   "source": [
    "number_of_batches = 1"
   ]
  },
  {
   "cell_type": "code",
   "execution_count": 9,
   "id": "5f7d36d6",
   "metadata": {},
   "outputs": [],
   "source": [
    "total_volume = cups_of_flour + cups_of_sugar + cups_of_butter"
   ]
  },
  {
   "cell_type": "code",
   "execution_count": 10,
   "id": "bcb1c9a5",
   "metadata": {},
   "outputs": [
    {
     "name": "stdout",
     "output_type": "stream",
     "text": [
      "the total volume is 3.75 cups\n"
     ]
    }
   ],
   "source": [
    "print(\"the total volume is\", (number_of_batches * total_volume), \"cups\")"
   ]
  },
  {
   "cell_type": "code",
   "execution_count": 13,
   "id": "38f2336c",
   "metadata": {},
   "outputs": [
    {
     "name": "stdout",
     "output_type": "stream",
     "text": [
      "the total volume is 1.875 cups\n"
     ]
    }
   ],
   "source": [
    "number_of_batches = .5\n",
    "print(\"the total volume is\", (number_of_batches * total_volume), \"cups\")"
   ]
  },
  {
   "cell_type": "code",
   "execution_count": 14,
   "id": "c218bd98",
   "metadata": {},
   "outputs": [
    {
     "name": "stdout",
     "output_type": "stream",
     "text": [
      "the total volume is 11.25 cups\n"
     ]
    }
   ],
   "source": [
    "number_of_batches = 3\n",
    "print(\"the total volume is\", (number_of_batches * total_volume), \"cups\")"
   ]
  },
  {
   "cell_type": "code",
   "execution_count": 15,
   "id": "1e6e7f98",
   "metadata": {},
   "outputs": [
    {
     "name": "stdout",
     "output_type": "stream",
     "text": [
      "the total volume is 18.75 cups\n"
     ]
    }
   ],
   "source": [
    "number_of_batches = 5\n",
    "print(\"the total volume is\", (number_of_batches * total_volume), \"cups\")"
   ]
  },
  {
   "cell_type": "code",
   "execution_count": 16,
   "id": "1dbc71b5",
   "metadata": {},
   "outputs": [],
   "source": [
    "#1.3 Will it fit in my pans?"
   ]
  },
  {
   "cell_type": "code",
   "execution_count": 34,
   "id": "eabad64e",
   "metadata": {},
   "outputs": [
    {
     "name": "stdout",
     "output_type": "stream",
     "text": [
      "You will need 1 pan\n"
     ]
    }
   ],
   "source": [
    "number_of_batches = 0.5\n",
    "total_amount = number_of_batches * total_volume\n",
    "if total_amount <= 5:\n",
    "    print(\"You will need 1 pan\")\n",
    "elif total_amount >5 and total_amount <=10:\n",
    "    print(\"You will need 2 pans\")\n",
    "elif total_amount >10 and total_amount <=15:\n",
    "    print(\"You will need 3 pans\")\n",
    "else:\n",
    "    print(\"it will be too much to fit in pans\")"
   ]
  },
  {
   "cell_type": "code",
   "execution_count": 35,
   "id": "09c5fe88",
   "metadata": {},
   "outputs": [
    {
     "name": "stdout",
     "output_type": "stream",
     "text": [
      "You will need 3 pans\n"
     ]
    }
   ],
   "source": [
    "number_of_batches = 3\n",
    "total_amount = number_of_batches * total_volume\n",
    "if total_amount <= 5:\n",
    "    print(\"You will need 1 pan\")\n",
    "elif total_amount >5 and total_amount <=10:\n",
    "    print(\"You will need 2 pans\")\n",
    "elif total_amount >10 and total_amount <=15:\n",
    "    print(\"You will need 3 pans\")\n",
    "else:\n",
    "    print(\"it will be too much to fit in pans\")"
   ]
  },
  {
   "cell_type": "code",
   "execution_count": 36,
   "id": "ea1f8364",
   "metadata": {},
   "outputs": [
    {
     "name": "stdout",
     "output_type": "stream",
     "text": [
      "it will be too much to fit in pans\n"
     ]
    }
   ],
   "source": [
    "number_of_batches = 5\n",
    "total_amount = number_of_batches * total_volume\n",
    "if total_amount <= 5:\n",
    "    print(\"You will need 1 pan\")\n",
    "elif total_amount >5 and total_amount <=10:\n",
    "    print(\"You will need 2 pans\")\n",
    "elif total_amount >10 and total_amount <=15:\n",
    "    print(\"You will need 3 pans\")\n",
    "else:\n",
    "    print(\"it will be too much to fit in pans\")"
   ]
  },
  {
   "cell_type": "code",
   "execution_count": 37,
   "id": "92f3fe74",
   "metadata": {},
   "outputs": [],
   "source": [
    "#2.1 Just the length"
   ]
  },
  {
   "cell_type": "code",
   "execution_count": 39,
   "id": "5d629994",
   "metadata": {},
   "outputs": [],
   "source": [
    "course_catalog_description = \"This course will introduce basic programming and data science tools to give students the skills to use data to read, critique, and produce stories and insights. The class will cover the basics of the Python programming language, acquiring and processing public data, and basic tools and techniques for data analysis and visualization. We will focus on gaining access to data and basic data manipulation rather than complex statistical methods. The class will be built around student-designed independent projects and is targeted at students with no previous programming experience.\"\n"
   ]
  },
  {
   "cell_type": "code",
   "execution_count": 40,
   "id": "d66de37c",
   "metadata": {},
   "outputs": [
    {
     "data": {
      "text/plain": [
       "581"
      ]
     },
     "execution_count": 40,
     "metadata": {},
     "output_type": "execute_result"
    }
   ],
   "source": [
    "len(course_catalog_description)"
   ]
  },
  {
   "cell_type": "code",
   "execution_count": 42,
   "id": "9d90b641",
   "metadata": {},
   "outputs": [
    {
     "name": "stdout",
     "output_type": "stream",
     "text": [
      "There are 581 characters in the course description.\n"
     ]
    }
   ],
   "source": [
    "print(\"There are\" , len(course_catalog_description), \"characters in the course description.\")"
   ]
  },
  {
   "cell_type": "code",
   "execution_count": 44,
   "id": "d6cb2a50",
   "metadata": {},
   "outputs": [],
   "source": [
    "#2.2 Looking inside the text"
   ]
  },
  {
   "cell_type": "code",
   "execution_count": 53,
   "id": "7c207bf4",
   "metadata": {},
   "outputs": [
    {
     "name": "stdout",
     "output_type": "stream",
     "text": [
      "No\n"
     ]
    }
   ],
   "source": [
    "if \"python\" in course_catalog_description:\n",
    "    print(\"Yes\")\n",
    "else:\n",
    "    print(\"No\")"
   ]
  },
  {
   "cell_type": "code",
   "execution_count": 52,
   "id": "2f4a73b0",
   "metadata": {},
   "outputs": [
    {
     "name": "stdout",
     "output_type": "stream",
     "text": [
      "The word 'python' is not present in the course description.\n"
     ]
    }
   ],
   "source": [
    "course_catalog_description = \"This course will introduce basic programming and data science tools to give students the skills to use data to read, critique, and produce stories and insights. The class will cover the basics of the Python programming language, acquiring and processing public data, and basic tools and techniques for data analysis and visualization. We will focus on gaining access to data and basic data manipulation rather than complex statistical methods. The class will be built around student-designed independent projects and is targeted at students with no previous programming experience.\"\n",
    "if \"python\" in course_catalog_description:\n",
    "    print(\"The word 'python' is present in the course description.\")\n",
    "else:\n",
    "    print(\"The word 'python' is not present in the course description.\")"
   ]
  },
  {
   "cell_type": "code",
   "execution_count": 55,
   "id": "651c5c42",
   "metadata": {},
   "outputs": [
    {
     "name": "stdout",
     "output_type": "stream",
     "text": [
      "The word 'python' or 'statistics' is not present in the course description.\n"
     ]
    }
   ],
   "source": [
    "if \"python\" in course_catalog_description:\n",
    "    print(\"The word 'python' is present in the course description.\")\n",
    "elif \"statistics\" in course_catalog_description:\n",
    "    print(\"The word 'statistics' is present in the course description.\")\n",
    "else:\n",
    "    print(\"The word 'python' or 'statistics' is not present in the course description.\")"
   ]
  },
  {
   "cell_type": "code",
   "execution_count": 58,
   "id": "1ed7d98e",
   "metadata": {},
   "outputs": [
    {
     "name": "stdout",
     "output_type": "stream",
     "text": [
      "The word 'visualization' is present in the course description.\n"
     ]
    }
   ],
   "source": [
    "if \"python\" in course_catalog_description:\n",
    "    print(\"The word 'python' is present in the course description.\")\n",
    "elif \"statistics\" in course_catalog_description:\n",
    "    print(\"The word 'statistics' is present in the course description.\")\n",
    "elif \"visualization\" in course_catalog_description:\n",
    "    print(\"The word 'visualization' is present in the course description.\")    \n",
    "else:\n",
    "    print(\"The word 'python','statistics', or 'visulization' is not present in the course description.\")"
   ]
  },
  {
   "cell_type": "code",
   "execution_count": 60,
   "id": "bef23242",
   "metadata": {},
   "outputs": [],
   "source": [
    "#3 A program that knows its limits"
   ]
  },
  {
   "cell_type": "code",
   "execution_count": 83,
   "id": "76772d2f",
   "metadata": {},
   "outputs": [
    {
     "name": "stdout",
     "output_type": "stream",
     "text": [
      "1.5\n"
     ]
    }
   ],
   "source": [
    "my_variable = 0.5\n",
    "\n",
    "if type(my_variable) == int:\n",
    "    print(my_variable * 3)\n",
    "elif type(my_variable) == float:\n",
    "    print(my_variable * 3)\n",
    "else:\n",
    "    print(\"You can only multiply a number\")"
   ]
  },
  {
   "cell_type": "code",
   "execution_count": null,
   "id": "79ec531d",
   "metadata": {},
   "outputs": [],
   "source": []
  }
 ],
 "metadata": {
  "kernelspec": {
   "display_name": "Python 3 (ipykernel)",
   "language": "python",
   "name": "python3"
  },
  "language_info": {
   "codemirror_mode": {
    "name": "ipython",
    "version": 3
   },
   "file_extension": ".py",
   "mimetype": "text/x-python",
   "name": "python",
   "nbconvert_exporter": "python",
   "pygments_lexer": "ipython3",
   "version": "3.10.9"
  }
 },
 "nbformat": 4,
 "nbformat_minor": 5
}
