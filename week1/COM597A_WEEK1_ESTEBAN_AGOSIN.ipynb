{
 "cells": [
  {
   "cell_type": "code",
   "execution_count": 13,
   "id": "ade173c2",
   "metadata": {},
   "outputs": [
    {
     "name": "stdout",
     "output_type": "stream",
     "text": [
      "The total volume is 3.75 cups\n"
     ]
    }
   ],
   "source": [
    "#1.1 Compute the total volume\n",
    "\n",
    "cups_of_flour = 2.25 \n",
    "cups_of_sugar = 0.5  \n",
    "cups_of_butter = 1\n",
    "\n",
    "total = cups_of_flour + cups_of_sugar + cups_of_butter\n",
    "\n",
    "print (\"The total volume is\" + \" \" + str(total) + \" \" + \"cups\")"
   ]
  },
  {
   "cell_type": "code",
   "execution_count": 14,
   "id": "3fa20723",
   "metadata": {},
   "outputs": [
    {
     "name": "stdout",
     "output_type": "stream",
     "text": [
      "For 1/2 batches the total volume is 3.75\n",
      "For 3 batches the total volume is 11.25\n",
      "For 5 batches the total volume is 18.75\n"
     ]
    }
   ],
   "source": [
    "#1.2 Scale it up!\n",
    "\n",
    "cups_of_flour = 2.25 \n",
    "cups_of_sugar = 0.5  \n",
    "cups_of_butter = 1\n",
    "number_of_batches1 = 0.5\n",
    "number_of_batches2 = 3\n",
    "number_of_batches3 = 5\n",
    "\n",
    "total1 = number_of_batches1 * (cups_of_flour + cups_of_sugar + cups_of_butter)\n",
    "total2 = number_of_batches2 * (cups_of_flour + cups_of_sugar + cups_of_butter)\n",
    "total3 = number_of_batches3 * (cups_of_flour + cups_of_sugar + cups_of_butter)\n",
    "\n",
    "print (\"For 1/2 batches the total volume is\" + \" \" + str(total) )\n",
    "print (\"For 3 batches the total volume is\" + \" \" + str(total2) )\n",
    "print (\"For 5 batches the total volume is\" + \" \" + str(total3) )"
   ]
  },
  {
   "cell_type": "code",
   "execution_count": 16,
   "id": "fa4f6600",
   "metadata": {},
   "outputs": [
    {
     "name": "stdout",
     "output_type": "stream",
     "text": [
      "1/2 bacthes fits in 1 pans\n",
      "3 batches fit in 3 pans\n",
      "Too much batches for 3 pans!!!\n"
     ]
    }
   ],
   "source": [
    "#1.3 Will it fit in my pans?\n",
    "\n",
    "#variables rounded to the nearest larger integer. This because the question ask to fit 1, 3 and 5 pans (integer numbers)\n",
    "pans1 = round (total1 / 5) + 1\n",
    "pans2 = round (total2 / 5) + 1\n",
    "pans3 = round (total3 / 5) + 1\n",
    "\n",
    "\n",
    "if pans1 > 3:\n",
    "    print (\"Too much batches for 3 pans!!!\")\n",
    "else:\n",
    "    print (\"1/2 bacthes fits in\" + \" \" + str(pans1) + \" \" + \"pans\")\n",
    "\n",
    "if pans2 > 3:\n",
    "    print (\"Too much batches for 3 pans!!!\")\n",
    "else:\n",
    "    print (\"3 batches fit in\" + \" \" + str(pans2) + \" \" + \"pans\")\n",
    "\n",
    "if pans3 > 3:\n",
    "    print (\"Too much batches for 3 pans!!!\")\n",
    "else:\n",
    "    print (\"5 batches fit in\" + \" \" + str(pans3) + \" \" + \"pans\")\n",
    "    \n",
    "\n"
   ]
  },
  {
   "cell_type": "code",
   "execution_count": null,
   "id": "4e832cb9",
   "metadata": {},
   "outputs": [],
   "source": [
    "#2.1 Just the length\n",
    "\n",
    "catalog_description = \"This course will introduce basic programming and data science tools to give students the skills to use data to read, critique, and produce stories and insights. The class will cover the basics of the Python programming language, acquiring and processing public data, and basic tools and techniques for data analysis and visualization. We will focus on gaining access to data and basic data manipulation rather than complex statistical methods. The class will be built around student-designed independent projects and is targeted at students with no previous programming experience.\"\n",
    "len (catalog_description)"
   ]
  },
  {
   "cell_type": "code",
   "execution_count": null,
   "id": "efdea9cc",
   "metadata": {},
   "outputs": [],
   "source": [
    "#2.2 Looking inside the text\n",
    "\n",
    "if \"python\" in catalog_description:\n",
    "    print (\"The word python is included in Catalog description\")\n",
    "else: \n",
    "    print (\"The word python is not included in Catalog description\")"
   ]
  },
  {
   "cell_type": "code",
   "execution_count": null,
   "id": "73b7cdb2",
   "metadata": {},
   "outputs": [],
   "source": [
    "if \"python\" in catalog_description or \"statistics\" in catalog_description:\n",
    "    print (\"The word python or statistics is included in Catalog description\")\n",
    "else: \n",
    "    print (\"The word python or statistics is not included in Catalog description\")"
   ]
  },
  {
   "cell_type": "code",
   "execution_count": null,
   "id": "549b2c45",
   "metadata": {},
   "outputs": [],
   "source": [
    "if \"python\" in catalog_description or \"statistics\" in catalog_description or \"visualization\" in catalog_description:\n",
    "    print (\"The word python or statistics or visualization is included in Catalog description\")\n",
    "else: \n",
    "    print (\"The word python or statistics or is not included in Catalog description\")"
   ]
  },
  {
   "cell_type": "code",
   "execution_count": 1,
   "id": "387580ff",
   "metadata": {},
   "outputs": [
    {
     "name": "stdout",
     "output_type": "stream",
     "text": [
      "it can't multiple something that is not a number.\n"
     ]
    }
   ],
   "source": [
    "#3 A program that knows its limits\n",
    "\n",
    "my_variable = \"a\"\n",
    "\n",
    "if type(my_variable) == int or type(my_variable) == float:\n",
    "    print (my_variable *3)\n",
    "\n",
    "else:\n",
    "     print (\"it can't multiple something that is not a number.\")\n"
   ]
  },
  {
   "cell_type": "code",
   "execution_count": null,
   "id": "9414800b",
   "metadata": {},
   "outputs": [],
   "source": []
  }
 ],
 "metadata": {
  "kernelspec": {
   "display_name": "Python 3 (ipykernel)",
   "language": "python",
   "name": "python3"
  },
  "language_info": {
   "codemirror_mode": {
    "name": "ipython",
    "version": 3
   },
   "file_extension": ".py",
   "mimetype": "text/x-python",
   "name": "python",
   "nbconvert_exporter": "python",
   "pygments_lexer": "ipython3",
   "version": "3.8.5"
  }
 },
 "nbformat": 4,
 "nbformat_minor": 5
}
