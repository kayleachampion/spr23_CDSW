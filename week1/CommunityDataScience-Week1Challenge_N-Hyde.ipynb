{
 "cells": [
  {
   "cell_type": "markdown",
   "id": "5f4e6cc3",
   "metadata": {},
   "source": [
    "Question # 1"
   ]
  },
  {
   "cell_type": "code",
   "execution_count": 844,
   "id": "f72a0ee4",
   "metadata": {},
   "outputs": [],
   "source": [
    "cups_of_flour = 2.25\n",
    "cups_of_sugar = 0.5\n",
    "cups_of_butter = 1\n"
   ]
  },
  {
   "cell_type": "markdown",
   "id": "7824fab9",
   "metadata": {},
   "source": [
    "Question # 1.1"
   ]
  },
  {
   "cell_type": "code",
   "execution_count": 845,
   "id": "a6827097",
   "metadata": {},
   "outputs": [],
   "source": [
    "standard_volume = cups_of_flour + cups_of_sugar + cups_of_butter"
   ]
  },
  {
   "cell_type": "code",
   "execution_count": 846,
   "id": "3e5e1897",
   "metadata": {},
   "outputs": [
    {
     "name": "stdout",
     "output_type": "stream",
     "text": [
      "the total volume is 3.75 cups\n"
     ]
    }
   ],
   "source": [
    "print (\"the total volume is \" + str(standard_volume) + \" cups\")"
   ]
  },
  {
   "cell_type": "markdown",
   "id": "56066b9f",
   "metadata": {},
   "source": [
    "Question # 1.2"
   ]
  },
  {
   "cell_type": "code",
   "execution_count": 847,
   "id": "88b55ff9",
   "metadata": {},
   "outputs": [],
   "source": [
    "number_of_batches = 1"
   ]
  },
  {
   "cell_type": "code",
   "execution_count": 848,
   "id": "179c4b00",
   "metadata": {},
   "outputs": [],
   "source": [
    "one_batch_volume = standard_volume * number_of_batches"
   ]
  },
  {
   "cell_type": "code",
   "execution_count": 849,
   "id": "76f26b17",
   "metadata": {},
   "outputs": [],
   "source": [
    "number_of_batches = 0.5"
   ]
  },
  {
   "cell_type": "code",
   "execution_count": 850,
   "id": "22186f4d",
   "metadata": {},
   "outputs": [],
   "source": [
    "half_batch_volume = standard_volume * number_of_batches"
   ]
  },
  {
   "cell_type": "code",
   "execution_count": 851,
   "id": "89766aeb",
   "metadata": {},
   "outputs": [
    {
     "name": "stdout",
     "output_type": "stream",
     "text": [
      "half batch volume is 1.875 cups\n"
     ]
    }
   ],
   "source": [
    "print (\"half batch volume is \" + str(half_batch_volume) + \" cups\")"
   ]
  },
  {
   "cell_type": "code",
   "execution_count": 852,
   "id": "e49c85c7",
   "metadata": {},
   "outputs": [],
   "source": [
    "number_of_batches = 3"
   ]
  },
  {
   "cell_type": "code",
   "execution_count": 853,
   "id": "13f53630",
   "metadata": {},
   "outputs": [],
   "source": [
    "three_batch_volume = standard_volume * number_of_batches"
   ]
  },
  {
   "cell_type": "code",
   "execution_count": 854,
   "id": "a53bc1ca",
   "metadata": {},
   "outputs": [
    {
     "name": "stdout",
     "output_type": "stream",
     "text": [
      "three batch volume is 11.25 cups\n"
     ]
    }
   ],
   "source": [
    "print (\"three batch volume is \" + str(three_batch_volume) + \" cups\")"
   ]
  },
  {
   "cell_type": "code",
   "execution_count": 855,
   "id": "c3b38102",
   "metadata": {},
   "outputs": [],
   "source": [
    "number_of_batches = 5"
   ]
  },
  {
   "cell_type": "code",
   "execution_count": 856,
   "id": "e229c1d9",
   "metadata": {},
   "outputs": [],
   "source": [
    "five_batch_volume = standard_volume * number_of_batches"
   ]
  },
  {
   "cell_type": "code",
   "execution_count": 857,
   "id": "87e2652e",
   "metadata": {},
   "outputs": [
    {
     "name": "stdout",
     "output_type": "stream",
     "text": [
      "five batch volume is 18.75 cups\n"
     ]
    }
   ],
   "source": [
    "print (\"five batch volume is \" + str(five_batch_volume) + \" cups\")"
   ]
  },
  {
   "cell_type": "markdown",
   "id": "889103f9",
   "metadata": {},
   "source": [
    "Question # 1.3 "
   ]
  },
  {
   "cell_type": "markdown",
   "id": "eb2dfdce",
   "metadata": {},
   "source": [
    "Calcualte Pan Volume"
   ]
  },
  {
   "cell_type": "code",
   "execution_count": 858,
   "id": "6065624f",
   "metadata": {},
   "outputs": [],
   "source": [
    "single_pan_volume = 5"
   ]
  },
  {
   "cell_type": "code",
   "execution_count": 859,
   "id": "aa624173",
   "metadata": {},
   "outputs": [],
   "source": [
    "number_of_pans = 2"
   ]
  },
  {
   "cell_type": "code",
   "execution_count": 860,
   "id": "1941aae8",
   "metadata": {},
   "outputs": [],
   "source": [
    "double_pan_volume = single_pan_volume * number_of_pans"
   ]
  },
  {
   "cell_type": "code",
   "execution_count": 861,
   "id": "b4b10881",
   "metadata": {},
   "outputs": [],
   "source": [
    "number_of_pans = 3"
   ]
  },
  {
   "cell_type": "code",
   "execution_count": 862,
   "id": "f0882c40",
   "metadata": {},
   "outputs": [],
   "source": [
    "triple_pan_volume = single_pan_volume * number_of_pans"
   ]
  },
  {
   "cell_type": "markdown",
   "id": "292e6b25",
   "metadata": {},
   "source": [
    "Testing Half Batch "
   ]
  },
  {
   "cell_type": "code",
   "execution_count": 863,
   "id": "7b62e656",
   "metadata": {},
   "outputs": [
    {
     "name": "stdout",
     "output_type": "stream",
     "text": [
      "half batch volume will fit in single pan\n"
     ]
    }
   ],
   "source": [
    "if half_batch_volume <= single_pan_volume:\n",
    "    print (\"half batch volume will fit in single pan\")\n",
    "elif half_batch_volume <= double_pan_volume:\n",
    "    print (\"half batch volume will fit in two pans\")\n",
    "elif half_batch_volume <= triple_pan_volume:\n",
    "    print (\"half batch volume will fit in three pans\")\n",
    "else :\n",
    "    print (\"not enough pans\")"
   ]
  },
  {
   "cell_type": "markdown",
   "id": "61e01a76",
   "metadata": {},
   "source": [
    "Testing Three Batch "
   ]
  },
  {
   "cell_type": "code",
   "execution_count": 864,
   "id": "f38b6563",
   "metadata": {},
   "outputs": [
    {
     "name": "stdout",
     "output_type": "stream",
     "text": [
      "three batch volume will fit in three pans\n"
     ]
    }
   ],
   "source": [
    "if three_batch_volume <= single_pan_volume:\n",
    "    print (\"three batch volume will fit in single pan\")\n",
    "elif three_batch_volume <= double_pan_volume:\n",
    "    print (\"three batch volume will fit in two pans\")\n",
    "elif three_batch_volume <= triple_pan_volume:\n",
    "    print (\"three batch volume will fit in three pans\")\n",
    "else :\n",
    "    print (\"not enough pans\")"
   ]
  },
  {
   "cell_type": "markdown",
   "id": "89d48b83",
   "metadata": {},
   "source": [
    "Testing Five Batch"
   ]
  },
  {
   "cell_type": "code",
   "execution_count": 865,
   "id": "5e0afd0c",
   "metadata": {},
   "outputs": [
    {
     "name": "stdout",
     "output_type": "stream",
     "text": [
      "not enough pans\n"
     ]
    }
   ],
   "source": [
    "if five_batch_volume <= single_pan_volume:\n",
    "    print (\"five batch volume will fit in single pan\")\n",
    "elif five_batch_volume <= double_pan_volume:\n",
    "    print (\"five batch volume will fit in two pans\")\n",
    "elif five_batch_volume <= triple_pan_volume:\n",
    "    print (\"five batch volume will fit in three pans\")\n",
    "else :\n",
    "    print (\"not enough pans\")"
   ]
  },
  {
   "cell_type": "markdown",
   "id": "c09362bb",
   "metadata": {},
   "source": [
    "Question # 2"
   ]
  },
  {
   "cell_type": "code",
   "execution_count": 866,
   "id": "832b78b2",
   "metadata": {},
   "outputs": [
    {
     "data": {
      "text/plain": [
       "'This course will introduce basic programming and data science tools to give students the skills to use data to read, critique, and produce stories and insights. The class will cover the basics of the Python programming language, acquiring and processing public data, and basic tools and techniques for data analysis and visualization. We will focus on gaining access to data and basic data manipulation rather than complex statistical methods. The class will be built around student-designed independent projects and is targeted at students with no previous programming experience.'"
      ]
     },
     "execution_count": 866,
     "metadata": {},
     "output_type": "execute_result"
    }
   ],
   "source": [
    "course_description = \"This course will introduce basic programming and data science tools to give students the skills to use data to read, critique, and produce stories and insights. The class will cover the basics of the Python programming language, acquiring and processing public data, and basic tools and techniques for data analysis and visualization. We will focus on gaining access to data and basic data manipulation rather than complex statistical methods. The class will be built around student-designed independent projects and is targeted at students with no previous programming experience.\"\n",
    "course_description"
   ]
  },
  {
   "cell_type": "markdown",
   "id": "d5444c7b",
   "metadata": {},
   "source": [
    "Question # 2.1"
   ]
  },
  {
   "cell_type": "code",
   "execution_count": 867,
   "id": "3ac05ff6",
   "metadata": {},
   "outputs": [],
   "source": [
    "character_count = len(course_description)"
   ]
  },
  {
   "cell_type": "code",
   "execution_count": 868,
   "id": "fa41024f",
   "metadata": {},
   "outputs": [
    {
     "name": "stdout",
     "output_type": "stream",
     "text": [
      "There are 581 characters in the course description.\n"
     ]
    }
   ],
   "source": [
    "print (\"There are \" + str(character_count) + \" characters in the course description.\")"
   ]
  },
  {
   "cell_type": "markdown",
   "id": "afd3f894",
   "metadata": {},
   "source": [
    "Question # 2.2 (1)"
   ]
  },
  {
   "cell_type": "code",
   "execution_count": 869,
   "id": "e4b45f94",
   "metadata": {},
   "outputs": [
    {
     "name": "stdout",
     "output_type": "stream",
     "text": [
      "the word'python' was not found\n"
     ]
    }
   ],
   "source": [
    "if 'python' in course_description:\n",
    "    print (\"the word 'python' is found\")\n",
    "else: \n",
    "    print (\"the word'python' was not found\")"
   ]
  },
  {
   "cell_type": "markdown",
   "id": "a7d25e69",
   "metadata": {},
   "source": [
    "Question # 2.2 (2)"
   ]
  },
  {
   "cell_type": "code",
   "execution_count": 870,
   "id": "17cd9d5c",
   "metadata": {},
   "outputs": [
    {
     "name": "stdout",
     "output_type": "stream",
     "text": [
      "neither words were found\n"
     ]
    }
   ],
   "source": [
    "if 'python' in course_description or 'statistics' in course_description:\n",
    "    print (\"the words 'python' and/or 'statistics' were found\")\n",
    "else:\n",
    "     print (\"neither words were found\")"
   ]
  },
  {
   "cell_type": "markdown",
   "id": "a293ab86",
   "metadata": {},
   "source": [
    "Question # 2.3 (3)"
   ]
  },
  {
   "cell_type": "code",
   "execution_count": 871,
   "id": "b3f881c1",
   "metadata": {},
   "outputs": [
    {
     "name": "stdout",
     "output_type": "stream",
     "text": [
      "the word 'visualization' is found\n"
     ]
    }
   ],
   "source": [
    "if 'python' in course_description or 'statistics' in course_description or 'visualization' in course_description:\n",
    "    if 'python' in course_description:\n",
    "        print (\"the word 'python' is found\")\n",
    "    if 'statistics' in course_description:\n",
    "        print (\"the word 'statistics' is found\") \n",
    "    if 'visualization'in course_description:\n",
    "        print (\"the word 'visualization' is found\")\n",
    "else:\n",
    "     print (\"none of the words were found\")"
   ]
  },
  {
   "cell_type": "markdown",
   "id": "0f5ba25a",
   "metadata": {},
   "source": [
    "Question # 3"
   ]
  },
  {
   "cell_type": "code",
   "execution_count": 872,
   "id": "99dc349a",
   "metadata": {},
   "outputs": [],
   "source": [
    "my_variable = \"dog\""
   ]
  },
  {
   "cell_type": "markdown",
   "id": "a6f19000",
   "metadata": {},
   "source": [
    "Checking if is #"
   ]
  },
  {
   "cell_type": "code",
   "execution_count": 873,
   "id": "9faf7742",
   "metadata": {},
   "outputs": [
    {
     "name": "stdout",
     "output_type": "stream",
     "text": [
      "'my_variable' is not a number and can't be multiplied\n"
     ]
    }
   ],
   "source": [
    "if type(my_variable) == int or type(my_variable) == float:\n",
    "    my_product = my_variable * 3\n",
    "    print (\"the product of my_variable * 3 is \" + str(my_product))\n",
    "else: \n",
    "    print (\"'my_variable' is not a number and can't be multiplied\")"
   ]
  }
 ],
 "metadata": {
  "kernelspec": {
   "display_name": "Python 3 (ipykernel)",
   "language": "python",
   "name": "python3"
  },
  "language_info": {
   "codemirror_mode": {
    "name": "ipython",
    "version": 3
   },
   "file_extension": ".py",
   "mimetype": "text/x-python",
   "name": "python",
   "nbconvert_exporter": "python",
   "pygments_lexer": "ipython3",
   "version": "3.10.9"
  }
 },
 "nbformat": 4,
 "nbformat_minor": 5
}
