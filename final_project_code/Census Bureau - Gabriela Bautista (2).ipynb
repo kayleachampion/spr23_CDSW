{
 "cells": [
  {
   "cell_type": "code",
   "execution_count": 1,
   "id": "a646e95a",
   "metadata": {},
   "outputs": [],
   "source": [
    "import requests"
   ]
  },
  {
   "cell_type": "code",
   "execution_count": 101,
   "id": "f3ee2243",
   "metadata": {},
   "outputs": [],
   "source": [
    "races = {\"P003003\": \"White\", \n",
    "         \"P003004\": \"Black or African American\", \n",
    "         \"P003005\": \"American Indian and Alaska Native\",\n",
    "         \"P003006\": \"Asian\",\n",
    "         \"P003007\": \"Native Hawaiian and Other Pacific Islander\",\n",
    "         \"P003008\": \"Some other race\",\n",
    "         \"P004002\": \"Hispanic or Latino\"}\n"
   ]
  },
  {
   "cell_type": "code",
   "execution_count": 107,
   "id": "3683de0b",
   "metadata": {},
   "outputs": [],
   "source": [
    "codes_races = list(races.keys())"
   ]
  },
  {
   "cell_type": "code",
   "execution_count": 108,
   "id": "0b84d009",
   "metadata": {},
   "outputs": [
    {
     "data": {
      "text/plain": [
       "['P003003', 'P003004', 'P003005', 'P003006', 'P003007', 'P003008', 'P004002']"
      ]
     },
     "execution_count": 108,
     "metadata": {},
     "output_type": "execute_result"
    }
   ],
   "source": [
    "codes_races"
   ]
  },
  {
   "cell_type": "code",
   "execution_count": 127,
   "id": "2aaaad08",
   "metadata": {},
   "outputs": [],
   "source": [
    "locations = {\n",
    "    \"98122\": \"Capitol Hill\",\n",
    "    \"98005\": \"Bellevue\",\n",
    "    \"98116\": \"West Seattle\",\n",
    "    \"98107\": \"Ballard\",\n",
    "    \"98052\": \"Redmond\",\n",
    "    \"98027\": \"Issaquah\",\n",
    "    \"98034\": \"Kirkland\",\n",
    "    \"98001\": \"Federal Way\",\n",
    "    \"98055\": \"Renton\",\n",
    "    \"98133\": \"Shoreline\"\n",
    "}"
   ]
  },
  {
   "cell_type": "code",
   "execution_count": 128,
   "id": "c4bcc01b",
   "metadata": {},
   "outputs": [],
   "source": [
    "codes_loc = list(locations.keys())"
   ]
  },
  {
   "cell_type": "code",
   "execution_count": 129,
   "id": "751bd22b",
   "metadata": {},
   "outputs": [],
   "source": [
    "map_locations = dict()"
   ]
  },
  {
   "cell_type": "code",
   "execution_count": 134,
   "id": "6bee2fab",
   "metadata": {},
   "outputs": [],
   "source": [
    "for loc in codes_loc:\n",
    "    censo = requests.get(f'https://api.census.gov/data/2000/dec/sf1?get={codes_races[0]},{codes_races[1]},{codes_races[2]},{codes_races[3]},{codes_races[4]},{codes_races[5]},{codes_races[6]},NAME&for=zip%20code%20tabulation%20area%20(or%20part):{loc}&in=state:53')\n",
    "    data = censo.json()[1]\n",
    "    tmp_dict = {\n",
    "        races[code]: value for code, value in zip(codes_races, data[:len(codes_races)])\n",
    "    }\n",
    "    \n",
    "    map_locations[locations[loc]] = tmp_dict\n",
    "    "
   ]
  },
  {
   "cell_type": "code",
   "execution_count": 135,
   "id": "a65e2eed",
   "metadata": {},
   "outputs": [],
   "source": [
    "test = requests.get(f'https://api.census.gov/data/2000/dec/sf1?get={codes_races[0]},{codes_races[1]},{codes_races[2]},{codes_races[3]},{codes_races[4]},{codes_races[5]},NAME&for=zip%20code%20tabulation%20area%20(or%20part):{codes_loc[-1]}&in=state:53')"
   ]
  },
  {
   "cell_type": "code",
   "execution_count": 133,
   "id": "cae0c03c",
   "metadata": {},
   "outputs": [
    {
     "data": {
      "text/plain": [
       "{'Capitol Hill': {'White': '16472',\n",
       "  'Black or African American': '7196',\n",
       "  'American Indian and Alaska Native': '333',\n",
       "  'Asian': '2259',\n",
       "  'Native Hawaiian and Other Pacific Islander': '136',\n",
       "  'Some other race': '866',\n",
       "  'Hispanic or Latino': '1998'},\n",
       " 'Bellevue': {'White': '12872',\n",
       "  'Black or African American': '332',\n",
       "  'American Indian and Alaska Native': '75',\n",
       "  'Asian': '2821',\n",
       "  'Native Hawaiian and Other Pacific Islander': '35',\n",
       "  'Some other race': '468',\n",
       "  'Hispanic or Latino': '863'},\n",
       " 'West Seattle': {'White': '18446',\n",
       "  'Black or African American': '374',\n",
       "  'American Indian and Alaska Native': '202',\n",
       "  'Asian': '787',\n",
       "  'Native Hawaiian and Other Pacific Islander': '39',\n",
       "  'Some other race': '255',\n",
       "  'Hispanic or Latino': '700'},\n",
       " 'Ballard': {'White': '16111',\n",
       "  'Black or African American': '375',\n",
       "  'American Indian and Alaska Native': '226',\n",
       "  'Asian': '693',\n",
       "  'Native Hawaiian and Other Pacific Islander': '39',\n",
       "  'Some other race': '353',\n",
       "  'Hispanic or Latino': '889'},\n",
       " 'Redmond': {'White': '40215',\n",
       "  'Black or African American': '715',\n",
       "  'American Indian and Alaska Native': '216',\n",
       "  'Asian': '6214',\n",
       "  'Native Hawaiian and Other Pacific Islander': '87',\n",
       "  'Some other race': '1223',\n",
       "  'Hispanic or Latino': '2770'},\n",
       " 'Issaquah': {'White': '19894',\n",
       "  'Black or African American': '187',\n",
       "  'American Indian and Alaska Native': '123',\n",
       "  'Asian': '1142',\n",
       "  'Native Hawaiian and Other Pacific Islander': '34',\n",
       "  'Some other race': '246',\n",
       "  'Hispanic or Latino': '746'},\n",
       " 'Kirkland': {'White': '33163',\n",
       "  'Black or African American': '760',\n",
       "  'American Indian and Alaska Native': '220',\n",
       "  'Asian': '3872',\n",
       "  'Native Hawaiian and Other Pacific Islander': '79',\n",
       "  'Some other race': '800',\n",
       "  'Hispanic or Latino': '2130'},\n",
       " 'Federal Way': {'White': '21758',\n",
       "  'Black or African American': '688',\n",
       "  'American Indian and Alaska Native': '286',\n",
       "  'Asian': '1499',\n",
       "  'Native Hawaiian and Other Pacific Islander': '121',\n",
       "  'Some other race': '505',\n",
       "  'Hispanic or Latino': '1073'},\n",
       " 'Renton': {'White': '16999',\n",
       "  'Black or African American': '3052',\n",
       "  'American Indian and Alaska Native': '186',\n",
       "  'Asian': '4205',\n",
       "  'Native Hawaiian and Other Pacific Islander': '187',\n",
       "  'Some other race': '1030',\n",
       "  'Hispanic or Latino': '1769'},\n",
       " 'Shoreline': {'White': '31180',\n",
       "  'Black or African American': '1822',\n",
       "  'American Indian and Alaska Native': '512',\n",
       "  'Asian': '6256',\n",
       "  'Native Hawaiian and Other Pacific Islander': '148',\n",
       "  'Some other race': '931',\n",
       "  'Hispanic or Latino': '2226'}}"
      ]
     },
     "execution_count": 133,
     "metadata": {},
     "output_type": "execute_result"
    }
   ],
   "source": [
    "map_locations"
   ]
  },
  {
   "cell_type": "code",
   "execution_count": 137,
   "id": "9f66d49e",
   "metadata": {},
   "outputs": [],
   "source": [
    "import json\n",
    "with open('/Users/gabrielabautista/Desktop/Community Data Science/map_locations.json', 'w') as f:\n",
    "    json.dump(map_locations, f)"
   ]
  },
  {
   "cell_type": "code",
   "execution_count": null,
   "id": "78c826c3",
   "metadata": {},
   "outputs": [],
   "source": []
  }
 ],
 "metadata": {
  "kernelspec": {
   "display_name": "Python 3 (ipykernel)",
   "language": "python",
   "name": "python3"
  },
  "language_info": {
   "codemirror_mode": {
    "name": "ipython",
    "version": 3
   },
   "file_extension": ".py",
   "mimetype": "text/x-python",
   "name": "python",
   "nbconvert_exporter": "python",
   "pygments_lexer": "ipython3",
   "version": "3.10.9"
  }
 },
 "nbformat": 4,
 "nbformat_minor": 5
}
