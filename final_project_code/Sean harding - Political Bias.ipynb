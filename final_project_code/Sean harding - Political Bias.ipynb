{
 "cells": [
  {
   "cell_type": "code",
   "execution_count": 1,
   "metadata": {},
   "outputs": [
    {
     "name": "stderr",
     "output_type": "stream",
     "text": [
      "[nltk_data] Downloading package stopwords to\n",
      "[nltk_data]     /Users/seanharding/nltk_data...\n",
      "[nltk_data]   Package stopwords is already up-to-date!\n"
     ]
    }
   ],
   "source": [
    "import glob\n",
    "import pandas as pd\n",
    "import string\n",
    "import numpy as np\n",
    "import nltk\n",
    "nltk.download('stopwords')\n",
    "from nltk.corpus import stopwords\n",
    "import math\n",
    "import csv\n",
    "import re\n",
    "from sklearn.model_selection import cross_val_score\n",
    "from sklearn.model_selection import RepeatedKFold\n",
    "from sklearn.model_selection import train_test_split\n",
    "from sklearn.linear_model import Lasso, LogisticRegression\n",
    "from sklearn.feature_selection import SelectFromModel\n",
    "from sklearn.preprocessing import StandardScaler\n",
    "from sklearn import linear_model\n",
    "from sklearn.feature_extraction.text import TfidfVectorizer\n",
    "from sklearn.pipeline import Pipeline\n",
    "from sklearn.model_selection import GridSearchCV \n",
    "from sklearn.preprocessing import LabelEncoder\n",
    "from sklearn.feature_selection import SelectFromModel\n",
    "import us"
   ]
  },
  {
   "cell_type": "code",
   "execution_count": 37,
   "metadata": {},
   "outputs": [
    {
     "name": "stdout",
     "output_type": "stream",
     "text": [
      "Requirement already satisfied: us in /Users/seanharding/anaconda3/lib/python3.10/site-packages (2.0.2)\n",
      "Requirement already satisfied: jellyfish==0.6.1 in /Users/seanharding/anaconda3/lib/python3.10/site-packages (from us) (0.6.1)\n",
      "Requirement already satisfied: scikit-learn in /Users/seanharding/anaconda3/lib/python3.10/site-packages (1.2.2)\n",
      "Requirement already satisfied: numpy>=1.17.3 in /Users/seanharding/anaconda3/lib/python3.10/site-packages (from scikit-learn) (1.23.5)\n",
      "Requirement already satisfied: scipy>=1.3.2 in /Users/seanharding/anaconda3/lib/python3.10/site-packages (from scikit-learn) (1.10.0)\n",
      "Requirement already satisfied: joblib>=1.1.1 in /Users/seanharding/anaconda3/lib/python3.10/site-packages (from scikit-learn) (1.1.1)\n",
      "Requirement already satisfied: threadpoolctl>=2.0.0 in /Users/seanharding/anaconda3/lib/python3.10/site-packages (from scikit-learn) (2.2.0)\n"
     ]
    }
   ],
   "source": [
    "## anything missing? Can install missing items \n",
    "## (like the package us and the latest version of scikit-learn) \n",
    "## like this:\n",
    "import sys\n",
    "!{sys.executable} -m pip install us\n",
    "!{sys.executable} -m pip install --upgrade scikit-learn\n",
    "#then 'Kernel:Restart'"
   ]
  },
  {
   "cell_type": "code",
   "execution_count": 2,
   "metadata": {},
   "outputs": [
    {
     "name": "stdout",
     "output_type": "stream",
     "text": [
      "['data/articleWikipedia.txt', 'data/article1638.html']\n"
     ]
    }
   ],
   "source": [
    "congressSpeech = \"data/covidUtterances.tsv\"\n",
    "outfile = \"data/fullPredictions.tsv\"\n",
    "articleList = glob.glob(\"data/article*\") #glob is a fuzzy matcher\n",
    "print(articleList) #do I have everything?\n",
    "\n",
    "## Judgment calls time: choosing stop words!\n",
    "my_stop = [state.name.lower() for state in us.states.STATES] #list of all US states should be stop words; congressional uses of state names are collinear with the congressperson\n",
    "my_stop = my_stop + ['democrat', 'democratic', 'republican', 'democrats', 'republicans']\n",
    "my_stop = my_stop + ['leader mcconnell', 'speaker pelosi', 'representative', 'house', 'armed services', 'contact', 'remarks',  'prepared', 'delivery', 'opening', 'statement', 'mike', 'rogers', 'chairman', 'adam', 'smith', 'joe', 'wilson', 'joe', 'courtney', 'michael', 'turner', 'john', 'garamendi', 'doug', 'lamborn', 'donald', 'norcross', 'robert', 'wittman', 'ruben', 'gallego', 'Mike Rogers', 'Joe Wilson', 'Michael Turner', 'Doug Lamborn', 'Robert Wittman', 'Austin Scott', 'Sam Graves', 'Elise Stefanik', 'Scott DesJarlais', 'Trent Kelly', 'Mike Gallagher', 'Matt Gaetz', 'Don Bacon', 'Jim Banks', 'Jack Bergman', 'Michael Waltz',  'Mike Johnson', 'Lisa McClain', 'Ronny Jackson', 'Pat Fallon', 'Carlos Gimenez', 'Nancy Mace', 'Brad Finstad', 'Dale Strong', 'Morgan Luttrell', 'Jennifer Kiggans', 'Nick LaLota', 'James Moylan', 'Mark Alford', 'Cory Mills', 'Richard McCormick', 'Adam Smith', 'Joe Courtney', 'John Garamendi', 'Donald Norcross', 'Ruben Gallego', 'Seth Moulton', 'Salud Carbajal', 'Ro Khanna', 'William Keating', 'Andy Kim', 'Chrissy Houlahan', 'Elissa Slotkin', 'Mikie Sherrill', 'Veronica Escobar', 'Jared Golden', 'Sara Jacobs', 'Marilyn Strickland', 'Patrick Ryan', 'Jeff Jackson', 'Gabe Vasquez', 'Christopher Deluzio', 'Jill Tokuda', 'Donald Davis', 'Jennifer McClellan', 'Terri Sewell', 'Steven Horsford', 'Jimmy Panetta', 'Marc Veasey']\n",
    "my_stop = my_stop + ['carolina', 'dakota', 'hampshire', 'island', 'jersey', 'mexico', 'new', 'north', 'rhode', 'south', 'west', 'york'] #these are spit out by the tokenizer\n",
    "stop = my_stop + stopwords.words('english')\n",
    "\n"
   ]
  },
  {
   "cell_type": "code",
   "execution_count": 3,
   "metadata": {},
   "outputs": [],
   "source": [
    "dDF = pd.read_csv(\"data/democrat.tsv\", sep='\\t', header=0)\n",
    "rDF = pd.read_csv(\"data/republican.tsv\", sep='\\t', header=0)\n",
    "dDF['is_republican'] = 0\n",
    "rDF['is_republican'] = 1\n",
    "frames = [dDF, rDF]\n",
    "inDF = pd.concat(frames)\n",
    "#inDF.rename(columns={\"Text\": \"speech\"})"
   ]
  },
  {
   "cell_type": "code",
   "execution_count": null,
   "metadata": {},
   "outputs": [],
   "source": [
    "#my_stop ## what's in the list now?"
   ]
  },
  {
   "cell_type": "code",
   "execution_count": 48,
   "metadata": {
    "scrolled": true
   },
   "outputs": [
    {
     "data": {
      "text/html": [
       "<div>\n",
       "<style scoped>\n",
       "    .dataframe tbody tr th:only-of-type {\n",
       "        vertical-align: middle;\n",
       "    }\n",
       "\n",
       "    .dataframe tbody tr th {\n",
       "        vertical-align: top;\n",
       "    }\n",
       "\n",
       "    .dataframe thead th {\n",
       "        text-align: right;\n",
       "    }\n",
       "</style>\n",
       "<table border=\"1\" class=\"dataframe\">\n",
       "  <thead>\n",
       "    <tr style=\"text-align: right;\">\n",
       "      <th></th>\n",
       "      <th>URL</th>\n",
       "      <th>Title</th>\n",
       "      <th>Date</th>\n",
       "      <th>Text</th>\n",
       "      <th>is_republican</th>\n",
       "    </tr>\n",
       "  </thead>\n",
       "  <tbody>\n",
       "    <tr>\n",
       "      <th>0</th>\n",
       "      <td>https://democrats-armedservices.house.gov/pres...</td>\n",
       "      <td>Smith Statement in Honor of Memorial Day</td>\n",
       "      <td>2023-05-29T04:00:00Z</td>\n",
       "      <td>SEATTLE, WA– Today, Representative Adam Smith ...</td>\n",
       "      <td>0</td>\n",
       "    </tr>\n",
       "    <tr>\n",
       "      <th>1</th>\n",
       "      <td>https://democrats-armedservices.house.gov/pres...</td>\n",
       "      <td>Smith Statement on Nomination of Air Force Gen...</td>\n",
       "      <td>2023-05-25T04:00:00Z</td>\n",
       "      <td>WASHINGTON, D.C.– Today, Representative Adam S...</td>\n",
       "      <td>0</td>\n",
       "    </tr>\n",
       "    <tr>\n",
       "      <th>2</th>\n",
       "      <td>https://democrats-armedservices.house.gov/pres...</td>\n",
       "      <td>Smith Statement on Postponement of FY24 NDAA M...</td>\n",
       "      <td>2023-05-10T04:00:00Z</td>\n",
       "      <td>WASHINGTON, D.C. –Representative Adam Smith (D...</td>\n",
       "      <td>0</td>\n",
       "    </tr>\n",
       "  </tbody>\n",
       "</table>\n",
       "</div>"
      ],
      "text/plain": [
       "                                                 URL  \\\n",
       "0  https://democrats-armedservices.house.gov/pres...   \n",
       "1  https://democrats-armedservices.house.gov/pres...   \n",
       "2  https://democrats-armedservices.house.gov/pres...   \n",
       "\n",
       "                                               Title                  Date  \\\n",
       "0           Smith Statement in Honor of Memorial Day  2023-05-29T04:00:00Z   \n",
       "1  Smith Statement on Nomination of Air Force Gen...  2023-05-25T04:00:00Z   \n",
       "2  Smith Statement on Postponement of FY24 NDAA M...  2023-05-10T04:00:00Z   \n",
       "\n",
       "                                                Text  is_republican  \n",
       "0  SEATTLE, WA– Today, Representative Adam Smith ...              0  \n",
       "1  WASHINGTON, D.C.– Today, Representative Adam S...              0  \n",
       "2  WASHINGTON, D.C. –Representative Adam Smith (D...              0  "
      ]
     },
     "execution_count": 48,
     "metadata": {},
     "output_type": "execute_result"
    }
   ],
   "source": [
    "#inDF = pd.read_csv(congressSpeech, sep='\\t', header=0)\n",
    "inDF.head(3)"
   ]
  },
  {
   "cell_type": "code",
   "execution_count": 4,
   "metadata": {},
   "outputs": [
    {
     "data": {
      "text/html": [
       "<div>\n",
       "<style scoped>\n",
       "    .dataframe tbody tr th:only-of-type {\n",
       "        vertical-align: middle;\n",
       "    }\n",
       "\n",
       "    .dataframe tbody tr th {\n",
       "        vertical-align: top;\n",
       "    }\n",
       "\n",
       "    .dataframe thead th {\n",
       "        text-align: right;\n",
       "    }\n",
       "</style>\n",
       "<table border=\"1\" class=\"dataframe\">\n",
       "  <thead>\n",
       "    <tr style=\"text-align: right;\">\n",
       "      <th></th>\n",
       "      <th>URL</th>\n",
       "      <th>Title</th>\n",
       "      <th>Date</th>\n",
       "      <th>Text</th>\n",
       "      <th>is_republican</th>\n",
       "    </tr>\n",
       "  </thead>\n",
       "  <tbody>\n",
       "    <tr>\n",
       "      <th>0</th>\n",
       "      <td>https://democrats-armedservices.house.gov/pres...</td>\n",
       "      <td>Smith Statement in Honor of Memorial Day</td>\n",
       "      <td>2023-05-29T04:00:00Z</td>\n",
       "      <td>seattle, wa– today, representative adam smith ...</td>\n",
       "      <td>0</td>\n",
       "    </tr>\n",
       "    <tr>\n",
       "      <th>1</th>\n",
       "      <td>https://democrats-armedservices.house.gov/pres...</td>\n",
       "      <td>Smith Statement on Nomination of Air Force Gen...</td>\n",
       "      <td>2023-05-25T04:00:00Z</td>\n",
       "      <td>washington, d.c.– today, representative adam s...</td>\n",
       "      <td>0</td>\n",
       "    </tr>\n",
       "    <tr>\n",
       "      <th>2</th>\n",
       "      <td>https://democrats-armedservices.house.gov/pres...</td>\n",
       "      <td>Smith Statement on Postponement of FY24 NDAA M...</td>\n",
       "      <td>2023-05-10T04:00:00Z</td>\n",
       "      <td>washington, d.c. –representative adam smith (d...</td>\n",
       "      <td>0</td>\n",
       "    </tr>\n",
       "  </tbody>\n",
       "</table>\n",
       "</div>"
      ],
      "text/plain": [
       "                                                 URL  \\\n",
       "0  https://democrats-armedservices.house.gov/pres...   \n",
       "1  https://democrats-armedservices.house.gov/pres...   \n",
       "2  https://democrats-armedservices.house.gov/pres...   \n",
       "\n",
       "                                               Title                  Date  \\\n",
       "0           Smith Statement in Honor of Memorial Day  2023-05-29T04:00:00Z   \n",
       "1  Smith Statement on Nomination of Air Force Gen...  2023-05-25T04:00:00Z   \n",
       "2  Smith Statement on Postponement of FY24 NDAA M...  2023-05-10T04:00:00Z   \n",
       "\n",
       "                                                Text  is_republican  \n",
       "0  seattle, wa– today, representative adam smith ...              0  \n",
       "1  washington, d.c.– today, representative adam s...              0  \n",
       "2  washington, d.c. –representative adam smith (d...              0  "
      ]
     },
     "execution_count": 4,
     "metadata": {},
     "output_type": "execute_result"
    }
   ],
   "source": [
    "\n",
    "#cleanup routine\n",
    "inDF['Text'] = inDF['Text'].apply(lambda x: str(x)) #stringify everything\n",
    "numInIt = re.compile('\\d')\n",
    "inDF['Text']= inDF['Text'].apply(lambda x: ' '.join(x for x in x.split() if not numInIt.search(x))) #eliminate numbers and words that contain numbers\n",
    "inDF['Text'] = inDF['Text'].apply(lambda x: x.lower()) #lowercase everything\n",
    "inDF['Text'] = inDF['Text'].apply(lambda x: x.lstrip()) #eliminate leading whitespace\n",
    "inDF['Text'] = inDF['Text'].apply(lambda x: ' '.join(x for x in x.split() if x not in string.punctuation)) #elim punctuation\n",
    "\n",
    "inDF = inDF.dropna()\n",
    "inDF = inDF.reset_index(drop=True)\n",
    "minusNA = inDF.shape\n",
    "inDF.head(3)"
   ]
  },
  {
   "cell_type": "code",
   "execution_count": 5,
   "metadata": {},
   "outputs": [],
   "source": [
    "## what predicts what?\n",
    "y = inDF['is_republican']\n",
    "X = inDF['Text']\n",
    "\n",
    "## two tasks in the pipeline: tfidf and ridge regression\n",
    "estimators = [(\"tf_idf\", TfidfVectorizer(ngram_range=(1,3), stop_words=stop)), (\"ridge\", linear_model.Ridge())]\n",
    "model = Pipeline(estimators)\n",
    "\n"
   ]
  },
  {
   "cell_type": "code",
   "execution_count": 6,
   "metadata": {},
   "outputs": [
    {
     "name": "stderr",
     "output_type": "stream",
     "text": [
      "/Users/seanharding/anaconda3/lib/python3.10/site-packages/sklearn/feature_extraction/text.py:409: UserWarning: Your stop_words may be inconsistent with your preprocessing. Tokenizing the stop words generated tokens ['alford', 'andy', 'armed', 'austin', 'bacon', 'banks', 'bergman', 'brad', 'carbajal', 'carlos', 'chrissy', 'christopher', 'cory', 'dale', 'davis', 'deluzio', 'desjarlais', 'elise', 'elissa', 'escobar', 'fallon', 'finstad', 'gabe', 'gaetz', 'gallagher', 'gimenez', 'golden', 'graves', 'horsford', 'houlahan', 'jack', 'jackson', 'jacobs', 'james', 'jared', 'jeff', 'jennifer', 'jill', 'jim', 'jimmy', 'johnson', 'keating', 'kelly', 'khanna', 'kiggans', 'kim', 'lalota', 'leader', 'lisa', 'luttrell', 'mace', 'marc', 'marilyn', 'mark', 'matt', 'mcclain', 'mcclellan', 'mcconnell', 'mccormick', 'mikie', 'mills', 'morgan', 'moulton', 'moylan', 'nancy', 'nick', 'panetta', 'pat', 'patrick', 'pelosi', 'richard', 'ro', 'ronny', 'ryan', 'salud', 'sam', 'sara', 'scott', 'services', 'seth', 'sewell', 'sherrill', 'slotkin', 'speaker', 'stefanik', 'steven', 'strickland', 'strong', 'terri', 'tokuda', 'trent', 'vasquez', 'veasey', 'veronica', 'waltz', 'william'] not in stop_words.\n",
      "  warnings.warn(\n"
     ]
    }
   ],
   "source": [
    "model = model.fit(X, y) #this is all it takes!\n",
    "#if we do any hyper parameter tuning it can happen in here\n",
    "finalModel = model "
   ]
  },
  {
   "cell_type": "code",
   "execution_count": 7,
   "metadata": {},
   "outputs": [
    {
     "name": "stdout",
     "output_type": "stream",
     "text": [
      "For the model I now have Pipeline(steps=[('tf_idf',\n",
      "                 TfidfVectorizer(ngram_range=(1, 3),\n",
      "                                 stop_words=['alabama', 'alaska', 'arizona',\n",
      "                                             'arkansas', 'california',\n",
      "                                             'colorado', 'connecticut',\n",
      "                                             'delaware', 'florida', 'georgia',\n",
      "                                             'hawaii', 'idaho', 'illinois',\n",
      "                                             'indiana', 'iowa', 'kansas',\n",
      "                                             'kentucky', 'louisiana', 'maine',\n",
      "                                             'maryland', 'massachusetts',\n",
      "                                             'michigan', 'minnesota',\n",
      "                                             'mississippi', 'missouri',\n",
      "                                             'montana', 'nebraska', 'nevada',\n",
      "                                             'new hampshire', 'new jersey', ...])),\n",
      "                ('ridge', Ridge())])\n",
      "TfidfVectorizer(ngram_range=(1, 3),\n",
      "                stop_words=['alabama', 'alaska', 'arizona', 'arkansas',\n",
      "                            'california', 'colorado', 'connecticut', 'delaware',\n",
      "                            'florida', 'georgia', 'hawaii', 'idaho', 'illinois',\n",
      "                            'indiana', 'iowa', 'kansas', 'kentucky',\n",
      "                            'louisiana', 'maine', 'maryland', 'massachusetts',\n",
      "                            'michigan', 'minnesota', 'mississippi', 'missouri',\n",
      "                            'montana', 'nebraska', 'nevada', 'new hampshire',\n",
      "                            'new jersey', ...])\n",
      "Ridge()\n",
      "Best\n",
      "                              names      coef\n",
      "62553                         biden  1.083906\n",
      "256306                       hunter  1.052851\n",
      "288787                         josh  0.776002\n",
      "88688                         china  0.744093\n",
      "288794                   josh holly  0.707971\n",
      "252208                        holly  0.707971\n",
      "246349                      hearing  0.660330\n",
      "23864                            al  0.611112\n",
      "62569          biden administration  0.604154\n",
      "403600              president biden  0.572304\n",
      "255681          https armedservices  0.570534\n",
      "255680                        https  0.569849\n",
      "255682      https armedservices gov  0.569010\n",
      "41676                 armedservices  0.549623\n",
      "256341                    hunter ca  0.548355\n",
      "41677             armedservices gov  0.548122\n",
      "170914             duncan hunter ca  0.539951\n",
      "170911                       duncan  0.535746\n",
      "539659                        thank  0.529536\n",
      "170912                duncan hunter  0.529232\n",
      "236108                          gov  0.483753\n",
      "446079                          rep  0.480821\n",
      "298783                         lead  0.462377\n",
      "269680                    inflation  0.446414\n",
      "104100           committee released  0.423469\n",
      "519060                 subcommittee  0.419191\n",
      "298804          lead armed services  0.411433\n",
      "487599  services committee released  0.411116\n",
      "282899                        iraqi  0.408316\n",
      "593355                    witnesses  0.408287\n",
      "298802                   lead armed  0.406868\n",
      "14928                   adversaries  0.396874\n",
      "23929                 al lead armed  0.394534\n",
      "23928                       al lead  0.394534\n",
      "150450          delivered following  0.378387\n",
      "77527                  capabilities  0.378109\n",
      "306504                         like  0.377329\n",
      "150416                    delivered  0.349874\n",
      "42024                          army  0.332499\n",
      "386559                      percent  0.332362\n",
      "601828                         year  0.331730\n",
      "501539                        space  0.329099\n",
      "150460  delivered following hearing  0.317701\n",
      "583271                  warfighters  0.316372\n",
      "213337            following hearing  0.306954\n",
      "55733                          base  0.303093\n",
      "337650                      missile  0.302577\n",
      "519428         subcommittee hearing  0.302206\n",
      "31237                       america  0.301564\n",
      "343973                           mr  0.301462\n",
      "Worst\n",
      "                             names      coef\n",
      "369317                        open -0.208223\n",
      "326995                      member -0.208796\n",
      "340000       mo released following -0.208959\n",
      "104569      committee today issued -0.210705\n",
      "248730                        help -0.216477\n",
      "327444       member made following -0.224949\n",
      "327443                 member made -0.228516\n",
      "428668         ranking member made -0.228516\n",
      "548277                 today armed -0.228807\n",
      "277527               international -0.230007\n",
      "548279        today armed services -0.230030\n",
      "339992                 mo released -0.236206\n",
      "497421         skelton mo released -0.250990\n",
      "4564                   acquisition -0.251737\n",
      "385251                      people -0.259130\n",
      "528142                       syria -0.259223\n",
      "75328                       ca rep -0.259397\n",
      "116147                 congressman -0.259872\n",
      "483697               sequestration -0.262758\n",
      "447449                      report -0.265161\n",
      "348016                         nan -0.269249\n",
      "428779           ranking member wa -0.270538\n",
      "63432                         bill -0.271280\n",
      "549197                today issued -0.271947\n",
      "549198      today issued following -0.271947\n",
      "129546                     country -0.273907\n",
      "283866                        isil -0.278470\n",
      "440514                      region -0.281812\n",
      "285212                      issued -0.283350\n",
      "327859                   member wa -0.285055\n",
      "285231            issued following -0.291413\n",
      "487583  services committee ranking -0.291451\n",
      "475044                   secretary -0.293483\n",
      "104037           committee ranking -0.311323\n",
      "405090             president trump -0.376748\n",
      "339833                          mo -0.378604\n",
      "258425                 ike skelton -0.401665\n",
      "487455      services committee ike -0.405130\n",
      "103252               committee ike -0.406700\n",
      "103253       committee ike skelton -0.406700\n",
      "584131                  wash armed -0.418766\n",
      "584133         wash armed services -0.418953\n",
      "258414                         ike -0.423564\n",
      "258444              ike skelton mo -0.444697\n",
      "497383                  skelton mo -0.449046\n",
      "580451                          wa -0.476749\n",
      "104041    committee ranking member -0.497449\n",
      "559260                       trump -0.512140\n",
      "584124                        wash -0.541252\n",
      "497186                     skelton -0.589324\n"
     ]
    }
   ],
   "source": [
    "\n",
    "print(f\"For the model I now have {finalModel}\")\n",
    "tf_idf_model = finalModel.named_steps[\"tf_idf\"]\n",
    "ridge_model = finalModel.named_steps[\"ridge\"]\n",
    "print(tf_idf_model)\n",
    "print(ridge_model)\n",
    "coefficients = pd.DataFrame({\"names\":tf_idf_model.get_feature_names_out(), \"coef\":ridge_model.coef_})\n",
    "print(\"Best\")\n",
    "print(coefficients.sort_values(\"coef\", ascending=False).head(50))\n",
    "print(\"Worst\")\n",
    "print(coefficients.sort_values(\"coef\", ascending=False).tail(50))"
   ]
  },
  {
   "cell_type": "code",
   "execution_count": 23,
   "metadata": {},
   "outputs": [
    {
     "name": "stdout",
     "output_type": "stream",
     "text": [
      "Article is data/articleWikipedia.txt and prediction is [0.1845735]\n",
      "Article is data/article1638.html and prediction is [0.38833107]\n"
     ]
    }
   ],
   "source": [
    "## now we bring in the article text and clean it up, then predict\n",
    "\n",
    "outFH = open(outfile, 'w') #rewrites outfile fresh\n",
    "outFH.write(\"articleID\\tprediction\\n\")\n",
    "\n",
    "for article in articleList:\n",
    "        with open(article) as f:\n",
    "                s_article = \" \".join([l.rstrip() for l in f])\n",
    "                p = re.compile(r'<.*?>') #tag killing regex\n",
    "                articleClean = re.sub(p, '', s_article) #drops the tags\n",
    "\n",
    "##Same cleanup routine as above\n",
    "                articleClean = articleClean.lower() #lowercase everything\n",
    "                articleClean = articleClean.lstrip() #eliminate leading whitespace \n",
    "                prediction = finalModel.predict([articleClean])\n",
    "                print(f\"Article is {article} and prediction is {prediction}\")\n",
    "                justID = article.split('/')[1]\n",
    "                justID = justID.split('.')[0]\n",
    "                justID = justID.lstrip('article')\n",
    "                outFH.write(f\"{justID}\\t{prediction[0]}\\n\")"
   ]
  },
  {
   "cell_type": "code",
   "execution_count": null,
   "metadata": {},
   "outputs": [],
   "source": []
  },
  {
   "cell_type": "code",
   "execution_count": null,
   "metadata": {},
   "outputs": [],
   "source": []
  }
 ],
 "metadata": {
  "kernelspec": {
   "display_name": "Python 3 (ipykernel)",
   "language": "python",
   "name": "python3"
  },
  "language_info": {
   "codemirror_mode": {
    "name": "ipython",
    "version": 3
   },
   "file_extension": ".py",
   "mimetype": "text/x-python",
   "name": "python",
   "nbconvert_exporter": "python",
   "pygments_lexer": "ipython3",
   "version": "3.10.9"
  }
 },
 "nbformat": 4,
 "nbformat_minor": 2
}
