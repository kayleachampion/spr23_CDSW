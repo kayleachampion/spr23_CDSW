{
 "cells": [
  {
   "cell_type": "code",
   "execution_count": null,
   "id": "fd3d08d7-83bc-435e-b6e6-9b53132f95a5",
   "metadata": {},
   "outputs": [],
   "source": [
    "import requests\n",
    "import json\n",
    "import time"
   ]
  },
  {
   "cell_type": "code",
   "execution_count": null,
   "id": "d9e7571b-bef7-4f13-a309-b3d429c850e6",
   "metadata": {},
   "outputs": [],
   "source": [
    "# fetching games list from Free2game\n",
    "def get_free2game_games():\n",
    "    url = (\"https://www.freetogame.com/api/games\")\n",
    "\n",
    "    response = requests.get(url)\n",
    "\n",
    "    if not response.status_code == 200:\n",
    "        print(\"ERROR, request not OK\")\n",
    "    \n",
    "    data = response.json()\n",
    "    return data"
   ]
  },
  {
   "cell_type": "code",
   "execution_count": null,
   "id": "56fd8310-6f4e-436d-90ce-0507068ebf41",
   "metadata": {},
   "outputs": [],
   "source": [
    "data = get_free2game_games()"
   ]
  },
  {
   "cell_type": "code",
   "execution_count": null,
   "id": "e07f40fe-3a30-44c2-be1a-3bbfb04c422f",
   "metadata": {},
   "outputs": [],
   "source": []
  },
  {
   "cell_type": "code",
   "execution_count": null,
   "id": "e8b1690e-3a35-415c-ba2c-2b6bf117de00",
   "metadata": {},
   "outputs": [],
   "source": [
    "# storing the api data in local json file\n",
    "with open(\"free2game_games.json\", 'w') as my_file:\n",
    "    data_string = json.dumps(data)\n",
    "    print(data_string, file=my_file)"
   ]
  },
  {
   "cell_type": "code",
   "execution_count": null,
   "id": "0f59d945-9b22-4559-9e6c-3ef3c2e51825",
   "metadata": {},
   "outputs": [],
   "source": [
    "# fetching games list from steam api"
   ]
  },
  {
   "cell_type": "code",
   "execution_count": null,
   "id": "ae52c070-677b-4914-b97e-0136d264e72c",
   "metadata": {},
   "outputs": [],
   "source": [
    "def get_steam_games():\n",
    "    url = (\"https://api.steampowered.com/ISteamApps/GetAppList/v2/\")\n",
    "\n",
    "    response = requests.get(url)\n",
    "\n",
    "    if not response.status_code == 200:\n",
    "        print(\"ERROR, request not OK\")\n",
    "    \n",
    "    data = response.json()\n",
    "    return data"
   ]
  },
  {
   "cell_type": "code",
   "execution_count": null,
   "id": "65f8b845-e795-4c8e-9dc4-c19eabf6640a",
   "metadata": {},
   "outputs": [],
   "source": [
    "steam_data = get_steam_games()"
   ]
  },
  {
   "cell_type": "code",
   "execution_count": null,
   "id": "6153324d-517b-4220-bf92-38c7c6e2020a",
   "metadata": {},
   "outputs": [],
   "source": []
  },
  {
   "cell_type": "code",
   "execution_count": null,
   "id": "2b131f11-1fb9-4a61-a410-d271b217d3c6",
   "metadata": {},
   "outputs": [],
   "source": [
    "ids = [item.get(\"appid\") for item in steam_data['applist']['apps']]"
   ]
  },
  {
   "cell_type": "code",
   "execution_count": null,
   "id": "9446f8ec-c468-44c0-a898-1dee406ab18b",
   "metadata": {},
   "outputs": [],
   "source": [
    "len(ids)"
   ]
  },
  {
   "cell_type": "code",
   "execution_count": null,
   "id": "a5cca413-bf7a-4fba-8a2f-ffc4e681d29d",
   "metadata": {},
   "outputs": [],
   "source": [
    "first_batch = ids[0:82255]"
   ]
  },
  {
   "cell_type": "code",
   "execution_count": null,
   "id": "e993ae0d-327c-4dad-9b12-0104bccacd44",
   "metadata": {},
   "outputs": [],
   "source": [
    "first_batch_update = ids[1741:10000]"
   ]
  },
  {
   "cell_type": "code",
   "execution_count": null,
   "id": "c702ace4-814d-4a56-960a-2c1b9db3cf20",
   "metadata": {},
   "outputs": [],
   "source": [
    "def get_steam_games_info(gameId):\n",
    "    url = (\"https://store.steampowered.com/api/appdetails?appids=\"+f\"{gameId}\")\n",
    "\n",
    "    response = requests.get(url)\n",
    "\n",
    "    if not response.status_code == 200:\n",
    "        print(\"ERROR, request not OK\",gameId)\n",
    "    else:\n",
    "        data = response.json()\n",
    "        return data"
   ]
  },
  {
   "cell_type": "code",
   "execution_count": null,
   "id": "59deb2c2-a918-431b-bcc6-7095edcfce5b",
   "metadata": {},
   "outputs": [],
   "source": [
    "with open(\"steam_games_first_batch.json\", 'w') as f:\n",
    "    for appid in first_batch:\n",
    "        game_info = get_steam_games_info(appid)\n",
    "        data_string= json.dumps(game_info)\n",
    "        print(data_string,file=f)\n",
    "        time.sleep(3)"
   ]
  },
  {
   "cell_type": "code",
   "execution_count": null,
   "id": "4363fde4-7f85-43a0-8096-21cc40b32a6b",
   "metadata": {},
   "outputs": [],
   "source": [
    "### data cleaning"
   ]
  },
  {
   "cell_type": "code",
   "execution_count": null,
   "id": "45e6f7a7-9263-41ce-9ea3-95fd58b1eb8d",
   "metadata": {},
   "outputs": [],
   "source": [
    "with open(\"free2game_games.json\", 'r') as f2g:\n",
    "    f2g_data = f2g.read()"
   ]
  },
  {
   "cell_type": "code",
   "execution_count": null,
   "id": "dcef1e4c-d723-4b6c-b272-f00187947639",
   "metadata": {},
   "outputs": [],
   "source": [
    "f2g_input = json.loads(f2g_data)"
   ]
  },
  {
   "cell_type": "code",
   "execution_count": null,
   "id": "8d94ed06-c2a9-40fd-808f-942dc9de38ce",
   "metadata": {
    "scrolled": true
   },
   "outputs": [],
   "source": [
    "genre_counts = {}  # Dictionary to store genre counts\n",
    "\n",
    "# Iterate over the list of IDs\n",
    "for game in f2g_input:\n",
    "    genre = game.get(\"genre\")\n",
    "    if genre:\n",
    "        if genre in genre_counts:\n",
    "            genre_counts[genre] += 1\n",
    "        else:\n",
    "            genre_counts[genre] = 1\n",
    "\n",
    "# Print the genre counts\n",
    "for genre, count in genre_counts.items():\n",
    "    print(f\"{genre}: {count}\")"
   ]
  },
  {
   "cell_type": "code",
   "execution_count": null,
   "id": "117d6378",
   "metadata": {},
   "outputs": [],
   "source": [
    "from datetime import datetime"
   ]
  },
  {
   "cell_type": "code",
   "execution_count": null,
   "id": "4fcdf0b5",
   "metadata": {},
   "outputs": [],
   "source": [
    "year_counts = {}  # Dictionary to store year counts\n",
    "\n",
    "# Iterate over the list of IDs\n",
    "for game in f2g_input:\n",
    "    release_date_str = game.get(\"release_date\")\n",
    "    if release_date_str:\n",
    "        \n",
    "        release_date_parts = release_date_str.split('-')\n",
    "        if (release_date_parts[2] == '00'):\n",
    "            # Replace the day value with '01'\n",
    "            release_date_parts[2] = '01'\n",
    "            release_date_str = '-'.join(release_date_parts)\n",
    "        \n",
    "        release_date = datetime.strptime(release_date_str, \"%Y-%m-%d\")\n",
    "        year = release_date.year\n",
    "\n",
    "        if year in year_counts:\n",
    "            year_counts[year] += 1\n",
    "        else:\n",
    "            year_counts[year] = 1\n",
    "            \n",
    "sorted_dates = sorted(year_counts.items())\n",
    "# Print the counts of games released each year\n",
    "for year, count in sorted_dates:\n",
    "    print(f\"{year}: {count}\")"
   ]
  },
  {
   "cell_type": "code",
   "execution_count": null,
   "id": "76b79044",
   "metadata": {},
   "outputs": [],
   "source": [
    "with open(\"f2g_genre_games.tsv\", \"w\") as f:\n",
    "    print(\"Genre\\tNum_of_Games\", file=f)   \n",
    "    \n",
    "    for gen in genre_counts.keys():\n",
    "        genre_num = genre_counts[gen]\n",
    "        print(gen, \"\\t\", genre_num, file=f)"
   ]
  },
  {
   "cell_type": "code",
   "execution_count": null,
   "id": "5bdfa4bd",
   "metadata": {},
   "outputs": [],
   "source": [
    "with open(\"f2g_year_games.tsv\", \"w\") as f:\n",
    "    print(\"Year\\tNum_of_Games\", file=f)   \n",
    "    \n",
    "    for year in year_counts.keys():\n",
    "        year_num = year_counts[year]\n",
    "        print(year, \"\\t\", year_num, file=f)"
   ]
  },
  {
   "cell_type": "code",
   "execution_count": null,
   "id": "a7f4aafe",
   "metadata": {},
   "outputs": [],
   "source": []
  },
  {
   "cell_type": "code",
   "execution_count": null,
   "id": "102af7d5",
   "metadata": {},
   "outputs": [],
   "source": [
    "#Steam Data Processing"
   ]
  },
  {
   "cell_type": "code",
   "execution_count": null,
   "id": "86e947ae",
   "metadata": {},
   "outputs": [],
   "source": [
    "with open(\"steam_games_first_batch.json\", 'r') as steam:\n",
    "    steam_json = steam.read()"
   ]
  },
  {
   "cell_type": "code",
   "execution_count": null,
   "id": "2762eb98",
   "metadata": {},
   "outputs": [],
   "source": [
    "data = [json.loads(line)\n",
    "        for line in open('steam_games_first_batch.json', 'r', encoding='utf-8')]"
   ]
  },
  {
   "cell_type": "code",
   "execution_count": null,
   "id": "d3e75d5f",
   "metadata": {},
   "outputs": [],
   "source": [
    "combined_dict = {}\n",
    "for item in data:\n",
    "    combined_dict.update(item)"
   ]
  },
  {
   "cell_type": "code",
   "execution_count": null,
   "id": "1331218b",
   "metadata": {},
   "outputs": [],
   "source": [
    "# getting all the games which has information : success = true\n",
    "success_data = {}\n",
    "for key, value in combined_dict.items():\n",
    "    success = value.get(\"success\")\n",
    "    if success:\n",
    "        success_data[key] = value"
   ]
  },
  {
   "cell_type": "code",
   "execution_count": null,
   "id": "6b564233",
   "metadata": {},
   "outputs": [],
   "source": [
    "# total games for which api information is available\n",
    "len(success_data)"
   ]
  },
  {
   "cell_type": "code",
   "execution_count": null,
   "id": "b62314ef",
   "metadata": {},
   "outputs": [],
   "source": [
    "## getting types of games in steam\n",
    "game_types_counts = {}\n",
    "\n",
    "for app_id, game_info in success_data.items():\n",
    "    game_type = game_info['data'].get('type', 'Unknown')\n",
    "    if game_type in game_types_counts:\n",
    "        game_types_counts[game_type] += 1\n",
    "    else:\n",
    "        game_types_counts[game_type] = 1\n",
    "\n",
    "print(\"Game Types and Their Counts:\")\n",
    "for game_type, count in game_types_counts.items():\n",
    "    print(game_type, \":\", count)"
   ]
  },
  {
   "cell_type": "code",
   "execution_count": null,
   "id": "2f424080",
   "metadata": {},
   "outputs": [],
   "source": [
    "# describing all the genres available in steam\n",
    "genre_descriptions = {}\n",
    "\n",
    "for app_id, game_info in success_data.items():\n",
    "    genres = game_info['data'].get('genres', [])\n",
    "    for genre in genres:\n",
    "        genre_id = genre.get('id')\n",
    "        genre_description = genre.get('description')\n",
    "        if genre_id and genre_description:\n",
    "            genre_descriptions[genre_id] = genre_description\n",
    "\n",
    "print(\"Genre Descriptions:\")\n",
    "for genre_id, description in genre_descriptions.items():\n",
    "    print(f\"Genre ID: {genre_id}, Description: {description}\")"
   ]
  },
  {
   "cell_type": "code",
   "execution_count": null,
   "id": "07dd3247",
   "metadata": {},
   "outputs": [],
   "source": [
    "# getting counts of each genre\n",
    "genre_counts = {}\n",
    "\n",
    "for app_id, game_info in success_data.items():\n",
    "    genres = game_info['data'].get('genres', [])\n",
    "    for genre in genres:\n",
    "        genre_id = genre.get('id')\n",
    "        genre_description = genre.get('description')\n",
    "        if genre_id and genre_description:\n",
    "            if genre_id in genre_counts:\n",
    "                genre_counts[genre_id] += 1\n",
    "            else:\n",
    "                genre_counts[genre_id] = 1\n",
    "\n",
    "print(\"Genre Counts:\")\n",
    "for genre_id, count in genre_counts.items():\n",
    "    print(f\"Genre ID: {genre_id}, Count: {count}\")"
   ]
  },
  {
   "cell_type": "code",
   "execution_count": null,
   "id": "e532afc8",
   "metadata": {},
   "outputs": [],
   "source": [
    "# Dictionary to store description and count\n",
    "description_dict = {}  \n",
    "\n",
    "for app_id, description in genre_descriptions.items():\n",
    "    if app_id in genre_counts:\n",
    "        count = genre_counts[app_id]\n",
    "        description_dict[description] = count\n",
    "\n",
    "description_dict"
   ]
  },
  {
   "cell_type": "code",
   "execution_count": null,
   "id": "1f335446",
   "metadata": {},
   "outputs": [],
   "source": [
    "from collections import defaultdict\n",
    "import operator\n",
    "\n",
    "developer_counts = defaultdict(int)\n",
    "\n",
    "for app_id, game_info in success_data.items():\n",
    "    developers = game_info['data'].get('developers', [])\n",
    "    for developer in developers:\n",
    "        developer_counts[developer] += 1\n",
    "\n",
    "top_10_developers = sorted(developer_counts.items(), key=operator.itemgetter(1), reverse=True)[:10]\n",
    "\n",
    "print(\"Top 10 Developers:\")\n",
    "for developer, count in top_10_developers:\n",
    "    print(f\"Developer: {developer}, Count: {count}\")"
   ]
  },
  {
   "cell_type": "code",
   "execution_count": null,
   "id": "6db6fbb9",
   "metadata": {},
   "outputs": [],
   "source": [
    "# getting the count of free games available on steam\n",
    "free_games_count = 0\n",
    "\n",
    "for app_id, game_info in success_data.items():\n",
    "    is_free = game_info['data'].get('is_free', False)\n",
    "    if is_free is True:\n",
    "        free_games_count += 1\n",
    "\n",
    "print(\"Count of Free Games:\", free_games_count)"
   ]
  },
  {
   "cell_type": "code",
   "execution_count": null,
   "id": "ceb6e5f7",
   "metadata": {},
   "outputs": [],
   "source": [
    "with open(\"steam_gametypes.tsv\", \"w\") as f:\n",
    "    print(\"Game_type\\tNum_of_Games\", file=f)   \n",
    "    \n",
    "    for gtype in game_types_counts.keys():\n",
    "        gen_type_num = game_types_counts[gtype]\n",
    "        print(gtype, \"\\t\", gen_type_num, file=f)"
   ]
  },
  {
   "cell_type": "code",
   "execution_count": null,
   "id": "a7d8ef20",
   "metadata": {},
   "outputs": [],
   "source": [
    "with open(\"steam_gamegenre.tsv\", \"w\") as f:\n",
    "    print(\"Game_genre\\tNum_of_Games\", file=f)   \n",
    "    \n",
    "    for genre in description_dict.keys():\n",
    "        genre_number = description_dict[genre]\n",
    "        print(genre, \"\\t\", genre_number, file=f)"
   ]
  },
  {
   "cell_type": "code",
   "execution_count": null,
   "id": "4a163e50",
   "metadata": {},
   "outputs": [],
   "source": []
  },
  {
   "cell_type": "code",
   "execution_count": null,
   "id": "37dfa294",
   "metadata": {},
   "outputs": [],
   "source": []
  },
  {
   "cell_type": "code",
   "execution_count": null,
   "id": "ec9dd0d8",
   "metadata": {},
   "outputs": [],
   "source": []
  }
 ],
 "metadata": {
  "kernelspec": {
   "display_name": "Python 3 (ipykernel)",
   "language": "python",
   "name": "python3"
  },
  "language_info": {
   "codemirror_mode": {
    "name": "ipython",
    "version": 3
   },
   "file_extension": ".py",
   "mimetype": "text/x-python",
   "name": "python",
   "nbconvert_exporter": "python",
   "pygments_lexer": "ipython3",
   "version": "3.10.9"
  }
 },
 "nbformat": 4,
 "nbformat_minor": 5
}
