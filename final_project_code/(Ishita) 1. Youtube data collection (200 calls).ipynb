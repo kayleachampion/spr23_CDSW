{
 "cells": [
  {
   "cell_type": "markdown",
   "id": "ca2e38d6",
   "metadata": {},
   "source": [
    "What is your proposed unit of analysis? In other words, if/when you end up building something like a spreadsheet, what are rows going to represent?\n",
    "\n",
    "\n",
    "A dataset focused on a specific keyword would shed light on how YouTube's recommendation algorithm operates. Specifically, I'm curious about how YouTube recommends similar content based on the initial keyword used in a video, and at what point in the view count does it start to make such recommendations. Does the algorithm prioritize the usage of the keyword, or does it prioritize popularity? Which of these factors carries more weight in YouTube's decision-making process for recommendations?"
   ]
  },
  {
   "cell_type": "code",
   "execution_count": 1,
   "id": "4e9c84aa",
   "metadata": {},
   "outputs": [
    {
     "name": "stdout",
     "output_type": "stream",
     "text": [
      "Requirement already satisfied: youtube-data-api in /Users/ishita/anaconda3/lib/python3.10/site-packages (0.0.21)\n",
      "Requirement already satisfied: pandas in /Users/ishita/anaconda3/lib/python3.10/site-packages (from youtube-data-api) (1.5.3)\n",
      "Requirement already satisfied: requests in /Users/ishita/anaconda3/lib/python3.10/site-packages (from youtube-data-api) (2.28.1)\n",
      "Requirement already satisfied: python-dateutil>=2.8.1 in /Users/ishita/anaconda3/lib/python3.10/site-packages (from pandas->youtube-data-api) (2.8.2)\n",
      "Requirement already satisfied: pytz>=2020.1 in /Users/ishita/anaconda3/lib/python3.10/site-packages (from pandas->youtube-data-api) (2022.7)\n",
      "Requirement already satisfied: numpy>=1.21.0 in /Users/ishita/anaconda3/lib/python3.10/site-packages (from pandas->youtube-data-api) (1.23.5)\n",
      "Requirement already satisfied: charset-normalizer<3,>=2 in /Users/ishita/anaconda3/lib/python3.10/site-packages (from requests->youtube-data-api) (2.0.4)\n",
      "Requirement already satisfied: idna<4,>=2.5 in /Users/ishita/anaconda3/lib/python3.10/site-packages (from requests->youtube-data-api) (3.4)\n",
      "Requirement already satisfied: urllib3<1.27,>=1.21.1 in /Users/ishita/anaconda3/lib/python3.10/site-packages (from requests->youtube-data-api) (1.26.14)\n",
      "Requirement already satisfied: certifi>=2017.4.17 in /Users/ishita/anaconda3/lib/python3.10/site-packages (from requests->youtube-data-api) (2022.12.7)\n",
      "Requirement already satisfied: six>=1.5 in /Users/ishita/anaconda3/lib/python3.10/site-packages (from python-dateutil>=2.8.1->pandas->youtube-data-api) (1.16.0)\n",
      "Note: you may need to restart the kernel to use updated packages.\n"
     ]
    }
   ],
   "source": [
    "pip install youtube-data-api"
   ]
  },
  {
   "cell_type": "code",
   "execution_count": 1,
   "id": "e8d8e27d",
   "metadata": {},
   "outputs": [
    {
     "data": {
      "text/plain": [
       "[{'video_id': 'IyuWXzR9g-I',\n",
       "  'channel_title': 'Forbes Breaking News',\n",
       "  'channel_id': 'UCg40OxZ1GYh3u3jBntB6DLg',\n",
       "  'video_publish_date': 1685225700.0,\n",
       "  'video_title': 'All Hell Breaks Loose When Man Screaming About Migrants Yells &#39;You&#39;re A Piece Of S---!&#39; At AOC',\n",
       "  'video_description': 'At a town hall last night in Corona, Queens, a heckler yelling about migrants yelled an expletive at Rep. Alexandria Ocasio-Cortez ...',\n",
       "  'video_category': None,\n",
       "  'video_thumbnail': 'https://i.ytimg.com/vi/IyuWXzR9g-I/hqdefault.jpg',\n",
       "  'collection_date': datetime.datetime(2023, 5, 28, 20, 47, 50, 138686)},\n",
       " {'video_id': 'DJmVIs4na-A',\n",
       "  'channel_title': 'Forbes Breaking News',\n",
       "  'channel_id': 'UCg40OxZ1GYh3u3jBntB6DLg',\n",
       "  'video_publish_date': 1685223320.0,\n",
       "  'video_title': 'WATCH: AOC Holds Town Hall In Queens Amidst Ongoing Debt Limit Battle, NYC Migrant Influx',\n",
       "  'video_description': 'Last night, Rep. Alexandria Ocasio-Cortez (D-NY) held a town hall in Corona, Queens. Fuel your success with Forbes.',\n",
       "  'video_category': None,\n",
       "  'video_thumbnail': 'https://i.ytimg.com/vi/DJmVIs4na-A/hqdefault.jpg',\n",
       "  'collection_date': datetime.datetime(2023, 5, 28, 20, 47, 50, 138724)},\n",
       " {'video_id': '1tk01l_jRX0',\n",
       "  'channel_title': 'ABC News',\n",
       "  'channel_id': 'UCBi2mrWuNuyYy4gbM6fU18Q',\n",
       "  'video_publish_date': 1675398840.0,\n",
       "  'video_title': 'Rep. Alexandria Ocasio-Cortez excoriates Republicans for ousting Rep. Ilhan Omar from committee.',\n",
       "  'video_description': '\"There is nothing consistent about the Republican Party\\'s continued attack, except for the racism... against women of color in this ...',\n",
       "  'video_category': None,\n",
       "  'video_thumbnail': 'https://i.ytimg.com/vi/1tk01l_jRX0/hqdefault.jpg',\n",
       "  'collection_date': datetime.datetime(2023, 5, 28, 20, 47, 50, 138749)},\n",
       " {'video_id': 'ErTYmkCiTbo',\n",
       "  'channel_title': '60 Minutes',\n",
       "  'channel_id': 'UCsN32BtMd0IoByjJRNF12cw',\n",
       "  'video_publish_date': 1546845900.0,\n",
       "  'video_title': 'Alexandria Ocasio-Cortez says &quot;no question&quot; Trump is a racist in &quot;60 Minutes&quot; interview',\n",
       "  'video_description': 'In a 60 Minutes interview that touched on a number of subjects, Rep. Alexandria Ocasio-Cortez said there\\'s \"no question\" ...',\n",
       "  'video_category': None,\n",
       "  'video_thumbnail': 'https://i.ytimg.com/vi/ErTYmkCiTbo/hqdefault.jpg',\n",
       "  'collection_date': datetime.datetime(2023, 5, 28, 20, 47, 50, 138771)},\n",
       " {'video_id': '3RrsXuecHwQ',\n",
       "  'channel_title': 'MSNBC',\n",
       "  'channel_id': 'UCaXkIU1QidjPwiAYu6GcHjg',\n",
       "  'video_publish_date': 1683843300.0,\n",
       "  'video_title': '#AOC disagrees with #Trump&#39;s #CNN town hall',\n",
       "  'video_description': 'Rep. #AlexandriaOcasioCortez calls CNN town hall with former President Trump “shameful” and a “profoundly irresponsible ...',\n",
       "  'video_category': None,\n",
       "  'video_thumbnail': 'https://i.ytimg.com/vi/3RrsXuecHwQ/hqdefault.jpg',\n",
       "  'collection_date': datetime.datetime(2023, 5, 28, 20, 47, 50, 138795)}]"
      ]
     },
     "execution_count": 1,
     "metadata": {},
     "output_type": "execute_result"
    }
   ],
   "source": [
    "from youtube_api import YouTubeDataAPI\n",
    "from youtube_key import youtube_key\n",
    "\n",
    "youtube_key \n",
    "yt = YouTubeDataAPI(youtube_key)\n",
    "\n",
    "yt.search('alexandria ocasio-cortez')\n",
    "\n",
    "#see how to get the videos part similar to the chrome code and find a way to use it in this api key"
   ]
  },
  {
   "cell_type": "code",
   "execution_count": 2,
   "id": "c3ed1293",
   "metadata": {
    "scrolled": true
   },
   "outputs": [
    {
     "name": "stdout",
     "output_type": "stream",
     "text": [
      "Requirement already satisfied: google-auth-oauthlib in /Users/ishita/anaconda3/lib/python3.10/site-packages (1.0.0)\n",
      "Requirement already satisfied: google-auth-httplib2 in /Users/ishita/anaconda3/lib/python3.10/site-packages (0.1.0)\n",
      "Requirement already satisfied: google-auth>=2.15.0 in /Users/ishita/anaconda3/lib/python3.10/site-packages (from google-auth-oauthlib) (2.18.0)\n",
      "Requirement already satisfied: requests-oauthlib>=0.7.0 in /Users/ishita/anaconda3/lib/python3.10/site-packages (from google-auth-oauthlib) (1.3.1)\n",
      "Requirement already satisfied: httplib2>=0.15.0 in /Users/ishita/anaconda3/lib/python3.10/site-packages (from google-auth-httplib2) (0.22.0)\n",
      "Requirement already satisfied: six in /Users/ishita/anaconda3/lib/python3.10/site-packages (from google-auth-httplib2) (1.16.0)\n",
      "Requirement already satisfied: cachetools<6.0,>=2.0.0 in /Users/ishita/anaconda3/lib/python3.10/site-packages (from google-auth>=2.15.0->google-auth-oauthlib) (5.3.0)\n",
      "Requirement already satisfied: pyasn1-modules>=0.2.1 in /Users/ishita/anaconda3/lib/python3.10/site-packages (from google-auth>=2.15.0->google-auth-oauthlib) (0.2.8)\n",
      "Requirement already satisfied: urllib3<2.0 in /Users/ishita/anaconda3/lib/python3.10/site-packages (from google-auth>=2.15.0->google-auth-oauthlib) (1.26.14)\n",
      "Requirement already satisfied: rsa<5,>=3.1.4 in /Users/ishita/anaconda3/lib/python3.10/site-packages (from google-auth>=2.15.0->google-auth-oauthlib) (4.9)\n",
      "Requirement already satisfied: pyparsing!=3.0.0,!=3.0.1,!=3.0.2,!=3.0.3,<4,>=2.4.2 in /Users/ishita/anaconda3/lib/python3.10/site-packages (from httplib2>=0.15.0->google-auth-httplib2) (3.0.9)\n",
      "Requirement already satisfied: oauthlib>=3.0.0 in /Users/ishita/anaconda3/lib/python3.10/site-packages (from requests-oauthlib>=0.7.0->google-auth-oauthlib) (3.2.2)\n",
      "Requirement already satisfied: requests>=2.0.0 in /Users/ishita/anaconda3/lib/python3.10/site-packages (from requests-oauthlib>=0.7.0->google-auth-oauthlib) (2.28.1)\n",
      "Requirement already satisfied: pyasn1<0.5.0,>=0.4.6 in /Users/ishita/anaconda3/lib/python3.10/site-packages (from pyasn1-modules>=0.2.1->google-auth>=2.15.0->google-auth-oauthlib) (0.4.8)\n",
      "Requirement already satisfied: charset-normalizer<3,>=2 in /Users/ishita/anaconda3/lib/python3.10/site-packages (from requests>=2.0.0->requests-oauthlib>=0.7.0->google-auth-oauthlib) (2.0.4)\n",
      "Requirement already satisfied: idna<4,>=2.5 in /Users/ishita/anaconda3/lib/python3.10/site-packages (from requests>=2.0.0->requests-oauthlib>=0.7.0->google-auth-oauthlib) (3.4)\n",
      "Requirement already satisfied: certifi>=2017.4.17 in /Users/ishita/anaconda3/lib/python3.10/site-packages (from requests>=2.0.0->requests-oauthlib>=0.7.0->google-auth-oauthlib) (2022.12.7)\n",
      "Note: you may need to restart the kernel to use updated packages.\n"
     ]
    }
   ],
   "source": [
    "pip install --upgrade google-auth-oauthlib google-auth-httplib2"
   ]
  },
  {
   "cell_type": "code",
   "execution_count": 3,
   "id": "151b9c26",
   "metadata": {},
   "outputs": [
    {
     "name": "stdout",
     "output_type": "stream",
     "text": [
      "<Response [200]>\n",
      "{'kind': 'youtube#videoListResponse', 'etag': 't5YlegXj71cvtobWiPh54nwZm4o', 'items': [{'kind': 'youtube#video', 'etag': 'Bgz5LM_F_7DjHs3f2-y5-QMrw1Y', 'id': 'FM7Z-Xq8Drc', 'snippet': {'publishedAt': '2023-05-27T21:14:59Z', 'channelId': 'UCX6OQ3DkcsbYNE6H8uQQuVA', 'title': 'Ages 1 - 100 Fight For $500,000', 'description': 'Claim a piece of MrBeast history — buy a prop in the Shop app for $0.01 https://go.shop.app/mrbeast\\n\\n\\nThanks to Lickd for providing the music for this video! Discover tracks for your YouTube videos here: https://go.lickd.co/mb1\\nTrack: Whisper by The Dear Hunter, License ID: B0yLW6gQwQ4  \\nhttps://lickd.lnk.to/EAnwiV\\n\\nAlso thank you Concept Pixel for the LED Wall,it looked great!\\n\\xa0www.conceptpixels.com\\n\\nNew Merch - https://shopmrbeast.com/\\n\\nSUBSCRIBE OR I TAKE YOUR DOG\\n╔═╦╗╔╦╗╔═╦═╦╦╦╦╗╔═╗\\n║╚╣║║║╚╣╚╣╔╣╔╣║╚╣═╣ \\n╠╗║╚╝║║╠╗║╚╣║║║║║═╣\\n╚═╩══╩═╩═╩═╩╝╚╩═╩═╝\\n\\n----------------------------------------------------------------\\nfollow all of these or i will kick you\\n• Facebook - https://www.facebook.com/MrBeast6000/\\n• Twitter - https://twitter.com/MrBeast\\n•  Instagram - https://www.instagram.com/mrbeast\\n•  Im Hiring! - https://www.mrbeastjobs.com/\\n--------------------------------------------------------------------', 'thumbnails': {'default': {'url': 'https://i.ytimg.com/vi/FM7Z-Xq8Drc/default.jpg', 'width': 120, 'height': 90}, 'medium': {'url': 'https://i.ytimg.com/vi/FM7Z-Xq8Drc/mqdefault.jpg', 'width': 320, 'height': 180}, 'high': {'url': 'https://i.ytimg.com/vi/FM7Z-Xq8Drc/hqdefault.jpg', 'width': 480, 'height': 360}, 'standard': {'url': 'https://i.ytimg.com/vi/FM7Z-Xq8Drc/sddefault.jpg', 'width': 640, 'height': 480}, 'maxres': {'url': 'https://i.ytimg.com/vi/FM7Z-Xq8Drc/maxresdefault.jpg', 'width': 1280, 'height': 720}}, 'channelTitle': 'MrBeast', 'categoryId': '24', 'liveBroadcastContent': 'none', 'defaultLanguage': 'en', 'localized': {'title': 'Ages 1 - 100 Fight For $500,000', 'description': 'Claim a piece of MrBeast history — buy a prop in the Shop app for $0.01 https://go.shop.app/mrbeast\\n\\n\\nThanks to Lickd for providing the music for this video! Discover tracks for your YouTube videos here: https://go.lickd.co/mb1\\nTrack: Whisper by The Dear Hunter, License ID: B0yLW6gQwQ4  \\nhttps://lickd.lnk.to/EAnwiV\\n\\nAlso thank you Concept Pixel for the LED Wall,it looked great!\\n\\xa0www.conceptpixels.com\\n\\nNew Merch - https://shopmrbeast.com/\\n\\nSUBSCRIBE OR I TAKE YOUR DOG\\n╔═╦╗╔╦╗╔═╦═╦╦╦╦╗╔═╗\\n║╚╣║║║╚╣╚╣╔╣╔╣║╚╣═╣ \\n╠╗║╚╝║║╠╗║╚╣║║║║║═╣\\n╚═╩══╩═╩═╩═╩╝╚╩═╩═╝\\n\\n----------------------------------------------------------------\\nfollow all of these or i will kick you\\n• Facebook - https://www.facebook.com/MrBeast6000/\\n• Twitter - https://twitter.com/MrBeast\\n•  Instagram - https://www.instagram.com/mrbeast\\n•  Im Hiring! - https://www.mrbeastjobs.com/\\n--------------------------------------------------------------------'}, 'defaultAudioLanguage': 'en'}, 'contentDetails': {'duration': 'PT25M36S', 'dimension': '2d', 'definition': 'hd', 'caption': 'true', 'licensedContent': True, 'contentRating': {}, 'projection': 'rectangular'}, 'statistics': {'viewCount': '43473509', 'likeCount': '2521271', 'favoriteCount': '0', 'commentCount': '66842'}}, {'kind': 'youtube#video', 'etag': 'KhB5Bi0GgaHlmO3il4QloMt-E18', 'id': 'g0cJNRv6wN0', 'snippet': {'publishedAt': '2023-05-27T20:39:47Z', 'channelId': 'UCJ5v_MCY6GNUBTO8-D3XoAg', 'title': 'Jimmy Uso did WHAT to Roman Reigns?!: WWE Night of Champions Highlights', 'description': 'The Bloodline appeared shatter beyond repair, as Jimmy Uso delivered multiple Superkicks to The Head of the Table. Catch WWE action on Peacock, WWE Network, FOX, USA Network, Sony India and more. #WWENOC\\nStream WWE on Peacock https://pck.tv/3ZTjVE7 in the U.S. and on WWE Network http://wwe.yt/wwenetwork everywhere else\\r\\n---------------------------------------------------------------------\\r\\nFollow WWE for more exciting action! - Subscribe to WWE on YouTube: http://wwe.yt/\\r\\n---------------------------------------------------------------------\\r\\nCheck out WWE.com for news and updates: http://goo.gl/akf0J4\\r\\nWatch WWE on Sony in India: http://www.wwe.com/SonySportsNetwork\\r\\nWatch WWE on Disney+ Hotstar in Indonesia: http://www.wwe.com/hotstar\\r\\nWatch WWE on Shahid: http://www.wwe.com/yt-shahid\\r\\nFind the latest Superstar gear at WWEShop: http://shop.wwe.com\\r\\n---------------------------------------------\\r\\nCheck out these other channels!\\r\\n---------------------------------------------\\r\\nUpUpDownDown: https://www.youtube.com/upupdowndown\\r\\nCeltic Warrior Workouts: https://www.youtube.com/@CelticWarriorWorkouts\\r\\nWWE Music: https://www.youtube.com/wwemusic\\r\\n------------------------------------\\r\\nWWE on Social Media\\r\\n------------------------------------\\r\\nTwitter: https://twitter.com/wwe\\r\\nFacebook: https://www.facebook.com/wwe\\r\\nInstagram: https://www.instagram.com/wwe/\\r\\nTikTok: https://www.tiktok.com/@wwe\\r\\nGiphy: https://giphy.com/wwe\\r\\n------------------------------------', 'thumbnails': {'default': {'url': 'https://i.ytimg.com/vi/g0cJNRv6wN0/default.jpg', 'width': 120, 'height': 90}, 'medium': {'url': 'https://i.ytimg.com/vi/g0cJNRv6wN0/mqdefault.jpg', 'width': 320, 'height': 180}, 'high': {'url': 'https://i.ytimg.com/vi/g0cJNRv6wN0/hqdefault.jpg', 'width': 480, 'height': 360}, 'standard': {'url': 'https://i.ytimg.com/vi/g0cJNRv6wN0/sddefault.jpg', 'width': 640, 'height': 480}, 'maxres': {'url': 'https://i.ytimg.com/vi/g0cJNRv6wN0/maxresdefault.jpg', 'width': 1280, 'height': 720}}, 'channelTitle': 'WWE', 'tags': ['Jey Uso', 'Jimmy Uso', 'Roman Reigns', 'The Bloodline', 'Usos', 'superstars', 'world wrestling entertainment', 'wrestle', 'wrestler', 'wrestling', 'wwe', 'wwe 2021', 'مصارعه', 'कुश्ती', 'डब्लू डब्लू ई', 'पहलवान', 'मैच', 'व्यावसायिक कुश्ती', 'सुपरस्टार', 'Night of Champions 2023', 'WWE Night of Champions', 'noc', 'noc 2023', 'Night of Champions peacock', 'Night of Champions wwe network', 'Night of Champions match', 'Night of Champions highlight', 'Night of Champions clip', 'Night of Champions watch'], 'categoryId': '17', 'liveBroadcastContent': 'none', 'localized': {'title': 'Jimmy Uso did WHAT to Roman Reigns?!: WWE Night of Champions Highlights', 'description': 'The Bloodline appeared shatter beyond repair, as Jimmy Uso delivered multiple Superkicks to The Head of the Table. Catch WWE action on Peacock, WWE Network, FOX, USA Network, Sony India and more. #WWENOC\\nStream WWE on Peacock https://pck.tv/3ZTjVE7 in the U.S. and on WWE Network http://wwe.yt/wwenetwork everywhere else\\r\\n---------------------------------------------------------------------\\r\\nFollow WWE for more exciting action! - Subscribe to WWE on YouTube: http://wwe.yt/\\r\\n---------------------------------------------------------------------\\r\\nCheck out WWE.com for news and updates: http://goo.gl/akf0J4\\r\\nWatch WWE on Sony in India: http://www.wwe.com/SonySportsNetwork\\r\\nWatch WWE on Disney+ Hotstar in Indonesia: http://www.wwe.com/hotstar\\r\\nWatch WWE on Shahid: http://www.wwe.com/yt-shahid\\r\\nFind the latest Superstar gear at WWEShop: http://shop.wwe.com\\r\\n---------------------------------------------\\r\\nCheck out these other channels!\\r\\n---------------------------------------------\\r\\nUpUpDownDown: https://www.youtube.com/upupdowndown\\r\\nCeltic Warrior Workouts: https://www.youtube.com/@CelticWarriorWorkouts\\r\\nWWE Music: https://www.youtube.com/wwemusic\\r\\n------------------------------------\\r\\nWWE on Social Media\\r\\n------------------------------------\\r\\nTwitter: https://twitter.com/wwe\\r\\nFacebook: https://www.facebook.com/wwe\\r\\nInstagram: https://www.instagram.com/wwe/\\r\\nTikTok: https://www.tiktok.com/@wwe\\r\\nGiphy: https://giphy.com/wwe\\r\\n------------------------------------'}}, 'contentDetails': {'duration': 'PT1M12S', 'dimension': '2d', 'definition': 'hd', 'caption': 'true', 'licensedContent': True, 'regionRestriction': {'blocked': ['RU']}, 'contentRating': {}, 'projection': 'rectangular'}, 'statistics': {'viewCount': '2122932', 'likeCount': '59535', 'favoriteCount': '0', 'commentCount': '7055'}}, {'kind': 'youtube#video', 'etag': 'Kjf2V-EUVPoVFaNbfMvlZuPTNJg', 'id': 'XzOvgu3GPwY', 'snippet': {'publishedAt': '2023-05-27T04:00:08Z', 'channelId': 'UCANLZYMidaCbLQFWXBC95Jg', 'title': 'Taylor Swift ft. Ice Spice - Karma (Official Music Video)', 'description': 'Listen to “Karma (feat. Ice Spice)” by Taylor Swift.\\n\\nBuy/Download/Stream ‘Midnights (The Til Dawn Edition)’: https://taylor.lnk.to/thetildawnedition\\n\\n►Subscribe to Taylor Swift on YouTube: https://ts.lnk.to/subscribe\\n►Shop Merch: http://taylorswift.lnk.to/store\\n\\n►Follow Taylor Swift Online:\\nTikTok: http://tiktok.com/@taylorswift\\nInstagram: http://instagram.com/taylorswift\\nTwitter: http://twitter.com/taylorswift13\\nSnapchat: http://snapchat.com/add/taylorswift\\nFacebook: http://facebook.com/taylorswift\\nTumblr: http://taylorswift.tumblr.com\\nWebsite: http://www.taylorswift.com\\n\\n►Follow Taylor Nation Online\\nTikTok: http://tiktok.com/@taylornation\\nInstagram: http://instagram.com/taylornation\\nTwitter: http://twitter.com/taylornation13\\nTumblr: http://taylornation.tumblr.com\\n\\nDirector: Taylor Swift\\nDirector of Photography: Jess Hall ASC, BSC\\nProducer: Jil Hardin\\nEditor: Chancler Haynes\\nProduction Design: Ethan Tobman & Parliament\\n1st AD: Anthony Dimino\\nVisual Effects: Parliament\\nProduction Companies: Source Pictures & Taylor Swift Productions\\n\\n#TaylorSwift #IceSpice #Karma #TSMidnights\\n\\nMusic video by Taylor Swift performing Karma. © 2023 Taylor Swift', 'thumbnails': {'default': {'url': 'https://i.ytimg.com/vi/XzOvgu3GPwY/default.jpg', 'width': 120, 'height': 90}, 'medium': {'url': 'https://i.ytimg.com/vi/XzOvgu3GPwY/mqdefault.jpg', 'width': 320, 'height': 180}, 'high': {'url': 'https://i.ytimg.com/vi/XzOvgu3GPwY/hqdefault.jpg', 'width': 480, 'height': 360}, 'standard': {'url': 'https://i.ytimg.com/vi/XzOvgu3GPwY/sddefault.jpg', 'width': 640, 'height': 480}, 'maxres': {'url': 'https://i.ytimg.com/vi/XzOvgu3GPwY/maxresdefault.jpg', 'width': 1280, 'height': 720}}, 'channelTitle': 'TaylorSwiftVEVO', 'tags': ['Taylor', 'Swift', 'Karma', 'Pop'], 'categoryId': '10', 'liveBroadcastContent': 'none', 'localized': {'title': 'Taylor Swift ft. Ice Spice - Karma (Official Music Video)', 'description': 'Listen to “Karma (feat. Ice Spice)” by Taylor Swift.\\n\\nBuy/Download/Stream ‘Midnights (The Til Dawn Edition)’: https://taylor.lnk.to/thetildawnedition\\n\\n►Subscribe to Taylor Swift on YouTube: https://ts.lnk.to/subscribe\\n►Shop Merch: http://taylorswift.lnk.to/store\\n\\n►Follow Taylor Swift Online:\\nTikTok: http://tiktok.com/@taylorswift\\nInstagram: http://instagram.com/taylorswift\\nTwitter: http://twitter.com/taylorswift13\\nSnapchat: http://snapchat.com/add/taylorswift\\nFacebook: http://facebook.com/taylorswift\\nTumblr: http://taylorswift.tumblr.com\\nWebsite: http://www.taylorswift.com\\n\\n►Follow Taylor Nation Online\\nTikTok: http://tiktok.com/@taylornation\\nInstagram: http://instagram.com/taylornation\\nTwitter: http://twitter.com/taylornation13\\nTumblr: http://taylornation.tumblr.com\\n\\nDirector: Taylor Swift\\nDirector of Photography: Jess Hall ASC, BSC\\nProducer: Jil Hardin\\nEditor: Chancler Haynes\\nProduction Design: Ethan Tobman & Parliament\\n1st AD: Anthony Dimino\\nVisual Effects: Parliament\\nProduction Companies: Source Pictures & Taylor Swift Productions\\n\\n#TaylorSwift #IceSpice #Karma #TSMidnights\\n\\nMusic video by Taylor Swift performing Karma. © 2023 Taylor Swift'}}, 'contentDetails': {'duration': 'PT3M26S', 'dimension': '2d', 'definition': 'hd', 'caption': 'true', 'licensedContent': True, 'regionRestriction': {'blocked': ['BY', 'IO', 'KP', 'RU', 'SS']}, 'contentRating': {}, 'projection': 'rectangular'}, 'statistics': {'viewCount': '8064900', 'likeCount': '788688', 'favoriteCount': '0', 'commentCount': '29429'}}, {'kind': 'youtube#video', 'etag': '1HwMLf0_Zr6mTtgU020Fuw5dLPA', 'id': 'cQO2XTP7QDw', 'snippet': {'publishedAt': '2023-05-27T17:39:55Z', 'channelId': 'UCj1VqrHhDte54oLgPG4xpuQ', 'title': 'I sent robot forgeries to a handwriting expert', 'description': \"Create a FREE Onshape account at: https://Onshape.pro/StuffMadeHere\\nDownload the part files for this project: https://tinyurl.com/plotterparts\\nWant to support these projects and get a robot postcard? https://patreon.com/stuffmadehere\\n(I'll be sending them out to new patrons as long as I can keep the robot running)\\n\\nSpecial thanks to Ron Morris for taking the time to analyze a bunch of writing samples that I sent him. I got in touch with him after getting his textbook to learn more about the subject: https://www.amazon.com/dp/0124096026\\n\\nThis robot uses a tormach ZA6 to tend the writing robot: https://tormach.com/machines/robots.html\\nHeres the 3D printers we designed in onshape: https://bit.ly/3Muh4LV\\n\\nMachine learning Resources:\\nGenerating Sequences with Recurrent Neural Networks:  https://arxiv.org/abs/1308.0850\\nCode for Handwriting Synthesis with RNNs: https://github.com/sjvasquez/handwriting-synthesis\\nIf you want to learn more about machine learning, this is a good overview that gets into the math behind them: https://www.youtube.com/watch?v=aircAruvnKk&list=PLZHQObOWTQDNU6R1_67000Dx_ZCJB-3pi\\n\\nOther stuff:\\nLSTM cell image By Guillaume Chevalier - File:The_LSTM_Cell.svg, CC BY-SA 4.0, https://commons.wikimedia.org/w/index.php?curid=109362147\", 'thumbnails': {'default': {'url': 'https://i.ytimg.com/vi/cQO2XTP7QDw/default.jpg', 'width': 120, 'height': 90}, 'medium': {'url': 'https://i.ytimg.com/vi/cQO2XTP7QDw/mqdefault.jpg', 'width': 320, 'height': 180}, 'high': {'url': 'https://i.ytimg.com/vi/cQO2XTP7QDw/hqdefault.jpg', 'width': 480, 'height': 360}, 'standard': {'url': 'https://i.ytimg.com/vi/cQO2XTP7QDw/sddefault.jpg', 'width': 640, 'height': 480}, 'maxres': {'url': 'https://i.ytimg.com/vi/cQO2XTP7QDw/maxresdefault.jpg', 'width': 1280, 'height': 720}}, 'channelTitle': 'Stuff Made Here', 'categoryId': '28', 'liveBroadcastContent': 'none', 'localized': {'title': 'I sent robot forgeries to a handwriting expert', 'description': \"Create a FREE Onshape account at: https://Onshape.pro/StuffMadeHere\\nDownload the part files for this project: https://tinyurl.com/plotterparts\\nWant to support these projects and get a robot postcard? https://patreon.com/stuffmadehere\\n(I'll be sending them out to new patrons as long as I can keep the robot running)\\n\\nSpecial thanks to Ron Morris for taking the time to analyze a bunch of writing samples that I sent him. I got in touch with him after getting his textbook to learn more about the subject: https://www.amazon.com/dp/0124096026\\n\\nThis robot uses a tormach ZA6 to tend the writing robot: https://tormach.com/machines/robots.html\\nHeres the 3D printers we designed in onshape: https://bit.ly/3Muh4LV\\n\\nMachine learning Resources:\\nGenerating Sequences with Recurrent Neural Networks:  https://arxiv.org/abs/1308.0850\\nCode for Handwriting Synthesis with RNNs: https://github.com/sjvasquez/handwriting-synthesis\\nIf you want to learn more about machine learning, this is a good overview that gets into the math behind them: https://www.youtube.com/watch?v=aircAruvnKk&list=PLZHQObOWTQDNU6R1_67000Dx_ZCJB-3pi\\n\\nOther stuff:\\nLSTM cell image By Guillaume Chevalier - File:The_LSTM_Cell.svg, CC BY-SA 4.0, https://commons.wikimedia.org/w/index.php?curid=109362147\"}}, 'contentDetails': {'duration': 'PT23M39S', 'dimension': '2d', 'definition': 'hd', 'caption': 'false', 'licensedContent': True, 'contentRating': {}, 'projection': 'rectangular'}, 'statistics': {'viewCount': '2515548', 'likeCount': '135695', 'favoriteCount': '0', 'commentCount': '4781'}}, {'kind': 'youtube#video', 'etag': '0hfBV1FYmwScsVyJxab_ctQQCy4', 'id': '8ttz1wdViys', 'snippet': {'publishedAt': '2023-05-27T00:58:09Z', 'channelId': 'UCzrM_068Odho89mTRrrxqbA', 'title': 'Peso Pluma - Bye (Video Oficial)', 'description': 'Peso Pluma - Bye (Video Oficial)\\n\\nDouble P Records©\\n\\n➸ ESCUCHA / LISTEN: https://orcd.co/byepesopluma\\n\\n➸Música \\nInterpretación - Peso Pluma\\nComposición  - Hassan Laija, Jasiel Núñez , José Antonio Martínez Oviedo\\nProducción - Ivan Leal \"Parka\"\\n\\n➸Video\\nDirector - Edgar Nito @edgar_nito\\nProductora: Pirotecnia Films @pirotecniafilms \\n\\n➸Letra\\n\\n¿Qué será? tal vez la noche como de costumbre\\nAmanecerá\\nSigo pensando en tus gestos cuando se me cruza otra \\nPero es lo que hay\\nY qué más da\\n\\nQuiero olvidar se va lograr\\n\\nEl dolor poco a poco se fue borrando\\nTú y yo \\nNuestra historia se ha terminado\\n\\nYo sé fue por bien de los dos\\nTal vez el amor se acabó\\nNo sé qué fue lo que pasó\\nPero al chile si me dolió\\n\\nBye\\nMejor sigue tu camino\\nMientras fumo y tomo vino\\nQue estar contigo ya no me convino\\nBye\\nY ya me da igual que la neta\\nMe distraigo con princesas\\nY a mi tus besos ya no me interesan\\nBye \\nBye\\n\\nPura doble P\\nAhí te va, chiquita\\n\\nEl dolor poco a poco se fue borrando\\nTú y yo\\nNuestras almas se abandonaron\\nYo sé  fue por bien de los dos\\nTal vez el amor se acabó\\nTal vez seguimos en calor\\nTal vez a mi no me ayudó\\n\\nBye\\nMejor sigue tu camino\\nMientras fumo y tomo vino\\nQue estar contigo ya no me convino\\nBye\\nY ya me da igual que la neta\\nMe distraigo con princesas\\nY a mi tus besos ya no me interesan\\nBye\\nBye\\n\\nPeso Pluma \\n⋟Instagram -  https://bit.ly/3KxRYMd\\n⋟Spotify - http://bit.ly/435v7ii\\n⋟TikTok - http://bit.ly/3ZBp3LC\\n⋟Apple Music - http://bit.ly/411a92p\\n\\n#pesopluma #bye #doubleprecords #prajinmusicgroup', 'thumbnails': {'default': {'url': 'https://i.ytimg.com/vi/8ttz1wdViys/default.jpg', 'width': 120, 'height': 90}, 'medium': {'url': 'https://i.ytimg.com/vi/8ttz1wdViys/mqdefault.jpg', 'width': 320, 'height': 180}, 'high': {'url': 'https://i.ytimg.com/vi/8ttz1wdViys/hqdefault.jpg', 'width': 480, 'height': 360}, 'standard': {'url': 'https://i.ytimg.com/vi/8ttz1wdViys/sddefault.jpg', 'width': 640, 'height': 480}, 'maxres': {'url': 'https://i.ytimg.com/vi/8ttz1wdViys/maxresdefault.jpg', 'width': 1280, 'height': 720}}, 'channelTitle': 'Peso Pluma', 'categoryId': '10', 'liveBroadcastContent': 'none', 'localized': {'title': 'Peso Pluma - Bye (Video Oficial)', 'description': 'Peso Pluma - Bye (Video Oficial)\\n\\nDouble P Records©\\n\\n➸ ESCUCHA / LISTEN: https://orcd.co/byepesopluma\\n\\n➸Música \\nInterpretación - Peso Pluma\\nComposición  - Hassan Laija, Jasiel Núñez , José Antonio Martínez Oviedo\\nProducción - Ivan Leal \"Parka\"\\n\\n➸Video\\nDirector - Edgar Nito @edgar_nito\\nProductora: Pirotecnia Films @pirotecniafilms \\n\\n➸Letra\\n\\n¿Qué será? tal vez la noche como de costumbre\\nAmanecerá\\nSigo pensando en tus gestos cuando se me cruza otra \\nPero es lo que hay\\nY qué más da\\n\\nQuiero olvidar se va lograr\\n\\nEl dolor poco a poco se fue borrando\\nTú y yo \\nNuestra historia se ha terminado\\n\\nYo sé fue por bien de los dos\\nTal vez el amor se acabó\\nNo sé qué fue lo que pasó\\nPero al chile si me dolió\\n\\nBye\\nMejor sigue tu camino\\nMientras fumo y tomo vino\\nQue estar contigo ya no me convino\\nBye\\nY ya me da igual que la neta\\nMe distraigo con princesas\\nY a mi tus besos ya no me interesan\\nBye \\nBye\\n\\nPura doble P\\nAhí te va, chiquita\\n\\nEl dolor poco a poco se fue borrando\\nTú y yo\\nNuestras almas se abandonaron\\nYo sé  fue por bien de los dos\\nTal vez el amor se acabó\\nTal vez seguimos en calor\\nTal vez a mi no me ayudó\\n\\nBye\\nMejor sigue tu camino\\nMientras fumo y tomo vino\\nQue estar contigo ya no me convino\\nBye\\nY ya me da igual que la neta\\nMe distraigo con princesas\\nY a mi tus besos ya no me interesan\\nBye\\nBye\\n\\nPeso Pluma \\n⋟Instagram -  https://bit.ly/3KxRYMd\\n⋟Spotify - http://bit.ly/435v7ii\\n⋟TikTok - http://bit.ly/3ZBp3LC\\n⋟Apple Music - http://bit.ly/411a92p\\n\\n#pesopluma #bye #doubleprecords #prajinmusicgroup'}}, 'contentDetails': {'duration': 'PT4M8S', 'dimension': '2d', 'definition': 'hd', 'caption': 'false', 'licensedContent': True, 'contentRating': {}, 'projection': 'rectangular'}, 'statistics': {'viewCount': '7183423', 'likeCount': '261544', 'favoriteCount': '0', 'commentCount': '10663'}}], 'nextPageToken': 'CAUQAA', 'pageInfo': {'totalResults': 200, 'resultsPerPage': 5}}\n"
     ]
    }
   ],
   "source": [
    "import json\n",
    "from youtube_key import youtube_key\n",
    "import requests\n",
    "response =  requests.get(f'https://youtube.googleapis.com/youtube/v3/videos?part=snippet%2CcontentDetails%2Cstatistics&chart=mostPopular&regionCode=US&key={youtube_key}')\n",
    "print (response)              \n",
    "print (response.json())   \n",
    "                    "
   ]
  },
  {
   "cell_type": "code",
   "execution_count": 23,
   "id": "de82f60f",
   "metadata": {},
   "outputs": [],
   "source": [
    "#josh suggested to have a dictionary for the url\n",
    "\n",
    "url_dict = {\n",
    "    'base_url': 'https://youtube.googleapis.com/youtube/v3/videos',\n",
    "    'params': {\n",
    "        'part': 'snippet,contentDetails,statistics',\n",
    "        'chart': 'mostPopular',\n",
    "        'regionCode': 'US',\n",
    "        'key': youtube_key}}\n",
    "\n"
   ]
  },
  {
   "cell_type": "code",
   "execution_count": 15,
   "id": "886c3637",
   "metadata": {},
   "outputs": [],
   "source": [
    "data= response.json()\n",
    "with open (\"Youtube_data_collection.json\", 'w') as my_file:\n",
    "   data_string = json.dumps(data)\n",
    "   print(data_string, file = my_file)"
   ]
  },
  {
   "cell_type": "code",
   "execution_count": 2,
   "id": "09e72b48",
   "metadata": {},
   "outputs": [
    {
     "name": "stdout",
     "output_type": "stream",
     "text": [
      "Key: kind\n",
      "Value: youtube#videoListResponse\n",
      "\n",
      "Key: etag\n",
      "Value: 24uMF6-NkdvQBAfYzMTWwnFD7ws\n",
      "\n",
      "Key: items\n",
      "Value: [{'kind': 'youtube#video', 'etag': 'qzdJuuQj15wr_sA9dDbtyC78AdI', 'id': 'xZPrldPWXJY', 'snippet': {'publishedAt': '2023-05-23T15:00:07Z', 'channelId': 'UC52XYgEExV9VG6Rt-6vnzVA', 'title': 'Destiny 2: Lightfall - Season of the Deep Launch Trailer', 'description': \"Saturn's missing moon of Titan has returned, now overrun with Taken and Hive. Guardians must follow them into the deep. \\nSeason of the Deep begins today.\\n\\n🌊 bung.ie/deep\\n\\nFOLLOW DESTINY:\\nFacebook: https://www.facebook.com/DestinyTheGame\\nTwitter: https://www.twitter.com/destinythegame\\nInstagram: https://www.instagram.com/destinythegame\\nDiscord: http://www.discord.gg/destinygame\\n\\nFOLLOW BUNGIE:\\nFacebook: https://www.facebook.com/Bungie/\\nTwitter: https://www.twitter.com/bungie\\nInstagram: https://www.instagram.com/bungie/\\n⠀ ⠀ ⠀ ⠀\\nDive into the free-to-play world of Destiny 2 to experience responsive first-person shooter combat, explore the mysteries of our solar system, and unleash elemental abilities against powerful enemies. Create your Guardian and collect unique weapons, armor, and gear to customize your look and playstyle. Experience Destiny 2’s cinematic story alone or with friends, join other Guardians for challenging co-op missions, or compete against them in a variety of PvP modes.\", 'thumbnails': {'default': {'url': 'https://i.ytimg.com/vi/xZPrldPWXJY/default.jpg', 'width': 120, 'height': 90}, 'medium': {'url': 'https://i.ytimg.com/vi/xZPrldPWXJY/mqdefault.jpg', 'width': 320, 'height': 180}, 'high': {'url': 'https://i.ytimg.com/vi/xZPrldPWXJY/hqdefault.jpg', 'width': 480, 'height': 360}, 'standard': {'url': 'https://i.ytimg.com/vi/xZPrldPWXJY/sddefault.jpg', 'width': 640, 'height': 480}, 'maxres': {'url': 'https://i.ytimg.com/vi/xZPrldPWXJY/maxresdefault.jpg', 'width': 1280, 'height': 720}}, 'channelTitle': 'Destiny 2', 'tags': ['Destiny', 'destiny 2', 'xbox', 'playstation', 'steam', 'game', 'games', 'MMO', 'FPS', 'action', 'warlock', 'hunter', 'titan'], 'categoryId': '20', 'liveBroadcastContent': 'none', 'localized': {'title': 'Destiny 2: Lightfall - Season of the Deep Launch Trailer', 'description': \"Saturn's missing moon of Titan has returned, now overrun with Taken and Hive. Guardians must follow them into the deep. \\nSeason of the Deep begins today.\\n\\n🌊 bung.ie/deep\\n\\nFOLLOW DESTINY:\\nFacebook: https://www.facebook.com/DestinyTheGame\\nTwitter: https://www.twitter.com/destinythegame\\nInstagram: https://www.instagram.com/destinythegame\\nDiscord: http://www.discord.gg/destinygame\\n\\nFOLLOW BUNGIE:\\nFacebook: https://www.facebook.com/Bungie/\\nTwitter: https://www.twitter.com/bungie\\nInstagram: https://www.instagram.com/bungie/\\n⠀ ⠀ ⠀ ⠀\\nDive into the free-to-play world of Destiny 2 to experience responsive first-person shooter combat, explore the mysteries of our solar system, and unleash elemental abilities against powerful enemies. Create your Guardian and collect unique weapons, armor, and gear to customize your look and playstyle. Experience Destiny 2’s cinematic story alone or with friends, join other Guardians for challenging co-op missions, or compete against them in a variety of PvP modes.\"}, 'defaultAudioLanguage': 'en'}, 'contentDetails': {'duration': 'PT1M55S', 'dimension': '2d', 'definition': 'hd', 'caption': 'true', 'licensedContent': True, 'contentRating': {}, 'projection': 'rectangular'}, 'statistics': {'viewCount': '680220', 'likeCount': '33596', 'favoriteCount': '0', 'commentCount': '3734'}}, {'kind': 'youtube#video', 'etag': '1ml23uo9bukFNsdMrm1QZYbJ6qE', 'id': 'M9hdHDXyo-8', 'snippet': {'publishedAt': '2023-05-22T03:09:29Z', 'channelId': 'UCAMPco9PqjBbI_MLsDOO4Jw', 'title': 'Iam Tongi & James Blunt: Super Emotional Duet of \"Monsters\" Makes Idol History - American Idol 2023', 'description': 'IDOL HISTORY: Season 21 WINNER Iam Tongi & James Blunt perform super emotional duet of \"Monsters\". 😭 #IdolFinaleSee\\n\\n more of American Idol 2023 on our official site: http://www.americanidol.com\\nLike American Idol on Facebook: https://www.facebook.com/AmericanIdol\\nFollow American Idol on Twitter: https://twitter.com/americanidol\\nFollow American Idol on Instagram: https://www.instagram.com/americanidol/\\n\\nAMERICAN IDOL, the iconic series that revolutionized the television landscape by pioneering the music competition genre, returns on ABC.\\n\\nAmerican Idol 2023\\n\\nHelping to determine who America will ultimately vote for to become the next singing sensation are music industry forces and superstar judges Luke Bryan, Katy Perry and Lionel Richie. Emmy® Award-winning host and producer Ryan Seacrest continues as host of the beloved series, for the historic 21st season.', 'thumbnails': {'default': {'url': 'https://i.ytimg.com/vi/M9hdHDXyo-8/default.jpg', 'width': 120, 'height': 90}, 'medium': {'url': 'https://i.ytimg.com/vi/M9hdHDXyo-8/mqdefault.jpg', 'width': 320, 'height': 180}, 'high': {'url': 'https://i.ytimg.com/vi/M9hdHDXyo-8/hqdefault.jpg', 'width': 480, 'height': 360}, 'standard': {'url': 'https://i.ytimg.com/vi/M9hdHDXyo-8/sddefault.jpg', 'width': 640, 'height': 480}, 'maxres': {'url': 'https://i.ytimg.com/vi/M9hdHDXyo-8/maxresdefault.jpg', 'width': 1280, 'height': 720}}, 'channelTitle': 'American Idol', 'tags': ['American Idol', 'singing competition', 'Katy Perry', 'Ryan Seacrest', 'Luke Bryan', 'Lionel Richie', 'covers', 'sing', 'ABC', 'American Idol 2022', 'auditions', 'Iam Tongi', 'James Blunt', 'Monsters'], 'categoryId': '24', 'liveBroadcastContent': 'none', 'localized': {'title': 'Iam Tongi & James Blunt: Super Emotional Duet of \"Monsters\" Makes Idol History - American Idol 2023', 'description': 'IDOL HISTORY: Season 21 WINNER Iam Tongi & James Blunt perform super emotional duet of \"Monsters\". 😭 #IdolFinaleSee\\n\\n more of American Idol 2023 on our official site: http://www.americanidol.com\\nLike American Idol on Facebook: https://www.facebook.com/AmericanIdol\\nFollow American Idol on Twitter: https://twitter.com/americanidol\\nFollow American Idol on Instagram: https://www.instagram.com/americanidol/\\n\\nAMERICAN IDOL, the iconic series that revolutionized the television landscape by pioneering the music competition genre, returns on ABC.\\n\\nAmerican Idol 2023\\n\\nHelping to determine who America will ultimately vote for to become the next singing sensation are music industry forces and superstar judges Luke Bryan, Katy Perry and Lionel Richie. Emmy® Award-winning host and producer Ryan Seacrest continues as host of the beloved series, for the historic 21st season.'}, 'defaultAudioLanguage': 'en'}, 'contentDetails': {'duration': 'PT2M57S', 'dimension': '2d', 'definition': 'hd', 'caption': 'false', 'licensedContent': True, 'contentRating': {}, 'projection': 'rectangular'}, 'statistics': {'viewCount': '2906783', 'likeCount': '49334', 'favoriteCount': '0', 'commentCount': '3219'}}, {'kind': 'youtube#video', 'etag': 'YOJk2edIdIxT5u6LAiMvMvw1Axk', 'id': '1D_iOST8060', 'snippet': {'publishedAt': '2023-05-22T04:46:46Z', 'channelId': 'UCSo19KhHogXxu3sFsOpqrcQ', 'title': 'Resumen y goles | América (2)1-3(3) Chivas | CL2023 - Semis | TUDN', 'description': 'La mayor oferta de partidos de la Liga Mx en ViX: https://vix.com/es-es/deportes?utm_medium=organic_social&utm_source=youtube&utm_campaign=evergreen&utm_content=ed_sports\\n\\nUn autogol de Cáceres y las anotaciones de Alan Mozo y Jesús Chiquete, Guadalajara se mete a la final.\\n\\nSíguenos en nuestras redes sociales:\\n\\nhttps://www.facebook.com/tudnusa/\\nhttps://www.instagram.com/tudnusa/\\nhttps://twitter.com/TUDNUSA\\n\\nSitio Web: https://www.tudn.com/\\n\\nTUDN USA te ofrece la cobertura más completa del mundo deportivo con lo mejor del fútbol mexicano, de Estados Unidos y del mundo, boxeo, UFC, las grandes personalidades del deporte y mucho más.', 'thumbnails': {'default': {'url': 'https://i.ytimg.com/vi/1D_iOST8060/default.jpg', 'width': 120, 'height': 90}, 'medium': {'url': 'https://i.ytimg.com/vi/1D_iOST8060/mqdefault.jpg', 'width': 320, 'height': 180}, 'high': {'url': 'https://i.ytimg.com/vi/1D_iOST8060/hqdefault.jpg', 'width': 480, 'height': 360}, 'standard': {'url': 'https://i.ytimg.com/vi/1D_iOST8060/sddefault.jpg', 'width': 640, 'height': 480}, 'maxres': {'url': 'https://i.ytimg.com/vi/1D_iOST8060/maxresdefault.jpg', 'width': 1280, 'height': 720}}, 'channelTitle': 'TUDN USA', 'tags': ['Televisa', 'Deportes', 'TUDN', 'México', 'Univision', 'Televisa deportes', 'TUDN USA', 'soccer', 'futbol mexicano', 'liga mx', 'liga mx 2023', 'clausura 2023', 'america vs chivas resumen', 'america 2023', 'chivas 2023', 'resumen América', 'Resumen Chivas', 'América 1-3 Chivas', 'Gol Chivas'], 'categoryId': '17', 'liveBroadcastContent': 'none', 'localized': {'title': 'Resumen y goles | América (2)1-3(3) Chivas | CL2023 - Semis | TUDN', 'description': 'La mayor oferta de partidos de la Liga Mx en ViX: https://vix.com/es-es/deportes?utm_medium=organic_social&utm_source=youtube&utm_campaign=evergreen&utm_content=ed_sports\\n\\nUn autogol de Cáceres y las anotaciones de Alan Mozo y Jesús Chiquete, Guadalajara se mete a la final.\\n\\nSíguenos en nuestras redes sociales:\\n\\nhttps://www.facebook.com/tudnusa/\\nhttps://www.instagram.com/tudnusa/\\nhttps://twitter.com/TUDNUSA\\n\\nSitio Web: https://www.tudn.com/\\n\\nTUDN USA te ofrece la cobertura más completa del mundo deportivo con lo mejor del fútbol mexicano, de Estados Unidos y del mundo, boxeo, UFC, las grandes personalidades del deporte y mucho más.'}, 'defaultAudioLanguage': 'es'}, 'contentDetails': {'duration': 'PT11M19S', 'dimension': '2d', 'definition': 'hd', 'caption': 'true', 'licensedContent': True, 'regionRestriction': {'allowed': ['PR', 'US']}, 'contentRating': {}, 'projection': 'rectangular'}, 'statistics': {'viewCount': '920777', 'likeCount': '9018', 'favoriteCount': '0', 'commentCount': '1256'}}, {'kind': 'youtube#video', 'etag': '3QWTYU1W9MnQXqA23DEgFyaixtM', 'id': 'wPwzBUui1GA', 'snippet': {'publishedAt': '2023-05-22T20:00:18Z', 'channelId': 'UCjmJDM5pRKbUlVIzDYYWb6g', 'title': 'The Color Purple | Official Trailer', 'description': 'A bold new take on the beloved classic. #TheColorPurple only in theaters December 25.\\n\\nWarner Bros. Pictures invites you to experience the extraordinary sisterhood of three women who share one unbreakable bond in “The Color Purple.” This bold new take on the beloved classic is directed by Blitz Bazawule (“Black Is King,” “The Burial of Kojo”) and produced by Oprah Winfrey, Steven Spielberg, Scott Sanders and Quincy Jones.\\n\\n“The Color Purple” stars Taraji P. Henson (“What Men Want,” “Hidden Figures”), Danielle Brooks (“Peacemaker,” “Orange Is the New Black”), Colman Domingo (“Ma Rainey’s Black Bottom,” “Fear the Walking Dead”), Corey Hawkins (“In the Heights,” “BlacKkKlansman”), H.E.R. (“Judas and the Black Messiah,” “Beauty and the Beast: A 30th Celebration”), Halle Bailey (“The Little Mermaid,” “Grown-ish”), Aunjanue Ellis-Taylor (“King Richard,” “If Beale Street Could Talk”), and Fantasia Barrino (in her major motion picture debut).\\n\\nThe screenplay is by Marcus Gardley (“Maid,” “The Chi”), based on the novel by Alice Walker and based on the musical stage play, book (of the musical stage play) by Marsha Norman, music and lyrics by Brenda Russell, Allee Willis and Stephen Bray. The executive producers Alice Walker, Rebecca Walker, Kristie Macosko Krieger, Carla Gardini, Mara Jacobs, Adam Fell, Courtenay Valenti, Sheila Walcott and Michael Beugg.\\n\\nJoining director Bazawule behind the camera are director of photography Dan Laustsen (“John Wick: Chapter 4,” “The Shape of Water”), production designer Paul Denham Austerberry (“The Flash,” “The Twilight Saga: Eclipse”) and editor Jon Poll (“Bombshell,” “The Greatest Showman”). The choreographer is Fatima Robinson (“Coming 2 America,” “Dreamgirls”) and the costumes are designed by Francine Jamison-Tanchuck (“Emancipation,” “One Night in Miami…”). The music supervisors are Jordan Carroll (“The Greatest Showman,” “Godfather of Harlem”) and Morgan Rhodes (“Space Jam: A New Legacy,” “Selma”); the music is by Kris Bowers (“King Richard,” “Green Book”); and the executive music producers are Nick Baxter (“Babylon,” “CODA”), Stephen Bray (“Respect,” “Juanita”) and Blitz Bazawule.\\n\\nWarner Bros. Pictures presents a Harpo Films Production, an Amblin Entertainment Production, a Scott Sanders Production/a QJP Production, “The Color Purple.” It will be distributed worldwide by Warner Bros. Pictures and is set to open in theaters in North America on December 25, 2023 and internationally beginning 18 January 2024.', 'thumbnails': {'default': {'url': 'https://i.ytimg.com/vi/wPwzBUui1GA/default.jpg', 'width': 120, 'height': 90}, 'medium': {'url': 'https://i.ytimg.com/vi/wPwzBUui1GA/mqdefault.jpg', 'width': 320, 'height': 180}, 'high': {'url': 'https://i.ytimg.com/vi/wPwzBUui1GA/hqdefault.jpg', 'width': 480, 'height': 360}, 'standard': {'url': 'https://i.ytimg.com/vi/wPwzBUui1GA/sddefault.jpg', 'width': 640, 'height': 480}, 'maxres': {'url': 'https://i.ytimg.com/vi/wPwzBUui1GA/maxresdefault.jpg', 'width': 1280, 'height': 720}}, 'channelTitle': 'Warner Bros. Pictures', 'tags': ['Aunjanue Ellis-Taylor', 'Blitz Bazawule', 'Christmas Day', 'Classic', 'Colman Domingo', 'Coming Soon', 'Corey Hawkins', 'Danielle Brooks', 'Fantasia Barrino', 'Film', 'Film 2023', 'Film 2024', 'H.E.R', 'Halle Bailey', 'Marcus Gardley', 'Marsha Norman', 'Movie', 'Official Trailer', 'Oprah Winfrey', 'Quincy Jones', 'Scott Sanders', 'Steven Spielberg', 'TarajiP Henson', 'TheColorPurple', 'Trailer 2023', 'Warner Bros', 'Warner Brothers'], 'categoryId': '1', 'liveBroadcastContent': 'none', 'localized': {'title': 'The Color Purple | Official Trailer', 'description': 'A bold new take on the beloved classic. #TheColorPurple only in theaters December 25.\\n\\nWarner Bros. Pictures invites you to experience the extraordinary sisterhood of three women who share one unbreakable bond in “The Color Purple.” This bold new take on the beloved classic is directed by Blitz Bazawule (“Black Is King,” “The Burial of Kojo”) and produced by Oprah Winfrey, Steven Spielberg, Scott Sanders and Quincy Jones.\\n\\n“The Color Purple” stars Taraji P. Henson (“What Men Want,” “Hidden Figures”), Danielle Brooks (“Peacemaker,” “Orange Is the New Black”), Colman Domingo (“Ma Rainey’s Black Bottom,” “Fear the Walking Dead”), Corey Hawkins (“In the Heights,” “BlacKkKlansman”), H.E.R. (“Judas and the Black Messiah,” “Beauty and the Beast: A 30th Celebration”), Halle Bailey (“The Little Mermaid,” “Grown-ish”), Aunjanue Ellis-Taylor (“King Richard,” “If Beale Street Could Talk”), and Fantasia Barrino (in her major motion picture debut).\\n\\nThe screenplay is by Marcus Gardley (“Maid,” “The Chi”), based on the novel by Alice Walker and based on the musical stage play, book (of the musical stage play) by Marsha Norman, music and lyrics by Brenda Russell, Allee Willis and Stephen Bray. The executive producers Alice Walker, Rebecca Walker, Kristie Macosko Krieger, Carla Gardini, Mara Jacobs, Adam Fell, Courtenay Valenti, Sheila Walcott and Michael Beugg.\\n\\nJoining director Bazawule behind the camera are director of photography Dan Laustsen (“John Wick: Chapter 4,” “The Shape of Water”), production designer Paul Denham Austerberry (“The Flash,” “The Twilight Saga: Eclipse”) and editor Jon Poll (“Bombshell,” “The Greatest Showman”). The choreographer is Fatima Robinson (“Coming 2 America,” “Dreamgirls”) and the costumes are designed by Francine Jamison-Tanchuck (“Emancipation,” “One Night in Miami…”). The music supervisors are Jordan Carroll (“The Greatest Showman,” “Godfather of Harlem”) and Morgan Rhodes (“Space Jam: A New Legacy,” “Selma”); the music is by Kris Bowers (“King Richard,” “Green Book”); and the executive music producers are Nick Baxter (“Babylon,” “CODA”), Stephen Bray (“Respect,” “Juanita”) and Blitz Bazawule.\\n\\nWarner Bros. Pictures presents a Harpo Films Production, an Amblin Entertainment Production, a Scott Sanders Production/a QJP Production, “The Color Purple.” It will be distributed worldwide by Warner Bros. Pictures and is set to open in theaters in North America on December 25, 2023 and internationally beginning 18 January 2024.'}, 'defaultAudioLanguage': 'en-US'}, 'contentDetails': {'duration': 'PT2M25S', 'dimension': '2d', 'definition': 'hd', 'caption': 'true', 'licensedContent': False, 'contentRating': {}, 'projection': 'rectangular'}, 'statistics': {'viewCount': '3225766', 'likeCount': '20435', 'favoriteCount': '0', 'commentCount': '2436'}}, {'kind': 'youtube#video', 'etag': 'KGlkb_G124H43SiqnzQToi8zmxw', 'id': 'PI6VA8ZNL-0', 'snippet': {'publishedAt': '2023-05-23T14:00:17Z', 'channelId': 'UCjgpFI5dU-D1-kh9H1muoxQ', 'title': \"We made a REAL HOLOGRAM Desk like Tony Stark's!\", 'description': 'FlexiSpot Brand Day Sale, use code \"HS50\" to get the best price of the year. Don\\'t miss out! (sponsored)\\nUSA ► E7 (best seller): https://bit.ly/439exgL\\nUSA ► E5 (best value): https://bit.ly/3pSdvrk\\nUSA ► E7 (with chair): https://bit.ly/3WffYIp\\nCA ► E7 (best seller): https://bit.ly/3o23RS6\\nCA ► E5 (best value): https://bit.ly/3MHRZP1\\nIf you want to own the same desk, join the bidding now at: https://www.flexispot.com/auction\\n\\nBambu Lab Ultra Fast 3D Printer ► https://shareasale.com/r.cfm?b=2282157&u=3693696&m=138211&urllink=&afftrack=\\n3D Scanner ► https://www.einscan.com/einscan-hx/\\n\\nGET MERCH ► https://www.Hacksmith.store\\nBecome a Hacksmith member get exclusive perks! ► https://www.youtube.com/channel/UCjgpFI5dU-D1-kh9H1muoxQ/join\\n\\nSOCIAL\\nInstagram ► http://www.instagram.com/thehacksmith\\nTikTok ► https://www.tiktok.com/@thehacksmith\\nFacebook ► http://www.facebook.com/thehacksmith\\nTwitter ► http://twitter.com/thehacksmith\\nDiscord ► https://discordapp.com/invite/thehacksmith \\nMerch ► https://www.hacksmith.store\\nWebsite ► http://www.hacksmith.tech\\n\\nSOFTWARE & Services:\\nPCB Design ► https://www.altium.com/asp/hacksmith\\nSpanish Dubbing ► https://youtubetranslation.mailchimpsites.com/\\nVideo Review / Collaboration ► http://r.frame.io/pZq3N\\nVideo Editing ► Adobe Premiere \\nCAD ► https://bit.ly/Solidworks4makers\\n\\nTOOLS / MACHINES: \\nLaser Engraver ► https://bit.ly/OMTechLaser  - Use code HACKSMITH5OFF\\nBambu Lab Ultra Fast 3D Printer ► https://shareasale.com/r.cfm?b=2282157&u=3693696&m=138211&urllink=&afftrack=\\nCNC Mill - Tormach 1100MX ► https://hubs.ly/H0B8DWG0  \\nCNC Mill - Tormach PCNC 440 ► https://hubs.ly/H0B8DYk0  \\nCNC Lathe - Tormach 15L ► https://hubs.ly/H0B8Gcp0 \\nAutofeed Bandsaw - Tormach AF50 ► https://hubs.ly/H0B8Gj10  \\nCNC Waterjet Cutter ► https://www.wazer.com/ \\nCNC Plasma Cutter ► http://bit.ly/EMTplasma  \\n3D Scanner ► http://amzn.to/2pwbvTu  \\nDrills, drivers, grinders, saws, etc ► https://amzn.to/35qqbvy \\nMig Welder ► https://amzn.to/3dxFBzk  \\nTig Welder ► https://amzn.to/3gmJclN  \\nOscilloscope ► https://bit.ly/38sOzKw  \\nMultimeters ► https://bit.ly/2WKwPEQ  \\n\\nCAMERA GEAR:\\nHighspeed Cam - Chronos 2.1 ► https://www.krontech.ca/ \\nMain shooter - Sony A7siii ► https://amzn.to/3amVsyN  \\nInsta360 Cameras ► https://store.insta360.com/product/x3?insrc=INR7JAT (free selfie stick with this link!)\\n4K Webcam ► https://store.insta360.com/product/link?insrc=INR7JAT\\nMain mic - Rode Go II ► https://amzn.to/3toLsh3 \\nGimbal - DJI RS 2 ► https://amzn.to/3v0DFFs \\nTripods - Manfrotto 504X ► https://amzn.to/2QB1Onh \\nStudio Lights - Nanlite ► https://amzn.to/3v6iWQr\\n\\nPurchases made through some store links may provide some compensation to Hacksmith.\\n\\nWARNING: THESE VIDEOS ARE FOR ENTERTAINMENT PURPOSES ONLY. PERSONAL USE OF VIDEO CONTENT IS AT YOUR OWN RISK. THE HACKSMITH IS A TRAINED PROFESSIONAL WHO KNOWS EXACTLY WHAT HE\\'S DOING. EXCEPT WHEN HE DOESN\\'T. DO NOT ATTEMPT TO RECREATE OR RE-ENACT ANYTHING SHOWN IN THESE VIDEOS.', 'thumbnails': {'default': {'url': 'https://i.ytimg.com/vi/PI6VA8ZNL-0/default.jpg', 'width': 120, 'height': 90}, 'medium': {'url': 'https://i.ytimg.com/vi/PI6VA8ZNL-0/mqdefault.jpg', 'width': 320, 'height': 180}, 'high': {'url': 'https://i.ytimg.com/vi/PI6VA8ZNL-0/hqdefault.jpg', 'width': 480, 'height': 360}, 'standard': {'url': 'https://i.ytimg.com/vi/PI6VA8ZNL-0/sddefault.jpg', 'width': 640, 'height': 480}, 'maxres': {'url': 'https://i.ytimg.com/vi/PI6VA8ZNL-0/maxresdefault.jpg', 'width': 1280, 'height': 720}}, 'channelTitle': 'Hacksmith Industries', 'tags': ['thehacksmith', 'hacksmith', 'engineering', 'iron man', 'marvel', 'stark industries', 'make it real', 'the hacksmith', 'workshop', 'superhero', 'stark', 'tony stark', 'pepper potts', 'iron man gauntlets', 'iron man armour', 'electronics', 'workstation', 'science', 'unboxing', 'build', 'avengers', 'super powers', 'laboratory', 'creating', 'helmet', 'suit', 'tour', 'iron man 3', 'arc reactor', 'metal', 'robots', 'jarvis', 'building', 'marvel comics', 'comics', 'marvel cinematic universe', 'mcu', 'war machine', 'electricity', 'microscope', 'scientist', 'disney', 'stem', 'engineer', 'diy', 'workspace'], 'categoryId': '28', 'liveBroadcastContent': 'none', 'defaultLanguage': 'en', 'localized': {'title': \"We made a REAL HOLOGRAM Desk like Tony Stark's!\", 'description': 'FlexiSpot Brand Day Sale, use code \"HS50\" to get the best price of the year. Don\\'t miss out! (sponsored)\\nUSA ► E7 (best seller): https://bit.ly/439exgL\\nUSA ► E5 (best value): https://bit.ly/3pSdvrk\\nUSA ► E7 (with chair): https://bit.ly/3WffYIp\\nCA ► E7 (best seller): https://bit.ly/3o23RS6\\nCA ► E5 (best value): https://bit.ly/3MHRZP1\\nIf you want to own the same desk, join the bidding now at: https://www.flexispot.com/auction\\n\\nBambu Lab Ultra Fast 3D Printer ► https://shareasale.com/r.cfm?b=2282157&u=3693696&m=138211&urllink=&afftrack=\\n3D Scanner ► https://www.einscan.com/einscan-hx/\\n\\nGET MERCH ► https://www.Hacksmith.store\\nBecome a Hacksmith member get exclusive perks! ► https://www.youtube.com/channel/UCjgpFI5dU-D1-kh9H1muoxQ/join\\n\\nSOCIAL\\nInstagram ► http://www.instagram.com/thehacksmith\\nTikTok ► https://www.tiktok.com/@thehacksmith\\nFacebook ► http://www.facebook.com/thehacksmith\\nTwitter ► http://twitter.com/thehacksmith\\nDiscord ► https://discordapp.com/invite/thehacksmith \\nMerch ► https://www.hacksmith.store\\nWebsite ► http://www.hacksmith.tech\\n\\nSOFTWARE & Services:\\nPCB Design ► https://www.altium.com/asp/hacksmith\\nSpanish Dubbing ► https://youtubetranslation.mailchimpsites.com/\\nVideo Review / Collaboration ► http://r.frame.io/pZq3N\\nVideo Editing ► Adobe Premiere \\nCAD ► https://bit.ly/Solidworks4makers\\n\\nTOOLS / MACHINES: \\nLaser Engraver ► https://bit.ly/OMTechLaser  - Use code HACKSMITH5OFF\\nBambu Lab Ultra Fast 3D Printer ► https://shareasale.com/r.cfm?b=2282157&u=3693696&m=138211&urllink=&afftrack=\\nCNC Mill - Tormach 1100MX ► https://hubs.ly/H0B8DWG0  \\nCNC Mill - Tormach PCNC 440 ► https://hubs.ly/H0B8DYk0  \\nCNC Lathe - Tormach 15L ► https://hubs.ly/H0B8Gcp0 \\nAutofeed Bandsaw - Tormach AF50 ► https://hubs.ly/H0B8Gj10  \\nCNC Waterjet Cutter ► https://www.wazer.com/ \\nCNC Plasma Cutter ► http://bit.ly/EMTplasma  \\n3D Scanner ► http://amzn.to/2pwbvTu  \\nDrills, drivers, grinders, saws, etc ► https://amzn.to/35qqbvy \\nMig Welder ► https://amzn.to/3dxFBzk  \\nTig Welder ► https://amzn.to/3gmJclN  \\nOscilloscope ► https://bit.ly/38sOzKw  \\nMultimeters ► https://bit.ly/2WKwPEQ  \\n\\nCAMERA GEAR:\\nHighspeed Cam - Chronos 2.1 ► https://www.krontech.ca/ \\nMain shooter - Sony A7siii ► https://amzn.to/3amVsyN  \\nInsta360 Cameras ► https://store.insta360.com/product/x3?insrc=INR7JAT (free selfie stick with this link!)\\n4K Webcam ► https://store.insta360.com/product/link?insrc=INR7JAT\\nMain mic - Rode Go II ► https://amzn.to/3toLsh3 \\nGimbal - DJI RS 2 ► https://amzn.to/3v0DFFs \\nTripods - Manfrotto 504X ► https://amzn.to/2QB1Onh \\nStudio Lights - Nanlite ► https://amzn.to/3v6iWQr\\n\\nPurchases made through some store links may provide some compensation to Hacksmith.\\n\\nWARNING: THESE VIDEOS ARE FOR ENTERTAINMENT PURPOSES ONLY. PERSONAL USE OF VIDEO CONTENT IS AT YOUR OWN RISK. THE HACKSMITH IS A TRAINED PROFESSIONAL WHO KNOWS EXACTLY WHAT HE\\'S DOING. EXCEPT WHEN HE DOESN\\'T. DO NOT ATTEMPT TO RECREATE OR RE-ENACT ANYTHING SHOWN IN THESE VIDEOS.'}, 'defaultAudioLanguage': 'en'}, 'contentDetails': {'duration': 'PT23M57S', 'dimension': '2d', 'definition': 'hd', 'caption': 'false', 'licensedContent': True, 'contentRating': {}, 'projection': 'rectangular'}, 'statistics': {'viewCount': '534163', 'likeCount': '46701', 'favoriteCount': '0', 'commentCount': '1353'}}]\n",
      "\n",
      "Key: nextPageToken\n",
      "Value: CAUQAA\n",
      "\n",
      "Key: pageInfo\n",
      "Value: {'totalResults': 200, 'resultsPerPage': 5}\n",
      "\n"
     ]
    }
   ],
   "source": [
    "#with this code i am just trying to see what does the data contain\n",
    "\n",
    "import json\n",
    "\n",
    "# Load the JSON data from the file\n",
    "with open(\"Youtube_data_collection.json\", 'r') as my_file:\n",
    "    data_string = my_file.read()\n",
    "    data = json.loads(data_string)\n",
    "\n",
    "for key, value in data.items():\n",
    "    print(f\"Key: {key}\")\n",
    "    print(f\"Value: {value}\")\n",
    "    print()\n"
   ]
  },
  {
   "cell_type": "markdown",
   "id": "7f1f5266",
   "metadata": {},
   "source": [
    "# May 24"
   ]
  },
  {
   "cell_type": "code",
   "execution_count": 3,
   "id": "9502212c",
   "metadata": {},
   "outputs": [
    {
     "name": "stdout",
     "output_type": "stream",
     "text": [
      "[{'kind': 'youtube#video', 'etag': 'qzdJuuQj15wr_sA9dDbtyC78AdI', 'id': 'xZPrldPWXJY', 'snippet': {'publishedAt': '2023-05-23T15:00:07Z', 'channelId': 'UC52XYgEExV9VG6Rt-6vnzVA', 'title': 'Destiny 2: Lightfall - Season of the Deep Launch Trailer', 'description': \"Saturn's missing moon of Titan has returned, now overrun with Taken and Hive. Guardians must follow them into the deep. \\nSeason of the Deep begins today.\\n\\n🌊 bung.ie/deep\\n\\nFOLLOW DESTINY:\\nFacebook: https://www.facebook.com/DestinyTheGame\\nTwitter: https://www.twitter.com/destinythegame\\nInstagram: https://www.instagram.com/destinythegame\\nDiscord: http://www.discord.gg/destinygame\\n\\nFOLLOW BUNGIE:\\nFacebook: https://www.facebook.com/Bungie/\\nTwitter: https://www.twitter.com/bungie\\nInstagram: https://www.instagram.com/bungie/\\n⠀ ⠀ ⠀ ⠀\\nDive into the free-to-play world of Destiny 2 to experience responsive first-person shooter combat, explore the mysteries of our solar system, and unleash elemental abilities against powerful enemies. Create your Guardian and collect unique weapons, armor, and gear to customize your look and playstyle. Experience Destiny 2’s cinematic story alone or with friends, join other Guardians for challenging co-op missions, or compete against them in a variety of PvP modes.\", 'thumbnails': {'default': {'url': 'https://i.ytimg.com/vi/xZPrldPWXJY/default.jpg', 'width': 120, 'height': 90}, 'medium': {'url': 'https://i.ytimg.com/vi/xZPrldPWXJY/mqdefault.jpg', 'width': 320, 'height': 180}, 'high': {'url': 'https://i.ytimg.com/vi/xZPrldPWXJY/hqdefault.jpg', 'width': 480, 'height': 360}, 'standard': {'url': 'https://i.ytimg.com/vi/xZPrldPWXJY/sddefault.jpg', 'width': 640, 'height': 480}, 'maxres': {'url': 'https://i.ytimg.com/vi/xZPrldPWXJY/maxresdefault.jpg', 'width': 1280, 'height': 720}}, 'channelTitle': 'Destiny 2', 'tags': ['Destiny', 'destiny 2', 'xbox', 'playstation', 'steam', 'game', 'games', 'MMO', 'FPS', 'action', 'warlock', 'hunter', 'titan'], 'categoryId': '20', 'liveBroadcastContent': 'none', 'localized': {'title': 'Destiny 2: Lightfall - Season of the Deep Launch Trailer', 'description': \"Saturn's missing moon of Titan has returned, now overrun with Taken and Hive. Guardians must follow them into the deep. \\nSeason of the Deep begins today.\\n\\n🌊 bung.ie/deep\\n\\nFOLLOW DESTINY:\\nFacebook: https://www.facebook.com/DestinyTheGame\\nTwitter: https://www.twitter.com/destinythegame\\nInstagram: https://www.instagram.com/destinythegame\\nDiscord: http://www.discord.gg/destinygame\\n\\nFOLLOW BUNGIE:\\nFacebook: https://www.facebook.com/Bungie/\\nTwitter: https://www.twitter.com/bungie\\nInstagram: https://www.instagram.com/bungie/\\n⠀ ⠀ ⠀ ⠀\\nDive into the free-to-play world of Destiny 2 to experience responsive first-person shooter combat, explore the mysteries of our solar system, and unleash elemental abilities against powerful enemies. Create your Guardian and collect unique weapons, armor, and gear to customize your look and playstyle. Experience Destiny 2’s cinematic story alone or with friends, join other Guardians for challenging co-op missions, or compete against them in a variety of PvP modes.\"}, 'defaultAudioLanguage': 'en'}, 'contentDetails': {'duration': 'PT1M55S', 'dimension': '2d', 'definition': 'hd', 'caption': 'true', 'licensedContent': True, 'contentRating': {}, 'projection': 'rectangular'}, 'statistics': {'viewCount': '680220', 'likeCount': '33596', 'favoriteCount': '0', 'commentCount': '3734'}}, {'kind': 'youtube#video', 'etag': '1ml23uo9bukFNsdMrm1QZYbJ6qE', 'id': 'M9hdHDXyo-8', 'snippet': {'publishedAt': '2023-05-22T03:09:29Z', 'channelId': 'UCAMPco9PqjBbI_MLsDOO4Jw', 'title': 'Iam Tongi & James Blunt: Super Emotional Duet of \"Monsters\" Makes Idol History - American Idol 2023', 'description': 'IDOL HISTORY: Season 21 WINNER Iam Tongi & James Blunt perform super emotional duet of \"Monsters\". 😭 #IdolFinaleSee\\n\\n more of American Idol 2023 on our official site: http://www.americanidol.com\\nLike American Idol on Facebook: https://www.facebook.com/AmericanIdol\\nFollow American Idol on Twitter: https://twitter.com/americanidol\\nFollow American Idol on Instagram: https://www.instagram.com/americanidol/\\n\\nAMERICAN IDOL, the iconic series that revolutionized the television landscape by pioneering the music competition genre, returns on ABC.\\n\\nAmerican Idol 2023\\n\\nHelping to determine who America will ultimately vote for to become the next singing sensation are music industry forces and superstar judges Luke Bryan, Katy Perry and Lionel Richie. Emmy® Award-winning host and producer Ryan Seacrest continues as host of the beloved series, for the historic 21st season.', 'thumbnails': {'default': {'url': 'https://i.ytimg.com/vi/M9hdHDXyo-8/default.jpg', 'width': 120, 'height': 90}, 'medium': {'url': 'https://i.ytimg.com/vi/M9hdHDXyo-8/mqdefault.jpg', 'width': 320, 'height': 180}, 'high': {'url': 'https://i.ytimg.com/vi/M9hdHDXyo-8/hqdefault.jpg', 'width': 480, 'height': 360}, 'standard': {'url': 'https://i.ytimg.com/vi/M9hdHDXyo-8/sddefault.jpg', 'width': 640, 'height': 480}, 'maxres': {'url': 'https://i.ytimg.com/vi/M9hdHDXyo-8/maxresdefault.jpg', 'width': 1280, 'height': 720}}, 'channelTitle': 'American Idol', 'tags': ['American Idol', 'singing competition', 'Katy Perry', 'Ryan Seacrest', 'Luke Bryan', 'Lionel Richie', 'covers', 'sing', 'ABC', 'American Idol 2022', 'auditions', 'Iam Tongi', 'James Blunt', 'Monsters'], 'categoryId': '24', 'liveBroadcastContent': 'none', 'localized': {'title': 'Iam Tongi & James Blunt: Super Emotional Duet of \"Monsters\" Makes Idol History - American Idol 2023', 'description': 'IDOL HISTORY: Season 21 WINNER Iam Tongi & James Blunt perform super emotional duet of \"Monsters\". 😭 #IdolFinaleSee\\n\\n more of American Idol 2023 on our official site: http://www.americanidol.com\\nLike American Idol on Facebook: https://www.facebook.com/AmericanIdol\\nFollow American Idol on Twitter: https://twitter.com/americanidol\\nFollow American Idol on Instagram: https://www.instagram.com/americanidol/\\n\\nAMERICAN IDOL, the iconic series that revolutionized the television landscape by pioneering the music competition genre, returns on ABC.\\n\\nAmerican Idol 2023\\n\\nHelping to determine who America will ultimately vote for to become the next singing sensation are music industry forces and superstar judges Luke Bryan, Katy Perry and Lionel Richie. Emmy® Award-winning host and producer Ryan Seacrest continues as host of the beloved series, for the historic 21st season.'}, 'defaultAudioLanguage': 'en'}, 'contentDetails': {'duration': 'PT2M57S', 'dimension': '2d', 'definition': 'hd', 'caption': 'false', 'licensedContent': True, 'contentRating': {}, 'projection': 'rectangular'}, 'statistics': {'viewCount': '2906783', 'likeCount': '49334', 'favoriteCount': '0', 'commentCount': '3219'}}, {'kind': 'youtube#video', 'etag': 'YOJk2edIdIxT5u6LAiMvMvw1Axk', 'id': '1D_iOST8060', 'snippet': {'publishedAt': '2023-05-22T04:46:46Z', 'channelId': 'UCSo19KhHogXxu3sFsOpqrcQ', 'title': 'Resumen y goles | América (2)1-3(3) Chivas | CL2023 - Semis | TUDN', 'description': 'La mayor oferta de partidos de la Liga Mx en ViX: https://vix.com/es-es/deportes?utm_medium=organic_social&utm_source=youtube&utm_campaign=evergreen&utm_content=ed_sports\\n\\nUn autogol de Cáceres y las anotaciones de Alan Mozo y Jesús Chiquete, Guadalajara se mete a la final.\\n\\nSíguenos en nuestras redes sociales:\\n\\nhttps://www.facebook.com/tudnusa/\\nhttps://www.instagram.com/tudnusa/\\nhttps://twitter.com/TUDNUSA\\n\\nSitio Web: https://www.tudn.com/\\n\\nTUDN USA te ofrece la cobertura más completa del mundo deportivo con lo mejor del fútbol mexicano, de Estados Unidos y del mundo, boxeo, UFC, las grandes personalidades del deporte y mucho más.', 'thumbnails': {'default': {'url': 'https://i.ytimg.com/vi/1D_iOST8060/default.jpg', 'width': 120, 'height': 90}, 'medium': {'url': 'https://i.ytimg.com/vi/1D_iOST8060/mqdefault.jpg', 'width': 320, 'height': 180}, 'high': {'url': 'https://i.ytimg.com/vi/1D_iOST8060/hqdefault.jpg', 'width': 480, 'height': 360}, 'standard': {'url': 'https://i.ytimg.com/vi/1D_iOST8060/sddefault.jpg', 'width': 640, 'height': 480}, 'maxres': {'url': 'https://i.ytimg.com/vi/1D_iOST8060/maxresdefault.jpg', 'width': 1280, 'height': 720}}, 'channelTitle': 'TUDN USA', 'tags': ['Televisa', 'Deportes', 'TUDN', 'México', 'Univision', 'Televisa deportes', 'TUDN USA', 'soccer', 'futbol mexicano', 'liga mx', 'liga mx 2023', 'clausura 2023', 'america vs chivas resumen', 'america 2023', 'chivas 2023', 'resumen América', 'Resumen Chivas', 'América 1-3 Chivas', 'Gol Chivas'], 'categoryId': '17', 'liveBroadcastContent': 'none', 'localized': {'title': 'Resumen y goles | América (2)1-3(3) Chivas | CL2023 - Semis | TUDN', 'description': 'La mayor oferta de partidos de la Liga Mx en ViX: https://vix.com/es-es/deportes?utm_medium=organic_social&utm_source=youtube&utm_campaign=evergreen&utm_content=ed_sports\\n\\nUn autogol de Cáceres y las anotaciones de Alan Mozo y Jesús Chiquete, Guadalajara se mete a la final.\\n\\nSíguenos en nuestras redes sociales:\\n\\nhttps://www.facebook.com/tudnusa/\\nhttps://www.instagram.com/tudnusa/\\nhttps://twitter.com/TUDNUSA\\n\\nSitio Web: https://www.tudn.com/\\n\\nTUDN USA te ofrece la cobertura más completa del mundo deportivo con lo mejor del fútbol mexicano, de Estados Unidos y del mundo, boxeo, UFC, las grandes personalidades del deporte y mucho más.'}, 'defaultAudioLanguage': 'es'}, 'contentDetails': {'duration': 'PT11M19S', 'dimension': '2d', 'definition': 'hd', 'caption': 'true', 'licensedContent': True, 'regionRestriction': {'allowed': ['PR', 'US']}, 'contentRating': {}, 'projection': 'rectangular'}, 'statistics': {'viewCount': '920777', 'likeCount': '9018', 'favoriteCount': '0', 'commentCount': '1256'}}, {'kind': 'youtube#video', 'etag': '3QWTYU1W9MnQXqA23DEgFyaixtM', 'id': 'wPwzBUui1GA', 'snippet': {'publishedAt': '2023-05-22T20:00:18Z', 'channelId': 'UCjmJDM5pRKbUlVIzDYYWb6g', 'title': 'The Color Purple | Official Trailer', 'description': 'A bold new take on the beloved classic. #TheColorPurple only in theaters December 25.\\n\\nWarner Bros. Pictures invites you to experience the extraordinary sisterhood of three women who share one unbreakable bond in “The Color Purple.” This bold new take on the beloved classic is directed by Blitz Bazawule (“Black Is King,” “The Burial of Kojo”) and produced by Oprah Winfrey, Steven Spielberg, Scott Sanders and Quincy Jones.\\n\\n“The Color Purple” stars Taraji P. Henson (“What Men Want,” “Hidden Figures”), Danielle Brooks (“Peacemaker,” “Orange Is the New Black”), Colman Domingo (“Ma Rainey’s Black Bottom,” “Fear the Walking Dead”), Corey Hawkins (“In the Heights,” “BlacKkKlansman”), H.E.R. (“Judas and the Black Messiah,” “Beauty and the Beast: A 30th Celebration”), Halle Bailey (“The Little Mermaid,” “Grown-ish”), Aunjanue Ellis-Taylor (“King Richard,” “If Beale Street Could Talk”), and Fantasia Barrino (in her major motion picture debut).\\n\\nThe screenplay is by Marcus Gardley (“Maid,” “The Chi”), based on the novel by Alice Walker and based on the musical stage play, book (of the musical stage play) by Marsha Norman, music and lyrics by Brenda Russell, Allee Willis and Stephen Bray. The executive producers Alice Walker, Rebecca Walker, Kristie Macosko Krieger, Carla Gardini, Mara Jacobs, Adam Fell, Courtenay Valenti, Sheila Walcott and Michael Beugg.\\n\\nJoining director Bazawule behind the camera are director of photography Dan Laustsen (“John Wick: Chapter 4,” “The Shape of Water”), production designer Paul Denham Austerberry (“The Flash,” “The Twilight Saga: Eclipse”) and editor Jon Poll (“Bombshell,” “The Greatest Showman”). The choreographer is Fatima Robinson (“Coming 2 America,” “Dreamgirls”) and the costumes are designed by Francine Jamison-Tanchuck (“Emancipation,” “One Night in Miami…”). The music supervisors are Jordan Carroll (“The Greatest Showman,” “Godfather of Harlem”) and Morgan Rhodes (“Space Jam: A New Legacy,” “Selma”); the music is by Kris Bowers (“King Richard,” “Green Book”); and the executive music producers are Nick Baxter (“Babylon,” “CODA”), Stephen Bray (“Respect,” “Juanita”) and Blitz Bazawule.\\n\\nWarner Bros. Pictures presents a Harpo Films Production, an Amblin Entertainment Production, a Scott Sanders Production/a QJP Production, “The Color Purple.” It will be distributed worldwide by Warner Bros. Pictures and is set to open in theaters in North America on December 25, 2023 and internationally beginning 18 January 2024.', 'thumbnails': {'default': {'url': 'https://i.ytimg.com/vi/wPwzBUui1GA/default.jpg', 'width': 120, 'height': 90}, 'medium': {'url': 'https://i.ytimg.com/vi/wPwzBUui1GA/mqdefault.jpg', 'width': 320, 'height': 180}, 'high': {'url': 'https://i.ytimg.com/vi/wPwzBUui1GA/hqdefault.jpg', 'width': 480, 'height': 360}, 'standard': {'url': 'https://i.ytimg.com/vi/wPwzBUui1GA/sddefault.jpg', 'width': 640, 'height': 480}, 'maxres': {'url': 'https://i.ytimg.com/vi/wPwzBUui1GA/maxresdefault.jpg', 'width': 1280, 'height': 720}}, 'channelTitle': 'Warner Bros. Pictures', 'tags': ['Aunjanue Ellis-Taylor', 'Blitz Bazawule', 'Christmas Day', 'Classic', 'Colman Domingo', 'Coming Soon', 'Corey Hawkins', 'Danielle Brooks', 'Fantasia Barrino', 'Film', 'Film 2023', 'Film 2024', 'H.E.R', 'Halle Bailey', 'Marcus Gardley', 'Marsha Norman', 'Movie', 'Official Trailer', 'Oprah Winfrey', 'Quincy Jones', 'Scott Sanders', 'Steven Spielberg', 'TarajiP Henson', 'TheColorPurple', 'Trailer 2023', 'Warner Bros', 'Warner Brothers'], 'categoryId': '1', 'liveBroadcastContent': 'none', 'localized': {'title': 'The Color Purple | Official Trailer', 'description': 'A bold new take on the beloved classic. #TheColorPurple only in theaters December 25.\\n\\nWarner Bros. Pictures invites you to experience the extraordinary sisterhood of three women who share one unbreakable bond in “The Color Purple.” This bold new take on the beloved classic is directed by Blitz Bazawule (“Black Is King,” “The Burial of Kojo”) and produced by Oprah Winfrey, Steven Spielberg, Scott Sanders and Quincy Jones.\\n\\n“The Color Purple” stars Taraji P. Henson (“What Men Want,” “Hidden Figures”), Danielle Brooks (“Peacemaker,” “Orange Is the New Black”), Colman Domingo (“Ma Rainey’s Black Bottom,” “Fear the Walking Dead”), Corey Hawkins (“In the Heights,” “BlacKkKlansman”), H.E.R. (“Judas and the Black Messiah,” “Beauty and the Beast: A 30th Celebration”), Halle Bailey (“The Little Mermaid,” “Grown-ish”), Aunjanue Ellis-Taylor (“King Richard,” “If Beale Street Could Talk”), and Fantasia Barrino (in her major motion picture debut).\\n\\nThe screenplay is by Marcus Gardley (“Maid,” “The Chi”), based on the novel by Alice Walker and based on the musical stage play, book (of the musical stage play) by Marsha Norman, music and lyrics by Brenda Russell, Allee Willis and Stephen Bray. The executive producers Alice Walker, Rebecca Walker, Kristie Macosko Krieger, Carla Gardini, Mara Jacobs, Adam Fell, Courtenay Valenti, Sheila Walcott and Michael Beugg.\\n\\nJoining director Bazawule behind the camera are director of photography Dan Laustsen (“John Wick: Chapter 4,” “The Shape of Water”), production designer Paul Denham Austerberry (“The Flash,” “The Twilight Saga: Eclipse”) and editor Jon Poll (“Bombshell,” “The Greatest Showman”). The choreographer is Fatima Robinson (“Coming 2 America,” “Dreamgirls”) and the costumes are designed by Francine Jamison-Tanchuck (“Emancipation,” “One Night in Miami…”). The music supervisors are Jordan Carroll (“The Greatest Showman,” “Godfather of Harlem”) and Morgan Rhodes (“Space Jam: A New Legacy,” “Selma”); the music is by Kris Bowers (“King Richard,” “Green Book”); and the executive music producers are Nick Baxter (“Babylon,” “CODA”), Stephen Bray (“Respect,” “Juanita”) and Blitz Bazawule.\\n\\nWarner Bros. Pictures presents a Harpo Films Production, an Amblin Entertainment Production, a Scott Sanders Production/a QJP Production, “The Color Purple.” It will be distributed worldwide by Warner Bros. Pictures and is set to open in theaters in North America on December 25, 2023 and internationally beginning 18 January 2024.'}, 'defaultAudioLanguage': 'en-US'}, 'contentDetails': {'duration': 'PT2M25S', 'dimension': '2d', 'definition': 'hd', 'caption': 'true', 'licensedContent': False, 'contentRating': {}, 'projection': 'rectangular'}, 'statistics': {'viewCount': '3225766', 'likeCount': '20435', 'favoriteCount': '0', 'commentCount': '2436'}}, {'kind': 'youtube#video', 'etag': 'KGlkb_G124H43SiqnzQToi8zmxw', 'id': 'PI6VA8ZNL-0', 'snippet': {'publishedAt': '2023-05-23T14:00:17Z', 'channelId': 'UCjgpFI5dU-D1-kh9H1muoxQ', 'title': \"We made a REAL HOLOGRAM Desk like Tony Stark's!\", 'description': 'FlexiSpot Brand Day Sale, use code \"HS50\" to get the best price of the year. Don\\'t miss out! (sponsored)\\nUSA ► E7 (best seller): https://bit.ly/439exgL\\nUSA ► E5 (best value): https://bit.ly/3pSdvrk\\nUSA ► E7 (with chair): https://bit.ly/3WffYIp\\nCA ► E7 (best seller): https://bit.ly/3o23RS6\\nCA ► E5 (best value): https://bit.ly/3MHRZP1\\nIf you want to own the same desk, join the bidding now at: https://www.flexispot.com/auction\\n\\nBambu Lab Ultra Fast 3D Printer ► https://shareasale.com/r.cfm?b=2282157&u=3693696&m=138211&urllink=&afftrack=\\n3D Scanner ► https://www.einscan.com/einscan-hx/\\n\\nGET MERCH ► https://www.Hacksmith.store\\nBecome a Hacksmith member get exclusive perks! ► https://www.youtube.com/channel/UCjgpFI5dU-D1-kh9H1muoxQ/join\\n\\nSOCIAL\\nInstagram ► http://www.instagram.com/thehacksmith\\nTikTok ► https://www.tiktok.com/@thehacksmith\\nFacebook ► http://www.facebook.com/thehacksmith\\nTwitter ► http://twitter.com/thehacksmith\\nDiscord ► https://discordapp.com/invite/thehacksmith \\nMerch ► https://www.hacksmith.store\\nWebsite ► http://www.hacksmith.tech\\n\\nSOFTWARE & Services:\\nPCB Design ► https://www.altium.com/asp/hacksmith\\nSpanish Dubbing ► https://youtubetranslation.mailchimpsites.com/\\nVideo Review / Collaboration ► http://r.frame.io/pZq3N\\nVideo Editing ► Adobe Premiere \\nCAD ► https://bit.ly/Solidworks4makers\\n\\nTOOLS / MACHINES: \\nLaser Engraver ► https://bit.ly/OMTechLaser  - Use code HACKSMITH5OFF\\nBambu Lab Ultra Fast 3D Printer ► https://shareasale.com/r.cfm?b=2282157&u=3693696&m=138211&urllink=&afftrack=\\nCNC Mill - Tormach 1100MX ► https://hubs.ly/H0B8DWG0  \\nCNC Mill - Tormach PCNC 440 ► https://hubs.ly/H0B8DYk0  \\nCNC Lathe - Tormach 15L ► https://hubs.ly/H0B8Gcp0 \\nAutofeed Bandsaw - Tormach AF50 ► https://hubs.ly/H0B8Gj10  \\nCNC Waterjet Cutter ► https://www.wazer.com/ \\nCNC Plasma Cutter ► http://bit.ly/EMTplasma  \\n3D Scanner ► http://amzn.to/2pwbvTu  \\nDrills, drivers, grinders, saws, etc ► https://amzn.to/35qqbvy \\nMig Welder ► https://amzn.to/3dxFBzk  \\nTig Welder ► https://amzn.to/3gmJclN  \\nOscilloscope ► https://bit.ly/38sOzKw  \\nMultimeters ► https://bit.ly/2WKwPEQ  \\n\\nCAMERA GEAR:\\nHighspeed Cam - Chronos 2.1 ► https://www.krontech.ca/ \\nMain shooter - Sony A7siii ► https://amzn.to/3amVsyN  \\nInsta360 Cameras ► https://store.insta360.com/product/x3?insrc=INR7JAT (free selfie stick with this link!)\\n4K Webcam ► https://store.insta360.com/product/link?insrc=INR7JAT\\nMain mic - Rode Go II ► https://amzn.to/3toLsh3 \\nGimbal - DJI RS 2 ► https://amzn.to/3v0DFFs \\nTripods - Manfrotto 504X ► https://amzn.to/2QB1Onh \\nStudio Lights - Nanlite ► https://amzn.to/3v6iWQr\\n\\nPurchases made through some store links may provide some compensation to Hacksmith.\\n\\nWARNING: THESE VIDEOS ARE FOR ENTERTAINMENT PURPOSES ONLY. PERSONAL USE OF VIDEO CONTENT IS AT YOUR OWN RISK. THE HACKSMITH IS A TRAINED PROFESSIONAL WHO KNOWS EXACTLY WHAT HE\\'S DOING. EXCEPT WHEN HE DOESN\\'T. DO NOT ATTEMPT TO RECREATE OR RE-ENACT ANYTHING SHOWN IN THESE VIDEOS.', 'thumbnails': {'default': {'url': 'https://i.ytimg.com/vi/PI6VA8ZNL-0/default.jpg', 'width': 120, 'height': 90}, 'medium': {'url': 'https://i.ytimg.com/vi/PI6VA8ZNL-0/mqdefault.jpg', 'width': 320, 'height': 180}, 'high': {'url': 'https://i.ytimg.com/vi/PI6VA8ZNL-0/hqdefault.jpg', 'width': 480, 'height': 360}, 'standard': {'url': 'https://i.ytimg.com/vi/PI6VA8ZNL-0/sddefault.jpg', 'width': 640, 'height': 480}, 'maxres': {'url': 'https://i.ytimg.com/vi/PI6VA8ZNL-0/maxresdefault.jpg', 'width': 1280, 'height': 720}}, 'channelTitle': 'Hacksmith Industries', 'tags': ['thehacksmith', 'hacksmith', 'engineering', 'iron man', 'marvel', 'stark industries', 'make it real', 'the hacksmith', 'workshop', 'superhero', 'stark', 'tony stark', 'pepper potts', 'iron man gauntlets', 'iron man armour', 'electronics', 'workstation', 'science', 'unboxing', 'build', 'avengers', 'super powers', 'laboratory', 'creating', 'helmet', 'suit', 'tour', 'iron man 3', 'arc reactor', 'metal', 'robots', 'jarvis', 'building', 'marvel comics', 'comics', 'marvel cinematic universe', 'mcu', 'war machine', 'electricity', 'microscope', 'scientist', 'disney', 'stem', 'engineer', 'diy', 'workspace'], 'categoryId': '28', 'liveBroadcastContent': 'none', 'defaultLanguage': 'en', 'localized': {'title': \"We made a REAL HOLOGRAM Desk like Tony Stark's!\", 'description': 'FlexiSpot Brand Day Sale, use code \"HS50\" to get the best price of the year. Don\\'t miss out! (sponsored)\\nUSA ► E7 (best seller): https://bit.ly/439exgL\\nUSA ► E5 (best value): https://bit.ly/3pSdvrk\\nUSA ► E7 (with chair): https://bit.ly/3WffYIp\\nCA ► E7 (best seller): https://bit.ly/3o23RS6\\nCA ► E5 (best value): https://bit.ly/3MHRZP1\\nIf you want to own the same desk, join the bidding now at: https://www.flexispot.com/auction\\n\\nBambu Lab Ultra Fast 3D Printer ► https://shareasale.com/r.cfm?b=2282157&u=3693696&m=138211&urllink=&afftrack=\\n3D Scanner ► https://www.einscan.com/einscan-hx/\\n\\nGET MERCH ► https://www.Hacksmith.store\\nBecome a Hacksmith member get exclusive perks! ► https://www.youtube.com/channel/UCjgpFI5dU-D1-kh9H1muoxQ/join\\n\\nSOCIAL\\nInstagram ► http://www.instagram.com/thehacksmith\\nTikTok ► https://www.tiktok.com/@thehacksmith\\nFacebook ► http://www.facebook.com/thehacksmith\\nTwitter ► http://twitter.com/thehacksmith\\nDiscord ► https://discordapp.com/invite/thehacksmith \\nMerch ► https://www.hacksmith.store\\nWebsite ► http://www.hacksmith.tech\\n\\nSOFTWARE & Services:\\nPCB Design ► https://www.altium.com/asp/hacksmith\\nSpanish Dubbing ► https://youtubetranslation.mailchimpsites.com/\\nVideo Review / Collaboration ► http://r.frame.io/pZq3N\\nVideo Editing ► Adobe Premiere \\nCAD ► https://bit.ly/Solidworks4makers\\n\\nTOOLS / MACHINES: \\nLaser Engraver ► https://bit.ly/OMTechLaser  - Use code HACKSMITH5OFF\\nBambu Lab Ultra Fast 3D Printer ► https://shareasale.com/r.cfm?b=2282157&u=3693696&m=138211&urllink=&afftrack=\\nCNC Mill - Tormach 1100MX ► https://hubs.ly/H0B8DWG0  \\nCNC Mill - Tormach PCNC 440 ► https://hubs.ly/H0B8DYk0  \\nCNC Lathe - Tormach 15L ► https://hubs.ly/H0B8Gcp0 \\nAutofeed Bandsaw - Tormach AF50 ► https://hubs.ly/H0B8Gj10  \\nCNC Waterjet Cutter ► https://www.wazer.com/ \\nCNC Plasma Cutter ► http://bit.ly/EMTplasma  \\n3D Scanner ► http://amzn.to/2pwbvTu  \\nDrills, drivers, grinders, saws, etc ► https://amzn.to/35qqbvy \\nMig Welder ► https://amzn.to/3dxFBzk  \\nTig Welder ► https://amzn.to/3gmJclN  \\nOscilloscope ► https://bit.ly/38sOzKw  \\nMultimeters ► https://bit.ly/2WKwPEQ  \\n\\nCAMERA GEAR:\\nHighspeed Cam - Chronos 2.1 ► https://www.krontech.ca/ \\nMain shooter - Sony A7siii ► https://amzn.to/3amVsyN  \\nInsta360 Cameras ► https://store.insta360.com/product/x3?insrc=INR7JAT (free selfie stick with this link!)\\n4K Webcam ► https://store.insta360.com/product/link?insrc=INR7JAT\\nMain mic - Rode Go II ► https://amzn.to/3toLsh3 \\nGimbal - DJI RS 2 ► https://amzn.to/3v0DFFs \\nTripods - Manfrotto 504X ► https://amzn.to/2QB1Onh \\nStudio Lights - Nanlite ► https://amzn.to/3v6iWQr\\n\\nPurchases made through some store links may provide some compensation to Hacksmith.\\n\\nWARNING: THESE VIDEOS ARE FOR ENTERTAINMENT PURPOSES ONLY. PERSONAL USE OF VIDEO CONTENT IS AT YOUR OWN RISK. THE HACKSMITH IS A TRAINED PROFESSIONAL WHO KNOWS EXACTLY WHAT HE\\'S DOING. EXCEPT WHEN HE DOESN\\'T. DO NOT ATTEMPT TO RECREATE OR RE-ENACT ANYTHING SHOWN IN THESE VIDEOS.'}, 'defaultAudioLanguage': 'en'}, 'contentDetails': {'duration': 'PT23M57S', 'dimension': '2d', 'definition': 'hd', 'caption': 'false', 'licensedContent': True, 'contentRating': {}, 'projection': 'rectangular'}, 'statistics': {'viewCount': '534163', 'likeCount': '46701', 'favoriteCount': '0', 'commentCount': '1353'}}]\n"
     ]
    }
   ],
   "source": [
    "#i want to see all the items in the list\n",
    "with open(\"Youtube_data_collection.json\", 'r') as my_file:\n",
    "    data_string = my_file.read()\n",
    "    data = json.loads(data_string)\n",
    "\n",
    "items = data['items']\n",
    "print(items)\n",
    "\n",
    "#i am not sure if this is what i want "
   ]
  },
  {
   "cell_type": "code",
   "execution_count": 26,
   "id": "152da007",
   "metadata": {},
   "outputs": [
    {
     "name": "stdout",
     "output_type": "stream",
     "text": [
      "Enter the date (2023-05-24): 2023-05-24\n"
     ]
    }
   ],
   "source": [
    "#single day data \n",
    "\n",
    "import json\n",
    "import requests\n",
    "\n",
    "from youtube_key import youtube_key\n",
    "\n",
    "date = input(\"Enter the date (YYYY-MM-DD): \")\n",
    "\n",
    "url = f\"https://youtube.googleapis.com/youtube/v3/videos?part=snippet%2CcontentDetails%2Cstatistics&chart=mostPopular&regionCode=US&maxResults=500&publishedAfter={date}T00:00:00Z&publishedBefore={date}T23:59:59Z&key={youtube_key}\"\n",
    "\n",
    "response = requests.get(url)\n",
    "data = response.json()\n",
    "\n",
    "video_data = data.get('items', [])\n",
    "\n",
    "with open(\"Youtube_data_collection_may24.json\", 'w') as file:\n",
    "    json.dump(video_data, file)\n"
   ]
  },
  {
   "cell_type": "code",
   "execution_count": 28,
   "id": "cd85feb3",
   "metadata": {},
   "outputs": [
    {
     "data": {
      "text/plain": [
       "50"
      ]
     },
     "execution_count": 28,
     "metadata": {},
     "output_type": "execute_result"
    }
   ],
   "source": [
    "len(video_data)"
   ]
  },
  {
   "cell_type": "code",
   "execution_count": null,
   "id": "a26287cd",
   "metadata": {},
   "outputs": [],
   "source": [
    "#you can use the append or the extend function that would help you put all the days file together and then analyse it; you can also combine the list on evey file together into one by adding (+) it"
   ]
  },
  {
   "cell_type": "code",
   "execution_count": 35,
   "id": "181c0542",
   "metadata": {},
   "outputs": [],
   "source": [
    "#24 May batches\n",
    "\n",
    "import json\n",
    "import requests\n",
    "\n",
    "from youtube_key import youtube_key\n",
    "\n",
    "batch_size = 50\n",
    "total_videos = 1000\n",
    "\n",
    "video_data = []\n",
    "\n",
    "next_page_token = None\n",
    "\n",
    "while len(video_data) < total_videos:\n",
    "    url = f\"https://youtube.googleapis.com/youtube/v3/videos?part=snippet%2CcontentDetails%2Cstatistics&chart=mostPopular&regionCode=US&maxResults={batch_size}&key={youtube_key}\"\n",
    "    \n",
    "    if next_page_token:\n",
    "        url += f\"&pageToken={next_page_token}\"\n",
    "    \n",
    "    response = requests.get(url)\n",
    "    data = response.json()\n",
    "    \n",
    "    video_data.extend(data.get('items', []))\n",
    "    \n",
    "    if 'nextPageToken' in data:\n",
    "        next_page_token = data['nextPageToken']\n",
    "    else:\n",
    "        break\n",
    "\n",
    "    if len(video_data) >= total_videos:\n",
    "        break\n",
    "\n",
    "    # Adjust the total_videos count to avoid exceeding the actual number of available videos\n",
    "    total_videos = min(total_videos, int(data.get('pageInfo', {}).get('totalResults', 0)))\n",
    "\n",
    "with open(\"Youtube_data_collection_batch3.json\", 'w') as file:\n",
    "    json.dump(video_data, file)\n"
   ]
  },
  {
   "cell_type": "code",
   "execution_count": 37,
   "id": "c204ed23",
   "metadata": {},
   "outputs": [
    {
     "data": {
      "text/plain": [
       "200"
      ]
     },
     "execution_count": 37,
     "metadata": {},
     "output_type": "execute_result"
    }
   ],
   "source": [
    "len (video_data)\n",
    "#check if this is working\n",
    "#look at the documentation"
   ]
  },
  {
   "cell_type": "markdown",
   "id": "37793f43",
   "metadata": {},
   "source": []
  },
  {
   "cell_type": "markdown",
   "id": "b42eef59",
   "metadata": {},
   "source": [
    "# May 25"
   ]
  },
  {
   "cell_type": "code",
   "execution_count": 1,
   "id": "4630ad90",
   "metadata": {},
   "outputs": [
    {
     "name": "stdout",
     "output_type": "stream",
     "text": [
      "Enter the date (YYYY-MM-DD): 2023-5-25\n"
     ]
    }
   ],
   "source": [
    "import json\n",
    "import requests\n",
    "\n",
    "from youtube_key import youtube_key\n",
    "\n",
    "date = input(\"Enter the date (YYYY-MM-DD): \")\n",
    "\n",
    "url = f\"https://youtube.googleapis.com/youtube/v3/videos?part=snippet%2CcontentDetails%2Cstatistics&chart=mostPopular&regionCode=US&maxResults=500&publishedAfter={date}T00:00:00Z&publishedBefore={date}T23:59:59Z&key={youtube_key}\"\n",
    "\n",
    "response = requests.get(url)\n",
    "data = response.json()\n",
    "\n",
    "video_data = data.get('items', [])\n",
    "\n",
    "with open(\"Youtube_data_collection_may25.json\", 'w') as file:\n",
    "    json.dump(video_data, file)"
   ]
  },
  {
   "cell_type": "code",
   "execution_count": 2,
   "id": "07289866",
   "metadata": {},
   "outputs": [
    {
     "data": {
      "text/plain": [
       "50"
      ]
     },
     "execution_count": 2,
     "metadata": {},
     "output_type": "execute_result"
    }
   ],
   "source": [
    "len (video_data)"
   ]
  },
  {
   "cell_type": "code",
   "execution_count": 4,
   "id": "ba465e4e",
   "metadata": {},
   "outputs": [],
   "source": [
    "#now for batches \n",
    "import json\n",
    "import requests\n",
    "\n",
    "from youtube_key import youtube_key\n",
    "\n",
    "batch_size = 50\n",
    "total_videos = 1000\n",
    "\n",
    "video_data = []\n",
    "\n",
    "next_page_token = None\n",
    "\n",
    "while len(video_data) < total_videos:\n",
    "    url = f\"https://youtube.googleapis.com/youtube/v3/videos?part=snippet%2CcontentDetails%2Cstatistics&chart=mostPopular&regionCode=US&maxResults={batch_size}&key={youtube_key}\"\n",
    "    \n",
    "    if next_page_token:\n",
    "        url += f\"&pageToken={next_page_token}\"\n",
    "    \n",
    "    response = requests.get(url)\n",
    "    data = response.json()\n",
    "    \n",
    "    video_data.extend(data.get('items', []))\n",
    "    \n",
    "    if 'nextPageToken' in data:\n",
    "        next_page_token = data['nextPageToken']\n",
    "    else:\n",
    "        break\n",
    "\n",
    "    if len(video_data) >= total_videos:\n",
    "        break\n",
    "\n",
    "    # Adjust the total_videos count to avoid exceeding the actual number of available videos\n",
    "    total_videos = min(total_videos, int(data.get('pageInfo', {}).get('totalResults', 0)))\n",
    "\n",
    "with open(\"Youtube_data_collection_batch_May25.json\", 'w') as file:\n",
    "    json.dump(video_data, file)\n",
    "\n"
   ]
  },
  {
   "cell_type": "code",
   "execution_count": 6,
   "id": "e8bea4a3",
   "metadata": {},
   "outputs": [
    {
     "data": {
      "text/plain": [
       "200"
      ]
     },
     "execution_count": 6,
     "metadata": {},
     "output_type": "execute_result"
    }
   ],
   "source": [
    "len (video_data)\n"
   ]
  },
  {
   "cell_type": "code",
   "execution_count": null,
   "id": "7f893c54",
   "metadata": {},
   "outputs": [],
   "source": [
    "#comments: working?"
   ]
  },
  {
   "cell_type": "markdown",
   "id": "92127686",
   "metadata": {},
   "source": []
  },
  {
   "cell_type": "code",
   "execution_count": null,
   "id": "dc1e71e2",
   "metadata": {},
   "outputs": [],
   "source": [
    "\n",
    "    \n",
    "\n",
    "a = json.loads(jsonStringA)\n",
    "b = json.loads(jsonStringB)\n",
    "c = dict(a.items() + b.items())\n",
    "\n",
    "\n",
    "\n",
    "  [5:37 PM] Kaylea Champion\n",
    "    myData = \n",
    "\n",
    "    myData['May24'] = May24\n",
    "\n",
    "    myData['May25'] = May25\n"
   ]
  },
  {
   "cell_type": "code",
   "execution_count": null,
   "id": "f3502a88",
   "metadata": {},
   "outputs": [],
   "source": [
    "#how to get data for the past months and now\n",
    "#how to get to see the keywords in the data \n",
    "#how to get details such as date and time uploaded, the tags used in the video, to seperate the titles that have question mark on them"
   ]
  },
  {
   "cell_type": "code",
   "execution_count": null,
   "id": "c540dd40",
   "metadata": {},
   "outputs": [],
   "source": []
  },
  {
   "cell_type": "code",
   "execution_count": null,
   "id": "8a9fdd26",
   "metadata": {},
   "outputs": [],
   "source": [
    "#keywords showcase like josh\n",
    "import matplotlib.pyplot as plt\n",
    "import calendar\n",
    "from adjustText import adjust_text\n",
    "\n",
    "plt.figure(figsize=(12,12))\n",
    "ax = plt.subplot(111, polar=True)\n",
    "plt.xticks(angles, calendar.month_abbr[1:], color='grey', size=8)\n",
    "\n",
    "# exclude month names / abbreviations\n",
    "exclude = (\n",
    "    [m.lower() for m in calendar.month_name]\n",
    "    + [m.lower() for m in calendar.month_abbr]\n",
    "    + [\"sept\"]\n",
    ")\n",
    "\n",
    "texts = []\n",
    "\n",
    "for word in common_words:\n",
    "    if word in exclude: continue\n",
    "    (angle, radius) = seasonality(word_stats(word))\n",
    "    if radius < 0.3: continue\n",
    "    ax.plot(angle, radius, \"bo\")\n",
    "    texts.append(ax.text(angle + 0.03, radius, word))\n",
    "    \n",
    "adjust_text(texts, only_move={'points':'y', 'texts':'y'}, arrowprops=dict(arrowstyle=\"->\", color='r', lw=0.5))\n",
    "\n",
    "plt.show()"
   ]
  },
  {
   "cell_type": "markdown",
   "id": "c0250e9e",
   "metadata": {},
   "source": [
    "a loop code so that you can collect the data for the past year and this year; can you pass a date parameter for your request; list where there's a date for the past year, for date in gian_datelist, save the blob in json; commonality, differences"
   ]
  },
  {
   "cell_type": "code",
   "execution_count": null,
   "id": "51b3c174",
   "metadata": {},
   "outputs": [],
   "source": []
  },
  {
   "cell_type": "markdown",
   "id": "2a25afc9",
   "metadata": {},
   "source": [
    "# May 26"
   ]
  },
  {
   "cell_type": "code",
   "execution_count": 1,
   "id": "95b175e8",
   "metadata": {},
   "outputs": [
    {
     "name": "stdout",
     "output_type": "stream",
     "text": [
      "Enter the date (YYYY-MM-DD): 2023-05-26\n"
     ]
    }
   ],
   "source": [
    "import json\n",
    "import requests\n",
    "\n",
    "from youtube_key import youtube_key\n",
    "\n",
    "date = input(\"Enter the date (YYYY-MM-DD): \")\n",
    "\n",
    "url = f\"https://youtube.googleapis.com/youtube/v3/videos?part=snippet%2CcontentDetails%2Cstatistics&chart=mostPopular&regionCode=US&maxResults=500&publishedAfter={date}T00:00:00Z&publishedBefore={date}T23:59:59Z&key={youtube_key}\"\n",
    "\n",
    "response = requests.get(url)\n",
    "data = response.json()\n",
    "\n",
    "video_data = data.get('items', [])\n",
    "\n",
    "with open(\"Youtube_data_collection_may26.json\", 'w') as file:\n",
    "    json.dump(video_data, file)"
   ]
  },
  {
   "cell_type": "code",
   "execution_count": 2,
   "id": "044811fb",
   "metadata": {},
   "outputs": [],
   "source": [
    "import json\n",
    "import requests\n",
    "\n",
    "from youtube_key import youtube_key\n",
    "\n",
    "batch_size = 50\n",
    "total_videos = 1000\n",
    "\n",
    "video_data = []\n",
    "\n",
    "next_page_token = None\n",
    "\n",
    "while len(video_data) < total_videos:\n",
    "    url = f\"https://youtube.googleapis.com/youtube/v3/videos?part=snippet%2CcontentDetails%2Cstatistics&chart=mostPopular&regionCode=US&maxResults={batch_size}&key={youtube_key}\"\n",
    "    \n",
    "    if next_page_token:\n",
    "        url += f\"&pageToken={next_page_token}\"\n",
    "    \n",
    "    response = requests.get(url)\n",
    "    data = response.json()\n",
    "    \n",
    "    video_data.extend(data.get('items', []))\n",
    "    \n",
    "    if 'nextPageToken' in data:\n",
    "        next_page_token = data['nextPageToken']\n",
    "    else:\n",
    "        break\n",
    "\n",
    "    if len(video_data) >= total_videos:\n",
    "        break\n",
    "\n",
    "    # Adjust the total_videos count to avoid exceeding the actual number of available videos\n",
    "    total_videos = min(total_videos, int(data.get('pageInfo', {}).get('totalResults', 0)))\n",
    "\n",
    "with open(\"Youtube_data_collection_batch_May26.json\", 'w') as file:\n",
    "    json.dump(video_data, file)\n"
   ]
  },
  {
   "cell_type": "markdown",
   "id": "ce6b5382",
   "metadata": {},
   "source": [
    "# May 27"
   ]
  },
  {
   "cell_type": "code",
   "execution_count": 5,
   "id": "689ef4e9",
   "metadata": {},
   "outputs": [
    {
     "name": "stdout",
     "output_type": "stream",
     "text": [
      "Enter the date (YYYY-MM-DD): 2023-05-27\n"
     ]
    }
   ],
   "source": [
    "import json\n",
    "import requests\n",
    "\n",
    "from youtube_key import youtube_key\n",
    "\n",
    "date = input(\"Enter the date (YYYY-MM-DD): \")\n",
    "\n",
    "url = f\"https://youtube.googleapis.com/youtube/v3/videos?part=snippet%2CcontentDetails%2Cstatistics&chart=mostPopular&regionCode=US&maxResults=500&publishedAfter={date}T00:00:00Z&publishedBefore={date}T23:59:59Z&key={youtube_key}\"\n",
    "\n",
    "response = requests.get(url)\n",
    "data = response.json()\n",
    "\n",
    "video_data = data.get('items', [])\n",
    "\n",
    "with open(\"Youtube_data_collection_may27.json\", 'w') as file:\n",
    "    json.dump(video_data, file)"
   ]
  },
  {
   "cell_type": "code",
   "execution_count": 6,
   "id": "95ec0dc6",
   "metadata": {},
   "outputs": [],
   "source": [
    "import json\n",
    "import requests\n",
    "\n",
    "from youtube_key import youtube_key\n",
    "\n",
    "batch_size = 50\n",
    "total_videos = 1000\n",
    "\n",
    "video_data = []\n",
    "\n",
    "next_page_token = None\n",
    "\n",
    "while len(video_data) < total_videos:\n",
    "    url = f\"https://youtube.googleapis.com/youtube/v3/videos?part=snippet%2CcontentDetails%2Cstatistics&chart=mostPopular&regionCode=US&maxResults={batch_size}&key={youtube_key}\"\n",
    "    \n",
    "    if next_page_token:\n",
    "        url += f\"&pageToken={next_page_token}\"\n",
    "    \n",
    "    response = requests.get(url)\n",
    "    data = response.json()\n",
    "    \n",
    "    video_data.extend(data.get('items', []))\n",
    "    \n",
    "    if 'nextPageToken' in data:\n",
    "        next_page_token = data['nextPageToken']\n",
    "    else:\n",
    "        break\n",
    "\n",
    "    if len(video_data) >= total_videos:\n",
    "        break\n",
    "\n",
    "    # Adjust the total_videos count to avoid exceeding the actual number of available videos\n",
    "    total_videos = min(total_videos, int(data.get('pageInfo', {}).get('totalResults', 0)))\n",
    "\n",
    "with open(\"Youtube_data_collection_batch_May27.json\", 'w') as file:\n",
    "    json.dump(video_data, file)"
   ]
  },
  {
   "cell_type": "markdown",
   "id": "e66034fe",
   "metadata": {},
   "source": [
    "# May 28"
   ]
  },
  {
   "cell_type": "code",
   "execution_count": 4,
   "id": "aafccf41",
   "metadata": {},
   "outputs": [
    {
     "name": "stdout",
     "output_type": "stream",
     "text": [
      "Enter the date (YYYY-MM-DD): 2023-05-28\n"
     ]
    }
   ],
   "source": [
    "import json\n",
    "import requests\n",
    "\n",
    "from youtube_key import youtube_key\n",
    "\n",
    "date = input(\"Enter the date (YYYY-MM-DD): \")\n",
    "\n",
    "url = f\"https://youtube.googleapis.com/youtube/v3/videos?part=snippet%2CcontentDetails%2Cstatistics&chart=mostPopular&regionCode=US&maxResults=500&publishedAfter={date}T00:00:00Z&publishedBefore={date}T23:59:59Z&key={youtube_key}\"\n",
    "\n",
    "response = requests.get(url)\n",
    "data = response.json()\n",
    "\n",
    "video_data = data.get('items', [])\n",
    "\n",
    "with open(\"Youtube_data_collection_may28.json\", 'w') as file:\n",
    "    json.dump(video_data, file)"
   ]
  },
  {
   "cell_type": "code",
   "execution_count": 5,
   "id": "ef9d89af",
   "metadata": {},
   "outputs": [],
   "source": [
    "import json\n",
    "import requests\n",
    "\n",
    "from youtube_key import youtube_key\n",
    "\n",
    "batch_size = 50\n",
    "total_videos = 1000\n",
    "\n",
    "video_data = []\n",
    "\n",
    "next_page_token = None\n",
    "\n",
    "while len(video_data) < total_videos:\n",
    "    url = f\"https://youtube.googleapis.com/youtube/v3/videos?part=snippet%2CcontentDetails%2Cstatistics&chart=mostPopular&regionCode=US&maxResults={batch_size}&key={youtube_key}\"\n",
    "    \n",
    "    if next_page_token:\n",
    "        url += f\"&pageToken={next_page_token}\"\n",
    "    \n",
    "    response = requests.get(url)\n",
    "    data = response.json()\n",
    "    \n",
    "    video_data.extend(data.get('items', []))\n",
    "    \n",
    "    if 'nextPageToken' in data:\n",
    "        next_page_token = data['nextPageToken']\n",
    "    else:\n",
    "        break\n",
    "\n",
    "    if len(video_data) >= total_videos:\n",
    "        break\n",
    "\n",
    "    # Adjust the total_videos count to avoid exceeding the actual number of available videos\n",
    "    total_videos = min(total_videos, int(data.get('pageInfo', {}).get('totalResults', 0)))\n",
    "\n",
    "with open(\"Youtube_data_collection_batch_May28.json\", 'w') as file:\n",
    "    json.dump(video_data, file)"
   ]
  },
  {
   "cell_type": "code",
   "execution_count": null,
   "id": "5f2f799d",
   "metadata": {},
   "outputs": [],
   "source": []
  }
 ],
 "metadata": {
  "kernelspec": {
   "display_name": "Python 3 (ipykernel)",
   "language": "python",
   "name": "python3"
  },
  "language_info": {
   "codemirror_mode": {
    "name": "ipython",
    "version": 3
   },
   "file_extension": ".py",
   "mimetype": "text/x-python",
   "name": "python",
   "nbconvert_exporter": "python",
   "pygments_lexer": "ipython3",
   "version": "3.10.9"
  }
 },
 "nbformat": 4,
 "nbformat_minor": 5
}
