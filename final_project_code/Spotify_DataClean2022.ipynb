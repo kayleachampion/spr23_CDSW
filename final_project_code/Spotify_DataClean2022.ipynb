{
 "cells": [
  {
   "cell_type": "markdown",
   "id": "ebfd0d00",
   "metadata": {},
   "source": [
    "import json\n",
    "import pandas as pd\n",
    "#building our function\n",
    "def build_songs_dataframe(audio_features_filename):\n",
    "\n",
    "    songs = []\n",
    "    with open(audio_features_filename, \"r\") as input_file:\n",
    "        for line in input_file.readlines():\n",
    "            song_features = json.loads(line)[0]\n",
    "            songs.append(song_features)\n",
    "        \n",
    "    return pd.DataFrame(songs)"
   ]
  },
  {
   "cell_type": "code",
   "execution_count": 16,
   "id": "ee072d28",
   "metadata": {},
   "outputs": [],
   "source": [
    "from build_songs_dataframe import *\n",
    "df_songs = build_songs_dataframe(\"2022_playlist_audio_features.jsonl\")\n",
    "df_songs[\"year\"]=2022"
   ]
  },
  {
   "cell_type": "code",
   "execution_count": 17,
   "id": "c163ceaf",
   "metadata": {},
   "outputs": [
    {
     "name": "stdout",
     "output_type": "stream",
     "text": [
      "danceability mean 0.6884599999999998\n"
     ]
    }
   ],
   "source": [
    "print(\"danceability mean\", df_songs['danceability'].mean())"
   ]
  },
  {
   "cell_type": "code",
   "execution_count": 18,
   "id": "6fc76e96",
   "metadata": {},
   "outputs": [
    {
     "name": "stdout",
     "output_type": "stream",
     "text": [
      "energy mean 0.67278\n"
     ]
    }
   ],
   "source": [
    "print(\"energy mean\", df_songs['energy'].mean())"
   ]
  },
  {
   "cell_type": "code",
   "execution_count": 19,
   "id": "f5219855",
   "metadata": {},
   "outputs": [
    {
     "name": "stdout",
     "output_type": "stream",
     "text": [
      "loudness mean -5.78836\n"
     ]
    }
   ],
   "source": [
    "print(\"loudness mean\", df_songs['loudness'].mean())\n",
    "\n",
    "#The overall loudness of a track in decibels (dB). Loudness values are averaged across the entire trackand are useful for\n",
    "#comparing relative loudness of tracks. Loudness is the quality of a sound that is\n",
    "#the primary psychological correlate of physical strength (amplitude).\n",
    "#Values typically range between -60 and 0 db."
   ]
  },
  {
   "cell_type": "code",
   "execution_count": 20,
   "id": "30bf04a7",
   "metadata": {},
   "outputs": [
    {
     "name": "stdout",
     "output_type": "stream",
     "text": [
      "mode mean 0.48\n"
     ]
    }
   ],
   "source": [
    "print(\"mode mean\", df_songs['mode'].mean())"
   ]
  },
  {
   "cell_type": "code",
   "execution_count": 21,
   "id": "b75a6b68",
   "metadata": {},
   "outputs": [
    {
     "name": "stdout",
     "output_type": "stream",
     "text": [
      "speechiness mean 0.06912\n"
     ]
    }
   ],
   "source": [
    "print(\"speechiness mean\", df_songs['speechiness'].mean())"
   ]
  },
  {
   "cell_type": "code",
   "execution_count": 22,
   "id": "6dfa8b83",
   "metadata": {},
   "outputs": [
    {
     "name": "stdout",
     "output_type": "stream",
     "text": [
      "acousticness mean 0.2366532\n"
     ]
    }
   ],
   "source": [
    "print(\"acousticness mean\", df_songs['acousticness'].mean())"
   ]
  },
  {
   "cell_type": "code",
   "execution_count": 23,
   "id": "caacc51d",
   "metadata": {},
   "outputs": [
    {
     "name": "stdout",
     "output_type": "stream",
     "text": [
      "instrumentalness mean 0.0013933368\n"
     ]
    }
   ],
   "source": [
    "print(\"instrumentalness mean\", df_songs['instrumentalness'].mean())"
   ]
  },
  {
   "cell_type": "code",
   "execution_count": 24,
   "id": "482dca63",
   "metadata": {},
   "outputs": [
    {
     "name": "stdout",
     "output_type": "stream",
     "text": [
      "liveness mean 0.17881599999999997\n"
     ]
    }
   ],
   "source": [
    "print(\"liveness mean\", df_songs['liveness'].mean())"
   ]
  },
  {
   "cell_type": "code",
   "execution_count": 25,
   "id": "15c1d103",
   "metadata": {},
   "outputs": [
    {
     "name": "stdout",
     "output_type": "stream",
     "text": [
      "valence mean 0.492796\n"
     ]
    }
   ],
   "source": [
    "print(\"valence mean\", df_songs['valence'].mean())"
   ]
  },
  {
   "cell_type": "code",
   "execution_count": 26,
   "id": "ef377a9d",
   "metadata": {},
   "outputs": [
    {
     "name": "stdout",
     "output_type": "stream",
     "text": [
      "tempo mean 120.62176000000001\n"
     ]
    }
   ],
   "source": [
    "print(\"tempo mean\", df_songs['tempo'].mean())"
   ]
  },
  {
   "cell_type": "code",
   "execution_count": 27,
   "id": "07e25829",
   "metadata": {},
   "outputs": [
    {
     "name": "stdout",
     "output_type": "stream",
     "text": [
      "time_signature mean 3.92\n"
     ]
    }
   ],
   "source": [
    "print(\"time_signature mean\", df_songs['time_signature'].mean())"
   ]
  },
  {
   "cell_type": "code",
   "execution_count": 28,
   "id": "2b766668",
   "metadata": {},
   "outputs": [
    {
     "data": {
      "text/plain": [
       "<Axes: >"
      ]
     },
     "execution_count": 28,
     "metadata": {},
     "output_type": "execute_result"
    },
    {
     "data": {
      "image/png": "[encoded data removed]",
      "text/plain": [
       "<Figure size 640x480 with 1 Axes>"
      ]
     },
     "metadata": {},
     "output_type": "display_data"
    }
   ],
   "source": [
    "df_songs[\"key\"].hist()"
   ]
  },
  {
   "cell_type": "code",
   "execution_count": 29,
   "id": "c42c23b7",
   "metadata": {},
   "outputs": [
    {
     "data": {
      "text/plain": [
       "<Axes: >"
      ]
     },
     "execution_count": 29,
     "metadata": {},
     "output_type": "execute_result"
    },
    {
     "data": {
      "image/png": "[encoded data removed]",
      "text/plain": [
       "<Figure size 640x480 with 1 Axes>"
      ]
     },
     "metadata": {},
     "output_type": "display_data"
    }
   ],
   "source": [
    "df_songs[\"mode\"].hist()"
   ]
  },
  {
   "cell_type": "code",
   "execution_count": 30,
   "id": "12a5372e",
   "metadata": {},
   "outputs": [
    {
     "data": {
      "text/plain": [
       "<Axes: >"
      ]
     },
     "execution_count": 30,
     "metadata": {},
     "output_type": "execute_result"
    },
    {
     "data": {
      "image/png": "[encoded data removed]",
      "text/plain": [
       "<Figure size 640x480 with 1 Axes>"
      ]
     },
     "metadata": {},
     "output_type": "display_data"
    }
   ],
   "source": [
    "df_songs[\"time_signature\"].hist()"
   ]
  },
  {
   "cell_type": "markdown",
   "id": "6423b7c0",
   "metadata": {},
   "source": [
    "Excel Spreadsheet with data clean\n"
   ]
  },
  {
   "cell_type": "code",
   "execution_count": 31,
   "id": "b3b66a20",
   "metadata": {},
   "outputs": [
    {
     "data": {
      "text/html": [
       "<div>\n",
       "<style scoped>\n",
       "    .dataframe tbody tr th:only-of-type {\n",
       "        vertical-align: middle;\n",
       "    }\n",
       "\n",
       "    .dataframe tbody tr th {\n",
       "        vertical-align: top;\n",
       "    }\n",
       "\n",
       "    .dataframe thead th {\n",
       "        text-align: right;\n",
       "    }\n",
       "</style>\n",
       "<table border=\"1\" class=\"dataframe\">\n",
       "  <thead>\n",
       "    <tr style=\"text-align: right;\">\n",
       "      <th></th>\n",
       "      <th>danceability</th>\n",
       "      <th>energy</th>\n",
       "      <th>key</th>\n",
       "      <th>loudness</th>\n",
       "      <th>mode</th>\n",
       "      <th>speechiness</th>\n",
       "      <th>acousticness</th>\n",
       "      <th>instrumentalness</th>\n",
       "      <th>liveness</th>\n",
       "      <th>valence</th>\n",
       "      <th>tempo</th>\n",
       "      <th>duration_ms</th>\n",
       "      <th>time_signature</th>\n",
       "      <th>year</th>\n",
       "    </tr>\n",
       "  </thead>\n",
       "  <tbody>\n",
       "    <tr>\n",
       "      <th>count</th>\n",
       "      <td>50.000000</td>\n",
       "      <td>50.000000</td>\n",
       "      <td>50.000000</td>\n",
       "      <td>50.00000</td>\n",
       "      <td>50.000000</td>\n",
       "      <td>50.000000</td>\n",
       "      <td>50.000000</td>\n",
       "      <td>50.000000</td>\n",
       "      <td>50.000000</td>\n",
       "      <td>50.000000</td>\n",
       "      <td>50.000000</td>\n",
       "      <td>50.000000</td>\n",
       "      <td>50.000000</td>\n",
       "      <td>50.0</td>\n",
       "    </tr>\n",
       "    <tr>\n",
       "      <th>mean</th>\n",
       "      <td>0.688460</td>\n",
       "      <td>0.672780</td>\n",
       "      <td>5.380000</td>\n",
       "      <td>-5.78836</td>\n",
       "      <td>0.480000</td>\n",
       "      <td>0.069120</td>\n",
       "      <td>0.236653</td>\n",
       "      <td>0.001393</td>\n",
       "      <td>0.178816</td>\n",
       "      <td>0.492796</td>\n",
       "      <td>120.621760</td>\n",
       "      <td>203008.040000</td>\n",
       "      <td>3.920000</td>\n",
       "      <td>2022.0</td>\n",
       "    </tr>\n",
       "    <tr>\n",
       "      <th>std</th>\n",
       "      <td>0.134596</td>\n",
       "      <td>0.128748</td>\n",
       "      <td>3.697158</td>\n",
       "      <td>1.90153</td>\n",
       "      <td>0.504672</td>\n",
       "      <td>0.052539</td>\n",
       "      <td>0.245587</td>\n",
       "      <td>0.005335</td>\n",
       "      <td>0.137519</td>\n",
       "      <td>0.246616</td>\n",
       "      <td>29.314465</td>\n",
       "      <td>37215.978464</td>\n",
       "      <td>0.274048</td>\n",
       "      <td>0.0</td>\n",
       "    </tr>\n",
       "    <tr>\n",
       "      <th>min</th>\n",
       "      <td>0.380000</td>\n",
       "      <td>0.317000</td>\n",
       "      <td>0.000000</td>\n",
       "      <td>-13.12300</td>\n",
       "      <td>0.000000</td>\n",
       "      <td>0.025900</td>\n",
       "      <td>0.001460</td>\n",
       "      <td>0.000000</td>\n",
       "      <td>0.042400</td>\n",
       "      <td>0.084900</td>\n",
       "      <td>75.977000</td>\n",
       "      <td>141806.000000</td>\n",
       "      <td>3.000000</td>\n",
       "      <td>2022.0</td>\n",
       "    </tr>\n",
       "    <tr>\n",
       "      <th>25%</th>\n",
       "      <td>0.601750</td>\n",
       "      <td>0.617250</td>\n",
       "      <td>2.000000</td>\n",
       "      <td>-6.36525</td>\n",
       "      <td>0.000000</td>\n",
       "      <td>0.040225</td>\n",
       "      <td>0.040000</td>\n",
       "      <td>0.000000</td>\n",
       "      <td>0.090600</td>\n",
       "      <td>0.302000</td>\n",
       "      <td>98.527250</td>\n",
       "      <td>173522.750000</td>\n",
       "      <td>4.000000</td>\n",
       "      <td>2022.0</td>\n",
       "    </tr>\n",
       "    <tr>\n",
       "      <th>50%</th>\n",
       "      <td>0.699500</td>\n",
       "      <td>0.698500</td>\n",
       "      <td>5.000000</td>\n",
       "      <td>-5.51600</td>\n",
       "      <td>0.000000</td>\n",
       "      <td>0.048800</td>\n",
       "      <td>0.116500</td>\n",
       "      <td>0.000003</td>\n",
       "      <td>0.116500</td>\n",
       "      <td>0.468000</td>\n",
       "      <td>115.514000</td>\n",
       "      <td>206390.500000</td>\n",
       "      <td>4.000000</td>\n",
       "      <td>2022.0</td>\n",
       "    </tr>\n",
       "    <tr>\n",
       "      <th>75%</th>\n",
       "      <td>0.799750</td>\n",
       "      <td>0.763750</td>\n",
       "      <td>9.000000</td>\n",
       "      <td>-4.59650</td>\n",
       "      <td>1.000000</td>\n",
       "      <td>0.080075</td>\n",
       "      <td>0.340250</td>\n",
       "      <td>0.000066</td>\n",
       "      <td>0.239000</td>\n",
       "      <td>0.635750</td>\n",
       "      <td>137.495750</td>\n",
       "      <td>230367.000000</td>\n",
       "      <td>4.000000</td>\n",
       "      <td>2022.0</td>\n",
       "    </tr>\n",
       "    <tr>\n",
       "      <th>max</th>\n",
       "      <td>0.911000</td>\n",
       "      <td>0.893000</td>\n",
       "      <td>11.000000</td>\n",
       "      <td>-2.72400</td>\n",
       "      <td>1.000000</td>\n",
       "      <td>0.266000</td>\n",
       "      <td>0.891000</td>\n",
       "      <td>0.033000</td>\n",
       "      <td>0.658000</td>\n",
       "      <td>0.956000</td>\n",
       "      <td>185.727000</td>\n",
       "      <td>298933.000000</td>\n",
       "      <td>4.000000</td>\n",
       "      <td>2022.0</td>\n",
       "    </tr>\n",
       "  </tbody>\n",
       "</table>\n",
       "</div>"
      ],
      "text/plain": [
       "       danceability     energy        key  loudness       mode  speechiness  \\\n",
       "count     50.000000  50.000000  50.000000  50.00000  50.000000    50.000000   \n",
       "mean       0.688460   0.672780   5.380000  -5.78836   0.480000     0.069120   \n",
       "std        0.134596   0.128748   3.697158   1.90153   0.504672     0.052539   \n",
       "min        0.380000   0.317000   0.000000 -13.12300   0.000000     0.025900   \n",
       "25%        0.601750   0.617250   2.000000  -6.36525   0.000000     0.040225   \n",
       "50%        0.699500   0.698500   5.000000  -5.51600   0.000000     0.048800   \n",
       "75%        0.799750   0.763750   9.000000  -4.59650   1.000000     0.080075   \n",
       "max        0.911000   0.893000  11.000000  -2.72400   1.000000     0.266000   \n",
       "\n",
       "       acousticness  instrumentalness   liveness    valence       tempo  \\\n",
       "count     50.000000         50.000000  50.000000  50.000000   50.000000   \n",
       "mean       0.236653          0.001393   0.178816   0.492796  120.621760   \n",
       "std        0.245587          0.005335   0.137519   0.246616   29.314465   \n",
       "min        0.001460          0.000000   0.042400   0.084900   75.977000   \n",
       "25%        0.040000          0.000000   0.090600   0.302000   98.527250   \n",
       "50%        0.116500          0.000003   0.116500   0.468000  115.514000   \n",
       "75%        0.340250          0.000066   0.239000   0.635750  137.495750   \n",
       "max        0.891000          0.033000   0.658000   0.956000  185.727000   \n",
       "\n",
       "         duration_ms  time_signature    year  \n",
       "count      50.000000       50.000000    50.0  \n",
       "mean   203008.040000        3.920000  2022.0  \n",
       "std     37215.978464        0.274048     0.0  \n",
       "min    141806.000000        3.000000  2022.0  \n",
       "25%    173522.750000        4.000000  2022.0  \n",
       "50%    206390.500000        4.000000  2022.0  \n",
       "75%    230367.000000        4.000000  2022.0  \n",
       "max    298933.000000        4.000000  2022.0  "
      ]
     },
     "execution_count": 31,
     "metadata": {},
     "output_type": "execute_result"
    }
   ],
   "source": [
    "df_songs.describe()"
   ]
  },
  {
   "cell_type": "code",
   "execution_count": null,
   "id": "495978ac",
   "metadata": {},
   "outputs": [],
   "source": []
  }
 ],
 "metadata": {
  "kernelspec": {
   "display_name": "Python 3 (ipykernel)",
   "language": "python",
   "name": "python3"
  },
  "language_info": {
   "codemirror_mode": {
    "name": "ipython",
    "version": 3
   },
   "file_extension": ".py",
   "mimetype": "text/x-python",
   "name": "python",
   "nbconvert_exporter": "python",
   "pygments_lexer": "ipython3",
   "version": "3.10.9"
  }
 },
 "nbformat": 4,
 "nbformat_minor": 5
}
