{
 "cells": [
  {
   "cell_type": "code",
   "execution_count": 2,
   "id": "69266f22",
   "metadata": {},
   "outputs": [],
   "source": [
    "import zstandard\n",
    "import io\n",
    "import json\n",
    "from datetime import datetime"
   ]
  },
  {
   "cell_type": "code",
   "execution_count": 3,
   "id": "ef3a88a8",
   "metadata": {},
   "outputs": [],
   "source": [
    "def time_conversion_At(given_time):\n",
    "    time = int(given_time)/1000\n",
    "    new_time = datetime.fromtimestamp(time)\n",
    "    return new_time"
   ]
  },
  {
   "cell_type": "code",
   "execution_count": 4,
   "id": "750c828c",
   "metadata": {},
   "outputs": [],
   "source": [
    "def time_conversion_utc(given_time):\n",
    "    time = int(given_time)\n",
    "    new_time = datetime.fromtimestamp(time)\n",
    "    return new_time"
   ]
  },
  {
   "cell_type": "markdown",
   "id": "8c7343d0",
   "metadata": {},
   "source": [
    "---"
   ]
  },
  {
   "cell_type": "markdown",
   "id": "db499055",
   "metadata": {},
   "source": [
    "r/kindness"
   ]
  },
  {
   "cell_type": "code",
   "execution_count": 5,
   "id": "2cfc319e",
   "metadata": {},
   "outputs": [],
   "source": [
    "with open(\"tiana_submissions_kindness-20230523.json.zst\", 'rb') as fh, open(\"kindness_submissions_clean.tsv\", 'w') as output_file:\n",
    "    dctx = zstandard.ZstdDecompressor()\n",
    "    stream_reader = dctx.stream_reader(fh)\n",
    "    text_stream = io.TextIOWrapper(stream_reader, encoding = 'utf-8')\n",
    "    print(\"subreddit\\ttime\\ttext\\tauthor\\tauthor_id\\tupvotes\\tdownvotes\", file = output_file)\n",
    "    for line in text_stream:\n",
    "        submission = json.loads(line)\n",
    "        submission['selftext'] = submission['selftext'].replace('\\n', ' ')\n",
    "        submission['selftext'] = submission['selftext'].replace('\\r', ' ')\n",
    "        if submission['ups'] == None:\n",
    "            ups = 0\n",
    "        else:\n",
    "            ups = submission['ups']\n",
    "        if submission['downs'] == None:\n",
    "            downs = 0\n",
    "        else:\n",
    "            downs = submission['downs']\n",
    "        if submission['subreddit'] == 'kindness':\n",
    "            if '[removed]' not in submission['selftext']: \n",
    "                if '[deleted]' not in submission['selftext']:\n",
    "                    if not submission['selftext'] == '':\n",
    "                        print(f\"{submission['subreddit']}\\t{time_conversion_At(submission['CreatedAt'])}\\t{submission['selftext']}\\t{submission['author']}\\t,{submission['id']}\\t{ups}\\t{downs}\", file = output_file)"
   ]
  },
  {
   "cell_type": "code",
   "execution_count": 6,
   "id": "da830eb5",
   "metadata": {},
   "outputs": [],
   "source": [
    "with open(\"tiana_comments_kindness-20230523.json.zst\", 'rb') as fh, open(\"kindness_comments_clean.tsv\", 'w') as output_file:\n",
    "    dctx = zstandard.ZstdDecompressor()\n",
    "    stream_reader = dctx.stream_reader(fh)\n",
    "    text_stream = io.TextIOWrapper(stream_reader, encoding = 'utf-8')\n",
    "    print(\"subreddit\\ttime\\ttext\\tauthor\\tauthor_id\\tupvotes\\tdownvotes\", file = output_file)\n",
    "    for line in text_stream:\n",
    "        comment = json.loads(line)\n",
    "        comment['body'] = comment['body'].replace('\\n', ' ')\n",
    "        comment['body'] = comment['body'].replace('\\r', ' ')\n",
    "        if comment['ups'] == None:\n",
    "            ups = 0\n",
    "        else:\n",
    "            ups = comment['ups']\n",
    "        if comment['downs'] == None:\n",
    "            downs = 0\n",
    "        else:\n",
    "            downs = comment['downs']\n",
    "        if comment['subreddit'] == 'kindness':\n",
    "            if '[removed]' not in comment['body']: \n",
    "                if '[deleted]' not in comment['body']:\n",
    "                    if not comment['body'] == '':\n",
    "                        print(f\"{comment['subreddit']}\\t{time_conversion_At(comment['CreatedAt'])}\\t{comment['body']}\\t{comment['author']}\\t,{comment['id']}\\t{ups}\\t{downs}\", file = output_file)"
   ]
  },
  {
   "cell_type": "markdown",
   "id": "b1e5e7de",
   "metadata": {},
   "source": [
    "r/randomactsofkindness"
   ]
  },
  {
   "cell_type": "code",
   "execution_count": 7,
   "id": "9f079ecf",
   "metadata": {},
   "outputs": [],
   "source": [
    "with open(\"tiana_submissions_kindness-20230523.json.zst\", 'rb') as fh, open(\"randomactsofkindness_submissions_clean.tsv\", 'w') as output_file:\n",
    "    dctx = zstandard.ZstdDecompressor()\n",
    "    stream_reader = dctx.stream_reader(fh)\n",
    "    text_stream = io.TextIOWrapper(stream_reader, encoding = 'utf-8')\n",
    "    print(\"subreddit\\ttime\\ttext\\tauthor\\tauthor_id\\tupvotes\\tdownvotes\", file = output_file)\n",
    "    for line in text_stream:\n",
    "        submission = json.loads(line)\n",
    "        submission['selftext'] = submission['selftext'].replace('\\n', ' ')\n",
    "        submission['selftext'] = submission['selftext'].replace('\\r', ' ')\n",
    "        if submission['ups'] == None:\n",
    "            ups = 0\n",
    "        else:\n",
    "            ups = submission['ups']\n",
    "        if submission['downs'] == None:\n",
    "            downs = 0\n",
    "        else:\n",
    "            downs = submission['downs']\n",
    "        if submission['subreddit'] == 'randomactsofkindness':\n",
    "            if '[removed]' not in submission['selftext']: \n",
    "                if '[deleted]' not in submission['selftext']:\n",
    "                    if not submission['selftext'] == '':\n",
    "                        print(f\"{submission['subreddit']}\\t{time_conversion_At(submission['CreatedAt'])}\\t{submission['selftext']}\\t{submission['author']}\\t,{submission['id']}\\t{ups}\\t{downs}\", file = output_file)"
   ]
  },
  {
   "cell_type": "code",
   "execution_count": 8,
   "id": "e9955dbb",
   "metadata": {},
   "outputs": [],
   "source": [
    "with open(\"tiana_comments_kindness-20230523.json.zst\", 'rb') as fh, open(\"randomactsofkindness_comments_clean.tsv\", 'w') as output_file:\n",
    "    dctx = zstandard.ZstdDecompressor()\n",
    "    stream_reader = dctx.stream_reader(fh)\n",
    "    text_stream = io.TextIOWrapper(stream_reader, encoding = 'utf-8')\n",
    "    print(\"subreddit\\ttime\\ttext\\tauthor\\tauthor_id\\tupvotes\\tdownvotes\", file = output_file)\n",
    "    for line in text_stream:\n",
    "        comment = json.loads(line)\n",
    "        comment['body'] = comment['body'].replace('\\n', ' ')\n",
    "        comment['body'] = comment['body'].replace('\\r', ' ')\n",
    "        if comment['ups'] == None:\n",
    "            ups = 0\n",
    "        else:\n",
    "            ups = comment['ups']\n",
    "        if comment['downs'] == None:\n",
    "            downs = 0\n",
    "        else:\n",
    "            downs = comment['downs']\n",
    "        if comment['subreddit'] == 'randomactsofkindness':\n",
    "             if '[removed]' not in comment['body']: \n",
    "                if '[deleted]' not in comment['body']:\n",
    "                    if not comment['body'] == '':\n",
    "                        print(f\"{comment['subreddit']}\\t{time_conversion_At(comment['CreatedAt'])}\\t{comment['body']}\\t{comment['author']}\\t,{comment['id']}\\t{ups}\\t{downs}\", file = output_file)"
   ]
  },
  {
   "cell_type": "markdown",
   "id": "3dc1f375",
   "metadata": {},
   "source": [
    "r/KindVoice"
   ]
  },
  {
   "cell_type": "code",
   "execution_count": 9,
   "id": "9c1077ad",
   "metadata": {},
   "outputs": [],
   "source": [
    "with open(\"KindVoice_submissions.zst\", 'rb') as fh, open(\"KindVoice_submissions_clean.tsv\", 'w') as output_file:\n",
    "    dctx = zstandard.ZstdDecompressor()\n",
    "    stream_reader = dctx.stream_reader(fh)\n",
    "    text_stream = io.TextIOWrapper(stream_reader, encoding = 'utf-8')\n",
    "    print(\"subreddit\\ttime\\ttext\\tauthor\\tauthor_id\\tupvotes\\tdownvotes\", file = output_file)\n",
    "    for line in text_stream:\n",
    "        submission = json.loads(line)\n",
    "        submission['selftext'] = submission['selftext'].replace('\\n', ' ')\n",
    "        submission['selftext'] = submission['selftext'].replace('\\r', ' ')\n",
    "        if 'ups' in submission:\n",
    "            ups = submission['ups']\n",
    "        else:\n",
    "            ups = 0\n",
    "        if 'downs' in submission:\n",
    "            downs = submission['downs']\n",
    "        else:\n",
    "            downs = 0\n",
    "        if submission['subreddit'] == 'KindVoice':\n",
    "            if '[removed]' not in submission['selftext']: \n",
    "                if '[deleted]' not in submission['selftext']:\n",
    "                    if not submission['selftext'] == '':\n",
    "                        print(f\"{submission['subreddit']}\\t{time_conversion_utc(submission['created_utc'])}\\t{submission['selftext']}\\t{submission['author']}\\t,{submission['id']}\\t{ups}\\t{downs}\", file = output_file)"
   ]
  },
  {
   "cell_type": "code",
   "execution_count": 10,
   "id": "4bfb3345",
   "metadata": {},
   "outputs": [],
   "source": [
    "with open(\"KindVoice_comments.zst\", 'rb') as fh, open(\"KindVoice_comments_clean.tsv\", 'w') as output_file:\n",
    "    dctx = zstandard.ZstdDecompressor()\n",
    "    stream_reader = dctx.stream_reader(fh)\n",
    "    text_stream = io.TextIOWrapper(stream_reader, encoding = 'utf-8')\n",
    "    print(\"subreddit\\ttime\\ttext\\tauthor\\tauthor_id\\tupvotes\\tdownvotes\", file = output_file)\n",
    "    for line in text_stream:\n",
    "        comment = json.loads(line)\n",
    "        comment['body'] = comment['body'].replace('\\n', ' ')\n",
    "        comment['body'] = comment['body'].replace('\\r', ' ')\n",
    "        if 'ups' in comment:\n",
    "            ups = comment['ups']\n",
    "        else:\n",
    "            ups = 0\n",
    "        if 'downs' in comment:\n",
    "            downs = comment['downs']\n",
    "        else:\n",
    "            downs = 0\n",
    "        if comment['subreddit'] == 'KindVoice':\n",
    "            if comment['subreddit'] == 'KindVoice':\n",
    "                 if '[removed]' not in comment['body']: \n",
    "                    if '[deleted]' not in comment['body']:\n",
    "                        if not comment['body'] == '':\n",
    "                            print(f\"{comment['subreddit']}\\t{time_conversion_utc(comment['created_utc'])}\\t{comment['body']}\\t{comment['author']}\\t,{comment['id']}\\t{ups}\\t{downs}\", file = output_file)"
   ]
  },
  {
   "cell_type": "markdown",
   "id": "74946b92",
   "metadata": {},
   "source": [
    "r/RandomKindness"
   ]
  },
  {
   "cell_type": "code",
   "execution_count": 11,
   "id": "d90ec268",
   "metadata": {},
   "outputs": [],
   "source": [
    "with open(\"RandomKindness_submissions.zst\", 'rb') as fh, open(\"RandomKindness_submissions_clean.tsv\", 'w') as output_file:\n",
    "    dctx = zstandard.ZstdDecompressor()\n",
    "    stream_reader = dctx.stream_reader(fh)\n",
    "    text_stream = io.TextIOWrapper(stream_reader, encoding = 'utf-8')\n",
    "    print(\"subreddit\\ttime\\ttext\\tauthor\\tauthor_id\\tupvotes\\tdownvotes\", file = output_file)\n",
    "    for line in text_stream:\n",
    "        submission = json.loads(line)\n",
    "        submission['selftext'] = submission['selftext'].replace('\\n', ' ')\n",
    "        submission['selftext'] = submission['selftext'].replace('\\r', ' ')\n",
    "        if 'ups' in submission:\n",
    "            ups = submission['ups']\n",
    "        else:\n",
    "            ups = 0\n",
    "        if 'downs' in submission:\n",
    "            downs = submission['downs']\n",
    "        else:\n",
    "            downs = 0\n",
    "        if submission['subreddit'] == 'RandomKindness':\n",
    "            if '[removed]' not in submission['selftext']: \n",
    "                if '[deleted]' not in submission['selftext']:\n",
    "                    if not submission['selftext'] == '':\n",
    "                        print(f\"{submission['subreddit']}\\t{time_conversion_utc(submission['created_utc'])}\\t{submission['selftext']}\\t{submission['author']}\\t,{submission['id']}\\t{ups}\\t{downs}\", file = output_file)"
   ]
  },
  {
   "cell_type": "code",
   "execution_count": 12,
   "id": "135319a9",
   "metadata": {},
   "outputs": [],
   "source": [
    "with open(\"RandomKindness_comments.zst\", 'rb') as fh, open(\"RandomKindness_comments_clean.tsv\", 'w') as output_file:\n",
    "    dctx = zstandard.ZstdDecompressor()\n",
    "    stream_reader = dctx.stream_reader(fh)\n",
    "    text_stream = io.TextIOWrapper(stream_reader, encoding = 'utf-8')\n",
    "    print(\"subreddit\\ttime\\ttext\\tauthor\\tauthor_id\\tupvotes\\tdownvotes\", file = output_file)\n",
    "    for line in text_stream:\n",
    "        comment = json.loads(line)\n",
    "        comment['body'] = comment['body'].replace('\\n', ' ')\n",
    "        comment['body'] = comment['body'].replace('\\r', ' ')\n",
    "        if 'ups' in comment:\n",
    "            ups = comment['ups']\n",
    "        else:\n",
    "            ups = 0\n",
    "        if 'downs' in comment:\n",
    "            downs = comment['downs']\n",
    "        else:\n",
    "            downs = 0\n",
    "        if comment['subreddit'] == 'RandomKindness':\n",
    "             if '[removed]' not in comment['body']: \n",
    "                if '[deleted]' not in comment['body']:\n",
    "                    if not comment['body'] == '':\n",
    "                        print(f\"{comment['subreddit']}\\t{time_conversion_utc(comment['created_utc'])}\\t{comment['body']}\\t{comment['author']}\\t,{comment['id']}\\t{ups}\\t{downs}\", file = output_file)"
   ]
  },
  {
   "cell_type": "markdown",
   "id": "32f5f80d",
   "metadata": {},
   "source": [
    "******subseuqent analyses have been done in Excel + SPSS :)******"
   ]
  }
 ],
 "metadata": {
  "kernelspec": {
   "display_name": "Python 3 (ipykernel)",
   "language": "python",
   "name": "python3"
  },
  "language_info": {
   "codemirror_mode": {
    "name": "ipython",
    "version": 3
   },
   "file_extension": ".py",
   "mimetype": "text/x-python",
   "name": "python",
   "nbconvert_exporter": "python",
   "pygments_lexer": "ipython3",
   "version": "3.10.9"
  }
 },
 "nbformat": 4,
 "nbformat_minor": 5
}
