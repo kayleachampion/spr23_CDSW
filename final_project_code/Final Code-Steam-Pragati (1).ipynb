{
 "cells": [
  {
   "cell_type": "code",
   "execution_count": 110,
   "id": "fd3d08d7-83bc-435e-b6e6-9b53132f95a5",
   "metadata": {},
   "outputs": [],
   "source": [
    "import requests\n",
    "import json\n",
    "import time"
   ]
  },
  {
   "cell_type": "code",
   "execution_count": 87,
   "id": "d9e7571b-bef7-4f13-a309-b3d429c850e6",
   "metadata": {},
   "outputs": [],
   "source": [
    "# fetching games list from Free2game\n",
    "def get_free2game_games():\n",
    "    url = (\"https://www.freetogame.com/api/games\")\n",
    "\n",
    "    response = requests.get(url)\n",
    "\n",
    "    if not response.status_code == 200:\n",
    "        print(\"ERROR, request not OK\")\n",
    "    \n",
    "    data = response.json()\n",
    "    return data"
   ]
  },
  {
   "cell_type": "code",
   "execution_count": 88,
   "id": "56fd8310-6f4e-436d-90ce-0507068ebf41",
   "metadata": {},
   "outputs": [],
   "source": [
    "data = get_free2game_games()"
   ]
  },
  {
   "cell_type": "code",
   "execution_count": null,
   "id": "e07f40fe-3a30-44c2-be1a-3bbfb04c422f",
   "metadata": {},
   "outputs": [],
   "source": []
  },
  {
   "cell_type": "code",
   "execution_count": 27,
   "id": "e8b1690e-3a35-415c-ba2c-2b6bf117de00",
   "metadata": {},
   "outputs": [],
   "source": [
    "# storing the api data in local json file\n",
    "with open(\"free2game_games.json\", 'w') as my_file:\n",
    "    data_string = json.dumps(data)\n",
    "    print(data_string, file=my_file)"
   ]
  },
  {
   "cell_type": "code",
   "execution_count": null,
   "id": "880702cf-7fb9-42c4-a0a2-b49331f32640",
   "metadata": {},
   "outputs": [],
   "source": []
  },
  {
   "cell_type": "code",
   "execution_count": null,
   "id": "0f59d945-9b22-4559-9e6c-3ef3c2e51825",
   "metadata": {},
   "outputs": [],
   "source": [
    "# fetching games list from steam api"
   ]
  },
  {
   "cell_type": "code",
   "execution_count": 82,
   "id": "ae52c070-677b-4914-b97e-0136d264e72c",
   "metadata": {},
   "outputs": [],
   "source": [
    "def get_steam_games():\n",
    "    url = (\"https://api.steampowered.com/ISteamApps/GetAppList/v2/\")\n",
    "\n",
    "    response = requests.get(url)\n",
    "\n",
    "    if not response.status_code == 200:\n",
    "        print(\"ERROR, request not OK\")\n",
    "    \n",
    "    data = response.json()\n",
    "    return data"
   ]
  },
  {
   "cell_type": "code",
   "execution_count": 83,
   "id": "65f8b845-e795-4c8e-9dc4-c19eabf6640a",
   "metadata": {},
   "outputs": [],
   "source": [
    "steam_data = get_steam_games()"
   ]
  },
  {
   "cell_type": "code",
   "execution_count": null,
   "id": "6153324d-517b-4220-bf92-38c7c6e2020a",
   "metadata": {},
   "outputs": [],
   "source": []
  },
  {
   "cell_type": "code",
   "execution_count": 84,
   "id": "2b131f11-1fb9-4a61-a410-d271b217d3c6",
   "metadata": {},
   "outputs": [],
   "source": [
    "ids = [item.get(\"appid\") for item in steam_data['applist']['apps']]"
   ]
  },
  {
   "cell_type": "code",
   "execution_count": 111,
   "id": "9446f8ec-c468-44c0-a898-1dee406ab18b",
   "metadata": {},
   "outputs": [
    {
     "data": {
      "text/plain": [
       "164509"
      ]
     },
     "execution_count": 111,
     "metadata": {},
     "output_type": "execute_result"
    }
   ],
   "source": [
    "len(ids)"
   ]
  },
  {
   "cell_type": "code",
   "execution_count": 102,
   "id": "a5cca413-bf7a-4fba-8a2f-ffc4e681d29d",
   "metadata": {},
   "outputs": [],
   "source": [
    "first_batch = ids[0:82255]"
   ]
  },
  {
   "cell_type": "code",
   "execution_count": 99,
   "id": "e993ae0d-327c-4dad-9b12-0104bccacd44",
   "metadata": {},
   "outputs": [],
   "source": [
    "first_batch_update = ids[1741:10000]"
   ]
  },
  {
   "cell_type": "code",
   "execution_count": 103,
   "id": "c702ace4-814d-4a56-960a-2c1b9db3cf20",
   "metadata": {},
   "outputs": [],
   "source": [
    "def get_steam_games_info(gameId):\n",
    "    url = (\"https://store.steampowered.com/api/appdetails?appids=\"+f\"{gameId}\")\n",
    "\n",
    "    response = requests.get(url)\n",
    "\n",
    "    if not response.status_code == 200:\n",
    "        print(\"ERROR, request not OK\",gameId)\n",
    "    else:\n",
    "        data = response.json()\n",
    "        return data"
   ]
  },
  {
   "cell_type": "code",
   "execution_count": null,
   "id": "59deb2c2-a918-431b-bcc6-7095edcfce5b",
   "metadata": {},
   "outputs": [],
   "source": [
    "with open(\"steam_games_first_batch.json\", 'w') as f:\n",
    "    for appid in first_batch:\n",
    "        game_info = get_steam_games_info(appid)\n",
    "        data_string= json.dumps(game_info)\n",
    "        print(data_string,file=f)\n",
    "        time.sleep(3)"
   ]
  },
  {
   "cell_type": "code",
   "execution_count": null,
   "id": "a1aa1c54-3caa-4d34-8620-3619a23136c7",
   "metadata": {},
   "outputs": [],
   "source": []
  },
  {
   "cell_type": "code",
   "execution_count": null,
   "id": "ea5cab65-b923-42d8-84df-269cb26aae3c",
   "metadata": {},
   "outputs": [],
   "source": []
  },
  {
   "cell_type": "code",
   "execution_count": null,
   "id": "0b74e480-a17d-426a-9608-3570eeffaa8b",
   "metadata": {},
   "outputs": [],
   "source": []
  },
  {
   "cell_type": "code",
   "execution_count": null,
   "id": "4363fde4-7f85-43a0-8096-21cc40b32a6b",
   "metadata": {},
   "outputs": [],
   "source": [
    "####### steam insights ########"
   ]
  },
  {
   "cell_type": "code",
   "execution_count": 118,
   "id": "45e6f7a7-9263-41ce-9ea3-95fd58b1eb8d",
   "metadata": {},
   "outputs": [],
   "source": [
    "with open(\"steam_games_first_batch.json\", 'r') as steam:\n",
    "    steam_json = steam.read()"
   ]
  },
  {
   "cell_type": "code",
   "execution_count": 122,
   "id": "fac4bc61-e2f4-4074-8991-d50417f9cac4",
   "metadata": {},
   "outputs": [],
   "source": [
    "data = [json.loads(line)\n",
    "        for line in open('steam_games_first_batch.json', 'r', encoding='utf-8')]\n"
   ]
  },
  {
   "cell_type": "code",
   "execution_count": 184,
   "id": "ae457abb-831f-4441-ac98-8393f2dcecbb",
   "metadata": {},
   "outputs": [],
   "source": [
    "combined_dict = {}\n",
    "for item in data:\n",
    "    combined_dict.update(item)\n",
    "    \n"
   ]
  },
  {
   "cell_type": "code",
   "execution_count": 205,
   "id": "f1294b38-a7ae-4c8a-9aeb-a14d90528d26",
   "metadata": {},
   "outputs": [],
   "source": [
    "# getting all the games which has information : success = true\n",
    "success_data = {}\n",
    "for key, value in combined_dict.items():\n",
    "    success = value.get(\"success\")\n",
    "    if success:\n",
    "        success_data[key] = value"
   ]
  },
  {
   "cell_type": "code",
   "execution_count": 256,
   "id": "170386b9-5aeb-43eb-9215-45b498335aff",
   "metadata": {},
   "outputs": [
    {
     "data": {
      "text/plain": [
       "17504"
      ]
     },
     "execution_count": 256,
     "metadata": {},
     "output_type": "execute_result"
    }
   ],
   "source": [
    "# total games for which api information is available\n",
    "len(success_data)"
   ]
  },
  {
   "cell_type": "code",
   "execution_count": 258,
   "id": "3ef4b133-4e67-41c7-955a-098c0ed0ccea",
   "metadata": {},
   "outputs": [
    {
     "name": "stdout",
     "output_type": "stream",
     "text": [
      "Game Types and Their Counts:\n",
      "game : 10825\n",
      "dlc : 3852\n",
      "demo : 2048\n",
      "music : 771\n",
      "mod : 6\n",
      "episode : 2\n"
     ]
    }
   ],
   "source": [
    "## getting types of games in steam\n",
    "game_types_counts = {}\n",
    "\n",
    "for app_id, game_info in success_data.items():\n",
    "    game_type = game_info['data'].get('type', 'Unknown')\n",
    "    if game_type in game_types_counts:\n",
    "        game_types_counts[game_type] += 1\n",
    "    else:\n",
    "        game_types_counts[game_type] = 1\n",
    "\n",
    "print(\"Game Types and Their Counts:\")\n",
    "for game_type, count in game_types_counts.items():\n",
    "    print(game_type, \":\", count)"
   ]
  },
  {
   "cell_type": "code",
   "execution_count": 230,
   "id": "b8831a0c-a809-4acc-8630-fe0f7f9e9720",
   "metadata": {},
   "outputs": [],
   "source": [
    "# get only mod / game / dlc types of games\n",
    "solid_games = {}\n",
    "\n",
    "for app_id, game_info in success_data.items():\n",
    "    game_type = game_info['data']['type']\n",
    "    if (game_type == 'mod'or game_type == 'game' or game_type == 'dlc'):\n",
    "        solid_games[app_id] = game_info\n",
    "\n"
   ]
  },
  {
   "cell_type": "code",
   "execution_count": 233,
   "id": "6fdb5208-2cbf-4d75-8bb4-a2b78f3dbf7c",
   "metadata": {},
   "outputs": [
    {
     "data": {
      "text/plain": [
       "14683"
      ]
     },
     "execution_count": 233,
     "metadata": {},
     "output_type": "execute_result"
    }
   ],
   "source": [
    "len(solid_games)"
   ]
  },
  {
   "cell_type": "code",
   "execution_count": 242,
   "id": "e6b2f640-3298-4b43-b4b6-38b22e37e8a9",
   "metadata": {},
   "outputs": [
    {
     "name": "stdout",
     "output_type": "stream",
     "text": [
      "Genre Descriptions:\n",
      "Genre ID: 1, Description: Action\n",
      "Genre ID: 4, Description: Casual\n",
      "Genre ID: 23, Description: Indie\n",
      "Genre ID: 70, Description: Early Access\n",
      "Genre ID: 28, Description: Simulation\n",
      "Genre ID: 2, Description: Strategy\n",
      "Genre ID: 25, Description: Adventure\n",
      "Genre ID: 37, Description: Free to Play\n",
      "Genre ID: 29, Description: Massively Multiplayer\n",
      "Genre ID: 3, Description: RPG\n",
      "Genre ID: 18, Description: Sports\n",
      "Genre ID: 9, Description: Racing\n",
      "Genre ID: 58, Description: Video Production\n",
      "Genre ID: 53, Description: Design & Illustration\n",
      "Genre ID: 59, Description: Web Publishing\n",
      "Genre ID: 51, Description: Animation & Modeling\n",
      "Genre ID: 54, Description: Education\n",
      "Genre ID: 57, Description: Utilities\n",
      "Genre ID: 60, Description: Game Development\n",
      "Genre ID: 56, Description: Software Training\n",
      "Genre ID: 55, Description: Photo Editing\n",
      "Genre ID: 52, Description: Audio Production\n"
     ]
    }
   ],
   "source": [
    "# describing all the genres available in steam\n",
    "genre_descriptions = {}\n",
    "\n",
    "for app_id, game_info in success_data.items():\n",
    "    genres = game_info['data'].get('genres', [])\n",
    "    for genre in genres:\n",
    "        genre_id = genre.get('id')\n",
    "        genre_description = genre.get('description')\n",
    "        if genre_id and genre_description:\n",
    "            genre_descriptions[genre_id] = genre_description\n",
    "\n",
    "print(\"Genre Descriptions:\")\n",
    "for genre_id, description in genre_descriptions.items():\n",
    "    print(f\"Genre ID: {genre_id}, Description: {description}\")\n"
   ]
  },
  {
   "cell_type": "code",
   "execution_count": 241,
   "id": "b3a7c9d9-efba-4f6a-ba05-0060e0257882",
   "metadata": {},
   "outputs": [
    {
     "name": "stdout",
     "output_type": "stream",
     "text": [
      "Genre Counts:\n",
      "Genre ID: 1, Count: 5496\n",
      "Genre ID: 4, Count: 5505\n",
      "Genre ID: 23, Count: 8694\n",
      "Genre ID: 70, Count: 1201\n",
      "Genre ID: 28, Count: 3113\n",
      "Genre ID: 2, Count: 2923\n",
      "Genre ID: 25, Count: 5323\n",
      "Genre ID: 37, Count: 1600\n",
      "Genre ID: 29, Count: 459\n",
      "Genre ID: 3, Count: 3221\n",
      "Genre ID: 18, Count: 535\n",
      "Genre ID: 9, Count: 515\n",
      "Genre ID: 58, Count: 61\n",
      "Genre ID: 53, Count: 367\n",
      "Genre ID: 59, Count: 318\n",
      "Genre ID: 51, Count: 93\n",
      "Genre ID: 54, Count: 131\n",
      "Genre ID: 57, Count: 121\n",
      "Genre ID: 60, Count: 143\n",
      "Genre ID: 56, Count: 72\n",
      "Genre ID: 55, Count: 20\n",
      "Genre ID: 52, Count: 22\n"
     ]
    }
   ],
   "source": [
    "# getting counts of each genre\n",
    "genre_counts = {}\n",
    "\n",
    "for app_id, game_info in success_data.items():\n",
    "    genres = game_info['data'].get('genres', [])\n",
    "    for genre in genres:\n",
    "        genre_id = genre.get('id')\n",
    "        genre_description = genre.get('description')\n",
    "        if genre_id and genre_description:\n",
    "            if genre_id in genre_counts:\n",
    "                genre_counts[genre_id] += 1\n",
    "            else:\n",
    "                genre_counts[genre_id] = 1\n",
    "\n",
    "print(\"Genre Counts:\")\n",
    "for genre_id, count in genre_counts.items():\n",
    "    print(f\"Genre ID: {genre_id}, Count: {count}\")"
   ]
  },
  {
   "cell_type": "code",
   "execution_count": 261,
   "id": "acfe1d4e-7368-46bd-8d5d-de4da5c10eba",
   "metadata": {},
   "outputs": [
    {
     "data": {
      "text/plain": [
       "{'Action': 5496,\n",
       " 'Casual': 5505,\n",
       " 'Indie': 8694,\n",
       " 'Early Access': 1201,\n",
       " 'Simulation': 3113,\n",
       " 'Strategy': 2923,\n",
       " 'Adventure': 5323,\n",
       " 'Free to Play': 1600,\n",
       " 'Massively Multiplayer': 459,\n",
       " 'RPG': 3221,\n",
       " 'Sports': 535,\n",
       " 'Racing': 515,\n",
       " 'Video Production': 61,\n",
       " 'Design & Illustration': 367,\n",
       " 'Web Publishing': 318,\n",
       " 'Animation & Modeling': 93,\n",
       " 'Education': 131,\n",
       " 'Utilities': 121,\n",
       " 'Game Development': 143,\n",
       " 'Software Training': 72,\n",
       " 'Photo Editing': 20,\n",
       " 'Audio Production': 22}"
      ]
     },
     "execution_count": 261,
     "metadata": {},
     "output_type": "execute_result"
    }
   ],
   "source": [
    "# Dictionary to store description and count\n",
    "description_dict = {}  \n",
    "\n",
    "for app_id, description in genre_descriptions.items():\n",
    "    if app_id in genre_counts:\n",
    "        count = genre_counts[app_id]\n",
    "        description_dict[description] = count\n",
    "\n",
    "description_dict"
   ]
  },
  {
   "cell_type": "code",
   "execution_count": 253,
   "id": "c414f0e3-c86e-4b61-8fe2-01afa5b0acda",
   "metadata": {},
   "outputs": [
    {
     "name": "stdout",
     "output_type": "stream",
     "text": [
      "Top 10 Developers:\n",
      "Developer: SmiteWorks USA, LLC, Count: 289\n",
      "Developer: Codename Entertainment Inc., Count: 108\n",
      "Developer: CAPCOM Co., Ltd., Count: 106\n",
      "Developer: Nihon Falcom, Count: 89\n",
      "Developer: Gotcha Gotcha Games, Count: 64\n",
      "Developer: Atomic Fabrik, Count: 59\n",
      "Developer: Beenox, Count: 54\n",
      "Developer: High Moon Studios, Count: 54\n",
      "Developer: Raven Software, Count: 53\n",
      "Developer: Treyarch, Count: 51\n"
     ]
    }
   ],
   "source": [
    "from collections import defaultdict\n",
    "import operator\n",
    "\n",
    "developer_counts = defaultdict(int)\n",
    "\n",
    "for app_id, game_info in success_data.items():\n",
    "    developers = game_info['data'].get('developers', [])\n",
    "    for developer in developers:\n",
    "        developer_counts[developer] += 1\n",
    "\n",
    "top_10_developers = sorted(developer_counts.items(), key=operator.itemgetter(1), reverse=True)[:10]\n",
    "\n",
    "print(\"Top 10 Developers:\")\n",
    "for developer, count in top_10_developers:\n",
    "    print(f\"Developer: {developer}, Count: {count}\")\n"
   ]
  },
  {
   "cell_type": "code",
   "execution_count": 254,
   "id": "5e07021e-55d5-45e7-9f51-2eb093ccbd40",
   "metadata": {},
   "outputs": [
    {
     "name": "stdout",
     "output_type": "stream",
     "text": [
      "Count of Free Games: 3875\n"
     ]
    }
   ],
   "source": [
    "# getting the count of free games available on steam\n",
    "free_games_count = 0\n",
    "\n",
    "for app_id, game_info in success_data.items():\n",
    "    is_free = game_info['data'].get('is_free', False)\n",
    "    if is_free is True:\n",
    "        free_games_count += 1\n",
    "\n",
    "print(\"Count of Free Games:\", free_games_count)"
   ]
  },
  {
   "cell_type": "code",
   "execution_count": null,
   "id": "07c8b22d-8706-4de6-81df-cfda9f1d416b",
   "metadata": {},
   "outputs": [],
   "source": []
  },
  {
   "cell_type": "code",
   "execution_count": null,
   "id": "1f13cf96-cf89-48b7-91b9-b70dc21fa0f8",
   "metadata": {},
   "outputs": [],
   "source": []
  }
 ],
 "metadata": {
  "kernelspec": {
   "display_name": "Python 3 (ipykernel)",
   "language": "python",
   "name": "python3"
  },
  "language_info": {
   "codemirror_mode": {
    "name": "ipython",
    "version": 3
   },
   "file_extension": ".py",
   "mimetype": "text/x-python",
   "name": "python",
   "nbconvert_exporter": "python",
   "pygments_lexer": "ipython3",
   "version": "3.10.9"
  }
 },
 "nbformat": 4,
 "nbformat_minor": 5
}
