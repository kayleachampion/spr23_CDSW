{
 "cells": [
  {
   "cell_type": "code",
   "execution_count": null,
   "id": "fd3d08d7-83bc-435e-b6e6-9b53132f95a5",
   "metadata": {},
   "outputs": [],
   "source": [
    "import requests\n",
    "import json\n",
    "import time"
   ]
  },
  {
   "cell_type": "code",
   "execution_count": null,
   "id": "d9e7571b-bef7-4f13-a309-b3d429c850e6",
   "metadata": {},
   "outputs": [],
   "source": [
    "# fetching games list from Free2game\n",
    "def get_free2game_games():\n",
    "    url = (\"https://www.freetogame.com/api/games\")\n",
    "\n",
    "    response = requests.get(url)\n",
    "\n",
    "    if not response.status_code == 200:\n",
    "        print(\"ERROR, request not OK\")\n",
    "    \n",
    "    data = response.json()\n",
    "    return data"
   ]
  },
  {
   "cell_type": "code",
   "execution_count": null,
   "id": "56fd8310-6f4e-436d-90ce-0507068ebf41",
   "metadata": {},
   "outputs": [],
   "source": [
    "data = get_free2game_games()"
   ]
  },
  {
   "cell_type": "code",
   "execution_count": null,
   "id": "e8b1690e-3a35-415c-ba2c-2b6bf117de00",
   "metadata": {},
   "outputs": [],
   "source": [
    "# storing the api data in local json file\n",
    "with open(\"free2game_games.json\", 'w') as my_file:\n",
    "    data_string = json.dumps(data)\n",
    "    print(data_string, file=my_file)"
   ]
  },
  {
   "cell_type": "code",
   "execution_count": null,
   "id": "880702cf-7fb9-42c4-a0a2-b49331f32640",
   "metadata": {},
   "outputs": [],
   "source": []
  },
  {
   "cell_type": "code",
   "execution_count": null,
   "id": "0f59d945-9b22-4559-9e6c-3ef3c2e51825",
   "metadata": {},
   "outputs": [],
   "source": [
    "# fetching games list from steam api"
   ]
  },
  {
   "cell_type": "code",
   "execution_count": null,
   "id": "ae52c070-677b-4914-b97e-0136d264e72c",
   "metadata": {},
   "outputs": [],
   "source": [
    "def get_steam_games():\n",
    "    url = (\"https://api.steampowered.com/ISteamApps/GetAppList/v2/\")\n",
    "\n",
    "    response = requests.get(url)\n",
    "\n",
    "    if not response.status_code == 200:\n",
    "        print(\"ERROR, request not OK\")\n",
    "    \n",
    "    data = response.json()\n",
    "    return data"
   ]
  },
  {
   "cell_type": "code",
   "execution_count": null,
   "id": "65f8b845-e795-4c8e-9dc4-c19eabf6640a",
   "metadata": {},
   "outputs": [],
   "source": [
    "steam_data = get_steam_games()"
   ]
  },
  {
   "cell_type": "code",
   "execution_count": null,
   "id": "6153324d-517b-4220-bf92-38c7c6e2020a",
   "metadata": {},
   "outputs": [],
   "source": []
  },
  {
   "cell_type": "code",
   "execution_count": null,
   "id": "2b131f11-1fb9-4a61-a410-d271b217d3c6",
   "metadata": {},
   "outputs": [],
   "source": [
    "ids = [item.get(\"appid\") for item in steam_data['applist']['apps']]"
   ]
  },
  {
   "cell_type": "code",
   "execution_count": null,
   "id": "9446f8ec-c468-44c0-a898-1dee406ab18b",
   "metadata": {},
   "outputs": [],
   "source": [
    "len(ids)"
   ]
  },
  {
   "cell_type": "code",
   "execution_count": null,
   "id": "c702ace4-814d-4a56-960a-2c1b9db3cf20",
   "metadata": {},
   "outputs": [],
   "source": [
    "def get_steam_games_info(gameId):\n",
    "    url = (\"https://store.steampowered.com/api/appdetails?appids=\"+f\"{gameId}\")\n",
    "\n",
    "    response = requests.get(url)\n",
    "\n",
    "    if not response.status_code == 200:\n",
    "        print(\"ERROR, request not OK\",gameId)\n",
    "    else:\n",
    "        data = response.json()\n",
    "        return data"
   ]
  },
  {
   "cell_type": "code",
   "execution_count": null,
   "id": "59deb2c2-a918-431b-bcc6-7095edcfce5b",
   "metadata": {},
   "outputs": [],
   "source": [
    "with open(\"steam_games.json\", 'w') as f:\n",
    "    for appid in ids:\n",
    "        game_info = get_steam_games_info(appid)\n",
    "        data_string= json.dumps(game_info)\n",
    "        print(data_string,file=f)\n",
    "        time.sleep(5)"
   ]
  },
  {
   "cell_type": "code",
   "execution_count": null,
   "id": "4363fde4-7f85-43a0-8096-21cc40b32a6b",
   "metadata": {},
   "outputs": [],
   "source": []
  },
  {
   "cell_type": "code",
   "execution_count": null,
   "id": "28718637",
   "metadata": {},
   "outputs": [],
   "source": []
  }
 ],
 "metadata": {
  "kernelspec": {
   "display_name": "Python 3 (ipykernel)",
   "language": "python",
   "name": "python3"
  },
  "language_info": {
   "codemirror_mode": {
    "name": "ipython",
    "version": 3
   },
   "file_extension": ".py",
   "mimetype": "text/x-python",
   "name": "python",
   "nbconvert_exporter": "python",
   "pygments_lexer": "ipython3",
   "version": "3.10.9"
  }
 },
 "nbformat": 4,
 "nbformat_minor": 5
}
