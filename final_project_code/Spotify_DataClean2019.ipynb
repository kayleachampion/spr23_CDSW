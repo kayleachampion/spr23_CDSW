{
 "cells": [
  {
   "cell_type": "markdown",
   "id": "ebfd0d00",
   "metadata": {},
   "source": [
    "import json\n",
    "import pandas as pd\n",
    "#building our function\n",
    "def build_songs_dataframe(audio_features_filename):\n",
    "\n",
    "    songs = []\n",
    "    with open(audio_features_filename, \"r\") as input_file:\n",
    "        for line in input_file.readlines():\n",
    "            song_features = json.loads(line)[0]\n",
    "            songs.append(song_features)\n",
    "        \n",
    "    return pd.DataFrame(songs)"
   ]
  },
  {
   "cell_type": "code",
   "execution_count": 1,
   "id": "ee072d28",
   "metadata": {},
   "outputs": [],
   "source": [
    "from build_songs_dataframe import *\n",
    "df_songs = build_songs_dataframe(\"2019_playlist_audio_features.jsonl\")\n",
    "df_songs[\"year\"]=2019"
   ]
  },
  {
   "cell_type": "code",
   "execution_count": 2,
   "id": "c163ceaf",
   "metadata": {},
   "outputs": [
    {
     "name": "stdout",
     "output_type": "stream",
     "text": [
      "danceability mean 0.7157600000000001\n"
     ]
    }
   ],
   "source": [
    "print(\"danceability mean\", df_songs['danceability'].mean())"
   ]
  },
  {
   "cell_type": "code",
   "execution_count": 3,
   "id": "6fc76e96",
   "metadata": {},
   "outputs": [
    {
     "name": "stdout",
     "output_type": "stream",
     "text": [
      "energy mean 0.62524\n"
     ]
    }
   ],
   "source": [
    "print(\"energy mean\", df_songs['energy'].mean())"
   ]
  },
  {
   "cell_type": "code",
   "execution_count": 4,
   "id": "f5219855",
   "metadata": {},
   "outputs": [
    {
     "name": "stdout",
     "output_type": "stream",
     "text": [
      "loudness mean -6.1214400000000015\n"
     ]
    }
   ],
   "source": [
    "print(\"loudness mean\", df_songs['loudness'].mean())\n",
    "\n",
    "#The overall loudness of a track in decibels (dB). Loudness values are averaged across the entire trackand are useful for\n",
    "#comparing relative loudness of tracks. Loudness is the quality of a sound that is\n",
    "#the primary psychological correlate of physical strength (amplitude).\n",
    "#Values typically range between -60 and 0 db."
   ]
  },
  {
   "cell_type": "code",
   "execution_count": 5,
   "id": "30bf04a7",
   "metadata": {},
   "outputs": [
    {
     "name": "stdout",
     "output_type": "stream",
     "text": [
      "mode mean 0.6\n"
     ]
    }
   ],
   "source": [
    "print(\"mode mean\", df_songs['mode'].mean())"
   ]
  },
  {
   "cell_type": "code",
   "execution_count": 6,
   "id": "b75a6b68",
   "metadata": {},
   "outputs": [
    {
     "name": "stdout",
     "output_type": "stream",
     "text": [
      "speechiness mean 0.12643700000000002\n"
     ]
    }
   ],
   "source": [
    "print(\"speechiness mean\", df_songs['speechiness'].mean())"
   ]
  },
  {
   "cell_type": "code",
   "execution_count": 7,
   "id": "6dfa8b83",
   "metadata": {},
   "outputs": [
    {
     "name": "stdout",
     "output_type": "stream",
     "text": [
      "acousticness mean 0.23792906999999996\n"
     ]
    }
   ],
   "source": [
    "print(\"acousticness mean\", df_songs['acousticness'].mean())"
   ]
  },
  {
   "cell_type": "code",
   "execution_count": 8,
   "id": "caacc51d",
   "metadata": {},
   "outputs": [
    {
     "name": "stdout",
     "output_type": "stream",
     "text": [
      "instrumentalness mean 0.006472767100000001\n"
     ]
    }
   ],
   "source": [
    "print(\"instrumentalness mean\", df_songs['instrumentalness'].mean())"
   ]
  },
  {
   "cell_type": "code",
   "execution_count": 9,
   "id": "482dca63",
   "metadata": {},
   "outputs": [
    {
     "name": "stdout",
     "output_type": "stream",
     "text": [
      "liveness mean 0.15475899999999998\n"
     ]
    }
   ],
   "source": [
    "print(\"liveness mean\", df_songs['liveness'].mean())"
   ]
  },
  {
   "cell_type": "code",
   "execution_count": 10,
   "id": "15c1d103",
   "metadata": {},
   "outputs": [
    {
     "name": "stdout",
     "output_type": "stream",
     "text": [
      "valence mean 0.492278\n"
     ]
    }
   ],
   "source": [
    "print(\"valence mean\", df_songs['valence'].mean())"
   ]
  },
  {
   "cell_type": "code",
   "execution_count": 11,
   "id": "ef377a9d",
   "metadata": {},
   "outputs": [
    {
     "name": "stdout",
     "output_type": "stream",
     "text": [
      "tempo mean 120.75813999999998\n"
     ]
    }
   ],
   "source": [
    "print(\"tempo mean\", df_songs['tempo'].mean())"
   ]
  },
  {
   "cell_type": "code",
   "execution_count": 12,
   "id": "07e25829",
   "metadata": {},
   "outputs": [
    {
     "name": "stdout",
     "output_type": "stream",
     "text": [
      "time_signature mean 4.01\n"
     ]
    }
   ],
   "source": [
    "print(\"time_signature mean\", df_songs['time_signature'].mean())"
   ]
  },
  {
   "cell_type": "code",
   "execution_count": 13,
   "id": "2b766668",
   "metadata": {},
   "outputs": [
    {
     "data": {
      "text/plain": [
       "<Axes: >"
      ]
     },
     "execution_count": 13,
     "metadata": {},
     "output_type": "execute_result"
    },
    {
     "data": {
      "image/png": "[encoded data removed]",
      "text/plain": [
       "<Figure size 640x480 with 1 Axes>"
      ]
     },
     "metadata": {},
     "output_type": "display_data"
    }
   ],
   "source": [
    "df_songs[\"key\"].hist()"
   ]
  },
  {
   "cell_type": "code",
   "execution_count": 14,
   "id": "c42c23b7",
   "metadata": {},
   "outputs": [
    {
     "data": {
      "text/plain": [
       "<Axes: >"
      ]
     },
     "execution_count": 14,
     "metadata": {},
     "output_type": "execute_result"
    },
    {
     "data": {
      "image/png": "[encoded data removed]",
      "text/plain": [
       "<Figure size 640x480 with 1 Axes>"
      ]
     },
     "metadata": {},
     "output_type": "display_data"
    }
   ],
   "source": [
    "df_songs[\"mode\"].hist()"
   ]
  },
  {
   "cell_type": "code",
   "execution_count": 15,
   "id": "12a5372e",
   "metadata": {},
   "outputs": [
    {
     "data": {
      "text/plain": [
       "<Axes: >"
      ]
     },
     "execution_count": 15,
     "metadata": {},
     "output_type": "execute_result"
    },
    {
     "data": {
      "image/png": "[encoded data removed]",
      "text/plain": [
       "<Figure size 640x480 with 1 Axes>"
      ]
     },
     "metadata": {},
     "output_type": "display_data"
    }
   ],
   "source": [
    "df_songs[\"time_signature\"].hist()"
   ]
  },
  {
   "cell_type": "code",
   "execution_count": 16,
   "id": "592bc315",
   "metadata": {},
   "outputs": [
    {
     "data": {
      "text/html": [
       "<div>\n",
       "<style scoped>\n",
       "    .dataframe tbody tr th:only-of-type {\n",
       "        vertical-align: middle;\n",
       "    }\n",
       "\n",
       "    .dataframe tbody tr th {\n",
       "        vertical-align: top;\n",
       "    }\n",
       "\n",
       "    .dataframe thead th {\n",
       "        text-align: right;\n",
       "    }\n",
       "</style>\n",
       "<table border=\"1\" class=\"dataframe\">\n",
       "  <thead>\n",
       "    <tr style=\"text-align: right;\">\n",
       "      <th></th>\n",
       "      <th>danceability</th>\n",
       "      <th>energy</th>\n",
       "      <th>key</th>\n",
       "      <th>loudness</th>\n",
       "      <th>mode</th>\n",
       "      <th>speechiness</th>\n",
       "      <th>acousticness</th>\n",
       "      <th>instrumentalness</th>\n",
       "      <th>liveness</th>\n",
       "      <th>valence</th>\n",
       "      <th>tempo</th>\n",
       "      <th>duration_ms</th>\n",
       "      <th>time_signature</th>\n",
       "      <th>year</th>\n",
       "    </tr>\n",
       "  </thead>\n",
       "  <tbody>\n",
       "    <tr>\n",
       "      <th>count</th>\n",
       "      <td>100.000000</td>\n",
       "      <td>100.000000</td>\n",
       "      <td>100.000000</td>\n",
       "      <td>100.000000</td>\n",
       "      <td>100.000000</td>\n",
       "      <td>100.000000</td>\n",
       "      <td>100.000000</td>\n",
       "      <td>100.000000</td>\n",
       "      <td>100.000000</td>\n",
       "      <td>100.000000</td>\n",
       "      <td>100.000000</td>\n",
       "      <td>100.000000</td>\n",
       "      <td>100.00</td>\n",
       "      <td>100.0</td>\n",
       "    </tr>\n",
       "    <tr>\n",
       "      <th>mean</th>\n",
       "      <td>0.715760</td>\n",
       "      <td>0.625240</td>\n",
       "      <td>5.270000</td>\n",
       "      <td>-6.121440</td>\n",
       "      <td>0.600000</td>\n",
       "      <td>0.126437</td>\n",
       "      <td>0.237929</td>\n",
       "      <td>0.006473</td>\n",
       "      <td>0.154759</td>\n",
       "      <td>0.492278</td>\n",
       "      <td>120.758140</td>\n",
       "      <td>197753.880000</td>\n",
       "      <td>4.01</td>\n",
       "      <td>2019.0</td>\n",
       "    </tr>\n",
       "    <tr>\n",
       "      <th>std</th>\n",
       "      <td>0.134472</td>\n",
       "      <td>0.154958</td>\n",
       "      <td>3.489826</td>\n",
       "      <td>2.395501</td>\n",
       "      <td>0.492366</td>\n",
       "      <td>0.110939</td>\n",
       "      <td>0.229730</td>\n",
       "      <td>0.039004</td>\n",
       "      <td>0.114311</td>\n",
       "      <td>0.221532</td>\n",
       "      <td>29.223258</td>\n",
       "      <td>38371.199003</td>\n",
       "      <td>0.10</td>\n",
       "      <td>0.0</td>\n",
       "    </tr>\n",
       "    <tr>\n",
       "      <th>min</th>\n",
       "      <td>0.351000</td>\n",
       "      <td>0.111000</td>\n",
       "      <td>0.000000</td>\n",
       "      <td>-14.505000</td>\n",
       "      <td>0.000000</td>\n",
       "      <td>0.025900</td>\n",
       "      <td>0.000677</td>\n",
       "      <td>0.000000</td>\n",
       "      <td>0.057400</td>\n",
       "      <td>0.097800</td>\n",
       "      <td>68.534000</td>\n",
       "      <td>113000.000000</td>\n",
       "      <td>4.00</td>\n",
       "      <td>2019.0</td>\n",
       "    </tr>\n",
       "    <tr>\n",
       "      <th>25%</th>\n",
       "      <td>0.640750</td>\n",
       "      <td>0.536000</td>\n",
       "      <td>2.000000</td>\n",
       "      <td>-7.067250</td>\n",
       "      <td>0.000000</td>\n",
       "      <td>0.046975</td>\n",
       "      <td>0.063725</td>\n",
       "      <td>0.000000</td>\n",
       "      <td>0.093675</td>\n",
       "      <td>0.333000</td>\n",
       "      <td>98.016250</td>\n",
       "      <td>178237.000000</td>\n",
       "      <td>4.00</td>\n",
       "      <td>2019.0</td>\n",
       "    </tr>\n",
       "    <tr>\n",
       "      <th>50%</th>\n",
       "      <td>0.739000</td>\n",
       "      <td>0.630000</td>\n",
       "      <td>5.000000</td>\n",
       "      <td>-5.710500</td>\n",
       "      <td>1.000000</td>\n",
       "      <td>0.084800</td>\n",
       "      <td>0.155000</td>\n",
       "      <td>0.000000</td>\n",
       "      <td>0.111000</td>\n",
       "      <td>0.501000</td>\n",
       "      <td>116.125500</td>\n",
       "      <td>193185.000000</td>\n",
       "      <td>4.00</td>\n",
       "      <td>2019.0</td>\n",
       "    </tr>\n",
       "    <tr>\n",
       "      <th>75%</th>\n",
       "      <td>0.812750</td>\n",
       "      <td>0.734250</td>\n",
       "      <td>8.000000</td>\n",
       "      <td>-4.508250</td>\n",
       "      <td>1.000000</td>\n",
       "      <td>0.161750</td>\n",
       "      <td>0.333750</td>\n",
       "      <td>0.000003</td>\n",
       "      <td>0.165250</td>\n",
       "      <td>0.640500</td>\n",
       "      <td>140.028500</td>\n",
       "      <td>215393.250000</td>\n",
       "      <td>4.00</td>\n",
       "      <td>2019.0</td>\n",
       "    </tr>\n",
       "    <tr>\n",
       "      <th>max</th>\n",
       "      <td>0.950000</td>\n",
       "      <td>0.919000</td>\n",
       "      <td>11.000000</td>\n",
       "      <td>-2.253000</td>\n",
       "      <td>1.000000</td>\n",
       "      <td>0.467000</td>\n",
       "      <td>0.978000</td>\n",
       "      <td>0.334000</td>\n",
       "      <td>0.795000</td>\n",
       "      <td>0.952000</td>\n",
       "      <td>202.015000</td>\n",
       "      <td>354320.000000</td>\n",
       "      <td>5.00</td>\n",
       "      <td>2019.0</td>\n",
       "    </tr>\n",
       "  </tbody>\n",
       "</table>\n",
       "</div>"
      ],
      "text/plain": [
       "       danceability      energy         key    loudness        mode  \\\n",
       "count    100.000000  100.000000  100.000000  100.000000  100.000000   \n",
       "mean       0.715760    0.625240    5.270000   -6.121440    0.600000   \n",
       "std        0.134472    0.154958    3.489826    2.395501    0.492366   \n",
       "min        0.351000    0.111000    0.000000  -14.505000    0.000000   \n",
       "25%        0.640750    0.536000    2.000000   -7.067250    0.000000   \n",
       "50%        0.739000    0.630000    5.000000   -5.710500    1.000000   \n",
       "75%        0.812750    0.734250    8.000000   -4.508250    1.000000   \n",
       "max        0.950000    0.919000   11.000000   -2.253000    1.000000   \n",
       "\n",
       "       speechiness  acousticness  instrumentalness    liveness     valence  \\\n",
       "count   100.000000    100.000000        100.000000  100.000000  100.000000   \n",
       "mean      0.126437      0.237929          0.006473    0.154759    0.492278   \n",
       "std       0.110939      0.229730          0.039004    0.114311    0.221532   \n",
       "min       0.025900      0.000677          0.000000    0.057400    0.097800   \n",
       "25%       0.046975      0.063725          0.000000    0.093675    0.333000   \n",
       "50%       0.084800      0.155000          0.000000    0.111000    0.501000   \n",
       "75%       0.161750      0.333750          0.000003    0.165250    0.640500   \n",
       "max       0.467000      0.978000          0.334000    0.795000    0.952000   \n",
       "\n",
       "            tempo    duration_ms  time_signature    year  \n",
       "count  100.000000     100.000000          100.00   100.0  \n",
       "mean   120.758140  197753.880000            4.01  2019.0  \n",
       "std     29.223258   38371.199003            0.10     0.0  \n",
       "min     68.534000  113000.000000            4.00  2019.0  \n",
       "25%     98.016250  178237.000000            4.00  2019.0  \n",
       "50%    116.125500  193185.000000            4.00  2019.0  \n",
       "75%    140.028500  215393.250000            4.00  2019.0  \n",
       "max    202.015000  354320.000000            5.00  2019.0  "
      ]
     },
     "execution_count": 16,
     "metadata": {},
     "output_type": "execute_result"
    }
   ],
   "source": [
    "df_songs.describe()"
   ]
  },
  {
   "cell_type": "code",
   "execution_count": null,
   "id": "0ad525d7",
   "metadata": {},
   "outputs": [],
   "source": []
  }
 ],
 "metadata": {
  "kernelspec": {
   "display_name": "Python 3 (ipykernel)",
   "language": "python",
   "name": "python3"
  },
  "language_info": {
   "codemirror_mode": {
    "name": "ipython",
    "version": 3
   },
   "file_extension": ".py",
   "mimetype": "text/x-python",
   "name": "python",
   "nbconvert_exporter": "python",
   "pygments_lexer": "ipython3",
   "version": "3.10.9"
  }
 },
 "nbformat": 4,
 "nbformat_minor": 5
}
