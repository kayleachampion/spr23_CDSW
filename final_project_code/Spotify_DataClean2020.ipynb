{
 "cells": [
  {
   "cell_type": "markdown",
   "id": "ebfd0d00",
   "metadata": {},
   "source": [
    "import json\n",
    "import pandas as pd\n",
    "#building our function\n",
    "def build_songs_dataframe(audio_features_filename):\n",
    "\n",
    "    songs = []\n",
    "    with open(audio_features_filename, \"r\") as input_file:\n",
    "        for line in input_file.readlines():\n",
    "            song_features = json.loads(line)[0]\n",
    "            songs.append(song_features)\n",
    "        \n",
    "    return pd.DataFrame(songs)"
   ]
  },
  {
   "cell_type": "code",
   "execution_count": 1,
   "id": "ee072d28",
   "metadata": {},
   "outputs": [],
   "source": [
    "from build_songs_dataframe import *\n",
    "df_songs = build_songs_dataframe(\"2020_playlist_audio_features.jsonl\")\n",
    "df_songs[\"year\"]=2020"
   ]
  },
  {
   "cell_type": "code",
   "execution_count": 2,
   "id": "c163ceaf",
   "metadata": {},
   "outputs": [
    {
     "name": "stdout",
     "output_type": "stream",
     "text": [
      "danceability mean 0.7177800000000001\n"
     ]
    }
   ],
   "source": [
    "print(\"danceability mean\", df_songs['danceability'].mean())"
   ]
  },
  {
   "cell_type": "code",
   "execution_count": 3,
   "id": "6fc76e96",
   "metadata": {},
   "outputs": [
    {
     "name": "stdout",
     "output_type": "stream",
     "text": [
      "energy mean 0.61084\n"
     ]
    }
   ],
   "source": [
    "print(\"energy mean\", df_songs['energy'].mean())"
   ]
  },
  {
   "cell_type": "code",
   "execution_count": 4,
   "id": "f5219855",
   "metadata": {},
   "outputs": [
    {
     "name": "stdout",
     "output_type": "stream",
     "text": [
      "loudness mean -6.229999999999999\n"
     ]
    }
   ],
   "source": [
    "print(\"loudness mean\", df_songs['loudness'].mean())\n",
    "\n",
    "#The overall loudness of a track in decibels (dB). Loudness values are averaged across the entire trackand are useful for\n",
    "#comparing relative loudness of tracks. Loudness is the quality of a sound that is\n",
    "#the primary psychological correlate of physical strength (amplitude).\n",
    "#Values typically range between -60 and 0 db."
   ]
  },
  {
   "cell_type": "code",
   "execution_count": 5,
   "id": "30bf04a7",
   "metadata": {},
   "outputs": [
    {
     "name": "stdout",
     "output_type": "stream",
     "text": [
      "mode mean 0.48\n"
     ]
    }
   ],
   "source": [
    "print(\"mode mean\", df_songs['mode'].mean())"
   ]
  },
  {
   "cell_type": "code",
   "execution_count": 6,
   "id": "b75a6b68",
   "metadata": {},
   "outputs": [
    {
     "name": "stdout",
     "output_type": "stream",
     "text": [
      "speechiness mean 0.12404000000000001\n"
     ]
    }
   ],
   "source": [
    "print(\"speechiness mean\", df_songs['speechiness'].mean())"
   ]
  },
  {
   "cell_type": "code",
   "execution_count": 7,
   "id": "6dfa8b83",
   "metadata": {},
   "outputs": [
    {
     "name": "stdout",
     "output_type": "stream",
     "text": [
      "acousticness mean 0.2558978\n"
     ]
    }
   ],
   "source": [
    "print(\"acousticness mean\", df_songs['acousticness'].mean())"
   ]
  },
  {
   "cell_type": "code",
   "execution_count": 8,
   "id": "caacc51d",
   "metadata": {},
   "outputs": [
    {
     "name": "stdout",
     "output_type": "stream",
     "text": [
      "instrumentalness mean 0.0159541782\n"
     ]
    }
   ],
   "source": [
    "print(\"instrumentalness mean\", df_songs['instrumentalness'].mean())"
   ]
  },
  {
   "cell_type": "code",
   "execution_count": 9,
   "id": "482dca63",
   "metadata": {},
   "outputs": [
    {
     "name": "stdout",
     "output_type": "stream",
     "text": [
      "liveness mean 0.19589800000000002\n"
     ]
    }
   ],
   "source": [
    "print(\"liveness mean\", df_songs['liveness'].mean())"
   ]
  },
  {
   "cell_type": "code",
   "execution_count": 10,
   "id": "15c1d103",
   "metadata": {},
   "outputs": [
    {
     "name": "stdout",
     "output_type": "stream",
     "text": [
      "valence mean 0.55671\n"
     ]
    }
   ],
   "source": [
    "print(\"valence mean\", df_songs['valence'].mean())"
   ]
  },
  {
   "cell_type": "code",
   "execution_count": 11,
   "id": "ef377a9d",
   "metadata": {},
   "outputs": [
    {
     "name": "stdout",
     "output_type": "stream",
     "text": [
      "tempo mean 119.69251999999999\n"
     ]
    }
   ],
   "source": [
    "print(\"tempo mean\", df_songs['tempo'].mean())"
   ]
  },
  {
   "cell_type": "code",
   "execution_count": 12,
   "id": "07e25829",
   "metadata": {},
   "outputs": [
    {
     "name": "stdout",
     "output_type": "stream",
     "text": [
      "time_signature mean 4.0\n"
     ]
    }
   ],
   "source": [
    "print(\"time_signature mean\", df_songs['time_signature'].mean())"
   ]
  },
  {
   "cell_type": "code",
   "execution_count": 13,
   "id": "2b766668",
   "metadata": {},
   "outputs": [
    {
     "data": {
      "text/plain": [
       "<Axes: >"
      ]
     },
     "execution_count": 13,
     "metadata": {},
     "output_type": "execute_result"
    },
    {
     "data": {
      "image/png": "[encoded data removed]",
      "text/plain": [
       "<Figure size 640x480 with 1 Axes>"
      ]
     },
     "metadata": {},
     "output_type": "display_data"
    }
   ],
   "source": [
    "df_songs[\"key\"].hist()"
   ]
  },
  {
   "cell_type": "code",
   "execution_count": 14,
   "id": "c42c23b7",
   "metadata": {},
   "outputs": [
    {
     "data": {
      "text/plain": [
       "<Axes: >"
      ]
     },
     "execution_count": 14,
     "metadata": {},
     "output_type": "execute_result"
    },
    {
     "data": {
      "image/png": "[encoded data removed]",
      "text/plain": [
       "<Figure size 640x480 with 1 Axes>"
      ]
     },
     "metadata": {},
     "output_type": "display_data"
    }
   ],
   "source": [
    "df_songs[\"mode\"].hist()"
   ]
  },
  {
   "cell_type": "code",
   "execution_count": 15,
   "id": "12a5372e",
   "metadata": {},
   "outputs": [
    {
     "data": {
      "text/plain": [
       "<Axes: >"
      ]
     },
     "execution_count": 15,
     "metadata": {},
     "output_type": "execute_result"
    },
    {
     "data": {
      "image/png": "[encoded data removed]",
      "text/plain": [
       "<Figure size 640x480 with 1 Axes>"
      ]
     },
     "metadata": {},
     "output_type": "display_data"
    }
   ],
   "source": [
    "df_songs[\"time_signature\"].hist()"
   ]
  },
  {
   "cell_type": "code",
   "execution_count": 16,
   "id": "592bc315",
   "metadata": {},
   "outputs": [
    {
     "data": {
      "text/html": [
       "<div>\n",
       "<style scoped>\n",
       "    .dataframe tbody tr th:only-of-type {\n",
       "        vertical-align: middle;\n",
       "    }\n",
       "\n",
       "    .dataframe tbody tr th {\n",
       "        vertical-align: top;\n",
       "    }\n",
       "\n",
       "    .dataframe thead th {\n",
       "        text-align: right;\n",
       "    }\n",
       "</style>\n",
       "<table border=\"1\" class=\"dataframe\">\n",
       "  <thead>\n",
       "    <tr style=\"text-align: right;\">\n",
       "      <th></th>\n",
       "      <th>danceability</th>\n",
       "      <th>energy</th>\n",
       "      <th>key</th>\n",
       "      <th>loudness</th>\n",
       "      <th>mode</th>\n",
       "      <th>speechiness</th>\n",
       "      <th>acousticness</th>\n",
       "      <th>instrumentalness</th>\n",
       "      <th>liveness</th>\n",
       "      <th>valence</th>\n",
       "      <th>tempo</th>\n",
       "      <th>duration_ms</th>\n",
       "      <th>time_signature</th>\n",
       "      <th>year</th>\n",
       "    </tr>\n",
       "  </thead>\n",
       "  <tbody>\n",
       "    <tr>\n",
       "      <th>count</th>\n",
       "      <td>50.000000</td>\n",
       "      <td>50.000000</td>\n",
       "      <td>50.000000</td>\n",
       "      <td>50.000000</td>\n",
       "      <td>50.000000</td>\n",
       "      <td>50.000000</td>\n",
       "      <td>50.000000</td>\n",
       "      <td>50.000000</td>\n",
       "      <td>50.000000</td>\n",
       "      <td>50.00000</td>\n",
       "      <td>50.000000</td>\n",
       "      <td>50.000000</td>\n",
       "      <td>50.000000</td>\n",
       "      <td>50.0</td>\n",
       "    </tr>\n",
       "    <tr>\n",
       "      <th>mean</th>\n",
       "      <td>0.717780</td>\n",
       "      <td>0.610840</td>\n",
       "      <td>5.720000</td>\n",
       "      <td>-6.230000</td>\n",
       "      <td>0.480000</td>\n",
       "      <td>0.124040</td>\n",
       "      <td>0.255898</td>\n",
       "      <td>0.015954</td>\n",
       "      <td>0.195898</td>\n",
       "      <td>0.55671</td>\n",
       "      <td>119.692520</td>\n",
       "      <td>199947.560000</td>\n",
       "      <td>4.000000</td>\n",
       "      <td>2020.0</td>\n",
       "    </tr>\n",
       "    <tr>\n",
       "      <th>std</th>\n",
       "      <td>0.125459</td>\n",
       "      <td>0.151859</td>\n",
       "      <td>3.709007</td>\n",
       "      <td>2.348198</td>\n",
       "      <td>0.504672</td>\n",
       "      <td>0.116892</td>\n",
       "      <td>0.266283</td>\n",
       "      <td>0.094313</td>\n",
       "      <td>0.173255</td>\n",
       "      <td>0.21664</td>\n",
       "      <td>25.412022</td>\n",
       "      <td>33993.319583</td>\n",
       "      <td>0.202031</td>\n",
       "      <td>0.0</td>\n",
       "    </tr>\n",
       "    <tr>\n",
       "      <th>min</th>\n",
       "      <td>0.351000</td>\n",
       "      <td>0.225000</td>\n",
       "      <td>0.000000</td>\n",
       "      <td>-14.454000</td>\n",
       "      <td>0.000000</td>\n",
       "      <td>0.029000</td>\n",
       "      <td>0.001460</td>\n",
       "      <td>0.000000</td>\n",
       "      <td>0.057400</td>\n",
       "      <td>0.06050</td>\n",
       "      <td>75.801000</td>\n",
       "      <td>140533.000000</td>\n",
       "      <td>3.000000</td>\n",
       "      <td>2020.0</td>\n",
       "    </tr>\n",
       "    <tr>\n",
       "      <th>25%</th>\n",
       "      <td>0.672500</td>\n",
       "      <td>0.494000</td>\n",
       "      <td>2.000000</td>\n",
       "      <td>-7.552500</td>\n",
       "      <td>0.000000</td>\n",
       "      <td>0.048325</td>\n",
       "      <td>0.052800</td>\n",
       "      <td>0.000000</td>\n",
       "      <td>0.093950</td>\n",
       "      <td>0.43400</td>\n",
       "      <td>99.557250</td>\n",
       "      <td>175845.500000</td>\n",
       "      <td>4.000000</td>\n",
       "      <td>2020.0</td>\n",
       "    </tr>\n",
       "    <tr>\n",
       "      <th>50%</th>\n",
       "      <td>0.746000</td>\n",
       "      <td>0.594000</td>\n",
       "      <td>6.500000</td>\n",
       "      <td>-5.991500</td>\n",
       "      <td>0.000000</td>\n",
       "      <td>0.070050</td>\n",
       "      <td>0.184000</td>\n",
       "      <td>0.000000</td>\n",
       "      <td>0.111000</td>\n",
       "      <td>0.56000</td>\n",
       "      <td>116.969000</td>\n",
       "      <td>197853.500000</td>\n",
       "      <td>4.000000</td>\n",
       "      <td>2020.0</td>\n",
       "    </tr>\n",
       "    <tr>\n",
       "      <th>75%</th>\n",
       "      <td>0.801000</td>\n",
       "      <td>0.729750</td>\n",
       "      <td>8.750000</td>\n",
       "      <td>-4.285500</td>\n",
       "      <td>1.000000</td>\n",
       "      <td>0.156250</td>\n",
       "      <td>0.298750</td>\n",
       "      <td>0.000020</td>\n",
       "      <td>0.281000</td>\n",
       "      <td>0.72400</td>\n",
       "      <td>132.317000</td>\n",
       "      <td>215044.000000</td>\n",
       "      <td>4.000000</td>\n",
       "      <td>2020.0</td>\n",
       "    </tr>\n",
       "    <tr>\n",
       "      <th>max</th>\n",
       "      <td>0.935000</td>\n",
       "      <td>0.855000</td>\n",
       "      <td>11.000000</td>\n",
       "      <td>-3.280000</td>\n",
       "      <td>1.000000</td>\n",
       "      <td>0.487000</td>\n",
       "      <td>0.934000</td>\n",
       "      <td>0.657000</td>\n",
       "      <td>0.790000</td>\n",
       "      <td>0.92500</td>\n",
       "      <td>180.067000</td>\n",
       "      <td>312820.000000</td>\n",
       "      <td>5.000000</td>\n",
       "      <td>2020.0</td>\n",
       "    </tr>\n",
       "  </tbody>\n",
       "</table>\n",
       "</div>"
      ],
      "text/plain": [
       "       danceability     energy        key   loudness       mode  speechiness  \\\n",
       "count     50.000000  50.000000  50.000000  50.000000  50.000000    50.000000   \n",
       "mean       0.717780   0.610840   5.720000  -6.230000   0.480000     0.124040   \n",
       "std        0.125459   0.151859   3.709007   2.348198   0.504672     0.116892   \n",
       "min        0.351000   0.225000   0.000000 -14.454000   0.000000     0.029000   \n",
       "25%        0.672500   0.494000   2.000000  -7.552500   0.000000     0.048325   \n",
       "50%        0.746000   0.594000   6.500000  -5.991500   0.000000     0.070050   \n",
       "75%        0.801000   0.729750   8.750000  -4.285500   1.000000     0.156250   \n",
       "max        0.935000   0.855000  11.000000  -3.280000   1.000000     0.487000   \n",
       "\n",
       "       acousticness  instrumentalness   liveness   valence       tempo  \\\n",
       "count     50.000000         50.000000  50.000000  50.00000   50.000000   \n",
       "mean       0.255898          0.015954   0.195898   0.55671  119.692520   \n",
       "std        0.266283          0.094313   0.173255   0.21664   25.412022   \n",
       "min        0.001460          0.000000   0.057400   0.06050   75.801000   \n",
       "25%        0.052800          0.000000   0.093950   0.43400   99.557250   \n",
       "50%        0.184000          0.000000   0.111000   0.56000  116.969000   \n",
       "75%        0.298750          0.000020   0.281000   0.72400  132.317000   \n",
       "max        0.934000          0.657000   0.790000   0.92500  180.067000   \n",
       "\n",
       "         duration_ms  time_signature    year  \n",
       "count      50.000000       50.000000    50.0  \n",
       "mean   199947.560000        4.000000  2020.0  \n",
       "std     33993.319583        0.202031     0.0  \n",
       "min    140533.000000        3.000000  2020.0  \n",
       "25%    175845.500000        4.000000  2020.0  \n",
       "50%    197853.500000        4.000000  2020.0  \n",
       "75%    215044.000000        4.000000  2020.0  \n",
       "max    312820.000000        5.000000  2020.0  "
      ]
     },
     "execution_count": 16,
     "metadata": {},
     "output_type": "execute_result"
    }
   ],
   "source": [
    "df_songs.describe()"
   ]
  },
  {
   "cell_type": "code",
   "execution_count": null,
   "id": "89afcbcd",
   "metadata": {},
   "outputs": [],
   "source": []
  }
 ],
 "metadata": {
  "kernelspec": {
   "display_name": "Python 3 (ipykernel)",
   "language": "python",
   "name": "python3"
  },
  "language_info": {
   "codemirror_mode": {
    "name": "ipython",
    "version": 3
   },
   "file_extension": ".py",
   "mimetype": "text/x-python",
   "name": "python",
   "nbconvert_exporter": "python",
   "pygments_lexer": "ipython3",
   "version": "3.10.9"
  }
 },
 "nbformat": 4,
 "nbformat_minor": 5
}
