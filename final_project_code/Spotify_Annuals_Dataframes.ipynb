{
 "cells": [
  {
   "cell_type": "code",
   "execution_count": 13,
   "id": "082661f5",
   "metadata": {},
   "outputs": [],
   "source": [
    "df_songs = build_songs_dataframe(\"2022_playlist_audio_features.jsonl\")"
   ]
  },
  {
   "cell_type": "code",
   "execution_count": 14,
   "id": "e8d648f0",
   "metadata": {},
   "outputs": [],
   "source": [
    "df_songs.to_csv(\"2022annuals_df.csv\")"
   ]
  },
  {
   "cell_type": "code",
   "execution_count": null,
   "id": "ab06bcec",
   "metadata": {},
   "outputs": [],
   "source": []
  }
 ],
 "metadata": {
  "kernelspec": {
   "display_name": "Python 3 (ipykernel)",
   "language": "python",
   "name": "python3"
  },
  "language_info": {
   "codemirror_mode": {
    "name": "ipython",
    "version": 3
   },
   "file_extension": ".py",
   "mimetype": "text/x-python",
   "name": "python",
   "nbconvert_exporter": "python",
   "pygments_lexer": "ipython3",
   "version": "3.10.9"
  }
 },
 "nbformat": 4,
 "nbformat_minor": 5
}
