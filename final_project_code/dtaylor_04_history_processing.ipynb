{
 "cells": [
  {
   "cell_type": "code",
   "execution_count": 1,
   "id": "dc0b7a48",
   "metadata": {},
   "outputs": [],
   "source": [
    "import json"
   ]
  },
  {
   "cell_type": "markdown",
   "id": "87dc3b93",
   "metadata": {},
   "source": [
    "I used the # to stop my code from printing every single book, for every single category, of every single week, for every single year just for the sake of turning in this notebook - these parts of my code weren't necessary for my final analysis I just printed it so I could visualize the data I was working with and to make sure I wasn't accidentally duplicating years"
   ]
  },
  {
   "cell_type": "markdown",
   "id": "89a9fc05",
   "metadata": {},
   "source": [
    "# 2008"
   ]
  },
  {
   "cell_type": "code",
   "execution_count": 2,
   "id": "03b731aa",
   "metadata": {},
   "outputs": [],
   "source": [
    "with open(\"2008.json\", 'r') as input_file:\n",
    "    download = input_file.read() "
   ]
  },
  {
   "cell_type": "code",
   "execution_count": 3,
   "id": "2298e001",
   "metadata": {},
   "outputs": [],
   "source": [
    "final_2008 = json.loads(download)"
   ]
  },
  {
   "cell_type": "code",
   "execution_count": 4,
   "id": "cbec3e1f",
   "metadata": {},
   "outputs": [],
   "source": [
    "del final_2008[0]"
   ]
  },
  {
   "cell_type": "code",
   "execution_count": 5,
   "id": "7e95ab7c",
   "metadata": {},
   "outputs": [],
   "source": [
    "del final_2008[0]"
   ]
  },
  {
   "cell_type": "code",
   "execution_count": 84,
   "id": "54e4a72e",
   "metadata": {
    "scrolled": true
   },
   "outputs": [],
   "source": [
    "#for week in final_2008:\n",
    "#    print(f\"{week['results']['published_date']}\")\n",
    "#    for lists in week['results']['lists']:\n",
    "#        print(f\"{lists['list_name']}\")\n",
    "#        for books in lists['books']:\n",
    "#            print(f\"{books['title']}: {books['weeks_on_list']}\")\n",
    "#        print()"
   ]
  },
  {
   "cell_type": "code",
   "execution_count": 7,
   "id": "774c0a3f",
   "metadata": {},
   "outputs": [],
   "source": [
    "with open('2008.tsv', 'w') as output_file:\n",
    "    print(\"title\\tweeks on list\", file=output_file)\n",
    "    for week in final_2008:\n",
    "        for lists in week['results']['lists']:\n",
    "            for books in lists['books']:\n",
    "                print(f\"{books['title']}\\t{books['weeks_on_list']}\", file=output_file)"
   ]
  },
  {
   "cell_type": "markdown",
   "id": "88051e1d",
   "metadata": {},
   "source": [
    "# 2009"
   ]
  },
  {
   "cell_type": "code",
   "execution_count": 8,
   "id": "2ad01409",
   "metadata": {},
   "outputs": [],
   "source": [
    "with open(\"2009.json\", 'r') as input_file:\n",
    "    download1 = input_file.read() "
   ]
  },
  {
   "cell_type": "code",
   "execution_count": 9,
   "id": "54732217",
   "metadata": {},
   "outputs": [],
   "source": [
    "final_2009 = json.loads(download1)"
   ]
  },
  {
   "cell_type": "code",
   "execution_count": 85,
   "id": "d9e9f0d9",
   "metadata": {},
   "outputs": [],
   "source": [
    "#for week in final_2009:\n",
    "#    print(f\"{week['results']['published_date']}\")\n",
    "#    for lists in week['results']['lists']:\n",
    "#        print(f\"{lists['list_name']}\")\n",
    "#        for books in lists['books']:\n",
    "#            print(f\"{lists['list_name']}: {books['title']}: {books['weeks_on_list']}\")\n",
    "#        print()"
   ]
  },
  {
   "cell_type": "code",
   "execution_count": 11,
   "id": "8d253d34",
   "metadata": {},
   "outputs": [],
   "source": [
    "with open('2009.tsv', 'w') as output_file:\n",
    "    print(\"title\\tweeks on list\", file=output_file)\n",
    "    for week in final_2009:\n",
    "        for lists in week['results']['lists']:\n",
    "            for books in lists['books']:\n",
    "                print(f\"{books['title']}\\t{books['weeks_on_list']}\", file=output_file)"
   ]
  },
  {
   "cell_type": "markdown",
   "id": "ad3b7874",
   "metadata": {},
   "source": [
    "# 2010"
   ]
  },
  {
   "cell_type": "code",
   "execution_count": 12,
   "id": "7084c285",
   "metadata": {},
   "outputs": [],
   "source": [
    "with open(\"2010.json\", 'r') as input_file:\n",
    "    download2 = input_file.read() "
   ]
  },
  {
   "cell_type": "code",
   "execution_count": 13,
   "id": "1ae2374f",
   "metadata": {},
   "outputs": [],
   "source": [
    "final_2010 = json.loads(download2)"
   ]
  },
  {
   "cell_type": "code",
   "execution_count": 86,
   "id": "543d21e8",
   "metadata": {},
   "outputs": [],
   "source": [
    "#for week in final_2010:\n",
    "#    print(f\"{week['results']['published_date']}\")\n",
    "#    for lists in week['results']['lists']:\n",
    "#        print(f\"{lists['list_name']}\")\n",
    "#        for books in lists['books']:\n",
    "#            print(f\"{books['title']}: {books['weeks_on_list']}\")\n",
    "#        print()"
   ]
  },
  {
   "cell_type": "code",
   "execution_count": 15,
   "id": "794bc763",
   "metadata": {},
   "outputs": [],
   "source": [
    "with open('2010.tsv', 'w') as output_file:\n",
    "    print(\"title\\tweeks on list\", file=output_file)\n",
    "    for week in final_2010:\n",
    "        for lists in week['results']['lists']:\n",
    "            for books in lists['books']:\n",
    "                print(f\"{books['title']}\\t{books['weeks_on_list']}\", file=output_file)"
   ]
  },
  {
   "cell_type": "markdown",
   "id": "8ea7f57a",
   "metadata": {},
   "source": [
    "# 2011"
   ]
  },
  {
   "cell_type": "code",
   "execution_count": 16,
   "id": "a1e754b6",
   "metadata": {},
   "outputs": [],
   "source": [
    "with open(\"2011.json\", 'r') as input_file:\n",
    "    download3 = input_file.read() "
   ]
  },
  {
   "cell_type": "code",
   "execution_count": 17,
   "id": "c6af6409",
   "metadata": {},
   "outputs": [],
   "source": [
    "final_2011 = json.loads(download3)"
   ]
  },
  {
   "cell_type": "code",
   "execution_count": 87,
   "id": "7305a4fd",
   "metadata": {},
   "outputs": [],
   "source": [
    "#for week in final_2011:\n",
    "#    print(f\"{week['results']['published_date']}\")\n",
    "#    for lists in week['results']['lists']:\n",
    "#        print(f\"{lists['list_name']}\")\n",
    "#        for books in lists['books']:\n",
    "#            print(f\"{books['title']}: {books['weeks_on_list']}\")\n",
    "#        print()"
   ]
  },
  {
   "cell_type": "code",
   "execution_count": 19,
   "id": "776e1cf5",
   "metadata": {},
   "outputs": [],
   "source": [
    "with open('2011.tsv', 'w') as output_file:\n",
    "    print(\"title\\tweeks on list\", file=output_file)\n",
    "    for week in final_2011:\n",
    "        for lists in week['results']['lists']:\n",
    "            for books in lists['books']:\n",
    "                print(f\"{books['title']}\\t{books['weeks_on_list']}\", file=output_file)"
   ]
  },
  {
   "cell_type": "markdown",
   "id": "d76f1eb4",
   "metadata": {},
   "source": [
    "# 2012"
   ]
  },
  {
   "cell_type": "code",
   "execution_count": 20,
   "id": "a770b0ce",
   "metadata": {},
   "outputs": [],
   "source": [
    "with open(\"2012.json\", 'r') as input_file:\n",
    "    download4 = input_file.read() "
   ]
  },
  {
   "cell_type": "code",
   "execution_count": 21,
   "id": "c3d160bb",
   "metadata": {},
   "outputs": [],
   "source": [
    "final_2012 = json.loads(download4)"
   ]
  },
  {
   "cell_type": "code",
   "execution_count": 88,
   "id": "f518d8ad",
   "metadata": {},
   "outputs": [],
   "source": [
    "#for week in final_2012:\n",
    "#    print(f\"{week['results']['published_date']}\")\n",
    "#    for lists in week['results']['lists']:\n",
    "#        print(f\"{lists['list_name']}\")\n",
    "#        for books in lists['books']:\n",
    "#            print(f\"{books['title']}: {books['weeks_on_list']}\")\n",
    "#       print()"
   ]
  },
  {
   "cell_type": "code",
   "execution_count": 23,
   "id": "80b6329d",
   "metadata": {},
   "outputs": [],
   "source": [
    "with open('2012.tsv', 'w') as output_file:\n",
    "    print(\"title\\tweeks on list\", file=output_file)\n",
    "    for week in final_2012:\n",
    "        for lists in week['results']['lists']:\n",
    "            for books in lists['books']:\n",
    "                print(f\"{books['title']}\\t{books['weeks_on_list']}\", file=output_file)"
   ]
  },
  {
   "cell_type": "markdown",
   "id": "5ae08550",
   "metadata": {},
   "source": [
    "# 2013"
   ]
  },
  {
   "cell_type": "code",
   "execution_count": 24,
   "id": "8db1ad51",
   "metadata": {},
   "outputs": [],
   "source": [
    "with open(\"2013.json\", 'r') as input_file:\n",
    "    download5 = input_file.read() "
   ]
  },
  {
   "cell_type": "code",
   "execution_count": 25,
   "id": "ef04622d",
   "metadata": {},
   "outputs": [],
   "source": [
    "final_2013 = json.loads(download5)"
   ]
  },
  {
   "cell_type": "code",
   "execution_count": 90,
   "id": "b1e58a1c",
   "metadata": {},
   "outputs": [],
   "source": [
    "#for week in final_2013:\n",
    "#    print(f\"{week['results']['published_date']}\")\n",
    "#    for lists in week['results']['lists']:\n",
    "#        print(f\"{lists['list_name']}\")\n",
    "#        for books in lists['books']:\n",
    "#            print(f\"{books['title']}: {books['weeks_on_list']}\")\n",
    "#        print()"
   ]
  },
  {
   "cell_type": "code",
   "execution_count": 27,
   "id": "cedb41a8",
   "metadata": {},
   "outputs": [],
   "source": [
    "with open('2013.tsv', 'w') as output_file:\n",
    "    print(\"title\\tweeks on list\", file=output_file)\n",
    "    for week in final_2013:\n",
    "        for lists in week['results']['lists']:\n",
    "            for books in lists['books']:\n",
    "                print(f\"{books['title']}\\t{books['weeks_on_list']}\", file=output_file)"
   ]
  },
  {
   "cell_type": "markdown",
   "id": "b5baac51",
   "metadata": {},
   "source": [
    "# 2014"
   ]
  },
  {
   "cell_type": "code",
   "execution_count": 28,
   "id": "a4d15a5a",
   "metadata": {},
   "outputs": [],
   "source": [
    "with open(\"2014.json\", 'r') as input_file:\n",
    "    download6 = input_file.read() "
   ]
  },
  {
   "cell_type": "code",
   "execution_count": 29,
   "id": "2b9e7249",
   "metadata": {},
   "outputs": [],
   "source": [
    "final_2014 = json.loads(download6)"
   ]
  },
  {
   "cell_type": "code",
   "execution_count": 91,
   "id": "f23831ad",
   "metadata": {},
   "outputs": [],
   "source": [
    "#for week in final_2014:\n",
    "#    print(f\"{week['results']['published_date']}\")\n",
    "#    for lists in week['results']['lists']:\n",
    "#        print(f\"{lists['list_name']}\")\n",
    "#        for books in lists['books']:\n",
    "#            print(f\"{books['title']}: {books['weeks_on_list']}\")\n",
    "#        print()"
   ]
  },
  {
   "cell_type": "code",
   "execution_count": 31,
   "id": "66d8b92c",
   "metadata": {},
   "outputs": [],
   "source": [
    "with open('2014.tsv', 'w') as output_file:\n",
    "    print(\"title\\tweeks on list\", file=output_file)\n",
    "    for week in final_2014:\n",
    "        for lists in week['results']['lists']:\n",
    "            for books in lists['books']:\n",
    "                print(f\"{books['title']}\\t{books['weeks_on_list']}\", file=output_file)"
   ]
  },
  {
   "cell_type": "markdown",
   "id": "8a89c675",
   "metadata": {},
   "source": [
    "# 2015"
   ]
  },
  {
   "cell_type": "code",
   "execution_count": 32,
   "id": "f925bcf1",
   "metadata": {},
   "outputs": [],
   "source": [
    "with open(\"2015.json\", 'r') as input_file:\n",
    "    download7 = input_file.read() "
   ]
  },
  {
   "cell_type": "code",
   "execution_count": 33,
   "id": "93b908ab",
   "metadata": {},
   "outputs": [],
   "source": [
    "final_2015 = json.loads(download7)"
   ]
  },
  {
   "cell_type": "code",
   "execution_count": 83,
   "id": "728ca048",
   "metadata": {},
   "outputs": [],
   "source": [
    "#for week in final_2015:\n",
    "#    print(f\"{week['results']['published_date']}\")\n",
    "#    for lists in week['results']['lists']:\n",
    "#        print(f\"{lists['list_name']}\")\n",
    "#        for books in lists['books']:\n",
    "#            print(f\"{books['title']}: {books['weeks_on_list']}\")\n",
    "#        print()"
   ]
  },
  {
   "cell_type": "code",
   "execution_count": 35,
   "id": "1f7d3f1c",
   "metadata": {},
   "outputs": [],
   "source": [
    "with open('2015.tsv', 'w') as output_file:\n",
    "    print(\"title\\tweeks on list\", file=output_file)\n",
    "    for week in final_2015:\n",
    "        for lists in week['results']['lists']:\n",
    "            for books in lists['books']:\n",
    "                print(f\"{books['title']}\\t{books['weeks_on_list']}\", file=output_file)"
   ]
  },
  {
   "cell_type": "markdown",
   "id": "3e9a22f2",
   "metadata": {},
   "source": [
    "# 2016"
   ]
  },
  {
   "cell_type": "code",
   "execution_count": 36,
   "id": "82d1d5c5",
   "metadata": {},
   "outputs": [],
   "source": [
    "with open(\"2016.json\", 'r') as input_file:\n",
    "    download8 = input_file.read() "
   ]
  },
  {
   "cell_type": "code",
   "execution_count": 37,
   "id": "b99f7aeb",
   "metadata": {},
   "outputs": [],
   "source": [
    "final_2016 = json.loads(download8)"
   ]
  },
  {
   "cell_type": "code",
   "execution_count": 92,
   "id": "0a1b5c0e",
   "metadata": {},
   "outputs": [],
   "source": [
    "#for week in final_2016:\n",
    "#    print(f\"{week['results']['published_date']}\")\n",
    "#    for lists in week['results']['lists']:\n",
    "#        print(f\"{lists['list_name']}\")\n",
    "#        for books in lists['books']:\n",
    "#            print(f\"{books['title']}: {books['weeks_on_list']}\")\n",
    "#        print()"
   ]
  },
  {
   "cell_type": "code",
   "execution_count": 39,
   "id": "09f30851",
   "metadata": {},
   "outputs": [],
   "source": [
    "with open('2016.tsv', 'w') as output_file:\n",
    "    print(\"title\\tweeks on list\", file=output_file)\n",
    "    for week in final_2016:\n",
    "        for lists in week['results']['lists']:\n",
    "            for books in lists['books']:\n",
    "                print(f\"{books['title']}\\t{books['weeks_on_list']}\", file=output_file)"
   ]
  },
  {
   "cell_type": "markdown",
   "id": "781e64da",
   "metadata": {},
   "source": [
    "# 2017"
   ]
  },
  {
   "cell_type": "code",
   "execution_count": 40,
   "id": "c7c5d56a",
   "metadata": {},
   "outputs": [],
   "source": [
    "with open(\"2017.json\", 'r') as input_file:\n",
    "    download9 = input_file.read() "
   ]
  },
  {
   "cell_type": "code",
   "execution_count": 41,
   "id": "38580521",
   "metadata": {},
   "outputs": [],
   "source": [
    "final_2017 = json.loads(download9)"
   ]
  },
  {
   "cell_type": "code",
   "execution_count": 93,
   "id": "e0932b47",
   "metadata": {},
   "outputs": [],
   "source": [
    "#for week in final_2017:\n",
    "#    print(f\"{week['results']['published_date']}\")\n",
    "#    for lists in week['results']['lists']:\n",
    "#        print(f\"{lists['list_name']}\")\n",
    "#        for books in lists['books']:\n",
    "#            print(f\"{books['title']}: {books['weeks_on_list']}\")\n",
    "#        print()"
   ]
  },
  {
   "cell_type": "code",
   "execution_count": 43,
   "id": "90cf70e8",
   "metadata": {},
   "outputs": [],
   "source": [
    "with open('2017.tsv', 'w') as output_file:\n",
    "    print(\"title\\tweeks on list\", file=output_file)\n",
    "    for week in final_2017:\n",
    "        for lists in week['results']['lists']:\n",
    "            for books in lists['books']:\n",
    "                print(f\"{books['title']}\\t{books['weeks_on_list']}\", file=output_file)"
   ]
  },
  {
   "cell_type": "markdown",
   "id": "647c1856",
   "metadata": {},
   "source": [
    "# 2018"
   ]
  },
  {
   "cell_type": "code",
   "execution_count": 44,
   "id": "a066cc77",
   "metadata": {},
   "outputs": [],
   "source": [
    "with open(\"2018.json\", 'r') as input_file:\n",
    "    download10 = input_file.read() "
   ]
  },
  {
   "cell_type": "code",
   "execution_count": 45,
   "id": "c3099d2f",
   "metadata": {},
   "outputs": [],
   "source": [
    "final_2018 = json.loads(download10)"
   ]
  },
  {
   "cell_type": "code",
   "execution_count": 94,
   "id": "fe4c746c",
   "metadata": {},
   "outputs": [],
   "source": [
    "#for week in final_2018:\n",
    "#    print(f\"{week['results']['published_date']}\")\n",
    "#    for lists in week['results']['lists']:\n",
    "#        print(f\"{lists['list_name']}\")\n",
    "#        for books in lists['books']:\n",
    "#            print(f\"{books['title']}: {books['weeks_on_list']}\")\n",
    "#        print()"
   ]
  },
  {
   "cell_type": "code",
   "execution_count": 47,
   "id": "84883fa5",
   "metadata": {},
   "outputs": [],
   "source": [
    "with open('2018.tsv', 'w') as output_file:\n",
    "    print(\"title\\tweeks on list\", file=output_file)\n",
    "    for week in final_2018:\n",
    "        for lists in week['results']['lists']:\n",
    "            for books in lists['books']:\n",
    "                print(f\"{books['title']}\\t{books['weeks_on_list']}\", file=output_file)"
   ]
  },
  {
   "cell_type": "markdown",
   "id": "0d64928b",
   "metadata": {},
   "source": [
    "# 2019"
   ]
  },
  {
   "cell_type": "code",
   "execution_count": 48,
   "id": "9a847d9b",
   "metadata": {},
   "outputs": [],
   "source": [
    "with open(\"2019.json\", 'r') as input_file:\n",
    "    download11 = input_file.read() "
   ]
  },
  {
   "cell_type": "code",
   "execution_count": 49,
   "id": "82edc4b4",
   "metadata": {},
   "outputs": [],
   "source": [
    "final_2019 = json.loads(download11)"
   ]
  },
  {
   "cell_type": "code",
   "execution_count": 95,
   "id": "e68b0a3a",
   "metadata": {},
   "outputs": [],
   "source": [
    "#for week in final_2019:\n",
    "#    print(f\"{week['results']['published_date']}\")\n",
    "#    for lists in week['results']['lists']:\n",
    "#        print(f\"{lists['list_name']}\")\n",
    "#        for books in lists['books']:\n",
    "#            print(f\"{books['title']}: {books['weeks_on_list']}\")\n",
    "#        print()"
   ]
  },
  {
   "cell_type": "code",
   "execution_count": 51,
   "id": "4628fe4a",
   "metadata": {},
   "outputs": [],
   "source": [
    "with open('2019.tsv', 'w') as output_file:\n",
    "    print(\"title\\tweeks on list\", file=output_file)\n",
    "    for week in final_2019:\n",
    "        for lists in week['results']['lists']:\n",
    "            for books in lists['books']:\n",
    "                print(f\"{books['title']}\\t{books['weeks_on_list']}\", file=output_file)"
   ]
  },
  {
   "cell_type": "markdown",
   "id": "5278eca6",
   "metadata": {},
   "source": [
    "# 2020"
   ]
  },
  {
   "cell_type": "code",
   "execution_count": 52,
   "id": "3637b0a5",
   "metadata": {},
   "outputs": [],
   "source": [
    "with open(\"2020.json\", 'r') as input_file:\n",
    "    download12 = input_file.read() "
   ]
  },
  {
   "cell_type": "code",
   "execution_count": 53,
   "id": "5be26354",
   "metadata": {},
   "outputs": [],
   "source": [
    "final_2020 = json.loads(download12)"
   ]
  },
  {
   "cell_type": "code",
   "execution_count": 96,
   "id": "1239691b",
   "metadata": {},
   "outputs": [],
   "source": [
    "#for week in final_2020:\n",
    "#    print(f\"{week['results']['published_date']}\")\n",
    "#    for lists in week['results']['lists']:\n",
    "#        print(f\"{lists['list_name']}\")\n",
    "#        for books in lists['books']:\n",
    "#            print(f\"{books['title']}: {books['weeks_on_list']}\")\n",
    "#        print()"
   ]
  },
  {
   "cell_type": "code",
   "execution_count": 55,
   "id": "bc5cd940",
   "metadata": {},
   "outputs": [],
   "source": [
    "with open('2020.tsv', 'w') as output_file:\n",
    "    print(\"title\\tweeks on list\", file=output_file)\n",
    "    for week in final_2020:\n",
    "        for lists in week['results']['lists']:\n",
    "            for books in lists['books']:\n",
    "                print(f\"{books['title']}\\t{books['weeks_on_list']}\", file=output_file)"
   ]
  },
  {
   "cell_type": "markdown",
   "id": "a2c4ceaf",
   "metadata": {},
   "source": [
    "# 2021"
   ]
  },
  {
   "cell_type": "code",
   "execution_count": 56,
   "id": "1c1ca110",
   "metadata": {},
   "outputs": [],
   "source": [
    "with open(\"2021.json\", 'r') as input_file:\n",
    "    download13 = input_file.read() "
   ]
  },
  {
   "cell_type": "code",
   "execution_count": 57,
   "id": "4ed23671",
   "metadata": {},
   "outputs": [],
   "source": [
    "final_2021 = json.loads(download13)"
   ]
  },
  {
   "cell_type": "code",
   "execution_count": 97,
   "id": "f4a0a1e5",
   "metadata": {
    "scrolled": true
   },
   "outputs": [],
   "source": [
    "#for week in final_2021:\n",
    "#    print(f\"{week['results']['published_date']}\")\n",
    "#    for lists in week['results']['lists']:\n",
    "#        print(f\"{lists['list_name']}\")\n",
    "#        for books in lists['books']:\n",
    "#            print(f\"{books['title']}: {books['weeks_on_list']}\")\n",
    "#        print()"
   ]
  },
  {
   "cell_type": "code",
   "execution_count": 59,
   "id": "b47ad9e0",
   "metadata": {},
   "outputs": [],
   "source": [
    "with open('2021.tsv', 'w') as output_file:\n",
    "    print(\"title\\tweeks on list\", file=output_file)\n",
    "    for week in final_2021:\n",
    "        for lists in week['results']['lists']:\n",
    "            for books in lists['books']:\n",
    "                print(f\"{books['title']}\\t{books['weeks_on_list']}\", file=output_file)"
   ]
  },
  {
   "cell_type": "markdown",
   "id": "c124abfc",
   "metadata": {},
   "source": [
    "# 2022"
   ]
  },
  {
   "cell_type": "code",
   "execution_count": 60,
   "id": "8392e985",
   "metadata": {},
   "outputs": [],
   "source": [
    "with open(\"2022.json\", 'r') as input_file:\n",
    "    download14 = input_file.read() "
   ]
  },
  {
   "cell_type": "code",
   "execution_count": 61,
   "id": "715a53e7",
   "metadata": {},
   "outputs": [],
   "source": [
    "final_2022 = json.loads(download14)"
   ]
  },
  {
   "cell_type": "code",
   "execution_count": 98,
   "id": "7404ac9c",
   "metadata": {},
   "outputs": [],
   "source": [
    "#for week in final_2022:\n",
    "#    print(f\"{week['results']['published_date']}\")\n",
    "#    for lists in week['results']['lists']:\n",
    "#        print(f\"{lists['list_name']}\")\n",
    "#        for books in lists['books']:\n",
    "#            print(f\"{books['title']}: {books['weeks_on_list']}\")\n",
    "#        print()"
   ]
  },
  {
   "cell_type": "code",
   "execution_count": 63,
   "id": "69e8c850",
   "metadata": {},
   "outputs": [],
   "source": [
    "with open('2022.tsv', 'w') as output_file:\n",
    "    print(\"title\\tweeks on list\", file=output_file)\n",
    "    for week in final_2022:\n",
    "        for lists in week['results']['lists']:\n",
    "            for books in lists['books']:\n",
    "                print(f\"{books['title']}\\t{books['weeks_on_list']}\", file=output_file)"
   ]
  },
  {
   "cell_type": "markdown",
   "id": "47d638ee",
   "metadata": {},
   "source": [
    "# 2023"
   ]
  },
  {
   "cell_type": "code",
   "execution_count": 64,
   "id": "6a4f0e26",
   "metadata": {},
   "outputs": [],
   "source": [
    "with open(\"2023.json\", 'r') as input_file:\n",
    "    download15 = input_file.read() "
   ]
  },
  {
   "cell_type": "code",
   "execution_count": 65,
   "id": "cb995256",
   "metadata": {},
   "outputs": [],
   "source": [
    "final_2023 = json.loads(download15)"
   ]
  },
  {
   "cell_type": "code",
   "execution_count": 99,
   "id": "a7ca9b68",
   "metadata": {},
   "outputs": [],
   "source": [
    "#for week in final_2023:\n",
    "#    print(f\"{week['results']['published_date']}\")\n",
    "#    for lists in week['results']['lists']:\n",
    "#        print(f\"{lists['list_name']}\")\n",
    "#        for books in lists['books']:\n",
    "#            print(f\"{books['title']}: {books['weeks_on_list']}\")\n",
    "#        print()"
   ]
  },
  {
   "cell_type": "code",
   "execution_count": 67,
   "id": "b3c067bd",
   "metadata": {},
   "outputs": [],
   "source": [
    "with open('2023.tsv', 'w') as output_file:\n",
    "    print(\"title\\tweeks on list\", file=output_file)\n",
    "    for week in final_2023:\n",
    "        for lists in week['results']['lists']:\n",
    "            for books in lists['books']:\n",
    "                print(f\"{books['title']}\\t{books['weeks_on_list']}\", file=output_file)"
   ]
  },
  {
   "cell_type": "code",
   "execution_count": null,
   "id": "7b85b249",
   "metadata": {},
   "outputs": [],
   "source": []
  }
 ],
 "metadata": {
  "kernelspec": {
   "display_name": "Python 3 (ipykernel)",
   "language": "python",
   "name": "python3"
  },
  "language_info": {
   "codemirror_mode": {
    "name": "ipython",
    "version": 3
   },
   "file_extension": ".py",
   "mimetype": "text/x-python",
   "name": "python",
   "nbconvert_exporter": "python",
   "pygments_lexer": "ipython3",
   "version": "3.10.9"
  }
 },
 "nbformat": 4,
 "nbformat_minor": 5
}
