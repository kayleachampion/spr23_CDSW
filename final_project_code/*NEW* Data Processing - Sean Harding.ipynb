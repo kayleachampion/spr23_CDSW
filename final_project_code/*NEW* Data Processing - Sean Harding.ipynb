{
 "cells": [
  {
   "cell_type": "code",
   "execution_count": 1,
   "id": "fc921764",
   "metadata": {},
   "outputs": [],
   "source": [
    "import json\n",
    "import zstandard\n",
    "import io\n",
    "from datetime import datetime\n",
    "import pandas as pd\n",
    "import csv\n",
    "import sys\n",
    "import numpy as np"
   ]
  },
  {
   "cell_type": "code",
   "execution_count": 3,
   "id": "bf71f85f",
   "metadata": {},
   "outputs": [],
   "source": [
    "articles = []\n",
    "\n",
    "with open(\"sean_output-combo-20230526.jsonl.zst\", 'rb') as fh:\n",
    "    dctx = zstandard.ZstdDecompressor()\n",
    "    stream_reader = dctx.stream_reader(fh)\n",
    "    text_stream = io.TextIOWrapper(stream_reader, encoding='utf-8')\n",
    "    for line in text_stream:\n",
    "        articles.append(line)"
   ]
  },
  {
   "cell_type": "code",
   "execution_count": 4,
   "id": "21b1b31e",
   "metadata": {},
   "outputs": [
    {
     "data": {
      "text/plain": [
       "203350"
      ]
     },
     "execution_count": 4,
     "metadata": {},
     "output_type": "execute_result"
    }
   ],
   "source": [
    "len(articles)"
   ]
  },
  {
   "cell_type": "code",
   "execution_count": 5,
   "id": "ae410f6c",
   "metadata": {},
   "outputs": [
    {
     "data": {
      "text/plain": [
       "203350"
      ]
     },
     "execution_count": 5,
     "metadata": {},
     "output_type": "execute_result"
    }
   ],
   "source": [
    "articlesJ = []\n",
    "for article in articles:\n",
    "    data = json.loads(article)\n",
    "    articlesJ.append(data)\n",
    "    \n",
    "len(articlesJ)\n",
    "\n",
    "#with open(\"articles_compiled.json\", 'w') as my_file:\n",
    " #   data_string = json.dumps(articles)\n",
    "  #  print(data_string, file=my_file)"
   ]
  },
  {
   "cell_type": "code",
   "execution_count": 4,
   "id": "de74f3ce",
   "metadata": {},
   "outputs": [
    {
     "data": {
      "text/plain": [
       "1"
      ]
     },
     "execution_count": 4,
     "metadata": {},
     "output_type": "execute_result"
    }
   ],
   "source": [
    "article_list = []\n",
    "\n",
    "with open(\"articles_compiled.json\", 'r') as input_file:\n",
    "    for article in input_file:\n",
    "        input_data = json.loads(article)\n",
    "        article_list.append(input_data)\n",
    "        \n",
    "len(article_list)"
   ]
  },
  {
   "cell_type": "code",
   "execution_count": 6,
   "id": "aab779b9",
   "metadata": {},
   "outputs": [
    {
     "data": {
      "text/plain": [
       "'hello hi hey'"
      ]
     },
     "execution_count": 6,
     "metadata": {},
     "output_type": "execute_result"
    }
   ],
   "source": [
    "def sanitize_selftext(selftext):\n",
    "    selftext = selftext.replace('\\r\\n\\r\\n', ' ')\n",
    "    selftext = selftext.replace('\\n', ' ')\n",
    "    selftext = selftext.replace('\\t', ' ')\n",
    "    selftext = selftext.replace('\\r', ' ')\n",
    "    return selftext \n",
    "\n",
    "sanitize_selftext(\"hello\\nhi\\they\")"
   ]
  },
  {
   "cell_type": "code",
   "execution_count": null,
   "id": "07f1b415",
   "metadata": {},
   "outputs": [],
   "source": [
    "type(articlesJ)\n",
    "type(articlesJ[1])"
   ]
  },
  {
   "cell_type": "code",
   "execution_count": 7,
   "id": "e2447f7a",
   "metadata": {},
   "outputs": [],
   "source": [
    "d1 = datetime(2001,1,20)\n",
    "d2 = datetime(2009,1,20)\n",
    "d3 = datetime(2013,1,20)\n",
    "d4 = datetime(2017,1,20)\n",
    "d5 = datetime(2021,1,20)\n",
    "\n",
    "#df = pd.DataFrame()\n",
    "\n",
    "list_of_rows = []\n",
    "    \n",
    "for article in articlesJ:\n",
    "    \n",
    "    \n",
    "    datetime_object = datetime.strptime(article[\"date\"], '%Y-%m-%d %H:%M:%S')\n",
    "    newtext = sanitize_selftext(article[\"body\"])\n",
    "    if newtext == \"\":\n",
    "        newtext = \" \"\n",
    "    if datetime_object < d2:\n",
    "        administration = \"Bush\"\n",
    "    elif datetime_object < d3:\n",
    "        administration = \"Obama 1\"\n",
    "    elif datetime_object < d4:\n",
    "        administration = \"Obama 2\"\n",
    "    elif datetime_object < d5:\n",
    "        administration = \"Trump\"\n",
    "    else:\n",
    "        administration = \"Biden\"\n",
    "    #print (f'{article[\"id\"]}\\t{datetime_object}\\t{administration}\\t{article[\"title\"]}\\t{article[\"author\"]}\\t{newtext}', file=output_file)\n",
    "    list_of_rows.append({'id':article[\"id\"],\n",
    "                        'date':datetime_object,\n",
    "                        'title':article['title'],\n",
    "                        'administration':administration,\n",
    "                        'author':article['author'],\n",
    "                        'body':newtext})\n",
    "\n",
    "#add title!"
   ]
  },
  {
   "cell_type": "code",
   "execution_count": 9,
   "id": "b539adff",
   "metadata": {},
   "outputs": [],
   "source": [
    "articlesdf = pd.DataFrame(list_of_rows)"
   ]
  },
  {
   "cell_type": "code",
   "execution_count": 10,
   "id": "a6f9cef4",
   "metadata": {},
   "outputs": [
    {
     "data": {
      "text/html": [
       "<div>\n",
       "<style scoped>\n",
       "    .dataframe tbody tr th:only-of-type {\n",
       "        vertical-align: middle;\n",
       "    }\n",
       "\n",
       "    .dataframe tbody tr th {\n",
       "        vertical-align: top;\n",
       "    }\n",
       "\n",
       "    .dataframe thead th {\n",
       "        text-align: right;\n",
       "    }\n",
       "</style>\n",
       "<table border=\"1\" class=\"dataframe\">\n",
       "  <thead>\n",
       "    <tr style=\"text-align: right;\">\n",
       "      <th></th>\n",
       "      <th>id</th>\n",
       "      <th>date</th>\n",
       "      <th>administration</th>\n",
       "      <th>author</th>\n",
       "      <th>body</th>\n",
       "    </tr>\n",
       "  </thead>\n",
       "  <tbody>\n",
       "    <tr>\n",
       "      <th>0</th>\n",
       "      <td>1</td>\n",
       "      <td>2006-09-08 18:26:39</td>\n",
       "      <td>Bush</td>\n",
       "      <td>ARNEWS</td>\n",
       "      <td>WASHINGTON (Army News Service, Sept. 6, 2006) ...</td>\n",
       "    </tr>\n",
       "    <tr>\n",
       "      <th>1</th>\n",
       "      <td>2</td>\n",
       "      <td>2006-09-08 18:29:19</td>\n",
       "      <td>Bush</td>\n",
       "      <td>Army Athletic Communications</td>\n",
       "      <td>WEST POINT, N.Y. (Army News Service, Sept. 8, ...</td>\n",
       "    </tr>\n",
       "    <tr>\n",
       "      <th>2</th>\n",
       "      <td>3</td>\n",
       "      <td>2006-09-08 18:31:24</td>\n",
       "      <td>Bush</td>\n",
       "      <td>Samantha L. Quigley,  American Forces Press Se...</td>\n",
       "      <td>WASHINGTON (Army News Service, Sept. 8, 2006) ...</td>\n",
       "    </tr>\n",
       "    <tr>\n",
       "      <th>3</th>\n",
       "      <td>4</td>\n",
       "      <td>2006-09-08 18:33:52</td>\n",
       "      <td>Bush</td>\n",
       "      <td>Donna Miles,  American Forces Press Service</td>\n",
       "      <td>WASHINGTON (Army News Service, Sept. 8, 2006) ...</td>\n",
       "    </tr>\n",
       "    <tr>\n",
       "      <th>4</th>\n",
       "      <td>5</td>\n",
       "      <td>2006-09-08 18:36:52</td>\n",
       "      <td>Bush</td>\n",
       "      <td>Ed Beemer for the Army Office of Information A...</td>\n",
       "      <td>It's really very simple. If we keep our inform...</td>\n",
       "    </tr>\n",
       "    <tr>\n",
       "      <th>...</th>\n",
       "      <td>...</td>\n",
       "      <td>...</td>\n",
       "      <td>...</td>\n",
       "      <td>...</td>\n",
       "      <td>...</td>\n",
       "    </tr>\n",
       "    <tr>\n",
       "      <th>203345</th>\n",
       "      <td>267030</td>\n",
       "      <td>2023-05-25 16:13:55</td>\n",
       "      <td>Biden</td>\n",
       "      <td>Danielle Weinschenk and Nicolo Manzo</td>\n",
       "      <td>Leaders from Department of Defense ammunition ...</td>\n",
       "    </tr>\n",
       "    <tr>\n",
       "      <th>203346</th>\n",
       "      <td>267031</td>\n",
       "      <td>2023-05-25 16:39:33</td>\n",
       "      <td>Biden</td>\n",
       "      <td>Brian Hill, Fort Leonard Wood Public Affairs O...</td>\n",
       "      <td>FORT LEONARD WOOD, Mo. — The U.S. Army Militar...</td>\n",
       "    </tr>\n",
       "    <tr>\n",
       "      <th>203347</th>\n",
       "      <td>267032</td>\n",
       "      <td>2023-05-25 16:33:32</td>\n",
       "      <td>Biden</td>\n",
       "      <td>Rachel Ponder</td>\n",
       "      <td>ABERDEEN PROVING GROUND, Md. — U.S. Army Commu...</td>\n",
       "    </tr>\n",
       "    <tr>\n",
       "      <th>203348</th>\n",
       "      <td>267033</td>\n",
       "      <td>2023-05-25 16:46:17</td>\n",
       "      <td>Biden</td>\n",
       "      <td>Erica Davis, Communication, Public Affairs, U....</td>\n",
       "      <td>Memorial Day 2023.pdf [PDF - 118.1 KB]  FORT N...</td>\n",
       "    </tr>\n",
       "    <tr>\n",
       "      <th>203349</th>\n",
       "      <td>267035</td>\n",
       "      <td>2023-05-25 18:32:13</td>\n",
       "      <td>Biden</td>\n",
       "      <td>Sgt. 1st Class Kelvin Ringold</td>\n",
       "      <td>FORT HUACHUCA, Ariz. – As Memorial Day approac...</td>\n",
       "    </tr>\n",
       "  </tbody>\n",
       "</table>\n",
       "<p>203350 rows × 5 columns</p>\n",
       "</div>"
      ],
      "text/plain": [
       "            id                date administration  \\\n",
       "0            1 2006-09-08 18:26:39           Bush   \n",
       "1            2 2006-09-08 18:29:19           Bush   \n",
       "2            3 2006-09-08 18:31:24           Bush   \n",
       "3            4 2006-09-08 18:33:52           Bush   \n",
       "4            5 2006-09-08 18:36:52           Bush   \n",
       "...        ...                 ...            ...   \n",
       "203345  267030 2023-05-25 16:13:55          Biden   \n",
       "203346  267031 2023-05-25 16:39:33          Biden   \n",
       "203347  267032 2023-05-25 16:33:32          Biden   \n",
       "203348  267033 2023-05-25 16:46:17          Biden   \n",
       "203349  267035 2023-05-25 18:32:13          Biden   \n",
       "\n",
       "                                                   author  \\\n",
       "0                                                  ARNEWS   \n",
       "1                            Army Athletic Communications   \n",
       "2       Samantha L. Quigley,  American Forces Press Se...   \n",
       "3             Donna Miles,  American Forces Press Service   \n",
       "4       Ed Beemer for the Army Office of Information A...   \n",
       "...                                                   ...   \n",
       "203345               Danielle Weinschenk and Nicolo Manzo   \n",
       "203346  Brian Hill, Fort Leonard Wood Public Affairs O...   \n",
       "203347                                      Rachel Ponder   \n",
       "203348  Erica Davis, Communication, Public Affairs, U....   \n",
       "203349                      Sgt. 1st Class Kelvin Ringold   \n",
       "\n",
       "                                                     body  \n",
       "0       WASHINGTON (Army News Service, Sept. 6, 2006) ...  \n",
       "1       WEST POINT, N.Y. (Army News Service, Sept. 8, ...  \n",
       "2       WASHINGTON (Army News Service, Sept. 8, 2006) ...  \n",
       "3       WASHINGTON (Army News Service, Sept. 8, 2006) ...  \n",
       "4       It's really very simple. If we keep our inform...  \n",
       "...                                                   ...  \n",
       "203345  Leaders from Department of Defense ammunition ...  \n",
       "203346  FORT LEONARD WOOD, Mo. — The U.S. Army Militar...  \n",
       "203347  ABERDEEN PROVING GROUND, Md. — U.S. Army Commu...  \n",
       "203348  Memorial Day 2023.pdf [PDF - 118.1 KB]  FORT N...  \n",
       "203349  FORT HUACHUCA, Ariz. – As Memorial Day approac...  \n",
       "\n",
       "[203350 rows x 5 columns]"
      ]
     },
     "execution_count": 10,
     "metadata": {},
     "output_type": "execute_result"
    }
   ],
   "source": [
    "articlesdf"
   ]
  },
  {
   "cell_type": "code",
   "execution_count": 10,
   "id": "f59b1c12",
   "metadata": {},
   "outputs": [],
   "source": [
    "articlesdf.to_pickle('articlesdf.pkl')"
   ]
  },
  {
   "cell_type": "code",
   "execution_count": null,
   "id": "ee409c25",
   "metadata": {},
   "outputs": [],
   "source": [
    "# d1 = datetime(2001,1,20)\n",
    "# d2 = datetime(2009,1,20)\n",
    "# d3 = datetime(2017,1,20)\n",
    "# d4 = datetime(2021,1,20)\n",
    "\n",
    "# with open(\"articles_lite.tsv\", 'w') as output_file:\n",
    "#     i = 0\n",
    "#     print (\"id\\tdate\\t\\administration\\ttitle\\tauthor\\tbody\", file=output_file)\n",
    "#     for article in articlesJ:\n",
    "#         if i <= 1000:\n",
    "#             datetime_object = datetime.strptime(article[\"date\"], '%Y-%m-%d %H:%M:%S')\n",
    "#             newtext = sanitize_selftext(article[\"body\"])\n",
    "#             if newtext == \"\":\n",
    "#                 newtext = \" \"\n",
    "#             if datetime_object < d2:\n",
    "#                 administration = \"Bush\"\n",
    "#             elif datetime_object < d3:\n",
    "#                 administration = \"Obama\"\n",
    "#             elif datetime_object < d4:\n",
    "#                 administration = \"Trump\"\n",
    "#             else:\n",
    "#                 administration = \"Biden\"\n",
    "#             print (f'{article[\"id\"]}\\t{datetime_object}\\t{administration}\\t{article[\"title\"]}\\t{article[\"author\"]}\\t{newtext}', file=output_file)\n",
    "        \n",
    "#             i+=1"
   ]
  },
  {
   "cell_type": "code",
   "execution_count": 10,
   "id": "81d89bc9",
   "metadata": {},
   "outputs": [
    {
     "data": {
      "text/plain": [
       "100000000"
      ]
     },
     "execution_count": 10,
     "metadata": {},
     "output_type": "execute_result"
    }
   ],
   "source": [
    "csv.field_size_limit(100000000)\n",
    "csv.field_size_limit(sys.maxsize)"
   ]
  },
  {
   "cell_type": "code",
   "execution_count": 18,
   "id": "8217bdfe",
   "metadata": {},
   "outputs": [
    {
     "name": "stderr",
     "output_type": "stream",
     "text": [
      "Skipping line 5411: Expected 6 fields in line 5411, saw 7\n",
      "Skipping line 7323: Expected 6 fields in line 7323, saw 7\n",
      "Skipping line 8750: Expected 6 fields in line 8750, saw 7\n",
      "Skipping line 9075: Expected 6 fields in line 9075, saw 17\n",
      "Skipping line 9960: Expected 6 fields in line 9960, saw 7\n",
      "Skipping line 10593: Expected 6 fields in line 10593, saw 7\n",
      "Skipping line 11017: Expected 6 fields in line 11017, saw 7\n",
      "Skipping line 12554: Expected 6 fields in line 12554, saw 7\n",
      "Skipping line 14357: Expected 6 fields in line 14357, saw 7\n",
      "Skipping line 14704: Expected 6 fields in line 14704, saw 7\n",
      "Skipping line 14710: Expected 6 fields in line 14710, saw 7\n",
      "Skipping line 16155: Expected 6 fields in line 16155, saw 7\n",
      "Skipping line 16179: Expected 6 fields in line 16179, saw 7\n",
      "Skipping line 16710: Expected 6 fields in line 16710, saw 7\n",
      "Skipping line 17385: Expected 6 fields in line 17385, saw 7\n",
      "Skipping line 18089: Expected 6 fields in line 18089, saw 7\n",
      "Skipping line 18117: Expected 6 fields in line 18117, saw 7\n",
      "Skipping line 18583: Expected 6 fields in line 18583, saw 7\n",
      "Skipping line 20119: Expected 6 fields in line 20119, saw 7\n",
      "Skipping line 20186: Expected 6 fields in line 20186, saw 7\n",
      "Skipping line 20618: Expected 6 fields in line 20618, saw 7\n",
      "Skipping line 20619: Expected 6 fields in line 20619, saw 7\n",
      "Skipping line 21257: Expected 6 fields in line 21257, saw 7\n",
      "Skipping line 21285: Expected 6 fields in line 21285, saw 7\n",
      "Skipping line 21517: Expected 6 fields in line 21517, saw 7\n",
      "Skipping line 21553: Expected 6 fields in line 21553, saw 7\n",
      "Skipping line 21835: Expected 6 fields in line 21835, saw 7\n",
      "Skipping line 28461: Expected 6 fields in line 28461, saw 7\n",
      "Skipping line 29657: Expected 6 fields in line 29657, saw 7\n",
      "Skipping line 32969: Expected 6 fields in line 32969, saw 8\n",
      "Skipping line 34051: Expected 6 fields in line 34051, saw 7\n",
      "Skipping line 34127: Expected 6 fields in line 34127, saw 7\n",
      "Skipping line 34427: Expected 6 fields in line 34427, saw 7\n",
      "Skipping line 34576: Expected 6 fields in line 34576, saw 7\n",
      "Skipping line 35076: Expected 6 fields in line 35076, saw 7\n",
      "Skipping line 36536: Expected 6 fields in line 36536, saw 11\n",
      "Skipping line 37020: Expected 6 fields in line 37020, saw 7\n",
      "Skipping line 46551: Expected 6 fields in line 46551, saw 7\n",
      "Skipping line 46955: Expected 6 fields in line 46955, saw 8\n",
      "Skipping line 47614: Expected 6 fields in line 47614, saw 7\n",
      "Skipping line 73065: Expected 6 fields in line 73065, saw 11\n",
      "Skipping line 130460: Expected 6 fields in line 130460, saw 11\n",
      "Skipping line 171716: Expected 6 fields in line 171716, saw 11\n",
      "Skipping line 175059: Expected 6 fields in line 175059, saw 7\n",
      "Skipping line 175537: Expected 6 fields in line 175537, saw 7\n",
      "Skipping line 178810: Expected 6 fields in line 178810, saw 7\n",
      "Skipping line 180122: Expected 6 fields in line 180122, saw 7\n",
      "Skipping line 196593: Expected 6 fields in line 196593, saw 7\n"
     ]
    }
   ],
   "source": [
    "data = pd.read_table(\"articles_lite_full.tsv\", sep='\\t', engine='python', on_bad_lines='warn', quoting=csv.QUOTE_NONE, quotechar=\"\",  escapechar=\"\\\\\", index_col=None)"
   ]
  },
  {
   "cell_type": "code",
   "execution_count": 4,
   "id": "4ceaac32",
   "metadata": {},
   "outputs": [
    {
     "data": {
      "text/html": [
       "<div>\n",
       "<style scoped>\n",
       "    .dataframe tbody tr th:only-of-type {\n",
       "        vertical-align: middle;\n",
       "    }\n",
       "\n",
       "    .dataframe tbody tr th {\n",
       "        vertical-align: top;\n",
       "    }\n",
       "\n",
       "    .dataframe thead th {\n",
       "        text-align: right;\n",
       "    }\n",
       "</style>\n",
       "<table border=\"1\" class=\"dataframe\">\n",
       "  <thead>\n",
       "    <tr style=\"text-align: right;\">\n",
       "      <th></th>\n",
       "      <th>id</th>\n",
       "      <th>date</th>\n",
       "      <th>administration</th>\n",
       "      <th>title</th>\n",
       "      <th>author</th>\n",
       "      <th>body</th>\n",
       "    </tr>\n",
       "  </thead>\n",
       "  <tbody>\n",
       "    <tr>\n",
       "      <th>0</th>\n",
       "      <td>1</td>\n",
       "      <td>2006-09-08 18:26:39</td>\n",
       "      <td>Bush</td>\n",
       "      <td>Army releases new interrogation manual</td>\n",
       "      <td>ARNEWS</td>\n",
       "      <td>WASHINGTON (Army News Service, Sept. 6, 2006) ...</td>\n",
       "    </tr>\n",
       "    <tr>\n",
       "      <th>1</th>\n",
       "      <td>2</td>\n",
       "      <td>2006-09-08 18:29:19</td>\n",
       "      <td>Bush</td>\n",
       "      <td>AKO to video stream Army's home opener vs. Ken...</td>\n",
       "      <td>Army Athletic Communications</td>\n",
       "      <td>WEST POINT, N.Y. (Army News Service, Sept. 8, ...</td>\n",
       "    </tr>\n",
       "    <tr>\n",
       "      <th>2</th>\n",
       "      <td>3</td>\n",
       "      <td>2006-09-08 18:31:24</td>\n",
       "      <td>Bush</td>\n",
       "      <td>9/11 Remembrance: NYPD cyclists begin fifth ri...</td>\n",
       "      <td>Samantha L. Quigley,  American Forces Press Se...</td>\n",
       "      <td>WASHINGTON (Army News Service, Sept. 8, 2006) ...</td>\n",
       "    </tr>\n",
       "    <tr>\n",
       "      <th>3</th>\n",
       "      <td>4</td>\n",
       "      <td>2006-09-08 18:33:52</td>\n",
       "      <td>Bush</td>\n",
       "      <td>Freedom Walks to commemorate 9/11, honor veterans</td>\n",
       "      <td>Donna Miles,  American Forces Press Service</td>\n",
       "      <td>WASHINGTON (Army News Service, Sept. 8, 2006) ...</td>\n",
       "    </tr>\n",
       "    <tr>\n",
       "      <th>4</th>\n",
       "      <td>5</td>\n",
       "      <td>2006-09-08 18:36:52</td>\n",
       "      <td>Bush</td>\n",
       "      <td>Guarding information is everyone's responsibility</td>\n",
       "      <td>Ed Beemer for the Army Office of Information A...</td>\n",
       "      <td>It's really very simple. If we keep our inform...</td>\n",
       "    </tr>\n",
       "    <tr>\n",
       "      <th>...</th>\n",
       "      <td>...</td>\n",
       "      <td>...</td>\n",
       "      <td>...</td>\n",
       "      <td>...</td>\n",
       "      <td>...</td>\n",
       "      <td>...</td>\n",
       "    </tr>\n",
       "    <tr>\n",
       "      <th>996</th>\n",
       "      <td>1338</td>\n",
       "      <td>2007-01-12 11:44:37</td>\n",
       "      <td>Bush</td>\n",
       "      <td>New Networks Monitor Power Distribution in Iraq</td>\n",
       "      <td>Mohammed Aliwi, Army Corps of Engineers</td>\n",
       "      <td>AN NASSIRIYAH, Iraq, Jan. 10, 2007 - Restoring...</td>\n",
       "    </tr>\n",
       "    <tr>\n",
       "      <th>997</th>\n",
       "      <td>1339</td>\n",
       "      <td>2007-01-12 11:55:54</td>\n",
       "      <td>Bush</td>\n",
       "      <td>Ford Funeral</td>\n",
       "      <td>SRTV</td>\n",
       "      <td></td>\n",
       "    </tr>\n",
       "    <tr>\n",
       "      <th>998</th>\n",
       "      <td>1340</td>\n",
       "      <td>2007-01-12 12:00:26</td>\n",
       "      <td>Bush</td>\n",
       "      <td>Preventative Maintenance</td>\n",
       "      <td>SPC Rob Frasier</td>\n",
       "      <td></td>\n",
       "    </tr>\n",
       "    <tr>\n",
       "      <th>999</th>\n",
       "      <td>1341</td>\n",
       "      <td>2007-01-12 12:04:43</td>\n",
       "      <td>Bush</td>\n",
       "      <td>20,000 Additional Troops to Iraq</td>\n",
       "      <td>SRTV</td>\n",
       "      <td></td>\n",
       "    </tr>\n",
       "    <tr>\n",
       "      <th>1000</th>\n",
       "      <td>1342</td>\n",
       "      <td>2007-01-12 12:30:33</td>\n",
       "      <td>Bush</td>\n",
       "      <td>Patient Care System Aims to Reduce Medical Errors</td>\n",
       "      <td>Gerry J. Gilmore, American Forces Press Service</td>\n",
       "      <td>WASHINGTON, Jan. 12, 2007 - The defense depart...</td>\n",
       "    </tr>\n",
       "  </tbody>\n",
       "</table>\n",
       "<p>1001 rows × 6 columns</p>\n",
       "</div>"
      ],
      "text/plain": [
       "        id                 date administration  \\\n",
       "0        1  2006-09-08 18:26:39           Bush   \n",
       "1        2  2006-09-08 18:29:19           Bush   \n",
       "2        3  2006-09-08 18:31:24           Bush   \n",
       "3        4  2006-09-08 18:33:52           Bush   \n",
       "4        5  2006-09-08 18:36:52           Bush   \n",
       "...    ...                  ...            ...   \n",
       "996   1338  2007-01-12 11:44:37           Bush   \n",
       "997   1339  2007-01-12 11:55:54           Bush   \n",
       "998   1340  2007-01-12 12:00:26           Bush   \n",
       "999   1341  2007-01-12 12:04:43           Bush   \n",
       "1000  1342  2007-01-12 12:30:33           Bush   \n",
       "\n",
       "                                                  title  \\\n",
       "0                Army releases new interrogation manual   \n",
       "1     AKO to video stream Army's home opener vs. Ken...   \n",
       "2     9/11 Remembrance: NYPD cyclists begin fifth ri...   \n",
       "3     Freedom Walks to commemorate 9/11, honor veterans   \n",
       "4     Guarding information is everyone's responsibility   \n",
       "...                                                 ...   \n",
       "996     New Networks Monitor Power Distribution in Iraq   \n",
       "997                                        Ford Funeral   \n",
       "998                            Preventative Maintenance   \n",
       "999                    20,000 Additional Troops to Iraq   \n",
       "1000  Patient Care System Aims to Reduce Medical Errors   \n",
       "\n",
       "                                                 author  \\\n",
       "0                                                ARNEWS   \n",
       "1                          Army Athletic Communications   \n",
       "2     Samantha L. Quigley,  American Forces Press Se...   \n",
       "3           Donna Miles,  American Forces Press Service   \n",
       "4     Ed Beemer for the Army Office of Information A...   \n",
       "...                                                 ...   \n",
       "996             Mohammed Aliwi, Army Corps of Engineers   \n",
       "997                                                SRTV   \n",
       "998                                     SPC Rob Frasier   \n",
       "999                                                SRTV   \n",
       "1000    Gerry J. Gilmore, American Forces Press Service   \n",
       "\n",
       "                                                   body  \n",
       "0     WASHINGTON (Army News Service, Sept. 6, 2006) ...  \n",
       "1     WEST POINT, N.Y. (Army News Service, Sept. 8, ...  \n",
       "2     WASHINGTON (Army News Service, Sept. 8, 2006) ...  \n",
       "3     WASHINGTON (Army News Service, Sept. 8, 2006) ...  \n",
       "4     It's really very simple. If we keep our inform...  \n",
       "...                                                 ...  \n",
       "996   AN NASSIRIYAH, Iraq, Jan. 10, 2007 - Restoring...  \n",
       "997                                                      \n",
       "998                                                      \n",
       "999                                                      \n",
       "1000  WASHINGTON, Jan. 12, 2007 - The defense depart...  \n",
       "\n",
       "[1001 rows x 6 columns]"
      ]
     },
     "execution_count": 4,
     "metadata": {},
     "output_type": "execute_result"
    }
   ],
   "source": [
    "data"
   ]
  },
  {
   "cell_type": "code",
   "execution_count": null,
   "id": "bd23d6de",
   "metadata": {},
   "outputs": [],
   "source": [
    "data[\"administration\"].hist(log=True)"
   ]
  },
  {
   "cell_type": "code",
   "execution_count": null,
   "id": "787063a9",
   "metadata": {},
   "outputs": [],
   "source": [
    "len(data)"
   ]
  },
  {
   "cell_type": "code",
   "execution_count": null,
   "id": "ff757878",
   "metadata": {},
   "outputs": [],
   "source": [
    "data.groupby(\"administration\").count()"
   ]
  },
  {
   "cell_type": "code",
   "execution_count": null,
   "id": "747518bd",
   "metadata": {},
   "outputs": [],
   "source": [
    "#data['brexit'].value_counts(normalize=True) * 100"
   ]
  },
  {
   "cell_type": "code",
   "execution_count": null,
   "id": "ecb519a9",
   "metadata": {},
   "outputs": [],
   "source": [
    "print(data[data['body'].str.contains('President')])"
   ]
  },
  {
   "cell_type": "code",
   "execution_count": null,
   "id": "d4125d97",
   "metadata": {},
   "outputs": [],
   "source": [
    "substring = 'Bush'\n",
    "data[data.apply(lambda row: row.astype(str).str.contains(substring, case=False).any(), axis=1)]"
   ]
  },
  {
   "cell_type": "code",
   "execution_count": null,
   "id": "e8851b73",
   "metadata": {},
   "outputs": [],
   "source": [
    "substring = 'Bush'\n",
    "mask = data.applymap(lambda x: substring in x.lower() if isinstance(x,str) else False).to_numpy()\n",
    "mask     "
   ]
  },
  {
   "cell_type": "code",
   "execution_count": null,
   "id": "4b76faf9",
   "metadata": {},
   "outputs": [],
   "source": [
    "df.columns = ['c_name', 'f_name']\n",
    "\n",
    "print data[data['administration'].str.contains('Bush', case=False)]\n",
    "\n",
    "delta_df =data[~data['c_name'].str.contains('Bush', case=False)]\n",
    "print delta_df[delta_df['f_name'].str.contains('Bush', case=False)]"
   ]
  },
  {
   "cell_type": "code",
   "execution_count": null,
   "id": "ea9160ab",
   "metadata": {},
   "outputs": [],
   "source": [
    "data['multi'] = ['Y' if x > 1 else 'N' for x in np.sum(data.values == 'Y', 1)]"
   ]
  },
  {
   "cell_type": "code",
   "execution_count": null,
   "id": "d2ddff24",
   "metadata": {},
   "outputs": [],
   "source": [
    "bushdf = data[data['administration'] == 'Bush']\n",
    "print(bushdf[bushdf['body'].str.contains('Bush')])\n",
    "print(len(bushdf))"
   ]
  },
  {
   "cell_type": "code",
   "execution_count": null,
   "id": "2e67c135",
   "metadata": {},
   "outputs": [],
   "source": [
    "print(len(bushdf))"
   ]
  },
  {
   "cell_type": "code",
   "execution_count": null,
   "id": "690b5ad9",
   "metadata": {},
   "outputs": [],
   "source": [
    "len(data)"
   ]
  },
  {
   "cell_type": "code",
   "execution_count": null,
   "id": "f156a4f3",
   "metadata": {},
   "outputs": [],
   "source": []
  }
 ],
 "metadata": {
  "kernelspec": {
   "display_name": "Python 3 (ipykernel)",
   "language": "python",
   "name": "python3"
  },
  "language_info": {
   "codemirror_mode": {
    "name": "ipython",
    "version": 3
   },
   "file_extension": ".py",
   "mimetype": "text/x-python",
   "name": "python",
   "nbconvert_exporter": "python",
   "pygments_lexer": "ipython3",
   "version": "3.10.9"
  }
 },
 "nbformat": 4,
 "nbformat_minor": 5
}
