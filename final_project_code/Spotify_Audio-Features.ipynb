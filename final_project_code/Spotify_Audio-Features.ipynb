{
 "cells": [
  {
   "cell_type": "code",
   "execution_count": 24,
   "id": "201d94d9",
   "metadata": {},
   "outputs": [],
   "source": [
    "#Boilerplate\n",
    "import spotipy \n",
    "\n",
    "from spotify_authentication import SPOTIPY_CLIENT_ID\n",
    "from spotify_authentication import SPOTIPY_CLIENT_SECRET\n",
    "\n",
    "from spotipy.oauth2 import SpotifyClientCredentials\n",
    "\n",
    "spotify = spotipy.Spotify(client_credentials_manager=SpotifyClientCredentials(client_id=SPOTIPY_CLIENT_ID, client_secret=SPOTIPY_CLIENT_SECRET))"
   ]
  },
  {
   "cell_type": "markdown",
   "id": "4e66508f",
   "metadata": {},
   "source": [
    "Test to get audio features for a specific track. "
   ]
  },
  {
   "cell_type": "code",
   "execution_count": 25,
   "id": "b38fc87d",
   "metadata": {},
   "outputs": [
    {
     "data": {
      "text/plain": [
       "[{'danceability': 0.878,\n",
       "  'energy': 0.619,\n",
       "  'key': 6,\n",
       "  'loudness': -5.56,\n",
       "  'mode': 1,\n",
       "  'speechiness': 0.102,\n",
       "  'acousticness': 0.0533,\n",
       "  'instrumentalness': 0,\n",
       "  'liveness': 0.113,\n",
       "  'valence': 0.639,\n",
       "  'tempo': 136.041,\n",
       "  'type': 'audio_features',\n",
       "  'id': '2YpeDb67231RjR0MgVLzsG',\n",
       "  'uri': 'spotify:track:2YpeDb67231RjR0MgVLzsG',\n",
       "  'track_href': 'https://api.spotify.com/v1/tracks/2YpeDb67231RjR0MgVLzsG',\n",
       "  'analysis_url': 'https://api.spotify.com/v1/audio-analysis/2YpeDb67231RjR0MgVLzsG',\n",
       "  'duration_ms': 157067,\n",
       "  'time_signature': 4}]"
      ]
     },
     "execution_count": 25,
     "metadata": {},
     "output_type": "execute_result"
    }
   ],
   "source": [
    "results_features = spotify.audio_features(\"2YpeDb67231RjR0MgVLzsG\")  \n",
    "\n",
    "results"
   ]
  },
  {
   "cell_type": "code",
   "execution_count": 26,
   "id": "a82036d6",
   "metadata": {},
   "outputs": [],
   "source": [
    "#results_analysis = spotify.audio_analysis(\"2YpeDb67231RjR0MgVLzsG\") #Code for getting Anaylysis\n"
   ]
  },
  {
   "cell_type": "code",
   "execution_count": 29,
   "id": "a31af7ac",
   "metadata": {},
   "outputs": [],
   "source": [
    "import json\n",
    "\n",
    "track_ids = r\"C:\\Users\\Nicke\\OneDrive\\Desktop\\CommunityDataScience\\2019_playlist_ids.txt\"\n",
    "\n",
    "track_features = r\"C:\\Users\\Nicke\\OneDrive\\Desktop\\CommunityDataScience\\2019_playlist_audio_features.jsonl\"\n",
    "\n",
    "with open(track_features, 'w') as output_file:\n",
    "    \n",
    "    with open(track_ids, 'r') as f:\n",
    "\n",
    "        for id in f:\n",
    "            id = id.replace('\\n', '')   #taking off the appended new line in the list of id's\n",
    "        \n",
    "        #print(id)\n",
    "\n",
    "            results_features = spotify.audio_features(id)\n",
    "            \n",
    "            print(json.dumps(results_features), file = output_file)"
   ]
  },
  {
   "cell_type": "code",
   "execution_count": null,
   "id": "c5424c24",
   "metadata": {},
   "outputs": [],
   "source": [
    "id = \"0u2P5u6lvoDfwTYjAADbn4\"\n",
    "results_features = spotify.audio_features(id)   #Test\n",
    "print(results_features)"
   ]
  },
  {
   "cell_type": "code",
   "execution_count": null,
   "id": "6d958d34",
   "metadata": {},
   "outputs": [],
   "source": []
  }
 ],
 "metadata": {
  "kernelspec": {
   "display_name": "Python 3 (ipykernel)",
   "language": "python",
   "name": "python3"
  },
  "language_info": {
   "codemirror_mode": {
    "name": "ipython",
    "version": 3
   },
   "file_extension": ".py",
   "mimetype": "text/x-python",
   "name": "python",
   "nbconvert_exporter": "python",
   "pygments_lexer": "ipython3",
   "version": "3.10.9"
  }
 },
 "nbformat": 4,
 "nbformat_minor": 5
}
