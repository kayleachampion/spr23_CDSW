{
 "cells": [
  {
   "cell_type": "markdown",
   "id": "attempted-laptop",
   "metadata": {},
   "source": [
    "If you build a new book, you will need to (a) keep it in the same directory as this file and (b) copy the cell immediately below into your notebook so that you also import the wordlist into your notebook. Unless you do that, you will not have the wordlist file."
   ]
  },
  {
   "cell_type": "code",
   "execution_count": 88,
   "id": "addressed-point",
   "metadata": {},
   "outputs": [],
   "source": [
    "# this code imports the wordlist into a new list called wordlist\n",
    "from scrabble import wordlist"
   ]
  },
  {
   "cell_type": "code",
   "execution_count": 89,
   "id": "ee0d4b93",
   "metadata": {},
   "outputs": [],
   "source": [
    "# 1 - alls well that ends well"
   ]
  },
  {
   "cell_type": "code",
   "execution_count": 90,
   "id": "atlantic-burner",
   "metadata": {},
   "outputs": [
    {
     "name": "stdout",
     "output_type": "stream",
     "text": [
      "23 words that end in 'well'\n",
      "bridewell\n",
      "drywell\n",
      "dwell\n",
      "farewell\n",
      "footwell\n",
      "gromwell\n",
      "groundswell\n",
      "indwell\n",
      "inkwell\n",
      "maxwell\n",
      "newell\n",
      "outdwell\n",
      "outswell\n",
      "outwell\n",
      "overswell\n",
      "pinswell\n",
      "speedwell\n",
      "stairwell\n",
      "swell\n",
      "unwell\n",
      "upswell\n",
      "upwell\n",
      "well\n",
      "\n",
      "5 words that end in 'mt'\n",
      "daydreamt\n",
      "dreamt\n",
      "outdreamt\n",
      "redreamt\n",
      "undreamt\n",
      "\n",
      "5 words that end in 'gry'\n",
      "aggry\n",
      "ahungry\n",
      "angry\n",
      "hungry\n",
      "puggry\n"
     ]
    }
   ],
   "source": [
    "matches = []\n",
    "for word in wordlist:\n",
    "    if word[-4:] == \"well\":\n",
    "        matches.append(word)\n",
    "print(f\"{len(matches)} words that end in 'well'\")\n",
    "\n",
    "for match in matches:\n",
    "    print(match)\n",
    "    \n",
    "print(\"\")\n",
    "    \n",
    "new_matches = []\n",
    "for new in wordlist:\n",
    "    if new[-2:] == \"mt\":\n",
    "        new_matches.append(new)\n",
    "print(f\"{len(new_matches)} words that end in 'mt'\")\n",
    "\n",
    "for new in new_matches:\n",
    "    print(new)\n",
    "    \n",
    "print(\"\")\n",
    "    \n",
    "more_matches = []\n",
    "for more in wordlist:\n",
    "    if more[-3:] == \"gry\":\n",
    "        more_matches.append(more)\n",
    "print(f\"{len(more_matches)} words that end in 'gry'\")\n",
    "\n",
    "for more in more_matches:\n",
    "    print(more)"
   ]
  },
  {
   "cell_type": "code",
   "execution_count": 91,
   "id": "e807e4b6",
   "metadata": {},
   "outputs": [],
   "source": [
    "# 2 - counting vowels"
   ]
  },
  {
   "cell_type": "code",
   "execution_count": 92,
   "id": "71df3364",
   "metadata": {
    "scrolled": true
   },
   "outputs": [
    {
     "name": "stdout",
     "output_type": "stream",
     "text": [
      "there are 15723 words that start with 'a'\n",
      "there are 11030 words that start with 'e'\n",
      "there are 9390 words that start with 'i'\n",
      "there are 8604 words that start with 'o'\n",
      "there are 9070 words that start with 'u'\n",
      "\n",
      "with 15723 words, the 'a' vowel is the most common vowel to find at the beggining of a word\n"
     ]
    }
   ],
   "source": [
    "a_vowels = []\n",
    "for a in wordlist:\n",
    "    if a[0:1] == \"a\":\n",
    "        a_vowels.append(a)\n",
    "        \n",
    "print(f\"there are {len(a_vowels)} words that start with 'a'\")\n",
    "\n",
    "e_vowels = []\n",
    "for e in wordlist:\n",
    "    if e[0:1] == \"e\":\n",
    "        e_vowels.append(e)\n",
    "        \n",
    "print(f\"there are {len(e_vowels)} words that start with 'e'\")\n",
    "\n",
    "i_vowels = []\n",
    "for i in wordlist:\n",
    "    if i[0:1] == \"i\":\n",
    "        i_vowels.append(i)\n",
    "        \n",
    "print(f\"there are {len(i_vowels)} words that start with 'i'\")\n",
    "\n",
    "o_vowels = []\n",
    "for o in wordlist:\n",
    "    if o[0:1] == \"o\":\n",
    "        o_vowels.append(o)\n",
    "        \n",
    "print(f\"there are {len(o_vowels)} words that start with 'o'\")\n",
    "\n",
    "u_vowels = []\n",
    "for u in wordlist:\n",
    "    if u[0:1] == \"u\":\n",
    "        u_vowels.append(u)\n",
    "        \n",
    "print(f\"there are {len(u_vowels)} words that start with 'u'\")\n",
    "\n",
    "m = max(len(a_vowels), len(e_vowels), len(i_vowels), len(o_vowels), len(u_vowels))\n",
    "\n",
    "print(\"\")\n",
    "\n",
    "print(f\"with {m} words, the 'a' vowel is the most common vowel to find at the beggining of a word\")"
   ]
  },
  {
   "cell_type": "code",
   "execution_count": 93,
   "id": "a07b769e",
   "metadata": {},
   "outputs": [
    {
     "name": "stdout",
     "output_type": "stream",
     "text": [
      "there are 5312 words that end with 'a'\n",
      "there are 27350 words that end with 'e'\n",
      "there are 1474 words that end with 'i'\n",
      "there are 1783 words that end with 'o'\n",
      "there are 354 words that end with 'u'\n",
      "\n",
      "with 27350 words, the 'e' vowel is the most common vowel to find at the end of a word\n"
     ]
    }
   ],
   "source": [
    "a_vowels = []\n",
    "for a in wordlist:\n",
    "    if a[-1:] == \"a\":\n",
    "        a_vowels.append(a)\n",
    "        \n",
    "print(f\"there are {len(a_vowels)} words that end with 'a'\")\n",
    "\n",
    "e_vowels = []\n",
    "for e in wordlist:\n",
    "    if e[-1:] == \"e\":\n",
    "        e_vowels.append(e)\n",
    "        \n",
    "print(f\"there are {len(e_vowels)} words that end with 'e'\")\n",
    "\n",
    "i_vowels = []\n",
    "for i in wordlist:\n",
    "    if i[-1:] == \"i\":\n",
    "        i_vowels.append(i)\n",
    "        \n",
    "print(f\"there are {len(i_vowels)} words that end with 'i'\")\n",
    "\n",
    "o_vowels = []\n",
    "for o in wordlist:\n",
    "    if o[-1:] == \"o\":\n",
    "        o_vowels.append(o)\n",
    "        \n",
    "print(f\"there are {len(o_vowels)} words that end with 'o'\")\n",
    "\n",
    "u_vowels = []\n",
    "for u in wordlist:\n",
    "    if u[-1:] == \"u\":\n",
    "        u_vowels.append(u)\n",
    "        \n",
    "print(f\"there are {len(u_vowels)} words that end with 'u'\")\n",
    "\n",
    "most = max(len(a_vowels), len(e_vowels), len(i_vowels), len(o_vowels), len(u_vowels))\n",
    "\n",
    "print(\"\")\n",
    "\n",
    "print(f\"with {most} words, the 'e' vowel is the most common vowel to find at the end of a word\")"
   ]
  },
  {
   "cell_type": "code",
   "execution_count": 231,
   "id": "c2838b4e",
   "metadata": {
    "scrolled": true
   },
   "outputs": [
    {
     "name": "stdout",
     "output_type": "stream",
     "text": [
      " there are 3405 words with all of the vowels\n"
     ]
    }
   ],
   "source": [
    "all_vowels = []\n",
    "for vowel in wordlist:\n",
    "    if \"a\" in vowel and \"e\" in vowel and \"i\" in vowel and \"o\" in vowel and \"u\" in vowel:\n",
    "        all_vowels.append(vowel)\n",
    "        \n",
    "print(f\" there are {len(all_vowels)} words with all of the vowels\")"
   ]
  },
  {
   "cell_type": "code",
   "execution_count": 229,
   "id": "06e22d17",
   "metadata": {},
   "outputs": [
    {
     "name": "stdout",
     "output_type": "stream",
     "text": [
      "there are 43 words with all 5 vowels in alphabetical order\n",
      "\n",
      "['abstemious', 'abstemiously', 'abstemiousness', 'abstentious', 'adventitious', 'adventitiously', 'aeruginous', 'amentiferous', 'androdioecious', 'andromonoecious', 'anemophilous', 'antenniferous', 'antireligious', 'arenicolous', 'argentiferous', 'arsenious', 'arteriovenous', 'asclepiadaceous', 'autecious', 'autoecious', 'autoeciously', 'bacteriophagous', 'caesious', 'cavernicolous', 'chaetiferous', 'facetious', 'facetiously', 'facetiousness', 'facetiousnesses', 'facinerious', 'flagelliferous', 'garnetiferous', 'halfseriously', 'hamamelidaceous', 'lateritious', 'parecious', 'paroecious', 'quadrigeminous', 'sacrilegious', 'sacrilegiously', 'sarraceniaceous', 'ultraserious', 'valerianaceous']\n"
     ]
    }
   ],
   "source": [
    "vowels = [\"a\", \"e\", \"i\", \"o\", \"u\"]\n",
    "new_list = []\n",
    "\n",
    "for words in wordlist:\n",
    "    # setting counter = 0 assigns numerical value to the vowel list\n",
    "    counter = 0\n",
    "    for letter in words:\n",
    "        # if the counter value is less than 5 (because that's the max value of the range) AND the letter in the\n",
    "        # word equals the 0th spot in the vowel list, without the < 5 the code breaks because it will keep counting\n",
    "        if counter < 5 and letter == vowels[counter]:\n",
    "            # then add one to counter in order to change the vowel that's being looked for\n",
    "            counter = counter + 1\n",
    "    # if counter equals 5, then all vowels have been accounted for\n",
    "    if counter == 5:\n",
    "        new_list.append(words)\n",
    "        \n",
    "print(f\"there are {len(new_list)} words with all 5 vowels in alphabetical order\")\n",
    "print(\"\")\n",
    "print(new_list)"
   ]
  },
  {
   "cell_type": "code",
   "execution_count": 223,
   "id": "e1d2fbd0",
   "metadata": {},
   "outputs": [
    {
     "name": "stdout",
     "output_type": "stream",
     "text": [
      "[]\n",
      "\n",
      "['inomaepu', 'gapelihotu', 'aeiou', 'apaelikoju', 'apaelikoju', 'team', 'tan']\n",
      "\n",
      "['inomaepu', 'inomaepu', 'inomaepu', 'inomaepu', 'inomaepu', 'gapelihotu', 'gapelihotu', 'gapelihotu', 'gapelihotu', 'gapelihotu', 'aeiou', 'aeiou', 'aeiou', 'aeiou', 'aeiou', 'apaelikoju', 'apaelikoju', 'apaelikoju', 'apaelikoju', 'apaelikoju', 'apaelikoju', 'team', 'team', 'tan']\n",
      "\n",
      "['inomaepu', 'gapelihotu', 'aeiou', 'team', 'tan']\n",
      "\n"
     ]
    }
   ],
   "source": [
    "# failed aeiou in order within the word attempts\n",
    "\n",
    "#attempt 1 \n",
    "test_list = [\"inomaepu\", \"gapelihotu\", \"aeiou\", \"apaelikoju\", \"team\", \"tan\"]\n",
    "new_list = []\n",
    "\n",
    "for word in test_list:\n",
    "    for letter in word:\n",
    "        if letter == \"a\":\n",
    "            if letter == \"e\":\n",
    "                new_list.append(word)\n",
    "                \n",
    "print(new_list)\n",
    "print(\"\")\n",
    "\n",
    "# attempt 2 - didn't work because \"tan\" should've been excluded \n",
    "test_list = [\"inomaepu\", \"gapelihotu\", \"aeiou\", \"apaelikoju\", \"team\", \"tan\"]\n",
    "new_list = []\n",
    "\n",
    "for word in test_list:\n",
    "    for letter in word:\n",
    "        if letter == \"a\":\n",
    "            new_list.append(word)\n",
    "            if letter == \"e\":\n",
    "                new_list.append(word)\n",
    " \n",
    "print(new_list)\n",
    "print(\"\")\n",
    "\n",
    "# atempt 3 - it's printing the words as many times as a, e, i, o, or u appear in the word\n",
    "test_list = [\"inomaepu\", \"gapelihotu\", \"aeiou\", \"apaelikoju\", \"team\", \"tan\"]\n",
    "new_list = []\n",
    "\n",
    "for word in test_list:\n",
    "    for letter in word:\n",
    "        if letter in \"aeiou\":\n",
    "            new_list.append(word)\n",
    "            \n",
    "print(new_list)\n",
    "print(\"\")\n",
    "\n",
    "# attempt 4 - i want my code to grab the word if the first vowel it hits is a but throw the word away if it hits eiou\n",
    "test_list = [\"inomaepu\", \"gapelihotu\", \"aeiou\", \"apaelikoju\", \"team\", \"tan\"]\n",
    "new_list = []\n",
    "\n",
    "for word in test_list:\n",
    "    counter = 0\n",
    "    for letter in word:\n",
    "        if letter == \"a\":\n",
    "            counter = counter + 1\n",
    "    if counter == 1:\n",
    "        new_list.append(word)\n",
    "        \n",
    "# i wish the vowels were numbers UGH\n",
    " \n",
    "print(new_list)\n",
    "print(\"\")\n",
    "\n"
   ]
  },
  {
   "cell_type": "code",
   "execution_count": 219,
   "id": "9c7c485b",
   "metadata": {},
   "outputs": [
    {
     "ename": "IndexError",
     "evalue": "list index out of range",
     "output_type": "error",
     "traceback": [
      "\u001b[0;31m---------------------------------------------------------------------------\u001b[0m",
      "\u001b[0;31mIndexError\u001b[0m                                Traceback (most recent call last)",
      "Cell \u001b[0;32mIn[219], line 10\u001b[0m\n\u001b[1;32m      8\u001b[0m counter \u001b[38;5;241m=\u001b[39m \u001b[38;5;241m0\u001b[39m\n\u001b[1;32m      9\u001b[0m \u001b[38;5;28;01mfor\u001b[39;00m letter \u001b[38;5;129;01min\u001b[39;00m words:\n\u001b[0;32m---> 10\u001b[0m     \u001b[38;5;28;01mif\u001b[39;00m letter \u001b[38;5;241m==\u001b[39m \u001b[43mvowels\u001b[49m\u001b[43m[\u001b[49m\u001b[43mcounter\u001b[49m\u001b[43m]\u001b[49m:\n\u001b[1;32m     11\u001b[0m         counter \u001b[38;5;241m=\u001b[39m counter \u001b[38;5;241m+\u001b[39m \u001b[38;5;241m1\u001b[39m\n\u001b[1;32m     12\u001b[0m \u001b[38;5;28;01mif\u001b[39;00m counter \u001b[38;5;241m==\u001b[39m \u001b[38;5;241m5\u001b[39m:\n",
      "\u001b[0;31mIndexError\u001b[0m: list index out of range"
     ]
    }
   ],
   "source": [
    "# attempt 6 - failed because i did not limit the range (words exist that don't end in u)\n",
    "\n",
    "test_list = [\"inomaepu\", \"gapelihotu\", \"aeiou\", \"apaelikoju\", \"team\", \"tan\", \"amehiokut\"]\n",
    "# found a way to turn vowels into numbers :D\n",
    "vowels = [\"a\", \"e\", \"i\", \"o\", \"u\"]\n",
    "new_list = []\n",
    "\n",
    "for words in test_list:\n",
    "    counter = 0\n",
    "    for letter in words:\n",
    "        if letter == vowels[counter]:\n",
    "            counter = counter + 1\n",
    "    if counter == 5:\n",
    "        new_list.append(words)\n",
    "        \n",
    "print(new_list)\n"
   ]
  },
  {
   "cell_type": "code",
   "execution_count": 95,
   "id": "2b8e9e94",
   "metadata": {},
   "outputs": [],
   "source": [
    "# 3 - disemvoweled "
   ]
  },
  {
   "cell_type": "code",
   "execution_count": 127,
   "id": "e2dd7bb6",
   "metadata": {},
   "outputs": [
    {
     "name": "stdout",
     "output_type": "stream",
     "text": [
      "['glycyls', 'nymphly', 'rhythms', 'tsktsks']\n"
     ]
    }
   ],
   "source": [
    "# words with no vowels \n",
    "no_vowels = []\n",
    "\n",
    "#longest words with no vowels\n",
    "longest_no_vowels = []\n",
    "\n",
    "# for each word in wordlist \n",
    "for word in wordlist:\n",
    "   # check if it has a vowel\n",
    "    if \"a\" not in word and \"e\" not in word and \"i\" not in word and \"o\" not in word and \"u\" not in word:\n",
    "        # if it doesn't then compare its length to the length of the next word\n",
    "        if len(word) > len(no_vowels):\n",
    "            # if the length of the word is longer than the current one, assign it to \"word\"\n",
    "            no_vowels = word\n",
    "            # assign the longest word as an item in the list of longest words with no vowels\n",
    "            longest_no_vowels = [word]\n",
    "        # if the length of the current longest word = the length of the new word\n",
    "        elif len(word) == len(no_vowels):\n",
    "            # append that word to the list of longest words with no vowels\n",
    "            longest_no_vowels.append(word)\n",
    "            \n",
    "print(longest_no_vowels)"
   ]
  },
  {
   "cell_type": "code",
   "execution_count": 97,
   "id": "3c67827b",
   "metadata": {},
   "outputs": [],
   "source": [
    "# 4 - a cure for many ells"
   ]
  },
  {
   "cell_type": "code",
   "execution_count": 172,
   "id": "8e12d19a",
   "metadata": {},
   "outputs": [
    {
     "name": "stdout",
     "output_type": "stream",
     "text": [
      "there are 136 words with 4 or more elles\n",
      "\n",
      "['alcoholically', 'algologically', 'allegorically', 'allhallond', 'allhallowen', 'allhallown', 'allhollown', 'allopathically', 'allopatrically', 'allopolyploid', 'allopolyploids', 'allopolyploidy', 'allosterically', 'allotropically', 'allotypically', 'allychollies', 'allycholly', 'balletically', 'ballistically', 'bellpull', 'bellpulls', 'catallactically', 'cellulolytic', 'collaterally', 'collegially', 'collisionally', 'colloidally', 'colloquially', 'corollifloral', 'dillydallied', 'dillydallies', 'dillydally', 'dillydallying', 'dullsville', 'dullsvilles', 'elliptically', 'extracellularly', 'fallalishly', 'hallalled', 'hallalling', 'hillbillies', 'hillbilly', 'holoblastically', 'hullaballoo', 'hullaballoos', 'idyllically', 'illegally', 'illiberally', 'illogically', 'intellectually', 'intracellularly', 'jellyroll', 'jellyrolls', 'lallapalooza', 'lallapaloozas', 'lamellarly', 'lamellately', 'lamellirostral', 'legalistically', 'lexicologically', 'libellously', 'lignocellulose', 'lignocelluloses', 'lignocellulosic', 'ligulifloral', 'limnologically', 'lithologically', 'loblollies', 'loblolly', 'lollapalooza', 'lollapaloozas', 'lollingly', 'melancholically', 'mellifluently', 'mellifluously', 'metallically', 'metallurgically', 'methylcellulose', 'millefeuille', 'millefeuilles', 'millennially', 'millesimally', 'multicellular', 'multilaterally', 'multilingually', 'multimillennial', 'palynologically', 'parallactically', 'parallelled', 'parallelling', 'parallelly', 'pellmell', 'pellmells', 'phallically', 'philatelically', 'philologically', 'plasmolytically', 'pluralistically', 'polysyllabical', 'polysyllable', 'polysyllables', 'pralltriller', 'pralltrillers', 'premillennially', 'rollcollar', 'rollcollars', 'rollerball', 'rollerballs', 'shillyshallied', 'shillyshallier', 'shillyshalliers', 'shillyshallies', 'shillyshally', 'shillyshallying', 'silviculturally', 'skillfully', 'stellularly', 'syllabically', 'sylleptically', 'syllogistically', 'teleologically', 'trisyllabically', 'unfulfillable', 'unskillfully', 'valpolicella', 'valpolicellas', 'vexillological', 'villanella', 'villanellas', 'villanelle', 'villanelles', 'volleyball', 'volleyballs', 'wallyball', 'wallyballs', 'willfully']\n"
     ]
    }
   ],
   "source": [
    "four_elles = []\n",
    "\n",
    "for word in wordlist:\n",
    "    counter = 0\n",
    "    for letter in word:\n",
    "        if letter == \"l\":\n",
    "            counter = counter + 1\n",
    "    if counter >= 4:\n",
    "        four_elles.append(word)\n",
    "\n",
    "print(f\"there are {len(four_elles)} words with 4 or more elles\")\n",
    "\n",
    "print(\"\")\n",
    "\n",
    "print(four_elles)"
   ]
  },
  {
   "cell_type": "code",
   "execution_count": 99,
   "id": "67de1480",
   "metadata": {},
   "outputs": [],
   "source": [
    "# 5 - so long "
   ]
  },
  {
   "cell_type": "code",
   "execution_count": 234,
   "id": "7678f8e0",
   "metadata": {},
   "outputs": [
    {
     "name": "stdout",
     "output_type": "stream",
     "text": [
      "there are 5757 words with 15 characters\n",
      "\n",
      "abiogenetically\n"
     ]
    }
   ],
   "source": [
    "longest_word = []\n",
    "longest_words = []\n",
    "\n",
    "for word in wordlist:\n",
    "        if len(word) > len(longest_word):\n",
    "            longest_word = word\n",
    "            longest_words = [word]\n",
    "        elif len(word) == len(longest_word):\n",
    "            longest_words.append(word)\n",
    "            \n",
    "print(f\"there are {len(longest_words)} words with {len(longest_word)} characters\")\n",
    "print(\"\")\n",
    "print(longest_word)"
   ]
  },
  {
   "cell_type": "code",
   "execution_count": null,
   "id": "4a13a19d",
   "metadata": {},
   "outputs": [],
   "source": [
    "# 6 - palindromes "
   ]
  },
  {
   "cell_type": "code",
   "execution_count": 198,
   "id": "e4f2cbae",
   "metadata": {},
   "outputs": [
    {
     "name": "stdout",
     "output_type": "stream",
     "text": [
      "there are 10 palindromes with greater than 6 characters\n",
      "\n",
      "['deified', 'hadedah', 'halalah', 'reifier', 'repaper', 'reviver', 'rotator', 'rotavator', 'seities', 'sememes']\n"
     ]
    }
   ],
   "source": [
    "# i did look up the code for this, attempts shown in next cell\n",
    "\n",
    "palindromes = []\n",
    "\n",
    "for item in wordlist:\n",
    "    if len(item) > 6:\n",
    "        # i know that the double colon means [start:stop:step] which to my understanding means it's comparing \n",
    "        # the first digit to the last digit and then \"stepping\" inward whatever number of digits i assign \n",
    "        # (in this case 1) and comparing them to each other and so on and so forth\n",
    "        if item == item[::-1]:\n",
    "            palindromes.append(item)\n",
    "            \n",
    "print(f\"there are {len(palindromes)} palindromes with greater than 6 characters\")\n",
    "print(\"\")\n",
    "print(palindromes)"
   ]
  },
  {
   "cell_type": "code",
   "execution_count": 192,
   "id": "359ca5b9",
   "metadata": {},
   "outputs": [
    {
     "name": "stdout",
     "output_type": "stream",
     "text": [
      "1 palindromes\n",
      "manoonam\n",
      "\n",
      "0 words\n",
      "\n",
      "3 words\n",
      "monom\n",
      "caoc\n",
      "manoonam\n",
      "\n",
      "0 words\n",
      "\n",
      "0 palindromes\n",
      "\n"
     ]
    }
   ],
   "source": [
    "# failed palindrome attempts\n",
    "\n",
    "# attempt 1 - this is how i really wanted to solve it but could NOT figure it out\n",
    "test = [\"monom\", \"caoc\", \"mountain\", \"manoonam\"]\n",
    "palindromes = []\n",
    "\n",
    "for word in test:\n",
    "    if word[-1:] == word[0]:\n",
    "        if len(word) > 6:\n",
    "            palindromes.append(word)\n",
    "        \n",
    "print(f\"{len(palindromes)} palindromes\")\n",
    "\n",
    "for palindrome in palindromes:\n",
    "    print(palindrome)\n",
    "    \n",
    "print(\"\")\n",
    "\n",
    "# attempt 2\n",
    "test = [\"monom\", \"caoc\", \"mountain\", \"manoonam\"]\n",
    "matches = []\n",
    "\n",
    "for item in test:\n",
    "    if item[-1:] == item[0] and item[-2:] == item[1]:\n",
    "        matches.append(item)\n",
    "        \n",
    "print(f\"{len(matches)} words\")\n",
    "\n",
    "for match in matches:\n",
    "    print(match)\n",
    "    \n",
    "print(\"\")\n",
    "    \n",
    "# attempt 3\n",
    "test = [\"monom\", \"caoc\", \"mountain\", \"manoonam\"]\n",
    "matches = []\n",
    "\n",
    "for item in test:\n",
    "    if item[-1:] == item[0]:\n",
    "        matches.append(item)\n",
    "        for item in matches:\n",
    "            if item[-2:] == item[1]:\n",
    "                matches.append(item)\n",
    "        \n",
    "print(f\"{len(matches)} words\")\n",
    "\n",
    "for match in matches:\n",
    "    print(match)\n",
    "    \n",
    "print(\"\")\n",
    "    \n",
    "# attempt 4\n",
    "test = [\"monom\", \"caoc\", \"mountain\", \"manoonam\"]\n",
    "matches = []\n",
    "\n",
    "for item in test:\n",
    "    if item[:0] == item[-1]:\n",
    "        matches.append(item)\n",
    "        \n",
    "print(f\"{len(matches)} words\")\n",
    "\n",
    "for match in matches:\n",
    "    print(match)\n",
    "    \n",
    "print(\"\")\n",
    "    \n",
    "\n",
    "# attempt 5 - why doesn't this work\n",
    "test = [\"monom\", \"caoc\", \"mountain\", \"manoonam\"]\n",
    "palindromes = []\n",
    "\n",
    "for word in test:\n",
    "    if word[-2:] == word[1]:\n",
    "        palindromes.append(word)\n",
    "        \n",
    "print(f\"{len(palindromes)} palindromes\")\n",
    "\n",
    "for palindrome in palindromes:\n",
    "    print(palindrome)\n",
    "    \n",
    "print(\"\")"
   ]
  },
  {
   "cell_type": "code",
   "execution_count": 228,
   "id": "8d60c576",
   "metadata": {},
   "outputs": [],
   "source": [
    "# 7 - something fun "
   ]
  },
  {
   "cell_type": "code",
   "execution_count": 165,
   "id": "47bc701b",
   "metadata": {},
   "outputs": [
    {
     "name": "stdout",
     "output_type": "stream",
     "text": [
      "fashion\n",
      "\n",
      "there are 59 words with 6 or more s'\n",
      "['assessorships', 'assiduousnesses', 'baselessnesses', 'causelessnesses', 'ceaselessnesses', 'classlessness', 'classlessnesses', 'dispossesses', 'dispossessions', 'dispossessors', 'houselessnesses', 'listlessnesses', 'missishnesses', 'noiselessnesses', 'obsessivenesses', 'passionlessness', 'possessedness', 'possessednesses', 'possessionless', 'possessiveness', 'possessorships', 'pulselessnesses', 'resistlessness', 'restlessnesses', 'saplessnesses', 'sassinesses', 'scentlessnesses', 'seamlessnesses', 'selflessnesses', 'senselessness', 'senselessnesses', 'sensuousnesses', 'sexlessnesses', 'shamelessnesses', 'shapelessnesses', 'shiftlessnesses', 'sightlessnesses', 'sinlessnesses', 'sissinesses', 'sissynesses', 'skillessnesses', 'sleeplessnesses', 'smokelessnesses', 'soullessnesses', 'soundlessnesses', 'spinelessnesses', 'spotlessnesses', 'stainlessnesses', 'statelessnesses', 'stonelessnesses', 'stressfulnesses', 'stresslessness', 'stylelessnesses', 'submissnesses', 'successlessness', 'sunlessnesses', 'tastelessnesses', 'trustlessnesses', 'uselessnesses']\n"
     ]
    }
   ],
   "source": [
    "# the second of two words that end in 'shion'\n",
    "\n",
    "fun_list = []\n",
    "for fun in wordlist:\n",
    "    if fun[-5:] == \"shion\":\n",
    "        fun_list.append(fun)\n",
    "\n",
    "print(fun_list[2])\n",
    "\n",
    "print(\"\")\n",
    "\n",
    "# words with 6 or more s'\n",
    "\n",
    "six_s = [] \n",
    "for six in wordlist:\n",
    "    counter = 0\n",
    "    for letters in six:\n",
    "        if letters == \"s\":\n",
    "            counter = counter + 1\n",
    "    if counter >= 6:\n",
    "        six_s.append(six)\n",
    "\n",
    "print(f\"there are {len(six_s)} words with 6 or more s'\")\n",
    "print(six_s)"
   ]
  }
 ],
 "metadata": {
  "kernelspec": {
   "display_name": "Python 3 (ipykernel)",
   "language": "python",
   "name": "python3"
  },
  "language_info": {
   "codemirror_mode": {
    "name": "ipython",
    "version": 3
   },
   "file_extension": ".py",
   "mimetype": "text/x-python",
   "name": "python",
   "nbconvert_exporter": "python",
   "pygments_lexer": "ipython3",
   "version": "3.10.9"
  }
 },
 "nbformat": 4,
 "nbformat_minor": 5
}
