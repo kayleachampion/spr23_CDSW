{
 "cells": [
  {
   "cell_type": "markdown",
   "id": "attempted-laptop",
   "metadata": {},
   "source": [
    "If you build a new book, you will need to (a) keep it in the same directory as this file and (b) copy the cell immediately below into your notebook so that you also import the wordlist into your notebook. Unless you do that, you will not have the wordlist file."
   ]
  },
  {
   "cell_type": "code",
   "execution_count": 88,
   "id": "addressed-point",
   "metadata": {},
   "outputs": [],
   "source": [
    "# this code imports the wordlist into a new list called wordlist\n",
    "from scrabble import wordlist"
   ]
  },
  {
   "cell_type": "code",
   "execution_count": 89,
   "id": "3557dc3e",
   "metadata": {},
   "outputs": [],
   "source": [
    "# 1 - alls well that ends well"
   ]
  },
  {
   "cell_type": "code",
   "execution_count": 90,
   "id": "atlantic-burner",
   "metadata": {},
   "outputs": [
    {
     "name": "stdout",
     "output_type": "stream",
     "text": [
      "23 words that end in 'well'\n",
      "bridewell\n",
      "drywell\n",
      "dwell\n",
      "farewell\n",
      "footwell\n",
      "gromwell\n",
      "groundswell\n",
      "indwell\n",
      "inkwell\n",
      "maxwell\n",
      "newell\n",
      "outdwell\n",
      "outswell\n",
      "outwell\n",
      "overswell\n",
      "pinswell\n",
      "speedwell\n",
      "stairwell\n",
      "swell\n",
      "unwell\n",
      "upswell\n",
      "upwell\n",
      "well\n",
      "\n",
      "5 words that end in 'mt'\n",
      "daydreamt\n",
      "dreamt\n",
      "outdreamt\n",
      "redreamt\n",
      "undreamt\n",
      "\n",
      "5 words that end in 'gry'\n",
      "aggry\n",
      "ahungry\n",
      "angry\n",
      "hungry\n",
      "puggry\n"
     ]
    }
   ],
   "source": [
    "matches = []\n",
    "for word in wordlist:\n",
    "    if word[-4:] == \"well\":\n",
    "        matches.append(word)\n",
    "print(f\"{len(matches)} words that end in 'well'\")\n",
    "\n",
    "for match in matches:\n",
    "    print(match)\n",
    "    \n",
    "print(\"\")\n",
    "    \n",
    "new_matches = []\n",
    "for new in wordlist:\n",
    "    if new[-2:] == \"mt\":\n",
    "        new_matches.append(new)\n",
    "print(f\"{len(new_matches)} words that end in 'mt'\")\n",
    "\n",
    "for new in new_matches:\n",
    "    print(new)\n",
    "    \n",
    "print(\"\")\n",
    "    \n",
    "more_matches = []\n",
    "for more in wordlist:\n",
    "    if more[-3:] == \"gry\":\n",
    "        more_matches.append(more)\n",
    "print(f\"{len(more_matches)} words that end in 'gry'\")\n",
    "\n",
    "for more in more_matches:\n",
    "    print(more)"
   ]
  },
  {
   "cell_type": "code",
   "execution_count": 91,
   "id": "88474ffa",
   "metadata": {},
   "outputs": [],
   "source": [
    "# 2 - counting vowels"
   ]
  },
  {
   "cell_type": "code",
   "execution_count": 92,
   "id": "eb1632fe",
   "metadata": {
    "scrolled": true
   },
   "outputs": [
    {
     "name": "stdout",
     "output_type": "stream",
     "text": [
      "there are 15723 words that start with 'a'\n",
      "there are 11030 words that start with 'e'\n",
      "there are 9390 words that start with 'i'\n",
      "there are 8604 words that start with 'o'\n",
      "there are 9070 words that start with 'u'\n",
      "\n",
      "with 15723 words, the 'a' vowel is the most common vowel to find at the beggining of a word\n"
     ]
    }
   ],
   "source": [
    "a_vowels = []\n",
    "for a in wordlist:\n",
    "    if a[0:1] == \"a\":\n",
    "        a_vowels.append(a)\n",
    "        \n",
    "print(f\"there are {len(a_vowels)} words that start with 'a'\")\n",
    "\n",
    "e_vowels = []\n",
    "for e in wordlist:\n",
    "    if e[0:1] == \"e\":\n",
    "        e_vowels.append(e)\n",
    "        \n",
    "print(f\"there are {len(e_vowels)} words that start with 'e'\")\n",
    "\n",
    "i_vowels = []\n",
    "for i in wordlist:\n",
    "    if i[0:1] == \"i\":\n",
    "        i_vowels.append(i)\n",
    "        \n",
    "print(f\"there are {len(i_vowels)} words that start with 'i'\")\n",
    "\n",
    "o_vowels = []\n",
    "for o in wordlist:\n",
    "    if o[0:1] == \"o\":\n",
    "        o_vowels.append(o)\n",
    "        \n",
    "print(f\"there are {len(o_vowels)} words that start with 'o'\")\n",
    "\n",
    "u_vowels = []\n",
    "for u in wordlist:\n",
    "    if u[0:1] == \"u\":\n",
    "        u_vowels.append(u)\n",
    "        \n",
    "print(f\"there are {len(u_vowels)} words that start with 'u'\")\n",
    "\n",
    "m = max(len(a_vowels), len(e_vowels), len(i_vowels), len(o_vowels), len(u_vowels))\n",
    "\n",
    "print(\"\")\n",
    "\n",
    "print(f\"with {m} words, the 'a' vowel is the most common vowel to find at the beggining of a word\")"
   ]
  },
  {
   "cell_type": "code",
   "execution_count": 93,
   "id": "b8b54fcd",
   "metadata": {},
   "outputs": [
    {
     "name": "stdout",
     "output_type": "stream",
     "text": [
      "there are 5312 words that end with 'a'\n",
      "there are 27350 words that end with 'e'\n",
      "there are 1474 words that end with 'i'\n",
      "there are 1783 words that end with 'o'\n",
      "there are 354 words that end with 'u'\n",
      "\n",
      "with 27350 words, the 'e' vowel is the most common vowel to find at the end of a word\n"
     ]
    }
   ],
   "source": [
    "a_vowels = []\n",
    "for a in wordlist:\n",
    "    if a[-1:] == \"a\":\n",
    "        a_vowels.append(a)\n",
    "        \n",
    "print(f\"there are {len(a_vowels)} words that end with 'a'\")\n",
    "\n",
    "e_vowels = []\n",
    "for e in wordlist:\n",
    "    if e[-1:] == \"e\":\n",
    "        e_vowels.append(e)\n",
    "        \n",
    "print(f\"there are {len(e_vowels)} words that end with 'e'\")\n",
    "\n",
    "i_vowels = []\n",
    "for i in wordlist:\n",
    "    if i[-1:] == \"i\":\n",
    "        i_vowels.append(i)\n",
    "        \n",
    "print(f\"there are {len(i_vowels)} words that end with 'i'\")\n",
    "\n",
    "o_vowels = []\n",
    "for o in wordlist:\n",
    "    if o[-1:] == \"o\":\n",
    "        o_vowels.append(o)\n",
    "        \n",
    "print(f\"there are {len(o_vowels)} words that end with 'o'\")\n",
    "\n",
    "u_vowels = []\n",
    "for u in wordlist:\n",
    "    if u[-1:] == \"u\":\n",
    "        u_vowels.append(u)\n",
    "        \n",
    "print(f\"there are {len(u_vowels)} words that end with 'u'\")\n",
    "\n",
    "most = max(len(a_vowels), len(e_vowels), len(i_vowels), len(o_vowels), len(u_vowels))\n",
    "\n",
    "print(\"\")\n",
    "\n",
    "print(f\"with {most} words, the 'e' vowel is the most common vowel to find at the end of a word\")"
   ]
  },
  {
   "cell_type": "code",
   "execution_count": 231,
   "id": "ce99c7b0",
   "metadata": {
    "scrolled": true
   },
   "outputs": [
    {
     "name": "stdout",
     "output_type": "stream",
     "text": [
      " there are 3405 words with all of the vowels\n"
     ]
    }
   ],
   "source": [
    "all_vowels = []\n",
    "for vowel in wordlist:\n",
    "    if \"a\" in vowel and \"e\" in vowel and \"i\" in vowel and \"o\" in vowel and \"u\" in vowel:\n",
    "        all_vowels.append(vowel)\n",
    "        \n",
    "print(f\" there are {len(all_vowels)} words with all of the vowels\")"
   ]
  },
  {
   "cell_type": "code",
   "execution_count": 229,
   "id": "9374f744",
   "metadata": {},
   "outputs": [
    {
     "name": "stdout",
     "output_type": "stream",
     "text": [
      "there are 43 words with all 5 vowels in alphabetical order\n",
      "\n",
      "['abstemious', 'abstemiously', 'abstemiousness', 'abstentious', 'adventitious', 'adventitiously', 'aeruginous', 'amentiferous', 'androdioecious', 'andromonoecious', 'anemophilous', 'antenniferous', 'antireligious', 'arenicolous', 'argentiferous', 'arsenious', 'arteriovenous', 'asclepiadaceous', 'autecious', 'autoecious', 'autoeciously', 'bacteriophagous', 'caesious', 'cavernicolous', 'chaetiferous', 'facetious', 'facetiously', 'facetiousness', 'facetiousnesses', 'facinerious', 'flagelliferous', 'garnetiferous', 'halfseriously', 'hamamelidaceous', 'lateritious', 'parecious', 'paroecious', 'quadrigeminous', 'sacrilegious', 'sacrilegiously', 'sarraceniaceous', 'ultraserious', 'valerianaceous']\n"
     ]
    }
   ],
   "source": [
    "vowels = [\"a\", \"e\", \"i\", \"o\", \"u\"]\n",
    "new_list = []\n",
    "\n",
    "for words in wordlist:\n",
    "    # setting counter = 0 assigns numerical value to the vowel list\n",
    "    counter = 0\n",
    "    for letter in words:\n",
    "        # if the counter value is less than 5 (because that's the max value of the range) AND the letter in the\n",
    "        # word equals the 0th spot in the vowel list, without the < 5 the code breaks because it will keep counting\n",
    "        if counter < 5 and letter == vowels[counter]:\n",
    "            # then add one to counter in order to change the vowel that's being looked for\n",
    "            counter = counter + 1\n",
    "    # if counter equals 5, then all vowels have been accounted for\n",
    "    if counter == 5:\n",
    "        new_list.append(words)\n",
    "        \n",
    "print(f\"there are {len(new_list)} words with all 5 vowels in alphabetical order\")\n",
    "print(\"\")\n",
    "print(new_list)"
   ]
  },
  {
   "cell_type": "code",
   "execution_count": 223,
   "id": "bc362cd5",
   "metadata": {},
   "outputs": [
    {
     "name": "stdout",
     "output_type": "stream",
     "text": [
      "[]\n",
      "\n",
      "['inomaepu', 'gapelihotu', 'aeiou', 'apaelikoju', 'apaelikoju', 'team', 'tan']\n",
      "\n",
      "['inomaepu', 'inomaepu', 'inomaepu', 'inomaepu', 'inomaepu', 'gapelihotu', 'gapelihotu', 'gapelihotu', 'gapelihotu', 'gapelihotu', 'aeiou', 'aeiou', 'aeiou', 'aeiou', 'aeiou', 'apaelikoju', 'apaelikoju', 'apaelikoju', 'apaelikoju', 'apaelikoju', 'apaelikoju', 'team', 'team', 'tan']\n",
      "\n",
      "['inomaepu', 'gapelihotu', 'aeiou', 'team', 'tan']\n",
      "\n"
     ]
    }
   ],
   "source": [
    "# failed aeiou in order within the word attempts\n",
    "\n",
    "#attempt 1 \n",
    "test_list = [\"inomaepu\", \"gapelihotu\", \"aeiou\", \"apaelikoju\", \"team\", \"tan\"]\n",
    "new_list = []\n",
    "\n",
    "for word in test_list:\n",
    "    for letter in word:\n",
    "        if letter == \"a\":\n",
    "            if letter == \"e\":\n",
    "                new_list.append(word)\n",
    "                \n",
    "print(new_list)\n",
    "print(\"\")\n",
    "\n",
    "# attempt 2 - didn't work because \"tan\" should've been excluded \n",
    "test_list = [\"inomaepu\", \"gapelihotu\", \"aeiou\", \"apaelikoju\", \"team\", \"tan\"]\n",
    "new_list = []\n",
    "\n",
    "for word in test_list:\n",
    "    for letter in word:\n",
    "        if letter == \"a\":\n",
    "            new_list.append(word)\n",
    "            if letter == \"e\":\n",
    "                new_list.append(word)\n",
    " \n",
    "print(new_list)\n",
    "print(\"\")\n",
    "\n",
    "# atempt 3 - it's printing the words as many times as a, e, i, o, or u appear in the word\n",
    "test_list = [\"inomaepu\", \"gapelihotu\", \"aeiou\", \"apaelikoju\", \"team\", \"tan\"]\n",
    "new_list = []\n",
    "\n",
    "for word in test_list:\n",
    "    for letter in word:\n",
    "        if letter in \"aeiou\":\n",
    "            new_list.append(word)\n",
    "            \n",
    "print(new_list)\n",
    "print(\"\")\n",
    "\n",
    "# attempt 4 - i want my code to grab the word if the first vowel it hits is a but throw the word away if it hits eiou\n",
    "test_list = [\"inomaepu\", \"gapelihotu\", \"aeiou\", \"apaelikoju\", \"team\", \"tan\"]\n",
    "new_list = []\n",
    "\n",
    "for word in test_list:\n",
    "    counter = 0\n",
    "    for letter in word:\n",
    "        if letter == \"a\":\n",
    "            counter = counter + 1\n",
    "    if counter == 1:\n",
    "        new_list.append(word)\n",
    "        \n",
    "# i wish the vowels were numbers UGH\n",
    " \n",
    "print(new_list)\n",
    "print(\"\")\n",
    "\n"
   ]
  },
  {
   "cell_type": "code",
   "execution_count": 219,
   "id": "1ab35770",
   "metadata": {},
   "outputs": [
    {
     "ename": "IndexError",
     "evalue": "list index out of range",
     "output_type": "error",
     "traceback": [
      "\u001b[0;31m---------------------------------------------------------------------------\u001b[0m",
      "\u001b[0;31mIndexError\u001b[0m                                Traceback (most recent call last)",
      "Cell \u001b[0;32mIn[219], line 10\u001b[0m\n\u001b[1;32m      8\u001b[0m counter \u001b[38;5;241m=\u001b[39m \u001b[38;5;241m0\u001b[39m\n\u001b[1;32m      9\u001b[0m \u001b[38;5;28;01mfor\u001b[39;00m letter \u001b[38;5;129;01min\u001b[39;00m words:\n\u001b[0;32m---> 10\u001b[0m     \u001b[38;5;28;01mif\u001b[39;00m letter \u001b[38;5;241m==\u001b[39m \u001b[43mvowels\u001b[49m\u001b[43m[\u001b[49m\u001b[43mcounter\u001b[49m\u001b[43m]\u001b[49m:\n\u001b[1;32m     11\u001b[0m         counter \u001b[38;5;241m=\u001b[39m counter \u001b[38;5;241m+\u001b[39m \u001b[38;5;241m1\u001b[39m\n\u001b[1;32m     12\u001b[0m \u001b[38;5;28;01mif\u001b[39;00m counter \u001b[38;5;241m==\u001b[39m \u001b[38;5;241m5\u001b[39m:\n",
      "\u001b[0;31mIndexError\u001b[0m: list index out of range"
     ]
    }
   ],
   "source": [
    "# attempt 6 - failed because i did not limit the range (words exist that don't end in u)\n",
    "\n",
    "test_list = [\"inomaepu\", \"gapelihotu\", \"aeiou\", \"apaelikoju\", \"team\", \"tan\", \"amehiokut\"]\n",
    "# found a way to turn vowels into numbers :D\n",
    "vowels = [\"a\", \"e\", \"i\", \"o\", \"u\"]\n",
    "new_list = []\n",
    "\n",
    "for words in test_list:\n",
    "    counter = 0\n",
    "    for letter in words:\n",
    "        if letter == vowels[counter]:\n",
    "            counter = counter + 1\n",
    "    if counter == 5:\n",
    "        new_list.append(words)\n",
    "        \n",
    "print(new_list)\n"
   ]
  },
  {
   "cell_type": "code",
   "execution_count": 95,
   "id": "9a0fc686",
   "metadata": {},
   "outputs": [],
   "source": [
    "# 3 - disemvoweled "
   ]
  },
  {
   "cell_type": "code",
   "execution_count": 127,
   "id": "71a9f78f",
   "metadata": {},
   "outputs": [
    {
     "name": "stdout",
     "output_type": "stream",
     "text": [
      "['glycyls', 'nymphly', 'rhythms', 'tsktsks']\n"
     ]
    }
   ],
   "source": [
    "# words with no vowels \n",
    "no_vowels = []\n",
    "\n",
    "#longest words with no vowels\n",
    "longest_no_vowels = []\n",
    "\n",
    "# for each word in wordlist \n",
    "for word in wordlist:\n",
    "   # check if it has a vowel\n",
    "    if \"a\" not in word and \"e\" not in word and \"i\" not in word and \"o\" not in word and \"u\" not in word:\n",
    "        # if it doesn't then compare its length to the length of the next word\n",
    "        if len(word) > len(no_vowels):\n",
    "            # if the length of the word is longer than the current one, assign it to \"word\"\n",
    "            no_vowels = word\n",
    "            # assign the longest word as an item in the list of longest words with no vowels\n",
    "            longest_no_vowels = [word]\n",
    "        # if the length of the current longest word = the length of the new word\n",
    "        elif len(word) == len(no_vowels):\n",
    "            # append that word to the list of longest words with no vowels\n",
    "            longest_no_vowels.append(word)\n",
    "            \n",
    "print(longest_no_vowels)"
   ]
  },
  {
   "cell_type": "code",
   "execution_count": 97,
   "id": "d37d33b5",
   "metadata": {},
   "outputs": [],
   "source": [
    "# 4 - a cure for many ells"
   ]
  },
  {
   "cell_type": "code",
   "execution_count": 172,
   "id": "e3d056c8",
   "metadata": {},
   "outputs": [
    {
     "name": "stdout",
     "output_type": "stream",
     "text": [
      "there are 136 words with 4 or more elles\n",
      "\n",
      "['alcoholically', 'algologically', 'allegorically', 'allhallond', 'allhallowen', 'allhallown', 'allhollown', 'allopathically', 'allopatrically', 'allopolyploid', 'allopolyploids', 'allopolyploidy', 'allosterically', 'allotropically', 'allotypically', 'allychollies', 'allycholly', 'balletically', 'ballistically', 'bellpull', 'bellpulls', 'catallactically', 'cellulolytic', 'collaterally', 'collegially', 'collisionally', 'colloidally', 'colloquially', 'corollifloral', 'dillydallied', 'dillydallies', 'dillydally', 'dillydallying', 'dullsville', 'dullsvilles', 'elliptically', 'extracellularly', 'fallalishly', 'hallalled', 'hallalling', 'hillbillies', 'hillbilly', 'holoblastically', 'hullaballoo', 'hullaballoos', 'idyllically', 'illegally', 'illiberally', 'illogically', 'intellectually', 'intracellularly', 'jellyroll', 'jellyrolls', 'lallapalooza', 'lallapaloozas', 'lamellarly', 'lamellately', 'lamellirostral', 'legalistically', 'lexicologically', 'libellously', 'lignocellulose', 'lignocelluloses', 'lignocellulosic', 'ligulifloral', 'limnologically', 'lithologically', 'loblollies', 'loblolly', 'lollapalooza', 'lollapaloozas', 'lollingly', 'melancholically', 'mellifluently', 'mellifluously', 'metallically', 'metallurgically', 'methylcellulose', 'millefeuille', 'millefeuilles', 'millennially', 'millesimally', 'multicellular', 'multilaterally', 'multilingually', 'multimillennial', 'palynologically', 'parallactically', 'parallelled', 'parallelling', 'parallelly', 'pellmell', 'pellmells', 'phallically', 'philatelically', 'philologically', 'plasmolytically', 'pluralistically', 'polysyllabical', 'polysyllable', 'polysyllables', 'pralltriller', 'pralltrillers', 'premillennially', 'rollcollar', 'rollcollars', 'rollerball', 'rollerballs', 'shillyshallied', 'shillyshallier', 'shillyshalliers', 'shillyshallies', 'shillyshally', 'shillyshallying', 'silviculturally', 'skillfully', 'stellularly', 'syllabically', 'sylleptically', 'syllogistically', 'teleologically', 'trisyllabically', 'unfulfillable', 'unskillfully', 'valpolicella', 'valpolicellas', 'vexillological', 'villanella', 'villanellas', 'villanelle', 'villanelles', 'volleyball', 'volleyballs', 'wallyball', 'wallyballs', 'willfully']\n"
     ]
    }
   ],
   "source": [
    "four_elles = []\n",
    "\n",
    "for word in wordlist:\n",
    "    counter = 0\n",
    "    for letter in word:\n",
    "        if letter == \"l\":\n",
    "            counter = counter + 1\n",
    "    if counter >= 4:\n",
    "        four_elles.append(word)\n",
    "\n",
    "print(f\"there are {len(four_elles)} words with 4 or more elles\")\n",
    "\n",
    "print(\"\")\n",
    "\n",
    "print(four_elles)"
   ]
  },
  {
   "cell_type": "code",
   "execution_count": 99,
   "id": "03caa47a",
   "metadata": {},
   "outputs": [],
   "source": [
    "# 5 - so long "
   ]
  },
  {
   "cell_type": "code",
   "execution_count": 233,
   "id": "ee839faa",
   "metadata": {},
   "outputs": [
    {
     "name": "stdout",
     "output_type": "stream",
     "text": [
      "there are 5757 words with 15 characters\n",
      "\n",
      "['abiogenetically', 'aboriginalities', 'absorbabilities', 'absorbefacients', 'absorptiometers', 'abstractionisms', 'abstractionists', 'acanthocephalan', 'acceptabilities', 'acceptingnesses', 'accessarinesses', 'accessibilities', 'accessorinesses', 'accidentalities', 'accidentologies', 'acclimatisation', 'acclimatization', 'accommodatingly', 'accommodational', 'accomplishments', 'accountableness', 'accountantships', 'acculturational', 'acetophenetidin', 'acetylsalicylic', 'achondroplasias', 'achondroplastic', 'achromaticities', 'achromatisation', 'achromatization', 'acidimetrically', 'acknowledgeable', 'acknowledgeably', 'acknowledgement', 'acknowledgments', 'acquirabilities', 'acquisitiveness', 'acrimoniousness', 'acroparesthesia', 'actinobiologies', 'actinochemistry', 'actinotherapies', 'adaptablenesses', 'additionalities', 'adenocarcinomas', 'adenohypophyses', 'adenohypophysis', 'adenoidectomies', 'adiathermancies', 'adjustabilities', 'administrations', 'admirablenesses', 'admissibilities', 'adrenalectomies', 'adsorbabilities', 'adventurousness', 'adversarinesses', 'advisablenesses', 'aerodynamically', 'aerodynamicists', 'aeroelasticians', 'aerohydroplanes', 'aerolithologies', 'aerosolisations', 'aerosolizations', 'affectabilities', 'affectivenesses', 'affordabilities', 'affranchisement', 'aftersensations', 'agglutinability', 'aggrandisements', 'aggrandizements', 'aggregatenesses', 'agranulocytoses', 'agranulocytosis', 'agreeablenesses', 'agribusinessman', 'agribusinessmen', 'agriculturalist', 'airworthinesses', 'alcoholisations', 'alcoholizations', 'alcoholometries', 'alexipharmakons', 'algorithmically', 'alkalinisations', 'alkalinizations', 'allegoricalness', 'allegorisations', 'allegorizations', 'allelomorphisms', 'allergenicities', 'allotetraploids', 'allotetraploidy', 'allotriomorphic', 'allowablenesses', 'alphabetisation', 'alphabetization', 'alternativeness', 'altitudinarians', 'aluminosilicate', 'aluminothermies', 'amaryllidaceous', 'ambassadorships', 'ambidexterities', 'ambiguousnesses', 'ambisexualities', 'ambitiousnesses', 'aminopeptidases', 'aminophenazones', 'ammonifications', 'amorphousnesses', 'amphidiploidies', 'amphitheatrical', 'anacoluthically', 'anacreontically', 'anaesthesiology', 'anaesthetically', 'anagrammatising', 'anagrammatizing', 'analogousnesses', 'analyzabilities', 'anamorphoscopes', 'ancylostomiases', 'ancylostomiasis', 'androgynophores', 'andromedotoxins', 'andromonoecious', 'andromonoecisms', 'anesthetization', 'anfractuosities', 'angustirostrate', 'animatronically', 'anisotropically', 'ankylostomiases', 'ankylostomiasis', 'annihilationism', 'anomalistically', 'anomalousnesses', 'anonymousnesses', 'answerabilities', 'antagonisations', 'antagonizations', 'antaphrodisiacs', 'antepenultimate', 'anthropobiology', 'anthropocentric', 'anthropogeneses', 'anthropogenesis', 'anthropogenetic', 'anthropolatries', 'anthropological', 'anthropologists', 'anthropometries', 'anthropometrist', 'anthropomorphic', 'anthropopathies', 'anthropopathism', 'anthropophagies', 'anthropophagite', 'anthropophagous', 'anthropophobias', 'anthropophobics', 'anthropophuisms', 'anthropopsychic', 'anthroposophies', 'anthroposophist', 'antiabortionist', 'antialcoholisms', 'antiaphrodisiac', 'antiarrhythmics', 'anticapitalisms', 'anticapitalists', 'anticarcinogens', 'anticholesterol', 'anticholinergic', 'antichristianly', 'anticlericalism', 'anticlimactical', 'anticoincidence', 'anticolonialism', 'anticolonialist', 'anticompetitive', 'anticonvulsants', 'anticonvulsives', 'antidepressants', 'antiderivatives', 'antidevelopment', 'antieducational', 'antiegalitarian', 'antifashionable', 'antifederalists', 'antiferromagnet', 'antiforeclosure', 'antihelminthics', 'antihistaminics', 'antiliberalisms', 'antilibertarian', 'antilogarithmic', 'antimaterialism', 'antimaterialist', 'antimetabolites', 'antimilitarisms', 'antimilitarists', 'antimonarchical', 'antimonarchists', 'antimonopolists', 'antinationalist', 'antinuclearists', 'antiodontalgics', 'antiperistalses', 'antiperistalsis', 'antiperistaltic', 'antiperspirants', 'antiphlogistics', 'antipornography', 'antiprogressive', 'antiquarianisms', 'antiradicalisms', 'antirationalism', 'antirationalist', 'antirationality', 'antirepublicans', 'antiromanticism', 'antisegregation', 'antisentimental', 'antiseparatists', 'antisepticising', 'antisepticizing', 'antisexualities', 'antishoplifting', 'antisocialities', 'antispeculation', 'antispeculative', 'antisyphilitics', 'antitheoretical', 'antithrombotics', 'antitraditional', 'antitranspirant', 'antitrinitarian', 'antituberculous', 'antivivisection', 'apheliotropisms', 'apocalyptically', 'apocalypticisms', 'apolipoproteins', 'apoliticalities', 'apophthegmatise', 'apophthegmatist', 'apophthegmatize', 'apothegmatising', 'apothegmatizing', 'appealabilities', 'appealingnesses', 'appendicularian', 'applicabilities', 'apprenticehoods', 'apprenticements', 'apprenticeships', 'approachability', 'appropinquating', 'appropinquation', 'appropinquities', 'appropriateness', 'arachnoiditises', 'arbitrarinesses', 'arboriculturist', 'archaebacterium', 'archaeobotanies', 'archaeobotanist', 'archaeometrists', 'archaeopteryxes', 'archaezoologies', 'archeoastronomy', 'archeobotanists', 'archeologically', 'archeomagnetism', 'archeozoologies', 'archeozoologist', 'archgenethliacs', 'archidiaconates', 'archiepiscopacy', 'archiepiscopate', 'architecturally', 'archpriesthoods', 'archpriestships', 'argumentatively', 'ariboflavinoses', 'ariboflavinosis', 'aromatherapists', 'arrondissements', 'arterialisation', 'arterialization', 'arteriographies', 'artificialising', 'artificialities', 'artificializing', 'asclepiadaceous', 'assentivenesses', 'assertivenesses', 'assiduousnesses', 'assignabilities', 'assimilationism', 'assimilationist', 'associabilities', 'associationisms', 'associationists', 'associativities', 'astrobiologists', 'astrodynamicist', 'astrogeologists', 'astronautically', 'astronavigation', 'astronavigators', 'astrophotograph', 'astrophysically', 'astrophysicists', 'atheroscleroses', 'atherosclerosis', 'atherosclerotic', 'atmospherically', 'atrabiliousness', 'atrociousnesses', 'attainabilities', 'attentivenesses', 'attitudinarians', 'attitudinisings', 'attitudinizings', 'attributiveness', 'audaciousnesses', 'audiometrically', 'audiometricians', 'authentications', 'authoritatively', 'autobiographers', 'autobiographies', 'autochthonously', 'autocorrelation', 'autodestructing', 'autodestructive', 'autodidacticism', 'autographically', 'autoinoculation', 'autoionisations', 'autoionizations', 'automatisations', 'automatizations', 'automorphically', 'autoradiographs', 'autoradiography', 'autoschediastic', 'autoschediazing', 'autostabilities', 'autosuggestions', 'autotetraploids', 'autotetraploidy', 'autotransformer', 'autotransfusion', 'autotrophically', 'availablenesses', 'axiomatisations', 'axiomatizations', 'azidothymidines', 'bacchanalianism', 'backscatterings', 'backscratchings', 'bacteriological', 'bacteriologists', 'bacteriophagies', 'bacteriophagous', 'balneotherapies', 'barbarousnesses', 'barefacednesses', 'basidiomycetous', 'bastardisations', 'bastardizations', 'bathometrically', 'bathymetrically', 'batrachophobias', 'beardlessnesses', 'beauteousnesses', 'beautifications', 'beautifulnesses', 'believabilities', 'belongingnesses', 'benightednesses', 'benzanthracenes', 'benzenecarbonyl', 'benzodiazepines', 'beseemingnesses', 'bespottednesses', 'bibliographical', 'bibliophilistic', 'bibliothecaries', 'bibliotherapies', 'bidialectalisms', 'bidirectionally', 'bigheadednesses', 'bioaccumulating', 'bioaccumulation', 'bioastronautics', 'bioavailability', 'biodegradations', 'biodestructible', 'bioecologically', 'bioengineerings', 'biogeochemicals', 'biogeochemistry', 'biogeographical', 'bioluminescence', 'biomathematical', 'biomechanically', 'bioprospectings', 'biopsychologies', 'bioregionalisms', 'bioregionalists', 'bioremediations', 'biorhythmically', 'biostatistician', 'biostratigraphy', 'biosystematists', 'biotechnologies', 'biotechnologist', 'bipartisanships', 'bipolarisations', 'bipolarizations', 'bisphosphonates', 'bisymmetrically', 'bittersweetness', 'bituminisations', 'bituminizations', 'blameablenesses', 'blamelessnesses', 'blameworthiness', 'blasphemousness', 'blaxploitations', 'bletheranskates', 'blockheadedness', 'bloodcurdlingly', 'bloodguiltiness', 'bloodlessnesses', 'bloodthirstiest', 'bougainvillaeas', 'bouleversements', 'boundlessnesses', 'bounteousnesses', 'bountifulnesses', 'bourgeoisifying', 'boustrophedonic', 'bowdlerisations', 'bowdlerizations', 'brachiocephalic', 'brachiosauruses', 'brachistochrone', 'brachycephalics', 'brachycephalies', 'brachycephalism', 'brachycephalous', 'brachydactylies', 'brachydactylism', 'brachydactylous', 'brachydiagonals', 'brachypinakoids', 'brachytherapies', 'brainlessnesses', 'brainsicknesses', 'braunschweigers', 'breakablenesses', 'breathabilities', 'breatharianisms', 'bremsstrahlungs', 'brilliantnesses', 'broadmindedness', 'brokenheartedly', 'bronchiolitises', 'bronchodilators', 'bronchographies', 'bronchoscopical', 'bronchoscopists', 'brotherlinesses', 'bumptiousnesses', 'bureaucratising', 'bureaucratizing', 'businesspersons', 'calculabilities', 'calendarisation', 'calendarization', 'calorifications', 'canisterisation', 'canisterization', 'cannibalisation', 'cannibalization', 'canthaxanthines', 'capaciousnesses', 'capitalisations', 'capitalizations', 'caprifoliaceous', 'caramelisations', 'caramelizations', 'carcinogenicity', 'carcinosarcomas', 'cardiographical', 'cardiopulmonary', 'carnivorousness', 'carpetbaggeries', 'carpometacarpus', 'castanospermine', 'castrametations', 'cataclysmically', 'catallactically', 'catechistically', 'catechumenships', 'categoricalness', 'categorisations', 'categorizations', 'catheterisation', 'catheterization', 'cathodographers', 'cathodographies', 'catholicisation', 'catholicization', 'causativenesses', 'causelessnesses', 'ceaselessnesses', 'cenogenetically', 'censurabilities', 'centenarianisms', 'centralisations', 'centralizations', 'centricalnesses', 'centrifugalised', 'centrifugalises', 'centrifugalized', 'centrifugalizes', 'centrifugations', 'centripetalisms', 'centrosymmetric', 'centuplications', 'cephalochordate', 'cephalothoraces', 'cephalothoracic', 'cephalothoraxes', 'cercopithecoids', 'cerebrovascular', 'ceremoniousness', 'certificatories', 'cervicographies', 'chalcographical', 'chalcographists', 'chamberlainship', 'chancellorships', 'changeabilities', 'changefulnesses', 'channelisations', 'channelizations', 'chaptalisations', 'chaptalizations', 'characterisable', 'characteristics', 'characterizable', 'chargeabilities', 'chartographical', 'cheerlessnesses', 'chemautotrophic', 'chemoattractant', 'chemoautotrophs', 'chemoautotrophy', 'chemolithotroph', 'chemopsychiatry', 'chemoreceptions', 'chemotactically', 'chemotaxonomies', 'chemotaxonomist', 'chemotherapists', 'chemotropically', 'chenopodiaceous', 'childlessnesses', 'childlikenesses', 'chincherinchees', 'chlamydomonades', 'chloramphenicol', 'chloritisations', 'chloritizations', 'chlorothiazides', 'chlorpromazines', 'chlorpropamides', 'chlorthalidones', 'cholangiography', 'cholecalciferol', 'cholecystectomy', 'cholecystitises', 'cholecystokinin', 'cholecystostomy', 'cholesterolemia', 'cholestyramines', 'cholinergically', 'cholinesterases', 'chondrichthyans', 'chondrification', 'chondrocraniums', 'chondrophorines', 'chondroskeleton', 'chordamesoderms', 'chorioallantoic', 'chorioallantois', 'choriocarcinoma', 'chrestomathical', 'chromaticnesses', 'chromatographed', 'chromatographer', 'chromatographic', 'chromatologists', 'chromatophorous', 'chromatospheres', 'chromotherapies', 'chromoxylograph', 'chronobiologies', 'chronobiologist', 'chronogrammatic', 'chronologically', 'chronotherapies', 'churrigueresque', 'cinchonisations', 'cinchonizations', 'cineangiography', 'cinematographed', 'cinematographer', 'cinematographic', 'cinemicrography', 'circularisation', 'circularization', 'circumambagious', 'circumambiences', 'circumambiently', 'circumambulated', 'circumambulates', 'circumambulator', 'circumferential', 'circumferentors', 'circumforaneous', 'circumgyrations', 'circumincession', 'circuminsession', 'circumjacencies', 'circumlocutions', 'circumnavigable', 'circumnavigated', 'circumnavigates', 'circumnavigator', 'circumnutations', 'circumpositions', 'circumscribable', 'circumscription', 'circumscriptive', 'circumspections', 'circumspectness', 'circumstantials', 'circumstantiate', 'circumvallating', 'circumvallation', 'circumvolutions', 'citriculturists', 'civilianisation', 'civilianization', 'clamorousnesses', 'clandestineness', 'clandestinities', 'classicalnesses', 'classifications', 'classlessnesses', 'claustrophobias', 'clearheadedness', 'cleavablenesses', 'cleistogamously', 'climacterically', 'climatographies', 'cloudlessnesses', 'coagulabilities', 'cockneyfication', 'cocknifications', 'coconsciousness', 'codetermination', 'codifiabilities', 'coeducationally', 'coenzymatically', 'coessentialness', 'coinstantaneity', 'coinstantaneous', 'coinvestigators', 'coldheartedness', 'collaboratively', 'collateralising', 'collateralities', 'collateralizing', 'collectednesses', 'collenchymatous', 'colliquescences', 'colloquialities', 'colonisationist', 'colonizationist', 'colorfastnesses', 'colorlessnesses', 'colourabilities', 'colourfulnesses', 'colposcopically', 'combativenesses', 'combinabilities', 'combinatorially', 'combustibleness', 'comfortableness', 'comfortlessness', 'commandantships', 'commemorational', 'commemoratively', 'commendableness', 'commensurations', 'commercialising', 'commercialistic', 'commercialities', 'commercializing', 'commiseratingly', 'commiseratively', 'commissaryships', 'commissionaires', 'commodification', 'commonplaceness', 'communalisation', 'communalization', 'communicability', 'communicational', 'communicatively', 'communistically', 'commutabilities', 'commutativities', 'compactednesses', 'comparabilities', 'comparativeness', 'compartmentally', 'compassionately', 'compassionating', 'compatibilities', 'compendiousness', 'competentnesses', 'competitiveness', 'complementaries', 'complementarily', 'complementarity', 'complementation', 'complementisers', 'complementizers', 'complexednesses', 'compliantnesses', 'complicatedness', 'complimentarily', 'compositenesses', 'compositionally', 'compotationship', 'comprehensively', 'comprehensivise', 'comprehensivize', 'compressibility', 'comptrollership', 'computabilities', 'computationally', 'computerisation', 'computerization', 'computerphobias', 'comradelinesses', 'conceitednesses', 'conceivableness', 'concelebrations', 'concentratively', 'concentricities', 'conceptualisers', 'conceptualising', 'conceptualistic', 'conceptualities', 'conceptualizers', 'conceptualizing', 'concernednesses', 'concertednesses', 'concertmeisters', 'concessionaires', 'concessionaries', 'concessionnaire', 'concretisations', 'concretizations', 'condescendences', 'condescendingly', 'conducivenesses', 'conductiometric', 'conduplications', 'confectionaries', 'confectioneries', 'confessionalism', 'confessionalist', 'confessionaries', 'confidentiality', 'confidingnesses', 'configurational', 'confirmednesses', 'conformableness', 'confraternities', 'confrontational', 'confusabilities', 'congealableness', 'congenialnesses', 'conglobulations', 'conglomerateurs', 'conglomerations', 'conglutinations', 'congratulations', 'congressionally', 'congresspersons', 'congruousnesses', 'conjugatenesses', 'conjugationally', 'conjunctionally', 'conjunctiveness', 'connaturalising', 'connaturalities', 'connaturalizing', 'connectednesses', 'connoisseurship', 'conquerableness', 'consanguinities', 'conscientiously', 'consciousnesses', 'conscriptionist', 'consecratedness', 'consecutiveness', 'consenescencies', 'consentaneities', 'consentaneously', 'consequentially', 'conservationist', 'conservatoriums', 'conservatorship', 'considerateness', 'consideratively', 'consimilarities', 'conspicuousness', 'conspiratresses', 'constellational', 'constitutionals', 'constitutionist', 'constringencies', 'constructionism', 'constructionist', 'constructivisms', 'constructivists', 'consubstantiate', 'consultantships', 'consumptiveness', 'consumptivities', 'containerboards', 'contemperations', 'contemperatures', 'contemplatively', 'contemporaneans', 'contemporaneity', 'contemporaneous', 'contemptibility', 'contentednesses', 'contentiousness', 'contesserations', 'contestableness', 'contextualising', 'contextualizing', 'continentalisms', 'continentalists', 'continualnesses', 'continuednesses', 'contortednesses', 'contortionistic', 'contraclockwise', 'contractability', 'contractibility', 'contractilities', 'contractiveness', 'contradictively', 'contradictories', 'contradictorily', 'contraindicants', 'contraindicated', 'contraindicates', 'contrapositions', 'contrapositives', 'contrapropeller', 'contrapuntalist', 'contrariousness', 'contravallation', 'controllability', 'controllerships', 'controversially', 'convalescencies', 'conventionalise', 'conventionalism', 'conventionalist', 'conventionality', 'conventionalize', 'conversableness', 'conversationism', 'conversationist', 'convertibleness', 'conveyorisation', 'conveyorization', 'convocationists', 'convolvulaceous', 'convulsionaries', 'cooperationists', 'cooperativeness', 'cooperativities', 'corinthianising', 'corinthianizing', 'corporatenesses', 'corporealnesses', 'corporification', 'corpuscularians', 'correlativeness', 'correlativities', 'correligionists', 'correspondences', 'correspondently', 'correspondingly', 'corrigibilities', 'corroboratively', 'corrodibilities', 'corrosibilities', 'corrosivenesses', 'corruptibleness', 'corticosteroids', 'corticosterones', 'corticotrophins', 'corynebacterial', 'corynebacterium', 'cosignificative', 'cosmeticologies', 'cosmopolitanism', 'cotransductions', 'coulometrically', 'councillorships', 'counsellorships', 'counteractively', 'counterargument', 'counterassaults', 'counterattacked', 'counterattacker', 'counterbalanced', 'counterbalances', 'counterblockade', 'countercampaign', 'counterchanging', 'countercharging', 'countercharming', 'counterchecking', 'counterclaimant', 'counterclaiming', 'countercultural', 'countercultures', 'countercurrents', 'countercyclical', 'counterevidence', 'counterexamples', 'counterfactuals', 'counterfeisance', 'counterfesaunce', 'counterguerilla', 'counterinstance', 'counterirritant', 'countermandable', 'countermarching', 'countermeasures', 'countermelodies', 'countermovement', 'counterordering', 'counterpetition', 'counterpicketed', 'counterpleading', 'counterplotting', 'counterpointing', 'counterpressure', 'counterprojects', 'counterproposal', 'counterprotests', 'counterpunchers', 'counterpunching', 'counterquestion', 'counterrallying', 'counterreaction', 'counterreformer', 'counterresponse', 'countershadings', 'counterstaining', 'counterstrategy', 'counterstricken', 'counterstriking', 'countersubjects', 'countertendency', 'countervailable', 'counterviolence', 'counterweighing', 'counterweighted', 'courteousnesses', 'courtmartialled', 'craniologically', 'crapulousnesses', 'crashworthiness', 'creditabilities', 'credulousnesses', 'crestfallenness', 'criminalisation', 'criminalization', 'criminousnesses', 'crosslinguistic', 'crossopterygian', 'crotchetinesses', 'cruciverbalisms', 'cruciverbalists', 'cryoprecipitate', 'cryoprotectants', 'cryptaesthesias', 'cryptanalytical', 'cryptographical', 'cryptographists', 'cryptorchidisms', 'cryptosporidium', 'cryptozoologies', 'cryptozoologist', 'crystalisations', 'crystalizations', 'crystallinities', 'crystallisation', 'crystallization', 'crystallography', 'cultivabilities', 'customarinesses', 'cyanoacetylenes', 'cyanocobalamine', 'cyanocobalamins', 'cyanoethylating', 'cyanoethylation', 'cybersecurities', 'cybersquattings', 'cyberterrorisms', 'cyberterrorists', 'cyclobarbitones', 'cyclohexylamine', 'cyclopentadiene', 'cyclopentolates', 'cylindricalness', 'cyproheptadines', 'cytochemistries', 'cytogenetically', 'cytogeneticists', 'cytomegalovirus', 'cytopathologies', 'cytophotometric', 'cytoplasmically', 'cytotaxonomists', 'dactyliomancies', 'dactylographers', 'dactylographies', 'daguerreotypers', 'daguerreotypies', 'daguerreotyping', 'daguerreotypist', 'damageabilities', 'dangerousnesses', 'dastardlinesses', 'dauntlessnesses', 'deacidification', 'deathlessnesses', 'debauchednesses', 'decalcification', 'decarbonisation', 'decarbonization', 'decarboxylating', 'decarboxylation', 'decarburisation', 'decarburization', 'decasualisation', 'decasualization', 'deceitfulnesses', 'deceivabilities', 'deceptibilities', 'deceptivenesses', 'decertification', 'dechlorinations', 'dechristianised', 'dechristianises', 'dechristianized', 'dechristianizes', 'deciduousnesses', 'decimalisations', 'decimalizations', 'decipherability', 'decolonisations', 'decolonizations', 'decolorisations', 'decolorizations', 'decolourisation', 'decolourization', 'decommissioners', 'decommissioning', 'decompensations', 'decomposability', 'deconcentrating', 'deconcentration', 'deconsecrations', 'deconstructions', 'decontaminating', 'decontamination', 'decontaminative', 'decontaminators', 'decriminalising', 'decriminalizing', 'dedifferentiate', 'deduciblenesses', 'deductibilities', 'defeasibilities', 'defectibilities', 'defectivenesses', 'defeminisations', 'defeminizations', 'defencelessness', 'defenestrations', 'defenselessness', 'defensibilities', 'defensivenesses', 'defervescencies', 'defibrillations', 'deficientnesses', 'deflocculations', 'deformabilities', 'degenerationist', 'deglamorisation', 'deglamorization', 'degradabilities', 'degradingnesses', 'dehumanisations', 'dehumanizations', 'dehydrogenating', 'dehydrogenation', 'dehydrogenising', 'dehydrogenizing', 'dehydroretinols', 'dehypnotisation', 'dehypnotization', 'deindividuation', 'deindustrialise', 'deindustrialize', 'delectabilities', 'delegitimations', 'deleteriousness', 'deliciousnesses', 'delightednesses', 'deliriousnesses', 'delocalisations', 'delocalizations', 'demagnetisation', 'demagnetization', 'demandingnesses', 'dematerialising', 'dematerializing', 'demeritoriously', 'demisemiquavers', 'demobilisations', 'demobilizations', 'democratifiable', 'democratisation', 'democratization', 'demographically', 'demonetisations', 'demonetizations', 'demonstrability', 'demonstrational', 'demonstratively', 'demoralisations', 'demoralizations', 'demulsification', 'demutualisation', 'demutualization', 'demystification', 'demythologisers', 'demythologising', 'demythologizers', 'demythologizing', 'denationalising', 'denationalizing', 'denazifications', 'denitrification', 'denitrificators', 'departmentalise', 'departmentalism', 'departmentalize', 'dependabilities', 'depersonalising', 'depersonalizing', 'dephlogisticate', 'dephosphorylate', 'depigmentations', 'deplorabilities', 'depolarisations', 'depolarizations', 'deregistrations', 'dereligionising', 'dereligionizing', 'derequisitioned', 'derivatisations', 'derivatizations', 'dermatoglyphics', 'dermatographias', 'dermatographies', 'dermatomyositis', 'dermatophytoses', 'dermatophytosis', 'dermatoplasties', 'desacralisation', 'desacralization', 'desalinisations', 'desalinizations', 'descriptiveness', 'desensitisation', 'desensitization', 'desertification', 'deservingnesses', 'desexualisation', 'desexualization', 'desilverisation', 'desilverization', 'desirablenesses', 'desperatenesses', 'despicabilities', 'despiritualised', 'despiritualises', 'despiritualized', 'despiritualizes', 'dessertspoonful', 'destabilisation', 'destabilization', 'destitutenesses', 'destructibility', 'destructionists', 'destructiveness', 'destructivities', 'desulfurisation', 'desulfurization', 'desulphurations', 'desultorinesses', 'detachabilities', 'detectabilities', 'determinability', 'determinateness', 'determinatively', 'deterrabilities', 'detestabilities', 'detoxifications', 'detribalisation', 'detribalization', 'deuteranomalies', 'deuteranomalous', 'devalorisations', 'devalorizations', 'developmentally', 'devitalisations', 'devitalizations', 'devitrification', 'devotionalities', 'dexamphetamines', 'dexterousnesses', 'dextrophosphate', 'dextrorotations', 'diagonalisation', 'diagonalization', 'diaheliotropism', 'dialectological', 'dialectologists', 'dialysabilities', 'dialyzabilities', 'diamagnetically', 'diaphototropies', 'diaphototropism', 'diaphragmatitis', 'diastereoisomer', 'diastrophically', 'dichlorobenzene', 'dichloroethanes', 'dichloromethane', 'dichotomisation', 'dichotomization', 'dichotomousness', 'dichromaticisms', 'dictatorialness', 'differentiating', 'differentiation', 'differentiators', 'differentnesses', 'diffractiveness', 'diffractometers', 'diffractometric', 'diffrangibility', 'diffusibilities', 'diffusivenesses', 'digestibilities', 'digitalisations', 'digitalizations', 'dignifiednesses', 'dilatablenesses', 'dimenhydrinates', 'dimethylaniline', 'dinitrobenzenes', 'dinoflagellates', 'dioeciousnesses', 'diphenhydramine', 'diphenylenimine', 'diphenylketones', 'diplomatologies', 'disaccharidases', 'disaccommodated', 'disaccommodates', 'disacknowledged', 'disacknowledges', 'disadvantageous', 'disaffectedness', 'disaffectionate', 'disaffiliations', 'disaffirmations', 'disafforestment', 'disaggregations', 'disagreeability', 'disambiguations', 'disapplications', 'disappointingly', 'disappointments', 'disapprobations', 'disappropriated', 'disappropriates', 'disarrangements', 'disarticulating', 'disarticulation', 'disarticulators', 'disassimilating', 'disassimilation', 'disassimilative', 'disassociations', 'disattributions', 'discapacitating', 'disciplinarians', 'disciplinariums', 'discolourations', 'discomboberated', 'discomboberates', 'discombobulated', 'discombobulates', 'discommendation', 'discommissioned', 'discommodiously', 'disconcertingly', 'disconcertments', 'disconfirmation', 'disconformities', 'disconsolations', 'discontentments', 'discontiguities', 'discontinuances', 'discontinuation', 'discontinuities', 'discontinuously', 'discountenanced', 'discountenances', 'discouragements', 'discretionarily', 'discriminations', 'disembarkations', 'disembarrassing', 'disembellishing', 'disemboguements', 'disembowelments', 'disempowerments', 'disenchantingly', 'disenchantments', 'disencumberment', 'disencumbrances', 'disenfranchised', 'disenfranchises', 'disentanglement', 'disenthrallment', 'disenthralments', 'disentrainments', 'disentrancement', 'disequilibrated', 'disequilibrates', 'disequilibriums', 'disestablishing', 'disfeaturements', 'disforestations', 'disfurnishments', 'disgracefulness', 'disgruntlements', 'disguisednesses', 'disgustednesses', 'dishabilitating', 'dishabilitation', 'disharmoniously', 'dishearteningly', 'disheartenments', 'disilluminating', 'disillusionised', 'disillusionises', 'disillusionized', 'disillusionizes', 'disillusionment', 'disimprisonment', 'disincarcerated', 'disincarcerates', 'disinclinations', 'disincorporated', 'disincorporates', 'disinfestations', 'disinflationary', 'disinformations', 'disinheritances', 'disintegrations', 'disinterestedly', 'disintoxicating', 'disintoxication', 'disinvestitures', 'disinvigorating', 'disnaturalising', 'disnaturalizing', 'disobligingness', 'disorganisation', 'disorganization', 'disorientations', 'disparatenesses', 'dispassionately', 'dispensableness', 'dispersednesses', 'displeasingness', 'displenishments', 'disposabilities', 'disproportional', 'disproportioned', 'disputabilities', 'disputativeness', 'disquisitionary', 'disreputability', 'disrespectfully', 'dissatisfaction', 'dissatisfactory', 'dissertationist', 'dissimilarities', 'dissociableness', 'dissolubilities', 'dissolutenesses', 'dissolutionisms', 'dissolutionists', 'dissolvableness', 'distastefulness', 'distemperatures', 'distinctiveness', 'distinguishable', 'distinguishably', 'distinguishment', 'distortednesses', 'distractibility', 'distressfulness', 'distrustfulness', 'dithiocarbamate', 'dithyrambically', 'diversification', 'divertibilities', 'divertissements', 'divisiblenesses', 'doctrinarianism', 'documentarising', 'documentarizing', 'documentational', 'dodecasyllables', 'dolichocephalic', 'dolichosauruses', 'dolomitisations', 'dolomitizations', 'domineeringness', 'dorsibranchiate', 'dorsiventrality', 'dorsoventrality', 'doubtlessnesses', 'downheartedness', 'downregulations', 'downrightnesses', 'dramaturgically', 'draughtsmanship', 'dreadlessnesses', 'dreamlessnesses', 'drinkablenesses', 'duplicabilities', 'durchkomponiert', 'dyslogistically', 'dysmorphophobia', 'dysteleological', 'dysteleologists', 'earthshattering', 'easygoingnesses', 'ebullioscopical', 'eburnifications', 'ecclesiasticism', 'ecclesiolatries', 'ecclesiological', 'ecclesiologists', 'eccremocarpuses', 'echinodermatous', 'echocardiograms', 'eclaircissement', 'ecocatastrophes', 'econometrically', 'econometricians', 'ecophysiologies', 'ecotoxicologies', 'ecotoxicologist', 'ectomycorrhizae', 'ectomycorrhizas', 'edriophthalmian', 'edriophthalmous', 'educatabilities', 'educationalists', 'effectivenesses', 'effectualnesses', 'effervescencies', 'efficaciousness', 'effortfulnesses', 'egalitarianisms', 'eggheadednesses', 'egocentricities', 'egregiousnesses', 'elaboratenesses', 'electioneerings', 'electrification', 'electroacoustic', 'electroactivity', 'electroanalyses', 'electroanalysis', 'electroanalytic', 'electrochemical', 'electrochemists', 'electrocultures', 'electrodeposits', 'electrodialyses', 'electrodialysis', 'electrodialytic', 'electrodynamics', 'electrofishings', 'electroformings', 'electrogildings', 'electrographies', 'electrokinetics', 'electrolysation', 'electrolyzation', 'electromagnetic', 'electrometrical', 'electromotances', 'electromyograms', 'electromyograph', 'electronegative', 'electrophoresed', 'electrophoreses', 'electrophoresis', 'electrophoretic', 'electrophoruses', 'electroplatings', 'electropositive', 'electroreceptor', 'electrorheology', 'electrosurgical', 'electrotechnics', 'electrothermics', 'electrothermies', 'electrovalences', 'electrovalently', 'electrowinnings', 'eleutherococcus', 'eleutherodactyl', 'eleutheromanias', 'eleutherophobia', 'eleutherophobic', 'eliminabilities', 'emancipationist', 'embracingnesses', 'embryologically', 'emotionlessness', 'empiricalnesses', 'employabilities', 'empoverishments', 'empyreumatising', 'empyreumatizing', 'emulsifications', 'enantiomorphies', 'enantiomorphism', 'enantiomorphous', 'encephalitogens', 'encephalographs', 'encephalography', 'encephalopathic', 'encephalotomies', 'enchondromatous', 'encomiastically', 'encyclopaedisms', 'encyclopaedists', 'endearingnesses', 'endocrinologies', 'endocrinologist', 'endocrinopathic', 'endonucleolytic', 'endoparasitisms', 'endoradiosondes', 'endothermically', 'endurablenesses', 'enfranchisement', 'engrainednesses', 'enhypostatising', 'enhypostatizing', 'enjoyablenesses', 'enterobacterial', 'enterobacterium', 'enterocolitises', 'enterogastrones', 'enterohepatitis', 'enthronisations', 'enthronizations', 'entomologically', 'entrepreneurial', 'enumerabilities', 'envenomisations', 'envenomizations', 'environmentally', 'epeirogenically', 'ephemeralnesses', 'ephemeropterans', 'epichlorohydrin', 'epicondylitises', 'epidemiological', 'epidemiologists', 'epigrammatisers', 'epigrammatising', 'epigrammatizers', 'epigrammatizing', 'epiphenomenally', 'episcopalianism', 'epistemological', 'epistemologists', 'epithelialising', 'epithelializing', 'epitheliomatous', 'epithelisations', 'epithelizations', 'epizootiologies', 'equalitarianism', 'equiponderances', 'equiponderating', 'equiprobability', 'equitablenesses', 'equivocalnesses', 'ergatandromorph', 'erroneousnesses', 'erythromelalgia', 'erythropoietins', 'essentialnesses', 'esterifications', 'estimablenesses', 'estrangednesses', 'eternalisations', 'eternalizations', 'etherealisation', 'etherealization', 'etherifications', 'ethnocentricity', 'ethnohistorians', 'ethnohistorical', 'ethnolinguistic', 'ethnomusicology', 'eudaemonistical', 'eudiometrically', 'euphemistically', 'eutrophications', 'evangelicalisms', 'evangelicalness', 'evangelisations', 'evangelistaries', 'evangelistarion', 'evangelizations', 'evaporabilities', 'everlastingness', 'evocativenesses', 'exacerbescences', 'exaggeratedness', 'examinabilities', 'exceptionalisms', 'exceptionalness', 'excessivenesses', 'exchangeability', 'excitablenesses', 'exclaustrations', 'excludabilities', 'exclusivenesses', 'excommunicating', 'excommunication', 'excommunicative', 'excommunicators', 'excommunicatory', 'excrementitious', 'excursivenesses', 'excusablenesses', 'execrablenesses', 'exemplarinesses', 'exemplification', 'exemplificative', 'exhaustlessness', 'exhibitionistic', 'existentialisms', 'existentialists', 'exoerythrocytic', 'exothermicities', 'expandabilities', 'expansibilities', 'expansivenesses', 'expeditiousness', 'expendabilities', 'expensivenesses', 'experientialism', 'experientialist', 'experimentalise', 'experimentalism', 'experimentalist', 'experimentalize', 'experimentation', 'experimentative', 'explorationists', 'explosivenesses', 'exponentiations', 'exportabilities', 'expostulatingly', 'expressionistic', 'exquisitenesses', 'exsanguinations', 'extemporariness', 'extemporisation', 'extemporization', 'extendabilities', 'extendibilities', 'extensibilities', 'extensification', 'extensionalisms', 'extensivenesses', 'extensivisation', 'extensivization', 'exteriorisation', 'exteriorization', 'externalisation', 'externalization', 'exterritorially', 'extinguishments', 'extracellularly', 'extracurricular', 'extrajudicially', 'extralinguistic', 'extraordinaries', 'extraordinarily', 'extrudabilities', 'facetiousnesses', 'factorabilities', 'faithlessnesses', 'faithworthiness', 'familiarisation', 'familiarization', 'fanaticalnesses', 'fantasticalness', 'fantastications', 'farthingsworths', 'fashionableness', 'fatheadednesses', 'fatigablenesses', 'faultlessnesses', 'favorablenesses', 'featherbeddings', 'featherstitched', 'featherstitches', 'featurelessness', 'federalisations', 'federalizations', 'feloniousnesses', 'fencelessnesses', 'ferociousnesses', 'ferrimagnetisms', 'ferromagnetisms', 'ferromanganeses', 'ferromolybdenum', 'ferroprussiates', 'fetishistically', 'feuilletonistic', 'fibrinopeptides', 'fibrocartilages', 'fictionisations', 'fictionizations', 'fideicommissary', 'filterabilities', 'fingerprintings', 'fissiparousness', 'flagellomaniacs', 'flashforwarding', 'flavourdynamics', 'flexitarianisms', 'flibbertigibbet', 'flirtatiousness', 'floriculturists', 'floriferousness', 'foolhardinesses', 'forensicalities', 'foreordainments', 'foreordinations', 'foreshortenings', 'foresightedness', 'forgetfulnesses', 'forgivingnesses', 'forgottennesses', 'forisfamiliated', 'forisfamiliates', 'formalistically', 'formativenesses', 'formidabilities', 'formularisation', 'formularization', 'forthcomingness', 'fortunatenesses', 'fractionalising', 'fractionalizing', 'fractionisation', 'fractionization', 'fractiousnesses', 'fragmentariness', 'frangiblenesses', 'fraternisations', 'fraternizations', 'frenchification', 'frightfulnesses', 'frivolousnesses', 'fructifications', 'fructuousnesses', 'fruitlessnesses', 'fugaciousnesses', 'functionalistic', 'functionalities', 'fundamentalisms', 'fundamentalists', 'fundamentalness', 'fungistatically', 'furaciousnesses', 'furfuraldehydes', 'futilitarianism', 'galactopoietics', 'galvanometrical', 'galvanoplasties', 'galvanotropisms', 'gamogenetically', 'garrulousnesses', 'gastroenteritic', 'gastroenteritis', 'gastronomically', 'gelatinisations', 'gelatinizations', 'generalisations', 'generalizations', 'genethlialogies', 'gentlemanliness', 'gentrifications', 'geochronologies', 'geochronologist', 'geodemographics', 'geohydrologists', 'geomagnetically', 'geometrisations', 'geometrizations', 'geomorphogenies', 'geomorphogenist', 'geomorphologies', 'geomorphologist', 'geostrophically', 'geotechnologies', 'geotectonically', 'geothermometers', 'germinabilities', 'gerrymanderings', 'gewurztraminers', 'glamorousnesses', 'glossographical', 'glucocorticoids', 'gluconeogeneses', 'gluconeogenesis', 'glutaraldehydes', 'glutinousnesses', 'glyceraldehydes', 'glyconeogeneses', 'glyconeogenesis', 'glyphographical', 'glyptographical', 'gnathostomatous', 'gnotobiological', 'gnotobiotically', 'goniometrically', 'goodfellowships', 'governabilities', 'governmentalise', 'governmentalism', 'governmentalist', 'governmentalize', 'gracelessnesses', 'grammaticalness', 'grammaticasters', 'grammatologists', 'gramophonically', 'grandiloquences', 'grandiloquently', 'grandiosenesses', 'grandparenthood', 'grangerisations', 'grangerizations', 'granitification', 'granulitisation', 'granulitization', 'graphicalnesses', 'graphitisations', 'graphitizations', 'gravimetrically', 'graviperception', 'gravitationally', 'greensicknesses', 'greisenisations', 'greisenizations', 'grotesquenesses', 'groundbreakings', 'guilelessnesses', 'guiltlessnesses', 'gutturalisation', 'gutturalization', 'gynandromorphic', 'gyrofrequencies', 'gyrostabilisers', 'gyrostabilizers', 'habitablenesses', 'haemacytometers', 'haemagglutinate', 'haemagglutinins', 'haemocytometers', 'haemoflagellate', 'haemoglobinuria', 'halfheartedness', 'halfpennyworths', 'hallucinational', 'hallucinogenics', 'hamamelidaceous', 'haphazardnesses', 'hardheartedness', 'harmonistically', 'harpsichordists', 'hazardousnesses', 'headmasterships', 'healthfulnesses', 'heartbreakingly', 'heartbrokenness', 'heartlessnesses', 'heartsicknesses', 'heartsomenesses', 'heliocentricism', 'heliocentricity', 'heliometrically', 'heliosciophytes', 'heliotropically', 'helminthologies', 'helminthologist', 'hemagglutinated', 'hemagglutinates', 'hematoporphyrin', 'hemicryptophyte', 'hemicrystalline', 'hemochromatoses', 'hemochromatosis', 'hemodynamically', 'hemoflagellates', 'hemoglobinurias', 'hendecasyllabic', 'hendecasyllable', 'hepaticological', 'hepaticologists', 'herbivorousness', 'hereditarianism', 'hereditarianist', 'heresiographers', 'heresiographies', 'herestheticians', 'hermaphroditism', 'hermeneutically', 'herniorrhaphies', 'heterocercality', 'heterochromatic', 'heterochromatin', 'heterochronisms', 'heterodactylous', 'heteroflexibles', 'heterogeneities', 'heterogeneously', 'heterographical', 'heteromorphisms', 'heteroscedastic', 'heterosexuality', 'heterosociality', 'heterostrophies', 'heterothallisms', 'hexachlorethane', 'hexachlorophane', 'hexachlorophene', 'hexosaminidases', 'hexylresorcinol', 'hieracosphinges', 'hieracosphinxes', 'hierogrammatist', 'hilariousnesses', 'histochemically', 'histocompatible', 'histopathologic', 'histophysiology', 'historiographer', 'historiographic', 'hobbledehoydoms', 'hobbledehoyhood', 'hobbledehoyisms', 'hoidenishnesses', 'holoblastically', 'holocrystalline', 'holographically', 'holometabolisms', 'homeopathically', 'homocentrically', 'homochlamydeous', 'homochromatisms', 'homoeomorphisms', 'homoeoteleutons', 'homogeneousness', 'homogenisations', 'homogenizations', 'homoplastically', 'homosexualities', 'homosocialities', 'homotransplants', 'honorablenesses', 'horizontalities', 'horticulturally', 'horticulturists', 'hospitalisation', 'hospitalization', 'hotheadednesses', 'householdership', 'houselessnesses', 'housemistresses', 'housewifeliness', 'hoydenishnesses', 'huckleberryings', 'humanitarianism', 'humanitarianist', 'humidifications', 'humorlessnesses', 'hydrobiological', 'hydrobiologists', 'hydrocelluloses', 'hydrocephaluses', 'hydrocorallines', 'hydrocortisones', 'hydrodynamicist', 'hydroextractors', 'hydrogenisation', 'hydrogenization', 'hydrogeological', 'hydrogeologists', 'hydromechanical', 'hydrometallurgy', 'hydrometrically', 'hydropathically', 'hydrostatically', 'hydrosulphurous', 'hydrotherapists', 'hydrotropically', 'hydroxyapatites', 'hydroxybutyrate', 'hydroxylapatite', 'hydroxyprolines', 'hyetometrograph', 'hygrometrically', 'hygroscopically', 'hylozoistically', 'hyperactivities', 'hyperadrenalism', 'hyperaesthesias', 'hyperaggressive', 'hypercalcaemias', 'hypercatabolism', 'hypercatalectic', 'hypercoagulable', 'hypercorrection', 'hypercritically', 'hypercriticised', 'hypercriticises', 'hypercriticisms', 'hypercriticized', 'hypercriticizes', 'hyperexcitement', 'hyperexcretions', 'hyperextensions', 'hyperfastidious', 'hyperfunctional', 'hyperglycaemias', 'hyperimmunising', 'hyperimmunizing', 'hyperinflations', 'hyperinsulinism', 'hyperinvolution', 'hyperlipidaemia', 'hyperlipidemias', 'hypermetabolism', 'hypermetropical', 'hypermobilities', 'hypermodernists', 'hypermutability', 'hypernatraemias', 'hyperparasitism', 'hyperphysically', 'hyperpolarising', 'hyperpolarizing', 'hyperproduction', 'hyperreactivity', 'hyperresponsive', 'hypersalinities', 'hypersalivation', 'hypersecretions', 'hypersensitised', 'hypersensitises', 'hypersensitized', 'hypersensitizes', 'hypersomnolence', 'hyperstimulated', 'hyperstimulates', 'hyperthyroidism', 'hypertonicities', 'hypervelocities', 'hyperventilated', 'hyperventilates', 'hypervigilances', 'hypnotherapists', 'hypnotisability', 'hypnotizability', 'hypochondriacal', 'hypochondriases', 'hypochondriasis', 'hypochondriasms', 'hypochondriasts', 'hypocrystalline', 'hypomagnesaemia', 'hypomagnesemias', 'hypomenorrhoeas', 'hypophosphorous', 'hypopituitarism', 'hyposensitising', 'hyposensitizing', 'hypostasisation', 'hypostasization', 'hypostatisation', 'hypostatization', 'hypothyroidisms', 'hypoventilation', 'hypsometrically', 'hysterectomised', 'hysterectomises', 'hysterectomized', 'hysterectomizes', 'hystricomorphic', 'iatrogenicities', 'ichthyodorulite', 'ichthyodorylite', 'ichthyophagists', 'ichthyosaurians', 'ichthyosauruses', 'icositetrahedra', 'identicalnesses', 'identifications', 'ideographically', 'idiomaticalness', 'idiomaticnesses', 'idiomorphically', 'idiosyncratical', 'idioticalnesses', 'ignominiousness', 'illegalisations', 'illegalizations', 'illegiblenesses', 'illegitimations', 'illiberalnesses', 'illimitableness', 'illogicalnesses', 'illustriousness', 'imaginarinesses', 'imaginativeness', 'imitativenesses', 'immaterialising', 'immaterialities', 'immaterializing', 'immeasurability', 'immediatenesses', 'immedicableness', 'immensurability', 'immiscibilities', 'immiserisations', 'immiserizations', 'immobilisations', 'immobilizations', 'immortalisation', 'immortalization', 'immovablenesses', 'immoveabilities', 'immunoassayable', 'immunoassayists', 'immunoblottings', 'immunochemistry', 'immunocompetent', 'immunocomplexes', 'immunodeficient', 'immunodiagnoses', 'immunodiagnosis', 'immunodiffusion', 'immunogenetical', 'immunogenically', 'immunoglobulins', 'immunologically', 'immunomodulator', 'immunopathology', 'immunoreactions', 'immunotherapies', 'immutablenesses', 'impalpabilities', 'impartialnesses', 'impartibilities', 'impassabilities', 'impassibilities', 'impassionedness', 'impassivenesses', 'impeccabilities', 'impecuniosities', 'impecuniousness', 'impenetrability', 'imperfectnesses', 'imperiousnesses', 'imperishability', 'impermeableness', 'imperscriptible', 'impersonalising', 'impersonalities', 'impersonalizing', 'imperturbations', 'imperviableness', 'impetuousnesses', 'implacabilities', 'implausibleness', 'implementations', 'implicativeness', 'impoliticnesses', 'imponderability', 'importabilities', 'importunateness', 'impossibilities', 'imposthumations', 'impoverishments', 'impracticalness', 'imprecisenesses', 'impregnableness', 'imprescriptible', 'imprescriptibly', 'impressionistic', 'improbabilities', 'improvabilities', 'improvisational', 'improvisatorial', 'improvisatrices', 'improvisatrixes', 'improvvisatores', 'improvvisatrice', 'impulsivenesses', 'imputablenesses', 'inaccessibility', 'inadmissibility', 'inadvisableness', 'inalienableness', 'inalterableness', 'inanimatenesses', 'inapplicability', 'inappreciations', 'inapprehensible', 'inapprehensions', 'inappropriately', 'inarticulations', 'inattentiveness', 'inaudiblenesses', 'incalculability', 'incandescencies', 'incapablenesses', 'incapaciousness', 'incapacitations', 'incentivisation', 'incentivization', 'incessantnesses', 'inclementnesses', 'inclusivenesses', 'incommensurable', 'incommensurably', 'incommunicative', 'incommutability', 'incomparability', 'incompatibility', 'incomprehension', 'incomprehensive', 'incomputability', 'incongruousness', 'inconsecutively', 'inconsequential', 'inconsiderately', 'inconsideration', 'inconsistencies', 'inconsolability', 'inconspicuously', 'inconveniencies', 'inconveniencing', 'incoordinations', 'incorrectnesses', 'incorrigibility', 'incorruptnesses', 'incredibilities', 'incredulousness', 'incrementalisms', 'incrementalists', 'incrossbreeding', 'inculpabilities', 'incurablenesses', 'incuriousnesses', 'indefeasibility', 'indefectibility', 'indefensibility', 'indefinableness', 'indeliblenesses', 'indemnification', 'indeterminacies', 'indeterminately', 'indetermination', 'indeterministic', 'indifferentisms', 'indifferentists', 'indigenisations', 'indigenizations', 'indigestibility', 'indisciplinable', 'indiscretionary', 'indisputability', 'indissolubility', 'indistinctively', 'indistributable', 'individualisers', 'individualising', 'individualistic', 'individualities', 'individualizers', 'individualizing', 'indivisibleness', 'indoctrinations', 'indomitableness', 'indubitableness', 'inductivenesses', 'industrialising', 'industrializing', 'industriousness', 'ineducabilities', 'ineffablenesses', 'ineffaceability', 'ineffectiveness', 'ineffectualness', 'inefficaciously', 'ineligibilities', 'ineludibilities', 'inequitableness', 'ineradicability', 'inerrablenesses', 'inestimableness', 'inevitabilities', 'inexcusableness', 'inexorabilities', 'inexpensiveness', 'inexplicability', 'inexpugnability', 'inextensibility', 'inextricability', 'infallibilities', 'infantilisation', 'infantilization', 'infeasibilities', 'infectivenesses', 'infinitesimally', 'inflammableness', 'inflectednesses', 'inflexibilities', 'informationally', 'informativeness', 'infralapsarians', 'infrangibleness', 'infrastructural', 'infrastructures', 'infundibuliform', 'infusiblenesses', 'ingeniousnesses', 'ingenuousnesses', 'ingrainednesses', 'inharmonicities', 'inheritableness', 'inhomogeneities', 'inhospitalities', 'inimitabilities', 'initialisations', 'initializations', 'injudiciousness', 'injuriousnesses', 'innocuousnesses', 'innoxiousnesses', 'innumerableness', 'inobtrusiveness', 'inoculabilities', 'inodorousnesses', 'inoffensiveness', 'inofficiousness', 'inoperabilities', 'inoperativeness', 'inopportuneness', 'inopportunities', 'inorganisations', 'inorganizations', 'inquisitionists', 'inquisitiveness', 'inquisitorially', 'insatiabilities', 'insatiatenesses', 'inscribableness', 'inscrutableness', 'insensatenesses', 'insensibilities', 'insensitiveness', 'insensitivities', 'inseparableness', 'insidiousnesses', 'insignificances', 'insignificantly', 'insignificative', 'insociabilities', 'insolublenesses', 'insolvabilities', 'inspirationally', 'inspirationisms', 'inspirationists', 'instantaneities', 'instantaneously', 'instinctivities', 'institutionally', 'instructiveness', 'instructorships', 'instrumentalism', 'instrumentalist', 'instrumentality', 'instrumentation', 'insubordinately', 'insubordination', 'insubstantially', 'insufficiencies', 'insuperableness', 'insurrectionary', 'insurrectionism', 'insurrectionist', 'intangibilities', 'integrabilities', 'integrationists', 'intellectualise', 'intellectualism', 'intellectualist', 'intellectuality', 'intellectualize', 'intelligentsias', 'intelligentzias', 'intelligibility', 'intemperateness', 'intensification', 'intensivenesses', 'interactionisms', 'interactionists', 'interactivities', 'interambulacral', 'interambulacrum', 'interanimations', 'interbehavioral', 'interchangeable', 'interchangeably', 'interchangement', 'interclavicular', 'intercollegiate', 'intercolonially', 'intercommunions', 'intercomparison', 'interconnecting', 'interconnection', 'interconnectors', 'interconnexions', 'interconversion', 'interconverting', 'intercorrelated', 'intercorrelates', 'interculturally', 'interdependence', 'interdependency', 'interdiffusions', 'interdigitating', 'interdigitation', 'interdivisional', 'interelectronic', 'interestingness', 'interfascicular', 'interferometers', 'interferometric', 'interfraternity', 'intergeneration', 'intergradations', 'interindividual', 'interinfluences', 'interiorisation', 'interiorization', 'interjaculating', 'interjaculatory', 'interjectionary', 'interlacustrine', 'interlaminating', 'interlamination', 'interlineations', 'interlocutorily', 'interlocutrices', 'interlocutrixes', 'intermediations', 'intermigrations', 'interminability', 'intermittencies', 'intermodulation', 'internalisation', 'internalization', 'internationally', 'internucleotide', 'interosculating', 'interosculation', 'interparoxysmal', 'interpellations', 'interpenetrable', 'interpenetrated', 'interpenetrates', 'interperceptual', 'interpermeating', 'interpersonally', 'interphalangeal', 'interpopulation', 'interpretations', 'interpretership', 'interpretresses', 'interprovincial', 'interpunctuated', 'interpunctuates', 'interrogatingly', 'interrogational', 'interrogatively', 'interrogatories', 'interrogatorily', 'interscholastic', 'intersexualisms', 'interstratified', 'interstratifies', 'intersubjective', 'intertanglement', 'intertentacular', 'intertextuality', 'intertwinements', 'intertwistingly', 'interuniversity', 'intervalometers', 'interventionism', 'interventionist', 'intervisibility', 'intervisitation', 'interweavements', 'intolerableness', 'intracellularly', 'intracerebrally', 'intractableness', 'intradermically', 'intrafascicular', 'intramuscularly', 'intransigeances', 'intransigeantly', 'intransigencies', 'intransigentism', 'intransigentist', 'intransmissible', 'intraperitoneal', 'intrapopulation', 'intrapreneurial', 'intravascularly', 'intricatenesses', 'intrinsicalness', 'introspectional', 'introspectively', 'introsusception', 'intrusivenesses', 'intuitionalisms', 'intuitionalists', 'intuitivenesses', 'intussuscepting', 'intussusception', 'intussusceptive', 'invariabilities', 'invectivenesses', 'invendibilities', 'inventivenesses', 'invertibilities', 'investigational', 'invidiousnesses', 'invincibilities', 'inviolabilities', 'inviolatenesses', 'invisiblenesses', 'involuntariness', 'invulnerability', 'ionospherically', 'irasciblenesses', 'irrationalising', 'irrationalistic', 'irrationalities', 'irrationalizing', 'irreciprocities', 'irreconcilables', 'irreconcilement', 'irredeemability', 'irreducibleness', 'irreductibility', 'irreformability', 'irrefragability', 'irrefutableness', 'irreligiousness', 'irremissibility', 'irremovableness', 'irreparableness', 'irrepealability', 'irreprehensible', 'irreprehensibly', 'irresistibility', 'irresolvability', 'irretentiveness', 'irreversibility', 'irrevocableness', 'irritablenesses', 'ismaticalnesses', 'isoimmunisation', 'isoimmunization', 'isoperimetrical', 'iterativenesses', 'journalisations', 'journalizations', 'judiciousnesses', 'jurisprudential', 'justifiableness', 'juxtapositional', 'kaffeeklatsches', 'karstifications', 'katathermometer', 'kenogenetically', 'keratinisations', 'keratinizations', 'kindergarteners', 'kindheartedness', 'kinematographer', 'kinematographic', 'kinesitherapies', 'kinesthetically', 'kinetheodolites', 'kinetonucleuses', 'kittenishnesses', 'knowledgability', 'kremlinologists', 'laboriousnesses', 'labyrinthically', 'labyrinthitises', 'labyrinthodonts', 'lackadaisically', 'lactiferousness', 'lactovegetarian', 'lamellirostrate', 'lapidifications', 'laryngectomised', 'laryngectomized', 'laryngoscopists', 'latensification', 'lateralisations', 'lateralizations', 'latitudinarians', 'laughablenesses', 'lecherousnesses', 'legerdemainists', 'legislatorships', 'legitimisations', 'legitimizations', 'leisurelinesses', 'lepidodendroids', 'lepidopterology', 'leucocythaemias', 'leucocytopenias', 'leukaemogeneses', 'leukaemogenesis', 'levelheadedness', 'lexicalisations', 'lexicalizations', 'lexicographical', 'lexicographists', 'lexicologically', 'liberalisations', 'liberalizations', 'libertarianisms', 'licentiateships', 'lickerishnesses', 'lieutenantships', 'lightfastnesses', 'lightsomenesses', 'lignocelluloses', 'lignocellulosic', 'lignosulfonates', 'limitablenesses', 'limitlessnesses', 'lionheartedness', 'lipodystrophies', 'lipogrammatisms', 'lipogrammatists', 'liquorishnesses', 'lissencephalous', 'listenabilities', 'literalisations', 'literalizations', 'lithesomenesses', 'lithochromatics', 'lithonthryptics', 'lithontriptists', 'litigiousnesses', 'liturgiologists', 'loathsomenesses', 'logarithmically', 'logographically', 'longsightedness', 'lophobranchiate', 'lucrativenesses', 'ludicrousnesses', 'lumberingnesses', 'luxuriousnesses', 'lymphadenitises', 'lymphadenopathy', 'lymphangiograms', 'lymphoadenomata', 'lymphocytopenia', 'lymphogranuloma', 'lymphosarcomata', 'lyophilisations', 'lyophilizations', 'lysogenisations', 'lysogenizations', 'macadamisations', 'macadamizations', 'machinabilities', 'macrencephalias', 'macrencephalies', 'macroaggregated', 'macroaggregates', 'macrocosmically', 'macroevolutions', 'macrophotograph', 'macroscopically', 'macrosporangium', 'macrostructural', 'macrostructures', 'maddeningnesses', 'magisterialness', 'magistrateships', 'magistratically', 'magnanimousness', 'magnetochemical', 'magnetoelectric', 'magnificentness', 'maintainability', 'majoritarianism', 'malacopterygian', 'maladministered', 'maladroitnesses', 'malappropriated', 'malappropriates', 'malassimilation', 'malconformation', 'maldistribution', 'malfunctionings', 'maliciousnesses', 'malleablenesses', 'malpractitioner', 'malpresentation', 'manageabilities', 'maneuverability', 'manifestational', 'manneristically', 'manoeuvrability', 'marconigraphing', 'margaritiferous', 'marginalisation', 'marginalization', 'marketabilities', 'marriageability', 'martensitically', 'marvelousnesses', 'masculinenesses', 'masculinisation', 'masculinization', 'masochistically', 'massotherapists', 'masterfulnesses', 'mastoidectomies', 'matchlessnesses', 'materfamiliases', 'materialisation', 'materialistical', 'materialization', 'mathematicising', 'mathematicizing', 'mathematisation', 'mathematization', 'matriarchalisms', 'matrifocalities', 'matrilocalities', 'meaninglessness', 'measurabilities', 'measurelessness', 'mechanistically', 'mechanochemical', 'mechanomorphism', 'mechanoreceptor', 'medicalisations', 'medicalizations', 'medulloblastoma', 'megacorporation', 'megagametophyte', 'megalocephalies', 'megalocephalous', 'megasporophylls', 'megavertebrates', 'melancholically', 'mellifluousness', 'melodiousnesses', 'melodramatising', 'melodramatizing', 'memorablenesses', 'memorialisation', 'memorialization', 'menispermaceous', 'mensurabilities', 'mentalistically', 'mercaptopurines', 'mercenarinesses', 'merchantability', 'mercilessnesses', 'mercurialnesses', 'meridionalities', 'meritoriousness', 'meroblastically', 'mesaticephalies', 'mesaticephalous', 'metachromatisms', 'metacinnabarite', 'metafictionists', 'metagenetically', 'metagrabolising', 'metagrabolizing', 'metagrobolising', 'metagrobolizing', 'metalinguistics', 'metallographers', 'metallographies', 'metallographist', 'metallurgically', 'metamathematics', 'metamictisation', 'metamictization', 'metamorphically', 'metaphysicising', 'metaphysicizing', 'metastabilities', 'metatheoretical', 'metempsychosist', 'methaemoglobins', 'methamphetamine', 'methoxybenzenes', 'methoxyfluranes', 'methylcellulose', 'methylmercuries', 'methylphenidate', 'methylthionines', 'methylxanthines', 'metropolitanate', 'metropolitanise', 'metropolitanism', 'metropolitanize', 'microaerophiles', 'microaerophilic', 'microanalytical', 'microanatomical', 'microbarographs', 'microbiological', 'microbiologists', 'microcomponents', 'microcomputings', 'microcosmically', 'microdetections', 'microdissection', 'microearthquake', 'microelectrodes', 'microelectronic', 'microevolutions', 'microgametocyte', 'microinjections', 'micromanagement', 'micromarketings', 'micrometeorites', 'micrometeoritic', 'micrometeoroids', 'micromicrocurie', 'micromicrofarad', 'micromillimetre', 'micromorphology', 'micropegmatites', 'micropegmatitic', 'microphotograph', 'microphotometer', 'microphotometry', 'microphysically', 'microporosities', 'microprocessing', 'microprocessors', 'microprojection', 'microprojectors', 'micropublishers', 'micropublishing', 'micropulsations', 'micropyrometers', 'microradiograph', 'microsatellites', 'microscopically', 'microseismicity', 'microsporangium', 'microsporocytes', 'microsporophyll', 'microstructural', 'microstructures', 'microtechniques', 'microtechnology', 'microtonalities', 'microtunnelling', 'middelmannetjie', 'militarisations', 'militarizations', 'millenarianisms', 'millionairesses', 'mineralisations', 'mineralizations', 'mineralogically', 'miniaturisation', 'miniaturization', 'ministerialists', 'mirthlessnesses', 'misacceptations', 'misapplications', 'misappreciating', 'misappreciation', 'misappreciative', 'misapprehending', 'misapprehension', 'misapprehensive', 'misappropriated', 'misappropriates', 'misarrangements', 'misarticulating', 'misattributions', 'misbecomingness', 'miscalculations', 'miscegenational', 'miscellanarians', 'miscellaneously', 'mischaracterise', 'mischaracterize', 'mischievousness', 'miscomprehended', 'miscomputations', 'misconjecturing', 'misconstructing', 'misconstruction', 'miscontentments', 'miscorrelations', 'misdescriptions', 'misdistribution', 'miserablenesses', 'misgovernaunces', 'misguidednesses', 'misimprovements', 'misinformations', 'misinstructions', 'misintelligence', 'misinterpreters', 'misinterpreting', 'mismeasurements', 'misorientations', 'misproportioned', 'mispunctuations', 'misrecollection', 'misregistration', 'misrepresenters', 'misrepresenting', 'misshapennesses', 'missionisations', 'missionizations', 'mistranscribing', 'mistranslations', 'mistrustfulness', 'misutilisations', 'misutilizations', 'misvocalisation', 'misvocalization', 'modernistically', 'modifiabilities', 'momentarinesses', 'momentousnesses', 'mongrelisations', 'mongrelizations', 'monochlamydeous', 'monochromatisms', 'monocrystalline', 'monographically', 'monolingualisms', 'monomolecularly', 'mononucleotides', 'monophthongised', 'monophthongises', 'monophthongized', 'monophthongizes', 'monopolisations', 'monopolizations', 'monopropellants', 'monosaccharides', 'monospecificity', 'monosyllabicity', 'monosymmetrical', 'monounsaturated', 'monounsaturates', 'monstrousnesses', 'montmorillonite', 'monumentalising', 'monumentalities', 'monumentalizing', 'morbilliviruses', 'morphinomaniacs', 'morphologically', 'morphophonemics', 'mortiferousness', 'mountainboarder', 'mountaineerings', 'mountainousness', 'mountebankeries', 'mouthwateringly', 'mucosanguineous', 'multiarticulate', 'multicurrencies', 'multidiscipline', 'multidivisional', 'multifunctional', 'multilateralism', 'multilateralist', 'multilingualism', 'multilocational', 'multimillennial', 'multinucleolate', 'multiplications', 'multipolarities', 'multiprocessing', 'multiprocessors', 'multiracialisms', 'multithreadings', 'multitudinously', 'multiwavelength', 'murderousnesses', 'musculoskeletal', 'musicalisations', 'musicalizations', 'musicologically', 'musicotherapies', 'myelencephalons', 'mylonitisations', 'mylonitizations', 'myocardiographs', 'myristicivorous', 'mythologisation', 'mythologization', 'narcoterrorisms', 'narcoterrorists', 'nationalisation', 'nationalization', 'naturalisations', 'naturalizations', 'navigablenesses', 'nearsightedness', 'nebuchadnezzars', 'necessarianisms', 'necessarinesses', 'necessitousness', 'necromantically', 'nefariousnesses', 'neglectednesses', 'negligibilities', 'negotiabilities', 'neighbourliness', 'nemathelminthic', 'neoarsphenamine', 'neocolonialisms', 'neocolonialists', 'neoconservatism', 'neoconservative', 'neologistically', 'nephrectomising', 'nephrectomizing', 'nephroblastomas', 'nervelessnesses', 'neuroanatomical', 'neuroanatomists', 'neurobiological', 'neurobiologists', 'neuroblastomata', 'neurocomputings', 'neuroethologies', 'neurofibrillary', 'neurohypophyses', 'neurohypophysis', 'neurolinguistic', 'neuromarketings', 'neuropathically', 'neuropathologic', 'neurophysiology', 'neuropsychiatry', 'neuropsychology', 'neuroscientific', 'neuroscientists', 'neurosecretions', 'neurosurgically', 'neurotoxicities', 'neutralisations', 'neutralizations', 'newfanglenesses', 'niggardlinesses', 'nightmarishness', 'nincompooperies', 'nitrocelluloses', 'nitrochloroform', 'nitrogenisation', 'nitrogenization', 'nitroglycerines', 'nitwittednesses', 'noctambulations', 'noiselessnesses', 'nominalisations', 'nominalizations', 'nomographically', 'nonachievements', 'nonadditivities', 'nonagricultural', 'nonantagonistic', 'nonarchitecture', 'nonaristocratic', 'nonastronomical', 'nonavailability', 'nonbarbiturates', 'nonbelligerency', 'nonbelligerents', 'nonbiographical', 'nonbiologically', 'noncarcinogenic', 'noncelebrations', 'noncertificated', 'noncharismatics', 'noncognitivisms', 'noncoincidences', 'noncommissioned', 'noncompressible', 'noncomputerised', 'noncomputerized', 'nonconcurrences', 'nonconfidential', 'nonconformances', 'nonconformities', 'nonconservation', 'nonconservative', 'nonconsolidated', 'nonconstruction', 'nonconstructive', 'nonconsumptions', 'noncontemporary', 'noncontributory', 'noncontrollable', 'nonconventional', 'noncooperations', 'noncorrelations', 'noncreativities', 'noncredentialed', 'noncultivations', 'nondepartmental', 'nondescriptness', 'nondevelopments', 'nondisjunctions', 'nonelectrolytes', 'nonencapsulated', 'nonenforcements', 'nonequilibriums', 'nonequivalences', 'nonexperimental', 'nonexploitation', 'nonexploitative', 'nonflammability', 'nonfulfillments', 'nongovernmental', 'nonhierarchical', 'nonhospitalised', 'nonhospitalized', 'nonimplications', 'nonimportations', 'nonindependence', 'noninflammatory', 'noninflationary', 'noninflectional', 'noninformations', 'noninfringement', 'noninsecticidal', 'noninstallments', 'noninstrumental', 'nonintellectual', 'nonintercourses', 'noninterference', 'nonintersecting', 'nonintervention', 'nonintimidating', 'nonintoxicating', 'noninvolvements', 'nonmathematical', 'nonmatriculated', 'nonmetaphorical', 'nonmetropolitan', 'nonobjectivisms', 'nonobjectivists', 'nonoccupational', 'nonparticipants', 'nonpartisanship', 'nonpartizanship', 'nonperformances', 'nonphilosophers', 'nonphotographic', 'nonprescription', 'nonproductivity', 'nonprofessional', 'nonprofessorial', 'nonpsychiatrist', 'nonquantifiable', 'nonquantitative', 'nonrandomnesses', 'nonrecognitions', 'nonrecombinants', 'nonrelativistic', 'nonreproductive', 'nonsaponifiable', 'nonsedimentable', 'nonsegregations', 'nonsensicalness', 'nonsimultaneous', 'nonspecifically', 'nontotalitarian', 'nontransferable', 'nonuniformities', 'nonuniquenesses', 'norepinephrines', 'norethisterones', 'normativenesses', 'northcountryman', 'northcountrymen', 'northeasterlies', 'northeastwardly', 'northerlinesses', 'northwesterlies', 'northwestwardly', 'nothingarianism', 'noticeabilities', 'notoriousnesses', 'notwithstanding', 'novemdecillions', 'novocentenaries', 'nuclearisations', 'nuclearizations', 'nucleophilicity', 'nucleoplasmatic', 'nucleosyntheses', 'nucleosynthesis', 'nucleosynthetic', 'nudibranchiates', 'numismatologies', 'numismatologist', 'objectification', 'objectivenesses', 'obliviousnesses', 'obnoxiousnesses', 'observabilities', 'observationally', 'obsessivenesses', 'obstinatenesses', 'obstructionally', 'obstructionisms', 'obstructionists', 'obstructiveness', 'obtainabilities', 'obtrusivenesses', 'occasionalities', 'occidentalising', 'occidentalizing', 'occlusivenesses', 'oceanographical', 'ochlocratically', 'octocentenaries', 'odontorhynchous', 'odontostomatous', 'odoriferousness', 'oesophagoscopes', 'oestrogenically', 'offensivenesses', 'offhandednesses', 'officiousnesses', 'oligocythaemias', 'oligodendrocyte', 'oligodendroglia', 'oligomerisation', 'oligomerization', 'oligonucleotide', 'oligosaccharide', 'omnibenevolence', 'omnicompetences', 'omnidirectional', 'omnifariousness', 'omoplatoscopies', 'oncogeneticists', 'oneirocriticism', 'ontogenetically', 'onychocryptoses', 'onychocryptosis', 'oophorectomised', 'oophorectomises', 'oophorectomized', 'oophorectomizes', 'openheartedness', 'openmouthedness', 'operationalisms', 'operationalists', 'operativenesses', 'ophthalmologies', 'ophthalmologist', 'ophthalmometers', 'ophthalmophobia', 'ophthalmoplegia', 'ophthalmoscopes', 'ophthalmoscopic', 'opinionatedness', 'opisthognathism', 'opisthognathous', 'opisthographies', 'opportunenesses', 'opprobriousness', 'opsonifications', 'optimalisations', 'optimalizations', 'optoelectronics', 'oraculousnesses', 'orchesographies', 'orchestrational', 'organochlorines', 'organographical', 'organographists', 'organomercurial', 'organometallics', 'organophosphate', 'organotherapies', 'orientationally', 'ornithodelphian', 'ornithodelphous', 'ornithorhynchus', 'orthochromatism', 'orthodontically', 'orthogonalising', 'orthogonalities', 'orthogonalizing', 'orthophosphates', 'orthophosphoric', 'orthopsychiatry', 'oscillographies', 'osmoregulations', 'ostensibilities', 'osteoarthritics', 'osteomyelitises', 'osteopathically', 'ostreiculturist', 'outdoorsmanship', 'outmanipulating', 'outspokennesses', 'overaccentuated', 'overaccentuates', 'overachievement', 'overadjustments', 'overadvertising', 'overapplication', 'overarticulated', 'overarticulates', 'overassessments', 'overbearingness', 'overcapitalised', 'overcapitalises', 'overcapitalized', 'overcapitalizes', 'overcentralised', 'overcentralises', 'overcentralized', 'overcentralizes', 'overclassifying', 'overcommitments', 'overcommunicate', 'overcompensated', 'overcompensates', 'overcompliances', 'overcomplicated', 'overcomplicates', 'overcompressing', 'overconfidences', 'overconfidently', 'overconstructed', 'overconsumption', 'overcontrolling', 'overcorrections', 'overcredulities', 'overcultivation', 'overdecorations', 'overdependences', 'overdevelopment', 'overdiscounting', 'overdiversities', 'overdocumenting', 'overdramatising', 'overdramatizing', 'overeagernesses', 'overelaborating', 'overelaboration', 'overembellished', 'overembellishes', 'overemphasising', 'overemphasizing', 'overencouraging', 'overengineering', 'overentertained', 'overenthusiasms', 'overestimations', 'overevaluations', 'overexaggerated', 'overexaggerates', 'overexpectation', 'overextractions', 'overextravagant', 'overfamiliarity', 'overfertilising', 'overfertilizing', 'overflourishing', 'overforwardness', 'overgeneralised', 'overgeneralises', 'overgeneralized', 'overgeneralizes', 'overglamorising', 'overglamorizing', 'overhastinesses', 'overhomogenised', 'overhomogenises', 'overhomogenized', 'overhomogenizes', 'overidentifying', 'overimaginative', 'overindulgences', 'overingenuities', 'overintensities', 'overinvestments', 'overlengthening', 'overmedications', 'overmultiplying', 'overmultituding', 'overopinionated', 'overorchestrate', 'overornamenting', 'overpersuasions', 'overpopulations', 'overpreparation', 'overprescribing', 'overproductions', 'overprogramming', 'overproportions', 'overprotections', 'overrefinements', 'overregulations', 'overrepresented', 'oversaturations', 'oversensitivity', 'oversimplifying', 'overspecialised', 'overspecialises', 'overspecialized', 'overspecializes', 'overspeculating', 'overspeculation', 'overstabilities', 'overstimulating', 'overstimulation', 'oversubscribing', 'oversweetnesses', 'overutilisation', 'overutilization', 'overweeningness', 'overwithholding', 'overzealousness', 'ovoviviparities', 'ovoviviparously', 'oxidoreductases', 'oxyhaemoglobins', 'oxyphenbutazone', 'oxytetracycline', 'pachymeningitis', 'painstakingness', 'painterlinesses', 'palaebiologists', 'palaeoanthropic', 'palaeobiologies', 'palaeobiologist', 'palaeobotanical', 'palaeobotanists', 'palaeoecologies', 'palaeoecologist', 'palaeoethnology', 'palaeogeography', 'palaeographical', 'palaeographists', 'palaeolimnology', 'palaeomagnetism', 'palaeontography', 'palaeontologies', 'palaeontologist', 'palaeopathology', 'palaeophytology', 'palaeozoologies', 'palaeozoologist', 'palatablenesses', 'palatalisations', 'palatalizations', 'paleobiological', 'paleobiologists', 'paleoecological', 'paleoecologists', 'paleogeographic', 'paleomagnetisms', 'paleomagnetists', 'paleontological', 'paleontologists', 'paleozoological', 'paleozoologists', 'palynologically', 'pamphleteerings', 'panophthalmitis', 'pantheistically', 'pantisocratical', 'pantisocratists', 'pantopragmatics', 'parabolisations', 'parabolizations', 'paradoxicalness', 'paragenetically', 'paragrammatists', 'paragraphically', 'paraheliotropic', 'parajournalisms', 'paralinguistics', 'parallactically', 'parallelepipeda', 'parallelepipeds', 'parallelopipeda', 'parallelopipeds', 'parametrisation', 'parametrization', 'paramyxoviruses', 'paranormalities', 'pararosanilines', 'parasexualities', 'parasiticalness', 'parasitisations', 'parasitizations', 'parasitological', 'parasitologists', 'parasympathetic', 'parenthetically', 'parliamentarian', 'parliamentarily', 'parliamentarism', 'paroemiographer', 'parthenocarpies', 'parthenocarpous', 'parthenogeneses', 'parthenogenesis', 'parthenogenetic', 'participational', 'particularisers', 'particularising', 'particularistic', 'particularities', 'particularizers', 'particularizing', 'passifloraceous', 'passionlessness', 'pasteurisations', 'pasteurizations', 'patentabilities', 'paterfamiliases', 'pathogenicities', 'pathophysiology', 'patrialisations', 'patrializations', 'patriarchalisms', 'patrifocalities', 'peaceablenesses', 'peacelessnesses', 'pectinesterases', 'pedagoguishness', 'pedestrianising', 'pedestrianizing', 'pendulousnesses', 'penetrabilities', 'penetrativeness', 'peninsularities', 'pennilessnesses', 'pentadactylisms', 'pentobarbitones', 'penuriousnesses', 'perchloroethene', 'perdurabilities', 'perfectibilians', 'perfectibilisms', 'perfectibilists', 'perfectionating', 'perfectionistic', 'perfervidnesses', 'perfluorocarbon', 'perfunctoriness', 'pergamentaceous', 'perigastritises', 'perihepatitises', 'perinephritises', 'periodontically', 'periodontitises', 'peripatetically', 'peripateticisms', 'peripheralities', 'perishabilities', 'perissodactyles', 'perissodactylic', 'perissosyllabic', 'peristaltically', 'perityphlitises', 'permanentnesses', 'permeablenesses', 'permissibleness', 'permutabilities', 'peroxysulphuric', 'perpendicularly', 'perplexednesses', 'persnicketiness', 'personalisation', 'personalization', 'personification', 'perspicaciously', 'perspicuousness', 'pervasivenesses', 'pervertednesses', 'pessimistically', 'pestiferousness', 'petrochemically', 'petrocurrencies', 'petrophysicists', 'phallocentrisms', 'phantasmagorial', 'phantasmagorias', 'phantasmagories', 'phantasmalities', 'pharisaicalness', 'pharmaceuticals', 'pharmacodynamic', 'pharmacogenomic', 'pharmacognosies', 'pharmacognosist', 'pharmacognostic', 'pharmacokinetic', 'pharmacological', 'pharmacologists', 'pharmacopoeists', 'pharmacopolists', 'pharmacotherapy', 'pharyngological', 'pharyngologists', 'pharyngoscopies', 'phenakistoscope', 'phenobarbitones', 'phenolphthalein', 'phenomenalising', 'phenomenalistic', 'phenomenalities', 'phenomenalizing', 'phenomenologies', 'phenomenologist', 'phenylbutazones', 'phenylketonuria', 'phenylketonuric', 'phenylthioureas', 'philanthropical', 'philanthropists', 'philanthropoids', 'philosophasters', 'philosophically', 'phleboscleroses', 'phlebosclerosis', 'phlogisticating', 'phonautographic', 'phonemicisation', 'phonemicization', 'phoneticisation', 'phoneticization', 'phonocardiogram', 'phonogramically', 'phosphatisation', 'phosphatization', 'phosphocreatine', 'phosphocreatins', 'phosphoproteins', 'phosphorescence', 'phosphoroscopes', 'phosphorylating', 'phosphorylation', 'phosphorylative', 'photoautotrophs', 'photobiological', 'photobiologists', 'photochemically', 'photoconducting', 'photoconduction', 'photoconductive', 'photoconductors', 'photodegradable', 'photodissociate', 'photoduplicated', 'photoduplicates', 'photoelasticity', 'photoelectrical', 'photoelectrodes', 'photoelectronic', 'photoengravings', 'photoexcitation', 'photofinishings', 'photofluorogram', 'photogeological', 'photogeologists', 'photogrammetric', 'photoinductions', 'photoionisation', 'photoionization', 'photojournalism', 'photojournalist', 'photolithograph', 'photoluminesced', 'photoluminesces', 'photomacrograph', 'photomechanical', 'photometrically', 'photomicrograph', 'photomultiplier', 'photooxidations', 'photoperiodisms', 'photoproduction', 'photoreceptions', 'photoreductions', 'photorefractive', 'photosensitised', 'photosensitiser', 'photosensitises', 'photosensitized', 'photosensitizer', 'photosensitizes', 'photosynthesise', 'photosynthesize', 'phototactically', 'phototelegraphs', 'phototelegraphy', 'phototopography', 'phototoxicities', 'phototransistor', 'phototropically', 'phototypesetter', 'phototypography', 'photoxylography', 'photozincograph', 'phrasemongering', 'phraseographies', 'phreneticnesses', 'phrenologically', 'phthalocyanines', 'phyllosilicates', 'physicochemical', 'physiographical', 'physiologically', 'physiopathology', 'physiotherapies', 'physiotherapist', 'phytochemically', 'phytoflagellate', 'phytogeographer', 'phytogeographic', 'phytopathogenic', 'phytoplanktonic', 'phytotoxicities', 'pictorialnesses', 'picturesqueness', 'piezomagnetisms', 'piezometrically', 'pigheadednesses', 'pinealectomised', 'pinealectomises', 'pinealectomized', 'pinealectomizes', 'pinheadednesses', 'pinocytotically', 'pisciculturally', 'pisciculturists', 'pithecanthropus', 'plagiocephalies', 'plagiostomatous', 'plainclothesman', 'plainclothesmen', 'plainspokenness', 'plaintivenesses', 'planimetrically', 'planometrically', 'plantaginaceous', 'plasmolytically', 'plasticisations', 'plasticizations', 'platinocyanides', 'platitudinarian', 'platitudinisers', 'platitudinising', 'platitudinizers', 'platitudinizing', 'platitudinously', 'platyhelminthic', 'plausiblenesses', 'pleasurableness', 'plenipotentiary', 'plenteousnesses', 'plentifulnesses', 'plethysmographs', 'plethysmography', 'pleuropneumonia', 'plumbaginaceous', 'pluralistically', 'plutocratically', 'pneumatological', 'pneumatologists', 'pneumatometries', 'pneumoconiotics', 'pneumonectomies', 'pococuranteisms', 'poikilothermies', 'poikilothermism', 'pointlessnesses', 'poisonousnesses', 'poliomyelitides', 'poliomyelitises', 'politicisations', 'politicizations', 'polyacrylamides', 'polycarboxylate', 'polychlorinated', 'polychloroprene', 'polychromatisms', 'polycrystalline', 'polyelectrolyte', 'polygenetically', 'polygraphically', 'polymerisations', 'polymerizations', 'polymorphically', 'polynucleotides', 'polyphloesboean', 'polysaccharides', 'polysaccharoses', 'polysyllabicism', 'polysynthesisms', 'polysynthetical', 'polysynthetisms', 'polyunsaturated', 'polyvinylidenes', 'ponderabilities', 'ponderousnesses', 'pontificalities', 'popularisations', 'popularizations', 'porphyrogenites', 'possessednesses', 'postapocalyptic', 'postconsonantal', 'postdevaluation', 'postdivestiture', 'posthemorrhagic', 'postinoculation', 'postirradiation', 'postmasterships', 'postmillenarian', 'postoperatively', 'postpollination', 'postproductions', 'poststimulation', 'poststimulatory', 'posttransfusion', 'postulationally', 'postvaccination', 'potentiometries', 'powerlessnesses', 'practicableness', 'practicalnesses', 'pragmaticalness', 'pragmatisations', 'pragmatizations', 'prayerfulnesses', 'preacquaintance', 'preadolescences', 'preagricultural', 'prearrangements', 'precancellation', 'precipitability', 'precipitantness', 'precipitateness', 'precipitinogens', 'precipitousness', 'preconditioning', 'preconstructing', 'preconstruction', 'predatorinesses', 'predesignations', 'predestinarians', 'predestinations', 'predeterminable', 'predeterminisms', 'predevelopments', 'predicabilities', 'predictableness', 'predispositions', 'preestablishing', 'prefabrications', 'preferabilities', 'preferentialism', 'preferentialist', 'preferentiality', 'prefiguratively', 'preformationism', 'preformationist', 'prehistorically', 'preimplantation', 'preinterviewing', 'prejudicialness', 'prekindergarten', 'premanufactured', 'premanufactures', 'prematurenesses', 'premillenarians', 'premillennially', 'premodification', 'prenegotiations', 'prenotification', 'preponderancies', 'preponderations', 'prepositionally', 'prepossessingly', 'prepresidential', 'preprofessional', 'prepublications', 'preregistration', 'presbyterianise', 'presbyterianism', 'presbyterianize', 'prescriptivisms', 'prescriptivists', 'presentableness', 'presentationism', 'presentationist', 'presentialities', 'preservationist', 'pressurisations', 'pressurizations', 'prestidigitator', 'prestigiousness', 'presumptiveness', 'presuppositions', 'presynaptically', 'pretentiousness', 'preteritenesses', 'preterminations', 'preternaturally', 'prettifications', 'prevalentnesses', 'pricelessnesses', 'primitivenesses', 'primogenitrices', 'primogenitrixes', 'primordialities', 'principalnesses', 'printablenesses', 'prioritisations', 'prioritizations', 'probabiliorisms', 'probabiliorists', 'probationership', 'problematically', 'proceleusmatics', 'processionalist', 'procrastinating', 'procrastination', 'procrastinative', 'procrastinators', 'procrastinatory', 'procreativeness', 'procuratorships', 'producibilities', 'professionalise', 'professionalism', 'professionalist', 'professionalize', 'profitabilities', 'progenitiveness', 'progenitorships', 'prognosticating', 'prognostication', 'prognosticative', 'prognosticators', 'programmability', 'progressionally', 'progressionisms', 'progressionists', 'progressiveness', 'progressivistic', 'progressivities', 'prohibitionisms', 'prohibitionists', 'prohibitiveness', 'projectisations', 'projectizations', 'proletarianised', 'proletarianises', 'proletarianisms', 'proletarianized', 'proletarianizes', 'proletarianness', 'prolocutorships', 'prominentnesses', 'promiscuousness', 'promotabilities', 'promotivenesses', 'pronominalising', 'pronominalizing', 'pronunciamentos', 'pronunciational', 'propagabilities', 'properispomenon', 'proportionality', 'proportionately', 'proportionating', 'proportionments', 'propositionally', 'proprietorially', 'proprietorships', 'proprioceptions', 'propylitisation', 'propylitization', 'prosaicalnesses', 'proselytisation', 'proselytization', 'prosenchymatous', 'proslambanomene', 'prosopographers', 'prosopographies', 'prospectiveness', 'prostatectomies', 'prosthodontists', 'proteolytically', 'prothonotariats', 'protistologists', 'protohistorians', 'protoporphyrins', 'protospathaires', 'protospatharius', 'protozoological', 'protozoologists', 'proverbialising', 'proverbializing', 'provincialising', 'provincialities', 'provincializing', 'provocativeness', 'proximatenesses', 'prudentialities', 'prussianisation', 'prussianization', 'psephologically', 'pseudaesthesias', 'pseudepigraphic', 'pseudepigraphon', 'pseudoarthroses', 'pseudoarthrosis', 'pseudocoelomate', 'pseudoephedrine', 'pseudomembranes', 'pseudomorphisms', 'pseudomutuality', 'pseudopregnancy', 'pseudoscientist', 'pseudoscorpions', 'pseudosolutions', 'psilanthropisms', 'psilanthropists', 'psychedelically', 'psychiatrically', 'psychoacoustics', 'psychoanalysers', 'psychoanalysing', 'psychoanalyzers', 'psychoanalyzing', 'psychobiography', 'psychobiologies', 'psychobiologist', 'psychochemicals', 'psychochemistry', 'psychodelically', 'psychogenetical', 'psychogenically', 'psychogeriatric', 'psychographical', 'psychohistorian', 'psychohistories', 'psycholinguists', 'psychologically', 'psychometrician', 'psychoneurotics', 'psychopathology', 'psychophysicist', 'psychosexuality', 'psychosomimetic', 'psychosurgeries', 'psychosyntheses', 'psychosynthesis', 'psychotherapies', 'psychotherapist', 'psychotomimetic', 'psychrometrical', 'pteridophilists', 'pterylographies', 'pulchritudinous', 'pulmobranchiate', 'pulselessnesses', 'punctiliousness', 'punctuationists', 'punishabilities', 'puritanicalness', 'purposelessness', 'purposivenesses', 'pusillanimities', 'pusillanimously', 'pycnodysostoses', 'pycnodysostosis', 'pyknodysostoses', 'pyknodysostosis', 'pyramidologists', 'pyretotherapies', 'pyroelectricity', 'pyrophotographs', 'pyrophotography', 'pyrophotometers', 'pyrotechnically', 'pyrotechnicians', 'quadragenarians', 'quadringenaries', 'quadripartition', 'quadrisyllables', 'quadrivalencies', 'quadruplicating', 'quadruplication', 'quadruplicities', 'quantifications', 'quarrelsomeness', 'quarterfinalist', 'quartermistress', 'quatercentenary', 'quattrocentisms', 'quattrocentists', 'querulousnesses', 'questionability', 'quicksilverings', 'quincentenaries', 'quincentennials', 'quingentenaries', 'quinquagenarian', 'quinquevalences', 'quintuplicating', 'quintuplication', 'quizzifications', 'quodlibetarians', 'quodlibetically', 'radicalisations', 'radicalizations', 'radioactivating', 'radioactivation', 'radioactivities', 'radioautographs', 'radioautography', 'radiobiological', 'radiobiologists', 'radiochemically', 'radiogoniometer', 'radiolocational', 'radiometrically', 'radiomicrometer', 'radiophonically', 'radiophosphorus', 'radioprotection', 'radioprotective', 'radioscopically', 'radiosensitised', 'radiosensitises', 'radiosensitized', 'radiosensitizes', 'radiostrontiums', 'radiotelegraphs', 'radiotelegraphy', 'radiotelemeters', 'radiotelemetric', 'radiotelephones', 'radiotelephonic', 'radiotherapists', 'rancorousnesses', 'rangatiratangas', 'rapaciousnesses', 'rapturousnesses', 'rationalisation', 'rationalization', 'reacclimatising', 'reacclimatizing', 'reaccreditation', 'reacquaintances', 'reactionaryisms', 'readvertisement', 'reafforestation', 'realisabilities', 'realizabilities', 'reapportionment', 'reappraisements', 'reappropriating', 'reasonabilities', 'reauthorisation', 'reauthorization', 'recalcitrancies', 'recalcitrations', 'recallabilities', 'recanalisations', 'recanalizations', 'recapitulations', 'receivabilities', 'receptibilities', 'receptivenesses', 'recertification', 'recessivenesses', 'rechoreographed', 'rechromatograph', 'reciprocalities', 'reclusivenesses', 'recodifications', 'recognisability', 'recognizability', 'recollectedness', 'recolonisations', 'recolonizations', 'recombinational', 'recommencements', 'recommendations', 'recommissioning', 'reconcentrating', 'reconcentration', 'reconceptualise', 'reconceptualize', 'reconcilability', 'reconciliations', 'recondensations', 'reconditenesses', 'reconfiguration', 'reconfirmations', 'reconnaissances', 'reconnoissances', 'reconsecrations', 'reconsideration', 'reconsolidating', 'reconsolidation', 'reconstitutable', 'reconstitutions', 'reconstructible', 'reconstructions', 'recontaminating', 'recontamination', 'recontextualise', 'recontextualize', 'reconvalescence', 'recoverableness', 'recrementitious', 'recrudescencies', 'recrystallising', 'recrystallizing', 'rectipetalities', 'recursivenesses', 'redeemabilities', 'redetermination', 'redintegrations', 'redistillations', 'redistributions', 'redoubtableness', 'reduciblenesses', 'reductivenesses', 'reduplicatively', 'reeligibilities', 'reestablishment', 'reflectometries', 'reflexibilities', 'reflexivenesses', 'reformabilities', 'reformationists', 'refortification', 'refractometries', 'refrangibleness', 'refrigeratories', 'refundabilities', 'regardfulnesses', 'regionalisation', 'regionalization', 'regretfulnesses', 'regularisations', 'regularizations', 'rehabilitations', 'rehospitalising', 'rehospitalizing', 'reimplantations', 'reincorporating', 'reincorporation', 'reindustrialise', 'reindustrialize', 'reinstallations', 'reinterrogating', 'reinterrogation', 'reintroductions', 'reinvestigating', 'reinvestigation', 'reinvigorations', 'rejuvenescences', 'relativisations', 'relativizations', 'religiousnesses', 'relinquishments', 'remanufacturers', 'remanufacturing', 'remarkabilities', 'rematerialising', 'rematerializing', 'remediabilities', 'rememberability', 'remissibilities', 'remobilisations', 'remobilizations', 'remonetisations', 'remonetizations', 'remonstratingly', 'remonstratively', 'remoralisations', 'remoralizations', 'remorselessness', 'removablenesses', 'remythologising', 'remythologizing', 'renationalising', 'renationalizing', 'renormalisation', 'renormalization', 'reorchestrating', 'reorchestration', 'reorganisations', 'reorganizations', 'repairabilities', 'repeatabilities', 'repetitiousness', 'rephotographing', 'replicabilities', 'repolarisations', 'repolarizations', 'reposefulnesses', 'representations', 'representatives', 'repristinations', 'reprivatisation', 'reprivatization', 'reproachfulness', 'reproducibility', 'republicanising', 'republicanizing', 'repudiationists', 'repulsivenesses', 'requisitenesses', 'requisitionists', 'reregistrations', 'resectabilities', 'resentfulnesses', 'reservationists', 'resinifications', 'resistibilities', 'resistivenesses', 'resocialisation', 'resocialization', 'resolublenesses', 'resolvabilities', 'resourcefulness', 'respectabilised', 'respectabilises', 'respectabilized', 'respectabilizes', 'respectableness', 'respirabilities', 'respiritualised', 'respiritualises', 'respiritualized', 'respiritualizes', 'responsibleness', 'restitutionisms', 'restitutionists', 'restorationisms', 'restorationists', 'restrengthening', 'restrictionisms', 'restrictionists', 'restrictiveness', 'resurrectionary', 'resurrectionise', 'resurrectionism', 'resurrectionist', 'resurrectionize', 'resynchronising', 'resynchronizing', 'resystematising', 'resystematizing', 'retaliationists', 'retentivenesses', 'retinoblastomas', 'retransmissions', 'retrievableness', 'retroactiveness', 'retroactivities', 'retrocognitions', 'retrogradations', 'retrogressional', 'retrogressively', 'retromingencies', 'retroperitoneal', 'retroreflection', 'retroreflective', 'retroreflectors', 'retrospectively', 'returnabilities', 'revalorisations', 'revalorizations', 'revealabilities', 'revealingnesses', 'reverberatories', 'reversibilities', 'revisualisation', 'revisualization', 'revitalisations', 'revitalizations', 'revivifications', 'revocablenesses', 'revolutionaries', 'revolutionarily', 'revolutionisers', 'revolutionising', 'revolutionizers', 'revolutionizing', 'rheumatological', 'rheumatologists', 'rhinencephalons', 'rhinoscleromata', 'rhombencephalon', 'rhombenporphyrs', 'rhombenporphyry', 'rhombporphyries', 'rhyparographers', 'rhyparographies', 'ribonucleosides', 'ribonucleotides', 'rightablenesses', 'righteousnesses', 'rigidifications', 'ritualistically', 'riverworthiness', 'roentgenisation', 'roentgenization', 'roentgenographs', 'roentgenography', 'roentgenologies', 'roentgenologist', 'roentgenoscopes', 'roentgenoscopic', 'rollercoastered', 'romanticalities', 'romanticisation', 'romanticization', 'rontgenisations', 'rontgenizations', 'rontgenological', 'rontgenologists', 'rontgenoscopies', 'rontgenotherapy', 'rostrocarinates', 'roundaboutation', 'roundaboutility', 'roundheadedness', 'rudimentariness', 'rumblegumptions', 'rumbustiousness', 'rummelgumptions', 'rummlegumptions', 'rumormongerings', 'sabermetricians', 'saccharimetries', 'saccharisations', 'saccharizations', 'saccharomycetes', 'sacerdotalising', 'sacerdotalizing', 'sacramentalisms', 'sacramentalists', 'sacramentalness', 'sacramentarians', 'sacrosanctities', 'sadomasochistic', 'sagaciousnesses', 'salaciousnesses', 'salpingectomies', 'sanctifications', 'sanctimoniously', 'sanguifications', 'sanguineousness', 'sanguinolencies', 'sansculotteries', 'saponaceousness', 'saponifications', 'saprogenicities', 'saprophytically', 'sarcenchymatous', 'sarraceniaceous', 'satanicalnesses', 'satiricalnesses', 'scandalisations', 'scandalizations', 'scaphocephalies', 'scaphocephalism', 'scaphocephalous', 'scaremongerings', 'scathefulnesses', 'scentlessnesses', 'schematisations', 'schematizations', 'schillerisation', 'schillerization', 'schistosomiases', 'schistosomiasis', 'schizophrenetic', 'scholarlinesses', 'schoolmastering', 'schoolmasterish', 'schoolmistressy', 'schoolteachings', 'scintillascopes', 'scintillatingly', 'scintillometers', 'scintilloscopes', 'sclerodermatous', 'sclerotisations', 'sclerotizations', 'scolopendriform', 'scorchingnesses', 'scratchbuilders', 'scratchbuilding', 'scribaciousness', 'scrimshandering', 'scrumptiousness', 'sculpturesquely', 'searchingnesses', 'seaworthinesses', 'seclusivenesses', 'secondarinesses', 'secretivenesses', 'sectionisations', 'sectionizations', 'secularisations', 'secularizations', 'secundogeniture', 'securitisations', 'securitizations', 'sedentarinesses', 'sedimentologies', 'sedimentologist', 'seditiousnesses', 'seductivenesses', 'segregationists', 'seismographical', 'seismologically', 'selectivenesses', 'selenographical', 'selenographists', 'semiabstraction', 'semicentennials', 'semicolonialism', 'semiconductions', 'semiconsciously', 'semicrystalline', 'semicylindrical', 'semidocumentary', 'semilogarithmic', 'semimanufacture', 'semiparasitisms', 'semipornography', 'semiretirements', 'semisubmersible', 'semiterrestrial', 'semitranslucent', 'semitransparent', 'sensationalised', 'sensationalises', 'sensationalisms', 'sensationalists', 'sensationalized', 'sensationalizes', 'senselessnesses', 'sensitivenesses', 'sensualisations', 'sensualizations', 'sententiousness', 'sentimentalised', 'sentimentalises', 'sentimentalisms', 'sentimentalists', 'sentimentalized', 'sentimentalizes', 'separablenesses', 'septendecillion', 'septentrionally', 'septuagenarians', 'sequentialities', 'serendipitously', 'sericiculturist', 'sericitisations', 'sericitizations', 'seroconversions', 'serviceableness', 'servomechanical', 'servomechanisms', 'sesquicarbonate', 'sesquicentenary', 'sesquisulphides', 'shamefastnesses', 'shamelessnesses', 'shapelessnesses', 'sherardisations', 'sherardizations', 'shiftlessnesses', 'shillingsworths', 'shillyshalliers', 'shillyshallying', 'shockumentaries', 'showerproofings', 'sidesplittingly', 'sightlessnesses', 'sigmoidectomies', 'sigmoidoscopies', 'significatively', 'silicifications', 'silversmithings', 'silviculturally', 'silviculturists', 'simplicidentate', 'simplifications', 'singularisation', 'singularization', 'sinistrodextral', 'sinterabilities', 'skepticalnesses', 'sketchabilities', 'slaughterhouses', 'sledgehammering', 'sleeplessnesses', 'slumpflationary', 'smokelessnesses', 'snippersnappers', 'socialistically', 'sociobiological', 'sociobiologists', 'socioculturally', 'sociohistorical', 'sociolinguistic', 'softheartedness', 'solderabilities', 'soldierlinesses', 'solemnification', 'solidifications', 'solipsistically', 'solitudinarians', 'solubilisations', 'solubilizations', 'somatologically', 'somnambulations', 'soothfastnesses', 'sophisticatedly', 'sophistications', 'sorrowfulnesses', 'soundlessnesses', 'southeasterlies', 'southerlinesses', 'southwesterlies', 'southwestwardly', 'specialisations', 'specializations', 'spectrographies', 'spectroscopical', 'spectroscopists', 'speculativeness', 'speechfulnesses', 'speechification', 'speleotherapies', 'spermatoblastic', 'spermatogeneses', 'spermatogenesis', 'spermatogenetic', 'spermatorrhoeas', 'sphaerocrystals', 'sphaerosiderite', 'sphericalnesses', 'spheroidicities', 'spheroidisation', 'spheroidization', 'sphygmographies', 'spinelessnesses', 'spinthariscopes', 'spiritousnesses', 'spiritualnesses', 'spirochaetaemia', 'spironolactones', 'splanchnologies', 'splendiferously', 'splenectomising', 'splenectomizing', 'spontaneousness', 'sporangiophores', 'sporangiospores', 'spreadabilities', 'sprightlinesses', 'squeamishnesses', 'squeezabilities', 'stadholderships', 'stadtholderates', 'stadtholdership', 'stainlessnesses', 'stalactitically', 'stalagmitically', 'stalagmometries', 'standardisation', 'standardization', 'standoffishness', 'staphyloplastic', 'staphylorrhaphy', 'statelessnesses', 'steadfastnesses', 'steeplechasings', 'steganographers', 'steganographies', 'steganographist', 'stegocephalians', 'stereochemistry', 'stereographical', 'stereoisomerism', 'stereoisometric', 'stereologically', 'stereotaxically', 'stereotypically', 'steroidogeneses', 'steroidogenesis', 'stigmatisations', 'stigmatizations', 'stigmatophilias', 'stigmatophilist', 'stilpnosiderite', 'stockbrokerages', 'stoechiological', 'stoechiometries', 'stoicheiologies', 'stoicheiometric', 'stoichiological', 'stoichiometries', 'stomatoplasties', 'stonelessnesses', 'strabismometers', 'straightforward', 'straightjackets', 'straitjacketing', 'straitlacedness', 'straitwaistcoat', 'straticulations', 'stratifications', 'stratigraphical', 'stratigraphists', 'stratospherical', 'stratovolcanoes', 'strenuousnesses', 'strephosymbolia', 'streptobacillus', 'streptocarpuses', 'streptothricins', 'stressfulnesses', 'strikebreakings', 'stringentnesses', 'strobilisations', 'strobilizations', 'strombuliferous', 'strongyloidoses', 'strongyloidosis', 'structuralising', 'structuralizing', 'stultifications', 'stylelessnesses', 'subaggregations', 'subalternations', 'subassociations', 'subcategorising', 'subcategorizing', 'subcivilisation', 'subcivilization', 'subcommissioned', 'subcommissioner', 'subcontractings', 'subcontraoctave', 'subdevelopments', 'subinfeudations', 'subinsinuations', 'subintellection', 'subintelligence', 'subintelligitur', 'sublapsarianism', 'submetacentrics', 'subminiaturised', 'subminiaturises', 'subminiaturized', 'subminiaturizes', 'suboptimisation', 'suboptimization', 'subordinateness', 'suborganisation', 'suborganization', 'subprofessional', 'subproletariats', 'subreptitiously', 'subspecialising', 'subspecialities', 'subspecializing', 'subspecifically', 'substantialised', 'substantialises', 'substantialisms', 'substantialists', 'substantialized', 'substantializes', 'substantialness', 'substantiations', 'substantiveness', 'substantivising', 'substantivities', 'substantivizing', 'substitutionary', 'substratosphere', 'subterraneously', 'subterrestrials', 'suburbanisation', 'suburbanization', 'subversionaries', 'subvocalisation', 'subvocalization', 'successlessness', 'succinylcholine', 'sufficingnesses', 'suggestibleness', 'suggestionising', 'suggestionizing', 'sulfamethazines', 'sulfinpyrazones', 'sulfurousnesses', 'sulphacetamides', 'sulphanilamides', 'sulphathiazoles', 'sulphinpyrazone', 'sulphonmethanes', 'sulphureousness', 'sulphurisations', 'sulphurizations', 'sumptuousnesses', 'superablenesses', 'superabsorbents', 'superabundances', 'superabundantly', 'superactivities', 'superadditional', 'superannuations', 'superbureaucrat', 'supercalendered', 'supercargoships', 'supercomputings', 'superconducting', 'superconduction', 'superconductive', 'superconductors', 'superconfidence', 'supercontinents', 'superconvenient', 'superefficiency', 'superelevations', 'supererogations', 'superexaltation', 'superexcellence', 'superficialised', 'superficialises', 'superficialized', 'superficializes', 'superficialness', 'superfinenesses', 'superfluidities', 'superfluousness', 'superfoetations', 'supergovernment', 'superheterodyne', 'superhumanising', 'superhumanities', 'superhumanizing', 'superimposition', 'superincumbence', 'superincumbency', 'superindividual', 'superinducement', 'superinductions', 'superinfections', 'superintendence', 'superintendency', 'superintendents', 'superlativeness', 'supermajorities', 'supernationally', 'supernaturalise', 'supernaturalism', 'supernaturalist', 'supernaturalize', 'supernumeraries', 'supernutritions', 'superordinating', 'superordination', 'superorganicism', 'superorganicist', 'superovulations', 'superparasitism', 'superpatriotism', 'superphenomenon', 'superphosphates', 'superplasticity', 'supersaturating', 'supersaturation', 'superscriptions', 'superspecialist', 'superspectacles', 'superstimulated', 'superstimulates', 'superstitiously', 'superstructions', 'superstructural', 'superstructures', 'supersubtleties', 'supersymmetries', 'supervisorships', 'supplementaries', 'supplementarily', 'supplementation', 'supportableness', 'suppositionally', 'suppositionless', 'suppressibility', 'suppressiveness', 'supralapsarians', 'supranationally', 'surreptitiously', 'survivabilities', 'susceptibleness', 'suspectednesses', 'suspensefulness', 'suspercollating', 'swellheadedness', 'sycophantically', 'syllabification', 'syllabographies', 'syllogistically', 'symbolistically', 'symbolographies', 'symmetricalness', 'symmetrisations', 'symmetrizations', 'symmetrophobias', 'sympathectomies', 'sympathetically', 'sympathomimetic', 'symphyseotomies', 'symphysiotomies', 'symptomatically', 'symptomatologic', 'symptomological', 'synaposematisms', 'synarthrodially', 'synchronicities', 'synchronisation', 'synchronistical', 'synchronization', 'synchronologies', 'synchronoscopes', 'synchronousness', 'syncretisations', 'syncretizations', 'synecdochically', 'synecologically', 'synergistically', 'synthesisations', 'synthesizations', 'synthetisations', 'synthetizations', 'systematisation', 'systematization', 'systematologies', 'tabularisations', 'tabularizations', 'tachometrically', 'tachyarrhythmia', 'tachymetrically', 'talkativenesses', 'tangentialities', 'tarsometatarsal', 'tarsometatarsus', 'tastelessnesses', 'tatterdemalions', 'tatterdemallion', 'teachablenesses', 'technicalnesses', 'technologically', 'technostructure', 'tectibranchiate', 'telangiectasias', 'telautographies', 'teleconferences', 'teleconnections', 'telegraphically', 'telejournalisms', 'telejournalists', 'telekinetically', 'telephotographs', 'telephotography', 'teleprocessings', 'telestereoscope', 'teletypesetting', 'teletypewriters', 'telomerisations', 'telomerizations', 'temerariousness', 'temperabilities', 'temperamentally', 'temperatenesses', 'tempestuousness', 'temporarinesses', 'temptablenesses', 'tenaciousnesses', 'tendenciousness', 'tendentiousness', 'tenderheartedly', 'tenebrousnesses', 'tenosynovitises', 'tenovaginitises', 'tentaculiferous', 'tentativenesses', 'teratocarcinoma', 'teratogenicists', 'tergiversations', 'terminabilities', 'terrestrialness', 'territorialised', 'territorialises', 'territorialisms', 'territorialists', 'territorialized', 'territorializes', 'testimonialised', 'testimonialises', 'testimonialized', 'testimonializes', 'tetartohedrally', 'tetartohedrisms', 'tetrabasicities', 'tetrabranchiate', 'tetragrammatons', 'tetrahydrofuran', 'tetramethyllead', 'tetrasporangium', 'tetrasyllabical', 'thalamencephala', 'thalassocracies', 'thalassographer', 'thalassographic', 'thalassotherapy', 'thalattocracies', 'thanatognomonic', 'thanatographies', 'thanklessnesses', 'thankworthiness', 'thaumatolatries', 'theatricalising', 'theatricalities', 'theatricalizing', 'theocentricisms', 'theologisations', 'theologizations', 'theorematically', 'theosophistical', 'therapeutically', 'therianthropism', 'theriomorphisms', 'theriomorphoses', 'theriomorphosis', 'thermaesthesias', 'thermalisations', 'thermalizations', 'thermobarograph', 'thermobarometer', 'thermochemistry', 'thermochromisms', 'thermodynamical', 'thermoelectrons', 'thermojunctions', 'thermoperiodism', 'thermoreceptors', 'thermoregulated', 'thermoregulates', 'thermoregulator', 'thermoremanence', 'thermostability', 'thermotherapies', 'thickheadedness', 'thimbleriggings', 'thinkablenesses', 'thiobarbiturate', 'thirtysomething', 'thoracocenteses', 'thoracocentesis', 'thoracoplasties', 'thoroughgoingly', 'thoughtlessness', 'threefoldnesses', 'threepenceworth', 'threepennyworth', 'thremmatologies', 'thrillingnesses', 'thromboembolism', 'thromboplastins', 'thunderstricken', 'thunderstriking', 'thyrocalcitonin', 'thyroidectomies', 'tightfistedness', 'tintinnabulated', 'tintinnabulates', 'toastmistresses', 'tolerablenesses', 'tomboyishnesses', 'tonsillectomies', 'toothsomenesses', 'topochemistries', 'topographically', 'torrentialities', 'totalitarianise', 'totalitarianism', 'totalitarianize', 'touchablenesses', 'toxicologically', 'traceablenesses', 'tracklessnesses', 'tractablenesses', 'traditionalised', 'traditionalises', 'traditionalisms', 'traditionalists', 'traditionalized', 'traditionalizes', 'trainspotterish', 'tranquilisation', 'tranquilisingly', 'tranquilization', 'tranquilizingly', 'transactionally', 'transaminations', 'transcendencies', 'transcendentals', 'transcriptional', 'transcriptively', 'transferability', 'transfiguration', 'transfigurement', 'transformations', 'transfusionists', 'transgressional', 'transgressively', 'transhistorical', 'transientnesses', 'transilluminate', 'transistorising', 'transistorizing', 'translatability', 'translationally', 'transliterating', 'transliteration', 'transliterators', 'translucidities', 'transmigrations', 'transmissometer', 'transmittancies', 'transmogrifying', 'transmutability', 'transmutational', 'transparentised', 'transparentises', 'transparentized', 'transparentizes', 'transparentness', 'transpirational', 'transplantation', 'transportations', 'transportedness', 'transposability', 'transpositional', 'transsexualisms', 'transubstantial', 'transvaluations', 'transvestitisms', 'traumatisations', 'traumatizations', 'traumatological', 'traumatonasties', 'treacherousness', 'treasonableness', 'tremulousnesses', 'triangularities', 'tribromoethanol', 'tribromomethane', 'tributarinesses', 'trichinisations', 'trichinizations', 'trichloroacetic', 'trichloroethane', 'trichomonacidal', 'trichomonacides', 'trifluoperazine', 'trigonometrical', 'trihalomethanes', 'triiodomethanes', 'trimethylamines', 'trinitrobenzene', 'trinitrocresols', 'trinitrophenols', 'trinitrotoluene', 'trinitrotoluols', 'tripersonalisms', 'tripersonalists', 'triphenylamines', 'trisoctahedrons', 'trisyllabically', 'trituberculisms', 'trivialisations', 'trivializations', 'tropicalisation', 'tropicalization', 'troubleshooters', 'troubleshooting', 'troublesomeness', 'troublousnesses', 'trueheartedness', 'trustlessnesses', 'trustworthiness', 'truthlessnesses', 'trypanosomiases', 'trypanosomiasis', 'tuberculisation', 'tuberculization', 'tumorgenicities', 'turbogenerators', 'tyndallimetries', 'typographically', 'tyrannosauruses', 'tyrannousnesses', 'ubiquitarianism', 'ubiquitinations', 'ultimogenitures', 'ultracentrifuge', 'ultracommercial', 'ultraconvenient', 'ultracrepidated', 'ultracrepidates', 'ultrademocratic', 'ultrafastidious', 'ultrafiltration', 'ultraliberalism', 'ultramarathoner', 'ultramicrometer', 'ultramicroscope', 'ultramicroscopy', 'ultramicrotomes', 'ultramodernisms', 'ultramodernists', 'ultramontanisms', 'ultramontanists', 'ultrasonography', 'ultrastructural', 'ultrastructures', 'ultravirilities', 'unacceptability', 'unaccommodating', 'unacquaintances', 'unadulteratedly', 'unadvisableness', 'unadvisednesses', 'unalterableness', 'unamiablenesses', 'unanimousnesses', 'unanswerability', 'unanticipatedly', 'unapostolically', 'unappreciations', 'unapprehensible', 'unascertainable', 'unashamednesses', 'unassailability', 'unauthenticated', 'unauthoritative', 'unavailableness', 'unavoidableness', 'unbelievability', 'unbelievingness', 'unbendingnesses', 'unbiassednesses', 'unblessednesses', 'unboundednesses', 'unbridlednesses', 'uncanonicalness', 'uncategorisable', 'uncategorizable', 'unceasingnesses', 'unceremoniously', 'uncertainnesses', 'unchallengeable', 'unchallengeably', 'unchangeability', 'unchoreographed', 'unchristianised', 'unchristianises', 'unchristianized', 'unchristianizes', 'unchristianlike', 'unchronological', 'uncircumcisions', 'uncircumscribed', 'uncivilisedness', 'uncivilizedness', 'uncleanlinesses', 'unclimbableness', 'uncloudednesses', 'uncommunicative', 'uncompanionable', 'uncompassionate', 'uncomplainingly', 'uncomplaisantly', 'uncomplimentary', 'uncomprehending', 'uncomprehensive', 'uncompromisable', 'unconcernedness', 'unconditionally', 'unconnectedness', 'unconscientious', 'unconsciousness', 'unconsentaneous', 'unconstrainable', 'unconstrainedly', 'uncontroversial', 'uncooperatively', 'uncopyrightable', 'uncourtlinesses', 'uncreatednesses', 'undauntednesses', 'undecidednesses', 'undemonstrative', 'underactivities', 'undercapitalise', 'undercapitalize', 'underdeveloping', 'underemphasised', 'underemphasises', 'underemphasized', 'underemphasizes', 'underemployment', 'underestimating', 'underestimation', 'underfulfilling', 'undergraduettes', 'underhandedness', 'underinflations', 'underinvestment', 'undernicenesses', 'undernourishing', 'undernutritions', 'underperforming', 'underprivileged', 'underproduction', 'underpublicised', 'underpublicized', 'understandingly', 'understatements', 'undervaluations', 'undesirableness', 'undetermination', 'undisappointing', 'undisciplinable', 'undistinguished', 'undividednesses', 'undomesticating', 'undutifulnesses', 'unearthlinesses', 'uneatablenesses', 'unemployability', 'unendurableness', 'unequivocalness', 'unexceptionable', 'unexceptionably', 'unexceptionally', 'unextraordinary', 'unfailingnesses', 'unfamiliarities', 'unfavorableness', 'unfeelingnesses', 'unfeignednesses', 'unflappableness', 'unforgivenesses', 'unforgivingness', 'unfortunateness', 'unfossiliferous', 'unfoundednesses', 'ungentlemanlike', 'ungenuinenesses', 'ungrammatically', 'unguardednesses', 'unhealthfulness', 'unhealthinesses', 'unhurtfulnesses', 'unidiomatically', 'uniformitarians', 'unilateralities', 'unimaginatively', 'uninformatively', 'uninhibitedness', 'unintelligences', 'unintelligently', 'unintentionally', 'uninterestingly', 'unintermittedly', 'uninterpretable', 'uninterruptedly', 'universalnesses', 'unknowabilities', 'unknowingnesses', 'unknowledgeable', 'unlearnednesses', 'unlimitednesses', 'unmeaningnesses', 'unmelodiousness', 'unmindfulnesses', 'unmitigatedness', 'unmusicalnesses', 'unnaturalnesses', 'unnecessariness', 'unobjectionable', 'unobjectionably', 'unobtrusiveness', 'unoriginalities', 'unparliamentary', 'unpatriotically', 'unpeaceableness', 'unperfectnesses', 'unphilosophical', 'unpitifulnesses', 'unpracticalness', 'unpractisedness', 'unprecedentedly', 'unpremeditation', 'unprepossessing', 'unpretentiously', 'unprintableness', 'unprofessionals', 'unprofitability', 'unprogressively', 'unpronounceable', 'unproportionate', 'unprotectedness', 'unprotestantise', 'unprotestantize', 'unpunctualities', 'unqualifiedness', 'unquestioningly', 'unreadabilities', 'unrealistically', 'unrecommendable', 'unreconciliable', 'unreconstructed', 'unrelentingness', 'unreliabilities', 'unremittingness', 'unrestfulnesses', 'unrestingnesses', 'unrevolutionary', 'unrighteousness', 'unrufflednesses', 'unsaintlinesses', 'unsaleabilities', 'unsatisfactions', 'unsatisfiedness', 'unsavourinesses', 'unseaworthiness', 'unsectarianisms', 'unselfconscious', 'unselfishnesses', 'unseriousnesses', 'unsettlednesses', 'unshakeableness', 'unsightlinesses', 'unskilfulnesses', 'unsociabilities', 'unsophisticated', 'unsparingnesses', 'unspeakableness', 'unspiritualised', 'unspiritualises', 'unspiritualized', 'unspiritualizes', 'unsportsmanlike', 'unspottednesses', 'unstatesmanlike', 'unsteadfastness', 'unsubstantially', 'unsubstantiated', 'unsuitabilities', 'unsuspectedness', 'unsymmetrically', 'untaintednesses', 'untamablenesses', 'unteachableness', 'untenablenesses', 'unthinkableness', 'unthriftinesses', 'untractableness', 'untraditionally', 'untransferrable', 'untransmigrated', 'untransmissible', 'untrustworthily', 'untunablenesses', 'untunefulnesses', 'unutterableness', 'unverifiability', 'unweariednesses', 'unwelcomenesses', 'unwholesomeness', 'unwieldlinesses', 'unwillingnesses', 'unwittingnesses', 'unwomanlinesses', 'unworkabilities', 'unworldlinesses', 'upgradabilities', 'uterogestations', 'utilitarianised', 'utilitarianises', 'utilitarianisms', 'utilitarianized', 'utilitarianizes', 'utterablenesses', 'valetudinarians', 'valuelessnesses', 'vapourabilities', 'vapourishnesses', 'vascularisation', 'vascularization', 'vasoconstrictor', 'vasodilatations', 'venerablenesses', 'ventriloquially', 'ventriloquising', 'ventriloquistic', 'ventriloquizing', 'venturesomeness', 'venturousnesses', 'veraciousnesses', 'verifiabilities', 'verisimilitudes', 'veritablenesses', 'verminousnesses', 'vernacularising', 'vernacularities', 'vernacularizing', 'versatilenesses', 'verticillasters', 'verticillations', 'vertiginousness', 'vespertilionids', 'vespertilionine', 'vexatiousnesses', 'vibroflotations', 'vicariousnesses', 'vicissitudinary', 'vicissitudinous', 'videoconference', 'videotelephones', 'vindicabilities', 'vindicativeness', 'violinistically', 'viscoelasticity', 'viscosimetrical', 'visionarinesses', 'vitilitigations', 'vitriolisations', 'vitriolizations', 'vivaciousnesses', 'vivisectionally', 'vivisectionists', 'voicelessnesses', 'volatilisations', 'volatilizations', 'voluntarinesses', 'voraciousnesses', 'voyeuristically', 'vulnerabilities', 'wappenschawings', 'warmheartedness', 'warrantableness', 'wasterfulnesses', 'watercolourists', 'waterlessnesses', 'wearisomenesses', 'weatherboarding', 'weatherisations', 'weatherizations', 'weatherlinesses', 'weatherproofing', 'weltanschauungs', 'westernisations', 'westernizations', 'whatchamacallit', 'whimsicalnesses', 'whippersnappers', 'wholesomenesses', 'whoremistresses', 'withdrawnnesses', 'woebegonenesses', 'wonderfulnesses', 'wondermongering', 'worrisomenesses', 'worthlessnesses', 'wrongheadedness', 'xenomorphically', 'xenotransplants', 'xerographically', 'xeroradiography', 'xylotypographic', 'yellowishnesses', 'yieldablenesses', 'zigzaggednesses', 'zinckifications', 'zinjanthropuses', 'zoogeographical', 'zoophysiologies', 'zoophysiologist', 'zoophytological', 'zoophytologists', 'zoopsychologies', 'zygobranchiates', 'zygophyllaceous']\n"
     ]
    }
   ],
   "source": [
    "longest_word = []\n",
    "longest_words = []\n",
    "\n",
    "for word in wordlist:\n",
    "        if len(word) > len(longest_word):\n",
    "            longest_word = word\n",
    "            longest_words = [word]\n",
    "        elif len(word) == len(longest_word):\n",
    "            longest_words.append(word)\n",
    "            \n",
    "print(f\"there are {len(longest_words)} words with {len(longest_word)} characters\")\n",
    "print(\"\")\n",
    "print(longest_words)"
   ]
  },
  {
   "cell_type": "code",
   "execution_count": null,
   "id": "76289ac0",
   "metadata": {},
   "outputs": [],
   "source": [
    "# 6 - palindromes "
   ]
  },
  {
   "cell_type": "code",
   "execution_count": 198,
   "id": "d4b06a3f",
   "metadata": {},
   "outputs": [
    {
     "name": "stdout",
     "output_type": "stream",
     "text": [
      "there are 10 palindromes with greater than 6 characters\n",
      "\n",
      "['deified', 'hadedah', 'halalah', 'reifier', 'repaper', 'reviver', 'rotator', 'rotavator', 'seities', 'sememes']\n"
     ]
    }
   ],
   "source": [
    "# i did look up the code for this, attempts shown in next cell\n",
    "\n",
    "palindromes = []\n",
    "\n",
    "for item in wordlist:\n",
    "    if len(item) > 6:\n",
    "        # i know that the double colon means [start:stop:step] which to my understanding means it's comparing \n",
    "        # the first digit to the last digit and then \"stepping\" inward whatever number of digits i assign \n",
    "        # (in this case 1) and comparing them to each other and so on and so forth\n",
    "        if item == item[::-1]:\n",
    "            palindromes.append(item)\n",
    "            \n",
    "print(f\"there are {len(palindromes)} palindromes with greater than 6 characters\")\n",
    "print(\"\")\n",
    "print(palindromes)"
   ]
  },
  {
   "cell_type": "code",
   "execution_count": 192,
   "id": "09a5d81b",
   "metadata": {},
   "outputs": [
    {
     "name": "stdout",
     "output_type": "stream",
     "text": [
      "1 palindromes\n",
      "manoonam\n",
      "\n",
      "0 words\n",
      "\n",
      "3 words\n",
      "monom\n",
      "caoc\n",
      "manoonam\n",
      "\n",
      "0 words\n",
      "\n",
      "0 palindromes\n",
      "\n"
     ]
    }
   ],
   "source": [
    "# failed palindrome attempts\n",
    "\n",
    "# attempt 1 - this is how i really wanted to solve it but could NOT figure it out\n",
    "test = [\"monom\", \"caoc\", \"mountain\", \"manoonam\"]\n",
    "palindromes = []\n",
    "\n",
    "for word in test:\n",
    "    if word[-1:] == word[0]:\n",
    "        if len(word) > 6:\n",
    "            palindromes.append(word)\n",
    "        \n",
    "print(f\"{len(palindromes)} palindromes\")\n",
    "\n",
    "for palindrome in palindromes:\n",
    "    print(palindrome)\n",
    "    \n",
    "print(\"\")\n",
    "\n",
    "# attempt 2\n",
    "test = [\"monom\", \"caoc\", \"mountain\", \"manoonam\"]\n",
    "matches = []\n",
    "\n",
    "for item in test:\n",
    "    if item[-1:] == item[0] and item[-2:] == item[1]:\n",
    "        matches.append(item)\n",
    "        \n",
    "print(f\"{len(matches)} words\")\n",
    "\n",
    "for match in matches:\n",
    "    print(match)\n",
    "    \n",
    "print(\"\")\n",
    "    \n",
    "# attempt 3\n",
    "test = [\"monom\", \"caoc\", \"mountain\", \"manoonam\"]\n",
    "matches = []\n",
    "\n",
    "for item in test:\n",
    "    if item[-1:] == item[0]:\n",
    "        matches.append(item)\n",
    "        for item in matches:\n",
    "            if item[-2:] == item[1]:\n",
    "                matches.append(item)\n",
    "        \n",
    "print(f\"{len(matches)} words\")\n",
    "\n",
    "for match in matches:\n",
    "    print(match)\n",
    "    \n",
    "print(\"\")\n",
    "    \n",
    "# attempt 4\n",
    "test = [\"monom\", \"caoc\", \"mountain\", \"manoonam\"]\n",
    "matches = []\n",
    "\n",
    "for item in test:\n",
    "    if item[:0] == item[-1]:\n",
    "        matches.append(item)\n",
    "        \n",
    "print(f\"{len(matches)} words\")\n",
    "\n",
    "for match in matches:\n",
    "    print(match)\n",
    "    \n",
    "print(\"\")\n",
    "    \n",
    "\n",
    "# attempt 5 - why doesn't this work\n",
    "test = [\"monom\", \"caoc\", \"mountain\", \"manoonam\"]\n",
    "palindromes = []\n",
    "\n",
    "for word in test:\n",
    "    if word[-2:] == word[1]:\n",
    "        palindromes.append(word)\n",
    "        \n",
    "print(f\"{len(palindromes)} palindromes\")\n",
    "\n",
    "for palindrome in palindromes:\n",
    "    print(palindrome)\n",
    "    \n",
    "print(\"\")"
   ]
  },
  {
   "cell_type": "code",
   "execution_count": 228,
   "id": "4d37b344",
   "metadata": {},
   "outputs": [],
   "source": [
    "# 7 - something fun "
   ]
  },
  {
   "cell_type": "code",
   "execution_count": 165,
   "id": "61f01134",
   "metadata": {},
   "outputs": [
    {
     "name": "stdout",
     "output_type": "stream",
     "text": [
      "fashion\n",
      "\n",
      "there are 59 words with 6 or more s'\n",
      "['assessorships', 'assiduousnesses', 'baselessnesses', 'causelessnesses', 'ceaselessnesses', 'classlessness', 'classlessnesses', 'dispossesses', 'dispossessions', 'dispossessors', 'houselessnesses', 'listlessnesses', 'missishnesses', 'noiselessnesses', 'obsessivenesses', 'passionlessness', 'possessedness', 'possessednesses', 'possessionless', 'possessiveness', 'possessorships', 'pulselessnesses', 'resistlessness', 'restlessnesses', 'saplessnesses', 'sassinesses', 'scentlessnesses', 'seamlessnesses', 'selflessnesses', 'senselessness', 'senselessnesses', 'sensuousnesses', 'sexlessnesses', 'shamelessnesses', 'shapelessnesses', 'shiftlessnesses', 'sightlessnesses', 'sinlessnesses', 'sissinesses', 'sissynesses', 'skillessnesses', 'sleeplessnesses', 'smokelessnesses', 'soullessnesses', 'soundlessnesses', 'spinelessnesses', 'spotlessnesses', 'stainlessnesses', 'statelessnesses', 'stonelessnesses', 'stressfulnesses', 'stresslessness', 'stylelessnesses', 'submissnesses', 'successlessness', 'sunlessnesses', 'tastelessnesses', 'trustlessnesses', 'uselessnesses']\n"
     ]
    }
   ],
   "source": [
    "# the second of two words that end in 'shion'\n",
    "\n",
    "fun_list = []\n",
    "for fun in wordlist:\n",
    "    if fun[-5:] == \"shion\":\n",
    "        fun_list.append(fun)\n",
    "\n",
    "print(fun_list[2])\n",
    "\n",
    "print(\"\")\n",
    "\n",
    "# words with 6 or more s'\n",
    "\n",
    "six_s = [] \n",
    "for six in wordlist:\n",
    "    counter = 0\n",
    "    for letters in six:\n",
    "        if letters == \"s\":\n",
    "            counter = counter + 1\n",
    "    if counter >= 6:\n",
    "        six_s.append(six)\n",
    "\n",
    "print(f\"there are {len(six_s)} words with 6 or more s'\")\n",
    "print(six_s)"
   ]
  }
 ],
 "metadata": {
  "kernelspec": {
   "display_name": "Python 3 (ipykernel)",
   "language": "python",
   "name": "python3"
  },
  "language_info": {
   "codemirror_mode": {
    "name": "ipython",
    "version": 3
   },
   "file_extension": ".py",
   "mimetype": "text/x-python",
   "name": "python",
   "nbconvert_exporter": "python",
   "pygments_lexer": "ipython3",
   "version": "3.10.9"
  }
 },
 "nbformat": 4,
 "nbformat_minor": 5
}
