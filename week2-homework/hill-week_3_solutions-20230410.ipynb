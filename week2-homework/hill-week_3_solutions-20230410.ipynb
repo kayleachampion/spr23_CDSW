{
 "cells": [
  {
   "cell_type": "markdown",
   "id": "attempted-laptop",
   "metadata": {},
   "source": [
    "If you build a new book, you will need to (a) keep it in the same directory as this file and (b) copy the cell immediately below into your notebook so that you also import the wordlist into your notebook. Unless you do that, you will not have the wordlist file."
   ]
  },
  {
   "cell_type": "code",
   "execution_count": 1,
   "id": "operating-compatibility",
   "metadata": {},
   "outputs": [],
   "source": [
    "# this code imports the wordlist into a new list called wordlist\n",
    "from scrabble import wordlist"
   ]
  },
  {
   "cell_type": "markdown",
   "id": "positive-drawing",
   "metadata": {},
   "source": [
    "# 1 Alls well that ends well\n",
    "## 1.1 Find and print the words that end in \"well\" and be ready to tell me how many there are."
   ]
  },
  {
   "cell_type": "code",
   "execution_count": 2,
   "id": "engaged-trade",
   "metadata": {},
   "outputs": [
    {
     "name": "stdout",
     "output_type": "stream",
     "text": [
      "RESULT: 23 words end with \"well\"\n",
      "['bridewell', 'drywell', 'dwell', 'farewell', 'footwell', 'gromwell', 'groundswell', 'indwell', 'inkwell', 'maxwell', 'newell', 'outdwell', 'outswell', 'outwell', 'overswell', 'pinswell', 'speedwell', 'stairwell', 'swell', 'unwell', 'upswell', 'upwell', 'well']\n"
     ]
    }
   ],
   "source": [
    "# copied and pasted and modified from example 1\n",
    "matches = []\n",
    "for word in wordlist:\n",
    "    if word[-4:] == \"well\":\n",
    "        matches.append(word)\n",
    "print(f'RESULT: {len(matches)} words end with \"well\"')\n",
    "print(matches)"
   ]
  },
  {
   "cell_type": "markdown",
   "id": "viral-blend",
   "metadata": {},
   "source": [
    "## 1.2How about \"mt\"?"
   ]
  },
  {
   "cell_type": "code",
   "execution_count": 3,
   "id": "miniature-youth",
   "metadata": {},
   "outputs": [
    {
     "name": "stdout",
     "output_type": "stream",
     "text": [
      "RESULT: 5 words end with \"mt\"\n",
      "['daydreamt', 'dreamt', 'outdreamt', 'redreamt', 'undreamt']\n"
     ]
    }
   ],
   "source": [
    "# copied and pasted and modified from example 1\n",
    "matches = []\n",
    "for word in wordlist:\n",
    "    if word[-2:] == \"mt\":\n",
    "        matches.append(word)\n",
    "print(f'RESULT: {len(matches)} words end with \"mt\"')\n",
    "print(matches)"
   ]
  },
  {
   "cell_type": "markdown",
   "id": "tropical-failing",
   "metadata": {},
   "source": [
    "## 1.3 How about \"gry\"?"
   ]
  },
  {
   "cell_type": "code",
   "execution_count": 4,
   "id": "comparative-height",
   "metadata": {},
   "outputs": [
    {
     "name": "stdout",
     "output_type": "stream",
     "text": [
      "RESULT: 5 words end with \"gry\"\n",
      "['aggry', 'ahungry', 'angry', 'hungry', 'puggry']\n"
     ]
    }
   ],
   "source": [
    "# copied and pasted and modified from example 1\n",
    "matches = []\n",
    "for word in wordlist:\n",
    "    if word[-3:] == \"gry\":\n",
    "        matches.append(word)\n",
    "print(f'RESULT: {len(matches)} words end with \"gry\"')\n",
    "print(matches)"
   ]
  },
  {
   "cell_type": "markdown",
   "id": "concerned-afternoon",
   "metadata": {},
   "source": [
    "# 2 Counting vowels\n",
    "## 2.1 How many words start with each vowel? Which is the most common vowel to find at the beginning of a word?"
   ]
  },
  {
   "cell_type": "code",
   "execution_count": 5,
   "id": "conditional-scholar",
   "metadata": {},
   "outputs": [],
   "source": [
    "# we'll use this for all of the of the number 2 answers\n",
    "vowels = [\"a\", \"e\", \"i\", \"o\", \"u\"]"
   ]
  },
  {
   "cell_type": "code",
   "execution_count": 6,
   "id": "excited-radar",
   "metadata": {},
   "outputs": [
    {
     "name": "stdout",
     "output_type": "stream",
     "text": [
      "a : 15723\n",
      "e : 11030\n",
      "i : 9390\n",
      "o : 8604\n",
      "u : 9070\n"
     ]
    }
   ],
   "source": [
    "for vowel in vowels:\n",
    "    counter = 0\n",
    "    # Print all words containing \n",
    "    for word in wordlist:\n",
    "        if vowel == word[0]:\n",
    "            counter = counter + 1\n",
    "    print(f'{vowel} : {counter}')"
   ]
  },
  {
   "cell_type": "code",
   "execution_count": 7,
   "id": "complete-contrary",
   "metadata": {},
   "outputs": [],
   "source": [
    "## 2.2 Which is the most common vowel to find at the end of a word?"
   ]
  },
  {
   "cell_type": "code",
   "execution_count": 8,
   "id": "direct-manor",
   "metadata": {},
   "outputs": [
    {
     "name": "stdout",
     "output_type": "stream",
     "text": [
      "a : 5312\n",
      "e : 27350\n",
      "i : 1474\n",
      "o : 1783\n",
      "u : 354\n"
     ]
    }
   ],
   "source": [
    "for vowel in vowels:\n",
    "    counter = 0\n",
    "    # Print all words containing \n",
    "    for word in wordlist:\n",
    "        if vowel == word[-1]:\n",
    "            counter = counter + 1\n",
    "    print(f'{vowel} : {counter}')"
   ]
  },
  {
   "cell_type": "code",
   "execution_count": 9,
   "id": "promotional-intake",
   "metadata": {},
   "outputs": [],
   "source": [
    "## 2.3 Find and print all the words that have all 5 vowels in alphabetical order."
   ]
  },
  {
   "cell_type": "code",
   "execution_count": 10,
   "id": "interesting-insured",
   "metadata": {},
   "outputs": [
    {
     "name": "stdout",
     "output_type": "stream",
     "text": [
      "abstemious\n",
      "abstemiously\n",
      "abstemiousness\n",
      "abstentious\n",
      "adventitious\n",
      "adventitiously\n",
      "aeruginous\n",
      "amentiferous\n",
      "androdioecious\n",
      "andromonoecious\n",
      "anemophilous\n",
      "antenniferous\n",
      "antireligious\n",
      "arenicolous\n",
      "argentiferous\n",
      "arsenious\n",
      "arteriovenous\n",
      "asclepiadaceous\n",
      "autecious\n",
      "autoecious\n",
      "autoeciously\n",
      "bacteriophagous\n",
      "caesious\n",
      "cavernicolous\n",
      "chaetiferous\n",
      "facetious\n",
      "facetiously\n",
      "facetiousness\n",
      "facetiousnesses\n",
      "facinerious\n",
      "flagelliferous\n",
      "garnetiferous\n",
      "halfseriously\n",
      "hamamelidaceous\n",
      "lateritious\n",
      "parecious\n",
      "paroecious\n",
      "quadrigeminous\n",
      "sacrilegious\n",
      "sacrilegiously\n",
      "sarraceniaceous\n",
      "ultraserious\n",
      "valerianaceous\n"
     ]
    }
   ],
   "source": [
    "for word in wordlist:\n",
    "    seen_a = False\n",
    "    seen_e = False\n",
    "    seen_i = False\n",
    "    seen_o = False\n",
    "    seen_u = False\n",
    "    \n",
    "    for letter in word:\n",
    "        if seen_o and letter == \"u\":\n",
    "            seen_u = True\n",
    "        elif seen_i and letter == \"o\":\n",
    "            seen_o = True\n",
    "        elif seen_e and letter == \"i\":\n",
    "            seen_i = True\n",
    "        elif seen_a and letter == \"e\":\n",
    "            seen_e = True\n",
    "        elif letter == \"a\":\n",
    "            seen_a = True\n",
    "    \n",
    "    if seen_u:\n",
    "        print(word)"
   ]
  },
  {
   "cell_type": "markdown",
   "id": "previous-conducting",
   "metadata": {},
   "source": [
    "Josh pointed out in class that I could do this by rearranging the if statement and he's totally right! I think this one is a bit easier to read:"
   ]
  },
  {
   "cell_type": "code",
   "execution_count": 11,
   "id": "phantom-celtic",
   "metadata": {},
   "outputs": [
    {
     "name": "stdout",
     "output_type": "stream",
     "text": [
      "abstemious\n",
      "abstemiously\n",
      "abstemiousness\n",
      "abstentious\n",
      "adventitious\n",
      "adventitiously\n",
      "aeruginous\n",
      "amentiferous\n",
      "androdioecious\n",
      "andromonoecious\n",
      "anemophilous\n",
      "antenniferous\n",
      "antireligious\n",
      "arenicolous\n",
      "argentiferous\n",
      "arsenious\n",
      "arteriovenous\n",
      "asclepiadaceous\n",
      "autecious\n",
      "autoecious\n",
      "autoeciously\n",
      "bacteriophagous\n",
      "caesious\n",
      "cavernicolous\n",
      "chaetiferous\n",
      "facetious\n",
      "facetiously\n",
      "facetiousness\n",
      "facetiousnesses\n",
      "facinerious\n",
      "flagelliferous\n",
      "garnetiferous\n",
      "halfseriously\n",
      "hamamelidaceous\n",
      "lateritious\n",
      "parecious\n",
      "paroecious\n",
      "quadrigeminous\n",
      "sacrilegious\n",
      "sacrilegiously\n",
      "sarraceniaceous\n",
      "ultraserious\n",
      "valerianaceous\n"
     ]
    }
   ],
   "source": [
    "for word in wordlist:\n",
    "    seen_a = False\n",
    "    seen_e = False\n",
    "    seen_i = False\n",
    "    seen_o = False\n",
    "    seen_u = False\n",
    "    \n",
    "    for letter in word:\n",
    "        if letter == \"a\":\n",
    "            seen_a = True\n",
    "        elif seen_a and letter == \"e\":\n",
    "            seen_e = True\n",
    "        elif seen_e and letter == \"i\":\n",
    "            seen_i = True\n",
    "        elif seen_i and letter == \"o\":\n",
    "            seen_o = True\n",
    "        elif seen_o and letter == \"u\":\n",
    "            seen_u = True\n",
    "\n",
    "    if seen_u:\n",
    "        print(word)"
   ]
  },
  {
   "cell_type": "markdown",
   "id": "psychological-vehicle",
   "metadata": {},
   "source": [
    "# 3 Disemvoweled\n",
    "\n",
    "Find and print the longest word that has no vowels."
   ]
  },
  {
   "cell_type": "code",
   "execution_count": 12,
   "id": "objective-resource",
   "metadata": {},
   "outputs": [
    {
     "name": "stdout",
     "output_type": "stream",
     "text": [
      "glycyls\n",
      "nymphly\n",
      "rhythms\n",
      "tsktsks\n"
     ]
    }
   ],
   "source": [
    "no_vowel_words = []\n",
    "for word in wordlist:\n",
    "    has_vowels = False\n",
    "    for vowel in vowels:\n",
    "        if vowel in word:\n",
    "            has_vowels = True\n",
    "    if not has_vowels:\n",
    "        no_vowel_words.append(word)\n",
    "\n",
    "longest_match_len = 0\n",
    "for word in no_vowel_words:\n",
    "    if len(word) > longest_match_len:\n",
    "        longest_match_len = len(word)\n",
    "\n",
    "for word in no_vowel_words:\n",
    "    if len(word) == longest_match_len:\n",
    "            print(word)"
   ]
  },
  {
   "cell_type": "markdown",
   "id": "internal-occasion",
   "metadata": {},
   "source": [
    "### Example 1: Let's come up with a program to tell us how many words start with \"aa\""
   ]
  },
  {
   "cell_type": "markdown",
   "id": "collective-belfast",
   "metadata": {},
   "source": [
    "# 4 A cure for all ells\n",
    "## 4.1 Find and print the words that contain 4 or more 'l's."
   ]
  },
  {
   "cell_type": "code",
   "execution_count": 13,
   "id": "mounted-change",
   "metadata": {},
   "outputs": [
    {
     "name": "stdout",
     "output_type": "stream",
     "text": [
      "alcoholically\n",
      "algologically\n",
      "allegorically\n",
      "allhallond\n",
      "allhallowen\n",
      "allhallown\n",
      "allhollown\n",
      "allopathically\n",
      "allopatrically\n",
      "allopolyploid\n",
      "allopolyploids\n",
      "allopolyploidy\n",
      "allosterically\n",
      "allotropically\n",
      "allotypically\n",
      "allychollies\n",
      "allycholly\n",
      "balletically\n",
      "ballistically\n",
      "bellpull\n",
      "bellpulls\n",
      "catallactically\n",
      "cellulolytic\n",
      "collaterally\n",
      "collegially\n",
      "collisionally\n",
      "colloidally\n",
      "colloquially\n",
      "corollifloral\n",
      "dillydallied\n",
      "dillydallies\n",
      "dillydally\n",
      "dillydallying\n",
      "dullsville\n",
      "dullsvilles\n",
      "elliptically\n",
      "extracellularly\n",
      "fallalishly\n",
      "hallalled\n",
      "hallalling\n",
      "hillbillies\n",
      "hillbilly\n",
      "holoblastically\n",
      "hullaballoo\n",
      "hullaballoos\n",
      "idyllically\n",
      "illegally\n",
      "illiberally\n",
      "illogically\n",
      "intellectually\n",
      "intracellularly\n",
      "jellyroll\n",
      "jellyrolls\n",
      "lallapalooza\n",
      "lallapaloozas\n",
      "lamellarly\n",
      "lamellately\n",
      "lamellirostral\n",
      "legalistically\n",
      "lexicologically\n",
      "libellously\n",
      "lignocellulose\n",
      "lignocelluloses\n",
      "lignocellulosic\n",
      "ligulifloral\n",
      "limnologically\n",
      "lithologically\n",
      "loblollies\n",
      "loblolly\n",
      "lollapalooza\n",
      "lollapaloozas\n",
      "lollingly\n",
      "melancholically\n",
      "mellifluently\n",
      "mellifluously\n",
      "metallically\n",
      "metallurgically\n",
      "methylcellulose\n",
      "millefeuille\n",
      "millefeuilles\n",
      "millennially\n",
      "millesimally\n",
      "multicellular\n",
      "multilaterally\n",
      "multilingually\n",
      "multimillennial\n",
      "palynologically\n",
      "parallactically\n",
      "parallelled\n",
      "parallelling\n",
      "parallelly\n",
      "pellmell\n",
      "pellmells\n",
      "phallically\n",
      "philatelically\n",
      "philologically\n",
      "plasmolytically\n",
      "pluralistically\n",
      "polysyllabical\n",
      "polysyllable\n",
      "polysyllables\n",
      "pralltriller\n",
      "pralltrillers\n",
      "premillennially\n",
      "rollcollar\n",
      "rollcollars\n",
      "rollerball\n",
      "rollerballs\n",
      "shillyshallied\n",
      "shillyshallier\n",
      "shillyshalliers\n",
      "shillyshallies\n",
      "shillyshally\n",
      "shillyshallying\n",
      "silviculturally\n",
      "skillfully\n",
      "stellularly\n",
      "syllabically\n",
      "sylleptically\n",
      "syllogistically\n",
      "teleologically\n",
      "trisyllabically\n",
      "unfulfillable\n",
      "unskillfully\n",
      "valpolicella\n",
      "valpolicellas\n",
      "vexillological\n",
      "villanella\n",
      "villanellas\n",
      "villanelle\n",
      "villanelles\n",
      "volleyball\n",
      "volleyballs\n",
      "wallyball\n",
      "wallyballs\n",
      "willfully\n"
     ]
    }
   ],
   "source": [
    "matches = []\n",
    "for word in wordlist:\n",
    "    number_of_ells = 0\n",
    "    for letter in word:\n",
    "        if letter == \"l\":\n",
    "            number_of_ells = number_of_ells + 1\n",
    "    if number_of_ells >= 4:\n",
    "        matches.append(word)\n",
    "        print(word)"
   ]
  },
  {
   "cell_type": "markdown",
   "id": "organized-vacation",
   "metadata": {},
   "source": [
    "## 4.2 How many are there?"
   ]
  },
  {
   "cell_type": "code",
   "execution_count": 14,
   "id": "friendly-smooth",
   "metadata": {},
   "outputs": [
    {
     "name": "stdout",
     "output_type": "stream",
     "text": [
      "the total number of words with 4 ells: 136\n"
     ]
    }
   ],
   "source": [
    "print(f\"the total number of words with 4 ells: {len(matches)}\")"
   ]
  },
  {
   "cell_type": "markdown",
   "id": "printable-windows",
   "metadata": {},
   "source": [
    "# 5 So long\n",
    "## 5.1 What is the longest word in the word list you've been given? How long is it?"
   ]
  },
  {
   "cell_type": "code",
   "execution_count": 15,
   "id": "spread-forestry",
   "metadata": {},
   "outputs": [
    {
     "name": "stdout",
     "output_type": "stream",
     "text": [
      "length of longest word: 15\n"
     ]
    }
   ],
   "source": [
    "longest_word_length = 0\n",
    "number_of_longest_words = 0\n",
    "for word in wordlist:\n",
    "    if len(word) > longest_word_length:\n",
    "        longest_word_length = len(word)\n",
    "        number_of_longest_words = 1\n",
    "    elif len(word) == longest_word_length:\n",
    "        number_of_longest_words = number_of_longest_words + 1\n",
    "\n",
    "print(\"length of longest word:\", longest_word_length)"
   ]
  },
  {
   "cell_type": "markdown",
   "id": "steady-translation",
   "metadata": {},
   "source": [
    "## 5.2 Are there more than one word of that length? If so, tell me how many are that exactly that long."
   ]
  },
  {
   "cell_type": "code",
   "execution_count": 16,
   "id": "forbidden-triumph",
   "metadata": {},
   "outputs": [
    {
     "name": "stdout",
     "output_type": "stream",
     "text": [
      "number of longest words: 5757\n"
     ]
    }
   ],
   "source": [
    "if number_of_longest_words > 1:\n",
    "    print(\"number of longest words:\", number_of_longest_words)"
   ]
  },
  {
   "cell_type": "markdown",
   "id": "generic-constitutional",
   "metadata": {},
   "source": [
    "# 6 Palindromes\n",
    "## 6.1 Print out a list of every palindrome (a word that is the same reversed) that's over 6 letters in length."
   ]
  },
  {
   "cell_type": "code",
   "execution_count": 17,
   "id": "canadian-illinois",
   "metadata": {},
   "outputs": [
    {
     "name": "stdout",
     "output_type": "stream",
     "text": [
      "deified\n",
      "hadedah\n",
      "halalah\n",
      "reifier\n",
      "repaper\n",
      "reviver\n",
      "rotator\n",
      "rotavator\n",
      "seities\n",
      "sememes\n"
     ]
    }
   ],
   "source": [
    "num_palindromes = 0\n",
    "# a palindrome is just a reversed string so lets first reverse the string and then check to see if matches\n",
    "for word in wordlist:\n",
    "    word_reversed = \"\"\n",
    "    for letter in word:\n",
    "        word_reversed = letter + word_reversed # append letter to the end\n",
    "        \n",
    "    if len(word) > 6:\n",
    "        if word == word_reversed:\n",
    "            num_palindromes = num_palindromes + 1\n",
    "            print(word)"
   ]
  },
  {
   "cell_type": "markdown",
   "id": "narrow-decimal",
   "metadata": {},
   "source": [
    "## 6.2 How many are there?"
   ]
  },
  {
   "cell_type": "code",
   "execution_count": 18,
   "id": "considered-laugh",
   "metadata": {},
   "outputs": [
    {
     "name": "stdout",
     "output_type": "stream",
     "text": [
      "there are 10 palindromes greater than 6 letters\n"
     ]
    }
   ],
   "source": [
    "print(f\"there are {num_palindromes} palindromes greater than 6 letters\")"
   ]
  },
  {
   "cell_type": "markdown",
   "id": "nearby-fashion",
   "metadata": {},
   "source": [
    "# 7 Something fun\n",
    "I picked \"Word with three consecutive double letters.\""
   ]
  },
  {
   "cell_type": "code",
   "execution_count": 19,
   "id": "thorough-optimum",
   "metadata": {},
   "outputs": [
    {
     "name": "stdout",
     "output_type": "stream",
     "text": [
      "bookkeeper\n",
      "bookkeepers\n",
      "bookkeeping\n",
      "bookkeepings\n"
     ]
    }
   ],
   "source": [
    "# temporary_wordlist = [\"xxyybookkeeper\"]\n",
    "for word in wordlist:\n",
    "    prev_letter = \"\" # we'll set this to blank\n",
    "    num_conseq_double_letters = 0\n",
    "    conseq_doubled = True\n",
    "    \n",
    "    for letter in word:\n",
    "        # print(\"pre\", prev_letter, letter, num_conseq_double_letters, conseq_doubled)\n",
    "        if letter == prev_letter:\n",
    "            # if this isn't our first run on consequetive letters, we can reset\n",
    "            if not conseq_doubled and num_conseq_double_letters > 0:\n",
    "                num_conseq_double_letters = 0\n",
    "            num_conseq_double_letters = num_conseq_double_letters + 1\n",
    "            conseq_doubled = True\n",
    "            prev_letter = \"\" ## we'll reset this\n",
    "        elif prev_letter and prev_letter != letter: # it's defined but it's not doubled\n",
    "            conseq_doubled = False\n",
    "            prev_letter = letter\n",
    "        else:\n",
    "            prev_letter = letter\n",
    "        #print(\"post\", prev_letter, num_conseq_double_letters, conseq_doubled)\n",
    "        \n",
    "        \n",
    "    if num_conseq_double_letters >= 3:\n",
    "        print(word)"
   ]
  }
 ],
 "metadata": {
  "kernelspec": {
   "display_name": "Python 3",
   "language": "python",
   "name": "python3"
  },
  "language_info": {
   "codemirror_mode": {
    "name": "ipython",
    "version": 3
   },
   "file_extension": ".py",
   "mimetype": "text/x-python",
   "name": "python",
   "nbconvert_exporter": "python",
   "pygments_lexer": "ipython3",
   "version": "3.9.2"
  }
 },
 "nbformat": 4,
 "nbformat_minor": 5
}
