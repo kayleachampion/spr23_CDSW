{
 "cells": [
  {
   "cell_type": "markdown",
   "id": "attempted-laptop",
   "metadata": {},
   "source": [
    "If you build a new book, you will need to (a) keep it in the same directory as this file and (b) copy the cell immediately below into your notebook so that you also import the wordlist into your notebook. Unless you do that, you will not have the wordlist file."
   ]
  },
  {
   "cell_type": "code",
   "execution_count": 11,
   "id": "addressed-point",
   "metadata": {},
   "outputs": [],
   "source": [
    "# this code imports the wordlist into a new list called wordlist\n",
    "from scrabble import wordlist"
   ]
  },
  {
   "cell_type": "markdown",
   "id": "internal-occasion",
   "metadata": {},
   "source": [
    "### Example 1: Let's come up with a program to tell us how many words start with \"aa\""
   ]
  },
  {
   "cell_type": "code",
   "execution_count": 12,
   "id": "atlantic-burner",
   "metadata": {},
   "outputs": [
    {
     "data": {
      "text/plain": [
       "21"
      ]
     },
     "execution_count": 12,
     "metadata": {},
     "output_type": "execute_result"
    }
   ],
   "source": [
    "matches = []\n",
    "for word in wordlist:\n",
    "    if word[0:2] == \"aa\":\n",
    "        matches.append(word)\n",
    "len(matches)"
   ]
  },
  {
   "cell_type": "code",
   "execution_count": null,
   "id": "combined-bridge",
   "metadata": {},
   "outputs": [],
   "source": [
    "for match in matches:\n",
    "    print(match)"
   ]
  },
  {
   "cell_type": "markdown",
   "id": "valid-resource",
   "metadata": {},
   "source": [
    "## Example 2: print every word that contains two \"l\"s in a row "
   ]
  },
  {
   "cell_type": "code",
   "execution_count": 13,
   "id": "automotive-float",
   "metadata": {},
   "outputs": [
    {
     "data": {
      "text/plain": [
       "12391"
      ]
     },
     "execution_count": 13,
     "metadata": {},
     "output_type": "execute_result"
    }
   ],
   "source": [
    "matches = []\n",
    "\n",
    "substring = \"ll\"\n",
    "# Print all words containing 'l'.\n",
    "for word in wordlist:\n",
    "    if substring in word:\n",
    "        matches.append(word)\n",
    "len(matches)\n"
   ]
  },
  {
   "cell_type": "code",
   "execution_count": 2,
   "id": "functional-analysis",
   "metadata": {},
   "outputs": [
    {
     "name": "stdout",
     "output_type": "stream",
     "text": [
      "[]\n"
     ]
    }
   ],
   "source": [
    "print(matches)"
   ]
  },
  {
   "cell_type": "markdown",
   "id": "equivalent-durham",
   "metadata": {},
   "source": [
    "## Example 3: print out a word if it contains an x, y, or z"
   ]
  },
  {
   "cell_type": "code",
   "execution_count": 14,
   "id": "furnished-philosophy",
   "metadata": {},
   "outputs": [],
   "source": [
    "choice_letters = ['x', 'y', 'z']\n",
    "\n",
    "matches = []\n",
    "for word in wordlist:\n",
    "    has_all_letters = True\n",
    "    for choice_letter in choice_letters:\n",
    "        if choice_letter not in word:\n",
    "            has_all_letters = False\n",
    "    if has_all_letters:\n",
    "        matches.append(word)    "
   ]
  },
  {
   "cell_type": "code",
   "execution_count": 4,
   "id": "flush-throw",
   "metadata": {},
   "outputs": [
    {
     "data": {
      "text/plain": [
       "0"
      ]
     },
     "execution_count": 4,
     "metadata": {},
     "output_type": "execute_result"
    }
   ],
   "source": [
    "len(matches)"
   ]
  },
  {
   "cell_type": "code",
   "execution_count": 5,
   "id": "scenic-trick",
   "metadata": {},
   "outputs": [
    {
     "name": "stdout",
     "output_type": "stream",
     "text": [
      "[]\n"
     ]
    }
   ],
   "source": [
    "print(matches)"
   ]
  },
  {
   "cell_type": "code",
   "execution_count": 15,
   "id": "right-tunisia",
   "metadata": {},
   "outputs": [
    {
     "data": {
      "text/plain": [
       "23"
      ]
     },
     "execution_count": 15,
     "metadata": {},
     "output_type": "execute_result"
    }
   ],
   "source": [
    "#1 Alls well that ends well\n",
    "\n",
    "well = []\n",
    "\n",
    "for word in wordlist:\n",
    "    if word[-4:] == \"well\":\n",
    "        well.append(word)\n",
    "len(well)"
   ]
  },
  {
   "cell_type": "code",
   "execution_count": 16,
   "id": "38215de3",
   "metadata": {},
   "outputs": [
    {
     "name": "stdout",
     "output_type": "stream",
     "text": [
      "['bridewell', 'drywell', 'dwell', 'farewell', 'footwell', 'gromwell', 'groundswell', 'indwell', 'inkwell', 'maxwell', 'newell', 'outdwell', 'outswell', 'outwell', 'overswell', 'pinswell', 'speedwell', 'stairwell', 'swell', 'unwell', 'upswell', 'upwell', 'well']\n"
     ]
    }
   ],
   "source": [
    "print(well)"
   ]
  },
  {
   "cell_type": "code",
   "execution_count": 17,
   "id": "0e1f70de",
   "metadata": {},
   "outputs": [
    {
     "data": {
      "text/plain": [
       "5"
      ]
     },
     "execution_count": 17,
     "metadata": {},
     "output_type": "execute_result"
    }
   ],
   "source": [
    "mt = []\n",
    "\n",
    "for word in wordlist:\n",
    "    if word[-2:] == \"mt\":\n",
    "        mt.append(word)\n",
    "len(mt)"
   ]
  },
  {
   "cell_type": "code",
   "execution_count": 18,
   "id": "9dd39c13",
   "metadata": {},
   "outputs": [
    {
     "name": "stdout",
     "output_type": "stream",
     "text": [
      "['daydreamt', 'dreamt', 'outdreamt', 'redreamt', 'undreamt']\n"
     ]
    }
   ],
   "source": [
    "print(mt)"
   ]
  },
  {
   "cell_type": "code",
   "execution_count": 19,
   "id": "9ddd771f",
   "metadata": {},
   "outputs": [
    {
     "data": {
      "text/plain": [
       "5"
      ]
     },
     "execution_count": 19,
     "metadata": {},
     "output_type": "execute_result"
    }
   ],
   "source": [
    "gry = []\n",
    "\n",
    "for word in wordlist:\n",
    "    if word[-3:] == \"gry\":\n",
    "        gry.append(word)\n",
    "len(gry)"
   ]
  },
  {
   "cell_type": "code",
   "execution_count": 20,
   "id": "9bca9db9",
   "metadata": {},
   "outputs": [
    {
     "name": "stdout",
     "output_type": "stream",
     "text": [
      "['aggry', 'ahungry', 'angry', 'hungry', 'puggry']\n"
     ]
    }
   ],
   "source": [
    "print(gry)"
   ]
  },
  {
   "cell_type": "code",
   "execution_count": 11,
   "id": "5e880517",
   "metadata": {},
   "outputs": [
    {
     "data": {
      "text/plain": [
       "15723"
      ]
     },
     "execution_count": 11,
     "metadata": {},
     "output_type": "execute_result"
    }
   ],
   "source": [
    "#2 Counting vowels\n",
    "start = []\n",
    "for word in wordlist:\n",
    "    if word[0] == \"a\":\n",
    "        start.append(word)\n",
    "len(start)"
   ]
  },
  {
   "cell_type": "code",
   "execution_count": 12,
   "id": "48023377",
   "metadata": {},
   "outputs": [
    {
     "data": {
      "text/plain": [
       "11030"
      ]
     },
     "execution_count": 12,
     "metadata": {},
     "output_type": "execute_result"
    }
   ],
   "source": [
    "start = []\n",
    "for word in wordlist:\n",
    "    if word[0] == \"e\":\n",
    "        start.append(word)\n",
    "len(start)"
   ]
  },
  {
   "cell_type": "code",
   "execution_count": 13,
   "id": "5e409b39",
   "metadata": {},
   "outputs": [
    {
     "data": {
      "text/plain": [
       "9390"
      ]
     },
     "execution_count": 13,
     "metadata": {},
     "output_type": "execute_result"
    }
   ],
   "source": [
    "start = []\n",
    "for word in wordlist:\n",
    "    if word[0] == \"i\":\n",
    "        start.append(word)\n",
    "len(start)"
   ]
  },
  {
   "cell_type": "code",
   "execution_count": 14,
   "id": "6a1d8b92",
   "metadata": {},
   "outputs": [
    {
     "data": {
      "text/plain": [
       "8604"
      ]
     },
     "execution_count": 14,
     "metadata": {},
     "output_type": "execute_result"
    }
   ],
   "source": [
    "start = []\n",
    "for word in wordlist:\n",
    "    if word[0] == \"o\":\n",
    "        start.append(word)\n",
    "len(start)"
   ]
  },
  {
   "cell_type": "code",
   "execution_count": 16,
   "id": "51fca6ec",
   "metadata": {},
   "outputs": [
    {
     "data": {
      "text/plain": [
       "9070"
      ]
     },
     "execution_count": 16,
     "metadata": {},
     "output_type": "execute_result"
    }
   ],
   "source": [
    "start = []\n",
    "for word in wordlist:\n",
    "    if word[0] == \"u\":\n",
    "        start.append(word)\n",
    "len(start)"
   ]
  },
  {
   "cell_type": "code",
   "execution_count": 26,
   "id": "1c3f6bbf",
   "metadata": {},
   "outputs": [],
   "source": [
    "#answer: a is the most common "
   ]
  },
  {
   "cell_type": "code",
   "execution_count": 15,
   "id": "7a0d9c1e",
   "metadata": {},
   "outputs": [
    {
     "data": {
      "text/plain": [
       "5312"
      ]
     },
     "execution_count": 15,
     "metadata": {},
     "output_type": "execute_result"
    }
   ],
   "source": [
    "#2.2 Which is the most common vowel to find at the end of a word?\n",
    "end = []\n",
    "for word in wordlist:\n",
    "    if word[-1] == \"a\":\n",
    "        end.append(word)\n",
    "len(end)"
   ]
  },
  {
   "cell_type": "code",
   "execution_count": 17,
   "id": "b111d1bd",
   "metadata": {},
   "outputs": [
    {
     "data": {
      "text/plain": [
       "27350"
      ]
     },
     "execution_count": 17,
     "metadata": {},
     "output_type": "execute_result"
    }
   ],
   "source": [
    "end = []\n",
    "for word in wordlist:\n",
    "    if word[-1] == \"e\":\n",
    "        end.append(word)\n",
    "len(end)"
   ]
  },
  {
   "cell_type": "code",
   "execution_count": 18,
   "id": "bb59b9a5",
   "metadata": {},
   "outputs": [
    {
     "data": {
      "text/plain": [
       "1474"
      ]
     },
     "execution_count": 18,
     "metadata": {},
     "output_type": "execute_result"
    }
   ],
   "source": [
    "end = []\n",
    "for word in wordlist:\n",
    "    if word[-1] == \"i\":\n",
    "        end.append(word)\n",
    "len(end)"
   ]
  },
  {
   "cell_type": "code",
   "execution_count": 19,
   "id": "bf167f4c",
   "metadata": {},
   "outputs": [
    {
     "data": {
      "text/plain": [
       "1783"
      ]
     },
     "execution_count": 19,
     "metadata": {},
     "output_type": "execute_result"
    }
   ],
   "source": [
    "end = []\n",
    "for word in wordlist:\n",
    "    if word[-1] == \"o\":\n",
    "        end.append(word)\n",
    "len(end)"
   ]
  },
  {
   "cell_type": "code",
   "execution_count": 20,
   "id": "06f3d09e",
   "metadata": {},
   "outputs": [
    {
     "data": {
      "text/plain": [
       "354"
      ]
     },
     "execution_count": 20,
     "metadata": {},
     "output_type": "execute_result"
    }
   ],
   "source": [
    "end = []\n",
    "for word in wordlist:\n",
    "    if word[-1] == \"u\":\n",
    "        end.append(word)\n",
    "len(end)"
   ]
  },
  {
   "cell_type": "code",
   "execution_count": 32,
   "id": "a834b075",
   "metadata": {},
   "outputs": [],
   "source": [
    "#answer: e is the most common vowel to find at the end of a word"
   ]
  },
  {
   "cell_type": "code",
   "execution_count": 4,
   "id": "577ceb2d",
   "metadata": {},
   "outputs": [],
   "source": [
    "from scrabble import wordlist"
   ]
  },
  {
   "cell_type": "code",
   "execution_count": 26,
   "id": "646a22e1",
   "metadata": {},
   "outputs": [
    {
     "name": "stdout",
     "output_type": "stream",
     "text": [
      "abstemious\n",
      "abstemiously\n",
      "abstentious\n",
      "adventitious\n",
      "adventitiously\n",
      "arenicolous\n",
      "arsenious\n",
      "caesious\n",
      "cavernicolous\n",
      "facetious\n",
      "facetiously\n",
      "halfseriously\n",
      "lateritious\n",
      "parecious\n"
     ]
    }
   ],
   "source": [
    "#2.3 Find and print all the words that have all 5 vowels in alphabetical order.\n",
    "vowels = ['a', 'e', 'i', 'o', 'u']\n",
    "for word in wordlist:\n",
    "    contain_all_vowels = True\n",
    "    for v in vowels:\n",
    "        if v not in word:\n",
    "           contain_all_vowels = False\n",
    "           break\n",
    "    if not contain_all_vowels:\n",
    "        continue\n",
    "    temp_c = 'a'\n",
    "    is_order = True\n",
    "    for c in word:\n",
    "        if (c == 'a' or c == 'e' or c ==\n",
    "                'i' or c == 'o' or c == 'u'):\n",
    "          if c < temp_c:\n",
    "                is_order = False\n",
    "                break\n",
    "          else:\n",
    "              temp_c = c  \n",
    "    if is_order:\n",
    "        print(word)"
   ]
  },
  {
   "cell_type": "code",
   "execution_count": 27,
   "id": "f4161104",
   "metadata": {},
   "outputs": [
    {
     "name": "stdout",
     "output_type": "stream",
     "text": [
      "glycyls\n"
     ]
    }
   ],
   "source": [
    "#3 Disemvoweled\n",
    "\n",
    "vowels = ['a', 'e', 'i', 'o', 'u']\n",
    "longest_word = \"\"\n",
    "for word in wordlist:\n",
    "    contain_vowels = False\n",
    "    for v in vowels:\n",
    "        if v in word:\n",
    "           contain_vowels = True\n",
    "           break\n",
    "    if not contain_vowels and len(word) > len(longest_word):\n",
    "        longest_word = word\n",
    "print(longest_word)"
   ]
  },
  {
   "cell_type": "code",
   "execution_count": 32,
   "id": "730dde96",
   "metadata": {},
   "outputs": [
    {
     "name": "stdout",
     "output_type": "stream",
     "text": [
      "alcoholically\n",
      "algologically\n",
      "allegorically\n",
      "allhallond\n",
      "allhallowen\n",
      "allhallown\n",
      "allhollown\n",
      "allopathically\n",
      "allopatrically\n",
      "allopolyploid\n",
      "allopolyploids\n",
      "allopolyploidy\n",
      "allosterically\n",
      "allotropically\n",
      "allotypically\n",
      "allychollies\n",
      "allycholly\n",
      "balletically\n",
      "ballistically\n",
      "bellpull\n",
      "bellpulls\n",
      "catallactically\n",
      "cellulolytic\n",
      "collaterally\n",
      "collegially\n",
      "collisionally\n",
      "colloidally\n",
      "colloquially\n",
      "corollifloral\n",
      "dillydallied\n",
      "dillydallies\n",
      "dillydally\n",
      "dillydallying\n",
      "dullsville\n",
      "dullsvilles\n",
      "elliptically\n",
      "extracellularly\n",
      "fallalishly\n",
      "hallalled\n",
      "hallalling\n",
      "hillbillies\n",
      "hillbilly\n",
      "holoblastically\n",
      "hullaballoo\n",
      "hullaballoos\n",
      "idyllically\n",
      "illegally\n",
      "illiberally\n",
      "illogically\n",
      "intellectually\n",
      "intracellularly\n",
      "jellyroll\n",
      "jellyrolls\n",
      "lallapalooza\n",
      "lallapaloozas\n",
      "lamellarly\n",
      "lamellately\n",
      "lamellirostral\n",
      "legalistically\n",
      "lexicologically\n",
      "libellously\n",
      "lignocellulose\n",
      "lignocelluloses\n",
      "lignocellulosic\n",
      "ligulifloral\n",
      "limnologically\n",
      "lithologically\n",
      "loblollies\n",
      "loblolly\n",
      "lollapalooza\n",
      "lollapaloozas\n",
      "lollingly\n",
      "melancholically\n",
      "mellifluently\n",
      "mellifluously\n",
      "metallically\n",
      "metallurgically\n",
      "methylcellulose\n",
      "millefeuille\n",
      "millefeuilles\n",
      "millennially\n",
      "millesimally\n",
      "multicellular\n",
      "multilaterally\n",
      "multilingually\n",
      "multimillennial\n",
      "palynologically\n",
      "parallactically\n",
      "parallelled\n",
      "parallelling\n",
      "parallelly\n",
      "pellmell\n",
      "pellmells\n",
      "phallically\n",
      "philatelically\n",
      "philologically\n",
      "plasmolytically\n",
      "pluralistically\n",
      "polysyllabical\n",
      "polysyllable\n",
      "polysyllables\n",
      "pralltriller\n",
      "pralltrillers\n",
      "premillennially\n",
      "rollcollar\n",
      "rollcollars\n",
      "rollerball\n",
      "rollerballs\n",
      "shillyshallied\n",
      "shillyshallier\n",
      "shillyshalliers\n",
      "shillyshallies\n",
      "shillyshally\n",
      "shillyshallying\n",
      "silviculturally\n",
      "skillfully\n",
      "stellularly\n",
      "syllabically\n",
      "sylleptically\n",
      "syllogistically\n",
      "teleologically\n",
      "trisyllabically\n",
      "unfulfillable\n",
      "unskillfully\n",
      "valpolicella\n",
      "valpolicellas\n",
      "vexillological\n",
      "villanella\n",
      "villanellas\n",
      "villanelle\n",
      "villanelles\n",
      "volleyball\n",
      "volleyballs\n",
      "wallyball\n",
      "wallyballs\n",
      "willfully\n"
     ]
    }
   ],
   "source": [
    "#4 A cure for many ells\n",
    "words = []\n",
    "for word in wordlist:\n",
    "    count = 0\n",
    "    for c in word:\n",
    "        if c == \"l\":\n",
    "            count = count + 1\n",
    "    if count >= 4:\n",
    "        print(word)\n",
    "        words.append(word)\n",
    "        "
   ]
  },
  {
   "cell_type": "code",
   "execution_count": 33,
   "id": "c140bc03",
   "metadata": {},
   "outputs": [
    {
     "name": "stdout",
     "output_type": "stream",
     "text": [
      "136\n"
     ]
    }
   ],
   "source": [
    "print(len(words))"
   ]
  },
  {
   "cell_type": "code",
   "execution_count": 35,
   "id": "3c306235",
   "metadata": {},
   "outputs": [
    {
     "name": "stdout",
     "output_type": "stream",
     "text": [
      "abiogenetically\n",
      "15\n"
     ]
    }
   ],
   "source": [
    "#5 So long\n",
    "longest_word = \"\"\n",
    "for word in wordlist: \n",
    "    if len(word) > len(longest_word):\n",
    "        longest_word = word\n",
    "print(longest_word)\n",
    "print(len(longest_word))"
   ]
  },
  {
   "cell_type": "code",
   "execution_count": 37,
   "id": "13f1fea0",
   "metadata": {},
   "outputs": [
    {
     "name": "stdout",
     "output_type": "stream",
     "text": [
      "5757\n"
     ]
    }
   ],
   "source": [
    "words_count = 0\n",
    "for word in wordlist: \n",
    "    if len(word) == 15: \n",
    "        words_count = words_count + 1\n",
    "print(words_count)"
   ]
  },
  {
   "cell_type": "code",
   "execution_count": 6,
   "id": "4b731a04",
   "metadata": {},
   "outputs": [
    {
     "name": "stdout",
     "output_type": "stream",
     "text": [
      "['deified', 'hadedah', 'halalah', 'reifier', 'repaper', 'reviver', 'rotator', 'rotavator', 'seities', 'sememes']\n"
     ]
    }
   ],
   "source": [
    "#6 Palindromes\n",
    "from scrabble import wordlist\n",
    "palindromes_list = []\n",
    "for word in wordlist:\n",
    "    left = 0\n",
    "    right = len(word) - 1\n",
    "    while left < right:\n",
    "        if word[left] != word[right]:\n",
    "            break\n",
    "        left = left + 1 \n",
    "        right = right - 1\n",
    "    if left == right and len(word) > 6:\n",
    "       palindromes_list.append(word)\n",
    "print(palindromes_list)"
   ]
  },
  {
   "cell_type": "code",
   "execution_count": 7,
   "id": "7d804a2b",
   "metadata": {},
   "outputs": [
    {
     "name": "stdout",
     "output_type": "stream",
     "text": [
      "10\n"
     ]
    }
   ],
   "source": [
    "print(len(palindromes_list))"
   ]
  },
  {
   "cell_type": "code",
   "execution_count": null,
   "id": "7eff4df9",
   "metadata": {},
   "outputs": [],
   "source": []
  }
 ],
 "metadata": {
  "kernelspec": {
   "display_name": "Python 3 (ipykernel)",
   "language": "python",
   "name": "python3"
  },
  "language_info": {
   "codemirror_mode": {
    "name": "ipython",
    "version": 3
   },
   "file_extension": ".py",
   "mimetype": "text/x-python",
   "name": "python",
   "nbconvert_exporter": "python",
   "pygments_lexer": "ipython3",
   "version": "3.10.9"
  }
 },
 "nbformat": 4,
 "nbformat_minor": 5
}
