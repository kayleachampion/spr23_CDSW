{
 "cells": [
  {
   "cell_type": "markdown",
   "id": "attempted-laptop",
   "metadata": {},
   "source": [
    "If you build a new book, you will need to (a) keep it in the same directory as this file and (b) copy the cell immediately below into your notebook so that you also import the wordlist into your notebook. Unless you do that, you will not have the wordlist file."
   ]
  },
  {
   "cell_type": "code",
   "execution_count": 2,
   "id": "operating-compatibility",
   "metadata": {},
   "outputs": [],
   "source": [
    "# this code imports the wordlist into a new list called wordlist\n",
    "from scrabble import wordlist"
   ]
  },
  {
   "cell_type": "code",
   "execution_count": 1,
   "id": "hairy-ability",
   "metadata": {},
   "outputs": [
    {
     "ename": "NameError",
     "evalue": "name 'wordlist' is not defined",
     "output_type": "error",
     "traceback": [
      "\u001b[1;31m---------------------------------------------------------------------------\u001b[0m",
      "\u001b[1;31mNameError\u001b[0m                                 Traceback (most recent call last)",
      "Cell \u001b[1;32mIn[1], line 1\u001b[0m\n\u001b[1;32m----> 1\u001b[0m \u001b[38;5;28mtype\u001b[39m(\u001b[43mwordlist\u001b[49m)\n",
      "\u001b[1;31mNameError\u001b[0m: name 'wordlist' is not defined"
     ]
    }
   ],
   "source": [
    "type (wordlist)"
   ]
  },
  {
   "cell_type": "markdown",
   "id": "internal-occasion",
   "metadata": {},
   "source": [
    "### Example 1: Let's come up with a program to tell us how many words start with \"aa\""
   ]
  },
  {
   "cell_type": "code",
   "execution_count": 3,
   "id": "atlantic-burner",
   "metadata": {},
   "outputs": [
    {
     "data": {
      "text/plain": [
       "21"
      ]
     },
     "execution_count": 3,
     "metadata": {},
     "output_type": "execute_result"
    }
   ],
   "source": [
    "matches = []\n",
    "for word in wordlist:\n",
    "    if word[0:2] == \"aa\":\n",
    "        matches.append(word)\n",
    "len(matches)"
   ]
  },
  {
   "cell_type": "code",
   "execution_count": 4,
   "id": "combined-bridge",
   "metadata": {},
   "outputs": [
    {
     "name": "stdout",
     "output_type": "stream",
     "text": [
      "['aa', 'aah', 'aahed', 'aahing', 'aahs', 'aal', 'aalii', 'aaliis', 'aals', 'aardvark', 'aardvarks', 'aardwolf', 'aardwolves', 'aargh', 'aarrgh', 'aarrghh', 'aarti', 'aartis', 'aas', 'aasvogel', 'aasvogels']\n"
     ]
    }
   ],
   "source": [
    "print(matches)"
   ]
  },
  {
   "cell_type": "markdown",
   "id": "valid-resource",
   "metadata": {},
   "source": [
    "## Example 2: print every word that contains two \"l\"s in a row "
   ]
  },
  {
   "cell_type": "code",
   "execution_count": 5,
   "id": "automotive-float",
   "metadata": {},
   "outputs": [
    {
     "data": {
      "text/plain": [
       "7"
      ]
     },
     "execution_count": 5,
     "metadata": {},
     "output_type": "execute_result"
    }
   ],
   "source": [
    "matches = []\n",
    "\n",
    "substring = \"mako\"\n",
    "# Print all words containing 'l'.\n",
    "for word in wordlist:\n",
    "    if substring in word:\n",
    "        matches.append(word)\n",
    "len(matches)\n"
   ]
  },
  {
   "cell_type": "code",
   "execution_count": 6,
   "id": "functional-analysis",
   "metadata": {},
   "outputs": [
    {
     "name": "stdout",
     "output_type": "stream",
     "text": [
      "['alexipharmakon', 'alexipharmakons', 'kaikomako', 'korimako', 'mako', 'makos', 'mamako']\n"
     ]
    }
   ],
   "source": [
    "print(matches)"
   ]
  },
  {
   "cell_type": "markdown",
   "id": "equivalent-durham",
   "metadata": {},
   "source": [
    "## Example 3: print out a word if it contains an x, y, and a z (all three of them!)"
   ]
  },
  {
   "cell_type": "code",
   "execution_count": 7,
   "id": "furnished-philosophy",
   "metadata": {},
   "outputs": [
    {
     "name": "stdout",
     "output_type": "stream",
     "text": [
      "deoxygenize\n",
      "deoxygenized\n",
      "deoxygenizes\n",
      "deoxygenizing\n",
      "exoenzyme\n",
      "exoenzymes\n",
      "hydroxyzine\n",
      "hydroxyzines\n",
      "methoxybenzene\n",
      "methoxybenzenes\n",
      "oxygenize\n",
      "oxygenized\n",
      "oxygenizer\n",
      "oxygenizers\n",
      "oxygenizes\n",
      "oxygenizing\n",
      "oxyphenbutazone\n",
      "zanthoxyl\n",
      "zanthoxyls\n",
      "zanthoxylum\n",
      "zanthoxylums\n",
      "zootaxy\n"
     ]
    }
   ],
   "source": [
    "choice_letters = ['x', 'y', 'z']\n",
    "\n",
    "# this time we're going to use a counter, not build a big list\n",
    "match_counter = 0\n",
    "for word in wordlist:\n",
    "    has_all_letters = True\n",
    "    for choice_letter in choice_letters:\n",
    "        if choice_letter not in word:\n",
    "            has_all_letters = False\n",
    "    \n",
    "    if has_all_letters:\n",
    "        print(word)\n",
    "        match_counter = match_counter + 1"
   ]
  },
  {
   "cell_type": "code",
   "execution_count": 8,
   "id": "flush-throw",
   "metadata": {},
   "outputs": [
    {
     "name": "stdout",
     "output_type": "stream",
     "text": [
      "22\n"
     ]
    }
   ],
   "source": [
    "print(match_counter)"
   ]
  },
  {
   "cell_type": "code",
   "execution_count": null,
   "id": "right-tunisia",
   "metadata": {},
   "outputs": [],
   "source": []
  }
 ],
 "metadata": {
  "kernelspec": {
   "display_name": "Python 3 (ipykernel)",
   "language": "python",
   "name": "python3"
  },
  "language_info": {
   "codemirror_mode": {
    "name": "ipython",
    "version": 3
   },
   "file_extension": ".py",
   "mimetype": "text/x-python",
   "name": "python",
   "nbconvert_exporter": "python",
   "pygments_lexer": "ipython3",
   "version": "3.10.9"
  }
 },
 "nbformat": 4,
 "nbformat_minor": 5
}
