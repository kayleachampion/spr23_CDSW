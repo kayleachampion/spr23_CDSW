{
 "cells": [
  {
   "cell_type": "markdown",
   "id": "attempted-laptop",
   "metadata": {},
   "source": [
    "If you build a new book, you will need to (a) keep it in the same directory as this file and (b) copy the cell immediately below into your notebook so that you also import the wordlist into your notebook. Unless you do that, you will not have the wordlist file."
   ]
  },
  {
   "cell_type": "code",
   "execution_count": 2,
   "id": "operating-compatibility",
   "metadata": {},
   "outputs": [],
   "source": [
    "# this code imports the wordlist into a new list called wordlist\n",
    "from scrabble import wordlist"
   ]
  },
  {
   "cell_type": "code",
   "execution_count": 3,
   "id": "hairy-ability",
   "metadata": {},
   "outputs": [
    {
     "data": {
      "text/plain": [
       "list"
      ]
     },
     "execution_count": 3,
     "metadata": {},
     "output_type": "execute_result"
    }
   ],
   "source": [
    "type(wordlist)"
   ]
  },
  {
   "cell_type": "markdown",
   "id": "internal-occasion",
   "metadata": {},
   "source": [
    "### Example 1: Let's come up with a program to tell us how many words start with \"aa\""
   ]
  },
  {
   "cell_type": "code",
   "execution_count": 4,
   "id": "atlantic-burner",
   "metadata": {},
   "outputs": [
    {
     "data": {
      "text/plain": [
       "21"
      ]
     },
     "execution_count": 4,
     "metadata": {},
     "output_type": "execute_result"
    }
   ],
   "source": [
    "matches = []\n",
    "for word in wordlist:\n",
    "    if word[0:2] == \"aa\":\n",
    "        matches.append(word)\n",
    "len(matches)"
   ]
  },
  {
   "cell_type": "code",
   "execution_count": 5,
   "id": "combined-bridge",
   "metadata": {},
   "outputs": [
    {
     "name": "stdout",
     "output_type": "stream",
     "text": [
      "['aa', 'aah', 'aahed', 'aahing', 'aahs', 'aal', 'aalii', 'aaliis', 'aals', 'aardvark', 'aardvarks', 'aardwolf', 'aardwolves', 'aargh', 'aarrgh', 'aarrghh', 'aarti', 'aartis', 'aas', 'aasvogel', 'aasvogels']\n"
     ]
    }
   ],
   "source": [
    "print(matches)"
   ]
  },
  {
   "cell_type": "markdown",
   "id": "valid-resource",
   "metadata": {},
   "source": [
    "## Example 2: print every word that contains two \"l\"s in a row "
   ]
  },
  {
   "cell_type": "code",
   "execution_count": 5,
   "id": "automotive-float",
   "metadata": {},
   "outputs": [
    {
     "data": {
      "text/plain": [
       "7"
      ]
     },
     "execution_count": 5,
     "metadata": {},
     "output_type": "execute_result"
    }
   ],
   "source": [
    "matches = []\n",
    "\n",
    "substring = \"mako\"\n",
    "# Print all words containing 'l'.\n",
    "for word in wordlist:\n",
    "    if substring in word:\n",
    "        matches.append(word)\n",
    "len(matches)\n"
   ]
  },
  {
   "cell_type": "code",
   "execution_count": 6,
   "id": "functional-analysis",
   "metadata": {},
   "outputs": [
    {
     "name": "stdout",
     "output_type": "stream",
     "text": [
      "['aa', 'aah', 'aahed', 'aahing', 'aahs', 'aal', 'aalii', 'aaliis', 'aals', 'aardvark', 'aardvarks', 'aardwolf', 'aardwolves', 'aargh', 'aarrgh', 'aarrghh', 'aarti', 'aartis', 'aas', 'aasvogel', 'aasvogels']\n"
     ]
    }
   ],
   "source": [
    "print(matches)"
   ]
  },
  {
   "cell_type": "markdown",
   "id": "equivalent-durham",
   "metadata": {},
   "source": [
    "## Example 3: print out a word if it contains an x, y, and a z (all three of them!)"
   ]
  },
  {
   "cell_type": "code",
   "execution_count": 7,
   "id": "furnished-philosophy",
   "metadata": {},
   "outputs": [
    {
     "name": "stdout",
     "output_type": "stream",
     "text": [
      "deoxygenize\n",
      "deoxygenized\n",
      "deoxygenizes\n",
      "deoxygenizing\n",
      "exoenzyme\n",
      "exoenzymes\n",
      "hydroxyzine\n",
      "hydroxyzines\n",
      "methoxybenzene\n",
      "methoxybenzenes\n",
      "oxygenize\n",
      "oxygenized\n",
      "oxygenizer\n",
      "oxygenizers\n",
      "oxygenizes\n",
      "oxygenizing\n",
      "oxyphenbutazone\n",
      "zanthoxyl\n",
      "zanthoxyls\n",
      "zanthoxylum\n",
      "zanthoxylums\n",
      "zootaxy\n"
     ]
    }
   ],
   "source": [
    "choice_letters = ['x', 'y', 'z']\n",
    "\n",
    "# this time we're going to use a counter, not build a big list\n",
    "match_counter = 0\n",
    "for word in wordlist:\n",
    "    has_all_letters = True\n",
    "    for choice_letter in choice_letters:\n",
    "        if choice_letter not in word:\n",
    "            has_all_letters = False\n",
    "    \n",
    "    if has_all_letters:\n",
    "        print(word)\n",
    "        match_counter = match_counter + 1"
   ]
  },
  {
   "cell_type": "code",
   "execution_count": 8,
   "id": "flush-throw",
   "metadata": {},
   "outputs": [
    {
     "name": "stdout",
     "output_type": "stream",
     "text": [
      "22\n"
     ]
    }
   ],
   "source": [
    "print(match_counter)"
   ]
  },
  {
   "cell_type": "code",
   "execution_count": 45,
   "id": "right-tunisia",
   "metadata": {
    "scrolled": true
   },
   "outputs": [
    {
     "name": "stdout",
     "output_type": "stream",
     "text": [
      "['bridewell', 'drywell', 'dwell', 'farewell', 'footwell', 'gromwell', 'groundswell', 'indwell', 'inkwell', 'maxwell', 'newell', 'outdwell', 'outswell', 'outwell', 'overswell', 'pinswell', 'speedwell', 'stairwell', 'swell', 'unwell', 'upswell', 'upwell', 'well']\n",
      "23\n"
     ]
    }
   ],
   "source": [
    "#1 Alls well that ends well\n",
    "from scrabble import wordlist\n",
    "ending = \"well\"\n",
    "result = [word for word in wordlist if word.endswith(ending)]\n",
    "print(result)\n",
    "print(len(result)) "
   ]
  },
  {
   "cell_type": "code",
   "execution_count": 43,
   "id": "ed20cbac",
   "metadata": {},
   "outputs": [
    {
     "name": "stdout",
     "output_type": "stream",
     "text": [
      "['daydreamt', 'dreamt', 'outdreamt', 'redreamt', 'undreamt']\n",
      "5\n"
     ]
    }
   ],
   "source": [
    "#1_2 Alls well that ends well\n",
    "from scrabble import wordlist\n",
    "ending = \"mt\"\n",
    "result = [word for word in wordlist if word.endswith(ending)]\n",
    "print(result)\n",
    "print(len(result)) "
   ]
  },
  {
   "cell_type": "code",
   "execution_count": 46,
   "id": "3d64df9b",
   "metadata": {},
   "outputs": [
    {
     "name": "stdout",
     "output_type": "stream",
     "text": [
      "['aggry', 'ahungry', 'angry', 'hungry', 'puggry']\n",
      "5\n"
     ]
    }
   ],
   "source": [
    "#1_3 Alls well that ends well\n",
    "from scrabble import wordlist\n",
    "ending = \"gry\"\n",
    "result = [word for word in wordlist if word.endswith(ending)]\n",
    "print(result)\n",
    "print(len(result)) "
   ]
  },
  {
   "cell_type": "code",
   "execution_count": 76,
   "id": "85c07c64",
   "metadata": {},
   "outputs": [
    {
     "name": "stdout",
     "output_type": "stream",
     "text": [
      "Number of words starting with 'a': 15723\n",
      "Number of words starting with 'e': 11030\n",
      "Number of words starting with 'i': 9390\n",
      "Number of words starting with 'o': 8604\n",
      "Number of words starting with 'u': 9070\n"
     ]
    }
   ],
   "source": [
    "#2.1 How many words start with each vowel? Which is the most common vowel to find at the beginning of a word?\n",
    "\n",
    "\n",
    "vowel_words = []\n",
    "for word in wordlist:\n",
    "    if word[0] in (\"a\",\"e\",\"i\",\"o\",\"u\"):\n",
    "        vowel_words.append(word)\n",
    "          \n",
    "a_words = [word for word in vowel_words if word[0] == 'a']\n",
    "num_a_words = len(a_words)\n",
    "print(f\"Number of words starting with 'a': {num_a_words}\")\n",
    "\n",
    "e_words = [word for word in vowel_words if word[0] == 'e']\n",
    "num_e_words = len(e_words)\n",
    "print(f\"Number of words starting with 'e': {num_e_words}\")\n",
    "\n",
    "i_words = [word for word in vowel_words if word[0] == 'i']\n",
    "num_i_words = len(i_words)\n",
    "print(f\"Number of words starting with 'i': {num_i_words}\")\n",
    "\n",
    "o_words = [word for word in vowel_words if word[0] == 'o']\n",
    "num_o_words = len(o_words)\n",
    "print(f\"Number of words starting with 'o': {num_o_words}\")\n",
    "\n",
    "u_words = [word for word in vowel_words if word[0] == 'u']\n",
    "num_u_words = len(u_words)\n",
    "print(f\"Number of words starting with 'u': {num_u_words}\")\n"
   ]
  },
  {
   "cell_type": "code",
   "execution_count": 82,
   "id": "f387fc42",
   "metadata": {},
   "outputs": [
    {
     "name": "stdout",
     "output_type": "stream",
     "text": [
      "Number of words ending with 'a': 5312\n",
      "Number of words ending with 'e': 27350\n",
      "Number of words ending with 'i': 1474\n",
      "Number of words ending with 'o': 1783\n",
      "Number of words ending with 'u': 354\n"
     ]
    }
   ],
   "source": [
    "#2.2 Which is the most common vowel to find at the end of a word?\n",
    "\n",
    "vowel_words = []\n",
    "for word in wordlist:\n",
    "    if word[-1] in (\"a\",\"e\",\"i\",\"o\",\"u\"):\n",
    "        vowel_words.append(word)\n",
    "          \n",
    "a_words = [word for word in vowel_words if word[-1] == 'a']\n",
    "num_a_words = len(a_words)\n",
    "print(f\"Number of words ending with 'a': {num_a_words}\")\n",
    "\n",
    "e_words = [word for word in vowel_words if word[-1] == 'e']\n",
    "num_e_words = len(e_words)\n",
    "print (f\"Number of words ending with 'e': {num_e_words}\")\n",
    "\n",
    "i_words = [word for word in vowel_words if word[-1] == 'i']\n",
    "num_i_words = len(i_words)\n",
    "print(f\"Number of words ending with 'i': {num_i_words}\")\n",
    "\n",
    "o_words = [word for word in vowel_words if word[-1] == 'o']\n",
    "num_o_words = len(o_words)\n",
    "print(f\"Number of words ending with 'o': {num_o_words}\")\n",
    "\n",
    "u_words = [word for word in vowel_words if word[-1] == 'u']\n",
    "num_u_words = len(u_words)\n",
    "print(f\"Number of words ending with 'u': {num_u_words}\")\n"
   ]
  },
  {
   "cell_type": "code",
   "execution_count": 84,
   "id": "a1f12ee8",
   "metadata": {},
   "outputs": [
    {
     "name": "stdout",
     "output_type": "stream",
     "text": [
      "abstemious\n",
      "abstemiously\n",
      "abstemiousness\n",
      "abstentious\n",
      "adventitious\n",
      "adventitiously\n",
      "amentiferous\n",
      "antenniferous\n",
      "arenicolous\n",
      "argentiferous\n",
      "arsenious\n",
      "arteriovenous\n",
      "asclepiadaceous\n",
      "bacteriophagous\n",
      "caesious\n",
      "cavernicolous\n",
      "chaetiferous\n",
      "facetious\n",
      "facetiously\n",
      "facetiousness\n",
      "facetiousnesses\n",
      "flagelliferous\n",
      "garnetiferous\n",
      "halfseriously\n",
      "hamamelidaceous\n",
      "lateritious\n",
      "parecious\n",
      "sarraceniaceous\n",
      "valerianaceous\n"
     ]
    }
   ],
   "source": [
    "#2.3 Find and print all the words that have all 5 vowels in alphabetical order. (LOOP)\n",
    "\n",
    "def has_all_vowels(word):\n",
    "    vowels = ['a', 'e', 'i', 'o', 'u']\n",
    "    found_vowels = []\n",
    "    for letter in word:\n",
    "        if letter in vowels and letter not in found_vowels:\n",
    "            found_vowels.append(letter)\n",
    "            if len(found_vowels) == 5 and found_vowels == vowels:\n",
    "                return True\n",
    "    return False\n",
    "for word in wordlist:\n",
    "    if has_all_vowels(word):\n",
    "        print(word)"
   ]
  },
  {
   "cell_type": "code",
   "execution_count": 85,
   "id": "096b58e4",
   "metadata": {},
   "outputs": [
    {
     "name": "stdout",
     "output_type": "stream",
     "text": [
      "longest word with no vowels: glycyls\n"
     ]
    }
   ],
   "source": [
    "#3 Disemvoweled Find and print the longest word that has no vowels (LOOP)\n",
    "\n",
    "longest_word = \"\"\n",
    "for word in wordlist:\n",
    "    if set(word).isdisjoint(set(\"aeiouAEIOU\")) and len(word) > len(longest_word):\n",
    "        longest_word = word\n",
    "        \n",
    "print (\"longest word with no vowels:\", longest_word)\n",
    "\n"
   ]
  },
  {
   "cell_type": "code",
   "execution_count": 86,
   "id": "65f7e6a3",
   "metadata": {},
   "outputs": [
    {
     "name": "stdout",
     "output_type": "stream",
     "text": [
      "alcoholically\n",
      "algologically\n",
      "allegorically\n",
      "allhallond\n",
      "allhallowen\n",
      "allhallown\n",
      "allhollown\n",
      "allopathically\n",
      "allopatrically\n",
      "allopolyploid\n",
      "allopolyploids\n",
      "allopolyploidy\n",
      "allosterically\n",
      "allotropically\n",
      "allotypically\n",
      "allychollies\n",
      "allycholly\n",
      "balletically\n",
      "ballistically\n",
      "bellpull\n",
      "bellpulls\n",
      "catallactically\n",
      "cellulolytic\n",
      "collaterally\n",
      "collegially\n",
      "collisionally\n",
      "colloidally\n",
      "colloquially\n",
      "corollifloral\n",
      "dillydallied\n",
      "dillydallies\n",
      "dillydally\n",
      "dillydallying\n",
      "dullsville\n",
      "dullsvilles\n",
      "elliptically\n",
      "extracellularly\n",
      "fallalishly\n",
      "hallalled\n",
      "hallalling\n",
      "hillbillies\n",
      "hillbilly\n",
      "holoblastically\n",
      "hullaballoo\n",
      "hullaballoos\n",
      "idyllically\n",
      "illegally\n",
      "illiberally\n",
      "illogically\n",
      "intellectually\n",
      "intracellularly\n",
      "jellyroll\n",
      "jellyrolls\n",
      "lallapalooza\n",
      "lallapaloozas\n",
      "lamellarly\n",
      "lamellately\n",
      "lamellirostral\n",
      "legalistically\n",
      "lexicologically\n",
      "libellously\n",
      "lignocellulose\n",
      "lignocelluloses\n",
      "lignocellulosic\n",
      "ligulifloral\n",
      "limnologically\n",
      "lithologically\n",
      "loblollies\n",
      "loblolly\n",
      "lollapalooza\n",
      "lollapaloozas\n",
      "lollingly\n",
      "melancholically\n",
      "mellifluently\n",
      "mellifluously\n",
      "metallically\n",
      "metallurgically\n",
      "methylcellulose\n",
      "millefeuille\n",
      "millefeuilles\n",
      "millennially\n",
      "millesimally\n",
      "multicellular\n",
      "multilaterally\n",
      "multilingually\n",
      "multimillennial\n",
      "palynologically\n",
      "parallactically\n",
      "parallelled\n",
      "parallelling\n",
      "parallelly\n",
      "pellmell\n",
      "pellmells\n",
      "phallically\n",
      "philatelically\n",
      "philologically\n",
      "plasmolytically\n",
      "pluralistically\n",
      "polysyllabical\n",
      "polysyllable\n",
      "polysyllables\n",
      "pralltriller\n",
      "pralltrillers\n",
      "premillennially\n",
      "rollcollar\n",
      "rollcollars\n",
      "rollerball\n",
      "rollerballs\n",
      "shillyshallied\n",
      "shillyshallier\n",
      "shillyshalliers\n",
      "shillyshallies\n",
      "shillyshally\n",
      "shillyshallying\n",
      "silviculturally\n",
      "skillfully\n",
      "stellularly\n",
      "syllabically\n",
      "sylleptically\n",
      "syllogistically\n",
      "teleologically\n",
      "trisyllabically\n",
      "unfulfillable\n",
      "unskillfully\n",
      "valpolicella\n",
      "valpolicellas\n",
      "vexillological\n",
      "villanella\n",
      "villanellas\n",
      "villanelle\n",
      "villanelles\n",
      "volleyball\n",
      "volleyballs\n",
      "wallyball\n",
      "wallyballs\n",
      "willfully\n",
      "number of words with 4 or more 'l's: 136\n"
     ]
    }
   ],
   "source": [
    "#4 A cure for many ells find and print\n",
    "\n",
    "num_words = 0\n",
    "for word in wordlist:\n",
    "    if word.count('l') >= 4:\n",
    "        print(word)\n",
    "        num_words += 1\n",
    "print (\"number of words with 4 or more 'l's:\", num_words)\n"
   ]
  },
  {
   "cell_type": "code",
   "execution_count": 89,
   "id": "2b86b1a2",
   "metadata": {},
   "outputs": [
    {
     "name": "stdout",
     "output_type": "stream",
     "text": [
      "Longest word: abiogenetically\n",
      "Lenght of longest word: 15\n"
     ]
    }
   ],
   "source": [
    "#So long\n",
    "\n",
    "longest_word = \"\"\n",
    "for word in wordlist:\n",
    "    if len(word) > len(longest_word):\n",
    "        longest_word= word\n",
    "        \n",
    "print(\"Longest word:\" , longest_word)\n",
    "print(\"Lenght of longest word:\", len (longest_word))"
   ]
  },
  {
   "cell_type": "code",
   "execution_count": 90,
   "id": "57b5ccd7",
   "metadata": {},
   "outputs": [
    {
     "name": "stdout",
     "output_type": "stream",
     "text": [
      "Number of words with length 15 : 5757\n"
     ]
    }
   ],
   "source": [
    "max_length = len(longest_word)\n",
    "num_max_length_words = sum(len(word) == max_length for word in wordlist)\n",
    "print(\"Number of words with length\", max_length, \":\", num_max_length_words)"
   ]
  },
  {
   "cell_type": "code",
   "execution_count": 95,
   "id": "de60b2c9",
   "metadata": {},
   "outputs": [
    {
     "name": "stdout",
     "output_type": "stream",
     "text": [
      "deified\n",
      "hadedah\n",
      "halalah\n",
      "reifier\n",
      "repaper\n",
      "reviver\n",
      "rotator\n",
      "rotavator\n",
      "seities\n",
      "sememes\n",
      "number of palindromes over 6 letters in lenght: 10\n"
     ]
    }
   ],
   "source": [
    "# 6 Palindromes Print out a list of every palindrome (a word that is the same reversed) that's over 6 letters in length.How many are there?\n",
    "\n",
    "def is_palindrome(word):\n",
    "    return word == word[::-1]\n",
    "palindromes = []\n",
    "\n",
    "for word in wordlist:\n",
    "    if len(word) > 6 and is_palindrome(word):\n",
    "        palindromes.append(word)\n",
    "        print(word)\n",
    "        \n",
    "print(\"number of palindromes over 6 letters in lenght:\", len(palindromes))"
   ]
  },
  {
   "cell_type": "code",
   "execution_count": 103,
   "id": "32850f33",
   "metadata": {},
   "outputs": [
    {
     "name": "stdout",
     "output_type": "stream",
     "text": [
      "The word \"uncopyrightable\" is in the list!\n"
     ]
    }
   ],
   "source": [
    "# The word \"uncopyrightable\" is the longest English word in normal use that contains no letter more than once.\n",
    "\n",
    "from scrabble import wordlist\n",
    "\n",
    "if 'uncopyrightable' in wordlist:\n",
    "    print('The word \"uncopyrightable\" is in the list!')\n",
    "else:\n",
    "    print('The word \"uncopyrightable\" is not in the list.')\n",
    "    "
   ]
  },
  {
   "cell_type": "code",
   "execution_count": 107,
   "id": "5df226f4",
   "metadata": {},
   "outputs": [
    {
     "name": "stdout",
     "output_type": "stream",
     "text": [
      "The word \"dreamt\" is in the list!\n",
      "The word \"undreamt\" is in the list!\n",
      "The word \"angry\" is in the list!\n",
      "The word \"hungry\" is in the list!\n"
     ]
    }
   ],
   "source": [
    "#The only word in English that ends with the letters \"-mt\" is \"dreamt\" (which is a variant spelling of \"dreamed\") - as well of course as \"undreamt\" :)\n",
    "#Only two English words in current use end in \"-gry\". They are \"angry\" and \"hungry\".\n",
    "\n",
    "from scrabble import wordlist\n",
    "\n",
    "words = ['dreamt', 'undreamt', 'angry', 'hungry']\n",
    "for word in words:\n",
    "    if word in wordlist:\n",
    "        print(f'The word \"{word}\" is in the list!')\n",
    "    else:\n",
    "        print(f'The word \"{word}\" is not in the list.')"
   ]
  },
  {
   "cell_type": "code",
   "execution_count": 109,
   "id": "93ef91df",
   "metadata": {},
   "outputs": [
    {
     "name": "stdout",
     "output_type": "stream",
     "text": [
      "The word \"the\" is in the list!\n",
      "The word \"quick\" is in the list!\n",
      "The word \"brown\" is in the list!\n",
      "The word \"fox\" is in the list!\n",
      "The word \"jump\" is in the list!\n",
      "The word \"over\" is in the list!\n",
      "The word \"the\" is in the list!\n",
      "The word \"lazy\" is in the list!\n",
      "The word \"dog\" is in the list!\n"
     ]
    }
   ],
   "source": [
    "# The following sentence contains all 26 letters of the alphabet: \"The quick brown fox jumps over the lazy dog.\" This sentence is often used to test typewriters or keyboards.\n",
    "\n",
    "from scrabble import wordlist\n",
    "\n",
    "words = ['the', 'quick', 'brown', 'fox', 'jump', 'over','the', 'lazy', 'dog']\n",
    "for word in words:\n",
    "    if word in wordlist:\n",
    "        print(f'The word \"{word}\" is in the list!')\n",
    "    else:\n",
    "        print(f'The word \"{word}\" is not in the list.')"
   ]
  }
 ],
 "metadata": {
  "kernelspec": {
   "display_name": "Python 3 (ipykernel)",
   "language": "python",
   "name": "python3"
  },
  "language_info": {
   "codemirror_mode": {
    "name": "ipython",
    "version": 3
   },
   "file_extension": ".py",
   "mimetype": "text/x-python",
   "name": "python",
   "nbconvert_exporter": "python",
   "pygments_lexer": "ipython3",
   "version": "3.10.9"
  }
 },
 "nbformat": 4,
 "nbformat_minor": 5
}
