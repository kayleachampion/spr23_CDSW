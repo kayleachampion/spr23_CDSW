{
 "cells": [
  {
   "cell_type": "markdown",
   "id": "attempted-laptop",
   "metadata": {},
   "source": [
    "If you build a new book, you will need to (a) keep it in the same directory as this file and (b) copy the cell immediately below into your notebook so that you also import the wordlist into your notebook. Unless you do that, you will not have the wordlist file."
   ]
  },
  {
   "cell_type": "code",
   "execution_count": 3,
   "id": "addressed-point",
   "metadata": {},
   "outputs": [],
   "source": [
    "# this code imports the wordlist into a new list called wordlist\n",
    "from scrabble import wordlist"
   ]
  },
  {
   "cell_type": "markdown",
   "id": "internal-occasion",
   "metadata": {},
   "source": [
    "### Example 1: Let's come up with a program to tell us how many words start with \"aa\""
   ]
  },
  {
   "cell_type": "code",
   "execution_count": 1,
   "id": "atlantic-burner",
   "metadata": {},
   "outputs": [
    {
     "ename": "NameError",
     "evalue": "name 'wordlist' is not defined",
     "output_type": "error",
     "traceback": [
      "\u001b[0;31m---------------------------------------------------------------------------\u001b[0m",
      "\u001b[0;31mNameError\u001b[0m                                 Traceback (most recent call last)",
      "Cell \u001b[0;32mIn[1], line 2\u001b[0m\n\u001b[1;32m      1\u001b[0m matches \u001b[38;5;241m=\u001b[39m []\n\u001b[0;32m----> 2\u001b[0m \u001b[38;5;28;01mfor\u001b[39;00m word \u001b[38;5;129;01min\u001b[39;00m \u001b[43mwordlist\u001b[49m:\n\u001b[1;32m      3\u001b[0m     \u001b[38;5;28;01mif\u001b[39;00m word[\u001b[38;5;241m0\u001b[39m:\u001b[38;5;241m2\u001b[39m] \u001b[38;5;241m==\u001b[39m \u001b[38;5;124m\"\u001b[39m\u001b[38;5;124maa\u001b[39m\u001b[38;5;124m\"\u001b[39m:\n\u001b[1;32m      4\u001b[0m         matches\u001b[38;5;241m.\u001b[39mappend(word)\n",
      "\u001b[0;31mNameError\u001b[0m: name 'wordlist' is not defined"
     ]
    }
   ],
   "source": [
    "matches = []\n",
    "for word in wordlist:\n",
    "    if word[0:2] == \"aa\":\n",
    "        matches.append(word)\n",
    "len(matches)"
   ]
  },
  {
   "cell_type": "code",
   "execution_count": 5,
   "id": "combined-bridge",
   "metadata": {
    "scrolled": true
   },
   "outputs": [
    {
     "name": "stdout",
     "output_type": "stream",
     "text": [
      "aa\n",
      "aah\n",
      "aahed\n",
      "aahing\n",
      "aahs\n",
      "aal\n",
      "aalii\n",
      "aaliis\n",
      "aals\n",
      "aardvark\n",
      "aardvarks\n",
      "aardwolf\n",
      "aardwolves\n",
      "aargh\n",
      "aarrgh\n",
      "aarrghh\n",
      "aarti\n",
      "aartis\n",
      "aas\n",
      "aasvogel\n",
      "aasvogels\n"
     ]
    }
   ],
   "source": [
    "for match in matches:\n",
    "    print(match)"
   ]
  },
  {
   "cell_type": "markdown",
   "id": "valid-resource",
   "metadata": {},
   "source": [
    "## Example 2: print every word that contains two \"l\"s in a row "
   ]
  },
  {
   "cell_type": "code",
   "execution_count": 6,
   "id": "automotive-float",
   "metadata": {},
   "outputs": [
    {
     "data": {
      "text/plain": [
       "12391"
      ]
     },
     "execution_count": 6,
     "metadata": {},
     "output_type": "execute_result"
    }
   ],
   "source": [
    "matches = []\n",
    "\n",
    "substring = \"ll\"\n",
    "# Print all words containing 'l'.\n",
    "for word in wordlist:\n",
    "    if substring in word:\n",
    "        matches.append(word)\n",
    "len(matches)\n"
   ]
  },
  {
   "cell_type": "code",
   "execution_count": 7,
   "id": "1a12c3f7",
   "metadata": {},
   "outputs": [],
   "source": [
    "#Question 2.1"
   ]
  },
  {
   "cell_type": "code",
   "execution_count": 48,
   "id": "11841634",
   "metadata": {},
   "outputs": [
    {
     "name": "stdout",
     "output_type": "stream",
     "text": [
      "23\n",
      "['bridewell', 'drywell', 'dwell', 'farewell', 'footwell', 'gromwell', 'groundswell', 'indwell', 'inkwell', 'maxwell', 'newell', 'outdwell', 'outswell', 'outwell', 'overswell', 'pinswell', 'speedwell', 'stairwell', 'swell', 'unwell', 'upswell', 'upwell', 'well']\n"
     ]
    }
   ],
   "source": [
    "from scrabble import wordlist\n",
    "\n",
    "matches = []\n",
    "\n",
    "suffix = \"well\"\n",
    "# Print all words containing 'l'.\n",
    "for word in wordlist:\n",
    "    if len(word) <= 3:\n",
    "        pass\n",
    "    elif word[-4:] == suffix:\n",
    "        #-well\n",
    "        matches.append(word)\n",
    "    else:\n",
    "        continue\n",
    "print(len(matches))\n",
    "print(matches)"
   ]
  },
  {
   "cell_type": "code",
   "execution_count": null,
   "id": "a1c865ef",
   "metadata": {},
   "outputs": [],
   "source": [
    "#Question 2.2"
   ]
  },
  {
   "cell_type": "code",
   "execution_count": 49,
   "id": "042125e2",
   "metadata": {},
   "outputs": [
    {
     "name": "stdout",
     "output_type": "stream",
     "text": [
      "5\n",
      "['daydreamt', 'dreamt', 'outdreamt', 'redreamt', 'undreamt']\n"
     ]
    }
   ],
   "source": [
    "from scrabble import wordlist\n",
    "\n",
    "matches = []\n",
    "\n",
    "suffix = \"mt\"\n",
    "# Print all words containing 'l'.\n",
    "for word in wordlist:\n",
    "    if len(word) <= 2:\n",
    "        pass\n",
    "    elif word[-2:] == suffix:\n",
    "        matches.append(word)\n",
    "    else:\n",
    "        continue\n",
    "print(len(matches))\n",
    "print(matches)"
   ]
  },
  {
   "cell_type": "code",
   "execution_count": null,
   "id": "22f48889",
   "metadata": {},
   "outputs": [],
   "source": [
    "#Question 2.3"
   ]
  },
  {
   "cell_type": "code",
   "execution_count": 47,
   "id": "b4c4e063",
   "metadata": {},
   "outputs": [
    {
     "name": "stdout",
     "output_type": "stream",
     "text": [
      "['aggry', 'ahungry', 'angry', 'hungry', 'puggry']\n"
     ]
    }
   ],
   "source": [
    "from scrabble import wordlist\n",
    "\n",
    "matches = []\n",
    "\n",
    "suffix = \"gry\"\n",
    "# Print all words containing 'l'.\n",
    "for word in wordlist:\n",
    "    if len(word) <= 3:\n",
    "        pass\n",
    "    elif word[-3:] == suffix:\n",
    "        matches.append(word)\n",
    "    else:\n",
    "        continue\n",
    "print(len(matches))\n",
    "print(matches)"
   ]
  },
  {
   "cell_type": "code",
   "execution_count": null,
   "id": "496e4223",
   "metadata": {},
   "outputs": [],
   "source": [
    "#Question 2.3"
   ]
  },
  {
   "cell_type": "code",
   "execution_count": 72,
   "id": "db7900e5",
   "metadata": {},
   "outputs": [
    {
     "name": "stdout",
     "output_type": "stream",
     "text": [
      "'A' is the most common beginning vowel\n",
      "\n",
      "The number of words that start with 'a' is:  15723\n",
      "The number of words that start with 'e' is:  11030\n",
      "The number of words that start with 'i' is:  9390\n",
      "The number of words that start with 'o' is:  8604\n",
      "The number of words that start with 'u' is:  9070\n"
     ]
    }
   ],
   "source": [
    "from scrabble import wordlist\n",
    "\n",
    "number_start_a = 0\n",
    "number_start_e = 0\n",
    "number_start_i = 0\n",
    "number_start_o = 0\n",
    "number_start_u = 0\n",
    "\n",
    "for word in wordlist:\n",
    "    if word[0] == 'a':\n",
    "        number_start_a = number_start_a + 1\n",
    "    elif word[0] == 'e':\n",
    "        number_start_e = number_start_e + 1 \n",
    "    elif word[0] == 'i':\n",
    "        number_start_i = number_start_i + 1   \n",
    "    elif word[0] == 'o':\n",
    "        number_start_o = number_start_o + 1   \n",
    "    elif word[0] == 'u':\n",
    "        number_start_u = number_start_u + 1  \n",
    "\n",
    "most_common_vowel = max(number_start_a, number_start_e, number_start_i, number_start_o, number_start_u)\n",
    "    \n",
    "if most_common_vowel == number_start_a:\n",
    "    print(\"'A' is the most common beginning vowel\")\n",
    "elif most_common_vowel == number_start_e:\n",
    "    print(\"'E' is the most common beginning vowel\")    \n",
    "elif most_common_vowel == number_start_i:\n",
    "    print(\"'I' is the most common beginning vowel\")    \n",
    "elif most_common_vowel == number_start_o:\n",
    "    print(\"'O' is the most common beginning vowel\")    \n",
    "elif most_common_vowel == number_start_u:  \n",
    "    print(\"'U' is the most common beginning vowel\")    \n",
    "\n",
    "print()    \n",
    "print(f\"The number of words that start with 'a' is:  {number_start_a}\")        \n",
    "print(f\"The number of words that start with 'e' is:  {number_start_e}\")         \n",
    "print(f\"The number of words that start with 'i' is:  {number_start_i}\")         \n",
    "print(f\"The number of words that start with 'o' is:  {number_start_o}\")     \n",
    "print(f\"The number of words that start with 'u' is:  {number_start_u}\")\n",
    "\n"
   ]
  },
  {
   "cell_type": "code",
   "execution_count": null,
   "id": "0f884e5c",
   "metadata": {},
   "outputs": [],
   "source": [
    "#Question 2.2"
   ]
  },
  {
   "cell_type": "code",
   "execution_count": 76,
   "id": "903da93d",
   "metadata": {},
   "outputs": [
    {
     "name": "stdout",
     "output_type": "stream",
     "text": [
      "'E' is the most common ending vowel\n",
      "\n",
      "\n",
      "The number of words that end with 'a' is:  5312\n",
      "The number of words that end with 'e' is:  27350\n",
      "The number of words that end with 'i' is:  1474\n",
      "The number of words that end with 'o' is:  1783\n",
      "The number of words that end with 'u' is:  354\n"
     ]
    }
   ],
   "source": [
    "from scrabble import wordlist\n",
    "\n",
    "number_end_a = 0\n",
    "number_end_e = 0\n",
    "number_end_i = 0\n",
    "number_end_o = 0\n",
    "number_end_u = 0\n",
    "\n",
    "for word in wordlist:\n",
    "    if word[-1] == 'a':\n",
    "        number_end_a = number_end_a + 1\n",
    "    elif word[-1] == 'e':\n",
    "        number_end_e = number_end_e + 1 \n",
    "    elif word[-1] == 'i':\n",
    "        number_end_i = number_end_i + 1   \n",
    "    elif word[-1] == 'o':\n",
    "        number_end_o = number_end_o + 1   \n",
    "    elif word[-1] == 'u':\n",
    "        number_end_u = number_end_u + 1\n",
    "        \n",
    "most_common_vowel = max(number_end_a, number_end_e, number_end_i, number_end_o, number_end_u)\n",
    "    \n",
    "if most_common_vowel == number_end_a:\n",
    "    print(\"'A' is the most common ending vowel\")\n",
    "elif most_common_vowel == number_end_e:\n",
    "    print(\"'E' is the most common ending vowel\")    \n",
    "elif most_common_vowel == number_end_i:\n",
    "    print(\"'I' is the most common ending vowel\")    \n",
    "elif most_common_vowel == number_end_o:\n",
    "    print(\"'O' is the most common ending vowel\")    \n",
    "elif most_common_vowel == number_end_u:  \n",
    "    print(\"'U' is the most common ending vowel\")  \n",
    "    \n",
    "print()\n",
    "print()    \n",
    "print(f\"The number of words that end with 'a' is:  {number_end_a}\")        \n",
    "print(f\"The number of words that end with 'e' is:  {number_end_e}\")         \n",
    "print(f\"The number of words that end with 'i' is:  {number_end_i}\")         \n",
    "print(f\"The number of words that end with 'o' is:  {number_end_o}\")     \n",
    "print(f\"The number of words that end with 'u' is:  {number_end_u}\")"
   ]
  },
  {
   "cell_type": "code",
   "execution_count": null,
   "id": "74b9a9cd",
   "metadata": {},
   "outputs": [],
   "source": [
    "#Question 2.3"
   ]
  },
  {
   "cell_type": "code",
   "execution_count": 82,
   "id": "6eaa2824",
   "metadata": {},
   "outputs": [
    {
     "name": "stdout",
     "output_type": "stream",
     "text": [
      "[]\n"
     ]
    }
   ],
   "source": [
    "from scrabble import wordlist\n",
    "\n",
    "beans = 'aeiou'\n",
    "matches = []\n",
    "\n",
    "for word in wordlist:\n",
    "    if beans in word:\n",
    "        matches.append(word)\n",
    "\n",
    "print(matches)"
   ]
  },
  {
   "cell_type": "code",
   "execution_count": null,
   "id": "cc17cc2a",
   "metadata": {},
   "outputs": [],
   "source": [
    "#Question 3.1"
   ]
  },
  {
   "cell_type": "code",
   "execution_count": 95,
   "id": "dd2f7e7a",
   "metadata": {},
   "outputs": [
    {
     "name": "stdout",
     "output_type": "stream",
     "text": [
      "The longest word with no vowels is:  tsktsks\n",
      "\n",
      "['brr', 'brrr', 'by', 'byrl', 'byrls', 'bys', 'ch', 'chynd', 'cly', 'crwth', 'crwths', 'cry', 'crypt', 'crypts', 'cwm', 'cwms', 'cwtch', 'cyst', 'cysts', 'dry', 'dryly', 'drys', 'fly', 'flyby', 'flybys', 'flysch', 'fry', 'fy', 'fyrd', 'fyrds', 'ghyll', 'ghylls', 'glycyl', 'glycyls', 'glyph', 'glyphs', 'grypt', 'gym', 'gymp', 'gymps', 'gyms', 'gynny', 'gyny', 'gyp', 'gyppy', 'gyps', 'gypsy', 'hm', 'hmm', 'hwyl', 'hwyls', 'hymn', 'hymns', 'hyp', 'hyps', 'jynx', 'ky', 'kydst', 'kynd', 'kynds', 'lych', 'lym', 'lymph', 'lymphs', 'lyms', 'lynch', 'lynx', 'mm', 'my', 'myc', 'mycs', 'myrrh', 'myrrhs', 'myth', 'myths', 'mythy', 'nth', 'ny', 'nymph', 'nymphly', 'nymphs', 'nys', 'pfft', 'phpht', 'pht', 'ply', 'pry', 'prys', 'psst', 'pst', 'psych', 'psychs', 'pygmy', 'pyx', 'rhy', 'rhythm', 'rhythms', 'rynd', 'rynds', 'scry', 'sh', 'shh', 'shy', 'shyly', 'skry', 'sky', 'skyf', 'skyfs', 'skyr', 'skyrs', 'sly', 'slyly', 'sny', 'sphynx', 'spry', 'spryly', 'spy', 'st', 'sty', 'stymy', 'swy', 'sylph', 'sylphs', 'sylphy', 'syn', 'sync', 'synch', 'synchs', 'syncs', 'synd', 'synds', 'synth', 'synths', 'syph', 'syphs', 'syzygy', 'thy', 'thymy', 'try', 'tryp', 'tryps', 'tryst', 'trysts', 'tsk', 'tsks', 'tsktsk', 'tsktsks', 'twp', 'tyg', 'tygs', 'tymp', 'tymps', 'tynd', 'typp', 'typps', 'typy', 'vly', 'why', 'whys', 'wry', 'wryly', 'wych', 'wyn', 'wynd', 'wynds', 'wynn', 'wynns', 'wyns', 'xylyl', 'xylyls', 'xyst', 'xysts', 'ympt', 'zzz', 'zzzs']\n"
     ]
    }
   ],
   "source": [
    "from scrabble import wordlist\n",
    "\n",
    "vowels = ['a','e','i','o','u']\n",
    "matches = []\n",
    "\n",
    "for word in wordlist:\n",
    "    has_vowel = False\n",
    "    for letter in word:\n",
    "        if vowels[0] in letter:\n",
    "            has_vowel = True\n",
    "        elif vowels[1] in letter:\n",
    "            has_vowel = True\n",
    "        elif vowels[2] in letter:\n",
    "            has_vowel = True\n",
    "        elif vowels[3] in letter:\n",
    "            has_vowel = True\n",
    "        elif vowels[4] in letter:\n",
    "            has_vowel = True\n",
    "    \n",
    "    if has_vowel is False:\n",
    "        matches.append(word)\n",
    "\n",
    "longest_word = ''\n",
    "max_length = -1\n",
    "\n",
    "for word in matches:\n",
    "    if len(word) >= max_length:\n",
    "        longest_word = word\n",
    "        max_length = len(word)\n",
    "    \n",
    "print(f\"The longest word with no vowels is:  {longest_word}\")\n",
    "print()\n",
    "\n",
    "print(matches)\n",
    "        "
   ]
  },
  {
   "cell_type": "code",
   "execution_count": null,
   "id": "1a10a6ca",
   "metadata": {},
   "outputs": [],
   "source": [
    "#Question 4.1"
   ]
  },
  {
   "cell_type": "code",
   "execution_count": 99,
   "id": "5787a6f1",
   "metadata": {},
   "outputs": [
    {
     "name": "stdout",
     "output_type": "stream",
     "text": [
      "['alcoholically', 'algologically', 'allegorically', 'allhallond', 'allhallowen', 'allhallown', 'allhollown', 'allopathically', 'allopatrically', 'allopolyploid', 'allopolyploids', 'allopolyploidy', 'allosterically', 'allotropically', 'allotypically', 'allychollies', 'allycholly', 'balletically', 'ballistically', 'bellpull', 'bellpulls', 'catallactically', 'cellulolytic', 'collaterally', 'collegially', 'collisionally', 'colloidally', 'colloquially', 'corollifloral', 'dillydallied', 'dillydallies', 'dillydally', 'dillydallying', 'dullsville', 'dullsvilles', 'elliptically', 'extracellularly', 'fallalishly', 'hallalled', 'hallalling', 'hillbillies', 'hillbilly', 'holoblastically', 'hullaballoo', 'hullaballoos', 'idyllically', 'illegally', 'illiberally', 'illogically', 'intellectually', 'intracellularly', 'jellyroll', 'jellyrolls', 'lallapalooza', 'lallapaloozas', 'lamellarly', 'lamellately', 'lamellirostral', 'legalistically', 'lexicologically', 'libellously', 'lignocellulose', 'lignocelluloses', 'lignocellulosic', 'ligulifloral', 'limnologically', 'lithologically', 'loblollies', 'loblolly', 'lollapalooza', 'lollapaloozas', 'lollingly', 'melancholically', 'mellifluently', 'mellifluously', 'metallically', 'metallurgically', 'methylcellulose', 'millefeuille', 'millefeuilles', 'millennially', 'millesimally', 'multicellular', 'multilaterally', 'multilingually', 'multimillennial', 'palynologically', 'parallactically', 'parallelled', 'parallelling', 'parallelly', 'pellmell', 'pellmells', 'phallically', 'philatelically', 'philologically', 'plasmolytically', 'pluralistically', 'polysyllabical', 'polysyllable', 'polysyllables', 'pralltriller', 'pralltrillers', 'premillennially', 'rollcollar', 'rollcollars', 'rollerball', 'rollerballs', 'shillyshallied', 'shillyshallier', 'shillyshalliers', 'shillyshallies', 'shillyshally', 'shillyshallying', 'silviculturally', 'skillfully', 'stellularly', 'syllabically', 'sylleptically', 'syllogistically', 'teleologically', 'trisyllabically', 'unfulfillable', 'unskillfully', 'valpolicella', 'valpolicellas', 'vexillological', 'villanella', 'villanellas', 'villanelle', 'villanelles', 'volleyball', 'volleyballs', 'wallyball', 'wallyballs', 'willfully']\n",
      "\n",
      "136\n"
     ]
    }
   ],
   "source": [
    "from scrabble import wordlist\n",
    "\n",
    "matches = []\n",
    "\n",
    "for word in wordlist:\n",
    "    number_ls = 0\n",
    "    for letter in word:\n",
    "        if letter == 'l':\n",
    "            number_ls = number_ls + 1\n",
    "    if number_ls >= 4:\n",
    "        matches.append(word)\n",
    "    \n",
    "print(matches)\n",
    "\n",
    "print()\n",
    "print(len(matches))"
   ]
  },
  {
   "cell_type": "code",
   "execution_count": null,
   "id": "d746832d",
   "metadata": {},
   "outputs": [],
   "source": [
    "#Question 4.2"
   ]
  },
  {
   "cell_type": "code",
   "execution_count": null,
   "id": "0a1267d6",
   "metadata": {},
   "outputs": [],
   "source": [
    "print()\n",
    "print(len(matches))"
   ]
  },
  {
   "cell_type": "code",
   "execution_count": null,
   "id": "e67c8c77",
   "metadata": {},
   "outputs": [],
   "source": [
    "#Question 5.1"
   ]
  },
  {
   "cell_type": "code",
   "execution_count": 102,
   "id": "b9e70621",
   "metadata": {},
   "outputs": [
    {
     "name": "stdout",
     "output_type": "stream",
     "text": [
      "zygophyllaceous\n",
      "15\n"
     ]
    }
   ],
   "source": [
    "from scrabble import wordlist\n",
    "\n",
    "longest_word = ''\n",
    "\n",
    "for word in wordlist:\n",
    "    if len(word) >= len(longest_word):\n",
    "        longest_word = word\n",
    "\n",
    "print(longest_word)\n",
    "print(len(longest_word))"
   ]
  },
  {
   "cell_type": "markdown",
   "id": "equivalent-durham",
   "metadata": {},
   "source": [
    "## Example 3: print out a word if it contains an x, y, or z"
   ]
  },
  {
   "cell_type": "code",
   "execution_count": null,
   "id": "0cb1bb54",
   "metadata": {},
   "outputs": [],
   "source": [
    "#Question 5.2"
   ]
  },
  {
   "cell_type": "code",
   "execution_count": 108,
   "id": "773eb189",
   "metadata": {},
   "outputs": [
    {
     "name": "stdout",
     "output_type": "stream",
     "text": [
      "5757\n",
      "\n",
      "['abiogenetically', 'aboriginalities', 'absorbabilities', 'absorbefacients', 'absorptiometers', 'abstractionisms', 'abstractionists', 'acanthocephalan', 'acceptabilities', 'acceptingnesses', 'accessarinesses', 'accessibilities', 'accessorinesses', 'accidentalities', 'accidentologies', 'acclimatisation', 'acclimatization', 'accommodatingly', 'accommodational', 'accomplishments', 'accountableness', 'accountantships', 'acculturational', 'acetophenetidin', 'acetylsalicylic', 'achondroplasias', 'achondroplastic', 'achromaticities', 'achromatisation', 'achromatization', 'acidimetrically', 'acknowledgeable', 'acknowledgeably', 'acknowledgement', 'acknowledgments', 'acquirabilities', 'acquisitiveness', 'acrimoniousness', 'acroparesthesia', 'actinobiologies', 'actinochemistry', 'actinotherapies', 'adaptablenesses', 'additionalities', 'adenocarcinomas', 'adenohypophyses', 'adenohypophysis', 'adenoidectomies', 'adiathermancies', 'adjustabilities', 'administrations', 'admirablenesses', 'admissibilities', 'adrenalectomies', 'adsorbabilities', 'adventurousness', 'adversarinesses', 'advisablenesses', 'aerodynamically', 'aerodynamicists', 'aeroelasticians', 'aerohydroplanes', 'aerolithologies', 'aerosolisations', 'aerosolizations', 'affectabilities', 'affectivenesses', 'affordabilities', 'affranchisement', 'aftersensations', 'agglutinability', 'aggrandisements', 'aggrandizements', 'aggregatenesses', 'agranulocytoses', 'agranulocytosis', 'agreeablenesses', 'agribusinessman', 'agribusinessmen', 'agriculturalist', 'airworthinesses', 'alcoholisations', 'alcoholizations', 'alcoholometries', 'alexipharmakons', 'algorithmically', 'alkalinisations', 'alkalinizations', 'allegoricalness', 'allegorisations', 'allegorizations', 'allelomorphisms', 'allergenicities', 'allotetraploids', 'allotetraploidy', 'allotriomorphic', 'allowablenesses', 'alphabetisation', 'alphabetization', 'alternativeness', 'altitudinarians', 'aluminosilicate', 'aluminothermies', 'amaryllidaceous', 'ambassadorships', 'ambidexterities', 'ambiguousnesses', 'ambisexualities', 'ambitiousnesses', 'aminopeptidases', 'aminophenazones', 'ammonifications', 'amorphousnesses', 'amphidiploidies', 'amphitheatrical', 'anacoluthically', 'anacreontically', 'anaesthesiology', 'anaesthetically', 'anagrammatising', 'anagrammatizing', 'analogousnesses', 'analyzabilities', 'anamorphoscopes', 'ancylostomiases', 'ancylostomiasis', 'androgynophores', 'andromedotoxins', 'andromonoecious', 'andromonoecisms', 'anesthetization', 'anfractuosities', 'angustirostrate', 'animatronically', 'anisotropically', 'ankylostomiases', 'ankylostomiasis', 'annihilationism', 'anomalistically', 'anomalousnesses', 'anonymousnesses', 'answerabilities', 'antagonisations', 'antagonizations', 'antaphrodisiacs', 'antepenultimate', 'anthropobiology', 'anthropocentric', 'anthropogeneses', 'anthropogenesis', 'anthropogenetic', 'anthropolatries', 'anthropological', 'anthropologists', 'anthropometries', 'anthropometrist', 'anthropomorphic', 'anthropopathies', 'anthropopathism', 'anthropophagies', 'anthropophagite', 'anthropophagous', 'anthropophobias', 'anthropophobics', 'anthropophuisms', 'anthropopsychic', 'anthroposophies', 'anthroposophist', 'antiabortionist', 'antialcoholisms', 'antiaphrodisiac', 'antiarrhythmics', 'anticapitalisms', 'anticapitalists', 'anticarcinogens', 'anticholesterol', 'anticholinergic', 'antichristianly', 'anticlericalism', 'anticlimactical', 'anticoincidence', 'anticolonialism', 'anticolonialist', 'anticompetitive', 'anticonvulsants', 'anticonvulsives', 'antidepressants', 'antiderivatives', 'antidevelopment', 'antieducational', 'antiegalitarian', 'antifashionable', 'antifederalists', 'antiferromagnet', 'antiforeclosure', 'antihelminthics', 'antihistaminics', 'antiliberalisms', 'antilibertarian', 'antilogarithmic', 'antimaterialism', 'antimaterialist', 'antimetabolites', 'antimilitarisms', 'antimilitarists', 'antimonarchical', 'antimonarchists', 'antimonopolists', 'antinationalist', 'antinuclearists', 'antiodontalgics', 'antiperistalses', 'antiperistalsis', 'antiperistaltic', 'antiperspirants', 'antiphlogistics', 'antipornography', 'antiprogressive', 'antiquarianisms', 'antiradicalisms', 'antirationalism', 'antirationalist', 'antirationality', 'antirepublicans', 'antiromanticism', 'antisegregation', 'antisentimental', 'antiseparatists', 'antisepticising', 'antisepticizing', 'antisexualities', 'antishoplifting', 'antisocialities', 'antispeculation', 'antispeculative', 'antisyphilitics', 'antitheoretical', 'antithrombotics', 'antitraditional', 'antitranspirant', 'antitrinitarian', 'antituberculous', 'antivivisection', 'apheliotropisms', 'apocalyptically', 'apocalypticisms', 'apolipoproteins', 'apoliticalities', 'apophthegmatise', 'apophthegmatist', 'apophthegmatize', 'apothegmatising', 'apothegmatizing', 'appealabilities', 'appealingnesses', 'appendicularian', 'applicabilities', 'apprenticehoods', 'apprenticements', 'apprenticeships', 'approachability', 'appropinquating', 'appropinquation', 'appropinquities', 'appropriateness', 'arachnoiditises', 'arbitrarinesses', 'arboriculturist', 'archaebacterium', 'archaeobotanies', 'archaeobotanist', 'archaeometrists', 'archaeopteryxes', 'archaezoologies', 'archeoastronomy', 'archeobotanists', 'archeologically', 'archeomagnetism', 'archeozoologies', 'archeozoologist', 'archgenethliacs', 'archidiaconates', 'archiepiscopacy', 'archiepiscopate', 'architecturally', 'archpriesthoods', 'archpriestships', 'argumentatively', 'ariboflavinoses', 'ariboflavinosis', 'aromatherapists', 'arrondissements', 'arterialisation', 'arterialization', 'arteriographies', 'artificialising', 'artificialities', 'artificializing', 'asclepiadaceous', 'assentivenesses', 'assertivenesses', 'assiduousnesses', 'assignabilities', 'assimilationism', 'assimilationist', 'associabilities', 'associationisms', 'associationists', 'associativities', 'astrobiologists', 'astrodynamicist', 'astrogeologists', 'astronautically', 'astronavigation', 'astronavigators', 'astrophotograph', 'astrophysically', 'astrophysicists', 'atheroscleroses', 'atherosclerosis', 'atherosclerotic', 'atmospherically', 'atrabiliousness', 'atrociousnesses', 'attainabilities', 'attentivenesses', 'attitudinarians', 'attitudinisings', 'attitudinizings', 'attributiveness', 'audaciousnesses', 'audiometrically', 'audiometricians', 'authentications', 'authoritatively', 'autobiographers', 'autobiographies', 'autochthonously', 'autocorrelation', 'autodestructing', 'autodestructive', 'autodidacticism', 'autographically', 'autoinoculation', 'autoionisations', 'autoionizations', 'automatisations', 'automatizations', 'automorphically', 'autoradiographs', 'autoradiography', 'autoschediastic', 'autoschediazing', 'autostabilities', 'autosuggestions', 'autotetraploids', 'autotetraploidy', 'autotransformer', 'autotransfusion', 'autotrophically', 'availablenesses', 'axiomatisations', 'axiomatizations', 'azidothymidines', 'bacchanalianism', 'backscatterings', 'backscratchings', 'bacteriological', 'bacteriologists', 'bacteriophagies', 'bacteriophagous', 'balneotherapies', 'barbarousnesses', 'barefacednesses', 'basidiomycetous', 'bastardisations', 'bastardizations', 'bathometrically', 'bathymetrically', 'batrachophobias', 'beardlessnesses', 'beauteousnesses', 'beautifications', 'beautifulnesses', 'believabilities', 'belongingnesses', 'benightednesses', 'benzanthracenes', 'benzenecarbonyl', 'benzodiazepines', 'beseemingnesses', 'bespottednesses', 'bibliographical', 'bibliophilistic', 'bibliothecaries', 'bibliotherapies', 'bidialectalisms', 'bidirectionally', 'bigheadednesses', 'bioaccumulating', 'bioaccumulation', 'bioastronautics', 'bioavailability', 'biodegradations', 'biodestructible', 'bioecologically', 'bioengineerings', 'biogeochemicals', 'biogeochemistry', 'biogeographical', 'bioluminescence', 'biomathematical', 'biomechanically', 'bioprospectings', 'biopsychologies', 'bioregionalisms', 'bioregionalists', 'bioremediations', 'biorhythmically', 'biostatistician', 'biostratigraphy', 'biosystematists', 'biotechnologies', 'biotechnologist', 'bipartisanships', 'bipolarisations', 'bipolarizations', 'bisphosphonates', 'bisymmetrically', 'bittersweetness', 'bituminisations', 'bituminizations', 'blameablenesses', 'blamelessnesses', 'blameworthiness', 'blasphemousness', 'blaxploitations', 'bletheranskates', 'blockheadedness', 'bloodcurdlingly', 'bloodguiltiness', 'bloodlessnesses', 'bloodthirstiest', 'bougainvillaeas', 'bouleversements', 'boundlessnesses', 'bounteousnesses', 'bountifulnesses', 'bourgeoisifying', 'boustrophedonic', 'bowdlerisations', 'bowdlerizations', 'brachiocephalic', 'brachiosauruses', 'brachistochrone', 'brachycephalics', 'brachycephalies', 'brachycephalism', 'brachycephalous', 'brachydactylies', 'brachydactylism', 'brachydactylous', 'brachydiagonals', 'brachypinakoids', 'brachytherapies', 'brainlessnesses', 'brainsicknesses', 'braunschweigers', 'breakablenesses', 'breathabilities', 'breatharianisms', 'bremsstrahlungs', 'brilliantnesses', 'broadmindedness', 'brokenheartedly', 'bronchiolitises', 'bronchodilators', 'bronchographies', 'bronchoscopical', 'bronchoscopists', 'brotherlinesses', 'bumptiousnesses', 'bureaucratising', 'bureaucratizing', 'businesspersons', 'calculabilities', 'calendarisation', 'calendarization', 'calorifications', 'canisterisation', 'canisterization', 'cannibalisation', 'cannibalization', 'canthaxanthines', 'capaciousnesses', 'capitalisations', 'capitalizations', 'caprifoliaceous', 'caramelisations', 'caramelizations', 'carcinogenicity', 'carcinosarcomas', 'cardiographical', 'cardiopulmonary', 'carnivorousness', 'carpetbaggeries', 'carpometacarpus', 'castanospermine', 'castrametations', 'cataclysmically', 'catallactically', 'catechistically', 'catechumenships', 'categoricalness', 'categorisations', 'categorizations', 'catheterisation', 'catheterization', 'cathodographers', 'cathodographies', 'catholicisation', 'catholicization', 'causativenesses', 'causelessnesses', 'ceaselessnesses', 'cenogenetically', 'censurabilities', 'centenarianisms', 'centralisations', 'centralizations', 'centricalnesses', 'centrifugalised', 'centrifugalises', 'centrifugalized', 'centrifugalizes', 'centrifugations', 'centripetalisms', 'centrosymmetric', 'centuplications', 'cephalochordate', 'cephalothoraces', 'cephalothoracic', 'cephalothoraxes', 'cercopithecoids', 'cerebrovascular', 'ceremoniousness', 'certificatories', 'cervicographies', 'chalcographical', 'chalcographists', 'chamberlainship', 'chancellorships', 'changeabilities', 'changefulnesses', 'channelisations', 'channelizations', 'chaptalisations', 'chaptalizations', 'characterisable', 'characteristics', 'characterizable', 'chargeabilities', 'chartographical', 'cheerlessnesses', 'chemautotrophic', 'chemoattractant', 'chemoautotrophs', 'chemoautotrophy', 'chemolithotroph', 'chemopsychiatry', 'chemoreceptions', 'chemotactically', 'chemotaxonomies', 'chemotaxonomist', 'chemotherapists', 'chemotropically', 'chenopodiaceous', 'childlessnesses', 'childlikenesses', 'chincherinchees', 'chlamydomonades', 'chloramphenicol', 'chloritisations', 'chloritizations', 'chlorothiazides', 'chlorpromazines', 'chlorpropamides', 'chlorthalidones', 'cholangiography', 'cholecalciferol', 'cholecystectomy', 'cholecystitises', 'cholecystokinin', 'cholecystostomy', 'cholesterolemia', 'cholestyramines', 'cholinergically', 'cholinesterases', 'chondrichthyans', 'chondrification', 'chondrocraniums', 'chondrophorines', 'chondroskeleton', 'chordamesoderms', 'chorioallantoic', 'chorioallantois', 'choriocarcinoma', 'chrestomathical', 'chromaticnesses', 'chromatographed', 'chromatographer', 'chromatographic', 'chromatologists', 'chromatophorous', 'chromatospheres', 'chromotherapies', 'chromoxylograph', 'chronobiologies', 'chronobiologist', 'chronogrammatic', 'chronologically', 'chronotherapies', 'churrigueresque', 'cinchonisations', 'cinchonizations', 'cineangiography', 'cinematographed', 'cinematographer', 'cinematographic', 'cinemicrography', 'circularisation', 'circularization', 'circumambagious', 'circumambiences', 'circumambiently', 'circumambulated', 'circumambulates', 'circumambulator', 'circumferential', 'circumferentors', 'circumforaneous', 'circumgyrations', 'circumincession', 'circuminsession', 'circumjacencies', 'circumlocutions', 'circumnavigable', 'circumnavigated', 'circumnavigates', 'circumnavigator', 'circumnutations', 'circumpositions', 'circumscribable', 'circumscription', 'circumscriptive', 'circumspections', 'circumspectness', 'circumstantials', 'circumstantiate', 'circumvallating', 'circumvallation', 'circumvolutions', 'citriculturists', 'civilianisation', 'civilianization', 'clamorousnesses', 'clandestineness', 'clandestinities', 'classicalnesses', 'classifications', 'classlessnesses', 'claustrophobias', 'clearheadedness', 'cleavablenesses', 'cleistogamously', 'climacterically', 'climatographies', 'cloudlessnesses', 'coagulabilities', 'cockneyfication', 'cocknifications', 'coconsciousness', 'codetermination', 'codifiabilities', 'coeducationally', 'coenzymatically', 'coessentialness', 'coinstantaneity', 'coinstantaneous', 'coinvestigators', 'coldheartedness', 'collaboratively', 'collateralising', 'collateralities', 'collateralizing', 'collectednesses', 'collenchymatous', 'colliquescences', 'colloquialities', 'colonisationist', 'colonizationist', 'colorfastnesses', 'colorlessnesses', 'colourabilities', 'colourfulnesses', 'colposcopically', 'combativenesses', 'combinabilities', 'combinatorially', 'combustibleness', 'comfortableness', 'comfortlessness', 'commandantships', 'commemorational', 'commemoratively', 'commendableness', 'commensurations', 'commercialising', 'commercialistic', 'commercialities', 'commercializing', 'commiseratingly', 'commiseratively', 'commissaryships', 'commissionaires', 'commodification', 'commonplaceness', 'communalisation', 'communalization', 'communicability', 'communicational', 'communicatively', 'communistically', 'commutabilities', 'commutativities', 'compactednesses', 'comparabilities', 'comparativeness', 'compartmentally', 'compassionately', 'compassionating', 'compatibilities', 'compendiousness', 'competentnesses', 'competitiveness', 'complementaries', 'complementarily', 'complementarity', 'complementation', 'complementisers', 'complementizers', 'complexednesses', 'compliantnesses', 'complicatedness', 'complimentarily', 'compositenesses', 'compositionally', 'compotationship', 'comprehensively', 'comprehensivise', 'comprehensivize', 'compressibility', 'comptrollership', 'computabilities', 'computationally', 'computerisation', 'computerization', 'computerphobias', 'comradelinesses', 'conceitednesses', 'conceivableness', 'concelebrations', 'concentratively', 'concentricities', 'conceptualisers', 'conceptualising', 'conceptualistic', 'conceptualities', 'conceptualizers', 'conceptualizing', 'concernednesses', 'concertednesses', 'concertmeisters', 'concessionaires', 'concessionaries', 'concessionnaire', 'concretisations', 'concretizations', 'condescendences', 'condescendingly', 'conducivenesses', 'conductiometric', 'conduplications', 'confectionaries', 'confectioneries', 'confessionalism', 'confessionalist', 'confessionaries', 'confidentiality', 'confidingnesses', 'configurational', 'confirmednesses', 'conformableness', 'confraternities', 'confrontational', 'confusabilities', 'congealableness', 'congenialnesses', 'conglobulations', 'conglomerateurs', 'conglomerations', 'conglutinations', 'congratulations', 'congressionally', 'congresspersons', 'congruousnesses', 'conjugatenesses', 'conjugationally', 'conjunctionally', 'conjunctiveness', 'connaturalising', 'connaturalities', 'connaturalizing', 'connectednesses', 'connoisseurship', 'conquerableness', 'consanguinities', 'conscientiously', 'consciousnesses', 'conscriptionist', 'consecratedness', 'consecutiveness', 'consenescencies', 'consentaneities', 'consentaneously', 'consequentially', 'conservationist', 'conservatoriums', 'conservatorship', 'considerateness', 'consideratively', 'consimilarities', 'conspicuousness', 'conspiratresses', 'constellational', 'constitutionals', 'constitutionist', 'constringencies', 'constructionism', 'constructionist', 'constructivisms', 'constructivists', 'consubstantiate', 'consultantships', 'consumptiveness', 'consumptivities', 'containerboards', 'contemperations', 'contemperatures', 'contemplatively', 'contemporaneans', 'contemporaneity', 'contemporaneous', 'contemptibility', 'contentednesses', 'contentiousness', 'contesserations', 'contestableness', 'contextualising', 'contextualizing', 'continentalisms', 'continentalists', 'continualnesses', 'continuednesses', 'contortednesses', 'contortionistic', 'contraclockwise', 'contractability', 'contractibility', 'contractilities', 'contractiveness', 'contradictively', 'contradictories', 'contradictorily', 'contraindicants', 'contraindicated', 'contraindicates', 'contrapositions', 'contrapositives', 'contrapropeller', 'contrapuntalist', 'contrariousness', 'contravallation', 'controllability', 'controllerships', 'controversially', 'convalescencies', 'conventionalise', 'conventionalism', 'conventionalist', 'conventionality', 'conventionalize', 'conversableness', 'conversationism', 'conversationist', 'convertibleness', 'conveyorisation', 'conveyorization', 'convocationists', 'convolvulaceous', 'convulsionaries', 'cooperationists', 'cooperativeness', 'cooperativities', 'corinthianising', 'corinthianizing', 'corporatenesses', 'corporealnesses', 'corporification', 'corpuscularians', 'correlativeness', 'correlativities', 'correligionists', 'correspondences', 'correspondently', 'correspondingly', 'corrigibilities', 'corroboratively', 'corrodibilities', 'corrosibilities', 'corrosivenesses', 'corruptibleness', 'corticosteroids', 'corticosterones', 'corticotrophins', 'corynebacterial', 'corynebacterium', 'cosignificative', 'cosmeticologies', 'cosmopolitanism', 'cotransductions', 'coulometrically', 'councillorships', 'counsellorships', 'counteractively', 'counterargument', 'counterassaults', 'counterattacked', 'counterattacker', 'counterbalanced', 'counterbalances', 'counterblockade', 'countercampaign', 'counterchanging', 'countercharging', 'countercharming', 'counterchecking', 'counterclaimant', 'counterclaiming', 'countercultural', 'countercultures', 'countercurrents', 'countercyclical', 'counterevidence', 'counterexamples', 'counterfactuals', 'counterfeisance', 'counterfesaunce', 'counterguerilla', 'counterinstance', 'counterirritant', 'countermandable', 'countermarching', 'countermeasures', 'countermelodies', 'countermovement', 'counterordering', 'counterpetition', 'counterpicketed', 'counterpleading', 'counterplotting', 'counterpointing', 'counterpressure', 'counterprojects', 'counterproposal', 'counterprotests', 'counterpunchers', 'counterpunching', 'counterquestion', 'counterrallying', 'counterreaction', 'counterreformer', 'counterresponse', 'countershadings', 'counterstaining', 'counterstrategy', 'counterstricken', 'counterstriking', 'countersubjects', 'countertendency', 'countervailable', 'counterviolence', 'counterweighing', 'counterweighted', 'courteousnesses', 'courtmartialled', 'craniologically', 'crapulousnesses', 'crashworthiness', 'creditabilities', 'credulousnesses', 'crestfallenness', 'criminalisation', 'criminalization', 'criminousnesses', 'crosslinguistic', 'crossopterygian', 'crotchetinesses', 'cruciverbalisms', 'cruciverbalists', 'cryoprecipitate', 'cryoprotectants', 'cryptaesthesias', 'cryptanalytical', 'cryptographical', 'cryptographists', 'cryptorchidisms', 'cryptosporidium', 'cryptozoologies', 'cryptozoologist', 'crystalisations', 'crystalizations', 'crystallinities', 'crystallisation', 'crystallization', 'crystallography', 'cultivabilities', 'customarinesses', 'cyanoacetylenes', 'cyanocobalamine', 'cyanocobalamins', 'cyanoethylating', 'cyanoethylation', 'cybersecurities', 'cybersquattings', 'cyberterrorisms', 'cyberterrorists', 'cyclobarbitones', 'cyclohexylamine', 'cyclopentadiene', 'cyclopentolates', 'cylindricalness', 'cyproheptadines', 'cytochemistries', 'cytogenetically', 'cytogeneticists', 'cytomegalovirus', 'cytopathologies', 'cytophotometric', 'cytoplasmically', 'cytotaxonomists', 'dactyliomancies', 'dactylographers', 'dactylographies', 'daguerreotypers', 'daguerreotypies', 'daguerreotyping', 'daguerreotypist', 'damageabilities', 'dangerousnesses', 'dastardlinesses', 'dauntlessnesses', 'deacidification', 'deathlessnesses', 'debauchednesses', 'decalcification', 'decarbonisation', 'decarbonization', 'decarboxylating', 'decarboxylation', 'decarburisation', 'decarburization', 'decasualisation', 'decasualization', 'deceitfulnesses', 'deceivabilities', 'deceptibilities', 'deceptivenesses', 'decertification', 'dechlorinations', 'dechristianised', 'dechristianises', 'dechristianized', 'dechristianizes', 'deciduousnesses', 'decimalisations', 'decimalizations', 'decipherability', 'decolonisations', 'decolonizations', 'decolorisations', 'decolorizations', 'decolourisation', 'decolourization', 'decommissioners', 'decommissioning', 'decompensations', 'decomposability', 'deconcentrating', 'deconcentration', 'deconsecrations', 'deconstructions', 'decontaminating', 'decontamination', 'decontaminative', 'decontaminators', 'decriminalising', 'decriminalizing', 'dedifferentiate', 'deduciblenesses', 'deductibilities', 'defeasibilities', 'defectibilities', 'defectivenesses', 'defeminisations', 'defeminizations', 'defencelessness', 'defenestrations', 'defenselessness', 'defensibilities', 'defensivenesses', 'defervescencies', 'defibrillations', 'deficientnesses', 'deflocculations', 'deformabilities', 'degenerationist', 'deglamorisation', 'deglamorization', 'degradabilities', 'degradingnesses', 'dehumanisations', 'dehumanizations', 'dehydrogenating', 'dehydrogenation', 'dehydrogenising', 'dehydrogenizing', 'dehydroretinols', 'dehypnotisation', 'dehypnotization', 'deindividuation', 'deindustrialise', 'deindustrialize', 'delectabilities', 'delegitimations', 'deleteriousness', 'deliciousnesses', 'delightednesses', 'deliriousnesses', 'delocalisations', 'delocalizations', 'demagnetisation', 'demagnetization', 'demandingnesses', 'dematerialising', 'dematerializing', 'demeritoriously', 'demisemiquavers', 'demobilisations', 'demobilizations', 'democratifiable', 'democratisation', 'democratization', 'demographically', 'demonetisations', 'demonetizations', 'demonstrability', 'demonstrational', 'demonstratively', 'demoralisations', 'demoralizations', 'demulsification', 'demutualisation', 'demutualization', 'demystification', 'demythologisers', 'demythologising', 'demythologizers', 'demythologizing', 'denationalising', 'denationalizing', 'denazifications', 'denitrification', 'denitrificators', 'departmentalise', 'departmentalism', 'departmentalize', 'dependabilities', 'depersonalising', 'depersonalizing', 'dephlogisticate', 'dephosphorylate', 'depigmentations', 'deplorabilities', 'depolarisations', 'depolarizations', 'deregistrations', 'dereligionising', 'dereligionizing', 'derequisitioned', 'derivatisations', 'derivatizations', 'dermatoglyphics', 'dermatographias', 'dermatographies', 'dermatomyositis', 'dermatophytoses', 'dermatophytosis', 'dermatoplasties', 'desacralisation', 'desacralization', 'desalinisations', 'desalinizations', 'descriptiveness', 'desensitisation', 'desensitization', 'desertification', 'deservingnesses', 'desexualisation', 'desexualization', 'desilverisation', 'desilverization', 'desirablenesses', 'desperatenesses', 'despicabilities', 'despiritualised', 'despiritualises', 'despiritualized', 'despiritualizes', 'dessertspoonful', 'destabilisation', 'destabilization', 'destitutenesses', 'destructibility', 'destructionists', 'destructiveness', 'destructivities', 'desulfurisation', 'desulfurization', 'desulphurations', 'desultorinesses', 'detachabilities', 'detectabilities', 'determinability', 'determinateness', 'determinatively', 'deterrabilities', 'detestabilities', 'detoxifications', 'detribalisation', 'detribalization', 'deuteranomalies', 'deuteranomalous', 'devalorisations', 'devalorizations', 'developmentally', 'devitalisations', 'devitalizations', 'devitrification', 'devotionalities', 'dexamphetamines', 'dexterousnesses', 'dextrophosphate', 'dextrorotations', 'diagonalisation', 'diagonalization', 'diaheliotropism', 'dialectological', 'dialectologists', 'dialysabilities', 'dialyzabilities', 'diamagnetically', 'diaphototropies', 'diaphototropism', 'diaphragmatitis', 'diastereoisomer', 'diastrophically', 'dichlorobenzene', 'dichloroethanes', 'dichloromethane', 'dichotomisation', 'dichotomization', 'dichotomousness', 'dichromaticisms', 'dictatorialness', 'differentiating', 'differentiation', 'differentiators', 'differentnesses', 'diffractiveness', 'diffractometers', 'diffractometric', 'diffrangibility', 'diffusibilities', 'diffusivenesses', 'digestibilities', 'digitalisations', 'digitalizations', 'dignifiednesses', 'dilatablenesses', 'dimenhydrinates', 'dimethylaniline', 'dinitrobenzenes', 'dinoflagellates', 'dioeciousnesses', 'diphenhydramine', 'diphenylenimine', 'diphenylketones', 'diplomatologies', 'disaccharidases', 'disaccommodated', 'disaccommodates', 'disacknowledged', 'disacknowledges', 'disadvantageous', 'disaffectedness', 'disaffectionate', 'disaffiliations', 'disaffirmations', 'disafforestment', 'disaggregations', 'disagreeability', 'disambiguations', 'disapplications', 'disappointingly', 'disappointments', 'disapprobations', 'disappropriated', 'disappropriates', 'disarrangements', 'disarticulating', 'disarticulation', 'disarticulators', 'disassimilating', 'disassimilation', 'disassimilative', 'disassociations', 'disattributions', 'discapacitating', 'disciplinarians', 'disciplinariums', 'discolourations', 'discomboberated', 'discomboberates', 'discombobulated', 'discombobulates', 'discommendation', 'discommissioned', 'discommodiously', 'disconcertingly', 'disconcertments', 'disconfirmation', 'disconformities', 'disconsolations', 'discontentments', 'discontiguities', 'discontinuances', 'discontinuation', 'discontinuities', 'discontinuously', 'discountenanced', 'discountenances', 'discouragements', 'discretionarily', 'discriminations', 'disembarkations', 'disembarrassing', 'disembellishing', 'disemboguements', 'disembowelments', 'disempowerments', 'disenchantingly', 'disenchantments', 'disencumberment', 'disencumbrances', 'disenfranchised', 'disenfranchises', 'disentanglement', 'disenthrallment', 'disenthralments', 'disentrainments', 'disentrancement', 'disequilibrated', 'disequilibrates', 'disequilibriums', 'disestablishing', 'disfeaturements', 'disforestations', 'disfurnishments', 'disgracefulness', 'disgruntlements', 'disguisednesses', 'disgustednesses', 'dishabilitating', 'dishabilitation', 'disharmoniously', 'dishearteningly', 'disheartenments', 'disilluminating', 'disillusionised', 'disillusionises', 'disillusionized', 'disillusionizes', 'disillusionment', 'disimprisonment', 'disincarcerated', 'disincarcerates', 'disinclinations', 'disincorporated', 'disincorporates', 'disinfestations', 'disinflationary', 'disinformations', 'disinheritances', 'disintegrations', 'disinterestedly', 'disintoxicating', 'disintoxication', 'disinvestitures', 'disinvigorating', 'disnaturalising', 'disnaturalizing', 'disobligingness', 'disorganisation', 'disorganization', 'disorientations', 'disparatenesses', 'dispassionately', 'dispensableness', 'dispersednesses', 'displeasingness', 'displenishments', 'disposabilities', 'disproportional', 'disproportioned', 'disputabilities', 'disputativeness', 'disquisitionary', 'disreputability', 'disrespectfully', 'dissatisfaction', 'dissatisfactory', 'dissertationist', 'dissimilarities', 'dissociableness', 'dissolubilities', 'dissolutenesses', 'dissolutionisms', 'dissolutionists', 'dissolvableness', 'distastefulness', 'distemperatures', 'distinctiveness', 'distinguishable', 'distinguishably', 'distinguishment', 'distortednesses', 'distractibility', 'distressfulness', 'distrustfulness', 'dithiocarbamate', 'dithyrambically', 'diversification', 'divertibilities', 'divertissements', 'divisiblenesses', 'doctrinarianism', 'documentarising', 'documentarizing', 'documentational', 'dodecasyllables', 'dolichocephalic', 'dolichosauruses', 'dolomitisations', 'dolomitizations', 'domineeringness', 'dorsibranchiate', 'dorsiventrality', 'dorsoventrality', 'doubtlessnesses', 'downheartedness', 'downregulations', 'downrightnesses', 'dramaturgically', 'draughtsmanship', 'dreadlessnesses', 'dreamlessnesses', 'drinkablenesses', 'duplicabilities', 'durchkomponiert', 'dyslogistically', 'dysmorphophobia', 'dysteleological', 'dysteleologists', 'earthshattering', 'easygoingnesses', 'ebullioscopical', 'eburnifications', 'ecclesiasticism', 'ecclesiolatries', 'ecclesiological', 'ecclesiologists', 'eccremocarpuses', 'echinodermatous', 'echocardiograms', 'eclaircissement', 'ecocatastrophes', 'econometrically', 'econometricians', 'ecophysiologies', 'ecotoxicologies', 'ecotoxicologist', 'ectomycorrhizae', 'ectomycorrhizas', 'edriophthalmian', 'edriophthalmous', 'educatabilities', 'educationalists', 'effectivenesses', 'effectualnesses', 'effervescencies', 'efficaciousness', 'effortfulnesses', 'egalitarianisms', 'eggheadednesses', 'egocentricities', 'egregiousnesses', 'elaboratenesses', 'electioneerings', 'electrification', 'electroacoustic', 'electroactivity', 'electroanalyses', 'electroanalysis', 'electroanalytic', 'electrochemical', 'electrochemists', 'electrocultures', 'electrodeposits', 'electrodialyses', 'electrodialysis', 'electrodialytic', 'electrodynamics', 'electrofishings', 'electroformings', 'electrogildings', 'electrographies', 'electrokinetics', 'electrolysation', 'electrolyzation', 'electromagnetic', 'electrometrical', 'electromotances', 'electromyograms', 'electromyograph', 'electronegative', 'electrophoresed', 'electrophoreses', 'electrophoresis', 'electrophoretic', 'electrophoruses', 'electroplatings', 'electropositive', 'electroreceptor', 'electrorheology', 'electrosurgical', 'electrotechnics', 'electrothermics', 'electrothermies', 'electrovalences', 'electrovalently', 'electrowinnings', 'eleutherococcus', 'eleutherodactyl', 'eleutheromanias', 'eleutherophobia', 'eleutherophobic', 'eliminabilities', 'emancipationist', 'embracingnesses', 'embryologically', 'emotionlessness', 'empiricalnesses', 'employabilities', 'empoverishments', 'empyreumatising', 'empyreumatizing', 'emulsifications', 'enantiomorphies', 'enantiomorphism', 'enantiomorphous', 'encephalitogens', 'encephalographs', 'encephalography', 'encephalopathic', 'encephalotomies', 'enchondromatous', 'encomiastically', 'encyclopaedisms', 'encyclopaedists', 'endearingnesses', 'endocrinologies', 'endocrinologist', 'endocrinopathic', 'endonucleolytic', 'endoparasitisms', 'endoradiosondes', 'endothermically', 'endurablenesses', 'enfranchisement', 'engrainednesses', 'enhypostatising', 'enhypostatizing', 'enjoyablenesses', 'enterobacterial', 'enterobacterium', 'enterocolitises', 'enterogastrones', 'enterohepatitis', 'enthronisations', 'enthronizations', 'entomologically', 'entrepreneurial', 'enumerabilities', 'envenomisations', 'envenomizations', 'environmentally', 'epeirogenically', 'ephemeralnesses', 'ephemeropterans', 'epichlorohydrin', 'epicondylitises', 'epidemiological', 'epidemiologists', 'epigrammatisers', 'epigrammatising', 'epigrammatizers', 'epigrammatizing', 'epiphenomenally', 'episcopalianism', 'epistemological', 'epistemologists', 'epithelialising', 'epithelializing', 'epitheliomatous', 'epithelisations', 'epithelizations', 'epizootiologies', 'equalitarianism', 'equiponderances', 'equiponderating', 'equiprobability', 'equitablenesses', 'equivocalnesses', 'ergatandromorph', 'erroneousnesses', 'erythromelalgia', 'erythropoietins', 'essentialnesses', 'esterifications', 'estimablenesses', 'estrangednesses', 'eternalisations', 'eternalizations', 'etherealisation', 'etherealization', 'etherifications', 'ethnocentricity', 'ethnohistorians', 'ethnohistorical', 'ethnolinguistic', 'ethnomusicology', 'eudaemonistical', 'eudiometrically', 'euphemistically', 'eutrophications', 'evangelicalisms', 'evangelicalness', 'evangelisations', 'evangelistaries', 'evangelistarion', 'evangelizations', 'evaporabilities', 'everlastingness', 'evocativenesses', 'exacerbescences', 'exaggeratedness', 'examinabilities', 'exceptionalisms', 'exceptionalness', 'excessivenesses', 'exchangeability', 'excitablenesses', 'exclaustrations', 'excludabilities', 'exclusivenesses', 'excommunicating', 'excommunication', 'excommunicative', 'excommunicators', 'excommunicatory', 'excrementitious', 'excursivenesses', 'excusablenesses', 'execrablenesses', 'exemplarinesses', 'exemplification', 'exemplificative', 'exhaustlessness', 'exhibitionistic', 'existentialisms', 'existentialists', 'exoerythrocytic', 'exothermicities', 'expandabilities', 'expansibilities', 'expansivenesses', 'expeditiousness', 'expendabilities', 'expensivenesses', 'experientialism', 'experientialist', 'experimentalise', 'experimentalism', 'experimentalist', 'experimentalize', 'experimentation', 'experimentative', 'explorationists', 'explosivenesses', 'exponentiations', 'exportabilities', 'expostulatingly', 'expressionistic', 'exquisitenesses', 'exsanguinations', 'extemporariness', 'extemporisation', 'extemporization', 'extendabilities', 'extendibilities', 'extensibilities', 'extensification', 'extensionalisms', 'extensivenesses', 'extensivisation', 'extensivization', 'exteriorisation', 'exteriorization', 'externalisation', 'externalization', 'exterritorially', 'extinguishments', 'extracellularly', 'extracurricular', 'extrajudicially', 'extralinguistic', 'extraordinaries', 'extraordinarily', 'extrudabilities', 'facetiousnesses', 'factorabilities', 'faithlessnesses', 'faithworthiness', 'familiarisation', 'familiarization', 'fanaticalnesses', 'fantasticalness', 'fantastications', 'farthingsworths', 'fashionableness', 'fatheadednesses', 'fatigablenesses', 'faultlessnesses', 'favorablenesses', 'featherbeddings', 'featherstitched', 'featherstitches', 'featurelessness', 'federalisations', 'federalizations', 'feloniousnesses', 'fencelessnesses', 'ferociousnesses', 'ferrimagnetisms', 'ferromagnetisms', 'ferromanganeses', 'ferromolybdenum', 'ferroprussiates', 'fetishistically', 'feuilletonistic', 'fibrinopeptides', 'fibrocartilages', 'fictionisations', 'fictionizations', 'fideicommissary', 'filterabilities', 'fingerprintings', 'fissiparousness', 'flagellomaniacs', 'flashforwarding', 'flavourdynamics', 'flexitarianisms', 'flibbertigibbet', 'flirtatiousness', 'floriculturists', 'floriferousness', 'foolhardinesses', 'forensicalities', 'foreordainments', 'foreordinations', 'foreshortenings', 'foresightedness', 'forgetfulnesses', 'forgivingnesses', 'forgottennesses', 'forisfamiliated', 'forisfamiliates', 'formalistically', 'formativenesses', 'formidabilities', 'formularisation', 'formularization', 'forthcomingness', 'fortunatenesses', 'fractionalising', 'fractionalizing', 'fractionisation', 'fractionization', 'fractiousnesses', 'fragmentariness', 'frangiblenesses', 'fraternisations', 'fraternizations', 'frenchification', 'frightfulnesses', 'frivolousnesses', 'fructifications', 'fructuousnesses', 'fruitlessnesses', 'fugaciousnesses', 'functionalistic', 'functionalities', 'fundamentalisms', 'fundamentalists', 'fundamentalness', 'fungistatically', 'furaciousnesses', 'furfuraldehydes', 'futilitarianism', 'galactopoietics', 'galvanometrical', 'galvanoplasties', 'galvanotropisms', 'gamogenetically', 'garrulousnesses', 'gastroenteritic', 'gastroenteritis', 'gastronomically', 'gelatinisations', 'gelatinizations', 'generalisations', 'generalizations', 'genethlialogies', 'gentlemanliness', 'gentrifications', 'geochronologies', 'geochronologist', 'geodemographics', 'geohydrologists', 'geomagnetically', 'geometrisations', 'geometrizations', 'geomorphogenies', 'geomorphogenist', 'geomorphologies', 'geomorphologist', 'geostrophically', 'geotechnologies', 'geotectonically', 'geothermometers', 'germinabilities', 'gerrymanderings', 'gewurztraminers', 'glamorousnesses', 'glossographical', 'glucocorticoids', 'gluconeogeneses', 'gluconeogenesis', 'glutaraldehydes', 'glutinousnesses', 'glyceraldehydes', 'glyconeogeneses', 'glyconeogenesis', 'glyphographical', 'glyptographical', 'gnathostomatous', 'gnotobiological', 'gnotobiotically', 'goniometrically', 'goodfellowships', 'governabilities', 'governmentalise', 'governmentalism', 'governmentalist', 'governmentalize', 'gracelessnesses', 'grammaticalness', 'grammaticasters', 'grammatologists', 'gramophonically', 'grandiloquences', 'grandiloquently', 'grandiosenesses', 'grandparenthood', 'grangerisations', 'grangerizations', 'granitification', 'granulitisation', 'granulitization', 'graphicalnesses', 'graphitisations', 'graphitizations', 'gravimetrically', 'graviperception', 'gravitationally', 'greensicknesses', 'greisenisations', 'greisenizations', 'grotesquenesses', 'groundbreakings', 'guilelessnesses', 'guiltlessnesses', 'gutturalisation', 'gutturalization', 'gynandromorphic', 'gyrofrequencies', 'gyrostabilisers', 'gyrostabilizers', 'habitablenesses', 'haemacytometers', 'haemagglutinate', 'haemagglutinins', 'haemocytometers', 'haemoflagellate', 'haemoglobinuria', 'halfheartedness', 'halfpennyworths', 'hallucinational', 'hallucinogenics', 'hamamelidaceous', 'haphazardnesses', 'hardheartedness', 'harmonistically', 'harpsichordists', 'hazardousnesses', 'headmasterships', 'healthfulnesses', 'heartbreakingly', 'heartbrokenness', 'heartlessnesses', 'heartsicknesses', 'heartsomenesses', 'heliocentricism', 'heliocentricity', 'heliometrically', 'heliosciophytes', 'heliotropically', 'helminthologies', 'helminthologist', 'hemagglutinated', 'hemagglutinates', 'hematoporphyrin', 'hemicryptophyte', 'hemicrystalline', 'hemochromatoses', 'hemochromatosis', 'hemodynamically', 'hemoflagellates', 'hemoglobinurias', 'hendecasyllabic', 'hendecasyllable', 'hepaticological', 'hepaticologists', 'herbivorousness', 'hereditarianism', 'hereditarianist', 'heresiographers', 'heresiographies', 'herestheticians', 'hermaphroditism', 'hermeneutically', 'herniorrhaphies', 'heterocercality', 'heterochromatic', 'heterochromatin', 'heterochronisms', 'heterodactylous', 'heteroflexibles', 'heterogeneities', 'heterogeneously', 'heterographical', 'heteromorphisms', 'heteroscedastic', 'heterosexuality', 'heterosociality', 'heterostrophies', 'heterothallisms', 'hexachlorethane', 'hexachlorophane', 'hexachlorophene', 'hexosaminidases', 'hexylresorcinol', 'hieracosphinges', 'hieracosphinxes', 'hierogrammatist', 'hilariousnesses', 'histochemically', 'histocompatible', 'histopathologic', 'histophysiology', 'historiographer', 'historiographic', 'hobbledehoydoms', 'hobbledehoyhood', 'hobbledehoyisms', 'hoidenishnesses', 'holoblastically', 'holocrystalline', 'holographically', 'holometabolisms', 'homeopathically', 'homocentrically', 'homochlamydeous', 'homochromatisms', 'homoeomorphisms', 'homoeoteleutons', 'homogeneousness', 'homogenisations', 'homogenizations', 'homoplastically', 'homosexualities', 'homosocialities', 'homotransplants', 'honorablenesses', 'horizontalities', 'horticulturally', 'horticulturists', 'hospitalisation', 'hospitalization', 'hotheadednesses', 'householdership', 'houselessnesses', 'housemistresses', 'housewifeliness', 'hoydenishnesses', 'huckleberryings', 'humanitarianism', 'humanitarianist', 'humidifications', 'humorlessnesses', 'hydrobiological', 'hydrobiologists', 'hydrocelluloses', 'hydrocephaluses', 'hydrocorallines', 'hydrocortisones', 'hydrodynamicist', 'hydroextractors', 'hydrogenisation', 'hydrogenization', 'hydrogeological', 'hydrogeologists', 'hydromechanical', 'hydrometallurgy', 'hydrometrically', 'hydropathically', 'hydrostatically', 'hydrosulphurous', 'hydrotherapists', 'hydrotropically', 'hydroxyapatites', 'hydroxybutyrate', 'hydroxylapatite', 'hydroxyprolines', 'hyetometrograph', 'hygrometrically', 'hygroscopically', 'hylozoistically', 'hyperactivities', 'hyperadrenalism', 'hyperaesthesias', 'hyperaggressive', 'hypercalcaemias', 'hypercatabolism', 'hypercatalectic', 'hypercoagulable', 'hypercorrection', 'hypercritically', 'hypercriticised', 'hypercriticises', 'hypercriticisms', 'hypercriticized', 'hypercriticizes', 'hyperexcitement', 'hyperexcretions', 'hyperextensions', 'hyperfastidious', 'hyperfunctional', 'hyperglycaemias', 'hyperimmunising', 'hyperimmunizing', 'hyperinflations', 'hyperinsulinism', 'hyperinvolution', 'hyperlipidaemia', 'hyperlipidemias', 'hypermetabolism', 'hypermetropical', 'hypermobilities', 'hypermodernists', 'hypermutability', 'hypernatraemias', 'hyperparasitism', 'hyperphysically', 'hyperpolarising', 'hyperpolarizing', 'hyperproduction', 'hyperreactivity', 'hyperresponsive', 'hypersalinities', 'hypersalivation', 'hypersecretions', 'hypersensitised', 'hypersensitises', 'hypersensitized', 'hypersensitizes', 'hypersomnolence', 'hyperstimulated', 'hyperstimulates', 'hyperthyroidism', 'hypertonicities', 'hypervelocities', 'hyperventilated', 'hyperventilates', 'hypervigilances', 'hypnotherapists', 'hypnotisability', 'hypnotizability', 'hypochondriacal', 'hypochondriases', 'hypochondriasis', 'hypochondriasms', 'hypochondriasts', 'hypocrystalline', 'hypomagnesaemia', 'hypomagnesemias', 'hypomenorrhoeas', 'hypophosphorous', 'hypopituitarism', 'hyposensitising', 'hyposensitizing', 'hypostasisation', 'hypostasization', 'hypostatisation', 'hypostatization', 'hypothyroidisms', 'hypoventilation', 'hypsometrically', 'hysterectomised', 'hysterectomises', 'hysterectomized', 'hysterectomizes', 'hystricomorphic', 'iatrogenicities', 'ichthyodorulite', 'ichthyodorylite', 'ichthyophagists', 'ichthyosaurians', 'ichthyosauruses', 'icositetrahedra', 'identicalnesses', 'identifications', 'ideographically', 'idiomaticalness', 'idiomaticnesses', 'idiomorphically', 'idiosyncratical', 'idioticalnesses', 'ignominiousness', 'illegalisations', 'illegalizations', 'illegiblenesses', 'illegitimations', 'illiberalnesses', 'illimitableness', 'illogicalnesses', 'illustriousness', 'imaginarinesses', 'imaginativeness', 'imitativenesses', 'immaterialising', 'immaterialities', 'immaterializing', 'immeasurability', 'immediatenesses', 'immedicableness', 'immensurability', 'immiscibilities', 'immiserisations', 'immiserizations', 'immobilisations', 'immobilizations', 'immortalisation', 'immortalization', 'immovablenesses', 'immoveabilities', 'immunoassayable', 'immunoassayists', 'immunoblottings', 'immunochemistry', 'immunocompetent', 'immunocomplexes', 'immunodeficient', 'immunodiagnoses', 'immunodiagnosis', 'immunodiffusion', 'immunogenetical', 'immunogenically', 'immunoglobulins', 'immunologically', 'immunomodulator', 'immunopathology', 'immunoreactions', 'immunotherapies', 'immutablenesses', 'impalpabilities', 'impartialnesses', 'impartibilities', 'impassabilities', 'impassibilities', 'impassionedness', 'impassivenesses', 'impeccabilities', 'impecuniosities', 'impecuniousness', 'impenetrability', 'imperfectnesses', 'imperiousnesses', 'imperishability', 'impermeableness', 'imperscriptible', 'impersonalising', 'impersonalities', 'impersonalizing', 'imperturbations', 'imperviableness', 'impetuousnesses', 'implacabilities', 'implausibleness', 'implementations', 'implicativeness', 'impoliticnesses', 'imponderability', 'importabilities', 'importunateness', 'impossibilities', 'imposthumations', 'impoverishments', 'impracticalness', 'imprecisenesses', 'impregnableness', 'imprescriptible', 'imprescriptibly', 'impressionistic', 'improbabilities', 'improvabilities', 'improvisational', 'improvisatorial', 'improvisatrices', 'improvisatrixes', 'improvvisatores', 'improvvisatrice', 'impulsivenesses', 'imputablenesses', 'inaccessibility', 'inadmissibility', 'inadvisableness', 'inalienableness', 'inalterableness', 'inanimatenesses', 'inapplicability', 'inappreciations', 'inapprehensible', 'inapprehensions', 'inappropriately', 'inarticulations', 'inattentiveness', 'inaudiblenesses', 'incalculability', 'incandescencies', 'incapablenesses', 'incapaciousness', 'incapacitations', 'incentivisation', 'incentivization', 'incessantnesses', 'inclementnesses', 'inclusivenesses', 'incommensurable', 'incommensurably', 'incommunicative', 'incommutability', 'incomparability', 'incompatibility', 'incomprehension', 'incomprehensive', 'incomputability', 'incongruousness', 'inconsecutively', 'inconsequential', 'inconsiderately', 'inconsideration', 'inconsistencies', 'inconsolability', 'inconspicuously', 'inconveniencies', 'inconveniencing', 'incoordinations', 'incorrectnesses', 'incorrigibility', 'incorruptnesses', 'incredibilities', 'incredulousness', 'incrementalisms', 'incrementalists', 'incrossbreeding', 'inculpabilities', 'incurablenesses', 'incuriousnesses', 'indefeasibility', 'indefectibility', 'indefensibility', 'indefinableness', 'indeliblenesses', 'indemnification', 'indeterminacies', 'indeterminately', 'indetermination', 'indeterministic', 'indifferentisms', 'indifferentists', 'indigenisations', 'indigenizations', 'indigestibility', 'indisciplinable', 'indiscretionary', 'indisputability', 'indissolubility', 'indistinctively', 'indistributable', 'individualisers', 'individualising', 'individualistic', 'individualities', 'individualizers', 'individualizing', 'indivisibleness', 'indoctrinations', 'indomitableness', 'indubitableness', 'inductivenesses', 'industrialising', 'industrializing', 'industriousness', 'ineducabilities', 'ineffablenesses', 'ineffaceability', 'ineffectiveness', 'ineffectualness', 'inefficaciously', 'ineligibilities', 'ineludibilities', 'inequitableness', 'ineradicability', 'inerrablenesses', 'inestimableness', 'inevitabilities', 'inexcusableness', 'inexorabilities', 'inexpensiveness', 'inexplicability', 'inexpugnability', 'inextensibility', 'inextricability', 'infallibilities', 'infantilisation', 'infantilization', 'infeasibilities', 'infectivenesses', 'infinitesimally', 'inflammableness', 'inflectednesses', 'inflexibilities', 'informationally', 'informativeness', 'infralapsarians', 'infrangibleness', 'infrastructural', 'infrastructures', 'infundibuliform', 'infusiblenesses', 'ingeniousnesses', 'ingenuousnesses', 'ingrainednesses', 'inharmonicities', 'inheritableness', 'inhomogeneities', 'inhospitalities', 'inimitabilities', 'initialisations', 'initializations', 'injudiciousness', 'injuriousnesses', 'innocuousnesses', 'innoxiousnesses', 'innumerableness', 'inobtrusiveness', 'inoculabilities', 'inodorousnesses', 'inoffensiveness', 'inofficiousness', 'inoperabilities', 'inoperativeness', 'inopportuneness', 'inopportunities', 'inorganisations', 'inorganizations', 'inquisitionists', 'inquisitiveness', 'inquisitorially', 'insatiabilities', 'insatiatenesses', 'inscribableness', 'inscrutableness', 'insensatenesses', 'insensibilities', 'insensitiveness', 'insensitivities', 'inseparableness', 'insidiousnesses', 'insignificances', 'insignificantly', 'insignificative', 'insociabilities', 'insolublenesses', 'insolvabilities', 'inspirationally', 'inspirationisms', 'inspirationists', 'instantaneities', 'instantaneously', 'instinctivities', 'institutionally', 'instructiveness', 'instructorships', 'instrumentalism', 'instrumentalist', 'instrumentality', 'instrumentation', 'insubordinately', 'insubordination', 'insubstantially', 'insufficiencies', 'insuperableness', 'insurrectionary', 'insurrectionism', 'insurrectionist', 'intangibilities', 'integrabilities', 'integrationists', 'intellectualise', 'intellectualism', 'intellectualist', 'intellectuality', 'intellectualize', 'intelligentsias', 'intelligentzias', 'intelligibility', 'intemperateness', 'intensification', 'intensivenesses', 'interactionisms', 'interactionists', 'interactivities', 'interambulacral', 'interambulacrum', 'interanimations', 'interbehavioral', 'interchangeable', 'interchangeably', 'interchangement', 'interclavicular', 'intercollegiate', 'intercolonially', 'intercommunions', 'intercomparison', 'interconnecting', 'interconnection', 'interconnectors', 'interconnexions', 'interconversion', 'interconverting', 'intercorrelated', 'intercorrelates', 'interculturally', 'interdependence', 'interdependency', 'interdiffusions', 'interdigitating', 'interdigitation', 'interdivisional', 'interelectronic', 'interestingness', 'interfascicular', 'interferometers', 'interferometric', 'interfraternity', 'intergeneration', 'intergradations', 'interindividual', 'interinfluences', 'interiorisation', 'interiorization', 'interjaculating', 'interjaculatory', 'interjectionary', 'interlacustrine', 'interlaminating', 'interlamination', 'interlineations', 'interlocutorily', 'interlocutrices', 'interlocutrixes', 'intermediations', 'intermigrations', 'interminability', 'intermittencies', 'intermodulation', 'internalisation', 'internalization', 'internationally', 'internucleotide', 'interosculating', 'interosculation', 'interparoxysmal', 'interpellations', 'interpenetrable', 'interpenetrated', 'interpenetrates', 'interperceptual', 'interpermeating', 'interpersonally', 'interphalangeal', 'interpopulation', 'interpretations', 'interpretership', 'interpretresses', 'interprovincial', 'interpunctuated', 'interpunctuates', 'interrogatingly', 'interrogational', 'interrogatively', 'interrogatories', 'interrogatorily', 'interscholastic', 'intersexualisms', 'interstratified', 'interstratifies', 'intersubjective', 'intertanglement', 'intertentacular', 'intertextuality', 'intertwinements', 'intertwistingly', 'interuniversity', 'intervalometers', 'interventionism', 'interventionist', 'intervisibility', 'intervisitation', 'interweavements', 'intolerableness', 'intracellularly', 'intracerebrally', 'intractableness', 'intradermically', 'intrafascicular', 'intramuscularly', 'intransigeances', 'intransigeantly', 'intransigencies', 'intransigentism', 'intransigentist', 'intransmissible', 'intraperitoneal', 'intrapopulation', 'intrapreneurial', 'intravascularly', 'intricatenesses', 'intrinsicalness', 'introspectional', 'introspectively', 'introsusception', 'intrusivenesses', 'intuitionalisms', 'intuitionalists', 'intuitivenesses', 'intussuscepting', 'intussusception', 'intussusceptive', 'invariabilities', 'invectivenesses', 'invendibilities', 'inventivenesses', 'invertibilities', 'investigational', 'invidiousnesses', 'invincibilities', 'inviolabilities', 'inviolatenesses', 'invisiblenesses', 'involuntariness', 'invulnerability', 'ionospherically', 'irasciblenesses', 'irrationalising', 'irrationalistic', 'irrationalities', 'irrationalizing', 'irreciprocities', 'irreconcilables', 'irreconcilement', 'irredeemability', 'irreducibleness', 'irreductibility', 'irreformability', 'irrefragability', 'irrefutableness', 'irreligiousness', 'irremissibility', 'irremovableness', 'irreparableness', 'irrepealability', 'irreprehensible', 'irreprehensibly', 'irresistibility', 'irresolvability', 'irretentiveness', 'irreversibility', 'irrevocableness', 'irritablenesses', 'ismaticalnesses', 'isoimmunisation', 'isoimmunization', 'isoperimetrical', 'iterativenesses', 'journalisations', 'journalizations', 'judiciousnesses', 'jurisprudential', 'justifiableness', 'juxtapositional', 'kaffeeklatsches', 'karstifications', 'katathermometer', 'kenogenetically', 'keratinisations', 'keratinizations', 'kindergarteners', 'kindheartedness', 'kinematographer', 'kinematographic', 'kinesitherapies', 'kinesthetically', 'kinetheodolites', 'kinetonucleuses', 'kittenishnesses', 'knowledgability', 'kremlinologists', 'laboriousnesses', 'labyrinthically', 'labyrinthitises', 'labyrinthodonts', 'lackadaisically', 'lactiferousness', 'lactovegetarian', 'lamellirostrate', 'lapidifications', 'laryngectomised', 'laryngectomized', 'laryngoscopists', 'latensification', 'lateralisations', 'lateralizations', 'latitudinarians', 'laughablenesses', 'lecherousnesses', 'legerdemainists', 'legislatorships', 'legitimisations', 'legitimizations', 'leisurelinesses', 'lepidodendroids', 'lepidopterology', 'leucocythaemias', 'leucocytopenias', 'leukaemogeneses', 'leukaemogenesis', 'levelheadedness', 'lexicalisations', 'lexicalizations', 'lexicographical', 'lexicographists', 'lexicologically', 'liberalisations', 'liberalizations', 'libertarianisms', 'licentiateships', 'lickerishnesses', 'lieutenantships', 'lightfastnesses', 'lightsomenesses', 'lignocelluloses', 'lignocellulosic', 'lignosulfonates', 'limitablenesses', 'limitlessnesses', 'lionheartedness', 'lipodystrophies', 'lipogrammatisms', 'lipogrammatists', 'liquorishnesses', 'lissencephalous', 'listenabilities', 'literalisations', 'literalizations', 'lithesomenesses', 'lithochromatics', 'lithonthryptics', 'lithontriptists', 'litigiousnesses', 'liturgiologists', 'loathsomenesses', 'logarithmically', 'logographically', 'longsightedness', 'lophobranchiate', 'lucrativenesses', 'ludicrousnesses', 'lumberingnesses', 'luxuriousnesses', 'lymphadenitises', 'lymphadenopathy', 'lymphangiograms', 'lymphoadenomata', 'lymphocytopenia', 'lymphogranuloma', 'lymphosarcomata', 'lyophilisations', 'lyophilizations', 'lysogenisations', 'lysogenizations', 'macadamisations', 'macadamizations', 'machinabilities', 'macrencephalias', 'macrencephalies', 'macroaggregated', 'macroaggregates', 'macrocosmically', 'macroevolutions', 'macrophotograph', 'macroscopically', 'macrosporangium', 'macrostructural', 'macrostructures', 'maddeningnesses', 'magisterialness', 'magistrateships', 'magistratically', 'magnanimousness', 'magnetochemical', 'magnetoelectric', 'magnificentness', 'maintainability', 'majoritarianism', 'malacopterygian', 'maladministered', 'maladroitnesses', 'malappropriated', 'malappropriates', 'malassimilation', 'malconformation', 'maldistribution', 'malfunctionings', 'maliciousnesses', 'malleablenesses', 'malpractitioner', 'malpresentation', 'manageabilities', 'maneuverability', 'manifestational', 'manneristically', 'manoeuvrability', 'marconigraphing', 'margaritiferous', 'marginalisation', 'marginalization', 'marketabilities', 'marriageability', 'martensitically', 'marvelousnesses', 'masculinenesses', 'masculinisation', 'masculinization', 'masochistically', 'massotherapists', 'masterfulnesses', 'mastoidectomies', 'matchlessnesses', 'materfamiliases', 'materialisation', 'materialistical', 'materialization', 'mathematicising', 'mathematicizing', 'mathematisation', 'mathematization', 'matriarchalisms', 'matrifocalities', 'matrilocalities', 'meaninglessness', 'measurabilities', 'measurelessness', 'mechanistically', 'mechanochemical', 'mechanomorphism', 'mechanoreceptor', 'medicalisations', 'medicalizations', 'medulloblastoma', 'megacorporation', 'megagametophyte', 'megalocephalies', 'megalocephalous', 'megasporophylls', 'megavertebrates', 'melancholically', 'mellifluousness', 'melodiousnesses', 'melodramatising', 'melodramatizing', 'memorablenesses', 'memorialisation', 'memorialization', 'menispermaceous', 'mensurabilities', 'mentalistically', 'mercaptopurines', 'mercenarinesses', 'merchantability', 'mercilessnesses', 'mercurialnesses', 'meridionalities', 'meritoriousness', 'meroblastically', 'mesaticephalies', 'mesaticephalous', 'metachromatisms', 'metacinnabarite', 'metafictionists', 'metagenetically', 'metagrabolising', 'metagrabolizing', 'metagrobolising', 'metagrobolizing', 'metalinguistics', 'metallographers', 'metallographies', 'metallographist', 'metallurgically', 'metamathematics', 'metamictisation', 'metamictization', 'metamorphically', 'metaphysicising', 'metaphysicizing', 'metastabilities', 'metatheoretical', 'metempsychosist', 'methaemoglobins', 'methamphetamine', 'methoxybenzenes', 'methoxyfluranes', 'methylcellulose', 'methylmercuries', 'methylphenidate', 'methylthionines', 'methylxanthines', 'metropolitanate', 'metropolitanise', 'metropolitanism', 'metropolitanize', 'microaerophiles', 'microaerophilic', 'microanalytical', 'microanatomical', 'microbarographs', 'microbiological', 'microbiologists', 'microcomponents', 'microcomputings', 'microcosmically', 'microdetections', 'microdissection', 'microearthquake', 'microelectrodes', 'microelectronic', 'microevolutions', 'microgametocyte', 'microinjections', 'micromanagement', 'micromarketings', 'micrometeorites', 'micrometeoritic', 'micrometeoroids', 'micromicrocurie', 'micromicrofarad', 'micromillimetre', 'micromorphology', 'micropegmatites', 'micropegmatitic', 'microphotograph', 'microphotometer', 'microphotometry', 'microphysically', 'microporosities', 'microprocessing', 'microprocessors', 'microprojection', 'microprojectors', 'micropublishers', 'micropublishing', 'micropulsations', 'micropyrometers', 'microradiograph', 'microsatellites', 'microscopically', 'microseismicity', 'microsporangium', 'microsporocytes', 'microsporophyll', 'microstructural', 'microstructures', 'microtechniques', 'microtechnology', 'microtonalities', 'microtunnelling', 'middelmannetjie', 'militarisations', 'militarizations', 'millenarianisms', 'millionairesses', 'mineralisations', 'mineralizations', 'mineralogically', 'miniaturisation', 'miniaturization', 'ministerialists', 'mirthlessnesses', 'misacceptations', 'misapplications', 'misappreciating', 'misappreciation', 'misappreciative', 'misapprehending', 'misapprehension', 'misapprehensive', 'misappropriated', 'misappropriates', 'misarrangements', 'misarticulating', 'misattributions', 'misbecomingness', 'miscalculations', 'miscegenational', 'miscellanarians', 'miscellaneously', 'mischaracterise', 'mischaracterize', 'mischievousness', 'miscomprehended', 'miscomputations', 'misconjecturing', 'misconstructing', 'misconstruction', 'miscontentments', 'miscorrelations', 'misdescriptions', 'misdistribution', 'miserablenesses', 'misgovernaunces', 'misguidednesses', 'misimprovements', 'misinformations', 'misinstructions', 'misintelligence', 'misinterpreters', 'misinterpreting', 'mismeasurements', 'misorientations', 'misproportioned', 'mispunctuations', 'misrecollection', 'misregistration', 'misrepresenters', 'misrepresenting', 'misshapennesses', 'missionisations', 'missionizations', 'mistranscribing', 'mistranslations', 'mistrustfulness', 'misutilisations', 'misutilizations', 'misvocalisation', 'misvocalization', 'modernistically', 'modifiabilities', 'momentarinesses', 'momentousnesses', 'mongrelisations', 'mongrelizations', 'monochlamydeous', 'monochromatisms', 'monocrystalline', 'monographically', 'monolingualisms', 'monomolecularly', 'mononucleotides', 'monophthongised', 'monophthongises', 'monophthongized', 'monophthongizes', 'monopolisations', 'monopolizations', 'monopropellants', 'monosaccharides', 'monospecificity', 'monosyllabicity', 'monosymmetrical', 'monounsaturated', 'monounsaturates', 'monstrousnesses', 'montmorillonite', 'monumentalising', 'monumentalities', 'monumentalizing', 'morbilliviruses', 'morphinomaniacs', 'morphologically', 'morphophonemics', 'mortiferousness', 'mountainboarder', 'mountaineerings', 'mountainousness', 'mountebankeries', 'mouthwateringly', 'mucosanguineous', 'multiarticulate', 'multicurrencies', 'multidiscipline', 'multidivisional', 'multifunctional', 'multilateralism', 'multilateralist', 'multilingualism', 'multilocational', 'multimillennial', 'multinucleolate', 'multiplications', 'multipolarities', 'multiprocessing', 'multiprocessors', 'multiracialisms', 'multithreadings', 'multitudinously', 'multiwavelength', 'murderousnesses', 'musculoskeletal', 'musicalisations', 'musicalizations', 'musicologically', 'musicotherapies', 'myelencephalons', 'mylonitisations', 'mylonitizations', 'myocardiographs', 'myristicivorous', 'mythologisation', 'mythologization', 'narcoterrorisms', 'narcoterrorists', 'nationalisation', 'nationalization', 'naturalisations', 'naturalizations', 'navigablenesses', 'nearsightedness', 'nebuchadnezzars', 'necessarianisms', 'necessarinesses', 'necessitousness', 'necromantically', 'nefariousnesses', 'neglectednesses', 'negligibilities', 'negotiabilities', 'neighbourliness', 'nemathelminthic', 'neoarsphenamine', 'neocolonialisms', 'neocolonialists', 'neoconservatism', 'neoconservative', 'neologistically', 'nephrectomising', 'nephrectomizing', 'nephroblastomas', 'nervelessnesses', 'neuroanatomical', 'neuroanatomists', 'neurobiological', 'neurobiologists', 'neuroblastomata', 'neurocomputings', 'neuroethologies', 'neurofibrillary', 'neurohypophyses', 'neurohypophysis', 'neurolinguistic', 'neuromarketings', 'neuropathically', 'neuropathologic', 'neurophysiology', 'neuropsychiatry', 'neuropsychology', 'neuroscientific', 'neuroscientists', 'neurosecretions', 'neurosurgically', 'neurotoxicities', 'neutralisations', 'neutralizations', 'newfanglenesses', 'niggardlinesses', 'nightmarishness', 'nincompooperies', 'nitrocelluloses', 'nitrochloroform', 'nitrogenisation', 'nitrogenization', 'nitroglycerines', 'nitwittednesses', 'noctambulations', 'noiselessnesses', 'nominalisations', 'nominalizations', 'nomographically', 'nonachievements', 'nonadditivities', 'nonagricultural', 'nonantagonistic', 'nonarchitecture', 'nonaristocratic', 'nonastronomical', 'nonavailability', 'nonbarbiturates', 'nonbelligerency', 'nonbelligerents', 'nonbiographical', 'nonbiologically', 'noncarcinogenic', 'noncelebrations', 'noncertificated', 'noncharismatics', 'noncognitivisms', 'noncoincidences', 'noncommissioned', 'noncompressible', 'noncomputerised', 'noncomputerized', 'nonconcurrences', 'nonconfidential', 'nonconformances', 'nonconformities', 'nonconservation', 'nonconservative', 'nonconsolidated', 'nonconstruction', 'nonconstructive', 'nonconsumptions', 'noncontemporary', 'noncontributory', 'noncontrollable', 'nonconventional', 'noncooperations', 'noncorrelations', 'noncreativities', 'noncredentialed', 'noncultivations', 'nondepartmental', 'nondescriptness', 'nondevelopments', 'nondisjunctions', 'nonelectrolytes', 'nonencapsulated', 'nonenforcements', 'nonequilibriums', 'nonequivalences', 'nonexperimental', 'nonexploitation', 'nonexploitative', 'nonflammability', 'nonfulfillments', 'nongovernmental', 'nonhierarchical', 'nonhospitalised', 'nonhospitalized', 'nonimplications', 'nonimportations', 'nonindependence', 'noninflammatory', 'noninflationary', 'noninflectional', 'noninformations', 'noninfringement', 'noninsecticidal', 'noninstallments', 'noninstrumental', 'nonintellectual', 'nonintercourses', 'noninterference', 'nonintersecting', 'nonintervention', 'nonintimidating', 'nonintoxicating', 'noninvolvements', 'nonmathematical', 'nonmatriculated', 'nonmetaphorical', 'nonmetropolitan', 'nonobjectivisms', 'nonobjectivists', 'nonoccupational', 'nonparticipants', 'nonpartisanship', 'nonpartizanship', 'nonperformances', 'nonphilosophers', 'nonphotographic', 'nonprescription', 'nonproductivity', 'nonprofessional', 'nonprofessorial', 'nonpsychiatrist', 'nonquantifiable', 'nonquantitative', 'nonrandomnesses', 'nonrecognitions', 'nonrecombinants', 'nonrelativistic', 'nonreproductive', 'nonsaponifiable', 'nonsedimentable', 'nonsegregations', 'nonsensicalness', 'nonsimultaneous', 'nonspecifically', 'nontotalitarian', 'nontransferable', 'nonuniformities', 'nonuniquenesses', 'norepinephrines', 'norethisterones', 'normativenesses', 'northcountryman', 'northcountrymen', 'northeasterlies', 'northeastwardly', 'northerlinesses', 'northwesterlies', 'northwestwardly', 'nothingarianism', 'noticeabilities', 'notoriousnesses', 'notwithstanding', 'novemdecillions', 'novocentenaries', 'nuclearisations', 'nuclearizations', 'nucleophilicity', 'nucleoplasmatic', 'nucleosyntheses', 'nucleosynthesis', 'nucleosynthetic', 'nudibranchiates', 'numismatologies', 'numismatologist', 'objectification', 'objectivenesses', 'obliviousnesses', 'obnoxiousnesses', 'observabilities', 'observationally', 'obsessivenesses', 'obstinatenesses', 'obstructionally', 'obstructionisms', 'obstructionists', 'obstructiveness', 'obtainabilities', 'obtrusivenesses', 'occasionalities', 'occidentalising', 'occidentalizing', 'occlusivenesses', 'oceanographical', 'ochlocratically', 'octocentenaries', 'odontorhynchous', 'odontostomatous', 'odoriferousness', 'oesophagoscopes', 'oestrogenically', 'offensivenesses', 'offhandednesses', 'officiousnesses', 'oligocythaemias', 'oligodendrocyte', 'oligodendroglia', 'oligomerisation', 'oligomerization', 'oligonucleotide', 'oligosaccharide', 'omnibenevolence', 'omnicompetences', 'omnidirectional', 'omnifariousness', 'omoplatoscopies', 'oncogeneticists', 'oneirocriticism', 'ontogenetically', 'onychocryptoses', 'onychocryptosis', 'oophorectomised', 'oophorectomises', 'oophorectomized', 'oophorectomizes', 'openheartedness', 'openmouthedness', 'operationalisms', 'operationalists', 'operativenesses', 'ophthalmologies', 'ophthalmologist', 'ophthalmometers', 'ophthalmophobia', 'ophthalmoplegia', 'ophthalmoscopes', 'ophthalmoscopic', 'opinionatedness', 'opisthognathism', 'opisthognathous', 'opisthographies', 'opportunenesses', 'opprobriousness', 'opsonifications', 'optimalisations', 'optimalizations', 'optoelectronics', 'oraculousnesses', 'orchesographies', 'orchestrational', 'organochlorines', 'organographical', 'organographists', 'organomercurial', 'organometallics', 'organophosphate', 'organotherapies', 'orientationally', 'ornithodelphian', 'ornithodelphous', 'ornithorhynchus', 'orthochromatism', 'orthodontically', 'orthogonalising', 'orthogonalities', 'orthogonalizing', 'orthophosphates', 'orthophosphoric', 'orthopsychiatry', 'oscillographies', 'osmoregulations', 'ostensibilities', 'osteoarthritics', 'osteomyelitises', 'osteopathically', 'ostreiculturist', 'outdoorsmanship', 'outmanipulating', 'outspokennesses', 'overaccentuated', 'overaccentuates', 'overachievement', 'overadjustments', 'overadvertising', 'overapplication', 'overarticulated', 'overarticulates', 'overassessments', 'overbearingness', 'overcapitalised', 'overcapitalises', 'overcapitalized', 'overcapitalizes', 'overcentralised', 'overcentralises', 'overcentralized', 'overcentralizes', 'overclassifying', 'overcommitments', 'overcommunicate', 'overcompensated', 'overcompensates', 'overcompliances', 'overcomplicated', 'overcomplicates', 'overcompressing', 'overconfidences', 'overconfidently', 'overconstructed', 'overconsumption', 'overcontrolling', 'overcorrections', 'overcredulities', 'overcultivation', 'overdecorations', 'overdependences', 'overdevelopment', 'overdiscounting', 'overdiversities', 'overdocumenting', 'overdramatising', 'overdramatizing', 'overeagernesses', 'overelaborating', 'overelaboration', 'overembellished', 'overembellishes', 'overemphasising', 'overemphasizing', 'overencouraging', 'overengineering', 'overentertained', 'overenthusiasms', 'overestimations', 'overevaluations', 'overexaggerated', 'overexaggerates', 'overexpectation', 'overextractions', 'overextravagant', 'overfamiliarity', 'overfertilising', 'overfertilizing', 'overflourishing', 'overforwardness', 'overgeneralised', 'overgeneralises', 'overgeneralized', 'overgeneralizes', 'overglamorising', 'overglamorizing', 'overhastinesses', 'overhomogenised', 'overhomogenises', 'overhomogenized', 'overhomogenizes', 'overidentifying', 'overimaginative', 'overindulgences', 'overingenuities', 'overintensities', 'overinvestments', 'overlengthening', 'overmedications', 'overmultiplying', 'overmultituding', 'overopinionated', 'overorchestrate', 'overornamenting', 'overpersuasions', 'overpopulations', 'overpreparation', 'overprescribing', 'overproductions', 'overprogramming', 'overproportions', 'overprotections', 'overrefinements', 'overregulations', 'overrepresented', 'oversaturations', 'oversensitivity', 'oversimplifying', 'overspecialised', 'overspecialises', 'overspecialized', 'overspecializes', 'overspeculating', 'overspeculation', 'overstabilities', 'overstimulating', 'overstimulation', 'oversubscribing', 'oversweetnesses', 'overutilisation', 'overutilization', 'overweeningness', 'overwithholding', 'overzealousness', 'ovoviviparities', 'ovoviviparously', 'oxidoreductases', 'oxyhaemoglobins', 'oxyphenbutazone', 'oxytetracycline', 'pachymeningitis', 'painstakingness', 'painterlinesses', 'palaebiologists', 'palaeoanthropic', 'palaeobiologies', 'palaeobiologist', 'palaeobotanical', 'palaeobotanists', 'palaeoecologies', 'palaeoecologist', 'palaeoethnology', 'palaeogeography', 'palaeographical', 'palaeographists', 'palaeolimnology', 'palaeomagnetism', 'palaeontography', 'palaeontologies', 'palaeontologist', 'palaeopathology', 'palaeophytology', 'palaeozoologies', 'palaeozoologist', 'palatablenesses', 'palatalisations', 'palatalizations', 'paleobiological', 'paleobiologists', 'paleoecological', 'paleoecologists', 'paleogeographic', 'paleomagnetisms', 'paleomagnetists', 'paleontological', 'paleontologists', 'paleozoological', 'paleozoologists', 'palynologically', 'pamphleteerings', 'panophthalmitis', 'pantheistically', 'pantisocratical', 'pantisocratists', 'pantopragmatics', 'parabolisations', 'parabolizations', 'paradoxicalness', 'paragenetically', 'paragrammatists', 'paragraphically', 'paraheliotropic', 'parajournalisms', 'paralinguistics', 'parallactically', 'parallelepipeda', 'parallelepipeds', 'parallelopipeda', 'parallelopipeds', 'parametrisation', 'parametrization', 'paramyxoviruses', 'paranormalities', 'pararosanilines', 'parasexualities', 'parasiticalness', 'parasitisations', 'parasitizations', 'parasitological', 'parasitologists', 'parasympathetic', 'parenthetically', 'parliamentarian', 'parliamentarily', 'parliamentarism', 'paroemiographer', 'parthenocarpies', 'parthenocarpous', 'parthenogeneses', 'parthenogenesis', 'parthenogenetic', 'participational', 'particularisers', 'particularising', 'particularistic', 'particularities', 'particularizers', 'particularizing', 'passifloraceous', 'passionlessness', 'pasteurisations', 'pasteurizations', 'patentabilities', 'paterfamiliases', 'pathogenicities', 'pathophysiology', 'patrialisations', 'patrializations', 'patriarchalisms', 'patrifocalities', 'peaceablenesses', 'peacelessnesses', 'pectinesterases', 'pedagoguishness', 'pedestrianising', 'pedestrianizing', 'pendulousnesses', 'penetrabilities', 'penetrativeness', 'peninsularities', 'pennilessnesses', 'pentadactylisms', 'pentobarbitones', 'penuriousnesses', 'perchloroethene', 'perdurabilities', 'perfectibilians', 'perfectibilisms', 'perfectibilists', 'perfectionating', 'perfectionistic', 'perfervidnesses', 'perfluorocarbon', 'perfunctoriness', 'pergamentaceous', 'perigastritises', 'perihepatitises', 'perinephritises', 'periodontically', 'periodontitises', 'peripatetically', 'peripateticisms', 'peripheralities', 'perishabilities', 'perissodactyles', 'perissodactylic', 'perissosyllabic', 'peristaltically', 'perityphlitises', 'permanentnesses', 'permeablenesses', 'permissibleness', 'permutabilities', 'peroxysulphuric', 'perpendicularly', 'perplexednesses', 'persnicketiness', 'personalisation', 'personalization', 'personification', 'perspicaciously', 'perspicuousness', 'pervasivenesses', 'pervertednesses', 'pessimistically', 'pestiferousness', 'petrochemically', 'petrocurrencies', 'petrophysicists', 'phallocentrisms', 'phantasmagorial', 'phantasmagorias', 'phantasmagories', 'phantasmalities', 'pharisaicalness', 'pharmaceuticals', 'pharmacodynamic', 'pharmacogenomic', 'pharmacognosies', 'pharmacognosist', 'pharmacognostic', 'pharmacokinetic', 'pharmacological', 'pharmacologists', 'pharmacopoeists', 'pharmacopolists', 'pharmacotherapy', 'pharyngological', 'pharyngologists', 'pharyngoscopies', 'phenakistoscope', 'phenobarbitones', 'phenolphthalein', 'phenomenalising', 'phenomenalistic', 'phenomenalities', 'phenomenalizing', 'phenomenologies', 'phenomenologist', 'phenylbutazones', 'phenylketonuria', 'phenylketonuric', 'phenylthioureas', 'philanthropical', 'philanthropists', 'philanthropoids', 'philosophasters', 'philosophically', 'phleboscleroses', 'phlebosclerosis', 'phlogisticating', 'phonautographic', 'phonemicisation', 'phonemicization', 'phoneticisation', 'phoneticization', 'phonocardiogram', 'phonogramically', 'phosphatisation', 'phosphatization', 'phosphocreatine', 'phosphocreatins', 'phosphoproteins', 'phosphorescence', 'phosphoroscopes', 'phosphorylating', 'phosphorylation', 'phosphorylative', 'photoautotrophs', 'photobiological', 'photobiologists', 'photochemically', 'photoconducting', 'photoconduction', 'photoconductive', 'photoconductors', 'photodegradable', 'photodissociate', 'photoduplicated', 'photoduplicates', 'photoelasticity', 'photoelectrical', 'photoelectrodes', 'photoelectronic', 'photoengravings', 'photoexcitation', 'photofinishings', 'photofluorogram', 'photogeological', 'photogeologists', 'photogrammetric', 'photoinductions', 'photoionisation', 'photoionization', 'photojournalism', 'photojournalist', 'photolithograph', 'photoluminesced', 'photoluminesces', 'photomacrograph', 'photomechanical', 'photometrically', 'photomicrograph', 'photomultiplier', 'photooxidations', 'photoperiodisms', 'photoproduction', 'photoreceptions', 'photoreductions', 'photorefractive', 'photosensitised', 'photosensitiser', 'photosensitises', 'photosensitized', 'photosensitizer', 'photosensitizes', 'photosynthesise', 'photosynthesize', 'phototactically', 'phototelegraphs', 'phototelegraphy', 'phototopography', 'phototoxicities', 'phototransistor', 'phototropically', 'phototypesetter', 'phototypography', 'photoxylography', 'photozincograph', 'phrasemongering', 'phraseographies', 'phreneticnesses', 'phrenologically', 'phthalocyanines', 'phyllosilicates', 'physicochemical', 'physiographical', 'physiologically', 'physiopathology', 'physiotherapies', 'physiotherapist', 'phytochemically', 'phytoflagellate', 'phytogeographer', 'phytogeographic', 'phytopathogenic', 'phytoplanktonic', 'phytotoxicities', 'pictorialnesses', 'picturesqueness', 'piezomagnetisms', 'piezometrically', 'pigheadednesses', 'pinealectomised', 'pinealectomises', 'pinealectomized', 'pinealectomizes', 'pinheadednesses', 'pinocytotically', 'pisciculturally', 'pisciculturists', 'pithecanthropus', 'plagiocephalies', 'plagiostomatous', 'plainclothesman', 'plainclothesmen', 'plainspokenness', 'plaintivenesses', 'planimetrically', 'planometrically', 'plantaginaceous', 'plasmolytically', 'plasticisations', 'plasticizations', 'platinocyanides', 'platitudinarian', 'platitudinisers', 'platitudinising', 'platitudinizers', 'platitudinizing', 'platitudinously', 'platyhelminthic', 'plausiblenesses', 'pleasurableness', 'plenipotentiary', 'plenteousnesses', 'plentifulnesses', 'plethysmographs', 'plethysmography', 'pleuropneumonia', 'plumbaginaceous', 'pluralistically', 'plutocratically', 'pneumatological', 'pneumatologists', 'pneumatometries', 'pneumoconiotics', 'pneumonectomies', 'pococuranteisms', 'poikilothermies', 'poikilothermism', 'pointlessnesses', 'poisonousnesses', 'poliomyelitides', 'poliomyelitises', 'politicisations', 'politicizations', 'polyacrylamides', 'polycarboxylate', 'polychlorinated', 'polychloroprene', 'polychromatisms', 'polycrystalline', 'polyelectrolyte', 'polygenetically', 'polygraphically', 'polymerisations', 'polymerizations', 'polymorphically', 'polynucleotides', 'polyphloesboean', 'polysaccharides', 'polysaccharoses', 'polysyllabicism', 'polysynthesisms', 'polysynthetical', 'polysynthetisms', 'polyunsaturated', 'polyvinylidenes', 'ponderabilities', 'ponderousnesses', 'pontificalities', 'popularisations', 'popularizations', 'porphyrogenites', 'possessednesses', 'postapocalyptic', 'postconsonantal', 'postdevaluation', 'postdivestiture', 'posthemorrhagic', 'postinoculation', 'postirradiation', 'postmasterships', 'postmillenarian', 'postoperatively', 'postpollination', 'postproductions', 'poststimulation', 'poststimulatory', 'posttransfusion', 'postulationally', 'postvaccination', 'potentiometries', 'powerlessnesses', 'practicableness', 'practicalnesses', 'pragmaticalness', 'pragmatisations', 'pragmatizations', 'prayerfulnesses', 'preacquaintance', 'preadolescences', 'preagricultural', 'prearrangements', 'precancellation', 'precipitability', 'precipitantness', 'precipitateness', 'precipitinogens', 'precipitousness', 'preconditioning', 'preconstructing', 'preconstruction', 'predatorinesses', 'predesignations', 'predestinarians', 'predestinations', 'predeterminable', 'predeterminisms', 'predevelopments', 'predicabilities', 'predictableness', 'predispositions', 'preestablishing', 'prefabrications', 'preferabilities', 'preferentialism', 'preferentialist', 'preferentiality', 'prefiguratively', 'preformationism', 'preformationist', 'prehistorically', 'preimplantation', 'preinterviewing', 'prejudicialness', 'prekindergarten', 'premanufactured', 'premanufactures', 'prematurenesses', 'premillenarians', 'premillennially', 'premodification', 'prenegotiations', 'prenotification', 'preponderancies', 'preponderations', 'prepositionally', 'prepossessingly', 'prepresidential', 'preprofessional', 'prepublications', 'preregistration', 'presbyterianise', 'presbyterianism', 'presbyterianize', 'prescriptivisms', 'prescriptivists', 'presentableness', 'presentationism', 'presentationist', 'presentialities', 'preservationist', 'pressurisations', 'pressurizations', 'prestidigitator', 'prestigiousness', 'presumptiveness', 'presuppositions', 'presynaptically', 'pretentiousness', 'preteritenesses', 'preterminations', 'preternaturally', 'prettifications', 'prevalentnesses', 'pricelessnesses', 'primitivenesses', 'primogenitrices', 'primogenitrixes', 'primordialities', 'principalnesses', 'printablenesses', 'prioritisations', 'prioritizations', 'probabiliorisms', 'probabiliorists', 'probationership', 'problematically', 'proceleusmatics', 'processionalist', 'procrastinating', 'procrastination', 'procrastinative', 'procrastinators', 'procrastinatory', 'procreativeness', 'procuratorships', 'producibilities', 'professionalise', 'professionalism', 'professionalist', 'professionalize', 'profitabilities', 'progenitiveness', 'progenitorships', 'prognosticating', 'prognostication', 'prognosticative', 'prognosticators', 'programmability', 'progressionally', 'progressionisms', 'progressionists', 'progressiveness', 'progressivistic', 'progressivities', 'prohibitionisms', 'prohibitionists', 'prohibitiveness', 'projectisations', 'projectizations', 'proletarianised', 'proletarianises', 'proletarianisms', 'proletarianized', 'proletarianizes', 'proletarianness', 'prolocutorships', 'prominentnesses', 'promiscuousness', 'promotabilities', 'promotivenesses', 'pronominalising', 'pronominalizing', 'pronunciamentos', 'pronunciational', 'propagabilities', 'properispomenon', 'proportionality', 'proportionately', 'proportionating', 'proportionments', 'propositionally', 'proprietorially', 'proprietorships', 'proprioceptions', 'propylitisation', 'propylitization', 'prosaicalnesses', 'proselytisation', 'proselytization', 'prosenchymatous', 'proslambanomene', 'prosopographers', 'prosopographies', 'prospectiveness', 'prostatectomies', 'prosthodontists', 'proteolytically', 'prothonotariats', 'protistologists', 'protohistorians', 'protoporphyrins', 'protospathaires', 'protospatharius', 'protozoological', 'protozoologists', 'proverbialising', 'proverbializing', 'provincialising', 'provincialities', 'provincializing', 'provocativeness', 'proximatenesses', 'prudentialities', 'prussianisation', 'prussianization', 'psephologically', 'pseudaesthesias', 'pseudepigraphic', 'pseudepigraphon', 'pseudoarthroses', 'pseudoarthrosis', 'pseudocoelomate', 'pseudoephedrine', 'pseudomembranes', 'pseudomorphisms', 'pseudomutuality', 'pseudopregnancy', 'pseudoscientist', 'pseudoscorpions', 'pseudosolutions', 'psilanthropisms', 'psilanthropists', 'psychedelically', 'psychiatrically', 'psychoacoustics', 'psychoanalysers', 'psychoanalysing', 'psychoanalyzers', 'psychoanalyzing', 'psychobiography', 'psychobiologies', 'psychobiologist', 'psychochemicals', 'psychochemistry', 'psychodelically', 'psychogenetical', 'psychogenically', 'psychogeriatric', 'psychographical', 'psychohistorian', 'psychohistories', 'psycholinguists', 'psychologically', 'psychometrician', 'psychoneurotics', 'psychopathology', 'psychophysicist', 'psychosexuality', 'psychosomimetic', 'psychosurgeries', 'psychosyntheses', 'psychosynthesis', 'psychotherapies', 'psychotherapist', 'psychotomimetic', 'psychrometrical', 'pteridophilists', 'pterylographies', 'pulchritudinous', 'pulmobranchiate', 'pulselessnesses', 'punctiliousness', 'punctuationists', 'punishabilities', 'puritanicalness', 'purposelessness', 'purposivenesses', 'pusillanimities', 'pusillanimously', 'pycnodysostoses', 'pycnodysostosis', 'pyknodysostoses', 'pyknodysostosis', 'pyramidologists', 'pyretotherapies', 'pyroelectricity', 'pyrophotographs', 'pyrophotography', 'pyrophotometers', 'pyrotechnically', 'pyrotechnicians', 'quadragenarians', 'quadringenaries', 'quadripartition', 'quadrisyllables', 'quadrivalencies', 'quadruplicating', 'quadruplication', 'quadruplicities', 'quantifications', 'quarrelsomeness', 'quarterfinalist', 'quartermistress', 'quatercentenary', 'quattrocentisms', 'quattrocentists', 'querulousnesses', 'questionability', 'quicksilverings', 'quincentenaries', 'quincentennials', 'quingentenaries', 'quinquagenarian', 'quinquevalences', 'quintuplicating', 'quintuplication', 'quizzifications', 'quodlibetarians', 'quodlibetically', 'radicalisations', 'radicalizations', 'radioactivating', 'radioactivation', 'radioactivities', 'radioautographs', 'radioautography', 'radiobiological', 'radiobiologists', 'radiochemically', 'radiogoniometer', 'radiolocational', 'radiometrically', 'radiomicrometer', 'radiophonically', 'radiophosphorus', 'radioprotection', 'radioprotective', 'radioscopically', 'radiosensitised', 'radiosensitises', 'radiosensitized', 'radiosensitizes', 'radiostrontiums', 'radiotelegraphs', 'radiotelegraphy', 'radiotelemeters', 'radiotelemetric', 'radiotelephones', 'radiotelephonic', 'radiotherapists', 'rancorousnesses', 'rangatiratangas', 'rapaciousnesses', 'rapturousnesses', 'rationalisation', 'rationalization', 'reacclimatising', 'reacclimatizing', 'reaccreditation', 'reacquaintances', 'reactionaryisms', 'readvertisement', 'reafforestation', 'realisabilities', 'realizabilities', 'reapportionment', 'reappraisements', 'reappropriating', 'reasonabilities', 'reauthorisation', 'reauthorization', 'recalcitrancies', 'recalcitrations', 'recallabilities', 'recanalisations', 'recanalizations', 'recapitulations', 'receivabilities', 'receptibilities', 'receptivenesses', 'recertification', 'recessivenesses', 'rechoreographed', 'rechromatograph', 'reciprocalities', 'reclusivenesses', 'recodifications', 'recognisability', 'recognizability', 'recollectedness', 'recolonisations', 'recolonizations', 'recombinational', 'recommencements', 'recommendations', 'recommissioning', 'reconcentrating', 'reconcentration', 'reconceptualise', 'reconceptualize', 'reconcilability', 'reconciliations', 'recondensations', 'reconditenesses', 'reconfiguration', 'reconfirmations', 'reconnaissances', 'reconnoissances', 'reconsecrations', 'reconsideration', 'reconsolidating', 'reconsolidation', 'reconstitutable', 'reconstitutions', 'reconstructible', 'reconstructions', 'recontaminating', 'recontamination', 'recontextualise', 'recontextualize', 'reconvalescence', 'recoverableness', 'recrementitious', 'recrudescencies', 'recrystallising', 'recrystallizing', 'rectipetalities', 'recursivenesses', 'redeemabilities', 'redetermination', 'redintegrations', 'redistillations', 'redistributions', 'redoubtableness', 'reduciblenesses', 'reductivenesses', 'reduplicatively', 'reeligibilities', 'reestablishment', 'reflectometries', 'reflexibilities', 'reflexivenesses', 'reformabilities', 'reformationists', 'refortification', 'refractometries', 'refrangibleness', 'refrigeratories', 'refundabilities', 'regardfulnesses', 'regionalisation', 'regionalization', 'regretfulnesses', 'regularisations', 'regularizations', 'rehabilitations', 'rehospitalising', 'rehospitalizing', 'reimplantations', 'reincorporating', 'reincorporation', 'reindustrialise', 'reindustrialize', 'reinstallations', 'reinterrogating', 'reinterrogation', 'reintroductions', 'reinvestigating', 'reinvestigation', 'reinvigorations', 'rejuvenescences', 'relativisations', 'relativizations', 'religiousnesses', 'relinquishments', 'remanufacturers', 'remanufacturing', 'remarkabilities', 'rematerialising', 'rematerializing', 'remediabilities', 'rememberability', 'remissibilities', 'remobilisations', 'remobilizations', 'remonetisations', 'remonetizations', 'remonstratingly', 'remonstratively', 'remoralisations', 'remoralizations', 'remorselessness', 'removablenesses', 'remythologising', 'remythologizing', 'renationalising', 'renationalizing', 'renormalisation', 'renormalization', 'reorchestrating', 'reorchestration', 'reorganisations', 'reorganizations', 'repairabilities', 'repeatabilities', 'repetitiousness', 'rephotographing', 'replicabilities', 'repolarisations', 'repolarizations', 'reposefulnesses', 'representations', 'representatives', 'repristinations', 'reprivatisation', 'reprivatization', 'reproachfulness', 'reproducibility', 'republicanising', 'republicanizing', 'repudiationists', 'repulsivenesses', 'requisitenesses', 'requisitionists', 'reregistrations', 'resectabilities', 'resentfulnesses', 'reservationists', 'resinifications', 'resistibilities', 'resistivenesses', 'resocialisation', 'resocialization', 'resolublenesses', 'resolvabilities', 'resourcefulness', 'respectabilised', 'respectabilises', 'respectabilized', 'respectabilizes', 'respectableness', 'respirabilities', 'respiritualised', 'respiritualises', 'respiritualized', 'respiritualizes', 'responsibleness', 'restitutionisms', 'restitutionists', 'restorationisms', 'restorationists', 'restrengthening', 'restrictionisms', 'restrictionists', 'restrictiveness', 'resurrectionary', 'resurrectionise', 'resurrectionism', 'resurrectionist', 'resurrectionize', 'resynchronising', 'resynchronizing', 'resystematising', 'resystematizing', 'retaliationists', 'retentivenesses', 'retinoblastomas', 'retransmissions', 'retrievableness', 'retroactiveness', 'retroactivities', 'retrocognitions', 'retrogradations', 'retrogressional', 'retrogressively', 'retromingencies', 'retroperitoneal', 'retroreflection', 'retroreflective', 'retroreflectors', 'retrospectively', 'returnabilities', 'revalorisations', 'revalorizations', 'revealabilities', 'revealingnesses', 'reverberatories', 'reversibilities', 'revisualisation', 'revisualization', 'revitalisations', 'revitalizations', 'revivifications', 'revocablenesses', 'revolutionaries', 'revolutionarily', 'revolutionisers', 'revolutionising', 'revolutionizers', 'revolutionizing', 'rheumatological', 'rheumatologists', 'rhinencephalons', 'rhinoscleromata', 'rhombencephalon', 'rhombenporphyrs', 'rhombenporphyry', 'rhombporphyries', 'rhyparographers', 'rhyparographies', 'ribonucleosides', 'ribonucleotides', 'rightablenesses', 'righteousnesses', 'rigidifications', 'ritualistically', 'riverworthiness', 'roentgenisation', 'roentgenization', 'roentgenographs', 'roentgenography', 'roentgenologies', 'roentgenologist', 'roentgenoscopes', 'roentgenoscopic', 'rollercoastered', 'romanticalities', 'romanticisation', 'romanticization', 'rontgenisations', 'rontgenizations', 'rontgenological', 'rontgenologists', 'rontgenoscopies', 'rontgenotherapy', 'rostrocarinates', 'roundaboutation', 'roundaboutility', 'roundheadedness', 'rudimentariness', 'rumblegumptions', 'rumbustiousness', 'rummelgumptions', 'rummlegumptions', 'rumormongerings', 'sabermetricians', 'saccharimetries', 'saccharisations', 'saccharizations', 'saccharomycetes', 'sacerdotalising', 'sacerdotalizing', 'sacramentalisms', 'sacramentalists', 'sacramentalness', 'sacramentarians', 'sacrosanctities', 'sadomasochistic', 'sagaciousnesses', 'salaciousnesses', 'salpingectomies', 'sanctifications', 'sanctimoniously', 'sanguifications', 'sanguineousness', 'sanguinolencies', 'sansculotteries', 'saponaceousness', 'saponifications', 'saprogenicities', 'saprophytically', 'sarcenchymatous', 'sarraceniaceous', 'satanicalnesses', 'satiricalnesses', 'scandalisations', 'scandalizations', 'scaphocephalies', 'scaphocephalism', 'scaphocephalous', 'scaremongerings', 'scathefulnesses', 'scentlessnesses', 'schematisations', 'schematizations', 'schillerisation', 'schillerization', 'schistosomiases', 'schistosomiasis', 'schizophrenetic', 'scholarlinesses', 'schoolmastering', 'schoolmasterish', 'schoolmistressy', 'schoolteachings', 'scintillascopes', 'scintillatingly', 'scintillometers', 'scintilloscopes', 'sclerodermatous', 'sclerotisations', 'sclerotizations', 'scolopendriform', 'scorchingnesses', 'scratchbuilders', 'scratchbuilding', 'scribaciousness', 'scrimshandering', 'scrumptiousness', 'sculpturesquely', 'searchingnesses', 'seaworthinesses', 'seclusivenesses', 'secondarinesses', 'secretivenesses', 'sectionisations', 'sectionizations', 'secularisations', 'secularizations', 'secundogeniture', 'securitisations', 'securitizations', 'sedentarinesses', 'sedimentologies', 'sedimentologist', 'seditiousnesses', 'seductivenesses', 'segregationists', 'seismographical', 'seismologically', 'selectivenesses', 'selenographical', 'selenographists', 'semiabstraction', 'semicentennials', 'semicolonialism', 'semiconductions', 'semiconsciously', 'semicrystalline', 'semicylindrical', 'semidocumentary', 'semilogarithmic', 'semimanufacture', 'semiparasitisms', 'semipornography', 'semiretirements', 'semisubmersible', 'semiterrestrial', 'semitranslucent', 'semitransparent', 'sensationalised', 'sensationalises', 'sensationalisms', 'sensationalists', 'sensationalized', 'sensationalizes', 'senselessnesses', 'sensitivenesses', 'sensualisations', 'sensualizations', 'sententiousness', 'sentimentalised', 'sentimentalises', 'sentimentalisms', 'sentimentalists', 'sentimentalized', 'sentimentalizes', 'separablenesses', 'septendecillion', 'septentrionally', 'septuagenarians', 'sequentialities', 'serendipitously', 'sericiculturist', 'sericitisations', 'sericitizations', 'seroconversions', 'serviceableness', 'servomechanical', 'servomechanisms', 'sesquicarbonate', 'sesquicentenary', 'sesquisulphides', 'shamefastnesses', 'shamelessnesses', 'shapelessnesses', 'sherardisations', 'sherardizations', 'shiftlessnesses', 'shillingsworths', 'shillyshalliers', 'shillyshallying', 'shockumentaries', 'showerproofings', 'sidesplittingly', 'sightlessnesses', 'sigmoidectomies', 'sigmoidoscopies', 'significatively', 'silicifications', 'silversmithings', 'silviculturally', 'silviculturists', 'simplicidentate', 'simplifications', 'singularisation', 'singularization', 'sinistrodextral', 'sinterabilities', 'skepticalnesses', 'sketchabilities', 'slaughterhouses', 'sledgehammering', 'sleeplessnesses', 'slumpflationary', 'smokelessnesses', 'snippersnappers', 'socialistically', 'sociobiological', 'sociobiologists', 'socioculturally', 'sociohistorical', 'sociolinguistic', 'softheartedness', 'solderabilities', 'soldierlinesses', 'solemnification', 'solidifications', 'solipsistically', 'solitudinarians', 'solubilisations', 'solubilizations', 'somatologically', 'somnambulations', 'soothfastnesses', 'sophisticatedly', 'sophistications', 'sorrowfulnesses', 'soundlessnesses', 'southeasterlies', 'southerlinesses', 'southwesterlies', 'southwestwardly', 'specialisations', 'specializations', 'spectrographies', 'spectroscopical', 'spectroscopists', 'speculativeness', 'speechfulnesses', 'speechification', 'speleotherapies', 'spermatoblastic', 'spermatogeneses', 'spermatogenesis', 'spermatogenetic', 'spermatorrhoeas', 'sphaerocrystals', 'sphaerosiderite', 'sphericalnesses', 'spheroidicities', 'spheroidisation', 'spheroidization', 'sphygmographies', 'spinelessnesses', 'spinthariscopes', 'spiritousnesses', 'spiritualnesses', 'spirochaetaemia', 'spironolactones', 'splanchnologies', 'splendiferously', 'splenectomising', 'splenectomizing', 'spontaneousness', 'sporangiophores', 'sporangiospores', 'spreadabilities', 'sprightlinesses', 'squeamishnesses', 'squeezabilities', 'stadholderships', 'stadtholderates', 'stadtholdership', 'stainlessnesses', 'stalactitically', 'stalagmitically', 'stalagmometries', 'standardisation', 'standardization', 'standoffishness', 'staphyloplastic', 'staphylorrhaphy', 'statelessnesses', 'steadfastnesses', 'steeplechasings', 'steganographers', 'steganographies', 'steganographist', 'stegocephalians', 'stereochemistry', 'stereographical', 'stereoisomerism', 'stereoisometric', 'stereologically', 'stereotaxically', 'stereotypically', 'steroidogeneses', 'steroidogenesis', 'stigmatisations', 'stigmatizations', 'stigmatophilias', 'stigmatophilist', 'stilpnosiderite', 'stockbrokerages', 'stoechiological', 'stoechiometries', 'stoicheiologies', 'stoicheiometric', 'stoichiological', 'stoichiometries', 'stomatoplasties', 'stonelessnesses', 'strabismometers', 'straightforward', 'straightjackets', 'straitjacketing', 'straitlacedness', 'straitwaistcoat', 'straticulations', 'stratifications', 'stratigraphical', 'stratigraphists', 'stratospherical', 'stratovolcanoes', 'strenuousnesses', 'strephosymbolia', 'streptobacillus', 'streptocarpuses', 'streptothricins', 'stressfulnesses', 'strikebreakings', 'stringentnesses', 'strobilisations', 'strobilizations', 'strombuliferous', 'strongyloidoses', 'strongyloidosis', 'structuralising', 'structuralizing', 'stultifications', 'stylelessnesses', 'subaggregations', 'subalternations', 'subassociations', 'subcategorising', 'subcategorizing', 'subcivilisation', 'subcivilization', 'subcommissioned', 'subcommissioner', 'subcontractings', 'subcontraoctave', 'subdevelopments', 'subinfeudations', 'subinsinuations', 'subintellection', 'subintelligence', 'subintelligitur', 'sublapsarianism', 'submetacentrics', 'subminiaturised', 'subminiaturises', 'subminiaturized', 'subminiaturizes', 'suboptimisation', 'suboptimization', 'subordinateness', 'suborganisation', 'suborganization', 'subprofessional', 'subproletariats', 'subreptitiously', 'subspecialising', 'subspecialities', 'subspecializing', 'subspecifically', 'substantialised', 'substantialises', 'substantialisms', 'substantialists', 'substantialized', 'substantializes', 'substantialness', 'substantiations', 'substantiveness', 'substantivising', 'substantivities', 'substantivizing', 'substitutionary', 'substratosphere', 'subterraneously', 'subterrestrials', 'suburbanisation', 'suburbanization', 'subversionaries', 'subvocalisation', 'subvocalization', 'successlessness', 'succinylcholine', 'sufficingnesses', 'suggestibleness', 'suggestionising', 'suggestionizing', 'sulfamethazines', 'sulfinpyrazones', 'sulfurousnesses', 'sulphacetamides', 'sulphanilamides', 'sulphathiazoles', 'sulphinpyrazone', 'sulphonmethanes', 'sulphureousness', 'sulphurisations', 'sulphurizations', 'sumptuousnesses', 'superablenesses', 'superabsorbents', 'superabundances', 'superabundantly', 'superactivities', 'superadditional', 'superannuations', 'superbureaucrat', 'supercalendered', 'supercargoships', 'supercomputings', 'superconducting', 'superconduction', 'superconductive', 'superconductors', 'superconfidence', 'supercontinents', 'superconvenient', 'superefficiency', 'superelevations', 'supererogations', 'superexaltation', 'superexcellence', 'superficialised', 'superficialises', 'superficialized', 'superficializes', 'superficialness', 'superfinenesses', 'superfluidities', 'superfluousness', 'superfoetations', 'supergovernment', 'superheterodyne', 'superhumanising', 'superhumanities', 'superhumanizing', 'superimposition', 'superincumbence', 'superincumbency', 'superindividual', 'superinducement', 'superinductions', 'superinfections', 'superintendence', 'superintendency', 'superintendents', 'superlativeness', 'supermajorities', 'supernationally', 'supernaturalise', 'supernaturalism', 'supernaturalist', 'supernaturalize', 'supernumeraries', 'supernutritions', 'superordinating', 'superordination', 'superorganicism', 'superorganicist', 'superovulations', 'superparasitism', 'superpatriotism', 'superphenomenon', 'superphosphates', 'superplasticity', 'supersaturating', 'supersaturation', 'superscriptions', 'superspecialist', 'superspectacles', 'superstimulated', 'superstimulates', 'superstitiously', 'superstructions', 'superstructural', 'superstructures', 'supersubtleties', 'supersymmetries', 'supervisorships', 'supplementaries', 'supplementarily', 'supplementation', 'supportableness', 'suppositionally', 'suppositionless', 'suppressibility', 'suppressiveness', 'supralapsarians', 'supranationally', 'surreptitiously', 'survivabilities', 'susceptibleness', 'suspectednesses', 'suspensefulness', 'suspercollating', 'swellheadedness', 'sycophantically', 'syllabification', 'syllabographies', 'syllogistically', 'symbolistically', 'symbolographies', 'symmetricalness', 'symmetrisations', 'symmetrizations', 'symmetrophobias', 'sympathectomies', 'sympathetically', 'sympathomimetic', 'symphyseotomies', 'symphysiotomies', 'symptomatically', 'symptomatologic', 'symptomological', 'synaposematisms', 'synarthrodially', 'synchronicities', 'synchronisation', 'synchronistical', 'synchronization', 'synchronologies', 'synchronoscopes', 'synchronousness', 'syncretisations', 'syncretizations', 'synecdochically', 'synecologically', 'synergistically', 'synthesisations', 'synthesizations', 'synthetisations', 'synthetizations', 'systematisation', 'systematization', 'systematologies', 'tabularisations', 'tabularizations', 'tachometrically', 'tachyarrhythmia', 'tachymetrically', 'talkativenesses', 'tangentialities', 'tarsometatarsal', 'tarsometatarsus', 'tastelessnesses', 'tatterdemalions', 'tatterdemallion', 'teachablenesses', 'technicalnesses', 'technologically', 'technostructure', 'tectibranchiate', 'telangiectasias', 'telautographies', 'teleconferences', 'teleconnections', 'telegraphically', 'telejournalisms', 'telejournalists', 'telekinetically', 'telephotographs', 'telephotography', 'teleprocessings', 'telestereoscope', 'teletypesetting', 'teletypewriters', 'telomerisations', 'telomerizations', 'temerariousness', 'temperabilities', 'temperamentally', 'temperatenesses', 'tempestuousness', 'temporarinesses', 'temptablenesses', 'tenaciousnesses', 'tendenciousness', 'tendentiousness', 'tenderheartedly', 'tenebrousnesses', 'tenosynovitises', 'tenovaginitises', 'tentaculiferous', 'tentativenesses', 'teratocarcinoma', 'teratogenicists', 'tergiversations', 'terminabilities', 'terrestrialness', 'territorialised', 'territorialises', 'territorialisms', 'territorialists', 'territorialized', 'territorializes', 'testimonialised', 'testimonialises', 'testimonialized', 'testimonializes', 'tetartohedrally', 'tetartohedrisms', 'tetrabasicities', 'tetrabranchiate', 'tetragrammatons', 'tetrahydrofuran', 'tetramethyllead', 'tetrasporangium', 'tetrasyllabical', 'thalamencephala', 'thalassocracies', 'thalassographer', 'thalassographic', 'thalassotherapy', 'thalattocracies', 'thanatognomonic', 'thanatographies', 'thanklessnesses', 'thankworthiness', 'thaumatolatries', 'theatricalising', 'theatricalities', 'theatricalizing', 'theocentricisms', 'theologisations', 'theologizations', 'theorematically', 'theosophistical', 'therapeutically', 'therianthropism', 'theriomorphisms', 'theriomorphoses', 'theriomorphosis', 'thermaesthesias', 'thermalisations', 'thermalizations', 'thermobarograph', 'thermobarometer', 'thermochemistry', 'thermochromisms', 'thermodynamical', 'thermoelectrons', 'thermojunctions', 'thermoperiodism', 'thermoreceptors', 'thermoregulated', 'thermoregulates', 'thermoregulator', 'thermoremanence', 'thermostability', 'thermotherapies', 'thickheadedness', 'thimbleriggings', 'thinkablenesses', 'thiobarbiturate', 'thirtysomething', 'thoracocenteses', 'thoracocentesis', 'thoracoplasties', 'thoroughgoingly', 'thoughtlessness', 'threefoldnesses', 'threepenceworth', 'threepennyworth', 'thremmatologies', 'thrillingnesses', 'thromboembolism', 'thromboplastins', 'thunderstricken', 'thunderstriking', 'thyrocalcitonin', 'thyroidectomies', 'tightfistedness', 'tintinnabulated', 'tintinnabulates', 'toastmistresses', 'tolerablenesses', 'tomboyishnesses', 'tonsillectomies', 'toothsomenesses', 'topochemistries', 'topographically', 'torrentialities', 'totalitarianise', 'totalitarianism', 'totalitarianize', 'touchablenesses', 'toxicologically', 'traceablenesses', 'tracklessnesses', 'tractablenesses', 'traditionalised', 'traditionalises', 'traditionalisms', 'traditionalists', 'traditionalized', 'traditionalizes', 'trainspotterish', 'tranquilisation', 'tranquilisingly', 'tranquilization', 'tranquilizingly', 'transactionally', 'transaminations', 'transcendencies', 'transcendentals', 'transcriptional', 'transcriptively', 'transferability', 'transfiguration', 'transfigurement', 'transformations', 'transfusionists', 'transgressional', 'transgressively', 'transhistorical', 'transientnesses', 'transilluminate', 'transistorising', 'transistorizing', 'translatability', 'translationally', 'transliterating', 'transliteration', 'transliterators', 'translucidities', 'transmigrations', 'transmissometer', 'transmittancies', 'transmogrifying', 'transmutability', 'transmutational', 'transparentised', 'transparentises', 'transparentized', 'transparentizes', 'transparentness', 'transpirational', 'transplantation', 'transportations', 'transportedness', 'transposability', 'transpositional', 'transsexualisms', 'transubstantial', 'transvaluations', 'transvestitisms', 'traumatisations', 'traumatizations', 'traumatological', 'traumatonasties', 'treacherousness', 'treasonableness', 'tremulousnesses', 'triangularities', 'tribromoethanol', 'tribromomethane', 'tributarinesses', 'trichinisations', 'trichinizations', 'trichloroacetic', 'trichloroethane', 'trichomonacidal', 'trichomonacides', 'trifluoperazine', 'trigonometrical', 'trihalomethanes', 'triiodomethanes', 'trimethylamines', 'trinitrobenzene', 'trinitrocresols', 'trinitrophenols', 'trinitrotoluene', 'trinitrotoluols', 'tripersonalisms', 'tripersonalists', 'triphenylamines', 'trisoctahedrons', 'trisyllabically', 'trituberculisms', 'trivialisations', 'trivializations', 'tropicalisation', 'tropicalization', 'troubleshooters', 'troubleshooting', 'troublesomeness', 'troublousnesses', 'trueheartedness', 'trustlessnesses', 'trustworthiness', 'truthlessnesses', 'trypanosomiases', 'trypanosomiasis', 'tuberculisation', 'tuberculization', 'tumorgenicities', 'turbogenerators', 'tyndallimetries', 'typographically', 'tyrannosauruses', 'tyrannousnesses', 'ubiquitarianism', 'ubiquitinations', 'ultimogenitures', 'ultracentrifuge', 'ultracommercial', 'ultraconvenient', 'ultracrepidated', 'ultracrepidates', 'ultrademocratic', 'ultrafastidious', 'ultrafiltration', 'ultraliberalism', 'ultramarathoner', 'ultramicrometer', 'ultramicroscope', 'ultramicroscopy', 'ultramicrotomes', 'ultramodernisms', 'ultramodernists', 'ultramontanisms', 'ultramontanists', 'ultrasonography', 'ultrastructural', 'ultrastructures', 'ultravirilities', 'unacceptability', 'unaccommodating', 'unacquaintances', 'unadulteratedly', 'unadvisableness', 'unadvisednesses', 'unalterableness', 'unamiablenesses', 'unanimousnesses', 'unanswerability', 'unanticipatedly', 'unapostolically', 'unappreciations', 'unapprehensible', 'unascertainable', 'unashamednesses', 'unassailability', 'unauthenticated', 'unauthoritative', 'unavailableness', 'unavoidableness', 'unbelievability', 'unbelievingness', 'unbendingnesses', 'unbiassednesses', 'unblessednesses', 'unboundednesses', 'unbridlednesses', 'uncanonicalness', 'uncategorisable', 'uncategorizable', 'unceasingnesses', 'unceremoniously', 'uncertainnesses', 'unchallengeable', 'unchallengeably', 'unchangeability', 'unchoreographed', 'unchristianised', 'unchristianises', 'unchristianized', 'unchristianizes', 'unchristianlike', 'unchronological', 'uncircumcisions', 'uncircumscribed', 'uncivilisedness', 'uncivilizedness', 'uncleanlinesses', 'unclimbableness', 'uncloudednesses', 'uncommunicative', 'uncompanionable', 'uncompassionate', 'uncomplainingly', 'uncomplaisantly', 'uncomplimentary', 'uncomprehending', 'uncomprehensive', 'uncompromisable', 'unconcernedness', 'unconditionally', 'unconnectedness', 'unconscientious', 'unconsciousness', 'unconsentaneous', 'unconstrainable', 'unconstrainedly', 'uncontroversial', 'uncooperatively', 'uncopyrightable', 'uncourtlinesses', 'uncreatednesses', 'undauntednesses', 'undecidednesses', 'undemonstrative', 'underactivities', 'undercapitalise', 'undercapitalize', 'underdeveloping', 'underemphasised', 'underemphasises', 'underemphasized', 'underemphasizes', 'underemployment', 'underestimating', 'underestimation', 'underfulfilling', 'undergraduettes', 'underhandedness', 'underinflations', 'underinvestment', 'undernicenesses', 'undernourishing', 'undernutritions', 'underperforming', 'underprivileged', 'underproduction', 'underpublicised', 'underpublicized', 'understandingly', 'understatements', 'undervaluations', 'undesirableness', 'undetermination', 'undisappointing', 'undisciplinable', 'undistinguished', 'undividednesses', 'undomesticating', 'undutifulnesses', 'unearthlinesses', 'uneatablenesses', 'unemployability', 'unendurableness', 'unequivocalness', 'unexceptionable', 'unexceptionably', 'unexceptionally', 'unextraordinary', 'unfailingnesses', 'unfamiliarities', 'unfavorableness', 'unfeelingnesses', 'unfeignednesses', 'unflappableness', 'unforgivenesses', 'unforgivingness', 'unfortunateness', 'unfossiliferous', 'unfoundednesses', 'ungentlemanlike', 'ungenuinenesses', 'ungrammatically', 'unguardednesses', 'unhealthfulness', 'unhealthinesses', 'unhurtfulnesses', 'unidiomatically', 'uniformitarians', 'unilateralities', 'unimaginatively', 'uninformatively', 'uninhibitedness', 'unintelligences', 'unintelligently', 'unintentionally', 'uninterestingly', 'unintermittedly', 'uninterpretable', 'uninterruptedly', 'universalnesses', 'unknowabilities', 'unknowingnesses', 'unknowledgeable', 'unlearnednesses', 'unlimitednesses', 'unmeaningnesses', 'unmelodiousness', 'unmindfulnesses', 'unmitigatedness', 'unmusicalnesses', 'unnaturalnesses', 'unnecessariness', 'unobjectionable', 'unobjectionably', 'unobtrusiveness', 'unoriginalities', 'unparliamentary', 'unpatriotically', 'unpeaceableness', 'unperfectnesses', 'unphilosophical', 'unpitifulnesses', 'unpracticalness', 'unpractisedness', 'unprecedentedly', 'unpremeditation', 'unprepossessing', 'unpretentiously', 'unprintableness', 'unprofessionals', 'unprofitability', 'unprogressively', 'unpronounceable', 'unproportionate', 'unprotectedness', 'unprotestantise', 'unprotestantize', 'unpunctualities', 'unqualifiedness', 'unquestioningly', 'unreadabilities', 'unrealistically', 'unrecommendable', 'unreconciliable', 'unreconstructed', 'unrelentingness', 'unreliabilities', 'unremittingness', 'unrestfulnesses', 'unrestingnesses', 'unrevolutionary', 'unrighteousness', 'unrufflednesses', 'unsaintlinesses', 'unsaleabilities', 'unsatisfactions', 'unsatisfiedness', 'unsavourinesses', 'unseaworthiness', 'unsectarianisms', 'unselfconscious', 'unselfishnesses', 'unseriousnesses', 'unsettlednesses', 'unshakeableness', 'unsightlinesses', 'unskilfulnesses', 'unsociabilities', 'unsophisticated', 'unsparingnesses', 'unspeakableness', 'unspiritualised', 'unspiritualises', 'unspiritualized', 'unspiritualizes', 'unsportsmanlike', 'unspottednesses', 'unstatesmanlike', 'unsteadfastness', 'unsubstantially', 'unsubstantiated', 'unsuitabilities', 'unsuspectedness', 'unsymmetrically', 'untaintednesses', 'untamablenesses', 'unteachableness', 'untenablenesses', 'unthinkableness', 'unthriftinesses', 'untractableness', 'untraditionally', 'untransferrable', 'untransmigrated', 'untransmissible', 'untrustworthily', 'untunablenesses', 'untunefulnesses', 'unutterableness', 'unverifiability', 'unweariednesses', 'unwelcomenesses', 'unwholesomeness', 'unwieldlinesses', 'unwillingnesses', 'unwittingnesses', 'unwomanlinesses', 'unworkabilities', 'unworldlinesses', 'upgradabilities', 'uterogestations', 'utilitarianised', 'utilitarianises', 'utilitarianisms', 'utilitarianized', 'utilitarianizes', 'utterablenesses', 'valetudinarians', 'valuelessnesses', 'vapourabilities', 'vapourishnesses', 'vascularisation', 'vascularization', 'vasoconstrictor', 'vasodilatations', 'venerablenesses', 'ventriloquially', 'ventriloquising', 'ventriloquistic', 'ventriloquizing', 'venturesomeness', 'venturousnesses', 'veraciousnesses', 'verifiabilities', 'verisimilitudes', 'veritablenesses', 'verminousnesses', 'vernacularising', 'vernacularities', 'vernacularizing', 'versatilenesses', 'verticillasters', 'verticillations', 'vertiginousness', 'vespertilionids', 'vespertilionine', 'vexatiousnesses', 'vibroflotations', 'vicariousnesses', 'vicissitudinary', 'vicissitudinous', 'videoconference', 'videotelephones', 'vindicabilities', 'vindicativeness', 'violinistically', 'viscoelasticity', 'viscosimetrical', 'visionarinesses', 'vitilitigations', 'vitriolisations', 'vitriolizations', 'vivaciousnesses', 'vivisectionally', 'vivisectionists', 'voicelessnesses', 'volatilisations', 'volatilizations', 'voluntarinesses', 'voraciousnesses', 'voyeuristically', 'vulnerabilities', 'wappenschawings', 'warmheartedness', 'warrantableness', 'wasterfulnesses', 'watercolourists', 'waterlessnesses', 'wearisomenesses', 'weatherboarding', 'weatherisations', 'weatherizations', 'weatherlinesses', 'weatherproofing', 'weltanschauungs', 'westernisations', 'westernizations', 'whatchamacallit', 'whimsicalnesses', 'whippersnappers', 'wholesomenesses', 'whoremistresses', 'withdrawnnesses', 'woebegonenesses', 'wonderfulnesses', 'wondermongering', 'worrisomenesses', 'worthlessnesses', 'wrongheadedness', 'xenomorphically', 'xenotransplants', 'xerographically', 'xeroradiography', 'xylotypographic', 'yellowishnesses', 'yieldablenesses', 'zigzaggednesses', 'zinckifications', 'zinjanthropuses', 'zoogeographical', 'zoophysiologies', 'zoophysiologist', 'zoophytological', 'zoophytologists', 'zoopsychologies', 'zygobranchiates', 'zygophyllaceous']\n",
      "\n",
      "5757\n"
     ]
    }
   ],
   "source": [
    "from scrabble import wordlist\n",
    "\n",
    "matches = []\n",
    "longest_word = ''\n",
    "\n",
    "for word in wordlist:\n",
    "    if len(word) >= len(longest_word):\n",
    "        longest_word = word\n",
    "\n",
    "for word in wordlist:\n",
    "    if len(word) == len(longest_word):\n",
    "        matches.append(word)\n",
    "\n",
    "print(len(matches))        \n",
    "print()\n",
    "print(matches)\n",
    "print()\n",
    "print(len(matches))"
   ]
  },
  {
   "cell_type": "code",
   "execution_count": null,
   "id": "fc7e973c",
   "metadata": {},
   "outputs": [],
   "source": [
    "#Question 6.1"
   ]
  },
  {
   "cell_type": "code",
   "execution_count": 110,
   "id": "395254b0",
   "metadata": {},
   "outputs": [
    {
     "name": "stdout",
     "output_type": "stream",
     "text": [
      "10\n",
      "\n",
      "['deified', 'hadedah', 'halalah', 'reifier', 'repaper', 'reviver', 'rotator', 'rotavator', 'seities', 'sememes']\n"
     ]
    }
   ],
   "source": [
    "from scrabble import wordlist\n",
    "\n",
    "matches = []\n",
    "\n",
    "for word in wordlist:\n",
    "    if len(word) > 6:\n",
    "        if word == word[::-1]:\n",
    "            matches.append(word)\n",
    "            \n",
    "print(len(matches))\n",
    "print()\n",
    "\n",
    "print(matches)"
   ]
  },
  {
   "cell_type": "code",
   "execution_count": null,
   "id": "3eb21fa4",
   "metadata": {},
   "outputs": [],
   "source": [
    "#Question 6.2"
   ]
  },
  {
   "cell_type": "code",
   "execution_count": null,
   "id": "a16424a4",
   "metadata": {},
   "outputs": [],
   "source": [
    "from scrabble import wordlist\n",
    "\n",
    "matches = []\n",
    "\n",
    "for word in wordlist:\n",
    "    if len(word) > 6:\n",
    "        if word == word[::-1]:\n",
    "            matches.append(word)\n",
    "            \n",
    "print(len(matches))\n",
    "print()\n",
    "\n",
    "print(matches)"
   ]
  },
  {
   "cell_type": "code",
   "execution_count": null,
   "id": "47006faa",
   "metadata": {},
   "outputs": [],
   "source": [
    "#Question 7"
   ]
  },
  {
   "cell_type": "code",
   "execution_count": 115,
   "id": "712139fe",
   "metadata": {},
   "outputs": [
    {
     "name": "stdout",
     "output_type": "stream",
     "text": [
      "2366\n",
      "\n",
      "['aa', 'aah', 'aahed', 'aal', 'aalii', 'ab', 'aba', 'abac', 'abaca', 'abaci', 'aback', 'abaka', 'abb', 'abba', 'abbe', 'abbed', 'abcee', 'abdicable', 'abeam', 'abed', 'abeigh', 'abele', 'abelia', 'abid', 'abide', 'abided', 'abigail', 'able', 'abled', 'acacia', 'academe', 'academia', 'academic', 'academical', 'acai', 'acca', 'accable', 'accede', 'acceded', 'accidia', 'accidie', 'acclaim', 'acclaimed', 'ace', 'aced', 'acedia', 'aceldama', 'ach', 'achage', 'ache', 'ached', 'achillea', 'acid', 'acidemia', 'acidhead', 'acidic', 'acidifiable', 'acidified', 'ackee', 'acme', 'acmic', 'ad', 'adage', 'adagial', 'add', 'addable', 'added', 'addeem', 'addeemed', 'addible', 'addle', 'addled', 'adeem', 'adeemed', 'ae', 'aecia', 'aecial', 'aecidia', 'aecidial', 'aedile', 'aefald', 'afald', 'aff', 'affable', 'affiche', 'affied', 'affiliable', 'afield', 'aflaj', 'aflame', 'ag', 'aga', 'agama', 'agami', 'agamic', 'agamid', 'age', 'aged', 'agee', 'aggada', 'aggadah', 'aggadic', 'aggie', 'agha', 'agila', 'agile', 'agleam', 'aglee', 'agma', 'ah', 'aha', 'ahead', 'ahed', 'ahem', 'ahi', 'ahigh', 'ai', 'aia', 'aid', 'aide', 'aided', 'aiga', 'ail', 'ailed', 'aim', 'aimed', 'ajee', 'aka', 'ake', 'akeake', 'aked', 'akedah', 'akee', 'akela', 'al', 'ala', 'alack', 'alae', 'alalia', 'alameda', 'alb', 'alba', 'albe', 'albee', 'alcade', 'alcaic', 'alcaide', 'alcalde', 'alchemic', 'alchemical', 'alcid', 'aldea', 'ale', 'alec', 'aleck', 'alee', 'alef', 'alegge', 'alegged', 'alembic', 'alf', 'alfa', 'alfaki', 'alfalfa', 'alga', 'algae', 'algaecide', 'algal', 'algicidal', 'algicide', 'algid', 'alibi', 'alibied', 'alible', 'alidad', 'alidade', 'alif', 'alike', 'alkali', 'alkalic', 'alkalified', 'alkie', 'all', 'alledge', 'alledged', 'allee', 'allege', 'alleged', 'allegge', 'allegged', 'allel', 'allele', 'allelic', 'allheal', 'alliable', 'allice', 'allied', 'alma', 'almah', 'alme', 'almeh', 'am', 'ama', 'amabile', 'amah', 'amalgam', 'ambach', 'ambage', 'amble', 'ambled', 'ameba', 'amebae', 'amebic', 'amelia', 'ami', 'amia', 'amiable', 'amicable', 'amice', 'amici', 'amid', 'amide', 'amidic', 'amie', 'amiga', 'amla', 'ba', 'baa', 'baaed', 'baal', 'baalim', 'baba', 'babble', 'babbled', 'babe', 'babel', 'babiche', 'babied', 'babka', 'bablah', 'bac', 'bacca', 'baccae', 'bacchiac', 'bacchic', 'bacchii', 'bach', 'bacha', 'bachcha', 'bached', 'bacillaemia', 'bacillemia', 'bacilli', 'bacillicide', 'back', 'backache', 'backcheck', 'backchecked', 'backed', 'backfall', 'backfield', 'backfile', 'backfill', 'backfilled', 'backie', 'bad', 'baddie', 'bade', 'badge', 'badged', 'bael', 'baff', 'baffed', 'baffle', 'baffled', 'bafflegab', 'bag', 'bagel', 'baggage', 'bagged', 'baggie', 'bagh', 'bagie', 'baglike', 'bah', 'bahada', 'bail', 'bailable', 'bailed', 'bailee', 'bailie', 'bailiff', 'bailli', 'bailliage', 'baillie', 'bajada', 'bake', 'baked', 'bakkie', 'bal', 'balalaika', 'bald', 'balded', 'baldfaced', 'baldhead', 'baldheaded', 'bale', 'baled', 'balk', 'balked', 'ball', 'ballabile', 'ballabili', 'ballad', 'ballade', 'balladed', 'balladic', 'balled', 'ballgame', 'balm', 'balmed', 'balmlike', 'bam', 'bambi', 'bammed', 'be', 'beach', 'beachball', 'beached', 'beachhead', 'bead', 'beaded', 'beadle', 'beadlike', 'beagle', 'beagled', 'beak', 'beaked', 'beaklike', 'beam', 'beamed', 'beamlike', 'becall', 'becalled', 'becalm', 'becalmed', 'became', 'beccaccia', 'bechalk', 'bechalked', 'bechamel', 'beck', 'becke', 'becked', 'bed', 'bedabble', 'bedabbled', 'bedad', 'bedaggle', 'bedaggled', 'beddable', 'bedded', 'bede', 'bedeck', 'bedecked', 'bedel', 'bedell', 'bedide', 'bedim', 'bedimmed', 'bedlam', 'bedlike', 'bee', 'beebee', 'beech', 'beedi', 'beef', 'beefcake', 'beefed', 'beegah', 'beelike', 'befall', 'befeld', 'befell', 'beflag', 'beflagged', 'beflea', 'befleaed', 'befleck', 'beflecked', 'beg', 'begad', 'begall', 'begalled', 'begem', 'begemmed', 'begged', 'begild', 'begilded', 'beglad', 'begladded', 'behalf', 'behead', 'beheadal', 'beheaded', 'beheld', 'beige', 'beigel', 'bejade', 'bejaded', 'bekah', 'bel', 'belace', 'belaced', 'beladied', 'belah', 'belch', 'belched', 'beldam', 'beldame', 'belee', 'beleed', 'belga', 'belie', 'belied', 'belief', 'belike', 'bell', 'belle', 'belled', 'belleek', 'bellied', 'bema', 'bemad', 'bemadam', 'bemadamed', 'bemadded', 'bemedal', 'bemedaled', 'bemedalled', 'bhagee', 'bhajee', 'bhaji', 'bhel', 'bi', 'biali', 'bib', 'bibb', 'bibbed', 'bibble', 'bible', 'biblical', 'biblike', 'bice', 'bickie', 'bid', 'biddable', 'bide', 'bided', 'bidi', 'bield', 'bielded', 'biface', 'bifacial', 'biff', 'biffed', 'bifid', 'big', 'biga', 'bigae', 'bigg', 'bigged', 'biggie', 'bigha', 'bighead', 'bigheaded', 'bike', 'biked', 'bikie', 'bikkie', 'bilabial', 'bile', 'biled', 'bilge', 'bilged', 'bilimbi', 'bilk', 'bilked', 'bill', 'billable', 'billed', 'billhead', 'billie', 'bima', 'bimah', 'bimble', 'blab', 'blabbed', 'black', 'blackball', 'blackballed', 'blacked', 'blackface', 'blackfaced', 'blackgame', 'blackhead', 'blackheaded', 'blackjack', 'blackjacked', 'blacklead', 'blackleg', 'blacklegged', 'blackmail', 'blackmailed', 'blad', 'bladded', 'blade', 'bladed', 'bladelike', 'blae', 'blaff', 'blag', 'blagged', 'blah', 'blahed', 'blam', 'blamable', 'blame', 'blameable', 'blamed', 'bleach', 'bleachable', 'bleached', 'bleak', 'bleb', 'bled', 'blee', 'bleed', 'caa', 'caaed', 'cab', 'caba', 'cabal', 'cabala', 'caballed', 'cabbage', 'cabbaged', 'cabbala', 'cabbalah', 'cabbed', 'cabbie', 'cable', 'cabled', 'caca', 'cachaemia', 'cachaemic', 'cache', 'cached', 'cackle', 'cackled', 'cad', 'cadaga', 'cadagi', 'caddice', 'caddie', 'caddied', 'cade', 'cadee', 'cadelle', 'cadge', 'cadged', 'cadi', 'cadie', 'cadmic', 'caeca', 'caecal', 'cafe', 'caff', 'caffila', 'cafila', 'cag', 'cage', 'caged', 'cagelike', 'cagmag', 'cagmagged', 'caid', 'caillach', 'caille', 'cailleach', 'cailliach', 'caimac', 'caimacam', 'cake', 'caked', 'calami', 'calced', 'calcic', 'calcific', 'calcified', 'caleche', 'calefied', 'calf', 'calflick', 'calflike', 'caliche', 'calicle', 'calid', 'calif', 'calima', 'calk', 'calked', 'call', 'calla', 'callable', 'callback', 'called', 'callee', 'callid', 'calm', 'calmed', 'cam', 'cama', 'camail', 'camailed', 'cambia', 'cambial', 'came', 'camel', 'camelback', 'camelia', 'camelid', 'camellia', 'camellike', 'cammed', 'cammie', 'cebadilla', 'cebid', 'ceca', 'cecal', 'cede', 'ceded', 'cedi', 'cedilla', 'cee', 'ceiba', 'ceil', 'ceiled', 'ceili', 'ceilidh', 'cel', 'celeb', 'celiac', 'cell', 'cella', 'cellae', 'celled', 'celli', 'cembali', 'ch', 'cha', 'chace', 'chaced', 'chachka', 'chack', 'chacked', 'chacma', 'chad', 'chafe', 'chafed', 'chaff', 'chaffed', 'chai', 'chakalaka', 'chal', 'chalah', 'chalcid', 'chaleh', 'chalice', 'chaliced', 'chalk', 'chalked', 'chalkface', 'chalklike', 'challa', 'challah', 'challie', 'cham', 'chamade', 'chammied', 'che', 'chebec', 'chechia', 'check', 'checkable', 'checked', 'cheek', 'cheeked', 'chef', 'chefed', 'cheffed', 'cheka', 'chela', 'chelae', 'chemic', 'chemical', 'chemicked', 'chi', 'chia', 'chiack', 'chiacked', 'chib', 'chibbed', 'chic', 'chica', 'chich', 'chicha', 'chichi', 'chick', 'chickadee', 'chickee', 'chicle', 'chid', 'chide', 'chided', 'chief', 'chiel', 'chield', 'chiffchaff', 'chigga', 'chik', 'child', 'childbed', 'childe', 'childed', 'childlike', 'chile', 'chili', 'chiliad', 'chiliadal', 'chiliadic', 'chill', 'chillada', 'chilled', 'chilli', 'chimb', 'chime', 'chimed', 'chimla', 'cicada', 'cicadae', 'cicadellid', 'cicala', 'cicale', 'cichlid', 'cichlidae', 'cid', 'cide', 'cided', 'ciel', 'cieled', 'cig', 'ciggie', 'cilia', 'cilice', 'cill', 'cimelia', 'clach', 'clack', 'clacked', 'clad', 'claddagh', 'cladded', 'claddie', 'clade', 'clag', 'clagged', 'claim', 'claimable', 'claimed', 'clam', 'clambake', 'clambe', 'clame', 'clamlike', 'clammed', 'cleche', 'cleck', 'clecked', 'cleek', 'cleeked', 'clef', 'cleg', 'cleik', 'clem', 'clemmed', 'cliche', 'cliched', 'clicheed', 'click', 'clickable', 'clicked', 'clied', 'cliff', 'cliffed', 'clifflike', 'climb', 'climbable', 'climbed', 'clime', 'da', 'dab', 'dabba', 'dabbed', 'dabble', 'dabbled', 'dabchick', 'dace', 'dacha', 'dack', 'dacked', 'dad', 'dada', 'dadah', 'dadded', 'daddle', 'daddled', 'dae', 'daedal', 'daedalic', 'daff', 'daffed', 'dag', 'dagaba', 'dagga', 'dagged', 'daggle', 'daggled', 'dah', 'dahabeah', 'dahabeeah', 'dahabiah', 'dahabieh', 'dahl', 'dahlia', 'daidle', 'daidled', 'dak', 'dal', 'dale', 'daled', 'daledh', 'dali', 'dalle', 'dallied', 'dam', 'damage', 'damageable', 'damaged', 'dame', 'damme', 'dammed', 'de', 'deacidified', 'dead', 'deaded', 'deadfall', 'deadhead', 'deadheaded', 'deaf', 'deal', 'deb', 'debacle', 'debag', 'debagged', 'debe', 'debeak', 'debeaked', 'debel', 'debelled', 'debile', 'decad', 'decadal', 'decade', 'decaf', 'decaff', 'decal', 'decalcified', 'decaled', 'decalled', 'deccie', 'decibel', 'decidable', 'decide', 'decided', 'decile', 'decimal', 'decime', 'deck', 'decked', 'deckel', 'deckle', 'deckled', 'declaim', 'declaimed', 'dedal', 'dee', 'deed', 'deeded', 'deek', 'deem', 'deemed', 'def', 'deface', 'defaceable', 'defaced', 'defame', 'defamed', 'defi', 'defied', 'defilade', 'defiladed', 'defile', 'defiled', 'deflea', 'defleaed', 'deg', 'degage', 'degame', 'degami', 'degged', 'dei', 'deice', 'deiced', 'deicidal', 'deicide', 'deid', 'deif', 'deific', 'deifical', 'deified', 'deil', 'deke', 'deked', 'del', 'dele', 'delead', 'deleaded', 'deleble', 'deled', 'delegable', 'delf', 'deli', 'delible', 'delice', 'delime', 'delimed', 'dell', 'deme', 'demic', 'dhak', 'dhal', 'dhamma', 'di', 'diable', 'diacid', 'diacidic', 'diadem', 'diademed', 'dial', 'dialed', 'diallage', 'diallagic', 'dialled', 'diallel', 'diamide', 'dib', 'dibbed', 'dibble', 'dibbled', 'dicamba', 'dice', 'diced', 'dich', 'dick', 'dicked', 'dickhead', 'dickie', 'did', 'didakai', 'didakei', 'diddle', 'diddled', 'didie', 'die', 'dieb', 'dieback', 'died', 'diel', 'dif', 'diff', 'difficile', 'dig', 'digamma', 'diggable', 'digged', 'digicam', 'dika', 'dikdik', 'dike', 'diked', 'dilemma', 'dilemmic', 'dill', 'dilled', 'dilli', 'dim', 'dimble', 'dime', 'dimmable', 'dimmed', 'djebel', 'djellaba', 'djellabah', 'djembe', 'djibbah', 'ea', 'each', 'eagle', 'eagled', 'eale', 'ebb', 'ebbed', 'ecad', 'ecce', 'ecdemic', 'ech', 'eche', 'eched', 'echelle', 'ed', 'eddied', 'edema', 'edge', 'edged', 'edh', 'edible', 'edifice', 'edificial', 'edified', 'edile', 'ee', 'eech', 'eeched', 'eek', 'eel', 'eellike', 'ef', 'eff', 'effable', 'efface', 'effaceable', 'effaced', 'effed', 'effigial', 'egad', 'egal', 'egg', 'egged', 'egghead', 'eggheaded', 'egma', 'eh', 'ehed', 'eide', 'eik', 'eiked', 'eild', 'eke', 'eked', 'ekka', 'el', 'elchee', 'elchi', 'eld', 'elegiac', 'elegiacal', 'elemi', 'elf', 'elfed', 'elflike', 'elhi', 'eliad', 'eliche', 'elide', 'elided', 'elidible', 'eligible', 'elk', 'ell', 'ellagic', 'elm', 'em', 'email', 'emailed', 'embace', 'embail', 'embailed', 'embale', 'embaled', 'emball', 'emballed', 'embalm', 'embalmed', 'embed', 'embedded', 'emblem', 'emblema', 'emblemed', 'emblic', 'emcee', 'emceed', 'eme', 'emic', 'emma', 'fa', 'faa', 'fab', 'fable', 'fabled', 'facade', 'face', 'faceable', 'faced', 'facemail', 'facia', 'faciae', 'facial', 'facile', 'fad', 'fadable', 'faddle', 'faddled', 'fade', 'faded', 'fadge', 'fadged', 'fadlike', 'fae', 'faecal', 'faff', 'faffed', 'fag', 'fagged', 'fah', 'faible', 'faik', 'faiked', 'fail', 'failed', 'faille', 'fake', 'faked', 'falafel', 'falaj', 'falbala', 'falcade', 'faldage', 'fall', 'fallal', 'fallback', 'fallible', 'fame', 'famed', 'familial', 'famille', 'fe', 'feal', 'fealed', 'fecal', 'fecial', 'feck', 'fecked', 'fed', 'fee', 'feeb', 'feeble', 'feebled', 'feed', 'feedable', 'feedback', 'feedbag', 'feel', 'feelbad', 'feg', 'feh', 'fehm', 'fehme', 'fehmic', 'felafel', 'felicia', 'felicific', 'felid', 'fell', 'fella', 'fellable', 'fellah', 'felled', 'fem', 'femal', 'female', 'feme', 'femme', 'fib', 'fibbed', 'fice', 'fiche', 'fickle', 'fickled', 'fid', 'fiddle', 'fiddleback', 'fiddled', 'fiddlededee', 'fiddledeedee', 'fiddlehead', 'fidge', 'fidged', 'fie', 'fief', 'field', 'fielded', 'fieldmice', 'fife', 'fifed', 'fifi', 'fig', 'figged', 'figjam', 'fike', 'fiked', 'fil', 'fila', 'filabeg', 'filch', 'filched', 'file', 'fileable', 'filed', 'filial', 'filibeg', 'filicidal', 'filicide', 'fill', 'fillable', 'fille', 'filled', 'fillibeg', 'film', 'filmable', 'filmed', 'filmi', 'filmic', 'filmlike', 'fimble', 'fjeld', 'flab', 'flabella', 'flaccid', 'flack', 'flacked', 'flaff', 'flaffed', 'flag', 'flagella', 'flagged', 'flail', 'flailed', 'flak', 'flake', 'flaked', 'flam', 'flambe', 'flambee', 'flambeed', 'flame', 'flamed', 'flamelike', 'flamm', 'flammable', 'flammed', 'flea', 'fleabag', 'fleam', 'fleche', 'fleck', 'flecked', 'fled', 'fledge', 'fledged', 'flee', 'fleece', 'fleeced', 'fleech', 'fleeched', 'fleecie', 'fleg', 'flegged', 'fleme', 'flic', 'flick', 'flickable', 'flicked', 'flied', 'flim', 'flimflam', 'flimflammed', 'gab', 'gabbed', 'gabble', 'gabbled', 'gabelle', 'gabelled', 'gable', 'gabled', 'gablelike', 'gad', 'gadded', 'gaddi', 'gade', 'gadge', 'gadgie', 'gadi', 'gadid', 'gadje', 'gae', 'gaed', 'gaff', 'gaffe', 'gaffed', 'gag', 'gaga', 'gage', 'gageable', 'gaged', 'gagged', 'gaggle', 'gaggled', 'gaid', 'gal', 'gala', 'galabea', 'galabeah', 'galabia', 'galabiah', 'galabieh', 'galage', 'galah', 'gale', 'galea', 'galeae', 'galilee', 'gall', 'gallabea', 'gallabeah', 'gallabia', 'gallabiah', 'gallabieh', 'galled', 'galliambic', 'gallic', 'gallica', 'gallied', 'gam', 'gama', 'gamb', 'gamba', 'gambade', 'gambe', 'gambia', 'gamble', 'gambled', 'game', 'gamed', 'gamelike', 'gamic', 'gamma', 'gammadia', 'gamme', 'gammed', 'geal', 'gealed', 'geck', 'gecked', 'ged', 'gee', 'geebag', 'geechee', 'geed', 'geek', 'geeked', 'geelbek', 'geggie', 'gel', 'gelable', 'gelada', 'geld', 'gelded', 'gelee', 'gelid', 'gelled', 'gem', 'gemel', 'gemlike', 'gemma', 'gemmae', 'gemmed', 'ghee', 'ghi', 'ghibli', 'ghilgai', 'ghillie', 'ghillied', 'gi', 'gib', 'gibbed', 'gibe', 'gibed', 'gibel', 'gibli', 'gid', 'giddied', 'gidgee', 'gidjee', 'gie', 'gied', 'gif', 'gig', 'giga', 'gigged', 'giggle', 'giggled', 'gighe', 'gila', 'gild', 'gilded', 'gildhall', 'gilgai', 'gilgie', 'gill', 'gilled', 'gillie', 'gillied', 'gimbal', 'gimbaled', 'gimballed', 'gimel', 'gimmal', 'gimmalled', 'gimme', 'gimmick', 'gimmicked', 'gimmie', 'glabella', 'glabellae', 'glace', 'glaceed', 'glacial', 'glad', 'gladded', 'gladdie', 'glade', 'gladelike', 'glaik', 'glam', 'gleam', 'gleamed', 'gleba', 'glebae', 'glebe', 'gled', 'glede', 'gledge', 'gledged', 'glee', 'gleed', 'gleek', 'gleeked', 'gleg', 'glei', 'glia', 'glial', 'glib', 'glibbed', 'glid', 'glide', 'glided', 'gliff', 'glike', 'glim', 'glime', 'glimed', 'ha', 'haaf', 'habdalah', 'habilable', 'habile', 'hable', 'hacek', 'hack', 'hackable', 'hacked', 'hackee', 'hackie', 'hackle', 'hackled', 'had', 'hadal', 'haddie', 'hade', 'haded', 'hadedah', 'hadj', 'hadjee', 'hadji', 'hae', 'haed', 'haem', 'haemal', 'haemic', 'haff', 'hag', 'hagadic', 'hagg', 'haggada', 'haggadah', 'haggadic', 'haggadical', 'hagged', 'haggle', 'haggled', 'haglike', 'hah', 'haha', 'haick', 'haik', 'haika', 'haikai', 'hail', 'hailed', 'haj', 'haji', 'hajj', 'hajjah', 'hajji', 'haka', 'hakam', 'hake', 'hakea', 'hakeem', 'hakim', 'halacha', 'halachic', 'halakah', 'halakha', 'halakhah', 'halakhic', 'halakic', 'halal', 'halala', 'halalah', 'halalled', 'hale', 'haled', 'half', 'halfa', 'halfback', 'halfbeak', 'halflife', 'halid', 'halide', 'hall', 'hallah', 'hallal', 'hallali', 'hallalled', 'hallel', 'halm', 'halma', 'ham', 'hamada', 'hamal', 'hamba', 'hamble', 'hambled', 'hame', 'hamed', 'hammada', 'hammal', 'hammam', 'hammed', 'he', 'head', 'headache', 'headage', 'headed', 'headlike', 'heal', 'healable', 'heald', 'healded', 'healed', 'healee', 'heame', 'hebe', 'hech', 'heck', 'heckle', 'heckled', 'heddle', 'heddled', 'hedge', 'hedgebill', 'hedged', 'heed', 'heeded', 'heel', 'heelball', 'heeled', 'heh', 'heid', 'heigh', 'heil', 'heiled', 'hejab', 'held', 'hele', 'heled', 'heliac', 'heliacal', 'helical', 'helideck', 'hell', 'helled', 'helm', 'helmed', 'hem', 'hemal', 'heme', 'hemialgia', 'hemic', 'hemmed', 'hi', 'hibachi', 'hic', 'hick', 'hickie', 'hid', 'hidable', 'hidage', 'hidalga', 'hide', 'hided', 'hie', 'hied', 'hiemal', 'higgle', 'higgled', 'high', 'highball', 'highballed', 'highed', 'highjack', 'highjacked', 'highlife', 'hijab', 'hijack', 'hijacked', 'hike', 'hiked', 'hila', 'hilch', 'hilched', 'hild', 'hili', 'hill', 'hilled', 'him', 'hm', 'hmm', 'iamb', 'iambi', 'iambic', 'ibidem', 'ice', 'iceball', 'iced', 'icefall', 'icefield', 'icelike', 'ich', 'iched', 'icicle', 'icicled', 'ick', 'ickle', 'id', 'ide', 'idea', 'ideaed', 'ideal', 'idee', 'idem', 'idle', 'idled', 'if', 'iff', 'igad', 'igg', 'igged', 'ilea', 'ileac', 'ileal', 'ilia', 'iliac', 'iliad', 'ilial', 'ilk', 'ilka', 'ill', 'illegal', 'illegible', 'illiad', 'image', 'imageable', 'imaged', 'imam', 'imbalm', 'imbalmed', 'imbecile', 'imbecilic', 'imbed', 'imbedded', 'imbibe', 'imbibed', 'imid', 'imide', 'imidic', 'immedicable', 'ja', 'jab', 'jabbed', 'jabble', 'jabbled', 'jacal', 'jack', 'jackal', 'jackalled', 'jacked', 'jackleg', 'jade', 'jaded', 'jadelike', 'jafa', 'jag', 'jaga', 'jagaed', 'jagg', 'jagged', 'jai', 'jail', 'jailable', 'jailed', 'jak', 'jake', 'jam', 'jamb', 'jambe', 'jambed', 'jambee', 'jamlike', 'jammable', 'jammed', 'jebel', 'jedi', 'jee', 'jeed', 'jeel', 'jeeled', 'jeelie', 'jeelied', 'jefe', 'jeff', 'jeffed', 'jehad', 'jehadi', 'jelab', 'jell', 'jellaba', 'jellabah', 'jelled', 'jellied', 'jellified', 'jembe', 'jemima', 'jemmied', 'jhala', 'jib', 'jibb', 'jibbah', 'jibbed', 'jibe', 'jibed', 'jicama', 'jiff', 'jig', 'jigajig', 'jigajigged', 'jigged', 'jiggle', 'jiggled', 'jigjig', 'jigjigged', 'jiglike', 'jihad', 'jihadi', 'jilbab', 'jilgie', 'jill', 'jimjam', 'jimmie', 'jimmied', 'ka', 'kaal', 'kaama', 'kab', 'kabab', 'kababbed', 'kabaddi', 'kabaka', 'kabala', 'kabbala', 'kabbalah', 'kabele', 'kabiki', 'kaccha', 'kacha', 'kachcha', 'kade', 'kadi', 'kae', 'kaed', 'kaf', 'kafila', 'kahal', 'kai', 'kaiak', 'kaiaked', 'kaid', 'kaie', 'kaif', 'kaik', 'kaika', 'kaikai', 'kail', 'kaim', 'kaimakam', 'kak', 'kaka', 'kaki', 'kalam', 'kale', 'kali', 'kalif', 'kalimba', 'kalmia', 'kam', 'kama', 'kamahi', 'kamala', 'kame', 'kamela', 'kami', 'kamichi', 'kamik', 'kamila', 'kamme', 'kea', 'keb', 'kebab', 'kebabbed', 'kebbed', 'kebbie', 'kebele', 'keblah', 'keck', 'kecked', 'keckle', 'keckled', 'ked', 'keddah', 'kedge', 'kedged', 'keech', 'keef', 'keek', 'keeked', 'keel', 'keelage', 'keeled', 'keelhale', 'keelhaled', 'keelie', 'kef', 'keffel', 'keg', 'kegged', 'kelim', 'kell', 'kemb', 'kembed', 'kembla', 'khadi', 'khaf', 'khaki', 'khakilike', 'khalif', 'khalifa', 'khalifah', 'kheda', 'khedah', 'khi', 'khilim', 'ki', 'kibbe', 'kibbeh', 'kibbi', 'kibble', 'kibbled', 'kibe', 'kibei', 'kibla', 'kiblah', 'kick', 'kickable', 'kickback', 'kickball', 'kicked', 'kid', 'kidded', 'kiddie', 'kiddied', 'kiddle', 'kidel', 'kidge', 'kidgie', 'kidlike', 'kief', 'kiekie', 'kif', 'kiff', 'kike', 'kild', 'kilim', 'kill', 'killable', 'killdee', 'killed', 'killick', 'killie', 'kimchee', 'kimchi', 'kleagle', 'klick', 'klieg', 'klik', 'la', 'lab', 'labda', 'label', 'labelable', 'labeled', 'labella', 'labelled', 'labia', 'labial', 'labile', 'lablab', 'lac', 'lace', 'laced', 'lacelike', 'lack', 'lacked', 'lad', 'laddie', 'lade', 'laded', 'ladified', 'ladle', 'ladled', 'lag', 'lagged', 'lah', 'laic', 'laical', 'laich', 'laid', 'laided', 'laigh', 'laik', 'laika', 'laiked', 'lake', 'lakebed', 'laked', 'lakelike', 'lakh', 'laldie', 'lall', 'lalled', 'lam', 'lama', 'lamb', 'lambada', 'lambda', 'lambed', 'lambie', 'lambkill', 'lamblike', 'lame', 'lamed', 'lamedh', 'lamella', 'lamellae', 'lamia', 'lamiae', 'lammed', 'lammie', 'lea', 'leach', 'leachable', 'leached', 'lead', 'leaded', 'leaf', 'leafage', 'leafed', 'leaflike', 'leak', 'leakage', 'leaked', 'leal', 'leam', 'leamed', 'lebbek', 'lech', 'lechaim', 'leched', 'led', 'ledge', 'ledged', 'lee', 'leech', 'leeched', 'leechee', 'leechlike', 'leed', 'leek', 'leg', 'legal', 'legge', 'legged', 'legible', 'leglike', 'lehaim', 'lei', 'lek', 'leke', 'lekked', 'leme', 'lemed', 'lemel', 'lemma', 'li', 'liable', 'lib', 'libbed', 'libel', 'libeled', 'libelee', 'libelled', 'libellee', 'liblab', 'lice', 'lich', 'lichee', 'lichi', 'lick', 'licked', 'lid', 'lidded', 'lie', 'lied', 'lief', 'liege', 'life', 'lifelike', 'lig', 'ligge', 'ligged', 'likable', 'like', 'likeable', 'liked', 'lilac', 'lilied', 'lill', 'lilled', 'lima', 'limacel', 'limail', 'limb', 'limba', 'limbec', 'limbeck', 'limbed', 'limbi', 'limbic', 'limbmeal', 'lime', 'limeade', 'limed', 'limma', 'llama', 'ma', 'maa', 'maaed', 'mabe', 'mabela', 'mac', 'macadam', 'macadamia', 'macchia', 'macchie', 'mace', 'maced', 'mach', 'mache', 'machi', 'mack', 'mackle', 'mackled', 'macle', 'macled', 'mad', 'madam', 'madame', 'madamed', 'madded', 'made', 'madefied', 'madge', 'madid', 'mae', 'maelid', 'maffia', 'maffick', 'mafficked', 'maffled', 'mafia', 'mafic', 'mag', 'mage', 'magg', 'magged', 'maggie', 'magi', 'magic', 'magical', 'magicked', 'magma', 'mahimahi', 'mahmal', 'maid', 'maided', 'maihem', 'maik', 'mail', 'mailable', 'mailbag', 'maile', 'mailed', 'maill', 'maim', 'maimed', 'mak', 'makable', 'make', 'makeable', 'maki', 'mal', 'mala', 'malacca', 'malacia', 'malam', 'male', 'malefic', 'malefice', 'maleficial', 'maleic', 'malfed', 'mali', 'malic', 'malice', 'maliced', 'malik', 'mall', 'mallam', 'malleable', 'malled', 'mallee', 'mallei', 'malm', 'malmag', 'mam', 'mama', 'mamaliga', 'mamba', 'mamee', 'mamie', 'mamilla', 'mamillae', 'mamma', 'mammae', 'mammal', 'mammee', 'mammie', 'mammilla', 'mammillae', 'me', 'mead', 'meal', 'mealed', 'mealie', 'mecca', 'meck', 'med', 'medacca', 'medaka', 'medal', 'medaled', 'medalled', 'medallic', 'meddle', 'meddled', 'media', 'mediad', 'mediae', 'medial', 'medic', 'medicable', 'medicaid', 'medical', 'medicide', 'medick', 'medii', 'medle', 'medled', 'mee', 'meed', 'meek', 'meemie', 'meff', 'meg', 'mega', 'megadeal', 'megilla', 'megillah', 'meikle', 'mekka', 'mel', 'mela', 'melamdim', 'melamed', 'meld', 'melded', 'melee', 'melic', 'melick', 'melik', 'mell', 'melled', 'mellific', 'mem', 'meme', 'mi', 'mib', 'mic', 'mica', 'mice', 'micell', 'micella', 'micellae', 'micelle', 'mich', 'miche', 'miched', 'mick', 'mickle', 'mid', 'middie', 'middle', 'middled', 'midfield', 'midge', 'midgie', 'midi', 'midleg', 'midlife', 'mielie', 'miff', 'miffed', 'mig', 'migg', 'miggle', 'miha', 'mihi', 'mihied', 'mike', 'miked', 'mil', 'miladi', 'milage', 'milch', 'milchig', 'milchik', 'mild', 'milded', 'mile', 'mileage', 'milia', 'milk', 'milked', 'milklike', 'milkmaid', 'mill', 'millable', 'millage', 'millcake', 'milldam', 'mille', 'milled', 'millie', 'millieme', 'milligal', 'millime', 'mim', 'mime', 'mimed', 'mimic', 'mimical', 'mimicked', 'mimmick', 'mimmicked', 'mm']\n"
     ]
    }
   ],
   "source": [
    "#Longest words consisting entirely of letters from the first half of the alphabet (a through m).\n",
    "\n",
    "from scrabble import wordlist\n",
    "\n",
    "matches = []\n",
    "letters = ['a','b','c','d','e','f','g','h','i','j','k','l','m']\n",
    "\n",
    "for word in wordlist:\n",
    "    still_counts = True\n",
    "    for letter in word:\n",
    "        if letter not in letters:\n",
    "            still_counts = False\n",
    "    if still_counts is True:\n",
    "       matches.append(word) \n",
    "\n",
    "print(len(matches))\n",
    "print()\n",
    "print(matches)\n",
    "\n"
   ]
  },
  {
   "cell_type": "code",
   "execution_count": 106,
   "id": "furnished-philosophy",
   "metadata": {},
   "outputs": [],
   "source": [
    "choice_letters = ['x', 'y', 'z']\n",
    "\n",
    "matches = []\n",
    "for word in wordlist:\n",
    "    has_all_letters = True\n",
    "    for choice_letter in choice_letters:\n",
    "        if choice_letter not in word:\n",
    "            has_all_letters = False\n",
    "    if has_all_letters:\n",
    "        matches.append(word)    "
   ]
  },
  {
   "cell_type": "code",
   "execution_count": null,
   "id": "b1c1aea3",
   "metadata": {},
   "outputs": [],
   "source": []
  },
  {
   "cell_type": "code",
   "execution_count": null,
   "id": "dbed3709",
   "metadata": {},
   "outputs": [],
   "source": []
  },
  {
   "cell_type": "code",
   "execution_count": 10,
   "id": "flush-throw",
   "metadata": {},
   "outputs": [
    {
     "data": {
      "text/plain": [
       "22"
      ]
     },
     "execution_count": 10,
     "metadata": {},
     "output_type": "execute_result"
    }
   ],
   "source": [
    "len(matches)"
   ]
  },
  {
   "cell_type": "code",
   "execution_count": 8,
   "id": "scenic-trick",
   "metadata": {},
   "outputs": [
    {
     "name": "stdout",
     "output_type": "stream",
     "text": [
      "['deoxygenize', 'deoxygenized', 'deoxygenizes', 'deoxygenizing', 'exoenzyme', 'exoenzymes', 'hydroxyzine', 'hydroxyzines', 'methoxybenzene', 'methoxybenzenes', 'oxygenize', 'oxygenized', 'oxygenizer', 'oxygenizers', 'oxygenizes', 'oxygenizing', 'oxyphenbutazone', 'zanthoxyl', 'zanthoxyls', 'zanthoxylum', 'zanthoxylums', 'zootaxy']\n"
     ]
    }
   ],
   "source": [
    "print(matches)"
   ]
  },
  {
   "cell_type": "code",
   "execution_count": null,
   "id": "right-tunisia",
   "metadata": {},
   "outputs": [],
   "source": []
  }
 ],
 "metadata": {
  "kernelspec": {
   "display_name": "Python 3 (ipykernel)",
   "language": "python",
   "name": "python3"
  },
  "language_info": {
   "codemirror_mode": {
    "name": "ipython",
    "version": 3
   },
   "file_extension": ".py",
   "mimetype": "text/x-python",
   "name": "python",
   "nbconvert_exporter": "python",
   "pygments_lexer": "ipython3",
   "version": "3.10.9"
  }
 },
 "nbformat": 4,
 "nbformat_minor": 5
}
