{
 "cells": [
  {
   "cell_type": "markdown",
   "id": "attempted-laptop",
   "metadata": {},
   "source": [
    "If you build a new book, you will need to (a) keep it in the same directory as this file and (b) copy the cell immediately below into your notebook so that you also import the wordlist into your notebook. Unless you do that, you will not have the wordlist file."
   ]
  },
  {
   "cell_type": "code",
   "execution_count": 5,
   "id": "addressed-point",
   "metadata": {},
   "outputs": [],
   "source": [
    "# this code imports the wordlist into a new list called wordlist\n",
    "from scrabble import wordlist"
   ]
  },
  {
   "cell_type": "code",
   "execution_count": 2,
   "id": "8a53d83b",
   "metadata": {},
   "outputs": [
    {
     "data": {
      "text/plain": [
       "list"
      ]
     },
     "execution_count": 2,
     "metadata": {},
     "output_type": "execute_result"
    }
   ],
   "source": [
    "type(wordlist)"
   ]
  },
  {
   "cell_type": "markdown",
   "id": "internal-occasion",
   "metadata": {},
   "source": [
    "### Example 1: Let's come up with a program to tell us how many words start with \"aa\""
   ]
  },
  {
   "cell_type": "code",
   "execution_count": 5,
   "id": "atlantic-burner",
   "metadata": {},
   "outputs": [
    {
     "data": {
      "text/plain": [
       "21"
      ]
     },
     "execution_count": 5,
     "metadata": {},
     "output_type": "execute_result"
    }
   ],
   "source": [
    "matches = []\n",
    "for word in wordlist:\n",
    "    if word[0:2] == \"aa\":\n",
    "        matches.append(word)\n",
    "len(matches)"
   ]
  },
  {
   "cell_type": "code",
   "execution_count": 12,
   "id": "combined-bridge",
   "metadata": {},
   "outputs": [
    {
     "name": "stdout",
     "output_type": "stream",
     "text": [
      "aa\n",
      "aah\n",
      "aahed\n",
      "aahing\n",
      "aahs\n",
      "aal\n",
      "aalii\n",
      "aaliis\n",
      "aals\n",
      "aardvark\n",
      "aardvarks\n",
      "aardwolf\n",
      "aardwolves\n",
      "aargh\n",
      "aarrgh\n",
      "aarrghh\n",
      "aarti\n",
      "aartis\n",
      "aas\n",
      "aasvogel\n",
      "aasvogels\n"
     ]
    }
   ],
   "source": [
    "for match in matches:\n",
    "    print(match)"
   ]
  },
  {
   "cell_type": "markdown",
   "id": "valid-resource",
   "metadata": {},
   "source": [
    "## Example 2: print every word that contains two \"l\"s in a row "
   ]
  },
  {
   "cell_type": "code",
   "execution_count": 14,
   "id": "automotive-float",
   "metadata": {},
   "outputs": [
    {
     "data": {
      "text/plain": [
       "7"
      ]
     },
     "execution_count": 14,
     "metadata": {},
     "output_type": "execute_result"
    }
   ],
   "source": [
    "matches = []\n",
    "\n",
    "# Print all words containing 'l'.\n",
    "for word in wordlist:\n",
    "    if \"mako\" in word:\n",
    "        matches.append(word)\n",
    "len(matches)\n"
   ]
  },
  {
   "cell_type": "code",
   "execution_count": 15,
   "id": "functional-analysis",
   "metadata": {},
   "outputs": [
    {
     "name": "stdout",
     "output_type": "stream",
     "text": [
      "['alexipharmakon', 'alexipharmakons', 'kaikomako', 'korimako', 'mako', 'makos', 'mamako']\n"
     ]
    }
   ],
   "source": [
    "print(matches)"
   ]
  },
  {
   "cell_type": "markdown",
   "id": "equivalent-durham",
   "metadata": {},
   "source": [
    "## Example 3: print out a word if it contains an x, y, and z"
   ]
  },
  {
   "cell_type": "code",
   "execution_count": 9,
   "id": "furnished-philosophy",
   "metadata": {},
   "outputs": [],
   "source": [
    "choice_letters = ['x', 'y', 'z']\n",
    "\n",
    "matches = []\n",
    "for word in wordlist:\n",
    "    has_all_letters = True\n",
    "    for choice_letter in choice_letters:\n",
    "        if choice_letter not in word:\n",
    "            has_all_letters = False\n",
    "    if has_all_letters:\n",
    "        matches.append(word)"
   ]
  },
  {
   "cell_type": "code",
   "execution_count": 10,
   "id": "flush-throw",
   "metadata": {},
   "outputs": [
    {
     "data": {
      "text/plain": [
       "22"
      ]
     },
     "execution_count": 10,
     "metadata": {},
     "output_type": "execute_result"
    }
   ],
   "source": [
    "len(matches)"
   ]
  },
  {
   "cell_type": "code",
   "execution_count": 11,
   "id": "scenic-trick",
   "metadata": {},
   "outputs": [
    {
     "name": "stdout",
     "output_type": "stream",
     "text": [
      "['deoxygenize', 'deoxygenized', 'deoxygenizes', 'deoxygenizing', 'exoenzyme', 'exoenzymes', 'hydroxyzine', 'hydroxyzines', 'methoxybenzene', 'methoxybenzenes', 'oxygenize', 'oxygenized', 'oxygenizer', 'oxygenizers', 'oxygenizes', 'oxygenizing', 'oxyphenbutazone', 'zanthoxyl', 'zanthoxyls', 'zanthoxylum', 'zanthoxylums', 'zootaxy']\n"
     ]
    }
   ],
   "source": [
    "print(matches)"
   ]
  },
  {
   "cell_type": "code",
   "execution_count": 12,
   "id": "right-tunisia",
   "metadata": {},
   "outputs": [],
   "source": [
    "#1 Alls well that ends well"
   ]
  },
  {
   "cell_type": "code",
   "execution_count": 16,
   "id": "0c39ef48",
   "metadata": {},
   "outputs": [],
   "source": [
    "#Find and print the words that end in \"well\" and be ready to tell me how many there are."
   ]
  },
  {
   "cell_type": "code",
   "execution_count": 37,
   "id": "cc5e22cd",
   "metadata": {},
   "outputs": [
    {
     "data": {
      "text/plain": [
       "23"
      ]
     },
     "execution_count": 37,
     "metadata": {},
     "output_type": "execute_result"
    }
   ],
   "source": [
    "matches = []\n",
    "for word in wordlist:\n",
    "    if word.endswith('well'):\n",
    "        matches.append(word)\n",
    "len(matches)"
   ]
  },
  {
   "cell_type": "code",
   "execution_count": 38,
   "id": "1a5e8ba6",
   "metadata": {},
   "outputs": [
    {
     "name": "stdout",
     "output_type": "stream",
     "text": [
      "['bridewell', 'drywell', 'dwell', 'farewell', 'footwell', 'gromwell', 'groundswell', 'indwell', 'inkwell', 'maxwell', 'newell', 'outdwell', 'outswell', 'outwell', 'overswell', 'pinswell', 'speedwell', 'stairwell', 'swell', 'unwell', 'upswell', 'upwell', 'well']\n"
     ]
    }
   ],
   "source": [
    "print(matches)"
   ]
  },
  {
   "cell_type": "code",
   "execution_count": 39,
   "id": "33ac28c9",
   "metadata": {},
   "outputs": [],
   "source": [
    "#How about \"mt\"?"
   ]
  },
  {
   "cell_type": "code",
   "execution_count": 40,
   "id": "eb9c4096",
   "metadata": {},
   "outputs": [
    {
     "data": {
      "text/plain": [
       "5"
      ]
     },
     "execution_count": 40,
     "metadata": {},
     "output_type": "execute_result"
    }
   ],
   "source": [
    "matches = []\n",
    "for word in wordlist:\n",
    "    if word.endswith('mt'):\n",
    "        matches.append(word)\n",
    "len(matches)"
   ]
  },
  {
   "cell_type": "code",
   "execution_count": 41,
   "id": "9a82faac",
   "metadata": {},
   "outputs": [
    {
     "name": "stdout",
     "output_type": "stream",
     "text": [
      "['daydreamt', 'dreamt', 'outdreamt', 'redreamt', 'undreamt']\n"
     ]
    }
   ],
   "source": [
    "print(matches)"
   ]
  },
  {
   "cell_type": "code",
   "execution_count": 42,
   "id": "d74cec37",
   "metadata": {},
   "outputs": [],
   "source": [
    "#How about \"gry\"?"
   ]
  },
  {
   "cell_type": "code",
   "execution_count": 43,
   "id": "b1898832",
   "metadata": {},
   "outputs": [
    {
     "data": {
      "text/plain": [
       "5"
      ]
     },
     "execution_count": 43,
     "metadata": {},
     "output_type": "execute_result"
    }
   ],
   "source": [
    "matches=[]\n",
    "for word in wordlist:\n",
    "    if word.endswith('gry'):\n",
    "        matches.append(word)\n",
    "len(matches)"
   ]
  },
  {
   "cell_type": "code",
   "execution_count": 44,
   "id": "212d90e0",
   "metadata": {},
   "outputs": [
    {
     "name": "stdout",
     "output_type": "stream",
     "text": [
      "['aggry', 'ahungry', 'angry', 'hungry', 'puggry']\n"
     ]
    }
   ],
   "source": [
    "print(matches)"
   ]
  },
  {
   "cell_type": "code",
   "execution_count": 46,
   "id": "14b7abd0",
   "metadata": {},
   "outputs": [],
   "source": [
    "#2 Counting vowels"
   ]
  },
  {
   "cell_type": "code",
   "execution_count": 47,
   "id": "14f954c8",
   "metadata": {},
   "outputs": [],
   "source": [
    "#How many words start with each vowel? Which is the most common vowel to find at the beginning of a word?"
   ]
  },
  {
   "cell_type": "code",
   "execution_count": 67,
   "id": "b37cd47e",
   "metadata": {},
   "outputs": [
    {
     "name": "stdout",
     "output_type": "stream",
     "text": [
      "Number of words starting with each Vowel: {'a': 15723, 'e': 11030, 'i': 9390, 'o': 8604, 'u': 9070}\n"
     ]
    }
   ],
   "source": [
    "vowel_counts = {'a': 0, 'e': 0, 'i': 0, 'o': 0, 'u': 0}\n",
    "\n",
    "for word in wordlist:\n",
    "    if word[0] in vowel_counts:\n",
    "        vowel_counts[word[0]] += 1\n",
    "print('Number of words starting with each Vowel:', vowel_counts)"
   ]
  },
  {
   "cell_type": "code",
   "execution_count": 64,
   "id": "a886fe81",
   "metadata": {},
   "outputs": [],
   "source": [
    "#Which is the most common vowel to find at the end of a word?"
   ]
  },
  {
   "cell_type": "code",
   "execution_count": 68,
   "id": "b3165087",
   "metadata": {},
   "outputs": [
    {
     "name": "stdout",
     "output_type": "stream",
     "text": [
      "Number of words Ending with each vowel: {'a': 5312, 'e': 27350, 'i': 1474, 'o': 1783, 'u': 354}\n"
     ]
    }
   ],
   "source": [
    "vowel_counts = {'a':0, 'e':0, 'i':0, 'o':0, 'u':0}\n",
    "\n",
    "for word in wordlist:\n",
    "    if word[-1] in vowel_counts:\n",
    "        vowel_counts[word[-1]] += 1\n",
    "print('Number of words Ending with each vowel:', vowel_counts)"
   ]
  },
  {
   "cell_type": "code",
   "execution_count": 69,
   "id": "a899c637",
   "metadata": {},
   "outputs": [],
   "source": [
    "#Find and print all the words that have all 5 vowels in alphabetical order."
   ]
  },
  {
   "cell_type": "code",
   "execution_count": 9,
   "id": "ea51a9b9",
   "metadata": {},
   "outputs": [
    {
     "name": "stdout",
     "output_type": "stream",
     "text": [
      "abstemious\n",
      "abstemiously\n",
      "abstentious\n",
      "adventitious\n",
      "adventitiously\n",
      "arenicolous\n",
      "arsenious\n",
      "caesious\n",
      "cavernicolous\n",
      "facetious\n",
      "facetiously\n",
      "halfseriously\n",
      "lateritious\n",
      "parecious\n"
     ]
    }
   ],
   "source": [
    "words_with_all_vowels = []\n",
    "words_with_all_vowels_in_alphabectical_order = []\n",
    "\n",
    "for word in wordlist:\n",
    "    if 'a' in word and 'e' in word and 'i' in word and 'o' in word and 'u' in word:\n",
    "        words_with_all_vowels = []\n",
    "        for letters in word:\n",
    "            if letters in 'aeiou':\n",
    "                words_with_all_vowels.append(letters)\n",
    "        if words_with_all_vowels == sorted(words_with_all_vowels):\n",
    "            print(word)"
   ]
  },
  {
   "cell_type": "code",
   "execution_count": 10,
   "id": "84edee11",
   "metadata": {},
   "outputs": [],
   "source": [
    "#3 Disemvoweled"
   ]
  },
  {
   "cell_type": "code",
   "execution_count": 11,
   "id": "42989bf0",
   "metadata": {},
   "outputs": [
    {
     "name": "stdout",
     "output_type": "stream",
     "text": [
      "The longest word with no vowels is: glycyls\n"
     ]
    }
   ],
   "source": [
    "longest_word = ''\n",
    "for word in wordlist:\n",
    "    has_vowel = False\n",
    "    for vowel in 'aeiou':\n",
    "        if vowel in word:\n",
    "            has_vowel = True\n",
    "            break\n",
    "    if not has_vowel and len(word) > len(longest_word):\n",
    "        longest_word = word\n",
    "\n",
    "print(\"The longest word with no vowels is:\", longest_word)"
   ]
  },
  {
   "cell_type": "code",
   "execution_count": 12,
   "id": "1cc3fb80",
   "metadata": {},
   "outputs": [],
   "source": [
    "#4 A cure for many ells"
   ]
  },
  {
   "cell_type": "code",
   "execution_count": 16,
   "id": "2388a8f5",
   "metadata": {},
   "outputs": [
    {
     "name": "stdout",
     "output_type": "stream",
     "text": [
      "alcoholically\n",
      "algologically\n",
      "allegorically\n",
      "allhallond\n",
      "allhallowen\n",
      "allhallown\n",
      "allhollown\n",
      "allopathically\n",
      "allopatrically\n",
      "allopolyploid\n",
      "allopolyploids\n",
      "allopolyploidy\n",
      "allosterically\n",
      "allotropically\n",
      "allotypically\n",
      "allychollies\n",
      "allycholly\n",
      "balletically\n",
      "ballistically\n",
      "bellpull\n",
      "bellpulls\n",
      "catallactically\n",
      "cellulolytic\n",
      "collaterally\n",
      "collegially\n",
      "collisionally\n",
      "colloidally\n",
      "colloquially\n",
      "corollifloral\n",
      "dillydallied\n",
      "dillydallies\n",
      "dillydally\n",
      "dillydallying\n",
      "dullsville\n",
      "dullsvilles\n",
      "elliptically\n",
      "extracellularly\n",
      "fallalishly\n",
      "hallalled\n",
      "hallalling\n",
      "hillbillies\n",
      "hillbilly\n",
      "holoblastically\n",
      "hullaballoo\n",
      "hullaballoos\n",
      "idyllically\n",
      "illegally\n",
      "illiberally\n",
      "illogically\n",
      "intellectually\n",
      "intracellularly\n",
      "jellyroll\n",
      "jellyrolls\n",
      "lallapalooza\n",
      "lallapaloozas\n",
      "lamellarly\n",
      "lamellately\n",
      "lamellirostral\n",
      "legalistically\n",
      "lexicologically\n",
      "libellously\n",
      "lignocellulose\n",
      "lignocelluloses\n",
      "lignocellulosic\n",
      "ligulifloral\n",
      "limnologically\n",
      "lithologically\n",
      "loblollies\n",
      "loblolly\n",
      "lollapalooza\n",
      "lollapaloozas\n",
      "lollingly\n",
      "melancholically\n",
      "mellifluently\n",
      "mellifluously\n",
      "metallically\n",
      "metallurgically\n",
      "methylcellulose\n",
      "millefeuille\n",
      "millefeuilles\n",
      "millennially\n",
      "millesimally\n",
      "multicellular\n",
      "multilaterally\n",
      "multilingually\n",
      "multimillennial\n",
      "palynologically\n",
      "parallactically\n",
      "parallelled\n",
      "parallelling\n",
      "parallelly\n",
      "pellmell\n",
      "pellmells\n",
      "phallically\n",
      "philatelically\n",
      "philologically\n",
      "plasmolytically\n",
      "pluralistically\n",
      "polysyllabical\n",
      "polysyllable\n",
      "polysyllables\n",
      "pralltriller\n",
      "pralltrillers\n",
      "premillennially\n",
      "rollcollar\n",
      "rollcollars\n",
      "rollerball\n",
      "rollerballs\n",
      "shillyshallied\n",
      "shillyshallier\n",
      "shillyshalliers\n",
      "shillyshallies\n",
      "shillyshally\n",
      "shillyshallying\n",
      "silviculturally\n",
      "skillfully\n",
      "stellularly\n",
      "syllabically\n",
      "sylleptically\n",
      "syllogistically\n",
      "teleologically\n",
      "trisyllabically\n",
      "unfulfillable\n",
      "unskillfully\n",
      "valpolicella\n",
      "valpolicellas\n",
      "vexillological\n",
      "villanella\n",
      "villanellas\n",
      "villanelle\n",
      "villanelles\n",
      "volleyball\n",
      "volleyballs\n",
      "wallyball\n",
      "wallyballs\n",
      "willfully\n"
     ]
    }
   ],
   "source": [
    "four_Ls = []\n",
    "for word in wordlist:\n",
    "    if word.count('l') >= 4:\n",
    "        four_Ls.append(word)\n",
    "        print(word)"
   ]
  },
  {
   "cell_type": "code",
   "execution_count": 18,
   "id": "1ed67860",
   "metadata": {},
   "outputs": [],
   "source": [
    "#How many are there?"
   ]
  },
  {
   "cell_type": "code",
   "execution_count": 19,
   "id": "de4095e7",
   "metadata": {},
   "outputs": [
    {
     "name": "stdout",
     "output_type": "stream",
     "text": [
      "136\n"
     ]
    }
   ],
   "source": [
    "print(len(four_Ls))"
   ]
  },
  {
   "cell_type": "code",
   "execution_count": 20,
   "id": "67def650",
   "metadata": {},
   "outputs": [],
   "source": [
    "#5 So long"
   ]
  },
  {
   "cell_type": "code",
   "execution_count": 21,
   "id": "807fd5aa",
   "metadata": {},
   "outputs": [],
   "source": [
    "#What is the longest word in the word list you've been given? How long is it?"
   ]
  },
  {
   "cell_type": "code",
   "execution_count": 22,
   "id": "aab2ad27",
   "metadata": {},
   "outputs": [
    {
     "name": "stdout",
     "output_type": "stream",
     "text": [
      "The longest word is: abiogenetically\n",
      "The length of the longest word is: 15\n"
     ]
    }
   ],
   "source": [
    "longest_word = ''\n",
    "for word in wordlist:\n",
    "    if len(word) > len(longest_word):\n",
    "        longest_word = word\n",
    "\n",
    "print(\"The longest word is:\", longest_word)\n",
    "print(\"The length of the longest word is:\", len(longest_word))"
   ]
  },
  {
   "cell_type": "code",
   "execution_count": 23,
   "id": "a4bc84d3",
   "metadata": {},
   "outputs": [],
   "source": [
    "#Are there more than one word of that length? If so, tell me how many are that exactly that long."
   ]
  },
  {
   "cell_type": "code",
   "execution_count": 24,
   "id": "ef5b5df0",
   "metadata": {},
   "outputs": [
    {
     "name": "stdout",
     "output_type": "stream",
     "text": [
      "The longest word is: abiogenetically\n",
      "The length of the longest word is: 15\n",
      "There are 5757 words that are 15 characters long.\n"
     ]
    }
   ],
   "source": [
    "longest_word = ''\n",
    "longest_word_count = 0\n",
    "\n",
    "for word in wordlist:\n",
    "    if len(word) > len(longest_word):\n",
    "        longest_word = word\n",
    "        longest_word_count = 1\n",
    "    elif len(word) == len(longest_word):\n",
    "        longest_word_count += 1\n",
    "\n",
    "print(\"The longest word is:\", longest_word)\n",
    "print(\"The length of the longest word is:\", len(longest_word))\n",
    "print(\"There are\", longest_word_count, \"words that are\", len(longest_word), \"characters long.\")"
   ]
  },
  {
   "cell_type": "code",
   "execution_count": 25,
   "id": "e434d7a1",
   "metadata": {},
   "outputs": [],
   "source": [
    "#6 Palindromes"
   ]
  },
  {
   "cell_type": "code",
   "execution_count": 26,
   "id": "4498ec43",
   "metadata": {},
   "outputs": [],
   "source": [
    "#Print out a list of every palindrome (a word that is the same reversed) that's over 6 letters in length."
   ]
  },
  {
   "cell_type": "code",
   "execution_count": 27,
   "id": "5fdb20d3",
   "metadata": {},
   "outputs": [
    {
     "name": "stdout",
     "output_type": "stream",
     "text": [
      "Palindromes that are over 6 letters long:\n",
      "['deified', 'hadedah', 'halalah', 'reifier', 'repaper', 'reviver', 'rotator', 'rotavator', 'seities', 'sememes']\n"
     ]
    }
   ],
   "source": [
    "palindromes = []\n",
    "\n",
    "for word in wordlist:\n",
    "    if len(word) > 6 and word == word[::-1]:\n",
    "        palindromes.append(word)\n",
    "\n",
    "print(\"Palindromes that are over 6 letters long:\")\n",
    "print(palindromes)"
   ]
  },
  {
   "cell_type": "code",
   "execution_count": 28,
   "id": "28028bbb",
   "metadata": {},
   "outputs": [],
   "source": [
    "#How many are there?"
   ]
  },
  {
   "cell_type": "code",
   "execution_count": 29,
   "id": "d49f0e22",
   "metadata": {},
   "outputs": [
    {
     "name": "stdout",
     "output_type": "stream",
     "text": [
      "10\n"
     ]
    }
   ],
   "source": [
    "print(len(palindromes))"
   ]
  },
  {
   "cell_type": "code",
   "execution_count": 30,
   "id": "c84eb53c",
   "metadata": {},
   "outputs": [],
   "source": [
    "#7 Something fun"
   ]
  },
  {
   "cell_type": "code",
   "execution_count": 31,
   "id": "7bf38297",
   "metadata": {},
   "outputs": [],
   "source": [
    "#Words beginning with double 'o'"
   ]
  },
  {
   "cell_type": "code",
   "execution_count": 32,
   "id": "0dcb9a74",
   "metadata": {},
   "outputs": [
    {
     "name": "stdout",
     "output_type": "stream",
     "text": [
      "Words beginning with double 'o':\n",
      "['oo', 'oobit', 'oobits', 'oocyst', 'oocysts', 'oocyte', 'oocytes', 'oodles', 'oodlins', 'oof', 'oofier', 'oofiest', 'oofs', 'ooftish', 'ooftishes', 'oofy', 'oogamete', 'oogametes', 'oogamies', 'oogamous', 'oogamy', 'oogeneses', 'oogenesis', 'oogenetic', 'oogenies', 'oogeny', 'oogonia', 'oogonial', 'oogonium', 'oogoniums', 'ooh', 'oohed', 'oohing', 'oohs', 'ooidal', 'oolachan', 'oolachans', 'oolakan', 'oolakans', 'oolite', 'oolites', 'oolith', 'ooliths', 'oolitic', 'oologic', 'oological', 'oologies', 'oologist', 'oologists', 'oology', 'oolong', 'oolongs', 'oom', 'oomiac', 'oomiack', 'oomiacks', 'oomiacs', 'oomiak', 'oomiaks', 'oompah', 'oompahed', 'oompahing', 'oompahs', 'oomph', 'oomphs', 'ooms', 'oomycete', 'oomycetes', 'oon', 'oons', 'oont', 'oonts', 'oop', 'ooped', 'oophorectomies', 'oophorectomise', 'oophorectomised', 'oophorectomises', 'oophorectomize', 'oophorectomized', 'oophorectomizes', 'oophorectomy', 'oophoritic', 'oophoritis', 'oophoritises', 'oophoron', 'oophorons', 'oophyte', 'oophytes', 'oophytic', 'ooping', 'oops', 'oor', 'oorali', 'ooralis', 'oorial', 'oorials', 'oorie', 'oorier', 'ooriest', 'oos', 'oose', 'ooses', 'oosier', 'oosiest', 'oosperm', 'oosperms', 'oosphere', 'oospheres', 'oospore', 'oospores', 'oosporic', 'oosporous', 'oosy', 'oot', 'ootheca', 'oothecae', 'oothecal', 'ootid', 'ootids', 'oots', 'ooze', 'oozed', 'oozes', 'oozier', 'ooziest', 'oozily', 'ooziness', 'oozinesses', 'oozing', 'oozy']\n"
     ]
    }
   ],
   "source": [
    "double_o_words = []\n",
    "\n",
    "for word in wordlist:\n",
    "    if word.startswith('oo'):\n",
    "        double_o_words.append(word)\n",
    "\n",
    "print(\"Words beginning with double 'o':\")\n",
    "print(double_o_words)"
   ]
  },
  {
   "cell_type": "code",
   "execution_count": null,
   "id": "18ca813b",
   "metadata": {},
   "outputs": [],
   "source": []
  }
 ],
 "metadata": {
  "kernelspec": {
   "display_name": "Python 3 (ipykernel)",
   "language": "python",
   "name": "python3"
  },
  "language_info": {
   "codemirror_mode": {
    "name": "ipython",
    "version": 3
   },
   "file_extension": ".py",
   "mimetype": "text/x-python",
   "name": "python",
   "nbconvert_exporter": "python",
   "pygments_lexer": "ipython3",
   "version": "3.10.9"
  }
 },
 "nbformat": 4,
 "nbformat_minor": 5
}
