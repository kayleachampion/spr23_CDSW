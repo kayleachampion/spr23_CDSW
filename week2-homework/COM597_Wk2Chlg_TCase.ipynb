{
 "cells": [
  {
   "cell_type": "markdown",
   "id": "a5ba8809",
   "metadata": {},
   "source": [
    "COM597 Week 2 Coding Challenges: Tiana Case"
   ]
  },
  {
   "cell_type": "markdown",
   "id": "88816b10",
   "metadata": {},
   "source": [
    "-----------"
   ]
  },
  {
   "cell_type": "markdown",
   "id": "9fb9d7e0",
   "metadata": {},
   "source": [
    "Checklist:\n",
    "\n",
    "#0 - done!\n",
    "\n",
    "#1 - done!\n",
    "\n",
    "#2 - 2.1 done!, 2.2 done!, 2.3 WIP\n",
    "\n",
    "#3 - done!\n",
    "\n",
    "#4 - done!\n",
    "\n",
    "#5 - done!\n",
    "\n",
    "#6 - done!\n",
    "\n",
    "#7 - done!"
   ]
  },
  {
   "cell_type": "markdown",
   "id": "84e41fc1",
   "metadata": {},
   "source": [
    "#0 Setup"
   ]
  },
  {
   "cell_type": "markdown",
   "id": "attempted-laptop",
   "metadata": {},
   "source": [
    "If you build a new book, you will need to (a) keep it in the same directory as this file and (b) copy the cell immediately below into your notebook so that you also import the wordlist into your notebook. Unless you do that, you will not have the wordlist file."
   ]
  },
  {
   "cell_type": "code",
   "execution_count": 1,
   "id": "addressed-point",
   "metadata": {},
   "outputs": [],
   "source": [
    "# this code imports the wordlist into a new list called wordlist\n",
    "from scrabble import wordlist"
   ]
  },
  {
   "cell_type": "code",
   "execution_count": 2,
   "id": "3312db71",
   "metadata": {},
   "outputs": [
    {
     "data": {
      "text/plain": [
       "267751"
      ]
     },
     "execution_count": 2,
     "metadata": {},
     "output_type": "execute_result"
    }
   ],
   "source": [
    "len(wordlist)"
   ]
  },
  {
   "cell_type": "code",
   "execution_count": 3,
   "id": "e437335d",
   "metadata": {},
   "outputs": [
    {
     "data": {
      "text/plain": [
       "list"
      ]
     },
     "execution_count": 3,
     "metadata": {},
     "output_type": "execute_result"
    }
   ],
   "source": [
    "type(wordlist)"
   ]
  },
  {
   "cell_type": "markdown",
   "id": "internal-occasion",
   "metadata": {},
   "source": [
    "### Example 1: Let's come up with a program to tell us how many words start with \"aa\""
   ]
  },
  {
   "cell_type": "code",
   "execution_count": 4,
   "id": "atlantic-burner",
   "metadata": {},
   "outputs": [
    {
     "data": {
      "text/plain": [
       "21"
      ]
     },
     "execution_count": 4,
     "metadata": {},
     "output_type": "execute_result"
    }
   ],
   "source": [
    "matches = []\n",
    "for word in wordlist:\n",
    "    if word[0:2] == \"aa\":\n",
    "        matches.append(word)\n",
    "len(matches)"
   ]
  },
  {
   "cell_type": "markdown",
   "id": "656df5d7",
   "metadata": {},
   "source": [
    "matches = [] (empty list)\n",
    "(put things that match in the matches)\n",
    "\n",
    "for word in wordlist:\n",
    "    if word[0:2] == \"aa\": (distinguish number and order of letters)\n",
    "        matches.append(word)\n",
    "\n",
    "len(matches)"
   ]
  },
  {
   "cell_type": "code",
   "execution_count": 5,
   "id": "combined-bridge",
   "metadata": {},
   "outputs": [
    {
     "name": "stdout",
     "output_type": "stream",
     "text": [
      "aa\n",
      "aah\n",
      "aahed\n",
      "aahing\n",
      "aahs\n",
      "aal\n",
      "aalii\n",
      "aaliis\n",
      "aals\n",
      "aardvark\n",
      "aardvarks\n",
      "aardwolf\n",
      "aardwolves\n",
      "aargh\n",
      "aarrgh\n",
      "aarrghh\n",
      "aarti\n",
      "aartis\n",
      "aas\n",
      "aasvogel\n",
      "aasvogels\n"
     ]
    }
   ],
   "source": [
    "for match in matches:\n",
    "    print(match)"
   ]
  },
  {
   "cell_type": "code",
   "execution_count": 6,
   "id": "70ed91db",
   "metadata": {},
   "outputs": [
    {
     "data": {
      "text/plain": [
       "3"
      ]
     },
     "execution_count": 6,
     "metadata": {},
     "output_type": "execute_result"
    }
   ],
   "source": [
    "matches = []\n",
    "for word in wordlist:\n",
    "    if word[0:-1] == \"aa\":\n",
    "        matches.append(word)\n",
    "len(matches)"
   ]
  },
  {
   "cell_type": "code",
   "execution_count": 7,
   "id": "e0264ffb",
   "metadata": {
    "scrolled": true
   },
   "outputs": [
    {
     "name": "stdout",
     "output_type": "stream",
     "text": [
      "aah\n",
      "aal\n",
      "aas\n"
     ]
    }
   ],
   "source": [
    "for match in matches:\n",
    "    print(match)"
   ]
  },
  {
   "cell_type": "code",
   "execution_count": 8,
   "id": "4327fca9",
   "metadata": {},
   "outputs": [
    {
     "data": {
      "text/plain": [
       "0"
      ]
     },
     "execution_count": 8,
     "metadata": {},
     "output_type": "execute_result"
    }
   ],
   "source": [
    "matches = []\n",
    "for word in wordlist:\n",
    "    if word[-2:0] == \"aa\":\n",
    "        matches.append(word)\n",
    "len(matches)"
   ]
  },
  {
   "cell_type": "markdown",
   "id": "valid-resource",
   "metadata": {},
   "source": [
    "## Example 2: print every word that contains two \"l\"s in a row "
   ]
  },
  {
   "cell_type": "code",
   "execution_count": 9,
   "id": "automotive-float",
   "metadata": {},
   "outputs": [
    {
     "data": {
      "text/plain": [
       "12391"
      ]
     },
     "execution_count": 9,
     "metadata": {},
     "output_type": "execute_result"
    }
   ],
   "source": [
    "matches = []\n",
    "\n",
    "substring = \"ll\"\n",
    "# Print all words containing 'l'.\n",
    "for word in wordlist:\n",
    "    if substring in word:\n",
    "        matches.append(word)\n",
    "len(matches)\n"
   ]
  },
  {
   "cell_type": "code",
   "execution_count": 10,
   "id": "a4cb7cfc",
   "metadata": {},
   "outputs": [
    {
     "data": {
      "text/plain": [
       "12391"
      ]
     },
     "execution_count": 10,
     "metadata": {},
     "output_type": "execute_result"
    }
   ],
   "source": [
    "matches = []\n",
    "\n",
    "substring = \"ll\"\n",
    "for word in wordlist:\n",
    "    if substring in word:\n",
    "        matches.append(word)\n",
    "len(matches)\n",
    "#print(matches)"
   ]
  },
  {
   "cell_type": "markdown",
   "id": "equivalent-durham",
   "metadata": {},
   "source": [
    "## Example 3: print out a word if it contains an x, y, and z"
   ]
  },
  {
   "cell_type": "code",
   "execution_count": 11,
   "id": "furnished-philosophy",
   "metadata": {},
   "outputs": [],
   "source": [
    "choice_letters = ['x', 'y', 'z']\n",
    "\n",
    "matches = []\n",
    "for word in wordlist:\n",
    "    has_all_letters = True\n",
    "    for choice_letter in choice_letters:\n",
    "        if choice_letter not in word:\n",
    "            has_all_letters = False\n",
    "    if has_all_letters:\n",
    "        matches.append(word)    "
   ]
  },
  {
   "cell_type": "code",
   "execution_count": 12,
   "id": "1de9aced",
   "metadata": {},
   "outputs": [
    {
     "name": "stdout",
     "output_type": "stream",
     "text": [
      "deoxygenize\n",
      "deoxygenized\n",
      "deoxygenizes\n",
      "deoxygenizing\n",
      "exoenzyme\n",
      "exoenzymes\n",
      "hydroxyzine\n",
      "hydroxyzines\n",
      "methoxybenzene\n",
      "methoxybenzenes\n",
      "oxygenize\n",
      "oxygenized\n",
      "oxygenizer\n",
      "oxygenizers\n",
      "oxygenizes\n",
      "oxygenizing\n",
      "oxyphenbutazone\n",
      "zanthoxyl\n",
      "zanthoxyls\n",
      "zanthoxylum\n",
      "zanthoxylums\n",
      "zootaxy\n"
     ]
    }
   ],
   "source": [
    "choice_letters = ['x', 'y', 'z']\n",
    "\n",
    "match_counter = 0\n",
    "for word in wordlist:\n",
    "    has_all_letters = True\n",
    "    for choice_letter in choice_letters:\n",
    "        if choice_letter not in word:\n",
    "            has_all_letters = False\n",
    "    if has_all_letters:\n",
    "        print(word)\n",
    "        match_counter = match_counter + 1"
   ]
  },
  {
   "cell_type": "code",
   "execution_count": 13,
   "id": "flush-throw",
   "metadata": {},
   "outputs": [
    {
     "data": {
      "text/plain": [
       "22"
      ]
     },
     "execution_count": 13,
     "metadata": {},
     "output_type": "execute_result"
    }
   ],
   "source": [
    "len(matches)"
   ]
  },
  {
   "cell_type": "code",
   "execution_count": 14,
   "id": "scenic-trick",
   "metadata": {
    "scrolled": false
   },
   "outputs": [
    {
     "name": "stdout",
     "output_type": "stream",
     "text": [
      "['deoxygenize', 'deoxygenized', 'deoxygenizes', 'deoxygenizing', 'exoenzyme', 'exoenzymes', 'hydroxyzine', 'hydroxyzines', 'methoxybenzene', 'methoxybenzenes', 'oxygenize', 'oxygenized', 'oxygenizer', 'oxygenizers', 'oxygenizes', 'oxygenizing', 'oxyphenbutazone', 'zanthoxyl', 'zanthoxyls', 'zanthoxylum', 'zanthoxylums', 'zootaxy']\n"
     ]
    }
   ],
   "source": [
    "print(matches)"
   ]
  },
  {
   "cell_type": "markdown",
   "id": "02e383bb",
   "metadata": {},
   "source": [
    "---------------"
   ]
  },
  {
   "cell_type": "markdown",
   "id": "2d90b617",
   "metadata": {},
   "source": [
    "#1 Alls well that ends well"
   ]
  },
  {
   "cell_type": "markdown",
   "id": "5f3f7bdf",
   "metadata": {},
   "source": [
    "Find and print the words that end in \"well\" and be ready to tell me how many there are.\n",
    "How about \"mt\"?\n",
    "How about \"gry\"?"
   ]
  },
  {
   "cell_type": "markdown",
   "id": "b39273e7",
   "metadata": {},
   "source": [
    "#1 P.1 - \"well\""
   ]
  },
  {
   "cell_type": "code",
   "execution_count": 15,
   "id": "29037e19",
   "metadata": {
    "scrolled": true
   },
   "outputs": [
    {
     "name": "stdout",
     "output_type": "stream",
     "text": [
      "['bejewelled', 'bejewelling', 'bowelled', 'bowelless', 'bowelling', 'bridewell', 'bridewells', 'crewelled', 'crewelleries', 'crewellery', 'crewelling', 'disbowelled', 'disbowelling', 'disembowelled', 'disembowelling', 'dowelled', 'dowelling', 'dowellings', 'drywell', 'drywells', 'dwell', 'dwelled', 'dweller', 'dwellers', 'dwelling', 'dwellings', 'dwells', 'embowelled', 'embowelling', 'farewell', 'farewelled', 'farewelling', 'farewells', 'footwell', 'footwells', 'gromwell', 'gromwells', 'groundswell', 'groundswells', 'indwell', 'indweller', 'indwellers', 'indwelling', 'indwellings', 'indwells', 'inkwell', 'inkwells', 'jewelled', 'jeweller', 'jewelleries', 'jewellers', 'jewellery', 'jewellike', 'jewelling', 'maxwell', 'maxwells', 'newell', 'newelled', 'newells', 'outdwell', 'outdwelled', 'outdwelling', 'outdwells', 'outswell', 'outswelled', 'outswelling', 'outswells', 'outwell', 'outwelled', 'outwelling', 'outwells', 'overswell', 'overswelled', 'overswelling', 'overswells', 'pinswell', 'pinswells', 'powellise', 'powellised', 'powellises', 'powellising', 'powellite', 'powellites', 'powellize', 'powellized', 'powellizes', 'powellizing', 'rowelled', 'rowelling', 'sewellel', 'sewellels', 'speedwell', 'speedwells', 'stairwell', 'stairwells', 'swell', 'swelldom', 'swelldoms', 'swelled', 'sweller', 'swellers', 'swellest', 'swellfish', 'swellfishes', 'swellhead', 'swellheaded', 'swellheadedness', 'swellheads', 'swelling', 'swellingly', 'swellings', 'swellish', 'swells', 'towelled', 'towelling', 'towellings', 'trowelled', 'troweller', 'trowellers', 'trowelling', 'unwell', 'unwellness', 'unwellnesses', 'upswell', 'upswelled', 'upswelling', 'upswells', 'upwell', 'upwelled', 'upwelling', 'upwellings', 'upwells', 'vowelled', 'vowelless', 'vowelling', 'vowelly', 'well', 'welladay', 'welladays', 'wellanear', 'wellaway', 'wellaways', 'wellbeing', 'wellbeings', 'wellborn', 'wellcurb', 'wellcurbs', 'welldoer', 'welldoers', 'welled', 'wellhead', 'wellheads', 'wellhole', 'wellholes', 'wellhouse', 'wellhouses', 'wellie', 'wellies', 'welling', 'wellings', 'wellington', 'wellingtonia', 'wellingtonias', 'wellingtons', 'wellness', 'wellnesses', 'wells', 'wellsite', 'wellsites', 'wellspring', 'wellsprings', 'welly', 'whewellite', 'whewellites']\n"
     ]
    }
   ],
   "source": [
    "words_with_well = []\n",
    "for word in wordlist:\n",
    "    if \"well\" in word:\n",
    "        words_with_well.append(word)\n",
    "        \n",
    "print(words_with_well)"
   ]
  },
  {
   "cell_type": "code",
   "execution_count": 16,
   "id": "f968b00e",
   "metadata": {
    "scrolled": false
   },
   "outputs": [
    {
     "data": {
      "text/plain": [
       "174"
      ]
     },
     "execution_count": 16,
     "metadata": {},
     "output_type": "execute_result"
    }
   ],
   "source": [
    "len(words_with_well)"
   ]
  },
  {
   "cell_type": "code",
   "execution_count": 17,
   "id": "09bdbdef",
   "metadata": {},
   "outputs": [
    {
     "name": "stdout",
     "output_type": "stream",
     "text": [
      "['bridewell', 'drywell', 'dwell', 'farewell', 'footwell', 'gromwell', 'groundswell', 'indwell', 'inkwell', 'maxwell', 'newell', 'outdwell', 'outswell', 'outwell', 'overswell', 'pinswell', 'speedwell', 'stairwell', 'swell', 'unwell', 'upswell', 'upwell', 'well']\n"
     ]
    }
   ],
   "source": [
    "words_end_well = []\n",
    "for word in wordlist:\n",
    "    if word [-4:] == \"well\":\n",
    "        words_end_well.append(word)\n",
    "        \n",
    "print(words_end_well)"
   ]
  },
  {
   "cell_type": "code",
   "execution_count": 18,
   "id": "bccb86e2",
   "metadata": {},
   "outputs": [
    {
     "data": {
      "text/plain": [
       "23"
      ]
     },
     "execution_count": 18,
     "metadata": {},
     "output_type": "execute_result"
    }
   ],
   "source": [
    "len(words_end_well)"
   ]
  },
  {
   "cell_type": "markdown",
   "id": "c74d44bc",
   "metadata": {},
   "source": [
    "#1 P.2 - \"mt\""
   ]
  },
  {
   "cell_type": "code",
   "execution_count": 19,
   "id": "97380e3f",
   "metadata": {},
   "outputs": [
    {
     "name": "stdout",
     "output_type": "stream",
     "text": [
      "['amtman', 'amtmans', 'amtrac', 'amtrack', 'amtracks', 'amtracs', 'boomtown', 'boomtowns', 'comte', 'comtes', 'daydreamt', 'dreamt', 'dreamtime', 'dreamtimes', 'femtosecond', 'femtoseconds', 'gumtree', 'gumtrees', 'lukewarmth', 'lukewarmths', 'outdreamt', 'palmtop', 'palmtops', 'ramtil', 'ramtilla', 'ramtillas', 'ramtils', 'redreamt', 'scamto', 'scamtos', 'steamtight', 'steamtightness', 'termtime', 'termtimes', 'tomtit', 'tomtits', 'trimtab', 'trimtabs', 'umteenth', 'undreamt', 'vicomte', 'vicomtes', 'vicomtesse', 'vicomtesses', 'warmth', 'warmths']\n"
     ]
    }
   ],
   "source": [
    "words_with_mt = []\n",
    "for word in wordlist:\n",
    "    if \"mt\" in word:\n",
    "        words_with_mt.append(word)\n",
    "        \n",
    "print(words_with_mt)"
   ]
  },
  {
   "cell_type": "code",
   "execution_count": 20,
   "id": "e7daa26b",
   "metadata": {},
   "outputs": [
    {
     "data": {
      "text/plain": [
       "46"
      ]
     },
     "execution_count": 20,
     "metadata": {},
     "output_type": "execute_result"
    }
   ],
   "source": [
    "len(words_with_mt)"
   ]
  },
  {
   "cell_type": "code",
   "execution_count": 21,
   "id": "50699f1b",
   "metadata": {},
   "outputs": [
    {
     "name": "stdout",
     "output_type": "stream",
     "text": [
      "['daydreamt', 'dreamt', 'outdreamt', 'redreamt', 'undreamt']\n"
     ]
    }
   ],
   "source": [
    "words_end_mt = []\n",
    "for word in wordlist:\n",
    "    if word [-2:] == \"mt\":\n",
    "        words_end_mt.append(word)\n",
    "        \n",
    "print(words_end_mt)"
   ]
  },
  {
   "cell_type": "code",
   "execution_count": 22,
   "id": "ae84d2db",
   "metadata": {},
   "outputs": [
    {
     "data": {
      "text/plain": [
       "5"
      ]
     },
     "execution_count": 22,
     "metadata": {},
     "output_type": "execute_result"
    }
   ],
   "source": [
    "len(words_end_mt)"
   ]
  },
  {
   "cell_type": "markdown",
   "id": "43ac0f15",
   "metadata": {},
   "source": [
    "#1 P.3 - \"gry\""
   ]
  },
  {
   "cell_type": "code",
   "execution_count": 23,
   "id": "c8b33c2a",
   "metadata": {},
   "outputs": [
    {
     "name": "stdout",
     "output_type": "stream",
     "text": [
      "['aggry', 'agrypnia', 'agrypnias', 'agrypnotic', 'agrypnotics', 'agryze', 'agryzed', 'agryzes', 'agryzing', 'ahungry', 'angry', 'gryce', 'gryces', 'gryde', 'gryded', 'grydes', 'gryding', 'gryesy', 'gryfon', 'gryfons', 'gryke', 'grykes', 'grype', 'grypes', 'gryphon', 'gryphons', 'grypt', 'grysbok', 'grysboks', 'grysely', 'grysie', 'hippogryph', 'hippogryphs', 'hungry', 'puggry']\n"
     ]
    }
   ],
   "source": [
    "words_with_gry = []\n",
    "for word in wordlist:\n",
    "    if \"gry\" in word:\n",
    "        words_with_gry.append(word)\n",
    "        \n",
    "print(words_with_gry)"
   ]
  },
  {
   "cell_type": "code",
   "execution_count": 24,
   "id": "0ee30d38",
   "metadata": {
    "scrolled": true
   },
   "outputs": [
    {
     "data": {
      "text/plain": [
       "35"
      ]
     },
     "execution_count": 24,
     "metadata": {},
     "output_type": "execute_result"
    }
   ],
   "source": [
    "len(words_with_gry)"
   ]
  },
  {
   "cell_type": "code",
   "execution_count": 25,
   "id": "dbbcca8b",
   "metadata": {},
   "outputs": [
    {
     "name": "stdout",
     "output_type": "stream",
     "text": [
      "['aggry', 'ahungry', 'angry', 'hungry', 'puggry']\n"
     ]
    }
   ],
   "source": [
    "words_end_gry = []\n",
    "for word in wordlist:\n",
    "    if word [-3:] == \"gry\":\n",
    "        words_end_gry.append(word)\n",
    "        \n",
    "print(words_end_gry)"
   ]
  },
  {
   "cell_type": "code",
   "execution_count": 26,
   "id": "530a3922",
   "metadata": {},
   "outputs": [
    {
     "data": {
      "text/plain": [
       "5"
      ]
     },
     "execution_count": 26,
     "metadata": {},
     "output_type": "execute_result"
    }
   ],
   "source": [
    "len(words_end_gry)"
   ]
  },
  {
   "cell_type": "markdown",
   "id": "85f6a84a",
   "metadata": {},
   "source": [
    "-------------------"
   ]
  },
  {
   "cell_type": "markdown",
   "id": "d5230f45",
   "metadata": {},
   "source": [
    "#2 Counting vowels"
   ]
  },
  {
   "cell_type": "markdown",
   "id": "1822ad87",
   "metadata": {},
   "source": [
    "How many words start with each vowel? Which is the common vowel to find at the beginning of a word?\n",
    "Which is the most common vowel to find at the end of a word?\n",
    "Find and print the words that have all 5 vowels in alphabetical order."
   ]
  },
  {
   "cell_type": "markdown",
   "id": "c2db55d0",
   "metadata": {},
   "source": [
    "#2 P.1 - How many words start with each vowel? "
   ]
  },
  {
   "cell_type": "code",
   "execution_count": 27,
   "id": "311b1d1b",
   "metadata": {},
   "outputs": [
    {
     "data": {
      "text/plain": [
       "53817"
      ]
     },
     "execution_count": 27,
     "metadata": {},
     "output_type": "execute_result"
    }
   ],
   "source": [
    "vowel_words = []\n",
    "for word in wordlist:\n",
    "    if word[0] in \"aeiou\":\n",
    "        vowel_words.append(word)\n",
    "        \n",
    "len(vowel_words)"
   ]
  },
  {
   "cell_type": "code",
   "execution_count": 28,
   "id": "4b9d4ca7",
   "metadata": {},
   "outputs": [
    {
     "name": "stdout",
     "output_type": "stream",
     "text": [
      "a\n",
      "15723\n",
      "e\n",
      "11030\n",
      "i\n",
      "9390\n",
      "o\n",
      "8604\n",
      "u\n",
      "9070\n"
     ]
    }
   ],
   "source": [
    "vowels = [\"a\", \"e\", \"i\", \"o\", \"u\"]\n",
    "\n",
    "for vowel in vowels: \n",
    "    vowel_start_words = []\n",
    "    for word in wordlist:\n",
    "        if word[0:1] == vowel:\n",
    "            vowel_start_words.append(word)\n",
    "\n",
    "    print(vowel)\n",
    "    print(len(vowel_start_words))"
   ]
  },
  {
   "cell_type": "code",
   "execution_count": 29,
   "id": "79307692",
   "metadata": {},
   "outputs": [
    {
     "data": {
      "text/plain": [
       "53817"
      ]
     },
     "execution_count": 29,
     "metadata": {},
     "output_type": "execute_result"
    }
   ],
   "source": [
    "15723 + 11030 + 9390 + 8604 + 9070"
   ]
  },
  {
   "cell_type": "code",
   "execution_count": 30,
   "id": "6d3c97d3",
   "metadata": {},
   "outputs": [
    {
     "data": {
      "text/plain": [
       "15723"
      ]
     },
     "execution_count": 30,
     "metadata": {},
     "output_type": "execute_result"
    }
   ],
   "source": [
    "vowel_a_words = []\n",
    "for word in wordlist:\n",
    "    if word[0:1] == \"a\":\n",
    "        vowel_a_words.append(word)\n",
    "        \n",
    "len(vowel_a_words)"
   ]
  },
  {
   "cell_type": "code",
   "execution_count": 31,
   "id": "abb366af",
   "metadata": {},
   "outputs": [
    {
     "data": {
      "text/plain": [
       "11030"
      ]
     },
     "execution_count": 31,
     "metadata": {},
     "output_type": "execute_result"
    }
   ],
   "source": [
    "vowel_e_words = []\n",
    "for word in wordlist:\n",
    "    if word[0:1] == \"e\":\n",
    "        vowel_e_words.append(word)\n",
    "        \n",
    "len(vowel_e_words)"
   ]
  },
  {
   "cell_type": "code",
   "execution_count": 32,
   "id": "9e1d6551",
   "metadata": {},
   "outputs": [
    {
     "data": {
      "text/plain": [
       "9390"
      ]
     },
     "execution_count": 32,
     "metadata": {},
     "output_type": "execute_result"
    }
   ],
   "source": [
    "vowel_i_words = []\n",
    "for word in wordlist:\n",
    "    if word[0:1] == \"i\":\n",
    "        vowel_i_words.append(word)\n",
    "        \n",
    "len(vowel_i_words)"
   ]
  },
  {
   "cell_type": "code",
   "execution_count": 33,
   "id": "177ddd5b",
   "metadata": {},
   "outputs": [
    {
     "data": {
      "text/plain": [
       "8604"
      ]
     },
     "execution_count": 33,
     "metadata": {},
     "output_type": "execute_result"
    }
   ],
   "source": [
    "vowel_o_words = []\n",
    "for word in wordlist:\n",
    "    if word[0:1] == \"o\":\n",
    "        vowel_o_words.append(word)\n",
    "        \n",
    "len(vowel_o_words)"
   ]
  },
  {
   "cell_type": "code",
   "execution_count": 34,
   "id": "6cfea90c",
   "metadata": {
    "scrolled": true
   },
   "outputs": [
    {
     "data": {
      "text/plain": [
       "9070"
      ]
     },
     "execution_count": 34,
     "metadata": {},
     "output_type": "execute_result"
    }
   ],
   "source": [
    "vowel_u_words = []\n",
    "for word in wordlist:\n",
    "    if word[0:1] == \"u\":\n",
    "        vowel_u_words.append(word)\n",
    "        \n",
    "len(vowel_u_words)"
   ]
  },
  {
   "cell_type": "markdown",
   "id": "e21c0caa",
   "metadata": {},
   "source": [
    "#2 P.1 - Which is the common vowel to find at the beginning of a word?"
   ]
  },
  {
   "cell_type": "markdown",
   "id": "fff36f71",
   "metadata": {},
   "source": [
    "a!"
   ]
  },
  {
   "cell_type": "markdown",
   "id": "515715d0",
   "metadata": {},
   "source": [
    "#2 P.2 - Which is the most common vowel to find at the end of a word? "
   ]
  },
  {
   "cell_type": "markdown",
   "id": "764dc9b0",
   "metadata": {},
   "source": [
    "e!"
   ]
  },
  {
   "cell_type": "code",
   "execution_count": 35,
   "id": "cc160cf2",
   "metadata": {},
   "outputs": [
    {
     "data": {
      "text/plain": [
       "36273"
      ]
     },
     "execution_count": 35,
     "metadata": {},
     "output_type": "execute_result"
    }
   ],
   "source": [
    "words_end_vowel = []\n",
    "for word in wordlist:\n",
    "    if word[-1] in \"aeiou\":\n",
    "        words_end_vowel.append(word)\n",
    "        \n",
    "len(words_end_vowel)"
   ]
  },
  {
   "cell_type": "code",
   "execution_count": 36,
   "id": "e2a467e9",
   "metadata": {
    "scrolled": true
   },
   "outputs": [
    {
     "name": "stdout",
     "output_type": "stream",
     "text": [
      "a\n",
      "5312\n",
      "e\n",
      "27350\n",
      "i\n",
      "1474\n",
      "o\n",
      "1783\n",
      "u\n",
      "354\n"
     ]
    }
   ],
   "source": [
    "vowels = [\"a\", \"e\", \"i\", \"o\", \"u\"]\n",
    "\n",
    "for vowel in vowels: \n",
    "    vowel_end_words = []\n",
    "    for word in wordlist:\n",
    "        if word[-1:] == vowel:\n",
    "            vowel_end_words.append(word)\n",
    "\n",
    "    print(vowel)\n",
    "    print(len(vowel_end_words))"
   ]
  },
  {
   "cell_type": "code",
   "execution_count": 37,
   "id": "bfe8ba96",
   "metadata": {},
   "outputs": [
    {
     "data": {
      "text/plain": [
       "36273"
      ]
     },
     "execution_count": 37,
     "metadata": {},
     "output_type": "execute_result"
    }
   ],
   "source": [
    "5312 + 27350 + 1474 + 1783 + 354"
   ]
  },
  {
   "cell_type": "code",
   "execution_count": 38,
   "id": "a1697b35",
   "metadata": {},
   "outputs": [
    {
     "data": {
      "text/plain": [
       "5312"
      ]
     },
     "execution_count": 38,
     "metadata": {},
     "output_type": "execute_result"
    }
   ],
   "source": [
    "vowel_a_end = []\n",
    "for word in wordlist:\n",
    "    if word[-1:] == \"a\":\n",
    "        vowel_a_end.append(word)\n",
    "        \n",
    "len(vowel_a_end)"
   ]
  },
  {
   "cell_type": "code",
   "execution_count": 39,
   "id": "bb2f4f95",
   "metadata": {},
   "outputs": [
    {
     "data": {
      "text/plain": [
       "27350"
      ]
     },
     "execution_count": 39,
     "metadata": {},
     "output_type": "execute_result"
    }
   ],
   "source": [
    "vowel_e_end = []\n",
    "for word in wordlist:\n",
    "    if word[-1:] == \"e\":\n",
    "        vowel_e_end.append(word)\n",
    "        \n",
    "len(vowel_e_end)"
   ]
  },
  {
   "cell_type": "code",
   "execution_count": 40,
   "id": "9727c35f",
   "metadata": {},
   "outputs": [
    {
     "data": {
      "text/plain": [
       "1474"
      ]
     },
     "execution_count": 40,
     "metadata": {},
     "output_type": "execute_result"
    }
   ],
   "source": [
    "vowel_i_end = []\n",
    "for word in wordlist:\n",
    "    if word[-1:] == \"i\":\n",
    "        vowel_i_end.append(word)\n",
    "        \n",
    "len(vowel_i_end)"
   ]
  },
  {
   "cell_type": "code",
   "execution_count": 41,
   "id": "fd9844fb",
   "metadata": {},
   "outputs": [
    {
     "data": {
      "text/plain": [
       "1783"
      ]
     },
     "execution_count": 41,
     "metadata": {},
     "output_type": "execute_result"
    }
   ],
   "source": [
    "vowel_o_end = []\n",
    "for word in wordlist:\n",
    "    if word[-1:] == \"o\":\n",
    "        vowel_o_end.append(word)\n",
    "        \n",
    "len(vowel_o_end)"
   ]
  },
  {
   "cell_type": "code",
   "execution_count": 42,
   "id": "37d92af7",
   "metadata": {},
   "outputs": [
    {
     "data": {
      "text/plain": [
       "354"
      ]
     },
     "execution_count": 42,
     "metadata": {},
     "output_type": "execute_result"
    }
   ],
   "source": [
    "vowel_u_end = []\n",
    "for word in wordlist:\n",
    "    if word[-1:] == \"u\":\n",
    "        vowel_u_end.append(word)\n",
    "        \n",
    "len(vowel_u_end)"
   ]
  },
  {
   "cell_type": "markdown",
   "id": "b4a9e7c2",
   "metadata": {},
   "source": [
    "#2 P.3 - Find and print the words that have all 5 vowels in alphabetical order."
   ]
  },
  {
   "cell_type": "code",
   "execution_count": 28,
   "id": "05eb3957",
   "metadata": {},
   "outputs": [
    {
     "name": "stdout",
     "output_type": "stream",
     "text": [
      "['abecdfghijklmnopqrstu', 'aeiolu', 'eaiou', 'uioae']\n"
     ]
    }
   ],
   "source": [
    "all_vowel_words = []\n",
    "temp_wordlist = ['abecdfghijklmnopqrstu', 'grr', 'nope', 'aeiolu', 'eaiou', 'uioae', 'pshhh', 'elllll', 'ellll', 'bleh', 'blgh', 'llllllllll']\n",
    "    \n",
    "for word in temp_wordlist:\n",
    "    if \"a\" in word:\n",
    "        if \"e\" in word:\n",
    "            if \"i\" in word:\n",
    "                if \"o\" in word:\n",
    "                    if \"u\" in word:\n",
    "                        all_vowel_words.append(word)\n",
    "   \n",
    "print(all_vowel_words)"
   ]
  },
  {
   "cell_type": "code",
   "execution_count": 38,
   "id": "9d090ff1",
   "metadata": {},
   "outputs": [
    {
     "name": "stdout",
     "output_type": "stream",
     "text": [
      "['abecdfghijklmnopqrstu', 'aeiolu', 'eaiou', 'uioae']\n"
     ]
    }
   ],
   "source": [
    "temp_wordlist = ['abecdfghijklmnopqrstu', 'grr', 'nope', 'aeiolu', 'eaiou', 'uioae', 'aaeeiioouu','pshhh', 'elllll', 'ellll', 'bleh', 'blgh', 'llllllllll']\n",
    "\n",
    "all_vowel_words = []\n",
    "\n",
    "for word in temp_wordlist:\n",
    "    counter = 0\n",
    "    for letter in word:\n",
    "        if letter == \"a\":\n",
    "            counter = counter + 1\n",
    "    if counter == 1:\n",
    "        all_vowel_words.append(word)\n",
    "        \n",
    "        \n",
    "print(all_vowel_words)"
   ]
  },
  {
   "cell_type": "code",
   "execution_count": 2,
   "id": "cedd007c",
   "metadata": {},
   "outputs": [
    {
     "name": "stdout",
     "output_type": "stream",
     "text": [
      "abecdfghijklmnopqrstu\n",
      "aeiolu\n",
      "eaiou\n",
      "uioae\n"
     ]
    }
   ],
   "source": [
    "all_vowel_words = []\n",
    "\n",
    "temp_wordlist = ['abecdfghijklmnopqrstu', 'grr', 'nope', 'aeiolu', 'eaiou', 'uioae', 'pshhh', 'bleh', 'blgh']\n",
    "    \n",
    "for word in temp_wordlist:\n",
    "    if \"a\" in word:\n",
    "        word.find(\"a\")\n",
    "        \n",
    "        print(word)"
   ]
  },
  {
   "cell_type": "code",
   "execution_count": 21,
   "id": "5a8114eb",
   "metadata": {
    "scrolled": true
   },
   "outputs": [
    {
     "name": "stdout",
     "output_type": "stream",
     "text": [
      "0\n",
      "abecdfghijklmnopqrstu\n",
      "0\n",
      "aa\n",
      "0\n",
      "aeiolu\n",
      "1\n",
      "eaiou\n",
      "3\n",
      "uioae\n",
      "0\n",
      "anemisolu\n"
     ]
    }
   ],
   "source": [
    "temp_wordlist = ['abecdfghijklmnopqrstu', 'aa','grr', 'nope', 'aeiolu', 'eaiou', 'uioae', 'pshhh', 'bleh', 'blgh', 'anemisolu']\n",
    "    \n",
    "for word in temp_wordlist:\n",
    "    if \"a\" in word:\n",
    "        word.find(\"a\")\n",
    "        print(word.find(\"a\"))\n",
    "       \n",
    "        print(word)"
   ]
  },
  {
   "cell_type": "code",
   "execution_count": 67,
   "id": "b47dbf34",
   "metadata": {},
   "outputs": [
    {
     "name": "stdout",
     "output_type": "stream",
     "text": [
      "0\n",
      "abecdfghijklmnopqrstu\n",
      "0\n",
      "aeiolu\n",
      "1\n",
      "eaiou\n",
      "3\n",
      "uioae\n",
      "0\n",
      "anemisolu\n"
     ]
    }
   ],
   "source": [
    "temp_wordlist = ['abecdfghijklmnopqrstu', 'grr', 'nope', 'aeiolu', 'eaiou', 'uioae', 'pshhh', 'bleh', 'blgh', 'anemisolu']\n",
    "    \n",
    "for word in temp_wordlist:\n",
    "    if \"a\" in word:\n",
    "        word.find(\"a\")\n",
    "        print(word.find(\"a\"))\n",
    "        if \"e\" in word:\n",
    "            word.find(\"e\")\n",
    "            if \"i\" in word:\n",
    "                word.find(\"i\")\n",
    "                if \"o\" in word:\n",
    "                    word.find(\"o\")\n",
    "                    if \"u\" in word:\n",
    "                        word.find(\"u\")\n",
    "\n",
    "                    print(word)"
   ]
  },
  {
   "cell_type": "code",
   "execution_count": 70,
   "id": "d522ffff",
   "metadata": {
    "scrolled": true
   },
   "outputs": [
    {
     "name": "stdout",
     "output_type": "stream",
     "text": [
      "0\n",
      "2\n",
      "8\n",
      "14\n",
      "20\n",
      "abecdfghijklmnopqrstu\n",
      "0\n",
      "1\n",
      "2\n",
      "3\n",
      "4\n",
      "aeiou\n",
      "0\n",
      "1\n",
      "2\n",
      "3\n",
      "5\n",
      "aeiolu\n",
      "1\n",
      "0\n",
      "2\n",
      "3\n",
      "4\n",
      "eaiou\n",
      "3\n",
      "4\n",
      "1\n",
      "2\n",
      "0\n",
      "uioae\n",
      "0\n",
      "2\n",
      "4\n",
      "6\n",
      "8\n",
      "anemisolu\n"
     ]
    }
   ],
   "source": [
    "temp_wordlist = ['abecdfghijklmnopqrstu', 'grr', 'nope', 'aeiou','aeiolu', 'eaiou', 'uioae', 'pshhh', 'bleh', 'blgh', 'anemisolu']\n",
    "    \n",
    "for word in temp_wordlist:\n",
    "    if \"a\" in word:\n",
    "        word.find(\"a\")\n",
    "        print(word.find(\"a\"))\n",
    "        if \"e\" in word:\n",
    "            word.find(\"e\")\n",
    "            print(word.find(\"e\"))\n",
    "            if \"i\" in word:\n",
    "                word.find(\"i\")\n",
    "                print(word.find(\"i\"))\n",
    "                if \"o\" in word:\n",
    "                    word.find(\"o\")\n",
    "                    print(word.find(\"o\"))\n",
    "                    if \"u\" in word:\n",
    "                        word.find(\"u\")\n",
    "                        print(word.find(\"u\"))\n",
    "                        \n",
    "                    print(word)"
   ]
  },
  {
   "cell_type": "code",
   "execution_count": 92,
   "id": "bca268b3",
   "metadata": {},
   "outputs": [
    {
     "name": "stdout",
     "output_type": "stream",
     "text": [
      "['abecdfghijklmnopqrstu', 'aeiolu', 'eaiou', 'uioae']\n"
     ]
    }
   ],
   "source": [
    "temp_wordlist = ['abecdfghijklmnopqrstu', 'grr', 'nope', 'aeiolu', 'eaiou', 'uioae', 'aaeeiioouu','pshhh', 'elllll', 'ellll', 'bleh', 'blgh', 'llllllllll']\n",
    "\n",
    "all_vowel_words = []\n",
    "\n",
    "for word in temp_wordlist:\n",
    "    counter = 0\n",
    "    for letter in word:\n",
    "        if letter == \"a\":\n",
    "            counter = counter + 1\n",
    "    if counter == 1:\n",
    "        all_vowel_words.append(word)\n",
    "        for letter in word:\n",
    "            if letter == \"e\":\n",
    "                counter = counter + 1\n",
    "        if counter == 1:\n",
    "            all_vowel_words.append(word)\n",
    "            for letter in word:\n",
    "                if letter == \"i\":\n",
    "                    counter = counter + 1\n",
    "            if counter == 1:\n",
    "                all_vowel_words.append(word)\n",
    "                for letter in word:\n",
    "                    if letter == \"o\":\n",
    "                        counter = counter + 1\n",
    "                if counter == 1:\n",
    "                    all_vowel_words.append(word)\n",
    "                    for letter in word:\n",
    "                        if letter == \"o\":\n",
    "                            counter = counter + 1\n",
    "                    if counter == 1:\n",
    "                        all_vowel_words.append(word)\n",
    "                        \n",
    "        \n",
    "print(all_vowel_words)"
   ]
  },
  {
   "cell_type": "code",
   "execution_count": 79,
   "id": "d7d9a2dc",
   "metadata": {},
   "outputs": [
    {
     "name": "stdout",
     "output_type": "stream",
     "text": [
      "['grr', 'nope', 'nope', 'pshhh', 'elllll', 'elllll', 'ellll', 'ellll', 'bleh', 'bleh', 'blgh', 'llllllllll']\n"
     ]
    }
   ],
   "source": [
    "temp_wordlist = ['abecdfghijklmnopqrstu', 'grr', 'nope', 'aeiolu', 'eaiou', 'uioae', 'aaeeiioouu','pshhh', 'elllll', 'ellll', 'bleh', 'blgh', 'llllllllll']\n",
    "\n",
    "all_vowel_words = []\n",
    "\n",
    "for word in temp_wordlist:\n",
    "    counter = 0\n",
    "    for letter in word:\n",
    "        if letter == \"a\":\n",
    "            counter = counter + 1\n",
    "    if counter == 0:\n",
    "        all_vowel_words.append(word)\n",
    "        for letter in word:\n",
    "            if letter == \"e\":\n",
    "                counter = counter + 1\n",
    "        if counter == 1:\n",
    "            all_vowel_words.append(word)\n",
    "            for letter in word:\n",
    "                if letter == \"i\":\n",
    "                    counter = counter + 1\n",
    "            if counter == 2:\n",
    "                all_vowel_words.append(word)\n",
    "                for letter in word:\n",
    "                    if letter == \"o\":\n",
    "                        counter = counter + 1\n",
    "                if counter == 3:\n",
    "                    all_vowel_words.append(word)\n",
    "                    for letter in word:\n",
    "                        if letter == \"u\":\n",
    "                            counter = counter + 1\n",
    "                    if counter == 4:\n",
    "                        all_vowel_words.append(word)\n",
    "                        \n",
    "        \n",
    "print(all_vowel_words)"
   ]
  },
  {
   "cell_type": "code",
   "execution_count": 91,
   "id": "a6249ff4",
   "metadata": {},
   "outputs": [
    {
     "name": "stdout",
     "output_type": "stream",
     "text": [
      "['abecdfghijklmnopqrstu', 'aeiolu', 'eaiou', 'uioae']\n"
     ]
    }
   ],
   "source": [
    "temp_wordlist = ['abecdfghijklmnopqrstu', 'grr', 'nope', 'aeiolu', 'eaiou', 'uioae', 'aaeeiioouu','pshhh', 'elllll', 'ellll', 'bleh', 'blgh', 'llllllllll']\n",
    "\n",
    "all_vowel_words = []\n",
    "\n",
    "for word in temp_wordlist:\n",
    "    counter = 0\n",
    "    for letter in word:\n",
    "        if letter == \"a\":\n",
    "            counter = counter + 1\n",
    "    if counter == 1:\n",
    "        all_vowel_words.append(word)\n",
    "        for letter in word:\n",
    "            if letter == \"e\":\n",
    "                counter = counter + 1\n",
    "        if counter == 1:\n",
    "            all_vowel_words.append(word)\n",
    "            for letter in word:\n",
    "                if letter == \"i\":\n",
    "                    counter = counter + 1\n",
    "            if counter == 1:\n",
    "                all_vowel_words.append(word)\n",
    "                for letter in word:\n",
    "                    if letter == \"o\":\n",
    "                        counter = counter + 1\n",
    "                if counter == 1:\n",
    "                    all_vowel_words.append(word)\n",
    "                    for letter in word:\n",
    "                        if letter == \"o\":\n",
    "                            counter = counter + 1\n",
    "                    if counter == 1:\n",
    "                        all_vowel_words.append(word)\n",
    "                        \n",
    "        \n",
    "print(all_vowel_words)"
   ]
  },
  {
   "cell_type": "code",
   "execution_count": 90,
   "id": "7bb4af34",
   "metadata": {},
   "outputs": [
    {
     "name": "stdout",
     "output_type": "stream",
     "text": [
      "['abecdfghijklmnopqrstu', 'abecdfghijklmnopqrstu', 'abecdfghijklmnopqrstu', 'abecdfghijklmnopqrstu', 'abecdfghijklmnopqrstu', 'all', 'alll']\n"
     ]
    },
    {
     "data": {
      "text/plain": [
       "7"
      ]
     },
     "execution_count": 90,
     "metadata": {},
     "output_type": "execute_result"
    }
   ],
   "source": [
    "temp_wordlist = ['abecdfghijklmnopqrstu', 'nope', 'all', 'alll', 'grr', 'nope', 'elllll', 'ellll', 'bleh', 'blgh', 'llllllllll']\n",
    "\n",
    "all_vowel_words = []\n",
    "\n",
    "for word in temp_wordlist:\n",
    "    counter = 0\n",
    "    for letter in word:\n",
    "        if letter == \"a\": \n",
    "            counter = counter + 1\n",
    "    if counter >= 1:\n",
    "        all_vowel_words.append(word)\n",
    "        for letter in word:\n",
    "            if letter == \"e\":\n",
    "                counter = counter + 1\n",
    "        if counter >= 2:\n",
    "            all_vowel_words.append(word)\n",
    "            for letter in word:\n",
    "                if letter == \"i\":\n",
    "                    counter = counter + 1\n",
    "            if counter >= 3:\n",
    "                all_vowel_words.append(word)\n",
    "                for letter in word:\n",
    "                    if letter == \"o\":\n",
    "                        counter = counter + 1\n",
    "                if counter >= 4:\n",
    "                    all_vowel_words.append(word)\n",
    "                    for letter in word:\n",
    "                        if letter == \"u\":\n",
    "                            counter = counter + 1\n",
    "                    if counter >= 5:\n",
    "                        all_vowel_words.append(word)\n",
    "        \n",
    "print(all_vowel_words)\n",
    "len(all_vowel_words)"
   ]
  },
  {
   "cell_type": "markdown",
   "id": "355f743b",
   "metadata": {},
   "source": [
    "I literally still have no idea how to get my code to remember the vowels in order :)"
   ]
  },
  {
   "cell_type": "markdown",
   "id": "9697fd2e",
   "metadata": {},
   "source": [
    "---------"
   ]
  },
  {
   "cell_type": "markdown",
   "id": "cd418cc4",
   "metadata": {},
   "source": [
    "#3 Disemvoweled"
   ]
  },
  {
   "cell_type": "markdown",
   "id": "18ee0a33",
   "metadata": {},
   "source": [
    "Find and print the longest word that has no vowels.\n"
   ]
  },
  {
   "cell_type": "code",
   "execution_count": 44,
   "id": "81008109",
   "metadata": {},
   "outputs": [
    {
     "data": {
      "text/plain": [
       "'abiogenetically'"
      ]
     },
     "execution_count": 44,
     "metadata": {},
     "output_type": "execute_result"
    }
   ],
   "source": [
    "max(wordlist, key = len)"
   ]
  },
  {
   "cell_type": "code",
   "execution_count": 45,
   "id": "0114d02e",
   "metadata": {
    "scrolled": true
   },
   "outputs": [
    {
     "data": {
      "text/plain": [
       "15"
      ]
     },
     "execution_count": 45,
     "metadata": {},
     "output_type": "execute_result"
    }
   ],
   "source": [
    "len(max(wordlist, key = len))"
   ]
  },
  {
   "cell_type": "code",
   "execution_count": 46,
   "id": "f8fd7a95",
   "metadata": {},
   "outputs": [
    {
     "name": "stdout",
     "output_type": "stream",
     "text": [
      "['grr', 'pshhh', 'blgh']\n"
     ]
    },
    {
     "data": {
      "text/plain": [
       "3"
      ]
     },
     "execution_count": 46,
     "metadata": {},
     "output_type": "execute_result"
    }
   ],
   "source": [
    "no_vowel_words = []\n",
    "temp_wordlist = ['abecdfghijklmnopqrstu', 'grr', 'nope', 'aeiolu', 'eaiou', 'uioae', 'pshhh', 'bleh', 'blgh']\n",
    "    \n",
    "for word in temp_wordlist:\n",
    "    if \"a\" not in word:\n",
    "        if \"e\" not in word:\n",
    "            if \"i\" not in word:\n",
    "                if \"o\" not in word:\n",
    "                    if \"u\" not in word:\n",
    "                        no_vowel_words.append(word)\n",
    "\n",
    "print(no_vowel_words)\n",
    "len(no_vowel_words)"
   ]
  },
  {
   "cell_type": "code",
   "execution_count": 47,
   "id": "716be547",
   "metadata": {
    "scrolled": true
   },
   "outputs": [
    {
     "name": "stdout",
     "output_type": "stream",
     "text": [
      "['brr', 'brrr', 'by', 'byrl', 'byrls', 'bys', 'ch', 'chynd', 'cly', 'crwth', 'crwths', 'cry', 'crypt', 'crypts', 'cwm', 'cwms', 'cwtch', 'cyst', 'cysts', 'dry', 'dryly', 'drys', 'fly', 'flyby', 'flybys', 'flysch', 'fry', 'fy', 'fyrd', 'fyrds', 'ghyll', 'ghylls', 'glycyl', 'glycyls', 'glyph', 'glyphs', 'grypt', 'gym', 'gymp', 'gymps', 'gyms', 'gynny', 'gyny', 'gyp', 'gyppy', 'gyps', 'gypsy', 'hm', 'hmm', 'hwyl', 'hwyls', 'hymn', 'hymns', 'hyp', 'hyps', 'jynx', 'ky', 'kydst', 'kynd', 'kynds', 'lych', 'lym', 'lymph', 'lymphs', 'lyms', 'lynch', 'lynx', 'mm', 'my', 'myc', 'mycs', 'myrrh', 'myrrhs', 'myth', 'myths', 'mythy', 'nth', 'ny', 'nymph', 'nymphly', 'nymphs', 'nys', 'pfft', 'phpht', 'pht', 'ply', 'pry', 'prys', 'psst', 'pst', 'psych', 'psychs', 'pygmy', 'pyx', 'rhy', 'rhythm', 'rhythms', 'rynd', 'rynds', 'scry', 'sh', 'shh', 'shy', 'shyly', 'skry', 'sky', 'skyf', 'skyfs', 'skyr', 'skyrs', 'sly', 'slyly', 'sny', 'sphynx', 'spry', 'spryly', 'spy', 'st', 'sty', 'stymy', 'swy', 'sylph', 'sylphs', 'sylphy', 'syn', 'sync', 'synch', 'synchs', 'syncs', 'synd', 'synds', 'synth', 'synths', 'syph', 'syphs', 'syzygy', 'thy', 'thymy', 'try', 'tryp', 'tryps', 'tryst', 'trysts', 'tsk', 'tsks', 'tsktsk', 'tsktsks', 'twp', 'tyg', 'tygs', 'tymp', 'tymps', 'tynd', 'typp', 'typps', 'typy', 'vly', 'why', 'whys', 'wry', 'wryly', 'wych', 'wyn', 'wynd', 'wynds', 'wynn', 'wynns', 'wyns', 'xylyl', 'xylyls', 'xyst', 'xysts', 'ympt', 'zzz', 'zzzs']\n"
     ]
    }
   ],
   "source": [
    "no_vowel_words = []\n",
    "    \n",
    "for word in wordlist:\n",
    "    if \"a\" not in word:\n",
    "        if \"e\" not in word:\n",
    "            if \"i\" not in word:\n",
    "                if \"o\" not in word:\n",
    "                    if \"u\" not in word:\n",
    "                        no_vowel_words.append(word)\n",
    "\n",
    "print(no_vowel_words)"
   ]
  },
  {
   "cell_type": "code",
   "execution_count": 48,
   "id": "284845f6",
   "metadata": {},
   "outputs": [
    {
     "data": {
      "text/plain": [
       "175"
      ]
     },
     "execution_count": 48,
     "metadata": {},
     "output_type": "execute_result"
    }
   ],
   "source": [
    "len(no_vowel_words)"
   ]
  },
  {
   "cell_type": "code",
   "execution_count": 49,
   "id": "97726909",
   "metadata": {
    "scrolled": true
   },
   "outputs": [
    {
     "data": {
      "text/plain": [
       "'glycyls'"
      ]
     },
     "execution_count": 49,
     "metadata": {},
     "output_type": "execute_result"
    }
   ],
   "source": [
    "max(no_vowel_words, key = len)"
   ]
  },
  {
   "cell_type": "code",
   "execution_count": 50,
   "id": "bd347756",
   "metadata": {},
   "outputs": [
    {
     "data": {
      "text/plain": [
       "7"
      ]
     },
     "execution_count": 50,
     "metadata": {},
     "output_type": "execute_result"
    }
   ],
   "source": [
    "len(max(no_vowel_words, key = len))"
   ]
  },
  {
   "cell_type": "markdown",
   "id": "75fcd8d8",
   "metadata": {},
   "source": [
    "----------"
   ]
  },
  {
   "cell_type": "markdown",
   "id": "4847578e",
   "metadata": {},
   "source": [
    "#4 A cure for many ells"
   ]
  },
  {
   "cell_type": "markdown",
   "id": "8bffecea",
   "metadata": {},
   "source": [
    "Find and print the words that contain 4 or more 'l's.\n",
    "How many are there?\n"
   ]
  },
  {
   "cell_type": "code",
   "execution_count": 54,
   "id": "41e8fc18",
   "metadata": {},
   "outputs": [
    {
     "name": "stdout",
     "output_type": "stream",
     "text": [
      "['elllll', 'ellll', 'llllllllll']\n"
     ]
    },
    {
     "data": {
      "text/plain": [
       "3"
      ]
     },
     "execution_count": 54,
     "metadata": {},
     "output_type": "execute_result"
    }
   ],
   "source": [
    "temp_wordlist = ['abecdfghijklmnopqrstu', 'nope', 'all', 'alll' 'grr', 'nope', 'elllll', 'ellll', 'bleh', 'blgh', 'llllllllll']\n",
    "\n",
    "ells = []\n",
    "\n",
    "for word in temp_wordlist:\n",
    "    counter = 0\n",
    "    for letter in word:\n",
    "        if letter == \"l\":\n",
    "            counter = counter + 1\n",
    "    if counter >= 4:\n",
    "        ells.append(word)\n",
    "        \n",
    "print(ells)\n",
    "len(ells)"
   ]
  },
  {
   "cell_type": "code",
   "execution_count": 55,
   "id": "3c875ccc",
   "metadata": {},
   "outputs": [
    {
     "name": "stdout",
     "output_type": "stream",
     "text": [
      "['alcoholically', 'algologically', 'allegorically', 'allhallond', 'allhallowen', 'allhallown', 'allhollown', 'allopathically', 'allopatrically', 'allopolyploid', 'allopolyploids', 'allopolyploidy', 'allosterically', 'allotropically', 'allotypically', 'allychollies', 'allycholly', 'balletically', 'ballistically', 'bellpull', 'bellpulls', 'catallactically', 'cellulolytic', 'collaterally', 'collegially', 'collisionally', 'colloidally', 'colloquially', 'corollifloral', 'dillydallied', 'dillydallies', 'dillydally', 'dillydallying', 'dullsville', 'dullsvilles', 'elliptically', 'extracellularly', 'fallalishly', 'hallalled', 'hallalling', 'hillbillies', 'hillbilly', 'holoblastically', 'hullaballoo', 'hullaballoos', 'idyllically', 'illegally', 'illiberally', 'illogically', 'intellectually', 'intracellularly', 'jellyroll', 'jellyrolls', 'lallapalooza', 'lallapaloozas', 'lamellarly', 'lamellately', 'lamellirostral', 'legalistically', 'lexicologically', 'libellously', 'lignocellulose', 'lignocelluloses', 'lignocellulosic', 'ligulifloral', 'limnologically', 'lithologically', 'loblollies', 'loblolly', 'lollapalooza', 'lollapaloozas', 'lollingly', 'melancholically', 'mellifluently', 'mellifluously', 'metallically', 'metallurgically', 'methylcellulose', 'millefeuille', 'millefeuilles', 'millennially', 'millesimally', 'multicellular', 'multilaterally', 'multilingually', 'multimillennial', 'palynologically', 'parallactically', 'parallelled', 'parallelling', 'parallelly', 'pellmell', 'pellmells', 'phallically', 'philatelically', 'philologically', 'plasmolytically', 'pluralistically', 'polysyllabical', 'polysyllable', 'polysyllables', 'pralltriller', 'pralltrillers', 'premillennially', 'rollcollar', 'rollcollars', 'rollerball', 'rollerballs', 'shillyshallied', 'shillyshallier', 'shillyshalliers', 'shillyshallies', 'shillyshally', 'shillyshallying', 'silviculturally', 'skillfully', 'stellularly', 'syllabically', 'sylleptically', 'syllogistically', 'teleologically', 'trisyllabically', 'unfulfillable', 'unskillfully', 'valpolicella', 'valpolicellas', 'vexillological', 'villanella', 'villanellas', 'villanelle', 'villanelles', 'volleyball', 'volleyballs', 'wallyball', 'wallyballs', 'willfully']\n"
     ]
    },
    {
     "data": {
      "text/plain": [
       "136"
      ]
     },
     "execution_count": 55,
     "metadata": {},
     "output_type": "execute_result"
    }
   ],
   "source": [
    "ells = []\n",
    "\n",
    "for word in wordlist:\n",
    "    counter = 0\n",
    "    for letter in word:\n",
    "        if letter == \"l\":\n",
    "            counter = counter + 1\n",
    "    if counter >= 4:\n",
    "        ells.append(word)\n",
    "        \n",
    "print(ells)\n",
    "len(ells)"
   ]
  },
  {
   "cell_type": "markdown",
   "id": "b1daf694",
   "metadata": {},
   "source": [
    "----------"
   ]
  },
  {
   "cell_type": "markdown",
   "id": "044314d7",
   "metadata": {},
   "source": [
    "#5 So long"
   ]
  },
  {
   "cell_type": "markdown",
   "id": "5a74eed2",
   "metadata": {},
   "source": [
    "What is the longest word in the word list you've been given? How long is it?\n",
    "Are there more than one word of that length? If so, tell me how many are that exactly that long."
   ]
  },
  {
   "cell_type": "markdown",
   "id": "e6c8d8cd",
   "metadata": {},
   "source": [
    "#5 P.1 - What is the longest word in the word list you've been given? How long is it?"
   ]
  },
  {
   "cell_type": "code",
   "execution_count": 56,
   "id": "f2718a7b",
   "metadata": {},
   "outputs": [
    {
     "data": {
      "text/plain": [
       "'abiogenetically'"
      ]
     },
     "execution_count": 56,
     "metadata": {},
     "output_type": "execute_result"
    }
   ],
   "source": [
    "max(wordlist, key = len)"
   ]
  },
  {
   "cell_type": "code",
   "execution_count": 57,
   "id": "db6646ff",
   "metadata": {
    "scrolled": true
   },
   "outputs": [
    {
     "data": {
      "text/plain": [
       "15"
      ]
     },
     "execution_count": 57,
     "metadata": {},
     "output_type": "execute_result"
    }
   ],
   "source": [
    "len(max(wordlist, key = len))"
   ]
  },
  {
   "cell_type": "markdown",
   "id": "ebb78d29",
   "metadata": {},
   "source": [
    "#5 P.2 - Are there more than one word of that length? If so, tell me how many are that exactly that long."
   ]
  },
  {
   "cell_type": "markdown",
   "id": "33500996",
   "metadata": {},
   "source": [
    "Yes!"
   ]
  },
  {
   "cell_type": "code",
   "execution_count": 58,
   "id": "02840cf7",
   "metadata": {},
   "outputs": [
    {
     "data": {
      "text/plain": [
       "5757"
      ]
     },
     "execution_count": 58,
     "metadata": {},
     "output_type": "execute_result"
    }
   ],
   "source": [
    "longest_words = []\n",
    "\n",
    "for word in wordlist:\n",
    "    if len(word) > 14:\n",
    "        longest_words.append(word)\n",
    "\n",
    "len(longest_words)"
   ]
  },
  {
   "cell_type": "code",
   "execution_count": 59,
   "id": "2fcecb98",
   "metadata": {},
   "outputs": [
    {
     "data": {
      "text/plain": [
       "5757"
      ]
     },
     "execution_count": 59,
     "metadata": {},
     "output_type": "execute_result"
    }
   ],
   "source": [
    "longest_words = []\n",
    "\n",
    "for word in wordlist:\n",
    "    if len(word) == 15:\n",
    "        longest_words.append(word)\n",
    "\n",
    "len(longest_words)"
   ]
  },
  {
   "cell_type": "code",
   "execution_count": 60,
   "id": "4c95946b",
   "metadata": {},
   "outputs": [
    {
     "data": {
      "text/plain": [
       "0"
      ]
     },
     "execution_count": 60,
     "metadata": {},
     "output_type": "execute_result"
    }
   ],
   "source": [
    "longest_words = []\n",
    "\n",
    "for word in wordlist:\n",
    "    if len(word) > 15:\n",
    "        longest_words.append(word)\n",
    "\n",
    "len(longest_words)"
   ]
  },
  {
   "cell_type": "markdown",
   "id": "bec65466",
   "metadata": {},
   "source": [
    "---------"
   ]
  },
  {
   "cell_type": "markdown",
   "id": "3b71d271",
   "metadata": {},
   "source": [
    "#6 Palindromes"
   ]
  },
  {
   "cell_type": "markdown",
   "id": "800a169e",
   "metadata": {},
   "source": [
    "Print out a list of every palindrome (a word that is the same reversed) that's over 6 letters in length.\n",
    "How many are there?"
   ]
  },
  {
   "cell_type": "code",
   "execution_count": 61,
   "id": "75a787f5",
   "metadata": {},
   "outputs": [],
   "source": [
    "temp_wordlist = [\"hannah\", \"tiana\", \"alexander\", \"otto\", \"racecar\"]"
   ]
  },
  {
   "cell_type": "code",
   "execution_count": 62,
   "id": "49ce8c88",
   "metadata": {},
   "outputs": [
    {
     "name": "stdout",
     "output_type": "stream",
     "text": [
      "['racecar']\n"
     ]
    },
    {
     "data": {
      "text/plain": [
       "1"
      ]
     },
     "execution_count": 62,
     "metadata": {},
     "output_type": "execute_result"
    }
   ],
   "source": [
    "temp_wordlist = [\"hannah\", \"tiana\", \"alexander\", \"otto\", \"racecar\"]\n",
    "palindromes = []\n",
    "\n",
    "for word in temp_wordlist:\n",
    "    if len(word) > 6:\n",
    "        if word == word[::-1]:\n",
    "            palindromes.append(word)\n",
    "        \n",
    "print(palindromes)\n",
    "len(palindromes)"
   ]
  },
  {
   "cell_type": "code",
   "execution_count": 63,
   "id": "833af5be",
   "metadata": {},
   "outputs": [
    {
     "name": "stdout",
     "output_type": "stream",
     "text": [
      "['deified', 'hadedah', 'halalah', 'reifier', 'repaper', 'reviver', 'rotator', 'rotavator', 'seities', 'sememes']\n"
     ]
    },
    {
     "data": {
      "text/plain": [
       "10"
      ]
     },
     "execution_count": 63,
     "metadata": {},
     "output_type": "execute_result"
    }
   ],
   "source": [
    "palindromes = []\n",
    "\n",
    "for word in wordlist:\n",
    "    if len(word) > 6:\n",
    "        if word == word[::-1]:\n",
    "            palindromes.append(word)\n",
    "        \n",
    "print(palindromes)\n",
    "len(palindromes)"
   ]
  },
  {
   "cell_type": "markdown",
   "id": "ffcf3042",
   "metadata": {},
   "source": [
    "---------"
   ]
  },
  {
   "cell_type": "markdown",
   "id": "df560176",
   "metadata": {},
   "source": [
    "#7 Something fun"
   ]
  },
  {
   "cell_type": "markdown",
   "id": "3379511d",
   "metadata": {},
   "source": [
    "Pick one other thing off this list of other interesting properties of English words in pages like this quiz about English words with unusual properties and write a Python problem to solve it: \"Words beginning with double o.\""
   ]
  },
  {
   "cell_type": "code",
   "execution_count": 64,
   "id": "c9627229",
   "metadata": {},
   "outputs": [],
   "source": [
    "temp_wordlist = [\"ooze\", \"oodles\", \"old\", \"opal\"]"
   ]
  },
  {
   "cell_type": "code",
   "execution_count": 65,
   "id": "4920f876",
   "metadata": {},
   "outputs": [
    {
     "name": "stdout",
     "output_type": "stream",
     "text": [
      "['ooze', 'oodles']\n"
     ]
    },
    {
     "data": {
      "text/plain": [
       "2"
      ]
     },
     "execution_count": 65,
     "metadata": {},
     "output_type": "execute_result"
    }
   ],
   "source": [
    "temp_wordlist = [\"ooze\", \"oodles\", \"old\", \"opal\"]\n",
    "oo_begin_words = []\n",
    "\n",
    "for word in temp_wordlist:\n",
    "    if word[0:2] == \"oo\":\n",
    "        oo_begin_words.append(word)\n",
    "        \n",
    "print(oo_begin_words)\n",
    "len(oo_begin_words)"
   ]
  },
  {
   "cell_type": "code",
   "execution_count": 66,
   "id": "8d3c3d32",
   "metadata": {},
   "outputs": [
    {
     "name": "stdout",
     "output_type": "stream",
     "text": [
      "['oo', 'oobit', 'oobits', 'oocyst', 'oocysts', 'oocyte', 'oocytes', 'oodles', 'oodlins', 'oof', 'oofier', 'oofiest', 'oofs', 'ooftish', 'ooftishes', 'oofy', 'oogamete', 'oogametes', 'oogamies', 'oogamous', 'oogamy', 'oogeneses', 'oogenesis', 'oogenetic', 'oogenies', 'oogeny', 'oogonia', 'oogonial', 'oogonium', 'oogoniums', 'ooh', 'oohed', 'oohing', 'oohs', 'ooidal', 'oolachan', 'oolachans', 'oolakan', 'oolakans', 'oolite', 'oolites', 'oolith', 'ooliths', 'oolitic', 'oologic', 'oological', 'oologies', 'oologist', 'oologists', 'oology', 'oolong', 'oolongs', 'oom', 'oomiac', 'oomiack', 'oomiacks', 'oomiacs', 'oomiak', 'oomiaks', 'oompah', 'oompahed', 'oompahing', 'oompahs', 'oomph', 'oomphs', 'ooms', 'oomycete', 'oomycetes', 'oon', 'oons', 'oont', 'oonts', 'oop', 'ooped', 'oophorectomies', 'oophorectomise', 'oophorectomised', 'oophorectomises', 'oophorectomize', 'oophorectomized', 'oophorectomizes', 'oophorectomy', 'oophoritic', 'oophoritis', 'oophoritises', 'oophoron', 'oophorons', 'oophyte', 'oophytes', 'oophytic', 'ooping', 'oops', 'oor', 'oorali', 'ooralis', 'oorial', 'oorials', 'oorie', 'oorier', 'ooriest', 'oos', 'oose', 'ooses', 'oosier', 'oosiest', 'oosperm', 'oosperms', 'oosphere', 'oospheres', 'oospore', 'oospores', 'oosporic', 'oosporous', 'oosy', 'oot', 'ootheca', 'oothecae', 'oothecal', 'ootid', 'ootids', 'oots', 'ooze', 'oozed', 'oozes', 'oozier', 'ooziest', 'oozily', 'ooziness', 'oozinesses', 'oozing', 'oozy']\n"
     ]
    },
    {
     "data": {
      "text/plain": [
       "131"
      ]
     },
     "execution_count": 66,
     "metadata": {},
     "output_type": "execute_result"
    }
   ],
   "source": [
    "oo_begin_words = []\n",
    "\n",
    "for word in wordlist:\n",
    "    if word[0:2] == \"oo\":\n",
    "        oo_begin_words.append(word)\n",
    "        \n",
    "print(oo_begin_words)\n",
    "len(oo_begin_words)"
   ]
  },
  {
   "cell_type": "markdown",
   "id": "137a58cd",
   "metadata": {},
   "source": [
    "----------"
   ]
  }
 ],
 "metadata": {
  "kernelspec": {
   "display_name": "Python 3 (ipykernel)",
   "language": "python",
   "name": "python3"
  },
  "language_info": {
   "codemirror_mode": {
    "name": "ipython",
    "version": 3
   },
   "file_extension": ".py",
   "mimetype": "text/x-python",
   "name": "python",
   "nbconvert_exporter": "python",
   "pygments_lexer": "ipython3",
   "version": "3.10.9"
  }
 },
 "nbformat": 4,
 "nbformat_minor": 5
}
