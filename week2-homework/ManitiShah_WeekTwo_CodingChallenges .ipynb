{
 "cells": [
  {
   "cell_type": "code",
   "execution_count": 2,
   "id": "ed47af0d",
   "metadata": {},
   "outputs": [],
   "source": [
    "# this code imports the wordlist into a new list called wordlist\n",
    "from scrabble import wordlist"
   ]
  },
  {
   "cell_type": "markdown",
   "id": "2354c0d2",
   "metadata": {},
   "source": [
    "# Alls well that ends well"
   ]
  },
  {
   "cell_type": "markdown",
   "id": "f7c88799",
   "metadata": {},
   "source": [
    "### Find and print the words that end in \"well\" and be ready to tell me how many there are.\n"
   ]
  },
  {
   "cell_type": "code",
   "execution_count": 7,
   "id": "8ec7701c",
   "metadata": {},
   "outputs": [
    {
     "data": {
      "text/plain": [
       "23"
      ]
     },
     "execution_count": 7,
     "metadata": {},
     "output_type": "execute_result"
    }
   ],
   "source": [
    "wellwords = []\n",
    "for word in wordlist :\n",
    "    if word [-4:] == \"well\" :\n",
    "        wellwords.append(word)\n",
    "len(wellwords)"
   ]
  },
  {
   "cell_type": "code",
   "execution_count": 8,
   "id": "2af86835",
   "metadata": {},
   "outputs": [
    {
     "name": "stdout",
     "output_type": "stream",
     "text": [
      "['bridewell', 'drywell', 'dwell', 'farewell', 'footwell', 'gromwell', 'groundswell', 'indwell', 'inkwell', 'maxwell', 'newell', 'outdwell', 'outswell', 'outwell', 'overswell', 'pinswell', 'speedwell', 'stairwell', 'swell', 'unwell', 'upswell', 'upwell', 'well']\n"
     ]
    }
   ],
   "source": [
    "print(wellwords)"
   ]
  },
  {
   "cell_type": "markdown",
   "id": "79c85d07",
   "metadata": {},
   "source": [
    "### How about \"mt\"?"
   ]
  },
  {
   "cell_type": "code",
   "execution_count": 12,
   "id": "5808d760",
   "metadata": {},
   "outputs": [
    {
     "data": {
      "text/plain": [
       "5"
      ]
     },
     "execution_count": 12,
     "metadata": {},
     "output_type": "execute_result"
    }
   ],
   "source": [
    "mtwords = []\n",
    "for mtword in wordlist :\n",
    "    if mtword [-2:] == \"mt\" :\n",
    "        mtwords.append(mtword)\n",
    "len(mtwords)"
   ]
  },
  {
   "cell_type": "code",
   "execution_count": 13,
   "id": "70c755ea",
   "metadata": {},
   "outputs": [
    {
     "name": "stdout",
     "output_type": "stream",
     "text": [
      "['daydreamt', 'dreamt', 'outdreamt', 'redreamt', 'undreamt']\n"
     ]
    }
   ],
   "source": [
    "print (mtwords)"
   ]
  },
  {
   "cell_type": "markdown",
   "id": "2f84fdc6",
   "metadata": {},
   "source": [
    "### How about \"gry\"?"
   ]
  },
  {
   "cell_type": "code",
   "execution_count": 14,
   "id": "97d12990",
   "metadata": {},
   "outputs": [
    {
     "data": {
      "text/plain": [
       "5"
      ]
     },
     "execution_count": 14,
     "metadata": {},
     "output_type": "execute_result"
    }
   ],
   "source": [
    "grywords = []\n",
    "for gryword in wordlist :\n",
    "    if gryword [-3:] == \"gry\":\n",
    "        grywords.append(gryword)\n",
    "len(grywords)\n",
    "    "
   ]
  },
  {
   "cell_type": "code",
   "execution_count": 15,
   "id": "5f38709d",
   "metadata": {},
   "outputs": [
    {
     "name": "stdout",
     "output_type": "stream",
     "text": [
      "['aggry', 'ahungry', 'angry', 'hungry', 'puggry']\n"
     ]
    }
   ],
   "source": [
    "print(grywords)"
   ]
  },
  {
   "cell_type": "markdown",
   "id": "cb2805dc",
   "metadata": {},
   "source": [
    "# Counting vowels"
   ]
  },
  {
   "cell_type": "markdown",
   "id": "be3fa1ee",
   "metadata": {},
   "source": [
    "### How many words start with each vowel? Which is the common vowel to find at the beginning of a word?"
   ]
  },
  {
   "cell_type": "code",
   "execution_count": 60,
   "id": "cc2d4016",
   "metadata": {},
   "outputs": [],
   "source": [
    "awords = []\n",
    "ewords = []\n",
    "iwords = []\n",
    "owords = []\n",
    "uwords = []\n",
    "\n",
    "for word in wordlist :\n",
    "    if word [0] == \"a\" :\n",
    "        awords.append(word)\n",
    "    elif word [0] == \"e\" :\n",
    "        ewords.append(word)\n",
    "    elif word [0] == \"i\" :\n",
    "        iwords.append(word)\n",
    "    elif word [0] == \"o\" :\n",
    "        owords.append(word)\n",
    "    elif word [0] == \"u\" :\n",
    "        uwords.append(word)"
   ]
  },
  {
   "cell_type": "code",
   "execution_count": 61,
   "id": "ef445f9b",
   "metadata": {},
   "outputs": [
    {
     "name": "stdout",
     "output_type": "stream",
     "text": [
      "The most common vowel to be found at the beginning of a word is 'a'\n"
     ]
    }
   ],
   "source": [
    "number_of_words = [len(awords), len(ewords), len(iwords), len(owords), len(uwords)]\n",
    "if max(number_of_words) == len(awords) :\n",
    "    print (\"The most common vowel to be found at the beginning of a word is 'a'\")\n",
    "elif max(number_of_words) == len(ewords) :\n",
    "    print (\"The most common vowel to be found at the beginning of a word is 'e'\")\n",
    "elif max(number_of_words) == len(iwords) :\n",
    "    print (\"The most common vowel to be found at the beginning of a word is 'i'\")\n",
    "elif max(number_of_words) == len(owords) :\n",
    "    print (\"The most common vowel to be found at the beginning of a word is 'o'\")\n",
    "else :\n",
    "    print (\"The most common vowel to be found at the beginning of a word is 'u'\")\n",
    "    \n"
   ]
  },
  {
   "cell_type": "markdown",
   "id": "8653015b",
   "metadata": {},
   "source": [
    "### Which is the most common vowel to find at the end of a word?"
   ]
  },
  {
   "cell_type": "code",
   "execution_count": 65,
   "id": "f061b41d",
   "metadata": {},
   "outputs": [],
   "source": [
    "worda = []\n",
    "worde = []\n",
    "wordi = []\n",
    "wordo = []\n",
    "wordu = []\n",
    "\n",
    "for word in wordlist :\n",
    "    if word [-1] == \"a\" :\n",
    "        worda.append(word)\n",
    "    elif word [-1] == \"e\" :\n",
    "        worde.append(word)\n",
    "    elif word [-1] == \"i\" :\n",
    "        wordi.append(word)\n",
    "    elif word [-1] == \"o\" :\n",
    "        wordo.append(word)\n",
    "    elif word [-1] == \"u\" :\n",
    "        wordu.append(word)"
   ]
  },
  {
   "cell_type": "code",
   "execution_count": 67,
   "id": "08156d22",
   "metadata": {},
   "outputs": [
    {
     "name": "stdout",
     "output_type": "stream",
     "text": [
      "The most common vowel to be found at the end of a word is 'e'\n"
     ]
    }
   ],
   "source": [
    "number_of_words_end = [len(worda), len(worde), len(wordi), len(wordo), len(wordu)]\n",
    "if max(number_of_words_end) == len(worda) :\n",
    "    print (\"The most common vowel to be found at the end of a word is 'a'\")\n",
    "elif max(number_of_words_end) == len(worde) :\n",
    "    print (\"The most common vowel to be found at the end of a word is 'e'\")\n",
    "elif max(number_of_words_end) == len(wordi) :\n",
    "    print (\"The most common vowel to be found at the end of a word is 'i'\")\n",
    "elif max(number_of_words_end) == len(wordo) :\n",
    "    print (\"The most common vowel to be found at the end of a word is 'o'\")\n",
    "else :\n",
    "    print (\"The most common vowel to be found at the end of a word is 'u'\")\n",
    "    \n"
   ]
  },
  {
   "cell_type": "markdown",
   "id": "d74f46fd",
   "metadata": {},
   "source": [
    "### Find and print the words that have all 5 vowels in alphabetical order."
   ]
  },
  {
   "cell_type": "code",
   "execution_count": 69,
   "id": "6caadcf1",
   "metadata": {},
   "outputs": [
    {
     "data": {
      "text/plain": [
       "0"
      ]
     },
     "execution_count": 69,
     "metadata": {},
     "output_type": "execute_result"
    }
   ],
   "source": [
    "togetherwords = []\n",
    "\n",
    "for word in wordlist :\n",
    "    if \"aeiou\" in word :\n",
    "        togetherwords.append(word)\n",
    "        \n",
    "len(togetherwords)"
   ]
  },
  {
   "cell_type": "markdown",
   "id": "fa3071c5",
   "metadata": {},
   "source": [
    "# Disemvoweled"
   ]
  },
  {
   "cell_type": "markdown",
   "id": "908a3aab",
   "metadata": {},
   "source": [
    "### Find and print the longest word that has no vowels."
   ]
  },
  {
   "cell_type": "code",
   "execution_count": 91,
   "id": "2fbe6ce3",
   "metadata": {},
   "outputs": [
    {
     "name": "stdout",
     "output_type": "stream",
     "text": [
      "glycyls\n"
     ]
    }
   ],
   "source": [
    "vowelless = []\n",
    "\n",
    "for word in wordlist :\n",
    "    for letter in word :\n",
    "        if \"a\" not in word and \"e\" not in word and \"i\" not in word and \"o\" not in word and \"u\" not in word :\n",
    "            vowelless.append(word)\n",
    "            \n",
    "max_length = 0 \n",
    "longest_word = \"\"\n",
    "\n",
    "for word in vowelless :\n",
    "    if len(word) > max_length :\n",
    "        longest_word = word\n",
    "        max_length = len(word)\n",
    "print(longest_word)"
   ]
  },
  {
   "cell_type": "markdown",
   "id": "758f6243",
   "metadata": {},
   "source": [
    "# A cure for many ells"
   ]
  },
  {
   "cell_type": "markdown",
   "id": "a625bf1c",
   "metadata": {},
   "source": [
    "### Find an print the words that contain 4 or more 'l's."
   ]
  },
  {
   "cell_type": "code",
   "execution_count": 105,
   "id": "08b6cce2",
   "metadata": {},
   "outputs": [
    {
     "name": "stdout",
     "output_type": "stream",
     "text": [
      "['alcoholically', 'algologically', 'allegorically', 'allhallond', 'allhallowen', 'allhallown', 'allhollown', 'allopathically', 'allopatrically', 'allopolyploid', 'allopolyploids', 'allopolyploidy', 'allosterically', 'allotropically', 'allotypically', 'allychollies', 'allycholly', 'balletically', 'ballistically', 'bellpull', 'bellpulls', 'catallactically', 'cellulolytic', 'collaterally', 'collegially', 'collisionally', 'colloidally', 'colloquially', 'corollifloral', 'dillydallied', 'dillydallies', 'dillydally', 'dillydallying', 'dullsville', 'dullsvilles', 'elliptically', 'extracellularly', 'fallalishly', 'hallalled', 'hallalling', 'hillbillies', 'hillbilly', 'holoblastically', 'hullaballoo', 'hullaballoos', 'idyllically', 'illegally', 'illiberally', 'illogically', 'intellectually', 'intracellularly', 'jellyroll', 'jellyrolls', 'lallapalooza', 'lallapaloozas', 'lamellarly', 'lamellately', 'lamellirostral', 'legalistically', 'lexicologically', 'libellously', 'lignocellulose', 'lignocelluloses', 'lignocellulosic', 'ligulifloral', 'limnologically', 'lithologically', 'loblollies', 'loblolly', 'lollapalooza', 'lollapaloozas', 'lollingly', 'melancholically', 'mellifluently', 'mellifluously', 'metallically', 'metallurgically', 'methylcellulose', 'millefeuille', 'millefeuilles', 'millennially', 'millesimally', 'multicellular', 'multilaterally', 'multilingually', 'multimillennial', 'palynologically', 'parallactically', 'parallelled', 'parallelling', 'parallelly', 'pellmell', 'pellmells', 'phallically', 'philatelically', 'philologically', 'plasmolytically', 'pluralistically', 'polysyllabical', 'polysyllable', 'polysyllables', 'pralltriller', 'pralltrillers', 'premillennially', 'rollcollar', 'rollcollars', 'rollerball', 'rollerballs', 'shillyshallied', 'shillyshallier', 'shillyshalliers', 'shillyshallies', 'shillyshally', 'shillyshallying', 'silviculturally', 'skillfully', 'stellularly', 'syllabically', 'sylleptically', 'syllogistically', 'teleologically', 'trisyllabically', 'unfulfillable', 'unskillfully', 'valpolicella', 'valpolicellas', 'vexillological', 'villanella', 'villanellas', 'villanelle', 'villanelles', 'volleyball', 'volleyballs', 'wallyball', 'wallyballs', 'willfully']\n"
     ]
    }
   ],
   "source": [
    "four_l_words = []\n",
    "\n",
    "for word in wordlist: \n",
    "    number_of_l = 0\n",
    "    for letter in word :\n",
    "        if letter == \"l\" :\n",
    "            number_of_l = number_of_l + 1 \n",
    "    if number_of_l >= 4 :\n",
    "        four_l_words.append(word)\n",
    "        \n",
    "print(four_l_words)"
   ]
  },
  {
   "cell_type": "markdown",
   "id": "16501450",
   "metadata": {},
   "source": [
    "### How many are there?"
   ]
  },
  {
   "cell_type": "code",
   "execution_count": 104,
   "id": "5d999e3f",
   "metadata": {},
   "outputs": [
    {
     "data": {
      "text/plain": [
       "136"
      ]
     },
     "execution_count": 104,
     "metadata": {},
     "output_type": "execute_result"
    }
   ],
   "source": [
    "len(four_l_words)"
   ]
  },
  {
   "cell_type": "markdown",
   "id": "0d11267e",
   "metadata": {},
   "source": [
    "# So long"
   ]
  },
  {
   "cell_type": "code",
   "execution_count": null,
   "id": "9bafd02a",
   "metadata": {},
   "outputs": [],
   "source": [
    "### What is the longest word in the word list you've been given? How long is it?"
   ]
  },
  {
   "cell_type": "code",
   "execution_count": 120,
   "id": "0ef06c03",
   "metadata": {},
   "outputs": [],
   "source": [
    "max_length_of_word = 0 \n",
    "longest_word_in_wordlist = \"\"\n",
    "\n",
    "for word in wordlist :\n",
    "    if len(word) > max_length_of_word :\n",
    "        longest_word_in_wordlist = word\n",
    "        max_length_of_word = len(word)"
   ]
  },
  {
   "cell_type": "code",
   "execution_count": 121,
   "id": "100af332",
   "metadata": {},
   "outputs": [
    {
     "name": "stdout",
     "output_type": "stream",
     "text": [
      "abiogenetically\n"
     ]
    }
   ],
   "source": [
    "print (longest_word_in_wordlist)"
   ]
  },
  {
   "cell_type": "code",
   "execution_count": 118,
   "id": "39ca84d2",
   "metadata": {},
   "outputs": [
    {
     "name": "stdout",
     "output_type": "stream",
     "text": [
      "15\n"
     ]
    }
   ],
   "source": [
    "print (max_length_of_word)"
   ]
  },
  {
   "cell_type": "markdown",
   "id": "8fd35338",
   "metadata": {},
   "source": [
    "### Are there more than one word of that length? If so, tell me how many are that exactly that long."
   ]
  },
  {
   "cell_type": "code",
   "execution_count": 119,
   "id": "de96a3f8",
   "metadata": {},
   "outputs": [
    {
     "name": "stdout",
     "output_type": "stream",
     "text": [
      "['abiogenetically', 'aboriginalities', 'absorbabilities', 'absorbefacients', 'absorptiometers', 'abstractionisms', 'abstractionists', 'acanthocephalan', 'acceptabilities', 'acceptingnesses', 'accessarinesses', 'accessibilities', 'accessorinesses', 'accidentalities', 'accidentologies', 'acclimatisation', 'acclimatization', 'accommodatingly', 'accommodational', 'accomplishments', 'accountableness', 'accountantships', 'acculturational', 'acetophenetidin', 'acetylsalicylic', 'achondroplasias', 'achondroplastic', 'achromaticities', 'achromatisation', 'achromatization', 'acidimetrically', 'acknowledgeable', 'acknowledgeably', 'acknowledgement', 'acknowledgments', 'acquirabilities', 'acquisitiveness', 'acrimoniousness', 'acroparesthesia', 'actinobiologies', 'actinochemistry', 'actinotherapies', 'adaptablenesses', 'additionalities', 'adenocarcinomas', 'adenohypophyses', 'adenohypophysis', 'adenoidectomies', 'adiathermancies', 'adjustabilities', 'administrations', 'admirablenesses', 'admissibilities', 'adrenalectomies', 'adsorbabilities', 'adventurousness', 'adversarinesses', 'advisablenesses', 'aerodynamically', 'aerodynamicists', 'aeroelasticians', 'aerohydroplanes', 'aerolithologies', 'aerosolisations', 'aerosolizations', 'affectabilities', 'affectivenesses', 'affordabilities', 'affranchisement', 'aftersensations', 'agglutinability', 'aggrandisements', 'aggrandizements', 'aggregatenesses', 'agranulocytoses', 'agranulocytosis', 'agreeablenesses', 'agribusinessman', 'agribusinessmen', 'agriculturalist', 'airworthinesses', 'alcoholisations', 'alcoholizations', 'alcoholometries', 'alexipharmakons', 'algorithmically', 'alkalinisations', 'alkalinizations', 'allegoricalness', 'allegorisations', 'allegorizations', 'allelomorphisms', 'allergenicities', 'allotetraploids', 'allotetraploidy', 'allotriomorphic', 'allowablenesses', 'alphabetisation', 'alphabetization', 'alternativeness', 'altitudinarians', 'aluminosilicate', 'aluminothermies', 'amaryllidaceous', 'ambassadorships', 'ambidexterities', 'ambiguousnesses', 'ambisexualities', 'ambitiousnesses', 'aminopeptidases', 'aminophenazones', 'ammonifications', 'amorphousnesses', 'amphidiploidies', 'amphitheatrical', 'anacoluthically', 'anacreontically', 'anaesthesiology', 'anaesthetically', 'anagrammatising', 'anagrammatizing', 'analogousnesses', 'analyzabilities', 'anamorphoscopes', 'ancylostomiases', 'ancylostomiasis', 'androgynophores', 'andromedotoxins', 'andromonoecious', 'andromonoecisms', 'anesthetization', 'anfractuosities', 'angustirostrate', 'animatronically', 'anisotropically', 'ankylostomiases', 'ankylostomiasis', 'annihilationism', 'anomalistically', 'anomalousnesses', 'anonymousnesses', 'answerabilities', 'antagonisations', 'antagonizations', 'antaphrodisiacs', 'antepenultimate', 'anthropobiology', 'anthropocentric', 'anthropogeneses', 'anthropogenesis', 'anthropogenetic', 'anthropolatries', 'anthropological', 'anthropologists', 'anthropometries', 'anthropometrist', 'anthropomorphic', 'anthropopathies', 'anthropopathism', 'anthropophagies', 'anthropophagite', 'anthropophagous', 'anthropophobias', 'anthropophobics', 'anthropophuisms', 'anthropopsychic', 'anthroposophies', 'anthroposophist', 'antiabortionist', 'antialcoholisms', 'antiaphrodisiac', 'antiarrhythmics', 'anticapitalisms', 'anticapitalists', 'anticarcinogens', 'anticholesterol', 'anticholinergic', 'antichristianly', 'anticlericalism', 'anticlimactical', 'anticoincidence', 'anticolonialism', 'anticolonialist', 'anticompetitive', 'anticonvulsants', 'anticonvulsives', 'antidepressants', 'antiderivatives', 'antidevelopment', 'antieducational', 'antiegalitarian', 'antifashionable', 'antifederalists', 'antiferromagnet', 'antiforeclosure', 'antihelminthics', 'antihistaminics', 'antiliberalisms', 'antilibertarian', 'antilogarithmic', 'antimaterialism', 'antimaterialist', 'antimetabolites', 'antimilitarisms', 'antimilitarists', 'antimonarchical', 'antimonarchists', 'antimonopolists', 'antinationalist', 'antinuclearists', 'antiodontalgics', 'antiperistalses', 'antiperistalsis', 'antiperistaltic', 'antiperspirants', 'antiphlogistics', 'antipornography', 'antiprogressive', 'antiquarianisms', 'antiradicalisms', 'antirationalism', 'antirationalist', 'antirationality', 'antirepublicans', 'antiromanticism', 'antisegregation', 'antisentimental', 'antiseparatists', 'antisepticising', 'antisepticizing', 'antisexualities', 'antishoplifting', 'antisocialities', 'antispeculation', 'antispeculative', 'antisyphilitics', 'antitheoretical', 'antithrombotics', 'antitraditional', 'antitranspirant', 'antitrinitarian', 'antituberculous', 'antivivisection', 'apheliotropisms', 'apocalyptically', 'apocalypticisms', 'apolipoproteins', 'apoliticalities', 'apophthegmatise', 'apophthegmatist', 'apophthegmatize', 'apothegmatising', 'apothegmatizing', 'appealabilities', 'appealingnesses', 'appendicularian', 'applicabilities', 'apprenticehoods', 'apprenticements', 'apprenticeships', 'approachability', 'appropinquating', 'appropinquation', 'appropinquities', 'appropriateness', 'arachnoiditises', 'arbitrarinesses', 'arboriculturist', 'archaebacterium', 'archaeobotanies', 'archaeobotanist', 'archaeometrists', 'archaeopteryxes', 'archaezoologies', 'archeoastronomy', 'archeobotanists', 'archeologically', 'archeomagnetism', 'archeozoologies', 'archeozoologist', 'archgenethliacs', 'archidiaconates', 'archiepiscopacy', 'archiepiscopate', 'architecturally', 'archpriesthoods', 'archpriestships', 'argumentatively', 'ariboflavinoses', 'ariboflavinosis', 'aromatherapists', 'arrondissements', 'arterialisation', 'arterialization', 'arteriographies', 'artificialising', 'artificialities', 'artificializing', 'asclepiadaceous', 'assentivenesses', 'assertivenesses', 'assiduousnesses', 'assignabilities', 'assimilationism', 'assimilationist', 'associabilities', 'associationisms', 'associationists', 'associativities', 'astrobiologists', 'astrodynamicist', 'astrogeologists', 'astronautically', 'astronavigation', 'astronavigators', 'astrophotograph', 'astrophysically', 'astrophysicists', 'atheroscleroses', 'atherosclerosis', 'atherosclerotic', 'atmospherically', 'atrabiliousness', 'atrociousnesses', 'attainabilities', 'attentivenesses', 'attitudinarians', 'attitudinisings', 'attitudinizings', 'attributiveness', 'audaciousnesses', 'audiometrically', 'audiometricians', 'authentications', 'authoritatively', 'autobiographers', 'autobiographies', 'autochthonously', 'autocorrelation', 'autodestructing', 'autodestructive', 'autodidacticism', 'autographically', 'autoinoculation', 'autoionisations', 'autoionizations', 'automatisations', 'automatizations', 'automorphically', 'autoradiographs', 'autoradiography', 'autoschediastic', 'autoschediazing', 'autostabilities', 'autosuggestions', 'autotetraploids', 'autotetraploidy', 'autotransformer', 'autotransfusion', 'autotrophically', 'availablenesses', 'axiomatisations', 'axiomatizations', 'azidothymidines', 'bacchanalianism', 'backscatterings', 'backscratchings', 'bacteriological', 'bacteriologists', 'bacteriophagies', 'bacteriophagous', 'balneotherapies', 'barbarousnesses', 'barefacednesses', 'basidiomycetous', 'bastardisations', 'bastardizations', 'bathometrically', 'bathymetrically', 'batrachophobias', 'beardlessnesses', 'beauteousnesses', 'beautifications', 'beautifulnesses', 'believabilities', 'belongingnesses', 'benightednesses', 'benzanthracenes', 'benzenecarbonyl', 'benzodiazepines', 'beseemingnesses', 'bespottednesses', 'bibliographical', 'bibliophilistic', 'bibliothecaries', 'bibliotherapies', 'bidialectalisms', 'bidirectionally', 'bigheadednesses', 'bioaccumulating', 'bioaccumulation', 'bioastronautics', 'bioavailability', 'biodegradations', 'biodestructible', 'bioecologically', 'bioengineerings', 'biogeochemicals', 'biogeochemistry', 'biogeographical', 'bioluminescence', 'biomathematical', 'biomechanically', 'bioprospectings', 'biopsychologies', 'bioregionalisms', 'bioregionalists', 'bioremediations', 'biorhythmically', 'biostatistician', 'biostratigraphy', 'biosystematists', 'biotechnologies', 'biotechnologist', 'bipartisanships', 'bipolarisations', 'bipolarizations', 'bisphosphonates', 'bisymmetrically', 'bittersweetness', 'bituminisations', 'bituminizations', 'blameablenesses', 'blamelessnesses', 'blameworthiness', 'blasphemousness', 'blaxploitations', 'bletheranskates', 'blockheadedness', 'bloodcurdlingly', 'bloodguiltiness', 'bloodlessnesses', 'bloodthirstiest', 'bougainvillaeas', 'bouleversements', 'boundlessnesses', 'bounteousnesses', 'bountifulnesses', 'bourgeoisifying', 'boustrophedonic', 'bowdlerisations', 'bowdlerizations', 'brachiocephalic', 'brachiosauruses', 'brachistochrone', 'brachycephalics', 'brachycephalies', 'brachycephalism', 'brachycephalous', 'brachydactylies', 'brachydactylism', 'brachydactylous', 'brachydiagonals', 'brachypinakoids', 'brachytherapies', 'brainlessnesses', 'brainsicknesses', 'braunschweigers', 'breakablenesses', 'breathabilities', 'breatharianisms', 'bremsstrahlungs', 'brilliantnesses', 'broadmindedness', 'brokenheartedly', 'bronchiolitises', 'bronchodilators', 'bronchographies', 'bronchoscopical', 'bronchoscopists', 'brotherlinesses', 'bumptiousnesses', 'bureaucratising', 'bureaucratizing', 'businesspersons', 'calculabilities', 'calendarisation', 'calendarization', 'calorifications', 'canisterisation', 'canisterization', 'cannibalisation', 'cannibalization', 'canthaxanthines', 'capaciousnesses', 'capitalisations', 'capitalizations', 'caprifoliaceous', 'caramelisations', 'caramelizations', 'carcinogenicity', 'carcinosarcomas', 'cardiographical', 'cardiopulmonary', 'carnivorousness', 'carpetbaggeries', 'carpometacarpus', 'castanospermine', 'castrametations', 'cataclysmically', 'catallactically', 'catechistically', 'catechumenships', 'categoricalness', 'categorisations', 'categorizations', 'catheterisation', 'catheterization', 'cathodographers', 'cathodographies', 'catholicisation', 'catholicization', 'causativenesses', 'causelessnesses', 'ceaselessnesses', 'cenogenetically', 'censurabilities', 'centenarianisms', 'centralisations', 'centralizations', 'centricalnesses', 'centrifugalised', 'centrifugalises', 'centrifugalized', 'centrifugalizes', 'centrifugations', 'centripetalisms', 'centrosymmetric', 'centuplications', 'cephalochordate', 'cephalothoraces', 'cephalothoracic', 'cephalothoraxes', 'cercopithecoids', 'cerebrovascular', 'ceremoniousness', 'certificatories', 'cervicographies', 'chalcographical', 'chalcographists', 'chamberlainship', 'chancellorships', 'changeabilities', 'changefulnesses', 'channelisations', 'channelizations', 'chaptalisations', 'chaptalizations', 'characterisable', 'characteristics', 'characterizable', 'chargeabilities', 'chartographical', 'cheerlessnesses', 'chemautotrophic', 'chemoattractant', 'chemoautotrophs', 'chemoautotrophy', 'chemolithotroph', 'chemopsychiatry', 'chemoreceptions', 'chemotactically', 'chemotaxonomies', 'chemotaxonomist', 'chemotherapists', 'chemotropically', 'chenopodiaceous', 'childlessnesses', 'childlikenesses', 'chincherinchees', 'chlamydomonades', 'chloramphenicol', 'chloritisations', 'chloritizations', 'chlorothiazides', 'chlorpromazines', 'chlorpropamides', 'chlorthalidones', 'cholangiography', 'cholecalciferol', 'cholecystectomy', 'cholecystitises', 'cholecystokinin', 'cholecystostomy', 'cholesterolemia', 'cholestyramines', 'cholinergically', 'cholinesterases', 'chondrichthyans', 'chondrification', 'chondrocraniums', 'chondrophorines', 'chondroskeleton', 'chordamesoderms', 'chorioallantoic', 'chorioallantois', 'choriocarcinoma', 'chrestomathical', 'chromaticnesses', 'chromatographed', 'chromatographer', 'chromatographic', 'chromatologists', 'chromatophorous', 'chromatospheres', 'chromotherapies', 'chromoxylograph', 'chronobiologies', 'chronobiologist', 'chronogrammatic', 'chronologically', 'chronotherapies', 'churrigueresque', 'cinchonisations', 'cinchonizations', 'cineangiography', 'cinematographed', 'cinematographer', 'cinematographic', 'cinemicrography', 'circularisation', 'circularization', 'circumambagious', 'circumambiences', 'circumambiently', 'circumambulated', 'circumambulates', 'circumambulator', 'circumferential', 'circumferentors', 'circumforaneous', 'circumgyrations', 'circumincession', 'circuminsession', 'circumjacencies', 'circumlocutions', 'circumnavigable', 'circumnavigated', 'circumnavigates', 'circumnavigator', 'circumnutations', 'circumpositions', 'circumscribable', 'circumscription', 'circumscriptive', 'circumspections', 'circumspectness', 'circumstantials', 'circumstantiate', 'circumvallating', 'circumvallation', 'circumvolutions', 'citriculturists', 'civilianisation', 'civilianization', 'clamorousnesses', 'clandestineness', 'clandestinities', 'classicalnesses', 'classifications', 'classlessnesses', 'claustrophobias', 'clearheadedness', 'cleavablenesses', 'cleistogamously', 'climacterically', 'climatographies', 'cloudlessnesses', 'coagulabilities', 'cockneyfication', 'cocknifications', 'coconsciousness', 'codetermination', 'codifiabilities', 'coeducationally', 'coenzymatically', 'coessentialness', 'coinstantaneity', 'coinstantaneous', 'coinvestigators', 'coldheartedness', 'collaboratively', 'collateralising', 'collateralities', 'collateralizing', 'collectednesses', 'collenchymatous', 'colliquescences', 'colloquialities', 'colonisationist', 'colonizationist', 'colorfastnesses', 'colorlessnesses', 'colourabilities', 'colourfulnesses', 'colposcopically', 'combativenesses', 'combinabilities', 'combinatorially', 'combustibleness', 'comfortableness', 'comfortlessness', 'commandantships', 'commemorational', 'commemoratively', 'commendableness', 'commensurations', 'commercialising', 'commercialistic', 'commercialities', 'commercializing', 'commiseratingly', 'commiseratively', 'commissaryships', 'commissionaires', 'commodification', 'commonplaceness', 'communalisation', 'communalization', 'communicability', 'communicational', 'communicatively', 'communistically', 'commutabilities', 'commutativities', 'compactednesses', 'comparabilities', 'comparativeness', 'compartmentally', 'compassionately', 'compassionating', 'compatibilities', 'compendiousness', 'competentnesses', 'competitiveness', 'complementaries', 'complementarily', 'complementarity', 'complementation', 'complementisers', 'complementizers', 'complexednesses', 'compliantnesses', 'complicatedness', 'complimentarily', 'compositenesses', 'compositionally', 'compotationship', 'comprehensively', 'comprehensivise', 'comprehensivize', 'compressibility', 'comptrollership', 'computabilities', 'computationally', 'computerisation', 'computerization', 'computerphobias', 'comradelinesses', 'conceitednesses', 'conceivableness', 'concelebrations', 'concentratively', 'concentricities', 'conceptualisers', 'conceptualising', 'conceptualistic', 'conceptualities', 'conceptualizers', 'conceptualizing', 'concernednesses', 'concertednesses', 'concertmeisters', 'concessionaires', 'concessionaries', 'concessionnaire', 'concretisations', 'concretizations', 'condescendences', 'condescendingly', 'conducivenesses', 'conductiometric', 'conduplications', 'confectionaries', 'confectioneries', 'confessionalism', 'confessionalist', 'confessionaries', 'confidentiality', 'confidingnesses', 'configurational', 'confirmednesses', 'conformableness', 'confraternities', 'confrontational', 'confusabilities', 'congealableness', 'congenialnesses', 'conglobulations', 'conglomerateurs', 'conglomerations', 'conglutinations', 'congratulations', 'congressionally', 'congresspersons', 'congruousnesses', 'conjugatenesses', 'conjugationally', 'conjunctionally', 'conjunctiveness', 'connaturalising', 'connaturalities', 'connaturalizing', 'connectednesses', 'connoisseurship', 'conquerableness', 'consanguinities', 'conscientiously', 'consciousnesses', 'conscriptionist', 'consecratedness', 'consecutiveness', 'consenescencies', 'consentaneities', 'consentaneously', 'consequentially', 'conservationist', 'conservatoriums', 'conservatorship', 'considerateness', 'consideratively', 'consimilarities', 'conspicuousness', 'conspiratresses', 'constellational', 'constitutionals', 'constitutionist', 'constringencies', 'constructionism', 'constructionist', 'constructivisms', 'constructivists', 'consubstantiate', 'consultantships', 'consumptiveness', 'consumptivities', 'containerboards', 'contemperations', 'contemperatures', 'contemplatively', 'contemporaneans', 'contemporaneity', 'contemporaneous', 'contemptibility', 'contentednesses', 'contentiousness', 'contesserations', 'contestableness', 'contextualising', 'contextualizing', 'continentalisms', 'continentalists', 'continualnesses', 'continuednesses', 'contortednesses', 'contortionistic', 'contraclockwise', 'contractability', 'contractibility', 'contractilities', 'contractiveness', 'contradictively', 'contradictories', 'contradictorily', 'contraindicants', 'contraindicated', 'contraindicates', 'contrapositions', 'contrapositives', 'contrapropeller', 'contrapuntalist', 'contrariousness', 'contravallation', 'controllability', 'controllerships', 'controversially', 'convalescencies', 'conventionalise', 'conventionalism', 'conventionalist', 'conventionality', 'conventionalize', 'conversableness', 'conversationism', 'conversationist', 'convertibleness', 'conveyorisation', 'conveyorization', 'convocationists', 'convolvulaceous', 'convulsionaries', 'cooperationists', 'cooperativeness', 'cooperativities', 'corinthianising', 'corinthianizing', 'corporatenesses', 'corporealnesses', 'corporification', 'corpuscularians', 'correlativeness', 'correlativities', 'correligionists', 'correspondences', 'correspondently', 'correspondingly', 'corrigibilities', 'corroboratively', 'corrodibilities', 'corrosibilities', 'corrosivenesses', 'corruptibleness', 'corticosteroids', 'corticosterones', 'corticotrophins', 'corynebacterial', 'corynebacterium', 'cosignificative', 'cosmeticologies', 'cosmopolitanism', 'cotransductions', 'coulometrically', 'councillorships', 'counsellorships', 'counteractively', 'counterargument', 'counterassaults', 'counterattacked', 'counterattacker', 'counterbalanced', 'counterbalances', 'counterblockade', 'countercampaign', 'counterchanging', 'countercharging', 'countercharming', 'counterchecking', 'counterclaimant', 'counterclaiming', 'countercultural', 'countercultures', 'countercurrents', 'countercyclical', 'counterevidence', 'counterexamples', 'counterfactuals', 'counterfeisance', 'counterfesaunce', 'counterguerilla', 'counterinstance', 'counterirritant', 'countermandable', 'countermarching', 'countermeasures', 'countermelodies', 'countermovement', 'counterordering', 'counterpetition', 'counterpicketed', 'counterpleading', 'counterplotting', 'counterpointing', 'counterpressure', 'counterprojects', 'counterproposal', 'counterprotests', 'counterpunchers', 'counterpunching', 'counterquestion', 'counterrallying', 'counterreaction', 'counterreformer', 'counterresponse', 'countershadings', 'counterstaining', 'counterstrategy', 'counterstricken', 'counterstriking', 'countersubjects', 'countertendency', 'countervailable', 'counterviolence', 'counterweighing', 'counterweighted', 'courteousnesses', 'courtmartialled', 'craniologically', 'crapulousnesses', 'crashworthiness', 'creditabilities', 'credulousnesses', 'crestfallenness', 'criminalisation', 'criminalization', 'criminousnesses', 'crosslinguistic', 'crossopterygian', 'crotchetinesses', 'cruciverbalisms', 'cruciverbalists', 'cryoprecipitate', 'cryoprotectants', 'cryptaesthesias', 'cryptanalytical', 'cryptographical', 'cryptographists', 'cryptorchidisms', 'cryptosporidium', 'cryptozoologies', 'cryptozoologist', 'crystalisations', 'crystalizations', 'crystallinities', 'crystallisation', 'crystallization', 'crystallography', 'cultivabilities', 'customarinesses', 'cyanoacetylenes', 'cyanocobalamine', 'cyanocobalamins', 'cyanoethylating', 'cyanoethylation', 'cybersecurities', 'cybersquattings', 'cyberterrorisms', 'cyberterrorists', 'cyclobarbitones', 'cyclohexylamine', 'cyclopentadiene', 'cyclopentolates', 'cylindricalness', 'cyproheptadines', 'cytochemistries', 'cytogenetically', 'cytogeneticists', 'cytomegalovirus', 'cytopathologies', 'cytophotometric', 'cytoplasmically', 'cytotaxonomists', 'dactyliomancies', 'dactylographers', 'dactylographies', 'daguerreotypers', 'daguerreotypies', 'daguerreotyping', 'daguerreotypist', 'damageabilities', 'dangerousnesses', 'dastardlinesses', 'dauntlessnesses', 'deacidification', 'deathlessnesses', 'debauchednesses', 'decalcification', 'decarbonisation', 'decarbonization', 'decarboxylating', 'decarboxylation', 'decarburisation', 'decarburization', 'decasualisation', 'decasualization', 'deceitfulnesses', 'deceivabilities', 'deceptibilities', 'deceptivenesses', 'decertification', 'dechlorinations', 'dechristianised', 'dechristianises', 'dechristianized', 'dechristianizes', 'deciduousnesses', 'decimalisations', 'decimalizations', 'decipherability', 'decolonisations', 'decolonizations', 'decolorisations', 'decolorizations', 'decolourisation', 'decolourization', 'decommissioners', 'decommissioning', 'decompensations', 'decomposability', 'deconcentrating', 'deconcentration', 'deconsecrations', 'deconstructions', 'decontaminating', 'decontamination', 'decontaminative', 'decontaminators', 'decriminalising', 'decriminalizing', 'dedifferentiate', 'deduciblenesses', 'deductibilities', 'defeasibilities', 'defectibilities', 'defectivenesses', 'defeminisations', 'defeminizations', 'defencelessness', 'defenestrations', 'defenselessness', 'defensibilities', 'defensivenesses', 'defervescencies', 'defibrillations', 'deficientnesses', 'deflocculations', 'deformabilities', 'degenerationist', 'deglamorisation', 'deglamorization', 'degradabilities', 'degradingnesses', 'dehumanisations', 'dehumanizations', 'dehydrogenating', 'dehydrogenation', 'dehydrogenising', 'dehydrogenizing', 'dehydroretinols', 'dehypnotisation', 'dehypnotization', 'deindividuation', 'deindustrialise', 'deindustrialize', 'delectabilities', 'delegitimations', 'deleteriousness', 'deliciousnesses', 'delightednesses', 'deliriousnesses', 'delocalisations', 'delocalizations', 'demagnetisation', 'demagnetization', 'demandingnesses', 'dematerialising', 'dematerializing', 'demeritoriously', 'demisemiquavers', 'demobilisations', 'demobilizations', 'democratifiable', 'democratisation', 'democratization', 'demographically', 'demonetisations', 'demonetizations', 'demonstrability', 'demonstrational', 'demonstratively', 'demoralisations', 'demoralizations', 'demulsification', 'demutualisation', 'demutualization', 'demystification', 'demythologisers', 'demythologising', 'demythologizers', 'demythologizing', 'denationalising', 'denationalizing', 'denazifications', 'denitrification', 'denitrificators', 'departmentalise', 'departmentalism', 'departmentalize', 'dependabilities', 'depersonalising', 'depersonalizing', 'dephlogisticate', 'dephosphorylate', 'depigmentations', 'deplorabilities', 'depolarisations', 'depolarizations', 'deregistrations', 'dereligionising', 'dereligionizing', 'derequisitioned', 'derivatisations', 'derivatizations', 'dermatoglyphics', 'dermatographias', 'dermatographies', 'dermatomyositis', 'dermatophytoses', 'dermatophytosis', 'dermatoplasties', 'desacralisation', 'desacralization', 'desalinisations', 'desalinizations', 'descriptiveness', 'desensitisation', 'desensitization', 'desertification', 'deservingnesses', 'desexualisation', 'desexualization', 'desilverisation', 'desilverization', 'desirablenesses', 'desperatenesses', 'despicabilities', 'despiritualised', 'despiritualises', 'despiritualized', 'despiritualizes', 'dessertspoonful', 'destabilisation', 'destabilization', 'destitutenesses', 'destructibility', 'destructionists', 'destructiveness', 'destructivities', 'desulfurisation', 'desulfurization', 'desulphurations', 'desultorinesses', 'detachabilities', 'detectabilities', 'determinability', 'determinateness', 'determinatively', 'deterrabilities', 'detestabilities', 'detoxifications', 'detribalisation', 'detribalization', 'deuteranomalies', 'deuteranomalous', 'devalorisations', 'devalorizations', 'developmentally', 'devitalisations', 'devitalizations', 'devitrification', 'devotionalities', 'dexamphetamines', 'dexterousnesses', 'dextrophosphate', 'dextrorotations', 'diagonalisation', 'diagonalization', 'diaheliotropism', 'dialectological', 'dialectologists', 'dialysabilities', 'dialyzabilities', 'diamagnetically', 'diaphototropies', 'diaphototropism', 'diaphragmatitis', 'diastereoisomer', 'diastrophically', 'dichlorobenzene', 'dichloroethanes', 'dichloromethane', 'dichotomisation', 'dichotomization', 'dichotomousness', 'dichromaticisms', 'dictatorialness', 'differentiating', 'differentiation', 'differentiators', 'differentnesses', 'diffractiveness', 'diffractometers', 'diffractometric', 'diffrangibility', 'diffusibilities', 'diffusivenesses', 'digestibilities', 'digitalisations', 'digitalizations', 'dignifiednesses', 'dilatablenesses', 'dimenhydrinates', 'dimethylaniline', 'dinitrobenzenes', 'dinoflagellates', 'dioeciousnesses', 'diphenhydramine', 'diphenylenimine', 'diphenylketones', 'diplomatologies', 'disaccharidases', 'disaccommodated', 'disaccommodates', 'disacknowledged', 'disacknowledges', 'disadvantageous', 'disaffectedness', 'disaffectionate', 'disaffiliations', 'disaffirmations', 'disafforestment', 'disaggregations', 'disagreeability', 'disambiguations', 'disapplications', 'disappointingly', 'disappointments', 'disapprobations', 'disappropriated', 'disappropriates', 'disarrangements', 'disarticulating', 'disarticulation', 'disarticulators', 'disassimilating', 'disassimilation', 'disassimilative', 'disassociations', 'disattributions', 'discapacitating', 'disciplinarians', 'disciplinariums', 'discolourations', 'discomboberated', 'discomboberates', 'discombobulated', 'discombobulates', 'discommendation', 'discommissioned', 'discommodiously', 'disconcertingly', 'disconcertments', 'disconfirmation', 'disconformities', 'disconsolations', 'discontentments', 'discontiguities', 'discontinuances', 'discontinuation', 'discontinuities', 'discontinuously', 'discountenanced', 'discountenances', 'discouragements', 'discretionarily', 'discriminations', 'disembarkations', 'disembarrassing', 'disembellishing', 'disemboguements', 'disembowelments', 'disempowerments', 'disenchantingly', 'disenchantments', 'disencumberment', 'disencumbrances', 'disenfranchised', 'disenfranchises', 'disentanglement', 'disenthrallment', 'disenthralments', 'disentrainments', 'disentrancement', 'disequilibrated', 'disequilibrates', 'disequilibriums', 'disestablishing', 'disfeaturements', 'disforestations', 'disfurnishments', 'disgracefulness', 'disgruntlements', 'disguisednesses', 'disgustednesses', 'dishabilitating', 'dishabilitation', 'disharmoniously', 'dishearteningly', 'disheartenments', 'disilluminating', 'disillusionised', 'disillusionises', 'disillusionized', 'disillusionizes', 'disillusionment', 'disimprisonment', 'disincarcerated', 'disincarcerates', 'disinclinations', 'disincorporated', 'disincorporates', 'disinfestations', 'disinflationary', 'disinformations', 'disinheritances', 'disintegrations', 'disinterestedly', 'disintoxicating', 'disintoxication', 'disinvestitures', 'disinvigorating', 'disnaturalising', 'disnaturalizing', 'disobligingness', 'disorganisation', 'disorganization', 'disorientations', 'disparatenesses', 'dispassionately', 'dispensableness', 'dispersednesses', 'displeasingness', 'displenishments', 'disposabilities', 'disproportional', 'disproportioned', 'disputabilities', 'disputativeness', 'disquisitionary', 'disreputability', 'disrespectfully', 'dissatisfaction', 'dissatisfactory', 'dissertationist', 'dissimilarities', 'dissociableness', 'dissolubilities', 'dissolutenesses', 'dissolutionisms', 'dissolutionists', 'dissolvableness', 'distastefulness', 'distemperatures', 'distinctiveness', 'distinguishable', 'distinguishably', 'distinguishment', 'distortednesses', 'distractibility', 'distressfulness', 'distrustfulness', 'dithiocarbamate', 'dithyrambically', 'diversification', 'divertibilities', 'divertissements', 'divisiblenesses', 'doctrinarianism', 'documentarising', 'documentarizing', 'documentational', 'dodecasyllables', 'dolichocephalic', 'dolichosauruses', 'dolomitisations', 'dolomitizations', 'domineeringness', 'dorsibranchiate', 'dorsiventrality', 'dorsoventrality', 'doubtlessnesses', 'downheartedness', 'downregulations', 'downrightnesses', 'dramaturgically', 'draughtsmanship', 'dreadlessnesses', 'dreamlessnesses', 'drinkablenesses', 'duplicabilities', 'durchkomponiert', 'dyslogistically', 'dysmorphophobia', 'dysteleological', 'dysteleologists', 'earthshattering', 'easygoingnesses', 'ebullioscopical', 'eburnifications', 'ecclesiasticism', 'ecclesiolatries', 'ecclesiological', 'ecclesiologists', 'eccremocarpuses', 'echinodermatous', 'echocardiograms', 'eclaircissement', 'ecocatastrophes', 'econometrically', 'econometricians', 'ecophysiologies', 'ecotoxicologies', 'ecotoxicologist', 'ectomycorrhizae', 'ectomycorrhizas', 'edriophthalmian', 'edriophthalmous', 'educatabilities', 'educationalists', 'effectivenesses', 'effectualnesses', 'effervescencies', 'efficaciousness', 'effortfulnesses', 'egalitarianisms', 'eggheadednesses', 'egocentricities', 'egregiousnesses', 'elaboratenesses', 'electioneerings', 'electrification', 'electroacoustic', 'electroactivity', 'electroanalyses', 'electroanalysis', 'electroanalytic', 'electrochemical', 'electrochemists', 'electrocultures', 'electrodeposits', 'electrodialyses', 'electrodialysis', 'electrodialytic', 'electrodynamics', 'electrofishings', 'electroformings', 'electrogildings', 'electrographies', 'electrokinetics', 'electrolysation', 'electrolyzation', 'electromagnetic', 'electrometrical', 'electromotances', 'electromyograms', 'electromyograph', 'electronegative', 'electrophoresed', 'electrophoreses', 'electrophoresis', 'electrophoretic', 'electrophoruses', 'electroplatings', 'electropositive', 'electroreceptor', 'electrorheology', 'electrosurgical', 'electrotechnics', 'electrothermics', 'electrothermies', 'electrovalences', 'electrovalently', 'electrowinnings', 'eleutherococcus', 'eleutherodactyl', 'eleutheromanias', 'eleutherophobia', 'eleutherophobic', 'eliminabilities', 'emancipationist', 'embracingnesses', 'embryologically', 'emotionlessness', 'empiricalnesses', 'employabilities', 'empoverishments', 'empyreumatising', 'empyreumatizing', 'emulsifications', 'enantiomorphies', 'enantiomorphism', 'enantiomorphous', 'encephalitogens', 'encephalographs', 'encephalography', 'encephalopathic', 'encephalotomies', 'enchondromatous', 'encomiastically', 'encyclopaedisms', 'encyclopaedists', 'endearingnesses', 'endocrinologies', 'endocrinologist', 'endocrinopathic', 'endonucleolytic', 'endoparasitisms', 'endoradiosondes', 'endothermically', 'endurablenesses', 'enfranchisement', 'engrainednesses', 'enhypostatising', 'enhypostatizing', 'enjoyablenesses', 'enterobacterial', 'enterobacterium', 'enterocolitises', 'enterogastrones', 'enterohepatitis', 'enthronisations', 'enthronizations', 'entomologically', 'entrepreneurial', 'enumerabilities', 'envenomisations', 'envenomizations', 'environmentally', 'epeirogenically', 'ephemeralnesses', 'ephemeropterans', 'epichlorohydrin', 'epicondylitises', 'epidemiological', 'epidemiologists', 'epigrammatisers', 'epigrammatising', 'epigrammatizers', 'epigrammatizing', 'epiphenomenally', 'episcopalianism', 'epistemological', 'epistemologists', 'epithelialising', 'epithelializing', 'epitheliomatous', 'epithelisations', 'epithelizations', 'epizootiologies', 'equalitarianism', 'equiponderances', 'equiponderating', 'equiprobability', 'equitablenesses', 'equivocalnesses', 'ergatandromorph', 'erroneousnesses', 'erythromelalgia', 'erythropoietins', 'essentialnesses', 'esterifications', 'estimablenesses', 'estrangednesses', 'eternalisations', 'eternalizations', 'etherealisation', 'etherealization', 'etherifications', 'ethnocentricity', 'ethnohistorians', 'ethnohistorical', 'ethnolinguistic', 'ethnomusicology', 'eudaemonistical', 'eudiometrically', 'euphemistically', 'eutrophications', 'evangelicalisms', 'evangelicalness', 'evangelisations', 'evangelistaries', 'evangelistarion', 'evangelizations', 'evaporabilities', 'everlastingness', 'evocativenesses', 'exacerbescences', 'exaggeratedness', 'examinabilities', 'exceptionalisms', 'exceptionalness', 'excessivenesses', 'exchangeability', 'excitablenesses', 'exclaustrations', 'excludabilities', 'exclusivenesses', 'excommunicating', 'excommunication', 'excommunicative', 'excommunicators', 'excommunicatory', 'excrementitious', 'excursivenesses', 'excusablenesses', 'execrablenesses', 'exemplarinesses', 'exemplification', 'exemplificative', 'exhaustlessness', 'exhibitionistic', 'existentialisms', 'existentialists', 'exoerythrocytic', 'exothermicities', 'expandabilities', 'expansibilities', 'expansivenesses', 'expeditiousness', 'expendabilities', 'expensivenesses', 'experientialism', 'experientialist', 'experimentalise', 'experimentalism', 'experimentalist', 'experimentalize', 'experimentation', 'experimentative', 'explorationists', 'explosivenesses', 'exponentiations', 'exportabilities', 'expostulatingly', 'expressionistic', 'exquisitenesses', 'exsanguinations', 'extemporariness', 'extemporisation', 'extemporization', 'extendabilities', 'extendibilities', 'extensibilities', 'extensification', 'extensionalisms', 'extensivenesses', 'extensivisation', 'extensivization', 'exteriorisation', 'exteriorization', 'externalisation', 'externalization', 'exterritorially', 'extinguishments', 'extracellularly', 'extracurricular', 'extrajudicially', 'extralinguistic', 'extraordinaries', 'extraordinarily', 'extrudabilities', 'facetiousnesses', 'factorabilities', 'faithlessnesses', 'faithworthiness', 'familiarisation', 'familiarization', 'fanaticalnesses', 'fantasticalness', 'fantastications', 'farthingsworths', 'fashionableness', 'fatheadednesses', 'fatigablenesses', 'faultlessnesses', 'favorablenesses', 'featherbeddings', 'featherstitched', 'featherstitches', 'featurelessness', 'federalisations', 'federalizations', 'feloniousnesses', 'fencelessnesses', 'ferociousnesses', 'ferrimagnetisms', 'ferromagnetisms', 'ferromanganeses', 'ferromolybdenum', 'ferroprussiates', 'fetishistically', 'feuilletonistic', 'fibrinopeptides', 'fibrocartilages', 'fictionisations', 'fictionizations', 'fideicommissary', 'filterabilities', 'fingerprintings', 'fissiparousness', 'flagellomaniacs', 'flashforwarding', 'flavourdynamics', 'flexitarianisms', 'flibbertigibbet', 'flirtatiousness', 'floriculturists', 'floriferousness', 'foolhardinesses', 'forensicalities', 'foreordainments', 'foreordinations', 'foreshortenings', 'foresightedness', 'forgetfulnesses', 'forgivingnesses', 'forgottennesses', 'forisfamiliated', 'forisfamiliates', 'formalistically', 'formativenesses', 'formidabilities', 'formularisation', 'formularization', 'forthcomingness', 'fortunatenesses', 'fractionalising', 'fractionalizing', 'fractionisation', 'fractionization', 'fractiousnesses', 'fragmentariness', 'frangiblenesses', 'fraternisations', 'fraternizations', 'frenchification', 'frightfulnesses', 'frivolousnesses', 'fructifications', 'fructuousnesses', 'fruitlessnesses', 'fugaciousnesses', 'functionalistic', 'functionalities', 'fundamentalisms', 'fundamentalists', 'fundamentalness', 'fungistatically', 'furaciousnesses', 'furfuraldehydes', 'futilitarianism', 'galactopoietics', 'galvanometrical', 'galvanoplasties', 'galvanotropisms', 'gamogenetically', 'garrulousnesses', 'gastroenteritic', 'gastroenteritis', 'gastronomically', 'gelatinisations', 'gelatinizations', 'generalisations', 'generalizations', 'genethlialogies', 'gentlemanliness', 'gentrifications', 'geochronologies', 'geochronologist', 'geodemographics', 'geohydrologists', 'geomagnetically', 'geometrisations', 'geometrizations', 'geomorphogenies', 'geomorphogenist', 'geomorphologies', 'geomorphologist', 'geostrophically', 'geotechnologies', 'geotectonically', 'geothermometers', 'germinabilities', 'gerrymanderings', 'gewurztraminers', 'glamorousnesses', 'glossographical', 'glucocorticoids', 'gluconeogeneses', 'gluconeogenesis', 'glutaraldehydes', 'glutinousnesses', 'glyceraldehydes', 'glyconeogeneses', 'glyconeogenesis', 'glyphographical', 'glyptographical', 'gnathostomatous', 'gnotobiological', 'gnotobiotically', 'goniometrically', 'goodfellowships', 'governabilities', 'governmentalise', 'governmentalism', 'governmentalist', 'governmentalize', 'gracelessnesses', 'grammaticalness', 'grammaticasters', 'grammatologists', 'gramophonically', 'grandiloquences', 'grandiloquently', 'grandiosenesses', 'grandparenthood', 'grangerisations', 'grangerizations', 'granitification', 'granulitisation', 'granulitization', 'graphicalnesses', 'graphitisations', 'graphitizations', 'gravimetrically', 'graviperception', 'gravitationally', 'greensicknesses', 'greisenisations', 'greisenizations', 'grotesquenesses', 'groundbreakings', 'guilelessnesses', 'guiltlessnesses', 'gutturalisation', 'gutturalization', 'gynandromorphic', 'gyrofrequencies', 'gyrostabilisers', 'gyrostabilizers', 'habitablenesses', 'haemacytometers', 'haemagglutinate', 'haemagglutinins', 'haemocytometers', 'haemoflagellate', 'haemoglobinuria', 'halfheartedness', 'halfpennyworths', 'hallucinational', 'hallucinogenics', 'hamamelidaceous', 'haphazardnesses', 'hardheartedness', 'harmonistically', 'harpsichordists', 'hazardousnesses', 'headmasterships', 'healthfulnesses', 'heartbreakingly', 'heartbrokenness', 'heartlessnesses', 'heartsicknesses', 'heartsomenesses', 'heliocentricism', 'heliocentricity', 'heliometrically', 'heliosciophytes', 'heliotropically', 'helminthologies', 'helminthologist', 'hemagglutinated', 'hemagglutinates', 'hematoporphyrin', 'hemicryptophyte', 'hemicrystalline', 'hemochromatoses', 'hemochromatosis', 'hemodynamically', 'hemoflagellates', 'hemoglobinurias', 'hendecasyllabic', 'hendecasyllable', 'hepaticological', 'hepaticologists', 'herbivorousness', 'hereditarianism', 'hereditarianist', 'heresiographers', 'heresiographies', 'herestheticians', 'hermaphroditism', 'hermeneutically', 'herniorrhaphies', 'heterocercality', 'heterochromatic', 'heterochromatin', 'heterochronisms', 'heterodactylous', 'heteroflexibles', 'heterogeneities', 'heterogeneously', 'heterographical', 'heteromorphisms', 'heteroscedastic', 'heterosexuality', 'heterosociality', 'heterostrophies', 'heterothallisms', 'hexachlorethane', 'hexachlorophane', 'hexachlorophene', 'hexosaminidases', 'hexylresorcinol', 'hieracosphinges', 'hieracosphinxes', 'hierogrammatist', 'hilariousnesses', 'histochemically', 'histocompatible', 'histopathologic', 'histophysiology', 'historiographer', 'historiographic', 'hobbledehoydoms', 'hobbledehoyhood', 'hobbledehoyisms', 'hoidenishnesses', 'holoblastically', 'holocrystalline', 'holographically', 'holometabolisms', 'homeopathically', 'homocentrically', 'homochlamydeous', 'homochromatisms', 'homoeomorphisms', 'homoeoteleutons', 'homogeneousness', 'homogenisations', 'homogenizations', 'homoplastically', 'homosexualities', 'homosocialities', 'homotransplants', 'honorablenesses', 'horizontalities', 'horticulturally', 'horticulturists', 'hospitalisation', 'hospitalization', 'hotheadednesses', 'householdership', 'houselessnesses', 'housemistresses', 'housewifeliness', 'hoydenishnesses', 'huckleberryings', 'humanitarianism', 'humanitarianist', 'humidifications', 'humorlessnesses', 'hydrobiological', 'hydrobiologists', 'hydrocelluloses', 'hydrocephaluses', 'hydrocorallines', 'hydrocortisones', 'hydrodynamicist', 'hydroextractors', 'hydrogenisation', 'hydrogenization', 'hydrogeological', 'hydrogeologists', 'hydromechanical', 'hydrometallurgy', 'hydrometrically', 'hydropathically', 'hydrostatically', 'hydrosulphurous', 'hydrotherapists', 'hydrotropically', 'hydroxyapatites', 'hydroxybutyrate', 'hydroxylapatite', 'hydroxyprolines', 'hyetometrograph', 'hygrometrically', 'hygroscopically', 'hylozoistically', 'hyperactivities', 'hyperadrenalism', 'hyperaesthesias', 'hyperaggressive', 'hypercalcaemias', 'hypercatabolism', 'hypercatalectic', 'hypercoagulable', 'hypercorrection', 'hypercritically', 'hypercriticised', 'hypercriticises', 'hypercriticisms', 'hypercriticized', 'hypercriticizes', 'hyperexcitement', 'hyperexcretions', 'hyperextensions', 'hyperfastidious', 'hyperfunctional', 'hyperglycaemias', 'hyperimmunising', 'hyperimmunizing', 'hyperinflations', 'hyperinsulinism', 'hyperinvolution', 'hyperlipidaemia', 'hyperlipidemias', 'hypermetabolism', 'hypermetropical', 'hypermobilities', 'hypermodernists', 'hypermutability', 'hypernatraemias', 'hyperparasitism', 'hyperphysically', 'hyperpolarising', 'hyperpolarizing', 'hyperproduction', 'hyperreactivity', 'hyperresponsive', 'hypersalinities', 'hypersalivation', 'hypersecretions', 'hypersensitised', 'hypersensitises', 'hypersensitized', 'hypersensitizes', 'hypersomnolence', 'hyperstimulated', 'hyperstimulates', 'hyperthyroidism', 'hypertonicities', 'hypervelocities', 'hyperventilated', 'hyperventilates', 'hypervigilances', 'hypnotherapists', 'hypnotisability', 'hypnotizability', 'hypochondriacal', 'hypochondriases', 'hypochondriasis', 'hypochondriasms', 'hypochondriasts', 'hypocrystalline', 'hypomagnesaemia', 'hypomagnesemias', 'hypomenorrhoeas', 'hypophosphorous', 'hypopituitarism', 'hyposensitising', 'hyposensitizing', 'hypostasisation', 'hypostasization', 'hypostatisation', 'hypostatization', 'hypothyroidisms', 'hypoventilation', 'hypsometrically', 'hysterectomised', 'hysterectomises', 'hysterectomized', 'hysterectomizes', 'hystricomorphic', 'iatrogenicities', 'ichthyodorulite', 'ichthyodorylite', 'ichthyophagists', 'ichthyosaurians', 'ichthyosauruses', 'icositetrahedra', 'identicalnesses', 'identifications', 'ideographically', 'idiomaticalness', 'idiomaticnesses', 'idiomorphically', 'idiosyncratical', 'idioticalnesses', 'ignominiousness', 'illegalisations', 'illegalizations', 'illegiblenesses', 'illegitimations', 'illiberalnesses', 'illimitableness', 'illogicalnesses', 'illustriousness', 'imaginarinesses', 'imaginativeness', 'imitativenesses', 'immaterialising', 'immaterialities', 'immaterializing', 'immeasurability', 'immediatenesses', 'immedicableness', 'immensurability', 'immiscibilities', 'immiserisations', 'immiserizations', 'immobilisations', 'immobilizations', 'immortalisation', 'immortalization', 'immovablenesses', 'immoveabilities', 'immunoassayable', 'immunoassayists', 'immunoblottings', 'immunochemistry', 'immunocompetent', 'immunocomplexes', 'immunodeficient', 'immunodiagnoses', 'immunodiagnosis', 'immunodiffusion', 'immunogenetical', 'immunogenically', 'immunoglobulins', 'immunologically', 'immunomodulator', 'immunopathology', 'immunoreactions', 'immunotherapies', 'immutablenesses', 'impalpabilities', 'impartialnesses', 'impartibilities', 'impassabilities', 'impassibilities', 'impassionedness', 'impassivenesses', 'impeccabilities', 'impecuniosities', 'impecuniousness', 'impenetrability', 'imperfectnesses', 'imperiousnesses', 'imperishability', 'impermeableness', 'imperscriptible', 'impersonalising', 'impersonalities', 'impersonalizing', 'imperturbations', 'imperviableness', 'impetuousnesses', 'implacabilities', 'implausibleness', 'implementations', 'implicativeness', 'impoliticnesses', 'imponderability', 'importabilities', 'importunateness', 'impossibilities', 'imposthumations', 'impoverishments', 'impracticalness', 'imprecisenesses', 'impregnableness', 'imprescriptible', 'imprescriptibly', 'impressionistic', 'improbabilities', 'improvabilities', 'improvisational', 'improvisatorial', 'improvisatrices', 'improvisatrixes', 'improvvisatores', 'improvvisatrice', 'impulsivenesses', 'imputablenesses', 'inaccessibility', 'inadmissibility', 'inadvisableness', 'inalienableness', 'inalterableness', 'inanimatenesses', 'inapplicability', 'inappreciations', 'inapprehensible', 'inapprehensions', 'inappropriately', 'inarticulations', 'inattentiveness', 'inaudiblenesses', 'incalculability', 'incandescencies', 'incapablenesses', 'incapaciousness', 'incapacitations', 'incentivisation', 'incentivization', 'incessantnesses', 'inclementnesses', 'inclusivenesses', 'incommensurable', 'incommensurably', 'incommunicative', 'incommutability', 'incomparability', 'incompatibility', 'incomprehension', 'incomprehensive', 'incomputability', 'incongruousness', 'inconsecutively', 'inconsequential', 'inconsiderately', 'inconsideration', 'inconsistencies', 'inconsolability', 'inconspicuously', 'inconveniencies', 'inconveniencing', 'incoordinations', 'incorrectnesses', 'incorrigibility', 'incorruptnesses', 'incredibilities', 'incredulousness', 'incrementalisms', 'incrementalists', 'incrossbreeding', 'inculpabilities', 'incurablenesses', 'incuriousnesses', 'indefeasibility', 'indefectibility', 'indefensibility', 'indefinableness', 'indeliblenesses', 'indemnification', 'indeterminacies', 'indeterminately', 'indetermination', 'indeterministic', 'indifferentisms', 'indifferentists', 'indigenisations', 'indigenizations', 'indigestibility', 'indisciplinable', 'indiscretionary', 'indisputability', 'indissolubility', 'indistinctively', 'indistributable', 'individualisers', 'individualising', 'individualistic', 'individualities', 'individualizers', 'individualizing', 'indivisibleness', 'indoctrinations', 'indomitableness', 'indubitableness', 'inductivenesses', 'industrialising', 'industrializing', 'industriousness', 'ineducabilities', 'ineffablenesses', 'ineffaceability', 'ineffectiveness', 'ineffectualness', 'inefficaciously', 'ineligibilities', 'ineludibilities', 'inequitableness', 'ineradicability', 'inerrablenesses', 'inestimableness', 'inevitabilities', 'inexcusableness', 'inexorabilities', 'inexpensiveness', 'inexplicability', 'inexpugnability', 'inextensibility', 'inextricability', 'infallibilities', 'infantilisation', 'infantilization', 'infeasibilities', 'infectivenesses', 'infinitesimally', 'inflammableness', 'inflectednesses', 'inflexibilities', 'informationally', 'informativeness', 'infralapsarians', 'infrangibleness', 'infrastructural', 'infrastructures', 'infundibuliform', 'infusiblenesses', 'ingeniousnesses', 'ingenuousnesses', 'ingrainednesses', 'inharmonicities', 'inheritableness', 'inhomogeneities', 'inhospitalities', 'inimitabilities', 'initialisations', 'initializations', 'injudiciousness', 'injuriousnesses', 'innocuousnesses', 'innoxiousnesses', 'innumerableness', 'inobtrusiveness', 'inoculabilities', 'inodorousnesses', 'inoffensiveness', 'inofficiousness', 'inoperabilities', 'inoperativeness', 'inopportuneness', 'inopportunities', 'inorganisations', 'inorganizations', 'inquisitionists', 'inquisitiveness', 'inquisitorially', 'insatiabilities', 'insatiatenesses', 'inscribableness', 'inscrutableness', 'insensatenesses', 'insensibilities', 'insensitiveness', 'insensitivities', 'inseparableness', 'insidiousnesses', 'insignificances', 'insignificantly', 'insignificative', 'insociabilities', 'insolublenesses', 'insolvabilities', 'inspirationally', 'inspirationisms', 'inspirationists', 'instantaneities', 'instantaneously', 'instinctivities', 'institutionally', 'instructiveness', 'instructorships', 'instrumentalism', 'instrumentalist', 'instrumentality', 'instrumentation', 'insubordinately', 'insubordination', 'insubstantially', 'insufficiencies', 'insuperableness', 'insurrectionary', 'insurrectionism', 'insurrectionist', 'intangibilities', 'integrabilities', 'integrationists', 'intellectualise', 'intellectualism', 'intellectualist', 'intellectuality', 'intellectualize', 'intelligentsias', 'intelligentzias', 'intelligibility', 'intemperateness', 'intensification', 'intensivenesses', 'interactionisms', 'interactionists', 'interactivities', 'interambulacral', 'interambulacrum', 'interanimations', 'interbehavioral', 'interchangeable', 'interchangeably', 'interchangement', 'interclavicular', 'intercollegiate', 'intercolonially', 'intercommunions', 'intercomparison', 'interconnecting', 'interconnection', 'interconnectors', 'interconnexions', 'interconversion', 'interconverting', 'intercorrelated', 'intercorrelates', 'interculturally', 'interdependence', 'interdependency', 'interdiffusions', 'interdigitating', 'interdigitation', 'interdivisional', 'interelectronic', 'interestingness', 'interfascicular', 'interferometers', 'interferometric', 'interfraternity', 'intergeneration', 'intergradations', 'interindividual', 'interinfluences', 'interiorisation', 'interiorization', 'interjaculating', 'interjaculatory', 'interjectionary', 'interlacustrine', 'interlaminating', 'interlamination', 'interlineations', 'interlocutorily', 'interlocutrices', 'interlocutrixes', 'intermediations', 'intermigrations', 'interminability', 'intermittencies', 'intermodulation', 'internalisation', 'internalization', 'internationally', 'internucleotide', 'interosculating', 'interosculation', 'interparoxysmal', 'interpellations', 'interpenetrable', 'interpenetrated', 'interpenetrates', 'interperceptual', 'interpermeating', 'interpersonally', 'interphalangeal', 'interpopulation', 'interpretations', 'interpretership', 'interpretresses', 'interprovincial', 'interpunctuated', 'interpunctuates', 'interrogatingly', 'interrogational', 'interrogatively', 'interrogatories', 'interrogatorily', 'interscholastic', 'intersexualisms', 'interstratified', 'interstratifies', 'intersubjective', 'intertanglement', 'intertentacular', 'intertextuality', 'intertwinements', 'intertwistingly', 'interuniversity', 'intervalometers', 'interventionism', 'interventionist', 'intervisibility', 'intervisitation', 'interweavements', 'intolerableness', 'intracellularly', 'intracerebrally', 'intractableness', 'intradermically', 'intrafascicular', 'intramuscularly', 'intransigeances', 'intransigeantly', 'intransigencies', 'intransigentism', 'intransigentist', 'intransmissible', 'intraperitoneal', 'intrapopulation', 'intrapreneurial', 'intravascularly', 'intricatenesses', 'intrinsicalness', 'introspectional', 'introspectively', 'introsusception', 'intrusivenesses', 'intuitionalisms', 'intuitionalists', 'intuitivenesses', 'intussuscepting', 'intussusception', 'intussusceptive', 'invariabilities', 'invectivenesses', 'invendibilities', 'inventivenesses', 'invertibilities', 'investigational', 'invidiousnesses', 'invincibilities', 'inviolabilities', 'inviolatenesses', 'invisiblenesses', 'involuntariness', 'invulnerability', 'ionospherically', 'irasciblenesses', 'irrationalising', 'irrationalistic', 'irrationalities', 'irrationalizing', 'irreciprocities', 'irreconcilables', 'irreconcilement', 'irredeemability', 'irreducibleness', 'irreductibility', 'irreformability', 'irrefragability', 'irrefutableness', 'irreligiousness', 'irremissibility', 'irremovableness', 'irreparableness', 'irrepealability', 'irreprehensible', 'irreprehensibly', 'irresistibility', 'irresolvability', 'irretentiveness', 'irreversibility', 'irrevocableness', 'irritablenesses', 'ismaticalnesses', 'isoimmunisation', 'isoimmunization', 'isoperimetrical', 'iterativenesses', 'journalisations', 'journalizations', 'judiciousnesses', 'jurisprudential', 'justifiableness', 'juxtapositional', 'kaffeeklatsches', 'karstifications', 'katathermometer', 'kenogenetically', 'keratinisations', 'keratinizations', 'kindergarteners', 'kindheartedness', 'kinematographer', 'kinematographic', 'kinesitherapies', 'kinesthetically', 'kinetheodolites', 'kinetonucleuses', 'kittenishnesses', 'knowledgability', 'kremlinologists', 'laboriousnesses', 'labyrinthically', 'labyrinthitises', 'labyrinthodonts', 'lackadaisically', 'lactiferousness', 'lactovegetarian', 'lamellirostrate', 'lapidifications', 'laryngectomised', 'laryngectomized', 'laryngoscopists', 'latensification', 'lateralisations', 'lateralizations', 'latitudinarians', 'laughablenesses', 'lecherousnesses', 'legerdemainists', 'legislatorships', 'legitimisations', 'legitimizations', 'leisurelinesses', 'lepidodendroids', 'lepidopterology', 'leucocythaemias', 'leucocytopenias', 'leukaemogeneses', 'leukaemogenesis', 'levelheadedness', 'lexicalisations', 'lexicalizations', 'lexicographical', 'lexicographists', 'lexicologically', 'liberalisations', 'liberalizations', 'libertarianisms', 'licentiateships', 'lickerishnesses', 'lieutenantships', 'lightfastnesses', 'lightsomenesses', 'lignocelluloses', 'lignocellulosic', 'lignosulfonates', 'limitablenesses', 'limitlessnesses', 'lionheartedness', 'lipodystrophies', 'lipogrammatisms', 'lipogrammatists', 'liquorishnesses', 'lissencephalous', 'listenabilities', 'literalisations', 'literalizations', 'lithesomenesses', 'lithochromatics', 'lithonthryptics', 'lithontriptists', 'litigiousnesses', 'liturgiologists', 'loathsomenesses', 'logarithmically', 'logographically', 'longsightedness', 'lophobranchiate', 'lucrativenesses', 'ludicrousnesses', 'lumberingnesses', 'luxuriousnesses', 'lymphadenitises', 'lymphadenopathy', 'lymphangiograms', 'lymphoadenomata', 'lymphocytopenia', 'lymphogranuloma', 'lymphosarcomata', 'lyophilisations', 'lyophilizations', 'lysogenisations', 'lysogenizations', 'macadamisations', 'macadamizations', 'machinabilities', 'macrencephalias', 'macrencephalies', 'macroaggregated', 'macroaggregates', 'macrocosmically', 'macroevolutions', 'macrophotograph', 'macroscopically', 'macrosporangium', 'macrostructural', 'macrostructures', 'maddeningnesses', 'magisterialness', 'magistrateships', 'magistratically', 'magnanimousness', 'magnetochemical', 'magnetoelectric', 'magnificentness', 'maintainability', 'majoritarianism', 'malacopterygian', 'maladministered', 'maladroitnesses', 'malappropriated', 'malappropriates', 'malassimilation', 'malconformation', 'maldistribution', 'malfunctionings', 'maliciousnesses', 'malleablenesses', 'malpractitioner', 'malpresentation', 'manageabilities', 'maneuverability', 'manifestational', 'manneristically', 'manoeuvrability', 'marconigraphing', 'margaritiferous', 'marginalisation', 'marginalization', 'marketabilities', 'marriageability', 'martensitically', 'marvelousnesses', 'masculinenesses', 'masculinisation', 'masculinization', 'masochistically', 'massotherapists', 'masterfulnesses', 'mastoidectomies', 'matchlessnesses', 'materfamiliases', 'materialisation', 'materialistical', 'materialization', 'mathematicising', 'mathematicizing', 'mathematisation', 'mathematization', 'matriarchalisms', 'matrifocalities', 'matrilocalities', 'meaninglessness', 'measurabilities', 'measurelessness', 'mechanistically', 'mechanochemical', 'mechanomorphism', 'mechanoreceptor', 'medicalisations', 'medicalizations', 'medulloblastoma', 'megacorporation', 'megagametophyte', 'megalocephalies', 'megalocephalous', 'megasporophylls', 'megavertebrates', 'melancholically', 'mellifluousness', 'melodiousnesses', 'melodramatising', 'melodramatizing', 'memorablenesses', 'memorialisation', 'memorialization', 'menispermaceous', 'mensurabilities', 'mentalistically', 'mercaptopurines', 'mercenarinesses', 'merchantability', 'mercilessnesses', 'mercurialnesses', 'meridionalities', 'meritoriousness', 'meroblastically', 'mesaticephalies', 'mesaticephalous', 'metachromatisms', 'metacinnabarite', 'metafictionists', 'metagenetically', 'metagrabolising', 'metagrabolizing', 'metagrobolising', 'metagrobolizing', 'metalinguistics', 'metallographers', 'metallographies', 'metallographist', 'metallurgically', 'metamathematics', 'metamictisation', 'metamictization', 'metamorphically', 'metaphysicising', 'metaphysicizing', 'metastabilities', 'metatheoretical', 'metempsychosist', 'methaemoglobins', 'methamphetamine', 'methoxybenzenes', 'methoxyfluranes', 'methylcellulose', 'methylmercuries', 'methylphenidate', 'methylthionines', 'methylxanthines', 'metropolitanate', 'metropolitanise', 'metropolitanism', 'metropolitanize', 'microaerophiles', 'microaerophilic', 'microanalytical', 'microanatomical', 'microbarographs', 'microbiological', 'microbiologists', 'microcomponents', 'microcomputings', 'microcosmically', 'microdetections', 'microdissection', 'microearthquake', 'microelectrodes', 'microelectronic', 'microevolutions', 'microgametocyte', 'microinjections', 'micromanagement', 'micromarketings', 'micrometeorites', 'micrometeoritic', 'micrometeoroids', 'micromicrocurie', 'micromicrofarad', 'micromillimetre', 'micromorphology', 'micropegmatites', 'micropegmatitic', 'microphotograph', 'microphotometer', 'microphotometry', 'microphysically', 'microporosities', 'microprocessing', 'microprocessors', 'microprojection', 'microprojectors', 'micropublishers', 'micropublishing', 'micropulsations', 'micropyrometers', 'microradiograph', 'microsatellites', 'microscopically', 'microseismicity', 'microsporangium', 'microsporocytes', 'microsporophyll', 'microstructural', 'microstructures', 'microtechniques', 'microtechnology', 'microtonalities', 'microtunnelling', 'middelmannetjie', 'militarisations', 'militarizations', 'millenarianisms', 'millionairesses', 'mineralisations', 'mineralizations', 'mineralogically', 'miniaturisation', 'miniaturization', 'ministerialists', 'mirthlessnesses', 'misacceptations', 'misapplications', 'misappreciating', 'misappreciation', 'misappreciative', 'misapprehending', 'misapprehension', 'misapprehensive', 'misappropriated', 'misappropriates', 'misarrangements', 'misarticulating', 'misattributions', 'misbecomingness', 'miscalculations', 'miscegenational', 'miscellanarians', 'miscellaneously', 'mischaracterise', 'mischaracterize', 'mischievousness', 'miscomprehended', 'miscomputations', 'misconjecturing', 'misconstructing', 'misconstruction', 'miscontentments', 'miscorrelations', 'misdescriptions', 'misdistribution', 'miserablenesses', 'misgovernaunces', 'misguidednesses', 'misimprovements', 'misinformations', 'misinstructions', 'misintelligence', 'misinterpreters', 'misinterpreting', 'mismeasurements', 'misorientations', 'misproportioned', 'mispunctuations', 'misrecollection', 'misregistration', 'misrepresenters', 'misrepresenting', 'misshapennesses', 'missionisations', 'missionizations', 'mistranscribing', 'mistranslations', 'mistrustfulness', 'misutilisations', 'misutilizations', 'misvocalisation', 'misvocalization', 'modernistically', 'modifiabilities', 'momentarinesses', 'momentousnesses', 'mongrelisations', 'mongrelizations', 'monochlamydeous', 'monochromatisms', 'monocrystalline', 'monographically', 'monolingualisms', 'monomolecularly', 'mononucleotides', 'monophthongised', 'monophthongises', 'monophthongized', 'monophthongizes', 'monopolisations', 'monopolizations', 'monopropellants', 'monosaccharides', 'monospecificity', 'monosyllabicity', 'monosymmetrical', 'monounsaturated', 'monounsaturates', 'monstrousnesses', 'montmorillonite', 'monumentalising', 'monumentalities', 'monumentalizing', 'morbilliviruses', 'morphinomaniacs', 'morphologically', 'morphophonemics', 'mortiferousness', 'mountainboarder', 'mountaineerings', 'mountainousness', 'mountebankeries', 'mouthwateringly', 'mucosanguineous', 'multiarticulate', 'multicurrencies', 'multidiscipline', 'multidivisional', 'multifunctional', 'multilateralism', 'multilateralist', 'multilingualism', 'multilocational', 'multimillennial', 'multinucleolate', 'multiplications', 'multipolarities', 'multiprocessing', 'multiprocessors', 'multiracialisms', 'multithreadings', 'multitudinously', 'multiwavelength', 'murderousnesses', 'musculoskeletal', 'musicalisations', 'musicalizations', 'musicologically', 'musicotherapies', 'myelencephalons', 'mylonitisations', 'mylonitizations', 'myocardiographs', 'myristicivorous', 'mythologisation', 'mythologization', 'narcoterrorisms', 'narcoterrorists', 'nationalisation', 'nationalization', 'naturalisations', 'naturalizations', 'navigablenesses', 'nearsightedness', 'nebuchadnezzars', 'necessarianisms', 'necessarinesses', 'necessitousness', 'necromantically', 'nefariousnesses', 'neglectednesses', 'negligibilities', 'negotiabilities', 'neighbourliness', 'nemathelminthic', 'neoarsphenamine', 'neocolonialisms', 'neocolonialists', 'neoconservatism', 'neoconservative', 'neologistically', 'nephrectomising', 'nephrectomizing', 'nephroblastomas', 'nervelessnesses', 'neuroanatomical', 'neuroanatomists', 'neurobiological', 'neurobiologists', 'neuroblastomata', 'neurocomputings', 'neuroethologies', 'neurofibrillary', 'neurohypophyses', 'neurohypophysis', 'neurolinguistic', 'neuromarketings', 'neuropathically', 'neuropathologic', 'neurophysiology', 'neuropsychiatry', 'neuropsychology', 'neuroscientific', 'neuroscientists', 'neurosecretions', 'neurosurgically', 'neurotoxicities', 'neutralisations', 'neutralizations', 'newfanglenesses', 'niggardlinesses', 'nightmarishness', 'nincompooperies', 'nitrocelluloses', 'nitrochloroform', 'nitrogenisation', 'nitrogenization', 'nitroglycerines', 'nitwittednesses', 'noctambulations', 'noiselessnesses', 'nominalisations', 'nominalizations', 'nomographically', 'nonachievements', 'nonadditivities', 'nonagricultural', 'nonantagonistic', 'nonarchitecture', 'nonaristocratic', 'nonastronomical', 'nonavailability', 'nonbarbiturates', 'nonbelligerency', 'nonbelligerents', 'nonbiographical', 'nonbiologically', 'noncarcinogenic', 'noncelebrations', 'noncertificated', 'noncharismatics', 'noncognitivisms', 'noncoincidences', 'noncommissioned', 'noncompressible', 'noncomputerised', 'noncomputerized', 'nonconcurrences', 'nonconfidential', 'nonconformances', 'nonconformities', 'nonconservation', 'nonconservative', 'nonconsolidated', 'nonconstruction', 'nonconstructive', 'nonconsumptions', 'noncontemporary', 'noncontributory', 'noncontrollable', 'nonconventional', 'noncooperations', 'noncorrelations', 'noncreativities', 'noncredentialed', 'noncultivations', 'nondepartmental', 'nondescriptness', 'nondevelopments', 'nondisjunctions', 'nonelectrolytes', 'nonencapsulated', 'nonenforcements', 'nonequilibriums', 'nonequivalences', 'nonexperimental', 'nonexploitation', 'nonexploitative', 'nonflammability', 'nonfulfillments', 'nongovernmental', 'nonhierarchical', 'nonhospitalised', 'nonhospitalized', 'nonimplications', 'nonimportations', 'nonindependence', 'noninflammatory', 'noninflationary', 'noninflectional', 'noninformations', 'noninfringement', 'noninsecticidal', 'noninstallments', 'noninstrumental', 'nonintellectual', 'nonintercourses', 'noninterference', 'nonintersecting', 'nonintervention', 'nonintimidating', 'nonintoxicating', 'noninvolvements', 'nonmathematical', 'nonmatriculated', 'nonmetaphorical', 'nonmetropolitan', 'nonobjectivisms', 'nonobjectivists', 'nonoccupational', 'nonparticipants', 'nonpartisanship', 'nonpartizanship', 'nonperformances', 'nonphilosophers', 'nonphotographic', 'nonprescription', 'nonproductivity', 'nonprofessional', 'nonprofessorial', 'nonpsychiatrist', 'nonquantifiable', 'nonquantitative', 'nonrandomnesses', 'nonrecognitions', 'nonrecombinants', 'nonrelativistic', 'nonreproductive', 'nonsaponifiable', 'nonsedimentable', 'nonsegregations', 'nonsensicalness', 'nonsimultaneous', 'nonspecifically', 'nontotalitarian', 'nontransferable', 'nonuniformities', 'nonuniquenesses', 'norepinephrines', 'norethisterones', 'normativenesses', 'northcountryman', 'northcountrymen', 'northeasterlies', 'northeastwardly', 'northerlinesses', 'northwesterlies', 'northwestwardly', 'nothingarianism', 'noticeabilities', 'notoriousnesses', 'notwithstanding', 'novemdecillions', 'novocentenaries', 'nuclearisations', 'nuclearizations', 'nucleophilicity', 'nucleoplasmatic', 'nucleosyntheses', 'nucleosynthesis', 'nucleosynthetic', 'nudibranchiates', 'numismatologies', 'numismatologist', 'objectification', 'objectivenesses', 'obliviousnesses', 'obnoxiousnesses', 'observabilities', 'observationally', 'obsessivenesses', 'obstinatenesses', 'obstructionally', 'obstructionisms', 'obstructionists', 'obstructiveness', 'obtainabilities', 'obtrusivenesses', 'occasionalities', 'occidentalising', 'occidentalizing', 'occlusivenesses', 'oceanographical', 'ochlocratically', 'octocentenaries', 'odontorhynchous', 'odontostomatous', 'odoriferousness', 'oesophagoscopes', 'oestrogenically', 'offensivenesses', 'offhandednesses', 'officiousnesses', 'oligocythaemias', 'oligodendrocyte', 'oligodendroglia', 'oligomerisation', 'oligomerization', 'oligonucleotide', 'oligosaccharide', 'omnibenevolence', 'omnicompetences', 'omnidirectional', 'omnifariousness', 'omoplatoscopies', 'oncogeneticists', 'oneirocriticism', 'ontogenetically', 'onychocryptoses', 'onychocryptosis', 'oophorectomised', 'oophorectomises', 'oophorectomized', 'oophorectomizes', 'openheartedness', 'openmouthedness', 'operationalisms', 'operationalists', 'operativenesses', 'ophthalmologies', 'ophthalmologist', 'ophthalmometers', 'ophthalmophobia', 'ophthalmoplegia', 'ophthalmoscopes', 'ophthalmoscopic', 'opinionatedness', 'opisthognathism', 'opisthognathous', 'opisthographies', 'opportunenesses', 'opprobriousness', 'opsonifications', 'optimalisations', 'optimalizations', 'optoelectronics', 'oraculousnesses', 'orchesographies', 'orchestrational', 'organochlorines', 'organographical', 'organographists', 'organomercurial', 'organometallics', 'organophosphate', 'organotherapies', 'orientationally', 'ornithodelphian', 'ornithodelphous', 'ornithorhynchus', 'orthochromatism', 'orthodontically', 'orthogonalising', 'orthogonalities', 'orthogonalizing', 'orthophosphates', 'orthophosphoric', 'orthopsychiatry', 'oscillographies', 'osmoregulations', 'ostensibilities', 'osteoarthritics', 'osteomyelitises', 'osteopathically', 'ostreiculturist', 'outdoorsmanship', 'outmanipulating', 'outspokennesses', 'overaccentuated', 'overaccentuates', 'overachievement', 'overadjustments', 'overadvertising', 'overapplication', 'overarticulated', 'overarticulates', 'overassessments', 'overbearingness', 'overcapitalised', 'overcapitalises', 'overcapitalized', 'overcapitalizes', 'overcentralised', 'overcentralises', 'overcentralized', 'overcentralizes', 'overclassifying', 'overcommitments', 'overcommunicate', 'overcompensated', 'overcompensates', 'overcompliances', 'overcomplicated', 'overcomplicates', 'overcompressing', 'overconfidences', 'overconfidently', 'overconstructed', 'overconsumption', 'overcontrolling', 'overcorrections', 'overcredulities', 'overcultivation', 'overdecorations', 'overdependences', 'overdevelopment', 'overdiscounting', 'overdiversities', 'overdocumenting', 'overdramatising', 'overdramatizing', 'overeagernesses', 'overelaborating', 'overelaboration', 'overembellished', 'overembellishes', 'overemphasising', 'overemphasizing', 'overencouraging', 'overengineering', 'overentertained', 'overenthusiasms', 'overestimations', 'overevaluations', 'overexaggerated', 'overexaggerates', 'overexpectation', 'overextractions', 'overextravagant', 'overfamiliarity', 'overfertilising', 'overfertilizing', 'overflourishing', 'overforwardness', 'overgeneralised', 'overgeneralises', 'overgeneralized', 'overgeneralizes', 'overglamorising', 'overglamorizing', 'overhastinesses', 'overhomogenised', 'overhomogenises', 'overhomogenized', 'overhomogenizes', 'overidentifying', 'overimaginative', 'overindulgences', 'overingenuities', 'overintensities', 'overinvestments', 'overlengthening', 'overmedications', 'overmultiplying', 'overmultituding', 'overopinionated', 'overorchestrate', 'overornamenting', 'overpersuasions', 'overpopulations', 'overpreparation', 'overprescribing', 'overproductions', 'overprogramming', 'overproportions', 'overprotections', 'overrefinements', 'overregulations', 'overrepresented', 'oversaturations', 'oversensitivity', 'oversimplifying', 'overspecialised', 'overspecialises', 'overspecialized', 'overspecializes', 'overspeculating', 'overspeculation', 'overstabilities', 'overstimulating', 'overstimulation', 'oversubscribing', 'oversweetnesses', 'overutilisation', 'overutilization', 'overweeningness', 'overwithholding', 'overzealousness', 'ovoviviparities', 'ovoviviparously', 'oxidoreductases', 'oxyhaemoglobins', 'oxyphenbutazone', 'oxytetracycline', 'pachymeningitis', 'painstakingness', 'painterlinesses', 'palaebiologists', 'palaeoanthropic', 'palaeobiologies', 'palaeobiologist', 'palaeobotanical', 'palaeobotanists', 'palaeoecologies', 'palaeoecologist', 'palaeoethnology', 'palaeogeography', 'palaeographical', 'palaeographists', 'palaeolimnology', 'palaeomagnetism', 'palaeontography', 'palaeontologies', 'palaeontologist', 'palaeopathology', 'palaeophytology', 'palaeozoologies', 'palaeozoologist', 'palatablenesses', 'palatalisations', 'palatalizations', 'paleobiological', 'paleobiologists', 'paleoecological', 'paleoecologists', 'paleogeographic', 'paleomagnetisms', 'paleomagnetists', 'paleontological', 'paleontologists', 'paleozoological', 'paleozoologists', 'palynologically', 'pamphleteerings', 'panophthalmitis', 'pantheistically', 'pantisocratical', 'pantisocratists', 'pantopragmatics', 'parabolisations', 'parabolizations', 'paradoxicalness', 'paragenetically', 'paragrammatists', 'paragraphically', 'paraheliotropic', 'parajournalisms', 'paralinguistics', 'parallactically', 'parallelepipeda', 'parallelepipeds', 'parallelopipeda', 'parallelopipeds', 'parametrisation', 'parametrization', 'paramyxoviruses', 'paranormalities', 'pararosanilines', 'parasexualities', 'parasiticalness', 'parasitisations', 'parasitizations', 'parasitological', 'parasitologists', 'parasympathetic', 'parenthetically', 'parliamentarian', 'parliamentarily', 'parliamentarism', 'paroemiographer', 'parthenocarpies', 'parthenocarpous', 'parthenogeneses', 'parthenogenesis', 'parthenogenetic', 'participational', 'particularisers', 'particularising', 'particularistic', 'particularities', 'particularizers', 'particularizing', 'passifloraceous', 'passionlessness', 'pasteurisations', 'pasteurizations', 'patentabilities', 'paterfamiliases', 'pathogenicities', 'pathophysiology', 'patrialisations', 'patrializations', 'patriarchalisms', 'patrifocalities', 'peaceablenesses', 'peacelessnesses', 'pectinesterases', 'pedagoguishness', 'pedestrianising', 'pedestrianizing', 'pendulousnesses', 'penetrabilities', 'penetrativeness', 'peninsularities', 'pennilessnesses', 'pentadactylisms', 'pentobarbitones', 'penuriousnesses', 'perchloroethene', 'perdurabilities', 'perfectibilians', 'perfectibilisms', 'perfectibilists', 'perfectionating', 'perfectionistic', 'perfervidnesses', 'perfluorocarbon', 'perfunctoriness', 'pergamentaceous', 'perigastritises', 'perihepatitises', 'perinephritises', 'periodontically', 'periodontitises', 'peripatetically', 'peripateticisms', 'peripheralities', 'perishabilities', 'perissodactyles', 'perissodactylic', 'perissosyllabic', 'peristaltically', 'perityphlitises', 'permanentnesses', 'permeablenesses', 'permissibleness', 'permutabilities', 'peroxysulphuric', 'perpendicularly', 'perplexednesses', 'persnicketiness', 'personalisation', 'personalization', 'personification', 'perspicaciously', 'perspicuousness', 'pervasivenesses', 'pervertednesses', 'pessimistically', 'pestiferousness', 'petrochemically', 'petrocurrencies', 'petrophysicists', 'phallocentrisms', 'phantasmagorial', 'phantasmagorias', 'phantasmagories', 'phantasmalities', 'pharisaicalness', 'pharmaceuticals', 'pharmacodynamic', 'pharmacogenomic', 'pharmacognosies', 'pharmacognosist', 'pharmacognostic', 'pharmacokinetic', 'pharmacological', 'pharmacologists', 'pharmacopoeists', 'pharmacopolists', 'pharmacotherapy', 'pharyngological', 'pharyngologists', 'pharyngoscopies', 'phenakistoscope', 'phenobarbitones', 'phenolphthalein', 'phenomenalising', 'phenomenalistic', 'phenomenalities', 'phenomenalizing', 'phenomenologies', 'phenomenologist', 'phenylbutazones', 'phenylketonuria', 'phenylketonuric', 'phenylthioureas', 'philanthropical', 'philanthropists', 'philanthropoids', 'philosophasters', 'philosophically', 'phleboscleroses', 'phlebosclerosis', 'phlogisticating', 'phonautographic', 'phonemicisation', 'phonemicization', 'phoneticisation', 'phoneticization', 'phonocardiogram', 'phonogramically', 'phosphatisation', 'phosphatization', 'phosphocreatine', 'phosphocreatins', 'phosphoproteins', 'phosphorescence', 'phosphoroscopes', 'phosphorylating', 'phosphorylation', 'phosphorylative', 'photoautotrophs', 'photobiological', 'photobiologists', 'photochemically', 'photoconducting', 'photoconduction', 'photoconductive', 'photoconductors', 'photodegradable', 'photodissociate', 'photoduplicated', 'photoduplicates', 'photoelasticity', 'photoelectrical', 'photoelectrodes', 'photoelectronic', 'photoengravings', 'photoexcitation', 'photofinishings', 'photofluorogram', 'photogeological', 'photogeologists', 'photogrammetric', 'photoinductions', 'photoionisation', 'photoionization', 'photojournalism', 'photojournalist', 'photolithograph', 'photoluminesced', 'photoluminesces', 'photomacrograph', 'photomechanical', 'photometrically', 'photomicrograph', 'photomultiplier', 'photooxidations', 'photoperiodisms', 'photoproduction', 'photoreceptions', 'photoreductions', 'photorefractive', 'photosensitised', 'photosensitiser', 'photosensitises', 'photosensitized', 'photosensitizer', 'photosensitizes', 'photosynthesise', 'photosynthesize', 'phototactically', 'phototelegraphs', 'phototelegraphy', 'phototopography', 'phototoxicities', 'phototransistor', 'phototropically', 'phototypesetter', 'phototypography', 'photoxylography', 'photozincograph', 'phrasemongering', 'phraseographies', 'phreneticnesses', 'phrenologically', 'phthalocyanines', 'phyllosilicates', 'physicochemical', 'physiographical', 'physiologically', 'physiopathology', 'physiotherapies', 'physiotherapist', 'phytochemically', 'phytoflagellate', 'phytogeographer', 'phytogeographic', 'phytopathogenic', 'phytoplanktonic', 'phytotoxicities', 'pictorialnesses', 'picturesqueness', 'piezomagnetisms', 'piezometrically', 'pigheadednesses', 'pinealectomised', 'pinealectomises', 'pinealectomized', 'pinealectomizes', 'pinheadednesses', 'pinocytotically', 'pisciculturally', 'pisciculturists', 'pithecanthropus', 'plagiocephalies', 'plagiostomatous', 'plainclothesman', 'plainclothesmen', 'plainspokenness', 'plaintivenesses', 'planimetrically', 'planometrically', 'plantaginaceous', 'plasmolytically', 'plasticisations', 'plasticizations', 'platinocyanides', 'platitudinarian', 'platitudinisers', 'platitudinising', 'platitudinizers', 'platitudinizing', 'platitudinously', 'platyhelminthic', 'plausiblenesses', 'pleasurableness', 'plenipotentiary', 'plenteousnesses', 'plentifulnesses', 'plethysmographs', 'plethysmography', 'pleuropneumonia', 'plumbaginaceous', 'pluralistically', 'plutocratically', 'pneumatological', 'pneumatologists', 'pneumatometries', 'pneumoconiotics', 'pneumonectomies', 'pococuranteisms', 'poikilothermies', 'poikilothermism', 'pointlessnesses', 'poisonousnesses', 'poliomyelitides', 'poliomyelitises', 'politicisations', 'politicizations', 'polyacrylamides', 'polycarboxylate', 'polychlorinated', 'polychloroprene', 'polychromatisms', 'polycrystalline', 'polyelectrolyte', 'polygenetically', 'polygraphically', 'polymerisations', 'polymerizations', 'polymorphically', 'polynucleotides', 'polyphloesboean', 'polysaccharides', 'polysaccharoses', 'polysyllabicism', 'polysynthesisms', 'polysynthetical', 'polysynthetisms', 'polyunsaturated', 'polyvinylidenes', 'ponderabilities', 'ponderousnesses', 'pontificalities', 'popularisations', 'popularizations', 'porphyrogenites', 'possessednesses', 'postapocalyptic', 'postconsonantal', 'postdevaluation', 'postdivestiture', 'posthemorrhagic', 'postinoculation', 'postirradiation', 'postmasterships', 'postmillenarian', 'postoperatively', 'postpollination', 'postproductions', 'poststimulation', 'poststimulatory', 'posttransfusion', 'postulationally', 'postvaccination', 'potentiometries', 'powerlessnesses', 'practicableness', 'practicalnesses', 'pragmaticalness', 'pragmatisations', 'pragmatizations', 'prayerfulnesses', 'preacquaintance', 'preadolescences', 'preagricultural', 'prearrangements', 'precancellation', 'precipitability', 'precipitantness', 'precipitateness', 'precipitinogens', 'precipitousness', 'preconditioning', 'preconstructing', 'preconstruction', 'predatorinesses', 'predesignations', 'predestinarians', 'predestinations', 'predeterminable', 'predeterminisms', 'predevelopments', 'predicabilities', 'predictableness', 'predispositions', 'preestablishing', 'prefabrications', 'preferabilities', 'preferentialism', 'preferentialist', 'preferentiality', 'prefiguratively', 'preformationism', 'preformationist', 'prehistorically', 'preimplantation', 'preinterviewing', 'prejudicialness', 'prekindergarten', 'premanufactured', 'premanufactures', 'prematurenesses', 'premillenarians', 'premillennially', 'premodification', 'prenegotiations', 'prenotification', 'preponderancies', 'preponderations', 'prepositionally', 'prepossessingly', 'prepresidential', 'preprofessional', 'prepublications', 'preregistration', 'presbyterianise', 'presbyterianism', 'presbyterianize', 'prescriptivisms', 'prescriptivists', 'presentableness', 'presentationism', 'presentationist', 'presentialities', 'preservationist', 'pressurisations', 'pressurizations', 'prestidigitator', 'prestigiousness', 'presumptiveness', 'presuppositions', 'presynaptically', 'pretentiousness', 'preteritenesses', 'preterminations', 'preternaturally', 'prettifications', 'prevalentnesses', 'pricelessnesses', 'primitivenesses', 'primogenitrices', 'primogenitrixes', 'primordialities', 'principalnesses', 'printablenesses', 'prioritisations', 'prioritizations', 'probabiliorisms', 'probabiliorists', 'probationership', 'problematically', 'proceleusmatics', 'processionalist', 'procrastinating', 'procrastination', 'procrastinative', 'procrastinators', 'procrastinatory', 'procreativeness', 'procuratorships', 'producibilities', 'professionalise', 'professionalism', 'professionalist', 'professionalize', 'profitabilities', 'progenitiveness', 'progenitorships', 'prognosticating', 'prognostication', 'prognosticative', 'prognosticators', 'programmability', 'progressionally', 'progressionisms', 'progressionists', 'progressiveness', 'progressivistic', 'progressivities', 'prohibitionisms', 'prohibitionists', 'prohibitiveness', 'projectisations', 'projectizations', 'proletarianised', 'proletarianises', 'proletarianisms', 'proletarianized', 'proletarianizes', 'proletarianness', 'prolocutorships', 'prominentnesses', 'promiscuousness', 'promotabilities', 'promotivenesses', 'pronominalising', 'pronominalizing', 'pronunciamentos', 'pronunciational', 'propagabilities', 'properispomenon', 'proportionality', 'proportionately', 'proportionating', 'proportionments', 'propositionally', 'proprietorially', 'proprietorships', 'proprioceptions', 'propylitisation', 'propylitization', 'prosaicalnesses', 'proselytisation', 'proselytization', 'prosenchymatous', 'proslambanomene', 'prosopographers', 'prosopographies', 'prospectiveness', 'prostatectomies', 'prosthodontists', 'proteolytically', 'prothonotariats', 'protistologists', 'protohistorians', 'protoporphyrins', 'protospathaires', 'protospatharius', 'protozoological', 'protozoologists', 'proverbialising', 'proverbializing', 'provincialising', 'provincialities', 'provincializing', 'provocativeness', 'proximatenesses', 'prudentialities', 'prussianisation', 'prussianization', 'psephologically', 'pseudaesthesias', 'pseudepigraphic', 'pseudepigraphon', 'pseudoarthroses', 'pseudoarthrosis', 'pseudocoelomate', 'pseudoephedrine', 'pseudomembranes', 'pseudomorphisms', 'pseudomutuality', 'pseudopregnancy', 'pseudoscientist', 'pseudoscorpions', 'pseudosolutions', 'psilanthropisms', 'psilanthropists', 'psychedelically', 'psychiatrically', 'psychoacoustics', 'psychoanalysers', 'psychoanalysing', 'psychoanalyzers', 'psychoanalyzing', 'psychobiography', 'psychobiologies', 'psychobiologist', 'psychochemicals', 'psychochemistry', 'psychodelically', 'psychogenetical', 'psychogenically', 'psychogeriatric', 'psychographical', 'psychohistorian', 'psychohistories', 'psycholinguists', 'psychologically', 'psychometrician', 'psychoneurotics', 'psychopathology', 'psychophysicist', 'psychosexuality', 'psychosomimetic', 'psychosurgeries', 'psychosyntheses', 'psychosynthesis', 'psychotherapies', 'psychotherapist', 'psychotomimetic', 'psychrometrical', 'pteridophilists', 'pterylographies', 'pulchritudinous', 'pulmobranchiate', 'pulselessnesses', 'punctiliousness', 'punctuationists', 'punishabilities', 'puritanicalness', 'purposelessness', 'purposivenesses', 'pusillanimities', 'pusillanimously', 'pycnodysostoses', 'pycnodysostosis', 'pyknodysostoses', 'pyknodysostosis', 'pyramidologists', 'pyretotherapies', 'pyroelectricity', 'pyrophotographs', 'pyrophotography', 'pyrophotometers', 'pyrotechnically', 'pyrotechnicians', 'quadragenarians', 'quadringenaries', 'quadripartition', 'quadrisyllables', 'quadrivalencies', 'quadruplicating', 'quadruplication', 'quadruplicities', 'quantifications', 'quarrelsomeness', 'quarterfinalist', 'quartermistress', 'quatercentenary', 'quattrocentisms', 'quattrocentists', 'querulousnesses', 'questionability', 'quicksilverings', 'quincentenaries', 'quincentennials', 'quingentenaries', 'quinquagenarian', 'quinquevalences', 'quintuplicating', 'quintuplication', 'quizzifications', 'quodlibetarians', 'quodlibetically', 'radicalisations', 'radicalizations', 'radioactivating', 'radioactivation', 'radioactivities', 'radioautographs', 'radioautography', 'radiobiological', 'radiobiologists', 'radiochemically', 'radiogoniometer', 'radiolocational', 'radiometrically', 'radiomicrometer', 'radiophonically', 'radiophosphorus', 'radioprotection', 'radioprotective', 'radioscopically', 'radiosensitised', 'radiosensitises', 'radiosensitized', 'radiosensitizes', 'radiostrontiums', 'radiotelegraphs', 'radiotelegraphy', 'radiotelemeters', 'radiotelemetric', 'radiotelephones', 'radiotelephonic', 'radiotherapists', 'rancorousnesses', 'rangatiratangas', 'rapaciousnesses', 'rapturousnesses', 'rationalisation', 'rationalization', 'reacclimatising', 'reacclimatizing', 'reaccreditation', 'reacquaintances', 'reactionaryisms', 'readvertisement', 'reafforestation', 'realisabilities', 'realizabilities', 'reapportionment', 'reappraisements', 'reappropriating', 'reasonabilities', 'reauthorisation', 'reauthorization', 'recalcitrancies', 'recalcitrations', 'recallabilities', 'recanalisations', 'recanalizations', 'recapitulations', 'receivabilities', 'receptibilities', 'receptivenesses', 'recertification', 'recessivenesses', 'rechoreographed', 'rechromatograph', 'reciprocalities', 'reclusivenesses', 'recodifications', 'recognisability', 'recognizability', 'recollectedness', 'recolonisations', 'recolonizations', 'recombinational', 'recommencements', 'recommendations', 'recommissioning', 'reconcentrating', 'reconcentration', 'reconceptualise', 'reconceptualize', 'reconcilability', 'reconciliations', 'recondensations', 'reconditenesses', 'reconfiguration', 'reconfirmations', 'reconnaissances', 'reconnoissances', 'reconsecrations', 'reconsideration', 'reconsolidating', 'reconsolidation', 'reconstitutable', 'reconstitutions', 'reconstructible', 'reconstructions', 'recontaminating', 'recontamination', 'recontextualise', 'recontextualize', 'reconvalescence', 'recoverableness', 'recrementitious', 'recrudescencies', 'recrystallising', 'recrystallizing', 'rectipetalities', 'recursivenesses', 'redeemabilities', 'redetermination', 'redintegrations', 'redistillations', 'redistributions', 'redoubtableness', 'reduciblenesses', 'reductivenesses', 'reduplicatively', 'reeligibilities', 'reestablishment', 'reflectometries', 'reflexibilities', 'reflexivenesses', 'reformabilities', 'reformationists', 'refortification', 'refractometries', 'refrangibleness', 'refrigeratories', 'refundabilities', 'regardfulnesses', 'regionalisation', 'regionalization', 'regretfulnesses', 'regularisations', 'regularizations', 'rehabilitations', 'rehospitalising', 'rehospitalizing', 'reimplantations', 'reincorporating', 'reincorporation', 'reindustrialise', 'reindustrialize', 'reinstallations', 'reinterrogating', 'reinterrogation', 'reintroductions', 'reinvestigating', 'reinvestigation', 'reinvigorations', 'rejuvenescences', 'relativisations', 'relativizations', 'religiousnesses', 'relinquishments', 'remanufacturers', 'remanufacturing', 'remarkabilities', 'rematerialising', 'rematerializing', 'remediabilities', 'rememberability', 'remissibilities', 'remobilisations', 'remobilizations', 'remonetisations', 'remonetizations', 'remonstratingly', 'remonstratively', 'remoralisations', 'remoralizations', 'remorselessness', 'removablenesses', 'remythologising', 'remythologizing', 'renationalising', 'renationalizing', 'renormalisation', 'renormalization', 'reorchestrating', 'reorchestration', 'reorganisations', 'reorganizations', 'repairabilities', 'repeatabilities', 'repetitiousness', 'rephotographing', 'replicabilities', 'repolarisations', 'repolarizations', 'reposefulnesses', 'representations', 'representatives', 'repristinations', 'reprivatisation', 'reprivatization', 'reproachfulness', 'reproducibility', 'republicanising', 'republicanizing', 'repudiationists', 'repulsivenesses', 'requisitenesses', 'requisitionists', 'reregistrations', 'resectabilities', 'resentfulnesses', 'reservationists', 'resinifications', 'resistibilities', 'resistivenesses', 'resocialisation', 'resocialization', 'resolublenesses', 'resolvabilities', 'resourcefulness', 'respectabilised', 'respectabilises', 'respectabilized', 'respectabilizes', 'respectableness', 'respirabilities', 'respiritualised', 'respiritualises', 'respiritualized', 'respiritualizes', 'responsibleness', 'restitutionisms', 'restitutionists', 'restorationisms', 'restorationists', 'restrengthening', 'restrictionisms', 'restrictionists', 'restrictiveness', 'resurrectionary', 'resurrectionise', 'resurrectionism', 'resurrectionist', 'resurrectionize', 'resynchronising', 'resynchronizing', 'resystematising', 'resystematizing', 'retaliationists', 'retentivenesses', 'retinoblastomas', 'retransmissions', 'retrievableness', 'retroactiveness', 'retroactivities', 'retrocognitions', 'retrogradations', 'retrogressional', 'retrogressively', 'retromingencies', 'retroperitoneal', 'retroreflection', 'retroreflective', 'retroreflectors', 'retrospectively', 'returnabilities', 'revalorisations', 'revalorizations', 'revealabilities', 'revealingnesses', 'reverberatories', 'reversibilities', 'revisualisation', 'revisualization', 'revitalisations', 'revitalizations', 'revivifications', 'revocablenesses', 'revolutionaries', 'revolutionarily', 'revolutionisers', 'revolutionising', 'revolutionizers', 'revolutionizing', 'rheumatological', 'rheumatologists', 'rhinencephalons', 'rhinoscleromata', 'rhombencephalon', 'rhombenporphyrs', 'rhombenporphyry', 'rhombporphyries', 'rhyparographers', 'rhyparographies', 'ribonucleosides', 'ribonucleotides', 'rightablenesses', 'righteousnesses', 'rigidifications', 'ritualistically', 'riverworthiness', 'roentgenisation', 'roentgenization', 'roentgenographs', 'roentgenography', 'roentgenologies', 'roentgenologist', 'roentgenoscopes', 'roentgenoscopic', 'rollercoastered', 'romanticalities', 'romanticisation', 'romanticization', 'rontgenisations', 'rontgenizations', 'rontgenological', 'rontgenologists', 'rontgenoscopies', 'rontgenotherapy', 'rostrocarinates', 'roundaboutation', 'roundaboutility', 'roundheadedness', 'rudimentariness', 'rumblegumptions', 'rumbustiousness', 'rummelgumptions', 'rummlegumptions', 'rumormongerings', 'sabermetricians', 'saccharimetries', 'saccharisations', 'saccharizations', 'saccharomycetes', 'sacerdotalising', 'sacerdotalizing', 'sacramentalisms', 'sacramentalists', 'sacramentalness', 'sacramentarians', 'sacrosanctities', 'sadomasochistic', 'sagaciousnesses', 'salaciousnesses', 'salpingectomies', 'sanctifications', 'sanctimoniously', 'sanguifications', 'sanguineousness', 'sanguinolencies', 'sansculotteries', 'saponaceousness', 'saponifications', 'saprogenicities', 'saprophytically', 'sarcenchymatous', 'sarraceniaceous', 'satanicalnesses', 'satiricalnesses', 'scandalisations', 'scandalizations', 'scaphocephalies', 'scaphocephalism', 'scaphocephalous', 'scaremongerings', 'scathefulnesses', 'scentlessnesses', 'schematisations', 'schematizations', 'schillerisation', 'schillerization', 'schistosomiases', 'schistosomiasis', 'schizophrenetic', 'scholarlinesses', 'schoolmastering', 'schoolmasterish', 'schoolmistressy', 'schoolteachings', 'scintillascopes', 'scintillatingly', 'scintillometers', 'scintilloscopes', 'sclerodermatous', 'sclerotisations', 'sclerotizations', 'scolopendriform', 'scorchingnesses', 'scratchbuilders', 'scratchbuilding', 'scribaciousness', 'scrimshandering', 'scrumptiousness', 'sculpturesquely', 'searchingnesses', 'seaworthinesses', 'seclusivenesses', 'secondarinesses', 'secretivenesses', 'sectionisations', 'sectionizations', 'secularisations', 'secularizations', 'secundogeniture', 'securitisations', 'securitizations', 'sedentarinesses', 'sedimentologies', 'sedimentologist', 'seditiousnesses', 'seductivenesses', 'segregationists', 'seismographical', 'seismologically', 'selectivenesses', 'selenographical', 'selenographists', 'semiabstraction', 'semicentennials', 'semicolonialism', 'semiconductions', 'semiconsciously', 'semicrystalline', 'semicylindrical', 'semidocumentary', 'semilogarithmic', 'semimanufacture', 'semiparasitisms', 'semipornography', 'semiretirements', 'semisubmersible', 'semiterrestrial', 'semitranslucent', 'semitransparent', 'sensationalised', 'sensationalises', 'sensationalisms', 'sensationalists', 'sensationalized', 'sensationalizes', 'senselessnesses', 'sensitivenesses', 'sensualisations', 'sensualizations', 'sententiousness', 'sentimentalised', 'sentimentalises', 'sentimentalisms', 'sentimentalists', 'sentimentalized', 'sentimentalizes', 'separablenesses', 'septendecillion', 'septentrionally', 'septuagenarians', 'sequentialities', 'serendipitously', 'sericiculturist', 'sericitisations', 'sericitizations', 'seroconversions', 'serviceableness', 'servomechanical', 'servomechanisms', 'sesquicarbonate', 'sesquicentenary', 'sesquisulphides', 'shamefastnesses', 'shamelessnesses', 'shapelessnesses', 'sherardisations', 'sherardizations', 'shiftlessnesses', 'shillingsworths', 'shillyshalliers', 'shillyshallying', 'shockumentaries', 'showerproofings', 'sidesplittingly', 'sightlessnesses', 'sigmoidectomies', 'sigmoidoscopies', 'significatively', 'silicifications', 'silversmithings', 'silviculturally', 'silviculturists', 'simplicidentate', 'simplifications', 'singularisation', 'singularization', 'sinistrodextral', 'sinterabilities', 'skepticalnesses', 'sketchabilities', 'slaughterhouses', 'sledgehammering', 'sleeplessnesses', 'slumpflationary', 'smokelessnesses', 'snippersnappers', 'socialistically', 'sociobiological', 'sociobiologists', 'socioculturally', 'sociohistorical', 'sociolinguistic', 'softheartedness', 'solderabilities', 'soldierlinesses', 'solemnification', 'solidifications', 'solipsistically', 'solitudinarians', 'solubilisations', 'solubilizations', 'somatologically', 'somnambulations', 'soothfastnesses', 'sophisticatedly', 'sophistications', 'sorrowfulnesses', 'soundlessnesses', 'southeasterlies', 'southerlinesses', 'southwesterlies', 'southwestwardly', 'specialisations', 'specializations', 'spectrographies', 'spectroscopical', 'spectroscopists', 'speculativeness', 'speechfulnesses', 'speechification', 'speleotherapies', 'spermatoblastic', 'spermatogeneses', 'spermatogenesis', 'spermatogenetic', 'spermatorrhoeas', 'sphaerocrystals', 'sphaerosiderite', 'sphericalnesses', 'spheroidicities', 'spheroidisation', 'spheroidization', 'sphygmographies', 'spinelessnesses', 'spinthariscopes', 'spiritousnesses', 'spiritualnesses', 'spirochaetaemia', 'spironolactones', 'splanchnologies', 'splendiferously', 'splenectomising', 'splenectomizing', 'spontaneousness', 'sporangiophores', 'sporangiospores', 'spreadabilities', 'sprightlinesses', 'squeamishnesses', 'squeezabilities', 'stadholderships', 'stadtholderates', 'stadtholdership', 'stainlessnesses', 'stalactitically', 'stalagmitically', 'stalagmometries', 'standardisation', 'standardization', 'standoffishness', 'staphyloplastic', 'staphylorrhaphy', 'statelessnesses', 'steadfastnesses', 'steeplechasings', 'steganographers', 'steganographies', 'steganographist', 'stegocephalians', 'stereochemistry', 'stereographical', 'stereoisomerism', 'stereoisometric', 'stereologically', 'stereotaxically', 'stereotypically', 'steroidogeneses', 'steroidogenesis', 'stigmatisations', 'stigmatizations', 'stigmatophilias', 'stigmatophilist', 'stilpnosiderite', 'stockbrokerages', 'stoechiological', 'stoechiometries', 'stoicheiologies', 'stoicheiometric', 'stoichiological', 'stoichiometries', 'stomatoplasties', 'stonelessnesses', 'strabismometers', 'straightforward', 'straightjackets', 'straitjacketing', 'straitlacedness', 'straitwaistcoat', 'straticulations', 'stratifications', 'stratigraphical', 'stratigraphists', 'stratospherical', 'stratovolcanoes', 'strenuousnesses', 'strephosymbolia', 'streptobacillus', 'streptocarpuses', 'streptothricins', 'stressfulnesses', 'strikebreakings', 'stringentnesses', 'strobilisations', 'strobilizations', 'strombuliferous', 'strongyloidoses', 'strongyloidosis', 'structuralising', 'structuralizing', 'stultifications', 'stylelessnesses', 'subaggregations', 'subalternations', 'subassociations', 'subcategorising', 'subcategorizing', 'subcivilisation', 'subcivilization', 'subcommissioned', 'subcommissioner', 'subcontractings', 'subcontraoctave', 'subdevelopments', 'subinfeudations', 'subinsinuations', 'subintellection', 'subintelligence', 'subintelligitur', 'sublapsarianism', 'submetacentrics', 'subminiaturised', 'subminiaturises', 'subminiaturized', 'subminiaturizes', 'suboptimisation', 'suboptimization', 'subordinateness', 'suborganisation', 'suborganization', 'subprofessional', 'subproletariats', 'subreptitiously', 'subspecialising', 'subspecialities', 'subspecializing', 'subspecifically', 'substantialised', 'substantialises', 'substantialisms', 'substantialists', 'substantialized', 'substantializes', 'substantialness', 'substantiations', 'substantiveness', 'substantivising', 'substantivities', 'substantivizing', 'substitutionary', 'substratosphere', 'subterraneously', 'subterrestrials', 'suburbanisation', 'suburbanization', 'subversionaries', 'subvocalisation', 'subvocalization', 'successlessness', 'succinylcholine', 'sufficingnesses', 'suggestibleness', 'suggestionising', 'suggestionizing', 'sulfamethazines', 'sulfinpyrazones', 'sulfurousnesses', 'sulphacetamides', 'sulphanilamides', 'sulphathiazoles', 'sulphinpyrazone', 'sulphonmethanes', 'sulphureousness', 'sulphurisations', 'sulphurizations', 'sumptuousnesses', 'superablenesses', 'superabsorbents', 'superabundances', 'superabundantly', 'superactivities', 'superadditional', 'superannuations', 'superbureaucrat', 'supercalendered', 'supercargoships', 'supercomputings', 'superconducting', 'superconduction', 'superconductive', 'superconductors', 'superconfidence', 'supercontinents', 'superconvenient', 'superefficiency', 'superelevations', 'supererogations', 'superexaltation', 'superexcellence', 'superficialised', 'superficialises', 'superficialized', 'superficializes', 'superficialness', 'superfinenesses', 'superfluidities', 'superfluousness', 'superfoetations', 'supergovernment', 'superheterodyne', 'superhumanising', 'superhumanities', 'superhumanizing', 'superimposition', 'superincumbence', 'superincumbency', 'superindividual', 'superinducement', 'superinductions', 'superinfections', 'superintendence', 'superintendency', 'superintendents', 'superlativeness', 'supermajorities', 'supernationally', 'supernaturalise', 'supernaturalism', 'supernaturalist', 'supernaturalize', 'supernumeraries', 'supernutritions', 'superordinating', 'superordination', 'superorganicism', 'superorganicist', 'superovulations', 'superparasitism', 'superpatriotism', 'superphenomenon', 'superphosphates', 'superplasticity', 'supersaturating', 'supersaturation', 'superscriptions', 'superspecialist', 'superspectacles', 'superstimulated', 'superstimulates', 'superstitiously', 'superstructions', 'superstructural', 'superstructures', 'supersubtleties', 'supersymmetries', 'supervisorships', 'supplementaries', 'supplementarily', 'supplementation', 'supportableness', 'suppositionally', 'suppositionless', 'suppressibility', 'suppressiveness', 'supralapsarians', 'supranationally', 'surreptitiously', 'survivabilities', 'susceptibleness', 'suspectednesses', 'suspensefulness', 'suspercollating', 'swellheadedness', 'sycophantically', 'syllabification', 'syllabographies', 'syllogistically', 'symbolistically', 'symbolographies', 'symmetricalness', 'symmetrisations', 'symmetrizations', 'symmetrophobias', 'sympathectomies', 'sympathetically', 'sympathomimetic', 'symphyseotomies', 'symphysiotomies', 'symptomatically', 'symptomatologic', 'symptomological', 'synaposematisms', 'synarthrodially', 'synchronicities', 'synchronisation', 'synchronistical', 'synchronization', 'synchronologies', 'synchronoscopes', 'synchronousness', 'syncretisations', 'syncretizations', 'synecdochically', 'synecologically', 'synergistically', 'synthesisations', 'synthesizations', 'synthetisations', 'synthetizations', 'systematisation', 'systematization', 'systematologies', 'tabularisations', 'tabularizations', 'tachometrically', 'tachyarrhythmia', 'tachymetrically', 'talkativenesses', 'tangentialities', 'tarsometatarsal', 'tarsometatarsus', 'tastelessnesses', 'tatterdemalions', 'tatterdemallion', 'teachablenesses', 'technicalnesses', 'technologically', 'technostructure', 'tectibranchiate', 'telangiectasias', 'telautographies', 'teleconferences', 'teleconnections', 'telegraphically', 'telejournalisms', 'telejournalists', 'telekinetically', 'telephotographs', 'telephotography', 'teleprocessings', 'telestereoscope', 'teletypesetting', 'teletypewriters', 'telomerisations', 'telomerizations', 'temerariousness', 'temperabilities', 'temperamentally', 'temperatenesses', 'tempestuousness', 'temporarinesses', 'temptablenesses', 'tenaciousnesses', 'tendenciousness', 'tendentiousness', 'tenderheartedly', 'tenebrousnesses', 'tenosynovitises', 'tenovaginitises', 'tentaculiferous', 'tentativenesses', 'teratocarcinoma', 'teratogenicists', 'tergiversations', 'terminabilities', 'terrestrialness', 'territorialised', 'territorialises', 'territorialisms', 'territorialists', 'territorialized', 'territorializes', 'testimonialised', 'testimonialises', 'testimonialized', 'testimonializes', 'tetartohedrally', 'tetartohedrisms', 'tetrabasicities', 'tetrabranchiate', 'tetragrammatons', 'tetrahydrofuran', 'tetramethyllead', 'tetrasporangium', 'tetrasyllabical', 'thalamencephala', 'thalassocracies', 'thalassographer', 'thalassographic', 'thalassotherapy', 'thalattocracies', 'thanatognomonic', 'thanatographies', 'thanklessnesses', 'thankworthiness', 'thaumatolatries', 'theatricalising', 'theatricalities', 'theatricalizing', 'theocentricisms', 'theologisations', 'theologizations', 'theorematically', 'theosophistical', 'therapeutically', 'therianthropism', 'theriomorphisms', 'theriomorphoses', 'theriomorphosis', 'thermaesthesias', 'thermalisations', 'thermalizations', 'thermobarograph', 'thermobarometer', 'thermochemistry', 'thermochromisms', 'thermodynamical', 'thermoelectrons', 'thermojunctions', 'thermoperiodism', 'thermoreceptors', 'thermoregulated', 'thermoregulates', 'thermoregulator', 'thermoremanence', 'thermostability', 'thermotherapies', 'thickheadedness', 'thimbleriggings', 'thinkablenesses', 'thiobarbiturate', 'thirtysomething', 'thoracocenteses', 'thoracocentesis', 'thoracoplasties', 'thoroughgoingly', 'thoughtlessness', 'threefoldnesses', 'threepenceworth', 'threepennyworth', 'thremmatologies', 'thrillingnesses', 'thromboembolism', 'thromboplastins', 'thunderstricken', 'thunderstriking', 'thyrocalcitonin', 'thyroidectomies', 'tightfistedness', 'tintinnabulated', 'tintinnabulates', 'toastmistresses', 'tolerablenesses', 'tomboyishnesses', 'tonsillectomies', 'toothsomenesses', 'topochemistries', 'topographically', 'torrentialities', 'totalitarianise', 'totalitarianism', 'totalitarianize', 'touchablenesses', 'toxicologically', 'traceablenesses', 'tracklessnesses', 'tractablenesses', 'traditionalised', 'traditionalises', 'traditionalisms', 'traditionalists', 'traditionalized', 'traditionalizes', 'trainspotterish', 'tranquilisation', 'tranquilisingly', 'tranquilization', 'tranquilizingly', 'transactionally', 'transaminations', 'transcendencies', 'transcendentals', 'transcriptional', 'transcriptively', 'transferability', 'transfiguration', 'transfigurement', 'transformations', 'transfusionists', 'transgressional', 'transgressively', 'transhistorical', 'transientnesses', 'transilluminate', 'transistorising', 'transistorizing', 'translatability', 'translationally', 'transliterating', 'transliteration', 'transliterators', 'translucidities', 'transmigrations', 'transmissometer', 'transmittancies', 'transmogrifying', 'transmutability', 'transmutational', 'transparentised', 'transparentises', 'transparentized', 'transparentizes', 'transparentness', 'transpirational', 'transplantation', 'transportations', 'transportedness', 'transposability', 'transpositional', 'transsexualisms', 'transubstantial', 'transvaluations', 'transvestitisms', 'traumatisations', 'traumatizations', 'traumatological', 'traumatonasties', 'treacherousness', 'treasonableness', 'tremulousnesses', 'triangularities', 'tribromoethanol', 'tribromomethane', 'tributarinesses', 'trichinisations', 'trichinizations', 'trichloroacetic', 'trichloroethane', 'trichomonacidal', 'trichomonacides', 'trifluoperazine', 'trigonometrical', 'trihalomethanes', 'triiodomethanes', 'trimethylamines', 'trinitrobenzene', 'trinitrocresols', 'trinitrophenols', 'trinitrotoluene', 'trinitrotoluols', 'tripersonalisms', 'tripersonalists', 'triphenylamines', 'trisoctahedrons', 'trisyllabically', 'trituberculisms', 'trivialisations', 'trivializations', 'tropicalisation', 'tropicalization', 'troubleshooters', 'troubleshooting', 'troublesomeness', 'troublousnesses', 'trueheartedness', 'trustlessnesses', 'trustworthiness', 'truthlessnesses', 'trypanosomiases', 'trypanosomiasis', 'tuberculisation', 'tuberculization', 'tumorgenicities', 'turbogenerators', 'tyndallimetries', 'typographically', 'tyrannosauruses', 'tyrannousnesses', 'ubiquitarianism', 'ubiquitinations', 'ultimogenitures', 'ultracentrifuge', 'ultracommercial', 'ultraconvenient', 'ultracrepidated', 'ultracrepidates', 'ultrademocratic', 'ultrafastidious', 'ultrafiltration', 'ultraliberalism', 'ultramarathoner', 'ultramicrometer', 'ultramicroscope', 'ultramicroscopy', 'ultramicrotomes', 'ultramodernisms', 'ultramodernists', 'ultramontanisms', 'ultramontanists', 'ultrasonography', 'ultrastructural', 'ultrastructures', 'ultravirilities', 'unacceptability', 'unaccommodating', 'unacquaintances', 'unadulteratedly', 'unadvisableness', 'unadvisednesses', 'unalterableness', 'unamiablenesses', 'unanimousnesses', 'unanswerability', 'unanticipatedly', 'unapostolically', 'unappreciations', 'unapprehensible', 'unascertainable', 'unashamednesses', 'unassailability', 'unauthenticated', 'unauthoritative', 'unavailableness', 'unavoidableness', 'unbelievability', 'unbelievingness', 'unbendingnesses', 'unbiassednesses', 'unblessednesses', 'unboundednesses', 'unbridlednesses', 'uncanonicalness', 'uncategorisable', 'uncategorizable', 'unceasingnesses', 'unceremoniously', 'uncertainnesses', 'unchallengeable', 'unchallengeably', 'unchangeability', 'unchoreographed', 'unchristianised', 'unchristianises', 'unchristianized', 'unchristianizes', 'unchristianlike', 'unchronological', 'uncircumcisions', 'uncircumscribed', 'uncivilisedness', 'uncivilizedness', 'uncleanlinesses', 'unclimbableness', 'uncloudednesses', 'uncommunicative', 'uncompanionable', 'uncompassionate', 'uncomplainingly', 'uncomplaisantly', 'uncomplimentary', 'uncomprehending', 'uncomprehensive', 'uncompromisable', 'unconcernedness', 'unconditionally', 'unconnectedness', 'unconscientious', 'unconsciousness', 'unconsentaneous', 'unconstrainable', 'unconstrainedly', 'uncontroversial', 'uncooperatively', 'uncopyrightable', 'uncourtlinesses', 'uncreatednesses', 'undauntednesses', 'undecidednesses', 'undemonstrative', 'underactivities', 'undercapitalise', 'undercapitalize', 'underdeveloping', 'underemphasised', 'underemphasises', 'underemphasized', 'underemphasizes', 'underemployment', 'underestimating', 'underestimation', 'underfulfilling', 'undergraduettes', 'underhandedness', 'underinflations', 'underinvestment', 'undernicenesses', 'undernourishing', 'undernutritions', 'underperforming', 'underprivileged', 'underproduction', 'underpublicised', 'underpublicized', 'understandingly', 'understatements', 'undervaluations', 'undesirableness', 'undetermination', 'undisappointing', 'undisciplinable', 'undistinguished', 'undividednesses', 'undomesticating', 'undutifulnesses', 'unearthlinesses', 'uneatablenesses', 'unemployability', 'unendurableness', 'unequivocalness', 'unexceptionable', 'unexceptionably', 'unexceptionally', 'unextraordinary', 'unfailingnesses', 'unfamiliarities', 'unfavorableness', 'unfeelingnesses', 'unfeignednesses', 'unflappableness', 'unforgivenesses', 'unforgivingness', 'unfortunateness', 'unfossiliferous', 'unfoundednesses', 'ungentlemanlike', 'ungenuinenesses', 'ungrammatically', 'unguardednesses', 'unhealthfulness', 'unhealthinesses', 'unhurtfulnesses', 'unidiomatically', 'uniformitarians', 'unilateralities', 'unimaginatively', 'uninformatively', 'uninhibitedness', 'unintelligences', 'unintelligently', 'unintentionally', 'uninterestingly', 'unintermittedly', 'uninterpretable', 'uninterruptedly', 'universalnesses', 'unknowabilities', 'unknowingnesses', 'unknowledgeable', 'unlearnednesses', 'unlimitednesses', 'unmeaningnesses', 'unmelodiousness', 'unmindfulnesses', 'unmitigatedness', 'unmusicalnesses', 'unnaturalnesses', 'unnecessariness', 'unobjectionable', 'unobjectionably', 'unobtrusiveness', 'unoriginalities', 'unparliamentary', 'unpatriotically', 'unpeaceableness', 'unperfectnesses', 'unphilosophical', 'unpitifulnesses', 'unpracticalness', 'unpractisedness', 'unprecedentedly', 'unpremeditation', 'unprepossessing', 'unpretentiously', 'unprintableness', 'unprofessionals', 'unprofitability', 'unprogressively', 'unpronounceable', 'unproportionate', 'unprotectedness', 'unprotestantise', 'unprotestantize', 'unpunctualities', 'unqualifiedness', 'unquestioningly', 'unreadabilities', 'unrealistically', 'unrecommendable', 'unreconciliable', 'unreconstructed', 'unrelentingness', 'unreliabilities', 'unremittingness', 'unrestfulnesses', 'unrestingnesses', 'unrevolutionary', 'unrighteousness', 'unrufflednesses', 'unsaintlinesses', 'unsaleabilities', 'unsatisfactions', 'unsatisfiedness', 'unsavourinesses', 'unseaworthiness', 'unsectarianisms', 'unselfconscious', 'unselfishnesses', 'unseriousnesses', 'unsettlednesses', 'unshakeableness', 'unsightlinesses', 'unskilfulnesses', 'unsociabilities', 'unsophisticated', 'unsparingnesses', 'unspeakableness', 'unspiritualised', 'unspiritualises', 'unspiritualized', 'unspiritualizes', 'unsportsmanlike', 'unspottednesses', 'unstatesmanlike', 'unsteadfastness', 'unsubstantially', 'unsubstantiated', 'unsuitabilities', 'unsuspectedness', 'unsymmetrically', 'untaintednesses', 'untamablenesses', 'unteachableness', 'untenablenesses', 'unthinkableness', 'unthriftinesses', 'untractableness', 'untraditionally', 'untransferrable', 'untransmigrated', 'untransmissible', 'untrustworthily', 'untunablenesses', 'untunefulnesses', 'unutterableness', 'unverifiability', 'unweariednesses', 'unwelcomenesses', 'unwholesomeness', 'unwieldlinesses', 'unwillingnesses', 'unwittingnesses', 'unwomanlinesses', 'unworkabilities', 'unworldlinesses', 'upgradabilities', 'uterogestations', 'utilitarianised', 'utilitarianises', 'utilitarianisms', 'utilitarianized', 'utilitarianizes', 'utterablenesses', 'valetudinarians', 'valuelessnesses', 'vapourabilities', 'vapourishnesses', 'vascularisation', 'vascularization', 'vasoconstrictor', 'vasodilatations', 'venerablenesses', 'ventriloquially', 'ventriloquising', 'ventriloquistic', 'ventriloquizing', 'venturesomeness', 'venturousnesses', 'veraciousnesses', 'verifiabilities', 'verisimilitudes', 'veritablenesses', 'verminousnesses', 'vernacularising', 'vernacularities', 'vernacularizing', 'versatilenesses', 'verticillasters', 'verticillations', 'vertiginousness', 'vespertilionids', 'vespertilionine', 'vexatiousnesses', 'vibroflotations', 'vicariousnesses', 'vicissitudinary', 'vicissitudinous', 'videoconference', 'videotelephones', 'vindicabilities', 'vindicativeness', 'violinistically', 'viscoelasticity', 'viscosimetrical', 'visionarinesses', 'vitilitigations', 'vitriolisations', 'vitriolizations', 'vivaciousnesses', 'vivisectionally', 'vivisectionists', 'voicelessnesses', 'volatilisations', 'volatilizations', 'voluntarinesses', 'voraciousnesses', 'voyeuristically', 'vulnerabilities', 'wappenschawings', 'warmheartedness', 'warrantableness', 'wasterfulnesses', 'watercolourists', 'waterlessnesses', 'wearisomenesses', 'weatherboarding', 'weatherisations', 'weatherizations', 'weatherlinesses', 'weatherproofing', 'weltanschauungs', 'westernisations', 'westernizations', 'whatchamacallit', 'whimsicalnesses', 'whippersnappers', 'wholesomenesses', 'whoremistresses', 'withdrawnnesses', 'woebegonenesses', 'wonderfulnesses', 'wondermongering', 'worrisomenesses', 'worthlessnesses', 'wrongheadedness', 'xenomorphically', 'xenotransplants', 'xerographically', 'xeroradiography', 'xylotypographic', 'yellowishnesses', 'yieldablenesses', 'zigzaggednesses', 'zinckifications', 'zinjanthropuses', 'zoogeographical', 'zoophysiologies', 'zoophysiologist', 'zoophytological', 'zoophytologists', 'zoopsychologies', 'zygobranchiates', 'zygophyllaceous']\n"
     ]
    }
   ],
   "source": [
    "fifteenletterwords = []\n",
    "\n",
    "for word in wordlist:\n",
    "    if len(word) == max_length_of_word :\n",
    "        fifteenletterwords.append(word)\n",
    "print(fifteenletterwords)"
   ]
  },
  {
   "cell_type": "code",
   "execution_count": 115,
   "id": "4292b6cc",
   "metadata": {},
   "outputs": [
    {
     "data": {
      "text/plain": [
       "5757"
      ]
     },
     "execution_count": 115,
     "metadata": {},
     "output_type": "execute_result"
    }
   ],
   "source": [
    "len(fifteenletterwords)"
   ]
  },
  {
   "cell_type": "markdown",
   "id": "2432a0a1",
   "metadata": {},
   "source": [
    "# Palindromes"
   ]
  },
  {
   "cell_type": "markdown",
   "id": "303d77bc",
   "metadata": {},
   "source": [
    "### Print out a list of every palindrome (a word that is the same reversed) that's over 6 letters in length."
   ]
  },
  {
   "cell_type": "code",
   "execution_count": 11,
   "id": "ab141cdb",
   "metadata": {},
   "outputs": [
    {
     "data": {
      "text/plain": [
       "226246"
      ]
     },
     "execution_count": 11,
     "metadata": {},
     "output_type": "execute_result"
    }
   ],
   "source": [
    "more_than_six = []\n",
    "\n",
    "for word in wordlist:\n",
    "    if len(word) > 6 :\n",
    "        more_than_six.append(word)\n",
    "    \n",
    "len(more_than_six)"
   ]
  },
  {
   "cell_type": "code",
   "execution_count": 12,
   "id": "9bade791",
   "metadata": {},
   "outputs": [
    {
     "name": "stdout",
     "output_type": "stream",
     "text": [
      "['deified', 'hadedah', 'halalah', 'reifier', 'repaper', 'reviver', 'rotator', 'rotavator', 'seities', 'sememes']\n"
     ]
    }
   ],
   "source": [
    "palindromes = []\n",
    "\n",
    "for word in more_than_six :\n",
    "    if word == word[:: -1] :\n",
    "        palindromes.append(word)\n",
    "        \n",
    "print(palindromes)\n",
    "    "
   ]
  },
  {
   "cell_type": "markdown",
   "id": "c6eb4fe9",
   "metadata": {},
   "source": [
    "## How many are there? "
   ]
  },
  {
   "cell_type": "code",
   "execution_count": 13,
   "id": "9f558ec5",
   "metadata": {
    "scrolled": true
   },
   "outputs": [
    {
     "data": {
      "text/plain": [
       "10"
      ]
     },
     "execution_count": 13,
     "metadata": {},
     "output_type": "execute_result"
    }
   ],
   "source": [
    "len(palindromes)"
   ]
  },
  {
   "cell_type": "markdown",
   "id": "5e2a10e8",
   "metadata": {},
   "source": [
    "# Something fun"
   ]
  },
  {
   "cell_type": "markdown",
   "id": "361e1794",
   "metadata": {},
   "source": [
    "### Words with six consonants in a row."
   ]
  },
  {
   "cell_type": "code",
   "execution_count": 15,
   "id": "af046fbc",
   "metadata": {},
   "outputs": [
    {
     "name": "stdout",
     "output_type": "stream",
     "text": [
      "['acrylyl', 'alchymy', 'alphyls', 'amethysts', 'anaglyphs', 'anaglyphy', 'anisophylly', 'antisyzygy', 'aphylly', 'araeosystyle', 'araeosystyles', 'argylls', 'arhythmia', 'arhythmias', 'arhythmic', 'asphyxy', 'assythment', 'assythments', 'asynchronies', 'asynchronism', 'asynchronisms', 'asynchronous', 'asynchronously', 'asynchrony', 'bashlyks', 'bathysphere', 'bathyspheres', 'bergschrund', 'bergschrunds', 'bergylts', 'biorhythm', 'biorhythmic', 'biorhythmically', 'biorhythmics', 'borschts', 'butyryls', 'cataclysms', 'cataphylls', 'catchcry', 'catchfly', 'catchphrase', 'catchphrases', 'chlorophylls', 'cladophylls', 'colocynths', 'comsymps', 'countermyths', 'crwths', 'crypts', 'decrypts', 'dendroglyphs', 'diaglyphs', 'diglyphs', 'diptychs', 'ditriglyphs', 'doxycycline', 'doxycyclines', 'dyschroa', 'dyschroas', 'dyschroia', 'dyschroias', 'dyssynergia', 'dyssynergias', 'eighthly', 'emphlyses', 'emphlysis', 'encrypt', 'encrypted', 'encrypting', 'encryption', 'encryptions', 'encystment', 'encystments', 'encysts', 'endolymphs', 'eschscholtzia', 'eschscholtzias', 'eschscholzia', 'eschscholzias', 'ethynyl', 'eurhythmic', 'eurhythmical', 'eurhythmics', 'eurhythmies', 'eurhythmist', 'eurhythmists', 'eurythmy', 'festschrift', 'festschriften', 'festschrifts', 'flybys', 'flysch', 'flysches', 'flyscreen', 'flyscreens', 'flystrike', 'flystrikes', 'geosynchronous', 'ghylls', 'glycyl', 'glyphs', 'gypsydom', 'gypsydoms', 'gypsyhood', 'gypsyhoods', 'gypsywort', 'gypsyworts', 'hemolymphs', 'heterophylly', 'hieroglyphs', 'hippogryphs', 'hryvnya', 'hryvnyas', 'hyperphrygian', 'hypsophylls', 'ichthys', 'ichthyses', 'idiorhythmic', 'interpsychic', 'isorhythmic', 'karyolymphs', 'klystron', 'klystrons', 'latchstring', 'latchstrings', 'lengthsman', 'lengthsmen', 'lithoglyphs', 'lymphs', 'lynchpin', 'lynchpins', 'martyrly', 'megaphylls', 'megasporophylls', 'mesophylls', 'metempsychoses', 'metempsychosis', 'metempsychosist', 'methylphenidate', 'methylphenol', 'methylphenols', 'methylthionine', 'methylthionines', 'microphylls', 'mistryst', 'mistrysted', 'mistrysting', 'myrrhs', 'naphthyl', 'naphthylamine', 'naphthylamines', 'noncrystalline', 'nonpsychiatric', 'nonpsychiatrist', 'nonpsychotic', 'nychthemeral', 'nychthemeron', 'nychthemerons', 'nymphlike', 'nymphs', 'odontorhynchous', 'oldstyle', 'oldstyles', 'ornithorhynchus', 'oxyhydrogen', 'panpsychism', 'panpsychisms', 'panpsychist', 'panpsychistic', 'panpsychists', 'paranymphs', 'perilymphs', 'petroglyphs', 'petroglyphy', 'phenocrysts', 'phlyctaena', 'phlyctaenae', 'phlyctena', 'phlyctenae', 'photoglyphs', 'photoglyphy', 'polycyclic', 'polycyclics', 'polycystic', 'polycythaemia', 'polycythaemias', 'polycythemia', 'polycythemias', 'polycythemic', 'polygyny', 'polyhybrid', 'polyhybrids', 'polyhydric', 'polyhydroxy', 'polyphyletic', 'polystylar', 'polystyle', 'polystyrene', 'polystyrenes', 'polysyllabic', 'polysyllabical', 'polysyllabicism', 'polysyllabism', 'polysyllabisms', 'polysyllable', 'polysyllables', 'polysyllogism', 'polysyllogisms', 'polysyndeton', 'polysyndetons', 'porphyry', 'posthypnotic', 'postsync', 'postsynced', 'postsyncing', 'prophylls', 'psychrometer', 'psychrometers', 'psychrometric', 'psychrometrical', 'psychrometries', 'psychrometry', 'psychrophilic', 'psychs', 'resynchronise', 'resynchronised', 'resynchronises', 'resynchronising', 'resynchronize', 'resynchronized', 'resynchronizes', 'resynchronizing', 'rhombenporphyrs', 'rhombenporphyry', 'rhombporphyry', 'rhynchocoel', 'rhynchocoels', 'rhynchodont', 'rhynchophore', 'rhynchophores', 'rhynchophorous', 'rhythm', 'rhythmal', 'rhythmed', 'rhythmi', 'rhythmic', 'rhythmical', 'rhythmically', 'rhythmicities', 'rhythmicity', 'rhythmics', 'rhythmisation', 'rhythmisations', 'rhythmise', 'rhythmised', 'rhythmises', 'rhythmising', 'rhythmist', 'rhythmists', 'rhythmization', 'rhythmizations', 'rhythmize', 'rhythmized', 'rhythmizes', 'rhythmizing', 'rhythmometer', 'rhythmometers', 'rhythmopoeia', 'rhythmopoeias', 'rhythmus', 'rhythmuses', 'sclerophylls', 'sclerophylly', 'sightscreen', 'sightscreens', 'skyscraper', 'skyscrapers', 'sphygmic', 'sphygmogram', 'sphygmograms', 'sphygmograph', 'sphygmographic', 'sphygmographies', 'sphygmographs', 'sphygmography', 'sphygmoid', 'sphygmologies', 'sphygmology', 'sphygmometer', 'sphygmometers', 'sphygmophone', 'sphygmophones', 'sphygmoscope', 'sphygmoscopes', 'sphygmus', 'sphygmuses', 'sphynx', 'sphynxes', 'sporophylls', 'spryly', 'sylphlike', 'sylphs', 'sylphy', 'synchro', 'synchroflash', 'synchroflashes', 'synchromesh', 'synchromeshes', 'synchronal', 'synchroneities', 'synchroneity', 'synchronic', 'synchronical', 'synchronically', 'synchronicities', 'synchronicity', 'synchronies', 'synchronisation', 'synchronise', 'synchronised', 'synchroniser', 'synchronisers', 'synchronises', 'synchronising', 'synchronism', 'synchronisms', 'synchronistic', 'synchronistical', 'synchronization', 'synchronize', 'synchronized', 'synchronizer', 'synchronizers', 'synchronizes', 'synchronizing', 'synchronologies', 'synchronology', 'synchronoscope', 'synchronoscopes', 'synchronous', 'synchronously', 'synchronousness', 'synchrony', 'synchros', 'synchroscope', 'synchroscopes', 'synchrotron', 'synchrotrons', 'synchs', 'syncytia', 'syncytial', 'syncytium', 'synthpop', 'synthpops', 'synthroni', 'synthronus', 'synths', 'systyle', 'systyles', 'syzygy', 'tachylyte', 'tachylytes', 'tachylytic', 'tachyphrasia', 'tachyphrasias', 'thrymsa', 'thrymsas', 'triglyphs', 'triptychs', 'trysts', 'tsktsk', 'tsktsked', 'tsktsking', 'twelfthly', 'uncrystallised', 'uncrystallized', 'unscythed', 'watchcry', 'watchspring', 'watchsprings', 'watchstrap', 'watchstraps', 'weltschmerz', 'weltschmerzes', 'xanthophylls', 'xenocrysts', 'xylyls', 'youngthly', 'zyzzyva', 'zyzzyvas']\n"
     ]
    }
   ],
   "source": [
    "six_consonant_words = []\n",
    "\n",
    "for word in wordlist :\n",
    "    counter = 0\n",
    "    max_consonant_length = 0\n",
    "    for letter in word :\n",
    "        if letter not in \"aeiou\" :\n",
    "            counter = counter + 1 \n",
    "            max_consonant_length = max(max_consonant_length,counter)\n",
    "        if letter in \"aeiou\" :\n",
    "            counter = 0 \n",
    "    if max_consonant_length == 6 :\n",
    "         six_consonant_words.append(word)\n",
    "            \n",
    "print(six_consonant_words)\n",
    "                                       "
   ]
  },
  {
   "cell_type": "markdown",
   "id": "30a5b965",
   "metadata": {},
   "source": [
    "### Acceptable Scrabble words containing a q but no u."
   ]
  },
  {
   "cell_type": "code",
   "execution_count": 14,
   "id": "218cda7f",
   "metadata": {},
   "outputs": [
    {
     "name": "stdout",
     "output_type": "stream",
     "text": [
      "['faqir', 'faqirs', 'inqilab', 'inqilabs', 'mbaqanga', 'mbaqangas', 'niqab', 'niqabs', 'qabala', 'qabalah', 'qabalahs', 'qabalas', 'qabalism', 'qabalisms', 'qabalist', 'qabalistic', 'qabalists', 'qadi', 'qadis', 'qaid', 'qaids', 'qaimaqam', 'qaimaqams', 'qalamdan', 'qalamdans', 'qanat', 'qanats', 'qasida', 'qasidas', 'qat', 'qats', 'qawwal', 'qawwali', 'qawwalis', 'qawwals', 'qi', 'qibla', 'qiblas', 'qigong', 'qigongs', 'qindar', 'qindarka', 'qindars', 'qintar', 'qintars', 'qis', 'qoph', 'qophs', 'qorma', 'qormas', 'qwerties', 'qwerty', 'qwertys', 'sheqalim', 'sheqel', 'sheqels', 'talaq', 'talaqs', 'tranq', 'tranqs', 'tsaddiq', 'tsaddiqim', 'tsaddiqs', 'tzaddiq', 'tzaddiqim', 'tzaddiqs', 'waqf', 'waqfs', 'yaqona', 'yaqonas']\n"
     ]
    }
   ],
   "source": [
    "QwithoutU = []\n",
    "\n",
    "for word in wordlist :\n",
    "    if \"q\" in word and \"u\" not in word :\n",
    "        QwithoutU.append(word)\n",
    "    \n",
    "print(QwithoutU)"
   ]
  },
  {
   "cell_type": "code",
   "execution_count": null,
   "id": "0a09ed81",
   "metadata": {},
   "outputs": [],
   "source": []
  }
 ],
 "metadata": {
  "kernelspec": {
   "display_name": "Python 3 (ipykernel)",
   "language": "python",
   "name": "python3"
  },
  "language_info": {
   "codemirror_mode": {
    "name": "ipython",
    "version": 3
   },
   "file_extension": ".py",
   "mimetype": "text/x-python",
   "name": "python",
   "nbconvert_exporter": "python",
   "pygments_lexer": "ipython3",
   "version": "3.10.9"
  }
 },
 "nbformat": 4,
 "nbformat_minor": 5
}
