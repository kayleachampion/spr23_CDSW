{
 "cells": [
  {
   "cell_type": "markdown",
   "id": "e5229ba6",
   "metadata": {},
   "source": [
    "# 1.1"
   ]
  },
  {
   "cell_type": "code",
   "execution_count": 12,
   "id": "9b1842b8",
   "metadata": {},
   "outputs": [],
   "source": [
    "import requests "
   ]
  },
  {
   "cell_type": "code",
   "execution_count": 13,
   "id": "4c348960",
   "metadata": {},
   "outputs": [],
   "source": [
    "import json"
   ]
  },
  {
   "cell_type": "code",
   "execution_count": 14,
   "id": "e2832acf",
   "metadata": {},
   "outputs": [],
   "source": [
    "url = \"https://wikimedia.org/api/rest_v1/metrics/pageviews/per-article/en.wikipedia.org/all-access/user/Yuval_Noah_Harari/monthly/20110101/20230420\""
   ]
  },
  {
   "cell_type": "code",
   "execution_count": 15,
   "id": "538d81bf",
   "metadata": {},
   "outputs": [],
   "source": [
    "    headers = {\n",
    "        'User-Agent': 'python data collection bot by ishahi@uw.edu'\n",
    "    }\n",
    "\n",
    "    response = requests.get(url, headers=headers)\n",
    "\n",
    "    if not response.status_code == 200:\n",
    "        print(\"ERROR, request not OK\")"
   ]
  },
  {
   "cell_type": "code",
   "execution_count": 16,
   "id": "64f16d5b",
   "metadata": {},
   "outputs": [
    {
     "data": {
      "text/plain": [
       "93"
      ]
     },
     "execution_count": 16,
     "metadata": {},
     "output_type": "execute_result"
    }
   ],
   "source": [
    "data = response.json()"
   ]
  },
  {
   "cell_type": "code",
   "execution_count": 17,
   "id": "cd48e637",
   "metadata": {},
   "outputs": [],
   "source": [
    "with open (\"writer_yuval_pageviews.json\", \"w\") as my_file:\n",
    "    data_string = json.dumps(data)\n",
    "    print (data_string, file = my_file)"
   ]
  },
  {
   "cell_type": "markdown",
   "id": "33eeedf3",
   "metadata": {},
   "source": [
    "# 1.2"
   ]
  },
  {
   "cell_type": "code",
   "execution_count": 5,
   "id": "d81d786c",
   "metadata": {},
   "outputs": [],
   "source": [
    "import requests \n",
    "import json"
   ]
  },
  {
   "cell_type": "code",
   "execution_count": 6,
   "id": "31c5c36d",
   "metadata": {},
   "outputs": [],
   "source": [
    "url = \"https://wikimedia.org/api/rest_v1/metrics/pageviews/per-article/en.wikipedia.org/all-access/user/Yuval_Noah_Harari/monthly/20110101/20230420\""
   ]
  },
  {
   "cell_type": "code",
   "execution_count": 7,
   "id": "666c911b",
   "metadata": {},
   "outputs": [],
   "source": [
    "def get_wikipedia_pageviews(page_title):\n",
    "    url = (\"https://wikimedia.org/api/rest_v1/metrics/pageviews/per-article/\" + \n",
    "           f\"{language}.wikipedia.org/all-access/user/{page_title}/monthly/20110101/20230420\")    \n",
    "    headers = {'User-Agent': 'python collection bot by ishahi@uw.edu'}\n",
    "\n",
    "    response = requests.get(url, headers=headers)\n",
    "\n",
    "    if not response.status_code == 200:\n",
    "        print(\"ERROR, request not OK\")\n",
    "    \n",
    "    data = response.json()\n",
    "    return data"
   ]
  },
  {
   "cell_type": "code",
   "execution_count": 8,
   "id": "4d26b2b4",
   "metadata": {},
   "outputs": [
    {
     "name": "stdout",
     "output_type": "stream",
     "text": [
      "ERROR, request not OK\n"
     ]
    }
   ],
   "source": [
    "language = [\"fr\",\"es\"]\n",
    "data = get_wikipedia_pageviews(\"Yuval_Noah_Harari\")"
   ]
  },
  {
   "cell_type": "markdown",
   "id": "3e085681",
   "metadata": {},
   "source": [
    "# 1.3"
   ]
  },
  {
   "cell_type": "code",
   "execution_count": 9,
   "id": "82fb3935",
   "metadata": {},
   "outputs": [],
   "source": [
    "def get_wikipedia_pageviews(page_title):\n",
    "    # /metrics/pageviews/per-article/{project}/{access}/{agent}/{article}/{granularity}/{start}/{end}\n",
    "    url = (\"https://wikimedia.org/api/rest_v1/metrics/pageviews/per-article/\" + \n",
    "           f\"en.wikipedia.org/all-access/user/{page_title}/monthly/20220101/20230101\")\n",
    "    \n",
    "\n",
    "    headers = {\n",
    "        'User-Agent': 'python collection bot by ishahi@uw.edu'\n",
    "    }\n",
    "\n",
    "    response = requests.get(url, headers=headers)\n",
    "\n",
    "    if not response.status_code == 200:\n",
    "        print(\"ERROR, request not OK\")\n",
    "    \n",
    "    data = response.json()\n",
    "    return data"
   ]
  },
  {
   "cell_type": "code",
   "execution_count": 10,
   "id": "728c03db",
   "metadata": {},
   "outputs": [],
   "source": [
    "dataMarvel = get_wikipedia_pageviews(\"marvel_comics\")\n",
    "dataDC = get_wikipedia_pageviews(\"DC_comics\")\n",
    "\n",
    "with open(\"dataMarvel_views.json\", 'w') as marvel_file:\n",
    "    data_string_Marvel = json.dumps(dataMarvel)\n",
    "    print(data_string_Marvel, file = marvel_file)\n",
    "    \n",
    "with open(\"dataDC_views.json\", 'w') as my_DCfile:\n",
    "    data_string_DC = json.dumps(dataDC)\n",
    "    print(data_string_DC, file = my_DCfile)"
   ]
  },
  {
   "cell_type": "code",
   "execution_count": null,
   "id": "cd7f88db",
   "metadata": {},
   "outputs": [],
   "source": []
  },
  {
   "cell_type": "markdown",
   "id": "e5592ccd",
   "metadata": {},
   "source": [
    "# 1.4"
   ]
  },
  {
   "cell_type": "code",
   "execution_count": null,
   "id": "13455dda",
   "metadata": {},
   "outputs": [],
   "source": []
  }
 ],
 "metadata": {
  "kernelspec": {
   "display_name": "Python 3 (ipykernel)",
   "language": "python",
   "name": "python3"
  },
  "language_info": {
   "codemirror_mode": {
    "name": "ipython",
    "version": 3
   },
   "file_extension": ".py",
   "mimetype": "text/x-python",
   "name": "python",
   "nbconvert_exporter": "python",
   "pygments_lexer": "ipython3",
   "version": "3.10.9"
  }
 },
 "nbformat": 4,
 "nbformat_minor": 5
}
