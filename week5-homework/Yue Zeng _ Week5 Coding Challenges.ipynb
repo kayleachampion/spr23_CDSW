{
 "cells": [
  {
   "cell_type": "markdown",
   "id": "6a219a07",
   "metadata": {},
   "source": [
    "# 1 "
   ]
  },
  {
   "cell_type": "code",
   "execution_count": 29,
   "id": "7a58941f",
   "metadata": {},
   "outputs": [],
   "source": [
    "import requests\n",
    "import json\n",
    "import datetime\n",
    "\n",
    "person_name = \"Ariana Grande\"\n",
    "start_date = datetime.datetime(2022, 1, 1)\n",
    "end_date = datetime.datetime(2022, 12, 31)\n",
    "\n",
    "# using a list comprehension and the datetime.timedelta function\n",
    "dates = [start_date + datetime.timedelta(days=i) for i in range((end_date - start_date).days + 1)]\n",
    "\n",
    "# making the API request by interpolating three variables into the string using f-strings.\n",
    "url = f\"https://wikimedia.org/api/rest_v1/metrics/pageviews/per-article/en.wikipedia/all-access/all-agents/{person_name}/daily/{start_date.strftime('%Y%m%d')}/{end_date.strftime('%Y%m%d')}\"\n",
    "\n",
    "response = requests.get(url, headers=headers)\n",
    "if not response.status_code == 200:\n",
    "    print(\"ERROR! status was not 200\")\n",
    "    \n",
    "# extracts the daily pageviews from the JSON data by using a list comprehension to iterate over the \"items\" \n",
    "data = response.json()\n",
    "pageviews = [item['views'] for item in data[\"items\"]]\n",
    "\n",
    "with open(\"1.tsv\", \"w\") as out:\n",
    "    out.write(\"date\\tviews\\n\")\n",
    "    for date, pageview in zip(dates, pageviews):\n",
    "        out.write(f\"{date.strftime('%Y%m%d')}\\t{pageview}\\n\")"
   ]
  },
  {
   "cell_type": "markdown",
   "id": "cbbe6c2e",
   "metadata": {},
   "source": [
    "https://docs.google.com/spreadsheets/d/1dm8ToK0l7Zx9lLiqYpZAFLByHcWRHnSweZPEDQ0Z2Ec/edit?usp=sharing"
   ]
  },
  {
   "cell_type": "markdown",
   "id": "d9e52f14",
   "metadata": {},
   "source": [
    "# 2"
   ]
  },
  {
   "cell_type": "code",
   "execution_count": 30,
   "id": "38cbe21e",
   "metadata": {},
   "outputs": [],
   "source": [
    "languages = [\"fr\",\"es\"]\n",
    "\n",
    "result = {}\n",
    "\n",
    "#  entering a loop that iterates through each language\n",
    "for language in languages:\n",
    "    url = f\"https://wikimedia.org/api/rest_v1/metrics/pageviews/per-article/{language}.wikipedia/all-access/all-agents/{person_name}/daily/20220101/20221231\"\n",
    "    response = requests.get(url, headers=headers)\n",
    "    if not response.status_code == 200:\n",
    "        print(\"ERROR! status was not 200\")\n",
    "    data = response.json()\n",
    "    result[language] = [item['views'] for item in data[\"items\"]]\n",
    "\n",
    "with open(\"2.tsv\", \"w\") as out:\n",
    "    out.write(\"date\\tfr views\\tes views\\n\")\n",
    "    for date, fr_pageview, es_pageview in zip(dates, result['fr'], result['es']):\n",
    "        out.write(f\"{date.strftime('%Y%m%d')}\\t{fr_pageview}\\t{es_pageview}\\n\")\n"
   ]
  },
  {
   "cell_type": "markdown",
   "id": "66b84778",
   "metadata": {},
   "source": [
    "https://docs.google.com/spreadsheets/d/1JqQW1M_USH_eBYwp2mAUH50B7XPOzCwj_ChlrTcdPsY/edit?usp=sharing"
   ]
  },
  {
   "cell_type": "markdown",
   "id": "2a728d6a",
   "metadata": {},
   "source": [
    "# 3"
   ]
  },
  {
   "cell_type": "code",
   "execution_count": 55,
   "id": "e6268c44",
   "metadata": {},
   "outputs": [
    {
     "name": "stdout",
     "output_type": "stream",
     "text": [
      "DC Comics has more total page views in 2022\n"
     ]
    }
   ],
   "source": [
    "pagename_list = [\n",
    "    \"Marvel Comics\",\n",
    "    \"DC Comics\",\n",
    "]\n",
    "\n",
    "total_pageviews = {}\n",
    "\n",
    "start_date = datetime.datetime(2022, 1, 1)\n",
    "end_date = datetime.datetime(2022, 12, 31)\n",
    "dates = [start_date + datetime.timedelta(days=i) for i in range((end_date - start_date).days + 1)]\n",
    "\n",
    "for pagename in pagename_list:\n",
    "    url = f\"https://wikimedia.org/api/rest_v1/metrics/pageviews/per-article/en.wikipedia/all-access/all-agents/{pagename}/daily/{start_date.strftime('%Y%m%d')}/{end_date.strftime('%Y%m%d')}\"\n",
    "    response = requests.get(url, headers=headers)\n",
    "    if not response.status_code == 200:\n",
    "        print(response.text)\n",
    "        print(\"ERROR! status was not 200\")\n",
    "        continue\n",
    "    data = response.json()\n",
    "    pageviews = [item['views'] for item in data[\"items\"]]\n",
    "    total_pageviews[pagename] = sum(pageviews)\n",
    "\n",
    "marvel_comics_total_pageviews = total_pageviews['Marvel Comics']\n",
    "dc_comics_total_pageviews = total_pageviews['DC Comics']\n",
    "\n",
    "if marvel_comics_total_pageviews > dc_comics_total_pageviews:\n",
    "    print(\"Marvel Comics has more total page views in 2022\")\n",
    "elif marvel_comics_total_pageviews < dc_comics_total_pageviews:\n",
    "    print(\"DC Comics has more total page views in 2022\")\n",
    "else:\n",
    "    print(\"Marvel Comics and DC Comics have the same total page views in 2022\")\n"
   ]
  },
  {
   "cell_type": "code",
   "execution_count": 79,
   "id": "639e19cc",
   "metadata": {},
   "outputs": [],
   "source": [
    "with open(\"3.1.tsv\", \"w\") as out:\n",
    "    out.write(\"date\\tMarvel Comics PageView\\tDC Comics PageView\\n\")\n",
    "    for date, marvel_comics_view, dc_comics_view in zip(dates, marvel_comics_pageviews, dc_comics_pageviews):\n",
    "        out.write(f\"{date.strftime('%Y%m%d')}\\t{marvel_comics_view}\\t{dc_comics_view}\\n\")"
   ]
  },
  {
   "cell_type": "markdown",
   "id": "04413ee6",
   "metadata": {},
   "source": [
    "https://docs.google.com/spreadsheets/d/1dIv7JiQxDYrhYdIsVRbioDSfZdW60mEIrEEmu2yZ6dQ/edit?usp=sharing"
   ]
  },
  {
   "cell_type": "code",
   "execution_count": 95,
   "id": "ff6650e6",
   "metadata": {},
   "outputs": [
    {
     "name": "stdout",
     "output_type": "stream",
     "text": [
      "ERROR! status was not 200\n"
     ]
    },
    {
     "ename": "JSONDecodeError",
     "evalue": "Expecting value: line 1 column 1 (char 0)",
     "output_type": "error",
     "traceback": [
      "\u001b[0;31m---------------------------------------------------------------------------\u001b[0m",
      "\u001b[0;31mJSONDecodeError\u001b[0m                           Traceback (most recent call last)",
      "File \u001b[0;32m/opt/homebrew/anaconda3/lib/python3.10/site-packages/requests/models.py:971\u001b[0m, in \u001b[0;36mResponse.json\u001b[0;34m(self, **kwargs)\u001b[0m\n\u001b[1;32m    970\u001b[0m \u001b[38;5;28;01mtry\u001b[39;00m:\n\u001b[0;32m--> 971\u001b[0m     \u001b[38;5;28;01mreturn\u001b[39;00m \u001b[43mcomplexjson\u001b[49m\u001b[38;5;241;43m.\u001b[39;49m\u001b[43mloads\u001b[49m\u001b[43m(\u001b[49m\u001b[38;5;28;43mself\u001b[39;49m\u001b[38;5;241;43m.\u001b[39;49m\u001b[43mtext\u001b[49m\u001b[43m,\u001b[49m\u001b[43m \u001b[49m\u001b[38;5;241;43m*\u001b[39;49m\u001b[38;5;241;43m*\u001b[39;49m\u001b[43mkwargs\u001b[49m\u001b[43m)\u001b[49m\n\u001b[1;32m    972\u001b[0m \u001b[38;5;28;01mexcept\u001b[39;00m JSONDecodeError \u001b[38;5;28;01mas\u001b[39;00m e:\n\u001b[1;32m    973\u001b[0m     \u001b[38;5;66;03m# Catch JSON-related errors and raise as requests.JSONDecodeError\u001b[39;00m\n\u001b[1;32m    974\u001b[0m     \u001b[38;5;66;03m# This aliases json.JSONDecodeError and simplejson.JSONDecodeError\u001b[39;00m\n",
      "File \u001b[0;32m/opt/homebrew/anaconda3/lib/python3.10/json/__init__.py:346\u001b[0m, in \u001b[0;36mloads\u001b[0;34m(s, cls, object_hook, parse_float, parse_int, parse_constant, object_pairs_hook, **kw)\u001b[0m\n\u001b[1;32m    343\u001b[0m \u001b[38;5;28;01mif\u001b[39;00m (\u001b[38;5;28mcls\u001b[39m \u001b[38;5;129;01mis\u001b[39;00m \u001b[38;5;28;01mNone\u001b[39;00m \u001b[38;5;129;01mand\u001b[39;00m object_hook \u001b[38;5;129;01mis\u001b[39;00m \u001b[38;5;28;01mNone\u001b[39;00m \u001b[38;5;129;01mand\u001b[39;00m\n\u001b[1;32m    344\u001b[0m         parse_int \u001b[38;5;129;01mis\u001b[39;00m \u001b[38;5;28;01mNone\u001b[39;00m \u001b[38;5;129;01mand\u001b[39;00m parse_float \u001b[38;5;129;01mis\u001b[39;00m \u001b[38;5;28;01mNone\u001b[39;00m \u001b[38;5;129;01mand\u001b[39;00m\n\u001b[1;32m    345\u001b[0m         parse_constant \u001b[38;5;129;01mis\u001b[39;00m \u001b[38;5;28;01mNone\u001b[39;00m \u001b[38;5;129;01mand\u001b[39;00m object_pairs_hook \u001b[38;5;129;01mis\u001b[39;00m \u001b[38;5;28;01mNone\u001b[39;00m \u001b[38;5;129;01mand\u001b[39;00m \u001b[38;5;129;01mnot\u001b[39;00m kw):\n\u001b[0;32m--> 346\u001b[0m     \u001b[38;5;28;01mreturn\u001b[39;00m \u001b[43m_default_decoder\u001b[49m\u001b[38;5;241;43m.\u001b[39;49m\u001b[43mdecode\u001b[49m\u001b[43m(\u001b[49m\u001b[43ms\u001b[49m\u001b[43m)\u001b[49m\n\u001b[1;32m    347\u001b[0m \u001b[38;5;28;01mif\u001b[39;00m \u001b[38;5;28mcls\u001b[39m \u001b[38;5;129;01mis\u001b[39;00m \u001b[38;5;28;01mNone\u001b[39;00m:\n",
      "File \u001b[0;32m/opt/homebrew/anaconda3/lib/python3.10/json/decoder.py:337\u001b[0m, in \u001b[0;36mJSONDecoder.decode\u001b[0;34m(self, s, _w)\u001b[0m\n\u001b[1;32m    333\u001b[0m \u001b[38;5;124;03m\"\"\"Return the Python representation of ``s`` (a ``str`` instance\u001b[39;00m\n\u001b[1;32m    334\u001b[0m \u001b[38;5;124;03mcontaining a JSON document).\u001b[39;00m\n\u001b[1;32m    335\u001b[0m \n\u001b[1;32m    336\u001b[0m \u001b[38;5;124;03m\"\"\"\u001b[39;00m\n\u001b[0;32m--> 337\u001b[0m obj, end \u001b[38;5;241m=\u001b[39m \u001b[38;5;28;43mself\u001b[39;49m\u001b[38;5;241;43m.\u001b[39;49m\u001b[43mraw_decode\u001b[49m\u001b[43m(\u001b[49m\u001b[43ms\u001b[49m\u001b[43m,\u001b[49m\u001b[43m \u001b[49m\u001b[43midx\u001b[49m\u001b[38;5;241;43m=\u001b[39;49m\u001b[43m_w\u001b[49m\u001b[43m(\u001b[49m\u001b[43ms\u001b[49m\u001b[43m,\u001b[49m\u001b[43m \u001b[49m\u001b[38;5;241;43m0\u001b[39;49m\u001b[43m)\u001b[49m\u001b[38;5;241;43m.\u001b[39;49m\u001b[43mend\u001b[49m\u001b[43m(\u001b[49m\u001b[43m)\u001b[49m\u001b[43m)\u001b[49m\n\u001b[1;32m    338\u001b[0m end \u001b[38;5;241m=\u001b[39m _w(s, end)\u001b[38;5;241m.\u001b[39mend()\n",
      "File \u001b[0;32m/opt/homebrew/anaconda3/lib/python3.10/json/decoder.py:355\u001b[0m, in \u001b[0;36mJSONDecoder.raw_decode\u001b[0;34m(self, s, idx)\u001b[0m\n\u001b[1;32m    354\u001b[0m \u001b[38;5;28;01mexcept\u001b[39;00m \u001b[38;5;167;01mStopIteration\u001b[39;00m \u001b[38;5;28;01mas\u001b[39;00m err:\n\u001b[0;32m--> 355\u001b[0m     \u001b[38;5;28;01mraise\u001b[39;00m JSONDecodeError(\u001b[38;5;124m\"\u001b[39m\u001b[38;5;124mExpecting value\u001b[39m\u001b[38;5;124m\"\u001b[39m, s, err\u001b[38;5;241m.\u001b[39mvalue) \u001b[38;5;28;01mfrom\u001b[39;00m \u001b[38;5;28mNone\u001b[39m\n\u001b[1;32m    356\u001b[0m \u001b[38;5;28;01mreturn\u001b[39;00m obj, end\n",
      "\u001b[0;31mJSONDecodeError\u001b[0m: Expecting value: line 1 column 1 (char 0)",
      "\nDuring handling of the above exception, another exception occurred:\n",
      "\u001b[0;31mJSONDecodeError\u001b[0m                           Traceback (most recent call last)",
      "Cell \u001b[0;32mIn[95], line 9\u001b[0m\n\u001b[1;32m      7\u001b[0m \u001b[38;5;28;01mif\u001b[39;00m \u001b[38;5;129;01mnot\u001b[39;00m response\u001b[38;5;241m.\u001b[39mstatus_code \u001b[38;5;241m==\u001b[39m \u001b[38;5;241m200\u001b[39m:\n\u001b[1;32m      8\u001b[0m     \u001b[38;5;28mprint\u001b[39m(\u001b[38;5;124m\"\u001b[39m\u001b[38;5;124mERROR! status was not 200\u001b[39m\u001b[38;5;124m\"\u001b[39m)\n\u001b[0;32m----> 9\u001b[0m data \u001b[38;5;241m=\u001b[39m \u001b[43mresponse\u001b[49m\u001b[38;5;241;43m.\u001b[39;49m\u001b[43mjson\u001b[49m\u001b[43m(\u001b[49m\u001b[43m)\u001b[49m\n\u001b[1;32m     10\u001b[0m pageviews_data \u001b[38;5;241m=\u001b[39m data[\u001b[38;5;124m'\u001b[39m\u001b[38;5;124mitems\u001b[39m\u001b[38;5;124m'\u001b[39m]\n\u001b[1;32m     11\u001b[0m marvel_comics_pageviews \u001b[38;5;241m=\u001b[39m [item[\u001b[38;5;124m'\u001b[39m\u001b[38;5;124mviews\u001b[39m\u001b[38;5;124m'\u001b[39m] \u001b[38;5;28;01mfor\u001b[39;00m item \u001b[38;5;129;01min\u001b[39;00m pageviews_data]\n",
      "File \u001b[0;32m/opt/homebrew/anaconda3/lib/python3.10/site-packages/requests/models.py:975\u001b[0m, in \u001b[0;36mResponse.json\u001b[0;34m(self, **kwargs)\u001b[0m\n\u001b[1;32m    971\u001b[0m     \u001b[38;5;28;01mreturn\u001b[39;00m complexjson\u001b[38;5;241m.\u001b[39mloads(\u001b[38;5;28mself\u001b[39m\u001b[38;5;241m.\u001b[39mtext, \u001b[38;5;241m*\u001b[39m\u001b[38;5;241m*\u001b[39mkwargs)\n\u001b[1;32m    972\u001b[0m \u001b[38;5;28;01mexcept\u001b[39;00m JSONDecodeError \u001b[38;5;28;01mas\u001b[39;00m e:\n\u001b[1;32m    973\u001b[0m     \u001b[38;5;66;03m# Catch JSON-related errors and raise as requests.JSONDecodeError\u001b[39;00m\n\u001b[1;32m    974\u001b[0m     \u001b[38;5;66;03m# This aliases json.JSONDecodeError and simplejson.JSONDecodeError\u001b[39;00m\n\u001b[0;32m--> 975\u001b[0m     \u001b[38;5;28;01mraise\u001b[39;00m RequestsJSONDecodeError(e\u001b[38;5;241m.\u001b[39mmsg, e\u001b[38;5;241m.\u001b[39mdoc, e\u001b[38;5;241m.\u001b[39mpos)\n",
      "\u001b[0;31mJSONDecodeError\u001b[0m: Expecting value: line 1 column 1 (char 0)"
     ]
    }
   ],
   "source": [
    "start_date = datetime.datetime(2015, 1, 1)\n",
    "end_date = datetime.datetime(2022, 12, 31)\n",
    "dates = [start_date + datetime.timedelta(days=i) for i in range((end_date - start_date).days + 1)]\n",
    "\n",
    "url = f\"https://wikimedia.org/api/rest_v1/metrics/pageviews/per-article/en.wikipedia/all-access/all-agents/Marvel Comics/daily/{start_date.strftime('%Y%m%d')}/{end_date.strftime('%Y%m%d')}\"\n",
    "response = requests.get(url, headers=headers)\n",
    "if not response.status_code == 200:\n",
    "    print(\"ERROR! status was not 200\")\n",
    "data = response.json()\n",
    "pageviews_data = data['items']\n",
    "marvel_comics_pageviews = [item['views'] for item in pageviews_data]\n",
    "\n",
    "url = f\"https://wikimedia.org/api/rest_v1/metrics/pageviews/per-article/en.wikipedia/all-access/all-agents/DC Comics/daily/{start_date.strftime('%Y%m%d')}/{end_date.strftime('%Y%m%d')}\"\n",
    "response = requests.get(url, headers=headers)\n",
    "if not response.status_code == 200:\n",
    "    print(\"ERROR! status was not 200\")\n",
    "data = response.json()\n",
    "pageviews_data = data['items']\n",
    "dc_comics_pageviews = [item['views'] for item in pageviews_data]"
   ]
  },
  {
   "cell_type": "code",
   "execution_count": 65,
   "id": "ab1e1b53",
   "metadata": {},
   "outputs": [
    {
     "name": "stdout",
     "output_type": "stream",
     "text": [
      "Marvel Comics has more total page views in 2015\n",
      "Marvel Comics has more total page views in 2017\n",
      "Marvel Comics has more total page views in 2018\n",
      "Marvel Comics has more total page views in 2021\n",
      "There 4 years that Marvel Comics has more total page views\n"
     ]
    }
   ],
   "source": [
    "count = 0\n",
    "for year in range(2015, 2023):\n",
    "    marvel_comics_total_pageviews = sum([views for views, date in zip(marvel_comics_pageviews, dates) if date.year == year])\n",
    "    dc_comics_total_pageviews = sum([views for views, date in zip(dc_comics_pageviews, dates) if date.year == year])\n",
    "\n",
    "    if marvel_comics_total_pageviews > dc_comics_total_pageviews:\n",
    "        print(f\"Marvel Comics has more total page views in {year}\")\n",
    "        count += 1\n",
    "\n",
    "print(f\"There {count} years that Marvel Comics has more total page views\")"
   ]
  },
  {
   "cell_type": "code",
   "execution_count": 66,
   "id": "4436f5b3",
   "metadata": {},
   "outputs": [
    {
     "name": "stdout",
     "output_type": "stream",
     "text": [
      "Marvel Comics has more total page views in 1\n",
      "Marvel Comics has more total page views in 3\n",
      "Marvel Comics has more total page views in 5\n",
      "Marvel Comics has more total page views in 6\n",
      "Marvel Comics has more total page views in 7\n",
      "Marvel Comics has more total page views in 8\n",
      "Marvel Comics has more total page views in 9\n",
      "Marvel Comics has more total page views in 10\n",
      "Marvel Comics has more total page views in 11\n",
      "Marvel Comics has more total page views in 12\n",
      "There 10 month that Marvel Comics has more total page views\n"
     ]
    }
   ],
   "source": [
    "count = 0\n",
    "for month in range(1, 13):\n",
    "    marvel_comics_total_pageviews = sum([views for views, date in zip(marvel_comics_pageviews, dates) if date.month == month])\n",
    "    dc_comics_total_pageviews = sum([views for views, date in zip(dc_comics_pageviews, dates) if date.month == month])\n",
    "\n",
    "    if marvel_comics_total_pageviews > dc_comics_total_pageviews:\n",
    "        print(f\"Marvel Comics has more total page views in {month}\")\n",
    "        count += 1\n",
    "\n",
    "print(f\"There {count} month that Marvel Comics has more total page views\")"
   ]
  },
  {
   "cell_type": "code",
   "execution_count": 40,
   "id": "a817a218",
   "metadata": {},
   "outputs": [
    {
     "name": "stdout",
     "output_type": "stream",
     "text": [
      "Marvel Comics has more total page views in 1\n",
      "Marvel Comics has more total page views in 2\n",
      "Marvel Comics has more total page views in 3\n",
      "Marvel Comics has more total page views in 4\n",
      "Marvel Comics has more total page views in 5\n",
      "Marvel Comics has more total page views in 6\n",
      "Marvel Comics has more total page views in 7\n",
      "Marvel Comics has more total page views in 8\n",
      "Marvel Comics has more total page views in 9\n",
      "Marvel Comics has more total page views in 10\n",
      "Marvel Comics has more total page views in 11\n",
      "Marvel Comics has more total page views in 12\n",
      "Marvel Comics has more total page views in 13\n",
      "Marvel Comics has more total page views in 14\n",
      "Marvel Comics has more total page views in 15\n",
      "Marvel Comics has more total page views in 16\n",
      "Marvel Comics has more total page views in 17\n",
      "Marvel Comics has more total page views in 18\n",
      "Marvel Comics has more total page views in 19\n",
      "Marvel Comics has more total page views in 20\n",
      "Marvel Comics has more total page views in 21\n",
      "Marvel Comics has more total page views in 22\n",
      "Marvel Comics has more total page views in 23\n",
      "Marvel Comics has more total page views in 24\n",
      "Marvel Comics has more total page views in 25\n",
      "Marvel Comics has more total page views in 26\n",
      "Marvel Comics has more total page views in 27\n",
      "Marvel Comics has more total page views in 28\n",
      "Marvel Comics has more total page views in 29\n",
      "Marvel Comics has more total page views in 30\n",
      "Marvel Comics has more total page views in 31\n",
      "There 31 day that Marvel Comics has more total page views\n"
     ]
    }
   ],
   "source": [
    "count = 0\n",
    "for day in range(1, 32):\n",
    "    marvel_comics_total_pageviews = sum([views for views, date in zip(marvel_comics_pageviews, dates) if date.day == day])\n",
    "    dc_comics_total_pageviews = sum([views for views, date in zip(dc_comics_pageviews, dates) if date.day == day])\n",
    "\n",
    "    if marvel_comics_total_pageviews > dc_comics_total_pageviews:\n",
    "        print(f\"Marvel Comics has more total page views in {day}\")\n",
    "        count += 1\n",
    "\n",
    "print(f\"There {count} day that Marvel Comics has more total page views\")"
   ]
  },
  {
   "cell_type": "markdown",
   "id": "05cbce1d",
   "metadata": {},
   "source": [
    "# 4"
   ]
  },
  {
   "cell_type": "code",
   "execution_count": 67,
   "id": "0699913a",
   "metadata": {},
   "outputs": [],
   "source": [
    "import requests\n",
    "import json"
   ]
  },
  {
   "cell_type": "code",
   "execution_count": 68,
   "id": "81c79eec",
   "metadata": {},
   "outputs": [],
   "source": [
    "parameters = {\n",
    "\t\"language\": \"en\",\n",
    "\t\"project\": \"wikipedia\",\n",
    "\t\"depth\": \"999\",\n",
    "\t\"categories\": \"Alternative rock groups from Washington (state)\",\n",
    "\t\"combination\": \"union\",\n",
    "\t\"ns[0]\": \"1\",\n",
    "\t\"show_redirects\": \"both\",\n",
    "\t\"show_soft_redirects\": \"both\",\n",
    "\t\"show_disambiguation_pages\": \"both\",\n",
    "\t\"edits[bots]\": \"both\",\n",
    "\t\"edits[anons]\": \"both\",\n",
    "\t\"edits[flagged]\": \"both\",\n",
    "\t\"page_image\": \"any\",\n",
    "\t\"ores_type\": \"any\",\n",
    "\t\"ores_prediction\": \"any\",\n",
    "\t\"search_max_results\": \"10000\",\n",
    "\t\"namespace_conversion\": \"keep\",\n",
    "\t\"subpage_filter\": \"either\",\n",
    "\t\"common_wiki\": \"auto\",\n",
    "\t\"wikidata_item\": \"no\",\n",
    "\t\"cb_labels_yes_l\": \"1\",\n",
    "\t\"cb_labels_any_l\": \"1\",\n",
    "\t\"cb_labels_no_l\": \"1\",\n",
    "\t\"format\": \"json\",\n",
    "\t\"output_compatability\": \"catscan\",\n",
    "\t\"sortby\": \"none\",\n",
    "\t\"sortorder\": \"ascending\",\n",
    "\t\"min_redlink_count\": \"1\",\n",
    "\t\"interface_language\": \"en\",\n",
    "\t\"active_tab\": \"tab_output\",\n",
    "    \"doit\" : \"Do+it!\"\n",
    "}\n",
    "\n",
    "url = \"https://petscan.wmflabs.org/\"\n",
    "response = requests.post(url, params=parameters)"
   ]
  },
  {
   "cell_type": "code",
   "execution_count": 69,
   "id": "72a55106",
   "metadata": {},
   "outputs": [],
   "source": [
    "if not response.status_code == 200:\n",
    "    print(\"ERROR: response not ok\")"
   ]
  },
  {
   "cell_type": "code",
   "execution_count": 70,
   "id": "fff9c32a",
   "metadata": {},
   "outputs": [],
   "source": [
    "raw_data = response.json()\n",
    "page_dicts = raw_data[\"*\"][0]['a']['*']"
   ]
  },
  {
   "cell_type": "code",
   "execution_count": 71,
   "id": "478b251c",
   "metadata": {},
   "outputs": [
    {
     "name": "stdout",
     "output_type": "stream",
     "text": [
      "Nirvana_(band)\n",
      "The_Presidents_of_the_United_States_of_America_(band)\n",
      "Soundgarden\n",
      "Sleater-Kinney\n",
      "Mother_Love_Bone\n",
      "Beat_Happening\n",
      "Bratmobile\n",
      "Temple_of_the_Dog\n",
      "Mudhoney\n",
      "Modest_Mouse\n",
      "The_Postal_Service\n",
      "Sunny_Day_Real_Estate\n",
      "Green_River_(band)\n",
      "Mad_Season_(band)\n",
      "United_State_of_Electronica\n",
      "Foo_Fighters\n",
      "Candlebox\n",
      "Death_Cab_for_Cutie\n",
      "Pedro_the_Lion\n",
      "Dub_Narcotic_Sound_System\n",
      "Ugly_Casanova\n",
      "Tad_(band)\n",
      "The_Microphones\n",
      "Harvey_Danger\n",
      "Malfunkshun\n",
      "Chaos_Chaos\n",
      "Vendetta_Red\n",
      "Minus_the_Bear\n",
      "Dolour\n",
      "Gas_Huffer\n",
      "Mount_Eerie\n",
      "Brad_(band)\n",
      "Satchel_(band)\n",
      "The_Briefs\n",
      "Poor_Old_Lu\n",
      "Love_as_Laughter\n",
      "The_Makers_(American_band)\n",
      "Bangs_(band)\n",
      "Eureka_Farm\n",
      "The_Posies\n",
      "This_Busy_Monster\n",
      "Gatsbys_American_Dream\n",
      "The_Long_Winters\n",
      "Voyager_One_(band)\n",
      "Trachtenburg_Family_Slideshow_Players\n",
      "Wellwater_Conspiracy\n",
      "Western_State_Hurricanes\n",
      "Gossip_(band)\n",
      "Say_Hi\n",
      "The_Prom_(band)\n",
      "The_Young_Fresh_Fellows\n",
      "The_Listening_(band)\n",
      "The_Walkabouts\n",
      "Band_of_Horses\n",
      "Vells\n",
      "Crooked_Fingers\n",
      "The_U-Men\n",
      "Aqueduct_(band)\n",
      "Red_Stars_Theory\n",
      "764-HERO\n",
      "Old_Time_Relijun\n",
      "Headphones_(band)\n",
      "Sledgeback\n",
      "Pearl_Jam\n",
      "The_Turn-Ons\n",
      "Shoplifting_(band)\n",
      "The_Classic_Crime\n",
      "Fair_(band)\n",
      "Waxwing_(band)\n",
      "This_Providence\n",
      "D+_(band)\n",
      "Unified_Theory_(band)\n",
      "Carissa's_Wierd\n",
      "Tullycraft\n",
      "Beehive_(band)\n",
      "Shotty\n",
      "Room_Nine\n",
      "The_Lights\n",
      "Hovercraft_(band)\n",
      "Six_Cents_and_Natalie\n",
      "The_Rockfords\n",
      "Crayon_(band)\n",
      "Truly_(band)\n",
      "Grand_Archives\n",
      "The_Intelligence\n",
      "Sweet_Water_(band)\n",
      "The_Lonely_Forest\n",
      "Little_Champions\n",
      "Fall_from_Grace_(band)\n",
      "Math_and_Physics_Club\n",
      "The_Magic_Magicians\n",
      "The_Pharmacy\n",
      "The_Cave_Singers\n",
      "Super_Deluxe_(band)\n",
      "Throw_Me_the_Statue\n",
      "Kay_Kay_and_His_Weathered_Underground\n",
      "The_Myriad\n",
      "Grand_Hallway\n",
      "The_Old_Haunts\n",
      "Enation_(band)\n",
      "Danger_Radio\n",
      "Some_By_Sea\n",
      "The_Blakes\n",
      "Brite_Futures\n",
      "His_Boy_Elroy\n",
      "Devilhead\n",
      "Kate_Tucker_&_the_Sons_of_Sweden\n",
      "Daphne_Loves_Derby\n",
      "The_Ghost_and_the_Grace\n",
      "Telekinesis_(band)\n",
      "Mt._St._Helens_Vietnam_Band\n",
      "Tea_Cozies\n",
      "Helvetia_(band)\n",
      "Doll_Factory\n",
      "The_Nightgowns\n",
      "Nevada_Bachelors\n",
      "Roman_Holiday_(band)\n",
      "Ivan_&_Alyosha\n",
      "Rodney_&_the_Tube_Tops\n",
      "He_Is_We\n",
      "Fences_(band)\n",
      "The_Head_and_the_Heart\n",
      "Too_Slim_and_the_Taildraggers\n",
      "Lake_(American_band)\n",
      "Calm_Down_Juanita\n",
      "The_Actual_Tigers\n",
      "Doll_Squad\n",
      "The_Revolutionary_Hydra\n",
      "A_Gun_That_Shoots_Knives\n",
      "Juned\n",
      "Pollens_(band)\n",
      "Two_Loons_for_Tea\n",
      "Boat_(band)\n",
      "Depth_&_Current\n",
      "Satisfact\n",
      "Mocket\n",
      "Richard_M._Nixon_(band)\n",
      "Imaginary_Johnny\n",
      "Milk_Music\n",
      "H_Is_for_Hellgate\n",
      "Seapony\n",
      "Novel_Nature\n",
      "Pillar_Point_(band)\n",
      "Posse_(band)\n",
      "Hobosexual\n",
      "Childbirth_(band)\n",
      "Cardiknox\n",
      "SixTwoSeven\n",
      "The_Heavy_Hearts\n",
      "Great_Grandpa\n",
      "Giants_in_the_Trees\n",
      "SMP_(band)\n",
      "Versing\n",
      "Medicine_Hat_(band)\n",
      "Gun_Outfit\n"
     ]
    }
   ],
   "source": [
    "with open(\"list_of_washington_alternative_rocks_bands_wikipedia-2023-04-25.jsonl\", 'w') as band_list:\n",
    "    for page in page_dicts:\n",
    "        print(page['title']) # also print it out so we can see it\n",
    "        output_dict = {'website' : 'en.wikipedia.org',\n",
    "                       'page_title' : page['title'] }\n",
    "        output_string = json.dumps(output_dict)\n",
    "        print(output_string, file=band_list) # print to the file"
   ]
  },
  {
   "cell_type": "code",
   "execution_count": 76,
   "id": "e60fdcfb",
   "metadata": {},
   "outputs": [],
   "source": [
    "import json\n",
    "\n",
    "start_date = datetime.datetime(2022, 1, 1)\n",
    "end_date = datetime.datetime(2022, 12, 31)\n",
    "\n",
    "page_title_list = []\n",
    "\n",
    "with open(\"./list_of_washington_alternative_rocks_bands_wikipedia-2023-04-25.jsonl\", \"r\") as file_in:\n",
    "    for line in file_in:\n",
    "        buffer = json.loads(line)\n",
    "        page_title_list.append(buffer[\"page_title\"])\n",
    "\n",
    "page_views = {}\n",
    "for page_title in page_title_list:\n",
    "    url = f\"https://wikimedia.org/api/rest_v1/metrics/pageviews/per-article/en.wikipedia/all-access/all-agents/{page_title}/monthly/{start_date.strftime('%Y%m%d')}/{end_date.strftime('%Y%m%d')}\"\n",
    "    response = requests.get(url, headers=headers)\n",
    "    if not response.status_code == 200:\n",
    "        print(response.text)\n",
    "        print(\"ERROR! status was not 200\")\n",
    "    data = response.json()\n",
    "    page_views[page_title] = [item['views'] for item in data[\"items\"]]\n",
    "\n",
    "with open(\"4.1.tsv\", \"w\") as out:\n",
    "    out.write(\"band\\tviews\\n\")\n",
    "    for page_title in page_title_list:\n",
    "        out.write(f\"{page_title}\\t{sum(page_views[page_title])}\\n\")"
   ]
  },
  {
   "cell_type": "markdown",
   "id": "60c07d6f",
   "metadata": {},
   "source": [
    "https://docs.google.com/spreadsheets/d/1eRlo_TSh7Vf02kALDBSAZtACzLS9hIEwOKEptIUU0YA/edit?usp=sharing"
   ]
  },
  {
   "cell_type": "code",
   "execution_count": 89,
   "id": "38d1fc01",
   "metadata": {},
   "outputs": [],
   "source": [
    "dates = [datetime.datetime(2022, month, 1) for month in range(1, 13)]\n",
    "\n",
    "with open(\"4.2.tsv\", \"w\") as out:\n",
    "    buffer = \"\\t\".join([date.strftime(\"%Y%m\") for date in dates])\n",
    "    out.write(\"band\\t{buffer}\\n\")\n",
    "    for band_name in page_title_list:\n",
    "        buffer = \"\\t\".join([str(i) for i in page_views[band_name]])\n",
    "        out.write(f\"{band_name}\\t{buffer}\\n\")"
   ]
  },
  {
   "cell_type": "markdown",
   "id": "0f234f61",
   "metadata": {},
   "source": [
    "https://docs.google.com/spreadsheets/d/1r3cdDbZMrvw8fmRpqnolXFsNP_lS_0w70RpPEnv-Gb4/edit?usp=sharing"
   ]
  },
  {
   "cell_type": "markdown",
   "id": "b0eeb8fa",
   "metadata": {},
   "source": [
    "# Starting on your projects"
   ]
  },
  {
   "cell_type": "markdown",
   "id": "321f18a2",
   "metadata": {},
   "source": [
    "1. Identify an API you will (or might!) want to use for your project.\n",
    "\n",
    "Urban Dictionary"
   ]
  },
  {
   "cell_type": "markdown",
   "id": "aaa471e7",
   "metadata": {},
   "source": [
    "2. Find documentation for that API and include links in your notebook.\n",
    "\n",
    "https://rapidapi.com/community/api/urban-dictionary/"
   ]
  },
  {
   "cell_type": "markdown",
   "id": "573d6313",
   "metadata": {},
   "source": [
    "3. What are the API endpoints you plan to use? What are the parameters you will need to use at that endpoint?\n",
    "\n",
    "Endpoint:https://mashape-community-urban-dictionary.p.rapidapi.com/define\n",
    "\n",
    "Parameters: Self-care, Vegan, Healthy, Healthie, Healthy Nazi, ect(still thinking about them)"
   ]
  },
  {
   "cell_type": "markdown",
   "id": "e1a0510b",
   "metadata": {},
   "source": [
    "4. Is there a Python module that exists that helps make contact with the API? (See if you can you find example code on how to use it)."
   ]
  },
  {
   "cell_type": "code",
   "execution_count": 87,
   "id": "fb1519de",
   "metadata": {
    "scrolled": true
   },
   "outputs": [
    {
     "name": "stdout",
     "output_type": "stream",
     "text": [
      "{'list': [{'definition': 'A weight-loss \"[expert]\", usually weighing excess of 300 pounds, that tries to mentally [scar] skinny kids by telling them how drugs, [McDonald\\'s], and themselves are killing people.', 'permalink': 'http://health-nazi.urbanup.com/731157', 'thumbs_up': 36, 'author': 'Lock and Chain', 'word': 'health nazi', 'defid': 731157, 'current_vote': '', 'written_on': '2004-06-23T17:38:47.000Z', 'example': 'I went to the health nazi yesterday. She told [me I] will [have a heart] attack at age [17].', 'thumbs_down': 30}, {'definition': \"A person who contantly provides their opinions on [dieting], exercise, and [weight loss] in an arrogant and [pushy] manner. They constantly criticize and suppress' others opinions, no matter how factual they may be.\", 'permalink': 'http://health-nazi.urbanup.com/1419111', 'thumbs_up': 107, 'author': 'James1234', 'word': 'Health Nazi', 'defid': 1419111, 'current_vote': '', 'written_on': '2005-08-22T04:56:24.000Z', 'example': '\"That stupid Health Nazi lectured me for [an hour] on why [the Atkins] [diet] doesn\\'t work after I told her I\\'ve been on it\"', 'thumbs_down': 14}, {'definition': 'A person who forces his or her healthy lifestyle on others through supporting legal [bans] of anything unhealthy. As well as being an all around [A-hole] to anyone who isn\\'t like them. Such people generally have a \"[holier-than-thou]\" attitude all around, are only looking for yet another reason to look down on people who don\\'t live up to their perceived view of the world.', 'permalink': 'http://health-nazi.urbanup.com/5445233', 'thumbs_up': 48, 'author': 'Salemcripple', 'word': 'Health Nazi', 'defid': 5445233, 'current_vote': '', 'written_on': '2010-12-18T07:08:13.000Z', 'example': \"Don't be [such a] [health Nazi]!\", 'thumbs_down': 6}]}\n"
     ]
    }
   ],
   "source": [
    "import requests\n",
    "\n",
    "url = \"https://mashape-community-urban-dictionary.p.rapidapi.com/define\"\n",
    "\n",
    "querystring = {\"term\":\"health nazi\"}\n",
    "\n",
    "headers = {\n",
    "\t\"X-RapidAPI-Key\": \"36a149f279msh36642faa238cfd8p14312ajsn05de21b9c70c\",\n",
    "\t\"X-RapidAPI-Host\": \"mashape-community-urban-dictionary.p.rapidapi.com\"\n",
    "}\n",
    "\n",
    "response = requests.get(url, headers=headers, params=querystring)\n",
    "\n",
    "print(response.json())"
   ]
  },
  {
   "cell_type": "markdown",
   "id": "f4dbcd37",
   "metadata": {},
   "source": [
    "4. Does the API require authentication? Does it need to be approved?\n",
    "\n",
    "It is an unofficial API???(From Rapid API: Urban Dictionary) "
   ]
  },
  {
   "cell_type": "markdown",
   "id": "2af3d98e",
   "metadata": {},
   "source": [
    "5. Does the API list rate limits? Does it make any requests about how you should use it?\n",
    "\n",
    "90ms"
   ]
  },
  {
   "cell_type": "markdown",
   "id": "d69f7f5d",
   "metadata": {},
   "source": [
    "6. Make a single API call, either directly using requests or using the Python module you have used. It doesn't matter for what. The goal is that you can get something'."
   ]
  },
  {
   "cell_type": "code",
   "execution_count": 83,
   "id": "974df02b",
   "metadata": {},
   "outputs": [
    {
     "name": "stdout",
     "output_type": "stream",
     "text": [
      "{'list': [{'definition': 'Self care is an [umbrella term] that Twitter/Tumblr [SJWs] use to excuse their poor financial decisions. Why spend money on things like rent/bills when you can buy coloring books from [Whole Foods]?', 'permalink': 'http://self-care.urbanup.com/13082618', 'thumbs_up': 67, 'author': 'Lolwut05', 'word': 'Self care', 'defid': 13082618, 'current_vote': '', 'written_on': '2018-07-21T17:43:28.708Z', 'example': 'I’m six [months behind] on rent, my phone got shut off and my cars getting [repo]’d. I’m going to a $400 spa though because [self care].', 'thumbs_down': 38}, {'definition': '[Self care] is putting absurd amounts of [Parmesan cheese] on your [spaghetti]', 'permalink': 'http://self-care.urbanup.com/12619507', 'thumbs_up': 33, 'author': 'Croissantboy', 'word': 'Self Care', 'defid': 12619507, 'current_vote': '', 'written_on': '2018-02-28T20:56:20.915Z', 'example': '[Self care] is [important] when going to any [restaurant].', 'thumbs_down': 23}, {'definition': 'Doing [acid] and [yelling] at [the moon] naked', 'permalink': 'http://self-care.urbanup.com/15316592', 'thumbs_up': 13, 'author': '', 'word': 'Self care', 'defid': 15316592, 'current_vote': '', 'written_on': '2020-09-15T16:40:00.960Z', 'example': 'Me and my friend are going [camping], we’re gonna [have some] Self care time [if you know what I mean]', 'thumbs_down': 7}, {'definition': 'Doing your [makeup] and [eating pizza rolls]', 'permalink': 'http://self-care.urbanup.com/16125199', 'thumbs_up': 4, 'author': 'robojay500', 'word': 'Self-Care', 'defid': 16125199, 'current_vote': '', 'written_on': '2021-06-23T21:08:11.189Z', 'example': \"Hey [throw some] [pizza rolls] in the oven, it's a [self-care] day\", 'thumbs_down': 2}, {'definition': 'When millennial women choose to ignore all of the tasks they need to accomplish in favor of screwing over their coworkers, doing culturally-appropriative meditation rituals, and drinking [La Croix] water. Can also involve rubbing ungodly amounts of [coconut oil] over their skin and listening to vaporwave music while planning an outing to a gentrified [book store] or record shop.', 'permalink': 'http://self-care.urbanup.com/12206679', 'thumbs_up': 37, 'author': 'frumpadump', 'word': 'self care', 'defid': 12206679, 'current_vote': '', 'written_on': '2017-11-25T04:59:42.666Z', 'example': '\"Why did you call into work [sick] [15 minutes] before your [shift] started?\"\\r\\n\"Oh, I was practicing self care.\"', 'thumbs_down': 44}, {'definition': '[July 24] is national [self care day], it’s when you take a warm bath do face masks and just [enjoy yourself]', 'permalink': 'http://self-care.urbanup.com/13874992', 'thumbs_up': 5, 'author': 'abbers29000', 'word': 'Self Care', 'defid': 13874992, 'current_vote': '', 'written_on': '2019-05-05T21:49:06.937Z', 'example': '“I have to go take a warm bath and put on some face [masks]”\\r\\n“Why”\\r\\n“Because it’s [July 24], national [self care day]”', 'thumbs_down': 14}, {'definition': 'A one-box [shipment] from [Amazon] that features several [treats] you ordered for yourself.', 'permalink': 'http://self-care-package.urbanup.com/15783176', 'thumbs_up': 3, 'author': 'Blue Collar Bandit', 'word': 'Self-care package', 'defid': 15783176, 'current_vote': '', 'written_on': '2021-03-01T03:59:26.201Z', 'example': '“Just ordered a [candle], new [face wash], and paper towels. Gonna be a nice [self-care package] when it comes on Sunday.”', 'thumbs_down': 0}, {'definition': 'The day where you [take care of] yourself by [showering], [shaving], and putting face-masks on before the week starts.', 'permalink': 'http://self-care-sunday.urbanup.com/17647534', 'thumbs_up': 1, 'author': 'caylee3113', 'word': 'Self-Care Sunday', 'defid': 17647534, 'current_vote': '', 'written_on': '2023-01-28T21:46:03.053Z', 'example': 'Girl: Hey [what are you doing] today?\\r\\nOther Girl: [What do you mean] it’s “Self-Care Sunday” ! I’ve been so [busy].', 'thumbs_down': 0}, {'definition': 'that girl who makes [threads] on [insta] and that either [counts] as a career or she knows about \"selfcare\" because she posts on the selfcare account like what, twice a month?', 'permalink': 'http://self-care-thread-girl.urbanup.com/14111043', 'thumbs_up': 1, 'author': 'stantheVscogirls', 'word': 'self care thread girl', 'defid': 14111043, 'current_vote': '', 'written_on': '2019-08-07T19:29:47.450Z', 'example': '\"Oh mY gOd fOlLoW [mY sElF] CarE [acCoUnT]\" [tiffany] said\\n\\n\"bro, she is a self care thread girl\" dan said.', 'thumbs_down': 1}, {'definition': '[Self care day] is on the 12th of April and you [jut] basically [self care] yourself? Do whatever makes you happy and relaxed.', 'permalink': 'http://self-care-day.urbanup.com/15898754', 'thumbs_up': 0, 'author': 'yummy gummy bear', 'word': 'Self Care Day', 'defid': 15898754, 'current_vote': '', 'written_on': '2021-04-10T00:41:34.456Z', 'example': 'Girl: hey its the 12th of [april]\\r\\nGirl 2: oh yeah! lets go to the [spa] and get a massage\\r\\nGirl: I love [self care day]', 'thumbs_down': 1}]}\n"
     ]
    }
   ],
   "source": [
    "import requests\n",
    "\n",
    "url = \"https://mashape-community-urban-dictionary.p.rapidapi.com/define\"\n",
    "\n",
    "querystring = {\"term\":\"self-care\"}\n",
    "\n",
    "headers = {\n",
    "\t\"X-RapidAPI-Key\": \"36a149f279msh36642faa238cfd8p14312ajsn05de21b9c70c\",\n",
    "\t\"X-RapidAPI-Host\": \"mashape-community-urban-dictionary.p.rapidapi.com\"\n",
    "}\n",
    "\n",
    "response = requests.get(url, headers=headers, params=querystring)\n",
    "\n",
    "print(response.json())"
   ]
  },
  {
   "cell_type": "code",
   "execution_count": null,
   "id": "e6405b0d",
   "metadata": {},
   "outputs": [],
   "source": []
  }
 ],
 "metadata": {
  "kernelspec": {
   "display_name": "Python 3 (ipykernel)",
   "language": "python",
   "name": "python3"
  },
  "language_info": {
   "codemirror_mode": {
    "name": "ipython",
    "version": 3
   },
   "file_extension": ".py",
   "mimetype": "text/x-python",
   "name": "python",
   "nbconvert_exporter": "python",
   "pygments_lexer": "ipython3",
   "version": "3.10.9"
  }
 },
 "nbformat": 4,
 "nbformat_minor": 5
}
