{
 "cells": [
  {
   "cell_type": "code",
   "execution_count": 45,
   "id": "b227792e",
   "metadata": {},
   "outputs": [],
   "source": [
    "import requests\n",
    "import json"
   ]
  },
  {
   "cell_type": "code",
   "execution_count": 46,
   "id": "3d45e975",
   "metadata": {},
   "outputs": [],
   "source": [
    "def get_wikipedia_pageviews(page_title, wikipediaUrl):\n",
    "    # /metrics/pageviews/per-article/{project}/{access}/{agent}/{article}/{granularity}/{start}/{end}\n",
    "    url = (\"https://wikimedia.org/api/rest_v1/metrics/pageviews/per-article/\" + \n",
    "           f\"{wikipediaUrl}/all-access/user/{page_title}/daily/20010101/20230424\")\n",
    "\n",
    "    headers = {\n",
    "        'User-Agent': 'python data collection bot by baruni@uw.edu'\n",
    "    }\n",
    "\n",
    "    response = requests.get(url, headers=headers)\n",
    "\n",
    "    if not response.status_code == 200:\n",
    "        print(\"ERROR, request not OK\")\n",
    "    \n",
    "    data = response.json()\n",
    "    return data"
   ]
  },
  {
   "cell_type": "code",
   "execution_count": 47,
   "id": "4a942f88",
   "metadata": {},
   "outputs": [],
   "source": [
    "#Solution 1.1\n",
    "data = get_wikipedia_pageviews(\"Roger_Federer\", \"en.wikipedia.org\")"
   ]
  },
  {
   "cell_type": "code",
   "execution_count": 48,
   "id": "f9579edd",
   "metadata": {},
   "outputs": [
    {
     "data": {
      "text/plain": [
       "2855"
      ]
     },
     "execution_count": 48,
     "metadata": {},
     "output_type": "execute_result"
    }
   ],
   "source": [
    "len(data['items'])"
   ]
  },
  {
   "cell_type": "code",
   "execution_count": 49,
   "id": "53fbb6d3",
   "metadata": {},
   "outputs": [],
   "source": [
    "with open(\"rfpageviews.json\", 'w') as my_file:\n",
    "    data_string = json.dumps(data)\n",
    "    print(data_string, file=my_file)"
   ]
  },
  {
   "cell_type": "code",
   "execution_count": 50,
   "id": "16b13d8e",
   "metadata": {},
   "outputs": [
    {
     "name": "stdout",
     "output_type": "stream",
     "text": [
      "{'project': 'en.wikipedia', 'article': 'Roger_Federer', 'granularity': 'daily', 'timestamp': '2015070100', 'access': 'all-access', 'agent': 'user', 'views': 22065}\n"
     ]
    }
   ],
   "source": [
    "with open(\"rfpageviews.json\", 'r') as input_file:\n",
    "    input_data = input_file.read()\n",
    "    new_data = json.loads(input_data)\n",
    "    print(new_data['items'][0])"
   ]
  },
  {
   "cell_type": "code",
   "execution_count": 51,
   "id": "552bb500",
   "metadata": {},
   "outputs": [],
   "source": [
    "def clean_up_timestamp(day):\n",
    "    new_time_stamp = day[0:4] + \"-\" + day[4:6] + \"-\" + day[6:8]\n",
    "    return new_time_stamp"
   ]
  },
  {
   "cell_type": "code",
   "execution_count": 52,
   "id": "d3e67387",
   "metadata": {},
   "outputs": [],
   "source": [
    "views_by_day = {}\n",
    "for day_dict in new_data['items']:\n",
    "    day = clean_up_timestamp(day_dict['timestamp'])\n",
    "    views_by_day[day] = day_dict['views']"
   ]
  },
  {
   "cell_type": "code",
   "execution_count": 53,
   "id": "60f732dc",
   "metadata": {},
   "outputs": [],
   "source": [
    "with open('view_by_day_rf.tsv', 'w') as output_file:\n",
    "    print(\"day\\tviews\", file=output_file)\n",
    "    for day in views_by_day:\n",
    "        print(f\"{day}\\t{views_by_day[day]}\", file=output_file)\n",
    "        \n",
    "        \n",
    "#https://docs.google.com/spreadsheets/d/1_d_zRFNWiypFsQy-EbI3p4xFoAY4alb-pucpDqQL7tw/edit?usp=sharing"
   ]
  },
  {
   "cell_type": "code",
   "execution_count": 55,
   "id": "87718efe",
   "metadata": {},
   "outputs": [],
   "source": [
    "def get_views_by_day(json_data):\n",
    "    views_by_day = {}\n",
    "    for day_dict in json_data['items']:\n",
    "        day = clean_up_timestamp(day_dict['timestamp'])\n",
    "        views_by_day[day] = day_dict['views']\n",
    "    return views_by_day"
   ]
  },
  {
   "cell_type": "code",
   "execution_count": 65,
   "id": "4860100f",
   "metadata": {},
   "outputs": [
    {
     "data": {
      "text/plain": [
       "2855"
      ]
     },
     "execution_count": 65,
     "metadata": {},
     "output_type": "execute_result"
    }
   ],
   "source": [
    "data1 = get_wikipedia_pageviews(\"Roger_Federer\", \"es.wikipedia.org\")\n",
    "len(data1['items'])"
   ]
  },
  {
   "cell_type": "code",
   "execution_count": 67,
   "id": "b42fb105",
   "metadata": {},
   "outputs": [],
   "source": [
    "with open(\"rfpageviews_es.json\", 'w') as my_file:\n",
    "    data_string = json.dumps(data1)\n",
    "    print(data_string, file=my_file)"
   ]
  },
  {
   "cell_type": "code",
   "execution_count": 68,
   "id": "c97ca17a",
   "metadata": {},
   "outputs": [
    {
     "name": "stdout",
     "output_type": "stream",
     "text": [
      "{'project': 'es.wikipedia', 'article': 'Roger_Federer', 'granularity': 'daily', 'timestamp': '2015070100', 'access': 'all-access', 'agent': 'user', 'views': 1248}\n"
     ]
    }
   ],
   "source": [
    "with open(\"rfpageviews_es.json\", 'r') as input_file:\n",
    "    input_data = input_file.read()\n",
    "    new_data = json.loads(input_data)\n",
    "    print(new_data['items'][0])"
   ]
  },
  {
   "cell_type": "code",
   "execution_count": 69,
   "id": "8fcde8ba",
   "metadata": {},
   "outputs": [],
   "source": [
    "view_data = get_views_by_day(new_data)"
   ]
  },
  {
   "cell_type": "code",
   "execution_count": 70,
   "id": "940c9d87",
   "metadata": {},
   "outputs": [],
   "source": [
    "with open('view_by_day_rf_es.tsv', 'w') as output_file:\n",
    "    print(\"day\\tviews\", file=output_file)\n",
    "    for day in view_data:\n",
    "        print(f\"{day}\\t{view_data[day]}\", file=output_file)"
   ]
  },
  {
   "cell_type": "code",
   "execution_count": 66,
   "id": "c1dce8ed",
   "metadata": {},
   "outputs": [
    {
     "data": {
      "text/plain": [
       "2853"
      ]
     },
     "execution_count": 66,
     "metadata": {},
     "output_type": "execute_result"
    }
   ],
   "source": [
    "data2 = get_wikipedia_pageviews(\"रोजर_फ़ेडरर\", \"hi.wikipedia.org\")\n",
    "len(data2['items'])\n"
   ]
  },
  {
   "cell_type": "code",
   "execution_count": 71,
   "id": "111894c2",
   "metadata": {},
   "outputs": [],
   "source": [
    "with open(\"rfpageviews_hi.json\", 'w') as my_file:\n",
    "    data_string = json.dumps(data2)\n",
    "    print(data_string, file=my_file)"
   ]
  },
  {
   "cell_type": "code",
   "execution_count": 72,
   "id": "97f656a1",
   "metadata": {},
   "outputs": [
    {
     "name": "stdout",
     "output_type": "stream",
     "text": [
      "{'project': 'hi.wikipedia', 'article': 'रोजर_फ़ेडरर', 'granularity': 'daily', 'timestamp': '2015070100', 'access': 'all-access', 'agent': 'user', 'views': 9}\n"
     ]
    }
   ],
   "source": [
    "with open(\"rfpageviews_hi.json\", 'r') as input_file:\n",
    "    input_data = input_file.read()\n",
    "    new_data = json.loads(input_data)\n",
    "    print(new_data['items'][0])"
   ]
  },
  {
   "cell_type": "code",
   "execution_count": 73,
   "id": "dab0c72e",
   "metadata": {},
   "outputs": [],
   "source": [
    "view_data = get_views_by_day(new_data)"
   ]
  },
  {
   "cell_type": "code",
   "execution_count": 74,
   "id": "92aaeb5e",
   "metadata": {},
   "outputs": [],
   "source": [
    "with open('view_by_day_rf_hi.tsv', 'w') as output_file:\n",
    "    print(\"day\\tviews\", file=output_file)\n",
    "    for day in view_data:\n",
    "        print(f\"{day}\\t{view_data[day]}\", file=output_file)"
   ]
  },
  {
   "cell_type": "code",
   "execution_count": null,
   "id": "9b7ef358",
   "metadata": {},
   "outputs": [],
   "source": [
    "#https://docs.google.com/spreadsheets/d/1_d_zRFNWiypFsQy-EbI3p4xFoAY4alb-pucpDqQL7tw/edit#gid=0"
   ]
  },
  {
   "cell_type": "code",
   "execution_count": 75,
   "id": "483d0212",
   "metadata": {},
   "outputs": [],
   "source": [
    "#Solution 1.3\n",
    "\n",
    "data = get_wikipedia_pageviews(\"Marvel_Comics\", \"en.wikipedia.org\")"
   ]
  },
  {
   "cell_type": "code",
   "execution_count": 76,
   "id": "ffa9eaa4",
   "metadata": {},
   "outputs": [],
   "source": [
    "with open(\"marvelpageviews.json\", 'w') as my_file:\n",
    "    data_string = json.dumps(data)\n",
    "    print(data_string, file=my_file)"
   ]
  },
  {
   "cell_type": "code",
   "execution_count": 95,
   "id": "32678140",
   "metadata": {},
   "outputs": [
    {
     "data": {
      "text/plain": [
       "2855"
      ]
     },
     "execution_count": 95,
     "metadata": {},
     "output_type": "execute_result"
    }
   ],
   "source": [
    "len(data['items'])"
   ]
  },
  {
   "cell_type": "code",
   "execution_count": 77,
   "id": "4bc909ea",
   "metadata": {},
   "outputs": [
    {
     "name": "stdout",
     "output_type": "stream",
     "text": [
      "{'project': 'en.wikipedia', 'article': 'Marvel_Comics', 'granularity': 'daily', 'timestamp': '2015070100', 'access': 'all-access', 'agent': 'user', 'views': 4168}\n"
     ]
    }
   ],
   "source": [
    "with open(\"marvelpageviews.json\", 'r') as input_file:\n",
    "    input_data = input_file.read()\n",
    "    new_data = json.loads(input_data)\n",
    "    print(new_data['items'][0])"
   ]
  },
  {
   "cell_type": "code",
   "execution_count": 82,
   "id": "4f958a1f",
   "metadata": {},
   "outputs": [
    {
     "name": "stdout",
     "output_type": "stream",
     "text": [
      "total views in 2022 for marvel are 1804195\n"
     ]
    }
   ],
   "source": [
    "total_views = 0\n",
    "for item in new_data['items']:\n",
    "    if '2022' in item['timestamp']:\n",
    "        total_views = total_views + item['views']\n",
    "\n",
    "print(\"total views in 2022 for marvel are\", total_views)"
   ]
  },
  {
   "cell_type": "code",
   "execution_count": 101,
   "id": "d8e05356",
   "metadata": {},
   "outputs": [],
   "source": [
    "view_data = get_views_by_day(new_data)\n",
    "with open('view_by_day_marvel.tsv', 'w') as output_file:\n",
    "    print(\"day\\tviews\", file=output_file)\n",
    "    for day in view_data.keys():\n",
    "        if '2022' in day:\n",
    "            print(f\"{day}\\t{view_data[day]}\", file=output_file)"
   ]
  },
  {
   "cell_type": "code",
   "execution_count": 85,
   "id": "7290121b",
   "metadata": {},
   "outputs": [],
   "source": [
    "data1 = get_wikipedia_pageviews(\"DC_Comics\", \"en.wikipedia.org\")"
   ]
  },
  {
   "cell_type": "code",
   "execution_count": 86,
   "id": "d440bac9",
   "metadata": {},
   "outputs": [],
   "source": [
    "with open(\"dcpageviews.json\", 'w') as my_file:\n",
    "    data_string1 = json.dumps(data1)\n",
    "    print(data_string1, file=my_file)"
   ]
  },
  {
   "cell_type": "code",
   "execution_count": 94,
   "id": "5078c187",
   "metadata": {},
   "outputs": [
    {
     "data": {
      "text/plain": [
       "2855"
      ]
     },
     "execution_count": 94,
     "metadata": {},
     "output_type": "execute_result"
    }
   ],
   "source": [
    "len(data1['items'])"
   ]
  },
  {
   "cell_type": "code",
   "execution_count": 87,
   "id": "c00db17e",
   "metadata": {},
   "outputs": [
    {
     "name": "stdout",
     "output_type": "stream",
     "text": [
      "{'project': 'en.wikipedia', 'article': 'DC_Comics', 'granularity': 'daily', 'timestamp': '2015070100', 'access': 'all-access', 'agent': 'user', 'views': 3597}\n"
     ]
    }
   ],
   "source": [
    "with open(\"dcpageviews.json\", 'r') as input_file:\n",
    "    input_data = input_file.read()\n",
    "    new_data1 = json.loads(input_data)\n",
    "    print(new_data1['items'][0])"
   ]
  },
  {
   "cell_type": "code",
   "execution_count": 88,
   "id": "5cb770bd",
   "metadata": {},
   "outputs": [
    {
     "name": "stdout",
     "output_type": "stream",
     "text": [
      "total views in 2022 for DC are 1793582\n"
     ]
    }
   ],
   "source": [
    "total_views = 0\n",
    "for item in new_data1['items']:\n",
    "    if '2022' in item['timestamp']:\n",
    "        total_views = total_views + item['views']\n",
    "\n",
    "print(\"total views in 2022 for DC are\", total_views)"
   ]
  },
  {
   "cell_type": "code",
   "execution_count": 100,
   "id": "8796417c",
   "metadata": {},
   "outputs": [],
   "source": [
    "view_data = get_views_by_day(new_data1)\n",
    "with open('view_by_day_dc.tsv', 'w') as output_file:\n",
    "    print(\"day\\tviews\", file=output_file)\n",
    "    for day in view_data.keys():\n",
    "        if '2022' in day:\n",
    "            print(f\"{day}\\t{view_data[day]}\", file=output_file)\n",
    "            \n",
    "#Link for the graph            \n",
    "#https://docs.google.com/spreadsheets/d/1sck6iulhmqLJzJc16jUZil5S4UwwlF0amYtJgnFervI/edit?usp=sharing"
   ]
  },
  {
   "cell_type": "code",
   "execution_count": 135,
   "id": "0bc14c41",
   "metadata": {},
   "outputs": [
    {
     "name": "stdout",
     "output_type": "stream",
     "text": [
      "['2015-07-12', '2015-07-13', '2015-07-14', '2015-07-15', '2015-07-16', '2015-07-17', '2015-07-22', '2015-08-24', '2015-10-07', '2015-10-09', '2015-10-13', '2015-10-14', '2015-10-15', '2015-10-16', '2015-10-17', '2015-10-18', '2015-10-19', '2015-10-20', '2015-10-21', '2015-10-22', '2015-10-23', '2015-10-24', '2015-10-26', '2015-10-27', '2015-10-28', '2015-10-29', '2015-10-30', '2015-10-31', '2015-11-01', '2015-11-02', '2015-11-03', '2015-11-04', '2015-11-05', '2015-11-06', '2015-11-07', '2015-11-09', '2015-11-10', '2015-11-11', '2015-11-12', '2015-11-18', '2015-11-19', '2015-12-03', '2015-12-04', '2015-12-10', '2016-01-20', '2016-01-21', '2016-01-22', '2016-01-23', '2016-01-24', '2016-01-25', '2016-01-26', '2016-01-27', '2016-01-28', '2016-01-29', '2016-01-30', '2016-02-02', '2016-02-03', '2016-02-21', '2016-03-02', '2016-03-03', '2016-03-04', '2016-03-05', '2016-03-07', '2016-03-08', '2016-03-15', '2016-03-22', '2016-03-23', '2016-03-24', '2016-03-25', '2016-03-26', '2016-03-27', '2016-03-28', '2016-03-29', '2016-03-30', '2016-03-31', '2016-04-01', '2016-04-02', '2016-04-03', '2016-04-04', '2016-04-05', '2016-04-06', '2016-04-07', '2016-04-08', '2016-04-09', '2016-04-10', '2016-04-11', '2016-04-12', '2016-04-15', '2016-04-16', '2016-04-18', '2016-04-19', '2016-05-18', '2016-06-20', '2016-06-21', '2016-06-22', '2016-06-23', '2016-06-25', '2016-06-29', '2016-06-30', '2016-07-01', '2016-07-02', '2016-07-03', '2016-07-04', '2016-07-06', '2016-07-09', '2016-07-10', '2016-07-11', '2016-07-12', '2016-07-13', '2016-07-14', '2016-07-15', '2016-07-16', '2016-07-19', '2016-07-20', '2016-07-21', '2016-07-22', '2016-07-23', '2016-07-24', '2016-07-25', '2016-07-26', '2016-07-27', '2016-07-28', '2016-07-29', '2016-07-30', '2016-07-31', '2016-08-01', '2016-08-02', '2016-08-03', '2016-08-04', '2016-08-05', '2016-08-06', '2016-08-07', '2016-08-08', '2016-08-09', '2016-08-10', '2016-08-11', '2016-08-12', '2016-08-13', '2016-08-14', '2016-08-15', '2016-08-16', '2016-08-17', '2016-08-18', '2016-08-19', '2016-08-20', '2016-08-21', '2016-08-22', '2016-08-23', '2016-08-24', '2016-08-25', '2016-08-26', '2016-08-27', '2016-08-28', '2016-08-29', '2016-08-30', '2016-08-31', '2016-09-01', '2016-09-02', '2016-09-03', '2016-09-04', '2016-09-05', '2016-09-06', '2016-09-07', '2016-09-08', '2016-09-09', '2016-09-10', '2016-09-11', '2016-09-12', '2016-09-13', '2016-09-14', '2016-09-15', '2016-09-16', '2016-09-17', '2016-09-18', '2016-09-19', '2016-09-20', '2016-09-21', '2016-09-23', '2016-09-24', '2016-09-25', '2016-09-26', '2016-09-27', '2016-10-14', '2016-10-19', '2016-10-22', '2016-10-23', '2016-10-24', '2016-10-25', '2016-11-24', '2016-11-25', '2016-11-27', '2016-11-28', '2016-11-29', '2016-11-30', '2016-12-01', '2016-12-02', '2016-12-03', '2016-12-04', '2016-12-06', '2016-12-08', '2016-12-12', '2016-12-14', '2016-12-15', '2016-12-16', '2016-12-17', '2016-12-18', '2016-12-19', '2016-12-20', '2016-12-21', '2016-12-22', '2016-12-23', '2016-12-24', '2016-12-25', '2016-12-27', '2017-01-01', '2017-01-03', '2017-01-04', '2017-01-05', '2017-01-06', '2017-01-07', '2017-01-08', '2017-01-09', '2017-01-10', '2017-01-14', '2017-01-17', '2017-01-21', '2017-01-22', '2017-01-23', '2017-01-24', '2017-01-25', '2017-01-31', '2017-02-01', '2017-02-02', '2017-02-03', '2017-02-04', '2017-02-05', '2017-02-22', '2017-03-31', '2017-05-19', '2017-05-22', '2017-05-23', '2017-05-24', '2017-05-25', '2017-05-26', '2017-05-27', '2017-05-28', '2017-05-29', '2017-05-30', '2017-05-31', '2017-06-01', '2017-06-02', '2017-06-03', '2017-06-04', '2017-06-05', '2017-06-06', '2017-06-07', '2017-06-08', '2017-06-09', '2017-06-10', '2017-06-11', '2017-06-12', '2017-06-13', '2017-06-14', '2017-06-15', '2017-06-16', '2017-06-17', '2017-06-18', '2017-06-19', '2017-06-20', '2017-06-21', '2017-06-22', '2017-06-23', '2017-06-24', '2017-06-25', '2017-06-26', '2017-06-27', '2017-06-28', '2017-07-02', '2017-07-03', '2017-07-04', '2017-07-05', '2017-07-22', '2017-07-23', '2017-07-25', '2017-07-28', '2017-08-05', '2017-08-06', '2017-08-28', '2017-09-06', '2017-09-09', '2017-09-13', '2017-09-14', '2017-09-17', '2017-09-19', '2017-09-20', '2017-09-22', '2017-09-23', '2017-09-24', '2017-09-25', '2017-09-26', '2017-09-30', '2017-10-01', '2017-10-02', '2017-10-06', '2017-10-08', '2017-10-09', '2017-10-10', '2017-10-11', '2017-10-12', '2017-10-13', '2017-10-14', '2017-10-15', '2017-10-17', '2017-10-18', '2017-10-20', '2017-10-21', '2017-10-22', '2017-10-23', '2017-10-31', '2017-11-01', '2017-11-02', '2017-11-12', '2017-11-14', '2017-11-15', '2017-11-16', '2017-11-17', '2017-11-18', '2017-11-19', '2017-11-20', '2017-11-21', '2017-11-22', '2017-11-23', '2017-11-24', '2017-11-25', '2017-11-26', '2017-11-27', '2017-11-28', '2017-12-22', '2017-12-23', '2017-12-24', '2017-12-25', '2017-12-26', '2017-12-31', '2018-01-12', '2018-01-13', '2018-01-17', '2018-01-18', '2018-01-20', '2018-01-24', '2018-04-18', '2018-07-22', '2018-07-23', '2018-07-24', '2018-07-25', '2018-12-14', '2018-12-15', '2018-12-16', '2018-12-17', '2018-12-22', '2018-12-23', '2018-12-24', '2018-12-25', '2019-01-06', '2019-01-12', '2019-01-13', '2019-01-14', '2019-04-03', '2019-04-04', '2019-04-05', '2019-04-06', '2019-04-07', '2019-04-08', '2019-09-08', '2019-09-23', '2019-09-24', '2019-09-29', '2019-09-30', '2019-10-01', '2019-10-02', '2019-10-03', '2019-10-04', '2019-10-05', '2019-10-06', '2019-10-07', '2019-10-08', '2019-10-09', '2019-10-10', '2019-10-11', '2019-10-12', '2019-10-13', '2019-10-14', '2019-10-15', '2019-10-16', '2019-10-17', '2019-10-18', '2019-10-19', '2019-10-20', '2019-10-21', '2019-10-22', '2019-10-23', '2019-10-24', '2019-10-25', '2019-10-26', '2019-10-27', '2019-10-28', '2019-10-29', '2019-10-30', '2019-10-31', '2019-11-01', '2019-11-02', '2019-11-03', '2019-11-04', '2019-11-05', '2019-11-06', '2019-11-07', '2019-11-08', '2019-11-09', '2019-11-10', '2019-11-11', '2019-11-12', '2019-11-13', '2019-11-14', '2019-11-15', '2019-11-16', '2019-11-17', '2019-11-18', '2019-11-19', '2019-11-20', '2019-11-21', '2019-11-23', '2019-11-25', '2019-11-26', '2019-11-27', '2019-11-28', '2019-11-29', '2019-11-30', '2019-12-01', '2019-12-02', '2019-12-04', '2019-12-07', '2019-12-08', '2019-12-09', '2019-12-10', '2019-12-11', '2019-12-14', '2019-12-15', '2019-12-16', '2019-12-17', '2019-12-18', '2019-12-19', '2019-12-20', '2019-12-22', '2019-12-23', '2019-12-24', '2019-12-25', '2019-12-26', '2019-12-27', '2019-12-30', '2020-01-01', '2020-01-03', '2020-01-04', '2020-01-05', '2020-01-08', '2020-01-09', '2020-01-10', '2020-01-11', '2020-01-12', '2020-01-13', '2020-01-15', '2020-01-16', '2020-01-17', '2020-01-18', '2020-01-19', '2020-01-20', '2020-01-21', '2020-01-22', '2020-01-23', '2020-01-24', '2020-01-25', '2020-01-26', '2020-01-27', '2020-01-28', '2020-01-29', '2020-01-30', '2020-01-31', '2020-02-01', '2020-02-02', '2020-02-03', '2020-02-04', '2020-02-05', '2020-02-06', '2020-02-07', '2020-02-08', '2020-02-09', '2020-02-10', '2020-02-11', '2020-02-12', '2020-02-13', '2020-02-14', '2020-02-15', '2020-02-16', '2020-02-17', '2020-02-18', '2020-02-19', '2020-02-20', '2020-02-21', '2020-02-22', '2020-02-23', '2020-02-24', '2020-02-25', '2020-02-26', '2020-02-27', '2020-02-28', '2020-02-29', '2020-03-01', '2020-03-02', '2020-03-03', '2020-03-04', '2020-03-05', '2020-03-06', '2020-03-07', '2020-03-08', '2020-03-09', '2020-03-10', '2020-03-11', '2020-03-12', '2020-03-13', '2020-03-17', '2020-03-21', '2020-03-27', '2020-03-29', '2020-04-01', '2020-04-02', '2020-04-03', '2020-04-16', '2020-04-22', '2020-04-27', '2020-05-06', '2020-05-08', '2020-05-09', '2020-05-12', '2020-05-13', '2020-05-14', '2020-05-19', '2020-05-20', '2020-05-21', '2020-05-22', '2020-05-23', '2020-05-24', '2020-05-25', '2020-05-26', '2020-05-27', '2020-05-28', '2020-05-29', '2020-05-30', '2020-05-31', '2020-06-01', '2020-06-02', '2020-06-03', '2020-06-05', '2020-06-06', '2020-06-07', '2020-06-09', '2020-06-10', '2020-06-12', '2020-06-14', '2020-06-15', '2020-06-16', '2020-06-17', '2020-06-18', '2020-06-19', '2020-06-20', '2020-06-21', '2020-06-22', '2020-06-23', '2020-06-24', '2020-06-25', '2020-06-26', '2020-06-27', '2020-06-28', '2020-06-29', '2020-06-30', '2020-07-01', '2020-07-04', '2020-07-06', '2020-07-08', '2020-07-09', '2020-07-10', '2020-07-11', '2020-07-12', '2020-07-13', '2020-07-22', '2020-07-23', '2020-07-28', '2020-07-30', '2020-08-04', '2020-08-05', '2020-08-06', '2020-08-07', '2020-08-09', '2020-08-11', '2020-08-12', '2020-08-13', '2020-08-14', '2020-08-15', '2020-08-16', '2020-08-18', '2020-08-19', '2020-08-20', '2020-08-21', '2020-08-22', '2020-08-23', '2020-08-24', '2020-08-25', '2020-08-26', '2020-08-27', '2020-08-28', '2020-09-12', '2020-09-13', '2020-09-19', '2020-09-20', '2020-09-26', '2020-09-28', '2020-09-29', '2020-10-03', '2020-10-06', '2020-10-07', '2020-10-08', '2020-10-09', '2020-10-10', '2020-10-11', '2020-10-12', '2020-10-13', '2020-10-14', '2020-10-17', '2020-10-18', '2020-10-19', '2020-10-23', '2020-10-24', '2020-10-25', '2020-10-26', '2020-10-27', '2020-10-28', '2020-10-30', '2020-10-31', '2020-11-01', '2020-11-02', '2020-11-03', '2020-11-04', '2020-11-05', '2020-11-06', '2020-11-07', '2020-11-08', '2020-11-10', '2020-11-12', '2020-11-13', '2020-11-28', '2020-12-01', '2020-12-05', '2020-12-06', '2020-12-07', '2020-12-08', '2020-12-15', '2020-12-16', '2020-12-18', '2020-12-19', '2020-12-20', '2020-12-21', '2020-12-22', '2020-12-23', '2020-12-24', '2020-12-25', '2020-12-26', '2020-12-27', '2020-12-28', '2020-12-29', '2020-12-30', '2020-12-31', '2021-01-01', '2021-01-02', '2021-01-03', '2021-01-04', '2021-01-05', '2021-01-06', '2021-01-07', '2021-01-08', '2021-01-09', '2021-01-10', '2021-01-13', '2021-01-21', '2021-03-16', '2021-03-17', '2021-03-18', '2021-03-19', '2021-03-20', '2021-03-21', '2021-03-22', '2021-03-23', '2021-03-24', '2021-03-25', '2021-03-26', '2021-03-27', '2021-03-28', '2021-03-29', '2021-03-30', '2021-03-31', '2021-04-01', '2021-04-02', '2021-04-03', '2021-04-04', '2021-04-05', '2021-04-06', '2021-04-07', '2021-04-08', '2021-04-09', '2021-04-10', '2021-04-11', '2021-04-12', '2021-04-13', '2021-04-14', '2021-04-15', '2021-04-18', '2021-04-20', '2021-04-21', '2021-04-22', '2021-04-29', '2021-04-30', '2021-05-01', '2021-05-02', '2021-05-05', '2021-05-07', '2021-05-08', '2021-05-15', '2021-05-16', '2021-05-17', '2021-05-18', '2021-05-19', '2021-05-20', '2021-05-21', '2021-05-22', '2021-05-23', '2021-05-25', '2021-05-26', '2021-05-27', '2021-05-28', '2021-05-29', '2021-05-30', '2021-05-31', '2021-06-01', '2021-06-02', '2021-06-03', '2021-06-04', '2021-06-05', '2021-06-06', '2021-06-07', '2021-06-08', '2021-06-09', '2021-06-12', '2021-06-14', '2021-06-15', '2021-06-18', '2021-06-19', '2021-06-20', '2021-06-21', '2021-06-22', '2021-06-23', '2021-06-24', '2021-06-27', '2021-06-28', '2021-06-29', '2021-08-04', '2021-08-05', '2021-08-06', '2021-08-07', '2021-08-08', '2021-08-09', '2021-08-10', '2021-08-11', '2021-08-12', '2021-08-13', '2021-08-14', '2021-08-15', '2021-08-16', '2021-08-17', '2021-08-18', '2021-08-19', '2021-08-20', '2021-08-21', '2021-08-22', '2021-10-16', '2021-10-17', '2021-10-18', '2022-02-20', '2022-02-22', '2022-02-23', '2022-02-24', '2022-02-25', '2022-02-26', '2022-02-27', '2022-02-28', '2022-03-01', '2022-03-02', '2022-03-03', '2022-03-04', '2022-03-05', '2022-03-06', '2022-03-07', '2022-03-08', '2022-03-09', '2022-03-10', '2022-03-11', '2022-03-12', '2022-03-13', '2022-03-14', '2022-03-15', '2022-03-16', '2022-03-17', '2022-03-18', '2022-03-19', '2022-03-20', '2022-03-21', '2022-03-22', '2022-03-23', '2022-03-24', '2022-03-25', '2022-03-26', '2022-03-27', '2022-03-28', '2022-03-29', '2022-04-09', '2022-04-12', '2022-04-13', '2022-04-14', '2022-04-15', '2022-04-16', '2022-04-17', '2022-04-18', '2022-04-19', '2022-04-20', '2022-04-21', '2022-04-22', '2022-04-23', '2022-04-24', '2022-04-25', '2022-04-26', '2022-04-27', '2022-04-28', '2022-06-20', '2022-06-21', '2022-06-24', '2022-06-25', '2022-06-26', '2022-06-28', '2022-06-29', '2022-07-01', '2022-07-22', '2022-07-31', '2022-08-01', '2022-08-02', '2022-08-03', '2022-08-04', '2022-08-05', '2022-08-06', '2022-08-07', '2022-08-08', '2022-08-09', '2022-08-10', '2022-08-11', '2022-08-12', '2022-08-13', '2022-08-14', '2022-08-15', '2022-08-16', '2022-08-17', '2022-08-18', '2022-08-19', '2022-08-22', '2022-08-27', '2022-08-28', '2022-08-29', '2022-08-30', '2022-08-31', '2022-09-02', '2022-09-03', '2022-09-04', '2022-09-05', '2022-09-06', '2022-09-15', '2022-09-17', '2022-09-18', '2022-09-19', '2022-09-20', '2022-09-21', '2022-09-22', '2022-09-23', '2022-09-24', '2022-09-25', '2022-09-26', '2022-09-27', '2022-09-28', '2022-09-29', '2022-09-30', '2022-10-01', '2022-10-02', '2022-10-03', '2022-10-04', '2022-10-05', '2022-10-06', '2022-10-07', '2022-10-08', '2022-10-09', '2022-10-10', '2022-10-11', '2022-10-12', '2022-10-13', '2022-10-14', '2022-10-15', '2022-10-16', '2022-10-17', '2022-10-18', '2022-10-19', '2022-10-20', '2022-10-21', '2022-10-22', '2022-10-23', '2022-10-24', '2022-10-25', '2022-10-26', '2022-10-27', '2022-10-28', '2022-10-29', '2022-10-30', '2022-10-31', '2022-11-01', '2022-11-02', '2022-11-03', '2022-11-04', '2022-11-05', '2022-11-06', '2022-11-07', '2022-11-08', '2022-11-09', '2022-11-10', '2022-11-12', '2022-11-15', '2022-11-16', '2022-11-17', '2022-11-18', '2022-11-19', '2022-11-20', '2022-11-21', '2022-11-22', '2022-11-23', '2022-11-24', '2022-11-25', '2022-11-26', '2022-11-27', '2022-11-28', '2022-11-29', '2022-11-30', '2022-12-01', '2022-12-02', '2022-12-03', '2022-12-04', '2022-12-05', '2022-12-06', '2022-12-07', '2022-12-08', '2022-12-09', '2022-12-10', '2022-12-11', '2022-12-12', '2022-12-13', '2022-12-14', '2022-12-15', '2022-12-16', '2022-12-17', '2022-12-18', '2022-12-19', '2022-12-20', '2022-12-21', '2022-12-22', '2022-12-23', '2022-12-24', '2022-12-25', '2022-12-26', '2022-12-27', '2022-12-28', '2022-12-29', '2022-12-30', '2022-12-31', '2023-01-01', '2023-01-02', '2023-01-03', '2023-01-04', '2023-01-05', '2023-01-06', '2023-01-07', '2023-01-08', '2023-01-09', '2023-01-10', '2023-01-11', '2023-01-12', '2023-01-13', '2023-01-14', '2023-01-15', '2023-01-16', '2023-01-17', '2023-01-18', '2023-01-19', '2023-01-20', '2023-01-21', '2023-01-22', '2023-01-23', '2023-01-24', '2023-01-25', '2023-01-26', '2023-01-27', '2023-01-28', '2023-01-29', '2023-01-30', '2023-01-31', '2023-02-01', '2023-02-02', '2023-02-03', '2023-02-04', '2023-02-05', '2023-02-06', '2023-02-07', '2023-02-08', '2023-02-09', '2023-02-10', '2023-02-11', '2023-02-12', '2023-02-13', '2023-02-14', '2023-02-22', '2023-02-23', '2023-02-24', '2023-02-27', '2023-02-28', '2023-03-01', '2023-03-02', '2023-03-03', '2023-03-04', '2023-03-05', '2023-03-06', '2023-03-07', '2023-03-08', '2023-03-09', '2023-03-10', '2023-03-11', '2023-03-12', '2023-03-13', '2023-03-14', '2023-03-15', '2023-03-16', '2023-03-17', '2023-03-18', '2023-03-19', '2023-03-20', '2023-03-21', '2023-03-22', '2023-03-23', '2023-03-24', '2023-03-25', '2023-03-26', '2023-03-27', '2023-03-28', '2023-03-29', '2023-03-30', '2023-03-31', '2023-04-01', '2023-04-02', '2023-04-03', '2023-04-04', '2023-04-05', '2023-04-06', '2023-04-07', '2023-04-08', '2023-04-09', '2023-04-10', '2023-04-11', '2023-04-12', '2023-04-13', '2023-04-14', '2023-04-15', '2023-04-16', '2023-04-17', '2023-04-18', '2023-04-19', '2023-04-20', '2023-04-21', '2023-04-22', '2023-04-23', '2023-04-24']\n",
      "DC has more views than marvel on these many days: 1096\n"
     ]
    }
   ],
   "source": [
    "marvel_data = get_views_by_day(new_data)\n",
    "dc_data = get_views_by_day(new_data1)\n",
    "dayswhendcgreaterthanmarvel = []\n",
    "\n",
    "for day in marvel_data.keys():\n",
    "    if dc_data[day] > marvel_data[day]:\n",
    "        dayswhendcgreaterthanmarvel.append(day)\n",
    "        \n",
    "print(dayswhendcgreaterthanmarvel)\n",
    "print(\"DC has more views than marvel on these many days:\", len(dayswhendcgreaterthanmarvel))"
   ]
  },
  {
   "cell_type": "code",
   "execution_count": 114,
   "id": "3bb11471",
   "metadata": {},
   "outputs": [],
   "source": [
    "def get_views_by_year(json_data):\n",
    "    views_by_year = {}\n",
    "    for day_dict in json_data['items']:\n",
    "        day = clean_up_timestamp(day_dict['timestamp'])\n",
    "        if day[0:4] in views_by_year:\n",
    "            views_by_year[day[0:4]] = day_dict['views'] + views_by_year[day[0:4]]\n",
    "        else:\n",
    "            views_by_year[day[0:4]] = day_dict['views']\n",
    "    return views_by_year"
   ]
  },
  {
   "cell_type": "code",
   "execution_count": 133,
   "id": "950dedda",
   "metadata": {},
   "outputs": [
    {
     "name": "stdout",
     "output_type": "stream",
     "text": [
      "['2016', '2020', '2023']\n",
      "DC has more views than marvel in these many years: 3\n"
     ]
    }
   ],
   "source": [
    "marvel_data = get_views_by_year(new_data)\n",
    "dc_data = get_views_by_year(new_data1)\n",
    "yearswhendcgreaterthanmarvel = []\n",
    "for year in marvel_data.keys():\n",
    "    if dc_data[year] > marvel_data[year]:\n",
    "        yearswhendcgreaterthanmarvel.append(year)\n",
    "        \n",
    "print(yearswhendcgreaterthanmarvel)\n",
    "print(\"DC has more views than marvel in these many years:\", len(yearswhendcgreaterthanmarvel))"
   ]
  },
  {
   "cell_type": "code",
   "execution_count": 131,
   "id": "284e0578",
   "metadata": {},
   "outputs": [],
   "source": [
    "def get_views_by_month(json_data):\n",
    "    views_by_month = {}\n",
    "    for day_dict in json_data['items']:\n",
    "        day = clean_up_timestamp(day_dict['timestamp'])\n",
    "        if day[0:7] in views_by_month:\n",
    "            views_by_month[day[0:7]] = day_dict['views'] + views_by_month[day[0:7]]\n",
    "        else:\n",
    "            views_by_month[day[0:7]] = day_dict['views']\n",
    "    return views_by_month"
   ]
  },
  {
   "cell_type": "code",
   "execution_count": 134,
   "id": "2f47c123",
   "metadata": {},
   "outputs": [
    {
     "name": "stdout",
     "output_type": "stream",
     "text": [
      "['2015-10', '2016-03', '2016-04', '2016-07', '2016-08', '2016-09', '2016-12', '2017-06', '2017-09', '2017-10', '2017-11', '2019-10', '2019-11', '2019-12', '2020-01', '2020-02', '2020-03', '2020-05', '2020-06', '2020-08', '2020-11', '2020-12', '2021-01', '2021-03', '2021-04', '2021-05', '2021-06', '2021-08', '2022-03', '2022-04', '2022-08', '2022-10', '2022-11', '2022-12', '2023-01', '2023-02', '2023-03', '2023-04']\n",
      "DC has more views than marvel in these many months: 38\n"
     ]
    }
   ],
   "source": [
    "marvel_data = get_views_by_month(new_data)\n",
    "dc_data = get_views_by_month(new_data1)\n",
    "monthswhendcgreaterthanmarvel = []\n",
    "for month in marvel_data.keys():\n",
    "    if dc_data[month] > marvel_data[month]:\n",
    "        monthswhendcgreaterthanmarvel.append(month)\n",
    "        \n",
    "print(monthswhendcgreaterthanmarvel)\n",
    "print(\"DC has more views than marvel in these many months:\", len(monthswhendcgreaterthanmarvel))"
   ]
  },
  {
   "cell_type": "code",
   "execution_count": 146,
   "id": "b3d904e7",
   "metadata": {},
   "outputs": [
    {
     "name": "stdout",
     "output_type": "stream",
     "text": [
      "[{'website': 'en.wikipedia.org', 'page_title': 'Nirvana_(band)'}, {'website': 'en.wikipedia.org', 'page_title': 'The_Presidents_of_the_United_States_of_America_(band)'}, {'website': 'en.wikipedia.org', 'page_title': 'Soundgarden'}, {'website': 'en.wikipedia.org', 'page_title': 'Sleater-Kinney'}, {'website': 'en.wikipedia.org', 'page_title': 'Mother_Love_Bone'}, {'website': 'en.wikipedia.org', 'page_title': 'Beat_Happening'}, {'website': 'en.wikipedia.org', 'page_title': 'Bratmobile'}, {'website': 'en.wikipedia.org', 'page_title': 'Temple_of_the_Dog'}, {'website': 'en.wikipedia.org', 'page_title': 'Mudhoney'}, {'website': 'en.wikipedia.org', 'page_title': 'Modest_Mouse'}, {'website': 'en.wikipedia.org', 'page_title': 'The_Postal_Service'}, {'website': 'en.wikipedia.org', 'page_title': 'Sunny_Day_Real_Estate'}, {'website': 'en.wikipedia.org', 'page_title': 'Green_River_(band)'}, {'website': 'en.wikipedia.org', 'page_title': 'Mad_Season_(band)'}, {'website': 'en.wikipedia.org', 'page_title': 'United_State_of_Electronica'}, {'website': 'en.wikipedia.org', 'page_title': 'Foo_Fighters'}, {'website': 'en.wikipedia.org', 'page_title': 'Candlebox'}, {'website': 'en.wikipedia.org', 'page_title': 'Death_Cab_for_Cutie'}, {'website': 'en.wikipedia.org', 'page_title': 'Pedro_the_Lion'}, {'website': 'en.wikipedia.org', 'page_title': 'Dub_Narcotic_Sound_System'}, {'website': 'en.wikipedia.org', 'page_title': 'Ugly_Casanova'}, {'website': 'en.wikipedia.org', 'page_title': 'Tad_(band)'}, {'website': 'en.wikipedia.org', 'page_title': 'The_Microphones'}, {'website': 'en.wikipedia.org', 'page_title': 'Harvey_Danger'}, {'website': 'en.wikipedia.org', 'page_title': 'Malfunkshun'}, {'website': 'en.wikipedia.org', 'page_title': 'Chaos_Chaos'}, {'website': 'en.wikipedia.org', 'page_title': 'Vendetta_Red'}, {'website': 'en.wikipedia.org', 'page_title': 'Minus_the_Bear'}, {'website': 'en.wikipedia.org', 'page_title': 'Dolour'}, {'website': 'en.wikipedia.org', 'page_title': 'Gas_Huffer'}, {'website': 'en.wikipedia.org', 'page_title': 'Mount_Eerie'}, {'website': 'en.wikipedia.org', 'page_title': 'Brad_(band)'}, {'website': 'en.wikipedia.org', 'page_title': 'Satchel_(band)'}, {'website': 'en.wikipedia.org', 'page_title': 'The_Briefs'}, {'website': 'en.wikipedia.org', 'page_title': 'Poor_Old_Lu'}, {'website': 'en.wikipedia.org', 'page_title': 'Love_as_Laughter'}, {'website': 'en.wikipedia.org', 'page_title': 'The_Makers_(American_band)'}, {'website': 'en.wikipedia.org', 'page_title': 'Bangs_(band)'}, {'website': 'en.wikipedia.org', 'page_title': 'Eureka_Farm'}, {'website': 'en.wikipedia.org', 'page_title': 'The_Posies'}, {'website': 'en.wikipedia.org', 'page_title': 'This_Busy_Monster'}, {'website': 'en.wikipedia.org', 'page_title': 'Gatsbys_American_Dream'}, {'website': 'en.wikipedia.org', 'page_title': 'The_Long_Winters'}, {'website': 'en.wikipedia.org', 'page_title': 'Voyager_One_(band)'}, {'website': 'en.wikipedia.org', 'page_title': 'Trachtenburg_Family_Slideshow_Players'}, {'website': 'en.wikipedia.org', 'page_title': 'Wellwater_Conspiracy'}, {'website': 'en.wikipedia.org', 'page_title': 'Western_State_Hurricanes'}, {'website': 'en.wikipedia.org', 'page_title': 'Gossip_(band)'}, {'website': 'en.wikipedia.org', 'page_title': 'Say_Hi'}, {'website': 'en.wikipedia.org', 'page_title': 'The_Prom_(band)'}, {'website': 'en.wikipedia.org', 'page_title': 'The_Young_Fresh_Fellows'}, {'website': 'en.wikipedia.org', 'page_title': 'The_Listening_(band)'}, {'website': 'en.wikipedia.org', 'page_title': 'The_Walkabouts'}, {'website': 'en.wikipedia.org', 'page_title': 'Band_of_Horses'}, {'website': 'en.wikipedia.org', 'page_title': 'Vells'}, {'website': 'en.wikipedia.org', 'page_title': 'Crooked_Fingers'}, {'website': 'en.wikipedia.org', 'page_title': 'The_U-Men'}, {'website': 'en.wikipedia.org', 'page_title': 'Aqueduct_(band)'}, {'website': 'en.wikipedia.org', 'page_title': 'Red_Stars_Theory'}, {'website': 'en.wikipedia.org', 'page_title': '764-HERO'}, {'website': 'en.wikipedia.org', 'page_title': 'Old_Time_Relijun'}, {'website': 'en.wikipedia.org', 'page_title': 'Headphones_(band)'}, {'website': 'en.wikipedia.org', 'page_title': 'Sledgeback'}, {'website': 'en.wikipedia.org', 'page_title': 'Pearl_Jam'}, {'website': 'en.wikipedia.org', 'page_title': 'The_Turn-Ons'}, {'website': 'en.wikipedia.org', 'page_title': 'Shoplifting_(band)'}, {'website': 'en.wikipedia.org', 'page_title': 'The_Classic_Crime'}, {'website': 'en.wikipedia.org', 'page_title': 'Fair_(band)'}, {'website': 'en.wikipedia.org', 'page_title': 'Waxwing_(band)'}, {'website': 'en.wikipedia.org', 'page_title': 'This_Providence'}, {'website': 'en.wikipedia.org', 'page_title': 'D+_(band)'}, {'website': 'en.wikipedia.org', 'page_title': 'Unified_Theory_(band)'}, {'website': 'en.wikipedia.org', 'page_title': \"Carissa's_Wierd\"}, {'website': 'en.wikipedia.org', 'page_title': 'Tullycraft'}, {'website': 'en.wikipedia.org', 'page_title': 'Beehive_(band)'}, {'website': 'en.wikipedia.org', 'page_title': 'Shotty'}, {'website': 'en.wikipedia.org', 'page_title': 'Room_Nine'}, {'website': 'en.wikipedia.org', 'page_title': 'The_Lights'}, {'website': 'en.wikipedia.org', 'page_title': 'Hovercraft_(band)'}, {'website': 'en.wikipedia.org', 'page_title': 'Six_Cents_and_Natalie'}, {'website': 'en.wikipedia.org', 'page_title': 'The_Rockfords'}, {'website': 'en.wikipedia.org', 'page_title': 'Crayon_(band)'}, {'website': 'en.wikipedia.org', 'page_title': 'Truly_(band)'}, {'website': 'en.wikipedia.org', 'page_title': 'Grand_Archives'}, {'website': 'en.wikipedia.org', 'page_title': 'The_Intelligence'}, {'website': 'en.wikipedia.org', 'page_title': 'Sweet_Water_(band)'}, {'website': 'en.wikipedia.org', 'page_title': 'The_Lonely_Forest'}, {'website': 'en.wikipedia.org', 'page_title': 'Little_Champions'}, {'website': 'en.wikipedia.org', 'page_title': 'Fall_from_Grace_(band)'}, {'website': 'en.wikipedia.org', 'page_title': 'Math_and_Physics_Club'}, {'website': 'en.wikipedia.org', 'page_title': 'The_Magic_Magicians'}, {'website': 'en.wikipedia.org', 'page_title': 'The_Pharmacy'}, {'website': 'en.wikipedia.org', 'page_title': 'The_Cave_Singers'}, {'website': 'en.wikipedia.org', 'page_title': 'Super_Deluxe_(band)'}, {'website': 'en.wikipedia.org', 'page_title': 'Throw_Me_the_Statue'}, {'website': 'en.wikipedia.org', 'page_title': 'Kay_Kay_and_His_Weathered_Underground'}, {'website': 'en.wikipedia.org', 'page_title': 'The_Myriad'}, {'website': 'en.wikipedia.org', 'page_title': 'Grand_Hallway'}, {'website': 'en.wikipedia.org', 'page_title': 'The_Old_Haunts'}, {'website': 'en.wikipedia.org', 'page_title': 'Enation_(band)'}, {'website': 'en.wikipedia.org', 'page_title': 'Danger_Radio'}, {'website': 'en.wikipedia.org', 'page_title': 'Some_By_Sea'}, {'website': 'en.wikipedia.org', 'page_title': 'The_Blakes'}, {'website': 'en.wikipedia.org', 'page_title': 'Brite_Futures'}, {'website': 'en.wikipedia.org', 'page_title': 'His_Boy_Elroy'}, {'website': 'en.wikipedia.org', 'page_title': 'Devilhead'}, {'website': 'en.wikipedia.org', 'page_title': 'Kate_Tucker_&_the_Sons_of_Sweden'}, {'website': 'en.wikipedia.org', 'page_title': 'Daphne_Loves_Derby'}, {'website': 'en.wikipedia.org', 'page_title': 'The_Ghost_and_the_Grace'}, {'website': 'en.wikipedia.org', 'page_title': 'Telekinesis_(band)'}, {'website': 'en.wikipedia.org', 'page_title': 'Mt._St._Helens_Vietnam_Band'}, {'website': 'en.wikipedia.org', 'page_title': 'Tea_Cozies'}, {'website': 'en.wikipedia.org', 'page_title': 'Helvetia_(band)'}, {'website': 'en.wikipedia.org', 'page_title': 'Doll_Factory'}, {'website': 'en.wikipedia.org', 'page_title': 'The_Nightgowns'}, {'website': 'en.wikipedia.org', 'page_title': 'Nevada_Bachelors'}, {'website': 'en.wikipedia.org', 'page_title': 'Roman_Holiday_(band)'}, {'website': 'en.wikipedia.org', 'page_title': 'Ivan_&_Alyosha'}, {'website': 'en.wikipedia.org', 'page_title': 'Rodney_&_the_Tube_Tops'}, {'website': 'en.wikipedia.org', 'page_title': 'He_Is_We'}, {'website': 'en.wikipedia.org', 'page_title': 'Fences_(band)'}, {'website': 'en.wikipedia.org', 'page_title': 'The_Head_and_the_Heart'}, {'website': 'en.wikipedia.org', 'page_title': 'Too_Slim_and_the_Taildraggers'}, {'website': 'en.wikipedia.org', 'page_title': 'Lake_(American_band)'}, {'website': 'en.wikipedia.org', 'page_title': 'Calm_Down_Juanita'}, {'website': 'en.wikipedia.org', 'page_title': 'The_Actual_Tigers'}, {'website': 'en.wikipedia.org', 'page_title': 'Doll_Squad'}, {'website': 'en.wikipedia.org', 'page_title': 'The_Revolutionary_Hydra'}, {'website': 'en.wikipedia.org', 'page_title': 'A_Gun_That_Shoots_Knives'}, {'website': 'en.wikipedia.org', 'page_title': 'Juned'}, {'website': 'en.wikipedia.org', 'page_title': 'Pollens_(band)'}, {'website': 'en.wikipedia.org', 'page_title': 'Two_Loons_for_Tea'}, {'website': 'en.wikipedia.org', 'page_title': 'Boat_(band)'}, {'website': 'en.wikipedia.org', 'page_title': 'Depth_&_Current'}, {'website': 'en.wikipedia.org', 'page_title': 'Satisfact'}, {'website': 'en.wikipedia.org', 'page_title': 'Mocket'}, {'website': 'en.wikipedia.org', 'page_title': 'Richard_M._Nixon_(band)'}, {'website': 'en.wikipedia.org', 'page_title': 'Imaginary_Johnny'}, {'website': 'en.wikipedia.org', 'page_title': 'Milk_Music'}, {'website': 'en.wikipedia.org', 'page_title': 'H_Is_for_Hellgate'}, {'website': 'en.wikipedia.org', 'page_title': 'Seapony'}, {'website': 'en.wikipedia.org', 'page_title': 'Novel_Nature'}, {'website': 'en.wikipedia.org', 'page_title': 'Pillar_Point_(band)'}, {'website': 'en.wikipedia.org', 'page_title': 'Posse_(band)'}, {'website': 'en.wikipedia.org', 'page_title': 'Hobosexual'}, {'website': 'en.wikipedia.org', 'page_title': 'Childbirth_(band)'}, {'website': 'en.wikipedia.org', 'page_title': 'Cardiknox'}, {'website': 'en.wikipedia.org', 'page_title': 'SixTwoSeven'}, {'website': 'en.wikipedia.org', 'page_title': 'The_Heavy_Hearts'}, {'website': 'en.wikipedia.org', 'page_title': 'Great_Grandpa'}, {'website': 'en.wikipedia.org', 'page_title': 'Giants_in_the_Trees'}, {'website': 'en.wikipedia.org', 'page_title': 'SMP_(band)'}, {'website': 'en.wikipedia.org', 'page_title': 'Versing'}, {'website': 'en.wikipedia.org', 'page_title': 'Medicine_Hat_(band)'}, {'website': 'en.wikipedia.org', 'page_title': 'Gun_Outfit'}]\n"
     ]
    }
   ],
   "source": [
    "#Solution 1.4\n",
    "day_dicts = []\n",
    "with open(\"list_of_washington_alternative_rocks_bands_wikipedia-2023-04-25.jsonl.txt\", 'r') as input_file:\n",
    "    for line in input_file.readlines():\n",
    "        new_data = json.loads(line)\n",
    "        day_dicts.append(new_data)\n",
    "        \n",
    "print(day_dicts)"
   ]
  },
  {
   "cell_type": "code",
   "execution_count": 158,
   "id": "adf05aee",
   "metadata": {},
   "outputs": [],
   "source": [
    "def get_wikipedia_pageviews_monthly(page_title, wikipediaUrl):\n",
    "    # /metrics/pageviews/per-article/{project}/{access}/{agent}/{article}/{granularity}/{start}/{end}\n",
    "    url = (\"https://wikimedia.org/api/rest_v1/metrics/pageviews/per-article/\" + \n",
    "           f\"{wikipediaUrl}/all-access/user/{page_title}/daily/20010101/20230424\")\n",
    "\n",
    "    headers = {\n",
    "        'User-Agent': 'python data collection bot by baruni@uw.edu'\n",
    "    }\n",
    "\n",
    "    response = requests.get(url, headers=headers)\n",
    "\n",
    "    if not response.status_code == 200:\n",
    "        print(\"ERROR, request not OK\")\n",
    "    \n",
    "    data = response.json()\n",
    "    return data"
   ]
  },
  {
   "cell_type": "code",
   "execution_count": 164,
   "id": "d0799a59",
   "metadata": {},
   "outputs": [],
   "source": [
    "def get_views_in_year(year, year_dict):\n",
    "    return '0' if year not in year_dict else year_dict[year]"
   ]
  },
  {
   "cell_type": "code",
   "execution_count": 165,
   "id": "0ead59ab",
   "metadata": {},
   "outputs": [
    {
     "name": "stdout",
     "output_type": "stream",
     "text": [
      "Nirvana_(band)\n",
      "The_Presidents_of_the_United_States_of_America_(band)\n",
      "Soundgarden\n",
      "Sleater-Kinney\n",
      "Mother_Love_Bone\n",
      "Beat_Happening\n",
      "Bratmobile\n",
      "Temple_of_the_Dog\n",
      "Mudhoney\n",
      "Modest_Mouse\n",
      "The_Postal_Service\n",
      "Sunny_Day_Real_Estate\n",
      "Green_River_(band)\n",
      "Mad_Season_(band)\n",
      "United_State_of_Electronica\n",
      "Foo_Fighters\n",
      "Candlebox\n",
      "Death_Cab_for_Cutie\n",
      "Pedro_the_Lion\n",
      "Dub_Narcotic_Sound_System\n",
      "Ugly_Casanova\n",
      "Tad_(band)\n",
      "The_Microphones\n",
      "Harvey_Danger\n",
      "Malfunkshun\n",
      "Chaos_Chaos\n",
      "Vendetta_Red\n",
      "Minus_the_Bear\n",
      "Dolour\n",
      "Gas_Huffer\n",
      "Mount_Eerie\n",
      "Brad_(band)\n",
      "Satchel_(band)\n",
      "The_Briefs\n",
      "Poor_Old_Lu\n",
      "Love_as_Laughter\n",
      "The_Makers_(American_band)\n",
      "Bangs_(band)\n",
      "Eureka_Farm\n",
      "The_Posies\n",
      "This_Busy_Monster\n",
      "Gatsbys_American_Dream\n",
      "The_Long_Winters\n",
      "Voyager_One_(band)\n",
      "Trachtenburg_Family_Slideshow_Players\n",
      "Wellwater_Conspiracy\n",
      "Western_State_Hurricanes\n",
      "Gossip_(band)\n",
      "Say_Hi\n",
      "The_Prom_(band)\n",
      "The_Young_Fresh_Fellows\n",
      "The_Listening_(band)\n",
      "The_Walkabouts\n",
      "Band_of_Horses\n",
      "Vells\n",
      "Crooked_Fingers\n",
      "The_U-Men\n",
      "Aqueduct_(band)\n",
      "Red_Stars_Theory\n",
      "764-HERO\n",
      "Old_Time_Relijun\n",
      "Headphones_(band)\n",
      "Sledgeback\n",
      "Pearl_Jam\n",
      "The_Turn-Ons\n",
      "Shoplifting_(band)\n",
      "The_Classic_Crime\n",
      "Fair_(band)\n",
      "Waxwing_(band)\n",
      "This_Providence\n",
      "D+_(band)\n",
      "Unified_Theory_(band)\n",
      "Carissa's_Wierd\n",
      "Tullycraft\n",
      "Beehive_(band)\n",
      "Shotty\n",
      "Room_Nine\n",
      "The_Lights\n",
      "Hovercraft_(band)\n",
      "Six_Cents_and_Natalie\n",
      "The_Rockfords\n",
      "Crayon_(band)\n",
      "Truly_(band)\n",
      "Grand_Archives\n",
      "The_Intelligence\n",
      "Sweet_Water_(band)\n",
      "The_Lonely_Forest\n",
      "Little_Champions\n",
      "Fall_from_Grace_(band)\n",
      "Math_and_Physics_Club\n",
      "The_Magic_Magicians\n",
      "The_Pharmacy\n",
      "The_Cave_Singers\n",
      "Super_Deluxe_(band)\n",
      "Throw_Me_the_Statue\n",
      "Kay_Kay_and_His_Weathered_Underground\n",
      "The_Myriad\n",
      "Grand_Hallway\n",
      "The_Old_Haunts\n",
      "Enation_(band)\n",
      "Danger_Radio\n",
      "Some_By_Sea\n",
      "The_Blakes\n",
      "Brite_Futures\n",
      "His_Boy_Elroy\n",
      "Devilhead\n",
      "Kate_Tucker_&_the_Sons_of_Sweden\n",
      "Daphne_Loves_Derby\n",
      "The_Ghost_and_the_Grace\n",
      "Telekinesis_(band)\n",
      "Mt._St._Helens_Vietnam_Band\n",
      "Tea_Cozies\n",
      "Helvetia_(band)\n",
      "Doll_Factory\n",
      "The_Nightgowns\n",
      "Nevada_Bachelors\n",
      "Roman_Holiday_(band)\n",
      "Ivan_&_Alyosha\n",
      "Rodney_&_the_Tube_Tops\n",
      "He_Is_We\n",
      "Fences_(band)\n",
      "The_Head_and_the_Heart\n",
      "Too_Slim_and_the_Taildraggers\n",
      "Lake_(American_band)\n",
      "Calm_Down_Juanita\n",
      "The_Actual_Tigers\n",
      "Doll_Squad\n",
      "The_Revolutionary_Hydra\n",
      "A_Gun_That_Shoots_Knives\n",
      "Juned\n",
      "Pollens_(band)\n",
      "Two_Loons_for_Tea\n",
      "Boat_(band)\n",
      "Depth_&_Current\n",
      "Satisfact\n",
      "Mocket\n",
      "Richard_M._Nixon_(band)\n",
      "Imaginary_Johnny\n",
      "Milk_Music\n",
      "H_Is_for_Hellgate\n",
      "Seapony\n",
      "Novel_Nature\n",
      "Pillar_Point_(band)\n",
      "Posse_(band)\n",
      "Hobosexual\n",
      "Childbirth_(band)\n",
      "Cardiknox\n",
      "SixTwoSeven\n",
      "The_Heavy_Hearts\n",
      "Great_Grandpa\n",
      "Giants_in_the_Trees\n",
      "SMP_(band)\n",
      "Versing\n",
      "Medicine_Hat_(band)\n",
      "Gun_Outfit\n"
     ]
    }
   ],
   "source": [
    "with open('yearlyviewsfor100articles.tsv', 'w') as output_file:\n",
    "    print(\"Article Name\\t2015\\t2016\\t2017\\t2018\\t2019\\t2020\\t2021\\t20202\\t2023\", file=output_file)\n",
    "    for article in day_dicts:\n",
    "        pagetitle = article['page_title']\n",
    "        print(pagetitle)\n",
    "        monthlydata = get_wikipedia_pageviews_monthly(pagetitle, article['website'])\n",
    "        yearlyviews = get_views_by_year(monthlydata)\n",
    "        print(f\"{article['page_title']}\\t{get_views_in_year('2015', yearlyviews)}\\t{get_views_in_year('2016', yearlyviews)}\\t{get_views_in_year('2017', yearlyviews)}\\t{get_views_in_year('2018', yearlyviews)}\\t{get_views_in_year('2019', yearlyviews)}\\t{get_views_in_year('2020', yearlyviews)}\\t{get_views_in_year('2021', yearlyviews)}\\t{get_views_in_year('2022', yearlyviews)}\\t{get_views_in_year('2023', yearlyviews)}\", file=output_file)\n",
    "        \n",
    "\n",
    "#https://docs.google.com/spreadsheets/d/1m8apYQpbr9HKfdJosRlFm5PxAc6f-sp0alVCXJGyal4/edit#gid=0\n",
    "    "
   ]
  },
  {
   "cell_type": "code",
   "execution_count": null,
   "id": "cc881d9e",
   "metadata": {},
   "outputs": [],
   "source": [
    "#Solution 2\n",
    "\n",
    "#I want to use the Spotify API that gets tracks audio features"
   ]
  },
  {
   "cell_type": "code",
   "execution_count": null,
   "id": "b71bf65b",
   "metadata": {},
   "outputs": [],
   "source": [
    "#https://developer.spotify.com/documentation/web-api/reference/get-several-audio-features"
   ]
  },
  {
   "cell_type": "code",
   "execution_count": null,
   "id": "4c2c712d",
   "metadata": {},
   "outputs": [],
   "source": [
    "#Endpoint - https://api.spotify.com/v1/audio-features/{id}, parameters - IDs (track ids)"
   ]
  },
  {
   "cell_type": "code",
   "execution_count": 209,
   "id": "a78ba7b2",
   "metadata": {},
   "outputs": [],
   "source": [
    "import spotipy"
   ]
  },
  {
   "cell_type": "code",
   "execution_count": 210,
   "id": "cc5449e7",
   "metadata": {},
   "outputs": [],
   "source": [
    "from spotipy.oauth2 import SpotifyClientCredentials\n",
    "\n",
    "auth_manager = SpotifyClientCredentials(client_id='redacted_credential', client_secret='redacted_credential')\n",
    "sp = spotipy.Spotify(auth_manager=auth_manager)"
   ]
  },
  {
   "cell_type": "code",
   "execution_count": 211,
   "id": "83d42bd5",
   "metadata": {},
   "outputs": [],
   "source": [
    "#Yes it provides several options to deal with rate limits. https://developer.spotify.com/documentation/web-api/concepts/rate-limits"
   ]
  },
  {
   "cell_type": "code",
   "execution_count": 212,
   "id": "fbeef975",
   "metadata": {},
   "outputs": [],
   "source": [
    "features = sp.audio_features(['11dFghVXANMlKmJXsNCbNl'])"
   ]
  },
  {
   "cell_type": "code",
   "execution_count": 213,
   "id": "a8109416",
   "metadata": {},
   "outputs": [
    {
     "name": "stdout",
     "output_type": "stream",
     "text": [
      "[{'danceability': 0.696, 'energy': 0.905, 'key': 2, 'loudness': -2.743, 'mode': 1, 'speechiness': 0.103, 'acousticness': 0.011, 'instrumentalness': 0.000905, 'liveness': 0.302, 'valence': 0.625, 'tempo': 114.944, 'type': 'audio_features', 'id': '11dFghVXANMlKmJXsNCbNl', 'uri': 'spotify:track:11dFghVXANMlKmJXsNCbNl', 'track_href': 'https://api.spotify.com/v1/tracks/11dFghVXANMlKmJXsNCbNl', 'analysis_url': 'https://api.spotify.com/v1/audio-analysis/11dFghVXANMlKmJXsNCbNl', 'duration_ms': 207960, 'time_signature': 4}]\n"
     ]
    }
   ],
   "source": [
    "print(features)"
   ]
  },
  {
   "cell_type": "code",
   "execution_count": null,
   "id": "b2f15505",
   "metadata": {},
   "outputs": [],
   "source": []
  }
 ],
 "metadata": {
  "kernelspec": {
   "display_name": "Python 3 (ipykernel)",
   "language": "python",
   "name": "python3"
  },
  "language_info": {
   "codemirror_mode": {
    "name": "ipython",
    "version": 3
   },
   "file_extension": ".py",
   "mimetype": "text/x-python",
   "name": "python",
   "nbconvert_exporter": "python",
   "pygments_lexer": "ipython3",
   "version": "3.10.9"
  }
 },
 "nbformat": 4,
 "nbformat_minor": 5
}
