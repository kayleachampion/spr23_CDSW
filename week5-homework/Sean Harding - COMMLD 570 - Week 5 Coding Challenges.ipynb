{
 "cells": [
  {
   "cell_type": "code",
   "execution_count": 5,
   "id": "50e833eb",
   "metadata": {},
   "outputs": [],
   "source": [
    "import requests\n",
    "import json"
   ]
  },
  {
   "cell_type": "code",
   "execution_count": 6,
   "id": "76434d7b",
   "metadata": {},
   "outputs": [],
   "source": [
    "#Question 1.1"
   ]
  },
  {
   "cell_type": "code",
   "execution_count": 7,
   "id": "a14890a6",
   "metadata": {},
   "outputs": [],
   "source": [
    "def get_wikipedia_pageviews(page_title):\n",
    "    url = (\"https://wikimedia.org/api/rest_v1/metrics/pageviews/per-article/\" + \n",
    "           f\"en.wikipedia.org/all-access/user/{page_title}/daily/20010101/20230424\")\n",
    "\n",
    "    headers = {\n",
    "        'User-Agent': 'python data collection bot by seanh27@uw.edu'\n",
    "    }\n",
    "\n",
    "    response = requests.get(url, headers=headers)\n",
    "\n",
    "    if not response.status_code == 200:\n",
    "        print(\"ERROR, request not OK\")\n",
    "    \n",
    "    data = response.json()\n",
    "    return data"
   ]
  },
  {
   "cell_type": "code",
   "execution_count": 8,
   "id": "b2821c6a",
   "metadata": {},
   "outputs": [],
   "source": [
    "data = get_wikipedia_pageviews(\"Dave_Matthews\")"
   ]
  },
  {
   "cell_type": "code",
   "execution_count": 9,
   "id": "06342341",
   "metadata": {},
   "outputs": [
    {
     "data": {
      "text/plain": [
       "2855"
      ]
     },
     "execution_count": 9,
     "metadata": {},
     "output_type": "execute_result"
    }
   ],
   "source": [
    "len(data['items'])"
   ]
  },
  {
   "cell_type": "code",
   "execution_count": 10,
   "id": "c607ec61",
   "metadata": {},
   "outputs": [],
   "source": [
    "with open(\"dave_matthews_wp_pageviews.json\", 'w') as my_file:\n",
    "    data_string = json.dumps(data)\n",
    "    print(data_string, file=my_file)"
   ]
  },
  {
   "cell_type": "code",
   "execution_count": 11,
   "id": "9d1cc31d",
   "metadata": {},
   "outputs": [],
   "source": [
    "#Question 1.2"
   ]
  },
  {
   "cell_type": "code",
   "execution_count": 12,
   "id": "77b03f72",
   "metadata": {},
   "outputs": [
    {
     "data": {
      "text/plain": [
       "{'project': 'en.wikipedia',\n",
       " 'article': 'Dave_Matthews',\n",
       " 'granularity': 'daily',\n",
       " 'timestamp': '2015070100',\n",
       " 'access': 'all-access',\n",
       " 'agent': 'user',\n",
       " 'views': 2017}"
      ]
     },
     "execution_count": 12,
     "metadata": {},
     "output_type": "execute_result"
    }
   ],
   "source": [
    "with open(\"dave_matthews_wp_pageviews.json\", 'r') as input_file:\n",
    "    input_data = input_file.read()\n",
    "    \n",
    "new_data = json.loads(input_data)\n",
    "\n",
    "new_data['items'][0]"
   ]
  },
  {
   "cell_type": "code",
   "execution_count": 13,
   "id": "393b44f6",
   "metadata": {},
   "outputs": [],
   "source": [
    "def clean_up_timestamp(day):\n",
    "    new_time_stamp = day[0:4] + \"-\" + day[4:6] + \"-\" + day[6:8]\n",
    "    return new_time_stamp"
   ]
  },
  {
   "cell_type": "code",
   "execution_count": 14,
   "id": "1f80a59f",
   "metadata": {},
   "outputs": [],
   "source": [
    "views_by_day = {}\n",
    "for day_dict in new_data['items']:\n",
    "    day = clean_up_timestamp(day_dict['timestamp'])\n",
    "    views_by_day[day] = day_dict['views']\n",
    "    \n",
    "with open('view_by_day_dave_matthews.tsv', 'w') as output_file:\n",
    "    print(\"day\\tviews\", file=output_file)\n",
    "    for day in views_by_day:\n",
    "        print(f\"{day}\\t{views_by_day[day]}\", file=output_file)\n",
    "        \n",
    "#Chart URL:  https://docs.google.com/spreadsheets/d/1yS3luG5tZlShEntTWz5_H6jrABgr9fAeDJWg3asKJ0M/edit?usp=sharing"
   ]
  },
  {
   "cell_type": "code",
   "execution_count": 15,
   "id": "0bdaa5d8",
   "metadata": {},
   "outputs": [],
   "source": [
    "#Question 2"
   ]
  },
  {
   "cell_type": "code",
   "execution_count": 16,
   "id": "4499d0b0",
   "metadata": {},
   "outputs": [],
   "source": [
    "def get_wikipedia_pageviews_russian(page_title):\n",
    "    url = (\"https://wikimedia.org/api/rest_v1/metrics/pageviews/per-article/\" + \n",
    "           f\"ru.wikipedia.org/all-access/user/{page_title}/daily/20010101/20230424\")\n",
    "\n",
    "    headers = {\n",
    "        'User-Agent': 'python data collection bot by seanh27@uw.edu'\n",
    "    }\n",
    "\n",
    "    response = requests.get(url, headers=headers)\n",
    "\n",
    "    if not response.status_code == 200:\n",
    "        print(\"ERROR, request not OK\")\n",
    "    \n",
    "    data = response.json()\n",
    "    return data\n",
    "\n",
    "def get_wikipedia_pageviews_persian(page_title):\n",
    "    url = (\"https://wikimedia.org/api/rest_v1/metrics/pageviews/per-article/\" + \n",
    "           f\"fa.wikipedia.org/all-access/user/{page_title}/daily/20010101/20230424\")\n",
    "\n",
    "    headers = {\n",
    "        'User-Agent': 'python data collection bot by seanh27@uw.edu'\n",
    "    }\n",
    "\n",
    "    response = requests.get(url, headers=headers)\n",
    "\n",
    "    if not response.status_code == 200:\n",
    "        print(\"ERROR, request not OK\")\n",
    "    \n",
    "    data = response.json()\n",
    "    return data"
   ]
  },
  {
   "cell_type": "code",
   "execution_count": 17,
   "id": "40483928",
   "metadata": {},
   "outputs": [],
   "source": [
    "#https://ru.wikipedia.org/wiki/Мэтьюс,_Дэйв\n",
    "#https://fa.wikipedia.org/wiki/دیو_متیوس\n",
    "\n",
    "data = get_wikipedia_pageviews_russian(\"Мэтьюс,_Дэйв\")\n",
    "data\n",
    "\n",
    "with open(\"dave_matthews_wp_pageviews_russian.json\", 'w') as my_file:\n",
    "    data_string = json.dumps(data)\n",
    "    print(data_string, file=my_file)\n",
    "    \n",
    "data = get_wikipedia_pageviews_persian(\"دیو_متیوس\")\n",
    "data\n",
    "\n",
    "with open(\"dave_matthews_wp_pageviews_persian.json\", 'w') as my_file:\n",
    "    data_string = json.dumps(data)\n",
    "    print(data_string, file=my_file)"
   ]
  },
  {
   "cell_type": "code",
   "execution_count": 18,
   "id": "31160115",
   "metadata": {},
   "outputs": [],
   "source": [
    "with open(\"dave_matthews_wp_pageviews_russian.json\", 'r') as input_file:\n",
    "    input_data = input_file.read()\n",
    "    \n",
    "with open(\"dave_matthews_wp_pageviews_persian.json\", 'r') as input_file:\n",
    "    persian_data = input_file.read()    \n",
    "    \n",
    "new_data = json.loads(input_data)\n",
    "new_persian_data = json.loads(persian_data)\n",
    "\n",
    "new_data['items'][0]\n",
    "\n",
    "views_by_day = {}\n",
    "for day_dict in new_data['items']:\n",
    "    day = clean_up_timestamp(day_dict['timestamp'])\n",
    "    views_by_day[day] = day_dict['views']\n",
    "\n",
    "persian_views_by_day = {}    \n",
    "for day_dict in new_persian_data['items']:\n",
    "    day = clean_up_timestamp(day_dict['timestamp'])\n",
    "    persian_views_by_day[day] = day_dict['views']\n",
    "    \n",
    "#print(persian_views_by_day)\n",
    "    \n",
    "with open('view_by_day_dave_matthews_russianfarsai.tsv', 'w') as output_file:\n",
    "    print(\"day\\trussian views\\tpersian views\", file=output_file)\n",
    "    for day in views_by_day:\n",
    "        if day in persian_views_by_day:\n",
    "            print(f\"{day}\\t{views_by_day[day]}\\t{persian_views_by_day[day]}\", file=output_file)\n",
    "        else:\n",
    "             print(f\"{day}\\t{views_by_day[day]}\\t\", file=output_file)\n",
    "                \n",
    "\n",
    "#Google Sheet https://docs.google.com/spreadsheets/d/1g2xK_gCVfbsSwPwjeisbsjVYCWuv-PaJNvugbIYCBOg/edit?usp=sharing"
   ]
  },
  {
   "cell_type": "code",
   "execution_count": 19,
   "id": "b76c3bb0",
   "metadata": {},
   "outputs": [],
   "source": [
    "#Question 3"
   ]
  },
  {
   "cell_type": "code",
   "execution_count": 20,
   "id": "899d6abe",
   "metadata": {},
   "outputs": [
    {
     "name": "stdout",
     "output_type": "stream",
     "text": [
      "1804195\n",
      "1793582\n"
     ]
    }
   ],
   "source": [
    "data = get_wikipedia_pageviews(\"Marvel_Comics\")\n",
    "\n",
    "with open(\"Marvel_Comics_wp_pageviews.json\", 'w') as my_file:\n",
    "    data_string = json.dumps(data)\n",
    "    print(data_string, file=my_file)\n",
    "    \n",
    "with open(\"Marvel_Comics_wp_pageviews.json\", 'r') as input_file:\n",
    "    input_data = input_file.read()\n",
    "    \n",
    "new_data = json.loads(input_data)\n",
    "\n",
    "views_by_day = {}\n",
    "for day_dict in new_data['items']:\n",
    "    day = clean_up_timestamp(day_dict['timestamp'])\n",
    "    views_by_day[day] = day_dict['views']\n",
    "    \n",
    "with open('view_by_day_Marvel_Comics.tsv', 'w') as output_file:\n",
    "    print(\"day\\tviews\", file=output_file)\n",
    "    for day in views_by_day:\n",
    "        print(f\"{day}\\t{views_by_day[day]}\", file=output_file)\n",
    "        \n",
    "counter_2022 = 0\n",
    "\n",
    "for day in views_by_day:\n",
    "    if '2022' in day:\n",
    "        counter_2022 += views_by_day[day]\n",
    "        \n",
    "print(counter_2022)\n",
    "\n",
    "data = get_wikipedia_pageviews(\"DC_Comics\")\n",
    "\n",
    "with open(\"DC_Comics_wp_pageviews.json\", 'w') as my_file:\n",
    "    data_string = json.dumps(data)\n",
    "    print(data_string, file=my_file)\n",
    "    \n",
    "with open(\"DC_Comics_wp_pageviews.json\", 'r') as input_file:\n",
    "    input_data = input_file.read()\n",
    "    \n",
    "new_data = json.loads(input_data)\n",
    "\n",
    "views_by_day = {}\n",
    "for day_dict in new_data['items']:\n",
    "    day = clean_up_timestamp(day_dict['timestamp'])\n",
    "    views_by_day[day] = day_dict['views']\n",
    "    \n",
    "with open('view_by_day_DC_Comics.tsv', 'w') as output_file:\n",
    "    print(\"day\\tviews\", file=output_file)\n",
    "    for day in views_by_day:\n",
    "        print(f\"{day}\\t{views_by_day[day]}\", file=output_file)\n",
    "\n",
    "counter_2022 = 0\n",
    "\n",
    "for day in views_by_day:\n",
    "    if '2022' in day:\n",
    "        counter_2022 += views_by_day[day]\n",
    "print(counter_2022)\n",
    "\n",
    "#Marvel had more total page views in 2022"
   ]
  },
  {
   "cell_type": "code",
   "execution_count": 21,
   "id": "3c8df607",
   "metadata": {},
   "outputs": [],
   "source": [
    "#Question 3.2 https://docs.google.com/spreadsheets/d/1wdfM-u-txS9lam7XxM9Bg_S-kE9HpNBadVv1X_FPKTU/edit?usp=sharing"
   ]
  },
  {
   "cell_type": "code",
   "execution_count": 22,
   "id": "42e864bd",
   "metadata": {},
   "outputs": [],
   "source": [
    "#Question 3.3"
   ]
  },
  {
   "cell_type": "code",
   "execution_count": 23,
   "id": "c4acd340",
   "metadata": {},
   "outputs": [
    {
     "name": "stdout",
     "output_type": "stream",
     "text": [
      "{'2015': 824561, '2016': 2003131, '2017': 1623985, '2018': 1810590, '2019': 1696735, '2020': 1299000, '2021': 1528781, '2022': 1793582, '2023': 486125}\n",
      "{'2015': 901007, '2016': 1982087, '2017': 1670161, '2018': 2707650, '2019': 2099570, '2020': 1227661, '2021': 1878513, '2022': 1804195, '2023': 376331}\n"
     ]
    }
   ],
   "source": [
    "with open(\"DC_Comics_wp_pageviews.json\", 'r') as input_file:\n",
    "    input_data = input_file.read()\n",
    "    \n",
    "new_data = json.loads(input_data)\n",
    "\n",
    "dc_views_by_year = {}\n",
    "for day_dict in new_data['items']:\n",
    "    day = clean_up_timestamp(day_dict['timestamp'])\n",
    "    year = day[:4]\n",
    "    if year in dc_views_by_year:\n",
    "        dc_views_by_year[year] += day_dict['views']\n",
    "    else:\n",
    "        dc_views_by_year[year] = 0\n",
    "        dc_views_by_year[year] += day_dict['views']\n",
    "\n",
    "print(dc_views_by_year)\n",
    "\n",
    "with open(\"Marvel_Comics_wp_pageviews.json\", 'r') as input_file:\n",
    "    input_data = input_file.read()\n",
    "    \n",
    "new_data = json.loads(input_data)\n",
    "\n",
    "marvel_views_by_year = {}\n",
    "for day_dict in new_data['items']:\n",
    "    day = clean_up_timestamp(day_dict['timestamp'])\n",
    "    year = day[:4]\n",
    "    if year in marvel_views_by_year:\n",
    "        marvel_views_by_year[year] += day_dict['views']\n",
    "    else:\n",
    "        marvel_views_by_year[year] = 0\n",
    "        marvel_views_by_year[year] += day_dict['views']\n",
    "\n",
    "print(marvel_views_by_year)\n",
    "\n",
    "with open('view_by_year_dc_marvel.tsv', 'w') as output_file:\n",
    "    print(\"year\\tdc views\\tmarvel views\", file=output_file)\n",
    "    for year in dc_views_by_year:\n",
    "        if year in dc_views_by_year:\n",
    "            print(f\"{year}\\t{dc_views_by_year[year]}\\t{marvel_views_by_year[year]}\", file=output_file)\n",
    "        else:\n",
    "             print(f\"{day}\\t{dc_views_by_year[year]}\\t\", file=output_file)"
   ]
  },
  {
   "cell_type": "code",
   "execution_count": 24,
   "id": "67dbc65e",
   "metadata": {},
   "outputs": [],
   "source": [
    "#DC Had more page views in 2016, 2020, 2023"
   ]
  },
  {
   "cell_type": "code",
   "execution_count": 25,
   "id": "cda3a928",
   "metadata": {},
   "outputs": [],
   "source": [
    "#Question 3.4"
   ]
  },
  {
   "cell_type": "code",
   "execution_count": 26,
   "id": "abf9f8d5",
   "metadata": {},
   "outputs": [
    {
     "name": "stdout",
     "output_type": "stream",
     "text": [
      "\n",
      "{'dc': ['2015-10', '2016-03', '2016-04', '2016-07', '2016-08', '2016-09', '2016-12', '2017-06', '2017-09', '2017-10', '2017-11', '2019-10', '2019-11', '2019-12', '2020-01', '2020-02', '2020-03', '2020-05', '2020-06', '2020-08', '2020-11', '2020-12', '2021-01', '2021-03', '2021-04', '2021-05', '2021-06', '2021-08', '2022-03', '2022-04', '2022-08', '2022-10', '2022-11', '2022-12', '2023-01', '2023-02', '2023-03', '2023-04'], 'marvel': ['2015-07', '2015-08', '2015-09', '2015-11', '2015-12', '2016-01', '2016-02', '2016-05', '2016-06', '2016-10', '2016-11', '2017-01', '2017-02', '2017-03', '2017-04', '2017-05', '2017-07', '2017-08', '2017-12', '2018-01', '2018-02', '2018-03', '2018-04', '2018-05', '2018-06', '2018-07', '2018-08', '2018-09', '2018-10', '2018-11', '2018-12', '2019-01', '2019-02', '2019-03', '2019-04', '2019-05', '2019-06', '2019-07', '2019-08', '2019-09', '2020-04', '2020-07', '2020-09', '2020-10', '2021-02', '2021-07', '2021-09', '2021-10', '2021-11', '2021-12', '2022-01', '2022-02', '2022-05', '2022-06', '2022-07', '2022-09']}\n",
      "38\n",
      "56\n"
     ]
    }
   ],
   "source": [
    "with open(\"DC_Comics_wp_pageviews.json\", 'r') as input_file:\n",
    "    input_data = input_file.read()\n",
    "    \n",
    "new_data = json.loads(input_data)\n",
    "\n",
    "dc_views_by_month = {}\n",
    "for day_dict in new_data['items']:\n",
    "    day = clean_up_timestamp(day_dict['timestamp'])\n",
    "    month = day[:7]\n",
    "    if month in dc_views_by_month:\n",
    "        dc_views_by_month[month] += day_dict['views']\n",
    "    else:\n",
    "        dc_views_by_month[month] = 0\n",
    "        dc_views_by_month[month] += day_dict['views']\n",
    "\n",
    "#print(dc_views_by_month)\n",
    "print()\n",
    "\n",
    "\n",
    "with open(\"Marvel_Comics_wp_pageviews.json\", 'r') as input_file:\n",
    "    input_data = input_file.read()\n",
    "    \n",
    "new_data = json.loads(input_data)\n",
    "\n",
    "marvel_views_by_month = {}\n",
    "for day_dict in new_data['items']:\n",
    "    day = clean_up_timestamp(day_dict['timestamp'])\n",
    "    month = day[:7]\n",
    "    if month in marvel_views_by_month:\n",
    "        marvel_views_by_month[month] += day_dict['views']\n",
    "    else:\n",
    "        marvel_views_by_month[month] = 0\n",
    "        marvel_views_by_month[month] += day_dict['views']\n",
    "\n",
    "#print(marvel_views_by_month)\n",
    "\n",
    "with open('view_by_month_dc_marvel.tsv', 'w') as output_file:\n",
    "    print(\"month\\tdc views\\tmarvel views\", file=output_file)\n",
    "    for month in dc_views_by_month:\n",
    "        if month in dc_views_by_month:\n",
    "            print(f\"{month}\\t{dc_views_by_month[month]}\\t{marvel_views_by_month[month]}\", file=output_file)\n",
    "        else:\n",
    "             print(f\"{month}\\t{dc_views_by_month[month]}\\t\", file=output_file)\n",
    "                \n",
    "most_popular_months = {'dc':[],'marvel':[]}\n",
    "\n",
    "for month in dc_views_by_month:\n",
    "    if dc_views_by_month[month] > marvel_views_by_month[month]:\n",
    "        most_popular_months['dc'].append(month)\n",
    "    elif dc_views_by_month[month] < marvel_views_by_month[month]:\n",
    "        most_popular_months['marvel'].append(month)\n",
    "    else:\n",
    "        most_popular_months['dc'].append(month + 'tie')\n",
    "        most_popular_months['marvel'].append(month + 'tie')\n",
    "\n",
    "print(most_popular_months)\n",
    "\n",
    "print(len(most_popular_months['dc']))\n",
    "print(len(most_popular_months['marvel']))"
   ]
  },
  {
   "cell_type": "code",
   "execution_count": 27,
   "id": "bdde7152",
   "metadata": {},
   "outputs": [],
   "source": [
    "#Quesiton 1.3.5"
   ]
  },
  {
   "cell_type": "code",
   "execution_count": 28,
   "id": "5481feb8",
   "metadata": {},
   "outputs": [
    {
     "name": "stdout",
     "output_type": "stream",
     "text": [
      "\n",
      "1099\n",
      "1759\n"
     ]
    }
   ],
   "source": [
    "with open(\"DC_Comics_wp_pageviews.json\", 'r') as input_file:\n",
    "    input_data = input_file.read()\n",
    "    \n",
    "new_data = json.loads(input_data)\n",
    "\n",
    "dc_views_by_day = {}\n",
    "for day_dict in new_data['items']:\n",
    "    day = clean_up_timestamp(day_dict['timestamp'])\n",
    "    dc_views_by_day[day] = day_dict['views']\n",
    "\n",
    "\n",
    "print()\n",
    "\n",
    "\n",
    "with open(\"Marvel_Comics_wp_pageviews.json\", 'r') as input_file:\n",
    "    input_data = input_file.read()\n",
    "    \n",
    "new_data = json.loads(input_data)\n",
    "\n",
    "marvel_views_by_day = {}\n",
    "for day_dict in new_data['items']:\n",
    "    day = clean_up_timestamp(day_dict['timestamp'])\n",
    "    marvel_views_by_day[day] = day_dict['views']\n",
    "                \n",
    "most_popular_day = {'dc':[],'marvel':[]}\n",
    "\n",
    "for day in dc_views_by_day:\n",
    "    if dc_views_by_day[day] > marvel_views_by_day[day]:\n",
    "        most_popular_day['dc'].append(day)\n",
    "    elif dc_views_by_day[day] < marvel_views_by_day[day]:\n",
    "        most_popular_day['marvel'].append(day)\n",
    "    else:\n",
    "        most_popular_day['dc'].append(day + 'tie')\n",
    "        most_popular_day['marvel'].append(day + 'tie')\n",
    "\n",
    "#print(most_popular_day)\n",
    "\n",
    "print(len(most_popular_day['dc']))\n",
    "print(len(most_popular_day['marvel']))"
   ]
  },
  {
   "cell_type": "code",
   "execution_count": 29,
   "id": "0bd43c1c",
   "metadata": {},
   "outputs": [],
   "source": [
    "#Marvel was more popular for 1759 days, vs 1099 for DC Comics"
   ]
  },
  {
   "cell_type": "code",
   "execution_count": 30,
   "id": "941d95c6",
   "metadata": {},
   "outputs": [],
   "source": [
    "#Question 4.1"
   ]
  },
  {
   "cell_type": "code",
   "execution_count": 60,
   "id": "fd9553aa",
   "metadata": {},
   "outputs": [],
   "source": [
    "def get_wikipedia_pageviews_monthly(page_title):\n",
    "    url = (\"https://wikimedia.org/api/rest_v1/metrics/pageviews/per-article/\" + \n",
    "           f\"en.wikipedia.org/all-access/user/{page_title}/monthly/20010101/20230424\")\n",
    "\n",
    "    headers = {\n",
    "        'User-Agent': 'python data collection bot by seanh27@uw.edu'\n",
    "    }\n",
    "\n",
    "    response = requests.get(url, headers=headers)\n",
    "\n",
    "    if not response.status_code == 200:\n",
    "        print(\"ERROR, request not OK\")\n",
    "    \n",
    "    data = response.json()\n",
    "    return data"
   ]
  },
  {
   "cell_type": "code",
   "execution_count": 64,
   "id": "d8a0c0de",
   "metadata": {
    "scrolled": false
   },
   "outputs": [],
   "source": [
    "band_list = []\n",
    "with open(\"list_of_washington_alternative_rocks_bands_wikipedia-2023-04-25.jsonl\", \"r\") as input_file:\n",
    "    for line in input_file.readlines():\n",
    "        new_data = json.loads(line)\n",
    "        band_list.append(new_data['page_title'])\n",
    "        \n",
    "#print(band_list)\n",
    "\n",
    "    #input_data = input_file.read()\n",
    "    #new_data = json.loads(input_data)\n",
    "\n",
    "    \n",
    "    \n",
    "band_dicts = []    \n",
    "for page_title in band_list:\n",
    "    data = get_wikipedia_pageviews_monthly(f\"{page_title}\")\n",
    "    band_dicts.append(data)\n",
    "    #print(data)\n",
    "    #print('\\n\\n')\n",
    "        \n",
    "#print(band_dicts)\n",
    "\n",
    "\n",
    "with open(\"washington_alt_bands_wp_pageviews.json\", 'w') as my_file:\n",
    "    for data in band_dicts:\n",
    "        data_string = json.dumps(data)\n",
    "        print(data_string, file=my_file)"
   ]
  },
  {
   "cell_type": "code",
   "execution_count": 76,
   "id": "47241033",
   "metadata": {},
   "outputs": [],
   "source": [
    "with open(\"washington_alt_bands_wp_pageviews.json\", 'r') as input_file:\n",
    "    input_data = input_file.read()\n",
    "    \n",
    "#for band in input_data:\n",
    "    #new_data = json.loads(band)\n",
    "   # print(new_data)\n",
    "#new_data = json.loads(input_data)\n",
    "\n",
    "band_views = {}\n",
    "\n",
    "#for band in new_data:\n",
    " #   print(band)\n",
    "    \n",
    "total_views_by_day = {}\n",
    "for page_title in band_list:\n",
    "    data = get_wikipedia_pageviews(page_title)\n",
    "    \n",
    "    for day_dict in data['items']:\n",
    "        day = clean_up_timestamp(day_dict['timestamp'])\n",
    "        if day in total_views_by_day.keys():\n",
    "            total_views_by_day[day] += day_dict['views']\n",
    "        else:\n",
    "            total_views_by_day[day] = day_dict['views']\n",
    "            \n",
    "with open('bands_view_by_day.tsv', 'w') as output_file:\n",
    "    print(\"day\\ttotal_views\", file=output_file)\n",
    "    for day in total_views_by_day:\n",
    "            print(f'{day}\\t{total_views_by_day[day]}', file=output_file)\n",
    "            \n",
    "#Chart Link: https://docs.google.com/spreadsheets/d/1ktntJhXii42Gvs63sAVX8NqpCGXlgZ3Joel4SKnBNcY/edit?usp=sharing"
   ]
  },
  {
   "cell_type": "code",
   "execution_count": null,
   "id": "ddf50ca7",
   "metadata": {},
   "outputs": [],
   "source": [
    "#!!Section 2 - Starting on your projects!!"
   ]
  },
  {
   "cell_type": "code",
   "execution_count": null,
   "id": "a832efa1",
   "metadata": {},
   "outputs": [],
   "source": [
    "#Question 1 - https://api.army.mil"
   ]
  },
  {
   "cell_type": "code",
   "execution_count": null,
   "id": "90282c3c",
   "metadata": {},
   "outputs": [],
   "source": [
    "#Question 2 - N/A, but there is an email provided for a Web Support Team:  usarmy.pentagon.hqda-ocpa.mbx.army-core@mail.mil"
   ]
  },
  {
   "cell_type": "code",
   "execution_count": null,
   "id": "b1e2ad13",
   "metadata": {},
   "outputs": [],
   "source": [
    "#Question 3 - https://api.army.mil/api/v1/leader/{id}/transcripts\n",
    "# https://api.army.mil/api/v1/social/twitter/posts?user=%40usarmy \n",
    "# https://api.army.mil/api/v1/article/search?query="
   ]
  },
  {
   "cell_type": "code",
   "execution_count": null,
   "id": "eca0411f",
   "metadata": {},
   "outputs": [],
   "source": [
    "#Question 4 - N/A"
   ]
  },
  {
   "cell_type": "code",
   "execution_count": null,
   "id": "c93520a1",
   "metadata": {},
   "outputs": [],
   "source": [
    "#Question 5 - N/A"
   ]
  },
  {
   "cell_type": "code",
   "execution_count": null,
   "id": "20c41c75",
   "metadata": {},
   "outputs": [],
   "source": [
    "#Question 6 - N/A"
   ]
  },
  {
   "cell_type": "code",
   "execution_count": null,
   "id": "7e1a85e2",
   "metadata": {},
   "outputs": [],
   "source": [
    "#Question 7"
   ]
  },
  {
   "cell_type": "code",
   "execution_count": 87,
   "id": "95419095",
   "metadata": {},
   "outputs": [
    {
     "name": "stdout",
     "output_type": "stream",
     "text": [
      "[{'id': 260367, 'title': 'Strategic perspectives of China, India, and North Korea toward the Russia-Ukraine Conflict', 'short_title': 'Strategic perspectives of China, India, and North Korea t...', 'body': 'FORT LEAVENWORTH, Kan. – Command and General Staff College’s Cultural and Area Studies Office hosted “Strategic perspectives of China, India, and North Korea toward the Russia-Ukraine Conflict” Sept. 15 at the Arnold Conference Room, Lewis and Clark Center, Fort Leavenworth. The panel of a Command and General Staff College professor, a School of Advanced Military Studies professor, and Training and Doctrine Command G2 Foreign Military Studies expert were the first CASO presentation for this academic year.\\n\\nBrig. Gen. David C. Foley, Deputy Commanding General Combined Arms Center; and Provost of the Army University, provided opening remarks. Dr. Mahir J. Ibrahimov, Director, CASO, served as the panel moderator. Panel Members included Peter Wood, Foreign Military Studies Office, TRADOC G2, Lt. Col. Joshua Stephenson, U.S. Army Command and General Staff College, and Dr. James E. Platte, School of Advanced Military Studies.\\n\\n“These discussions broaden our understanding of diverse and complex social and geopolitical events affecting the world,” said Foley opening the event. “My challenge, to those in attendance today, is to use this venue to expand your intellectual boundaries, create dialogue, and dive a little deeper into the specific topics of each panel member.”\\n\\nWood spoke about the Chinese perspective of recent events. He talked about China’s interest in Ukraine, the nature of their diplomatic, economic, and military relationship. He then explained how the Russian-Chinese relationship impacted China’s stance on the Ukraine war, how China learns from conflicts, and what lessons China is learning from the war.\\n\\nChina had a complex and important relationship with Ukraine prior to the conflict said Wood. This included strong economic ties and cooperation in military-related technology. However, they signed a statement with Russia shortly before the conflict began and seems to have decided the relationship with Russia is more important than their ties to Ukraine.\\n\\nThe Chinese Communist Party and the People’s Liberation Army are learning organizations said Wood. The first strategic lesson from the war is Ukraine’s success in the information war. According to Wood, China places an immense effort on information operations shaping the battlefield prior to conflict. China also noted the failure of Russia to use sufficient fires in support of the battle.\\n\\nStephenson spoke about his view of the Indian perspective. India&#39;s shared memory and shared history predates the war in the Ukraine, said Stephenson. He said since independence from the United Kingdom, India has sought to follow a non-aligned policy and strategic autonomy.\\n\\nIn the future, Stephenson expects the omnipresent economic and security challenges within South Asia will increase India’s security interests and the war in Europe is not a fundamental consideration. He also said, India remains in a complicated economic, military and diplomatic position as it balances the U.S. and the West, China, and Russia. Finally, he said the U.S. and West should remember that cooperation with India can continue.\\n\\nNorth Korea was Platte’s emphasis. He focused on three points: Deterrence, Compellence, and Extra Benefits. He said the North Korea would probably see (Nuclear) Deterrence as the primary lesson. If Ukraine had nuclear weapons, they believe Russia would have been less inclined to invade. \\xa0You can only rely on yourself, has been the North Korean position since the beginning of the Kems’ leadership.\\n\\nCompellence or active coercion is how much can a nation change events and actions of others. North Korea has long sought to change the status quo, especially on the Korean peninsula. Finally, extra benefits for North Korea in supporting Russia in the war include gaining support from Moscow, economic opportunity, and an opportunity to criticize or blame the U.S. and its Western partners for all that’s wrong in the world.\\n\\nFollowing presentations by the panel members, the audience of nearly 100 in the conference room and more attending by Facebook and video teleconference were able to ask questions of the panel.\\n\\nThis panel is part of series of seminars and panel discussions on issues of operational and strategic importance to the United States that CASO in coordination with CGSC, universities, think tanks, interagency organizations and other partners conducts every two to three months broadcasting them through Video Teleconference and live on CGSC&#39;s Facebook page. Videos of the sessions are available on the CGSC Facebook and YouTube sites.\\n\\nFor questions on CASO events please contact: Dr. Mahir J. Ibrahimov, Director, Cultural and Area Studies Office, U.S. Army CGSC at (913)684-3345 or mahir.j.ibrahimov.civ@army.mil.\\n\\nSee the full panel discussion at https://www.facebook.com/USACGSC/videos/812194826807685\\n\\nCASO website: https://armyuniversity.edu/cgsc/caso/caso\\n\\n', 'rich_text': '{\"ops\":[{\"insert\":{\"image\":[{\"id\":668916,\"title\":\"\",\"artist\":\"Dan Neal\",\"description\":\"Dr. Mahir Ibrahimov (podium), Director, Command and General Staff College\\\\u2019s Cultural and Area Studies Office, opens the first CASO discussion panel of the academic year, Panel members (l-r) Dr. James E. Platte, School of Advanced Military Studies, Lt. Col. Joshua Stephenson, Command and General Staff School and Peter Wood, Foreign Military Studies Office, TRADOC G2, addressed the topic \\\\u201cStrategic perspectives of China, India, and North Korea toward the Russia-Ukraine Conflict\\\\u201d Sept. 15.\",\"url\":\"https:\\\\/\\\\/api.army.mil\\\\/e2\\\\/c\\\\/images\\\\/2022\\\\/09\\\\/20\\\\/069669e2\\\\/original.jpg\"},{\"id\":668915,\"title\":\"\",\"artist\":\"Dan Neal\",\"description\":\"Dr. Mahir Ibrahimov (podium), Director, Command and General Staff College\\\\u2019s Cultural and Area Studies Office, opens the first CASO discussion panel of the academic year, Panel members (l-r) Dr. James E. Platte, School of Advanced Military Studies, Lt. Col. Joshua Stephenson, Command and General Staff School and Peter Wood, Foreign Military Studies Office, TRADOC G2, addressed the topic \\\\u201cStrategic perspectives of China, India, and North Korea toward the Russia-Ukraine Conflict\\\\u201d Sept. 15.\",\"url\":\"https:\\\\/\\\\/api.army.mil\\\\/e2\\\\/c\\\\/images\\\\/2022\\\\/09\\\\/20\\\\/6e7c7102\\\\/original.jpg\"}]},\"attributes\":{\"image\":{\"viewtype\":\"slideshow\"}}},{\"insert\":\"FORT LEAVENWORTH, Kan. \\\\u2013 Command and General Staff College\\\\u2019s Cultural and Area Studies Office hosted \\\\u201cStrategic perspectives of China, India, and North Korea toward the Russia-Ukraine Conflict\\\\u201d Sept. 15 at the Arnold Conference Room, Lewis and Clark Center, Fort Leavenworth. The panel of a Command and General Staff College professor, a School of Advanced Military Studies professor, and Training and Doctrine Command G2 Foreign Military Studies expert were the first CASO presentation for this academic year.\\\\nBrig. Gen. David C. Foley, Deputy Commanding General Combined Arms Center; and Provost of the Army University, provided opening remarks. Dr. Mahir J. Ibrahimov, Director, CASO, served as the panel moderator. Panel Members included Peter Wood, Foreign Military Studies Office, TRADOC G2, Lt. Col. Joshua Stephenson, U.S. Army Command and General Staff College, and Dr. James E. Platte, School of Advanced Military Studies.\\\\n\\\\u201cThese discussions broaden our understanding of diverse and complex social and geopolitical events affecting the world,\\\\u201d said Foley opening the event. \\\\u201cMy challenge, to those in attendance today, is to use this venue to expand your intellectual boundaries, create dialogue, and dive a little deeper into the specific topics of each panel member.\\\\u201d\\\\nWood spoke about the Chinese perspective of recent events. He talked about China\\\\u2019s interest in Ukraine, the nature of their diplomatic, economic, and military relationship. He then explained how the Russian-Chinese relationship impacted China\\\\u2019s stance on the Ukraine war, how China learns from conflicts, and what lessons China is learning from the war.\\\\nChina had a complex and important relationship with Ukraine prior to the conflict said Wood. This included strong economic ties and cooperation in military-related technology. However, they signed a statement with Russia shortly before the conflict began and seems to have decided the relationship with Russia is more important than their ties to Ukraine.\\\\nThe Chinese Communist Party and the People\\\\u2019s Liberation Army are learning organizations said Wood. The first strategic lesson from the war is Ukraine\\\\u2019s success in the information war. According to Wood, China places an immense effort on information operations shaping the battlefield prior to conflict. China also noted the failure of Russia to use sufficient fires in support of the battle.\\\\nStephenson spoke about his view of the Indian perspective. India&#39;s shared memory and shared history predates the war in the Ukraine, said Stephenson. He said since independence from the United Kingdom, India has sought to follow a non-aligned policy and strategic autonomy.\\\\nIn the future, Stephenson expects the omnipresent economic and security challenges within South Asia will increase India\\\\u2019s security interests and the war in Europe is not a fundamental consideration. He also said, India remains in a complicated economic, military and diplomatic position as it balances the U.S. and the West, China, and Russia. Finally, he said the U.S. and West should remember that cooperation with India can continue.\\\\nNorth Korea was Platte\\\\u2019s emphasis. He focused on three points: Deterrence, Compellence, and Extra Benefits. He said the North Korea would probably see (Nuclear) Deterrence as the primary lesson. If Ukraine had nuclear weapons, they believe Russia would have been less inclined to invade. \\\\u00a0You can only rely on yourself, has been the North Korean position since the beginning of the Kems\\\\u2019 leadership.\\\\nCompellence or active coercion is how much can a nation change events and actions of others. North Korea has long sought to change the status quo, especially on the Korean peninsula. Finally, extra benefits for North Korea in supporting Russia in the war include gaining support from Moscow, economic opportunity, and an opportunity to criticize or blame the U.S. and its Western partners for all that\\\\u2019s wrong in the world.\\\\nFollowing presentations by the panel members, the audience of nearly 100 in the conference room and more attending by Facebook and video teleconference were able to ask questions of the panel.\\\\nThis panel is part of series of seminars and panel discussions on issues of operational and strategic importance to the United States that CASO in coordination with CGSC, universities, think tanks, interagency organizations and other partners conducts every two to three months broadcasting them through Video Teleconference and live on CGSC&#39;s Facebook page. Videos of the sessions are available on the CGSC Facebook and YouTube sites.\\\\nFor questions on CASO events please contact: Dr. Mahir J. Ibrahimov, Director, Cultural and Area Studies Office, U.S. Army CGSC at (913)684-3345 or \"},{\"insert\":\"mahir.j.ibrahimov.civ@army.mil\",\"attributes\":{\"link\":\"mailto:mahir.j.ibrahimov.civ@mail.mil\"}},{\"insert\":\".\\\\nSee the full panel discussion at \"},{\"insert\":\"https:\\\\/\\\\/www.facebook.com\\\\/USACGSC\\\\/videos\\\\/812194826807685\",\"attributes\":{\"link\":\"https:\\\\/\\\\/www.facebook.com\\\\/USACGSC\\\\/videos\\\\/812194826807685\"}},{\"insert\":\"\\\\nCASO website: \"},{\"insert\":\"https:\\\\/\\\\/armyuniversity.edu\\\\/cgsc\\\\/caso\\\\/caso\",\"attributes\":{\"link\":\"https:\\\\/\\\\/armyuniversity.edu\\\\/cgsc\\\\/caso\\\\/caso\"}},{\"insert\":\"\\\\n\"}]}', 'url': 'https://www.army.mil/article/260367', 'page_url': 'https://www.army.mil/article/260367/strategic_perspectives_of_china_india_and_north_korea_toward_the_russia_ukraine_conflict', 'author': 'Harrison Sarles', 'date': '2022-09-20 11:20:58', 'last_updated': '2022-09-20 11:20:58', 'short_description': 'FORT LEAVENWORTH, Kan. – Command and General Staff College’s Cultural and Area Studies Office hosted “Strategic perspectives of China, India, and North...', 'description': 'FORT LEAVENWORTH, Kan. – Command and General Staff College’s Cultural and Area Studies Office hosted “Strategic perspectives of China, India, and North...', 'section': 'U.S. Army Combined Arms Center', 'ga_id': '', 'keywords': 'cgsc,ukraine,leavenworth,command-and-general-staff-college,china,russia', 'image': 'https://api.army.mil/e2/c/images/2022/09/20/6e7c7102/size2.jpg', 'images': [{'id': 668916, 'image': 'https://api.army.mil/e2/c/images/2022/09/20/069669e2/original.jpg', 'path': 'images/2022/09/20/069669e2/', 'title': '', 'alt': 'Dr. Mahir Ibrahimov (podium), Director, Command and General Staff College’s Cultural and Area Studies Office, opens the first CASO discussion panel of the academic year, Panel members (l-r) Dr. James E. Platte, School of Advanced Military Studies, Lt. Col. Joshua Stephenson, Command and General Staff School and Peter Wood, Foreign Military Studies Office, TRADOC G2, addressed the topic “Strategic perspectives of China, India, and North Korea toward the Russia-Ukraine Conflict” Sept. 15.', 'caption': 'Dr. Mahir Ibrahimov (podium), Director, Command and General Staff College’s Cultural and Area Studies Office, opens the first CASO discussion panel of the academic year, Panel members (l-r) Dr. James E. Platte, School of Advanced Military Studies, Lt. Col. Joshua Stephenson, Command and General Staff School and Peter Wood, Foreign Military Studies Office, TRADOC G2, addressed the topic “Strategic perspectives of China, India, and North Korea toward the Russia-Ukraine Conflict” Sept. 15.', 'author': 'Dan Neal', 'date': '2022-09-20 11:00:52', 'featured': 0, 'page_url': 'https://www.army.mil/article/260367', 'url': '/e2/c/images/2022/09/20/069669e2/original.jpg', 'url_size0': '/e2/c/images/2022/09/20/069669e2/size0.jpg', 'url_size1': '/e2/c/images/2022/09/20/069669e2/size1.jpg', 'url_size2': '/e2/c/images/2022/09/20/069669e2/size2.jpg', 'url_size3': '/e2/c/images/2022/09/20/069669e2/size3.jpg', 'url_size4': '/e2/c/images/2022/09/20/069669e2/size4.jpg'}, {'id': 668915, 'image': 'https://api.army.mil/e2/c/images/2022/09/20/6e7c7102/original.jpg', 'path': 'images/2022/09/20/6e7c7102/', 'title': '', 'alt': 'Dr. Mahir Ibrahimov (podium), Director, Command and General Staff College’s Cultural and Area Studies Office, opens the first CASO discussion panel of the academic year, Panel members (l-r) Dr. James E. Platte, School of Advanced Military Studies, Lt. Col. Joshua Stephenson, Command and General Staff School and Peter Wood, Foreign Military Studies Office, TRADOC G2, addressed the topic “Strategic perspectives of China, India, and North Korea toward the Russia-Ukraine Conflict” Sept. 15.', 'caption': 'Dr. Mahir Ibrahimov (podium), Director, Command and General Staff College’s Cultural and Area Studies Office, opens the first CASO discussion panel of the academic year, Panel members (l-r) Dr. James E. Platte, School of Advanced Military Studies, Lt. Col. Joshua Stephenson, Command and General Staff School and Peter Wood, Foreign Military Studies Office, TRADOC G2, addressed the topic “Strategic perspectives of China, India, and North Korea toward the Russia-Ukraine Conflict” Sept. 15.', 'author': 'Dan Neal', 'date': '2022-09-20 11:00:37', 'featured': 1, 'page_url': 'https://www.army.mil/article/260367', 'url': '/e2/c/images/2022/09/20/6e7c7102/original.jpg', 'url_size0': '/e2/c/images/2022/09/20/6e7c7102/size0.jpg', 'url_size1': '/e2/c/images/2022/09/20/6e7c7102/size1.jpg', 'url_size2': '/e2/c/images/2022/09/20/6e7c7102/size2.jpg', 'url_size3': '/e2/c/images/2022/09/20/6e7c7102/size3.jpg', 'url_size4': '/e2/c/images/2022/09/20/6e7c7102/size4.jpg'}]}, {'id': 254535, 'title': 'III Armored Corps, Fort Hood deploys units to support European operations', 'short_title': 'III Armored Corps, Fort Hood deploys units to support Eur...', 'body': 'FORT HOOD, Texas – In support of our allies and partners in Europe, roughly 160 Soldiers from the III Armored Corps at Fort Hood, Texas deployed March 7, 2022 as part of the 7,000 U.S. military personnel earmarked to support the NATO Response Force announced February 24.\\n\\nDeploying personnel include those from the 96th Transportation Company (Heavy Equipment Transport), and the 297th Inland Cargo Transfer Company, both from the 13th Expeditionary Sustainment Command; and the 11th Corps Signal Brigade; all of which fall under the III Armored Corps at Fort Hood, Texas. These forces will augment U.S. forces in the European theater and are trained and equipped for various missions to reinforce the U.S. European Command posture on NATO’s eastern flank.\\n\\n“Our Soldiers are trained and ready,” said Col. Matthew Ruedi, the 13th ESC deputy commanding officer. “Elements of our heavy transportation company have deployed to Europe to reassure NATO allies, deter Russian aggression, and are prepared to support a range of other operations in the region.”\\n\\nRuedi also said the unit has ensured families were kept in the loop during the process of the unit getting ready to deploy.\\n\\n“It&#39;s not just our Soldiers that we ensure are ready for this mission, but we do everything we can to make sure Families are ready, too,” Ruedi said. “Things can change rapidly in situations like this. Making sure we communicate with our families not only helps manage expectations, but it also contributes to our overall readiness.”\\n\\n', 'rich_text': '{\"ops\":[{\"insert\":{\"image\":[{\"id\":647325,\"title\":\"III Armored Corps, Fort Hood deploys units to support European operations\",\"artist\":\"Staff Sgt. Daniel Herman\",\"description\":\"FORT HOOD, Texas \\\\u2013 In support of our allies and partners in Europe, roughly 160 Soldiers from the III Armored Corps at Fort Hood, Texas deployed March 7, 2022 as part of the 7,000 U.S. military personnel earmarked to support the NATO Response Force announced February 24.\\\\n\\\\nDeploying personnel include those from the 96th Transportation Company (Heavy Equipment Transport), and the 297th Inland Cargo Transfer Company, both from the 13th Expeditionary Sustainment Command; and the 11th Corps Signal Brigade; all of which fall under the III Armored Corps at Fort Hood, Texas. These forces will augment U.S. forces in the European theater and are trained and equipped for various missions to reinforce the U.S. European Command posture on NATO\\\\u2019s eastern flank. (U.S. Army Photo by Staff Sgt. Daniel Herman)\",\"url\":\"https:\\\\/\\\\/api.army.mil\\\\/e2\\\\/c\\\\/images\\\\/2022\\\\/03\\\\/08\\\\/ca664ab9\\\\/original.jpg\"},{\"id\":647326,\"title\":\"III Armored Corps, Fort Hood deploys units to support European operations\",\"artist\":\"Staff Sgt. Daniel Herman\",\"description\":\"FORT HOOD, Texas \\\\u2013 In support of our allies and partners in Europe, roughly 160 Soldiers from the III Armored Corps at Fort Hood, Texas deployed March 7, 2022 as part of the 7,000 U.S. military personnel earmarked to support the NATO Response Force announced February 24.\\\\n\\\\nDeploying personnel include those from the 96th Transportation Company (Heavy Equipment Transport), and the 297th Inland Cargo Transfer Company, both from the 13th Expeditionary Sustainment Command; and the 11th Corps Signal Brigade; all of which fall under the III Armored Corps at Fort Hood, Texas. These forces will augment U.S. forces in the European theater and are trained and equipped for various missions to reinforce the U.S. European Command posture on NATO\\\\u2019s eastern flank. (U.S. Army Photo by Staff Sgt. Daniel Herman)\",\"url\":\"https:\\\\/\\\\/api.army.mil\\\\/e2\\\\/c\\\\/images\\\\/2022\\\\/03\\\\/08\\\\/a3a95975\\\\/original.jpg\"},{\"id\":647319,\"title\":\"III Armored Corps, Fort Hood deploys units to support European operations\",\"artist\":\"Staff Sgt. Daniel Herman\",\"description\":\"FORT HOOD, Texas \\\\u2013 In support of our allies and partners in Europe, roughly 160 Soldiers from the III Armored Corps at Fort Hood, Texas deployed March 7, 2022 as part of the 7,000 U.S. military personnel earmarked to support the NATO Response Force announced February 24.\\\\n\\\\nDeploying personnel include those from the 96th Transportation Company (Heavy Equipment Transport), and the 297th Inland Cargo Transfer Company, both from the 13th Expeditionary Sustainment Command; and the 11th Corps Signal Brigade; all of which fall under the III Armored Corps at Fort Hood, Texas. These forces will augment U.S. forces in the European theater and are trained and equipped for various missions to reinforce the U.S. European Command posture on NATO\\\\u2019s eastern flank. (U.S. Army Photo by Staff Sgt. Daniel Herman)\",\"url\":\"https:\\\\/\\\\/api.army.mil\\\\/e2\\\\/c\\\\/images\\\\/2022\\\\/03\\\\/08\\\\/38faac98\\\\/original.jpg\"},{\"id\":647320,\"title\":\"III Armored Corps, Fort Hood deploys units to support European operations\",\"artist\":\"Staff Sgt. Daniel Herman\",\"description\":\"FORT HOOD, Texas \\\\u2013 In support of our allies and partners in Europe, roughly 160 Soldiers from the III Armored Corps at Fort Hood, Texas deployed March 7, 2022 as part of the 7,000 U.S. military personnel earmarked to support the NATO Response Force announced February 24.\\\\n\\\\nDeploying personnel include those from the 96th Transportation Company (Heavy Equipment Transport), and the 297th Inland Cargo Transfer Company, both from the 13th Expeditionary Sustainment Command; and the 11th Corps Signal Brigade; all of which fall under the III Armored Corps at Fort Hood, Texas. These forces will augment U.S. forces in the European theater and are trained and equipped for various missions to reinforce the U.S. European Command posture on NATO\\\\u2019s eastern flank. (U.S. Army Photo by Staff Sgt. Daniel Herman)\",\"url\":\"https:\\\\/\\\\/api.army.mil\\\\/e2\\\\/c\\\\/images\\\\/2022\\\\/03\\\\/08\\\\/fd26751c\\\\/original.jpg\"},{\"id\":647321,\"title\":\"III Armored Corps, Fort Hood deploys units to support European operations\",\"artist\":\"Staff Sgt. Daniel Herman\",\"description\":\"FORT HOOD, Texas \\\\u2013 In support of our allies and partners in Europe, roughly 160 Soldiers from the III Armored Corps at Fort Hood, Texas deployed March 7, 2022 as part of the 7,000 U.S. military personnel earmarked to support the NATO Response Force announced February 24.\\\\n\\\\nDeploying personnel include those from the 96th Transportation Company (Heavy Equipment Transport), and the 297th Inland Cargo Transfer Company, both from the 13th Expeditionary Sustainment Command; and the 11th Corps Signal Brigade; all of which fall under the III Armored Corps at Fort Hood, Texas. These forces will augment U.S. forces in the European theater and are trained and equipped for various missions to reinforce the U.S. European Command posture on NATO\\\\u2019s eastern flank. (U.S. Army Photo by Staff Sgt. Daniel Herman)\",\"url\":\"https:\\\\/\\\\/api.army.mil\\\\/e2\\\\/c\\\\/images\\\\/2022\\\\/03\\\\/08\\\\/3ec05cd0\\\\/original.jpg\"},{\"id\":647323,\"title\":\"III Armored Corps, Fort Hood deploys units to support European operations\",\"artist\":\"Staff Sgt. Daniel Herman\",\"description\":\"FORT HOOD, Texas \\\\u2013 In support of our allies and partners in Europe, roughly 160 Soldiers from the III Armored Corps at Fort Hood, Texas deployed March 7, 2022 as part of the 7,000 U.S. military personnel earmarked to support the NATO Response Force announced February 24.\\\\n\\\\nDeploying personnel include those from the 96th Transportation Company (Heavy Equipment Transport), and the 297th Inland Cargo Transfer Company, both from the 13th Expeditionary Sustainment Command; and the 11th Corps Signal Brigade; all of which fall under the III Armored Corps at Fort Hood, Texas. These forces will augment U.S. forces in the European theater and are trained and equipped for various missions to reinforce the U.S. European Command posture on NATO\\\\u2019s eastern flank.  (U.S. Army Photo by Staff Sgt. Daniel Herman)\",\"url\":\"https:\\\\/\\\\/api.army.mil\\\\/e2\\\\/c\\\\/images\\\\/2022\\\\/03\\\\/08\\\\/736c1563\\\\/original.jpg\"},{\"id\":647322,\"title\":\"III Armored Corps, Fort Hood deploys units to support European operations\",\"artist\":\"Staff Sgt. Daniel Herman\",\"description\":\"FORT HOOD, Texas \\\\u2013 In support of our allies and partners in Europe, roughly 160 Soldiers from the III Armored Corps at Fort Hood, Texas deployed today as part of the 7,000 U.S. military personnel earmarked to support the NATO Response Force announced February 24.\\\\n\\\\nDeploying personnel include those from the 96th Transportation Company (Heavy Equipment Transport), and the 297th Inland Cargo Transfer Company, both from the 13th Expeditionary Sustainment Command; and the 11th Corps Signal Brigade; all of which fall under the III Armored Corps at Fort Hood, Texas. These forces will augment U.S. forces in the European theater and are trained and equipped for various missions to reinforce the U.S. European Command posture on NATO\\\\u2019s eastern flank. (U.S. Army Photo by Staff Sgt. Daniel Herman)\",\"url\":\"https:\\\\/\\\\/api.army.mil\\\\/e2\\\\/c\\\\/images\\\\/2022\\\\/03\\\\/08\\\\/de23f747\\\\/original.jpg\"}]},\"attributes\":{\"image\":{\"viewtype\":\"slideshow\"}}},{\"insert\":\"FORT HOOD, Texas \\\\u2013 In support of our allies and partners in Europe, roughly 160 Soldiers from the III Armored Corps at Fort Hood, Texas deployed March 7, 2022 as part of the 7,000 U.S. military personnel earmarked to support the NATO Response Force announced February 24.\\\\nDeploying personnel include those from the 96th Transportation Company (Heavy Equipment Transport), and the 297th Inland Cargo Transfer Company, both from the 13th Expeditionary Sustainment Command; and the 11th Corps Signal Brigade; all of which fall under the III Armored Corps at Fort Hood, Texas. These forces will augment U.S. forces in the European theater and are trained and equipped for various missions to reinforce the U.S. European Command posture on NATO\\\\u2019s eastern flank.\\\\n\\\\u201cOur Soldiers are trained and ready,\\\\u201d said Col. Matthew Ruedi, the 13th ESC deputy commanding officer. \\\\u201cElements of our heavy transportation company have deployed to Europe to reassure NATO allies, deter Russian aggression, and are prepared to support a range of other operations in the region.\\\\u201d\\\\n\"},{\"insert\":{\"image\":[{\"id\":647324,\"title\":\"III Armored Corps, Fort Hood deploys units to support European operations\",\"artist\":\"Staff Sgt. Daniel Herman\",\"description\":\"FORT HOOD, Texas \\\\u2013 In support of our allies and partners in Europe, roughly 160 Soldiers from the III Armored Corps at Fort Hood, Texas deployed March 7, 2022 as part of the 7,000 U.S. military personnel earmarked to support the NATO Response Force announced February 24.\\\\n\\\\nDeploying personnel include those from the 96th Transportation Company (Heavy Equipment Transport), and the 297th Inland Cargo Transfer Company, both from the 13th Expeditionary Sustainment Command; and the 11th Corps Signal Brigade; all of which fall under the III Armored Corps at Fort Hood, Texas. These forces will augment U.S. forces in the European theater and are trained and equipped for various missions to reinforce the U.S. European Command posture on NATO\\\\u2019s eastern flank. (U.S. Army Photo by Staff Sgt. Daniel Herman)\",\"url\":\"https:\\\\/\\\\/api.army.mil\\\\/e2\\\\/c\\\\/images\\\\/2022\\\\/03\\\\/08\\\\/4ac15310\\\\/original.jpg\"}]},\"attributes\":{\"image\":{\"viewtype\":\"slideshow\"}}},{\"insert\":\"Ruedi also said the unit has ensured families were kept in the loop during the process of the unit getting ready to deploy.\\\\n\\\\u201cIt&#39;s not just our Soldiers that we ensure are ready for this mission, but we do everything we can to make sure Families are ready, too,\\\\u201d Ruedi said. \\\\u201cThings can change rapidly in situations like this. Making sure we communicate with our families not only helps manage expectations, but it also contributes to our overall readiness.\\\\u201d\\\\n\"}]}', 'url': 'https://www.army.mil/article/254535', 'page_url': 'https://www.army.mil/article/254535/iii_armored_corps_fort_hood_deploys_units_to_support_european_operations', 'author': 'III Armored Corps Public Affairs Office', 'date': '2022-03-08 14:35:41', 'last_updated': '2022-03-08 14:36:41', 'short_description': 'FORT HOOD, Texas – In support of our allies and partners in Europe, roughly 160 Soldiers from the III Armored Corps at Fort Hood, Texas deployed March 7...', 'description': 'FORT HOOD, Texas – In support of our allies and partners in Europe, roughly 160 Soldiers from the III Armored Corps at Fort Hood, Texas deployed March 7...', 'section': 'III Armored Corps', 'ga_id': 'UA-216061840-1,UA-216061840-1', 'keywords': 'fort-hood,eucom,nato,europe,wearenato,iii-corps,ukraine,iii-armored-corps,russia', 'image': 'https://api.army.mil/e2/c/images/2022/03/08/ca664ab9/size2.jpg', 'images': [{'id': 647325, 'image': 'https://api.army.mil/e2/c/images/2022/03/08/ca664ab9/original.jpg', 'path': 'images/2022/03/08/ca664ab9/', 'title': 'III Armored Corps, Fort Hood deploys units to support European operations', 'alt': 'FORT HOOD, Texas – In support of our allies and partners in Europe, roughly 160 Soldiers from the III Armored Corps at Fort Hood, Texas deployed March 7, 2022 as part of the 7,000 U.S. military personnel earmarked to support the NATO Response Force announced February 24.\\n\\nDeploying personnel include those from the 96th Transportation Company (Heavy Equipment Transport), and the 297th Inland Cargo Transfer Company, both from the 13th Expeditionary Sustainment Command; and the 11th Corps Signal Brigade; all of which fall under the III Armored Corps at Fort Hood, Texas. These forces will augment U.S. forces in the European theater and are trained and equipped for various missions to reinforce the U.S. European Command posture on NATO’s eastern flank. (U.S. Army Photo by Staff Sgt. Daniel Herman)', 'caption': 'FORT HOOD, Texas – In support of our allies and partners in Europe, roughly 160 Soldiers from the III Armored Corps at Fort Hood, Texas deployed March 7, 2022 as part of the 7,000 U.S. military personnel earmarked to support the NATO Response Force announced February 24.\\n\\nDeploying personnel include those from the 96th Transportation Company (Heavy Equipment Transport), and the 297th Inland Cargo Transfer Company, both from the 13th Expeditionary Sustainment Command; and the 11th Corps Signal Brigade; all of which fall under the III Armored Corps at Fort Hood, Texas. These forces will augment U.S. forces in the European theater and are trained and equipped for various missions to reinforce the U.S. European Command posture on NATO’s eastern flank. (U.S. Army Photo by Staff Sgt. Daniel Herman)', 'author': 'Staff Sgt. Daniel Herman', 'date': '2022-03-08 14:31:21', 'featured': 1, 'page_url': 'https://www.army.mil/article/254535', 'url': '/e2/c/images/2022/03/08/ca664ab9/original.jpg', 'url_size0': '/e2/c/images/2022/03/08/ca664ab9/size0.jpg', 'url_size1': '/e2/c/images/2022/03/08/ca664ab9/size1.jpg', 'url_size2': '/e2/c/images/2022/03/08/ca664ab9/size2.jpg', 'url_size3': '/e2/c/images/2022/03/08/ca664ab9/size3.jpg', 'url_size4': '/e2/c/images/2022/03/08/ca664ab9/size4.jpg'}, {'id': 647326, 'image': 'https://api.army.mil/e2/c/images/2022/03/08/a3a95975/original.jpg', 'path': 'images/2022/03/08/a3a95975/', 'title': 'III Armored Corps, Fort Hood deploys units to support European operations', 'alt': 'FORT HOOD, Texas – In support of our allies and partners in Europe, roughly 160 Soldiers from the III Armored Corps at Fort Hood, Texas deployed March 7, 2022 as part of the 7,000 U.S. military personnel earmarked to support the NATO Response Force announced February 24.\\n\\nDeploying personnel include those from the 96th Transportation Company (Heavy Equipment Transport), and the 297th Inland Cargo Transfer Company, both from the 13th Expeditionary Sustainment Command; and the 11th Corps Signal Brigade; all of which fall under the III Armored Corps at Fort Hood, Texas. These forces will augment U.S. forces in the European theater and are trained and equipped for various missions to reinforce the U.S. European Command posture on NATO’s eastern flank. (U.S. Army Photo by Staff Sgt. Daniel Herman)', 'caption': 'FORT HOOD, Texas – In support of our allies and partners in Europe, roughly 160 Soldiers from the III Armored Corps at Fort Hood, Texas deployed March 7, 2022 as part of the 7,000 U.S. military personnel earmarked to support the NATO Response Force announced February 24.\\n\\nDeploying personnel include those from the 96th Transportation Company (Heavy Equipment Transport), and the 297th Inland Cargo Transfer Company, both from the 13th Expeditionary Sustainment Command; and the 11th Corps Signal Brigade; all of which fall under the III Armored Corps at Fort Hood, Texas. These forces will augment U.S. forces in the European theater and are trained and equipped for various missions to reinforce the U.S. European Command posture on NATO’s eastern flank. (U.S. Army Photo by Staff Sgt. Daniel Herman)', 'author': 'Staff Sgt. Daniel Herman', 'date': '2022-03-08 14:31:30', 'featured': 0, 'page_url': 'https://www.army.mil/article/254535', 'url': '/e2/c/images/2022/03/08/a3a95975/original.jpg', 'url_size0': '/e2/c/images/2022/03/08/a3a95975/size0.jpg', 'url_size1': '/e2/c/images/2022/03/08/a3a95975/size1.jpg', 'url_size2': '/e2/c/images/2022/03/08/a3a95975/size2.jpg', 'url_size3': '/e2/c/images/2022/03/08/a3a95975/size3.jpg', 'url_size4': '/e2/c/images/2022/03/08/a3a95975/size4.jpg'}, {'id': 647319, 'image': 'https://api.army.mil/e2/c/images/2022/03/08/38faac98/original.jpg', 'path': 'images/2022/03/08/38faac98/', 'title': 'III Armored Corps, Fort Hood deploys units to support European operations', 'alt': 'FORT HOOD, Texas – In support of our allies and partners in Europe, roughly 160 Soldiers from the III Armored Corps at Fort Hood, Texas deployed March 7, 2022 as part of the 7,000 U.S. military personnel earmarked to support the NATO Response Force announced February 24.\\n\\nDeploying personnel include those from the 96th Transportation Company (Heavy Equipment Transport), and the 297th Inland Cargo Transfer Company, both from the 13th Expeditionary Sustainment Command; and the 11th Corps Signal Brigade; all of which fall under the III Armored Corps at Fort Hood, Texas. These forces will augment U.S. forces in the European theater and are trained and equipped for various missions to reinforce the U.S. European Command posture on NATO’s eastern flank. (U.S. Army Photo by Staff Sgt. Daniel Herman)', 'caption': 'FORT HOOD, Texas – In support of our allies and partners in Europe, roughly 160 Soldiers from the III Armored Corps at Fort Hood, Texas deployed March 7, 2022 as part of the 7,000 U.S. military personnel earmarked to support the NATO Response Force announced February 24.\\n\\nDeploying personnel include those from the 96th Transportation Company (Heavy Equipment Transport), and the 297th Inland Cargo Transfer Company, both from the 13th Expeditionary Sustainment Command; and the 11th Corps Signal Brigade; all of which fall under the III Armored Corps at Fort Hood, Texas. These forces will augment U.S. forces in the European theater and are trained and equipped for various missions to reinforce the U.S. European Command posture on NATO’s eastern flank. (U.S. Army Photo by Staff Sgt. Daniel Herman)', 'author': 'Staff Sgt. Daniel Herman', 'date': '2022-03-08 14:30:54', 'featured': 0, 'page_url': 'https://www.army.mil/article/254535', 'url': '/e2/c/images/2022/03/08/38faac98/original.jpg', 'url_size0': '/e2/c/images/2022/03/08/38faac98/size0.jpg', 'url_size1': '/e2/c/images/2022/03/08/38faac98/size1.jpg', 'url_size2': '/e2/c/images/2022/03/08/38faac98/size2.jpg', 'url_size3': '/e2/c/images/2022/03/08/38faac98/size3.jpg', 'url_size4': '/e2/c/images/2022/03/08/38faac98/size4.jpg'}, {'id': 647320, 'image': 'https://api.army.mil/e2/c/images/2022/03/08/fd26751c/original.jpg', 'path': 'images/2022/03/08/fd26751c/', 'title': 'III Armored Corps, Fort Hood deploys units to support European operations', 'alt': 'FORT HOOD, Texas – In support of our allies and partners in Europe, roughly 160 Soldiers from the III Armored Corps at Fort Hood, Texas deployed March 7, 2022 as part of the 7,000 U.S. military personnel earmarked to support the NATO Response Force announced February 24.\\n\\nDeploying personnel include those from the 96th Transportation Company (Heavy Equipment Transport), and the 297th Inland Cargo Transfer Company, both from the 13th Expeditionary Sustainment Command; and the 11th Corps Signal Brigade; all of which fall under the III Armored Corps at Fort Hood, Texas. These forces will augment U.S. forces in the European theater and are trained and equipped for various missions to reinforce the U.S. European Command posture on NATO’s eastern flank. (U.S. Army Photo by Staff Sgt. Daniel Herman)', 'caption': 'FORT HOOD, Texas – In support of our allies and partners in Europe, roughly 160 Soldiers from the III Armored Corps at Fort Hood, Texas deployed March 7, 2022 as part of the 7,000 U.S. military personnel earmarked to support the NATO Response Force announced February 24.\\n\\nDeploying personnel include those from the 96th Transportation Company (Heavy Equipment Transport), and the 297th Inland Cargo Transfer Company, both from the 13th Expeditionary Sustainment Command; and the 11th Corps Signal Brigade; all of which fall under the III Armored Corps at Fort Hood, Texas. These forces will augment U.S. forces in the European theater and are trained and equipped for various missions to reinforce the U.S. European Command posture on NATO’s eastern flank. (U.S. Army Photo by Staff Sgt. Daniel Herman)', 'author': 'Staff Sgt. Daniel Herman', 'date': '2022-03-08 14:30:59', 'featured': 0, 'page_url': 'https://www.army.mil/article/254535', 'url': '/e2/c/images/2022/03/08/fd26751c/original.jpg', 'url_size0': '/e2/c/images/2022/03/08/fd26751c/size0.jpg', 'url_size1': '/e2/c/images/2022/03/08/fd26751c/size1.jpg', 'url_size2': '/e2/c/images/2022/03/08/fd26751c/size2.jpg', 'url_size3': '/e2/c/images/2022/03/08/fd26751c/size3.jpg', 'url_size4': '/e2/c/images/2022/03/08/fd26751c/size4.jpg'}, {'id': 647321, 'image': 'https://api.army.mil/e2/c/images/2022/03/08/3ec05cd0/original.jpg', 'path': 'images/2022/03/08/3ec05cd0/', 'title': 'III Armored Corps, Fort Hood deploys units to support European operations', 'alt': 'FORT HOOD, Texas – In support of our allies and partners in Europe, roughly 160 Soldiers from the III Armored Corps at Fort Hood, Texas deployed March 7, 2022 as part of the 7,000 U.S. military personnel earmarked to support the NATO Response Force announced February 24.\\n\\nDeploying personnel include those from the 96th Transportation Company (Heavy Equipment Transport), and the 297th Inland Cargo Transfer Company, both from the 13th Expeditionary Sustainment Command; and the 11th Corps Signal Brigade; all of which fall under the III Armored Corps at Fort Hood, Texas. These forces will augment U.S. forces in the European theater and are trained and equipped for various missions to reinforce the U.S. European Command posture on NATO’s eastern flank. (U.S. Army Photo by Staff Sgt. Daniel Herman)', 'caption': 'FORT HOOD, Texas – In support of our allies and partners in Europe, roughly 160 Soldiers from the III Armored Corps at Fort Hood, Texas deployed March 7, 2022 as part of the 7,000 U.S. military personnel earmarked to support the NATO Response Force announced February 24.\\n\\nDeploying personnel include those from the 96th Transportation Company (Heavy Equipment Transport), and the 297th Inland Cargo Transfer Company, both from the 13th Expeditionary Sustainment Command; and the 11th Corps Signal Brigade; all of which fall under the III Armored Corps at Fort Hood, Texas. These forces will augment U.S. forces in the European theater and are trained and equipped for various missions to reinforce the U.S. European Command posture on NATO’s eastern flank. (U.S. Army Photo by Staff Sgt. Daniel Herman)', 'author': 'Staff Sgt. Daniel Herman', 'date': '2022-03-08 14:31:04', 'featured': 0, 'page_url': 'https://www.army.mil/article/254535', 'url': '/e2/c/images/2022/03/08/3ec05cd0/original.jpg', 'url_size0': '/e2/c/images/2022/03/08/3ec05cd0/size0.jpg', 'url_size1': '/e2/c/images/2022/03/08/3ec05cd0/size1.jpg', 'url_size2': '/e2/c/images/2022/03/08/3ec05cd0/size2.jpg', 'url_size3': '/e2/c/images/2022/03/08/3ec05cd0/size3.jpg', 'url_size4': '/e2/c/images/2022/03/08/3ec05cd0/size4.jpg'}, {'id': 647323, 'image': 'https://api.army.mil/e2/c/images/2022/03/08/736c1563/original.jpg', 'path': 'images/2022/03/08/736c1563/', 'title': 'III Armored Corps, Fort Hood deploys units to support European operations', 'alt': 'FORT HOOD, Texas – In support of our allies and partners in Europe, roughly 160 Soldiers from the III Armored Corps at Fort Hood, Texas deployed March 7, 2022 as part of the 7,000 U.S. military personnel earmarked to support the NATO Response Force announced February 24.\\n\\nDeploying personnel include those from the 96th Transportation Company (Heavy Equipment Transport), and the 297th Inland Cargo Transfer Company, both from the 13th Expeditionary Sustainment Command; and the 11th Corps Signal Brigade; all of which fall under the III Armored Corps at Fort Hood, Texas. These forces will augment U.S. forces in the European theater and are trained and equipped for various missions to reinforce the U.S. European Command posture on NATO’s eastern flank.  (U.S. Army Photo by Staff Sgt. Daniel Herman)', 'caption': 'FORT HOOD, Texas – In support of our allies and partners in Europe, roughly 160 Soldiers from the III Armored Corps at Fort Hood, Texas deployed March 7, 2022 as part of the 7,000 U.S. military personnel earmarked to support the NATO Response Force announced February 24.\\n\\nDeploying personnel include those from the 96th Transportation Company (Heavy Equipment Transport), and the 297th Inland Cargo Transfer Company, both from the 13th Expeditionary Sustainment Command; and the 11th Corps Signal Brigade; all of which fall under the III Armored Corps at Fort Hood, Texas. These forces will augment U.S. forces in the European theater and are trained and equipped for various missions to reinforce the U.S. European Command posture on NATO’s eastern flank.  (U.S. Army Photo by Staff Sgt. Daniel Herman)', 'author': 'Staff Sgt. Daniel Herman', 'date': '2022-03-08 14:31:12', 'featured': 0, 'page_url': 'https://www.army.mil/article/254535', 'url': '/e2/c/images/2022/03/08/736c1563/original.jpg', 'url_size0': '/e2/c/images/2022/03/08/736c1563/size0.jpg', 'url_size1': '/e2/c/images/2022/03/08/736c1563/size1.jpg', 'url_size2': '/e2/c/images/2022/03/08/736c1563/size2.jpg', 'url_size3': '/e2/c/images/2022/03/08/736c1563/size3.jpg', 'url_size4': '/e2/c/images/2022/03/08/736c1563/size4.jpg'}, {'id': 647322, 'image': 'https://api.army.mil/e2/c/images/2022/03/08/de23f747/original.jpg', 'path': 'images/2022/03/08/de23f747/', 'title': 'III Armored Corps, Fort Hood deploys units to support European operations', 'alt': 'FORT HOOD, Texas – In support of our allies and partners in Europe, roughly 160 Soldiers from the III Armored Corps at Fort Hood, Texas deployed today as part of the 7,000 U.S. military personnel earmarked to support the NATO Response Force announced February 24.\\n\\nDeploying personnel include those from the 96th Transportation Company (Heavy Equipment Transport), and the 297th Inland Cargo Transfer Company, both from the 13th Expeditionary Sustainment Command; and the 11th Corps Signal Brigade; all of which fall under the III Armored Corps at Fort Hood, Texas. These forces will augment U.S. forces in the European theater and are trained and equipped for various missions to reinforce the U.S. European Command posture on NATO’s eastern flank. (U.S. Army Photo by Staff Sgt. Daniel Herman)', 'caption': 'FORT HOOD, Texas – In support of our allies and partners in Europe, roughly 160 Soldiers from the III Armored Corps at Fort Hood, Texas deployed today as part of the 7,000 U.S. military personnel earmarked to support the NATO Response Force announced February 24.\\n\\nDeploying personnel include those from the 96th Transportation Company (Heavy Equipment Transport), and the 297th Inland Cargo Transfer Company, both from the 13th Expeditionary Sustainment Command; and the 11th Corps Signal Brigade; all of which fall under the III Armored Corps at Fort Hood, Texas. These forces will augment U.S. forces in the European theater and are trained and equipped for various missions to reinforce the U.S. European Command posture on NATO’s eastern flank. (U.S. Army Photo by Staff Sgt. Daniel Herman)', 'author': 'Staff Sgt. Daniel Herman', 'date': '2022-03-08 14:31:08', 'featured': 0, 'page_url': 'https://www.army.mil/article/254535', 'url': '/e2/c/images/2022/03/08/de23f747/original.jpg', 'url_size0': '/e2/c/images/2022/03/08/de23f747/size0.jpg', 'url_size1': '/e2/c/images/2022/03/08/de23f747/size1.jpg', 'url_size2': '/e2/c/images/2022/03/08/de23f747/size2.jpg', 'url_size3': '/e2/c/images/2022/03/08/de23f747/size3.jpg', 'url_size4': '/e2/c/images/2022/03/08/de23f747/size4.jpg'}, {'id': 647324, 'image': 'https://api.army.mil/e2/c/images/2022/03/08/4ac15310/original.jpg', 'path': 'images/2022/03/08/4ac15310/', 'title': 'III Armored Corps, Fort Hood deploys units to support European operations', 'alt': 'FORT HOOD, Texas – In support of our allies and partners in Europe, roughly 160 Soldiers from the III Armored Corps at Fort Hood, Texas deployed March 7, 2022 as part of the 7,000 U.S. military personnel earmarked to support the NATO Response Force announced February 24.\\n\\nDeploying personnel include those from the 96th Transportation Company (Heavy Equipment Transport), and the 297th Inland Cargo Transfer Company, both from the 13th Expeditionary Sustainment Command; and the 11th Corps Signal Brigade; all of which fall under the III Armored Corps at Fort Hood, Texas. These forces will augment U.S. forces in the European theater and are trained and equipped for various missions to reinforce the U.S. European Command posture on NATO’s eastern flank. (U.S. Army Photo by Staff Sgt. Daniel Herman)', 'caption': 'FORT HOOD, Texas – In support of our allies and partners in Europe, roughly 160 Soldiers from the III Armored Corps at Fort Hood, Texas deployed March 7, 2022 as part of the 7,000 U.S. military personnel earmarked to support the NATO Response Force announced February 24.\\n\\nDeploying personnel include those from the 96th Transportation Company (Heavy Equipment Transport), and the 297th Inland Cargo Transfer Company, both from the 13th Expeditionary Sustainment Command; and the 11th Corps Signal Brigade; all of which fall under the III Armored Corps at Fort Hood, Texas. These forces will augment U.S. forces in the European theater and are trained and equipped for various missions to reinforce the U.S. European Command posture on NATO’s eastern flank. (U.S. Army Photo by Staff Sgt. Daniel Herman)', 'author': 'Staff Sgt. Daniel Herman', 'date': '2022-03-08 14:31:16', 'featured': 0, 'page_url': 'https://www.army.mil/article/254535', 'url': '/e2/c/images/2022/03/08/4ac15310/original.jpg', 'url_size0': '/e2/c/images/2022/03/08/4ac15310/size0.jpg', 'url_size1': '/e2/c/images/2022/03/08/4ac15310/size1.jpg', 'url_size2': '/e2/c/images/2022/03/08/4ac15310/size2.jpg', 'url_size3': '/e2/c/images/2022/03/08/4ac15310/size3.jpg', 'url_size4': '/e2/c/images/2022/03/08/4ac15310/size4.jpg'}]}, {'id': 245539, 'title': 'Platoon Leader Designs App to Help Soldiers Earn Their EIB', 'short_title': 'Platoon Leader Designs App to Help Soldiers Earn Their EIB', 'body': 'U.S. Army service members now have a new training aid to help them earn the coveted Expert Infantryman Badge, a mobile app.\\n\\n1st Lt. Egor Krasnonosenkikh, an infantry officer assigned to 4th Battalion, 23rd Infantry Regiment, 2nd Stryker Brigade Combat Team, 7th Infantry Division on Joint Base Lewis-McChord used self-taught programming skills to design an app, &#34;EIB Pro,&#34; to help train his Soldiers.\\n\\nJust as the Combat Infantryman Badge was intended to be an award for U.S. service members whose primary mission was to close with and destroy the enemy, the Expert Infantryman Badge was instituted to build and maintain esprit de corps within U.S. infantry units. In order for any infantryman to earn the coveted badge, they must demonstrate expertise in their profession&#39;s tasks and drills.\\n\\nSince its creation, it has been downloaded over 11,000 times and in 65 different countries.\\n\\nVideos, written instruction, a step-by-step guide, tasks, conditions and standards for EIB tasks are all provided within the app. There’s even a progress tracker that measures your task confidence, repetitions per lane and a “station deep dive” that tracks progress per event.\\n\\n“So, I think the catalyst was definitely COVID. I was at home and on my computer anyway, so I figured I’d do something that&#39;s useful to the army. I got my EIB the year before I made my app, and I really disliked that little book that we got, which always got destroyed easily,” he said.\\n\\nAt the time, he was a platoon leader and really wanted to see Soldiers in his unit get their EIB, he said. Some Soldiers even had to practice while at home, an environment that he felt would be hard to train in just using a small book.\\n\\nSoldiers found the app to be a useful training tool, he said.\\n\\nHis battalion ended up having the highest success rate that year, 28.5%, almost double the Brigade average.\\n\\n“There were Soldiers that told me without my app, they don&#39;t think they would have gotten it. I&#39;ve even heard that from captains and majors,&#34; said Krasnonosenkikh.\\n\\nHe learned how to program on his own using YouTube videos and online resources. Growing up, he had a big interest in video games and what it took to make them, he said.\\n\\nHe spent his early years in Russia, before his uncle invited his mother and himself to move to the United States where he pursued an education and eventually a commission in the U.S. Army.\\n\\nSoon, he’ll be developing apps, officially, for the military as a member of U.S. Army Futures Command.\\n\\nHe’s also currently working on an education app geared towards squad leaders and team leaders to make Army doctrine more accessible.\\n\\nThe app is free to download, available on the Android and iPhone store and receives updates by 1st Lt. Krasnonosenkikh himself.\\n\\n', 'rich_text': '{\"ops\":[{\"insert\":{\"image\":[{\"id\":617217,\"title\":\"App Design\",\"artist\":\"Jerissa Krasnonosenkikh\",\"description\":\"1st Lt. Egor Krasnonosenkikh poses for a photo in front of his computer while designing his app, &#34;EIB Pro,&#34; in September, 2020.\",\"url\":\"https:\\\\/\\\\/api.army.mil\\\\/e2\\\\/c\\\\/images\\\\/2021\\\\/04\\\\/23\\\\/089e59c3\\\\/original.jpg\"}]},\"attributes\":{\"image\":{\"viewtype\":\"slideshow\"}}},{\"insert\":\"U.S. Army service members now have a new training aid to help them earn the coveted Expert Infantryman Badge, a mobile app.\\\\n1st Lt. Egor Krasnonosenkikh, an infantry officer assigned to 4th Battalion, 23rd Infantry Regiment, 2nd Stryker Brigade Combat Team, 7th Infantry Division on Joint Base Lewis-McChord used self-taught programming skills to design an app, &#34;EIB Pro,&#34; to help train his Soldiers.\\\\nJust as the Combat Infantryman Badge was intended to be an award for U.S. service members whose primary mission was to close with and destroy the enemy, the Expert Infantryman Badge was instituted to build and maintain esprit de corps within U.S. infantry units. In order for any infantryman to earn the coveted badge, they must demonstrate expertise in their profession&#39;s tasks and drills.\\\\nSince its creation, it has been downloaded over 11,000 times and in 65 different countries.\\\\nVideos, written instruction, a step-by-step guide, tasks, conditions and standards for EIB tasks are all provided within the app. There\\\\u2019s even a progress tracker that measures your task confidence, repetitions per lane and a \\\\u201cstation deep dive\\\\u201d that tracks progress per event.\\\\n\"},{\"insert\":{\"image\":[{\"id\":617219,\"title\":\"Training Using EIB Pro\",\"artist\":\"Egor Krasnonosenkikh\",\"description\":\"A Soldier assigned to 2nd Stryker Brigade Combat Team, 7th Infantry Division uses the app, &#34;EIB Pro,&#34; while training to earn an Expert Infantryman Badge on Joint Base Lewis-McChord, Washington in October, 2020.\",\"url\":\"https:\\\\/\\\\/api.army.mil\\\\/e2\\\\/c\\\\/images\\\\/2021\\\\/04\\\\/23\\\\/47dc99e0\\\\/original.jpg\"}]},\"attributes\":{\"image\":{\"viewtype\":\"slideshow\"}}},{\"insert\":\"\\\\u201cSo, I think the catalyst was definitely COVID. I was at home and on my computer anyway, so I figured I\\\\u2019d do something that&#39;s useful to the army. I got my EIB the year before I made my app, and I really disliked that little book that we got, which always got destroyed easily,\\\\u201d he said.\\\\nAt the time, he was a platoon leader and really wanted to see Soldiers in his unit get their EIB, he said. Some Soldiers even had to practice while at home, an environment that he felt would be hard to train in just using a small book.\\\\nSoldiers found the app to be a useful training tool, he said.\\\\nHis battalion ended up having the highest success rate that year, 28.5%, almost double the Brigade average.\\\\n\\\\u201cThere were Soldiers that told me without my app, they don&#39;t think they would have gotten it. I&#39;ve even heard that from captains and majors,&#34; said Krasnonosenkikh.\\\\nHe learned how to program on his own using YouTube videos and online resources. Growing up, he had a big interest in video games and what it took to make them, he said.\\\\nHe spent his early years in Russia, before his uncle invited his mother and himself to move to the United States where he pursued an education and eventually a commission in the U.S. Army.\\\\nSoon, he\\\\u2019ll be developing apps, officially, for the military as a member of U.S. Army Futures Command.\\\\nHe\\\\u2019s also currently working on an education app geared towards squad leaders and team leaders to make Army doctrine more accessible.\\\\nThe app is free to download, available on the Android and iPhone store and receives updates by 1st Lt. Krasnonosenkikh himself.\\\\n\"}]}', 'url': 'https://www.army.mil/article/245539', 'page_url': 'https://www.army.mil/article/245539/platoon_leader_designs_app_to_help_soldiers_earn_their_eib', 'author': 'Jerod Hathaway', 'date': '2021-04-23 13:23:07', 'last_updated': '2021-04-23 13:59:00', 'short_description': 'U.S. Army service members now have a new training aid to help them earn the coveted Expert Infantryman Badge, a mobile app. 1st Lt. Egor Krasnonosenkik...', 'description': 'U.S. Army service members now have a new training aid to help them earn the coveted Expert Infantryman Badge, a mobile app. 1st Lt. Egor Krasnonosenkik...', 'section': '2nd Stryker Brigade Combat Team, 7th Infantry Division', 'ga_id': '', 'keywords': 'training,army,us-army,jblm,joint-base-lewis-mcchord,covid,modernization,leadership,washington,app,eib,futures-command,7th-infantry-division,2nd-stryker-brigade-combat-team,expert-infantryman-badge,army-mobile-app,us-army-futures-command,2sbct,7id,platoon-leader,north-fort,mobile,mobile-app,eib-app,krasnonosenkikh,egor-krasnonosenkikh,russia', 'image': 'https://api.army.mil/e2/c/images/2021/04/23/089e59c3/size2.jpg', 'images': [{'id': 617217, 'image': 'https://api.army.mil/e2/c/images/2021/04/23/089e59c3/original.jpg', 'path': 'images/2021/04/23/089e59c3/', 'title': 'App Design', 'alt': '1st Lt. Egor Krasnonosenkikh poses for a photo in front of his computer while designing his app, &#34;EIB Pro,&#34; in September, 2020.', 'caption': '1st Lt. Egor Krasnonosenkikh poses for a photo in front of his computer while designing his app, &#34;EIB Pro,&#34; in September, 2020.', 'author': 'Jerissa Krasnonosenkikh', 'date': '2021-04-23 12:44:31', 'featured': 1, 'page_url': 'https://www.army.mil/article/245539', 'url': '/e2/c/images/2021/04/23/089e59c3/original.jpg', 'url_size0': '/e2/c/images/2021/04/23/089e59c3/size0.jpg', 'url_size1': '/e2/c/images/2021/04/23/089e59c3/size1.jpg', 'url_size2': '/e2/c/images/2021/04/23/089e59c3/size2.jpg', 'url_size3': '/e2/c/images/2021/04/23/089e59c3/size3.jpg', 'url_size4': '/e2/c/images/2021/04/23/089e59c3/size4.jpg'}, {'id': 617219, 'image': 'https://api.army.mil/e2/c/images/2021/04/23/47dc99e0/original.jpg', 'path': 'images/2021/04/23/47dc99e0/', 'title': 'Training Using EIB Pro', 'alt': 'A Soldier assigned to 2nd Stryker Brigade Combat Team, 7th Infantry Division uses the app, &#34;EIB Pro,&#34; while training to earn an Expert Infantryman Badge on Joint Base Lewis-McChord, Washington in October, 2020.', 'caption': 'A Soldier assigned to 2nd Stryker Brigade Combat Team, 7th Infantry Division uses the app, &#34;EIB Pro,&#34; while training to earn an Expert Infantryman Badge on Joint Base Lewis-McChord, Washington in October, 2020.', 'author': 'Egor Krasnonosenkikh', 'date': '2021-04-23 12:44:41', 'featured': 0, 'page_url': 'https://www.army.mil/article/245539', 'url': '/e2/c/images/2021/04/23/47dc99e0/original.jpg', 'url_size0': '/e2/c/images/2021/04/23/47dc99e0/size0.jpg', 'url_size1': '/e2/c/images/2021/04/23/47dc99e0/size1.jpg', 'url_size2': '/e2/c/images/2021/04/23/47dc99e0/size2.jpg', 'url_size3': '/e2/c/images/2021/04/23/47dc99e0/size3.jpg', 'url_size4': '/e2/c/images/2021/04/23/47dc99e0/size4.jpg'}]}]\n"
     ]
    }
   ],
   "source": [
    "my_response = requests.get(\"https://api.army.mil/api/v1/articles/russia\")\n",
    "if my_response.status_code == 200:\n",
    "    data = my_response.json()\n",
    "else:\n",
    "    print('error')\n",
    "\n",
    "print(data)"
   ]
  },
  {
   "cell_type": "code",
   "execution_count": null,
   "id": "41c10206",
   "metadata": {},
   "outputs": [],
   "source": [
    "#Question 8 - N/A"
   ]
  }
 ],
 "metadata": {
  "kernelspec": {
   "display_name": "Python 3 (ipykernel)",
   "language": "python",
   "name": "python3"
  },
  "language_info": {
   "codemirror_mode": {
    "name": "ipython",
    "version": 3
   },
   "file_extension": ".py",
   "mimetype": "text/x-python",
   "name": "python",
   "nbconvert_exporter": "python",
   "pygments_lexer": "ipython3",
   "version": "3.10.9"
  }
 },
 "nbformat": 4,
 "nbformat_minor": 5
}
