{
 "cells": [
  {
   "cell_type": "markdown",
   "id": "c99b38b3",
   "metadata": {},
   "source": [
    "COM597 Week 5 Coding Challenges: Tiana Case"
   ]
  },
  {
   "cell_type": "markdown",
   "id": "1c7a0c6f",
   "metadata": {},
   "source": [
    "---"
   ]
  },
  {
   "cell_type": "markdown",
   "id": "0fc0f993",
   "metadata": {},
   "source": [
    "Part 2 - data processing"
   ]
  },
  {
   "cell_type": "markdown",
   "id": "c330f3b9",
   "metadata": {},
   "source": [
    "---"
   ]
  },
  {
   "cell_type": "markdown",
   "id": "213deacf",
   "metadata": {},
   "source": [
    "Checklist:"
   ]
  },
  {
   "cell_type": "markdown",
   "id": "82316c8b",
   "metadata": {},
   "source": [
    "#1 Wikipedia Page View API\n",
    "\n",
    "1.1 - done! \n",
    "\n",
    "1.2 - done! \n",
    "\n",
    "1.3 - done! \n",
    "\n",
    "1.3.1 - done! \n",
    "\n",
    "1.3.2 - done! \n",
    "\n",
    "1.3.3 - done! \n",
    "\n",
    "1.3.4\n",
    "\n",
    "1.3.5\n",
    "\n",
    "1.4\n",
    "\n",
    "1.4.1\n",
    "\n",
    "1.4.2"
   ]
  },
  {
   "cell_type": "markdown",
   "id": "7bf48597",
   "metadata": {},
   "source": [
    "#2 Starting on your projects\n",
    "\n",
    "2.1 - done!\n",
    "\n",
    "2.2 - done!\n",
    "\n",
    "2.3 - done!\n",
    "\n",
    "2.4 - done!\n",
    "\n",
    "2.4.1 - done!\n",
    "\n",
    "2.5 - done!\n",
    "\n",
    "2.5.1 - done!\n",
    "\n",
    "2.6 - done!\n",
    "\n",
    "2.7 - done!\n",
    "\n",
    "2.8 - done!"
   ]
  },
  {
   "cell_type": "markdown",
   "id": "f3875844",
   "metadata": {},
   "source": [
    "---"
   ]
  },
  {
   "cell_type": "markdown",
   "id": "efaf58ce",
   "metadata": {},
   "source": [
    "#1 Wikipedia Page View API\n"
   ]
  },
  {
   "cell_type": "markdown",
   "id": "c8c8586e",
   "metadata": {},
   "source": [
    "1.1 Identify a famous person who has been famous for at least a few years and that you have some personal interest in. Use the Wikimedia API to collect page view data from the English Wikipedia article on that person. Now use that data to generate a time-series visualization and include a link to it in your notebook.\n"
   ]
  },
  {
   "cell_type": "markdown",
   "id": "bfc2cc0a",
   "metadata": {},
   "source": [
    "Harry Styles"
   ]
  },
  {
   "cell_type": "markdown",
   "id": "0d65fa0d",
   "metadata": {},
   "source": [
    "Data collection completed in P1"
   ]
  },
  {
   "cell_type": "code",
   "execution_count": 1,
   "id": "d313f9a0",
   "metadata": {},
   "outputs": [],
   "source": [
    "import json"
   ]
  },
  {
   "cell_type": "code",
   "execution_count": 2,
   "id": "c6c5d94d",
   "metadata": {},
   "outputs": [],
   "source": [
    "with open(\"harry_pageviews.json\", 'r') as input_file:\n",
    "    input_data = input_file.read()"
   ]
  },
  {
   "cell_type": "code",
   "execution_count": 3,
   "id": "735732a5",
   "metadata": {},
   "outputs": [],
   "source": [
    "#input_data"
   ]
  },
  {
   "cell_type": "code",
   "execution_count": 4,
   "id": "c9f52cb6",
   "metadata": {},
   "outputs": [
    {
     "data": {
      "text/plain": [
       "str"
      ]
     },
     "execution_count": 4,
     "metadata": {},
     "output_type": "execute_result"
    }
   ],
   "source": [
    "type(input_data)\n"
   ]
  },
  {
   "cell_type": "code",
   "execution_count": 31,
   "id": "34505dfe",
   "metadata": {},
   "outputs": [],
   "source": [
    "new_data = json.loads(input_data)"
   ]
  },
  {
   "cell_type": "code",
   "execution_count": 32,
   "id": "4b94f0ae",
   "metadata": {},
   "outputs": [
    {
     "data": {
      "text/plain": [
       "{'project': 'en.wikipedia',\n",
       " 'article': 'DC_comics',\n",
       " 'granularity': 'daily',\n",
       " 'timestamp': '2015070100',\n",
       " 'access': 'all-access',\n",
       " 'agent': 'user',\n",
       " 'views': 12}"
      ]
     },
     "execution_count": 32,
     "metadata": {},
     "output_type": "execute_result"
    }
   ],
   "source": [
    "new_data['items'][0]"
   ]
  },
  {
   "cell_type": "code",
   "execution_count": 33,
   "id": "ae6b4ad9",
   "metadata": {},
   "outputs": [],
   "source": [
    "def clean_up_timestamp(day):\n",
    "    new_time_stamp = day[0:4] + \"-\" + day[4:6] + \"-\" + day[6:8]\n",
    "    return new_time_stamp"
   ]
  },
  {
   "cell_type": "code",
   "execution_count": null,
   "id": "3757a5ec",
   "metadata": {},
   "outputs": [],
   "source": [
    "views_by_day = {}\n",
    "\n",
    "for day_dict in new_data['items']:\n",
    "    day = clean_up_timestamp(day_dict['timestamp'])\n",
    "    views_by_day[day] = day_dict['views']"
   ]
  },
  {
   "cell_type": "code",
   "execution_count": null,
   "id": "16ac7588",
   "metadata": {},
   "outputs": [],
   "source": [
    "#views_by_day"
   ]
  },
  {
   "cell_type": "code",
   "execution_count": null,
   "id": "eb467437",
   "metadata": {},
   "outputs": [],
   "source": [
    "with open('harry_views_by_day.tsv', 'w') as output_file:\n",
    "    print(\"day\\tviews\", file = output_file)\n",
    "    for day in views_by_day:\n",
    "        print(f\"{day}\\t{views_by_day[day]}\", file = output_file)"
   ]
  },
  {
   "cell_type": "markdown",
   "id": "2271c01c",
   "metadata": {},
   "source": [
    "Link: https://docs.google.com/spreadsheets/d/1LNs2Hwqt2oxTO4CcIED249AXMwP6UNCj75GMED3PChA/edit?usp=sharing\n"
   ]
  },
  {
   "cell_type": "markdown",
   "id": "905dea09",
   "metadata": {},
   "source": [
    "---"
   ]
  },
  {
   "cell_type": "markdown",
   "id": "1ba6eee8",
   "metadata": {},
   "source": [
    "1.2 Identify 2 other languages editions of Wikipedia that have articles on that person. Collect page view data on the article in other languages and create a single visualization that shows how the dynamics are similar and/or different. (Note: My approach involved creating a TSV file with multiple columns.)\n"
   ]
  },
  {
   "cell_type": "markdown",
   "id": "ad86dd3c",
   "metadata": {},
   "source": [
    "Spanish - es"
   ]
  },
  {
   "cell_type": "code",
   "execution_count": 71,
   "id": "5fadc774",
   "metadata": {},
   "outputs": [],
   "source": [
    "with open(\"harry_pageviews_es.json\", 'r') as input_file:\n",
    "    input_data = input_file.read() "
   ]
  },
  {
   "cell_type": "code",
   "execution_count": 72,
   "id": "7f23ddd5",
   "metadata": {},
   "outputs": [],
   "source": [
    "es_data = json.loads(input_data)"
   ]
  },
  {
   "cell_type": "code",
   "execution_count": 74,
   "id": "e3162344",
   "metadata": {},
   "outputs": [],
   "source": [
    "es_views_by_day = {}\n",
    "\n",
    "for es_daydict in es_data['items']:\n",
    "    es_day = clean_up_timestamp(es_daydict['timestamp'])\n",
    "    es_views_by_day[es_day] = es_daydict['views']"
   ]
  },
  {
   "cell_type": "code",
   "execution_count": 75,
   "id": "ad03f706",
   "metadata": {},
   "outputs": [],
   "source": [
    "with open('es_hs_vbd.tsv', 'w') as output_file:\n",
    "    print(\"day\\tes views\", file = output_file)\n",
    "    for es_day in es_views_by_day:\n",
    "        print(f\"{es_day}\\t{es_views_by_day[es_day]}\", file = output_file)"
   ]
  },
  {
   "cell_type": "markdown",
   "id": "4376813a",
   "metadata": {},
   "source": [
    "French - fr"
   ]
  },
  {
   "cell_type": "code",
   "execution_count": 76,
   "id": "782c8973",
   "metadata": {},
   "outputs": [],
   "source": [
    "with open(\"harry_pageviews_fr.json\", 'r') as input_file:\n",
    "    input_data = input_file.read() "
   ]
  },
  {
   "cell_type": "code",
   "execution_count": 77,
   "id": "b6ec9689",
   "metadata": {},
   "outputs": [],
   "source": [
    "fr_data = json.loads(input_data)"
   ]
  },
  {
   "cell_type": "code",
   "execution_count": 78,
   "id": "f6102c1a",
   "metadata": {},
   "outputs": [],
   "source": [
    "fr_views_by_day = {}\n",
    "\n",
    "for fr_daydict in fr_data['items']:\n",
    "    fr_day = clean_up_timestamp(fr_daydict['timestamp'])\n",
    "    fr_views_by_day[fr_day] = fr_daydict['views']"
   ]
  },
  {
   "cell_type": "code",
   "execution_count": 79,
   "id": "76acaef4",
   "metadata": {},
   "outputs": [],
   "source": [
    "with open('fr_hs_vbd.tsv', 'w') as output_file:\n",
    "    print(\"day\\tfr views\", file = output_file)\n",
    "    for fr_day in fr_views_by_day:\n",
    "        print(f\"{fr_day}\\t{fr_views_by_day[fr_day]}\", file = output_file)"
   ]
  },
  {
   "cell_type": "code",
   "execution_count": null,
   "id": "130395fa",
   "metadata": {},
   "outputs": [],
   "source": [
    "thursday work"
   ]
  },
  {
   "cell_type": "code",
   "execution_count": null,
   "id": "f6dcb14b",
   "metadata": {
    "scrolled": true
   },
   "outputs": [],
   "source": [
    "with open(\"views_by_day_langs.jsonl\", 'r') as input_file:\n",
    "    for line in input_file.readlines():\n",
    "        print(type(line))"
   ]
  },
  {
   "cell_type": "code",
   "execution_count": null,
   "id": "183a3891",
   "metadata": {},
   "outputs": [],
   "source": [
    "with open(\"views_by_day_langs.jsonl\", 'r') as input_file:\n",
    "    for line in input_file.readlines():\n",
    "        new_data = json.loads(line)"
   ]
  },
  {
   "cell_type": "code",
   "execution_count": null,
   "id": "4855fcaa",
   "metadata": {
    "scrolled": true
   },
   "outputs": [],
   "source": [
    "#new_data['items']"
   ]
  },
  {
   "cell_type": "code",
   "execution_count": null,
   "id": "64a97c17",
   "metadata": {},
   "outputs": [],
   "source": [
    "day_dicts = []\n",
    "\n",
    "with open(\"views_by_day_langs.jsonl\", 'r') as input_file:\n",
    "    for line in input_file.readlines():\n",
    "        new_data = json.loads(line)\n",
    "        day_dicts = day_dicts + new_data['items']"
   ]
  },
  {
   "cell_type": "code",
   "execution_count": null,
   "id": "ba9c84cc",
   "metadata": {},
   "outputs": [],
   "source": [
    "len(day_dicts)"
   ]
  },
  {
   "cell_type": "code",
   "execution_count": null,
   "id": "dcb3e350",
   "metadata": {},
   "outputs": [],
   "source": [
    "def clean_up_timestamp(day):\n",
    "    new_time_stamp = day[0:4] + \"-\" + day[4:6] + \"-\" + day[6:8]\n",
    "    return new_time_stamp"
   ]
  },
  {
   "cell_type": "code",
   "execution_count": null,
   "id": "d21b3224",
   "metadata": {},
   "outputs": [],
   "source": [
    "views_by_day = {}\n",
    "\n",
    "for day_dict in new_data['items']:\n",
    "    day = clean_up_timestamp(day_dict['timestamp'])\n",
    "    views_by_day[day] = day_dict['views']"
   ]
  },
  {
   "cell_type": "code",
   "execution_count": null,
   "id": "fa8d0768",
   "metadata": {},
   "outputs": [],
   "source": [
    "total_views_by_day = {}\n",
    "\n",
    "for day_dict in day_dicts:\n",
    "    day = clean_up_timestamp(day_dict[\"timestamp\"])\n",
    "    \n",
    "    if day in total_views_by_day.keys():\n",
    "        total_views_by_day[day] = total_views_by_day[day] + day_dict[\"views\"]\n",
    "    else:\n",
    "        total_views_by_day[day] = day_dict['views']"
   ]
  },
  {
   "cell_type": "code",
   "execution_count": null,
   "id": "aa1028c9",
   "metadata": {},
   "outputs": [],
   "source": [
    "langs = [\"en\", \"es\", \"fr\"]\n",
    "\n",
    "with open('views_by_day_langs.tsv', 'w') as output_file:\n",
    "    print(\"day\\tviews\", file = output_file)\n",
    "    for lang in langs:\n",
    "        for day in total_views_by_day:\n",
    "            print(f\"{lang}\\t{day}\\t{total_views_by_day[day]}\", file = output_file)"
   ]
  },
  {
   "cell_type": "code",
   "execution_count": null,
   "id": "704346c1",
   "metadata": {},
   "outputs": [],
   "source": []
  },
  {
   "cell_type": "code",
   "execution_count": null,
   "id": "21fa7c13",
   "metadata": {},
   "outputs": [],
   "source": []
  },
  {
   "cell_type": "markdown",
   "id": "a8353e32",
   "metadata": {},
   "source": [
    "tsv - key and value, language column = asign a string to the value"
   ]
  },
  {
   "cell_type": "markdown",
   "id": "ee707fd2",
   "metadata": {},
   "source": [
    "lang, date, views\n",
    "\n",
    "english, french, spanish, \n",
    "\n",
    "in for loop print code - french/tdateviews\n"
   ]
  },
  {
   "cell_type": "code",
   "execution_count": null,
   "id": "8db0b5b5",
   "metadata": {},
   "outputs": [],
   "source": [
    "with open('views_by_day_en.tsv', 'w') as output_file:\n",
    "    print(\"day\\tviews\", file = output_file)"
   ]
  },
  {
   "cell_type": "markdown",
   "id": "668ab49b",
   "metadata": {},
   "source": [
    "---"
   ]
  },
  {
   "cell_type": "markdown",
   "id": "98d5451a",
   "metadata": {},
   "source": [
    "1.3 Collect page view data on the articles about Marvel Comics and DC Comics in English Wikipedia. (If you'd rather replace these examples with some other comparison of popular rivals, that's just as good!)\n"
   ]
  },
  {
   "cell_type": "code",
   "execution_count": 119,
   "id": "2430d943",
   "metadata": {},
   "outputs": [],
   "source": [
    "with open(\"dc_pageviews.json\", 'r') as input_file:\n",
    "    input_data = input_file.read()"
   ]
  },
  {
   "cell_type": "code",
   "execution_count": 120,
   "id": "e70cea8a",
   "metadata": {},
   "outputs": [
    {
     "data": {
      "text/plain": [
       "str"
      ]
     },
     "execution_count": 120,
     "metadata": {},
     "output_type": "execute_result"
    }
   ],
   "source": [
    "type(input_data)"
   ]
  },
  {
   "cell_type": "code",
   "execution_count": 121,
   "id": "c11a943e",
   "metadata": {},
   "outputs": [],
   "source": [
    "#input_data"
   ]
  },
  {
   "cell_type": "code",
   "execution_count": 122,
   "id": "69cd68b1",
   "metadata": {},
   "outputs": [],
   "source": [
    "dc_data = json.loads(input_data)"
   ]
  },
  {
   "cell_type": "code",
   "execution_count": 123,
   "id": "7fea5429",
   "metadata": {
    "scrolled": true
   },
   "outputs": [
    {
     "data": {
      "text/plain": [
       "{'project': 'en.wikipedia',\n",
       " 'article': 'DC_Comics',\n",
       " 'granularity': 'daily',\n",
       " 'timestamp': '2015070100',\n",
       " 'access': 'all-access',\n",
       " 'agent': 'user',\n",
       " 'views': 3597}"
      ]
     },
     "execution_count": 123,
     "metadata": {},
     "output_type": "execute_result"
    }
   ],
   "source": [
    "dc_data['items'][0]"
   ]
  },
  {
   "cell_type": "code",
   "execution_count": 124,
   "id": "2043a064",
   "metadata": {},
   "outputs": [],
   "source": [
    "views_by_day = {}\n",
    "\n",
    "for day in dc_data['items']:\n",
    "    date = clean_up_timestamp(day[\"timestamp\"]) \n",
    "    views_by_day[date] = day['views']"
   ]
  },
  {
   "cell_type": "code",
   "execution_count": 125,
   "id": "ed8e4a23",
   "metadata": {},
   "outputs": [],
   "source": [
    "#views_by_day"
   ]
  },
  {
   "cell_type": "code",
   "execution_count": 126,
   "id": "56579f04",
   "metadata": {},
   "outputs": [],
   "source": [
    "with open('dc_views_by_day.tsv', 'w') as output_file:\n",
    "    print(\"day\\tviews\", file = output_file)\n",
    "    for date in views_by_day:\n",
    "        print(f\"{date}\\t{views_by_day[date]}\", file = output_file)"
   ]
  },
  {
   "cell_type": "markdown",
   "id": "4f6ce7de",
   "metadata": {},
   "source": [
    "Marvel"
   ]
  },
  {
   "cell_type": "code",
   "execution_count": 129,
   "id": "617235ae",
   "metadata": {},
   "outputs": [],
   "source": [
    "with open(\"mv_pageviews.json\", 'r') as input_file:\n",
    "    input_data = input_file.read()"
   ]
  },
  {
   "cell_type": "code",
   "execution_count": 130,
   "id": "1751ff48",
   "metadata": {},
   "outputs": [],
   "source": [
    "mv_data = json.loads(input_data)"
   ]
  },
  {
   "cell_type": "code",
   "execution_count": 131,
   "id": "1c26f9a4",
   "metadata": {},
   "outputs": [
    {
     "data": {
      "text/plain": [
       "{'project': 'en.wikipedia',\n",
       " 'article': 'Marvel_Comics',\n",
       " 'granularity': 'daily',\n",
       " 'timestamp': '2015070100',\n",
       " 'access': 'all-access',\n",
       " 'agent': 'user',\n",
       " 'views': 4168}"
      ]
     },
     "execution_count": 131,
     "metadata": {},
     "output_type": "execute_result"
    }
   ],
   "source": [
    "mv_data['items'][0]"
   ]
  },
  {
   "cell_type": "code",
   "execution_count": 132,
   "id": "374ed779",
   "metadata": {},
   "outputs": [],
   "source": [
    "views_by_day = {}\n",
    "\n",
    "for day in mv_data['items']:\n",
    "    date = clean_up_timestamp(day[\"timestamp\"]) \n",
    "    views_by_day[date] = day['views']"
   ]
  },
  {
   "cell_type": "code",
   "execution_count": 133,
   "id": "0529a659",
   "metadata": {},
   "outputs": [],
   "source": [
    "#views_by_day"
   ]
  },
  {
   "cell_type": "code",
   "execution_count": 134,
   "id": "f2a1331e",
   "metadata": {},
   "outputs": [],
   "source": [
    "with open('mv_views_by_day.tsv', 'w') as output_file:\n",
    "    print(\"day\\tviews\", file = output_file)\n",
    "    for date in views_by_day:\n",
    "        print(f\"{date}\\t{views_by_day[date]}\", file = output_file)"
   ]
  },
  {
   "cell_type": "markdown",
   "id": "8c01ada0",
   "metadata": {},
   "source": [
    "1.3.1 Which has more total page views in 2022?\n"
   ]
  },
  {
   "cell_type": "code",
   "execution_count": 135,
   "id": "2004f840",
   "metadata": {
    "scrolled": true
   },
   "outputs": [
    {
     "data": {
      "text/plain": [
       "{'project': 'en.wikipedia',\n",
       " 'article': 'Marvel_Comics',\n",
       " 'granularity': 'daily',\n",
       " 'timestamp': '2015070100',\n",
       " 'access': 'all-access',\n",
       " 'agent': 'user',\n",
       " 'views': 4168}"
      ]
     },
     "execution_count": 135,
     "metadata": {},
     "output_type": "execute_result"
    }
   ],
   "source": [
    "mv_data['items'][0]"
   ]
  },
  {
   "cell_type": "code",
   "execution_count": 141,
   "id": "aa60b7ef",
   "metadata": {},
   "outputs": [
    {
     "name": "stdout",
     "output_type": "stream",
     "text": [
      "total marvel views in 2022: 1804195\n"
     ]
    }
   ],
   "source": [
    "mv_2022_views = 0\n",
    "for item in new_data['items']:\n",
    "    if '2022' in item['timestamp']:\n",
    "        mv_2022_views = mv_2022_views + item['views']\n",
    "\n",
    "print(\"total marvel views in 2022:\", mv_2022_views)"
   ]
  },
  {
   "cell_type": "code",
   "execution_count": 142,
   "id": "5a36d356",
   "metadata": {
    "scrolled": true
   },
   "outputs": [
    {
     "data": {
      "text/plain": [
       "{'project': 'en.wikipedia',\n",
       " 'article': 'DC_Comics',\n",
       " 'granularity': 'daily',\n",
       " 'timestamp': '2015070100',\n",
       " 'access': 'all-access',\n",
       " 'agent': 'user',\n",
       " 'views': 3597}"
      ]
     },
     "execution_count": 142,
     "metadata": {},
     "output_type": "execute_result"
    }
   ],
   "source": [
    "dc_data['items'][0]"
   ]
  },
  {
   "cell_type": "code",
   "execution_count": 143,
   "id": "b8bec005",
   "metadata": {},
   "outputs": [
    {
     "name": "stdout",
     "output_type": "stream",
     "text": [
      "total dc views in 2022: 1793582\n"
     ]
    }
   ],
   "source": [
    "dc_2022_views = 0\n",
    "for item in dc_data['items']:\n",
    "    if '2022' in item['timestamp']:\n",
    "        dc_2022_views = dc_2022_views + item['views']\n",
    "\n",
    "print(\"total dc views in 2022:\", dc_2022_views)"
   ]
  },
  {
   "cell_type": "markdown",
   "id": "a6d3ef82",
   "metadata": {},
   "source": [
    "Marvel"
   ]
  },
  {
   "cell_type": "markdown",
   "id": "dd0e9815",
   "metadata": {},
   "source": [
    "1.3.2 Can you draw a visualization in a spreadsheet that shows this? (Again, provide a link.)\n"
   ]
  },
  {
   "cell_type": "markdown",
   "id": "94b821e2",
   "metadata": {},
   "source": [
    "https://docs.google.com/spreadsheets/d/1LNs2Hwqt2oxTO4CcIED249AXMwP6UNCj75GMED3PChA/edit?usp=sharing"
   ]
  },
  {
   "cell_type": "markdown",
   "id": "c1ed64b0",
   "metadata": {},
   "source": [
    "1.3.3 Where there years since 2015 when the less viewed page was viewed more? How many and which ones?\n"
   ]
  },
  {
   "cell_type": "code",
   "execution_count": 151,
   "id": "8f04d31c",
   "metadata": {},
   "outputs": [
    {
     "name": "stdout",
     "output_type": "stream",
     "text": [
      "total marvel views in 2021: 1924634\n",
      "total marvel views in 2020: 1331410\n",
      "total marvel views in 2019: 2099570\n",
      "total marvel views in 2018: 2707650\n",
      "total marvel views in 2017: 1670161\n",
      "total marvel views in 2016: 1982087\n",
      "total marvel views in 2015: 901007\n"
     ]
    }
   ],
   "source": [
    "mv_2021_views = 0\n",
    "for item in mv_data['items']:\n",
    "    if '2021' in item['timestamp']:\n",
    "        mv_2021_views = mv_2021_views + item['views']\n",
    "print(\"total marvel views in 2021:\", mv_2021_views)\n",
    "\n",
    "mv_2020_views = 0\n",
    "for item in mv_data['items']:\n",
    "    if '2020' in item['timestamp']:\n",
    "        mv_2020_views = mv_2020_views + item['views']\n",
    "print(\"total marvel views in 2020:\", mv_2020_views)\n",
    "\n",
    "mv_2019_views = 0\n",
    "for item in mv_data['items']:\n",
    "    if '2019' in item['timestamp']:\n",
    "        mv_2019_views = mv_2019_views + item['views']\n",
    "print(\"total marvel views in 2019:\", mv_2019_views)\n",
    "\n",
    "mv_2018_views = 0\n",
    "for item in mv_data['items']:\n",
    "    if '2018' in item['timestamp']:\n",
    "        mv_2018_views = mv_2018_views + item['views']\n",
    "print(\"total marvel views in 2018:\", mv_2018_views)\n",
    "\n",
    "mv_2017_views = 0\n",
    "for item in mv_data['items']:\n",
    "    if '2017' in item['timestamp']:\n",
    "        mv_2017_views = mv_2017_views + item['views']\n",
    "print(\"total marvel views in 2017:\", mv_2017_views)\n",
    "\n",
    "mv_2016_views = 0\n",
    "for item in mv_data['items']:\n",
    "    if '2016' in item['timestamp']:\n",
    "        mv_2016_views = mv_2016_views + item['views']\n",
    "print(\"total marvel views in 2016:\", mv_2016_views)\n",
    "\n",
    "mv_2015_views = 0\n",
    "for item in mv_data['items']:\n",
    "    if '2015' in item['timestamp']:\n",
    "        mv_2015_views = mv_2015_views + item['views']\n",
    "print(\"total marvel views in 2015:\", mv_2015_views)"
   ]
  },
  {
   "cell_type": "code",
   "execution_count": 150,
   "id": "93c147f4",
   "metadata": {},
   "outputs": [
    {
     "name": "stdout",
     "output_type": "stream",
     "text": [
      "total dc views in 2021: 1568725\n",
      "total dc views in 2020: 1391910\n",
      "total dc views in 2019: 1696735\n",
      "total dc views in 2018: 1810590\n",
      "total dc views in 2017: 1623985\n",
      "total dc views in 2016: 2003131\n",
      "total dc views in 2015: 824561\n"
     ]
    }
   ],
   "source": [
    "dc_2021_views = 0\n",
    "for item in dc_data['items']:\n",
    "    if '2021' in item['timestamp']:\n",
    "        dc_2021_views = dc_2021_views + item['views']\n",
    "print(\"total dc views in 2021:\", dc_2021_views)\n",
    "\n",
    "dc_2020_views = 0\n",
    "for item in dc_data['items']:\n",
    "    if '2020' in item['timestamp']:\n",
    "        dc_2020_views = dc_2020_views + item['views']\n",
    "print(\"total dc views in 2020:\", dc_2020_views)\n",
    "\n",
    "dc_2019_views = 0\n",
    "for item in dc_data['items']:\n",
    "    if '2019' in item['timestamp']:\n",
    "        dc_2019_views = dc_2019_views + item['views']\n",
    "print(\"total dc views in 2019:\", dc_2019_views)\n",
    "\n",
    "dc_2018_views = 0\n",
    "for item in dc_data['items']:\n",
    "    if '2018' in item['timestamp']:\n",
    "        dc_2018_views = dc_2018_views + item['views']\n",
    "print(\"total dc views in 2018:\", dc_2018_views)\n",
    "\n",
    "dc_2017_views = 0\n",
    "for item in dc_data['items']:\n",
    "    if '2017' in item['timestamp']:\n",
    "        dc_2017_views = dc_2017_views + item['views']\n",
    "print(\"total dc views in 2017:\", dc_2017_views)\n",
    "\n",
    "dc_2016_views = 0\n",
    "for item in dc_data['items']:\n",
    "    if '2016' in item['timestamp']:\n",
    "        dc_2016_views = dc_2016_views + item['views']\n",
    "print(\"total dc views in 2016:\", dc_2016_views)\n",
    "\n",
    "dc_2015_views = 0\n",
    "for item in dc_data['items']:\n",
    "    if '2015' in item['timestamp']:\n",
    "        dc_2015_views = dc_2015_views + item['views']\n",
    "print(\"total dc views in 2015:\", dc_2015_views)"
   ]
  },
  {
   "cell_type": "code",
   "execution_count": 154,
   "id": "1fc390aa",
   "metadata": {},
   "outputs": [
    {
     "name": "stdout",
     "output_type": "stream",
     "text": [
      "more marvel views than dc in 2021\n",
      "more dc views than marvel in 2020\n",
      "more marvel views than dc in 2019\n",
      "more marvel views than dc in 2018\n",
      "more marvel views than dc in 2017\n",
      "more dc views than marvel in 2016\n",
      "more marvel views than dc in 2015\n"
     ]
    }
   ],
   "source": [
    "if 1924634 > 1568725:\n",
    "    print('more marvel views than dc in 2021')\n",
    "else:\n",
    "    print('more dc views than marvel in 2021')\n",
    "    \n",
    "if 1331410 > 1391910:\n",
    "    print('more marvel views than dc in 2020')\n",
    "else:\n",
    "    print('more dc views than marvel in 2020')\n",
    "    \n",
    "if 2099570 > 1696735:\n",
    "    print('more marvel views than dc in 2019')\n",
    "else:\n",
    "    print('more dc views than marvel in 2019')\n",
    "    \n",
    "if 2707650 > 1810590:\n",
    "    print('more marvel views than dc in 2018')\n",
    "else:\n",
    "    print('more dc views than marvel in 2018')\n",
    "    \n",
    "if 1670161 > 1623985:\n",
    "    print('more marvel views than dc in 2017')\n",
    "else:\n",
    "    print('more dc views than marvel in 2017')\n",
    "    \n",
    "if 1982087 > 2003131:\n",
    "    print('more marvel views than dc in 2016')\n",
    "else:\n",
    "    print('more dc views than marvel in 2016')\n",
    "    \n",
    "if 901007 > 824561:\n",
    "    print('more marvel views than dc in 2015')\n",
    "else:\n",
    "    print('more dc views than marvel in 2015')"
   ]
  },
  {
   "cell_type": "markdown",
   "id": "4231d75b",
   "metadata": {},
   "source": [
    "2 - 2020, 2016"
   ]
  },
  {
   "cell_type": "markdown",
   "id": "c32231b7",
   "metadata": {},
   "source": [
    "https://docs.google.com/spreadsheets/d/1LNs2Hwqt2oxTO4CcIED249AXMwP6UNCj75GMED3PChA/edit?usp=sharing"
   ]
  },
  {
   "cell_type": "markdown",
   "id": "8727dbb2",
   "metadata": {},
   "source": [
    "1.3.4 Where their any months was this true? How many and which ones?\n"
   ]
  },
  {
   "cell_type": "markdown",
   "id": "5ab07f86",
   "metadata": {},
   "source": [
    "timestamp: YYYYMMDD - timestamp[4:6]"
   ]
  },
  {
   "cell_type": "code",
   "execution_count": 157,
   "id": "91390b2f",
   "metadata": {
    "scrolled": true
   },
   "outputs": [
    {
     "name": "stdout",
     "output_type": "stream",
     "text": [
      "total marvel views in jan 2021: 115537\n",
      "total marvel views in feb 2021: 117021\n",
      "total marvel views in march 2021: 145916\n",
      "total marvel views in april 2021: 126592\n",
      "total marvel views in may 2021: 113684\n",
      "total marvel views in june 2021: 93424\n",
      "total marvel views in july 2021: 186978\n",
      "total marvel views in aug 2021: 159915\n",
      "total marvel views in sept 2021: 219986\n",
      "total marvel views in oct 2021: 174830\n",
      "total marvel views in nov 2021: 190070\n",
      "total marvel views in dec 2021: 238670\n"
     ]
    }
   ],
   "source": [
    "mv_2021_views = 0\n",
    "for item in mv_data['items']:\n",
    "    if '202101' in item['timestamp']:\n",
    "        mv_2021_views = mv_2021_views + item['views']\n",
    "print(\"total marvel views in jan 2021:\", mv_2021_views)\n",
    "\n",
    "mv_2021_views = 0\n",
    "for item in mv_data['items']:\n",
    "    if '202102' in item['timestamp']:\n",
    "        mv_2021_views = mv_2021_views + item['views']\n",
    "print(\"total marvel views in feb 2021:\", mv_2021_views)\n",
    "\n",
    "mv_2021_views = 0\n",
    "for item in mv_data['items']:\n",
    "    if '202103' in item['timestamp']:\n",
    "        mv_2021_views = mv_2021_views + item['views']\n",
    "print(\"total marvel views in march 2021:\", mv_2021_views)\n",
    "\n",
    "mv_2021_views = 0\n",
    "for item in mv_data['items']:\n",
    "    if '202104' in item['timestamp']:\n",
    "        mv_2021_views = mv_2021_views + item['views']\n",
    "print(\"total marvel views in april 2021:\", mv_2021_views)\n",
    "\n",
    "mv_2021_views = 0\n",
    "for item in mv_data['items']:\n",
    "    if '202105' in item['timestamp']:\n",
    "        mv_2021_views = mv_2021_views + item['views']\n",
    "print(\"total marvel views in may 2021:\", mv_2021_views)\n",
    "\n",
    "mv_2021_views = 0\n",
    "for item in mv_data['items']:\n",
    "    if '202106' in item['timestamp']:\n",
    "        mv_2021_views = mv_2021_views + item['views']\n",
    "print(\"total marvel views in june 2021:\", mv_2021_views)\n",
    "\n",
    "mv_2021_views = 0\n",
    "for item in mv_data['items']:\n",
    "    if '202107' in item['timestamp']:\n",
    "        mv_2021_views = mv_2021_views + item['views']\n",
    "print(\"total marvel views in july 2021:\", mv_2021_views)\n",
    "\n",
    "mv_2021_views = 0\n",
    "for item in mv_data['items']:\n",
    "    if '202108' in item['timestamp']:\n",
    "        mv_2021_views = mv_2021_views + item['views']\n",
    "print(\"total marvel views in aug 2021:\", mv_2021_views)\n",
    "\n",
    "mv_2021_views = 0\n",
    "for item in mv_data['items']:\n",
    "    if '202109' in item['timestamp']:\n",
    "        mv_2021_views = mv_2021_views + item['views']\n",
    "print(\"total marvel views in sept 2021:\", mv_2021_views)\n",
    "\n",
    "mv_2021_views = 0\n",
    "for item in mv_data['items']:\n",
    "    if '202110' in item['timestamp']:\n",
    "        mv_2021_views = mv_2021_views + item['views']\n",
    "print(\"total marvel views in oct 2021:\", mv_2021_views)\n",
    "\n",
    "mv_2021_views = 0\n",
    "for item in mv_data['items']:\n",
    "    if '202111' in item['timestamp']:\n",
    "        mv_2021_views = mv_2021_views + item['views']\n",
    "print(\"total marvel views in nov 2021:\", mv_2021_views)\n",
    "\n",
    "mv_2021_views = 0\n",
    "for item in mv_data['items']:\n",
    "    if '202112' in item['timestamp']:\n",
    "        mv_2021_views = mv_2021_views + item['views']\n",
    "print(\"total marvel views in dec 2021:\", mv_2021_views)"
   ]
  },
  {
   "cell_type": "code",
   "execution_count": 158,
   "id": "27894a1d",
   "metadata": {},
   "outputs": [
    {
     "name": "stdout",
     "output_type": "stream",
     "text": [
      "total marvel views in jan 2020: 97246\n",
      "total marvel views in feb 2020: 82380\n",
      "total marvel views in march 2020: 96651\n",
      "total marvel views in april 2020: 128647\n",
      "total marvel views in may 2020: 117798\n",
      "total marvel views in june 2020: 89768\n",
      "total marvel views in july 2020: 89176\n",
      "total marvel views in aug 2020: 103532\n",
      "total marvel views in sept 2020: 99472\n",
      "total marvel views in oct 2020: 104740\n",
      "total marvel views in nov 2020: 105065\n",
      "total marvel views in dec 2020: 117964\n"
     ]
    }
   ],
   "source": [
    "mv_2020_views = 0\n",
    "for item in mv_data['items']:\n",
    "    if '202001' in item['timestamp']:\n",
    "        mv_2020_views = mv_2020_views + item['views']\n",
    "print(\"total marvel views in jan 2020:\", mv_2020_views)\n",
    "\n",
    "mv_2020_views = 0\n",
    "for item in mv_data['items']:\n",
    "    if '202002' in item['timestamp']:\n",
    "        mv_2020_views = mv_2020_views + item['views']\n",
    "print(\"total marvel views in feb 2020:\", mv_2020_views)\n",
    "\n",
    "mv_2020_views = 0\n",
    "for item in mv_data['items']:\n",
    "    if '202003' in item['timestamp']:\n",
    "        mv_2020_views = mv_2020_views + item['views']\n",
    "print(\"total marvel views in march 2020:\", mv_2020_views)\n",
    "\n",
    "mv_2020_views = 0\n",
    "for item in mv_data['items']:\n",
    "    if '202004' in item['timestamp']:\n",
    "        mv_2020_views = mv_2020_views + item['views']\n",
    "print(\"total marvel views in april 2020:\", mv_2020_views)\n",
    "\n",
    "mv_2020_views = 0\n",
    "for item in mv_data['items']:\n",
    "    if '202005' in item['timestamp']:\n",
    "        mv_2020_views = mv_2020_views + item['views']\n",
    "print(\"total marvel views in may 2020:\", mv_2020_views)\n",
    "\n",
    "mv_2020_views = 0\n",
    "for item in mv_data['items']:\n",
    "    if '202006' in item['timestamp']:\n",
    "        mv_2020_views = mv_2020_views + item['views']\n",
    "print(\"total marvel views in june 2020:\", mv_2020_views)\n",
    "\n",
    "mv_2020_views = 0\n",
    "for item in mv_data['items']:\n",
    "    if '202007' in item['timestamp']:\n",
    "        mv_2020_views = mv_2020_views + item['views']\n",
    "print(\"total marvel views in july 2020:\", mv_2020_views)\n",
    "\n",
    "mv_2020_views = 0\n",
    "for item in mv_data['items']:\n",
    "    if '202008' in item['timestamp']:\n",
    "        mv_2020_views = mv_2020_views + item['views']\n",
    "print(\"total marvel views in aug 2020:\", mv_2020_views)\n",
    "\n",
    "mv_2020_views = 0\n",
    "for item in mv_data['items']:\n",
    "    if '202009' in item['timestamp']:\n",
    "        mv_2020_views = mv_2020_views + item['views']\n",
    "print(\"total marvel views in sept 2020:\", mv_2020_views)\n",
    "\n",
    "mv_2020_views = 0\n",
    "for item in mv_data['items']:\n",
    "    if '202010' in item['timestamp']:\n",
    "        mv_2020_views = mv_2020_views + item['views']\n",
    "print(\"total marvel views in oct 2020:\", mv_2020_views)\n",
    "\n",
    "mv_2020_views = 0\n",
    "for item in mv_data['items']:\n",
    "    if '202011' in item['timestamp']:\n",
    "        mv_2020_views = mv_2020_views + item['views']\n",
    "print(\"total marvel views in nov 2020:\", mv_2020_views)\n",
    "\n",
    "mv_2020_views = 0\n",
    "for item in mv_data['items']:\n",
    "    if '202012' in item['timestamp']:\n",
    "        mv_2020_views = mv_2020_views + item['views']\n",
    "print(\"total marvel views in dec 2020:\", mv_2020_views)"
   ]
  },
  {
   "cell_type": "code",
   "execution_count": null,
   "id": "bcdd4b17",
   "metadata": {},
   "outputs": [],
   "source": [
    "mv_2020_views = 0\n",
    "for item in mv_data['items']:\n",
    "    if '2020' in item['timestamp']:\n",
    "        mv_2020_views = mv_2020_views + item['views']\n",
    "print(\"total marvel views in 2020:\", mv_2020_views)\n",
    "\n",
    "mv_2019_views = 0\n",
    "for item in mv_data['items']:\n",
    "    if '2019' in item['timestamp']:\n",
    "        mv_2019_views = mv_2019_views + item['views']\n",
    "print(\"total marvel views in 2019:\", mv_2019_views)\n",
    "\n",
    "mv_2018_views = 0\n",
    "for item in mv_data['items']:\n",
    "    if '2018' in item['timestamp']:\n",
    "        mv_2018_views = mv_2018_views + item['views']\n",
    "print(\"total marvel views in 2018:\", mv_2018_views)\n",
    "\n",
    "mv_2017_views = 0\n",
    "for item in mv_data['items']:\n",
    "    if '2017' in item['timestamp']:\n",
    "        mv_2017_views = mv_2017_views + item['views']\n",
    "print(\"total marvel views in 2017:\", mv_2017_views)\n",
    "\n",
    "mv_2016_views = 0\n",
    "for item in mv_data['items']:\n",
    "    if '2016' in item['timestamp']:\n",
    "        mv_2016_views = mv_2016_views + item['views']\n",
    "print(\"total marvel views in 2016:\", mv_2016_views)\n",
    "\n",
    "mv_2015_views = 0\n",
    "for item in mv_data['items']:\n",
    "    if '2015' in item['timestamp']:\n",
    "        mv_2015_views = mv_2015_views + item['views']\n",
    "print(\"total marvel views in 2015:\", mv_2015_views)"
   ]
  },
  {
   "cell_type": "code",
   "execution_count": null,
   "id": "7be13abc",
   "metadata": {},
   "outputs": [],
   "source": [
    "dc_2021_views = 0\n",
    "for item in dc_data['items']:\n",
    "    if '2021' in item['timestamp']:\n",
    "        dc_2021_views = dc_2021_views + item['views']\n",
    "print(\"total dc views in 2021:\", dc_2021_views)\n",
    "\n",
    "dc_2020_views = 0\n",
    "for item in dc_data['items']:\n",
    "    if '2020' in item['timestamp']:\n",
    "        dc_2020_views = dc_2020_views + item['views']\n",
    "print(\"total dc views in 2020:\", dc_2020_views)\n",
    "\n",
    "dc_2019_views = 0\n",
    "for item in dc_data['items']:\n",
    "    if '2019' in item['timestamp']:\n",
    "        dc_2019_views = dc_2019_views + item['views']\n",
    "print(\"total dc views in 2019:\", dc_2019_views)\n",
    "\n",
    "dc_2018_views = 0\n",
    "for item in dc_data['items']:\n",
    "    if '2018' in item['timestamp']:\n",
    "        dc_2018_views = dc_2018_views + item['views']\n",
    "print(\"total dc views in 2018:\", dc_2018_views)\n",
    "\n",
    "dc_2017_views = 0\n",
    "for item in dc_data['items']:\n",
    "    if '2017' in item['timestamp']:\n",
    "        dc_2017_views = dc_2017_views + item['views']\n",
    "print(\"total dc views in 2017:\", dc_2017_views)\n",
    "\n",
    "dc_2016_views = 0\n",
    "for item in dc_data['items']:\n",
    "    if '2016' in item['timestamp']:\n",
    "        dc_2016_views = dc_2016_views + item['views']\n",
    "print(\"total dc views in 2016:\", dc_2016_views)\n",
    "\n",
    "dc_2015_views = 0\n",
    "for item in dc_data['items']:\n",
    "    if '2015' in item['timestamp']:\n",
    "        dc_2015_views = dc_2015_views + item['views']\n",
    "print(\"total dc views in 2015:\", dc_2015_views)"
   ]
  },
  {
   "cell_type": "code",
   "execution_count": null,
   "id": "064c2744",
   "metadata": {},
   "outputs": [],
   "source": []
  },
  {
   "cell_type": "markdown",
   "id": "a4567cb2",
   "metadata": {},
   "source": [
    "1.3.5 How about any days? How many?\n"
   ]
  },
  {
   "cell_type": "markdown",
   "id": "15d96d8e",
   "metadata": {},
   "source": [
    "---"
   ]
  },
  {
   "cell_type": "markdown",
   "id": "4afd248d",
   "metadata": {},
   "source": [
    "1.4 I've made this file available which includes list of more than 100 Wikipedia articles about alternative rock bands from Washington state that I built from this category in Wikipedia.[*] It's a .jsonl file. Download the file (click \"raw\" and then save the file onto your drive). Now read it in, and request monthly page view data from all of them. If you need some help with loading it in, I've included some sample code at the bottom of this page.\n"
   ]
  },
  {
   "cell_type": "code",
   "execution_count": 61,
   "id": "a134c401",
   "metadata": {},
   "outputs": [],
   "source": [
    "with open(\"list_of_washington_alternative_rocks_bands_wikipedia-2023-04-25.jsonl.txt\", 'r') as input_file:\n",
    "    input_data = input_file.readlines()"
   ]
  },
  {
   "cell_type": "code",
   "execution_count": 70,
   "id": "cd1773d2",
   "metadata": {},
   "outputs": [
    {
     "data": {
      "text/plain": [
       "list"
      ]
     },
     "execution_count": 70,
     "metadata": {},
     "output_type": "execute_result"
    }
   ],
   "source": [
    "type(input_data)"
   ]
  },
  {
   "cell_type": "code",
   "execution_count": 80,
   "id": "143542c4",
   "metadata": {
    "scrolled": false
   },
   "outputs": [],
   "source": [
    "#input_data"
   ]
  },
  {
   "cell_type": "code",
   "execution_count": 68,
   "id": "ad8e58e7",
   "metadata": {},
   "outputs": [
    {
     "ename": "TypeError",
     "evalue": "list indices must be integers or slices, not str",
     "output_type": "error",
     "traceback": [
      "\u001b[0;31m---------------------------------------------------------------------------\u001b[0m",
      "\u001b[0;31mTypeError\u001b[0m                                 Traceback (most recent call last)",
      "Cell \u001b[0;32mIn[68], line 1\u001b[0m\n\u001b[0;32m----> 1\u001b[0m bands \u001b[38;5;241m=\u001b[39m \u001b[43minput_data\u001b[49m\u001b[43m[\u001b[49m\u001b[38;5;124;43m\"\u001b[39;49m\u001b[38;5;124;43mwebsite\u001b[39;49m\u001b[38;5;124;43m\"\u001b[39;49m\u001b[43m]\u001b[49m\n\u001b[1;32m      3\u001b[0m \u001b[38;5;28;01mwith\u001b[39;00m \u001b[38;5;28mopen\u001b[39m(\u001b[38;5;124m'\u001b[39m\u001b[38;5;124mviews_by_day_langs.tsv\u001b[39m\u001b[38;5;124m'\u001b[39m, \u001b[38;5;124m'\u001b[39m\u001b[38;5;124mw\u001b[39m\u001b[38;5;124m'\u001b[39m) \u001b[38;5;28;01mas\u001b[39;00m output_file:\n\u001b[1;32m      4\u001b[0m     \u001b[38;5;28mprint\u001b[39m(\u001b[38;5;124m\"\u001b[39m\u001b[38;5;124mday\u001b[39m\u001b[38;5;130;01m\\t\u001b[39;00m\u001b[38;5;124mviews\u001b[39m\u001b[38;5;124m\"\u001b[39m, file \u001b[38;5;241m=\u001b[39m output_file)\n",
      "\u001b[0;31mTypeError\u001b[0m: list indices must be integers or slices, not str"
     ]
    }
   ],
   "source": [
    "bands = input_data[\"website\"]\n",
    "\n",
    "with open('views_by_day_langs.tsv', 'w') as output_file:\n",
    "    print(\"day\\tviews\", file = output_file)\n",
    "    for lang in langs:\n",
    "        for day in total_views_by_day:\n",
    "            print(f\"{lang}\\t{day}\\t{total_views_by_day[day]}\", file = output_file)"
   ]
  },
  {
   "cell_type": "code",
   "execution_count": null,
   "id": "ad506991",
   "metadata": {},
   "outputs": [],
   "source": []
  },
  {
   "cell_type": "code",
   "execution_count": null,
   "id": "72a1e275",
   "metadata": {},
   "outputs": [],
   "source": []
  },
  {
   "cell_type": "code",
   "execution_count": 69,
   "id": "06b76691",
   "metadata": {},
   "outputs": [
    {
     "ename": "TypeError",
     "evalue": "list indices must be integers or slices, not str",
     "output_type": "error",
     "traceback": [
      "\u001b[0;31m---------------------------------------------------------------------------\u001b[0m",
      "\u001b[0;31mTypeError\u001b[0m                                 Traceback (most recent call last)",
      "Cell \u001b[0;32mIn[69], line 1\u001b[0m\n\u001b[0;32m----> 1\u001b[0m bands \u001b[38;5;241m=\u001b[39m \u001b[43minput_data\u001b[49m\u001b[43m[\u001b[49m\u001b[38;5;124;43m\"\u001b[39;49m\u001b[38;5;124;43mwebsite\u001b[39;49m\u001b[38;5;124;43m\"\u001b[39;49m\u001b[43m]\u001b[49m\n",
      "\u001b[0;31mTypeError\u001b[0m: list indices must be integers or slices, not str"
     ]
    }
   ],
   "source": [
    "bands = input_data[\"website\"]\n"
   ]
  },
  {
   "cell_type": "code",
   "execution_count": null,
   "id": "50a6ee0d",
   "metadata": {},
   "outputs": [],
   "source": []
  },
  {
   "cell_type": "markdown",
   "id": "d15981e0",
   "metadata": {},
   "source": [
    "1.4.1 Once you've done this, sum up all of the page views from all of the pages and print out a TSV file with these total numbers.\n"
   ]
  },
  {
   "cell_type": "markdown",
   "id": "d15e856f",
   "metadata": {},
   "source": [
    "1.4.2 You know the routine by now! Now, make a time series graph of these numbers and include a link in your notebook.\n"
   ]
  },
  {
   "cell_type": "markdown",
   "id": "94227539",
   "metadata": {},
   "source": [
    "---"
   ]
  },
  {
   "cell_type": "markdown",
   "id": "d651b9d6",
   "metadata": {},
   "source": [
    "#2 Starting on your projects\n"
   ]
  },
  {
   "cell_type": "markdown",
   "id": "8e918fe6",
   "metadata": {},
   "source": [
    "In this section, you will take your first steps towards working with your project API. Many of these questions will not involve code, so just mark down your answers in cells in your notebook.\n",
    "\n",
    "One very useful trick is to convert cells into \"markdown\" mode. You can do in the menu with Cell→Cell Type→Markdown or you can just type m when the cell is selected but not being edited (just press Esc if you are editing to switch out of edit mode). Clicking y turns it back into code. Markdown is just normal text but if you want to do fancier stuff like links or formatting you can look at this Markdown Cheat Sheet.\n",
    "\n",
    "Feel free to document any findings you think might be useful as you continue to work on your project; you might thank yourself later!"
   ]
  },
  {
   "cell_type": "markdown",
   "id": "0939dbaa",
   "metadata": {},
   "source": [
    "---"
   ]
  },
  {
   "cell_type": "markdown",
   "id": "2427a7e3",
   "metadata": {},
   "source": [
    "2.1 Identify an API you will (or might!) want to use for your project.\n"
   ]
  },
  {
   "cell_type": "markdown",
   "id": "59caf3a0",
   "metadata": {},
   "source": [
    "Reddit - Pushshift API (https://pushshift.io/)"
   ]
  },
  {
   "cell_type": "markdown",
   "id": "c28acf6f",
   "metadata": {},
   "source": [
    "---"
   ]
  },
  {
   "cell_type": "markdown",
   "id": "c1321cfc",
   "metadata": {},
   "source": [
    "2.2 Find documentation for that API and include links in your notebook."
   ]
  },
  {
   "cell_type": "markdown",
   "id": "1074862f",
   "metadata": {},
   "source": [
    "Pushshift API documentation -  https://pushshift.io/api-parameters/"
   ]
  },
  {
   "cell_type": "markdown",
   "id": "5cb41519",
   "metadata": {},
   "source": [
    "Other resources - \n",
    "\n",
    "https://www.reddit.com/r/pushshift/\n",
    "\n",
    "https://github.com/pushshift/api\n",
    "\n",
    "https://github.com/mattpodolak/pmaw"
   ]
  },
  {
   "cell_type": "markdown",
   "id": "e9da1a25",
   "metadata": {},
   "source": [
    "---"
   ]
  },
  {
   "cell_type": "markdown",
   "id": "2f74bb1f",
   "metadata": {},
   "source": [
    "2.3 What are the API endpoints you plan to use? What are the parameters you will need to use at that endpoint?\n"
   ]
  },
  {
   "cell_type": "markdown",
   "id": "64a0c1c4",
   "metadata": {},
   "source": [
    "3 main endpoints:\n",
    "\n",
    "/reddit/comment/search\n",
    "\n",
    "/reddit/submission/search\n",
    "\n",
    "/reddit/subreddit/search\n"
   ]
  },
  {
   "cell_type": "markdown",
   "id": "089df50f",
   "metadata": {},
   "source": [
    "---"
   ]
  },
  {
   "cell_type": "markdown",
   "id": "57012ca1",
   "metadata": {},
   "source": [
    "2.4 Is there a Python module that exists that helps make contact with the API? (See if you can you find example code on how to use it).\n",
    "\n",
    "2.4.1 If so, download it, install it, and import it into your notebook.\n"
   ]
  },
  {
   "cell_type": "markdown",
   "id": "23e52547",
   "metadata": {},
   "source": [
    "Yes \n"
   ]
  },
  {
   "cell_type": "code",
   "execution_count": null,
   "id": "cd06b65f",
   "metadata": {
    "scrolled": false
   },
   "outputs": [],
   "source": [
    "from pmaw import PushshiftAPI\n",
    "api = PushshiftAPI()"
   ]
  },
  {
   "cell_type": "markdown",
   "id": "a698bfc8",
   "metadata": {},
   "source": [
    "** first use api directly, then try the module if necessary"
   ]
  },
  {
   "cell_type": "markdown",
   "id": "15a323f4",
   "metadata": {},
   "source": [
    "---"
   ]
  },
  {
   "cell_type": "markdown",
   "id": "676359e2",
   "metadata": {},
   "source": [
    "2.5 Does the API require authentication? Does it need to be approved?\n",
    "\n",
    "2.5.1 If so, sign up for a developer account and get your keys. (Do this early because it often takes time for these accounts to be approved.)\n",
    "\n",
    "IMPORTANT: If you have included any API keys in your notebook, make a copy of your notebook, delete the cell where you include the keys, before you upload the copy of the notebook. We'll show you some tricks for hiding this information going forward."
   ]
  },
  {
   "cell_type": "markdown",
   "id": "10d35574",
   "metadata": {},
   "source": [
    "No"
   ]
  },
  {
   "cell_type": "markdown",
   "id": "3e99696c",
   "metadata": {},
   "source": [
    "---"
   ]
  },
  {
   "cell_type": "markdown",
   "id": "299896bf",
   "metadata": {},
   "source": [
    "2.6 Does the API list rate limits? Does it make any requests about how you should use it?\n"
   ]
  },
  {
   "cell_type": "markdown",
   "id": "36c84a63",
   "metadata": {},
   "source": [
    "Pushshift rate limit =  600 requests per 600 seconds (6,000 items per minute)\n",
    "\n",
    "PMAW rate limit = 60 requests per minute \n",
    "\n",
    "(recommended value for interacting with the Pushshift API) \n",
    "\n",
    "\"Increasing this value above 60 will increase the number of rejected requests and will increase the burden on the Pushshift server. A maximum recommended value is 100 requests per minute.\""
   ]
  },
  {
   "cell_type": "markdown",
   "id": "6e126d15",
   "metadata": {},
   "source": [
    "---"
   ]
  },
  {
   "cell_type": "markdown",
   "id": "782aaff6",
   "metadata": {},
   "source": [
    "2.7 Make a single API call, either directly using requests or using the Python module you have used. It doesn't matter for what. The goal is that you can get something.\n"
   ]
  },
  {
   "cell_type": "code",
   "execution_count": null,
   "id": "204aafc8",
   "metadata": {},
   "outputs": [],
   "source": [
    "from pmaw import PushshiftAPI\n",
    "\n",
    "api = PushshiftAPI()\n",
    "comments = api.search_comments(subreddit = \"science\", limit = 4)\n",
    "comment_list = [comment for comment in comments]"
   ]
  },
  {
   "cell_type": "code",
   "execution_count": null,
   "id": "2db2b253",
   "metadata": {
    "scrolled": false
   },
   "outputs": [],
   "source": [
    "for comment in comment_list:\n",
    "    print(comment['body'])"
   ]
  },
  {
   "cell_type": "markdown",
   "id": "1438a5de",
   "metadata": {},
   "source": [
    "---"
   ]
  }
 ],
 "metadata": {
  "kernelspec": {
   "display_name": "Python 3 (ipykernel)",
   "language": "python",
   "name": "python3"
  },
  "language_info": {
   "codemirror_mode": {
    "name": "ipython",
    "version": 3
   },
   "file_extension": ".py",
   "mimetype": "text/x-python",
   "name": "python",
   "nbconvert_exporter": "python",
   "pygments_lexer": "ipython3",
   "version": "3.10.9"
  }
 },
 "nbformat": 4,
 "nbformat_minor": 5
}
