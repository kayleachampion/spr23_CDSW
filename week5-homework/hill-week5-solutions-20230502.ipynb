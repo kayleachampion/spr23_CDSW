{
 "cells": [
  {
   "cell_type": "code",
   "execution_count": 1,
   "id": "b3c51003",
   "metadata": {},
   "outputs": [],
   "source": [
    "import requests\n",
    "import json"
   ]
  },
  {
   "cell_type": "markdown",
   "id": "e6e2a028",
   "metadata": {},
   "source": [
    "## #1\n",
    "\n",
    "Identify a famous person who has been famous for at least a few years and that you have some personal interest in. Use the Wikimedia API to collect page view data from the English Wikipedia article on that person. Now use that data to generate a time-series visualization and include a link to it in your notebook."
   ]
  },
  {
   "cell_type": "code",
   "execution_count": 2,
   "id": "3735ace0",
   "metadata": {},
   "outputs": [],
   "source": [
    "def get_wikipedia_pageviews(page_title, language):\n",
    "    # /metrics/pageviews/per-article/{project}/{access}/{agent}/{article}/{granularity}/{start}/{end}\n",
    "    url = (\"https://wikimedia.org/api/rest_v1/metrics/pageviews/per-article/\" + \n",
    "           f\"{language}/all-access/user/{page_title}/daily/20010101/20230424\")\n",
    "\n",
    "    headers = {\n",
    "        'User-Agent': 'python data collection bot by makohill@uw.edu'\n",
    "    }\n",
    "\n",
    "    response = requests.get(url, headers=headers)\n",
    "\n",
    "    if not response.status_code == 200:\n",
    "        print(\"ERROR, request not OK\")\n",
    "    \n",
    "    data = response.json()\n",
    "    return data"
   ]
  },
  {
   "cell_type": "code",
   "execution_count": 3,
   "id": "f96cae48",
   "metadata": {},
   "outputs": [],
   "source": [
    "def clean_up_timestamp(day):\n",
    "    new_time_stamp = day[0:4] + \"-\" + day[4:6] + \"-\" + day[6:8]\n",
    "    return new_time_stamp"
   ]
  },
  {
   "cell_type": "code",
   "execution_count": 4,
   "id": "acc03237",
   "metadata": {},
   "outputs": [],
   "source": [
    "data = get_wikipedia_pageviews(\"Elinor Ostrom\", \"en.wikipedia.org\")"
   ]
  },
  {
   "cell_type": "code",
   "execution_count": 5,
   "id": "f4bb9893",
   "metadata": {},
   "outputs": [],
   "source": [
    "views_by_day = {}\n",
    "for day_dict in data['items']:\n",
    "    day = clean_up_timestamp(day_dict['timestamp'])\n",
    "    views_by_day[day] = day_dict['views']"
   ]
  },
  {
   "cell_type": "code",
   "execution_count": 6,
   "id": "5c9d8ffe",
   "metadata": {},
   "outputs": [],
   "source": [
    "with open('view_by_day_ostrom.tsv', 'w') as output_file:\n",
    "    print(\"day\\tviews\", file=output_file)\n",
    "    for day in views_by_day:\n",
    "        print(f\"{day}\\t{views_by_day[day]}\", file=output_file)"
   ]
  },
  {
   "cell_type": "markdown",
   "id": "3dd6e257",
   "metadata": {},
   "source": [
    "https://docs.google.com/spreadsheets/d/1pnuM9lkUq0Kh3D6RnuWIpDk9gI3TMt1kcfP6N5Y9Guk/edit?usp=sharing"
   ]
  },
  {
   "cell_type": "markdown",
   "id": "1166ad86",
   "metadata": {},
   "source": [
    "## #2\n",
    "Identify 2 other languages editions of Wikipedia that have articles on that person. Collect page view data on the article in other languages and create a single visualization that shows how the dynamics and similar and/or different. (Note: My approach involved creating a TSV file with multiple columns.)"
   ]
  },
  {
   "cell_type": "code",
   "execution_count": 7,
   "id": "01d7503f",
   "metadata": {},
   "outputs": [],
   "source": [
    "views_by_day_lang = {}\n",
    "for language in [\"en.wikipedia.org\", \"de.wikipedia.org\", \"fr.wikipedia.org\"]:\n",
    "    data = get_wikipedia_pageviews(\"Elinor Ostrom\", language)\n",
    "    \n",
    "    for day_dict in data['items']:\n",
    "        day = clean_up_timestamp(day_dict['timestamp'])\n",
    "        \n",
    "        if day in views_by_day_lang.keys():\n",
    "            views_by_day_lang[day][language] = day_dict['views']\n",
    "        else:\n",
    "            views_by_day_lang[day] = {language : day_dict['views']}"
   ]
  },
  {
   "cell_type": "code",
   "execution_count": 8,
   "id": "02c82013",
   "metadata": {},
   "outputs": [],
   "source": [
    "with open('ostrom_view_by_day_combo.tsv', 'w') as output_file:\n",
    "    print(\"day\\ten.wikipedia.org\\ten.wikipedia.org\\tfr.wikipedia.org\", file=output_file)\n",
    "    for day in views_by_day_lang:\n",
    "            print(f'{day}\\t{views_by_day_lang[day][\"en.wikipedia.org\"]}\\t{views_by_day_lang[day][\"de.wikipedia.org\"]}\\t{views_by_day_lang[day][\"fr.wikipedia.org\"]}', file=output_file)"
   ]
  },
  {
   "cell_type": "markdown",
   "id": "af3c2593",
   "metadata": {},
   "source": [
    "https://docs.google.com/spreadsheets/d/1pnuM9lkUq0Kh3D6RnuWIpDk9gI3TMt1kcfP6N5Y9Guk/edit#gid=1207896766"
   ]
  },
  {
   "cell_type": "markdown",
   "id": "7f4cfee2",
   "metadata": {},
   "source": [
    "## Collect page view data on the articles about Marvel Comics and DC Comics in English Wikipedia. (If you'd rather replace these examples with some other comparison of popular rivals, that's just as good!)"
   ]
  },
  {
   "cell_type": "code",
   "execution_count": 9,
   "id": "cad373d2",
   "metadata": {},
   "outputs": [],
   "source": [
    "views_by_day_comics = {}\n",
    "for page_title in [\"Marvel_Comics\", \"DC_Comics\"]:\n",
    "    data = get_wikipedia_pageviews(page_title, \"en.wikipedia.org\")\n",
    "    \n",
    "    for day_dict in data['items']:\n",
    "        day = clean_up_timestamp(day_dict['timestamp'])\n",
    "        \n",
    "        if day in views_by_day_comics.keys():\n",
    "            views_by_day_comics[day][page_title] = day_dict['views']\n",
    "        else:\n",
    "            views_by_day_comics[day] = { page_title : day_dict['views']}"
   ]
  },
  {
   "cell_type": "markdown",
   "id": "5ce89bbc",
   "metadata": {},
   "source": [
    "### Which has more total page views in 2022?"
   ]
  },
  {
   "cell_type": "code",
   "execution_count": 10,
   "id": "90863f28",
   "metadata": {},
   "outputs": [
    {
     "data": {
      "text/plain": [
       "{'Marvel_Comics': 1804195, 'DC_Comics': 1793582}"
      ]
     },
     "execution_count": 10,
     "metadata": {},
     "output_type": "execute_result"
    }
   ],
   "source": [
    "counter = {}\n",
    "for day in views_by_day_comics.keys():\n",
    "    # skip if it's not 2022\n",
    "    if day[0:4] != \"2022\":\n",
    "        continue\n",
    "        \n",
    "    for page in views_by_day_comics[day].keys():\n",
    "        if page in counter.keys():\n",
    "            counter[page] += views_by_day_comics[day][page]\n",
    "        else:\n",
    "            counter[page] = views_by_day_comics[day][page]\n",
    "counter"
   ]
  },
  {
   "cell_type": "markdown",
   "id": "ab2f4c36",
   "metadata": {},
   "source": [
    "### Can you draw a visualization in a spreadsheet that shows this? (Again, provide a link.)"
   ]
  },
  {
   "cell_type": "code",
   "execution_count": 11,
   "id": "d8f07f33",
   "metadata": {},
   "outputs": [],
   "source": [
    "with open('comics_view_by_day.tsv', 'w') as output_file:\n",
    "    print(\"day\\marvel\\tdc\", file=output_file)\n",
    "    for day in views_by_day_comics:\n",
    "            print(f'{day}\\t{views_by_day_comics[day][\"Marvel_Comics\"]}\\t{views_by_day_comics[day][\"DC_Comics\"]}', file=output_file)"
   ]
  },
  {
   "cell_type": "markdown",
   "id": "85763583",
   "metadata": {},
   "source": [
    "https://docs.google.com/spreadsheets/d/1pnuM9lkUq0Kh3D6RnuWIpDk9gI3TMt1kcfP6N5Y9Guk/edit#gid=359752784"
   ]
  },
  {
   "cell_type": "markdown",
   "id": "e010075a",
   "metadata": {},
   "source": [
    "### Were there any years when 2022's more popular page was instead the less popular of the two? How many and which ones?"
   ]
  },
  {
   "cell_type": "code",
   "execution_count": 12,
   "id": "33784f53",
   "metadata": {},
   "outputs": [
    {
     "data": {
      "text/plain": [
       "{'2015': {'Marvel_Comics': 901007, 'DC_Comics': 824561},\n",
       " '2016': {'Marvel_Comics': 1982087, 'DC_Comics': 2003131},\n",
       " '2017': {'Marvel_Comics': 1670161, 'DC_Comics': 1623985},\n",
       " '2018': {'Marvel_Comics': 2707650, 'DC_Comics': 1810590},\n",
       " '2019': {'Marvel_Comics': 2099570, 'DC_Comics': 1696735},\n",
       " '2020': {'Marvel_Comics': 1227661, 'DC_Comics': 1299000},\n",
       " '2021': {'Marvel_Comics': 1878513, 'DC_Comics': 1528781},\n",
       " '2022': {'Marvel_Comics': 1804195, 'DC_Comics': 1793582},\n",
       " '2023': {'Marvel_Comics': 376331, 'DC_Comics': 486125}}"
      ]
     },
     "execution_count": 12,
     "metadata": {},
     "output_type": "execute_result"
    }
   ],
   "source": [
    "counter_by_year = {}\n",
    "\n",
    "for day in views_by_day_comics.keys():\n",
    "    year = day[0:4]\n",
    "    \n",
    "    if year not in counter_by_year.keys():\n",
    "        counter_by_year[year] = { \"Marvel_Comics\" : 0,\n",
    "                                  \"DC_Comics\" : 0}\n",
    "        \n",
    "    for page in views_by_day_comics[day].keys():\n",
    "        counter_by_year[year][page] += views_by_day_comics[day][page]\n",
    "        \n",
    "counter_by_year"
   ]
  },
  {
   "cell_type": "code",
   "execution_count": 13,
   "id": "1bb617ae",
   "metadata": {},
   "outputs": [
    {
     "name": "stdout",
     "output_type": "stream",
     "text": [
      "2015: Marvel was more\n",
      "2016: DC was more\n",
      "2017: Marvel was more\n",
      "2018: Marvel was more\n",
      "2019: Marvel was more\n",
      "2020: DC was more\n",
      "2021: Marvel was more\n",
      "2022: Marvel was more\n",
      "2023: DC was more\n"
     ]
    }
   ],
   "source": [
    "for year in counter_by_year.keys():\n",
    "    if counter_by_year[year][\"Marvel_Comics\"] > counter_by_year[year][\"DC_Comics\"]:\n",
    "        print(f\"{year}: Marvel was more\")\n",
    "    elif counter_by_year[year][\"Marvel_Comics\"] < counter_by_year[year][\"DC_Comics\"]:\n",
    "        print(f\"{year}: DC was more\")\n",
    "    else:\n",
    "        print(f\"{year}: they were equal!\")"
   ]
  },
  {
   "cell_type": "markdown",
   "id": "2b7f394c",
   "metadata": {},
   "source": [
    "### Were there any months was this reversal of relative popularity occurred? How many and which ones?"
   ]
  },
  {
   "cell_type": "code",
   "execution_count": 14,
   "id": "d957569b",
   "metadata": {},
   "outputs": [
    {
     "name": "stdout",
     "output_type": "stream",
     "text": [
      "2015-07: Marvel was more\n",
      "2015-08: Marvel was more\n",
      "2015-09: Marvel was more\n",
      "2015-10: DC was more\n",
      "2015-11: Marvel was more\n",
      "2015-12: Marvel was more\n",
      "2016-01: Marvel was more\n",
      "2016-02: Marvel was more\n",
      "2016-03: DC was more\n",
      "2016-04: DC was more\n",
      "2016-05: Marvel was more\n",
      "2016-06: Marvel was more\n",
      "2016-07: DC was more\n",
      "2016-08: DC was more\n",
      "2016-09: DC was more\n",
      "2016-10: Marvel was more\n",
      "2016-11: Marvel was more\n",
      "2016-12: DC was more\n",
      "2017-01: Marvel was more\n",
      "2017-02: Marvel was more\n",
      "2017-03: Marvel was more\n",
      "2017-04: Marvel was more\n",
      "2017-05: Marvel was more\n",
      "2017-06: DC was more\n",
      "2017-07: Marvel was more\n",
      "2017-08: Marvel was more\n",
      "2017-09: DC was more\n",
      "2017-10: DC was more\n",
      "2017-11: DC was more\n",
      "2017-12: Marvel was more\n",
      "2018-01: Marvel was more\n",
      "2018-02: Marvel was more\n",
      "2018-03: Marvel was more\n",
      "2018-04: Marvel was more\n",
      "2018-05: Marvel was more\n",
      "2018-06: Marvel was more\n",
      "2018-07: Marvel was more\n",
      "2018-08: Marvel was more\n",
      "2018-09: Marvel was more\n",
      "2018-10: Marvel was more\n",
      "2018-11: Marvel was more\n",
      "2018-12: Marvel was more\n",
      "2019-01: Marvel was more\n",
      "2019-02: Marvel was more\n",
      "2019-03: Marvel was more\n",
      "2019-04: Marvel was more\n",
      "2019-05: Marvel was more\n",
      "2019-06: Marvel was more\n",
      "2019-07: Marvel was more\n",
      "2019-08: Marvel was more\n",
      "2019-09: Marvel was more\n",
      "2019-10: DC was more\n",
      "2019-11: DC was more\n",
      "2019-12: DC was more\n",
      "2020-01: DC was more\n",
      "2020-02: DC was more\n",
      "2020-03: DC was more\n",
      "2020-04: Marvel was more\n",
      "2020-05: DC was more\n",
      "2020-06: DC was more\n",
      "2020-07: Marvel was more\n",
      "2020-08: DC was more\n",
      "2020-09: Marvel was more\n",
      "2020-10: Marvel was more\n",
      "2020-11: DC was more\n",
      "2020-12: DC was more\n",
      "2021-01: DC was more\n",
      "2021-02: Marvel was more\n",
      "2021-03: DC was more\n",
      "2021-04: DC was more\n",
      "2021-05: DC was more\n",
      "2021-06: DC was more\n",
      "2021-07: Marvel was more\n",
      "2021-08: DC was more\n",
      "2021-09: Marvel was more\n",
      "2021-10: Marvel was more\n",
      "2021-11: Marvel was more\n",
      "2021-12: Marvel was more\n",
      "2022-01: Marvel was more\n",
      "2022-02: Marvel was more\n",
      "2022-03: DC was more\n",
      "2022-04: DC was more\n",
      "2022-05: Marvel was more\n",
      "2022-06: Marvel was more\n",
      "2022-07: Marvel was more\n",
      "2022-08: DC was more\n",
      "2022-09: Marvel was more\n",
      "2022-10: DC was more\n",
      "2022-11: DC was more\n",
      "2022-12: DC was more\n",
      "2023-01: DC was more\n",
      "2023-02: DC was more\n",
      "2023-03: DC was more\n",
      "2023-04: DC was more\n"
     ]
    }
   ],
   "source": [
    "# this code is identical to the code above except two things:\n",
    "# (a) i changed every instance of year to month\n",
    "# (b) I canged day[0:4] to day[0:7] so that it selected the month instead of the year!\n",
    "counter_by_month = {}\n",
    "\n",
    "for day in views_by_day_comics.keys():\n",
    "    month = day[0:7]\n",
    "    \n",
    "    if month not in counter_by_month.keys():\n",
    "        counter_by_month[month] = { \"Marvel_Comics\" : 0,\n",
    "                                  \"DC_Comics\" : 0}\n",
    "        \n",
    "    for page in views_by_day_comics[day].keys():\n",
    "        counter_by_month[month][page] += views_by_day_comics[day][page]\n",
    "        \n",
    "for month in counter_by_month.keys():\n",
    "    if counter_by_month[month][\"Marvel_Comics\"] > counter_by_month[month][\"DC_Comics\"]:\n",
    "        print(f\"{month}: Marvel was more\")\n",
    "    elif counter_by_month[month][\"Marvel_Comics\"] < counter_by_month[month][\"DC_Comics\"]:\n",
    "        print(f\"{month}: DC was more\")\n",
    "    else:\n",
    "        print(f\"{month}: they were equal!\")"
   ]
  },
  {
   "cell_type": "markdown",
   "id": "57e4deb0",
   "metadata": {},
   "source": [
    "### How about any days? How many?"
   ]
  },
  {
   "cell_type": "code",
   "execution_count": 15,
   "id": "5b9af1ec",
   "metadata": {},
   "outputs": [
    {
     "data": {
      "text/plain": [
       "{'Marvel_Comics': 1756, 'DC_Comics': 1096, 'TIE': 3}"
      ]
     },
     "execution_count": 15,
     "metadata": {},
     "output_type": "execute_result"
    }
   ],
   "source": [
    "counter = {\"Marvel_Comics\" : 0, \"DC_Comics\" : 0, \"TIE\" : 0}\n",
    "\n",
    "for day in views_by_day_comics.keys():\n",
    "\n",
    "    if views_by_day_comics[day][\"Marvel_Comics\"] > views_by_day_comics[day][\"DC_Comics\"]:\n",
    "        counter[\"Marvel_Comics\"] += 1\n",
    "    elif views_by_day_comics[day][\"Marvel_Comics\"] < views_by_day_comics[day][\"DC_Comics\"]:\n",
    "        counter[\"DC_Comics\"] += 1\n",
    "    else:\n",
    "        counter[\"TIE\"] += 1\n",
    "\n",
    "counter"
   ]
  },
  {
   "cell_type": "markdown",
   "id": "aa7bde0d",
   "metadata": {},
   "source": [
    "## #3\n",
    "\n",
    "I've made this file available which includes list of more than 100 Wikipedia articles about alternative rock bands from Washington state that I built from this category in Wikipedia.[*] It's a .jsonl file. Download the file (click \"raw\" and then save the file onto your drive). Now read it in, and request monthly page view data from all of them. If you need some help with loading it in, I've included some sample code at the bottom of this page.\n",
    "### Once you've done this, sum up all of the page views from all of the pages and print out a TSV file with these total numbers."
   ]
  },
  {
   "cell_type": "code",
   "execution_count": 16,
   "id": "8f5072c2",
   "metadata": {},
   "outputs": [],
   "source": [
    "list_of_page_titles = []\n",
    "with open(\"list_of_washington_alternative_rocks_bands_wikipedia-2023-04-25.jsonl\") as input_file:\n",
    "    for line in input_file.readlines():\n",
    "        data = json.loads(line)\n",
    "        list_of_page_titles.append(data[\"page_title\"])"
   ]
  },
  {
   "cell_type": "code",
   "execution_count": 17,
   "id": "59dd2dfc",
   "metadata": {},
   "outputs": [],
   "source": [
    "total_views_by_day = {}\n",
    "for page_title in list_of_page_titles:\n",
    "    data = get_wikipedia_pageviews(page_title, \"en.wikipedia.org\")\n",
    "    \n",
    "    for day_dict in data['items']:\n",
    "        day = clean_up_timestamp(day_dict['timestamp'])\n",
    "        if day in total_views_by_day.keys():\n",
    "            total_views_by_day[day] += day_dict['views']\n",
    "        else:\n",
    "            total_views_by_day[day] = day_dict['views']"
   ]
  },
  {
   "cell_type": "markdown",
   "id": "fb5dd0fd",
   "metadata": {},
   "source": [
    "### You know the routine by now! Now, make a time series graph of these numbers and include a link in your notebook."
   ]
  },
  {
   "cell_type": "code",
   "execution_count": 18,
   "id": "972a39b7",
   "metadata": {},
   "outputs": [],
   "source": [
    "with open('bands_view_by_day.tsv', 'w') as output_file:\n",
    "    print(\"day\\total_views\", file=output_file)\n",
    "    for day in views_by_day_comics:\n",
    "            print(f'{day}\\t{total_views_by_day[day]}', file=output_file)"
   ]
  },
  {
   "cell_type": "markdown",
   "id": "d6c31baa",
   "metadata": {},
   "source": [
    "https://docs.google.com/spreadsheets/d/1pnuM9lkUq0Kh3D6RnuWIpDk9gI3TMt1kcfP6N5Y9Guk/edit#gid=37465393"
   ]
  }
 ],
 "metadata": {
  "kernelspec": {
   "display_name": "Python 3 (ipykernel)",
   "language": "python",
   "name": "python3"
  },
  "language_info": {
   "codemirror_mode": {
    "name": "ipython",
    "version": 3
   },
   "file_extension": ".py",
   "mimetype": "text/x-python",
   "name": "python",
   "nbconvert_exporter": "python",
   "pygments_lexer": "ipython3",
   "version": "3.11.2"
  }
 },
 "nbformat": 4,
 "nbformat_minor": 5
}
