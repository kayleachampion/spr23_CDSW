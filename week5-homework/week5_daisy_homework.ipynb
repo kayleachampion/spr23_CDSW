{
 "cells": [
  {
   "cell_type": "code",
   "execution_count": null,
   "id": "528bbe20",
   "metadata": {},
   "outputs": [],
   "source": [
    "#1 Wikipedia Page View API"
   ]
  },
  {
   "cell_type": "code",
   "execution_count": 9,
   "id": "aa58e384",
   "metadata": {},
   "outputs": [],
   "source": [
    "import requests\n",
    "import matplotlib.pyplot as plt\n",
    "\n",
    "endpoint = \"https://en.wikipedia.org/w/api.php\"\n",
    "\n",
    "person_of_interest = \"Ali Wong\"\n",
    "\n",
    "params = {\n",
    "    \"action\": \"query\",\n",
    "    \"titles\": person_of_interest,\n",
    "    \"prop\": \"pageviews\",\n",
    "    \"format\": \"json\",\n",
    "    \"pvipdays\": 30 \n",
    "}\n",
    "\n",
    "response = requests.get(endpoint, params=params).json()\n",
    "\n",
    "\n",
    "pages = response[\"query\"][\"pages\"]\n",
    "page_id = next(iter(pages))\n",
    "pageviews = pages[page_id][\"pageviews\"]\n",
    "\n",
    "import csv\n",
    "\n",
    "with open(\"pageviews.tsv\", \"w\", newline=\"\") as f:\n",
    "    writer = csv.writer(f, delimiter=\"\\t\")\n",
    "    writer.writerow([\"date\",\"pageviews\"])\n",
    "    for date,views in pageviews.items():\n",
    "        writer.writerow([date, views])\n",
    "        \n",
    "#https://docs.google.com/spreadsheets/d/1vFAWarbQvtMHjVc1ojObudQLy8QnLU-Nh5UvHNHuXWo/edit#gid=2069790701"
   ]
  },
  {
   "cell_type": "code",
   "execution_count": 49,
   "id": "b4b75226",
   "metadata": {},
   "outputs": [],
   "source": [
    "#2\n",
    "import requests\n",
    "\n",
    "endpoint = \"https://en.wikipedia.org/w/api.php\"\n",
    "\n",
    "person_of_interest = \"Ali Wong\"\n",
    "\n",
    "\n",
    "en_params = {\n",
    "    \"action\": \"query\",\n",
    "    \"titles\": person_of_interest,\n",
    "    \"prop\": \"pageviews\",\n",
    "    \"format\": \"json\",\n",
    "    \"pvipdays\": 30 \n",
    "}\n",
    "\n",
    "\n",
    "en_response = requests.get(endpoint, params=en_params).json()\n",
    "\n",
    "en_pages = en_response[\"query\"][\"pages\"]\n",
    "en_page_id = next(iter(en_pages))\n",
    "en_pageviews = en_pages[en_page_id][\"pageviews\"]\n",
    "\n",
    "endpoint = \"https://fr.wikipedia.org/w/api.php\"\n",
    "\n",
    "fr_params = {\n",
    "    \"action\": \"query\",\n",
    "    \"titles\": person_of_interest,\n",
    "    \"prop\": \"pageviews\",\n",
    "    \"format\": \"json\",\n",
    "    \"pvipdays\": 30 \n",
    "}\n",
    "\n",
    "fr_response = requests.get(endpoint, params=zh_params).json()\n",
    "\n",
    "fr_pages = fr_response[\"query\"][\"pages\"]\n",
    "fr_page_id = next(iter(fr_pages))\n",
    "fr_pageviews = fr_pages[fr_page_id][\"pageviews\"]\n",
    "\n",
    "endpoint = \"https://es.wikipedia.org/w/api.php\"\n",
    "\n",
    "es_params = {\n",
    "    \"action\": \"query\",\n",
    "    \"titles\": person_of_interest,\n",
    "    \"prop\": \"pageviews\",\n",
    "    \"format\": \"json\",\n",
    "    \"pvipdays\": 30, \n",
    "}\n",
    "\n",
    "\n",
    "es_response = requests.get(endpoint, params=es_params).json()\n",
    "\n",
    "es_pages = es_response[\"query\"][\"pages\"]\n",
    "es_page_id = next(iter(es_pages))\n",
    "es_pageviews = es_pages[es_page_id][\"pageviews\"]\n",
    "\n",
    "import csv\n",
    "\n",
    "with open(\"pageviews_lang.tsv\", \"w\", newline=\"\") as f:\n",
    "    writer = csv.writer(f, delimiter=\"\\t\")\n",
    "    writer.writerow([\"date\",\"English\", \"Franch\", \"Spanish\"])\n",
    "    for date in en_pageviews.keys():\n",
    "        writer.writerow([date, en_pageviews[date], fr_pageviews[date], es_pageviews[date]])\n",
    "        \n",
    "##https://docs.google.com/spreadsheets/d/1Dni9YmGBnnchwzvTGzk9Kps4bUydJYXPikdKs1bzaKY/edit#gid=247323382"
   ]
  },
  {
   "cell_type": "code",
   "execution_count": 57,
   "id": "f4a21d97",
   "metadata": {},
   "outputs": [
    {
     "name": "stdout",
     "output_type": "stream",
     "text": [
      "{'20966': {'pageid': 20966, 'ns': 0, 'title': 'Marvel Comics', 'pageviews': {'2023-02-28': 3534, '2023-03-01': 3269, '2023-03-02': 3337, '2023-03-03': 3290, '2023-03-04': 3133, '2023-03-05': 3156, '2023-03-06': 2950, '2023-03-07': 2964, '2023-03-08': 3143, '2023-03-09': 2971, '2023-03-10': 2846, '2023-03-11': 2945, '2023-03-12': 3290, '2023-03-13': 2959, '2023-03-14': 2809, '2023-03-15': 2742, '2023-03-16': 2745, '2023-03-17': 2625, '2023-03-18': 3002, '2023-03-19': 3013, '2023-03-20': 3137, '2023-03-21': 2815, '2023-03-22': 2734, '2023-03-23': 2585, '2023-03-24': 2640, '2023-03-25': 2637, '2023-03-26': 2774, '2023-03-27': 2525, '2023-03-28': 2467, '2023-03-29': 3356, '2023-03-30': 3525, '2023-03-31': 2928, '2023-04-01': 2720, '2023-04-02': 2822, '2023-04-03': 2954, '2023-04-04': 2958, '2023-04-05': 2856, '2023-04-06': 2635, '2023-04-07': 2770, '2023-04-08': 2845, '2023-04-09': 2993, '2023-04-10': 3011, '2023-04-11': 3142, '2023-04-12': 3079, '2023-04-13': 2643, '2023-04-14': 2777, '2023-04-15': 2622, '2023-04-16': 2848, '2023-04-17': 2779, '2023-04-18': 3030, '2023-04-19': 2941, '2023-04-20': 2705, '2023-04-21': 2631, '2023-04-22': 2786, '2023-04-23': 3043, '2023-04-24': 2767, '2023-04-25': 2777, '2023-04-26': 2787, '2023-04-27': 2663, '2023-04-28': 2670}}}\n",
      "{'9105': {'pageid': 9105, 'ns': 0, 'title': 'DC Comics', 'pageviews': {'2023-02-28': 3756, '2023-03-01': 3748, '2023-03-02': 3799, '2023-03-03': 3714, '2023-03-04': 3983, '2023-03-05': 3916, '2023-03-06': 3775, '2023-03-07': 3936, '2023-03-08': 4532, '2023-03-09': 4432, '2023-03-10': 4241, '2023-03-11': 4378, '2023-03-12': 4297, '2023-03-13': 4005, '2023-03-14': 4009, '2023-03-15': 4201, '2023-03-16': 4454, '2023-03-17': 4742, '2023-03-18': 5378, '2023-03-19': 5094, '2023-03-20': 4769, '2023-03-21': 4765, '2023-03-22': 4465, '2023-03-23': 4010, '2023-03-24': 3837, '2023-03-25': 4154, '2023-03-26': 4527, '2023-03-27': 4053, '2023-03-28': 3630, '2023-03-29': 3854, '2023-03-30': 3967, '2023-03-31': 3734, '2023-04-01': 4247, '2023-04-02': 4045, '2023-04-03': 4991, '2023-04-04': 5801, '2023-04-05': 4027, '2023-04-06': 3912, '2023-04-07': 4703, '2023-04-08': 4126, '2023-04-09': 4057, '2023-04-10': 3996, '2023-04-11': 3867, '2023-04-12': 3774, '2023-04-13': 3701, '2023-04-14': 3505, '2023-04-15': 3687, '2023-04-16': 3658, '2023-04-17': 3359, '2023-04-18': 4077, '2023-04-19': 3685, '2023-04-20': 4033, '2023-04-21': 3767, '2023-04-22': 3889, '2023-04-23': 3846, '2023-04-24': 4317, '2023-04-25': 4096, '2023-04-26': 4329, '2023-04-27': 3992, '2023-04-28': 4258}}}\n",
      "DC Comics has more total page views in 2022.\n"
     ]
    }
   ],
   "source": [
    "#3\n",
    "import requests\n",
    "\n",
    "endpoint = \"https://en.wikipedia.org/w/api.php\"\n",
    "\n",
    "marvel_params = {\n",
    "    \"action\": \"query\",\n",
    "    \"titles\": \"Marvel_Comics\",\n",
    "    \"prop\": \"pageviews\",\n",
    "    \"format\": \"json\",\n",
    "    \"granularity\":\"yearly\"\n",
    "}\n",
    "\n",
    "marvel_response = requests.get(endpoint, params=marvel_params).json()\n",
    "\n",
    "print(marvel_response[\"query\"][\"pages\"])\n",
    "\n",
    "dc_params = {\n",
    "    \"action\": \"query\",\n",
    "    \"titles\": \"DC_Comics\",\n",
    "    \"prop\": \"pageviews\",\n",
    "    \"format\": \"json\",\n",
    "    \"timestamp\": 2022010100,\n",
    "}\n",
    "\n",
    "dc_response = requests.get(endpoint, params=dc_params).json()\n",
    "\n",
    "print(dc_response[\"query\"][\"pages\"])\n",
    "\n",
    "if marvel_pageviews > dc_pageviews:\n",
    "    print(\"Marvel Comics has more total page views in 2022.\")\n",
    "else:\n",
    "    print(\"DC Comics has more total page views in 2022.\")\n"
   ]
  },
  {
   "cell_type": "code",
   "execution_count": 62,
   "id": "5f284fcd",
   "metadata": {},
   "outputs": [],
   "source": [
    "#3\n",
    "import requests\n",
    "import json"
   ]
  },
  {
   "cell_type": "code",
   "execution_count": 71,
   "id": "55c38574",
   "metadata": {},
   "outputs": [
    {
     "name": "stdout",
     "output_type": "stream",
     "text": [
      "1804195\n",
      "{1: 225335, 2: 124596, 3: 124650, 4: 151955, 5: 283747, 6: 147209, 7: 154890, 8: 144994, 9: 120988, 10: 112582, 11: 114477, 12: 98772}\n"
     ]
    }
   ],
   "source": [
    "marvel_data_monthly = get_wikipedia_pageviews(\"Marvel Comics\", \"monthly\", 2022010100, 2022123100)\n",
    "marvel_total_views = 0\n",
    "marvel_monthly_dict = dict()\n",
    "month = 1\n",
    "for item in marvel_data_monthly[\"items\"]:\n",
    "    marvel_total_views += item[\"views\"]\n",
    "    marvel_monthly_dict[month] = item[\"views\"]\n",
    "    month += 1\n",
    "print(marvel_total_views)\n",
    "print(marvel_monthly_dict)"
   ]
  },
  {
   "cell_type": "code",
   "execution_count": 72,
   "id": "c3312660",
   "metadata": {},
   "outputs": [
    {
     "name": "stdout",
     "output_type": "stream",
     "text": [
      "1793582\n",
      "{1: 149880, 2: 118424, 3: 219386, 4: 161555, 5: 141171, 6: 134633, 7: 130218, 8: 160793, 9: 119673, 10: 175246, 11: 147481, 12: 135122}\n"
     ]
    }
   ],
   "source": [
    "dc_data_monthly = get_wikipedia_pageviews(\"DC Comics\", \"monthly\", 2022010100, 2022123100)\n",
    "dc_total_views = 0\n",
    "dc_monthly_dict = dict()\n",
    "month = 1\n",
    "for item in dc_data_monthly[\"items\"]:\n",
    "    dc_total_views += item[\"views\"]\n",
    "    dc_monthly_dict[month] = item[\"views\"]\n",
    "    month += 1\n",
    "print(dc_total_views)\n",
    "print(dc_monthly_dict)\n"
   ]
  },
  {
   "cell_type": "code",
   "execution_count": null,
   "id": "85996c0e",
   "metadata": {},
   "outputs": [],
   "source": [
    "# Marvel has more views in 2022\n",
    "# In January,February,May,June,July,Septembe, Marvel has more views"
   ]
  },
  {
   "cell_type": "code",
   "execution_count": 73,
   "id": "4c05a904",
   "metadata": {},
   "outputs": [],
   "source": [
    "import csv\n",
    "\n",
    "with open(\"comics_2022.tsv\", \"w\", newline=\"\") as f:\n",
    "    writer = csv.writer(f, delimiter=\"\\t\")\n",
    "    writer.writerow([\"month\", \"marvel_views\", \"dc_views\"])\n",
    "    for month in dc_monthly_dict.keys():\n",
    "        writer.writerow([month, marvel_monthly_dict[month], dc_monthly_dict[month]])\n",
    "        \n",
    "#https://docs.google.com/spreadsheets/d/1Rr1BotsVZpd2hcr83jZlSwOXogTYUI__kiTrpRp-OQs/edit#gid=210254555"
   ]
  },
  {
   "cell_type": "code",
   "execution_count": 75,
   "id": "538fb97e",
   "metadata": {},
   "outputs": [
    {
     "name": "stdout",
     "output_type": "stream",
     "text": [
      "{2015: 1951105, 2016: 1475637, 2017: 1661495, 2018: 2492317, 2019: 1877167, 2020: 1130415, 2021: 1639843, 2022: 1829616}\n"
     ]
    }
   ],
   "source": [
    "marvel_data_monthly = get_wikipedia_pageviews(\"Marvel Comics\", \"monthly\", 2015010100, 2022123100)\n",
    "marvel_total_views = 0\n",
    "marvel_yearly_dict = dict()\n",
    "month = 1\n",
    "year = 2015\n",
    "\n",
    "for item in marvel_data_monthly[\"items\"]:\n",
    "    marvel_total_views += item[\"views\"]\n",
    "    marvel_monthly_dict[month] = item[\"views\"]\n",
    "    month += 1\n",
    "    \n",
    "    if month == 12:\n",
    "        marvel_yearly_dict[year] = marvel_total_views\n",
    "        marvel_total_views = 0\n",
    "        month = 1\n",
    "        year += 1\n",
    "        \n",
    "print(marvel_yearly_dict)\n",
    "\n"
   ]
  },
  {
   "cell_type": "code",
   "execution_count": 78,
   "id": "3cead47c",
   "metadata": {},
   "outputs": [
    {
     "name": "stdout",
     "output_type": "stream",
     "text": [
      "{2015: 1826382, 2016: 1473011, 2017: 1571103, 2018: 1659945, 2019: 1533759, 2020: 1193802, 2021: 1402345, 2022: 1637415}\n"
     ]
    }
   ],
   "source": [
    "dc_data_monthly = get_wikipedia_pageviews(\"DC Comics\", \"monthly\", 2015010100, 2022123100)\n",
    "dc_total_views = 0\n",
    "dc_yearly_dict = dict()\n",
    "month = 1\n",
    "year = 2015\n",
    "\n",
    "for item in dc_data_monthly[\"items\"]:\n",
    "    dc_total_views += item[\"views\"]\n",
    "    dc_monthly_dict[month] = item[\"views\"]\n",
    "    month += 1\n",
    "    \n",
    "    if month == 12:\n",
    "        dc_yearly_dict[year] = dc_total_views\n",
    "        dc_total_views = 0\n",
    "        month = 1\n",
    "        year += 1\n",
    "        \n",
    "print(dc_yearly_dict)"
   ]
  },
  {
   "cell_type": "code",
   "execution_count": 87,
   "id": "07dfe8e5",
   "metadata": {},
   "outputs": [
    {
     "name": "stdout",
     "output_type": "stream",
     "text": [
      "{'2015070100': 173888, '2015080100': 141866, '2015090100': 134422, '2015100100': 119671, '2015110100': 119824, '2015120100': 134890, '2016010100': 140657, '2016020100': 154289, '2016030100': 258641, '2016040100': 222586, '2016050100': 225648, '2016060100': 132335, '2016070100': 146538, '2016080100': 213947, '2016090100': 117181, '2016100100': 133793, '2016110100': 131821, '2016120100': 125695, '2017010100': 121469, '2017020100': 108104, '2017030100': 129403, '2017040100': 112725, '2017050100': 129753, '2017060100': 190203, '2017070100': 152912, '2017080100': 107945, '2017090100': 95306, '2017100100': 112323, '2017110100': 207217, '2017120100': 156625, '2018010100': 121658, '2018020100': 139205, '2018030100': 157956, '2018040100': 169040, '2018050100': 238978, '2018060100': 123313, '2018070100': 136808, '2018080100': 128912, '2018090100': 114132, '2018100100': 119194, '2018110100': 175371, '2018120100': 186023, '2019010100': 163770, '2019020100': 104404, '2019030100': 158405, '2019040100': 231232, '2019050100': 200900, '2019060100': 106794, '2019070100': 113763, '2019080100': 111701, '2019090100': 107525, '2019100100': 182990, '2019110100': 112119, '2019120100': 103132, '2020010100': 105198, '2020020100': 110555, '2020030100': 97011, '2020040100': 121894, '2020050100': 121867, '2020060100': 101127, '2020070100': 89131, '2020080100': 121286, '2020090100': 94153, '2020100100': 99326, '2020110100': 106160, '2020120100': 131292, '2021010100': 115824, '2021020100': 91453, '2021030100': 177318, '2021040100': 137184, '2021050100': 119056, '2021060100': 100685, '2021070100': 139090, '2021080100': 175549, '2021090100': 113999, '2021100100': 125759, '2021110100': 106428, '2021120100': 126436, '2022010100': 149880, '2022020100': 118424, '2022030100': 219386, '2022040100': 161555, '2022050100': 141171, '2022060100': 134633, '2022070100': 130218, '2022080100': 160793, '2022090100': 119673, '2022100100': 175246, '2022110100': 147481, '2022120100': 135122}\n"
     ]
    }
   ],
   "source": [
    "dc_data_monthly = get_wikipedia_pageviews(\"DC Comics\", \"monthly\", 2015010100, 2022123100)\n",
    "dc_monthly_dict = dict()\n",
    "\n",
    "for item in dc_data_monthly[\"items\"]:\n",
    "    dc_monthly_dict[item[\"timestamp\"]] = item[\"views\"]\n",
    "\n",
    "print(dc_monthly_dict)"
   ]
  },
  {
   "cell_type": "code",
   "execution_count": 88,
   "id": "4fbd60a0",
   "metadata": {},
   "outputs": [
    {
     "name": "stdout",
     "output_type": "stream",
     "text": [
      "{'2015070100': 174542, '2015080100': 170093, '2015090100': 153288, '2015100100': 116504, '2015110100': 132870, '2015120100': 153710, '2016010100': 141040, '2016020100': 181120, '2016030100': 209774, '2016040100': 206773, '2016050100': 311391, '2016060100': 144195, '2016070100': 122519, '2016080100': 129870, '2016090100': 109328, '2016100100': 157980, '2016110100': 145216, '2016120100': 122881, '2017010100': 121773, '2017020100': 117202, '2017030100': 172103, '2017040100': 132570, '2017050100': 147079, '2017060100': 139759, '2017070100': 165400, '2017080100': 119559, '2017090100': 94651, '2017100100': 109907, '2017110100': 180863, '2017120100': 169295, '2018010100': 127635, '2018020100': 199191, '2018030100': 208156, '2018040100': 257649, '2018050100': 396187, '2018060100': 155201, '2018070100': 162610, '2018080100': 187175, '2018090100': 191114, '2018100100': 190521, '2018110100': 407413, '2018120100': 224798, '2019010100': 189675, '2019020100': 129974, '2019030100': 249906, '2019040100': 325675, '2019050100': 314066, '2019060100': 149889, '2019070100': 161902, '2019080100': 155213, '2019090100': 116115, '2019100100': 109428, '2019110100': 99933, '2019120100': 97794, '2020010100': 97246, '2020020100': 82380, '2020030100': 96651, '2020040100': 128647, '2020050100': 117798, '2020060100': 89768, '2020070100': 89176, '2020080100': 103532, '2020090100': 99472, '2020100100': 99962, '2020110100': 105065, '2020120100': 117964, '2021010100': 115537, '2021020100': 117021, '2021030100': 145916, '2021040100': 126592, '2021050100': 113684, '2021060100': 93424, '2021070100': 186978, '2021080100': 159915, '2021090100': 219986, '2021100100': 170720, '2021110100': 190070, '2021120100': 238670, '2022010100': 225335, '2022020100': 124596, '2022030100': 124650, '2022040100': 151955, '2022050100': 283747, '2022060100': 147209, '2022070100': 154890, '2022080100': 144994, '2022090100': 120988, '2022100100': 112582, '2022110100': 114477, '2022120100': 98772}\n"
     ]
    }
   ],
   "source": [
    "marvel_data_monthly = get_wikipedia_pageviews(\"Marvel Comics\", \"monthly\", 2015010100, 2022123100)\n",
    "marvel_monthly_dict = dict()\n",
    "\n",
    "for item in marvel_data_monthly[\"items\"]:\n",
    "    marvel_monthly_dict[item[\"timestamp\"]] = item[\"views\"]\n",
    "\n",
    "print(marvel_monthly_dict)"
   ]
  },
  {
   "cell_type": "code",
   "execution_count": 104,
   "id": "66f0b880",
   "metadata": {},
   "outputs": [
    {
     "name": "stdout",
     "output_type": "stream",
     "text": [
      "{'website': 'en.wikipedia.org', 'page_title': 'The_Postal_Service'}\n"
     ]
    }
   ],
   "source": [
    "#4\n",
    "import json\n",
    "\n",
    "bands_dicts = []\n",
    "with open(\"list_of_washington_alternative_rocks_bands_wikipedia-2023-04-25.jsonl\", 'r') as input_file:\n",
    "    for line in input_file.readlines():\n",
    "        new_data = json.loads(line)\n",
    "        bands_dicts.append(new_data) \n",
    "        \n",
    "print(bands_dicts[10])\n",
    "\n",
    "for page in bands_dicts:\n",
    "    page_views = get_wikipedia_pageviews(page[\"page_title\"], \"monthly\", 2022010100, 2022123100)"
   ]
  },
  {
   "cell_type": "code",
   "execution_count": null,
   "id": "9c227574",
   "metadata": {},
   "outputs": [],
   "source": [
    "##2"
   ]
  },
  {
   "cell_type": "code",
   "execution_count": null,
   "id": "a0fb5540",
   "metadata": {},
   "outputs": [],
   "source": [
    "##https://docs.developer.yelp.com/docs/getting-started\n",
    "##API endpoints i may want to use\n",
    "##API Endpoints:\n",
    "\n",
    "#Business Search: To search for businesses based on different parameters such as location, categories, price, etc.\n",
    "#Parameters required: term, location, API key\n",
    "#Business Details: To get details of a specific business based on its ID.\n",
    "#Parameters required: business ID, API key\n",
    "#Reviews: To get reviews for a specific business based on its ID.\n",
    "#Parameters required: business ID, API key\n",
    "#Autocomplete: To get auto-complete suggestions based on the search term.\n",
    "#Parameters required: text, API key\n",
    "#Transactions: To get transactional details for a specific business.\n",
    "#Parameters required: business ID, API key\n",
    "\n",
    "#Reservation API Yes,it needs\n",
    "The Yelp Reservations API exposes functionality for Yelp Reservations search and native booking flows into partner applications. This will allow users to book reservations through Yelp without ever having to leave the 3rd party application. Visit Yelp Reservations API to learn more.\n",
    "\n",
    "Access\n",
    "You can access Yelp Fusion via self serve through your Yelp Account. Access the other APIs is restricted to Yelp Partners.\n",
    "\n",
    "Most APIs require additional set up for access or a separate set of credentials. If you make a call for an API that you do not have rights to, you will get an error.\n",
    "\n",
    "If you are unsure which API you have access to, please reach out to your company's business development/partnership team."
   ]
  }
 ],
 "metadata": {
  "kernelspec": {
   "display_name": "Python 3 (ipykernel)",
   "language": "python",
   "name": "python3"
  },
  "language_info": {
   "codemirror_mode": {
    "name": "ipython",
    "version": 3
   },
   "file_extension": ".py",
   "mimetype": "text/x-python",
   "name": "python",
   "nbconvert_exporter": "python",
   "pygments_lexer": "ipython3",
   "version": "3.10.9"
  }
 },
 "nbformat": 4,
 "nbformat_minor": 5
}
