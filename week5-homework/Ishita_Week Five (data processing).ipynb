{
 "cells": [
  {
   "cell_type": "markdown",
   "id": "7f1a9233",
   "metadata": {},
   "source": [
    "# 1.1"
   ]
  },
  {
   "cell_type": "code",
   "execution_count": 3,
   "id": "5cde59cb",
   "metadata": {},
   "outputs": [],
   "source": [
    "import json"
   ]
  },
  {
   "cell_type": "code",
   "execution_count": 4,
   "id": "bf67dab9",
   "metadata": {},
   "outputs": [],
   "source": [
    "with open (\"writer_yuval_pageviews.json\", \"r\") as input_file:\n",
    "    input_data= input_file.read()"
   ]
  },
  {
   "cell_type": "code",
   "execution_count": 5,
   "id": "223027d1",
   "metadata": {},
   "outputs": [
    {
     "data": {
      "text/plain": [
       "'{\"items\": [{\"project\": \"en.wikipedia\", \"article\": \"Yuval_Noah_Harari\", \"granularity\": \"monthly\", \"timestamp\": \"2015070100\", \"access\": \"all-access\", \"agent\": \"user\", \"views\": 545}, {\"project\": \"en.wikipedia\", \"article\": \"Yuval_Noah_Harari\", \"granularity\": \"monthly\", \"timestamp\": \"2015080100\", \"access\": \"all-access\", \"agent\": \"user\", \"views\": 390}, {\"project\": \"en.wikipedia\", \"article\": \"Yuval_Noah_Harari\", \"granularity\": \"monthly\", \"timestamp\": \"2015090100\", \"access\": \"all-access\", \"agent\": \"user\", \"views\": 306}, {\"project\": \"en.wikipedia\", \"article\": \"Yuval_Noah_Harari\", \"granularity\": \"monthly\", \"timestamp\": \"2015100100\", \"access\": \"all-access\", \"agent\": \"user\", \"views\": 193}, {\"project\": \"en.wikipedia\", \"article\": \"Yuval_Noah_Harari\", \"granularity\": \"monthly\", \"timestamp\": \"2015110100\", \"access\": \"all-access\", \"agent\": \"user\", \"views\": 188}, {\"project\": \"en.wikipedia\", \"article\": \"Yuval_Noah_Harari\", \"granularity\": \"monthly\", \"timestamp\": \"2015120100\", \"access\": \"all-access\", \"agent\": \"user\", \"views\": 168}, {\"project\": \"en.wikipedia\", \"article\": \"Yuval_Noah_Harari\", \"granularity\": \"monthly\", \"timestamp\": \"2016010100\", \"access\": \"all-access\", \"agent\": \"user\", \"views\": 195}, {\"project\": \"en.wikipedia\", \"article\": \"Yuval_Noah_Harari\", \"granularity\": \"monthly\", \"timestamp\": \"2016020100\", \"access\": \"all-access\", \"agent\": \"user\", \"views\": 142}, {\"project\": \"en.wikipedia\", \"article\": \"Yuval_Noah_Harari\", \"granularity\": \"monthly\", \"timestamp\": \"2016030100\", \"access\": \"all-access\", \"agent\": \"user\", \"views\": 145}, {\"project\": \"en.wikipedia\", \"article\": \"Yuval_Noah_Harari\", \"granularity\": \"monthly\", \"timestamp\": \"2016040100\", \"access\": \"all-access\", \"agent\": \"user\", \"views\": 143}, {\"project\": \"en.wikipedia\", \"article\": \"Yuval_Noah_Harari\", \"granularity\": \"monthly\", \"timestamp\": \"2016050100\", \"access\": \"all-access\", \"agent\": \"user\", \"views\": 8984}, {\"project\": \"en.wikipedia\", \"article\": \"Yuval_Noah_Harari\", \"granularity\": \"monthly\", \"timestamp\": \"2016060100\", \"access\": \"all-access\", \"agent\": \"user\", \"views\": 9735}, {\"project\": \"en.wikipedia\", \"article\": \"Yuval_Noah_Harari\", \"granularity\": \"monthly\", \"timestamp\": \"2016070100\", \"access\": \"all-access\", \"agent\": \"user\", \"views\": 11162}, {\"project\": \"en.wikipedia\", \"article\": \"Yuval_Noah_Harari\", \"granularity\": \"monthly\", \"timestamp\": \"2016080100\", \"access\": \"all-access\", \"agent\": \"user\", \"views\": 16022}, {\"project\": \"en.wikipedia\", \"article\": \"Yuval_Noah_Harari\", \"granularity\": \"monthly\", \"timestamp\": \"2016090100\", \"access\": \"all-access\", \"agent\": \"user\", \"views\": 26179}, {\"project\": \"en.wikipedia\", \"article\": \"Yuval_Noah_Harari\", \"granularity\": \"monthly\", \"timestamp\": \"2016100100\", \"access\": \"all-access\", \"agent\": \"user\", \"views\": 20223}, {\"project\": \"en.wikipedia\", \"article\": \"Yuval_Noah_Harari\", \"granularity\": \"monthly\", \"timestamp\": \"2016110100\", \"access\": \"all-access\", \"agent\": \"user\", \"views\": 17278}, {\"project\": \"en.wikipedia\", \"article\": \"Yuval_Noah_Harari\", \"granularity\": \"monthly\", \"timestamp\": \"2016120100\", \"access\": \"all-access\", \"agent\": \"user\", \"views\": 20430}, {\"project\": \"en.wikipedia\", \"article\": \"Yuval_Noah_Harari\", \"granularity\": \"monthly\", \"timestamp\": \"2017010100\", \"access\": \"all-access\", \"agent\": \"user\", \"views\": 24909}, {\"project\": \"en.wikipedia\", \"article\": \"Yuval_Noah_Harari\", \"granularity\": \"monthly\", \"timestamp\": \"2017020100\", \"access\": \"all-access\", \"agent\": \"user\", \"views\": 32444}, {\"project\": \"en.wikipedia\", \"article\": \"Yuval_Noah_Harari\", \"granularity\": \"monthly\", \"timestamp\": \"2017030100\", \"access\": \"all-access\", \"agent\": \"user\", \"views\": 57713}, {\"project\": \"en.wikipedia\", \"article\": \"Yuval_Noah_Harari\", \"granularity\": \"monthly\", \"timestamp\": \"2017040100\", \"access\": \"all-access\", \"agent\": \"user\", \"views\": 43303}, {\"project\": \"en.wikipedia\", \"article\": \"Yuval_Noah_Harari\", \"granularity\": \"monthly\", \"timestamp\": \"2017050100\", \"access\": \"all-access\", \"agent\": \"user\", \"views\": 37984}, {\"project\": \"en.wikipedia\", \"article\": \"Yuval_Noah_Harari\", \"granularity\": \"monthly\", \"timestamp\": \"2017060100\", \"access\": \"all-access\", \"agent\": \"user\", \"views\": 33881}, {\"project\": \"en.wikipedia\", \"article\": \"Yuval_Noah_Harari\", \"granularity\": \"monthly\", \"timestamp\": \"2017070100\", \"access\": \"all-access\", \"agent\": \"user\", \"views\": 42611}, {\"project\": \"en.wikipedia\", \"article\": \"Yuval_Noah_Harari\", \"granularity\": \"monthly\", \"timestamp\": \"2017080100\", \"access\": \"all-access\", \"agent\": \"user\", \"views\": 38623}, {\"project\": \"en.wikipedia\", \"article\": \"Yuval_Noah_Harari\", \"granularity\": \"monthly\", \"timestamp\": \"2017090100\", \"access\": \"all-access\", \"agent\": \"user\", \"views\": 36475}, {\"project\": \"en.wikipedia\", \"article\": \"Yuval_Noah_Harari\", \"granularity\": \"monthly\", \"timestamp\": \"2017100100\", \"access\": \"all-access\", \"agent\": \"user\", \"views\": 51096}, {\"project\": \"en.wikipedia\", \"article\": \"Yuval_Noah_Harari\", \"granularity\": \"monthly\", \"timestamp\": \"2017110100\", \"access\": \"all-access\", \"agent\": \"user\", \"views\": 36661}, {\"project\": \"en.wikipedia\", \"article\": \"Yuval_Noah_Harari\", \"granularity\": \"monthly\", \"timestamp\": \"2017120100\", \"access\": \"all-access\", \"agent\": \"user\", \"views\": 45800}, {\"project\": \"en.wikipedia\", \"article\": \"Yuval_Noah_Harari\", \"granularity\": \"monthly\", \"timestamp\": \"2018010100\", \"access\": \"all-access\", \"agent\": \"user\", \"views\": 52923}, {\"project\": \"en.wikipedia\", \"article\": \"Yuval_Noah_Harari\", \"granularity\": \"monthly\", \"timestamp\": \"2018020100\", \"access\": \"all-access\", \"agent\": \"user\", \"views\": 42129}, {\"project\": \"en.wikipedia\", \"article\": \"Yuval_Noah_Harari\", \"granularity\": \"monthly\", \"timestamp\": \"2018030100\", \"access\": \"all-access\", \"agent\": \"user\", \"views\": 45050}, {\"project\": \"en.wikipedia\", \"article\": \"Yuval_Noah_Harari\", \"granularity\": \"monthly\", \"timestamp\": \"2018040100\", \"access\": \"all-access\", \"agent\": \"user\", \"views\": 40242}, {\"project\": \"en.wikipedia\", \"article\": \"Yuval_Noah_Harari\", \"granularity\": \"monthly\", \"timestamp\": \"2018050100\", \"access\": \"all-access\", \"agent\": \"user\", \"views\": 41353}, {\"project\": \"en.wikipedia\", \"article\": \"Yuval_Noah_Harari\", \"granularity\": \"monthly\", \"timestamp\": \"2018060100\", \"access\": \"all-access\", \"agent\": \"user\", \"views\": 40293}, {\"project\": \"en.wikipedia\", \"article\": \"Yuval_Noah_Harari\", \"granularity\": \"monthly\", \"timestamp\": \"2018070100\", \"access\": \"all-access\", \"agent\": \"user\", \"views\": 47527}, {\"project\": \"en.wikipedia\", \"article\": \"Yuval_Noah_Harari\", \"granularity\": \"monthly\", \"timestamp\": \"2018080100\", \"access\": \"all-access\", \"agent\": \"user\", \"views\": 66814}, {\"project\": \"en.wikipedia\", \"article\": \"Yuval_Noah_Harari\", \"granularity\": \"monthly\", \"timestamp\": \"2018090100\", \"access\": \"all-access\", \"agent\": \"user\", \"views\": 105377}, {\"project\": \"en.wikipedia\", \"article\": \"Yuval_Noah_Harari\", \"granularity\": \"monthly\", \"timestamp\": \"2018100100\", \"access\": \"all-access\", \"agent\": \"user\", \"views\": 95636}, {\"project\": \"en.wikipedia\", \"article\": \"Yuval_Noah_Harari\", \"granularity\": \"monthly\", \"timestamp\": \"2018110100\", \"access\": \"all-access\", \"agent\": \"user\", \"views\": 85448}, {\"project\": \"en.wikipedia\", \"article\": \"Yuval_Noah_Harari\", \"granularity\": \"monthly\", \"timestamp\": \"2018120100\", \"access\": \"all-access\", \"agent\": \"user\", \"views\": 99399}, {\"project\": \"en.wikipedia\", \"article\": \"Yuval_Noah_Harari\", \"granularity\": \"monthly\", \"timestamp\": \"2019010100\", \"access\": \"all-access\", \"agent\": \"user\", \"views\": 97566}, {\"project\": \"en.wikipedia\", \"article\": \"Yuval_Noah_Harari\", \"granularity\": \"monthly\", \"timestamp\": \"2019020100\", \"access\": \"all-access\", \"agent\": \"user\", \"views\": 66095}, {\"project\": \"en.wikipedia\", \"article\": \"Yuval_Noah_Harari\", \"granularity\": \"monthly\", \"timestamp\": \"2019030100\", \"access\": \"all-access\", \"agent\": \"user\", \"views\": 66205}, {\"project\": \"en.wikipedia\", \"article\": \"Yuval_Noah_Harari\", \"granularity\": \"monthly\", \"timestamp\": \"2019040100\", \"access\": \"all-access\", \"agent\": \"user\", \"views\": 66797}, {\"project\": \"en.wikipedia\", \"article\": \"Yuval_Noah_Harari\", \"granularity\": \"monthly\", \"timestamp\": \"2019050100\", \"access\": \"all-access\", \"agent\": \"user\", \"views\": 70069}, {\"project\": \"en.wikipedia\", \"article\": \"Yuval_Noah_Harari\", \"granularity\": \"monthly\", \"timestamp\": \"2019060100\", \"access\": \"all-access\", \"agent\": \"user\", \"views\": 63190}, {\"project\": \"en.wikipedia\", \"article\": \"Yuval_Noah_Harari\", \"granularity\": \"monthly\", \"timestamp\": \"2019070100\", \"access\": \"all-access\", \"agent\": \"user\", \"views\": 75260}, {\"project\": \"en.wikipedia\", \"article\": \"Yuval_Noah_Harari\", \"granularity\": \"monthly\", \"timestamp\": \"2019080100\", \"access\": \"all-access\", \"agent\": \"user\", \"views\": 66597}, {\"project\": \"en.wikipedia\", \"article\": \"Yuval_Noah_Harari\", \"granularity\": \"monthly\", \"timestamp\": \"2019090100\", \"access\": \"all-access\", \"agent\": \"user\", \"views\": 60520}, {\"project\": \"en.wikipedia\", \"article\": \"Yuval_Noah_Harari\", \"granularity\": \"monthly\", \"timestamp\": \"2019100100\", \"access\": \"all-access\", \"agent\": \"user\", \"views\": 58325}, {\"project\": \"en.wikipedia\", \"article\": \"Yuval_Noah_Harari\", \"granularity\": \"monthly\", \"timestamp\": \"2019110100\", \"access\": \"all-access\", \"agent\": \"user\", \"views\": 59564}, {\"project\": \"en.wikipedia\", \"article\": \"Yuval_Noah_Harari\", \"granularity\": \"monthly\", \"timestamp\": \"2019120100\", \"access\": \"all-access\", \"agent\": \"user\", \"views\": 66341}, {\"project\": \"en.wikipedia\", \"article\": \"Yuval_Noah_Harari\", \"granularity\": \"monthly\", \"timestamp\": \"2020010100\", \"access\": \"all-access\", \"agent\": \"user\", \"views\": 72631}, {\"project\": \"en.wikipedia\", \"article\": \"Yuval_Noah_Harari\", \"granularity\": \"monthly\", \"timestamp\": \"2020020100\", \"access\": \"all-access\", \"agent\": \"user\", \"views\": 67177}, {\"project\": \"en.wikipedia\", \"article\": \"Yuval_Noah_Harari\", \"granularity\": \"monthly\", \"timestamp\": \"2020030100\", \"access\": \"all-access\", \"agent\": \"user\", \"views\": 88616}, {\"project\": \"en.wikipedia\", \"article\": \"Yuval_Noah_Harari\", \"granularity\": \"monthly\", \"timestamp\": \"2020040100\", \"access\": \"all-access\", \"agent\": \"user\", \"views\": 148398}, {\"project\": \"en.wikipedia\", \"article\": \"Yuval_Noah_Harari\", \"granularity\": \"monthly\", \"timestamp\": \"2020050100\", \"access\": \"all-access\", \"agent\": \"user\", \"views\": 98547}, {\"project\": \"en.wikipedia\", \"article\": \"Yuval_Noah_Harari\", \"granularity\": \"monthly\", \"timestamp\": \"2020060100\", \"access\": \"all-access\", \"agent\": \"user\", \"views\": 63727}, {\"project\": \"en.wikipedia\", \"article\": \"Yuval_Noah_Harari\", \"granularity\": \"monthly\", \"timestamp\": \"2020070100\", \"access\": \"all-access\", \"agent\": \"user\", \"views\": 63258}, {\"project\": \"en.wikipedia\", \"article\": \"Yuval_Noah_Harari\", \"granularity\": \"monthly\", \"timestamp\": \"2020080100\", \"access\": \"all-access\", \"agent\": \"user\", \"views\": 63598}, {\"project\": \"en.wikipedia\", \"article\": \"Yuval_Noah_Harari\", \"granularity\": \"monthly\", \"timestamp\": \"2020090100\", \"access\": \"all-access\", \"agent\": \"user\", \"views\": 56289}, {\"project\": \"en.wikipedia\", \"article\": \"Yuval_Noah_Harari\", \"granularity\": \"monthly\", \"timestamp\": \"2020100100\", \"access\": \"all-access\", \"agent\": \"user\", \"views\": 59914}, {\"project\": \"en.wikipedia\", \"article\": \"Yuval_Noah_Harari\", \"granularity\": \"monthly\", \"timestamp\": \"2020110100\", \"access\": \"all-access\", \"agent\": \"user\", \"views\": 70191}, {\"project\": \"en.wikipedia\", \"article\": \"Yuval_Noah_Harari\", \"granularity\": \"monthly\", \"timestamp\": \"2020120100\", \"access\": \"all-access\", \"agent\": \"user\", \"views\": 69499}, {\"project\": \"en.wikipedia\", \"article\": \"Yuval_Noah_Harari\", \"granularity\": \"monthly\", \"timestamp\": \"2021010100\", \"access\": \"all-access\", \"agent\": \"user\", \"views\": 66301}, {\"project\": \"en.wikipedia\", \"article\": \"Yuval_Noah_Harari\", \"granularity\": \"monthly\", \"timestamp\": \"2021020100\", \"access\": \"all-access\", \"agent\": \"user\", \"views\": 52975}, {\"project\": \"en.wikipedia\", \"article\": \"Yuval_Noah_Harari\", \"granularity\": \"monthly\", \"timestamp\": \"2021030100\", \"access\": \"all-access\", \"agent\": \"user\", \"views\": 55782}, {\"project\": \"en.wikipedia\", \"article\": \"Yuval_Noah_Harari\", \"granularity\": \"monthly\", \"timestamp\": \"2021040100\", \"access\": \"all-access\", \"agent\": \"user\", \"views\": 54108}, {\"project\": \"en.wikipedia\", \"article\": \"Yuval_Noah_Harari\", \"granularity\": \"monthly\", \"timestamp\": \"2021050100\", \"access\": \"all-access\", \"agent\": \"user\", \"views\": 53944}, {\"project\": \"en.wikipedia\", \"article\": \"Yuval_Noah_Harari\", \"granularity\": \"monthly\", \"timestamp\": \"2021060100\", \"access\": \"all-access\", \"agent\": \"user\", \"views\": 45542}, {\"project\": \"en.wikipedia\", \"article\": \"Yuval_Noah_Harari\", \"granularity\": \"monthly\", \"timestamp\": \"2021070100\", \"access\": \"all-access\", \"agent\": \"user\", \"views\": 49864}, {\"project\": \"en.wikipedia\", \"article\": \"Yuval_Noah_Harari\", \"granularity\": \"monthly\", \"timestamp\": \"2021080100\", \"access\": \"all-access\", \"agent\": \"user\", \"views\": 45556}, {\"project\": \"en.wikipedia\", \"article\": \"Yuval_Noah_Harari\", \"granularity\": \"monthly\", \"timestamp\": \"2021090100\", \"access\": \"all-access\", \"agent\": \"user\", \"views\": 41930}, {\"project\": \"en.wikipedia\", \"article\": \"Yuval_Noah_Harari\", \"granularity\": \"monthly\", \"timestamp\": \"2021100100\", \"access\": \"all-access\", \"agent\": \"user\", \"views\": 48342}, {\"project\": \"en.wikipedia\", \"article\": \"Yuval_Noah_Harari\", \"granularity\": \"monthly\", \"timestamp\": \"2021110100\", \"access\": \"all-access\", \"agent\": \"user\", \"views\": 60161}, {\"project\": \"en.wikipedia\", \"article\": \"Yuval_Noah_Harari\", \"granularity\": \"monthly\", \"timestamp\": \"2021120100\", \"access\": \"all-access\", \"agent\": \"user\", \"views\": 44360}, {\"project\": \"en.wikipedia\", \"article\": \"Yuval_Noah_Harari\", \"granularity\": \"monthly\", \"timestamp\": \"2022010100\", \"access\": \"all-access\", \"agent\": \"user\", \"views\": 48232}, {\"project\": \"en.wikipedia\", \"article\": \"Yuval_Noah_Harari\", \"granularity\": \"monthly\", \"timestamp\": \"2022020100\", \"access\": \"all-access\", \"agent\": \"user\", \"views\": 48887}, {\"project\": \"en.wikipedia\", \"article\": \"Yuval_Noah_Harari\", \"granularity\": \"monthly\", \"timestamp\": \"2022030100\", \"access\": \"all-access\", \"agent\": \"user\", \"views\": 139999}, {\"project\": \"en.wikipedia\", \"article\": \"Yuval_Noah_Harari\", \"granularity\": \"monthly\", \"timestamp\": \"2022040100\", \"access\": \"all-access\", \"agent\": \"user\", \"views\": 84624}, {\"project\": \"en.wikipedia\", \"article\": \"Yuval_Noah_Harari\", \"granularity\": \"monthly\", \"timestamp\": \"2022050100\", \"access\": \"all-access\", \"agent\": \"user\", \"views\": 63694}, {\"project\": \"en.wikipedia\", \"article\": \"Yuval_Noah_Harari\", \"granularity\": \"monthly\", \"timestamp\": \"2022060100\", \"access\": \"all-access\", \"agent\": \"user\", \"views\": 52280}, {\"project\": \"en.wikipedia\", \"article\": \"Yuval_Noah_Harari\", \"granularity\": \"monthly\", \"timestamp\": \"2022070100\", \"access\": \"all-access\", \"agent\": \"user\", \"views\": 58693}, {\"project\": \"en.wikipedia\", \"article\": \"Yuval_Noah_Harari\", \"granularity\": \"monthly\", \"timestamp\": \"2022080100\", \"access\": \"all-access\", \"agent\": \"user\", \"views\": 67246}, {\"project\": \"en.wikipedia\", \"article\": \"Yuval_Noah_Harari\", \"granularity\": \"monthly\", \"timestamp\": \"2022090100\", \"access\": \"all-access\", \"agent\": \"user\", \"views\": 55063}, {\"project\": \"en.wikipedia\", \"article\": \"Yuval_Noah_Harari\", \"granularity\": \"monthly\", \"timestamp\": \"2022100100\", \"access\": \"all-access\", \"agent\": \"user\", \"views\": 65196}, {\"project\": \"en.wikipedia\", \"article\": \"Yuval_Noah_Harari\", \"granularity\": \"monthly\", \"timestamp\": \"2022110100\", \"access\": \"all-access\", \"agent\": \"user\", \"views\": 57551}, {\"project\": \"en.wikipedia\", \"article\": \"Yuval_Noah_Harari\", \"granularity\": \"monthly\", \"timestamp\": \"2022120100\", \"access\": \"all-access\", \"agent\": \"user\", \"views\": 51359}, {\"project\": \"en.wikipedia\", \"article\": \"Yuval_Noah_Harari\", \"granularity\": \"monthly\", \"timestamp\": \"2023010100\", \"access\": \"all-access\", \"agent\": \"user\", \"views\": 61675}, {\"project\": \"en.wikipedia\", \"article\": \"Yuval_Noah_Harari\", \"granularity\": \"monthly\", \"timestamp\": \"2023020100\", \"access\": \"all-access\", \"agent\": \"user\", \"views\": 42322}, {\"project\": \"en.wikipedia\", \"article\": \"Yuval_Noah_Harari\", \"granularity\": \"monthly\", \"timestamp\": \"2023030100\", \"access\": \"all-access\", \"agent\": \"user\", \"views\": 49561}]}\\n'"
      ]
     },
     "execution_count": 5,
     "metadata": {},
     "output_type": "execute_result"
    }
   ],
   "source": [
    "input_data"
   ]
  },
  {
   "cell_type": "code",
   "execution_count": 6,
   "id": "c061abfd",
   "metadata": {},
   "outputs": [],
   "source": [
    "new_data = json.loads(input_data)"
   ]
  },
  {
   "cell_type": "code",
   "execution_count": 7,
   "id": "7a818a7d",
   "metadata": {},
   "outputs": [
    {
     "data": {
      "text/plain": [
       "{'project': 'en.wikipedia',\n",
       " 'article': 'Yuval_Noah_Harari',\n",
       " 'granularity': 'monthly',\n",
       " 'timestamp': '2015070100',\n",
       " 'access': 'all-access',\n",
       " 'agent': 'user',\n",
       " 'views': 545}"
      ]
     },
     "execution_count": 7,
     "metadata": {},
     "output_type": "execute_result"
    }
   ],
   "source": [
    "new_data ['items'][0]"
   ]
  },
  {
   "cell_type": "code",
   "execution_count": 8,
   "id": "25889c89",
   "metadata": {},
   "outputs": [],
   "source": [
    "views_by_month = {}\n",
    "for month_dict in new_data ['items']:\n",
    "    month = month_dict [\"timestamp\"] [:-2]\n",
    "    month = month [0:4] + \"-\" + month [4:6] + \"-\" + month [6:8]\n",
    "    views_by_month[month]= month_dict['views']"
   ]
  },
  {
   "cell_type": "code",
   "execution_count": 9,
   "id": "53bfce63",
   "metadata": {
    "scrolled": true
   },
   "outputs": [
    {
     "data": {
      "text/plain": [
       "{'2015-07-01': 545,\n",
       " '2015-08-01': 390,\n",
       " '2015-09-01': 306,\n",
       " '2015-10-01': 193,\n",
       " '2015-11-01': 188,\n",
       " '2015-12-01': 168,\n",
       " '2016-01-01': 195,\n",
       " '2016-02-01': 142,\n",
       " '2016-03-01': 145,\n",
       " '2016-04-01': 143,\n",
       " '2016-05-01': 8984,\n",
       " '2016-06-01': 9735,\n",
       " '2016-07-01': 11162,\n",
       " '2016-08-01': 16022,\n",
       " '2016-09-01': 26179,\n",
       " '2016-10-01': 20223,\n",
       " '2016-11-01': 17278,\n",
       " '2016-12-01': 20430,\n",
       " '2017-01-01': 24909,\n",
       " '2017-02-01': 32444,\n",
       " '2017-03-01': 57713,\n",
       " '2017-04-01': 43303,\n",
       " '2017-05-01': 37984,\n",
       " '2017-06-01': 33881,\n",
       " '2017-07-01': 42611,\n",
       " '2017-08-01': 38623,\n",
       " '2017-09-01': 36475,\n",
       " '2017-10-01': 51096,\n",
       " '2017-11-01': 36661,\n",
       " '2017-12-01': 45800,\n",
       " '2018-01-01': 52923,\n",
       " '2018-02-01': 42129,\n",
       " '2018-03-01': 45050,\n",
       " '2018-04-01': 40242,\n",
       " '2018-05-01': 41353,\n",
       " '2018-06-01': 40293,\n",
       " '2018-07-01': 47527,\n",
       " '2018-08-01': 66814,\n",
       " '2018-09-01': 105377,\n",
       " '2018-10-01': 95636,\n",
       " '2018-11-01': 85448,\n",
       " '2018-12-01': 99399,\n",
       " '2019-01-01': 97566,\n",
       " '2019-02-01': 66095,\n",
       " '2019-03-01': 66205,\n",
       " '2019-04-01': 66797,\n",
       " '2019-05-01': 70069,\n",
       " '2019-06-01': 63190,\n",
       " '2019-07-01': 75260,\n",
       " '2019-08-01': 66597,\n",
       " '2019-09-01': 60520,\n",
       " '2019-10-01': 58325,\n",
       " '2019-11-01': 59564,\n",
       " '2019-12-01': 66341,\n",
       " '2020-01-01': 72631,\n",
       " '2020-02-01': 67177,\n",
       " '2020-03-01': 88616,\n",
       " '2020-04-01': 148398,\n",
       " '2020-05-01': 98547,\n",
       " '2020-06-01': 63727,\n",
       " '2020-07-01': 63258,\n",
       " '2020-08-01': 63598,\n",
       " '2020-09-01': 56289,\n",
       " '2020-10-01': 59914,\n",
       " '2020-11-01': 70191,\n",
       " '2020-12-01': 69499,\n",
       " '2021-01-01': 66301,\n",
       " '2021-02-01': 52975,\n",
       " '2021-03-01': 55782,\n",
       " '2021-04-01': 54108,\n",
       " '2021-05-01': 53944,\n",
       " '2021-06-01': 45542,\n",
       " '2021-07-01': 49864,\n",
       " '2021-08-01': 45556,\n",
       " '2021-09-01': 41930,\n",
       " '2021-10-01': 48342,\n",
       " '2021-11-01': 60161,\n",
       " '2021-12-01': 44360,\n",
       " '2022-01-01': 48232,\n",
       " '2022-02-01': 48887,\n",
       " '2022-03-01': 139999,\n",
       " '2022-04-01': 84624,\n",
       " '2022-05-01': 63694,\n",
       " '2022-06-01': 52280,\n",
       " '2022-07-01': 58693,\n",
       " '2022-08-01': 67246,\n",
       " '2022-09-01': 55063,\n",
       " '2022-10-01': 65196,\n",
       " '2022-11-01': 57551,\n",
       " '2022-12-01': 51359,\n",
       " '2023-01-01': 61675,\n",
       " '2023-02-01': 42322,\n",
       " '2023-03-01': 49561}"
      ]
     },
     "execution_count": 9,
     "metadata": {},
     "output_type": "execute_result"
    }
   ],
   "source": [
    " views_by_month"
   ]
  },
  {
   "cell_type": "code",
   "execution_count": 10,
   "id": "15d91181",
   "metadata": {},
   "outputs": [],
   "source": [
    "with open ('views_by_month_yuval.tsv', 'w') as output_file:\n",
    "    print (\"month\\tviews\", file= output_file)\n",
    "    for month in views_by_month:\n",
    "        print (month, \"\\t\", views_by_month[month], file=output_file)"
   ]
  },
  {
   "cell_type": "code",
   "execution_count": 11,
   "id": "4863b723",
   "metadata": {},
   "outputs": [],
   "source": [
    "# https://docs.google.com/spreadsheets/d/1VC2Wd5W-DitdAwx2pYStB11FiTY5fX2u-raSsYEHX6A/edit?usp=sharingimport requests\n"
   ]
  },
  {
   "cell_type": "markdown",
   "id": "4793d4a4",
   "metadata": {},
   "source": [
    "# 1.2"
   ]
  },
  {
   "cell_type": "code",
   "execution_count": 3,
   "id": "fc527870",
   "metadata": {},
   "outputs": [],
   "source": [
    "import json\n",
    "import requests"
   ]
  },
  {
   "cell_type": "code",
   "execution_count": null,
   "id": "66b9469a",
   "metadata": {},
   "outputs": [],
   "source": []
  },
  {
   "cell_type": "markdown",
   "id": "d0f6ea41",
   "metadata": {},
   "source": [
    "# 1.3"
   ]
  },
  {
   "cell_type": "code",
   "execution_count": 12,
   "id": "24b836ae",
   "metadata": {},
   "outputs": [],
   "source": [
    "with open(\"dataMarvel_views.json\", 'r') as marvel_file:\n",
    "    marvel_data = marvel_file.read()\n",
    "    data = json.loads(marvel_data)\n",
    "    \n",
    "with open(\"dataDC_views.json\", 'r') as dc_file:\n",
    "    dc_data = dc_file.read()\n",
    "    ddata = json.loads(dc_data)"
   ]
  },
  {
   "cell_type": "code",
   "execution_count": 15,
   "id": "87212504",
   "metadata": {},
   "outputs": [],
   "source": [
    "import requests\n",
    "import json\n",
    "\n",
    "marvel_pageviews = []\n",
    "dc_pageviews = []\n",
    "\n",
    "for item in data['items']:\n",
    "    month = item['timestamp'][:6] \n",
    "    pageviews = item['views']\n",
    "    marvel_pageviews.append((month, pageviews))\n",
    "\n",
    "for item in ddata['items']:\n",
    "    month = item['timestamp'][:6] \n",
    "    pageviews = item['views']\n",
    "    dc_pageviews.append((month, pageviews))"
   ]
  },
  {
   "cell_type": "code",
   "execution_count": null,
   "id": "298272f2",
   "metadata": {},
   "outputs": [],
   "source": []
  },
  {
   "cell_type": "code",
   "execution_count": null,
   "id": "6c8f09c3",
   "metadata": {},
   "outputs": [],
   "source": []
  },
  {
   "cell_type": "markdown",
   "id": "08283e44",
   "metadata": {},
   "source": [
    "# 1.4"
   ]
  },
  {
   "cell_type": "code",
   "execution_count": null,
   "id": "a9f3ccc8",
   "metadata": {},
   "outputs": [],
   "source": []
  },
  {
   "cell_type": "markdown",
   "id": "07617c1e",
   "metadata": {},
   "source": [
    "# 2.1"
   ]
  },
  {
   "cell_type": "code",
   "execution_count": null,
   "id": "639351a5",
   "metadata": {},
   "outputs": [],
   "source": []
  },
  {
   "cell_type": "markdown",
   "id": "3a46597c",
   "metadata": {},
   "source": [
    "# 2.6"
   ]
  },
  {
   "cell_type": "code",
   "execution_count": null,
   "id": "f481422f",
   "metadata": {},
   "outputs": [],
   "source": []
  },
  {
   "cell_type": "markdown",
   "id": "50def16d",
   "metadata": {},
   "source": [
    "# 2.7"
   ]
  },
  {
   "cell_type": "code",
   "execution_count": null,
   "id": "237abda7",
   "metadata": {},
   "outputs": [],
   "source": []
  },
  {
   "cell_type": "markdown",
   "id": "761752bc",
   "metadata": {},
   "source": [
    "# 2.8"
   ]
  },
  {
   "cell_type": "code",
   "execution_count": null,
   "id": "af5d0ff7",
   "metadata": {},
   "outputs": [],
   "source": []
  }
 ],
 "metadata": {
  "kernelspec": {
   "display_name": "Python 3 (ipykernel)",
   "language": "python",
   "name": "python3"
  },
  "language_info": {
   "codemirror_mode": {
    "name": "ipython",
    "version": 3
   },
   "file_extension": ".py",
   "mimetype": "text/x-python",
   "name": "python",
   "nbconvert_exporter": "python",
   "pygments_lexer": "ipython3",
   "version": "3.10.9"
  }
 },
 "nbformat": 4,
 "nbformat_minor": 5
}
