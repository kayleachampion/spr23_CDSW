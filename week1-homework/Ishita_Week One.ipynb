{
 "cells": [
  {
   "cell_type": "markdown",
   "id": "728300e6",
   "metadata": {},
   "source": [
    "# 1.1"
   ]
  },
  {
   "cell_type": "code",
   "execution_count": 18,
   "id": "4f87a0f9",
   "metadata": {},
   "outputs": [
    {
     "name": "stdout",
     "output_type": "stream",
     "text": [
      "3.75\n"
     ]
    }
   ],
   "source": [
    "cups_of_flour = 2.25\n",
    "cups_of_sugar = 0.5\n",
    "cups_of_butter = 1\n",
    "the_total_volume_is = cups_of_flour+ cups_of_sugar+ cups_of_butter\n",
    "print (the_total_volume_is)"
   ]
  },
  {
   "cell_type": "markdown",
   "id": "1811915c",
   "metadata": {},
   "source": [
    "# 1.2"
   ]
  },
  {
   "cell_type": "code",
   "execution_count": 4,
   "id": "1658bd8d",
   "metadata": {},
   "outputs": [
    {
     "name": "stdout",
     "output_type": "stream",
     "text": [
      "3.75\n"
     ]
    }
   ],
   "source": [
    "x = 1\n",
    "number_of_batches = x\n",
    "print (the_total_volume_is * x)"
   ]
  },
  {
   "cell_type": "code",
   "execution_count": 5,
   "id": "40da81cc",
   "metadata": {},
   "outputs": [
    {
     "name": "stdout",
     "output_type": "stream",
     "text": [
      "1.875\n"
     ]
    }
   ],
   "source": [
    "x= 0.5\n",
    "number_of_batches = x\n",
    "print (the_total_volume_is * x)"
   ]
  },
  {
   "cell_type": "code",
   "execution_count": 6,
   "id": "6d69dfb3",
   "metadata": {},
   "outputs": [
    {
     "name": "stdout",
     "output_type": "stream",
     "text": [
      "11.25\n"
     ]
    }
   ],
   "source": [
    "x= 3\n",
    "number_of_batches = x\n",
    "print (the_total_volume_is * x)"
   ]
  },
  {
   "cell_type": "code",
   "execution_count": 7,
   "id": "3c90eedf",
   "metadata": {},
   "outputs": [
    {
     "name": "stdout",
     "output_type": "stream",
     "text": [
      "18.75\n"
     ]
    }
   ],
   "source": [
    "x= 5\n",
    "number_of_batches = x\n",
    "print (the_total_volume_is * x)"
   ]
  },
  {
   "cell_type": "markdown",
   "id": "778234b5",
   "metadata": {},
   "source": [
    "# 1.3"
   ]
  },
  {
   "cell_type": "code",
   "execution_count": 8,
   "id": "3e291ce4",
   "metadata": {},
   "outputs": [],
   "source": [
    "the_total_volume = 3.75\n",
    "one_pan_volume = 5 \n",
    "two_pan_volume = 10\n",
    "three_pan_volume = 15"
   ]
  },
  {
   "cell_type": "code",
   "execution_count": 29,
   "id": "366c6825",
   "metadata": {},
   "outputs": [
    {
     "name": "stdout",
     "output_type": "stream",
     "text": [
      "1.875\n",
      "you will need one pan\n"
     ]
    }
   ],
   "source": [
    "the_total_volume = 3.75\n",
    "number_of_batch = 0.5\n",
    "total_batch_volume = the_total_volume * number_of_batch\n",
    "print(total_batch_volume)\n",
    "\n",
    "if total_batch_volume <=5:\n",
    "    print (\"you will need one pan\")\n",
    "elif total_batch_volume <= 10 and total_batch_volume >=6:\n",
    "    print (\"you will need two pan\")\n",
    "elif total_batch_volume <= 15 and total_batch_volume >= 11:\n",
    "    print (\"you will need three pan\")"
   ]
  },
  {
   "cell_type": "code",
   "execution_count": 36,
   "id": "02837121",
   "metadata": {},
   "outputs": [
    {
     "name": "stdout",
     "output_type": "stream",
     "text": [
      "11.25\n",
      "you will need two pan\n"
     ]
    }
   ],
   "source": [
    "the_total_volume = 3.75\n",
    "number_of_batch = 3\n",
    "total_batch_volume = the_total_volume * number_of_batch\n",
    "print(total_batch_volume)\n",
    "\n",
    "if total_batch_volume <=5:\n",
    "    print (\"you will need one pan\")\n",
    "elif total_batch_volume <= 15 and total_batch_volume >=6:\n",
    "    print (\"you will need two pan\")\n",
    "elif total_batch_volume <= 20 and total_batch_volume >= 11:\n",
    "    print (\"you will need three pan\")"
   ]
  },
  {
   "cell_type": "code",
   "execution_count": 34,
   "id": "473ac42c",
   "metadata": {},
   "outputs": [
    {
     "name": "stdout",
     "output_type": "stream",
     "text": [
      "18.75\n",
      "you will need three pan\n"
     ]
    }
   ],
   "source": [
    "the_total_volume = 3.75\n",
    "number_of_batch = 5\n",
    "total_batch_volume = the_total_volume * number_of_batch\n",
    "print(total_batch_volume)\n",
    "\n",
    "if total_batch_volume <=5:\n",
    "    print (\"you will need one pan\")\n",
    "elif total_batch_volume <= 15 and total_batch_volume >=6:\n",
    "    print (\"you will need two pan\")\n",
    "elif total_batch_volume <= 20 and total_batch_volume >= 11:\n",
    "    print (\"you will need three pan\")"
   ]
  },
  {
   "cell_type": "markdown",
   "id": "f938d0ee",
   "metadata": {},
   "source": [
    "# 2.1"
   ]
  },
  {
   "cell_type": "code",
   "execution_count": 33,
   "id": "c33bae73",
   "metadata": {},
   "outputs": [
    {
     "name": "stdout",
     "output_type": "stream",
     "text": [
      "The total characters in the course description is 581\n"
     ]
    }
   ],
   "source": [
    "course_description = \"This course will introduce basic programming and data science tools to give students the skills to use data to read, critique, and produce stories and insights. The class will cover the basics of the Python programming language, acquiring and processing public data, and basic tools and techniques for data analysis and visualization. We will focus on gaining access to data and basic data manipulation rather than complex statistical methods. The class will be built around student-designed independent projects and is targeted at students with no previous programming experience.\"\n",
    "\n",
    "description_length = len (course_description)\n",
    "print (\"The total characters in the course description is\", description_length)"
   ]
  },
  {
   "cell_type": "markdown",
   "id": "06182060",
   "metadata": {},
   "source": [
    "# 2.2"
   ]
  },
  {
   "cell_type": "code",
   "execution_count": 10,
   "id": "ac647687",
   "metadata": {},
   "outputs": [
    {
     "name": "stdout",
     "output_type": "stream",
     "text": [
      "The description has the word Python.\n"
     ]
    }
   ],
   "source": [
    "if \"Python\" in course_description:\n",
    "    print(\"The description has the word Python.\")\n",
    "else:\n",
    "    print(\"The description does not have the word Python.\")"
   ]
  },
  {
   "cell_type": "code",
   "execution_count": 11,
   "id": "c327fc57",
   "metadata": {},
   "outputs": [
    {
     "name": "stdout",
     "output_type": "stream",
     "text": [
      "The description does not have the word statistics.\n"
     ]
    }
   ],
   "source": [
    "if \"statistics\" in course_description:\n",
    "    print(\"The description has the word statistics.\")\n",
    "else:\n",
    "    print(\"The description does not have the word statistics.\")"
   ]
  },
  {
   "cell_type": "code",
   "execution_count": 15,
   "id": "08231871",
   "metadata": {},
   "outputs": [
    {
     "name": "stdout",
     "output_type": "stream",
     "text": [
      "The description has the word Python.\n"
     ]
    }
   ],
   "source": [
    "if \"Python\" in course_description:\n",
    "    print(\"The description has the word Python.\")\n",
    "elif \"statistics\" in course_description:\n",
    "    print(\"The description has the word statistics.\")\n",
    "elif \"visualization\" in course_description:\n",
    "    print(\"The description has the word visualization.\")\n",
    "else:\n",
    "    print(\"The description does not have the words:'Python','statistics', 'visualization\")"
   ]
  },
  {
   "cell_type": "markdown",
   "id": "3b44c0aa",
   "metadata": {},
   "source": [
    "# 3"
   ]
  },
  {
   "cell_type": "code",
   "execution_count": 45,
   "id": "6b6a6033",
   "metadata": {},
   "outputs": [
    {
     "name": "stdout",
     "output_type": "stream",
     "text": [
      "cannot multiply a string\n"
     ]
    }
   ],
   "source": [
    "my_variable = \"data\"\n",
    "\"data\" * 3\n",
    "if (my_variable, str):\n",
    "    print (\"cannot multiply a string\")"
   ]
  },
  {
   "cell_type": "code",
   "execution_count": null,
   "id": "beaa499b",
   "metadata": {},
   "outputs": [],
   "source": []
  }
 ],
 "metadata": {
  "kernelspec": {
   "display_name": "Python 3 (ipykernel)",
   "language": "python",
   "name": "python3"
  },
  "language_info": {
   "codemirror_mode": {
    "name": "ipython",
    "version": 3
   },
   "file_extension": ".py",
   "mimetype": "text/x-python",
   "name": "python",
   "nbconvert_exporter": "python",
   "pygments_lexer": "ipython3",
   "version": "3.10.9"
  }
 },
 "nbformat": 4,
 "nbformat_minor": 5
}
