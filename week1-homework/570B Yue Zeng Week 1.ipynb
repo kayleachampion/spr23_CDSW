{
 "cells": [
  {
   "cell_type": "code",
   "execution_count": 1,
   "id": "6c9d768e",
   "metadata": {},
   "outputs": [],
   "source": [
    "cups_of_flour = 2.25\n",
    "cups_of_sugar = 0.5\n",
    "cups_of_butter = 1"
   ]
  },
  {
   "cell_type": "code",
   "execution_count": 5,
   "id": "9d7f080e",
   "metadata": {},
   "outputs": [
    {
     "name": "stdout",
     "output_type": "stream",
     "text": [
      "the total volume is 3.75 cups\n"
     ]
    }
   ],
   "source": [
    "total_volume = cups_of_flour + cups_of_sugar + cups_of_butter \n",
    "print(\"the total volume is %s cups\" % total_volume)"
   ]
  },
  {
   "cell_type": "markdown",
   "id": "ba77ceb9",
   "metadata": {},
   "source": [
    "# 1.1 Compute the total volume"
   ]
  },
  {
   "cell_type": "code",
   "execution_count": 6,
   "id": "bc609fd5",
   "metadata": {},
   "outputs": [
    {
     "name": "stdout",
     "output_type": "stream",
     "text": [
      "the new total volume is 3.75 cups\n"
     ]
    }
   ],
   "source": [
    "number_of_batches = 1 \n",
    "new_total_volume = number_of_batches * total_volume \n",
    "print (\"the new total volume is %s cups\" % new_total_volume)"
   ]
  },
  {
   "cell_type": "code",
   "execution_count": 11,
   "id": "00d16d67",
   "metadata": {},
   "outputs": [
    {
     "name": "stdout",
     "output_type": "stream",
     "text": [
      "the new total volume is 1.875 cups\n"
     ]
    }
   ],
   "source": [
    "number_of_batches = 0.5 \n",
    "new_total_volume = number_of_batches * total_volume\n",
    "print (\"the new total volume is %s cups\" % new_total_volume)"
   ]
  },
  {
   "cell_type": "code",
   "execution_count": 12,
   "id": "092588c1",
   "metadata": {},
   "outputs": [
    {
     "name": "stdout",
     "output_type": "stream",
     "text": [
      "the new total volume is 11.25 cups\n"
     ]
    }
   ],
   "source": [
    "number_of_batches = 3\n",
    "new_total_volume = number_of_batches * total_volume \n",
    "print(\"the new total volume is %s cups\" % new_total_volume)"
   ]
  },
  {
   "cell_type": "code",
   "execution_count": 13,
   "id": "45cd0cc8",
   "metadata": {},
   "outputs": [
    {
     "name": "stdout",
     "output_type": "stream",
     "text": [
      "the new total volume is 18.75 cups\n"
     ]
    }
   ],
   "source": [
    "number_of_batches = 5\n",
    "new_total_volume = number_of_batches * total_volume \n",
    "print(\"the new total volume is %s cups\" % new_total_volume)"
   ]
  },
  {
   "cell_type": "markdown",
   "id": "a5d5b2ad",
   "metadata": {},
   "source": [
    "# 1.2 Scale it up!"
   ]
  },
  {
   "cell_type": "code",
   "execution_count": 15,
   "id": "043cb8e3",
   "metadata": {
    "scrolled": true
   },
   "outputs": [
    {
     "name": "stdout",
     "output_type": "stream",
     "text": [
      "0.500000 total amounts above will fit in 1 pan\n"
     ]
    }
   ],
   "source": [
    "number_of_pans = 1\n",
    "total_hold = number_of_pans * 5\n",
    "number_of_batches = 0.5\n",
    "new_total_volume = number_of_batches * total_volume\n",
    "if total_hold >= new_total_volume:\n",
    "    print(\"%f total amounts above will fit in %d pan\" % (number_of_batches, number_of_pans))\n",
    "else:\n",
    "    print(\"%f total amounts above will not fit in %d pan\" % (number_of_batches, number_of_pans))"
   ]
  },
  {
   "cell_type": "code",
   "execution_count": 18,
   "id": "74622443",
   "metadata": {},
   "outputs": [
    {
     "name": "stdout",
     "output_type": "stream",
     "text": [
      "3.000000 total amounts above will not fit in 1 pan\n"
     ]
    }
   ],
   "source": [
    "number_of_pans = 1\n",
    "total_hold = number_of_pans * 5\n",
    "number_of_batches = 3\n",
    "new_total_volume = number_of_batches * total_volume\n",
    "if total_hold >= new_total_volume:\n",
    "    print(\"%f total amounts above will fit in %d pan\" % (number_of_batches, number_of_pans))\n",
    "else:\n",
    "    print(\"%f total amounts above will not fit in %d pan\" % (number_of_batches, number_of_pans))"
   ]
  },
  {
   "cell_type": "code",
   "execution_count": 21,
   "id": "13499425",
   "metadata": {},
   "outputs": [
    {
     "name": "stdout",
     "output_type": "stream",
     "text": [
      "5.000000 total amounts above will not fit in 1 pan\n"
     ]
    }
   ],
   "source": [
    "number_of_pans = 1\n",
    "total_hold = number_of_pans * 5\n",
    "number_of_batches = 5\n",
    "new_total_volume = number_of_batches * total_volume\n",
    "if total_hold >= new_total_volume:\n",
    "    print(\"%f total amounts above will fit in %d pan\" % (number_of_batches, number_of_pans))\n",
    "else:\n",
    "    print(\"%f total amounts above will not fit in %d pan\" % (number_of_batches, number_of_pans))"
   ]
  },
  {
   "cell_type": "code",
   "execution_count": 22,
   "id": "34d7af6c",
   "metadata": {},
   "outputs": [
    {
     "name": "stdout",
     "output_type": "stream",
     "text": [
      "0.500000 total amounts above will fit in 1 pan\n",
      "3.000000 total amounts above will not fit in 1 pan\n",
      "5.000000 total amounts above will not fit in 1 pan\n",
      "0.500000 total amounts above will fit in 2 pan\n",
      "3.000000 total amounts above will not fit in 2 pan\n",
      "5.000000 total amounts above will not fit in 2 pan\n",
      "0.500000 total amounts above will fit in 3 pan\n",
      "3.000000 total amounts above will fit in 3 pan\n",
      "5.000000 total amounts above will not fit in 3 pan\n"
     ]
    }
   ],
   "source": [
    "for number_of_pans in [1, 2, 3]:\n",
    "    for number_of_batches in [0.5, 3, 5]:\n",
    "        total_hold = number_of_pans * 5\n",
    "        new_total_volume = number_of_batches * total_volume\n",
    "        if total_hold >= new_total_volume:\n",
    "            print(\"%f total amounts above will fit in %d pan\" % (number_of_batches, number_of_pans))\n",
    "        else:\n",
    "            print(\"%f total amounts above will not fit in %d pan\" % (number_of_batches, number_of_pans))"
   ]
  },
  {
   "cell_type": "markdown",
   "id": "56c2a868",
   "metadata": {},
   "source": [
    "# 1.3 Will it fit in my pans?"
   ]
  },
  {
   "cell_type": "code",
   "execution_count": 23,
   "id": "d2915d44",
   "metadata": {},
   "outputs": [
    {
     "name": "stdout",
     "output_type": "stream",
     "text": [
      "There are 581 characters in the course description\n"
     ]
    }
   ],
   "source": [
    "description = \"This course will introduce basic programming and data science tools to give students the skills to use data to read, critique, and produce stories and insights. The class will cover the basics of the Python programming language, acquiring and processing public data, and basic tools and techniques for data analysis and visualization. We will focus on gaining access to data and basic data manipulation rather than complex statistical methods. The class will be built around student-designed independent projects and is targeted at students with no previous programming experience.\"\n",
    "print(\"There are %d characters in the course description\" % len(description))"
   ]
  },
  {
   "cell_type": "markdown",
   "id": "99dfc5af",
   "metadata": {},
   "source": [
    "# 2.1 Just the length"
   ]
  },
  {
   "cell_type": "code",
   "execution_count": 24,
   "id": "c4f8a7ea",
   "metadata": {},
   "outputs": [
    {
     "name": "stdout",
     "output_type": "stream",
     "text": [
      "The course description doesn't contain the word \"python\"\n"
     ]
    }
   ],
   "source": [
    "position = description.find(\"python\")\n",
    "if position >= 0:\n",
    "    print(\"The course description contains the word \\\"python\\\"\")\n",
    "else:\n",
    "    print(\"The course description doesn't contain the word \\\"python\\\"\")"
   ]
  },
  {
   "cell_type": "code",
   "execution_count": 25,
   "id": "eb9181d3",
   "metadata": {},
   "outputs": [
    {
     "name": "stdout",
     "output_type": "stream",
     "text": [
      "The course description doesn't contain the word \"python\" or \"statistics\"\n"
     ]
    }
   ],
   "source": [
    "if description.find(\"python\") >= 0 or description.find(\"statistics\") >= 0:\n",
    "    print(\"The course description contains the word \\\"python\\\" or \\\"statistics\\\"\")\n",
    "else:\n",
    "    print(\"The course description doesn't contain the word \\\"python\\\" or \\\"statistics\\\"\")"
   ]
  },
  {
   "cell_type": "code",
   "execution_count": 26,
   "id": "bdac908a",
   "metadata": {},
   "outputs": [
    {
     "name": "stdout",
     "output_type": "stream",
     "text": [
      "The course description contains any of the words \"python\", \"statistics\", or \"visualization\"\n"
     ]
    }
   ],
   "source": [
    "if description.find(\"python\") >= 0 or description.find(\"statistics\") >= 0 or description.find(\"visualization\") >= 0:\n",
    "    print(\"The course description contains any of the words \\\"python\\\", \\\"statistics\\\", or \\\"visualization\\\"\")\n",
    "else:\n",
    "    print(\"The course description doesn't contain any of the words \\\"python\\\", \\\"statistics\\\", or \\\"visualization\\\"\")"
   ]
  },
  {
   "cell_type": "markdown",
   "id": "2792305f",
   "metadata": {},
   "source": [
    "# 2.2 Looking inside the text"
   ]
  },
  {
   "cell_type": "code",
   "execution_count": 27,
   "id": "7ff7a94c",
   "metadata": {},
   "outputs": [
    {
     "name": "stdout",
     "output_type": "stream",
     "text": [
      "my_variable multiplies 3 is 3.600000\n",
      "it can't multiply something that is not a number.\n"
     ]
    }
   ],
   "source": [
    "my_variable = 1.2\n",
    "if isinstance(my_variable, int) or isinstance(my_variable, float):\n",
    "    print(\"my_variable multiplies 3 is %f\" % (my_variable * 3))\n",
    "else:\n",
    "    print(\"it can't multiply something that is not a number.\")\n",
    "\n",
    "my_variable = \"abc\"\n",
    "if isinstance(my_variable, int) or isinstance(my_variable, float):\n",
    "    print(\"my_variable multiplies 3 is %f\" % (my_variable * 3))\n",
    "else:\n",
    "    print(\"it can't multiply something that is not a number.\")"
   ]
  },
  {
   "cell_type": "markdown",
   "id": "e3930f71",
   "metadata": {},
   "source": [
    "# 3 A program that knows its limits"
   ]
  },
  {
   "cell_type": "code",
   "execution_count": null,
   "id": "ee2c5bd8",
   "metadata": {},
   "outputs": [],
   "source": []
  }
 ],
 "metadata": {
  "kernelspec": {
   "display_name": "Python 3 (ipykernel)",
   "language": "python",
   "name": "python3"
  },
  "language_info": {
   "codemirror_mode": {
    "name": "ipython",
    "version": 3
   },
   "file_extension": ".py",
   "mimetype": "text/x-python",
   "name": "python",
   "nbconvert_exporter": "python",
   "pygments_lexer": "ipython3",
   "version": "3.10.9"
  }
 },
 "nbformat": 4,
 "nbformat_minor": 5
}
