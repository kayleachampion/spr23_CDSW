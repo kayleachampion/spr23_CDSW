{
 "cells": [
  {
   "cell_type": "code",
   "execution_count": null,
   "id": "35b0a4c1",
   "metadata": {},
   "outputs": [],
   "source": [
    "#1 Shortbread"
   ]
  },
  {
   "cell_type": "code",
   "execution_count": null,
   "id": "3515cf62",
   "metadata": {},
   "outputs": [],
   "source": [
    "#1.1 compute the total volume"
   ]
  },
  {
   "cell_type": "code",
   "execution_count": 1,
   "id": "f1e1a638",
   "metadata": {},
   "outputs": [
    {
     "ename": "SyntaxError",
     "evalue": "invalid syntax (457819765.py, line 4)",
     "output_type": "error",
     "traceback": [
      "\u001b[0;36m  Cell \u001b[0;32mIn[1], line 4\u001b[0;36m\u001b[0m\n\u001b[0;31m    the total volume = cups_of_flour + cups_of_sugar + cups_of_butter\u001b[0m\n\u001b[0m        ^\u001b[0m\n\u001b[0;31mSyntaxError\u001b[0m\u001b[0;31m:\u001b[0m invalid syntax\n"
     ]
    }
   ],
   "source": [
    "cups_of_flour = 1.25\n",
    "cups_of_sugar = 0.5\n",
    "cups_of_butter = 1\n",
    "the total volume = cups_of_flour + cups_of_sugar + cups_of_butter\n",
    "print( (the total valume is) + str( the total volume ) + cups )"
   ]
  },
  {
   "cell_type": "code",
   "execution_count": 4,
   "id": "b402e7f9",
   "metadata": {},
   "outputs": [
    {
     "name": "stdout",
     "output_type": "stream",
     "text": [
      "the total valume is 3.75 cups\n"
     ]
    }
   ],
   "source": [
    "cups_of_flour = 2.25\n",
    "cups_of_sugar = 0.5\n",
    "cups_of_butter = 1\n",
    "the_total_volume = cups_of_flour + cups_of_sugar + cups_of_butter\n",
    "print( \"the total valume is \" + str( the_total_volume ) + \" cups\" )"
   ]
  },
  {
   "cell_type": "code",
   "execution_count": null,
   "id": "f903428e",
   "metadata": {},
   "outputs": [],
   "source": [
    "#1.2 Scale it up!"
   ]
  },
  {
   "cell_type": "code",
   "execution_count": 27,
   "id": "a4589143",
   "metadata": {},
   "outputs": [
    {
     "name": "stdout",
     "output_type": "stream",
     "text": [
      "total valume of 1/2 batches is 1.875 cups\n"
     ]
    }
   ],
   "source": [
    "number_of_batches = 1\n",
    "half_0f_batches = 0.5*float(the_total_volume)\n",
    "print((\"total valume of 1/2 batches is \") + str(half_0f_batches) + (\" cups\"))"
   ]
  },
  {
   "cell_type": "code",
   "execution_count": 33,
   "id": "204d9f48",
   "metadata": {},
   "outputs": [
    {
     "name": "stdout",
     "output_type": "stream",
     "text": [
      "total valume of 3 batches is 11.25 cups\n"
     ]
    }
   ],
   "source": [
    "number_of_batches = 3\n",
    "total_0f_batches = int(number_of_batches)*float(the_total_volume)\n",
    "print((\"total valume of 3 batches is \") + str(total_0f_batches) + (\" cups\"))"
   ]
  },
  {
   "cell_type": "code",
   "execution_count": 34,
   "id": "34da611e",
   "metadata": {},
   "outputs": [
    {
     "name": "stdout",
     "output_type": "stream",
     "text": [
      "total valume of 5 batches is 18.75 cups\n"
     ]
    }
   ],
   "source": [
    "number_of_batches = 5\n",
    "total_0f_batches = int(number_of_batches)*float(the_total_volume)\n",
    "print((\"total valume of 5 batches is \") + str(total_0f_batches) + (\" cups\"))"
   ]
  },
  {
   "cell_type": "code",
   "execution_count": null,
   "id": "ba5e30f2",
   "metadata": {},
   "outputs": [],
   "source": [
    "#1.Will it fit in my pans?"
   ]
  },
  {
   "cell_type": "code",
   "execution_count": 45,
   "id": "6ae6abbf",
   "metadata": {},
   "outputs": [
    {
     "name": "stdout",
     "output_type": "stream",
     "text": [
      "it fits in pans\n"
     ]
    }
   ],
   "source": [
    "number_of_batches = 0.5\n",
    "total_0f_batches = float(number_of_batches)*float(the_total_volume)\n",
    "\n",
    "if total_0f_batches <= 15:\n",
    "    print(\"it fits in pans\")\n",
    "elif total_0f_batches > 15:\n",
    "    print(\"it will be too much to fit in any of my pans\")\n",
    "\n",
    "number_of_batches = 0.5"
   ]
  },
  {
   "cell_type": "code",
   "execution_count": 46,
   "id": "dc069e9f",
   "metadata": {},
   "outputs": [
    {
     "name": "stdout",
     "output_type": "stream",
     "text": [
      "it fits in pans\n"
     ]
    }
   ],
   "source": [
    "number_of_batches = 3\n",
    "total_0f_batches = int(number_of_batches)*float(the_total_volume)\n",
    "\n",
    "if total_0f_batches <= 15:\n",
    "    print(\"it fits in pans\")\n",
    "elif total_0f_batches > 15:\n",
    "    print(\"it will be too much to fit in any of my pans\")\n",
    "\n",
    "number_of_batches = 3"
   ]
  },
  {
   "cell_type": "code",
   "execution_count": 47,
   "id": "f9301414",
   "metadata": {},
   "outputs": [
    {
     "name": "stdout",
     "output_type": "stream",
     "text": [
      "it will be too much to fit in any of my pans\n"
     ]
    }
   ],
   "source": [
    "number_of_batches = 5\n",
    "total_0f_batches = int(number_of_batches)*float(the_total_volume)\n",
    "\n",
    "if total_0f_batches <= 15:\n",
    "    print(\"it fits in pans\")\n",
    "elif total_0f_batches > 15:\n",
    "    print(\"it will be too much to fit in any of my pans\")\n",
    "\n",
    "number_0f_batches = 5"
   ]
  },
  {
   "cell_type": "code",
   "execution_count": null,
   "id": "3d1b65e0",
   "metadata": {},
   "outputs": [],
   "source": [
    "# Analyzing the course description"
   ]
  },
  {
   "cell_type": "code",
   "execution_count": null,
   "id": "7654660f",
   "metadata": {},
   "outputs": [],
   "source": [
    "#2.1 Just the length"
   ]
  },
  {
   "cell_type": "code",
   "execution_count": 48,
   "id": "32ccd447",
   "metadata": {},
   "outputs": [
    {
     "data": {
      "text/plain": [
       "581"
      ]
     },
     "execution_count": 48,
     "metadata": {},
     "output_type": "execute_result"
    }
   ],
   "source": [
    "course_description = \"This course will introduce basic programming and data science tools to give students the skills to use data to read, critique, and produce stories and insights. The class will cover the basics of the Python programming language, acquiring and processing public data, and basic tools and techniques for data analysis and visualization. We will focus on gaining access to data and basic data manipulation rather than complex statistical methods. The class will be built around student-designed independent projects and is targeted at students with no previous programming experience.\"\n",
    "len(course_description)"
   ]
  },
  {
   "cell_type": "code",
   "execution_count": null,
   "id": "6ca62abc",
   "metadata": {},
   "outputs": [],
   "source": [
    "#2.2 Looking inside the text"
   ]
  },
  {
   "cell_type": "code",
   "execution_count": 50,
   "id": "f50d69d9",
   "metadata": {},
   "outputs": [
    {
     "data": {
      "text/plain": [
       "581"
      ]
     },
     "execution_count": 50,
     "metadata": {},
     "output_type": "execute_result"
    }
   ],
   "source": [
    "course_description = \"This course will introduce basic programming and data science tools to give students the skills to use data to read, critique, and produce stories and insights. The class will cover the basics of the Python programming language, acquiring and processing public data, and basic tools and techniques for data analysis and visualization. We will focus on gaining access to data and basic data manipulation rather than complex statistical methods. The class will be built around student-designed independent projects and is targeted at students with no previous programming experience.\"\n",
    "len(course_description)"
   ]
  },
  {
   "cell_type": "code",
   "execution_count": 51,
   "id": "a3f3c4eb",
   "metadata": {},
   "outputs": [
    {
     "data": {
      "text/plain": [
       "False"
      ]
     },
     "execution_count": 51,
     "metadata": {},
     "output_type": "execute_result"
    }
   ],
   "source": [
    "\"python\" in course_description"
   ]
  },
  {
   "cell_type": "code",
   "execution_count": 53,
   "id": "39afbef0",
   "metadata": {},
   "outputs": [
    {
     "data": {
      "text/plain": [
       "False"
      ]
     },
     "execution_count": 53,
     "metadata": {},
     "output_type": "execute_result"
    }
   ],
   "source": [
    "\"python\"in course_description or \"statistics\" in course_description"
   ]
  },
  {
   "cell_type": "code",
   "execution_count": 54,
   "id": "2ad1accf",
   "metadata": {},
   "outputs": [
    {
     "data": {
      "text/plain": [
       "True"
      ]
     },
     "execution_count": 54,
     "metadata": {},
     "output_type": "execute_result"
    }
   ],
   "source": [
    "\"python\"in course_description or \"statistics\" in course_description or \"visualization\" in course_description"
   ]
  },
  {
   "cell_type": "code",
   "execution_count": null,
   "id": "001bc6dc",
   "metadata": {},
   "outputs": [],
   "source": [
    "#A program that knows its limits"
   ]
  },
  {
   "cell_type": "code",
   "execution_count": 58,
   "id": "fdf38e02",
   "metadata": {},
   "outputs": [
    {
     "name": "stdout",
     "output_type": "stream",
     "text": [
      "3\n"
     ]
    }
   ],
   "source": [
    "my_variable = 1\n",
    "the_value_of_the_multiplication = my_variable*3\n",
    "print(the_value_of_the_multiplication)"
   ]
  },
  {
   "cell_type": "code",
   "execution_count": 62,
   "id": "490b2044",
   "metadata": {},
   "outputs": [
    {
     "name": "stdout",
     "output_type": "stream",
     "text": [
      "aaa\n"
     ]
    }
   ],
   "source": [
    "my_variable =\n",
    "\"a\"\n",
    "the_value_of_the_multiplication = my_variable*3\n",
    "print(the_value_of_the_multiplication)"
   ]
  },
  {
   "cell_type": "code",
   "execution_count": null,
   "id": "fe60cee8",
   "metadata": {},
   "outputs": [],
   "source": []
  }
 ],
 "metadata": {
  "kernelspec": {
   "display_name": "Python 3 (ipykernel)",
   "language": "python",
   "name": "python3"
  },
  "language_info": {
   "codemirror_mode": {
    "name": "ipython",
    "version": 3
   },
   "file_extension": ".py",
   "mimetype": "text/x-python",
   "name": "python",
   "nbconvert_exporter": "python",
   "pygments_lexer": "ipython3",
   "version": "3.10.9"
  }
 },
 "nbformat": 4,
 "nbformat_minor": 5
}
