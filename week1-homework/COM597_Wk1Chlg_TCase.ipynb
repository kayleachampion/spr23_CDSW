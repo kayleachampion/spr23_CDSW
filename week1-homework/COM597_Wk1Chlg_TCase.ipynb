{
 "cells": [
  {
   "cell_type": "code",
   "execution_count": 25,
   "id": "b1ca456c",
   "metadata": {},
   "outputs": [],
   "source": [
    "cups_of_flour = 2.25\n",
    "cups_of_sugar = 0.5\n",
    "cups_of_butter = 1"
   ]
  },
  {
   "cell_type": "markdown",
   "id": "61442502",
   "metadata": {},
   "source": [
    "#1.1 variables"
   ]
  },
  {
   "cell_type": "code",
   "execution_count": 26,
   "id": "5c1f794f",
   "metadata": {
    "scrolled": true
   },
   "outputs": [
    {
     "name": "stdout",
     "output_type": "stream",
     "text": [
      "3.75\n"
     ]
    }
   ],
   "source": [
    "total_volume = cups_of_flour + cups_of_sugar + cups_of_butter\n",
    "print(total_volume)"
   ]
  },
  {
   "cell_type": "markdown",
   "id": "88a7031f",
   "metadata": {},
   "source": [
    "#1.1 total volume"
   ]
  },
  {
   "cell_type": "code",
   "execution_count": 27,
   "id": "9e4ec5bb",
   "metadata": {},
   "outputs": [],
   "source": [
    "number_of_batches = 0.5"
   ]
  },
  {
   "cell_type": "code",
   "execution_count": 28,
   "id": "ae15cd83",
   "metadata": {},
   "outputs": [
    {
     "name": "stdout",
     "output_type": "stream",
     "text": [
      "1.875\n"
     ]
    }
   ],
   "source": [
    "print(number_of_batches * total_volume)"
   ]
  },
  {
   "cell_type": "markdown",
   "id": "ee7052cc",
   "metadata": {},
   "source": [
    "#1.2 half batch"
   ]
  },
  {
   "cell_type": "code",
   "execution_count": 29,
   "id": "8d9198f3",
   "metadata": {},
   "outputs": [],
   "source": [
    "number_of_batches = 3"
   ]
  },
  {
   "cell_type": "code",
   "execution_count": 30,
   "id": "472c7ee7",
   "metadata": {},
   "outputs": [
    {
     "name": "stdout",
     "output_type": "stream",
     "text": [
      "11.25\n"
     ]
    }
   ],
   "source": [
    "print(number_of_batches * total_volume)"
   ]
  },
  {
   "cell_type": "markdown",
   "id": "ef78adec",
   "metadata": {},
   "source": [
    "#1.2 triple batch"
   ]
  },
  {
   "cell_type": "code",
   "execution_count": 31,
   "id": "faf58dca",
   "metadata": {},
   "outputs": [],
   "source": [
    "number_of_batches = 5"
   ]
  },
  {
   "cell_type": "code",
   "execution_count": 32,
   "id": "28c1597f",
   "metadata": {
    "scrolled": true
   },
   "outputs": [
    {
     "name": "stdout",
     "output_type": "stream",
     "text": [
      "18.75\n"
     ]
    }
   ],
   "source": [
    "print(number_of_batches * total_volume)"
   ]
  },
  {
   "cell_type": "markdown",
   "id": "66e845ac",
   "metadata": {},
   "source": [
    "#1.2 quintuple batch"
   ]
  },
  {
   "cell_type": "code",
   "execution_count": 33,
   "id": "b288bdac",
   "metadata": {},
   "outputs": [],
   "source": [
    "half_batch = 1.875\n",
    "triple_batch = 11.25\n",
    "quintuple_batch = 18.75"
   ]
  },
  {
   "cell_type": "markdown",
   "id": "91f92e3f",
   "metadata": {},
   "source": [
    "#1.3 batch variables"
   ]
  },
  {
   "cell_type": "code",
   "execution_count": 34,
   "id": "3a40028f",
   "metadata": {
    "scrolled": true
   },
   "outputs": [
    {
     "name": "stdout",
     "output_type": "stream",
     "text": [
      "The current batch will fit in one pan!\n"
     ]
    }
   ],
   "source": [
    "current_batch = half_batch\n",
    "if current_batch <= 5:\n",
    "    print(\"The current batch will fit in one pan!\")\n",
    "elif current_batch <= 10:\n",
    "    print(\"The current batch will fit in two pans!\")\n",
    "elif current_batch <= 15:\n",
    "    print(\"The current batch will fit in three pans!\")\n",
    "elif current_batch > 15:\n",
    "    print(\"The current batch will be too much to fit in any of my pans!\")"
   ]
  },
  {
   "cell_type": "code",
   "execution_count": 35,
   "id": "f15f11b0",
   "metadata": {
    "scrolled": true
   },
   "outputs": [
    {
     "name": "stdout",
     "output_type": "stream",
     "text": [
      "The current batch will fit in one pan!\n"
     ]
    }
   ],
   "source": [
    "current_batch = half_batch\n",
    "if current_batch <= 5:\n",
    "    print(\"The current batch will fit in one pan!\")\n",
    "elif current_batch <= 10:\n",
    "    print(\"The current batch will fit in two pans!\")\n",
    "elif current_batch <= 15:\n",
    "    print(\"The current batch will fit in three pans!\")\n",
    "else:\n",
    "    print(\"The current batch will be too much to fit in any of my pans!\")"
   ]
  },
  {
   "cell_type": "code",
   "execution_count": 36,
   "id": "d35e7de7",
   "metadata": {
    "scrolled": true
   },
   "outputs": [
    {
     "name": "stdout",
     "output_type": "stream",
     "text": [
      "The current batch will fit in three pans!\n"
     ]
    }
   ],
   "source": [
    "current_batch = triple_batch\n",
    "if current_batch <= 5:\n",
    "    print(\"The current batch will fit in one pan!\")\n",
    "elif current_batch <= 10:\n",
    "    print(\"The current batch will fit in two pans!\")\n",
    "elif current_batch <= 15:\n",
    "    print(\"The current batch will fit in three pans!\")\n",
    "elif current_batch > 15:\n",
    "    print(\"The current batch will be too much to fit in any of my pans!\")"
   ]
  },
  {
   "cell_type": "code",
   "execution_count": 37,
   "id": "5047b8f1",
   "metadata": {
    "scrolled": true
   },
   "outputs": [
    {
     "name": "stdout",
     "output_type": "stream",
     "text": [
      "The current batch will fit in three pans!\n"
     ]
    }
   ],
   "source": [
    "current_batch = triple_batch\n",
    "if current_batch <= 5:\n",
    "    print(\"The current batch will fit in one pan!\")\n",
    "elif current_batch <= 10:\n",
    "    print(\"The current batch will fit in two pans!\")\n",
    "elif current_batch <= 15:\n",
    "    print(\"The current batch will fit in three pans!\")\n",
    "else:\n",
    "    print(\"The current batch will be too much to fit in any of my pans!\")"
   ]
  },
  {
   "cell_type": "code",
   "execution_count": 38,
   "id": "787ed7b8",
   "metadata": {
    "scrolled": true
   },
   "outputs": [
    {
     "name": "stdout",
     "output_type": "stream",
     "text": [
      "The current batch will be too much to fit in any of my pans!\n"
     ]
    }
   ],
   "source": [
    "current_batch = quintuple_batch\n",
    "if current_batch <= 5:\n",
    "    print(\"The current batch will fit in one pan!\")\n",
    "elif current_batch <= 10:\n",
    "    print(\"The current batch will fit in two pans!\")\n",
    "elif current_batch <= 15:\n",
    "    print(\"The current batch will fit in three pans!\")\n",
    "elif current_batch > 15:\n",
    "    print(\"The current batch will be too much to fit in any of my pans!\")"
   ]
  },
  {
   "cell_type": "code",
   "execution_count": 39,
   "id": "17b5da85",
   "metadata": {
    "scrolled": true
   },
   "outputs": [
    {
     "name": "stdout",
     "output_type": "stream",
     "text": [
      "The current batch will be too much to fit in any of my pans!\n"
     ]
    }
   ],
   "source": [
    "current_batch = quintuple_batch\n",
    "if current_batch <= 5:\n",
    "    print(\"The current batch will fit in one pan!\")\n",
    "elif current_batch <= 10:\n",
    "    print(\"The current batch will fit in two pans!\")\n",
    "elif current_batch <= 15:\n",
    "    print(\"The current batch will fit in three pans!\")\n",
    "else:\n",
    "    print(\"The current batch will be too much to fit in any of my pans!\")"
   ]
  },
  {
   "cell_type": "markdown",
   "id": "0883667f",
   "metadata": {},
   "source": [
    "#1.3 pan fits"
   ]
  },
  {
   "cell_type": "markdown",
   "id": "7532788b",
   "metadata": {},
   "source": [
    "--break--"
   ]
  },
  {
   "cell_type": "code",
   "execution_count": 40,
   "id": "b2aab3a6",
   "metadata": {},
   "outputs": [],
   "source": [
    "course_description = \"This course will introduce basic programming and data science tools to give students the skills to use data to read, critique, and produce stories and insights. The class will cover the basics of the Python programming language, acquiring and processing public data, and basic tools and techniques for data analysis and visualization. We will focus on gaining access to data and basic data manipulation rather than complex statistical methods. The class will be built around student-designed independent projects and is targeted at students with no previous programming experience.\""
   ]
  },
  {
   "cell_type": "code",
   "execution_count": 41,
   "id": "f29665bb",
   "metadata": {},
   "outputs": [
    {
     "data": {
      "text/plain": [
       "581"
      ]
     },
     "execution_count": 41,
     "metadata": {},
     "output_type": "execute_result"
    }
   ],
   "source": [
    "len(course_description)"
   ]
  },
  {
   "cell_type": "markdown",
   "id": "24c62818",
   "metadata": {},
   "source": [
    "#2.1 characters"
   ]
  },
  {
   "cell_type": "code",
   "execution_count": 42,
   "id": "76c12da8",
   "metadata": {},
   "outputs": [
    {
     "data": {
      "text/plain": [
       "False"
      ]
     },
     "execution_count": 42,
     "metadata": {},
     "output_type": "execute_result"
    }
   ],
   "source": [
    "\"python\" in course_description"
   ]
  },
  {
   "cell_type": "code",
   "execution_count": 43,
   "id": "bf64ffd6",
   "metadata": {
    "scrolled": true
   },
   "outputs": [
    {
     "data": {
      "text/plain": [
       "True"
      ]
     },
     "execution_count": 43,
     "metadata": {},
     "output_type": "execute_result"
    }
   ],
   "source": [
    "\"Python\" in course_description"
   ]
  },
  {
   "cell_type": "markdown",
   "id": "a3415b1b",
   "metadata": {},
   "source": [
    "#2.2 P1 (case sensitivity)"
   ]
  },
  {
   "cell_type": "code",
   "execution_count": 51,
   "id": "3294ed8d",
   "metadata": {},
   "outputs": [
    {
     "data": {
      "text/plain": [
       "False"
      ]
     },
     "execution_count": 51,
     "metadata": {},
     "output_type": "execute_result"
    }
   ],
   "source": [
    "\"statistics\" in course_description"
   ]
  },
  {
   "cell_type": "code",
   "execution_count": 45,
   "id": "432bc042",
   "metadata": {},
   "outputs": [
    {
     "data": {
      "text/plain": [
       "True"
      ]
     },
     "execution_count": 45,
     "metadata": {},
     "output_type": "execute_result"
    }
   ],
   "source": [
    "(\"Python\" in course_description) or (\"statistics\" in course_description)"
   ]
  },
  {
   "cell_type": "markdown",
   "id": "d20cb4bb",
   "metadata": {},
   "source": [
    "#2.2 P2"
   ]
  },
  {
   "cell_type": "code",
   "execution_count": 46,
   "id": "6e9ac66e",
   "metadata": {},
   "outputs": [
    {
     "data": {
      "text/plain": [
       "True"
      ]
     },
     "execution_count": 46,
     "metadata": {},
     "output_type": "execute_result"
    }
   ],
   "source": [
    "(\"Python\" in course_description) or (\"statistics\" in course_description) or (\"visualization\" in course_description)"
   ]
  },
  {
   "cell_type": "markdown",
   "id": "19d29cf5",
   "metadata": {},
   "source": [
    "#2.2 P3"
   ]
  },
  {
   "cell_type": "markdown",
   "id": "5563f2cd",
   "metadata": {},
   "source": [
    "--break--"
   ]
  },
  {
   "cell_type": "code",
   "execution_count": 47,
   "id": "9162a2fc",
   "metadata": {},
   "outputs": [
    {
     "name": "stdout",
     "output_type": "stream",
     "text": [
      "<class 'int'>\n",
      "66\n"
     ]
    }
   ],
   "source": [
    "my_variable = 22\n",
    "print(type(my_variable))\n",
    "if type(my_variable) == (int):\n",
    "    print(my_variable * 3)\n",
    "elif type(my_variable) == (float):\n",
    "    print(my_variable * 3)\n",
    "elif type(my_variable) == (complex):\n",
    "    print(my_variable * 3)\n",
    "else:\n",
    "    print(\"Error: Cannot multiply non-numbers\")"
   ]
  },
  {
   "cell_type": "code",
   "execution_count": 48,
   "id": "dd25024c",
   "metadata": {},
   "outputs": [
    {
     "name": "stdout",
     "output_type": "stream",
     "text": [
      "<class 'str'>\n",
      "Error: Cannot multiply non-numbers\n"
     ]
    }
   ],
   "source": [
    "my_variable = \"I am annoyed by Python rn! \"\n",
    "print(type(my_variable))\n",
    "if type(my_variable) == (int):\n",
    "    print(my_variable * 3)\n",
    "elif type(my_variable) == (float):\n",
    "    print(my_variable * 3)\n",
    "elif type(my_variable) == (complex):\n",
    "    print(my_variable * 3)\n",
    "else:\n",
    "    print(\"Error: Cannot multiply non-numbers\")"
   ]
  },
  {
   "cell_type": "markdown",
   "id": "1519c708",
   "metadata": {},
   "source": [
    "#3"
   ]
  }
 ],
 "metadata": {
  "kernelspec": {
   "display_name": "Python 3 (ipykernel)",
   "language": "python",
   "name": "python3"
  },
  "language_info": {
   "codemirror_mode": {
    "name": "ipython",
    "version": 3
   },
   "file_extension": ".py",
   "mimetype": "text/x-python",
   "name": "python",
   "nbconvert_exporter": "python",
   "pygments_lexer": "ipython3",
   "version": "3.10.9"
  }
 },
 "nbformat": 4,
 "nbformat_minor": 5
}
