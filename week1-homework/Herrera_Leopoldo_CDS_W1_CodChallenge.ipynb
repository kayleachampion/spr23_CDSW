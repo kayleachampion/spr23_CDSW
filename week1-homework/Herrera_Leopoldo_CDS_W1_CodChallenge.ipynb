{
 "cells": [
  {
   "cell_type": "code",
   "execution_count": 3,
   "id": "01225a39",
   "metadata": {},
   "outputs": [
    {
     "name": "stdout",
     "output_type": "stream",
     "text": [
      "the total volume is 3.75 cups\n"
     ]
    }
   ],
   "source": [
    "formatted string Py 3.6\n",
    "cups_of_flour = 2.25\n",
    "cups_of_sugar = 0.5\n",
    "cups_of_butter = 1.0\n",
    "total_volume = cups_of_flour + cups_of_sugar + cups_of_butter\n",
    "print(f\"the total volume is {total_volume} cups\")"
   ]
  },
  {
   "cell_type": "code",
   "execution_count": 10,
   "id": "61ab804e",
   "metadata": {},
   "outputs": [
    {
     "name": "stdout",
     "output_type": "stream",
     "text": [
      " The total volume is 3.75 cups \n"
     ]
    }
   ],
   "source": [
    "python\n",
    "cups_of_flour = 2.25\n",
    "cups_of_sugar = 0.5\n",
    "cups_of_butter = 1.0\n",
    "total_volume = cups_of_flour + cups_of_sugar + cups_of_butter\n",
    "print (\" The total volume is \" + str (total_volume) + \" cups \")"
   ]
  },
  {
   "cell_type": "code",
   "execution_count": 11,
   "id": "23c1c0a5",
   "metadata": {},
   "outputs": [
    {
     "name": "stdout",
     "output_type": "stream",
     "text": [
      "the total volume is 3.75 cups\n"
     ]
    }
   ],
   "source": [
    "perl % operator\n",
    "cups_of_flour = 2.25\n",
    "cups_of_sugar = 0.5\n",
    "cups_of_butter = 1.0\n",
    "total_volume = cups_of_flour + cups_of_sugar + cups_of_butter\n",
    "print(\"the total volume is %s cups\" % total_volume)"
   ]
  },
  {
   "cell_type": "code",
   "execution_count": 12,
   "id": "b54abc68",
   "metadata": {},
   "outputs": [
    {
     "name": "stdout",
     "output_type": "stream",
     "text": [
      "the total volume of 1 batch(es) is 3.75 cups\n"
     ]
    }
   ],
   "source": [
    "number_of_batches = 1 \n",
    "total_volume_per_batch = total_volume * number_of_batches\n",
    "print(f\"the total volume of {number_of_batches} batch(es) is {total_volume_per_batch} cups\")"
   ]
  },
  {
   "cell_type": "code",
   "execution_count": 13,
   "id": "f6595ca6",
   "metadata": {},
   "outputs": [
    {
     "name": "stdout",
     "output_type": "stream",
     "text": [
      "the total volume of 0.5 batch(es) is 1.875 cups\n"
     ]
    }
   ],
   "source": [
    "number_of_batches = 0.5 \n",
    "total_volume_per_batch = total_volume * number_of_batches\n",
    "print(f\"the total volume of {number_of_batches} batch(es) is {total_volume_per_batch} cups\")"
   ]
  },
  {
   "cell_type": "code",
   "execution_count": 14,
   "id": "8c00b18b",
   "metadata": {},
   "outputs": [
    {
     "name": "stdout",
     "output_type": "stream",
     "text": [
      "the total volume of 3 batch(es) is 11.25 cups\n"
     ]
    }
   ],
   "source": [
    "number_of_batches = 3 \n",
    "total_volume_per_batch = total_volume * number_of_batches\n",
    "print(f\"the total volume of {number_of_batches} batch(es) is {total_volume_per_batch} cups\")"
   ]
  },
  {
   "cell_type": "code",
   "execution_count": 15,
   "id": "1aee60dc",
   "metadata": {},
   "outputs": [
    {
     "name": "stdout",
     "output_type": "stream",
     "text": [
      "the total volume of 5 batch(es) is 18.75 cups\n"
     ]
    }
   ],
   "source": [
    "number_of_batches = 5 \n",
    "total_volume_per_batch = total_volume * number_of_batches\n",
    "print(f\"the total volume of {number_of_batches} batch(es) is {total_volume_per_batch} cups\")"
   ]
  },
  {
   "cell_type": "code",
   "execution_count": 19,
   "id": "ca969b2d",
   "metadata": {},
   "outputs": [
    {
     "name": "stdout",
     "output_type": "stream",
     "text": [
      "Half a batch will fit in one pan\n",
      "Three batches will fit in three pans\n",
      "Five batches are too much to fit in any number of pans\n"
     ]
    }
   ],
   "source": [
    "pan_capacity = 5\n",
    "total_volume_half_batch = total_volume * 0.5\n",
    "total_volume_3_batches = total_volume * 3\n",
    "total_volume_5_batches = total_volume * 5\n",
    "\n",
    "if total_volume_half_batch <= pan_capacity:\n",
    "    print (\"Half a batch will fit in one pan\")\n",
    "else:\n",
    "    print (\"Half a batch is too much to fit in one pan\")\n",
    "    \n",
    "if total_volume_3_batches <= (2 * pan_capacity) :\n",
    "    print (\"Three batches will fit in two pans\")\n",
    "\n",
    "elif total_volume_3_batches <= (3 * pan_capacity) :\n",
    "    print (\"Three batches will fit in three pans\")\n",
    "\n",
    "else: \n",
    "    print (\"three batches are too much to fit in any number of pans\")\n",
    "\n",
    "if total_volume_5_batches <= (3 * pan_capacity):\n",
    "    print ( \"Five batches will fit in three pans\")\n",
    "else:\n",
    "    print ( \"Five batches are too much to fit in any number of pans\")"
   ]
  },
  {
   "cell_type": "code",
   "execution_count": 20,
   "id": "29e1c552",
   "metadata": {},
   "outputs": [
    {
     "name": "stdout",
     "output_type": "stream",
     "text": [
      "581\n"
     ]
    }
   ],
   "source": [
    "course_description = \"This course will introduce basic programming and data science tools to give students the skills to use data to read, critique, and produce stories and insights. The class will cover the basics of the Python programming language, acquiring and processing public data, and basic tools and techniques for data analysis and visualization. We will focus on gaining access to data and basic data manipulation rather than complex statistical methods. The class will be built around student-designed independent projects and is targeted at students with no previous programming experience.\"\n",
    "description_length = len(course_description)\n",
    "print(description_length) "
   ]
  },
  {
   "cell_type": "code",
   "execution_count": 28,
   "id": "03ad3406",
   "metadata": {},
   "outputs": [
    {
     "name": "stdout",
     "output_type": "stream",
     "text": [
      "This course will be based on Python.. You will need it\n",
      "The course description contains either 'Python' or 'Statistics'.\n",
      "The course description contains at least one of the words 'python', 'statistics', or 'visualization'.\n"
     ]
    }
   ],
   "source": [
    "course_description = \"This course will introduce basic programming and data science tools to give students the skills to use data to read, critique, and produce stories and insights. The class will cover the basics of the Python programming language, acquiring and processing public data, and basic tools and techniques for data analysis and visualization. We will focus on gaining access to data and basic data manipulation rather than complex statistical methods. The class will be built around student-designed independent projects and is targeted at students with no previous programming experience.\"\n",
    "\n",
    "if \"Python\" in course_description:\n",
    "    print (\"This course will be based on Python.. You will need it\")\n",
    "else:\n",
    "    print (\"The course description does not contain the word 'Python'.\")\n",
    "if \"Python\" in course_description or \"Statistics\" in course_description :\n",
    "    print (\"The course description contains either 'Python' or 'Statistics'.\")\n",
    "else:\n",
    "    print (\"The course description does not contain the word 'Python' or 'Statistics'.\")\n",
    "\n",
    "if any(word in course_description for word in [\"Python\", \"statistics\", \"visualisation\"]): \n",
    "   print (\"The course description contains at least one of the words 'python', 'statistics', or 'visualization'.\")\n",
    "else:\n",
    "    print (\"The course description does not contain any of the words 'python', 'statistics', or 'visualization'.\")\n",
    "    "
   ]
  },
  {
   "cell_type": "code",
   "execution_count": 32,
   "id": "ad97ff4b",
   "metadata": {},
   "outputs": [
    {
     "name": "stdout",
     "output_type": "stream",
     "text": [
      "error: cannnot multiple non numeric lalala\n"
     ]
    }
   ],
   "source": [
    "my_variable = \"lalala\"\n",
    "if isinstance (my_variable, (int, float)):\n",
    "    print (my_variable * 3)\n",
    "else:\n",
    "    print (\"error: cannnot multiple non numeric lalala\")"
   ]
  },
  {
   "cell_type": "code",
   "execution_count": 33,
   "id": "d1fb763a",
   "metadata": {},
   "outputs": [
    {
     "name": "stdout",
     "output_type": "stream",
     "text": [
      "75\n"
     ]
    }
   ],
   "source": [
    "my_variable = 25 \n",
    "print (my_variable * 3)"
   ]
  },
  {
   "cell_type": "code",
   "execution_count": null,
   "id": "ec5f0a3c",
   "metadata": {},
   "outputs": [],
   "source": []
  }
 ],
 "metadata": {
  "kernelspec": {
   "display_name": "Python 3 (ipykernel)",
   "language": "python",
   "name": "python3"
  },
  "language_info": {
   "codemirror_mode": {
    "name": "ipython",
    "version": 3
   },
   "file_extension": ".py",
   "mimetype": "text/x-python",
   "name": "python",
   "nbconvert_exporter": "python",
   "pygments_lexer": "ipython3",
   "version": "3.10.9"
  }
 },
 "nbformat": 4,
 "nbformat_minor": 5
}
