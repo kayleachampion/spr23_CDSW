{
 "cells": [
  {
   "cell_type": "code",
   "execution_count": 1,
   "id": "c5a77b8b",
   "metadata": {},
   "outputs": [],
   "source": [
    "from scrabble import wordlist"
   ]
  },
  {
   "cell_type": "code",
   "execution_count": 2,
   "id": "127b69a9",
   "metadata": {
    "scrolled": true
   },
   "outputs": [
    {
     "data": {
      "text/plain": [
       "list"
      ]
     },
     "execution_count": 2,
     "metadata": {},
     "output_type": "execute_result"
    }
   ],
   "source": [
    "type(wordlist)"
   ]
  },
  {
   "cell_type": "code",
   "execution_count": null,
   "id": "86dda7d6",
   "metadata": {},
   "outputs": [],
   "source": [
    "#1 Alls well that ends well"
   ]
  },
  {
   "cell_type": "code",
   "execution_count": 37,
   "id": "b78d5a50",
   "metadata": {
    "scrolled": true
   },
   "outputs": [
    {
     "name": "stdout",
     "output_type": "stream",
     "text": [
      "bridewell\n",
      "drywell\n",
      "dwell\n",
      "farewell\n",
      "footwell\n",
      "gromwell\n",
      "groundswell\n",
      "indwell\n",
      "inkwell\n",
      "maxwell\n",
      "newell\n",
      "outdwell\n",
      "outswell\n",
      "outwell\n",
      "overswell\n",
      "pinswell\n",
      "speedwell\n",
      "stairwell\n",
      "swell\n",
      "unwell\n",
      "upswell\n",
      "upwell\n",
      "well\n"
     ]
    }
   ],
   "source": [
    "#Find and print the words that end in \"well\" and be \n",
    "#ready to tell me how many there are.\n",
    "for word in wordlist:\n",
    "    if word[-4:] == 'well':\n",
    "        print(word)"
   ]
  },
  {
   "cell_type": "code",
   "execution_count": 38,
   "id": "b9ee2a99",
   "metadata": {},
   "outputs": [
    {
     "name": "stdout",
     "output_type": "stream",
     "text": [
      "daydreamt\n",
      "dreamt\n",
      "outdreamt\n",
      "redreamt\n",
      "undreamt\n"
     ]
    }
   ],
   "source": [
    "#How about \"mt\"?\n",
    "for word in wordlist:\n",
    "    if word[-2:] == 'mt':\n",
    "        print(word)"
   ]
  },
  {
   "cell_type": "code",
   "execution_count": 39,
   "id": "e4fa6e7a",
   "metadata": {},
   "outputs": [
    {
     "name": "stdout",
     "output_type": "stream",
     "text": [
      "aggry\n",
      "ahungry\n",
      "angry\n",
      "hungry\n",
      "puggry\n"
     ]
    }
   ],
   "source": [
    "#How about \"gry\"?\n",
    "for word in wordlist:\n",
    "    if word[-3:] == 'gry':\n",
    "        print(word)"
   ]
  },
  {
   "cell_type": "code",
   "execution_count": 36,
   "id": "2a4e9e5e",
   "metadata": {},
   "outputs": [],
   "source": [
    "#2 Counting vowels"
   ]
  },
  {
   "cell_type": "code",
   "execution_count": 52,
   "id": "cb6ddd90",
   "metadata": {},
   "outputs": [
    {
     "name": "stdout",
     "output_type": "stream",
     "text": [
      " a has 15723 words.\n"
     ]
    }
   ],
   "source": [
    "#How many words start with each vowel? \n",
    "#Which is the most common vowel to find at the \n",
    "#beginning of a word?\n",
    "\n",
    "vowel = \"a\"\n",
    "\n",
    "matches = []\n",
    "for word in wordlist:\n",
    "    if word[0] == vowel:\n",
    "        matches.append(word)\n",
    "len(matches)\n",
    "print (f\" {vowel} has {len(matches)} words.\") "
   ]
  },
  {
   "cell_type": "code",
   "execution_count": 53,
   "id": "73d03073",
   "metadata": {},
   "outputs": [
    {
     "name": "stdout",
     "output_type": "stream",
     "text": [
      " e has 11030 words.\n"
     ]
    }
   ],
   "source": [
    "vowel = \"e\"\n",
    "\n",
    "matches = []\n",
    "for word in wordlist:\n",
    "    if word[0] == vowel:\n",
    "        matches.append(word)\n",
    "len(matches)\n",
    "print (f\" {vowel} has {len(matches)} words.\") "
   ]
  },
  {
   "cell_type": "code",
   "execution_count": 54,
   "id": "49fe6c8e",
   "metadata": {},
   "outputs": [
    {
     "name": "stdout",
     "output_type": "stream",
     "text": [
      " i has 9390 words.\n"
     ]
    }
   ],
   "source": [
    "vowel = \"i\"\n",
    "\n",
    "matches = []\n",
    "for word in wordlist:\n",
    "    if word[0] == vowel:\n",
    "        matches.append(word)\n",
    "len(matches)\n",
    "print (f\" {vowel} has {len(matches)} words.\") "
   ]
  },
  {
   "cell_type": "code",
   "execution_count": 55,
   "id": "5c3aed60",
   "metadata": {},
   "outputs": [
    {
     "name": "stdout",
     "output_type": "stream",
     "text": [
      " o has 8604 words.\n"
     ]
    }
   ],
   "source": [
    "vowel = \"o\"\n",
    "\n",
    "matches = []\n",
    "for word in wordlist:\n",
    "    if word[0] == vowel:\n",
    "        matches.append(word)\n",
    "len(matches)\n",
    "print (f\" {vowel} has {len(matches)} words.\") "
   ]
  },
  {
   "cell_type": "code",
   "execution_count": 56,
   "id": "b3e47ff1",
   "metadata": {},
   "outputs": [
    {
     "name": "stdout",
     "output_type": "stream",
     "text": [
      " u has 9070 words.\n"
     ]
    }
   ],
   "source": [
    "vowel = \"u\"\n",
    "\n",
    "matches = []\n",
    "for word in wordlist:\n",
    "    if word[0] == vowel:\n",
    "        matches.append(word)\n",
    "len(matches)\n",
    "print (f\" {vowel} has {len(matches)} words.\") "
   ]
  },
  {
   "cell_type": "code",
   "execution_count": null,
   "id": "22cf5059",
   "metadata": {},
   "outputs": [],
   "source": [
    "#A is the most common vowel to find at the beginning of a word"
   ]
  },
  {
   "cell_type": "code",
   "execution_count": 59,
   "id": "af241500",
   "metadata": {},
   "outputs": [
    {
     "name": "stdout",
     "output_type": "stream",
     "text": [
      "There are 5312 words that end with a.\n"
     ]
    }
   ],
   "source": [
    "#Which is the most common vowel to find at the end of a word?\n",
    "vowel = \"a\"\n",
    "\n",
    "matches = []\n",
    "for word in wordlist:\n",
    "    if word[-1] == vowel:\n",
    "        matches.append(word)\n",
    "len(matches)\n",
    "print (f\"There are {len(matches)} words that end with {vowel}.\") "
   ]
  },
  {
   "cell_type": "code",
   "execution_count": 60,
   "id": "23089906",
   "metadata": {},
   "outputs": [
    {
     "name": "stdout",
     "output_type": "stream",
     "text": [
      "There are 27350 words that end with e.\n"
     ]
    }
   ],
   "source": [
    "vowel = \"e\"\n",
    "\n",
    "matches = []\n",
    "for word in wordlist:\n",
    "    if word[-1] == vowel:\n",
    "        matches.append(word)\n",
    "len(matches)\n",
    "print (f\"There are {len(matches)} words that end with {vowel}.\") "
   ]
  },
  {
   "cell_type": "code",
   "execution_count": 61,
   "id": "e9910db2",
   "metadata": {},
   "outputs": [
    {
     "name": "stdout",
     "output_type": "stream",
     "text": [
      "There are 1474 words that end with i.\n"
     ]
    }
   ],
   "source": [
    "vowel = \"i\"\n",
    "\n",
    "matches = []\n",
    "for word in wordlist:\n",
    "    if word[-1] == vowel:\n",
    "        matches.append(word)\n",
    "len(matches)\n",
    "print (f\"There are {len(matches)} words that end with {vowel}.\") "
   ]
  },
  {
   "cell_type": "code",
   "execution_count": 63,
   "id": "428236dd",
   "metadata": {},
   "outputs": [
    {
     "name": "stdout",
     "output_type": "stream",
     "text": [
      "There are 1783 words that end with o.\n"
     ]
    }
   ],
   "source": [
    "vowel = \"o\"\n",
    "\n",
    "matches = []\n",
    "for word in wordlist:\n",
    "    if word[-1] == vowel:\n",
    "        matches.append(word)\n",
    "len(matches)\n",
    "print (f\"There are {len(matches)} words that end with {vowel}.\") "
   ]
  },
  {
   "cell_type": "code",
   "execution_count": 64,
   "id": "d52b50f3",
   "metadata": {},
   "outputs": [
    {
     "name": "stdout",
     "output_type": "stream",
     "text": [
      "There are 354 words that end with u.\n"
     ]
    }
   ],
   "source": [
    "vowel = \"a\"\n",
    "\n",
    "matches = []\n",
    "for word in wordlist:\n",
    "    if word[-1] == vowel:\n",
    "        matches.append(word)\n",
    "len(matches)\n",
    "print (f\"There are {len(matches)} words that end with {vowel}.\") "
   ]
  },
  {
   "cell_type": "code",
   "execution_count": 65,
   "id": "c6bcdcf7",
   "metadata": {},
   "outputs": [],
   "source": [
    "#e is the most common vowel found at the end of a word"
   ]
  },
  {
   "cell_type": "code",
   "execution_count": 99,
   "id": "3f545fc2",
   "metadata": {},
   "outputs": [
    {
     "name": "stdout",
     "output_type": "stream",
     "text": [
      "abstemious\n",
      "abstemiously\n",
      "abstemiousness\n",
      "abstentious\n",
      "adventitious\n",
      "adventitiously\n",
      "amentiferous\n",
      "antenniferous\n",
      "arenicolous\n",
      "argentiferous\n",
      "arsenious\n",
      "arteriovenous\n",
      "asclepiadaceous\n",
      "bacteriophagous\n",
      "caesious\n",
      "cavernicolous\n",
      "chaetiferous\n",
      "facetious\n",
      "facetiously\n",
      "facetiousness\n",
      "facetiousnesses\n",
      "flagelliferous\n",
      "garnetiferous\n",
      "halfseriously\n",
      "hamamelidaceous\n",
      "lateritious\n",
      "parecious\n",
      "sarraceniaceous\n",
      "valerianaceous\n"
     ]
    }
   ],
   "source": [
    "#Find and print all the words that have all \n",
    "#5 vowels in alphabetical order.\n",
    "\n",
    "for word in wordlist:\n",
    "    vowels = []\n",
    "    for letter in word:\n",
    "        if letter in \"aeiou\":\n",
    "            if not vowels or letter > vowels[-1]:\n",
    "                vowels.append(letter)\n",
    "    \n",
    "    if len(vowels) == 5 and vowels == list(\"aeiou\"):\n",
    "        print(word)"
   ]
  },
  {
   "cell_type": "code",
   "execution_count": null,
   "id": "3ffd2c85",
   "metadata": {},
   "outputs": [],
   "source": [
    "#3 Disemvoweled"
   ]
  },
  {
   "cell_type": "code",
   "execution_count": 97,
   "id": "65eaa5a4",
   "metadata": {},
   "outputs": [
    {
     "name": "stdout",
     "output_type": "stream",
     "text": [
      "The longest word without vowels is: glycyls\n"
     ]
    }
   ],
   "source": [
    "#Find and print the longest word that has no vowels.\n",
    "\n",
    "longest_word = \"\"\n",
    "\n",
    "vowels = \"aeiou\"\n",
    "\n",
    "for word in wordlist:\n",
    "    contains_vowel = False\n",
    "    for letter in word:\n",
    "        if letter in vowels:\n",
    "            contains_vowel = True\n",
    "            break\n",
    "    \n",
    "    if not contains_vowel:\n",
    "        if len(word) > len(longest_word):\n",
    "            longest_word = word\n",
    "\n",
    "print(\"The longest word without vowels is:\", longest_word)\n"
   ]
  },
  {
   "cell_type": "code",
   "execution_count": 100,
   "id": "a9f84d1f",
   "metadata": {},
   "outputs": [],
   "source": [
    "#4 a cure for my ells"
   ]
  },
  {
   "cell_type": "code",
   "execution_count": 102,
   "id": "3d96b049",
   "metadata": {},
   "outputs": [
    {
     "name": "stdout",
     "output_type": "stream",
     "text": [
      "alcoholically\n",
      "algologically\n",
      "allegorically\n",
      "allhallond\n",
      "allhallowen\n",
      "allhallown\n",
      "allhollown\n",
      "allopathically\n",
      "allopatrically\n",
      "allopolyploid\n",
      "allopolyploids\n",
      "allopolyploidy\n",
      "allosterically\n",
      "allotropically\n",
      "allotypically\n",
      "allychollies\n",
      "allycholly\n",
      "balletically\n",
      "ballistically\n",
      "bellpull\n",
      "bellpulls\n",
      "catallactically\n",
      "cellulolytic\n",
      "collaterally\n",
      "collegially\n",
      "collisionally\n",
      "colloidally\n",
      "colloquially\n",
      "corollifloral\n",
      "dillydallied\n",
      "dillydallies\n",
      "dillydally\n",
      "dillydallying\n",
      "dullsville\n",
      "dullsvilles\n",
      "elliptically\n",
      "extracellularly\n",
      "fallalishly\n",
      "hallalled\n",
      "hallalling\n",
      "hillbillies\n",
      "hillbilly\n",
      "holoblastically\n",
      "hullaballoo\n",
      "hullaballoos\n",
      "idyllically\n",
      "illegally\n",
      "illiberally\n",
      "illogically\n",
      "intellectually\n",
      "intracellularly\n",
      "jellyroll\n",
      "jellyrolls\n",
      "lallapalooza\n",
      "lallapaloozas\n",
      "lamellarly\n",
      "lamellately\n",
      "lamellirostral\n",
      "legalistically\n",
      "lexicologically\n",
      "libellously\n",
      "lignocellulose\n",
      "lignocelluloses\n",
      "lignocellulosic\n",
      "ligulifloral\n",
      "limnologically\n",
      "lithologically\n",
      "loblollies\n",
      "loblolly\n",
      "lollapalooza\n",
      "lollapaloozas\n",
      "lollingly\n",
      "melancholically\n",
      "mellifluently\n",
      "mellifluously\n",
      "metallically\n",
      "metallurgically\n",
      "methylcellulose\n",
      "millefeuille\n",
      "millefeuilles\n",
      "millennially\n",
      "millesimally\n",
      "multicellular\n",
      "multilaterally\n",
      "multilingually\n",
      "multimillennial\n",
      "palynologically\n",
      "parallactically\n",
      "parallelled\n",
      "parallelling\n",
      "parallelly\n",
      "pellmell\n",
      "pellmells\n",
      "phallically\n",
      "philatelically\n",
      "philologically\n",
      "plasmolytically\n",
      "pluralistically\n",
      "polysyllabical\n",
      "polysyllable\n",
      "polysyllables\n",
      "pralltriller\n",
      "pralltrillers\n",
      "premillennially\n",
      "rollcollar\n",
      "rollcollars\n",
      "rollerball\n",
      "rollerballs\n",
      "shillyshallied\n",
      "shillyshallier\n",
      "shillyshalliers\n",
      "shillyshallies\n",
      "shillyshally\n",
      "shillyshallying\n",
      "silviculturally\n",
      "skillfully\n",
      "stellularly\n",
      "syllabically\n",
      "sylleptically\n",
      "syllogistically\n",
      "teleologically\n",
      "trisyllabically\n",
      "unfulfillable\n",
      "unskillfully\n",
      "valpolicella\n",
      "valpolicellas\n",
      "vexillological\n",
      "villanella\n",
      "villanellas\n",
      "villanelle\n",
      "villanelles\n",
      "volleyball\n",
      "volleyballs\n",
      "wallyball\n",
      "wallyballs\n",
      "willfully\n"
     ]
    }
   ],
   "source": [
    "#Find and print the words that contain 4 or more 'l's.\n",
    "for word in wordlist:\n",
    "    count = 0\n",
    "    for char in word:\n",
    "        if char == 'l':\n",
    "            count += 1\n",
    "    if count >= 4:\n",
    "        print(word)"
   ]
  },
  {
   "cell_type": "code",
   "execution_count": 116,
   "id": "62139dd4",
   "metadata": {},
   "outputs": [
    {
     "name": "stdout",
     "output_type": "stream",
     "text": [
      "There are 136 words with 4 or more l's.\n"
     ]
    }
   ],
   "source": [
    "#How many are there?\n",
    "total = 0\n",
    "for word in wordlist:\n",
    "    count = 0\n",
    "    for letter in word:\n",
    "        if letter == 'l':\n",
    "            count += 1\n",
    "    if count >= 4:\n",
    "        total+=1\n",
    "print (f\"There are {total} words with 4 or more l's.\") "
   ]
  },
  {
   "cell_type": "code",
   "execution_count": 105,
   "id": "3cbc0888",
   "metadata": {},
   "outputs": [],
   "source": [
    "#5 So long"
   ]
  },
  {
   "cell_type": "code",
   "execution_count": 112,
   "id": "449521ef",
   "metadata": {},
   "outputs": [
    {
     "name": "stdout",
     "output_type": "stream",
     "text": [
      "The longest word is:abiogenetically which is 15 letters long.\n"
     ]
    }
   ],
   "source": [
    "#What is the longest word in the word list \n",
    "#you've been given? How long is it?\n",
    "longest_word = \"\"  \n",
    "\n",
    "for word in wordlist:\n",
    "    if len(word) > len(longest_word):\n",
    "        longest_word = word\n",
    "\n",
    "print(f\"The longest word is:{longest_word} which is {len(longest_word)} letters long.\" )"
   ]
  },
  {
   "cell_type": "code",
   "execution_count": 117,
   "id": "e8bb723e",
   "metadata": {},
   "outputs": [
    {
     "name": "stdout",
     "output_type": "stream",
     "text": [
      "There are 5757 words that are 15 letters long.\n"
     ]
    }
   ],
   "source": [
    "#Are there more than one word of that length? \n",
    "#If so, tell me how many are that exactly that long.\n",
    "\n",
    "total = 0\n",
    "for word in wordlist:\n",
    "   if len(word) == len(longest_word):\n",
    "        total+=1\n",
    "print (f\"There are {total} words that are 15 letters long.\") \n"
   ]
  },
  {
   "cell_type": "code",
   "execution_count": 118,
   "id": "d505b311",
   "metadata": {},
   "outputs": [],
   "source": [
    "#6 Palindromes"
   ]
  },
  {
   "cell_type": "code",
   "execution_count": 125,
   "id": "f92e6a7d",
   "metadata": {},
   "outputs": [
    {
     "name": "stdout",
     "output_type": "stream",
     "text": [
      "deified\n",
      "hadedah\n",
      "halalah\n",
      "reifier\n",
      "repaper\n",
      "reviver\n",
      "rotator\n",
      "rotavator\n",
      "seities\n",
      "sememes\n"
     ]
    }
   ],
   "source": [
    "# Print out a list of every palindrome \n",
    "#(a word that is the same reversed) that's over 6 \n",
    "#letters in length.\n",
    "\n",
    "palindromes = []\n",
    "for word in wordlist:\n",
    "    count = 0\n",
    "    if len(word) > 6 and word == word[::-1]:\n",
    "        count +=1\n",
    "        print(word)"
   ]
  },
  {
   "cell_type": "code",
   "execution_count": 133,
   "id": "90f7985c",
   "metadata": {},
   "outputs": [
    {
     "name": "stdout",
     "output_type": "stream",
     "text": [
      "There are 10 words with palindromes over 6 letters.\n"
     ]
    }
   ],
   "source": [
    "#How many are there?\n",
    "total = 0\n",
    "palindromes = []\n",
    "for word in wordlist:\n",
    "    count = 0\n",
    "    if len(word) > 6 and word == word[::-1]:\n",
    "        count +=1\n",
    "        total +=1\n",
    "print (f\"There are {total} words with palindromes over 6 letters.\") "
   ]
  },
  {
   "cell_type": "code",
   "execution_count": 134,
   "id": "b0e98e48",
   "metadata": {},
   "outputs": [],
   "source": [
    "#7 Something fun"
   ]
  },
  {
   "cell_type": "code",
   "execution_count": 141,
   "id": "30f07d6a",
   "metadata": {},
   "outputs": [
    {
     "name": "stdout",
     "output_type": "stream",
     "text": [
      "['oo', 'oobit', 'oobits', 'oocyst', 'oocysts', 'oocyte', 'oocytes', 'oodles', 'oodlins', 'oof', 'oofier', 'oofiest', 'oofs', 'ooftish', 'ooftishes', 'oofy', 'oogamete', 'oogametes', 'oogamies', 'oogamous', 'oogamy', 'oogeneses', 'oogenesis', 'oogenetic', 'oogenies', 'oogeny', 'oogonia', 'oogonial', 'oogonium', 'oogoniums', 'ooh', 'oohed', 'oohing', 'oohs', 'ooidal', 'oolachan', 'oolachans', 'oolakan', 'oolakans', 'oolite', 'oolites', 'oolith', 'ooliths', 'oolitic', 'oologic', 'oological', 'oologies', 'oologist', 'oologists', 'oology', 'oolong', 'oolongs', 'oom', 'oomiac', 'oomiack', 'oomiacks', 'oomiacs', 'oomiak', 'oomiaks', 'oompah', 'oompahed', 'oompahing', 'oompahs', 'oomph', 'oomphs', 'ooms', 'oomycete', 'oomycetes', 'oon', 'oons', 'oont', 'oonts', 'oop', 'ooped', 'oophorectomies', 'oophorectomise', 'oophorectomised', 'oophorectomises', 'oophorectomize', 'oophorectomized', 'oophorectomizes', 'oophorectomy', 'oophoritic', 'oophoritis', 'oophoritises', 'oophoron', 'oophorons', 'oophyte', 'oophytes', 'oophytic', 'ooping', 'oops', 'oor', 'oorali', 'ooralis', 'oorial', 'oorials', 'oorie', 'oorier', 'ooriest', 'oos', 'oose', 'ooses', 'oosier', 'oosiest', 'oosperm', 'oosperms', 'oosphere', 'oospheres', 'oospore', 'oospores', 'oosporic', 'oosporous', 'oosy', 'oot', 'ootheca', 'oothecae', 'oothecal', 'ootid', 'ootids', 'oots', 'ooze', 'oozed', 'oozes', 'oozier', 'ooziest', 'oozily', 'ooziness', 'oozinesses', 'oozing', 'oozy']\n"
     ]
    }
   ],
   "source": [
    "#Pick one other thing off this list of other \n",
    "#interesting properties of English words in pages \n",
    "#like this quiz about English words with unusual \n",
    "#properties and write a Python problem to solve it.\n",
    "\n",
    "#Chosen Criteria\n",
    "#Words beginning with double o.\n",
    "\n",
    "matches = []\n",
    "for word in wordlist:\n",
    "    if word[0:2] == \"oo\":\n",
    "        matches.append(word)\n",
    "print(matches)"
   ]
  },
  {
   "cell_type": "code",
   "execution_count": null,
   "id": "f1c41505",
   "metadata": {},
   "outputs": [],
   "source": []
  }
 ],
 "metadata": {
  "kernelspec": {
   "display_name": "Python 3 (ipykernel)",
   "language": "python",
   "name": "python3"
  },
  "language_info": {
   "codemirror_mode": {
    "name": "ipython",
    "version": 3
   },
   "file_extension": ".py",
   "mimetype": "text/x-python",
   "name": "python",
   "nbconvert_exporter": "python",
   "pygments_lexer": "ipython3",
   "version": "3.10.9"
  }
 },
 "nbformat": 4,
 "nbformat_minor": 5
}
