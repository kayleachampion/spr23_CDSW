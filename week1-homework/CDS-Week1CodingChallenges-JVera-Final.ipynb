{
 "cells": [
  {
   "cell_type": "code",
   "execution_count": 1,
   "id": "add734af",
   "metadata": {},
   "outputs": [
    {
     "name": "stdout",
     "output_type": "stream",
     "text": [
      "the total volume is  3.75  cups\n"
     ]
    }
   ],
   "source": [
    "#1 Shortbread\n",
    "\n",
    "#1.1 Compute the total volume\n",
    "\n",
    "\n",
    "cups_of_flour = 2.25 #setting each ingredient to its baseline value\n",
    "cups_of_sugar = 0.5\n",
    "cups_of_butter = 1.0\n",
    "\n",
    "total_volume = cups_of_flour + cups_of_butter + cups_of_sugar #var to store all the things\n",
    "\n",
    "# print(total_volume) #checking to see if it worked\n",
    "\n",
    "print(\"the total volume is \", total_volume, \" cups\") #print the thing\n"
   ]
  },
  {
   "cell_type": "code",
   "execution_count": 46,
   "id": "a9010d40",
   "metadata": {},
   "outputs": [
    {
     "name": "stdout",
     "output_type": "stream",
     "text": [
      "the total volume for  3  batches is  11.25  cups\n"
     ]
    }
   ],
   "source": [
    "#1.2 Scale it up\n",
    "\n",
    "number_of_batches = 3 # CHANGE THIS NUMBER HERE\n",
    "\n",
    "total_volume_with_multiplier = total_volume * number_of_batches\n",
    "\n",
    "print(\"the total volume for \", number_of_batches, \" batches is \", total_volume_with_multiplier, \" cups\")"
   ]
  },
  {
   "cell_type": "code",
   "execution_count": 49,
   "id": "1c0bae69",
   "metadata": {},
   "outputs": [
    {
     "name": "stdout",
     "output_type": "stream",
     "text": [
      "for 3  batches:\n",
      "yaa it will fit and you will need 3 pans\n"
     ]
    }
   ],
   "source": [
    "#1.3 Will it fit in my pans?\n",
    "\n",
    "pan_volume = 5 #probably wont need to change this\n",
    "pans_available = 3 #you cant afford more pans, so 3 it is\n",
    "\n",
    "total_pan_volume = pan_volume * pans_available\n",
    "#print(total_pan_volume)\n",
    "\n",
    "will_it_fit = (total_volume_with_multiplier / pan_volume)  #this number will result in half pans, so lets round\n",
    "#print(will_it_fit)\n",
    "\n",
    "import math\n",
    "will_it_fit_rounded = math.ceil(will_it_fit)\n",
    "\n",
    "#will it or will it not fit my pans? and in how many?\n",
    "print(\"for\", number_of_batches, \" batches:\")\n",
    "if total_volume_with_multiplier > total_pan_volume:\n",
    "    print(\"nay, this wont fit your setup\")\n",
    "elif will_it_fit < total_pan_volume:\n",
    "    print(\"yaa it will fit and you will need\", will_it_fit_rounded, \"pans\")\n",
    "        \n",
    "   "
   ]
  },
  {
   "cell_type": "code",
   "execution_count": null,
   "id": "792f400e",
   "metadata": {},
   "outputs": [],
   "source": [
    "#2 Analyzing the course description"
   ]
  },
  {
   "cell_type": "code",
   "execution_count": 62,
   "id": "0796aa8e",
   "metadata": {},
   "outputs": [
    {
     "name": "stdout",
     "output_type": "stream",
     "text": [
      "This course will introduce basic programming and data science tools to give students the skills to use data to read, critique, and produce stories and insights. The class will cover the basics of the Python programming language, acquiring and processing public data, and basic tools and techniques for data analysis and visualization. We will focus on gaining access to data and basic data manipulation rather than complex statistical methods. The class will be built around student-designed independent projects and is targeted at students with no previous programming experience.\n"
     ]
    }
   ],
   "source": [
    "#2.1 Just the length\n",
    "\n",
    "desc = \"This course will introduce basic programming and data science tools to give students the skills to use data to read, critique, and produce stories and insights. The class will cover the basics of the Python programming language, acquiring and processing public data, and basic tools and techniques for data analysis and visualization. We will focus on gaining access to data and basic data manipulation rather than complex statistical methods. The class will be built around student-designed independent projects and is targeted at students with no previous programming experience.\"\n",
    "desc_length = len(desc)\n",
    "print(desc)\n"
   ]
  },
  {
   "cell_type": "code",
   "execution_count": 87,
   "id": "3ed9561d",
   "metadata": {},
   "outputs": [
    {
     "name": "stdout",
     "output_type": "stream",
     "text": [
      "True\n",
      "True\n",
      "True\n"
     ]
    }
   ],
   "source": [
    "#2.2 Looking inside the text\n",
    "\n",
    "#Write some code that tells us if that course description variable we made contains the word \"python\"? \n",
    "#Have it print out helpful answers regardless of what it finds. Be ready to talk about and explain your answer!\n",
    "python = \"Python\" in desc\n",
    "\n",
    "#Now add some code that tells us if it contains either the word \"python\" or the word \"statistics\".\n",
    "python_or_stats = python or \"statistics\" in desc\n",
    "\n",
    "#Now add some more code to tell if it contains any of the words \"python\", \"statistics\", or \"visualization\"\n",
    "python_stats_or_vis = python_or_stats or \"visualization\" in desc\n",
    "\n",
    "#Looks like capitalization matters.\n",
    "\n",
    "print(python)\n",
    "print(python_or_stats)\n",
    "print(python_stats_or_vis)"
   ]
  },
  {
   "cell_type": "code",
   "execution_count": 130,
   "id": "0019aed9",
   "metadata": {},
   "outputs": [
    {
     "name": "stdout",
     "output_type": "stream",
     "text": [
      "cant do that math, srry\n"
     ]
    }
   ],
   "source": [
    "#3 A program that knows its limits\n",
    "# create a variable called \"my_variable\". \n",
    "# If the value stored in teh variable is a number, print that value times 3. \n",
    "# Otherwise, print \"cant do it\"\n",
    "\n",
    "my_variable = \"schfifty-five\"\n",
    "\n",
    "what_type = type(my_variable)\n",
    "\n",
    "if what_type == int or what_type == float:\n",
    "    print(my_variable*3)\n",
    "if what_type == str:\n",
    "    print(\"cant do that math, srry\")\n"
   ]
  },
  {
   "cell_type": "code",
   "execution_count": null,
   "id": "fcbe5077",
   "metadata": {},
   "outputs": [],
   "source": []
  }
 ],
 "metadata": {
  "kernelspec": {
   "display_name": "Python 3 (ipykernel)",
   "language": "python",
   "name": "python3"
  },
  "language_info": {
   "codemirror_mode": {
    "name": "ipython",
    "version": 3
   },
   "file_extension": ".py",
   "mimetype": "text/x-python",
   "name": "python",
   "nbconvert_exporter": "python",
   "pygments_lexer": "ipython3",
   "version": "3.10.9"
  }
 },
 "nbformat": 4,
 "nbformat_minor": 5
}
