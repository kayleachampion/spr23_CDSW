{
 "cells": [
  {
   "cell_type": "code",
   "execution_count": 1,
   "id": "c8a8eb68",
   "metadata": {},
   "outputs": [
    {
     "data": {
      "text/plain": [
       "'Question #1.1'"
      ]
     },
     "execution_count": 1,
     "metadata": {},
     "output_type": "execute_result"
    }
   ],
   "source": [
    "'Question #1.1'"
   ]
  },
  {
   "cell_type": "code",
   "execution_count": 2,
   "id": "b6f9aae3",
   "metadata": {},
   "outputs": [],
   "source": [
    "cups_of_flower = 2.25"
   ]
  },
  {
   "cell_type": "code",
   "execution_count": 3,
   "id": "ec84a2e6",
   "metadata": {},
   "outputs": [],
   "source": [
    "cups_of_sugar = 0.5"
   ]
  },
  {
   "cell_type": "code",
   "execution_count": 4,
   "id": "5ec44f14",
   "metadata": {},
   "outputs": [],
   "source": [
    "cups_of_butter = 1"
   ]
  },
  {
   "cell_type": "code",
   "execution_count": 5,
   "id": "71e66c72",
   "metadata": {},
   "outputs": [],
   "source": [
    "total_volume = cups_of_sugar + cups_of_flower + cups_of_butter"
   ]
  },
  {
   "cell_type": "code",
   "execution_count": 6,
   "id": "94b144c0",
   "metadata": {},
   "outputs": [
    {
     "data": {
      "text/plain": [
       "float"
      ]
     },
     "execution_count": 6,
     "metadata": {},
     "output_type": "execute_result"
    }
   ],
   "source": [
    "type(total_volume)"
   ]
  },
  {
   "cell_type": "code",
   "execution_count": 7,
   "id": "d1a258b3",
   "metadata": {},
   "outputs": [
    {
     "name": "stdout",
     "output_type": "stream",
     "text": [
      "the total volume is 3.75\n"
     ]
    }
   ],
   "source": [
    "print('the total volume is ' + str(total_volume))"
   ]
  },
  {
   "cell_type": "code",
   "execution_count": 8,
   "id": "2b021550",
   "metadata": {},
   "outputs": [
    {
     "data": {
      "text/plain": [
       "'Question #1.2'"
      ]
     },
     "execution_count": 8,
     "metadata": {},
     "output_type": "execute_result"
    }
   ],
   "source": [
    "'Question #1.2'"
   ]
  },
  {
   "cell_type": "code",
   "execution_count": 9,
   "id": "497aa44a",
   "metadata": {},
   "outputs": [],
   "source": [
    "number_of_batches = 1"
   ]
  },
  {
   "cell_type": "code",
   "execution_count": 10,
   "id": "26208390",
   "metadata": {
    "scrolled": true
   },
   "outputs": [
    {
     "name": "stdout",
     "output_type": "stream",
     "text": [
      "1.875\n"
     ]
    }
   ],
   "source": [
    "half_batch = number_of_batches * 0.5 * total_volume\n",
    "print(half_batch)"
   ]
  },
  {
   "cell_type": "code",
   "execution_count": 11,
   "id": "a1c6a3cd",
   "metadata": {},
   "outputs": [
    {
     "name": "stdout",
     "output_type": "stream",
     "text": [
      "11.25\n"
     ]
    }
   ],
   "source": [
    "triple_batch = number_of_batches * 3 * total_volume\n",
    "print(triple_batch)"
   ]
  },
  {
   "cell_type": "code",
   "execution_count": 12,
   "id": "fd96d187",
   "metadata": {},
   "outputs": [
    {
     "name": "stdout",
     "output_type": "stream",
     "text": [
      "18.75\n"
     ]
    }
   ],
   "source": [
    "five_batches = number_of_batches * 5 * total_volume\n",
    "print(five_batches)"
   ]
  },
  {
   "cell_type": "code",
   "execution_count": 13,
   "id": "539e6523",
   "metadata": {},
   "outputs": [
    {
     "data": {
      "text/plain": [
       "'Question 1.3'"
      ]
     },
     "execution_count": 13,
     "metadata": {},
     "output_type": "execute_result"
    }
   ],
   "source": [
    "'Question 1.3'"
   ]
  },
  {
   "cell_type": "code",
   "execution_count": 14,
   "id": "e096385f",
   "metadata": {},
   "outputs": [
    {
     "name": "stdout",
     "output_type": "stream",
     "text": [
      "fits in one pan\n"
     ]
    }
   ],
   "source": [
    "if(half_batch < 5):\n",
    "    print('fits in one pan')\n",
    "elif(half_batch < 10):\n",
    "    print('fits in two bans')\n",
    "elif(five_batches < 15):\n",
    "    print('fits in three pans!')\n",
    "else:\n",
    "    print('need more pans!')"
   ]
  },
  {
   "cell_type": "code",
   "execution_count": 15,
   "id": "e690340f",
   "metadata": {},
   "outputs": [
    {
     "name": "stdout",
     "output_type": "stream",
     "text": [
      "fits in three pans!\n"
     ]
    }
   ],
   "source": [
    "if(triple_batch < 5):\n",
    "    print('fits in one pan')\n",
    "elif(triple_batch < 10):\n",
    "    print('fits in two bans')\n",
    "elif(triple_batch < 15):\n",
    "    print('fits in three pans!')\n",
    "else:\n",
    "    print('need more pans!')"
   ]
  },
  {
   "cell_type": "code",
   "execution_count": 16,
   "id": "8ffdf22b",
   "metadata": {},
   "outputs": [
    {
     "name": "stdout",
     "output_type": "stream",
     "text": [
      "need more pans!\n"
     ]
    }
   ],
   "source": [
    "if(five_batches < 5):\n",
    "    print('fits in one pan')\n",
    "elif(five_batches < 10):\n",
    "    print('fits in two bans')\n",
    "elif(five_batches < 15):\n",
    "    print('fits in three pans!')\n",
    "else:\n",
    "    print('need more pans!')"
   ]
  },
  {
   "cell_type": "code",
   "execution_count": 17,
   "id": "8b579f97",
   "metadata": {},
   "outputs": [
    {
     "data": {
      "text/plain": [
       "'Question #2.1'"
      ]
     },
     "execution_count": 17,
     "metadata": {},
     "output_type": "execute_result"
    }
   ],
   "source": [
    "'Question #2.1'"
   ]
  },
  {
   "cell_type": "code",
   "execution_count": 18,
   "id": "5a13c8d5",
   "metadata": {},
   "outputs": [],
   "source": [
    "course_description = 'This course will introduce basic programming and data science tools to give students the skills to use data to read, critique, and produce stories and insights. The class will cover the basics of the Python programming language, acquiring and processing public data, and basic tools and techniques for data analysis and visualization. We will focus on gaining access to data and basic data manipulation rather than complex statistical methods. The class will be built around student-designed independent projects and is targeted at students with no previous programming experience.'"
   ]
  },
  {
   "cell_type": "code",
   "execution_count": 19,
   "id": "33d23a10",
   "metadata": {},
   "outputs": [],
   "source": [
    "course_description  = course_description.lower()"
   ]
  },
  {
   "cell_type": "code",
   "execution_count": 20,
   "id": "dbd83c24",
   "metadata": {},
   "outputs": [
    {
     "data": {
      "text/plain": [
       "581"
      ]
     },
     "execution_count": 20,
     "metadata": {},
     "output_type": "execute_result"
    }
   ],
   "source": [
    "len(course_description)"
   ]
  },
  {
   "cell_type": "code",
   "execution_count": 21,
   "id": "669f0c94",
   "metadata": {},
   "outputs": [
    {
     "data": {
      "text/plain": [
       "'Question #2.2'"
      ]
     },
     "execution_count": 21,
     "metadata": {},
     "output_type": "execute_result"
    }
   ],
   "source": [
    "'Question #2.2'"
   ]
  },
  {
   "cell_type": "code",
   "execution_count": 22,
   "id": "22a485ac",
   "metadata": {},
   "outputs": [
    {
     "name": "stdout",
     "output_type": "stream",
     "text": [
      "The course descripton contains the word Python!\n"
     ]
    }
   ],
   "source": [
    "if('python' in course_description):\n",
    "    print('The course descripton contains the word Python!')\n",
    "else:\n",
    "    print('The course descripton does not contain the word Python')"
   ]
  },
  {
   "cell_type": "code",
   "execution_count": 23,
   "id": "436902f7",
   "metadata": {
    "scrolled": true
   },
   "outputs": [
    {
     "name": "stdout",
     "output_type": "stream",
     "text": [
      "The course descripton contains the word Python or Statistics!\n"
     ]
    }
   ],
   "source": [
    "if(('python' in course_description)\n",
    "   or ('statistics' in course_description)):\n",
    "    print('The course descripton contains the word Python or Statistics!')\n",
    "else:\n",
    "    print('The course descripton does not contain the words Python or Statistics!')"
   ]
  },
  {
   "cell_type": "code",
   "execution_count": 24,
   "id": "34a75d72",
   "metadata": {},
   "outputs": [
    {
     "name": "stdout",
     "output_type": "stream",
     "text": [
      "The course descripton contains the word Python, Visualization or Statistics!\n"
     ]
    }
   ],
   "source": [
    "if(('python' in course_description)\n",
    "   or ('statistics' in course_description)\n",
    "    or('visualization' in course_description)):\n",
    "    print('The course descripton contains the word Python, Visualization or Statistics!')\n",
    "else:\n",
    "    print('The course descripton does not contain the words Python, Visualization or Statistics!')"
   ]
  },
  {
   "cell_type": "code",
   "execution_count": 25,
   "id": "e61c2dcf",
   "metadata": {},
   "outputs": [
    {
     "data": {
      "text/plain": [
       "'Question #3'"
      ]
     },
     "execution_count": 25,
     "metadata": {},
     "output_type": "execute_result"
    }
   ],
   "source": [
    "'Question #3'"
   ]
  },
  {
   "cell_type": "code",
   "execution_count": 26,
   "id": "9f955e1d",
   "metadata": {},
   "outputs": [],
   "source": [
    "my_variable = 'dog'"
   ]
  },
  {
   "cell_type": "code",
   "execution_count": 27,
   "id": "b9464ac5",
   "metadata": {},
   "outputs": [
    {
     "name": "stdout",
     "output_type": "stream",
     "text": [
      "You cannot multiply something that is not a number!\n"
     ]
    }
   ],
   "source": [
    "if((type(my_variable) is int \n",
    "    or type(my_variable) is float)):\n",
    "    my_variable = my_variable * 3\n",
    "    print(my_variable)\n",
    "else:\n",
    "    print('You cannot multiply something that is not a number!')"
   ]
  }
 ],
 "metadata": {
  "kernelspec": {
   "display_name": "Python 3 (ipykernel)",
   "language": "python",
   "name": "python3"
  },
  "language_info": {
   "codemirror_mode": {
    "name": "ipython",
    "version": 3
   },
   "file_extension": ".py",
   "mimetype": "text/x-python",
   "name": "python",
   "nbconvert_exporter": "python",
   "pygments_lexer": "ipython3",
   "version": "3.10.9"
  }
 },
 "nbformat": 4,
 "nbformat_minor": 5
}
