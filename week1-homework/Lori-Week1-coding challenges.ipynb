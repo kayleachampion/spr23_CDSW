{
 "cells": [
  {
   "cell_type": "code",
   "execution_count": 22,
   "id": "fe83f44e",
   "metadata": {},
   "outputs": [],
   "source": [
    "#Shortbread"
   ]
  },
  {
   "cell_type": "code",
   "execution_count": 23,
   "id": "a2d010c1",
   "metadata": {},
   "outputs": [
    {
     "name": "stdout",
     "output_type": "stream",
     "text": [
      "The total volume of the shortbread is 3.75 cups.\n"
     ]
    }
   ],
   "source": [
    "##1.1 Compute the total volume\n",
    "\n",
    "cups_of_flour=2+1/4\n",
    "cups_of_sugar=1/2\n",
    "cups_of_butter=1\n",
    "\n",
    "print(\"The total volume of the shortbread is \"+str(cups_of_flour+cups_of_sugar+cups_of_butter) +\" cups.\")"
   ]
  },
  {
   "cell_type": "code",
   "execution_count": 24,
   "id": "d4271651",
   "metadata": {},
   "outputs": [
    {
     "name": "stdout",
     "output_type": "stream",
     "text": [
      "The total volume of 1/2 batch is 1.875 cups.\n",
      "The total volume of 3 batches is 11.25 cups.\n",
      "The total volume of 5 batches is 18.75 cups.\n"
     ]
    }
   ],
   "source": [
    "##1.2 Scale it up!\n",
    "number_of_batches=1\n",
    "volume_of_batches=(cups_of_flour+cups_of_sugar+cups_of_butter)*number_of_batches\n",
    "print(\"The total volume of 1/2 batch is \"+str(1/2*volume_of_batches)+\" cups.\")\n",
    "print(\"The total volume of 3 batches is \"+str(3*volume_of_batches)+\" cups.\")\n",
    "print(\"The total volume of 5 batches is \"+str(5*volume_of_batches)+\" cups.\")"
   ]
  },
  {
   "cell_type": "code",
   "execution_count": 25,
   "id": "3fb69f4c",
   "metadata": {},
   "outputs": [
    {
     "name": "stdout",
     "output_type": "stream",
     "text": [
      "Since my 3 baking pan cans can only hold 5 cups of dough each\n",
      "And the total volume of the half batch is  1.875  cups.\n",
      "So the shortbread can be toasted in 1 pan.\n"
     ]
    }
   ],
   "source": [
    "##1.3 Will it fit in my pans?\n",
    "\n",
    "print(\"Since my 3 baking pan cans can only hold 5 cups of dough each\")\n",
    "volume_of_half=1/2*volume_of_batches\n",
    "print(\"And the total volume of the half batch is \" , volume_of_half,\" cups.\" )\n",
    "\n",
    "if 0<volume_of_half<=5:\n",
    "    print(\"So the shortbread can be toasted in 1 pan.\")\n",
    "elif 5<volume_of_half<=10:\n",
    "    print(\"So the shortbread can be toasted in 2 pans.\")\n",
    "elif 10<volume_of_half<=15:\n",
    "     print(\"So the shortbread can be toasted in 3 pans.\")\n",
    "else:\n",
    "    print(\"So the shortbread will be too much to fit in any of my pans!\")"
   ]
  },
  {
   "cell_type": "code",
   "execution_count": 26,
   "id": "0a63577c",
   "metadata": {},
   "outputs": [
    {
     "name": "stdout",
     "output_type": "stream",
     "text": [
      "Since my 3 baking pan cans can only hold 5 cups of dough each\n",
      "And the total volume of the half batch is  11.25  cups.\n",
      "So the shortbread can be toasted in 3 pans.\n"
     ]
    }
   ],
   "source": [
    "print(\"Since my 3 baking pan cans can only hold 5 cups of dough each\")\n",
    "volume_of_three=3*volume_of_batches\n",
    "print(\"And the total volume of the half batch is \" , volume_of_three,\" cups.\" )\n",
    "\n",
    "if 0<volume_of_three<=5:\n",
    "    print(\"So the shortbread can be toasted in 1 pan.\")\n",
    "elif 5<volume_of_three<=10:\n",
    "    print(\"So the shortbread can be toasted in 2 pans.\")\n",
    "elif 10<volume_of_three<=15:\n",
    "     print(\"So the shortbread can be toasted in 3 pans.\")\n",
    "else:\n",
    "    print(\"So the shortbread will be too much to fit in any of my pans!\")"
   ]
  },
  {
   "cell_type": "code",
   "execution_count": 27,
   "id": "b8557c4d",
   "metadata": {},
   "outputs": [
    {
     "name": "stdout",
     "output_type": "stream",
     "text": [
      "Since my 3 baking pan cans can only hold 5 cups of dough each\n",
      "And the total volume of the half batch is  18.75  cups.\n",
      "So the shortbread will be too much to fit in any of my pans!\n"
     ]
    }
   ],
   "source": [
    "print(\"Since my 3 baking pan cans can only hold 5 cups of dough each\")\n",
    "volume_of_five=5*volume_of_batches\n",
    "print(\"And the total volume of the half batch is \" , volume_of_five,\" cups.\" )\n",
    "\n",
    "if 0<volume_of_five<=5:\n",
    "    print(\"So the shortbread can be toasted in 1 pan.\")\n",
    "elif 5<volume_of_five<=10:\n",
    "    print(\"So the shortbread can be toasted in 2 pans.\")\n",
    "elif 10<volume_of_five<=15:\n",
    "     print(\"So the shortbread can be toasted in 3 pans.\")\n",
    "else:\n",
    "    print(\"So the shortbread will be too much to fit in any of my pans!\")"
   ]
  },
  {
   "cell_type": "code",
   "execution_count": 28,
   "id": "955e2c9c",
   "metadata": {},
   "outputs": [
    {
     "name": "stdout",
     "output_type": "stream",
     "text": [
      "Since my 3 baking pan cans can only hold 5 cups of dough each\n",
      "And the total volume of the half batch is  31.875  cups.\n",
      "So the shortbread will be too much to fit in any of my pans!\n"
     ]
    }
   ],
   "source": [
    "print(\"Since my 3 baking pan cans can only hold 5 cups of dough each\")\n",
    "volume_of_all=(1/2+3+5)*volume_of_batches\n",
    "print(\"And the total volume of the half batch is \" , volume_of_all,\" cups.\" )\n",
    "\n",
    "if 0<volume_of_all<=5:\n",
    "    print(\"So the shortbread can be toasted in 1 pan.\")\n",
    "elif 5<volume_of_all<=10:\n",
    "    print(\"So the shortbread can be toasted in 2 pans.\")\n",
    "elif 10<volume_of_all<=15:\n",
    "     print(\"So the shortbread can be toasted in 3 pans.\")\n",
    "else:\n",
    "    print(\"So the shortbread will be too much to fit in any of my pans!\")"
   ]
  },
  {
   "cell_type": "code",
   "execution_count": 29,
   "id": "68fe9f73",
   "metadata": {},
   "outputs": [],
   "source": [
    "#Analyzing the course description"
   ]
  },
  {
   "cell_type": "code",
   "execution_count": 30,
   "id": "c729ae47",
   "metadata": {
    "scrolled": true
   },
   "outputs": [
    {
     "name": "stdout",
     "output_type": "stream",
     "text": [
      "['This', 'course', 'will', 'introduce', 'basic', 'programming', 'and', 'data', 'science', 'tools', 'to', 'give', 'students', 'the', 'skills', 'to', 'use', 'data', 'to', 'read,', 'critique,', 'and', 'produce', 'stories', 'and', 'insights.', 'The', 'class', 'will', 'cover', 'the', 'basics', 'of', 'the', 'Python', 'programming', 'language,', 'acquiring', 'and', 'processing', 'public', 'data,', 'and', 'basic', 'tools', 'and', 'techniques', 'for', 'data', 'analysis', 'and', 'visualization.', 'We', 'will', 'focus', 'on', 'gaining', 'access', 'to', 'data', 'and', 'basic', 'data', 'manipulation', 'rather', 'than', 'complex', 'statistical', 'methods.', 'The', 'class', 'will', 'be', 'built', 'around', 'student-designed', 'independent', 'projects', 'and', 'is', 'targeted', 'at', 'students', 'with', 'no', 'previous', 'programming', 'experience']\n",
      "The length of the course description is 88 words.\n"
     ]
    }
   ],
   "source": [
    "##2.1 Just the length\n",
    "course_description =\"This course will introduce basic programming and data science tools to give students the skills to use data to read, critique, and produce stories and insights. The class will cover the basics of the Python programming language, acquiring and processing public data, and basic tools and techniques for data analysis and visualization. We will focus on gaining access to data and basic data manipulation rather than complex statistical methods. The class will be built around student-designed independent projects and is targeted at students with no previous programming experience\"\n",
    "print(course_description.split())\n",
    "course_description=['This', 'course', 'will', 'introduce', 'basic', 'programming', 'and', 'data', 'science', 'tools', 'to', 'give', 'students', 'the', 'skills', 'to', 'use', 'data', 'to', 'read,', 'critique,', 'and', 'produce', 'stories', 'and', 'insights.', 'The', 'class', 'will', 'cover', 'the', 'basics', 'of', 'the', 'Python', 'programming', 'language,', 'acquiring', 'and', 'processing', 'public', 'data,', 'and', 'basic', 'tools', 'and', 'techniques', 'for', 'data', 'analysis', 'and', 'visualization.', 'We', 'will', 'focus', 'on', 'gaining', 'access', 'to', 'data', 'and', 'basic', 'data', 'manipulation', 'rather', 'than', 'complex', 'statistical', 'methods.', 'The', 'class', 'will', 'be', 'built', 'around', 'student-designed', 'independent', 'projects', 'and', 'is', 'targeted', 'at', 'students', 'with', 'no', 'previous', 'programming', 'experience']\n",
    "print(\"The length of the course description is\",len(course_description) ,\"words.\")\n"
   ]
  },
  {
   "cell_type": "code",
   "execution_count": 31,
   "id": "2996d017",
   "metadata": {},
   "outputs": [
    {
     "name": "stdout",
     "output_type": "stream",
     "text": [
      "581\n"
     ]
    }
   ],
   "source": [
    "Course_Description=str(\"This course will introduce basic programming and data science tools to give students the skills to use data to read, critique, and produce stories and insights. The class will cover the basics of the Python programming language, acquiring and processing public data, and basic tools and techniques for data analysis and visualization. We will focus on gaining access to data and basic data manipulation rather than complex statistical methods. The class will be built around student-designed independent projects and is targeted at students with no previous programming experience.\")\n",
    "print(len(Course_Description))"
   ]
  },
  {
   "cell_type": "code",
   "execution_count": 44,
   "id": "c28ff500",
   "metadata": {},
   "outputs": [
    {
     "name": "stdout",
     "output_type": "stream",
     "text": [
      "This\n",
      "course\n",
      "will\n",
      "introduce\n",
      "basic\n",
      "programming\n",
      "and\n",
      "data\n",
      "science\n",
      "tools\n",
      "to\n",
      "give\n",
      "students\n",
      "the\n",
      "skills\n",
      "to\n",
      "use\n",
      "data\n",
      "to\n",
      "read,\n",
      "critique,\n",
      "and\n",
      "produce\n",
      "stories\n",
      "and\n",
      "insights.\n",
      "The\n",
      "class\n",
      "will\n",
      "cover\n",
      "the\n",
      "basics\n",
      "of\n",
      "the\n",
      "Python\n",
      "programming\n",
      "language,\n",
      "acquiring\n",
      "and\n",
      "processing\n",
      "public\n",
      "data,\n",
      "and\n",
      "basic\n",
      "tools\n",
      "and\n",
      "techniques\n",
      "for\n",
      "data\n",
      "analysis\n",
      "and\n",
      "visualization.\n",
      "We\n",
      "will\n",
      "focus\n",
      "on\n",
      "gaining\n",
      "access\n",
      "to\n",
      "data\n",
      "and\n",
      "basic\n",
      "data\n",
      "manipulation\n",
      "rather\n",
      "than\n",
      "complex\n",
      "statistical\n",
      "methods.\n",
      "The\n",
      "class\n",
      "will\n",
      "be\n",
      "built\n",
      "around\n",
      "student-designed\n",
      "independent\n",
      "projects\n",
      "and\n",
      "is\n",
      "targeted\n",
      "at\n",
      "students\n",
      "with\n",
      "no\n",
      "previous\n",
      "programming\n",
      "experience\n",
      "-----------------\n",
      "True\n",
      "True\n",
      "True\n"
     ]
    }
   ],
   "source": [
    "##2.2 Looking inside the text\n",
    "for python in course_description:\n",
    "    print(python)\n",
    "print(\"-----------------\")    \n",
    "print(python in course_description)\n",
    "print(statistics in course_description)\n",
    "print(visualization in course_description)"
   ]
  },
  {
   "cell_type": "code",
   "execution_count": null,
   "id": "ecbc4615",
   "metadata": {},
   "outputs": [],
   "source": [
    "#3 A program that knows its limits\n",
    "my_variable=\"I love python\"\n",
    "\n",
    "if my_variable==int:\n",
    "    print(3*my_variable)\n",
    "else:\n",
    "    print(\"This world does not allow multiplying something that is not a number.\")"
   ]
  },
  {
   "cell_type": "code",
   "execution_count": null,
   "id": "03877eb4",
   "metadata": {},
   "outputs": [],
   "source": []
  }
 ],
 "metadata": {
  "kernelspec": {
   "display_name": "Python 3 (ipykernel)",
   "language": "python",
   "name": "python3"
  },
  "language_info": {
   "codemirror_mode": {
    "name": "ipython",
    "version": 3
   },
   "file_extension": ".py",
   "mimetype": "text/x-python",
   "name": "python",
   "nbconvert_exporter": "python",
   "pygments_lexer": "ipython3",
   "version": "3.10.9"
  }
 },
 "nbformat": 4,
 "nbformat_minor": 5
}
