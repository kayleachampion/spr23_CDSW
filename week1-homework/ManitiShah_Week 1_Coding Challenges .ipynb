{
 "cells": [
  {
   "cell_type": "markdown",
   "id": "941ad41f",
   "metadata": {},
   "source": [
    "# SHORTBREAD"
   ]
  },
  {
   "cell_type": "markdown",
   "id": "0385a501",
   "metadata": {},
   "source": [
    "## 1.1 Compute the total volume"
   ]
  },
  {
   "cell_type": "code",
   "execution_count": 49,
   "id": "03a99827",
   "metadata": {},
   "outputs": [],
   "source": [
    "cups_of_flour = 2 + 1/4 "
   ]
  },
  {
   "cell_type": "code",
   "execution_count": 50,
   "id": "46263449",
   "metadata": {},
   "outputs": [],
   "source": [
    "cups_of_sugar = 1/2"
   ]
  },
  {
   "cell_type": "code",
   "execution_count": 51,
   "id": "04c2539e",
   "metadata": {},
   "outputs": [],
   "source": [
    "cups_of_butter = 1 "
   ]
  },
  {
   "cell_type": "code",
   "execution_count": 52,
   "id": "ffcab6e1",
   "metadata": {},
   "outputs": [
    {
     "data": {
      "text/plain": [
       "'the total volume iscups_of_flourcups_of_sugarcups_of_buttercups'"
      ]
     },
     "execution_count": 52,
     "metadata": {},
     "output_type": "execute_result"
    }
   ],
   "source": [
    "\"the total volume is\" \"cups_of_flour\" + \"cups_of_sugar\" + \"cups_of_butter\" \"cups\""
   ]
  },
  {
   "cell_type": "code",
   "execution_count": 53,
   "id": "b7506e0b",
   "metadata": {},
   "outputs": [
    {
     "ename": "TypeError",
     "evalue": "can only concatenate str (not \"float\") to str",
     "output_type": "error",
     "traceback": [
      "\u001b[0;31m---------------------------------------------------------------------------\u001b[0m",
      "\u001b[0;31mTypeError\u001b[0m                                 Traceback (most recent call last)",
      "Cell \u001b[0;32mIn[53], line 1\u001b[0m\n\u001b[0;32m----> 1\u001b[0m \u001b[38;5;124;43m\"\u001b[39;49m\u001b[38;5;124;43mthe total volume is\u001b[39;49m\u001b[38;5;124;43m\"\u001b[39;49m\u001b[43m \u001b[49m\u001b[38;5;241;43m+\u001b[39;49m\u001b[43m \u001b[49m\u001b[43mcups_of_flour\u001b[49m \u001b[38;5;241m+\u001b[39m cups_of_sugar \u001b[38;5;241m+\u001b[39m cups_of_butter \u001b[38;5;241m+\u001b[39m \u001b[38;5;124m\"\u001b[39m\u001b[38;5;124mcups\u001b[39m\u001b[38;5;124m\"\u001b[39m\n",
      "\u001b[0;31mTypeError\u001b[0m: can only concatenate str (not \"float\") to str"
     ]
    }
   ],
   "source": [
    "\"the total volume is\" + cups_of_flour + cups_of_sugar + cups_of_butter + \"cups\""
   ]
  },
  {
   "cell_type": "code",
   "execution_count": null,
   "id": "17f59a2d",
   "metadata": {},
   "outputs": [],
   "source": [
    "\"the total volume is\" (cups_of_flour + cups_of_sugar + cups_of_butter) \"cups\""
   ]
  },
  {
   "cell_type": "code",
   "execution_count": null,
   "id": "c8ba289f",
   "metadata": {},
   "outputs": [],
   "source": [
    "\"the total volume is\" (cups_of_flour) + (cups_of_sugar) + (cups_of_butter) \"cups\""
   ]
  },
  {
   "cell_type": "code",
   "execution_count": null,
   "id": "ab675b33",
   "metadata": {},
   "outputs": [],
   "source": [
    "\"the total volume is\" + (cups_of_flour) + (cups_of_sugar) + (cups_of_butter) + \"cups\""
   ]
  },
  {
   "cell_type": "code",
   "execution_count": null,
   "id": "b6847aa3",
   "metadata": {},
   "outputs": [],
   "source": [
    "TotalVolume = cups_of_flour + cups_of_sugar + cups_of_butter"
   ]
  },
  {
   "cell_type": "code",
   "execution_count": null,
   "id": "ce8669e3",
   "metadata": {},
   "outputs": [],
   "source": [
    "str(3.75)"
   ]
  },
  {
   "cell_type": "code",
   "execution_count": null,
   "id": "ba946550",
   "metadata": {},
   "outputs": [],
   "source": [
    "\"the total volume is\" + str(cups_of_flour + cups_of_sugar + cups_of_butter) + \"cups\""
   ]
  },
  {
   "cell_type": "code",
   "execution_count": null,
   "id": "d05ce8ed",
   "metadata": {},
   "outputs": [],
   "source": [
    "\"the total volume is \" + str(TotalVolume) + \" cups\""
   ]
  },
  {
   "cell_type": "markdown",
   "id": "25592f88",
   "metadata": {},
   "source": [
    "### Some Experimentation with the string function"
   ]
  },
  {
   "cell_type": "code",
   "execution_count": null,
   "id": "ad54dbbd",
   "metadata": {},
   "outputs": [],
   "source": [
    "\"the total volume is\" + len(fish)"
   ]
  },
  {
   "cell_type": "code",
   "execution_count": null,
   "id": "af2a7afb",
   "metadata": {},
   "outputs": [],
   "source": [
    "\"the total volume is\" + str((len)fish)"
   ]
  },
  {
   "cell_type": "code",
   "execution_count": null,
   "id": "200d9d2f",
   "metadata": {},
   "outputs": [],
   "source": [
    "\"the total volume is \" + str(len(\"fish\"))"
   ]
  },
  {
   "cell_type": "markdown",
   "id": "978c067c",
   "metadata": {},
   "source": [
    "## 1.2 Scale it up!"
   ]
  },
  {
   "cell_type": "code",
   "execution_count": null,
   "id": "1100cdc3",
   "metadata": {},
   "outputs": [],
   "source": [
    "number_of_batches = 1"
   ]
  },
  {
   "cell_type": "code",
   "execution_count": null,
   "id": "5e2dec2b",
   "metadata": {},
   "outputs": [],
   "source": [
    "TotalVolume = (cups_of_flour + cups_of_sugar + cups_of_butter) * (number_of_batches) "
   ]
  },
  {
   "cell_type": "code",
   "execution_count": null,
   "id": "b5c0e754",
   "metadata": {},
   "outputs": [],
   "source": [
    "TotalVolume "
   ]
  },
  {
   "cell_type": "code",
   "execution_count": null,
   "id": "03e2d3be",
   "metadata": {},
   "outputs": [],
   "source": [
    "number_of_batches = 3 "
   ]
  },
  {
   "cell_type": "code",
   "execution_count": null,
   "id": "02249447",
   "metadata": {},
   "outputs": [],
   "source": [
    "TotalVolume "
   ]
  },
  {
   "cell_type": "code",
   "execution_count": null,
   "id": "de3da73c",
   "metadata": {},
   "outputs": [],
   "source": [
    "TotalVolume * number_of_batches"
   ]
  },
  {
   "cell_type": "code",
   "execution_count": null,
   "id": "4314919a",
   "metadata": {},
   "outputs": [],
   "source": [
    "TotalVolume = ((cups_of_flour + cups_of_sugar + cups_of_butter) * (number_of_batches))\n"
   ]
  },
  {
   "cell_type": "code",
   "execution_count": null,
   "id": "e8af5d35",
   "metadata": {},
   "outputs": [],
   "source": [
    "TotalVolume"
   ]
  },
  {
   "cell_type": "code",
   "execution_count": null,
   "id": "57b9a81b",
   "metadata": {},
   "outputs": [],
   "source": [
    "number_of_batches = 5"
   ]
  },
  {
   "cell_type": "code",
   "execution_count": null,
   "id": "b5e7c52e",
   "metadata": {},
   "outputs": [],
   "source": [
    "TotalVolume"
   ]
  },
  {
   "cell_type": "code",
   "execution_count": null,
   "id": "6b879632",
   "metadata": {},
   "outputs": [],
   "source": [
    "TotalVolume = ((cups_of_flour + cups_of_sugar + cups_of_butter) * (number_of_batches))"
   ]
  },
  {
   "cell_type": "code",
   "execution_count": null,
   "id": "13f07b19",
   "metadata": {},
   "outputs": [],
   "source": [
    "TotalVolume "
   ]
  },
  {
   "cell_type": "code",
   "execution_count": 54,
   "id": "cf1e6585",
   "metadata": {},
   "outputs": [],
   "source": [
    "TotalVolume = cups_of_flour + cups_of_sugar + cups_of_butter"
   ]
  },
  {
   "cell_type": "code",
   "execution_count": 55,
   "id": "90be2e54",
   "metadata": {},
   "outputs": [],
   "source": [
    "NewTotalVolume = TotalVolume * number_of_batches"
   ]
  },
  {
   "cell_type": "code",
   "execution_count": null,
   "id": "8d69f55b",
   "metadata": {},
   "outputs": [],
   "source": [
    "NewTotalVolume"
   ]
  },
  {
   "cell_type": "code",
   "execution_count": null,
   "id": "d56260b0",
   "metadata": {},
   "outputs": [],
   "source": [
    "number_of_batches = 7"
   ]
  },
  {
   "cell_type": "code",
   "execution_count": null,
   "id": "f0cfb506",
   "metadata": {},
   "outputs": [],
   "source": [
    "NewTotalVolume "
   ]
  },
  {
   "cell_type": "code",
   "execution_count": null,
   "id": "72c1912e",
   "metadata": {},
   "outputs": [],
   "source": [
    "NewTotalVolume = TotalVolume * number_of_batches"
   ]
  },
  {
   "cell_type": "code",
   "execution_count": null,
   "id": "79919dce",
   "metadata": {},
   "outputs": [],
   "source": [
    "NewTotalVolume"
   ]
  },
  {
   "cell_type": "code",
   "execution_count": null,
   "id": "9401d034",
   "metadata": {},
   "outputs": [],
   "source": [
    "number_of_batches = 0.5 "
   ]
  },
  {
   "cell_type": "code",
   "execution_count": null,
   "id": "fa92c4b5",
   "metadata": {},
   "outputs": [],
   "source": [
    "NewTotalVolume "
   ]
  },
  {
   "cell_type": "code",
   "execution_count": null,
   "id": "e990368c",
   "metadata": {},
   "outputs": [],
   "source": [
    "NewTotalVolume = TotalVolume * number_of_batches"
   ]
  },
  {
   "cell_type": "code",
   "execution_count": null,
   "id": "0a649469",
   "metadata": {},
   "outputs": [],
   "source": [
    "NewTotalVolume "
   ]
  },
  {
   "cell_type": "code",
   "execution_count": null,
   "id": "09c70dfa",
   "metadata": {},
   "outputs": [],
   "source": [
    "number_of_batches = 5\n",
    "NewTotalVolume = TotalVolume * number_of_batches\n",
    "NewTotalVolume "
   ]
  },
  {
   "cell_type": "markdown",
   "id": "0a724c97",
   "metadata": {},
   "source": [
    "## 1.3 Will it fit in my pans?"
   ]
  },
  {
   "cell_type": "code",
   "execution_count": 56,
   "id": "51d18beb",
   "metadata": {},
   "outputs": [],
   "source": [
    "BakingPanVolume = 5 \n",
    "TotalBakingPanVolume = BakingPanVolume * 3 "
   ]
  },
  {
   "cell_type": "code",
   "execution_count": 57,
   "id": "fed06519",
   "metadata": {},
   "outputs": [],
   "source": [
    "OneBakingPanVolume = 5 \n",
    "TwoBakingPanVolume = BakingPanVolume * 2\n",
    "ThreeBakingPanVolume = BakingPanVolume * 3 \n"
   ]
  },
  {
   "cell_type": "code",
   "execution_count": 58,
   "id": "8c8993b9",
   "metadata": {},
   "outputs": [
    {
     "data": {
      "text/plain": [
       "10"
      ]
     },
     "execution_count": 58,
     "metadata": {},
     "output_type": "execute_result"
    }
   ],
   "source": [
    "TwoBakingPanVolume "
   ]
  },
  {
   "cell_type": "code",
   "execution_count": null,
   "id": "d9575bb7",
   "metadata": {},
   "outputs": [],
   "source": [
    "number_of_batches = 5\n",
    "NewTotalVolume = TotalVolume * number_of_batches\n",
    "NewTotalVolume\n",
    "\n",
    "if NewTotalVolume < OneBakingPanVolume :\n",
    "    print (\"It will fit in one pan\")\n",
    "if NewTotalVolume < TwoBakingPanVolume :\n",
    "    print (\"it will fit in two pans\")\n",
    "if NewTotalVolume < ThreeBakingPanVolume :\n",
    "    print (\"It will fit in three pans\")\n",
    "if NewTotalVolume > ThreeBakingPanVolume :\n",
    "    print (\"Too much\")\n"
   ]
  },
  {
   "cell_type": "code",
   "execution_count": null,
   "id": "e2d814ff",
   "metadata": {},
   "outputs": [],
   "source": [
    "number_of_batches = 3\n",
    "NewTotalVolume = TotalVolume * number_of_batches\n",
    "NewTotalVolume\n",
    "\n",
    "if NewTotalVolume < OneBakingPanVolume :\n",
    "    print (\"It will fit in one pan\")\n",
    "if NewTotalVolume < TwoBakingPanVolume :\n",
    "    print (\"it will fit in two pans\")\n",
    "if NewTotalVolume < ThreeBakingPanVolume :\n",
    "    print (\"It will fit in three pans\")\n",
    "if NewTotalVolume > ThreeBakingPanVolume :\n",
    "    print (\"Too much\")"
   ]
  },
  {
   "cell_type": "code",
   "execution_count": null,
   "id": "a6bed916",
   "metadata": {},
   "outputs": [],
   "source": [
    "number_of_batches = 0.5\n",
    "NewTotalVolume = TotalVolume * number_of_batches\n",
    "NewTotalVolume\n",
    "\n",
    "if NewTotalVolume < OneBakingPanVolume :\n",
    "    print (\"It will fit in one pan\")\n",
    "if NewTotalVolume < TwoBakingPanVolume :\n",
    "    print (\"it will fit in two pans\")\n",
    "if NewTotalVolume < ThreeBakingPanVolume :\n",
    "    print (\"It will fit in three pans\")\n",
    "if NewTotalVolume > ThreeBakingPanVolume :\n",
    "    print (\"Too much\")"
   ]
  },
  {
   "cell_type": "code",
   "execution_count": null,
   "id": "6adc9a58",
   "metadata": {},
   "outputs": [],
   "source": [
    "number_of_batches = 0.5\n",
    "NewTotalVolume = TotalVolume * number_of_batches\n",
    "NewTotalVolume\n",
    "\n",
    "if NewTotalVolume <= OneBakingPanVolume and NewTotalVolume < TwoBakingPanVolume and NewTotalVolume < ThreeBakingPanVolume :\n",
    "    print (\"It will fit in one pan\")\n",
    "if NewTotalVolume > OneBakingPanVolume and NewTotalVolume <= TwoBakingPanVolume :\n",
    "    print (\"it will fit in two pans\")\n",
    "if NewTotalVolume > OneBakingPanVolume and NewTotalVolume > TwoBakingPanVolume and NewTotalVolume <= ThreeBakingPanVolume :\n",
    "    print (\"It will fit in three pans\")\n",
    "if NewTotalVolume > ThreeBakingPanVolume :\n",
    "    print (\"Too much\")"
   ]
  },
  {
   "cell_type": "code",
   "execution_count": null,
   "id": "7b7d1157",
   "metadata": {},
   "outputs": [],
   "source": [
    "number_of_batches = 0.25\n",
    "NewTotalVolume = TotalVolume * number_of_batches\n",
    "NewTotalVolume\n",
    "\n",
    "if NewTotalVolume <= OneBakingPanVolume and NewTotalVolume < TwoBakingPanVolume and NewTotalVolume < ThreeBakingPanVolume :\n",
    "    print (\"It will fit in one pan\")\n",
    "if NewTotalVolume > OneBakingPanVolume and NewTotalVolume <= TwoBakingPanVolume :\n",
    "    print (\"it will fit in two pans\")\n",
    "if NewTotalVolume > OneBakingPanVolume and NewTotalVolume > TwoBakingPanVolume and NewTotalVolume <= ThreeBakingPanVolume :\n",
    "    print (\"It will fit in three pans\")\n",
    "if NewTotalVolume > ThreeBakingPanVolume :\n",
    "    print (\"Too much\")"
   ]
  },
  {
   "cell_type": "code",
   "execution_count": null,
   "id": "14462d31",
   "metadata": {},
   "outputs": [],
   "source": [
    "number_of_batches = 10\n",
    "NewTotalVolume = TotalVolume * number_of_batches\n",
    "NewTotalVolume\n",
    "\n",
    "if NewTotalVolume <= OneBakingPanVolume and NewTotalVolume < TwoBakingPanVolume and NewTotalVolume < ThreeBakingPanVolume :\n",
    "    print (\"It will fit in one pan\")\n",
    "if NewTotalVolume > OneBakingPanVolume and NewTotalVolume <= TwoBakingPanVolume :\n",
    "    print (\"it will fit in two pans\")\n",
    "if NewTotalVolume > OneBakingPanVolume and NewTotalVolume > TwoBakingPanVolume and NewTotalVolume <= ThreeBakingPanVolume :\n",
    "    print (\"It will fit in three pans\")\n",
    "if NewTotalVolume > ThreeBakingPanVolume :\n",
    "    print (\"Too much\")"
   ]
  },
  {
   "cell_type": "code",
   "execution_count": null,
   "id": "8dba8d3c",
   "metadata": {},
   "outputs": [],
   "source": [
    "number_of_batches = 5\n",
    "NewTotalVolume = TotalVolume * number_of_batches\n",
    "NewTotalVolume\n",
    "\n",
    "if NewTotalVolume <= OneBakingPanVolume and NewTotalVolume < TwoBakingPanVolume and NewTotalVolume < ThreeBakingPanVolume :\n",
    "    print (\"It will fit in one pan\")\n",
    "if NewTotalVolume > OneBakingPanVolume and NewTotalVolume <= TwoBakingPanVolume :\n",
    "    print (\"it will fit in two pans\")\n",
    "if NewTotalVolume > OneBakingPanVolume and NewTotalVolume > TwoBakingPanVolume and NewTotalVolume <= ThreeBakingPanVolume :\n",
    "    print (\"It will fit in three pans\")\n",
    "if NewTotalVolume > ThreeBakingPanVolume :\n",
    "    print (\"Too much\")"
   ]
  },
  {
   "cell_type": "code",
   "execution_count": 60,
   "id": "8acfc873",
   "metadata": {},
   "outputs": [
    {
     "name": "stdout",
     "output_type": "stream",
     "text": [
      "It will fit in one pan\n"
     ]
    }
   ],
   "source": [
    "number_of_batches = 1\n",
    "NewTotalVolume = TotalVolume * number_of_batches\n",
    "NewTotalVolume\n",
    "\n",
    "if NewTotalVolume <= OneBakingPanVolume: \n",
    "    print (\"It will fit in one pan\")\n",
    "    \n",
    "if NewTotalVolume > OneBakingPanVolume and NewTotalVolume <= TwoBakingPanVolume :\n",
    "    print (\"it will fit in two pans\")\n",
    "    \n",
    "if NewTotalVolume > TwoBakingPanVolume and NewTotalVolume <= ThreeBakingPanVolume :\n",
    "    print (\"It will fit in three pans\")\n",
    "    \n",
    "if NewTotalVolume > ThreeBakingPanVolume :\n",
    "    print (\"Too much\")"
   ]
  },
  {
   "cell_type": "code",
   "execution_count": 1,
   "id": "d0e55c23",
   "metadata": {},
   "outputs": [
    {
     "ename": "NameError",
     "evalue": "name 'TotalVolume' is not defined",
     "output_type": "error",
     "traceback": [
      "\u001b[0;31m---------------------------------------------------------------------------\u001b[0m",
      "\u001b[0;31mNameError\u001b[0m                                 Traceback (most recent call last)",
      "Cell \u001b[0;32mIn[1], line 2\u001b[0m\n\u001b[1;32m      1\u001b[0m number_of_batches \u001b[38;5;241m=\u001b[39m \u001b[38;5;241m6\u001b[39m\n\u001b[0;32m----> 2\u001b[0m NewTotalVolume \u001b[38;5;241m=\u001b[39m \u001b[43mTotalVolume\u001b[49m \u001b[38;5;241m*\u001b[39m number_of_batches\n\u001b[1;32m      3\u001b[0m NewTotalVolume\n\u001b[1;32m      5\u001b[0m \u001b[38;5;28;01mif\u001b[39;00m NewTotalVolume \u001b[38;5;241m<\u001b[39m\u001b[38;5;241m=\u001b[39m OneBakingPanVolume: \n",
      "\u001b[0;31mNameError\u001b[0m: name 'TotalVolume' is not defined"
     ]
    }
   ],
   "source": [
    "number_of_batches = 6\n",
    "NewTotalVolume = TotalVolume * number_of_batches\n",
    "NewTotalVolume\n",
    "\n",
    "if NewTotalVolume <= OneBakingPanVolume: \n",
    "    print (\"It will fit in one pan\")\n",
    "    \n",
    "elif NewTotalVolume > OneBakingPanVolume and NewTotalVolume <= TwoBakingPanVolume :\n",
    "    print (\"it will fit in two pans\")\n",
    "    \n",
    "elif NewTotalVolume > TwoBakingPanVolume and NewTotalVolume <= ThreeBakingPanVolume :\n",
    "    print (\"It will fit in three pans\")\n",
    "    \n",
    "elif NewTotalVolume > ThreeBakingPanVolume :\n",
    "    print (\"Too much\")"
   ]
  },
  {
   "cell_type": "code",
   "execution_count": 5,
   "id": "1341a3ca",
   "metadata": {},
   "outputs": [
    {
     "name": "stdout",
     "output_type": "stream",
     "text": [
      "It will fit in one pan\n"
     ]
    }
   ],
   "source": [
    "cups_of_flour = 2 + 1/4 \n",
    "cups_of_sugar = 1/2\n",
    "cups_of_butter = 1 \n",
    "\n",
    "TotalVolume = cups_of_flour + cups_of_sugar + cups_of_butter\n",
    "\n",
    "BakingPanVolume = 5 \n",
    "TotalBakingPanVolume = BakingPanVolume * 3 \n",
    "\n",
    "OneBakingPanVolume = 5 \n",
    "TwoBakingPanVolume = BakingPanVolume * 2\n",
    "ThreeBakingPanVolume = BakingPanVolume * 3 \n",
    "\n",
    "number_of_batches = 0.25\n",
    "NewTotalVolume = TotalVolume * number_of_batches\n",
    "NewTotalVolume\n",
    "\n",
    "if NewTotalVolume <= OneBakingPanVolume: \n",
    "    print (\"It will fit in one pan\")\n",
    "    \n",
    "elif NewTotalVolume > OneBakingPanVolume and NewTotalVolume <= TwoBakingPanVolume :\n",
    "    print (\"it will fit in two pans\")\n",
    "    \n",
    "elif NewTotalVolume > TwoBakingPanVolume and NewTotalVolume <= ThreeBakingPanVolume :\n",
    "    print (\"It will fit in three pans\")\n",
    "    \n",
    "elif NewTotalVolume > ThreeBakingPanVolume :\n",
    "    print (\"Too much\")"
   ]
  },
  {
   "cell_type": "markdown",
   "id": "0b8c7148",
   "metadata": {},
   "source": [
    "# Analyzing the course description"
   ]
  },
  {
   "cell_type": "markdown",
   "id": "b6c953fa",
   "metadata": {},
   "source": [
    "## 2.1 Just the length"
   ]
  },
  {
   "cell_type": "code",
   "execution_count": 65,
   "id": "452d0b50",
   "metadata": {},
   "outputs": [],
   "source": [
    "CourseDescription = str(\"This course will introduce basic programming and data science tools to give students the skills to use data to read, critique, and produce stories and insights. The class will cover the basics of the Python programming language, acquiring and processing public data, and basic tools and techniques for data analysis and visualization. We will focus on gaining access to data and basic data manipulation rather than complex statistical methods. The class will be built around student-designed independent projects and is targeted at students with no previous programming experience.\")"
   ]
  },
  {
   "cell_type": "code",
   "execution_count": 6,
   "id": "9e7ae5fd",
   "metadata": {},
   "outputs": [
    {
     "ename": "NameError",
     "evalue": "name 'CourseDescription' is not defined",
     "output_type": "error",
     "traceback": [
      "\u001b[0;31m---------------------------------------------------------------------------\u001b[0m",
      "\u001b[0;31mNameError\u001b[0m                                 Traceback (most recent call last)",
      "Cell \u001b[0;32mIn[6], line 1\u001b[0m\n\u001b[0;32m----> 1\u001b[0m \u001b[38;5;28mlen\u001b[39m(\u001b[43mCourseDescription\u001b[49m)\n",
      "\u001b[0;31mNameError\u001b[0m: name 'CourseDescription' is not defined"
     ]
    }
   ],
   "source": [
    "len(CourseDescription)"
   ]
  },
  {
   "cell_type": "code",
   "execution_count": 7,
   "id": "9516895e",
   "metadata": {},
   "outputs": [
    {
     "data": {
      "text/plain": [
       "581"
      ]
     },
     "execution_count": 7,
     "metadata": {},
     "output_type": "execute_result"
    }
   ],
   "source": [
    "CourseDescription = str(\"This course will introduce basic programming and data science tools to give students the skills to use data to read, critique, and produce stories and insights. The class will cover the basics of the Python programming language, acquiring and processing public data, and basic tools and techniques for data analysis and visualization. We will focus on gaining access to data and basic data manipulation rather than complex statistical methods. The class will be built around student-designed independent projects and is targeted at students with no previous programming experience.\")\n",
    "len(CourseDescription)"
   ]
  },
  {
   "cell_type": "markdown",
   "id": "f2f4d5c1",
   "metadata": {},
   "source": [
    "## 2.2 Looking inside the text"
   ]
  },
  {
   "cell_type": "code",
   "execution_count": 8,
   "id": "7a2b1220",
   "metadata": {},
   "outputs": [
    {
     "data": {
      "text/plain": [
       "False"
      ]
     },
     "execution_count": 8,
     "metadata": {},
     "output_type": "execute_result"
    }
   ],
   "source": [
    "\"Python\" in \"CourseDescription\""
   ]
  },
  {
   "cell_type": "code",
   "execution_count": 17,
   "id": "de2b4761",
   "metadata": {},
   "outputs": [
    {
     "name": "stdout",
     "output_type": "stream",
     "text": [
      "The word Python is in the course description\n"
     ]
    }
   ],
   "source": [
    "if \"Python\" in CourseDescription :\n",
    "    print (\"The word Python is in the course description\")\n",
    "    \n",
    "else :\n",
    "    print (\"The word Python is not in the course description\")"
   ]
  },
  {
   "cell_type": "code",
   "execution_count": 18,
   "id": "d9c7d435",
   "metadata": {},
   "outputs": [
    {
     "name": "stdout",
     "output_type": "stream",
     "text": [
      "The word Python and/or statistics is in the course description\n"
     ]
    }
   ],
   "source": [
    "if \"Python\" or \"Statistics\" in CourseDescription :\n",
    "    print (\"The word Python and/or statistics is in the course description\")\n",
    "    \n",
    "else :\n",
    "    print (\"The word Python is not in the course description\")"
   ]
  },
  {
   "cell_type": "code",
   "execution_count": 25,
   "id": "1cf2ac1b",
   "metadata": {},
   "outputs": [
    {
     "name": "stdout",
     "output_type": "stream",
     "text": [
      "The word Python is in the course description\n",
      "The word visualization is in the course description\n"
     ]
    }
   ],
   "source": [
    "if \"Python\" in CourseDescription :\n",
    "    print (\"The word Python is in the course description\")\n",
    "if \"Statistics\" in CourseDescription :\n",
    "    print ('The word Statistics is in the course description')\n",
    "if \"visualization\" in CourseDescription :\n",
    "    print ('The word visualization is in the course description')\n",
    "    \n",
    "else :\n",
    "    print (\"None of these words are in the course description\")\n",
    "    "
   ]
  },
  {
   "cell_type": "markdown",
   "id": "ade98628",
   "metadata": {},
   "source": [
    "## 2.3 A program that knows its limits"
   ]
  },
  {
   "cell_type": "code",
   "execution_count": 82,
   "id": "d330b5a1",
   "metadata": {},
   "outputs": [
    {
     "name": "stdout",
     "output_type": "stream",
     "text": [
      "catcatcat\n"
     ]
    }
   ],
   "source": [
    "my_variable = \"cat\"\n",
    "result = my_variable * 3\n",
    "\n",
    "if result == type(str) :\n",
    "    print (\"I cannot multiple something that is not a number, sorry\")\n",
    "else :\n",
    "    print (result)"
   ]
  },
  {
   "cell_type": "code",
   "execution_count": 86,
   "id": "ac8a39c3",
   "metadata": {},
   "outputs": [
    {
     "name": "stdout",
     "output_type": "stream",
     "text": [
      "I cannot multiple something that is not a number, sorry\n"
     ]
    }
   ],
   "source": [
    "my_variable = \"catto\"\n",
    "result = my_variable * 3\n",
    "\n",
    "if type(result) == str :\n",
    "    print (\"I cannot multiple something that is not a number, sorry\")\n",
    "else :\n",
    "    print (result)"
   ]
  },
  {
   "cell_type": "code",
   "execution_count": null,
   "id": "c1275e8e",
   "metadata": {},
   "outputs": [],
   "source": []
  }
 ],
 "metadata": {
  "kernelspec": {
   "display_name": "Python 3 (ipykernel)",
   "language": "python",
   "name": "python3"
  },
  "language_info": {
   "codemirror_mode": {
    "name": "ipython",
    "version": 3
   },
   "file_extension": ".py",
   "mimetype": "text/x-python",
   "name": "python",
   "nbconvert_exporter": "python",
   "pygments_lexer": "ipython3",
   "version": "3.10.9"
  }
 },
 "nbformat": 4,
 "nbformat_minor": 5
}
