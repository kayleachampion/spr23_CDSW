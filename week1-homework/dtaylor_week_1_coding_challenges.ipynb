{
 "cells": [
  {
   "cell_type": "code",
   "execution_count": 6,
   "id": "4d802c0c",
   "metadata": {},
   "outputs": [
    {
     "name": "stdout",
     "output_type": "stream",
     "text": [
      "the total volume is 3.75 cups\n"
     ]
    }
   ],
   "source": [
    "#1.1 - volume \n",
    "\n",
    "cups_of_flour = 2.25\n",
    "cups_of_sugar = .5\n",
    "cups_of_butter = 1\n",
    "\n",
    "v = cups_of_flour + cups_of_sugar + cups_of_butter\n",
    "\n",
    "print(\"the total volume is \" + str(v) + \" cups\") "
   ]
  },
  {
   "cell_type": "code",
   "execution_count": 16,
   "id": "55cc6dd8",
   "metadata": {},
   "outputs": [
    {
     "name": "stdout",
     "output_type": "stream",
     "text": [
      "the total volume of half a batch is 0.26666666666666666 cups\n"
     ]
    }
   ],
   "source": [
    "#1.2 - 1/2 batch\n",
    "\n",
    "number_of_batches = 1\n",
    "half = number_of_batches/v\n",
    "\n",
    "print(\"the total volume of half a batch is \" + str(half) + \" cups\")"
   ]
  },
  {
   "cell_type": "code",
   "execution_count": 17,
   "id": "78e2f9f2",
   "metadata": {},
   "outputs": [
    {
     "name": "stdout",
     "output_type": "stream",
     "text": [
      "the total volume of 3 batches is 11.25 cups\n"
     ]
    }
   ],
   "source": [
    "#1.2 - 3 batches\n",
    "\n",
    "number_of_batches = 3\n",
    "TB = v*number_of_batches\n",
    "\n",
    "print(\"the total volume of 3 batches is \" + str(TB) + \" cups\")"
   ]
  },
  {
   "cell_type": "code",
   "execution_count": 18,
   "id": "0d647054",
   "metadata": {},
   "outputs": [
    {
     "name": "stdout",
     "output_type": "stream",
     "text": [
      "the total volume of 5 batches is 18.75 cups\n"
     ]
    }
   ],
   "source": [
    "#1.2 - 5 batches\n",
    "\n",
    "number_of_batches = 5\n",
    "FB = v*number_of_batches\n",
    "\n",
    "print(\"the total volume of 5 batches is \" + str(FB) + \" cups\")"
   ]
  },
  {
   "cell_type": "code",
   "execution_count": 20,
   "id": "f582fd17",
   "metadata": {},
   "outputs": [
    {
     "name": "stdout",
     "output_type": "stream",
     "text": [
      "1/2 a batch will fit in 1 pan\n",
      "3 batches will need 3 pans\n",
      "5 batches is too much to fit in any pans!\n"
     ]
    }
   ],
   "source": [
    "#1.3 - 1/2 batch\n",
    "\n",
    "if half < 5:\n",
    "    print(\"1/2 a batch will fit in 1 pan\")\n",
    "elif half > 5 and half < 10:\n",
    "    print(\"1/2 a batch will need 2 pans\")\n",
    "elif half > 10 and half < 15:\n",
    "    print(\"1/2 a batch will need 3 pans\")\n",
    "elif half > 15:\n",
    "    print(\"1/2 a batch is too much to fit in any pans!\")\n",
    "    \n",
    "#1.3 - 3 batches \n",
    "\n",
    "if TB < 5:\n",
    "    print(\"3 batches will fit in 1 pan\")\n",
    "elif TB > 5 and TB < 10:\n",
    "    print(\"3 batches will need 2 pans\")\n",
    "elif TB > 10 and TB < 15:\n",
    "    print(\"3 batches will need 3 pans\")\n",
    "elif TB > 15:\n",
    "    print(\"3 batches is too much to fit in any pans!\")\n",
    "    \n",
    "#1.3 - 5 batches\n",
    "\n",
    "if FB < 5:\n",
    "    print(\"5 bathces will fit in 1 pan\")\n",
    "elif FB > 5 and FB < 10:\n",
    "    print(\"5 batches will need 2 pans\")\n",
    "elif FB > 10 and FB < 15:\n",
    "    print(\"5 batches will need 3 pans\")\n",
    "elif FB > 15:\n",
    "    print(\"5 batches is too much to fit in any pans!\")"
   ]
  },
  {
   "cell_type": "code",
   "execution_count": 11,
   "id": "230ea9d5",
   "metadata": {
    "scrolled": true
   },
   "outputs": [
    {
     "data": {
      "text/plain": [
       "581"
      ]
     },
     "execution_count": 11,
     "metadata": {},
     "output_type": "execute_result"
    }
   ],
   "source": [
    "#2.1 - just the length \n",
    "\n",
    "description = \"This course will introduce basic programming and data science tools to give students the skills to use data to read, critique, and produce stories and insights. The class will cover the basics of the Python programming language, acquiring and processing public data, and basic tools and techniques for data analysis and visualization. We will focus on gaining access to data and basic data manipulation rather than complex statistical methods. The class will be built around student-designed independent projects and is targeted at students with no previous programming experience.\"\n",
    "len(description)"
   ]
  },
  {
   "cell_type": "code",
   "execution_count": 21,
   "id": "8cbf64a0",
   "metadata": {},
   "outputs": [
    {
     "name": "stdout",
     "output_type": "stream",
     "text": [
      "python is case sensitive and has a capital 'p' in the description; therefore, false\n",
      "neither!!\n",
      "true\n"
     ]
    }
   ],
   "source": [
    "#2.2 - looking inside the text\n",
    "\n",
    "if \"python\" in description:\n",
    "    print(\"python is used in this course\")\n",
    "else:\n",
    "    print(\"python is case sensitive and has a capital 'p' in the description; therefore, false\")\n",
    "    \n",
    "if \"python\" in description or \"statistics\" in description:\n",
    "    print(\"one of them might be\")\n",
    "else:\n",
    "    print(\"neither!!\")\n",
    "    \n",
    "if \"python\" in description or \"statistics\" in description or \"visualization\" in description:\n",
    "    print(\"true\")\n",
    "else:\n",
    "    print(\"false\")"
   ]
  },
  {
   "cell_type": "code",
   "execution_count": 3,
   "id": "be868c83",
   "metadata": {},
   "outputs": [
    {
     "name": "stdout",
     "output_type": "stream",
     "text": [
      "Enter a Number 5\n",
      "15.0\n",
      "Enter a Number green\n",
      "this cannot be multiplied because it is not a number\n"
     ]
    }
   ],
   "source": [
    "#3\n",
    "\n",
    "my_variable = input(\"Enter a Number \")\n",
    "try:\n",
    "    new = float(my_variable)*3\n",
    "    print(new)\n",
    "except:\n",
    "    print(\"this cannot be multipled because it is not a number\")\n",
    "\n",
    "my_variable = input(\"Enter a Number \")\n",
    "try:\n",
    "    new = float(my_variable)*3\n",
    "    print(new)\n",
    "except:\n",
    "    print(\"this cannot be multiplied because it is not a number\")"
   ]
  }
 ],
 "metadata": {
  "kernelspec": {
   "display_name": "Python 3 (ipykernel)",
   "language": "python",
   "name": "python3"
  },
  "language_info": {
   "codemirror_mode": {
    "name": "ipython",
    "version": 3
   },
   "file_extension": ".py",
   "mimetype": "text/x-python",
   "name": "python",
   "nbconvert_exporter": "python",
   "pygments_lexer": "ipython3",
   "version": "3.10.9"
  }
 },
 "nbformat": 4,
 "nbformat_minor": 5
}
