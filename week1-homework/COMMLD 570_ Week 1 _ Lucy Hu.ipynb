{
 "cells": [
  {
   "cell_type": "code",
   "execution_count": null,
   "id": "fed92652",
   "metadata": {},
   "outputs": [],
   "source": [
    "#1.1 Compute the total volume\n",
    "Write some Python code to include the basic proportions in three variables cups_of_flour (set to 2¼), cups_of_sugar (set to ½) and cups_of_butter (set to 1).\n",
    "\n",
    "Now have your program print the total volume of shortbread dough with line that says something like the total volume is SOMENUMBEROF cups\" (but please replace SOMENUMBEROF) with whatever the real number is. And make sure you use variables! Don't just type the numbers in!"
   ]
  },
  {
   "cell_type": "code",
   "execution_count": 81,
   "id": "058914d3",
   "metadata": {},
   "outputs": [
    {
     "name": "stdout",
     "output_type": "stream",
     "text": [
      "The total volume is 3.75 cups\n"
     ]
    }
   ],
   "source": [
    "cups_of_flour = 9/4\n",
    "cups_of_sugar = 1/2\n",
    "cups_of_butter = 1\n",
    "\n",
    "total_volume = cups_of_flour + cups_of_sugar + cups_of_butter\n",
    "\n",
    "print(\"The total volume is \" + str(total_volume) + \" cups\")"
   ]
  },
  {
   "cell_type": "code",
   "execution_count": null,
   "id": "8e5ba854",
   "metadata": {},
   "outputs": [],
   "source": [
    "#1.2 Scale it up! number_of_batches = 1 default"
   ]
  },
  {
   "cell_type": "code",
   "execution_count": 46,
   "id": "9b988c61",
   "metadata": {},
   "outputs": [
    {
     "name": "stdout",
     "output_type": "stream",
     "text": [
      "The total volume of 1 batch is 3.75 cups\n"
     ]
    }
   ],
   "source": [
    "number_of_batches = 1\n",
    "\n",
    "total_volume = (cups_of_flour + cups_of_sugar + cups_of_butter) * number_of_batches\n",
    "\n",
    "print(\"The total volume of \" + str(number_of_batches) + \" batch is \" + str(total_volume) + \" cups\")"
   ]
  },
  {
   "cell_type": "code",
   "execution_count": null,
   "id": "9f0a6ee4",
   "metadata": {},
   "outputs": [],
   "source": [
    "#1.2 Scale it up! number_of_batches = .5"
   ]
  },
  {
   "cell_type": "code",
   "execution_count": 51,
   "id": "aef1f929",
   "metadata": {},
   "outputs": [
    {
     "name": "stdout",
     "output_type": "stream",
     "text": [
      "The total volume of 0.5 batch is 1.875 cups\n"
     ]
    }
   ],
   "source": [
    "number_of_batches = 0.5\n",
    "\n",
    "total_volume = (cups_of_flour + cups_of_sugar + cups_of_butter) * number_of_batches\n",
    "\n",
    "print(\"The total volume of \" + str(number_of_batches) + \" batch is \" + str(total_volume) + \" cups\")"
   ]
  },
  {
   "cell_type": "code",
   "execution_count": null,
   "id": "5f4ae1c1",
   "metadata": {},
   "outputs": [],
   "source": [
    "#1.2 Scale it up! number_of_batches = 3"
   ]
  },
  {
   "cell_type": "code",
   "execution_count": 50,
   "id": "317b2e1e",
   "metadata": {},
   "outputs": [
    {
     "name": "stdout",
     "output_type": "stream",
     "text": [
      "The total volume of 3 batches is 11.25 cups\n"
     ]
    }
   ],
   "source": [
    "number_of_batches = 3\n",
    "\n",
    "total_volume = (cups_of_flour + cups_of_sugar + cups_of_butter) * number_of_batches\n",
    "\n",
    "print(\"The total volume of \" + str(number_of_batches) + \" batches is \" + str(total_volume) + \" cups\")"
   ]
  },
  {
   "cell_type": "code",
   "execution_count": null,
   "id": "0ec29fa4",
   "metadata": {},
   "outputs": [],
   "source": [
    "#1.2 Scale it up! number_of_batches = 5"
   ]
  },
  {
   "cell_type": "code",
   "execution_count": 49,
   "id": "9128b7d1",
   "metadata": {},
   "outputs": [
    {
     "name": "stdout",
     "output_type": "stream",
     "text": [
      "The total volume of 5 batches is 18.75 cups\n"
     ]
    }
   ],
   "source": [
    "number_of_batches = 5\n",
    "\n",
    "total_volume = (cups_of_flour + cups_of_sugar + cups_of_butter) * number_of_batches\n",
    "\n",
    "print(\"The total volume of \" + str(number_of_batches) + \" batches is \" + str(total_volume) + \" cups\")"
   ]
  },
  {
   "cell_type": "code",
   "execution_count": null,
   "id": "7a1cbf83",
   "metadata": {},
   "outputs": [],
   "source": [
    "#1.3 Will it fit in my pans? number_of_batches = .5"
   ]
  },
  {
   "cell_type": "code",
   "execution_count": 54,
   "id": "5336f250",
   "metadata": {},
   "outputs": [
    {
     "name": "stdout",
     "output_type": "stream",
     "text": [
      "The total volume of 0.5 batch will fit in 1 pan.\n"
     ]
    }
   ],
   "source": [
    "number_of_batches = .5\n",
    "total_volume = (cups_of_flour + cups_of_sugar + cups_of_butter) * number_of_batches\n",
    "\n",
    "cups_of_dough = 5\n",
    "\n",
    "if total_volume <= cups_of_dough * 1.0:\n",
    "    print(\"The total volume of \" + str(number_of_batches) + \" batch will fit in \" + str(1) + \" pan.\")\n",
    "elif cups_of_dough * 1.0 < total_volume <= cups_of_dough * 2.0:\n",
    "    print(\"The total volume of \" + str(number_of_batches) + \" batch will fit in \" + str(2) + \" pan.\")\n",
    "elif cups_of_dough * 2.0 < total_volume <= cups_of_dough * 3.0:\n",
    "    print(\"The total volume of \" + str(number_of_batches) + \" batch will fit in \" + str(3) + \" pan.\")\n",
    "elif total_volume > cups_of_dough * 3.0:\n",
    "    print(\"The total volume of \" + str(number_of_batches) + \" batch will not fit in any of my pans!\")"
   ]
  },
  {
   "cell_type": "code",
   "execution_count": null,
   "id": "1ef4a911",
   "metadata": {},
   "outputs": [],
   "source": [
    "#1.3 Will it fit in my pans? number_of_batches = 3"
   ]
  },
  {
   "cell_type": "code",
   "execution_count": 55,
   "id": "c76fd071",
   "metadata": {},
   "outputs": [
    {
     "name": "stdout",
     "output_type": "stream",
     "text": [
      "The total volume of 3 batch will fit in 3 pan.\n"
     ]
    }
   ],
   "source": [
    "number_of_batches = 3\n",
    "total_volume = (cups_of_flour + cups_of_sugar + cups_of_butter) * number_of_batches\n",
    "\n",
    "cups_of_dough = 5\n",
    "\n",
    "if total_volume <= cups_of_dough * 1.0:\n",
    "    print(\"The total volume of \" + str(number_of_batches) + \" batch will fit in \" + str(1) + \" pan.\")\n",
    "elif cups_of_dough * 1.0 < total_volume <= cups_of_dough * 2.0:\n",
    "    print(\"The total volume of \" + str(number_of_batches) + \" batch will fit in \" + str(2) + \" pan.\")\n",
    "elif cups_of_dough * 2.0 < total_volume <= cups_of_dough * 3.0:\n",
    "    print(\"The total volume of \" + str(number_of_batches) + \" batch will fit in \" + str(3) + \" pan.\")\n",
    "elif total_volume > cups_of_dough * 3.0:\n",
    "    print(\"The total volume of \" + str(number_of_batches) + \" batch will not fit in any of my pans!\")"
   ]
  },
  {
   "cell_type": "code",
   "execution_count": null,
   "id": "8dd8cadf",
   "metadata": {},
   "outputs": [],
   "source": [
    "#1.3 Will it fit in my pans? number_of_batches = 5"
   ]
  },
  {
   "cell_type": "code",
   "execution_count": 56,
   "id": "65b46b6d",
   "metadata": {},
   "outputs": [
    {
     "name": "stdout",
     "output_type": "stream",
     "text": [
      "The total volume of 5 batch will not fit in any of my pans!\n"
     ]
    }
   ],
   "source": [
    "number_of_batches = 5\n",
    "total_volume = (cups_of_flour + cups_of_sugar + cups_of_butter) * number_of_batches\n",
    "\n",
    "cups_of_dough = 5\n",
    "\n",
    "if total_volume <= cups_of_dough * 1.0:\n",
    "    print(\"The total volume of \" + str(number_of_batches) + \" batch will fit in \" + str(1) + \" pan.\")\n",
    "elif cups_of_dough * 1.0 < total_volume <= cups_of_dough * 2.0:\n",
    "    print(\"The total volume of \" + str(number_of_batches) + \" batch will fit in \" + str(2) + \" pan.\")\n",
    "elif cups_of_dough * 2.0 < total_volume <= cups_of_dough * 3.0:\n",
    "    print(\"The total volume of \" + str(number_of_batches) + \" batch will fit in \" + str(3) + \" pan.\")\n",
    "elif total_volume > cups_of_dough * 3.0:\n",
    "    print(\"The total volume of \" + str(number_of_batches) + \" batch will not fit in any of my pans!\")"
   ]
  },
  {
   "cell_type": "code",
   "execution_count": null,
   "id": "185cd01c",
   "metadata": {},
   "outputs": [],
   "source": [
    "#2.1 Just the length "
   ]
  },
  {
   "cell_type": "code",
   "execution_count": 57,
   "id": "c4578203",
   "metadata": {},
   "outputs": [
    {
     "name": "stdout",
     "output_type": "stream",
     "text": [
      "The length of the course catalog description is 581 characters.\n"
     ]
    }
   ],
   "source": [
    "course_catalog_description = \"This course will introduce basic programming and data science tools to give students the skills to use data to read, critique, and produce stories and insights. The class will cover the basics of the Python programming language, acquiring and processing public data, and basic tools and techniques for data analysis and visualization. We will focus on gaining access to data and basic data manipulation rather than complex statistical methods. The class will be built around student-designed independent projects and is targeted at students with no previous programming experience.\"\n",
    "\n",
    "print(\"The length of the course catalog description is\", len(course_catalog_description), \"characters.\")"
   ]
  },
  {
   "cell_type": "code",
   "execution_count": null,
   "id": "89e55f5b",
   "metadata": {},
   "outputs": [],
   "source": [
    "#2.2 Looking inside the text  \"python\""
   ]
  },
  {
   "cell_type": "code",
   "execution_count": 60,
   "id": "274a0feb",
   "metadata": {},
   "outputs": [
    {
     "name": "stdout",
     "output_type": "stream",
     "text": [
      "The course catalog description does not contain 'python'.\n"
     ]
    }
   ],
   "source": [
    "if \"python\" in course_catalog_description:\n",
    "    print(\"The course catalog description contains 'python'.\")\n",
    "else:\n",
    "    print(\"The course catalog description does not contain 'python'.\")"
   ]
  },
  {
   "cell_type": "code",
   "execution_count": null,
   "id": "e6c3ac42",
   "metadata": {},
   "outputs": [],
   "source": [
    "#2.2 Looking inside the text  \"python\" or \"statistics\""
   ]
  },
  {
   "cell_type": "code",
   "execution_count": 66,
   "id": "169a5667",
   "metadata": {},
   "outputs": [
    {
     "name": "stdout",
     "output_type": "stream",
     "text": [
      "The course catalog description does not contain either 'python' or 'statistics'.\n"
     ]
    }
   ],
   "source": [
    "if \"python\" in course_catalog_description or \"statistics\" in course_catalog_description:\n",
    "    print(\"The course catalog description contains 'python' or 'statistics'.\")\n",
    "else:\n",
    "    print(\"The course catalog description does not contain either 'python' or 'statistics'.\")"
   ]
  },
  {
   "cell_type": "code",
   "execution_count": null,
   "id": "e1800078",
   "metadata": {},
   "outputs": [],
   "source": [
    "#2.2 Looking inside the text  \"python\" or \"statistics\" \"visualization\""
   ]
  },
  {
   "cell_type": "code",
   "execution_count": 65,
   "id": "f4c127b2",
   "metadata": {},
   "outputs": [
    {
     "name": "stdout",
     "output_type": "stream",
     "text": [
      "The course catalog description contains 'visualization'.\n"
     ]
    }
   ],
   "source": [
    "if \"python\" in course_catalog_description:\n",
    "    print(\"The course catalog description contains 'python'.\")\n",
    "elif \"statistics\" in course_catalog_description:\n",
    "    print(\"The course catalog description contains 'statistics'.\")\n",
    "elif \"visualization\" in course_catalog_description:\n",
    "    print(\"The course catalog description contains 'visualization'.\")\n",
    "elif \"python\"  in course_catalog_description and \"statistics\" in course_catalog_description:\n",
    "    print(\"The course catalog description contains 'python' and 'statistics'.\")\n",
    "elif \"python\"  in course_catalog_description and \"visualization\" in course_catalog_description:\n",
    "    print(\"The course catalog description contains 'python' and 'visualization'.\")\n",
    "elif \"statistics\"  in course_catalog_description and \"visualization\" in course_catalog_description:\n",
    "    print(\"The course catalog description contains 'statistics' and 'visualization'.\")  \n",
    "elif \"python\"  in course_catalog_description and \"statistics\"  in course_catalog_description and \"visualization\" in course_catalog_description:\n",
    "    print(\"The course catalog description contains 'python'and 'statistics' and 'visualization'.\")  \n",
    "else:\n",
    "    print(\"The course catalog description does not contain 'python', 'statistics' or 'visualization'.\")    "
   ]
  },
  {
   "cell_type": "code",
   "execution_count": null,
   "id": "37ed035b",
   "metadata": {},
   "outputs": [],
   "source": [
    "#3 A program that knows its limits "
   ]
  },
  {
   "cell_type": "code",
   "execution_count": 80,
   "id": "2be7a946",
   "metadata": {},
   "outputs": [
    {
     "name": "stdout",
     "output_type": "stream",
     "text": [
      "my_variable is not a number.\n"
     ]
    }
   ],
   "source": [
    "my_variable = \"Lucy\"\n",
    "\n",
    "if type(my_variable) in (int, float):\n",
    "    print (my_variable * 3.0)\n",
    "else: \n",
    "    print(\"my_variable is not a number.\")\n"
   ]
  },
  {
   "cell_type": "code",
   "execution_count": null,
   "id": "0768b8b4",
   "metadata": {},
   "outputs": [],
   "source": []
  },
  {
   "cell_type": "code",
   "execution_count": null,
   "id": "ee6b8de1",
   "metadata": {},
   "outputs": [],
   "source": []
  }
 ],
 "metadata": {
  "kernelspec": {
   "display_name": "Python 3 (ipykernel)",
   "language": "python",
   "name": "python3"
  },
  "language_info": {
   "codemirror_mode": {
    "name": "ipython",
    "version": 3
   },
   "file_extension": ".py",
   "mimetype": "text/x-python",
   "name": "python",
   "nbconvert_exporter": "python",
   "pygments_lexer": "ipython3",
   "version": "3.10.9"
  }
 },
 "nbformat": 4,
 "nbformat_minor": 5
}
