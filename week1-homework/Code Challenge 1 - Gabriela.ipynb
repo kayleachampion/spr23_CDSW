{
 "cells": [
  {
   "cell_type": "code",
   "execution_count": 17,
   "id": "e7179db0",
   "metadata": {},
   "outputs": [
    {
     "name": "stdout",
     "output_type": "stream",
     "text": [
      "the total volume is 4.0 cups\n"
     ]
    }
   ],
   "source": [
    "#1.1 Compute the total volume\n",
    "\n",
    "import math\n",
    "cups_of_flour=2.5\n",
    "cups_of_sugar=0.5  \n",
    "cups_of_butter=1\n",
    "total_volume=cups_of_flour+cups_of_sugar+cups_of_butter\n",
    "print(\"the total volume is \"+str(total_volume)+\" cups\")"
   ]
  },
  {
   "cell_type": "code",
   "execution_count": 145,
   "id": "eab6a4b3",
   "metadata": {},
   "outputs": [
    {
     "name": "stdout",
     "output_type": "stream",
     "text": [
      "the batch volume is 16.0\n"
     ]
    }
   ],
   "source": [
    "#1.2 Scale it up with a random number \n",
    "\n",
    "number_of_batches=4\n",
    "batches_volume=number_of_batches*total_volume\n",
    "print(\"the batch volume is \"+str(batches_volume))\n"
   ]
  },
  {
   "cell_type": "code",
   "execution_count": 19,
   "id": "f93e8c0b",
   "metadata": {},
   "outputs": [
    {
     "name": "stdout",
     "output_type": "stream",
     "text": [
      "the batch volume is 2.0\n"
     ]
    }
   ],
   "source": [
    "#Scale it up with half\n",
    "\n",
    "number_of_batches=0.5\n",
    "batches_volume=number_of_batches*total_volume\n",
    "print(\"the batch volume is \"+str(batches_volume))"
   ]
  },
  {
   "cell_type": "code",
   "execution_count": 20,
   "id": "c7d1839c",
   "metadata": {},
   "outputs": [
    {
     "name": "stdout",
     "output_type": "stream",
     "text": [
      "the batch volume is 12.0\n"
     ]
    }
   ],
   "source": [
    "#Scale it up with three\n",
    "\n",
    "number_of_batches=3\n",
    "batches_volume=number_of_batches*total_volume\n",
    "print(\"the batch volume is \"+str(batches_volume))"
   ]
  },
  {
   "cell_type": "code",
   "execution_count": 21,
   "id": "0d2a3242",
   "metadata": {},
   "outputs": [
    {
     "name": "stdout",
     "output_type": "stream",
     "text": [
      "the batch volume is 20.0\n"
     ]
    }
   ],
   "source": [
    "#Scale it up with five\n",
    "\n",
    "number_of_batches=5\n",
    "batches_volume=number_of_batches*total_volume\n",
    "print(\"the batch volume is \"+str(batches_volume))"
   ]
  },
  {
   "cell_type": "code",
   "execution_count": 146,
   "id": "5c084b6e",
   "metadata": {},
   "outputs": [
    {
     "name": "stdout",
     "output_type": "stream",
     "text": [
      "total amount of dough will fit in 1 pan\n"
     ]
    }
   ],
   "source": [
    "#1.3 Will it fit in my pans? Half\n",
    "\n",
    "number_of_baking_pans=3\n",
    "amount_of_doug_by_pan=5\n",
    "cups_of_dough=0.5\n",
    "pan_requires=math.ceil(cups_of_dough/amount_of_doug_by_pan)\n",
    "if pan_requires>number_of_baking_pans:\n",
    "    print(\"will be too much to fit in any of my pans!\")\n",
    "else:\n",
    "    print(\"total amount of dough will fit in \"+str(pan_requires)+\" pan\")"
   ]
  },
  {
   "cell_type": "code",
   "execution_count": 147,
   "id": "fcd6c24b",
   "metadata": {},
   "outputs": [
    {
     "name": "stdout",
     "output_type": "stream",
     "text": [
      "total amount of dough will fit in 1 pan\n"
     ]
    }
   ],
   "source": [
    "#1.3 Will it fit in my pans? three\n",
    "\n",
    "number_of_baking_pans=3\n",
    "amount_of_doug_by_pan=5\n",
    "cups_of_dough=3\n",
    "pan_requires=math.ceil(cups_of_dough/amount_of_doug_by_pan)\n",
    "if pan_requires>number_of_baking_pans:\n",
    "    print(\"will be too much to fit in any of my pans!\")\n",
    "else:\n",
    "    print(\"total amount of dough will fit in \"+str(pan_requires)+\" pan\")"
   ]
  },
  {
   "cell_type": "code",
   "execution_count": 148,
   "id": "e9a73376",
   "metadata": {},
   "outputs": [
    {
     "name": "stdout",
     "output_type": "stream",
     "text": [
      "total amount of dough will fit in 1 pan\n"
     ]
    }
   ],
   "source": [
    "#1.3 Will it fit in my pans? five\n",
    "\n",
    "number_of_baking_pans=3\n",
    "amount_of_doug_by_pan=5\n",
    "cups_of_dough=5\n",
    "pan_requires=math.ceil(cups_of_dough/amount_of_doug_by_pan)\n",
    "if pan_requires>number_of_baking_pans:\n",
    "    print(\"will be too much to fit in any of my pans!\")\n",
    "else:\n",
    "    print(\"total amount of dough will fit in \"+str(pan_requires)+\" pan\")"
   ]
  },
  {
   "cell_type": "code",
   "execution_count": 51,
   "id": "8847feb4",
   "metadata": {},
   "outputs": [
    {
     "name": "stdout",
     "output_type": "stream",
     "text": [
      "the total amount of characters is 581\n"
     ]
    }
   ],
   "source": [
    "#2.1 Just the length\n",
    "\n",
    "course_description=\"This course will introduce basic programming and data science tools to give students the skills to use data to read, critique, and produce stories and insights. The class will cover the basics of the Python programming language, acquiring and processing public data, and basic tools and techniques for data analysis and visualization. We will focus on gaining access to data and basic data manipulation rather than complex statistical methods. The class will be built around student-designed independent projects and is targeted at students with no previous programming experience.\"\n",
    "amount_charecters=len(course_description)\n",
    "print(\"the total amount of characters is \"+str(amount_charecters))"
   ]
  },
  {
   "cell_type": "code",
   "execution_count": 71,
   "id": "33f56e97",
   "metadata": {},
   "outputs": [
    {
     "name": "stdout",
     "output_type": "stream",
     "text": [
      "You will learn Phyton\n"
     ]
    }
   ],
   "source": [
    "#2.2 Looking inside the text\n",
    "\n",
    "\n",
    "course_description=\"This course will introduce basic programming and data science tools to give students the skills to use data to read, critique, and produce stories and insights. The class will cover the basics of the Python programming language, acquiring and processing public data, and basic tools and techniques for data analysis and visualization. We will focus on gaining access to data and basic data manipulation rather than complex statistical methods. The class will be built around student-designed independent projects and is targeted at students with no previous programming experience.\"\n",
    "if \"Python\" in course_description:\n",
    "    print(\"You will learn Phyton\")"
   ]
  },
  {
   "cell_type": "code",
   "execution_count": 82,
   "id": "40da91e1",
   "metadata": {},
   "outputs": [
    {
     "name": "stdout",
     "output_type": "stream",
     "text": [
      "works\n"
     ]
    }
   ],
   "source": [
    "#2.2 Looking inside the text it contains either the word \"python\" or the word \"statistics\"\n",
    "\n",
    "course_description=\"This course will introduce basic programming and data science tools to give students the skills to use data to read, critique, and produce stories and insights. The class will cover the basics of the Python programming language, acquiring and processing public data, and basic tools and techniques for data analysis and visualization. We will focus on gaining access to data and basic data manipulation rather than complex statistical methods. The class will be built around student-designed independent projects and is targeted at students with no previous programming experience.\"\n",
    "search_term_1=\"Python\"\n",
    "search_term_2=\"statistics\"\n",
    "if search_term_1 in course_description or search_term_2 in course_description:\n",
    "    print (\"works\")\n"
   ]
  },
  {
   "cell_type": "code",
   "execution_count": 87,
   "id": "9b779cca",
   "metadata": {},
   "outputs": [
    {
     "name": "stdout",
     "output_type": "stream",
     "text": [
      "works!\n"
     ]
    }
   ],
   "source": [
    "#2.2 Looking inside the text it contains any of the words \"python\", \"statistics\", or \"visualization\"\n",
    "\n",
    "course_description=\"This course will introduce basic programming and data science tools to give students the skills to use data to read, critique, and produce stories and insights. The class will cover the basics of the Python programming language, acquiring and processing public data, and basic tools and techniques for data analysis and visualization. We will focus on gaining access to data and basic data manipulation rather than complex statistical methods. The class will be built around student-designed independent projects and is targeted at students with no previous programming experience.\"\n",
    "search_term_1=\"Python\"\n",
    "search_term_2=\"statistics\"\n",
    "search_term_3=\"visualization\"\n",
    "if (search_term_1 in course_description \n",
    "or search_term_2 in course_description \n",
    "or search_term_3 in course_description):\n",
    "    print (\"works!\")"
   ]
  },
  {
   "cell_type": "code",
   "execution_count": null,
   "id": "8de20c60",
   "metadata": {},
   "outputs": [],
   "source": [
    "#3 A program that knows its limits\n",
    "\n",
    "#this was really hard, I don't know if I did it right, lol\n"
   ]
  },
  {
   "cell_type": "code",
   "execution_count": 150,
   "id": "c68952d9",
   "metadata": {},
   "outputs": [
    {
     "name": "stdout",
     "output_type": "stream",
     "text": [
      "aaa not a number\n"
     ]
    }
   ],
   "source": [
    "#3 A program that knows its limits\n",
    "\n",
    "othervariable=\"a\"\n",
    "my_variable=othervariable*3\n",
    "if (isinstance(my_variable,str)):\n",
    "    print (my_variable,\"not a number\")\n",
    "\n",
    "else:\n",
    "    print (my_variable)\n"
   ]
  },
  {
   "cell_type": "code",
   "execution_count": null,
   "id": "1f5c79f8",
   "metadata": {},
   "outputs": [],
   "source": []
  },
  {
   "cell_type": "code",
   "execution_count": null,
   "id": "b39d2863",
   "metadata": {},
   "outputs": [],
   "source": []
  }
 ],
 "metadata": {
  "kernelspec": {
   "display_name": "Python 3 (ipykernel)",
   "language": "python",
   "name": "python3"
  },
  "language_info": {
   "codemirror_mode": {
    "name": "ipython",
    "version": 3
   },
   "file_extension": ".py",
   "mimetype": "text/x-python",
   "name": "python",
   "nbconvert_exporter": "python",
   "pygments_lexer": "ipython3",
   "version": "3.10.9"
  }
 },
 "nbformat": 4,
 "nbformat_minor": 5
}
