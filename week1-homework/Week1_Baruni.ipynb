{
 "cells": [
  {
   "cell_type": "code",
   "execution_count": 9,
   "id": "737c93d0",
   "metadata": {},
   "outputs": [
    {
     "name": "stdout",
     "output_type": "stream",
     "text": [
      "the total volume is 3.750000 cups\n"
     ]
    }
   ],
   "source": [
    "cups_of_flour = 2.25\n",
    "cups_of_sugar = 0.5\n",
    "cups_of_butter = 1.0\n",
    "\n",
    "volume = cups_of_flour + cups_of_sugar + cups_of_butter\n",
    "print(\"the total volume is %f \" %volume + \"cups\")"
   ]
  },
  {
   "cell_type": "code",
   "execution_count": 10,
   "id": "941f1944",
   "metadata": {},
   "outputs": [
    {
     "name": "stdout",
     "output_type": "stream",
     "text": [
      "3.75\n"
     ]
    }
   ],
   "source": [
    "number_of_batches = 1\n",
    "NewVolume = volume*number_of_batches\n",
    "print(NewVolume)"
   ]
  },
  {
   "cell_type": "code",
   "execution_count": 11,
   "id": "a126cee6",
   "metadata": {},
   "outputs": [
    {
     "name": "stdout",
     "output_type": "stream",
     "text": [
      "1.875\n"
     ]
    }
   ],
   "source": [
    "number_of_batches = 0.5\n",
    "NewVolume1 = volume*number_of_batches\n",
    "print(NewVolume1)"
   ]
  },
  {
   "cell_type": "code",
   "execution_count": 12,
   "id": "d18f7693",
   "metadata": {},
   "outputs": [
    {
     "name": "stdout",
     "output_type": "stream",
     "text": [
      "11.25\n"
     ]
    }
   ],
   "source": [
    "number_of_batches = 3\n",
    "NewVolume2 = volume*number_of_batches\n",
    "print(NewVolume2)"
   ]
  },
  {
   "cell_type": "code",
   "execution_count": 13,
   "id": "13b7b266",
   "metadata": {},
   "outputs": [
    {
     "name": "stdout",
     "output_type": "stream",
     "text": [
      "18.75\n"
     ]
    }
   ],
   "source": [
    "number_of_batches = 5\n",
    "NewVolume3 = volume*number_of_batches\n",
    "print(NewVolume3)"
   ]
  },
  {
   "cell_type": "code",
   "execution_count": 14,
   "id": "cbf83c17",
   "metadata": {},
   "outputs": [
    {
     "ename": "SyntaxError",
     "evalue": "invalid syntax (2962379905.py, line 3)",
     "output_type": "error",
     "traceback": [
      "\u001b[0;36m  Cell \u001b[0;32mIn[14], line 3\u001b[0;36m\u001b[0m\n\u001b[0;31m    else if volume == NewVolume2:\u001b[0m\n\u001b[0m    ^\u001b[0m\n\u001b[0;31mSyntaxError\u001b[0m\u001b[0;31m:\u001b[0m invalid syntax\n"
     ]
    }
   ],
   "source": [
    "if volume == NewVolume1:\n",
    "    print(\"This will fit in 1 baking pan\")\n",
    "    else if volume == NewVolume2:\n",
    "        print(\"This will fit in 3 baking pans\")\n",
    "        else if volume == NewVolume3:\n",
    "            print(\"This is too much & will not fit in your bakings pans\")\n",
    "        "
   ]
  },
  {
   "cell_type": "code",
   "execution_count": 24,
   "id": "67dfcf7a",
   "metadata": {},
   "outputs": [
    {
     "name": "stdout",
     "output_type": "stream",
     "text": [
      "This will fit in 1 baking pan\n"
     ]
    }
   ],
   "source": [
    "Baking_pan_calculator = NewVolume1\n",
    "\n",
    "if Baking_pan_calculator <=5:\n",
    "    print(\"This will fit in 1 baking pan\")\n",
    "elif Baking_pan_calculator <=10:\n",
    "    print(\"This will fit in 2 baking pans\")\n",
    "elif Baking_pan_calculator <= 15:\n",
    "    print(\"This will fit in 3 baking pans\")\n",
    "else :\n",
    "    print(\"This is too much & will not fit in your bakings pans\")"
   ]
  },
  {
   "cell_type": "code",
   "execution_count": 23,
   "id": "b2eed710",
   "metadata": {},
   "outputs": [],
   "source": [
    "Baking_pan_calculator = NewVolume2"
   ]
  },
  {
   "cell_type": "code",
   "execution_count": 25,
   "id": "6ecfaabb",
   "metadata": {},
   "outputs": [
    {
     "name": "stdout",
     "output_type": "stream",
     "text": [
      "This will fit in 3 baking pans\n"
     ]
    }
   ],
   "source": [
    "Baking_pan_calculator = NewVolume2\n",
    "\n",
    "if Baking_pan_calculator <=5:\n",
    "    print(\"This will fit in 1 baking pan\")\n",
    "elif Baking_pan_calculator <=10:\n",
    "    print(\"This will fit in 2 baking pans\")\n",
    "elif Baking_pan_calculator <= 15:\n",
    "    print(\"This will fit in 3 baking pans\")\n",
    "else :\n",
    "    print(\"This is too much & will not fit in your bakings pans\")"
   ]
  },
  {
   "cell_type": "code",
   "execution_count": 26,
   "id": "5533a130",
   "metadata": {},
   "outputs": [
    {
     "name": "stdout",
     "output_type": "stream",
     "text": [
      "This is too much & will not fit in your bakings pans\n"
     ]
    }
   ],
   "source": [
    "Baking_pan_calculator = NewVolume3\n",
    "\n",
    "if Baking_pan_calculator <=5:\n",
    "    print(\"This will fit in 1 baking pan\")\n",
    "elif Baking_pan_calculator <=10:\n",
    "    print(\"This will fit in 2 baking pans\")\n",
    "elif Baking_pan_calculator <= 15:\n",
    "    print(\"This will fit in 3 baking pans\")\n",
    "else :\n",
    "    print(\"This is too much & will not fit in your bakings pans\")"
   ]
  },
  {
   "cell_type": "code",
   "execution_count": 27,
   "id": "57664561",
   "metadata": {},
   "outputs": [
    {
     "data": {
      "text/plain": [
       "581"
      ]
     },
     "execution_count": 27,
     "metadata": {},
     "output_type": "execute_result"
    }
   ],
   "source": [
    "Course_Catalog = \"This course will introduce basic programming and data science tools to give students the skills to use data to read, critique, and produce stories and insights. The class will cover the basics of the Python programming language, acquiring and processing public data, and basic tools and techniques for data analysis and visualization. We will focus on gaining access to data and basic data manipulation rather than complex statistical methods. The class will be built around student-designed independent projects and is targeted at students with no previous programming experience.\"\n",
    "len(Course_Catalog)"
   ]
  },
  {
   "cell_type": "code",
   "execution_count": 28,
   "id": "1c8e5d09",
   "metadata": {},
   "outputs": [
    {
     "name": "stdout",
     "output_type": "stream",
     "text": [
      "The course description contains the word Python\n"
     ]
    }
   ],
   "source": [
    "if \"Python\" in Course_Catalog:\n",
    "    print(\"The course description contains the word Python\")"
   ]
  },
  {
   "cell_type": "code",
   "execution_count": 35,
   "id": "f3f43a85",
   "metadata": {},
   "outputs": [
    {
     "name": "stdout",
     "output_type": "stream",
     "text": [
      "The course description contains the word Python or the word statistics\n"
     ]
    }
   ],
   "source": [
    "if \"Python\" or \"statistics\" in Course_Catalog:\n",
    "    print(\"The course description contains the word Python or the word statistics\")\n",
    "else:\n",
    "    print(\"The words do not exist in the description\")"
   ]
  },
  {
   "cell_type": "code",
   "execution_count": 36,
   "id": "b7d71c1f",
   "metadata": {},
   "outputs": [
    {
     "name": "stdout",
     "output_type": "stream",
     "text": [
      "The course description contains the word Python, visualization or the word statistics\n"
     ]
    }
   ],
   "source": [
    "if \"Python\" or \"statistics\" or \"visualization\" in Course_Catalog:\n",
    "    print(\"The course description contains the word Python, visualization or the word statistics\")\n",
    "else:\n",
    "    print(\"The words do not exist in the description\")"
   ]
  },
  {
   "cell_type": "code",
   "execution_count": 40,
   "id": "62565a9a",
   "metadata": {},
   "outputs": [
    {
     "name": "stdout",
     "output_type": "stream",
     "text": [
      "15\n"
     ]
    }
   ],
   "source": [
    "variable = 5\n",
    "my_variable = 3*variable\n",
    "type_of_myvariable = type(my_variable)\n",
    "if type_of_myvariable == int or type_of_myvariable == float:\n",
    "    print(my_variable)\n",
    "else:\n",
    "    print(\"You have not entered a number\")"
   ]
  },
  {
   "cell_type": "code",
   "execution_count": 41,
   "id": "908b5d45",
   "metadata": {},
   "outputs": [
    {
     "name": "stdout",
     "output_type": "stream",
     "text": [
      "You have not entered a number\n"
     ]
    }
   ],
   "source": [
    "variable = \"Baruni\"\n",
    "my_variable = 3*variable\n",
    "type_of_myvariable = type(my_variable)\n",
    "if type_of_myvariable == int or type_of_myvariable == float:\n",
    "    print(my_variable)\n",
    "else:\n",
    "    print(\"You have not entered a number\")"
   ]
  },
  {
   "cell_type": "code",
   "execution_count": null,
   "id": "1d886e66",
   "metadata": {},
   "outputs": [],
   "source": []
  }
 ],
 "metadata": {
  "kernelspec": {
   "display_name": "Python 3 (ipykernel)",
   "language": "python",
   "name": "python3"
  },
  "language_info": {
   "codemirror_mode": {
    "name": "ipython",
    "version": 3
   },
   "file_extension": ".py",
   "mimetype": "text/x-python",
   "name": "python",
   "nbconvert_exporter": "python",
   "pygments_lexer": "ipython3",
   "version": "3.10.9"
  }
 },
 "nbformat": 4,
 "nbformat_minor": 5
}
