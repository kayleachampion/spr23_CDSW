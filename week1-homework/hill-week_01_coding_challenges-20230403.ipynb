{
 "cells": [
  {
   "cell_type": "markdown",
   "id": "coral-feeding",
   "metadata": {},
   "source": [
    "Worked solutions to the Week 01 coding challenges by Benjamin Mako Hill\n",
    "\n",
    "\n",
    "\n",
    "# 1. shortbread\n",
    "\n",
    "# 1.1 Compute the total volume\n",
    "\n",
    "Write some Python code to include the basic proportions in three variables cups_of_flour (set to 2¼), cups_of_sugar (set to ½) and cups_of_butter (set to 1).\n",
    "\n",
    "Now have your program print the total volume of shortbread dough with line that says something like the total volume is SOMENUMBEROF cups\" (but please replace SOMENUMBEROF) with whatever the real number is. And make sure you use variables! Don't just type the numbers in! "
   ]
  },
  {
   "cell_type": "code",
   "execution_count": 1,
   "id": "incident-prevention",
   "metadata": {},
   "outputs": [],
   "source": [
    "#set my variables\n",
    "cups_of_flour = 2.25\n",
    "cups_of_sugar = 0.5\n",
    "cups_of_butter = 1"
   ]
  },
  {
   "cell_type": "code",
   "execution_count": 2,
   "id": "affiliated-prevention",
   "metadata": {},
   "outputs": [
    {
     "name": "stdout",
     "output_type": "stream",
     "text": [
      "the total volume is 3.75\n"
     ]
    }
   ],
   "source": [
    "total_volume = cups_of_flour + cups_of_sugar + cups_of_butter\n",
    "print(\"the total volume is \" + str(total_volume))"
   ]
  },
  {
   "cell_type": "code",
   "execution_count": 3,
   "id": "worse-nursing",
   "metadata": {},
   "outputs": [
    {
     "name": "stdout",
     "output_type": "stream",
     "text": [
      "the total volume is 3.75\n"
     ]
    }
   ],
   "source": [
    "# here is a version that uses \"f-strings\" which are a cool way of adding\n",
    "# variables inside of strings by using a special kind of string that starts with an\n",
    "# f before the \"\" and uses {} to tell the string that it's going to be python\n",
    "print(f\"the total volume is {str(total_volume)}\")"
   ]
  },
  {
   "cell_type": "markdown",
   "id": "guided-canon",
   "metadata": {},
   "source": [
    "# 1.2 scale it up"
   ]
  },
  {
   "cell_type": "markdown",
   "id": "automated-business",
   "metadata": {},
   "source": [
    "Now lets change the program so that it a new variable called number_of_batches. Lets set this equal to 1 by default. Now lets make it so that if you increase the number of batches, it will print the new total volume.\n",
    "\n",
    "What is the total volume of ½ batch? How about 3 batches? How about 5? "
   ]
  },
  {
   "cell_type": "markdown",
   "id": "humanitarian-adelaide",
   "metadata": {},
   "source": [
    "\n",
    "#1.3 Will it fit in my pans?\n",
    "\n",
    "I personally tend to bake shortbread in big sheets in deep baking pans. Lets say my baking pan can only hold 5 cups of dough. But I have three such baking pans!\n",
    "\n",
    "Write some Python that prints out a message to tell me if the three total amounts above (half, 3, and 5 batches) will fit in 1 pan, 2 pans, 3 pans, or if it will be too much to fit in any of my pans!  = number_of_batches * total_volume"
   ]
  },
  {
   "cell_type": "code",
   "execution_count": 4,
   "id": "convenient-collective",
   "metadata": {},
   "outputs": [
    {
     "name": "stdout",
     "output_type": "stream",
     "text": [
      "the total volume is 1.875\n"
     ]
    }
   ],
   "source": [
    "number_of_batches = 0.5\n",
    "half_batch_total_volume = number_of_batches * total_volume\n",
    "print(\"the total volume is \" + str(half_batch_total_volume))"
   ]
  },
  {
   "cell_type": "code",
   "execution_count": 5,
   "id": "reflected-algorithm",
   "metadata": {},
   "outputs": [
    {
     "name": "stdout",
     "output_type": "stream",
     "text": [
      "the total volume is 11.25\n"
     ]
    }
   ],
   "source": [
    "number_of_batches = 3\n",
    "triple_batch_total_volume = number_of_batches * total_volume\n",
    "print(\"the total volume is \" + str(triple_batch_total_volume))"
   ]
  },
  {
   "cell_type": "code",
   "execution_count": 6,
   "id": "looking-collapse",
   "metadata": {},
   "outputs": [
    {
     "name": "stdout",
     "output_type": "stream",
     "text": [
      "the total volume is 18.75\n"
     ]
    }
   ],
   "source": [
    "number_of_batches = 5\n",
    "quint_batch_total_volume = number_of_batches * total_volume\n",
    "print(\"the total volume is \" + str(quint_batch_total_volume))"
   ]
  },
  {
   "cell_type": "markdown",
   "id": "portable-apollo",
   "metadata": {},
   "source": [
    "## 1.3 Will it fit in my pans?\n",
    "\n",
    "I personally tend to bake shortbread in big sheets in deep baking pans. Lets say my baking pan can only hold 5 cups of dough. But I have three such baking pans!\n",
    "\n",
    "Write some Python that prints out a message to tell me if the three total amounts above (half, 3, and 5 batches) will fit in 1 pan, 2 pans, 3 pans, or if it will be too much to fit in any of my pans! "
   ]
  },
  {
   "cell_type": "code",
   "execution_count": 7,
   "id": "cosmetic-heater",
   "metadata": {},
   "outputs": [
    {
     "name": "stdout",
     "output_type": "stream",
     "text": [
      "it will fit in 1 pan!\n"
     ]
    }
   ],
   "source": [
    "test_volume = half_batch_total_volume\n",
    "\n",
    "if test_volume <= 5:\n",
    "    print(\"it will fit in 1 pan!\")\n",
    "elif test_volume > 5 and test_volume <= 10:\n",
    "    print(\"it will in 2 pans!\")\n",
    "elif test_volume > 10 and test_volume <= 15:\n",
    "    print(\"it will fit in 3 pans!\")\n",
    "else:\n",
    "    print(\"it's too big to fit in 3 pans!\")"
   ]
  },
  {
   "cell_type": "code",
   "execution_count": 8,
   "id": "guilty-mainland",
   "metadata": {},
   "outputs": [
    {
     "name": "stdout",
     "output_type": "stream",
     "text": [
      "it will fit in 3 pans!\n"
     ]
    }
   ],
   "source": [
    "test_volume = triple_batch_total_volume\n",
    "\n",
    "if test_volume <= 5:\n",
    "    print(\"it will fit in 1 pan!\")\n",
    "elif test_volume > 5 and test_volume <= 10:\n",
    "    print(\"it will in 2 pans!\")\n",
    "elif test_volume > 10 and test_volume <= 15:\n",
    "    print(\"it will fit in 3 pans!\")\n",
    "else:\n",
    "    print(\"it's too big to fit in 3 pans!\")"
   ]
  },
  {
   "cell_type": "code",
   "execution_count": 9,
   "id": "noticed-courtesy",
   "metadata": {},
   "outputs": [
    {
     "name": "stdout",
     "output_type": "stream",
     "text": [
      "it's too big to fit in 3 pans!\n"
     ]
    }
   ],
   "source": [
    "test_volume = quint_batch_total_volume\n",
    "\n",
    "if test_volume <= 5:\n",
    "    print(\"it will fit in 1 pan!\")\n",
    "elif test_volume > 5 and test_volume <= 10:\n",
    "    print(\"it will in 2 pans!\")\n",
    "elif test_volume > 10 and test_volume <= 15:\n",
    "    print(\"it will fit in 3 pans!\")\n",
    "else:\n",
    "    print(\"it's too big to fit in 3 pans!\")"
   ]
  },
  {
   "cell_type": "markdown",
   "id": "circular-episode",
   "metadata": {},
   "source": [
    "# Analyzing the course description"
   ]
  },
  {
   "cell_type": "code",
   "execution_count": 10,
   "id": "representative-poker",
   "metadata": {},
   "outputs": [],
   "source": [
    "course_description = \"This course will introduce basic programming and data science tools to give students the skills to use data to read, critique, and produce stories and insights. The class will cover the basics of the Python programming language, acquiring and processing public data, and basic tools and techniques for data analysis and visualization. We will focus on gaining access to data and basic data manipulation rather than complex statistical methods. The class will be built around student-designed independent projects and is targeted at students with no previous programming experience.\""
   ]
  },
  {
   "cell_type": "markdown",
   "id": "sixth-jewelry",
   "metadata": {},
   "source": [
    "## 2.1 Just the length\n",
    "\n",
    "Write some python code where there's a variable that contains the course catalog description (available at the top of the syllabus) and tells me how many characters there are in the course description. "
   ]
  },
  {
   "cell_type": "code",
   "execution_count": 11,
   "id": "respiratory-active",
   "metadata": {},
   "outputs": [
    {
     "data": {
      "text/plain": [
       "581"
      ]
     },
     "execution_count": 11,
     "metadata": {},
     "output_type": "execute_result"
    }
   ],
   "source": [
    "len(course_description)"
   ]
  },
  {
   "cell_type": "markdown",
   "id": "armed-configuration",
   "metadata": {},
   "source": [
    "## 2.2 Looking inside the text\n",
    "\n",
    "Write some code that tells us if that course description variable we made contains the word \"python\"? Have it print out helpful answers regardless of what it finds. Be ready to talk about and explain your answer!"
   ]
  },
  {
   "cell_type": "code",
   "execution_count": 12,
   "id": "floppy-panel",
   "metadata": {},
   "outputs": [
    {
     "name": "stdout",
     "output_type": "stream",
     "text": [
      "The term 'python' is not in the course description.\n"
     ]
    }
   ],
   "source": [
    "if \"python\" in course_description:\n",
    "    print(\"The term 'python' is in the course description.\")\n",
    "else:\n",
    "    print(\"The term 'python' is not in the course description.\")"
   ]
  },
  {
   "cell_type": "markdown",
   "id": "composite-tomorrow",
   "metadata": {},
   "source": [
    "Now add some code that tells us if it contains either the word \"python\" or the word \"statistics\".\n"
   ]
  },
  {
   "cell_type": "code",
   "execution_count": 13,
   "id": "identical-torture",
   "metadata": {},
   "outputs": [
    {
     "name": "stdout",
     "output_type": "stream",
     "text": [
      "Neither the term 'python' nor the word 'statistics' is in the course description.\n"
     ]
    }
   ],
   "source": [
    "if \"python\" in course_description or \"statistics\" in course_description:\n",
    "    print(\"Either the term 'python' or the term 'statistics' is in the course description.\")\n",
    "else:\n",
    "    print(\"Neither the term 'python' nor the word 'statistics' is in the course description.\")"
   ]
  },
  {
   "cell_type": "markdown",
   "id": "supported-primary",
   "metadata": {},
   "source": [
    "Now add some more code to tell if it contains any of the words \"python\", \"statistics\", or \"visualization\""
   ]
  },
  {
   "cell_type": "code",
   "execution_count": 14,
   "id": "dietary-artwork",
   "metadata": {},
   "outputs": [
    {
     "name": "stdout",
     "output_type": "stream",
     "text": [
      "At least one of those three words is in the course description.\n"
     ]
    }
   ],
   "source": [
    "if \"python\" in course_description or \"statistics\" in course_description or \"visualization\" in course_description:\n",
    "    print(\"At least one of those three words is in the course description.\")\n",
    "else:\n",
    "    print(\"None of those three words is in the course description.\")"
   ]
  },
  {
   "cell_type": "markdown",
   "id": "light-superintendent",
   "metadata": {},
   "source": [
    "# 3 A program that knows its limits\n",
    "\n",
    "Write code that has a variable called my_variable and that multiplies my_variable times 3 and prints out the value of the multiplication—but that FIRST checks to see if my_variable is a number and prints out a message you come up with, saying that it can't multiply something that is not a number. "
   ]
  },
  {
   "cell_type": "code",
   "execution_count": 15,
   "id": "amber-consciousness",
   "metadata": {},
   "outputs": [
    {
     "name": "stdout",
     "output_type": "stream",
     "text": [
      "I cannot multiple that because it is not a number.\n"
     ]
    }
   ],
   "source": [
    "# my_variable = 10\n",
    "# my_variable = 12.2\n",
    "my_variable = \"mako!\"\n",
    "\n",
    "# check to make sure it's a number\n",
    "if type(my_variable) == type(1) or type(my_variable) == type(1.0):\n",
    "    print(my_variable * 3)\n",
    "else:\n",
    "    print(\"I cannot multiple that because it is not a number.\")"
   ]
  },
  {
   "cell_type": "code",
   "execution_count": null,
   "id": "extreme-natural",
   "metadata": {},
   "outputs": [],
   "source": []
  }
 ],
 "metadata": {
  "kernelspec": {
   "display_name": "Python 3",
   "language": "python",
   "name": "python3"
  },
  "language_info": {
   "codemirror_mode": {
    "name": "ipython",
    "version": 3
   },
   "file_extension": ".py",
   "mimetype": "text/x-python",
   "name": "python",
   "nbconvert_exporter": "python",
   "pygments_lexer": "ipython3",
   "version": "3.9.2"
  }
 },
 "nbformat": 4,
 "nbformat_minor": 5
}
