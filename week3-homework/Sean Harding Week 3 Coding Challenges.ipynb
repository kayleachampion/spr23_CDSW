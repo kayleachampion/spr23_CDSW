{
 "cells": [
  {
   "cell_type": "code",
   "execution_count": 1,
   "metadata": {},
   "outputs": [],
   "source": [
    "from ssadata import boys, girls"
   ]
  },
  {
   "cell_type": "code",
   "execution_count": 2,
   "metadata": {},
   "outputs": [
    {
     "name": "stdout",
     "output_type": "stream",
     "text": [
      "There were 24 boys named mako\n",
      "24\n"
     ]
    }
   ],
   "source": [
    "for name in boys.keys():\n",
    "    if name == \"mako\":\n",
    "        print(\"There were \" + str(boys[name]) + \" boys named \" + name)\n",
    "        print(str(boys[name]))"
   ]
  },
  {
   "cell_type": "code",
   "execution_count": 3,
   "metadata": {},
   "outputs": [
    {
     "data": {
      "text/plain": [
       "True"
      ]
     },
     "execution_count": 3,
     "metadata": {},
     "output_type": "execute_result"
    }
   ],
   "source": [
    "\"sean\" in boys"
   ]
  },
  {
   "cell_type": "code",
   "execution_count": 4,
   "metadata": {},
   "outputs": [
    {
     "name": "stdout",
     "output_type": "stream",
     "text": [
      "There are not both boys AND girls named sean\n",
      "There are 888 boys named sean\n"
     ]
    }
   ],
   "source": [
    "my_name = \"sean\"\n",
    "    \n",
    "if my_name in boys.keys() and my_name in girls.keys():\n",
    "    if boys[my_name] > girls[my_name]:\n",
    "        print(f\"There more boys named {my_name} than girls\")\n",
    "    elif girls[my_name] > boys[my_name]:\n",
    "        print(f\"There more girls named {my_name} than boys\")\n",
    "    else:\n",
    "        print(f\"There are an equal number os boys and girls named {my_name}.\")\n",
    "        \n",
    "    print(f\"There {boys[my_name]} boys and {girls[name]} girls named {my_name}\")\n",
    "        \n",
    "else:\n",
    "    print(f\"There are not both boys AND girls named {my_name}\")\n",
    "    if my_name in girls:\n",
    "        print(f\"There are {girls[my_name]} girls named {my_name}\")\n",
    "    else:\n",
    "        print(f\"There are {boys[my_name]} boys named {my_name}\")\n",
    "    "
   ]
  },
  {
   "cell_type": "code",
   "execution_count": 5,
   "metadata": {},
   "outputs": [],
   "source": [
    "#Question 2.1"
   ]
  },
  {
   "cell_type": "code",
   "execution_count": 6,
   "metadata": {},
   "outputs": [
    {
     "name": "stdout",
     "output_type": "stream",
     "text": [
      "Boy names: 13993\n",
      "Girl names: 17544\n",
      "Total names: 31537\n"
     ]
    }
   ],
   "source": [
    "print(f\"Boy names: {len(boys)}\")\n",
    "print(f\"Girl names: {len(girls)}\")\n",
    "print(f\"Total names: {len(boys) + len(girls)}\")"
   ]
  },
  {
   "cell_type": "code",
   "execution_count": 7,
   "metadata": {},
   "outputs": [],
   "source": [
    "#Question 2.2"
   ]
  },
  {
   "cell_type": "code",
   "execution_count": 8,
   "metadata": {},
   "outputs": [
    {
     "name": "stdout",
     "output_type": "stream",
     "text": [
      "There are 3361375 ACTUAL BABIES!\n"
     ]
    }
   ],
   "source": [
    "actual_babies = 0\n",
    "\n",
    "for babies in boys.values():\n",
    "    actual_babies += babies\n",
    "    \n",
    "for babies in girls.values():\n",
    "    actual_babies += babies\n",
    "    \n",
    "print(f\"There are {actual_babies} ACTUAL BABIES!\")"
   ]
  },
  {
   "cell_type": "code",
   "execution_count": 9,
   "metadata": {},
   "outputs": [],
   "source": [
    "#Question 3.1"
   ]
  },
  {
   "cell_type": "code",
   "execution_count": 10,
   "metadata": {},
   "outputs": [
    {
     "name": "stdout",
     "output_type": "stream",
     "text": [
      "The most common girls name is olivia with 17728 occurences\n",
      "The most common boys name is liam with 20272 occurences\n"
     ]
    }
   ],
   "source": [
    "most_common_boy = max(boys, key=boys.get)\n",
    "most_common_girl = max(girls, key=girls.get)\n",
    "\n",
    "print(f\"The most common girls name is {most_common_girl} with {girls[most_common_girl]} occurences\")\n",
    "print(f\"The most common boys name is {most_common_boy} with {boys[most_common_boy]} occurences\")"
   ]
  },
  {
   "cell_type": "code",
   "execution_count": 11,
   "metadata": {},
   "outputs": [],
   "source": [
    "#Question 3.2"
   ]
  },
  {
   "cell_type": "code",
   "execution_count": 12,
   "metadata": {},
   "outputs": [
    {
     "name": "stdout",
     "output_type": "stream",
     "text": [
      "The least common girls name is aabha with 5 occurences\n",
      "The least common boys name is aadith with 5 occurences\n"
     ]
    }
   ],
   "source": [
    "least_common_boy = min(boys, key=boys.get)\n",
    "least_common_girl = min(girls, key=girls.get)\n",
    "\n",
    "print(f\"The least common girls name is {least_common_girl} with {girls[least_common_girl]} occurences\")\n",
    "print(f\"The least common boys name is {least_common_boy} with {boys[least_common_boy]} occurences\")"
   ]
  },
  {
   "cell_type": "code",
   "execution_count": 13,
   "metadata": {},
   "outputs": [],
   "source": [
    "#Question 3.3\n",
    "\n",
    "#Yeah, it I definitely have some questions for the people who provided this data - why are there dozens of names\n",
    "#with 5 occurences and no names with 4 occurences. I also would ask about why Python chose aabha and aadith as the\n",
    "#least common names, but I suspect it has something with their positions in the dataset."
   ]
  },
  {
   "cell_type": "code",
   "execution_count": 14,
   "metadata": {},
   "outputs": [],
   "source": [
    "#Question 4.1"
   ]
  },
  {
   "cell_type": "code",
   "execution_count": 15,
   "metadata": {},
   "outputs": [
    {
     "name": "stdout",
     "output_type": "stream",
     "text": [
      "christopherjohn\n",
      "mariadelcarmen\n",
      "christopherjohn\n",
      "muhammadibrahim\n"
     ]
    }
   ],
   "source": [
    "print(max(boys, key=len))\n",
    "print(max(girls, key=len))\n",
    "len(girls)\n",
    "\n",
    "for name in boys.keys():\n",
    "    if len(name) >= 15:\n",
    "        print(name)\n",
    "        \n",
    "#Longest names = christopherjohn and muhammadibrahim, at 15 characters each. It appears this data sets cuts off\n",
    "#at that number. So, I would want to ask the provider of this data what the specific parameters that it uses,\n",
    "#such as how namy occurances does it take for name to appear on this dataset, is there a minimum and maxium length\n",
    "#and is there anything else that would prevent a name from appearing in this data."
   ]
  },
  {
   "cell_type": "code",
   "execution_count": 16,
   "metadata": {},
   "outputs": [],
   "source": [
    "#Question 5.1"
   ]
  },
  {
   "cell_type": "code",
   "execution_count": 17,
   "metadata": {},
   "outputs": [
    {
     "name": "stdout",
     "output_type": "stream",
     "text": [
      "{'a': 2739, 'b': 602, 'c': 775, 'd': 702, 'e': 995, 'f': 210, 'g': 322, 'h': 471, 'i': 379, 'j': 1087, 'k': 1571, 'l': 1024, 'm': 1524, 'n': 745, 'o': 174, 'p': 270, 'q': 41, 'r': 896, 's': 1227, 't': 521, 'u': 28, 'v': 209, 'w': 138, 'x': 86, 'y': 280, 'z': 528}\n"
     ]
    }
   ],
   "source": [
    "girl_initials = {}\n",
    "\n",
    "for name in girls.keys():\n",
    "    first_letter = name[0]\n",
    "    if first_letter not in girl_initials:\n",
    "        girl_initials[first_letter] = 1\n",
    "    else:\n",
    "        girl_initials[first_letter] += 1\n",
    "        \n",
    "sorted_keys = list(girl_initials.keys())\n",
    "sorted_keys.sort()\n",
    "sorted_girl_initials = {i: girl_initials[i] for i in sorted_keys}\n",
    "             \n",
    "print(sorted_girl_initials)"
   ]
  },
  {
   "cell_type": "code",
   "execution_count": 18,
   "metadata": {},
   "outputs": [],
   "source": [
    "#Question 5.2"
   ]
  },
  {
   "cell_type": "code",
   "execution_count": 19,
   "metadata": {},
   "outputs": [
    {
     "name": "stdout",
     "output_type": "stream",
     "text": [
      "{'a': 1599, 'b': 626, 'c': 692, 'd': 865, 'e': 606, 'f': 214, 'g': 318, 'h': 406, 'i': 251, 'j': 1191, 'k': 1352, 'l': 528, 'm': 942, 'n': 442, 'o': 251, 'p': 209, 'q': 52, 'r': 776, 's': 819, 't': 691, 'u': 43, 'v': 165, 'w': 206, 'x': 72, 'y': 262, 'z': 415}\n"
     ]
    }
   ],
   "source": [
    "boy_initials = {}\n",
    "\n",
    "for name in boys.keys():\n",
    "    first_letter = name[0]\n",
    "    if first_letter not in boy_initials:\n",
    "        boy_initials[first_letter] = 1\n",
    "    else:\n",
    "        boy_initials[first_letter] += 1\n",
    "        \n",
    "sorted_keys = list(boy_initials.keys())\n",
    "sorted_keys.sort()\n",
    "sorted_boy_initials = {i: boy_initials[i] for i in sorted_keys}\n",
    "             \n",
    "print(sorted_boy_initials)"
   ]
  },
  {
   "cell_type": "code",
   "execution_count": 20,
   "metadata": {},
   "outputs": [],
   "source": [
    "#Question 5.3\n",
    "\n",
    "with open(\"girl_initials_output_file.tsv\", \"w\") as my_file:\n",
    "    print(\"letter\\tcount\", file=my_file)\n",
    "    for letter in sorted_girl_initials.keys():\n",
    "        print(f\"{letter}\\t{girl_initials[letter]}\", file =my_file)"
   ]
  },
  {
   "cell_type": "code",
   "execution_count": 21,
   "metadata": {},
   "outputs": [],
   "source": [
    "#Question 5.4\n",
    "\n",
    "with open(\"boy_initials_output_file.tsv\", \"w\") as my_file:\n",
    "    print(\"letter\\tcount\", file=my_file)\n",
    "    for letter in sorted_boy_initials.keys():\n",
    "        print(f\"{letter}\\t{boy_initials[letter]}\", file =my_file)"
   ]
  },
  {
   "cell_type": "code",
   "execution_count": 22,
   "metadata": {},
   "outputs": [],
   "source": [
    "#Question 6.1"
   ]
  },
  {
   "cell_type": "code",
   "execution_count": 23,
   "metadata": {},
   "outputs": [
    {
     "name": "stdout",
     "output_type": "stream",
     "text": [
      "{'liam': 20272, 'noah': 18739, 'oliver': 14616, 'elijah': 12708, 'james': 12367, 'william': 12088, 'benjamin': 11791, 'lucas': 11501, 'henry': 11307, 'theodore': 9535}\n",
      "20272\n",
      "18739\n",
      "14616\n",
      "12708\n",
      "12367\n",
      "12088\n",
      "11791\n",
      "11501\n",
      "11307\n",
      "9535\n",
      "1734277\n",
      "\n",
      "12.853732471613649\n",
      "{'olivia': 17728, 'emma': 15433, 'charlotte': 13285, 'amelia': 12952, 'ava': 12759, 'sophia': 12496, 'isabella': 11201, 'mia': 11096, 'evelyn': 9434, 'harper': 8388}\n",
      "17728\n",
      "15433\n",
      "13285\n",
      "12952\n",
      "12759\n",
      "12496\n",
      "11201\n",
      "11096\n",
      "9434\n",
      "8388\n",
      "1627098\n",
      "13.040569999679414\n"
     ]
    }
   ],
   "source": [
    "#Percentage of boys with one of the top 10 boy names:\n",
    "\n",
    "top_ten_boys = {}\n",
    "\n",
    "for name in boys.keys():\n",
    "    if len(top_ten_boys) < 10:\n",
    "        top_ten_boys[name] = boys[name]\n",
    "    else:\n",
    "        min_name = min(top_ten_boys, key=top_ten_boys.get)\n",
    "        if boys[name] >= top_ten_boys[min_name]:\n",
    "            del top_ten_boys[min_name]\n",
    "            top_ten_boys[name] = boys[name]\n",
    "print(top_ten_boys)\n",
    "\n",
    "top_ten_boys_number = 0\n",
    "\n",
    "for n in top_ten_boys.values():\n",
    "    print(n)\n",
    "    top_ten_boys_number = top_ten_boys_number + n\n",
    "    \n",
    "total_boys = 0\n",
    "\n",
    "for babies in boys.values():\n",
    "    total_boys += babies\n",
    "    \n",
    "print(total_boys)\n",
    "    \n",
    "top_ten_boys_percentage = total_boys / top_ten_boys_number\n",
    "\n",
    "print()\n",
    "print(top_ten_boys_percentage)\n",
    "\n",
    "\n",
    "#Percentage of girls with one of the top 10 boy names:\n",
    "\n",
    "top_ten_girls = {}\n",
    "\n",
    "for name in girls.keys():\n",
    "    if len(top_ten_girls) < 10:\n",
    "        top_ten_girls[name] = girls[name]\n",
    "    else:\n",
    "        min_name = min(top_ten_girls, key=top_ten_girls.get)\n",
    "        if girls[name] >= top_ten_girls[min_name]:\n",
    "            del top_ten_girls[min_name]\n",
    "            top_ten_girls[name] = girls[name]\n",
    "print(top_ten_girls)\n",
    "\n",
    "top_ten_girls_number = 0\n",
    "\n",
    "for n in top_ten_girls.values():\n",
    "    print(n)\n",
    "    top_ten_girls_number = top_ten_girls_number + n\n",
    "    \n",
    "total_girls = 0\n",
    "\n",
    "for babies in girls.values():\n",
    "    total_girls += babies\n",
    "    \n",
    "print(total_girls)\n",
    "    \n",
    "top_ten_girls_percentage = total_girls / top_ten_girls_number\n",
    "\n",
    "print(top_ten_girls_percentage)"
   ]
  },
  {
   "cell_type": "code",
   "execution_count": 24,
   "metadata": {},
   "outputs": [],
   "source": [
    "#Question 6.2"
   ]
  },
  {
   "cell_type": "code",
   "execution_count": 25,
   "metadata": {
    "scrolled": true
   },
   "outputs": [
    {
     "name": "stdout",
     "output_type": "stream",
     "text": [
      "150954\n",
      "150954\n",
      "\n",
      "240929\n"
     ]
    }
   ],
   "source": [
    "#Girls with one of the top ten percent most popular boy names\n",
    "\n",
    "boy_names = 0\n",
    "\n",
    "for name in boys.keys():\n",
    "    boy_names = boy_names + 1\n",
    "\n",
    "ten_percent_boy_names = 0.1 * boy_names\n",
    "\n",
    "ten_percent_boy_names = int(ten_percent_boy_names)\n",
    "\n",
    "ten_percent_boy_names\n",
    "\n",
    "ten_percent_boy_names_dict = {}\n",
    "ten_percent_boy_names_counter = 0\n",
    "\n",
    "for name in boys.keys():\n",
    "    if ten_percent_boy_names_counter < ten_percent_boy_names:\n",
    "        ten_percent_boy_names_dict[name] = boys[name]\n",
    "        ten_percent_boy_names_counter += 1\n",
    "    \n",
    "girls_with_ten_percent_boy_names = 0\n",
    "\n",
    "for name in ten_percent_boy_names_dict.keys():\n",
    "    if name in girls.keys():\n",
    "        girls_with_ten_percent_boy_names += girls[name]\n",
    "        (girls_with_ten_percent_boy_names)\n",
    "        \n",
    "print(girls_with_ten_percent_boy_names) #number of girls with one of the top 10 percent boy names\n",
    "\n",
    "\n",
    "#Girls with one of the top ten percent most popular boy names\n",
    "\n",
    "boy_names = 0\n",
    "\n",
    "for name in boys.keys():\n",
    "    boy_names = boy_names + 1\n",
    "\n",
    "ten_percent_boy_names = 0.1 * boy_names\n",
    "\n",
    "ten_percent_boy_names = int(ten_percent_boy_names)\n",
    "\n",
    "ten_percent_boy_names\n",
    "\n",
    "ten_percent_boy_names_dict = {}\n",
    "ten_percent_boy_names_counter = 0\n",
    "\n",
    "for name in boys.keys():\n",
    "    if ten_percent_boy_names_counter < ten_percent_boy_names:\n",
    "        ten_percent_boy_names_dict[name] = boys[name]\n",
    "        ten_percent_boy_names_counter += 1\n",
    "    \n",
    "girls_with_ten_percent_boy_names = 0\n",
    "\n",
    "for name in ten_percent_boy_names_dict.keys():\n",
    "    if name in girls.keys():\n",
    "        girls_with_ten_percent_boy_names += girls[name]\n",
    "        (girls_with_ten_percent_boy_names)\n",
    "        \n",
    "print(girls_with_ten_percent_boy_names) #number of girls with one of the top 10 percent boy names\n",
    "\n",
    "\n",
    "\n",
    "#Boys with one of the top ten percent most popular girl names\n",
    "\n",
    "girl_names = 0\n",
    "\n",
    "for name in girls.keys():\n",
    "    girl_names = girl_names + 1\n",
    "\n",
    "ten_percent_girl_names = 0.1 * girl_names\n",
    "\n",
    "ten_percent_girl_names = int(ten_percent_girl_names)\n",
    "\n",
    "ten_percent_girl_names\n",
    "\n",
    "ten_percent_girl_names_dict = {}\n",
    "ten_percent_girl_names_counter = 0\n",
    "\n",
    "for name in girls.keys():\n",
    "    if ten_percent_girl_names_counter < ten_percent_girl_names:\n",
    "        ten_percent_girl_names_dict[name] = girls[name]\n",
    "        ten_percent_girl_names_counter += 1\n",
    "    \n",
    "boys_with_ten_percent_girl_names = 0\n",
    "\n",
    "for name in ten_percent_girl_names_dict.keys():\n",
    "    if name in boys.keys():\n",
    "        boys_with_ten_percent_girl_names += boys[name]\n",
    "        (boys_with_ten_percent_girl_names)\n",
    "        \n",
    "print()        \n",
    "print(boys_with_ten_percent_girl_names) #number of boys with one of the top 10 percent girl names\n"
   ]
  },
  {
   "cell_type": "code",
   "execution_count": 26,
   "metadata": {},
   "outputs": [],
   "source": [
    "#Question 7"
   ]
  },
  {
   "cell_type": "code",
   "execution_count": null,
   "metadata": {},
   "outputs": [],
   "source": [
    "#How many boy names are variations of each other?\n",
    "\n",
    "boy_names_list = []\n",
    "matching_names = []\n",
    "\n",
    "for name in boys.keys():\n",
    "    boy_names_list.append(name)\n",
    "    \n",
    "for name in boy_names_list:\n",
    "    counter = 0\n",
    "    while counter <= len(boy_names_list):       \n",
    "        if name in boy_names_list[counter]:\n",
    "            matching_names.append(name)\n",
    "        counter = counter + 1\n",
    "            \n",
    "print(matching_names)\n",
    "\n",
    "\n",
    "#How many girl names are variations of each other?\n",
    "\n",
    "girl_names_list = []\n",
    "matching_names = []\n",
    "\n",
    "for name in girls.keys():\n",
    "    boy_names_list.append(name)\n",
    "    \n",
    "for name in girl_names_list:\n",
    "    counter = 0\n",
    "    while counter <= len(girl_names_list):       \n",
    "        if name in girl_names_list[counter]:\n",
    "            matching_names.append(name)\n",
    "        counter = counter + 1\n",
    "            \n",
    "print(matching_names)"
   ]
  },
  {
   "cell_type": "code",
   "execution_count": null,
   "metadata": {},
   "outputs": [],
   "source": [
    "print('hello')"
   ]
  },
  {
   "cell_type": "code",
   "execution_count": null,
   "metadata": {},
   "outputs": [],
   "source": [
    "#Question 8\n",
    "\n",
    "#I question how the creators of this data set decided what the minimum and maximun length for names to be\n",
    "#included on this list were, as well as the minimum number occurences in order for a name to be counted. And\n",
    "#what other constraints to this data there is that were not reported. I'm sure they had to worry about fradulent\n",
    "#requests, which were mitigated by having a minimum number of names. Also pranks and obscence names, which joke\n",
    "#names seem to have been omitted from this dataset. I think they assumed that they only counted legal registered\n",
    "#names, and names for undocumented babies would not be counted."
   ]
  },
  {
   "cell_type": "markdown",
   "metadata": {},
   "source": [
    "### Print all the boy's names that are also girl's names"
   ]
  },
  {
   "cell_type": "code",
   "execution_count": null,
   "metadata": {},
   "outputs": [],
   "source": []
  },
  {
   "cell_type": "code",
   "execution_count": null,
   "metadata": {
    "scrolled": true
   },
   "outputs": [],
   "source": [
    "for name in boys.keys():\n",
    "    if name in girls.keys():\n",
    "        print(name)"
   ]
  },
  {
   "cell_type": "markdown",
   "metadata": {},
   "source": [
    "### How many boys are named 'King'? "
   ]
  },
  {
   "cell_type": "code",
   "execution_count": null,
   "metadata": {},
   "outputs": [],
   "source": [
    "for name in boys.keys():\n",
    "    if 'king' == name:\n",
    "        print(name + \" \" + str(boys[name]))"
   ]
  },
  {
   "cell_type": "markdown",
   "metadata": {},
   "source": [
    " ### How many girls are named 'Queen'?"
   ]
  },
  {
   "cell_type": "code",
   "execution_count": null,
   "metadata": {},
   "outputs": [],
   "source": [
    "for name in girls.keys():\n",
    "    if 'queen' == name:\n",
    "        print(name + \" \" + str(girls[name]))"
   ]
  },
  {
   "cell_type": "code",
   "execution_count": null,
   "metadata": {},
   "outputs": [],
   "source": []
  }
 ],
 "metadata": {
  "kernelspec": {
   "display_name": "Python 3 (ipykernel)",
   "language": "python",
   "name": "python3"
  },
  "language_info": {
   "codemirror_mode": {
    "name": "ipython",
    "version": 3
   },
   "file_extension": ".py",
   "mimetype": "text/x-python",
   "name": "python",
   "nbconvert_exporter": "python",
   "pygments_lexer": "ipython3",
   "version": "3.10.9"
  }
 },
 "nbformat": 4,
 "nbformat_minor": 2
}
