{
 "cells": [
  {
   "cell_type": "code",
   "execution_count": 3,
   "metadata": {},
   "outputs": [],
   "source": [
    "from ssadata import boys, girls"
   ]
  },
  {
   "cell_type": "code",
   "execution_count": null,
   "metadata": {},
   "outputs": [],
   "source": [
    "# 1 - your own name "
   ]
  },
  {
   "cell_type": "code",
   "execution_count": 146,
   "metadata": {},
   "outputs": [
    {
     "name": "stdout",
     "output_type": "stream",
     "text": [
      "there were 15 girls born with the name 'dionna'\n"
     ]
    },
    {
     "ename": "KeyError",
     "evalue": "'dionna'",
     "output_type": "error",
     "traceback": [
      "\u001b[0;31m---------------------------------------------------------------------------\u001b[0m",
      "\u001b[0;31mKeyError\u001b[0m                                  Traceback (most recent call last)",
      "Cell \u001b[0;32mIn[146], line 4\u001b[0m\n\u001b[1;32m      1\u001b[0m dionna_girls \u001b[38;5;241m=\u001b[39m (girls[\u001b[38;5;124m\"\u001b[39m\u001b[38;5;124mdionna\u001b[39m\u001b[38;5;124m\"\u001b[39m])\n\u001b[1;32m      2\u001b[0m \u001b[38;5;28mprint\u001b[39m(\u001b[38;5;124mf\u001b[39m\u001b[38;5;124m\"\u001b[39m\u001b[38;5;124mthere were \u001b[39m\u001b[38;5;132;01m{\u001b[39;00mdionna_girls\u001b[38;5;132;01m}\u001b[39;00m\u001b[38;5;124m girls born with the name \u001b[39m\u001b[38;5;124m'\u001b[39m\u001b[38;5;124mdionna\u001b[39m\u001b[38;5;124m'\u001b[39m\u001b[38;5;124m\"\u001b[39m)\n\u001b[0;32m----> 4\u001b[0m \u001b[38;5;28mprint\u001b[39m(\u001b[43mboys\u001b[49m\u001b[43m[\u001b[49m\u001b[38;5;124;43m\"\u001b[39;49m\u001b[38;5;124;43mdionna\u001b[39;49m\u001b[38;5;124;43m\"\u001b[39;49m\u001b[43m]\u001b[49m)\n",
      "\u001b[0;31mKeyError\u001b[0m: 'dionna'"
     ]
    }
   ],
   "source": [
    "dionna_girls = (girls[\"dionna\"])\n",
    "print(f\"there were {dionna_girls} girls born with the name 'dionna'\")\n",
    "\n",
    "print(boys[\"dionna\"])"
   ]
  },
  {
   "cell_type": "code",
   "execution_count": 63,
   "metadata": {},
   "outputs": [
    {
     "name": "stdout",
     "output_type": "stream",
     "text": [
      "'dionna' is more popular for girls because there are no boys named 'dionna'\n"
     ]
    }
   ],
   "source": [
    "print(\"'dionna' is more popular for girls because there are no boys named 'dionna'\")"
   ]
  },
  {
   "cell_type": "code",
   "execution_count": 44,
   "metadata": {},
   "outputs": [],
   "source": [
    "# 2 - every baby counts "
   ]
  },
  {
   "cell_type": "code",
   "execution_count": 15,
   "metadata": {},
   "outputs": [
    {
     "name": "stdout",
     "output_type": "stream",
     "text": [
      "there are 13993 boy names\n",
      "there are 17544 girl names\n"
     ]
    }
   ],
   "source": [
    "print(f\"there are {len(boys)} boy names\")\n",
    "print(f\"there are {len(girls)} girl names\")"
   ]
  },
  {
   "cell_type": "code",
   "execution_count": 74,
   "metadata": {},
   "outputs": [
    {
     "name": "stdout",
     "output_type": "stream",
     "text": [
      "there are 3361375 actual babies\n"
     ]
    }
   ],
   "source": [
    "total = sum(boys.values()) + sum(girls.values())\n",
    "\n",
    "print(f\"there are {total} actual babies\")"
   ]
  },
  {
   "cell_type": "code",
   "execution_count": null,
   "metadata": {},
   "outputs": [],
   "source": [
    "# 3 - a sense of what's common"
   ]
  },
  {
   "cell_type": "code",
   "execution_count": 2,
   "metadata": {},
   "outputs": [
    {
     "name": "stdout",
     "output_type": "stream",
     "text": [
      "17728\n",
      "enter value 17728\n",
      "olivia is the most common girls name\n"
     ]
    }
   ],
   "source": [
    "print(max(girls.values()))\n",
    "\n",
    "most_common = int(input(\"enter value \"))\n",
    "for name in girls.keys():\n",
    "    if girls[name] == most_common:\n",
    "        print(f\"{name} is the most common girls name\")"
   ]
  },
  {
   "cell_type": "code",
   "execution_count": 89,
   "metadata": {},
   "outputs": [
    {
     "name": "stdout",
     "output_type": "stream",
     "text": [
      "20272\n",
      "enter value 20272\n",
      "liam is the most common boys name\n"
     ]
    }
   ],
   "source": [
    "print(max(boys.values()))\n",
    "\n",
    "common_boy = int(input(\"enter value \"))\n",
    "for names in boys.keys():\n",
    "    if boys[names] == common_boy:\n",
    "        print(f\"{names} is the most common boys name\")"
   ]
  },
  {
   "cell_type": "code",
   "execution_count": 163,
   "metadata": {},
   "outputs": [
    {
     "name": "stdout",
     "output_type": "stream",
     "text": [
      "5\n",
      "enter value 5\n",
      "zyrihanna is one of the least common girl names\n",
      "there are 2380 girl names that are the least common\n"
     ]
    }
   ],
   "source": [
    "print(min(girls.values()))\n",
    "least_girls = []\n",
    "\n",
    "least_common = int(input(\"enter value \"))\n",
    "for names in girls.keys():\n",
    "    if girls[names] == least_common:\n",
    "        least_girls.append(names)\n",
    "\n",
    "print(f\"{names} is one of the least common girl names\")\n",
    "print(f\"there are {len(least_girls)} girl names that are the least common\")"
   ]
  },
  {
   "cell_type": "code",
   "execution_count": 164,
   "metadata": {},
   "outputs": [
    {
     "name": "stdout",
     "output_type": "stream",
     "text": [
      "5\n",
      "enter value 5\n",
      "zyn is one of the least common boy names\n",
      "there are 1941 boy names that are the least common\n"
     ]
    }
   ],
   "source": [
    "print(min(boys.values()))\n",
    "least_boys = []\n",
    "\n",
    "least_common_boy = int(input(\"enter value \"))\n",
    "for names in boys.keys():\n",
    "    if boys[names] == least_common_boy:\n",
    "        least_boys.append(names)\n",
    "        \n",
    "print(f\"{names} is one of the least common boy names\")\n",
    "print(f\"there are {len(least_boys)} boy names that are the least common\")"
   ]
  },
  {
   "cell_type": "code",
   "execution_count": 38,
   "metadata": {},
   "outputs": [],
   "source": [
    "# i am SO annoyed by the least common names for boys and girls because it cuts off at 5 for both of them \n",
    "# and i thought i was doing something wrong for so long!!!\n",
    "# after last week's coding challenge and we found 5000+ words with exactly 15 letters and not a single word with 16\n",
    "# letters, i figured this data set would be something similar in terms of the data itself being limited \n",
    "# disclaimer - i intentionally had my code print the last least common name just so i didn't have thousands \n",
    "# of names printed"
   ]
  },
  {
   "cell_type": "code",
   "execution_count": 77,
   "metadata": {},
   "outputs": [],
   "source": [
    "# 4 - she wasn't long for this data set "
   ]
  },
  {
   "cell_type": "code",
   "execution_count": 51,
   "metadata": {},
   "outputs": [
    {
     "name": "stdout",
     "output_type": "stream",
     "text": [
      "['mariadelcarmen', 'mariaguadalupe', 'mariavalentina']\n",
      "14\n"
     ]
    }
   ],
   "source": [
    "counter = []\n",
    "longest_name = []\n",
    "\n",
    "for key in girls.keys():\n",
    "    if len(key) > len(counter):\n",
    "        counter = key\n",
    "        longest_name = [key]\n",
    "    elif len(key) == len(counter):\n",
    "        longest_name.append(key)\n",
    "        \n",
    "print(longest_name)\n",
    "print(len(counter))"
   ]
  },
  {
   "cell_type": "code",
   "execution_count": 53,
   "metadata": {},
   "outputs": [
    {
     "name": "stdout",
     "output_type": "stream",
     "text": [
      "['christopherjohn', 'muhammadibrahim']\n",
      "15\n"
     ]
    }
   ],
   "source": [
    "counters = []\n",
    "longest_boy_name = []\n",
    "\n",
    "for keys in boys.keys():\n",
    "    if len(keys) > len(counters):\n",
    "        counters = keys\n",
    "        longest_boy_name = [keys]\n",
    "    elif len(keys) == len(counters):\n",
    "        longest_boy_name.append(keys)\n",
    "        \n",
    "print(longest_boy_name)\n",
    "print(len(counters))"
   ]
  },
  {
   "cell_type": "code",
   "execution_count": null,
   "metadata": {},
   "outputs": [],
   "source": [
    "# what is going on?? idk :/ anything looks normal to me after the least common name results"
   ]
  },
  {
   "cell_type": "code",
   "execution_count": null,
   "metadata": {},
   "outputs": [],
   "source": [
    "# 5 - intitials to spreadsheets "
   ]
  },
  {
   "cell_type": "code",
   "execution_count": 54,
   "metadata": {},
   "outputs": [],
   "source": [
    "girl_initials = {}\n",
    "\n",
    "for name in girls.keys():\n",
    "    first_letter = name[0]\n",
    "    if first_letter in girl_initials.keys():\n",
    "        girl_initials[first_letter] += 1 \n",
    "    else:\n",
    "        girl_initials[first_letter] = 1"
   ]
  },
  {
   "cell_type": "code",
   "execution_count": 8,
   "metadata": {},
   "outputs": [],
   "source": [
    "with open(\"girl_initials.tsv\", \"w\") as my_file:\n",
    "    print(\"letter\\tunique names\", file = my_file)\n",
    "    for letter in girl_initials.keys():\n",
    "        print(f\"{letter}\\t{girl_initials[letter]}\", file=my_file)"
   ]
  },
  {
   "cell_type": "code",
   "execution_count": 55,
   "metadata": {},
   "outputs": [],
   "source": [
    "boy_initials = {}\n",
    "\n",
    "for names in boys.keys():\n",
    "    first_letters = names[0]\n",
    "    if first_letters in boy_initials.keys():\n",
    "        boy_initials[first_letters] += 1\n",
    "    else:\n",
    "        boy_initials[first_letters] = 1"
   ]
  },
  {
   "cell_type": "code",
   "execution_count": 9,
   "metadata": {},
   "outputs": [],
   "source": [
    "with open(\"boy_initials.tsv\", \"w\") as my_file:\n",
    "    print(\"letter\\tunique names\", file = my_file)\n",
    "    for letter in boy_initials.keys():\n",
    "        print(f\"{letter}\\t{boy_initials[letter]}\", file=my_file)"
   ]
  },
  {
   "cell_type": "code",
   "execution_count": 12,
   "metadata": {
    "scrolled": true
   },
   "outputs": [
    {
     "ename": "SyntaxError",
     "evalue": "invalid imaginary literal (4157053492.py, line 3)",
     "output_type": "error",
     "traceback": [
      "\u001b[0;36m  Cell \u001b[0;32mIn[12], line 3\u001b[0;36m\u001b[0m\n\u001b[0;31m    https://docs.google.com/spreadsheets/d/19JErGiEWQ0KsSxDFwXimIphG6iAQkkx2rzbqmBLRTgk/edit?usp=sharing\u001b[0m\n\u001b[0m                                             ^\u001b[0m\n\u001b[0;31mSyntaxError\u001b[0m\u001b[0;31m:\u001b[0m invalid imaginary literal\n"
     ]
    }
   ],
   "source": [
    "# google sheet url\n",
    "\n",
    "https://docs.google.com/spreadsheets/d/19JErGiEWQ0KsSxDFwXimIphG6iAQkkx2rzbqmBLRTgk/edit?usp=sharing"
   ]
  },
  {
   "cell_type": "code",
   "execution_count": null,
   "metadata": {},
   "outputs": [],
   "source": [
    "# 6 - concentration in names"
   ]
  },
  {
   "cell_type": "code",
   "execution_count": 140,
   "metadata": {},
   "outputs": [
    {
     "name": "stdout",
     "output_type": "stream",
     "text": [
      "7.7798413978851135% of boys have one of the 10 most popular boy names\n"
     ]
    }
   ],
   "source": [
    "percent = (boys[\"liam\"] + boys[\"noah\"] + boys[\"oliver\"] + boys [\"elijah\"] + boys[\"james\"] + boys[\"william\"] + boys[\"benjamin\"] + boys[\"lucas\"] + boys[\"henry\"] + boys[\"theodore\"])/sum(boys.values())\n",
    "total = percent*100\n",
    "\n",
    "print(f\"{total}% of boys have one of the 10 most popular boy names\")"
   ]
  },
  {
   "cell_type": "code",
   "execution_count": 142,
   "metadata": {},
   "outputs": [
    {
     "name": "stdout",
     "output_type": "stream",
     "text": [
      "7.668376459192992% of girls have one of the 10 most popular girl names\n"
     ]
    }
   ],
   "source": [
    "percentage = (girls[\"olivia\"] + girls[\"emma\"] + girls[\"charlotte\"] + girls[\"amelia\"] + girls[\"ava\"] + girls[\"sophia\"] + girls[\"isabella\"] + girls[\"mia\"] + girls[\"evelyn\"] + girls[\"harper\"])/sum(girls.values())\n",
    "totals = percentage*100\n",
    "\n",
    "print(f\"{totals}% of girls have one of the 10 most popular girl names\")"
   ]
  },
  {
   "cell_type": "code",
   "execution_count": 59,
   "metadata": {},
   "outputs": [
    {
     "data": {
      "text/plain": [
       "1399.3000000000002"
      ]
     },
     "execution_count": 59,
     "metadata": {},
     "output_type": "execute_result"
    }
   ],
   "source": [
    "len(boys)*.1"
   ]
  },
  {
   "cell_type": "code",
   "execution_count": 100,
   "metadata": {},
   "outputs": [
    {
     "name": "stdout",
     "output_type": "stream",
     "text": [
      "of the top 10% most popular boy names there are 712 girls who also have that name\n"
     ]
    }
   ],
   "source": [
    "boys_keys = list(boys.keys())\n",
    "ten_percent = boys_keys[0:1399]\n",
    "also_girls = []\n",
    "\n",
    "for name in ten_percent:\n",
    "    if name in girls.keys():\n",
    "        also_girls.append(name)\n",
    "        \n",
    "print(f\"of the top 10% most popular boy names there are {len(also_girls)} girls who also have that name\")"
   ]
  },
  {
   "cell_type": "code",
   "execution_count": 93,
   "metadata": {},
   "outputs": [
    {
     "data": {
      "text/plain": [
       "1754.4"
      ]
     },
     "execution_count": 93,
     "metadata": {},
     "output_type": "execute_result"
    }
   ],
   "source": [
    "len(girls)*.1"
   ]
  },
  {
   "cell_type": "code",
   "execution_count": 101,
   "metadata": {},
   "outputs": [
    {
     "name": "stdout",
     "output_type": "stream",
     "text": [
      "of the top 10% most popular girl names there are 517 boys who also have that name\n"
     ]
    }
   ],
   "source": [
    "girls_keys = list(girls.keys())\n",
    "top_ten_percent = girls_keys[0:1754]\n",
    "also_boys = []\n",
    "\n",
    "for names in top_ten_percent:\n",
    "    if names in boys.keys():\n",
    "        also_boys.append(names)\n",
    "        \n",
    "print(f\"of the top 10% most popular girl names there are {len(also_boys)} boys who also have that name\")"
   ]
  },
  {
   "cell_type": "code",
   "execution_count": null,
   "metadata": {},
   "outputs": [],
   "source": [
    "# 7 - something extra "
   ]
  },
  {
   "cell_type": "code",
   "execution_count": 161,
   "metadata": {},
   "outputs": [
    {
     "name": "stdout",
     "output_type": "stream",
     "text": [
      "there are 39 palindrome girl names\n",
      "\n",
      "['ava', 'hannah', 'anna', 'ada', 'ana', 'elle', 'eve', 'aya', 'emme', 'aviva', 'asa', 'ara', 'eevee', 'aja', 'aziza', 'layal', 'awa', 'ala', 'ama', 'anina', 'maram', 'alyla', 'aza', 'hanah', 'arora', 'afifa', 'alla', 'amma', 'maham', 'havah', 'izzi', 'yanay', 'ahsha', 'ailia', 'ivi', 'alula', 'ece', 'ese', 'ororo']\n"
     ]
    }
   ],
   "source": [
    "palindromes = 0\n",
    "new_girls = list(girls.keys())\n",
    "palindrome_girls = []\n",
    "\n",
    "for name in new_girls:\n",
    "    name_reversed = ''\n",
    "    for letter in name:\n",
    "        name_reversed =  letter + name_reversed \n",
    "    if name == name_reversed:\n",
    "        palindromes = palindromes + 1\n",
    "        palindrome_girls.append(name)\n",
    "        \n",
    "print(f\"there are {len(palindrome_girls)} palindrome girl names\")\n",
    "print()\n",
    "print(palindrome_girls)"
   ]
  },
  {
   "cell_type": "code",
   "execution_count": 162,
   "metadata": {},
   "outputs": [
    {
     "name": "stdout",
     "output_type": "stream",
     "text": [
      "there are 29 palindrome boy names\n",
      "\n",
      "['otto', 'asa', 'natan', 'renner', 'jj', 'nayan', 'nosson', 'sahas', 'ara', 'nalan', 'nivin', 'efe', 'eze', 'ata', 'ege', 'naman', 'neven', 'alula', 'sabas', 'ava', 'lemel', 'abba', 'anna', 'bb', 'hannah', 'nitin', 'oso', 'oto', 'silis']\n"
     ]
    }
   ],
   "source": [
    "palindrome = 0\n",
    "new_boys = list(boys.keys())\n",
    "palindrome_boys = []\n",
    "\n",
    "for name in new_boys:\n",
    "    name_reversed = ''\n",
    "    for letter in name:\n",
    "        name_reversed =  letter + name_reversed \n",
    "    if name == name_reversed:\n",
    "        palindromes = palindromes + 1\n",
    "        palindrome_boys.append(name)\n",
    "        \n",
    "print(f\"there are {len(palindrome_boys)} palindrome boy names\")\n",
    "print()\n",
    "print(palindrome_boys)"
   ]
  },
  {
   "cell_type": "code",
   "execution_count": null,
   "metadata": {},
   "outputs": [],
   "source": [
    "# 8 - thinking about this data set "
   ]
  },
  {
   "cell_type": "code",
   "execution_count": null,
   "metadata": {},
   "outputs": [],
   "source": [
    "# Where were these names pulled from? Does this include homebirths? Is this just in the US?\n",
    "# Challenge 1 - 2021 was a prime time for COVID, how was this data collected? Did they have to change any of their methods?\n",
    "# Challenge 2 - How did this data account for privacy? Is that why there's a cut off at names for less than five individuals?\n",
    "# Assumptions - They assume that all babies are aaccounted for (reported, documented) "
   ]
  }
 ],
 "metadata": {
  "kernelspec": {
   "display_name": "Python 3 (ipykernel)",
   "language": "python",
   "name": "python3"
  },
  "language_info": {
   "codemirror_mode": {
    "name": "ipython",
    "version": 3
   },
   "file_extension": ".py",
   "mimetype": "text/x-python",
   "name": "python",
   "nbconvert_exporter": "python",
   "pygments_lexer": "ipython3",
   "version": "3.10.9"
  }
 },
 "nbformat": 4,
 "nbformat_minor": 2
}
