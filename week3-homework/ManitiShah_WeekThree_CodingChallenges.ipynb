{
 "cells": [
  {
   "cell_type": "code",
   "execution_count": 3,
   "id": "0375e88a",
   "metadata": {},
   "outputs": [],
   "source": [
    "from ssadata import boys, girls"
   ]
  },
  {
   "cell_type": "markdown",
   "id": "abaf3607",
   "metadata": {},
   "source": [
    "# Your own name!"
   ]
  },
  {
   "cell_type": "markdown",
   "id": "30419b27",
   "metadata": {},
   "source": [
    "### Search for your own name. Are there both boys and girls that have your name? "
   ]
  },
  {
   "cell_type": "code",
   "execution_count": 20,
   "id": "99ce1add",
   "metadata": {},
   "outputs": [
    {
     "name": "stdout",
     "output_type": "stream",
     "text": [
      "The name Maniti does not exist in the list\n"
     ]
    }
   ],
   "source": [
    "if 'maniti' in boys.keys():\n",
    "    print(f\" there are {boys['maniti']} people with the name maniti\")\n",
    "else :\n",
    "    print (\"The name Maniti does not exist in the list\")"
   ]
  },
  {
   "cell_type": "code",
   "execution_count": 8,
   "id": "8e059914",
   "metadata": {
    "scrolled": true
   },
   "outputs": [
    {
     "name": "stdout",
     "output_type": "stream",
     "text": [
      "The name Maniti does not exist in the list\n"
     ]
    }
   ],
   "source": [
    "if 'maniti' in girls.keys():\n",
    "    print(f\" there are {girls['maniti']} people with the name maniti\")\n",
    "else :\n",
    "    print (\"The name Maniti does not exist in the list\")"
   ]
  },
  {
   "cell_type": "markdown",
   "id": "5dc0529b",
   "metadata": {},
   "source": [
    "### Experimented with some other name, as my name didn't exist in the list. \n",
    "### Search for your own name. Are there both boys and girls that have your name? "
   ]
  },
  {
   "cell_type": "code",
   "execution_count": 22,
   "id": "0a2dfd89",
   "metadata": {},
   "outputs": [
    {
     "name": "stdout",
     "output_type": "stream",
     "text": [
      " there are 20272 people with the name liam\n"
     ]
    }
   ],
   "source": [
    "if 'liam' in boys.keys():\n",
    "    print(f\" there are {boys['liam']} people with the name liam\")\n",
    "else :\n",
    "    print (\"The name liam does not exist in the list\")"
   ]
  },
  {
   "cell_type": "code",
   "execution_count": 23,
   "id": "0acfc403",
   "metadata": {},
   "outputs": [
    {
     "name": "stdout",
     "output_type": "stream",
     "text": [
      " there are 30 people with the name liam\n"
     ]
    }
   ],
   "source": [
    "if 'liam' in girls.keys():\n",
    "    print(f\" there are {girls['liam']} people with the name liam\")\n",
    "else :\n",
    "    print (\"The name liam does not exist in the list\")"
   ]
  },
  {
   "cell_type": "code",
   "execution_count": 31,
   "id": "cb486a1e",
   "metadata": {},
   "outputs": [
    {
     "name": "stdout",
     "output_type": "stream",
     "text": [
      " The name is more popular in the boys list as it appears 20242 more number of times in the boys list\n"
     ]
    }
   ],
   "source": [
    "if boys[\"liam\"] > girls['liam']:\n",
    "    print (f\" The name is more popular in the boys list as it appears {boys['liam'] - girls['liam']} more number of times in the boys list\")\n",
    "else:\n",
    "    print (f\" The name is more popular in the girls list it appears {girls['liam'] - boys['liam']} more number of times in the girls list\")"
   ]
  },
  {
   "cell_type": "code",
   "execution_count": null,
   "id": "81b54629",
   "metadata": {},
   "outputs": [],
   "source": []
  },
  {
   "cell_type": "markdown",
   "id": "130b9f4a",
   "metadata": {},
   "source": [
    "# Every baby counts"
   ]
  },
  {
   "cell_type": "markdown",
   "id": "796c251d",
   "metadata": {},
   "source": [
    "### How many boy names and girl names are described in the dataset?"
   ]
  },
  {
   "cell_type": "code",
   "execution_count": 87,
   "id": "9e493cb8",
   "metadata": {},
   "outputs": [
    {
     "name": "stdout",
     "output_type": "stream",
     "text": [
      "13993\n",
      "17544\n"
     ]
    }
   ],
   "source": [
    "list_of_boynames = []\n",
    "list_of_girlnames = []\n",
    "\n",
    "for everyboyname in boys.keys():\n",
    "    list_of_boynames.append(everyboyname)\n",
    "for everygirlname in girls.keys():\n",
    "    list_of_girlnames.append(everygirlname)\n",
    "\n",
    "print(len(list_of_boynames))\n",
    "print(len(list_of_girlnames))"
   ]
  },
  {
   "cell_type": "markdown",
   "id": "39f9ad27",
   "metadata": {},
   "source": [
    "### How many boys and girls (actual babies!) are described in the dataset?"
   ]
  },
  {
   "cell_type": "code",
   "execution_count": 78,
   "id": "8aa1d5cc",
   "metadata": {},
   "outputs": [
    {
     "name": "stdout",
     "output_type": "stream",
     "text": [
      "1734277\n",
      "1627098\n",
      "There are total 3361375 babies\n"
     ]
    }
   ],
   "source": [
    "boycount = 0 \n",
    "\n",
    "for everyboy in boys.values():\n",
    "    boycount = boycount + everyboy\n",
    "print (boycount)\n",
    "   \n",
    "girlcount = 0 \n",
    "\n",
    "for everygirl in girls.values():\n",
    "    girlcount = girlcount + everygirl\n",
    "print (girlcount)\n",
    "\n",
    "print (f\"There are total {boycount + girlcount} babies\" )\n",
    "\n",
    "total = boycount + girlcount"
   ]
  },
  {
   "cell_type": "markdown",
   "id": "4b2a3d7a",
   "metadata": {},
   "source": [
    "# A sense of what's common"
   ]
  },
  {
   "cell_type": "markdown",
   "id": "ceba4410",
   "metadata": {},
   "source": [
    "### What is the most common name for each gender in your data (i.e. 2021)?"
   ]
  },
  {
   "cell_type": "code",
   "execution_count": 49,
   "id": "0853af68",
   "metadata": {},
   "outputs": [
    {
     "name": "stdout",
     "output_type": "stream",
     "text": [
      "liam\n",
      "20272\n"
     ]
    }
   ],
   "source": [
    "common_name_value = 0 \n",
    "common_name = \"\"\n",
    "\n",
    "for everyname in boys.keys():\n",
    "    if boys[everyname] > common_name_value:\n",
    "        common_name_value = boys[everyname] \n",
    "        common_name = everyname \n",
    "print(common_name)\n",
    "print(common_name_value)"
   ]
  },
  {
   "cell_type": "code",
   "execution_count": 48,
   "id": "dd81f8a4",
   "metadata": {},
   "outputs": [
    {
     "name": "stdout",
     "output_type": "stream",
     "text": [
      "20272\n"
     ]
    }
   ],
   "source": [
    "print(max(boys.values()))"
   ]
  },
  {
   "cell_type": "code",
   "execution_count": 5,
   "id": "54b1a4e9",
   "metadata": {},
   "outputs": [
    {
     "name": "stdout",
     "output_type": "stream",
     "text": [
      "olivia\n",
      "17728\n"
     ]
    }
   ],
   "source": [
    "mcng_value = 0\n",
    "mcng = \"\"\n",
    "\n",
    "for everyname in girls.keys():\n",
    "    if girls[everyname] > mcng_value :\n",
    "        mcng_value = girls[everyname]\n",
    "        mcgn = everyname\n",
    "print(mcgn)\n",
    "print(mcng_value)"
   ]
  },
  {
   "cell_type": "markdown",
   "id": "1b557f24",
   "metadata": {},
   "source": [
    "### What is the least common name?"
   ]
  },
  {
   "cell_type": "code",
   "execution_count": 63,
   "id": "7867a440",
   "metadata": {},
   "outputs": [
    {
     "name": "stdout",
     "output_type": "stream",
     "text": [
      "['aadith', 'aaidyn', 'aaliyan', 'aang', 'aansh', 'aaqil', 'aaravreddy', 'aaryash', 'aashay', 'aavi', 'ab', 'abdihafid', 'abdulai', 'abdulkabir', 'abdulsalam', 'abdurahmon', 'absalom', 'abshir', 'abubacarr', 'acetyn', 'acey', 'acheron', 'achim', 'acie', 'action', 'adaiah', 'addler', 'adewale', 'adis', 'adisa', 'adith', 'adlan', 'adorian', 'adream', 'adrienne', 'adris', 'adron', 'aegan', 'aelius', 'aeros', 'aerys', 'aesop', 'agamjot', 'ahiyan', 'ahkai', 'ahlee', 'ahlijah', 'ahman', 'ahmi', 'ahsaan', 'ahsai', 'ahsaun', 'aidynn', 'aikam', 'aireon', 'aires', 'airis', 'airo', 'aison', 'aisyn', 'ajeet', 'ajith', 'akachukwu', 'akito', 'alaki', 'alameen', 'alante', 'alastar', 'alayan', 'albara', 'albino', 'alby', 'aldahir', 'aldwin', 'alecxander', 'alef', 'aleix', 'aleksy', 'alessander', 'alessandre', 'alexxander', 'alexys', 'aliano', 'alii', 'alikhan', 'alin', 'aliyus', 'allijah', 'allistor', 'alohi', 'alva', 'alvy', 'alyx', 'alyxander', 'amai', 'amaius', 'amaje', 'amarious', 'amarri', 'amaurys', 'amedeo', 'ameri', 'amillyon', 'amirkhan', 'amisi', 'amnon', 'amondre', 'amunra', 'amzi', 'anaken', 'anania', 'ananth', 'anar', 'andersson', 'andreaz', 'andri', 'angelgabriel', 'angell', 'aniket', 'aniv', 'anmay', 'anri', 'anselm', 'anthym', 'antonie', 'antonin', 'antonious', 'antron', 'anuj', 'apolinar', 'aprameya', 'aqil', 'aquil', 'araoluwa', 'araya', 'arben', 'archangel', 'ardarius', 'ardell', 'ardin', 'areon', 'arez', 'arhansh', 'arib', 'arick', 'arieh', 'arinzechukwu', 'aristides', 'arkady', 'arkeem', 'arlee', 'arlind', 'armarion', 'armez', 'armondo', 'armone', 'armonte', 'armour', 'arnie', 'arnik', 'arrington', 'arsal', 'arsalaan', 'arseniy', 'arshia', 'arther', 'arwyn', 'aryion', 'ashai', 'ashaun', 'ashdon', 'ashdyn', 'ashlan', 'asten', 'asyn', 'atal', 'atem', 'aten', 'atli', 'atreya', 'audyn', 'augden', 'aulden', 'auley', 'aung', 'autzen', 'avetis', 'aviraaj', 'aviyan', 'avonni', 'avontae', 'avraj', 'avran', 'avriel', 'avyanreddy', 'axal', 'axe', 'axen', 'axley', 'axson', 'ayaad', 'ayker', 'aylen', 'ayris', 'aysah', 'aysin', 'aythan', 'ayvin', 'ayyash', 'ayzen', 'azam', 'azarius', 'azian', 'azraq', 'azyon', 'ba', 'baelor', 'bahran', 'bakr', 'bari', 'barima', 'barlas', 'baroke', 'barton', 'bashton', 'basile', 'bassel', 'baxton', 'bay', 'bayan', 'bayani', 'bearon', 'becks', 'behren', 'bekham', 'bellamie', 'benas', 'benecio', 'benelli', 'benet', 'benigno', 'benjiro', 'benjy', 'benni', 'bennington', 'bensyn', 'bereket', 'berish', 'berlyn', 'bernardino', 'bezaleel', 'bharath', 'biagio', 'binh', 'bivan', 'bladyn', 'blakelee', 'blessin', 'blessyn', 'blin', 'bodhin', 'bodhisattva', 'boen', 'boomer', 'bowdy', 'braddock', 'bradon', 'brahim', 'brahms', 'brandtley', 'brannan', 'brasen', 'bravyn', 'braylnn', 'brayten', 'breckan', 'brelan', 'brenston', 'breylon', 'breyton', 'briant', 'brien', 'brigido', 'brilyn', 'brinley', 'briton', 'brixtin', 'bronn', 'bronsyn', 'brooklynn', 'brylee', 'brynn', 'bud', 'bulmaro', 'butch', 'byran', 'cahari', 'caide', 'cainaan', 'caique', 'callie', 'callister', 'calob', 'calvert', 'camaron', 'campion', 'canek', 'cantrell', 'cardin', 'carmichael', 'carti', 'carvell', 'cashe', 'casher', 'cashtian', 'caspien', 'cassell', 'castyn', 'cavon', 'cayce', 'cayd', 'ceaser', 'ceon', 'chambers', 'chan', 'chancey', 'chanson', 'chanston', 'charan', 'charli', 'cheo', 'cherno', 'chetan', 'chidiebube', 'chiemeka', 'christapher', 'christopherjohn', 'chuck', 'claire', 'clayden', 'clayten', 'clemens', 'clever', 'coalson', 'coburn', 'cochise', 'colbi', 'colorado', 'colstyn', 'colwyn', 'colyn', 'conal', 'conri', 'corby', 'cordale', 'cordarius', 'cordaro', 'cordelle', 'cornel', 'corran', 'correy', 'cortavious', 'corwyn', 'cosmas', 'costello', 'costner', 'coyer', 'crayton', 'creedance', 'creeden', 'creedyn', 'crescencio', 'criss', 'crystian', 'cub', 'cyress', 'dade', 'dae', 'daelan', 'daemyn', 'daequan', 'daeson', 'dagmawi', 'dagon', 'daimir', 'daion', 'daivyon', 'dakaiden', 'dakaree', 'dakauri', 'daking', 'dalan', 'dali', 'dallyn', 'dalson', 'dalynn', 'damacio', 'daman', 'damarie', 'damarii', 'damaris', 'damarri', 'damin', 'damire', 'damonie', 'dangel', 'danger', 'daquon', 'darinel', 'dariush', 'darlin', 'darran', 'darreon', 'darriel', 'daschel', 'dashan', 'davell', 'davidjames', 'dawid', 'dawone', 'daymir', 'deandrea', 'dearius', 'decarlo', 'dedric', 'deeric', 'deiby', 'deior', 'deivi', 'deker', 'delan', 'delorean', 'delsin', 'delta', 'deluka', 'demarko', 'demeco', 'demier', 'demire', 'demon', 'denham', 'denico', 'denise', 'deonis', 'deriq', 'derius', 'dermot', 'derrik', 'derron', 'desai', 'destan', 'destined', 'deundre', 'devanta', 'devell', 'deveraux', 'devere', 'devesh', 'dextin', 'deylin', 'deyner', 'dezman', 'dezmin', 'dhaksh', 'dhani', 'dhario', 'dharius', 'dhev', 'dhilan', 'dia', 'dilam', 'dillen', 'dillian', 'dimarco', 'din', 'diquan', 'divan', 'divin', 'django', 'dmere', 'dmonte', 'dmytro', 'domiano', 'dominicus', 'dominiq', 'donaciano', 'donal', 'donaven', 'donavyn', 'donovin', 'donzell', 'doran', 'draelyn', 'dray', 'draycen', 'dredan', 'dreylan', 'dreyven', 'driss', 'dwaine', 'dyer', 'dyon', 'dyron', 'eaden', 'early', 'eashan', 'ebubechukwu', 'edilberto', 'edrei', 'edyn', 'eean', 'ehitan', 'ehren', 'ehsaan', 'eiji', 'eiker', 'ein', 'ekamjot', 'eknoor', 'ekrem', 'elbert', 'elby', 'eldrick', 'elean', 'eleanor', 'eleftherios', 'eliann', 'eliazer', 'elikem', 'eliodoro', 'elishua', 'elix', 'eliyjah', 'elizabeth', 'elizander', 'ellie', 'ellyott', 'elmin', 'elmore', 'elyot', 'elzie', 'emar', 'emeir', 'emeka', 'emerich', 'emeth', 'emiel', 'emit', 'emjay', 'emmerick', 'emri', 'enam', 'endi', 'endymion', 'enes', 'enio', 'enix', 'enok', 'eramis', 'erian', 'erish', 'ernst', 'ervey', 'esme', 'estefan', 'etzio', 'evangelo', 'evanjames', 'evelio', 'everen', 'ewing', 'eyas', 'eyoas', 'ezaias', 'ezer', 'ezikio', 'eziquiel', 'ezralee', 'ezriah', 'fabiano', 'facundo', 'farhaan', 'fate', 'faustin', 'felton', 'fenn', 'fenway', 'ferguson', 'filiberto', 'finlan', 'finton', 'fiyinfoluwa', 'flex', 'fortino', 'france', 'franciszek', 'fredd', 'freddrick', 'freyr', 'furious', 'furkan', 'furqan', 'gabin', 'gad', 'gadi', 'gahan', 'gahel', 'galaxy', 'gannicus', 'garfield', 'garin', 'garnet', 'garnett', 'gavril', 'genghis', 'genji', 'geordan', 'georg', 'gerber', 'gerrard', 'geva', 'giddeon', 'giovannii', 'giovonnie', 'givanni', 'givenchy', 'god', 'goshen', 'graesen', 'graves', 'grayland', 'graylin', 'graysonn', 'greighson', 'greylyn', 'grissom', 'grit', 'gurdit', 'gurjaap', 'gursanjh', 'haaland', 'haaris', 'hady', 'hael', 'hafiz', 'haisten', 'haize', 'haki', 'hakoda', 'hakon', 'halton', 'hamze', 'hannah', 'hao', 'haralambos', 'hardison', 'harith', 'harleigh', 'harveer', 'harvie', 'hastin', 'havik', 'hayan', 'haydyn', 'haywood', 'heaton', 'hebert', 'heiden', 'heinz', 'helaman', 'henzo', 'hesham', 'hezikiah', 'hiero', 'highland', 'hikaru', 'hiroki', 'hobson', 'hoku', 'holcomb', 'hollan', 'holloway', 'holmes', 'holsten', 'honour', 'hope', 'hossein', 'hotchner', 'houstyn', 'hudayfa', 'hudeyfa', 'husnain', 'hutchins', 'huttson', 'hyker', 'iago', 'iangael', 'ifeanyichukwu', 'ikena', 'ikram', 'ilkay', 'illyas', 'ilyan', 'imhotep', 'imronbek', 'inba', 'inez', 'infinite', 'inioluwa', 'iori', 'irish', 'isaia', 'isam', 'isaul', 'isaya', 'ishak', 'ishank', 'ishay', 'ishimwe', 'isra', 'isrrael', 'issachar', 'issael', 'issiah', 'ithiel', 'ivansh', 'ivarr', 'ivey', 'ivri', 'iyaad', 'iyah', 'iyanu', 'izeah', 'izell', 'izreal', 'izriel', 'izyaan', 'izzan', 'jaaire', 'jacaleb', 'jacek', 'jacian', 'jacier', 'jackob', 'jacobmatthew', 'jacobus', 'jacquan', 'jacson', 'jadarrius', 'jadel', 'jadir', 'jaecob', 'jafari', 'jahdai', 'jahkobe', 'jahmair', 'jahmal', 'jahn', 'jahon', 'jahsaan', 'jahsiel', 'jahsier', 'jahsire', 'jahzai', 'jahzi', 'jaicion', 'jaidev', 'jailon', 'jaior', 'jairen', 'jaishawn', 'jakahri', 'jakarie', 'jaki', 'jakin', 'jakorey', 'jaleo', 'jama', 'jamair', 'jamaul', 'jameison', 'jamesly', 'jancarlo', 'janlucas', 'janmichael', 'jann', 'jantzen', 'janziel', 'jaquavion', 'jaquavius', 'jaquay', 'jaquel', 'jaquin', 'jaqwan', 'jaraiya', 'jarol', 'jarrah', 'jarrin', 'jarron', 'jaryan', 'jasahn', 'jasi', 'jaspar', 'jassim', 'jasten', 'jastin', 'jataveon', 'javaree', 'javares', 'javid', 'javius', 'javonne', 'javonnie', 'jaxzen', 'jayari', 'jaycieon', 'jayde', 'jaydel', 'jayler', 'jayllen', 'jaymani', 'jaymeir', 'jaymian', 'jayvan', 'jayziah', 'jayzion', 'jazel', 'jazen', 'jazer', 'jeaven', 'jehan', 'jehkai', 'jenkins', 'jered', 'jerelle', 'jeremmy', 'jeresiah', 'jerison', 'jermarion', 'jermoni', 'jerrel', 'jerren', 'jessee', 'jessup', 'jetziel', 'jexiel', 'jeycob', 'jeydan', 'jeyder', 'jeylan', 'jhamil', 'jhan', 'jhared', 'jheico', 'jhoniel', 'jhordy', 'jiair', 'jigme', 'jiovany', 'jiovonni', 'jiyon', 'jkai', 'joahn', 'joaolucas', 'joaomiguel', 'joaopedro', 'jocari', 'joeseph', 'joevan', 'joham', 'johngabriel', 'johnmark', 'johnpatrick', 'johnrobert', 'johntavious', 'jontez', 'joram', 'jordyan', 'jorey', 'jorgen', 'josaan', 'josejulian', 'joseth', 'josie', 'journi', 'jovaughn', 'jovoni', 'joziyah', 'jp', 'jsean', 'juanantonio', 'juandedios', 'juanmateo', 'judaea', 'juelle', 'juels', 'jujhar', 'juliam', 'junah', 'juni', 'junius', 'jusuf', 'jwan', 'jyrie', 'kable', 'kachiside', 'kadrick', 'kaegan', 'kaelem', 'kaen', 'kagen', 'kahawai', 'kahekili', 'kahleel', 'kaiir', 'kaileo', 'kaiman', 'kaimen', 'kaipo', 'kairie', 'kairin', 'kaise', 'kaisun', 'kaivalya', 'kaiyer', 'kaiyo', 'kalab', 'kalahan', 'kalder', 'kaleal', 'kalex', 'kalid', 'kalief', 'kallai', 'kalo', 'kalob', 'kaloyan', 'kalyan', 'kamarian', 'kamarri', 'kameo', 'kamere', 'kamp', 'kamrynn', 'kamyrn', 'kaon', 'karanveer', 'karbon', 'karcyn', 'kardell', 'karder', 'karel', 'kariem', 'karlin', 'karm', 'karman', 'karo', 'karriem', 'kasaan', 'kasein', 'kashh', 'kashi', 'kashtynn', 'kasian', 'kass', 'kastle', 'kastor', 'kastyn', 'kauan', 'kavani', 'kaveion', 'kavell', 'kaycion', 'kaydn', 'kayeson', 'kayleon', 'kaylib', 'kaylum', 'kayron', 'kaysten', 'kayto', 'kazarion', 'kazier', 'kazu', 'kazuki', 'keari', 'keating', 'keatyn', 'keaundre', 'kedar', 'kedon', 'kedric', 'keenai', 'keeper', 'keevin', 'keiji', 'keiondre', 'keiontae', 'keithan', 'kekai', 'keland', 'keldrick', 'keliel', 'kelin', 'kell', 'kelon', 'kemon', 'kemp', 'kenaz', 'kendarrius', 'kendrew', 'kendriel', 'kendryk', 'keneil', 'keneth', 'kenjiro', 'kenlin', 'kenndrick', 'kennett', 'kentley', 'kenzell', 'kesiah', 'kestrel', 'ketch', 'kethan', 'kevari', 'keveon', 'keyner', 'keyoni', 'khace', 'khailan', 'khailand', 'khaizen', 'khaleil', 'khaliel', 'khalifah', 'khalique', 'khance', 'khash', 'khaz', 'khazir', 'khiro', 'khizr', 'khobe', 'khol', 'khole', 'khymere', 'khyon', 'khyza', 'kiba', 'kidd', 'kiliam', 'kilyan', 'kingelijah', 'kiram', 'kirolos', 'kivaan', 'kix', 'kiylen', 'kiyo', 'knightlee', 'kniko', 'koal', 'koba', 'koh', 'koleton', 'kollyn', 'kolsten', 'kope', 'kopelin', 'kopper', 'kordai', 'koulson', 'kourosh', 'kourtney', 'kova', 'kovu', 'kovyn', 'kraven', 'kreece', 'kreedyn', 'kreston', 'kriday', 'kristof', 'kriston', 'kron', 'kruize', 'krzysztof', 'kuiper', 'kuma', 'kunal', 'kurrency', 'kutler', 'kwon', 'kyelan', 'kyelin', 'kyian', 'kyir', 'kyndal', 'kypton', 'kyrel', 'kyrii', 'kyzaire', 'laban', 'lacey', 'ladarian', 'ladarious', 'ladell', 'laeken', 'laike', 'laiku', 'laikyn', 'lakaiden', 'lakelyn', 'lakendrick', 'lakoda', 'lamon', 'lancelot', 'lang', 'lanny', 'laroy', 'latavious', 'lathaniel', 'latravion', 'laylon', 'layn', 'layson', 'laythan', 'leeandre', 'leeum', 'legacee', 'legacie', 'leiam', 'leighland', 'leilan', 'lelynd', 'lemarcus', 'lennard', 'lennart', 'lennie', 'lennin', 'lennoxx', 'leonas', 'leonell', 'leoni', 'leonis', 'leonte', 'leonzo', 'lerenzo', 'les', 'levai', 'levar', 'levelle', 'levent', 'levvy', 'levyn', 'lexiel', 'lexon', 'liamjohn', 'life', 'lindan', 'livan', 'lon', 'lonnell', 'lopaka', 'lorde', 'lorenc', 'loretto', 'louise', 'lowsan', 'loyall', 'luccah', 'ludwin', 'luismateo', 'luzer', 'lyanno', 'lyla', 'lynex', 'lynford', 'lynnex', 'lyrix', 'maajid', 'macallen', 'macauley', 'mackie', 'mackinnon', 'macklyn', 'madex', 'maestro', 'magilan', 'maguire', 'mahaad', 'mahaan', 'mahlik', 'mahmood', 'maiky', 'majer', 'majestic', 'majur', 'makaii', 'makario', 'makias', 'makoto', 'malahkai', 'maleik', 'maleko', 'malicah', 'malijah', 'malikhai', 'malvin', 'manaf', 'manfred', 'mani', 'mannie', 'manvith', 'marian', 'marianno', 'marking', 'markon', 'marlen', 'marquess', 'marqus', 'marsai', 'marsean', 'marshun', 'marvion', 'masego', 'mashal', 'mateyo', 'mathais', 'matheson', 'matija', 'matthaios', 'matthan', 'matviy', 'matyas', 'maurion', 'mavryck', 'maxden', 'maximiano', 'maximillan', 'maximum', 'maxin', 'maxximo', 'maxxton', 'mayar', 'mayce', 'maycen', 'mayco', 'maycon', 'maysn', 'mazion', 'mazzy', 'mcallister', 'mcclane', 'mccormick', 'mcgregor', 'meerab', 'mehmed', 'melech', 'melkin', 'melquisedec', 'mesac', 'mesias', 'messyah', 'michaelanthony', 'mihajlo', 'mihran', 'mikiah', 'mikiyas', 'milam', 'milani', 'millie', 'milyon', 'minkah', 'miranda', 'mitansh', 'mitsuki', 'mizan', 'mofeoluwa', 'mohab', 'mohamedamiin', 'momen', 'momodou', 'money', 'montague', 'montay', 'monterio', 'montrel', 'morpheus', 'mosha', 'mossimo', 'mounir', 'moyses', 'mozzi', 'muhammadhasan', 'muhammadibrahim', 'muhammadmusa', 'muhammadumar', 'mukhammad', 'mukhammadyusuf', 'munachi', 'muneeb', 'murry', 'muse', 'musiq', 'mustaf', 'myeir', 'myloh', 'naeco', 'nagee', 'nahiem', 'nahsir', 'nahun', 'najeeb', 'najm', 'naledge', 'namish', 'nandan', 'nando', 'naoki', 'nasri', 'nasyr', 'natsu', 'navarro', 'navion', 'navon', 'nazeem', 'nazhir', 'nechemya', 'neco', 'neegan', 'nefi', 'nehemiyah', 'neitan', 'nektarios', 'nello', 'neyo', 'nguyen', 'nhial', 'nial', 'nicho', 'nicholi', 'niel', 'nihir', 'nihith', 'nikkolas', 'nikolo', 'nimalan', 'nirmaan', 'nishant', 'nishiv', 'nitin', 'noar', 'nodin', 'noell', 'nohan', 'nolynn', 'norbu', 'nosiah', 'novell', 'noven', 'novian', 'noy', 'nuno', 'nyan', 'nyeir', 'nygel', 'nyir', 'nykeem', 'nykko', 'nykolas', 'nymire', 'nyne', 'nysaiah', 'nyzaire', 'nyzel', 'oba', 'obrian', 'obsa', 'ocie', 'odai', 'ohtli', 'olajide', 'olajuwon', 'olaoluwa', 'olee', 'olek', 'ollyver', 'olufemi', 'olumide', 'oluwadamilola', 'oluwadunsin', 'oluwaferanmi', 'omaet', 'oneal', 'orgil', 'orien', 'orland', 'orry', 'orvin', 'osean', 'oshawn', 'oshay', 'osher', 'oshyn', 'osinachi', 'osirus', 'oso', 'ossian', 'osyrus', 'oto', 'owens', 'ozais', 'ozil', 'pacer', 'paisley', 'patch', 'pavit', 'pavle', 'paxtin', 'paycen', 'paysen', 'paz', 'pearse', 'pele', 'peleg', 'perrion', 'peyson', 'pharoh', 'phillips', 'pieter', 'pilot', 'pinny', 'placido', 'pranil', 'prateek', 'pratt', 'prayaan', 'preacher', 'prentis', 'preslee', 'princeamir', 'purav', 'quang', 'quantavious', 'quantavius', 'quban', 'quentrell', 'quentyn', 'quincee', 'quintez', 'quirino', 'raaghav', 'raahim', 'rader', 'radnor', 'raelynn', 'raequan', 'rafan', 'raheel', 'rahmi', 'rahyl', 'raijin', 'raimundo', 'rainen', 'raji', 'rally', 'ramal', 'rambo', 'ramesh', 'ramos', 'range', 'rangel', 'ranon', 'ras', 'rashan', 'rasul', 'raunak', 'rawlin', 'rawling', 'rayed', 'raygen', 'raylynn', 'rayniel', 'raysen', 'rece', 'regino', 'regulo', 'regulus', 'reino', 'remmi', 'renegade', 'renick', 'renlee', 'rennie', 'renwick', 'renz', 'rephael', 'rett', 'reu', 'revv', 'rexx', 'reyanshreddy', 'reylin', 'reyon', 'reyson', 'rhavi', 'rhemi', 'rhenn', 'rhettlee', 'rhettly', 'rhip', 'rhoads', 'rhyden', 'richy', 'riko', 'riplee', 'rippley', 'rishith', 'ritter', 'riyu', 'roanin', 'roary', 'roby', 'rodin', 'rodman', 'rodrygo', 'rody', 'roey', 'rogen', 'rogers', 'rohman', 'rojelio', 'roko', 'rolin', 'rollie', 'rolyn', 'romaan', 'romare', 'romelle', 'romualdo', 'ronaldinho', 'ronix', 'rooster', 'rorey', 'rosco', 'rostam', 'rotimi', 'rowlyn', 'roycen', 'rudi', 'rudolf', 'rushank', 'russo', 'rutger', 'rykar', 'rymer', 'rymir', 'saaj', 'saam', 'saban', 'sabastion', 'sacred', 'sadie', 'sadiel', 'sadler', 'sadrac', 'saed', 'safal', 'saifuddin', 'saim', 'sairam', 'saiyon', 'sajjad', 'sajjan', 'saket', 'saladin', 'samaje', 'samatar', 'sambhav', 'samwell', 'samyak', 'samyog', 'san', 'sanai', 'sane', 'sango', 'sansar', 'saqr', 'sarang', 'sarfaraz', 'sargon', 'sarvin', 'saurabh', 'savar', 'savyon', 'sayden', 'sayid', 'sayveon', 'schneider', 'science', 'sebastijan', 'sehej', 'sencere', 'sensei', 'seraph', 'serigne', 'sevak', 'severide', 'seydina', 'seymour', 'seyven', 'shaakir', 'shabsi', 'shaddai', 'shaden', 'shadi', 'shahaan', 'shaheed', 'shahir', 'shameer', 'sharaf', 'sharmarke', 'shaydon', 'shaymus', 'shedrick', 'shenouda', 'sheperd', 'sher', 'sherif', 'sherron', 'shimmy', 'shreeyan', 'shu', 'shun', 'shye', 'shyheim', 'siaire', 'siddarth', 'sidy', 'silis', 'simonpeter', 'sinatra', 'sitiveni', 'sitka', 'siyan', 'skylin', 'slaton', 'slevin', 'slone', 'sohaib', 'solon', 'som', 'soni', 'spike', 'spiros', 'sreeyan', 'stanislaw', 'star', 'starling', 'steffon', 'stellar', 'steph', 'stori', 'summer', 'suryansh', 'sutten', 'swaraj', 'swift', 'sylvain', 'tacoma', 'tadeusz', 'taelen', 'taelin', 'taequan', 'tahlil', 'tahmeed', 'tahseen', 'taiki', 'taisei', 'taivon', 'tajay', 'takhi', 'talent', 'talik', 'talis', 'tam', 'tanav', 'tancredi', 'tanielu', 'tarrell', 'tashfin', 'tasir', 'tateum', 'tauheed', 'tavius', 'tavoris', 'tavyn', 'tawfiq', 'tay', 'taylyn', 'tayron', 'tee', 'telly', 'telmo', 'temidayo', 'temir', 'temitayo', 'temur', 'tennison', 'tequan', 'terryn', 'tevye', 'teyo', 'thacher', 'thaine', 'thanh', 'thanos', 'theojames', 'theos', 'thian', 'thijs', 'thobias', 'thoedore', 'thom', 'thomson', 'thyri', 'tiberias', 'tide', 'tifeoluwa', 'tighe', 'tilson', 'tilton', 'time', 'tipton', 'tiras', 'tirrell', 'tkai', 'tobe', 'tomasi', 'torre', 'torres', 'towa', 'trashawn', 'travaris', 'travonte', 'treden', 'tremari', 'treson', 'trevante', 'trevelle', 'trevonne', 'treylon', 'treyveon', 'trhue', 'trig', 'trinton', 'tryp', 'trypp', 'trystyn', 'tydarius', 'tyjae', 'tyjir', 'tykell', 'tymar', 'tymoni', 'tyrael', 'tyresse', 'tyris', 'tysean', 'tysier', 'umberto', 'uvaldo', 'vader', 'vahan', 'valiente', 'valin', 'vanson', 'varad', 'vasili', 'vasily', 'veeran', 'venture', 'victorino', 'victorious', 'vidyuth', 'vigo', 'vikyath', 'viliamu', 'vinayak', 'vinton', 'virajreddy', 'vishaan', 'vitali', 'volvi', 'vontae', 'vraj', 'vuong', 'waden', 'wadley', 'wagner', 'wahid', 'waiks', 'warsame', 'warwick', 'washington', 'waymon', 'wealth', 'wendall', 'weslan', 'wickham', 'wild', 'wilkin', 'willam', 'windell', 'winson', 'winsten', 'winton', 'woodensley', 'woodland', 'woojin', 'wrenly', 'wrett', 'wyatte', 'wyeth', 'wyld', 'wylin', 'xaeden', 'xaelyn', 'xamari', 'xannon', 'xantiago', 'xayvier', 'xhaiden', 'xoan', 'xoel', 'xylen', 'xyrus', 'xzaiden', 'xzayden', 'xzayvien', 'yacine', 'yacob', 'yaden', 'yahriel', 'yahsiah', 'yancy', 'yao', 'yashar', 'yassiel', 'yedidya', 'yefri', 'yeiko', 'yekusiel', 'yerson', 'yeshayahu', 'yester', 'yexian', 'yiming', 'yoandri', 'yobani', 'yochanon', 'yohance', 'yonel', 'york', 'yoseth', 'yoshiyahu', 'yosiyah', 'yossef', 'yotam', 'yue', 'yuhan', 'yuito', 'yuli', 'yuniel', 'yuvanreddy', 'yuven', 'zabian', 'zacai', 'zachai', 'zachariyah', 'zacheriah', 'zaed', 'zaevon', 'zaheem', 'zahmire', 'zahvier', 'zainaldeen', 'zaiven', 'zaivion', 'zaiyr', 'zakaree', 'zakoda', 'zakori', 'zalyn', 'zamare', 'zamere', 'zamonte', 'zani', 'zaquan', 'zari', 'zariel', 'zathan', 'zaviel', 'zavin', 'zaxai', 'zaxtyn', 'zaydian', 'zaylynn', 'zaymir', 'zayre', 'ze', 'zecharia', 'zedd', 'zedric', 'zehaan', 'zekhi', 'zeki', 'zeland', 'zemariam', 'zennon', 'zeon', 'zero', 'zeven', 'zevon', 'zevyn', 'zeyd', 'zhair', 'zhayd', 'zhen', 'zhion', 'zierre', 'zinedine', 'zuhayr', 'zvi', 'zyeire', 'zyel', 'zyian', 'zylar', 'zyn']\n",
      "['aabha', 'aadhirai', 'aadvi', 'aafia', 'aailyah', 'aaima', 'aaiza', 'aakifah', 'aakriti', 'aaleeyah', 'aaleia', 'aaranya', 'aariaani', 'aarielle', 'aarin', 'aarionna', 'aaryah', 'aaryana', 'aaryiah', 'aashka', 'aashna', 'aashritha', 'aayara', 'abbygale', 'abeera', 'abiola', 'abisola', 'abiya', 'abree', 'abrey', 'abuk', 'abygale', 'abyssinia', 'acela', 'acelia', 'acie', 'ackley', 'adaira', 'adaire', 'adaiyah', 'adaleia', 'adalys', 'adanelly', 'addaley', 'addalia', 'addalina', 'addelyne', 'addylynn', 'addysyn', 'adelade', 'adelaya', 'adeleigh', 'adeley', 'adelinn', 'adesewa', 'adiana', 'adiba', 'adila', 'adior', 'adly', 'adona', 'adonia', 'adorah', 'adriann', 'adrie', 'adrionna', 'adrita', 'adryana', 'adylynn', 'aelina', 'aemelia', 'aerabella', 'aerowyn', 'aeryss', 'aesha', 'afaf', 'afrin', 'aggie', 'ahanna', 'ahilani', 'ahinara', 'ahlai', 'ahlanni', 'ahleyah', 'ahlina', 'ahmaya', 'ahmiyah', 'ahmyah', 'ahnesty', 'ahni', 'ahonesti', 'ahrie', 'ahriya', 'ahveya', 'ahvi', 'ahvianna', 'ahyoka', 'ahzari', 'aidaly', 'aife', 'aijah', 'aileth', 'ailis', 'aimar', 'airalyn', 'airiana', 'aishat', 'aishvi', 'aisleen', 'aissa', 'ajourni', 'ajream', 'akailah', 'akane', 'akaylah', 'akire', 'akon', 'aksa', 'akuol', 'akya', 'akyra', 'alaana', 'alaea', 'alaena', 'alaeyah', 'alaiha', 'alaizah', 'alamea', 'alandria', 'alaniz', 'alankrita', 'alarah', 'alayaa', 'alayja', 'alchemy', 'aleanna', 'aleece', 'alegaci', 'alenia', 'alera', 'alexanderia', 'alexei', 'alexzandra', 'aliaa', 'alianni', 'alieah', 'aliena', 'alifa', 'alissah', 'alleia', 'alleyah', 'allysen', 'almudena', 'aloe', 'alonie', 'altair', 'aluel', 'alula', 'alyani', 'alyda', 'alynah', 'alyonna', 'alyrah', 'alysen', 'amabella', 'amaka', 'amany', 'amariee', 'amarise', 'amaru', 'amazi', 'amaziah', 'amberlie', 'ameah', 'ameelah', 'ameilya', 'amelea', 'ameyah', 'amierah', 'amiia', 'amiliyah', 'amilliah', 'amine', 'amineh', 'amirii', 'amiryah', 'amiyra', 'amla', 'ammarie', 'amnah', 'amoret', 'amparo', 'amryn', 'amunet', 'amyrical', 'anab', 'anadelia', 'anae', 'anahla', 'anaija', 'analeiah', 'analilia', 'analiza', 'anamta', 'anarely', 'anavaeh', 'anavrin', 'anayansi', 'anayely', 'anaylah', 'andilynn', 'andrianna', 'andrra', 'anecia', 'aneesha', 'anelisse', 'angelea', 'angelene', 'angelice', 'angelisse', 'angelyna', 'anifer', 'anikha', 'anime', 'anisah', 'anivia', 'anjel', 'anjola', 'anmol', 'annaclara', 'annaise', 'annaleese', 'annalena', 'annaleya', 'annaliza', 'annalize', 'annalyssa', 'annapurna', 'annaruth', 'annavictoria', 'annayah', 'annella', 'annesley', 'annorah', 'anran', 'ansha', 'anthony', 'anthym', 'antigone', 'anu', 'anushree', 'anvee', 'anyra', 'aonani', 'aparna', 'aralee', 'arami', 'aranya', 'arbella', 'areia', 'areina', 'arelyn', 'aren', 'arianis', 'ariarose', 'ariayl', 'ariba', 'ariday', 'ariele', 'arien', 'arirose', 'aritzia', 'ariyanah', 'ariyha', 'arlani', 'armanie', 'armelia', 'armida', 'armony', 'arriella', 'arriyah', 'aruvi', 'arybella', 'aryel', 'aryiana', 'aryianna', 'arys', 'arzoie', 'asaiah', 'asana', 'ashai', 'ashelynn', 'ashiya', 'ashli', 'ashvi', 'ashyla', 'asiana', 'aslan', 'aslihan', 'aslin', 'aslinn', 'asmara', 'astreya', 'astri', 'athar', 'atika', 'attalia', 'attallah', 'aubre', 'aubreerose', 'aubreyella', 'aubria', 'aubrianne', 'aubriee', 'aubriel', 'audelina', 'audianna', 'audrinna', 'audryanna', 'aulelei', 'aurbree', 'aureliana', 'aurorarose', 'avaeah', 'avajade', 'avalyse', 'avayla', 'aveia', 'avenly', 'avera', 'averyana', 'avey', 'aviel', 'avienda', 'avonlee', 'avrey', 'avyn', 'axie', 'ayasofia', 'aydan', 'ayen', 'aylina', 'aynsley', 'ayo', 'ayssa', 'azaleia', 'azalie', 'azami', 'azaree', 'azarria', 'azazel', 'azealia', 'azera', 'azhani', 'azharia', 'azita', 'azka', 'azria', 'azuriah', 'babette', 'bae', 'baelee', 'baeli', 'baelyn', 'balenci', 'balencia', 'banksy', 'bareerah', 'barkot', 'bassheva', 'behati', 'belamy', 'belize', 'bellaluna', 'bellen', 'bellezza', 'belma', 'beloved', 'bennet', 'berkely', 'berkli', 'berklie', 'bernadine', 'berta', 'bethann', 'betiel', 'betsie', 'bettyjo', 'beyonce', 'beyza', 'bhavya', 'bhuvi', 'bilen', 'bilqis', 'binah', 'bissan', 'blaklyn', 'bly', 'boe', 'bonni', 'boone', 'brae', 'braeley', 'braeya', 'braislee', 'brandie', 'brany', 'braxley', 'bray', 'breeanna', 'breeley', 'breia', 'brendalynn', 'brendy', 'brentlee', 'breyanna', 'brighid', 'brigit', 'brihana', 'brihanna', 'brilliance', 'brilliant', 'brinzley', 'briselda', 'briselle', 'brita', 'brizeyda', 'bronxx', 'brooklyne', 'bryan', 'brycelynn', 'brynlei', 'brynnly', 'bunny', 'burke', 'burkleigh', 'cache', 'caelin', 'cahya', 'cailah', 'cairee', 'caitriona', 'caleena', 'calii', 'calila', 'callaghan', 'calliana', 'callidora', 'cam', 'camauri', 'cambre', 'cambreigh', 'cammi', 'camoura', 'camyra', 'canary', 'candyce', 'capria', 'cardi', 'careli', 'caridad', 'carisa', 'carisma', 'carleena', 'carlena', 'carmani', 'carolee', 'carrera', 'cason', 'casper', 'cassius', 'cataliyah', 'cedra', 'celiana', 'cerelia', 'charleeann', 'charlsie', 'chaselynn', 'chatham', 'chau', 'chayil', 'chaz', 'chenxi', 'cherrish', 'cheyann', 'chikamso', 'chloeann', 'chozynn', 'chrissa', 'christabella', 'chrystiana', 'chyla', 'cinderella', 'citlally', 'clarajane', 'claribelle', 'clarita', 'clayton', 'cleissy', 'clelia', 'coast', 'coen', 'colibri', 'colin', 'comfort', 'connolly', 'constantina', 'consuela', 'conway', 'coraima', 'coralei', 'coralin', 'coralina', 'cordellia', 'corine', 'corinthian', 'corrin', 'cortlyn', 'cortney', 'crisbell', 'crissy', 'cristella', 'crosbie', 'curie', 'cyn', 'cynai', 'cynia', 'cyniyah', 'daanya', 'daenarys', 'dafni', 'dahlani', 'dahlila', 'dahlilah', 'dailah', 'daileigh', 'daileny', 'dairyn', 'daivy', 'daizie', 'dalanii', 'dalarie', 'daleyla', 'daleyzah', 'dalissa', 'daliylah', 'daliza', 'dallyss', 'damor', 'danaria', 'dandrea', 'daniele', 'danileigh', 'dannah', 'danniella', 'daphni', 'darbi', 'dariann', 'dariany', 'darlyne', 'darlynn', 'darri', 'darria', 'dasiah', 'davaya', 'daveena', 'davika', 'dayjah', 'dayle', 'daylen', 'daylene', 'deani', 'debrah', 'deidre', 'deily', 'delanni', 'delaylah', 'delicia', 'delillah', 'delisa', 'delle', 'delsy', 'dema', 'demie', 'demirose', 'demitria', 'demy', 'demyah', 'denisha', 'deniya', 'denni', 'deoni', 'dessa', 'destani', 'devaeh', 'devonna', 'deylin', 'deyra', 'dezariah', 'deziah', 'dharma', 'dharvi', 'dhritireddy', 'dhruti', 'diamante', 'dianelys', 'dianni', 'diary', 'dilan', 'dilcia', 'dilyn', 'diona', 'dione', 'diorr', 'dira', 'ditza', 'divika', 'dlyla', 'dlylah', 'dor', 'dotty', 'dovey', 'draven', 'dreamer', 'dreamy', 'dreanna', 'drelynn', 'dulaney', 'dulcie', 'durga', 'dustee', 'dvosia', 'dyala', 'dyamond', 'dylilah', 'dynastii', 'eboni', 'ebtisam', 'ece', 'edalynn', 'edelina', 'edenrose', 'edin', 'edisyn', 'eduarda', 'eemaan', 'ehani', 'eilany', 'eilene', 'eimaan', 'eire', 'eiress', 'eisele', 'eislyn', 'eizabella', 'ejla', 'ekhlas', 'elaheh', 'elainea', 'elainy', 'elaiza', 'elanah', 'elaney', 'elanii', 'elanny', 'elasia', 'elaura', 'elayjah', 'elaynna', 'elease', 'elei', 'elen', 'elenie', 'eleri', 'elesia', 'elessia', 'eleya', 'eliara', 'elienai', 'eliett', 'elisheba', 'elizabet', 'ellaine', 'ellalee', 'ellason', 'elleighana', 'elleni', 'ellenie', 'ellenora', 'elleona', 'elliya', 'ellori', 'eloiza', 'elon', 'eloria', 'elorie', 'elouisa', 'elsey', 'elta', 'elu', 'elynor', 'elyon', 'elyzah', 'emalyne', 'emarii', 'embrii', 'emel', 'emeliah', 'emereigh', 'emiliarose', 'emjay', 'emmabelle', 'emmalena', 'emmaree', 'emmerlynn', 'emmitt', 'emslie', 'emyra', 'ender', 'endi', 'endiyah', 'eneida', 'eneri', 'enessa', 'enith', 'enzie', 'epic', 'eponine', 'erendira', 'eriella', 'erilynn', 'eriyanna', 'erla', 'ernestina', 'erys', 'ese', 'eseosa', 'esmea', 'esmerae', 'esperance', 'estephania', 'estephany', 'estoria', 'evadne', 'evangaline', 'evangelene', 'evangelin', 'evangelynn', 'evanka', 'evanni', 'evannie', 'evian', 'evienne', 'evonne', 'evony', 'evvy', 'ewa', 'ewaoluwa', 'exie', 'eyonna', 'ezmerelda', 'faduma', 'fahima', 'faige', 'fairy', 'faithful', 'faizah', 'falaq', 'falasteen', 'fantasia', 'fareeha', 'farhana', 'faridah', 'faryal', 'fatmata', 'fauzia', 'fayla', 'fayola', 'feather', 'febe', 'feigy', 'feliciana', 'felisa', 'fergie', 'fey', 'filipa', 'finnegan', 'finola', 'fizza', 'floridalma', 'folasade', 'foreign', 'franca', 'francoise', 'franklynn', 'franny', 'frederica', 'freyia', 'furtu', 'fynnlee', 'gabriana', 'gabriele', 'ganna', 'gatlynn', 'gavi', 'gefen', 'gelina', 'gella', 'gena', 'genaya', 'genelle', 'geneve', 'genora', 'genuine', 'georgetta', 'gertie', 'ghianna', 'giannamarie', 'giannarose', 'gili', 'giliana', 'giordana', 'gitel', 'glorianne', 'graceigh', 'graciana', 'graesyn', 'grettell', 'guillermina', 'guliana', 'gwendolynne', 'gwenn', 'gwenyvere', 'gwyn', 'gwyndolin', 'gypsie', 'haby', 'hadasha', 'hadyn', 'haezel', 'haile', 'haili', 'haizyl', 'hajara', 'halcyon', 'haleemah', 'hallel', 'hamida', 'hanadi', 'hanaya', 'haniah', 'hannalee', 'hannelore', 'harleyrose', 'harly', 'harmone', 'harriette', 'harvee', 'hasenat', 'hasha', 'hasina', 'hasleigh', 'hassatou', 'hava', 'hawkins', 'hayaa', 'haydenn', 'hayeslee', 'haygen', 'hazle', 'heartlynn', 'hefziba', 'heide', 'heizel', 'helaine', 'helayna', 'hella', 'hemi', 'henri', 'heyab', 'heydy', 'heysel', 'hibah', 'hibo', 'hiley', 'hinza', 'hiyabel', 'hollan', 'honestie', 'honoka', 'houda', 'hudsen', 'humairah', 'hyatt', 'ibiza', 'ichika', 'icylinn', 'idamae', 'idris', 'ifra', 'ifza', 'ihana', 'ikhlaas', 'ilaiah', 'ilamae', 'ilaya', 'ilayna', 'ilee', 'ilinca', 'ilyena', 'imunique', 'inanna', 'indyah', 'inge', 'iniko', 'innaya', 'iolana', 'ionna', 'irah', 'irais', 'irelynd', 'irielle', 'irini', 'irish', 'iryss', 'isabellagrace', 'isadore', 'isamara', 'isayana', 'ishaanvi', 'ishimwe', 'ishvi', 'isioma', 'iskra', 'islabelle', 'islagrace', 'isleigh', 'isma', 'issabela', 'isys', 'itzcali', 'itzell', 'itzy', 'ivadell', 'ivalee', 'iveel', 'ivonna', 'ivvy', 'ivygrace', 'ivyona', 'ixora', 'iyannah', 'iyanni', 'iyland', 'jabrea', 'jacari', 'jacilyn', 'jadeyn', 'jaedynn', 'jaelin', 'jaella', 'jaelynne', 'jaemarie', 'jaesha', 'jahkai', 'jahleah', 'jahna', 'jahzarah', 'jaici', 'jaidee', 'jaiel', 'jailine', 'jailoni', 'jaimarie', 'jaira', 'jakhyla', 'jakya', 'jakyia', 'jalaylah', 'jaliana', 'jalie', 'jalyla', 'jamesia', 'jamilex', 'jamilia', 'jamillah', 'jamina', 'jamyrah', 'jan', 'jandy', 'janett', 'janeya', 'janeyah', 'japleen', 'japneet', 'jaraya', 'jareli', 'jarelis', 'jareth', 'jaria', 'jaselynn', 'jasmeen', 'jatziry', 'javannah', 'javiah', 'javonna', 'jaylaa', 'jaylahni', 'jaylan', 'jaylarose', 'jaylenn', 'jaylenne', 'jaylianis', 'jaylianiz', 'jaylianni', 'jayliene', 'jaylise', 'jaylnn', 'jaylonni', 'jazani', 'jazayla', 'jazbel', 'jazmarie', 'jazzmin', 'jazzmyne', 'jeannine', 'jeilianys', 'jelianny', 'jelianys', 'jelilah', 'jem', 'jenalyn', 'jenan', 'jenasys', 'jency', 'jendaya', 'jenee', 'jenell', 'jeni', 'jenice', 'jenisis', 'jennalee', 'jennavie', 'jentrie', 'jeri', 'jerika', 'jerilyn', 'jermanii', 'jerney', 'jerzy', 'jess', 'jessilyn', 'jette', 'jeweliana', 'jezabelle', 'jezlyn', 'jhalani', 'jhana', 'jhavia', 'jhenai', 'jhett', 'jhoanna', 'jhoselyn', 'jiannah', 'jihanna', 'jimi', 'jina', 'jireth', 'jiyanna', 'joali', 'joani', 'joanny', 'jocee', 'jocelynne', 'joclyn', 'joee', 'joelis', 'joellen', 'joelynn', 'johnae', 'johnnae', 'joleah', 'joliee', 'joliene', 'joliette', 'joliyah', 'jonathan', 'jonesy', 'jordann', 'jordanna', 'josely', 'josieann', 'joslynne', 'jovianna', 'jovy', 'joylynn', 'jozee', 'jozy', 'juany', 'juda', 'judia', 'jula', 'julena', 'julez', 'julianie', 'juliannah', 'juliauna', 'julieanne', 'julitza', 'julyanna', 'jwana', 'jya', 'kaashi', 'kaashvi', 'kabria', 'kadidia', 'kadidja', 'kadri', 'kae', 'kaezlee', 'kahleah', 'kahlei', 'kahliah', 'kaicey', 'kaijah', 'kailahni', 'kailanie', 'kailene', 'kailo', 'kaiona', 'kaisly', 'kaisy', 'kaiyani', 'kaiyomi', 'kalai', 'kalan', 'kalayiah', 'kaleea', 'kaleese', 'kaleiyah', 'kalese', 'kalice', 'kalini', 'kalirose', 'kaliyan', 'kaliyana', 'kalonie', 'kalonii', 'kalylah', 'kamalani', 'kamaree', 'kambryn', 'kamdynn', 'kamili', 'kammi', 'kamonie', 'kampbell', 'kamy', 'kamylla', 'kandice', 'kare', 'kariel', 'karimah', 'karine', 'karmel', 'karmine', 'karmoni', 'karolyne', 'kartyr', 'karys', 'kasani', 'kashindi', 'kasiya', 'kassadi', 'kataliya', 'katalynna', 'katarzyna', 'katelina', 'kathrin', 'katilaya', 'katriana', 'kavia', 'kayanni', 'kaycen', 'kayler', 'kaylonni', 'kayna', 'kayona', 'kayonni', 'kayton', 'kazariah', 'kazlynn', 'keaira', 'kealia', 'kearra', 'keelynn', 'keera', 'kehinde', 'kehloni', 'keiarra', 'keilanii', 'keilanys', 'keiley', 'keilianys', 'keiloni', 'keimoni', 'keimy', 'keiona', 'keirra', 'keiryn', 'kelany', 'kelcey', 'kelcy', 'keli', 'keliah', 'keliana', 'kelin', 'kellee', 'kelleigh', 'kellin', 'kelsei', 'keltie', 'kelynn', 'kemara', 'kemiah', 'kemya', 'kenai', 'kendaya', 'kendrie', 'kenedee', 'kenedy', 'keni', 'keniah', 'kenidi', 'kensey', 'kenyatta', 'kenzia', 'keora', 'kerstin', 'kessa', 'kessiah', 'kesslyn', 'keydi', 'keylanni', 'keyloni', 'khadijatou', 'khaila', 'khailee', 'khalesi', 'khaleya', 'khalil', 'khamille', 'khaniyah', 'khaya', 'khaylee', 'khayra', 'khelanie', 'khleo', 'khloi', 'khylynn', 'khyrah', 'kian', 'kiaraliz', 'kiarri', 'kiarybel', 'kierston', 'kieryn', 'kilayah', 'kiloni', 'kimmie', 'kimori', 'kimya', 'kindall', 'king', 'kinnsley', 'kinslea', 'kinzly', 'kiore', 'kirana', 'kismet', 'kiswa', 'kitara', 'kitra', 'kizzie', 'klahni', 'kloee', 'kmiyah', 'kmoni', 'kmya', 'knylah', 'kobee', 'koemi', 'kohinoor', 'kollier', 'kolsyn', 'kolynns', 'konley', 'koralie', 'korrine', 'kourage', 'kourtnei', 'kridha', 'krishvi', 'krisley', 'krissia', 'krissy', 'kristlyn', 'kritika', 'kriva', 'kriya', 'krysten', 'kshetra', 'kueen', 'kulani', 'kwyn', 'kyanne', 'kyera', 'kylaya', 'kylene', 'kylise', 'kyndle', 'kyniah', 'kynlei', 'kynnlee', 'kyriah', 'kyrianna', 'labella', 'laceigh', 'ladonna', 'laeloni', 'lahela', 'lahlani', 'laikin', 'lailanni', 'lailee', 'lailonie', 'laira', 'laiyla', 'laiza', 'lajoy', 'lakeisha', 'lakira', 'lakshya', 'lalah', 'laliyah', 'laloni', 'lalonnie', 'lam', 'lamiracle', 'lamoura', 'lanasia', 'landreigh', 'lanee', 'lanita', 'lanyah', 'lanyia', 'laraia', 'larayne', 'lareine', 'larena', 'larson', 'larya', 'laryah', 'lasiyah', 'latisha', 'lauralai', 'laurali', 'laurelai', 'laurence', 'lauri', 'lavana', 'lavonna', 'lawanda', 'lawton', 'layiah', 'laylamae', 'layleen', 'lazaria', 'leahny', 'leandria', 'leeland', 'leella', 'leelynn', 'leeona', 'leeonna', 'legna', 'lehla', 'leihlani', 'leiko', 'leilamae', 'leilanys', 'leili', 'leilianys', 'leiluna', 'leiyani', 'leiyanna', 'lekha', 'lemmie', 'lenea', 'leonella', 'leonia', 'leriyah', 'lesedi', 'letitia', 'letta', 'leva', 'levia', 'lexee', 'leyan', 'leylanni', 'leyu', 'lezly', 'liahna', 'lialah', 'liamani', 'lianis', 'liddy', 'lilamae', 'lilani', 'lilarose', 'lillionna', 'lillynn', 'lillyona', 'lilyah', 'linah', 'linet', 'lineth', 'linna', 'linsy', 'lisabella', 'lisaira', 'lissy', 'litzi', 'lizet', 'lizzet', 'loelle', 'loey', 'londan', 'lorea', 'lorenna', 'loreta', 'lorien', 'lorissa', 'lorren', 'lorryn', 'louana', 'louann', 'louisiana', 'louiza', 'lovanna', 'loveleen', 'loveli', 'lovelle', 'lovisa', 'lowell', 'loyaltii', 'luah', 'lucas', 'lucey', 'lucymae', 'lujane', 'lulana', 'lulia', 'lumin', 'luwam', 'luxlee', 'lyan', 'lydianna', 'lyfe', 'lylian', 'lylianna', 'lyniah', 'lynneah', 'lynzie', 'lyudmila', 'lyz', 'maali', 'maame', 'macari', 'mackenley', 'mackensie', 'madany', 'maday', 'maddisen', 'madeeha', 'madilyne', 'maebh', 'maebri', 'maeci', 'maelanie', 'maelea', 'maev', 'maevelyn', 'maeverly', 'magdaline', 'maggy', 'maguette', 'mahagony', 'mahalakshmi', 'mahaley', 'mahani', 'mahdia', 'mahek', 'mahiya', 'mahla', 'mahoganie', 'mahri', 'mahrukh', 'maicie', 'maicyn', 'maiella', 'mais', 'maisel', 'maiven', 'maizelynn', 'majestii', 'major', 'makalynn', 'makensley', 'makilah', 'makyia', 'malajah', 'malakai', 'malany', 'maleeya', 'malila', 'malini', 'malkah', 'malloree', 'malyiah', 'malynda', 'mama', 'manasa', 'manisa', 'marajade', 'maravilla', 'marcelline', 'marcelyn', 'mariaemilia', 'mariahna', 'marialucia', 'mariangela', 'mariannah', 'mariarose', 'mariasofia', 'mariavalentina', 'marielis', 'mariem', 'marilou', 'mariluna', 'mariona', 'maritta', 'marleaux', 'marleyrae', 'marliee', 'marlys', 'marnita', 'marra', 'marrah', 'marriah', 'marshall', 'marty', 'maryhelen', 'marziya', 'masey', 'maui', 'mava', 'maveri', 'maveryk', 'maxlynn', 'maye', 'maysoon', 'mayura', 'mazarine', 'mazilyn', 'mazlyn', 'mckaylee', 'mclane', 'mealla', 'mechelle', 'meerab', 'mehza', 'meiko', 'melana', 'melanii', 'melodygrace', 'melondy', 'mely', 'melynda', 'menorah', 'merab', 'meral', 'meredy', 'merelyn', 'meritt', 'merveille', 'miaa', 'miamore', 'miarie', 'micheala', 'michiko', 'midna', 'miheeka', 'mihrimah', 'mikeila', 'mikyah', 'milaan', 'milaia', 'milaina', 'milanny', 'milca', 'mileydy', 'mille', 'millieann', 'milliemae', 'minori', 'miori', 'miran', 'mirely', 'miria', 'misgana', 'mishal', 'mishelle', 'mkayla', 'mmasinachi', 'moani', 'moli', 'momoka', 'monalisa', 'monarch', 'moni', 'monnie', 'monte', 'morghan', 'mori', 'mulki', 'muqadas', 'murphee', 'murphey', 'muska', 'muskaan', 'muzna', 'myalynn', 'myayla', 'mylayah', 'mylinh', 'myoni', 'myrakle', 'myrcella', 'myricle', 'mystique', 'naarah', 'nabeeha', 'nadalie', 'nadar', 'nadege', 'nadiah', 'nadra', 'naeema', 'nagi', 'nagisa', 'nahbi', 'nahdia', 'nahya', 'nakaya', 'nakoma', 'nalany', 'nalu', 'naly', 'nalyah', 'namiya', 'nanayaa', 'nao', 'naomirose', 'naphtali', 'naraly', 'naraya', 'narin', 'narina', 'nasai', 'naseem', 'nasteho', 'nataliyah', 'natanya', 'nation', 'natividad', 'natoria', 'natsumi', 'natti', 'navada', 'navae', 'nayda', 'naydeline', 'nayelii', 'nayture', 'nazeli', 'nazia', 'nazifa', 'nazira', 'nazneen', 'ndia', 'neaveh', 'neelam', 'neeley', 'neima', 'nel', 'neleh', 'neliah', 'nema', 'neo', 'neola', 'neriya', 'nery', 'nesryn', 'netra', 'nevelyn', 'neziah', 'ngan', 'nhyla', 'nialani', 'niamani', 'niamyah', 'nickole', 'nielle', 'nieve', 'nihana', 'nikol', 'nikoleta', 'nikolette', 'nior', 'niori', 'nirali', 'nirobi', 'nishitha', 'nisreen', 'nita', 'nitsa', 'niv', 'nivia', 'niviah', 'nivika', 'niyathi', 'nolvia', 'nooreh', 'noorulain', 'noria', 'normajean', 'nory', 'nourah', 'novalynne', 'noveah', 'nubian', 'nuna', 'nureen', 'nyarii', 'nyasha', 'nyava', 'nylai', 'nylan', 'nyle', 'nylie', 'nylin', 'nyliyah', 'nymira', 'nyveah', 'oakliegh', 'oliviarae', 'olly', 'oluwasemilore', 'oluwatobi', 'olyve', 'omiyah', 'omolara', 'omri', 'oniyah', 'onyxx', 'oren', 'ororo', 'osa', 'osmary', 'ottavia', 'oysha', 'oyuki', 'ozzlynn', 'paisleyann', 'paisleyrae', 'paisly', 'paiyton', 'paizlie', 'paizlynn', 'panagiota', 'pantera', 'parneet', 'pavneet', 'payge', 'paysen', 'pearly', 'pema', 'penellope', 'penni', 'pennylane', 'percy', 'perlita', 'perola', 'persephonie', 'pesha', 'peyson', 'phaith', 'phillipa', 'phiona', 'pocahontas', 'power', 'pragnya', 'praisely', 'pretty', 'priti', 'pryce', 'quiana', 'quinleigh', 'quinnleigh', 'quynh', 'qwynn', 'rabiya', 'radia', 'radiyah', 'radley', 'raeah', 'raeanne', 'raeden', 'raeliana', 'raelinn', 'raenah', 'raeyna', 'rahel', 'rahmiya', 'raissa', 'raivyn', 'raja', 'rajvi', 'ramaya', 'rami', 'ramsay', 'randa', 'ranesmae', 'ranyah', 'rasheeda', 'rashmika', 'ravin', 'raychel', 'rayea', 'rayelyn', 'rayen', 'raylah', 'raylei', 'razaan', 'raziel', 'reann', 'rediet', 'ree', 'rehat', 'reileen', 'remedios', 'renas', 'reniyah', 'renni', 'reveille', 'revelyn', 'revie', 'rewa', 'rexley', 'rexlynn', 'reyanna', 'reyanne', 'reylin', 'reynah', 'reyne', 'reynolds', 'reyva', 'rhaelyn', 'rhapsody', 'rhealee', 'rheanna', 'rhettley', 'rhettlyn', 'rhiyan', 'rhyanna', 'rhye', 'riane', 'ricci', 'richlynn', 'riel', 'riggin', 'rihan', 'riko', 'rilan', 'rilley', 'rimna', 'rissy', 'rithika', 'ritika', 'ritvi', 'riyaan', 'roa', 'roaa', 'roary', 'rocket', 'rocklyn', 'rocklynn', 'rohanna', 'romaisa', 'romana', 'romely', 'romilly', 'rona', 'ronia', 'ronja', 'rosaley', 'rosaluna', 'rosalyne', 'rosamae', 'rosealie', 'rosebella', 'rosebelle', 'roseleen', 'rosibel', 'roxane', 'roxette', 'royalle', 'royse', 'rozay', 'rozie', 'rozina', 'rozlin', 'rua', 'rubiana', 'rubye', 'ruelle', 'rukaiya', 'rukaya', 'rumaysah', 'rus', 'ruthlynn', 'ruweyda', 'ruya', 'rydia', 'ryilee', 'saanchi', 'sabali', 'sabeen', 'sabirah', 'sabrena', 'sabriya', 'sachiko', 'sadira', 'sadler', 'sadora', 'sady', 'saeeda', 'saela', 'safi', 'safura', 'sahani', 'sahla', 'saidy', 'sailee', 'sajda', 'sajida', 'sakiya', 'salara', 'salea', 'saleigha', 'saliah', 'salimah', 'saminah', 'samrudhi', 'samuela', 'sanaaya', 'sanii', 'sanisha', 'sanovia', 'santa', 'santi', 'santiago', 'saphina', 'sarabella', 'saraii', 'saralynn', 'sarann', 'sareya', 'sariel', 'saryn', 'saudi', 'savani', 'saveya', 'savia', 'saviona', 'sayat', 'saydie', 'saylee', 'scotlynd', 'sefina', 'selayah', 'seleen', 'selenia', 'selenie', 'seleny', 'selihom', 'sema', 'semiya', 'semma', 'senaya', 'seniah', 'senua', 'sephira', 'sequoyah', 'serai', 'seras', 'serein', 'serine', 'severine', 'seveyn', 'shadia', 'shaia', 'shaianne', 'shaivi', 'shalaya', 'shalia', 'shalva', 'shamiya', 'shanae', 'shannell', 'shanvika', 'sharanya', 'shari', 'sharol', 'sharona', 'shatha', 'shawn', 'shaylan', 'shayley', 'shealyn', 'shelsea', 'shiah', 'shiann', 'shirin', 'shivi', 'shivika', 'shiyah', 'shona', 'shreshta', 'shrina', 'shrisha', 'shritha', 'shruti', 'shyleigh', 'siari', 'sibel', 'sibi', 'sibylla', 'siennarose', 'sierrah', 'sif', 'sifan', 'sihana', 'sika', 'silya', 'simara', 'simmons', 'simonne', 'simrah', 'sims', 'sindel', 'sirenna', 'sirine', 'siriyah', 'sisley', 'sistine', 'sitra', 'skaii', 'skailar', 'skailyn', 'ski', 'skilynn', 'skyah', 'skyee', 'skylarrose', 'skylene', 'skylynne', 'skyye', 'sofina', 'sojourner', 'solaria', 'solis', 'soma', 'sondos', 'soniya', 'sophina', 'sophonie', 'sovanna', 'starlett', 'stasia', 'steffany', 'stellah', 'stellamarie', 'stellan', 'stephenie', 'stevee', 'sthefany', 'stonie', 'storri', 'stuti', 'sue', 'suna', 'sunem', 'sunisa', 'surie', 'susej', 'sussy', 'suzan', 'suzi', 'swayzi', 'sya', 'syanni', 'syara', 'sylphrena', 'sylver', 'symphanie', 'sypha', 'syrinity', 'taeleigh', 'tahiya', 'tahlani', 'tahleea', 'tahliah', 'tahliyah', 'taibah', 'tailor', 'taja', 'takara', 'takoda', 'takyla', 'talah', 'talaiyah', 'talei', 'taleia', 'tamarah', 'tamarie', 'tamika', 'tamyah', 'tamzin', 'tani', 'tanis', 'tanishi', 'tannah', 'tarah', 'tarini', 'tasnia', 'taviana', 'tawny', 'taygan', 'tayzlee', 'teagann', 'teghan', 'tesneem', 'thaila', 'thayla', 'thisbe', 'thomas', 'thyra', 'thyrie', 'thyrii', 'tien', 'tiferet', 'tiffani', 'tinslie', 'tinzley', 'tiona', 'tira', 'tisa', 'titan', 'toriana', 'torianna', 'torii', 'trelynn', 'tresor', 'treya', 'trhue', 'trianna', 'tricia', 'tuana', 'tyani', 'tyanne', 'tylei', 'tylia', 'tymia', 'tynsleigh', 'tynsley', 'tyrah', 'tyson', 'tytiana', 'tzivy', 'ummehani', 'vaelyn', 'valena', 'valentyna', 'valeriya', 'valli', 'valora', 'valynn', 'vanille', 'veeha', 'velen', 'venelope', 'veralyn', 'verily', 'verra', 'veta', 'veyah', 'vignette', 'vila', 'vinaya', 'vinisha', 'vismaya', 'vivan', 'vivianah', 'viviani', 'vonna', 'vriha', 'vrinda', 'wade', 'wafaa', 'walaa', 'wanita', 'wenona', 'willarae', 'wilmarie', 'winley', 'winnona', 'winta', 'witney', 'woodlyn', 'wrinley', 'wudase', 'wyn', 'wynlee', 'wynnona', 'wynslow', 'xailee', 'xamara', 'xeniyah', 'xenova', 'xiclaly', 'xila', 'xion', 'xochiquetzal', 'xylina', 'yachy', 'yacine', 'yaelle', 'yahvi', 'yaitza', 'yakout', 'yaletzi', 'yalexi', 'yanessa', 'yania', 'yarel', 'yareliz', 'yaremi', 'yarexi', 'yarleth', 'yasaira', 'yashfa', 'yaslynn', 'yasmyn', 'yeab', 'yelani', 'yerelin', 'yexalen', 'yian', 'yianna', 'yilin', 'yiselle', 'ymir', 'yoko', 'yoli', 'yorleny', 'yoseline', 'yoshi', 'yule', 'yuleidy', 'yuleisy', 'yuliet', 'yunalesca', 'yunique', 'yureli', 'yurianna', 'yuritza', 'yuvia', 'yva', 'yvana', 'zabelle', 'zae', 'zaeda', 'zaelah', 'zahlani', 'zahlee', 'zai', 'zaidie', 'zakhari', 'zakira', 'zakora', 'zakyah', 'zakyia', 'zakyiah', 'zakylah', 'zakyra', 'zalaiya', 'zalaysia', 'zaleiah', 'zaleigha', 'zaleiya', 'zali', 'zaliah', 'zalilah', 'zamantha', 'zamilah', 'zamyrah', 'zanique', 'zaray', 'zariella', 'zarish', 'zavayah', 'zayden', 'zaylianna', 'zazil', 'zealynn', 'zeila', 'zeilani', 'zeineth', 'zelle', 'zelyna', 'zenniah', 'zevaeh', 'zeveah', 'zhaniya', 'zhenya', 'zhiya', 'zhoe', 'ziaire', 'ziani', 'zielle', 'zimri', 'zior', 'zitlaly', 'ziyla', 'zlaty', 'zoejane', 'zohe', 'zoiee', 'zolah', 'zorey', 'zoyah', 'zriyah', 'zsazsa', 'zubaida', 'zuhal', 'zuleidy', 'zuna', 'zura', 'zuriya', 'zurri', 'zuzana', 'zyani', 'zyliyah', 'zylynn', 'zynovia', 'zyona', 'zyri', 'zyrihanna']\n"
     ]
    }
   ],
   "source": [
    "least_common_name_value = 20272\n",
    "least_common_boy_names = []\n",
    "least_common_girl_names = []\n",
    "\n",
    "for everyname in boys.keys():\n",
    "    if boys[everyname] < least_common_name_value:\n",
    "        least_common_name_value = boys[everyname]\n",
    "        least_common_boy_names = [everyname]\n",
    "    elif boys[everyname] == least_common_name_value:\n",
    "        least_common_boy_names.append(everyname)\n",
    "   \n",
    "print(least_common_boy_names)\n",
    "    \n",
    "for everyname in girls.keys() : \n",
    "    if girls[everyname] < least_common_name_value:\n",
    "        least_common_name_value = girls[everyname]\n",
    "        least_common_girl_names = [everyname]\n",
    "    elif girls[everyname] == least_common_name_value:\n",
    "        least_common_girl_names.append(everyname)\n",
    "        \n",
    "print(least_common_girl_names)\n",
    "\n"
   ]
  },
  {
   "cell_type": "code",
   "execution_count": 64,
   "id": "e1260ad2",
   "metadata": {},
   "outputs": [
    {
     "name": "stdout",
     "output_type": "stream",
     "text": [
      "['aadith', 'aaidyn', 'aaliyan', 'aang', 'aansh', 'aaqil', 'aaravreddy', 'aaryash', 'aashay', 'aavi', 'ab', 'abdihafid', 'abdulai', 'abdulkabir', 'abdulsalam', 'abdurahmon', 'absalom', 'abshir', 'abubacarr', 'acetyn', 'acey', 'acheron', 'achim', 'acie', 'action', 'adaiah', 'addler', 'adewale', 'adis', 'adisa', 'adith', 'adlan', 'adorian', 'adream', 'adrienne', 'adris', 'adron', 'aegan', 'aelius', 'aeros', 'aerys', 'aesop', 'agamjot', 'ahiyan', 'ahkai', 'ahlee', 'ahlijah', 'ahman', 'ahmi', 'ahsaan', 'ahsai', 'ahsaun', 'aidynn', 'aikam', 'aireon', 'aires', 'airis', 'airo', 'aison', 'aisyn', 'ajeet', 'ajith', 'akachukwu', 'akito', 'alaki', 'alameen', 'alante', 'alastar', 'alayan', 'albara', 'albino', 'alby', 'aldahir', 'aldwin', 'alecxander', 'alef', 'aleix', 'aleksy', 'alessander', 'alessandre', 'alexxander', 'alexys', 'aliano', 'alii', 'alikhan', 'alin', 'aliyus', 'allijah', 'allistor', 'alohi', 'alva', 'alvy', 'alyx', 'alyxander', 'amai', 'amaius', 'amaje', 'amarious', 'amarri', 'amaurys', 'amedeo', 'ameri', 'amillyon', 'amirkhan', 'amisi', 'amnon', 'amondre', 'amunra', 'amzi', 'anaken', 'anania', 'ananth', 'anar', 'andersson', 'andreaz', 'andri', 'angelgabriel', 'angell', 'aniket', 'aniv', 'anmay', 'anri', 'anselm', 'anthym', 'antonie', 'antonin', 'antonious', 'antron', 'anuj', 'apolinar', 'aprameya', 'aqil', 'aquil', 'araoluwa', 'araya', 'arben', 'archangel', 'ardarius', 'ardell', 'ardin', 'areon', 'arez', 'arhansh', 'arib', 'arick', 'arieh', 'arinzechukwu', 'aristides', 'arkady', 'arkeem', 'arlee', 'arlind', 'armarion', 'armez', 'armondo', 'armone', 'armonte', 'armour', 'arnie', 'arnik', 'arrington', 'arsal', 'arsalaan', 'arseniy', 'arshia', 'arther', 'arwyn', 'aryion', 'ashai', 'ashaun', 'ashdon', 'ashdyn', 'ashlan', 'asten', 'asyn', 'atal', 'atem', 'aten', 'atli', 'atreya', 'audyn', 'augden', 'aulden', 'auley', 'aung', 'autzen', 'avetis', 'aviraaj', 'aviyan', 'avonni', 'avontae', 'avraj', 'avran', 'avriel', 'avyanreddy', 'axal', 'axe', 'axen', 'axley', 'axson', 'ayaad', 'ayker', 'aylen', 'ayris', 'aysah', 'aysin', 'aythan', 'ayvin', 'ayyash', 'ayzen', 'azam', 'azarius', 'azian', 'azraq', 'azyon', 'ba', 'baelor', 'bahran', 'bakr', 'bari', 'barima', 'barlas', 'baroke', 'barton', 'bashton', 'basile', 'bassel', 'baxton', 'bay', 'bayan', 'bayani', 'bearon', 'becks', 'behren', 'bekham', 'bellamie', 'benas', 'benecio', 'benelli', 'benet', 'benigno', 'benjiro', 'benjy', 'benni', 'bennington', 'bensyn', 'bereket', 'berish', 'berlyn', 'bernardino', 'bezaleel', 'bharath', 'biagio', 'binh', 'bivan', 'bladyn', 'blakelee', 'blessin', 'blessyn', 'blin', 'bodhin', 'bodhisattva', 'boen', 'boomer', 'bowdy', 'braddock', 'bradon', 'brahim', 'brahms', 'brandtley', 'brannan', 'brasen', 'bravyn', 'braylnn', 'brayten', 'breckan', 'brelan', 'brenston', 'breylon', 'breyton', 'briant', 'brien', 'brigido', 'brilyn', 'brinley', 'briton', 'brixtin', 'bronn', 'bronsyn', 'brooklynn', 'brylee', 'brynn', 'bud', 'bulmaro', 'butch', 'byran', 'cahari', 'caide', 'cainaan', 'caique', 'callie', 'callister', 'calob', 'calvert', 'camaron', 'campion', 'canek', 'cantrell', 'cardin', 'carmichael', 'carti', 'carvell', 'cashe', 'casher', 'cashtian', 'caspien', 'cassell', 'castyn', 'cavon', 'cayce', 'cayd', 'ceaser', 'ceon', 'chambers', 'chan', 'chancey', 'chanson', 'chanston', 'charan', 'charli', 'cheo', 'cherno', 'chetan', 'chidiebube', 'chiemeka', 'christapher', 'christopherjohn', 'chuck', 'claire', 'clayden', 'clayten', 'clemens', 'clever', 'coalson', 'coburn', 'cochise', 'colbi', 'colorado', 'colstyn', 'colwyn', 'colyn', 'conal', 'conri', 'corby', 'cordale', 'cordarius', 'cordaro', 'cordelle', 'cornel', 'corran', 'correy', 'cortavious', 'corwyn', 'cosmas', 'costello', 'costner', 'coyer', 'crayton', 'creedance', 'creeden', 'creedyn', 'crescencio', 'criss', 'crystian', 'cub', 'cyress', 'dade', 'dae', 'daelan', 'daemyn', 'daequan', 'daeson', 'dagmawi', 'dagon', 'daimir', 'daion', 'daivyon', 'dakaiden', 'dakaree', 'dakauri', 'daking', 'dalan', 'dali', 'dallyn', 'dalson', 'dalynn', 'damacio', 'daman', 'damarie', 'damarii', 'damaris', 'damarri', 'damin', 'damire', 'damonie', 'dangel', 'danger', 'daquon', 'darinel', 'dariush', 'darlin', 'darran', 'darreon', 'darriel', 'daschel', 'dashan', 'davell', 'davidjames', 'dawid', 'dawone', 'daymir', 'deandrea', 'dearius', 'decarlo', 'dedric', 'deeric', 'deiby', 'deior', 'deivi', 'deker', 'delan', 'delorean', 'delsin', 'delta', 'deluka', 'demarko', 'demeco', 'demier', 'demire', 'demon', 'denham', 'denico', 'denise', 'deonis', 'deriq', 'derius', 'dermot', 'derrik', 'derron', 'desai', 'destan', 'destined', 'deundre', 'devanta', 'devell', 'deveraux', 'devere', 'devesh', 'dextin', 'deylin', 'deyner', 'dezman', 'dezmin', 'dhaksh', 'dhani', 'dhario', 'dharius', 'dhev', 'dhilan', 'dia', 'dilam', 'dillen', 'dillian', 'dimarco', 'din', 'diquan', 'divan', 'divin', 'django', 'dmere', 'dmonte', 'dmytro', 'domiano', 'dominicus', 'dominiq', 'donaciano', 'donal', 'donaven', 'donavyn', 'donovin', 'donzell', 'doran', 'draelyn', 'dray', 'draycen', 'dredan', 'dreylan', 'dreyven', 'driss', 'dwaine', 'dyer', 'dyon', 'dyron', 'eaden', 'early', 'eashan', 'ebubechukwu', 'edilberto', 'edrei', 'edyn', 'eean', 'ehitan', 'ehren', 'ehsaan', 'eiji', 'eiker', 'ein', 'ekamjot', 'eknoor', 'ekrem', 'elbert', 'elby', 'eldrick', 'elean', 'eleanor', 'eleftherios', 'eliann', 'eliazer', 'elikem', 'eliodoro', 'elishua', 'elix', 'eliyjah', 'elizabeth', 'elizander', 'ellie', 'ellyott', 'elmin', 'elmore', 'elyot', 'elzie', 'emar', 'emeir', 'emeka', 'emerich', 'emeth', 'emiel', 'emit', 'emjay', 'emmerick', 'emri', 'enam', 'endi', 'endymion', 'enes', 'enio', 'enix', 'enok', 'eramis', 'erian', 'erish', 'ernst', 'ervey', 'esme', 'estefan', 'etzio', 'evangelo', 'evanjames', 'evelio', 'everen', 'ewing', 'eyas', 'eyoas', 'ezaias', 'ezer', 'ezikio', 'eziquiel', 'ezralee', 'ezriah', 'fabiano', 'facundo', 'farhaan', 'fate', 'faustin', 'felton', 'fenn', 'fenway', 'ferguson', 'filiberto', 'finlan', 'finton', 'fiyinfoluwa', 'flex', 'fortino', 'france', 'franciszek', 'fredd', 'freddrick', 'freyr', 'furious', 'furkan', 'furqan', 'gabin', 'gad', 'gadi', 'gahan', 'gahel', 'galaxy', 'gannicus', 'garfield', 'garin', 'garnet', 'garnett', 'gavril', 'genghis', 'genji', 'geordan', 'georg', 'gerber', 'gerrard', 'geva', 'giddeon', 'giovannii', 'giovonnie', 'givanni', 'givenchy', 'god', 'goshen', 'graesen', 'graves', 'grayland', 'graylin', 'graysonn', 'greighson', 'greylyn', 'grissom', 'grit', 'gurdit', 'gurjaap', 'gursanjh', 'haaland', 'haaris', 'hady', 'hael', 'hafiz', 'haisten', 'haize', 'haki', 'hakoda', 'hakon', 'halton', 'hamze', 'hannah', 'hao', 'haralambos', 'hardison', 'harith', 'harleigh', 'harveer', 'harvie', 'hastin', 'havik', 'hayan', 'haydyn', 'haywood', 'heaton', 'hebert', 'heiden', 'heinz', 'helaman', 'henzo', 'hesham', 'hezikiah', 'hiero', 'highland', 'hikaru', 'hiroki', 'hobson', 'hoku', 'holcomb', 'hollan', 'holloway', 'holmes', 'holsten', 'honour', 'hope', 'hossein', 'hotchner', 'houstyn', 'hudayfa', 'hudeyfa', 'husnain', 'hutchins', 'huttson', 'hyker', 'iago', 'iangael', 'ifeanyichukwu', 'ikena', 'ikram', 'ilkay', 'illyas', 'ilyan', 'imhotep', 'imronbek', 'inba', 'inez', 'infinite', 'inioluwa', 'iori', 'irish', 'isaia', 'isam', 'isaul', 'isaya', 'ishak', 'ishank', 'ishay', 'ishimwe', 'isra', 'isrrael', 'issachar', 'issael', 'issiah', 'ithiel', 'ivansh', 'ivarr', 'ivey', 'ivri', 'iyaad', 'iyah', 'iyanu', 'izeah', 'izell', 'izreal', 'izriel', 'izyaan', 'izzan', 'jaaire', 'jacaleb', 'jacek', 'jacian', 'jacier', 'jackob', 'jacobmatthew', 'jacobus', 'jacquan', 'jacson', 'jadarrius', 'jadel', 'jadir', 'jaecob', 'jafari', 'jahdai', 'jahkobe', 'jahmair', 'jahmal', 'jahn', 'jahon', 'jahsaan', 'jahsiel', 'jahsier', 'jahsire', 'jahzai', 'jahzi', 'jaicion', 'jaidev', 'jailon', 'jaior', 'jairen', 'jaishawn', 'jakahri', 'jakarie', 'jaki', 'jakin', 'jakorey', 'jaleo', 'jama', 'jamair', 'jamaul', 'jameison', 'jamesly', 'jancarlo', 'janlucas', 'janmichael', 'jann', 'jantzen', 'janziel', 'jaquavion', 'jaquavius', 'jaquay', 'jaquel', 'jaquin', 'jaqwan', 'jaraiya', 'jarol', 'jarrah', 'jarrin', 'jarron', 'jaryan', 'jasahn', 'jasi', 'jaspar', 'jassim', 'jasten', 'jastin', 'jataveon', 'javaree', 'javares', 'javid', 'javius', 'javonne', 'javonnie', 'jaxzen', 'jayari', 'jaycieon', 'jayde', 'jaydel', 'jayler', 'jayllen', 'jaymani', 'jaymeir', 'jaymian', 'jayvan', 'jayziah', 'jayzion', 'jazel', 'jazen', 'jazer', 'jeaven', 'jehan', 'jehkai', 'jenkins', 'jered', 'jerelle', 'jeremmy', 'jeresiah', 'jerison', 'jermarion', 'jermoni', 'jerrel', 'jerren', 'jessee', 'jessup', 'jetziel', 'jexiel', 'jeycob', 'jeydan', 'jeyder', 'jeylan', 'jhamil', 'jhan', 'jhared', 'jheico', 'jhoniel', 'jhordy', 'jiair', 'jigme', 'jiovany', 'jiovonni', 'jiyon', 'jkai', 'joahn', 'joaolucas', 'joaomiguel', 'joaopedro', 'jocari', 'joeseph', 'joevan', 'joham', 'johngabriel', 'johnmark', 'johnpatrick', 'johnrobert', 'johntavious', 'jontez', 'joram', 'jordyan', 'jorey', 'jorgen', 'josaan', 'josejulian', 'joseth', 'josie', 'journi', 'jovaughn', 'jovoni', 'joziyah', 'jp', 'jsean', 'juanantonio', 'juandedios', 'juanmateo', 'judaea', 'juelle', 'juels', 'jujhar', 'juliam', 'junah', 'juni', 'junius', 'jusuf', 'jwan', 'jyrie', 'kable', 'kachiside', 'kadrick', 'kaegan', 'kaelem', 'kaen', 'kagen', 'kahawai', 'kahekili', 'kahleel', 'kaiir', 'kaileo', 'kaiman', 'kaimen', 'kaipo', 'kairie', 'kairin', 'kaise', 'kaisun', 'kaivalya', 'kaiyer', 'kaiyo', 'kalab', 'kalahan', 'kalder', 'kaleal', 'kalex', 'kalid', 'kalief', 'kallai', 'kalo', 'kalob', 'kaloyan', 'kalyan', 'kamarian', 'kamarri', 'kameo', 'kamere', 'kamp', 'kamrynn', 'kamyrn', 'kaon', 'karanveer', 'karbon', 'karcyn', 'kardell', 'karder', 'karel', 'kariem', 'karlin', 'karm', 'karman', 'karo', 'karriem', 'kasaan', 'kasein', 'kashh', 'kashi', 'kashtynn', 'kasian', 'kass', 'kastle', 'kastor', 'kastyn', 'kauan', 'kavani', 'kaveion', 'kavell', 'kaycion', 'kaydn', 'kayeson', 'kayleon', 'kaylib', 'kaylum', 'kayron', 'kaysten', 'kayto', 'kazarion', 'kazier', 'kazu', 'kazuki', 'keari', 'keating', 'keatyn', 'keaundre', 'kedar', 'kedon', 'kedric', 'keenai', 'keeper', 'keevin', 'keiji', 'keiondre', 'keiontae', 'keithan', 'kekai', 'keland', 'keldrick', 'keliel', 'kelin', 'kell', 'kelon', 'kemon', 'kemp', 'kenaz', 'kendarrius', 'kendrew', 'kendriel', 'kendryk', 'keneil', 'keneth', 'kenjiro', 'kenlin', 'kenndrick', 'kennett', 'kentley', 'kenzell', 'kesiah', 'kestrel', 'ketch', 'kethan', 'kevari', 'keveon', 'keyner', 'keyoni', 'khace', 'khailan', 'khailand', 'khaizen', 'khaleil', 'khaliel', 'khalifah', 'khalique', 'khance', 'khash', 'khaz', 'khazir', 'khiro', 'khizr', 'khobe', 'khol', 'khole', 'khymere', 'khyon', 'khyza', 'kiba', 'kidd', 'kiliam', 'kilyan', 'kingelijah', 'kiram', 'kirolos', 'kivaan', 'kix', 'kiylen', 'kiyo', 'knightlee', 'kniko', 'koal', 'koba', 'koh', 'koleton', 'kollyn', 'kolsten', 'kope', 'kopelin', 'kopper', 'kordai', 'koulson', 'kourosh', 'kourtney', 'kova', 'kovu', 'kovyn', 'kraven', 'kreece', 'kreedyn', 'kreston', 'kriday', 'kristof', 'kriston', 'kron', 'kruize', 'krzysztof', 'kuiper', 'kuma', 'kunal', 'kurrency', 'kutler', 'kwon', 'kyelan', 'kyelin', 'kyian', 'kyir', 'kyndal', 'kypton', 'kyrel', 'kyrii', 'kyzaire', 'laban', 'lacey', 'ladarian', 'ladarious', 'ladell', 'laeken', 'laike', 'laiku', 'laikyn', 'lakaiden', 'lakelyn', 'lakendrick', 'lakoda', 'lamon', 'lancelot', 'lang', 'lanny', 'laroy', 'latavious', 'lathaniel', 'latravion', 'laylon', 'layn', 'layson', 'laythan', 'leeandre', 'leeum', 'legacee', 'legacie', 'leiam', 'leighland', 'leilan', 'lelynd', 'lemarcus', 'lennard', 'lennart', 'lennie', 'lennin', 'lennoxx', 'leonas', 'leonell', 'leoni', 'leonis', 'leonte', 'leonzo', 'lerenzo', 'les', 'levai', 'levar', 'levelle', 'levent', 'levvy', 'levyn', 'lexiel', 'lexon', 'liamjohn', 'life', 'lindan', 'livan', 'lon', 'lonnell', 'lopaka', 'lorde', 'lorenc', 'loretto', 'louise', 'lowsan', 'loyall', 'luccah', 'ludwin', 'luismateo', 'luzer', 'lyanno', 'lyla', 'lynex', 'lynford', 'lynnex', 'lyrix', 'maajid', 'macallen', 'macauley', 'mackie', 'mackinnon', 'macklyn', 'madex', 'maestro', 'magilan', 'maguire', 'mahaad', 'mahaan', 'mahlik', 'mahmood', 'maiky', 'majer', 'majestic', 'majur', 'makaii', 'makario', 'makias', 'makoto', 'malahkai', 'maleik', 'maleko', 'malicah', 'malijah', 'malikhai', 'malvin', 'manaf', 'manfred', 'mani', 'mannie', 'manvith', 'marian', 'marianno', 'marking', 'markon', 'marlen', 'marquess', 'marqus', 'marsai', 'marsean', 'marshun', 'marvion', 'masego', 'mashal', 'mateyo', 'mathais', 'matheson', 'matija', 'matthaios', 'matthan', 'matviy', 'matyas', 'maurion', 'mavryck', 'maxden', 'maximiano', 'maximillan', 'maximum', 'maxin', 'maxximo', 'maxxton', 'mayar', 'mayce', 'maycen', 'mayco', 'maycon', 'maysn', 'mazion', 'mazzy', 'mcallister', 'mcclane', 'mccormick', 'mcgregor', 'meerab', 'mehmed', 'melech', 'melkin', 'melquisedec', 'mesac', 'mesias', 'messyah', 'michaelanthony', 'mihajlo', 'mihran', 'mikiah', 'mikiyas', 'milam', 'milani', 'millie', 'milyon', 'minkah', 'miranda', 'mitansh', 'mitsuki', 'mizan', 'mofeoluwa', 'mohab', 'mohamedamiin', 'momen', 'momodou', 'money', 'montague', 'montay', 'monterio', 'montrel', 'morpheus', 'mosha', 'mossimo', 'mounir', 'moyses', 'mozzi', 'muhammadhasan', 'muhammadibrahim', 'muhammadmusa', 'muhammadumar', 'mukhammad', 'mukhammadyusuf', 'munachi', 'muneeb', 'murry', 'muse', 'musiq', 'mustaf', 'myeir', 'myloh', 'naeco', 'nagee', 'nahiem', 'nahsir', 'nahun', 'najeeb', 'najm', 'naledge', 'namish', 'nandan', 'nando', 'naoki', 'nasri', 'nasyr', 'natsu', 'navarro', 'navion', 'navon', 'nazeem', 'nazhir', 'nechemya', 'neco', 'neegan', 'nefi', 'nehemiyah', 'neitan', 'nektarios', 'nello', 'neyo', 'nguyen', 'nhial', 'nial', 'nicho', 'nicholi', 'niel', 'nihir', 'nihith', 'nikkolas', 'nikolo', 'nimalan', 'nirmaan', 'nishant', 'nishiv', 'nitin', 'noar', 'nodin', 'noell', 'nohan', 'nolynn', 'norbu', 'nosiah', 'novell', 'noven', 'novian', 'noy', 'nuno', 'nyan', 'nyeir', 'nygel', 'nyir', 'nykeem', 'nykko', 'nykolas', 'nymire', 'nyne', 'nysaiah', 'nyzaire', 'nyzel', 'oba', 'obrian', 'obsa', 'ocie', 'odai', 'ohtli', 'olajide', 'olajuwon', 'olaoluwa', 'olee', 'olek', 'ollyver', 'olufemi', 'olumide', 'oluwadamilola', 'oluwadunsin', 'oluwaferanmi', 'omaet', 'oneal', 'orgil', 'orien', 'orland', 'orry', 'orvin', 'osean', 'oshawn', 'oshay', 'osher', 'oshyn', 'osinachi', 'osirus', 'oso', 'ossian', 'osyrus', 'oto', 'owens', 'ozais', 'ozil', 'pacer', 'paisley', 'patch', 'pavit', 'pavle', 'paxtin', 'paycen', 'paysen', 'paz', 'pearse', 'pele', 'peleg', 'perrion', 'peyson', 'pharoh', 'phillips', 'pieter', 'pilot', 'pinny', 'placido', 'pranil', 'prateek', 'pratt', 'prayaan', 'preacher', 'prentis', 'preslee', 'princeamir', 'purav', 'quang', 'quantavious', 'quantavius', 'quban', 'quentrell', 'quentyn', 'quincee', 'quintez', 'quirino', 'raaghav', 'raahim', 'rader', 'radnor', 'raelynn', 'raequan', 'rafan', 'raheel', 'rahmi', 'rahyl', 'raijin', 'raimundo', 'rainen', 'raji', 'rally', 'ramal', 'rambo', 'ramesh', 'ramos', 'range', 'rangel', 'ranon', 'ras', 'rashan', 'rasul', 'raunak', 'rawlin', 'rawling', 'rayed', 'raygen', 'raylynn', 'rayniel', 'raysen', 'rece', 'regino', 'regulo', 'regulus', 'reino', 'remmi', 'renegade', 'renick', 'renlee', 'rennie', 'renwick', 'renz', 'rephael', 'rett', 'reu', 'revv', 'rexx', 'reyanshreddy', 'reylin', 'reyon', 'reyson', 'rhavi', 'rhemi', 'rhenn', 'rhettlee', 'rhettly', 'rhip', 'rhoads', 'rhyden', 'richy', 'riko', 'riplee', 'rippley', 'rishith', 'ritter', 'riyu', 'roanin', 'roary', 'roby', 'rodin', 'rodman', 'rodrygo', 'rody', 'roey', 'rogen', 'rogers', 'rohman', 'rojelio', 'roko', 'rolin', 'rollie', 'rolyn', 'romaan', 'romare', 'romelle', 'romualdo', 'ronaldinho', 'ronix', 'rooster', 'rorey', 'rosco', 'rostam', 'rotimi', 'rowlyn', 'roycen', 'rudi', 'rudolf', 'rushank', 'russo', 'rutger', 'rykar', 'rymer', 'rymir', 'saaj', 'saam', 'saban', 'sabastion', 'sacred', 'sadie', 'sadiel', 'sadler', 'sadrac', 'saed', 'safal', 'saifuddin', 'saim', 'sairam', 'saiyon', 'sajjad', 'sajjan', 'saket', 'saladin', 'samaje', 'samatar', 'sambhav', 'samwell', 'samyak', 'samyog', 'san', 'sanai', 'sane', 'sango', 'sansar', 'saqr', 'sarang', 'sarfaraz', 'sargon', 'sarvin', 'saurabh', 'savar', 'savyon', 'sayden', 'sayid', 'sayveon', 'schneider', 'science', 'sebastijan', 'sehej', 'sencere', 'sensei', 'seraph', 'serigne', 'sevak', 'severide', 'seydina', 'seymour', 'seyven', 'shaakir', 'shabsi', 'shaddai', 'shaden', 'shadi', 'shahaan', 'shaheed', 'shahir', 'shameer', 'sharaf', 'sharmarke', 'shaydon', 'shaymus', 'shedrick', 'shenouda', 'sheperd', 'sher', 'sherif', 'sherron', 'shimmy', 'shreeyan', 'shu', 'shun', 'shye', 'shyheim', 'siaire', 'siddarth', 'sidy', 'silis', 'simonpeter', 'sinatra', 'sitiveni', 'sitka', 'siyan', 'skylin', 'slaton', 'slevin', 'slone', 'sohaib', 'solon', 'som', 'soni', 'spike', 'spiros', 'sreeyan', 'stanislaw', 'star', 'starling', 'steffon', 'stellar', 'steph', 'stori', 'summer', 'suryansh', 'sutten', 'swaraj', 'swift', 'sylvain', 'tacoma', 'tadeusz', 'taelen', 'taelin', 'taequan', 'tahlil', 'tahmeed', 'tahseen', 'taiki', 'taisei', 'taivon', 'tajay', 'takhi', 'talent', 'talik', 'talis', 'tam', 'tanav', 'tancredi', 'tanielu', 'tarrell', 'tashfin', 'tasir', 'tateum', 'tauheed', 'tavius', 'tavoris', 'tavyn', 'tawfiq', 'tay', 'taylyn', 'tayron', 'tee', 'telly', 'telmo', 'temidayo', 'temir', 'temitayo', 'temur', 'tennison', 'tequan', 'terryn', 'tevye', 'teyo', 'thacher', 'thaine', 'thanh', 'thanos', 'theojames', 'theos', 'thian', 'thijs', 'thobias', 'thoedore', 'thom', 'thomson', 'thyri', 'tiberias', 'tide', 'tifeoluwa', 'tighe', 'tilson', 'tilton', 'time', 'tipton', 'tiras', 'tirrell', 'tkai', 'tobe', 'tomasi', 'torre', 'torres', 'towa', 'trashawn', 'travaris', 'travonte', 'treden', 'tremari', 'treson', 'trevante', 'trevelle', 'trevonne', 'treylon', 'treyveon', 'trhue', 'trig', 'trinton', 'tryp', 'trypp', 'trystyn', 'tydarius', 'tyjae', 'tyjir', 'tykell', 'tymar', 'tymoni', 'tyrael', 'tyresse', 'tyris', 'tysean', 'tysier', 'umberto', 'uvaldo', 'vader', 'vahan', 'valiente', 'valin', 'vanson', 'varad', 'vasili', 'vasily', 'veeran', 'venture', 'victorino', 'victorious', 'vidyuth', 'vigo', 'vikyath', 'viliamu', 'vinayak', 'vinton', 'virajreddy', 'vishaan', 'vitali', 'volvi', 'vontae', 'vraj', 'vuong', 'waden', 'wadley', 'wagner', 'wahid', 'waiks', 'warsame', 'warwick', 'washington', 'waymon', 'wealth', 'wendall', 'weslan', 'wickham', 'wild', 'wilkin', 'willam', 'windell', 'winson', 'winsten', 'winton', 'woodensley', 'woodland', 'woojin', 'wrenly', 'wrett', 'wyatte', 'wyeth', 'wyld', 'wylin', 'xaeden', 'xaelyn', 'xamari', 'xannon', 'xantiago', 'xayvier', 'xhaiden', 'xoan', 'xoel', 'xylen', 'xyrus', 'xzaiden', 'xzayden', 'xzayvien', 'yacine', 'yacob', 'yaden', 'yahriel', 'yahsiah', 'yancy', 'yao', 'yashar', 'yassiel', 'yedidya', 'yefri', 'yeiko', 'yekusiel', 'yerson', 'yeshayahu', 'yester', 'yexian', 'yiming', 'yoandri', 'yobani', 'yochanon', 'yohance', 'yonel', 'york', 'yoseth', 'yoshiyahu', 'yosiyah', 'yossef', 'yotam', 'yue', 'yuhan', 'yuito', 'yuli', 'yuniel', 'yuvanreddy', 'yuven', 'zabian', 'zacai', 'zachai', 'zachariyah', 'zacheriah', 'zaed', 'zaevon', 'zaheem', 'zahmire', 'zahvier', 'zainaldeen', 'zaiven', 'zaivion', 'zaiyr', 'zakaree', 'zakoda', 'zakori', 'zalyn', 'zamare', 'zamere', 'zamonte', 'zani', 'zaquan', 'zari', 'zariel', 'zathan', 'zaviel', 'zavin', 'zaxai', 'zaxtyn', 'zaydian', 'zaylynn', 'zaymir', 'zayre', 'ze', 'zecharia', 'zedd', 'zedric', 'zehaan', 'zekhi', 'zeki', 'zeland', 'zemariam', 'zennon', 'zeon', 'zero', 'zeven', 'zevon', 'zevyn', 'zeyd', 'zhair', 'zhayd', 'zhen', 'zhion', 'zierre', 'zinedine', 'zuhayr', 'zvi', 'zyeire', 'zyel', 'zyian', 'zylar', 'zyn']\n"
     ]
    }
   ],
   "source": [
    "print(least_common_boy_names)"
   ]
  },
  {
   "cell_type": "code",
   "execution_count": 65,
   "id": "9dfd2290",
   "metadata": {},
   "outputs": [
    {
     "name": "stdout",
     "output_type": "stream",
     "text": [
      "['aabha', 'aadhirai', 'aadvi', 'aafia', 'aailyah', 'aaima', 'aaiza', 'aakifah', 'aakriti', 'aaleeyah', 'aaleia', 'aaranya', 'aariaani', 'aarielle', 'aarin', 'aarionna', 'aaryah', 'aaryana', 'aaryiah', 'aashka', 'aashna', 'aashritha', 'aayara', 'abbygale', 'abeera', 'abiola', 'abisola', 'abiya', 'abree', 'abrey', 'abuk', 'abygale', 'abyssinia', 'acela', 'acelia', 'acie', 'ackley', 'adaira', 'adaire', 'adaiyah', 'adaleia', 'adalys', 'adanelly', 'addaley', 'addalia', 'addalina', 'addelyne', 'addylynn', 'addysyn', 'adelade', 'adelaya', 'adeleigh', 'adeley', 'adelinn', 'adesewa', 'adiana', 'adiba', 'adila', 'adior', 'adly', 'adona', 'adonia', 'adorah', 'adriann', 'adrie', 'adrionna', 'adrita', 'adryana', 'adylynn', 'aelina', 'aemelia', 'aerabella', 'aerowyn', 'aeryss', 'aesha', 'afaf', 'afrin', 'aggie', 'ahanna', 'ahilani', 'ahinara', 'ahlai', 'ahlanni', 'ahleyah', 'ahlina', 'ahmaya', 'ahmiyah', 'ahmyah', 'ahnesty', 'ahni', 'ahonesti', 'ahrie', 'ahriya', 'ahveya', 'ahvi', 'ahvianna', 'ahyoka', 'ahzari', 'aidaly', 'aife', 'aijah', 'aileth', 'ailis', 'aimar', 'airalyn', 'airiana', 'aishat', 'aishvi', 'aisleen', 'aissa', 'ajourni', 'ajream', 'akailah', 'akane', 'akaylah', 'akire', 'akon', 'aksa', 'akuol', 'akya', 'akyra', 'alaana', 'alaea', 'alaena', 'alaeyah', 'alaiha', 'alaizah', 'alamea', 'alandria', 'alaniz', 'alankrita', 'alarah', 'alayaa', 'alayja', 'alchemy', 'aleanna', 'aleece', 'alegaci', 'alenia', 'alera', 'alexanderia', 'alexei', 'alexzandra', 'aliaa', 'alianni', 'alieah', 'aliena', 'alifa', 'alissah', 'alleia', 'alleyah', 'allysen', 'almudena', 'aloe', 'alonie', 'altair', 'aluel', 'alula', 'alyani', 'alyda', 'alynah', 'alyonna', 'alyrah', 'alysen', 'amabella', 'amaka', 'amany', 'amariee', 'amarise', 'amaru', 'amazi', 'amaziah', 'amberlie', 'ameah', 'ameelah', 'ameilya', 'amelea', 'ameyah', 'amierah', 'amiia', 'amiliyah', 'amilliah', 'amine', 'amineh', 'amirii', 'amiryah', 'amiyra', 'amla', 'ammarie', 'amnah', 'amoret', 'amparo', 'amryn', 'amunet', 'amyrical', 'anab', 'anadelia', 'anae', 'anahla', 'anaija', 'analeiah', 'analilia', 'analiza', 'anamta', 'anarely', 'anavaeh', 'anavrin', 'anayansi', 'anayely', 'anaylah', 'andilynn', 'andrianna', 'andrra', 'anecia', 'aneesha', 'anelisse', 'angelea', 'angelene', 'angelice', 'angelisse', 'angelyna', 'anifer', 'anikha', 'anime', 'anisah', 'anivia', 'anjel', 'anjola', 'anmol', 'annaclara', 'annaise', 'annaleese', 'annalena', 'annaleya', 'annaliza', 'annalize', 'annalyssa', 'annapurna', 'annaruth', 'annavictoria', 'annayah', 'annella', 'annesley', 'annorah', 'anran', 'ansha', 'anthony', 'anthym', 'antigone', 'anu', 'anushree', 'anvee', 'anyra', 'aonani', 'aparna', 'aralee', 'arami', 'aranya', 'arbella', 'areia', 'areina', 'arelyn', 'aren', 'arianis', 'ariarose', 'ariayl', 'ariba', 'ariday', 'ariele', 'arien', 'arirose', 'aritzia', 'ariyanah', 'ariyha', 'arlani', 'armanie', 'armelia', 'armida', 'armony', 'arriella', 'arriyah', 'aruvi', 'arybella', 'aryel', 'aryiana', 'aryianna', 'arys', 'arzoie', 'asaiah', 'asana', 'ashai', 'ashelynn', 'ashiya', 'ashli', 'ashvi', 'ashyla', 'asiana', 'aslan', 'aslihan', 'aslin', 'aslinn', 'asmara', 'astreya', 'astri', 'athar', 'atika', 'attalia', 'attallah', 'aubre', 'aubreerose', 'aubreyella', 'aubria', 'aubrianne', 'aubriee', 'aubriel', 'audelina', 'audianna', 'audrinna', 'audryanna', 'aulelei', 'aurbree', 'aureliana', 'aurorarose', 'avaeah', 'avajade', 'avalyse', 'avayla', 'aveia', 'avenly', 'avera', 'averyana', 'avey', 'aviel', 'avienda', 'avonlee', 'avrey', 'avyn', 'axie', 'ayasofia', 'aydan', 'ayen', 'aylina', 'aynsley', 'ayo', 'ayssa', 'azaleia', 'azalie', 'azami', 'azaree', 'azarria', 'azazel', 'azealia', 'azera', 'azhani', 'azharia', 'azita', 'azka', 'azria', 'azuriah', 'babette', 'bae', 'baelee', 'baeli', 'baelyn', 'balenci', 'balencia', 'banksy', 'bareerah', 'barkot', 'bassheva', 'behati', 'belamy', 'belize', 'bellaluna', 'bellen', 'bellezza', 'belma', 'beloved', 'bennet', 'berkely', 'berkli', 'berklie', 'bernadine', 'berta', 'bethann', 'betiel', 'betsie', 'bettyjo', 'beyonce', 'beyza', 'bhavya', 'bhuvi', 'bilen', 'bilqis', 'binah', 'bissan', 'blaklyn', 'bly', 'boe', 'bonni', 'boone', 'brae', 'braeley', 'braeya', 'braislee', 'brandie', 'brany', 'braxley', 'bray', 'breeanna', 'breeley', 'breia', 'brendalynn', 'brendy', 'brentlee', 'breyanna', 'brighid', 'brigit', 'brihana', 'brihanna', 'brilliance', 'brilliant', 'brinzley', 'briselda', 'briselle', 'brita', 'brizeyda', 'bronxx', 'brooklyne', 'bryan', 'brycelynn', 'brynlei', 'brynnly', 'bunny', 'burke', 'burkleigh', 'cache', 'caelin', 'cahya', 'cailah', 'cairee', 'caitriona', 'caleena', 'calii', 'calila', 'callaghan', 'calliana', 'callidora', 'cam', 'camauri', 'cambre', 'cambreigh', 'cammi', 'camoura', 'camyra', 'canary', 'candyce', 'capria', 'cardi', 'careli', 'caridad', 'carisa', 'carisma', 'carleena', 'carlena', 'carmani', 'carolee', 'carrera', 'cason', 'casper', 'cassius', 'cataliyah', 'cedra', 'celiana', 'cerelia', 'charleeann', 'charlsie', 'chaselynn', 'chatham', 'chau', 'chayil', 'chaz', 'chenxi', 'cherrish', 'cheyann', 'chikamso', 'chloeann', 'chozynn', 'chrissa', 'christabella', 'chrystiana', 'chyla', 'cinderella', 'citlally', 'clarajane', 'claribelle', 'clarita', 'clayton', 'cleissy', 'clelia', 'coast', 'coen', 'colibri', 'colin', 'comfort', 'connolly', 'constantina', 'consuela', 'conway', 'coraima', 'coralei', 'coralin', 'coralina', 'cordellia', 'corine', 'corinthian', 'corrin', 'cortlyn', 'cortney', 'crisbell', 'crissy', 'cristella', 'crosbie', 'curie', 'cyn', 'cynai', 'cynia', 'cyniyah', 'daanya', 'daenarys', 'dafni', 'dahlani', 'dahlila', 'dahlilah', 'dailah', 'daileigh', 'daileny', 'dairyn', 'daivy', 'daizie', 'dalanii', 'dalarie', 'daleyla', 'daleyzah', 'dalissa', 'daliylah', 'daliza', 'dallyss', 'damor', 'danaria', 'dandrea', 'daniele', 'danileigh', 'dannah', 'danniella', 'daphni', 'darbi', 'dariann', 'dariany', 'darlyne', 'darlynn', 'darri', 'darria', 'dasiah', 'davaya', 'daveena', 'davika', 'dayjah', 'dayle', 'daylen', 'daylene', 'deani', 'debrah', 'deidre', 'deily', 'delanni', 'delaylah', 'delicia', 'delillah', 'delisa', 'delle', 'delsy', 'dema', 'demie', 'demirose', 'demitria', 'demy', 'demyah', 'denisha', 'deniya', 'denni', 'deoni', 'dessa', 'destani', 'devaeh', 'devonna', 'deylin', 'deyra', 'dezariah', 'deziah', 'dharma', 'dharvi', 'dhritireddy', 'dhruti', 'diamante', 'dianelys', 'dianni', 'diary', 'dilan', 'dilcia', 'dilyn', 'diona', 'dione', 'diorr', 'dira', 'ditza', 'divika', 'dlyla', 'dlylah', 'dor', 'dotty', 'dovey', 'draven', 'dreamer', 'dreamy', 'dreanna', 'drelynn', 'dulaney', 'dulcie', 'durga', 'dustee', 'dvosia', 'dyala', 'dyamond', 'dylilah', 'dynastii', 'eboni', 'ebtisam', 'ece', 'edalynn', 'edelina', 'edenrose', 'edin', 'edisyn', 'eduarda', 'eemaan', 'ehani', 'eilany', 'eilene', 'eimaan', 'eire', 'eiress', 'eisele', 'eislyn', 'eizabella', 'ejla', 'ekhlas', 'elaheh', 'elainea', 'elainy', 'elaiza', 'elanah', 'elaney', 'elanii', 'elanny', 'elasia', 'elaura', 'elayjah', 'elaynna', 'elease', 'elei', 'elen', 'elenie', 'eleri', 'elesia', 'elessia', 'eleya', 'eliara', 'elienai', 'eliett', 'elisheba', 'elizabet', 'ellaine', 'ellalee', 'ellason', 'elleighana', 'elleni', 'ellenie', 'ellenora', 'elleona', 'elliya', 'ellori', 'eloiza', 'elon', 'eloria', 'elorie', 'elouisa', 'elsey', 'elta', 'elu', 'elynor', 'elyon', 'elyzah', 'emalyne', 'emarii', 'embrii', 'emel', 'emeliah', 'emereigh', 'emiliarose', 'emjay', 'emmabelle', 'emmalena', 'emmaree', 'emmerlynn', 'emmitt', 'emslie', 'emyra', 'ender', 'endi', 'endiyah', 'eneida', 'eneri', 'enessa', 'enith', 'enzie', 'epic', 'eponine', 'erendira', 'eriella', 'erilynn', 'eriyanna', 'erla', 'ernestina', 'erys', 'ese', 'eseosa', 'esmea', 'esmerae', 'esperance', 'estephania', 'estephany', 'estoria', 'evadne', 'evangaline', 'evangelene', 'evangelin', 'evangelynn', 'evanka', 'evanni', 'evannie', 'evian', 'evienne', 'evonne', 'evony', 'evvy', 'ewa', 'ewaoluwa', 'exie', 'eyonna', 'ezmerelda', 'faduma', 'fahima', 'faige', 'fairy', 'faithful', 'faizah', 'falaq', 'falasteen', 'fantasia', 'fareeha', 'farhana', 'faridah', 'faryal', 'fatmata', 'fauzia', 'fayla', 'fayola', 'feather', 'febe', 'feigy', 'feliciana', 'felisa', 'fergie', 'fey', 'filipa', 'finnegan', 'finola', 'fizza', 'floridalma', 'folasade', 'foreign', 'franca', 'francoise', 'franklynn', 'franny', 'frederica', 'freyia', 'furtu', 'fynnlee', 'gabriana', 'gabriele', 'ganna', 'gatlynn', 'gavi', 'gefen', 'gelina', 'gella', 'gena', 'genaya', 'genelle', 'geneve', 'genora', 'genuine', 'georgetta', 'gertie', 'ghianna', 'giannamarie', 'giannarose', 'gili', 'giliana', 'giordana', 'gitel', 'glorianne', 'graceigh', 'graciana', 'graesyn', 'grettell', 'guillermina', 'guliana', 'gwendolynne', 'gwenn', 'gwenyvere', 'gwyn', 'gwyndolin', 'gypsie', 'haby', 'hadasha', 'hadyn', 'haezel', 'haile', 'haili', 'haizyl', 'hajara', 'halcyon', 'haleemah', 'hallel', 'hamida', 'hanadi', 'hanaya', 'haniah', 'hannalee', 'hannelore', 'harleyrose', 'harly', 'harmone', 'harriette', 'harvee', 'hasenat', 'hasha', 'hasina', 'hasleigh', 'hassatou', 'hava', 'hawkins', 'hayaa', 'haydenn', 'hayeslee', 'haygen', 'hazle', 'heartlynn', 'hefziba', 'heide', 'heizel', 'helaine', 'helayna', 'hella', 'hemi', 'henri', 'heyab', 'heydy', 'heysel', 'hibah', 'hibo', 'hiley', 'hinza', 'hiyabel', 'hollan', 'honestie', 'honoka', 'houda', 'hudsen', 'humairah', 'hyatt', 'ibiza', 'ichika', 'icylinn', 'idamae', 'idris', 'ifra', 'ifza', 'ihana', 'ikhlaas', 'ilaiah', 'ilamae', 'ilaya', 'ilayna', 'ilee', 'ilinca', 'ilyena', 'imunique', 'inanna', 'indyah', 'inge', 'iniko', 'innaya', 'iolana', 'ionna', 'irah', 'irais', 'irelynd', 'irielle', 'irini', 'irish', 'iryss', 'isabellagrace', 'isadore', 'isamara', 'isayana', 'ishaanvi', 'ishimwe', 'ishvi', 'isioma', 'iskra', 'islabelle', 'islagrace', 'isleigh', 'isma', 'issabela', 'isys', 'itzcali', 'itzell', 'itzy', 'ivadell', 'ivalee', 'iveel', 'ivonna', 'ivvy', 'ivygrace', 'ivyona', 'ixora', 'iyannah', 'iyanni', 'iyland', 'jabrea', 'jacari', 'jacilyn', 'jadeyn', 'jaedynn', 'jaelin', 'jaella', 'jaelynne', 'jaemarie', 'jaesha', 'jahkai', 'jahleah', 'jahna', 'jahzarah', 'jaici', 'jaidee', 'jaiel', 'jailine', 'jailoni', 'jaimarie', 'jaira', 'jakhyla', 'jakya', 'jakyia', 'jalaylah', 'jaliana', 'jalie', 'jalyla', 'jamesia', 'jamilex', 'jamilia', 'jamillah', 'jamina', 'jamyrah', 'jan', 'jandy', 'janett', 'janeya', 'janeyah', 'japleen', 'japneet', 'jaraya', 'jareli', 'jarelis', 'jareth', 'jaria', 'jaselynn', 'jasmeen', 'jatziry', 'javannah', 'javiah', 'javonna', 'jaylaa', 'jaylahni', 'jaylan', 'jaylarose', 'jaylenn', 'jaylenne', 'jaylianis', 'jaylianiz', 'jaylianni', 'jayliene', 'jaylise', 'jaylnn', 'jaylonni', 'jazani', 'jazayla', 'jazbel', 'jazmarie', 'jazzmin', 'jazzmyne', 'jeannine', 'jeilianys', 'jelianny', 'jelianys', 'jelilah', 'jem', 'jenalyn', 'jenan', 'jenasys', 'jency', 'jendaya', 'jenee', 'jenell', 'jeni', 'jenice', 'jenisis', 'jennalee', 'jennavie', 'jentrie', 'jeri', 'jerika', 'jerilyn', 'jermanii', 'jerney', 'jerzy', 'jess', 'jessilyn', 'jette', 'jeweliana', 'jezabelle', 'jezlyn', 'jhalani', 'jhana', 'jhavia', 'jhenai', 'jhett', 'jhoanna', 'jhoselyn', 'jiannah', 'jihanna', 'jimi', 'jina', 'jireth', 'jiyanna', 'joali', 'joani', 'joanny', 'jocee', 'jocelynne', 'joclyn', 'joee', 'joelis', 'joellen', 'joelynn', 'johnae', 'johnnae', 'joleah', 'joliee', 'joliene', 'joliette', 'joliyah', 'jonathan', 'jonesy', 'jordann', 'jordanna', 'josely', 'josieann', 'joslynne', 'jovianna', 'jovy', 'joylynn', 'jozee', 'jozy', 'juany', 'juda', 'judia', 'jula', 'julena', 'julez', 'julianie', 'juliannah', 'juliauna', 'julieanne', 'julitza', 'julyanna', 'jwana', 'jya', 'kaashi', 'kaashvi', 'kabria', 'kadidia', 'kadidja', 'kadri', 'kae', 'kaezlee', 'kahleah', 'kahlei', 'kahliah', 'kaicey', 'kaijah', 'kailahni', 'kailanie', 'kailene', 'kailo', 'kaiona', 'kaisly', 'kaisy', 'kaiyani', 'kaiyomi', 'kalai', 'kalan', 'kalayiah', 'kaleea', 'kaleese', 'kaleiyah', 'kalese', 'kalice', 'kalini', 'kalirose', 'kaliyan', 'kaliyana', 'kalonie', 'kalonii', 'kalylah', 'kamalani', 'kamaree', 'kambryn', 'kamdynn', 'kamili', 'kammi', 'kamonie', 'kampbell', 'kamy', 'kamylla', 'kandice', 'kare', 'kariel', 'karimah', 'karine', 'karmel', 'karmine', 'karmoni', 'karolyne', 'kartyr', 'karys', 'kasani', 'kashindi', 'kasiya', 'kassadi', 'kataliya', 'katalynna', 'katarzyna', 'katelina', 'kathrin', 'katilaya', 'katriana', 'kavia', 'kayanni', 'kaycen', 'kayler', 'kaylonni', 'kayna', 'kayona', 'kayonni', 'kayton', 'kazariah', 'kazlynn', 'keaira', 'kealia', 'kearra', 'keelynn', 'keera', 'kehinde', 'kehloni', 'keiarra', 'keilanii', 'keilanys', 'keiley', 'keilianys', 'keiloni', 'keimoni', 'keimy', 'keiona', 'keirra', 'keiryn', 'kelany', 'kelcey', 'kelcy', 'keli', 'keliah', 'keliana', 'kelin', 'kellee', 'kelleigh', 'kellin', 'kelsei', 'keltie', 'kelynn', 'kemara', 'kemiah', 'kemya', 'kenai', 'kendaya', 'kendrie', 'kenedee', 'kenedy', 'keni', 'keniah', 'kenidi', 'kensey', 'kenyatta', 'kenzia', 'keora', 'kerstin', 'kessa', 'kessiah', 'kesslyn', 'keydi', 'keylanni', 'keyloni', 'khadijatou', 'khaila', 'khailee', 'khalesi', 'khaleya', 'khalil', 'khamille', 'khaniyah', 'khaya', 'khaylee', 'khayra', 'khelanie', 'khleo', 'khloi', 'khylynn', 'khyrah', 'kian', 'kiaraliz', 'kiarri', 'kiarybel', 'kierston', 'kieryn', 'kilayah', 'kiloni', 'kimmie', 'kimori', 'kimya', 'kindall', 'king', 'kinnsley', 'kinslea', 'kinzly', 'kiore', 'kirana', 'kismet', 'kiswa', 'kitara', 'kitra', 'kizzie', 'klahni', 'kloee', 'kmiyah', 'kmoni', 'kmya', 'knylah', 'kobee', 'koemi', 'kohinoor', 'kollier', 'kolsyn', 'kolynns', 'konley', 'koralie', 'korrine', 'kourage', 'kourtnei', 'kridha', 'krishvi', 'krisley', 'krissia', 'krissy', 'kristlyn', 'kritika', 'kriva', 'kriya', 'krysten', 'kshetra', 'kueen', 'kulani', 'kwyn', 'kyanne', 'kyera', 'kylaya', 'kylene', 'kylise', 'kyndle', 'kyniah', 'kynlei', 'kynnlee', 'kyriah', 'kyrianna', 'labella', 'laceigh', 'ladonna', 'laeloni', 'lahela', 'lahlani', 'laikin', 'lailanni', 'lailee', 'lailonie', 'laira', 'laiyla', 'laiza', 'lajoy', 'lakeisha', 'lakira', 'lakshya', 'lalah', 'laliyah', 'laloni', 'lalonnie', 'lam', 'lamiracle', 'lamoura', 'lanasia', 'landreigh', 'lanee', 'lanita', 'lanyah', 'lanyia', 'laraia', 'larayne', 'lareine', 'larena', 'larson', 'larya', 'laryah', 'lasiyah', 'latisha', 'lauralai', 'laurali', 'laurelai', 'laurence', 'lauri', 'lavana', 'lavonna', 'lawanda', 'lawton', 'layiah', 'laylamae', 'layleen', 'lazaria', 'leahny', 'leandria', 'leeland', 'leella', 'leelynn', 'leeona', 'leeonna', 'legna', 'lehla', 'leihlani', 'leiko', 'leilamae', 'leilanys', 'leili', 'leilianys', 'leiluna', 'leiyani', 'leiyanna', 'lekha', 'lemmie', 'lenea', 'leonella', 'leonia', 'leriyah', 'lesedi', 'letitia', 'letta', 'leva', 'levia', 'lexee', 'leyan', 'leylanni', 'leyu', 'lezly', 'liahna', 'lialah', 'liamani', 'lianis', 'liddy', 'lilamae', 'lilani', 'lilarose', 'lillionna', 'lillynn', 'lillyona', 'lilyah', 'linah', 'linet', 'lineth', 'linna', 'linsy', 'lisabella', 'lisaira', 'lissy', 'litzi', 'lizet', 'lizzet', 'loelle', 'loey', 'londan', 'lorea', 'lorenna', 'loreta', 'lorien', 'lorissa', 'lorren', 'lorryn', 'louana', 'louann', 'louisiana', 'louiza', 'lovanna', 'loveleen', 'loveli', 'lovelle', 'lovisa', 'lowell', 'loyaltii', 'luah', 'lucas', 'lucey', 'lucymae', 'lujane', 'lulana', 'lulia', 'lumin', 'luwam', 'luxlee', 'lyan', 'lydianna', 'lyfe', 'lylian', 'lylianna', 'lyniah', 'lynneah', 'lynzie', 'lyudmila', 'lyz', 'maali', 'maame', 'macari', 'mackenley', 'mackensie', 'madany', 'maday', 'maddisen', 'madeeha', 'madilyne', 'maebh', 'maebri', 'maeci', 'maelanie', 'maelea', 'maev', 'maevelyn', 'maeverly', 'magdaline', 'maggy', 'maguette', 'mahagony', 'mahalakshmi', 'mahaley', 'mahani', 'mahdia', 'mahek', 'mahiya', 'mahla', 'mahoganie', 'mahri', 'mahrukh', 'maicie', 'maicyn', 'maiella', 'mais', 'maisel', 'maiven', 'maizelynn', 'majestii', 'major', 'makalynn', 'makensley', 'makilah', 'makyia', 'malajah', 'malakai', 'malany', 'maleeya', 'malila', 'malini', 'malkah', 'malloree', 'malyiah', 'malynda', 'mama', 'manasa', 'manisa', 'marajade', 'maravilla', 'marcelline', 'marcelyn', 'mariaemilia', 'mariahna', 'marialucia', 'mariangela', 'mariannah', 'mariarose', 'mariasofia', 'mariavalentina', 'marielis', 'mariem', 'marilou', 'mariluna', 'mariona', 'maritta', 'marleaux', 'marleyrae', 'marliee', 'marlys', 'marnita', 'marra', 'marrah', 'marriah', 'marshall', 'marty', 'maryhelen', 'marziya', 'masey', 'maui', 'mava', 'maveri', 'maveryk', 'maxlynn', 'maye', 'maysoon', 'mayura', 'mazarine', 'mazilyn', 'mazlyn', 'mckaylee', 'mclane', 'mealla', 'mechelle', 'meerab', 'mehza', 'meiko', 'melana', 'melanii', 'melodygrace', 'melondy', 'mely', 'melynda', 'menorah', 'merab', 'meral', 'meredy', 'merelyn', 'meritt', 'merveille', 'miaa', 'miamore', 'miarie', 'micheala', 'michiko', 'midna', 'miheeka', 'mihrimah', 'mikeila', 'mikyah', 'milaan', 'milaia', 'milaina', 'milanny', 'milca', 'mileydy', 'mille', 'millieann', 'milliemae', 'minori', 'miori', 'miran', 'mirely', 'miria', 'misgana', 'mishal', 'mishelle', 'mkayla', 'mmasinachi', 'moani', 'moli', 'momoka', 'monalisa', 'monarch', 'moni', 'monnie', 'monte', 'morghan', 'mori', 'mulki', 'muqadas', 'murphee', 'murphey', 'muska', 'muskaan', 'muzna', 'myalynn', 'myayla', 'mylayah', 'mylinh', 'myoni', 'myrakle', 'myrcella', 'myricle', 'mystique', 'naarah', 'nabeeha', 'nadalie', 'nadar', 'nadege', 'nadiah', 'nadra', 'naeema', 'nagi', 'nagisa', 'nahbi', 'nahdia', 'nahya', 'nakaya', 'nakoma', 'nalany', 'nalu', 'naly', 'nalyah', 'namiya', 'nanayaa', 'nao', 'naomirose', 'naphtali', 'naraly', 'naraya', 'narin', 'narina', 'nasai', 'naseem', 'nasteho', 'nataliyah', 'natanya', 'nation', 'natividad', 'natoria', 'natsumi', 'natti', 'navada', 'navae', 'nayda', 'naydeline', 'nayelii', 'nayture', 'nazeli', 'nazia', 'nazifa', 'nazira', 'nazneen', 'ndia', 'neaveh', 'neelam', 'neeley', 'neima', 'nel', 'neleh', 'neliah', 'nema', 'neo', 'neola', 'neriya', 'nery', 'nesryn', 'netra', 'nevelyn', 'neziah', 'ngan', 'nhyla', 'nialani', 'niamani', 'niamyah', 'nickole', 'nielle', 'nieve', 'nihana', 'nikol', 'nikoleta', 'nikolette', 'nior', 'niori', 'nirali', 'nirobi', 'nishitha', 'nisreen', 'nita', 'nitsa', 'niv', 'nivia', 'niviah', 'nivika', 'niyathi', 'nolvia', 'nooreh', 'noorulain', 'noria', 'normajean', 'nory', 'nourah', 'novalynne', 'noveah', 'nubian', 'nuna', 'nureen', 'nyarii', 'nyasha', 'nyava', 'nylai', 'nylan', 'nyle', 'nylie', 'nylin', 'nyliyah', 'nymira', 'nyveah', 'oakliegh', 'oliviarae', 'olly', 'oluwasemilore', 'oluwatobi', 'olyve', 'omiyah', 'omolara', 'omri', 'oniyah', 'onyxx', 'oren', 'ororo', 'osa', 'osmary', 'ottavia', 'oysha', 'oyuki', 'ozzlynn', 'paisleyann', 'paisleyrae', 'paisly', 'paiyton', 'paizlie', 'paizlynn', 'panagiota', 'pantera', 'parneet', 'pavneet', 'payge', 'paysen', 'pearly', 'pema', 'penellope', 'penni', 'pennylane', 'percy', 'perlita', 'perola', 'persephonie', 'pesha', 'peyson', 'phaith', 'phillipa', 'phiona', 'pocahontas', 'power', 'pragnya', 'praisely', 'pretty', 'priti', 'pryce', 'quiana', 'quinleigh', 'quinnleigh', 'quynh', 'qwynn', 'rabiya', 'radia', 'radiyah', 'radley', 'raeah', 'raeanne', 'raeden', 'raeliana', 'raelinn', 'raenah', 'raeyna', 'rahel', 'rahmiya', 'raissa', 'raivyn', 'raja', 'rajvi', 'ramaya', 'rami', 'ramsay', 'randa', 'ranesmae', 'ranyah', 'rasheeda', 'rashmika', 'ravin', 'raychel', 'rayea', 'rayelyn', 'rayen', 'raylah', 'raylei', 'razaan', 'raziel', 'reann', 'rediet', 'ree', 'rehat', 'reileen', 'remedios', 'renas', 'reniyah', 'renni', 'reveille', 'revelyn', 'revie', 'rewa', 'rexley', 'rexlynn', 'reyanna', 'reyanne', 'reylin', 'reynah', 'reyne', 'reynolds', 'reyva', 'rhaelyn', 'rhapsody', 'rhealee', 'rheanna', 'rhettley', 'rhettlyn', 'rhiyan', 'rhyanna', 'rhye', 'riane', 'ricci', 'richlynn', 'riel', 'riggin', 'rihan', 'riko', 'rilan', 'rilley', 'rimna', 'rissy', 'rithika', 'ritika', 'ritvi', 'riyaan', 'roa', 'roaa', 'roary', 'rocket', 'rocklyn', 'rocklynn', 'rohanna', 'romaisa', 'romana', 'romely', 'romilly', 'rona', 'ronia', 'ronja', 'rosaley', 'rosaluna', 'rosalyne', 'rosamae', 'rosealie', 'rosebella', 'rosebelle', 'roseleen', 'rosibel', 'roxane', 'roxette', 'royalle', 'royse', 'rozay', 'rozie', 'rozina', 'rozlin', 'rua', 'rubiana', 'rubye', 'ruelle', 'rukaiya', 'rukaya', 'rumaysah', 'rus', 'ruthlynn', 'ruweyda', 'ruya', 'rydia', 'ryilee', 'saanchi', 'sabali', 'sabeen', 'sabirah', 'sabrena', 'sabriya', 'sachiko', 'sadira', 'sadler', 'sadora', 'sady', 'saeeda', 'saela', 'safi', 'safura', 'sahani', 'sahla', 'saidy', 'sailee', 'sajda', 'sajida', 'sakiya', 'salara', 'salea', 'saleigha', 'saliah', 'salimah', 'saminah', 'samrudhi', 'samuela', 'sanaaya', 'sanii', 'sanisha', 'sanovia', 'santa', 'santi', 'santiago', 'saphina', 'sarabella', 'saraii', 'saralynn', 'sarann', 'sareya', 'sariel', 'saryn', 'saudi', 'savani', 'saveya', 'savia', 'saviona', 'sayat', 'saydie', 'saylee', 'scotlynd', 'sefina', 'selayah', 'seleen', 'selenia', 'selenie', 'seleny', 'selihom', 'sema', 'semiya', 'semma', 'senaya', 'seniah', 'senua', 'sephira', 'sequoyah', 'serai', 'seras', 'serein', 'serine', 'severine', 'seveyn', 'shadia', 'shaia', 'shaianne', 'shaivi', 'shalaya', 'shalia', 'shalva', 'shamiya', 'shanae', 'shannell', 'shanvika', 'sharanya', 'shari', 'sharol', 'sharona', 'shatha', 'shawn', 'shaylan', 'shayley', 'shealyn', 'shelsea', 'shiah', 'shiann', 'shirin', 'shivi', 'shivika', 'shiyah', 'shona', 'shreshta', 'shrina', 'shrisha', 'shritha', 'shruti', 'shyleigh', 'siari', 'sibel', 'sibi', 'sibylla', 'siennarose', 'sierrah', 'sif', 'sifan', 'sihana', 'sika', 'silya', 'simara', 'simmons', 'simonne', 'simrah', 'sims', 'sindel', 'sirenna', 'sirine', 'siriyah', 'sisley', 'sistine', 'sitra', 'skaii', 'skailar', 'skailyn', 'ski', 'skilynn', 'skyah', 'skyee', 'skylarrose', 'skylene', 'skylynne', 'skyye', 'sofina', 'sojourner', 'solaria', 'solis', 'soma', 'sondos', 'soniya', 'sophina', 'sophonie', 'sovanna', 'starlett', 'stasia', 'steffany', 'stellah', 'stellamarie', 'stellan', 'stephenie', 'stevee', 'sthefany', 'stonie', 'storri', 'stuti', 'sue', 'suna', 'sunem', 'sunisa', 'surie', 'susej', 'sussy', 'suzan', 'suzi', 'swayzi', 'sya', 'syanni', 'syara', 'sylphrena', 'sylver', 'symphanie', 'sypha', 'syrinity', 'taeleigh', 'tahiya', 'tahlani', 'tahleea', 'tahliah', 'tahliyah', 'taibah', 'tailor', 'taja', 'takara', 'takoda', 'takyla', 'talah', 'talaiyah', 'talei', 'taleia', 'tamarah', 'tamarie', 'tamika', 'tamyah', 'tamzin', 'tani', 'tanis', 'tanishi', 'tannah', 'tarah', 'tarini', 'tasnia', 'taviana', 'tawny', 'taygan', 'tayzlee', 'teagann', 'teghan', 'tesneem', 'thaila', 'thayla', 'thisbe', 'thomas', 'thyra', 'thyrie', 'thyrii', 'tien', 'tiferet', 'tiffani', 'tinslie', 'tinzley', 'tiona', 'tira', 'tisa', 'titan', 'toriana', 'torianna', 'torii', 'trelynn', 'tresor', 'treya', 'trhue', 'trianna', 'tricia', 'tuana', 'tyani', 'tyanne', 'tylei', 'tylia', 'tymia', 'tynsleigh', 'tynsley', 'tyrah', 'tyson', 'tytiana', 'tzivy', 'ummehani', 'vaelyn', 'valena', 'valentyna', 'valeriya', 'valli', 'valora', 'valynn', 'vanille', 'veeha', 'velen', 'venelope', 'veralyn', 'verily', 'verra', 'veta', 'veyah', 'vignette', 'vila', 'vinaya', 'vinisha', 'vismaya', 'vivan', 'vivianah', 'viviani', 'vonna', 'vriha', 'vrinda', 'wade', 'wafaa', 'walaa', 'wanita', 'wenona', 'willarae', 'wilmarie', 'winley', 'winnona', 'winta', 'witney', 'woodlyn', 'wrinley', 'wudase', 'wyn', 'wynlee', 'wynnona', 'wynslow', 'xailee', 'xamara', 'xeniyah', 'xenova', 'xiclaly', 'xila', 'xion', 'xochiquetzal', 'xylina', 'yachy', 'yacine', 'yaelle', 'yahvi', 'yaitza', 'yakout', 'yaletzi', 'yalexi', 'yanessa', 'yania', 'yarel', 'yareliz', 'yaremi', 'yarexi', 'yarleth', 'yasaira', 'yashfa', 'yaslynn', 'yasmyn', 'yeab', 'yelani', 'yerelin', 'yexalen', 'yian', 'yianna', 'yilin', 'yiselle', 'ymir', 'yoko', 'yoli', 'yorleny', 'yoseline', 'yoshi', 'yule', 'yuleidy', 'yuleisy', 'yuliet', 'yunalesca', 'yunique', 'yureli', 'yurianna', 'yuritza', 'yuvia', 'yva', 'yvana', 'zabelle', 'zae', 'zaeda', 'zaelah', 'zahlani', 'zahlee', 'zai', 'zaidie', 'zakhari', 'zakira', 'zakora', 'zakyah', 'zakyia', 'zakyiah', 'zakylah', 'zakyra', 'zalaiya', 'zalaysia', 'zaleiah', 'zaleigha', 'zaleiya', 'zali', 'zaliah', 'zalilah', 'zamantha', 'zamilah', 'zamyrah', 'zanique', 'zaray', 'zariella', 'zarish', 'zavayah', 'zayden', 'zaylianna', 'zazil', 'zealynn', 'zeila', 'zeilani', 'zeineth', 'zelle', 'zelyna', 'zenniah', 'zevaeh', 'zeveah', 'zhaniya', 'zhenya', 'zhiya', 'zhoe', 'ziaire', 'ziani', 'zielle', 'zimri', 'zior', 'zitlaly', 'ziyla', 'zlaty', 'zoejane', 'zohe', 'zoiee', 'zolah', 'zorey', 'zoyah', 'zriyah', 'zsazsa', 'zubaida', 'zuhal', 'zuleidy', 'zuna', 'zura', 'zuriya', 'zurri', 'zuzana', 'zyani', 'zyliyah', 'zylynn', 'zynovia', 'zyona', 'zyri', 'zyrihanna']\n"
     ]
    }
   ],
   "source": [
    "print(least_common_girl_names)"
   ]
  },
  {
   "cell_type": "markdown",
   "id": "4fe5df93",
   "metadata": {},
   "source": [
    "### How often do the least common names occur? (Does your answer to this question bother you? Why?)"
   ]
  },
  {
   "cell_type": "code",
   "execution_count": 66,
   "id": "dcf80deb",
   "metadata": {},
   "outputs": [
    {
     "data": {
      "text/plain": [
       "1941"
      ]
     },
     "execution_count": 66,
     "metadata": {},
     "output_type": "execute_result"
    }
   ],
   "source": [
    "len(least_common_boy_names)"
   ]
  },
  {
   "cell_type": "code",
   "execution_count": 67,
   "id": "5d2d7414",
   "metadata": {},
   "outputs": [
    {
     "data": {
      "text/plain": [
       "2380"
      ]
     },
     "execution_count": 67,
     "metadata": {},
     "output_type": "execute_result"
    }
   ],
   "source": [
    "len(least_common_girl_names)"
   ]
  },
  {
   "cell_type": "markdown",
   "id": "4ff20f60",
   "metadata": {},
   "source": [
    "# She wasn't long for this dataset"
   ]
  },
  {
   "cell_type": "markdown",
   "id": "92fb58e3",
   "metadata": {},
   "source": [
    "### What is the longest name in the dataset? How many boys/girls names are exactly that length? What's going on?"
   ]
  },
  {
   "cell_type": "code",
   "execution_count": 47,
   "id": "e23e8b64",
   "metadata": {},
   "outputs": [
    {
     "name": "stdout",
     "output_type": "stream",
     "text": [
      "['christopherjohn', 'muhammadibrahim']\n"
     ]
    }
   ],
   "source": [
    "max_length = 0\n",
    "current_longest_word = \"\"\n",
    "longest_words = []\n",
    "\n",
    "for name in boys.keys()|girls.keys():\n",
    "    if len(name) > max_length :\n",
    "        max_length = len(name)\n",
    "        longest_words = [name]\n",
    "    elif len(name) == max_length :\n",
    "        longest_words.append(name)\n",
    "print(longest_words)\n",
    "        \n"
   ]
  },
  {
   "cell_type": "code",
   "execution_count": 49,
   "id": "c30b461d",
   "metadata": {},
   "outputs": [
    {
     "name": "stdout",
     "output_type": "stream",
     "text": [
      "['mariadelcarmen', 'mariaguadalupe', 'mariavalentina']\n",
      "14\n"
     ]
    }
   ],
   "source": [
    "## checking if my code is correct and if python actually looked through both the keys \n",
    "\n",
    "max_length = 0\n",
    "current_longest_word = \"\"\n",
    "longest_words = []\n",
    "\n",
    "for name in girls.keys():\n",
    "    if len(name) > max_length :\n",
    "        max_length = len(name)\n",
    "        longest_words = [name]\n",
    "    elif len(name) == max_length :\n",
    "        longest_words.append(name)\n",
    "print(longest_words)\n",
    "print (len(longest_words[0]))\n",
    "\n",
    "## Update: It did because the max length in girls' name is 14\n",
    "        "
   ]
  },
  {
   "cell_type": "markdown",
   "id": "c558bc36",
   "metadata": {},
   "source": [
    "# Initials to spreadsheets"
   ]
  },
  {
   "cell_type": "code",
   "execution_count": 34,
   "id": "7118f8c1",
   "metadata": {},
   "outputs": [
    {
     "name": "stdout",
     "output_type": "stream",
     "text": [
      "{'o': 174, 'e': 995, 'c': 775, 'a': 2739, 's': 1227, 'i': 379, 'm': 1524, 'h': 471, 'l': 1024, 'g': 322, 'p': 270, 'n': 745, 'v': 209, 'r': 896, 'z': 528, 'w': 138, 'k': 1571, 'd': 702, 'b': 602, 'j': 1087, 'q': 41, 'x': 86, 'f': 210, 't': 521, 'y': 280, 'u': 28}\n"
     ]
    }
   ],
   "source": [
    "girl_initials = {}\n",
    "\n",
    "for everygirl in girls:\n",
    "    first_letter = everygirl[0]\n",
    "    if first_letter in girl_initials.keys():\n",
    "        girl_initials[first_letter] += 1\n",
    "        \n",
    "    else:\n",
    "        girl_initials[first_letter] = 1\n",
    "        \n",
    "print(girl_initials)"
   ]
  },
  {
   "cell_type": "code",
   "execution_count": 35,
   "id": "3d646b88",
   "metadata": {},
   "outputs": [
    {
     "name": "stdout",
     "output_type": "stream",
     "text": [
      "{'l': 528, 'n': 442, 'o': 251, 'e': 606, 'j': 1191, 'w': 206, 'b': 626, 'h': 406, 't': 691, 'a': 1599, 'm': 942, 'd': 865, 's': 819, 'g': 318, 'c': 692, 'i': 251, 'r': 776, 'k': 1352, 'p': 209, 'x': 72, 'v': 165, 'z': 415, 'f': 214, 'q': 52, 'u': 43, 'y': 262}\n"
     ]
    }
   ],
   "source": [
    "boy_initials = {}\n",
    "\n",
    "for everyboy in boys:\n",
    "    first_letter = everyboy[0]\n",
    "    if first_letter in boy_initials.keys():\n",
    "        boy_initials[first_letter] += 1\n",
    "        \n",
    "    else:\n",
    "        boy_initials[first_letter] = 1\n",
    "        \n",
    "print(boy_initials)"
   ]
  },
  {
   "cell_type": "code",
   "execution_count": 37,
   "id": "71928e34",
   "metadata": {},
   "outputs": [],
   "source": [
    "with open(\"girlsinitials.tsv\", \"w\") as my_file:\n",
    "    print(\"letter\\tcountofnames\", file=my_file)\n",
    "    for first_letter in girl_initials.keys():\n",
    "        print(f\"{first_letter}\\t{girl_initials[first_letter]}\", file=my_file)"
   ]
  },
  {
   "cell_type": "code",
   "execution_count": 38,
   "id": "b9b2015f",
   "metadata": {},
   "outputs": [],
   "source": [
    "with open(\"boysinitials.tsv\", \"w\") as my_file:\n",
    "    print(\"letter\\tcountofnames\", file=my_file)\n",
    "    for first_letter in boy_initials.keys():\n",
    "        print(f\"{first_letter}\\t{boy_initials[first_letter]}\", file=my_file)"
   ]
  },
  {
   "cell_type": "code",
   "execution_count": 68,
   "id": "0ee55ffb",
   "metadata": {},
   "outputs": [
    {
     "name": "stdout",
     "output_type": "stream",
     "text": [
      "Here is my spreadsheet https://docs.google.com/spreadsheets/d/1P9pS8Wj84Sa3m5cdPcIzWqnJu4wJLeNQ5HuX49t7ptE/edit?usp=sharing\n"
     ]
    }
   ],
   "source": [
    "print(\"Here is my spreadsheet https://docs.google.com/spreadsheets/d/1P9pS8Wj84Sa3m5cdPcIzWqnJu4wJLeNQ5HuX49t7ptE/edit?usp=sharing\")"
   ]
  },
  {
   "cell_type": "markdown",
   "id": "a3aafc73",
   "metadata": {},
   "source": [
    "# Concentration in names"
   ]
  },
  {
   "cell_type": "markdown",
   "id": "39c51614",
   "metadata": {},
   "source": [
    "# Something extra"
   ]
  },
  {
   "cell_type": "markdown",
   "id": "465bfade",
   "metadata": {},
   "source": [
    "### What percentage of boys have one of the 10 most popular boys names? "
   ]
  },
  {
   "cell_type": "code",
   "execution_count": 101,
   "id": "c3d6b590",
   "metadata": {},
   "outputs": [
    {
     "name": "stdout",
     "output_type": "stream",
     "text": [
      "[('liam', 20272), ('noah', 18739), ('oliver', 14616), ('elijah', 12708), ('james', 12367), ('william', 12088), ('benjamin', 11791), ('lucas', 11501), ('henry', 11307), ('theodore', 9535)]\n",
      "134924\n",
      "4.013952623554349\n"
     ]
    }
   ],
   "source": [
    "sorted_boys = sorted(boys.items(),key = lambda x:x[1], reverse = True )\n",
    "top_10_boys = sorted_boys[0:10]\n",
    "print(top_10_boys)\n",
    "\n",
    "sum_of_top_10 = 0 \n",
    "\n",
    "for everyvalue in top_10_boys :\n",
    "    sum_of_top_10 = sum_of_top_10 + everyvalue[1] \n",
    "print(sum_of_top_10)\n",
    "\n",
    "PercentOfBoys = (sum_of_top_10/total) * 100\n",
    "print(PercentOfBoys)"
   ]
  },
  {
   "cell_type": "markdown",
   "id": "33fc5b21",
   "metadata": {},
   "source": [
    "### What percentage of girls have one of the 10 most popular girls names?"
   ]
  },
  {
   "cell_type": "code",
   "execution_count": 86,
   "id": "550a2935",
   "metadata": {},
   "outputs": [
    {
     "name": "stdout",
     "output_type": "stream",
     "text": [
      "[('olivia', 17728), ('emma', 15433), ('charlotte', 13285), ('amelia', 12952), ('ava', 12759), ('sophia', 12496), ('isabella', 11201), ('mia', 11096), ('evelyn', 9434), ('harper', 8388)]\n",
      "124772\n",
      "3.7119333606039193\n"
     ]
    }
   ],
   "source": [
    "sorted_girls = sorted(girls.items(), key = lambda x:x[1], reverse = True)\n",
    "top_10_girls = sorted_girls[0:10]\n",
    "print(top_10_girls)\n",
    "\n",
    "sum_of_top_10 = 0 \n",
    "\n",
    "for everyvalue in top_10_girls :\n",
    "    sum_of_top_10 = sum_of_top_10 + everyvalue[1] \n",
    "print(sum_of_top_10)\n",
    "\n",
    "PercentOfGirls = (sum_of_top_10/total) * 100\n",
    "print(PercentOfGirls)"
   ]
  },
  {
   "cell_type": "markdown",
   "id": "748a772f",
   "metadata": {},
   "source": [
    "### Take the top 10% most popular boys names. How many girls were given one of those names? "
   ]
  },
  {
   "cell_type": "code",
   "execution_count": 98,
   "id": "521cfdfe",
   "metadata": {},
   "outputs": [
    {
     "name": "stdout",
     "output_type": "stream",
     "text": [
      "['liam', 'noah', 'oliver', 'elijah', 'james', 'william', 'benjamin', 'lucas', 'henry', 'theodore', 'jack', 'levi', 'alexander', 'jackson', 'mateo', 'daniel', 'michael', 'mason', 'sebastian', 'ethan', 'logan', 'owen', 'samuel', 'jacob', 'asher', 'aiden', 'john', 'joseph', 'wyatt', 'david', 'leo', 'luke', 'julian', 'hudson', 'grayson', 'matthew', 'ezra', 'gabriel', 'carter', 'isaac', 'jayden', 'luca', 'anthony', 'dylan', 'lincoln', 'thomas', 'maverick', 'elias', 'josiah', 'charles', 'caleb', 'christopher', 'ezekiel', 'miles', 'jaxon', 'isaiah', 'andrew', 'joshua', 'nathan', 'nolan', 'adrian', 'cameron', 'santiago', 'eli', 'aaron', 'ryan', 'angel', 'cooper', 'waylon', 'easton', 'kai', 'christian', 'landon', 'colton', 'roman', 'axel', 'brooks', 'jonathan', 'robert', 'jameson', 'ian', 'everett', 'greyson', 'wesley', 'jeremiah', 'hunter', 'leonardo', 'jordan', 'jose', 'bennett', 'silas', 'nicholas', 'parker', 'beau', 'weston', 'austin', 'connor', 'carson', 'dominic', 'xavier', 'jaxson', 'jace', 'emmett', 'adam', 'declan', 'rowan', 'micah', 'kayden', 'gael', 'river', 'ryder', 'kingston', 'damian', 'sawyer', 'luka', 'evan', 'vincent', 'legend', 'myles', 'harrison', 'august', 'bryson', 'amir', 'giovanni', 'chase', 'diego', 'milo', 'jasper', 'walker', 'jason', 'brayden', 'cole', 'nathaniel', 'george', 'lorenzo', 'zion', 'luis', 'archer', 'enzo', 'jonah', 'thiago', 'theo', 'ayden', 'zachary', 'calvin', 'braxton', 'ashton', 'rhett', 'atlas', 'jude', 'bentley', 'carlos', 'ryker', 'adriel', 'arthur', 'ace', 'tyler', 'jayce', 'max', 'elliot', 'graham', 'kaiden', 'maxwell', 'juan', 'dean', 'matteo', 'malachi', 'ivan', 'elliott', 'jesus', 'emiliano', 'messiah', 'gavin', 'maddox', 'camden', 'hayden', 'leon', 'antonio', 'justin', 'tucker', 'brandon', 'kevin', 'judah', 'finn', 'king', 'brody', 'xander', 'nicolas', 'charlie', 'arlo', 'emmanuel', 'barrett', 'felix', 'alex', 'miguel', 'abel', 'alan', 'beckett', 'amari', 'karter', 'timothy', 'abraham', 'jesse', 'zayden', 'blake', 'alejandro', 'dawson', 'tristan', 'victor', 'avery', 'joel', 'grant', 'eric', 'patrick', 'peter', 'richard', 'edward', 'andres', 'emilio', 'colt', 'knox', 'beckham', 'adonis', 'kyrie', 'matias', 'oscar', 'lukas', 'marcus', 'hayes', 'caden', 'remington', 'griffin', 'nash', 'israel', 'steven', 'holden', 'rafael', 'zane', 'jeremy', 'kash', 'preston', 'kyler', 'jax', 'jett', 'kaleb', 'riley', 'simon', 'phoenix', 'javier', 'bryce', 'louis', 'mark', 'cash', 'lennox', 'paxton', 'malakai', 'paul', 'kenneth', 'nico', 'kaden', 'lane', 'kairo', 'maximus', 'omar', 'finley', 'atticus', 'crew', 'brantley', 'colin', 'dallas', 'walter', 'brady', 'callum', 'ronan', 'hendrix', 'jorge', 'tobias', 'clayton', 'emerson', 'damien', 'zayn', 'malcolm', 'kayson', 'bodhi', 'bryan', 'aidan', 'cohen', 'brian', 'cayden', 'andre', 'niko', 'maximiliano', 'zander', 'khalil', 'rory', 'francisco', 'cruz', 'kobe', 'reid', 'daxton', 'derek', 'martin', 'jensen', 'karson', 'tate', 'muhammad', 'jaden', 'joaquin', 'josue', 'gideon', 'dante', 'cody', 'bradley', 'orion', 'spencer', 'angelo', 'erick', 'jaylen', 'julius', 'manuel', 'ellis', 'colson', 'cairo', 'gunner', 'wade', 'chance', 'odin', 'anderson', 'kane', 'raymond', 'cristian', 'aziel', 'prince', 'ezequiel', 'jake', 'otto', 'eduardo', 'rylan', 'ali', 'cade', 'stephen', 'ari', 'kameron', 'dakota', 'warren', 'ricardo', 'killian', 'mario', 'romeo', 'cyrus', 'ismael', 'russell', 'tyson', 'edwin', 'desmond', 'nasir', 'remy', 'tanner', 'fernando', 'hector', 'titus', 'lawson', 'sean', 'kyle', 'elian', 'corbin', 'bowen', 'wilder', 'armani', 'royal', 'stetson', 'briggs', 'sullivan', 'leonel', 'callan', 'finnegan', 'jay', 'zayne', 'marshall', 'kade', 'travis', 'sterling', 'raiden', 'sergio', 'tatum', 'cesar', 'zyaire', 'milan', 'devin', 'gianni', 'kamari', 'royce', 'malik', 'jared', 'franklin', 'clark', 'noel', 'marco', 'archie', 'apollo', 'pablo', 'garrett', 'oakley', 'memphis', 'quinn', 'onyx', 'alijah', 'baylor', 'edgar', 'nehemiah', 'winston', 'major', 'rhys', 'forrest', 'jaiden', 'reed', 'santino', 'troy', 'caiden', 'harvey', 'collin', 'solomon', 'donovan', 'damon', 'jeffrey', 'kason', 'sage', 'grady', 'kendrick', 'leland', 'luciano', 'pedro', 'hank', 'hugo', 'esteban', 'johnny', 'kashton', 'ronin', 'ford', 'mathias', 'porter', 'erik', 'johnathan', 'frank', 'tripp', 'casey', 'fabian', 'leonidas', 'baker', 'matthias', 'philip', 'jayceon', 'kian', 'saint', 'ibrahim', 'jaxton', 'augustus', 'callen', 'trevor', 'ruben', 'adan', 'conor', 'dax', 'braylen', 'kaison', 'francis', 'kyson', 'andy', 'lucca', 'mack', 'peyton', 'alexis', 'deacon', 'kasen', 'kamden', 'frederick', 'princeton', 'braylon', 'wells', 'nikolai', 'iker', 'bo', 'dominick', 'moshe', 'cassius', 'gregory', 'lewis', 'kieran', 'isaias', 'seth', 'marcos', 'omari', 'shane', 'keegan', 'jase', 'asa', 'sonny', 'uriel', 'pierce', 'jasiah', 'eden', 'rocco', 'banks', 'cannon', 'denver', 'zaiden', 'roberto', 'shawn', 'drew', 'emanuel', 'kolton', 'ayaan', 'ares', 'conner', 'jalen', 'alonzo', 'enrique', 'dalton', 'moses', 'koda', 'bodie', 'jamison', 'phillip', 'zaire', 'jonas', 'kylo', 'moises', 'shepherd', 'allen', 'kenzo', 'mohamed', 'keanu', 'dexter', 'conrad', 'bruce', 'sylas', 'soren', 'raphael', 'rowen', 'gunnar', 'sutton', 'quentin', 'jaziel', 'emmitt', 'makai', 'koa', 'maximilian', 'brixton', 'dariel', 'zachariah', 'roy', 'armando', 'corey', 'saul', 'izaiah', 'danny', 'davis', 'ridge', 'yusuf', 'ariel', 'valentino', 'jayson', 'ronald', 'albert', 'gerardo', 'ryland', 'dorian', 'drake', 'gage', 'rodrigo', 'hezekiah', 'kylan', 'boone', 'ledger', 'santana', 'jamari', 'jamir', 'lawrence', 'reece', 'kaysen', 'shiloh', 'arjun', 'marcelo', 'abram', 'benson', 'huxley', 'nikolas', 'zain', 'kohen', 'samson', 'miller', 'donald', 'finnley', 'kannon', 'lucian', 'watson', 'keith', 'westin', 'tadeo', 'sincere', 'boston', 'axton', 'amos', 'chandler', 'leandro', 'raul', 'scott', 'reign', 'alessandro', 'camilo', 'derrick', 'morgan', 'julio', 'clay', 'edison', 'jaime', 'augustine', 'julien', 'zeke', 'marvin', 'bellamy', 'landen', 'dustin', 'jamie', 'krew', 'kyree', 'colter', 'johan', 'houston', 'layton', 'quincy', 'case', 'atreus', 'cayson', 'aarav', 'darius', 'harlan', 'justice', 'abdiel', 'layne', 'raylan', 'arturo', 'taylor', 'anakin', 'ander', 'hamza', 'otis', 'azariah', 'leonard', 'colby', 'duke', 'flynn', 'trey', 'gustavo', 'fletcher', 'issac', 'sam', 'trenton', 'callahan', 'chris', 'mohammad', 'rayan', 'lionel', 'bruno', 'jaxxon', 'zaid', 'brycen', 'roland', 'dillon', 'lennon', 'ambrose', 'rio', 'mac', 'ahmed', 'samir', 'yosef', 'tru', 'creed', 'tony', 'alden', 'aden', 'alec', 'carmelo', 'dario', 'marcel', 'roger', 'ty', 'ahmad', 'emir', 'landyn', 'skyler', 'mohammed', 'dennis', 'kareem', 'nixon', 'rex', 'uriah', 'lee', 'louie', 'rayden', 'reese', 'alberto', 'cason', 'quinton', 'kingsley', 'chaim', 'alfredo', 'mauricio', 'caspian', 'legacy', 'ocean', 'ozzy', 'briar', 'wilson', 'forest', 'grey', 'joziah', 'salem', 'neil', 'remi', 'bridger', 'harry', 'jefferson', 'lachlan', 'nelson', 'casen', 'salvador', 'magnus', 'tommy', 'marcellus', 'maximo', 'jerry', 'clyde', 'aron', 'keaton', 'eliam', 'lian', 'trace', 'douglas', 'junior', 'titan', 'cullen', 'cillian', 'musa', 'mylo', 'hugh', 'tomas', 'vincenzo', 'westley', 'langston', 'byron', 'kiaan', 'loyal', 'orlando', 'kyro', 'amias', 'amiri', 'jimmy', 'vicente', 'khari', 'brendan', 'rey', 'ben', 'emery', 'zyair', 'bjorn', 'evander', 'ramon', 'alvin', 'ricky', 'jagger', 'brock', 'dakari', 'eddie', 'blaze', 'gatlin', 'alonso', 'curtis', 'kylian', 'nathanael', 'devon', 'wayne', 'zakai', 'mathew', 'rome', 'riggs', 'aryan', 'avi', 'hassan', 'lochlan', 'stanley', 'dash', 'kaiser', 'benicio', 'bryant', 'talon', 'rohan', 'wesson', 'joe', 'noe', 'melvin', 'vihaan', 'zayd', 'darren', 'enoch', 'mitchell', 'jedidiah', 'brodie', 'castiel', 'ira', 'lance', 'guillermo', 'thatcher', 'ermias', 'misael', 'jakari', 'emory', 'mccoy', 'rudy', 'thaddeus', 'valentin', 'yehuda', 'bode', 'madden', 'kase', 'bear', 'boden', 'jiraiya', 'maurice', 'alvaro', 'ameer', 'demetrius', 'eliseo', 'kabir', 'kellan', 'allan', 'azrael', 'calum', 'niklaus', 'ray', 'damari', 'elio', 'jon', 'leighton', 'axl', 'dane', 'eithan', 'eugene', 'kenji', 'jakob', 'colten', 'eliel', 'nova', 'santos', 'zahir', 'idris', 'ishaan', 'kole', 'korbin', 'seven', 'alaric', 'kellen', 'bronson', 'franco', 'wes', 'larry', 'mekhi', 'jamal', 'dilan', 'elisha', 'brennan', 'kace', 'van', 'felipe', 'fisher', 'cal', 'dior', 'judson', 'alfonso', 'deandre', 'rocky', 'henrik', 'reuben', 'anders', 'arian', 'damir', 'jacoby', 'khalid', 'kye', 'mustafa', 'jadiel', 'stefan', 'yousef', 'aydin', 'jericho', 'robin', 'wallace', 'alistair', 'davion', 'alfred', 'ernesto', 'kyng', 'everest', 'gary', 'leroy', 'yahir', 'braden', 'kelvin', 'kristian', 'adler', 'avyaan', 'brayan', 'jones', 'truett', 'aries', 'joey', 'randy', 'jaxx', 'jesiah', 'jovanni', 'azriel', 'brecken', 'harley', 'zechariah', 'gordon', 'jakai', 'carl', 'graysen', 'kylen', 'ayan', 'branson', 'crosby', 'dominik', 'jabari', 'jaxtyn', 'kristopher', 'ulises', 'zyon', 'fox', 'howard', 'salvatore', 'turner', 'vance', 'harlem', 'jair', 'jakobe', 'jeremias', 'osiris', 'azael', 'bowie', 'canaan', 'elon', 'granger', 'karsyn', 'zavier', 'cain', 'dangelo', 'heath', 'yisroel', 'gian', 'shepard', 'harold', 'kamdyn', 'rene', 'rodney', 'yaakov', 'adrien', 'kartier', 'cassian', 'coleson', 'ahmir', 'darian', 'genesis', 'kalel', 'agustin', 'wylder', 'yadiel', 'ephraim', 'kody', 'neo', 'ignacio', 'osman', 'aldo', 'abdullah', 'cory', 'blaine', 'dimitri', 'khai', 'landry', 'palmer', 'benedict', 'leif', 'koen', 'maxton', 'mordechai', 'zev', 'atharv', 'bishop', 'blaise', 'davian', 'foster', 'harris', 'kacey', 'mayson', 'merrick', 'ronnie', 'benny', 'juelz', 'lyle', 'rogelio', 'coen', 'marc', 'sevyn', 'stone', 'bobby', 'crue', 'duncan', 'abner', 'beaux', 'boaz', 'gerald', 'kaisen', 'nikko', 'zamir', 'eliezer', 'kyzer', 'murphy', 'terry', 'kamryn', 'reginald', 'yael', 'marlon', 'montgomery', 'london', 'ramiro', 'trent', 'imran', 'billy', 'cedric', 'jordy', 'jairo', 'jaxen', 'rhodes', 'campbell', 'cashton', 'danilo', 'ozias', 'syncere', 'zackary', 'keenan', 'alexzander', 'decker', 'greysen', 'lev', 'mikael', 'tristen', 'aspen', 'frankie', 'gannon', 'beck', 'brett', 'dion', 'hollis', 'maison', 'menachem', 'rian', 'terrance', 'dayton', 'shlomo', 'kayce', 'shai', 'shmuel', 'darwin', 'lyric', 'shimon', 'slade', 'will', 'ash', 'maxim', 'wiley', 'yahya', 'bentlee', 'pierre', 'westyn', 'kolten', 'ollie', 'karim', 'achilles', 'kolson', 'kooper', 'kross', 'rowdy', 'aurelio', 'true', 'yitzchok', 'adiel', 'lux', 'kyren', 'monroe', 'toby', 'zephyr', 'braydon', 'ernest', 'veer', 'wren', 'nazir', 'ralph', 'joan', 'jerome', 'kendall', 'mattias', 'tzvi', 'kolt', 'meir', 'ren', 'vaughn', 'jad', 'massimo', 'ryatt', 'casper', 'gianluca', 'jeffery', 'jenson', 'jrue', 'kruz', 'simeon', 'ulysses', 'cartier', 'draven', 'marley', 'riaan', 'dhruv', 'jermaine', 'jovani', 'kaine', 'kaius', 'markus', 'javon', 'lucien', 'benito', 'coleman', 'cristiano', 'deon', 'josias', 'knowledge', 'macklin', 'kaycen', 'mariano', 'zeus', 'dominique', 'justus', 'teo', 'terrell', 'edmund', 'hakeem', 'rolando', 'camdyn', 'giancarlo', 'lazarus', 'micheal', 'malakhi', 'amar', 'eleazar', 'niam', 'torin', 'amare', 'ivaan', 'nickolas', 'semaj', 'aayan', 'gus', 'isai', 'azaiah', 'carlo', 'gray', 'kilian', 'korbyn', 'teddy', 'benaiah', 'canyon', 'ever', 'gentry', 'zayan', 'demari', 'dwayne', 'eren', 'laith', 'malaki', 'norman', 'ezrah', 'gino', 'zen', 'izan', 'jai', 'kanan', 'reagan', 'randall', 'rishi', 'cayde', 'draco', 'jahmir', 'willie', 'arden', 'booker', 'bronx', 'immanuel', 'lenox', 'mike', 'avraham', 'cormac', 'gilbert', 'xzavier', 'andreas', 'anton', 'jet', 'rami', 'seamus', 'taj', 'uziel', 'waylen', 'aubrey', 'chad', 'giovani', 'kaizen', 'kenny', 'khaza', 'ansel', 'denim', 'giannis', 'isael', 'krish', 'link', 'raheem', 'tahj', 'elmer', 'javion', 'aksel', 'brent', 'loki', 'marquis', 'payton', 'sekani', 'viaan', 'benton', 'bilal', 'jakobi', 'pierson', 'anson', 'eliot', 'emil', 'isa', 'jethro', 'keon', 'maddux', 'noble', 'rogan', 'tiago', 'aizen', 'clifford', 'reyansh', 'axle', 'brentley', 'caysen', 'cedar', 'cian', 'harper', 'shia', 'skylar', 'zack', 'kallen', 'kolby', 'makari', 'monte', 'oren', 'brayson', 'deklan', 'efrain', 'garrison', 'krue', 'leeland', 'shaun', 'carmine', 'davon', 'dovid', 'kymani', 'oakland', 'sire', 'terrence', 'wylie', 'yaseen', 'arham', 'aydan', 'henri', 'nikola', 'perry', 'ross', 'taylen', 'truth', 'tylan', 'wolfgang', 'lamar', 'zakari', 'zavian', 'bernard', 'mars', 'akeem', 'asaiah', 'cortez', 'finnick', 'gibson', 'ishmael', 'jessiah', 'jessie', 'kyaire', 'antoine', 'chosen', 'matheo', 'tayden', 'dov', 'jael', 'jasiel', 'kenai', 'rylen', 'aleksander', 'brexton', 'ean', 'eason', 'kain', 'marcello', 'smith', 'viktor', 'jadon', 'jasir', 'laken', 'mikah', 'warner', 'yoel', 'ziggy', 'alton', 'barron', 'caius', 'hans', 'natanael', 'shea', 'sol', 'tyrone', 'amarion', 'gio', 'gonzalo', 'haven', 'jacari', 'karsen', 'lyam', 'milton', 'rodolfo', 'cru', 'deshawn', 'xavion', 'zayvion', 'zeppelin', 'aston', 'braxtyn', 'denzel', 'hansel', 'huxton', 'lucius', 'ramsey', 'ruger', 'sami', 'steve', 'tariq', 'braylin', 'deangelo', 'isiah', 'pharaoh', 'quintin', 'sunny', 'arman', 'coby', 'darien', 'umar', 'alessio', 'aryeh', 'cristobal', 'gilberto', 'ilan', 'jaire', 'kashmir', 'kenan', 'luther', 'nick', 'rashad', 'rylee', 'sidney', 'avion', 'bastian', 'carsen', 'carver', 'darrell', 'freddy']\n"
     ]
    }
   ],
   "source": [
    "#I already have a list of boynames. Hence to know 10% of it, I'm just removing 10% of the list. \n",
    "\n",
    "(0.1 * len(list_of_boynames))\n",
    "\n",
    "#We'll take the first 1400 values. \n",
    "\n",
    "MostPopularBoyNames = []\n",
    "MostPopularBoyNames = sorted_boys[0:1400]\n",
    "\n",
    "\n",
    "JustTheNames = []\n",
    "\n",
    "for everyname in MostPopularBoyNames :\n",
    "    JustTheNames.append(everyname[0])\n",
    "    \n",
    "print(JustTheNames)\n",
    "    "
   ]
  },
  {
   "cell_type": "markdown",
   "id": "148f096a",
   "metadata": {},
   "source": [
    "### Take the top 10% most popular girls names. How many boys were given one of those names?"
   ]
  },
  {
   "cell_type": "code",
   "execution_count": 123,
   "id": "237ff366",
   "metadata": {},
   "outputs": [
    {
     "name": "stdout",
     "output_type": "stream",
     "text": [
      "There are 712 boys with the same name\n",
      "['harper', 'avery', 'nova', 'riley', 'aubrey', 'skylar', 'genesis', 'quinn', 'emery', 'rylee', 'peyton', 'parker', 'eden', 'remi', 'reagan', 'charlie', 'reese', 'river', 'emerson', 'sage', 'taylor', 'oakley', 'blake', 'aspen', 'morgan', 'finley', 'marley', 'sawyer', 'london', 'ariel', 'lennon', 'rowan', 'sutton', 'wren', 'payton', 'dakota', 'tatum', 'haven', 'hayden', 'kendall', 'harley', 'phoenix', 'logan', 'palmer', 'amari', 'alexis', 'remington', 'reign', 'leighton', 'rory', 'shiloh', 'lyric', 'jordan', 'legacy', 'kamryn', 'cameron', 'armani', 'emory', 'ari', 'angel', 'ryan', 'carter', 'salem', 'briar', 'monroe', 'dior', 'remy', 'elliott', 'skyler', 'dylan', 'frankie', 'ellis', 'lennox', 'karsyn', 'dallas', 'sunny', 'milan', 'sevyn', 'noah', 'jamie', 'ezra', 'murphy', 'justice', 'azariah', 'bellamy', 'kai', 'elliot', 'denver', 'jessie', 'drew', 'hunter', 'kamari', 'layne', 'royal', 'august', 'karter', 'ocean', 'chandler', 'baylor', 'robin', 'rylan', 'landry', 'micah', 'ryder', 'gianni', 'casey', 'shea', 'spencer', 'sol', 'arden', 'kingsley', 'tru', 'quincy', 'memphis', 'true', 'campbell', 'kacey', 'atlas', 'sterling', 'rowen', 'joey', 'laken', 'amiri', 'noel', 'finnley', 'carson', 'onyx', 'ira', 'miller', 'santana', 'hollis', 'sidney', 'austin', 'joan', 'jayden', 'khari', 'tyler', 'zion', 'lincoln', 'harlem', 'ashton', 'gentry', 'yael', 'bowie', 'bentley', 'bennett', 'everest', 'cooper', 'jael', 'wesley', 'alex', 'reece', 'jude', 'beckett', 'rio', 'walker', 'camden', 'kyrie', 'ramsey', 'luca', 'ever', 'aries', 'lane', 'maddox', 'perry', 'lux', 'baker', 'ali', 'hudson', 'asher', 'kyler', 'camdyn', 'dawson', 'hendrix', 'maverick', 'kayden', 'anderson', 'arlo', 'shai', 'grayson', 'asa', 'jaylen', 'evan', 'francis', 'madden', 'toby', 'wyatt', 'dominique', 'wilder', 'kamdyn', 'devin', 'everett', 'hayes', 'landyn', 'grey', 'layton', 'ollie', 'banks', 'levi', 'sullivan', 'jasper', 'elisha', 'jesiah', 'ren', 'rian', 'isa', 'jensen', 'paxton', 'ronnie', 'adrian', 'keegan', 'seven', 'denim', 'mason', 'cairo', 'cedar', 'james', 'jesse', 'rey', 'brady', 'jameson', 'theo', 'porter', 'bryce', 'truth', 'braylen', 'kobe', 'huxley', 'koa', 'brooks', 'loyal', 'beau', 'bradley', 'israel', 'jaime', 'colby', 'koda', 'legend', 'rhys', 'bodhi', 'easton', 'max', 'ozzy', 'sonny', 'boston', 'callan', 'zen', 'blaise', 'callahan', 'shia', 'tanner', 'wylie', 'ayden', 'devon', 'dillon', 'kayce', 'landon', 'lian', 'maxwell', 'braylin', 'christian', 'karson', 'raylan', 'gray', 'jett', 'royce', 'chase', 'kameron', 'lenox', 'avi', 'bo', 'chosen', 'ezrah', 'taylen', 'zeppelin', 'crosby', 'harlan', 'cohen', 'declan', 'jayce', 'judah', 'karsen', 'soren', 'jai', 'orion', 'owen', 'zephyr', 'jaiden', 'ryker', 'sincere', 'teddy', 'brixton', 'carsen', 'kymani', 'milo', 'oakland', 'rome', 'semaj', 'tate', 'maison', 'mikah', 'archer', 'barrett', 'nico', 'tristan', 'adler', 'chance', 'montgomery', 'nolan', 'rayan', 'cruz', 'jrue', 'lawson', 'reid', 'ryland', 'kairo', 'kyle', 'leo', 'luka', 'messiah', 'rylen', 'alden', 'ayan', 'alijah', 'bentlee', 'bowen', 'brennan', 'julian', 'korbyn', 'liam', 'mars', 'roman', 'waylon', 'azrael', 'blaine', 'greyson', 'houston', 'jaden', 'kartier', 'kash', 'ziggy', 'eli', 'elijah', 'jonah', 'jordy', 'nehemiah', 'aiden', 'andy', 'ares', 'augustine', 'azriel', 'cartier', 'reed', 'rocky', 'ryatt', 'cayden', 'clark', 'kody', 'ray', 'sekani', 'callen', 'cody', 'kolby', 'lucca', 'michael', 'oliver', 'syncere', 'wiley', 'zyaire', 'arian', 'beck', 'blaze', 'corey', 'jamison', 'khaza', 'vaughn', 'beckham', 'brecken', 'keaton', 'knox', 'taj', 'uriah', 'wylder', 'ace', 'aryan', 'holden', 'jace', 'jericho', 'khai', 'kooper', 'mayson', 'preston', 'raiden', 'ronin', 'aidan', 'alexander', 'beaux', 'edison', 'finn', 'griffin', 'louie', 'merrick', 'turner', 'william', 'adriel', 'brett', 'harvey', 'jiraiya', 'kaiden', 'pierce', 'davis', 'dayton', 'gabriel', 'killian', 'kylan', 'kyree', 'myles', 'niko', 'ronan', 'shane', 'stone', 'westyn', 'corbin', 'dorian', 'eliot', 'emmett', 'graysen', 'knowledge', 'kohen', 'lamar', 'leland', 'nash', 'rhodes', 'saint', 'sam', 'brodie', 'canyon', 'damari', 'danny', 'foster', 'jackson', 'justus', 'lachlan', 'makari', 'miles', 'nixon', 'wells', 'aaron', 'greysen', 'jakari', 'jamari', 'jones', 'rayden', 'rhett', 'rudy', 'sami', 'zaire', 'zayn', 'amar', 'amir', 'ayaan', 'bishop', 'briggs', 'bronx', 'connor', 'fletcher', 'gatlin', 'giovanni', 'henry', 'jack', 'kristian', 'lee', 'rene', 'zyon', 'billy', 'cannon', 'crew', 'decker', 'dion', 'felix', 'kamden', 'noble', 'silas', 'talon', 'ash', 'axel', 'brayden', 'brentley', 'cory', 'dakari', 'kashmir', 'omari', 'abel', 'cole', 'daniel', 'ethan', 'flynn', 'forest', 'fox', 'harris', 'harrison', 'jasiah', 'jay', 'kaysen', 'kellen', 'kingston', 'kylen', 'loki', 'nikola', 'sebastian', 'stetson', 'tommy', 'winston', 'aden', 'aston', 'atticus', 'benjamin', 'caden', 'christopher', 'elias', 'forrest', 'jax', 'josiah', 'juelz', 'kace', 'kannon', 'kayson', 'mccoy', 'noe', 'rogan', 'zayne', 'aziel', 'brantley', 'chris', 'collin', 'crue', 'cyrus', 'darian', 'david', 'graham', 'isaiah', 'jagger', 'jalen', 'jaxon', 'kellan', 'lochlan', 'maddux', 'mylo', 'osiris', 'tucker', 'uriel', 'warren', 'westley', 'xander', 'xavier', 'amare', 'azaiah', 'bridger', 'cade', 'caleb', 'cash', 'dean', 'gael', 'jaxson', 'jet', 'john', 'kade', 'kendrick', 'krew', 'kruz', 'kylo', 'landen', 'lawrence', 'makai', 'matthew', 'pierson', 'shaun', 'torin', 'waylen', 'zain', 'zyair', 'ambrose', 'archie', 'braxton', 'caiden', 'callum', 'conner', 'dominic', 'eren', 'gibson', 'grady', 'jacob', 'jessiah', 'joseph', 'kashton', 'kieran', 'korbin', 'kross', 'kyaire', 'kye', 'lyle', 'malachi', 'rowdy', 'sylas', 'theodore', 'truett', 'van', 'wallace', 'zakari', 'zane', 'adonis', 'andrew', 'bobby', 'bodie', 'braxtyn', 'brody', 'bryson', 'canaan', 'cru', 'demari', 'dennis', 'eddie', 'george', 'gideon', 'jakai', 'jaziel', 'jeremiah', 'joel', 'johnny', 'jose', 'jovani', 'kaden', 'lev', 'luke', 'ross', 'tahj', 'tristen', 'troy', 'weston', 'adiel', 'adrien', 'apollo', 'benny', 'benson', 'calvin', 'coby', 'colton', 'dalton', 'dash', 'emmanuel', 'ezekiel', 'franklin', 'gunner', 'ian', 'jase', 'jesus', 'jovanni', 'julien', 'kallen', 'kole', 'langston', 'ledger', 'luis', 'mateo', 'nasir', 'nathan', 'randy', 'samuel', 'smith', 'wilson', 'zakai', 'anthony', 'asaiah', 'aydan', 'boone', 'bryan', 'cason', 'casper', 'cassius', 'clayton', 'coen', 'colin', 'dilan', 'draven', 'elon', 'emmitt', 'finnegan', 'henri', 'idris', 'jacari', 'jonathan', 'kaycen', 'kenai', 'khalil', 'kian', 'king', 'leeland', 'lucas', 'major', 'malakai', 'marshall', 'monte', 'neo', 'oren', 'rami', 'santiago', 'shawn', 'thomas', 'titan', 'tyson', 'wade', 'zayden']\n"
     ]
    }
   ],
   "source": [
    "GirlComparison = []\n",
    "\n",
    "for everyname in girls.keys():\n",
    "    if everyname in JustTheNames:\n",
    "        GirlComparison.append(everyname)\n",
    "        \n",
    "print(f\"There are {len(GirlComparison)} boys with the same name\")\n",
    "print(GirlComparison)"
   ]
  },
  {
   "cell_type": "code",
   "execution_count": 104,
   "id": "6aeb9c02",
   "metadata": {},
   "outputs": [
    {
     "name": "stdout",
     "output_type": "stream",
     "text": [
      "['olivia', 'emma', 'charlotte', 'amelia', 'ava', 'sophia', 'isabella', 'mia', 'evelyn', 'harper', 'luna', 'camila', 'gianna', 'elizabeth', 'eleanor', 'ella', 'abigail', 'sofia', 'avery', 'scarlett', 'emily', 'aria', 'penelope', 'chloe', 'layla', 'mila', 'nora', 'hazel', 'madison', 'ellie', 'lily', 'nova', 'isla', 'grace', 'violet', 'aurora', 'riley', 'zoey', 'willow', 'emilia', 'stella', 'zoe', 'victoria', 'hannah', 'addison', 'leah', 'lucy', 'eliana', 'ivy', 'everly', 'lillian', 'paisley', 'elena', 'naomi', 'maya', 'natalie', 'kinsley', 'delilah', 'claire', 'audrey', 'aaliyah', 'ruby', 'brooklyn', 'alice', 'aubrey', 'autumn', 'leilani', 'savannah', 'valentina', 'kennedy', 'madelyn', 'josephine', 'bella', 'skylar', 'genesis', 'sophie', 'hailey', 'sadie', 'natalia', 'quinn', 'caroline', 'allison', 'gabriella', 'anna', 'serenity', 'nevaeh', 'cora', 'ariana', 'emery', 'lydia', 'jade', 'sarah', 'eva', 'adeline', 'madeline', 'piper', 'rylee', 'athena', 'peyton', 'everleigh', 'vivian', 'clara', 'raelynn', 'liliana', 'samantha', 'maria', 'iris', 'ayla', 'eloise', 'lyla', 'eliza', 'hadley', 'melody', 'julia', 'parker', 'rose', 'isabelle', 'brielle', 'adalynn', 'arya', 'eden', 'remi', 'mackenzie', 'maeve', 'margaret', 'reagan', 'charlie', 'alaia', 'melanie', 'josie', 'elliana', 'cecilia', 'mary', 'daisy', 'alina', 'lucia', 'ximena', 'juniper', 'kaylee', 'magnolia', 'summer', 'adalyn', 'sloane', 'amara', 'arianna', 'isabel', 'reese', 'emersyn', 'sienna', 'kehlani', 'river', 'freya', 'valerie', 'blakely', 'genevieve', 'esther', 'valeria', 'katherine', 'kylie', 'norah', 'amaya', 'bailey', 'ember', 'ryleigh', 'georgia', 'catalina', 'emerson', 'alexandra', 'faith', 'jasmine', 'ariella', 'ashley', 'andrea', 'millie', 'june', 'khloe', 'callie', 'juliette', 'sage', 'ada', 'anastasia', 'olive', 'alani', 'brianna', 'rosalie', 'molly', 'brynlee', 'amy', 'ruth', 'aubree', 'gemma', 'taylor', 'oakley', 'margot', 'arabella', 'sara', 'journee', 'harmony', 'blake', 'alaina', 'aspen', 'noelle', 'selena', 'oaklynn', 'morgan', 'londyn', 'zuri', 'aliyah', 'jordyn', 'juliana', 'finley', 'presley', 'zara', 'leila', 'marley', 'sawyer', 'amira', 'lilly', 'london', 'kimberly', 'elsie', 'ariel', 'lila', 'alana', 'diana', 'kamila', 'nyla', 'vera', 'hope', 'annie', 'kaia', 'myla', 'alyssa', 'angela', 'ana', 'lennon', 'evangeline', 'harlow', 'rachel', 'gracie', 'rowan', 'laila', 'elise', 'sutton', 'lilah', 'adelyn', 'phoebe', 'octavia', 'sydney', 'mariana', 'wren', 'lainey', 'vanessa', 'teagan', 'kayla', 'malia', 'elaina', 'saylor', 'brooke', 'lola', 'miriam', 'alayna', 'adelaide', 'daniela', 'jane', 'payton', 'journey', 'lilith', 'delaney', 'dakota', 'mya', 'charlee', 'alivia', 'annabelle', 'kailani', 'lucille', 'trinity', 'gia', 'tatum', 'raegan', 'camille', 'kaylani', 'kali', 'stevie', 'maggie', 'haven', 'tessa', 'daphne', 'adaline', 'hayden', 'joanna', 'jocelyn', 'lena', 'evie', 'juliet', 'fiona', 'cataleya', 'angelina', 'leia', 'paige', 'julianna', 'milani', 'talia', 'rebecca', 'kendall', 'harley', 'lia', 'phoenix', 'dahlia', 'logan', 'camilla', 'thea', 'jayla', 'brooklynn', 'blair', 'vivienne', 'hallie', 'madilyn', 'mckenna', 'evelynn', 'ophelia', 'celeste', 'alayah', 'winter', 'catherine', 'collins', 'nina', 'briella', 'palmer', 'noa', 'mckenzie', 'kiara', 'amari', 'adriana', 'gracelynn', 'lauren', 'cali', 'kalani', 'aniyah', 'nicole', 'alexis', 'mariah', 'gabriela', 'wynter', 'amina', 'ariyah', 'adelynn', 'remington', 'reign', 'alaya', 'dream', 'alexandria', 'willa', 'avianna', 'makayla', 'gracelyn', 'elle', 'amiyah', 'arielle', 'elianna', 'giselle', 'brynn', 'ainsley', 'aitana', 'charli', 'demi', 'makenna', 'rosemary', 'danna', 'izabella', 'lilliana', 'melissa', 'samara', 'lana', 'mabel', 'everlee', 'fatima', 'leighton', 'esme', 'raelyn', 'madeleine', 'nayeli', 'camryn', 'kira', 'annalise', 'selah', 'serena', 'royalty', 'rylie', 'celine', 'laura', 'brinley', 'frances', 'michelle', 'heidi', 'rory', 'sabrina', 'destiny', 'gwendolyn', 'alessandra', 'poppy', 'amora', 'nylah', 'luciana', 'maisie', 'miracle', 'joy', 'liana', 'raven', 'shiloh', 'allie', 'daleyza', 'kate', 'lyric', 'alicia', 'lexi', 'addilyn', 'anaya', 'malani', 'paislee', 'elisa', 'kayleigh', 'azalea', 'francesca', 'jordan', 'regina', 'viviana', 'aylin', 'skye', 'daniella', 'makenzie', 'veronica', 'legacy', 'maia', 'ariah', 'alessia', 'carmen', 'astrid', 'maren', 'helen', 'felicity', 'alexa', 'danielle', 'lorelei', 'paris', 'adelina', 'bianca', 'gabrielle', 'jazlyn', 'scarlet', 'bristol', 'navy', 'esmeralda', 'colette', 'stephanie', 'jolene', 'marlee', 'sarai', 'hattie', 'nadia', 'rosie', 'kamryn', 'kenzie', 'alora', 'holly', 'matilda', 'sylvia', 'cameron', 'armani', 'emelia', 'keira', 'braelynn', 'jacqueline', 'alison', 'amanda', 'cassidy', 'emory', 'ari', 'haisley', 'jimena', 'jessica', 'elaine', 'dorothy', 'mira', 'eve', 'oaklee', 'averie', 'charleigh', 'lyra', 'madelynn', 'angel', 'edith', 'jennifer', 'raya', 'ryan', 'heaven', 'kyla', 'wrenley', 'meadow', 'carter', 'kora', 'saige', 'kinley', 'maci', 'mae', 'salem', 'aisha', 'adley', 'carolina', 'sierra', 'alma', 'helena', 'bonnie', 'mylah', 'briar', 'aurelia', 'leona', 'macie', 'maddison', 'april', 'aviana', 'lorelai', 'alondra', 'kennedi', 'monroe', 'emely', 'maliyah', 'ailani', 'madilynn', 'renata', 'katie', 'zariah', 'imani', 'amber', 'analia', 'ariya', 'anya', 'emberly', 'emmy', 'mara', 'maryam', 'dior', 'mckinley', 'virginia', 'amalia', 'mallory', 'opal', 'shelby', 'clementine', 'remy', 'xiomara', 'elliott', 'elora', 'katalina', 'antonella', 'skyler', 'hanna', 'kaliyah', 'alanna', 'haley', 'itzel', 'cecelia', 'jayleen', 'kensley', 'beatrice', 'journi', 'dylan', 'ivory', 'yaretzi', 'meredith', 'sasha', 'gloria', 'oaklyn', 'sloan', 'abby', 'davina', 'lylah', 'erin', 'reyna', 'kaitlyn', 'michaela', 'nia', 'fernanda', 'jaliyah', 'jenna', 'sylvie', 'miranda', 'anne', 'mina', 'myra', 'aleena', 'alia', 'frankie', 'ellis', 'kathryn', 'nalani', 'nola', 'jemma', 'lennox', 'marie', 'angelica', 'cassandra', 'calliope', 'adrianna', 'ivanna', 'zelda', 'faye', 'karsyn', 'oakleigh', 'dayana', 'amirah', 'megan', 'siena', 'reina', 'rhea', 'julieta', 'malaysia', 'henley', 'liberty', 'leslie', 'alejandra', 'kelsey', 'charley', 'capri', 'priscilla', 'zariyah', 'savanna', 'emerie', 'christina', 'skyla', 'macy', 'mariam', 'melina', 'chelsea', 'dallas', 'laurel', 'briana', 'holland', 'lilian', 'amaia', 'blaire', 'margo', 'louise', 'rosalia', 'aleah', 'bethany', 'flora', 'kylee', 'kendra', 'sunny', 'laney', 'tiana', 'chaya', 'ellianna', 'milan', 'aliana', 'estella', 'julie', 'yara', 'rosa', 'cheyenne', 'emmie', 'carly', 'janelle', 'kyra', 'naya', 'malaya', 'sevyn', 'lina', 'mikayla', 'jayda', 'leyla', 'eileen', 'irene', 'karina', 'aileen', 'aliza', 'kataleya', 'kori', 'indie', 'lara', 'romina', 'jada', 'kimber', 'amani', 'liv', 'treasure', 'louisa', 'marleigh', 'winnie', 'kassidy', 'noah', 'monica', 'keilani', 'zahra', 'zaylee', 'hadassah', 'jamie', 'allyson', 'anahi', 'maxine', 'karla', 'khaleesi', 'johanna', 'penny', 'hayley', 'marilyn', 'della', 'freyja', 'jazmin', 'kenna', 'ashlyn', 'florence', 'ezra', 'melany', 'murphy', 'sky', 'marina', 'noemi', 'coraline', 'selene', 'bridget', 'alaiya', 'angie', 'fallon', 'thalia', 'rayna', 'martha', 'halle', 'estrella', 'joelle', 'kinslee', 'roselyn', 'theodora', 'jolie', 'dani', 'elodie', 'halo', 'nala', 'promise', 'justice', 'nellie', 'novah', 'estelle', 'jenesis', 'miley', 'hadlee', 'janiyah', 'waverly', 'braelyn', 'pearl', 'aila', 'katelyn', 'sariyah', 'azariah', 'bexley', 'giana', 'lea', 'cadence', 'mavis', 'ila', 'rivka', 'jovie', 'yareli', 'bellamy', 'kamiyah', 'kara', 'baylee', 'jianna', 'kai', 'alena', 'novalee', 'elliot', 'livia', 'ashlynn', 'denver', 'emmalyn', 'persephone', 'marceline', 'jazmine', 'kiana', 'mikaela', 'aliya', 'galilea', 'harlee', 'jaylah', 'lillie', 'mercy', 'ensley', 'bria', 'kallie', 'celia', 'berkley', 'ramona', 'jaylani', 'jessie', 'aubrie', 'madisyn', 'paulina', 'averi', 'aya', 'chana', 'milana', 'cleo', 'iyla', 'cynthia', 'hana', 'lacey', 'andi', 'giuliana', 'milena', 'leilany', 'saoirse', 'adele', 'drew', 'bailee', 'hunter', 'rayne', 'anais', 'kamari', 'paula', 'rosalee', 'teresa', 'zora', 'avah', 'belen', 'greta', 'layne', 'scout', 'zaniyah', 'amelie', 'dulce', 'chanel', 'clare', 'rebekah', 'giovanna', 'ellison', 'isabela', 'kaydence', 'rosalyn', 'royal', 'alianna', 'august', 'nyra', 'vienna', 'amoura', 'anika', 'harmoni', 'kelly', 'linda', 'aubriella', 'kairi', 'ryann', 'avayah', 'gwen', 'whitley', 'noor', 'khalani', 'marianna', 'addyson', 'annika', 'karter', 'vada', 'tiffany', 'artemis', 'clover', 'laylah', 'paisleigh', 'elyse', 'kaisley', 'veda', 'zendaya', 'simone', 'alexia', 'alisson', 'angelique', 'ocean', 'elia', 'lilianna', 'maleah', 'avalynn', 'marisol', 'goldie', 'malayah', 'emmeline', 'paloma', 'raina', 'brynleigh', 'chandler', 'valery', 'adalee', 'tinsley', 'violeta', 'baylor', 'lauryn', 'marlowe', 'birdie', 'jaycee', 'lexie', 'loretta', 'lilyana', 'princess', 'shay', 'hadleigh', 'natasha', 'indigo', 'zaria', 'addisyn', 'deborah', 'leanna', 'barbara', 'kimora', 'emerald', 'raquel', 'julissa', 'robin', 'austyn', 'dalia', 'nyomi', 'ellen', 'kynlee', 'salma', 'luella', 'zayla', 'addilynn', 'giavanna', 'samira', 'amaris', 'madalyn', 'scarlette', 'stormi', 'etta', 'ayleen', 'brittany', 'brylee', 'araceli', 'egypt', 'iliana', 'paityn', 'zainab', 'billie', 'haylee', 'india', 'kaiya', 'nancy', 'clarissa', 'mazikeen', 'taytum', 'aubrielle', 'rylan', 'ainhoa', 'aspyn', 'elina', 'elsa', 'magdalena', 'kailey', 'arleth', 'joyce', 'judith', 'crystal', 'emberlynn', 'landry', 'paola', 'braylee', 'guinevere', 'aarna', 'aiyana', 'kahlani', 'lyanna', 'sariah', 'itzayana', 'aniya', 'frida', 'jaylene', 'kiera', 'loyalty', 'azaria', 'jaylee', 'kamilah', 'keyla', 'kyleigh', 'micah', 'nataly', 'kathleen', 'zoya', 'meghan', 'soraya', 'zoie', 'arlette', 'zola', 'luisa', 'vida', 'ryder', 'tatiana', 'tori', 'aarya', 'eleanora', 'sandra', 'soleil', 'annabella', 'ansley', 'ingrid', 'jaylin', 'jillian', 'majesty', 'avani', 'jaelynn', 'saanvi', 'cordelia', 'gianni', 'kaya', 'kaylie', 'nori', 'elisabeth', 'aislinn', 'jream', 'rosalina', 'casey', 'love', 'lilia', 'maisy', 'marigold', 'alyson', 'amayah', 'whitney', 'cara', 'corinne', 'lakelynn', 'lisa', 'tallulah', 'claudia', 'emiliana', 'violette', 'guadalupe', 'luz', 'ayah', 'jazlynn', 'shea', 'amal', 'aura', 'ehlani', 'maddie', 'marcella', 'nairobi', 'sarahi', 'yasmin', 'belle', 'elowyn', 'lakelyn', 'spencer', 'harriet', 'laylani', 'rae', 'sol', 'dixie', 'emberlyn', 'yamileth', 'nathalia', 'zhuri', 'dalary', 'emani', 'indy', 'korra', 'lenora', 'maylee', 'vayda', 'winifred', 'araya', 'blessing', 'micaela', 'rowyn', 'xyla', 'ruthie', 'danica', 'jaelyn', 'jhene', 'raylee', 'dana', 'miah', 'keily', 'kenia', 'mattie', 'patience', 'taliyah', 'emmaline', 'jana', 'seraphina', 'arden', 'desiree', 'everley', 'karen', 'leylani', 'lottie', 'meilani', 'aliah', 'carsyn', 'jurnee', 'kingsley', 'ann', 'keziah', 'myah', 'nathaly', 'sapphire', 'susan', 'aleia', 'ayra', 'erika', 'esperanza', 'melani', 'rilynn', 'ariadna', 'rhiannon', 'heavenly', 'ayana', 'emmalynn', 'renee', 'tru', 'zaira', 'beatrix', 'darcy', 'harleigh', 'joselyn', 'malka', 'quincy', 'carla', 'carolyn', 'ida', 'memphis', 'devyn', 'elouise', 'leena', 'lizbeth', 'nathalie', 'queen', 'reya', 'tilly', 'scottie', 'true', 'christine', 'kaylin', 'aylah', 'ellery', 'karlee', 'ciara', 'londynn', 'sailor', 'agnes', 'amethyst', 'annalee', 'antonia', 'arely', 'ariadne', 'jubilee', 'riya', 'zyla', 'aminah', 'campbell', 'meera', 'tara', 'aadhya', 'jayde', 'patricia', 'raylynn', 'robyn', 'dalilah', 'emilie', 'janessa', 'kacey', 'khadija', 'madalynn', 'milah', 'viola', 'ayanna', 'kinsleigh', 'maliah', 'alaiyah', 'alannah', 'amiya', 'mollie', 'neveah', 'roxanne', 'adrienne', 'betty', 'ivana', 'lailah', 'bernadette', 'hailee', 'libby', 'yuna', 'celina', 'chiara', 'margaux', 'adela', 'akira', 'andie', 'evalyn', 'vivianna', 'lillianna', 'elayna', 'kamora', 'kassandra', 'erica', 'kinzley', 'miya', 'zahara', 'brenda', 'farrah', 'perla', 'maelynn', 'rubi', 'cherish', 'journei', 'wendy', 'kaleah', 'kamilla', 'katerina', 'lailani', 'lindsey', 'jewel', 'sally', 'alba', 'caylee', 'cielo', 'inaya', 'kaelyn', 'maisyn', 'siya', 'sonia', 'alisa', 'arlet', 'avalyn', 'alya', 'denise', 'gaia', 'marjorie', 'mercedes', 'xena', 'amia', 'ayva', 'beverly', 'cassie', 'elani', 'tenley', 'anniston', 'atlas', 'darla', 'emberlee', 'lianna', 'marissa', 'alisha', 'alyvia', 'cambria', 'evalynn', 'kadence', 'mariella', 'mazie', 'nahla', 'sharon', 'aylani', 'amyra', 'evelina', 'jasmin', 'layan', 'abril', 'elowen', 'emilee', 'solana', 'zella', 'moriah', 'sterling', 'dalett', 'kamille', 'nayla', 'rowen', 'rylynn', 'arisbeth', 'dania', 'yaritza', 'ziva', 'kailyn', 'tinley', 'aida', 'giada', 'journie', 'dina', 'jessa', 'joey', 'laken', 'leela', 'prisha', 'hensley', 'selina', 'colbie', 'emi', 'emmarie', 'amiri', 'irie', 'kalia', 'lettie', 'noel', 'vaeda', 'finnley', 'giulia', 'janae', 'jovi', 'karlie', 'marian', 'winona', 'elinor', 'georgina', 'heather', 'karma', 'mireya', 'ripley', 'carson', 'eleni', 'kiyomi', 'kristina', 'rosalind', 'adira', 'annette', 'onyx', 'denisse', 'kaira', 'saniyah', 'serafina', 'yasmine', 'annabel', 'carina', 'ira', 'adilynn', 'kyndall', 'lilyanna', 'zarah', 'aimee', 'imogen', 'miller', 'santana', 'sia', 'tegan', 'zaya', 'honesty', 'yusra', 'addie', 'bayleigh', 'elissa', 'hollis', 'inara', 'kaylynn', 'kollyns', 'nailah', 'samiyah', 'aanya', 'addalyn', 'adilene', 'jazzlyn', 'juana', 'kenya', 'sidney', 'silvia', 'tabitha', 'valencia', 'amiah', 'brynnlee', 'leilah', 'marlie', 'renesmee', 'stacy', 'bryleigh', 'kailany', 'kasey', 'lorraine', 'mirha', 'raine', 'lorena', 'amarah', 'ameera', 'brayleigh', 'farah', 'kylah', 'maizie', 'adalina', 'asha', 'kaycee', 'lavender', 'legaci', 'maryjane', 'roslyn', 'shayla', 'kailee', 'zinnia', 'angeline', 'austin', 'carlee', 'joan', 'katrina', 'lucie', 'pepper', 'roselynn', 'vivien', 'ariela', 'brenna', 'dariana', 'joslyn', 'liah', 'melania', 'anita', 'aubri', 'belinda', 'blayke', 'cristina', 'ireland', 'jayden', 'rori', 'grecia', 'safiya', 'wrenlee', 'diamond', 'inaaya', 'khari', 'xochitl', 'aranza', 'clarke', 'katarina', 'montana', 'montserrat', 'novaleigh', 'odette', 'petra', 'rita', 'annelise', 'anyla', 'echo', 'emeri', 'evangelina', 'rain', 'symphony', 'anayah', 'ashtyn', 'elara', 'essence', 'gwyneth', 'lindsay', 'mariyah', 'marlow', 'navi', 'zia', 'alissa', 'arwen', 'evaluna', 'lesly', 'romy', 'salome', 'susanna', 'tala', 'theresa', 'ailany', 'ally', 'delia', 'jersey', 'rosalynn', 'tyler', 'aryah', 'jenny', 'kapri', 'kelani', 'kodi', 'naila', 'shoshana', 'zion', 'asia', 'carmella', 'kenley', 'lincoln', 'monserrat', 'rebeca', 'suri', 'ailyn', 'baila', 'diya', 'ivey', 'kayleen', 'milagros', 'riverlynn', 'addalynn', 'aleyna', 'althea', 'ayesha', 'breanna', 'ester', 'shyla', 'tess', 'audra', 'harlem', 'janiya', 'nicolette', 'amilia', 'dailyn', 'fern', 'jalayah', 'khalia', 'kya', 'lula', 'martina', 'sanai', 'storm', 'vivianne', 'brynley', 'emme', 'kalina', 'krystal', 'larissa', 'gitty', 'ines', 'mari', 'marlene', 'adalie', 'anaiah', 'ashton', 'bryn', 'calista', 'eliyanah', 'gentry', 'lotus', 'yael', 'zelie', 'agatha', 'aryana', 'bowie', 'devorah', 'jalani', 'jaylynn', 'julietta', 'kianna', 'liya', 'liza', 'maite', 'maple', 'mika', 'stori', 'amor', 'azul', 'cattleya', 'hollyn', 'isabell', 'isadora', 'laynie', 'preslee', 'raleigh', 'venus', 'alessa', 'alessi', 'bentley', 'brinlee', 'calla', 'carmela', 'esmae', 'jordynn', 'julianne', 'millicent', 'raeleigh', 'sofie', 'yarely', 'arizbeth', 'aryanna', 'bennett', 'blakelyn', 'cori', 'elin', 'everest', 'kamiya', 'kari', 'nelly', 'rhyan', 'rhylee', 'adina', 'avyanna', 'charity', 'eisley', 'kristen', 'mileena', 'oriana', 'rihanna', 'addelyn', 'audrina', 'eliette', 'honey', 'jamila', 'keren', 'linnea', 'sahara', 'tia', 'zadie', 'aislynn', 'alanah', 'anneliese', 'cooper', 'dara', 'geneva', 'geraldine', 'italy', 'jael', 'nariah', 'rayleigh', 'skylynn', 'wesley', 'zylah', 'alex', 'arie', 'bryanna', 'inez', 'jupiter', 'kaelynn', 'kaliah', 'laine', 'marcela', 'rebel', 'reece', 'violetta', 'coral', 'hafsa', 'janie', 'karmen', 'lakyn', 'maelyn', 'mariela', 'mayra', 'nadine', 'sherlyn', 'tillie', 'yuliana', 'alaysia', 'avaya', 'lori', 'marion', 'natalee', 'paulette', 'yvette', 'zaina', 'ziya', 'aracely', 'cecily', 'damaris', 'jude', 'kenzley', 'lucero', 'lucinda', 'merritt', 'nechama', 'star', 'zaynab', 'aadya', 'adore', 'ahlani', 'briley', 'caitlyn', 'dayanna', 'emry', 'kalea', 'marin', 'odessa', 'rosemarie', 'toni', 'wilhelmina', 'alaiah', 'aleyah', 'aviva', 'beckett', 'elyana', 'juno', 'laikyn', 'moira', 'avalon', 'edie', 'lidia', 'neriah', 'noelani', 'sybil', 'yuri', 'amariah', 'carley', 'charlize', 'elana', 'jaleah', 'kailynn', 'karis', 'leticia', 'liyana', 'rio', 'saira', 'skylah', 'walker', 'annalia', 'bree', 'camden', 'cienna', 'courtney', 'danae', 'emori', 'eris', 'iva', 'jailyn', 'judy', 'karley', 'khadijah', 'kyrie', 'may', 'noelia', 'nyah', 'priya', 'shannon', 'temperance', 'unique', 'haddie', 'letty', 'ramsey', 'rayla', 'safa', 'alara', 'ananya', 'annabeth', 'empress', 'iyanna', 'lois', 'malky', 'sunnie', 'yazmin', 'amya', 'anabella', 'asiya', 'camellia', 'eila', 'harlyn', 'kenzi', 'khelani', 'milly', 'natalya', 'zhavia', 'alanis', 'ameerah', 'chevelle', 'ela', 'elly', 'janyla', 'leni', 'lizeth', 'regan', 'rue', 'serene', 'tahlia', 'isha', 'jahzara', 'karleigh', 'laniyah']\n"
     ]
    }
   ],
   "source": [
    "#I already have a list of girlnames. Hence to know 10% of it, I'm just removing 10% of the list. \n",
    "\n",
    "(0.1 * len(list_of_girlnames))\n",
    "\n",
    "#We'll take the first 1754 values. \n",
    "\n",
    "MostPopularGirlNames = []\n",
    "MostPopularGirlNames = sorted_girls[0:1754]\n",
    "\n",
    "JustTheGirlNames = []\n",
    "\n",
    "for everyname in MostPopularGirlNames :\n",
    "    JustTheGirlNames.append(everyname[0])\n",
    "    \n",
    "print(JustTheGirlNames)"
   ]
  },
  {
   "cell_type": "code",
   "execution_count": 122,
   "id": "2a9ff86e",
   "metadata": {},
   "outputs": [
    {
     "name": "stdout",
     "output_type": "stream",
     "text": [
      "There are 517 boys with the same name\n",
      "['noah', 'logan', 'ezra', 'carter', 'jayden', 'dylan', 'lincoln', 'cameron', 'ryan', 'angel', 'cooper', 'kai', 'wesley', 'hunter', 'jordan', 'bennett', 'parker', 'austin', 'carson', 'rowan', 'micah', 'river', 'ryder', 'sawyer', 'august', 'walker', 'zion', 'ashton', 'atlas', 'jude', 'bentley', 'tyler', 'elliot', 'elliott', 'camden', 'hayden', 'charlie', 'alex', 'beckett', 'amari', 'karter', 'blake', 'avery', 'kyrie', 'remington', 'riley', 'phoenix', 'lennox', 'finley', 'dallas', 'emerson', 'rory', 'spencer', 'ellis', 'rylan', 'ari', 'dakota', 'remy', 'armani', 'royal', 'sterling', 'tatum', 'milan', 'gianni', 'kamari', 'noel', 'oakley', 'memphis', 'quinn', 'onyx', 'baylor', 'sage', 'casey', 'peyton', 'alexis', 'eden', 'denver', 'drew', 'rowen', 'sutton', 'ariel', 'santana', 'reece', 'shiloh', 'miller', 'finnley', 'chandler', 'reign', 'morgan', 'bellamy', 'jamie', 'quincy', 'justice', 'layne', 'taylor', 'azariah', 'lennon', 'rio', 'tru', 'skyler', 'reese', 'kingsley', 'legacy', 'ocean', 'briar', 'salem', 'remi', 'amiri', 'khari', 'emery', 'ira', 'emory', 'leighton', 'nova', 'dior', 'robin', 'everest', 'joey', 'harley', 'harlem', 'bowie', 'karsyn', 'genesis', 'landry', 'palmer', 'kacey', 'sevyn', 'murphy', 'kamryn', 'yael', 'london', 'campbell', 'aspen', 'frankie', 'hollis', 'lyric', 'true', 'monroe', 'wren', 'joan', 'kendall', 'marley', 'gentry', 'reagan', 'arden', 'aubrey', 'payton', 'harper', 'skylar', 'jessie', 'jael', 'laken', 'shea', 'sol', 'haven', 'ramsey', 'sunny', 'rylee', 'sidney', 'kasey', 'teagan', 'journey', 'scout', 'bailey', 'jaylin', 'kelly', 'kodi', 'artemis', 'montana', 'shay', 'presley', 'jordyn', 'camryn', 'storm', 'kennedy', 'oaklee', 'sky', 'ashtyn', 'ellison', 'noa', 'kadence', 'sloan', 'carsyn', 'cadence', 'holland', 'harlow', 'charley', 'indigo', 'merritt', 'jupiter', 'ripley', 'laine', 'navy', 'addison', 'henley', 'yuri', 'tegan', 'amani', 'winter', 'saylor', 'jovi', 'rayne', 'kaydence', 'skye', 'arie', 'shannon', 'braelyn', 'jade', 'mackenzie', 'egypt', 'majesty', 'mckinley', 'raleigh', 'austyn', 'devyn', 'dream', 'paris', 'rain', 'amaris', 'blair', 'imani', 'ember', 'indy', 'marlow', 'rebel', 'courtney', 'sasha', 'amor', 'jaycee', 'brooklyn', 'saige', 'rowyn', 'novah', 'whitley', 'collins', 'jenesis', 'arya', 'taytum', 'halo', 'loyalty', 'emry', 'raven', 'cassidy', 'kalani', 'kali', 'akira', 'diamond', 'guadalupe', 'jaelyn', 'jersey', 'kari', 'noor', 'kori', 'jream', 'marion', 'clarke', 'sailor', 'june', 'mika', 'oaklyn', 'charlee', 'echo', 'erin', 'sydney', 'madison', 'willow', 'berkley', 'navi', 'dara', 'miracle', 'shelby', 'kaycee', 'leslie', 'royalty', 'zuri', 'azul', 'bexley', 'hazel', 'kapri', 'legaci', 'ashley', 'fallon', 'regan', 'scottie', 'elia', 'ivory', 'emersyn', 'londyn', 'carmen', 'blessing', 'cali', 'hadley', 'juno', 'stevie', 'dana', 'indie', 'lotus', 'rhyan', 'rylie', 'averi', 'juniper', 'nori', 'heaven', 'andi', 'irie', 'ivy', 'love', 'whitney', 'aria', 'dani', 'raine', 'sloane', 'zoe', 'adley', 'cleo', 'dailyn', 'emerald', 'kairi', 'kenley', 'marin', 'mercy', 'andrea', 'eris', 'harlyn', 'joelle', 'promise', 'wynter', 'darcy', 'emani', 'kassidy', 'anais', 'marlee', 'marlowe', 'mina', 'oaklynn', 'wrenley', 'blayke', 'bristol', 'jalani', 'jaylynn', 'kaylin', 'trinity', 'blakely', 'emma', 'grace', 'iris', 'jailyn', 'jewel', 'kinsley', 'ruby', 'ryann', 'stacy', 'unique', 'braelynn', 'bryn', 'capri', 'charlotte', 'delaney', 'journee', 'joy', 'keziah', 'kimber', 'raegan', 'rue', 'toni', 'zariah', 'cielo', 'aarya', 'aspyn', 'briley', 'faith', 'kelsey', 'ryleigh', 'zia', 'amara', 'chevelle', 'emeri', 'harlee', 'karma', 'kaya', 'kensley', 'luna', 'maisyn', 'mari', 'mia', 'raelyn', 'rayleigh', 'rhylee', 'sophia', 'tori', 'adore', 'ainsley', 'aylin', 'cori', 'ella', 'evelyn', 'frances', 'hensley', 'isabella', 'kristen', 'mila', 'nelly', 'olivia', 'penelope', 'salome', 'savannah', 'selah', 'treasure', 'amelia', 'ava', 'clover', 'gianna', 'jaelynn', 'kenna', 'kenzie', 'kylee', 'lauren', 'maria', 'pepper', 'piper', 'robyn', 'ziya', 'aurora', 'averie', 'azaria', 'baylee', 'chloe', 'emori', 'kailyn', 'khalani', 'layla', 'lindsay', 'mckenzie', 'noelle', 'rae', 'rilynn', 'rori', 'abigail', 'allison', 'alma', 'amal', 'anna', 'asha', 'audrey', 'autumn', 'avani', 'billie', 'blaire', 'brynlee', 'camila', 'camille', 'demi', 'eliza', 'ellery', 'emily', 'gabrielle', 'jaylani', 'jovie', 'joyce', 'kehlani', 'kimberly', 'kinley', 'lindsey', 'lois', 'nevaeh', 'oakleigh', 'olive', 'patience', 'renee', 'romy', 'rylynn', 'sara', 'sofia', 'symphony', 'waverly', 'zaya', 'adrienne', 'araya', 'brinley', 'brooklynn', 'brylee', 'brynn', 'callie', 'charli', 'claire', 'damaris', 'denise', 'eleanor', 'elizabeth', 'ellie', 'esme', 'hannah', 'harleigh', 'hope', 'inez', 'ivey', 'jayde', 'josie', 'journi', 'lacey', 'laikyn', 'lakelyn', 'louise', 'lyla', 'marian', 'milani', 'millie', 'miranda', 'paisley', 'preslee', 'raelynn', 'raylynn', 'sadie', 'sanai', 'star', 'stori', 'summer']\n"
     ]
    }
   ],
   "source": [
    "BoyComparison = []\n",
    "\n",
    "for everyname in boys.keys():\n",
    "    if everyname in JustTheGirlNames:\n",
    "        BoyComparison.append(everyname)\n",
    "        \n",
    "print (f\"There are {len(BoyComparison)} boys with the same name\")\n",
    "print(BoyComparison)"
   ]
  },
  {
   "cell_type": "code",
   "execution_count": null,
   "id": "6fce6b9b",
   "metadata": {},
   "outputs": [],
   "source": []
  },
  {
   "cell_type": "code",
   "execution_count": 130,
   "id": "b89a7e10",
   "metadata": {},
   "outputs": [
    {
     "name": "stdout",
     "output_type": "stream",
     "text": [
      "[('emma', 15433), ('daniel', 9066), ('michael', 9041), ('john', 8130), ('anthony', 6741), ('scarlett', 6594), ('emily', 6541), ('ryan', 4703), ('christian', 4589), ('robert', 4402), ('leonardo', 4081), ('adam', 3634), ('julia', 2418), ('oscar', 1681), ('amy', 1558), ('margot', 1521), ('octavia', 1231), ('maggie', 1112), ('joaquin', 1073), ('jake', 965), ('melissa', 832), ('jared', 800), ('laura', 797), ('jennifer', 633), ('ryan', 631), ('keanu', 549), ('jamie', 437), ('jamie', 410), ('chris', 407), ('tommy', 351), ('saoirse', 342), ('hugh', 339), ('tiffany', 315), ('zendaya', 311), ('idris', 271), ('viola', 208), ('will', 196), ('dwayne', 164), ('charlize', 122), ('brie', 77), ('tom', 64), ('lupita', 50), ('christian', 47), ('chadwick', 40), ('brad', 36), ('michael', 25), ('meryl', 17), ('emma', 14), ('gal', 13), ('al', 12), ('daniel', 12), ('tommy', 12), ('chris', 10), ('john', 9), ('emily', 6), ('anthony', 5), ('idris', 5)]\n"
     ]
    }
   ],
   "source": [
    "#Got curious to understand if there are any factors that affected the naming of these children\n",
    "#Decided to check a very little factor that might not give us anything concrete\n",
    "#I've made a list of 50 most famous actors of 2020, and now will check if there were kids named after them in 2021\n",
    "\n",
    "actors_2020 = ['chadwick', 'anthony', 'tom', 'margot', 'gal', 'robert', 'zendaya', 'hugh', 'idris', 'scarlett', 'adam', 'john', 'keanu', 'charlize', 'jennifer', 'leonardo', 'brad', 'dwayne', 'will', 'emma', 'timothée', 'lupita', 'chris', 'ryan', 'meryl', 'viola', 'tiffany', 'maggie', 'jake', 'saoirse', 'daniel', 'brie', 'riz', 'adam', 'emily', 'amy', 'laura', 'christian', 'jamie', 'joaquin', 'awkwafina', 'julia', 'melissa', 'michael', 'oscar', 'jared', 'tommy', 'al', 'octavia']\n",
    "NamedAfterActors = []\n",
    "\n",
    "for everyname in boys.keys():\n",
    "    if everyname in actors_2020:\n",
    "        NamedAfterActors.append((everyname, boys[everyname]))\n",
    "        \n",
    "for everyname in girls.keys():\n",
    "    if everyname in actors_2020:\n",
    "        NamedAfterActors.append((everyname, girls[everyname]))\n",
    "        \n",
    "Sorted_NamedAfterActors = sorted(NamedAfterActors, key= lambda x:x[1], reverse = True)\n",
    "print(Sorted_NamedAfterActors)"
   ]
  },
  {
   "cell_type": "markdown",
   "id": "dff8cb56",
   "metadata": {},
   "source": [
    "# Thinking about this dataset"
   ]
  },
  {
   "cell_type": "code",
   "execution_count": null,
   "id": "6f369794",
   "metadata": {},
   "outputs": [],
   "source": [
    "#Here are two questions I have about the dataset :\n",
    "\n",
    "#1. Does the data not differ regionally?\n",
    "#2. What do we do with these names? How do you find patterns? "
   ]
  }
 ],
 "metadata": {
  "kernelspec": {
   "display_name": "Python 3 (ipykernel)",
   "language": "python",
   "name": "python3"
  },
  "language_info": {
   "codemirror_mode": {
    "name": "ipython",
    "version": 3
   },
   "file_extension": ".py",
   "mimetype": "text/x-python",
   "name": "python",
   "nbconvert_exporter": "python",
   "pygments_lexer": "ipython3",
   "version": "3.10.9"
  }
 },
 "nbformat": 4,
 "nbformat_minor": 5
}
