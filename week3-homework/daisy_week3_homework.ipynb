{
 "cells": [
  {
   "cell_type": "code",
   "execution_count": 3,
   "metadata": {},
   "outputs": [
    {
     "ename": "ModuleNotFoundError",
     "evalue": "No module named 'ssadata'",
     "output_type": "error",
     "traceback": [
      "\u001b[0;31m---------------------------------------------------------------------------\u001b[0m",
      "\u001b[0;31mModuleNotFoundError\u001b[0m                       Traceback (most recent call last)",
      "Cell \u001b[0;32mIn[3], line 1\u001b[0m\n\u001b[0;32m----> 1\u001b[0m \u001b[38;5;28;01mfrom\u001b[39;00m \u001b[38;5;21;01mssadata\u001b[39;00m \u001b[38;5;28;01mimport\u001b[39;00m boys, girls\n",
      "\u001b[0;31mModuleNotFoundError\u001b[0m: No module named 'ssadata'"
     ]
    }
   ],
   "source": [
    "from ssadata import boys, girls"
   ]
  },
  {
   "cell_type": "code",
   "execution_count": 4,
   "metadata": {},
   "outputs": [
    {
     "ename": "NameError",
     "evalue": "name 'boys' is not defined",
     "output_type": "error",
     "traceback": [
      "\u001b[0;31m---------------------------------------------------------------------------\u001b[0m",
      "\u001b[0;31mNameError\u001b[0m                                 Traceback (most recent call last)",
      "Cell \u001b[0;32mIn[4], line 1\u001b[0m\n\u001b[0;32m----> 1\u001b[0m \u001b[38;5;28;01mfor\u001b[39;00m name \u001b[38;5;129;01min\u001b[39;00m \u001b[43mboys\u001b[49m\u001b[38;5;241m.\u001b[39mkeys():\n\u001b[1;32m      2\u001b[0m     \u001b[38;5;28;01mif\u001b[39;00m name \u001b[38;5;241m==\u001b[39m \u001b[38;5;124m\"\u001b[39m\u001b[38;5;124mmako\u001b[39m\u001b[38;5;124m\"\u001b[39m:\n\u001b[1;32m      3\u001b[0m         \u001b[38;5;28mprint\u001b[39m(\u001b[38;5;124m\"\u001b[39m\u001b[38;5;124mThere were \u001b[39m\u001b[38;5;124m\"\u001b[39m \u001b[38;5;241m+\u001b[39m \u001b[38;5;28mstr\u001b[39m(boys[name]) \u001b[38;5;241m+\u001b[39m \u001b[38;5;124m\"\u001b[39m\u001b[38;5;124m boys named \u001b[39m\u001b[38;5;124m\"\u001b[39m \u001b[38;5;241m+\u001b[39m name)\n",
      "\u001b[0;31mNameError\u001b[0m: name 'boys' is not defined"
     ]
    }
   ],
   "source": [
    "for name in boys.keys():\n",
    "    if name == \"mako\":\n",
    "        print(\"There were \" + str(boys[name]) + \" boys named \" + name)"
   ]
  },
  {
   "cell_type": "markdown",
   "metadata": {},
   "source": [
    "### Print all the boy's names that are also girl's names"
   ]
  },
  {
   "cell_type": "code",
   "execution_count": null,
   "metadata": {
    "scrolled": true
   },
   "outputs": [],
   "source": [
    "for name in boys.keys():\n",
    "    if name in girls.keys():\n",
    "        print(name)"
   ]
  },
  {
   "cell_type": "markdown",
   "metadata": {},
   "source": [
    "### How many boys are named 'King'? "
   ]
  },
  {
   "cell_type": "code",
   "execution_count": null,
   "metadata": {},
   "outputs": [],
   "source": [
    "for name in boys.keys():\n",
    "    if 'king' == name:\n",
    "        print(name + \" \" + str(boys[name]))"
   ]
  },
  {
   "cell_type": "markdown",
   "metadata": {},
   "source": [
    " ### How many girls are named 'Queen'?"
   ]
  },
  {
   "cell_type": "code",
   "execution_count": null,
   "metadata": {
    "scrolled": true
   },
   "outputs": [],
   "source": [
    "for name in girls.keys():\n",
    "    if 'queen' == name:\n",
    "        print(name + \" \" + str(girls[name]))"
   ]
  },
  {
   "cell_type": "code",
   "execution_count": null,
   "metadata": {},
   "outputs": [],
   "source": [
    "#1 Your own name!\n",
    "print(\"There were \" + str(girls[\"daisy\"]) + \" named daisy\")"
   ]
  },
  {
   "cell_type": "code",
   "execution_count": null,
   "metadata": {},
   "outputs": [],
   "source": [
    "#2 Every baby counts ?\n",
    "#2.1\n",
    "\n",
    "print(len(boys.keys()))\n",
    "print(len(girls.keys()))\n",
    "\n",
    "#2.2 \n",
    "boy_counts = 0\n",
    "for name_count in boys.values():\n",
    "    boy_counts += name_count \n",
    "\n",
    "girl_counts = 0\n",
    "for name_count in girls.values():\n",
    "    girl_counts += name_count\n",
    "    \n",
    "print(f'There were {boy_counts} boys')\n",
    "print(f'There were {girl_counts} girls')"
   ]
  },
  {
   "cell_type": "code",
   "execution_count": null,
   "metadata": {},
   "outputs": [],
   "source": [
    "#3 A sense of what's common\n",
    "#3.1\n",
    "common_boy_count = 0\n",
    "common_boy_name = \"\"\n",
    "for name, count in boys.items():\n",
    "    if count > common_boy_count:\n",
    "        common_boy_name = name\n",
    "        common_boy_count = count\n",
    "print(common_boy_name)\n",
    "\n",
    "common_girl_count = 0\n",
    "common_girl_name = \"\"\n",
    "for name, count in girls.items():\n",
    "    if count > common_girl_count:\n",
    "        common_girl_name = name\n",
    "        common_girl_count = count\n",
    "print(common_girl_name)\n"
   ]
  },
  {
   "cell_type": "code",
   "execution_count": null,
   "metadata": {},
   "outputs": [],
   "source": [
    "#3.2\n",
    "least_common_boy_count = common_boy_count\n",
    "least_common_boy_name = \"\"\n",
    "for name, count in boys.items():\n",
    "    if count < common_boy_count:\n",
    "        least_common_boy_name = name\n",
    "        least_common_boy_count = count\n",
    "print(least_common_boy_name)\n",
    "print(least_common_boy_count)\n",
    "\n",
    "least_common_girl_count = common_girl_count\n",
    "least_common_girl_name = \"\"\n",
    "for name, count in girls.items():\n",
    "    if count < common_girl_count:\n",
    "        least_common_girl_name = name\n",
    "        least_common_girl_count = count\n",
    "print(least_common_girl_name)\n",
    "print(least_common_girl_count)"
   ]
  },
  {
   "cell_type": "code",
   "execution_count": null,
   "metadata": {},
   "outputs": [],
   "source": [
    "#4 She wasn't long for this dataset\n",
    "\n",
    "longest_boy_length = 0\n",
    "for name in boys.keys():\n",
    "    if len(name) > longest_boy_length:\n",
    "        longest_boy_length = len(name)\n",
    "print(longest_boy_length)\n",
    "\n",
    "longest_girl_length = 0\n",
    "for name in girls.keys():\n",
    "    if len(name) > longest_girl_length:\n",
    "        longest_girl_length = len(name)\n",
    "print(longest_girl_length)\n",
    "\n",
    "longest_length = max(longest_boy_length,longest_girl_length)\n",
    "print(longest_length)\n",
    "    \n",
    "longest_boy_name_count = 0\n",
    "for name in boys.keys():\n",
    "    if len(name) == longest_length:\n",
    "        longest_boy_name_count += 1\n",
    "print(longest_boy_name_count)\n",
    "\n",
    "longest_girl_name_count = 0\n",
    "for name in girls.keys():\n",
    "    if len(name) == longest_length:\n",
    "        longest_girl_name_count += 1\n",
    "print(longest_girl_name_count)"
   ]
  },
  {
   "cell_type": "code",
   "execution_count": 5,
   "metadata": {},
   "outputs": [
    {
     "name": "stdout",
     "output_type": "stream",
     "text": [
      "dict_keys(['a', 'b', 'c', 'd', 'e', 'f', 'g', 'h', 'i', 'j', 'k', 'l', 'm', 'n', 'o', 'p', 'q', 'r', 's', 't', 'u', 'v', 'w', 'x', 'y', 'z'])\n"
     ]
    },
    {
     "ename": "NameError",
     "evalue": "name 'girls' is not defined",
     "output_type": "error",
     "traceback": [
      "\u001b[0;31m---------------------------------------------------------------------------\u001b[0m",
      "\u001b[0;31mNameError\u001b[0m                                 Traceback (most recent call last)",
      "Cell \u001b[0;32mIn[5], line 7\u001b[0m\n\u001b[1;32m      5\u001b[0m     girl_initials[i] \u001b[38;5;241m=\u001b[39m \u001b[38;5;241m0\u001b[39m \n\u001b[1;32m      6\u001b[0m \u001b[38;5;28mprint\u001b[39m(girl_initials\u001b[38;5;241m.\u001b[39mkeys())\n\u001b[0;32m----> 7\u001b[0m \u001b[38;5;28;01mfor\u001b[39;00m name, value \u001b[38;5;129;01min\u001b[39;00m \u001b[43mgirls\u001b[49m\u001b[38;5;241m.\u001b[39mitems():\n\u001b[1;32m      8\u001b[0m     girl_initials[name[\u001b[38;5;241m0\u001b[39m]] \u001b[38;5;241m+\u001b[39m\u001b[38;5;241m=\u001b[39m value\n\u001b[1;32m      9\u001b[0m \u001b[38;5;66;03m#5.2\u001b[39;00m\n",
      "\u001b[0;31mNameError\u001b[0m: name 'girls' is not defined"
     ]
    }
   ],
   "source": [
    "#5 Initials to spreadsheets\n",
    "#5.1\n",
    "girl_initials = dict()\n",
    "for i in [chr(x) for x in range(ord('a'), ord('z')+1)]:\n",
    "    girl_initials[i] = 0 \n",
    "print(girl_initials.keys())\n",
    "for name, value in girls.items():\n",
    "    girl_initials[name[0]] += value\n",
    "#5.2\n",
    "boy_initials = dict()\n",
    "for i in [chr(x) for x in range(ord('a'), ord('z')+1)]:\n",
    "    boy_initials[i] = 0 \n",
    "print(boy_initials.keys())\n",
    "for name, value in boys.items():\n",
    "    boy_initials[name[0]] += value\n",
    "#5.3\n",
    "with open('girl_initials.tsv', 'w', newline='') as tsvfile:\n",
    "    writer = csv.writer(tsvfile, delimiter='\\t')\n",
    "    writer.writerow(['Letter', 'Count'])\n",
    "    for letter, count in girl_initials.items():\n",
    "        writer.writerow([letter, count])"
   ]
  },
  {
   "cell_type": "code",
   "execution_count": null,
   "metadata": {},
   "outputs": [],
   "source": [
    "#6 Name twins ?"
   ]
  },
  {
   "cell_type": "code",
   "execution_count": null,
   "metadata": {},
   "outputs": [],
   "source": [
    "#7 Something extra \n",
    "\n",
    "print(\"das\" not in girls)"
   ]
  },
  {
   "cell_type": "code",
   "execution_count": null,
   "metadata": {},
   "outputs": [],
   "source": []
  },
  {
   "cell_type": "code",
   "execution_count": null,
   "metadata": {},
   "outputs": [],
   "source": []
  }
 ],
 "metadata": {
  "kernelspec": {
   "display_name": "Python 3 (ipykernel)",
   "language": "python",
   "name": "python3"
  },
  "language_info": {
   "codemirror_mode": {
    "name": "ipython",
    "version": 3
   },
   "file_extension": ".py",
   "mimetype": "text/x-python",
   "name": "python",
   "nbconvert_exporter": "python",
   "pygments_lexer": "ipython3",
   "version": "3.10.9"
  }
 },
 "nbformat": 4,
 "nbformat_minor": 2
}
