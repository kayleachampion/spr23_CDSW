{
 "cells": [
  {
   "cell_type": "code",
   "execution_count": 1,
   "id": "ca15751a",
   "metadata": {},
   "outputs": [],
   "source": [
    "from ssadata import boys, girls"
   ]
  },
  {
   "cell_type": "markdown",
   "id": "212b8308",
   "metadata": {},
   "source": [
    "## 1 Your own name!\n",
    "\n",
    "Search for your own name. Are there both boys and girls that have your name? Is your name more popular for one group than for the other? (Hint: don't use a for loop for this one.)"
   ]
  },
  {
   "cell_type": "code",
   "execution_count": 2,
   "id": "8e59c7f5",
   "metadata": {},
   "outputs": [],
   "source": [
    "my_name = \"mako\"\n",
    "\n",
    "datasets = {'girls' : girls,\n",
    "            'boys' : boys }"
   ]
  },
  {
   "cell_type": "code",
   "execution_count": 3,
   "id": "cf067b7e",
   "metadata": {},
   "outputs": [
    {
     "name": "stdout",
     "output_type": "stream",
     "text": [
      "there are no girls named mako\n",
      "there are 24 boys named mako\n"
     ]
    }
   ],
   "source": [
    "for gender in datasets.keys():\n",
    "    dataset = datasets[gender]\n",
    "    \n",
    "    if my_name in dataset.keys():\n",
    "        print(f'there are {dataset[my_name]} {gender} named {my_name}')\n",
    "    else:\n",
    "        print(f'there are no {gender} named {my_name}')"
   ]
  },
  {
   "cell_type": "markdown",
   "id": "24aaa314",
   "metadata": {},
   "source": [
    "## 2 Every baby counts\n",
    "### How many boy names and girl names are described in the dataset?"
   ]
  },
  {
   "cell_type": "code",
   "execution_count": 4,
   "id": "2181742e",
   "metadata": {},
   "outputs": [
    {
     "name": "stdout",
     "output_type": "stream",
     "text": [
      "{'boys': 13993, 'girls': 17544}\n"
     ]
    }
   ],
   "source": [
    "total_names_by_gender = {'boys' : len(boys), 'girls' : len(girls)}\n",
    "print(total_names_by_gender)"
   ]
  },
  {
   "cell_type": "markdown",
   "id": "4eb724b8",
   "metadata": {},
   "source": [
    "### How many boys and girls (actual babies!) are described in the dataset?"
   ]
  },
  {
   "cell_type": "code",
   "execution_count": 5,
   "id": "357033c5",
   "metadata": {},
   "outputs": [
    {
     "name": "stdout",
     "output_type": "stream",
     "text": [
      "{'girls': 1627098, 'boys': 1734277}\n"
     ]
    }
   ],
   "source": [
    "total_babies_by_gender = {'girls':0, 'boys':0}\n",
    "\n",
    "for gender in datasets.keys():\n",
    "    dataset = datasets[gender]\n",
    "    \n",
    "    for name in dataset.keys():\n",
    "        total_babies_by_gender[gender] += dataset[name]\n",
    "\n",
    "print(total_babies_by_gender)"
   ]
  },
  {
   "cell_type": "markdown",
   "id": "b48aa518",
   "metadata": {},
   "source": [
    "## 3 A sense of what's common\n",
    "\n",
    "### What is the most common name for each gender in your data (i.e. 2021)?"
   ]
  },
  {
   "cell_type": "code",
   "execution_count": 6,
   "id": "30707bce",
   "metadata": {},
   "outputs": [
    {
     "name": "stdout",
     "output_type": "stream",
     "text": [
      "for girls: ['olivia']\n",
      "for boys: ['liam']\n"
     ]
    }
   ],
   "source": [
    "for gender in datasets.keys():\n",
    "    dataset = datasets[gender]\n",
    "    \n",
    "    top_names = []\n",
    "    top_count = 0\n",
    "    for name in dataset.keys():\n",
    "        if dataset[name] > top_count:\n",
    "            top_count = dataset[name]\n",
    "            top_names = [name]\n",
    "        elif dataset[name] == top_count:\n",
    "            top_names.append(name)\n",
    "        \n",
    "    print(f\"for {gender}:\", top_names)"
   ]
  },
  {
   "cell_type": "markdown",
   "id": "c64d6d9b",
   "metadata": {},
   "source": [
    "### What is the least common name?"
   ]
  },
  {
   "cell_type": "markdown",
   "id": "d7587bce",
   "metadata": {},
   "source": [
    "### How often do the least common names occur? (Does your answer to this question bother you? Why?)"
   ]
  },
  {
   "cell_type": "code",
   "execution_count": 7,
   "id": "ba1d215d",
   "metadata": {},
   "outputs": [
    {
     "name": "stdout",
     "output_type": "stream",
     "text": [
      "2380 unique names for girls ['aabha', 'aadhirai', 'aadvi', 'aafia', 'aailyah', 'aaima', 'aaiza', 'aakifah', 'aakriti', 'aaleeyah', 'aaleia', 'aaranya', 'aariaani', 'aarielle', 'aarin', 'aarionna', 'aaryah', 'aaryana', 'aaryiah', 'aashka', 'aashna', 'aashritha', 'aayara', 'abbygale', 'abeera', 'abiola', 'abisola', 'abiya', 'abree', 'abrey', 'abuk', 'abygale', 'abyssinia', 'acela', 'acelia', 'acie', 'ackley', 'adaira', 'adaire', 'adaiyah', 'adaleia', 'adalys', 'adanelly', 'addaley', 'addalia', 'addalina', 'addelyne', 'addylynn', 'addysyn', 'adelade', 'adelaya', 'adeleigh', 'adeley', 'adelinn', 'adesewa', 'adiana', 'adiba', 'adila', 'adior', 'adly', 'adona', 'adonia', 'adorah', 'adriann', 'adrie', 'adrionna', 'adrita', 'adryana', 'adylynn', 'aelina', 'aemelia', 'aerabella', 'aerowyn', 'aeryss', 'aesha', 'afaf', 'afrin', 'aggie', 'ahanna', 'ahilani', 'ahinara', 'ahlai', 'ahlanni', 'ahleyah', 'ahlina', 'ahmaya', 'ahmiyah', 'ahmyah', 'ahnesty', 'ahni', 'ahonesti', 'ahrie', 'ahriya', 'ahveya', 'ahvi', 'ahvianna', 'ahyoka', 'ahzari', 'aidaly', 'aife', 'aijah', 'aileth', 'ailis', 'aimar', 'airalyn', 'airiana', 'aishat', 'aishvi', 'aisleen', 'aissa', 'ajourni', 'ajream', 'akailah', 'akane', 'akaylah', 'akire', 'akon', 'aksa', 'akuol', 'akya', 'akyra', 'alaana', 'alaea', 'alaena', 'alaeyah', 'alaiha', 'alaizah', 'alamea', 'alandria', 'alaniz', 'alankrita', 'alarah', 'alayaa', 'alayja', 'alchemy', 'aleanna', 'aleece', 'alegaci', 'alenia', 'alera', 'alexanderia', 'alexei', 'alexzandra', 'aliaa', 'alianni', 'alieah', 'aliena', 'alifa', 'alissah', 'alleia', 'alleyah', 'allysen', 'almudena', 'aloe', 'alonie', 'altair', 'aluel', 'alula', 'alyani', 'alyda', 'alynah', 'alyonna', 'alyrah', 'alysen', 'amabella', 'amaka', 'amany', 'amariee', 'amarise', 'amaru', 'amazi', 'amaziah', 'amberlie', 'ameah', 'ameelah', 'ameilya', 'amelea', 'ameyah', 'amierah', 'amiia', 'amiliyah', 'amilliah', 'amine', 'amineh', 'amirii', 'amiryah', 'amiyra', 'amla', 'ammarie', 'amnah', 'amoret', 'amparo', 'amryn', 'amunet', 'amyrical', 'anab', 'anadelia', 'anae', 'anahla', 'anaija', 'analeiah', 'analilia', 'analiza', 'anamta', 'anarely', 'anavaeh', 'anavrin', 'anayansi', 'anayely', 'anaylah', 'andilynn', 'andrianna', 'andrra', 'anecia', 'aneesha', 'anelisse', 'angelea', 'angelene', 'angelice', 'angelisse', 'angelyna', 'anifer', 'anikha', 'anime', 'anisah', 'anivia', 'anjel', 'anjola', 'anmol', 'annaclara', 'annaise', 'annaleese', 'annalena', 'annaleya', 'annaliza', 'annalize', 'annalyssa', 'annapurna', 'annaruth', 'annavictoria', 'annayah', 'annella', 'annesley', 'annorah', 'anran', 'ansha', 'anthony', 'anthym', 'antigone', 'anu', 'anushree', 'anvee', 'anyra', 'aonani', 'aparna', 'aralee', 'arami', 'aranya', 'arbella', 'areia', 'areina', 'arelyn', 'aren', 'arianis', 'ariarose', 'ariayl', 'ariba', 'ariday', 'ariele', 'arien', 'arirose', 'aritzia', 'ariyanah', 'ariyha', 'arlani', 'armanie', 'armelia', 'armida', 'armony', 'arriella', 'arriyah', 'aruvi', 'arybella', 'aryel', 'aryiana', 'aryianna', 'arys', 'arzoie', 'asaiah', 'asana', 'ashai', 'ashelynn', 'ashiya', 'ashli', 'ashvi', 'ashyla', 'asiana', 'aslan', 'aslihan', 'aslin', 'aslinn', 'asmara', 'astreya', 'astri', 'athar', 'atika', 'attalia', 'attallah', 'aubre', 'aubreerose', 'aubreyella', 'aubria', 'aubrianne', 'aubriee', 'aubriel', 'audelina', 'audianna', 'audrinna', 'audryanna', 'aulelei', 'aurbree', 'aureliana', 'aurorarose', 'avaeah', 'avajade', 'avalyse', 'avayla', 'aveia', 'avenly', 'avera', 'averyana', 'avey', 'aviel', 'avienda', 'avonlee', 'avrey', 'avyn', 'axie', 'ayasofia', 'aydan', 'ayen', 'aylina', 'aynsley', 'ayo', 'ayssa', 'azaleia', 'azalie', 'azami', 'azaree', 'azarria', 'azazel', 'azealia', 'azera', 'azhani', 'azharia', 'azita', 'azka', 'azria', 'azuriah', 'babette', 'bae', 'baelee', 'baeli', 'baelyn', 'balenci', 'balencia', 'banksy', 'bareerah', 'barkot', 'bassheva', 'behati', 'belamy', 'belize', 'bellaluna', 'bellen', 'bellezza', 'belma', 'beloved', 'bennet', 'berkely', 'berkli', 'berklie', 'bernadine', 'berta', 'bethann', 'betiel', 'betsie', 'bettyjo', 'beyonce', 'beyza', 'bhavya', 'bhuvi', 'bilen', 'bilqis', 'binah', 'bissan', 'blaklyn', 'bly', 'boe', 'bonni', 'boone', 'brae', 'braeley', 'braeya', 'braislee', 'brandie', 'brany', 'braxley', 'bray', 'breeanna', 'breeley', 'breia', 'brendalynn', 'brendy', 'brentlee', 'breyanna', 'brighid', 'brigit', 'brihana', 'brihanna', 'brilliance', 'brilliant', 'brinzley', 'briselda', 'briselle', 'brita', 'brizeyda', 'bronxx', 'brooklyne', 'bryan', 'brycelynn', 'brynlei', 'brynnly', 'bunny', 'burke', 'burkleigh', 'cache', 'caelin', 'cahya', 'cailah', 'cairee', 'caitriona', 'caleena', 'calii', 'calila', 'callaghan', 'calliana', 'callidora', 'cam', 'camauri', 'cambre', 'cambreigh', 'cammi', 'camoura', 'camyra', 'canary', 'candyce', 'capria', 'cardi', 'careli', 'caridad', 'carisa', 'carisma', 'carleena', 'carlena', 'carmani', 'carolee', 'carrera', 'cason', 'casper', 'cassius', 'cataliyah', 'cedra', 'celiana', 'cerelia', 'charleeann', 'charlsie', 'chaselynn', 'chatham', 'chau', 'chayil', 'chaz', 'chenxi', 'cherrish', 'cheyann', 'chikamso', 'chloeann', 'chozynn', 'chrissa', 'christabella', 'chrystiana', 'chyla', 'cinderella', 'citlally', 'clarajane', 'claribelle', 'clarita', 'clayton', 'cleissy', 'clelia', 'coast', 'coen', 'colibri', 'colin', 'comfort', 'connolly', 'constantina', 'consuela', 'conway', 'coraima', 'coralei', 'coralin', 'coralina', 'cordellia', 'corine', 'corinthian', 'corrin', 'cortlyn', 'cortney', 'crisbell', 'crissy', 'cristella', 'crosbie', 'curie', 'cyn', 'cynai', 'cynia', 'cyniyah', 'daanya', 'daenarys', 'dafni', 'dahlani', 'dahlila', 'dahlilah', 'dailah', 'daileigh', 'daileny', 'dairyn', 'daivy', 'daizie', 'dalanii', 'dalarie', 'daleyla', 'daleyzah', 'dalissa', 'daliylah', 'daliza', 'dallyss', 'damor', 'danaria', 'dandrea', 'daniele', 'danileigh', 'dannah', 'danniella', 'daphni', 'darbi', 'dariann', 'dariany', 'darlyne', 'darlynn', 'darri', 'darria', 'dasiah', 'davaya', 'daveena', 'davika', 'dayjah', 'dayle', 'daylen', 'daylene', 'deani', 'debrah', 'deidre', 'deily', 'delanni', 'delaylah', 'delicia', 'delillah', 'delisa', 'delle', 'delsy', 'dema', 'demie', 'demirose', 'demitria', 'demy', 'demyah', 'denisha', 'deniya', 'denni', 'deoni', 'dessa', 'destani', 'devaeh', 'devonna', 'deylin', 'deyra', 'dezariah', 'deziah', 'dharma', 'dharvi', 'dhritireddy', 'dhruti', 'diamante', 'dianelys', 'dianni', 'diary', 'dilan', 'dilcia', 'dilyn', 'diona', 'dione', 'diorr', 'dira', 'ditza', 'divika', 'dlyla', 'dlylah', 'dor', 'dotty', 'dovey', 'draven', 'dreamer', 'dreamy', 'dreanna', 'drelynn', 'dulaney', 'dulcie', 'durga', 'dustee', 'dvosia', 'dyala', 'dyamond', 'dylilah', 'dynastii', 'eboni', 'ebtisam', 'ece', 'edalynn', 'edelina', 'edenrose', 'edin', 'edisyn', 'eduarda', 'eemaan', 'ehani', 'eilany', 'eilene', 'eimaan', 'eire', 'eiress', 'eisele', 'eislyn', 'eizabella', 'ejla', 'ekhlas', 'elaheh', 'elainea', 'elainy', 'elaiza', 'elanah', 'elaney', 'elanii', 'elanny', 'elasia', 'elaura', 'elayjah', 'elaynna', 'elease', 'elei', 'elen', 'elenie', 'eleri', 'elesia', 'elessia', 'eleya', 'eliara', 'elienai', 'eliett', 'elisheba', 'elizabet', 'ellaine', 'ellalee', 'ellason', 'elleighana', 'elleni', 'ellenie', 'ellenora', 'elleona', 'elliya', 'ellori', 'eloiza', 'elon', 'eloria', 'elorie', 'elouisa', 'elsey', 'elta', 'elu', 'elynor', 'elyon', 'elyzah', 'emalyne', 'emarii', 'embrii', 'emel', 'emeliah', 'emereigh', 'emiliarose', 'emjay', 'emmabelle', 'emmalena', 'emmaree', 'emmerlynn', 'emmitt', 'emslie', 'emyra', 'ender', 'endi', 'endiyah', 'eneida', 'eneri', 'enessa', 'enith', 'enzie', 'epic', 'eponine', 'erendira', 'eriella', 'erilynn', 'eriyanna', 'erla', 'ernestina', 'erys', 'ese', 'eseosa', 'esmea', 'esmerae', 'esperance', 'estephania', 'estephany', 'estoria', 'evadne', 'evangaline', 'evangelene', 'evangelin', 'evangelynn', 'evanka', 'evanni', 'evannie', 'evian', 'evienne', 'evonne', 'evony', 'evvy', 'ewa', 'ewaoluwa', 'exie', 'eyonna', 'ezmerelda', 'faduma', 'fahima', 'faige', 'fairy', 'faithful', 'faizah', 'falaq', 'falasteen', 'fantasia', 'fareeha', 'farhana', 'faridah', 'faryal', 'fatmata', 'fauzia', 'fayla', 'fayola', 'feather', 'febe', 'feigy', 'feliciana', 'felisa', 'fergie', 'fey', 'filipa', 'finnegan', 'finola', 'fizza', 'floridalma', 'folasade', 'foreign', 'franca', 'francoise', 'franklynn', 'franny', 'frederica', 'freyia', 'furtu', 'fynnlee', 'gabriana', 'gabriele', 'ganna', 'gatlynn', 'gavi', 'gefen', 'gelina', 'gella', 'gena', 'genaya', 'genelle', 'geneve', 'genora', 'genuine', 'georgetta', 'gertie', 'ghianna', 'giannamarie', 'giannarose', 'gili', 'giliana', 'giordana', 'gitel', 'glorianne', 'graceigh', 'graciana', 'graesyn', 'grettell', 'guillermina', 'guliana', 'gwendolynne', 'gwenn', 'gwenyvere', 'gwyn', 'gwyndolin', 'gypsie', 'haby', 'hadasha', 'hadyn', 'haezel', 'haile', 'haili', 'haizyl', 'hajara', 'halcyon', 'haleemah', 'hallel', 'hamida', 'hanadi', 'hanaya', 'haniah', 'hannalee', 'hannelore', 'harleyrose', 'harly', 'harmone', 'harriette', 'harvee', 'hasenat', 'hasha', 'hasina', 'hasleigh', 'hassatou', 'hava', 'hawkins', 'hayaa', 'haydenn', 'hayeslee', 'haygen', 'hazle', 'heartlynn', 'hefziba', 'heide', 'heizel', 'helaine', 'helayna', 'hella', 'hemi', 'henri', 'heyab', 'heydy', 'heysel', 'hibah', 'hibo', 'hiley', 'hinza', 'hiyabel', 'hollan', 'honestie', 'honoka', 'houda', 'hudsen', 'humairah', 'hyatt', 'ibiza', 'ichika', 'icylinn', 'idamae', 'idris', 'ifra', 'ifza', 'ihana', 'ikhlaas', 'ilaiah', 'ilamae', 'ilaya', 'ilayna', 'ilee', 'ilinca', 'ilyena', 'imunique', 'inanna', 'indyah', 'inge', 'iniko', 'innaya', 'iolana', 'ionna', 'irah', 'irais', 'irelynd', 'irielle', 'irini', 'irish', 'iryss', 'isabellagrace', 'isadore', 'isamara', 'isayana', 'ishaanvi', 'ishimwe', 'ishvi', 'isioma', 'iskra', 'islabelle', 'islagrace', 'isleigh', 'isma', 'issabela', 'isys', 'itzcali', 'itzell', 'itzy', 'ivadell', 'ivalee', 'iveel', 'ivonna', 'ivvy', 'ivygrace', 'ivyona', 'ixora', 'iyannah', 'iyanni', 'iyland', 'jabrea', 'jacari', 'jacilyn', 'jadeyn', 'jaedynn', 'jaelin', 'jaella', 'jaelynne', 'jaemarie', 'jaesha', 'jahkai', 'jahleah', 'jahna', 'jahzarah', 'jaici', 'jaidee', 'jaiel', 'jailine', 'jailoni', 'jaimarie', 'jaira', 'jakhyla', 'jakya', 'jakyia', 'jalaylah', 'jaliana', 'jalie', 'jalyla', 'jamesia', 'jamilex', 'jamilia', 'jamillah', 'jamina', 'jamyrah', 'jan', 'jandy', 'janett', 'janeya', 'janeyah', 'japleen', 'japneet', 'jaraya', 'jareli', 'jarelis', 'jareth', 'jaria', 'jaselynn', 'jasmeen', 'jatziry', 'javannah', 'javiah', 'javonna', 'jaylaa', 'jaylahni', 'jaylan', 'jaylarose', 'jaylenn', 'jaylenne', 'jaylianis', 'jaylianiz', 'jaylianni', 'jayliene', 'jaylise', 'jaylnn', 'jaylonni', 'jazani', 'jazayla', 'jazbel', 'jazmarie', 'jazzmin', 'jazzmyne', 'jeannine', 'jeilianys', 'jelianny', 'jelianys', 'jelilah', 'jem', 'jenalyn', 'jenan', 'jenasys', 'jency', 'jendaya', 'jenee', 'jenell', 'jeni', 'jenice', 'jenisis', 'jennalee', 'jennavie', 'jentrie', 'jeri', 'jerika', 'jerilyn', 'jermanii', 'jerney', 'jerzy', 'jess', 'jessilyn', 'jette', 'jeweliana', 'jezabelle', 'jezlyn', 'jhalani', 'jhana', 'jhavia', 'jhenai', 'jhett', 'jhoanna', 'jhoselyn', 'jiannah', 'jihanna', 'jimi', 'jina', 'jireth', 'jiyanna', 'joali', 'joani', 'joanny', 'jocee', 'jocelynne', 'joclyn', 'joee', 'joelis', 'joellen', 'joelynn', 'johnae', 'johnnae', 'joleah', 'joliee', 'joliene', 'joliette', 'joliyah', 'jonathan', 'jonesy', 'jordann', 'jordanna', 'josely', 'josieann', 'joslynne', 'jovianna', 'jovy', 'joylynn', 'jozee', 'jozy', 'juany', 'juda', 'judia', 'jula', 'julena', 'julez', 'julianie', 'juliannah', 'juliauna', 'julieanne', 'julitza', 'julyanna', 'jwana', 'jya', 'kaashi', 'kaashvi', 'kabria', 'kadidia', 'kadidja', 'kadri', 'kae', 'kaezlee', 'kahleah', 'kahlei', 'kahliah', 'kaicey', 'kaijah', 'kailahni', 'kailanie', 'kailene', 'kailo', 'kaiona', 'kaisly', 'kaisy', 'kaiyani', 'kaiyomi', 'kalai', 'kalan', 'kalayiah', 'kaleea', 'kaleese', 'kaleiyah', 'kalese', 'kalice', 'kalini', 'kalirose', 'kaliyan', 'kaliyana', 'kalonie', 'kalonii', 'kalylah', 'kamalani', 'kamaree', 'kambryn', 'kamdynn', 'kamili', 'kammi', 'kamonie', 'kampbell', 'kamy', 'kamylla', 'kandice', 'kare', 'kariel', 'karimah', 'karine', 'karmel', 'karmine', 'karmoni', 'karolyne', 'kartyr', 'karys', 'kasani', 'kashindi', 'kasiya', 'kassadi', 'kataliya', 'katalynna', 'katarzyna', 'katelina', 'kathrin', 'katilaya', 'katriana', 'kavia', 'kayanni', 'kaycen', 'kayler', 'kaylonni', 'kayna', 'kayona', 'kayonni', 'kayton', 'kazariah', 'kazlynn', 'keaira', 'kealia', 'kearra', 'keelynn', 'keera', 'kehinde', 'kehloni', 'keiarra', 'keilanii', 'keilanys', 'keiley', 'keilianys', 'keiloni', 'keimoni', 'keimy', 'keiona', 'keirra', 'keiryn', 'kelany', 'kelcey', 'kelcy', 'keli', 'keliah', 'keliana', 'kelin', 'kellee', 'kelleigh', 'kellin', 'kelsei', 'keltie', 'kelynn', 'kemara', 'kemiah', 'kemya', 'kenai', 'kendaya', 'kendrie', 'kenedee', 'kenedy', 'keni', 'keniah', 'kenidi', 'kensey', 'kenyatta', 'kenzia', 'keora', 'kerstin', 'kessa', 'kessiah', 'kesslyn', 'keydi', 'keylanni', 'keyloni', 'khadijatou', 'khaila', 'khailee', 'khalesi', 'khaleya', 'khalil', 'khamille', 'khaniyah', 'khaya', 'khaylee', 'khayra', 'khelanie', 'khleo', 'khloi', 'khylynn', 'khyrah', 'kian', 'kiaraliz', 'kiarri', 'kiarybel', 'kierston', 'kieryn', 'kilayah', 'kiloni', 'kimmie', 'kimori', 'kimya', 'kindall', 'king', 'kinnsley', 'kinslea', 'kinzly', 'kiore', 'kirana', 'kismet', 'kiswa', 'kitara', 'kitra', 'kizzie', 'klahni', 'kloee', 'kmiyah', 'kmoni', 'kmya', 'knylah', 'kobee', 'koemi', 'kohinoor', 'kollier', 'kolsyn', 'kolynns', 'konley', 'koralie', 'korrine', 'kourage', 'kourtnei', 'kridha', 'krishvi', 'krisley', 'krissia', 'krissy', 'kristlyn', 'kritika', 'kriva', 'kriya', 'krysten', 'kshetra', 'kueen', 'kulani', 'kwyn', 'kyanne', 'kyera', 'kylaya', 'kylene', 'kylise', 'kyndle', 'kyniah', 'kynlei', 'kynnlee', 'kyriah', 'kyrianna', 'labella', 'laceigh', 'ladonna', 'laeloni', 'lahela', 'lahlani', 'laikin', 'lailanni', 'lailee', 'lailonie', 'laira', 'laiyla', 'laiza', 'lajoy', 'lakeisha', 'lakira', 'lakshya', 'lalah', 'laliyah', 'laloni', 'lalonnie', 'lam', 'lamiracle', 'lamoura', 'lanasia', 'landreigh', 'lanee', 'lanita', 'lanyah', 'lanyia', 'laraia', 'larayne', 'lareine', 'larena', 'larson', 'larya', 'laryah', 'lasiyah', 'latisha', 'lauralai', 'laurali', 'laurelai', 'laurence', 'lauri', 'lavana', 'lavonna', 'lawanda', 'lawton', 'layiah', 'laylamae', 'layleen', 'lazaria', 'leahny', 'leandria', 'leeland', 'leella', 'leelynn', 'leeona', 'leeonna', 'legna', 'lehla', 'leihlani', 'leiko', 'leilamae', 'leilanys', 'leili', 'leilianys', 'leiluna', 'leiyani', 'leiyanna', 'lekha', 'lemmie', 'lenea', 'leonella', 'leonia', 'leriyah', 'lesedi', 'letitia', 'letta', 'leva', 'levia', 'lexee', 'leyan', 'leylanni', 'leyu', 'lezly', 'liahna', 'lialah', 'liamani', 'lianis', 'liddy', 'lilamae', 'lilani', 'lilarose', 'lillionna', 'lillynn', 'lillyona', 'lilyah', 'linah', 'linet', 'lineth', 'linna', 'linsy', 'lisabella', 'lisaira', 'lissy', 'litzi', 'lizet', 'lizzet', 'loelle', 'loey', 'londan', 'lorea', 'lorenna', 'loreta', 'lorien', 'lorissa', 'lorren', 'lorryn', 'louana', 'louann', 'louisiana', 'louiza', 'lovanna', 'loveleen', 'loveli', 'lovelle', 'lovisa', 'lowell', 'loyaltii', 'luah', 'lucas', 'lucey', 'lucymae', 'lujane', 'lulana', 'lulia', 'lumin', 'luwam', 'luxlee', 'lyan', 'lydianna', 'lyfe', 'lylian', 'lylianna', 'lyniah', 'lynneah', 'lynzie', 'lyudmila', 'lyz', 'maali', 'maame', 'macari', 'mackenley', 'mackensie', 'madany', 'maday', 'maddisen', 'madeeha', 'madilyne', 'maebh', 'maebri', 'maeci', 'maelanie', 'maelea', 'maev', 'maevelyn', 'maeverly', 'magdaline', 'maggy', 'maguette', 'mahagony', 'mahalakshmi', 'mahaley', 'mahani', 'mahdia', 'mahek', 'mahiya', 'mahla', 'mahoganie', 'mahri', 'mahrukh', 'maicie', 'maicyn', 'maiella', 'mais', 'maisel', 'maiven', 'maizelynn', 'majestii', 'major', 'makalynn', 'makensley', 'makilah', 'makyia', 'malajah', 'malakai', 'malany', 'maleeya', 'malila', 'malini', 'malkah', 'malloree', 'malyiah', 'malynda', 'mama', 'manasa', 'manisa', 'marajade', 'maravilla', 'marcelline', 'marcelyn', 'mariaemilia', 'mariahna', 'marialucia', 'mariangela', 'mariannah', 'mariarose', 'mariasofia', 'mariavalentina', 'marielis', 'mariem', 'marilou', 'mariluna', 'mariona', 'maritta', 'marleaux', 'marleyrae', 'marliee', 'marlys', 'marnita', 'marra', 'marrah', 'marriah', 'marshall', 'marty', 'maryhelen', 'marziya', 'masey', 'maui', 'mava', 'maveri', 'maveryk', 'maxlynn', 'maye', 'maysoon', 'mayura', 'mazarine', 'mazilyn', 'mazlyn', 'mckaylee', 'mclane', 'mealla', 'mechelle', 'meerab', 'mehza', 'meiko', 'melana', 'melanii', 'melodygrace', 'melondy', 'mely', 'melynda', 'menorah', 'merab', 'meral', 'meredy', 'merelyn', 'meritt', 'merveille', 'miaa', 'miamore', 'miarie', 'micheala', 'michiko', 'midna', 'miheeka', 'mihrimah', 'mikeila', 'mikyah', 'milaan', 'milaia', 'milaina', 'milanny', 'milca', 'mileydy', 'mille', 'millieann', 'milliemae', 'minori', 'miori', 'miran', 'mirely', 'miria', 'misgana', 'mishal', 'mishelle', 'mkayla', 'mmasinachi', 'moani', 'moli', 'momoka', 'monalisa', 'monarch', 'moni', 'monnie', 'monte', 'morghan', 'mori', 'mulki', 'muqadas', 'murphee', 'murphey', 'muska', 'muskaan', 'muzna', 'myalynn', 'myayla', 'mylayah', 'mylinh', 'myoni', 'myrakle', 'myrcella', 'myricle', 'mystique', 'naarah', 'nabeeha', 'nadalie', 'nadar', 'nadege', 'nadiah', 'nadra', 'naeema', 'nagi', 'nagisa', 'nahbi', 'nahdia', 'nahya', 'nakaya', 'nakoma', 'nalany', 'nalu', 'naly', 'nalyah', 'namiya', 'nanayaa', 'nao', 'naomirose', 'naphtali', 'naraly', 'naraya', 'narin', 'narina', 'nasai', 'naseem', 'nasteho', 'nataliyah', 'natanya', 'nation', 'natividad', 'natoria', 'natsumi', 'natti', 'navada', 'navae', 'nayda', 'naydeline', 'nayelii', 'nayture', 'nazeli', 'nazia', 'nazifa', 'nazira', 'nazneen', 'ndia', 'neaveh', 'neelam', 'neeley', 'neima', 'nel', 'neleh', 'neliah', 'nema', 'neo', 'neola', 'neriya', 'nery', 'nesryn', 'netra', 'nevelyn', 'neziah', 'ngan', 'nhyla', 'nialani', 'niamani', 'niamyah', 'nickole', 'nielle', 'nieve', 'nihana', 'nikol', 'nikoleta', 'nikolette', 'nior', 'niori', 'nirali', 'nirobi', 'nishitha', 'nisreen', 'nita', 'nitsa', 'niv', 'nivia', 'niviah', 'nivika', 'niyathi', 'nolvia', 'nooreh', 'noorulain', 'noria', 'normajean', 'nory', 'nourah', 'novalynne', 'noveah', 'nubian', 'nuna', 'nureen', 'nyarii', 'nyasha', 'nyava', 'nylai', 'nylan', 'nyle', 'nylie', 'nylin', 'nyliyah', 'nymira', 'nyveah', 'oakliegh', 'oliviarae', 'olly', 'oluwasemilore', 'oluwatobi', 'olyve', 'omiyah', 'omolara', 'omri', 'oniyah', 'onyxx', 'oren', 'ororo', 'osa', 'osmary', 'ottavia', 'oysha', 'oyuki', 'ozzlynn', 'paisleyann', 'paisleyrae', 'paisly', 'paiyton', 'paizlie', 'paizlynn', 'panagiota', 'pantera', 'parneet', 'pavneet', 'payge', 'paysen', 'pearly', 'pema', 'penellope', 'penni', 'pennylane', 'percy', 'perlita', 'perola', 'persephonie', 'pesha', 'peyson', 'phaith', 'phillipa', 'phiona', 'pocahontas', 'power', 'pragnya', 'praisely', 'pretty', 'priti', 'pryce', 'quiana', 'quinleigh', 'quinnleigh', 'quynh', 'qwynn', 'rabiya', 'radia', 'radiyah', 'radley', 'raeah', 'raeanne', 'raeden', 'raeliana', 'raelinn', 'raenah', 'raeyna', 'rahel', 'rahmiya', 'raissa', 'raivyn', 'raja', 'rajvi', 'ramaya', 'rami', 'ramsay', 'randa', 'ranesmae', 'ranyah', 'rasheeda', 'rashmika', 'ravin', 'raychel', 'rayea', 'rayelyn', 'rayen', 'raylah', 'raylei', 'razaan', 'raziel', 'reann', 'rediet', 'ree', 'rehat', 'reileen', 'remedios', 'renas', 'reniyah', 'renni', 'reveille', 'revelyn', 'revie', 'rewa', 'rexley', 'rexlynn', 'reyanna', 'reyanne', 'reylin', 'reynah', 'reyne', 'reynolds', 'reyva', 'rhaelyn', 'rhapsody', 'rhealee', 'rheanna', 'rhettley', 'rhettlyn', 'rhiyan', 'rhyanna', 'rhye', 'riane', 'ricci', 'richlynn', 'riel', 'riggin', 'rihan', 'riko', 'rilan', 'rilley', 'rimna', 'rissy', 'rithika', 'ritika', 'ritvi', 'riyaan', 'roa', 'roaa', 'roary', 'rocket', 'rocklyn', 'rocklynn', 'rohanna', 'romaisa', 'romana', 'romely', 'romilly', 'rona', 'ronia', 'ronja', 'rosaley', 'rosaluna', 'rosalyne', 'rosamae', 'rosealie', 'rosebella', 'rosebelle', 'roseleen', 'rosibel', 'roxane', 'roxette', 'royalle', 'royse', 'rozay', 'rozie', 'rozina', 'rozlin', 'rua', 'rubiana', 'rubye', 'ruelle', 'rukaiya', 'rukaya', 'rumaysah', 'rus', 'ruthlynn', 'ruweyda', 'ruya', 'rydia', 'ryilee', 'saanchi', 'sabali', 'sabeen', 'sabirah', 'sabrena', 'sabriya', 'sachiko', 'sadira', 'sadler', 'sadora', 'sady', 'saeeda', 'saela', 'safi', 'safura', 'sahani', 'sahla', 'saidy', 'sailee', 'sajda', 'sajida', 'sakiya', 'salara', 'salea', 'saleigha', 'saliah', 'salimah', 'saminah', 'samrudhi', 'samuela', 'sanaaya', 'sanii', 'sanisha', 'sanovia', 'santa', 'santi', 'santiago', 'saphina', 'sarabella', 'saraii', 'saralynn', 'sarann', 'sareya', 'sariel', 'saryn', 'saudi', 'savani', 'saveya', 'savia', 'saviona', 'sayat', 'saydie', 'saylee', 'scotlynd', 'sefina', 'selayah', 'seleen', 'selenia', 'selenie', 'seleny', 'selihom', 'sema', 'semiya', 'semma', 'senaya', 'seniah', 'senua', 'sephira', 'sequoyah', 'serai', 'seras', 'serein', 'serine', 'severine', 'seveyn', 'shadia', 'shaia', 'shaianne', 'shaivi', 'shalaya', 'shalia', 'shalva', 'shamiya', 'shanae', 'shannell', 'shanvika', 'sharanya', 'shari', 'sharol', 'sharona', 'shatha', 'shawn', 'shaylan', 'shayley', 'shealyn', 'shelsea', 'shiah', 'shiann', 'shirin', 'shivi', 'shivika', 'shiyah', 'shona', 'shreshta', 'shrina', 'shrisha', 'shritha', 'shruti', 'shyleigh', 'siari', 'sibel', 'sibi', 'sibylla', 'siennarose', 'sierrah', 'sif', 'sifan', 'sihana', 'sika', 'silya', 'simara', 'simmons', 'simonne', 'simrah', 'sims', 'sindel', 'sirenna', 'sirine', 'siriyah', 'sisley', 'sistine', 'sitra', 'skaii', 'skailar', 'skailyn', 'ski', 'skilynn', 'skyah', 'skyee', 'skylarrose', 'skylene', 'skylynne', 'skyye', 'sofina', 'sojourner', 'solaria', 'solis', 'soma', 'sondos', 'soniya', 'sophina', 'sophonie', 'sovanna', 'starlett', 'stasia', 'steffany', 'stellah', 'stellamarie', 'stellan', 'stephenie', 'stevee', 'sthefany', 'stonie', 'storri', 'stuti', 'sue', 'suna', 'sunem', 'sunisa', 'surie', 'susej', 'sussy', 'suzan', 'suzi', 'swayzi', 'sya', 'syanni', 'syara', 'sylphrena', 'sylver', 'symphanie', 'sypha', 'syrinity', 'taeleigh', 'tahiya', 'tahlani', 'tahleea', 'tahliah', 'tahliyah', 'taibah', 'tailor', 'taja', 'takara', 'takoda', 'takyla', 'talah', 'talaiyah', 'talei', 'taleia', 'tamarah', 'tamarie', 'tamika', 'tamyah', 'tamzin', 'tani', 'tanis', 'tanishi', 'tannah', 'tarah', 'tarini', 'tasnia', 'taviana', 'tawny', 'taygan', 'tayzlee', 'teagann', 'teghan', 'tesneem', 'thaila', 'thayla', 'thisbe', 'thomas', 'thyra', 'thyrie', 'thyrii', 'tien', 'tiferet', 'tiffani', 'tinslie', 'tinzley', 'tiona', 'tira', 'tisa', 'titan', 'toriana', 'torianna', 'torii', 'trelynn', 'tresor', 'treya', 'trhue', 'trianna', 'tricia', 'tuana', 'tyani', 'tyanne', 'tylei', 'tylia', 'tymia', 'tynsleigh', 'tynsley', 'tyrah', 'tyson', 'tytiana', 'tzivy', 'ummehani', 'vaelyn', 'valena', 'valentyna', 'valeriya', 'valli', 'valora', 'valynn', 'vanille', 'veeha', 'velen', 'venelope', 'veralyn', 'verily', 'verra', 'veta', 'veyah', 'vignette', 'vila', 'vinaya', 'vinisha', 'vismaya', 'vivan', 'vivianah', 'viviani', 'vonna', 'vriha', 'vrinda', 'wade', 'wafaa', 'walaa', 'wanita', 'wenona', 'willarae', 'wilmarie', 'winley', 'winnona', 'winta', 'witney', 'woodlyn', 'wrinley', 'wudase', 'wyn', 'wynlee', 'wynnona', 'wynslow', 'xailee', 'xamara', 'xeniyah', 'xenova', 'xiclaly', 'xila', 'xion', 'xochiquetzal', 'xylina', 'yachy', 'yacine', 'yaelle', 'yahvi', 'yaitza', 'yakout', 'yaletzi', 'yalexi', 'yanessa', 'yania', 'yarel', 'yareliz', 'yaremi', 'yarexi', 'yarleth', 'yasaira', 'yashfa', 'yaslynn', 'yasmyn', 'yeab', 'yelani', 'yerelin', 'yexalen', 'yian', 'yianna', 'yilin', 'yiselle', 'ymir', 'yoko', 'yoli', 'yorleny', 'yoseline', 'yoshi', 'yule', 'yuleidy', 'yuleisy', 'yuliet', 'yunalesca', 'yunique', 'yureli', 'yurianna', 'yuritza', 'yuvia', 'yva', 'yvana', 'zabelle', 'zae', 'zaeda', 'zaelah', 'zahlani', 'zahlee', 'zai', 'zaidie', 'zakhari', 'zakira', 'zakora', 'zakyah', 'zakyia', 'zakyiah', 'zakylah', 'zakyra', 'zalaiya', 'zalaysia', 'zaleiah', 'zaleigha', 'zaleiya', 'zali', 'zaliah', 'zalilah', 'zamantha', 'zamilah', 'zamyrah', 'zanique', 'zaray', 'zariella', 'zarish', 'zavayah', 'zayden', 'zaylianna', 'zazil', 'zealynn', 'zeila', 'zeilani', 'zeineth', 'zelle', 'zelyna', 'zenniah', 'zevaeh', 'zeveah', 'zhaniya', 'zhenya', 'zhiya', 'zhoe', 'ziaire', 'ziani', 'zielle', 'zimri', 'zior', 'zitlaly', 'ziyla', 'zlaty', 'zoejane', 'zohe', 'zoiee', 'zolah', 'zorey', 'zoyah', 'zriyah', 'zsazsa', 'zubaida', 'zuhal', 'zuleidy', 'zuna', 'zura', 'zuriya', 'zurri', 'zuzana', 'zyani', 'zyliyah', 'zylynn', 'zynovia', 'zyona', 'zyri', 'zyrihanna']\n",
      "1941 unique names for boys ['aadith', 'aaidyn', 'aaliyan', 'aang', 'aansh', 'aaqil', 'aaravreddy', 'aaryash', 'aashay', 'aavi', 'ab', 'abdihafid', 'abdulai', 'abdulkabir', 'abdulsalam', 'abdurahmon', 'absalom', 'abshir', 'abubacarr', 'acetyn', 'acey', 'acheron', 'achim', 'acie', 'action', 'adaiah', 'addler', 'adewale', 'adis', 'adisa', 'adith', 'adlan', 'adorian', 'adream', 'adrienne', 'adris', 'adron', 'aegan', 'aelius', 'aeros', 'aerys', 'aesop', 'agamjot', 'ahiyan', 'ahkai', 'ahlee', 'ahlijah', 'ahman', 'ahmi', 'ahsaan', 'ahsai', 'ahsaun', 'aidynn', 'aikam', 'aireon', 'aires', 'airis', 'airo', 'aison', 'aisyn', 'ajeet', 'ajith', 'akachukwu', 'akito', 'alaki', 'alameen', 'alante', 'alastar', 'alayan', 'albara', 'albino', 'alby', 'aldahir', 'aldwin', 'alecxander', 'alef', 'aleix', 'aleksy', 'alessander', 'alessandre', 'alexxander', 'alexys', 'aliano', 'alii', 'alikhan', 'alin', 'aliyus', 'allijah', 'allistor', 'alohi', 'alva', 'alvy', 'alyx', 'alyxander', 'amai', 'amaius', 'amaje', 'amarious', 'amarri', 'amaurys', 'amedeo', 'ameri', 'amillyon', 'amirkhan', 'amisi', 'amnon', 'amondre', 'amunra', 'amzi', 'anaken', 'anania', 'ananth', 'anar', 'andersson', 'andreaz', 'andri', 'angelgabriel', 'angell', 'aniket', 'aniv', 'anmay', 'anri', 'anselm', 'anthym', 'antonie', 'antonin', 'antonious', 'antron', 'anuj', 'apolinar', 'aprameya', 'aqil', 'aquil', 'araoluwa', 'araya', 'arben', 'archangel', 'ardarius', 'ardell', 'ardin', 'areon', 'arez', 'arhansh', 'arib', 'arick', 'arieh', 'arinzechukwu', 'aristides', 'arkady', 'arkeem', 'arlee', 'arlind', 'armarion', 'armez', 'armondo', 'armone', 'armonte', 'armour', 'arnie', 'arnik', 'arrington', 'arsal', 'arsalaan', 'arseniy', 'arshia', 'arther', 'arwyn', 'aryion', 'ashai', 'ashaun', 'ashdon', 'ashdyn', 'ashlan', 'asten', 'asyn', 'atal', 'atem', 'aten', 'atli', 'atreya', 'audyn', 'augden', 'aulden', 'auley', 'aung', 'autzen', 'avetis', 'aviraaj', 'aviyan', 'avonni', 'avontae', 'avraj', 'avran', 'avriel', 'avyanreddy', 'axal', 'axe', 'axen', 'axley', 'axson', 'ayaad', 'ayker', 'aylen', 'ayris', 'aysah', 'aysin', 'aythan', 'ayvin', 'ayyash', 'ayzen', 'azam', 'azarius', 'azian', 'azraq', 'azyon', 'ba', 'baelor', 'bahran', 'bakr', 'bari', 'barima', 'barlas', 'baroke', 'barton', 'bashton', 'basile', 'bassel', 'baxton', 'bay', 'bayan', 'bayani', 'bearon', 'becks', 'behren', 'bekham', 'bellamie', 'benas', 'benecio', 'benelli', 'benet', 'benigno', 'benjiro', 'benjy', 'benni', 'bennington', 'bensyn', 'bereket', 'berish', 'berlyn', 'bernardino', 'bezaleel', 'bharath', 'biagio', 'binh', 'bivan', 'bladyn', 'blakelee', 'blessin', 'blessyn', 'blin', 'bodhin', 'bodhisattva', 'boen', 'boomer', 'bowdy', 'braddock', 'bradon', 'brahim', 'brahms', 'brandtley', 'brannan', 'brasen', 'bravyn', 'braylnn', 'brayten', 'breckan', 'brelan', 'brenston', 'breylon', 'breyton', 'briant', 'brien', 'brigido', 'brilyn', 'brinley', 'briton', 'brixtin', 'bronn', 'bronsyn', 'brooklynn', 'brylee', 'brynn', 'bud', 'bulmaro', 'butch', 'byran', 'cahari', 'caide', 'cainaan', 'caique', 'callie', 'callister', 'calob', 'calvert', 'camaron', 'campion', 'canek', 'cantrell', 'cardin', 'carmichael', 'carti', 'carvell', 'cashe', 'casher', 'cashtian', 'caspien', 'cassell', 'castyn', 'cavon', 'cayce', 'cayd', 'ceaser', 'ceon', 'chambers', 'chan', 'chancey', 'chanson', 'chanston', 'charan', 'charli', 'cheo', 'cherno', 'chetan', 'chidiebube', 'chiemeka', 'christapher', 'christopherjohn', 'chuck', 'claire', 'clayden', 'clayten', 'clemens', 'clever', 'coalson', 'coburn', 'cochise', 'colbi', 'colorado', 'colstyn', 'colwyn', 'colyn', 'conal', 'conri', 'corby', 'cordale', 'cordarius', 'cordaro', 'cordelle', 'cornel', 'corran', 'correy', 'cortavious', 'corwyn', 'cosmas', 'costello', 'costner', 'coyer', 'crayton', 'creedance', 'creeden', 'creedyn', 'crescencio', 'criss', 'crystian', 'cub', 'cyress', 'dade', 'dae', 'daelan', 'daemyn', 'daequan', 'daeson', 'dagmawi', 'dagon', 'daimir', 'daion', 'daivyon', 'dakaiden', 'dakaree', 'dakauri', 'daking', 'dalan', 'dali', 'dallyn', 'dalson', 'dalynn', 'damacio', 'daman', 'damarie', 'damarii', 'damaris', 'damarri', 'damin', 'damire', 'damonie', 'dangel', 'danger', 'daquon', 'darinel', 'dariush', 'darlin', 'darran', 'darreon', 'darriel', 'daschel', 'dashan', 'davell', 'davidjames', 'dawid', 'dawone', 'daymir', 'deandrea', 'dearius', 'decarlo', 'dedric', 'deeric', 'deiby', 'deior', 'deivi', 'deker', 'delan', 'delorean', 'delsin', 'delta', 'deluka', 'demarko', 'demeco', 'demier', 'demire', 'demon', 'denham', 'denico', 'denise', 'deonis', 'deriq', 'derius', 'dermot', 'derrik', 'derron', 'desai', 'destan', 'destined', 'deundre', 'devanta', 'devell', 'deveraux', 'devere', 'devesh', 'dextin', 'deylin', 'deyner', 'dezman', 'dezmin', 'dhaksh', 'dhani', 'dhario', 'dharius', 'dhev', 'dhilan', 'dia', 'dilam', 'dillen', 'dillian', 'dimarco', 'din', 'diquan', 'divan', 'divin', 'django', 'dmere', 'dmonte', 'dmytro', 'domiano', 'dominicus', 'dominiq', 'donaciano', 'donal', 'donaven', 'donavyn', 'donovin', 'donzell', 'doran', 'draelyn', 'dray', 'draycen', 'dredan', 'dreylan', 'dreyven', 'driss', 'dwaine', 'dyer', 'dyon', 'dyron', 'eaden', 'early', 'eashan', 'ebubechukwu', 'edilberto', 'edrei', 'edyn', 'eean', 'ehitan', 'ehren', 'ehsaan', 'eiji', 'eiker', 'ein', 'ekamjot', 'eknoor', 'ekrem', 'elbert', 'elby', 'eldrick', 'elean', 'eleanor', 'eleftherios', 'eliann', 'eliazer', 'elikem', 'eliodoro', 'elishua', 'elix', 'eliyjah', 'elizabeth', 'elizander', 'ellie', 'ellyott', 'elmin', 'elmore', 'elyot', 'elzie', 'emar', 'emeir', 'emeka', 'emerich', 'emeth', 'emiel', 'emit', 'emjay', 'emmerick', 'emri', 'enam', 'endi', 'endymion', 'enes', 'enio', 'enix', 'enok', 'eramis', 'erian', 'erish', 'ernst', 'ervey', 'esme', 'estefan', 'etzio', 'evangelo', 'evanjames', 'evelio', 'everen', 'ewing', 'eyas', 'eyoas', 'ezaias', 'ezer', 'ezikio', 'eziquiel', 'ezralee', 'ezriah', 'fabiano', 'facundo', 'farhaan', 'fate', 'faustin', 'felton', 'fenn', 'fenway', 'ferguson', 'filiberto', 'finlan', 'finton', 'fiyinfoluwa', 'flex', 'fortino', 'france', 'franciszek', 'fredd', 'freddrick', 'freyr', 'furious', 'furkan', 'furqan', 'gabin', 'gad', 'gadi', 'gahan', 'gahel', 'galaxy', 'gannicus', 'garfield', 'garin', 'garnet', 'garnett', 'gavril', 'genghis', 'genji', 'geordan', 'georg', 'gerber', 'gerrard', 'geva', 'giddeon', 'giovannii', 'giovonnie', 'givanni', 'givenchy', 'god', 'goshen', 'graesen', 'graves', 'grayland', 'graylin', 'graysonn', 'greighson', 'greylyn', 'grissom', 'grit', 'gurdit', 'gurjaap', 'gursanjh', 'haaland', 'haaris', 'hady', 'hael', 'hafiz', 'haisten', 'haize', 'haki', 'hakoda', 'hakon', 'halton', 'hamze', 'hannah', 'hao', 'haralambos', 'hardison', 'harith', 'harleigh', 'harveer', 'harvie', 'hastin', 'havik', 'hayan', 'haydyn', 'haywood', 'heaton', 'hebert', 'heiden', 'heinz', 'helaman', 'henzo', 'hesham', 'hezikiah', 'hiero', 'highland', 'hikaru', 'hiroki', 'hobson', 'hoku', 'holcomb', 'hollan', 'holloway', 'holmes', 'holsten', 'honour', 'hope', 'hossein', 'hotchner', 'houstyn', 'hudayfa', 'hudeyfa', 'husnain', 'hutchins', 'huttson', 'hyker', 'iago', 'iangael', 'ifeanyichukwu', 'ikena', 'ikram', 'ilkay', 'illyas', 'ilyan', 'imhotep', 'imronbek', 'inba', 'inez', 'infinite', 'inioluwa', 'iori', 'irish', 'isaia', 'isam', 'isaul', 'isaya', 'ishak', 'ishank', 'ishay', 'ishimwe', 'isra', 'isrrael', 'issachar', 'issael', 'issiah', 'ithiel', 'ivansh', 'ivarr', 'ivey', 'ivri', 'iyaad', 'iyah', 'iyanu', 'izeah', 'izell', 'izreal', 'izriel', 'izyaan', 'izzan', 'jaaire', 'jacaleb', 'jacek', 'jacian', 'jacier', 'jackob', 'jacobmatthew', 'jacobus', 'jacquan', 'jacson', 'jadarrius', 'jadel', 'jadir', 'jaecob', 'jafari', 'jahdai', 'jahkobe', 'jahmair', 'jahmal', 'jahn', 'jahon', 'jahsaan', 'jahsiel', 'jahsier', 'jahsire', 'jahzai', 'jahzi', 'jaicion', 'jaidev', 'jailon', 'jaior', 'jairen', 'jaishawn', 'jakahri', 'jakarie', 'jaki', 'jakin', 'jakorey', 'jaleo', 'jama', 'jamair', 'jamaul', 'jameison', 'jamesly', 'jancarlo', 'janlucas', 'janmichael', 'jann', 'jantzen', 'janziel', 'jaquavion', 'jaquavius', 'jaquay', 'jaquel', 'jaquin', 'jaqwan', 'jaraiya', 'jarol', 'jarrah', 'jarrin', 'jarron', 'jaryan', 'jasahn', 'jasi', 'jaspar', 'jassim', 'jasten', 'jastin', 'jataveon', 'javaree', 'javares', 'javid', 'javius', 'javonne', 'javonnie', 'jaxzen', 'jayari', 'jaycieon', 'jayde', 'jaydel', 'jayler', 'jayllen', 'jaymani', 'jaymeir', 'jaymian', 'jayvan', 'jayziah', 'jayzion', 'jazel', 'jazen', 'jazer', 'jeaven', 'jehan', 'jehkai', 'jenkins', 'jered', 'jerelle', 'jeremmy', 'jeresiah', 'jerison', 'jermarion', 'jermoni', 'jerrel', 'jerren', 'jessee', 'jessup', 'jetziel', 'jexiel', 'jeycob', 'jeydan', 'jeyder', 'jeylan', 'jhamil', 'jhan', 'jhared', 'jheico', 'jhoniel', 'jhordy', 'jiair', 'jigme', 'jiovany', 'jiovonni', 'jiyon', 'jkai', 'joahn', 'joaolucas', 'joaomiguel', 'joaopedro', 'jocari', 'joeseph', 'joevan', 'joham', 'johngabriel', 'johnmark', 'johnpatrick', 'johnrobert', 'johntavious', 'jontez', 'joram', 'jordyan', 'jorey', 'jorgen', 'josaan', 'josejulian', 'joseth', 'josie', 'journi', 'jovaughn', 'jovoni', 'joziyah', 'jp', 'jsean', 'juanantonio', 'juandedios', 'juanmateo', 'judaea', 'juelle', 'juels', 'jujhar', 'juliam', 'junah', 'juni', 'junius', 'jusuf', 'jwan', 'jyrie', 'kable', 'kachiside', 'kadrick', 'kaegan', 'kaelem', 'kaen', 'kagen', 'kahawai', 'kahekili', 'kahleel', 'kaiir', 'kaileo', 'kaiman', 'kaimen', 'kaipo', 'kairie', 'kairin', 'kaise', 'kaisun', 'kaivalya', 'kaiyer', 'kaiyo', 'kalab', 'kalahan', 'kalder', 'kaleal', 'kalex', 'kalid', 'kalief', 'kallai', 'kalo', 'kalob', 'kaloyan', 'kalyan', 'kamarian', 'kamarri', 'kameo', 'kamere', 'kamp', 'kamrynn', 'kamyrn', 'kaon', 'karanveer', 'karbon', 'karcyn', 'kardell', 'karder', 'karel', 'kariem', 'karlin', 'karm', 'karman', 'karo', 'karriem', 'kasaan', 'kasein', 'kashh', 'kashi', 'kashtynn', 'kasian', 'kass', 'kastle', 'kastor', 'kastyn', 'kauan', 'kavani', 'kaveion', 'kavell', 'kaycion', 'kaydn', 'kayeson', 'kayleon', 'kaylib', 'kaylum', 'kayron', 'kaysten', 'kayto', 'kazarion', 'kazier', 'kazu', 'kazuki', 'keari', 'keating', 'keatyn', 'keaundre', 'kedar', 'kedon', 'kedric', 'keenai', 'keeper', 'keevin', 'keiji', 'keiondre', 'keiontae', 'keithan', 'kekai', 'keland', 'keldrick', 'keliel', 'kelin', 'kell', 'kelon', 'kemon', 'kemp', 'kenaz', 'kendarrius', 'kendrew', 'kendriel', 'kendryk', 'keneil', 'keneth', 'kenjiro', 'kenlin', 'kenndrick', 'kennett', 'kentley', 'kenzell', 'kesiah', 'kestrel', 'ketch', 'kethan', 'kevari', 'keveon', 'keyner', 'keyoni', 'khace', 'khailan', 'khailand', 'khaizen', 'khaleil', 'khaliel', 'khalifah', 'khalique', 'khance', 'khash', 'khaz', 'khazir', 'khiro', 'khizr', 'khobe', 'khol', 'khole', 'khymere', 'khyon', 'khyza', 'kiba', 'kidd', 'kiliam', 'kilyan', 'kingelijah', 'kiram', 'kirolos', 'kivaan', 'kix', 'kiylen', 'kiyo', 'knightlee', 'kniko', 'koal', 'koba', 'koh', 'koleton', 'kollyn', 'kolsten', 'kope', 'kopelin', 'kopper', 'kordai', 'koulson', 'kourosh', 'kourtney', 'kova', 'kovu', 'kovyn', 'kraven', 'kreece', 'kreedyn', 'kreston', 'kriday', 'kristof', 'kriston', 'kron', 'kruize', 'krzysztof', 'kuiper', 'kuma', 'kunal', 'kurrency', 'kutler', 'kwon', 'kyelan', 'kyelin', 'kyian', 'kyir', 'kyndal', 'kypton', 'kyrel', 'kyrii', 'kyzaire', 'laban', 'lacey', 'ladarian', 'ladarious', 'ladell', 'laeken', 'laike', 'laiku', 'laikyn', 'lakaiden', 'lakelyn', 'lakendrick', 'lakoda', 'lamon', 'lancelot', 'lang', 'lanny', 'laroy', 'latavious', 'lathaniel', 'latravion', 'laylon', 'layn', 'layson', 'laythan', 'leeandre', 'leeum', 'legacee', 'legacie', 'leiam', 'leighland', 'leilan', 'lelynd', 'lemarcus', 'lennard', 'lennart', 'lennie', 'lennin', 'lennoxx', 'leonas', 'leonell', 'leoni', 'leonis', 'leonte', 'leonzo', 'lerenzo', 'les', 'levai', 'levar', 'levelle', 'levent', 'levvy', 'levyn', 'lexiel', 'lexon', 'liamjohn', 'life', 'lindan', 'livan', 'lon', 'lonnell', 'lopaka', 'lorde', 'lorenc', 'loretto', 'louise', 'lowsan', 'loyall', 'luccah', 'ludwin', 'luismateo', 'luzer', 'lyanno', 'lyla', 'lynex', 'lynford', 'lynnex', 'lyrix', 'maajid', 'macallen', 'macauley', 'mackie', 'mackinnon', 'macklyn', 'madex', 'maestro', 'magilan', 'maguire', 'mahaad', 'mahaan', 'mahlik', 'mahmood', 'maiky', 'majer', 'majestic', 'majur', 'makaii', 'makario', 'makias', 'makoto', 'malahkai', 'maleik', 'maleko', 'malicah', 'malijah', 'malikhai', 'malvin', 'manaf', 'manfred', 'mani', 'mannie', 'manvith', 'marian', 'marianno', 'marking', 'markon', 'marlen', 'marquess', 'marqus', 'marsai', 'marsean', 'marshun', 'marvion', 'masego', 'mashal', 'mateyo', 'mathais', 'matheson', 'matija', 'matthaios', 'matthan', 'matviy', 'matyas', 'maurion', 'mavryck', 'maxden', 'maximiano', 'maximillan', 'maximum', 'maxin', 'maxximo', 'maxxton', 'mayar', 'mayce', 'maycen', 'mayco', 'maycon', 'maysn', 'mazion', 'mazzy', 'mcallister', 'mcclane', 'mccormick', 'mcgregor', 'meerab', 'mehmed', 'melech', 'melkin', 'melquisedec', 'mesac', 'mesias', 'messyah', 'michaelanthony', 'mihajlo', 'mihran', 'mikiah', 'mikiyas', 'milam', 'milani', 'millie', 'milyon', 'minkah', 'miranda', 'mitansh', 'mitsuki', 'mizan', 'mofeoluwa', 'mohab', 'mohamedamiin', 'momen', 'momodou', 'money', 'montague', 'montay', 'monterio', 'montrel', 'morpheus', 'mosha', 'mossimo', 'mounir', 'moyses', 'mozzi', 'muhammadhasan', 'muhammadibrahim', 'muhammadmusa', 'muhammadumar', 'mukhammad', 'mukhammadyusuf', 'munachi', 'muneeb', 'murry', 'muse', 'musiq', 'mustaf', 'myeir', 'myloh', 'naeco', 'nagee', 'nahiem', 'nahsir', 'nahun', 'najeeb', 'najm', 'naledge', 'namish', 'nandan', 'nando', 'naoki', 'nasri', 'nasyr', 'natsu', 'navarro', 'navion', 'navon', 'nazeem', 'nazhir', 'nechemya', 'neco', 'neegan', 'nefi', 'nehemiyah', 'neitan', 'nektarios', 'nello', 'neyo', 'nguyen', 'nhial', 'nial', 'nicho', 'nicholi', 'niel', 'nihir', 'nihith', 'nikkolas', 'nikolo', 'nimalan', 'nirmaan', 'nishant', 'nishiv', 'nitin', 'noar', 'nodin', 'noell', 'nohan', 'nolynn', 'norbu', 'nosiah', 'novell', 'noven', 'novian', 'noy', 'nuno', 'nyan', 'nyeir', 'nygel', 'nyir', 'nykeem', 'nykko', 'nykolas', 'nymire', 'nyne', 'nysaiah', 'nyzaire', 'nyzel', 'oba', 'obrian', 'obsa', 'ocie', 'odai', 'ohtli', 'olajide', 'olajuwon', 'olaoluwa', 'olee', 'olek', 'ollyver', 'olufemi', 'olumide', 'oluwadamilola', 'oluwadunsin', 'oluwaferanmi', 'omaet', 'oneal', 'orgil', 'orien', 'orland', 'orry', 'orvin', 'osean', 'oshawn', 'oshay', 'osher', 'oshyn', 'osinachi', 'osirus', 'oso', 'ossian', 'osyrus', 'oto', 'owens', 'ozais', 'ozil', 'pacer', 'paisley', 'patch', 'pavit', 'pavle', 'paxtin', 'paycen', 'paysen', 'paz', 'pearse', 'pele', 'peleg', 'perrion', 'peyson', 'pharoh', 'phillips', 'pieter', 'pilot', 'pinny', 'placido', 'pranil', 'prateek', 'pratt', 'prayaan', 'preacher', 'prentis', 'preslee', 'princeamir', 'purav', 'quang', 'quantavious', 'quantavius', 'quban', 'quentrell', 'quentyn', 'quincee', 'quintez', 'quirino', 'raaghav', 'raahim', 'rader', 'radnor', 'raelynn', 'raequan', 'rafan', 'raheel', 'rahmi', 'rahyl', 'raijin', 'raimundo', 'rainen', 'raji', 'rally', 'ramal', 'rambo', 'ramesh', 'ramos', 'range', 'rangel', 'ranon', 'ras', 'rashan', 'rasul', 'raunak', 'rawlin', 'rawling', 'rayed', 'raygen', 'raylynn', 'rayniel', 'raysen', 'rece', 'regino', 'regulo', 'regulus', 'reino', 'remmi', 'renegade', 'renick', 'renlee', 'rennie', 'renwick', 'renz', 'rephael', 'rett', 'reu', 'revv', 'rexx', 'reyanshreddy', 'reylin', 'reyon', 'reyson', 'rhavi', 'rhemi', 'rhenn', 'rhettlee', 'rhettly', 'rhip', 'rhoads', 'rhyden', 'richy', 'riko', 'riplee', 'rippley', 'rishith', 'ritter', 'riyu', 'roanin', 'roary', 'roby', 'rodin', 'rodman', 'rodrygo', 'rody', 'roey', 'rogen', 'rogers', 'rohman', 'rojelio', 'roko', 'rolin', 'rollie', 'rolyn', 'romaan', 'romare', 'romelle', 'romualdo', 'ronaldinho', 'ronix', 'rooster', 'rorey', 'rosco', 'rostam', 'rotimi', 'rowlyn', 'roycen', 'rudi', 'rudolf', 'rushank', 'russo', 'rutger', 'rykar', 'rymer', 'rymir', 'saaj', 'saam', 'saban', 'sabastion', 'sacred', 'sadie', 'sadiel', 'sadler', 'sadrac', 'saed', 'safal', 'saifuddin', 'saim', 'sairam', 'saiyon', 'sajjad', 'sajjan', 'saket', 'saladin', 'samaje', 'samatar', 'sambhav', 'samwell', 'samyak', 'samyog', 'san', 'sanai', 'sane', 'sango', 'sansar', 'saqr', 'sarang', 'sarfaraz', 'sargon', 'sarvin', 'saurabh', 'savar', 'savyon', 'sayden', 'sayid', 'sayveon', 'schneider', 'science', 'sebastijan', 'sehej', 'sencere', 'sensei', 'seraph', 'serigne', 'sevak', 'severide', 'seydina', 'seymour', 'seyven', 'shaakir', 'shabsi', 'shaddai', 'shaden', 'shadi', 'shahaan', 'shaheed', 'shahir', 'shameer', 'sharaf', 'sharmarke', 'shaydon', 'shaymus', 'shedrick', 'shenouda', 'sheperd', 'sher', 'sherif', 'sherron', 'shimmy', 'shreeyan', 'shu', 'shun', 'shye', 'shyheim', 'siaire', 'siddarth', 'sidy', 'silis', 'simonpeter', 'sinatra', 'sitiveni', 'sitka', 'siyan', 'skylin', 'slaton', 'slevin', 'slone', 'sohaib', 'solon', 'som', 'soni', 'spike', 'spiros', 'sreeyan', 'stanislaw', 'star', 'starling', 'steffon', 'stellar', 'steph', 'stori', 'summer', 'suryansh', 'sutten', 'swaraj', 'swift', 'sylvain', 'tacoma', 'tadeusz', 'taelen', 'taelin', 'taequan', 'tahlil', 'tahmeed', 'tahseen', 'taiki', 'taisei', 'taivon', 'tajay', 'takhi', 'talent', 'talik', 'talis', 'tam', 'tanav', 'tancredi', 'tanielu', 'tarrell', 'tashfin', 'tasir', 'tateum', 'tauheed', 'tavius', 'tavoris', 'tavyn', 'tawfiq', 'tay', 'taylyn', 'tayron', 'tee', 'telly', 'telmo', 'temidayo', 'temir', 'temitayo', 'temur', 'tennison', 'tequan', 'terryn', 'tevye', 'teyo', 'thacher', 'thaine', 'thanh', 'thanos', 'theojames', 'theos', 'thian', 'thijs', 'thobias', 'thoedore', 'thom', 'thomson', 'thyri', 'tiberias', 'tide', 'tifeoluwa', 'tighe', 'tilson', 'tilton', 'time', 'tipton', 'tiras', 'tirrell', 'tkai', 'tobe', 'tomasi', 'torre', 'torres', 'towa', 'trashawn', 'travaris', 'travonte', 'treden', 'tremari', 'treson', 'trevante', 'trevelle', 'trevonne', 'treylon', 'treyveon', 'trhue', 'trig', 'trinton', 'tryp', 'trypp', 'trystyn', 'tydarius', 'tyjae', 'tyjir', 'tykell', 'tymar', 'tymoni', 'tyrael', 'tyresse', 'tyris', 'tysean', 'tysier', 'umberto', 'uvaldo', 'vader', 'vahan', 'valiente', 'valin', 'vanson', 'varad', 'vasili', 'vasily', 'veeran', 'venture', 'victorino', 'victorious', 'vidyuth', 'vigo', 'vikyath', 'viliamu', 'vinayak', 'vinton', 'virajreddy', 'vishaan', 'vitali', 'volvi', 'vontae', 'vraj', 'vuong', 'waden', 'wadley', 'wagner', 'wahid', 'waiks', 'warsame', 'warwick', 'washington', 'waymon', 'wealth', 'wendall', 'weslan', 'wickham', 'wild', 'wilkin', 'willam', 'windell', 'winson', 'winsten', 'winton', 'woodensley', 'woodland', 'woojin', 'wrenly', 'wrett', 'wyatte', 'wyeth', 'wyld', 'wylin', 'xaeden', 'xaelyn', 'xamari', 'xannon', 'xantiago', 'xayvier', 'xhaiden', 'xoan', 'xoel', 'xylen', 'xyrus', 'xzaiden', 'xzayden', 'xzayvien', 'yacine', 'yacob', 'yaden', 'yahriel', 'yahsiah', 'yancy', 'yao', 'yashar', 'yassiel', 'yedidya', 'yefri', 'yeiko', 'yekusiel', 'yerson', 'yeshayahu', 'yester', 'yexian', 'yiming', 'yoandri', 'yobani', 'yochanon', 'yohance', 'yonel', 'york', 'yoseth', 'yoshiyahu', 'yosiyah', 'yossef', 'yotam', 'yue', 'yuhan', 'yuito', 'yuli', 'yuniel', 'yuvanreddy', 'yuven', 'zabian', 'zacai', 'zachai', 'zachariyah', 'zacheriah', 'zaed', 'zaevon', 'zaheem', 'zahmire', 'zahvier', 'zainaldeen', 'zaiven', 'zaivion', 'zaiyr', 'zakaree', 'zakoda', 'zakori', 'zalyn', 'zamare', 'zamere', 'zamonte', 'zani', 'zaquan', 'zari', 'zariel', 'zathan', 'zaviel', 'zavin', 'zaxai', 'zaxtyn', 'zaydian', 'zaylynn', 'zaymir', 'zayre', 'ze', 'zecharia', 'zedd', 'zedric', 'zehaan', 'zekhi', 'zeki', 'zeland', 'zemariam', 'zennon', 'zeon', 'zero', 'zeven', 'zevon', 'zevyn', 'zeyd', 'zhair', 'zhayd', 'zhen', 'zhion', 'zierre', 'zinedine', 'zuhayr', 'zvi', 'zyeire', 'zyel', 'zyian', 'zylar', 'zyn']\n"
     ]
    }
   ],
   "source": [
    "for gender in datasets.keys():\n",
    "    dataset = datasets[gender]\n",
    "    \n",
    "    bottom_names = []\n",
    "    bottom_count = 9999999\n",
    "    for name in dataset.keys():\n",
    "        if dataset[name] < bottom_count:\n",
    "            bottom_count = dataset[name]\n",
    "            bottom_names = [name]\n",
    "        elif dataset[name] == bottom_count:\n",
    "            bottom_names.append(name)\n",
    "        \n",
    "    print(f\"{len(bottom_names)} unique names for {gender}\", bottom_names)"
   ]
  },
  {
   "cell_type": "markdown",
   "id": "4d5d0533",
   "metadata": {},
   "source": [
    "## 4 She wasn't long for this dataset\n",
    "\n",
    "What is the longest name in the dataset? How many boys/girls names are exactly that length? What's going on?"
   ]
  },
  {
   "cell_type": "code",
   "execution_count": 8,
   "id": "3e5fdfbb",
   "metadata": {},
   "outputs": [
    {
     "name": "stdout",
     "output_type": "stream",
     "text": [
      "['christopherjohn', 'muhammadibrahim']\n"
     ]
    }
   ],
   "source": [
    "for gender in datasets.keys():\n",
    "    dataset = datasets[gender]\n",
    "    \n",
    "    longest_names = [\"\"]\n",
    "    for name in dataset:\n",
    "        if len(name) > len(longest_names[0]):\n",
    "            longest_names = [name]\n",
    "        elif len(name) == len(longest_names[0]):\n",
    "            longest_names.append(name)\n",
    "\n",
    "print(longest_names)"
   ]
  },
  {
   "cell_type": "markdown",
   "id": "a3928de5",
   "metadata": {},
   "source": [
    "## 5 Initials to spreadsheets\n",
    "### Make a dictionary girl_initials that says, for each letter of the alphabet (a-z), how many unique girl names begin with that letter."
   ]
  },
  {
   "cell_type": "code",
   "execution_count": 9,
   "id": "d12182e5",
   "metadata": {},
   "outputs": [
    {
     "name": "stdout",
     "output_type": "stream",
     "text": [
      "{'o': 174, 'e': 995, 'c': 775, 'a': 2739, 's': 1227, 'i': 379, 'm': 1524, 'h': 471, 'l': 1024, 'g': 322, 'p': 270, 'n': 745, 'v': 209, 'r': 896, 'z': 528, 'w': 138, 'k': 1571, 'd': 702, 'b': 602, 'j': 1087, 'q': 41, 'x': 86, 'f': 210, 't': 521, 'y': 280, 'u': 28}\n"
     ]
    }
   ],
   "source": [
    "girl_initials = {}\n",
    "for name in girls.keys():\n",
    "    letter = name[0]\n",
    "    if letter in girl_initials.keys():\n",
    "        girl_initials[letter] += 1\n",
    "    else:\n",
    "        girl_initials[letter] = 1\n",
    "\n",
    "print(girl_initials)"
   ]
  },
  {
   "cell_type": "markdown",
   "id": "d9fc96bb",
   "metadata": {},
   "source": [
    "### Do the same for boy names to make boy_initials."
   ]
  },
  {
   "cell_type": "code",
   "execution_count": 10,
   "id": "55332fbe",
   "metadata": {},
   "outputs": [
    {
     "name": "stdout",
     "output_type": "stream",
     "text": [
      "{'l': 528, 'n': 442, 'o': 251, 'e': 606, 'j': 1191, 'w': 206, 'b': 626, 'h': 406, 't': 691, 'a': 1599, 'm': 942, 'd': 865, 's': 819, 'g': 318, 'c': 692, 'i': 251, 'r': 776, 'k': 1352, 'p': 209, 'x': 72, 'v': 165, 'z': 415, 'f': 214, 'q': 52, 'u': 43, 'y': 262}\n"
     ]
    }
   ],
   "source": [
    "boy_initials = {}\n",
    "for name in boys.keys():\n",
    "    letter = name[0]\n",
    "    if letter in boy_initials.keys():\n",
    "        boy_initials[letter] += 1\n",
    "    else:\n",
    "        boy_initials[letter] = 1\n",
    "print(boy_initials)"
   ]
  },
  {
   "cell_type": "markdown",
   "id": "226372a4",
   "metadata": {},
   "source": [
    "### Create a \"tab separated values\" (TSV) file that reports the data in girl_initials. Be sure to include a descriptive header columns! You will probably want the file to end with .tsv so that your computer knows it's a TSV file."
   ]
  },
  {
   "cell_type": "code",
   "execution_count": 11,
   "id": "4536473e",
   "metadata": {},
   "outputs": [],
   "source": [
    "with open(\"girl_initials.tsv\", \"w\") as my_file:\n",
    "    print(\"letter\\tcount\", file=my_file)\n",
    "    for letter in sorted(girl_initials.keys()):\n",
    "        print(f\"{letter}\\t{girl_initials[letter]}\", file=my_file)"
   ]
  },
  {
   "cell_type": "markdown",
   "id": "9c480846",
   "metadata": {},
   "source": [
    "### Now do the same for boy_initials (be sure to save it into a different file!)\n",
    "    "
   ]
  },
  {
   "cell_type": "code",
   "execution_count": 12,
   "id": "76b5bd4f",
   "metadata": {},
   "outputs": [],
   "source": [
    "with open(\"boy_initials.tsv\", \"w\") as my_file:\n",
    "    print(\"letter\\tcount\", file=my_file)\n",
    "    for letter in sorted(boy_initials.keys()):\n",
    "        print(f\"{letter}\\t{boy_initials[letter]}\", file=my_file)"
   ]
  },
  {
   "cell_type": "markdown",
   "id": "1aed2de2",
   "metadata": {},
   "source": [
    "### Now do the same for boy_initials (be sure to save it into a different file!)\n",
    "    "
   ]
  },
  {
   "cell_type": "markdown",
   "id": "c1da7e8c",
   "metadata": {},
   "source": [
    "### Once you've done this, load up the two files into Google Sheets or Excel.\n",
    "### For every letter, be ready to tell if there are more boys names or girls names.\n",
    "### Play around with graphing and see if you can build some instructive graph that shows us something."
   ]
  },
  {
   "cell_type": "markdown",
   "id": "428d25c0",
   "metadata": {},
   "source": [
    "https://docs.google.com/spreadsheets/d/1ceLhP8UTEtugrCmBK-qlNC_OqmodZlG2ZZyHfAXzERo/edit#gid=49804742"
   ]
  },
  {
   "cell_type": "markdown",
   "id": "9f42fd64",
   "metadata": {},
   "source": [
    "## 6 Concentration in names\n",
    "### What percentage of boys have one of the 10 most popular boys names? What percentage of girls have one of the 10 most popular girls names?"
   ]
  },
  {
   "cell_type": "code",
   "execution_count": 13,
   "id": "15d41581",
   "metadata": {},
   "outputs": [
    {
     "name": "stdout",
     "output_type": "stream",
     "text": [
      "for girls: 0.07668376459192992\n",
      "for boys: 0.07779841397885114\n"
     ]
    }
   ],
   "source": [
    "for gender in datasets.keys():\n",
    "    dataset = datasets[gender]\n",
    "    \n",
    "    top_names = {'PLACEHOLDER' : 0}\n",
    "    for name in dataset:\n",
    "        if dataset[name] > min(top_names.values()):\n",
    "            # if we have more than 10 already, we need to delete the lowest one\n",
    "            if len(top_names) == 10:\n",
    "                removed_name = \"\"\n",
    "                for top_name in top_names:\n",
    "                    # we iterate for every name and if it's the minimum value, we mark it for deletion\n",
    "                    if min(top_names.values()) == top_names[top_name]:\n",
    "                        removed_name = top_name\n",
    "                # and then we drop it\n",
    "                del top_names[removed_name]\n",
    "            \n",
    "            # once we've made room (or if there was already room) we add it\n",
    "            top_names[name] = dataset[name]\n",
    "    \n",
    "    # count up a subtotal\n",
    "    subtotal = 0\n",
    "    for count in top_names.values():\n",
    "        subtotal += count\n",
    "        \n",
    "    print(f\"for {gender}:\", subtotal / total_babies_by_gender[gender])"
   ]
  },
  {
   "cell_type": "markdown",
   "id": "fa8e4efb",
   "metadata": {},
   "source": [
    "### Take the top 10% most popular boys names. (For instance: If there were 500 boys names, we're looking for the 50 most popular ones.) How many girls were given one of those names? Take the top 10% most popular girls names. How many boys were given one of those names?"
   ]
  },
  {
   "cell_type": "code",
   "execution_count": 14,
   "id": "1d9d5473",
   "metadata": {},
   "outputs": [
    {
     "name": "stdout",
     "output_type": "stream",
     "text": [
      "{'boys': 1399, 'girls': 1754}\n"
     ]
    }
   ],
   "source": [
    "# first we need to figure out how many we're going to get\n",
    "tenpct_names_by_gender = {}\n",
    "for gender in total_names_by_gender.keys():\n",
    "    tenpct_names_by_gender[gender] = int(total_names_by_gender[gender] / 10)\n",
    "print(tenpct_names_by_gender)"
   ]
  },
  {
   "cell_type": "code",
   "execution_count": 15,
   "id": "ccb52c00",
   "metadata": {},
   "outputs": [],
   "source": [
    "# first i'm going to a dictionary that will contain the list of the top N names\n",
    "\n",
    "top_tenpct_names = {}\n",
    "\n",
    "for gender in datasets.keys():\n",
    "    dataset = datasets[gender]\n",
    "    \n",
    "    top_names = {'PLACEHOLDER' : 0}\n",
    "    for name in dataset:\n",
    "        if dataset[name] > min(top_names.values()):\n",
    "            # if we have more than whatever the threshold is, we need to delete the lowest one\n",
    "            if len(top_names) == tenpct_names_by_gender[gender]:\n",
    "                removed_name = \"\"\n",
    "                for top_name in top_names:\n",
    "                    # we iterate for every name and if it's the minimum value, we mark it for deletion\n",
    "                    if min(top_names.values()) == top_names[top_name]:\n",
    "                        removed_name = top_name\n",
    "                # and then we drop it\n",
    "                del top_names[removed_name]\n",
    "            \n",
    "            # once we've made room (or if there was already room) we add it\n",
    "            top_names[name] = dataset[name]\n",
    "    \n",
    "    # now i'll just save that list of names\n",
    "    top_tenpct_names[gender] = top_names.keys()\n"
   ]
  },
  {
   "cell_type": "code",
   "execution_count": 16,
   "id": "a0e2898b",
   "metadata": {},
   "outputs": [
    {
     "name": "stdout",
     "output_type": "stream",
     "text": [
      "1399\n",
      "1754\n"
     ]
    }
   ],
   "source": [
    "print(len(top_tenpct_names['boys']))\n",
    "print(len(top_tenpct_names['girls']))"
   ]
  },
  {
   "cell_type": "code",
   "execution_count": 17,
   "id": "5331a772",
   "metadata": {},
   "outputs": [
    {
     "name": "stdout",
     "output_type": "stream",
     "text": [
      "there are 240929 girls given one of the top 10% boys names\n"
     ]
    }
   ],
   "source": [
    "# first for boys\n",
    "counter = 0\n",
    "for name in boys.keys():\n",
    "    if name in top_tenpct_names[\"girls\"]:\n",
    "        counter += boys[name]\n",
    "print(f\"there are {counter} girls given one of the top 10% boys names\")"
   ]
  },
  {
   "cell_type": "code",
   "execution_count": 18,
   "id": "74aa74f0",
   "metadata": {},
   "outputs": [
    {
     "name": "stdout",
     "output_type": "stream",
     "text": [
      "there are 150954 boys given one of the top 10% boys names\n"
     ]
    }
   ],
   "source": [
    "# next for girls\n",
    "counter = 0\n",
    "for name in girls.keys():\n",
    "    if name in top_tenpct_names[\"boys\"]:\n",
    "        counter += girls[name]\n",
    "print(f\"there are {counter} boys given one of the top 10% boys names\")"
   ]
  }
 ],
 "metadata": {
  "kernelspec": {
   "display_name": "Python 3",
   "language": "python",
   "name": "python3"
  },
  "language_info": {
   "codemirror_mode": {
    "name": "ipython",
    "version": 3
   },
   "file_extension": ".py",
   "mimetype": "text/x-python",
   "name": "python",
   "nbconvert_exporter": "python",
   "pygments_lexer": "ipython3",
   "version": "3.11.2"
  }
 },
 "nbformat": 4,
 "nbformat_minor": 5
}
