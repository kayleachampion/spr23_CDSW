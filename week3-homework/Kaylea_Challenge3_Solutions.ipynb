{
 "cells": [
  {
   "cell_type": "code",
   "execution_count": 22,
   "metadata": {},
   "outputs": [],
   "source": [
    "from ssadata import boys, girls"
   ]
  },
  {
   "cell_type": "markdown",
   "metadata": {},
   "source": [
    "## 1. Your own name"
   ]
  },
  {
   "cell_type": "markdown",
   "metadata": {},
   "source": [
    "### Search for your own name. Are there both boys and girls that have your name? Is your name more popular for one group than for the other? "
   ]
  },
  {
   "cell_type": "code",
   "execution_count": 23,
   "metadata": {},
   "outputs": [
    {
     "name": "stdout",
     "output_type": "stream",
     "text": [
      "Sorry, no boys were named kaylea in 2021.\n",
      "There were 10 girls named kaylea born in 2021!\n",
      "The name kaylea is more popular for girls than for boys.\n"
     ]
    }
   ],
   "source": [
    "myname = \"kaylea\"\n",
    "girlcount = 0\n",
    "boycount = 0\n",
    "\n",
    "if myname in boys.keys():\n",
    "    print(f\"There were {boys[myname]} named {myname} born in 2021!\")\n",
    "    boycount = boys[myname]\n",
    "else: \n",
    "    print(f\"Sorry, no boys were named {myname} in 2021.\")\n",
    "    boycount = 0\n",
    "   \n",
    "\n",
    "if myname in girls.keys():\n",
    "    print(f\"There were {girls[myname]} girls named {myname} born in 2021!\")\n",
    "    girlcount = girls[myname]\n",
    "else:\n",
    "    print(f\"Sorry, no girls were named {myname} in 2021.\")\n",
    "    girlcount = 0\n",
    "   \n",
    "if boycount > girlcount:\n",
    "    print(f\"The name {myname} is more popular for boys than for girls.\")\n",
    "elif boycount < girlcount:\n",
    "    print(f\"The name {myname} is more popular for girls than for boys.\")\n",
    "else:\n",
    "    print(f\"It just so happens that {myname} is exactly equally popular for boys and girls!\")\n",
    "    \n",
    "    "
   ]
  },
  {
   "cell_type": "markdown",
   "metadata": {},
   "source": [
    "## 2 Every baby counts"
   ]
  },
  {
   "cell_type": "code",
   "execution_count": 24,
   "metadata": {},
   "outputs": [
    {
     "name": "stdout",
     "output_type": "stream",
     "text": [
      "I have data on 31537 names overall.\n",
      "I have data on 3361375 kids overall.\n"
     ]
    }
   ],
   "source": [
    "kiddie_counter = 0\n",
    "name_counter = 0\n",
    "\n",
    "for name in boys.keys():\n",
    "    name_counter = name_counter + 1\n",
    "    kiddie_counter = kiddie_counter + boys[name]\n",
    "    \n",
    "for name in girls.keys():\n",
    "    name_counter = name_counter + 1\n",
    "    kiddie_counter = kiddie_counter + girls[name]\n",
    "    \n",
    "print(f\"I have data on {name_counter} names overall.\")\n",
    "print(f\"I have data on {kiddie_counter} kids overall.\")"
   ]
  },
  {
   "cell_type": "markdown",
   "metadata": {},
   "source": [
    "## 3 A sense of what's common"
   ]
  },
  {
   "cell_type": "markdown",
   "metadata": {},
   "source": [
    "### What is the most common name for each gender in 2021?"
   ]
  },
  {
   "cell_type": "code",
   "execution_count": 25,
   "metadata": {},
   "outputs": [
    {
     "name": "stdout",
     "output_type": "stream",
     "text": [
      "The most common boys names are ['liam'], which appear 20272 times in the dataset.\n",
      "The most common girls names are ['olivia'], which appear 17728 times in the dataset.\n"
     ]
    }
   ],
   "source": [
    "my_max = max(boys.values())\n",
    "common_boys_names = []\n",
    "\n",
    "for name in boys.keys():\n",
    "    if boys[name] == my_max:\n",
    "        common_boys_names.append(name)\n",
    "\n",
    "print(f\"The most common boys names are {common_boys_names}, which appear {my_max} times in the dataset.\")\n",
    "        \n",
    "my_max = max(girls.values())\n",
    "common_girls_names = []\n",
    "\n",
    "for name in girls.keys():\n",
    "    if girls[name] == my_max:\n",
    "        common_girls_names.append(name)\n",
    "        \n",
    "\n",
    "print(f\"The most common girls names are {common_girls_names}, which appear {my_max} times in the dataset.\")"
   ]
  },
  {
   "cell_type": "markdown",
   "metadata": {},
   "source": [
    "### What's the least common name for each gender in 2021?"
   ]
  },
  {
   "cell_type": "code",
   "execution_count": 26,
   "metadata": {
    "scrolled": true
   },
   "outputs": [
    {
     "name": "stdout",
     "output_type": "stream",
     "text": [
      "The most uncommon boys names are ['aadith', 'aaidyn', 'aaliyan', 'aang', 'aansh', 'aaqil', 'aaravreddy', 'aaryash', 'aashay', 'aavi', 'ab', 'abdihafid', 'abdulai', 'abdulkabir', 'abdulsalam', 'abdurahmon', 'absalom', 'abshir', 'abubacarr', 'acetyn', 'acey', 'acheron', 'achim', 'acie', 'action', 'adaiah', 'addler', 'adewale', 'adis', 'adisa', 'adith', 'adlan', 'adorian', 'adream', 'adrienne', 'adris', 'adron', 'aegan', 'aelius', 'aeros', 'aerys', 'aesop', 'agamjot', 'ahiyan', 'ahkai', 'ahlee', 'ahlijah', 'ahman', 'ahmi', 'ahsaan', 'ahsai', 'ahsaun', 'aidynn', 'aikam', 'aireon', 'aires', 'airis', 'airo', 'aison', 'aisyn', 'ajeet', 'ajith', 'akachukwu', 'akito', 'alaki', 'alameen', 'alante', 'alastar', 'alayan', 'albara', 'albino', 'alby', 'aldahir', 'aldwin', 'alecxander', 'alef', 'aleix', 'aleksy', 'alessander', 'alessandre', 'alexxander', 'alexys', 'aliano', 'alii', 'alikhan', 'alin', 'aliyus', 'allijah', 'allistor', 'alohi', 'alva', 'alvy', 'alyx', 'alyxander', 'amai', 'amaius', 'amaje', 'amarious', 'amarri', 'amaurys', 'amedeo', 'ameri', 'amillyon', 'amirkhan', 'amisi', 'amnon', 'amondre', 'amunra', 'amzi', 'anaken', 'anania', 'ananth', 'anar', 'andersson', 'andreaz', 'andri', 'angelgabriel', 'angell', 'aniket', 'aniv', 'anmay', 'anri', 'anselm', 'anthym', 'antonie', 'antonin', 'antonious', 'antron', 'anuj', 'apolinar', 'aprameya', 'aqil', 'aquil', 'araoluwa', 'araya', 'arben', 'archangel', 'ardarius', 'ardell', 'ardin', 'areon', 'arez', 'arhansh', 'arib', 'arick', 'arieh', 'arinzechukwu', 'aristides', 'arkady', 'arkeem', 'arlee', 'arlind', 'armarion', 'armez', 'armondo', 'armone', 'armonte', 'armour', 'arnie', 'arnik', 'arrington', 'arsal', 'arsalaan', 'arseniy', 'arshia', 'arther', 'arwyn', 'aryion', 'ashai', 'ashaun', 'ashdon', 'ashdyn', 'ashlan', 'asten', 'asyn', 'atal', 'atem', 'aten', 'atli', 'atreya', 'audyn', 'augden', 'aulden', 'auley', 'aung', 'autzen', 'avetis', 'aviraaj', 'aviyan', 'avonni', 'avontae', 'avraj', 'avran', 'avriel', 'avyanreddy', 'axal', 'axe', 'axen', 'axley', 'axson', 'ayaad', 'ayker', 'aylen', 'ayris', 'aysah', 'aysin', 'aythan', 'ayvin', 'ayyash', 'ayzen', 'azam', 'azarius', 'azian', 'azraq', 'azyon', 'ba', 'baelor', 'bahran', 'bakr', 'bari', 'barima', 'barlas', 'baroke', 'barton', 'bashton', 'basile', 'bassel', 'baxton', 'bay', 'bayan', 'bayani', 'bearon', 'becks', 'behren', 'bekham', 'bellamie', 'benas', 'benecio', 'benelli', 'benet', 'benigno', 'benjiro', 'benjy', 'benni', 'bennington', 'bensyn', 'bereket', 'berish', 'berlyn', 'bernardino', 'bezaleel', 'bharath', 'biagio', 'binh', 'bivan', 'bladyn', 'blakelee', 'blessin', 'blessyn', 'blin', 'bodhin', 'bodhisattva', 'boen', 'boomer', 'bowdy', 'braddock', 'bradon', 'brahim', 'brahms', 'brandtley', 'brannan', 'brasen', 'bravyn', 'braylnn', 'brayten', 'breckan', 'brelan', 'brenston', 'breylon', 'breyton', 'briant', 'brien', 'brigido', 'brilyn', 'brinley', 'briton', 'brixtin', 'bronn', 'bronsyn', 'brooklynn', 'brylee', 'brynn', 'bud', 'bulmaro', 'butch', 'byran', 'cahari', 'caide', 'cainaan', 'caique', 'callie', 'callister', 'calob', 'calvert', 'camaron', 'campion', 'canek', 'cantrell', 'cardin', 'carmichael', 'carti', 'carvell', 'cashe', 'casher', 'cashtian', 'caspien', 'cassell', 'castyn', 'cavon', 'cayce', 'cayd', 'ceaser', 'ceon', 'chambers', 'chan', 'chancey', 'chanson', 'chanston', 'charan', 'charli', 'cheo', 'cherno', 'chetan', 'chidiebube', 'chiemeka', 'christapher', 'christopherjohn', 'chuck', 'claire', 'clayden', 'clayten', 'clemens', 'clever', 'coalson', 'coburn', 'cochise', 'colbi', 'colorado', 'colstyn', 'colwyn', 'colyn', 'conal', 'conri', 'corby', 'cordale', 'cordarius', 'cordaro', 'cordelle', 'cornel', 'corran', 'correy', 'cortavious', 'corwyn', 'cosmas', 'costello', 'costner', 'coyer', 'crayton', 'creedance', 'creeden', 'creedyn', 'crescencio', 'criss', 'crystian', 'cub', 'cyress', 'dade', 'dae', 'daelan', 'daemyn', 'daequan', 'daeson', 'dagmawi', 'dagon', 'daimir', 'daion', 'daivyon', 'dakaiden', 'dakaree', 'dakauri', 'daking', 'dalan', 'dali', 'dallyn', 'dalson', 'dalynn', 'damacio', 'daman', 'damarie', 'damarii', 'damaris', 'damarri', 'damin', 'damire', 'damonie', 'dangel', 'danger', 'daquon', 'darinel', 'dariush', 'darlin', 'darran', 'darreon', 'darriel', 'daschel', 'dashan', 'davell', 'davidjames', 'dawid', 'dawone', 'daymir', 'deandrea', 'dearius', 'decarlo', 'dedric', 'deeric', 'deiby', 'deior', 'deivi', 'deker', 'delan', 'delorean', 'delsin', 'delta', 'deluka', 'demarko', 'demeco', 'demier', 'demire', 'demon', 'denham', 'denico', 'denise', 'deonis', 'deriq', 'derius', 'dermot', 'derrik', 'derron', 'desai', 'destan', 'destined', 'deundre', 'devanta', 'devell', 'deveraux', 'devere', 'devesh', 'dextin', 'deylin', 'deyner', 'dezman', 'dezmin', 'dhaksh', 'dhani', 'dhario', 'dharius', 'dhev', 'dhilan', 'dia', 'dilam', 'dillen', 'dillian', 'dimarco', 'din', 'diquan', 'divan', 'divin', 'django', 'dmere', 'dmonte', 'dmytro', 'domiano', 'dominicus', 'dominiq', 'donaciano', 'donal', 'donaven', 'donavyn', 'donovin', 'donzell', 'doran', 'draelyn', 'dray', 'draycen', 'dredan', 'dreylan', 'dreyven', 'driss', 'dwaine', 'dyer', 'dyon', 'dyron', 'eaden', 'early', 'eashan', 'ebubechukwu', 'edilberto', 'edrei', 'edyn', 'eean', 'ehitan', 'ehren', 'ehsaan', 'eiji', 'eiker', 'ein', 'ekamjot', 'eknoor', 'ekrem', 'elbert', 'elby', 'eldrick', 'elean', 'eleanor', 'eleftherios', 'eliann', 'eliazer', 'elikem', 'eliodoro', 'elishua', 'elix', 'eliyjah', 'elizabeth', 'elizander', 'ellie', 'ellyott', 'elmin', 'elmore', 'elyot', 'elzie', 'emar', 'emeir', 'emeka', 'emerich', 'emeth', 'emiel', 'emit', 'emjay', 'emmerick', 'emri', 'enam', 'endi', 'endymion', 'enes', 'enio', 'enix', 'enok', 'eramis', 'erian', 'erish', 'ernst', 'ervey', 'esme', 'estefan', 'etzio', 'evangelo', 'evanjames', 'evelio', 'everen', 'ewing', 'eyas', 'eyoas', 'ezaias', 'ezer', 'ezikio', 'eziquiel', 'ezralee', 'ezriah', 'fabiano', 'facundo', 'farhaan', 'fate', 'faustin', 'felton', 'fenn', 'fenway', 'ferguson', 'filiberto', 'finlan', 'finton', 'fiyinfoluwa', 'flex', 'fortino', 'france', 'franciszek', 'fredd', 'freddrick', 'freyr', 'furious', 'furkan', 'furqan', 'gabin', 'gad', 'gadi', 'gahan', 'gahel', 'galaxy', 'gannicus', 'garfield', 'garin', 'garnet', 'garnett', 'gavril', 'genghis', 'genji', 'geordan', 'georg', 'gerber', 'gerrard', 'geva', 'giddeon', 'giovannii', 'giovonnie', 'givanni', 'givenchy', 'god', 'goshen', 'graesen', 'graves', 'grayland', 'graylin', 'graysonn', 'greighson', 'greylyn', 'grissom', 'grit', 'gurdit', 'gurjaap', 'gursanjh', 'haaland', 'haaris', 'hady', 'hael', 'hafiz', 'haisten', 'haize', 'haki', 'hakoda', 'hakon', 'halton', 'hamze', 'hannah', 'hao', 'haralambos', 'hardison', 'harith', 'harleigh', 'harveer', 'harvie', 'hastin', 'havik', 'hayan', 'haydyn', 'haywood', 'heaton', 'hebert', 'heiden', 'heinz', 'helaman', 'henzo', 'hesham', 'hezikiah', 'hiero', 'highland', 'hikaru', 'hiroki', 'hobson', 'hoku', 'holcomb', 'hollan', 'holloway', 'holmes', 'holsten', 'honour', 'hope', 'hossein', 'hotchner', 'houstyn', 'hudayfa', 'hudeyfa', 'husnain', 'hutchins', 'huttson', 'hyker', 'iago', 'iangael', 'ifeanyichukwu', 'ikena', 'ikram', 'ilkay', 'illyas', 'ilyan', 'imhotep', 'imronbek', 'inba', 'inez', 'infinite', 'inioluwa', 'iori', 'irish', 'isaia', 'isam', 'isaul', 'isaya', 'ishak', 'ishank', 'ishay', 'ishimwe', 'isra', 'isrrael', 'issachar', 'issael', 'issiah', 'ithiel', 'ivansh', 'ivarr', 'ivey', 'ivri', 'iyaad', 'iyah', 'iyanu', 'izeah', 'izell', 'izreal', 'izriel', 'izyaan', 'izzan', 'jaaire', 'jacaleb', 'jacek', 'jacian', 'jacier', 'jackob', 'jacobmatthew', 'jacobus', 'jacquan', 'jacson', 'jadarrius', 'jadel', 'jadir', 'jaecob', 'jafari', 'jahdai', 'jahkobe', 'jahmair', 'jahmal', 'jahn', 'jahon', 'jahsaan', 'jahsiel', 'jahsier', 'jahsire', 'jahzai', 'jahzi', 'jaicion', 'jaidev', 'jailon', 'jaior', 'jairen', 'jaishawn', 'jakahri', 'jakarie', 'jaki', 'jakin', 'jakorey', 'jaleo', 'jama', 'jamair', 'jamaul', 'jameison', 'jamesly', 'jancarlo', 'janlucas', 'janmichael', 'jann', 'jantzen', 'janziel', 'jaquavion', 'jaquavius', 'jaquay', 'jaquel', 'jaquin', 'jaqwan', 'jaraiya', 'jarol', 'jarrah', 'jarrin', 'jarron', 'jaryan', 'jasahn', 'jasi', 'jaspar', 'jassim', 'jasten', 'jastin', 'jataveon', 'javaree', 'javares', 'javid', 'javius', 'javonne', 'javonnie', 'jaxzen', 'jayari', 'jaycieon', 'jayde', 'jaydel', 'jayler', 'jayllen', 'jaymani', 'jaymeir', 'jaymian', 'jayvan', 'jayziah', 'jayzion', 'jazel', 'jazen', 'jazer', 'jeaven', 'jehan', 'jehkai', 'jenkins', 'jered', 'jerelle', 'jeremmy', 'jeresiah', 'jerison', 'jermarion', 'jermoni', 'jerrel', 'jerren', 'jessee', 'jessup', 'jetziel', 'jexiel', 'jeycob', 'jeydan', 'jeyder', 'jeylan', 'jhamil', 'jhan', 'jhared', 'jheico', 'jhoniel', 'jhordy', 'jiair', 'jigme', 'jiovany', 'jiovonni', 'jiyon', 'jkai', 'joahn', 'joaolucas', 'joaomiguel', 'joaopedro', 'jocari', 'joeseph', 'joevan', 'joham', 'johngabriel', 'johnmark', 'johnpatrick', 'johnrobert', 'johntavious', 'jontez', 'joram', 'jordyan', 'jorey', 'jorgen', 'josaan', 'josejulian', 'joseth', 'josie', 'journi', 'jovaughn', 'jovoni', 'joziyah', 'jp', 'jsean', 'juanantonio', 'juandedios', 'juanmateo', 'judaea', 'juelle', 'juels', 'jujhar', 'juliam', 'junah', 'juni', 'junius', 'jusuf', 'jwan', 'jyrie', 'kable', 'kachiside', 'kadrick', 'kaegan', 'kaelem', 'kaen', 'kagen', 'kahawai', 'kahekili', 'kahleel', 'kaiir', 'kaileo', 'kaiman', 'kaimen', 'kaipo', 'kairie', 'kairin', 'kaise', 'kaisun', 'kaivalya', 'kaiyer', 'kaiyo', 'kalab', 'kalahan', 'kalder', 'kaleal', 'kalex', 'kalid', 'kalief', 'kallai', 'kalo', 'kalob', 'kaloyan', 'kalyan', 'kamarian', 'kamarri', 'kameo', 'kamere', 'kamp', 'kamrynn', 'kamyrn', 'kaon', 'karanveer', 'karbon', 'karcyn', 'kardell', 'karder', 'karel', 'kariem', 'karlin', 'karm', 'karman', 'karo', 'karriem', 'kasaan', 'kasein', 'kashh', 'kashi', 'kashtynn', 'kasian', 'kass', 'kastle', 'kastor', 'kastyn', 'kauan', 'kavani', 'kaveion', 'kavell', 'kaycion', 'kaydn', 'kayeson', 'kayleon', 'kaylib', 'kaylum', 'kayron', 'kaysten', 'kayto', 'kazarion', 'kazier', 'kazu', 'kazuki', 'keari', 'keating', 'keatyn', 'keaundre', 'kedar', 'kedon', 'kedric', 'keenai', 'keeper', 'keevin', 'keiji', 'keiondre', 'keiontae', 'keithan', 'kekai', 'keland', 'keldrick', 'keliel', 'kelin', 'kell', 'kelon', 'kemon', 'kemp', 'kenaz', 'kendarrius', 'kendrew', 'kendriel', 'kendryk', 'keneil', 'keneth', 'kenjiro', 'kenlin', 'kenndrick', 'kennett', 'kentley', 'kenzell', 'kesiah', 'kestrel', 'ketch', 'kethan', 'kevari', 'keveon', 'keyner', 'keyoni', 'khace', 'khailan', 'khailand', 'khaizen', 'khaleil', 'khaliel', 'khalifah', 'khalique', 'khance', 'khash', 'khaz', 'khazir', 'khiro', 'khizr', 'khobe', 'khol', 'khole', 'khymere', 'khyon', 'khyza', 'kiba', 'kidd', 'kiliam', 'kilyan', 'kingelijah', 'kiram', 'kirolos', 'kivaan', 'kix', 'kiylen', 'kiyo', 'knightlee', 'kniko', 'koal', 'koba', 'koh', 'koleton', 'kollyn', 'kolsten', 'kope', 'kopelin', 'kopper', 'kordai', 'koulson', 'kourosh', 'kourtney', 'kova', 'kovu', 'kovyn', 'kraven', 'kreece', 'kreedyn', 'kreston', 'kriday', 'kristof', 'kriston', 'kron', 'kruize', 'krzysztof', 'kuiper', 'kuma', 'kunal', 'kurrency', 'kutler', 'kwon', 'kyelan', 'kyelin', 'kyian', 'kyir', 'kyndal', 'kypton', 'kyrel', 'kyrii', 'kyzaire', 'laban', 'lacey', 'ladarian', 'ladarious', 'ladell', 'laeken', 'laike', 'laiku', 'laikyn', 'lakaiden', 'lakelyn', 'lakendrick', 'lakoda', 'lamon', 'lancelot', 'lang', 'lanny', 'laroy', 'latavious', 'lathaniel', 'latravion', 'laylon', 'layn', 'layson', 'laythan', 'leeandre', 'leeum', 'legacee', 'legacie', 'leiam', 'leighland', 'leilan', 'lelynd', 'lemarcus', 'lennard', 'lennart', 'lennie', 'lennin', 'lennoxx', 'leonas', 'leonell', 'leoni', 'leonis', 'leonte', 'leonzo', 'lerenzo', 'les', 'levai', 'levar', 'levelle', 'levent', 'levvy', 'levyn', 'lexiel', 'lexon', 'liamjohn', 'life', 'lindan', 'livan', 'lon', 'lonnell', 'lopaka', 'lorde', 'lorenc', 'loretto', 'louise', 'lowsan', 'loyall', 'luccah', 'ludwin', 'luismateo', 'luzer', 'lyanno', 'lyla', 'lynex', 'lynford', 'lynnex', 'lyrix', 'maajid', 'macallen', 'macauley', 'mackie', 'mackinnon', 'macklyn', 'madex', 'maestro', 'magilan', 'maguire', 'mahaad', 'mahaan', 'mahlik', 'mahmood', 'maiky', 'majer', 'majestic', 'majur', 'makaii', 'makario', 'makias', 'makoto', 'malahkai', 'maleik', 'maleko', 'malicah', 'malijah', 'malikhai', 'malvin', 'manaf', 'manfred', 'mani', 'mannie', 'manvith', 'marian', 'marianno', 'marking', 'markon', 'marlen', 'marquess', 'marqus', 'marsai', 'marsean', 'marshun', 'marvion', 'masego', 'mashal', 'mateyo', 'mathais', 'matheson', 'matija', 'matthaios', 'matthan', 'matviy', 'matyas', 'maurion', 'mavryck', 'maxden', 'maximiano', 'maximillan', 'maximum', 'maxin', 'maxximo', 'maxxton', 'mayar', 'mayce', 'maycen', 'mayco', 'maycon', 'maysn', 'mazion', 'mazzy', 'mcallister', 'mcclane', 'mccormick', 'mcgregor', 'meerab', 'mehmed', 'melech', 'melkin', 'melquisedec', 'mesac', 'mesias', 'messyah', 'michaelanthony', 'mihajlo', 'mihran', 'mikiah', 'mikiyas', 'milam', 'milani', 'millie', 'milyon', 'minkah', 'miranda', 'mitansh', 'mitsuki', 'mizan', 'mofeoluwa', 'mohab', 'mohamedamiin', 'momen', 'momodou', 'money', 'montague', 'montay', 'monterio', 'montrel', 'morpheus', 'mosha', 'mossimo', 'mounir', 'moyses', 'mozzi', 'muhammadhasan', 'muhammadibrahim', 'muhammadmusa', 'muhammadumar', 'mukhammad', 'mukhammadyusuf', 'munachi', 'muneeb', 'murry', 'muse', 'musiq', 'mustaf', 'myeir', 'myloh', 'naeco', 'nagee', 'nahiem', 'nahsir', 'nahun', 'najeeb', 'najm', 'naledge', 'namish', 'nandan', 'nando', 'naoki', 'nasri', 'nasyr', 'natsu', 'navarro', 'navion', 'navon', 'nazeem', 'nazhir', 'nechemya', 'neco', 'neegan', 'nefi', 'nehemiyah', 'neitan', 'nektarios', 'nello', 'neyo', 'nguyen', 'nhial', 'nial', 'nicho', 'nicholi', 'niel', 'nihir', 'nihith', 'nikkolas', 'nikolo', 'nimalan', 'nirmaan', 'nishant', 'nishiv', 'nitin', 'noar', 'nodin', 'noell', 'nohan', 'nolynn', 'norbu', 'nosiah', 'novell', 'noven', 'novian', 'noy', 'nuno', 'nyan', 'nyeir', 'nygel', 'nyir', 'nykeem', 'nykko', 'nykolas', 'nymire', 'nyne', 'nysaiah', 'nyzaire', 'nyzel', 'oba', 'obrian', 'obsa', 'ocie', 'odai', 'ohtli', 'olajide', 'olajuwon', 'olaoluwa', 'olee', 'olek', 'ollyver', 'olufemi', 'olumide', 'oluwadamilola', 'oluwadunsin', 'oluwaferanmi', 'omaet', 'oneal', 'orgil', 'orien', 'orland', 'orry', 'orvin', 'osean', 'oshawn', 'oshay', 'osher', 'oshyn', 'osinachi', 'osirus', 'oso', 'ossian', 'osyrus', 'oto', 'owens', 'ozais', 'ozil', 'pacer', 'paisley', 'patch', 'pavit', 'pavle', 'paxtin', 'paycen', 'paysen', 'paz', 'pearse', 'pele', 'peleg', 'perrion', 'peyson', 'pharoh', 'phillips', 'pieter', 'pilot', 'pinny', 'placido', 'pranil', 'prateek', 'pratt', 'prayaan', 'preacher', 'prentis', 'preslee', 'princeamir', 'purav', 'quang', 'quantavious', 'quantavius', 'quban', 'quentrell', 'quentyn', 'quincee', 'quintez', 'quirino', 'raaghav', 'raahim', 'rader', 'radnor', 'raelynn', 'raequan', 'rafan', 'raheel', 'rahmi', 'rahyl', 'raijin', 'raimundo', 'rainen', 'raji', 'rally', 'ramal', 'rambo', 'ramesh', 'ramos', 'range', 'rangel', 'ranon', 'ras', 'rashan', 'rasul', 'raunak', 'rawlin', 'rawling', 'rayed', 'raygen', 'raylynn', 'rayniel', 'raysen', 'rece', 'regino', 'regulo', 'regulus', 'reino', 'remmi', 'renegade', 'renick', 'renlee', 'rennie', 'renwick', 'renz', 'rephael', 'rett', 'reu', 'revv', 'rexx', 'reyanshreddy', 'reylin', 'reyon', 'reyson', 'rhavi', 'rhemi', 'rhenn', 'rhettlee', 'rhettly', 'rhip', 'rhoads', 'rhyden', 'richy', 'riko', 'riplee', 'rippley', 'rishith', 'ritter', 'riyu', 'roanin', 'roary', 'roby', 'rodin', 'rodman', 'rodrygo', 'rody', 'roey', 'rogen', 'rogers', 'rohman', 'rojelio', 'roko', 'rolin', 'rollie', 'rolyn', 'romaan', 'romare', 'romelle', 'romualdo', 'ronaldinho', 'ronix', 'rooster', 'rorey', 'rosco', 'rostam', 'rotimi', 'rowlyn', 'roycen', 'rudi', 'rudolf', 'rushank', 'russo', 'rutger', 'rykar', 'rymer', 'rymir', 'saaj', 'saam', 'saban', 'sabastion', 'sacred', 'sadie', 'sadiel', 'sadler', 'sadrac', 'saed', 'safal', 'saifuddin', 'saim', 'sairam', 'saiyon', 'sajjad', 'sajjan', 'saket', 'saladin', 'samaje', 'samatar', 'sambhav', 'samwell', 'samyak', 'samyog', 'san', 'sanai', 'sane', 'sango', 'sansar', 'saqr', 'sarang', 'sarfaraz', 'sargon', 'sarvin', 'saurabh', 'savar', 'savyon', 'sayden', 'sayid', 'sayveon', 'schneider', 'science', 'sebastijan', 'sehej', 'sencere', 'sensei', 'seraph', 'serigne', 'sevak', 'severide', 'seydina', 'seymour', 'seyven', 'shaakir', 'shabsi', 'shaddai', 'shaden', 'shadi', 'shahaan', 'shaheed', 'shahir', 'shameer', 'sharaf', 'sharmarke', 'shaydon', 'shaymus', 'shedrick', 'shenouda', 'sheperd', 'sher', 'sherif', 'sherron', 'shimmy', 'shreeyan', 'shu', 'shun', 'shye', 'shyheim', 'siaire', 'siddarth', 'sidy', 'silis', 'simonpeter', 'sinatra', 'sitiveni', 'sitka', 'siyan', 'skylin', 'slaton', 'slevin', 'slone', 'sohaib', 'solon', 'som', 'soni', 'spike', 'spiros', 'sreeyan', 'stanislaw', 'star', 'starling', 'steffon', 'stellar', 'steph', 'stori', 'summer', 'suryansh', 'sutten', 'swaraj', 'swift', 'sylvain', 'tacoma', 'tadeusz', 'taelen', 'taelin', 'taequan', 'tahlil', 'tahmeed', 'tahseen', 'taiki', 'taisei', 'taivon', 'tajay', 'takhi', 'talent', 'talik', 'talis', 'tam', 'tanav', 'tancredi', 'tanielu', 'tarrell', 'tashfin', 'tasir', 'tateum', 'tauheed', 'tavius', 'tavoris', 'tavyn', 'tawfiq', 'tay', 'taylyn', 'tayron', 'tee', 'telly', 'telmo', 'temidayo', 'temir', 'temitayo', 'temur', 'tennison', 'tequan', 'terryn', 'tevye', 'teyo', 'thacher', 'thaine', 'thanh', 'thanos', 'theojames', 'theos', 'thian', 'thijs', 'thobias', 'thoedore', 'thom', 'thomson', 'thyri', 'tiberias', 'tide', 'tifeoluwa', 'tighe', 'tilson', 'tilton', 'time', 'tipton', 'tiras', 'tirrell', 'tkai', 'tobe', 'tomasi', 'torre', 'torres', 'towa', 'trashawn', 'travaris', 'travonte', 'treden', 'tremari', 'treson', 'trevante', 'trevelle', 'trevonne', 'treylon', 'treyveon', 'trhue', 'trig', 'trinton', 'tryp', 'trypp', 'trystyn', 'tydarius', 'tyjae', 'tyjir', 'tykell', 'tymar', 'tymoni', 'tyrael', 'tyresse', 'tyris', 'tysean', 'tysier', 'umberto', 'uvaldo', 'vader', 'vahan', 'valiente', 'valin', 'vanson', 'varad', 'vasili', 'vasily', 'veeran', 'venture', 'victorino', 'victorious', 'vidyuth', 'vigo', 'vikyath', 'viliamu', 'vinayak', 'vinton', 'virajreddy', 'vishaan', 'vitali', 'volvi', 'vontae', 'vraj', 'vuong', 'waden', 'wadley', 'wagner', 'wahid', 'waiks', 'warsame', 'warwick', 'washington', 'waymon', 'wealth', 'wendall', 'weslan', 'wickham', 'wild', 'wilkin', 'willam', 'windell', 'winson', 'winsten', 'winton', 'woodensley', 'woodland', 'woojin', 'wrenly', 'wrett', 'wyatte', 'wyeth', 'wyld', 'wylin', 'xaeden', 'xaelyn', 'xamari', 'xannon', 'xantiago', 'xayvier', 'xhaiden', 'xoan', 'xoel', 'xylen', 'xyrus', 'xzaiden', 'xzayden', 'xzayvien', 'yacine', 'yacob', 'yaden', 'yahriel', 'yahsiah', 'yancy', 'yao', 'yashar', 'yassiel', 'yedidya', 'yefri', 'yeiko', 'yekusiel', 'yerson', 'yeshayahu', 'yester', 'yexian', 'yiming', 'yoandri', 'yobani', 'yochanon', 'yohance', 'yonel', 'york', 'yoseth', 'yoshiyahu', 'yosiyah', 'yossef', 'yotam', 'yue', 'yuhan', 'yuito', 'yuli', 'yuniel', 'yuvanreddy', 'yuven', 'zabian', 'zacai', 'zachai', 'zachariyah', 'zacheriah', 'zaed', 'zaevon', 'zaheem', 'zahmire', 'zahvier', 'zainaldeen', 'zaiven', 'zaivion', 'zaiyr', 'zakaree', 'zakoda', 'zakori', 'zalyn', 'zamare', 'zamere', 'zamonte', 'zani', 'zaquan', 'zari', 'zariel', 'zathan', 'zaviel', 'zavin', 'zaxai', 'zaxtyn', 'zaydian', 'zaylynn', 'zaymir', 'zayre', 'ze', 'zecharia', 'zedd', 'zedric', 'zehaan', 'zekhi', 'zeki', 'zeland', 'zemariam', 'zennon', 'zeon', 'zero', 'zeven', 'zevon', 'zevyn', 'zeyd', 'zhair', 'zhayd', 'zhen', 'zhion', 'zierre', 'zinedine', 'zuhayr', 'zvi', 'zyeire', 'zyel', 'zyian', 'zylar', 'zyn'], which appear 5 times in the dataset.\n"
     ]
    }
   ],
   "source": [
    "my_min_boys = min(boys.values())\n",
    "uncommon_boys_names = []\n",
    "\n",
    "for name in boys.keys():\n",
    "    if boys[name] == my_min_boys:\n",
    "        uncommon_boys_names.append(name)\n",
    "\n",
    "print(f\"The most uncommon boys names are {uncommon_boys_names}, which appear {my_min_boys} times in the dataset.\")"
   ]
  },
  {
   "cell_type": "code",
   "execution_count": 27,
   "metadata": {},
   "outputs": [
    {
     "name": "stdout",
     "output_type": "stream",
     "text": [
      "The most uncommon girls names are ['aabha', 'aadhirai', 'aadvi', 'aafia', 'aailyah', 'aaima', 'aaiza', 'aakifah', 'aakriti', 'aaleeyah', 'aaleia', 'aaranya', 'aariaani', 'aarielle', 'aarin', 'aarionna', 'aaryah', 'aaryana', 'aaryiah', 'aashka', 'aashna', 'aashritha', 'aayara', 'abbygale', 'abeera', 'abiola', 'abisola', 'abiya', 'abree', 'abrey', 'abuk', 'abygale', 'abyssinia', 'acela', 'acelia', 'acie', 'ackley', 'adaira', 'adaire', 'adaiyah', 'adaleia', 'adalys', 'adanelly', 'addaley', 'addalia', 'addalina', 'addelyne', 'addylynn', 'addysyn', 'adelade', 'adelaya', 'adeleigh', 'adeley', 'adelinn', 'adesewa', 'adiana', 'adiba', 'adila', 'adior', 'adly', 'adona', 'adonia', 'adorah', 'adriann', 'adrie', 'adrionna', 'adrita', 'adryana', 'adylynn', 'aelina', 'aemelia', 'aerabella', 'aerowyn', 'aeryss', 'aesha', 'afaf', 'afrin', 'aggie', 'ahanna', 'ahilani', 'ahinara', 'ahlai', 'ahlanni', 'ahleyah', 'ahlina', 'ahmaya', 'ahmiyah', 'ahmyah', 'ahnesty', 'ahni', 'ahonesti', 'ahrie', 'ahriya', 'ahveya', 'ahvi', 'ahvianna', 'ahyoka', 'ahzari', 'aidaly', 'aife', 'aijah', 'aileth', 'ailis', 'aimar', 'airalyn', 'airiana', 'aishat', 'aishvi', 'aisleen', 'aissa', 'ajourni', 'ajream', 'akailah', 'akane', 'akaylah', 'akire', 'akon', 'aksa', 'akuol', 'akya', 'akyra', 'alaana', 'alaea', 'alaena', 'alaeyah', 'alaiha', 'alaizah', 'alamea', 'alandria', 'alaniz', 'alankrita', 'alarah', 'alayaa', 'alayja', 'alchemy', 'aleanna', 'aleece', 'alegaci', 'alenia', 'alera', 'alexanderia', 'alexei', 'alexzandra', 'aliaa', 'alianni', 'alieah', 'aliena', 'alifa', 'alissah', 'alleia', 'alleyah', 'allysen', 'almudena', 'aloe', 'alonie', 'altair', 'aluel', 'alula', 'alyani', 'alyda', 'alynah', 'alyonna', 'alyrah', 'alysen', 'amabella', 'amaka', 'amany', 'amariee', 'amarise', 'amaru', 'amazi', 'amaziah', 'amberlie', 'ameah', 'ameelah', 'ameilya', 'amelea', 'ameyah', 'amierah', 'amiia', 'amiliyah', 'amilliah', 'amine', 'amineh', 'amirii', 'amiryah', 'amiyra', 'amla', 'ammarie', 'amnah', 'amoret', 'amparo', 'amryn', 'amunet', 'amyrical', 'anab', 'anadelia', 'anae', 'anahla', 'anaija', 'analeiah', 'analilia', 'analiza', 'anamta', 'anarely', 'anavaeh', 'anavrin', 'anayansi', 'anayely', 'anaylah', 'andilynn', 'andrianna', 'andrra', 'anecia', 'aneesha', 'anelisse', 'angelea', 'angelene', 'angelice', 'angelisse', 'angelyna', 'anifer', 'anikha', 'anime', 'anisah', 'anivia', 'anjel', 'anjola', 'anmol', 'annaclara', 'annaise', 'annaleese', 'annalena', 'annaleya', 'annaliza', 'annalize', 'annalyssa', 'annapurna', 'annaruth', 'annavictoria', 'annayah', 'annella', 'annesley', 'annorah', 'anran', 'ansha', 'anthony', 'anthym', 'antigone', 'anu', 'anushree', 'anvee', 'anyra', 'aonani', 'aparna', 'aralee', 'arami', 'aranya', 'arbella', 'areia', 'areina', 'arelyn', 'aren', 'arianis', 'ariarose', 'ariayl', 'ariba', 'ariday', 'ariele', 'arien', 'arirose', 'aritzia', 'ariyanah', 'ariyha', 'arlani', 'armanie', 'armelia', 'armida', 'armony', 'arriella', 'arriyah', 'aruvi', 'arybella', 'aryel', 'aryiana', 'aryianna', 'arys', 'arzoie', 'asaiah', 'asana', 'ashai', 'ashelynn', 'ashiya', 'ashli', 'ashvi', 'ashyla', 'asiana', 'aslan', 'aslihan', 'aslin', 'aslinn', 'asmara', 'astreya', 'astri', 'athar', 'atika', 'attalia', 'attallah', 'aubre', 'aubreerose', 'aubreyella', 'aubria', 'aubrianne', 'aubriee', 'aubriel', 'audelina', 'audianna', 'audrinna', 'audryanna', 'aulelei', 'aurbree', 'aureliana', 'aurorarose', 'avaeah', 'avajade', 'avalyse', 'avayla', 'aveia', 'avenly', 'avera', 'averyana', 'avey', 'aviel', 'avienda', 'avonlee', 'avrey', 'avyn', 'axie', 'ayasofia', 'aydan', 'ayen', 'aylina', 'aynsley', 'ayo', 'ayssa', 'azaleia', 'azalie', 'azami', 'azaree', 'azarria', 'azazel', 'azealia', 'azera', 'azhani', 'azharia', 'azita', 'azka', 'azria', 'azuriah', 'babette', 'bae', 'baelee', 'baeli', 'baelyn', 'balenci', 'balencia', 'banksy', 'bareerah', 'barkot', 'bassheva', 'behati', 'belamy', 'belize', 'bellaluna', 'bellen', 'bellezza', 'belma', 'beloved', 'bennet', 'berkely', 'berkli', 'berklie', 'bernadine', 'berta', 'bethann', 'betiel', 'betsie', 'bettyjo', 'beyonce', 'beyza', 'bhavya', 'bhuvi', 'bilen', 'bilqis', 'binah', 'bissan', 'blaklyn', 'bly', 'boe', 'bonni', 'boone', 'brae', 'braeley', 'braeya', 'braislee', 'brandie', 'brany', 'braxley', 'bray', 'breeanna', 'breeley', 'breia', 'brendalynn', 'brendy', 'brentlee', 'breyanna', 'brighid', 'brigit', 'brihana', 'brihanna', 'brilliance', 'brilliant', 'brinzley', 'briselda', 'briselle', 'brita', 'brizeyda', 'bronxx', 'brooklyne', 'bryan', 'brycelynn', 'brynlei', 'brynnly', 'bunny', 'burke', 'burkleigh', 'cache', 'caelin', 'cahya', 'cailah', 'cairee', 'caitriona', 'caleena', 'calii', 'calila', 'callaghan', 'calliana', 'callidora', 'cam', 'camauri', 'cambre', 'cambreigh', 'cammi', 'camoura', 'camyra', 'canary', 'candyce', 'capria', 'cardi', 'careli', 'caridad', 'carisa', 'carisma', 'carleena', 'carlena', 'carmani', 'carolee', 'carrera', 'cason', 'casper', 'cassius', 'cataliyah', 'cedra', 'celiana', 'cerelia', 'charleeann', 'charlsie', 'chaselynn', 'chatham', 'chau', 'chayil', 'chaz', 'chenxi', 'cherrish', 'cheyann', 'chikamso', 'chloeann', 'chozynn', 'chrissa', 'christabella', 'chrystiana', 'chyla', 'cinderella', 'citlally', 'clarajane', 'claribelle', 'clarita', 'clayton', 'cleissy', 'clelia', 'coast', 'coen', 'colibri', 'colin', 'comfort', 'connolly', 'constantina', 'consuela', 'conway', 'coraima', 'coralei', 'coralin', 'coralina', 'cordellia', 'corine', 'corinthian', 'corrin', 'cortlyn', 'cortney', 'crisbell', 'crissy', 'cristella', 'crosbie', 'curie', 'cyn', 'cynai', 'cynia', 'cyniyah', 'daanya', 'daenarys', 'dafni', 'dahlani', 'dahlila', 'dahlilah', 'dailah', 'daileigh', 'daileny', 'dairyn', 'daivy', 'daizie', 'dalanii', 'dalarie', 'daleyla', 'daleyzah', 'dalissa', 'daliylah', 'daliza', 'dallyss', 'damor', 'danaria', 'dandrea', 'daniele', 'danileigh', 'dannah', 'danniella', 'daphni', 'darbi', 'dariann', 'dariany', 'darlyne', 'darlynn', 'darri', 'darria', 'dasiah', 'davaya', 'daveena', 'davika', 'dayjah', 'dayle', 'daylen', 'daylene', 'deani', 'debrah', 'deidre', 'deily', 'delanni', 'delaylah', 'delicia', 'delillah', 'delisa', 'delle', 'delsy', 'dema', 'demie', 'demirose', 'demitria', 'demy', 'demyah', 'denisha', 'deniya', 'denni', 'deoni', 'dessa', 'destani', 'devaeh', 'devonna', 'deylin', 'deyra', 'dezariah', 'deziah', 'dharma', 'dharvi', 'dhritireddy', 'dhruti', 'diamante', 'dianelys', 'dianni', 'diary', 'dilan', 'dilcia', 'dilyn', 'diona', 'dione', 'diorr', 'dira', 'ditza', 'divika', 'dlyla', 'dlylah', 'dor', 'dotty', 'dovey', 'draven', 'dreamer', 'dreamy', 'dreanna', 'drelynn', 'dulaney', 'dulcie', 'durga', 'dustee', 'dvosia', 'dyala', 'dyamond', 'dylilah', 'dynastii', 'eboni', 'ebtisam', 'ece', 'edalynn', 'edelina', 'edenrose', 'edin', 'edisyn', 'eduarda', 'eemaan', 'ehani', 'eilany', 'eilene', 'eimaan', 'eire', 'eiress', 'eisele', 'eislyn', 'eizabella', 'ejla', 'ekhlas', 'elaheh', 'elainea', 'elainy', 'elaiza', 'elanah', 'elaney', 'elanii', 'elanny', 'elasia', 'elaura', 'elayjah', 'elaynna', 'elease', 'elei', 'elen', 'elenie', 'eleri', 'elesia', 'elessia', 'eleya', 'eliara', 'elienai', 'eliett', 'elisheba', 'elizabet', 'ellaine', 'ellalee', 'ellason', 'elleighana', 'elleni', 'ellenie', 'ellenora', 'elleona', 'elliya', 'ellori', 'eloiza', 'elon', 'eloria', 'elorie', 'elouisa', 'elsey', 'elta', 'elu', 'elynor', 'elyon', 'elyzah', 'emalyne', 'emarii', 'embrii', 'emel', 'emeliah', 'emereigh', 'emiliarose', 'emjay', 'emmabelle', 'emmalena', 'emmaree', 'emmerlynn', 'emmitt', 'emslie', 'emyra', 'ender', 'endi', 'endiyah', 'eneida', 'eneri', 'enessa', 'enith', 'enzie', 'epic', 'eponine', 'erendira', 'eriella', 'erilynn', 'eriyanna', 'erla', 'ernestina', 'erys', 'ese', 'eseosa', 'esmea', 'esmerae', 'esperance', 'estephania', 'estephany', 'estoria', 'evadne', 'evangaline', 'evangelene', 'evangelin', 'evangelynn', 'evanka', 'evanni', 'evannie', 'evian', 'evienne', 'evonne', 'evony', 'evvy', 'ewa', 'ewaoluwa', 'exie', 'eyonna', 'ezmerelda', 'faduma', 'fahima', 'faige', 'fairy', 'faithful', 'faizah', 'falaq', 'falasteen', 'fantasia', 'fareeha', 'farhana', 'faridah', 'faryal', 'fatmata', 'fauzia', 'fayla', 'fayola', 'feather', 'febe', 'feigy', 'feliciana', 'felisa', 'fergie', 'fey', 'filipa', 'finnegan', 'finola', 'fizza', 'floridalma', 'folasade', 'foreign', 'franca', 'francoise', 'franklynn', 'franny', 'frederica', 'freyia', 'furtu', 'fynnlee', 'gabriana', 'gabriele', 'ganna', 'gatlynn', 'gavi', 'gefen', 'gelina', 'gella', 'gena', 'genaya', 'genelle', 'geneve', 'genora', 'genuine', 'georgetta', 'gertie', 'ghianna', 'giannamarie', 'giannarose', 'gili', 'giliana', 'giordana', 'gitel', 'glorianne', 'graceigh', 'graciana', 'graesyn', 'grettell', 'guillermina', 'guliana', 'gwendolynne', 'gwenn', 'gwenyvere', 'gwyn', 'gwyndolin', 'gypsie', 'haby', 'hadasha', 'hadyn', 'haezel', 'haile', 'haili', 'haizyl', 'hajara', 'halcyon', 'haleemah', 'hallel', 'hamida', 'hanadi', 'hanaya', 'haniah', 'hannalee', 'hannelore', 'harleyrose', 'harly', 'harmone', 'harriette', 'harvee', 'hasenat', 'hasha', 'hasina', 'hasleigh', 'hassatou', 'hava', 'hawkins', 'hayaa', 'haydenn', 'hayeslee', 'haygen', 'hazle', 'heartlynn', 'hefziba', 'heide', 'heizel', 'helaine', 'helayna', 'hella', 'hemi', 'henri', 'heyab', 'heydy', 'heysel', 'hibah', 'hibo', 'hiley', 'hinza', 'hiyabel', 'hollan', 'honestie', 'honoka', 'houda', 'hudsen', 'humairah', 'hyatt', 'ibiza', 'ichika', 'icylinn', 'idamae', 'idris', 'ifra', 'ifza', 'ihana', 'ikhlaas', 'ilaiah', 'ilamae', 'ilaya', 'ilayna', 'ilee', 'ilinca', 'ilyena', 'imunique', 'inanna', 'indyah', 'inge', 'iniko', 'innaya', 'iolana', 'ionna', 'irah', 'irais', 'irelynd', 'irielle', 'irini', 'irish', 'iryss', 'isabellagrace', 'isadore', 'isamara', 'isayana', 'ishaanvi', 'ishimwe', 'ishvi', 'isioma', 'iskra', 'islabelle', 'islagrace', 'isleigh', 'isma', 'issabela', 'isys', 'itzcali', 'itzell', 'itzy', 'ivadell', 'ivalee', 'iveel', 'ivonna', 'ivvy', 'ivygrace', 'ivyona', 'ixora', 'iyannah', 'iyanni', 'iyland', 'jabrea', 'jacari', 'jacilyn', 'jadeyn', 'jaedynn', 'jaelin', 'jaella', 'jaelynne', 'jaemarie', 'jaesha', 'jahkai', 'jahleah', 'jahna', 'jahzarah', 'jaici', 'jaidee', 'jaiel', 'jailine', 'jailoni', 'jaimarie', 'jaira', 'jakhyla', 'jakya', 'jakyia', 'jalaylah', 'jaliana', 'jalie', 'jalyla', 'jamesia', 'jamilex', 'jamilia', 'jamillah', 'jamina', 'jamyrah', 'jan', 'jandy', 'janett', 'janeya', 'janeyah', 'japleen', 'japneet', 'jaraya', 'jareli', 'jarelis', 'jareth', 'jaria', 'jaselynn', 'jasmeen', 'jatziry', 'javannah', 'javiah', 'javonna', 'jaylaa', 'jaylahni', 'jaylan', 'jaylarose', 'jaylenn', 'jaylenne', 'jaylianis', 'jaylianiz', 'jaylianni', 'jayliene', 'jaylise', 'jaylnn', 'jaylonni', 'jazani', 'jazayla', 'jazbel', 'jazmarie', 'jazzmin', 'jazzmyne', 'jeannine', 'jeilianys', 'jelianny', 'jelianys', 'jelilah', 'jem', 'jenalyn', 'jenan', 'jenasys', 'jency', 'jendaya', 'jenee', 'jenell', 'jeni', 'jenice', 'jenisis', 'jennalee', 'jennavie', 'jentrie', 'jeri', 'jerika', 'jerilyn', 'jermanii', 'jerney', 'jerzy', 'jess', 'jessilyn', 'jette', 'jeweliana', 'jezabelle', 'jezlyn', 'jhalani', 'jhana', 'jhavia', 'jhenai', 'jhett', 'jhoanna', 'jhoselyn', 'jiannah', 'jihanna', 'jimi', 'jina', 'jireth', 'jiyanna', 'joali', 'joani', 'joanny', 'jocee', 'jocelynne', 'joclyn', 'joee', 'joelis', 'joellen', 'joelynn', 'johnae', 'johnnae', 'joleah', 'joliee', 'joliene', 'joliette', 'joliyah', 'jonathan', 'jonesy', 'jordann', 'jordanna', 'josely', 'josieann', 'joslynne', 'jovianna', 'jovy', 'joylynn', 'jozee', 'jozy', 'juany', 'juda', 'judia', 'jula', 'julena', 'julez', 'julianie', 'juliannah', 'juliauna', 'julieanne', 'julitza', 'julyanna', 'jwana', 'jya', 'kaashi', 'kaashvi', 'kabria', 'kadidia', 'kadidja', 'kadri', 'kae', 'kaezlee', 'kahleah', 'kahlei', 'kahliah', 'kaicey', 'kaijah', 'kailahni', 'kailanie', 'kailene', 'kailo', 'kaiona', 'kaisly', 'kaisy', 'kaiyani', 'kaiyomi', 'kalai', 'kalan', 'kalayiah', 'kaleea', 'kaleese', 'kaleiyah', 'kalese', 'kalice', 'kalini', 'kalirose', 'kaliyan', 'kaliyana', 'kalonie', 'kalonii', 'kalylah', 'kamalani', 'kamaree', 'kambryn', 'kamdynn', 'kamili', 'kammi', 'kamonie', 'kampbell', 'kamy', 'kamylla', 'kandice', 'kare', 'kariel', 'karimah', 'karine', 'karmel', 'karmine', 'karmoni', 'karolyne', 'kartyr', 'karys', 'kasani', 'kashindi', 'kasiya', 'kassadi', 'kataliya', 'katalynna', 'katarzyna', 'katelina', 'kathrin', 'katilaya', 'katriana', 'kavia', 'kayanni', 'kaycen', 'kayler', 'kaylonni', 'kayna', 'kayona', 'kayonni', 'kayton', 'kazariah', 'kazlynn', 'keaira', 'kealia', 'kearra', 'keelynn', 'keera', 'kehinde', 'kehloni', 'keiarra', 'keilanii', 'keilanys', 'keiley', 'keilianys', 'keiloni', 'keimoni', 'keimy', 'keiona', 'keirra', 'keiryn', 'kelany', 'kelcey', 'kelcy', 'keli', 'keliah', 'keliana', 'kelin', 'kellee', 'kelleigh', 'kellin', 'kelsei', 'keltie', 'kelynn', 'kemara', 'kemiah', 'kemya', 'kenai', 'kendaya', 'kendrie', 'kenedee', 'kenedy', 'keni', 'keniah', 'kenidi', 'kensey', 'kenyatta', 'kenzia', 'keora', 'kerstin', 'kessa', 'kessiah', 'kesslyn', 'keydi', 'keylanni', 'keyloni', 'khadijatou', 'khaila', 'khailee', 'khalesi', 'khaleya', 'khalil', 'khamille', 'khaniyah', 'khaya', 'khaylee', 'khayra', 'khelanie', 'khleo', 'khloi', 'khylynn', 'khyrah', 'kian', 'kiaraliz', 'kiarri', 'kiarybel', 'kierston', 'kieryn', 'kilayah', 'kiloni', 'kimmie', 'kimori', 'kimya', 'kindall', 'king', 'kinnsley', 'kinslea', 'kinzly', 'kiore', 'kirana', 'kismet', 'kiswa', 'kitara', 'kitra', 'kizzie', 'klahni', 'kloee', 'kmiyah', 'kmoni', 'kmya', 'knylah', 'kobee', 'koemi', 'kohinoor', 'kollier', 'kolsyn', 'kolynns', 'konley', 'koralie', 'korrine', 'kourage', 'kourtnei', 'kridha', 'krishvi', 'krisley', 'krissia', 'krissy', 'kristlyn', 'kritika', 'kriva', 'kriya', 'krysten', 'kshetra', 'kueen', 'kulani', 'kwyn', 'kyanne', 'kyera', 'kylaya', 'kylene', 'kylise', 'kyndle', 'kyniah', 'kynlei', 'kynnlee', 'kyriah', 'kyrianna', 'labella', 'laceigh', 'ladonna', 'laeloni', 'lahela', 'lahlani', 'laikin', 'lailanni', 'lailee', 'lailonie', 'laira', 'laiyla', 'laiza', 'lajoy', 'lakeisha', 'lakira', 'lakshya', 'lalah', 'laliyah', 'laloni', 'lalonnie', 'lam', 'lamiracle', 'lamoura', 'lanasia', 'landreigh', 'lanee', 'lanita', 'lanyah', 'lanyia', 'laraia', 'larayne', 'lareine', 'larena', 'larson', 'larya', 'laryah', 'lasiyah', 'latisha', 'lauralai', 'laurali', 'laurelai', 'laurence', 'lauri', 'lavana', 'lavonna', 'lawanda', 'lawton', 'layiah', 'laylamae', 'layleen', 'lazaria', 'leahny', 'leandria', 'leeland', 'leella', 'leelynn', 'leeona', 'leeonna', 'legna', 'lehla', 'leihlani', 'leiko', 'leilamae', 'leilanys', 'leili', 'leilianys', 'leiluna', 'leiyani', 'leiyanna', 'lekha', 'lemmie', 'lenea', 'leonella', 'leonia', 'leriyah', 'lesedi', 'letitia', 'letta', 'leva', 'levia', 'lexee', 'leyan', 'leylanni', 'leyu', 'lezly', 'liahna', 'lialah', 'liamani', 'lianis', 'liddy', 'lilamae', 'lilani', 'lilarose', 'lillionna', 'lillynn', 'lillyona', 'lilyah', 'linah', 'linet', 'lineth', 'linna', 'linsy', 'lisabella', 'lisaira', 'lissy', 'litzi', 'lizet', 'lizzet', 'loelle', 'loey', 'londan', 'lorea', 'lorenna', 'loreta', 'lorien', 'lorissa', 'lorren', 'lorryn', 'louana', 'louann', 'louisiana', 'louiza', 'lovanna', 'loveleen', 'loveli', 'lovelle', 'lovisa', 'lowell', 'loyaltii', 'luah', 'lucas', 'lucey', 'lucymae', 'lujane', 'lulana', 'lulia', 'lumin', 'luwam', 'luxlee', 'lyan', 'lydianna', 'lyfe', 'lylian', 'lylianna', 'lyniah', 'lynneah', 'lynzie', 'lyudmila', 'lyz', 'maali', 'maame', 'macari', 'mackenley', 'mackensie', 'madany', 'maday', 'maddisen', 'madeeha', 'madilyne', 'maebh', 'maebri', 'maeci', 'maelanie', 'maelea', 'maev', 'maevelyn', 'maeverly', 'magdaline', 'maggy', 'maguette', 'mahagony', 'mahalakshmi', 'mahaley', 'mahani', 'mahdia', 'mahek', 'mahiya', 'mahla', 'mahoganie', 'mahri', 'mahrukh', 'maicie', 'maicyn', 'maiella', 'mais', 'maisel', 'maiven', 'maizelynn', 'majestii', 'major', 'makalynn', 'makensley', 'makilah', 'makyia', 'malajah', 'malakai', 'malany', 'maleeya', 'malila', 'malini', 'malkah', 'malloree', 'malyiah', 'malynda', 'mama', 'manasa', 'manisa', 'marajade', 'maravilla', 'marcelline', 'marcelyn', 'mariaemilia', 'mariahna', 'marialucia', 'mariangela', 'mariannah', 'mariarose', 'mariasofia', 'mariavalentina', 'marielis', 'mariem', 'marilou', 'mariluna', 'mariona', 'maritta', 'marleaux', 'marleyrae', 'marliee', 'marlys', 'marnita', 'marra', 'marrah', 'marriah', 'marshall', 'marty', 'maryhelen', 'marziya', 'masey', 'maui', 'mava', 'maveri', 'maveryk', 'maxlynn', 'maye', 'maysoon', 'mayura', 'mazarine', 'mazilyn', 'mazlyn', 'mckaylee', 'mclane', 'mealla', 'mechelle', 'meerab', 'mehza', 'meiko', 'melana', 'melanii', 'melodygrace', 'melondy', 'mely', 'melynda', 'menorah', 'merab', 'meral', 'meredy', 'merelyn', 'meritt', 'merveille', 'miaa', 'miamore', 'miarie', 'micheala', 'michiko', 'midna', 'miheeka', 'mihrimah', 'mikeila', 'mikyah', 'milaan', 'milaia', 'milaina', 'milanny', 'milca', 'mileydy', 'mille', 'millieann', 'milliemae', 'minori', 'miori', 'miran', 'mirely', 'miria', 'misgana', 'mishal', 'mishelle', 'mkayla', 'mmasinachi', 'moani', 'moli', 'momoka', 'monalisa', 'monarch', 'moni', 'monnie', 'monte', 'morghan', 'mori', 'mulki', 'muqadas', 'murphee', 'murphey', 'muska', 'muskaan', 'muzna', 'myalynn', 'myayla', 'mylayah', 'mylinh', 'myoni', 'myrakle', 'myrcella', 'myricle', 'mystique', 'naarah', 'nabeeha', 'nadalie', 'nadar', 'nadege', 'nadiah', 'nadra', 'naeema', 'nagi', 'nagisa', 'nahbi', 'nahdia', 'nahya', 'nakaya', 'nakoma', 'nalany', 'nalu', 'naly', 'nalyah', 'namiya', 'nanayaa', 'nao', 'naomirose', 'naphtali', 'naraly', 'naraya', 'narin', 'narina', 'nasai', 'naseem', 'nasteho', 'nataliyah', 'natanya', 'nation', 'natividad', 'natoria', 'natsumi', 'natti', 'navada', 'navae', 'nayda', 'naydeline', 'nayelii', 'nayture', 'nazeli', 'nazia', 'nazifa', 'nazira', 'nazneen', 'ndia', 'neaveh', 'neelam', 'neeley', 'neima', 'nel', 'neleh', 'neliah', 'nema', 'neo', 'neola', 'neriya', 'nery', 'nesryn', 'netra', 'nevelyn', 'neziah', 'ngan', 'nhyla', 'nialani', 'niamani', 'niamyah', 'nickole', 'nielle', 'nieve', 'nihana', 'nikol', 'nikoleta', 'nikolette', 'nior', 'niori', 'nirali', 'nirobi', 'nishitha', 'nisreen', 'nita', 'nitsa', 'niv', 'nivia', 'niviah', 'nivika', 'niyathi', 'nolvia', 'nooreh', 'noorulain', 'noria', 'normajean', 'nory', 'nourah', 'novalynne', 'noveah', 'nubian', 'nuna', 'nureen', 'nyarii', 'nyasha', 'nyava', 'nylai', 'nylan', 'nyle', 'nylie', 'nylin', 'nyliyah', 'nymira', 'nyveah', 'oakliegh', 'oliviarae', 'olly', 'oluwasemilore', 'oluwatobi', 'olyve', 'omiyah', 'omolara', 'omri', 'oniyah', 'onyxx', 'oren', 'ororo', 'osa', 'osmary', 'ottavia', 'oysha', 'oyuki', 'ozzlynn', 'paisleyann', 'paisleyrae', 'paisly', 'paiyton', 'paizlie', 'paizlynn', 'panagiota', 'pantera', 'parneet', 'pavneet', 'payge', 'paysen', 'pearly', 'pema', 'penellope', 'penni', 'pennylane', 'percy', 'perlita', 'perola', 'persephonie', 'pesha', 'peyson', 'phaith', 'phillipa', 'phiona', 'pocahontas', 'power', 'pragnya', 'praisely', 'pretty', 'priti', 'pryce', 'quiana', 'quinleigh', 'quinnleigh', 'quynh', 'qwynn', 'rabiya', 'radia', 'radiyah', 'radley', 'raeah', 'raeanne', 'raeden', 'raeliana', 'raelinn', 'raenah', 'raeyna', 'rahel', 'rahmiya', 'raissa', 'raivyn', 'raja', 'rajvi', 'ramaya', 'rami', 'ramsay', 'randa', 'ranesmae', 'ranyah', 'rasheeda', 'rashmika', 'ravin', 'raychel', 'rayea', 'rayelyn', 'rayen', 'raylah', 'raylei', 'razaan', 'raziel', 'reann', 'rediet', 'ree', 'rehat', 'reileen', 'remedios', 'renas', 'reniyah', 'renni', 'reveille', 'revelyn', 'revie', 'rewa', 'rexley', 'rexlynn', 'reyanna', 'reyanne', 'reylin', 'reynah', 'reyne', 'reynolds', 'reyva', 'rhaelyn', 'rhapsody', 'rhealee', 'rheanna', 'rhettley', 'rhettlyn', 'rhiyan', 'rhyanna', 'rhye', 'riane', 'ricci', 'richlynn', 'riel', 'riggin', 'rihan', 'riko', 'rilan', 'rilley', 'rimna', 'rissy', 'rithika', 'ritika', 'ritvi', 'riyaan', 'roa', 'roaa', 'roary', 'rocket', 'rocklyn', 'rocklynn', 'rohanna', 'romaisa', 'romana', 'romely', 'romilly', 'rona', 'ronia', 'ronja', 'rosaley', 'rosaluna', 'rosalyne', 'rosamae', 'rosealie', 'rosebella', 'rosebelle', 'roseleen', 'rosibel', 'roxane', 'roxette', 'royalle', 'royse', 'rozay', 'rozie', 'rozina', 'rozlin', 'rua', 'rubiana', 'rubye', 'ruelle', 'rukaiya', 'rukaya', 'rumaysah', 'rus', 'ruthlynn', 'ruweyda', 'ruya', 'rydia', 'ryilee', 'saanchi', 'sabali', 'sabeen', 'sabirah', 'sabrena', 'sabriya', 'sachiko', 'sadira', 'sadler', 'sadora', 'sady', 'saeeda', 'saela', 'safi', 'safura', 'sahani', 'sahla', 'saidy', 'sailee', 'sajda', 'sajida', 'sakiya', 'salara', 'salea', 'saleigha', 'saliah', 'salimah', 'saminah', 'samrudhi', 'samuela', 'sanaaya', 'sanii', 'sanisha', 'sanovia', 'santa', 'santi', 'santiago', 'saphina', 'sarabella', 'saraii', 'saralynn', 'sarann', 'sareya', 'sariel', 'saryn', 'saudi', 'savani', 'saveya', 'savia', 'saviona', 'sayat', 'saydie', 'saylee', 'scotlynd', 'sefina', 'selayah', 'seleen', 'selenia', 'selenie', 'seleny', 'selihom', 'sema', 'semiya', 'semma', 'senaya', 'seniah', 'senua', 'sephira', 'sequoyah', 'serai', 'seras', 'serein', 'serine', 'severine', 'seveyn', 'shadia', 'shaia', 'shaianne', 'shaivi', 'shalaya', 'shalia', 'shalva', 'shamiya', 'shanae', 'shannell', 'shanvika', 'sharanya', 'shari', 'sharol', 'sharona', 'shatha', 'shawn', 'shaylan', 'shayley', 'shealyn', 'shelsea', 'shiah', 'shiann', 'shirin', 'shivi', 'shivika', 'shiyah', 'shona', 'shreshta', 'shrina', 'shrisha', 'shritha', 'shruti', 'shyleigh', 'siari', 'sibel', 'sibi', 'sibylla', 'siennarose', 'sierrah', 'sif', 'sifan', 'sihana', 'sika', 'silya', 'simara', 'simmons', 'simonne', 'simrah', 'sims', 'sindel', 'sirenna', 'sirine', 'siriyah', 'sisley', 'sistine', 'sitra', 'skaii', 'skailar', 'skailyn', 'ski', 'skilynn', 'skyah', 'skyee', 'skylarrose', 'skylene', 'skylynne', 'skyye', 'sofina', 'sojourner', 'solaria', 'solis', 'soma', 'sondos', 'soniya', 'sophina', 'sophonie', 'sovanna', 'starlett', 'stasia', 'steffany', 'stellah', 'stellamarie', 'stellan', 'stephenie', 'stevee', 'sthefany', 'stonie', 'storri', 'stuti', 'sue', 'suna', 'sunem', 'sunisa', 'surie', 'susej', 'sussy', 'suzan', 'suzi', 'swayzi', 'sya', 'syanni', 'syara', 'sylphrena', 'sylver', 'symphanie', 'sypha', 'syrinity', 'taeleigh', 'tahiya', 'tahlani', 'tahleea', 'tahliah', 'tahliyah', 'taibah', 'tailor', 'taja', 'takara', 'takoda', 'takyla', 'talah', 'talaiyah', 'talei', 'taleia', 'tamarah', 'tamarie', 'tamika', 'tamyah', 'tamzin', 'tani', 'tanis', 'tanishi', 'tannah', 'tarah', 'tarini', 'tasnia', 'taviana', 'tawny', 'taygan', 'tayzlee', 'teagann', 'teghan', 'tesneem', 'thaila', 'thayla', 'thisbe', 'thomas', 'thyra', 'thyrie', 'thyrii', 'tien', 'tiferet', 'tiffani', 'tinslie', 'tinzley', 'tiona', 'tira', 'tisa', 'titan', 'toriana', 'torianna', 'torii', 'trelynn', 'tresor', 'treya', 'trhue', 'trianna', 'tricia', 'tuana', 'tyani', 'tyanne', 'tylei', 'tylia', 'tymia', 'tynsleigh', 'tynsley', 'tyrah', 'tyson', 'tytiana', 'tzivy', 'ummehani', 'vaelyn', 'valena', 'valentyna', 'valeriya', 'valli', 'valora', 'valynn', 'vanille', 'veeha', 'velen', 'venelope', 'veralyn', 'verily', 'verra', 'veta', 'veyah', 'vignette', 'vila', 'vinaya', 'vinisha', 'vismaya', 'vivan', 'vivianah', 'viviani', 'vonna', 'vriha', 'vrinda', 'wade', 'wafaa', 'walaa', 'wanita', 'wenona', 'willarae', 'wilmarie', 'winley', 'winnona', 'winta', 'witney', 'woodlyn', 'wrinley', 'wudase', 'wyn', 'wynlee', 'wynnona', 'wynslow', 'xailee', 'xamara', 'xeniyah', 'xenova', 'xiclaly', 'xila', 'xion', 'xochiquetzal', 'xylina', 'yachy', 'yacine', 'yaelle', 'yahvi', 'yaitza', 'yakout', 'yaletzi', 'yalexi', 'yanessa', 'yania', 'yarel', 'yareliz', 'yaremi', 'yarexi', 'yarleth', 'yasaira', 'yashfa', 'yaslynn', 'yasmyn', 'yeab', 'yelani', 'yerelin', 'yexalen', 'yian', 'yianna', 'yilin', 'yiselle', 'ymir', 'yoko', 'yoli', 'yorleny', 'yoseline', 'yoshi', 'yule', 'yuleidy', 'yuleisy', 'yuliet', 'yunalesca', 'yunique', 'yureli', 'yurianna', 'yuritza', 'yuvia', 'yva', 'yvana', 'zabelle', 'zae', 'zaeda', 'zaelah', 'zahlani', 'zahlee', 'zai', 'zaidie', 'zakhari', 'zakira', 'zakora', 'zakyah', 'zakyia', 'zakyiah', 'zakylah', 'zakyra', 'zalaiya', 'zalaysia', 'zaleiah', 'zaleigha', 'zaleiya', 'zali', 'zaliah', 'zalilah', 'zamantha', 'zamilah', 'zamyrah', 'zanique', 'zaray', 'zariella', 'zarish', 'zavayah', 'zayden', 'zaylianna', 'zazil', 'zealynn', 'zeila', 'zeilani', 'zeineth', 'zelle', 'zelyna', 'zenniah', 'zevaeh', 'zeveah', 'zhaniya', 'zhenya', 'zhiya', 'zhoe', 'ziaire', 'ziani', 'zielle', 'zimri', 'zior', 'zitlaly', 'ziyla', 'zlaty', 'zoejane', 'zohe', 'zoiee', 'zolah', 'zorey', 'zoyah', 'zriyah', 'zsazsa', 'zubaida', 'zuhal', 'zuleidy', 'zuna', 'zura', 'zuriya', 'zurri', 'zuzana', 'zyani', 'zyliyah', 'zylynn', 'zynovia', 'zyona', 'zyri', 'zyrihanna'], which appear 5 times in the dataset.\n"
     ]
    }
   ],
   "source": [
    "my_min_girls = min(girls.values())\n",
    "\n",
    "uncommon_girls_names = []\n",
    "\n",
    "for name in girls.keys():\n",
    "    if girls[name] == my_min_girls:\n",
    "        uncommon_girls_names.append(name)\n",
    "        \n",
    "\n",
    "print(f\"The most uncommon girls names are {uncommon_girls_names}, which appear {my_min_girls} times in the dataset.\")"
   ]
  },
  {
   "cell_type": "markdown",
   "metadata": {},
   "source": [
    "### How often do the least common names occur? (Does your answer to this question bother you? Why?)"
   ]
  },
  {
   "cell_type": "code",
   "execution_count": 28,
   "metadata": {},
   "outputs": [
    {
     "name": "stdout",
     "output_type": "stream",
     "text": [
      "The most uncommon boys names appear 5 times and the most uncommon girls names appear 5 times.\n"
     ]
    }
   ],
   "source": [
    "print(f\"The most uncommon boys names appear {my_min_boys} times \\\n",
    "and the most uncommon girls names appear {my_min_girls} times.\")"
   ]
  },
  {
   "cell_type": "markdown",
   "metadata": {},
   "source": [
    "This is a suspicious result because there are so many at 5 and then the data is cut off; plus both are 5. This suggests the dataset is truncated to not include the names with a lower frequency."
   ]
  },
  {
   "cell_type": "markdown",
   "metadata": {},
   "source": [
    "## 4 She wasn't long for this dataset"
   ]
  },
  {
   "cell_type": "markdown",
   "metadata": {},
   "source": [
    "### What is the longest name in the dataset? How many boys/girls names are exactly that length? What's going on?"
   ]
  },
  {
   "cell_type": "code",
   "execution_count": 29,
   "metadata": {},
   "outputs": [
    {
     "name": "stdout",
     "output_type": "stream",
     "text": [
      "The longest boys names are ['christopherjohn', 'muhammadibrahim'], which are 15 characters long.\n"
     ]
    }
   ],
   "source": [
    "longest_boy_length = len(max(boys.keys(), key=len))\n",
    "longnamed_boys = []\n",
    "\n",
    "for name in boys.keys():\n",
    "    if len(name) == longest_boy_length:\n",
    "        longnamed_boys.append(name)\n",
    "\n",
    "print(f\"The longest boys names are {longnamed_boys}, which are {longest_boy_length} characters long.\")"
   ]
  },
  {
   "cell_type": "code",
   "execution_count": 30,
   "metadata": {},
   "outputs": [
    {
     "name": "stdout",
     "output_type": "stream",
     "text": [
      "14\n",
      "The longest girls names are ['mariadelcarmen', 'mariaguadalupe', 'mariavalentina'], which are 14 characters long.\n"
     ]
    }
   ],
   "source": [
    "longest_girl_length = len(max(girls.keys(), key=len))\n",
    "print(longest_girl_length)\n",
    "## at 14, the longest girl is shorter than the longest boy. I'm curious now about longest girls!\n",
    "longnamed_girls = []\n",
    "\n",
    "for name in girls.keys():\n",
    "    if len(name) == longest_girl_length:\n",
    "        longnamed_girls.append(name)\n",
    "\n",
    "print(f\"The longest girls names are {longnamed_girls}, which are {longest_girl_length} characters long.\")"
   ]
  },
  {
   "cell_type": "markdown",
   "metadata": {},
   "source": [
    "## 5 Initials to spreadsheets\n"
   ]
  },
  {
   "cell_type": "markdown",
   "metadata": {},
   "source": [
    "### 1 Make a dictionary girl_initials that says, for each letter of the alphabet (a-z), how many unique girl names begin with that letter."
   ]
  },
  {
   "cell_type": "code",
   "execution_count": 31,
   "metadata": {},
   "outputs": [
    {
     "name": "stdout",
     "output_type": "stream",
     "text": [
      "{'o': 174, 'e': 995, 'c': 775, 'a': 2739, 's': 1227, 'i': 379, 'm': 1524, 'h': 471, 'l': 1024, 'g': 322, 'p': 270, 'n': 745, 'v': 209, 'r': 896, 'z': 528, 'w': 138, 'k': 1571, 'd': 702, 'b': 602, 'j': 1087, 'q': 41, 'x': 86, 'f': 210, 't': 521, 'y': 280, 'u': 28}\n"
     ]
    }
   ],
   "source": [
    "girl_initials = {}\n",
    "\n",
    "for girlname in girls.keys():\n",
    "    if girlname[0] in girl_initials.keys():\n",
    "        girl_initials[girlname[0]] += 1 #increment because I found another one\n",
    "    else:\n",
    "        girl_initials[girlname[0]] = 1 #set up the initials to begin with\n",
    "        \n",
    "print(girl_initials)"
   ]
  },
  {
   "cell_type": "markdown",
   "metadata": {},
   "source": [
    "### 2 Do the same for boy names to make boy_initials."
   ]
  },
  {
   "cell_type": "code",
   "execution_count": 32,
   "metadata": {},
   "outputs": [
    {
     "name": "stdout",
     "output_type": "stream",
     "text": [
      "{'l': 528, 'n': 442, 'o': 251, 'e': 606, 'j': 1191, 'w': 206, 'b': 626, 'h': 406, 't': 691, 'a': 1599, 'm': 942, 'd': 865, 's': 819, 'g': 318, 'c': 692, 'i': 251, 'r': 776, 'k': 1352, 'p': 209, 'x': 72, 'v': 165, 'z': 415, 'f': 214, 'q': 52, 'u': 43, 'y': 262}\n"
     ]
    }
   ],
   "source": [
    "boy_initials = {}\n",
    "\n",
    "for boyname in boys.keys():\n",
    "    if boyname[0] in boy_initials.keys():\n",
    "        boy_initials[boyname[0]] += 1 #increment because I found another one\n",
    "    else:\n",
    "        boy_initials[boyname[0]] = 1 #set up the initials to begin with\n",
    "        \n",
    "print(boy_initials)"
   ]
  },
  {
   "cell_type": "markdown",
   "metadata": {},
   "source": [
    "### 3. Create a \"tab separated values\" (TSV) file that reports the data in girl_initials. Be sure to include a descriptive header columns! You will probably want the file to end with .tsv so that your computer knows it's a TSV file."
   ]
  },
  {
   "cell_type": "code",
   "execution_count": 33,
   "metadata": {},
   "outputs": [],
   "source": [
    "with open(\"girl_initials.tsv\", 'w') as my_file:\n",
    "    print(\"initial\\tcount\", file=my_file)\n",
    "    for initial in girl_initials.keys():\n",
    "        print(f\"{initial}\\t{girl_initials[initial]}\", file=my_file)"
   ]
  },
  {
   "cell_type": "markdown",
   "metadata": {},
   "source": [
    "### 4. Now do the same for boy_initials (be sure to save it into a different file!)"
   ]
  },
  {
   "cell_type": "code",
   "execution_count": 34,
   "metadata": {},
   "outputs": [],
   "source": [
    "with open(\"boy_initials.tsv\", 'w') as my_file:\n",
    "    print(\"initial\\tcount\", file=my_file)\n",
    "    for initial in boy_initials.keys():\n",
    "        print(f\"{initial}\\t{boy_initials[initial]}\", file=my_file)"
   ]
  },
  {
   "cell_type": "markdown",
   "metadata": {},
   "source": [
    "### 5. Once you've done this, load up the two files into Google Sheets or Excel."
   ]
  },
  {
   "cell_type": "markdown",
   "metadata": {},
   "source": [
    "### 6. For every letter, be ready to tell if there are more boys names or girls names."
   ]
  },
  {
   "cell_type": "code",
   "execution_count": 35,
   "metadata": {},
   "outputs": [
    {
     "name": "stdout",
     "output_type": "stream",
     "text": [
      "Fewer girls start with o than boys.\n",
      "More girls start with e than boys.\n",
      "More girls start with c than boys.\n",
      "More girls start with a than boys.\n",
      "More girls start with s than boys.\n",
      "More girls start with i than boys.\n",
      "More girls start with m than boys.\n",
      "More girls start with h than boys.\n",
      "More girls start with l than boys.\n",
      "More girls start with g than boys.\n",
      "More girls start with p than boys.\n",
      "More girls start with n than boys.\n",
      "More girls start with v than boys.\n",
      "More girls start with r than boys.\n",
      "More girls start with z than boys.\n",
      "Fewer girls start with w than boys.\n",
      "More girls start with k than boys.\n",
      "Fewer girls start with d than boys.\n",
      "Fewer girls start with b than boys.\n",
      "Fewer girls start with j than boys.\n",
      "Fewer girls start with q than boys.\n",
      "More girls start with x than boys.\n",
      "Fewer girls start with f than boys.\n",
      "Fewer girls start with t than boys.\n",
      "More girls start with y than boys.\n",
      "Fewer girls start with u than boys.\n"
     ]
    }
   ],
   "source": [
    "for key in girl_initials.keys():\n",
    "    if girl_initials[key] > boy_initials[key]:\n",
    "        print(f\"More girls start with {key} than boys.\")\n",
    "    elif girl_initials[key] < boy_initials[key]:\n",
    "        print(f\"Fewer girls start with {key} than boys.\")\n",
    "    else:\n",
    "        print(f\"Somehow, equal numbers of boys and girls names start with {key}.\")"
   ]
  },
  {
   "cell_type": "markdown",
   "metadata": {},
   "source": [
    "### 7. Play around with graphing and see if you can build some instructive graph that shows us something."
   ]
  },
  {
   "cell_type": "code",
   "execution_count": 36,
   "metadata": {},
   "outputs": [
    {
     "ename": "SyntaxError",
     "evalue": "invalid syntax (<ipython-input-36-e149ada27405>, line 1)",
     "output_type": "error",
     "traceback": [
      "\u001b[0;36m  File \u001b[0;32m\"<ipython-input-36-e149ada27405>\"\u001b[0;36m, line \u001b[0;32m1\u001b[0m\n\u001b[0;31m    Check out the correlation between boys/girls first letter!\u001b[0m\n\u001b[0m            ^\u001b[0m\n\u001b[0;31mSyntaxError\u001b[0m\u001b[0;31m:\u001b[0m invalid syntax\n"
     ]
    }
   ],
   "source": [
    "Check out the correlation between boys/girls first letter! "
   ]
  },
  {
   "cell_type": "markdown",
   "metadata": {},
   "source": [
    "## 6 Concentration in names"
   ]
  },
  {
   "cell_type": "markdown",
   "metadata": {},
   "source": [
    "### 1 What percentage of boys have one of the 10 most popular boys names? What percentage of girls have one of the 10 most popular girls names?"
   ]
  },
  {
   "cell_type": "markdown",
   "metadata": {},
   "source": [
    "My idea: I don't need to know the names, just the number with the most popular name. Figure out the most popular boys (girls) names. Add to a total, then remove the entry from the dict."
   ]
  },
  {
   "cell_type": "code",
   "execution_count": null,
   "metadata": {},
   "outputs": [],
   "source": [
    "boys_temp = boys.copy() #make a copy because I'm going to start editing the dictionary\n",
    "boys_editable = boys.copy()\n",
    "top_boynames_total = 0\n",
    "\n",
    "for i in range(1,11): #run 10x\n",
    "    flag = False \n",
    "    top_boynames_total += max(boys_temp.values())\n",
    "    print(f\"The top is {max(boys_temp.values())}\")\n",
    "    for key in boys_temp.keys():\n",
    "        if not flag:\n",
    "            if boys_temp[key] == max(boys_temp.values()):\n",
    "                flag=True #only match once per i\n",
    "                print(f\"Now removing {boys_temp[key]} for the top name {key}.\")\n",
    "                del boys_editable[key]\n",
    "    boys_temp = boys_editable.copy() #update with cleaned version\n",
    "\n",
    "print(f\"The number of boys with top 10 boynames is {top_boynames_total}\")"
   ]
  },
  {
   "cell_type": "code",
   "execution_count": null,
   "metadata": {},
   "outputs": [],
   "source": [
    "girls_temp = girls.copy() #make a copy because I'm going to start editing the dictionary\n",
    "girls_editable = girls.copy()\n",
    "top_girlnames_total = 0\n",
    "\n",
    "for i in range(1,11): #run 10x\n",
    "    flag = False \n",
    "    top_girlnames_total += max(girls_temp.values())\n",
    "    print(f\"The top is {max(girls_temp.values())}\")\n",
    "    for key in girls_temp.keys():\n",
    "        if not flag:\n",
    "            if girls_temp[key] == max(girls_temp.values()):\n",
    "                flag=True #only match once per i\n",
    "                print(f\"Now removing {girls_temp[key]} for the top name {key}.\")\n",
    "                del girls_editable[key]\n",
    "    girls_temp = girls_editable.copy() #update with cleaned version\n",
    "\n",
    "print(f\"The number of girls with top 10 girlnames is {top_girlnames_total}\")"
   ]
  },
  {
   "cell_type": "code",
   "execution_count": null,
   "metadata": {},
   "outputs": [],
   "source": [
    "numBoys = 0 # initialize these so I know if I make an error below\n",
    "numGirls = 0\n",
    "##how many boys in dataset?\n",
    "for name in boys.keys():\n",
    "    numBoys += boys[name]\n",
    "numBoys\n",
    "##how many girls in dataset?\n",
    "\n",
    "for name in girls.keys():\n",
    "    numGirls += girls[name]\n",
    "numGirls\n",
    "print(f\"There are {numBoys} boys; {top_boynames_total} of them have a top 10 name. \\\n",
    "The proportion of boys with top boy names is {top_boynames_total/numBoys}.\")\n",
    "print(f\"There are {numGirls} girls; {top_girlnames_total} of them have a top 10 name. \\\n",
    "The proportion of girls with top girl names is {top_girlnames_total/numGirls}.\")"
   ]
  },
  {
   "cell_type": "markdown",
   "metadata": {},
   "source": [
    "### 2 Take the top 10% most popular boys names. How many girl were given that name? Take the top 10% most popular girls names. How many boys have that name?"
   ]
  },
  {
   "cell_type": "markdown",
   "metadata": {},
   "source": [
    "First I need to figure out what is meant by 'the top 10% most popular name'. I think there's multiple ways to read this, but the way I interpret it, instead of 'top 10', it's 'top n' where n is .1 * unique names. "
   ]
  },
  {
   "cell_type": "code",
   "execution_count": null,
   "metadata": {
    "scrolled": true
   },
   "outputs": [],
   "source": [
    "numGirlNames = len(girls.keys())\n",
    "top10P = int(.1 * numGirlNames) #drop the pesky decimal\n",
    "top10PGirlname = []\n",
    "boysWithTop10PGirlName = 0\n",
    "## we have to assume a sorted dictionary to make this work, otherwise we would've needed to sort\n",
    "top10PGirlname = list(girls.keys())[:top10P] \n",
    "\n",
    "\n",
    "for name in top10PGirlname:\n",
    "    if name in boys.keys():\n",
    "        boysWithTop10PGirlName += boys[name]\n",
    "\n",
    "print(f\"The number of boys with a top 10% girlname is {boysWithTop10PGirlName}.\")"
   ]
  },
  {
   "cell_type": "code",
   "execution_count": null,
   "metadata": {},
   "outputs": [],
   "source": [
    "numBoyNames = len(boys.keys())\n",
    "top10P = int(.1 * numBoyNames) #drop the pesky decimal\n",
    "top10PBoyname = []\n",
    "girlsWithTop10PBoyName = 0\n",
    "## we have to assume a sorted dictionary to make this work, otherwise we would've needed to sort\n",
    "top10PBoyname = list(boys.keys())[:top10P] \n",
    "#print(top10PBoyname)\n",
    "\n",
    "for name in top10PBoyname:\n",
    "    if name in girls.keys():\n",
    "        girlsWithTop10PBoyName += girls[name]\n",
    "\n",
    "print(f\"The number of girls with a top 10% boyname is {girlsWithTop10PBoyName}.\")"
   ]
  },
  {
   "cell_type": "markdown",
   "metadata": {},
   "source": [
    "## 7 Something extra"
   ]
  },
  {
   "cell_type": "markdown",
   "metadata": {},
   "source": [
    "### Discover at least one fact about the names that is not listed above! Include the code, and a description of your observation written in English text, into your notebook."
   ]
  },
  {
   "cell_type": "markdown",
   "metadata": {},
   "source": [
    "When my mom named me, she was given the advice that 'lea' was 'the feminine spelling of lee'. How many girlnames end in 'lea' versus 'lee'? How many boynames? My bet is that boys are not typically named with lea at the end but that at this point there are more girlnames ending in lee than there are girlnames ending in lea (making the advice technically correct but not very widely followed).\n"
   ]
  },
  {
   "cell_type": "code",
   "execution_count": null,
   "metadata": {},
   "outputs": [],
   "source": [
    "leeNames_g = []\n",
    "leaNames_g = []\n",
    "leeNames_b = []\n",
    "leaNames_b = []\n",
    "\n",
    "for name in girls.keys():\n",
    "    if name[-3:] == 'lee':\n",
    "        leeNames_g.append(name)\n",
    "    elif name[-3:] == 'lea':\n",
    "        leaNames_g.append(name)\n",
    "        \n",
    "for name in boys.keys():\n",
    "    if name[-3:] == 'lee':\n",
    "        leeNames_b.append(name)\n",
    "    elif name[-3:] == 'lea':\n",
    "        leaNames_b.append(name)\n",
    "        \n",
    "print(leeNames_g)\n",
    "print(leaNames_g)\n",
    "\n",
    "print(leeNames_b)\n",
    "print(leaNames_b)\n",
    "\n",
    "print(f\"There are {len(leeNames_g)} girlnames ending in 'lee', and {len(leaNames_g)} girlnames ending in 'lea'.\")\n",
    "print(f\"By contrast...there are {len(leeNames_b)} boynames ending in 'lee', and {len(leaNames_b)} boynames ending in 'lea'.\")"
   ]
  },
  {
   "cell_type": "markdown",
   "metadata": {},
   "source": [
    "## 8. Thinking about this dataset"
   ]
  },
  {
   "cell_type": "markdown",
   "metadata": {},
   "source": [
    "What are some questions you have about this dataset and it was collected or created? What is at least two challenges that people creating this dataset must have faced? How did they resolve them? What are some assumptions they faced? "
   ]
  },
  {
   "cell_type": "markdown",
   "metadata": {},
   "source": [
    "The fact that the dataset is cut off is kinda problematic. It would be useful to at least know how many names are missing. Ideally I'd rather have all the names. Why were they cut off? How did they decide? How do they handle early mortality? How do they avoid double counting names that change early in life? It seems like they resolve low frequencies by not including them, but it's not clear why. There are a ton of assumptions in here about sex and gender. I'm also not clear how they handle first names with spaces in them; presumably they just ignore the space? Another issue in here is that the names are recorded as boys and girls, which is gender, and gender is not a binary -- also, I know that babies are recorded with a sex at birth, and intersex people exist. So where are they?"
   ]
  },
  {
   "cell_type": "code",
   "execution_count": null,
   "metadata": {},
   "outputs": [],
   "source": []
  },
  {
   "cell_type": "code",
   "execution_count": null,
   "metadata": {},
   "outputs": [],
   "source": []
  }
 ],
 "metadata": {
  "kernelspec": {
   "display_name": "Python 3",
   "language": "python",
   "name": "python3"
  },
  "language_info": {
   "codemirror_mode": {
    "name": "ipython",
    "version": 3
   },
   "file_extension": ".py",
   "mimetype": "text/x-python",
   "name": "python",
   "nbconvert_exporter": "python",
   "pygments_lexer": "ipython3",
   "version": "3.7.3"
  }
 },
 "nbformat": 4,
 "nbformat_minor": 2
}
