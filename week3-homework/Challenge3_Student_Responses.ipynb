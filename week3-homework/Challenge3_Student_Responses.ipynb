{
 "cells": [
  {
   "cell_type": "markdown",
   "metadata": {},
   "source": [
    "# 0. Kaylea's Super Fun Tips of the Week"
   ]
  },
  {
   "cell_type": "markdown",
   "metadata": {},
   "source": [
    "## Unit of Analysis"
   ]
  },
  {
   "cell_type": "markdown",
   "metadata": {},
   "source": [
    "    - What is it?\n",
    "    - Why do we care?"
   ]
  },
  {
   "cell_type": "markdown",
   "metadata": {},
   "source": [
    "## Github Features"
   ]
  },
  {
   "cell_type": "markdown",
   "metadata": {},
   "source": [
    "    - What should we do if we have a new version to turn in?\n",
    "    - https://github.com/kayleachampion/spr23_CDSW/\n",
    "    - History is public!\n",
    "    - Don't upload any secrets....!"
   ]
  },
  {
   "cell_type": "markdown",
   "metadata": {},
   "source": [
    "## Common errors"
   ]
  },
  {
   "cell_type": "markdown",
   "metadata": {},
   "source": [
    "    - Assuming a single minimum :( :(\n",
    "    - Seemingly simple questions can have challenging algorithms!"
   ]
  },
  {
   "cell_type": "code",
   "execution_count": 3,
   "metadata": {},
   "outputs": [],
   "source": [
    "from ssadata import boys, girls"
   ]
  },
  {
   "cell_type": "markdown",
   "metadata": {},
   "source": [
    "## 1. Your own name. Starring....Jeet!"
   ]
  },
  {
   "cell_type": "markdown",
   "metadata": {},
   "source": [
    "### Search for your own name. Are there both boys and girls that have your name? Is your name more popular for one group than for the other? "
   ]
  },
  {
   "cell_type": "code",
   "execution_count": null,
   "metadata": {},
   "outputs": [],
   "source": [
    "if \"jeet\" in boys.keys():\n",
    "    print (\"There are\", boys[\"jeet\"], \"boys with my name.\")\n",
    "else:\n",
    "    print(\"There are no boys named Jeet.\")\n",
    "\n",
    "if \"jeet\" in girls.keys():\n",
    "    print (\"There are\", girls[\"jeet\"], \"girls with my name.\")\n",
    "else:\n",
    "    print(\"There are no girls named Jeet.\")\n",
    "\n",
    "\n",
    "    "
   ]
  },
  {
   "cell_type": "markdown",
   "metadata": {},
   "source": [
    "## 2 Every baby counts...Starring...Sadaf!"
   ]
  },
  {
   "cell_type": "code",
   "execution_count": null,
   "metadata": {},
   "outputs": [],
   "source": [
    "len(boys)"
   ]
  },
  {
   "cell_type": "code",
   "execution_count": null,
   "metadata": {},
   "outputs": [],
   "source": [
    "len(girls)"
   ]
  },
  {
   "cell_type": "code",
   "execution_count": null,
   "metadata": {},
   "outputs": [],
   "source": [
    "# How many boys and girls (actual babies!) are described in the dataset?\n",
    "len(boys.values())"
   ]
  },
  {
   "cell_type": "code",
   "execution_count": null,
   "metadata": {},
   "outputs": [],
   "source": [
    "len(girls.values())"
   ]
  },
  {
   "cell_type": "code",
   "execution_count": null,
   "metadata": {},
   "outputs": [],
   "source": [
    "sum(boys.values())+sum(girls.values())"
   ]
  },
  {
   "cell_type": "code",
   "execution_count": null,
   "metadata": {},
   "outputs": [],
   "source": [
    "kiddie_counter = 0\n",
    "name_counter = 0\n",
    "\n",
    "for name in boys.keys():\n",
    "    name_counter = name_counter + 1\n",
    "    kiddie_counter = kiddie_counter + boys[name]\n",
    "    \n",
    "for name in girls.keys():\n",
    "    name_counter = name_counter + 1\n",
    "    kiddie_counter = kiddie_counter + girls[name]\n",
    "    \n",
    "print(f\"I have data on {name_counter} names overall.\")\n",
    "print(f\"I have data on {kiddie_counter} kids overall.\")"
   ]
  },
  {
   "cell_type": "markdown",
   "metadata": {},
   "source": [
    "## 3 A sense of what's common"
   ]
  },
  {
   "cell_type": "markdown",
   "metadata": {},
   "source": [
    "### What is the most common name for each gender in 2021? Starring....Lucy!"
   ]
  },
  {
   "cell_type": "code",
   "execution_count": 17,
   "metadata": {},
   "outputs": [
    {
     "name": "stdout",
     "output_type": "stream",
     "text": [
      "The most common name for girl is olivia\n",
      "The most common name for boy is liam\n"
     ]
    }
   ],
   "source": [
    "most_common_girl_name = max(girls.values())\n",
    "\n",
    "for name in girls.keys():\n",
    "    if girls[name] ==  most_common_girl_name:\n",
    "        print(\"The most common name for girl is \" + name)\n",
    "\n",
    "most_common_boy_name = max(boys.values())\n",
    "\n",
    "for name in boys.keys():\n",
    "    if boys[name] ==  most_common_boy_name:\n",
    "        print(\"The most common name for boy is \" + name)\n",
    "\n"
   ]
  },
  {
   "cell_type": "markdown",
   "metadata": {},
   "source": [
    "### What's the least common name for each gender in 2021? Starring....Maniti!"
   ]
  },
  {
   "cell_type": "code",
   "execution_count": null,
   "metadata": {},
   "outputs": [],
   "source": [
    "least_common_name_value = 20272\n",
    "least_common_boy_names = []\n",
    "least_common_girl_names = []\n",
    "\n",
    "for everyname in boys.keys():\n",
    "    if boys[everyname] < least_common_name_value:\n",
    "        least_common_name_value = boys[everyname]\n",
    "        least_common_boy_names = [everyname]\n",
    "    elif boys[everyname] == least_common_name_value:\n",
    "        least_common_boy_names.append(everyname)\n",
    "   \n",
    "print(least_common_boy_names)\n",
    "    \n",
    "for everyname in girls.keys() : \n",
    "    if girls[everyname] < least_common_name_value:\n",
    "        least_common_name_value = girls[everyname]\n",
    "        least_common_girl_names = [everyname]\n",
    "    elif girls[everyname] == least_common_name_value:\n",
    "        least_common_girl_names.append(everyname)\n",
    "        \n",
    "print(least_common_girl_names)"
   ]
  },
  {
   "cell_type": "markdown",
   "metadata": {},
   "source": [
    "### How often do the least common names occur? (Does your answer to this question bother you? Why?) Starring....Sean!"
   ]
  },
  {
   "cell_type": "code",
   "execution_count": null,
   "metadata": {},
   "outputs": [],
   "source": [
    "\n",
    "\n",
    "least_common_boy = min(boys, key=boys.get)\n",
    "least_common_girl = min(girls, key=girls.get)\n",
    "\n",
    "print(f\"The least common girls name is {least_common_girl} with {girls[least_common_girl]} occurences\")\n",
    "print(f\"The least common boys name is {least_common_boy} with {boys[least_common_boy]} occurences\")\n",
    "\n",
    "The least common girls name is aabha with 5 occurences\n",
    "The least common boys name is aadith with 5 occurences\n",
    "\n",
    "#Question 3.3\n",
    "\n",
    "#Yeah, it I definitely have some questions for the people who provided this data - why are there dozens of names\n",
    "#with 5 occurences and no names with 4 occurences. I also would ask about why Python chose aabha and aadith as the\n",
    "#least common names, but I suspect it has something with their positions in the dataset.\n",
    "\n"
   ]
  },
  {
   "cell_type": "markdown",
   "metadata": {},
   "source": [
    "## 4 She wasn't long for this dataset"
   ]
  },
  {
   "cell_type": "markdown",
   "metadata": {},
   "source": [
    "### What is the longest name in the dataset? How many boys/girls names are exactly that length? What's going on? Starring...Daisy!"
   ]
  },
  {
   "cell_type": "code",
   "execution_count": 19,
   "metadata": {},
   "outputs": [
    {
     "name": "stdout",
     "output_type": "stream",
     "text": [
      "15\n",
      "14\n",
      "15\n",
      "2\n",
      "0\n"
     ]
    }
   ],
   "source": [
    "\n",
    "longest_boy_length = 0\n",
    "for name in boys.keys():\n",
    "    if len(name) > longest_boy_length:\n",
    "        longest_boy_length = len(name)\n",
    "print(longest_boy_length)\n",
    "\n",
    "longest_girl_length = 0\n",
    "for name in girls.keys():\n",
    "    if len(name) > longest_girl_length:\n",
    "        longest_girl_length = len(name)\n",
    "print(longest_girl_length)\n",
    "\n",
    "longest_length = max(longest_boy_length,longest_girl_length)\n",
    "print(longest_length)\n",
    "    \n",
    "longest_boy_name_count = 0\n",
    "for name in boys.keys():\n",
    "    if len(name) == longest_length:\n",
    "        longest_boy_name_count += 1\n",
    "print(longest_boy_name_count)\n",
    "\n",
    "longest_girl_name_count = 0\n",
    "for name in girls.keys():\n",
    "    if len(name) == longest_length:\n",
    "        longest_girl_name_count += 1\n",
    "print(longest_girl_name_count)"
   ]
  },
  {
   "cell_type": "markdown",
   "metadata": {},
   "source": [
    "#### Observation from Kaylea:\n",
    "#### If we used the boy max on the whole dataset, we'd only get boys.\n",
    "#### If we used the girl max on the whole dataset, we'd get a bunch of boys as well as the longest girls (but not the longest boys!)"
   ]
  },
  {
   "cell_type": "markdown",
   "metadata": {},
   "source": [
    "## 5 Initials to spreadsheets. Starring....Lori!\n"
   ]
  },
  {
   "cell_type": "markdown",
   "metadata": {},
   "source": [
    "### 1 Make a dictionary girl_initials that says, for each letter of the alphabet (a-z), how many unique girl names begin with that letter."
   ]
  },
  {
   "cell_type": "code",
   "execution_count": 22,
   "metadata": {},
   "outputs": [
    {
     "data": {
      "text/plain": [
       "{'o': 174,\n",
       " 'e': 995,\n",
       " 'c': 775,\n",
       " 'a': 2739,\n",
       " 's': 1227,\n",
       " 'i': 379,\n",
       " 'm': 1524,\n",
       " 'h': 471,\n",
       " 'l': 1024,\n",
       " 'g': 322,\n",
       " 'p': 270,\n",
       " 'n': 745,\n",
       " 'v': 209,\n",
       " 'r': 896,\n",
       " 'z': 528,\n",
       " 'w': 138,\n",
       " 'k': 1571,\n",
       " 'd': 702,\n",
       " 'b': 602,\n",
       " 'j': 1087,\n",
       " 'q': 41,\n",
       " 'x': 86,\n",
       " 'f': 210,\n",
       " 't': 521,\n",
       " 'y': 280,\n",
       " 'u': 28}"
      ]
     },
     "execution_count": 22,
     "metadata": {},
     "output_type": "execute_result"
    }
   ],
   "source": [
    "girl_initials = {}\n",
    "\n",
    "for names in girls.keys():\n",
    "    first_letter = names[0]\n",
    "    if first_letter in girl_initials.keys():\n",
    "        girl_initials[first_letter] += 1       \n",
    "    else:\n",
    "        girl_initials[first_letter] = 1\n",
    "\n",
    "girl_initials"
   ]
  },
  {
   "cell_type": "markdown",
   "metadata": {},
   "source": [
    "### 2 Do the same for boy names to make boy_initials. "
   ]
  },
  {
   "cell_type": "code",
   "execution_count": null,
   "metadata": {},
   "outputs": [],
   "source": [
    "\n",
    "\n",
    "##5.2Do the same for boy names to make boy_initials.\n",
    "boy_initials = {}\n",
    "\n",
    "for names in boys.keys():\n",
    "    first_letter = names[0]\n",
    "    if first_letter in boy_initials.keys():\n",
    "        boy_initials[first_letter] += 1       \n",
    "    else:\n",
    "        boy_initials[first_letter] = 1\n",
    "\n",
    "boy_initials\n",
    "\n"
   ]
  },
  {
   "cell_type": "markdown",
   "metadata": {},
   "source": [
    "### 3. Create a \"tab separated values\" (TSV) file that reports the data in girl_initials. Be sure to include a descriptive header columns! You will probably want the file to end with .tsv so that your computer knows it's a TSV file."
   ]
  },
  {
   "cell_type": "code",
   "execution_count": null,
   "metadata": {},
   "outputs": [],
   "source": [
    "##5.3Create a \"tab separated values\" (TSV) file that reports the data in girl_initials. Be sure to include a descriptive header columns! You will probably want the file to end with .tsv so that your computer knows it's a TSV file.\n",
    "with open(\"girl_initials.tsv\", \"w\") as my_file:\n",
    "    print(\"letter \\t number of unique names\", file = my_file)\n",
    "    for letter in girl_initials.keys():\n",
    "        print(f\"{letter}\\t{girl_initials[letter]}\", file=my_file)"
   ]
  },
  {
   "cell_type": "markdown",
   "metadata": {},
   "source": [
    "### 4. Now do the same for boy_initials (be sure to save it into a different file!)"
   ]
  },
  {
   "cell_type": "code",
   "execution_count": null,
   "metadata": {},
   "outputs": [],
   "source": [
    "##5.4 Now do the same for boy_initials (be sure to save it into a different file!)\n",
    "with open(\"boy_initials.tsv\", \"w\") as my_file:\n",
    "    print(\"letter \\t number of unique names\", file = my_file)\n",
    "    for letter in boy_initials.keys():\n",
    "        print(f\"{letter}\\t{boy_initials[letter]}\", file=my_file)"
   ]
  },
  {
   "cell_type": "markdown",
   "metadata": {},
   "source": [
    "### 5. Once you've done this, load up the two files into Google Sheets or Excel."
   ]
  },
  {
   "cell_type": "markdown",
   "metadata": {},
   "source": [
    "### 6. For every letter, be ready to tell if there are more boys names or girls names."
   ]
  },
  {
   "cell_type": "code",
   "execution_count": null,
   "metadata": {},
   "outputs": [],
   "source": [
    "for letter in boy_initials.keys():\n",
    "    if letter in girl_initials.keys():\n",
    "        if boy_initials[letter]>girl_initials[letter]:\n",
    "            print(letter,\"Boys are more\")\n",
    "        elif boy_initials[letter]<girl_initials[letter]:\n",
    "            print(letter,\"Girls are more\")\n",
    "        else:\n",
    "            print(letter,\"Exact same!\")\n",
    "    else:\n",
    "        print(letter,\"just boy have this\" )"
   ]
  },
  {
   "cell_type": "markdown",
   "metadata": {},
   "source": [
    "### 7. Play around with graphing and see if you can build some instructive graph that shows us something."
   ]
  },
  {
   "cell_type": "markdown",
   "metadata": {},
   "source": [
    "Note: Remove this link before uploading to github!!!!! ---\\/"
   ]
  },
  {
   "cell_type": "markdown",
   "metadata": {},
   "source": [
    "https://docs.google.com/spreadsheets/d/1PfMTGmSm8GDYdzVxYMJjbJcHY4ZzFcXHtPjPKlzLepg/edit?usp=sharing"
   ]
  },
  {
   "cell_type": "markdown",
   "metadata": {},
   "source": [
    "## 6 Concentration in names...Starring...Mako!"
   ]
  },
  {
   "cell_type": "code",
   "execution_count": 5,
   "metadata": {},
   "outputs": [
    {
     "name": "stdout",
     "output_type": "stream",
     "text": [
      "for girls: 0.07668376459192992\n",
      "for boys: 0.07779841397885114\n"
     ]
    }
   ],
   "source": [
    "##Mako's approach uses some prior setup\n",
    "\n",
    "\n",
    "datasets = {'girls' : girls,\n",
    "            'boys' : boys }\n",
    "total_babies_by_gender = {'girls':0, 'boys':0}\n",
    "\n",
    "for gender in datasets.keys():\n",
    "    dataset = datasets[gender]\n",
    "    \n",
    "    for name in dataset.keys():\n",
    "        total_babies_by_gender[gender] += dataset[name]\n",
    "\n",
    "## here's the solution to this problem\n",
    "\n",
    "for gender in datasets.keys():\n",
    "    dataset = datasets[gender]\n",
    "    \n",
    "    top_names = {'PLACEHOLDER' : 0}\n",
    "    for name in dataset:\n",
    "        if dataset[name] > min(top_names.values()):\n",
    "            # if we have more than 10 already, we need to delete the lowest one\n",
    "            if len(top_names) == 10:\n",
    "                removed_name = \"\"\n",
    "                for top_name in top_names:\n",
    "                    # we iterate for every name and if it's the minimum value, we mark it for deletion\n",
    "                    if min(top_names.values()) == top_names[top_name]:\n",
    "                        removed_name = top_name\n",
    "                # and then we drop it\n",
    "                del top_names[removed_name]\n",
    "            \n",
    "            # once we've made room (or if there was already room) we add it\n",
    "            top_names[name] = dataset[name]\n",
    "    \n",
    "    # count up a subtotal\n",
    "    subtotal = 0\n",
    "    for count in top_names.values():\n",
    "        subtotal += count\n",
    "        \n",
    "    print(f\"for {gender}:\", subtotal / total_babies_by_gender[gender])"
   ]
  },
  {
   "cell_type": "markdown",
   "metadata": {},
   "source": [
    "### We would have looked at Julie's but she is absent:"
   ]
  },
  {
   "cell_type": "code",
   "execution_count": 23,
   "metadata": {},
   "outputs": [
    {
     "name": "stdout",
     "output_type": "stream",
     "text": [
      "about 8% of boys have one of the 10 most popular boys names\n",
      "about 8% of girls have one of the 10 most popular girls names\n"
     ]
    }
   ],
   "source": [
    "#Top 10 most popular boys names\n",
    "top10boys = []\n",
    "for value in sorted(boys.values(), reverse=True)[:10]:\n",
    "    top10boys.append(value)\n",
    "#print(top10boys)\n",
    "\n",
    "#count up the number of top 10 names' values\n",
    "numtopten = sum(top10boys)\n",
    "#print(numtopten)\n",
    "\n",
    "#count up the total number of values\n",
    "numallboys = sum(boys.values())\n",
    "#print(numallboys)\n",
    "\n",
    "#do some math\n",
    "maths = numtopten/numallboys\n",
    "#print(maths)\n",
    "\n",
    "#make this a percentage\n",
    "percentage = \"{:.0%}\".format(maths)\n",
    "\n",
    "print (\"about \" + percentage + \" of boys have one of the 10 most popular boys names\")\n",
    "\n",
    "\n",
    "#What percentage of girls have one of the 10 most popular girls names?\n",
    "\n",
    "#Top 10 most popular girls names\n",
    "top10girls = []\n",
    "for value in sorted(girls.values(), reverse=True)[:10]:\n",
    "    top10girls.append(value)\n",
    "#print(top10girls)\n",
    "\n",
    "#count up the number of top 10 names' values\n",
    "numtoptengirls = sum(top10girls)\n",
    "#print(numtoptengirls)\n",
    "\n",
    "#count up the total number of values\n",
    "numallgirls = sum(girls.values())\n",
    "#print(numallgirls)\n",
    "\n",
    "#do some math\n",
    "mathsgirls = numtoptengirls/numallgirls\n",
    "#print(mathsgirls)\n",
    "\n",
    "#make this a percentage\n",
    "percentagegirls = \"{:.0%}\".format(mathsgirls)\n",
    "\n",
    "print (\"about \" + percentagegirls + \" of girls have one of the 10 most popular girls names\")\n"
   ]
  },
  {
   "cell_type": "markdown",
   "metadata": {},
   "source": [
    "### 2 Take the top 10% most popular boys names. How many girl were given that name? Take the top 10% most popular girls names. How many boys have that name? Starring....Josh!"
   ]
  },
  {
   "cell_type": "code",
   "execution_count": 7,
   "metadata": {},
   "outputs": [
    {
     "name": "stdout",
     "output_type": "stream",
     "text": [
      "7.8% of boys have a top-10 name.\n",
      "7.7% of girls have a top-10 name.\n",
      "1399.3\n",
      "1754.4\n",
      "150954 girls were given a top-10% boys name\n",
      "186604 boys were given a top-10% girls name\n"
     ]
    }
   ],
   "source": [
    "# Part 1\n",
    "\n",
    "# The names are in the dictionary in order of popularity already.\n",
    "# (Conveniently enough.)\n",
    "# So we can just take the first 10.\n",
    "\n",
    "# Actually, I'll do the same trick I do in part 2, with `sum`:\n",
    "\n",
    "count_boys = sum(boys.values())\n",
    "count_boys_top_10 = sum(list(boys.values())[:10])\n",
    "# NOTE: I tried \"sum(boys.values()[:10])\" first, and it said:\n",
    "#   'dict_values' object is not subscriptable\n",
    "# That cued me in that boys.values() is a special kind of list, so I\n",
    "# just wrapped it in `list` to make it a normal kind of list. Not at\n",
    "# all obvious!\n",
    "print(f\"{count_boys_top_10 / count_boys :.1%} of boys have a top-10 name.\")\n",
    "# The \":.1%\" thing above is a bit of magic formatting I looked up.\n",
    "\n",
    "count_girls = sum(girls.values())\n",
    "count_girls_top_10 = sum(list(girls.values())[:10])\n",
    "print(f\"{count_girls_top_10 / count_girls :.1%} of girls have a top-10 name.\")\n",
    "\n",
    "# Huh, that's surprising!\n",
    "# I'd heard that boys names were more concentrated, but that doesn't\n",
    "# seem to be visible at the top-10 level.\n",
    "\n",
    "# Part 2\n",
    "\n",
    "# First, figure out what top 10% means.\n",
    "\n",
    "print(len(boys.values()) / 10)\n",
    "print(len(girls.values()) / 10)\n",
    "\n",
    "1399.3\n",
    "1754.4\n",
    "\n",
    "# Now do the math.\n",
    "\n",
    "girls_with_top_10pct_boys_names = 0\n",
    "for name in list(boys.keys())[:1399]:\n",
    "    # NOTE: We use .get with a default of 0 to deal with missing names\n",
    "    girls_with_top_10pct_boys_names += girls.get(name, 0)\n",
    "print(f\"{girls_with_top_10pct_boys_names} girls were given a top-10% boys name\")\n",
    "\n",
    "boys_with_top_10pct_girls_names = 0\n",
    "for name in list(girls.keys())[:1399]:\n",
    "    # NOTE: We use .get with a default of 0 to deal with missing names\n",
    "    boys_with_top_10pct_girls_names += boys.get(name, 0)\n",
    "print(f\"{boys_with_top_10pct_girls_names} boys were given a top-10% girls name\")\n",
    "\n",
    "# Another surprise...\n",
    "# The most popular girls names were more popular for boys than the\n",
    "# most popular boys names were for girls!\n",
    "\n"
   ]
  },
  {
   "cell_type": "markdown",
   "metadata": {},
   "source": [
    "# Spot the Bug!"
   ]
  },
  {
   "cell_type": "raw",
   "metadata": {},
   "source": [
    "\n",
    "\n",
    "---------------------------------------------------------------------------\n",
    "ModuleNotFoundError                       Traceback (most recent call last)\n",
    "Cell In[3], line 1\n",
    "----> 1 from ssadata import boys, girls\n",
    "\n",
    "ModuleNotFoundError: No module named 'ssadata'\n",
    "\n"
   ]
  },
  {
   "cell_type": "markdown",
   "metadata": {},
   "source": [
    "\n",
    "from ssadata import boys\n",
    "max(boys.values)\n",
    "\n",
    "---------------------------------------------------------------------------\n",
    "TypeError                                 Traceback (most recent call last)\n",
    "Cell In[33], line 2\n",
    "      1 from ssadata import boys\n",
    "----> 2 max(boys.values)\n",
    "\n",
    "TypeError: 'builtin_function_or_method' object is not iterable\n",
    "\n"
   ]
  },
  {
   "cell_type": "code",
   "execution_count": null,
   "metadata": {},
   "outputs": [],
   "source": []
  },
  {
   "cell_type": "code",
   "execution_count": 24,
   "metadata": {},
   "outputs": [
    {
     "name": "stdout",
     "output_type": "stream",
     "text": [
      "The name does not exist\n"
     ]
    }
   ],
   "source": [
    "## QUESTION 1\n",
    "if name == \"joseph\" in girls.keys() or name == \"joseph\" in boys.keys():\n",
    "        print(\"The name joseph exists in the list of names\")\n",
    "else:\n",
    "        print(\"The name does not exist\")"
   ]
  },
  {
   "cell_type": "code",
   "execution_count": null,
   "metadata": {},
   "outputs": [],
   "source": [
    "## Question 7 (something extra) -- seeking 'shortest name in the dataset'\n",
    "\n",
    "shortest_name_boys = min(boys,key=len)\n",
    "count_shortest_names_boys = 0\n",
    "for current_name in boys.keys():\n",
    "    if longest_name_boys == len(current_name):\n",
    "        count_longest_names_boys = count_longest_names_boys +1\n",
    "\n",
    "shortest_name_girls = min(girls,key=len)\n",
    "shortest_longest_names_girls = 0\n",
    "for current_name in girls.keys():\n",
    "    if longest_name_girls == len(current_name):\n",
    "        count_longest_names_girls = count_longest_names_girls +1\n",
    "\n",
    "print(\"What is the shortest name in the dataset? How many boys/girls names are exactly that length? What's going on?\")\n",
    "print(\"boys:\"+shortest_name_boys+\", and there are exactly \"+str(count_shortest_names_boys)+\" with same length\")\n",
    "print(\"girls:\"+shortest_name_girls+\", and there are exactly \"+str(shortest_longest_names_girls)+\" with same length\")\n"
   ]
  },
  {
   "cell_type": "markdown",
   "metadata": {},
   "source": [
    "## 8. Thinking about this dataset"
   ]
  },
  {
   "cell_type": "markdown",
   "metadata": {},
   "source": [
    "What are some questions you have about this dataset and it was collected or created? What is at least two challenges that people creating this dataset must have faced? How did they resolve them? What are some assumptions they faced? "
   ]
  },
  {
   "cell_type": "markdown",
   "metadata": {},
   "source": [
    "From Nick:\n",
    "    \n",
    "    \n",
    "\n",
    "IS this dataset just included citizens of the U.S? Just people that can get a social security number? Does this dataset include resident aliens?\n",
    "\n",
    "Challenges: I think it would very diffcult to include the same name that is spelled differently. Especially for name that are spelled differently that are in both the boys and girls categories. Do they go back and revist this year for corrections and additions? Especailly on the beggining of the year of the end of the year? Where does it catelog? I imagine they go back and reanalyze the data to correct mispellings and time. We know that social security does corrections. Assumptons: Does social security assume that all Nicholas's are Nick's as well?"
   ]
  },
  {
   "cell_type": "markdown",
   "metadata": {},
   "source": [
    "From Sadaf:\n",
    "\n",
    "Questions: I am interested to know what are the biases embeded in this dataset and who has access to it.\n",
    "\n",
    "Challenges: _ Creating a dataset that is inclusive can be challenging _ getting access to the raw data can be a challenge as well \n",
    "\n"
   ]
  },
  {
   "cell_type": "markdown",
   "metadata": {},
   "source": [
    "From Sean:\n",
    "\n",
    "I question how the creators of this data set decided what the minimum and maximun length for names to be\n",
    "included on this list were, as well as the minimum number occurences in order for a name to be counted. And\n",
    "what other constraints to this data there is that were not reported. I'm sure they had to worry about fradulent\n",
    "requests, which were mitigated by having a minimum number of names. Also pranks and obscence names, which joke\n",
    "names seem to have been omitted from this dataset. I think they assumed that they only counted legal registered\n",
    "names, and names for undocumented babies would not be counted."
   ]
  },
  {
   "cell_type": "markdown",
   "metadata": {},
   "source": [
    "From Lucy:\n",
    "    \n",
    "\n",
    "How were the data for names and genders collected? What is the accuracy of this dataset?\n",
    "\n",
    "Why are there no names with less than 5 babies? Was this a deliberate choice?\n",
    "\n",
    "When collecting data, there may be additional information collected, such as location, date of birth, ethnicity, and so on.I am interested in exploring whether there is a relationship between location and baby names.\n"
   ]
  },
  {
   "cell_type": "markdown",
   "metadata": {},
   "source": [
    "From Yue:\n",
    "    \n",
    "    \n",
    "\n",
    "Questions:\n",
    "\n",
    "    What criteria were used to select the names included in the dataset?\n",
    "    How reliable is the dataset in terms of accuracy and completeness?\n",
    "\n",
    "Challenges:\n",
    "\n",
    "    Data cleaning and standardization: The creators would have had to deal with a large amount of raw data that might have included errors, inconsistencies, and missing values. They would have had to develop algorithms and procedures to clean and standardize the data in order to make it usable for analysis.\n",
    "\n",
    "    Privacy concerns: The dataset includes personal information such as names and birth dates, which could raise privacy concerns. The creators would have had to take steps to protect the privacy of individuals included in the dataset, such as removing or obscuring identifying information.\n",
    "\n",
    "How to address those challenges:\n",
    "\n",
    "    Automated data cleaning tools\n",
    "\n",
    "    Anonymization techniques, like strict access controls, the right to erasure of information, also known as the right to be forgotten, can be restated as the entitlement to have personal data deleted or removed.\n",
    "\n",
    "Assumptions: The dataset reflects the gender of individuals based on their names, which might present some preferences and bias\n",
    "\n",
    "The names included in the dataset are representative of the broader population of children born in the United States during the time period covered by the dataset.\n"
   ]
  },
  {
   "cell_type": "markdown",
   "metadata": {},
   "source": [
    "Dionna:\n",
    "    - Where were these names pulled from? Does this include homebirths? Is this just in the US?\n",
    "    - Challenge 1 - 2021 was a prime time for COVID, how was this data collected? Did they have to change any of their methods?\n",
    "    - Challenge 2 - How did this data account for privacy? Is that why there's a cut off at names for less than five individuals?\n",
    "    - Assumptions - They assume that all babies are accounted for (reported, documented) \n"
   ]
  },
  {
   "cell_type": "code",
   "execution_count": null,
   "metadata": {},
   "outputs": [],
   "source": []
  }
 ],
 "metadata": {
  "kernelspec": {
   "display_name": "Python 3",
   "language": "python",
   "name": "python3"
  },
  "language_info": {
   "codemirror_mode": {
    "name": "ipython",
    "version": 3
   },
   "file_extension": ".py",
   "mimetype": "text/x-python",
   "name": "python",
   "nbconvert_exporter": "python",
   "pygments_lexer": "ipython3",
   "version": "3.7.3"
  }
 },
 "nbformat": 4,
 "nbformat_minor": 2
}
